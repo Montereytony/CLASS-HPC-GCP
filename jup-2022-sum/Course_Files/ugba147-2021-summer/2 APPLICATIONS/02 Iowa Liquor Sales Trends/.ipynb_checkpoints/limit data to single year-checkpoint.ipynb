{
 "cells": [
  {
   "cell_type": "markdown",
   "metadata": {},
   "source": [
    "Dataset: State of Iowa, Department of Commerce, Retail Liquor Sales (https://data.iowa.gov/Economy/Iowa-Liquor-Sales/m3tr-qhgy)"
   ]
  },
  {
   "cell_type": "code",
   "execution_count": 1,
   "metadata": {},
   "outputs": [
    {
     "data": {
      "text/html": [
       "<p style=\"text-align:center; font-size:10px;\">\n",
       ".................................................... start of document ....................................................\n",
       "</p>"
      ]
     },
     "metadata": {},
     "output_type": "display_data"
    }
   ],
   "source": [
    "f = \"setup.R\"; for (i in 1:10) { if (file.exists(f)) break else f = paste0(\"../\", f) }; source(f)"
   ]
  },
  {
   "cell_type": "code",
   "execution_count": 2,
   "metadata": {},
   "outputs": [
    {
     "data": {
      "text/html": [
       "<table>\n",
       "<thead><tr><th scope=col>Date</th><th scope=col>Store.Number</th><th scope=col>Store.Name</th><th scope=col>Sale..Dollars.</th><th scope=col>Volume.Sold..Liters.</th></tr></thead>\n",
       "<tbody>\n",
       "\t<tr><td>03/16/2016                        </td><td>3762                              </td><td>Wine and Spirits Gallery          </td><td>10.85                             </td><td> 1.0                              </td></tr>\n",
       "\t<tr><td>07/15/2019                        </td><td>4320                              </td><td>Fareway Stores #470 / Perry       </td><td>94.50                             </td><td>10.5                              </td></tr>\n",
       "\t<tr><td>07/01/2020                        </td><td>2643                              </td><td>Hy-Vee Wine and Spirits / Waterloo</td><td>97.44                             </td><td> 3.5                              </td></tr>\n",
       "</tbody>\n",
       "</table>\n"
      ],
      "text/latex": [
       "\\begin{tabular}{r|lllll}\n",
       " Date & Store.Number & Store.Name & Sale..Dollars. & Volume.Sold..Liters.\\\\\n",
       "\\hline\n",
       "\t 03/16/2016                         & 3762                               & Wine and Spirits Gallery           & 10.85                              &  1.0                              \\\\\n",
       "\t 07/15/2019                           & 4320                                 & Fareway Stores \\#470 / Perry        & 94.50                                & 10.5                                \\\\\n",
       "\t 07/01/2020                         & 2643                               & Hy-Vee Wine and Spirits / Waterloo & 97.44                              &  3.5                              \\\\\n",
       "\\end{tabular}\n"
      ],
      "text/markdown": [
       "\n",
       "| Date | Store.Number | Store.Name | Sale..Dollars. | Volume.Sold..Liters. |\n",
       "|---|---|---|---|---|\n",
       "| 03/16/2016                         | 3762                               | Wine and Spirits Gallery           | 10.85                              |  1.0                               |\n",
       "| 07/15/2019                         | 4320                               | Fareway Stores #470 / Perry        | 94.50                              | 10.5                               |\n",
       "| 07/01/2020                         | 2643                               | Hy-Vee Wine and Spirits / Waterloo | 97.44                              |  3.5                               |\n",
       "\n"
      ],
      "text/plain": [
       "  Date       Store.Number Store.Name                         Sale..Dollars.\n",
       "1 03/16/2016 3762         Wine and Spirits Gallery           10.85         \n",
       "2 07/15/2019 4320         Fareway Stores #470 / Perry        94.50         \n",
       "3 07/01/2020 2643         Hy-Vee Wine and Spirits / Waterloo 97.44         \n",
       "  Volume.Sold..Liters.\n",
       "1  1.0                \n",
       "2 10.5                \n",
       "3  3.5                "
      ]
     },
     "metadata": {},
     "output_type": "display_data"
    },
    {
     "name": "stdout",
     "output_type": "stream",
     "text": [
      "Time difference of 24.93519 mins\n"
     ]
    }
   ],
   "source": [
    "clock.start()\n",
    "datax = read.csv(\"Iowa_Liquor_Sales.csv\")\n",
    "datax = datax[, c(2,3,4,22,23)]\n",
    "datax[1:3,]\n",
    "clock.stop()"
   ]
  },
  {
   "cell_type": "code",
   "execution_count": 3,
   "metadata": {},
   "outputs": [
    {
     "name": "stdout",
     "output_type": "stream",
     "text": [
      "Time difference of 1.176394 mins\n"
     ]
    }
   ],
   "source": [
    "clock.start()\n",
    "x = mdy(datax$Date)\n",
    "clock.stop()"
   ]
  },
  {
   "cell_type": "code",
   "execution_count": 4,
   "metadata": {},
   "outputs": [
    {
     "name": "stdout",
     "output_type": "stream",
     "text": [
      "Time difference of 25.03365 secs\n"
     ]
    }
   ],
   "source": [
    "clock.start()\n",
    "datax$year = year(x)\n",
    "datax$month = month(x)\n",
    "datax$day = day(x)\n",
    "clock.stop()"
   ]
  },
  {
   "cell_type": "code",
   "execution_count": 5,
   "metadata": {},
   "outputs": [],
   "source": [
    "datax$Date = NULL"
   ]
  },
  {
   "cell_type": "code",
   "execution_count": 6,
   "metadata": {},
   "outputs": [],
   "source": [
    "colnames(datax) = c(\"store_ID\",\"store_name\",\"sale.dollars\",\"volume.gallons\",\"year\",\"month\",\"day\")"
   ]
  },
  {
   "cell_type": "code",
   "execution_count": 7,
   "metadata": {
    "scrolled": true
   },
   "outputs": [
    {
     "data": {
      "text/html": [
       "<table>\n",
       "<thead><tr><th scope=col>store_ID</th><th scope=col>store_name</th><th scope=col>sale.dollars</th><th scope=col>volume.gallons</th><th scope=col>year</th><th scope=col>month</th><th scope=col>day</th></tr></thead>\n",
       "<tbody>\n",
       "\t<tr><td>3762                              </td><td>Wine and Spirits Gallery          </td><td>10.85                             </td><td> 1.0                              </td><td>2016                              </td><td>3                                 </td><td>16                                </td></tr>\n",
       "\t<tr><td>4320                              </td><td>Fareway Stores #470 / Perry       </td><td>94.50                             </td><td>10.5                              </td><td>2019                              </td><td>7                                 </td><td>15                                </td></tr>\n",
       "\t<tr><td>2643                              </td><td>Hy-Vee Wine and Spirits / Waterloo</td><td>97.44                             </td><td> 3.5                              </td><td>2020                              </td><td>7                                 </td><td> 1                                </td></tr>\n",
       "</tbody>\n",
       "</table>\n"
      ],
      "text/latex": [
       "\\begin{tabular}{r|lllllll}\n",
       " store\\_ID & store\\_name & sale.dollars & volume.gallons & year & month & day\\\\\n",
       "\\hline\n",
       "\t 3762                               & Wine and Spirits Gallery           & 10.85                              &  1.0                               & 2016                               & 3                                  & 16                                \\\\\n",
       "\t 4320                                 & Fareway Stores \\#470 / Perry        & 94.50                                & 10.5                                 & 2019                                 & 7                                    & 15                                  \\\\\n",
       "\t 2643                               & Hy-Vee Wine and Spirits / Waterloo & 97.44                              &  3.5                               & 2020                               & 7                                  &  1                                \\\\\n",
       "\\end{tabular}\n"
      ],
      "text/markdown": [
       "\n",
       "| store_ID | store_name | sale.dollars | volume.gallons | year | month | day |\n",
       "|---|---|---|---|---|---|---|\n",
       "| 3762                               | Wine and Spirits Gallery           | 10.85                              |  1.0                               | 2016                               | 3                                  | 16                                 |\n",
       "| 4320                               | Fareway Stores #470 / Perry        | 94.50                              | 10.5                               | 2019                               | 7                                  | 15                                 |\n",
       "| 2643                               | Hy-Vee Wine and Spirits / Waterloo | 97.44                              |  3.5                               | 2020                               | 7                                  |  1                                 |\n",
       "\n"
      ],
      "text/plain": [
       "  store_ID store_name                         sale.dollars volume.gallons year\n",
       "1 3762     Wine and Spirits Gallery           10.85         1.0           2016\n",
       "2 4320     Fareway Stores #470 / Perry        94.50        10.5           2019\n",
       "3 2643     Hy-Vee Wine and Spirits / Waterloo 97.44         3.5           2020\n",
       "  month day\n",
       "1 3     16 \n",
       "2 7     15 \n",
       "3 7      1 "
      ]
     },
     "metadata": {},
     "output_type": "display_data"
    }
   ],
   "source": [
    "datax[1:3,]"
   ]
  },
  {
   "cell_type": "code",
   "execution_count": 8,
   "metadata": {},
   "outputs": [],
   "source": [
    "datax.2019 = datax[datax$year==2020,]\n",
    "write.csv(datax.2019, \"Iowa Liquor 2020.csv\", row.names=FALSE)"
   ]
  }
 ],
 "metadata": {
  "hide_code_all_hidden": false,
  "hide_input": false,
  "kernelspec": {
   "display_name": "R",
   "language": "R",
   "name": "ir"
  },
  "language_info": {
   "codemirror_mode": "r",
   "file_extension": ".r",
   "mimetype": "text/x-r-source",
   "name": "R",
   "pygments_lexer": "r",
   "version": "3.6.1"
  },
  "toc": {
   "base_numbering": 1,
   "nav_menu": {},
   "number_sections": true,
   "sideBar": true,
   "skip_h1_title": true,
   "title_cell": "Table of Contents",
   "title_sidebar": "Contents",
   "toc_cell": false,
   "toc_position": {
    "height": "calc(100% - 180px)",
    "left": "10px",
    "top": "150px",
    "width": "256.396px"
   },
   "toc_section_display": true,
   "toc_window_display": false
  }
 },
 "nbformat": 4,
 "nbformat_minor": 2
}
