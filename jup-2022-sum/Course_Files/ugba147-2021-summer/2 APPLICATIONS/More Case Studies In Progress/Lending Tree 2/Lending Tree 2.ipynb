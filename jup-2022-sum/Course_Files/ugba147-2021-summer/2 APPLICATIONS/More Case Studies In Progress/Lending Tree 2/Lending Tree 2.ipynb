{
 "cells": [
  {
   "cell_type": "markdown",
   "metadata": {
    "hideCode": false,
    "hidePrompt": false
   },
   "source": [
    "# Lending Tree _revisited_\n",
    "\n",
    "![](banner_lending_tree.jpg)\n",
    "\n",
    "Data Analysis Lifecycle, Kernel Density Estimation (KDE), Principal Component Analysis (PCA)<br/>\n",
    "Naive Bayes, Support Vector Machine (SVM), Neural Network, Logistic Regression, Decision Tree, k Nearest Neighbors"
   ]
  },
  {
   "cell_type": "code",
   "execution_count": 1,
   "metadata": {
    "hide_input": true,
    "scrolled": true
   },
   "outputs": [
    {
     "data": {
      "text/html": [
       "== document setup =="
      ]
     },
     "metadata": {},
     "output_type": "display_data"
    }
   ],
   "source": [
    "f = \"setup.R\"; for (i in 1:10) { if (file.exists(f)) break else f = paste0(\"../\", f) }; source(f)                                                     \n",
    "update_geom_defaults(\"point\", list(size=0.01, colour=PALETTE[1]))\n",
    "update_geom_defaults(\"vline\", list(color=\"black\", size=0.15))"
   ]
  },
  {
   "cell_type": "markdown",
   "metadata": {},
   "source": [
    "## Situation\n",
    "\n",
    "LendingTree is an online lending exchange that connects consumers with multiple lenders, banks, and credit partners who compete for business.  Since being founded in 1998 LendingTree has facilitated more than 32 million loan requests.\n",
    "\n",
    "* **Role:** Banker. \n",
    "* **Business Decision:** Lend to whom?\n",
    "* **Approach:** Use kernel density estimation and principal component analysis to look for features that distinguish known good vs. bad loans, and use that insight to inform decisions about new loan applications.  \n",
    "* **Dataset:** Lending Tree Loans 2007-2010 ()"
   ]
  },
  {
   "cell_type": "markdown",
   "metadata": {},
   "source": [
    "## Business Model"
   ]
  },
  {
   "cell_type": "markdown",
   "metadata": {},
   "source": [
    "### Influence Diagram\n",
    "\n",
    "<img src=\"business-model_lending_tree.jpg\" align=left width=600 />"
   ]
  },
  {
   "cell_type": "markdown",
   "metadata": {},
   "source": [
    "## Data "
   ]
  },
  {
   "cell_type": "code",
   "execution_count": 2,
   "metadata": {
    "hide_input": true,
    "scrolled": false
   },
   "outputs": [
    {
     "data": {
      "text/html": [
       "<table>\n",
       "<thead><tr><th scope=col>observations</th><th scope=col>variables</th></tr></thead>\n",
       "<tbody>\n",
       "\t<tr><td>887379</td><td>74    </td></tr>\n",
       "</tbody>\n",
       "</table>\n"
      ],
      "text/latex": [
       "\\begin{tabular}{r|ll}\n",
       " observations & variables\\\\\n",
       "\\hline\n",
       "\t 887379 & 74    \\\\\n",
       "\\end{tabular}\n"
      ],
      "text/markdown": [
       "\n",
       "| observations | variables |\n",
       "|---|---|\n",
       "| 887379 | 74     |\n",
       "\n"
      ],
      "text/plain": [
       "  observations variables\n",
       "1 887379       74       "
      ]
     },
     "metadata": {},
     "output_type": "display_data"
    },
    {
     "data": {
      "text/html": [
       "<table>\n",
       "<caption><left><font color=\"black\"><b>First few observations ...</b></font></left></caption>\n",
       " <thead>\n",
       "  <tr>\n",
       "   <th style=\"text-align:right;\"> id </th>\n",
       "   <th style=\"text-align:right;\"> member_id </th>\n",
       "   <th style=\"text-align:right;\"> loan_amnt </th>\n",
       "   <th style=\"text-align:right;\"> funded_amnt </th>\n",
       "   <th style=\"text-align:right;\"> funded_amnt_inv </th>\n",
       "   <th style=\"text-align:right;\"> term </th>\n",
       "   <th style=\"text-align:right;\"> int_rate </th>\n",
       "   <th style=\"text-align:right;\"> installment </th>\n",
       "   <th style=\"text-align:right;\"> grade </th>\n",
       "   <th style=\"text-align:right;\"> sub_grade </th>\n",
       "   <th style=\"text-align:right;\"> emp_title </th>\n",
       "   <th style=\"text-align:right;\"> emp_length </th>\n",
       "   <th style=\"text-align:right;\"> home_ownership </th>\n",
       "   <th style=\"text-align:right;\"> annual_inc </th>\n",
       "   <th style=\"text-align:right;\"> verification_status </th>\n",
       "   <th style=\"text-align:right;\"> issue_d </th>\n",
       "   <th style=\"text-align:right;\"> loan_status </th>\n",
       "   <th style=\"text-align:right;\"> pymnt_plan </th>\n",
       "   <th style=\"text-align:right;\"> url </th>\n",
       "   <th style=\"text-align:right;\"> desc </th>\n",
       "   <th style=\"text-align:right;\"> purpose </th>\n",
       "   <th style=\"text-align:right;\"> title </th>\n",
       "   <th style=\"text-align:right;\"> zip_code </th>\n",
       "   <th style=\"text-align:right;\"> addr_state </th>\n",
       "   <th style=\"text-align:right;\"> dti </th>\n",
       "   <th style=\"text-align:right;\"> delinq_2yrs </th>\n",
       "   <th style=\"text-align:right;\"> earliest_cr_line </th>\n",
       "   <th style=\"text-align:right;\"> inq_last_6mths </th>\n",
       "   <th style=\"text-align:right;\"> mths_since_last_delinq </th>\n",
       "   <th style=\"text-align:right;\"> mths_since_last_record </th>\n",
       "   <th style=\"text-align:right;\"> open_acc </th>\n",
       "   <th style=\"text-align:right;\"> pub_rec </th>\n",
       "   <th style=\"text-align:right;\"> revol_bal </th>\n",
       "   <th style=\"text-align:right;\"> revol_util </th>\n",
       "   <th style=\"text-align:right;\"> total_acc </th>\n",
       "   <th style=\"text-align:right;\"> initial_list_status </th>\n",
       "   <th style=\"text-align:right;\"> out_prncp </th>\n",
       "   <th style=\"text-align:right;\"> out_prncp_inv </th>\n",
       "   <th style=\"text-align:right;\"> total_pymnt </th>\n",
       "   <th style=\"text-align:right;\"> total_pymnt_inv </th>\n",
       "   <th style=\"text-align:right;\"> total_rec_prncp </th>\n",
       "   <th style=\"text-align:right;\"> total_rec_int </th>\n",
       "   <th style=\"text-align:right;\"> total_rec_late_fee </th>\n",
       "   <th style=\"text-align:right;\"> recoveries </th>\n",
       "   <th style=\"text-align:right;\"> collection_recovery_fee </th>\n",
       "   <th style=\"text-align:right;\"> last_pymnt_d </th>\n",
       "   <th style=\"text-align:right;\"> last_pymnt_amnt </th>\n",
       "   <th style=\"text-align:right;\"> next_pymnt_d </th>\n",
       "   <th style=\"text-align:right;\"> last_credit_pull_d </th>\n",
       "   <th style=\"text-align:right;\"> collections_12_mths_ex_med </th>\n",
       "   <th style=\"text-align:right;\"> mths_since_last_major_derog </th>\n",
       "   <th style=\"text-align:right;\"> policy_code </th>\n",
       "   <th style=\"text-align:right;\"> application_type </th>\n",
       "   <th style=\"text-align:right;\"> annual_inc_joint </th>\n",
       "   <th style=\"text-align:right;\"> dti_joint </th>\n",
       "   <th style=\"text-align:right;\"> verification_status_joint </th>\n",
       "   <th style=\"text-align:right;\"> acc_now_delinq </th>\n",
       "   <th style=\"text-align:right;\"> tot_coll_amt </th>\n",
       "   <th style=\"text-align:right;\"> tot_cur_bal </th>\n",
       "   <th style=\"text-align:right;\"> open_acc_6m </th>\n",
       "   <th style=\"text-align:right;\"> open_il_6m </th>\n",
       "   <th style=\"text-align:right;\"> open_il_12m </th>\n",
       "   <th style=\"text-align:right;\"> open_il_24m </th>\n",
       "   <th style=\"text-align:right;\"> mths_since_rcnt_il </th>\n",
       "   <th style=\"text-align:right;\"> total_bal_il </th>\n",
       "   <th style=\"text-align:right;\"> il_util </th>\n",
       "   <th style=\"text-align:right;\"> open_rv_12m </th>\n",
       "   <th style=\"text-align:right;\"> open_rv_24m </th>\n",
       "   <th style=\"text-align:right;\"> max_bal_bc </th>\n",
       "   <th style=\"text-align:right;\"> all_util </th>\n",
       "   <th style=\"text-align:right;\"> total_rev_hi_lim </th>\n",
       "   <th style=\"text-align:right;\"> inq_fi </th>\n",
       "   <th style=\"text-align:right;\"> total_cu_tl </th>\n",
       "   <th style=\"text-align:right;\"> inq_last_12m </th>\n",
       "  </tr>\n",
       " </thead>\n",
       "<tbody>\n",
       "  <tr>\n",
       "   <td style=\"text-align:right;\"> 1077501 </td>\n",
       "   <td style=\"text-align:right;\"> 1296599 </td>\n",
       "   <td style=\"text-align:right;\"> 5000 </td>\n",
       "   <td style=\"text-align:right;\"> 5000 </td>\n",
       "   <td style=\"text-align:right;\"> 4975 </td>\n",
       "   <td style=\"text-align:right;\"> 36 months </td>\n",
       "   <td style=\"text-align:right;\"> 10.65 </td>\n",
       "   <td style=\"text-align:right;\"> 162.87 </td>\n",
       "   <td style=\"text-align:right;\"> B </td>\n",
       "   <td style=\"text-align:right;\"> B2 </td>\n",
       "   <td style=\"text-align:right;\">  </td>\n",
       "   <td style=\"text-align:right;\"> 10+ years </td>\n",
       "   <td style=\"text-align:right;\"> RENT </td>\n",
       "   <td style=\"text-align:right;\"> 24000 </td>\n",
       "   <td style=\"text-align:right;\"> Verified </td>\n",
       "   <td style=\"text-align:right;\"> Dec-2011 </td>\n",
       "   <td style=\"text-align:right;\"> Fully Paid </td>\n",
       "   <td style=\"text-align:right;\"> n </td>\n",
       "   <td style=\"text-align:right;\"> https://www.lendingclub.com/browse/loanDetail.action?loan_id=1077501 </td>\n",
       "   <td style=\"text-align:right;\"> Borrower added on 12/22/11 &gt; I need to upgrade my business technologies.&lt;br&gt; </td>\n",
       "   <td style=\"text-align:right;\"> credit_card </td>\n",
       "   <td style=\"text-align:right;\"> Computer </td>\n",
       "   <td style=\"text-align:right;\"> 860xx </td>\n",
       "   <td style=\"text-align:right;\"> AZ </td>\n",
       "   <td style=\"text-align:right;\"> 27.65 </td>\n",
       "   <td style=\"text-align:right;\"> 0 </td>\n",
       "   <td style=\"text-align:right;\"> Jan-1985 </td>\n",
       "   <td style=\"text-align:right;\"> 1 </td>\n",
       "   <td style=\"text-align:right;\"> NA </td>\n",
       "   <td style=\"text-align:right;\"> NA </td>\n",
       "   <td style=\"text-align:right;\"> 3 </td>\n",
       "   <td style=\"text-align:right;\"> 0 </td>\n",
       "   <td style=\"text-align:right;\"> 13648 </td>\n",
       "   <td style=\"text-align:right;\"> 83.7 </td>\n",
       "   <td style=\"text-align:right;\"> 9 </td>\n",
       "   <td style=\"text-align:right;\"> f </td>\n",
       "   <td style=\"text-align:right;\"> 0 </td>\n",
       "   <td style=\"text-align:right;\"> 0 </td>\n",
       "   <td style=\"text-align:right;\"> 5861.071 </td>\n",
       "   <td style=\"text-align:right;\"> 5831.78 </td>\n",
       "   <td style=\"text-align:right;\"> 5000.00 </td>\n",
       "   <td style=\"text-align:right;\"> 861.07 </td>\n",
       "   <td style=\"text-align:right;\"> 0 </td>\n",
       "   <td style=\"text-align:right;\"> 0.00 </td>\n",
       "   <td style=\"text-align:right;\"> 0.00 </td>\n",
       "   <td style=\"text-align:right;\"> Jan-2015 </td>\n",
       "   <td style=\"text-align:right;\"> 171.62 </td>\n",
       "   <td style=\"text-align:right;\">  </td>\n",
       "   <td style=\"text-align:right;\"> Jan-2016 </td>\n",
       "   <td style=\"text-align:right;\"> 0 </td>\n",
       "   <td style=\"text-align:right;\"> NA </td>\n",
       "   <td style=\"text-align:right;\"> 1 </td>\n",
       "   <td style=\"text-align:right;\"> INDIVIDUAL </td>\n",
       "   <td style=\"text-align:right;\"> NA </td>\n",
       "   <td style=\"text-align:right;\"> NA </td>\n",
       "   <td style=\"text-align:right;\">  </td>\n",
       "   <td style=\"text-align:right;\"> 0 </td>\n",
       "   <td style=\"text-align:right;\"> NA </td>\n",
       "   <td style=\"text-align:right;\"> NA </td>\n",
       "   <td style=\"text-align:right;\"> NA </td>\n",
       "   <td style=\"text-align:right;\"> NA </td>\n",
       "   <td style=\"text-align:right;\"> NA </td>\n",
       "   <td style=\"text-align:right;\"> NA </td>\n",
       "   <td style=\"text-align:right;\"> NA </td>\n",
       "   <td style=\"text-align:right;\"> NA </td>\n",
       "   <td style=\"text-align:right;\"> NA </td>\n",
       "   <td style=\"text-align:right;\"> NA </td>\n",
       "   <td style=\"text-align:right;\"> NA </td>\n",
       "   <td style=\"text-align:right;\"> NA </td>\n",
       "   <td style=\"text-align:right;\"> NA </td>\n",
       "   <td style=\"text-align:right;\"> NA </td>\n",
       "   <td style=\"text-align:right;\"> NA </td>\n",
       "   <td style=\"text-align:right;\"> NA </td>\n",
       "   <td style=\"text-align:right;\"> NA </td>\n",
       "  </tr>\n",
       "  <tr>\n",
       "   <td style=\"text-align:right;\"> 1077430 </td>\n",
       "   <td style=\"text-align:right;\"> 1314167 </td>\n",
       "   <td style=\"text-align:right;\"> 2500 </td>\n",
       "   <td style=\"text-align:right;\"> 2500 </td>\n",
       "   <td style=\"text-align:right;\"> 2500 </td>\n",
       "   <td style=\"text-align:right;\"> 60 months </td>\n",
       "   <td style=\"text-align:right;\"> 15.27 </td>\n",
       "   <td style=\"text-align:right;\"> 59.83 </td>\n",
       "   <td style=\"text-align:right;\"> C </td>\n",
       "   <td style=\"text-align:right;\"> C4 </td>\n",
       "   <td style=\"text-align:right;\"> Ryder </td>\n",
       "   <td style=\"text-align:right;\"> &lt; 1 year </td>\n",
       "   <td style=\"text-align:right;\"> RENT </td>\n",
       "   <td style=\"text-align:right;\"> 30000 </td>\n",
       "   <td style=\"text-align:right;\"> Source Verified </td>\n",
       "   <td style=\"text-align:right;\"> Dec-2011 </td>\n",
       "   <td style=\"text-align:right;\"> Charged Off </td>\n",
       "   <td style=\"text-align:right;\"> n </td>\n",
       "   <td style=\"text-align:right;\"> https://www.lendingclub.com/browse/loanDetail.action?loan_id=1077430 </td>\n",
       "   <td style=\"text-align:right;\"> Borrower added on 12/22/11 &gt; I plan to use this money to finance the motorcycle i am looking at. I plan to have it paid off as soon as possible/when i sell my old bike. I only need this money because the deal im looking at is to good to pass up.&lt;br&gt;&lt;br&gt;  Borrower added on 12/22/11 &gt; I plan to use this money to finance the motorcycle i am looking at. I plan to have it paid off as soon as possible/when i sell my old bike.I only need this money because the deal im looking at is to good to pass up. I have finished college with an associates degree in business and its takingmeplaces&lt;br&gt; </td>\n",
       "   <td style=\"text-align:right;\"> car </td>\n",
       "   <td style=\"text-align:right;\"> bike </td>\n",
       "   <td style=\"text-align:right;\"> 309xx </td>\n",
       "   <td style=\"text-align:right;\"> GA </td>\n",
       "   <td style=\"text-align:right;\"> 1.00 </td>\n",
       "   <td style=\"text-align:right;\"> 0 </td>\n",
       "   <td style=\"text-align:right;\"> Apr-1999 </td>\n",
       "   <td style=\"text-align:right;\"> 5 </td>\n",
       "   <td style=\"text-align:right;\"> NA </td>\n",
       "   <td style=\"text-align:right;\"> NA </td>\n",
       "   <td style=\"text-align:right;\"> 3 </td>\n",
       "   <td style=\"text-align:right;\"> 0 </td>\n",
       "   <td style=\"text-align:right;\"> 1687 </td>\n",
       "   <td style=\"text-align:right;\"> 9.4 </td>\n",
       "   <td style=\"text-align:right;\"> 4 </td>\n",
       "   <td style=\"text-align:right;\"> f </td>\n",
       "   <td style=\"text-align:right;\"> 0 </td>\n",
       "   <td style=\"text-align:right;\"> 0 </td>\n",
       "   <td style=\"text-align:right;\"> 1008.710 </td>\n",
       "   <td style=\"text-align:right;\"> 1008.71 </td>\n",
       "   <td style=\"text-align:right;\"> 456.46 </td>\n",
       "   <td style=\"text-align:right;\"> 435.17 </td>\n",
       "   <td style=\"text-align:right;\"> 0 </td>\n",
       "   <td style=\"text-align:right;\"> 117.08 </td>\n",
       "   <td style=\"text-align:right;\"> 1.11 </td>\n",
       "   <td style=\"text-align:right;\"> Apr-2013 </td>\n",
       "   <td style=\"text-align:right;\"> 119.66 </td>\n",
       "   <td style=\"text-align:right;\">  </td>\n",
       "   <td style=\"text-align:right;\"> Sep-2013 </td>\n",
       "   <td style=\"text-align:right;\"> 0 </td>\n",
       "   <td style=\"text-align:right;\"> NA </td>\n",
       "   <td style=\"text-align:right;\"> 1 </td>\n",
       "   <td style=\"text-align:right;\"> INDIVIDUAL </td>\n",
       "   <td style=\"text-align:right;\"> NA </td>\n",
       "   <td style=\"text-align:right;\"> NA </td>\n",
       "   <td style=\"text-align:right;\">  </td>\n",
       "   <td style=\"text-align:right;\"> 0 </td>\n",
       "   <td style=\"text-align:right;\"> NA </td>\n",
       "   <td style=\"text-align:right;\"> NA </td>\n",
       "   <td style=\"text-align:right;\"> NA </td>\n",
       "   <td style=\"text-align:right;\"> NA </td>\n",
       "   <td style=\"text-align:right;\"> NA </td>\n",
       "   <td style=\"text-align:right;\"> NA </td>\n",
       "   <td style=\"text-align:right;\"> NA </td>\n",
       "   <td style=\"text-align:right;\"> NA </td>\n",
       "   <td style=\"text-align:right;\"> NA </td>\n",
       "   <td style=\"text-align:right;\"> NA </td>\n",
       "   <td style=\"text-align:right;\"> NA </td>\n",
       "   <td style=\"text-align:right;\"> NA </td>\n",
       "   <td style=\"text-align:right;\"> NA </td>\n",
       "   <td style=\"text-align:right;\"> NA </td>\n",
       "   <td style=\"text-align:right;\"> NA </td>\n",
       "   <td style=\"text-align:right;\"> NA </td>\n",
       "   <td style=\"text-align:right;\"> NA </td>\n",
       "  </tr>\n",
       "  <tr>\n",
       "   <td style=\"text-align:right;\"> 1077175 </td>\n",
       "   <td style=\"text-align:right;\"> 1313524 </td>\n",
       "   <td style=\"text-align:right;\"> 2400 </td>\n",
       "   <td style=\"text-align:right;\"> 2400 </td>\n",
       "   <td style=\"text-align:right;\"> 2400 </td>\n",
       "   <td style=\"text-align:right;\"> 36 months </td>\n",
       "   <td style=\"text-align:right;\"> 15.96 </td>\n",
       "   <td style=\"text-align:right;\"> 84.33 </td>\n",
       "   <td style=\"text-align:right;\"> C </td>\n",
       "   <td style=\"text-align:right;\"> C5 </td>\n",
       "   <td style=\"text-align:right;\">  </td>\n",
       "   <td style=\"text-align:right;\"> 10+ years </td>\n",
       "   <td style=\"text-align:right;\"> RENT </td>\n",
       "   <td style=\"text-align:right;\"> 12252 </td>\n",
       "   <td style=\"text-align:right;\"> Not Verified </td>\n",
       "   <td style=\"text-align:right;\"> Dec-2011 </td>\n",
       "   <td style=\"text-align:right;\"> Fully Paid </td>\n",
       "   <td style=\"text-align:right;\"> n </td>\n",
       "   <td style=\"text-align:right;\"> https://www.lendingclub.com/browse/loanDetail.action?loan_id=1077175 </td>\n",
       "   <td style=\"text-align:right;\">  </td>\n",
       "   <td style=\"text-align:right;\"> small_business </td>\n",
       "   <td style=\"text-align:right;\"> real estate business </td>\n",
       "   <td style=\"text-align:right;\"> 606xx </td>\n",
       "   <td style=\"text-align:right;\"> IL </td>\n",
       "   <td style=\"text-align:right;\"> 8.72 </td>\n",
       "   <td style=\"text-align:right;\"> 0 </td>\n",
       "   <td style=\"text-align:right;\"> Nov-2001 </td>\n",
       "   <td style=\"text-align:right;\"> 2 </td>\n",
       "   <td style=\"text-align:right;\"> NA </td>\n",
       "   <td style=\"text-align:right;\"> NA </td>\n",
       "   <td style=\"text-align:right;\"> 2 </td>\n",
       "   <td style=\"text-align:right;\"> 0 </td>\n",
       "   <td style=\"text-align:right;\"> 2956 </td>\n",
       "   <td style=\"text-align:right;\"> 98.5 </td>\n",
       "   <td style=\"text-align:right;\"> 10 </td>\n",
       "   <td style=\"text-align:right;\"> f </td>\n",
       "   <td style=\"text-align:right;\"> 0 </td>\n",
       "   <td style=\"text-align:right;\"> 0 </td>\n",
       "   <td style=\"text-align:right;\"> 3003.654 </td>\n",
       "   <td style=\"text-align:right;\"> 3003.65 </td>\n",
       "   <td style=\"text-align:right;\"> 2400.00 </td>\n",
       "   <td style=\"text-align:right;\"> 603.65 </td>\n",
       "   <td style=\"text-align:right;\"> 0 </td>\n",
       "   <td style=\"text-align:right;\"> 0.00 </td>\n",
       "   <td style=\"text-align:right;\"> 0.00 </td>\n",
       "   <td style=\"text-align:right;\"> Jun-2014 </td>\n",
       "   <td style=\"text-align:right;\"> 649.91 </td>\n",
       "   <td style=\"text-align:right;\">  </td>\n",
       "   <td style=\"text-align:right;\"> Jan-2016 </td>\n",
       "   <td style=\"text-align:right;\"> 0 </td>\n",
       "   <td style=\"text-align:right;\"> NA </td>\n",
       "   <td style=\"text-align:right;\"> 1 </td>\n",
       "   <td style=\"text-align:right;\"> INDIVIDUAL </td>\n",
       "   <td style=\"text-align:right;\"> NA </td>\n",
       "   <td style=\"text-align:right;\"> NA </td>\n",
       "   <td style=\"text-align:right;\">  </td>\n",
       "   <td style=\"text-align:right;\"> 0 </td>\n",
       "   <td style=\"text-align:right;\"> NA </td>\n",
       "   <td style=\"text-align:right;\"> NA </td>\n",
       "   <td style=\"text-align:right;\"> NA </td>\n",
       "   <td style=\"text-align:right;\"> NA </td>\n",
       "   <td style=\"text-align:right;\"> NA </td>\n",
       "   <td style=\"text-align:right;\"> NA </td>\n",
       "   <td style=\"text-align:right;\"> NA </td>\n",
       "   <td style=\"text-align:right;\"> NA </td>\n",
       "   <td style=\"text-align:right;\"> NA </td>\n",
       "   <td style=\"text-align:right;\"> NA </td>\n",
       "   <td style=\"text-align:right;\"> NA </td>\n",
       "   <td style=\"text-align:right;\"> NA </td>\n",
       "   <td style=\"text-align:right;\"> NA </td>\n",
       "   <td style=\"text-align:right;\"> NA </td>\n",
       "   <td style=\"text-align:right;\"> NA </td>\n",
       "   <td style=\"text-align:right;\"> NA </td>\n",
       "   <td style=\"text-align:right;\"> NA </td>\n",
       "  </tr>\n",
       "</tbody>\n",
       "</table>"
      ]
     },
     "metadata": {},
     "output_type": "display_data"
    }
   ],
   "source": [
    "datax = read.csv(\"Lending Tree Loans.csv\") # may take about 2 minutes\n",
    "size(datax)\n",
    "head(datax, 3) %>% caption(\"First few observations ...\", position=\"left\")"
   ]
  },
  {
   "cell_type": "markdown",
   "metadata": {},
   "source": [
    "## Prepare Data"
   ]
  },
  {
   "cell_type": "markdown",
   "metadata": {
    "hide_input": true
   },
   "source": [
    "### Select Observations"
   ]
  },
  {
   "cell_type": "markdown",
   "metadata": {},
   "source": [
    "#### Note Inactive Observations"
   ]
  },
  {
   "cell_type": "code",
   "execution_count": 3,
   "metadata": {
    "hide_input": true,
    "scrolled": false
   },
   "outputs": [
    {
     "data": {
      "text/html": [
       "<table>\n",
       "<caption><center><font color=\"black\"><b>observation counts</b></font></center></caption>\n",
       " <thead>\n",
       "  <tr>\n",
       "   <th style=\"text-align:right;\"> good </th>\n",
       "   <th style=\"text-align:right;\"> bad </th>\n",
       "   <th style=\"text-align:right;\"> total </th>\n",
       "  </tr>\n",
       " </thead>\n",
       "<tbody>\n",
       "  <tr>\n",
       "   <td style=\"text-align:right;\"> 209711 </td>\n",
       "   <td style=\"text-align:right;\"> 47228 </td>\n",
       "   <td style=\"text-align:right;\"> 256939 </td>\n",
       "  </tr>\n",
       "</tbody>\n",
       "</table>"
      ]
     },
     "metadata": {},
     "output_type": "display_data"
    }
   ],
   "source": [
    "good_labels = c(\"Fully Paid\", \"Does not meet the credit policy. Status:Fully Paid\")\n",
    "bad_labels  = c(\"Default\", \"Charged Off\", \"Does not meet the credit policy. Status:Charged Off\")\n",
    "inactive.good = which(datax$loan_status %in% good_labels)\n",
    "inactive.bad = which(datax$loan_status %in% bad_labels)\n",
    "inactive = c(inactive.good, inactive.bad)\n",
    "data.frame(good=length(inactive.good), bad=length(inactive.bad), total=length(inactive)) %>% caption(\"observation counts\")"
   ]
  },
  {
   "cell_type": "markdown",
   "metadata": {},
   "source": [
    "#### Balance Dataset"
   ]
  },
  {
   "cell_type": "code",
   "execution_count": 4,
   "metadata": {
    "hide_input": true
   },
   "outputs": [
    {
     "data": {
      "text/html": [
       "<table>\n",
       "<caption><center><font color=\"black\"><b>observation counts</b></font></center></caption>\n",
       " <thead>\n",
       "  <tr>\n",
       "   <th style=\"text-align:right;\"> good </th>\n",
       "   <th style=\"text-align:right;\"> bad </th>\n",
       "   <th style=\"text-align:right;\"> total </th>\n",
       "  </tr>\n",
       " </thead>\n",
       "<tbody>\n",
       "  <tr>\n",
       "   <td style=\"text-align:right;\"> 47228 </td>\n",
       "   <td style=\"text-align:right;\"> 47228 </td>\n",
       "   <td style=\"text-align:right;\"> 94456 </td>\n",
       "  </tr>\n",
       "</tbody>\n",
       "</table>"
      ]
     },
     "metadata": {},
     "output_type": "display_data"
    }
   ],
   "source": [
    "inactive.good = inactive.good[1:length(inactive.bad)]\n",
    "inactive = c(inactive.good, inactive.bad)\n",
    "data.frame(good=length(inactive.good), bad=length(inactive.bad), total=length(inactive)) %>% caption(\"observation counts\")"
   ]
  },
  {
   "cell_type": "markdown",
   "metadata": {},
   "source": [
    "#### Reduce Dataset Size"
   ]
  },
  {
   "cell_type": "code",
   "execution_count": 5,
   "metadata": {
    "hide_input": true
   },
   "outputs": [
    {
     "data": {
      "text/html": [
       "<table>\n",
       "<caption><center><font color=\"black\"><b>observation counts</b></font></center></caption>\n",
       " <thead>\n",
       "  <tr>\n",
       "   <th style=\"text-align:right;\"> good </th>\n",
       "   <th style=\"text-align:right;\"> bad </th>\n",
       "   <th style=\"text-align:right;\"> total </th>\n",
       "  </tr>\n",
       " </thead>\n",
       "<tbody>\n",
       "  <tr>\n",
       "   <td style=\"text-align:right;\"> 1000 </td>\n",
       "   <td style=\"text-align:right;\"> 1000 </td>\n",
       "   <td style=\"text-align:right;\"> 2000 </td>\n",
       "  </tr>\n",
       "</tbody>\n",
       "</table>"
      ]
     },
     "metadata": {},
     "output_type": "display_data"
    }
   ],
   "source": [
    "inactive.good = inactive.good[1:1000]\n",
    "inactive.bad  = inactive.bad[1:1000]\n",
    "inactive = c(inactive.good, inactive.bad)\n",
    "data.frame(good=length(inactive.good), bad=length(inactive.bad), total=length(inactive)) %>% caption(\"observation counts\")"
   ]
  },
  {
   "cell_type": "markdown",
   "metadata": {},
   "source": [
    "### Select Variables\n",
    "\n",
    "These are the convenient variables:"
   ]
  },
  {
   "cell_type": "code",
   "execution_count": 6,
   "metadata": {
    "hide_input": true
   },
   "outputs": [
    {
     "data": {
      "text/html": [
       "<ol class=list-inline>\n",
       "\t<li>3</li>\n",
       "\t<li>4</li>\n",
       "\t<li>5</li>\n",
       "\t<li>7</li>\n",
       "\t<li>8</li>\n",
       "\t<li>14</li>\n",
       "\t<li>25</li>\n",
       "\t<li>26</li>\n",
       "\t<li>28</li>\n",
       "\t<li>31</li>\n",
       "\t<li>32</li>\n",
       "\t<li>33</li>\n",
       "\t<li>35</li>\n",
       "\t<li>37</li>\n",
       "\t<li>38</li>\n",
       "\t<li>39</li>\n",
       "\t<li>40</li>\n",
       "\t<li>41</li>\n",
       "\t<li>42</li>\n",
       "\t<li>43</li>\n",
       "\t<li>44</li>\n",
       "\t<li>45</li>\n",
       "\t<li>47</li>\n",
       "</ol>\n"
      ],
      "text/latex": [
       "\\begin{enumerate*}\n",
       "\\item 3\n",
       "\\item 4\n",
       "\\item 5\n",
       "\\item 7\n",
       "\\item 8\n",
       "\\item 14\n",
       "\\item 25\n",
       "\\item 26\n",
       "\\item 28\n",
       "\\item 31\n",
       "\\item 32\n",
       "\\item 33\n",
       "\\item 35\n",
       "\\item 37\n",
       "\\item 38\n",
       "\\item 39\n",
       "\\item 40\n",
       "\\item 41\n",
       "\\item 42\n",
       "\\item 43\n",
       "\\item 44\n",
       "\\item 45\n",
       "\\item 47\n",
       "\\end{enumerate*}\n"
      ],
      "text/markdown": [
       "1. 3\n",
       "2. 4\n",
       "3. 5\n",
       "4. 7\n",
       "5. 8\n",
       "6. 14\n",
       "7. 25\n",
       "8. 26\n",
       "9. 28\n",
       "10. 31\n",
       "11. 32\n",
       "12. 33\n",
       "13. 35\n",
       "14. 37\n",
       "15. 38\n",
       "16. 39\n",
       "17. 40\n",
       "18. 41\n",
       "19. 42\n",
       "20. 43\n",
       "21. 44\n",
       "22. 45\n",
       "23. 47\n",
       "\n",
       "\n"
      ],
      "text/plain": [
       " [1]  3  4  5  7  8 14 25 26 28 31 32 33 35 37 38 39 40 41 42 43 44 45 47"
      ]
     },
     "metadata": {},
     "output_type": "display_data"
    }
   ],
   "source": [
    "m = which(!(colnames(datax) %in% c(\"id\",\"member_id\")))\n",
    "n = select_if.index(datax[inactive,], function(column) is.numeric(column))\n",
    "f = select_if.index(datax[inactive,], function(column) !any(is.na(column)))\n",
    "v = select_if.index(datax[inactive,], function(column) length(unique(column)) > 1)\n",
    "                    \n",
    "convenient_variables = intersect(intersect(m, n), intersect(f, v))\n",
    "convenient_variables"
   ]
  },
  {
   "cell_type": "markdown",
   "metadata": {},
   "source": [
    "### Prepared Data"
   ]
  },
  {
   "cell_type": "code",
   "execution_count": 7,
   "metadata": {
    "hide_input": true,
    "scrolled": false
   },
   "outputs": [
    {
     "data": {
      "text/html": [
       "<table>\n",
       "<thead><tr><th scope=col>observations</th><th scope=col>variables</th></tr></thead>\n",
       "<tbody>\n",
       "\t<tr><td>2000</td><td>23  </td></tr>\n",
       "</tbody>\n",
       "</table>\n"
      ],
      "text/latex": [
       "\\begin{tabular}{r|ll}\n",
       " observations & variables\\\\\n",
       "\\hline\n",
       "\t 2000 & 23  \\\\\n",
       "\\end{tabular}\n"
      ],
      "text/markdown": [
       "\n",
       "| observations | variables |\n",
       "|---|---|\n",
       "| 2000 | 23   |\n",
       "\n"
      ],
      "text/plain": [
       "  observations variables\n",
       "1 2000         23       "
      ]
     },
     "metadata": {},
     "output_type": "display_data"
    },
    {
     "data": {
      "text/html": [
       "<table>\n",
       "<caption><left><font color=\"black\"><b>First few observations ...</b></font></left></caption>\n",
       " <thead>\n",
       "  <tr>\n",
       "   <th style=\"text-align:right;\"> loan_amnt </th>\n",
       "   <th style=\"text-align:right;\"> funded_amnt </th>\n",
       "   <th style=\"text-align:right;\"> funded_amnt_inv </th>\n",
       "   <th style=\"text-align:right;\"> int_rate </th>\n",
       "   <th style=\"text-align:right;\"> installment </th>\n",
       "   <th style=\"text-align:right;\"> annual_inc </th>\n",
       "   <th style=\"text-align:right;\"> dti </th>\n",
       "   <th style=\"text-align:right;\"> delinq_2yrs </th>\n",
       "   <th style=\"text-align:right;\"> inq_last_6mths </th>\n",
       "   <th style=\"text-align:right;\"> open_acc </th>\n",
       "   <th style=\"text-align:right;\"> pub_rec </th>\n",
       "   <th style=\"text-align:right;\"> revol_bal </th>\n",
       "   <th style=\"text-align:right;\"> total_acc </th>\n",
       "   <th style=\"text-align:right;\"> out_prncp </th>\n",
       "   <th style=\"text-align:right;\"> out_prncp_inv </th>\n",
       "   <th style=\"text-align:right;\"> total_pymnt </th>\n",
       "   <th style=\"text-align:right;\"> total_pymnt_inv </th>\n",
       "   <th style=\"text-align:right;\"> total_rec_prncp </th>\n",
       "   <th style=\"text-align:right;\"> total_rec_int </th>\n",
       "   <th style=\"text-align:right;\"> total_rec_late_fee </th>\n",
       "   <th style=\"text-align:right;\"> recoveries </th>\n",
       "   <th style=\"text-align:right;\"> collection_recovery_fee </th>\n",
       "   <th style=\"text-align:right;\"> last_pymnt_amnt </th>\n",
       "  </tr>\n",
       " </thead>\n",
       "<tbody>\n",
       "  <tr>\n",
       "   <td style=\"text-align:right;\"> 5000 </td>\n",
       "   <td style=\"text-align:right;\"> 5000 </td>\n",
       "   <td style=\"text-align:right;\"> 4975 </td>\n",
       "   <td style=\"text-align:right;\"> 10.65 </td>\n",
       "   <td style=\"text-align:right;\"> 162.87 </td>\n",
       "   <td style=\"text-align:right;\"> 24000 </td>\n",
       "   <td style=\"text-align:right;\"> 27.65 </td>\n",
       "   <td style=\"text-align:right;\"> 0 </td>\n",
       "   <td style=\"text-align:right;\"> 1 </td>\n",
       "   <td style=\"text-align:right;\"> 3 </td>\n",
       "   <td style=\"text-align:right;\"> 0 </td>\n",
       "   <td style=\"text-align:right;\"> 13648 </td>\n",
       "   <td style=\"text-align:right;\"> 9 </td>\n",
       "   <td style=\"text-align:right;\"> 0 </td>\n",
       "   <td style=\"text-align:right;\"> 0 </td>\n",
       "   <td style=\"text-align:right;\"> 5861.071 </td>\n",
       "   <td style=\"text-align:right;\"> 5831.78 </td>\n",
       "   <td style=\"text-align:right;\"> 5000 </td>\n",
       "   <td style=\"text-align:right;\"> 861.07 </td>\n",
       "   <td style=\"text-align:right;\"> 0.00 </td>\n",
       "   <td style=\"text-align:right;\"> 0 </td>\n",
       "   <td style=\"text-align:right;\"> 0 </td>\n",
       "   <td style=\"text-align:right;\"> 171.62 </td>\n",
       "  </tr>\n",
       "  <tr>\n",
       "   <td style=\"text-align:right;\"> 2400 </td>\n",
       "   <td style=\"text-align:right;\"> 2400 </td>\n",
       "   <td style=\"text-align:right;\"> 2400 </td>\n",
       "   <td style=\"text-align:right;\"> 15.96 </td>\n",
       "   <td style=\"text-align:right;\"> 84.33 </td>\n",
       "   <td style=\"text-align:right;\"> 12252 </td>\n",
       "   <td style=\"text-align:right;\"> 8.72 </td>\n",
       "   <td style=\"text-align:right;\"> 0 </td>\n",
       "   <td style=\"text-align:right;\"> 2 </td>\n",
       "   <td style=\"text-align:right;\"> 2 </td>\n",
       "   <td style=\"text-align:right;\"> 0 </td>\n",
       "   <td style=\"text-align:right;\"> 2956 </td>\n",
       "   <td style=\"text-align:right;\"> 10 </td>\n",
       "   <td style=\"text-align:right;\"> 0 </td>\n",
       "   <td style=\"text-align:right;\"> 0 </td>\n",
       "   <td style=\"text-align:right;\"> 3003.654 </td>\n",
       "   <td style=\"text-align:right;\"> 3003.65 </td>\n",
       "   <td style=\"text-align:right;\"> 2400 </td>\n",
       "   <td style=\"text-align:right;\"> 603.65 </td>\n",
       "   <td style=\"text-align:right;\"> 0.00 </td>\n",
       "   <td style=\"text-align:right;\"> 0 </td>\n",
       "   <td style=\"text-align:right;\"> 0 </td>\n",
       "   <td style=\"text-align:right;\"> 649.91 </td>\n",
       "  </tr>\n",
       "  <tr>\n",
       "   <td style=\"text-align:right;\"> 10000 </td>\n",
       "   <td style=\"text-align:right;\"> 10000 </td>\n",
       "   <td style=\"text-align:right;\"> 10000 </td>\n",
       "   <td style=\"text-align:right;\"> 13.49 </td>\n",
       "   <td style=\"text-align:right;\"> 339.31 </td>\n",
       "   <td style=\"text-align:right;\"> 49200 </td>\n",
       "   <td style=\"text-align:right;\"> 20.00 </td>\n",
       "   <td style=\"text-align:right;\"> 0 </td>\n",
       "   <td style=\"text-align:right;\"> 1 </td>\n",
       "   <td style=\"text-align:right;\"> 10 </td>\n",
       "   <td style=\"text-align:right;\"> 0 </td>\n",
       "   <td style=\"text-align:right;\"> 5598 </td>\n",
       "   <td style=\"text-align:right;\"> 37 </td>\n",
       "   <td style=\"text-align:right;\"> 0 </td>\n",
       "   <td style=\"text-align:right;\"> 0 </td>\n",
       "   <td style=\"text-align:right;\"> 12226.302 </td>\n",
       "   <td style=\"text-align:right;\"> 12226.30 </td>\n",
       "   <td style=\"text-align:right;\"> 10000 </td>\n",
       "   <td style=\"text-align:right;\"> 2209.33 </td>\n",
       "   <td style=\"text-align:right;\"> 16.97 </td>\n",
       "   <td style=\"text-align:right;\"> 0 </td>\n",
       "   <td style=\"text-align:right;\"> 0 </td>\n",
       "   <td style=\"text-align:right;\"> 357.48 </td>\n",
       "  </tr>\n",
       "  <tr>\n",
       "   <td style=\"text-align:right;\"> 5000 </td>\n",
       "   <td style=\"text-align:right;\"> 5000 </td>\n",
       "   <td style=\"text-align:right;\"> 5000 </td>\n",
       "   <td style=\"text-align:right;\"> 7.90 </td>\n",
       "   <td style=\"text-align:right;\"> 156.46 </td>\n",
       "   <td style=\"text-align:right;\"> 36000 </td>\n",
       "   <td style=\"text-align:right;\"> 11.20 </td>\n",
       "   <td style=\"text-align:right;\"> 0 </td>\n",
       "   <td style=\"text-align:right;\"> 3 </td>\n",
       "   <td style=\"text-align:right;\"> 9 </td>\n",
       "   <td style=\"text-align:right;\"> 0 </td>\n",
       "   <td style=\"text-align:right;\"> 7963 </td>\n",
       "   <td style=\"text-align:right;\"> 12 </td>\n",
       "   <td style=\"text-align:right;\"> 0 </td>\n",
       "   <td style=\"text-align:right;\"> 0 </td>\n",
       "   <td style=\"text-align:right;\"> 5631.378 </td>\n",
       "   <td style=\"text-align:right;\"> 5631.38 </td>\n",
       "   <td style=\"text-align:right;\"> 5000 </td>\n",
       "   <td style=\"text-align:right;\"> 631.38 </td>\n",
       "   <td style=\"text-align:right;\"> 0.00 </td>\n",
       "   <td style=\"text-align:right;\"> 0 </td>\n",
       "   <td style=\"text-align:right;\"> 0 </td>\n",
       "   <td style=\"text-align:right;\"> 161.03 </td>\n",
       "  </tr>\n",
       "  <tr>\n",
       "   <td style=\"text-align:right;\"> 3000 </td>\n",
       "   <td style=\"text-align:right;\"> 3000 </td>\n",
       "   <td style=\"text-align:right;\"> 3000 </td>\n",
       "   <td style=\"text-align:right;\"> 18.64 </td>\n",
       "   <td style=\"text-align:right;\"> 109.43 </td>\n",
       "   <td style=\"text-align:right;\"> 48000 </td>\n",
       "   <td style=\"text-align:right;\"> 5.35 </td>\n",
       "   <td style=\"text-align:right;\"> 0 </td>\n",
       "   <td style=\"text-align:right;\"> 2 </td>\n",
       "   <td style=\"text-align:right;\"> 4 </td>\n",
       "   <td style=\"text-align:right;\"> 0 </td>\n",
       "   <td style=\"text-align:right;\"> 8221 </td>\n",
       "   <td style=\"text-align:right;\"> 4 </td>\n",
       "   <td style=\"text-align:right;\"> 0 </td>\n",
       "   <td style=\"text-align:right;\"> 0 </td>\n",
       "   <td style=\"text-align:right;\"> 3938.144 </td>\n",
       "   <td style=\"text-align:right;\"> 3938.14 </td>\n",
       "   <td style=\"text-align:right;\"> 3000 </td>\n",
       "   <td style=\"text-align:right;\"> 938.14 </td>\n",
       "   <td style=\"text-align:right;\"> 0.00 </td>\n",
       "   <td style=\"text-align:right;\"> 0 </td>\n",
       "   <td style=\"text-align:right;\"> 0 </td>\n",
       "   <td style=\"text-align:right;\"> 111.34 </td>\n",
       "  </tr>\n",
       "  <tr>\n",
       "   <td style=\"text-align:right;\"> 6500 </td>\n",
       "   <td style=\"text-align:right;\"> 6500 </td>\n",
       "   <td style=\"text-align:right;\"> 6500 </td>\n",
       "   <td style=\"text-align:right;\"> 14.65 </td>\n",
       "   <td style=\"text-align:right;\"> 153.45 </td>\n",
       "   <td style=\"text-align:right;\"> 72000 </td>\n",
       "   <td style=\"text-align:right;\"> 16.12 </td>\n",
       "   <td style=\"text-align:right;\"> 0 </td>\n",
       "   <td style=\"text-align:right;\"> 2 </td>\n",
       "   <td style=\"text-align:right;\"> 14 </td>\n",
       "   <td style=\"text-align:right;\"> 0 </td>\n",
       "   <td style=\"text-align:right;\"> 4032 </td>\n",
       "   <td style=\"text-align:right;\"> 23 </td>\n",
       "   <td style=\"text-align:right;\"> 0 </td>\n",
       "   <td style=\"text-align:right;\"> 0 </td>\n",
       "   <td style=\"text-align:right;\"> 7677.520 </td>\n",
       "   <td style=\"text-align:right;\"> 7677.52 </td>\n",
       "   <td style=\"text-align:right;\"> 6500 </td>\n",
       "   <td style=\"text-align:right;\"> 1177.52 </td>\n",
       "   <td style=\"text-align:right;\"> 0.00 </td>\n",
       "   <td style=\"text-align:right;\"> 0 </td>\n",
       "   <td style=\"text-align:right;\"> 0 </td>\n",
       "   <td style=\"text-align:right;\"> 1655.54 </td>\n",
       "  </tr>\n",
       "</tbody>\n",
       "</table>"
      ]
     },
     "metadata": {},
     "output_type": "display_data"
    }
   ],
   "source": [
    "data  = datax[inactive, convenient_variables]\n",
    "class = c(rep(\"good\", length(inactive.good)), rep(\"bad\", length(inactive.bad)))\n",
    "\n",
    "size(data)\n",
    "head(data) %>% caption(\"First few observations ...\", position=\"left\")"
   ]
  },
  {
   "cell_type": "markdown",
   "metadata": {},
   "source": [
    "### Prepared Data Represented as Principal Components"
   ]
  },
  {
   "cell_type": "code",
   "execution_count": 8,
   "metadata": {
    "hide_input": true,
    "scrolled": true
   },
   "outputs": [
    {
     "data": {
      "text/html": [
       "<table>\n",
       "<thead><tr><th scope=col>observations</th><th scope=col>variables</th></tr></thead>\n",
       "<tbody>\n",
       "\t<tr><td>2000</td><td>23  </td></tr>\n",
       "</tbody>\n",
       "</table>\n"
      ],
      "text/latex": [
       "\\begin{tabular}{r|ll}\n",
       " observations & variables\\\\\n",
       "\\hline\n",
       "\t 2000 & 23  \\\\\n",
       "\\end{tabular}\n"
      ],
      "text/markdown": [
       "\n",
       "| observations | variables |\n",
       "|---|---|\n",
       "| 2000 | 23   |\n",
       "\n"
      ],
      "text/plain": [
       "  observations variables\n",
       "1 2000         23       "
      ]
     },
     "metadata": {},
     "output_type": "display_data"
    },
    {
     "data": {
      "text/html": [
       "<table>\n",
       "<caption><left><font color=\"black\"><b>First few observations ...</b></font></left></caption>\n",
       " <thead>\n",
       "  <tr>\n",
       "   <th style=\"text-align:right;\"> PC1 </th>\n",
       "   <th style=\"text-align:right;\"> PC2 </th>\n",
       "   <th style=\"text-align:right;\"> PC3 </th>\n",
       "   <th style=\"text-align:right;\"> PC4 </th>\n",
       "   <th style=\"text-align:right;\"> PC5 </th>\n",
       "   <th style=\"text-align:right;\"> PC6 </th>\n",
       "   <th style=\"text-align:right;\"> PC7 </th>\n",
       "   <th style=\"text-align:right;\"> PC8 </th>\n",
       "   <th style=\"text-align:right;\"> PC9 </th>\n",
       "   <th style=\"text-align:right;\"> PC10 </th>\n",
       "   <th style=\"text-align:right;\"> PC11 </th>\n",
       "   <th style=\"text-align:right;\"> PC12 </th>\n",
       "   <th style=\"text-align:right;\"> PC13 </th>\n",
       "   <th style=\"text-align:right;\"> PC14 </th>\n",
       "   <th style=\"text-align:right;\"> PC15 </th>\n",
       "   <th style=\"text-align:right;\"> PC16 </th>\n",
       "   <th style=\"text-align:right;\"> PC17 </th>\n",
       "   <th style=\"text-align:right;\"> PC18 </th>\n",
       "   <th style=\"text-align:right;\"> PC19 </th>\n",
       "   <th style=\"text-align:right;\"> PC20 </th>\n",
       "   <th style=\"text-align:right;\"> PC21 </th>\n",
       "   <th style=\"text-align:right;\"> PC22 </th>\n",
       "   <th style=\"text-align:right;\"> PC23 </th>\n",
       "  </tr>\n",
       " </thead>\n",
       "<tbody>\n",
       "  <tr>\n",
       "   <td style=\"text-align:right;\"> -2.7677169 </td>\n",
       "   <td style=\"text-align:right;\"> -0.4647249 </td>\n",
       "   <td style=\"text-align:right;\"> 0.0477444 </td>\n",
       "   <td style=\"text-align:right;\"> -0.3461317 </td>\n",
       "   <td style=\"text-align:right;\"> -0.8366657 </td>\n",
       "   <td style=\"text-align:right;\"> 1.5347064 </td>\n",
       "   <td style=\"text-align:right;\"> 1.2830471 </td>\n",
       "   <td style=\"text-align:right;\"> -0.1930794 </td>\n",
       "   <td style=\"text-align:right;\"> -0.5520828 </td>\n",
       "   <td style=\"text-align:right;\"> 0.3606755 </td>\n",
       "   <td style=\"text-align:right;\"> 0.7174092 </td>\n",
       "   <td style=\"text-align:right;\"> 1.1877200 </td>\n",
       "   <td style=\"text-align:right;\"> 0.2792778 </td>\n",
       "   <td style=\"text-align:right;\"> 0.7242968 </td>\n",
       "   <td style=\"text-align:right;\"> 0.2712265 </td>\n",
       "   <td style=\"text-align:right;\"> 0.1170085 </td>\n",
       "   <td style=\"text-align:right;\"> -0.0389136 </td>\n",
       "   <td style=\"text-align:right;\"> -0.0315869 </td>\n",
       "   <td style=\"text-align:right;\"> 0.0072261 </td>\n",
       "   <td style=\"text-align:right;\"> -0.0029275 </td>\n",
       "   <td style=\"text-align:right;\"> 0.0009881 </td>\n",
       "   <td style=\"text-align:right;\"> -0.0000001 </td>\n",
       "   <td style=\"text-align:right;\"> 0 </td>\n",
       "  </tr>\n",
       "  <tr>\n",
       "   <td style=\"text-align:right;\"> -3.6735165 </td>\n",
       "   <td style=\"text-align:right;\"> -0.4498416 </td>\n",
       "   <td style=\"text-align:right;\"> -0.2391617 </td>\n",
       "   <td style=\"text-align:right;\"> -1.6198479 </td>\n",
       "   <td style=\"text-align:right;\"> 0.5910954 </td>\n",
       "   <td style=\"text-align:right;\"> 0.8453327 </td>\n",
       "   <td style=\"text-align:right;\"> 0.0526253 </td>\n",
       "   <td style=\"text-align:right;\"> 1.2434912 </td>\n",
       "   <td style=\"text-align:right;\"> 0.1472249 </td>\n",
       "   <td style=\"text-align:right;\"> -0.5988538 </td>\n",
       "   <td style=\"text-align:right;\"> 0.3474681 </td>\n",
       "   <td style=\"text-align:right;\"> -0.1560475 </td>\n",
       "   <td style=\"text-align:right;\"> 0.0440970 </td>\n",
       "   <td style=\"text-align:right;\"> -0.3253178 </td>\n",
       "   <td style=\"text-align:right;\"> 0.7903251 </td>\n",
       "   <td style=\"text-align:right;\"> 0.0173376 </td>\n",
       "   <td style=\"text-align:right;\"> 0.3854792 </td>\n",
       "   <td style=\"text-align:right;\"> -0.0472537 </td>\n",
       "   <td style=\"text-align:right;\"> 0.0197609 </td>\n",
       "   <td style=\"text-align:right;\"> 0.0010705 </td>\n",
       "   <td style=\"text-align:right;\"> -0.0000782 </td>\n",
       "   <td style=\"text-align:right;\"> -0.0000003 </td>\n",
       "   <td style=\"text-align:right;\"> 0 </td>\n",
       "  </tr>\n",
       "  <tr>\n",
       "   <td style=\"text-align:right;\"> -0.3168254 </td>\n",
       "   <td style=\"text-align:right;\"> 0.1808585 </td>\n",
       "   <td style=\"text-align:right;\"> 0.0815955 </td>\n",
       "   <td style=\"text-align:right;\"> 0.9791606 </td>\n",
       "   <td style=\"text-align:right;\"> 0.2630568 </td>\n",
       "   <td style=\"text-align:right;\"> 0.1305375 </td>\n",
       "   <td style=\"text-align:right;\"> 0.9411466 </td>\n",
       "   <td style=\"text-align:right;\"> -0.7203098 </td>\n",
       "   <td style=\"text-align:right;\"> -0.8534163 </td>\n",
       "   <td style=\"text-align:right;\"> -1.3153871 </td>\n",
       "   <td style=\"text-align:right;\"> -0.9842296 </td>\n",
       "   <td style=\"text-align:right;\"> -0.2913620 </td>\n",
       "   <td style=\"text-align:right;\"> 0.0541492 </td>\n",
       "   <td style=\"text-align:right;\"> 0.6772392 </td>\n",
       "   <td style=\"text-align:right;\"> 0.8840810 </td>\n",
       "   <td style=\"text-align:right;\"> -0.0069736 </td>\n",
       "   <td style=\"text-align:right;\"> 0.7114549 </td>\n",
       "   <td style=\"text-align:right;\"> 0.0075197 </td>\n",
       "   <td style=\"text-align:right;\"> 0.0168732 </td>\n",
       "   <td style=\"text-align:right;\"> -0.0023582 </td>\n",
       "   <td style=\"text-align:right;\"> 0.0000007 </td>\n",
       "   <td style=\"text-align:right;\"> -0.0000002 </td>\n",
       "   <td style=\"text-align:right;\"> 0 </td>\n",
       "  </tr>\n",
       "  <tr>\n",
       "   <td style=\"text-align:right;\"> -2.7943258 </td>\n",
       "   <td style=\"text-align:right;\"> -0.3379335 </td>\n",
       "   <td style=\"text-align:right;\"> -0.0605565 </td>\n",
       "   <td style=\"text-align:right;\"> 0.0321157 </td>\n",
       "   <td style=\"text-align:right;\"> -0.0356867 </td>\n",
       "   <td style=\"text-align:right;\"> 0.4038190 </td>\n",
       "   <td style=\"text-align:right;\"> -0.0009601 </td>\n",
       "   <td style=\"text-align:right;\"> 1.5841788 </td>\n",
       "   <td style=\"text-align:right;\"> 0.4201798 </td>\n",
       "   <td style=\"text-align:right;\"> -0.9413935 </td>\n",
       "   <td style=\"text-align:right;\"> -0.7388978 </td>\n",
       "   <td style=\"text-align:right;\"> 0.8575671 </td>\n",
       "   <td style=\"text-align:right;\"> 0.7988811 </td>\n",
       "   <td style=\"text-align:right;\"> -0.4210786 </td>\n",
       "   <td style=\"text-align:right;\"> -0.3221726 </td>\n",
       "   <td style=\"text-align:right;\"> 0.0899730 </td>\n",
       "   <td style=\"text-align:right;\"> -0.5018189 </td>\n",
       "   <td style=\"text-align:right;\"> -0.0313566 </td>\n",
       "   <td style=\"text-align:right;\"> -0.0343949 </td>\n",
       "   <td style=\"text-align:right;\"> -0.0019593 </td>\n",
       "   <td style=\"text-align:right;\"> 0.0006730 </td>\n",
       "   <td style=\"text-align:right;\"> 0.0000002 </td>\n",
       "   <td style=\"text-align:right;\"> 0 </td>\n",
       "  </tr>\n",
       "  <tr>\n",
       "   <td style=\"text-align:right;\"> -3.1396174 </td>\n",
       "   <td style=\"text-align:right;\"> -0.2370205 </td>\n",
       "   <td style=\"text-align:right;\"> -0.2566028 </td>\n",
       "   <td style=\"text-align:right;\"> -1.6486716 </td>\n",
       "   <td style=\"text-align:right;\"> 1.0567514 </td>\n",
       "   <td style=\"text-align:right;\"> 0.2063714 </td>\n",
       "   <td style=\"text-align:right;\"> -0.0789013 </td>\n",
       "   <td style=\"text-align:right;\"> 1.5684630 </td>\n",
       "   <td style=\"text-align:right;\"> 0.4533463 </td>\n",
       "   <td style=\"text-align:right;\"> -0.6376663 </td>\n",
       "   <td style=\"text-align:right;\"> 1.1373933 </td>\n",
       "   <td style=\"text-align:right;\"> -0.4806500 </td>\n",
       "   <td style=\"text-align:right;\"> 0.2739052 </td>\n",
       "   <td style=\"text-align:right;\"> -0.2930304 </td>\n",
       "   <td style=\"text-align:right;\"> 0.0316012 </td>\n",
       "   <td style=\"text-align:right;\"> -0.0625098 </td>\n",
       "   <td style=\"text-align:right;\"> 0.4539379 </td>\n",
       "   <td style=\"text-align:right;\"> -0.1216070 </td>\n",
       "   <td style=\"text-align:right;\"> 0.0429837 </td>\n",
       "   <td style=\"text-align:right;\"> 0.0046421 </td>\n",
       "   <td style=\"text-align:right;\"> -0.0002366 </td>\n",
       "   <td style=\"text-align:right;\"> -0.0000004 </td>\n",
       "   <td style=\"text-align:right;\"> 0 </td>\n",
       "  </tr>\n",
       "  <tr>\n",
       "   <td style=\"text-align:right;\"> -1.6626108 </td>\n",
       "   <td style=\"text-align:right;\"> 0.3119472 </td>\n",
       "   <td style=\"text-align:right;\"> 0.0285276 </td>\n",
       "   <td style=\"text-align:right;\"> 1.1335192 </td>\n",
       "   <td style=\"text-align:right;\"> 0.3795537 </td>\n",
       "   <td style=\"text-align:right;\"> 0.5261698 </td>\n",
       "   <td style=\"text-align:right;\"> -0.4199443 </td>\n",
       "   <td style=\"text-align:right;\"> 0.8584110 </td>\n",
       "   <td style=\"text-align:right;\"> 0.0800718 </td>\n",
       "   <td style=\"text-align:right;\"> -0.7007164 </td>\n",
       "   <td style=\"text-align:right;\"> -0.2970210 </td>\n",
       "   <td style=\"text-align:right;\"> -0.6509957 </td>\n",
       "   <td style=\"text-align:right;\"> 0.2024084 </td>\n",
       "   <td style=\"text-align:right;\"> 0.6278403 </td>\n",
       "   <td style=\"text-align:right;\"> -0.6171058 </td>\n",
       "   <td style=\"text-align:right;\"> 0.0198120 </td>\n",
       "   <td style=\"text-align:right;\"> 0.0214857 </td>\n",
       "   <td style=\"text-align:right;\"> -0.2455165 </td>\n",
       "   <td style=\"text-align:right;\"> 0.1122520 </td>\n",
       "   <td style=\"text-align:right;\"> 0.0029220 </td>\n",
       "   <td style=\"text-align:right;\"> -0.0024899 </td>\n",
       "   <td style=\"text-align:right;\"> 0.0000000 </td>\n",
       "   <td style=\"text-align:right;\"> 0 </td>\n",
       "  </tr>\n",
       "</tbody>\n",
       "</table>"
      ]
     },
     "metadata": {},
     "output_type": "display_data"
    }
   ],
   "source": [
    "pc = prcomp(data, scale=TRUE, retx=TRUE)\n",
    "data.pc = as.data.frame(pc$x)\n",
    "\n",
    "size(data.pc)\n",
    "head(data.pc) %>% caption(\"First few observations ...\", position=\"left\")"
   ]
  },
  {
   "cell_type": "markdown",
   "metadata": {},
   "source": [
    "### Qualitative Interpretation of Principal Components.\n",
    "\n",
    "Here, each column lists variable names sorted by weight applied to the principal component."
   ]
  },
  {
   "cell_type": "code",
   "execution_count": 9,
   "metadata": {
    "hide_input": true
   },
   "outputs": [
    {
     "data": {
      "text/html": [
       "<table>\n",
       "<thead><tr><th scope=col>PC1</th><th scope=col>PC2</th><th scope=col>PC3</th><th scope=col>PC4</th><th scope=col>PC5</th><th scope=col>PC6</th><th scope=col>PC7</th><th scope=col>PC8</th><th scope=col>PC9</th><th scope=col>PC10</th><th scope=col>PC11</th><th scope=col>PC12</th><th scope=col>PC13</th><th scope=col>PC14</th><th scope=col>PC15</th><th scope=col>PC16</th><th scope=col>PC17</th><th scope=col>PC18</th><th scope=col>PC19</th><th scope=col>PC20</th><th scope=col>PC21</th><th scope=col>PC22</th><th scope=col>PC23</th></tr></thead>\n",
       "<tbody>\n",
       "\t<tr><td>funded_amnt            </td><td>recoveries             </td><td>out_prncp_inv          </td><td>open_acc               </td><td>int_rate               </td><td>dti                    </td><td>delinq_2yrs            </td><td>inq_last_6mths         </td><td>delinq_2yrs            </td><td>total_rec_late_fee     </td><td>revol_bal              </td><td>int_rate               </td><td>last_pymnt_amnt        </td><td>annual_inc             </td><td>total_acc              </td><td>recoveries             </td><td>total_rec_int          </td><td>installment            </td><td>loan_amnt              </td><td>total_pymnt_inv        </td><td>funded_amnt            </td><td>total_pymnt            </td><td>out_prncp              </td></tr>\n",
       "\t<tr><td>funded_amnt_inv        </td><td>collection_recovery_fee</td><td>out_prncp              </td><td>total_acc              </td><td>collection_recovery_fee</td><td>annual_inc             </td><td>total_rec_late_fee     </td><td>pub_rec                </td><td>pub_rec                </td><td>inq_last_6mths         </td><td>int_rate               </td><td>inq_last_6mths         </td><td>total_rec_int          </td><td>revol_bal              </td><td>open_acc               </td><td>collection_recovery_fee</td><td>int_rate               </td><td>loan_amnt              </td><td>funded_amnt_inv        </td><td>funded_amnt            </td><td>funded_amnt_inv        </td><td>total_rec_prncp        </td><td>out_prncp_inv          </td></tr>\n",
       "\t<tr><td>loan_amnt              </td><td>total_rec_prncp        </td><td>dti                    </td><td>revol_bal              </td><td>recoveries             </td><td>inq_last_6mths         </td><td>dti                    </td><td>total_rec_late_fee     </td><td>total_rec_late_fee     </td><td>last_pymnt_amnt        </td><td>annual_inc             </td><td>open_acc               </td><td>total_pymnt_inv        </td><td>dti                    </td><td>total_rec_int          </td><td>total_rec_prncp        </td><td>total_rec_prncp        </td><td>total_rec_int          </td><td>funded_amnt            </td><td>funded_amnt_inv        </td><td>total_pymnt_inv        </td><td>total_rec_int          </td><td>total_pymnt            </td></tr>\n",
       "\t<tr><td>installment            </td><td>last_pymnt_amnt        </td><td>int_rate               </td><td>dti                    </td><td>delinq_2yrs            </td><td>int_rate               </td><td>pub_rec                </td><td>dti                    </td><td>dti                    </td><td>collection_recovery_fee</td><td>total_acc              </td><td>delinq_2yrs            </td><td>total_pymnt            </td><td>open_acc               </td><td>annual_inc             </td><td>installment            </td><td>last_pymnt_amnt        </td><td>total_rec_prncp        </td><td>installment            </td><td>total_rec_prncp        </td><td>total_rec_prncp        </td><td>recoveries             </td><td>total_rec_prncp        </td></tr>\n",
       "\t<tr><td>total_pymnt            </td><td>int_rate               </td><td>last_pymnt_amnt        </td><td>recoveries             </td><td>inq_last_6mths         </td><td>total_rec_late_fee     </td><td>last_pymnt_amnt        </td><td>annual_inc             </td><td>annual_inc             </td><td>funded_amnt            </td><td>last_pymnt_amnt        </td><td>revol_bal              </td><td>int_rate               </td><td>delinq_2yrs            </td><td>installment            </td><td>total_rec_int          </td><td>installment            </td><td>last_pymnt_amnt        </td><td>total_rec_int          </td><td>total_pymnt            </td><td>total_pymnt            </td><td>total_rec_late_fee     </td><td>total_rec_int          </td></tr>\n",
       "\t<tr><td>total_pymnt_inv        </td><td>total_acc              </td><td>total_rec_int          </td><td>collection_recovery_fee</td><td>total_rec_late_fee     </td><td>pub_rec                </td><td>revol_bal              </td><td>delinq_2yrs            </td><td>inq_last_6mths         </td><td>funded_amnt_inv        </td><td>open_acc               </td><td>total_rec_int          </td><td>loan_amnt              </td><td>total_acc              </td><td>revol_bal              </td><td>int_rate               </td><td>total_acc              </td><td>funded_amnt            </td><td>total_pymnt_inv        </td><td>total_rec_int          </td><td>total_rec_int          </td><td>funded_amnt            </td><td>recoveries             </td></tr>\n",
       "\t<tr><td>total_rec_int          </td><td>open_acc               </td><td>open_acc               </td><td>annual_inc             </td><td>pub_rec                </td><td>last_pymnt_amnt        </td><td>total_acc              </td><td>last_pymnt_amnt        </td><td>total_pymnt            </td><td>loan_amnt              </td><td>funded_amnt_inv        </td><td>dti                    </td><td>total_rec_prncp        </td><td>collection_recovery_fee</td><td>dti                    </td><td>last_pymnt_amnt        </td><td>open_acc               </td><td>funded_amnt_inv        </td><td>int_rate               </td><td>recoveries             </td><td>recoveries             </td><td>funded_amnt_inv        </td><td>total_rec_late_fee     </td></tr>\n",
       "\t<tr><td>total_rec_prncp        </td><td>total_pymnt_inv        </td><td>revol_bal              </td><td>int_rate               </td><td>total_rec_int          </td><td>total_rec_int          </td><td>collection_recovery_fee</td><td>open_acc               </td><td>total_pymnt_inv        </td><td>pub_rec                </td><td>funded_amnt            </td><td>pub_rec                </td><td>funded_amnt            </td><td>last_pymnt_amnt        </td><td>recoveries             </td><td>total_pymnt            </td><td>recoveries             </td><td>int_rate               </td><td>total_rec_prncp        </td><td>loan_amnt              </td><td>installment            </td><td>total_pymnt_inv        </td><td>total_pymnt_inv        </td></tr>\n",
       "\t<tr><td>annual_inc             </td><td>total_pymnt            </td><td>inq_last_6mths         </td><td>last_pymnt_amnt        </td><td>dti                    </td><td>revol_bal              </td><td>recoveries             </td><td>total_rec_int          </td><td>revol_bal              </td><td>installment            </td><td>inq_last_6mths         </td><td>installment            </td><td>funded_amnt_inv        </td><td>funded_amnt_inv        </td><td>total_rec_prncp        </td><td>total_pymnt_inv        </td><td>loan_amnt              </td><td>total_pymnt            </td><td>last_pymnt_amnt        </td><td>int_rate               </td><td>loan_amnt              </td><td>last_pymnt_amnt        </td><td>funded_amnt_inv        </td></tr>\n",
       "\t<tr><td>revol_bal              </td><td>revol_bal              </td><td>total_rec_prncp        </td><td>total_rec_int          </td><td>total_rec_prncp        </td><td>total_acc              </td><td>annual_inc             </td><td>int_rate               </td><td>loan_amnt              </td><td>total_rec_prncp        </td><td>installment            </td><td>total_acc              </td><td>inq_last_6mths         </td><td>funded_amnt            </td><td>delinq_2yrs            </td><td>annual_inc             </td><td>total_pymnt_inv        </td><td>total_pymnt_inv        </td><td>recoveries             </td><td>last_pymnt_amnt        </td><td>int_rate               </td><td>installment            </td><td>funded_amnt            </td></tr>\n",
       "\t<tr><td>last_pymnt_amnt        </td><td>inq_last_6mths         </td><td>total_acc              </td><td>inq_last_6mths         </td><td>annual_inc             </td><td>total_pymnt            </td><td>open_acc               </td><td>total_acc              </td><td>funded_amnt_inv        </td><td>total_pymnt_inv        </td><td>loan_amnt              </td><td>funded_amnt            </td><td>total_rec_late_fee     </td><td>installment            </td><td>collection_recovery_fee</td><td>open_acc               </td><td>total_pymnt            </td><td>total_acc              </td><td>annual_inc             </td><td>open_acc               </td><td>total_rec_late_fee     </td><td>revol_bal              </td><td>loan_amnt              </td></tr>\n",
       "\t<tr><td>int_rate               </td><td>dti                    </td><td>annual_inc             </td><td>funded_amnt            </td><td>total_pymnt_inv        </td><td>total_pymnt_inv        </td><td>installment            </td><td>total_pymnt            </td><td>total_rec_prncp        </td><td>dti                    </td><td>total_rec_int          </td><td>funded_amnt_inv        </td><td>revol_bal              </td><td>total_rec_int          </td><td>funded_amnt_inv        </td><td>dti                    </td><td>funded_amnt            </td><td>total_rec_late_fee     </td><td>open_acc               </td><td>dti                    </td><td>collection_recovery_fee</td><td>dti                    </td><td>int_rate               </td></tr>\n",
       "\t<tr><td>total_acc              </td><td>delinq_2yrs            </td><td>recoveries             </td><td>funded_amnt_inv        </td><td>total_pymnt            </td><td>delinq_2yrs            </td><td>total_rec_prncp        </td><td>total_pymnt_inv        </td><td>funded_amnt            </td><td>total_pymnt            </td><td>dti                    </td><td>annual_inc             </td><td>installment            </td><td>recoveries             </td><td>funded_amnt            </td><td>inq_last_6mths         </td><td>collection_recovery_fee</td><td>recoveries             </td><td>total_acc              </td><td>collection_recovery_fee</td><td>dti                    </td><td>open_acc               </td><td>pub_rec                </td></tr>\n",
       "\t<tr><td>recoveries             </td><td>total_rec_late_fee     </td><td>collection_recovery_fee</td><td>loan_amnt              </td><td>revol_bal              </td><td>installment            </td><td>funded_amnt            </td><td>revol_bal              </td><td>installment            </td><td>recoveries             </td><td>total_rec_late_fee     </td><td>total_rec_late_fee     </td><td>total_acc              </td><td>inq_last_6mths         </td><td>last_pymnt_amnt        </td><td>total_acc              </td><td>funded_amnt_inv        </td><td>revol_bal              </td><td>total_pymnt            </td><td>delinq_2yrs            </td><td>total_acc              </td><td>pub_rec                </td><td>installment            </td></tr>\n",
       "\t<tr><td>collection_recovery_fee</td><td>annual_inc             </td><td>delinq_2yrs            </td><td>total_rec_prncp        </td><td>last_pymnt_amnt        </td><td>collection_recovery_fee</td><td>funded_amnt_inv        </td><td>collection_recovery_fee</td><td>total_rec_int          </td><td>delinq_2yrs            </td><td>collection_recovery_fee</td><td>loan_amnt              </td><td>delinq_2yrs            </td><td>loan_amnt              </td><td>pub_rec                </td><td>funded_amnt_inv        </td><td>annual_inc             </td><td>open_acc               </td><td>dti                    </td><td>revol_bal              </td><td>annual_inc             </td><td>loan_amnt              </td><td>collection_recovery_fee</td></tr>\n",
       "\t<tr><td>open_acc               </td><td>funded_amnt            </td><td>total_pymnt            </td><td>installment            </td><td>loan_amnt              </td><td>total_rec_prncp        </td><td>total_pymnt_inv        </td><td>out_prncp_inv          </td><td>last_pymnt_amnt        </td><td>revol_bal              </td><td>pub_rec                </td><td>total_rec_prncp        </td><td>open_acc               </td><td>total_rec_late_fee     </td><td>out_prncp_inv          </td><td>funded_amnt            </td><td>delinq_2yrs            </td><td>delinq_2yrs            </td><td>revol_bal              </td><td>pub_rec                </td><td>last_pymnt_amnt        </td><td>inq_last_6mths         </td><td>annual_inc             </td></tr>\n",
       "\t<tr><td>total_rec_late_fee     </td><td>funded_amnt_inv        </td><td>total_pymnt_inv        </td><td>delinq_2yrs            </td><td>funded_amnt_inv        </td><td>funded_amnt_inv        </td><td>total_pymnt            </td><td>out_prncp              </td><td>int_rate               </td><td>open_acc               </td><td>total_pymnt            </td><td>total_pymnt            </td><td>dti                    </td><td>total_pymnt            </td><td>out_prncp              </td><td>loan_amnt              </td><td>inq_last_6mths         </td><td>inq_last_6mths         </td><td>inq_last_6mths         </td><td>annual_inc             </td><td>open_acc               </td><td>annual_inc             </td><td>total_acc              </td></tr>\n",
       "\t<tr><td>pub_rec                </td><td>loan_amnt              </td><td>installment            </td><td>out_prncp_inv          </td><td>funded_amnt            </td><td>funded_amnt            </td><td>loan_amnt              </td><td>total_rec_prncp        </td><td>collection_recovery_fee</td><td>int_rate               </td><td>total_pymnt_inv        </td><td>total_pymnt_inv        </td><td>recoveries             </td><td>int_rate               </td><td>total_rec_late_fee     </td><td>revol_bal              </td><td>total_rec_late_fee     </td><td>pub_rec                </td><td>pub_rec                </td><td>installment            </td><td>out_prncp              </td><td>collection_recovery_fee</td><td>dti                    </td></tr>\n",
       "\t<tr><td>dti                    </td><td>total_rec_int          </td><td>pub_rec                </td><td>out_prncp              </td><td>installment            </td><td>loan_amnt              </td><td>total_rec_int          </td><td>recoveries             </td><td>total_acc              </td><td>annual_inc             </td><td>delinq_2yrs            </td><td>collection_recovery_fee</td><td>pub_rec                </td><td>total_pymnt_inv        </td><td>int_rate               </td><td>delinq_2yrs            </td><td>dti                    </td><td>dti                    </td><td>total_rec_late_fee     </td><td>total_acc              </td><td>out_prncp_inv          </td><td>int_rate               </td><td>inq_last_6mths         </td></tr>\n",
       "\t<tr><td>inq_last_6mths         </td><td>pub_rec                </td><td>funded_amnt_inv        </td><td>total_rec_late_fee     </td><td>out_prncp_inv          </td><td>recoveries             </td><td>inq_last_6mths         </td><td>funded_amnt            </td><td>open_acc               </td><td>total_rec_int          </td><td>out_prncp              </td><td>out_prncp_inv          </td><td>out_prncp_inv          </td><td>total_rec_prncp        </td><td>total_pymnt            </td><td>total_rec_late_fee     </td><td>out_prncp              </td><td>collection_recovery_fee</td><td>out_prncp_inv          </td><td>out_prncp              </td><td>delinq_2yrs            </td><td>out_prncp_inv          </td><td>last_pymnt_amnt        </td></tr>\n",
       "\t<tr><td>out_prncp              </td><td>out_prncp_inv          </td><td>funded_amnt            </td><td>pub_rec                </td><td>out_prncp              </td><td>out_prncp_inv          </td><td>int_rate               </td><td>loan_amnt              </td><td>out_prncp              </td><td>total_acc              </td><td>out_prncp_inv          </td><td>out_prncp              </td><td>out_prncp              </td><td>pub_rec                </td><td>inq_last_6mths         </td><td>pub_rec                </td><td>out_prncp_inv          </td><td>annual_inc             </td><td>out_prncp              </td><td>out_prncp_inv          </td><td>pub_rec                </td><td>delinq_2yrs            </td><td>open_acc               </td></tr>\n",
       "\t<tr><td>out_prncp_inv          </td><td>out_prncp              </td><td>loan_amnt              </td><td>total_pymnt            </td><td>total_acc              </td><td>out_prncp              </td><td>out_prncp_inv          </td><td>funded_amnt_inv        </td><td>out_prncp_inv          </td><td>out_prncp_inv          </td><td>total_rec_prncp        </td><td>last_pymnt_amnt        </td><td>annual_inc             </td><td>out_prncp_inv          </td><td>loan_amnt              </td><td>out_prncp              </td><td>pub_rec                </td><td>out_prncp_inv          </td><td>collection_recovery_fee</td><td>total_rec_late_fee     </td><td>inq_last_6mths         </td><td>out_prncp              </td><td>revol_bal              </td></tr>\n",
       "\t<tr><td>delinq_2yrs            </td><td>installment            </td><td>total_rec_late_fee     </td><td>total_pymnt_inv        </td><td>open_acc               </td><td>open_acc               </td><td>out_prncp              </td><td>installment            </td><td>recoveries             </td><td>out_prncp              </td><td>recoveries             </td><td>recoveries             </td><td>collection_recovery_fee</td><td>out_prncp              </td><td>total_pymnt_inv        </td><td>out_prncp_inv          </td><td>revol_bal              </td><td>out_prncp              </td><td>delinq_2yrs            </td><td>inq_last_6mths         </td><td>revol_bal              </td><td>total_acc              </td><td>delinq_2yrs            </td></tr>\n",
       "</tbody>\n",
       "</table>\n"
      ],
      "text/latex": [
       "\\begin{tabular}{r|lllllllllllllllllllllll}\n",
       " PC1 & PC2 & PC3 & PC4 & PC5 & PC6 & PC7 & PC8 & PC9 & PC10 & PC11 & PC12 & PC13 & PC14 & PC15 & PC16 & PC17 & PC18 & PC19 & PC20 & PC21 & PC22 & PC23\\\\\n",
       "\\hline\n",
       "\t funded\\_amnt                 & recoveries                    & out\\_prncp\\_inv             & open\\_acc                    & int\\_rate                    & dti                           & delinq\\_2yrs                 & inq\\_last\\_6mths            & delinq\\_2yrs                 & total\\_rec\\_late\\_fee      & revol\\_bal                   & int\\_rate                    & last\\_pymnt\\_amnt           & annual\\_inc                  & total\\_acc                   & recoveries                    & total\\_rec\\_int             & installment                   & loan\\_amnt                   & total\\_pymnt\\_inv           & funded\\_amnt                 & total\\_pymnt                 & out\\_prncp                  \\\\\n",
       "\t funded\\_amnt\\_inv           & collection\\_recovery\\_fee   & out\\_prncp                   & total\\_acc                   & collection\\_recovery\\_fee   & annual\\_inc                  & total\\_rec\\_late\\_fee      & pub\\_rec                     & pub\\_rec                     & inq\\_last\\_6mths            & int\\_rate                    & inq\\_last\\_6mths            & total\\_rec\\_int             & revol\\_bal                   & open\\_acc                    & collection\\_recovery\\_fee   & int\\_rate                    & loan\\_amnt                   & funded\\_amnt\\_inv           & funded\\_amnt                 & funded\\_amnt\\_inv           & total\\_rec\\_prncp           & out\\_prncp\\_inv            \\\\\n",
       "\t loan\\_amnt                   & total\\_rec\\_prncp           & dti                           & revol\\_bal                   & recoveries                    & inq\\_last\\_6mths            & dti                           & total\\_rec\\_late\\_fee      & total\\_rec\\_late\\_fee      & last\\_pymnt\\_amnt           & annual\\_inc                  & open\\_acc                    & total\\_pymnt\\_inv           & dti                           & total\\_rec\\_int             & total\\_rec\\_prncp           & total\\_rec\\_prncp           & total\\_rec\\_int             & funded\\_amnt                 & funded\\_amnt\\_inv           & total\\_pymnt\\_inv           & total\\_rec\\_int             & total\\_pymnt                \\\\\n",
       "\t installment                 & last\\_pymnt\\_amnt         & int\\_rate                  & dti                         & delinq\\_2yrs               & int\\_rate                  & pub\\_rec                   & dti                         & dti                         & collection\\_recovery\\_fee & total\\_acc                 & delinq\\_2yrs               & total\\_pymnt               & open\\_acc                  & annual\\_inc                & installment                 & last\\_pymnt\\_amnt         & total\\_rec\\_prncp         & installment                 & total\\_rec\\_prncp         & total\\_rec\\_prncp         & recoveries                  & total\\_rec\\_prncp        \\\\\n",
       "\t total\\_pymnt                 & int\\_rate                    & last\\_pymnt\\_amnt           & recoveries                    & inq\\_last\\_6mths            & total\\_rec\\_late\\_fee      & last\\_pymnt\\_amnt           & annual\\_inc                  & annual\\_inc                  & funded\\_amnt                 & last\\_pymnt\\_amnt           & revol\\_bal                   & int\\_rate                    & delinq\\_2yrs                 & installment                   & total\\_rec\\_int             & installment                   & last\\_pymnt\\_amnt           & total\\_rec\\_int             & total\\_pymnt                 & total\\_pymnt                 & total\\_rec\\_late\\_fee      & total\\_rec\\_int            \\\\\n",
       "\t total\\_pymnt\\_inv           & total\\_acc                   & total\\_rec\\_int             & collection\\_recovery\\_fee   & total\\_rec\\_late\\_fee      & pub\\_rec                     & revol\\_bal                   & delinq\\_2yrs                 & inq\\_last\\_6mths            & funded\\_amnt\\_inv           & open\\_acc                    & total\\_rec\\_int             & loan\\_amnt                   & total\\_acc                   & revol\\_bal                   & int\\_rate                    & total\\_acc                   & funded\\_amnt                 & total\\_pymnt\\_inv           & total\\_rec\\_int             & total\\_rec\\_int             & funded\\_amnt                 & recoveries                   \\\\\n",
       "\t total\\_rec\\_int             & open\\_acc                    & open\\_acc                    & annual\\_inc                  & pub\\_rec                     & last\\_pymnt\\_amnt           & total\\_acc                   & last\\_pymnt\\_amnt           & total\\_pymnt                 & loan\\_amnt                   & funded\\_amnt\\_inv           & dti                           & total\\_rec\\_prncp           & collection\\_recovery\\_fee   & dti                           & last\\_pymnt\\_amnt           & open\\_acc                    & funded\\_amnt\\_inv           & int\\_rate                    & recoveries                    & recoveries                    & funded\\_amnt\\_inv           & total\\_rec\\_late\\_fee     \\\\\n",
       "\t total\\_rec\\_prncp         & total\\_pymnt\\_inv         & revol\\_bal                 & int\\_rate                  & total\\_rec\\_int           & total\\_rec\\_int           & collection\\_recovery\\_fee & open\\_acc                  & total\\_pymnt\\_inv         & pub\\_rec                   & funded\\_amnt               & pub\\_rec                   & funded\\_amnt               & last\\_pymnt\\_amnt         & recoveries                  & total\\_pymnt               & recoveries                  & int\\_rate                  & total\\_rec\\_prncp         & loan\\_amnt                 & installment                 & total\\_pymnt\\_inv         & total\\_pymnt\\_inv        \\\\\n",
       "\t annual\\_inc                & total\\_pymnt               & inq\\_last\\_6mths          & last\\_pymnt\\_amnt         & dti                         & revol\\_bal                 & recoveries                  & total\\_rec\\_int           & revol\\_bal                 & installment                 & inq\\_last\\_6mths          & installment                 & funded\\_amnt\\_inv         & funded\\_amnt\\_inv         & total\\_rec\\_prncp         & total\\_pymnt\\_inv         & loan\\_amnt                 & total\\_pymnt               & last\\_pymnt\\_amnt         & int\\_rate                  & loan\\_amnt                 & last\\_pymnt\\_amnt         & funded\\_amnt\\_inv        \\\\\n",
       "\t revol\\_bal                 & revol\\_bal                 & total\\_rec\\_prncp         & total\\_rec\\_int           & total\\_rec\\_prncp         & total\\_acc                 & annual\\_inc                & int\\_rate                  & loan\\_amnt                 & total\\_rec\\_prncp         & installment                 & total\\_acc                 & inq\\_last\\_6mths          & funded\\_amnt               & delinq\\_2yrs               & annual\\_inc                & total\\_pymnt\\_inv         & total\\_pymnt\\_inv         & recoveries                  & last\\_pymnt\\_amnt         & int\\_rate                  & installment                 & funded\\_amnt              \\\\\n",
       "\t last\\_pymnt\\_amnt           & inq\\_last\\_6mths            & total\\_acc                   & inq\\_last\\_6mths            & annual\\_inc                  & total\\_pymnt                 & open\\_acc                    & total\\_acc                   & funded\\_amnt\\_inv           & total\\_pymnt\\_inv           & loan\\_amnt                   & funded\\_amnt                 & total\\_rec\\_late\\_fee      & installment                   & collection\\_recovery\\_fee   & open\\_acc                    & total\\_pymnt                 & total\\_acc                   & annual\\_inc                  & open\\_acc                    & total\\_rec\\_late\\_fee      & revol\\_bal                   & loan\\_amnt                  \\\\\n",
       "\t int\\_rate                    & dti                           & annual\\_inc                  & funded\\_amnt                 & total\\_pymnt\\_inv           & total\\_pymnt\\_inv           & installment                   & total\\_pymnt                 & total\\_rec\\_prncp           & dti                           & total\\_rec\\_int             & funded\\_amnt\\_inv           & revol\\_bal                   & total\\_rec\\_int             & funded\\_amnt\\_inv           & dti                           & funded\\_amnt                 & total\\_rec\\_late\\_fee      & open\\_acc                    & dti                           & collection\\_recovery\\_fee   & dti                           & int\\_rate                   \\\\\n",
       "\t total\\_acc                 & delinq\\_2yrs               & recoveries                  & funded\\_amnt\\_inv         & total\\_pymnt               & delinq\\_2yrs               & total\\_rec\\_prncp         & total\\_pymnt\\_inv         & funded\\_amnt               & total\\_pymnt               & dti                         & annual\\_inc                & installment                 & recoveries                  & funded\\_amnt               & inq\\_last\\_6mths          & collection\\_recovery\\_fee & recoveries                  & total\\_acc                 & collection\\_recovery\\_fee & dti                         & open\\_acc                  & pub\\_rec                  \\\\\n",
       "\t recoveries                    & total\\_rec\\_late\\_fee      & collection\\_recovery\\_fee   & loan\\_amnt                   & revol\\_bal                   & installment                   & funded\\_amnt                 & revol\\_bal                   & installment                   & recoveries                    & total\\_rec\\_late\\_fee      & total\\_rec\\_late\\_fee      & total\\_acc                   & inq\\_last\\_6mths            & last\\_pymnt\\_amnt           & total\\_acc                   & funded\\_amnt\\_inv           & revol\\_bal                   & total\\_pymnt                 & delinq\\_2yrs                 & total\\_acc                   & pub\\_rec                     & installment                  \\\\\n",
       "\t collection\\_recovery\\_fee & annual\\_inc                & delinq\\_2yrs               & total\\_rec\\_prncp         & last\\_pymnt\\_amnt         & collection\\_recovery\\_fee & funded\\_amnt\\_inv         & collection\\_recovery\\_fee & total\\_rec\\_int           & delinq\\_2yrs               & collection\\_recovery\\_fee & loan\\_amnt                 & delinq\\_2yrs               & loan\\_amnt                 & pub\\_rec                   & funded\\_amnt\\_inv         & annual\\_inc                & open\\_acc                  & dti                         & revol\\_bal                 & annual\\_inc                & loan\\_amnt                 & collection\\_recovery\\_fee\\\\\n",
       "\t open\\_acc                    & funded\\_amnt                 & total\\_pymnt                 & installment                   & loan\\_amnt                   & total\\_rec\\_prncp           & total\\_pymnt\\_inv           & out\\_prncp\\_inv             & last\\_pymnt\\_amnt           & revol\\_bal                   & pub\\_rec                     & total\\_rec\\_prncp           & open\\_acc                    & total\\_rec\\_late\\_fee      & out\\_prncp\\_inv             & funded\\_amnt                 & delinq\\_2yrs                 & delinq\\_2yrs                 & revol\\_bal                   & pub\\_rec                     & last\\_pymnt\\_amnt           & inq\\_last\\_6mths            & annual\\_inc                 \\\\\n",
       "\t total\\_rec\\_late\\_fee      & funded\\_amnt\\_inv           & total\\_pymnt\\_inv           & delinq\\_2yrs                 & funded\\_amnt\\_inv           & funded\\_amnt\\_inv           & total\\_pymnt                 & out\\_prncp                   & int\\_rate                    & open\\_acc                    & total\\_pymnt                 & total\\_pymnt                 & dti                           & total\\_pymnt                 & out\\_prncp                   & loan\\_amnt                   & inq\\_last\\_6mths            & inq\\_last\\_6mths            & inq\\_last\\_6mths            & annual\\_inc                  & open\\_acc                    & annual\\_inc                  & total\\_acc                  \\\\\n",
       "\t pub\\_rec                     & loan\\_amnt                   & installment                   & out\\_prncp\\_inv             & funded\\_amnt                 & funded\\_amnt                 & loan\\_amnt                   & total\\_rec\\_prncp           & collection\\_recovery\\_fee   & int\\_rate                    & total\\_pymnt\\_inv           & total\\_pymnt\\_inv           & recoveries                    & int\\_rate                    & total\\_rec\\_late\\_fee      & revol\\_bal                   & total\\_rec\\_late\\_fee      & pub\\_rec                     & pub\\_rec                     & installment                   & out\\_prncp                   & collection\\_recovery\\_fee   & dti                          \\\\\n",
       "\t dti                           & total\\_rec\\_int             & pub\\_rec                     & out\\_prncp                   & installment                   & loan\\_amnt                   & total\\_rec\\_int             & recoveries                    & total\\_acc                   & annual\\_inc                  & delinq\\_2yrs                 & collection\\_recovery\\_fee   & pub\\_rec                     & total\\_pymnt\\_inv           & int\\_rate                    & delinq\\_2yrs                 & dti                           & dti                           & total\\_rec\\_late\\_fee      & total\\_acc                   & out\\_prncp\\_inv             & int\\_rate                    & inq\\_last\\_6mths           \\\\\n",
       "\t inq\\_last\\_6mths            & pub\\_rec                     & funded\\_amnt\\_inv           & total\\_rec\\_late\\_fee      & out\\_prncp\\_inv             & recoveries                    & inq\\_last\\_6mths            & funded\\_amnt                 & open\\_acc                    & total\\_rec\\_int             & out\\_prncp                   & out\\_prncp\\_inv             & out\\_prncp\\_inv             & total\\_rec\\_prncp           & total\\_pymnt                 & total\\_rec\\_late\\_fee      & out\\_prncp                   & collection\\_recovery\\_fee   & out\\_prncp\\_inv             & out\\_prncp                   & delinq\\_2yrs                 & out\\_prncp\\_inv             & last\\_pymnt\\_amnt          \\\\\n",
       "\t out\\_prncp                 & out\\_prncp\\_inv           & funded\\_amnt               & pub\\_rec                   & out\\_prncp                 & out\\_prncp\\_inv           & int\\_rate                  & loan\\_amnt                 & out\\_prncp                 & total\\_acc                 & out\\_prncp\\_inv           & out\\_prncp                 & out\\_prncp                 & pub\\_rec                   & inq\\_last\\_6mths          & pub\\_rec                   & out\\_prncp\\_inv           & annual\\_inc                & out\\_prncp                 & out\\_prncp\\_inv           & pub\\_rec                   & delinq\\_2yrs               & open\\_acc                 \\\\\n",
       "\t out\\_prncp\\_inv             & out\\_prncp                   & loan\\_amnt                   & total\\_pymnt                 & total\\_acc                   & out\\_prncp                   & out\\_prncp\\_inv             & funded\\_amnt\\_inv           & out\\_prncp\\_inv             & out\\_prncp\\_inv             & total\\_rec\\_prncp           & last\\_pymnt\\_amnt           & annual\\_inc                  & out\\_prncp\\_inv             & loan\\_amnt                   & out\\_prncp                   & pub\\_rec                     & out\\_prncp\\_inv             & collection\\_recovery\\_fee   & total\\_rec\\_late\\_fee      & inq\\_last\\_6mths            & out\\_prncp                   & revol\\_bal                  \\\\\n",
       "\t delinq\\_2yrs                 & installment                   & total\\_rec\\_late\\_fee      & total\\_pymnt\\_inv           & open\\_acc                    & open\\_acc                    & out\\_prncp                   & installment                   & recoveries                    & out\\_prncp                   & recoveries                    & recoveries                    & collection\\_recovery\\_fee   & out\\_prncp                   & total\\_pymnt\\_inv           & out\\_prncp\\_inv             & revol\\_bal                   & out\\_prncp                   & delinq\\_2yrs                 & inq\\_last\\_6mths            & revol\\_bal                   & total\\_acc                   & delinq\\_2yrs                \\\\\n",
       "\\end{tabular}\n"
      ],
      "text/markdown": [
       "\n",
       "| PC1 | PC2 | PC3 | PC4 | PC5 | PC6 | PC7 | PC8 | PC9 | PC10 | PC11 | PC12 | PC13 | PC14 | PC15 | PC16 | PC17 | PC18 | PC19 | PC20 | PC21 | PC22 | PC23 |\n",
       "|---|---|---|---|---|---|---|---|---|---|---|---|---|---|---|---|---|---|---|---|---|---|---|\n",
       "| funded_amnt             | recoveries              | out_prncp_inv           | open_acc                | int_rate                | dti                     | delinq_2yrs             | inq_last_6mths          | delinq_2yrs             | total_rec_late_fee      | revol_bal               | int_rate                | last_pymnt_amnt         | annual_inc              | total_acc               | recoveries              | total_rec_int           | installment             | loan_amnt               | total_pymnt_inv         | funded_amnt             | total_pymnt             | out_prncp               |\n",
       "| funded_amnt_inv         | collection_recovery_fee | out_prncp               | total_acc               | collection_recovery_fee | annual_inc              | total_rec_late_fee      | pub_rec                 | pub_rec                 | inq_last_6mths          | int_rate                | inq_last_6mths          | total_rec_int           | revol_bal               | open_acc                | collection_recovery_fee | int_rate                | loan_amnt               | funded_amnt_inv         | funded_amnt             | funded_amnt_inv         | total_rec_prncp         | out_prncp_inv           |\n",
       "| loan_amnt               | total_rec_prncp         | dti                     | revol_bal               | recoveries              | inq_last_6mths          | dti                     | total_rec_late_fee      | total_rec_late_fee      | last_pymnt_amnt         | annual_inc              | open_acc                | total_pymnt_inv         | dti                     | total_rec_int           | total_rec_prncp         | total_rec_prncp         | total_rec_int           | funded_amnt             | funded_amnt_inv         | total_pymnt_inv         | total_rec_int           | total_pymnt             |\n",
       "| installment             | last_pymnt_amnt         | int_rate                | dti                     | delinq_2yrs             | int_rate                | pub_rec                 | dti                     | dti                     | collection_recovery_fee | total_acc               | delinq_2yrs             | total_pymnt             | open_acc                | annual_inc              | installment             | last_pymnt_amnt         | total_rec_prncp         | installment             | total_rec_prncp         | total_rec_prncp         | recoveries              | total_rec_prncp         |\n",
       "| total_pymnt             | int_rate                | last_pymnt_amnt         | recoveries              | inq_last_6mths          | total_rec_late_fee      | last_pymnt_amnt         | annual_inc              | annual_inc              | funded_amnt             | last_pymnt_amnt         | revol_bal               | int_rate                | delinq_2yrs             | installment             | total_rec_int           | installment             | last_pymnt_amnt         | total_rec_int           | total_pymnt             | total_pymnt             | total_rec_late_fee      | total_rec_int           |\n",
       "| total_pymnt_inv         | total_acc               | total_rec_int           | collection_recovery_fee | total_rec_late_fee      | pub_rec                 | revol_bal               | delinq_2yrs             | inq_last_6mths          | funded_amnt_inv         | open_acc                | total_rec_int           | loan_amnt               | total_acc               | revol_bal               | int_rate                | total_acc               | funded_amnt             | total_pymnt_inv         | total_rec_int           | total_rec_int           | funded_amnt             | recoveries              |\n",
       "| total_rec_int           | open_acc                | open_acc                | annual_inc              | pub_rec                 | last_pymnt_amnt         | total_acc               | last_pymnt_amnt         | total_pymnt             | loan_amnt               | funded_amnt_inv         | dti                     | total_rec_prncp         | collection_recovery_fee | dti                     | last_pymnt_amnt         | open_acc                | funded_amnt_inv         | int_rate                | recoveries              | recoveries              | funded_amnt_inv         | total_rec_late_fee      |\n",
       "| total_rec_prncp         | total_pymnt_inv         | revol_bal               | int_rate                | total_rec_int           | total_rec_int           | collection_recovery_fee | open_acc                | total_pymnt_inv         | pub_rec                 | funded_amnt             | pub_rec                 | funded_amnt             | last_pymnt_amnt         | recoveries              | total_pymnt             | recoveries              | int_rate                | total_rec_prncp         | loan_amnt               | installment             | total_pymnt_inv         | total_pymnt_inv         |\n",
       "| annual_inc              | total_pymnt             | inq_last_6mths          | last_pymnt_amnt         | dti                     | revol_bal               | recoveries              | total_rec_int           | revol_bal               | installment             | inq_last_6mths          | installment             | funded_amnt_inv         | funded_amnt_inv         | total_rec_prncp         | total_pymnt_inv         | loan_amnt               | total_pymnt             | last_pymnt_amnt         | int_rate                | loan_amnt               | last_pymnt_amnt         | funded_amnt_inv         |\n",
       "| revol_bal               | revol_bal               | total_rec_prncp         | total_rec_int           | total_rec_prncp         | total_acc               | annual_inc              | int_rate                | loan_amnt               | total_rec_prncp         | installment             | total_acc               | inq_last_6mths          | funded_amnt             | delinq_2yrs             | annual_inc              | total_pymnt_inv         | total_pymnt_inv         | recoveries              | last_pymnt_amnt         | int_rate                | installment             | funded_amnt             |\n",
       "| last_pymnt_amnt         | inq_last_6mths          | total_acc               | inq_last_6mths          | annual_inc              | total_pymnt             | open_acc                | total_acc               | funded_amnt_inv         | total_pymnt_inv         | loan_amnt               | funded_amnt             | total_rec_late_fee      | installment             | collection_recovery_fee | open_acc                | total_pymnt             | total_acc               | annual_inc              | open_acc                | total_rec_late_fee      | revol_bal               | loan_amnt               |\n",
       "| int_rate                | dti                     | annual_inc              | funded_amnt             | total_pymnt_inv         | total_pymnt_inv         | installment             | total_pymnt             | total_rec_prncp         | dti                     | total_rec_int           | funded_amnt_inv         | revol_bal               | total_rec_int           | funded_amnt_inv         | dti                     | funded_amnt             | total_rec_late_fee      | open_acc                | dti                     | collection_recovery_fee | dti                     | int_rate                |\n",
       "| total_acc               | delinq_2yrs             | recoveries              | funded_amnt_inv         | total_pymnt             | delinq_2yrs             | total_rec_prncp         | total_pymnt_inv         | funded_amnt             | total_pymnt             | dti                     | annual_inc              | installment             | recoveries              | funded_amnt             | inq_last_6mths          | collection_recovery_fee | recoveries              | total_acc               | collection_recovery_fee | dti                     | open_acc                | pub_rec                 |\n",
       "| recoveries              | total_rec_late_fee      | collection_recovery_fee | loan_amnt               | revol_bal               | installment             | funded_amnt             | revol_bal               | installment             | recoveries              | total_rec_late_fee      | total_rec_late_fee      | total_acc               | inq_last_6mths          | last_pymnt_amnt         | total_acc               | funded_amnt_inv         | revol_bal               | total_pymnt             | delinq_2yrs             | total_acc               | pub_rec                 | installment             |\n",
       "| collection_recovery_fee | annual_inc              | delinq_2yrs             | total_rec_prncp         | last_pymnt_amnt         | collection_recovery_fee | funded_amnt_inv         | collection_recovery_fee | total_rec_int           | delinq_2yrs             | collection_recovery_fee | loan_amnt               | delinq_2yrs             | loan_amnt               | pub_rec                 | funded_amnt_inv         | annual_inc              | open_acc                | dti                     | revol_bal               | annual_inc              | loan_amnt               | collection_recovery_fee |\n",
       "| open_acc                | funded_amnt             | total_pymnt             | installment             | loan_amnt               | total_rec_prncp         | total_pymnt_inv         | out_prncp_inv           | last_pymnt_amnt         | revol_bal               | pub_rec                 | total_rec_prncp         | open_acc                | total_rec_late_fee      | out_prncp_inv           | funded_amnt             | delinq_2yrs             | delinq_2yrs             | revol_bal               | pub_rec                 | last_pymnt_amnt         | inq_last_6mths          | annual_inc              |\n",
       "| total_rec_late_fee      | funded_amnt_inv         | total_pymnt_inv         | delinq_2yrs             | funded_amnt_inv         | funded_amnt_inv         | total_pymnt             | out_prncp               | int_rate                | open_acc                | total_pymnt             | total_pymnt             | dti                     | total_pymnt             | out_prncp               | loan_amnt               | inq_last_6mths          | inq_last_6mths          | inq_last_6mths          | annual_inc              | open_acc                | annual_inc              | total_acc               |\n",
       "| pub_rec                 | loan_amnt               | installment             | out_prncp_inv           | funded_amnt             | funded_amnt             | loan_amnt               | total_rec_prncp         | collection_recovery_fee | int_rate                | total_pymnt_inv         | total_pymnt_inv         | recoveries              | int_rate                | total_rec_late_fee      | revol_bal               | total_rec_late_fee      | pub_rec                 | pub_rec                 | installment             | out_prncp               | collection_recovery_fee | dti                     |\n",
       "| dti                     | total_rec_int           | pub_rec                 | out_prncp               | installment             | loan_amnt               | total_rec_int           | recoveries              | total_acc               | annual_inc              | delinq_2yrs             | collection_recovery_fee | pub_rec                 | total_pymnt_inv         | int_rate                | delinq_2yrs             | dti                     | dti                     | total_rec_late_fee      | total_acc               | out_prncp_inv           | int_rate                | inq_last_6mths          |\n",
       "| inq_last_6mths          | pub_rec                 | funded_amnt_inv         | total_rec_late_fee      | out_prncp_inv           | recoveries              | inq_last_6mths          | funded_amnt             | open_acc                | total_rec_int           | out_prncp               | out_prncp_inv           | out_prncp_inv           | total_rec_prncp         | total_pymnt             | total_rec_late_fee      | out_prncp               | collection_recovery_fee | out_prncp_inv           | out_prncp               | delinq_2yrs             | out_prncp_inv           | last_pymnt_amnt         |\n",
       "| out_prncp               | out_prncp_inv           | funded_amnt             | pub_rec                 | out_prncp               | out_prncp_inv           | int_rate                | loan_amnt               | out_prncp               | total_acc               | out_prncp_inv           | out_prncp               | out_prncp               | pub_rec                 | inq_last_6mths          | pub_rec                 | out_prncp_inv           | annual_inc              | out_prncp               | out_prncp_inv           | pub_rec                 | delinq_2yrs             | open_acc                |\n",
       "| out_prncp_inv           | out_prncp               | loan_amnt               | total_pymnt             | total_acc               | out_prncp               | out_prncp_inv           | funded_amnt_inv         | out_prncp_inv           | out_prncp_inv           | total_rec_prncp         | last_pymnt_amnt         | annual_inc              | out_prncp_inv           | loan_amnt               | out_prncp               | pub_rec                 | out_prncp_inv           | collection_recovery_fee | total_rec_late_fee      | inq_last_6mths          | out_prncp               | revol_bal               |\n",
       "| delinq_2yrs             | installment             | total_rec_late_fee      | total_pymnt_inv         | open_acc                | open_acc                | out_prncp               | installment             | recoveries              | out_prncp               | recoveries              | recoveries              | collection_recovery_fee | out_prncp               | total_pymnt_inv         | out_prncp_inv           | revol_bal               | out_prncp               | delinq_2yrs             | inq_last_6mths          | revol_bal               | total_acc               | delinq_2yrs             |\n",
       "\n"
      ],
      "text/plain": [
       "   PC1                     PC2                     PC3                    \n",
       "1  funded_amnt             recoveries              out_prncp_inv          \n",
       "2  funded_amnt_inv         collection_recovery_fee out_prncp              \n",
       "3  loan_amnt               total_rec_prncp         dti                    \n",
       "4  installment             last_pymnt_amnt         int_rate               \n",
       "5  total_pymnt             int_rate                last_pymnt_amnt        \n",
       "6  total_pymnt_inv         total_acc               total_rec_int          \n",
       "7  total_rec_int           open_acc                open_acc               \n",
       "8  total_rec_prncp         total_pymnt_inv         revol_bal              \n",
       "9  annual_inc              total_pymnt             inq_last_6mths         \n",
       "10 revol_bal               revol_bal               total_rec_prncp        \n",
       "11 last_pymnt_amnt         inq_last_6mths          total_acc              \n",
       "12 int_rate                dti                     annual_inc             \n",
       "13 total_acc               delinq_2yrs             recoveries             \n",
       "14 recoveries              total_rec_late_fee      collection_recovery_fee\n",
       "15 collection_recovery_fee annual_inc              delinq_2yrs            \n",
       "16 open_acc                funded_amnt             total_pymnt            \n",
       "17 total_rec_late_fee      funded_amnt_inv         total_pymnt_inv        \n",
       "18 pub_rec                 loan_amnt               installment            \n",
       "19 dti                     total_rec_int           pub_rec                \n",
       "20 inq_last_6mths          pub_rec                 funded_amnt_inv        \n",
       "21 out_prncp               out_prncp_inv           funded_amnt            \n",
       "22 out_prncp_inv           out_prncp               loan_amnt              \n",
       "23 delinq_2yrs             installment             total_rec_late_fee     \n",
       "   PC4                     PC5                     PC6                    \n",
       "1  open_acc                int_rate                dti                    \n",
       "2  total_acc               collection_recovery_fee annual_inc             \n",
       "3  revol_bal               recoveries              inq_last_6mths         \n",
       "4  dti                     delinq_2yrs             int_rate               \n",
       "5  recoveries              inq_last_6mths          total_rec_late_fee     \n",
       "6  collection_recovery_fee total_rec_late_fee      pub_rec                \n",
       "7  annual_inc              pub_rec                 last_pymnt_amnt        \n",
       "8  int_rate                total_rec_int           total_rec_int          \n",
       "9  last_pymnt_amnt         dti                     revol_bal              \n",
       "10 total_rec_int           total_rec_prncp         total_acc              \n",
       "11 inq_last_6mths          annual_inc              total_pymnt            \n",
       "12 funded_amnt             total_pymnt_inv         total_pymnt_inv        \n",
       "13 funded_amnt_inv         total_pymnt             delinq_2yrs            \n",
       "14 loan_amnt               revol_bal               installment            \n",
       "15 total_rec_prncp         last_pymnt_amnt         collection_recovery_fee\n",
       "16 installment             loan_amnt               total_rec_prncp        \n",
       "17 delinq_2yrs             funded_amnt_inv         funded_amnt_inv        \n",
       "18 out_prncp_inv           funded_amnt             funded_amnt            \n",
       "19 out_prncp               installment             loan_amnt              \n",
       "20 total_rec_late_fee      out_prncp_inv           recoveries             \n",
       "21 pub_rec                 out_prncp               out_prncp_inv          \n",
       "22 total_pymnt             total_acc               out_prncp              \n",
       "23 total_pymnt_inv         open_acc                open_acc               \n",
       "   PC7                     PC8                     PC9                    \n",
       "1  delinq_2yrs             inq_last_6mths          delinq_2yrs            \n",
       "2  total_rec_late_fee      pub_rec                 pub_rec                \n",
       "3  dti                     total_rec_late_fee      total_rec_late_fee     \n",
       "4  pub_rec                 dti                     dti                    \n",
       "5  last_pymnt_amnt         annual_inc              annual_inc             \n",
       "6  revol_bal               delinq_2yrs             inq_last_6mths         \n",
       "7  total_acc               last_pymnt_amnt         total_pymnt            \n",
       "8  collection_recovery_fee open_acc                total_pymnt_inv        \n",
       "9  recoveries              total_rec_int           revol_bal              \n",
       "10 annual_inc              int_rate                loan_amnt              \n",
       "11 open_acc                total_acc               funded_amnt_inv        \n",
       "12 installment             total_pymnt             total_rec_prncp        \n",
       "13 total_rec_prncp         total_pymnt_inv         funded_amnt            \n",
       "14 funded_amnt             revol_bal               installment            \n",
       "15 funded_amnt_inv         collection_recovery_fee total_rec_int          \n",
       "16 total_pymnt_inv         out_prncp_inv           last_pymnt_amnt        \n",
       "17 total_pymnt             out_prncp               int_rate               \n",
       "18 loan_amnt               total_rec_prncp         collection_recovery_fee\n",
       "19 total_rec_int           recoveries              total_acc              \n",
       "20 inq_last_6mths          funded_amnt             open_acc               \n",
       "21 int_rate                loan_amnt               out_prncp              \n",
       "22 out_prncp_inv           funded_amnt_inv         out_prncp_inv          \n",
       "23 out_prncp               installment             recoveries             \n",
       "   PC10                    PC11                    PC12                   \n",
       "1  total_rec_late_fee      revol_bal               int_rate               \n",
       "2  inq_last_6mths          int_rate                inq_last_6mths         \n",
       "3  last_pymnt_amnt         annual_inc              open_acc               \n",
       "4  collection_recovery_fee total_acc               delinq_2yrs            \n",
       "5  funded_amnt             last_pymnt_amnt         revol_bal              \n",
       "6  funded_amnt_inv         open_acc                total_rec_int          \n",
       "7  loan_amnt               funded_amnt_inv         dti                    \n",
       "8  pub_rec                 funded_amnt             pub_rec                \n",
       "9  installment             inq_last_6mths          installment            \n",
       "10 total_rec_prncp         installment             total_acc              \n",
       "11 total_pymnt_inv         loan_amnt               funded_amnt            \n",
       "12 dti                     total_rec_int           funded_amnt_inv        \n",
       "13 total_pymnt             dti                     annual_inc             \n",
       "14 recoveries              total_rec_late_fee      total_rec_late_fee     \n",
       "15 delinq_2yrs             collection_recovery_fee loan_amnt              \n",
       "16 revol_bal               pub_rec                 total_rec_prncp        \n",
       "17 open_acc                total_pymnt             total_pymnt            \n",
       "18 int_rate                total_pymnt_inv         total_pymnt_inv        \n",
       "19 annual_inc              delinq_2yrs             collection_recovery_fee\n",
       "20 total_rec_int           out_prncp               out_prncp_inv          \n",
       "21 total_acc               out_prncp_inv           out_prncp              \n",
       "22 out_prncp_inv           total_rec_prncp         last_pymnt_amnt        \n",
       "23 out_prncp               recoveries              recoveries             \n",
       "   PC13                    PC14                    PC15                   \n",
       "1  last_pymnt_amnt         annual_inc              total_acc              \n",
       "2  total_rec_int           revol_bal               open_acc               \n",
       "3  total_pymnt_inv         dti                     total_rec_int          \n",
       "4  total_pymnt             open_acc                annual_inc             \n",
       "5  int_rate                delinq_2yrs             installment            \n",
       "6  loan_amnt               total_acc               revol_bal              \n",
       "7  total_rec_prncp         collection_recovery_fee dti                    \n",
       "8  funded_amnt             last_pymnt_amnt         recoveries             \n",
       "9  funded_amnt_inv         funded_amnt_inv         total_rec_prncp        \n",
       "10 inq_last_6mths          funded_amnt             delinq_2yrs            \n",
       "11 total_rec_late_fee      installment             collection_recovery_fee\n",
       "12 revol_bal               total_rec_int           funded_amnt_inv        \n",
       "13 installment             recoveries              funded_amnt            \n",
       "14 total_acc               inq_last_6mths          last_pymnt_amnt        \n",
       "15 delinq_2yrs             loan_amnt               pub_rec                \n",
       "16 open_acc                total_rec_late_fee      out_prncp_inv          \n",
       "17 dti                     total_pymnt             out_prncp              \n",
       "18 recoveries              int_rate                total_rec_late_fee     \n",
       "19 pub_rec                 total_pymnt_inv         int_rate               \n",
       "20 out_prncp_inv           total_rec_prncp         total_pymnt            \n",
       "21 out_prncp               pub_rec                 inq_last_6mths         \n",
       "22 annual_inc              out_prncp_inv           loan_amnt              \n",
       "23 collection_recovery_fee out_prncp               total_pymnt_inv        \n",
       "   PC16                    PC17                    PC18                   \n",
       "1  recoveries              total_rec_int           installment            \n",
       "2  collection_recovery_fee int_rate                loan_amnt              \n",
       "3  total_rec_prncp         total_rec_prncp         total_rec_int          \n",
       "4  installment             last_pymnt_amnt         total_rec_prncp        \n",
       "5  total_rec_int           installment             last_pymnt_amnt        \n",
       "6  int_rate                total_acc               funded_amnt            \n",
       "7  last_pymnt_amnt         open_acc                funded_amnt_inv        \n",
       "8  total_pymnt             recoveries              int_rate               \n",
       "9  total_pymnt_inv         loan_amnt               total_pymnt            \n",
       "10 annual_inc              total_pymnt_inv         total_pymnt_inv        \n",
       "11 open_acc                total_pymnt             total_acc              \n",
       "12 dti                     funded_amnt             total_rec_late_fee     \n",
       "13 inq_last_6mths          collection_recovery_fee recoveries             \n",
       "14 total_acc               funded_amnt_inv         revol_bal              \n",
       "15 funded_amnt_inv         annual_inc              open_acc               \n",
       "16 funded_amnt             delinq_2yrs             delinq_2yrs            \n",
       "17 loan_amnt               inq_last_6mths          inq_last_6mths         \n",
       "18 revol_bal               total_rec_late_fee      pub_rec                \n",
       "19 delinq_2yrs             dti                     dti                    \n",
       "20 total_rec_late_fee      out_prncp               collection_recovery_fee\n",
       "21 pub_rec                 out_prncp_inv           annual_inc             \n",
       "22 out_prncp               pub_rec                 out_prncp_inv          \n",
       "23 out_prncp_inv           revol_bal               out_prncp              \n",
       "   PC19                    PC20                    PC21                   \n",
       "1  loan_amnt               total_pymnt_inv         funded_amnt            \n",
       "2  funded_amnt_inv         funded_amnt             funded_amnt_inv        \n",
       "3  funded_amnt             funded_amnt_inv         total_pymnt_inv        \n",
       "4  installment             total_rec_prncp         total_rec_prncp        \n",
       "5  total_rec_int           total_pymnt             total_pymnt            \n",
       "6  total_pymnt_inv         total_rec_int           total_rec_int          \n",
       "7  int_rate                recoveries              recoveries             \n",
       "8  total_rec_prncp         loan_amnt               installment            \n",
       "9  last_pymnt_amnt         int_rate                loan_amnt              \n",
       "10 recoveries              last_pymnt_amnt         int_rate               \n",
       "11 annual_inc              open_acc                total_rec_late_fee     \n",
       "12 open_acc                dti                     collection_recovery_fee\n",
       "13 total_acc               collection_recovery_fee dti                    \n",
       "14 total_pymnt             delinq_2yrs             total_acc              \n",
       "15 dti                     revol_bal               annual_inc             \n",
       "16 revol_bal               pub_rec                 last_pymnt_amnt        \n",
       "17 inq_last_6mths          annual_inc              open_acc               \n",
       "18 pub_rec                 installment             out_prncp              \n",
       "19 total_rec_late_fee      total_acc               out_prncp_inv          \n",
       "20 out_prncp_inv           out_prncp               delinq_2yrs            \n",
       "21 out_prncp               out_prncp_inv           pub_rec                \n",
       "22 collection_recovery_fee total_rec_late_fee      inq_last_6mths         \n",
       "23 delinq_2yrs             inq_last_6mths          revol_bal              \n",
       "   PC22                    PC23                   \n",
       "1  total_pymnt             out_prncp              \n",
       "2  total_rec_prncp         out_prncp_inv          \n",
       "3  total_rec_int           total_pymnt            \n",
       "4  recoveries              total_rec_prncp        \n",
       "5  total_rec_late_fee      total_rec_int          \n",
       "6  funded_amnt             recoveries             \n",
       "7  funded_amnt_inv         total_rec_late_fee     \n",
       "8  total_pymnt_inv         total_pymnt_inv        \n",
       "9  last_pymnt_amnt         funded_amnt_inv        \n",
       "10 installment             funded_amnt            \n",
       "11 revol_bal               loan_amnt              \n",
       "12 dti                     int_rate               \n",
       "13 open_acc                pub_rec                \n",
       "14 pub_rec                 installment            \n",
       "15 loan_amnt               collection_recovery_fee\n",
       "16 inq_last_6mths          annual_inc             \n",
       "17 annual_inc              total_acc              \n",
       "18 collection_recovery_fee dti                    \n",
       "19 int_rate                inq_last_6mths         \n",
       "20 out_prncp_inv           last_pymnt_amnt        \n",
       "21 delinq_2yrs             open_acc               \n",
       "22 out_prncp               revol_bal              \n",
       "23 total_acc               delinq_2yrs            "
      ]
     },
     "metadata": {},
     "output_type": "display_data"
    }
   ],
   "source": [
    "pc_constituents(pc)"
   ]
  },
  {
   "cell_type": "markdown",
   "metadata": {},
   "source": [
    "### Scree Plot of Principal Components"
   ]
  },
  {
   "cell_type": "code",
   "execution_count": 10,
   "metadata": {
    "hide_input": true
   },
   "outputs": [
    {
     "data": {
      "text/html": [
       "<table>\n",
       "<thead><tr><th scope=col>variable</th><th scope=col>sdev</th><th scope=col>variance</th><th scope=col>cum_variance</th><th scope=col>relative_variance</th><th scope=col>cum_relative_variance</th></tr></thead>\n",
       "<tbody>\n",
       "\t<tr><td>PC1         </td><td>2.711834e+00</td><td>7.354044e+00</td><td> 7.354044   </td><td>3.197411e-01</td><td>0.3197411   </td></tr>\n",
       "\t<tr><td>PC2         </td><td>1.512646e+00</td><td>2.288098e+00</td><td> 9.642142   </td><td>9.948252e-02</td><td>0.4192236   </td></tr>\n",
       "\t<tr><td>PC3         </td><td>1.416502e+00</td><td>2.006478e+00</td><td>11.648621   </td><td>8.723819e-02</td><td>0.5064618   </td></tr>\n",
       "\t<tr><td>PC4         </td><td>1.340665e+00</td><td>1.797384e+00</td><td>13.446005   </td><td>7.814713e-02</td><td>0.5846089   </td></tr>\n",
       "\t<tr><td>PC5         </td><td>1.126556e+00</td><td>1.269129e+00</td><td>14.715134   </td><td>5.517954e-02</td><td>0.6397884   </td></tr>\n",
       "\t<tr><td>PC6         </td><td>1.079284e+00</td><td>1.164854e+00</td><td>15.879988   </td><td>5.064583e-02</td><td>0.6904343   </td></tr>\n",
       "\t<tr><td>PC7         </td><td>1.045328e+00</td><td>1.092711e+00</td><td>16.972699   </td><td>4.750917e-02</td><td>0.7379434   </td></tr>\n",
       "\t<tr><td>PC8         </td><td>1.002090e+00</td><td>1.004184e+00</td><td>17.976883   </td><td>4.366018e-02</td><td>0.7816036   </td></tr>\n",
       "\t<tr><td>PC9         </td><td>9.854928e-01</td><td>9.711961e-01</td><td>18.948079   </td><td>4.222592e-02</td><td>0.8238295   </td></tr>\n",
       "\t<tr><td>PC10        </td><td>9.258204e-01</td><td>8.571434e-01</td><td>19.805223   </td><td>3.726711e-02</td><td>0.8610966   </td></tr>\n",
       "\t<tr><td>PC11        </td><td>8.753678e-01</td><td>7.662688e-01</td><td>20.571491   </td><td>3.331604e-02</td><td>0.8944127   </td></tr>\n",
       "\t<tr><td>PC12        </td><td>8.120020e-01</td><td>6.593473e-01</td><td>21.230839   </td><td>2.866727e-02</td><td>0.9230799   </td></tr>\n",
       "\t<tr><td>PC13        </td><td>7.735300e-01</td><td>5.983486e-01</td><td>21.829187   </td><td>2.601516e-02</td><td>0.9490951   </td></tr>\n",
       "\t<tr><td>PC14        </td><td>6.284526e-01</td><td>3.949527e-01</td><td>22.224140   </td><td>1.717186e-02</td><td>0.9662670   </td></tr>\n",
       "\t<tr><td>PC15        </td><td>5.738871e-01</td><td>3.293465e-01</td><td>22.553486   </td><td>1.431941e-02</td><td>0.9805864   </td></tr>\n",
       "\t<tr><td>PC16        </td><td>4.609430e-01</td><td>2.124684e-01</td><td>22.765955   </td><td>9.237757e-03</td><td>0.9898241   </td></tr>\n",
       "\t<tr><td>PC17        </td><td>4.161725e-01</td><td>1.731996e-01</td><td>22.939154   </td><td>7.530417e-03</td><td>0.9973545   </td></tr>\n",
       "\t<tr><td>PC18        </td><td>2.078079e-01</td><td>4.318411e-02</td><td>22.982339   </td><td>1.877570e-03</td><td>0.9992321   </td></tr>\n",
       "\t<tr><td>PC19        </td><td>1.250896e-01</td><td>1.564741e-02</td><td>22.997986   </td><td>6.803220e-04</td><td>0.9999124   </td></tr>\n",
       "\t<tr><td>PC20        </td><td>4.132670e-02</td><td>1.707896e-03</td><td>22.999694   </td><td>7.425635e-05</td><td>0.9999867   </td></tr>\n",
       "\t<tr><td>PC21        </td><td>1.749757e-02</td><td>3.061649e-04</td><td>23.000000   </td><td>1.331152e-05</td><td>1.0000000   </td></tr>\n",
       "\t<tr><td>PC22        </td><td>1.606785e-07</td><td>2.581757e-14</td><td>23.000000   </td><td>1.122503e-15</td><td>1.0000000   </td></tr>\n",
       "\t<tr><td>PC23        </td><td>2.698404e-15</td><td>7.281384e-30</td><td>23.000000   </td><td>3.165819e-31</td><td>1.0000000   </td></tr>\n",
       "</tbody>\n",
       "</table>\n"
      ],
      "text/latex": [
       "\\begin{tabular}{r|llllll}\n",
       " variable & sdev & variance & cum\\_variance & relative\\_variance & cum\\_relative\\_variance\\\\\n",
       "\\hline\n",
       "\t PC1          & 2.711834e+00 & 7.354044e+00 &  7.354044    & 3.197411e-01 & 0.3197411   \\\\\n",
       "\t PC2          & 1.512646e+00 & 2.288098e+00 &  9.642142    & 9.948252e-02 & 0.4192236   \\\\\n",
       "\t PC3          & 1.416502e+00 & 2.006478e+00 & 11.648621    & 8.723819e-02 & 0.5064618   \\\\\n",
       "\t PC4          & 1.340665e+00 & 1.797384e+00 & 13.446005    & 7.814713e-02 & 0.5846089   \\\\\n",
       "\t PC5          & 1.126556e+00 & 1.269129e+00 & 14.715134    & 5.517954e-02 & 0.6397884   \\\\\n",
       "\t PC6          & 1.079284e+00 & 1.164854e+00 & 15.879988    & 5.064583e-02 & 0.6904343   \\\\\n",
       "\t PC7          & 1.045328e+00 & 1.092711e+00 & 16.972699    & 4.750917e-02 & 0.7379434   \\\\\n",
       "\t PC8          & 1.002090e+00 & 1.004184e+00 & 17.976883    & 4.366018e-02 & 0.7816036   \\\\\n",
       "\t PC9          & 9.854928e-01 & 9.711961e-01 & 18.948079    & 4.222592e-02 & 0.8238295   \\\\\n",
       "\t PC10         & 9.258204e-01 & 8.571434e-01 & 19.805223    & 3.726711e-02 & 0.8610966   \\\\\n",
       "\t PC11         & 8.753678e-01 & 7.662688e-01 & 20.571491    & 3.331604e-02 & 0.8944127   \\\\\n",
       "\t PC12         & 8.120020e-01 & 6.593473e-01 & 21.230839    & 2.866727e-02 & 0.9230799   \\\\\n",
       "\t PC13         & 7.735300e-01 & 5.983486e-01 & 21.829187    & 2.601516e-02 & 0.9490951   \\\\\n",
       "\t PC14         & 6.284526e-01 & 3.949527e-01 & 22.224140    & 1.717186e-02 & 0.9662670   \\\\\n",
       "\t PC15         & 5.738871e-01 & 3.293465e-01 & 22.553486    & 1.431941e-02 & 0.9805864   \\\\\n",
       "\t PC16         & 4.609430e-01 & 2.124684e-01 & 22.765955    & 9.237757e-03 & 0.9898241   \\\\\n",
       "\t PC17         & 4.161725e-01 & 1.731996e-01 & 22.939154    & 7.530417e-03 & 0.9973545   \\\\\n",
       "\t PC18         & 2.078079e-01 & 4.318411e-02 & 22.982339    & 1.877570e-03 & 0.9992321   \\\\\n",
       "\t PC19         & 1.250896e-01 & 1.564741e-02 & 22.997986    & 6.803220e-04 & 0.9999124   \\\\\n",
       "\t PC20         & 4.132670e-02 & 1.707896e-03 & 22.999694    & 7.425635e-05 & 0.9999867   \\\\\n",
       "\t PC21         & 1.749757e-02 & 3.061649e-04 & 23.000000    & 1.331152e-05 & 1.0000000   \\\\\n",
       "\t PC22         & 1.606785e-07 & 2.581757e-14 & 23.000000    & 1.122503e-15 & 1.0000000   \\\\\n",
       "\t PC23         & 2.698404e-15 & 7.281384e-30 & 23.000000    & 3.165819e-31 & 1.0000000   \\\\\n",
       "\\end{tabular}\n"
      ],
      "text/markdown": [
       "\n",
       "| variable | sdev | variance | cum_variance | relative_variance | cum_relative_variance |\n",
       "|---|---|---|---|---|---|\n",
       "| PC1          | 2.711834e+00 | 7.354044e+00 |  7.354044    | 3.197411e-01 | 0.3197411    |\n",
       "| PC2          | 1.512646e+00 | 2.288098e+00 |  9.642142    | 9.948252e-02 | 0.4192236    |\n",
       "| PC3          | 1.416502e+00 | 2.006478e+00 | 11.648621    | 8.723819e-02 | 0.5064618    |\n",
       "| PC4          | 1.340665e+00 | 1.797384e+00 | 13.446005    | 7.814713e-02 | 0.5846089    |\n",
       "| PC5          | 1.126556e+00 | 1.269129e+00 | 14.715134    | 5.517954e-02 | 0.6397884    |\n",
       "| PC6          | 1.079284e+00 | 1.164854e+00 | 15.879988    | 5.064583e-02 | 0.6904343    |\n",
       "| PC7          | 1.045328e+00 | 1.092711e+00 | 16.972699    | 4.750917e-02 | 0.7379434    |\n",
       "| PC8          | 1.002090e+00 | 1.004184e+00 | 17.976883    | 4.366018e-02 | 0.7816036    |\n",
       "| PC9          | 9.854928e-01 | 9.711961e-01 | 18.948079    | 4.222592e-02 | 0.8238295    |\n",
       "| PC10         | 9.258204e-01 | 8.571434e-01 | 19.805223    | 3.726711e-02 | 0.8610966    |\n",
       "| PC11         | 8.753678e-01 | 7.662688e-01 | 20.571491    | 3.331604e-02 | 0.8944127    |\n",
       "| PC12         | 8.120020e-01 | 6.593473e-01 | 21.230839    | 2.866727e-02 | 0.9230799    |\n",
       "| PC13         | 7.735300e-01 | 5.983486e-01 | 21.829187    | 2.601516e-02 | 0.9490951    |\n",
       "| PC14         | 6.284526e-01 | 3.949527e-01 | 22.224140    | 1.717186e-02 | 0.9662670    |\n",
       "| PC15         | 5.738871e-01 | 3.293465e-01 | 22.553486    | 1.431941e-02 | 0.9805864    |\n",
       "| PC16         | 4.609430e-01 | 2.124684e-01 | 22.765955    | 9.237757e-03 | 0.9898241    |\n",
       "| PC17         | 4.161725e-01 | 1.731996e-01 | 22.939154    | 7.530417e-03 | 0.9973545    |\n",
       "| PC18         | 2.078079e-01 | 4.318411e-02 | 22.982339    | 1.877570e-03 | 0.9992321    |\n",
       "| PC19         | 1.250896e-01 | 1.564741e-02 | 22.997986    | 6.803220e-04 | 0.9999124    |\n",
       "| PC20         | 4.132670e-02 | 1.707896e-03 | 22.999694    | 7.425635e-05 | 0.9999867    |\n",
       "| PC21         | 1.749757e-02 | 3.061649e-04 | 23.000000    | 1.331152e-05 | 1.0000000    |\n",
       "| PC22         | 1.606785e-07 | 2.581757e-14 | 23.000000    | 1.122503e-15 | 1.0000000    |\n",
       "| PC23         | 2.698404e-15 | 7.281384e-30 | 23.000000    | 3.165819e-31 | 1.0000000    |\n",
       "\n"
      ],
      "text/plain": [
       "   variable sdev         variance     cum_variance relative_variance\n",
       "1  PC1      2.711834e+00 7.354044e+00  7.354044    3.197411e-01     \n",
       "2  PC2      1.512646e+00 2.288098e+00  9.642142    9.948252e-02     \n",
       "3  PC3      1.416502e+00 2.006478e+00 11.648621    8.723819e-02     \n",
       "4  PC4      1.340665e+00 1.797384e+00 13.446005    7.814713e-02     \n",
       "5  PC5      1.126556e+00 1.269129e+00 14.715134    5.517954e-02     \n",
       "6  PC6      1.079284e+00 1.164854e+00 15.879988    5.064583e-02     \n",
       "7  PC7      1.045328e+00 1.092711e+00 16.972699    4.750917e-02     \n",
       "8  PC8      1.002090e+00 1.004184e+00 17.976883    4.366018e-02     \n",
       "9  PC9      9.854928e-01 9.711961e-01 18.948079    4.222592e-02     \n",
       "10 PC10     9.258204e-01 8.571434e-01 19.805223    3.726711e-02     \n",
       "11 PC11     8.753678e-01 7.662688e-01 20.571491    3.331604e-02     \n",
       "12 PC12     8.120020e-01 6.593473e-01 21.230839    2.866727e-02     \n",
       "13 PC13     7.735300e-01 5.983486e-01 21.829187    2.601516e-02     \n",
       "14 PC14     6.284526e-01 3.949527e-01 22.224140    1.717186e-02     \n",
       "15 PC15     5.738871e-01 3.293465e-01 22.553486    1.431941e-02     \n",
       "16 PC16     4.609430e-01 2.124684e-01 22.765955    9.237757e-03     \n",
       "17 PC17     4.161725e-01 1.731996e-01 22.939154    7.530417e-03     \n",
       "18 PC18     2.078079e-01 4.318411e-02 22.982339    1.877570e-03     \n",
       "19 PC19     1.250896e-01 1.564741e-02 22.997986    6.803220e-04     \n",
       "20 PC20     4.132670e-02 1.707896e-03 22.999694    7.425635e-05     \n",
       "21 PC21     1.749757e-02 3.061649e-04 23.000000    1.331152e-05     \n",
       "22 PC22     1.606785e-07 2.581757e-14 23.000000    1.122503e-15     \n",
       "23 PC23     2.698404e-15 7.281384e-30 23.000000    3.165819e-31     \n",
       "   cum_relative_variance\n",
       "1  0.3197411            \n",
       "2  0.4192236            \n",
       "3  0.5064618            \n",
       "4  0.5846089            \n",
       "5  0.6397884            \n",
       "6  0.6904343            \n",
       "7  0.7379434            \n",
       "8  0.7816036            \n",
       "9  0.8238295            \n",
       "10 0.8610966            \n",
       "11 0.8944127            \n",
       "12 0.9230799            \n",
       "13 0.9490951            \n",
       "14 0.9662670            \n",
       "15 0.9805864            \n",
       "16 0.9898241            \n",
       "17 0.9973545            \n",
       "18 0.9992321            \n",
       "19 0.9999124            \n",
       "20 0.9999867            \n",
       "21 1.0000000            \n",
       "22 1.0000000            \n",
       "23 1.0000000            "
      ]
     },
     "metadata": {},
     "output_type": "display_data"
    },
    {
     "data": {
      "image/png": "[encoded data removed]",
      "text/plain": [
       "plot without title"
      ]
     },
     "metadata": {},
     "output_type": "display_data"
    }
   ],
   "source": [
    "variable = names(data.pc)\n",
    "sdev = sd_columns(data.pc)\n",
    "variance = var_columns(data.pc)\n",
    "cum_variance = cumsum(variance)\n",
    "relative_variance = variance / sum(variance)\n",
    "cum_relative_variance = cumsum(relative_variance)\n",
    "\n",
    "scree.pc = data.frame(variable, sdev, variance, cum_variance, relative_variance, cum_relative_variance)\n",
    "scree.pc\n",
    "\n",
    "ggplot(scree.pc) + ylim(0,1) + xlab(\"variable\") +\n",
    "geom_col(aes(x=factor(variable, levels=variable), y=relative_variance, fill=variable)) +\n",
    "theme.no_legend"
   ]
  },
  {
   "cell_type": "markdown",
   "metadata": {},
   "source": [
    "## Predictive Models"
   ]
  },
  {
   "cell_type": "markdown",
   "metadata": {},
   "source": [
    "### A Naive Bayes Model"
   ]
  },
  {
   "cell_type": "code",
   "execution_count": 11,
   "metadata": {
    "hide_input": true,
    "scrolled": false
   },
   "outputs": [
    {
     "data": {
      "text/plain": [
       "\n",
       "Naive Bayes Classifier for Discrete Predictors\n",
       "\n",
       "Call:\n",
       "naiveBayes.default(x = X, y = Y, laplace = laplace)\n",
       "\n",
       "A-priori probabilities:\n",
       "Y\n",
       " bad good \n",
       " 0.5  0.5 \n",
       "\n",
       "Conditional probabilities:\n",
       "      PC1\n",
       "Y            [,1]     [,2]\n",
       "  bad  -0.1489951 2.776709\n",
       "  good  0.1489951 2.638350\n",
       "\n",
       "      PC2\n",
       "Y            [,1]      [,2]\n",
       "  bad   0.9051323 1.4395436\n",
       "  good -0.9051323 0.9306082\n"
      ]
     },
     "metadata": {},
     "output_type": "display_data"
    }
   ],
   "source": [
    "model.nb = naiveBayes(class ~ PC1+PC2, data.frame(class, data.pc), laplace=TRUE)\n",
    "model.nb"
   ]
  },
  {
   "cell_type": "code",
   "execution_count": 57,
   "metadata": {
    "hide_input": true
   },
   "outputs": [
    {
     "data": {
      "image/png": "[encoded data removed]",
      "text/plain": [
       "plot without title"
      ]
     },
     "metadata": {},
     "output_type": "display_data"
    }
   ],
   "source": [
    "PC1 = seq(-5,20,0.1)\n",
    "PC2 = seq(-5,50,0.1)\n",
    "data.test = expand.grid(PC1, PC2); names(data.test) = c(\"PC1\",\"PC2\")\n",
    "prob = predict(model.nb, data.test, type=\"raw\")\n",
    "data.test$class.predicted = as.class(prob, \"good\", cutoff=0.5)\n",
    "\n",
    "ggplot(data.test) + xlim(-5,20) + ylim(-5,10) +\n",
    "geom_tile(aes(x=PC1, y=PC2, fill=class.predicted), alpha=0.5, na.rm=TRUE) +\n",
    "scale_fill_manual(values=PALETTE[3:2]) + guides.standard + theme.legend_title +\n",
    "ggtitle(\"A Naive Bayes Model\")"
   ]
  },
  {
   "cell_type": "markdown",
   "metadata": {},
   "source": [
    "### A Support Vector Machine (SVM) Model"
   ]
  },
  {
   "cell_type": "code",
   "execution_count": 13,
   "metadata": {
    "hide_input": true
   },
   "outputs": [
    {
     "data": {
      "text/plain": [
       "\n",
       "Call:\n",
       "svm(formula = class ~ PC1 + PC2, data = data.frame(class, data.pc), \n",
       "    type = \"C-classification\", kernel = \"polynomial\", degree = 2, \n",
       "    cost = 0.01, probability = TRUE, scale = FALSE)\n",
       "\n",
       "\n",
       "Parameters:\n",
       "   SVM-Type:  C-classification \n",
       " SVM-Kernel:  polynomial \n",
       "       cost:  0.01 \n",
       "     degree:  2 \n",
       "     coef.0:  0 \n",
       "\n",
       "Number of Support Vectors:  1761\n",
       "\n",
       " ( 881 880 )\n",
       "\n",
       "\n",
       "Number of Classes:  2 \n",
       "\n",
       "Levels: \n",
       " bad good\n",
       "\n",
       "\n"
      ]
     },
     "metadata": {},
     "output_type": "display_data"
    }
   ],
   "source": [
    "set.seed(12345)\n",
    "model.svm = svm(class ~ PC1+PC2, data.frame(class, data.pc), type=\"C-classification\", kernel=\"polynomial\", degree=2, cost=0.01, scale=FALSE, probability=TRUE)\n",
    "summary(model.svm)"
   ]
  },
  {
   "cell_type": "code",
   "execution_count": 58,
   "metadata": {
    "hide_input": true
   },
   "outputs": [
    {
     "data": {
      "image/png": "[encoded data removed]",
      "text/plain": [
       "plot without title"
      ]
     },
     "metadata": {},
     "output_type": "display_data"
    }
   ],
   "source": [
    "PC1 = seq(-5,20,0.1)\n",
    "PC2 = seq(-5,50,0.1)\n",
    "data.test = expand.grid(PC1, PC2); names(data.test) = c(\"PC1\",\"PC2\")\n",
    "prob = attr(predict(model.svm, data.test, probability=TRUE), \"probabilities\")\n",
    "data.test$class.predicted = as.class(prob, \"good\", cutoff=0.5)\n",
    "\n",
    "ggplot(data.test) + xlim(-5,20) + ylim(-5,10) +\n",
    "geom_tile(aes(x=PC1, y=PC2, fill=class.predicted), alpha=0.5, na.rm=TRUE) +\n",
    "scale_fill_manual(values=PALETTE[3:2]) + guides.standard + theme.legend_title +\n",
    "ggtitle(\"A Support Vector Machine Model\")"
   ]
  },
  {
   "cell_type": "markdown",
   "metadata": {},
   "source": [
    "### A Neural Network Model"
   ]
  },
  {
   "cell_type": "code",
   "execution_count": 15,
   "metadata": {
    "hide_input": true
   },
   "outputs": [],
   "source": [
    "set.seed(12345)\n",
    "class.bin = as.binary(class, \"good\")\n",
    "model.nn = neuralnet(class.bin ~ PC1+PC2, data.frame(class.bin, data.pc), hidden=c(2,2), algorithm=\"rprop+\", act.fct=\"logistic\", linear.output=FALSE, rep=1)"
   ]
  },
  {
   "cell_type": "code",
   "execution_count": 16,
   "metadata": {
    "hide_input": true,
    "scrolled": false
   },
   "outputs": [
    {
     "data": {
      "image/png": "[encoded data removed]",
      "text/plain": [
       "plot without title"
      ]
     },
     "metadata": {},
     "output_type": "display_data"
    }
   ],
   "source": [
    "output_size(5,5)\n",
    "plot(model.nn, rep=1, fill=\"gray\", show.weights=TRUE, information=FALSE, cex=0.7, lwd=0.5, arrow.length=0.15)\n",
    "output_size(restore)"
   ]
  },
  {
   "cell_type": "code",
   "execution_count": 59,
   "metadata": {
    "hide_input": true
   },
   "outputs": [
    {
     "data": {
      "image/png": "[encoded data removed]",
      "text/plain": [
       "plot without title"
      ]
     },
     "metadata": {},
     "output_type": "display_data"
    }
   ],
   "source": [
    "PC1 = seq(-5,20,0.1)\n",
    "PC2 = seq(-5,50,0.1)\n",
    "data.test = expand.grid(PC1, PC2); names(data.test) = c(\"PC1\",\"PC2\")\n",
    "\n",
    "output = compute(model.nn, data.test, rep=1)$net.result\n",
    "prob = data.frame(\"good\"=output, \"bad\"=1-output)\n",
    "data.test$class.predicted = as.class(prob, \"good\", cutoff=0.5)\n",
    "\n",
    "ggplot(data.test) + xlim(-5,20) + ylim(-5,10) +\n",
    "geom_tile(aes(x=PC1, y=PC2, fill=class.predicted), alpha=0.5, na.rm=TRUE) +\n",
    "scale_fill_manual(values=PALETTE[3:2]) + guides.standard + theme.legend_title +\n",
    "ggtitle(\"A Neural Network Model\")"
   ]
  },
  {
   "cell_type": "markdown",
   "metadata": {},
   "source": [
    "### A Logistic Regression Model"
   ]
  },
  {
   "cell_type": "code",
   "execution_count": 20,
   "metadata": {
    "hide_input": true
   },
   "outputs": [
    {
     "name": "stderr",
     "output_type": "stream",
     "text": [
      "Warning message:\n",
      "\"glm.fit: fitted probabilities numerically 0 or 1 occurred\""
     ]
    },
    {
     "data": {
      "text/plain": [
       "\n",
       "Call:  glm(formula = class ~ PC1 + PC2, family = binomial(link = \"logit\"), \n",
       "    data = data.frame(class, data.pc))\n",
       "\n",
       "Coefficients:\n",
       "(Intercept)          PC1          PC2  \n",
       "   -0.24168     -0.01912     -2.25303  \n",
       "\n",
       "Degrees of Freedom: 1999 Total (i.e. Null);  1997 Residual\n",
       "Null Deviance:\t    2773 \n",
       "Residual Deviance: 1540 \tAIC: 1546"
      ]
     },
     "metadata": {},
     "output_type": "display_data"
    }
   ],
   "source": [
    "model.lr = glm(class ~ PC1+PC2, binomial(link=\"logit\"), data.frame(class, data.pc))\n",
    "model.lr"
   ]
  },
  {
   "cell_type": "code",
   "execution_count": 60,
   "metadata": {
    "hide_input": true
   },
   "outputs": [
    {
     "data": {
      "image/png": "[encoded data removed]",
      "text/plain": [
       "plot without title"
      ]
     },
     "metadata": {},
     "output_type": "display_data"
    }
   ],
   "source": [
    "PC1 = seq(-5,20,0.1)\n",
    "PC2 = seq(-5,50,0.1)\n",
    "data.test = expand.grid(PC1, PC2); names(data.test) = c(\"PC1\",\"PC2\")\n",
    "\n",
    "prob.good = predict(model.lr, data.test, type=\"response\")\n",
    "prob = data.frame(\"good\"=prob.good, \"bad\"=1-prob.good)\n",
    "data.test$class.predicted = as.class(prob, class=\"good\", cutoff=0.5)\n",
    "\n",
    "ggplot(data.test) + xlim(-5,20) + ylim(-5,10) +\n",
    "geom_tile(aes(x=PC1, y=PC2, fill=class.predicted), alpha=0.5, na.rm=TRUE) +\n",
    "scale_fill_manual(values=PALETTE[3:2]) + guides.standard + theme.legend_title +\n",
    "ggtitle(\"A Logistic Regression Model\")"
   ]
  },
  {
   "cell_type": "markdown",
   "metadata": {},
   "source": [
    "### A Decision Tree Model"
   ]
  },
  {
   "cell_type": "code",
   "execution_count": 42,
   "metadata": {
    "hide_input": true
   },
   "outputs": [
    {
     "data": {
      "text/plain": [
       "n= 2000 \n",
       "\n",
       "node), split, n, loss, yval, (yprob)\n",
       "      * denotes terminal node\n",
       "\n",
       " 1) root 2000 1000 bad (0.50000000 0.50000000)  \n",
       "   2) PC2>=-0.1156821 990  160 bad (0.83838384 0.16161616)  \n",
       "     4) PC2>=0.4273111 660   55 bad (0.91666667 0.08333333) *\n",
       "     5) PC2< 0.4273111 330  105 bad (0.68181818 0.31818182)  \n",
       "      10) PC1< -2.763853 77   11 bad (0.85714286 0.14285714)  \n",
       "        20) PC2< 0.3994017 72    8 bad (0.88888889 0.11111111) *\n",
       "        21) PC2>=0.3994017 5    2 good (0.40000000 0.60000000) *\n",
       "      11) PC1>=-2.763853 253   94 bad (0.62845850 0.37154150) *\n",
       "   3) PC2< -0.1156821 1010  170 good (0.16831683 0.83168317)  \n",
       "     6) PC2>=-0.4969993 265  104 good (0.39245283 0.60754717)  \n",
       "      12) PC1< -3.185236 38   10 bad (0.73684211 0.26315789)  \n",
       "        24) PC2< -0.159503 31    5 bad (0.83870968 0.16129032) *\n",
       "        25) PC2>=-0.159503 7    2 good (0.28571429 0.71428571) *\n",
       "      13) PC1>=-3.185236 227   76 good (0.33480176 0.66519824) *\n",
       "     7) PC2< -0.4969993 745   66 good (0.08859060 0.91140940)  \n",
       "      14) PC2>=-1.020838 325   54 good (0.16615385 0.83384615)  \n",
       "        28) PC1>=4.96277 9    2 bad (0.77777778 0.22222222) *\n",
       "        29) PC1< 4.96277 316   47 good (0.14873418 0.85126582) *\n",
       "      15) PC2< -1.020838 420   12 good (0.02857143 0.97142857) *"
      ]
     },
     "metadata": {},
     "output_type": "display_data"
    }
   ],
   "source": [
    "model.dt = rpart(class ~ PC1+PC2, data.frame(class, data.pc), method=\"class\", minsplit=5, cp=0, maxdepth=4)\n",
    "model.dt"
   ]
  },
  {
   "cell_type": "code",
   "execution_count": 46,
   "metadata": {
    "hide_input": true
   },
   "outputs": [
    {
     "data": {
      "image/png": "[encoded data removed]",
      "text/plain": [
       "plot without title"
      ]
     },
     "metadata": {},
     "output_type": "display_data"
    }
   ],
   "source": [
    "ggtree(model.dt)"
   ]
  },
  {
   "cell_type": "code",
   "execution_count": 61,
   "metadata": {
    "hide_input": true
   },
   "outputs": [
    {
     "data": {
      "image/png": "[encoded data removed]",
      "text/plain": [
       "plot without title"
      ]
     },
     "metadata": {},
     "output_type": "display_data"
    }
   ],
   "source": [
    "PC1 = seq(-5,20,0.1)\n",
    "PC2 = seq(-5,50,0.1)\n",
    "data.test = expand.grid(PC1, PC2); names(data.test) = c(\"PC1\",\"PC2\")\n",
    "\n",
    "prob = predict(model.dt, data.test, type=\"prob\")\n",
    "data.test$class.predicted = as.class(prob, class=\"good\", cutoff=0.5)\n",
    "\n",
    "ggplot(data.test) + xlim(-5,20) + ylim(-5,10) +\n",
    "geom_tile(aes(x=PC1, y=PC2, fill=class.predicted), alpha=0.5, na.rm=TRUE) +\n",
    "scale_fill_manual(values=PALETTE[3:2]) + guides.standard + theme.legend_title +\n",
    "ggtitle(\"A Decision Tree Model\")"
   ]
  },
  {
   "cell_type": "markdown",
   "metadata": {},
   "source": [
    "### A k-Nearest Neighbors Model"
   ]
  },
  {
   "cell_type": "code",
   "execution_count": 62,
   "metadata": {
    "hide_input": true
   },
   "outputs": [
    {
     "data": {
      "image/png": "[encoded data removed]",
      "text/plain": [
       "plot without title"
      ]
     },
     "metadata": {},
     "output_type": "display_data"
    }
   ],
   "source": [
    "PC1 = seq(-5,20,0.1)\n",
    "PC2 = seq(-5,50,0.1)\n",
    "data.test = expand.grid(PC1, PC2); names(data.test) = c(\"PC1\",\"PC2\")\n",
    "\n",
    "prob = kknn(class ~ PC1+PC2, data.frame(class, data.pc), data.test, k=3)$prob\n",
    "data.test$class.predicted = as.class(prob, class=\"good\", cutoff=0.5)\n",
    "\n",
    "ggplot(data.test) + xlim(-5,20) + ylim(-5,10) +\n",
    "geom_tile(aes(x=PC1, y=PC2, fill=class.predicted), alpha=0.5, na.rm=TRUE) +\n",
    "scale_fill_manual(values=PALETTE[3:2]) + guides.standard + theme.legend_title +\n",
    "ggtitle(\"A k-Nearest Neighbor Model\")"
   ]
  },
  {
   "cell_type": "markdown",
   "metadata": {},
   "source": [
    "<p style=\"text-align:left; font-size:10px;\">\n",
    "Copyright (c) Berkeley Data Analytics Group, LLC\n",
    "<span style=\"float:right;\">\n",
    "Document revised October 27, 2019\n",
    "</span>\n",
    "</p>"
   ]
  }
 ],
 "metadata": {
  "hide_code_all_hidden": false,
  "hide_input": false,
  "kernelspec": {
   "display_name": "R",
   "language": "R",
   "name": "ir"
  },
  "language_info": {
   "codemirror_mode": "r",
   "file_extension": ".r",
   "mimetype": "text/x-r-source",
   "name": "R",
   "pygments_lexer": "r",
   "version": "3.6.1"
  },
  "toc": {
   "base_numbering": 1,
   "nav_menu": {},
   "number_sections": true,
   "sideBar": true,
   "skip_h1_title": true,
   "title_cell": "Table of Contents",
   "title_sidebar": "Contents",
   "toc_cell": false,
   "toc_position": {
    "height": "calc(100% - 180px)",
    "left": "10px",
    "top": "150px",
    "width": "255.865px"
   },
   "toc_section_display": true,
   "toc_window_display": true
  }
 },
 "nbformat": 4,
 "nbformat_minor": 2
}
