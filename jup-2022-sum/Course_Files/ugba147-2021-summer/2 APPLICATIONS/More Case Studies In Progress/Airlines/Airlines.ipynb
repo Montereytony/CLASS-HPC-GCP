{
 "cells": [
  {
   "cell_type": "markdown",
   "metadata": {
    "hideCode": false,
    "hidePrompt": false
   },
   "source": [
    "# American Airlines & United Airlines\n",
    "\n",
    "![](banner_airlines.jpg)\n",
    "\n",
    "Data Retrieval, Descriptive Statistics, Histogram"
   ]
  },
  {
   "cell_type": "code",
   "execution_count": null,
   "metadata": {
    "hide_input": false
   },
   "outputs": [],
   "source": [
    "f = \"setup.R\"; for (i in 1:10) { if (file.exists(f)) break else f = paste0(\"../\", f) }; source(f)"
   ]
  },
  {
   "cell_type": "markdown",
   "metadata": {},
   "source": [
    "## Situation\n",
    "\n",
    "* **Role:** Business analyst\n",
    "* **Business Decision:** How to schedule employees business travel?\n",
    "* **Aproach:** Explore data to gain insight about possible airline price discrimination.\n",
    "* **Dataset:** The dataset that you will use for this assignment is called `airline_ticket_prices.csv`. These data are a random sample of all recent roundtrip airline tickets purchased for travel between New York’s John F. Kennedy Airport (JFK) and Los Angeles (LAX). First-class fares have been excluded. For each ticket, the data includes the carrier (i.e. the airline), the roundtrip fare, and several other variables."
   ]
  },
  {
   "cell_type": "markdown",
   "metadata": {},
   "source": [
    "## Data"
   ]
  },
  {
   "cell_type": "markdown",
   "metadata": {},
   "source": [
    "Retrieve the data in the file called `airline_ticket_prices.csv`."
   ]
  },
  {
   "cell_type": "code",
   "execution_count": null,
   "metadata": {
    "hideCode": false,
    "hidePrompt": false,
    "run_control": {
     "marked": false
    },
    "scrolled": true
   },
   "outputs": [],
   "source": [
    "data = read.csv(\"airline_ticket_prices.csv\", header=TRUE)\n",
    "size(data)\n",
    "data"
   ]
  },
  {
   "cell_type": "markdown",
   "metadata": {},
   "source": [
    "Take a look at the variables `advance`, `busclass`, and `nonrefundable`.\n",
    "* Question: What do you think each variable measures?\n",
    "* Answer:\n",
    "  * **advance:** Measures how many days in advance each ticket was purchased.\n",
    "\n",
    "  * **busclass:** Indicates whether a ticket purchased was a business class ticket. 1 indicates that a ticket was a business class ticket and 0 indicates that it was not. This is very visible in that the \"1's\" are much more expensive than the \"0's\". Note: We call this a \"dummy variable\" or an indicator variable. We will discuss these sorts of variables in more detail later in the course.\n",
    "\n",
    "  * **nonrefundable:** Indicates whether a ticket purchased was a nonrefundable ticket. 1 indicates that a ticket was nonrefundable and 0 indicates that it was not (that is, it was refundable). We can guess at this by seeing that the \"1's\" are much less expensive than the \"0's\". "
   ]
  },
  {
   "cell_type": "markdown",
   "metadata": {
    "hideCode": false,
    "hidePrompt": false
   },
   "source": [
    "## Descriptive Statistics & Histograms"
   ]
  },
  {
   "cell_type": "markdown",
   "metadata": {},
   "source": [
    "List summary statistics for the variable `rtrip_fare`.  Note that the mean is larger than the median.\n",
    "* Question: What does this indicate?\n",
    "* Answer: These data are skewed to the right."
   ]
  },
  {
   "cell_type": "code",
   "execution_count": null,
   "metadata": {
    "hideCode": false,
    "hidePrompt": false
   },
   "outputs": [],
   "source": [
    "describe(data$rtrip_fare)"
   ]
  },
  {
   "cell_type": "markdown",
   "metadata": {
    "hideCode": false,
    "hidePrompt": false
   },
   "source": [
    "Construct a histogram of round trip fares.\n",
    "* Question: Why is there so much white space on the right side of the histogram?\n",
    "* Answer: There are a small number of very high fares, i.e., above \\\\$1000."
   ]
  },
  {
   "cell_type": "code",
   "execution_count": null,
   "metadata": {
    "hideCode": false,
    "hidePrompt": false
   },
   "outputs": [],
   "source": [
    "ggplot(data) + ggtitle(\"Round Trip Fares\") + xlab(\"round trip fare ($)\") +\n",
    "geom_histogram(aes(rtrip_fare), bins=100)"
   ]
  },
  {
   "cell_type": "markdown",
   "metadata": {
    "collapsed": true,
    "hideCode": false,
    "hidePrompt": false
   },
   "source": [
    "Construct another histogram using only tickets under \\\\$1000. Be sure to label the axes."
   ]
  },
  {
   "cell_type": "code",
   "execution_count": null,
   "metadata": {
    "hideCode": false,
    "hidePrompt": false
   },
   "outputs": [],
   "source": [
    "data.cheap = data[data$rtrip_fare < 1000, ]\n",
    "\n",
    "ggplot(data.cheap) + ggtitle(\"Round Trip Fares < $1000\") + xlab(\"round trip fare ($)\") +\n",
    "geom_histogram(aes(rtrip_fare), bins=100)"
   ]
  },
  {
   "cell_type": "markdown",
   "metadata": {
    "hideCode": false,
    "hidePrompt": false
   },
   "source": [
    "Go back to the full dataset.\n",
    "* Question: Is one of the airlines much cheaper on average than the other?\n",
    "* Answer: No. On average, both airlines' fares are just over $368."
   ]
  },
  {
   "cell_type": "code",
   "execution_count": null,
   "metadata": {},
   "outputs": [],
   "source": [
    "data.AA = data[data$carrier == \"AA\", ]\n",
    "data.UA = data[data$carrier == \"UA\", ]\n",
    "\n",
    "m.AA = mean(data.AA$rtrip_fare)\n",
    "m.UA = mean(data.UA$rtrip_fare)\n",
    "\n",
    "data.frame(price_mean_AA=m.AA, price_mean_UA=m.UA)"
   ]
  },
  {
   "cell_type": "markdown",
   "metadata": {
    "hideCode": false,
    "hidePrompt": false
   },
   "source": [
    "The `satstayover` variable is a 0/1 variable. Take a look at the prices of tickets with `satstayover` equal to 0 and equal to 1.\n",
    "* Question: What do you think this variable measures and how do you interpret the price difference?\n",
    "* Answer: This variable indicates that a roundtrip ticket includes a Saturday stayover in the destination location. Tickets with values of 1 are much less expensive than those with zeroes, \\\\$252 versus \\\\$402. This is classic price discrimination. Business travelers are less likely have a Saturday stayover and have higher willingness-to-pay, in part because they are typically buying their tickets with company funds."
   ]
  },
  {
   "cell_type": "code",
   "execution_count": null,
   "metadata": {},
   "outputs": [],
   "source": [
    "data.0 = data[data$satstayover == 0, ]\n",
    "data.1 = data[data$satstayover == 1, ]\n",
    "\n",
    "m.0 = mean(data.0$rtrip_fare)\n",
    "m.1 = mean(data.1$rtrip_fare)\n",
    "\n",
    "data.frame(price_mean_no_stayover=m.0, price_mean_stayover=m.1)"
   ]
  },
  {
   "cell_type": "markdown",
   "metadata": {},
   "source": [
    "<p style=\"text-align:left; font-size:10px;\">\n",
    "Copyright (c) Berkeley Data Analytics Group, LLC\n",
    "<span style=\"float:right;\">\n",
    "Document revised January 21, 2020\n",
    "</span>\n",
    "</p>"
   ]
  }
 ],
 "metadata": {
  "hide_code_all_hidden": false,
  "hide_input": false,
  "kernelspec": {
   "display_name": "R",
   "language": "R",
   "name": "ir"
  },
  "language_info": {
   "codemirror_mode": "r",
   "file_extension": ".r",
   "mimetype": "text/x-r-source",
   "name": "R",
   "pygments_lexer": "r",
   "version": "3.6.1"
  },
  "toc": {
   "base_numbering": 1,
   "nav_menu": {},
   "number_sections": true,
   "sideBar": true,
   "skip_h1_title": true,
   "title_cell": "Table of Contents",
   "title_sidebar": "Contents",
   "toc_cell": false,
   "toc_position": {
    "height": "calc(100% - 180px)",
    "left": "10px",
    "top": "150px",
    "width": "307.2px"
   },
   "toc_section_display": true,
   "toc_window_display": true
  }
 },
 "nbformat": 4,
 "nbformat_minor": 2
}
