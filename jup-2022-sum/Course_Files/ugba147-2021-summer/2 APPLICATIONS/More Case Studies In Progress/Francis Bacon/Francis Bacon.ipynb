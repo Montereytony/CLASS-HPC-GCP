{
 "cells": [
  {
   "cell_type": "markdown",
   "metadata": {
    "hideCode": false,
    "hidePrompt": false
   },
   "source": [
    "# Francis Bacon\n",
    "\n",
    "![]()\n",
    "\n",
    "Social Network"
   ]
  },
  {
   "cell_type": "code",
   "execution_count": 3,
   "metadata": {
    "hide_input": true,
    "scrolled": true
   },
   "outputs": [
    {
     "data": {
      "text/html": [
       "<p style=\"text-align:center; font-size:10px;\">\n",
       ".................................................... document start ....................................................\n",
       "</p>"
      ]
     },
     "metadata": {},
     "output_type": "display_data"
    }
   ],
   "source": [
    "f = \"setup.R\"; for (i in 1:10) { if (file.exists(f)) break else f = paste0(\"../\", f) }; source(f)                                                     \n",
    "update_geom_defaults(\"point\", list(size=0.01, colour=PALETTE[1]))\n",
    "update_geom_defaults(\"vline\", list(color=\"black\", size=0.15))"
   ]
  },
  {
   "cell_type": "markdown",
   "metadata": {},
   "source": [
    "## Situation\n"
   ]
  },
  {
   "cell_type": "markdown",
   "metadata": {},
   "source": [
    "## Business Model"
   ]
  },
  {
   "cell_type": "markdown",
   "metadata": {},
   "source": [
    "### Influence Diagram\n",
    "\n",
    "<img src=\"\" align=left width=600 />"
   ]
  },
  {
   "cell_type": "markdown",
   "metadata": {},
   "source": [
    "## Data "
   ]
  },
  {
   "cell_type": "code",
   "execution_count": null,
   "metadata": {},
   "outputs": [],
   "source": [
    "datax.people = read.csv(\"SDFB_people_2019_11_18.csv\")[1:1380,]"
   ]
  },
  {
   "cell_type": "code",
   "execution_count": 49,
   "metadata": {},
   "outputs": [],
   "source": [
    "current_year = 1600"
   ]
  },
  {
   "cell_type": "code",
   "execution_count": 78,
   "metadata": {},
   "outputs": [
    {
     "data": {
      "text/html": [
       "<table>\n",
       "<thead><tr><th></th><th scope=col>id</th><th scope=col>display_name</th><th scope=col>first_name</th><th scope=col>last_name</th><th scope=col>created_by</th><th scope=col>historical_significance</th><th scope=col>prefix</th><th scope=col>suffix</th><th scope=col>title</th><th scope=col>birth_year_type</th><th scope=col>birth_year</th><th scope=col>death_year_type</th><th scope=col>death_year</th><th scope=col>gender</th><th scope=col>approved_by</th><th scope=col>approved_on</th><th scope=col>odnb_id</th><th scope=col>created_at</th><th scope=col>updated_at</th><th scope=col>search_names_all</th><th scope=col>citation</th><th scope=col>aliases</th></tr></thead>\n",
       "<tbody>\n",
       "\t<tr><th scope=row>1380</th><td>10054709                                                                                                                                                                                                         </td><td>Lady Honora Ardglass nee. Boyle Countess of Ardglass                                                                                                                                                             </td><td>Honora                                                                                                                                                                                                           </td><td>Ardglass nee. Boyle                                                                                                                                                                                              </td><td>389                                                                                                                                                                                                              </td><td>Wife of Thomas Cromwell 3rd Earl of Ardglass, Frances Cuffe and Captain Sir Thomas Burdett                                                                                                                       </td><td>Lady                                                                                                                                                                                                             </td><td>                                                                                                                                                                                                                 </td><td>Countess of Ardglass                                                                                                                                                                                             </td><td>BF                                                                                                                                                                                                               </td><td>1699                                                                                                                                                                                                             </td><td>IN                                                                                                                                                                                                               </td><td>1710/11                                                                                                                                                                                                          </td><td>female                                                                                                                                                                                                           </td><td>4                                                                                                                                                                                                                </td><td>2016-01-23 17:13:28.195838                                                                                                                                                                                       </td><td>NA                                                                                                                                                                                                               </td><td>2016-01-23 17:10:00.997271                                                                                                                                                                                       </td><td>2016-01-23 17:13:28.195320                                                                                                                                                                                       </td><td>Lady Honora, Lady Honora Ardglass nee. Boyle, Lady Honora Ardglass nee. Boyle Countess of Ardglass, Lady Ardglass nee. Boyle, Honora, Honora Ardglass nee. Boyle, Honora Ardglass nee. Boyle Countess of Ardglass</td><td>                                                                                                                                                                                                                 </td><td>                                                                                                                                                                                                                 </td></tr>\n",
       "</tbody>\n",
       "</table>\n"
      ],
      "text/latex": [
       "\\begin{tabular}{r|llllllllllllllllllllll}\n",
       "  & id & display\\_name & first\\_name & last\\_name & created\\_by & historical\\_significance & prefix & suffix & title & birth\\_year\\_type & birth\\_year & death\\_year\\_type & death\\_year & gender & approved\\_by & approved\\_on & odnb\\_id & created\\_at & updated\\_at & search\\_names\\_all & citation & aliases\\\\\n",
       "\\hline\n",
       "\t1380 & 10054709                                                                                                                                                                                                          & Lady Honora Ardglass nee. Boyle Countess of Ardglass                                                                                                                                                              & Honora                                                                                                                                                                                                            & Ardglass nee. Boyle                                                                                                                                                                                               & 389                                                                                                                                                                                                               & Wife of Thomas Cromwell 3rd Earl of Ardglass, Frances Cuffe and Captain Sir Thomas Burdett                                                                                                                        & Lady                                                                                                                                                                                                              &                                                                                                                                                                                                                   & Countess of Ardglass                                                                                                                                                                                              & BF                                                                                                                                                                                                                & 1699                                                                                                                                                                                                              & IN                                                                                                                                                                                                                & 1710/11                                                                                                                                                                                                           & female                                                                                                                                                                                                            & 4                                                                                                                                                                                                                 & 2016-01-23 17:13:28.195838                                                                                                                                                                                        & NA                                                                                                                                                                                                                & 2016-01-23 17:10:00.997271                                                                                                                                                                                        & 2016-01-23 17:13:28.195320                                                                                                                                                                                        & Lady Honora, Lady Honora Ardglass nee. Boyle, Lady Honora Ardglass nee. Boyle Countess of Ardglass, Lady Ardglass nee. Boyle, Honora, Honora Ardglass nee. Boyle, Honora Ardglass nee. Boyle Countess of Ardglass &                                                                                                                                                                                                                   &                                                                                                                                                                                                                  \\\\\n",
       "\\end{tabular}\n"
      ],
      "text/markdown": [
       "\n",
       "| <!--/--> | id | display_name | first_name | last_name | created_by | historical_significance | prefix | suffix | title | birth_year_type | birth_year | death_year_type | death_year | gender | approved_by | approved_on | odnb_id | created_at | updated_at | search_names_all | citation | aliases |\n",
       "|---|---|---|---|---|---|---|---|---|---|---|---|---|---|---|---|---|---|---|---|---|---|---|\n",
       "| 1380 | 10054709                                                                                                                                                                                                          | Lady Honora Ardglass nee. Boyle Countess of Ardglass                                                                                                                                                              | Honora                                                                                                                                                                                                            | Ardglass nee. Boyle                                                                                                                                                                                               | 389                                                                                                                                                                                                               | Wife of Thomas Cromwell 3rd Earl of Ardglass, Frances Cuffe and Captain Sir Thomas Burdett                                                                                                                        | Lady                                                                                                                                                                                                              |                                                                                                                                                                                                                   | Countess of Ardglass                                                                                                                                                                                              | BF                                                                                                                                                                                                                | 1699                                                                                                                                                                                                              | IN                                                                                                                                                                                                                | 1710/11                                                                                                                                                                                                           | female                                                                                                                                                                                                            | 4                                                                                                                                                                                                                 | 2016-01-23 17:13:28.195838                                                                                                                                                                                        | NA                                                                                                                                                                                                                | 2016-01-23 17:10:00.997271                                                                                                                                                                                        | 2016-01-23 17:13:28.195320                                                                                                                                                                                        | Lady Honora, Lady Honora Ardglass nee. Boyle, Lady Honora Ardglass nee. Boyle Countess of Ardglass, Lady Ardglass nee. Boyle, Honora, Honora Ardglass nee. Boyle, Honora Ardglass nee. Boyle Countess of Ardglass |                                                                                                                                                                                                                   |                                                                                                                                                                                                                   |\n",
       "\n"
      ],
      "text/plain": [
       "     id       display_name                                         first_name\n",
       "1380 10054709 Lady Honora Ardglass nee. Boyle Countess of Ardglass Honora    \n",
       "     last_name           created_by\n",
       "1380 Ardglass nee. Boyle 389       \n",
       "     historical_significance                                                                   \n",
       "1380 Wife of Thomas Cromwell 3rd Earl of Ardglass, Frances Cuffe and Captain Sir Thomas Burdett\n",
       "     prefix suffix title                birth_year_type birth_year\n",
       "1380 Lady          Countess of Ardglass BF              1699      \n",
       "     death_year_type death_year gender approved_by approved_on               \n",
       "1380 IN              1710/11    female 4           2016-01-23 17:13:28.195838\n",
       "     odnb_id created_at                 updated_at                \n",
       "1380 NA      2016-01-23 17:10:00.997271 2016-01-23 17:13:28.195320\n",
       "     search_names_all                                                                                                                                                                                                 \n",
       "1380 Lady Honora, Lady Honora Ardglass nee. Boyle, Lady Honora Ardglass nee. Boyle Countess of Ardglass, Lady Ardglass nee. Boyle, Honora, Honora Ardglass nee. Boyle, Honora Ardglass nee. Boyle Countess of Ardglass\n",
       "     citation aliases\n",
       "1380                 "
      ]
     },
     "metadata": {},
     "output_type": "display_data"
    },
    {
     "name": "stderr",
     "output_type": "stream",
     "text": [
      "Warning message in eval(expr, envir, enclos):\n",
      "\"NAs introduced by coercion\""
     ]
    }
   ],
   "source": [
    "datax.people = read.csv(\"SDFB_people_2019_11_18.csv\")[1:1380,]\n",
    "\n",
    "datax.people[1380,]\n",
    "\n",
    "datax.people$birth_year = as.numeric(as.character(datax.people$birth_year))\n",
    "datax.people$death_year = as.numeric(as.character(datax.people$death_year))\n",
    "\n",
    "# class(datax.people$birth_year)\n",
    "# class(datax.people$death_year)\n",
    "# length(which(is.na(datax.people$birth_year)))\n",
    "\n",
    "# datax.people = datax.people[(datax.people$birth_year < current_year) & (datax.people$death_year > current_year), 1:2]\n",
    "\n",
    "\n",
    "# size(datax.people)\n",
    "# head(datax.people) %>% caption(\"First few observations ...\", position=\"left\")"
   ]
  },
  {
   "cell_type": "code",
   "execution_count": 24,
   "metadata": {
    "scrolled": false
   },
   "outputs": [
    {
     "data": {
      "text/html": [
       "<table>\n",
       "<thead><tr><th scope=col>observations</th><th scope=col>variables</th></tr></thead>\n",
       "<tbody>\n",
       "\t<tr><td>171548</td><td>12    </td></tr>\n",
       "</tbody>\n",
       "</table>\n"
      ],
      "text/latex": [
       "\\begin{tabular}{r|ll}\n",
       " observations & variables\\\\\n",
       "\\hline\n",
       "\t 171548 & 12    \\\\\n",
       "\\end{tabular}\n"
      ],
      "text/markdown": [
       "\n",
       "| observations | variables |\n",
       "|---|---|\n",
       "| 171548 | 12     |\n",
       "\n"
      ],
      "text/plain": [
       "  observations variables\n",
       "1 171548       12       "
      ]
     },
     "metadata": {},
     "output_type": "display_data"
    },
    {
     "data": {
      "text/html": [
       "<table>\n",
       "<caption><left><font color=\"black\"><b>First few observations ...</b></font></left></caption>\n",
       " <thead>\n",
       "  <tr>\n",
       "   <th style=\"text-align:right;\"> id </th>\n",
       "   <th style=\"text-align:right;\"> person1_index </th>\n",
       "   <th style=\"text-align:right;\"> person2_index </th>\n",
       "   <th style=\"text-align:right;\"> max_certainty </th>\n",
       "   <th style=\"text-align:right;\"> original_certainty </th>\n",
       "   <th style=\"text-align:right;\"> created_by </th>\n",
       "   <th style=\"text-align:right;\"> start_date_type </th>\n",
       "   <th style=\"text-align:right;\"> start_year </th>\n",
       "   <th style=\"text-align:right;\"> end_date_type </th>\n",
       "   <th style=\"text-align:right;\"> end_year </th>\n",
       "   <th style=\"text-align:right;\"> approved_by </th>\n",
       "   <th style=\"text-align:right;\"> citation </th>\n",
       "  </tr>\n",
       " </thead>\n",
       "<tbody>\n",
       "  <tr>\n",
       "   <td style=\"text-align:right;\"> 100047969 </td>\n",
       "   <td style=\"text-align:right;\"> 10002248 </td>\n",
       "   <td style=\"text-align:right;\"> 10002250 </td>\n",
       "   <td style=\"text-align:right;\"> 81 </td>\n",
       "   <td style=\"text-align:right;\"> 81 </td>\n",
       "   <td style=\"text-align:right;\"> 2 </td>\n",
       "   <td style=\"text-align:right;\"> AF/IN </td>\n",
       "   <td style=\"text-align:right;\"> 1542 </td>\n",
       "   <td style=\"text-align:right;\"> BF/IN </td>\n",
       "   <td style=\"text-align:right;\"> 1589 </td>\n",
       "   <td style=\"text-align:right;\"> 2 </td>\n",
       "   <td style=\"text-align:right;\">  </td>\n",
       "  </tr>\n",
       "  <tr>\n",
       "   <td style=\"text-align:right;\"> 100201025 </td>\n",
       "   <td style=\"text-align:right;\"> 10002157 </td>\n",
       "   <td style=\"text-align:right;\"> 10001533 </td>\n",
       "   <td style=\"text-align:right;\"> 60 </td>\n",
       "   <td style=\"text-align:right;\"> 60 </td>\n",
       "   <td style=\"text-align:right;\"> 476 </td>\n",
       "   <td style=\"text-align:right;\"> AF/IN </td>\n",
       "   <td style=\"text-align:right;\"> 1566 </td>\n",
       "   <td style=\"text-align:right;\"> BF/IN </td>\n",
       "   <td style=\"text-align:right;\"> 1621 </td>\n",
       "   <td style=\"text-align:right;\"> 5 </td>\n",
       "   <td style=\"text-align:right;\"> William Bradford, &quot;Of Plimoth Plantation&quot; </td>\n",
       "  </tr>\n",
       "  <tr>\n",
       "   <td style=\"text-align:right;\"> 100200986 </td>\n",
       "   <td style=\"text-align:right;\"> 10050002 </td>\n",
       "   <td style=\"text-align:right;\"> 10000252 </td>\n",
       "   <td style=\"text-align:right;\"> 100 </td>\n",
       "   <td style=\"text-align:right;\"> 100 </td>\n",
       "   <td style=\"text-align:right;\"> 5 </td>\n",
       "   <td style=\"text-align:right;\"> AF/IN </td>\n",
       "   <td style=\"text-align:right;\"> 1616 </td>\n",
       "   <td style=\"text-align:right;\"> BF/IN </td>\n",
       "   <td style=\"text-align:right;\"> 1673 </td>\n",
       "   <td style=\"text-align:right;\"> 5 </td>\n",
       "   <td style=\"text-align:right;\">  </td>\n",
       "  </tr>\n",
       "  <tr>\n",
       "   <td style=\"text-align:right;\"> 100093295 </td>\n",
       "   <td style=\"text-align:right;\"> 10004588 </td>\n",
       "   <td style=\"text-align:right;\"> 10013294 </td>\n",
       "   <td style=\"text-align:right;\"> 75 </td>\n",
       "   <td style=\"text-align:right;\"> 11 </td>\n",
       "   <td style=\"text-align:right;\"> 2 </td>\n",
       "   <td style=\"text-align:right;\"> AF/IN </td>\n",
       "   <td style=\"text-align:right;\"> 1535 </td>\n",
       "   <td style=\"text-align:right;\"> BF/IN </td>\n",
       "   <td style=\"text-align:right;\"> 1577 </td>\n",
       "   <td style=\"text-align:right;\"> 2 </td>\n",
       "   <td style=\"text-align:right;\">  </td>\n",
       "  </tr>\n",
       "  <tr>\n",
       "   <td style=\"text-align:right;\"> 100201027 </td>\n",
       "   <td style=\"text-align:right;\"> 10008901 </td>\n",
       "   <td style=\"text-align:right;\"> 10001903 </td>\n",
       "   <td style=\"text-align:right;\"> 60 </td>\n",
       "   <td style=\"text-align:right;\"> 60 </td>\n",
       "   <td style=\"text-align:right;\"> 5 </td>\n",
       "   <td style=\"text-align:right;\"> AF/IN </td>\n",
       "   <td style=\"text-align:right;\"> 1561 </td>\n",
       "   <td style=\"text-align:right;\"> BF/IN </td>\n",
       "   <td style=\"text-align:right;\"> 1581 </td>\n",
       "   <td style=\"text-align:right;\"> 5 </td>\n",
       "   <td style=\"text-align:right;\"> Bynneman printed North's 1575 translation The philosopher of the court (STC (2nd ed.) / 19832) </td>\n",
       "  </tr>\n",
       "  <tr>\n",
       "   <td style=\"text-align:right;\"> 100201026 </td>\n",
       "   <td style=\"text-align:right;\"> 10008901 </td>\n",
       "   <td style=\"text-align:right;\"> 10008908 </td>\n",
       "   <td style=\"text-align:right;\"> 60 </td>\n",
       "   <td style=\"text-align:right;\"> 60 </td>\n",
       "   <td style=\"text-align:right;\"> 5 </td>\n",
       "   <td style=\"text-align:right;\"> AF/IN </td>\n",
       "   <td style=\"text-align:right;\"> 1561 </td>\n",
       "   <td style=\"text-align:right;\"> BF/IN </td>\n",
       "   <td style=\"text-align:right;\"> 1581 </td>\n",
       "   <td style=\"text-align:right;\"> 5 </td>\n",
       "   <td style=\"text-align:right;\"> Blanding, Michael. â€œPlagiarism Software Unveils a New Source for 11 of Shakespeareâ€™s Plays.â€ The New York Times, February 7, 2018, sec. Books. https://www.nytimes.com/2018/02/07/books/plagiarism-software-unveils-a-new-source-for-11-of-shakespeares-plays.html. </td>\n",
       "  </tr>\n",
       "</tbody>\n",
       "</table>"
      ]
     },
     "metadata": {},
     "output_type": "display_data"
    }
   ],
   "source": [
    "datax.rel =  read.csv(\"SDFB_relationships_2019_11_18.csv\")\n",
    "size(datax.rel)\n",
    "head(datax.rel) %>% caption(\"First few observations ...\", position=\"left\")"
   ]
  },
  {
   "cell_type": "code",
   "execution_count": 4,
   "metadata": {
    "hide_input": false,
    "scrolled": false
   },
   "outputs": [
    {
     "data": {
      "text/html": [
       "<table>\n",
       "<thead><tr><th scope=col>observations</th><th scope=col>variables</th></tr></thead>\n",
       "<tbody>\n",
       "\t<tr><td>15867</td><td>4    </td></tr>\n",
       "</tbody>\n",
       "</table>\n"
      ],
      "text/latex": [
       "\\begin{tabular}{r|ll}\n",
       " observations & variables\\\\\n",
       "\\hline\n",
       "\t 15867 & 4    \\\\\n",
       "\\end{tabular}\n"
      ],
      "text/markdown": [
       "\n",
       "| observations | variables |\n",
       "|---|---|\n",
       "| 15867 | 4     |\n",
       "\n"
      ],
      "text/plain": [
       "  observations variables\n",
       "1 15867        4        "
      ]
     },
     "metadata": {},
     "output_type": "display_data"
    },
    {
     "data": {
      "text/html": [
       "<table>\n",
       "<caption><left><font color=\"black\"><b>First few observations ...</b></font></left></caption>\n",
       " <thead>\n",
       "  <tr>\n",
       "   <th style=\"text-align:right;\"> id </th>\n",
       "   <th style=\"text-align:right;\"> display_name </th>\n",
       "   <th style=\"text-align:right;\"> historical_significance </th>\n",
       "   <th style=\"text-align:right;\"> gender </th>\n",
       "  </tr>\n",
       " </thead>\n",
       "<tbody>\n",
       "  <tr>\n",
       "   <td style=\"text-align:right;\"> 10000023 </td>\n",
       "   <td style=\"text-align:right;\"> John Abercromby </td>\n",
       "   <td style=\"text-align:right;\"> Benedictine monk </td>\n",
       "   <td style=\"text-align:right;\"> male </td>\n",
       "  </tr>\n",
       "  <tr>\n",
       "   <td style=\"text-align:right;\"> 10010033 </td>\n",
       "   <td style=\"text-align:right;\"> Valentine Pyne </td>\n",
       "   <td style=\"text-align:right;\"> naval officer and soldier </td>\n",
       "   <td style=\"text-align:right;\"> male </td>\n",
       "  </tr>\n",
       "  <tr>\n",
       "   <td style=\"text-align:right;\"> 10004750 </td>\n",
       "   <td style=\"text-align:right;\"> John Gedde </td>\n",
       "   <td style=\"text-align:right;\"> apiculturist </td>\n",
       "   <td style=\"text-align:right;\"> male </td>\n",
       "  </tr>\n",
       "  <tr>\n",
       "   <td style=\"text-align:right;\"> 10000006 </td>\n",
       "   <td style=\"text-align:right;\"> Tomas ab Ieuan ap Rhys </td>\n",
       "   <td style=\"text-align:right;\"> poet </td>\n",
       "   <td style=\"text-align:right;\"> male </td>\n",
       "  </tr>\n",
       "  <tr>\n",
       "   <td style=\"text-align:right;\"> 10000007 </td>\n",
       "   <td style=\"text-align:right;\"> Maredudd ab Ieuan ap Robert </td>\n",
       "   <td style=\"text-align:right;\">  </td>\n",
       "   <td style=\"text-align:right;\"> male </td>\n",
       "  </tr>\n",
       "  <tr>\n",
       "   <td style=\"text-align:right;\"> 10000005 </td>\n",
       "   <td style=\"text-align:right;\"> Gruffudd ab Ieuan ap Llywelyn Fychan </td>\n",
       "   <td style=\"text-align:right;\"> poet </td>\n",
       "   <td style=\"text-align:right;\"> male </td>\n",
       "  </tr>\n",
       "</tbody>\n",
       "</table>"
      ]
     },
     "metadata": {},
     "output_type": "display_data"
    }
   ],
   "source": [
    "datax.people = read.csv(\"SDFB_people_2019_11_18.csv\")[,c(1,2,6,14)]\n",
    "size(datax.people)\n",
    "head(datax.people) %>% caption(\"First few observations ...\", position=\"left\")"
   ]
  },
  {
   "cell_type": "code",
   "execution_count": 5,
   "metadata": {},
   "outputs": [
    {
     "data": {
      "text/html": [
       "<table>\n",
       "<thead><tr><th scope=col>observations</th><th scope=col>variables</th></tr></thead>\n",
       "<tbody>\n",
       "\t<tr><td>171548</td><td>2     </td></tr>\n",
       "</tbody>\n",
       "</table>\n"
      ],
      "text/latex": [
       "\\begin{tabular}{r|ll}\n",
       " observations & variables\\\\\n",
       "\\hline\n",
       "\t 171548 & 2     \\\\\n",
       "\\end{tabular}\n"
      ],
      "text/markdown": [
       "\n",
       "| observations | variables |\n",
       "|---|---|\n",
       "| 171548 | 2      |\n",
       "\n"
      ],
      "text/plain": [
       "  observations variables\n",
       "1 171548       2        "
      ]
     },
     "metadata": {},
     "output_type": "display_data"
    },
    {
     "data": {
      "text/html": [
       "<table>\n",
       "<caption><left><font color=\"black\"><b>First few observations ...</b></font></left></caption>\n",
       " <thead>\n",
       "  <tr>\n",
       "   <th style=\"text-align:right;\"> person1_index </th>\n",
       "   <th style=\"text-align:right;\"> person2_index </th>\n",
       "  </tr>\n",
       " </thead>\n",
       "<tbody>\n",
       "  <tr>\n",
       "   <td style=\"text-align:right;\"> 10002248 </td>\n",
       "   <td style=\"text-align:right;\"> 10002250 </td>\n",
       "  </tr>\n",
       "  <tr>\n",
       "   <td style=\"text-align:right;\"> 10002157 </td>\n",
       "   <td style=\"text-align:right;\"> 10001533 </td>\n",
       "  </tr>\n",
       "  <tr>\n",
       "   <td style=\"text-align:right;\"> 10050002 </td>\n",
       "   <td style=\"text-align:right;\"> 10000252 </td>\n",
       "  </tr>\n",
       "  <tr>\n",
       "   <td style=\"text-align:right;\"> 10004588 </td>\n",
       "   <td style=\"text-align:right;\"> 10013294 </td>\n",
       "  </tr>\n",
       "  <tr>\n",
       "   <td style=\"text-align:right;\"> 10008901 </td>\n",
       "   <td style=\"text-align:right;\"> 10001903 </td>\n",
       "  </tr>\n",
       "  <tr>\n",
       "   <td style=\"text-align:right;\"> 10008901 </td>\n",
       "   <td style=\"text-align:right;\"> 10008908 </td>\n",
       "  </tr>\n",
       "</tbody>\n",
       "</table>"
      ]
     },
     "metadata": {},
     "output_type": "display_data"
    }
   ],
   "source": [
    "datax.rel =  read.csv(\"SDFB_relationships_2019_11_18.csv\")[,2:3]\n",
    "size(datax.rel)\n",
    "head(datax.rel) %>% caption(\"First few observations ...\", position=\"left\")"
   ]
  },
  {
   "cell_type": "code",
   "execution_count": 6,
   "metadata": {},
   "outputs": [
    {
     "data": {
      "text/html": [
       "251761689"
      ],
      "text/latex": [
       "251761689"
      ],
      "text/markdown": [
       "251761689"
      ],
      "text/plain": [
       "[1] 251761689"
      ]
     },
     "metadata": {},
     "output_type": "display_data"
    }
   ],
   "source": [
    "nrow(datax.people)^2"
   ]
  },
  {
   "cell_type": "code",
   "execution_count": 7,
   "metadata": {},
   "outputs": [
    {
     "data": {
      "text/html": [
       "10050190"
      ],
      "text/latex": [
       "10050190"
      ],
      "text/markdown": [
       "10050190"
      ],
      "text/plain": [
       "[1] 10050190"
      ]
     },
     "metadata": {},
     "output_type": "display_data"
    },
    {
     "data": {
      "text/html": [
       "<table>\n",
       "<thead><tr><th scope=col>observations</th><th scope=col>variables</th></tr></thead>\n",
       "<tbody>\n",
       "\t<tr><td>171547</td><td>2     </td></tr>\n",
       "</tbody>\n",
       "</table>\n"
      ],
      "text/latex": [
       "\\begin{tabular}{r|ll}\n",
       " observations & variables\\\\\n",
       "\\hline\n",
       "\t 171547 & 2     \\\\\n",
       "\\end{tabular}\n"
      ],
      "text/markdown": [
       "\n",
       "| observations | variables |\n",
       "|---|---|\n",
       "| 171547 | 2      |\n",
       "\n"
      ],
      "text/plain": [
       "  observations variables\n",
       "1 171547       2        "
      ]
     },
     "metadata": {},
     "output_type": "display_data"
    }
   ],
   "source": [
    "extras = setdiff(unique(c(datax.rel[,1], datax.rel[,2])), unique(datax.people[,1]))\n",
    "extras\n",
    "\n",
    "datax.rel.lean = datax.rel[!(datax.rel[,1] %in% extras) & !(datax.rel[,2] %in% extras),]\n",
    "size(datax.rel.lean)\n"
   ]
  },
  {
   "cell_type": "code",
   "execution_count": 8,
   "metadata": {},
   "outputs": [],
   "source": [
    "g = graph_from_data_frame(datax.rel.lean, directed=FALSE, vertices=datax.people)\n"
   ]
  },
  {
   "cell_type": "code",
   "execution_count": 9,
   "metadata": {},
   "outputs": [
    {
     "data": {
      "text/html": [
       "<table>\n",
       "<thead><tr><th scope=col>size</th><th scope=col>order</th><th scope=col>density</th><th scope=col>giant</th></tr></thead>\n",
       "<tbody>\n",
       "\t<tr><td>171547     </td><td>15867      </td><td>0.001362859</td><td>13019      </td></tr>\n",
       "</tbody>\n",
       "</table>\n"
      ],
      "text/latex": [
       "\\begin{tabular}{r|llll}\n",
       " size & order & density & giant\\\\\n",
       "\\hline\n",
       "\t 171547      & 15867       & 0.001362859 & 13019      \\\\\n",
       "\\end{tabular}\n"
      ],
      "text/markdown": [
       "\n",
       "| size | order | density | giant |\n",
       "|---|---|---|---|\n",
       "| 171547      | 15867       | 0.001362859 | 13019       |\n",
       "\n"
      ],
      "text/plain": [
       "  size   order density     giant\n",
       "1 171547 15867 0.001362859 13019"
      ]
     },
     "metadata": {},
     "output_type": "display_data"
    }
   ],
   "source": [
    "data.frame(size=ecount(g),\n",
    "           order=vcount(g),\n",
    "#            diameter=diameter(g),\n",
    "#            average_path_length=mean_distance(g),\n",
    "           density=edge_density(g),\n",
    "           giant=max(components(g, \"strong\")$csize))#,\n",
    "#            smallworldness=smallworldness(data)[1]) %>% caption(\"network-level statistics\", row.names=FALSE)"
   ]
  },
  {
   "cell_type": "code",
   "execution_count": 21,
   "metadata": {},
   "outputs": [
    {
     "data": {
      "text/html": [
       "<table>\n",
       "<thead><tr><th scope=col>person</th><th scope=col>outdegree</th></tr></thead>\n",
       "<tbody>\n",
       "\t<tr><td>King Charles II               </td><td>2305                          </td></tr>\n",
       "\t<tr><td>King Charles I                </td><td>1982                          </td></tr>\n",
       "\t<tr><td>King James I and VI           </td><td>1904                          </td></tr>\n",
       "\t<tr><td>King James II and VII         </td><td>1461                          </td></tr>\n",
       "\t<tr><td>King Henry VIII               </td><td>1147                          </td></tr>\n",
       "\t<tr><td>Queen Elizabeth I             </td><td>1101                          </td></tr>\n",
       "\t<tr><td>King William III and II       </td><td>1100                          </td></tr>\n",
       "\t<tr><td>Archbishop William Laud       </td><td> 777                          </td></tr>\n",
       "\t<tr><td>Lord Protector Oliver Cromwell</td><td> 766                          </td></tr>\n",
       "\t<tr><td>Anthony Wood                  </td><td> 766                          </td></tr>\n",
       "\t<tr><td>King Edward VI                </td><td> 713                          </td></tr>\n",
       "\t<tr><td>William Cecil                 </td><td> 697                          </td></tr>\n",
       "\t<tr><td>Queen Anne                    </td><td> 672                          </td></tr>\n",
       "\t<tr><td>Robert Cecil                  </td><td> 668                          </td></tr>\n",
       "\t<tr><td>King George I                 </td><td> 629                          </td></tr>\n",
       "</tbody>\n",
       "</table>\n"
      ],
      "text/latex": [
       "\\begin{tabular}{r|ll}\n",
       " person & outdegree\\\\\n",
       "\\hline\n",
       "\t King Charles II                & 2305                          \\\\\n",
       "\t King Charles I                 & 1982                          \\\\\n",
       "\t King James I and VI            & 1904                          \\\\\n",
       "\t King James II and VII          & 1461                          \\\\\n",
       "\t King Henry VIII                & 1147                          \\\\\n",
       "\t Queen Elizabeth I              & 1101                          \\\\\n",
       "\t King William III and II        & 1100                          \\\\\n",
       "\t Archbishop William Laud        &  777                          \\\\\n",
       "\t Lord Protector Oliver Cromwell &  766                          \\\\\n",
       "\t Anthony Wood                   &  766                          \\\\\n",
       "\t King Edward VI                 &  713                          \\\\\n",
       "\t William Cecil                  &  697                          \\\\\n",
       "\t Queen Anne                     &  672                          \\\\\n",
       "\t Robert Cecil                   &  668                          \\\\\n",
       "\t King George I                  &  629                          \\\\\n",
       "\\end{tabular}\n"
      ],
      "text/markdown": [
       "\n",
       "| person | outdegree |\n",
       "|---|---|\n",
       "| King Charles II                | 2305                           |\n",
       "| King Charles I                 | 1982                           |\n",
       "| King James I and VI            | 1904                           |\n",
       "| King James II and VII          | 1461                           |\n",
       "| King Henry VIII                | 1147                           |\n",
       "| Queen Elizabeth I              | 1101                           |\n",
       "| King William III and II        | 1100                           |\n",
       "| Archbishop William Laud        |  777                           |\n",
       "| Lord Protector Oliver Cromwell |  766                           |\n",
       "| Anthony Wood                   |  766                           |\n",
       "| King Edward VI                 |  713                           |\n",
       "| William Cecil                  |  697                           |\n",
       "| Queen Anne                     |  672                           |\n",
       "| Robert Cecil                   |  668                           |\n",
       "| King George I                  |  629                           |\n",
       "\n"
      ],
      "text/plain": [
       "   person                         outdegree\n",
       "1  King Charles II                2305     \n",
       "2  King Charles I                 1982     \n",
       "3  King James I and VI            1904     \n",
       "4  King James II and VII          1461     \n",
       "5  King Henry VIII                1147     \n",
       "6  Queen Elizabeth I              1101     \n",
       "7  King William III and II        1100     \n",
       "8  Archbishop William Laud         777     \n",
       "9  Lord Protector Oliver Cromwell  766     \n",
       "10 Anthony Wood                    766     \n",
       "11 King Edward VI                  713     \n",
       "12 William Cecil                   697     \n",
       "13 Queen Anne                      672     \n",
       "14 Robert Cecil                    668     \n",
       "15 King George I                   629     "
      ]
     },
     "metadata": {},
     "output_type": "display_data"
    }
   ],
   "source": [
    "statistics = data.frame(indegree=degree(g, mode=\"in\"),\n",
    "                        outdegree=degree(g, mode=\"out\"))#,\n",
    "#                         betweenness=betweenness(g),\n",
    "#                         closeness=closeness(g, mode=\"out\"),\n",
    "#                         eccentricity=eccentricity(g, mode=\"out\"),\n",
    "#                         eigencentrality=evcent(g, directed=TRUE)$vector)\n",
    "\n",
    "\n",
    "measure = sort(degree(g, mode=\"out\"), decreasing=TRUE)[1:15]\n",
    "data.frame(person=vertex_attr(g, \"display_name\", names(measure)), outdegree=measure, row.names=NULL)\n"
   ]
  },
  {
   "cell_type": "code",
   "execution_count": null,
   "metadata": {},
   "outputs": [],
   "source": []
  },
  {
   "cell_type": "code",
   "execution_count": 22,
   "metadata": {},
   "outputs": [
    {
     "ename": "ERROR",
     "evalue": "Error in sort(betweenness(g), decreasing = TRUE)[1:15, ]: incorrect number of dimensions\n",
     "output_type": "error",
     "traceback": [
      "Error in sort(betweenness(g), decreasing = TRUE)[1:15, ]: incorrect number of dimensions\nTraceback:\n"
     ]
    }
   ],
   "source": [
    "measure = sort(betweenness(g), decreasing=TRUE)[1:15]\n",
    "data.frame(person=vertex_attr(g, \"display_name\", names(measure)), betweenness=measure, row.names=NULL)"
   ]
  },
  {
   "cell_type": "markdown",
   "metadata": {},
   "source": [
    "<p style=\"text-align:left; font-size:10px;\">\n",
    "Copyright (c) Berkeley Data Analytics Group, LLC\n",
    "<span style=\"float:right;\">\n",
    "Document revised October 27, 2019\n",
    "</span>\n",
    "</p>"
   ]
  }
 ],
 "metadata": {
  "hide_code_all_hidden": false,
  "hide_input": false,
  "kernelspec": {
   "display_name": "R",
   "language": "R",
   "name": "ir"
  },
  "language_info": {
   "codemirror_mode": "r",
   "file_extension": ".r",
   "mimetype": "text/x-r-source",
   "name": "R",
   "pygments_lexer": "r",
   "version": "3.6.1"
  },
  "toc": {
   "base_numbering": 1,
   "nav_menu": {},
   "number_sections": true,
   "sideBar": true,
   "skip_h1_title": true,
   "title_cell": "Table of Contents",
   "title_sidebar": "Contents",
   "toc_cell": false,
   "toc_position": {
    "height": "calc(100% - 180px)",
    "left": "10px",
    "top": "150px",
    "width": "255.865px"
   },
   "toc_section_display": true,
   "toc_window_display": true
  }
 },
 "nbformat": 4,
 "nbformat_minor": 2
}
