{
 "cells": [
  {
   "cell_type": "code",
   "execution_count": 1,
   "metadata": {
    "hide_input": false
   },
   "outputs": [
    {
     "data": {
      "text/html": [
       "<p style=\"text-align:center; font-size:10px;\">\n",
       ".................................................... start of document ....................................................\n",
       "</p>"
      ]
     },
     "metadata": {},
     "output_type": "display_data"
    }
   ],
   "source": [
    "f = \"setup.R\"; for (i in 1:10) { if (file.exists(f)) break else f = paste0(\"../\", f) }; source(f)\n",
    "options(repr.matrix.max.rows=100)\n",
    "output_size(9,4.5)\n",
    "                                \n",
    "PARTY_COLOR = c(DEM=PALETTE[1], REP=PALETTE[2], LIB=PALETTE[4], GRE=PALETTE[3], NON=\"gray60\", IND=\"gray60\", UN=\"gray60\", CON=\"gray60\", OTH=\"gray60\", UNK=\"gray60\")"
   ]
  },
  {
   "cell_type": "code",
   "execution_count": 8,
   "metadata": {},
   "outputs": [
    {
     "name": "stdout",
     "output_type": "stream",
     "text": [
      "Time difference of 8.56842 mins\n"
     ]
    }
   ],
   "source": [
    "clock.start()\n",
    "data.xaction = read.csv(\"itcont.txt\", header=FALSE, sep=\"|\") # may take about 12 minutes\n",
    "clock.stop()"
   ]
  },
  {
   "cell_type": "code",
   "execution_count": 9,
   "metadata": {},
   "outputs": [],
   "source": [
    "header = read.csv(\"indiv_header_file.csv\", header=FALSE, stringsAsFactor=FALSE)\n",
    "colnames(data.xaction) = header[1,]"
   ]
  },
  {
   "cell_type": "code",
   "execution_count": 10,
   "metadata": {},
   "outputs": [
    {
     "data": {
      "text/html": [
       "<table>\n",
       "<thead><tr><th scope=col>observations</th><th scope=col>variables</th></tr></thead>\n",
       "<tbody>\n",
       "\t<tr><td>1244098</td><td>21     </td></tr>\n",
       "</tbody>\n",
       "</table>\n"
      ],
      "text/latex": [
       "\\begin{tabular}{r|ll}\n",
       " observations & variables\\\\\n",
       "\\hline\n",
       "\t 1244098 & 21     \\\\\n",
       "\\end{tabular}\n"
      ],
      "text/markdown": [
       "\n",
       "| observations | variables |\n",
       "|---|---|\n",
       "| 1244098 | 21      |\n",
       "\n"
      ],
      "text/plain": [
       "  observations variables\n",
       "1 1244098      21       "
      ]
     },
     "metadata": {},
     "output_type": "display_data"
    },
    {
     "data": {
      "text/html": [
       "<table>\n",
       "<caption><left><font color=\"black\"><b>First few observations:</b></font></left></caption>\n",
       " <thead>\n",
       "  <tr>\n",
       "   <th style=\"text-align:right;background-color: #FFFFFF !important;\"> CMTE_ID </th>\n",
       "   <th style=\"text-align:right;background-color: #FFFFFF !important;\"> AMNDT_IND </th>\n",
       "   <th style=\"text-align:right;background-color: #FFFFFF !important;\"> RPT_TP </th>\n",
       "   <th style=\"text-align:right;background-color: #FFFFFF !important;\"> TRANSACTION_PGI </th>\n",
       "   <th style=\"text-align:right;background-color: #FFFFFF !important;\"> IMAGE_NUM </th>\n",
       "   <th style=\"text-align:right;background-color: #FFFFFF !important;\"> TRANSACTION_TP </th>\n",
       "   <th style=\"text-align:right;background-color: #FFFFFF !important;\"> ENTITY_TP </th>\n",
       "   <th style=\"text-align:right;background-color: #FFFFFF !important;\"> NAME </th>\n",
       "   <th style=\"text-align:right;background-color: #FFFFFF !important;\"> CITY </th>\n",
       "   <th style=\"text-align:right;background-color: #FFFFFF !important;\"> STATE </th>\n",
       "   <th style=\"text-align:right;background-color: #FFFFFF !important;\"> ZIP_CODE </th>\n",
       "   <th style=\"text-align:right;background-color: #FFFFFF !important;\"> EMPLOYER </th>\n",
       "   <th style=\"text-align:right;background-color: #FFFFFF !important;\"> OCCUPATION </th>\n",
       "   <th style=\"text-align:right;background-color: #FFFFFF !important;\"> TRANSACTION_DT </th>\n",
       "   <th style=\"text-align:right;background-color: #FFFFFF !important;\"> TRANSACTION_AMT </th>\n",
       "   <th style=\"text-align:right;background-color: #FFFFFF !important;\"> OTHER_ID </th>\n",
       "   <th style=\"text-align:right;background-color: #FFFFFF !important;\"> TRAN_ID </th>\n",
       "   <th style=\"text-align:right;background-color: #FFFFFF !important;\"> FILE_NUM </th>\n",
       "   <th style=\"text-align:right;background-color: #FFFFFF !important;\"> MEMO_CD </th>\n",
       "   <th style=\"text-align:right;background-color: #FFFFFF !important;\"> MEMO_TEXT </th>\n",
       "   <th style=\"text-align:right;background-color: #FFFFFF !important;\"> SUB_ID </th>\n",
       "  </tr>\n",
       " </thead>\n",
       "<tbody>\n",
       "  <tr>\n",
       "   <td style=\"text-align:right;\"> C00638478 </td>\n",
       "   <td style=\"text-align:right;\"> T </td>\n",
       "   <td style=\"text-align:right;\"> TER </td>\n",
       "   <td style=\"text-align:right;\"> P2018 </td>\n",
       "   <td style=\"text-align:right;\"> 201901289144040160 </td>\n",
       "   <td style=\"text-align:right;\"> 15C </td>\n",
       "   <td style=\"text-align:right;\"> CAN </td>\n",
       "   <td style=\"text-align:right;\"> JANOWICZ, PHILIP </td>\n",
       "   <td style=\"text-align:right;\"> BUENA PARK </td>\n",
       "   <td style=\"text-align:right;\"> CA </td>\n",
       "   <td style=\"text-align:right;\"> 906211685 </td>\n",
       "   <td style=\"text-align:right;\"> FRIENDS OF PHIL JANOWICZ </td>\n",
       "   <td style=\"text-align:right;\"> CANDIDATE </td>\n",
       "   <td style=\"text-align:right;\"> 1282019 </td>\n",
       "   <td style=\"text-align:right;\"> 33000 </td>\n",
       "   <td style=\"text-align:right;\"> H8CA39133 </td>\n",
       "   <td style=\"text-align:right;\"> 3703296 </td>\n",
       "   <td style=\"text-align:right;\"> 1307800 </td>\n",
       "   <td style=\"text-align:right;\">  </td>\n",
       "   <td style=\"text-align:right;\"> CONVERTING PRIMARY LOAN TO CONTRIBUTION </td>\n",
       "   <td style=\"text-align:right;\"> 4021220191639267840 </td>\n",
       "  </tr>\n",
       "  <tr>\n",
       "   <td style=\"text-align:right;\"> C00638478 </td>\n",
       "   <td style=\"text-align:right;\"> T </td>\n",
       "   <td style=\"text-align:right;\"> TER </td>\n",
       "   <td style=\"text-align:right;\"> P2018 </td>\n",
       "   <td style=\"text-align:right;\"> 201901289144040160 </td>\n",
       "   <td style=\"text-align:right;\"> 15 </td>\n",
       "   <td style=\"text-align:right;\"> IND </td>\n",
       "   <td style=\"text-align:right;\"> STEVENS, RICHARD </td>\n",
       "   <td style=\"text-align:right;\"> DIAMOND BAR </td>\n",
       "   <td style=\"text-align:right;\"> CA </td>\n",
       "   <td style=\"text-align:right;\"> 917653902 </td>\n",
       "   <td style=\"text-align:right;\"> NOT EMPLOYED </td>\n",
       "   <td style=\"text-align:right;\"> NOT EMPLOYED </td>\n",
       "   <td style=\"text-align:right;\"> 1252019 </td>\n",
       "   <td style=\"text-align:right;\"> -50 </td>\n",
       "   <td style=\"text-align:right;\">  </td>\n",
       "   <td style=\"text-align:right;\"> 3703278 </td>\n",
       "   <td style=\"text-align:right;\"> 1307800 </td>\n",
       "   <td style=\"text-align:right;\">  </td>\n",
       "   <td style=\"text-align:right;\"> CHECK LOST </td>\n",
       "   <td style=\"text-align:right;\"> 4021220191639267840 </td>\n",
       "  </tr>\n",
       "  <tr>\n",
       "   <td style=\"text-align:right;\"> C00638478 </td>\n",
       "   <td style=\"text-align:right;\"> T </td>\n",
       "   <td style=\"text-align:right;\"> TER </td>\n",
       "   <td style=\"text-align:right;\"> P2018 </td>\n",
       "   <td style=\"text-align:right;\"> 201901289144040160 </td>\n",
       "   <td style=\"text-align:right;\"> 15C </td>\n",
       "   <td style=\"text-align:right;\"> CAN </td>\n",
       "   <td style=\"text-align:right;\"> JANOWICZ, PHILIP </td>\n",
       "   <td style=\"text-align:right;\"> BUENA PARK </td>\n",
       "   <td style=\"text-align:right;\"> CA </td>\n",
       "   <td style=\"text-align:right;\"> 906211685 </td>\n",
       "   <td style=\"text-align:right;\"> FRIENDS OF PHIL JANOWICZ </td>\n",
       "   <td style=\"text-align:right;\"> CANDIDATE </td>\n",
       "   <td style=\"text-align:right;\"> 1282019 </td>\n",
       "   <td style=\"text-align:right;\"> 59816 </td>\n",
       "   <td style=\"text-align:right;\"> H8CA39133 </td>\n",
       "   <td style=\"text-align:right;\"> 3703293 </td>\n",
       "   <td style=\"text-align:right;\"> 1307800 </td>\n",
       "   <td style=\"text-align:right;\">  </td>\n",
       "   <td style=\"text-align:right;\"> CONVERTING PRIMARY LOAN TO CONTRIBUTION </td>\n",
       "   <td style=\"text-align:right;\"> 4021220191639267840 </td>\n",
       "  </tr>\n",
       "</tbody>\n",
       "</table>"
      ]
     },
     "metadata": {},
     "output_type": "display_data"
    }
   ],
   "source": [
    "data.xaction.california = data.xaction[data.xaction$STATE == \"CA\",]\n",
    "size(data.xaction.california)\n",
    "fmt(data.xaction.california[1:3,], \"First few observations:\", position=\"left\")"
   ]
  },
  {
   "cell_type": "code",
   "execution_count": 14,
   "metadata": {},
   "outputs": [],
   "source": [
    "write.table(data.xaction.california, \"itcont-california.txt\", quote=FALSE, sep=\"|\", col.names=FALSE, row.names=FALSE)"
   ]
  }
 ],
 "metadata": {
  "hide_input": false,
  "kernelspec": {
   "display_name": "R",
   "language": "R",
   "name": "ir"
  },
  "language_info": {
   "codemirror_mode": "r",
   "file_extension": ".r",
   "mimetype": "text/x-r-source",
   "name": "R",
   "pygments_lexer": "r",
   "version": "3.6.1"
  },
  "toc": {
   "base_numbering": 1,
   "nav_menu": {},
   "number_sections": true,
   "sideBar": true,
   "skip_h1_title": true,
   "title_cell": "Table of Contents",
   "title_sidebar": "Contents",
   "toc_cell": false,
   "toc_position": {},
   "toc_section_display": true,
   "toc_window_display": true
  }
 },
 "nbformat": 4,
 "nbformat_minor": 2
}
