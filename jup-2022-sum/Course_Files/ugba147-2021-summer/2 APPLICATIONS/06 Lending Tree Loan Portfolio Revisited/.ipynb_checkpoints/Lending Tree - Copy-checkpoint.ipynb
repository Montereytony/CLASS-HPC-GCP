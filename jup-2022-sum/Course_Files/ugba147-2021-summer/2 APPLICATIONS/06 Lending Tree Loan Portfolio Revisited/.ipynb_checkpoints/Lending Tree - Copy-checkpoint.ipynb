{
 "cells": [
  {
   "cell_type": "markdown",
   "metadata": {
    "hideCode": false,
    "hidePrompt": false
   },
   "source": [
    "# Lending Tree\n",
    "\n",
    "![](banner_lending_tree.jpg)\n",
    "\n",
    "Exploratory Data Analysis (EDA), Kernel Density Estimation (KDE), Principal Component Analysis (PCA), Classification"
   ]
  },
  {
   "cell_type": "code",
   "execution_count": 1,
   "metadata": {
    "hide_input": true,
    "scrolled": true
   },
   "outputs": [
    {
     "data": {
      "text/html": [
       "<p style=\"text-align:center; font-size:10px;\">\n",
       ".................................................... start of document ....................................................\n",
       "</p>"
      ]
     },
     "metadata": {},
     "output_type": "display_data"
    }
   ],
   "source": [
    "f = \"setup.R\"; for (i in 1:10) { if (file.exists(f)) break else f = paste0(\"../\", f) }; source(f)                                                     \n",
    "update_geom_defaults(\"point\", list(size=0.01, colour=PALETTE[1]))\n",
    "update_geom_defaults(\"vline\", list(color=\"black\", size=0.15))"
   ]
  },
  {
   "cell_type": "markdown",
   "metadata": {},
   "source": [
    "## Situation\n",
    "\n",
    "LendingTree is an online lending exchange that connects consumers with multiple lenders, banks, and credit partners who compete for business.  Since being founded in 1998 LendingTree has facilitated more than 32 million loan requests.\n",
    "\n",
    "* **Role:** Banker. \n",
    "* **Business Decision:** Take on a new portfolio of loans?\n",
    "* **Approach:** Use kernel density estimation and principal component analysis to look for features that distinguish known good vs. bad loans, and use that insight to inform decisions about taking on on new portfolio of loans.  \n",
    "* **Dataset:** Lending Tree Loans 2007-2010"
   ]
  },
  {
   "cell_type": "markdown",
   "metadata": {},
   "source": [
    "## Decision Model"
   ]
  },
  {
   "cell_type": "markdown",
   "metadata": {},
   "source": [
    "### Influence Diagram\n",
    "\n",
    "<img src=\"business-model_lending_tree.jpg\" align=left width=600 />"
   ]
  },
  {
   "cell_type": "markdown",
   "metadata": {},
   "source": [
    "## Data "
   ]
  },
  {
   "cell_type": "code",
   "execution_count": null,
   "metadata": {
    "hide_input": true,
    "scrolled": false
   },
   "outputs": [],
   "source": [
    "datax = read.csv(\"Lending Tree Loans.csv\") # may take about 2 minutes\n",
    "size(datax)\n",
    "fmt(datax[1:3,], \"First few observations ...\", position=\"left\")"
   ]
  },
  {
   "cell_type": "markdown",
   "metadata": {},
   "source": [
    "## Prepare Data"
   ]
  },
  {
   "cell_type": "markdown",
   "metadata": {
    "hide_input": true
   },
   "source": [
    "### Focus Analysis on Data Subset\n",
    "\n",
    "Note which loans are inactive.  Note which inactive loans were not paid back."
   ]
  },
  {
   "cell_type": "code",
   "execution_count": null,
   "metadata": {
    "hide_input": true
   },
   "outputs": [],
   "source": [
    "fmt(unique(datax$loan_status), \"all labels\")"
   ]
  },
  {
   "cell_type": "code",
   "execution_count": null,
   "metadata": {
    "hide_input": true
   },
   "outputs": [],
   "source": [
    "good_labels = c(\"Fully Paid\", \"Does not meet the credit policy. Status:Fully Paid\")\n",
    "bad_labels  = c(\"Default\", \"Charged Off\", \"Does not meet the credit policy. Status:Charged Off\")\n",
    "\n",
    "layout(fmt(good_labels), fmt(bad_labels))"
   ]
  },
  {
   "cell_type": "code",
   "execution_count": null,
   "metadata": {
    "hide_input": true,
    "scrolled": true
   },
   "outputs": [],
   "source": [
    "inactive.good = which(datax$loan_status %in% good_labels)\n",
    "inactive.bad = which(datax$loan_status %in% bad_labels)\n",
    "inactive = c(inactive.good, inactive.bad)\n",
    "fmt(data.frame(inactive.good=length(inactive.good), inactive.bad=length(inactive.bad), inactive=length(inactive)), \"observation count\")"
   ]
  },
  {
   "cell_type": "markdown",
   "metadata": {},
   "source": [
    "### Focus Analysis on Convenient Variables"
   ]
  },
  {
   "cell_type": "markdown",
   "metadata": {
    "hide_input": true
   },
   "source": [
    "Which variables are not IDs?"
   ]
  },
  {
   "cell_type": "code",
   "execution_count": null,
   "metadata": {
    "hide_input": true
   },
   "outputs": [],
   "source": [
    "m = which(!(colnames(datax) %in% c(\"id\",\"member_id\")))\n",
    "m"
   ]
  },
  {
   "cell_type": "markdown",
   "metadata": {},
   "source": [
    "Which variables are numeric?"
   ]
  },
  {
   "cell_type": "code",
   "execution_count": null,
   "metadata": {
    "hide_input": true,
    "scrolled": true
   },
   "outputs": [],
   "source": [
    "n = which(var_info.type(datax[inactive,]) %in% c(\"integer\",\"numeric\"))                  \n",
    "n"
   ]
  },
  {
   "cell_type": "markdown",
   "metadata": {},
   "source": [
    "Which variables are complete (no missing data)?"
   ]
  },
  {
   "cell_type": "code",
   "execution_count": null,
   "metadata": {
    "hide_input": true,
    "scrolled": true
   },
   "outputs": [],
   "source": [
    "f = which(var_info.na_count(datax[inactive,], labels=FALSE) == 0)\n",
    "f"
   ]
  },
  {
   "cell_type": "markdown",
   "metadata": {},
   "source": [
    "Which variables have at least some variation (distribution of more than one value)?"
   ]
  },
  {
   "cell_type": "code",
   "execution_count": null,
   "metadata": {
    "hide_input": true,
    "scrolled": false
   },
   "outputs": [],
   "source": [
    "v = which(var_info.unique(datax[inactive,], labels=FALSE) > 1)\n",
    "v"
   ]
  },
  {
   "cell_type": "markdown",
   "metadata": {},
   "source": [
    "These are the convenient variables:"
   ]
  },
  {
   "cell_type": "code",
   "execution_count": null,
   "metadata": {
    "hide_input": true
   },
   "outputs": [],
   "source": [
    "convenient_variables = intersect(intersect(m, n), intersect(f, v))\n",
    "convenient_variables"
   ]
  },
  {
   "cell_type": "markdown",
   "metadata": {},
   "source": [
    "### Prepared Data"
   ]
  },
  {
   "cell_type": "code",
   "execution_count": null,
   "metadata": {
    "hide_input": true,
    "scrolled": false
   },
   "outputs": [],
   "source": [
    "data  = datax[inactive, convenient_variables]\n",
    "class = c(rep(\"good\", length(inactive.good)), rep(\"bad\", length(inactive.bad)))\n",
    "\n",
    "size(data)\n",
    "fmt(head(data[class==\"good\",]), \"First few good loan observations ...\", position=\"left\")\n",
    "fmt(head(data[class==\"bad\",]),  \"First few bad loan observations ...\",  position=\"left\")"
   ]
  },
  {
   "cell_type": "markdown",
   "metadata": {},
   "source": [
    "## Explore Data"
   ]
  },
  {
   "cell_type": "markdown",
   "metadata": {},
   "source": [
    "### Scree Plot of Variables"
   ]
  },
  {
   "cell_type": "code",
   "execution_count": null,
   "metadata": {
    "hide_input": true
   },
   "outputs": [],
   "source": [
    "variable = names(data)\n",
    "sdev = var_info.sd(data, labels=FALSE)\n",
    "variance = var_info.var(data, labels=FALSE)\n",
    "cum_variance = cumsum(variance)\n",
    "relative_variance = variance / sum(variance)\n",
    "cum_relative_variance = cumsum(relative_variance)\n",
    "\n",
    "scree = data.frame(variable, sdev, variance, cum_variance, relative_variance, cum_relative_variance)\n",
    "scree"
   ]
  },
  {
   "cell_type": "code",
   "execution_count": null,
   "metadata": {
    "hide_input": true,
    "scrolled": false
   },
   "outputs": [],
   "source": [
    "ggplot(scree) + ylim(0,1) +\n",
    "geom_col(aes(x=factor(variable, levels=variable), y=relative_variance, fill=variable)) +\n",
    "theme.no_x_axis_title + theme.x_axis_45 + theme.no_legend"
   ]
  },
  {
   "cell_type": "markdown",
   "metadata": {
    "hide_input": true
   },
   "source": [
    "### 1D Scatter Plots of 2 Variables"
   ]
  },
  {
   "cell_type": "code",
   "execution_count": null,
   "metadata": {
    "hide_input": true,
    "scrolled": true
   },
   "outputs": [],
   "source": [
    "output_size(8,1)\n",
    "p1 = ggplot(data) + geom_jitter(aes(x=loan_amnt, y=0)) + theme.x_axis_only\n",
    "p2 = ggplot(data) + geom_jitter(aes(x=int_rate, y=0))  + theme.x_axis_only\n",
    "grid.arrange(p1, p2, nrow=1)\n",
    "output_size(restore)"
   ]
  },
  {
   "cell_type": "markdown",
   "metadata": {},
   "source": [
    "### Probability Density Functions of 2 Variables\n",
    "\n",
    "Use kernel density estimation to estimate probability densities."
   ]
  },
  {
   "cell_type": "code",
   "execution_count": null,
   "metadata": {
    "hide_input": true
   },
   "outputs": [],
   "source": [
    "p1 = ggplot(data) + ggtitle(\"PDF for loan_amnt\") +\n",
    "     geom_density(aes(x=loan_amnt), kernel=\"gaussian\", bw=1000, fill=PALETTE[1]) +\n",
    "     theme.no_axis_titles\n",
    "\n",
    "p2 = ggplot(data) + ggtitle(\"PDF for int_rate\") +\n",
    "     geom_density(aes(x=int_rate), kernel=\"gaussian\", bw=0.5, fill=PALETTE[1]) +\n",
    "     theme.no_axis_titles\n",
    "\n",
    "grid.arrange(p1, p2, nrow=1)"
   ]
  },
  {
   "cell_type": "markdown",
   "metadata": {},
   "source": [
    "### 2D Scatter Plot of 2 Variables"
   ]
  },
  {
   "cell_type": "code",
   "execution_count": null,
   "metadata": {
    "hide_input": true,
    "scrolled": false
   },
   "outputs": [],
   "source": [
    "ggplot(data) + geom_point(aes(x=loan_amnt, y=int_rate))"
   ]
  },
  {
   "cell_type": "markdown",
   "metadata": {},
   "source": [
    "## Try to Distiguish Observations by Loan Class"
   ]
  },
  {
   "cell_type": "markdown",
   "metadata": {},
   "source": [
    "### Probabilities of Variable Values in Certain Ranges"
   ]
  },
  {
   "cell_type": "code",
   "execution_count": null,
   "metadata": {
    "hide_input": true,
    "scrolled": false
   },
   "outputs": [],
   "source": [
    "d.loan_amnt = density(data$loan_amnt, kernel=\"gaussian\", bw=1000, from=0, to=40000)\n",
    "d.int_rate  = density(data$int_rate,  kernel=\"gaussian\", bw=0.5,  from=0, to=30)\n",
    "\n",
    "pdf.loan_amnt = approxfun(d.loan_amnt)\n",
    "pdf.int_rate = approxfun(d.int_rate)\n",
    "\n",
    "data.frame(variable=c(\"loan_amnt\",\"int_rate\"),\n",
    "           probability=c(integrate(pdf.loan_amnt, 0, 18000)$value, integrate(pdf.int_rate, 10, 20)$value),\n",
    "           range_low=c(0, 10),\n",
    "           range_high=c(18000, 20))\n",
    "\n",
    "p1 = ggplot(data) + xlim(0, 40000) + ggtitle(\"PDF for loan_amnt\") +\n",
    "     stat_function(fun=pdf.loan_amnt, geom=\"area\", n=2000, fill=PALETTE[1]) +\n",
    "     stat_function(fun=pdf.loan_amnt, geom=\"area\", n=2000, xlim=c(0,18000), fill=PALETTE[5]) +\n",
    "     geom_vline(xintercept=0) + geom_vline(xintercept=18000) +\n",
    "     theme.no_axis_titles\n",
    "\n",
    "p2 = ggplot(data) + xlim(0, 30) + ggtitle(\"PDF for int_rate\") +\n",
    "     stat_function(fun=pdf.int_rate, geom=\"area\", n=2000, fill=PALETTE[1]) +\n",
    "     stat_function(fun=pdf.int_rate, geom=\"area\", n=2000, xlim=c(10,20), fill=PALETTE[5]) +\n",
    "     geom_vline(xintercept=10) + geom_vline(xintercept=20) +\n",
    "     theme.no_axis_titles\n",
    "\n",
    "grid.arrange(p1, p2, nrow=1)"
   ]
  },
  {
   "cell_type": "markdown",
   "metadata": {},
   "source": [
    "### Probabilities of Variable Values in Certain Ranges: Good Loans"
   ]
  },
  {
   "cell_type": "code",
   "execution_count": null,
   "metadata": {
    "hide_input": true,
    "scrolled": false
   },
   "outputs": [],
   "source": [
    "d.loan_amnt = density(data$loan_amnt[class==\"good\"], kernel=\"gaussian\", bw=1000, from=0, to=40000)\n",
    "d.int_rate  = density(data$int_rate[class==\"good\"],  kernel=\"gaussian\", bw=0.5,  from=0, to=30)\n",
    "\n",
    "pdf.loan_amnt = approxfun(d.loan_amnt)\n",
    "pdf.int_rate = approxfun(d.int_rate)\n",
    "\n",
    "data.frame(variable=c(\"loan_amnt\",\"int_rate\"),\n",
    "           probability=c(integrate(pdf.loan_amnt, 0, 18000)$value, integrate(pdf.int_rate, 10, 20)$value),\n",
    "           range_low=c(0, 10),\n",
    "           range_high=c(18000, 20))\n",
    "\n",
    "p1 = ggplot(data[class==\"good\",]) + xlim(0, 40000) + ggtitle(\"PDF for loan_amnt\") +\n",
    "     stat_function(fun=pdf.loan_amnt, geom=\"area\", n=2000, fill=PALETTE[3]) +\n",
    "     stat_function(fun=pdf.loan_amnt, geom=\"area\", n=2000, xlim=c(0,18000), fill=PALETTE[5]) +\n",
    "     geom_vline(xintercept=0) + geom_vline(xintercept=18000) +\n",
    "     theme.no_axis_titles\n",
    "\n",
    "p2 = ggplot(data[class==\"good\",]) + xlim(0, 30) + ggtitle(\"PDF for int_rate\") +\n",
    "     stat_function(fun=pdf.int_rate, geom=\"area\", n=2000, fill=PALETTE[3]) +\n",
    "     stat_function(fun=pdf.int_rate, geom=\"area\", n=2000, xlim=c(10,20), fill=PALETTE[5]) +\n",
    "     geom_vline(xintercept=10) + geom_vline(xintercept=20) +\n",
    "     theme.no_axis_titles\n",
    "\n",
    "grid.arrange(p1, p2, nrow=1)"
   ]
  },
  {
   "cell_type": "markdown",
   "metadata": {},
   "source": [
    "### Probabilities of Variable Values in Certain Ranges: Bad Loans"
   ]
  },
  {
   "cell_type": "code",
   "execution_count": null,
   "metadata": {
    "hide_input": true,
    "scrolled": false
   },
   "outputs": [],
   "source": [
    "d.loan_amnt = density(data$loan_amnt[class==\"bad\"], kernel=\"gaussian\", bw=1000, from=0, to=40000)\n",
    "d.int_rate  = density(data$int_rate[class==\"bad\"],  kernel=\"gaussian\", bw=0.5,  from=0, to=30)\n",
    "\n",
    "pdf.loan_amnt = approxfun(d.loan_amnt)\n",
    "pdf.int_rate = approxfun(d.int_rate)\n",
    "\n",
    "data.frame(variable=c(\"loan_amnt\",\"int_rate\"),\n",
    "           probability=c(integrate(pdf.loan_amnt, 0, 18000)$value, integrate(pdf.int_rate, 10, 20)$value),\n",
    "           range_low=c(0, 10),\n",
    "           range_high=c(18000, 20))\n",
    "\n",
    "p1 = ggplot(data[class==\"bad\",]) + xlim(0, 40000) + ggtitle(\"PDF for loan_amnt\") +\n",
    "     stat_function(fun=pdf.loan_amnt, geom=\"area\", n=2000, fill=PALETTE[2]) +\n",
    "     stat_function(fun=pdf.loan_amnt, geom=\"area\", n=2000, xlim=c(0,18000), fill=PALETTE[5]) +\n",
    "     geom_vline(xintercept=0) + geom_vline(xintercept=18000) +\n",
    "     theme.no_axis_titles\n",
    "\n",
    "p2 = ggplot(data[class==\"bad\",]) + xlim(0, 30) + ggtitle(\"PDF for int_rate\") +\n",
    "     stat_function(fun=pdf.int_rate, geom=\"area\", n=2000, fill=PALETTE[2]) +\n",
    "     stat_function(fun=pdf.int_rate, geom=\"area\", n=2000, xlim=c(10,20), fill=PALETTE[5]) +\n",
    "     geom_vline(xintercept=10) + geom_vline(xintercept=20) +\n",
    "     theme.no_axis_titles\n",
    "\n",
    "grid.arrange(p1, p2, nrow=1)"
   ]
  },
  {
   "cell_type": "markdown",
   "metadata": {},
   "source": [
    "### 2D Scatter Plot of 2 Variables + Loan Class\n",
    "\n",
    "Note that distinguishing characteristics are obscured."
   ]
  },
  {
   "cell_type": "code",
   "execution_count": null,
   "metadata": {
    "hide_input": true
   },
   "outputs": [],
   "source": [
    "ggplot(data) +\n",
    "geom_point(aes(x=loan_amnt, y=int_rate, color=class), alpha=0.2) +\n",
    "scale_color_manual(values=PALETTE[2:3]) + guides.standard + theme.legend_title"
   ]
  },
  {
   "cell_type": "markdown",
   "metadata": {},
   "source": [
    "## Further Prepare Data: Principal Component Analysis"
   ]
  },
  {
   "cell_type": "markdown",
   "metadata": {},
   "source": [
    "### Data Represented as Principal Components"
   ]
  },
  {
   "cell_type": "code",
   "execution_count": null,
   "metadata": {
    "hide_input": true
   },
   "outputs": [],
   "source": [
    "pc = prcomp(data, scale=TRUE, retx=TRUE)\n",
    "data.pc = as.data.frame(pc$x)\n",
    "\n",
    "size(data.pc)\n",
    "fmt(data.pc[1:6,], \"First few observations ...\", position=\"left\")"
   ]
  },
  {
   "cell_type": "markdown",
   "metadata": {},
   "source": [
    "### Qualitative Interpretation of Principal Components.\n",
    "\n",
    "Here, each column lists variable names sorted by weight applied to the principal component."
   ]
  },
  {
   "cell_type": "code",
   "execution_count": null,
   "metadata": {
    "hide_input": true
   },
   "outputs": [],
   "source": [
    "pc_constituents(pc)"
   ]
  },
  {
   "cell_type": "markdown",
   "metadata": {},
   "source": [
    "### Scree Plot of Principal Components"
   ]
  },
  {
   "cell_type": "code",
   "execution_count": null,
   "metadata": {
    "hide_input": true,
    "scrolled": false
   },
   "outputs": [],
   "source": [
    "variable = names(data.pc)\n",
    "sdev = var_info.sd(data.pc, labels=FALSE)\n",
    "variance = var_info.var(data.pc, labels=FALSE)\n",
    "cum_variance = cumsum(variance)\n",
    "relative_variance = variance / sum(variance)\n",
    "cum_relative_variance = cumsum(relative_variance)\n",
    "\n",
    "scree.pc = data.frame(variable, sdev, variance, cum_variance, relative_variance, cum_relative_variance)\n",
    "scree.pc"
   ]
  },
  {
   "cell_type": "code",
   "execution_count": null,
   "metadata": {
    "hide_input": true
   },
   "outputs": [],
   "source": [
    "ggplot(scree.pc) + ylim(0,1) + xlab(\"variable\") +\n",
    "geom_col(aes(x=factor(variable, levels=variable), y=relative_variance, fill=variable)) +\n",
    "theme.no_legend"
   ]
  },
  {
   "cell_type": "markdown",
   "metadata": {},
   "source": [
    "## Try to Distiguish Transformed Observations by Loan Class"
   ]
  },
  {
   "cell_type": "markdown",
   "metadata": {},
   "source": [
    "### Probabilities of Principal Component Values in Certain Ranges: Good Loans"
   ]
  },
  {
   "cell_type": "code",
   "execution_count": null,
   "metadata": {
    "hide_input": true,
    "scrolled": false
   },
   "outputs": [],
   "source": [
    "d.PC1 = density(data.pc$PC1[class==\"good\"], kernel=\"gaussian\", bw=0.2, from=-5, to=5)\n",
    "d.PC2 = density(data.pc$PC2[class==\"good\"], kernel=\"gaussian\", bw=0.2, from=-5, to=5)\n",
    "\n",
    "pdf.PC1 = approxfun(d.PC1)\n",
    "pdf.PC2 = approxfun(d.PC2)\n",
    "\n",
    "data.frame(variable=c(\"PC1\",\"PC2\"),\n",
    "           probability=c(integrate(pdf.PC1, -5, 1)$value, integrate(pdf.PC2, -2, 0)$value),\n",
    "           range_low=c(-5, -2),\n",
    "           range_high=c(1, 0))\n",
    "\n",
    "\n",
    "p1 = ggplot(data.pc[class==\"good\",]) + xlim(-5, 5) + ggtitle(\"PDF for PC1\") +\n",
    "     stat_function(fun=pdf.PC1, geom=\"area\", n=2000, fill=PALETTE[3]) +\n",
    "     stat_function(fun=pdf.PC1, geom=\"area\", n=2000, xlim=c(-5,1), fill=PALETTE[5]) +\n",
    "     geom_vline(xintercept=-5) + geom_vline(xintercept=1) +\n",
    "     theme.no_axis_titles\n",
    "\n",
    "p2 = ggplot(data.pc[class==\"good\",]) + xlim(-5, 5) + ggtitle(\"PDF for PC2\") +\n",
    "     stat_function(fun=pdf.PC2, geom=\"area\", n=2000, fill=PALETTE[3]) +\n",
    "     stat_function(fun=pdf.PC2, geom=\"area\", n=2000, xlim=c(-2,0), fill=PALETTE[5]) +\n",
    "     geom_vline(xintercept=-2) + geom_vline(xintercept=0) +\n",
    "     theme.no_axis_titles\n",
    "\n",
    "grid.arrange(p1, p2, nrow=1)"
   ]
  },
  {
   "cell_type": "code",
   "execution_count": null,
   "metadata": {
    "hide_input": true,
    "scrolled": false
   },
   "outputs": [],
   "source": [
    "d.PC1 = density(data.pc$PC1[class==\"good\"], kernel=\"gaussian\", bw=0.2, from=-5, to=5)\n",
    "d.PC2 = density(data.pc$PC2[class==\"good\"], kernel=\"gaussian\", bw=0.2, from=-5, to=5)\n",
    "\n",
    "pdf.PC1 = approxfun(d.PC1)\n",
    "pdf.PC2 = approxfun(d.PC2)\n",
    "\n",
    "data.frame(variable=c(\"PC1\",\"PC2\"),\n",
    "           probability=c(integrate(pdf.PC1, -5, 0)$value, integrate(pdf.PC2, 0, 2)$value),\n",
    "           range_low=c(-5, 0),\n",
    "           range_high=c(0, 2))\n",
    "\n",
    "p1 = ggplot(data.pc[class==\"good\",]) + xlim(-5, 5) + ggtitle(\"PDF for PC1\") +\n",
    "     stat_function(fun=pdf.PC1, geom=\"area\", n=2000, fill=PALETTE[3]) +\n",
    "     stat_function(fun=pdf.PC1, geom=\"area\", n=2000, xlim=c(-5,0), fill=PALETTE[5]) +\n",
    "     geom_vline(xintercept=-5) + geom_vline(xintercept=0) +\n",
    "     theme.no_axis_titles\n",
    "\n",
    "p2 = ggplot(data.pc[class==\"good\",]) + xlim(-5, 5) + ggtitle(\"PDF for PC2\") +\n",
    "     stat_function(fun=pdf.PC2, geom=\"area\", n=2000, fill=PALETTE[3]) +\n",
    "     stat_function(fun=pdf.PC2, geom=\"area\", n=2000, xlim=c(0,2), fill=PALETTE[5]) +\n",
    "     geom_vline(xintercept=0) + geom_vline(xintercept=2) +\n",
    "     theme.no_axis_titles\n",
    "\n",
    "grid.arrange(p1, p2, nrow=1)"
   ]
  },
  {
   "cell_type": "markdown",
   "metadata": {},
   "source": [
    "### Probabilities of Principal Component Values in Certain Ranges: Bad Loans"
   ]
  },
  {
   "cell_type": "code",
   "execution_count": null,
   "metadata": {
    "hide_input": true,
    "scrolled": false
   },
   "outputs": [],
   "source": [
    "d.PC1 = density(data.pc$PC1[class==\"bad\"], kernel=\"gaussian\", bw=0.2, from=-5, to=5)\n",
    "d.PC2 = density(data.pc$PC2[class==\"bad\"], kernel=\"gaussian\", bw=0.2, from=-5, to=5)\n",
    "\n",
    "pdf.PC1 = approxfun(d.PC1)\n",
    "pdf.PC2 = approxfun(d.PC2)\n",
    "\n",
    "data.frame(variable=c(\"PC1\",\"PC2\"),\n",
    "           probability=c(integrate(pdf.PC1, -5, 1)$value, integrate(pdf.PC2, -2, 0)$value),\n",
    "           range_low=c(-5, -2),\n",
    "           range_high=c(1, 0))\n",
    "\n",
    "p1 = ggplot(data.pc[class==\"bad\",]) + xlim(-5, 5) + ggtitle(\"PDF for PC1\") +\n",
    "     stat_function(fun=pdf.PC1, geom=\"area\", n=2000, fill=PALETTE[2]) +\n",
    "     stat_function(fun=pdf.PC1, geom=\"area\", n=2000, xlim=c(-5,1), fill=PALETTE[5]) +\n",
    "     geom_vline(xintercept=-5) + geom_vline(xintercept=1) +\n",
    "     theme.no_axis_titles\n",
    "\n",
    "p2 = ggplot(data.pc[class==\"bad\",]) + xlim(-5, 5) + ggtitle(\"PDF for PC2\") +\n",
    "     stat_function(fun=pdf.PC2, geom=\"area\", n=2000, fill=PALETTE[2]) +\n",
    "     stat_function(fun=pdf.PC2, geom=\"area\", n=2000, xlim=c(-2,0), fill=PALETTE[5]) +\n",
    "     geom_vline(xintercept=-2) + geom_vline(xintercept=0) +\n",
    "     theme.no_axis_titles\n",
    "\n",
    "grid.arrange(p1, p2, nrow=1)"
   ]
  },
  {
   "cell_type": "code",
   "execution_count": null,
   "metadata": {
    "hide_input": true,
    "scrolled": false
   },
   "outputs": [],
   "source": [
    "d.PC1 = density(data.pc$PC1[class==\"bad\"], kernel=\"gaussian\", bw=0.2, from=-5, to=5)\n",
    "d.PC2 = density(data.pc$PC2[class==\"bad\"], kernel=\"gaussian\", bw=0.2, from=-5, to=5)\n",
    "\n",
    "pdf.PC1 = approxfun(d.PC1)\n",
    "pdf.PC2 = approxfun(d.PC2)\n",
    "\n",
    "data.frame(variable=c(\"PC1\",\"PC2\"),\n",
    "           probability=c(integrate(pdf.PC1, -5, 0)$value, integrate(pdf.PC2, 0, 2)$value),\n",
    "           range_low=c(-5, 0),\n",
    "           range_high=c(0, 2))\n",
    "\n",
    "p1 = ggplot(data.pc[class==\"bad\",]) + xlim(-5, 5) + ggtitle(\"PDF for PC1\") +\n",
    "     stat_function(fun=pdf.PC1, geom=\"area\", n=2000, fill=PALETTE[2]) +\n",
    "     stat_function(fun=pdf.PC1, geom=\"area\", n=2000, xlim=c(-5,0), fill=PALETTE[5]) +\n",
    "     geom_vline(xintercept=-5) + geom_vline(xintercept=0) +\n",
    "     theme.no_axis_titles\n",
    "\n",
    "p2 = ggplot(data.pc[class==\"bad\",]) + xlim(-5, 5) + ggtitle(\"PDF for PC2\") +\n",
    "     stat_function(fun=pdf.PC2, geom=\"area\", n=2000, fill=PALETTE[2]) +\n",
    "     stat_function(fun=pdf.PC2, geom=\"area\", n=2000, xlim=c(0,2), fill=PALETTE[5]) +\n",
    "     geom_vline(xintercept=0) + geom_vline(xintercept=2) +\n",
    "     theme.no_axis_titles\n",
    "\n",
    "grid.arrange(p1, p2, nrow=1)"
   ]
  },
  {
   "cell_type": "markdown",
   "metadata": {},
   "source": [
    "### 2D Scatter Plot of 2 Principal Components + Loan Class\n",
    "\n",
    "Note that distinguishing characteristics are revealed."
   ]
  },
  {
   "cell_type": "code",
   "execution_count": null,
   "metadata": {
    "hide_input": true
   },
   "outputs": [],
   "source": [
    "ggplot(data.pc) + xlim(-5,20) + ylim(-5,50) +\n",
    "geom_point(aes(x=PC1, y=PC2, color=class), alpha=0.2, na.rm=TRUE) +\n",
    "scale_color_manual(values=PALETTE[2:3]) + guides.standard + theme.legend_title"
   ]
  },
  {
   "cell_type": "markdown",
   "metadata": {},
   "source": [
    "## Predictive Model\n",
    "\n",
    "Here is one of infinitely many predictive models."
   ]
  },
  {
   "cell_type": "markdown",
   "metadata": {},
   "source": [
    "### Homogeneous Spaces"
   ]
  },
  {
   "cell_type": "markdown",
   "metadata": {},
   "source": [
    "#### Convex Hulls Around Observations by Loan Class"
   ]
  },
  {
   "cell_type": "code",
   "execution_count": null,
   "metadata": {
    "hide_input": true,
    "scrolled": false
   },
   "outputs": [],
   "source": [
    "convex_hull.good = data.pc[class==\"good\", c(\"PC1\",\"PC2\")][chull(data.pc$PC1[class==\"good\"], data.pc$PC2[class==\"good\"]),]\n",
    "convex_hull.bad  = data.pc[class==\"bad\",  c(\"PC1\",\"PC2\")][chull(data.pc$PC1[class==\"bad\"],  data.pc$PC2[class==\"bad\"]),]\n",
    "\n",
    "ggplot(data.pc) + xlim(-5,20) + ylim(-5,50) +\n",
    "geom_point(aes(x=PC1, y=PC2, color=class), alpha=0.2) +\n",
    "geom_polygon(aes(x=PC1, y=PC2), data=convex_hull.good, fill=PALETTE[3], color=\"black\", alpha=0.2) +\n",
    "geom_polygon(aes(x=PC1, y=PC2), data=convex_hull.bad,  fill=PALETTE[2], color=\"black\", alpha=0.2) +\n",
    "scale_color_manual(values=PALETTE[2:3]) + guides.standard + theme.legend_title"
   ]
  },
  {
   "cell_type": "markdown",
   "metadata": {},
   "source": [
    "#### Homogeneous Spaces by Loan Class\n",
    "\n",
    "A predictive model with high certainty ..."
   ]
  },
  {
   "cell_type": "code",
   "execution_count": null,
   "metadata": {
    "hide_input": true,
    "scrolled": false
   },
   "outputs": [],
   "source": [
    "A = list(x=convex_hull.good$PC1, y=convex_hull.good$PC2)\n",
    "B = list(x=convex_hull.bad$PC1,  y=convex_hull.bad$PC2)\n",
    "X = polyclip(A, B, op=\"minus\")\n",
    "space.high.good = as.data.frame(X[[1]]); names(space.high.good) = c(\"PC1\",\"PC2\")\n",
    "X = polyclip(B, A, op=\"minus\")\n",
    "space.high.bad = as.data.frame(X[[1]]); names(space.high.bad) = c(\"PC1\",\"PC2\")\n",
    "\n",
    "ggplot() + ggtitle(\"High Certainty Spaces\") + xlim(-5,20) + ylim(-5,50) +\n",
    "geom_polygon(aes(x=PC1, y=PC2, fill=\"good\"), data=space.high.good) +\n",
    "geom_polygon(aes(x=PC1, y=PC2, fill=\"bad\"),  data=space.high.bad) +\n",
    "scale_fill_manual(\"class\", values=c(\"good\"=PALETTE[3], \"bad\"=PALETTE[2])) + theme.legend_title"
   ]
  },
  {
   "cell_type": "markdown",
   "metadata": {},
   "source": [
    "### Non-Homogeneous Space\n",
    "\n",
    "A predictive model with medium certainty ..."
   ]
  },
  {
   "cell_type": "code",
   "execution_count": null,
   "metadata": {
    "hide_input": true
   },
   "outputs": [],
   "source": [
    "A = list(x=convex_hull.good$PC1, y=convex_hull.good$PC2)\n",
    "B = list(x=convex_hull.bad$PC1,  y=convex_hull.bad$PC2)\n",
    "X = polyclip(A, B, op=\"intersection\")\n",
    "space.medium = as.data.frame(X[[1]]); names(space.medium) = c(\"PC1\",\"PC2\")\n",
    "\n",
    "A = list(x=space.medium$PC1, y=space.medium$PC2)\n",
    "B = list(x=c(-5,-5,20,20), y=c(0,-5,-5,0))\n",
    "X = polyclip(A, B, op=\"intersection\")\n",
    "space.medium.good = as.data.frame(X[[1]]); names(space.medium.good) = c(\"PC1\",\"PC2\")\n",
    "\n",
    "A = list(x=space.medium$PC1, y=space.medium$PC2)\n",
    "B = list(x=c(-5,-5,20,20), y=c(0,50,50,0))\n",
    "X = polyclip(A, B, op=\"intersection\")\n",
    "space.medium.bad = as.data.frame(X[[1]]); names(space.medium.bad) = c(\"PC1\",\"PC2\")\n",
    "\n",
    "ggplot() + ggtitle(\"Medium Certainty Spaces\", \"PC2 threshold = 0.00\") + xlim(-5,20) + ylim(-5,50) +\n",
    "geom_polygon(aes(x=PC1, y=PC2, fill=\"good\"), data=space.medium.good, alpha=0.5) +\n",
    "geom_polygon(aes(x=PC1, y=PC2, fill=\"bad\"),  data=space.medium.bad,  alpha=0.5) +\n",
    "geom_hline(yintercept=0, linetype=\"dashed\") +\n",
    "scale_fill_manual(\"class\", values=PALETTE[2:3]) + guides.standard + theme.legend_title"
   ]
  },
  {
   "cell_type": "markdown",
   "metadata": {},
   "source": [
    "### Model Form & Parameterization\n",
    "\n",
    "A predictive model with high and medium certainties ..."
   ]
  },
  {
   "cell_type": "code",
   "execution_count": null,
   "metadata": {
    "hide_input": true,
    "scrolled": false
   },
   "outputs": [],
   "source": [
    "ggplot() + ggtitle(\"Predictive Model\") + xlim(-5,20) + ylim(-5,50) +\n",
    "geom_polygon(aes(x=PC1, y=PC2, fill=\"good\", alpha=\"medium\"), data=space.medium.good) +\n",
    "geom_polygon(aes(x=PC1, y=PC2, fill=\"bad\", alpha=\"medium\"), data=space.medium.bad) +\n",
    "geom_polygon(aes(x=PC1, y=PC2, fill=\"good\", alpha=\"high\"), data=space.high.good) +\n",
    "geom_polygon(aes(x=PC1, y=PC2, fill=\"bad\", alpha=\"high\"), data=space.high.bad) +\n",
    "scale_fill_manual(\"class\", values=c(\"good\"=PALETTE[3], \"bad\"=PALETTE[2])) +\n",
    "scale_alpha_manual(\"certainty\", values=c(\"medium\"=0.5, \"high\"=1)) + \n",
    "theme.legend_title"
   ]
  },
  {
   "cell_type": "markdown",
   "metadata": {},
   "source": [
    "#### Hyper-Parameters\n",
    "\n",
    "You pick the hyper-parameter value(s).  This model's parameters were determined by form and 1 hyper-parameter:\n",
    "1. PC2 threshold for medium non-homogeneous space"
   ]
  },
  {
   "cell_type": "code",
   "execution_count": null,
   "metadata": {
    "hide_input": true
   },
   "outputs": [],
   "source": [
    "fmt(0.00, \"PC2 threshold\")"
   ]
  },
  {
   "cell_type": "markdown",
   "metadata": {},
   "source": [
    "#### Parameters\n",
    "\n",
    "This model is defined by these parameters:\n",
    "1. Polygon vertices for high certainty good loans\n",
    "1. Polygon vertices for high certainty bad loans\n",
    "\n",
    "Note that polygon vertices for medium certainty good loans are implied by hyper-parameter value and parameter values.<br/>\n",
    "Note that polygon vertices for medium certainty bad loans are implied by hyper-parameter value and parameter values."
   ]
  },
  {
   "cell_type": "code",
   "execution_count": null,
   "metadata": {
    "hide_input": true,
    "scrolled": true
   },
   "outputs": [],
   "source": [
    "fmt(data.frame(t(space.high.good)), \"If new observation is within this space, then predict it's a good loan with high certainty:\", row.names=TRUE, position=\"left\")"
   ]
  },
  {
   "cell_type": "code",
   "execution_count": null,
   "metadata": {
    "hide_input": true,
    "scrolled": true
   },
   "outputs": [],
   "source": [
    "fmt(data.frame(t(space.high.bad)), \"If new observation is within this space, then predict it's a bad loan with high certainty:\", position=\"left\", row.names=TRUE)"
   ]
  },
  {
   "cell_type": "code",
   "execution_count": null,
   "metadata": {
    "hide_input": true,
    "scrolled": false
   },
   "outputs": [],
   "source": [
    "fmt(data.frame(t(space.medium.good)), \"If new observation is within this space, then predict it's a good loan with moderate certainty:\", position=\"left\", row.names=TRUE)"
   ]
  },
  {
   "cell_type": "code",
   "execution_count": null,
   "metadata": {
    "hide_input": true
   },
   "outputs": [],
   "source": [
    "fmt(data.frame(t(space.medium.bad)), \"If new observation is within this space, then predict it's a bad loan with high certainty:\", position=\"left\", row.names=TRUE)"
   ]
  },
  {
   "cell_type": "markdown",
   "metadata": {},
   "source": [
    "## Prediction"
   ]
  },
  {
   "cell_type": "markdown",
   "metadata": {},
   "source": [
    "Some new observations ..."
   ]
  },
  {
   "cell_type": "code",
   "execution_count": null,
   "metadata": {
    "hide_input": true,
    "scrolled": false
   },
   "outputs": [],
   "source": [
    "new = datax[c(3000, 6000, 5014, 5017),]\n",
    "fmt(new, title=NA)"
   ]
  },
  {
   "cell_type": "markdown",
   "metadata": {},
   "source": [
    "Represent the new observations as principal components ..."
   ]
  },
  {
   "cell_type": "code",
   "execution_count": null,
   "metadata": {
    "hide_input": true,
    "scrolled": false
   },
   "outputs": [],
   "source": [
    "new.pc = as.data.frame(predict(pc, new))\n",
    "fmt(new.pc, title=NA)"
   ]
  },
  {
   "cell_type": "markdown",
   "metadata": {},
   "source": [
    "Visualize observations and model ..."
   ]
  },
  {
   "cell_type": "code",
   "execution_count": null,
   "metadata": {
    "hide_input": true
   },
   "outputs": [],
   "source": [
    "ggplot() + ggtitle(\"New Observations & Model\")+ xlim(-5,20) + ylim(-5,50) +\n",
    "geom_polygon(aes(x=PC1, y=PC2, fill=\"good\", alpha=\"medium\"), data=space.medium.good) +\n",
    "geom_polygon(aes(x=PC1, y=PC2, fill=\"bad\", alpha=\"medium\"), data=space.medium.bad) +\n",
    "geom_polygon(aes(x=PC1, y=PC2, fill=\"good\", alpha=\"high\"), data=space.high.good) +\n",
    "geom_polygon(aes(x=PC1, y=PC2, fill=\"bad\", alpha=\"high\"), data=space.high.bad) +\n",
    "geom_point(aes(x=PC1, y=PC2), data=new.pc, size=3, color=\"black\") +\n",
    "scale_fill_manual(\"class\", values=c(\"good\"=PALETTE[3], \"bad\"=PALETTE[2])) +\n",
    "scale_alpha_manual(\"certainty\", values=c(\"medium\"=0.5, \"high\"=1)) + \n",
    "theme.legend_title"
   ]
  },
  {
   "cell_type": "markdown",
   "metadata": {},
   "source": [
    "Make predictions ..."
   ]
  },
  {
   "cell_type": "code",
   "execution_count": null,
   "metadata": {
    "hide_input": true,
    "scrolled": true
   },
   "outputs": [],
   "source": [
    "prediction = data.frame(PC1=new.pc$PC1, PC2=new.pc$PC2,\n",
    "                        high_good=inside(new.pc[,c(\"PC1\",\"PC2\")],   space.high.good),\n",
    "                        high_bad=inside(new.pc[,c(\"PC1\",\"PC2\")],    space.high.bad),\n",
    "                        medium_good=inside(new.pc[,c(\"PC1\",\"PC2\")], space.medium.good),\n",
    "                        medium_bad=inside(new.pc[,c(\"PC1\",\"PC2\")],  space.medium.bad))\n",
    "\n",
    "prediction$commit = factor(aaply(1:nrow(prediction), 1, function(i) which(as.logical(prediction[i,3:6]))),\n",
    "                           levels=1:4,\n",
    "                           labels=names(prediction)[3:6])\n",
    "\n",
    "fmt(prediction)"
   ]
  },
  {
   "cell_type": "markdown",
   "metadata": {},
   "source": [
    "Visualize observations, model, & predictions ..."
   ]
  },
  {
   "cell_type": "code",
   "execution_count": null,
   "metadata": {
    "hide_input": true,
    "scrolled": false
   },
   "outputs": [],
   "source": [
    "ggplot() + ggtitle(\"New Observations, Model, & Predictions\") + xlim(-5,20) + ylim(-5,50) +\n",
    "geom_polygon(aes(x=PC1, y=PC2, fill=\"good\", alpha=\"medium\"), data=space.medium.good) +\n",
    "geom_polygon(aes(x=PC1, y=PC2, fill=\"bad\", alpha=\"medium\"), data=space.medium.bad) +\n",
    "geom_polygon(aes(x=PC1, y=PC2, fill=\"good\", alpha=\"high\"), data=space.high.good) +\n",
    "geom_polygon(aes(x=PC1, y=PC2, fill=\"bad\", alpha=\"high\"), data=space.high.bad) +\n",
    "geom_point(aes(x=PC1, y=PC2), data=new.pc[1,], size=3, fill=PALETTE[3], color=\"black\", alpha=1.0, shape=21) +\n",
    "geom_point(aes(x=PC1, y=PC2), data=new.pc[2,], size=3, fill=PALETTE[3], color=\"black\", alpha=0.5, shape=21) +\n",
    "geom_point(aes(x=PC1, y=PC2), data=new.pc[3,], size=3, fill=PALETTE[3], color=\"black\", alpha=0.5, shape=21) +\n",
    "geom_point(aes(x=PC1, y=PC2), data=new.pc[4,], size=3, fill=PALETTE[2], color=\"black\", alpha=0.5, shape=21) +\n",
    "scale_fill_manual(\"class\", values=c(\"good\"=PALETTE[3], \"bad\"=PALETTE[2])) +\n",
    "scale_alpha_manual(\"certainty\", values=c(\"medium\"=0.5, \"high\"=1)) + \n",
    "theme.legend_title"
   ]
  },
  {
   "cell_type": "markdown",
   "metadata": {},
   "source": [
    "## Evaluation"
   ]
  },
  {
   "cell_type": "markdown",
   "metadata": {},
   "source": [
    "### Evaluate Model's Performance on New Observations"
   ]
  },
  {
   "cell_type": "code",
   "execution_count": null,
   "metadata": {
    "hide_input": true,
    "scrolled": true
   },
   "outputs": [],
   "source": [
    "evaluation = prediction\n",
    "evaluation$actual = class[c(3000, 6000, 5014, 5017)]\n",
    "evaluation"
   ]
  },
  {
   "cell_type": "markdown",
   "metadata": {},
   "source": [
    "### Evaluate Model's Perfromance on All Data"
   ]
  },
  {
   "cell_type": "code",
   "execution_count": null,
   "metadata": {
    "hide_input": true
   },
   "outputs": [],
   "source": [
    "data.pc.high.good = data.pc[inside(data.pc[,c(\"PC1\",\"PC2\")], space.high.good),]\n",
    "class.high.good   = class[inside(data.pc[,c(\"PC1\",\"PC2\")], space.high.good)]\n",
    "\n",
    "data.pc.high.bad = data.pc[inside(data.pc[,c(\"PC1\",\"PC2\")], space.high.bad), ]\n",
    "class.high.bad   = class[inside(data.pc[,c(\"PC1\",\"PC2\")], space.high.bad)]\n",
    "\n",
    "data.pc.medium.good = data.pc[inside(data.pc[,c(\"PC1\",\"PC2\")], space.medium.good),]\n",
    "class.medium.good   = class[inside(data.pc[,c(\"PC1\",\"PC2\")], space.medium.good)]\n",
    "\n",
    "data.pc.medium.bad = data.pc[inside(data.pc[,c(\"PC1\",\"PC2\")], space.medium.bad),]\n",
    "class.medium.bad   = class[inside(data.pc[,c(\"PC1\",\"PC2\")], space.medium.bad)]\n",
    "\n",
    "d = data.frame(high.good=100,\n",
    "               medium.good=100*table(class.medium.good)[\"good\"] / length(class.medium.good),\n",
    "               high.bad=100,\n",
    "               medium.bad=100*table(class.medium.bad)[\"bad\"] / length(class.medium.bad))\n",
    "\n",
    "fmt(d, \"Correct predictions (%)\")"
   ]
  },
  {
   "cell_type": "code",
   "execution_count": null,
   "metadata": {
    "hide_input": true
   },
   "outputs": [],
   "source": [
    "output_size(8,5)\n",
    "\n",
    "p1 = ggplot(data.pc.high.good) + xlim(-5,20) + ylim(-5,50) +\n",
    "     geom_point(aes(x=PC1, y=PC2, color=class.high.good), alpha=0.2) +\n",
    "     scale_color_manual(values=PALETTE[2:3]) + theme.no_legend +\n",
    "     ggtitle(\"High certainty that it's a good loan\")\n",
    "\n",
    "p2 = ggplot(data.pc.medium.good) + xlim(-5,20) + ylim(-5,50) +\n",
    "     geom_point(aes(x=PC1, y=PC2, color=class.medium.good), alpha=0.2) +\n",
    "     geom_point(aes(x=PC1, y=PC2), data=data.pc.medium.good[class.medium.good==\"bad\",], color=\"gray30\", size=2, shape=4) +\n",
    "     scale_color_manual(values=PALETTE[2:3]) + theme.no_legend +\n",
    "     ggtitle(\"Medium certainty that it's a good loan\")\n",
    "\n",
    "p3 = ggplot(data.pc.high.bad) + xlim(-5,20) + ylim(-5,50) +\n",
    "     geom_point(aes(x=PC1, y=PC2, color=class.high.bad), alpha=0.2) +\n",
    "     scale_color_manual(values=PALETTE[2:3]) + theme.no_legend +\n",
    "     ggtitle(\"High certainty that it's a bad loan\")\n",
    "\n",
    "p4 = ggplot(data.pc.medium.bad) + xlim(-5,20) + ylim(-5,50) +\n",
    "     geom_point(aes(x=PC1, y=PC2, color=class.medium.bad), alpha=0.2) +\n",
    "     geom_point(aes(x=PC1, y=PC2), data=data.pc.medium.bad[class.medium.bad==\"good\",], color=\"gray30\", size=2, shape=4) +\n",
    "     scale_color_manual(values=PALETTE[2:3]) + theme.no_legend +\n",
    "     ggtitle(\"Medium certainty that it's a bad loan\")\n",
    "\n",
    "grid.arrange(p1, p2, p3, p4, nrow=2, ncol=2)\n",
    "\n",
    "output_size(restore)"
   ]
  },
  {
   "cell_type": "markdown",
   "metadata": {},
   "source": [
    "<p style=\"text-align:left; font-size:10px;\">\n",
    "Copyright (c) Berkeley Data Analytics Group, LLC\n",
    "<span style=\"float:right;\">\n",
    "Document revised March 1, 2020\n",
    "</span>\n",
    "</p>"
   ]
  }
 ],
 "metadata": {
  "hide_code_all_hidden": false,
  "hide_input": false,
  "kernelspec": {
   "display_name": "R",
   "language": "R",
   "name": "ir"
  },
  "language_info": {
   "codemirror_mode": "r",
   "file_extension": ".r",
   "mimetype": "text/x-r-source",
   "name": "R",
   "pygments_lexer": "r",
   "version": "3.6.1"
  },
  "toc": {
   "base_numbering": 1,
   "nav_menu": {},
   "number_sections": true,
   "sideBar": true,
   "skip_h1_title": true,
   "title_cell": "Table of Contents",
   "title_sidebar": "Contents",
   "toc_cell": false,
   "toc_position": {
    "height": "calc(100% - 180px)",
    "left": "10px",
    "top": "150px",
    "width": "255.865px"
   },
   "toc_section_display": true,
   "toc_window_display": true
  }
 },
 "nbformat": 4,
 "nbformat_minor": 2
}
