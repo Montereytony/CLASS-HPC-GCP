{
 "cells": [
  {
   "cell_type": "markdown",
   "metadata": {
    "hideCode": false,
    "hidePrompt": false
   },
   "source": [
    "#  Credit Card Fraud Detection\n",
    "\n",
    "![](banner_credit_card.jpg)\n",
    "\n",
    "Naive Bayes | SVM | Neural Network | Logistic Regression | k-Nearest Neighbor | Decision Tree"
   ]
  },
  {
   "cell_type": "code",
   "execution_count": 1,
   "metadata": {},
   "outputs": [
    {
     "data": {
      "text/html": [
       "<p style=\"text-align:center; font-size:10px;\">\n",
       ".................................................... start of document ....................................................\n",
       "</p>"
      ]
     },
     "metadata": {},
     "output_type": "display_data"
    }
   ],
   "source": [
    "f = \"setup.R\"; for (i in 1:10) { if (file.exists(f)) break else f = paste0(\"../\", f) }; source(f)\n",
    "update_geom_defaults(\"point\", list(size=0.5, colour=\"green4\"))                               "
   ]
  },
  {
   "cell_type": "markdown",
   "metadata": {},
   "source": [
    "## Situation\n",
    "\n",
    "* **Role:**  Vice President of Fraud Prevention\n",
    "* **Decision:**  Intervene in which credit card transactions? \n",
    "* **Approach:**  Build predictive models to detect fraudulent transactions, using 6 different predictive analytic methods.  Choose the best model as the criterion for intervention. \n",
    "* **Dataset:**  The dataset comprises transactions made by credit cards in September 2013 by European cardholders that occurred over two days, in which there were 492 frauds out of 284,807 transactions. The dataset is highly unbalanced - the positive class (frauds) account for 0.172% of all transactions.  It contains numerical variables V1, V2, ... V28, which are the result of a PCA transformation. Due to confidentiality issues, the original variables and more background information about the data are not provided.  'Time' is the number of seconds elapsed between a transaction and the first transaction in the dataset.  'Amount' is the transaction amount. 'Class' takes value 1 in case of fraud and 0 otherwise.  The dataset has been collected and analysed during a research collaboration of Worldline and the Machine Learning Group (http://mlg.ulb.ac.be) of ULB (Université Libre de Bruxelles) on big data mining and fraud detection. More details on current and past projects on related topics are available on http://mlg.ulb.ac.be/BruFence and http://mlg.ulb.ac.be/ARTML  Citation: Andrea Dal Pozzolo, Olivier Caelen, Reid A. Johnson and Gianluca Bontempi. Calibrating Probability with Undersampling for Unbalanced Classification. In Symposium on Computational Intelligence and Data Mining (CIDM), IEEE, 2015"
   ]
  },
  {
   "cell_type": "markdown",
   "metadata": {},
   "source": [
    "## Decision Model"
   ]
  },
  {
   "cell_type": "markdown",
   "metadata": {},
   "source": [
    "### Influence Diagram\n",
    "\n",
    "<img src=\"business-model_credit_card.jpg\" align=left width=850 />"
   ]
  },
  {
   "cell_type": "markdown",
   "metadata": {},
   "source": [
    "## Data"
   ]
  },
  {
   "cell_type": "code",
   "execution_count": 2,
   "metadata": {
    "hideCode": false,
    "hidePrompt": false,
    "run_control": {
     "marked": false
    },
    "scrolled": true
   },
   "outputs": [
    {
     "data": {
      "text/html": [
       "<table>\n",
       "<thead><tr><th scope=col>observations</th><th scope=col>variables</th></tr></thead>\n",
       "<tbody>\n",
       "\t<tr><td>284807</td><td>31    </td></tr>\n",
       "</tbody>\n",
       "</table>\n"
      ],
      "text/latex": [
       "\\begin{tabular}{r|ll}\n",
       " observations & variables\\\\\n",
       "\\hline\n",
       "\t 284807 & 31    \\\\\n",
       "\\end{tabular}\n"
      ],
      "text/markdown": [
       "\n",
       "| observations | variables |\n",
       "|---|---|\n",
       "| 284807 | 31     |\n",
       "\n"
      ],
      "text/plain": [
       "  observations variables\n",
       "1 284807       31       "
      ]
     },
     "metadata": {},
     "output_type": "display_data"
    },
    {
     "data": {
      "text/html": [
       "<table>\n",
       "<thead><tr><th scope=col>Time</th><th scope=col>V1</th><th scope=col>V2</th><th scope=col>V3</th><th scope=col>V4</th><th scope=col>V5</th><th scope=col>V6</th><th scope=col>V7</th><th scope=col>V8</th><th scope=col>V9</th><th scope=col>V10</th><th scope=col>V11</th><th scope=col>V12</th><th scope=col>V13</th><th scope=col>V14</th><th scope=col>V15</th><th scope=col>V16</th><th scope=col>V17</th><th scope=col>V18</th><th scope=col>V19</th><th scope=col>V20</th><th scope=col>V21</th><th scope=col>V22</th><th scope=col>V23</th><th scope=col>V24</th><th scope=col>V25</th><th scope=col>V26</th><th scope=col>V27</th><th scope=col>V28</th><th scope=col>Amount</th><th scope=col>Class</th></tr></thead>\n",
       "<tbody>\n",
       "\t<tr><td>0           </td><td>-1.3598071  </td><td>-0.07278117 </td><td>2.5363467   </td><td> 1.3781552  </td><td>-0.33832077 </td><td> 0.46238778 </td><td> 0.23959855 </td><td> 0.09869790 </td><td> 0.3637870  </td><td> 0.09079417 </td><td>-0.5515995  </td><td>-0.61780086 </td><td>-0.9913898  </td><td>-0.3111694  </td><td> 1.4681770  </td><td>-0.4704005  </td><td> 0.20797124 </td><td> 0.02579058 </td><td> 0.40399296 </td><td> 0.25141210 </td><td>-0.018306778</td><td> 0.277837576</td><td>-0.11047391 </td><td> 0.06692807 </td><td> 0.1285394  </td><td>-0.1891148  </td><td> 0.133558377</td><td>-0.02105305 </td><td>149.62      </td><td>0           </td></tr>\n",
       "\t<tr><td>0           </td><td> 1.1918571  </td><td> 0.26615071 </td><td>0.1664801   </td><td> 0.4481541  </td><td> 0.06001765 </td><td>-0.08236081 </td><td>-0.07880298 </td><td> 0.08510165 </td><td>-0.2554251  </td><td>-0.16697441 </td><td> 1.6127267  </td><td> 1.06523531 </td><td> 0.4890950  </td><td>-0.1437723  </td><td> 0.6355581  </td><td> 0.4639170  </td><td>-0.11480466 </td><td>-0.18336127 </td><td>-0.14578304 </td><td>-0.06908314 </td><td>-0.225775248</td><td>-0.638671953</td><td> 0.10128802 </td><td>-0.33984648 </td><td> 0.1671704  </td><td> 0.1258945  </td><td>-0.008983099</td><td> 0.01472417 </td><td>  2.69      </td><td>0           </td></tr>\n",
       "\t<tr><td>1           </td><td>-1.3583541  </td><td>-1.34016307 </td><td>1.7732093   </td><td> 0.3797796  </td><td>-0.50319813 </td><td> 1.80049938 </td><td> 0.79146096 </td><td> 0.24767579 </td><td>-1.5146543  </td><td> 0.20764287 </td><td> 0.6245015  </td><td> 0.06608369 </td><td> 0.7172927  </td><td>-0.1659459  </td><td> 2.3458649  </td><td>-2.8900832  </td><td> 1.10996938 </td><td>-0.12135931 </td><td>-2.26185710 </td><td> 0.52497973 </td><td> 0.247998153</td><td> 0.771679402</td><td> 0.90941226 </td><td>-0.68928096 </td><td>-0.3276418  </td><td>-0.1390966  </td><td>-0.055352794</td><td>-0.05975184 </td><td>378.66      </td><td>0           </td></tr>\n",
       "\t<tr><td>1           </td><td>-0.9662717  </td><td>-0.18522601 </td><td>1.7929933   </td><td>-0.8632913  </td><td>-0.01030888 </td><td> 1.24720317 </td><td> 0.23760894 </td><td> 0.37743587 </td><td>-1.3870241  </td><td>-0.05495192 </td><td>-0.2264873  </td><td> 0.17822823 </td><td> 0.5077569  </td><td>-0.2879237  </td><td>-0.6314181  </td><td>-1.0596472  </td><td>-0.68409279 </td><td> 1.96577500 </td><td>-1.23262197 </td><td>-0.20803778 </td><td>-0.108300452</td><td> 0.005273597</td><td>-0.19032052 </td><td>-1.17557533 </td><td> 0.6473760  </td><td>-0.2219288  </td><td> 0.062722849</td><td> 0.06145763 </td><td>123.50      </td><td>0           </td></tr>\n",
       "\t<tr><td>2           </td><td>-1.1582331  </td><td> 0.87773675 </td><td>1.5487178   </td><td> 0.4030339  </td><td>-0.40719338 </td><td> 0.09592146 </td><td> 0.59294075 </td><td>-0.27053268 </td><td> 0.8177393  </td><td> 0.75307443 </td><td>-0.8228429  </td><td> 0.53819555 </td><td> 1.3458516  </td><td>-1.1196698  </td><td> 0.1751211  </td><td>-0.4514492  </td><td>-0.23703324 </td><td>-0.03819479 </td><td> 0.80348692 </td><td> 0.40854236 </td><td>-0.009430697</td><td> 0.798278495</td><td>-0.13745808 </td><td> 0.14126698 </td><td>-0.2060096  </td><td> 0.5022922  </td><td> 0.219422230</td><td> 0.21515315 </td><td> 69.99      </td><td>0           </td></tr>\n",
       "\t<tr><td>2           </td><td>-0.4259659  </td><td> 0.96052304 </td><td>1.1411093   </td><td>-0.1682521  </td><td> 0.42098688 </td><td>-0.02972755 </td><td> 0.47620095 </td><td> 0.26031433 </td><td>-0.5686714  </td><td>-0.37140720 </td><td> 1.3412620  </td><td> 0.35989384 </td><td>-0.3580907  </td><td>-0.1371337  </td><td> 0.5176168  </td><td> 0.4017259  </td><td>-0.05813282 </td><td> 0.06865315 </td><td>-0.03319379 </td><td> 0.08496767 </td><td>-0.208253515</td><td>-0.559824796</td><td>-0.02639767 </td><td>-0.37142658 </td><td>-0.2327938  </td><td> 0.1059148  </td><td> 0.253844225</td><td> 0.08108026 </td><td>  3.67      </td><td>0           </td></tr>\n",
       "</tbody>\n",
       "</table>\n"
      ],
      "text/latex": [
       "\\begin{tabular}{r|lllllllllllllllllllllllllllllll}\n",
       " Time & V1 & V2 & V3 & V4 & V5 & V6 & V7 & V8 & V9 & V10 & V11 & V12 & V13 & V14 & V15 & V16 & V17 & V18 & V19 & V20 & V21 & V22 & V23 & V24 & V25 & V26 & V27 & V28 & Amount & Class\\\\\n",
       "\\hline\n",
       "\t 0            & -1.3598071   & -0.07278117  & 2.5363467    &  1.3781552   & -0.33832077  &  0.46238778  &  0.23959855  &  0.09869790  &  0.3637870   &  0.09079417  & -0.5515995   & -0.61780086  & -0.9913898   & -0.3111694   &  1.4681770   & -0.4704005   &  0.20797124  &  0.02579058  &  0.40399296  &  0.25141210  & -0.018306778 &  0.277837576 & -0.11047391  &  0.06692807  &  0.1285394   & -0.1891148   &  0.133558377 & -0.02105305  & 149.62       & 0           \\\\\n",
       "\t 0            &  1.1918571   &  0.26615071  & 0.1664801    &  0.4481541   &  0.06001765  & -0.08236081  & -0.07880298  &  0.08510165  & -0.2554251   & -0.16697441  &  1.6127267   &  1.06523531  &  0.4890950   & -0.1437723   &  0.6355581   &  0.4639170   & -0.11480466  & -0.18336127  & -0.14578304  & -0.06908314  & -0.225775248 & -0.638671953 &  0.10128802  & -0.33984648  &  0.1671704   &  0.1258945   & -0.008983099 &  0.01472417  &   2.69       & 0           \\\\\n",
       "\t 1            & -1.3583541   & -1.34016307  & 1.7732093    &  0.3797796   & -0.50319813  &  1.80049938  &  0.79146096  &  0.24767579  & -1.5146543   &  0.20764287  &  0.6245015   &  0.06608369  &  0.7172927   & -0.1659459   &  2.3458649   & -2.8900832   &  1.10996938  & -0.12135931  & -2.26185710  &  0.52497973  &  0.247998153 &  0.771679402 &  0.90941226  & -0.68928096  & -0.3276418   & -0.1390966   & -0.055352794 & -0.05975184  & 378.66       & 0           \\\\\n",
       "\t 1            & -0.9662717   & -0.18522601  & 1.7929933    & -0.8632913   & -0.01030888  &  1.24720317  &  0.23760894  &  0.37743587  & -1.3870241   & -0.05495192  & -0.2264873   &  0.17822823  &  0.5077569   & -0.2879237   & -0.6314181   & -1.0596472   & -0.68409279  &  1.96577500  & -1.23262197  & -0.20803778  & -0.108300452 &  0.005273597 & -0.19032052  & -1.17557533  &  0.6473760   & -0.2219288   &  0.062722849 &  0.06145763  & 123.50       & 0           \\\\\n",
       "\t 2            & -1.1582331   &  0.87773675  & 1.5487178    &  0.4030339   & -0.40719338  &  0.09592146  &  0.59294075  & -0.27053268  &  0.8177393   &  0.75307443  & -0.8228429   &  0.53819555  &  1.3458516   & -1.1196698   &  0.1751211   & -0.4514492   & -0.23703324  & -0.03819479  &  0.80348692  &  0.40854236  & -0.009430697 &  0.798278495 & -0.13745808  &  0.14126698  & -0.2060096   &  0.5022922   &  0.219422230 &  0.21515315  &  69.99       & 0           \\\\\n",
       "\t 2            & -0.4259659   &  0.96052304  & 1.1411093    & -0.1682521   &  0.42098688  & -0.02972755  &  0.47620095  &  0.26031433  & -0.5686714   & -0.37140720  &  1.3412620   &  0.35989384  & -0.3580907   & -0.1371337   &  0.5176168   &  0.4017259   & -0.05813282  &  0.06865315  & -0.03319379  &  0.08496767  & -0.208253515 & -0.559824796 & -0.02639767  & -0.37142658  & -0.2327938   &  0.1059148   &  0.253844225 &  0.08108026  &   3.67       & 0           \\\\\n",
       "\\end{tabular}\n"
      ],
      "text/markdown": [
       "\n",
       "| Time | V1 | V2 | V3 | V4 | V5 | V6 | V7 | V8 | V9 | V10 | V11 | V12 | V13 | V14 | V15 | V16 | V17 | V18 | V19 | V20 | V21 | V22 | V23 | V24 | V25 | V26 | V27 | V28 | Amount | Class |\n",
       "|---|---|---|---|---|---|---|---|---|---|---|---|---|---|---|---|---|---|---|---|---|---|---|---|---|---|---|---|---|---|---|\n",
       "| 0            | -1.3598071   | -0.07278117  | 2.5363467    |  1.3781552   | -0.33832077  |  0.46238778  |  0.23959855  |  0.09869790  |  0.3637870   |  0.09079417  | -0.5515995   | -0.61780086  | -0.9913898   | -0.3111694   |  1.4681770   | -0.4704005   |  0.20797124  |  0.02579058  |  0.40399296  |  0.25141210  | -0.018306778 |  0.277837576 | -0.11047391  |  0.06692807  |  0.1285394   | -0.1891148   |  0.133558377 | -0.02105305  | 149.62       | 0            |\n",
       "| 0            |  1.1918571   |  0.26615071  | 0.1664801    |  0.4481541   |  0.06001765  | -0.08236081  | -0.07880298  |  0.08510165  | -0.2554251   | -0.16697441  |  1.6127267   |  1.06523531  |  0.4890950   | -0.1437723   |  0.6355581   |  0.4639170   | -0.11480466  | -0.18336127  | -0.14578304  | -0.06908314  | -0.225775248 | -0.638671953 |  0.10128802  | -0.33984648  |  0.1671704   |  0.1258945   | -0.008983099 |  0.01472417  |   2.69       | 0            |\n",
       "| 1            | -1.3583541   | -1.34016307  | 1.7732093    |  0.3797796   | -0.50319813  |  1.80049938  |  0.79146096  |  0.24767579  | -1.5146543   |  0.20764287  |  0.6245015   |  0.06608369  |  0.7172927   | -0.1659459   |  2.3458649   | -2.8900832   |  1.10996938  | -0.12135931  | -2.26185710  |  0.52497973  |  0.247998153 |  0.771679402 |  0.90941226  | -0.68928096  | -0.3276418   | -0.1390966   | -0.055352794 | -0.05975184  | 378.66       | 0            |\n",
       "| 1            | -0.9662717   | -0.18522601  | 1.7929933    | -0.8632913   | -0.01030888  |  1.24720317  |  0.23760894  |  0.37743587  | -1.3870241   | -0.05495192  | -0.2264873   |  0.17822823  |  0.5077569   | -0.2879237   | -0.6314181   | -1.0596472   | -0.68409279  |  1.96577500  | -1.23262197  | -0.20803778  | -0.108300452 |  0.005273597 | -0.19032052  | -1.17557533  |  0.6473760   | -0.2219288   |  0.062722849 |  0.06145763  | 123.50       | 0            |\n",
       "| 2            | -1.1582331   |  0.87773675  | 1.5487178    |  0.4030339   | -0.40719338  |  0.09592146  |  0.59294075  | -0.27053268  |  0.8177393   |  0.75307443  | -0.8228429   |  0.53819555  |  1.3458516   | -1.1196698   |  0.1751211   | -0.4514492   | -0.23703324  | -0.03819479  |  0.80348692  |  0.40854236  | -0.009430697 |  0.798278495 | -0.13745808  |  0.14126698  | -0.2060096   |  0.5022922   |  0.219422230 |  0.21515315  |  69.99       | 0            |\n",
       "| 2            | -0.4259659   |  0.96052304  | 1.1411093    | -0.1682521   |  0.42098688  | -0.02972755  |  0.47620095  |  0.26031433  | -0.5686714   | -0.37140720  |  1.3412620   |  0.35989384  | -0.3580907   | -0.1371337   |  0.5176168   |  0.4017259   | -0.05813282  |  0.06865315  | -0.03319379  |  0.08496767  | -0.208253515 | -0.559824796 | -0.02639767  | -0.37142658  | -0.2327938   |  0.1059148   |  0.253844225 |  0.08108026  |   3.67       | 0            |\n",
       "\n"
      ],
      "text/plain": [
       "  Time V1         V2          V3        V4         V5          V6         \n",
       "1 0    -1.3598071 -0.07278117 2.5363467  1.3781552 -0.33832077  0.46238778\n",
       "2 0     1.1918571  0.26615071 0.1664801  0.4481541  0.06001765 -0.08236081\n",
       "3 1    -1.3583541 -1.34016307 1.7732093  0.3797796 -0.50319813  1.80049938\n",
       "4 1    -0.9662717 -0.18522601 1.7929933 -0.8632913 -0.01030888  1.24720317\n",
       "5 2    -1.1582331  0.87773675 1.5487178  0.4030339 -0.40719338  0.09592146\n",
       "6 2    -0.4259659  0.96052304 1.1411093 -0.1682521  0.42098688 -0.02972755\n",
       "  V7          V8          V9         V10         V11        V12        \n",
       "1  0.23959855  0.09869790  0.3637870  0.09079417 -0.5515995 -0.61780086\n",
       "2 -0.07880298  0.08510165 -0.2554251 -0.16697441  1.6127267  1.06523531\n",
       "3  0.79146096  0.24767579 -1.5146543  0.20764287  0.6245015  0.06608369\n",
       "4  0.23760894  0.37743587 -1.3870241 -0.05495192 -0.2264873  0.17822823\n",
       "5  0.59294075 -0.27053268  0.8177393  0.75307443 -0.8228429  0.53819555\n",
       "6  0.47620095  0.26031433 -0.5686714 -0.37140720  1.3412620  0.35989384\n",
       "  V13        V14        V15        V16        V17         V18        \n",
       "1 -0.9913898 -0.3111694  1.4681770 -0.4704005  0.20797124  0.02579058\n",
       "2  0.4890950 -0.1437723  0.6355581  0.4639170 -0.11480466 -0.18336127\n",
       "3  0.7172927 -0.1659459  2.3458649 -2.8900832  1.10996938 -0.12135931\n",
       "4  0.5077569 -0.2879237 -0.6314181 -1.0596472 -0.68409279  1.96577500\n",
       "5  1.3458516 -1.1196698  0.1751211 -0.4514492 -0.23703324 -0.03819479\n",
       "6 -0.3580907 -0.1371337  0.5176168  0.4017259 -0.05813282  0.06865315\n",
       "  V19         V20         V21          V22          V23         V24        \n",
       "1  0.40399296  0.25141210 -0.018306778  0.277837576 -0.11047391  0.06692807\n",
       "2 -0.14578304 -0.06908314 -0.225775248 -0.638671953  0.10128802 -0.33984648\n",
       "3 -2.26185710  0.52497973  0.247998153  0.771679402  0.90941226 -0.68928096\n",
       "4 -1.23262197 -0.20803778 -0.108300452  0.005273597 -0.19032052 -1.17557533\n",
       "5  0.80348692  0.40854236 -0.009430697  0.798278495 -0.13745808  0.14126698\n",
       "6 -0.03319379  0.08496767 -0.208253515 -0.559824796 -0.02639767 -0.37142658\n",
       "  V25        V26        V27          V28         Amount Class\n",
       "1  0.1285394 -0.1891148  0.133558377 -0.02105305 149.62 0    \n",
       "2  0.1671704  0.1258945 -0.008983099  0.01472417   2.69 0    \n",
       "3 -0.3276418 -0.1390966 -0.055352794 -0.05975184 378.66 0    \n",
       "4  0.6473760 -0.2219288  0.062722849  0.06145763 123.50 0    \n",
       "5 -0.2060096  0.5022922  0.219422230  0.21515315  69.99 0    \n",
       "6 -0.2327938  0.1059148  0.253844225  0.08108026   3.67 0    "
      ]
     },
     "metadata": {},
     "output_type": "display_data"
    }
   ],
   "source": [
    "data = rbind(read.csv(\"Credit Card Transactions (part 1).csv\"),\n",
    "             read.csv(\"Credit Card Transactions (part 2).csv\")) # may take about 40 seconds\n",
    "size(data)\n",
    "head(data)"
   ]
  },
  {
   "cell_type": "markdown",
   "metadata": {},
   "source": [
    "## Data Representation"
   ]
  },
  {
   "cell_type": "code",
   "execution_count": 3,
   "metadata": {},
   "outputs": [
    {
     "data": {
      "text/html": [
       "<table>\n",
       "<thead><tr><th scope=col>Time</th><th scope=col>V1</th><th scope=col>V2</th><th scope=col>V3</th><th scope=col>V4</th><th scope=col>V5</th><th scope=col>V6</th><th scope=col>V7</th><th scope=col>V8</th><th scope=col>V9</th><th scope=col>V10</th><th scope=col>V11</th><th scope=col>V12</th><th scope=col>V13</th><th scope=col>V14</th><th scope=col>V15</th><th scope=col>V16</th><th scope=col>V17</th><th scope=col>V18</th><th scope=col>V19</th><th scope=col>V20</th><th scope=col>V21</th><th scope=col>V22</th><th scope=col>V23</th><th scope=col>V24</th><th scope=col>V25</th><th scope=col>V26</th><th scope=col>V27</th><th scope=col>V28</th><th scope=col>Amount</th><th scope=col>class</th><th scope=col>class.bin</th></tr></thead>\n",
       "<tbody>\n",
       "\t<tr><td>0           </td><td>-1.3598071  </td><td>-0.07278117 </td><td>2.5363467   </td><td> 1.3781552  </td><td>-0.33832077 </td><td> 0.46238778 </td><td> 0.23959855 </td><td> 0.09869790 </td><td> 0.3637870  </td><td> 0.09079417 </td><td>-0.5515995  </td><td>-0.61780086 </td><td>-0.9913898  </td><td>-0.3111694  </td><td> 1.4681770  </td><td>-0.4704005  </td><td> 0.20797124 </td><td> 0.02579058 </td><td> 0.40399296 </td><td> 0.25141210 </td><td>-0.018306778</td><td> 0.277837576</td><td>-0.11047391 </td><td> 0.06692807 </td><td> 0.1285394  </td><td>-0.1891148  </td><td> 0.133558377</td><td>-0.02105305 </td><td>149.62      </td><td>legit       </td><td>0           </td></tr>\n",
       "\t<tr><td>0           </td><td> 1.1918571  </td><td> 0.26615071 </td><td>0.1664801   </td><td> 0.4481541  </td><td> 0.06001765 </td><td>-0.08236081 </td><td>-0.07880298 </td><td> 0.08510165 </td><td>-0.2554251  </td><td>-0.16697441 </td><td> 1.6127267  </td><td> 1.06523531 </td><td> 0.4890950  </td><td>-0.1437723  </td><td> 0.6355581  </td><td> 0.4639170  </td><td>-0.11480466 </td><td>-0.18336127 </td><td>-0.14578304 </td><td>-0.06908314 </td><td>-0.225775248</td><td>-0.638671953</td><td> 0.10128802 </td><td>-0.33984648 </td><td> 0.1671704  </td><td> 0.1258945  </td><td>-0.008983099</td><td> 0.01472417 </td><td>  2.69      </td><td>legit       </td><td>0           </td></tr>\n",
       "\t<tr><td>1           </td><td>-1.3583541  </td><td>-1.34016307 </td><td>1.7732093   </td><td> 0.3797796  </td><td>-0.50319813 </td><td> 1.80049938 </td><td> 0.79146096 </td><td> 0.24767579 </td><td>-1.5146543  </td><td> 0.20764287 </td><td> 0.6245015  </td><td> 0.06608369 </td><td> 0.7172927  </td><td>-0.1659459  </td><td> 2.3458649  </td><td>-2.8900832  </td><td> 1.10996938 </td><td>-0.12135931 </td><td>-2.26185710 </td><td> 0.52497973 </td><td> 0.247998153</td><td> 0.771679402</td><td> 0.90941226 </td><td>-0.68928096 </td><td>-0.3276418  </td><td>-0.1390966  </td><td>-0.055352794</td><td>-0.05975184 </td><td>378.66      </td><td>legit       </td><td>0           </td></tr>\n",
       "\t<tr><td>1           </td><td>-0.9662717  </td><td>-0.18522601 </td><td>1.7929933   </td><td>-0.8632913  </td><td>-0.01030888 </td><td> 1.24720317 </td><td> 0.23760894 </td><td> 0.37743587 </td><td>-1.3870241  </td><td>-0.05495192 </td><td>-0.2264873  </td><td> 0.17822823 </td><td> 0.5077569  </td><td>-0.2879237  </td><td>-0.6314181  </td><td>-1.0596472  </td><td>-0.68409279 </td><td> 1.96577500 </td><td>-1.23262197 </td><td>-0.20803778 </td><td>-0.108300452</td><td> 0.005273597</td><td>-0.19032052 </td><td>-1.17557533 </td><td> 0.6473760  </td><td>-0.2219288  </td><td> 0.062722849</td><td> 0.06145763 </td><td>123.50      </td><td>legit       </td><td>0           </td></tr>\n",
       "\t<tr><td>2           </td><td>-1.1582331  </td><td> 0.87773675 </td><td>1.5487178   </td><td> 0.4030339  </td><td>-0.40719338 </td><td> 0.09592146 </td><td> 0.59294075 </td><td>-0.27053268 </td><td> 0.8177393  </td><td> 0.75307443 </td><td>-0.8228429  </td><td> 0.53819555 </td><td> 1.3458516  </td><td>-1.1196698  </td><td> 0.1751211  </td><td>-0.4514492  </td><td>-0.23703324 </td><td>-0.03819479 </td><td> 0.80348692 </td><td> 0.40854236 </td><td>-0.009430697</td><td> 0.798278495</td><td>-0.13745808 </td><td> 0.14126698 </td><td>-0.2060096  </td><td> 0.5022922  </td><td> 0.219422230</td><td> 0.21515315 </td><td> 69.99      </td><td>legit       </td><td>0           </td></tr>\n",
       "\t<tr><td>2           </td><td>-0.4259659  </td><td> 0.96052304 </td><td>1.1411093   </td><td>-0.1682521  </td><td> 0.42098688 </td><td>-0.02972755 </td><td> 0.47620095 </td><td> 0.26031433 </td><td>-0.5686714  </td><td>-0.37140720 </td><td> 1.3412620  </td><td> 0.35989384 </td><td>-0.3580907  </td><td>-0.1371337  </td><td> 0.5176168  </td><td> 0.4017259  </td><td>-0.05813282 </td><td> 0.06865315 </td><td>-0.03319379 </td><td> 0.08496767 </td><td>-0.208253515</td><td>-0.559824796</td><td>-0.02639767 </td><td>-0.37142658 </td><td>-0.2327938  </td><td> 0.1059148  </td><td> 0.253844225</td><td> 0.08108026 </td><td>  3.67      </td><td>legit       </td><td>0           </td></tr>\n",
       "</tbody>\n",
       "</table>\n"
      ],
      "text/latex": [
       "\\begin{tabular}{r|llllllllllllllllllllllllllllllll}\n",
       " Time & V1 & V2 & V3 & V4 & V5 & V6 & V7 & V8 & V9 & V10 & V11 & V12 & V13 & V14 & V15 & V16 & V17 & V18 & V19 & V20 & V21 & V22 & V23 & V24 & V25 & V26 & V27 & V28 & Amount & class & class.bin\\\\\n",
       "\\hline\n",
       "\t 0            & -1.3598071   & -0.07278117  & 2.5363467    &  1.3781552   & -0.33832077  &  0.46238778  &  0.23959855  &  0.09869790  &  0.3637870   &  0.09079417  & -0.5515995   & -0.61780086  & -0.9913898   & -0.3111694   &  1.4681770   & -0.4704005   &  0.20797124  &  0.02579058  &  0.40399296  &  0.25141210  & -0.018306778 &  0.277837576 & -0.11047391  &  0.06692807  &  0.1285394   & -0.1891148   &  0.133558377 & -0.02105305  & 149.62       & legit        & 0           \\\\\n",
       "\t 0            &  1.1918571   &  0.26615071  & 0.1664801    &  0.4481541   &  0.06001765  & -0.08236081  & -0.07880298  &  0.08510165  & -0.2554251   & -0.16697441  &  1.6127267   &  1.06523531  &  0.4890950   & -0.1437723   &  0.6355581   &  0.4639170   & -0.11480466  & -0.18336127  & -0.14578304  & -0.06908314  & -0.225775248 & -0.638671953 &  0.10128802  & -0.33984648  &  0.1671704   &  0.1258945   & -0.008983099 &  0.01472417  &   2.69       & legit        & 0           \\\\\n",
       "\t 1            & -1.3583541   & -1.34016307  & 1.7732093    &  0.3797796   & -0.50319813  &  1.80049938  &  0.79146096  &  0.24767579  & -1.5146543   &  0.20764287  &  0.6245015   &  0.06608369  &  0.7172927   & -0.1659459   &  2.3458649   & -2.8900832   &  1.10996938  & -0.12135931  & -2.26185710  &  0.52497973  &  0.247998153 &  0.771679402 &  0.90941226  & -0.68928096  & -0.3276418   & -0.1390966   & -0.055352794 & -0.05975184  & 378.66       & legit        & 0           \\\\\n",
       "\t 1            & -0.9662717   & -0.18522601  & 1.7929933    & -0.8632913   & -0.01030888  &  1.24720317  &  0.23760894  &  0.37743587  & -1.3870241   & -0.05495192  & -0.2264873   &  0.17822823  &  0.5077569   & -0.2879237   & -0.6314181   & -1.0596472   & -0.68409279  &  1.96577500  & -1.23262197  & -0.20803778  & -0.108300452 &  0.005273597 & -0.19032052  & -1.17557533  &  0.6473760   & -0.2219288   &  0.062722849 &  0.06145763  & 123.50       & legit        & 0           \\\\\n",
       "\t 2            & -1.1582331   &  0.87773675  & 1.5487178    &  0.4030339   & -0.40719338  &  0.09592146  &  0.59294075  & -0.27053268  &  0.8177393   &  0.75307443  & -0.8228429   &  0.53819555  &  1.3458516   & -1.1196698   &  0.1751211   & -0.4514492   & -0.23703324  & -0.03819479  &  0.80348692  &  0.40854236  & -0.009430697 &  0.798278495 & -0.13745808  &  0.14126698  & -0.2060096   &  0.5022922   &  0.219422230 &  0.21515315  &  69.99       & legit        & 0           \\\\\n",
       "\t 2            & -0.4259659   &  0.96052304  & 1.1411093    & -0.1682521   &  0.42098688  & -0.02972755  &  0.47620095  &  0.26031433  & -0.5686714   & -0.37140720  &  1.3412620   &  0.35989384  & -0.3580907   & -0.1371337   &  0.5176168   &  0.4017259   & -0.05813282  &  0.06865315  & -0.03319379  &  0.08496767  & -0.208253515 & -0.559824796 & -0.02639767  & -0.37142658  & -0.2327938   &  0.1059148   &  0.253844225 &  0.08108026  &   3.67       & legit        & 0           \\\\\n",
       "\\end{tabular}\n"
      ],
      "text/markdown": [
       "\n",
       "| Time | V1 | V2 | V3 | V4 | V5 | V6 | V7 | V8 | V9 | V10 | V11 | V12 | V13 | V14 | V15 | V16 | V17 | V18 | V19 | V20 | V21 | V22 | V23 | V24 | V25 | V26 | V27 | V28 | Amount | class | class.bin |\n",
       "|---|---|---|---|---|---|---|---|---|---|---|---|---|---|---|---|---|---|---|---|---|---|---|---|---|---|---|---|---|---|---|---|\n",
       "| 0            | -1.3598071   | -0.07278117  | 2.5363467    |  1.3781552   | -0.33832077  |  0.46238778  |  0.23959855  |  0.09869790  |  0.3637870   |  0.09079417  | -0.5515995   | -0.61780086  | -0.9913898   | -0.3111694   |  1.4681770   | -0.4704005   |  0.20797124  |  0.02579058  |  0.40399296  |  0.25141210  | -0.018306778 |  0.277837576 | -0.11047391  |  0.06692807  |  0.1285394   | -0.1891148   |  0.133558377 | -0.02105305  | 149.62       | legit        | 0            |\n",
       "| 0            |  1.1918571   |  0.26615071  | 0.1664801    |  0.4481541   |  0.06001765  | -0.08236081  | -0.07880298  |  0.08510165  | -0.2554251   | -0.16697441  |  1.6127267   |  1.06523531  |  0.4890950   | -0.1437723   |  0.6355581   |  0.4639170   | -0.11480466  | -0.18336127  | -0.14578304  | -0.06908314  | -0.225775248 | -0.638671953 |  0.10128802  | -0.33984648  |  0.1671704   |  0.1258945   | -0.008983099 |  0.01472417  |   2.69       | legit        | 0            |\n",
       "| 1            | -1.3583541   | -1.34016307  | 1.7732093    |  0.3797796   | -0.50319813  |  1.80049938  |  0.79146096  |  0.24767579  | -1.5146543   |  0.20764287  |  0.6245015   |  0.06608369  |  0.7172927   | -0.1659459   |  2.3458649   | -2.8900832   |  1.10996938  | -0.12135931  | -2.26185710  |  0.52497973  |  0.247998153 |  0.771679402 |  0.90941226  | -0.68928096  | -0.3276418   | -0.1390966   | -0.055352794 | -0.05975184  | 378.66       | legit        | 0            |\n",
       "| 1            | -0.9662717   | -0.18522601  | 1.7929933    | -0.8632913   | -0.01030888  |  1.24720317  |  0.23760894  |  0.37743587  | -1.3870241   | -0.05495192  | -0.2264873   |  0.17822823  |  0.5077569   | -0.2879237   | -0.6314181   | -1.0596472   | -0.68409279  |  1.96577500  | -1.23262197  | -0.20803778  | -0.108300452 |  0.005273597 | -0.19032052  | -1.17557533  |  0.6473760   | -0.2219288   |  0.062722849 |  0.06145763  | 123.50       | legit        | 0            |\n",
       "| 2            | -1.1582331   |  0.87773675  | 1.5487178    |  0.4030339   | -0.40719338  |  0.09592146  |  0.59294075  | -0.27053268  |  0.8177393   |  0.75307443  | -0.8228429   |  0.53819555  |  1.3458516   | -1.1196698   |  0.1751211   | -0.4514492   | -0.23703324  | -0.03819479  |  0.80348692  |  0.40854236  | -0.009430697 |  0.798278495 | -0.13745808  |  0.14126698  | -0.2060096   |  0.5022922   |  0.219422230 |  0.21515315  |  69.99       | legit        | 0            |\n",
       "| 2            | -0.4259659   |  0.96052304  | 1.1411093    | -0.1682521   |  0.42098688  | -0.02972755  |  0.47620095  |  0.26031433  | -0.5686714   | -0.37140720  |  1.3412620   |  0.35989384  | -0.3580907   | -0.1371337   |  0.5176168   |  0.4017259   | -0.05813282  |  0.06865315  | -0.03319379  |  0.08496767  | -0.208253515 | -0.559824796 | -0.02639767  | -0.37142658  | -0.2327938   |  0.1059148   |  0.253844225 |  0.08108026  |   3.67       | legit        | 0            |\n",
       "\n"
      ],
      "text/plain": [
       "  Time V1         V2          V3        V4         V5          V6         \n",
       "1 0    -1.3598071 -0.07278117 2.5363467  1.3781552 -0.33832077  0.46238778\n",
       "2 0     1.1918571  0.26615071 0.1664801  0.4481541  0.06001765 -0.08236081\n",
       "3 1    -1.3583541 -1.34016307 1.7732093  0.3797796 -0.50319813  1.80049938\n",
       "4 1    -0.9662717 -0.18522601 1.7929933 -0.8632913 -0.01030888  1.24720317\n",
       "5 2    -1.1582331  0.87773675 1.5487178  0.4030339 -0.40719338  0.09592146\n",
       "6 2    -0.4259659  0.96052304 1.1411093 -0.1682521  0.42098688 -0.02972755\n",
       "  V7          V8          V9         V10         V11        V12        \n",
       "1  0.23959855  0.09869790  0.3637870  0.09079417 -0.5515995 -0.61780086\n",
       "2 -0.07880298  0.08510165 -0.2554251 -0.16697441  1.6127267  1.06523531\n",
       "3  0.79146096  0.24767579 -1.5146543  0.20764287  0.6245015  0.06608369\n",
       "4  0.23760894  0.37743587 -1.3870241 -0.05495192 -0.2264873  0.17822823\n",
       "5  0.59294075 -0.27053268  0.8177393  0.75307443 -0.8228429  0.53819555\n",
       "6  0.47620095  0.26031433 -0.5686714 -0.37140720  1.3412620  0.35989384\n",
       "  V13        V14        V15        V16        V17         V18        \n",
       "1 -0.9913898 -0.3111694  1.4681770 -0.4704005  0.20797124  0.02579058\n",
       "2  0.4890950 -0.1437723  0.6355581  0.4639170 -0.11480466 -0.18336127\n",
       "3  0.7172927 -0.1659459  2.3458649 -2.8900832  1.10996938 -0.12135931\n",
       "4  0.5077569 -0.2879237 -0.6314181 -1.0596472 -0.68409279  1.96577500\n",
       "5  1.3458516 -1.1196698  0.1751211 -0.4514492 -0.23703324 -0.03819479\n",
       "6 -0.3580907 -0.1371337  0.5176168  0.4017259 -0.05813282  0.06865315\n",
       "  V19         V20         V21          V22          V23         V24        \n",
       "1  0.40399296  0.25141210 -0.018306778  0.277837576 -0.11047391  0.06692807\n",
       "2 -0.14578304 -0.06908314 -0.225775248 -0.638671953  0.10128802 -0.33984648\n",
       "3 -2.26185710  0.52497973  0.247998153  0.771679402  0.90941226 -0.68928096\n",
       "4 -1.23262197 -0.20803778 -0.108300452  0.005273597 -0.19032052 -1.17557533\n",
       "5  0.80348692  0.40854236 -0.009430697  0.798278495 -0.13745808  0.14126698\n",
       "6 -0.03319379  0.08496767 -0.208253515 -0.559824796 -0.02639767 -0.37142658\n",
       "  V25        V26        V27          V28         Amount class class.bin\n",
       "1  0.1285394 -0.1891148  0.133558377 -0.02105305 149.62 legit 0        \n",
       "2  0.1671704  0.1258945 -0.008983099  0.01472417   2.69 legit 0        \n",
       "3 -0.3276418 -0.1390966 -0.055352794 -0.05975184 378.66 legit 0        \n",
       "4  0.6473760 -0.2219288  0.062722849  0.06145763 123.50 legit 0        \n",
       "5 -0.2060096  0.5022922  0.219422230  0.21515315  69.99 legit 0        \n",
       "6 -0.2327938  0.1059148  0.253844225  0.08108026   3.67 legit 0        "
      ]
     },
     "metadata": {},
     "output_type": "display_data"
    }
   ],
   "source": [
    "data$class = factor(data$Class, levels=c(1,0), labels=c(\"fraud\",\"legit\"))\n",
    "data$class.bin = data$Class\n",
    "data$Class = NULL\n",
    "head(data)"
   ]
  },
  {
   "cell_type": "code",
   "execution_count": 4,
   "metadata": {},
   "outputs": [
    {
     "data": {
      "image/png": "[encoded data removed]",
      "text/plain": [
       "plot without title"
      ]
     },
     "metadata": {
      "image/png": {
       "height": 360,
       "width": 840
      },
      "text/plain": {
       "height": 360,
       "width": 840
      }
     },
     "output_type": "display_data"
    }
   ],
   "source": [
    "ggplot() +\n",
    "geom_point(aes(x=V1, y=V2, color=\"legit\"), data=data[data$class==\"legit\",], alpha=0.5) +\n",
    "geom_point(aes(x=V1, y=V2, color=\"fraud\"), data=data[data$class==\"fraud\",], alpha=0.5) +\n",
    "scale_color_manual(values=c(legit=PALETTE[1], fraud=PALETTE[2]))"
   ]
  },
  {
   "cell_type": "markdown",
   "metadata": {},
   "source": [
    "## Data Partition"
   ]
  },
  {
   "cell_type": "markdown",
   "metadata": {},
   "source": [
    "### Partition data 50% for training and 50% for testing, balance training by downsampling"
   ]
  },
  {
   "cell_type": "code",
   "execution_count": 5,
   "metadata": {},
   "outputs": [
    {
     "data": {
      "text/html": [
       "<table><tr><td style=\"background-color:white; vertical-align:top; padding-right:40px;\"><table style=\"white-space: nowrap;\">\n",
       "<caption><center><font color=\"black\"><b>prior</b></font></center></caption>\n",
       " <thead>\n",
       "  <tr>\n",
       "   <th style=\"text-align:right;background-color: #FFFFFF !important;\"> fraud </th>\n",
       "   <th style=\"text-align:right;background-color: #FFFFFF !important;\"> legit </th>\n",
       "  </tr>\n",
       " </thead>\n",
       "<tbody>\n",
       "  <tr>\n",
       "   <td style=\"text-align:right;\"> 0.0017275 </td>\n",
       "   <td style=\"text-align:right;\"> 0.9982725 </td>\n",
       "  </tr>\n",
       "</tbody>\n",
       "</table></td><td style=\"background-color:white; vertical-align:top; padding-right:40px;\"><table style=\"white-space: nowrap;\">\n",
       "<caption><center><font color=\"black\"><b>train</b></font></center></caption>\n",
       " <thead>\n",
       "  <tr>\n",
       "   <th style=\"text-align:right;background-color: #FFFFFF !important;\"> Var1 </th>\n",
       "   <th style=\"text-align:right;background-color: #FFFFFF !important;\"> Freq </th>\n",
       "  </tr>\n",
       " </thead>\n",
       "<tbody>\n",
       "  <tr>\n",
       "   <td style=\"text-align:right;\"> fraud </td>\n",
       "   <td style=\"text-align:right;\"> 246 </td>\n",
       "  </tr>\n",
       "  <tr>\n",
       "   <td style=\"text-align:right;\"> legit </td>\n",
       "   <td style=\"text-align:right;\"> 246 </td>\n",
       "  </tr>\n",
       "</tbody>\n",
       "</table></td><td style=\"background-color:white; vertical-align:top;\"><table style=\"white-space: nowrap;\">\n",
       "<caption><center><font color=\"black\"><b>test</b></font></center></caption>\n",
       " <thead>\n",
       "  <tr>\n",
       "   <th style=\"text-align:right;background-color: #FFFFFF !important;\"> Var1 </th>\n",
       "   <th style=\"text-align:right;background-color: #FFFFFF !important;\"> Freq </th>\n",
       "  </tr>\n",
       " </thead>\n",
       "<tbody>\n",
       "  <tr>\n",
       "   <td style=\"text-align:right;\"> fraud </td>\n",
       "   <td style=\"text-align:right;\"> 246 </td>\n",
       "  </tr>\n",
       "  <tr>\n",
       "   <td style=\"text-align:right;\"> legit </td>\n",
       "   <td style=\"text-align:right;\"> 142157 </td>\n",
       "  </tr>\n",
       "</tbody>\n",
       "</table></td></tr></table>"
      ]
     },
     "metadata": {},
     "output_type": "display_data"
    }
   ],
   "source": [
    "set.seed(0)\n",
    "train = createDataPartition(data$class, p=0.50)[[1]]\n",
    "data.train = data[train,]\n",
    "data.test  = data[setdiff(1:nrow(data), train),]\n",
    "\n",
    "FT = table(data.train$class)\n",
    "ft = FT/sum(FT)\n",
    "prior = as.data.frame(t(as.matrix(ft)))\n",
    "\n",
    "data.train = rbind(data.train[data.train$class==\"fraud\",],\n",
    "                   data.train[sample(which(data.train$class==\"legit\"), length(which(data.train$class==\"fraud\")), replace=FALSE),])\n",
    "\n",
    "layout(fmt(prior),\n",
    "       fmt(as.data.frame(table(data.train$class)), \"train\"),\n",
    "       fmt(as.data.frame(table(data.test$class)),  \"test\"))"
   ]
  },
  {
   "cell_type": "code",
   "execution_count": 6,
   "metadata": {
    "scrolled": false
   },
   "outputs": [
    {
     "data": {
      "image/png": "[encoded data removed]",
      "text/plain": [
       "plot without title"
      ]
     },
     "metadata": {
      "image/png": {
       "height": 360,
       "width": 840
      },
      "text/plain": {
       "height": 360,
       "width": 840
      }
     },
     "output_type": "display_data"
    },
    {
     "data": {
      "image/png": "[encoded data removed]",
      "text/plain": [
       "plot without title"
      ]
     },
     "metadata": {
      "image/png": {
       "height": 360,
       "width": 840
      },
      "text/plain": {
       "height": 360,
       "width": 840
      }
     },
     "output_type": "display_data"
    }
   ],
   "source": [
    "ggplot() + ggtitle(\"Training Data\") + xlim(-60,10) + ylim(-75,25) +\n",
    "geom_point(aes(x=V1, y=V2, color=\"legit\"), data=data.train[data.train$class==\"legit\",], alpha=0.5) +\n",
    "geom_point(aes(x=V1, y=V2, color=\"fraud\"), data=data.train[data.train$class==\"fraud\",], alpha=0.5) +\n",
    "scale_color_manual(values=c(legit=PALETTE[1], fraud=PALETTE[2]))\n",
    "\n",
    "ggplot() + ggtitle(\"Testing Data\") + xlim(-60,10) + ylim(-75,25) +\n",
    "geom_point(aes(x=V1, y=V2, color=\"legit\"), data=data.test[data.test$class==\"legit\",], alpha=0.5) +\n",
    "geom_point(aes(x=V1, y=V2, color=\"fraud\"), data=data.test[data.test$class==\"fraud\",], alpha=0.5) +\n",
    "scale_color_manual(values=c(legit=PALETTE[1], fraud=PALETTE[2]))"
   ]
  },
  {
   "cell_type": "markdown",
   "metadata": {},
   "source": [
    "## Business Parameters"
   ]
  },
  {
   "cell_type": "code",
   "execution_count": 8,
   "metadata": {},
   "outputs": [
    {
     "data": {
      "text/html": [
       "<table>\n",
       "<thead><tr><th scope=col>intervention</th><th scope=col>dissatisfaction_penalty</th><th scope=col>charge</th></tr></thead>\n",
       "<tbody>\n",
       "\t<tr><td>10      </td><td>1000    </td><td>122.2113</td></tr>\n",
       "</tbody>\n",
       "</table>\n"
      ],
      "text/latex": [
       "\\begin{tabular}{r|lll}\n",
       " intervention & dissatisfaction\\_penalty & charge\\\\\n",
       "\\hline\n",
       "\t 10       & 1000     & 122.2113\\\\\n",
       "\\end{tabular}\n"
      ],
      "text/markdown": [
       "\n",
       "| intervention | dissatisfaction_penalty | charge |\n",
       "|---|---|---|\n",
       "| 10       | 1000     | 122.2113 |\n",
       "\n"
      ],
      "text/plain": [
       "  intervention dissatisfaction_penalty charge  \n",
       "1 10           1000                    122.2113"
      ]
     },
     "metadata": {},
     "output_type": "display_data"
    }
   ],
   "source": [
    "intervention = 10\n",
    "dissatisfaction_penalty = 1000\n",
    "charge = mean(data[data$class==\"fraud\", \"Amount\"])\n",
    "\n",
    "# For Sensitivity Analysis ...\n",
    "# intervention = 10\n",
    "# dissatisfaction_penalty = 100\n",
    "# charge = 1000\n",
    "\n",
    "\n",
    "data.frame(intervention, dissatisfaction_penalty, charge)"
   ]
  },
  {
   "cell_type": "markdown",
   "metadata": {},
   "source": [
    "## Baseline"
   ]
  },
  {
   "cell_type": "code",
   "execution_count": 9,
   "metadata": {},
   "outputs": [
    {
     "data": {
      "image/png": "[encoded data removed]",
      "text/plain": [
       "plot without title"
      ]
     },
     "metadata": {
      "image/png": {
       "height": 360,
       "width": 300
      },
      "text/plain": {
       "height": 360,
       "width": 300
      }
     },
     "output_type": "display_data"
    }
   ],
   "source": [
    "grid = data.frame(expand.grid(seq(-50,5,0.5), seq(-50,25,0.5))); names(grid) = c(\"V1\",\"V2\")\n",
    "class.predicted = rep(factor(\"legit\", levels=c(\"fraud\",\"legit\")), nrow(grid))\n",
    "\n",
    "output_size(2.5,3)\n",
    "ggplot(grid) + ggtitle(\"Baseline\") +\n",
    "geom_tile(aes(x=V1, y=V2, fill=class.predicted), alpha=0.3) +\n",
    "scale_fill_manual(values=PALETTE[c(2,1)], drop=FALSE) + theme.no_legend\n",
    "output_size(restore)"
   ]
  },
  {
   "cell_type": "code",
   "execution_count": 10,
   "metadata": {},
   "outputs": [
    {
     "data": {
      "text/html": [
       "<table><tr><td style=\"background-color:white; vertical-align:top; padding-right:40px;\"><table style=\"white-space: nowrap;\">\n",
       "<caption><center><font color=\"black\"><b>cm</b></font></center></caption>\n",
       " <thead>\n",
       "  <tr>\n",
       "   <th style=\"text-align:left;background-color: #FFFFFF !important;\">   </th>\n",
       "   <th style=\"text-align:right;background-color: #FFFFFF !important;\"> fraud </th>\n",
       "   <th style=\"text-align:right;background-color: #FFFFFF !important;\"> legit </th>\n",
       "  </tr>\n",
       " </thead>\n",
       "<tbody>\n",
       "  <tr>\n",
       "   <td style=\"text-align:left;font-weight: bold;\"> fraud </td>\n",
       "   <td style=\"text-align:right;\"> 0.0000000 </td>\n",
       "   <td style=\"text-align:right;\"> 0.0000000 </td>\n",
       "  </tr>\n",
       "  <tr>\n",
       "   <td style=\"text-align:left;font-weight: bold;\"> legit </td>\n",
       "   <td style=\"text-align:right;\"> 0.0017275 </td>\n",
       "   <td style=\"text-align:right;\"> 0.9982725 </td>\n",
       "  </tr>\n",
       "</tbody>\n",
       "</table></td><td style=\"background-color:white; vertical-align:top;\"><table style=\"white-space: nowrap;\">\n",
       "<caption><center><font color=\"black\"><b> </b></font></center></caption>\n",
       " <thead>\n",
       "  <tr>\n",
       "   <th style=\"text-align:right;background-color: #FFFFFF !important;\"> accuracy </th>\n",
       "   <th style=\"text-align:right;background-color: #FFFFFF !important;\"> fpr </th>\n",
       "   <th style=\"text-align:right;background-color: #FFFFFF !important;\"> fnr </th>\n",
       "  </tr>\n",
       " </thead>\n",
       "<tbody>\n",
       "  <tr>\n",
       "   <td style=\"text-align:right;\"> 0.9982725 </td>\n",
       "   <td style=\"text-align:right;\"> 0 </td>\n",
       "   <td style=\"text-align:right;\"> 1 </td>\n",
       "  </tr>\n",
       "</tbody>\n",
       "</table></td></tr></table>"
      ]
     },
     "metadata": {},
     "output_type": "display_data"
    }
   ],
   "source": [
    "class.predicted = rep(factor(\"legit\", levels=c(\"fraud\",\"legit\")), nrow(data.test))\n",
    "CM = confusionMatrix(class.predicted, data.test$class)$table\n",
    "cm = CM/sum(CM)\n",
    "accuracy.base = cm[1,1]+cm[2,2]\n",
    "fpr.base = cm[1,2]/sum(cm[,2]) # predicted fraud, but actually legit\n",
    "fnr.base = cm[2,1]/sum(cm[,1]) # predicted legit, but actually fraud\n",
    "\n",
    "layout(fmt.cm(cm), fmt(data.frame(accuracy=accuracy.base, fpr=fpr.base, fnr=fnr.base), title=\"\"))"
   ]
  },
  {
   "cell_type": "code",
   "execution_count": 11,
   "metadata": {},
   "outputs": [
    {
     "data": {
      "image/png": "[encoded data removed]",
      "text/plain": [
       "plot without title"
      ]
     },
     "metadata": {
      "image/png": {
       "height": 360,
       "width": 840
      },
      "text/plain": {
       "height": 360,
       "width": 840
      }
     },
     "output_type": "display_data"
    }
   ],
   "source": [
    "p1 = ggplot(data.test[data.test$class==class.predicted,]) +\n",
    "     ggtitle(\"Correct\\nPredictions\") + xlim(-50,5) + ylim(-50,25) +\n",
    "     geom_point(aes(x=V1, y=V2, color=class), na.rm=TRUE) +\n",
    "     scale_color_manual(values=PALETTE[c(2,1)], drop=FALSE) + theme.no_legend\n",
    "\n",
    "p2 = ggplot(data.test[data.test$class==\"legit\" & class.predicted==\"fraud\",]) +\n",
    "     ggtitle(\"Legitimate Transactions\\nPredicted as Fraudulent\") + xlim(-50,5) + ylim(-50,25) +\n",
    "     geom_point(aes(x=V1, y=V2, color=class), na.rm=TRUE) +\n",
    "     scale_color_manual(values=PALETTE[1]) + theme.no_legend\n",
    "\n",
    "p3 = ggplot(data.test[data.test$class==\"fraud\" & class.predicted==\"legit\",]) +\n",
    "     ggtitle(\"Fraudulent Transactions\\nPredicted as Legitimate\") + xlim(-50,5) + ylim(-50,25) +\n",
    "     geom_point(aes(x=V1, y=V2, color=class), na.rm=TRUE) +\n",
    "     scale_color_manual(values=PALETTE[2]) + theme.no_legend\n",
    "\n",
    "grid.arrange(p1, p2, p3, nrow=1)"
   ]
  },
  {
   "cell_type": "code",
   "execution_count": 12,
   "metadata": {},
   "outputs": [
    {
     "data": {
      "text/html": [
       "<table>\n",
       "<thead><tr><th scope=col>cost.legit_fraud</th><th scope=col>cost.fraud_legit</th><th scope=col>cost.fraud_fraud</th><th scope=col>cost.legit_legit</th><th scope=col>cost</th></tr></thead>\n",
       "<tbody>\n",
       "\t<tr><td>60127.97</td><td>0       </td><td>0       </td><td>0       </td><td>60127.97</td></tr>\n",
       "</tbody>\n",
       "</table>\n"
      ],
      "text/latex": [
       "\\begin{tabular}{r|lllll}\n",
       " cost.legit\\_fraud & cost.fraud\\_legit & cost.fraud\\_fraud & cost.legit\\_legit & cost\\\\\n",
       "\\hline\n",
       "\t 60127.97 & 0        & 0        & 0        & 60127.97\\\\\n",
       "\\end{tabular}\n"
      ],
      "text/markdown": [
       "\n",
       "| cost.legit_fraud | cost.fraud_legit | cost.fraud_fraud | cost.legit_legit | cost |\n",
       "|---|---|---|---|---|\n",
       "| 60127.97 | 0        | 0        | 0        | 60127.97 |\n",
       "\n"
      ],
      "text/plain": [
       "  cost.legit_fraud cost.fraud_legit cost.fraud_fraud cost.legit_legit cost    \n",
       "1 60127.97         0                0                0                60127.97"
      ]
     },
     "metadata": {},
     "output_type": "display_data"
    }
   ],
   "source": [
    "cost.legit_fraud = cm[2,1]/sum(cm[,1]) * length(which(data$class==\"fraud\")) * charge\n",
    "cost.fraud_legit = cm[1,2]/sum(cm[,2]) * length(which(data$class==\"legit\")) * (dissatisfaction_penalty + intervention)\n",
    "cost.fraud_fraud = cm[1,1]/sum(cm[,1]) * length(which(data$class==\"fraud\")) * intervention\n",
    "cost.legit_legit = 0\n",
    "cost.base = cost.legit_fraud + cost.fraud_legit + cost.fraud_fraud + cost.legit_legit\n",
    "\n",
    "data.frame(cost.legit_fraud, cost.fraud_legit, cost.fraud_fraud, cost.legit_legit, cost=cost.base)"
   ]
  },
  {
   "cell_type": "markdown",
   "metadata": {},
   "source": [
    "## Predict Fraud by Naive Bayes"
   ]
  },
  {
   "cell_type": "code",
   "execution_count": 13,
   "metadata": {},
   "outputs": [
    {
     "data": {
      "image/png": "[encoded data removed]",
      "text/plain": [
       "plot without title"
      ]
     },
     "metadata": {
      "image/png": {
       "height": 360,
       "width": 300
      },
      "text/plain": {
       "height": 360,
       "width": 300
      }
     },
     "output_type": "display_data"
    }
   ],
   "source": [
    "# unbalance training data for naive bayes so that it can account for class prior probabilities\n",
    "data.train.nb = rbind(data.train[sample(which(data.train$class==\"legit\"), prior$legit/prior$fraud, replace=TRUE),],\n",
    "                      data.train[data.train$class==\"fraud\",])\n",
    "\n",
    "model = naiveBayes(class ~ V1+V2, data.train.nb)\n",
    "cutoff = 0.5\n",
    "\n",
    "grid = data.frame(expand.grid(seq(-50,5,0.5), seq(-50,25,0.5))); names(grid) = c(\"V1\",\"V2\")\n",
    "class.predicted = as.class(predict(model, grid, type=\"raw\"), class=\"fraud\", cutoff)\n",
    "\n",
    "output_size(2.5,3)\n",
    "ggplot(grid) + ggtitle(\"Naive Bayes\", sprintf(\"class ~ V1+V2 @ cutoff=%0.2f\", cutoff)) +\n",
    "geom_tile(aes(x=V1, y=V2, fill=class.predicted), alpha=0.3) +\n",
    "scale_fill_manual(values=PALETTE[c(2,1)]) + theme.no_legend\n",
    "output_size(restore)"
   ]
  },
  {
   "cell_type": "code",
   "execution_count": 14,
   "metadata": {},
   "outputs": [
    {
     "data": {
      "text/html": [
       "<table><tr><td style=\"background-color:white; vertical-align:top; padding-right:40px;\"><table style=\"white-space: nowrap;\">\n",
       "<caption><center><font color=\"black\"><b>cm</b></font></center></caption>\n",
       " <thead>\n",
       "  <tr>\n",
       "   <th style=\"text-align:left;background-color: #FFFFFF !important;\">   </th>\n",
       "   <th style=\"text-align:right;background-color: #FFFFFF !important;\"> fraud </th>\n",
       "   <th style=\"text-align:right;background-color: #FFFFFF !important;\"> legit </th>\n",
       "  </tr>\n",
       " </thead>\n",
       "<tbody>\n",
       "  <tr>\n",
       "   <td style=\"text-align:left;font-weight: bold;\"> fraud </td>\n",
       "   <td style=\"text-align:right;\"> 0.0007233 </td>\n",
       "   <td style=\"text-align:right;\"> 0.0345569 </td>\n",
       "  </tr>\n",
       "  <tr>\n",
       "   <td style=\"text-align:left;font-weight: bold;\"> legit </td>\n",
       "   <td style=\"text-align:right;\"> 0.0010042 </td>\n",
       "   <td style=\"text-align:right;\"> 0.9637157 </td>\n",
       "  </tr>\n",
       "</tbody>\n",
       "</table></td><td style=\"background-color:white; vertical-align:top;\"><table style=\"white-space: nowrap;\">\n",
       "<caption><center><font color=\"black\"><b> </b></font></center></caption>\n",
       " <thead>\n",
       "  <tr>\n",
       "   <th style=\"text-align:right;background-color: #FFFFFF !important;\"> accuracy </th>\n",
       "   <th style=\"text-align:right;background-color: #FFFFFF !important;\"> fpr </th>\n",
       "   <th style=\"text-align:right;background-color: #FFFFFF !important;\"> fnr </th>\n",
       "  </tr>\n",
       " </thead>\n",
       "<tbody>\n",
       "  <tr>\n",
       "   <td style=\"text-align:right;\"> 0.964439 </td>\n",
       "   <td style=\"text-align:right;\"> 0.0346167 </td>\n",
       "   <td style=\"text-align:right;\"> 0.5813008 </td>\n",
       "  </tr>\n",
       "</tbody>\n",
       "</table></td></tr></table>"
      ]
     },
     "metadata": {},
     "output_type": "display_data"
    }
   ],
   "source": [
    "prob = predict(model, data.test, type=\"raw\")\n",
    "class.predicted = as.class(prob, class=\"fraud\", cutoff)\n",
    "CM = confusionMatrix(class.predicted, data.test$class)$table\n",
    "cm = CM/sum(CM)\n",
    "accuracy.nb = cm[1,1]+cm[2,2]\n",
    "fpr.nb = cm[1,2]/sum(cm[,2]) # predicted fraud, but actually legit\n",
    "fnr.nb = cm[2,1]/sum(cm[,1]) # predicted legit, but actually fraud\n",
    "\n",
    "layout(fmt.cm(cm), fmt(data.frame(accuracy=accuracy.nb, fpr=fpr.nb, fnr=fnr.nb), title=\"\"))"
   ]
  },
  {
   "cell_type": "code",
   "execution_count": 15,
   "metadata": {
    "scrolled": false
   },
   "outputs": [
    {
     "data": {
      "image/png": "[encoded data removed]",
      "text/plain": [
       "plot without title"
      ]
     },
     "metadata": {
      "image/png": {
       "height": 360,
       "width": 840
      },
      "text/plain": {
       "height": 360,
       "width": 840
      }
     },
     "output_type": "display_data"
    }
   ],
   "source": [
    "p1 = ggplot(data.test[data.test$class==class.predicted,]) +\n",
    "     ggtitle(\"Correct\\nPredictions\") + xlim(-50,5) + ylim(-50,25) +\n",
    "     geom_point(aes(x=V1, y=V2, color=class), na.rm=TRUE) +\n",
    "     scale_color_manual(values=PALETTE[c(2,1)]) + theme.no_legend\n",
    "\n",
    "p2 = ggplot(data.test[data.test$class==\"legit\" & class.predicted==\"fraud\",]) +\n",
    "     ggtitle(\"Legitimate Transactions\\nPredicted as Fraudulent\") + xlim(-50,5) + ylim(-50,25) +\n",
    "     geom_point(aes(x=V1, y=V2, color=class), na.rm=TRUE) +\n",
    "     scale_color_manual(values=PALETTE[1]) + theme.no_legend\n",
    "\n",
    "p3 = ggplot(data.test[data.test$class==\"fraud\" & class.predicted==\"legit\",]) +\n",
    "     ggtitle(\"Fraudulent Transactions\\nPredicted as Legitimate\") + xlim(-50,5) + ylim(-50,25) +\n",
    "     geom_point(aes(x=V1, y=V2, color=class), na.rm=TRUE) +\n",
    "     scale_color_manual(values=PALETTE[2]) + theme.no_legend\n",
    "\n",
    "grid.arrange(p1, p2, p3, nrow=1)"
   ]
  },
  {
   "cell_type": "code",
   "execution_count": 16,
   "metadata": {},
   "outputs": [
    {
     "data": {
      "text/html": [
       "<table>\n",
       "<thead><tr><th scope=col>cost.legit_fraud</th><th scope=col>cost.fraud_legit</th><th scope=col>cost.fraud_fraud</th><th scope=col>cost.legit_legit</th><th scope=col>cost</th></tr></thead>\n",
       "<tbody>\n",
       "\t<tr><td>34952.44</td><td>9940455 </td><td>2060    </td><td>0       </td><td>9977467 </td></tr>\n",
       "</tbody>\n",
       "</table>\n"
      ],
      "text/latex": [
       "\\begin{tabular}{r|lllll}\n",
       " cost.legit\\_fraud & cost.fraud\\_legit & cost.fraud\\_fraud & cost.legit\\_legit & cost\\\\\n",
       "\\hline\n",
       "\t 34952.44 & 9940455  & 2060     & 0        & 9977467 \\\\\n",
       "\\end{tabular}\n"
      ],
      "text/markdown": [
       "\n",
       "| cost.legit_fraud | cost.fraud_legit | cost.fraud_fraud | cost.legit_legit | cost |\n",
       "|---|---|---|---|---|\n",
       "| 34952.44 | 9940455  | 2060     | 0        | 9977467  |\n",
       "\n"
      ],
      "text/plain": [
       "  cost.legit_fraud cost.fraud_legit cost.fraud_fraud cost.legit_legit cost   \n",
       "1 34952.44         9940455          2060             0                9977467"
      ]
     },
     "metadata": {},
     "output_type": "display_data"
    }
   ],
   "source": [
    "cost.legit_fraud = cm[2,1]/sum(cm[,1]) * length(which(data$class==\"fraud\")) * charge\n",
    "cost.fraud_legit = cm[1,2]/sum(cm[,2]) * length(which(data$class==\"legit\")) * (dissatisfaction_penalty + intervention)\n",
    "cost.fraud_fraud = cm[1,1]/sum(cm[,1]) * length(which(data$class==\"fraud\")) * intervention\n",
    "cost.legit_legit = 0\n",
    "cost.nb = cost.legit_fraud + cost.fraud_legit + cost.fraud_fraud + cost.legit_legit\n",
    "\n",
    "data.frame(cost.legit_fraud, cost.fraud_legit, cost.fraud_fraud, cost.legit_legit, cost=cost.nb)"
   ]
  },
  {
   "cell_type": "markdown",
   "metadata": {},
   "source": [
    "## Predict Fraud by Support Vector Machine"
   ]
  },
  {
   "cell_type": "code",
   "execution_count": 17,
   "metadata": {},
   "outputs": [
    {
     "data": {
      "image/png": "[encoded data removed]",
      "text/plain": [
       "plot without title"
      ]
     },
     "metadata": {
      "image/png": {
       "height": 360,
       "width": 300
      },
      "text/plain": {
       "height": 360,
       "width": 300
      }
     },
     "output_type": "display_data"
    }
   ],
   "source": [
    "set.seed(0)\n",
    "model = svm(class ~ V1+V2, data.train, scale=TRUE, kernel=\"polynomial\", degree=4, cost=10, probability=TRUE)\n",
    "cutoff = 0.5\n",
    "\n",
    "grid = data.frame(expand.grid(seq(-50,5,0.5), seq(-50,25,0.5))); names(grid) = c(\"V1\",\"V2\")\n",
    "class.predicted = as.class(attr(predict(model, grid, probability=TRUE), \"probabilities\"), class=\"fraud\", cutoff)\n",
    "\n",
    "output_size(2.5,3)\n",
    "ggplot(grid) + ggtitle(\"SVM\", sprintf(\"class ~ V1+V2 @ cutoff=%0.2f\", cutoff)) +\n",
    "geom_tile(aes(x=V1, y=V2, fill=class.predicted), alpha=0.3) +\n",
    "scale_fill_manual(values=PALETTE[c(2,1)]) + theme.no_legend\n",
    "output_size(restore)"
   ]
  },
  {
   "cell_type": "code",
   "execution_count": 18,
   "metadata": {},
   "outputs": [
    {
     "data": {
      "text/html": [
       "<table><tr><td style=\"background-color:white; vertical-align:top; padding-right:40px;\"><table style=\"white-space: nowrap;\">\n",
       "<caption><center><font color=\"black\"><b>cm</b></font></center></caption>\n",
       " <thead>\n",
       "  <tr>\n",
       "   <th style=\"text-align:left;background-color: #FFFFFF !important;\">   </th>\n",
       "   <th style=\"text-align:right;background-color: #FFFFFF !important;\"> fraud </th>\n",
       "   <th style=\"text-align:right;background-color: #FFFFFF !important;\"> legit </th>\n",
       "  </tr>\n",
       " </thead>\n",
       "<tbody>\n",
       "  <tr>\n",
       "   <td style=\"text-align:left;font-weight: bold;\"> fraud </td>\n",
       "   <td style=\"text-align:right;\"> 0.0003371 </td>\n",
       "   <td style=\"text-align:right;\"> 0.0138410 </td>\n",
       "  </tr>\n",
       "  <tr>\n",
       "   <td style=\"text-align:left;font-weight: bold;\"> legit </td>\n",
       "   <td style=\"text-align:right;\"> 0.0013904 </td>\n",
       "   <td style=\"text-align:right;\"> 0.9844315 </td>\n",
       "  </tr>\n",
       "</tbody>\n",
       "</table></td><td style=\"background-color:white; vertical-align:top;\"><table style=\"white-space: nowrap;\">\n",
       "<caption><center><font color=\"black\"><b> </b></font></center></caption>\n",
       " <thead>\n",
       "  <tr>\n",
       "   <th style=\"text-align:right;background-color: #FFFFFF !important;\"> accuracy </th>\n",
       "   <th style=\"text-align:right;background-color: #FFFFFF !important;\"> fpr </th>\n",
       "   <th style=\"text-align:right;background-color: #FFFFFF !important;\"> fnr </th>\n",
       "  </tr>\n",
       " </thead>\n",
       "<tbody>\n",
       "  <tr>\n",
       "   <td style=\"text-align:right;\"> 0.9847686 </td>\n",
       "   <td style=\"text-align:right;\"> 0.013865 </td>\n",
       "   <td style=\"text-align:right;\"> 0.804878 </td>\n",
       "  </tr>\n",
       "</tbody>\n",
       "</table></td></tr></table>"
      ]
     },
     "metadata": {},
     "output_type": "display_data"
    }
   ],
   "source": [
    "prob = attr(predict(model, data.test, probability=TRUE), \"probabilities\")\n",
    "class.predicted = as.class(prob, class=\"fraud\", cutoff)\n",
    "CM = confusionMatrix(class.predicted, data.test$class)$table\n",
    "cm = CM/sum(CM)\n",
    "accuracy.svm = cm[1,1]+cm[2,2]\n",
    "fpr.svm = cm[1,2]/sum(cm[,2]) # predicted fraud, but actually legit\n",
    "fnr.svm = cm[2,1]/sum(cm[,1]) # predicted legit, but actually fraud\n",
    "\n",
    "layout(fmt.cm(cm), fmt(data.frame(accuracy=accuracy.svm, fpr=fpr.svm, fnr=fnr.svm), title=\"\"))"
   ]
  },
  {
   "cell_type": "code",
   "execution_count": 19,
   "metadata": {},
   "outputs": [
    {
     "data": {
      "image/png": "[encoded data removed]",
      "text/plain": [
       "plot without title"
      ]
     },
     "metadata": {
      "image/png": {
       "height": 360,
       "width": 840
      },
      "text/plain": {
       "height": 360,
       "width": 840
      }
     },
     "output_type": "display_data"
    }
   ],
   "source": [
    "p1 = ggplot(data.test[data.test$class==class.predicted,]) +\n",
    "     ggtitle(\"Correct\\nPredictions\") + xlim(-50,5) + ylim(-50,25) +\n",
    "     geom_point(aes(x=V1, y=V2, color=class), na.rm=TRUE) +\n",
    "     scale_color_manual(values=PALETTE[c(2,1)]) + theme.no_legend\n",
    "\n",
    "p2 = ggplot(data.test[data.test$class==\"legit\" & class.predicted==\"fraud\",]) +\n",
    "     ggtitle(\"Legitimate Transactions\\nPredicted as Fraudulent\") + xlim(-50,5) + ylim(-50,25) +\n",
    "     geom_point(aes(x=V1, y=V2, color=class), na.rm=TRUE) +\n",
    "     scale_color_manual(values=PALETTE[1]) + theme.no_legend\n",
    "\n",
    "p3 = ggplot(data.test[data.test$class==\"fraud\" & class.predicted==\"legit\",]) +\n",
    "     ggtitle(\"Fraudulent Transactions\\nPredicted as Legitimate\") + xlim(-50,5) + ylim(-50,25) +\n",
    "     geom_point(aes(x=V1, y=V2, color=class), na.rm=TRUE) +\n",
    "     scale_color_manual(values=PALETTE[2]) + theme.no_legend\n",
    "\n",
    "grid.arrange(p1, p2, p3, nrow=1)"
   ]
  },
  {
   "cell_type": "code",
   "execution_count": 20,
   "metadata": {},
   "outputs": [
    {
     "data": {
      "text/html": [
       "<table>\n",
       "<thead><tr><th scope=col>cost.legit_fraud</th><th scope=col>cost.fraud_legit</th><th scope=col>cost.fraud_fraud</th><th scope=col>cost.legit_legit</th><th scope=col>cost</th></tr></thead>\n",
       "<tbody>\n",
       "\t<tr><td>48395.68</td><td>3981434 </td><td>960     </td><td>0       </td><td>4030790 </td></tr>\n",
       "</tbody>\n",
       "</table>\n"
      ],
      "text/latex": [
       "\\begin{tabular}{r|lllll}\n",
       " cost.legit\\_fraud & cost.fraud\\_legit & cost.fraud\\_fraud & cost.legit\\_legit & cost\\\\\n",
       "\\hline\n",
       "\t 48395.68 & 3981434  & 960      & 0        & 4030790 \\\\\n",
       "\\end{tabular}\n"
      ],
      "text/markdown": [
       "\n",
       "| cost.legit_fraud | cost.fraud_legit | cost.fraud_fraud | cost.legit_legit | cost |\n",
       "|---|---|---|---|---|\n",
       "| 48395.68 | 3981434  | 960      | 0        | 4030790  |\n",
       "\n"
      ],
      "text/plain": [
       "  cost.legit_fraud cost.fraud_legit cost.fraud_fraud cost.legit_legit cost   \n",
       "1 48395.68         3981434          960              0                4030790"
      ]
     },
     "metadata": {},
     "output_type": "display_data"
    }
   ],
   "source": [
    "cost.legit_fraud = cm[2,1]/sum(cm[,1]) * length(which(data$class==\"fraud\")) * charge\n",
    "cost.fraud_legit = cm[1,2]/sum(cm[,2]) * length(which(data$class==\"legit\")) * (dissatisfaction_penalty + intervention)\n",
    "cost.fraud_fraud = cm[1,1]/sum(cm[,1]) * length(which(data$class==\"fraud\")) * intervention\n",
    "cost.legit_legit = 0\n",
    "cost.svm = cost.legit_fraud + cost.fraud_legit + cost.fraud_fraud + cost.legit_legit\n",
    "\n",
    "data.frame(cost.legit_fraud, cost.fraud_legit, cost.fraud_fraud, cost.legit_legit, cost=cost.svm)"
   ]
  },
  {
   "cell_type": "markdown",
   "metadata": {},
   "source": [
    "## Predict Fraud by Neural Network"
   ]
  },
  {
   "cell_type": "code",
   "execution_count": 21,
   "metadata": {},
   "outputs": [
    {
     "data": {
      "image/png": "[encoded data removed]",
      "text/plain": [
       "plot without title"
      ]
     },
     "metadata": {
      "image/png": {
       "height": 360,
       "width": 300
      },
      "text/plain": {
       "height": 360,
       "width": 300
      }
     },
     "output_type": "display_data"
    }
   ],
   "source": [
    "set.seed(0)\n",
    "model = neuralnet(class.bin ~ V1+V2, data.train, hidden=2, act.fct=\"logistic\", rep=1, linear.output=FALSE)\n",
    "cutoff = 0.5\n",
    "\n",
    "grid = data.frame(expand.grid(seq(-50,5,0.5), seq(-50,25,0.5))); names(grid) = c(\"V1\",\"V2\")\n",
    "output = compute(model, grid, rep=1)$net.result\n",
    "class.predicted = as.class(data.frame(fraud=output, legit=1-output), class=\"fraud\", cutoff)\n",
    "\n",
    "output_size(2.5,3)\n",
    "ggplot(grid) + ggtitle(\"Neural Network\", sprintf(\"class ~ V1+V2 @ cutoff=%0.2f\", cutoff)) +\n",
    "geom_tile(aes(x=V1, y=V2, fill=class.predicted), alpha=0.3) +\n",
    "scale_fill_manual(values=PALETTE[c(2,1)]) + theme.no_legend\n",
    "output_size(restore)"
   ]
  },
  {
   "cell_type": "code",
   "execution_count": 22,
   "metadata": {},
   "outputs": [
    {
     "data": {
      "text/html": [
       "<table><tr><td style=\"background-color:white; vertical-align:top; padding-right:40px;\"><table style=\"white-space: nowrap;\">\n",
       "<caption><center><font color=\"black\"><b>cm</b></font></center></caption>\n",
       " <thead>\n",
       "  <tr>\n",
       "   <th style=\"text-align:left;background-color: #FFFFFF !important;\">   </th>\n",
       "   <th style=\"text-align:right;background-color: #FFFFFF !important;\"> fraud </th>\n",
       "   <th style=\"text-align:right;background-color: #FFFFFF !important;\"> legit </th>\n",
       "  </tr>\n",
       " </thead>\n",
       "<tbody>\n",
       "  <tr>\n",
       "   <td style=\"text-align:left;font-weight: bold;\"> fraud </td>\n",
       "   <td style=\"text-align:right;\"> 0.0013623 </td>\n",
       "   <td style=\"text-align:right;\"> 0.0970626 </td>\n",
       "  </tr>\n",
       "  <tr>\n",
       "   <td style=\"text-align:left;font-weight: bold;\"> legit </td>\n",
       "   <td style=\"text-align:right;\"> 0.0003652 </td>\n",
       "   <td style=\"text-align:right;\"> 0.9012099 </td>\n",
       "  </tr>\n",
       "</tbody>\n",
       "</table></td><td style=\"background-color:white; vertical-align:top;\"><table style=\"white-space: nowrap;\">\n",
       "<caption><center><font color=\"black\"><b> </b></font></center></caption>\n",
       " <thead>\n",
       "  <tr>\n",
       "   <th style=\"text-align:right;background-color: #FFFFFF !important;\"> accuracy </th>\n",
       "   <th style=\"text-align:right;background-color: #FFFFFF !important;\"> fpr </th>\n",
       "   <th style=\"text-align:right;background-color: #FFFFFF !important;\"> fnr </th>\n",
       "  </tr>\n",
       " </thead>\n",
       "<tbody>\n",
       "  <tr>\n",
       "   <td style=\"text-align:right;\"> 0.9025723 </td>\n",
       "   <td style=\"text-align:right;\"> 0.0972305 </td>\n",
       "   <td style=\"text-align:right;\"> 0.2113821 </td>\n",
       "  </tr>\n",
       "</tbody>\n",
       "</table></td></tr></table>"
      ]
     },
     "metadata": {},
     "output_type": "display_data"
    }
   ],
   "source": [
    "output = compute(model, data.test, rep=1)$net.result\n",
    "prob = data.frame(fraud=output, legit=1-output)\n",
    "class.predicted = as.class(prob, class=\"fraud\", cutoff)\n",
    "CM = confusionMatrix(class.predicted, data.test$class)$table\n",
    "cm = CM/sum(CM)\n",
    "accuracy.nn = cm[1,1]+cm[2,2]\n",
    "fpr.nn = cm[1,2]/sum(cm[,2]) # predicted fraud, but actually legit\n",
    "fnr.nn = cm[2,1]/sum(cm[,1]) # predicted legit, but actually fraud\n",
    "\n",
    "layout(fmt.cm(cm), fmt(data.frame(accuracy=accuracy.nn, fpr=fpr.nn, fnr=fnr.nn), title=\"\"))"
   ]
  },
  {
   "cell_type": "code",
   "execution_count": 23,
   "metadata": {},
   "outputs": [
    {
     "data": {
      "image/png": "[encoded data removed]",
      "text/plain": [
       "plot without title"
      ]
     },
     "metadata": {
      "image/png": {
       "height": 360,
       "width": 840
      },
      "text/plain": {
       "height": 360,
       "width": 840
      }
     },
     "output_type": "display_data"
    }
   ],
   "source": [
    "p1 = ggplot(data.test[data.test$class==class.predicted,]) +\n",
    "     ggtitle(\"Correct\\nPredictions\") + xlim(-50,5) + ylim(-50,25) +\n",
    "     geom_point(aes(x=V1, y=V2, color=class), na.rm=TRUE) +\n",
    "     scale_color_manual(values=PALETTE[c(2,1)]) + theme.no_legend\n",
    "\n",
    "p2 = ggplot(data.test[data.test$class==\"legit\" & class.predicted==\"fraud\",]) +\n",
    "     ggtitle(\"Legitimate Transactions\\nPredicted as Fraudulent\") + xlim(-50,5) + ylim(-50,25) +\n",
    "     geom_point(aes(x=V1, y=V2, color=class), na.rm=TRUE) +\n",
    "     scale_color_manual(values=PALETTE[1]) + theme.no_legend\n",
    "\n",
    "p3 = ggplot(data.test[data.test$class==\"fraud\" & class.predicted==\"legit\",]) +\n",
    "     ggtitle(\"Fraudulent Transactions\\nPredicted as Legitimate\") + xlim(-50,5) + ylim(-50,25) +\n",
    "     geom_point(aes(x=V1, y=V2, color=class), na.rm=TRUE) +\n",
    "     scale_color_manual(values=PALETTE[2]) + theme.no_legend\n",
    "\n",
    "grid.arrange(p1, p2, p3, nrow=1)"
   ]
  },
  {
   "cell_type": "code",
   "execution_count": 24,
   "metadata": {},
   "outputs": [
    {
     "data": {
      "text/html": [
       "<table>\n",
       "<thead><tr><th scope=col>cost.legit_fraud</th><th scope=col>cost.fraud_legit</th><th scope=col>cost.fraud_fraud</th><th scope=col>cost.legit_legit</th><th scope=col>cost</th></tr></thead>\n",
       "<tbody>\n",
       "\t<tr><td>12709.98</td><td>27920538</td><td>3880    </td><td>0       </td><td>27937128</td></tr>\n",
       "</tbody>\n",
       "</table>\n"
      ],
      "text/latex": [
       "\\begin{tabular}{r|lllll}\n",
       " cost.legit\\_fraud & cost.fraud\\_legit & cost.fraud\\_fraud & cost.legit\\_legit & cost\\\\\n",
       "\\hline\n",
       "\t 12709.98 & 27920538 & 3880     & 0        & 27937128\\\\\n",
       "\\end{tabular}\n"
      ],
      "text/markdown": [
       "\n",
       "| cost.legit_fraud | cost.fraud_legit | cost.fraud_fraud | cost.legit_legit | cost |\n",
       "|---|---|---|---|---|\n",
       "| 12709.98 | 27920538 | 3880     | 0        | 27937128 |\n",
       "\n"
      ],
      "text/plain": [
       "  cost.legit_fraud cost.fraud_legit cost.fraud_fraud cost.legit_legit cost    \n",
       "1 12709.98         27920538         3880             0                27937128"
      ]
     },
     "metadata": {},
     "output_type": "display_data"
    }
   ],
   "source": [
    "cost.legit_fraud = cm[2,1]/sum(cm[,1]) * length(which(data$class==\"fraud\")) * charge\n",
    "cost.fraud_legit = cm[1,2]/sum(cm[,2]) * length(which(data$class==\"legit\")) * (dissatisfaction_penalty + intervention)\n",
    "cost.fraud_fraud = cm[1,1]/sum(cm[,1]) * length(which(data$class==\"fraud\")) * intervention\n",
    "cost.legit_legit = 0\n",
    "cost.nn = cost.legit_fraud + cost.fraud_legit + cost.fraud_fraud + cost.legit_legit\n",
    "\n",
    "data.frame(cost.legit_fraud, cost.fraud_legit, cost.fraud_fraud, cost.legit_legit, cost=cost.nn)"
   ]
  },
  {
   "cell_type": "markdown",
   "metadata": {},
   "source": [
    "## Predict Fraud by Logistic Regression"
   ]
  },
  {
   "cell_type": "code",
   "execution_count": 25,
   "metadata": {},
   "outputs": [
    {
     "data": {
      "image/png": "[encoded data removed]",
      "text/plain": [
       "plot without title"
      ]
     },
     "metadata": {
      "image/png": {
       "height": 360,
       "width": 300
      },
      "text/plain": {
       "height": 360,
       "width": 300
      }
     },
     "output_type": "display_data"
    }
   ],
   "source": [
    "model = glm(class.bin ~ V1+V2, binomial(link=\"logit\"), data.train)\n",
    "cutoff = 0.5\n",
    "\n",
    "grid = data.frame(expand.grid(seq(-50,5,0.5), seq(-50,25,0.5))); names(grid) = c(\"V1\",\"V2\")\n",
    "output = predict(model, grid, type=\"response\")\n",
    "class.predicted = as.class(data.frame(fraud=output, legit=1-output), class=\"fraud\", cutoff)\n",
    "\n",
    "output_size(2.5,3)\n",
    "ggplot(grid) + ggtitle(\"Logistic Regression\", sprintf(\"class ~ V1+V2 @ cutoff=%0.2f\", cutoff)) +\n",
    "geom_tile(aes(x=V1, y=V2, fill=class.predicted), alpha=0.3) +\n",
    "scale_fill_manual(values=PALETTE[c(2,1)]) + theme.no_legend\n",
    "output_size(restore)"
   ]
  },
  {
   "cell_type": "code",
   "execution_count": 26,
   "metadata": {},
   "outputs": [
    {
     "data": {
      "text/html": [
       "<table><tr><td style=\"background-color:white; vertical-align:top; padding-right:40px;\"><table style=\"white-space: nowrap;\">\n",
       "<caption><center><font color=\"black\"><b>cm</b></font></center></caption>\n",
       " <thead>\n",
       "  <tr>\n",
       "   <th style=\"text-align:left;background-color: #FFFFFF !important;\">   </th>\n",
       "   <th style=\"text-align:right;background-color: #FFFFFF !important;\"> fraud </th>\n",
       "   <th style=\"text-align:right;background-color: #FFFFFF !important;\"> legit </th>\n",
       "  </tr>\n",
       " </thead>\n",
       "<tbody>\n",
       "  <tr>\n",
       "   <td style=\"text-align:left;font-weight: bold;\"> fraud </td>\n",
       "   <td style=\"text-align:right;\"> 0.0011446 </td>\n",
       "   <td style=\"text-align:right;\"> 0.0967044 </td>\n",
       "  </tr>\n",
       "  <tr>\n",
       "   <td style=\"text-align:left;font-weight: bold;\"> legit </td>\n",
       "   <td style=\"text-align:right;\"> 0.0005829 </td>\n",
       "   <td style=\"text-align:right;\"> 0.9015681 </td>\n",
       "  </tr>\n",
       "</tbody>\n",
       "</table></td><td style=\"background-color:white; vertical-align:top;\"><table style=\"white-space: nowrap;\">\n",
       "<caption><center><font color=\"black\"><b> </b></font></center></caption>\n",
       " <thead>\n",
       "  <tr>\n",
       "   <th style=\"text-align:right;background-color: #FFFFFF !important;\"> accuracy </th>\n",
       "   <th style=\"text-align:right;background-color: #FFFFFF !important;\"> fpr </th>\n",
       "   <th style=\"text-align:right;background-color: #FFFFFF !important;\"> fnr </th>\n",
       "  </tr>\n",
       " </thead>\n",
       "<tbody>\n",
       "  <tr>\n",
       "   <td style=\"text-align:right;\"> 0.9027127 </td>\n",
       "   <td style=\"text-align:right;\"> 0.0968718 </td>\n",
       "   <td style=\"text-align:right;\"> 0.3373984 </td>\n",
       "  </tr>\n",
       "</tbody>\n",
       "</table></td></tr></table>"
      ]
     },
     "metadata": {},
     "output_type": "display_data"
    }
   ],
   "source": [
    "output = predict(model, data.test, type=\"response\")\n",
    "prob = data.frame(\"fraud\"=output, \"legit\"=1-output)\n",
    "class.predicted = as.class(prob, class=\"fraud\", cutoff)\n",
    "CM = confusionMatrix(class.predicted, data.test$class)$table\n",
    "cm = CM/sum(CM)\n",
    "accuracy.lr = cm[1,1]+cm[2,2]\n",
    "fpr.lr = cm[1,2]/sum(cm[,2]) # predicted fraud, but actually legit\n",
    "fnr.lr = cm[2,1]/sum(cm[,1]) # predicted legit, but actually fraud\n",
    "\n",
    "layout(fmt.cm(cm), fmt(data.frame(accuracy=accuracy.lr, fpr=fpr.lr, fnr=fnr.lr), title=\"\"))"
   ]
  },
  {
   "cell_type": "code",
   "execution_count": 27,
   "metadata": {},
   "outputs": [
    {
     "data": {
      "image/png": "[encoded data removed]",
      "text/plain": [
       "plot without title"
      ]
     },
     "metadata": {
      "image/png": {
       "height": 360,
       "width": 840
      },
      "text/plain": {
       "height": 360,
       "width": 840
      }
     },
     "output_type": "display_data"
    }
   ],
   "source": [
    "p1 = ggplot(data.test[data.test$class==class.predicted,]) +\n",
    "     ggtitle(\"Correct\\nPredictions\") + xlim(-50,5) + ylim(-50,25) +\n",
    "     geom_point(aes(x=V1, y=V2, color=class), na.rm=TRUE) +\n",
    "     scale_color_manual(values=PALETTE[c(2,1)]) + theme.no_legend\n",
    "\n",
    "p2 = ggplot(data.test[data.test$class==\"legit\" & class.predicted==\"fraud\",]) +\n",
    "     ggtitle(\"Legitimate Transactions\\nPredicted as Fraudulent\") + xlim(-50,5) + ylim(-50,25) +\n",
    "     geom_point(aes(x=V1, y=V2, color=class), na.rm=TRUE) +\n",
    "     scale_color_manual(values=PALETTE[1]) + theme.no_legend\n",
    "\n",
    "p3 = ggplot(data.test[data.test$class==\"fraud\" & class.predicted==\"legit\",]) +\n",
    "     ggtitle(\"Fraudulent Transactions\\nPredicted as Legitimate\") + xlim(-50,5) + ylim(-50,25) +\n",
    "     geom_point(aes(x=V1, y=V2, color=class), na.rm=TRUE) +\n",
    "     scale_color_manual(values=PALETTE[2]) + theme.no_legend\n",
    "\n",
    "grid.arrange(p1, p2, p3, nrow=1)"
   ]
  },
  {
   "cell_type": "code",
   "execution_count": 28,
   "metadata": {},
   "outputs": [
    {
     "data": {
      "text/html": [
       "<table>\n",
       "<thead><tr><th scope=col>cost.legit_fraud</th><th scope=col>cost.fraud_legit</th><th scope=col>cost.fraud_fraud</th><th scope=col>cost.legit_legit</th><th scope=col>cost</th></tr></thead>\n",
       "<tbody>\n",
       "\t<tr><td>20287.08</td><td>27817518</td><td>3260    </td><td>0       </td><td>27841065</td></tr>\n",
       "</tbody>\n",
       "</table>\n"
      ],
      "text/latex": [
       "\\begin{tabular}{r|lllll}\n",
       " cost.legit\\_fraud & cost.fraud\\_legit & cost.fraud\\_fraud & cost.legit\\_legit & cost\\\\\n",
       "\\hline\n",
       "\t 20287.08 & 27817518 & 3260     & 0        & 27841065\\\\\n",
       "\\end{tabular}\n"
      ],
      "text/markdown": [
       "\n",
       "| cost.legit_fraud | cost.fraud_legit | cost.fraud_fraud | cost.legit_legit | cost |\n",
       "|---|---|---|---|---|\n",
       "| 20287.08 | 27817518 | 3260     | 0        | 27841065 |\n",
       "\n"
      ],
      "text/plain": [
       "  cost.legit_fraud cost.fraud_legit cost.fraud_fraud cost.legit_legit cost    \n",
       "1 20287.08         27817518         3260             0                27841065"
      ]
     },
     "metadata": {},
     "output_type": "display_data"
    }
   ],
   "source": [
    "cost.legit_fraud = cm[2,1]/sum(cm[,1]) * length(which(data$class==\"fraud\")) * charge\n",
    "cost.fraud_legit = cm[1,2]/sum(cm[,2]) * length(which(data$class==\"legit\")) * (dissatisfaction_penalty + intervention)\n",
    "cost.fraud_fraud = cm[1,1]/sum(cm[,1]) * length(which(data$class==\"fraud\")) * intervention\n",
    "cost.legit_legit = 0\n",
    "cost.lr = cost.legit_fraud + cost.fraud_legit + cost.fraud_fraud + cost.legit_legit\n",
    "\n",
    "data.frame(cost.legit_fraud, cost.fraud_legit, cost.fraud_fraud, cost.legit_legit, cost=cost.lr)"
   ]
  },
  {
   "cell_type": "markdown",
   "metadata": {},
   "source": [
    "## Predict Fraud by Decision Tree"
   ]
  },
  {
   "cell_type": "code",
   "execution_count": 29,
   "metadata": {},
   "outputs": [
    {
     "data": {
      "image/png": "[encoded data removed]",
      "text/plain": [
       "plot without title"
      ]
     },
     "metadata": {
      "image/png": {
       "height": 360,
       "width": 300
      },
      "text/plain": {
       "height": 360,
       "width": 300
      }
     },
     "output_type": "display_data"
    }
   ],
   "source": [
    "model = rpart(class ~ V1+V2, data.train, method=\"class\", control=list(cp=0.001, minsplit=1, minbucket=1))\n",
    "cutoff = 0.5\n",
    "\n",
    "grid = data.frame(expand.grid(seq(-50,5,0.5), seq(-50,25,0.5))); names(grid) = c(\"V1\",\"V2\")\n",
    "class.predicted = as.class(predict(model, grid, type=\"prob\"), class=\"fraud\", cutoff)\n",
    "\n",
    "output_size(2.5,3)\n",
    "ggplot(grid) + ggtitle(\"Decision Tree\", sprintf(\"class ~ V1+V2 @ cutoff=%0.2f\", cutoff)) +\n",
    "geom_tile(aes(x=V1, y=V2, fill=class.predicted), alpha=0.3) +\n",
    "scale_fill_manual(values=PALETTE[c(2,1)]) + theme.no_legend\n",
    "output_size(restore)"
   ]
  },
  {
   "cell_type": "code",
   "execution_count": 30,
   "metadata": {},
   "outputs": [
    {
     "data": {
      "text/html": [
       "<table><tr><td style=\"background-color:white; vertical-align:top; padding-right:40px;\"><table style=\"white-space: nowrap;\">\n",
       "<caption><center><font color=\"black\"><b>cm</b></font></center></caption>\n",
       " <thead>\n",
       "  <tr>\n",
       "   <th style=\"text-align:left;background-color: #FFFFFF !important;\">   </th>\n",
       "   <th style=\"text-align:right;background-color: #FFFFFF !important;\"> fraud </th>\n",
       "   <th style=\"text-align:right;background-color: #FFFFFF !important;\"> legit </th>\n",
       "  </tr>\n",
       " </thead>\n",
       "<tbody>\n",
       "  <tr>\n",
       "   <td style=\"text-align:left;font-weight: bold;\"> fraud </td>\n",
       "   <td style=\"text-align:right;\"> 0.0013764 </td>\n",
       "   <td style=\"text-align:right;\"> 0.1795959 </td>\n",
       "  </tr>\n",
       "  <tr>\n",
       "   <td style=\"text-align:left;font-weight: bold;\"> legit </td>\n",
       "   <td style=\"text-align:right;\"> 0.0003511 </td>\n",
       "   <td style=\"text-align:right;\"> 0.8186766 </td>\n",
       "  </tr>\n",
       "</tbody>\n",
       "</table></td><td style=\"background-color:white; vertical-align:top;\"><table style=\"white-space: nowrap;\">\n",
       "<caption><center><font color=\"black\"><b> </b></font></center></caption>\n",
       " <thead>\n",
       "  <tr>\n",
       "   <th style=\"text-align:right;background-color: #FFFFFF !important;\"> accuracy </th>\n",
       "   <th style=\"text-align:right;background-color: #FFFFFF !important;\"> fpr </th>\n",
       "   <th style=\"text-align:right;background-color: #FFFFFF !important;\"> fnr </th>\n",
       "  </tr>\n",
       " </thead>\n",
       "<tbody>\n",
       "  <tr>\n",
       "   <td style=\"text-align:right;\"> 0.8200529 </td>\n",
       "   <td style=\"text-align:right;\"> 0.1799067 </td>\n",
       "   <td style=\"text-align:right;\"> 0.203252 </td>\n",
       "  </tr>\n",
       "</tbody>\n",
       "</table></td></tr></table>"
      ]
     },
     "metadata": {},
     "output_type": "display_data"
    }
   ],
   "source": [
    "prob = predict(model, data.test, type=\"prob\")\n",
    "class.predicted = as.class(prob, class=\"fraud\", cutoff)\n",
    "CM = confusionMatrix(class.predicted, data.test$class)$table\n",
    "cm = CM/sum(CM)\n",
    "accuracy.dt = cm[1,1]+cm[2,2]\n",
    "fpr.dt = cm[1,2]/sum(cm[,2]) # predicted fraud, but actually legit\n",
    "fnr.dt = cm[2,1]/sum(cm[,1]) # predicted legit, but actually fraud\n",
    "\n",
    "layout(fmt.cm(cm), fmt(data.frame(accuracy=accuracy.dt, fpr=fpr.dt, fnr=fnr.dt), title=\"\"))"
   ]
  },
  {
   "cell_type": "code",
   "execution_count": 31,
   "metadata": {},
   "outputs": [
    {
     "data": {
      "image/png": "[encoded data removed]",
      "text/plain": [
       "plot without title"
      ]
     },
     "metadata": {
      "image/png": {
       "height": 360,
       "width": 840
      },
      "text/plain": {
       "height": 360,
       "width": 840
      }
     },
     "output_type": "display_data"
    }
   ],
   "source": [
    "p1 = ggplot(data.test[data.test$class==class.predicted,]) +\n",
    "     ggtitle(\"Correct\\nPredictions\") + xlim(-50,5) + ylim(-50,25) +\n",
    "     geom_point(aes(x=V1, y=V2, color=class), na.rm=TRUE) +\n",
    "     scale_color_manual(values=PALETTE[c(2,1)]) + theme.no_legend\n",
    "\n",
    "p2 = ggplot(data.test[data.test$class==\"legit\" & class.predicted==\"fraud\",]) +\n",
    "     ggtitle(\"Legitimate Transactions\\nPredicted as Fraudulent\") + xlim(-50,5) + ylim(-50,25) +\n",
    "     geom_point(aes(x=V1, y=V2, color=class), na.rm=TRUE) +\n",
    "     scale_color_manual(values=PALETTE[1]) + theme.no_legend\n",
    "\n",
    "p3 = ggplot(data.test[data.test$class==\"fraud\" & class.predicted==\"legit\",]) +\n",
    "     ggtitle(\"Fraudulent Transactions\\nPredicted as Legitimate\") + xlim(-50,5) + ylim(-50,25) +\n",
    "     geom_point(aes(x=V1, y=V2, color=class), na.rm=TRUE) +\n",
    "     scale_color_manual(values=PALETTE[2]) + theme.no_legend\n",
    "\n",
    "grid.arrange(p1, p2, p3, nrow=1)"
   ]
  },
  {
   "cell_type": "code",
   "execution_count": 32,
   "metadata": {},
   "outputs": [
    {
     "data": {
      "text/html": [
       "<table>\n",
       "<thead><tr><th scope=col>cost.legit_fraud</th><th scope=col>cost.fraud_legit</th><th scope=col>cost.fraud_fraud</th><th scope=col>cost.legit_legit</th><th scope=col>cost</th></tr></thead>\n",
       "<tbody>\n",
       "\t<tr><td>12221.13</td><td>51661682</td><td>3920    </td><td>0       </td><td>51677823</td></tr>\n",
       "</tbody>\n",
       "</table>\n"
      ],
      "text/latex": [
       "\\begin{tabular}{r|lllll}\n",
       " cost.legit\\_fraud & cost.fraud\\_legit & cost.fraud\\_fraud & cost.legit\\_legit & cost\\\\\n",
       "\\hline\n",
       "\t 12221.13 & 51661682 & 3920     & 0        & 51677823\\\\\n",
       "\\end{tabular}\n"
      ],
      "text/markdown": [
       "\n",
       "| cost.legit_fraud | cost.fraud_legit | cost.fraud_fraud | cost.legit_legit | cost |\n",
       "|---|---|---|---|---|\n",
       "| 12221.13 | 51661682 | 3920     | 0        | 51677823 |\n",
       "\n"
      ],
      "text/plain": [
       "  cost.legit_fraud cost.fraud_legit cost.fraud_fraud cost.legit_legit cost    \n",
       "1 12221.13         51661682         3920             0                51677823"
      ]
     },
     "metadata": {},
     "output_type": "display_data"
    }
   ],
   "source": [
    "cost.legit_fraud = cm[2,1]/sum(cm[,1]) * length(which(data$class==\"fraud\")) * charge\n",
    "cost.fraud_legit = cm[1,2]/sum(cm[,2]) * length(which(data$class==\"legit\")) * (dissatisfaction_penalty + intervention)\n",
    "cost.fraud_fraud = cm[1,1]/sum(cm[,1]) * length(which(data$class==\"fraud\")) * intervention\n",
    "cost.legit_legit = 0\n",
    "cost.dt = cost.legit_fraud + cost.fraud_legit + cost.fraud_fraud + cost.legit_legit\n",
    "\n",
    "data.frame(cost.legit_fraud, cost.fraud_legit, cost.fraud_fraud, cost.legit_legit, cost=cost.dt)"
   ]
  },
  {
   "cell_type": "markdown",
   "metadata": {},
   "source": [
    "## Predict Fraud by k-Nearest Neighbors"
   ]
  },
  {
   "cell_type": "code",
   "execution_count": 33,
   "metadata": {},
   "outputs": [
    {
     "data": {
      "image/png": "[encoded data removed]",
      "text/plain": [
       "plot without title"
      ]
     },
     "metadata": {
      "image/png": {
       "height": 360,
       "width": 300
      },
      "text/plain": {
       "height": 360,
       "width": 300
      }
     },
     "output_type": "display_data"
    }
   ],
   "source": [
    "cutoff = 0.5\n",
    "\n",
    "grid = data.frame(expand.grid(seq(-50,5,0.5), seq(-50,25,0.5))); names(grid) = c(\"V1\",\"V2\")\n",
    "class.predicted = as.class(kknn(class ~ V1+V2, data.train, grid, k=7, scale=TRUE, kernel=\"rectangular\")$prob, class=\"fraud\", cutoff)\n",
    "\n",
    "output_size(2.5,3)\n",
    "ggplot(grid) + ggtitle(\"k Nearest Neighbors\", sprintf(\"class ~ V1+V2 @ cutoff=%0.2f\", cutoff)) +\n",
    "geom_tile(aes(x=V1, y=V2, fill=class.predicted), alpha=0.3) +\n",
    "scale_fill_manual(values=PALETTE[c(2,1)]) + theme.no_legend\n",
    "output_size(restore)"
   ]
  },
  {
   "cell_type": "code",
   "execution_count": 34,
   "metadata": {},
   "outputs": [
    {
     "data": {
      "text/html": [
       "<table><tr><td style=\"background-color:white; vertical-align:top; padding-right:40px;\"><table style=\"white-space: nowrap;\">\n",
       "<caption><center><font color=\"black\"><b>cm</b></font></center></caption>\n",
       " <thead>\n",
       "  <tr>\n",
       "   <th style=\"text-align:left;background-color: #FFFFFF !important;\">   </th>\n",
       "   <th style=\"text-align:right;background-color: #FFFFFF !important;\"> fraud </th>\n",
       "   <th style=\"text-align:right;background-color: #FFFFFF !important;\"> legit </th>\n",
       "  </tr>\n",
       " </thead>\n",
       "<tbody>\n",
       "  <tr>\n",
       "   <td style=\"text-align:left;font-weight: bold;\"> fraud </td>\n",
       "   <td style=\"text-align:right;\"> 0.0013694 </td>\n",
       "   <td style=\"text-align:right;\"> 0.1006861 </td>\n",
       "  </tr>\n",
       "  <tr>\n",
       "   <td style=\"text-align:left;font-weight: bold;\"> legit </td>\n",
       "   <td style=\"text-align:right;\"> 0.0003581 </td>\n",
       "   <td style=\"text-align:right;\"> 0.8975864 </td>\n",
       "  </tr>\n",
       "</tbody>\n",
       "</table></td><td style=\"background-color:white; vertical-align:top;\"><table style=\"white-space: nowrap;\">\n",
       "<caption><center><font color=\"black\"><b> </b></font></center></caption>\n",
       " <thead>\n",
       "  <tr>\n",
       "   <th style=\"text-align:right;background-color: #FFFFFF !important;\"> accuracy </th>\n",
       "   <th style=\"text-align:right;background-color: #FFFFFF !important;\"> fpr </th>\n",
       "   <th style=\"text-align:right;background-color: #FFFFFF !important;\"> fnr </th>\n",
       "  </tr>\n",
       " </thead>\n",
       "<tbody>\n",
       "  <tr>\n",
       "   <td style=\"text-align:right;\"> 0.8200529 </td>\n",
       "   <td style=\"text-align:right;\"> 0.1008603 </td>\n",
       "   <td style=\"text-align:right;\"> 0.2073171 </td>\n",
       "  </tr>\n",
       "</tbody>\n",
       "</table></td></tr></table>"
      ]
     },
     "metadata": {},
     "output_type": "display_data"
    }
   ],
   "source": [
    "prob = kknn(class ~ V1+V2, data.train, data.test, k=7, scale=TRUE, kernel=\"rectangular\")$prob\n",
    "class.predicted = as.class(prob, class=\"fraud\", cutoff)\n",
    "CM = confusionMatrix(class.predicted, data.test$class)$table\n",
    "cm = CM/sum(CM)\n",
    "accuracy.knn = cm[1,1]+cm[2,2]\n",
    "fpr.knn = cm[1,2]/sum(cm[,2]) # predicted fraud, but actually legit\n",
    "fnr.knn = cm[2,1]/sum(cm[,1]) # predicted legit, but actually fraud\n",
    "\n",
    "layout(fmt.cm(cm), fmt(data.frame(accuracy=accuracy.dt, fpr=fpr.knn, fnr=fnr.knn), title=\"\"))"
   ]
  },
  {
   "cell_type": "code",
   "execution_count": 35,
   "metadata": {},
   "outputs": [
    {
     "data": {
      "image/png": "[encoded data removed]",
      "text/plain": [
       "plot without title"
      ]
     },
     "metadata": {
      "image/png": {
       "height": 360,
       "width": 840
      },
      "text/plain": {
       "height": 360,
       "width": 840
      }
     },
     "output_type": "display_data"
    }
   ],
   "source": [
    "p1 = ggplot(data.test[data.test$class==class.predicted,]) +\n",
    "     ggtitle(\"Correct\\nPredictions\") + xlim(-50,5) + ylim(-50,25) +\n",
    "     geom_point(aes(x=V1, y=V2, color=class), na.rm=TRUE) +\n",
    "     scale_color_manual(values=PALETTE[c(2,1)]) + theme.no_legend\n",
    "\n",
    "p2 = ggplot(data.test[data.test$class==\"legit\" & class.predicted==\"fraud\",]) +\n",
    "     ggtitle(\"Legitimate Transactions\\nPredicted as Fraudulent\") + xlim(-50,5) + ylim(-50,25) +\n",
    "     geom_point(aes(x=V1, y=V2, color=class), na.rm=TRUE) +\n",
    "     scale_color_manual(values=PALETTE[1]) + theme.no_legend\n",
    "\n",
    "p3 = ggplot(data.test[data.test$class==\"fraud\" & class.predicted==\"legit\",]) +\n",
    "     ggtitle(\"Fraudulent Transactions\\nPredicted as Legitimate\") + xlim(-50,5) + ylim(-50,25) +\n",
    "     geom_point(aes(x=V1, y=V2, color=class), na.rm=TRUE) +\n",
    "     scale_color_manual(values=PALETTE[2]) + theme.no_legend\n",
    "\n",
    "grid.arrange(p1, p2, p3, nrow=1)"
   ]
  },
  {
   "cell_type": "code",
   "execution_count": 36,
   "metadata": {},
   "outputs": [
    {
     "data": {
      "text/html": [
       "<table>\n",
       "<thead><tr><th scope=col>cost.legit_fraud</th><th scope=col>cost.fraud_legit</th><th scope=col>cost.fraud_fraud</th><th scope=col>cost.legit_legit</th><th scope=col>cost</th></tr></thead>\n",
       "<tbody>\n",
       "\t<tr><td>12465.55</td><td>28962862</td><td>3900    </td><td>0       </td><td>28979227</td></tr>\n",
       "</tbody>\n",
       "</table>\n"
      ],
      "text/latex": [
       "\\begin{tabular}{r|lllll}\n",
       " cost.legit\\_fraud & cost.fraud\\_legit & cost.fraud\\_fraud & cost.legit\\_legit & cost\\\\\n",
       "\\hline\n",
       "\t 12465.55 & 28962862 & 3900     & 0        & 28979227\\\\\n",
       "\\end{tabular}\n"
      ],
      "text/markdown": [
       "\n",
       "| cost.legit_fraud | cost.fraud_legit | cost.fraud_fraud | cost.legit_legit | cost |\n",
       "|---|---|---|---|---|\n",
       "| 12465.55 | 28962862 | 3900     | 0        | 28979227 |\n",
       "\n"
      ],
      "text/plain": [
       "  cost.legit_fraud cost.fraud_legit cost.fraud_fraud cost.legit_legit cost    \n",
       "1 12465.55         28962862         3900             0                28979227"
      ]
     },
     "metadata": {},
     "output_type": "display_data"
    }
   ],
   "source": [
    "cost.legit_fraud = cm[2,1]/sum(cm[,1]) * length(which(data$class==\"fraud\")) * charge\n",
    "cost.fraud_legit = cm[1,2]/sum(cm[,2]) * length(which(data$class==\"legit\")) * (dissatisfaction_penalty + intervention)\n",
    "cost.fraud_fraud = cm[1,1]/sum(cm[,1]) * length(which(data$class==\"fraud\")) * intervention\n",
    "cost.legit_legit = 0\n",
    "cost.knn = cost.legit_fraud + cost.fraud_legit + cost.fraud_fraud + cost.legit_legit\n",
    "\n",
    "data.frame(cost.legit_fraud, cost.fraud_legit, cost.fraud_fraud, cost.legit_legit, cost=cost.knn)"
   ]
  },
  {
   "cell_type": "markdown",
   "metadata": {},
   "source": [
    "## Comparison of Methods\n",
    "\n",
    "Some metrics on which to base a comparison of methods:\n",
    "* accuracy: correct predictions / total\n",
    "* true positive rate (aka sensitivity): correct positive predictions / positive actuals\n",
    "* true negative rate (aka specificity): correct negative predictions / negative actuals\n",
    "* false positive rate: incorrect positive predictions / negative actuals\n",
    "* false negative rate: incorrect negative predictions / positive actuals\n",
    "* positive predictive value (aka precision): correct positive predictions / positive predictions\n",
    "* negative predictive value: correct negative predictions / negative predictions\n",
    "\n",
    "For our case, positive means fraudulent, negative means legitimate."
   ]
  },
  {
   "cell_type": "code",
   "execution_count": 37,
   "metadata": {
    "scrolled": true
   },
   "outputs": [
    {
     "data": {
      "text/html": [
       "<table>\n",
       "<thead><tr><th scope=col>method</th><th scope=col>cost</th><th scope=col>accuracy</th><th scope=col>false_positive_rate</th><th scope=col>false_negative_rate</th></tr></thead>\n",
       "<tbody>\n",
       "\t<tr><td>baseline           </td><td>   60127.97        </td><td>0.9982725          </td><td>0.00000000         </td><td>1.0000000          </td></tr>\n",
       "\t<tr><td>naive bayes        </td><td> 9977467.40        </td><td>0.9644390          </td><td>0.03461666         </td><td>0.5813008          </td></tr>\n",
       "\t<tr><td>svm                </td><td> 4030789.69        </td><td>0.9847686          </td><td>0.01386495         </td><td>0.8048780          </td></tr>\n",
       "\t<tr><td>neural network     </td><td>27937128.18        </td><td>0.9025723          </td><td>0.09723053         </td><td>0.2113821          </td></tr>\n",
       "\t<tr><td>logistic regression</td><td>27841064.92        </td><td>0.9027127          </td><td>0.09687177         </td><td>0.3373984          </td></tr>\n",
       "\t<tr><td>decision tree      </td><td>51677822.84        </td><td>0.8200529          </td><td>0.17990672         </td><td>0.2032520          </td></tr>\n",
       "\t<tr><td>knn                </td><td>28979227.42        </td><td>0.8989558          </td><td>0.10086032         </td><td>0.2073171          </td></tr>\n",
       "</tbody>\n",
       "</table>\n"
      ],
      "text/latex": [
       "\\begin{tabular}{r|lllll}\n",
       " method & cost & accuracy & false\\_positive\\_rate & false\\_negative\\_rate\\\\\n",
       "\\hline\n",
       "\t baseline            &    60127.97         & 0.9982725           & 0.00000000          & 1.0000000          \\\\\n",
       "\t naive bayes         &  9977467.40         & 0.9644390           & 0.03461666          & 0.5813008          \\\\\n",
       "\t svm                 &  4030789.69         & 0.9847686           & 0.01386495          & 0.8048780          \\\\\n",
       "\t neural network      & 27937128.18         & 0.9025723           & 0.09723053          & 0.2113821          \\\\\n",
       "\t logistic regression & 27841064.92         & 0.9027127           & 0.09687177          & 0.3373984          \\\\\n",
       "\t decision tree       & 51677822.84         & 0.8200529           & 0.17990672          & 0.2032520          \\\\\n",
       "\t knn                 & 28979227.42         & 0.8989558           & 0.10086032          & 0.2073171          \\\\\n",
       "\\end{tabular}\n"
      ],
      "text/markdown": [
       "\n",
       "| method | cost | accuracy | false_positive_rate | false_negative_rate |\n",
       "|---|---|---|---|---|\n",
       "| baseline            |    60127.97         | 0.9982725           | 0.00000000          | 1.0000000           |\n",
       "| naive bayes         |  9977467.40         | 0.9644390           | 0.03461666          | 0.5813008           |\n",
       "| svm                 |  4030789.69         | 0.9847686           | 0.01386495          | 0.8048780           |\n",
       "| neural network      | 27937128.18         | 0.9025723           | 0.09723053          | 0.2113821           |\n",
       "| logistic regression | 27841064.92         | 0.9027127           | 0.09687177          | 0.3373984           |\n",
       "| decision tree       | 51677822.84         | 0.8200529           | 0.17990672          | 0.2032520           |\n",
       "| knn                 | 28979227.42         | 0.8989558           | 0.10086032          | 0.2073171           |\n",
       "\n"
      ],
      "text/plain": [
       "  method              cost        accuracy  false_positive_rate\n",
       "1 baseline               60127.97 0.9982725 0.00000000         \n",
       "2 naive bayes          9977467.40 0.9644390 0.03461666         \n",
       "3 svm                  4030789.69 0.9847686 0.01386495         \n",
       "4 neural network      27937128.18 0.9025723 0.09723053         \n",
       "5 logistic regression 27841064.92 0.9027127 0.09687177         \n",
       "6 decision tree       51677822.84 0.8200529 0.17990672         \n",
       "7 knn                 28979227.42 0.8989558 0.10086032         \n",
       "  false_negative_rate\n",
       "1 1.0000000          \n",
       "2 0.5813008          \n",
       "3 0.8048780          \n",
       "4 0.2113821          \n",
       "5 0.3373984          \n",
       "6 0.2032520          \n",
       "7 0.2073171          "
      ]
     },
     "metadata": {},
     "output_type": "display_data"
    }
   ],
   "source": [
    "methods = c(\"baseline\", \"naive bayes\", \"svm\", \"neural network\", \"logistic regression\", \"decision tree\", \"knn\")\n",
    "\n",
    "results = data.frame(method=factor(methods, levels=methods),\n",
    "                     cost=c(cost.base, cost.nb, cost.svm, cost.nn, cost.lr, cost.dt, cost.knn),\n",
    "                     accuracy=c(accuracy.base, accuracy.nb, accuracy.svm, accuracy.nn, accuracy.lr, accuracy.dt, accuracy.knn),\n",
    "                     false_positive_rate=c(fpr.base, fpr.nb, fpr.svm, fpr.nn, fpr.lr, fpr.dt, fpr.knn),\n",
    "                     false_negative_rate=c(fnr.base, fnr.nb, fnr.svm, fnr.nn, fnr.lr, fnr.dt, fnr.knn))\n",
    "results"
   ]
  },
  {
   "cell_type": "code",
   "execution_count": 38,
   "metadata": {},
   "outputs": [
    {
     "data": {
      "image/png": "[encoded data removed]",
      "text/plain": [
       "plot without title"
      ]
     },
     "metadata": {
      "image/png": {
       "height": 360,
       "width": 840
      },
      "text/plain": {
       "height": 360,
       "width": 840
      }
     },
     "output_type": "display_data"
    }
   ],
   "source": [
    "results$Cost = results$cost/max(results$cost)\n",
    "\n",
    "ggplot(melt(results[,-2], id.vars=\"method\")) + xlab(NULL) + ylab(NULL) +\n",
    "geom_col(aes(x=method, y=value, group=variable, fill=method, alpha=variable), lwd=0.01, color=\"grey70\", position=\"dodge\") + \n",
    "scale_alpha_manual(values=c(0.4,0.6,0.8,1.0)) +\n",
    "scale_y_continuous(sec.axis = sec_axis(~.*max(results$cost), name=\"$\")) +\n",
    "guides(fill=FALSE)"
   ]
  },
  {
   "cell_type": "code",
   "execution_count": 39,
   "metadata": {},
   "outputs": [
    {
     "data": {
      "image/png": "[encoded data removed]",
      "text/plain": [
       "plot without title"
      ]
     },
     "metadata": {
      "image/png": {
       "height": 360,
       "width": 840
      },
      "text/plain": {
       "height": 360,
       "width": 840
      }
     },
     "output_type": "display_data"
    }
   ],
   "source": [
    "results$Cost = results$cost/max(results$cost)\n",
    "\n",
    "ggplot(melt(results[,-2], id.vars=\"method\")) + xlab(NULL) + ylab(NULL) +\n",
    "geom_col(aes(x=variable, y=value, group=method, fill=method), position=\"dodge\", alpha=0.5) + \n",
    "geom_line(aes(x=variable, y=value, group=method, color=method)) + \n",
    "scale_y_continuous(sec.axis = sec_axis(~.*max(results$cost), name=\"$\"))"
   ]
  },
  {
   "cell_type": "code",
   "execution_count": 40,
   "metadata": {
    "scrolled": false
   },
   "outputs": [
    {
     "data": {
      "image/png": "[encoded data removed]",
      "text/plain": [
       "plot without title"
      ]
     },
     "metadata": {
      "image/png": {
       "height": 360,
       "width": 840
      },
      "text/plain": {
       "height": 360,
       "width": 840
      }
     },
     "output_type": "display_data"
    }
   ],
   "source": [
    "ggplot(results) + geom_col(aes(x=method, y=cost, fill=method)) + theme.no_legend"
   ]
  },
  {
   "cell_type": "markdown",
   "metadata": {},
   "source": [
    "## Discussion\n",
    "\n",
    "* How do the patterns of incorrect predictions vary across methods?\n",
    "* How could you improve the decision model?\n",
    "* How sensitive are the results to the business parameters (assumptions)?\n",
    "* How sensitive are the results to the choice of training data?\n",
    "* How sensitive are the results to the choice of hyper-parameters?\n",
    "* How sensitive are the results to the choice of evaluation method?\n",
    "* How sensitive are the results to the class prior probabilities (i.e., the rate of fraudulent transactions)?"
   ]
  },
  {
   "cell_type": "markdown",
   "metadata": {},
   "source": [
    "<font size=1;>\n",
    "<p style=\"text-align: left;\">\n",
    "Copyright (c) Berkeley Data Analytics Group, LLC\n",
    "<span style=\"float: right;\">\n",
    "Document revised January 5, 2021\n",
    "</span>\n",
    "</p>\n",
    "</font>"
   ]
  }
 ],
 "metadata": {
  "hide_code_all_hidden": false,
  "hide_input": false,
  "kernelspec": {
   "display_name": "R",
   "language": "R",
   "name": "ir"
  },
  "language_info": {
   "codemirror_mode": "r",
   "file_extension": ".r",
   "mimetype": "text/x-r-source",
   "name": "R",
   "pygments_lexer": "r",
   "version": "3.6.1"
  },
  "toc": {
   "base_numbering": 1,
   "nav_menu": {},
   "number_sections": true,
   "sideBar": true,
   "skip_h1_title": true,
   "title_cell": "Table of Contents",
   "title_sidebar": "Contents",
   "toc_cell": false,
   "toc_position": {},
   "toc_section_display": true,
   "toc_window_display": false
  }
 },
 "nbformat": 4,
 "nbformat_minor": 2
}
