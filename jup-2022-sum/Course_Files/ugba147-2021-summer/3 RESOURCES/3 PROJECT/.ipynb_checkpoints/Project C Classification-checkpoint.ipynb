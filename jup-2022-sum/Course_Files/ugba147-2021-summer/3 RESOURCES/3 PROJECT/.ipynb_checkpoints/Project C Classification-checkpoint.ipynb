{
 "cells": [
  {
   "cell_type": "markdown",
   "metadata": {
    "hideCode": false,
    "hidePrompt": false
   },
   "source": [
    "# Project Part C: Classification\n",
    "\n",
    "![](banner_project.jpg)"
   ]
  },
  {
   "cell_type": "code",
   "execution_count": 1,
   "metadata": {},
   "outputs": [],
   "source": [
    "analyst = \"Firstname Lastname\" # Replace this with your name"
   ]
  },
  {
   "cell_type": "code",
   "execution_count": 2,
   "metadata": {
    "hide_input": false
   },
   "outputs": [
    {
     "data": {
      "text/html": [
       "<p style=\"text-align:center; font-size:10px;\">\n",
       ".................................................... start of document ....................................................\n",
       "</p>"
      ]
     },
     "metadata": {},
     "output_type": "display_data"
    }
   ],
   "source": [
    "f = \"setup.R\"; for (i in 1:10) { if (file.exists(f)) break else f = paste0(\"../\", f) }; source(f)\n",
    "options(repr.matrix.max.rows=674)\n",
    "options(repr.matrix.max.cols=200)\n",
    "update_geom_defaults(\"point\", list(size=1))                                "
   ]
  },
  {
   "cell_type": "markdown",
   "metadata": {},
   "source": [
    "## Directions"
   ]
  },
  {
   "cell_type": "markdown",
   "metadata": {},
   "source": [
    "### Objective\n",
    "\n",
    "Construct and evaluate a classifier trained on a transformed dataset about public company fundamentals.  Later, use the classifier along with additional analysis to recommend a portfolio of 12 company investments that maximizes 12-month return of an overall \\$1,000,000 investment."
   ]
  },
  {
   "cell_type": "markdown",
   "metadata": {},
   "source": [
    "### Approach\n",
    "\n",
    "Retrieve a transformed dataset.\n",
    "\n",
    "Construct a model to predict whether stock price will grow more than 30% over 12 months, given 12 months of past company fundamentals data, and using a machine learning model construction method and transformed data.\n",
    "\n",
    "Evaluate the model's business performance based on a business model and business parameters."
   ]
  },
  {
   "cell_type": "markdown",
   "metadata": {},
   "source": [
    "## Business Model\n",
    "\n",
    "The business model is ...\n",
    "\n",
    "$ \\begin{align} profit = \\left( \\sum_{i \\in portfolio} (1 + growth_i) \\times allocation_i \\right) - budget \\end{align} $\n",
    "\n",
    "<br>\n",
    "\n",
    "$ profit\\,rate = profit \\div budget $\n",
    "\n",
    "\n",
    "$ \\begin{align} budget = \\sum_{i \\in portfolio} allocation_i \\end{align} $\n",
    "\n",
    "<br>\n",
    "\n",
    "Business model parameters include ...\n",
    "\n",
    "* Budget = \\\\$1,000,000: total investment to allocate across the companies in the portfolio\n",
    "* Portfolio Size = 12: number of companies in the portfolio\n",
    "* Allocations = \\\\$1,000,000 $\\div$ 12 to each company: investments to allocate to specific companies in the portfolio \n",
    "\n",
    "Fill the portfolio with companies with the lowest gvkey values from among those you predict to grow above 30%.  If you predict fewer than the portfolio size to grow above 30%, then fill the rest of the portfolio with the remaining companies with lowest gvkey values."
   ]
  },
  {
   "cell_type": "code",
   "execution_count": 3,
   "metadata": {},
   "outputs": [
    {
     "data": {
      "text/html": [
       "<table><tr><td style=\"background-color:white; vertical-align:top; padding-right:40px;\"><table>\n",
       " <thead>\n",
       "  <tr>\n",
       "   <th style=\"text-align:right;background-color: #FFFFFF !important;\"> budget </th>\n",
       "  </tr>\n",
       " </thead>\n",
       "<tbody>\n",
       "  <tr>\n",
       "   <td style=\"text-align:right;\"> 1000000 </td>\n",
       "  </tr>\n",
       "</tbody>\n",
       "</table></td><td style=\"background-color:white; vertical-align:top; padding-right:40px;\"><table>\n",
       " <thead>\n",
       "  <tr>\n",
       "   <th style=\"text-align:right;background-color: #FFFFFF !important;\"> portfolio_size </th>\n",
       "  </tr>\n",
       " </thead>\n",
       "<tbody>\n",
       "  <tr>\n",
       "   <td style=\"text-align:right;\"> 12 </td>\n",
       "  </tr>\n",
       "</tbody>\n",
       "</table></td><td style=\"background-color:white; vertical-align:top;\"><table>\n",
       " <thead>\n",
       "  <tr>\n",
       "   <th style=\"text-align:right;background-color: #FFFFFF !important;\"> allocation </th>\n",
       "  </tr>\n",
       " </thead>\n",
       "<tbody>\n",
       "  <tr>\n",
       "   <td style=\"text-align:right;\"> 83333.33 </td>\n",
       "  </tr>\n",
       "  <tr>\n",
       "   <td style=\"text-align:right;\"> 83333.33 </td>\n",
       "  </tr>\n",
       "  <tr>\n",
       "   <td style=\"text-align:right;\"> 83333.33 </td>\n",
       "  </tr>\n",
       "  <tr>\n",
       "   <td style=\"text-align:right;\"> 83333.33 </td>\n",
       "  </tr>\n",
       "  <tr>\n",
       "   <td style=\"text-align:right;\"> 83333.33 </td>\n",
       "  </tr>\n",
       "  <tr>\n",
       "   <td style=\"text-align:right;\"> 83333.33 </td>\n",
       "  </tr>\n",
       "  <tr>\n",
       "   <td style=\"text-align:right;\"> 83333.33 </td>\n",
       "  </tr>\n",
       "  <tr>\n",
       "   <td style=\"text-align:right;\"> 83333.33 </td>\n",
       "  </tr>\n",
       "  <tr>\n",
       "   <td style=\"text-align:right;\"> 83333.33 </td>\n",
       "  </tr>\n",
       "  <tr>\n",
       "   <td style=\"text-align:right;\"> 83333.33 </td>\n",
       "  </tr>\n",
       "  <tr>\n",
       "   <td style=\"text-align:right;\"> 83333.33 </td>\n",
       "  </tr>\n",
       "  <tr>\n",
       "   <td style=\"text-align:right;\"> 83333.33 </td>\n",
       "  </tr>\n",
       "</tbody>\n",
       "</table></td></tr></table>"
      ]
     },
     "metadata": {},
     "output_type": "display_data"
    }
   ],
   "source": [
    "# Set the business parameters.\n",
    "\n",
    "budget = 1000000\n",
    "portfolio_size = 12\n",
    "allocation = rep(budget/portfolio_size, portfolio_size)\n",
    "\n",
    "layout(fmt(budget), fmt(portfolio_size), fmt(allocation))"
   ]
  },
  {
   "cell_type": "markdown",
   "metadata": {},
   "source": [
    "## Data\n",
    "\n",
    "_<< Discuss this data retrieval. >>_"
   ]
  },
  {
   "cell_type": "code",
   "execution_count": 4,
   "metadata": {},
   "outputs": [
    {
     "data": {
      "text/html": [
       "<table>\n",
       "<thead><tr><th scope=col>gvkey</th><th scope=col>tic</th><th scope=col>conm</th><th scope=col>PC1</th><th scope=col>PC2</th><th scope=col>PC3</th><th scope=col>PC4</th><th scope=col>PC5</th><th scope=col>PC6</th><th scope=col>PC7</th><th scope=col>PC8</th><th scope=col>PC9</th><th scope=col>PC10</th><th scope=col>PC11</th><th scope=col>PC12</th><th scope=col>PC13</th><th scope=col>PC14</th><th scope=col>PC15</th><th scope=col>PC16</th><th scope=col>PC17</th><th scope=col>PC18</th><th scope=col>PC19</th><th scope=col>PC20</th><th scope=col>PC21</th><th scope=col>PC22</th><th scope=col>PC23</th><th scope=col>PC24</th><th scope=col>PC25</th><th scope=col>PC26</th><th scope=col>PC27</th><th scope=col>PC28</th><th scope=col>PC29</th><th scope=col>PC30</th><th scope=col>PC31</th><th scope=col>PC32</th><th scope=col>PC33</th><th scope=col>PC34</th><th scope=col>PC35</th><th scope=col>PC36</th><th scope=col>PC37</th><th scope=col>PC38</th><th scope=col>PC39</th><th scope=col>PC40</th><th scope=col>PC41</th><th scope=col>PC42</th><th scope=col>PC43</th><th scope=col>PC44</th><th scope=col>PC45</th><th scope=col>PC46</th><th scope=col>PC47</th><th scope=col>PC48</th><th scope=col>PC49</th><th scope=col>PC50</th><th scope=col>PC51</th><th scope=col>PC52</th><th scope=col>PC53</th><th scope=col>PC54</th><th scope=col>PC55</th><th scope=col>PC56</th><th scope=col>PC57</th><th scope=col>PC58</th><th scope=col>PC59</th><th scope=col>PC60</th><th scope=col>PC61</th><th scope=col>PC62</th><th scope=col>PC63</th><th scope=col>PC64</th><th scope=col>PC65</th><th scope=col>PC66</th><th scope=col>PC67</th><th scope=col>PC68</th><th scope=col>PC69</th><th scope=col>PC70</th><th scope=col>PC71</th><th scope=col>PC72</th><th scope=col>PC73</th><th scope=col>PC74</th><th scope=col>PC75</th><th scope=col>PC76</th><th scope=col>PC77</th><th scope=col>PC78</th><th scope=col>PC79</th><th scope=col>PC80</th><th scope=col>PC81</th><th scope=col>PC82</th><th scope=col>PC83</th><th scope=col>PC84</th><th scope=col>PC85</th><th scope=col>PC86</th><th scope=col>PC87</th><th scope=col>PC88</th><th scope=col>PC89</th><th scope=col>PC90</th><th scope=col>PC91</th><th scope=col>PC92</th><th scope=col>PC93</th><th scope=col>PC94</th><th scope=col>PC95</th><th scope=col>PC96</th><th scope=col>PC97</th><th scope=col>...</th><th scope=col>PC641</th><th scope=col>PC642</th><th scope=col>PC643</th><th scope=col>PC644</th><th scope=col>PC645</th><th scope=col>PC646</th><th scope=col>PC647</th><th scope=col>PC648</th><th scope=col>PC649</th><th scope=col>PC650</th><th scope=col>PC651</th><th scope=col>PC652</th><th scope=col>PC653</th><th scope=col>PC654</th><th scope=col>PC655</th><th scope=col>PC656</th><th scope=col>PC657</th><th scope=col>PC658</th><th scope=col>PC659</th><th scope=col>PC660</th><th scope=col>PC661</th><th scope=col>PC662</th><th scope=col>PC663</th><th scope=col>PC664</th><th scope=col>PC665</th><th scope=col>PC666</th><th scope=col>PC667</th><th scope=col>PC668</th><th scope=col>PC669</th><th scope=col>PC670</th><th scope=col>PC671</th><th scope=col>PC672</th><th scope=col>PC673</th><th scope=col>PC674</th><th scope=col>PC675</th><th scope=col>PC676</th><th scope=col>PC677</th><th scope=col>PC678</th><th scope=col>PC679</th><th scope=col>PC680</th><th scope=col>PC681</th><th scope=col>PC682</th><th scope=col>PC683</th><th scope=col>PC684</th><th scope=col>PC685</th><th scope=col>PC686</th><th scope=col>PC687</th><th scope=col>PC688</th><th scope=col>PC689</th><th scope=col>PC690</th><th scope=col>PC691</th><th scope=col>PC692</th><th scope=col>PC693</th><th scope=col>PC694</th><th scope=col>PC695</th><th scope=col>PC696</th><th scope=col>PC697</th><th scope=col>PC698</th><th scope=col>PC699</th><th scope=col>PC700</th><th scope=col>PC701</th><th scope=col>PC702</th><th scope=col>PC703</th><th scope=col>PC704</th><th scope=col>PC705</th><th scope=col>PC706</th><th scope=col>PC707</th><th scope=col>PC708</th><th scope=col>PC709</th><th scope=col>PC710</th><th scope=col>PC711</th><th scope=col>PC712</th><th scope=col>PC713</th><th scope=col>PC714</th><th scope=col>PC715</th><th scope=col>PC716</th><th scope=col>PC717</th><th scope=col>PC718</th><th scope=col>PC719</th><th scope=col>PC720</th><th scope=col>PC721</th><th scope=col>PC722</th><th scope=col>PC723</th><th scope=col>PC724</th><th scope=col>PC725</th><th scope=col>PC726</th><th scope=col>PC727</th><th scope=col>PC728</th><th scope=col>PC729</th><th scope=col>PC730</th><th scope=col>PC731</th><th scope=col>PC732</th><th scope=col>PC733</th><th scope=col>PC734</th><th scope=col>PC735</th><th scope=col>PC736</th><th scope=col>PC737</th><th scope=col>prccq</th><th scope=col>growth</th><th scope=col>big_growth</th></tr></thead>\n",
       "<tbody>\n",
       "\t<tr><td>1004                        </td><td>AIR                         </td><td>AAR CORP                    </td><td>  3.4371231                 </td><td>-0.2260719                  </td><td>-0.4220180                  </td><td>0.6326422                   </td><td>-1.5550509                  </td><td> 0.5650989                  </td><td>-2.0762355                  </td><td> 4.7809366                  </td><td> 2.57837534                 </td><td>-1.08343819                 </td><td> 1.0852790                  </td><td> 0.7351277                  </td><td>-0.2918953                  </td><td>-6.8480433                  </td><td> 1.3871612                  </td><td>-1.1200720                  </td><td>-0.2210991                  </td><td>-0.9914828                  </td><td> 0.79834108                 </td><td>-0.20001133                 </td><td> 0.31771792                 </td><td>-1.0539380                  </td><td> 1.67813281                 </td><td>-0.8672219                  </td><td> 0.37905631                 </td><td> 1.16129629                 </td><td>-1.0867702                  </td><td> 1.0412642                  </td><td> 0.8547673                  </td><td> 0.1336883                  </td><td> 0.9056983                  </td><td>-0.2780267                  </td><td> 0.72462144                 </td><td> 0.018625133                </td><td> 1.0475663                  </td><td>-0.37038314                 </td><td>-0.09388485                 </td><td>-1.00864500                 </td><td> 0.6290530                  </td><td>-0.56007039                 </td><td> 0.13098834                 </td><td>-0.52265832                 </td><td> 1.7038187                  </td><td>-2.7211571                  </td><td> 0.34390112                 </td><td>-0.227859079                </td><td> 0.09971139                 </td><td> 0.57797892                 </td><td> 0.29036026                 </td><td>-0.21928328                 </td><td> 0.47636356                 </td><td>-0.1945795                  </td><td>-0.05066614                 </td><td>-0.07005866                 </td><td>-0.4389614                  </td><td>-0.2723389                  </td><td>-0.099977768                </td><td>-0.315330206                </td><td> 0.6652111                  </td><td> 0.59191807                 </td><td>-0.48702283                 </td><td>-0.34729539                 </td><td>-0.29551715                 </td><td>-0.284412824                </td><td> 0.40647730                 </td><td>-0.15538404                 </td><td>-0.05869476                 </td><td> 0.58074474                 </td><td> 0.23229255                 </td><td>-0.97475993                 </td><td> 0.2748880                  </td><td> 1.47194389                 </td><td>-0.26981678                 </td><td>-0.858540100                </td><td> 1.0660820                  </td><td>-1.48377211                 </td><td>-2.216605696                </td><td>-2.06770952                 </td><td>-4.03616804                 </td><td>-0.75023659                 </td><td>-3.81854383                 </td><td> 1.856007787                </td><td> 1.59975313                 </td><td>-0.66278074                 </td><td> 2.42575448                 </td><td> 0.81083565                 </td><td>-0.005509483                </td><td> 1.9140389                  </td><td> 1.64882918                 </td><td>-0.59361913                 </td><td> 0.3067276                  </td><td>-1.62462093                 </td><td> 0.2865575                  </td><td>-0.20572160                 </td><td>-0.14645964                 </td><td>-0.44112856                 </td><td>-0.12338222                 </td><td>...                         </td><td> 0.00008563764              </td><td> 0.00022746862              </td><td>-0.00007650780              </td><td> 0.00002915370              </td><td> 0.00007547395              </td><td>-0.00015238488              </td><td>-0.00014919475              </td><td>-0.00002906592              </td><td> 0.000043237916             </td><td> 0.000312392577             </td><td> 0.00029691890              </td><td> 0.00015236885              </td><td> 0.000148090698             </td><td>-0.000161156023             </td><td>-0.00003421426              </td><td> 0.00028855696              </td><td> 0.000154113664             </td><td>-0.000162176478             </td><td>-0.00028822508              </td><td>-0.000101330149             </td><td>-0.00004300331              </td><td> 0.00032482558              </td><td> 0.000082546432             </td><td>-0.000009533542             </td><td>-0.000021616792             </td><td> 0.00020739534              </td><td>-0.000044487222             </td><td>-0.000085922027             </td><td> 0.000004819613             </td><td>-0.000190430166             </td><td>-0.000036292968             </td><td>-0.00006708483              </td><td>-0.00006753966              </td><td> 0.000176456586             </td><td>-0.000033321117             </td><td> 0.000030015022             </td><td>-0.000012817335             </td><td> 0.000006835853             </td><td>-0.0000124378999            </td><td>-0.0000147975664            </td><td>-0.0000082422385            </td><td> 0.0000147049155            </td><td>-0.0000114649924            </td><td>-0.0000023735536            </td><td> 0.0000155901469            </td><td>-0.0000091170143            </td><td> 0.0000056229947            </td><td>-0.000008896972             </td><td> 0.0000074087280            </td><td>-0.0000020323700            </td><td>-0.0000041194253            </td><td>-0.0000020283956            </td><td>-0.00000096241526           </td><td>-0.0000030301529            </td><td>-0.00000012171873           </td><td>-0.00000065892936           </td><td>-0.000000025429232          </td><td>-0.00000001472213           </td><td>-0.000000001709997          </td><td>-0.0000000174902837         </td><td> 0.000000003685460          </td><td>-0.0000000000371690629      </td><td> 2.749943e-15               </td><td> 2.232783e-15               </td><td> 1.638312e-15               </td><td>-1.329728e-17               </td><td>-2.897635e-15               </td><td>-3.662328e-15               </td><td> 1.967679e-15               </td><td> 7.224142e-16               </td><td> 7.817761e-16               </td><td> 7.554270e-16               </td><td>-1.085275e-15               </td><td> 1.320930e-15               </td><td> 4.709314e-15               </td><td>-1.569954e-15               </td><td>-2.855368e-15               </td><td> 6.988314e-15               </td><td> 8.845707e-16               </td><td> 9.463580e-16               </td><td>-6.353867e-16               </td><td> 2.631464e-15               </td><td> 4.276961e-15               </td><td>-3.154353e-16               </td><td>-6.956691e-16               </td><td>-6.199599e-16               </td><td> 3.765624e-16               </td><td> 1.426058e-15               </td><td> 1.656734e-16               </td><td>5.379661e-16                </td><td>-1.704044e-16               </td><td>-1.895256e-16               </td><td> 5.748453e-17               </td><td> 1.725892e-15               </td><td> 2.401331e-15               </td><td> 2.485394e-15               </td><td> 1.394361e-15               </td><td>43.69                       </td><td> 0.0507455507               </td><td>NO                          </td></tr>\n",
       "\t<tr><td>1045                        </td><td>AAL                         </td><td>AMERICAN AIRLINES GROUP INC </td><td>-12.0332067                 </td><td> 0.8045109                  </td><td>-5.9180179                  </td><td>0.8018754                   </td><td>-6.7210451                  </td><td> 3.0447560                  </td><td>-0.3546613                  </td><td> 0.9115091                  </td><td>-0.08658059                 </td><td> 3.11308754                 </td><td> 2.0981728                  </td><td> 0.6351669                  </td><td>-2.3283523                  </td><td> 1.9116502                  </td><td>-0.3221275                  </td><td>-0.7248502                  </td><td> 0.7006368                  </td><td>-0.6671353                  </td><td> 0.97108690                 </td><td>-0.17976843                 </td><td> 1.29237646                 </td><td>-1.3577810                  </td><td> 0.94279445                 </td><td> 1.0363612                  </td><td>-0.75825338                 </td><td> 0.11103292                 </td><td>-0.9812441                  </td><td> 0.6843918                  </td><td> 0.7208754                  </td><td>-2.6043514                  </td><td> 0.6555264                  </td><td>-3.3345707                  </td><td>-0.06006156                 </td><td> 2.032854440                </td><td>-0.1068628                  </td><td>-1.35051571                 </td><td> 0.82325819                 </td><td>-0.46516991                 </td><td>-1.0660042                  </td><td> 0.69623790                 </td><td> 0.09713277                 </td><td> 0.63579594                 </td><td> 1.1964207                  </td><td>-4.5067491                  </td><td> 0.97925113                 </td><td>-1.070410962                </td><td> 0.42814534                 </td><td> 2.33088693                 </td><td> 2.10762751                 </td><td> 0.92047411                 </td><td>-1.85621374                 </td><td> 0.4288121                  </td><td>-1.15912845                 </td><td> 1.85373854                 </td><td> 2.0183663                  </td><td> 0.2556869                  </td><td> 2.780835347                </td><td>-1.023148274                </td><td>-0.9428606                  </td><td>-3.79691645                 </td><td> 1.09395455                 </td><td>-0.85121301                 </td><td> 0.24275797                 </td><td>-4.382714627                </td><td> 4.13224542                 </td><td> 0.02777669                 </td><td>-0.47221858                 </td><td> 0.37071140                 </td><td>-0.29180971                 </td><td> 0.86732843                 </td><td>-0.4634445                  </td><td> 1.61621822                 </td><td> 0.95670017                 </td><td>-2.325266888                </td><td>-2.0665724                  </td><td> 1.58208810                 </td><td>-1.094227712                </td><td> 0.38887809                 </td><td>-1.31314302                 </td><td>-0.10117099                 </td><td> 0.37890960                 </td><td> 0.008623608                </td><td> 0.04303991                 </td><td> 1.51536084                 </td><td>-1.88864605                 </td><td>-1.08261296                 </td><td>-1.141746375                </td><td>-0.1780104                  </td><td> 0.19066343                 </td><td>-0.27350081                 </td><td> 0.2297969                  </td><td>-0.82274489                 </td><td> 0.2819610                  </td><td> 0.71363820                 </td><td> 0.49379133                 </td><td>-0.85793493                 </td><td>-0.07601763                 </td><td>...                         </td><td>-0.00054066876              </td><td>-0.00017219789              </td><td> 0.00002649882              </td><td>-0.00009925925              </td><td>-0.00113757663              </td><td>-0.00037699848              </td><td>-0.00010029565              </td><td>-0.00024733814              </td><td> 0.000108316388             </td><td>-0.000230975191             </td><td> 0.00004181788              </td><td>-0.00007407734              </td><td>-0.000414251820             </td><td> 0.000427148844             </td><td>-0.00006985121              </td><td> 0.00004586499              </td><td> 0.000171856297             </td><td> 0.000009994309             </td><td>-0.00003154715              </td><td> 0.000165147019             </td><td>-0.00019190609              </td><td>-0.00001732616              </td><td>-0.000245854307             </td><td>-0.000086216646             </td><td> 0.000002699570             </td><td>-0.00003328426              </td><td> 0.000060364693             </td><td>-0.000050056493             </td><td>-0.000012547348             </td><td> 0.000036904457             </td><td> 0.000120788385             </td><td>-0.00002843959              </td><td>-0.00016863977              </td><td>-0.000074359139             </td><td> 0.000076308120             </td><td> 0.000030693038             </td><td> 0.000003094589             </td><td> 0.000017553167             </td><td>-0.0000318000777            </td><td> 0.0000493328015            </td><td>-0.0000019588139            </td><td>-0.0000004406861            </td><td> 0.0000260358680            </td><td> 0.0000033348831            </td><td>-0.0000004110579            </td><td> 0.0000111016175            </td><td> 0.0000178366322            </td><td>-0.000001089741             </td><td>-0.0000100294256            </td><td> 0.0000037975278            </td><td> 0.0000030401923            </td><td> 0.0000030925761            </td><td> 0.00000618839502           </td><td> 0.0000008466388            </td><td>-0.00000076077962           </td><td>-0.00000051302744           </td><td> 0.000000089520594          </td><td> 0.00000003863118           </td><td> 0.000000008426198          </td><td>-0.0000000039875755         </td><td> 0.000000059708835          </td><td>-0.0000000000703030415      </td><td>-4.871805e-15               </td><td>-1.083274e-16               </td><td>-8.863425e-15               </td><td>-3.903675e-17               </td><td> 4.570940e-15               </td><td>-4.988665e-15               </td><td>-3.556498e-17               </td><td>-1.672347e-15               </td><td>-6.817995e-15               </td><td>-2.158047e-15               </td><td>-3.857608e-15               </td><td> 3.681215e-15               </td><td> 2.372734e-15               </td><td>-2.048403e-15               </td><td>-3.302254e-15               </td><td> 1.879605e-16               </td><td>-3.112359e-15               </td><td>-3.572772e-16               </td><td>-6.816311e-16               </td><td> 3.618329e-15               </td><td> 1.418247e-15               </td><td>-1.164436e-15               </td><td>-3.065683e-15               </td><td> 3.892516e-15               </td><td> 2.107453e-15               </td><td> 5.727682e-16               </td><td>-1.164448e-15               </td><td>7.065634e-16                </td><td>-4.429711e-16               </td><td> 2.349029e-16               </td><td>-2.624884e-16               </td><td>-6.841537e-16               </td><td> 1.595311e-15               </td><td>-5.614201e-16               </td><td>-4.324387e-15               </td><td>32.11                       </td><td>-0.3828560446               </td><td>NO                          </td></tr>\n",
       "\t<tr><td>1050                        </td><td>CECE                        </td><td>CECO ENVIRONMENTAL CORP     </td><td>  3.9532234                 </td><td>-0.7553386                  </td><td>-0.0754375                  </td><td>0.3824019                   </td><td>-1.4772691                  </td><td> 1.6295762                  </td><td>-1.7417282                  </td><td> 4.0193246                  </td><td>-0.40386946                 </td><td> 0.43740189                 </td><td>-0.2450501                  </td><td>-0.2815124                  </td><td> 0.2882787                  </td><td> 1.2873906                  </td><td> 0.2362659                  </td><td>-0.2034695                  </td><td> 0.2576521                  </td><td>-0.1375479                  </td><td>-0.09761457                 </td><td> 0.01354828                 </td><td> 0.33991383                 </td><td>-0.2494386                  </td><td> 0.61549945                 </td><td> 0.2483715                  </td><td>-0.31180484                 </td><td>-0.08131449                 </td><td> 0.3949381                  </td><td>-0.2621053                  </td><td>-0.5860781                  </td><td>-0.9672057                  </td><td> 1.3418068                  </td><td>-0.3751708                  </td><td> 0.60379852                 </td><td>-0.099462658                </td><td> 0.1211193                  </td><td>-0.52728669                 </td><td> 0.61756994                 </td><td>-1.31721777                 </td><td> 0.7113846                  </td><td>-0.88648348                 </td><td>-0.02536412                 </td><td> 0.28329422                 </td><td> 2.1338699                  </td><td>-2.3966200                  </td><td> 0.64697536                 </td><td>-0.376578172                </td><td> 0.13601367                 </td><td>-0.05854781                 </td><td> 0.64890190                 </td><td>-0.59092189                 </td><td> 0.09557551                 </td><td>-0.1279636                  </td><td> 0.29839668                 </td><td>-0.14689831                 </td><td>-0.5524096                  </td><td>-0.1328577                  </td><td>-0.145950924                </td><td>-0.119756809                </td><td> 0.1758955                  </td><td> 0.28890269                 </td><td>-0.02625025                 </td><td>-0.43191620                 </td><td> 0.04750372                 </td><td> 0.129407554                </td><td>-0.09616074                 </td><td>-0.06329210                 </td><td> 0.05669187                 </td><td>-0.09743002                 </td><td> 0.30611483                 </td><td>-0.09884216                 </td><td> 0.0177834                  </td><td>-0.03989357                 </td><td> 0.06999488                 </td><td> 0.009577996                </td><td> 0.2639092                  </td><td>-0.06080459                 </td><td> 0.072692636                </td><td>-0.03521832                 </td><td>-0.12149396                 </td><td> 0.02076264                 </td><td> 0.18886465                 </td><td>-0.068353208                </td><td> 0.01605135                 </td><td> 0.12589850                 </td><td>-0.15308627                 </td><td>-0.13703644                 </td><td>-0.093762047                </td><td>-0.1522233                  </td><td>-0.07502155                 </td><td> 0.05702755                 </td><td>-0.1124844                  </td><td>-0.02979309                 </td><td>-0.1487364                  </td><td> 0.09047053                 </td><td>-0.14573427                 </td><td> 0.17661689                 </td><td>-0.08838464                 </td><td>...                         </td><td>-0.00001181348              </td><td> 0.00001768610              </td><td> 0.00002622097              </td><td> 0.00006982067              </td><td> 0.00009185737              </td><td> 0.00001757655              </td><td>-0.00000294668              </td><td>-0.00001293718              </td><td>-0.000004145498             </td><td>-0.000007294194             </td><td>-0.00001517805              </td><td>-0.00001193922              </td><td> 0.000017403268             </td><td> 0.000005835763             </td><td> 0.00003833353              </td><td> 0.00002125613              </td><td> 0.000028431478             </td><td> 0.000013808490             </td><td>-0.00002022487              </td><td>-0.000029716124             </td><td>-0.00000256018              </td><td> 0.00004500109              </td><td> 0.000009259931             </td><td>-0.000006300052             </td><td>-0.000007295263             </td><td> 0.00016982521              </td><td> 0.000009689276             </td><td> 0.000003814322             </td><td> 0.000010820500             </td><td> 0.000009867432             </td><td>-0.000006677376             </td><td> 0.00002475924              </td><td>-0.00002316481              </td><td>-0.000002900853             </td><td> 0.000006868278             </td><td>-0.000003000614             </td><td> 0.000008098985             </td><td> 0.000011122284             </td><td>-0.0000020509383            </td><td>-0.0000010954334            </td><td>-0.0000030476559            </td><td> 0.0000026719071            </td><td>-0.0000007418262            </td><td>-0.0000004637534            </td><td> 0.0000012713555            </td><td>-0.0000013759908            </td><td>-0.0000008280805            </td><td> 0.000001517230             </td><td>-0.0000002384134            </td><td>-0.0000002349892            </td><td>-0.0000003886081            </td><td>-0.0000002897895            </td><td>-0.00000005366144           </td><td> 0.0000030502021            </td><td>-0.00000006267149           </td><td> 0.00000010289588           </td><td>-0.000000002632942          </td><td> 0.00000003396794           </td><td> 0.000000006434167          </td><td>-0.0000000011427214         </td><td> 0.000000003723560          </td><td>-0.0000000000008919402      </td><td>-1.252097e-15               </td><td>-9.904034e-16               </td><td> 1.815816e-15               </td><td>-1.518655e-15               </td><td> 4.373336e-16               </td><td> 1.192354e-16               </td><td>-1.045003e-15               </td><td>-2.102072e-16               </td><td> 8.990706e-16               </td><td>-1.099936e-15               </td><td> 8.764447e-16               </td><td>-1.762329e-16               </td><td> 1.313819e-16               </td><td>-9.543305e-17               </td><td>-3.747435e-16               </td><td> 1.446129e-17               </td><td>-5.116371e-16               </td><td>-7.747743e-16               </td><td>-1.067198e-15               </td><td>-2.365438e-16               </td><td>-4.624082e-16               </td><td>-3.329163e-16               </td><td>-7.197907e-16               </td><td> 3.810503e-16               </td><td> 3.232416e-16               </td><td> 3.063482e-16               </td><td>-2.849618e-16               </td><td>1.114190e-16                </td><td> 5.207929e-17               </td><td>-8.600899e-17               </td><td>-2.181933e-17               </td><td>-1.132589e-16               </td><td> 7.036534e-16               </td><td>-2.955832e-16               </td><td> 1.270512e-16               </td><td> 6.75                       </td><td> 0.3157894737               </td><td>YES                         </td></tr>\n",
       "\t<tr><td>1062                        </td><td>ASA                         </td><td>ASA GOLD AND PRECIOUS METALS</td><td>  3.6561434                 </td><td>-0.7981915                  </td><td> 0.5747387                  </td><td>0.9472515                   </td><td> 1.0964242                  </td><td>-0.3917829                  </td><td> 0.9167008                  </td><td>-1.8407762                  </td><td>-0.09133025                 </td><td>-0.17936600                 </td><td> 0.5735521                  </td><td>-0.7219205                  </td><td>-0.2614258                  </td><td> 0.6286022                  </td><td> 0.2533000                  </td><td> 0.1233606                  </td><td>-0.4316422                  </td><td> 0.2438496                  </td><td> 0.61143074                 </td><td>-0.42921625                 </td><td> 0.01092949                 </td><td>-1.3929427                  </td><td>-0.09686668                 </td><td>-0.4272915                  </td><td> 0.05712958                 </td><td> 0.18191507                 </td><td>-1.0705043                  </td><td> 0.3281404                  </td><td> 1.0495254                  </td><td> 0.6447604                  </td><td>-0.3092847                  </td><td> 0.2634550                  </td><td> 0.01441784                 </td><td> 0.009774794                </td><td> 0.3777850                  </td><td>-0.03077777                 </td><td> 0.05361038                 </td><td>-0.04329721                 </td><td>-0.1028666                  </td><td>-0.05136492                 </td><td> 0.26382082                 </td><td>-0.92915422                 </td><td> 0.1309160                  </td><td>-0.2109205                  </td><td> 0.03557058                 </td><td>-0.023649571                </td><td> 0.04186500                 </td><td>-0.42966210                 </td><td> 0.30548507                 </td><td> 0.02502204                 </td><td>-0.14786745                 </td><td> 0.2598231                  </td><td> 0.17518809                 </td><td> 0.02291606                 </td><td> 0.1123231                  </td><td> 0.1743886                  </td><td> 0.002062698                </td><td>-0.000748164                </td><td>-0.3920582                  </td><td> 0.09080182                 </td><td>-0.26330123                 </td><td>-0.16485011                 </td><td>-0.11803253                 </td><td> 0.005397748                </td><td> 0.04122645                 </td><td> 0.31698996                 </td><td>-0.03056918                 </td><td> 0.13775811                 </td><td>-0.02247183                 </td><td> 0.02092230                 </td><td>-0.0964358                  </td><td>-0.14187053                 </td><td> 0.25991868                 </td><td>-0.068767183                </td><td>-0.1147308                  </td><td> 0.04888179                 </td><td> 0.008344784                </td><td> 0.01053431                 </td><td> 0.07335232                 </td><td>-0.09000627                 </td><td>-0.03853696                 </td><td> 0.029697890                </td><td> 0.21093481                 </td><td> 0.23610377                 </td><td>-0.11163721                 </td><td> 0.18308872                 </td><td> 0.107952557                </td><td> 0.1185127                  </td><td>-0.21971826                 </td><td>-0.06036799                 </td><td> 0.2401116                  </td><td> 0.41667294                 </td><td> 0.1829576                  </td><td>-0.22683268                 </td><td>-0.03241723                 </td><td> 0.02232895                 </td><td> 0.19869091                 </td><td>...                         </td><td>-0.00018662888              </td><td>-0.00003078232              </td><td> 0.00003793816              </td><td>-0.00013657555              </td><td>-0.00024110222              </td><td> 0.00001391781              </td><td>-0.00022076655              </td><td> 0.00009997611              </td><td> 0.000010057239             </td><td>-0.000225848602             </td><td>-0.00011018336              </td><td>-0.00003256120              </td><td>-0.000013533591             </td><td>-0.000046002074             </td><td>-0.00008053700              </td><td>-0.00024827436              </td><td>-0.000001560681             </td><td>-0.000119008547             </td><td> 0.00014417771              </td><td> 0.000044877532             </td><td>-0.00006554991              </td><td>-0.00006559287              </td><td>-0.000042835553             </td><td>-0.000005575786             </td><td> 0.000024989728             </td><td>-0.00004904959              </td><td>-0.000039679245             </td><td>-0.000017160246             </td><td> 0.000043514884             </td><td>-0.000012388982             </td><td>-0.000004564239             </td><td> 0.00001994474              </td><td> 0.00001350352              </td><td>-0.000003290079             </td><td> 0.000017121936             </td><td> 0.000001287549             </td><td>-0.000007259500             </td><td>-0.000011475480             </td><td>-0.0000005164561            </td><td> 0.0000015731816            </td><td>-0.0000042569642            </td><td> 0.0000041345825            </td><td>-0.0000010341692            </td><td> 0.0000027843487            </td><td>-0.0000027857832            </td><td> 0.0000059600753            </td><td> 0.0000055217544            </td><td>-0.000004676448             </td><td> 0.0000020584434            </td><td>-0.0000005670192            </td><td> 0.0000009061321            </td><td> 0.0000008972170            </td><td>-0.00000030046137           </td><td>-0.0000008700649            </td><td> 0.00000028182222           </td><td>-0.00000006440563           </td><td> 0.000000040177788          </td><td>-0.00000002736558           </td><td>-0.000000002768560          </td><td>-0.0000000005463983         </td><td> 0.000000064168205          </td><td> 0.0000000000152351921      </td><td>-2.380808e-15               </td><td>-1.252596e-15               </td><td> 9.197250e-16               </td><td> 1.359120e-15               </td><td> 2.864752e-16               </td><td> 1.349180e-15               </td><td> 2.165725e-16               </td><td>-2.759655e-17               </td><td>-4.824837e-16               </td><td>-9.986673e-16               </td><td>-1.745402e-16               </td><td> 3.652038e-16               </td><td>-1.003499e-15               </td><td>-3.908381e-16               </td><td> 1.406569e-15               </td><td>-2.636366e-15               </td><td>-1.266227e-15               </td><td>-9.253904e-16               </td><td>-4.132299e-16               </td><td> 2.516615e-16               </td><td>-1.008309e-16               </td><td>-2.121314e-16               </td><td> 1.054006e-16               </td><td> 1.176156e-16               </td><td>-5.722920e-17               </td><td>-1.523293e-15               </td><td> 2.590721e-16               </td><td>1.266470e-16                </td><td>-6.401474e-16               </td><td>-3.273828e-16               </td><td> 1.651374e-16               </td><td> 8.013634e-16               </td><td>-1.021655e-16               </td><td>-3.437147e-16               </td><td>-4.277057e-16               </td><td> 8.66                       </td><td>-0.2164739518               </td><td>NO                          </td></tr>\n",
       "\t<tr><td>1072                        </td><td>AVX                         </td><td>AVX CORP                    </td><td>  2.9282228                 </td><td>-0.7104200                  </td><td> 0.1640085                  </td><td>0.5317080                   </td><td> 0.3809744                  </td><td>-2.0787585                  </td><td> 0.2194266                  </td><td>-0.5828688                  </td><td> 2.75599993                 </td><td>-1.80042773                 </td><td> 1.4246807                  </td><td> 0.5199072                  </td><td>-0.6314484                  </td><td>-7.4178654                  </td><td> 0.6216722                  </td><td>-0.9347407                  </td><td>-0.6342238                  </td><td>-0.9928027                  </td><td> 0.50677861                 </td><td>-0.99580119                 </td><td>-0.30899020                 </td><td>-1.1748072                  </td><td> 1.19231513                 </td><td>-2.6594114                  </td><td> 0.62123824                 </td><td>-0.21320871                 </td><td> 0.6228058                  </td><td> 0.9418865                  </td><td>-0.5638329                  </td><td>-0.5259058                  </td><td> 0.8018813                  </td><td> 0.6139924                  </td><td> 0.50866400                 </td><td>-0.127512527                </td><td>-0.2144432                  </td><td>-0.31598395                 </td><td> 0.01592418                 </td><td> 0.05828582                 </td><td> 0.3964813                  </td><td> 0.66574347                 </td><td>-0.16458404                 </td><td> 0.08980529                 </td><td>-0.3523539                  </td><td> 0.6987686                  </td><td>-0.52948736                 </td><td>-0.183470287                </td><td>-0.44203752                 </td><td> 0.13008562                 </td><td> 1.50644208                 </td><td>-0.32100824                 </td><td>-1.24187154                 </td><td> 1.0310505                  </td><td> 0.36937530                 </td><td>-0.83431974                 </td><td> 0.5569163                  </td><td> 1.2883497                  </td><td> 0.203530709                </td><td>-0.901677833                </td><td>-0.3192748                  </td><td> 1.60361698                 </td><td>-0.04631134                 </td><td>-1.07591425                 </td><td>-0.02203566                 </td><td>-0.107088585                </td><td>-0.03790492                 </td><td>-0.05665197                 </td><td>-0.03311371                 </td><td>-0.28774437                 </td><td>-0.09116702                 </td><td> 0.27425113                 </td><td>-0.1048517                  </td><td>-0.01269286                 </td><td>-0.13599886                 </td><td> 0.072161435                </td><td>-0.3612784                  </td><td>-0.11206318                 </td><td>-0.033630194                </td><td> 0.13003257                 </td><td> 0.66566931                 </td><td>-0.11579796                 </td><td> 0.83014225                 </td><td>-0.036137964                </td><td>-0.04760180                 </td><td>-0.06172764                 </td><td>-0.12733990                 </td><td> 0.07344089                 </td><td>-0.241589067                </td><td>-0.4737773                  </td><td> 0.11759587                 </td><td> 0.09033773                 </td><td>-0.4519059                  </td><td> 0.31140353                 </td><td>-0.1634499                  </td><td> 0.42920485                 </td><td>-0.23271528                 </td><td> 0.01734157                 </td><td>-0.14928953                 </td><td>...                         </td><td> 0.00010633474              </td><td>-0.00006640316              </td><td>-0.00016217565              </td><td>-0.00005816435              </td><td>-0.00004538928              </td><td>-0.00007486727              </td><td> 0.00008334228              </td><td>-0.00008243610              </td><td> 0.000035827953             </td><td> 0.000015768125             </td><td>-0.00008497170              </td><td>-0.00020743009              </td><td> 0.000004108083             </td><td>-0.000092350674             </td><td> 0.00005139071              </td><td>-0.00005445328              </td><td> 0.000188100097             </td><td> 0.000076969789             </td><td> 0.00002866169              </td><td> 0.000005992952             </td><td> 0.00002991980              </td><td>-0.00001469539              </td><td> 0.000077633108             </td><td> 0.000027523314             </td><td>-0.000029923652             </td><td>-0.00011935422              </td><td> 0.000011914519             </td><td>-0.000012718311             </td><td> 0.000002766716             </td><td>-0.000019679593             </td><td>-0.000038513172             </td><td>-0.00001316243              </td><td>-0.00006162181              </td><td>-0.000005998718             </td><td>-0.000012470114             </td><td> 0.000007892998             </td><td> 0.000008321378             </td><td> 0.000007423230             </td><td>-0.0000020733284            </td><td> 0.0000040246656            </td><td>-0.0000009148535            </td><td>-0.0000111235664            </td><td>-0.0000113367123            </td><td>-0.0000026941888            </td><td> 0.0000010526689            </td><td> 0.0000001002859            </td><td> 0.0000029497802            </td><td>-0.000005428544             </td><td>-0.0000002731504            </td><td> 0.0000001053182            </td><td>-0.0000007931794            </td><td>-0.0000002000167            </td><td>-0.00000102441062           </td><td>-0.0000002530185            </td><td> 0.00000016483608           </td><td>-0.00000031316927           </td><td> 0.000000010994311          </td><td>-0.00000001269928           </td><td> 0.000000004109668          </td><td> 0.0000000021809840         </td><td> 0.000000001100364          </td><td>-0.0000000000098810491      </td><td> 1.885014e-15               </td><td> 1.065790e-15               </td><td>-4.967741e-16               </td><td>-1.300015e-16               </td><td>-1.651276e-15               </td><td>-5.182525e-15               </td><td> 1.295742e-15               </td><td> 1.276147e-15               </td><td>-1.473464e-16               </td><td> 1.503519e-15               </td><td> 2.514985e-16               </td><td> 4.733738e-16               </td><td> 2.094632e-15               </td><td>-2.767905e-15               </td><td>-3.576210e-15               </td><td> 4.521072e-15               </td><td> 2.506633e-15               </td><td> 4.575195e-16               </td><td>-1.260594e-15               </td><td> 7.600125e-16               </td><td> 2.444574e-15               </td><td> 1.218616e-15               </td><td> 1.928950e-16               </td><td>-2.758753e-16               </td><td> 5.889252e-16               </td><td> 2.444935e-15               </td><td>-2.256474e-16               </td><td>1.741613e-16                </td><td> 2.227580e-16               </td><td>-1.437015e-16               </td><td> 4.020993e-16               </td><td>-1.794209e-15               </td><td>-6.991388e-16               </td><td> 1.404680e-15               </td><td> 1.418364e-15               </td><td>15.25                       </td><td>-0.1184971098               </td><td>NO                          </td></tr>\n",
       "\t<tr><td>1075                        </td><td>PNW                         </td><td>PINNACLE WEST CAPITAL CORP  </td><td>  0.3488491                 </td><td> 1.1389605                  </td><td>-0.3578312                  </td><td>0.4864851                   </td><td> 1.4258804                  </td><td>-0.6473941                  </td><td> 1.6268031                  </td><td>-4.3147377                  </td><td>-0.63028018                 </td><td>-0.02072026                 </td><td> 0.2936045                  </td><td>-0.5269396                  </td><td>-0.2559957                  </td><td> 1.1217805                  </td><td> 0.0223046                  </td><td>-0.7377696                  </td><td>-0.8076057                  </td><td>-0.9825753                  </td><td> 0.03070531                 </td><td>-2.15072710                 </td><td>-0.82606477                 </td><td>-1.5094747                  </td><td> 0.80834093                 </td><td>-3.6872727                  </td><td> 0.94828374                 </td><td>-1.34444342                 </td><td> 2.8374420                  </td><td> 0.8613145                  </td><td>-2.7696178                  </td><td>-1.8756656                  </td><td> 2.0570613                  </td><td>-0.4709724                  </td><td> 0.37456172                 </td><td> 0.369541993                </td><td>-0.3872488                  </td><td>-0.57812468                 </td><td>-0.65333253                 </td><td>-0.54816070                 </td><td> 0.4857411                  </td><td> 0.89770552                 </td><td>-0.58870642                 </td><td> 1.47209306                 </td><td> 0.6020450                  </td><td> 0.4214584                  </td><td> 0.38655741                 </td><td> 0.003056831                </td><td>-0.39518289                 </td><td> 0.42596826                 </td><td>-0.01682259                 </td><td>-0.35415174                 </td><td>-0.16749865                 </td><td> 0.3941413                  </td><td> 0.40874194                 </td><td>-0.03917249                 </td><td>-0.1609666                  </td><td> 0.5113110                  </td><td>-0.009714298                </td><td> 0.341697324                </td><td>-0.7354169                  </td><td> 0.38805854                 </td><td>-0.61410087                 </td><td> 0.04801912                 </td><td>-0.25554608                 </td><td> 0.110103053                </td><td>-0.32117493                 </td><td>-0.18507670                 </td><td> 0.02330003                 </td><td> 0.02090976                 </td><td>-0.32511236                 </td><td> 0.24863681                 </td><td>-0.8388087                  </td><td> 0.28084372                 </td><td>-0.06675396                 </td><td> 0.188665174                </td><td>-0.9581977                  </td><td> 0.06377412                 </td><td>-0.067602976                </td><td> 0.14567144                 </td><td> 0.11059997                 </td><td>-0.03965605                 </td><td>-0.64605787                 </td><td>-0.085704160                </td><td>-0.03657915                 </td><td> 0.09777754                 </td><td> 0.02646322                 </td><td> 1.06136564                 </td><td> 1.074760016                </td><td> 0.5319203                  </td><td>-1.24240153                 </td><td>-0.21701331                 </td><td> 1.3447953                  </td><td> 0.49030098                 </td><td> 0.2447243                  </td><td>-0.52064162                 </td><td>-0.44503385                 </td><td> 0.03778363                 </td><td> 0.58862342                 </td><td>...                         </td><td> 0.00028425118              </td><td> 0.00030128042              </td><td>-0.00022233411              </td><td>-0.00039939448              </td><td>-0.00014728761              </td><td> 0.00008983655              </td><td> 0.00010508638              </td><td> 0.00016959983              </td><td>-0.000012373676             </td><td> 0.000209489404             </td><td>-0.00009389463              </td><td>-0.00010727174              </td><td> 0.000032884658             </td><td>-0.000032555118             </td><td> 0.00005498021              </td><td> 0.00014942456              </td><td> 0.000161184824             </td><td>-0.000115771899             </td><td> 0.00017985533              </td><td>-0.000209511741             </td><td> 0.00003808757              </td><td> 0.00002270963              </td><td>-0.000022637757             </td><td>-0.000033806231             </td><td> 0.000008010212             </td><td> 0.00015758450              </td><td> 0.000138066059             </td><td> 0.000071670368             </td><td> 0.000079681688             </td><td>-0.000002940125             </td><td>-0.000046769404             </td><td>-0.00025419995              </td><td> 0.00005585590              </td><td>-0.000028614442             </td><td> 0.000083869018             </td><td> 0.000004551968             </td><td> 0.000009557547             </td><td> 0.000005882998             </td><td> 0.0000075153338            </td><td> 0.0000004415492            </td><td> 0.0000071466481            </td><td> 0.0000076620336            </td><td>-0.0000124421138            </td><td>-0.0000099095150            </td><td> 0.0000037347056            </td><td>-0.0000020966728            </td><td>-0.0000036503146            </td><td>-0.000005243617             </td><td> 0.0000003409703            </td><td>-0.0000016564830            </td><td>-0.0000001693586            </td><td> 0.0000001825271            </td><td> 0.00000241656743           </td><td>-0.0000005760257            </td><td> 0.00000001968821           </td><td>-0.00000044922861           </td><td>-0.000000015951187          </td><td>-0.00000003963567           </td><td>-0.000000011555636          </td><td>-0.0000000005488992         </td><td>-0.000000035589796          </td><td>-0.0000000000360533549      </td><td>-1.327905e-15               </td><td>-7.590230e-16               </td><td>-1.671771e-15               </td><td> 1.041373e-15               </td><td> 2.642711e-15               </td><td>-5.613431e-16               </td><td> 4.555142e-16               </td><td> 1.313379e-15               </td><td>-1.351250e-15               </td><td> 1.290331e-15               </td><td>-1.461394e-15               </td><td>-5.008300e-16               </td><td>-1.906092e-15               </td><td>-9.288912e-16               </td><td>-1.331984e-15               </td><td>-2.727212e-15               </td><td> 1.545069e-15               </td><td>-5.922431e-16               </td><td> 4.019791e-16               </td><td>-2.778985e-15               </td><td> 3.951220e-16               </td><td> 1.824742e-15               </td><td>-7.973675e-16               </td><td>-5.446118e-16               </td><td>-3.279730e-15               </td><td>-9.811570e-16               </td><td>-9.372548e-19               </td><td>1.380759e-16                </td><td>-5.611458e-16               </td><td>-1.774379e-16               </td><td>-5.359962e-16               </td><td>-7.817063e-16               </td><td>-1.098554e-15               </td><td>-1.095139e-16               </td><td>-4.637025e-18               </td><td>85.20                       </td><td> 0.0002347969               </td><td>NO                          </td></tr>\n",
       "</tbody>\n",
       "</table>\n"
      ],
      "text/latex": [
       "\\begin{tabular}{r|lllllllllllllllllllllllllllllllllllllllllllllllllllllllllllllllllllllllllllllllllllllllllllllllllllllllllllllllllllllllllllllllllllllllllllllllllllllllllllllllllllllllllllllllllllllllllllllllllllllllllllllllllllllllllllllllllllllllllllllllllllllllllllllllllllllllllllllllllllllllllllllllllllllllllllllllllllllllllllllllllllllllllllllllllllllllllllllllllllllllllllllllllllllllllllllllllllllllllllllllllllllllllllllllllllllllllllllllllllllllllllllllllllllllllllllllllllllllllllllllllllllllllllllllllllllllllllllllllllllllllllllllllllllllllllllllllllllllllllllllllllllllllllllllllllllllllllllllllllllllllllllllllllllllllllllllllllllllllllllllllllllllllllllllllllllllllllllllllllllllllllllllllllllllllllllllllllllllllllllllllllllllllllllllllllllll}\n",
       " gvkey & tic & conm & PC1 & PC2 & PC3 & PC4 & PC5 & PC6 & PC7 & PC8 & PC9 & PC10 & PC11 & PC12 & PC13 & PC14 & PC15 & PC16 & PC17 & PC18 & PC19 & PC20 & PC21 & PC22 & PC23 & PC24 & PC25 & PC26 & PC27 & PC28 & PC29 & PC30 & PC31 & PC32 & PC33 & PC34 & PC35 & PC36 & PC37 & PC38 & PC39 & PC40 & PC41 & PC42 & PC43 & PC44 & PC45 & PC46 & PC47 & PC48 & PC49 & PC50 & PC51 & PC52 & PC53 & PC54 & PC55 & PC56 & PC57 & PC58 & PC59 & PC60 & PC61 & PC62 & PC63 & PC64 & PC65 & PC66 & PC67 & PC68 & PC69 & PC70 & PC71 & PC72 & PC73 & PC74 & PC75 & PC76 & PC77 & PC78 & PC79 & PC80 & PC81 & PC82 & PC83 & PC84 & PC85 & PC86 & PC87 & PC88 & PC89 & PC90 & PC91 & PC92 & PC93 & PC94 & PC95 & PC96 & PC97 & ... & PC641 & PC642 & PC643 & PC644 & PC645 & PC646 & PC647 & PC648 & PC649 & PC650 & PC651 & PC652 & PC653 & PC654 & PC655 & PC656 & PC657 & PC658 & PC659 & PC660 & PC661 & PC662 & PC663 & PC664 & PC665 & PC666 & PC667 & PC668 & PC669 & PC670 & PC671 & PC672 & PC673 & PC674 & PC675 & PC676 & PC677 & PC678 & PC679 & PC680 & PC681 & PC682 & PC683 & PC684 & PC685 & PC686 & PC687 & PC688 & PC689 & PC690 & PC691 & PC692 & PC693 & PC694 & PC695 & PC696 & PC697 & PC698 & PC699 & PC700 & PC701 & PC702 & PC703 & PC704 & PC705 & PC706 & PC707 & PC708 & PC709 & PC710 & PC711 & PC712 & PC713 & PC714 & PC715 & PC716 & PC717 & PC718 & PC719 & PC720 & PC721 & PC722 & PC723 & PC724 & PC725 & PC726 & PC727 & PC728 & PC729 & PC730 & PC731 & PC732 & PC733 & PC734 & PC735 & PC736 & PC737 & prccq & growth & big\\_growth\\\\\n",
       "\\hline\n",
       "\t 1004                         & AIR                          & AAR CORP                     &   3.4371231                  & -0.2260719                   & -0.4220180                   & 0.6326422                    & -1.5550509                   &  0.5650989                   & -2.0762355                   &  4.7809366                   &  2.57837534                  & -1.08343819                  &  1.0852790                   &  0.7351277                   & -0.2918953                   & -6.8480433                   &  1.3871612                   & -1.1200720                   & -0.2210991                   & -0.9914828                   &  0.79834108                  & -0.20001133                  &  0.31771792                  & -1.0539380                   &  1.67813281                  & -0.8672219                   &  0.37905631                  &  1.16129629                  & -1.0867702                   &  1.0412642                   &  0.8547673                   &  0.1336883                   &  0.9056983                   & -0.2780267                   &  0.72462144                  &  0.018625133                 &  1.0475663                   & -0.37038314                  & -0.09388485                  & -1.00864500                  &  0.6290530                   & -0.56007039                  &  0.13098834                  & -0.52265832                  &  1.7038187                   & -2.7211571                   &  0.34390112                  & -0.227859079                 &  0.09971139                  &  0.57797892                  &  0.29036026                  & -0.21928328                  &  0.47636356                  & -0.1945795                   & -0.05066614                  & -0.07005866                  & -0.4389614                   & -0.2723389                   & -0.099977768                 & -0.315330206                 &  0.6652111                   &  0.59191807                  & -0.48702283                  & -0.34729539                  & -0.29551715                  & -0.284412824                 &  0.40647730                  & -0.15538404                  & -0.05869476                  &  0.58074474                  &  0.23229255                  & -0.97475993                  &  0.2748880                   &  1.47194389                  & -0.26981678                  & -0.858540100                 &  1.0660820                   & -1.48377211                  & -2.216605696                 & -2.06770952                  & -4.03616804                  & -0.75023659                  & -3.81854383                  &  1.856007787                 &  1.59975313                  & -0.66278074                  &  2.42575448                  &  0.81083565                  & -0.005509483                 &  1.9140389                   &  1.64882918                  & -0.59361913                  &  0.3067276                   & -1.62462093                  &  0.2865575                   & -0.20572160                  & -0.14645964                  & -0.44112856                  & -0.12338222                  & ...                          &  0.00008563764               &  0.00022746862               & -0.00007650780               &  0.00002915370               &  0.00007547395               & -0.00015238488               & -0.00014919475               & -0.00002906592               &  0.000043237916              &  0.000312392577              &  0.00029691890               &  0.00015236885               &  0.000148090698              & -0.000161156023              & -0.00003421426               &  0.00028855696               &  0.000154113664              & -0.000162176478              & -0.00028822508               & -0.000101330149              & -0.00004300331               &  0.00032482558               &  0.000082546432              & -0.000009533542              & -0.000021616792              &  0.00020739534               & -0.000044487222              & -0.000085922027              &  0.000004819613              & -0.000190430166              & -0.000036292968              & -0.00006708483               & -0.00006753966               &  0.000176456586              & -0.000033321117              &  0.000030015022              & -0.000012817335              &  0.000006835853              & -0.0000124378999             & -0.0000147975664             & -0.0000082422385             &  0.0000147049155             & -0.0000114649924             & -0.0000023735536             &  0.0000155901469             & -0.0000091170143             &  0.0000056229947             & -0.000008896972              &  0.0000074087280             & -0.0000020323700             & -0.0000041194253             & -0.0000020283956             & -0.00000096241526            & -0.0000030301529             & -0.00000012171873            & -0.00000065892936            & -0.000000025429232           & -0.00000001472213            & -0.000000001709997           & -0.0000000174902837          &  0.000000003685460           & -0.0000000000371690629       &  2.749943e-15                &  2.232783e-15                &  1.638312e-15                & -1.329728e-17                & -2.897635e-15                & -3.662328e-15                &  1.967679e-15                &  7.224142e-16                &  7.817761e-16                &  7.554270e-16                & -1.085275e-15                &  1.320930e-15                &  4.709314e-15                & -1.569954e-15                & -2.855368e-15                &  6.988314e-15                &  8.845707e-16                &  9.463580e-16                & -6.353867e-16                &  2.631464e-15                &  4.276961e-15                & -3.154353e-16                & -6.956691e-16                & -6.199599e-16                &  3.765624e-16                &  1.426058e-15                &  1.656734e-16                & 5.379661e-16                 & -1.704044e-16                & -1.895256e-16                &  5.748453e-17                &  1.725892e-15                &  2.401331e-15                &  2.485394e-15                &  1.394361e-15                & 43.69                        &  0.0507455507                & NO                          \\\\\n",
       "\t 1045                         & AAL                          & AMERICAN AIRLINES GROUP INC  & -12.0332067                  &  0.8045109                   & -5.9180179                   & 0.8018754                    & -6.7210451                   &  3.0447560                   & -0.3546613                   &  0.9115091                   & -0.08658059                  &  3.11308754                  &  2.0981728                   &  0.6351669                   & -2.3283523                   &  1.9116502                   & -0.3221275                   & -0.7248502                   &  0.7006368                   & -0.6671353                   &  0.97108690                  & -0.17976843                  &  1.29237646                  & -1.3577810                   &  0.94279445                  &  1.0363612                   & -0.75825338                  &  0.11103292                  & -0.9812441                   &  0.6843918                   &  0.7208754                   & -2.6043514                   &  0.6555264                   & -3.3345707                   & -0.06006156                  &  2.032854440                 & -0.1068628                   & -1.35051571                  &  0.82325819                  & -0.46516991                  & -1.0660042                   &  0.69623790                  &  0.09713277                  &  0.63579594                  &  1.1964207                   & -4.5067491                   &  0.97925113                  & -1.070410962                 &  0.42814534                  &  2.33088693                  &  2.10762751                  &  0.92047411                  & -1.85621374                  &  0.4288121                   & -1.15912845                  &  1.85373854                  &  2.0183663                   &  0.2556869                   &  2.780835347                 & -1.023148274                 & -0.9428606                   & -3.79691645                  &  1.09395455                  & -0.85121301                  &  0.24275797                  & -4.382714627                 &  4.13224542                  &  0.02777669                  & -0.47221858                  &  0.37071140                  & -0.29180971                  &  0.86732843                  & -0.4634445                   &  1.61621822                  &  0.95670017                  & -2.325266888                 & -2.0665724                   &  1.58208810                  & -1.094227712                 &  0.38887809                  & -1.31314302                  & -0.10117099                  &  0.37890960                  &  0.008623608                 &  0.04303991                  &  1.51536084                  & -1.88864605                  & -1.08261296                  & -1.141746375                 & -0.1780104                   &  0.19066343                  & -0.27350081                  &  0.2297969                   & -0.82274489                  &  0.2819610                   &  0.71363820                  &  0.49379133                  & -0.85793493                  & -0.07601763                  & ...                          & -0.00054066876               & -0.00017219789               &  0.00002649882               & -0.00009925925               & -0.00113757663               & -0.00037699848               & -0.00010029565               & -0.00024733814               &  0.000108316388              & -0.000230975191              &  0.00004181788               & -0.00007407734               & -0.000414251820              &  0.000427148844              & -0.00006985121               &  0.00004586499               &  0.000171856297              &  0.000009994309              & -0.00003154715               &  0.000165147019              & -0.00019190609               & -0.00001732616               & -0.000245854307              & -0.000086216646              &  0.000002699570              & -0.00003328426               &  0.000060364693              & -0.000050056493              & -0.000012547348              &  0.000036904457              &  0.000120788385              & -0.00002843959               & -0.00016863977               & -0.000074359139              &  0.000076308120              &  0.000030693038              &  0.000003094589              &  0.000017553167              & -0.0000318000777             &  0.0000493328015             & -0.0000019588139             & -0.0000004406861             &  0.0000260358680             &  0.0000033348831             & -0.0000004110579             &  0.0000111016175             &  0.0000178366322             & -0.000001089741              & -0.0000100294256             &  0.0000037975278             &  0.0000030401923             &  0.0000030925761             &  0.00000618839502            &  0.0000008466388             & -0.00000076077962            & -0.00000051302744            &  0.000000089520594           &  0.00000003863118            &  0.000000008426198           & -0.0000000039875755          &  0.000000059708835           & -0.0000000000703030415       & -4.871805e-15                & -1.083274e-16                & -8.863425e-15                & -3.903675e-17                &  4.570940e-15                & -4.988665e-15                & -3.556498e-17                & -1.672347e-15                & -6.817995e-15                & -2.158047e-15                & -3.857608e-15                &  3.681215e-15                &  2.372734e-15                & -2.048403e-15                & -3.302254e-15                &  1.879605e-16                & -3.112359e-15                & -3.572772e-16                & -6.816311e-16                &  3.618329e-15                &  1.418247e-15                & -1.164436e-15                & -3.065683e-15                &  3.892516e-15                &  2.107453e-15                &  5.727682e-16                & -1.164448e-15                & 7.065634e-16                 & -4.429711e-16                &  2.349029e-16                & -2.624884e-16                & -6.841537e-16                &  1.595311e-15                & -5.614201e-16                & -4.324387e-15                & 32.11                        & -0.3828560446                & NO                          \\\\\n",
       "\t 1050                         & CECE                         & CECO ENVIRONMENTAL CORP      &   3.9532234                  & -0.7553386                   & -0.0754375                   & 0.3824019                    & -1.4772691                   &  1.6295762                   & -1.7417282                   &  4.0193246                   & -0.40386946                  &  0.43740189                  & -0.2450501                   & -0.2815124                   &  0.2882787                   &  1.2873906                   &  0.2362659                   & -0.2034695                   &  0.2576521                   & -0.1375479                   & -0.09761457                  &  0.01354828                  &  0.33991383                  & -0.2494386                   &  0.61549945                  &  0.2483715                   & -0.31180484                  & -0.08131449                  &  0.3949381                   & -0.2621053                   & -0.5860781                   & -0.9672057                   &  1.3418068                   & -0.3751708                   &  0.60379852                  & -0.099462658                 &  0.1211193                   & -0.52728669                  &  0.61756994                  & -1.31721777                  &  0.7113846                   & -0.88648348                  & -0.02536412                  &  0.28329422                  &  2.1338699                   & -2.3966200                   &  0.64697536                  & -0.376578172                 &  0.13601367                  & -0.05854781                  &  0.64890190                  & -0.59092189                  &  0.09557551                  & -0.1279636                   &  0.29839668                  & -0.14689831                  & -0.5524096                   & -0.1328577                   & -0.145950924                 & -0.119756809                 &  0.1758955                   &  0.28890269                  & -0.02625025                  & -0.43191620                  &  0.04750372                  &  0.129407554                 & -0.09616074                  & -0.06329210                  &  0.05669187                  & -0.09743002                  &  0.30611483                  & -0.09884216                  &  0.0177834                   & -0.03989357                  &  0.06999488                  &  0.009577996                 &  0.2639092                   & -0.06080459                  &  0.072692636                 & -0.03521832                  & -0.12149396                  &  0.02076264                  &  0.18886465                  & -0.068353208                 &  0.01605135                  &  0.12589850                  & -0.15308627                  & -0.13703644                  & -0.093762047                 & -0.1522233                   & -0.07502155                  &  0.05702755                  & -0.1124844                   & -0.02979309                  & -0.1487364                   &  0.09047053                  & -0.14573427                  &  0.17661689                  & -0.08838464                  & ...                          & -0.00001181348               &  0.00001768610               &  0.00002622097               &  0.00006982067               &  0.00009185737               &  0.00001757655               & -0.00000294668               & -0.00001293718               & -0.000004145498              & -0.000007294194              & -0.00001517805               & -0.00001193922               &  0.000017403268              &  0.000005835763              &  0.00003833353               &  0.00002125613               &  0.000028431478              &  0.000013808490              & -0.00002022487               & -0.000029716124              & -0.00000256018               &  0.00004500109               &  0.000009259931              & -0.000006300052              & -0.000007295263              &  0.00016982521               &  0.000009689276              &  0.000003814322              &  0.000010820500              &  0.000009867432              & -0.000006677376              &  0.00002475924               & -0.00002316481               & -0.000002900853              &  0.000006868278              & -0.000003000614              &  0.000008098985              &  0.000011122284              & -0.0000020509383             & -0.0000010954334             & -0.0000030476559             &  0.0000026719071             & -0.0000007418262             & -0.0000004637534             &  0.0000012713555             & -0.0000013759908             & -0.0000008280805             &  0.000001517230              & -0.0000002384134             & -0.0000002349892             & -0.0000003886081             & -0.0000002897895             & -0.00000005366144            &  0.0000030502021             & -0.00000006267149            &  0.00000010289588            & -0.000000002632942           &  0.00000003396794            &  0.000000006434167           & -0.0000000011427214          &  0.000000003723560           & -0.0000000000008919402       & -1.252097e-15                & -9.904034e-16                &  1.815816e-15                & -1.518655e-15                &  4.373336e-16                &  1.192354e-16                & -1.045003e-15                & -2.102072e-16                &  8.990706e-16                & -1.099936e-15                &  8.764447e-16                & -1.762329e-16                &  1.313819e-16                & -9.543305e-17                & -3.747435e-16                &  1.446129e-17                & -5.116371e-16                & -7.747743e-16                & -1.067198e-15                & -2.365438e-16                & -4.624082e-16                & -3.329163e-16                & -7.197907e-16                &  3.810503e-16                &  3.232416e-16                &  3.063482e-16                & -2.849618e-16                & 1.114190e-16                 &  5.207929e-17                & -8.600899e-17                & -2.181933e-17                & -1.132589e-16                &  7.036534e-16                & -2.955832e-16                &  1.270512e-16                &  6.75                        &  0.3157894737                & YES                         \\\\\n",
       "\t 1062                         & ASA                          & ASA GOLD AND PRECIOUS METALS &   3.6561434                  & -0.7981915                   &  0.5747387                   & 0.9472515                    &  1.0964242                   & -0.3917829                   &  0.9167008                   & -1.8407762                   & -0.09133025                  & -0.17936600                  &  0.5735521                   & -0.7219205                   & -0.2614258                   &  0.6286022                   &  0.2533000                   &  0.1233606                   & -0.4316422                   &  0.2438496                   &  0.61143074                  & -0.42921625                  &  0.01092949                  & -1.3929427                   & -0.09686668                  & -0.4272915                   &  0.05712958                  &  0.18191507                  & -1.0705043                   &  0.3281404                   &  1.0495254                   &  0.6447604                   & -0.3092847                   &  0.2634550                   &  0.01441784                  &  0.009774794                 &  0.3777850                   & -0.03077777                  &  0.05361038                  & -0.04329721                  & -0.1028666                   & -0.05136492                  &  0.26382082                  & -0.92915422                  &  0.1309160                   & -0.2109205                   &  0.03557058                  & -0.023649571                 &  0.04186500                  & -0.42966210                  &  0.30548507                  &  0.02502204                  & -0.14786745                  &  0.2598231                   &  0.17518809                  &  0.02291606                  &  0.1123231                   &  0.1743886                   &  0.002062698                 & -0.000748164                 & -0.3920582                   &  0.09080182                  & -0.26330123                  & -0.16485011                  & -0.11803253                  &  0.005397748                 &  0.04122645                  &  0.31698996                  & -0.03056918                  &  0.13775811                  & -0.02247183                  &  0.02092230                  & -0.0964358                   & -0.14187053                  &  0.25991868                  & -0.068767183                 & -0.1147308                   &  0.04888179                  &  0.008344784                 &  0.01053431                  &  0.07335232                  & -0.09000627                  & -0.03853696                  &  0.029697890                 &  0.21093481                  &  0.23610377                  & -0.11163721                  &  0.18308872                  &  0.107952557                 &  0.1185127                   & -0.21971826                  & -0.06036799                  &  0.2401116                   &  0.41667294                  &  0.1829576                   & -0.22683268                  & -0.03241723                  &  0.02232895                  &  0.19869091                  & ...                          & -0.00018662888               & -0.00003078232               &  0.00003793816               & -0.00013657555               & -0.00024110222               &  0.00001391781               & -0.00022076655               &  0.00009997611               &  0.000010057239              & -0.000225848602              & -0.00011018336               & -0.00003256120               & -0.000013533591              & -0.000046002074              & -0.00008053700               & -0.00024827436               & -0.000001560681              & -0.000119008547              &  0.00014417771               &  0.000044877532              & -0.00006554991               & -0.00006559287               & -0.000042835553              & -0.000005575786              &  0.000024989728              & -0.00004904959               & -0.000039679245              & -0.000017160246              &  0.000043514884              & -0.000012388982              & -0.000004564239              &  0.00001994474               &  0.00001350352               & -0.000003290079              &  0.000017121936              &  0.000001287549              & -0.000007259500              & -0.000011475480              & -0.0000005164561             &  0.0000015731816             & -0.0000042569642             &  0.0000041345825             & -0.0000010341692             &  0.0000027843487             & -0.0000027857832             &  0.0000059600753             &  0.0000055217544             & -0.000004676448              &  0.0000020584434             & -0.0000005670192             &  0.0000009061321             &  0.0000008972170             & -0.00000030046137            & -0.0000008700649             &  0.00000028182222            & -0.00000006440563            &  0.000000040177788           & -0.00000002736558            & -0.000000002768560           & -0.0000000005463983          &  0.000000064168205           &  0.0000000000152351921       & -2.380808e-15                & -1.252596e-15                &  9.197250e-16                &  1.359120e-15                &  2.864752e-16                &  1.349180e-15                &  2.165725e-16                & -2.759655e-17                & -4.824837e-16                & -9.986673e-16                & -1.745402e-16                &  3.652038e-16                & -1.003499e-15                & -3.908381e-16                &  1.406569e-15                & -2.636366e-15                & -1.266227e-15                & -9.253904e-16                & -4.132299e-16                &  2.516615e-16                & -1.008309e-16                & -2.121314e-16                &  1.054006e-16                &  1.176156e-16                & -5.722920e-17                & -1.523293e-15                &  2.590721e-16                & 1.266470e-16                 & -6.401474e-16                & -3.273828e-16                &  1.651374e-16                &  8.013634e-16                & -1.021655e-16                & -3.437147e-16                & -4.277057e-16                &  8.66                        & -0.2164739518                & NO                          \\\\\n",
       "\t 1072                         & AVX                          & AVX CORP                     &   2.9282228                  & -0.7104200                   &  0.1640085                   & 0.5317080                    &  0.3809744                   & -2.0787585                   &  0.2194266                   & -0.5828688                   &  2.75599993                  & -1.80042773                  &  1.4246807                   &  0.5199072                   & -0.6314484                   & -7.4178654                   &  0.6216722                   & -0.9347407                   & -0.6342238                   & -0.9928027                   &  0.50677861                  & -0.99580119                  & -0.30899020                  & -1.1748072                   &  1.19231513                  & -2.6594114                   &  0.62123824                  & -0.21320871                  &  0.6228058                   &  0.9418865                   & -0.5638329                   & -0.5259058                   &  0.8018813                   &  0.6139924                   &  0.50866400                  & -0.127512527                 & -0.2144432                   & -0.31598395                  &  0.01592418                  &  0.05828582                  &  0.3964813                   &  0.66574347                  & -0.16458404                  &  0.08980529                  & -0.3523539                   &  0.6987686                   & -0.52948736                  & -0.183470287                 & -0.44203752                  &  0.13008562                  &  1.50644208                  & -0.32100824                  & -1.24187154                  &  1.0310505                   &  0.36937530                  & -0.83431974                  &  0.5569163                   &  1.2883497                   &  0.203530709                 & -0.901677833                 & -0.3192748                   &  1.60361698                  & -0.04631134                  & -1.07591425                  & -0.02203566                  & -0.107088585                 & -0.03790492                  & -0.05665197                  & -0.03311371                  & -0.28774437                  & -0.09116702                  &  0.27425113                  & -0.1048517                   & -0.01269286                  & -0.13599886                  &  0.072161435                 & -0.3612784                   & -0.11206318                  & -0.033630194                 &  0.13003257                  &  0.66566931                  & -0.11579796                  &  0.83014225                  & -0.036137964                 & -0.04760180                  & -0.06172764                  & -0.12733990                  &  0.07344089                  & -0.241589067                 & -0.4737773                   &  0.11759587                  &  0.09033773                  & -0.4519059                   &  0.31140353                  & -0.1634499                   &  0.42920485                  & -0.23271528                  &  0.01734157                  & -0.14928953                  & ...                          &  0.00010633474               & -0.00006640316               & -0.00016217565               & -0.00005816435               & -0.00004538928               & -0.00007486727               &  0.00008334228               & -0.00008243610               &  0.000035827953              &  0.000015768125              & -0.00008497170               & -0.00020743009               &  0.000004108083              & -0.000092350674              &  0.00005139071               & -0.00005445328               &  0.000188100097              &  0.000076969789              &  0.00002866169               &  0.000005992952              &  0.00002991980               & -0.00001469539               &  0.000077633108              &  0.000027523314              & -0.000029923652              & -0.00011935422               &  0.000011914519              & -0.000012718311              &  0.000002766716              & -0.000019679593              & -0.000038513172              & -0.00001316243               & -0.00006162181               & -0.000005998718              & -0.000012470114              &  0.000007892998              &  0.000008321378              &  0.000007423230              & -0.0000020733284             &  0.0000040246656             & -0.0000009148535             & -0.0000111235664             & -0.0000113367123             & -0.0000026941888             &  0.0000010526689             &  0.0000001002859             &  0.0000029497802             & -0.000005428544              & -0.0000002731504             &  0.0000001053182             & -0.0000007931794             & -0.0000002000167             & -0.00000102441062            & -0.0000002530185             &  0.00000016483608            & -0.00000031316927            &  0.000000010994311           & -0.00000001269928            &  0.000000004109668           &  0.0000000021809840          &  0.000000001100364           & -0.0000000000098810491       &  1.885014e-15                &  1.065790e-15                & -4.967741e-16                & -1.300015e-16                & -1.651276e-15                & -5.182525e-15                &  1.295742e-15                &  1.276147e-15                & -1.473464e-16                &  1.503519e-15                &  2.514985e-16                &  4.733738e-16                &  2.094632e-15                & -2.767905e-15                & -3.576210e-15                &  4.521072e-15                &  2.506633e-15                &  4.575195e-16                & -1.260594e-15                &  7.600125e-16                &  2.444574e-15                &  1.218616e-15                &  1.928950e-16                & -2.758753e-16                &  5.889252e-16                &  2.444935e-15                & -2.256474e-16                & 1.741613e-16                 &  2.227580e-16                & -1.437015e-16                &  4.020993e-16                & -1.794209e-15                & -6.991388e-16                &  1.404680e-15                &  1.418364e-15                & 15.25                        & -0.1184971098                & NO                          \\\\\n",
       "\t 1075                         & PNW                          & PINNACLE WEST CAPITAL CORP   &   0.3488491                  &  1.1389605                   & -0.3578312                   & 0.4864851                    &  1.4258804                   & -0.6473941                   &  1.6268031                   & -4.3147377                   & -0.63028018                  & -0.02072026                  &  0.2936045                   & -0.5269396                   & -0.2559957                   &  1.1217805                   &  0.0223046                   & -0.7377696                   & -0.8076057                   & -0.9825753                   &  0.03070531                  & -2.15072710                  & -0.82606477                  & -1.5094747                   &  0.80834093                  & -3.6872727                   &  0.94828374                  & -1.34444342                  &  2.8374420                   &  0.8613145                   & -2.7696178                   & -1.8756656                   &  2.0570613                   & -0.4709724                   &  0.37456172                  &  0.369541993                 & -0.3872488                   & -0.57812468                  & -0.65333253                  & -0.54816070                  &  0.4857411                   &  0.89770552                  & -0.58870642                  &  1.47209306                  &  0.6020450                   &  0.4214584                   &  0.38655741                  &  0.003056831                 & -0.39518289                  &  0.42596826                  & -0.01682259                  & -0.35415174                  & -0.16749865                  &  0.3941413                   &  0.40874194                  & -0.03917249                  & -0.1609666                   &  0.5113110                   & -0.009714298                 &  0.341697324                 & -0.7354169                   &  0.38805854                  & -0.61410087                  &  0.04801912                  & -0.25554608                  &  0.110103053                 & -0.32117493                  & -0.18507670                  &  0.02330003                  &  0.02090976                  & -0.32511236                  &  0.24863681                  & -0.8388087                   &  0.28084372                  & -0.06675396                  &  0.188665174                 & -0.9581977                   &  0.06377412                  & -0.067602976                 &  0.14567144                  &  0.11059997                  & -0.03965605                  & -0.64605787                  & -0.085704160                 & -0.03657915                  &  0.09777754                  &  0.02646322                  &  1.06136564                  &  1.074760016                 &  0.5319203                   & -1.24240153                  & -0.21701331                  &  1.3447953                   &  0.49030098                  &  0.2447243                   & -0.52064162                  & -0.44503385                  &  0.03778363                  &  0.58862342                  & ...                          &  0.00028425118               &  0.00030128042               & -0.00022233411               & -0.00039939448               & -0.00014728761               &  0.00008983655               &  0.00010508638               &  0.00016959983               & -0.000012373676              &  0.000209489404              & -0.00009389463               & -0.00010727174               &  0.000032884658              & -0.000032555118              &  0.00005498021               &  0.00014942456               &  0.000161184824              & -0.000115771899              &  0.00017985533               & -0.000209511741              &  0.00003808757               &  0.00002270963               & -0.000022637757              & -0.000033806231              &  0.000008010212              &  0.00015758450               &  0.000138066059              &  0.000071670368              &  0.000079681688              & -0.000002940125              & -0.000046769404              & -0.00025419995               &  0.00005585590               & -0.000028614442              &  0.000083869018              &  0.000004551968              &  0.000009557547              &  0.000005882998              &  0.0000075153338             &  0.0000004415492             &  0.0000071466481             &  0.0000076620336             & -0.0000124421138             & -0.0000099095150             &  0.0000037347056             & -0.0000020966728             & -0.0000036503146             & -0.000005243617              &  0.0000003409703             & -0.0000016564830             & -0.0000001693586             &  0.0000001825271             &  0.00000241656743            & -0.0000005760257             &  0.00000001968821            & -0.00000044922861            & -0.000000015951187           & -0.00000003963567            & -0.000000011555636           & -0.0000000005488992          & -0.000000035589796           & -0.0000000000360533549       & -1.327905e-15                & -7.590230e-16                & -1.671771e-15                &  1.041373e-15                &  2.642711e-15                & -5.613431e-16                &  4.555142e-16                &  1.313379e-15                & -1.351250e-15                &  1.290331e-15                & -1.461394e-15                & -5.008300e-16                & -1.906092e-15                & -9.288912e-16                & -1.331984e-15                & -2.727212e-15                &  1.545069e-15                & -5.922431e-16                &  4.019791e-16                & -2.778985e-15                &  3.951220e-16                &  1.824742e-15                & -7.973675e-16                & -5.446118e-16                & -3.279730e-15                & -9.811570e-16                & -9.372548e-19                & 1.380759e-16                 & -5.611458e-16                & -1.774379e-16                & -5.359962e-16                & -7.817063e-16                & -1.098554e-15                & -1.095139e-16                & -4.637025e-18                & 85.20                        &  0.0002347969                & NO                          \\\\\n",
       "\\end{tabular}\n"
      ],
      "text/markdown": [
       "\n",
       "| gvkey | tic | conm | PC1 | PC2 | PC3 | PC4 | PC5 | PC6 | PC7 | PC8 | PC9 | PC10 | PC11 | PC12 | PC13 | PC14 | PC15 | PC16 | PC17 | PC18 | PC19 | PC20 | PC21 | PC22 | PC23 | PC24 | PC25 | PC26 | PC27 | PC28 | PC29 | PC30 | PC31 | PC32 | PC33 | PC34 | PC35 | PC36 | PC37 | PC38 | PC39 | PC40 | PC41 | PC42 | PC43 | PC44 | PC45 | PC46 | PC47 | PC48 | PC49 | PC50 | PC51 | PC52 | PC53 | PC54 | PC55 | PC56 | PC57 | PC58 | PC59 | PC60 | PC61 | PC62 | PC63 | PC64 | PC65 | PC66 | PC67 | PC68 | PC69 | PC70 | PC71 | PC72 | PC73 | PC74 | PC75 | PC76 | PC77 | PC78 | PC79 | PC80 | PC81 | PC82 | PC83 | PC84 | PC85 | PC86 | PC87 | PC88 | PC89 | PC90 | PC91 | PC92 | PC93 | PC94 | PC95 | PC96 | PC97 | ... | PC641 | PC642 | PC643 | PC644 | PC645 | PC646 | PC647 | PC648 | PC649 | PC650 | PC651 | PC652 | PC653 | PC654 | PC655 | PC656 | PC657 | PC658 | PC659 | PC660 | PC661 | PC662 | PC663 | PC664 | PC665 | PC666 | PC667 | PC668 | PC669 | PC670 | PC671 | PC672 | PC673 | PC674 | PC675 | PC676 | PC677 | PC678 | PC679 | PC680 | PC681 | PC682 | PC683 | PC684 | PC685 | PC686 | PC687 | PC688 | PC689 | PC690 | PC691 | PC692 | PC693 | PC694 | PC695 | PC696 | PC697 | PC698 | PC699 | PC700 | PC701 | PC702 | PC703 | PC704 | PC705 | PC706 | PC707 | PC708 | PC709 | PC710 | PC711 | PC712 | PC713 | PC714 | PC715 | PC716 | PC717 | PC718 | PC719 | PC720 | PC721 | PC722 | PC723 | PC724 | PC725 | PC726 | PC727 | PC728 | PC729 | PC730 | PC731 | PC732 | PC733 | PC734 | PC735 | PC736 | PC737 | prccq | growth | big_growth |\n",
       "|---|---|---|---|---|---|---|---|---|---|---|---|---|---|---|---|---|---|---|---|---|---|---|---|---|---|---|---|---|---|---|---|---|---|---|---|---|---|---|---|---|---|---|---|---|---|---|---|---|---|---|---|---|---|---|---|---|---|---|---|---|---|---|---|---|---|---|---|---|---|---|---|---|---|---|---|---|---|---|---|---|---|---|---|---|---|---|---|---|---|---|---|---|---|---|---|---|---|---|---|---|---|---|---|---|---|---|---|---|---|---|---|---|---|---|---|---|---|---|---|---|---|---|---|---|---|---|---|---|---|---|---|---|---|---|---|---|---|---|---|---|---|---|---|---|---|---|---|---|---|---|---|---|---|---|---|---|---|---|---|---|---|---|---|---|---|---|---|---|---|---|---|---|---|---|---|---|---|---|---|---|---|---|---|---|---|---|---|---|---|---|---|---|---|---|---|---|---|---|---|---|\n",
       "| 1004                         | AIR                          | AAR CORP                     |   3.4371231                  | -0.2260719                   | -0.4220180                   | 0.6326422                    | -1.5550509                   |  0.5650989                   | -2.0762355                   |  4.7809366                   |  2.57837534                  | -1.08343819                  |  1.0852790                   |  0.7351277                   | -0.2918953                   | -6.8480433                   |  1.3871612                   | -1.1200720                   | -0.2210991                   | -0.9914828                   |  0.79834108                  | -0.20001133                  |  0.31771792                  | -1.0539380                   |  1.67813281                  | -0.8672219                   |  0.37905631                  |  1.16129629                  | -1.0867702                   |  1.0412642                   |  0.8547673                   |  0.1336883                   |  0.9056983                   | -0.2780267                   |  0.72462144                  |  0.018625133                 |  1.0475663                   | -0.37038314                  | -0.09388485                  | -1.00864500                  |  0.6290530                   | -0.56007039                  |  0.13098834                  | -0.52265832                  |  1.7038187                   | -2.7211571                   |  0.34390112                  | -0.227859079                 |  0.09971139                  |  0.57797892                  |  0.29036026                  | -0.21928328                  |  0.47636356                  | -0.1945795                   | -0.05066614                  | -0.07005866                  | -0.4389614                   | -0.2723389                   | -0.099977768                 | -0.315330206                 |  0.6652111                   |  0.59191807                  | -0.48702283                  | -0.34729539                  | -0.29551715                  | -0.284412824                 |  0.40647730                  | -0.15538404                  | -0.05869476                  |  0.58074474                  |  0.23229255                  | -0.97475993                  |  0.2748880                   |  1.47194389                  | -0.26981678                  | -0.858540100                 |  1.0660820                   | -1.48377211                  | -2.216605696                 | -2.06770952                  | -4.03616804                  | -0.75023659                  | -3.81854383                  |  1.856007787                 |  1.59975313                  | -0.66278074                  |  2.42575448                  |  0.81083565                  | -0.005509483                 |  1.9140389                   |  1.64882918                  | -0.59361913                  |  0.3067276                   | -1.62462093                  |  0.2865575                   | -0.20572160                  | -0.14645964                  | -0.44112856                  | -0.12338222                  | ...                          |  0.00008563764               |  0.00022746862               | -0.00007650780               |  0.00002915370               |  0.00007547395               | -0.00015238488               | -0.00014919475               | -0.00002906592               |  0.000043237916              |  0.000312392577              |  0.00029691890               |  0.00015236885               |  0.000148090698              | -0.000161156023              | -0.00003421426               |  0.00028855696               |  0.000154113664              | -0.000162176478              | -0.00028822508               | -0.000101330149              | -0.00004300331               |  0.00032482558               |  0.000082546432              | -0.000009533542              | -0.000021616792              |  0.00020739534               | -0.000044487222              | -0.000085922027              |  0.000004819613              | -0.000190430166              | -0.000036292968              | -0.00006708483               | -0.00006753966               |  0.000176456586              | -0.000033321117              |  0.000030015022              | -0.000012817335              |  0.000006835853              | -0.0000124378999             | -0.0000147975664             | -0.0000082422385             |  0.0000147049155             | -0.0000114649924             | -0.0000023735536             |  0.0000155901469             | -0.0000091170143             |  0.0000056229947             | -0.000008896972              |  0.0000074087280             | -0.0000020323700             | -0.0000041194253             | -0.0000020283956             | -0.00000096241526            | -0.0000030301529             | -0.00000012171873            | -0.00000065892936            | -0.000000025429232           | -0.00000001472213            | -0.000000001709997           | -0.0000000174902837          |  0.000000003685460           | -0.0000000000371690629       |  2.749943e-15                |  2.232783e-15                |  1.638312e-15                | -1.329728e-17                | -2.897635e-15                | -3.662328e-15                |  1.967679e-15                |  7.224142e-16                |  7.817761e-16                |  7.554270e-16                | -1.085275e-15                |  1.320930e-15                |  4.709314e-15                | -1.569954e-15                | -2.855368e-15                |  6.988314e-15                |  8.845707e-16                |  9.463580e-16                | -6.353867e-16                |  2.631464e-15                |  4.276961e-15                | -3.154353e-16                | -6.956691e-16                | -6.199599e-16                |  3.765624e-16                |  1.426058e-15                |  1.656734e-16                | 5.379661e-16                 | -1.704044e-16                | -1.895256e-16                |  5.748453e-17                |  1.725892e-15                |  2.401331e-15                |  2.485394e-15                |  1.394361e-15                | 43.69                        |  0.0507455507                | NO                           |\n",
       "| 1045                         | AAL                          | AMERICAN AIRLINES GROUP INC  | -12.0332067                  |  0.8045109                   | -5.9180179                   | 0.8018754                    | -6.7210451                   |  3.0447560                   | -0.3546613                   |  0.9115091                   | -0.08658059                  |  3.11308754                  |  2.0981728                   |  0.6351669                   | -2.3283523                   |  1.9116502                   | -0.3221275                   | -0.7248502                   |  0.7006368                   | -0.6671353                   |  0.97108690                  | -0.17976843                  |  1.29237646                  | -1.3577810                   |  0.94279445                  |  1.0363612                   | -0.75825338                  |  0.11103292                  | -0.9812441                   |  0.6843918                   |  0.7208754                   | -2.6043514                   |  0.6555264                   | -3.3345707                   | -0.06006156                  |  2.032854440                 | -0.1068628                   | -1.35051571                  |  0.82325819                  | -0.46516991                  | -1.0660042                   |  0.69623790                  |  0.09713277                  |  0.63579594                  |  1.1964207                   | -4.5067491                   |  0.97925113                  | -1.070410962                 |  0.42814534                  |  2.33088693                  |  2.10762751                  |  0.92047411                  | -1.85621374                  |  0.4288121                   | -1.15912845                  |  1.85373854                  |  2.0183663                   |  0.2556869                   |  2.780835347                 | -1.023148274                 | -0.9428606                   | -3.79691645                  |  1.09395455                  | -0.85121301                  |  0.24275797                  | -4.382714627                 |  4.13224542                  |  0.02777669                  | -0.47221858                  |  0.37071140                  | -0.29180971                  |  0.86732843                  | -0.4634445                   |  1.61621822                  |  0.95670017                  | -2.325266888                 | -2.0665724                   |  1.58208810                  | -1.094227712                 |  0.38887809                  | -1.31314302                  | -0.10117099                  |  0.37890960                  |  0.008623608                 |  0.04303991                  |  1.51536084                  | -1.88864605                  | -1.08261296                  | -1.141746375                 | -0.1780104                   |  0.19066343                  | -0.27350081                  |  0.2297969                   | -0.82274489                  |  0.2819610                   |  0.71363820                  |  0.49379133                  | -0.85793493                  | -0.07601763                  | ...                          | -0.00054066876               | -0.00017219789               |  0.00002649882               | -0.00009925925               | -0.00113757663               | -0.00037699848               | -0.00010029565               | -0.00024733814               |  0.000108316388              | -0.000230975191              |  0.00004181788               | -0.00007407734               | -0.000414251820              |  0.000427148844              | -0.00006985121               |  0.00004586499               |  0.000171856297              |  0.000009994309              | -0.00003154715               |  0.000165147019              | -0.00019190609               | -0.00001732616               | -0.000245854307              | -0.000086216646              |  0.000002699570              | -0.00003328426               |  0.000060364693              | -0.000050056493              | -0.000012547348              |  0.000036904457              |  0.000120788385              | -0.00002843959               | -0.00016863977               | -0.000074359139              |  0.000076308120              |  0.000030693038              |  0.000003094589              |  0.000017553167              | -0.0000318000777             |  0.0000493328015             | -0.0000019588139             | -0.0000004406861             |  0.0000260358680             |  0.0000033348831             | -0.0000004110579             |  0.0000111016175             |  0.0000178366322             | -0.000001089741              | -0.0000100294256             |  0.0000037975278             |  0.0000030401923             |  0.0000030925761             |  0.00000618839502            |  0.0000008466388             | -0.00000076077962            | -0.00000051302744            |  0.000000089520594           |  0.00000003863118            |  0.000000008426198           | -0.0000000039875755          |  0.000000059708835           | -0.0000000000703030415       | -4.871805e-15                | -1.083274e-16                | -8.863425e-15                | -3.903675e-17                |  4.570940e-15                | -4.988665e-15                | -3.556498e-17                | -1.672347e-15                | -6.817995e-15                | -2.158047e-15                | -3.857608e-15                |  3.681215e-15                |  2.372734e-15                | -2.048403e-15                | -3.302254e-15                |  1.879605e-16                | -3.112359e-15                | -3.572772e-16                | -6.816311e-16                |  3.618329e-15                |  1.418247e-15                | -1.164436e-15                | -3.065683e-15                |  3.892516e-15                |  2.107453e-15                |  5.727682e-16                | -1.164448e-15                | 7.065634e-16                 | -4.429711e-16                |  2.349029e-16                | -2.624884e-16                | -6.841537e-16                |  1.595311e-15                | -5.614201e-16                | -4.324387e-15                | 32.11                        | -0.3828560446                | NO                           |\n",
       "| 1050                         | CECE                         | CECO ENVIRONMENTAL CORP      |   3.9532234                  | -0.7553386                   | -0.0754375                   | 0.3824019                    | -1.4772691                   |  1.6295762                   | -1.7417282                   |  4.0193246                   | -0.40386946                  |  0.43740189                  | -0.2450501                   | -0.2815124                   |  0.2882787                   |  1.2873906                   |  0.2362659                   | -0.2034695                   |  0.2576521                   | -0.1375479                   | -0.09761457                  |  0.01354828                  |  0.33991383                  | -0.2494386                   |  0.61549945                  |  0.2483715                   | -0.31180484                  | -0.08131449                  |  0.3949381                   | -0.2621053                   | -0.5860781                   | -0.9672057                   |  1.3418068                   | -0.3751708                   |  0.60379852                  | -0.099462658                 |  0.1211193                   | -0.52728669                  |  0.61756994                  | -1.31721777                  |  0.7113846                   | -0.88648348                  | -0.02536412                  |  0.28329422                  |  2.1338699                   | -2.3966200                   |  0.64697536                  | -0.376578172                 |  0.13601367                  | -0.05854781                  |  0.64890190                  | -0.59092189                  |  0.09557551                  | -0.1279636                   |  0.29839668                  | -0.14689831                  | -0.5524096                   | -0.1328577                   | -0.145950924                 | -0.119756809                 |  0.1758955                   |  0.28890269                  | -0.02625025                  | -0.43191620                  |  0.04750372                  |  0.129407554                 | -0.09616074                  | -0.06329210                  |  0.05669187                  | -0.09743002                  |  0.30611483                  | -0.09884216                  |  0.0177834                   | -0.03989357                  |  0.06999488                  |  0.009577996                 |  0.2639092                   | -0.06080459                  |  0.072692636                 | -0.03521832                  | -0.12149396                  |  0.02076264                  |  0.18886465                  | -0.068353208                 |  0.01605135                  |  0.12589850                  | -0.15308627                  | -0.13703644                  | -0.093762047                 | -0.1522233                   | -0.07502155                  |  0.05702755                  | -0.1124844                   | -0.02979309                  | -0.1487364                   |  0.09047053                  | -0.14573427                  |  0.17661689                  | -0.08838464                  | ...                          | -0.00001181348               |  0.00001768610               |  0.00002622097               |  0.00006982067               |  0.00009185737               |  0.00001757655               | -0.00000294668               | -0.00001293718               | -0.000004145498              | -0.000007294194              | -0.00001517805               | -0.00001193922               |  0.000017403268              |  0.000005835763              |  0.00003833353               |  0.00002125613               |  0.000028431478              |  0.000013808490              | -0.00002022487               | -0.000029716124              | -0.00000256018               |  0.00004500109               |  0.000009259931              | -0.000006300052              | -0.000007295263              |  0.00016982521               |  0.000009689276              |  0.000003814322              |  0.000010820500              |  0.000009867432              | -0.000006677376              |  0.00002475924               | -0.00002316481               | -0.000002900853              |  0.000006868278              | -0.000003000614              |  0.000008098985              |  0.000011122284              | -0.0000020509383             | -0.0000010954334             | -0.0000030476559             |  0.0000026719071             | -0.0000007418262             | -0.0000004637534             |  0.0000012713555             | -0.0000013759908             | -0.0000008280805             |  0.000001517230              | -0.0000002384134             | -0.0000002349892             | -0.0000003886081             | -0.0000002897895             | -0.00000005366144            |  0.0000030502021             | -0.00000006267149            |  0.00000010289588            | -0.000000002632942           |  0.00000003396794            |  0.000000006434167           | -0.0000000011427214          |  0.000000003723560           | -0.0000000000008919402       | -1.252097e-15                | -9.904034e-16                |  1.815816e-15                | -1.518655e-15                |  4.373336e-16                |  1.192354e-16                | -1.045003e-15                | -2.102072e-16                |  8.990706e-16                | -1.099936e-15                |  8.764447e-16                | -1.762329e-16                |  1.313819e-16                | -9.543305e-17                | -3.747435e-16                |  1.446129e-17                | -5.116371e-16                | -7.747743e-16                | -1.067198e-15                | -2.365438e-16                | -4.624082e-16                | -3.329163e-16                | -7.197907e-16                |  3.810503e-16                |  3.232416e-16                |  3.063482e-16                | -2.849618e-16                | 1.114190e-16                 |  5.207929e-17                | -8.600899e-17                | -2.181933e-17                | -1.132589e-16                |  7.036534e-16                | -2.955832e-16                |  1.270512e-16                |  6.75                        |  0.3157894737                | YES                          |\n",
       "| 1062                         | ASA                          | ASA GOLD AND PRECIOUS METALS |   3.6561434                  | -0.7981915                   |  0.5747387                   | 0.9472515                    |  1.0964242                   | -0.3917829                   |  0.9167008                   | -1.8407762                   | -0.09133025                  | -0.17936600                  |  0.5735521                   | -0.7219205                   | -0.2614258                   |  0.6286022                   |  0.2533000                   |  0.1233606                   | -0.4316422                   |  0.2438496                   |  0.61143074                  | -0.42921625                  |  0.01092949                  | -1.3929427                   | -0.09686668                  | -0.4272915                   |  0.05712958                  |  0.18191507                  | -1.0705043                   |  0.3281404                   |  1.0495254                   |  0.6447604                   | -0.3092847                   |  0.2634550                   |  0.01441784                  |  0.009774794                 |  0.3777850                   | -0.03077777                  |  0.05361038                  | -0.04329721                  | -0.1028666                   | -0.05136492                  |  0.26382082                  | -0.92915422                  |  0.1309160                   | -0.2109205                   |  0.03557058                  | -0.023649571                 |  0.04186500                  | -0.42966210                  |  0.30548507                  |  0.02502204                  | -0.14786745                  |  0.2598231                   |  0.17518809                  |  0.02291606                  |  0.1123231                   |  0.1743886                   |  0.002062698                 | -0.000748164                 | -0.3920582                   |  0.09080182                  | -0.26330123                  | -0.16485011                  | -0.11803253                  |  0.005397748                 |  0.04122645                  |  0.31698996                  | -0.03056918                  |  0.13775811                  | -0.02247183                  |  0.02092230                  | -0.0964358                   | -0.14187053                  |  0.25991868                  | -0.068767183                 | -0.1147308                   |  0.04888179                  |  0.008344784                 |  0.01053431                  |  0.07335232                  | -0.09000627                  | -0.03853696                  |  0.029697890                 |  0.21093481                  |  0.23610377                  | -0.11163721                  |  0.18308872                  |  0.107952557                 |  0.1185127                   | -0.21971826                  | -0.06036799                  |  0.2401116                   |  0.41667294                  |  0.1829576                   | -0.22683268                  | -0.03241723                  |  0.02232895                  |  0.19869091                  | ...                          | -0.00018662888               | -0.00003078232               |  0.00003793816               | -0.00013657555               | -0.00024110222               |  0.00001391781               | -0.00022076655               |  0.00009997611               |  0.000010057239              | -0.000225848602              | -0.00011018336               | -0.00003256120               | -0.000013533591              | -0.000046002074              | -0.00008053700               | -0.00024827436               | -0.000001560681              | -0.000119008547              |  0.00014417771               |  0.000044877532              | -0.00006554991               | -0.00006559287               | -0.000042835553              | -0.000005575786              |  0.000024989728              | -0.00004904959               | -0.000039679245              | -0.000017160246              |  0.000043514884              | -0.000012388982              | -0.000004564239              |  0.00001994474               |  0.00001350352               | -0.000003290079              |  0.000017121936              |  0.000001287549              | -0.000007259500              | -0.000011475480              | -0.0000005164561             |  0.0000015731816             | -0.0000042569642             |  0.0000041345825             | -0.0000010341692             |  0.0000027843487             | -0.0000027857832             |  0.0000059600753             |  0.0000055217544             | -0.000004676448              |  0.0000020584434             | -0.0000005670192             |  0.0000009061321             |  0.0000008972170             | -0.00000030046137            | -0.0000008700649             |  0.00000028182222            | -0.00000006440563            |  0.000000040177788           | -0.00000002736558            | -0.000000002768560           | -0.0000000005463983          |  0.000000064168205           |  0.0000000000152351921       | -2.380808e-15                | -1.252596e-15                |  9.197250e-16                |  1.359120e-15                |  2.864752e-16                |  1.349180e-15                |  2.165725e-16                | -2.759655e-17                | -4.824837e-16                | -9.986673e-16                | -1.745402e-16                |  3.652038e-16                | -1.003499e-15                | -3.908381e-16                |  1.406569e-15                | -2.636366e-15                | -1.266227e-15                | -9.253904e-16                | -4.132299e-16                |  2.516615e-16                | -1.008309e-16                | -2.121314e-16                |  1.054006e-16                |  1.176156e-16                | -5.722920e-17                | -1.523293e-15                |  2.590721e-16                | 1.266470e-16                 | -6.401474e-16                | -3.273828e-16                |  1.651374e-16                |  8.013634e-16                | -1.021655e-16                | -3.437147e-16                | -4.277057e-16                |  8.66                        | -0.2164739518                | NO                           |\n",
       "| 1072                         | AVX                          | AVX CORP                     |   2.9282228                  | -0.7104200                   |  0.1640085                   | 0.5317080                    |  0.3809744                   | -2.0787585                   |  0.2194266                   | -0.5828688                   |  2.75599993                  | -1.80042773                  |  1.4246807                   |  0.5199072                   | -0.6314484                   | -7.4178654                   |  0.6216722                   | -0.9347407                   | -0.6342238                   | -0.9928027                   |  0.50677861                  | -0.99580119                  | -0.30899020                  | -1.1748072                   |  1.19231513                  | -2.6594114                   |  0.62123824                  | -0.21320871                  |  0.6228058                   |  0.9418865                   | -0.5638329                   | -0.5259058                   |  0.8018813                   |  0.6139924                   |  0.50866400                  | -0.127512527                 | -0.2144432                   | -0.31598395                  |  0.01592418                  |  0.05828582                  |  0.3964813                   |  0.66574347                  | -0.16458404                  |  0.08980529                  | -0.3523539                   |  0.6987686                   | -0.52948736                  | -0.183470287                 | -0.44203752                  |  0.13008562                  |  1.50644208                  | -0.32100824                  | -1.24187154                  |  1.0310505                   |  0.36937530                  | -0.83431974                  |  0.5569163                   |  1.2883497                   |  0.203530709                 | -0.901677833                 | -0.3192748                   |  1.60361698                  | -0.04631134                  | -1.07591425                  | -0.02203566                  | -0.107088585                 | -0.03790492                  | -0.05665197                  | -0.03311371                  | -0.28774437                  | -0.09116702                  |  0.27425113                  | -0.1048517                   | -0.01269286                  | -0.13599886                  |  0.072161435                 | -0.3612784                   | -0.11206318                  | -0.033630194                 |  0.13003257                  |  0.66566931                  | -0.11579796                  |  0.83014225                  | -0.036137964                 | -0.04760180                  | -0.06172764                  | -0.12733990                  |  0.07344089                  | -0.241589067                 | -0.4737773                   |  0.11759587                  |  0.09033773                  | -0.4519059                   |  0.31140353                  | -0.1634499                   |  0.42920485                  | -0.23271528                  |  0.01734157                  | -0.14928953                  | ...                          |  0.00010633474               | -0.00006640316               | -0.00016217565               | -0.00005816435               | -0.00004538928               | -0.00007486727               |  0.00008334228               | -0.00008243610               |  0.000035827953              |  0.000015768125              | -0.00008497170               | -0.00020743009               |  0.000004108083              | -0.000092350674              |  0.00005139071               | -0.00005445328               |  0.000188100097              |  0.000076969789              |  0.00002866169               |  0.000005992952              |  0.00002991980               | -0.00001469539               |  0.000077633108              |  0.000027523314              | -0.000029923652              | -0.00011935422               |  0.000011914519              | -0.000012718311              |  0.000002766716              | -0.000019679593              | -0.000038513172              | -0.00001316243               | -0.00006162181               | -0.000005998718              | -0.000012470114              |  0.000007892998              |  0.000008321378              |  0.000007423230              | -0.0000020733284             |  0.0000040246656             | -0.0000009148535             | -0.0000111235664             | -0.0000113367123             | -0.0000026941888             |  0.0000010526689             |  0.0000001002859             |  0.0000029497802             | -0.000005428544              | -0.0000002731504             |  0.0000001053182             | -0.0000007931794             | -0.0000002000167             | -0.00000102441062            | -0.0000002530185             |  0.00000016483608            | -0.00000031316927            |  0.000000010994311           | -0.00000001269928            |  0.000000004109668           |  0.0000000021809840          |  0.000000001100364           | -0.0000000000098810491       |  1.885014e-15                |  1.065790e-15                | -4.967741e-16                | -1.300015e-16                | -1.651276e-15                | -5.182525e-15                |  1.295742e-15                |  1.276147e-15                | -1.473464e-16                |  1.503519e-15                |  2.514985e-16                |  4.733738e-16                |  2.094632e-15                | -2.767905e-15                | -3.576210e-15                |  4.521072e-15                |  2.506633e-15                |  4.575195e-16                | -1.260594e-15                |  7.600125e-16                |  2.444574e-15                |  1.218616e-15                |  1.928950e-16                | -2.758753e-16                |  5.889252e-16                |  2.444935e-15                | -2.256474e-16                | 1.741613e-16                 |  2.227580e-16                | -1.437015e-16                |  4.020993e-16                | -1.794209e-15                | -6.991388e-16                |  1.404680e-15                |  1.418364e-15                | 15.25                        | -0.1184971098                | NO                           |\n",
       "| 1075                         | PNW                          | PINNACLE WEST CAPITAL CORP   |   0.3488491                  |  1.1389605                   | -0.3578312                   | 0.4864851                    |  1.4258804                   | -0.6473941                   |  1.6268031                   | -4.3147377                   | -0.63028018                  | -0.02072026                  |  0.2936045                   | -0.5269396                   | -0.2559957                   |  1.1217805                   |  0.0223046                   | -0.7377696                   | -0.8076057                   | -0.9825753                   |  0.03070531                  | -2.15072710                  | -0.82606477                  | -1.5094747                   |  0.80834093                  | -3.6872727                   |  0.94828374                  | -1.34444342                  |  2.8374420                   |  0.8613145                   | -2.7696178                   | -1.8756656                   |  2.0570613                   | -0.4709724                   |  0.37456172                  |  0.369541993                 | -0.3872488                   | -0.57812468                  | -0.65333253                  | -0.54816070                  |  0.4857411                   |  0.89770552                  | -0.58870642                  |  1.47209306                  |  0.6020450                   |  0.4214584                   |  0.38655741                  |  0.003056831                 | -0.39518289                  |  0.42596826                  | -0.01682259                  | -0.35415174                  | -0.16749865                  |  0.3941413                   |  0.40874194                  | -0.03917249                  | -0.1609666                   |  0.5113110                   | -0.009714298                 |  0.341697324                 | -0.7354169                   |  0.38805854                  | -0.61410087                  |  0.04801912                  | -0.25554608                  |  0.110103053                 | -0.32117493                  | -0.18507670                  |  0.02330003                  |  0.02090976                  | -0.32511236                  |  0.24863681                  | -0.8388087                   |  0.28084372                  | -0.06675396                  |  0.188665174                 | -0.9581977                   |  0.06377412                  | -0.067602976                 |  0.14567144                  |  0.11059997                  | -0.03965605                  | -0.64605787                  | -0.085704160                 | -0.03657915                  |  0.09777754                  |  0.02646322                  |  1.06136564                  |  1.074760016                 |  0.5319203                   | -1.24240153                  | -0.21701331                  |  1.3447953                   |  0.49030098                  |  0.2447243                   | -0.52064162                  | -0.44503385                  |  0.03778363                  |  0.58862342                  | ...                          |  0.00028425118               |  0.00030128042               | -0.00022233411               | -0.00039939448               | -0.00014728761               |  0.00008983655               |  0.00010508638               |  0.00016959983               | -0.000012373676              |  0.000209489404              | -0.00009389463               | -0.00010727174               |  0.000032884658              | -0.000032555118              |  0.00005498021               |  0.00014942456               |  0.000161184824              | -0.000115771899              |  0.00017985533               | -0.000209511741              |  0.00003808757               |  0.00002270963               | -0.000022637757              | -0.000033806231              |  0.000008010212              |  0.00015758450               |  0.000138066059              |  0.000071670368              |  0.000079681688              | -0.000002940125              | -0.000046769404              | -0.00025419995               |  0.00005585590               | -0.000028614442              |  0.000083869018              |  0.000004551968              |  0.000009557547              |  0.000005882998              |  0.0000075153338             |  0.0000004415492             |  0.0000071466481             |  0.0000076620336             | -0.0000124421138             | -0.0000099095150             |  0.0000037347056             | -0.0000020966728             | -0.0000036503146             | -0.000005243617              |  0.0000003409703             | -0.0000016564830             | -0.0000001693586             |  0.0000001825271             |  0.00000241656743            | -0.0000005760257             |  0.00000001968821            | -0.00000044922861            | -0.000000015951187           | -0.00000003963567            | -0.000000011555636           | -0.0000000005488992          | -0.000000035589796           | -0.0000000000360533549       | -1.327905e-15                | -7.590230e-16                | -1.671771e-15                |  1.041373e-15                |  2.642711e-15                | -5.613431e-16                |  4.555142e-16                |  1.313379e-15                | -1.351250e-15                |  1.290331e-15                | -1.461394e-15                | -5.008300e-16                | -1.906092e-15                | -9.288912e-16                | -1.331984e-15                | -2.727212e-15                |  1.545069e-15                | -5.922431e-16                |  4.019791e-16                | -2.778985e-15                |  3.951220e-16                |  1.824742e-15                | -7.973675e-16                | -5.446118e-16                | -3.279730e-15                | -9.811570e-16                | -9.372548e-19                | 1.380759e-16                 | -5.611458e-16                | -1.774379e-16                | -5.359962e-16                | -7.817063e-16                | -1.098554e-15                | -1.095139e-16                | -4.637025e-18                | 85.20                        |  0.0002347969                | NO                           |\n",
       "\n"
      ],
      "text/plain": [
       "  gvkey tic  conm                         PC1         PC2        PC3       \n",
       "1 1004  AIR  AAR CORP                       3.4371231 -0.2260719 -0.4220180\n",
       "2 1045  AAL  AMERICAN AIRLINES GROUP INC  -12.0332067  0.8045109 -5.9180179\n",
       "3 1050  CECE CECO ENVIRONMENTAL CORP        3.9532234 -0.7553386 -0.0754375\n",
       "4 1062  ASA  ASA GOLD AND PRECIOUS METALS   3.6561434 -0.7981915  0.5747387\n",
       "5 1072  AVX  AVX CORP                       2.9282228 -0.7104200  0.1640085\n",
       "6 1075  PNW  PINNACLE WEST CAPITAL CORP     0.3488491  1.1389605 -0.3578312\n",
       "  PC4       PC5        PC6        PC7        PC8        PC9         PC10       \n",
       "1 0.6326422 -1.5550509  0.5650989 -2.0762355  4.7809366  2.57837534 -1.08343819\n",
       "2 0.8018754 -6.7210451  3.0447560 -0.3546613  0.9115091 -0.08658059  3.11308754\n",
       "3 0.3824019 -1.4772691  1.6295762 -1.7417282  4.0193246 -0.40386946  0.43740189\n",
       "4 0.9472515  1.0964242 -0.3917829  0.9167008 -1.8407762 -0.09133025 -0.17936600\n",
       "5 0.5317080  0.3809744 -2.0787585  0.2194266 -0.5828688  2.75599993 -1.80042773\n",
       "6 0.4864851  1.4258804 -0.6473941  1.6268031 -4.3147377 -0.63028018 -0.02072026\n",
       "  PC11       PC12       PC13       PC14       PC15       PC16       PC17      \n",
       "1  1.0852790  0.7351277 -0.2918953 -6.8480433  1.3871612 -1.1200720 -0.2210991\n",
       "2  2.0981728  0.6351669 -2.3283523  1.9116502 -0.3221275 -0.7248502  0.7006368\n",
       "3 -0.2450501 -0.2815124  0.2882787  1.2873906  0.2362659 -0.2034695  0.2576521\n",
       "4  0.5735521 -0.7219205 -0.2614258  0.6286022  0.2533000  0.1233606 -0.4316422\n",
       "5  1.4246807  0.5199072 -0.6314484 -7.4178654  0.6216722 -0.9347407 -0.6342238\n",
       "6  0.2936045 -0.5269396 -0.2559957  1.1217805  0.0223046 -0.7377696 -0.8076057\n",
       "  PC18       PC19        PC20        PC21        PC22       PC23       \n",
       "1 -0.9914828  0.79834108 -0.20001133  0.31771792 -1.0539380  1.67813281\n",
       "2 -0.6671353  0.97108690 -0.17976843  1.29237646 -1.3577810  0.94279445\n",
       "3 -0.1375479 -0.09761457  0.01354828  0.33991383 -0.2494386  0.61549945\n",
       "4  0.2438496  0.61143074 -0.42921625  0.01092949 -1.3929427 -0.09686668\n",
       "5 -0.9928027  0.50677861 -0.99580119 -0.30899020 -1.1748072  1.19231513\n",
       "6 -0.9825753  0.03070531 -2.15072710 -0.82606477 -1.5094747  0.80834093\n",
       "  PC24       PC25        PC26        PC27       PC28       PC29      \n",
       "1 -0.8672219  0.37905631  1.16129629 -1.0867702  1.0412642  0.8547673\n",
       "2  1.0363612 -0.75825338  0.11103292 -0.9812441  0.6843918  0.7208754\n",
       "3  0.2483715 -0.31180484 -0.08131449  0.3949381 -0.2621053 -0.5860781\n",
       "4 -0.4272915  0.05712958  0.18191507 -1.0705043  0.3281404  1.0495254\n",
       "5 -2.6594114  0.62123824 -0.21320871  0.6228058  0.9418865 -0.5638329\n",
       "6 -3.6872727  0.94828374 -1.34444342  2.8374420  0.8613145 -2.7696178\n",
       "  PC30       PC31       PC32       PC33        PC34         PC35      \n",
       "1  0.1336883  0.9056983 -0.2780267  0.72462144  0.018625133  1.0475663\n",
       "2 -2.6043514  0.6555264 -3.3345707 -0.06006156  2.032854440 -0.1068628\n",
       "3 -0.9672057  1.3418068 -0.3751708  0.60379852 -0.099462658  0.1211193\n",
       "4  0.6447604 -0.3092847  0.2634550  0.01441784  0.009774794  0.3777850\n",
       "5 -0.5259058  0.8018813  0.6139924  0.50866400 -0.127512527 -0.2144432\n",
       "6 -1.8756656  2.0570613 -0.4709724  0.37456172  0.369541993 -0.3872488\n",
       "  PC36        PC37        PC38        PC39       PC40        PC41       \n",
       "1 -0.37038314 -0.09388485 -1.00864500  0.6290530 -0.56007039  0.13098834\n",
       "2 -1.35051571  0.82325819 -0.46516991 -1.0660042  0.69623790  0.09713277\n",
       "3 -0.52728669  0.61756994 -1.31721777  0.7113846 -0.88648348 -0.02536412\n",
       "4 -0.03077777  0.05361038 -0.04329721 -0.1028666 -0.05136492  0.26382082\n",
       "5 -0.31598395  0.01592418  0.05828582  0.3964813  0.66574347 -0.16458404\n",
       "6 -0.57812468 -0.65333253 -0.54816070  0.4857411  0.89770552 -0.58870642\n",
       "  PC42        PC43       PC44       PC45        PC46         PC47       \n",
       "1 -0.52265832  1.7038187 -2.7211571  0.34390112 -0.227859079  0.09971139\n",
       "2  0.63579594  1.1964207 -4.5067491  0.97925113 -1.070410962  0.42814534\n",
       "3  0.28329422  2.1338699 -2.3966200  0.64697536 -0.376578172  0.13601367\n",
       "4 -0.92915422  0.1309160 -0.2109205  0.03557058 -0.023649571  0.04186500\n",
       "5  0.08980529 -0.3523539  0.6987686 -0.52948736 -0.183470287 -0.44203752\n",
       "6  1.47209306  0.6020450  0.4214584  0.38655741  0.003056831 -0.39518289\n",
       "  PC48        PC49        PC50        PC51        PC52       PC53       \n",
       "1  0.57797892  0.29036026 -0.21928328  0.47636356 -0.1945795 -0.05066614\n",
       "2  2.33088693  2.10762751  0.92047411 -1.85621374  0.4288121 -1.15912845\n",
       "3 -0.05854781  0.64890190 -0.59092189  0.09557551 -0.1279636  0.29839668\n",
       "4 -0.42966210  0.30548507  0.02502204 -0.14786745  0.2598231  0.17518809\n",
       "5  0.13008562  1.50644208 -0.32100824 -1.24187154  1.0310505  0.36937530\n",
       "6  0.42596826 -0.01682259 -0.35415174 -0.16749865  0.3941413  0.40874194\n",
       "  PC54        PC55       PC56       PC57         PC58         PC59      \n",
       "1 -0.07005866 -0.4389614 -0.2723389 -0.099977768 -0.315330206  0.6652111\n",
       "2  1.85373854  2.0183663  0.2556869  2.780835347 -1.023148274 -0.9428606\n",
       "3 -0.14689831 -0.5524096 -0.1328577 -0.145950924 -0.119756809  0.1758955\n",
       "4  0.02291606  0.1123231  0.1743886  0.002062698 -0.000748164 -0.3920582\n",
       "5 -0.83431974  0.5569163  1.2883497  0.203530709 -0.901677833 -0.3192748\n",
       "6 -0.03917249 -0.1609666  0.5113110 -0.009714298  0.341697324 -0.7354169\n",
       "  PC60        PC61        PC62        PC63        PC64         PC65       \n",
       "1  0.59191807 -0.48702283 -0.34729539 -0.29551715 -0.284412824  0.40647730\n",
       "2 -3.79691645  1.09395455 -0.85121301  0.24275797 -4.382714627  4.13224542\n",
       "3  0.28890269 -0.02625025 -0.43191620  0.04750372  0.129407554 -0.09616074\n",
       "4  0.09080182 -0.26330123 -0.16485011 -0.11803253  0.005397748  0.04122645\n",
       "5  1.60361698 -0.04631134 -1.07591425 -0.02203566 -0.107088585 -0.03790492\n",
       "6  0.38805854 -0.61410087  0.04801912 -0.25554608  0.110103053 -0.32117493\n",
       "  PC66        PC67        PC68        PC69        PC70        PC71      \n",
       "1 -0.15538404 -0.05869476  0.58074474  0.23229255 -0.97475993  0.2748880\n",
       "2  0.02777669 -0.47221858  0.37071140 -0.29180971  0.86732843 -0.4634445\n",
       "3 -0.06329210  0.05669187 -0.09743002  0.30611483 -0.09884216  0.0177834\n",
       "4  0.31698996 -0.03056918  0.13775811 -0.02247183  0.02092230 -0.0964358\n",
       "5 -0.05665197 -0.03311371 -0.28774437 -0.09116702  0.27425113 -0.1048517\n",
       "6 -0.18507670  0.02330003  0.02090976 -0.32511236  0.24863681 -0.8388087\n",
       "  PC72        PC73        PC74         PC75       PC76        PC77        \n",
       "1  1.47194389 -0.26981678 -0.858540100  1.0660820 -1.48377211 -2.216605696\n",
       "2  1.61621822  0.95670017 -2.325266888 -2.0665724  1.58208810 -1.094227712\n",
       "3 -0.03989357  0.06999488  0.009577996  0.2639092 -0.06080459  0.072692636\n",
       "4 -0.14187053  0.25991868 -0.068767183 -0.1147308  0.04888179  0.008344784\n",
       "5 -0.01269286 -0.13599886  0.072161435 -0.3612784 -0.11206318 -0.033630194\n",
       "6  0.28084372 -0.06675396  0.188665174 -0.9581977  0.06377412 -0.067602976\n",
       "  PC78        PC79        PC80        PC81        PC82         PC83       \n",
       "1 -2.06770952 -4.03616804 -0.75023659 -3.81854383  1.856007787  1.59975313\n",
       "2  0.38887809 -1.31314302 -0.10117099  0.37890960  0.008623608  0.04303991\n",
       "3 -0.03521832 -0.12149396  0.02076264  0.18886465 -0.068353208  0.01605135\n",
       "4  0.01053431  0.07335232 -0.09000627 -0.03853696  0.029697890  0.21093481\n",
       "5  0.13003257  0.66566931 -0.11579796  0.83014225 -0.036137964 -0.04760180\n",
       "6  0.14567144  0.11059997 -0.03965605 -0.64605787 -0.085704160 -0.03657915\n",
       "  PC84        PC85        PC86        PC87         PC88       PC89       \n",
       "1 -0.66278074  2.42575448  0.81083565 -0.005509483  1.9140389  1.64882918\n",
       "2  1.51536084 -1.88864605 -1.08261296 -1.141746375 -0.1780104  0.19066343\n",
       "3  0.12589850 -0.15308627 -0.13703644 -0.093762047 -0.1522233 -0.07502155\n",
       "4  0.23610377 -0.11163721  0.18308872  0.107952557  0.1185127 -0.21971826\n",
       "5 -0.06172764 -0.12733990  0.07344089 -0.241589067 -0.4737773  0.11759587\n",
       "6  0.09777754  0.02646322  1.06136564  1.074760016  0.5319203 -1.24240153\n",
       "  PC90        PC91       PC92        PC93       PC94        PC95       \n",
       "1 -0.59361913  0.3067276 -1.62462093  0.2865575 -0.20572160 -0.14645964\n",
       "2 -0.27350081  0.2297969 -0.82274489  0.2819610  0.71363820  0.49379133\n",
       "3  0.05702755 -0.1124844 -0.02979309 -0.1487364  0.09047053 -0.14573427\n",
       "4 -0.06036799  0.2401116  0.41667294  0.1829576 -0.22683268 -0.03241723\n",
       "5  0.09033773 -0.4519059  0.31140353 -0.1634499  0.42920485 -0.23271528\n",
       "6 -0.21701331  1.3447953  0.49030098  0.2447243 -0.52064162 -0.44503385\n",
       "  PC96        PC97        ... PC641          PC642          PC643         \n",
       "1 -0.44112856 -0.12338222 ...  0.00008563764  0.00022746862 -0.00007650780\n",
       "2 -0.85793493 -0.07601763 ... -0.00054066876 -0.00017219789  0.00002649882\n",
       "3  0.17661689 -0.08838464 ... -0.00001181348  0.00001768610  0.00002622097\n",
       "4  0.02232895  0.19869091 ... -0.00018662888 -0.00003078232  0.00003793816\n",
       "5  0.01734157 -0.14928953 ...  0.00010633474 -0.00006640316 -0.00016217565\n",
       "6  0.03778363  0.58862342 ...  0.00028425118  0.00030128042 -0.00022233411\n",
       "  PC644          PC645          PC646          PC647          PC648         \n",
       "1  0.00002915370  0.00007547395 -0.00015238488 -0.00014919475 -0.00002906592\n",
       "2 -0.00009925925 -0.00113757663 -0.00037699848 -0.00010029565 -0.00024733814\n",
       "3  0.00006982067  0.00009185737  0.00001757655 -0.00000294668 -0.00001293718\n",
       "4 -0.00013657555 -0.00024110222  0.00001391781 -0.00022076655  0.00009997611\n",
       "5 -0.00005816435 -0.00004538928 -0.00007486727  0.00008334228 -0.00008243610\n",
       "6 -0.00039939448 -0.00014728761  0.00008983655  0.00010508638  0.00016959983\n",
       "  PC649           PC650           PC651          PC652          PC653          \n",
       "1  0.000043237916  0.000312392577  0.00029691890  0.00015236885  0.000148090698\n",
       "2  0.000108316388 -0.000230975191  0.00004181788 -0.00007407734 -0.000414251820\n",
       "3 -0.000004145498 -0.000007294194 -0.00001517805 -0.00001193922  0.000017403268\n",
       "4  0.000010057239 -0.000225848602 -0.00011018336 -0.00003256120 -0.000013533591\n",
       "5  0.000035827953  0.000015768125 -0.00008497170 -0.00020743009  0.000004108083\n",
       "6 -0.000012373676  0.000209489404 -0.00009389463 -0.00010727174  0.000032884658\n",
       "  PC654           PC655          PC656          PC657           PC658          \n",
       "1 -0.000161156023 -0.00003421426  0.00028855696  0.000154113664 -0.000162176478\n",
       "2  0.000427148844 -0.00006985121  0.00004586499  0.000171856297  0.000009994309\n",
       "3  0.000005835763  0.00003833353  0.00002125613  0.000028431478  0.000013808490\n",
       "4 -0.000046002074 -0.00008053700 -0.00024827436 -0.000001560681 -0.000119008547\n",
       "5 -0.000092350674  0.00005139071 -0.00005445328  0.000188100097  0.000076969789\n",
       "6 -0.000032555118  0.00005498021  0.00014942456  0.000161184824 -0.000115771899\n",
       "  PC659          PC660           PC661          PC662          PC663          \n",
       "1 -0.00028822508 -0.000101330149 -0.00004300331  0.00032482558  0.000082546432\n",
       "2 -0.00003154715  0.000165147019 -0.00019190609 -0.00001732616 -0.000245854307\n",
       "3 -0.00002022487 -0.000029716124 -0.00000256018  0.00004500109  0.000009259931\n",
       "4  0.00014417771  0.000044877532 -0.00006554991 -0.00006559287 -0.000042835553\n",
       "5  0.00002866169  0.000005992952  0.00002991980 -0.00001469539  0.000077633108\n",
       "6  0.00017985533 -0.000209511741  0.00003808757  0.00002270963 -0.000022637757\n",
       "  PC664           PC665           PC666          PC667          \n",
       "1 -0.000009533542 -0.000021616792  0.00020739534 -0.000044487222\n",
       "2 -0.000086216646  0.000002699570 -0.00003328426  0.000060364693\n",
       "3 -0.000006300052 -0.000007295263  0.00016982521  0.000009689276\n",
       "4 -0.000005575786  0.000024989728 -0.00004904959 -0.000039679245\n",
       "5  0.000027523314 -0.000029923652 -0.00011935422  0.000011914519\n",
       "6 -0.000033806231  0.000008010212  0.00015758450  0.000138066059\n",
       "  PC668           PC669           PC670           PC671          \n",
       "1 -0.000085922027  0.000004819613 -0.000190430166 -0.000036292968\n",
       "2 -0.000050056493 -0.000012547348  0.000036904457  0.000120788385\n",
       "3  0.000003814322  0.000010820500  0.000009867432 -0.000006677376\n",
       "4 -0.000017160246  0.000043514884 -0.000012388982 -0.000004564239\n",
       "5 -0.000012718311  0.000002766716 -0.000019679593 -0.000038513172\n",
       "6  0.000071670368  0.000079681688 -0.000002940125 -0.000046769404\n",
       "  PC672          PC673          PC674           PC675           PC676          \n",
       "1 -0.00006708483 -0.00006753966  0.000176456586 -0.000033321117  0.000030015022\n",
       "2 -0.00002843959 -0.00016863977 -0.000074359139  0.000076308120  0.000030693038\n",
       "3  0.00002475924 -0.00002316481 -0.000002900853  0.000006868278 -0.000003000614\n",
       "4  0.00001994474  0.00001350352 -0.000003290079  0.000017121936  0.000001287549\n",
       "5 -0.00001316243 -0.00006162181 -0.000005998718 -0.000012470114  0.000007892998\n",
       "6 -0.00025419995  0.00005585590 -0.000028614442  0.000083869018  0.000004551968\n",
       "  PC677           PC678           PC679            PC680           \n",
       "1 -0.000012817335  0.000006835853 -0.0000124378999 -0.0000147975664\n",
       "2  0.000003094589  0.000017553167 -0.0000318000777  0.0000493328015\n",
       "3  0.000008098985  0.000011122284 -0.0000020509383 -0.0000010954334\n",
       "4 -0.000007259500 -0.000011475480 -0.0000005164561  0.0000015731816\n",
       "5  0.000008321378  0.000007423230 -0.0000020733284  0.0000040246656\n",
       "6  0.000009557547  0.000005882998  0.0000075153338  0.0000004415492\n",
       "  PC681            PC682            PC683            PC684           \n",
       "1 -0.0000082422385  0.0000147049155 -0.0000114649924 -0.0000023735536\n",
       "2 -0.0000019588139 -0.0000004406861  0.0000260358680  0.0000033348831\n",
       "3 -0.0000030476559  0.0000026719071 -0.0000007418262 -0.0000004637534\n",
       "4 -0.0000042569642  0.0000041345825 -0.0000010341692  0.0000027843487\n",
       "5 -0.0000009148535 -0.0000111235664 -0.0000113367123 -0.0000026941888\n",
       "6  0.0000071466481  0.0000076620336 -0.0000124421138 -0.0000099095150\n",
       "  PC685            PC686            PC687            PC688          \n",
       "1  0.0000155901469 -0.0000091170143  0.0000056229947 -0.000008896972\n",
       "2 -0.0000004110579  0.0000111016175  0.0000178366322 -0.000001089741\n",
       "3  0.0000012713555 -0.0000013759908 -0.0000008280805  0.000001517230\n",
       "4 -0.0000027857832  0.0000059600753  0.0000055217544 -0.000004676448\n",
       "5  0.0000010526689  0.0000001002859  0.0000029497802 -0.000005428544\n",
       "6  0.0000037347056 -0.0000020966728 -0.0000036503146 -0.000005243617\n",
       "  PC689            PC690            PC691            PC692           \n",
       "1  0.0000074087280 -0.0000020323700 -0.0000041194253 -0.0000020283956\n",
       "2 -0.0000100294256  0.0000037975278  0.0000030401923  0.0000030925761\n",
       "3 -0.0000002384134 -0.0000002349892 -0.0000003886081 -0.0000002897895\n",
       "4  0.0000020584434 -0.0000005670192  0.0000009061321  0.0000008972170\n",
       "5 -0.0000002731504  0.0000001053182 -0.0000007931794 -0.0000002000167\n",
       "6  0.0000003409703 -0.0000016564830 -0.0000001693586  0.0000001825271\n",
       "  PC693             PC694            PC695             PC696            \n",
       "1 -0.00000096241526 -0.0000030301529 -0.00000012171873 -0.00000065892936\n",
       "2  0.00000618839502  0.0000008466388 -0.00000076077962 -0.00000051302744\n",
       "3 -0.00000005366144  0.0000030502021 -0.00000006267149  0.00000010289588\n",
       "4 -0.00000030046137 -0.0000008700649  0.00000028182222 -0.00000006440563\n",
       "5 -0.00000102441062 -0.0000002530185  0.00000016483608 -0.00000031316927\n",
       "6  0.00000241656743 -0.0000005760257  0.00000001968821 -0.00000044922861\n",
       "  PC697              PC698             PC699              PC700              \n",
       "1 -0.000000025429232 -0.00000001472213 -0.000000001709997 -0.0000000174902837\n",
       "2  0.000000089520594  0.00000003863118  0.000000008426198 -0.0000000039875755\n",
       "3 -0.000000002632942  0.00000003396794  0.000000006434167 -0.0000000011427214\n",
       "4  0.000000040177788 -0.00000002736558 -0.000000002768560 -0.0000000005463983\n",
       "5  0.000000010994311 -0.00000001269928  0.000000004109668  0.0000000021809840\n",
       "6 -0.000000015951187 -0.00000003963567 -0.000000011555636 -0.0000000005488992\n",
       "  PC701              PC702                  PC703         PC704        \n",
       "1  0.000000003685460 -0.0000000000371690629  2.749943e-15  2.232783e-15\n",
       "2  0.000000059708835 -0.0000000000703030415 -4.871805e-15 -1.083274e-16\n",
       "3  0.000000003723560 -0.0000000000008919402 -1.252097e-15 -9.904034e-16\n",
       "4  0.000000064168205  0.0000000000152351921 -2.380808e-15 -1.252596e-15\n",
       "5  0.000000001100364 -0.0000000000098810491  1.885014e-15  1.065790e-15\n",
       "6 -0.000000035589796 -0.0000000000360533549 -1.327905e-15 -7.590230e-16\n",
       "  PC705         PC706         PC707         PC708         PC709        \n",
       "1  1.638312e-15 -1.329728e-17 -2.897635e-15 -3.662328e-15  1.967679e-15\n",
       "2 -8.863425e-15 -3.903675e-17  4.570940e-15 -4.988665e-15 -3.556498e-17\n",
       "3  1.815816e-15 -1.518655e-15  4.373336e-16  1.192354e-16 -1.045003e-15\n",
       "4  9.197250e-16  1.359120e-15  2.864752e-16  1.349180e-15  2.165725e-16\n",
       "5 -4.967741e-16 -1.300015e-16 -1.651276e-15 -5.182525e-15  1.295742e-15\n",
       "6 -1.671771e-15  1.041373e-15  2.642711e-15 -5.613431e-16  4.555142e-16\n",
       "  PC710         PC711         PC712         PC713         PC714        \n",
       "1  7.224142e-16  7.817761e-16  7.554270e-16 -1.085275e-15  1.320930e-15\n",
       "2 -1.672347e-15 -6.817995e-15 -2.158047e-15 -3.857608e-15  3.681215e-15\n",
       "3 -2.102072e-16  8.990706e-16 -1.099936e-15  8.764447e-16 -1.762329e-16\n",
       "4 -2.759655e-17 -4.824837e-16 -9.986673e-16 -1.745402e-16  3.652038e-16\n",
       "5  1.276147e-15 -1.473464e-16  1.503519e-15  2.514985e-16  4.733738e-16\n",
       "6  1.313379e-15 -1.351250e-15  1.290331e-15 -1.461394e-15 -5.008300e-16\n",
       "  PC715         PC716         PC717         PC718         PC719        \n",
       "1  4.709314e-15 -1.569954e-15 -2.855368e-15  6.988314e-15  8.845707e-16\n",
       "2  2.372734e-15 -2.048403e-15 -3.302254e-15  1.879605e-16 -3.112359e-15\n",
       "3  1.313819e-16 -9.543305e-17 -3.747435e-16  1.446129e-17 -5.116371e-16\n",
       "4 -1.003499e-15 -3.908381e-16  1.406569e-15 -2.636366e-15 -1.266227e-15\n",
       "5  2.094632e-15 -2.767905e-15 -3.576210e-15  4.521072e-15  2.506633e-15\n",
       "6 -1.906092e-15 -9.288912e-16 -1.331984e-15 -2.727212e-15  1.545069e-15\n",
       "  PC720         PC721         PC722         PC723         PC724        \n",
       "1  9.463580e-16 -6.353867e-16  2.631464e-15  4.276961e-15 -3.154353e-16\n",
       "2 -3.572772e-16 -6.816311e-16  3.618329e-15  1.418247e-15 -1.164436e-15\n",
       "3 -7.747743e-16 -1.067198e-15 -2.365438e-16 -4.624082e-16 -3.329163e-16\n",
       "4 -9.253904e-16 -4.132299e-16  2.516615e-16 -1.008309e-16 -2.121314e-16\n",
       "5  4.575195e-16 -1.260594e-15  7.600125e-16  2.444574e-15  1.218616e-15\n",
       "6 -5.922431e-16  4.019791e-16 -2.778985e-15  3.951220e-16  1.824742e-15\n",
       "  PC725         PC726         PC727         PC728         PC729        \n",
       "1 -6.956691e-16 -6.199599e-16  3.765624e-16  1.426058e-15  1.656734e-16\n",
       "2 -3.065683e-15  3.892516e-15  2.107453e-15  5.727682e-16 -1.164448e-15\n",
       "3 -7.197907e-16  3.810503e-16  3.232416e-16  3.063482e-16 -2.849618e-16\n",
       "4  1.054006e-16  1.176156e-16 -5.722920e-17 -1.523293e-15  2.590721e-16\n",
       "5  1.928950e-16 -2.758753e-16  5.889252e-16  2.444935e-15 -2.256474e-16\n",
       "6 -7.973675e-16 -5.446118e-16 -3.279730e-15 -9.811570e-16 -9.372548e-19\n",
       "  PC730        PC731         PC732         PC733         PC734        \n",
       "1 5.379661e-16 -1.704044e-16 -1.895256e-16  5.748453e-17  1.725892e-15\n",
       "2 7.065634e-16 -4.429711e-16  2.349029e-16 -2.624884e-16 -6.841537e-16\n",
       "3 1.114190e-16  5.207929e-17 -8.600899e-17 -2.181933e-17 -1.132589e-16\n",
       "4 1.266470e-16 -6.401474e-16 -3.273828e-16  1.651374e-16  8.013634e-16\n",
       "5 1.741613e-16  2.227580e-16 -1.437015e-16  4.020993e-16 -1.794209e-15\n",
       "6 1.380759e-16 -5.611458e-16 -1.774379e-16 -5.359962e-16 -7.817063e-16\n",
       "  PC735         PC736         PC737         prccq growth        big_growth\n",
       "1  2.401331e-15  2.485394e-15  1.394361e-15 43.69  0.0507455507 NO        \n",
       "2  1.595311e-15 -5.614201e-16 -4.324387e-15 32.11 -0.3828560446 NO        \n",
       "3  7.036534e-16 -2.955832e-16  1.270512e-16  6.75  0.3157894737 YES       \n",
       "4 -1.021655e-16 -3.437147e-16 -4.277057e-16  8.66 -0.2164739518 NO        \n",
       "5 -6.991388e-16  1.404680e-15  1.418364e-15 15.25 -0.1184971098 NO        \n",
       "6 -1.098554e-15 -1.095139e-16 -4.637025e-18 85.20  0.0002347969 NO        "
      ]
     },
     "metadata": {},
     "output_type": "display_data"
    }
   ],
   "source": [
    "# Retrieve \"My Data.csv\"\n",
    "\n",
    "# Present a few rows ...\n"
   ]
  },
  {
   "cell_type": "markdown",
   "metadata": {},
   "source": [
    "## Classification Model\n",
    "\n",
    "_<< Discuss this model construction and evaluation. >>_"
   ]
  },
  {
   "cell_type": "markdown",
   "metadata": {},
   "source": [
    "### Build Model"
   ]
  },
  {
   "cell_type": "code",
   "execution_count": 5,
   "metadata": {},
   "outputs": [
    {
     "data": {
      "text/plain": [
       "\n",
       "Naive Bayes Classifier for Discrete Predictors\n",
       "\n",
       "Call:\n",
       "naiveBayes.default(x = X, y = Y, laplace = laplace)\n",
       "\n",
       "A-priori probabilities:\n",
       "Y\n",
       "        NO        YES \n",
       "0.91637631 0.08362369 \n",
       "\n",
       "Conditional probabilities:\n",
       "     PC1\n",
       "Y           [,1]      [,2]\n",
       "  NO  -0.2239142 13.299922\n",
       "  YES  2.4537263  4.550796\n",
       "\n",
       "     PC2\n",
       "Y           [,1]     [,2]\n",
       "  NO   0.0424303 7.676443\n",
       "  YES -0.4649654 1.453473\n"
      ]
     },
     "metadata": {},
     "output_type": "display_data"
    }
   ],
   "source": [
    "# Construct a naive Bayes model to predict big_growth given PC1 and PC2 (use laplace=TRUE).\n",
    "# Present a brief summary of the model parameters.\n"
   ]
  },
  {
   "cell_type": "markdown",
   "metadata": {},
   "source": [
    "### In-Sample Estimated Performance"
   ]
  },
  {
   "cell_type": "code",
   "execution_count": 6,
   "metadata": {},
   "outputs": [
    {
     "data": {
      "text/html": [
       "<table>\n",
       "<caption><center><font color=\"black\"><b>In-Sample Estimated Performance</b></font></center></caption>\n",
       " <thead>\n",
       "  <tr>\n",
       "   <th style=\"text-align:right;background-color: #FFFFFF !important;\"> accuracy </th>\n",
       "   <th style=\"text-align:right;background-color: #FFFFFF !important;\"> profit </th>\n",
       "   <th style=\"text-align:right;background-color: #FFFFFF !important;\"> profit_rate </th>\n",
       "  </tr>\n",
       " </thead>\n",
       "<tbody>\n",
       "  <tr>\n",
       "   <td style=\"text-align:right;\"> 0.3082462 </td>\n",
       "   <td style=\"text-align:right;\"> -80393.21 </td>\n",
       "   <td style=\"text-align:right;\"> -0.0803932 </td>\n",
       "  </tr>\n",
       "</tbody>\n",
       "</table>"
      ]
     },
     "metadata": {},
     "output_type": "display_data"
    }
   ],
   "source": [
    "# Present the model's in-sample estimated accuracy, profit, and profit rate at cutoff=0.5.\n"
   ]
  },
  {
   "cell_type": "markdown",
   "metadata": {},
   "source": [
    "### Out-of-Sample Estimated Performance"
   ]
  },
  {
   "cell_type": "code",
   "execution_count": 7,
   "metadata": {},
   "outputs": [
    {
     "data": {
      "text/html": [
       "<table><tr><td style=\"background-color:white; vertical-align:top; padding-right:40px;\"><table>\n",
       "<caption><center><font color=\"black\"><b>size(data.train)</b></font></center></caption>\n",
       " <thead>\n",
       "  <tr>\n",
       "   <th style=\"text-align:right;background-color: #FFFFFF !important;\"> observations </th>\n",
       "   <th style=\"text-align:right;background-color: #FFFFFF !important;\"> variables </th>\n",
       "  </tr>\n",
       " </thead>\n",
       "<tbody>\n",
       "  <tr>\n",
       "   <td style=\"text-align:right;\"> 3228 </td>\n",
       "   <td style=\"text-align:right;\"> 743 </td>\n",
       "  </tr>\n",
       "</tbody>\n",
       "</table></td><td style=\"background-color:white; vertical-align:top;\"><table>\n",
       "<caption><center><font color=\"black\"><b>size(data.dev)</b></font></center></caption>\n",
       " <thead>\n",
       "  <tr>\n",
       "   <th style=\"text-align:right;background-color: #FFFFFF !important;\"> observations </th>\n",
       "   <th style=\"text-align:right;background-color: #FFFFFF !important;\"> variables </th>\n",
       "  </tr>\n",
       " </thead>\n",
       "<tbody>\n",
       "  <tr>\n",
       "   <td style=\"text-align:right;\"> 1077 </td>\n",
       "   <td style=\"text-align:right;\"> 743 </td>\n",
       "  </tr>\n",
       "</tbody>\n",
       "</table></td></tr></table>"
      ]
     },
     "metadata": {},
     "output_type": "display_data"
    }
   ],
   "source": [
    "# Partition the data into training (75%) and validation (25%)\n",
    "# (use set.seed(0) and sample(...) to choose training observations).\n",
    "# How many observations and variables in the training data?\n",
    "# How many observations and variables in the validation data?\n"
   ]
  },
  {
   "cell_type": "code",
   "execution_count": 8,
   "metadata": {},
   "outputs": [
    {
     "data": {
      "text/html": [
       "<table>\n",
       "<caption><center><font color=\"black\"><b>Out-of-Sample Estimated Performance</b></font></center></caption>\n",
       " <thead>\n",
       "  <tr>\n",
       "   <th style=\"text-align:right;background-color: #FFFFFF !important;\"> accuracy </th>\n",
       "   <th style=\"text-align:right;background-color: #FFFFFF !important;\"> profit </th>\n",
       "   <th style=\"text-align:right;background-color: #FFFFFF !important;\"> profit_rate </th>\n",
       "  </tr>\n",
       " </thead>\n",
       "<tbody>\n",
       "  <tr>\n",
       "   <td style=\"text-align:right;\"> 0.2989786 </td>\n",
       "   <td style=\"text-align:right;\"> -120201.9 </td>\n",
       "   <td style=\"text-align:right;\"> -0.1202019 </td>\n",
       "  </tr>\n",
       "</tbody>\n",
       "</table>"
      ]
     },
     "metadata": {},
     "output_type": "display_data"
    }
   ],
   "source": [
    "# Present the model's out-of-sample estimated accuracy, profit, and profit rate at cutoff=0.5.\n"
   ]
  },
  {
   "cell_type": "markdown",
   "metadata": {},
   "source": [
    "### 5-Fold Cross-Validation Estimated Performance"
   ]
  },
  {
   "cell_type": "code",
   "execution_count": 9,
   "metadata": {},
   "outputs": [
    {
     "name": "stdout",
     "output_type": "stream",
     "text": [
      "List of 5\n",
      " $ Fold1: int [1:861] 9 13 17 19 31 42 44 54 60 66 ...\n",
      " $ Fold2: int [1:861] 1 2 6 11 16 25 32 49 55 59 ...\n",
      " $ Fold3: int [1:861] 4 8 14 22 28 34 40 45 50 52 ...\n",
      " $ Fold4: int [1:861] 3 5 15 18 21 24 26 27 30 36 ...\n",
      " $ Fold5: int [1:861] 7 10 12 20 23 29 33 35 37 46 ...\n"
     ]
    }
   ],
   "source": [
    "# Partition the data into 5 folds (use set.seed(0) and createFolds(...)).\n",
    "# Present the first few observation (row) numbers for each of the folds.\n",
    "#\n",
    "# You can use the str() function.\n"
   ]
  },
  {
   "cell_type": "code",
   "execution_count": 10,
   "metadata": {},
   "outputs": [
    {
     "data": {
      "text/html": [
       "<table>\n",
       "<thead><tr><th scope=col>fold</th><th scope=col>accuracy</th><th scope=col>profit</th></tr></thead>\n",
       "<tbody>\n",
       "\t<tr><td>1         </td><td>0.3042973 </td><td>-221281.10</td></tr>\n",
       "\t<tr><td>2         </td><td>0.9163763 </td><td> -90115.24</td></tr>\n",
       "\t<tr><td>3         </td><td>0.2659698 </td><td> -28710.93</td></tr>\n",
       "\t<tr><td>4         </td><td>0.2950058 </td><td> -89837.99</td></tr>\n",
       "\t<tr><td>5         </td><td>0.3066202 </td><td>  31939.77</td></tr>\n",
       "</tbody>\n",
       "</table>\n"
      ],
      "text/latex": [
       "\\begin{tabular}{r|lll}\n",
       " fold & accuracy & profit\\\\\n",
       "\\hline\n",
       "\t 1          & 0.3042973  & -221281.10\\\\\n",
       "\t 2          & 0.9163763  &  -90115.24\\\\\n",
       "\t 3          & 0.2659698  &  -28710.93\\\\\n",
       "\t 4          & 0.2950058  &  -89837.99\\\\\n",
       "\t 5          & 0.3066202  &   31939.77\\\\\n",
       "\\end{tabular}\n"
      ],
      "text/markdown": [
       "\n",
       "| fold | accuracy | profit |\n",
       "|---|---|---|\n",
       "| 1          | 0.3042973  | -221281.10 |\n",
       "| 2          | 0.9163763  |  -90115.24 |\n",
       "| 3          | 0.2659698  |  -28710.93 |\n",
       "| 4          | 0.2950058  |  -89837.99 |\n",
       "| 5          | 0.3066202  |   31939.77 |\n",
       "\n"
      ],
      "text/plain": [
       "  fold accuracy  profit    \n",
       "1 1    0.3042973 -221281.10\n",
       "2 2    0.9163763  -90115.24\n",
       "3 3    0.2659698  -28710.93\n",
       "4 4    0.2950058  -89837.99\n",
       "5 5    0.3066202   31939.77"
      ]
     },
     "metadata": {},
     "output_type": "display_data"
    }
   ],
   "source": [
    "# Present the model's estimated accuracy and profit at cutoff=0.5 for each fold.\n"
   ]
  },
  {
   "cell_type": "code",
   "execution_count": 11,
   "metadata": {},
   "outputs": [
    {
     "data": {
      "text/html": [
       "<table>\n",
       "<caption><center><font color=\"black\"><b>5-Fold Cross-Validation Estimated Performance</b></font></center></caption>\n",
       " <thead>\n",
       "  <tr>\n",
       "   <th style=\"text-align:right;background-color: #FFFFFF !important;\"> accuracy.cv </th>\n",
       "   <th style=\"text-align:right;background-color: #FFFFFF !important;\"> profit.cv </th>\n",
       "   <th style=\"text-align:right;background-color: #FFFFFF !important;\"> profit_rate.cv </th>\n",
       "  </tr>\n",
       " </thead>\n",
       "<tbody>\n",
       "  <tr>\n",
       "   <td style=\"text-align:right;\"> 0.4176539 </td>\n",
       "   <td style=\"text-align:right;\"> -79601.1 </td>\n",
       "   <td style=\"text-align:right;\"> -0.0796011 </td>\n",
       "  </tr>\n",
       "</tbody>\n",
       "</table>"
      ]
     },
     "metadata": {},
     "output_type": "display_data"
    }
   ],
   "source": [
    "# Present the model's 5-fold cross-validation estimated accuracy, profit, and profit rate at cutoff=0.5\n"
   ]
  },
  {
   "cell_type": "markdown",
   "metadata": {},
   "source": [
    "<font size=1;>\n",
    "<p style=\"text-align: left;\">\n",
    "Copyright (c) Berkeley Data Analytics Group, LLC\n",
    "<span style=\"float: right;\">\n",
    "Document revised May 26, 2020\n",
    "</span>\n",
    "</p>\n",
    "</font>"
   ]
  }
 ],
 "metadata": {
  "hide_code_all_hidden": false,
  "hide_input": false,
  "kernelspec": {
   "display_name": "R",
   "language": "R",
   "name": "ir"
  },
  "language_info": {
   "codemirror_mode": "r",
   "file_extension": ".r",
   "mimetype": "text/x-r-source",
   "name": "R",
   "pygments_lexer": "r",
   "version": "3.6.1"
  },
  "toc": {
   "base_numbering": 1,
   "nav_menu": {},
   "number_sections": true,
   "sideBar": true,
   "skip_h1_title": true,
   "title_cell": "Table of Contents",
   "title_sidebar": "Contents",
   "toc_cell": false,
   "toc_position": {
    "height": "calc(100% - 180px)",
    "left": "10px",
    "top": "150px",
    "width": "256.396px"
   },
   "toc_section_display": true,
   "toc_window_display": true
  }
 },
 "nbformat": 4,
 "nbformat_minor": 2
}
