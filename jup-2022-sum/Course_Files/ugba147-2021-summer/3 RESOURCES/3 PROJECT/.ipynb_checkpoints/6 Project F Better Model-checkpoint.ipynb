{
 "cells": [
  {
   "cell_type": "markdown",
   "metadata": {
    "hideCode": false,
    "hidePrompt": false
   },
   "source": [
    "# Project Part F: Better Model\n",
    "\n",
    "![](banner_project.jpg)"
   ]
  },
  {
   "cell_type": "code",
   "execution_count": 1,
   "metadata": {},
   "outputs": [],
   "source": [
    "analyst = \"Firstname Lastname+\" # Replace this with your name"
   ]
  },
  {
   "cell_type": "code",
   "execution_count": 2,
   "metadata": {
    "hide_input": false
   },
   "outputs": [
    {
     "data": {
      "text/html": [
       "<p style=\"text-align:center; font-size:10px;\">\n",
       ".................................................... start of document ....................................................\n",
       "</p>"
      ]
     },
     "metadata": {},
     "output_type": "display_data"
    }
   ],
   "source": [
    "f = \"setup.R\"; for (i in 1:10) { if (file.exists(f)) break else f = paste0(\"../\", f) }; source(f)\n",
    "options(repr.matrix.max.rows=674)\n",
    "options(repr.matrix.max.cols=200)\n",
    "update_geom_defaults(\"point\", list(size=1))                                "
   ]
  },
  {
   "cell_type": "markdown",
   "metadata": {},
   "source": [
    "## Directions"
   ]
  },
  {
   "cell_type": "markdown",
   "metadata": {},
   "source": [
    "### Objective\n",
    "\n",
    "Recommend a portfolio of 12 company investments that maximizes 12-month return of an overall \\$1,000,000 investment."
   ]
  },
  {
   "cell_type": "markdown",
   "metadata": {},
   "source": [
    "### Approach\n",
    "\n",
    "_<< Discuss this approach >>_"
   ]
  },
  {
   "cell_type": "markdown",
   "metadata": {},
   "source": [
    "## Business Model\n",
    "\n",
    "_<< Discuss the business model (including investment criteria) and business parameters. >>_"
   ]
  },
  {
   "cell_type": "code",
   "execution_count": 5,
   "metadata": {},
   "outputs": [
    {
     "data": {
      "text/html": [
       "<table>\n",
       "<thead><tr><th scope=col>budget</th><th scope=col>portfolio_size</th></tr></thead>\n",
       "<tbody>\n",
       "\t<tr><td>1000000</td><td>12     </td></tr>\n",
       "</tbody>\n",
       "</table>\n"
      ],
      "text/latex": [
       "\\begin{tabular}{r|ll}\n",
       " budget & portfolio\\_size\\\\\n",
       "\\hline\n",
       "\t 1000000 & 12     \\\\\n",
       "\\end{tabular}\n"
      ],
      "text/markdown": [
       "\n",
       "| budget | portfolio_size |\n",
       "|---|---|\n",
       "| 1000000 | 12      |\n",
       "\n"
      ],
      "text/plain": [
       "  budget  portfolio_size\n",
       "1 1000000 12            "
      ]
     },
     "metadata": {},
     "output_type": "display_data"
    }
   ],
   "source": [
    "# Set the business parameters.\n",
    "\n",
    "budget = 1000000\n",
    "portfolio_size = 12\n",
    "\n",
    "data.frame(budget, portfolio_size)"
   ]
  },
  {
   "cell_type": "code",
   "execution_count": 4,
   "metadata": {},
   "outputs": [],
   "source": [
    "# Set any additional business parameters.\n"
   ]
  },
  {
   "cell_type": "markdown",
   "metadata": {},
   "source": [
    "## Build Model\n",
    "\n",
    "_<< Discuss this model construction. >>_"
   ]
  },
  {
   "cell_type": "code",
   "execution_count": 5,
   "metadata": {},
   "outputs": [],
   "source": [
    "# Retrieve \"My Data.csv\"\n",
    "#   ... OR ...\n",
    "# Retrieve \"Company Fundamentals 2017.csv\"\n",
    "\n",
    "# This is the ORIGINAL data.\n"
   ]
  },
  {
   "cell_type": "code",
   "execution_count": 6,
   "metadata": {},
   "outputs": [],
   "source": [
    "# Transform representation of data, if necessary\n"
   ]
  },
  {
   "cell_type": "code",
   "execution_count": 7,
   "metadata": {},
   "outputs": [],
   "source": [
    "# Construct a model to predict big_growth or growth.\n",
    "# Present a brief summary of the model parameters.\n"
   ]
  },
  {
   "cell_type": "markdown",
   "metadata": {},
   "source": [
    "## Evaluate Model (5-fold cross-validation)\n",
    "\n",
    "_<< Discuss this model evaluation. >>_"
   ]
  },
  {
   "cell_type": "code",
   "execution_count": 8,
   "metadata": {},
   "outputs": [],
   "source": [
    "# Calculate and present the model's estimated profit and profit rate.\n"
   ]
  },
  {
   "cell_type": "markdown",
   "metadata": {},
   "source": [
    "## Investment Opportunities\n",
    "\n",
    "_<< Discuss this handling of investment opportunties. >>_"
   ]
  },
  {
   "cell_type": "markdown",
   "metadata": {},
   "source": [
    "### Retrieve Data"
   ]
  },
  {
   "cell_type": "code",
   "execution_count": 9,
   "metadata": {},
   "outputs": [
    {
     "data": {
      "text/html": [
       "<table>\n",
       "<thead><tr><th scope=col>observations</th><th scope=col>variables</th></tr></thead>\n",
       "<tbody>\n",
       "\t<tr><td>918</td><td>680</td></tr>\n",
       "</tbody>\n",
       "</table>\n"
      ],
      "text/latex": [
       "\\begin{tabular}{r|ll}\n",
       " observations & variables\\\\\n",
       "\\hline\n",
       "\t 918 & 680\\\\\n",
       "\\end{tabular}\n"
      ],
      "text/markdown": [
       "\n",
       "| observations | variables |\n",
       "|---|---|\n",
       "| 918 | 680 |\n",
       "\n"
      ],
      "text/plain": [
       "  observations variables\n",
       "1 918          680      "
      ]
     },
     "metadata": {},
     "output_type": "display_data"
    }
   ],
   "source": [
    "# Retrieve \"Investment Opportunities.csv\"\n",
    "# Present the dataset size ...\n",
    "\n",
    "datax = read.csv(\"Investment Opportunities.csv\", header=TRUE)\n",
    "size(datax)"
   ]
  },
  {
   "cell_type": "markdown",
   "metadata": {},
   "source": [
    "### Transform Representation of Data "
   ]
  },
  {
   "cell_type": "code",
   "execution_count": 10,
   "metadata": {},
   "outputs": [],
   "source": [
    "# Transform representation of the investment opportunity data as required to match the\n",
    "# representation of the orginal ORIGINAL data.\n"
   ]
  },
  {
   "cell_type": "markdown",
   "metadata": {},
   "source": [
    "## Apply Model\n",
    "\n",
    "_<< Discuss this application of the model. >>_"
   ]
  },
  {
   "cell_type": "markdown",
   "metadata": {},
   "source": [
    "### Predict & Make Portfolio Recommendation"
   ]
  },
  {
   "cell_type": "code",
   "execution_count": 11,
   "metadata": {},
   "outputs": [],
   "source": [
    "# Use the model to predict growths of each investment opportunity.\n",
    "# Recommend a portfolio of allocations to 12 investment opportunities: gvkey, tic, conm, allocation\n"
   ]
  },
  {
   "cell_type": "markdown",
   "metadata": {},
   "source": [
    "### Store Portfolio Recommendation"
   ]
  },
  {
   "cell_type": "code",
   "execution_count": 12,
   "metadata": {},
   "outputs": [],
   "source": [
    "# write.csv(portfolio, paste0(analyst, \".csv\"), row.names=FALSE)\n"
   ]
  },
  {
   "cell_type": "markdown",
   "metadata": {},
   "source": [
    "### Confirm That Format Is Correct"
   ]
  },
  {
   "cell_type": "code",
   "execution_count": 6,
   "metadata": {},
   "outputs": [
    {
     "data": {
      "text/html": [
       "<table>\n",
       "<caption><center><font color=\"black\"><b>Portfolio Recommendation | Format Check</b></font></center></caption>\n",
       " <thead>\n",
       "  <tr>\n",
       "   <th style=\"text-align:right;background-color: #FFFFFF !important;\"> analyst </th>\n",
       "   <th style=\"text-align:right;background-color: #FFFFFF !important;\"> columns </th>\n",
       "   <th style=\"text-align:right;background-color: #FFFFFF !important;\"> companies </th>\n",
       "   <th style=\"text-align:right;background-color: #FFFFFF !important;\"> allocations </th>\n",
       "  </tr>\n",
       " </thead>\n",
       "<tbody>\n",
       "  <tr>\n",
       "   <td style=\"text-align:right;\"> Firstname Lastname+ </td>\n",
       "   <td style=\"text-align:right;\"> TRUE </td>\n",
       "   <td style=\"text-align:right;\"> TRUE </td>\n",
       "   <td style=\"text-align:right;\"> TRUE </td>\n",
       "  </tr>\n",
       "</tbody>\n",
       "</table>"
      ]
     },
     "metadata": {},
     "output_type": "display_data"
    }
   ],
   "source": [
    "portfolio.retrieved = read.csv(paste0(analyst, \".csv\"), header=TRUE)\n",
    "opportunities = unique(read.csv(\"Investment Opportunities.csv\", header=TRUE)$gvkey)\n",
    "\n",
    "columns = all(colnames(portfolio.retrieved) == c(\"gvkey\", \"tic\", \"conm\", \"allocation\"))\n",
    "companies = all(portfolio.retrieved$gvkey %in% opportunities)\n",
    "allocations = round(sum(portfolio.retrieved$allocation)) == budget\n",
    "                         \n",
    "check = data.frame(analyst, columns, companies, allocations)\n",
    "fmt(check, \"Portfolio Recommendation | Format Check\")"
   ]
  },
  {
   "cell_type": "markdown",
   "metadata": {},
   "source": [
    "<font size=1;>\n",
    "<p style=\"text-align: left;\">\n",
    "Copyright (c) Berkeley Data Analytics Group, LLC\n",
    "<span style=\"float: right;\">\n",
    "Document revised December 28, 2020\n",
    "</span>\n",
    "</p>\n",
    "</font>"
   ]
  }
 ],
 "metadata": {
  "hide_code_all_hidden": false,
  "hide_input": false,
  "kernelspec": {
   "display_name": "R",
   "language": "R",
   "name": "ir"
  },
  "language_info": {
   "codemirror_mode": "r",
   "file_extension": ".r",
   "mimetype": "text/x-r-source",
   "name": "R",
   "pygments_lexer": "r",
   "version": "3.6.1"
  },
  "toc": {
   "base_numbering": 1,
   "nav_menu": {},
   "number_sections": true,
   "sideBar": true,
   "skip_h1_title": true,
   "title_cell": "Table of Contents",
   "title_sidebar": "Contents",
   "toc_cell": false,
   "toc_position": {
    "height": "calc(100% - 180px)",
    "left": "10px",
    "top": "150px",
    "width": "256.396px"
   },
   "toc_section_display": true,
   "toc_window_display": true
  }
 },
 "nbformat": 4,
 "nbformat_minor": 2
}
