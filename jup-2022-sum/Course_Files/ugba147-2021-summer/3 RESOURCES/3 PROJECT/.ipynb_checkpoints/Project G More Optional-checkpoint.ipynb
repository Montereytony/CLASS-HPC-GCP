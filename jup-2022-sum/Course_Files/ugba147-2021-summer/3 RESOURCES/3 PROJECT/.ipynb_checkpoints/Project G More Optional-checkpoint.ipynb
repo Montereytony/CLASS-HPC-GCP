{
 "cells": [
  {
   "cell_type": "markdown",
   "metadata": {
    "hideCode": false,
    "hidePrompt": false
   },
   "source": [
    "# Project Part G: Better Models\n",
    "\n",
    "![](banner_project.jpg)"
   ]
  },
  {
   "cell_type": "code",
   "execution_count": 1,
   "metadata": {},
   "outputs": [],
   "source": [
    "analyst = \"Firstname Lastname\" # Replace this with your name"
   ]
  },
  {
   "cell_type": "code",
   "execution_count": 2,
   "metadata": {
    "hide_input": true
   },
   "outputs": [
    {
     "data": {
      "text/html": [
       "<p style=\"text-align:center; font-size:10px;\">\n",
       ".................................................... start of document ....................................................\n",
       "</p>"
      ]
     },
     "metadata": {},
     "output_type": "display_data"
    }
   ],
   "source": [
    "f = \"setup.R\"; for (i in 1:10) { if (file.exists(f)) break else f = paste0(\"../\", f) }; source(f)\n",
    "options(repr.matrix.max.rows=674)\n",
    "options(repr.matrix.max.cols=200)\n",
    "update_geom_defaults(\"point\", list(size=1))                                "
   ]
  },
  {
   "cell_type": "markdown",
   "metadata": {},
   "source": [
    "## Directions"
   ]
  },
  {
   "cell_type": "markdown",
   "metadata": {},
   "source": [
    "### Exploratory Data Analysis\n",
    "\n",
    "* **Objective:** Conduct an exploratory data analysis of a dataset about public company fundamentals.\n",
    "* **Approach:**  Retrieve a public company fundamentals dataset comprising thousands of US companies from quarters 1, 2, 3, and 4 of year 2017 + company stock price data for those companies from quarter 4 of year 2018.  Transform the dataset representation to capture all information about any single company in a single observation.  Apply various descriptive statistics, data visualizations (including kernel density estimates), and cross-tabulations to look for interesting patterns and inter-company relationships.\n",
    "\n",
    "### Representation\n",
    "\n",
    "* **Objective:**  Transform the representation of a dataset about public company fundamentals.\n",
    "* **Approach:**  Transform the dataset representation using variable filtration, imputation, principal component analysis, and/or other methods.\n",
    "\n",
    "### Build & Tune\n",
    "\n",
    "* **Objective:**  Construct and tune several classifiers and/or regressors, each trained on a transformed dataset about public company fundamentals.\n",
    "* **Approach:**  Construct models to predict stock performance, given 12 months of past company fundamentals data, and using a machine learning model construction methods and transformed data.  Tune the models by systematically selecting various combinations of predictor variables and cutoffs, and identify the best business performance based on a business model and business parameters.  Select the method that produces the best performing model as measured by cross-validation, and build a new model using that method based on all the orginal data. \n",
    "\n",
    "\n",
    "### Deployment\n",
    "* **Objective:** Recommend a portfolio of 12 company investments that maximizes 12-month return of an overall \\\\$1,000,000 investment.\n",
    "* **Approach:** Retrieve an investment opportunities dataset, comprising fundamentals for some set of public companies over some one-year period.  Transform the representation of the investment opportunities to match the representation expected by the model, leveraging previous analysis.  Use the model to make predictions about the investment opportunities and accordingly recommend a portfolio of 12 company investments."
   ]
  },
  {
   "cell_type": "markdown",
   "metadata": {},
   "source": [
    "### Data Source\n",
    "\n",
    "The data includes these files:\n",
    "\n",
    "* Data Dictionary.csv\n",
    "* Company Fundamentals 2017.csv\n",
    "* Company Fundamentals 2018.csv\n",
    "\n",
    "The dataset and accompanying data dictionary was sourced from ...\n",
    "\n",
    "* Wharton Research Data Services > Compustat - Capital IQ from Standard & Poor's > North America - Daily > Fundamentals Quarterly (https://wrds-www.wharton.upenn.edu/)\n",
    "\n",
    "  * Date Variable: Data Date\n",
    "  * Date Range: 2017-01 to 2017-12 -or- 2018-01 to 2018-12\n",
    "  * Company Codes: Search the entire database\n",
    "    * Consolidtaion Level: C, Output\n",
    "    * Industry Format: INDL, FS, Output\n",
    "    * Data Format: STD, Output\n",
    "    * Population Source: D, Output\n",
    "    * Quarter Type: Fiscal View, Output\n",
    "    * Currency: USD, Output (not CAD)\n",
    "    * Company Status: Active, Output (not Inactive)\n",
    "  * Variable Types: Data Items, Select All (674)\n",
    "  * Query output:\n",
    "    * Output format: comma-delimited text\n",
    "    * Compression type: None\n",
    "    * Data format: MMDDYY10\n",
    "\n",
    "The dataset is restricted to select US active, publicly held companies that reported quarterly measures including stock prices for 1st, 2nd, 3rd, and 4th quarters in years 2017 and 2018.  All non-missing stock prices exceed $3 per share.  File formats are all comma-separated values (CSV).\n",
    "\n",
    "The data dictionary is from Variable Descriptions tab, copied to Excel, saved in csv format."
   ]
  },
  {
   "cell_type": "markdown",
   "metadata": {},
   "source": [
    "## Business Model\n",
    "\n",
    "\n",
    "The business model is ...\n",
    "\n",
    "$ \\begin{align} profit = \\left( \\sum_{i \\in portfolio} (1 + growth_i) \\times allocation_i \\right) - budget \\end{align} $\n",
    "\n",
    "<br>\n",
    "\n",
    "$ profit\\,rate = profit \\div budget $\n",
    "\n",
    "\n",
    "$ \\begin{align} budget = \\sum_{i \\in portfolio} allocation_i \\end{align} $\n",
    "\n",
    "<br>\n",
    "\n",
    "Business model parameters include ...\n",
    "\n",
    "* Budget = \\\\$1,000,000: total investment to allocate across the companies in the portfolio\n",
    "* Portfolio Size = 12: number of companies in the portfolio\n",
    "* Allocations = ................... \n",
    "\n",
    "Fill the portfolio with companies that ..................."
   ]
  },
  {
   "cell_type": "code",
   "execution_count": 1,
   "metadata": {},
   "outputs": [],
   "source": [
    "# Set the business parameters.\n"
   ]
  },
  {
   "cell_type": "markdown",
   "metadata": {},
   "source": [
    "## Data\n",
    "\n",
    "_<< Discuss this data retrieval. >>_"
   ]
  },
  {
   "cell_type": "markdown",
   "metadata": {},
   "source": [
    "### Data Dictionary\n",
    "\n",
    "Retrieve and present the data dictionary for the company fundamentals datasets."
   ]
  },
  {
   "cell_type": "code",
   "execution_count": null,
   "metadata": {},
   "outputs": [],
   "source": [
    "# Retrieve the data dictionary.\n"
   ]
  },
  {
   "cell_type": "markdown",
   "metadata": {},
   "source": [
    "### Data for Current Year"
   ]
  },
  {
   "cell_type": "markdown",
   "metadata": {},
   "source": [
    "#### Retrieve Raw Data\n",
    "\n",
    "Retrieve the company fundamentals data for calendar year 2017."
   ]
  },
  {
   "cell_type": "code",
   "execution_count": null,
   "metadata": {},
   "outputs": [],
   "source": [
    "# Retrieve the 2017 data.\n"
   ]
  },
  {
   "cell_type": "markdown",
   "metadata": {},
   "source": [
    "#### Partition Data by Calendar Quarter \n",
    "\n",
    "To partition the dataset by calendar quarter in which information is reported, first add a synthetic variable to indicate such.  Then partition into four new datasets, one for each quarter, and drop the quarter variables. Additionally, filter the observations to include only those with non-missing `prccq` $\\geq$ 3.  Then remove any observations about companies that reported more than once per quarter.  Then change all the variable names (except for the `gvkey`, `tic`, and `conm` variables) by suffixing them with quarter information - e.g., in the Quarter 1 dataset, `prccq` becomes `prccq.q1`, etc."
   ]
  },
  {
   "cell_type": "code",
   "execution_count": null,
   "metadata": {},
   "outputs": [],
   "source": [
    "# Partition the dataset as described.\n"
   ]
  },
  {
   "cell_type": "markdown",
   "metadata": {},
   "source": [
    "#### Consolidate Data by Company\n",
    "\n",
    "Consolidate the four quarter datasets into one dataset, with one observation per company that includes variables for all four quarters.  Remove any observations with missing `prccq.q4` values."
   ]
  },
  {
   "cell_type": "code",
   "execution_count": null,
   "metadata": {},
   "outputs": [],
   "source": [
    "# Consolidate the partitions as described.\n"
   ]
  },
  {
   "cell_type": "markdown",
   "metadata": {},
   "source": [
    "### Data for Next Year"
   ]
  },
  {
   "cell_type": "markdown",
   "metadata": {},
   "source": [
    "#### Retrieve Raw Data\n",
    "\n",
    "Retrieve the company fundamentals data for calendar year 2018."
   ]
  },
  {
   "cell_type": "code",
   "execution_count": null,
   "metadata": {},
   "outputs": [],
   "source": [
    "# Retrieve the 2018 data.\n"
   ]
  },
  {
   "cell_type": "markdown",
   "metadata": {},
   "source": [
    "#### Filter Data by Calendar Quarter 4 \n",
    "\n",
    "To filter the dataset by calendar quarter in which information is reported, first add a synthetic variable to indicate such, and then select only observations with information reported in quarter 4. Additionally, filter the observations to include only those with non-missing `prccq`, and keep only the `gvkey` and `prccq` variables.  Then remove any observations about companies that reported more than once per quarter."
   ]
  },
  {
   "cell_type": "code",
   "execution_count": 3,
   "metadata": {},
   "outputs": [],
   "source": [
    "# Filter the dataset as described.\n"
   ]
  },
  {
   "cell_type": "markdown",
   "metadata": {},
   "source": [
    "### Data for Consolidated Current Year / Next Year\n",
    "\n",
    "Consolidate the processed 2017 dataset and processed 2018 dataset, keeping only observations that have both 2017 and 2018 information.  Then add appropriate synthetic variables."
   ]
  },
  {
   "cell_type": "code",
   "execution_count": null,
   "metadata": {},
   "outputs": [],
   "source": [
    "# Consolidate the datasets as described.\n"
   ]
  },
  {
   "cell_type": "markdown",
   "metadata": {},
   "source": [
    "## Exploratory Data Analysis\n",
    "\n",
    "_<< Discuss this exploratory data analysis and what insights you gleaned from it. >>_"
   ]
  },
  {
   "cell_type": "markdown",
   "metadata": {},
   "source": [
    "### Descriptive Statistics"
   ]
  },
  {
   "cell_type": "code",
   "execution_count": null,
   "metadata": {},
   "outputs": [],
   "source": [
    "# Apply descriptive statistics to the data"
   ]
  },
  {
   "cell_type": "code",
   "execution_count": null,
   "metadata": {},
   "outputs": [],
   "source": []
  },
  {
   "cell_type": "code",
   "execution_count": null,
   "metadata": {},
   "outputs": [],
   "source": []
  },
  {
   "cell_type": "markdown",
   "metadata": {},
   "source": [
    "### Data Visualization"
   ]
  },
  {
   "cell_type": "code",
   "execution_count": null,
   "metadata": {},
   "outputs": [],
   "source": [
    "# Visualize the data"
   ]
  },
  {
   "cell_type": "code",
   "execution_count": null,
   "metadata": {},
   "outputs": [],
   "source": []
  },
  {
   "cell_type": "code",
   "execution_count": null,
   "metadata": {},
   "outputs": [],
   "source": []
  },
  {
   "cell_type": "markdown",
   "metadata": {},
   "source": [
    "## Transform Representation of Data\n",
    "\n",
    "_<< Discuss this new representation of data. >>_"
   ]
  },
  {
   "cell_type": "code",
   "execution_count": null,
   "metadata": {},
   "outputs": [],
   "source": [
    "# Change the representation of the data"
   ]
  },
  {
   "cell_type": "code",
   "execution_count": null,
   "metadata": {},
   "outputs": [],
   "source": []
  },
  {
   "cell_type": "code",
   "execution_count": null,
   "metadata": {},
   "outputs": [],
   "source": []
  },
  {
   "cell_type": "markdown",
   "metadata": {},
   "source": [
    "## Build & Tune Models\n",
    "\n",
    "_<< Discuss this deployment. >>_"
   ]
  },
  {
   "cell_type": "markdown",
   "metadata": {},
   "source": [
    "### Try Several Methods to Build & Tune Several Models"
   ]
  },
  {
   "cell_type": "code",
   "execution_count": null,
   "metadata": {},
   "outputs": [],
   "source": [
    "# Construct several models using one method to predict stock performance.\n",
    "# Iterate through combinations of hyper-parameter settings.\n",
    "# Iterate through combinations of predictor variables.\n",
    "# Iterate through cutoff values.\n",
    "\n",
    "# Estimate each model's accuracy and profit, using 5-fold cross validation.\n"
   ]
  },
  {
   "cell_type": "code",
   "execution_count": null,
   "metadata": {},
   "outputs": [],
   "source": [
    "# Construct several models using one method to predict stock performance.\n",
    "# Iterate through combinations of hyper-parameter settings.\n",
    "# Iterate through combinations of predictor variables.\n",
    "# Iterate through cutoff values.\n",
    "\n",
    "# Estimate each model's accuracy and profit, using 5-fold cross validation.\n"
   ]
  },
  {
   "cell_type": "code",
   "execution_count": null,
   "metadata": {},
   "outputs": [],
   "source": [
    "# Construct several models using one method to predict stock performance.\n",
    "# Iterate through combinations of hyper-parameter settings.\n",
    "# Iterate through combinations of predictor variables.\n",
    "# Iterate through cutoff values.\n",
    "\n",
    "# Estimate each model's accuracy and profit, using 5-fold cross validation.\n"
   ]
  },
  {
   "cell_type": "markdown",
   "metadata": {},
   "source": [
    "### Select the Best Method & Build the Best Model"
   ]
  },
  {
   "cell_type": "code",
   "execution_count": 4,
   "metadata": {},
   "outputs": [],
   "source": [
    "# Construct a model using the method for the best performing model and\n",
    "# based on the ORIGINAL model training data.\n"
   ]
  },
  {
   "cell_type": "markdown",
   "metadata": {},
   "source": [
    "## Deployment\n",
    "\n",
    "_<< Discuss this deployment. >>_"
   ]
  },
  {
   "cell_type": "markdown",
   "metadata": {},
   "source": [
    "### Investment Opportunities"
   ]
  },
  {
   "cell_type": "code",
   "execution_count": 5,
   "metadata": {},
   "outputs": [],
   "source": [
    "# Retrieve \"Investment Opportunities.csv\"\n"
   ]
  },
  {
   "cell_type": "markdown",
   "metadata": {},
   "source": [
    "### Partition Investment Opportunities Data by Calendar Quarter \n",
    "\n",
    "To partition the dataset by calendar quarter in which information is reported, first add a synthetic variable to indicate such.  Then partition into four new datasets, one for each quarter, and drop the quarter variables. Additionally, filter the observations to include only those with non-missing `prccq`.  Then remove any observations about companies that reported more than once per quarter.  Then change all the variable names (except for the `gvkey`, `tic`, and `conm` variables) by suffixing them with quarter information - e.g., in the Quarter 1 dataset, `prccq` becomes `prccq.q1`, etc."
   ]
  },
  {
   "cell_type": "code",
   "execution_count": 7,
   "metadata": {},
   "outputs": [],
   "source": [
    "# Partition the dataset as described.\n"
   ]
  },
  {
   "cell_type": "markdown",
   "metadata": {},
   "source": [
    "### Consolidate Investment Opportunities Data by Company\n",
    "\n",
    "Consolidate the four quarter datasets into one dataset, with one observation per company that includes variables for all four quarters.  Remove any observations with missing `prccq.q4` values."
   ]
  },
  {
   "cell_type": "code",
   "execution_count": 6,
   "metadata": {},
   "outputs": [],
   "source": [
    "# Consolidate the partitions as described.\n"
   ]
  },
  {
   "cell_type": "markdown",
   "metadata": {},
   "source": [
    "### Transform Representation of Investment Opportunities Data"
   ]
  },
  {
   "cell_type": "code",
   "execution_count": null,
   "metadata": {},
   "outputs": [],
   "source": [
    "# Transform representation of data to conform to model expectations\n"
   ]
  },
  {
   "cell_type": "markdown",
   "metadata": {},
   "source": [
    "### Predict & Make Portfolio Recommendation"
   ]
  },
  {
   "cell_type": "code",
   "execution_count": 7,
   "metadata": {},
   "outputs": [],
   "source": [
    "# Use the model to predict stock performance of each investment opportunity.\n",
    "# Recommend a portfolio of allocations to 12 investment opportunities: gvkey, tic, conm, allocation\n"
   ]
  },
  {
   "cell_type": "markdown",
   "metadata": {},
   "source": [
    "### Store Portfolio Recommendation"
   ]
  },
  {
   "cell_type": "code",
   "execution_count": 15,
   "metadata": {},
   "outputs": [],
   "source": [
    "# Store portfolio recommendation\n",
    "\n",
    "write.csv(portfolio, paste0(analyst, \".csv\"), row.names=FALSE)"
   ]
  },
  {
   "cell_type": "markdown",
   "metadata": {},
   "source": [
    "### Confirm That Format Is Correct"
   ]
  },
  {
   "cell_type": "code",
   "execution_count": 16,
   "metadata": {},
   "outputs": [
    {
     "data": {
      "text/html": [
       "<table>\n",
       "<caption><center><font color=\"black\"><b>Portfolio Recommendation | Format Check</b></font></center></caption>\n",
       " <thead>\n",
       "  <tr>\n",
       "   <th style=\"text-align:right;background-color: #FFFFFF !important;\"> analyst </th>\n",
       "   <th style=\"text-align:right;background-color: #FFFFFF !important;\"> columns </th>\n",
       "   <th style=\"text-align:right;background-color: #FFFFFF !important;\"> companies </th>\n",
       "   <th style=\"text-align:right;background-color: #FFFFFF !important;\"> allocations </th>\n",
       "  </tr>\n",
       " </thead>\n",
       "<tbody>\n",
       "  <tr>\n",
       "   <td style=\"text-align:right;\"> Firstname Lastname </td>\n",
       "   <td style=\"text-align:right;\"> TRUE </td>\n",
       "   <td style=\"text-align:right;\"> TRUE </td>\n",
       "   <td style=\"text-align:right;\"> TRUE </td>\n",
       "  </tr>\n",
       "</tbody>\n",
       "</table>"
      ]
     },
     "metadata": {},
     "output_type": "display_data"
    }
   ],
   "source": [
    "portfolio.retrieved = read.csv(paste0(analyst, \".csv\"), header=TRUE)\n",
    "opportunities = unique(read.csv(\"Investment Opportunities.csv\", header=TRUE)$gvkey)\n",
    "\n",
    "columns = all(colnames(portfolio.retrieved) == c(\"gvkey\", \"tic\", \"conm\", \"allocation\"))\n",
    "companies = all(portfolio.retrieved$gvkey %in% opportunities)\n",
    "allocations = round(sum(portfolio.retrieved$allocation)) == budget\n",
    "                         \n",
    "check = data.frame(analyst, columns, companies, allocations)\n",
    "fmt(check, \"Portfolio Recommendation | Format Check\")"
   ]
  },
  {
   "cell_type": "markdown",
   "metadata": {},
   "source": [
    "<font size=1;>\n",
    "<p style=\"text-align: left;\">\n",
    "Copyright (c) Berkeley Data Analytics Group, LLC\n",
    "<span style=\"float: right;\">\n",
    "Document revised June 29, 2020\n",
    "</span>\n",
    "</p>\n",
    "</font>"
   ]
  }
 ],
 "metadata": {
  "hide_code_all_hidden": false,
  "hide_input": false,
  "kernelspec": {
   "display_name": "R",
   "language": "R",
   "name": "ir"
  },
  "language_info": {
   "codemirror_mode": "r",
   "file_extension": ".r",
   "mimetype": "text/x-r-source",
   "name": "R",
   "pygments_lexer": "r",
   "version": "3.6.1"
  },
  "toc": {
   "base_numbering": 1,
   "nav_menu": {},
   "number_sections": true,
   "sideBar": true,
   "skip_h1_title": true,
   "title_cell": "Table of Contents",
   "title_sidebar": "Contents",
   "toc_cell": false,
   "toc_position": {
    "height": "calc(100% - 180px)",
    "left": "10px",
    "top": "150px",
    "width": "256.396px"
   },
   "toc_section_display": true,
   "toc_window_display": true
  }
 },
 "nbformat": 4,
 "nbformat_minor": 2
}
