{
 "cells": [
  {
   "cell_type": "markdown",
   "metadata": {
    "hideCode": false,
    "hidePrompt": false
   },
   "source": [
    "# Project Part F: All Together Now\n",
    "\n",
    "![](banner_project.jpg)"
   ]
  },
  {
   "cell_type": "code",
   "execution_count": null,
   "metadata": {
    "hide_input": false
   },
   "outputs": [],
   "source": [
    "f = \"setup.R\"; for (i in 1:10) { if (file.exists(f)) break else f = paste0(\"../\", f) }; source(f)\n",
    "options(repr.matrix.max.rows=674)\n",
    "options(repr.matrix.max.cols=200)\n",
    "update_geom_defaults(\"point\", list(size=1))                                "
   ]
  },
  {
   "cell_type": "code",
   "execution_count": null,
   "metadata": {},
   "outputs": [],
   "source": [
    "analyst = \"Firstname Lastname\" # Replace this with your name\n",
    "fmt(analyst)"
   ]
  },
  {
   "cell_type": "markdown",
   "metadata": {},
   "source": [
    "## Preamble"
   ]
  },
  {
   "cell_type": "markdown",
   "metadata": {},
   "source": [
    "### Objective\n",
    "\n",
    "Recommend a portfolio of 12 company investments that maximizes 12-month profit on a \\$1,000,000 investment."
   ]
  },
  {
   "cell_type": "markdown",
   "metadata": {},
   "source": [
    "### Decision Model\n",
    "\n",
    "Decision is which companies to include in the portfolio.\n",
    "\n",
    "Approach is to fill the portfolio with companies predicted to have ...\n",
    "* the highest probabilities of growing 30% or more at 12 months, or\n",
    "* the highest 12-month growths at 12 months\n",
    "\n",
    "<br>\n",
    "Business parameters:\n",
    "\n",
    "* Budget = \\\\$1,000,000: total investment to allocate across the companies in the portfolio\n",
    "* Portfolio Size = 12: number of companies in the portfolio\n",
    "* Allocation = portions of \\\\$1,000,000: investments to allocate to specific companies in the portfolio \n",
    "\n",
    "$ \\begin{align} budget = \\sum_{i \\in portfolio} allocation_i \\end{align} $\n",
    "\n",
    "<br>\n",
    "\n",
    "Business value of decision:\n",
    "\n",
    "* Profit at 12 months\n",
    "\n",
    "$ \\begin{align} profit = \\left( \\sum_{i \\in portfolio} (1 + growth_i) \\times allocation_i \\right) - budget \\end{align} $\n",
    "\n",
    "<br>\n"
   ]
  },
  {
   "cell_type": "code",
   "execution_count": null,
   "metadata": {},
   "outputs": [],
   "source": [
    "# Set the business parameters.\n",
    "\n",
    "budget = 1000000\n",
    "portfolio_size = 12\n",
    "allocation = rep(1000000/12, 12) # you can keep or change this setting\n",
    "\n",
    "layout(fmt(budget), fmt(portfolio_size),fmt(allocation))"
   ]
  },
  {
   "cell_type": "code",
   "execution_count": null,
   "metadata": {},
   "outputs": [],
   "source": [
    "# Set any additional business parameters.\n",
    "\n",
    "threshold = 0.30 # you can keep or change this setting\n",
    "fmt(threshold)"
   ]
  },
  {
   "cell_type": "markdown",
   "metadata": {},
   "source": [
    "### Data Source\n",
    "\n",
    "Data files were sourced from Wharton Research Data Services > Compustat - Capital IQ from Standard & Poor's > North America - Daily > Fundamentals Quarterly (https://wrds-www.wharton.upenn.edu/)\n",
    "\n",
    "Selection criteria:\n",
    "\n",
    "  * Date Variable: Data Date\n",
    "  * Date Range: 2017-01 to 2017-12 -or- 2018-01 to 2018-12\n",
    "  * Company Codes: Search the entire database\n",
    "    * Consolidtaion Level: C, Output\n",
    "    * Industry Format: INDL, FS, Output\n",
    "    * Data Format: STD, Output\n",
    "    * Population Source: D, Output\n",
    "    * Quarter Type: Fiscal View, Output\n",
    "    * Currency: USD, Output (not CAD)\n",
    "    * Company Status: Active, Output (not Inactive)\n",
    "  * Variable Types: Data Items, Select All (674)\n",
    "  * Query output:\n",
    "    * Output format: comma-delimited text\n",
    "    * Compression type: None\n",
    "    * Data format: MMDDYY10\n",
    "\n",
    "Data are restricted to select US active, publicly held companies that reported quarterly measures including stock prices for 1st, 2nd, 3rd, and 4th quarters in years 2017 and 2018.  All non-missing stock prices exceed $3 per share.  File formats are all comma-separated values (CSV)."
   ]
  },
  {
   "cell_type": "markdown",
   "metadata": {},
   "source": [
    "## Data"
   ]
  },
  {
   "cell_type": "markdown",
   "metadata": {},
   "source": [
    "### Retrieve Data"
   ]
  },
  {
   "cell_type": "code",
   "execution_count": null,
   "metadata": {},
   "outputs": [],
   "source": [
    "# Retrieve the 2017 data.\n",
    "# Show the first observation of the retrieved data.\n",
    "\n",
    "datax.2017 = read.csv(\"Company Fundamentals 2017.csv\", header=TRUE)\n",
    "datax.2017[1,]"
   ]
  },
  {
   "cell_type": "code",
   "execution_count": null,
   "metadata": {},
   "outputs": [],
   "source": [
    "# Retrieve the 2018 data.\n",
    "# Show the first observation of the retrieved data.\n",
    "\n",
    "datax.2018 = read.csv(\"Company Fundamentals 2018.csv\", header=TRUE)\n",
    "datax.2018[1,]"
   ]
  },
  {
   "cell_type": "markdown",
   "metadata": {},
   "source": [
    "### Prepare Data for Analysis\n",
    "\n",
    "_2017 Data:_\n",
    "\n",
    "Partition the dataset by calendar quarter in which information is reported by first adding a synthetic variable to indicate such.  Then partition into four new datasets, one for each quarter, and drop the quarter variables. Additionally, filter the observations to include only those with non-missing `prccq` $\\geq$ 3.  Then remove any observations about companies that reported more than once per quarter.  Then change all the variable names (except for the `gvkey`, `tic`, and `conm` variables) by suffixing them with quarter information - e.g., in the Quarter 1 dataset, `prccq` becomes `prccq.q1`, etc.\n",
    "\n",
    "Consolidate the four quarter datasets into one dataset, with one observation per company that includes variables for all four quarters.  Remove any observations with missing `prccq.q4` values.\n",
    "\n",
    "_2018 Data:_\n",
    "\n",
    "Filter the dataset by calendar quarter in which information is reported by first adding a synthetic variable to indicate such, and then select only observations with information reported in quarter 4. Additionally, filter the observations to include only those with non-missing `prccq`, and keep only the `gvkey` and `prccq` variables.  Then remove any observations about companies that reported more than once per quarter.\n",
    "\n",
    "_Consolidate:_\n",
    "\n",
    "Consolidate the processed 2017 dataset and processed 2018 dataset, keeping only observations that have both 2017 and 2018 information.  Then add these 2 synthetic variables:\n",
    "\n",
    "$\\begin{align}\n",
    "growth : & \\, (prccq - prccq.q4) \\div prccq.q4 \\\\\n",
    "big\\_growth : & \\, growth \\geq threshold\n",
    "\\end{align}$"
   ]
  },
  {
   "cell_type": "code",
   "execution_count": null,
   "metadata": {},
   "outputs": [],
   "source": [
    "# Partition the 2017 data.\n",
    "\n",
    "# Consolidate the 2017 data partitions.\n",
    "\n",
    "# Filter the 2018 data.\n",
    "\n",
    "# Consolidate the 2017 data and 2018 data.\n",
    "\n",
    "# Show first observation of prepared data.\n"
   ]
  },
  {
   "cell_type": "markdown",
   "metadata": {},
   "source": [
    "## Exploratory Data Analysis"
   ]
  },
  {
   "cell_type": "code",
   "execution_count": null,
   "metadata": {},
   "outputs": [],
   "source": [
    "# Show fraction of observations that are missing price data (i.e., prccq.q1, prccq.q2, prccq.q3, prccq.q4).\n"
   ]
  },
  {
   "cell_type": "code",
   "execution_count": null,
   "metadata": {},
   "outputs": [],
   "source": [
    "# Show another interesting statistic.\n"
   ]
  },
  {
   "cell_type": "code",
   "execution_count": null,
   "metadata": {},
   "outputs": [],
   "source": [
    "# Show another interesting statistic.\n"
   ]
  },
  {
   "cell_type": "code",
   "execution_count": null,
   "metadata": {},
   "outputs": [],
   "source": [
    "# Visualize growth across companies (sorted lowest to highest).\n"
   ]
  },
  {
   "cell_type": "code",
   "execution_count": null,
   "metadata": {},
   "outputs": [],
   "source": [
    "# Visualize the amount of missing data across variables.\n"
   ]
  },
  {
   "cell_type": "code",
   "execution_count": null,
   "metadata": {},
   "outputs": [],
   "source": [
    "# Show another interesting visualization.\n"
   ]
  },
  {
   "cell_type": "code",
   "execution_count": null,
   "metadata": {},
   "outputs": [],
   "source": [
    "# Show another interesting visualization.\n"
   ]
  },
  {
   "cell_type": "markdown",
   "metadata": {},
   "source": [
    "## Data Represention\n",
    "\n",
    "Data representation is transformed as follows:\n",
    "\n",
    "* Slice the data to include only predictor variables with at least 95% non-missing values.\n",
    "* Impute missing data ...\n",
    "  * for each numeric variable, use the mean of non-missing values\n",
    "  * for each non-numeric variable, use the mode of non-missing values\n",
    "* Slice the data to include only numeric (including integer) variables with non-zero variance.\n",
    "* Transform predictor variables to principal component representation.\n",
    "* Slice the data further ...\n",
    "  * The first 3 columns are gvkey, tic, and conm; these are predictor variables\n",
    "  * The next 3 columns are PC1, PC2, and PC3; these are predictor variables\n",
    "  * The next 3 columns are prccq, growth, and big_growth; these are outcome variables"
   ]
  },
  {
   "cell_type": "code",
   "execution_count": null,
   "metadata": {},
   "outputs": [],
   "source": [
    "# Specify predictor variables and predicted variables\n",
    "\n",
    "# Filter variables\n",
    "\n",
    "# Impute missing data.\n",
    "\n",
    "# Further filter variables\n",
    "\n",
    "# Transform predictor variables to principal component representation\n",
    "\n",
    "# Reduce number of predictor variables and consolidate data\n",
    "\n",
    "# Show first observation of transformed data.\n"
   ]
  },
  {
   "cell_type": "markdown",
   "metadata": {},
   "source": [
    "## Model 1\n",
    "\n",
    "Model 1 is a naive Bayes classifier that predicts whether or not a company stock price will grow by 30% or more at 12 months."
   ]
  },
  {
   "cell_type": "markdown",
   "metadata": {},
   "source": [
    "### Build & Evaluate Model (not tuned)"
   ]
  },
  {
   "cell_type": "code",
   "execution_count": null,
   "metadata": {},
   "outputs": [],
   "source": [
    "# Construct a naive Bayes model to predict big_growth.\n",
    "# Use the model to inform the decision about how to fill the portfolio.\n",
    "# Show the 5-fold cross-validation estimated business value of the model as measured by portfolio profit.\n"
   ]
  },
  {
   "cell_type": "markdown",
   "metadata": {},
   "source": [
    "### Build, Evaluate, & Tune Model"
   ]
  },
  {
   "cell_type": "code",
   "execution_count": null,
   "metadata": {},
   "outputs": [],
   "source": [
    "# Tune the naive Bayes model by iterating through predictor variable combinations.\n",
    "# Show the predictor variable combination and estimated profit for the best performing model. \n"
   ]
  },
  {
   "cell_type": "markdown",
   "metadata": {},
   "source": [
    "## Model 2\n",
    "\n",
    "Model 2 is a linear regression regressor that predicts company stock price at 12 months."
   ]
  },
  {
   "cell_type": "markdown",
   "metadata": {},
   "source": [
    "### Build & Evaluate Model (not tuned)"
   ]
  },
  {
   "cell_type": "code",
   "execution_count": null,
   "metadata": {},
   "outputs": [],
   "source": [
    "# Construct a linear regression model to predict growth.\n",
    "# Use the model to inform the decision about how to fill the portfolio.\n",
    "# Show the 5-fold cross-validation estimated business value of the model as measured by portfolio profit.\n"
   ]
  },
  {
   "cell_type": "markdown",
   "metadata": {},
   "source": [
    "### Build , Evaluate, & Tune Model"
   ]
  },
  {
   "cell_type": "code",
   "execution_count": null,
   "metadata": {
    "scrolled": false
   },
   "outputs": [],
   "source": [
    "# Tune the linear regression model by iterating through predictor variable combinations.\n",
    "# Show the predictor variable combination and estimated profit for the best performing model. \n"
   ]
  },
  {
   "cell_type": "markdown",
   "metadata": {},
   "source": [
    "## Model 3\n",
    "\n",
    "Model 3 is a ... that predicts ... at 12 months. (You choose the model construction method)"
   ]
  },
  {
   "cell_type": "markdown",
   "metadata": {},
   "source": [
    "### Build & Evaluate Model (not tuned)"
   ]
  },
  {
   "cell_type": "code",
   "execution_count": null,
   "metadata": {},
   "outputs": [],
   "source": [
    "# Construct a ... model to predict ... .\n",
    "# Use the model to inform the decision about how to fill the portfolio.\n",
    "# Show the 5-fold cross-validation estimated business value of the model as measured by portfolio profit.\n"
   ]
  },
  {
   "cell_type": "markdown",
   "metadata": {},
   "source": [
    "### Build , Evaluate, & Tune Model"
   ]
  },
  {
   "cell_type": "code",
   "execution_count": null,
   "metadata": {
    "scrolled": true
   },
   "outputs": [],
   "source": [
    "# Tune the ... by iterating through predictor variable combinations,\n",
    "# hyperparameter settings (if applicable), and cutoffs (if applicable).\n",
    "# Show the predictor variable combination, hyperparameter settings (if applicable),\n",
    "# cutoff (if applicable), and estimated profit for the best performing model.\n"
   ]
  },
  {
   "cell_type": "markdown",
   "metadata": {},
   "source": [
    "## Model 4\n",
    "\n",
    "Model 4 is a ... that predicts ... at 12 months. (You choose the model constructon method)"
   ]
  },
  {
   "cell_type": "markdown",
   "metadata": {},
   "source": [
    "### Build & Evaluate Model (not tuned)"
   ]
  },
  {
   "cell_type": "code",
   "execution_count": null,
   "metadata": {},
   "outputs": [],
   "source": [
    "# Construct a ... model to predict ... .\n",
    "# Use the model to inform the decision about how to fill the portfolio.\n",
    "# Show the 5-fold cross-validation estimated business value of the model as measured by portfolio profit.\n"
   ]
  },
  {
   "cell_type": "markdown",
   "metadata": {},
   "source": [
    "### Build, Evaluate, & Tune Model"
   ]
  },
  {
   "cell_type": "code",
   "execution_count": null,
   "metadata": {},
   "outputs": [],
   "source": [
    "# Tune the ... by iterating through predictor variable combinations,\n",
    "# hyperparameter settings (if applicable), and cutoffs (if applicable).\n",
    "# Show the predictor variable combination, hyperparameter settings (if applicable),\n",
    "# cutoff (if applicable), and estimated profit for the best performing model.\n"
   ]
  },
  {
   "cell_type": "markdown",
   "metadata": {},
   "source": [
    "## Investment Opportunities\n",
    "\n",
    "Test the best performing model on new investment opportunities."
   ]
  },
  {
   "cell_type": "markdown",
   "metadata": {},
   "source": [
    "### Retrieve Data"
   ]
  },
  {
   "cell_type": "code",
   "execution_count": null,
   "metadata": {},
   "outputs": [],
   "source": [
    "# Retrieve the investment opportunities data.\n",
    "# Show the first observation of the data.\n",
    "\n",
    "datax.io = read.csv(\"Investment Opportunities.csv\", header=TRUE)\n",
    "datax.io[1,]"
   ]
  },
  {
   "cell_type": "markdown",
   "metadata": {},
   "source": [
    "### Prepare Data for Analysis"
   ]
  },
  {
   "cell_type": "code",
   "execution_count": null,
   "metadata": {},
   "outputs": [],
   "source": [
    "# Prepare the investment opportunities data for further analysis.\n"
   ]
  },
  {
   "cell_type": "markdown",
   "metadata": {},
   "source": [
    "### Transform Data Representation"
   ]
  },
  {
   "cell_type": "code",
   "execution_count": null,
   "metadata": {},
   "outputs": [],
   "source": [
    "# Transform the prepared investment opportunities data representation as apprpriate for use with the best performing model.\n",
    "# Show first observation of transformed data.\n"
   ]
  },
  {
   "cell_type": "markdown",
   "metadata": {},
   "source": [
    "## Apply Model"
   ]
  },
  {
   "cell_type": "markdown",
   "metadata": {},
   "source": [
    "### Build Best Model"
   ]
  },
  {
   "cell_type": "code",
   "execution_count": null,
   "metadata": {},
   "outputs": [],
   "source": [
    "# Construct the best performing model using all 2017 and 2018 data for training.\n"
   ]
  },
  {
   "cell_type": "markdown",
   "metadata": {},
   "source": [
    "### Recommend Portfolio"
   ]
  },
  {
   "cell_type": "code",
   "execution_count": null,
   "metadata": {},
   "outputs": [],
   "source": [
    "# Use the model to inform the decision about how to fill the portfolio with companies from the investment opportunities.\n",
    "# Show the portfolio: gvkey, tic, conm, allocation\n"
   ]
  },
  {
   "cell_type": "markdown",
   "metadata": {},
   "source": [
    "### Store Portfolio Recommendation"
   ]
  },
  {
   "cell_type": "code",
   "execution_count": null,
   "metadata": {},
   "outputs": [],
   "source": [
    "write.csv(portfolio, paste0(analyst, \".csv\"), row.names=FALSE)"
   ]
  },
  {
   "cell_type": "markdown",
   "metadata": {},
   "source": [
    "### Confirm That Format Is Correct"
   ]
  },
  {
   "cell_type": "code",
   "execution_count": null,
   "metadata": {},
   "outputs": [],
   "source": [
    "portfolio.retrieved = read.csv(paste0(analyst, \".csv\"), header=TRUE)\n",
    "opportunities = unique(read.csv(\"Investment Opportunities.csv\", header=TRUE)$gvkey)\n",
    "\n",
    "columns = all(colnames(portfolio.retrieved) == c(\"gvkey\", \"tic\", \"conm\", \"allocation\"))\n",
    "companies = all(portfolio.retrieved$gvkey %in% opportunities)\n",
    "allocations = round(sum(portfolio.retrieved$allocation)) == budget\n",
    "                         \n",
    "check = data.frame(analyst, columns, companies, allocations)\n",
    "fmt(check, \"Portfolio Recommendation | Format Check\")"
   ]
  },
  {
   "cell_type": "markdown",
   "metadata": {},
   "source": [
    "## Discussion\n",
    "\n",
    "_<  Discuss your analysis.  Comment on your approach, what you learned, and how you may be able to use what you learned in your future work.  Approximately 250 words. >_"
   ]
  },
  {
   "cell_type": "markdown",
   "metadata": {},
   "source": [
    "<font size=1;>\n",
    "<p style=\"text-align: left;\">\n",
    "Copyright (c) Berkeley Data Analytics Group, LLC\n",
    "<span style=\"float: right;\">\n",
    "Document revised June 20, 2021\n",
    "</span>\n",
    "</p>\n",
    "</font>"
   ]
  }
 ],
 "metadata": {
  "hide_code_all_hidden": false,
  "hide_input": false,
  "kernelspec": {
   "display_name": "R",
   "language": "R",
   "name": "ir"
  },
  "language_info": {
   "codemirror_mode": "r",
   "file_extension": ".r",
   "mimetype": "text/x-r-source",
   "name": "R",
   "pygments_lexer": "r",
   "version": "3.6.1"
  },
  "toc": {
   "base_numbering": 1,
   "nav_menu": {},
   "number_sections": true,
   "sideBar": true,
   "skip_h1_title": true,
   "title_cell": "Table of Contents",
   "title_sidebar": "Contents",
   "toc_cell": false,
   "toc_position": {
    "height": "calc(100% - 180px)",
    "left": "10px",
    "top": "150px",
    "width": "256.396px"
   },
   "toc_section_display": true,
   "toc_window_display": false
  }
 },
 "nbformat": 4,
 "nbformat_minor": 2
}
