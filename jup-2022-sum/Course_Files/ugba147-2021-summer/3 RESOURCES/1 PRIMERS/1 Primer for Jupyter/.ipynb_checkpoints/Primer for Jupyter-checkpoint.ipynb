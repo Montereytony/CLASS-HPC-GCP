{
 "cells": [
  {
   "cell_type": "markdown",
   "metadata": {
    "hideCode": false,
    "hidePrompt": false
   },
   "source": [
    "# Primer for Jupyter\n",
    "\n",
    "![](banner_jupyter.jpg)"
   ]
  },
  {
   "cell_type": "markdown",
   "metadata": {},
   "source": [
    "## Access to Haas JupyterHub"
   ]
  },
  {
   "cell_type": "markdown",
   "metadata": {},
   "source": [
    "* From a web browser, navigate to https://ugba147.haastech.org.  If you are enrolled in UGBA 147, you can login with your UC Berkeley CalNet credentials.\n",
    "* In the `shared` folder, you can view, execute, and edit provided notebooks.  _(Note: provided notebooks have been tested with the Google Chrome web browser.)_  \n",
    "* In the `my-work` folder, you can create, view, execute, edit, save edits, and delete your own notebooks.\n",
    "* You can copy notebooks from the `shared` folder to your `my-work` folder."
   ]
  },
  {
   "cell_type": "markdown",
   "metadata": {},
   "source": [
    "## Using a Jupyter Notebook\n",
    "\n",
    "Jupyter Notebooks are interactive documents accessed and rendered by any web browser.  They provide you a convenient way to conduct and document analyses using text and R code. \n",
    "\n",
    "Headings, discussion of the analysis, and/or discussion of R code is kept in white **text cells**.  You can select any text cell, directly edit its text (use double-click to enter edit mode), and/or refresh its formatting (use cntl-Enter).\n",
    "\n",
    "R code is kept in gray **code cells**.  You can select any code cell (position the cursor anywhere within the cell and left-click), directly edit its R code, and execute its R code (press cntl-Enter).  Any output will be presented immediately below the corresponding code cell.  While code within a cell is executing, the status indicator at the upper-left of the cell shows `In: [*]`.  When code is finished executing, the status indicator changes to show a number, like `In: [26]`.  The number tracks how many times code in the cell has been executed. \n",
    "\n",
    "You can also execute all R code across all cells in one step (use Kernel > Restart & Run All from the menu bar).\n",
    "\n",
    "There are several other controls available to you (see Help from the menu bar)."
   ]
  },
  {
   "cell_type": "markdown",
   "metadata": {},
   "source": [
    "### Example"
   ]
  },
  {
   "cell_type": "markdown",
   "metadata": {},
   "source": [
    "This sentence is contained in a text cell.  The two code cells below both contain R code.  The first cell does not produce output, but the second cell does.\n",
    "\n",
    "**For the function $y=3x^2 + 4x + 5$, determine $y$ at $x=10$ and $x=20$.**"
   ]
  },
  {
   "cell_type": "code",
   "execution_count": 1,
   "metadata": {
    "scrolled": false
   },
   "outputs": [],
   "source": [
    "x = 10\n",
    "y = 3*x^2 + 4*x + 5"
   ]
  },
  {
   "cell_type": "code",
   "execution_count": 2,
   "metadata": {},
   "outputs": [
    {
     "data": {
      "text/html": [
       "1285"
      ],
      "text/latex": [
       "1285"
      ],
      "text/markdown": [
       "1285"
      ],
      "text/plain": [
       "[1] 1285"
      ]
     },
     "metadata": {},
     "output_type": "display_data"
    }
   ],
   "source": [
    "x = 20\n",
    "y = 3*x^2 + 4*x + 5\n",
    "y"
   ]
  },
  {
   "cell_type": "markdown",
   "metadata": {},
   "source": [
    "## Open a Jupyter Notebook\n",
    "\n",
    "To open a Jupyter Notebook in the `shared` or your `my-work` folder ...\n",
    "* Go to the folder directory tab.\n",
    "* Navigate to the notebook of interest.\n",
    "* Select the notebook of interest.  It will open in a new tab.\n",
    "* Look at the Trusted/Not Trusted indicator at the upper-right of the window.  If it displays Not Trusted, then press to change it to Trusted."
   ]
  },
  {
   "cell_type": "markdown",
   "metadata": {},
   "source": [
    "## Copy a Jupyter Notebook\n",
    "\n",
    "To copy a notebook from the `shared` folder or subfolder to your `my-work` folder or subfolder ...\n",
    "* Go to the folder directory tab.\n",
    "* Navigate to the notebook of interest.\n",
    "* Mark the checkbox to the left of the notebook filename.\n",
    "* If the notebook is running, its icon will be colored green and a `Shutdown` button will be visible near the top of the screen - press the `Shutdown` button to stop running the notebook - mark the checkbox again.\n",
    "* Press the `Move` button near the top of the screen - a popup will be presented.\n",
    "* In the popup, change the folder name to `/my-work` or an existing subfolder (e.g., change `/shared/3 WORKBOOK/2 LABS` to `/my-work`) - a popup regarding Permission denied will be presented.\n",
    "* In the popup, press `OK` to dismiss the error message (the notebook will have been copied to your `my-work` folder correctly even though an error message was presented)."
   ]
  },
  {
   "cell_type": "markdown",
   "metadata": {},
   "source": [
    "## Save a Jupyter Notebook\n",
    "\n",
    "You can edit but cannot save notebooks in the `shared` folder.  You can edit and save notebooks in your `my-work` folder.\n",
    "\n",
    "To save a notebook in your `my-work` folder ...\n",
    "* From an open notebook, press the save icon just below the menu bar -or- use `File > Save and Checkpoint` from the menu bar."
   ]
  },
  {
   "cell_type": "markdown",
   "metadata": {},
   "source": [
    "## Submit a Lab Solution\n",
    "\n",
    "Use this procedure to submit your UGBA147 lab solutions.\n",
    "\n",
    "On JupyterHub at https://ugba147.haastech.org …\n",
    "* Navigate to your `shared` folder and copy the `setup.R` file to your `my-work` folder (see other instructions for how to copy a notebook).\n",
    "* Navigate to your `shared/3 WORKBOOK/2 LABS` folder and copy the appropriate lab template notebook to your `my-work` folder (see other instructions for how to copy a notebook).\n",
    "* Navigate to your `my-work` folder, open the homework template notebook, enter your solution\n",
    "* Use `Kernel > Restart and Run All` from the menu bar to confirm that all outputs are up-to-date.\n",
    "* Save the notebook.\n",
    "* Copy the URL (web page address).\n",
    " \n",
    "Then on bCourses > Assignments …\n",
    "* Press the appropriate assignment link to navigate to the assignment submission form.\n",
    "* Press the Submit Assignment button.\n",
    "* Paste the URL into the Website URL field.\n",
    "* Press the Submit Assignment button. "
   ]
  },
  {
   "cell_type": "markdown",
   "metadata": {},
   "source": [
    "## Further Reading\n",
    "\n",
    "* https://jupyter-notebook.readthedocs.io/en/latest/notebook.html\n",
    "* https://jupyter.brynmawr.edu/services/public/dblank/Jupyter%20Notebook%20Users%20Manual.ipynb#4.-Using-Markdown-Cells-for-Writing"
   ]
  },
  {
   "cell_type": "markdown",
   "metadata": {},
   "source": [
    "<font size=1;>\n",
    "<p style=\"text-align: left;\">\n",
    "Copyright (c) Berkeley Data Analytics Group, LLC\n",
    "<span style=\"float: right;\">\n",
    "Document revised January 7, 2021\n",
    "</span>\n",
    "</p>\n",
    "</font>"
   ]
  }
 ],
 "metadata": {
  "hide_code_all_hidden": false,
  "hide_input": false,
  "kernelspec": {
   "display_name": "R",
   "language": "R",
   "name": "ir"
  },
  "language_info": {
   "codemirror_mode": "r",
   "file_extension": ".r",
   "mimetype": "text/x-r-source",
   "name": "R",
   "pygments_lexer": "r",
   "version": "3.6.1"
  },
  "toc": {
   "base_numbering": 1,
   "nav_menu": {},
   "number_sections": true,
   "sideBar": true,
   "skip_h1_title": true,
   "title_cell": "Table of Contents",
   "title_sidebar": "Contents",
   "toc_cell": false,
   "toc_position": {},
   "toc_section_display": true,
   "toc_window_display": true
  }
 },
 "nbformat": 4,
 "nbformat_minor": 2
}
