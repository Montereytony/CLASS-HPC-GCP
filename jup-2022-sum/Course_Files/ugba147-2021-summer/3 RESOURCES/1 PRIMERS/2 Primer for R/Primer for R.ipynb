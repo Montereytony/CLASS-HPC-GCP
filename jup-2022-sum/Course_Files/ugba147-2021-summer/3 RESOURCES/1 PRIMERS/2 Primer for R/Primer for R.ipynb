{
 "cells": [
  {
   "cell_type": "markdown",
   "metadata": {
    "hideCode": false,
    "hidePrompt": false
   },
   "source": [
    "# Primer for R\n",
    "\n",
    "![](banner_R.jpg)"
   ]
  },
  {
   "cell_type": "markdown",
   "metadata": {},
   "source": [
    "## Setup"
   ]
  },
  {
   "cell_type": "code",
   "execution_count": 1,
   "metadata": {},
   "outputs": [
    {
     "data": {
      "text/html": [
       "<p style=\"text-align:center; font-size:10px;\">\n",
       ".................................................... start of document ....................................................\n",
       "</p>"
      ]
     },
     "metadata": {},
     "output_type": "display_data"
    }
   ],
   "source": [
    "f = \"setup.R\"; for (i in 1:10) { if (file.exists(f)) break else f = paste0(\"../\", f) }; source(f)"
   ]
  },
  {
   "cell_type": "markdown",
   "metadata": {},
   "source": [
    "## Key Concepts\n",
    "\n",
    "Here are a few key concepts about using R code.  Subsequent discussions will elaborate.\n",
    "\n",
    "R is a programming language well-suited to data analysis.\n",
    "\n",
    "R makes use of **dataframes** and **vectors** to hold collections of values: \n",
    "- **Dataframe:** Holds a (2-dimensional) collection of values, indexed by row and column.  Each row has a row number.  Each column has a column number and name, and holds values of a specific type (e.g., numeric values, character string values, or categorical values).  All values in a single column must be of the same type, but any specific column need not have values of the same type as any other column.  Note, a dataframe is sometimes loosely referred to as a table.\n",
    "\n",
    "\n",
    "- **Vector:** Holds a (1-dimensional) collection of values, like a column of values, indexed by position.  Each position has a position number.  A vector holds values of a specific type (e.g., numeric values, character string values, or categorical values).  All values in a vector must be of the same type.\n",
    "\n",
    "R makes use of **functions** to make calculations and/or perform actions (e.g., `max(...)`, `min(...)`).  Each function generally takes some arguments and returns a dataframe, vector, or single value.  A function distinguishes arguments by their order and/or by their names. A function's specific behavior depends on the types of its arguments.\n",
    "\n",
    "R provides a special function (data.frame) to **create a dataframe**.\n",
    "\n",
    "R provides a special function (c) to **create a vector** or **concatenate** multiple vectors into a single vector. "
   ]
  },
  {
   "cell_type": "markdown",
   "metadata": {},
   "source": [
    "## Examples"
   ]
  },
  {
   "cell_type": "markdown",
   "metadata": {},
   "source": [
    "### Create It"
   ]
  },
  {
   "cell_type": "markdown",
   "metadata": {},
   "source": [
    "A numeric value:"
   ]
  },
  {
   "cell_type": "code",
   "execution_count": 2,
   "metadata": {},
   "outputs": [
    {
     "data": {
      "text/html": [
       "5"
      ],
      "text/latex": [
       "5"
      ],
      "text/markdown": [
       "5"
      ],
      "text/plain": [
       "[1] 5"
      ]
     },
     "metadata": {},
     "output_type": "display_data"
    }
   ],
   "source": [
    "5"
   ]
  },
  {
   "cell_type": "markdown",
   "metadata": {},
   "source": [
    "A character string value:"
   ]
  },
  {
   "cell_type": "code",
   "execution_count": 3,
   "metadata": {},
   "outputs": [
    {
     "data": {
      "text/html": [
       "'hello'"
      ],
      "text/latex": [
       "'hello'"
      ],
      "text/markdown": [
       "'hello'"
      ],
      "text/plain": [
       "[1] \"hello\""
      ]
     },
     "metadata": {},
     "output_type": "display_data"
    }
   ],
   "source": [
    "\"hello\""
   ]
  },
  {
   "cell_type": "markdown",
   "metadata": {},
   "source": [
    "A vector of numeric values:"
   ]
  },
  {
   "cell_type": "code",
   "execution_count": 4,
   "metadata": {},
   "outputs": [
    {
     "data": {
      "text/html": [
       "<ol class=list-inline>\n",
       "\t<li>3</li>\n",
       "\t<li>4</li>\n",
       "\t<li>2</li>\n",
       "\t<li>3</li>\n",
       "\t<li>1</li>\n",
       "</ol>\n"
      ],
      "text/latex": [
       "\\begin{enumerate*}\n",
       "\\item 3\n",
       "\\item 4\n",
       "\\item 2\n",
       "\\item 3\n",
       "\\item 1\n",
       "\\end{enumerate*}\n"
      ],
      "text/markdown": [
       "1. 3\n",
       "2. 4\n",
       "3. 2\n",
       "4. 3\n",
       "5. 1\n",
       "\n",
       "\n"
      ],
      "text/plain": [
       "[1] 3 4 2 3 1"
      ]
     },
     "metadata": {},
     "output_type": "display_data"
    }
   ],
   "source": [
    "c(3,4,2,3,1)"
   ]
  },
  {
   "cell_type": "markdown",
   "metadata": {},
   "source": [
    "A vector of character string values:"
   ]
  },
  {
   "cell_type": "code",
   "execution_count": 5,
   "metadata": {},
   "outputs": [
    {
     "data": {
      "text/html": [
       "<ol class=list-inline>\n",
       "\t<li>'hello'</li>\n",
       "\t<li>'goodbye'</li>\n",
       "\t<li>'data'</li>\n",
       "\t<li>'analytics'</li>\n",
       "\t<li>'statistics'</li>\n",
       "</ol>\n"
      ],
      "text/latex": [
       "\\begin{enumerate*}\n",
       "\\item 'hello'\n",
       "\\item 'goodbye'\n",
       "\\item 'data'\n",
       "\\item 'analytics'\n",
       "\\item 'statistics'\n",
       "\\end{enumerate*}\n"
      ],
      "text/markdown": [
       "1. 'hello'\n",
       "2. 'goodbye'\n",
       "3. 'data'\n",
       "4. 'analytics'\n",
       "5. 'statistics'\n",
       "\n",
       "\n"
      ],
      "text/plain": [
       "[1] \"hello\"      \"goodbye\"    \"data\"       \"analytics\"  \"statistics\""
      ]
     },
     "metadata": {},
     "output_type": "display_data"
    }
   ],
   "source": [
    "c(\"hello\",\"goodbye\",\"data\",\"analytics\",\"statistics\")"
   ]
  },
  {
   "cell_type": "markdown",
   "metadata": {},
   "source": [
    "A dataframe:"
   ]
  },
  {
   "cell_type": "code",
   "execution_count": 6,
   "metadata": {},
   "outputs": [
    {
     "data": {
      "text/html": [
       "<table>\n",
       "<thead><tr><th scope=col>x1</th><th scope=col>x2</th><th scope=col>x3</th></tr></thead>\n",
       "<tbody>\n",
       "\t<tr><td>3         </td><td>6         </td><td>hello     </td></tr>\n",
       "\t<tr><td>4         </td><td>7         </td><td>goodbye   </td></tr>\n",
       "\t<tr><td>2         </td><td>5         </td><td>data      </td></tr>\n",
       "\t<tr><td>3         </td><td>1         </td><td>analytics </td></tr>\n",
       "\t<tr><td>1         </td><td>3         </td><td>statistics</td></tr>\n",
       "</tbody>\n",
       "</table>\n"
      ],
      "text/latex": [
       "\\begin{tabular}{r|lll}\n",
       " x1 & x2 & x3\\\\\n",
       "\\hline\n",
       "\t 3          & 6          & hello     \\\\\n",
       "\t 4          & 7          & goodbye   \\\\\n",
       "\t 2          & 5          & data      \\\\\n",
       "\t 3          & 1          & analytics \\\\\n",
       "\t 1          & 3          & statistics\\\\\n",
       "\\end{tabular}\n"
      ],
      "text/markdown": [
       "\n",
       "| x1 | x2 | x3 |\n",
       "|---|---|---|\n",
       "| 3          | 6          | hello      |\n",
       "| 4          | 7          | goodbye    |\n",
       "| 2          | 5          | data       |\n",
       "| 3          | 1          | analytics  |\n",
       "| 1          | 3          | statistics |\n",
       "\n"
      ],
      "text/plain": [
       "  x1 x2 x3        \n",
       "1 3  6  hello     \n",
       "2 4  7  goodbye   \n",
       "3 2  5  data      \n",
       "4 3  1  analytics \n",
       "5 1  3  statistics"
      ]
     },
     "metadata": {},
     "output_type": "display_data"
    }
   ],
   "source": [
    "data.frame(x1=c(3,4,2,3,1), x2=c(6,7,5,1,3), x3=c(\"hello\",\"goodbye\",\"data\",\"analytics\",\"statistics\"))"
   ]
  },
  {
   "cell_type": "markdown",
   "metadata": {},
   "source": [
    "### Name It"
   ]
  },
  {
   "cell_type": "code",
   "execution_count": 7,
   "metadata": {},
   "outputs": [
    {
     "data": {
      "text/html": [
       "5"
      ],
      "text/latex": [
       "5"
      ],
      "text/markdown": [
       "5"
      ],
      "text/plain": [
       "[1] 5"
      ]
     },
     "metadata": {},
     "output_type": "display_data"
    }
   ],
   "source": [
    "valn = 5\n",
    "valn"
   ]
  },
  {
   "cell_type": "code",
   "execution_count": 8,
   "metadata": {},
   "outputs": [
    {
     "data": {
      "text/html": [
       "'hello'"
      ],
      "text/latex": [
       "'hello'"
      ],
      "text/markdown": [
       "'hello'"
      ],
      "text/plain": [
       "[1] \"hello\""
      ]
     },
     "metadata": {},
     "output_type": "display_data"
    }
   ],
   "source": [
    "vals = \"hello\"\n",
    "vals"
   ]
  },
  {
   "cell_type": "code",
   "execution_count": 9,
   "metadata": {},
   "outputs": [
    {
     "data": {
      "text/html": [
       "<ol class=list-inline>\n",
       "\t<li>3</li>\n",
       "\t<li>4</li>\n",
       "\t<li>2</li>\n",
       "\t<li>3</li>\n",
       "\t<li>1</li>\n",
       "</ol>\n"
      ],
      "text/latex": [
       "\\begin{enumerate*}\n",
       "\\item 3\n",
       "\\item 4\n",
       "\\item 2\n",
       "\\item 3\n",
       "\\item 1\n",
       "\\end{enumerate*}\n"
      ],
      "text/markdown": [
       "1. 3\n",
       "2. 4\n",
       "3. 2\n",
       "4. 3\n",
       "5. 1\n",
       "\n",
       "\n"
      ],
      "text/plain": [
       "[1] 3 4 2 3 1"
      ]
     },
     "metadata": {},
     "output_type": "display_data"
    }
   ],
   "source": [
    "vecn = c(3,4,2,3,1)\n",
    "vecn"
   ]
  },
  {
   "cell_type": "code",
   "execution_count": 10,
   "metadata": {},
   "outputs": [
    {
     "data": {
      "text/html": [
       "<ol class=list-inline>\n",
       "\t<li>'hello'</li>\n",
       "\t<li>'goodbye'</li>\n",
       "\t<li>'data'</li>\n",
       "\t<li>'analytics'</li>\n",
       "\t<li>'statistics'</li>\n",
       "</ol>\n"
      ],
      "text/latex": [
       "\\begin{enumerate*}\n",
       "\\item 'hello'\n",
       "\\item 'goodbye'\n",
       "\\item 'data'\n",
       "\\item 'analytics'\n",
       "\\item 'statistics'\n",
       "\\end{enumerate*}\n"
      ],
      "text/markdown": [
       "1. 'hello'\n",
       "2. 'goodbye'\n",
       "3. 'data'\n",
       "4. 'analytics'\n",
       "5. 'statistics'\n",
       "\n",
       "\n"
      ],
      "text/plain": [
       "[1] \"hello\"      \"goodbye\"    \"data\"       \"analytics\"  \"statistics\""
      ]
     },
     "metadata": {},
     "output_type": "display_data"
    }
   ],
   "source": [
    "vecs = c(\"hello\",\"goodbye\",\"data\",\"analytics\",\"statistics\")\n",
    "vecs"
   ]
  },
  {
   "cell_type": "code",
   "execution_count": 11,
   "metadata": {},
   "outputs": [
    {
     "data": {
      "text/html": [
       "<table>\n",
       "<thead><tr><th scope=col>x1</th><th scope=col>x2</th><th scope=col>x3</th></tr></thead>\n",
       "<tbody>\n",
       "\t<tr><td>3         </td><td>6         </td><td>hello     </td></tr>\n",
       "\t<tr><td>4         </td><td>7         </td><td>goodbye   </td></tr>\n",
       "\t<tr><td>2         </td><td>5         </td><td>data      </td></tr>\n",
       "\t<tr><td>3         </td><td>1         </td><td>analytics </td></tr>\n",
       "\t<tr><td>1         </td><td>3         </td><td>statistics</td></tr>\n",
       "</tbody>\n",
       "</table>\n"
      ],
      "text/latex": [
       "\\begin{tabular}{r|lll}\n",
       " x1 & x2 & x3\\\\\n",
       "\\hline\n",
       "\t 3          & 6          & hello     \\\\\n",
       "\t 4          & 7          & goodbye   \\\\\n",
       "\t 2          & 5          & data      \\\\\n",
       "\t 3          & 1          & analytics \\\\\n",
       "\t 1          & 3          & statistics\\\\\n",
       "\\end{tabular}\n"
      ],
      "text/markdown": [
       "\n",
       "| x1 | x2 | x3 |\n",
       "|---|---|---|\n",
       "| 3          | 6          | hello      |\n",
       "| 4          | 7          | goodbye    |\n",
       "| 2          | 5          | data       |\n",
       "| 3          | 1          | analytics  |\n",
       "| 1          | 3          | statistics |\n",
       "\n"
      ],
      "text/plain": [
       "  x1 x2 x3        \n",
       "1 3  6  hello     \n",
       "2 4  7  goodbye   \n",
       "3 2  5  data      \n",
       "4 3  1  analytics \n",
       "5 1  3  statistics"
      ]
     },
     "metadata": {},
     "output_type": "display_data"
    }
   ],
   "source": [
    "data = data.frame(x1=c(3,4,2,3,1), x2=c(6,7,5,1,3), x3=c(\"hello\",\"goodbye\",\"data\",\"analytics\",\"statistics\"))\n",
    "data"
   ]
  },
  {
   "cell_type": "markdown",
   "metadata": {},
   "source": [
    "### Select It"
   ]
  },
  {
   "cell_type": "markdown",
   "metadata": {},
   "source": [
    "A numeric value indicated by position within a numeric vector: "
   ]
  },
  {
   "cell_type": "code",
   "execution_count": 12,
   "metadata": {},
   "outputs": [
    {
     "data": {
      "text/html": [
       "1"
      ],
      "text/latex": [
       "1"
      ],
      "text/markdown": [
       "1"
      ],
      "text/plain": [
       "[1] 1"
      ]
     },
     "metadata": {},
     "output_type": "display_data"
    }
   ],
   "source": [
    "vecn[5] # first position is 1"
   ]
  },
  {
   "cell_type": "markdown",
   "metadata": {},
   "source": [
    "A character string value indicated by position within a character string vector: "
   ]
  },
  {
   "cell_type": "code",
   "execution_count": 13,
   "metadata": {},
   "outputs": [
    {
     "data": {
      "text/html": [
       "'data'"
      ],
      "text/latex": [
       "'data'"
      ],
      "text/markdown": [
       "'data'"
      ],
      "text/plain": [
       "[1] \"data\""
      ]
     },
     "metadata": {},
     "output_type": "display_data"
    }
   ],
   "source": [
    "vecs[3] # first position is 1"
   ]
  },
  {
   "cell_type": "markdown",
   "metadata": {},
   "source": [
    "A numeric value indicated by row position and column position within a dataframe:"
   ]
  },
  {
   "cell_type": "code",
   "execution_count": 14,
   "metadata": {},
   "outputs": [
    {
     "data": {
      "text/html": [
       "1"
      ],
      "text/latex": [
       "1"
      ],
      "text/markdown": [
       "1"
      ],
      "text/plain": [
       "[1] 1"
      ]
     },
     "metadata": {},
     "output_type": "display_data"
    }
   ],
   "source": [
    "data[4, 2]"
   ]
  },
  {
   "cell_type": "markdown",
   "metadata": {},
   "source": [
    "A numeric vector indicated by a column name within a dataframe:"
   ]
  },
  {
   "cell_type": "code",
   "execution_count": 15,
   "metadata": {},
   "outputs": [
    {
     "data": {
      "text/html": [
       "<ol class=list-inline>\n",
       "\t<li>6</li>\n",
       "\t<li>7</li>\n",
       "\t<li>5</li>\n",
       "\t<li>1</li>\n",
       "\t<li>3</li>\n",
       "</ol>\n"
      ],
      "text/latex": [
       "\\begin{enumerate*}\n",
       "\\item 6\n",
       "\\item 7\n",
       "\\item 5\n",
       "\\item 1\n",
       "\\item 3\n",
       "\\end{enumerate*}\n"
      ],
      "text/markdown": [
       "1. 6\n",
       "2. 7\n",
       "3. 5\n",
       "4. 1\n",
       "5. 3\n",
       "\n",
       "\n"
      ],
      "text/plain": [
       "[1] 6 7 5 1 3"
      ]
     },
     "metadata": {},
     "output_type": "display_data"
    }
   ],
   "source": [
    "data$x2"
   ]
  },
  {
   "cell_type": "markdown",
   "metadata": {},
   "source": [
    "A dataframe indicated by row positions and column positions within another dataframe:"
   ]
  },
  {
   "cell_type": "code",
   "execution_count": 16,
   "metadata": {},
   "outputs": [
    {
     "data": {
      "text/html": [
       "<table>\n",
       "<thead><tr><th></th><th scope=col>x1</th><th scope=col>x2</th></tr></thead>\n",
       "<tbody>\n",
       "\t<tr><th scope=row>2</th><td>4</td><td>7</td></tr>\n",
       "\t<tr><th scope=row>3</th><td>2</td><td>5</td></tr>\n",
       "\t<tr><th scope=row>4</th><td>3</td><td>1</td></tr>\n",
       "</tbody>\n",
       "</table>\n"
      ],
      "text/latex": [
       "\\begin{tabular}{r|ll}\n",
       "  & x1 & x2\\\\\n",
       "\\hline\n",
       "\t2 & 4 & 7\\\\\n",
       "\t3 & 2 & 5\\\\\n",
       "\t4 & 3 & 1\\\\\n",
       "\\end{tabular}\n"
      ],
      "text/markdown": [
       "\n",
       "| <!--/--> | x1 | x2 |\n",
       "|---|---|---|\n",
       "| 2 | 4 | 7 |\n",
       "| 3 | 2 | 5 |\n",
       "| 4 | 3 | 1 |\n",
       "\n"
      ],
      "text/plain": [
       "  x1 x2\n",
       "2 4  7 \n",
       "3 2  5 \n",
       "4 3  1 "
      ]
     },
     "metadata": {},
     "output_type": "display_data"
    }
   ],
   "source": [
    "data[c(2,3,4),c(1,2)]"
   ]
  },
  {
   "cell_type": "markdown",
   "metadata": {},
   "source": [
    "### Apply It"
   ]
  },
  {
   "cell_type": "code",
   "execution_count": 21,
   "metadata": {},
   "outputs": [
    {
     "data": {
      "text/html": [
       "2.6"
      ],
      "text/latex": [
       "2.6"
      ],
      "text/markdown": [
       "2.6"
      ],
      "text/plain": [
       "[1] 2.6"
      ]
     },
     "metadata": {},
     "output_type": "display_data"
    }
   ],
   "source": [
    "mean(vecn)"
   ]
  },
  {
   "cell_type": "code",
   "execution_count": 22,
   "metadata": {},
   "outputs": [
    {
     "data": {
      "text/html": [
       "<ol class=list-inline>\n",
       "\t<li>1</li>\n",
       "\t<li>3</li>\n",
       "\t<li>2</li>\n",
       "\t<li>4</li>\n",
       "\t<li>3</li>\n",
       "</ol>\n"
      ],
      "text/latex": [
       "\\begin{enumerate*}\n",
       "\\item 1\n",
       "\\item 3\n",
       "\\item 2\n",
       "\\item 4\n",
       "\\item 3\n",
       "\\end{enumerate*}\n"
      ],
      "text/markdown": [
       "1. 1\n",
       "2. 3\n",
       "3. 2\n",
       "4. 4\n",
       "5. 3\n",
       "\n",
       "\n"
      ],
      "text/plain": [
       "[1] 1 3 2 4 3"
      ]
     },
     "metadata": {},
     "output_type": "display_data"
    }
   ],
   "source": [
    "rev(vecn)"
   ]
  },
  {
   "cell_type": "code",
   "execution_count": 23,
   "metadata": {},
   "outputs": [
    {
     "data": {
      "text/html": [
       "0.0384615384615385"
      ],
      "text/latex": [
       "0.0384615384615385"
      ],
      "text/markdown": [
       "0.0384615384615385"
      ],
      "text/plain": [
       "[1] 0.03846154"
      ]
     },
     "metadata": {},
     "output_type": "display_data"
    }
   ],
   "source": [
    "cor(vecn, rev(vecn))"
   ]
  },
  {
   "cell_type": "code",
   "execution_count": 24,
   "metadata": {},
   "outputs": [
    {
     "data": {
      "text/html": [
       "<ol class=list-inline>\n",
       "\t<li>3</li>\n",
       "\t<li>4</li>\n",
       "\t<li>2</li>\n",
       "\t<li>3</li>\n",
       "\t<li>1</li>\n",
       "\t<li>1</li>\n",
       "\t<li>3</li>\n",
       "\t<li>2</li>\n",
       "\t<li>4</li>\n",
       "\t<li>3</li>\n",
       "</ol>\n"
      ],
      "text/latex": [
       "\\begin{enumerate*}\n",
       "\\item 3\n",
       "\\item 4\n",
       "\\item 2\n",
       "\\item 3\n",
       "\\item 1\n",
       "\\item 1\n",
       "\\item 3\n",
       "\\item 2\n",
       "\\item 4\n",
       "\\item 3\n",
       "\\end{enumerate*}\n"
      ],
      "text/markdown": [
       "1. 3\n",
       "2. 4\n",
       "3. 2\n",
       "4. 3\n",
       "5. 1\n",
       "6. 1\n",
       "7. 3\n",
       "8. 2\n",
       "9. 4\n",
       "10. 3\n",
       "\n",
       "\n"
      ],
      "text/plain": [
       " [1] 3 4 2 3 1 1 3 2 4 3"
      ]
     },
     "metadata": {},
     "output_type": "display_data"
    }
   ],
   "source": [
    "c(vecn, rev(vecn))"
   ]
  },
  {
   "cell_type": "code",
   "execution_count": 25,
   "metadata": {},
   "outputs": [
    {
     "data": {
      "text/html": [
       "<ol class=list-inline>\n",
       "\t<li>TRUE</li>\n",
       "\t<li>TRUE</li>\n",
       "\t<li>FALSE</li>\n",
       "\t<li>FALSE</li>\n",
       "</ol>\n"
      ],
      "text/latex": [
       "\\begin{enumerate*}\n",
       "\\item TRUE\n",
       "\\item TRUE\n",
       "\\item FALSE\n",
       "\\item FALSE\n",
       "\\end{enumerate*}\n"
      ],
      "text/markdown": [
       "1. TRUE\n",
       "2. TRUE\n",
       "3. FALSE\n",
       "4. FALSE\n",
       "\n",
       "\n"
      ],
      "text/plain": [
       "[1]  TRUE  TRUE FALSE FALSE"
      ]
     },
     "metadata": {},
     "output_type": "display_data"
    },
    {
     "data": {
      "text/html": [
       "<ol class=list-inline>\n",
       "\t<li>1</li>\n",
       "\t<li>1</li>\n",
       "\t<li>0</li>\n",
       "\t<li>0</li>\n",
       "</ol>\n"
      ],
      "text/latex": [
       "\\begin{enumerate*}\n",
       "\\item 1\n",
       "\\item 1\n",
       "\\item 0\n",
       "\\item 0\n",
       "\\end{enumerate*}\n"
      ],
      "text/markdown": [
       "1. 1\n",
       "2. 1\n",
       "3. 0\n",
       "4. 0\n",
       "\n",
       "\n"
      ],
      "text/plain": [
       "[1] 1 1 0 0"
      ]
     },
     "metadata": {},
     "output_type": "display_data"
    }
   ],
   "source": [
    "vec.boolean = c(TRUE, TRUE, FALSE, FALSE)\n",
    "vec.boolean\n",
    "as.numeric(vec.boolean)"
   ]
  },
  {
   "cell_type": "markdown",
   "metadata": {},
   "source": [
    "## Further Reading\n",
    "\n",
    "* http://www.rdatamining.com/\n",
    "* http://yanchang.rdatamining.com/\n",
    "* https://www.datacamp.com/community/tutorials/r-packages-guide"
   ]
  },
  {
   "cell_type": "markdown",
   "metadata": {},
   "source": [
    "<font size=1;>\n",
    "<p style=\"text-align: left;\">\n",
    "Copyright (c) Berkeley Data Analytics Group, LLC\n",
    "<span style=\"float: right;\">\n",
    "Document revised January 7, 2021\n",
    "</span>\n",
    "</p>\n",
    "</font>"
   ]
  }
 ],
 "metadata": {
  "hide_code_all_hidden": false,
  "hide_input": false,
  "kernelspec": {
   "display_name": "R",
   "language": "R",
   "name": "ir"
  },
  "language_info": {
   "codemirror_mode": "r",
   "file_extension": ".r",
   "mimetype": "text/x-r-source",
   "name": "R",
   "pygments_lexer": "r",
   "version": "3.6.1"
  },
  "toc": {
   "base_numbering": 1,
   "nav_menu": {},
   "number_sections": true,
   "sideBar": true,
   "skip_h1_title": true,
   "title_cell": "Table of Contents",
   "title_sidebar": "Contents",
   "toc_cell": false,
   "toc_position": {},
   "toc_section_display": true,
   "toc_window_display": false
  }
 },
 "nbformat": 4,
 "nbformat_minor": 2
}
