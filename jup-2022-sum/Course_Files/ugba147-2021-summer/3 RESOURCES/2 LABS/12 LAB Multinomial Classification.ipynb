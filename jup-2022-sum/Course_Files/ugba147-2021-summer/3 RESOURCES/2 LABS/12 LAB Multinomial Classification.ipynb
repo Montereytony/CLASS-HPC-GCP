{
 "cells": [
  {
   "cell_type": "markdown",
   "metadata": {},
   "source": [
    "<font size=2;>\n",
    "<p style=\"text-align: right;\">\n",
    "Lab Solution\n",
    "</p>\n",
    "</font>"
   ]
  },
  {
   "cell_type": "markdown",
   "metadata": {
    "hideCode": false,
    "hidePrompt": false
   },
   "source": [
    "# Multinomial Classification"
   ]
  },
  {
   "cell_type": "markdown",
   "metadata": {},
   "source": [
    "**Write and execute R code in the code cells per the instructions.  The expected results are provided for you directly following the code cells.**"
   ]
  },
  {
   "cell_type": "code",
   "execution_count": 1,
   "metadata": {},
   "outputs": [
    {
     "data": {
      "text/html": [
       "<p style=\"text-align:center; font-size:10px;\">\n",
       ".................................................... start of document ....................................................\n",
       "</p>"
      ]
     },
     "metadata": {},
     "output_type": "display_data"
    }
   ],
   "source": [
    "f = \"setup.R\"; for (i in 1:10) { if (file.exists(f)) break else f = paste0(\"../\", f) }; source(f)"
   ]
  },
  {
   "cell_type": "markdown",
   "metadata": {},
   "source": [
    "## Data & New Observation"
   ]
  },
  {
   "cell_type": "code",
   "execution_count": 2,
   "metadata": {},
   "outputs": [
    {
     "data": {
      "image/png": "[encoded data removed]",
      "text/plain": [
       "plot without title"
      ]
     },
     "metadata": {},
     "output_type": "display_data"
    }
   ],
   "source": [
    "data = data.frame(x1=c(3,1,2,3,2,1,2,3,4,4,5,5),\n",
    "                  x2=c(2,5,4,3,2,1,2,3,3,2,3,2),\n",
    "                  class=c(\"C\",\"A\",\"B\",\"C\",\"A\",\"A\",\"C\",\"A\",\"B\",\"D\",\"D\",\"D\"))\n",
    "new = data.frame(x1=2, x2=3)\n",
    "\n",
    "ggplot(data) +\n",
    "geom_point(aes(x=x1, y=x2, color=class)) +\n",
    "geom_point(aes(x=x1, y=x2), data=new, color=NEW_COLOR)"
   ]
  },
  {
   "cell_type": "markdown",
   "metadata": {},
   "source": [
    "## Problem 1\n",
    "\n",
    "Build a multinomial naive Bayes model to predict class given x1 and x2.\n",
    "\n",
    "Show the model parameters (note: conditional probabilities/likelihoods are expressed as Gaussian means and standard deviations).<br>\n",
    "Show the probabilities resulting from the model applied to the data.<br>\n",
    "Show the probabilities resulting from the model applied to `new`.\n",
    "Predict `new`'s class by maximum probability pick.   \n",
    "\n",
    "You may want to use these function(s):\n",
    "* naivebayes()\n",
    "* predict()\n",
    "* pick()"
   ]
  },
  {
   "cell_type": "code",
   "execution_count": 3,
   "metadata": {},
   "outputs": [
    {
     "data": {
      "text/plain": [
       "\n",
       "Naive Bayes Classifier for Discrete Predictors\n",
       "\n",
       "Call:\n",
       "naiveBayes.default(x = X, y = Y, laplace = laplace)\n",
       "\n",
       "A-priori probabilities:\n",
       "Y\n",
       "        A         B         C         D \n",
       "0.3333333 0.1666667 0.2500000 0.2500000 \n",
       "\n",
       "Conditional probabilities:\n",
       "   x1\n",
       "Y       [,1]      [,2]\n",
       "  A 1.750000 0.9574271\n",
       "  B 3.000000 1.4142136\n",
       "  C 2.666667 0.5773503\n",
       "  D 4.666667 0.5773503\n",
       "\n",
       "   x2\n",
       "Y       [,1]      [,2]\n",
       "  A 2.750000 1.7078251\n",
       "  B 3.500000 0.7071068\n",
       "  C 2.333333 0.5773503\n",
       "  D 2.333333 0.5773503\n"
      ]
     },
     "metadata": {},
     "output_type": "display_data"
    }
   ],
   "source": []
  },
  {
   "cell_type": "code",
   "execution_count": 4,
   "metadata": {},
   "outputs": [
    {
     "data": {
      "text/html": [
       "<table>\n",
       "<thead><tr><th scope=col>A</th><th scope=col>B</th><th scope=col>C</th><th scope=col>D</th></tr></thead>\n",
       "<tbody>\n",
       "\t<tr><td>0.122629812          </td><td>0.027287788          </td><td>0.834792639006       </td><td>0.0152897605230135712</td></tr>\n",
       "\t<tr><td>0.906930129          </td><td>0.093065968          </td><td>0.000003903244       </td><td>0.0000000000004392522</td></tr>\n",
       "\t<tr><td>0.584701251          </td><td>0.392139218          </td><td>0.023158479250       </td><td>0.0000010513933313669</td></tr>\n",
       "\t<tr><td>0.157027291          </td><td>0.236979696          </td><td>0.595093495955       </td><td>0.0108995175769394659</td></tr>\n",
       "\t<tr><td>0.345022701          </td><td>0.026382411          </td><td>0.628566351826       </td><td>0.0000285368682239497</td></tr>\n",
       "\t<tr><td>0.989668349          </td><td>0.001320164          </td><td>0.009011485841       </td><td>0.0000000010141091336</td></tr>\n",
       "\t<tr><td>0.345022701          </td><td>0.026382411          </td><td>0.628566351826       </td><td>0.0000285368682239497</td></tr>\n",
       "\t<tr><td>0.157027291          </td><td>0.236979696          </td><td>0.595093495955       </td><td>0.0108995175769394659</td></tr>\n",
       "\t<tr><td>0.037682785          </td><td>0.298822307          </td><td>0.079090531842       </td><td>0.5844043766715687482</td></tr>\n",
       "\t<tr><td>0.029588505          </td><td>0.034596273          </td><td>0.111551908946       </td><td>0.8242633131472791863</td></tr>\n",
       "\t<tr><td>0.001694969          </td><td>0.127524722          </td><td>0.000292016290       </td><td>0.8704882923335378608</td></tr>\n",
       "\t<tr><td>0.001069612          </td><td>0.011865750          </td><td>0.000331012255       </td><td>0.9867336261898009830</td></tr>\n",
       "</tbody>\n",
       "</table>\n"
      ],
      "text/latex": [
       "\\begin{tabular}{llll}\n",
       " A & B & C & D\\\\\n",
       "\\hline\n",
       "\t 0.122629812           & 0.027287788           & 0.834792639006        & 0.0152897605230135712\\\\\n",
       "\t 0.906930129           & 0.093065968           & 0.000003903244        & 0.0000000000004392522\\\\\n",
       "\t 0.584701251           & 0.392139218           & 0.023158479250        & 0.0000010513933313669\\\\\n",
       "\t 0.157027291           & 0.236979696           & 0.595093495955        & 0.0108995175769394659\\\\\n",
       "\t 0.345022701           & 0.026382411           & 0.628566351826        & 0.0000285368682239497\\\\\n",
       "\t 0.989668349           & 0.001320164           & 0.009011485841        & 0.0000000010141091336\\\\\n",
       "\t 0.345022701           & 0.026382411           & 0.628566351826        & 0.0000285368682239497\\\\\n",
       "\t 0.157027291           & 0.236979696           & 0.595093495955        & 0.0108995175769394659\\\\\n",
       "\t 0.037682785           & 0.298822307           & 0.079090531842        & 0.5844043766715687482\\\\\n",
       "\t 0.029588505           & 0.034596273           & 0.111551908946        & 0.8242633131472791863\\\\\n",
       "\t 0.001694969           & 0.127524722           & 0.000292016290        & 0.8704882923335378608\\\\\n",
       "\t 0.001069612           & 0.011865750           & 0.000331012255        & 0.9867336261898009830\\\\\n",
       "\\end{tabular}\n"
      ],
      "text/markdown": [
       "\n",
       "| A | B | C | D |\n",
       "|---|---|---|---|\n",
       "| 0.122629812           | 0.027287788           | 0.834792639006        | 0.0152897605230135712 |\n",
       "| 0.906930129           | 0.093065968           | 0.000003903244        | 0.0000000000004392522 |\n",
       "| 0.584701251           | 0.392139218           | 0.023158479250        | 0.0000010513933313669 |\n",
       "| 0.157027291           | 0.236979696           | 0.595093495955        | 0.0108995175769394659 |\n",
       "| 0.345022701           | 0.026382411           | 0.628566351826        | 0.0000285368682239497 |\n",
       "| 0.989668349           | 0.001320164           | 0.009011485841        | 0.0000000010141091336 |\n",
       "| 0.345022701           | 0.026382411           | 0.628566351826        | 0.0000285368682239497 |\n",
       "| 0.157027291           | 0.236979696           | 0.595093495955        | 0.0108995175769394659 |\n",
       "| 0.037682785           | 0.298822307           | 0.079090531842        | 0.5844043766715687482 |\n",
       "| 0.029588505           | 0.034596273           | 0.111551908946        | 0.8242633131472791863 |\n",
       "| 0.001694969           | 0.127524722           | 0.000292016290        | 0.8704882923335378608 |\n",
       "| 0.001069612           | 0.011865750           | 0.000331012255        | 0.9867336261898009830 |\n",
       "\n"
      ],
      "text/plain": [
       "      A           B           C              D                    \n",
       " [1,] 0.122629812 0.027287788 0.834792639006 0.0152897605230135712\n",
       " [2,] 0.906930129 0.093065968 0.000003903244 0.0000000000004392522\n",
       " [3,] 0.584701251 0.392139218 0.023158479250 0.0000010513933313669\n",
       " [4,] 0.157027291 0.236979696 0.595093495955 0.0108995175769394659\n",
       " [5,] 0.345022701 0.026382411 0.628566351826 0.0000285368682239497\n",
       " [6,] 0.989668349 0.001320164 0.009011485841 0.0000000010141091336\n",
       " [7,] 0.345022701 0.026382411 0.628566351826 0.0000285368682239497\n",
       " [8,] 0.157027291 0.236979696 0.595093495955 0.0108995175769394659\n",
       " [9,] 0.037682785 0.298822307 0.079090531842 0.5844043766715687482\n",
       "[10,] 0.029588505 0.034596273 0.111551908946 0.8242633131472791863\n",
       "[11,] 0.001694969 0.127524722 0.000292016290 0.8704882923335378608\n",
       "[12,] 0.001069612 0.011865750 0.000331012255 0.9867336261898009830"
      ]
     },
     "metadata": {},
     "output_type": "display_data"
    }
   ],
   "source": []
  },
  {
   "cell_type": "code",
   "execution_count": 5,
   "metadata": {},
   "outputs": [
    {
     "data": {
      "text/html": [
       "<table>\n",
       "<thead><tr><th scope=col>A</th><th scope=col>B</th><th scope=col>C</th><th scope=col>D</th></tr></thead>\n",
       "<tbody>\n",
       "\t<tr><td>0.3948105   </td><td>0.2047478   </td><td>0.4004236   </td><td>0.0000181792</td></tr>\n",
       "</tbody>\n",
       "</table>\n"
      ],
      "text/latex": [
       "\\begin{tabular}{llll}\n",
       " A & B & C & D\\\\\n",
       "\\hline\n",
       "\t 0.3948105    & 0.2047478    & 0.4004236    & 0.0000181792\\\\\n",
       "\\end{tabular}\n"
      ],
      "text/markdown": [
       "\n",
       "| A | B | C | D |\n",
       "|---|---|---|---|\n",
       "| 0.3948105    | 0.2047478    | 0.4004236    | 0.0000181792 |\n",
       "\n"
      ],
      "text/plain": [
       "     A         B         C         D           \n",
       "[1,] 0.3948105 0.2047478 0.4004236 0.0000181792"
      ]
     },
     "metadata": {},
     "output_type": "display_data"
    }
   ],
   "source": []
  },
  {
   "cell_type": "code",
   "execution_count": 6,
   "metadata": {},
   "outputs": [
    {
     "data": {
      "text/html": [
       "C\n",
       "<details>\n",
       "\t<summary style=display:list-item;cursor:pointer>\n",
       "\t\t<strong>Levels</strong>:\n",
       "\t</summary>\n",
       "\t<ol class=list-inline>\n",
       "\t\t<li>'A'</li>\n",
       "\t\t<li>'B'</li>\n",
       "\t\t<li>'C'</li>\n",
       "\t\t<li>'D'</li>\n",
       "\t</ol>\n",
       "</details>"
      ],
      "text/latex": [
       "C\n",
       "\\emph{Levels}: \\begin{enumerate*}\n",
       "\\item 'A'\n",
       "\\item 'B'\n",
       "\\item 'C'\n",
       "\\item 'D'\n",
       "\\end{enumerate*}\n"
      ],
      "text/markdown": [
       "C\n",
       "**Levels**: 1. 'A'\n",
       "2. 'B'\n",
       "3. 'C'\n",
       "4. 'D'\n",
       "\n",
       "\n"
      ],
      "text/plain": [
       "[1] C\n",
       "Levels: A B C D"
      ]
     },
     "metadata": {},
     "output_type": "display_data"
    }
   ],
   "source": []
  },
  {
   "cell_type": "markdown",
   "metadata": {},
   "source": [
    "## Problem 2\n",
    "\n",
    "Build a multinomial neural network model to predict class given x1 and x2.\n",
    "\n",
    "Show the dummified version of the data.<br>\n",
    "Show the model weights.<br>\n",
    "Show the probabilities resulting from the model applied to the data.\n",
    "Show the probabilities resulting from the model applied to `new`.\n",
    "Predict `new`'s class by maximum probability pick.   \n",
    "\n",
    "You may want to use these function(s):\n",
    "* dummify()\n",
    "* set.seed()\n",
    "* neuralnet()\n",
    "* compute()\n",
    "* pick()\n",
    "\n",
    "Use `neuralnet(..., ..., hidden=4, act.fct=\"logistic\", algorithm=\"rprop+\", rep=1, linear.output=FALSE)` to build the model - preceed with `set.seed(0)`.<br>\n",
    "Use `model$weights` to get the model weights.<br>\n",
    "Use `compute(..., ..., rep=1)$net.result` to get the probabilities calculated by the model."
   ]
  },
  {
   "cell_type": "code",
   "execution_count": 7,
   "metadata": {
    "scrolled": false
   },
   "outputs": [
    {
     "data": {
      "text/html": [
       "<table>\n",
       "<thead><tr><th scope=col>x1</th><th scope=col>x2</th><th scope=col>classA</th><th scope=col>classB</th><th scope=col>classC</th><th scope=col>classD</th></tr></thead>\n",
       "<tbody>\n",
       "\t<tr><td>3</td><td>2</td><td>0</td><td>0</td><td>1</td><td>0</td></tr>\n",
       "\t<tr><td>1</td><td>5</td><td>1</td><td>0</td><td>0</td><td>0</td></tr>\n",
       "\t<tr><td>2</td><td>4</td><td>0</td><td>1</td><td>0</td><td>0</td></tr>\n",
       "\t<tr><td>3</td><td>3</td><td>0</td><td>0</td><td>1</td><td>0</td></tr>\n",
       "\t<tr><td>2</td><td>2</td><td>1</td><td>0</td><td>0</td><td>0</td></tr>\n",
       "\t<tr><td>1</td><td>1</td><td>1</td><td>0</td><td>0</td><td>0</td></tr>\n",
       "\t<tr><td>2</td><td>2</td><td>0</td><td>0</td><td>1</td><td>0</td></tr>\n",
       "\t<tr><td>3</td><td>3</td><td>1</td><td>0</td><td>0</td><td>0</td></tr>\n",
       "\t<tr><td>4</td><td>3</td><td>0</td><td>1</td><td>0</td><td>0</td></tr>\n",
       "\t<tr><td>4</td><td>2</td><td>0</td><td>0</td><td>0</td><td>1</td></tr>\n",
       "\t<tr><td>5</td><td>3</td><td>0</td><td>0</td><td>0</td><td>1</td></tr>\n",
       "\t<tr><td>5</td><td>2</td><td>0</td><td>0</td><td>0</td><td>1</td></tr>\n",
       "</tbody>\n",
       "</table>\n"
      ],
      "text/latex": [
       "\\begin{tabular}{r|llllll}\n",
       " x1 & x2 & classA & classB & classC & classD\\\\\n",
       "\\hline\n",
       "\t 3 & 2 & 0 & 0 & 1 & 0\\\\\n",
       "\t 1 & 5 & 1 & 0 & 0 & 0\\\\\n",
       "\t 2 & 4 & 0 & 1 & 0 & 0\\\\\n",
       "\t 3 & 3 & 0 & 0 & 1 & 0\\\\\n",
       "\t 2 & 2 & 1 & 0 & 0 & 0\\\\\n",
       "\t 1 & 1 & 1 & 0 & 0 & 0\\\\\n",
       "\t 2 & 2 & 0 & 0 & 1 & 0\\\\\n",
       "\t 3 & 3 & 1 & 0 & 0 & 0\\\\\n",
       "\t 4 & 3 & 0 & 1 & 0 & 0\\\\\n",
       "\t 4 & 2 & 0 & 0 & 0 & 1\\\\\n",
       "\t 5 & 3 & 0 & 0 & 0 & 1\\\\\n",
       "\t 5 & 2 & 0 & 0 & 0 & 1\\\\\n",
       "\\end{tabular}\n"
      ],
      "text/markdown": [
       "\n",
       "| x1 | x2 | classA | classB | classC | classD |\n",
       "|---|---|---|---|---|---|\n",
       "| 3 | 2 | 0 | 0 | 1 | 0 |\n",
       "| 1 | 5 | 1 | 0 | 0 | 0 |\n",
       "| 2 | 4 | 0 | 1 | 0 | 0 |\n",
       "| 3 | 3 | 0 | 0 | 1 | 0 |\n",
       "| 2 | 2 | 1 | 0 | 0 | 0 |\n",
       "| 1 | 1 | 1 | 0 | 0 | 0 |\n",
       "| 2 | 2 | 0 | 0 | 1 | 0 |\n",
       "| 3 | 3 | 1 | 0 | 0 | 0 |\n",
       "| 4 | 3 | 0 | 1 | 0 | 0 |\n",
       "| 4 | 2 | 0 | 0 | 0 | 1 |\n",
       "| 5 | 3 | 0 | 0 | 0 | 1 |\n",
       "| 5 | 2 | 0 | 0 | 0 | 1 |\n",
       "\n"
      ],
      "text/plain": [
       "   x1 x2 classA classB classC classD\n",
       "1  3  2  0      0      1      0     \n",
       "2  1  5  1      0      0      0     \n",
       "3  2  4  0      1      0      0     \n",
       "4  3  3  0      0      1      0     \n",
       "5  2  2  1      0      0      0     \n",
       "6  1  1  1      0      0      0     \n",
       "7  2  2  0      0      1      0     \n",
       "8  3  3  1      0      0      0     \n",
       "9  4  3  0      1      0      0     \n",
       "10 4  2  0      0      0      1     \n",
       "11 5  3  0      0      0      1     \n",
       "12 5  2  0      0      0      1     "
      ]
     },
     "metadata": {},
     "output_type": "display_data"
    }
   ],
   "source": []
  },
  {
   "cell_type": "code",
   "execution_count": 8,
   "metadata": {
    "scrolled": true
   },
   "outputs": [
    {
     "data": {
      "text/html": [
       "<ol>\n",
       "\t<li><ol>\n",
       "\t<li><table>\n",
       "<tbody>\n",
       "\t<tr><td> 2.254744 </td><td>-1.374785 </td><td> 5.994381 </td><td> 4.9450221</td></tr>\n",
       "\t<tr><td>-1.650311 </td><td> 1.981888 </td><td>-3.958157 </td><td>-0.5110347</td></tr>\n",
       "\t<tr><td> 2.460932 </td><td>-3.236536 </td><td>-0.374824 </td><td>-1.2948784</td></tr>\n",
       "</tbody>\n",
       "</table>\n",
       "</li>\n",
       "\t<li><table>\n",
       "<tbody>\n",
       "\t<tr><td> -2.5762059</td><td>  3.587781 </td><td> -5.8629443</td><td>   7.644005</td></tr>\n",
       "\t<tr><td>  0.8821328</td><td> 22.487792 </td><td>  0.1441206</td><td> -14.525255</td></tr>\n",
       "\t<tr><td>-47.4210797</td><td>-48.167602 </td><td>-14.6422514</td><td> 109.745280</td></tr>\n",
       "\t<tr><td>  7.0460104</td><td>-87.368239 </td><td>-93.1294598</td><td>-112.304107</td></tr>\n",
       "\t<tr><td>  3.0062440</td><td>-74.922603 </td><td> 15.2388049</td><td> -45.254427</td></tr>\n",
       "</tbody>\n",
       "</table>\n",
       "</li>\n",
       "</ol>\n",
       "</li>\n",
       "</ol>\n"
      ],
      "text/latex": [
       "\\begin{enumerate}\n",
       "\\item \\begin{enumerate}\n",
       "\\item \\begin{tabular}{llll}\n",
       "\t  2.254744  & -1.374785  &  5.994381  &  4.9450221\\\\\n",
       "\t -1.650311  &  1.981888  & -3.958157  & -0.5110347\\\\\n",
       "\t  2.460932  & -3.236536  & -0.374824  & -1.2948784\\\\\n",
       "\\end{tabular}\n",
       "\n",
       "\\item \\begin{tabular}{llll}\n",
       "\t  -2.5762059 &   3.587781  &  -5.8629443 &    7.644005\\\\\n",
       "\t   0.8821328 &  22.487792  &   0.1441206 &  -14.525255\\\\\n",
       "\t -47.4210797 & -48.167602  & -14.6422514 &  109.745280\\\\\n",
       "\t   7.0460104 & -87.368239  & -93.1294598 & -112.304107\\\\\n",
       "\t   3.0062440 & -74.922603  &  15.2388049 &  -45.254427\\\\\n",
       "\\end{tabular}\n",
       "\n",
       "\\end{enumerate}\n",
       "\n",
       "\\end{enumerate}\n"
      ],
      "text/markdown": [
       "1. 1. \n",
       "|  2.254744  | -1.374785  |  5.994381  |  4.9450221 |\n",
       "| -1.650311  |  1.981888  | -3.958157  | -0.5110347 |\n",
       "|  2.460932  | -3.236536  | -0.374824  | -1.2948784 |\n",
       "\n",
       "\n",
       "2. \n",
       "|  -2.5762059 |   3.587781  |  -5.8629443 |    7.644005 |\n",
       "|   0.8821328 |  22.487792  |   0.1441206 |  -14.525255 |\n",
       "| -47.4210797 | -48.167602  | -14.6422514 |  109.745280 |\n",
       "|   7.0460104 | -87.368239  | -93.1294598 | -112.304107 |\n",
       "|   3.0062440 | -74.922603  |  15.2388049 |  -45.254427 |\n",
       "\n",
       "\n",
       "\n",
       "\n",
       "\n",
       "\n",
       "\n"
      ],
      "text/plain": [
       "[[1]]\n",
       "[[1]][[1]]\n",
       "          [,1]      [,2]      [,3]       [,4]\n",
       "[1,]  2.254744 -1.374785  5.994381  4.9450221\n",
       "[2,] -1.650311  1.981888 -3.958157 -0.5110347\n",
       "[3,]  2.460932 -3.236536 -0.374824 -1.2948784\n",
       "\n",
       "[[1]][[2]]\n",
       "            [,1]       [,2]        [,3]        [,4]\n",
       "[1,]  -2.5762059   3.587781  -5.8629443    7.644005\n",
       "[2,]   0.8821328  22.487792   0.1441206  -14.525255\n",
       "[3,] -47.4210797 -48.167602 -14.6422514  109.745280\n",
       "[4,]   7.0460104 -87.368239 -93.1294598 -112.304107\n",
       "[5,]   3.0062440 -74.922603  15.2388049  -45.254427\n",
       "\n"
      ]
     },
     "metadata": {},
     "output_type": "display_data"
    }
   ],
   "source": []
  },
  {
   "cell_type": "code",
   "execution_count": 9,
   "metadata": {},
   "outputs": [
    {
     "data": {
      "text/html": [
       "<table>\n",
       "<thead><tr><th scope=col>A</th><th scope=col>B</th><th scope=col>C</th><th scope=col>D</th></tr></thead>\n",
       "<tbody>\n",
       "\t<tr><td>2.899090e-03</td><td>1.003877e-15</td><td>9.442328e-01</td><td>1.253309e-10</td></tr>\n",
       "\t<tr><td>9.212635e-01</td><td>1.190100e-13</td><td>2.625905e-24</td><td>2.466435e-32</td></tr>\n",
       "\t<tr><td>3.085933e-01</td><td>9.987781e-01</td><td>5.019562e-03</td><td>1.306947e-09</td></tr>\n",
       "\t<tr><td>3.062029e-01</td><td>3.703318e-02</td><td>4.903305e-01</td><td>5.705492e-11</td></tr>\n",
       "\t<tr><td>5.416754e-01</td><td>3.167715e-18</td><td>5.049733e-01</td><td>2.469246e-21</td></tr>\n",
       "\t<tr><td>9.797623e-01</td><td>2.546846e-54</td><td>2.738987e-31</td><td>4.687097e-60</td></tr>\n",
       "\t<tr><td>5.416754e-01</td><td>3.167715e-18</td><td>5.049733e-01</td><td>2.469246e-21</td></tr>\n",
       "\t<tr><td>3.062029e-01</td><td>3.703318e-02</td><td>4.903305e-01</td><td>5.705492e-11</td></tr>\n",
       "\t<tr><td>5.457457e-02</td><td>9.362834e-01</td><td>1.017834e-01</td><td>7.881469e-07</td></tr>\n",
       "\t<tr><td>1.487703e-11</td><td>1.418135e-22</td><td>1.004567e-02</td><td>1.000000e+00</td></tr>\n",
       "\t<tr><td>3.692211e-06</td><td>2.889063e-02</td><td>1.640911e-03</td><td>9.999988e-01</td></tr>\n",
       "\t<tr><td>1.979663e-19</td><td>6.877242e-30</td><td>6.425034e-06</td><td>1.000000e+00</td></tr>\n",
       "</tbody>\n",
       "</table>\n"
      ],
      "text/latex": [
       "\\begin{tabular}{r|llll}\n",
       " A & B & C & D\\\\\n",
       "\\hline\n",
       "\t 2.899090e-03 & 1.003877e-15 & 9.442328e-01 & 1.253309e-10\\\\\n",
       "\t 9.212635e-01 & 1.190100e-13 & 2.625905e-24 & 2.466435e-32\\\\\n",
       "\t 3.085933e-01 & 9.987781e-01 & 5.019562e-03 & 1.306947e-09\\\\\n",
       "\t 3.062029e-01 & 3.703318e-02 & 4.903305e-01 & 5.705492e-11\\\\\n",
       "\t 5.416754e-01 & 3.167715e-18 & 5.049733e-01 & 2.469246e-21\\\\\n",
       "\t 9.797623e-01 & 2.546846e-54 & 2.738987e-31 & 4.687097e-60\\\\\n",
       "\t 5.416754e-01 & 3.167715e-18 & 5.049733e-01 & 2.469246e-21\\\\\n",
       "\t 3.062029e-01 & 3.703318e-02 & 4.903305e-01 & 5.705492e-11\\\\\n",
       "\t 5.457457e-02 & 9.362834e-01 & 1.017834e-01 & 7.881469e-07\\\\\n",
       "\t 1.487703e-11 & 1.418135e-22 & 1.004567e-02 & 1.000000e+00\\\\\n",
       "\t 3.692211e-06 & 2.889063e-02 & 1.640911e-03 & 9.999988e-01\\\\\n",
       "\t 1.979663e-19 & 6.877242e-30 & 6.425034e-06 & 1.000000e+00\\\\\n",
       "\\end{tabular}\n"
      ],
      "text/markdown": [
       "\n",
       "| A | B | C | D |\n",
       "|---|---|---|---|\n",
       "| 2.899090e-03 | 1.003877e-15 | 9.442328e-01 | 1.253309e-10 |\n",
       "| 9.212635e-01 | 1.190100e-13 | 2.625905e-24 | 2.466435e-32 |\n",
       "| 3.085933e-01 | 9.987781e-01 | 5.019562e-03 | 1.306947e-09 |\n",
       "| 3.062029e-01 | 3.703318e-02 | 4.903305e-01 | 5.705492e-11 |\n",
       "| 5.416754e-01 | 3.167715e-18 | 5.049733e-01 | 2.469246e-21 |\n",
       "| 9.797623e-01 | 2.546846e-54 | 2.738987e-31 | 4.687097e-60 |\n",
       "| 5.416754e-01 | 3.167715e-18 | 5.049733e-01 | 2.469246e-21 |\n",
       "| 3.062029e-01 | 3.703318e-02 | 4.903305e-01 | 5.705492e-11 |\n",
       "| 5.457457e-02 | 9.362834e-01 | 1.017834e-01 | 7.881469e-07 |\n",
       "| 1.487703e-11 | 1.418135e-22 | 1.004567e-02 | 1.000000e+00 |\n",
       "| 3.692211e-06 | 2.889063e-02 | 1.640911e-03 | 9.999988e-01 |\n",
       "| 1.979663e-19 | 6.877242e-30 | 6.425034e-06 | 1.000000e+00 |\n",
       "\n"
      ],
      "text/plain": [
       "   A            B            C            D           \n",
       "1  2.899090e-03 1.003877e-15 9.442328e-01 1.253309e-10\n",
       "2  9.212635e-01 1.190100e-13 2.625905e-24 2.466435e-32\n",
       "3  3.085933e-01 9.987781e-01 5.019562e-03 1.306947e-09\n",
       "4  3.062029e-01 3.703318e-02 4.903305e-01 5.705492e-11\n",
       "5  5.416754e-01 3.167715e-18 5.049733e-01 2.469246e-21\n",
       "6  9.797623e-01 2.546846e-54 2.738987e-31 4.687097e-60\n",
       "7  5.416754e-01 3.167715e-18 5.049733e-01 2.469246e-21\n",
       "8  3.062029e-01 3.703318e-02 4.903305e-01 5.705492e-11\n",
       "9  5.457457e-02 9.362834e-01 1.017834e-01 7.881469e-07\n",
       "10 1.487703e-11 1.418135e-22 1.004567e-02 1.000000e+00\n",
       "11 3.692211e-06 2.889063e-02 1.640911e-03 9.999988e-01\n",
       "12 1.979663e-19 6.877242e-30 6.425034e-06 1.000000e+00"
      ]
     },
     "metadata": {},
     "output_type": "display_data"
    }
   ],
   "source": []
  },
  {
   "cell_type": "code",
   "execution_count": 10,
   "metadata": {},
   "outputs": [
    {
     "data": {
      "text/html": [
       "<table>\n",
       "<thead><tr><th scope=col>A</th><th scope=col>B</th><th scope=col>C</th><th scope=col>D</th></tr></thead>\n",
       "<tbody>\n",
       "\t<tr><td>0.5293873       </td><td>0.00000009723511</td><td>0.1005532       </td><td>6.808491e-16    </td></tr>\n",
       "</tbody>\n",
       "</table>\n"
      ],
      "text/latex": [
       "\\begin{tabular}{r|llll}\n",
       " A & B & C & D\\\\\n",
       "\\hline\n",
       "\t 0.5293873        & 0.00000009723511 & 0.1005532        & 6.808491e-16    \\\\\n",
       "\\end{tabular}\n"
      ],
      "text/markdown": [
       "\n",
       "| A | B | C | D |\n",
       "|---|---|---|---|\n",
       "| 0.5293873        | 0.00000009723511 | 0.1005532        | 6.808491e-16     |\n",
       "\n"
      ],
      "text/plain": [
       "  A         B                C         D           \n",
       "1 0.5293873 0.00000009723511 0.1005532 6.808491e-16"
      ]
     },
     "metadata": {},
     "output_type": "display_data"
    }
   ],
   "source": []
  },
  {
   "cell_type": "code",
   "execution_count": 11,
   "metadata": {},
   "outputs": [
    {
     "data": {
      "text/html": [
       "A\n",
       "<details>\n",
       "\t<summary style=display:list-item;cursor:pointer>\n",
       "\t\t<strong>Levels</strong>:\n",
       "\t</summary>\n",
       "\t<ol class=list-inline>\n",
       "\t\t<li>'A'</li>\n",
       "\t\t<li>'B'</li>\n",
       "\t\t<li>'C'</li>\n",
       "\t\t<li>'D'</li>\n",
       "\t</ol>\n",
       "</details>"
      ],
      "text/latex": [
       "A\n",
       "\\emph{Levels}: \\begin{enumerate*}\n",
       "\\item 'A'\n",
       "\\item 'B'\n",
       "\\item 'C'\n",
       "\\item 'D'\n",
       "\\end{enumerate*}\n"
      ],
      "text/markdown": [
       "A\n",
       "**Levels**: 1. 'A'\n",
       "2. 'B'\n",
       "3. 'C'\n",
       "4. 'D'\n",
       "\n",
       "\n"
      ],
      "text/plain": [
       "[1] A\n",
       "Levels: A B C D"
      ]
     },
     "metadata": {},
     "output_type": "display_data"
    }
   ],
   "source": []
  },
  {
   "cell_type": "markdown",
   "metadata": {},
   "source": [
    "## Problem 3\n",
    "\n",
    "Build a multinomial support vector machine model to predict class given x1 and x2, using the **one vs. many** approach.\n",
    "\n",
    "Show the one vs. many datasets.<br>\n",
    "Show the parameters for each submodel.<br>\n",
    "Show the probabilities resulting from submodels applied to `new`.<br>\n",
    "Predict `new`'s class by maximum probability pick. \n",
    "\n",
    "You may want to use these function(s):\n",
    "* factor()\n",
    "* set.seed()\n",
    "* svm()\n",
    "* as.data.frame()\n",
    "* attr()\n",
    "* predict()\n",
    "* pick()\n",
    "\n",
    "Use `svm(..., ..., type=\"C-classification\", kernel=\"polynomial\", degree=3, coef0=0, gamma=0.25, cost=10, scale=FALSE, probability=TRUE)` to build the submodels - preceed each use of `svm` with `set.seed(0)`.<br>\n",
    "Use `as.data.frame(attr(predict(..., ..., probability=TRUE), \"probabilities\"))` to get the probabilities calculated by the models. "
   ]
  },
  {
   "cell_type": "code",
   "execution_count": 12,
   "metadata": {
    "scrolled": false
   },
   "outputs": [
    {
     "data": {
      "text/html": [
       "<table>\n",
       "<thead><tr><th scope=col>x1</th><th scope=col>x2</th><th scope=col>class</th></tr></thead>\n",
       "<tbody>\n",
       "\t<tr><td>3    </td><td>2    </td><td>other</td></tr>\n",
       "\t<tr><td>1    </td><td>5    </td><td>A    </td></tr>\n",
       "\t<tr><td>2    </td><td>4    </td><td>other</td></tr>\n",
       "\t<tr><td>3    </td><td>3    </td><td>other</td></tr>\n",
       "\t<tr><td>2    </td><td>2    </td><td>A    </td></tr>\n",
       "\t<tr><td>1    </td><td>1    </td><td>A    </td></tr>\n",
       "\t<tr><td>2    </td><td>2    </td><td>other</td></tr>\n",
       "\t<tr><td>3    </td><td>3    </td><td>A    </td></tr>\n",
       "\t<tr><td>4    </td><td>3    </td><td>other</td></tr>\n",
       "\t<tr><td>4    </td><td>2    </td><td>other</td></tr>\n",
       "\t<tr><td>5    </td><td>3    </td><td>other</td></tr>\n",
       "\t<tr><td>5    </td><td>2    </td><td>other</td></tr>\n",
       "</tbody>\n",
       "</table>\n"
      ],
      "text/latex": [
       "\\begin{tabular}{r|lll}\n",
       " x1 & x2 & class\\\\\n",
       "\\hline\n",
       "\t 3     & 2     & other\\\\\n",
       "\t 1     & 5     & A    \\\\\n",
       "\t 2     & 4     & other\\\\\n",
       "\t 3     & 3     & other\\\\\n",
       "\t 2     & 2     & A    \\\\\n",
       "\t 1     & 1     & A    \\\\\n",
       "\t 2     & 2     & other\\\\\n",
       "\t 3     & 3     & A    \\\\\n",
       "\t 4     & 3     & other\\\\\n",
       "\t 4     & 2     & other\\\\\n",
       "\t 5     & 3     & other\\\\\n",
       "\t 5     & 2     & other\\\\\n",
       "\\end{tabular}\n"
      ],
      "text/markdown": [
       "\n",
       "| x1 | x2 | class |\n",
       "|---|---|---|\n",
       "| 3     | 2     | other |\n",
       "| 1     | 5     | A     |\n",
       "| 2     | 4     | other |\n",
       "| 3     | 3     | other |\n",
       "| 2     | 2     | A     |\n",
       "| 1     | 1     | A     |\n",
       "| 2     | 2     | other |\n",
       "| 3     | 3     | A     |\n",
       "| 4     | 3     | other |\n",
       "| 4     | 2     | other |\n",
       "| 5     | 3     | other |\n",
       "| 5     | 2     | other |\n",
       "\n"
      ],
      "text/plain": [
       "   x1 x2 class\n",
       "1  3  2  other\n",
       "2  1  5  A    \n",
       "3  2  4  other\n",
       "4  3  3  other\n",
       "5  2  2  A    \n",
       "6  1  1  A    \n",
       "7  2  2  other\n",
       "8  3  3  A    \n",
       "9  4  3  other\n",
       "10 4  2  other\n",
       "11 5  3  other\n",
       "12 5  2  other"
      ]
     },
     "metadata": {},
     "output_type": "display_data"
    }
   ],
   "source": []
  },
  {
   "cell_type": "code",
   "execution_count": 13,
   "metadata": {
    "scrolled": false
   },
   "outputs": [
    {
     "data": {
      "text/html": [
       "<table>\n",
       "<thead><tr><th scope=col>x1</th><th scope=col>x2</th><th scope=col>class</th></tr></thead>\n",
       "<tbody>\n",
       "\t<tr><td>3    </td><td>2    </td><td>other</td></tr>\n",
       "\t<tr><td>1    </td><td>5    </td><td>other</td></tr>\n",
       "\t<tr><td>2    </td><td>4    </td><td>B    </td></tr>\n",
       "\t<tr><td>3    </td><td>3    </td><td>other</td></tr>\n",
       "\t<tr><td>2    </td><td>2    </td><td>other</td></tr>\n",
       "\t<tr><td>1    </td><td>1    </td><td>other</td></tr>\n",
       "\t<tr><td>2    </td><td>2    </td><td>other</td></tr>\n",
       "\t<tr><td>3    </td><td>3    </td><td>other</td></tr>\n",
       "\t<tr><td>4    </td><td>3    </td><td>B    </td></tr>\n",
       "\t<tr><td>4    </td><td>2    </td><td>other</td></tr>\n",
       "\t<tr><td>5    </td><td>3    </td><td>other</td></tr>\n",
       "\t<tr><td>5    </td><td>2    </td><td>other</td></tr>\n",
       "</tbody>\n",
       "</table>\n"
      ],
      "text/latex": [
       "\\begin{tabular}{r|lll}\n",
       " x1 & x2 & class\\\\\n",
       "\\hline\n",
       "\t 3     & 2     & other\\\\\n",
       "\t 1     & 5     & other\\\\\n",
       "\t 2     & 4     & B    \\\\\n",
       "\t 3     & 3     & other\\\\\n",
       "\t 2     & 2     & other\\\\\n",
       "\t 1     & 1     & other\\\\\n",
       "\t 2     & 2     & other\\\\\n",
       "\t 3     & 3     & other\\\\\n",
       "\t 4     & 3     & B    \\\\\n",
       "\t 4     & 2     & other\\\\\n",
       "\t 5     & 3     & other\\\\\n",
       "\t 5     & 2     & other\\\\\n",
       "\\end{tabular}\n"
      ],
      "text/markdown": [
       "\n",
       "| x1 | x2 | class |\n",
       "|---|---|---|\n",
       "| 3     | 2     | other |\n",
       "| 1     | 5     | other |\n",
       "| 2     | 4     | B     |\n",
       "| 3     | 3     | other |\n",
       "| 2     | 2     | other |\n",
       "| 1     | 1     | other |\n",
       "| 2     | 2     | other |\n",
       "| 3     | 3     | other |\n",
       "| 4     | 3     | B     |\n",
       "| 4     | 2     | other |\n",
       "| 5     | 3     | other |\n",
       "| 5     | 2     | other |\n",
       "\n"
      ],
      "text/plain": [
       "   x1 x2 class\n",
       "1  3  2  other\n",
       "2  1  5  other\n",
       "3  2  4  B    \n",
       "4  3  3  other\n",
       "5  2  2  other\n",
       "6  1  1  other\n",
       "7  2  2  other\n",
       "8  3  3  other\n",
       "9  4  3  B    \n",
       "10 4  2  other\n",
       "11 5  3  other\n",
       "12 5  2  other"
      ]
     },
     "metadata": {},
     "output_type": "display_data"
    }
   ],
   "source": []
  },
  {
   "cell_type": "code",
   "execution_count": 14,
   "metadata": {
    "scrolled": false
   },
   "outputs": [
    {
     "data": {
      "text/html": [
       "<table>\n",
       "<thead><tr><th scope=col>x1</th><th scope=col>x2</th><th scope=col>class</th></tr></thead>\n",
       "<tbody>\n",
       "\t<tr><td>3    </td><td>2    </td><td>C    </td></tr>\n",
       "\t<tr><td>1    </td><td>5    </td><td>other</td></tr>\n",
       "\t<tr><td>2    </td><td>4    </td><td>other</td></tr>\n",
       "\t<tr><td>3    </td><td>3    </td><td>C    </td></tr>\n",
       "\t<tr><td>2    </td><td>2    </td><td>other</td></tr>\n",
       "\t<tr><td>1    </td><td>1    </td><td>other</td></tr>\n",
       "\t<tr><td>2    </td><td>2    </td><td>C    </td></tr>\n",
       "\t<tr><td>3    </td><td>3    </td><td>other</td></tr>\n",
       "\t<tr><td>4    </td><td>3    </td><td>other</td></tr>\n",
       "\t<tr><td>4    </td><td>2    </td><td>other</td></tr>\n",
       "\t<tr><td>5    </td><td>3    </td><td>other</td></tr>\n",
       "\t<tr><td>5    </td><td>2    </td><td>other</td></tr>\n",
       "</tbody>\n",
       "</table>\n"
      ],
      "text/latex": [
       "\\begin{tabular}{r|lll}\n",
       " x1 & x2 & class\\\\\n",
       "\\hline\n",
       "\t 3     & 2     & C    \\\\\n",
       "\t 1     & 5     & other\\\\\n",
       "\t 2     & 4     & other\\\\\n",
       "\t 3     & 3     & C    \\\\\n",
       "\t 2     & 2     & other\\\\\n",
       "\t 1     & 1     & other\\\\\n",
       "\t 2     & 2     & C    \\\\\n",
       "\t 3     & 3     & other\\\\\n",
       "\t 4     & 3     & other\\\\\n",
       "\t 4     & 2     & other\\\\\n",
       "\t 5     & 3     & other\\\\\n",
       "\t 5     & 2     & other\\\\\n",
       "\\end{tabular}\n"
      ],
      "text/markdown": [
       "\n",
       "| x1 | x2 | class |\n",
       "|---|---|---|\n",
       "| 3     | 2     | C     |\n",
       "| 1     | 5     | other |\n",
       "| 2     | 4     | other |\n",
       "| 3     | 3     | C     |\n",
       "| 2     | 2     | other |\n",
       "| 1     | 1     | other |\n",
       "| 2     | 2     | C     |\n",
       "| 3     | 3     | other |\n",
       "| 4     | 3     | other |\n",
       "| 4     | 2     | other |\n",
       "| 5     | 3     | other |\n",
       "| 5     | 2     | other |\n",
       "\n"
      ],
      "text/plain": [
       "   x1 x2 class\n",
       "1  3  2  C    \n",
       "2  1  5  other\n",
       "3  2  4  other\n",
       "4  3  3  C    \n",
       "5  2  2  other\n",
       "6  1  1  other\n",
       "7  2  2  C    \n",
       "8  3  3  other\n",
       "9  4  3  other\n",
       "10 4  2  other\n",
       "11 5  3  other\n",
       "12 5  2  other"
      ]
     },
     "metadata": {},
     "output_type": "display_data"
    }
   ],
   "source": []
  },
  {
   "cell_type": "code",
   "execution_count": 15,
   "metadata": {
    "scrolled": false
   },
   "outputs": [
    {
     "data": {
      "text/html": [
       "<table>\n",
       "<thead><tr><th scope=col>x1</th><th scope=col>x2</th><th scope=col>class</th></tr></thead>\n",
       "<tbody>\n",
       "\t<tr><td>3    </td><td>2    </td><td>other</td></tr>\n",
       "\t<tr><td>1    </td><td>5    </td><td>other</td></tr>\n",
       "\t<tr><td>2    </td><td>4    </td><td>other</td></tr>\n",
       "\t<tr><td>3    </td><td>3    </td><td>other</td></tr>\n",
       "\t<tr><td>2    </td><td>2    </td><td>other</td></tr>\n",
       "\t<tr><td>1    </td><td>1    </td><td>other</td></tr>\n",
       "\t<tr><td>2    </td><td>2    </td><td>other</td></tr>\n",
       "\t<tr><td>3    </td><td>3    </td><td>other</td></tr>\n",
       "\t<tr><td>4    </td><td>3    </td><td>other</td></tr>\n",
       "\t<tr><td>4    </td><td>2    </td><td>D    </td></tr>\n",
       "\t<tr><td>5    </td><td>3    </td><td>D    </td></tr>\n",
       "\t<tr><td>5    </td><td>2    </td><td>D    </td></tr>\n",
       "</tbody>\n",
       "</table>\n"
      ],
      "text/latex": [
       "\\begin{tabular}{r|lll}\n",
       " x1 & x2 & class\\\\\n",
       "\\hline\n",
       "\t 3     & 2     & other\\\\\n",
       "\t 1     & 5     & other\\\\\n",
       "\t 2     & 4     & other\\\\\n",
       "\t 3     & 3     & other\\\\\n",
       "\t 2     & 2     & other\\\\\n",
       "\t 1     & 1     & other\\\\\n",
       "\t 2     & 2     & other\\\\\n",
       "\t 3     & 3     & other\\\\\n",
       "\t 4     & 3     & other\\\\\n",
       "\t 4     & 2     & D    \\\\\n",
       "\t 5     & 3     & D    \\\\\n",
       "\t 5     & 2     & D    \\\\\n",
       "\\end{tabular}\n"
      ],
      "text/markdown": [
       "\n",
       "| x1 | x2 | class |\n",
       "|---|---|---|\n",
       "| 3     | 2     | other |\n",
       "| 1     | 5     | other |\n",
       "| 2     | 4     | other |\n",
       "| 3     | 3     | other |\n",
       "| 2     | 2     | other |\n",
       "| 1     | 1     | other |\n",
       "| 2     | 2     | other |\n",
       "| 3     | 3     | other |\n",
       "| 4     | 3     | other |\n",
       "| 4     | 2     | D     |\n",
       "| 5     | 3     | D     |\n",
       "| 5     | 2     | D     |\n",
       "\n"
      ],
      "text/plain": [
       "   x1 x2 class\n",
       "1  3  2  other\n",
       "2  1  5  other\n",
       "3  2  4  other\n",
       "4  3  3  other\n",
       "5  2  2  other\n",
       "6  1  1  other\n",
       "7  2  2  other\n",
       "8  3  3  other\n",
       "9  4  3  other\n",
       "10 4  2  D    \n",
       "11 5  3  D    \n",
       "12 5  2  D    "
      ]
     },
     "metadata": {},
     "output_type": "display_data"
    }
   ],
   "source": []
  },
  {
   "cell_type": "code",
   "execution_count": 16,
   "metadata": {},
   "outputs": [
    {
     "data": {
      "text/plain": [
       "\n",
       "Call:\n",
       "svm(formula = class ~ x1 + x2, data = data.Ao, type = \"C-classification\", \n",
       "    kernel = \"polynomial\", degree = 3, coef0 = 0, gamma = 0.25, cost = 10, \n",
       "    probability = TRUE, scale = FALSE)\n",
       "\n",
       "\n",
       "Parameters:\n",
       "   SVM-Type:  C-classification \n",
       " SVM-Kernel:  polynomial \n",
       "       cost:  10 \n",
       "     degree:  3 \n",
       "     coef.0:  0 \n",
       "\n",
       "Number of Support Vectors:  8\n"
      ]
     },
     "metadata": {},
     "output_type": "display_data"
    },
    {
     "data": {
      "text/plain": [
       "\n",
       "Call:\n",
       "svm(formula = class ~ x1 + x2, data = data.Bo, type = \"C-classification\", \n",
       "    kernel = \"polynomial\", degree = 3, coef0 = 0, gamma = 0.25, cost = 10, \n",
       "    probability = TRUE, scale = FALSE)\n",
       "\n",
       "\n",
       "Parameters:\n",
       "   SVM-Type:  C-classification \n",
       " SVM-Kernel:  polynomial \n",
       "       cost:  10 \n",
       "     degree:  3 \n",
       "     coef.0:  0 \n",
       "\n",
       "Number of Support Vectors:  4\n"
      ]
     },
     "metadata": {},
     "output_type": "display_data"
    },
    {
     "data": {
      "text/plain": [
       "\n",
       "Call:\n",
       "svm(formula = class ~ x1 + x2, data = data.Co, type = \"C-classification\", \n",
       "    kernel = \"polynomial\", degree = 3, coef0 = 0, gamma = 0.25, cost = 10, \n",
       "    probability = TRUE, scale = FALSE)\n",
       "\n",
       "\n",
       "Parameters:\n",
       "   SVM-Type:  C-classification \n",
       " SVM-Kernel:  polynomial \n",
       "       cost:  10 \n",
       "     degree:  3 \n",
       "     coef.0:  0 \n",
       "\n",
       "Number of Support Vectors:  9\n"
      ]
     },
     "metadata": {},
     "output_type": "display_data"
    },
    {
     "data": {
      "text/plain": [
       "\n",
       "Call:\n",
       "svm(formula = class ~ x1 + x2, data = data.Do, type = \"C-classification\", \n",
       "    kernel = \"polynomial\", degree = 3, coef0 = 0, gamma = 0.25, cost = 10, \n",
       "    probability = TRUE, scale = FALSE)\n",
       "\n",
       "\n",
       "Parameters:\n",
       "   SVM-Type:  C-classification \n",
       " SVM-Kernel:  polynomial \n",
       "       cost:  10 \n",
       "     degree:  3 \n",
       "     coef.0:  0 \n",
       "\n",
       "Number of Support Vectors:  3\n"
      ]
     },
     "metadata": {},
     "output_type": "display_data"
    }
   ],
   "source": []
  },
  {
   "cell_type": "code",
   "execution_count": 17,
   "metadata": {},
   "outputs": [
    {
     "data": {
      "text/html": [
       "<table>\n",
       "<thead><tr><th scope=col>other</th><th scope=col>A</th></tr></thead>\n",
       "<tbody>\n",
       "\t<tr><td>0.606236</td><td>0.393764</td></tr>\n",
       "</tbody>\n",
       "</table>\n"
      ],
      "text/latex": [
       "\\begin{tabular}{r|ll}\n",
       " other & A\\\\\n",
       "\\hline\n",
       "\t 0.606236 & 0.393764\\\\\n",
       "\\end{tabular}\n"
      ],
      "text/markdown": [
       "\n",
       "| other | A |\n",
       "|---|---|\n",
       "| 0.606236 | 0.393764 |\n",
       "\n"
      ],
      "text/plain": [
       "  other    A       \n",
       "1 0.606236 0.393764"
      ]
     },
     "metadata": {},
     "output_type": "display_data"
    },
    {
     "data": {
      "text/html": [
       "<table>\n",
       "<thead><tr><th scope=col>other</th><th scope=col>B</th></tr></thead>\n",
       "<tbody>\n",
       "\t<tr><td>0.8184663</td><td>0.1815337</td></tr>\n",
       "</tbody>\n",
       "</table>\n"
      ],
      "text/latex": [
       "\\begin{tabular}{r|ll}\n",
       " other & B\\\\\n",
       "\\hline\n",
       "\t 0.8184663 & 0.1815337\\\\\n",
       "\\end{tabular}\n"
      ],
      "text/markdown": [
       "\n",
       "| other | B |\n",
       "|---|---|\n",
       "| 0.8184663 | 0.1815337 |\n",
       "\n"
      ],
      "text/plain": [
       "  other     B        \n",
       "1 0.8184663 0.1815337"
      ]
     },
     "metadata": {},
     "output_type": "display_data"
    },
    {
     "data": {
      "text/html": [
       "<table>\n",
       "<thead><tr><th scope=col>C</th><th scope=col>other</th></tr></thead>\n",
       "<tbody>\n",
       "\t<tr><td>0.2708015</td><td>0.7291985</td></tr>\n",
       "</tbody>\n",
       "</table>\n"
      ],
      "text/latex": [
       "\\begin{tabular}{r|ll}\n",
       " C & other\\\\\n",
       "\\hline\n",
       "\t 0.2708015 & 0.7291985\\\\\n",
       "\\end{tabular}\n"
      ],
      "text/markdown": [
       "\n",
       "| C | other |\n",
       "|---|---|\n",
       "| 0.2708015 | 0.7291985 |\n",
       "\n"
      ],
      "text/plain": [
       "  C         other    \n",
       "1 0.2708015 0.7291985"
      ]
     },
     "metadata": {},
     "output_type": "display_data"
    },
    {
     "data": {
      "text/html": [
       "<table>\n",
       "<thead><tr><th scope=col>other</th><th scope=col>D</th></tr></thead>\n",
       "<tbody>\n",
       "\t<tr><td>0.8992863</td><td>0.1007137</td></tr>\n",
       "</tbody>\n",
       "</table>\n"
      ],
      "text/latex": [
       "\\begin{tabular}{r|ll}\n",
       " other & D\\\\\n",
       "\\hline\n",
       "\t 0.8992863 & 0.1007137\\\\\n",
       "\\end{tabular}\n"
      ],
      "text/markdown": [
       "\n",
       "| other | D |\n",
       "|---|---|\n",
       "| 0.8992863 | 0.1007137 |\n",
       "\n"
      ],
      "text/plain": [
       "  other     D        \n",
       "1 0.8992863 0.1007137"
      ]
     },
     "metadata": {},
     "output_type": "display_data"
    }
   ],
   "source": []
  },
  {
   "cell_type": "code",
   "execution_count": 18,
   "metadata": {},
   "outputs": [
    {
     "data": {
      "text/html": [
       "<table>\n",
       "<thead><tr><th scope=col>A</th><th scope=col>B</th><th scope=col>C</th><th scope=col>D</th></tr></thead>\n",
       "<tbody>\n",
       "\t<tr><td>0.393764 </td><td>0.1815337</td><td>0.2708015</td><td>0.1007137</td></tr>\n",
       "</tbody>\n",
       "</table>\n"
      ],
      "text/latex": [
       "\\begin{tabular}{r|llll}\n",
       " A & B & C & D\\\\\n",
       "\\hline\n",
       "\t 0.393764  & 0.1815337 & 0.2708015 & 0.1007137\\\\\n",
       "\\end{tabular}\n"
      ],
      "text/markdown": [
       "\n",
       "| A | B | C | D |\n",
       "|---|---|---|---|\n",
       "| 0.393764  | 0.1815337 | 0.2708015 | 0.1007137 |\n",
       "\n"
      ],
      "text/plain": [
       "  A        B         C         D        \n",
       "1 0.393764 0.1815337 0.2708015 0.1007137"
      ]
     },
     "metadata": {},
     "output_type": "display_data"
    }
   ],
   "source": []
  },
  {
   "cell_type": "code",
   "execution_count": 19,
   "metadata": {},
   "outputs": [
    {
     "data": {
      "text/html": [
       "A\n",
       "<details>\n",
       "\t<summary style=display:list-item;cursor:pointer>\n",
       "\t\t<strong>Levels</strong>:\n",
       "\t</summary>\n",
       "\t<ol class=list-inline>\n",
       "\t\t<li>'A'</li>\n",
       "\t\t<li>'B'</li>\n",
       "\t\t<li>'C'</li>\n",
       "\t\t<li>'D'</li>\n",
       "\t</ol>\n",
       "</details>"
      ],
      "text/latex": [
       "A\n",
       "\\emph{Levels}: \\begin{enumerate*}\n",
       "\\item 'A'\n",
       "\\item 'B'\n",
       "\\item 'C'\n",
       "\\item 'D'\n",
       "\\end{enumerate*}\n"
      ],
      "text/markdown": [
       "A\n",
       "**Levels**: 1. 'A'\n",
       "2. 'B'\n",
       "3. 'C'\n",
       "4. 'D'\n",
       "\n",
       "\n"
      ],
      "text/plain": [
       "[1] A\n",
       "Levels: A B C D"
      ]
     },
     "metadata": {},
     "output_type": "display_data"
    }
   ],
   "source": []
  },
  {
   "cell_type": "markdown",
   "metadata": {},
   "source": [
    "## Problem 4\n",
    "\n",
    "Build a multinomial support vector machine model to predict class given x1 and x2, using the **one vs. one** approach.\n",
    "\n",
    "Show the one vs. one datasets.<br>\n",
    "Show the parameters for each submodel.<br>\n",
    "Show the probabilities resulting from submodels applied to `new`.<br>\n",
    "Predict `new`'s class by round robin competition. \n",
    "\n",
    "You may want to use these function(s):\n",
    "* set.seed()\n",
    "* svm()\n",
    "* as.data.frame()\n",
    "* attr()\n",
    "* predict()\n",
    "* round_robin()\n",
    "\n",
    "Use `svm(..., ..., type=\"C-classification\", kernel=\"polynomial\", degree=3, coef0=0, gamma=0.25, cost=10, scale=FALSE, probability=TRUE)` to build the submodels - preceed each use of `svm` with `set.seed(0)`.<br>\n",
    "Use `as.data.frame(attr(predict(..., ..., probability=TRUE), \"probabilities\"))` to get the probabilities calculated by the models. "
   ]
  },
  {
   "cell_type": "code",
   "execution_count": 20,
   "metadata": {
    "scrolled": true
   },
   "outputs": [
    {
     "data": {
      "text/html": [
       "<table>\n",
       "<thead><tr><th></th><th scope=col>x1</th><th scope=col>x2</th><th scope=col>class</th></tr></thead>\n",
       "<tbody>\n",
       "\t<tr><th scope=row>2</th><td>1</td><td>5</td><td>A</td></tr>\n",
       "\t<tr><th scope=row>3</th><td>2</td><td>4</td><td>B</td></tr>\n",
       "\t<tr><th scope=row>5</th><td>2</td><td>2</td><td>A</td></tr>\n",
       "\t<tr><th scope=row>6</th><td>1</td><td>1</td><td>A</td></tr>\n",
       "\t<tr><th scope=row>8</th><td>3</td><td>3</td><td>A</td></tr>\n",
       "\t<tr><th scope=row>9</th><td>4</td><td>3</td><td>B</td></tr>\n",
       "</tbody>\n",
       "</table>\n"
      ],
      "text/latex": [
       "\\begin{tabular}{r|lll}\n",
       "  & x1 & x2 & class\\\\\n",
       "\\hline\n",
       "\t2 & 1 & 5 & A\\\\\n",
       "\t3 & 2 & 4 & B\\\\\n",
       "\t5 & 2 & 2 & A\\\\\n",
       "\t6 & 1 & 1 & A\\\\\n",
       "\t8 & 3 & 3 & A\\\\\n",
       "\t9 & 4 & 3 & B\\\\\n",
       "\\end{tabular}\n"
      ],
      "text/markdown": [
       "\n",
       "| <!--/--> | x1 | x2 | class |\n",
       "|---|---|---|---|\n",
       "| 2 | 1 | 5 | A |\n",
       "| 3 | 2 | 4 | B |\n",
       "| 5 | 2 | 2 | A |\n",
       "| 6 | 1 | 1 | A |\n",
       "| 8 | 3 | 3 | A |\n",
       "| 9 | 4 | 3 | B |\n",
       "\n"
      ],
      "text/plain": [
       "  x1 x2 class\n",
       "2 1  5  A    \n",
       "3 2  4  B    \n",
       "5 2  2  A    \n",
       "6 1  1  A    \n",
       "8 3  3  A    \n",
       "9 4  3  B    "
      ]
     },
     "metadata": {},
     "output_type": "display_data"
    }
   ],
   "source": []
  },
  {
   "cell_type": "code",
   "execution_count": 21,
   "metadata": {
    "scrolled": true
   },
   "outputs": [
    {
     "data": {
      "text/html": [
       "<table>\n",
       "<thead><tr><th></th><th scope=col>x1</th><th scope=col>x2</th><th scope=col>class</th></tr></thead>\n",
       "<tbody>\n",
       "\t<tr><th scope=row>1</th><td>3</td><td>2</td><td>C</td></tr>\n",
       "\t<tr><th scope=row>2</th><td>1</td><td>5</td><td>A</td></tr>\n",
       "\t<tr><th scope=row>4</th><td>3</td><td>3</td><td>C</td></tr>\n",
       "\t<tr><th scope=row>5</th><td>2</td><td>2</td><td>A</td></tr>\n",
       "\t<tr><th scope=row>6</th><td>1</td><td>1</td><td>A</td></tr>\n",
       "\t<tr><th scope=row>7</th><td>2</td><td>2</td><td>C</td></tr>\n",
       "\t<tr><th scope=row>8</th><td>3</td><td>3</td><td>A</td></tr>\n",
       "</tbody>\n",
       "</table>\n"
      ],
      "text/latex": [
       "\\begin{tabular}{r|lll}\n",
       "  & x1 & x2 & class\\\\\n",
       "\\hline\n",
       "\t1 & 3 & 2 & C\\\\\n",
       "\t2 & 1 & 5 & A\\\\\n",
       "\t4 & 3 & 3 & C\\\\\n",
       "\t5 & 2 & 2 & A\\\\\n",
       "\t6 & 1 & 1 & A\\\\\n",
       "\t7 & 2 & 2 & C\\\\\n",
       "\t8 & 3 & 3 & A\\\\\n",
       "\\end{tabular}\n"
      ],
      "text/markdown": [
       "\n",
       "| <!--/--> | x1 | x2 | class |\n",
       "|---|---|---|---|\n",
       "| 1 | 3 | 2 | C |\n",
       "| 2 | 1 | 5 | A |\n",
       "| 4 | 3 | 3 | C |\n",
       "| 5 | 2 | 2 | A |\n",
       "| 6 | 1 | 1 | A |\n",
       "| 7 | 2 | 2 | C |\n",
       "| 8 | 3 | 3 | A |\n",
       "\n"
      ],
      "text/plain": [
       "  x1 x2 class\n",
       "1 3  2  C    \n",
       "2 1  5  A    \n",
       "4 3  3  C    \n",
       "5 2  2  A    \n",
       "6 1  1  A    \n",
       "7 2  2  C    \n",
       "8 3  3  A    "
      ]
     },
     "metadata": {},
     "output_type": "display_data"
    }
   ],
   "source": []
  },
  {
   "cell_type": "code",
   "execution_count": 22,
   "metadata": {
    "scrolled": true
   },
   "outputs": [
    {
     "data": {
      "text/html": [
       "<table>\n",
       "<thead><tr><th></th><th scope=col>x1</th><th scope=col>x2</th><th scope=col>class</th></tr></thead>\n",
       "<tbody>\n",
       "\t<tr><th scope=row>2</th><td>1</td><td>5</td><td>A</td></tr>\n",
       "\t<tr><th scope=row>5</th><td>2</td><td>2</td><td>A</td></tr>\n",
       "\t<tr><th scope=row>6</th><td>1</td><td>1</td><td>A</td></tr>\n",
       "\t<tr><th scope=row>8</th><td>3</td><td>3</td><td>A</td></tr>\n",
       "\t<tr><th scope=row>10</th><td>4</td><td>2</td><td>D</td></tr>\n",
       "\t<tr><th scope=row>11</th><td>5</td><td>3</td><td>D</td></tr>\n",
       "\t<tr><th scope=row>12</th><td>5</td><td>2</td><td>D</td></tr>\n",
       "</tbody>\n",
       "</table>\n"
      ],
      "text/latex": [
       "\\begin{tabular}{r|lll}\n",
       "  & x1 & x2 & class\\\\\n",
       "\\hline\n",
       "\t2 & 1 & 5 & A\\\\\n",
       "\t5 & 2 & 2 & A\\\\\n",
       "\t6 & 1 & 1 & A\\\\\n",
       "\t8 & 3 & 3 & A\\\\\n",
       "\t10 & 4 & 2 & D\\\\\n",
       "\t11 & 5 & 3 & D\\\\\n",
       "\t12 & 5 & 2 & D\\\\\n",
       "\\end{tabular}\n"
      ],
      "text/markdown": [
       "\n",
       "| <!--/--> | x1 | x2 | class |\n",
       "|---|---|---|---|\n",
       "| 2 | 1 | 5 | A |\n",
       "| 5 | 2 | 2 | A |\n",
       "| 6 | 1 | 1 | A |\n",
       "| 8 | 3 | 3 | A |\n",
       "| 10 | 4 | 2 | D |\n",
       "| 11 | 5 | 3 | D |\n",
       "| 12 | 5 | 2 | D |\n",
       "\n"
      ],
      "text/plain": [
       "   x1 x2 class\n",
       "2  1  5  A    \n",
       "5  2  2  A    \n",
       "6  1  1  A    \n",
       "8  3  3  A    \n",
       "10 4  2  D    \n",
       "11 5  3  D    \n",
       "12 5  2  D    "
      ]
     },
     "metadata": {},
     "output_type": "display_data"
    }
   ],
   "source": []
  },
  {
   "cell_type": "code",
   "execution_count": 23,
   "metadata": {
    "scrolled": true
   },
   "outputs": [
    {
     "data": {
      "text/html": [
       "<table>\n",
       "<thead><tr><th></th><th scope=col>x1</th><th scope=col>x2</th><th scope=col>class</th></tr></thead>\n",
       "<tbody>\n",
       "\t<tr><th scope=row>1</th><td>3</td><td>2</td><td>C</td></tr>\n",
       "\t<tr><th scope=row>3</th><td>2</td><td>4</td><td>B</td></tr>\n",
       "\t<tr><th scope=row>4</th><td>3</td><td>3</td><td>C</td></tr>\n",
       "\t<tr><th scope=row>7</th><td>2</td><td>2</td><td>C</td></tr>\n",
       "\t<tr><th scope=row>9</th><td>4</td><td>3</td><td>B</td></tr>\n",
       "</tbody>\n",
       "</table>\n"
      ],
      "text/latex": [
       "\\begin{tabular}{r|lll}\n",
       "  & x1 & x2 & class\\\\\n",
       "\\hline\n",
       "\t1 & 3 & 2 & C\\\\\n",
       "\t3 & 2 & 4 & B\\\\\n",
       "\t4 & 3 & 3 & C\\\\\n",
       "\t7 & 2 & 2 & C\\\\\n",
       "\t9 & 4 & 3 & B\\\\\n",
       "\\end{tabular}\n"
      ],
      "text/markdown": [
       "\n",
       "| <!--/--> | x1 | x2 | class |\n",
       "|---|---|---|---|\n",
       "| 1 | 3 | 2 | C |\n",
       "| 3 | 2 | 4 | B |\n",
       "| 4 | 3 | 3 | C |\n",
       "| 7 | 2 | 2 | C |\n",
       "| 9 | 4 | 3 | B |\n",
       "\n"
      ],
      "text/plain": [
       "  x1 x2 class\n",
       "1 3  2  C    \n",
       "3 2  4  B    \n",
       "4 3  3  C    \n",
       "7 2  2  C    \n",
       "9 4  3  B    "
      ]
     },
     "metadata": {},
     "output_type": "display_data"
    }
   ],
   "source": []
  },
  {
   "cell_type": "code",
   "execution_count": 24,
   "metadata": {
    "scrolled": true
   },
   "outputs": [
    {
     "data": {
      "text/html": [
       "<table>\n",
       "<thead><tr><th></th><th scope=col>x1</th><th scope=col>x2</th><th scope=col>class</th></tr></thead>\n",
       "<tbody>\n",
       "\t<tr><th scope=row>3</th><td>2</td><td>4</td><td>B</td></tr>\n",
       "\t<tr><th scope=row>9</th><td>4</td><td>3</td><td>B</td></tr>\n",
       "\t<tr><th scope=row>10</th><td>4</td><td>2</td><td>D</td></tr>\n",
       "\t<tr><th scope=row>11</th><td>5</td><td>3</td><td>D</td></tr>\n",
       "\t<tr><th scope=row>12</th><td>5</td><td>2</td><td>D</td></tr>\n",
       "</tbody>\n",
       "</table>\n"
      ],
      "text/latex": [
       "\\begin{tabular}{r|lll}\n",
       "  & x1 & x2 & class\\\\\n",
       "\\hline\n",
       "\t3 & 2 & 4 & B\\\\\n",
       "\t9 & 4 & 3 & B\\\\\n",
       "\t10 & 4 & 2 & D\\\\\n",
       "\t11 & 5 & 3 & D\\\\\n",
       "\t12 & 5 & 2 & D\\\\\n",
       "\\end{tabular}\n"
      ],
      "text/markdown": [
       "\n",
       "| <!--/--> | x1 | x2 | class |\n",
       "|---|---|---|---|\n",
       "| 3 | 2 | 4 | B |\n",
       "| 9 | 4 | 3 | B |\n",
       "| 10 | 4 | 2 | D |\n",
       "| 11 | 5 | 3 | D |\n",
       "| 12 | 5 | 2 | D |\n",
       "\n"
      ],
      "text/plain": [
       "   x1 x2 class\n",
       "3  2  4  B    \n",
       "9  4  3  B    \n",
       "10 4  2  D    \n",
       "11 5  3  D    \n",
       "12 5  2  D    "
      ]
     },
     "metadata": {},
     "output_type": "display_data"
    }
   ],
   "source": []
  },
  {
   "cell_type": "code",
   "execution_count": 25,
   "metadata": {
    "scrolled": true
   },
   "outputs": [
    {
     "data": {
      "text/html": [
       "<table>\n",
       "<thead><tr><th></th><th scope=col>x1</th><th scope=col>x2</th><th scope=col>class</th></tr></thead>\n",
       "<tbody>\n",
       "\t<tr><th scope=row>1</th><td>3</td><td>2</td><td>C</td></tr>\n",
       "\t<tr><th scope=row>4</th><td>3</td><td>3</td><td>C</td></tr>\n",
       "\t<tr><th scope=row>7</th><td>2</td><td>2</td><td>C</td></tr>\n",
       "\t<tr><th scope=row>10</th><td>4</td><td>2</td><td>D</td></tr>\n",
       "\t<tr><th scope=row>11</th><td>5</td><td>3</td><td>D</td></tr>\n",
       "\t<tr><th scope=row>12</th><td>5</td><td>2</td><td>D</td></tr>\n",
       "</tbody>\n",
       "</table>\n"
      ],
      "text/latex": [
       "\\begin{tabular}{r|lll}\n",
       "  & x1 & x2 & class\\\\\n",
       "\\hline\n",
       "\t1 & 3 & 2 & C\\\\\n",
       "\t4 & 3 & 3 & C\\\\\n",
       "\t7 & 2 & 2 & C\\\\\n",
       "\t10 & 4 & 2 & D\\\\\n",
       "\t11 & 5 & 3 & D\\\\\n",
       "\t12 & 5 & 2 & D\\\\\n",
       "\\end{tabular}\n"
      ],
      "text/markdown": [
       "\n",
       "| <!--/--> | x1 | x2 | class |\n",
       "|---|---|---|---|\n",
       "| 1 | 3 | 2 | C |\n",
       "| 4 | 3 | 3 | C |\n",
       "| 7 | 2 | 2 | C |\n",
       "| 10 | 4 | 2 | D |\n",
       "| 11 | 5 | 3 | D |\n",
       "| 12 | 5 | 2 | D |\n",
       "\n"
      ],
      "text/plain": [
       "   x1 x2 class\n",
       "1  3  2  C    \n",
       "4  3  3  C    \n",
       "7  2  2  C    \n",
       "10 4  2  D    \n",
       "11 5  3  D    \n",
       "12 5  2  D    "
      ]
     },
     "metadata": {},
     "output_type": "display_data"
    }
   ],
   "source": []
  },
  {
   "cell_type": "code",
   "execution_count": 26,
   "metadata": {},
   "outputs": [
    {
     "data": {
      "text/plain": [
       "\n",
       "Call:\n",
       "svm(formula = class ~ x1 + x2, data = data.AB, type = \"C-classification\", \n",
       "    kernel = \"polynomial\", degree = 3, coef0 = 0, gamma = 0.25, cost = 10, \n",
       "    probability = TRUE, scale = FALSE)\n",
       "\n",
       "\n",
       "Parameters:\n",
       "   SVM-Type:  C-classification \n",
       " SVM-Kernel:  polynomial \n",
       "       cost:  10 \n",
       "     degree:  3 \n",
       "     coef.0:  0 \n",
       "\n",
       "Number of Support Vectors:  4\n"
      ]
     },
     "metadata": {},
     "output_type": "display_data"
    },
    {
     "data": {
      "text/plain": [
       "\n",
       "Call:\n",
       "svm(formula = class ~ x1 + x2, data = data.AC, type = \"C-classification\", \n",
       "    kernel = \"polynomial\", degree = 3, coef0 = 0, gamma = 0.25, cost = 10, \n",
       "    probability = TRUE, scale = FALSE)\n",
       "\n",
       "\n",
       "Parameters:\n",
       "   SVM-Type:  C-classification \n",
       " SVM-Kernel:  polynomial \n",
       "       cost:  10 \n",
       "     degree:  3 \n",
       "     coef.0:  0 \n",
       "\n",
       "Number of Support Vectors:  6\n"
      ]
     },
     "metadata": {},
     "output_type": "display_data"
    },
    {
     "data": {
      "text/plain": [
       "\n",
       "Call:\n",
       "svm(formula = class ~ x1 + x2, data = data.AD, type = \"C-classification\", \n",
       "    kernel = \"polynomial\", degree = 3, coef0 = 0, gamma = 0.25, cost = 10, \n",
       "    probability = TRUE, scale = FALSE)\n",
       "\n",
       "\n",
       "Parameters:\n",
       "   SVM-Type:  C-classification \n",
       " SVM-Kernel:  polynomial \n",
       "       cost:  10 \n",
       "     degree:  3 \n",
       "     coef.0:  0 \n",
       "\n",
       "Number of Support Vectors:  2\n"
      ]
     },
     "metadata": {},
     "output_type": "display_data"
    },
    {
     "data": {
      "text/plain": [
       "\n",
       "Call:\n",
       "svm(formula = class ~ x1 + x2, data = data.BC, type = \"C-classification\", \n",
       "    kernel = \"polynomial\", degree = 3, coef0 = 0, gamma = 0.25, cost = 10, \n",
       "    probability = TRUE, scale = FALSE)\n",
       "\n",
       "\n",
       "Parameters:\n",
       "   SVM-Type:  C-classification \n",
       " SVM-Kernel:  polynomial \n",
       "       cost:  10 \n",
       "     degree:  3 \n",
       "     coef.0:  0 \n",
       "\n",
       "Number of Support Vectors:  3\n"
      ]
     },
     "metadata": {},
     "output_type": "display_data"
    },
    {
     "data": {
      "text/plain": [
       "\n",
       "Call:\n",
       "svm(formula = class ~ x1 + x2, data = data.BD, type = \"C-classification\", \n",
       "    kernel = \"polynomial\", degree = 3, coef0 = 0, gamma = 0.25, cost = 10, \n",
       "    probability = TRUE, scale = FALSE)\n",
       "\n",
       "\n",
       "Parameters:\n",
       "   SVM-Type:  C-classification \n",
       " SVM-Kernel:  polynomial \n",
       "       cost:  10 \n",
       "     degree:  3 \n",
       "     coef.0:  0 \n",
       "\n",
       "Number of Support Vectors:  3\n"
      ]
     },
     "metadata": {},
     "output_type": "display_data"
    },
    {
     "data": {
      "text/plain": [
       "\n",
       "Call:\n",
       "svm(formula = class ~ x1 + x2, data = data.CD, type = \"C-classification\", \n",
       "    kernel = \"polynomial\", degree = 3, coef0 = 0, gamma = 0.25, cost = 10, \n",
       "    probability = TRUE, scale = FALSE)\n",
       "\n",
       "\n",
       "Parameters:\n",
       "   SVM-Type:  C-classification \n",
       " SVM-Kernel:  polynomial \n",
       "       cost:  10 \n",
       "     degree:  3 \n",
       "     coef.0:  0 \n",
       "\n",
       "Number of Support Vectors:  3\n"
      ]
     },
     "metadata": {},
     "output_type": "display_data"
    }
   ],
   "source": []
  },
  {
   "cell_type": "code",
   "execution_count": 27,
   "metadata": {},
   "outputs": [
    {
     "data": {
      "text/html": [
       "<table>\n",
       "<thead><tr><th scope=col>A</th><th scope=col>B</th></tr></thead>\n",
       "<tbody>\n",
       "\t<tr><td>0.6301846</td><td>0.3698154</td></tr>\n",
       "</tbody>\n",
       "</table>\n"
      ],
      "text/latex": [
       "\\begin{tabular}{r|ll}\n",
       " A & B\\\\\n",
       "\\hline\n",
       "\t 0.6301846 & 0.3698154\\\\\n",
       "\\end{tabular}\n"
      ],
      "text/markdown": [
       "\n",
       "| A | B |\n",
       "|---|---|\n",
       "| 0.6301846 | 0.3698154 |\n",
       "\n"
      ],
      "text/plain": [
       "  A         B        \n",
       "1 0.6301846 0.3698154"
      ]
     },
     "metadata": {},
     "output_type": "display_data"
    },
    {
     "data": {
      "text/html": [
       "<table>\n",
       "<thead><tr><th scope=col>C</th><th scope=col>A</th></tr></thead>\n",
       "<tbody>\n",
       "\t<tr><td>0.5636292</td><td>0.4363708</td></tr>\n",
       "</tbody>\n",
       "</table>\n"
      ],
      "text/latex": [
       "\\begin{tabular}{r|ll}\n",
       " C & A\\\\\n",
       "\\hline\n",
       "\t 0.5636292 & 0.4363708\\\\\n",
       "\\end{tabular}\n"
      ],
      "text/markdown": [
       "\n",
       "| C | A |\n",
       "|---|---|\n",
       "| 0.5636292 | 0.4363708 |\n",
       "\n"
      ],
      "text/plain": [
       "  C         A        \n",
       "1 0.5636292 0.4363708"
      ]
     },
     "metadata": {},
     "output_type": "display_data"
    },
    {
     "data": {
      "text/html": [
       "<table>\n",
       "<thead><tr><th scope=col>A</th><th scope=col>D</th></tr></thead>\n",
       "<tbody>\n",
       "\t<tr><td>0.7483942</td><td>0.2516058</td></tr>\n",
       "</tbody>\n",
       "</table>\n"
      ],
      "text/latex": [
       "\\begin{tabular}{r|ll}\n",
       " A & D\\\\\n",
       "\\hline\n",
       "\t 0.7483942 & 0.2516058\\\\\n",
       "\\end{tabular}\n"
      ],
      "text/markdown": [
       "\n",
       "| A | D |\n",
       "|---|---|\n",
       "| 0.7483942 | 0.2516058 |\n",
       "\n"
      ],
      "text/plain": [
       "  A         D        \n",
       "1 0.7483942 0.2516058"
      ]
     },
     "metadata": {},
     "output_type": "display_data"
    },
    {
     "data": {
      "text/html": [
       "<table>\n",
       "<thead><tr><th scope=col>C</th><th scope=col>B</th></tr></thead>\n",
       "<tbody>\n",
       "\t<tr><td>0.5833977</td><td>0.4166023</td></tr>\n",
       "</tbody>\n",
       "</table>\n"
      ],
      "text/latex": [
       "\\begin{tabular}{r|ll}\n",
       " C & B\\\\\n",
       "\\hline\n",
       "\t 0.5833977 & 0.4166023\\\\\n",
       "\\end{tabular}\n"
      ],
      "text/markdown": [
       "\n",
       "| C | B |\n",
       "|---|---|\n",
       "| 0.5833977 | 0.4166023 |\n",
       "\n"
      ],
      "text/plain": [
       "  C         B        \n",
       "1 0.5833977 0.4166023"
      ]
     },
     "metadata": {},
     "output_type": "display_data"
    },
    {
     "data": {
      "text/html": [
       "<table>\n",
       "<thead><tr><th scope=col>B</th><th scope=col>D</th></tr></thead>\n",
       "<tbody>\n",
       "\t<tr><td>0.4878066</td><td>0.5121934</td></tr>\n",
       "</tbody>\n",
       "</table>\n"
      ],
      "text/latex": [
       "\\begin{tabular}{r|ll}\n",
       " B & D\\\\\n",
       "\\hline\n",
       "\t 0.4878066 & 0.5121934\\\\\n",
       "\\end{tabular}\n"
      ],
      "text/markdown": [
       "\n",
       "| B | D |\n",
       "|---|---|\n",
       "| 0.4878066 | 0.5121934 |\n",
       "\n"
      ],
      "text/plain": [
       "  B         D        \n",
       "1 0.4878066 0.5121934"
      ]
     },
     "metadata": {},
     "output_type": "display_data"
    },
    {
     "data": {
      "text/html": [
       "<table>\n",
       "<thead><tr><th scope=col>C</th><th scope=col>D</th></tr></thead>\n",
       "<tbody>\n",
       "\t<tr><td>0.7829222</td><td>0.2170778</td></tr>\n",
       "</tbody>\n",
       "</table>\n"
      ],
      "text/latex": [
       "\\begin{tabular}{r|ll}\n",
       " C & D\\\\\n",
       "\\hline\n",
       "\t 0.7829222 & 0.2170778\\\\\n",
       "\\end{tabular}\n"
      ],
      "text/markdown": [
       "\n",
       "| C | D |\n",
       "|---|---|\n",
       "| 0.7829222 | 0.2170778 |\n",
       "\n"
      ],
      "text/plain": [
       "  C         D        \n",
       "1 0.7829222 0.2170778"
      ]
     },
     "metadata": {},
     "output_type": "display_data"
    }
   ],
   "source": []
  },
  {
   "cell_type": "code",
   "execution_count": 28,
   "metadata": {},
   "outputs": [
    {
     "data": {
      "text/html": [
       "C\n",
       "<details>\n",
       "\t<summary style=display:list-item;cursor:pointer>\n",
       "\t\t<strong>Levels</strong>:\n",
       "\t</summary>\n",
       "\t<ol class=list-inline>\n",
       "\t\t<li>'A'</li>\n",
       "\t\t<li>'B'</li>\n",
       "\t\t<li>'C'</li>\n",
       "\t\t<li>'D'</li>\n",
       "\t</ol>\n",
       "</details>"
      ],
      "text/latex": [
       "C\n",
       "\\emph{Levels}: \\begin{enumerate*}\n",
       "\\item 'A'\n",
       "\\item 'B'\n",
       "\\item 'C'\n",
       "\\item 'D'\n",
       "\\end{enumerate*}\n"
      ],
      "text/markdown": [
       "C\n",
       "**Levels**: 1. 'A'\n",
       "2. 'B'\n",
       "3. 'C'\n",
       "4. 'D'\n",
       "\n",
       "\n"
      ],
      "text/plain": [
       "[1] C\n",
       "Levels: A B C D"
      ]
     },
     "metadata": {},
     "output_type": "display_data"
    }
   ],
   "source": []
  },
  {
   "cell_type": "markdown",
   "metadata": {},
   "source": [
    "<font size=1;>\n",
    "<p style=\"text-align: left;\">\n",
    "Copyright (c) Berkeley Data Analytics Group, LLC\n",
    "<span style=\"float: right;\">\n",
    "Document revised April 5, 2020\n",
    "</span>\n",
    "</p>\n",
    "</font>"
   ]
  }
 ],
 "metadata": {
  "hide_code_all_hidden": false,
  "hide_input": false,
  "kernelspec": {
   "display_name": "R",
   "language": "R",
   "name": "ir"
  },
  "language_info": {
   "codemirror_mode": "r",
   "file_extension": ".r",
   "mimetype": "text/x-r-source",
   "name": "R",
   "pygments_lexer": "r",
   "version": "3.6.1"
  },
  "toc": {
   "base_numbering": 1,
   "nav_menu": {},
   "number_sections": false,
   "sideBar": true,
   "skip_h1_title": true,
   "title_cell": "Table of Contents",
   "title_sidebar": "Contents",
   "toc_cell": false,
   "toc_position": {},
   "toc_section_display": true,
   "toc_window_display": false
  }
 },
 "nbformat": 4,
 "nbformat_minor": 2
}
