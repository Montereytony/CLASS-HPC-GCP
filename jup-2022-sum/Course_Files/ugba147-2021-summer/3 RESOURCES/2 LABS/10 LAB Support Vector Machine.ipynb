{
 "cells": [
  {
   "cell_type": "markdown",
   "metadata": {},
   "source": [
    "<font size=2;>\n",
    "<p style=\"text-align: right;\">\n",
    "Lab Solution\n",
    "</p>\n",
    "</font>"
   ]
  },
  {
   "cell_type": "markdown",
   "metadata": {
    "hideCode": false,
    "hidePrompt": false
   },
   "source": [
    "# Classification by Support Vector Machine"
   ]
  },
  {
   "cell_type": "markdown",
   "metadata": {},
   "source": [
    "**Write and execute R code in the code cells per the instructions.  The expected results are provided for you directly following the code cells.**"
   ]
  },
  {
   "cell_type": "code",
   "execution_count": 1,
   "metadata": {},
   "outputs": [
    {
     "data": {
      "text/html": [
       "<p style=\"text-align:center; font-size:10px;\">\n",
       ".................................................... start of document ....................................................\n",
       "</p>"
      ]
     },
     "metadata": {},
     "output_type": "display_data"
    }
   ],
   "source": [
    "f = \"setup.R\"; for (i in 1:10) { if (file.exists(f)) break else f = paste0(\"../\", f) }; source(f)"
   ]
  },
  {
   "cell_type": "markdown",
   "metadata": {},
   "source": [
    "## Choice of Kernel"
   ]
  },
  {
   "cell_type": "markdown",
   "metadata": {},
   "source": [
    "### Dataset & New Observations\n",
    "\n",
    "Here is a dataset of 6 classified observations and a new dataset of 2 unclassified observations for use in the problems 1, 2, and 3."
   ]
  },
  {
   "cell_type": "code",
   "execution_count": 2,
   "metadata": {},
   "outputs": [
    {
     "data": {
      "text/html": [
       "<table>\n",
       "<thead><tr><th scope=col>x1</th><th scope=col>class</th></tr></thead>\n",
       "<tbody>\n",
       "\t<tr><td>2.3</td><td>A  </td></tr>\n",
       "\t<tr><td>2.5</td><td>A  </td></tr>\n",
       "\t<tr><td>4.0</td><td>A  </td></tr>\n",
       "\t<tr><td>6.5</td><td>B  </td></tr>\n",
       "\t<tr><td>8.5</td><td>B  </td></tr>\n",
       "\t<tr><td>9.1</td><td>A  </td></tr>\n",
       "</tbody>\n",
       "</table>\n"
      ],
      "text/latex": [
       "\\begin{tabular}{r|ll}\n",
       " x1 & class\\\\\n",
       "\\hline\n",
       "\t 2.3 & A  \\\\\n",
       "\t 2.5 & A  \\\\\n",
       "\t 4.0 & A  \\\\\n",
       "\t 6.5 & B  \\\\\n",
       "\t 8.5 & B  \\\\\n",
       "\t 9.1 & A  \\\\\n",
       "\\end{tabular}\n"
      ],
      "text/markdown": [
       "\n",
       "| x1 | class |\n",
       "|---|---|\n",
       "| 2.3 | A   |\n",
       "| 2.5 | A   |\n",
       "| 4.0 | A   |\n",
       "| 6.5 | B   |\n",
       "| 8.5 | B   |\n",
       "| 9.1 | A   |\n",
       "\n"
      ],
      "text/plain": [
       "  x1  class\n",
       "1 2.3 A    \n",
       "2 2.5 A    \n",
       "3 4.0 A    \n",
       "4 6.5 B    \n",
       "5 8.5 B    \n",
       "6 9.1 A    "
      ]
     },
     "metadata": {},
     "output_type": "display_data"
    },
    {
     "data": {
      "text/html": [
       "<table>\n",
       "<thead><tr><th scope=col>x1</th></tr></thead>\n",
       "<tbody>\n",
       "\t<tr><td>6.1</td></tr>\n",
       "\t<tr><td>6.4</td></tr>\n",
       "</tbody>\n",
       "</table>\n"
      ],
      "text/latex": [
       "\\begin{tabular}{r|l}\n",
       " x1\\\\\n",
       "\\hline\n",
       "\t 6.1\\\\\n",
       "\t 6.4\\\\\n",
       "\\end{tabular}\n"
      ],
      "text/markdown": [
       "\n",
       "| x1 |\n",
       "|---|\n",
       "| 6.1 |\n",
       "| 6.4 |\n",
       "\n"
      ],
      "text/plain": [
       "  x1 \n",
       "1 6.1\n",
       "2 6.4"
      ]
     },
     "metadata": {},
     "output_type": "display_data"
    },
    {
     "data": {
      "image/png": "[encoded data removed]",
      "text/plain": [
       "plot without title"
      ]
     },
     "metadata": {},
     "output_type": "display_data"
    }
   ],
   "source": [
    "data = data.frame(x1=c(2.3, 2.5, 4.0, 6.5, 8.5, 9.1), class=c(\"A\", \"A\", \"A\", \"B\",  \"B\", \"A\"))\n",
    "new  = data.frame(x1=c(6.1, 6.4))\n",
    "data\n",
    "new\n",
    "\n",
    "output_size(8, 1)\n",
    "ggplot(data) + xlim(0,10) +\n",
    "geom_point(aes(x=x1, y=0, color=class)) +\n",
    "geom_point(aes(x=x1, y=0), data=new, color=NEW_COLOR) +\n",
    "theme.x_axis_only\n",
    "output_size(restore)"
   ]
  },
  {
   "cell_type": "markdown",
   "metadata": {},
   "source": [
    "### Problem 1\n",
    "\n",
    "Add a synthetic variable `y` to the classified and unclassified datasets, calculated as the radial basis (Gaussian) of variable `x1`.  Set radial_center=7.7, gamma=0.5.  Note that the 3-variable classified dataset is linearly separable.  Show the classified 3-variable dataset as a 2-dimensional scatterplot, color-coded by class.  On the same scatterplot, show the support vectors (circled in black), boundary (dashed line), and margin edges (solid lines), as would be calculated by a support vector machine.  On the same scatterplot, show the unclassified 2-variable dataset, color-coded by predicted class (circled in gold), assuming cutoff 0.50.  Then show the original classified and unclassified datasets as a 1-dimensional scatterplot, color-coded by class or predicted class (circled in gold), and circle teh support vectors. \n",
    "\n",
    "The radial basis of one variable `x` is defined as `exp(-gamma*(x-radial_center)^2)`.\n",
    "\n",
    "You may want to use these function(s):\n",
    "* gaussian()\n",
    "* svm_margin()\n",
    "* stat_function()\n",
    "* geom_point()\n",
    "* geom_abline()\n",
    "\n",
    "Use `fmt(..., row.names=TRUE)` to output a table with row numbers.<br>\n",
    "Use `gaussian(..., ..., ...)` to calculate the result of the gaussian function, where the 1st argument is a vector of values, the 2nd argument is the mean (radial center), and the 3rd argument is the standard deviation ($\\sqrt{\\frac{1}{2gamma}}$).<br>\n",
    "Use `stat_function(fun=gaussian, args=c(radial_center, standard_deviation), geom=\"area\", alpha=0.3)` to plot a gaussian function.<br>\n",
    "Use `svm_margin(..., ...)` to get the intercepts and slope of margin edges and boundary, where the 1st argument is a table of support vector(s) that touch one edge of the margin, and the 2nd argument is a table of support vector(s) that touch the other edge of the margin."
   ]
  },
  {
   "cell_type": "code",
   "execution_count": 3,
   "metadata": {},
   "outputs": [
    {
     "data": {
      "text/html": [
       "<table>\n",
       "<caption><center><font color=\"black\"><b>data</b></font></center></caption>\n",
       " <thead>\n",
       "  <tr>\n",
       "   <th style=\"text-align:left;background-color: #FFFFFF !important;\">   </th>\n",
       "   <th style=\"text-align:right;background-color: #FFFFFF !important;\"> x1 </th>\n",
       "   <th style=\"text-align:right;background-color: #FFFFFF !important;\"> y </th>\n",
       "   <th style=\"text-align:right;background-color: #FFFFFF !important;\"> class </th>\n",
       "  </tr>\n",
       " </thead>\n",
       "<tbody>\n",
       "  <tr>\n",
       "   <td style=\"text-align:left;font-weight: bold;\"> 1 </td>\n",
       "   <td style=\"text-align:right;\"> 2.3 </td>\n",
       "   <td style=\"text-align:right;\"> 0.0000002 </td>\n",
       "   <td style=\"text-align:right;\"> A </td>\n",
       "  </tr>\n",
       "  <tr>\n",
       "   <td style=\"text-align:left;font-weight: bold;\"> 2 </td>\n",
       "   <td style=\"text-align:right;\"> 2.5 </td>\n",
       "   <td style=\"text-align:right;\"> 0.0000005 </td>\n",
       "   <td style=\"text-align:right;\"> A </td>\n",
       "  </tr>\n",
       "  <tr>\n",
       "   <td style=\"text-align:left;font-weight: bold;\"> 3 </td>\n",
       "   <td style=\"text-align:right;\"> 4.0 </td>\n",
       "   <td style=\"text-align:right;\"> 0.0004248 </td>\n",
       "   <td style=\"text-align:right;\"> A </td>\n",
       "  </tr>\n",
       "  <tr>\n",
       "   <td style=\"text-align:left;font-weight: bold;\"> 4 </td>\n",
       "   <td style=\"text-align:right;\"> 6.5 </td>\n",
       "   <td style=\"text-align:right;\"> 0.1941861 </td>\n",
       "   <td style=\"text-align:right;\"> B </td>\n",
       "  </tr>\n",
       "  <tr>\n",
       "   <td style=\"text-align:left;font-weight: bold;\"> 5 </td>\n",
       "   <td style=\"text-align:right;\"> 8.5 </td>\n",
       "   <td style=\"text-align:right;\"> 0.2896916 </td>\n",
       "   <td style=\"text-align:right;\"> B </td>\n",
       "  </tr>\n",
       "  <tr>\n",
       "   <td style=\"text-align:left;font-weight: bold;\"> 6 </td>\n",
       "   <td style=\"text-align:right;\"> 9.1 </td>\n",
       "   <td style=\"text-align:right;\"> 0.1497275 </td>\n",
       "   <td style=\"text-align:right;\"> A </td>\n",
       "  </tr>\n",
       "</tbody>\n",
       "</table>"
      ]
     },
     "metadata": {},
     "output_type": "display_data"
    },
    {
     "data": {
      "text/html": [
       "<table>\n",
       "<thead><tr><th scope=col>x1</th><th scope=col>y</th></tr></thead>\n",
       "<tbody>\n",
       "\t<tr><td>6.1      </td><td>0.1109208</td></tr>\n",
       "\t<tr><td>6.4      </td><td>0.1713686</td></tr>\n",
       "</tbody>\n",
       "</table>\n"
      ],
      "text/latex": [
       "\\begin{tabular}{r|ll}\n",
       " x1 & y\\\\\n",
       "\\hline\n",
       "\t 6.1       & 0.1109208\\\\\n",
       "\t 6.4       & 0.1713686\\\\\n",
       "\\end{tabular}\n"
      ],
      "text/markdown": [
       "\n",
       "| x1 | y |\n",
       "|---|---|\n",
       "| 6.1       | 0.1109208 |\n",
       "| 6.4       | 0.1713686 |\n",
       "\n"
      ],
      "text/plain": [
       "  x1  y        \n",
       "1 6.1 0.1109208\n",
       "2 6.4 0.1713686"
      ]
     },
     "metadata": {},
     "output_type": "display_data"
    }
   ],
   "source": [
    "radial_center = 7.7\n",
    "gamma = 0.5\n",
    "stdev = sqrt(1/(2*gamma))\n",
    "\n",
    "data$y = gaussian(data$x1, radial_center, stdev)\n",
    "data = data[, c(\"x1\",\"y\",\"class\")]\n",
    "new$y  = gaussian(new$x1, radial_center, stdev)\n",
    "\n",
    "fmt(data, row.names=TRUE)\n",
    "new"
   ]
  },
  {
   "cell_type": "code",
   "execution_count": 4,
   "metadata": {},
   "outputs": [
    {
     "data": {
      "image/png": "[encoded data removed]",
      "text/plain": [
       "plot without title"
      ]
     },
     "metadata": {},
     "output_type": "display_data"
    }
   ],
   "source": [
    "# These are the support vector(s) that touch the edges of the margin\n",
    "edge.1 = data[c(1,6),]\n",
    "edge.2 = data[4,]\n",
    "\n",
    "# These are the lines (intercepts and slopes) for margin edges and boundary\n",
    "line = svm_margin(edge.1, edge.2)\n",
    "\n",
    "# These are the new observations' predicted classes, assuming cutoff=0.5\n",
    "new$class.predicted = c(\"A\",\"B\")\n",
    "\n",
    "ggplot(data) + xlim(0,10) +\n",
    "stat_function(fun=gaussian, args=c(radial_center, stdev), geom=\"area\", alpha=0.3) +\n",
    "geom_point(aes(x=x1, y=y), data=edge.1, shape=1, size=6, color=\"black\") +\n",
    "geom_point(aes(x=x1, y=y), data=edge.2, shape=1, size=6, color=\"black\") +\n",
    "geom_point(aes(x=x1, y=y, color=class)) +\n",
    "geom_point(aes(x=x1, y=y), data=new, size=6, color=\"gold\") +\n",
    "geom_point(aes(x=x1, y=y, color=class.predicted), data=new) +\n",
    "geom_abline(aes(intercept=line$i1, slope=line$m)) +\n",
    "geom_abline(aes(intercept=line$i2, slope=line$m), linetype=\"dashed\") +\n",
    "geom_abline(aes(intercept=line$i3, slope=line$m))"
   ]
  },
  {
   "cell_type": "code",
   "execution_count": 5,
   "metadata": {},
   "outputs": [
    {
     "data": {
      "image/png": "[encoded data removed]",
      "text/plain": [
       "plot without title"
      ]
     },
     "metadata": {},
     "output_type": "display_data"
    }
   ],
   "source": [
    "output_size(8, 1)\n",
    "ggplot(data) + xlim(0,10) +\n",
    "geom_point(aes(x=x1, y=0), data=edge.1, shape=1, size=6, color=\"black\") +\n",
    "geom_point(aes(x=x1, y=0), data=edge.2, shape=1, size=6, color=\"black\") +\n",
    "geom_point(aes(x=x1, y=0, color=class)) +\n",
    "geom_point(aes(x=x1, y=0), data=new, color=\"gold\", size=6) +\n",
    "geom_point(aes(x=x1, y=0, color=class.predicted), data=new) +\n",
    "theme.x_axis_only\n",
    "output_size(restore)"
   ]
  },
  {
   "cell_type": "markdown",
   "metadata": {},
   "source": [
    "### Problem 2\n",
    "\n",
    "Repeat the analysis done in problem 1, except set radial_center=6, gamma=0.1.  "
   ]
  },
  {
   "cell_type": "code",
   "execution_count": 6,
   "metadata": {},
   "outputs": [
    {
     "data": {
      "text/html": [
       "<table>\n",
       "<caption><center><font color=\"black\"><b>data</b></font></center></caption>\n",
       " <thead>\n",
       "  <tr>\n",
       "   <th style=\"text-align:left;background-color: #FFFFFF !important;\">   </th>\n",
       "   <th style=\"text-align:right;background-color: #FFFFFF !important;\"> x1 </th>\n",
       "   <th style=\"text-align:right;background-color: #FFFFFF !important;\"> y </th>\n",
       "   <th style=\"text-align:right;background-color: #FFFFFF !important;\"> class </th>\n",
       "  </tr>\n",
       " </thead>\n",
       "<tbody>\n",
       "  <tr>\n",
       "   <td style=\"text-align:left;font-weight: bold;\"> 1 </td>\n",
       "   <td style=\"text-align:right;\"> 2.3 </td>\n",
       "   <td style=\"text-align:right;\"> 0.0453812 </td>\n",
       "   <td style=\"text-align:right;\"> A </td>\n",
       "  </tr>\n",
       "  <tr>\n",
       "   <td style=\"text-align:left;font-weight: bold;\"> 2 </td>\n",
       "   <td style=\"text-align:right;\"> 2.5 </td>\n",
       "   <td style=\"text-align:right;\"> 0.0524100 </td>\n",
       "   <td style=\"text-align:right;\"> A </td>\n",
       "  </tr>\n",
       "  <tr>\n",
       "   <td style=\"text-align:left;font-weight: bold;\"> 3 </td>\n",
       "   <td style=\"text-align:right;\"> 4.0 </td>\n",
       "   <td style=\"text-align:right;\"> 0.1195934 </td>\n",
       "   <td style=\"text-align:right;\"> A </td>\n",
       "  </tr>\n",
       "  <tr>\n",
       "   <td style=\"text-align:left;font-weight: bold;\"> 4 </td>\n",
       "   <td style=\"text-align:right;\"> 6.5 </td>\n",
       "   <td style=\"text-align:right;\"> 0.1740074 </td>\n",
       "   <td style=\"text-align:right;\"> B </td>\n",
       "  </tr>\n",
       "  <tr>\n",
       "   <td style=\"text-align:left;font-weight: bold;\"> 5 </td>\n",
       "   <td style=\"text-align:right;\"> 8.5 </td>\n",
       "   <td style=\"text-align:right;\"> 0.0954973 </td>\n",
       "   <td style=\"text-align:right;\"> B </td>\n",
       "  </tr>\n",
       "  <tr>\n",
       "   <td style=\"text-align:left;font-weight: bold;\"> 6 </td>\n",
       "   <td style=\"text-align:right;\"> 9.1 </td>\n",
       "   <td style=\"text-align:right;\"> 0.0682446 </td>\n",
       "   <td style=\"text-align:right;\"> A </td>\n",
       "  </tr>\n",
       "</tbody>\n",
       "</table>"
      ]
     },
     "metadata": {},
     "output_type": "display_data"
    },
    {
     "data": {
      "text/html": [
       "<table>\n",
       "<thead><tr><th scope=col>x1</th><th scope=col>y</th></tr></thead>\n",
       "<tbody>\n",
       "\t<tr><td>6.1      </td><td>0.1782341</td></tr>\n",
       "\t<tr><td>6.4      </td><td>0.1755805</td></tr>\n",
       "</tbody>\n",
       "</table>\n"
      ],
      "text/latex": [
       "\\begin{tabular}{r|ll}\n",
       " x1 & y\\\\\n",
       "\\hline\n",
       "\t 6.1       & 0.1782341\\\\\n",
       "\t 6.4       & 0.1755805\\\\\n",
       "\\end{tabular}\n"
      ],
      "text/markdown": [
       "\n",
       "| x1 | y |\n",
       "|---|---|\n",
       "| 6.1       | 0.1782341 |\n",
       "| 6.4       | 0.1755805 |\n",
       "\n"
      ],
      "text/plain": [
       "  x1  y        \n",
       "1 6.1 0.1782341\n",
       "2 6.4 0.1755805"
      ]
     },
     "metadata": {},
     "output_type": "display_data"
    }
   ],
   "source": []
  },
  {
   "cell_type": "code",
   "execution_count": 7,
   "metadata": {},
   "outputs": [
    {
     "data": {
      "image/png": "[encoded data removed]",
      "text/plain": [
       "plot without title"
      ]
     },
     "metadata": {},
     "output_type": "display_data"
    }
   ],
   "source": []
  },
  {
   "cell_type": "code",
   "execution_count": 8,
   "metadata": {},
   "outputs": [
    {
     "data": {
      "image/png": "[encoded data removed]",
      "text/plain": [
       "plot without title"
      ]
     },
     "metadata": {},
     "output_type": "display_data"
    }
   ],
   "source": []
  },
  {
   "cell_type": "markdown",
   "metadata": {},
   "source": [
    "### Problem 3\n",
    "\n",
    "Repeat the analysis done in problem 1, except calculate y as the polynomial (x1-6)^2."
   ]
  },
  {
   "cell_type": "code",
   "execution_count": 9,
   "metadata": {},
   "outputs": [
    {
     "data": {
      "text/html": [
       "<table>\n",
       "<thead><tr><th scope=col>x1</th><th scope=col>y</th><th scope=col>class</th></tr></thead>\n",
       "<tbody>\n",
       "\t<tr><td>2.3  </td><td>13.69</td><td>A    </td></tr>\n",
       "\t<tr><td>2.5  </td><td>12.25</td><td>A    </td></tr>\n",
       "\t<tr><td>4.0  </td><td> 4.00</td><td>A    </td></tr>\n",
       "\t<tr><td>6.5  </td><td> 0.25</td><td>B    </td></tr>\n",
       "\t<tr><td>8.5  </td><td> 6.25</td><td>B    </td></tr>\n",
       "\t<tr><td>9.1  </td><td> 9.61</td><td>A    </td></tr>\n",
       "</tbody>\n",
       "</table>\n"
      ],
      "text/latex": [
       "\\begin{tabular}{r|lll}\n",
       " x1 & y & class\\\\\n",
       "\\hline\n",
       "\t 2.3   & 13.69 & A    \\\\\n",
       "\t 2.5   & 12.25 & A    \\\\\n",
       "\t 4.0   &  4.00 & A    \\\\\n",
       "\t 6.5   &  0.25 & B    \\\\\n",
       "\t 8.5   &  6.25 & B    \\\\\n",
       "\t 9.1   &  9.61 & A    \\\\\n",
       "\\end{tabular}\n"
      ],
      "text/markdown": [
       "\n",
       "| x1 | y | class |\n",
       "|---|---|---|\n",
       "| 2.3   | 13.69 | A     |\n",
       "| 2.5   | 12.25 | A     |\n",
       "| 4.0   |  4.00 | A     |\n",
       "| 6.5   |  0.25 | B     |\n",
       "| 8.5   |  6.25 | B     |\n",
       "| 9.1   |  9.61 | A     |\n",
       "\n"
      ],
      "text/plain": [
       "  x1  y     class\n",
       "1 2.3 13.69 A    \n",
       "2 2.5 12.25 A    \n",
       "3 4.0  4.00 A    \n",
       "4 6.5  0.25 B    \n",
       "5 8.5  6.25 B    \n",
       "6 9.1  9.61 A    "
      ]
     },
     "metadata": {},
     "output_type": "display_data"
    },
    {
     "data": {
      "text/html": [
       "<table>\n",
       "<thead><tr><th scope=col>x1</th><th scope=col>y</th></tr></thead>\n",
       "<tbody>\n",
       "\t<tr><td>6.1 </td><td>0.01</td></tr>\n",
       "\t<tr><td>6.4 </td><td>0.16</td></tr>\n",
       "</tbody>\n",
       "</table>\n"
      ],
      "text/latex": [
       "\\begin{tabular}{r|ll}\n",
       " x1 & y\\\\\n",
       "\\hline\n",
       "\t 6.1  & 0.01\\\\\n",
       "\t 6.4  & 0.16\\\\\n",
       "\\end{tabular}\n"
      ],
      "text/markdown": [
       "\n",
       "| x1 | y |\n",
       "|---|---|\n",
       "| 6.1  | 0.01 |\n",
       "| 6.4  | 0.16 |\n",
       "\n"
      ],
      "text/plain": [
       "  x1  y   \n",
       "1 6.1 0.01\n",
       "2 6.4 0.16"
      ]
     },
     "metadata": {},
     "output_type": "display_data"
    }
   ],
   "source": []
  },
  {
   "cell_type": "code",
   "execution_count": 10,
   "metadata": {},
   "outputs": [
    {
     "data": {
      "image/png": "[encoded data removed]",
      "text/plain": [
       "plot without title"
      ]
     },
     "metadata": {},
     "output_type": "display_data"
    }
   ],
   "source": []
  },
  {
   "cell_type": "code",
   "execution_count": 11,
   "metadata": {},
   "outputs": [
    {
     "data": {
      "image/png": "[encoded data removed]",
      "text/plain": [
       "plot without title"
      ]
     },
     "metadata": {},
     "output_type": "display_data"
    }
   ],
   "source": []
  },
  {
   "cell_type": "markdown",
   "metadata": {
    "hide_input": true
   },
   "source": [
    "## Choice of Cost"
   ]
  },
  {
   "cell_type": "markdown",
   "metadata": {},
   "source": [
    "### Dataset\n",
    "\n",
    "Here is a dataset of 6 classified observations for use in the problems 4 and 5."
   ]
  },
  {
   "cell_type": "code",
   "execution_count": 12,
   "metadata": {},
   "outputs": [
    {
     "data": {
      "text/html": [
       "<table>\n",
       "<thead><tr><th scope=col>x1</th><th scope=col>class</th></tr></thead>\n",
       "<tbody>\n",
       "\t<tr><td>2.3</td><td>A  </td></tr>\n",
       "\t<tr><td>2.5</td><td>A  </td></tr>\n",
       "\t<tr><td>4.0</td><td>A  </td></tr>\n",
       "\t<tr><td>6.5</td><td>B  </td></tr>\n",
       "\t<tr><td>8.5</td><td>B  </td></tr>\n",
       "\t<tr><td>9.1</td><td>A  </td></tr>\n",
       "</tbody>\n",
       "</table>\n"
      ],
      "text/latex": [
       "\\begin{tabular}{r|ll}\n",
       " x1 & class\\\\\n",
       "\\hline\n",
       "\t 2.3 & A  \\\\\n",
       "\t 2.5 & A  \\\\\n",
       "\t 4.0 & A  \\\\\n",
       "\t 6.5 & B  \\\\\n",
       "\t 8.5 & B  \\\\\n",
       "\t 9.1 & A  \\\\\n",
       "\\end{tabular}\n"
      ],
      "text/markdown": [
       "\n",
       "| x1 | class |\n",
       "|---|---|\n",
       "| 2.3 | A   |\n",
       "| 2.5 | A   |\n",
       "| 4.0 | A   |\n",
       "| 6.5 | B   |\n",
       "| 8.5 | B   |\n",
       "| 9.1 | A   |\n",
       "\n"
      ],
      "text/plain": [
       "  x1  class\n",
       "1 2.3 A    \n",
       "2 2.5 A    \n",
       "3 4.0 A    \n",
       "4 6.5 B    \n",
       "5 8.5 B    \n",
       "6 9.1 A    "
      ]
     },
     "metadata": {},
     "output_type": "display_data"
    }
   ],
   "source": [
    "data = data.frame(x1=c(2.3, 2.5, 4.0, 6.5, 8.5, 9.1), class=c(\"A\", \"A\", \"A\", \"B\",  \"B\", \"A\"))\n",
    "data"
   ]
  },
  {
   "cell_type": "markdown",
   "metadata": {},
   "source": [
    "### Problem 4\n",
    "\n",
    "Construct an SVM model trained on the classified dataset with these hyper-parameter settings:<br>\n",
    "`type=\"C-classification\"`, `kernel=\"radial\"`, `gamma=1`, `scale=TRUE`, `cost=1`.  \n",
    "\n",
    "Determine the model's in-sample class probabilities, predicted classes (cutoff=0.5 for class A), confusion matrix, true positive rate (positive is class A), and accuracy. \n",
    "\n",
    "You may want to use these function(s):\n",
    "* set.seed()\n",
    "* svm()\n",
    "* attr()\n",
    "* predict()\n",
    "* confusionMatrix()\n",
    "\n",
    "Use `set.seed(0)` and `svm(...)` together to ensure consistency in the class probabilities.\n",
    "Use `svm(class~x1, ..., probability=TRUE)` to ensure class probabilities are calculated.\n",
    "Use `attr(predict(..., ..., probability=TRUE), \"probabilities\")` to get the calculated class probabilities."
   ]
  },
  {
   "cell_type": "code",
   "execution_count": 13,
   "metadata": {},
   "outputs": [
    {
     "data": {
      "text/html": [
       "<table>\n",
       "<thead><tr><th scope=col>A</th><th scope=col>B</th></tr></thead>\n",
       "<tbody>\n",
       "\t<tr><td>0.4657822</td><td>0.5342178</td></tr>\n",
       "\t<tr><td>0.4580600</td><td>0.5419400</td></tr>\n",
       "\t<tr><td>0.5052255</td><td>0.4947745</td></tr>\n",
       "\t<tr><td>0.8169062</td><td>0.1830938</td></tr>\n",
       "\t<tr><td>0.7965387</td><td>0.2034613</td></tr>\n",
       "\t<tr><td>0.7508560</td><td>0.2491440</td></tr>\n",
       "</tbody>\n",
       "</table>\n"
      ],
      "text/latex": [
       "\\begin{tabular}{r|ll}\n",
       " A & B\\\\\n",
       "\\hline\n",
       "\t 0.4657822 & 0.5342178\\\\\n",
       "\t 0.4580600 & 0.5419400\\\\\n",
       "\t 0.5052255 & 0.4947745\\\\\n",
       "\t 0.8169062 & 0.1830938\\\\\n",
       "\t 0.7965387 & 0.2034613\\\\\n",
       "\t 0.7508560 & 0.2491440\\\\\n",
       "\\end{tabular}\n"
      ],
      "text/markdown": [
       "\n",
       "| A | B |\n",
       "|---|---|\n",
       "| 0.4657822 | 0.5342178 |\n",
       "| 0.4580600 | 0.5419400 |\n",
       "| 0.5052255 | 0.4947745 |\n",
       "| 0.8169062 | 0.1830938 |\n",
       "| 0.7965387 | 0.2034613 |\n",
       "| 0.7508560 | 0.2491440 |\n",
       "\n"
      ],
      "text/plain": [
       "  A         B        \n",
       "1 0.4657822 0.5342178\n",
       "2 0.4580600 0.5419400\n",
       "3 0.5052255 0.4947745\n",
       "4 0.8169062 0.1830938\n",
       "5 0.7965387 0.2034613\n",
       "6 0.7508560 0.2491440"
      ]
     },
     "metadata": {},
     "output_type": "display_data"
    },
    {
     "data": {
      "text/html": [
       "<table>\n",
       "<thead><tr><th scope=col>x1</th><th scope=col>class</th><th scope=col>class.predicted</th></tr></thead>\n",
       "<tbody>\n",
       "\t<tr><td>2.3</td><td>A  </td><td>B  </td></tr>\n",
       "\t<tr><td>2.5</td><td>A  </td><td>B  </td></tr>\n",
       "\t<tr><td>4.0</td><td>A  </td><td>A  </td></tr>\n",
       "\t<tr><td>6.5</td><td>B  </td><td>A  </td></tr>\n",
       "\t<tr><td>8.5</td><td>B  </td><td>A  </td></tr>\n",
       "\t<tr><td>9.1</td><td>A  </td><td>A  </td></tr>\n",
       "</tbody>\n",
       "</table>\n"
      ],
      "text/latex": [
       "\\begin{tabular}{r|lll}\n",
       " x1 & class & class.predicted\\\\\n",
       "\\hline\n",
       "\t 2.3 & A   & B  \\\\\n",
       "\t 2.5 & A   & B  \\\\\n",
       "\t 4.0 & A   & A  \\\\\n",
       "\t 6.5 & B   & A  \\\\\n",
       "\t 8.5 & B   & A  \\\\\n",
       "\t 9.1 & A   & A  \\\\\n",
       "\\end{tabular}\n"
      ],
      "text/markdown": [
       "\n",
       "| x1 | class | class.predicted |\n",
       "|---|---|---|\n",
       "| 2.3 | A   | B   |\n",
       "| 2.5 | A   | B   |\n",
       "| 4.0 | A   | A   |\n",
       "| 6.5 | B   | A   |\n",
       "| 8.5 | B   | A   |\n",
       "| 9.1 | A   | A   |\n",
       "\n"
      ],
      "text/plain": [
       "  x1  class class.predicted\n",
       "1 2.3 A     B              \n",
       "2 2.5 A     B              \n",
       "3 4.0 A     A              \n",
       "4 6.5 B     A              \n",
       "5 8.5 B     A              \n",
       "6 9.1 A     A              "
      ]
     },
     "metadata": {},
     "output_type": "display_data"
    },
    {
     "data": {
      "text/html": [
       "<table>\n",
       "<caption><center><font color=\"black\"><b>cm</b></font></center></caption>\n",
       " <thead>\n",
       "  <tr>\n",
       "   <th style=\"text-align:left;background-color: #FFFFFF !important;\">   </th>\n",
       "   <th style=\"text-align:right;background-color: #FFFFFF !important;\"> A </th>\n",
       "   <th style=\"text-align:right;background-color: #FFFFFF !important;\"> B </th>\n",
       "  </tr>\n",
       " </thead>\n",
       "<tbody>\n",
       "  <tr>\n",
       "   <td style=\"text-align:left;font-weight: bold;\"> A </td>\n",
       "   <td style=\"text-align:right;\"> 0.3333333 </td>\n",
       "   <td style=\"text-align:right;\"> 0.3333333 </td>\n",
       "  </tr>\n",
       "  <tr>\n",
       "   <td style=\"text-align:left;font-weight: bold;\"> B </td>\n",
       "   <td style=\"text-align:right;\"> 0.3333333 </td>\n",
       "   <td style=\"text-align:right;\"> 0.0000000 </td>\n",
       "  </tr>\n",
       "</tbody>\n",
       "</table>"
      ]
     },
     "metadata": {},
     "output_type": "display_data"
    },
    {
     "data": {
      "text/html": [
       "<table>\n",
       "<thead><tr><th scope=col>kernel</th><th scope=col>gamma</th><th scope=col>scale</th><th scope=col>cost</th><th scope=col>tpr</th><th scope=col>accuracy</th></tr></thead>\n",
       "<tbody>\n",
       "\t<tr><td>radial   </td><td>1        </td><td>TRUE     </td><td>1        </td><td>0.5      </td><td>0.3333333</td></tr>\n",
       "</tbody>\n",
       "</table>\n"
      ],
      "text/latex": [
       "\\begin{tabular}{r|llllll}\n",
       " kernel & gamma & scale & cost & tpr & accuracy\\\\\n",
       "\\hline\n",
       "\t radial    & 1         & TRUE      & 1         & 0.5       & 0.3333333\\\\\n",
       "\\end{tabular}\n"
      ],
      "text/markdown": [
       "\n",
       "| kernel | gamma | scale | cost | tpr | accuracy |\n",
       "|---|---|---|---|---|---|\n",
       "| radial    | 1         | TRUE      | 1         | 0.5       | 0.3333333 |\n",
       "\n"
      ],
      "text/plain": [
       "  kernel gamma scale cost tpr accuracy \n",
       "1 radial 1     TRUE  1    0.5 0.3333333"
      ]
     },
     "metadata": {},
     "output_type": "display_data"
    }
   ],
   "source": []
  },
  {
   "cell_type": "markdown",
   "metadata": {},
   "source": [
    "### Problem 5\n",
    "\n",
    "Repeat the analyis done in problem 4, except instead try cost 0.01, 0.1, 1, 10, and 100 (use set.seed(0) for each try).  Record the true positive rate and accuracy of each model in a table."
   ]
  },
  {
   "cell_type": "code",
   "execution_count": 14,
   "metadata": {},
   "outputs": [
    {
     "data": {
      "text/html": [
       "<table>\n",
       "<thead><tr><th scope=col>model</th><th scope=col>kernel</th><th scope=col>gamma</th><th scope=col>scale</th><th scope=col>cost</th><th scope=col>tpr</th><th scope=col>accuracy</th></tr></thead>\n",
       "<tbody>\n",
       "\t<tr><td>1        </td><td>radial   </td><td>1        </td><td>TRUE     </td><td>  0.01   </td><td>1.00     </td><td>0.6666667</td></tr>\n",
       "\t<tr><td>2        </td><td>radial   </td><td>1        </td><td>TRUE     </td><td>  0.10   </td><td>0.25     </td><td>0.1666667</td></tr>\n",
       "\t<tr><td>3        </td><td>radial   </td><td>1        </td><td>TRUE     </td><td>  1.00   </td><td>0.50     </td><td>0.3333333</td></tr>\n",
       "\t<tr><td>4        </td><td>radial   </td><td>1        </td><td>TRUE     </td><td> 10.00   </td><td>1.00     </td><td>0.8333333</td></tr>\n",
       "\t<tr><td>5        </td><td>radial   </td><td>1        </td><td>TRUE     </td><td>100.00   </td><td>1.00     </td><td>0.8333333</td></tr>\n",
       "</tbody>\n",
       "</table>\n"
      ],
      "text/latex": [
       "\\begin{tabular}{r|lllllll}\n",
       " model & kernel & gamma & scale & cost & tpr & accuracy\\\\\n",
       "\\hline\n",
       "\t 1         & radial    & 1         & TRUE      &   0.01    & 1.00      & 0.6666667\\\\\n",
       "\t 2         & radial    & 1         & TRUE      &   0.10    & 0.25      & 0.1666667\\\\\n",
       "\t 3         & radial    & 1         & TRUE      &   1.00    & 0.50      & 0.3333333\\\\\n",
       "\t 4         & radial    & 1         & TRUE      &  10.00    & 1.00      & 0.8333333\\\\\n",
       "\t 5         & radial    & 1         & TRUE      & 100.00    & 1.00      & 0.8333333\\\\\n",
       "\\end{tabular}\n"
      ],
      "text/markdown": [
       "\n",
       "| model | kernel | gamma | scale | cost | tpr | accuracy |\n",
       "|---|---|---|---|---|---|---|\n",
       "| 1         | radial    | 1         | TRUE      |   0.01    | 1.00      | 0.6666667 |\n",
       "| 2         | radial    | 1         | TRUE      |   0.10    | 0.25      | 0.1666667 |\n",
       "| 3         | radial    | 1         | TRUE      |   1.00    | 0.50      | 0.3333333 |\n",
       "| 4         | radial    | 1         | TRUE      |  10.00    | 1.00      | 0.8333333 |\n",
       "| 5         | radial    | 1         | TRUE      | 100.00    | 1.00      | 0.8333333 |\n",
       "\n"
      ],
      "text/plain": [
       "  model kernel gamma scale cost   tpr  accuracy \n",
       "1 1     radial 1     TRUE    0.01 1.00 0.6666667\n",
       "2 2     radial 1     TRUE    0.10 0.25 0.1666667\n",
       "3 3     radial 1     TRUE    1.00 0.50 0.3333333\n",
       "4 4     radial 1     TRUE   10.00 1.00 0.8333333\n",
       "5 5     radial 1     TRUE  100.00 1.00 0.8333333"
      ]
     },
     "metadata": {},
     "output_type": "display_data"
    }
   ],
   "source": []
  },
  {
   "cell_type": "markdown",
   "metadata": {},
   "source": [
    "<font size=1;>\n",
    "<p style=\"text-align: left;\">\n",
    "Copyright (c) Berkeley Data Analytics Group, LLC\n",
    "<span style=\"float: right;\">\n",
    "Document revised March 17, 2020\n",
    "</span>\n",
    "</p>\n",
    "</font>"
   ]
  }
 ],
 "metadata": {
  "hide_code_all_hidden": false,
  "hide_input": false,
  "kernelspec": {
   "display_name": "R",
   "language": "R",
   "name": "ir"
  },
  "language_info": {
   "codemirror_mode": "r",
   "file_extension": ".r",
   "mimetype": "text/x-r-source",
   "name": "R",
   "pygments_lexer": "r",
   "version": "3.6.1"
  },
  "toc": {
   "base_numbering": 1,
   "nav_menu": {},
   "number_sections": false,
   "sideBar": true,
   "skip_h1_title": true,
   "title_cell": "Table of Contents",
   "title_sidebar": "Contents",
   "toc_cell": false,
   "toc_position": {
    "height": "calc(100% - 180px)",
    "left": "10px",
    "top": "150px",
    "width": "307.2px"
   },
   "toc_section_display": true,
   "toc_window_display": true
  }
 },
 "nbformat": 4,
 "nbformat_minor": 2
}
