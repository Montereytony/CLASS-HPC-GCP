{
 "cells": [
  {
   "cell_type": "markdown",
   "metadata": {},
   "source": [
    "<font size=2;>\n",
    "<p style=\"text-align: right;\">\n",
    "Lab Solution\n",
    "</p>\n",
    "</font>"
   ]
  },
  {
   "cell_type": "markdown",
   "metadata": {
    "hideCode": false,
    "hidePrompt": false
   },
   "source": [
    "# Classification by Support Vector Machine"
   ]
  },
  {
   "cell_type": "markdown",
   "metadata": {},
   "source": [
    "**Write and execute R code in the code cells per the instructions.  The expected results are provided for you directly following the code cells.**"
   ]
  },
  {
   "cell_type": "code",
   "execution_count": 1,
   "metadata": {},
   "outputs": [
    {
     "data": {
      "text/html": [
       "<p style=\"text-align:center; font-size:10px;\">\n",
       ".................................................... start of document ....................................................\n",
       "</p>"
      ]
     },
     "metadata": {},
     "output_type": "display_data"
    }
   ],
   "source": [
    "f = \"setup.R\"; for (i in 1:10) { if (file.exists(f)) break else f = paste0(\"../\", f) }; source(f)"
   ]
  },
  {
   "cell_type": "markdown",
   "metadata": {},
   "source": [
    "## Choice of Kernel"
   ]
  },
  {
   "cell_type": "markdown",
   "metadata": {},
   "source": [
    "### Data & New Observations\n",
    "\n",
    "Here is a dataset of 6 classified observations and a new dataset of 2 unclassified observations for use in the problems."
   ]
  },
  {
   "cell_type": "code",
   "execution_count": 6,
   "metadata": {},
   "outputs": [
    {
     "data": {
      "text/html": [
       "<table>\n",
       "<thead><tr><th scope=col>x1</th><th scope=col>class</th></tr></thead>\n",
       "<tbody>\n",
       "\t<tr><td>2.3</td><td>A  </td></tr>\n",
       "\t<tr><td>2.5</td><td>A  </td></tr>\n",
       "\t<tr><td>4.0</td><td>A  </td></tr>\n",
       "\t<tr><td>6.5</td><td>B  </td></tr>\n",
       "\t<tr><td>8.5</td><td>B  </td></tr>\n",
       "\t<tr><td>9.1</td><td>A  </td></tr>\n",
       "</tbody>\n",
       "</table>\n"
      ],
      "text/latex": [
       "\\begin{tabular}{r|ll}\n",
       " x1 & class\\\\\n",
       "\\hline\n",
       "\t 2.3 & A  \\\\\n",
       "\t 2.5 & A  \\\\\n",
       "\t 4.0 & A  \\\\\n",
       "\t 6.5 & B  \\\\\n",
       "\t 8.5 & B  \\\\\n",
       "\t 9.1 & A  \\\\\n",
       "\\end{tabular}\n"
      ],
      "text/markdown": [
       "\n",
       "| x1 | class |\n",
       "|---|---|\n",
       "| 2.3 | A   |\n",
       "| 2.5 | A   |\n",
       "| 4.0 | A   |\n",
       "| 6.5 | B   |\n",
       "| 8.5 | B   |\n",
       "| 9.1 | A   |\n",
       "\n"
      ],
      "text/plain": [
       "  x1  class\n",
       "1 2.3 A    \n",
       "2 2.5 A    \n",
       "3 4.0 A    \n",
       "4 6.5 B    \n",
       "5 8.5 B    \n",
       "6 9.1 A    "
      ]
     },
     "metadata": {},
     "output_type": "display_data"
    },
    {
     "data": {
      "text/html": [
       "<table>\n",
       "<thead><tr><th scope=col>x1</th></tr></thead>\n",
       "<tbody>\n",
       "\t<tr><td>6.1</td></tr>\n",
       "\t<tr><td>6.4</td></tr>\n",
       "</tbody>\n",
       "</table>\n"
      ],
      "text/latex": [
       "\\begin{tabular}{r|l}\n",
       " x1\\\\\n",
       "\\hline\n",
       "\t 6.1\\\\\n",
       "\t 6.4\\\\\n",
       "\\end{tabular}\n"
      ],
      "text/markdown": [
       "\n",
       "| x1 |\n",
       "|---|\n",
       "| 6.1 |\n",
       "| 6.4 |\n",
       "\n"
      ],
      "text/plain": [
       "  x1 \n",
       "1 6.1\n",
       "2 6.4"
      ]
     },
     "metadata": {},
     "output_type": "display_data"
    },
    {
     "data": {
      "image/png": "[encoded data removed]",
      "text/plain": [
       "plot without title"
      ]
     },
     "metadata": {},
     "output_type": "display_data"
    }
   ],
   "source": [
    "data = data.frame(x1=c(2.3, 2.5, 4.0, 6.5, 8.5, 9.1), class=factor(c(\"A\", \"A\", \"A\", \"B\",  \"B\", \"A\")))\n",
    "new  = data.frame(x1=c(6.1, 6.4))\n",
    "\n",
    "data\n",
    "new\n",
    "\n",
    "output_size(8, 1)\n",
    "ggplot(data) + xlim(0,10) +\n",
    "geom_point(aes(x=x1, y=0, color=class)) +\n",
    "geom_point(aes(x=x1, y=0), data=new) +\n",
    "scale_color_manual(values=PALETTE[1:2]) + theme.x_axis_only\n",
    "output_size(restore)"
   ]
  },
  {
   "cell_type": "markdown",
   "metadata": {},
   "source": [
    "### Problem 1\n",
    "\n",
    "Add a new variable x2 to the classified and unclassified datasets, calculated as the radial basis (Gaussian) of vaiable x1.  Set radial_center=7.7, gamma=1.  Note that the 3-variable classified data is linearly separable.  Show the classified 3-variable dataset as a 2-dimensional scatterplot, color-coded by class.  On the same scatterplot, show the support vectors (circled in black), boundary (dashed line), and margin edges (solid lines), as would be calculated by a support vector machine.  On the same scatterplot, show the unclassified 2-variable dataset, color-coded by predicted class (circled in gold), according to the score sign criterion.  Show the original classified and unclassified datasets as a 1-dimensional scatterplot, color-coded by class or predicted class (circled in gold). \n",
    "\n",
    "The radial basis of one variable x is defined as exp(-gamma*(x-radial_center)^2).\n",
    "\n",
    "You may want to use these function(s):\n",
    "* gaussian()\n",
    "* lm()\n",
    "* stat_function()\n",
    "* geom_point()\n",
    "* geom_abline()\n",
    "\n",
    "Use `gaussian(..., ..., ...)` to calculate the value of the gaussian function, where the 1st parameter is a vector of variable values, the 2nd parameter is the radial center setting, and the 3rd parameter is gamma setting.\n",
    "Use `stat_function(fun=gaussian, args=c(radial_center, gamma), geom=\"area\", alpha=0.3)` to plot a gaussian function.  Use `lm(x2~x1, data=...$coefficients[1]` to get the intercept of a line, and `lm(x2~x1, data=...$coefficients[2]` to get the slope of a line."
   ]
  },
  {
   "cell_type": "code",
   "execution_count": 7,
   "metadata": {},
   "outputs": [
    {
     "data": {
      "text/html": [
       "<table>\n",
       "<thead><tr><th scope=col>x1</th><th scope=col>class</th><th scope=col>x2</th></tr></thead>\n",
       "<tbody>\n",
       "\t<tr><td>2.3            </td><td>A              </td><td>0.0000001857362</td></tr>\n",
       "\t<tr><td>2.5            </td><td>A              </td><td>0.0000005361035</td></tr>\n",
       "\t<tr><td>4.0            </td><td>A              </td><td>0.0004247802706</td></tr>\n",
       "\t<tr><td>6.5            </td><td>B              </td><td>0.1941860549832</td></tr>\n",
       "\t<tr><td>8.5            </td><td>B              </td><td>0.2896915527615</td></tr>\n",
       "\t<tr><td>9.1            </td><td>A              </td><td>0.1497274656357</td></tr>\n",
       "</tbody>\n",
       "</table>\n"
      ],
      "text/latex": [
       "\\begin{tabular}{r|lll}\n",
       " x1 & class & x2\\\\\n",
       "\\hline\n",
       "\t 2.3             & A               & 0.0000001857362\\\\\n",
       "\t 2.5             & A               & 0.0000005361035\\\\\n",
       "\t 4.0             & A               & 0.0004247802706\\\\\n",
       "\t 6.5             & B               & 0.1941860549832\\\\\n",
       "\t 8.5             & B               & 0.2896915527615\\\\\n",
       "\t 9.1             & A               & 0.1497274656357\\\\\n",
       "\\end{tabular}\n"
      ],
      "text/markdown": [
       "\n",
       "| x1 | class | x2 |\n",
       "|---|---|---|\n",
       "| 2.3             | A               | 0.0000001857362 |\n",
       "| 2.5             | A               | 0.0000005361035 |\n",
       "| 4.0             | A               | 0.0004247802706 |\n",
       "| 6.5             | B               | 0.1941860549832 |\n",
       "| 8.5             | B               | 0.2896915527615 |\n",
       "| 9.1             | A               | 0.1497274656357 |\n",
       "\n"
      ],
      "text/plain": [
       "  x1  class x2             \n",
       "1 2.3 A     0.0000001857362\n",
       "2 2.5 A     0.0000005361035\n",
       "3 4.0 A     0.0004247802706\n",
       "4 6.5 B     0.1941860549832\n",
       "5 8.5 B     0.2896915527615\n",
       "6 9.1 A     0.1497274656357"
      ]
     },
     "metadata": {},
     "output_type": "display_data"
    },
    {
     "data": {
      "text/html": [
       "<table>\n",
       "<thead><tr><th scope=col>x1</th><th scope=col>x2</th></tr></thead>\n",
       "<tbody>\n",
       "\t<tr><td>6.1      </td><td>0.1109208</td></tr>\n",
       "\t<tr><td>6.4      </td><td>0.1713686</td></tr>\n",
       "</tbody>\n",
       "</table>\n"
      ],
      "text/latex": [
       "\\begin{tabular}{r|ll}\n",
       " x1 & x2\\\\\n",
       "\\hline\n",
       "\t 6.1       & 0.1109208\\\\\n",
       "\t 6.4       & 0.1713686\\\\\n",
       "\\end{tabular}\n"
      ],
      "text/markdown": [
       "\n",
       "| x1 | x2 |\n",
       "|---|---|\n",
       "| 6.1       | 0.1109208 |\n",
       "| 6.4       | 0.1713686 |\n",
       "\n"
      ],
      "text/plain": [
       "  x1  x2       \n",
       "1 6.1 0.1109208\n",
       "2 6.4 0.1713686"
      ]
     },
     "metadata": {},
     "output_type": "display_data"
    }
   ],
   "source": []
  },
  {
   "cell_type": "code",
   "execution_count": 8,
   "metadata": {},
   "outputs": [
    {
     "data": {
      "image/png": "[encoded data removed]",
      "text/plain": [
       "plot without title"
      ]
     },
     "metadata": {},
     "output_type": "display_data"
    }
   ],
   "source": []
  },
  {
   "cell_type": "code",
   "execution_count": 9,
   "metadata": {},
   "outputs": [
    {
     "data": {
      "image/png": "[encoded data removed]",
      "text/plain": [
       "plot without title"
      ]
     },
     "metadata": {},
     "output_type": "display_data"
    }
   ],
   "source": []
  },
  {
   "cell_type": "markdown",
   "metadata": {},
   "source": [
    "### Problem 2\n",
    "\n",
    "Repeat the analysis done in problem 1, except set radial_center=6, gamma=0.1.  "
   ]
  },
  {
   "cell_type": "code",
   "execution_count": 12,
   "metadata": {},
   "outputs": [
    {
     "data": {
      "text/html": [
       "<table>\n",
       "<thead><tr><th scope=col>x1</th><th scope=col>class</th><th scope=col>x2</th></tr></thead>\n",
       "<tbody>\n",
       "\t<tr><td>2.3          </td><td>A            </td><td>2.120007e-297</td></tr>\n",
       "\t<tr><td>2.5          </td><td>A            </td><td>3.940396e-266</td></tr>\n",
       "\t<tr><td>4.0          </td><td>A            </td><td> 5.520948e-87</td></tr>\n",
       "\t<tr><td>6.5          </td><td>B            </td><td> 1.486720e-05</td></tr>\n",
       "\t<tr><td>8.5          </td><td>B            </td><td>7.653930e-136</td></tr>\n",
       "\t<tr><td>9.1          </td><td>A            </td><td>8.363952e-209</td></tr>\n",
       "</tbody>\n",
       "</table>\n"
      ],
      "text/latex": [
       "\\begin{tabular}{r|lll}\n",
       " x1 & class & x2\\\\\n",
       "\\hline\n",
       "\t 2.3           & A             & 2.120007e-297\\\\\n",
       "\t 2.5           & A             & 3.940396e-266\\\\\n",
       "\t 4.0           & A             &  5.520948e-87\\\\\n",
       "\t 6.5           & B             &  1.486720e-05\\\\\n",
       "\t 8.5           & B             & 7.653930e-136\\\\\n",
       "\t 9.1           & A             & 8.363952e-209\\\\\n",
       "\\end{tabular}\n"
      ],
      "text/markdown": [
       "\n",
       "| x1 | class | x2 |\n",
       "|---|---|---|\n",
       "| 2.3           | A             | 2.120007e-297 |\n",
       "| 2.5           | A             | 3.940396e-266 |\n",
       "| 4.0           | A             |  5.520948e-87 |\n",
       "| 6.5           | B             |  1.486720e-05 |\n",
       "| 8.5           | B             | 7.653930e-136 |\n",
       "| 9.1           | A             | 8.363952e-209 |\n",
       "\n"
      ],
      "text/plain": [
       "  x1  class x2           \n",
       "1 2.3 A     2.120007e-297\n",
       "2 2.5 A     3.940396e-266\n",
       "3 4.0 A      5.520948e-87\n",
       "4 6.5 B      1.486720e-05\n",
       "5 8.5 B     7.653930e-136\n",
       "6 9.1 A     8.363952e-209"
      ]
     },
     "metadata": {},
     "output_type": "display_data"
    },
    {
     "data": {
      "text/html": [
       "<table>\n",
       "<thead><tr><th scope=col>x1</th><th scope=col>x2</th></tr></thead>\n",
       "<tbody>\n",
       "\t<tr><td>6.1        </td><td>2.419707245</td></tr>\n",
       "\t<tr><td>6.4        </td><td>0.001338302</td></tr>\n",
       "</tbody>\n",
       "</table>\n"
      ],
      "text/latex": [
       "\\begin{tabular}{r|ll}\n",
       " x1 & x2\\\\\n",
       "\\hline\n",
       "\t 6.1         & 2.419707245\\\\\n",
       "\t 6.4         & 0.001338302\\\\\n",
       "\\end{tabular}\n"
      ],
      "text/markdown": [
       "\n",
       "| x1 | x2 |\n",
       "|---|---|\n",
       "| 6.1         | 2.419707245 |\n",
       "| 6.4         | 0.001338302 |\n",
       "\n"
      ],
      "text/plain": [
       "  x1  x2         \n",
       "1 6.1 2.419707245\n",
       "2 6.4 0.001338302"
      ]
     },
     "metadata": {},
     "output_type": "display_data"
    }
   ],
   "source": []
  },
  {
   "cell_type": "code",
   "execution_count": 13,
   "metadata": {},
   "outputs": [
    {
     "data": {
      "image/png": "[encoded data removed]",
      "text/plain": [
       "plot without title"
      ]
     },
     "metadata": {},
     "output_type": "display_data"
    }
   ],
   "source": []
  },
  {
   "cell_type": "code",
   "execution_count": 14,
   "metadata": {},
   "outputs": [
    {
     "data": {
      "image/png": "[encoded data removed]",
      "text/plain": [
       "plot without title"
      ]
     },
     "metadata": {},
     "output_type": "display_data"
    }
   ],
   "source": []
  },
  {
   "cell_type": "markdown",
   "metadata": {},
   "source": [
    "### Problem 3\n",
    "\n",
    "Repeat the analysis done in problem 1, except calculate x2 as the polynomial (x1-6)^2."
   ]
  },
  {
   "cell_type": "code",
   "execution_count": 15,
   "metadata": {},
   "outputs": [
    {
     "data": {
      "text/html": [
       "<table>\n",
       "<thead><tr><th scope=col>x1</th><th scope=col>class</th><th scope=col>x2</th></tr></thead>\n",
       "<tbody>\n",
       "\t<tr><td>2.3  </td><td>A    </td><td>13.69</td></tr>\n",
       "\t<tr><td>2.5  </td><td>A    </td><td>12.25</td></tr>\n",
       "\t<tr><td>4.0  </td><td>A    </td><td> 4.00</td></tr>\n",
       "\t<tr><td>6.5  </td><td>B    </td><td> 0.25</td></tr>\n",
       "\t<tr><td>8.5  </td><td>B    </td><td> 6.25</td></tr>\n",
       "\t<tr><td>9.1  </td><td>A    </td><td> 9.61</td></tr>\n",
       "</tbody>\n",
       "</table>\n"
      ],
      "text/latex": [
       "\\begin{tabular}{r|lll}\n",
       " x1 & class & x2\\\\\n",
       "\\hline\n",
       "\t 2.3   & A     & 13.69\\\\\n",
       "\t 2.5   & A     & 12.25\\\\\n",
       "\t 4.0   & A     &  4.00\\\\\n",
       "\t 6.5   & B     &  0.25\\\\\n",
       "\t 8.5   & B     &  6.25\\\\\n",
       "\t 9.1   & A     &  9.61\\\\\n",
       "\\end{tabular}\n"
      ],
      "text/markdown": [
       "\n",
       "| x1 | class | x2 |\n",
       "|---|---|---|\n",
       "| 2.3   | A     | 13.69 |\n",
       "| 2.5   | A     | 12.25 |\n",
       "| 4.0   | A     |  4.00 |\n",
       "| 6.5   | B     |  0.25 |\n",
       "| 8.5   | B     |  6.25 |\n",
       "| 9.1   | A     |  9.61 |\n",
       "\n"
      ],
      "text/plain": [
       "  x1  class x2   \n",
       "1 2.3 A     13.69\n",
       "2 2.5 A     12.25\n",
       "3 4.0 A      4.00\n",
       "4 6.5 B      0.25\n",
       "5 8.5 B      6.25\n",
       "6 9.1 A      9.61"
      ]
     },
     "metadata": {},
     "output_type": "display_data"
    },
    {
     "data": {
      "text/html": [
       "<table>\n",
       "<thead><tr><th scope=col>x1</th><th scope=col>x2</th></tr></thead>\n",
       "<tbody>\n",
       "\t<tr><td>6.1 </td><td>0.01</td></tr>\n",
       "\t<tr><td>6.4 </td><td>0.16</td></tr>\n",
       "</tbody>\n",
       "</table>\n"
      ],
      "text/latex": [
       "\\begin{tabular}{r|ll}\n",
       " x1 & x2\\\\\n",
       "\\hline\n",
       "\t 6.1  & 0.01\\\\\n",
       "\t 6.4  & 0.16\\\\\n",
       "\\end{tabular}\n"
      ],
      "text/markdown": [
       "\n",
       "| x1 | x2 |\n",
       "|---|---|\n",
       "| 6.1  | 0.01 |\n",
       "| 6.4  | 0.16 |\n",
       "\n"
      ],
      "text/plain": [
       "  x1  x2  \n",
       "1 6.1 0.01\n",
       "2 6.4 0.16"
      ]
     },
     "metadata": {},
     "output_type": "display_data"
    }
   ],
   "source": []
  },
  {
   "cell_type": "code",
   "execution_count": 16,
   "metadata": {},
   "outputs": [
    {
     "data": {
      "image/png": "[encoded data removed]",
      "text/plain": [
       "plot without title"
      ]
     },
     "metadata": {},
     "output_type": "display_data"
    }
   ],
   "source": []
  },
  {
   "cell_type": "code",
   "execution_count": 17,
   "metadata": {},
   "outputs": [
    {
     "data": {
      "image/png": "[encoded data removed]",
      "text/plain": [
       "plot without title"
      ]
     },
     "metadata": {},
     "output_type": "display_data"
    }
   ],
   "source": []
  },
  {
   "cell_type": "markdown",
   "metadata": {
    "hide_input": true
   },
   "source": [
    "## Choice of Cost"
   ]
  },
  {
   "cell_type": "markdown",
   "metadata": {},
   "source": [
    "### Data"
   ]
  },
  {
   "cell_type": "code",
   "execution_count": 19,
   "metadata": {},
   "outputs": [
    {
     "data": {
      "text/html": [
       "<table>\n",
       "<thead><tr><th scope=col>x1</th><th scope=col>class</th></tr></thead>\n",
       "<tbody>\n",
       "\t<tr><td>2.3</td><td>A  </td></tr>\n",
       "\t<tr><td>2.5</td><td>A  </td></tr>\n",
       "\t<tr><td>4.0</td><td>A  </td></tr>\n",
       "\t<tr><td>6.5</td><td>B  </td></tr>\n",
       "\t<tr><td>8.5</td><td>B  </td></tr>\n",
       "\t<tr><td>9.1</td><td>A  </td></tr>\n",
       "</tbody>\n",
       "</table>\n"
      ],
      "text/latex": [
       "\\begin{tabular}{r|ll}\n",
       " x1 & class\\\\\n",
       "\\hline\n",
       "\t 2.3 & A  \\\\\n",
       "\t 2.5 & A  \\\\\n",
       "\t 4.0 & A  \\\\\n",
       "\t 6.5 & B  \\\\\n",
       "\t 8.5 & B  \\\\\n",
       "\t 9.1 & A  \\\\\n",
       "\\end{tabular}\n"
      ],
      "text/markdown": [
       "\n",
       "| x1 | class |\n",
       "|---|---|\n",
       "| 2.3 | A   |\n",
       "| 2.5 | A   |\n",
       "| 4.0 | A   |\n",
       "| 6.5 | B   |\n",
       "| 8.5 | B   |\n",
       "| 9.1 | A   |\n",
       "\n"
      ],
      "text/plain": [
       "  x1  class\n",
       "1 2.3 A    \n",
       "2 2.5 A    \n",
       "3 4.0 A    \n",
       "4 6.5 B    \n",
       "5 8.5 B    \n",
       "6 9.1 A    "
      ]
     },
     "metadata": {},
     "output_type": "display_data"
    }
   ],
   "source": []
  },
  {
   "cell_type": "markdown",
   "metadata": {},
   "source": [
    "### Problem 4\n",
    "\n",
    "Construct an SVM model trained on the classified dataset with these hyper-parameter settings:\n",
    "`kernel=\"polynomial\"`, `degree=3`, `coef0=0`, `gamma=1`, `scale=FALSE`, `cost=1`.  \n",
    "\n",
    "Determine the model's in-sample class probabilities, predicted classes (cutoff=0.5 for class A), confusion matrix, true positive rate (positive is class A), and accuracy. \n",
    "\n",
    "You may want to use these function(s):\n",
    "* set.seed()\n",
    "* svm()\n",
    "* attr()\n",
    "* predict()\n",
    "* confusionMatrix()\n",
    "\n",
    "Use `set.seed(12345)` and `svm(...)` together to ensure consistency in the class probabilities.\n",
    "Use `svm(class~x1, ..., probability=TRUE)` to ensure class probabilities are calculated.\n",
    "Use `attr(predict(..., ..., probability=TRUE), \"probabilities\")` to get the calculated class probabilities."
   ]
  },
  {
   "cell_type": "code",
   "execution_count": 20,
   "metadata": {},
   "outputs": [
    {
     "data": {
      "text/html": [
       "<table>\n",
       "<thead><tr><th scope=col>A</th><th scope=col>B</th></tr></thead>\n",
       "<tbody>\n",
       "\t<tr><td>0.6953091</td><td>0.3046909</td></tr>\n",
       "\t<tr><td>0.6943803</td><td>0.3056197</td></tr>\n",
       "\t<tr><td>0.6812234</td><td>0.3187766</td></tr>\n",
       "\t<tr><td>0.6207170</td><td>0.3792830</td></tr>\n",
       "\t<tr><td>0.5156286</td><td>0.4843714</td></tr>\n",
       "\t<tr><td>0.4715042</td><td>0.5284958</td></tr>\n",
       "</tbody>\n",
       "</table>\n"
      ],
      "text/latex": [
       "\\begin{tabular}{r|ll}\n",
       " A & B\\\\\n",
       "\\hline\n",
       "\t 0.6953091 & 0.3046909\\\\\n",
       "\t 0.6943803 & 0.3056197\\\\\n",
       "\t 0.6812234 & 0.3187766\\\\\n",
       "\t 0.6207170 & 0.3792830\\\\\n",
       "\t 0.5156286 & 0.4843714\\\\\n",
       "\t 0.4715042 & 0.5284958\\\\\n",
       "\\end{tabular}\n"
      ],
      "text/markdown": [
       "\n",
       "| A | B |\n",
       "|---|---|\n",
       "| 0.6953091 | 0.3046909 |\n",
       "| 0.6943803 | 0.3056197 |\n",
       "| 0.6812234 | 0.3187766 |\n",
       "| 0.6207170 | 0.3792830 |\n",
       "| 0.5156286 | 0.4843714 |\n",
       "| 0.4715042 | 0.5284958 |\n",
       "\n"
      ],
      "text/plain": [
       "  A         B        \n",
       "1 0.6953091 0.3046909\n",
       "2 0.6943803 0.3056197\n",
       "3 0.6812234 0.3187766\n",
       "4 0.6207170 0.3792830\n",
       "5 0.5156286 0.4843714\n",
       "6 0.4715042 0.5284958"
      ]
     },
     "metadata": {},
     "output_type": "display_data"
    },
    {
     "data": {
      "text/html": [
       "<table>\n",
       "<thead><tr><th scope=col>x1</th><th scope=col>class</th><th scope=col>prediction</th></tr></thead>\n",
       "<tbody>\n",
       "\t<tr><td>2.3</td><td>A  </td><td>A  </td></tr>\n",
       "\t<tr><td>2.5</td><td>A  </td><td>A  </td></tr>\n",
       "\t<tr><td>4.0</td><td>A  </td><td>A  </td></tr>\n",
       "\t<tr><td>6.5</td><td>B  </td><td>A  </td></tr>\n",
       "\t<tr><td>8.5</td><td>B  </td><td>A  </td></tr>\n",
       "\t<tr><td>9.1</td><td>A  </td><td>B  </td></tr>\n",
       "</tbody>\n",
       "</table>\n"
      ],
      "text/latex": [
       "\\begin{tabular}{r|lll}\n",
       " x1 & class & prediction\\\\\n",
       "\\hline\n",
       "\t 2.3 & A   & A  \\\\\n",
       "\t 2.5 & A   & A  \\\\\n",
       "\t 4.0 & A   & A  \\\\\n",
       "\t 6.5 & B   & A  \\\\\n",
       "\t 8.5 & B   & A  \\\\\n",
       "\t 9.1 & A   & B  \\\\\n",
       "\\end{tabular}\n"
      ],
      "text/markdown": [
       "\n",
       "| x1 | class | prediction |\n",
       "|---|---|---|\n",
       "| 2.3 | A   | A   |\n",
       "| 2.5 | A   | A   |\n",
       "| 4.0 | A   | A   |\n",
       "| 6.5 | B   | A   |\n",
       "| 8.5 | B   | A   |\n",
       "| 9.1 | A   | B   |\n",
       "\n"
      ],
      "text/plain": [
       "  x1  class prediction\n",
       "1 2.3 A     A         \n",
       "2 2.5 A     A         \n",
       "3 4.0 A     A         \n",
       "4 6.5 B     A         \n",
       "5 8.5 B     A         \n",
       "6 9.1 A     B         "
      ]
     },
     "metadata": {},
     "output_type": "display_data"
    },
    {
     "data": {
      "text/html": [
       "<table>\n",
       "<caption><center><font color=\"black\"><b>cm</b></font></center></caption>\n",
       " <thead>\n",
       "  <tr>\n",
       "   <th style=\"text-align:left;background-color: #FFFFFF !important;\">   </th>\n",
       "   <th style=\"text-align:right;background-color: #FFFFFF !important;\"> A </th>\n",
       "   <th style=\"text-align:right;background-color: #FFFFFF !important;\"> B </th>\n",
       "  </tr>\n",
       " </thead>\n",
       "<tbody>\n",
       "  <tr>\n",
       "   <td style=\"text-align:left;font-weight: bold;\"> A </td>\n",
       "   <td style=\"text-align:right;\"> 0.5000000 </td>\n",
       "   <td style=\"text-align:right;\"> 0.3333333 </td>\n",
       "  </tr>\n",
       "  <tr>\n",
       "   <td style=\"text-align:left;font-weight: bold;\"> B </td>\n",
       "   <td style=\"text-align:right;\"> 0.1666667 </td>\n",
       "   <td style=\"text-align:right;\"> 0.0000000 </td>\n",
       "  </tr>\n",
       "</tbody>\n",
       "</table>"
      ]
     },
     "metadata": {},
     "output_type": "display_data"
    },
    {
     "data": {
      "text/html": [
       "<table>\n",
       "<thead><tr><th scope=col>tpr</th><th scope=col>accuracy</th></tr></thead>\n",
       "<tbody>\n",
       "\t<tr><td>0.75</td><td>0.5 </td></tr>\n",
       "</tbody>\n",
       "</table>\n"
      ],
      "text/latex": [
       "\\begin{tabular}{r|ll}\n",
       " tpr & accuracy\\\\\n",
       "\\hline\n",
       "\t 0.75 & 0.5 \\\\\n",
       "\\end{tabular}\n"
      ],
      "text/markdown": [
       "\n",
       "| tpr | accuracy |\n",
       "|---|---|\n",
       "| 0.75 | 0.5  |\n",
       "\n"
      ],
      "text/plain": [
       "  tpr  accuracy\n",
       "1 0.75 0.5     "
      ]
     },
     "metadata": {},
     "output_type": "display_data"
    }
   ],
   "source": []
  },
  {
   "cell_type": "markdown",
   "metadata": {},
   "source": [
    "### Problem 5\n",
    "\n",
    "Repeat the analyis done in problem 4, except instead try cost 10, 100, 1000, and 10000.  Record the true positive rate and accuracy of each model in a table."
   ]
  },
  {
   "cell_type": "code",
   "execution_count": 21,
   "metadata": {},
   "outputs": [
    {
     "data": {
      "text/html": [
       "<table>\n",
       "<thead><tr><th scope=col>model</th><th scope=col>kernel</th><th scope=col>degree</th><th scope=col>coef0</th><th scope=col>gamma</th><th scope=col>scale</th><th scope=col>cost</th><th scope=col>tpr</th><th scope=col>accuracy</th></tr></thead>\n",
       "<tbody>\n",
       "\t<tr><td>1         </td><td>polynomial</td><td>3         </td><td>0         </td><td>1         </td><td>FALSE     </td><td>    1     </td><td>1.00      </td><td>0.6666667 </td></tr>\n",
       "\t<tr><td>2         </td><td>polynomial</td><td>3         </td><td>0         </td><td>1         </td><td>FALSE     </td><td>   10     </td><td>1.00      </td><td>0.6666667 </td></tr>\n",
       "\t<tr><td>3         </td><td>polynomial</td><td>3         </td><td>0         </td><td>1         </td><td>FALSE     </td><td>  100     </td><td>1.00      </td><td>0.6666667 </td></tr>\n",
       "\t<tr><td>4         </td><td>polynomial</td><td>3         </td><td>0         </td><td>1         </td><td>FALSE     </td><td> 1000     </td><td>0.75      </td><td>0.5000000 </td></tr>\n",
       "\t<tr><td>5         </td><td>polynomial</td><td>3         </td><td>0         </td><td>1         </td><td>FALSE     </td><td>10000     </td><td>0.75      </td><td>0.6666667 </td></tr>\n",
       "</tbody>\n",
       "</table>\n"
      ],
      "text/latex": [
       "\\begin{tabular}{r|lllllllll}\n",
       " model & kernel & degree & coef0 & gamma & scale & cost & tpr & accuracy\\\\\n",
       "\\hline\n",
       "\t 1          & polynomial & 3          & 0          & 1          & FALSE      &     1      & 1.00       & 0.6666667 \\\\\n",
       "\t 2          & polynomial & 3          & 0          & 1          & FALSE      &    10      & 1.00       & 0.6666667 \\\\\n",
       "\t 3          & polynomial & 3          & 0          & 1          & FALSE      &   100      & 1.00       & 0.6666667 \\\\\n",
       "\t 4          & polynomial & 3          & 0          & 1          & FALSE      &  1000      & 0.75       & 0.5000000 \\\\\n",
       "\t 5          & polynomial & 3          & 0          & 1          & FALSE      & 10000      & 0.75       & 0.6666667 \\\\\n",
       "\\end{tabular}\n"
      ],
      "text/markdown": [
       "\n",
       "| model | kernel | degree | coef0 | gamma | scale | cost | tpr | accuracy |\n",
       "|---|---|---|---|---|---|---|---|---|\n",
       "| 1          | polynomial | 3          | 0          | 1          | FALSE      |     1      | 1.00       | 0.6666667  |\n",
       "| 2          | polynomial | 3          | 0          | 1          | FALSE      |    10      | 1.00       | 0.6666667  |\n",
       "| 3          | polynomial | 3          | 0          | 1          | FALSE      |   100      | 1.00       | 0.6666667  |\n",
       "| 4          | polynomial | 3          | 0          | 1          | FALSE      |  1000      | 0.75       | 0.5000000  |\n",
       "| 5          | polynomial | 3          | 0          | 1          | FALSE      | 10000      | 0.75       | 0.6666667  |\n",
       "\n"
      ],
      "text/plain": [
       "  model kernel     degree coef0 gamma scale cost  tpr  accuracy \n",
       "1 1     polynomial 3      0     1     FALSE     1 1.00 0.6666667\n",
       "2 2     polynomial 3      0     1     FALSE    10 1.00 0.6666667\n",
       "3 3     polynomial 3      0     1     FALSE   100 1.00 0.6666667\n",
       "4 4     polynomial 3      0     1     FALSE  1000 0.75 0.5000000\n",
       "5 5     polynomial 3      0     1     FALSE 10000 0.75 0.6666667"
      ]
     },
     "metadata": {},
     "output_type": "display_data"
    }
   ],
   "source": []
  },
  {
   "cell_type": "markdown",
   "metadata": {},
   "source": [
    "<font size=1;>\n",
    "<p style=\"text-align: left;\">\n",
    "Copyright (c) Berkeley Data Analytics Group, LLC\n",
    "<span style=\"float: right;\">\n",
    "document revised December 17, 2019\n",
    "</span>\n",
    "</p>\n",
    "</font>"
   ]
  }
 ],
 "metadata": {
  "hide_code_all_hidden": false,
  "hide_input": false,
  "kernelspec": {
   "display_name": "R",
   "language": "R",
   "name": "ir"
  },
  "language_info": {
   "codemirror_mode": "r",
   "file_extension": ".r",
   "mimetype": "text/x-r-source",
   "name": "R",
   "pygments_lexer": "r",
   "version": "3.6.1"
  },
  "toc": {
   "base_numbering": 1,
   "nav_menu": {},
   "number_sections": false,
   "sideBar": true,
   "skip_h1_title": true,
   "title_cell": "Table of Contents",
   "title_sidebar": "Contents",
   "toc_cell": false,
   "toc_position": {
    "height": "calc(100% - 180px)",
    "left": "10px",
    "top": "150px",
    "width": "307.2px"
   },
   "toc_section_display": true,
   "toc_window_display": true
  }
 },
 "nbformat": 4,
 "nbformat_minor": 2
}
