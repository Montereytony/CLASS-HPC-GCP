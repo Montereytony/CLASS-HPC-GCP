{
 "cells": [
  {
   "cell_type": "markdown",
   "metadata": {},
   "source": [
    "<font size=2;>\n",
    "<p style=\"text-align: right;\">\n",
    "Exercises\n",
    "</p>\n",
    "</font>"
   ]
  },
  {
   "cell_type": "markdown",
   "metadata": {
    "hideCode": false,
    "hidePrompt": false
   },
   "source": [
    "# Special Data Types"
   ]
  },
  {
   "cell_type": "markdown",
   "metadata": {},
   "source": [
    "**Write and execute R code in the code cells per the instructions.  The expected results are provided for you directly following the code cells.**"
   ]
  },
  {
   "cell_type": "code",
   "execution_count": 1,
   "metadata": {},
   "outputs": [
    {
     "name": "stdout",
     "output_type": "stream",
     "text": [
      "Open code cell here for notebook apparatus."
     ]
    },
    {
     "name": "stderr",
     "output_type": "stream",
     "text": [
      "\n",
      "Attaching package: 'NLP'\n",
      "\n",
      "The following object is masked from 'package:ggplot2':\n",
      "\n",
      "    annotate\n",
      "\n"
     ]
    }
   ],
   "source": [
    "cat(\"Open code cell here for notebook apparatus.\")\n",
    "\n",
    "options(warn=-1)\n",
    "\n",
    "# Load some required functions\n",
    "library(plyr,    verbose=FALSE, warn.conflicts=FALSE, quietly=TRUE)\n",
    "library(ggplot2, verbose=FALSE, warn.conflicts=FALSE, quietly=TRUE)\n",
    "library(tm,      verbose=FALSE, warn.conflicts=FALSE, quietly=TRUE)\n",
    "library(e1071,   verbose=FALSE, warn.conflicts=FALSE, quietly=TRUE)\n",
    "\n",
    "# Define some useful functions\n",
    "removeSpecialChars = content_transformer(function(x, chars) gsub(paste(\"[\", chars, \"]\", sep=\"\"), \"\", x))\n",
    "as.data.frame.content = function(x) { d = as.data.frame(unlist(lapply(1:length(x), function(i) x[[i]]$content))); colnames(d) = \"V1\"; d }\n",
    "unibigrams = function(x) unlist(lapply(ngrams(words(x), c(1,2)), paste, collapse=\" \"))                                                                    \n",
    "as.class = function(prob, class, cutoff=NA) { f = factor(prob[,colnames(prob)==class]>=cutoff, levels=c(TRUE, FALSE), labels=c(class, setdiff(colnames(prob), class))); attr(f, \"names\") = NULL; f }                                             \n",
    "regulate_columns = function(new.t, data.t) { i = intersect(colnames(data.t), colnames(new.t))\n",
    "                                             j = setdiff(colnames(data.t), intersect(colnames(data.t), colnames(new.t)))\n",
    "                                             d = as.data.frame(matrix(rep(0, nrow(new.t)*length(j)), nrow=nrow(new.t)))\n",
    "                                             colnames(d) = j\n",
    "                                             x = cbind(new.t[,i], d)\n",
    "                                             x = x[,sort(colnames(x))]\n",
    "                                             x }\n",
    "shift_up = function(v, i) { c(rep(NA, i), v[1:(length(v)-i)])  }\n",
    "shift_down = function(v, i) { c(v[(i+1):length(v)], rep(NA, i)) }\n",
    "\n",
    "# Define some visualization constants\n",
    "restore = list(repr.plot.width=8, repr.plot.height=3)\n",
    "PALETTE = c(\"#00A9FF\", \"#F8766D\", \"#7CAE00\", \"#C77CFF\", \"#CD9600\", \"#00BE67\", \"#FF61CC\", \"#00BFC4\")\n",
    "                      \n",
    "# Set some visualization formatting defaults\n",
    "options(restore)\n",
    "options(digits=10, scipen=100) # expose many digits, use scientific notation sparingly\n",
    "options(repr.matrix.max.rows=200)\n",
    "options(repr.matrix.max.cols=200)\n",
    "theme_update(plot.title=element_text(size=10, hjust=0.5), plot.subtitle=element_text(size=8, face=\"italic\", hjust=0.5), axis.title=element_text(size=7), axis.text=element_text(size=7), strip.text=element_text(size=7), strip.text.y=element_text(angle=90), legend.title=element_blank(), legend.text=element_text(size=7))"
   ]
  },
  {
   "cell_type": "markdown",
   "metadata": {},
   "source": [
    "## Problem 1"
   ]
  },
  {
   "cell_type": "markdown",
   "metadata": {},
   "source": [
    "Consider the following corpus and new document:"
   ]
  },
  {
   "cell_type": "code",
   "execution_count": 2,
   "metadata": {},
   "outputs": [
    {
     "data": {
      "text/html": [
       "<table>\n",
       "<thead><tr><th scope=col>comment</th><th scope=col>sentiment</th></tr></thead>\n",
       "<tbody>\n",
       "\t<tr><td>I love this great movie!                              </td><td>favorable                                             </td></tr>\n",
       "\t<tr><td>I was disappointed that this movie wasn't long enough.</td><td>unfavorable                                           </td></tr>\n",
       "\t<tr><td>Way too long.                                         </td><td>unfavorable                                           </td></tr>\n",
       "\t<tr><td>Could not have enjoyed this movie more.               </td><td>favorable                                             </td></tr>\n",
       "\t<tr><td>What a great film.                                    </td><td>favorable                                             </td></tr>\n",
       "</tbody>\n",
       "</table>\n"
      ],
      "text/latex": [
       "\\begin{tabular}{r|ll}\n",
       " comment & sentiment\\\\\n",
       "\\hline\n",
       "\t I love this great movie!                               & favorable                                             \\\\\n",
       "\t I was disappointed that this movie wasn't long enough. & unfavorable                                           \\\\\n",
       "\t Way too long.                                          & unfavorable                                           \\\\\n",
       "\t Could not have enjoyed this movie more.                & favorable                                             \\\\\n",
       "\t What a great film.                                     & favorable                                             \\\\\n",
       "\\end{tabular}\n"
      ],
      "text/markdown": [
       "\n",
       "| comment | sentiment |\n",
       "|---|---|\n",
       "| I love this great movie!                               | favorable                                              |\n",
       "| I was disappointed that this movie wasn't long enough. | unfavorable                                            |\n",
       "| Way too long.                                          | unfavorable                                            |\n",
       "| Could not have enjoyed this movie more.                | favorable                                              |\n",
       "| What a great film.                                     | favorable                                              |\n",
       "\n"
      ],
      "text/plain": [
       "  comment                                                sentiment  \n",
       "1 I love this great movie!                               favorable  \n",
       "2 I was disappointed that this movie wasn't long enough. unfavorable\n",
       "3 Way too long.                                          unfavorable\n",
       "4 Could not have enjoyed this movie more.                favorable  \n",
       "5 What a great film.                                     favorable  "
      ]
     },
     "metadata": {},
     "output_type": "display_data"
    }
   ],
   "source": [
    "data = data.frame(comment=c(\"I love this great movie!\",\n",
    "                            \"I was disappointed that this movie wasn't long enough.\",\n",
    "                            \"Way too long.\",\n",
    "                            \"Could not have enjoyed this movie more.\",\n",
    "                            \"What a great film.\"),\n",
    "                   sentiment=c(\"favorable\", \"unfavorable\", \"unfavorable\", \"favorable\", \"favorable\"))\n",
    "\n",
    "data"
   ]
  },
  {
   "cell_type": "code",
   "execution_count": 3,
   "metadata": {},
   "outputs": [
    {
     "data": {
      "text/html": [
       "<table>\n",
       "<thead><tr><th scope=col>comment</th></tr></thead>\n",
       "<tbody>\n",
       "\t<tr><td>I enjoyed these movies even more than I enjoyed data science.</td></tr>\n",
       "</tbody>\n",
       "</table>\n"
      ],
      "text/latex": [
       "\\begin{tabular}{r|l}\n",
       " comment\\\\\n",
       "\\hline\n",
       "\t I enjoyed these movies even more than I enjoyed data science.\\\\\n",
       "\\end{tabular}\n"
      ],
      "text/markdown": [
       "\n",
       "| comment |\n",
       "|---|\n",
       "| I enjoyed these movies even more than I enjoyed data science. |\n",
       "\n"
      ],
      "text/plain": [
       "  comment                                                      \n",
       "1 I enjoyed these movies even more than I enjoyed data science."
      ]
     },
     "metadata": {},
     "output_type": "display_data"
    }
   ],
   "source": [
    "new = data.frame(comment=\"I enjoyed these movies even more than I enjoyed data science.\")\n",
    "new"
   ]
  },
  {
   "cell_type": "markdown",
   "metadata": {},
   "source": [
    "Simplify the corpus text with these transformations: lower case, remove numbers, remove punctuation, remove special characters, remove stop words, stem, strip whitespace - in that order.  Convert the simplified corpus text to a classified bag of words.  Build a naive Bayes model trained by the classified bag of words to predict sentiment.  Simplify the new unclassified document in the same way that you did the corpus.  Convert the simplified new document text to a bag of words approriate for the model.  Use the model with cutoff 0.5 for favorable to predict the sentiment of the new document."
   ]
  },
  {
   "cell_type": "code",
   "execution_count": 4,
   "metadata": {},
   "outputs": [
    {
     "data": {
      "text/html": [
       "<table>\n",
       "<thead><tr><th scope=col>V1</th></tr></thead>\n",
       "<tbody>\n",
       "\t<tr><td>love great movi                  </td></tr>\n",
       "\t<tr><td>disappoint movi wasnt long enough</td></tr>\n",
       "\t<tr><td>way long                         </td></tr>\n",
       "\t<tr><td>enjoy movi                       </td></tr>\n",
       "\t<tr><td>great film                       </td></tr>\n",
       "</tbody>\n",
       "</table>\n"
      ],
      "text/latex": [
       "\\begin{tabular}{r|l}\n",
       " V1\\\\\n",
       "\\hline\n",
       "\t love great movi                  \\\\\n",
       "\t disappoint movi wasnt long enough\\\\\n",
       "\t way long                         \\\\\n",
       "\t enjoy movi                       \\\\\n",
       "\t great film                       \\\\\n",
       "\\end{tabular}\n"
      ],
      "text/markdown": [
       "\n",
       "| V1 |\n",
       "|---|\n",
       "| love great movi                   |\n",
       "| disappoint movi wasnt long enough |\n",
       "| way long                          |\n",
       "| enjoy movi                        |\n",
       "| great film                        |\n",
       "\n"
      ],
      "text/plain": [
       "  V1                               \n",
       "1 love great movi                  \n",
       "2 disappoint movi wasnt long enough\n",
       "3 way long                         \n",
       "4 enjoy movi                       \n",
       "5 great film                       "
      ]
     },
     "metadata": {},
     "output_type": "display_data"
    }
   ],
   "source": []
  },
  {
   "cell_type": "code",
   "execution_count": 5,
   "metadata": {},
   "outputs": [
    {
     "data": {
      "text/html": [
       "<table>\n",
       "<thead><tr><th scope=col>disappoint</th><th scope=col>enjoy</th><th scope=col>enough</th><th scope=col>film</th><th scope=col>great</th><th scope=col>long</th><th scope=col>love</th><th scope=col>movi</th><th scope=col>wasnt</th><th scope=col>way</th><th scope=col>sentiment</th></tr></thead>\n",
       "<tbody>\n",
       "\t<tr><td>0          </td><td>0          </td><td>0          </td><td>0          </td><td>1          </td><td>0          </td><td>1          </td><td>1          </td><td>0          </td><td>0          </td><td>favorable  </td></tr>\n",
       "\t<tr><td>1          </td><td>0          </td><td>1          </td><td>0          </td><td>0          </td><td>1          </td><td>0          </td><td>1          </td><td>1          </td><td>0          </td><td>unfavorable</td></tr>\n",
       "\t<tr><td>0          </td><td>0          </td><td>0          </td><td>0          </td><td>0          </td><td>1          </td><td>0          </td><td>0          </td><td>0          </td><td>1          </td><td>unfavorable</td></tr>\n",
       "\t<tr><td>0          </td><td>1          </td><td>0          </td><td>0          </td><td>0          </td><td>0          </td><td>0          </td><td>1          </td><td>0          </td><td>0          </td><td>favorable  </td></tr>\n",
       "\t<tr><td>0          </td><td>0          </td><td>0          </td><td>1          </td><td>1          </td><td>0          </td><td>0          </td><td>0          </td><td>0          </td><td>0          </td><td>favorable  </td></tr>\n",
       "</tbody>\n",
       "</table>\n"
      ],
      "text/latex": [
       "\\begin{tabular}{r|lllllllllll}\n",
       " disappoint & enjoy & enough & film & great & long & love & movi & wasnt & way & sentiment\\\\\n",
       "\\hline\n",
       "\t 0           & 0           & 0           & 0           & 1           & 0           & 1           & 1           & 0           & 0           & favorable  \\\\\n",
       "\t 1           & 0           & 1           & 0           & 0           & 1           & 0           & 1           & 1           & 0           & unfavorable\\\\\n",
       "\t 0           & 0           & 0           & 0           & 0           & 1           & 0           & 0           & 0           & 1           & unfavorable\\\\\n",
       "\t 0           & 1           & 0           & 0           & 0           & 0           & 0           & 1           & 0           & 0           & favorable  \\\\\n",
       "\t 0           & 0           & 0           & 1           & 1           & 0           & 0           & 0           & 0           & 0           & favorable  \\\\\n",
       "\\end{tabular}\n"
      ],
      "text/markdown": [
       "\n",
       "| disappoint | enjoy | enough | film | great | long | love | movi | wasnt | way | sentiment |\n",
       "|---|---|---|---|---|---|---|---|---|---|---|\n",
       "| 0           | 0           | 0           | 0           | 1           | 0           | 1           | 1           | 0           | 0           | favorable   |\n",
       "| 1           | 0           | 1           | 0           | 0           | 1           | 0           | 1           | 1           | 0           | unfavorable |\n",
       "| 0           | 0           | 0           | 0           | 0           | 1           | 0           | 0           | 0           | 1           | unfavorable |\n",
       "| 0           | 1           | 0           | 0           | 0           | 0           | 0           | 1           | 0           | 0           | favorable   |\n",
       "| 0           | 0           | 0           | 1           | 1           | 0           | 0           | 0           | 0           | 0           | favorable   |\n",
       "\n"
      ],
      "text/plain": [
       "  disappoint enjoy enough film great long love movi wasnt way sentiment  \n",
       "1 0          0     0      0    1     0    1    1    0     0   favorable  \n",
       "2 1          0     1      0    0     1    0    1    1     0   unfavorable\n",
       "3 0          0     0      0    0     1    0    0    0     1   unfavorable\n",
       "4 0          1     0      0    0     0    0    1    0     0   favorable  \n",
       "5 0          0     0      1    1     0    0    0    0     0   favorable  "
      ]
     },
     "metadata": {},
     "output_type": "display_data"
    }
   ],
   "source": []
  },
  {
   "cell_type": "code",
   "execution_count": 6,
   "metadata": {},
   "outputs": [],
   "source": []
  },
  {
   "cell_type": "code",
   "execution_count": 7,
   "metadata": {},
   "outputs": [
    {
     "data": {
      "text/html": [
       "<table>\n",
       "<thead><tr><th scope=col>V1</th></tr></thead>\n",
       "<tbody>\n",
       "\t<tr><td>enjoy movi even enjoy data scienc</td></tr>\n",
       "</tbody>\n",
       "</table>\n"
      ],
      "text/latex": [
       "\\begin{tabular}{r|l}\n",
       " V1\\\\\n",
       "\\hline\n",
       "\t enjoy movi even enjoy data scienc\\\\\n",
       "\\end{tabular}\n"
      ],
      "text/markdown": [
       "\n",
       "| V1 |\n",
       "|---|\n",
       "| enjoy movi even enjoy data scienc |\n",
       "\n"
      ],
      "text/plain": [
       "  V1                               \n",
       "1 enjoy movi even enjoy data scienc"
      ]
     },
     "metadata": {},
     "output_type": "display_data"
    }
   ],
   "source": []
  },
  {
   "cell_type": "code",
   "execution_count": 8,
   "metadata": {},
   "outputs": [
    {
     "data": {
      "text/html": [
       "<table>\n",
       "<thead><tr><th scope=col>disappoint</th><th scope=col>enjoy</th><th scope=col>enough</th><th scope=col>film</th><th scope=col>great</th><th scope=col>long</th><th scope=col>love</th><th scope=col>movi</th><th scope=col>wasnt</th><th scope=col>way</th></tr></thead>\n",
       "<tbody>\n",
       "\t<tr><td>0</td><td>2</td><td>0</td><td>0</td><td>0</td><td>0</td><td>0</td><td>1</td><td>0</td><td>0</td></tr>\n",
       "</tbody>\n",
       "</table>\n"
      ],
      "text/latex": [
       "\\begin{tabular}{r|llllllllll}\n",
       " disappoint & enjoy & enough & film & great & long & love & movi & wasnt & way\\\\\n",
       "\\hline\n",
       "\t 0 & 2 & 0 & 0 & 0 & 0 & 0 & 1 & 0 & 0\\\\\n",
       "\\end{tabular}\n"
      ],
      "text/markdown": [
       "\n",
       "| disappoint | enjoy | enough | film | great | long | love | movi | wasnt | way |\n",
       "|---|---|---|---|---|---|---|---|---|---|\n",
       "| 0 | 2 | 0 | 0 | 0 | 0 | 0 | 1 | 0 | 0 |\n",
       "\n"
      ],
      "text/plain": [
       "  disappoint enjoy enough film great long love movi wasnt way\n",
       "1 0          2     0      0    0     0    0    1    0     0  "
      ]
     },
     "metadata": {},
     "output_type": "display_data"
    }
   ],
   "source": []
  },
  {
   "cell_type": "code",
   "execution_count": 9,
   "metadata": {
    "scrolled": true
   },
   "outputs": [
    {
     "data": {
      "text/html": [
       "<table>\n",
       "<thead><tr><th scope=col>comment</th><th scope=col>sentiment</th></tr></thead>\n",
       "<tbody>\n",
       "\t<tr><td>I enjoyed these movies even more than I enjoyed data science.</td><td>favorable                                                    </td></tr>\n",
       "</tbody>\n",
       "</table>\n"
      ],
      "text/latex": [
       "\\begin{tabular}{r|ll}\n",
       " comment & sentiment\\\\\n",
       "\\hline\n",
       "\t I enjoyed these movies even more than I enjoyed data science. & favorable                                                    \\\\\n",
       "\\end{tabular}\n"
      ],
      "text/markdown": [
       "\n",
       "| comment | sentiment |\n",
       "|---|---|\n",
       "| I enjoyed these movies even more than I enjoyed data science. | favorable                                                     |\n",
       "\n"
      ],
      "text/plain": [
       "  comment                                                       sentiment\n",
       "1 I enjoyed these movies even more than I enjoyed data science. favorable"
      ]
     },
     "metadata": {},
     "output_type": "display_data"
    }
   ],
   "source": []
  },
  {
   "cell_type": "markdown",
   "metadata": {},
   "source": [
    "## Problem 2"
   ]
  },
  {
   "cell_type": "markdown",
   "metadata": {},
   "source": [
    "Consider this time series traing and testing data:"
   ]
  },
  {
   "cell_type": "code",
   "execution_count": 10,
   "metadata": {
    "hideCode": false,
    "hidePrompt": false,
    "run_control": {
     "marked": false
    }
   },
   "outputs": [
    {
     "data": {
      "image/png": "[encoded data removed]",
      "text/plain": [
       "plot without title"
      ]
     },
     "metadata": {},
     "output_type": "display_data"
    }
   ],
   "source": [
    "data.train = data.frame(time=1:100, outcome=sin(sin(0.01*(100:1))*(1:100)))\n",
    "data.test = data.frame(time=101:150, outcome=sin(sin(0.01*(150:101))*(101:150)))\n",
    "\n",
    "ggplot() +\n",
    "geom_line(aes(x=time, y=outcome, color=\"train\"), data=data.train) +\n",
    "geom_line(aes(x=time, y=outcome, color=\"test\"), data=data.test) +\n",
    "scale_color_manual(values=PALETTE[c(3,1)])"
   ]
  },
  {
   "cell_type": "markdown",
   "metadata": {},
   "source": [
    "Convert the training data from time series form to cross-sectional form so that you can use it to predict 1 or 2 time steps ahead given a viewpoint, a 15 time step lookback, and a 30 time step lookback.  "
   ]
  },
  {
   "cell_type": "code",
   "execution_count": 11,
   "metadata": {
    "scrolled": true
   },
   "outputs": [
    {
     "data": {
      "text/html": [
       "<table>\n",
       "<thead><tr><th></th><th scope=col>time</th><th scope=col>outcome</th><th scope=col>lookback.15</th><th scope=col>lookback.30</th><th scope=col>lookahead.1</th><th scope=col>lookahead.2</th></tr></thead>\n",
       "<tbody>\n",
       "\t<tr><th scope=row>31</th><td>31            </td><td> 0.90061930245</td><td>-0.51917393328</td><td> 0.74562414167</td><td> 0.99869148900</td><td> 0.94610145129</td></tr>\n",
       "\t<tr><th scope=row>32</th><td>32            </td><td> 0.99869148900</td><td> 0.09243030566</td><td> 0.99487802707</td><td> 0.94610145129</td><td> 0.76922348278</td></tr>\n",
       "\t<tr><th scope=row>33</th><td>33            </td><td> 0.94610145129</td><td> 0.65666942881</td><td> 0.60526644263</td><td> 0.76922348278</td><td> 0.50730857789</td></tr>\n",
       "\t<tr><th scope=row>34</th><td>34            </td><td> 0.76922348278</td><td> 0.97004115376</td><td>-0.15729425461</td><td> 0.50730857789</td><td> 0.20301686480</td></tr>\n",
       "\t<tr><th scope=row>35</th><td>35            </td><td> 0.50730857789</td><td> 0.93985986016</td><td>-0.81594690297</td><td> 0.20301686480</td><td>-0.10488946798</td></tr>\n",
       "\t<tr><th scope=row>36</th><td>36            </td><td> 0.20301686480</td><td> 0.59998740014</td><td>-0.98590375686</td><td>-0.10488946798</td><td>-0.38605593719</td></tr>\n",
       "\t<tr><th scope=row>37</th><td>37            </td><td>-0.10488946798</td><td> 0.08010535551</td><td>-0.58936985505</td><td>-0.38605593719</td><td>-0.62037652380</td></tr>\n",
       "\t<tr><th scope=row>38</th><td>38            </td><td>-0.38605593719</td><td>-0.45062325516</td><td> 0.12941026436</td><td>-0.62037652380</td><td>-0.79774716062</td></tr>\n",
       "\t<tr><th scope=row>39</th><td>39            </td><td>-0.62037652380</td><td>-0.84108307922</td><td> 0.76897055092</td><td>-0.79774716062</td><td>-0.91648047689</td></tr>\n",
       "\t<tr><th scope=row>40</th><td>40            </td><td>-0.79774716062</td><td>-0.99844784931</td><td> 0.99915733054</td><td>-0.91648047689</td><td>-0.98108989904</td></tr>\n",
       "\t<tr><th scope=row>41</th><td>41            </td><td>-0.91648047689</td><td>-0.90310588261</td><td> 0.72303243880</td><td>-0.98108989904</td><td>-0.99999524330</td></tr>\n",
       "\t<tr><th scope=row>42</th><td>42            </td><td>-0.98108989904</td><td>-0.60022493530</td><td> 0.09975082145</td><td>-0.99999524330</td><td>-0.98350804798</td></tr>\n",
       "\t<tr><th scope=row>43</th><td>43            </td><td>-0.99999524330</td><td>-0.17628015815</td><td>-0.56036586149</td><td>-0.98350804798</td><td>-0.94227547437</td></tr>\n",
       "\t<tr><th scope=row>44</th><td>44            </td><td>-0.98350804798</td><td> 0.26923591832</td><td>-0.95681110561</td><td>-0.94227547437</td><td>-0.88622361348</td></tr>\n",
       "\t<tr><th scope=row>45</th><td>45            </td><td>-0.94227547437</td><td> 0.64838197753</td><td>-0.93157892932</td><td>-0.88622361348</td><td>-0.82395163191</td></tr>\n",
       "\t<tr><th scope=row>46</th><td>46            </td><td>-0.88622361348</td><td> 0.90061930245</td><td>-0.51917393328</td><td>-0.82395163191</td><td>-0.76248216020</td></tr>\n",
       "\t<tr><th scope=row>47</th><td>47            </td><td>-0.82395163191</td><td> 0.99869148900</td><td> 0.09243030566</td><td>-0.76248216020</td><td>-0.70725971960</td></tr>\n",
       "\t<tr><th scope=row>48</th><td>48            </td><td>-0.76248216020</td><td> 0.94610145129</td><td> 0.65666942881</td><td>-0.70725971960</td><td>-0.66229587184</td></tr>\n",
       "\t<tr><th scope=row>49</th><td>49            </td><td>-0.70725971960</td><td> 0.76922348278</td><td> 0.97004115376</td><td>-0.66229587184</td><td>-0.63037700020</td></tr>\n",
       "\t<tr><th scope=row>50</th><td>50            </td><td>-0.66229587184</td><td> 0.50730857789</td><td> 0.93985986016</td><td>-0.63037700020</td><td>-0.61327092341</td></tr>\n",
       "\t<tr><th scope=row>51</th><td>51            </td><td>-0.63037700020</td><td> 0.20301686480</td><td> 0.59998740014</td><td>-0.61327092341</td><td>-0.61188761398</td></tr>\n",
       "\t<tr><th scope=row>52</th><td>52            </td><td>-0.61327092341</td><td>-0.10488946798</td><td> 0.08010535551</td><td>-0.61188761398</td><td>-0.62636535799</td></tr>\n",
       "\t<tr><th scope=row>53</th><td>53            </td><td>-0.61188761398</td><td>-0.38605593719</td><td>-0.45062325516</td><td>-0.62636535799</td><td>-0.65606684193</td></tr>\n",
       "\t<tr><th scope=row>54</th><td>54            </td><td>-0.62636535799</td><td>-0.62037652380</td><td>-0.84108307922</td><td>-0.65606684193</td><td>-0.69948122057</td></tr>\n",
       "\t<tr><th scope=row>55</th><td>55            </td><td>-0.65606684193</td><td>-0.79774716062</td><td>-0.99844784931</td><td>-0.69948122057</td><td>-0.75404026138</td></tr>\n",
       "\t<tr><th scope=row>56</th><td>56            </td><td>-0.69948122057</td><td>-0.91648047689</td><td>-0.90310588261</td><td>-0.75404026138</td><td>-0.81587145041</td></tr>\n",
       "\t<tr><th scope=row>57</th><td>57            </td><td>-0.75404026138</td><td>-0.98108989904</td><td>-0.60022493530</td><td>-0.81587145041</td><td>-0.87953043826</td></tr>\n",
       "\t<tr><th scope=row>58</th><td>58            </td><td>-0.81587145041</td><td>-0.99999524330</td><td>-0.17628015815</td><td>-0.87953043826</td><td>-0.93778031900</td></tr>\n",
       "\t<tr><th scope=row>59</th><td>59            </td><td>-0.87953043826</td><td>-0.98350804798</td><td> 0.26923591832</td><td>-0.93778031900</td><td>-0.98151486377</td></tr>\n",
       "\t<tr><th scope=row>60</th><td>60            </td><td>-0.93778031900</td><td>-0.94227547437</td><td> 0.64838197753</td><td>-0.98151486377</td><td>-0.99995259739</td></tr>\n",
       "\t<tr><th scope=row>61</th><td>61            </td><td>-0.98151486377</td><td>-0.88622361348</td><td> 0.90061930245</td><td>-0.99995259739</td><td>-0.98124955648</td></tr>\n",
       "\t<tr><th scope=row>62</th><td>62            </td><td>-0.99995259739</td><td>-0.82395163191</td><td> 0.99869148900</td><td>-0.98124955648</td><td>-0.91367628369</td></tr>\n",
       "\t<tr><th scope=row>63</th><td>63            </td><td>-0.98124955648</td><td>-0.76248216020</td><td> 0.94610145129</td><td>-0.91367628369</td><td>-0.78745965325</td></tr>\n",
       "\t<tr><th scope=row>64</th><td>64            </td><td>-0.91367628369</td><td>-0.70725971960</td><td> 0.76922348278</td><td>-0.78745965325</td><td>-0.59728103516</td></tr>\n",
       "\t<tr><th scope=row>65</th><td>65            </td><td>-0.78745965325</td><td>-0.66229587184</td><td> 0.50730857789</td><td>-0.59728103516</td><td>-0.34523258755</td></tr>\n",
       "\t<tr><th scope=row>66</th><td>66            </td><td>-0.59728103516</td><td>-0.63037700020</td><td> 0.20301686480</td><td>-0.34523258755</td><td>-0.04376337416</td></tr>\n",
       "\t<tr><th scope=row>67</th><td>67            </td><td>-0.34523258755</td><td>-0.61327092341</td><td>-0.10488946798</td><td>-0.04376337416</td><td> 0.28217059403</td></tr>\n",
       "\t<tr><th scope=row>68</th><td>68            </td><td>-0.04376337416</td><td>-0.61188761398</td><td>-0.38605593719</td><td> 0.28217059403</td><td> 0.59482185999</td></tr>\n",
       "\t<tr><th scope=row>69</th><td>69            </td><td> 0.28217059403</td><td>-0.62636535799</td><td>-0.62037652380</td><td> 0.59482185999</td><td> 0.84641348845</td></tr>\n",
       "\t<tr><th scope=row>70</th><td>70            </td><td> 0.59482185999</td><td>-0.65606684193</td><td>-0.79774716062</td><td> 0.84641348845</td><td> 0.98588636586</td></tr>\n",
       "\t<tr><th scope=row>71</th><td>71            </td><td> 0.84641348845</td><td>-0.69948122057</td><td>-0.91648047689</td><td> 0.98588636586</td><td> 0.96979925821</td></tr>\n",
       "\t<tr><th scope=row>72</th><td>72            </td><td> 0.98588636586</td><td>-0.75404026138</td><td>-0.98108989904</td><td> 0.96979925821</td><td> 0.77617114219</td></tr>\n",
       "\t<tr><th scope=row>73</th><td>73            </td><td> 0.96979925821</td><td>-0.81587145041</td><td>-0.99999524330</td><td> 0.77617114219</td><td> 0.41822058369</td></tr>\n",
       "\t<tr><th scope=row>74</th><td>74            </td><td> 0.77617114219</td><td>-0.87953043826</td><td>-0.98350804798</td><td> 0.41822058369</td><td>-0.04683787588</td></tr>\n",
       "\t<tr><th scope=row>75</th><td>75            </td><td> 0.41822058369</td><td>-0.93778031900</td><td>-0.94227547437</td><td>-0.04683787588</td><td>-0.51966062943</td></tr>\n",
       "\t<tr><th scope=row>76</th><td>76            </td><td>-0.04683787588</td><td>-0.98151486377</td><td>-0.88622361348</td><td>-0.51966062943</td><td>-0.87590535681</td></tr>\n",
       "\t<tr><th scope=row>77</th><td>77            </td><td>-0.51966062943</td><td>-0.99995259739</td><td>-0.82395163191</td><td>-0.87590535681</td><td>-0.99925436476</td></tr>\n",
       "\t<tr><th scope=row>78</th><td>78            </td><td>-0.87590535681</td><td>-0.98124955648</td><td>-0.76248216020</td><td>-0.99925436476</td><td>-0.82422302348</td></tr>\n",
       "\t<tr><th scope=row>79</th><td>79            </td><td>-0.99925436476</td><td>-0.91367628369</td><td>-0.70725971960</td><td>-0.82422302348</td><td>-0.37486627458</td></tr>\n",
       "\t<tr><th scope=row>80</th><td>80            </td><td>-0.82422302348</td><td>-0.78745965325</td><td>-0.66229587184</td><td>-0.37486627458</td><td> 0.21972627523</td></tr>\n",
       "\t<tr><th scope=row>81</th><td>81            </td><td>-0.37486627458</td><td>-0.59728103516</td><td>-0.63037700020</td><td> 0.21972627523</td><td> 0.75029531978</td></tr>\n",
       "\t<tr><th scope=row>82</th><td>82            </td><td> 0.21972627523</td><td>-0.34523258755</td><td>-0.61327092341</td><td> 0.75029531978</td><td> 0.99725211993</td></tr>\n",
       "\t<tr><th scope=row>83</th><td>83            </td><td> 0.75029531978</td><td>-0.04376337416</td><td>-0.61188761398</td><td> 0.99725211993</td><td> 0.82808158000</td></tr>\n",
       "\t<tr><th scope=row>84</th><td>84            </td><td> 0.99725211993</td><td> 0.28217059403</td><td>-0.62636535799</td><td> 0.82808158000</td><td> 0.28145376065</td></tr>\n",
       "\t<tr><th scope=row>85</th><td>85            </td><td> 0.82808158000</td><td> 0.59482185999</td><td>-0.65606684193</td><td> 0.28145376065</td><td>-0.41334055878</td></tr>\n",
       "\t<tr><th scope=row>86</th><td>86            </td><td> 0.28145376065</td><td> 0.84641348845</td><td>-0.69948122057</td><td>-0.41334055878</td><td>-0.91622953902</td></tr>\n",
       "\t<tr><th scope=row>87</th><td>87            </td><td>-0.41334055878</td><td> 0.98588636586</td><td>-0.75404026138</td><td>-0.91622953902</td><td>-0.94235787160</td></tr>\n",
       "\t<tr><th scope=row>88</th><td>88            </td><td>-0.91622953902</td><td> 0.96979925821</td><td>-0.81587145041</td><td>-0.94235787160</td><td>-0.43970403303</td></tr>\n",
       "\t<tr><th scope=row>89</th><td>89            </td><td>-0.94235787160</td><td> 0.77617114219</td><td>-0.87953043826</td><td>-0.43970403303</td><td> 0.33342774122</td></tr>\n",
       "\t<tr><th scope=row>90</th><td>90            </td><td>-0.43970403303</td><td> 0.41822058369</td><td>-0.93778031900</td><td> 0.33342774122</td><td> 0.91517884737</td></tr>\n",
       "\t<tr><th scope=row>91</th><td>91            </td><td> 0.33342774122</td><td>-0.04683787588</td><td>-0.98151486377</td><td> 0.91517884737</td><td> 0.91230636643</td></tr>\n",
       "\t<tr><th scope=row>92</th><td>92            </td><td> 0.91517884737</td><td>-0.51966062943</td><td>-0.99995259739</td><td> 0.91230636643</td><td> 0.28733404310</td></tr>\n",
       "\t<tr><th scope=row>93</th><td>93            </td><td> 0.91230636643</td><td>-0.87590535681</td><td>-0.98124955648</td><td> 0.28733404310</td><td>-0.55353652160</td></tr>\n",
       "\t<tr><th scope=row>94</th><td>94            </td><td> 0.28733404310</td><td>-0.99925436476</td><td>-0.91367628369</td><td>-0.55353652160</td><td>-0.99633759298</td></tr>\n",
       "\t<tr><th scope=row>95</th><td>95            </td><td>-0.55353652160</td><td>-0.82422302348</td><td>-0.78745965325</td><td>-0.99633759298</td><td>-0.67234545449</td></tr>\n",
       "\t<tr><th scope=row>96</th><td>96            </td><td>-0.99633759298</td><td>-0.37486627458</td><td>-0.59728103516</td><td>-0.67234545449</td><td> 0.20066201507</td></tr>\n",
       "\t<tr><th scope=row>97</th><td>97            </td><td>-0.67234545449</td><td> 0.21972627523</td><td>-0.34523258755</td><td> 0.20066201507</td><td> 0.91749046625</td></tr>\n",
       "\t<tr><th scope=row>98</th><td>98            </td><td> 0.20066201507</td><td> 0.75029531978</td><td>-0.04376337416</td><td> 0.91749046625</td><td> 0.84146197970</td></tr>\n",
       "</tbody>\n",
       "</table>\n"
      ],
      "text/latex": [
       "\\begin{tabular}{r|llllll}\n",
       "  & time & outcome & lookback.15 & lookback.30 & lookahead.1 & lookahead.2\\\\\n",
       "\\hline\n",
       "\t31 & 31             &  0.90061930245 & -0.51917393328 &  0.74562414167 &  0.99869148900 &  0.94610145129\\\\\n",
       "\t32 & 32             &  0.99869148900 &  0.09243030566 &  0.99487802707 &  0.94610145129 &  0.76922348278\\\\\n",
       "\t33 & 33             &  0.94610145129 &  0.65666942881 &  0.60526644263 &  0.76922348278 &  0.50730857789\\\\\n",
       "\t34 & 34             &  0.76922348278 &  0.97004115376 & -0.15729425461 &  0.50730857789 &  0.20301686480\\\\\n",
       "\t35 & 35             &  0.50730857789 &  0.93985986016 & -0.81594690297 &  0.20301686480 & -0.10488946798\\\\\n",
       "\t36 & 36             &  0.20301686480 &  0.59998740014 & -0.98590375686 & -0.10488946798 & -0.38605593719\\\\\n",
       "\t37 & 37             & -0.10488946798 &  0.08010535551 & -0.58936985505 & -0.38605593719 & -0.62037652380\\\\\n",
       "\t38 & 38             & -0.38605593719 & -0.45062325516 &  0.12941026436 & -0.62037652380 & -0.79774716062\\\\\n",
       "\t39 & 39             & -0.62037652380 & -0.84108307922 &  0.76897055092 & -0.79774716062 & -0.91648047689\\\\\n",
       "\t40 & 40             & -0.79774716062 & -0.99844784931 &  0.99915733054 & -0.91648047689 & -0.98108989904\\\\\n",
       "\t41 & 41             & -0.91648047689 & -0.90310588261 &  0.72303243880 & -0.98108989904 & -0.99999524330\\\\\n",
       "\t42 & 42             & -0.98108989904 & -0.60022493530 &  0.09975082145 & -0.99999524330 & -0.98350804798\\\\\n",
       "\t43 & 43             & -0.99999524330 & -0.17628015815 & -0.56036586149 & -0.98350804798 & -0.94227547437\\\\\n",
       "\t44 & 44             & -0.98350804798 &  0.26923591832 & -0.95681110561 & -0.94227547437 & -0.88622361348\\\\\n",
       "\t45 & 45             & -0.94227547437 &  0.64838197753 & -0.93157892932 & -0.88622361348 & -0.82395163191\\\\\n",
       "\t46 & 46             & -0.88622361348 &  0.90061930245 & -0.51917393328 & -0.82395163191 & -0.76248216020\\\\\n",
       "\t47 & 47             & -0.82395163191 &  0.99869148900 &  0.09243030566 & -0.76248216020 & -0.70725971960\\\\\n",
       "\t48 & 48             & -0.76248216020 &  0.94610145129 &  0.65666942881 & -0.70725971960 & -0.66229587184\\\\\n",
       "\t49 & 49             & -0.70725971960 &  0.76922348278 &  0.97004115376 & -0.66229587184 & -0.63037700020\\\\\n",
       "\t50 & 50             & -0.66229587184 &  0.50730857789 &  0.93985986016 & -0.63037700020 & -0.61327092341\\\\\n",
       "\t51 & 51             & -0.63037700020 &  0.20301686480 &  0.59998740014 & -0.61327092341 & -0.61188761398\\\\\n",
       "\t52 & 52             & -0.61327092341 & -0.10488946798 &  0.08010535551 & -0.61188761398 & -0.62636535799\\\\\n",
       "\t53 & 53             & -0.61188761398 & -0.38605593719 & -0.45062325516 & -0.62636535799 & -0.65606684193\\\\\n",
       "\t54 & 54             & -0.62636535799 & -0.62037652380 & -0.84108307922 & -0.65606684193 & -0.69948122057\\\\\n",
       "\t55 & 55             & -0.65606684193 & -0.79774716062 & -0.99844784931 & -0.69948122057 & -0.75404026138\\\\\n",
       "\t56 & 56             & -0.69948122057 & -0.91648047689 & -0.90310588261 & -0.75404026138 & -0.81587145041\\\\\n",
       "\t57 & 57             & -0.75404026138 & -0.98108989904 & -0.60022493530 & -0.81587145041 & -0.87953043826\\\\\n",
       "\t58 & 58             & -0.81587145041 & -0.99999524330 & -0.17628015815 & -0.87953043826 & -0.93778031900\\\\\n",
       "\t59 & 59             & -0.87953043826 & -0.98350804798 &  0.26923591832 & -0.93778031900 & -0.98151486377\\\\\n",
       "\t60 & 60             & -0.93778031900 & -0.94227547437 &  0.64838197753 & -0.98151486377 & -0.99995259739\\\\\n",
       "\t61 & 61             & -0.98151486377 & -0.88622361348 &  0.90061930245 & -0.99995259739 & -0.98124955648\\\\\n",
       "\t62 & 62             & -0.99995259739 & -0.82395163191 &  0.99869148900 & -0.98124955648 & -0.91367628369\\\\\n",
       "\t63 & 63             & -0.98124955648 & -0.76248216020 &  0.94610145129 & -0.91367628369 & -0.78745965325\\\\\n",
       "\t64 & 64             & -0.91367628369 & -0.70725971960 &  0.76922348278 & -0.78745965325 & -0.59728103516\\\\\n",
       "\t65 & 65             & -0.78745965325 & -0.66229587184 &  0.50730857789 & -0.59728103516 & -0.34523258755\\\\\n",
       "\t66 & 66             & -0.59728103516 & -0.63037700020 &  0.20301686480 & -0.34523258755 & -0.04376337416\\\\\n",
       "\t67 & 67             & -0.34523258755 & -0.61327092341 & -0.10488946798 & -0.04376337416 &  0.28217059403\\\\\n",
       "\t68 & 68             & -0.04376337416 & -0.61188761398 & -0.38605593719 &  0.28217059403 &  0.59482185999\\\\\n",
       "\t69 & 69             &  0.28217059403 & -0.62636535799 & -0.62037652380 &  0.59482185999 &  0.84641348845\\\\\n",
       "\t70 & 70             &  0.59482185999 & -0.65606684193 & -0.79774716062 &  0.84641348845 &  0.98588636586\\\\\n",
       "\t71 & 71             &  0.84641348845 & -0.69948122057 & -0.91648047689 &  0.98588636586 &  0.96979925821\\\\\n",
       "\t72 & 72             &  0.98588636586 & -0.75404026138 & -0.98108989904 &  0.96979925821 &  0.77617114219\\\\\n",
       "\t73 & 73             &  0.96979925821 & -0.81587145041 & -0.99999524330 &  0.77617114219 &  0.41822058369\\\\\n",
       "\t74 & 74             &  0.77617114219 & -0.87953043826 & -0.98350804798 &  0.41822058369 & -0.04683787588\\\\\n",
       "\t75 & 75             &  0.41822058369 & -0.93778031900 & -0.94227547437 & -0.04683787588 & -0.51966062943\\\\\n",
       "\t76 & 76             & -0.04683787588 & -0.98151486377 & -0.88622361348 & -0.51966062943 & -0.87590535681\\\\\n",
       "\t77 & 77             & -0.51966062943 & -0.99995259739 & -0.82395163191 & -0.87590535681 & -0.99925436476\\\\\n",
       "\t78 & 78             & -0.87590535681 & -0.98124955648 & -0.76248216020 & -0.99925436476 & -0.82422302348\\\\\n",
       "\t79 & 79             & -0.99925436476 & -0.91367628369 & -0.70725971960 & -0.82422302348 & -0.37486627458\\\\\n",
       "\t80 & 80             & -0.82422302348 & -0.78745965325 & -0.66229587184 & -0.37486627458 &  0.21972627523\\\\\n",
       "\t81 & 81             & -0.37486627458 & -0.59728103516 & -0.63037700020 &  0.21972627523 &  0.75029531978\\\\\n",
       "\t82 & 82             &  0.21972627523 & -0.34523258755 & -0.61327092341 &  0.75029531978 &  0.99725211993\\\\\n",
       "\t83 & 83             &  0.75029531978 & -0.04376337416 & -0.61188761398 &  0.99725211993 &  0.82808158000\\\\\n",
       "\t84 & 84             &  0.99725211993 &  0.28217059403 & -0.62636535799 &  0.82808158000 &  0.28145376065\\\\\n",
       "\t85 & 85             &  0.82808158000 &  0.59482185999 & -0.65606684193 &  0.28145376065 & -0.41334055878\\\\\n",
       "\t86 & 86             &  0.28145376065 &  0.84641348845 & -0.69948122057 & -0.41334055878 & -0.91622953902\\\\\n",
       "\t87 & 87             & -0.41334055878 &  0.98588636586 & -0.75404026138 & -0.91622953902 & -0.94235787160\\\\\n",
       "\t88 & 88             & -0.91622953902 &  0.96979925821 & -0.81587145041 & -0.94235787160 & -0.43970403303\\\\\n",
       "\t89 & 89             & -0.94235787160 &  0.77617114219 & -0.87953043826 & -0.43970403303 &  0.33342774122\\\\\n",
       "\t90 & 90             & -0.43970403303 &  0.41822058369 & -0.93778031900 &  0.33342774122 &  0.91517884737\\\\\n",
       "\t91 & 91             &  0.33342774122 & -0.04683787588 & -0.98151486377 &  0.91517884737 &  0.91230636643\\\\\n",
       "\t92 & 92             &  0.91517884737 & -0.51966062943 & -0.99995259739 &  0.91230636643 &  0.28733404310\\\\\n",
       "\t93 & 93             &  0.91230636643 & -0.87590535681 & -0.98124955648 &  0.28733404310 & -0.55353652160\\\\\n",
       "\t94 & 94             &  0.28733404310 & -0.99925436476 & -0.91367628369 & -0.55353652160 & -0.99633759298\\\\\n",
       "\t95 & 95             & -0.55353652160 & -0.82422302348 & -0.78745965325 & -0.99633759298 & -0.67234545449\\\\\n",
       "\t96 & 96             & -0.99633759298 & -0.37486627458 & -0.59728103516 & -0.67234545449 &  0.20066201507\\\\\n",
       "\t97 & 97             & -0.67234545449 &  0.21972627523 & -0.34523258755 &  0.20066201507 &  0.91749046625\\\\\n",
       "\t98 & 98             &  0.20066201507 &  0.75029531978 & -0.04376337416 &  0.91749046625 &  0.84146197970\\\\\n",
       "\\end{tabular}\n"
      ],
      "text/markdown": [
       "\n",
       "| <!--/--> | time | outcome | lookback.15 | lookback.30 | lookahead.1 | lookahead.2 |\n",
       "|---|---|---|---|---|---|---|\n",
       "| 31 | 31             |  0.90061930245 | -0.51917393328 |  0.74562414167 |  0.99869148900 |  0.94610145129 |\n",
       "| 32 | 32             |  0.99869148900 |  0.09243030566 |  0.99487802707 |  0.94610145129 |  0.76922348278 |\n",
       "| 33 | 33             |  0.94610145129 |  0.65666942881 |  0.60526644263 |  0.76922348278 |  0.50730857789 |\n",
       "| 34 | 34             |  0.76922348278 |  0.97004115376 | -0.15729425461 |  0.50730857789 |  0.20301686480 |\n",
       "| 35 | 35             |  0.50730857789 |  0.93985986016 | -0.81594690297 |  0.20301686480 | -0.10488946798 |\n",
       "| 36 | 36             |  0.20301686480 |  0.59998740014 | -0.98590375686 | -0.10488946798 | -0.38605593719 |\n",
       "| 37 | 37             | -0.10488946798 |  0.08010535551 | -0.58936985505 | -0.38605593719 | -0.62037652380 |\n",
       "| 38 | 38             | -0.38605593719 | -0.45062325516 |  0.12941026436 | -0.62037652380 | -0.79774716062 |\n",
       "| 39 | 39             | -0.62037652380 | -0.84108307922 |  0.76897055092 | -0.79774716062 | -0.91648047689 |\n",
       "| 40 | 40             | -0.79774716062 | -0.99844784931 |  0.99915733054 | -0.91648047689 | -0.98108989904 |\n",
       "| 41 | 41             | -0.91648047689 | -0.90310588261 |  0.72303243880 | -0.98108989904 | -0.99999524330 |\n",
       "| 42 | 42             | -0.98108989904 | -0.60022493530 |  0.09975082145 | -0.99999524330 | -0.98350804798 |\n",
       "| 43 | 43             | -0.99999524330 | -0.17628015815 | -0.56036586149 | -0.98350804798 | -0.94227547437 |\n",
       "| 44 | 44             | -0.98350804798 |  0.26923591832 | -0.95681110561 | -0.94227547437 | -0.88622361348 |\n",
       "| 45 | 45             | -0.94227547437 |  0.64838197753 | -0.93157892932 | -0.88622361348 | -0.82395163191 |\n",
       "| 46 | 46             | -0.88622361348 |  0.90061930245 | -0.51917393328 | -0.82395163191 | -0.76248216020 |\n",
       "| 47 | 47             | -0.82395163191 |  0.99869148900 |  0.09243030566 | -0.76248216020 | -0.70725971960 |\n",
       "| 48 | 48             | -0.76248216020 |  0.94610145129 |  0.65666942881 | -0.70725971960 | -0.66229587184 |\n",
       "| 49 | 49             | -0.70725971960 |  0.76922348278 |  0.97004115376 | -0.66229587184 | -0.63037700020 |\n",
       "| 50 | 50             | -0.66229587184 |  0.50730857789 |  0.93985986016 | -0.63037700020 | -0.61327092341 |\n",
       "| 51 | 51             | -0.63037700020 |  0.20301686480 |  0.59998740014 | -0.61327092341 | -0.61188761398 |\n",
       "| 52 | 52             | -0.61327092341 | -0.10488946798 |  0.08010535551 | -0.61188761398 | -0.62636535799 |\n",
       "| 53 | 53             | -0.61188761398 | -0.38605593719 | -0.45062325516 | -0.62636535799 | -0.65606684193 |\n",
       "| 54 | 54             | -0.62636535799 | -0.62037652380 | -0.84108307922 | -0.65606684193 | -0.69948122057 |\n",
       "| 55 | 55             | -0.65606684193 | -0.79774716062 | -0.99844784931 | -0.69948122057 | -0.75404026138 |\n",
       "| 56 | 56             | -0.69948122057 | -0.91648047689 | -0.90310588261 | -0.75404026138 | -0.81587145041 |\n",
       "| 57 | 57             | -0.75404026138 | -0.98108989904 | -0.60022493530 | -0.81587145041 | -0.87953043826 |\n",
       "| 58 | 58             | -0.81587145041 | -0.99999524330 | -0.17628015815 | -0.87953043826 | -0.93778031900 |\n",
       "| 59 | 59             | -0.87953043826 | -0.98350804798 |  0.26923591832 | -0.93778031900 | -0.98151486377 |\n",
       "| 60 | 60             | -0.93778031900 | -0.94227547437 |  0.64838197753 | -0.98151486377 | -0.99995259739 |\n",
       "| 61 | 61             | -0.98151486377 | -0.88622361348 |  0.90061930245 | -0.99995259739 | -0.98124955648 |\n",
       "| 62 | 62             | -0.99995259739 | -0.82395163191 |  0.99869148900 | -0.98124955648 | -0.91367628369 |\n",
       "| 63 | 63             | -0.98124955648 | -0.76248216020 |  0.94610145129 | -0.91367628369 | -0.78745965325 |\n",
       "| 64 | 64             | -0.91367628369 | -0.70725971960 |  0.76922348278 | -0.78745965325 | -0.59728103516 |\n",
       "| 65 | 65             | -0.78745965325 | -0.66229587184 |  0.50730857789 | -0.59728103516 | -0.34523258755 |\n",
       "| 66 | 66             | -0.59728103516 | -0.63037700020 |  0.20301686480 | -0.34523258755 | -0.04376337416 |\n",
       "| 67 | 67             | -0.34523258755 | -0.61327092341 | -0.10488946798 | -0.04376337416 |  0.28217059403 |\n",
       "| 68 | 68             | -0.04376337416 | -0.61188761398 | -0.38605593719 |  0.28217059403 |  0.59482185999 |\n",
       "| 69 | 69             |  0.28217059403 | -0.62636535799 | -0.62037652380 |  0.59482185999 |  0.84641348845 |\n",
       "| 70 | 70             |  0.59482185999 | -0.65606684193 | -0.79774716062 |  0.84641348845 |  0.98588636586 |\n",
       "| 71 | 71             |  0.84641348845 | -0.69948122057 | -0.91648047689 |  0.98588636586 |  0.96979925821 |\n",
       "| 72 | 72             |  0.98588636586 | -0.75404026138 | -0.98108989904 |  0.96979925821 |  0.77617114219 |\n",
       "| 73 | 73             |  0.96979925821 | -0.81587145041 | -0.99999524330 |  0.77617114219 |  0.41822058369 |\n",
       "| 74 | 74             |  0.77617114219 | -0.87953043826 | -0.98350804798 |  0.41822058369 | -0.04683787588 |\n",
       "| 75 | 75             |  0.41822058369 | -0.93778031900 | -0.94227547437 | -0.04683787588 | -0.51966062943 |\n",
       "| 76 | 76             | -0.04683787588 | -0.98151486377 | -0.88622361348 | -0.51966062943 | -0.87590535681 |\n",
       "| 77 | 77             | -0.51966062943 | -0.99995259739 | -0.82395163191 | -0.87590535681 | -0.99925436476 |\n",
       "| 78 | 78             | -0.87590535681 | -0.98124955648 | -0.76248216020 | -0.99925436476 | -0.82422302348 |\n",
       "| 79 | 79             | -0.99925436476 | -0.91367628369 | -0.70725971960 | -0.82422302348 | -0.37486627458 |\n",
       "| 80 | 80             | -0.82422302348 | -0.78745965325 | -0.66229587184 | -0.37486627458 |  0.21972627523 |\n",
       "| 81 | 81             | -0.37486627458 | -0.59728103516 | -0.63037700020 |  0.21972627523 |  0.75029531978 |\n",
       "| 82 | 82             |  0.21972627523 | -0.34523258755 | -0.61327092341 |  0.75029531978 |  0.99725211993 |\n",
       "| 83 | 83             |  0.75029531978 | -0.04376337416 | -0.61188761398 |  0.99725211993 |  0.82808158000 |\n",
       "| 84 | 84             |  0.99725211993 |  0.28217059403 | -0.62636535799 |  0.82808158000 |  0.28145376065 |\n",
       "| 85 | 85             |  0.82808158000 |  0.59482185999 | -0.65606684193 |  0.28145376065 | -0.41334055878 |\n",
       "| 86 | 86             |  0.28145376065 |  0.84641348845 | -0.69948122057 | -0.41334055878 | -0.91622953902 |\n",
       "| 87 | 87             | -0.41334055878 |  0.98588636586 | -0.75404026138 | -0.91622953902 | -0.94235787160 |\n",
       "| 88 | 88             | -0.91622953902 |  0.96979925821 | -0.81587145041 | -0.94235787160 | -0.43970403303 |\n",
       "| 89 | 89             | -0.94235787160 |  0.77617114219 | -0.87953043826 | -0.43970403303 |  0.33342774122 |\n",
       "| 90 | 90             | -0.43970403303 |  0.41822058369 | -0.93778031900 |  0.33342774122 |  0.91517884737 |\n",
       "| 91 | 91             |  0.33342774122 | -0.04683787588 | -0.98151486377 |  0.91517884737 |  0.91230636643 |\n",
       "| 92 | 92             |  0.91517884737 | -0.51966062943 | -0.99995259739 |  0.91230636643 |  0.28733404310 |\n",
       "| 93 | 93             |  0.91230636643 | -0.87590535681 | -0.98124955648 |  0.28733404310 | -0.55353652160 |\n",
       "| 94 | 94             |  0.28733404310 | -0.99925436476 | -0.91367628369 | -0.55353652160 | -0.99633759298 |\n",
       "| 95 | 95             | -0.55353652160 | -0.82422302348 | -0.78745965325 | -0.99633759298 | -0.67234545449 |\n",
       "| 96 | 96             | -0.99633759298 | -0.37486627458 | -0.59728103516 | -0.67234545449 |  0.20066201507 |\n",
       "| 97 | 97             | -0.67234545449 |  0.21972627523 | -0.34523258755 |  0.20066201507 |  0.91749046625 |\n",
       "| 98 | 98             |  0.20066201507 |  0.75029531978 | -0.04376337416 |  0.91749046625 |  0.84146197970 |\n",
       "\n"
      ],
      "text/plain": [
       "   time outcome        lookback.15    lookback.30    lookahead.1   \n",
       "31 31    0.90061930245 -0.51917393328  0.74562414167  0.99869148900\n",
       "32 32    0.99869148900  0.09243030566  0.99487802707  0.94610145129\n",
       "33 33    0.94610145129  0.65666942881  0.60526644263  0.76922348278\n",
       "34 34    0.76922348278  0.97004115376 -0.15729425461  0.50730857789\n",
       "35 35    0.50730857789  0.93985986016 -0.81594690297  0.20301686480\n",
       "36 36    0.20301686480  0.59998740014 -0.98590375686 -0.10488946798\n",
       "37 37   -0.10488946798  0.08010535551 -0.58936985505 -0.38605593719\n",
       "38 38   -0.38605593719 -0.45062325516  0.12941026436 -0.62037652380\n",
       "39 39   -0.62037652380 -0.84108307922  0.76897055092 -0.79774716062\n",
       "40 40   -0.79774716062 -0.99844784931  0.99915733054 -0.91648047689\n",
       "41 41   -0.91648047689 -0.90310588261  0.72303243880 -0.98108989904\n",
       "42 42   -0.98108989904 -0.60022493530  0.09975082145 -0.99999524330\n",
       "43 43   -0.99999524330 -0.17628015815 -0.56036586149 -0.98350804798\n",
       "44 44   -0.98350804798  0.26923591832 -0.95681110561 -0.94227547437\n",
       "45 45   -0.94227547437  0.64838197753 -0.93157892932 -0.88622361348\n",
       "46 46   -0.88622361348  0.90061930245 -0.51917393328 -0.82395163191\n",
       "47 47   -0.82395163191  0.99869148900  0.09243030566 -0.76248216020\n",
       "48 48   -0.76248216020  0.94610145129  0.65666942881 -0.70725971960\n",
       "49 49   -0.70725971960  0.76922348278  0.97004115376 -0.66229587184\n",
       "50 50   -0.66229587184  0.50730857789  0.93985986016 -0.63037700020\n",
       "51 51   -0.63037700020  0.20301686480  0.59998740014 -0.61327092341\n",
       "52 52   -0.61327092341 -0.10488946798  0.08010535551 -0.61188761398\n",
       "53 53   -0.61188761398 -0.38605593719 -0.45062325516 -0.62636535799\n",
       "54 54   -0.62636535799 -0.62037652380 -0.84108307922 -0.65606684193\n",
       "55 55   -0.65606684193 -0.79774716062 -0.99844784931 -0.69948122057\n",
       "56 56   -0.69948122057 -0.91648047689 -0.90310588261 -0.75404026138\n",
       "57 57   -0.75404026138 -0.98108989904 -0.60022493530 -0.81587145041\n",
       "58 58   -0.81587145041 -0.99999524330 -0.17628015815 -0.87953043826\n",
       "59 59   -0.87953043826 -0.98350804798  0.26923591832 -0.93778031900\n",
       "60 60   -0.93778031900 -0.94227547437  0.64838197753 -0.98151486377\n",
       "61 61   -0.98151486377 -0.88622361348  0.90061930245 -0.99995259739\n",
       "62 62   -0.99995259739 -0.82395163191  0.99869148900 -0.98124955648\n",
       "63 63   -0.98124955648 -0.76248216020  0.94610145129 -0.91367628369\n",
       "64 64   -0.91367628369 -0.70725971960  0.76922348278 -0.78745965325\n",
       "65 65   -0.78745965325 -0.66229587184  0.50730857789 -0.59728103516\n",
       "66 66   -0.59728103516 -0.63037700020  0.20301686480 -0.34523258755\n",
       "67 67   -0.34523258755 -0.61327092341 -0.10488946798 -0.04376337416\n",
       "68 68   -0.04376337416 -0.61188761398 -0.38605593719  0.28217059403\n",
       "69 69    0.28217059403 -0.62636535799 -0.62037652380  0.59482185999\n",
       "70 70    0.59482185999 -0.65606684193 -0.79774716062  0.84641348845\n",
       "71 71    0.84641348845 -0.69948122057 -0.91648047689  0.98588636586\n",
       "72 72    0.98588636586 -0.75404026138 -0.98108989904  0.96979925821\n",
       "73 73    0.96979925821 -0.81587145041 -0.99999524330  0.77617114219\n",
       "74 74    0.77617114219 -0.87953043826 -0.98350804798  0.41822058369\n",
       "75 75    0.41822058369 -0.93778031900 -0.94227547437 -0.04683787588\n",
       "76 76   -0.04683787588 -0.98151486377 -0.88622361348 -0.51966062943\n",
       "77 77   -0.51966062943 -0.99995259739 -0.82395163191 -0.87590535681\n",
       "78 78   -0.87590535681 -0.98124955648 -0.76248216020 -0.99925436476\n",
       "79 79   -0.99925436476 -0.91367628369 -0.70725971960 -0.82422302348\n",
       "80 80   -0.82422302348 -0.78745965325 -0.66229587184 -0.37486627458\n",
       "81 81   -0.37486627458 -0.59728103516 -0.63037700020  0.21972627523\n",
       "82 82    0.21972627523 -0.34523258755 -0.61327092341  0.75029531978\n",
       "83 83    0.75029531978 -0.04376337416 -0.61188761398  0.99725211993\n",
       "84 84    0.99725211993  0.28217059403 -0.62636535799  0.82808158000\n",
       "85 85    0.82808158000  0.59482185999 -0.65606684193  0.28145376065\n",
       "86 86    0.28145376065  0.84641348845 -0.69948122057 -0.41334055878\n",
       "87 87   -0.41334055878  0.98588636586 -0.75404026138 -0.91622953902\n",
       "88 88   -0.91622953902  0.96979925821 -0.81587145041 -0.94235787160\n",
       "89 89   -0.94235787160  0.77617114219 -0.87953043826 -0.43970403303\n",
       "90 90   -0.43970403303  0.41822058369 -0.93778031900  0.33342774122\n",
       "91 91    0.33342774122 -0.04683787588 -0.98151486377  0.91517884737\n",
       "92 92    0.91517884737 -0.51966062943 -0.99995259739  0.91230636643\n",
       "93 93    0.91230636643 -0.87590535681 -0.98124955648  0.28733404310\n",
       "94 94    0.28733404310 -0.99925436476 -0.91367628369 -0.55353652160\n",
       "95 95   -0.55353652160 -0.82422302348 -0.78745965325 -0.99633759298\n",
       "96 96   -0.99633759298 -0.37486627458 -0.59728103516 -0.67234545449\n",
       "97 97   -0.67234545449  0.21972627523 -0.34523258755  0.20066201507\n",
       "98 98    0.20066201507  0.75029531978 -0.04376337416  0.91749046625\n",
       "   lookahead.2   \n",
       "31  0.94610145129\n",
       "32  0.76922348278\n",
       "33  0.50730857789\n",
       "34  0.20301686480\n",
       "35 -0.10488946798\n",
       "36 -0.38605593719\n",
       "37 -0.62037652380\n",
       "38 -0.79774716062\n",
       "39 -0.91648047689\n",
       "40 -0.98108989904\n",
       "41 -0.99999524330\n",
       "42 -0.98350804798\n",
       "43 -0.94227547437\n",
       "44 -0.88622361348\n",
       "45 -0.82395163191\n",
       "46 -0.76248216020\n",
       "47 -0.70725971960\n",
       "48 -0.66229587184\n",
       "49 -0.63037700020\n",
       "50 -0.61327092341\n",
       "51 -0.61188761398\n",
       "52 -0.62636535799\n",
       "53 -0.65606684193\n",
       "54 -0.69948122057\n",
       "55 -0.75404026138\n",
       "56 -0.81587145041\n",
       "57 -0.87953043826\n",
       "58 -0.93778031900\n",
       "59 -0.98151486377\n",
       "60 -0.99995259739\n",
       "61 -0.98124955648\n",
       "62 -0.91367628369\n",
       "63 -0.78745965325\n",
       "64 -0.59728103516\n",
       "65 -0.34523258755\n",
       "66 -0.04376337416\n",
       "67  0.28217059403\n",
       "68  0.59482185999\n",
       "69  0.84641348845\n",
       "70  0.98588636586\n",
       "71  0.96979925821\n",
       "72  0.77617114219\n",
       "73  0.41822058369\n",
       "74 -0.04683787588\n",
       "75 -0.51966062943\n",
       "76 -0.87590535681\n",
       "77 -0.99925436476\n",
       "78 -0.82422302348\n",
       "79 -0.37486627458\n",
       "80  0.21972627523\n",
       "81  0.75029531978\n",
       "82  0.99725211993\n",
       "83  0.82808158000\n",
       "84  0.28145376065\n",
       "85 -0.41334055878\n",
       "86 -0.91622953902\n",
       "87 -0.94235787160\n",
       "88 -0.43970403303\n",
       "89  0.33342774122\n",
       "90  0.91517884737\n",
       "91  0.91230636643\n",
       "92  0.28733404310\n",
       "93 -0.55353652160\n",
       "94 -0.99633759298\n",
       "95 -0.67234545449\n",
       "96  0.20066201507\n",
       "97  0.91749046625\n",
       "98  0.84146197970"
      ]
     },
     "metadata": {},
     "output_type": "display_data"
    }
   ],
   "source": []
  },
  {
   "cell_type": "markdown",
   "metadata": {},
   "source": [
    "Prepare a view with origin at time step 150 in cross-sectional form.  Note: time step 150 is captured in row 50 of the test data."
   ]
  },
  {
   "cell_type": "code",
   "execution_count": 12,
   "metadata": {},
   "outputs": [
    {
     "data": {
      "text/html": [
       "<table>\n",
       "<thead><tr><th></th><th scope=col>time</th><th scope=col>outcome</th><th scope=col>lookback.15</th><th scope=col>lookback.30</th></tr></thead>\n",
       "<tbody>\n",
       "\t<tr><th scope=row>50</th><td>150          </td><td>0.9780880423 </td><td>-0.9478134084</td><td>0.2923984969 </td></tr>\n",
       "</tbody>\n",
       "</table>\n"
      ],
      "text/latex": [
       "\\begin{tabular}{r|llll}\n",
       "  & time & outcome & lookback.15 & lookback.30\\\\\n",
       "\\hline\n",
       "\t50 & 150           & 0.9780880423  & -0.9478134084 & 0.2923984969 \\\\\n",
       "\\end{tabular}\n"
      ],
      "text/markdown": [
       "\n",
       "| <!--/--> | time | outcome | lookback.15 | lookback.30 |\n",
       "|---|---|---|---|---|\n",
       "| 50 | 150           | 0.9780880423  | -0.9478134084 | 0.2923984969  |\n",
       "\n"
      ],
      "text/plain": [
       "   time outcome      lookback.15   lookback.30 \n",
       "50 150  0.9780880423 -0.9478134084 0.2923984969"
      ]
     },
     "metadata": {},
     "output_type": "display_data"
    }
   ],
   "source": []
  },
  {
   "cell_type": "markdown",
   "metadata": {},
   "source": [
    "Build linear regression models to predict 1 and 2 time steps ahead given a view origin, a 15 time step lookback, and a 30 time step lookback.  Show the models' coefficients."
   ]
  },
  {
   "cell_type": "code",
   "execution_count": 13,
   "metadata": {},
   "outputs": [
    {
     "data": {
      "text/html": [
       "<table>\n",
       "<thead><tr><th></th><th scope=col>model.1$coefficients</th></tr></thead>\n",
       "<tbody>\n",
       "\t<tr><th scope=row>(Intercept)</th><td>-0.01341646748</td></tr>\n",
       "\t<tr><th scope=row>outcome</th><td> 0.88447343840</td></tr>\n",
       "\t<tr><th scope=row>lookback.15</th><td> 0.04873934691</td></tr>\n",
       "\t<tr><th scope=row>lookback.30</th><td> 0.01089939488</td></tr>\n",
       "</tbody>\n",
       "</table>\n"
      ],
      "text/latex": [
       "\\begin{tabular}{r|l}\n",
       "  & model.1\\$coefficients\\\\\n",
       "\\hline\n",
       "\t(Intercept) & -0.01341646748\\\\\n",
       "\toutcome &  0.88447343840\\\\\n",
       "\tlookback.15 &  0.04873934691\\\\\n",
       "\tlookback.30 &  0.01089939488\\\\\n",
       "\\end{tabular}\n"
      ],
      "text/markdown": [
       "\n",
       "| <!--/--> | model.1$coefficients |\n",
       "|---|---|\n",
       "| (Intercept) | -0.01341646748 |\n",
       "| outcome |  0.88447343840 |\n",
       "| lookback.15 |  0.04873934691 |\n",
       "| lookback.30 |  0.01089939488 |\n",
       "\n"
      ],
      "text/plain": [
       "            model.1$coefficients\n",
       "(Intercept) -0.01341646748      \n",
       "outcome      0.88447343840      \n",
       "lookback.15  0.04873934691      \n",
       "lookback.30  0.01089939488      "
      ]
     },
     "metadata": {},
     "output_type": "display_data"
    },
    {
     "data": {
      "text/html": [
       "<table>\n",
       "<thead><tr><th></th><th scope=col>model.2$coefficients</th></tr></thead>\n",
       "<tbody>\n",
       "\t<tr><th scope=row>(Intercept)</th><td>-0.09930155788</td></tr>\n",
       "\t<tr><th scope=row>outcome</th><td> 0.57648956567</td></tr>\n",
       "\t<tr><th scope=row>lookback.15</th><td> 0.08179815724</td></tr>\n",
       "\t<tr><th scope=row>lookback.30</th><td>-0.04009437038</td></tr>\n",
       "</tbody>\n",
       "</table>\n"
      ],
      "text/latex": [
       "\\begin{tabular}{r|l}\n",
       "  & model.2\\$coefficients\\\\\n",
       "\\hline\n",
       "\t(Intercept) & -0.09930155788\\\\\n",
       "\toutcome &  0.57648956567\\\\\n",
       "\tlookback.15 &  0.08179815724\\\\\n",
       "\tlookback.30 & -0.04009437038\\\\\n",
       "\\end{tabular}\n"
      ],
      "text/markdown": [
       "\n",
       "| <!--/--> | model.2$coefficients |\n",
       "|---|---|\n",
       "| (Intercept) | -0.09930155788 |\n",
       "| outcome |  0.57648956567 |\n",
       "| lookback.15 |  0.08179815724 |\n",
       "| lookback.30 | -0.04009437038 |\n",
       "\n"
      ],
      "text/plain": [
       "            model.2$coefficients\n",
       "(Intercept) -0.09930155788      \n",
       "outcome      0.57648956567      \n",
       "lookback.15  0.08179815724      \n",
       "lookback.30 -0.04009437038      "
      ]
     },
     "metadata": {},
     "output_type": "display_data"
    }
   ],
   "source": []
  },
  {
   "cell_type": "markdown",
   "metadata": {},
   "source": [
    "From a view origin at time step 150, predict the outcomes at time steps 151 and 152 using the direct approach.  Show the view used to make the predictions.  Note: time step 150 is captured in row 50 of the test data."
   ]
  },
  {
   "cell_type": "code",
   "execution_count": 14,
   "metadata": {},
   "outputs": [
    {
     "data": {
      "text/html": [
       "<table>\n",
       "<thead><tr><th></th><th scope=col>time</th><th scope=col>outcome</th><th scope=col>lookback.15</th><th scope=col>lookback.30</th></tr></thead>\n",
       "<tbody>\n",
       "\t<tr><th scope=row>50</th><td>150          </td><td>0.9780880423 </td><td>-0.9478134084</td><td>0.2923984969 </td></tr>\n",
       "</tbody>\n",
       "</table>\n"
      ],
      "text/latex": [
       "\\begin{tabular}{r|llll}\n",
       "  & time & outcome & lookback.15 & lookback.30\\\\\n",
       "\\hline\n",
       "\t50 & 150           & 0.9780880423  & -0.9478134084 & 0.2923984969 \\\\\n",
       "\\end{tabular}\n"
      ],
      "text/markdown": [
       "\n",
       "| <!--/--> | time | outcome | lookback.15 | lookback.30 |\n",
       "|---|---|---|---|---|\n",
       "| 50 | 150           | 0.9780880423  | -0.9478134084 | 0.2923984969  |\n",
       "\n"
      ],
      "text/plain": [
       "   time outcome      lookback.15   lookback.30 \n",
       "50 150  0.9780880423 -0.9478134084 0.2923984969"
      ]
     },
     "metadata": {},
     "output_type": "display_data"
    }
   ],
   "source": []
  },
  {
   "cell_type": "code",
   "execution_count": 15,
   "metadata": {},
   "outputs": [
    {
     "data": {
      "text/html": [
       "<table>\n",
       "<thead><tr><th scope=col>time</th><th scope=col>outcome.predicted</th></tr></thead>\n",
       "<tbody>\n",
       "\t<tr><td>151         </td><td>0.8086675865</td></tr>\n",
       "\t<tr><td>152         </td><td>0.3753030690</td></tr>\n",
       "</tbody>\n",
       "</table>\n"
      ],
      "text/latex": [
       "\\begin{tabular}{r|ll}\n",
       " time & outcome.predicted\\\\\n",
       "\\hline\n",
       "\t 151          & 0.8086675865\\\\\n",
       "\t 152          & 0.3753030690\\\\\n",
       "\\end{tabular}\n"
      ],
      "text/markdown": [
       "\n",
       "| time | outcome.predicted |\n",
       "|---|---|\n",
       "| 151          | 0.8086675865 |\n",
       "| 152          | 0.3753030690 |\n",
       "\n"
      ],
      "text/plain": [
       "  time outcome.predicted\n",
       "1 151  0.8086675865     \n",
       "2 152  0.3753030690     "
      ]
     },
     "metadata": {},
     "output_type": "display_data"
    }
   ],
   "source": []
  },
  {
   "cell_type": "markdown",
   "metadata": {},
   "source": [
    "From view origin at time step 150, predict the outcomes at time steps 151 and 152 using the recursive approach.  Show the views used to make the predictions.  "
   ]
  },
  {
   "cell_type": "code",
   "execution_count": 16,
   "metadata": {},
   "outputs": [
    {
     "data": {
      "text/html": [
       "<table>\n",
       "<thead><tr><th></th><th scope=col>time</th><th scope=col>outcome</th><th scope=col>lookback.15</th><th scope=col>lookback.30</th></tr></thead>\n",
       "<tbody>\n",
       "\t<tr><th scope=row>50</th><td>150          </td><td>0.9780880423 </td><td>-0.9478134084</td><td>0.2923984969 </td></tr>\n",
       "</tbody>\n",
       "</table>\n"
      ],
      "text/latex": [
       "\\begin{tabular}{r|llll}\n",
       "  & time & outcome & lookback.15 & lookback.30\\\\\n",
       "\\hline\n",
       "\t50 & 150           & 0.9780880423  & -0.9478134084 & 0.2923984969 \\\\\n",
       "\\end{tabular}\n"
      ],
      "text/markdown": [
       "\n",
       "| <!--/--> | time | outcome | lookback.15 | lookback.30 |\n",
       "|---|---|---|---|---|\n",
       "| 50 | 150           | 0.9780880423  | -0.9478134084 | 0.2923984969  |\n",
       "\n"
      ],
      "text/plain": [
       "   time outcome      lookback.15   lookback.30 \n",
       "50 150  0.9780880423 -0.9478134084 0.2923984969"
      ]
     },
     "metadata": {},
     "output_type": "display_data"
    }
   ],
   "source": []
  },
  {
   "cell_type": "code",
   "execution_count": 17,
   "metadata": {},
   "outputs": [],
   "source": []
  },
  {
   "cell_type": "code",
   "execution_count": 18,
   "metadata": {},
   "outputs": [
    {
     "data": {
      "text/html": [
       "<table>\n",
       "<thead><tr><th></th><th scope=col>time</th><th scope=col>outcome</th><th scope=col>lookback.15</th><th scope=col>lookback.30</th></tr></thead>\n",
       "<tbody>\n",
       "\t<tr><th scope=row>50</th><td>151          </td><td>0.8086675865 </td><td>-0.9990762416</td><td>-0.3444118673</td></tr>\n",
       "</tbody>\n",
       "</table>\n"
      ],
      "text/latex": [
       "\\begin{tabular}{r|llll}\n",
       "  & time & outcome & lookback.15 & lookback.30\\\\\n",
       "\\hline\n",
       "\t50 & 151           & 0.8086675865  & -0.9990762416 & -0.3444118673\\\\\n",
       "\\end{tabular}\n"
      ],
      "text/markdown": [
       "\n",
       "| <!--/--> | time | outcome | lookback.15 | lookback.30 |\n",
       "|---|---|---|---|---|\n",
       "| 50 | 151           | 0.8086675865  | -0.9990762416 | -0.3444118673 |\n",
       "\n"
      ],
      "text/plain": [
       "   time outcome      lookback.15   lookback.30  \n",
       "50 151  0.8086675865 -0.9990762416 -0.3444118673"
      ]
     },
     "metadata": {},
     "output_type": "display_data"
    }
   ],
   "source": []
  },
  {
   "cell_type": "code",
   "execution_count": 19,
   "metadata": {
    "scrolled": true
   },
   "outputs": [
    {
     "data": {
      "text/html": [
       "<table>\n",
       "<thead><tr><th scope=col>time</th><th scope=col>outcome.predicted</th></tr></thead>\n",
       "<tbody>\n",
       "\t<tr><td>151         </td><td>0.8086675865</td></tr>\n",
       "\t<tr><td>152         </td><td>0.6493803288</td></tr>\n",
       "</tbody>\n",
       "</table>\n"
      ],
      "text/latex": [
       "\\begin{tabular}{r|ll}\n",
       " time & outcome.predicted\\\\\n",
       "\\hline\n",
       "\t 151          & 0.8086675865\\\\\n",
       "\t 152          & 0.6493803288\\\\\n",
       "\\end{tabular}\n"
      ],
      "text/markdown": [
       "\n",
       "| time | outcome.predicted |\n",
       "|---|---|\n",
       "| 151          | 0.8086675865 |\n",
       "| 152          | 0.6493803288 |\n",
       "\n"
      ],
      "text/plain": [
       "  time outcome.predicted\n",
       "1 151  0.8086675865     \n",
       "2 152  0.6493803288     "
      ]
     },
     "metadata": {},
     "output_type": "display_data"
    }
   ],
   "source": []
  },
  {
   "cell_type": "markdown",
   "metadata": {},
   "source": [
    "Show the training data, testing data, predicted outcomes by direct approach, and predicted outcomes by recursive approach as a line chart."
   ]
  },
  {
   "cell_type": "code",
   "execution_count": 20,
   "metadata": {},
   "outputs": [
    {
     "data": {
      "image/png": "[encoded data removed]",
      "text/plain": [
       "plot without title"
      ]
     },
     "metadata": {},
     "output_type": "display_data"
    }
   ],
   "source": []
  },
  {
   "cell_type": "markdown",
   "metadata": {},
   "source": [
    "<font size=1;>\n",
    "<p style=\"text-align: left;\">\n",
    "Copyright (c) Berkeley Data Analytics Group, LLC\n",
    "<span style=\"float: right;\">\n",
    "document revised May 6, 2019\n",
    "</span>\n",
    "</p>\n",
    "</font>"
   ]
  }
 ],
 "metadata": {
  "hide_code_all_hidden": false,
  "hide_input": false,
  "kernelspec": {
   "display_name": "R",
   "language": "R",
   "name": "ir"
  },
  "language_info": {
   "codemirror_mode": "r",
   "file_extension": ".r",
   "mimetype": "text/x-r-source",
   "name": "R",
   "pygments_lexer": "r",
   "version": "3.5.3"
  },
  "toc": {
   "base_numbering": 1,
   "nav_menu": {},
   "number_sections": false,
   "sideBar": true,
   "skip_h1_title": true,
   "title_cell": "Table of Contents",
   "title_sidebar": "Contents",
   "toc_cell": false,
   "toc_position": {},
   "toc_section_display": true,
   "toc_window_display": true
  }
 },
 "nbformat": 4,
 "nbformat_minor": 2
}
