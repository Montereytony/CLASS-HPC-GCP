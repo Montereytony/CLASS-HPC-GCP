{
 "cells": [
  {
   "cell_type": "markdown",
   "metadata": {},
   "source": [
    "<font size=2;>\n",
    "<p style=\"text-align: right;\">\n",
    "Lab Solution\n",
    "</p>\n",
    "</font>"
   ]
  },
  {
   "cell_type": "markdown",
   "metadata": {
    "hideCode": false,
    "hidePrompt": false
   },
   "source": [
    "# Multinomial Classification"
   ]
  },
  {
   "cell_type": "markdown",
   "metadata": {},
   "source": [
    "**Write and execute R code in the code cells per the instructions.  The expected results are provided for you directly following the code cells.**"
   ]
  },
  {
   "cell_type": "code",
   "execution_count": 1,
   "metadata": {},
   "outputs": [
    {
     "data": {
      "text/html": [
       "<p style=\"text-align:center; font-size:10px;\">\n",
       ".................................................... start of document ....................................................\n",
       "</p>"
      ]
     },
     "metadata": {},
     "output_type": "display_data"
    }
   ],
   "source": [
    "f = \"setup.R\"; for (i in 1:10) { if (file.exists(f)) break else f = paste0(\"../\", f) }; source(f)"
   ]
  },
  {
   "cell_type": "markdown",
   "metadata": {},
   "source": [
    "## Data & New Observation"
   ]
  },
  {
   "cell_type": "code",
   "execution_count": 2,
   "metadata": {},
   "outputs": [
    {
     "data": {
      "image/png": "[encoded data removed]",
      "text/plain": [
       "plot without title"
      ]
     },
     "metadata": {},
     "output_type": "display_data"
    }
   ],
   "source": [
    "data = data.frame(x1=c(3,1,2,3,2,1,2,3,4,4,5,5), x2=c(2,5,4,3,2,1,2,3,3,2,3,2), class=c(\"C\",\"A\",\"B\",\"C\",\"A\",\"A\",\"C\",\"A\",\"B\",\"D\",\"D\",\"D\"))\n",
    "new = data.frame(x1=2, x2=3)\n",
    "\n",
    "ggplot(data) +\n",
    "geom_point(aes(x=x1, y=x2, color=class)) + geom_point(aes(x=x1, y=x2), data=new, color=NEW_COLOR) +\n",
    "scale_color_manual(values=PALETTE)"
   ]
  },
  {
   "cell_type": "markdown",
   "metadata": {},
   "source": [
    "## Problem 1\n",
    "\n",
    "Build a multi-class naive bayes model based on `data` to predict class given x1 and x2.  Show the model details (note, conditional probabilities are expressed as gasussian means and standard deviations).  Show the probabilities resulting from the model applied to `data`.\n",
    "\n",
    "Use the model to predict `new`'s class.  Show the probabilities resulting from the model applied to `new`.    \n",
    "\n",
    "You may want to use these function(s):\n",
    "* naivebayes()\n",
    "* predict()\n",
    "* pick()"
   ]
  },
  {
   "cell_type": "code",
   "execution_count": 3,
   "metadata": {},
   "outputs": [
    {
     "data": {
      "text/plain": [
       "\n",
       "Naive Bayes Classifier for Discrete Predictors\n",
       "\n",
       "Call:\n",
       "naiveBayes.default(x = X, y = Y, laplace = laplace)\n",
       "\n",
       "A-priori probabilities:\n",
       "Y\n",
       "        A         B         C         D \n",
       "0.3333333 0.1666667 0.2500000 0.2500000 \n",
       "\n",
       "Conditional probabilities:\n",
       "   x1\n",
       "Y       [,1]      [,2]\n",
       "  A 1.750000 0.9574271\n",
       "  B 3.000000 1.4142136\n",
       "  C 2.666667 0.5773503\n",
       "  D 4.666667 0.5773503\n",
       "\n",
       "   x2\n",
       "Y       [,1]      [,2]\n",
       "  A 2.750000 1.7078251\n",
       "  B 3.500000 0.7071068\n",
       "  C 2.333333 0.5773503\n",
       "  D 2.333333 0.5773503\n"
      ]
     },
     "metadata": {},
     "output_type": "display_data"
    }
   ],
   "source": []
  },
  {
   "cell_type": "code",
   "execution_count": 4,
   "metadata": {},
   "outputs": [
    {
     "data": {
      "text/html": [
       "<table>\n",
       "<thead><tr><th scope=col>A</th><th scope=col>B</th><th scope=col>C</th><th scope=col>D</th></tr></thead>\n",
       "<tbody>\n",
       "\t<tr><td>0.122629812          </td><td>0.027287788          </td><td>0.834792639006       </td><td>0.0152897605230135712</td></tr>\n",
       "\t<tr><td>0.906930129          </td><td>0.093065968          </td><td>0.000003903244       </td><td>0.0000000000004392522</td></tr>\n",
       "\t<tr><td>0.584701251          </td><td>0.392139218          </td><td>0.023158479250       </td><td>0.0000010513933313669</td></tr>\n",
       "\t<tr><td>0.157027291          </td><td>0.236979696          </td><td>0.595093495955       </td><td>0.0108995175769394659</td></tr>\n",
       "\t<tr><td>0.345022701          </td><td>0.026382411          </td><td>0.628566351826       </td><td>0.0000285368682239497</td></tr>\n",
       "\t<tr><td>0.989668349          </td><td>0.001320164          </td><td>0.009011485841       </td><td>0.0000000010141091336</td></tr>\n",
       "\t<tr><td>0.345022701          </td><td>0.026382411          </td><td>0.628566351826       </td><td>0.0000285368682239497</td></tr>\n",
       "\t<tr><td>0.157027291          </td><td>0.236979696          </td><td>0.595093495955       </td><td>0.0108995175769394659</td></tr>\n",
       "\t<tr><td>0.037682785          </td><td>0.298822307          </td><td>0.079090531842       </td><td>0.5844043766715687482</td></tr>\n",
       "\t<tr><td>0.029588505          </td><td>0.034596273          </td><td>0.111551908946       </td><td>0.8242633131472791863</td></tr>\n",
       "\t<tr><td>0.001694969          </td><td>0.127524722          </td><td>0.000292016290       </td><td>0.8704882923335378608</td></tr>\n",
       "\t<tr><td>0.001069612          </td><td>0.011865750          </td><td>0.000331012255       </td><td>0.9867336261898009830</td></tr>\n",
       "</tbody>\n",
       "</table>\n"
      ],
      "text/latex": [
       "\\begin{tabular}{llll}\n",
       " A & B & C & D\\\\\n",
       "\\hline\n",
       "\t 0.122629812           & 0.027287788           & 0.834792639006        & 0.0152897605230135712\\\\\n",
       "\t 0.906930129           & 0.093065968           & 0.000003903244        & 0.0000000000004392522\\\\\n",
       "\t 0.584701251           & 0.392139218           & 0.023158479250        & 0.0000010513933313669\\\\\n",
       "\t 0.157027291           & 0.236979696           & 0.595093495955        & 0.0108995175769394659\\\\\n",
       "\t 0.345022701           & 0.026382411           & 0.628566351826        & 0.0000285368682239497\\\\\n",
       "\t 0.989668349           & 0.001320164           & 0.009011485841        & 0.0000000010141091336\\\\\n",
       "\t 0.345022701           & 0.026382411           & 0.628566351826        & 0.0000285368682239497\\\\\n",
       "\t 0.157027291           & 0.236979696           & 0.595093495955        & 0.0108995175769394659\\\\\n",
       "\t 0.037682785           & 0.298822307           & 0.079090531842        & 0.5844043766715687482\\\\\n",
       "\t 0.029588505           & 0.034596273           & 0.111551908946        & 0.8242633131472791863\\\\\n",
       "\t 0.001694969           & 0.127524722           & 0.000292016290        & 0.8704882923335378608\\\\\n",
       "\t 0.001069612           & 0.011865750           & 0.000331012255        & 0.9867336261898009830\\\\\n",
       "\\end{tabular}\n"
      ],
      "text/markdown": [
       "\n",
       "| A | B | C | D |\n",
       "|---|---|---|---|\n",
       "| 0.122629812           | 0.027287788           | 0.834792639006        | 0.0152897605230135712 |\n",
       "| 0.906930129           | 0.093065968           | 0.000003903244        | 0.0000000000004392522 |\n",
       "| 0.584701251           | 0.392139218           | 0.023158479250        | 0.0000010513933313669 |\n",
       "| 0.157027291           | 0.236979696           | 0.595093495955        | 0.0108995175769394659 |\n",
       "| 0.345022701           | 0.026382411           | 0.628566351826        | 0.0000285368682239497 |\n",
       "| 0.989668349           | 0.001320164           | 0.009011485841        | 0.0000000010141091336 |\n",
       "| 0.345022701           | 0.026382411           | 0.628566351826        | 0.0000285368682239497 |\n",
       "| 0.157027291           | 0.236979696           | 0.595093495955        | 0.0108995175769394659 |\n",
       "| 0.037682785           | 0.298822307           | 0.079090531842        | 0.5844043766715687482 |\n",
       "| 0.029588505           | 0.034596273           | 0.111551908946        | 0.8242633131472791863 |\n",
       "| 0.001694969           | 0.127524722           | 0.000292016290        | 0.8704882923335378608 |\n",
       "| 0.001069612           | 0.011865750           | 0.000331012255        | 0.9867336261898009830 |\n",
       "\n"
      ],
      "text/plain": [
       "      A           B           C              D                    \n",
       " [1,] 0.122629812 0.027287788 0.834792639006 0.0152897605230135712\n",
       " [2,] 0.906930129 0.093065968 0.000003903244 0.0000000000004392522\n",
       " [3,] 0.584701251 0.392139218 0.023158479250 0.0000010513933313669\n",
       " [4,] 0.157027291 0.236979696 0.595093495955 0.0108995175769394659\n",
       " [5,] 0.345022701 0.026382411 0.628566351826 0.0000285368682239497\n",
       " [6,] 0.989668349 0.001320164 0.009011485841 0.0000000010141091336\n",
       " [7,] 0.345022701 0.026382411 0.628566351826 0.0000285368682239497\n",
       " [8,] 0.157027291 0.236979696 0.595093495955 0.0108995175769394659\n",
       " [9,] 0.037682785 0.298822307 0.079090531842 0.5844043766715687482\n",
       "[10,] 0.029588505 0.034596273 0.111551908946 0.8242633131472791863\n",
       "[11,] 0.001694969 0.127524722 0.000292016290 0.8704882923335378608\n",
       "[12,] 0.001069612 0.011865750 0.000331012255 0.9867336261898009830"
      ]
     },
     "metadata": {},
     "output_type": "display_data"
    }
   ],
   "source": []
  },
  {
   "cell_type": "code",
   "execution_count": 5,
   "metadata": {},
   "outputs": [
    {
     "data": {
      "text/html": [
       "<table>\n",
       "<thead><tr><th scope=col>A</th><th scope=col>B</th><th scope=col>C</th><th scope=col>D</th></tr></thead>\n",
       "<tbody>\n",
       "\t<tr><td>0.3948105   </td><td>0.2047478   </td><td>0.4004236   </td><td>0.0000181792</td></tr>\n",
       "</tbody>\n",
       "</table>\n"
      ],
      "text/latex": [
       "\\begin{tabular}{llll}\n",
       " A & B & C & D\\\\\n",
       "\\hline\n",
       "\t 0.3948105    & 0.2047478    & 0.4004236    & 0.0000181792\\\\\n",
       "\\end{tabular}\n"
      ],
      "text/markdown": [
       "\n",
       "| A | B | C | D |\n",
       "|---|---|---|---|\n",
       "| 0.3948105    | 0.2047478    | 0.4004236    | 0.0000181792 |\n",
       "\n"
      ],
      "text/plain": [
       "     A         B         C         D           \n",
       "[1,] 0.3948105 0.2047478 0.4004236 0.0000181792"
      ]
     },
     "metadata": {},
     "output_type": "display_data"
    }
   ],
   "source": []
  },
  {
   "cell_type": "code",
   "execution_count": 6,
   "metadata": {},
   "outputs": [
    {
     "data": {
      "text/html": [
       "C\n",
       "<details>\n",
       "\t<summary style=display:list-item;cursor:pointer>\n",
       "\t\t<strong>Levels</strong>:\n",
       "\t</summary>\n",
       "\t<ol class=list-inline>\n",
       "\t\t<li>'A'</li>\n",
       "\t\t<li>'B'</li>\n",
       "\t\t<li>'C'</li>\n",
       "\t\t<li>'D'</li>\n",
       "\t</ol>\n",
       "</details>"
      ],
      "text/latex": [
       "C\n",
       "\\emph{Levels}: \\begin{enumerate*}\n",
       "\\item 'A'\n",
       "\\item 'B'\n",
       "\\item 'C'\n",
       "\\item 'D'\n",
       "\\end{enumerate*}\n"
      ],
      "text/markdown": [
       "C\n",
       "**Levels**: 1. 'A'\n",
       "2. 'B'\n",
       "3. 'C'\n",
       "4. 'D'\n",
       "\n",
       "\n"
      ],
      "text/plain": [
       "[1] C\n",
       "Levels: A B C D"
      ]
     },
     "metadata": {},
     "output_type": "display_data"
    }
   ],
   "source": []
  },
  {
   "cell_type": "markdown",
   "metadata": {},
   "source": [
    "## Problem 2\n",
    "\n",
    "Build a multi-class neural network model based on `data` to predict class given x1 and x2.  Show the binary-coded dataset derived from `data`.  Show the model details.  Show the probabilities resulting from the model applied to `data`.\n",
    "\n",
    "Use the model to predict `new`'s class.  Show the probabilities resulting from the model applied to `new`.    \n",
    "\n",
    "You may want to use these function(s):\n",
    "* as.binary()\n",
    "* set.seed()\n",
    "* neuralnet()\n",
    "* compute()\n",
    "* pick()\n",
    "\n",
    "Use `neuralnet(..., ..., hidden=4, act.fct=\"logistic\", algorithm=\"rprop+\", rep=1, linear.output=FALSE)` to build the requisite model - preceed with `set.seed(12345)`.  Use `compute(..., ..., rep=1)$net.result` to get the probabilities calculated by the model."
   ]
  },
  {
   "cell_type": "code",
   "execution_count": 7,
   "metadata": {
    "scrolled": false
   },
   "outputs": [
    {
     "data": {
      "text/html": [
       "<table>\n",
       "<thead><tr><th scope=col>x1</th><th scope=col>x2</th><th scope=col>A</th><th scope=col>B</th><th scope=col>C</th><th scope=col>D</th></tr></thead>\n",
       "<tbody>\n",
       "\t<tr><td>3</td><td>2</td><td>0</td><td>0</td><td>1</td><td>0</td></tr>\n",
       "\t<tr><td>1</td><td>5</td><td>1</td><td>0</td><td>0</td><td>0</td></tr>\n",
       "\t<tr><td>2</td><td>4</td><td>0</td><td>1</td><td>0</td><td>0</td></tr>\n",
       "\t<tr><td>3</td><td>3</td><td>0</td><td>0</td><td>1</td><td>0</td></tr>\n",
       "\t<tr><td>2</td><td>2</td><td>1</td><td>0</td><td>0</td><td>0</td></tr>\n",
       "\t<tr><td>1</td><td>1</td><td>1</td><td>0</td><td>0</td><td>0</td></tr>\n",
       "\t<tr><td>2</td><td>2</td><td>0</td><td>0</td><td>1</td><td>0</td></tr>\n",
       "\t<tr><td>3</td><td>3</td><td>1</td><td>0</td><td>0</td><td>0</td></tr>\n",
       "\t<tr><td>4</td><td>3</td><td>0</td><td>1</td><td>0</td><td>0</td></tr>\n",
       "\t<tr><td>4</td><td>2</td><td>0</td><td>0</td><td>0</td><td>1</td></tr>\n",
       "\t<tr><td>5</td><td>3</td><td>0</td><td>0</td><td>0</td><td>1</td></tr>\n",
       "\t<tr><td>5</td><td>2</td><td>0</td><td>0</td><td>0</td><td>1</td></tr>\n",
       "</tbody>\n",
       "</table>\n"
      ],
      "text/latex": [
       "\\begin{tabular}{r|llllll}\n",
       " x1 & x2 & A & B & C & D\\\\\n",
       "\\hline\n",
       "\t 3 & 2 & 0 & 0 & 1 & 0\\\\\n",
       "\t 1 & 5 & 1 & 0 & 0 & 0\\\\\n",
       "\t 2 & 4 & 0 & 1 & 0 & 0\\\\\n",
       "\t 3 & 3 & 0 & 0 & 1 & 0\\\\\n",
       "\t 2 & 2 & 1 & 0 & 0 & 0\\\\\n",
       "\t 1 & 1 & 1 & 0 & 0 & 0\\\\\n",
       "\t 2 & 2 & 0 & 0 & 1 & 0\\\\\n",
       "\t 3 & 3 & 1 & 0 & 0 & 0\\\\\n",
       "\t 4 & 3 & 0 & 1 & 0 & 0\\\\\n",
       "\t 4 & 2 & 0 & 0 & 0 & 1\\\\\n",
       "\t 5 & 3 & 0 & 0 & 0 & 1\\\\\n",
       "\t 5 & 2 & 0 & 0 & 0 & 1\\\\\n",
       "\\end{tabular}\n"
      ],
      "text/markdown": [
       "\n",
       "| x1 | x2 | A | B | C | D |\n",
       "|---|---|---|---|---|---|\n",
       "| 3 | 2 | 0 | 0 | 1 | 0 |\n",
       "| 1 | 5 | 1 | 0 | 0 | 0 |\n",
       "| 2 | 4 | 0 | 1 | 0 | 0 |\n",
       "| 3 | 3 | 0 | 0 | 1 | 0 |\n",
       "| 2 | 2 | 1 | 0 | 0 | 0 |\n",
       "| 1 | 1 | 1 | 0 | 0 | 0 |\n",
       "| 2 | 2 | 0 | 0 | 1 | 0 |\n",
       "| 3 | 3 | 1 | 0 | 0 | 0 |\n",
       "| 4 | 3 | 0 | 1 | 0 | 0 |\n",
       "| 4 | 2 | 0 | 0 | 0 | 1 |\n",
       "| 5 | 3 | 0 | 0 | 0 | 1 |\n",
       "| 5 | 2 | 0 | 0 | 0 | 1 |\n",
       "\n"
      ],
      "text/plain": [
       "   x1 x2 A B C D\n",
       "1  3  2  0 0 1 0\n",
       "2  1  5  1 0 0 0\n",
       "3  2  4  0 1 0 0\n",
       "4  3  3  0 0 1 0\n",
       "5  2  2  1 0 0 0\n",
       "6  1  1  1 0 0 0\n",
       "7  2  2  0 0 1 0\n",
       "8  3  3  1 0 0 0\n",
       "9  4  3  0 1 0 0\n",
       "10 4  2  0 0 0 1\n",
       "11 5  3  0 0 0 1\n",
       "12 5  2  0 0 0 1"
      ]
     },
     "metadata": {},
     "output_type": "display_data"
    }
   ],
   "source": []
  },
  {
   "cell_type": "code",
   "execution_count": 8,
   "metadata": {
    "scrolled": true
   },
   "outputs": [
    {
     "data": {
      "text/plain": [
       "$call\n",
       "neuralnet(formula = A + B + C + D ~ x1 + x2, data = data.nn, \n",
       "    hidden = 4, rep = 1, algorithm = \"rprop+\", act.fct = \"logistic\", \n",
       "    linear.output = FALSE)\n",
       "\n",
       "$response\n",
       "   A B C D\n",
       "1  0 0 1 0\n",
       "2  1 0 0 0\n",
       "3  0 1 0 0\n",
       "4  0 0 1 0\n",
       "5  1 0 0 0\n",
       "6  1 0 0 0\n",
       "7  0 0 1 0\n",
       "8  1 0 0 0\n",
       "9  0 1 0 0\n",
       "10 0 0 0 1\n",
       "11 0 0 0 1\n",
       "12 0 0 0 1\n",
       "\n",
       "$covariate\n",
       "      x1 x2\n",
       " [1,]  3  2\n",
       " [2,]  1  5\n",
       " [3,]  2  4\n",
       " [4,]  3  3\n",
       " [5,]  2  2\n",
       " [6,]  1  1\n",
       " [7,]  2  2\n",
       " [8,]  3  3\n",
       " [9,]  4  3\n",
       "[10,]  4  2\n",
       "[11,]  5  3\n",
       "[12,]  5  2\n",
       "\n",
       "$model.list\n",
       "$model.list$response\n",
       "[1] \"A\" \"B\" \"C\" \"D\"\n",
       "\n",
       "$model.list$variables\n",
       "[1] \"x1\" \"x2\"\n",
       "\n",
       "\n",
       "$err.fct\n",
       "function (x, y) \n",
       "{\n",
       "    1/2 * (y - x)^2\n",
       "}\n",
       "<bytecode: 0x0000000032a6a480>\n",
       "<environment: 0x0000000032a6eb48>\n",
       "attr(,\"type\")\n",
       "[1] \"sse\"\n",
       "\n",
       "$act.fct\n",
       "function (x) \n",
       "{\n",
       "    1/(1 + exp(-x))\n",
       "}\n",
       "<bytecode: 0x0000000032a63908>\n",
       "<environment: 0x0000000032a63010>\n",
       "attr(,\"type\")\n",
       "[1] \"logistic\"\n",
       "\n",
       "$linear.output\n",
       "[1] FALSE\n",
       "\n",
       "$data\n",
       "   x1 x2 A B C D\n",
       "1   3  2 0 0 1 0\n",
       "2   1  5 1 0 0 0\n",
       "3   2  4 0 1 0 0\n",
       "4   3  3 0 0 1 0\n",
       "5   2  2 1 0 0 0\n",
       "6   1  1 1 0 0 0\n",
       "7   2  2 0 0 1 0\n",
       "8   3  3 1 0 0 0\n",
       "9   4  3 0 1 0 0\n",
       "10  4  2 0 0 0 1\n",
       "11  5  3 0 0 0 1\n",
       "12  5  2 0 0 0 1\n",
       "\n",
       "$exclude\n",
       "NULL\n",
       "\n",
       "$net.result\n",
       "$net.result[[1]]\n",
       "               [,1]         [,2]                  [,3]         [,4]\n",
       " [1,] 0.04888874596 3.567475e-10 0.9082869233269880160 9.318985e-12\n",
       " [2,] 0.99952014387 4.182325e-05 0.0000000000001233018 2.928938e-87\n",
       " [3,] 0.02409949988 9.904905e-01 0.0000000000002117553 5.870371e-70\n",
       " [4,] 0.49683013315 2.200213e-02 0.4991813317970960062 5.962544e-27\n",
       " [5,] 0.49646179505 2.938636e-12 0.5019434374359653672 4.973811e-37\n",
       " [6,] 0.99994961483 1.132393e-17 0.0001758387960484553 7.023773e-64\n",
       " [7,] 0.49646179505 2.938636e-12 0.5019434374359653672 4.973811e-37\n",
       " [8,] 0.49683013315 2.200213e-02 0.4991813317970960062 5.962544e-27\n",
       " [9,] 0.04247410541 9.572093e-01 0.0743086413548127434 3.396113e-11\n",
       "[10,] 0.00023085767 8.866034e-09 0.0524916275575551400 1.000000e+00\n",
       "[11,] 0.00021809219 2.831148e-02 0.0026979442405836869 1.000000e+00\n",
       "[12,] 0.00003336715 7.500375e-06 0.0025767428979837259 1.000000e+00\n",
       "\n",
       "\n",
       "$weights\n",
       "$weights[[1]]\n",
       "$weights[[1]][[1]]\n",
       "          [,1]       [,2]       [,3]      [,4]\n",
       "[1,]  1.921891 -70.187401  3.1304773  1.632486\n",
       "[2,] -2.096168  52.903009 -0.9713590 -3.166869\n",
       "[3,]  2.414689  -1.300875 -0.2310584  1.700557\n",
       "\n",
       "$weights[[1]][[2]]\n",
       "            [,1]       [,2]        [,3]       [,4]\n",
       "[1,]   0.4073183  -6.096175  -7.9780852   23.13725\n",
       "[2,]  10.3644470  34.671936   2.4433016  -94.58579\n",
       "[3,] -11.3425157   2.645109  -0.2020789   23.43318\n",
       "[4,]   3.8143665 -90.906115  21.4800419  -28.96861\n",
       "[5,]  -5.9271159  27.894709 -39.9462153 -106.70317\n",
       "\n",
       "\n",
       "\n",
       "$generalized.weights\n",
       "$generalized.weights[[1]]\n",
       "            [,1]       [,2]        [,3]      [,4]      [,5]        [,6]\n",
       " [1,] -5.8524774  5.6032001   3.5238733 25.553761 -4.932787  -0.5858721\n",
       " [2,] -0.7096966 -0.1822740  17.2471212  4.167582 -3.976214  -1.0378601\n",
       " [3,]  0.8991906 -1.1800125  13.0723289  9.819811  7.156338  -7.8133281\n",
       " [4,] -0.9265934  0.4930421  12.2839119 11.827185  1.852736  -4.6565648\n",
       " [5,]  0.8960484 -0.2213848  -0.3046845 18.180868 16.361751 -12.1291888\n",
       " [6,]  2.3610630 -0.4246566 -18.4629007 21.383780 28.650794 -16.9032733\n",
       " [7,]  0.8960484 -0.2213848  -0.3046845 18.180868 16.361751 -12.1291888\n",
       " [8,] -0.9265934  0.4930421  12.2839119 11.827185  1.852736  -4.6565648\n",
       " [9,] -5.2015358  5.2289303  -2.2835913 21.396762 -3.984694   0.3271755\n",
       "[10,] -3.6133864  3.2603820   5.5881984 15.168083 -4.316523  -0.1012750\n",
       "[11,] -3.9011572  4.1089108  -5.5126484 15.551538 -2.405855   0.6045462\n",
       "[12,] -0.8327518  0.4928077   6.3377664  3.821196 -2.005733  -0.3161636\n",
       "           [,7]       [,8]\n",
       " [1,]  57.72696 -54.535753\n",
       " [2,]   5.84144   1.141673\n",
       " [3,]  39.85497 -16.119432\n",
       " [4,]  35.46004 -20.039132\n",
       " [5,]  76.26868 -44.292011\n",
       " [6,] 104.25252 -64.164236\n",
       " [7,]  76.26868 -44.292011\n",
       " [8,]  35.46004 -20.039132\n",
       " [9,]  47.93703 -48.647795\n",
       "[10,]  32.22172 -30.124249\n",
       "[11,]  35.23306 -37.629637\n",
       "[12,]       NaN        NaN\n",
       "\n",
       "\n",
       "$startweights\n",
       "$startweights[[1]]\n",
       "$startweights[[1]][[1]]\n",
       "           [,1]       [,2]       [,3]       [,4]\n",
       "[1,]  0.5855288 -0.4534972  0.6300986 -0.9193220\n",
       "[2,]  0.7094660  0.6058875 -0.2761841 -0.1162478\n",
       "[3,] -0.1093033 -1.8179560 -0.2841597  1.8173120\n",
       "\n",
       "$startweights[[1]][[2]]\n",
       "           [,1]       [,2]       [,3]       [,4]\n",
       "[1,]  0.3706279 -0.3315776 -0.6443284  0.6203798\n",
       "[2,]  0.5202165  1.1207127 -1.5531374  0.6121235\n",
       "[3,] -0.7505320  0.2987237 -1.5977095 -0.1623110\n",
       "[4,]  0.8168998  0.7796219  1.8050975  0.8118732\n",
       "[5,] -0.8863575  1.4557851 -0.4816474  2.1968335\n",
       "\n",
       "\n",
       "\n",
       "$result.matrix\n",
       "                               [,1]\n",
       "error                    1.01261145\n",
       "reached.threshold        0.00941037\n",
       "steps                 1090.00000000\n",
       "Intercept.to.1layhid1    1.92189076\n",
       "x1.to.1layhid1          -2.09616752\n",
       "x2.to.1layhid1           2.41468902\n",
       "Intercept.to.1layhid2  -70.18740068\n",
       "x1.to.1layhid2          52.90300915\n",
       "x2.to.1layhid2          -1.30087452\n",
       "Intercept.to.1layhid3    3.13047729\n",
       "x1.to.1layhid3          -0.97135899\n",
       "x2.to.1layhid3          -0.23105842\n",
       "Intercept.to.1layhid4    1.63248602\n",
       "x1.to.1layhid4          -3.16686857\n",
       "x2.to.1layhid4           1.70055660\n",
       "Intercept.to.A           0.40731826\n",
       "1layhid1.to.A           10.36444696\n",
       "1layhid2.to.A          -11.34251574\n",
       "1layhid3.to.A            3.81436649\n",
       "1layhid4.to.A           -5.92711589\n",
       "Intercept.to.B          -6.09617550\n",
       "1layhid1.to.B           34.67193597\n",
       "1layhid2.to.B            2.64510941\n",
       "1layhid3.to.B          -90.90611519\n",
       "1layhid4.to.B           27.89470870\n",
       "Intercept.to.C          -7.97808520\n",
       "1layhid1.to.C            2.44330158\n",
       "1layhid2.to.C           -0.20207895\n",
       "1layhid3.to.C           21.48004187\n",
       "1layhid4.to.C          -39.94621529\n",
       "Intercept.to.D          23.13724529\n",
       "1layhid1.to.D          -94.58578780\n",
       "1layhid2.to.D           23.43317709\n",
       "1layhid3.to.D          -28.96861435\n",
       "1layhid4.to.D         -106.70316645\n",
       "\n",
       "attr(,\"class\")\n",
       "[1] \"nn\""
      ]
     },
     "metadata": {},
     "output_type": "display_data"
    }
   ],
   "source": []
  },
  {
   "cell_type": "code",
   "execution_count": 9,
   "metadata": {},
   "outputs": [
    {
     "data": {
      "text/html": [
       "<table>\n",
       "<thead><tr><th scope=col>A</th><th scope=col>B</th><th scope=col>C</th><th scope=col>D</th></tr></thead>\n",
       "<tbody>\n",
       "\t<tr><td>0.04888874596        </td><td>3.567475e-10         </td><td>0.9082869233269880160</td><td>9.318985e-12         </td></tr>\n",
       "\t<tr><td>0.99952014387        </td><td>4.182325e-05         </td><td>0.0000000000001233018</td><td>2.928938e-87         </td></tr>\n",
       "\t<tr><td>0.02409949988        </td><td>9.904905e-01         </td><td>0.0000000000002117553</td><td>5.870371e-70         </td></tr>\n",
       "\t<tr><td>0.49683013315        </td><td>2.200213e-02         </td><td>0.4991813317970960062</td><td>5.962544e-27         </td></tr>\n",
       "\t<tr><td>0.49646179505        </td><td>2.938636e-12         </td><td>0.5019434374359653672</td><td>4.973811e-37         </td></tr>\n",
       "\t<tr><td>0.99994961483        </td><td>1.132393e-17         </td><td>0.0001758387960484553</td><td>7.023773e-64         </td></tr>\n",
       "\t<tr><td>0.49646179505        </td><td>2.938636e-12         </td><td>0.5019434374359653672</td><td>4.973811e-37         </td></tr>\n",
       "\t<tr><td>0.49683013315        </td><td>2.200213e-02         </td><td>0.4991813317970960062</td><td>5.962544e-27         </td></tr>\n",
       "\t<tr><td>0.04247410541        </td><td>9.572093e-01         </td><td>0.0743086413548127434</td><td>3.396113e-11         </td></tr>\n",
       "\t<tr><td>0.00023085767        </td><td>8.866034e-09         </td><td>0.0524916275575551400</td><td>1.000000e+00         </td></tr>\n",
       "\t<tr><td>0.00021809219        </td><td>2.831148e-02         </td><td>0.0026979442405836869</td><td>1.000000e+00         </td></tr>\n",
       "\t<tr><td>0.00003336715        </td><td>7.500375e-06         </td><td>0.0025767428979837259</td><td>1.000000e+00         </td></tr>\n",
       "</tbody>\n",
       "</table>\n"
      ],
      "text/latex": [
       "\\begin{tabular}{r|llll}\n",
       " A & B & C & D\\\\\n",
       "\\hline\n",
       "\t 0.04888874596         & 3.567475e-10          & 0.9082869233269880160 & 9.318985e-12         \\\\\n",
       "\t 0.99952014387         & 4.182325e-05          & 0.0000000000001233018 & 2.928938e-87         \\\\\n",
       "\t 0.02409949988         & 9.904905e-01          & 0.0000000000002117553 & 5.870371e-70         \\\\\n",
       "\t 0.49683013315         & 2.200213e-02          & 0.4991813317970960062 & 5.962544e-27         \\\\\n",
       "\t 0.49646179505         & 2.938636e-12          & 0.5019434374359653672 & 4.973811e-37         \\\\\n",
       "\t 0.99994961483         & 1.132393e-17          & 0.0001758387960484553 & 7.023773e-64         \\\\\n",
       "\t 0.49646179505         & 2.938636e-12          & 0.5019434374359653672 & 4.973811e-37         \\\\\n",
       "\t 0.49683013315         & 2.200213e-02          & 0.4991813317970960062 & 5.962544e-27         \\\\\n",
       "\t 0.04247410541         & 9.572093e-01          & 0.0743086413548127434 & 3.396113e-11         \\\\\n",
       "\t 0.00023085767         & 8.866034e-09          & 0.0524916275575551400 & 1.000000e+00         \\\\\n",
       "\t 0.00021809219         & 2.831148e-02          & 0.0026979442405836869 & 1.000000e+00         \\\\\n",
       "\t 0.00003336715         & 7.500375e-06          & 0.0025767428979837259 & 1.000000e+00         \\\\\n",
       "\\end{tabular}\n"
      ],
      "text/markdown": [
       "\n",
       "| A | B | C | D |\n",
       "|---|---|---|---|\n",
       "| 0.04888874596         | 3.567475e-10          | 0.9082869233269880160 | 9.318985e-12          |\n",
       "| 0.99952014387         | 4.182325e-05          | 0.0000000000001233018 | 2.928938e-87          |\n",
       "| 0.02409949988         | 9.904905e-01          | 0.0000000000002117553 | 5.870371e-70          |\n",
       "| 0.49683013315         | 2.200213e-02          | 0.4991813317970960062 | 5.962544e-27          |\n",
       "| 0.49646179505         | 2.938636e-12          | 0.5019434374359653672 | 4.973811e-37          |\n",
       "| 0.99994961483         | 1.132393e-17          | 0.0001758387960484553 | 7.023773e-64          |\n",
       "| 0.49646179505         | 2.938636e-12          | 0.5019434374359653672 | 4.973811e-37          |\n",
       "| 0.49683013315         | 2.200213e-02          | 0.4991813317970960062 | 5.962544e-27          |\n",
       "| 0.04247410541         | 9.572093e-01          | 0.0743086413548127434 | 3.396113e-11          |\n",
       "| 0.00023085767         | 8.866034e-09          | 0.0524916275575551400 | 1.000000e+00          |\n",
       "| 0.00021809219         | 2.831148e-02          | 0.0026979442405836869 | 1.000000e+00          |\n",
       "| 0.00003336715         | 7.500375e-06          | 0.0025767428979837259 | 1.000000e+00          |\n",
       "\n"
      ],
      "text/plain": [
       "   A             B            C                     D           \n",
       "1  0.04888874596 3.567475e-10 0.9082869233269880160 9.318985e-12\n",
       "2  0.99952014387 4.182325e-05 0.0000000000001233018 2.928938e-87\n",
       "3  0.02409949988 9.904905e-01 0.0000000000002117553 5.870371e-70\n",
       "4  0.49683013315 2.200213e-02 0.4991813317970960062 5.962544e-27\n",
       "5  0.49646179505 2.938636e-12 0.5019434374359653672 4.973811e-37\n",
       "6  0.99994961483 1.132393e-17 0.0001758387960484553 7.023773e-64\n",
       "7  0.49646179505 2.938636e-12 0.5019434374359653672 4.973811e-37\n",
       "8  0.49683013315 2.200213e-02 0.4991813317970960062 5.962544e-27\n",
       "9  0.04247410541 9.572093e-01 0.0743086413548127434 3.396113e-11\n",
       "10 0.00023085767 8.866034e-09 0.0524916275575551400 1.000000e+00\n",
       "11 0.00021809219 2.831148e-02 0.0026979442405836869 1.000000e+00\n",
       "12 0.00003336715 7.500375e-06 0.0025767428979837259 1.000000e+00"
      ]
     },
     "metadata": {},
     "output_type": "display_data"
    }
   ],
   "source": []
  },
  {
   "cell_type": "code",
   "execution_count": 10,
   "metadata": {},
   "outputs": [
    {
     "data": {
      "text/html": [
       "<table>\n",
       "<thead><tr><th scope=col>A</th><th scope=col>B</th><th scope=col>C</th><th scope=col>D</th></tr></thead>\n",
       "<tbody>\n",
       "\t<tr><td>0.13924         </td><td>0.0001531559    </td><td>0.00000008091404</td><td>7.347392e-57    </td></tr>\n",
       "</tbody>\n",
       "</table>\n"
      ],
      "text/latex": [
       "\\begin{tabular}{r|llll}\n",
       " A & B & C & D\\\\\n",
       "\\hline\n",
       "\t 0.13924          & 0.0001531559     & 0.00000008091404 & 7.347392e-57    \\\\\n",
       "\\end{tabular}\n"
      ],
      "text/markdown": [
       "\n",
       "| A | B | C | D |\n",
       "|---|---|---|---|\n",
       "| 0.13924          | 0.0001531559     | 0.00000008091404 | 7.347392e-57     |\n",
       "\n"
      ],
      "text/plain": [
       "  A       B            C                D           \n",
       "1 0.13924 0.0001531559 0.00000008091404 7.347392e-57"
      ]
     },
     "metadata": {},
     "output_type": "display_data"
    },
    {
     "data": {
      "text/html": [
       "A\n",
       "<details>\n",
       "\t<summary style=display:list-item;cursor:pointer>\n",
       "\t\t<strong>Levels</strong>:\n",
       "\t</summary>\n",
       "\t<ol class=list-inline>\n",
       "\t\t<li>'A'</li>\n",
       "\t\t<li>'B'</li>\n",
       "\t\t<li>'C'</li>\n",
       "\t\t<li>'D'</li>\n",
       "\t</ol>\n",
       "</details>"
      ],
      "text/latex": [
       "A\n",
       "\\emph{Levels}: \\begin{enumerate*}\n",
       "\\item 'A'\n",
       "\\item 'B'\n",
       "\\item 'C'\n",
       "\\item 'D'\n",
       "\\end{enumerate*}\n"
      ],
      "text/markdown": [
       "A\n",
       "**Levels**: 1. 'A'\n",
       "2. 'B'\n",
       "3. 'C'\n",
       "4. 'D'\n",
       "\n",
       "\n"
      ],
      "text/plain": [
       "[1] A\n",
       "Levels: A B C D"
      ]
     },
     "metadata": {},
     "output_type": "display_data"
    }
   ],
   "source": []
  },
  {
   "cell_type": "markdown",
   "metadata": {},
   "source": [
    "## Problem 3\n",
    "\n",
    "Build a multi-class support vector machine model based on `data` to predict class given x1 and x2, using the one vs. many approach.  Show the one vs. many datasets derived from `data`.  \n",
    "\n",
    "Use the model to predict `new`'s class.  Show the probabilities resulting from each one vs. many model.  Show the probabilities for class values organized into one data frame.    \n",
    "\n",
    "You may want to use these function(s):\n",
    "* factor()\n",
    "* set.seed()\n",
    "* svm()\n",
    "* as.data.frame()\n",
    "* attr()\n",
    "* predict()\n",
    "* pick()\n",
    "\n",
    "Use `svm(..., ..., type=\"C-classification\", kernel=\"polynomial\", degree=3, coef0=0, gamma=0.25, cost=10, scale=FALSE, probability=TRUE)` to build the requisite models - preceed each use of `svm` with `set.seed(12345)`.  Use `as.data.frame(attr(predict(..., ..., probability=TRUE), \"probabilities\"))` to get the probabilities calculated by the models."
   ]
  },
  {
   "cell_type": "code",
   "execution_count": 11,
   "metadata": {
    "scrolled": false
   },
   "outputs": [
    {
     "data": {
      "text/html": [
       "<table>\n",
       "<thead><tr><th scope=col>x1</th><th scope=col>x2</th><th scope=col>class</th></tr></thead>\n",
       "<tbody>\n",
       "\t<tr><td>3    </td><td>2    </td><td>other</td></tr>\n",
       "\t<tr><td>1    </td><td>5    </td><td>A    </td></tr>\n",
       "\t<tr><td>2    </td><td>4    </td><td>other</td></tr>\n",
       "\t<tr><td>3    </td><td>3    </td><td>other</td></tr>\n",
       "\t<tr><td>2    </td><td>2    </td><td>A    </td></tr>\n",
       "\t<tr><td>1    </td><td>1    </td><td>A    </td></tr>\n",
       "\t<tr><td>2    </td><td>2    </td><td>other</td></tr>\n",
       "\t<tr><td>3    </td><td>3    </td><td>A    </td></tr>\n",
       "\t<tr><td>4    </td><td>3    </td><td>other</td></tr>\n",
       "\t<tr><td>4    </td><td>2    </td><td>other</td></tr>\n",
       "\t<tr><td>5    </td><td>3    </td><td>other</td></tr>\n",
       "\t<tr><td>5    </td><td>2    </td><td>other</td></tr>\n",
       "</tbody>\n",
       "</table>\n"
      ],
      "text/latex": [
       "\\begin{tabular}{r|lll}\n",
       " x1 & x2 & class\\\\\n",
       "\\hline\n",
       "\t 3     & 2     & other\\\\\n",
       "\t 1     & 5     & A    \\\\\n",
       "\t 2     & 4     & other\\\\\n",
       "\t 3     & 3     & other\\\\\n",
       "\t 2     & 2     & A    \\\\\n",
       "\t 1     & 1     & A    \\\\\n",
       "\t 2     & 2     & other\\\\\n",
       "\t 3     & 3     & A    \\\\\n",
       "\t 4     & 3     & other\\\\\n",
       "\t 4     & 2     & other\\\\\n",
       "\t 5     & 3     & other\\\\\n",
       "\t 5     & 2     & other\\\\\n",
       "\\end{tabular}\n"
      ],
      "text/markdown": [
       "\n",
       "| x1 | x2 | class |\n",
       "|---|---|---|\n",
       "| 3     | 2     | other |\n",
       "| 1     | 5     | A     |\n",
       "| 2     | 4     | other |\n",
       "| 3     | 3     | other |\n",
       "| 2     | 2     | A     |\n",
       "| 1     | 1     | A     |\n",
       "| 2     | 2     | other |\n",
       "| 3     | 3     | A     |\n",
       "| 4     | 3     | other |\n",
       "| 4     | 2     | other |\n",
       "| 5     | 3     | other |\n",
       "| 5     | 2     | other |\n",
       "\n"
      ],
      "text/plain": [
       "   x1 x2 class\n",
       "1  3  2  other\n",
       "2  1  5  A    \n",
       "3  2  4  other\n",
       "4  3  3  other\n",
       "5  2  2  A    \n",
       "6  1  1  A    \n",
       "7  2  2  other\n",
       "8  3  3  A    \n",
       "9  4  3  other\n",
       "10 4  2  other\n",
       "11 5  3  other\n",
       "12 5  2  other"
      ]
     },
     "metadata": {},
     "output_type": "display_data"
    }
   ],
   "source": []
  },
  {
   "cell_type": "code",
   "execution_count": 12,
   "metadata": {
    "scrolled": false
   },
   "outputs": [
    {
     "data": {
      "text/html": [
       "<table>\n",
       "<thead><tr><th scope=col>x1</th><th scope=col>x2</th><th scope=col>class</th></tr></thead>\n",
       "<tbody>\n",
       "\t<tr><td>3    </td><td>2    </td><td>other</td></tr>\n",
       "\t<tr><td>1    </td><td>5    </td><td>other</td></tr>\n",
       "\t<tr><td>2    </td><td>4    </td><td>B    </td></tr>\n",
       "\t<tr><td>3    </td><td>3    </td><td>other</td></tr>\n",
       "\t<tr><td>2    </td><td>2    </td><td>other</td></tr>\n",
       "\t<tr><td>1    </td><td>1    </td><td>other</td></tr>\n",
       "\t<tr><td>2    </td><td>2    </td><td>other</td></tr>\n",
       "\t<tr><td>3    </td><td>3    </td><td>other</td></tr>\n",
       "\t<tr><td>4    </td><td>3    </td><td>B    </td></tr>\n",
       "\t<tr><td>4    </td><td>2    </td><td>other</td></tr>\n",
       "\t<tr><td>5    </td><td>3    </td><td>other</td></tr>\n",
       "\t<tr><td>5    </td><td>2    </td><td>other</td></tr>\n",
       "</tbody>\n",
       "</table>\n"
      ],
      "text/latex": [
       "\\begin{tabular}{r|lll}\n",
       " x1 & x2 & class\\\\\n",
       "\\hline\n",
       "\t 3     & 2     & other\\\\\n",
       "\t 1     & 5     & other\\\\\n",
       "\t 2     & 4     & B    \\\\\n",
       "\t 3     & 3     & other\\\\\n",
       "\t 2     & 2     & other\\\\\n",
       "\t 1     & 1     & other\\\\\n",
       "\t 2     & 2     & other\\\\\n",
       "\t 3     & 3     & other\\\\\n",
       "\t 4     & 3     & B    \\\\\n",
       "\t 4     & 2     & other\\\\\n",
       "\t 5     & 3     & other\\\\\n",
       "\t 5     & 2     & other\\\\\n",
       "\\end{tabular}\n"
      ],
      "text/markdown": [
       "\n",
       "| x1 | x2 | class |\n",
       "|---|---|---|\n",
       "| 3     | 2     | other |\n",
       "| 1     | 5     | other |\n",
       "| 2     | 4     | B     |\n",
       "| 3     | 3     | other |\n",
       "| 2     | 2     | other |\n",
       "| 1     | 1     | other |\n",
       "| 2     | 2     | other |\n",
       "| 3     | 3     | other |\n",
       "| 4     | 3     | B     |\n",
       "| 4     | 2     | other |\n",
       "| 5     | 3     | other |\n",
       "| 5     | 2     | other |\n",
       "\n"
      ],
      "text/plain": [
       "   x1 x2 class\n",
       "1  3  2  other\n",
       "2  1  5  other\n",
       "3  2  4  B    \n",
       "4  3  3  other\n",
       "5  2  2  other\n",
       "6  1  1  other\n",
       "7  2  2  other\n",
       "8  3  3  other\n",
       "9  4  3  B    \n",
       "10 4  2  other\n",
       "11 5  3  other\n",
       "12 5  2  other"
      ]
     },
     "metadata": {},
     "output_type": "display_data"
    }
   ],
   "source": []
  },
  {
   "cell_type": "code",
   "execution_count": 13,
   "metadata": {
    "scrolled": false
   },
   "outputs": [
    {
     "data": {
      "text/html": [
       "<table>\n",
       "<thead><tr><th scope=col>x1</th><th scope=col>x2</th><th scope=col>class</th></tr></thead>\n",
       "<tbody>\n",
       "\t<tr><td>3    </td><td>2    </td><td>C    </td></tr>\n",
       "\t<tr><td>1    </td><td>5    </td><td>other</td></tr>\n",
       "\t<tr><td>2    </td><td>4    </td><td>other</td></tr>\n",
       "\t<tr><td>3    </td><td>3    </td><td>C    </td></tr>\n",
       "\t<tr><td>2    </td><td>2    </td><td>other</td></tr>\n",
       "\t<tr><td>1    </td><td>1    </td><td>other</td></tr>\n",
       "\t<tr><td>2    </td><td>2    </td><td>C    </td></tr>\n",
       "\t<tr><td>3    </td><td>3    </td><td>other</td></tr>\n",
       "\t<tr><td>4    </td><td>3    </td><td>other</td></tr>\n",
       "\t<tr><td>4    </td><td>2    </td><td>other</td></tr>\n",
       "\t<tr><td>5    </td><td>3    </td><td>other</td></tr>\n",
       "\t<tr><td>5    </td><td>2    </td><td>other</td></tr>\n",
       "</tbody>\n",
       "</table>\n"
      ],
      "text/latex": [
       "\\begin{tabular}{r|lll}\n",
       " x1 & x2 & class\\\\\n",
       "\\hline\n",
       "\t 3     & 2     & C    \\\\\n",
       "\t 1     & 5     & other\\\\\n",
       "\t 2     & 4     & other\\\\\n",
       "\t 3     & 3     & C    \\\\\n",
       "\t 2     & 2     & other\\\\\n",
       "\t 1     & 1     & other\\\\\n",
       "\t 2     & 2     & C    \\\\\n",
       "\t 3     & 3     & other\\\\\n",
       "\t 4     & 3     & other\\\\\n",
       "\t 4     & 2     & other\\\\\n",
       "\t 5     & 3     & other\\\\\n",
       "\t 5     & 2     & other\\\\\n",
       "\\end{tabular}\n"
      ],
      "text/markdown": [
       "\n",
       "| x1 | x2 | class |\n",
       "|---|---|---|\n",
       "| 3     | 2     | C     |\n",
       "| 1     | 5     | other |\n",
       "| 2     | 4     | other |\n",
       "| 3     | 3     | C     |\n",
       "| 2     | 2     | other |\n",
       "| 1     | 1     | other |\n",
       "| 2     | 2     | C     |\n",
       "| 3     | 3     | other |\n",
       "| 4     | 3     | other |\n",
       "| 4     | 2     | other |\n",
       "| 5     | 3     | other |\n",
       "| 5     | 2     | other |\n",
       "\n"
      ],
      "text/plain": [
       "   x1 x2 class\n",
       "1  3  2  C    \n",
       "2  1  5  other\n",
       "3  2  4  other\n",
       "4  3  3  C    \n",
       "5  2  2  other\n",
       "6  1  1  other\n",
       "7  2  2  C    \n",
       "8  3  3  other\n",
       "9  4  3  other\n",
       "10 4  2  other\n",
       "11 5  3  other\n",
       "12 5  2  other"
      ]
     },
     "metadata": {},
     "output_type": "display_data"
    }
   ],
   "source": []
  },
  {
   "cell_type": "code",
   "execution_count": 14,
   "metadata": {
    "scrolled": false
   },
   "outputs": [
    {
     "data": {
      "text/html": [
       "<table>\n",
       "<thead><tr><th scope=col>x1</th><th scope=col>x2</th><th scope=col>class</th></tr></thead>\n",
       "<tbody>\n",
       "\t<tr><td>3    </td><td>2    </td><td>other</td></tr>\n",
       "\t<tr><td>1    </td><td>5    </td><td>other</td></tr>\n",
       "\t<tr><td>2    </td><td>4    </td><td>other</td></tr>\n",
       "\t<tr><td>3    </td><td>3    </td><td>other</td></tr>\n",
       "\t<tr><td>2    </td><td>2    </td><td>other</td></tr>\n",
       "\t<tr><td>1    </td><td>1    </td><td>other</td></tr>\n",
       "\t<tr><td>2    </td><td>2    </td><td>other</td></tr>\n",
       "\t<tr><td>3    </td><td>3    </td><td>other</td></tr>\n",
       "\t<tr><td>4    </td><td>3    </td><td>other</td></tr>\n",
       "\t<tr><td>4    </td><td>2    </td><td>D    </td></tr>\n",
       "\t<tr><td>5    </td><td>3    </td><td>D    </td></tr>\n",
       "\t<tr><td>5    </td><td>2    </td><td>D    </td></tr>\n",
       "</tbody>\n",
       "</table>\n"
      ],
      "text/latex": [
       "\\begin{tabular}{r|lll}\n",
       " x1 & x2 & class\\\\\n",
       "\\hline\n",
       "\t 3     & 2     & other\\\\\n",
       "\t 1     & 5     & other\\\\\n",
       "\t 2     & 4     & other\\\\\n",
       "\t 3     & 3     & other\\\\\n",
       "\t 2     & 2     & other\\\\\n",
       "\t 1     & 1     & other\\\\\n",
       "\t 2     & 2     & other\\\\\n",
       "\t 3     & 3     & other\\\\\n",
       "\t 4     & 3     & other\\\\\n",
       "\t 4     & 2     & D    \\\\\n",
       "\t 5     & 3     & D    \\\\\n",
       "\t 5     & 2     & D    \\\\\n",
       "\\end{tabular}\n"
      ],
      "text/markdown": [
       "\n",
       "| x1 | x2 | class |\n",
       "|---|---|---|\n",
       "| 3     | 2     | other |\n",
       "| 1     | 5     | other |\n",
       "| 2     | 4     | other |\n",
       "| 3     | 3     | other |\n",
       "| 2     | 2     | other |\n",
       "| 1     | 1     | other |\n",
       "| 2     | 2     | other |\n",
       "| 3     | 3     | other |\n",
       "| 4     | 3     | other |\n",
       "| 4     | 2     | D     |\n",
       "| 5     | 3     | D     |\n",
       "| 5     | 2     | D     |\n",
       "\n"
      ],
      "text/plain": [
       "   x1 x2 class\n",
       "1  3  2  other\n",
       "2  1  5  other\n",
       "3  2  4  other\n",
       "4  3  3  other\n",
       "5  2  2  other\n",
       "6  1  1  other\n",
       "7  2  2  other\n",
       "8  3  3  other\n",
       "9  4  3  other\n",
       "10 4  2  D    \n",
       "11 5  3  D    \n",
       "12 5  2  D    "
      ]
     },
     "metadata": {},
     "output_type": "display_data"
    }
   ],
   "source": []
  },
  {
   "cell_type": "code",
   "execution_count": 15,
   "metadata": {},
   "outputs": [],
   "source": []
  },
  {
   "cell_type": "code",
   "execution_count": 16,
   "metadata": {},
   "outputs": [
    {
     "data": {
      "text/html": [
       "<table>\n",
       "<thead><tr><th scope=col>other</th><th scope=col>A</th></tr></thead>\n",
       "<tbody>\n",
       "\t<tr><td>0.5999643</td><td>0.4000357</td></tr>\n",
       "</tbody>\n",
       "</table>\n"
      ],
      "text/latex": [
       "\\begin{tabular}{r|ll}\n",
       " other & A\\\\\n",
       "\\hline\n",
       "\t 0.5999643 & 0.4000357\\\\\n",
       "\\end{tabular}\n"
      ],
      "text/markdown": [
       "\n",
       "| other | A |\n",
       "|---|---|\n",
       "| 0.5999643 | 0.4000357 |\n",
       "\n"
      ],
      "text/plain": [
       "  other     A        \n",
       "1 0.5999643 0.4000357"
      ]
     },
     "metadata": {},
     "output_type": "display_data"
    },
    {
     "data": {
      "text/html": [
       "<table>\n",
       "<thead><tr><th scope=col>other</th><th scope=col>B</th></tr></thead>\n",
       "<tbody>\n",
       "\t<tr><td>0.8095794</td><td>0.1904206</td></tr>\n",
       "</tbody>\n",
       "</table>\n"
      ],
      "text/latex": [
       "\\begin{tabular}{r|ll}\n",
       " other & B\\\\\n",
       "\\hline\n",
       "\t 0.8095794 & 0.1904206\\\\\n",
       "\\end{tabular}\n"
      ],
      "text/markdown": [
       "\n",
       "| other | B |\n",
       "|---|---|\n",
       "| 0.8095794 | 0.1904206 |\n",
       "\n"
      ],
      "text/plain": [
       "  other     B        \n",
       "1 0.8095794 0.1904206"
      ]
     },
     "metadata": {},
     "output_type": "display_data"
    },
    {
     "data": {
      "text/html": [
       "<table>\n",
       "<thead><tr><th scope=col>C</th><th scope=col>other</th></tr></thead>\n",
       "<tbody>\n",
       "\t<tr><td>0.2692713</td><td>0.7307287</td></tr>\n",
       "</tbody>\n",
       "</table>\n"
      ],
      "text/latex": [
       "\\begin{tabular}{r|ll}\n",
       " C & other\\\\\n",
       "\\hline\n",
       "\t 0.2692713 & 0.7307287\\\\\n",
       "\\end{tabular}\n"
      ],
      "text/markdown": [
       "\n",
       "| C | other |\n",
       "|---|---|\n",
       "| 0.2692713 | 0.7307287 |\n",
       "\n"
      ],
      "text/plain": [
       "  C         other    \n",
       "1 0.2692713 0.7307287"
      ]
     },
     "metadata": {},
     "output_type": "display_data"
    },
    {
     "data": {
      "text/html": [
       "<table>\n",
       "<thead><tr><th scope=col>other</th><th scope=col>D</th></tr></thead>\n",
       "<tbody>\n",
       "\t<tr><td>0.9034698 </td><td>0.09653015</td></tr>\n",
       "</tbody>\n",
       "</table>\n"
      ],
      "text/latex": [
       "\\begin{tabular}{r|ll}\n",
       " other & D\\\\\n",
       "\\hline\n",
       "\t 0.9034698  & 0.09653015\\\\\n",
       "\\end{tabular}\n"
      ],
      "text/markdown": [
       "\n",
       "| other | D |\n",
       "|---|---|\n",
       "| 0.9034698  | 0.09653015 |\n",
       "\n"
      ],
      "text/plain": [
       "  other     D         \n",
       "1 0.9034698 0.09653015"
      ]
     },
     "metadata": {},
     "output_type": "display_data"
    }
   ],
   "source": []
  },
  {
   "cell_type": "code",
   "execution_count": 17,
   "metadata": {},
   "outputs": [
    {
     "data": {
      "text/html": [
       "<table>\n",
       "<thead><tr><th scope=col>A</th><th scope=col>B</th><th scope=col>C</th><th scope=col>D</th></tr></thead>\n",
       "<tbody>\n",
       "\t<tr><td>0.4000357 </td><td>0.1904206 </td><td>0.2692713 </td><td>0.09653015</td></tr>\n",
       "</tbody>\n",
       "</table>\n"
      ],
      "text/latex": [
       "\\begin{tabular}{r|llll}\n",
       " A & B & C & D\\\\\n",
       "\\hline\n",
       "\t 0.4000357  & 0.1904206  & 0.2692713  & 0.09653015\\\\\n",
       "\\end{tabular}\n"
      ],
      "text/markdown": [
       "\n",
       "| A | B | C | D |\n",
       "|---|---|---|---|\n",
       "| 0.4000357  | 0.1904206  | 0.2692713  | 0.09653015 |\n",
       "\n"
      ],
      "text/plain": [
       "  A         B         C         D         \n",
       "1 0.4000357 0.1904206 0.2692713 0.09653015"
      ]
     },
     "metadata": {},
     "output_type": "display_data"
    }
   ],
   "source": []
  },
  {
   "cell_type": "code",
   "execution_count": 18,
   "metadata": {},
   "outputs": [
    {
     "data": {
      "text/html": [
       "A\n",
       "<details>\n",
       "\t<summary style=display:list-item;cursor:pointer>\n",
       "\t\t<strong>Levels</strong>:\n",
       "\t</summary>\n",
       "\t<ol class=list-inline>\n",
       "\t\t<li>'A'</li>\n",
       "\t\t<li>'B'</li>\n",
       "\t\t<li>'C'</li>\n",
       "\t\t<li>'D'</li>\n",
       "\t</ol>\n",
       "</details>"
      ],
      "text/latex": [
       "A\n",
       "\\emph{Levels}: \\begin{enumerate*}\n",
       "\\item 'A'\n",
       "\\item 'B'\n",
       "\\item 'C'\n",
       "\\item 'D'\n",
       "\\end{enumerate*}\n"
      ],
      "text/markdown": [
       "A\n",
       "**Levels**: 1. 'A'\n",
       "2. 'B'\n",
       "3. 'C'\n",
       "4. 'D'\n",
       "\n",
       "\n"
      ],
      "text/plain": [
       "[1] A\n",
       "Levels: A B C D"
      ]
     },
     "metadata": {},
     "output_type": "display_data"
    }
   ],
   "source": []
  },
  {
   "cell_type": "markdown",
   "metadata": {},
   "source": [
    "## Problem 4\n",
    "\n",
    "Build a multi-class support vector machine model based on `data` to predict class given x1 and x2, using the one vs. one approach.  Show the one vs. one datasets derived from `data`.  \n",
    "\n",
    "Use the model to predict `new`'s class.  Show the probabilities resulting from each one vs. one model.\n",
    "\n",
    "You may want to use these function(s):\n",
    "* set.seed()\n",
    "* svm()\n",
    "* as.data.frame()\n",
    "* attr()\n",
    "* predict()\n",
    "* round_robin()\n",
    "\n",
    "Use `svm(..., ..., type=\"C-classification\", kernel=\"polynomial\", degree=3, coef0=0, gamma=0.25, cost=10, scale=FALSE, probability=TRUE)` to build the requisite models - preceed each use of `svm` with `set.seed(12345)`.  Use `as.data.frame(attr(predict(..., ..., probability=TRUE), \"probabilities\"))` to get the probabilities calculated by the models."
   ]
  },
  {
   "cell_type": "code",
   "execution_count": 19,
   "metadata": {
    "scrolled": true
   },
   "outputs": [
    {
     "data": {
      "text/html": [
       "<table>\n",
       "<thead><tr><th></th><th scope=col>x1</th><th scope=col>x2</th><th scope=col>class</th></tr></thead>\n",
       "<tbody>\n",
       "\t<tr><th scope=row>2</th><td>1</td><td>5</td><td>A</td></tr>\n",
       "\t<tr><th scope=row>3</th><td>2</td><td>4</td><td>B</td></tr>\n",
       "\t<tr><th scope=row>5</th><td>2</td><td>2</td><td>A</td></tr>\n",
       "\t<tr><th scope=row>6</th><td>1</td><td>1</td><td>A</td></tr>\n",
       "\t<tr><th scope=row>8</th><td>3</td><td>3</td><td>A</td></tr>\n",
       "\t<tr><th scope=row>9</th><td>4</td><td>3</td><td>B</td></tr>\n",
       "</tbody>\n",
       "</table>\n"
      ],
      "text/latex": [
       "\\begin{tabular}{r|lll}\n",
       "  & x1 & x2 & class\\\\\n",
       "\\hline\n",
       "\t2 & 1 & 5 & A\\\\\n",
       "\t3 & 2 & 4 & B\\\\\n",
       "\t5 & 2 & 2 & A\\\\\n",
       "\t6 & 1 & 1 & A\\\\\n",
       "\t8 & 3 & 3 & A\\\\\n",
       "\t9 & 4 & 3 & B\\\\\n",
       "\\end{tabular}\n"
      ],
      "text/markdown": [
       "\n",
       "| <!--/--> | x1 | x2 | class |\n",
       "|---|---|---|---|\n",
       "| 2 | 1 | 5 | A |\n",
       "| 3 | 2 | 4 | B |\n",
       "| 5 | 2 | 2 | A |\n",
       "| 6 | 1 | 1 | A |\n",
       "| 8 | 3 | 3 | A |\n",
       "| 9 | 4 | 3 | B |\n",
       "\n"
      ],
      "text/plain": [
       "  x1 x2 class\n",
       "2 1  5  A    \n",
       "3 2  4  B    \n",
       "5 2  2  A    \n",
       "6 1  1  A    \n",
       "8 3  3  A    \n",
       "9 4  3  B    "
      ]
     },
     "metadata": {},
     "output_type": "display_data"
    }
   ],
   "source": []
  },
  {
   "cell_type": "code",
   "execution_count": 20,
   "metadata": {
    "scrolled": true
   },
   "outputs": [
    {
     "data": {
      "text/html": [
       "<table>\n",
       "<thead><tr><th></th><th scope=col>x1</th><th scope=col>x2</th><th scope=col>class</th></tr></thead>\n",
       "<tbody>\n",
       "\t<tr><th scope=row>1</th><td>3</td><td>2</td><td>C</td></tr>\n",
       "\t<tr><th scope=row>2</th><td>1</td><td>5</td><td>A</td></tr>\n",
       "\t<tr><th scope=row>4</th><td>3</td><td>3</td><td>C</td></tr>\n",
       "\t<tr><th scope=row>5</th><td>2</td><td>2</td><td>A</td></tr>\n",
       "\t<tr><th scope=row>6</th><td>1</td><td>1</td><td>A</td></tr>\n",
       "\t<tr><th scope=row>7</th><td>2</td><td>2</td><td>C</td></tr>\n",
       "\t<tr><th scope=row>8</th><td>3</td><td>3</td><td>A</td></tr>\n",
       "</tbody>\n",
       "</table>\n"
      ],
      "text/latex": [
       "\\begin{tabular}{r|lll}\n",
       "  & x1 & x2 & class\\\\\n",
       "\\hline\n",
       "\t1 & 3 & 2 & C\\\\\n",
       "\t2 & 1 & 5 & A\\\\\n",
       "\t4 & 3 & 3 & C\\\\\n",
       "\t5 & 2 & 2 & A\\\\\n",
       "\t6 & 1 & 1 & A\\\\\n",
       "\t7 & 2 & 2 & C\\\\\n",
       "\t8 & 3 & 3 & A\\\\\n",
       "\\end{tabular}\n"
      ],
      "text/markdown": [
       "\n",
       "| <!--/--> | x1 | x2 | class |\n",
       "|---|---|---|---|\n",
       "| 1 | 3 | 2 | C |\n",
       "| 2 | 1 | 5 | A |\n",
       "| 4 | 3 | 3 | C |\n",
       "| 5 | 2 | 2 | A |\n",
       "| 6 | 1 | 1 | A |\n",
       "| 7 | 2 | 2 | C |\n",
       "| 8 | 3 | 3 | A |\n",
       "\n"
      ],
      "text/plain": [
       "  x1 x2 class\n",
       "1 3  2  C    \n",
       "2 1  5  A    \n",
       "4 3  3  C    \n",
       "5 2  2  A    \n",
       "6 1  1  A    \n",
       "7 2  2  C    \n",
       "8 3  3  A    "
      ]
     },
     "metadata": {},
     "output_type": "display_data"
    }
   ],
   "source": []
  },
  {
   "cell_type": "code",
   "execution_count": 21,
   "metadata": {
    "scrolled": true
   },
   "outputs": [
    {
     "data": {
      "text/html": [
       "<table>\n",
       "<thead><tr><th></th><th scope=col>x1</th><th scope=col>x2</th><th scope=col>class</th></tr></thead>\n",
       "<tbody>\n",
       "\t<tr><th scope=row>2</th><td>1</td><td>5</td><td>A</td></tr>\n",
       "\t<tr><th scope=row>5</th><td>2</td><td>2</td><td>A</td></tr>\n",
       "\t<tr><th scope=row>6</th><td>1</td><td>1</td><td>A</td></tr>\n",
       "\t<tr><th scope=row>8</th><td>3</td><td>3</td><td>A</td></tr>\n",
       "\t<tr><th scope=row>10</th><td>4</td><td>2</td><td>D</td></tr>\n",
       "\t<tr><th scope=row>11</th><td>5</td><td>3</td><td>D</td></tr>\n",
       "\t<tr><th scope=row>12</th><td>5</td><td>2</td><td>D</td></tr>\n",
       "</tbody>\n",
       "</table>\n"
      ],
      "text/latex": [
       "\\begin{tabular}{r|lll}\n",
       "  & x1 & x2 & class\\\\\n",
       "\\hline\n",
       "\t2 & 1 & 5 & A\\\\\n",
       "\t5 & 2 & 2 & A\\\\\n",
       "\t6 & 1 & 1 & A\\\\\n",
       "\t8 & 3 & 3 & A\\\\\n",
       "\t10 & 4 & 2 & D\\\\\n",
       "\t11 & 5 & 3 & D\\\\\n",
       "\t12 & 5 & 2 & D\\\\\n",
       "\\end{tabular}\n"
      ],
      "text/markdown": [
       "\n",
       "| <!--/--> | x1 | x2 | class |\n",
       "|---|---|---|---|\n",
       "| 2 | 1 | 5 | A |\n",
       "| 5 | 2 | 2 | A |\n",
       "| 6 | 1 | 1 | A |\n",
       "| 8 | 3 | 3 | A |\n",
       "| 10 | 4 | 2 | D |\n",
       "| 11 | 5 | 3 | D |\n",
       "| 12 | 5 | 2 | D |\n",
       "\n"
      ],
      "text/plain": [
       "   x1 x2 class\n",
       "2  1  5  A    \n",
       "5  2  2  A    \n",
       "6  1  1  A    \n",
       "8  3  3  A    \n",
       "10 4  2  D    \n",
       "11 5  3  D    \n",
       "12 5  2  D    "
      ]
     },
     "metadata": {},
     "output_type": "display_data"
    }
   ],
   "source": []
  },
  {
   "cell_type": "code",
   "execution_count": 22,
   "metadata": {
    "scrolled": true
   },
   "outputs": [
    {
     "data": {
      "text/html": [
       "<table>\n",
       "<thead><tr><th></th><th scope=col>x1</th><th scope=col>x2</th><th scope=col>class</th></tr></thead>\n",
       "<tbody>\n",
       "\t<tr><th scope=row>1</th><td>3</td><td>2</td><td>C</td></tr>\n",
       "\t<tr><th scope=row>3</th><td>2</td><td>4</td><td>B</td></tr>\n",
       "\t<tr><th scope=row>4</th><td>3</td><td>3</td><td>C</td></tr>\n",
       "\t<tr><th scope=row>7</th><td>2</td><td>2</td><td>C</td></tr>\n",
       "\t<tr><th scope=row>9</th><td>4</td><td>3</td><td>B</td></tr>\n",
       "</tbody>\n",
       "</table>\n"
      ],
      "text/latex": [
       "\\begin{tabular}{r|lll}\n",
       "  & x1 & x2 & class\\\\\n",
       "\\hline\n",
       "\t1 & 3 & 2 & C\\\\\n",
       "\t3 & 2 & 4 & B\\\\\n",
       "\t4 & 3 & 3 & C\\\\\n",
       "\t7 & 2 & 2 & C\\\\\n",
       "\t9 & 4 & 3 & B\\\\\n",
       "\\end{tabular}\n"
      ],
      "text/markdown": [
       "\n",
       "| <!--/--> | x1 | x2 | class |\n",
       "|---|---|---|---|\n",
       "| 1 | 3 | 2 | C |\n",
       "| 3 | 2 | 4 | B |\n",
       "| 4 | 3 | 3 | C |\n",
       "| 7 | 2 | 2 | C |\n",
       "| 9 | 4 | 3 | B |\n",
       "\n"
      ],
      "text/plain": [
       "  x1 x2 class\n",
       "1 3  2  C    \n",
       "3 2  4  B    \n",
       "4 3  3  C    \n",
       "7 2  2  C    \n",
       "9 4  3  B    "
      ]
     },
     "metadata": {},
     "output_type": "display_data"
    }
   ],
   "source": []
  },
  {
   "cell_type": "code",
   "execution_count": 23,
   "metadata": {
    "scrolled": true
   },
   "outputs": [
    {
     "data": {
      "text/html": [
       "<table>\n",
       "<thead><tr><th></th><th scope=col>x1</th><th scope=col>x2</th><th scope=col>class</th></tr></thead>\n",
       "<tbody>\n",
       "\t<tr><th scope=row>3</th><td>2</td><td>4</td><td>B</td></tr>\n",
       "\t<tr><th scope=row>9</th><td>4</td><td>3</td><td>B</td></tr>\n",
       "\t<tr><th scope=row>10</th><td>4</td><td>2</td><td>D</td></tr>\n",
       "\t<tr><th scope=row>11</th><td>5</td><td>3</td><td>D</td></tr>\n",
       "\t<tr><th scope=row>12</th><td>5</td><td>2</td><td>D</td></tr>\n",
       "</tbody>\n",
       "</table>\n"
      ],
      "text/latex": [
       "\\begin{tabular}{r|lll}\n",
       "  & x1 & x2 & class\\\\\n",
       "\\hline\n",
       "\t3 & 2 & 4 & B\\\\\n",
       "\t9 & 4 & 3 & B\\\\\n",
       "\t10 & 4 & 2 & D\\\\\n",
       "\t11 & 5 & 3 & D\\\\\n",
       "\t12 & 5 & 2 & D\\\\\n",
       "\\end{tabular}\n"
      ],
      "text/markdown": [
       "\n",
       "| <!--/--> | x1 | x2 | class |\n",
       "|---|---|---|---|\n",
       "| 3 | 2 | 4 | B |\n",
       "| 9 | 4 | 3 | B |\n",
       "| 10 | 4 | 2 | D |\n",
       "| 11 | 5 | 3 | D |\n",
       "| 12 | 5 | 2 | D |\n",
       "\n"
      ],
      "text/plain": [
       "   x1 x2 class\n",
       "3  2  4  B    \n",
       "9  4  3  B    \n",
       "10 4  2  D    \n",
       "11 5  3  D    \n",
       "12 5  2  D    "
      ]
     },
     "metadata": {},
     "output_type": "display_data"
    }
   ],
   "source": []
  },
  {
   "cell_type": "code",
   "execution_count": 24,
   "metadata": {
    "scrolled": true
   },
   "outputs": [
    {
     "data": {
      "text/html": [
       "<table>\n",
       "<thead><tr><th></th><th scope=col>x1</th><th scope=col>x2</th><th scope=col>class</th></tr></thead>\n",
       "<tbody>\n",
       "\t<tr><th scope=row>1</th><td>3</td><td>2</td><td>C</td></tr>\n",
       "\t<tr><th scope=row>4</th><td>3</td><td>3</td><td>C</td></tr>\n",
       "\t<tr><th scope=row>7</th><td>2</td><td>2</td><td>C</td></tr>\n",
       "\t<tr><th scope=row>10</th><td>4</td><td>2</td><td>D</td></tr>\n",
       "\t<tr><th scope=row>11</th><td>5</td><td>3</td><td>D</td></tr>\n",
       "\t<tr><th scope=row>12</th><td>5</td><td>2</td><td>D</td></tr>\n",
       "</tbody>\n",
       "</table>\n"
      ],
      "text/latex": [
       "\\begin{tabular}{r|lll}\n",
       "  & x1 & x2 & class\\\\\n",
       "\\hline\n",
       "\t1 & 3 & 2 & C\\\\\n",
       "\t4 & 3 & 3 & C\\\\\n",
       "\t7 & 2 & 2 & C\\\\\n",
       "\t10 & 4 & 2 & D\\\\\n",
       "\t11 & 5 & 3 & D\\\\\n",
       "\t12 & 5 & 2 & D\\\\\n",
       "\\end{tabular}\n"
      ],
      "text/markdown": [
       "\n",
       "| <!--/--> | x1 | x2 | class |\n",
       "|---|---|---|---|\n",
       "| 1 | 3 | 2 | C |\n",
       "| 4 | 3 | 3 | C |\n",
       "| 7 | 2 | 2 | C |\n",
       "| 10 | 4 | 2 | D |\n",
       "| 11 | 5 | 3 | D |\n",
       "| 12 | 5 | 2 | D |\n",
       "\n"
      ],
      "text/plain": [
       "   x1 x2 class\n",
       "1  3  2  C    \n",
       "4  3  3  C    \n",
       "7  2  2  C    \n",
       "10 4  2  D    \n",
       "11 5  3  D    \n",
       "12 5  2  D    "
      ]
     },
     "metadata": {},
     "output_type": "display_data"
    }
   ],
   "source": []
  },
  {
   "cell_type": "code",
   "execution_count": 25,
   "metadata": {},
   "outputs": [],
   "source": []
  },
  {
   "cell_type": "code",
   "execution_count": 26,
   "metadata": {},
   "outputs": [
    {
     "data": {
      "text/html": [
       "<table>\n",
       "<thead><tr><th scope=col>A</th><th scope=col>B</th></tr></thead>\n",
       "<tbody>\n",
       "\t<tr><td>0.6404646</td><td>0.3595354</td></tr>\n",
       "</tbody>\n",
       "</table>\n"
      ],
      "text/latex": [
       "\\begin{tabular}{r|ll}\n",
       " A & B\\\\\n",
       "\\hline\n",
       "\t 0.6404646 & 0.3595354\\\\\n",
       "\\end{tabular}\n"
      ],
      "text/markdown": [
       "\n",
       "| A | B |\n",
       "|---|---|\n",
       "| 0.6404646 | 0.3595354 |\n",
       "\n"
      ],
      "text/plain": [
       "  A         B        \n",
       "1 0.6404646 0.3595354"
      ]
     },
     "metadata": {},
     "output_type": "display_data"
    },
    {
     "data": {
      "text/html": [
       "<table>\n",
       "<thead><tr><th scope=col>C</th><th scope=col>A</th></tr></thead>\n",
       "<tbody>\n",
       "\t<tr><td>0.4434059</td><td>0.5565941</td></tr>\n",
       "</tbody>\n",
       "</table>\n"
      ],
      "text/latex": [
       "\\begin{tabular}{r|ll}\n",
       " C & A\\\\\n",
       "\\hline\n",
       "\t 0.4434059 & 0.5565941\\\\\n",
       "\\end{tabular}\n"
      ],
      "text/markdown": [
       "\n",
       "| C | A |\n",
       "|---|---|\n",
       "| 0.4434059 | 0.5565941 |\n",
       "\n"
      ],
      "text/plain": [
       "  C         A        \n",
       "1 0.4434059 0.5565941"
      ]
     },
     "metadata": {},
     "output_type": "display_data"
    },
    {
     "data": {
      "text/html": [
       "<table>\n",
       "<thead><tr><th scope=col>A</th><th scope=col>D</th></tr></thead>\n",
       "<tbody>\n",
       "\t<tr><td>0.7677828</td><td>0.2322172</td></tr>\n",
       "</tbody>\n",
       "</table>\n"
      ],
      "text/latex": [
       "\\begin{tabular}{r|ll}\n",
       " A & D\\\\\n",
       "\\hline\n",
       "\t 0.7677828 & 0.2322172\\\\\n",
       "\\end{tabular}\n"
      ],
      "text/markdown": [
       "\n",
       "| A | D |\n",
       "|---|---|\n",
       "| 0.7677828 | 0.2322172 |\n",
       "\n"
      ],
      "text/plain": [
       "  A         D        \n",
       "1 0.7677828 0.2322172"
      ]
     },
     "metadata": {},
     "output_type": "display_data"
    },
    {
     "data": {
      "text/html": [
       "<table>\n",
       "<thead><tr><th scope=col>C</th><th scope=col>B</th></tr></thead>\n",
       "<tbody>\n",
       "\t<tr><td>0.5834044</td><td>0.4165956</td></tr>\n",
       "</tbody>\n",
       "</table>\n"
      ],
      "text/latex": [
       "\\begin{tabular}{r|ll}\n",
       " C & B\\\\\n",
       "\\hline\n",
       "\t 0.5834044 & 0.4165956\\\\\n",
       "\\end{tabular}\n"
      ],
      "text/markdown": [
       "\n",
       "| C | B |\n",
       "|---|---|\n",
       "| 0.5834044 | 0.4165956 |\n",
       "\n"
      ],
      "text/plain": [
       "  C         B        \n",
       "1 0.5834044 0.4165956"
      ]
     },
     "metadata": {},
     "output_type": "display_data"
    },
    {
     "data": {
      "text/html": [
       "<table>\n",
       "<thead><tr><th scope=col>B</th><th scope=col>D</th></tr></thead>\n",
       "<tbody>\n",
       "\t<tr><td>0.4878104</td><td>0.5121896</td></tr>\n",
       "</tbody>\n",
       "</table>\n"
      ],
      "text/latex": [
       "\\begin{tabular}{r|ll}\n",
       " B & D\\\\\n",
       "\\hline\n",
       "\t 0.4878104 & 0.5121896\\\\\n",
       "\\end{tabular}\n"
      ],
      "text/markdown": [
       "\n",
       "| B | D |\n",
       "|---|---|\n",
       "| 0.4878104 | 0.5121896 |\n",
       "\n"
      ],
      "text/plain": [
       "  B         D        \n",
       "1 0.4878104 0.5121896"
      ]
     },
     "metadata": {},
     "output_type": "display_data"
    },
    {
     "data": {
      "text/html": [
       "<table>\n",
       "<thead><tr><th scope=col>C</th><th scope=col>D</th></tr></thead>\n",
       "<tbody>\n",
       "\t<tr><td>0.7727909</td><td>0.2272091</td></tr>\n",
       "</tbody>\n",
       "</table>\n"
      ],
      "text/latex": [
       "\\begin{tabular}{r|ll}\n",
       " C & D\\\\\n",
       "\\hline\n",
       "\t 0.7727909 & 0.2272091\\\\\n",
       "\\end{tabular}\n"
      ],
      "text/markdown": [
       "\n",
       "| C | D |\n",
       "|---|---|\n",
       "| 0.7727909 | 0.2272091 |\n",
       "\n"
      ],
      "text/plain": [
       "  C         D        \n",
       "1 0.7727909 0.2272091"
      ]
     },
     "metadata": {},
     "output_type": "display_data"
    }
   ],
   "source": []
  },
  {
   "cell_type": "code",
   "execution_count": 27,
   "metadata": {},
   "outputs": [
    {
     "data": {
      "text/html": [
       "A\n",
       "<details>\n",
       "\t<summary style=display:list-item;cursor:pointer>\n",
       "\t\t<strong>Levels</strong>:\n",
       "\t</summary>\n",
       "\t<ol class=list-inline>\n",
       "\t\t<li>'A'</li>\n",
       "\t\t<li>'B'</li>\n",
       "\t\t<li>'C'</li>\n",
       "\t\t<li>'D'</li>\n",
       "\t</ol>\n",
       "</details>"
      ],
      "text/latex": [
       "A\n",
       "\\emph{Levels}: \\begin{enumerate*}\n",
       "\\item 'A'\n",
       "\\item 'B'\n",
       "\\item 'C'\n",
       "\\item 'D'\n",
       "\\end{enumerate*}\n"
      ],
      "text/markdown": [
       "A\n",
       "**Levels**: 1. 'A'\n",
       "2. 'B'\n",
       "3. 'C'\n",
       "4. 'D'\n",
       "\n",
       "\n"
      ],
      "text/plain": [
       "[1] A\n",
       "Levels: A B C D"
      ]
     },
     "metadata": {},
     "output_type": "display_data"
    }
   ],
   "source": []
  },
  {
   "cell_type": "markdown",
   "metadata": {},
   "source": [
    "<font size=1;>\n",
    "<p style=\"text-align: left;\">\n",
    "Copyright (c) Berkeley Data Analytics Group, LLC\n",
    "<span style=\"float: right;\">\n",
    "Document revised December 17, 2019\n",
    "</span>\n",
    "</p>\n",
    "</font>"
   ]
  }
 ],
 "metadata": {
  "hide_code_all_hidden": false,
  "hide_input": false,
  "kernelspec": {
   "display_name": "R",
   "language": "R",
   "name": "ir"
  },
  "language_info": {
   "codemirror_mode": "r",
   "file_extension": ".r",
   "mimetype": "text/x-r-source",
   "name": "R",
   "pygments_lexer": "r",
   "version": "3.6.1"
  },
  "toc": {
   "base_numbering": 1,
   "nav_menu": {},
   "number_sections": false,
   "sideBar": true,
   "skip_h1_title": true,
   "title_cell": "Table of Contents",
   "title_sidebar": "Contents",
   "toc_cell": false,
   "toc_position": {},
   "toc_section_display": true,
   "toc_window_display": true
  }
 },
 "nbformat": 4,
 "nbformat_minor": 2
}
