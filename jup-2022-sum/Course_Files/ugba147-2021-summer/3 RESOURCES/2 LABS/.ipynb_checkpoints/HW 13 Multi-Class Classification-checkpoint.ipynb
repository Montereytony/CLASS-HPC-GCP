{
 "cells": [
  {
   "cell_type": "markdown",
   "metadata": {},
   "source": [
    "<font size=2;>\n",
    "<p style=\"text-align: right;\">\n",
    "Exercises\n",
    "</p>\n",
    "</font>"
   ]
  },
  {
   "cell_type": "markdown",
   "metadata": {
    "hideCode": false,
    "hidePrompt": false
   },
   "source": [
    "# Multi-Class Classification"
   ]
  },
  {
   "cell_type": "markdown",
   "metadata": {},
   "source": [
    "**Write and execute R code in the code cells per the instructions.  The expected results are provided for you directly following the code cells.**"
   ]
  },
  {
   "cell_type": "code",
   "execution_count": 1,
   "metadata": {},
   "outputs": [
    {
     "name": "stdout",
     "output_type": "stream",
     "text": [
      "Open code cell here for notebook apparatus."
     ]
    }
   ],
   "source": [
    "cat(\"Open code cell here for notebook apparatus.\")\n",
    "\n",
    "options(warn=-1)\n",
    "\n",
    "# Load some required functions\n",
    "library(ggplot2,   verbose=FALSE, warn.conflicts=FALSE, quietly=TRUE)\n",
    "library(e1071,     verbose=FALSE, warn.conflicts=FALSE, quietly=TRUE)\n",
    "library(neuralnet, verbose=FALSE, warn.conflicts=FALSE, quietly=TRUE)\n",
    "\n",
    "# Define some useful functions\n",
    "size = function(data) data.frame(observations=dim(data)[1], variables=dim(data)[2])\n",
    "as.binary = function(v, s) { as.numeric(v == s) }\n",
    "pick = function(v, f) { if (class(v) %in% c(\"data.frame\", \"matrix\")) factor(colnames(v)[v == f(v)], levels=colnames(v)) else names(prob)[prob == max(prob)] }\n",
    "round_robin = function(...) { tt = table(as.character(lapply(lapply(list(...), pick, max), as.character)))\n",
    "                              factor(names(tt)[which.max(tt)], levels=unique(unlist(lapply(list(...), colnames)))) }\n",
    "                       \n",
    "# Define some visualization constants\n",
    "restore = list(repr.plot.width=8, repr.plot.height=3)\n",
    "PALETTE = c(\"#00A9FF\", \"#F8766D\", \"#7CAE00\", \"#C77CFF\", \"#CD9600\", \"#00BE67\", \"#FF61CC\", \"#00BFC4\")\n",
    "                      \n",
    "# Set some visualization formatting defaults\n",
    "options(restore)\n",
    "options(digits=10, scipen=10) # expose many digits, use scientific notation sparingly\n",
    "options(repr.matrix.max.rows=200)\n",
    "options(repr.matrix.max.cols=200)\n",
    "update_geom_defaults(\"point\", list(size=3, colour=\"grey50\"))\n",
    "theme_update(plot.title=element_text(size=10, hjust=0.5), plot.subtitle=element_text(size=8, face=\"italic\", hjust=0.5), axis.title=element_text(size=7), axis.text=element_text(size=7), strip.text=element_text(size=7), strip.text.y=element_text(angle=90), legend.title=element_blank(), legend.text=element_text(size=7))"
   ]
  },
  {
   "cell_type": "markdown",
   "metadata": {},
   "source": [
    "## Data & New Observation"
   ]
  },
  {
   "cell_type": "code",
   "execution_count": 2,
   "metadata": {},
   "outputs": [
    {
     "data": {
      "image/png": "[encoded data removed]",
      "text/plain": [
       "plot without title"
      ]
     },
     "metadata": {},
     "output_type": "display_data"
    }
   ],
   "source": [
    "data = data.frame(x1=c(3,1,2,3,2,1,2,3,4,4,5,5), x2=c(2,5,4,3,2,1,2,3,3,2,3,2), class=c(\"C\",\"A\",\"B\",\"C\",\"A\",\"A\",\"C\",\"A\",\"B\",\"D\",\"D\",\"D\"))\n",
    "new = data.frame(x1=2, x2=3)\n",
    "\n",
    "ggplot(data) +\n",
    "geom_point(aes(x=x1, y=x2, color=class)) + geom_point(aes(x=x1, y=x2), data=new) +\n",
    "scale_color_manual(values=PALETTE)"
   ]
  },
  {
   "cell_type": "markdown",
   "metadata": {},
   "source": [
    "## Problem 1\n",
    "\n",
    "Build a multi-class naive bayes model based on `data` to predict class given x1 and x2.  Show the model details (note, conditional probabilities are expressed as gasussian means and standard deviations).  Show the probabilities resulting from the model applied to `data`.\n",
    "\n",
    "Use the model to predict `new`'s class.  Show the probabilities resulting from the model applied to `new`.    \n",
    "\n",
    "You may want to use these function(s):\n",
    "* naivebayes()\n",
    "* predict()\n",
    "* pick()"
   ]
  },
  {
   "cell_type": "code",
   "execution_count": 3,
   "metadata": {},
   "outputs": [
    {
     "data": {
      "text/plain": [
       "\n",
       "Naive Bayes Classifier for Discrete Predictors\n",
       "\n",
       "Call:\n",
       "naiveBayes.default(x = X, y = Y, laplace = laplace)\n",
       "\n",
       "A-priori probabilities:\n",
       "Y\n",
       "           A            B            C            D \n",
       "0.3333333333 0.1666666667 0.2500000000 0.2500000000 \n",
       "\n",
       "Conditional probabilities:\n",
       "   x1\n",
       "Y          [,1]         [,2]\n",
       "  A 1.750000000 0.9574271078\n",
       "  B 3.000000000 1.4142135624\n",
       "  C 2.666666667 0.5773502692\n",
       "  D 4.666666667 0.5773502692\n",
       "\n",
       "   x2\n",
       "Y          [,1]         [,2]\n",
       "  A 2.750000000 1.7078251277\n",
       "  B 3.500000000 0.7071067812\n",
       "  C 2.333333333 0.5773502692\n",
       "  D 2.333333333 0.5773502692\n"
      ]
     },
     "metadata": {},
     "output_type": "display_data"
    }
   ],
   "source": []
  },
  {
   "cell_type": "code",
   "execution_count": 4,
   "metadata": {},
   "outputs": [
    {
     "data": {
      "text/html": [
       "<table>\n",
       "<thead><tr><th scope=col>A</th><th scope=col>B</th><th scope=col>C</th><th scope=col>D</th></tr></thead>\n",
       "<tbody>\n",
       "\t<tr><td>0.122629811981          </td><td>0.027287788490          </td><td>0.834792639006342       </td><td>0.0152897605230135711502</td></tr>\n",
       "\t<tr><td>0.906930128921          </td><td>0.093065967835          </td><td>0.000003903243662       </td><td>0.0000000000004392522075</td></tr>\n",
       "\t<tr><td>0.584701251499          </td><td>0.392139217857          </td><td>0.023158479250241       </td><td>0.0000010513933313668801</td></tr>\n",
       "\t<tr><td>0.157027290649          </td><td>0.236979695819          </td><td>0.595093495954635       </td><td>0.0108995175769394658793</td></tr>\n",
       "\t<tr><td>0.345022700501          </td><td>0.026382410805          </td><td>0.628566351825737       </td><td>0.0000285368682239496636</td></tr>\n",
       "\t<tr><td>0.989668349232          </td><td>0.001320163912          </td><td>0.009011485841450       </td><td>0.0000000010141091336477</td></tr>\n",
       "\t<tr><td>0.345022700501          </td><td>0.026382410805          </td><td>0.628566351825737       </td><td>0.0000285368682239496636</td></tr>\n",
       "\t<tr><td>0.157027290649          </td><td>0.236979695819          </td><td>0.595093495954635       </td><td>0.0108995175769394658793</td></tr>\n",
       "\t<tr><td>0.037682784542          </td><td>0.298822306945          </td><td>0.079090531841563       </td><td>0.5844043766715687482360</td></tr>\n",
       "\t<tr><td>0.029588504536          </td><td>0.034596273371          </td><td>0.111551908946336       </td><td>0.8242633131472791863104</td></tr>\n",
       "\t<tr><td>0.001694969061          </td><td>0.127524722316          </td><td>0.000292016290105       </td><td>0.8704882923335378608343</td></tr>\n",
       "\t<tr><td>0.001069612050          </td><td>0.011865749505          </td><td>0.000331012255281       </td><td>0.9867336261898009830418</td></tr>\n",
       "</tbody>\n",
       "</table>\n"
      ],
      "text/latex": [
       "\\begin{tabular}{llll}\n",
       " A & B & C & D\\\\\n",
       "\\hline\n",
       "\t 0.122629811981           & 0.027287788490           & 0.834792639006342        & 0.0152897605230135711502\\\\\n",
       "\t 0.906930128921           & 0.093065967835           & 0.000003903243662        & 0.0000000000004392522075\\\\\n",
       "\t 0.584701251499           & 0.392139217857           & 0.023158479250241        & 0.0000010513933313668801\\\\\n",
       "\t 0.157027290649           & 0.236979695819           & 0.595093495954635        & 0.0108995175769394658793\\\\\n",
       "\t 0.345022700501           & 0.026382410805           & 0.628566351825737        & 0.0000285368682239496636\\\\\n",
       "\t 0.989668349232           & 0.001320163912           & 0.009011485841450        & 0.0000000010141091336477\\\\\n",
       "\t 0.345022700501           & 0.026382410805           & 0.628566351825737        & 0.0000285368682239496636\\\\\n",
       "\t 0.157027290649           & 0.236979695819           & 0.595093495954635        & 0.0108995175769394658793\\\\\n",
       "\t 0.037682784542           & 0.298822306945           & 0.079090531841563        & 0.5844043766715687482360\\\\\n",
       "\t 0.029588504536           & 0.034596273371           & 0.111551908946336        & 0.8242633131472791863104\\\\\n",
       "\t 0.001694969061           & 0.127524722316           & 0.000292016290105        & 0.8704882923335378608343\\\\\n",
       "\t 0.001069612050           & 0.011865749505           & 0.000331012255281        & 0.9867336261898009830418\\\\\n",
       "\\end{tabular}\n"
      ],
      "text/markdown": [
       "\n",
       "| A | B | C | D |\n",
       "|---|---|---|---|\n",
       "| 0.122629811981           | 0.027287788490           | 0.834792639006342        | 0.0152897605230135711502 |\n",
       "| 0.906930128921           | 0.093065967835           | 0.000003903243662        | 0.0000000000004392522075 |\n",
       "| 0.584701251499           | 0.392139217857           | 0.023158479250241        | 0.0000010513933313668801 |\n",
       "| 0.157027290649           | 0.236979695819           | 0.595093495954635        | 0.0108995175769394658793 |\n",
       "| 0.345022700501           | 0.026382410805           | 0.628566351825737        | 0.0000285368682239496636 |\n",
       "| 0.989668349232           | 0.001320163912           | 0.009011485841450        | 0.0000000010141091336477 |\n",
       "| 0.345022700501           | 0.026382410805           | 0.628566351825737        | 0.0000285368682239496636 |\n",
       "| 0.157027290649           | 0.236979695819           | 0.595093495954635        | 0.0108995175769394658793 |\n",
       "| 0.037682784542           | 0.298822306945           | 0.079090531841563        | 0.5844043766715687482360 |\n",
       "| 0.029588504536           | 0.034596273371           | 0.111551908946336        | 0.8242633131472791863104 |\n",
       "| 0.001694969061           | 0.127524722316           | 0.000292016290105        | 0.8704882923335378608343 |\n",
       "| 0.001069612050           | 0.011865749505           | 0.000331012255281        | 0.9867336261898009830418 |\n",
       "\n"
      ],
      "text/plain": [
       "      A              B              C                 D                       \n",
       " [1,] 0.122629811981 0.027287788490 0.834792639006342 0.0152897605230135711502\n",
       " [2,] 0.906930128921 0.093065967835 0.000003903243662 0.0000000000004392522075\n",
       " [3,] 0.584701251499 0.392139217857 0.023158479250241 0.0000010513933313668801\n",
       " [4,] 0.157027290649 0.236979695819 0.595093495954635 0.0108995175769394658793\n",
       " [5,] 0.345022700501 0.026382410805 0.628566351825737 0.0000285368682239496636\n",
       " [6,] 0.989668349232 0.001320163912 0.009011485841450 0.0000000010141091336477\n",
       " [7,] 0.345022700501 0.026382410805 0.628566351825737 0.0000285368682239496636\n",
       " [8,] 0.157027290649 0.236979695819 0.595093495954635 0.0108995175769394658793\n",
       " [9,] 0.037682784542 0.298822306945 0.079090531841563 0.5844043766715687482360\n",
       "[10,] 0.029588504536 0.034596273371 0.111551908946336 0.8242633131472791863104\n",
       "[11,] 0.001694969061 0.127524722316 0.000292016290105 0.8704882923335378608343\n",
       "[12,] 0.001069612050 0.011865749505 0.000331012255281 0.9867336261898009830418"
      ]
     },
     "metadata": {},
     "output_type": "display_data"
    }
   ],
   "source": []
  },
  {
   "cell_type": "code",
   "execution_count": 5,
   "metadata": {},
   "outputs": [
    {
     "data": {
      "text/html": [
       "<table>\n",
       "<thead><tr><th scope=col>A</th><th scope=col>B</th><th scope=col>C</th><th scope=col>D</th></tr></thead>\n",
       "<tbody>\n",
       "\t<tr><td>0.3948104705    </td><td>0.2047477758    </td><td>0.4004235745    </td><td>0.00001817920216</td></tr>\n",
       "</tbody>\n",
       "</table>\n"
      ],
      "text/latex": [
       "\\begin{tabular}{llll}\n",
       " A & B & C & D\\\\\n",
       "\\hline\n",
       "\t 0.3948104705     & 0.2047477758     & 0.4004235745     & 0.00001817920216\\\\\n",
       "\\end{tabular}\n"
      ],
      "text/markdown": [
       "\n",
       "| A | B | C | D |\n",
       "|---|---|---|---|\n",
       "| 0.3948104705     | 0.2047477758     | 0.4004235745     | 0.00001817920216 |\n",
       "\n"
      ],
      "text/plain": [
       "     A            B            C            D               \n",
       "[1,] 0.3948104705 0.2047477758 0.4004235745 0.00001817920216"
      ]
     },
     "metadata": {},
     "output_type": "display_data"
    }
   ],
   "source": []
  },
  {
   "cell_type": "code",
   "execution_count": 6,
   "metadata": {},
   "outputs": [
    {
     "data": {
      "text/html": [
       "C\n",
       "<details>\n",
       "\t<summary style=display:list-item;cursor:pointer>\n",
       "\t\t<strong>Levels</strong>:\n",
       "\t</summary>\n",
       "\t<ol class=list-inline>\n",
       "\t\t<li>'A'</li>\n",
       "\t\t<li>'B'</li>\n",
       "\t\t<li>'C'</li>\n",
       "\t\t<li>'D'</li>\n",
       "\t</ol>\n",
       "</details>"
      ],
      "text/latex": [
       "C\n",
       "\\emph{Levels}: \\begin{enumerate*}\n",
       "\\item 'A'\n",
       "\\item 'B'\n",
       "\\item 'C'\n",
       "\\item 'D'\n",
       "\\end{enumerate*}\n"
      ],
      "text/markdown": [
       "C\n",
       "**Levels**: 1. 'A'\n",
       "2. 'B'\n",
       "3. 'C'\n",
       "4. 'D'\n",
       "\n",
       "\n"
      ],
      "text/plain": [
       "[1] C\n",
       "Levels: A B C D"
      ]
     },
     "metadata": {},
     "output_type": "display_data"
    }
   ],
   "source": []
  },
  {
   "cell_type": "markdown",
   "metadata": {},
   "source": [
    "## Problem 2\n",
    "\n",
    "Build a multi-class neural network model based on `data` to predict class given x1 and x2.  Show the binary-coded dataset derived from `data`.  Show the model details.  Show the probabilities resulting from the model applied to `data`.\n",
    "\n",
    "Use the model to predict `new`'s class.  Show the probabilities resulting from the model applied to `new`.    \n",
    "\n",
    "You may want to use these function(s):\n",
    "* as.binary()\n",
    "* set.seed()\n",
    "* neuralnet()\n",
    "* compute()\n",
    "* pick()\n",
    "\n",
    "Use `neuralnet(..., ..., hidden=4, act.fct=\"logistic\", algorithm=\"rprop+\", rep=1, linear.output=FALSE)` to build the requisite model - preceed with `set.seed(12345)`.  Use `compute(..., ..., rep=1)$net.result` to get the probabilities calculated by the model."
   ]
  },
  {
   "cell_type": "code",
   "execution_count": 7,
   "metadata": {
    "scrolled": false
   },
   "outputs": [
    {
     "data": {
      "text/html": [
       "<table>\n",
       "<thead><tr><th scope=col>x1</th><th scope=col>x2</th><th scope=col>A</th><th scope=col>B</th><th scope=col>C</th><th scope=col>D</th></tr></thead>\n",
       "<tbody>\n",
       "\t<tr><td>3</td><td>2</td><td>0</td><td>0</td><td>1</td><td>0</td></tr>\n",
       "\t<tr><td>1</td><td>5</td><td>1</td><td>0</td><td>0</td><td>0</td></tr>\n",
       "\t<tr><td>2</td><td>4</td><td>0</td><td>1</td><td>0</td><td>0</td></tr>\n",
       "\t<tr><td>3</td><td>3</td><td>0</td><td>0</td><td>1</td><td>0</td></tr>\n",
       "\t<tr><td>2</td><td>2</td><td>1</td><td>0</td><td>0</td><td>0</td></tr>\n",
       "\t<tr><td>1</td><td>1</td><td>1</td><td>0</td><td>0</td><td>0</td></tr>\n",
       "\t<tr><td>2</td><td>2</td><td>0</td><td>0</td><td>1</td><td>0</td></tr>\n",
       "\t<tr><td>3</td><td>3</td><td>1</td><td>0</td><td>0</td><td>0</td></tr>\n",
       "\t<tr><td>4</td><td>3</td><td>0</td><td>1</td><td>0</td><td>0</td></tr>\n",
       "\t<tr><td>4</td><td>2</td><td>0</td><td>0</td><td>0</td><td>1</td></tr>\n",
       "\t<tr><td>5</td><td>3</td><td>0</td><td>0</td><td>0</td><td>1</td></tr>\n",
       "\t<tr><td>5</td><td>2</td><td>0</td><td>0</td><td>0</td><td>1</td></tr>\n",
       "</tbody>\n",
       "</table>\n"
      ],
      "text/latex": [
       "\\begin{tabular}{r|llllll}\n",
       " x1 & x2 & A & B & C & D\\\\\n",
       "\\hline\n",
       "\t 3 & 2 & 0 & 0 & 1 & 0\\\\\n",
       "\t 1 & 5 & 1 & 0 & 0 & 0\\\\\n",
       "\t 2 & 4 & 0 & 1 & 0 & 0\\\\\n",
       "\t 3 & 3 & 0 & 0 & 1 & 0\\\\\n",
       "\t 2 & 2 & 1 & 0 & 0 & 0\\\\\n",
       "\t 1 & 1 & 1 & 0 & 0 & 0\\\\\n",
       "\t 2 & 2 & 0 & 0 & 1 & 0\\\\\n",
       "\t 3 & 3 & 1 & 0 & 0 & 0\\\\\n",
       "\t 4 & 3 & 0 & 1 & 0 & 0\\\\\n",
       "\t 4 & 2 & 0 & 0 & 0 & 1\\\\\n",
       "\t 5 & 3 & 0 & 0 & 0 & 1\\\\\n",
       "\t 5 & 2 & 0 & 0 & 0 & 1\\\\\n",
       "\\end{tabular}\n"
      ],
      "text/markdown": [
       "\n",
       "| x1 | x2 | A | B | C | D |\n",
       "|---|---|---|---|---|---|\n",
       "| 3 | 2 | 0 | 0 | 1 | 0 |\n",
       "| 1 | 5 | 1 | 0 | 0 | 0 |\n",
       "| 2 | 4 | 0 | 1 | 0 | 0 |\n",
       "| 3 | 3 | 0 | 0 | 1 | 0 |\n",
       "| 2 | 2 | 1 | 0 | 0 | 0 |\n",
       "| 1 | 1 | 1 | 0 | 0 | 0 |\n",
       "| 2 | 2 | 0 | 0 | 1 | 0 |\n",
       "| 3 | 3 | 1 | 0 | 0 | 0 |\n",
       "| 4 | 3 | 0 | 1 | 0 | 0 |\n",
       "| 4 | 2 | 0 | 0 | 0 | 1 |\n",
       "| 5 | 3 | 0 | 0 | 0 | 1 |\n",
       "| 5 | 2 | 0 | 0 | 0 | 1 |\n",
       "\n"
      ],
      "text/plain": [
       "   x1 x2 A B C D\n",
       "1  3  2  0 0 1 0\n",
       "2  1  5  1 0 0 0\n",
       "3  2  4  0 1 0 0\n",
       "4  3  3  0 0 1 0\n",
       "5  2  2  1 0 0 0\n",
       "6  1  1  1 0 0 0\n",
       "7  2  2  0 0 1 0\n",
       "8  3  3  1 0 0 0\n",
       "9  4  3  0 1 0 0\n",
       "10 4  2  0 0 0 1\n",
       "11 5  3  0 0 0 1\n",
       "12 5  2  0 0 0 1"
      ]
     },
     "metadata": {},
     "output_type": "display_data"
    }
   ],
   "source": []
  },
  {
   "cell_type": "code",
   "execution_count": 8,
   "metadata": {
    "scrolled": true
   },
   "outputs": [
    {
     "data": {
      "text/plain": [
       "$call\n",
       "neuralnet(formula = A + B + C + D ~ x1 + x2, data = data.nn, \n",
       "    hidden = 4, rep = 1, algorithm = \"rprop+\", act.fct = \"logistic\", \n",
       "    linear.output = FALSE)\n",
       "\n",
       "$response\n",
       "   A B C D\n",
       "1  0 0 1 0\n",
       "2  1 0 0 0\n",
       "3  0 1 0 0\n",
       "4  0 0 1 0\n",
       "5  1 0 0 0\n",
       "6  1 0 0 0\n",
       "7  0 0 1 0\n",
       "8  1 0 0 0\n",
       "9  0 1 0 0\n",
       "10 0 0 0 1\n",
       "11 0 0 0 1\n",
       "12 0 0 0 1\n",
       "\n",
       "$covariate\n",
       "      x1 x2\n",
       " [1,]  3  2\n",
       " [2,]  1  5\n",
       " [3,]  2  4\n",
       " [4,]  3  3\n",
       " [5,]  2  2\n",
       " [6,]  1  1\n",
       " [7,]  2  2\n",
       " [8,]  3  3\n",
       " [9,]  4  3\n",
       "[10,]  4  2\n",
       "[11,]  5  3\n",
       "[12,]  5  2\n",
       "\n",
       "$model.list\n",
       "$model.list$response\n",
       "[1] \"A\" \"B\" \"C\" \"D\"\n",
       "\n",
       "$model.list$variables\n",
       "[1] \"x1\" \"x2\"\n",
       "\n",
       "\n",
       "$err.fct\n",
       "function (x, y) \n",
       "{\n",
       "    1/2 * (y - x)^2\n",
       "}\n",
       "<bytecode: 0x0000000012a1a808>\n",
       "<environment: 0x0000000012a16338>\n",
       "attr(,\"type\")\n",
       "[1] \"sse\"\n",
       "\n",
       "$act.fct\n",
       "function (x) \n",
       "{\n",
       "    1/(1 + exp(-x))\n",
       "}\n",
       "<bytecode: 0x0000000012a1ae70>\n",
       "<environment: 0x0000000012a1b7a0>\n",
       "attr(,\"type\")\n",
       "[1] \"logistic\"\n",
       "\n",
       "$linear.output\n",
       "[1] FALSE\n",
       "\n",
       "$data\n",
       "   x1 x2 A B C D\n",
       "1   3  2 0 0 1 0\n",
       "2   1  5 1 0 0 0\n",
       "3   2  4 0 1 0 0\n",
       "4   3  3 0 0 1 0\n",
       "5   2  2 1 0 0 0\n",
       "6   1  1 1 0 0 0\n",
       "7   2  2 0 0 1 0\n",
       "8   3  3 1 0 0 0\n",
       "9   4  3 0 1 0 0\n",
       "10  4  2 0 0 0 1\n",
       "11  5  3 0 0 0 1\n",
       "12  5  2 0 0 0 1\n",
       "\n",
       "$exclude\n",
       "NULL\n",
       "\n",
       "$net.result\n",
       "$net.result[[1]]\n",
       "                  [,1]            [,2]                     [,3]            [,4]\n",
       " [1,] 0.04888874596446 3.567474948e-10 0.9082869233269880160364 9.318984533e-12\n",
       " [2,] 0.99952014386789 4.182325017e-05 0.0000000000001233017590 2.928937816e-87\n",
       " [3,] 0.02409949988259 9.904904962e-01 0.0000000000002117553375 5.870370572e-70\n",
       " [4,] 0.49683013315078 2.200212607e-02 0.4991813317970960062198 5.962544191e-27\n",
       " [5,] 0.49646179504743 2.938635525e-12 0.5019434374359653672215 4.973810619e-37\n",
       " [6,] 0.99994961482921 1.132393035e-17 0.0001758387960484552551 7.023772887e-64\n",
       " [7,] 0.49646179504743 2.938635525e-12 0.5019434374359653672215 4.973810619e-37\n",
       " [8,] 0.49683013315078 2.200212607e-02 0.4991813317970960062198 5.962544191e-27\n",
       " [9,] 0.04247410540973 9.572093074e-01 0.0743086413548127433515 3.396112614e-11\n",
       "[10,] 0.00023085766951 8.866034321e-09 0.0524916275575551399823 1.000000000e+00\n",
       "[11,] 0.00021809218511 2.831147663e-02 0.0026979442405836869499 1.000000000e+00\n",
       "[12,] 0.00003336715205 7.500375396e-06 0.0025767428979837259280 1.000000000e+00\n",
       "\n",
       "\n",
       "$weights\n",
       "$weights[[1]]\n",
       "$weights[[1]][[1]]\n",
       "             [,1]          [,2]          [,3]         [,4]\n",
       "[1,]  1.921890764 -70.187400684  3.1304772927  1.632486021\n",
       "[2,] -2.096167516  52.903009151 -0.9713589887 -3.166868568\n",
       "[3,]  2.414689022  -1.300874522 -0.2310584226  1.700556601\n",
       "\n",
       "$weights[[1]][[2]]\n",
       "               [,1]          [,2]           [,3]          [,4]\n",
       "[1,]   0.4073182616  -6.096175498  -7.9780851972   23.13724529\n",
       "[2,]  10.3644469558  34.671935972   2.4433015831  -94.58578780\n",
       "[3,] -11.3425157403   2.645109412  -0.2020789479   23.43317709\n",
       "[4,]   3.8143664892 -90.906115187  21.4800418650  -28.96861435\n",
       "[5,]  -5.9271158872  27.894708696 -39.9462152902 -106.70316645\n",
       "\n",
       "\n",
       "\n",
       "$generalized.weights\n",
       "$generalized.weights[[1]]\n",
       "               [,1]          [,2]           [,3]         [,4]         [,5]\n",
       " [1,] -5.8524774175  5.6032000907   3.5238733471 25.553760793 -4.932786621\n",
       " [2,] -0.7096966335 -0.1822740231  17.2471212343  4.167582497 -3.976214174\n",
       " [3,]  0.8991905543 -1.1800125177  13.0723289086  9.819811154  7.156337855\n",
       " [4,] -0.9265934324  0.4930420680  12.2839119118 11.827184618  1.852736467\n",
       " [5,]  0.8960483864 -0.2213848228  -0.3046845056 18.180868195 16.361750753\n",
       " [6,]  2.3610629734 -0.4246565954 -18.4629006833 21.383780180 28.650793724\n",
       " [7,]  0.8960483864 -0.2213848228  -0.3046845056 18.180868195 16.361750753\n",
       " [8,] -0.9265934324  0.4930420680  12.2839119118 11.827184618  1.852736467\n",
       " [9,] -5.2015358396  5.2289302560  -2.2835913437 21.396762466 -3.984694499\n",
       "[10,] -3.6133863930  3.2603819772   5.5881984447 15.168082783 -4.316523397\n",
       "[11,] -3.9011571541  4.1089107864  -5.5126483901 15.551538041 -2.405855092\n",
       "[12,] -0.8327517564  0.4928077087   6.3377663604  3.821195694 -2.005732912\n",
       "                [,6]          [,7]          [,8]\n",
       " [1,]  -0.5858721092  57.726955082 -54.535752754\n",
       " [2,]  -1.0378600804   5.841439507   1.141673397\n",
       " [3,]  -7.8133280751  39.854965700 -16.119431503\n",
       " [4,]  -4.6565647719  35.460042389 -20.039132372\n",
       " [5,] -12.1291888030  76.268678336 -44.292010904\n",
       " [6,] -16.9032733292 104.252522414 -64.164236175\n",
       " [7,] -12.1291888030  76.268678336 -44.292010904\n",
       " [8,]  -4.6565647719  35.460042389 -20.039132372\n",
       " [9,]   0.3271754633  47.937030851 -48.647795246\n",
       "[10,]  -0.1012749713  32.221724036 -30.124248565\n",
       "[11,]   0.6045462271  35.233060466 -37.629636614\n",
       "[12,]  -0.3161636281           NaN           NaN\n",
       "\n",
       "\n",
       "$startweights\n",
       "$startweights[[1]]\n",
       "$startweights[[1]][[1]]\n",
       "              [,1]          [,2]          [,3]          [,4]\n",
       "[1,]  0.5855288178 -0.4534971735  0.6300985511 -0.9193220025\n",
       "[2,]  0.7094660175  0.6058874558 -0.2761841052 -0.1162478064\n",
       "[3,] -0.1093033147 -1.8179559677 -0.2841597439  1.8173120437\n",
       "\n",
       "$startweights[[1]][[2]]\n",
       "              [,1]          [,2]          [,3]          [,4]\n",
       "[1,]  0.3706278643 -0.3315775899 -0.6443284292  0.6203798013\n",
       "[2,]  0.5202164576  1.1207126517 -1.5531374052  0.6121234927\n",
       "[3,] -0.7505319945  0.2987236993 -1.5977095167 -0.1623109769\n",
       "[4,]  0.8168998395  0.7796219246  1.8050975188  0.8118731786\n",
       "[5,] -0.8863575212  1.4557850825 -0.4816473637  2.1968335463\n",
       "\n",
       "\n",
       "\n",
       "$result.matrix\n",
       "                                   [,1]\n",
       "error                    1.012611446836\n",
       "reached.threshold        0.009410369987\n",
       "steps                 1090.000000000000\n",
       "Intercept.to.1layhid1    1.921890763603\n",
       "x1.to.1layhid1          -2.096167516355\n",
       "x2.to.1layhid1           2.414689021939\n",
       "Intercept.to.1layhid2  -70.187400683677\n",
       "x1.to.1layhid2          52.903009151148\n",
       "x2.to.1layhid2          -1.300874522429\n",
       "Intercept.to.1layhid3    3.130477292730\n",
       "x1.to.1layhid3          -0.971358988736\n",
       "x2.to.1layhid3          -0.231058422643\n",
       "Intercept.to.1layhid4    1.632486021132\n",
       "x1.to.1layhid4          -3.166868567520\n",
       "x2.to.1layhid4           1.700556601453\n",
       "Intercept.to.A           0.407318261579\n",
       "1layhid1.to.A           10.364446955825\n",
       "1layhid2.to.A          -11.342515740265\n",
       "1layhid3.to.A            3.814366489172\n",
       "1layhid4.to.A           -5.927115887242\n",
       "Intercept.to.B          -6.096175498109\n",
       "1layhid1.to.B           34.671935972326\n",
       "1layhid2.to.B            2.645109412093\n",
       "1layhid3.to.B          -90.906115186971\n",
       "1layhid4.to.B           27.894708695552\n",
       "Intercept.to.C          -7.978085197178\n",
       "1layhid1.to.C            2.443301583072\n",
       "1layhid2.to.C           -0.202078947899\n",
       "1layhid3.to.C           21.480041865020\n",
       "1layhid4.to.C          -39.946215290230\n",
       "Intercept.to.D          23.137245292356\n",
       "1layhid1.to.D          -94.585787803450\n",
       "1layhid2.to.D           23.433177089252\n",
       "1layhid3.to.D          -28.968614350478\n",
       "1layhid4.to.D         -106.703166453651\n",
       "\n",
       "attr(,\"class\")\n",
       "[1] \"nn\""
      ]
     },
     "metadata": {},
     "output_type": "display_data"
    }
   ],
   "source": []
  },
  {
   "cell_type": "code",
   "execution_count": 9,
   "metadata": {},
   "outputs": [
    {
     "data": {
      "text/html": [
       "<table>\n",
       "<thead><tr><th scope=col>A</th><th scope=col>B</th><th scope=col>C</th><th scope=col>D</th></tr></thead>\n",
       "<tbody>\n",
       "\t<tr><td>0.04888874596446        </td><td>3.567474948e-10         </td><td>0.9082869233269880160364</td><td>9.318984533e-12         </td></tr>\n",
       "\t<tr><td>0.99952014386789        </td><td>4.182325017e-05         </td><td>0.0000000000001233017590</td><td>2.928937816e-87         </td></tr>\n",
       "\t<tr><td>0.02409949988259        </td><td>9.904904962e-01         </td><td>0.0000000000002117553375</td><td>5.870370572e-70         </td></tr>\n",
       "\t<tr><td>0.49683013315078        </td><td>2.200212607e-02         </td><td>0.4991813317970960062198</td><td>5.962544191e-27         </td></tr>\n",
       "\t<tr><td>0.49646179504743        </td><td>2.938635525e-12         </td><td>0.5019434374359653672215</td><td>4.973810619e-37         </td></tr>\n",
       "\t<tr><td>0.99994961482921        </td><td>1.132393035e-17         </td><td>0.0001758387960484552551</td><td>7.023772887e-64         </td></tr>\n",
       "\t<tr><td>0.49646179504743        </td><td>2.938635525e-12         </td><td>0.5019434374359653672215</td><td>4.973810619e-37         </td></tr>\n",
       "\t<tr><td>0.49683013315078        </td><td>2.200212607e-02         </td><td>0.4991813317970960062198</td><td>5.962544191e-27         </td></tr>\n",
       "\t<tr><td>0.04247410540973        </td><td>9.572093074e-01         </td><td>0.0743086413548127433515</td><td>3.396112614e-11         </td></tr>\n",
       "\t<tr><td>0.00023085766951        </td><td>8.866034321e-09         </td><td>0.0524916275575551399823</td><td>1.000000000e+00         </td></tr>\n",
       "\t<tr><td>0.00021809218511        </td><td>2.831147663e-02         </td><td>0.0026979442405836869499</td><td>1.000000000e+00         </td></tr>\n",
       "\t<tr><td>0.00003336715205        </td><td>7.500375396e-06         </td><td>0.0025767428979837259280</td><td>1.000000000e+00         </td></tr>\n",
       "</tbody>\n",
       "</table>\n"
      ],
      "text/latex": [
       "\\begin{tabular}{r|llll}\n",
       " A & B & C & D\\\\\n",
       "\\hline\n",
       "\t 0.04888874596446         & 3.567474948e-10          & 0.9082869233269880160364 & 9.318984533e-12         \\\\\n",
       "\t 0.99952014386789         & 4.182325017e-05          & 0.0000000000001233017590 & 2.928937816e-87         \\\\\n",
       "\t 0.02409949988259         & 9.904904962e-01          & 0.0000000000002117553375 & 5.870370572e-70         \\\\\n",
       "\t 0.49683013315078         & 2.200212607e-02          & 0.4991813317970960062198 & 5.962544191e-27         \\\\\n",
       "\t 0.49646179504743         & 2.938635525e-12          & 0.5019434374359653672215 & 4.973810619e-37         \\\\\n",
       "\t 0.99994961482921         & 1.132393035e-17          & 0.0001758387960484552551 & 7.023772887e-64         \\\\\n",
       "\t 0.49646179504743         & 2.938635525e-12          & 0.5019434374359653672215 & 4.973810619e-37         \\\\\n",
       "\t 0.49683013315078         & 2.200212607e-02          & 0.4991813317970960062198 & 5.962544191e-27         \\\\\n",
       "\t 0.04247410540973         & 9.572093074e-01          & 0.0743086413548127433515 & 3.396112614e-11         \\\\\n",
       "\t 0.00023085766951         & 8.866034321e-09          & 0.0524916275575551399823 & 1.000000000e+00         \\\\\n",
       "\t 0.00021809218511         & 2.831147663e-02          & 0.0026979442405836869499 & 1.000000000e+00         \\\\\n",
       "\t 0.00003336715205         & 7.500375396e-06          & 0.0025767428979837259280 & 1.000000000e+00         \\\\\n",
       "\\end{tabular}\n"
      ],
      "text/markdown": [
       "\n",
       "| A | B | C | D |\n",
       "|---|---|---|---|\n",
       "| 0.04888874596446         | 3.567474948e-10          | 0.9082869233269880160364 | 9.318984533e-12          |\n",
       "| 0.99952014386789         | 4.182325017e-05          | 0.0000000000001233017590 | 2.928937816e-87          |\n",
       "| 0.02409949988259         | 9.904904962e-01          | 0.0000000000002117553375 | 5.870370572e-70          |\n",
       "| 0.49683013315078         | 2.200212607e-02          | 0.4991813317970960062198 | 5.962544191e-27          |\n",
       "| 0.49646179504743         | 2.938635525e-12          | 0.5019434374359653672215 | 4.973810619e-37          |\n",
       "| 0.99994961482921         | 1.132393035e-17          | 0.0001758387960484552551 | 7.023772887e-64          |\n",
       "| 0.49646179504743         | 2.938635525e-12          | 0.5019434374359653672215 | 4.973810619e-37          |\n",
       "| 0.49683013315078         | 2.200212607e-02          | 0.4991813317970960062198 | 5.962544191e-27          |\n",
       "| 0.04247410540973         | 9.572093074e-01          | 0.0743086413548127433515 | 3.396112614e-11          |\n",
       "| 0.00023085766951         | 8.866034321e-09          | 0.0524916275575551399823 | 1.000000000e+00          |\n",
       "| 0.00021809218511         | 2.831147663e-02          | 0.0026979442405836869499 | 1.000000000e+00          |\n",
       "| 0.00003336715205         | 7.500375396e-06          | 0.0025767428979837259280 | 1.000000000e+00          |\n",
       "\n"
      ],
      "text/plain": [
       "   A                B               C                        D              \n",
       "1  0.04888874596446 3.567474948e-10 0.9082869233269880160364 9.318984533e-12\n",
       "2  0.99952014386789 4.182325017e-05 0.0000000000001233017590 2.928937816e-87\n",
       "3  0.02409949988259 9.904904962e-01 0.0000000000002117553375 5.870370572e-70\n",
       "4  0.49683013315078 2.200212607e-02 0.4991813317970960062198 5.962544191e-27\n",
       "5  0.49646179504743 2.938635525e-12 0.5019434374359653672215 4.973810619e-37\n",
       "6  0.99994961482921 1.132393035e-17 0.0001758387960484552551 7.023772887e-64\n",
       "7  0.49646179504743 2.938635525e-12 0.5019434374359653672215 4.973810619e-37\n",
       "8  0.49683013315078 2.200212607e-02 0.4991813317970960062198 5.962544191e-27\n",
       "9  0.04247410540973 9.572093074e-01 0.0743086413548127433515 3.396112614e-11\n",
       "10 0.00023085766951 8.866034321e-09 0.0524916275575551399823 1.000000000e+00\n",
       "11 0.00021809218511 2.831147663e-02 0.0026979442405836869499 1.000000000e+00\n",
       "12 0.00003336715205 7.500375396e-06 0.0025767428979837259280 1.000000000e+00"
      ]
     },
     "metadata": {},
     "output_type": "display_data"
    }
   ],
   "source": []
  },
  {
   "cell_type": "code",
   "execution_count": 10,
   "metadata": {},
   "outputs": [
    {
     "data": {
      "text/html": [
       "<table>\n",
       "<thead><tr><th scope=col>A</th><th scope=col>B</th><th scope=col>C</th><th scope=col>D</th></tr></thead>\n",
       "<tbody>\n",
       "\t<tr><td>0.1392399694      </td><td>0.0001531559322   </td><td>0.0000000809140412</td><td>7.347392214e-57   </td></tr>\n",
       "</tbody>\n",
       "</table>\n"
      ],
      "text/latex": [
       "\\begin{tabular}{r|llll}\n",
       " A & B & C & D\\\\\n",
       "\\hline\n",
       "\t 0.1392399694       & 0.0001531559322    & 0.0000000809140412 & 7.347392214e-57   \\\\\n",
       "\\end{tabular}\n"
      ],
      "text/markdown": [
       "\n",
       "| A | B | C | D |\n",
       "|---|---|---|---|\n",
       "| 0.1392399694       | 0.0001531559322    | 0.0000000809140412 | 7.347392214e-57    |\n",
       "\n"
      ],
      "text/plain": [
       "  A            B               C                  D              \n",
       "1 0.1392399694 0.0001531559322 0.0000000809140412 7.347392214e-57"
      ]
     },
     "metadata": {},
     "output_type": "display_data"
    },
    {
     "data": {
      "text/html": [
       "A\n",
       "<details>\n",
       "\t<summary style=display:list-item;cursor:pointer>\n",
       "\t\t<strong>Levels</strong>:\n",
       "\t</summary>\n",
       "\t<ol class=list-inline>\n",
       "\t\t<li>'A'</li>\n",
       "\t\t<li>'B'</li>\n",
       "\t\t<li>'C'</li>\n",
       "\t\t<li>'D'</li>\n",
       "\t</ol>\n",
       "</details>"
      ],
      "text/latex": [
       "A\n",
       "\\emph{Levels}: \\begin{enumerate*}\n",
       "\\item 'A'\n",
       "\\item 'B'\n",
       "\\item 'C'\n",
       "\\item 'D'\n",
       "\\end{enumerate*}\n"
      ],
      "text/markdown": [
       "A\n",
       "**Levels**: 1. 'A'\n",
       "2. 'B'\n",
       "3. 'C'\n",
       "4. 'D'\n",
       "\n",
       "\n"
      ],
      "text/plain": [
       "[1] A\n",
       "Levels: A B C D"
      ]
     },
     "metadata": {},
     "output_type": "display_data"
    }
   ],
   "source": []
  },
  {
   "cell_type": "markdown",
   "metadata": {},
   "source": [
    "## Problem 3\n",
    "\n",
    "Build a multi-class support vector machine model based on `data` to predict class given x1 and x2, using the one vs. many approach.  Show the one vs. many datasets derived from `data`.  \n",
    "\n",
    "Use the model to predict `new`'s class.  Show the probabilities resulting from each one vs. many model.  Show the probabilities for class values organized into one data frame.    \n",
    "\n",
    "You may want to use these function(s):\n",
    "* factor()\n",
    "* set.seed()\n",
    "* svm()\n",
    "* as.data.frame()\n",
    "* attr()\n",
    "* predict()\n",
    "* pick()\n",
    "\n",
    "Use `svm(..., ..., type=\"C-classification\", kernel=\"polynomial\", degree=3, coef0=0, gamma=0.25, cost=10, scale=FALSE, probability=TRUE)` to build the requisite models - preceed each use of `svm` with `set.seed(12345)`.  Use `as.data.frame(attr(predict(..., ..., probability=TRUE), \"probabilities\"))` to get the probabilities calculated by the models."
   ]
  },
  {
   "cell_type": "code",
   "execution_count": 11,
   "metadata": {
    "scrolled": false
   },
   "outputs": [
    {
     "data": {
      "text/html": [
       "<table>\n",
       "<thead><tr><th scope=col>x1</th><th scope=col>x2</th><th scope=col>class</th></tr></thead>\n",
       "<tbody>\n",
       "\t<tr><td>3    </td><td>2    </td><td>other</td></tr>\n",
       "\t<tr><td>1    </td><td>5    </td><td>A    </td></tr>\n",
       "\t<tr><td>2    </td><td>4    </td><td>other</td></tr>\n",
       "\t<tr><td>3    </td><td>3    </td><td>other</td></tr>\n",
       "\t<tr><td>2    </td><td>2    </td><td>A    </td></tr>\n",
       "\t<tr><td>1    </td><td>1    </td><td>A    </td></tr>\n",
       "\t<tr><td>2    </td><td>2    </td><td>other</td></tr>\n",
       "\t<tr><td>3    </td><td>3    </td><td>A    </td></tr>\n",
       "\t<tr><td>4    </td><td>3    </td><td>other</td></tr>\n",
       "\t<tr><td>4    </td><td>2    </td><td>other</td></tr>\n",
       "\t<tr><td>5    </td><td>3    </td><td>other</td></tr>\n",
       "\t<tr><td>5    </td><td>2    </td><td>other</td></tr>\n",
       "</tbody>\n",
       "</table>\n"
      ],
      "text/latex": [
       "\\begin{tabular}{r|lll}\n",
       " x1 & x2 & class\\\\\n",
       "\\hline\n",
       "\t 3     & 2     & other\\\\\n",
       "\t 1     & 5     & A    \\\\\n",
       "\t 2     & 4     & other\\\\\n",
       "\t 3     & 3     & other\\\\\n",
       "\t 2     & 2     & A    \\\\\n",
       "\t 1     & 1     & A    \\\\\n",
       "\t 2     & 2     & other\\\\\n",
       "\t 3     & 3     & A    \\\\\n",
       "\t 4     & 3     & other\\\\\n",
       "\t 4     & 2     & other\\\\\n",
       "\t 5     & 3     & other\\\\\n",
       "\t 5     & 2     & other\\\\\n",
       "\\end{tabular}\n"
      ],
      "text/markdown": [
       "\n",
       "| x1 | x2 | class |\n",
       "|---|---|---|\n",
       "| 3     | 2     | other |\n",
       "| 1     | 5     | A     |\n",
       "| 2     | 4     | other |\n",
       "| 3     | 3     | other |\n",
       "| 2     | 2     | A     |\n",
       "| 1     | 1     | A     |\n",
       "| 2     | 2     | other |\n",
       "| 3     | 3     | A     |\n",
       "| 4     | 3     | other |\n",
       "| 4     | 2     | other |\n",
       "| 5     | 3     | other |\n",
       "| 5     | 2     | other |\n",
       "\n"
      ],
      "text/plain": [
       "   x1 x2 class\n",
       "1  3  2  other\n",
       "2  1  5  A    \n",
       "3  2  4  other\n",
       "4  3  3  other\n",
       "5  2  2  A    \n",
       "6  1  1  A    \n",
       "7  2  2  other\n",
       "8  3  3  A    \n",
       "9  4  3  other\n",
       "10 4  2  other\n",
       "11 5  3  other\n",
       "12 5  2  other"
      ]
     },
     "metadata": {},
     "output_type": "display_data"
    }
   ],
   "source": []
  },
  {
   "cell_type": "code",
   "execution_count": 12,
   "metadata": {
    "scrolled": false
   },
   "outputs": [
    {
     "data": {
      "text/html": [
       "<table>\n",
       "<thead><tr><th scope=col>x1</th><th scope=col>x2</th><th scope=col>class</th></tr></thead>\n",
       "<tbody>\n",
       "\t<tr><td>3    </td><td>2    </td><td>other</td></tr>\n",
       "\t<tr><td>1    </td><td>5    </td><td>other</td></tr>\n",
       "\t<tr><td>2    </td><td>4    </td><td>B    </td></tr>\n",
       "\t<tr><td>3    </td><td>3    </td><td>other</td></tr>\n",
       "\t<tr><td>2    </td><td>2    </td><td>other</td></tr>\n",
       "\t<tr><td>1    </td><td>1    </td><td>other</td></tr>\n",
       "\t<tr><td>2    </td><td>2    </td><td>other</td></tr>\n",
       "\t<tr><td>3    </td><td>3    </td><td>other</td></tr>\n",
       "\t<tr><td>4    </td><td>3    </td><td>B    </td></tr>\n",
       "\t<tr><td>4    </td><td>2    </td><td>other</td></tr>\n",
       "\t<tr><td>5    </td><td>3    </td><td>other</td></tr>\n",
       "\t<tr><td>5    </td><td>2    </td><td>other</td></tr>\n",
       "</tbody>\n",
       "</table>\n"
      ],
      "text/latex": [
       "\\begin{tabular}{r|lll}\n",
       " x1 & x2 & class\\\\\n",
       "\\hline\n",
       "\t 3     & 2     & other\\\\\n",
       "\t 1     & 5     & other\\\\\n",
       "\t 2     & 4     & B    \\\\\n",
       "\t 3     & 3     & other\\\\\n",
       "\t 2     & 2     & other\\\\\n",
       "\t 1     & 1     & other\\\\\n",
       "\t 2     & 2     & other\\\\\n",
       "\t 3     & 3     & other\\\\\n",
       "\t 4     & 3     & B    \\\\\n",
       "\t 4     & 2     & other\\\\\n",
       "\t 5     & 3     & other\\\\\n",
       "\t 5     & 2     & other\\\\\n",
       "\\end{tabular}\n"
      ],
      "text/markdown": [
       "\n",
       "| x1 | x2 | class |\n",
       "|---|---|---|\n",
       "| 3     | 2     | other |\n",
       "| 1     | 5     | other |\n",
       "| 2     | 4     | B     |\n",
       "| 3     | 3     | other |\n",
       "| 2     | 2     | other |\n",
       "| 1     | 1     | other |\n",
       "| 2     | 2     | other |\n",
       "| 3     | 3     | other |\n",
       "| 4     | 3     | B     |\n",
       "| 4     | 2     | other |\n",
       "| 5     | 3     | other |\n",
       "| 5     | 2     | other |\n",
       "\n"
      ],
      "text/plain": [
       "   x1 x2 class\n",
       "1  3  2  other\n",
       "2  1  5  other\n",
       "3  2  4  B    \n",
       "4  3  3  other\n",
       "5  2  2  other\n",
       "6  1  1  other\n",
       "7  2  2  other\n",
       "8  3  3  other\n",
       "9  4  3  B    \n",
       "10 4  2  other\n",
       "11 5  3  other\n",
       "12 5  2  other"
      ]
     },
     "metadata": {},
     "output_type": "display_data"
    }
   ],
   "source": []
  },
  {
   "cell_type": "code",
   "execution_count": 13,
   "metadata": {
    "scrolled": false
   },
   "outputs": [
    {
     "data": {
      "text/html": [
       "<table>\n",
       "<thead><tr><th scope=col>x1</th><th scope=col>x2</th><th scope=col>class</th></tr></thead>\n",
       "<tbody>\n",
       "\t<tr><td>3    </td><td>2    </td><td>C    </td></tr>\n",
       "\t<tr><td>1    </td><td>5    </td><td>other</td></tr>\n",
       "\t<tr><td>2    </td><td>4    </td><td>other</td></tr>\n",
       "\t<tr><td>3    </td><td>3    </td><td>C    </td></tr>\n",
       "\t<tr><td>2    </td><td>2    </td><td>other</td></tr>\n",
       "\t<tr><td>1    </td><td>1    </td><td>other</td></tr>\n",
       "\t<tr><td>2    </td><td>2    </td><td>C    </td></tr>\n",
       "\t<tr><td>3    </td><td>3    </td><td>other</td></tr>\n",
       "\t<tr><td>4    </td><td>3    </td><td>other</td></tr>\n",
       "\t<tr><td>4    </td><td>2    </td><td>other</td></tr>\n",
       "\t<tr><td>5    </td><td>3    </td><td>other</td></tr>\n",
       "\t<tr><td>5    </td><td>2    </td><td>other</td></tr>\n",
       "</tbody>\n",
       "</table>\n"
      ],
      "text/latex": [
       "\\begin{tabular}{r|lll}\n",
       " x1 & x2 & class\\\\\n",
       "\\hline\n",
       "\t 3     & 2     & C    \\\\\n",
       "\t 1     & 5     & other\\\\\n",
       "\t 2     & 4     & other\\\\\n",
       "\t 3     & 3     & C    \\\\\n",
       "\t 2     & 2     & other\\\\\n",
       "\t 1     & 1     & other\\\\\n",
       "\t 2     & 2     & C    \\\\\n",
       "\t 3     & 3     & other\\\\\n",
       "\t 4     & 3     & other\\\\\n",
       "\t 4     & 2     & other\\\\\n",
       "\t 5     & 3     & other\\\\\n",
       "\t 5     & 2     & other\\\\\n",
       "\\end{tabular}\n"
      ],
      "text/markdown": [
       "\n",
       "| x1 | x2 | class |\n",
       "|---|---|---|\n",
       "| 3     | 2     | C     |\n",
       "| 1     | 5     | other |\n",
       "| 2     | 4     | other |\n",
       "| 3     | 3     | C     |\n",
       "| 2     | 2     | other |\n",
       "| 1     | 1     | other |\n",
       "| 2     | 2     | C     |\n",
       "| 3     | 3     | other |\n",
       "| 4     | 3     | other |\n",
       "| 4     | 2     | other |\n",
       "| 5     | 3     | other |\n",
       "| 5     | 2     | other |\n",
       "\n"
      ],
      "text/plain": [
       "   x1 x2 class\n",
       "1  3  2  C    \n",
       "2  1  5  other\n",
       "3  2  4  other\n",
       "4  3  3  C    \n",
       "5  2  2  other\n",
       "6  1  1  other\n",
       "7  2  2  C    \n",
       "8  3  3  other\n",
       "9  4  3  other\n",
       "10 4  2  other\n",
       "11 5  3  other\n",
       "12 5  2  other"
      ]
     },
     "metadata": {},
     "output_type": "display_data"
    }
   ],
   "source": []
  },
  {
   "cell_type": "code",
   "execution_count": 14,
   "metadata": {
    "scrolled": false
   },
   "outputs": [
    {
     "data": {
      "text/html": [
       "<table>\n",
       "<thead><tr><th scope=col>x1</th><th scope=col>x2</th><th scope=col>class</th></tr></thead>\n",
       "<tbody>\n",
       "\t<tr><td>3    </td><td>2    </td><td>other</td></tr>\n",
       "\t<tr><td>1    </td><td>5    </td><td>other</td></tr>\n",
       "\t<tr><td>2    </td><td>4    </td><td>other</td></tr>\n",
       "\t<tr><td>3    </td><td>3    </td><td>other</td></tr>\n",
       "\t<tr><td>2    </td><td>2    </td><td>other</td></tr>\n",
       "\t<tr><td>1    </td><td>1    </td><td>other</td></tr>\n",
       "\t<tr><td>2    </td><td>2    </td><td>other</td></tr>\n",
       "\t<tr><td>3    </td><td>3    </td><td>other</td></tr>\n",
       "\t<tr><td>4    </td><td>3    </td><td>other</td></tr>\n",
       "\t<tr><td>4    </td><td>2    </td><td>D    </td></tr>\n",
       "\t<tr><td>5    </td><td>3    </td><td>D    </td></tr>\n",
       "\t<tr><td>5    </td><td>2    </td><td>D    </td></tr>\n",
       "</tbody>\n",
       "</table>\n"
      ],
      "text/latex": [
       "\\begin{tabular}{r|lll}\n",
       " x1 & x2 & class\\\\\n",
       "\\hline\n",
       "\t 3     & 2     & other\\\\\n",
       "\t 1     & 5     & other\\\\\n",
       "\t 2     & 4     & other\\\\\n",
       "\t 3     & 3     & other\\\\\n",
       "\t 2     & 2     & other\\\\\n",
       "\t 1     & 1     & other\\\\\n",
       "\t 2     & 2     & other\\\\\n",
       "\t 3     & 3     & other\\\\\n",
       "\t 4     & 3     & other\\\\\n",
       "\t 4     & 2     & D    \\\\\n",
       "\t 5     & 3     & D    \\\\\n",
       "\t 5     & 2     & D    \\\\\n",
       "\\end{tabular}\n"
      ],
      "text/markdown": [
       "\n",
       "| x1 | x2 | class |\n",
       "|---|---|---|\n",
       "| 3     | 2     | other |\n",
       "| 1     | 5     | other |\n",
       "| 2     | 4     | other |\n",
       "| 3     | 3     | other |\n",
       "| 2     | 2     | other |\n",
       "| 1     | 1     | other |\n",
       "| 2     | 2     | other |\n",
       "| 3     | 3     | other |\n",
       "| 4     | 3     | other |\n",
       "| 4     | 2     | D     |\n",
       "| 5     | 3     | D     |\n",
       "| 5     | 2     | D     |\n",
       "\n"
      ],
      "text/plain": [
       "   x1 x2 class\n",
       "1  3  2  other\n",
       "2  1  5  other\n",
       "3  2  4  other\n",
       "4  3  3  other\n",
       "5  2  2  other\n",
       "6  1  1  other\n",
       "7  2  2  other\n",
       "8  3  3  other\n",
       "9  4  3  other\n",
       "10 4  2  D    \n",
       "11 5  3  D    \n",
       "12 5  2  D    "
      ]
     },
     "metadata": {},
     "output_type": "display_data"
    }
   ],
   "source": []
  },
  {
   "cell_type": "code",
   "execution_count": 15,
   "metadata": {},
   "outputs": [],
   "source": []
  },
  {
   "cell_type": "code",
   "execution_count": 16,
   "metadata": {},
   "outputs": [
    {
     "data": {
      "text/html": [
       "<table>\n",
       "<thead><tr><th scope=col>other</th><th scope=col>A</th></tr></thead>\n",
       "<tbody>\n",
       "\t<tr><td>0.5999642545</td><td>0.4000357455</td></tr>\n",
       "</tbody>\n",
       "</table>\n"
      ],
      "text/latex": [
       "\\begin{tabular}{r|ll}\n",
       " other & A\\\\\n",
       "\\hline\n",
       "\t 0.5999642545 & 0.4000357455\\\\\n",
       "\\end{tabular}\n"
      ],
      "text/markdown": [
       "\n",
       "| other | A |\n",
       "|---|---|\n",
       "| 0.5999642545 | 0.4000357455 |\n",
       "\n"
      ],
      "text/plain": [
       "  other        A           \n",
       "1 0.5999642545 0.4000357455"
      ]
     },
     "metadata": {},
     "output_type": "display_data"
    },
    {
     "data": {
      "text/html": [
       "<table>\n",
       "<thead><tr><th scope=col>other</th><th scope=col>B</th></tr></thead>\n",
       "<tbody>\n",
       "\t<tr><td>0.8095793817</td><td>0.1904206183</td></tr>\n",
       "</tbody>\n",
       "</table>\n"
      ],
      "text/latex": [
       "\\begin{tabular}{r|ll}\n",
       " other & B\\\\\n",
       "\\hline\n",
       "\t 0.8095793817 & 0.1904206183\\\\\n",
       "\\end{tabular}\n"
      ],
      "text/markdown": [
       "\n",
       "| other | B |\n",
       "|---|---|\n",
       "| 0.8095793817 | 0.1904206183 |\n",
       "\n"
      ],
      "text/plain": [
       "  other        B           \n",
       "1 0.8095793817 0.1904206183"
      ]
     },
     "metadata": {},
     "output_type": "display_data"
    },
    {
     "data": {
      "text/html": [
       "<table>\n",
       "<thead><tr><th scope=col>C</th><th scope=col>other</th></tr></thead>\n",
       "<tbody>\n",
       "\t<tr><td>0.2692712963</td><td>0.7307287037</td></tr>\n",
       "</tbody>\n",
       "</table>\n"
      ],
      "text/latex": [
       "\\begin{tabular}{r|ll}\n",
       " C & other\\\\\n",
       "\\hline\n",
       "\t 0.2692712963 & 0.7307287037\\\\\n",
       "\\end{tabular}\n"
      ],
      "text/markdown": [
       "\n",
       "| C | other |\n",
       "|---|---|\n",
       "| 0.2692712963 | 0.7307287037 |\n",
       "\n"
      ],
      "text/plain": [
       "  C            other       \n",
       "1 0.2692712963 0.7307287037"
      ]
     },
     "metadata": {},
     "output_type": "display_data"
    },
    {
     "data": {
      "text/html": [
       "<table>\n",
       "<thead><tr><th scope=col>other</th><th scope=col>D</th></tr></thead>\n",
       "<tbody>\n",
       "\t<tr><td>0.9034698479 </td><td>0.09653015212</td></tr>\n",
       "</tbody>\n",
       "</table>\n"
      ],
      "text/latex": [
       "\\begin{tabular}{r|ll}\n",
       " other & D\\\\\n",
       "\\hline\n",
       "\t 0.9034698479  & 0.09653015212\\\\\n",
       "\\end{tabular}\n"
      ],
      "text/markdown": [
       "\n",
       "| other | D |\n",
       "|---|---|\n",
       "| 0.9034698479  | 0.09653015212 |\n",
       "\n"
      ],
      "text/plain": [
       "  other        D            \n",
       "1 0.9034698479 0.09653015212"
      ]
     },
     "metadata": {},
     "output_type": "display_data"
    }
   ],
   "source": []
  },
  {
   "cell_type": "code",
   "execution_count": 17,
   "metadata": {},
   "outputs": [
    {
     "data": {
      "text/html": [
       "<table>\n",
       "<thead><tr><th scope=col>A</th><th scope=col>B</th><th scope=col>C</th><th scope=col>D</th></tr></thead>\n",
       "<tbody>\n",
       "\t<tr><td>0.4000357455 </td><td>0.1904206183 </td><td>0.2692712963 </td><td>0.09653015212</td></tr>\n",
       "</tbody>\n",
       "</table>\n"
      ],
      "text/latex": [
       "\\begin{tabular}{r|llll}\n",
       " A & B & C & D\\\\\n",
       "\\hline\n",
       "\t 0.4000357455  & 0.1904206183  & 0.2692712963  & 0.09653015212\\\\\n",
       "\\end{tabular}\n"
      ],
      "text/markdown": [
       "\n",
       "| A | B | C | D |\n",
       "|---|---|---|---|\n",
       "| 0.4000357455  | 0.1904206183  | 0.2692712963  | 0.09653015212 |\n",
       "\n"
      ],
      "text/plain": [
       "  A            B            C            D            \n",
       "1 0.4000357455 0.1904206183 0.2692712963 0.09653015212"
      ]
     },
     "metadata": {},
     "output_type": "display_data"
    }
   ],
   "source": []
  },
  {
   "cell_type": "code",
   "execution_count": 18,
   "metadata": {},
   "outputs": [
    {
     "data": {
      "text/html": [
       "A\n",
       "<details>\n",
       "\t<summary style=display:list-item;cursor:pointer>\n",
       "\t\t<strong>Levels</strong>:\n",
       "\t</summary>\n",
       "\t<ol class=list-inline>\n",
       "\t\t<li>'A'</li>\n",
       "\t\t<li>'B'</li>\n",
       "\t\t<li>'C'</li>\n",
       "\t\t<li>'D'</li>\n",
       "\t</ol>\n",
       "</details>"
      ],
      "text/latex": [
       "A\n",
       "\\emph{Levels}: \\begin{enumerate*}\n",
       "\\item 'A'\n",
       "\\item 'B'\n",
       "\\item 'C'\n",
       "\\item 'D'\n",
       "\\end{enumerate*}\n"
      ],
      "text/markdown": [
       "A\n",
       "**Levels**: 1. 'A'\n",
       "2. 'B'\n",
       "3. 'C'\n",
       "4. 'D'\n",
       "\n",
       "\n"
      ],
      "text/plain": [
       "[1] A\n",
       "Levels: A B C D"
      ]
     },
     "metadata": {},
     "output_type": "display_data"
    }
   ],
   "source": []
  },
  {
   "cell_type": "markdown",
   "metadata": {},
   "source": [
    "## Problem 4\n",
    "\n",
    "Build a multi-class support vector machine model based on `data` to predict class given x1 and x2, using the one vs. one approach.  Show the one vs. one datasets derived from `data`.  \n",
    "\n",
    "Use the model to predict `new`'s class.  Show the probabilities resulting from each one vs. one model.\n",
    "\n",
    "You may want to use these function(s):\n",
    "* set.seed()\n",
    "* svm()\n",
    "* as.data.frame()\n",
    "* attr()\n",
    "* predict()\n",
    "* round_robin()\n",
    "\n",
    "Use `svm(..., ..., type=\"C-classification\", kernel=\"polynomial\", degree=3, coef0=0, gamma=0.25, cost=10, scale=FALSE, probability=TRUE)` to build the requisite models - preceed each use of `svm` with `set.seed(12345)`.  Use `as.data.frame(attr(predict(..., ..., probability=TRUE), \"probabilities\"))` to get the probabilities calculated by the models."
   ]
  },
  {
   "cell_type": "code",
   "execution_count": 19,
   "metadata": {
    "scrolled": true
   },
   "outputs": [
    {
     "data": {
      "text/html": [
       "<table>\n",
       "<thead><tr><th></th><th scope=col>x1</th><th scope=col>x2</th><th scope=col>class</th></tr></thead>\n",
       "<tbody>\n",
       "\t<tr><th scope=row>2</th><td>1</td><td>5</td><td>A</td></tr>\n",
       "\t<tr><th scope=row>3</th><td>2</td><td>4</td><td>B</td></tr>\n",
       "\t<tr><th scope=row>5</th><td>2</td><td>2</td><td>A</td></tr>\n",
       "\t<tr><th scope=row>6</th><td>1</td><td>1</td><td>A</td></tr>\n",
       "\t<tr><th scope=row>8</th><td>3</td><td>3</td><td>A</td></tr>\n",
       "\t<tr><th scope=row>9</th><td>4</td><td>3</td><td>B</td></tr>\n",
       "</tbody>\n",
       "</table>\n"
      ],
      "text/latex": [
       "\\begin{tabular}{r|lll}\n",
       "  & x1 & x2 & class\\\\\n",
       "\\hline\n",
       "\t2 & 1 & 5 & A\\\\\n",
       "\t3 & 2 & 4 & B\\\\\n",
       "\t5 & 2 & 2 & A\\\\\n",
       "\t6 & 1 & 1 & A\\\\\n",
       "\t8 & 3 & 3 & A\\\\\n",
       "\t9 & 4 & 3 & B\\\\\n",
       "\\end{tabular}\n"
      ],
      "text/markdown": [
       "\n",
       "| <!--/--> | x1 | x2 | class |\n",
       "|---|---|---|---|\n",
       "| 2 | 1 | 5 | A |\n",
       "| 3 | 2 | 4 | B |\n",
       "| 5 | 2 | 2 | A |\n",
       "| 6 | 1 | 1 | A |\n",
       "| 8 | 3 | 3 | A |\n",
       "| 9 | 4 | 3 | B |\n",
       "\n"
      ],
      "text/plain": [
       "  x1 x2 class\n",
       "2 1  5  A    \n",
       "3 2  4  B    \n",
       "5 2  2  A    \n",
       "6 1  1  A    \n",
       "8 3  3  A    \n",
       "9 4  3  B    "
      ]
     },
     "metadata": {},
     "output_type": "display_data"
    }
   ],
   "source": []
  },
  {
   "cell_type": "code",
   "execution_count": 20,
   "metadata": {
    "scrolled": true
   },
   "outputs": [
    {
     "data": {
      "text/html": [
       "<table>\n",
       "<thead><tr><th></th><th scope=col>x1</th><th scope=col>x2</th><th scope=col>class</th></tr></thead>\n",
       "<tbody>\n",
       "\t<tr><th scope=row>1</th><td>3</td><td>2</td><td>C</td></tr>\n",
       "\t<tr><th scope=row>2</th><td>1</td><td>5</td><td>A</td></tr>\n",
       "\t<tr><th scope=row>4</th><td>3</td><td>3</td><td>C</td></tr>\n",
       "\t<tr><th scope=row>5</th><td>2</td><td>2</td><td>A</td></tr>\n",
       "\t<tr><th scope=row>6</th><td>1</td><td>1</td><td>A</td></tr>\n",
       "\t<tr><th scope=row>7</th><td>2</td><td>2</td><td>C</td></tr>\n",
       "\t<tr><th scope=row>8</th><td>3</td><td>3</td><td>A</td></tr>\n",
       "</tbody>\n",
       "</table>\n"
      ],
      "text/latex": [
       "\\begin{tabular}{r|lll}\n",
       "  & x1 & x2 & class\\\\\n",
       "\\hline\n",
       "\t1 & 3 & 2 & C\\\\\n",
       "\t2 & 1 & 5 & A\\\\\n",
       "\t4 & 3 & 3 & C\\\\\n",
       "\t5 & 2 & 2 & A\\\\\n",
       "\t6 & 1 & 1 & A\\\\\n",
       "\t7 & 2 & 2 & C\\\\\n",
       "\t8 & 3 & 3 & A\\\\\n",
       "\\end{tabular}\n"
      ],
      "text/markdown": [
       "\n",
       "| <!--/--> | x1 | x2 | class |\n",
       "|---|---|---|---|\n",
       "| 1 | 3 | 2 | C |\n",
       "| 2 | 1 | 5 | A |\n",
       "| 4 | 3 | 3 | C |\n",
       "| 5 | 2 | 2 | A |\n",
       "| 6 | 1 | 1 | A |\n",
       "| 7 | 2 | 2 | C |\n",
       "| 8 | 3 | 3 | A |\n",
       "\n"
      ],
      "text/plain": [
       "  x1 x2 class\n",
       "1 3  2  C    \n",
       "2 1  5  A    \n",
       "4 3  3  C    \n",
       "5 2  2  A    \n",
       "6 1  1  A    \n",
       "7 2  2  C    \n",
       "8 3  3  A    "
      ]
     },
     "metadata": {},
     "output_type": "display_data"
    }
   ],
   "source": []
  },
  {
   "cell_type": "code",
   "execution_count": 21,
   "metadata": {
    "scrolled": true
   },
   "outputs": [
    {
     "data": {
      "text/html": [
       "<table>\n",
       "<thead><tr><th></th><th scope=col>x1</th><th scope=col>x2</th><th scope=col>class</th></tr></thead>\n",
       "<tbody>\n",
       "\t<tr><th scope=row>2</th><td>1</td><td>5</td><td>A</td></tr>\n",
       "\t<tr><th scope=row>5</th><td>2</td><td>2</td><td>A</td></tr>\n",
       "\t<tr><th scope=row>6</th><td>1</td><td>1</td><td>A</td></tr>\n",
       "\t<tr><th scope=row>8</th><td>3</td><td>3</td><td>A</td></tr>\n",
       "\t<tr><th scope=row>10</th><td>4</td><td>2</td><td>D</td></tr>\n",
       "\t<tr><th scope=row>11</th><td>5</td><td>3</td><td>D</td></tr>\n",
       "\t<tr><th scope=row>12</th><td>5</td><td>2</td><td>D</td></tr>\n",
       "</tbody>\n",
       "</table>\n"
      ],
      "text/latex": [
       "\\begin{tabular}{r|lll}\n",
       "  & x1 & x2 & class\\\\\n",
       "\\hline\n",
       "\t2 & 1 & 5 & A\\\\\n",
       "\t5 & 2 & 2 & A\\\\\n",
       "\t6 & 1 & 1 & A\\\\\n",
       "\t8 & 3 & 3 & A\\\\\n",
       "\t10 & 4 & 2 & D\\\\\n",
       "\t11 & 5 & 3 & D\\\\\n",
       "\t12 & 5 & 2 & D\\\\\n",
       "\\end{tabular}\n"
      ],
      "text/markdown": [
       "\n",
       "| <!--/--> | x1 | x2 | class |\n",
       "|---|---|---|---|\n",
       "| 2 | 1 | 5 | A |\n",
       "| 5 | 2 | 2 | A |\n",
       "| 6 | 1 | 1 | A |\n",
       "| 8 | 3 | 3 | A |\n",
       "| 10 | 4 | 2 | D |\n",
       "| 11 | 5 | 3 | D |\n",
       "| 12 | 5 | 2 | D |\n",
       "\n"
      ],
      "text/plain": [
       "   x1 x2 class\n",
       "2  1  5  A    \n",
       "5  2  2  A    \n",
       "6  1  1  A    \n",
       "8  3  3  A    \n",
       "10 4  2  D    \n",
       "11 5  3  D    \n",
       "12 5  2  D    "
      ]
     },
     "metadata": {},
     "output_type": "display_data"
    }
   ],
   "source": []
  },
  {
   "cell_type": "code",
   "execution_count": 22,
   "metadata": {
    "scrolled": true
   },
   "outputs": [
    {
     "data": {
      "text/html": [
       "<table>\n",
       "<thead><tr><th></th><th scope=col>x1</th><th scope=col>x2</th><th scope=col>class</th></tr></thead>\n",
       "<tbody>\n",
       "\t<tr><th scope=row>1</th><td>3</td><td>2</td><td>C</td></tr>\n",
       "\t<tr><th scope=row>3</th><td>2</td><td>4</td><td>B</td></tr>\n",
       "\t<tr><th scope=row>4</th><td>3</td><td>3</td><td>C</td></tr>\n",
       "\t<tr><th scope=row>7</th><td>2</td><td>2</td><td>C</td></tr>\n",
       "\t<tr><th scope=row>9</th><td>4</td><td>3</td><td>B</td></tr>\n",
       "</tbody>\n",
       "</table>\n"
      ],
      "text/latex": [
       "\\begin{tabular}{r|lll}\n",
       "  & x1 & x2 & class\\\\\n",
       "\\hline\n",
       "\t1 & 3 & 2 & C\\\\\n",
       "\t3 & 2 & 4 & B\\\\\n",
       "\t4 & 3 & 3 & C\\\\\n",
       "\t7 & 2 & 2 & C\\\\\n",
       "\t9 & 4 & 3 & B\\\\\n",
       "\\end{tabular}\n"
      ],
      "text/markdown": [
       "\n",
       "| <!--/--> | x1 | x2 | class |\n",
       "|---|---|---|---|\n",
       "| 1 | 3 | 2 | C |\n",
       "| 3 | 2 | 4 | B |\n",
       "| 4 | 3 | 3 | C |\n",
       "| 7 | 2 | 2 | C |\n",
       "| 9 | 4 | 3 | B |\n",
       "\n"
      ],
      "text/plain": [
       "  x1 x2 class\n",
       "1 3  2  C    \n",
       "3 2  4  B    \n",
       "4 3  3  C    \n",
       "7 2  2  C    \n",
       "9 4  3  B    "
      ]
     },
     "metadata": {},
     "output_type": "display_data"
    }
   ],
   "source": []
  },
  {
   "cell_type": "code",
   "execution_count": 23,
   "metadata": {
    "scrolled": true
   },
   "outputs": [
    {
     "data": {
      "text/html": [
       "<table>\n",
       "<thead><tr><th></th><th scope=col>x1</th><th scope=col>x2</th><th scope=col>class</th></tr></thead>\n",
       "<tbody>\n",
       "\t<tr><th scope=row>3</th><td>2</td><td>4</td><td>B</td></tr>\n",
       "\t<tr><th scope=row>9</th><td>4</td><td>3</td><td>B</td></tr>\n",
       "\t<tr><th scope=row>10</th><td>4</td><td>2</td><td>D</td></tr>\n",
       "\t<tr><th scope=row>11</th><td>5</td><td>3</td><td>D</td></tr>\n",
       "\t<tr><th scope=row>12</th><td>5</td><td>2</td><td>D</td></tr>\n",
       "</tbody>\n",
       "</table>\n"
      ],
      "text/latex": [
       "\\begin{tabular}{r|lll}\n",
       "  & x1 & x2 & class\\\\\n",
       "\\hline\n",
       "\t3 & 2 & 4 & B\\\\\n",
       "\t9 & 4 & 3 & B\\\\\n",
       "\t10 & 4 & 2 & D\\\\\n",
       "\t11 & 5 & 3 & D\\\\\n",
       "\t12 & 5 & 2 & D\\\\\n",
       "\\end{tabular}\n"
      ],
      "text/markdown": [
       "\n",
       "| <!--/--> | x1 | x2 | class |\n",
       "|---|---|---|---|\n",
       "| 3 | 2 | 4 | B |\n",
       "| 9 | 4 | 3 | B |\n",
       "| 10 | 4 | 2 | D |\n",
       "| 11 | 5 | 3 | D |\n",
       "| 12 | 5 | 2 | D |\n",
       "\n"
      ],
      "text/plain": [
       "   x1 x2 class\n",
       "3  2  4  B    \n",
       "9  4  3  B    \n",
       "10 4  2  D    \n",
       "11 5  3  D    \n",
       "12 5  2  D    "
      ]
     },
     "metadata": {},
     "output_type": "display_data"
    }
   ],
   "source": []
  },
  {
   "cell_type": "code",
   "execution_count": 24,
   "metadata": {
    "scrolled": true
   },
   "outputs": [
    {
     "data": {
      "text/html": [
       "<table>\n",
       "<thead><tr><th></th><th scope=col>x1</th><th scope=col>x2</th><th scope=col>class</th></tr></thead>\n",
       "<tbody>\n",
       "\t<tr><th scope=row>1</th><td>3</td><td>2</td><td>C</td></tr>\n",
       "\t<tr><th scope=row>4</th><td>3</td><td>3</td><td>C</td></tr>\n",
       "\t<tr><th scope=row>7</th><td>2</td><td>2</td><td>C</td></tr>\n",
       "\t<tr><th scope=row>10</th><td>4</td><td>2</td><td>D</td></tr>\n",
       "\t<tr><th scope=row>11</th><td>5</td><td>3</td><td>D</td></tr>\n",
       "\t<tr><th scope=row>12</th><td>5</td><td>2</td><td>D</td></tr>\n",
       "</tbody>\n",
       "</table>\n"
      ],
      "text/latex": [
       "\\begin{tabular}{r|lll}\n",
       "  & x1 & x2 & class\\\\\n",
       "\\hline\n",
       "\t1 & 3 & 2 & C\\\\\n",
       "\t4 & 3 & 3 & C\\\\\n",
       "\t7 & 2 & 2 & C\\\\\n",
       "\t10 & 4 & 2 & D\\\\\n",
       "\t11 & 5 & 3 & D\\\\\n",
       "\t12 & 5 & 2 & D\\\\\n",
       "\\end{tabular}\n"
      ],
      "text/markdown": [
       "\n",
       "| <!--/--> | x1 | x2 | class |\n",
       "|---|---|---|---|\n",
       "| 1 | 3 | 2 | C |\n",
       "| 4 | 3 | 3 | C |\n",
       "| 7 | 2 | 2 | C |\n",
       "| 10 | 4 | 2 | D |\n",
       "| 11 | 5 | 3 | D |\n",
       "| 12 | 5 | 2 | D |\n",
       "\n"
      ],
      "text/plain": [
       "   x1 x2 class\n",
       "1  3  2  C    \n",
       "4  3  3  C    \n",
       "7  2  2  C    \n",
       "10 4  2  D    \n",
       "11 5  3  D    \n",
       "12 5  2  D    "
      ]
     },
     "metadata": {},
     "output_type": "display_data"
    }
   ],
   "source": []
  },
  {
   "cell_type": "code",
   "execution_count": 25,
   "metadata": {},
   "outputs": [],
   "source": []
  },
  {
   "cell_type": "code",
   "execution_count": 26,
   "metadata": {},
   "outputs": [
    {
     "data": {
      "text/html": [
       "<table>\n",
       "<thead><tr><th scope=col>A</th><th scope=col>B</th></tr></thead>\n",
       "<tbody>\n",
       "\t<tr><td>0.6404645907</td><td>0.3595354093</td></tr>\n",
       "</tbody>\n",
       "</table>\n"
      ],
      "text/latex": [
       "\\begin{tabular}{r|ll}\n",
       " A & B\\\\\n",
       "\\hline\n",
       "\t 0.6404645907 & 0.3595354093\\\\\n",
       "\\end{tabular}\n"
      ],
      "text/markdown": [
       "\n",
       "| A | B |\n",
       "|---|---|\n",
       "| 0.6404645907 | 0.3595354093 |\n",
       "\n"
      ],
      "text/plain": [
       "  A            B           \n",
       "1 0.6404645907 0.3595354093"
      ]
     },
     "metadata": {},
     "output_type": "display_data"
    },
    {
     "data": {
      "text/html": [
       "<table>\n",
       "<thead><tr><th scope=col>C</th><th scope=col>A</th></tr></thead>\n",
       "<tbody>\n",
       "\t<tr><td>0.4434059224</td><td>0.5565940776</td></tr>\n",
       "</tbody>\n",
       "</table>\n"
      ],
      "text/latex": [
       "\\begin{tabular}{r|ll}\n",
       " C & A\\\\\n",
       "\\hline\n",
       "\t 0.4434059224 & 0.5565940776\\\\\n",
       "\\end{tabular}\n"
      ],
      "text/markdown": [
       "\n",
       "| C | A |\n",
       "|---|---|\n",
       "| 0.4434059224 | 0.5565940776 |\n",
       "\n"
      ],
      "text/plain": [
       "  C            A           \n",
       "1 0.4434059224 0.5565940776"
      ]
     },
     "metadata": {},
     "output_type": "display_data"
    },
    {
     "data": {
      "text/html": [
       "<table>\n",
       "<thead><tr><th scope=col>A</th><th scope=col>D</th></tr></thead>\n",
       "<tbody>\n",
       "\t<tr><td>0.7677828007</td><td>0.2322171993</td></tr>\n",
       "</tbody>\n",
       "</table>\n"
      ],
      "text/latex": [
       "\\begin{tabular}{r|ll}\n",
       " A & D\\\\\n",
       "\\hline\n",
       "\t 0.7677828007 & 0.2322171993\\\\\n",
       "\\end{tabular}\n"
      ],
      "text/markdown": [
       "\n",
       "| A | D |\n",
       "|---|---|\n",
       "| 0.7677828007 | 0.2322171993 |\n",
       "\n"
      ],
      "text/plain": [
       "  A            D           \n",
       "1 0.7677828007 0.2322171993"
      ]
     },
     "metadata": {},
     "output_type": "display_data"
    },
    {
     "data": {
      "text/html": [
       "<table>\n",
       "<thead><tr><th scope=col>C</th><th scope=col>B</th></tr></thead>\n",
       "<tbody>\n",
       "\t<tr><td>0.5834043897</td><td>0.4165956103</td></tr>\n",
       "</tbody>\n",
       "</table>\n"
      ],
      "text/latex": [
       "\\begin{tabular}{r|ll}\n",
       " C & B\\\\\n",
       "\\hline\n",
       "\t 0.5834043897 & 0.4165956103\\\\\n",
       "\\end{tabular}\n"
      ],
      "text/markdown": [
       "\n",
       "| C | B |\n",
       "|---|---|\n",
       "| 0.5834043897 | 0.4165956103 |\n",
       "\n"
      ],
      "text/plain": [
       "  C            B           \n",
       "1 0.5834043897 0.4165956103"
      ]
     },
     "metadata": {},
     "output_type": "display_data"
    },
    {
     "data": {
      "text/html": [
       "<table>\n",
       "<thead><tr><th scope=col>B</th><th scope=col>D</th></tr></thead>\n",
       "<tbody>\n",
       "\t<tr><td>0.4878103802</td><td>0.5121896198</td></tr>\n",
       "</tbody>\n",
       "</table>\n"
      ],
      "text/latex": [
       "\\begin{tabular}{r|ll}\n",
       " B & D\\\\\n",
       "\\hline\n",
       "\t 0.4878103802 & 0.5121896198\\\\\n",
       "\\end{tabular}\n"
      ],
      "text/markdown": [
       "\n",
       "| B | D |\n",
       "|---|---|\n",
       "| 0.4878103802 | 0.5121896198 |\n",
       "\n"
      ],
      "text/plain": [
       "  B            D           \n",
       "1 0.4878103802 0.5121896198"
      ]
     },
     "metadata": {},
     "output_type": "display_data"
    },
    {
     "data": {
      "text/html": [
       "<table>\n",
       "<thead><tr><th scope=col>C</th><th scope=col>D</th></tr></thead>\n",
       "<tbody>\n",
       "\t<tr><td>0.772790873</td><td>0.227209127</td></tr>\n",
       "</tbody>\n",
       "</table>\n"
      ],
      "text/latex": [
       "\\begin{tabular}{r|ll}\n",
       " C & D\\\\\n",
       "\\hline\n",
       "\t 0.772790873 & 0.227209127\\\\\n",
       "\\end{tabular}\n"
      ],
      "text/markdown": [
       "\n",
       "| C | D |\n",
       "|---|---|\n",
       "| 0.772790873 | 0.227209127 |\n",
       "\n"
      ],
      "text/plain": [
       "  C           D          \n",
       "1 0.772790873 0.227209127"
      ]
     },
     "metadata": {},
     "output_type": "display_data"
    }
   ],
   "source": []
  },
  {
   "cell_type": "code",
   "execution_count": 27,
   "metadata": {},
   "outputs": [
    {
     "data": {
      "text/html": [
       "A\n",
       "<details>\n",
       "\t<summary style=display:list-item;cursor:pointer>\n",
       "\t\t<strong>Levels</strong>:\n",
       "\t</summary>\n",
       "\t<ol class=list-inline>\n",
       "\t\t<li>'A'</li>\n",
       "\t\t<li>'B'</li>\n",
       "\t\t<li>'C'</li>\n",
       "\t\t<li>'D'</li>\n",
       "\t</ol>\n",
       "</details>"
      ],
      "text/latex": [
       "A\n",
       "\\emph{Levels}: \\begin{enumerate*}\n",
       "\\item 'A'\n",
       "\\item 'B'\n",
       "\\item 'C'\n",
       "\\item 'D'\n",
       "\\end{enumerate*}\n"
      ],
      "text/markdown": [
       "A\n",
       "**Levels**: 1. 'A'\n",
       "2. 'B'\n",
       "3. 'C'\n",
       "4. 'D'\n",
       "\n",
       "\n"
      ],
      "text/plain": [
       "[1] A\n",
       "Levels: A B C D"
      ]
     },
     "metadata": {},
     "output_type": "display_data"
    }
   ],
   "source": []
  },
  {
   "cell_type": "markdown",
   "metadata": {},
   "source": [
    "<font size=1;>\n",
    "<p style=\"text-align: left;\">\n",
    "Copyright (c) Berkeley Data Analytics Group, LLC\n",
    "<span style=\"float: right;\">\n",
    "document revised May 6, 2019\n",
    "</span>\n",
    "</p>\n",
    "</font>"
   ]
  }
 ],
 "metadata": {
  "hide_code_all_hidden": false,
  "hide_input": false,
  "kernelspec": {
   "display_name": "R",
   "language": "R",
   "name": "ir"
  },
  "language_info": {
   "codemirror_mode": "r",
   "file_extension": ".r",
   "mimetype": "text/x-r-source",
   "name": "R",
   "pygments_lexer": "r",
   "version": "3.5.3"
  },
  "toc": {
   "base_numbering": 1,
   "nav_menu": {},
   "number_sections": false,
   "sideBar": true,
   "skip_h1_title": true,
   "title_cell": "Table of Contents",
   "title_sidebar": "Contents",
   "toc_cell": false,
   "toc_position": {},
   "toc_section_display": true,
   "toc_window_display": true
  }
 },
 "nbformat": 4,
 "nbformat_minor": 2
}
