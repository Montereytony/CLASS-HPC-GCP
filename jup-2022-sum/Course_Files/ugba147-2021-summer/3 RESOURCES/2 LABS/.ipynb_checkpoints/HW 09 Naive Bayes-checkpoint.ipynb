{
 "cells": [
  {
   "cell_type": "markdown",
   "metadata": {},
   "source": [
    "<font size=2;>\n",
    "<p style=\"text-align: right;\">\n",
    "Exercises\n",
    "</p>\n",
    "</font>"
   ]
  },
  {
   "cell_type": "markdown",
   "metadata": {
    "hideCode": false,
    "hidePrompt": false
   },
   "source": [
    "# Classification by Naive Bayes"
   ]
  },
  {
   "cell_type": "markdown",
   "metadata": {},
   "source": [
    "**Write and execute R code in the code cells per the instructions.  The expected results are provided for you directly following the code cells.**"
   ]
  },
  {
   "cell_type": "code",
   "execution_count": 1,
   "metadata": {},
   "outputs": [
    {
     "name": "stdout",
     "output_type": "stream",
     "text": [
      "Open code cell here for notebook apparatus."
     ]
    }
   ],
   "source": [
    "cat(\"Open code cell here for notebook apparatus.\")\n",
    "\n",
    "options(warn=-1)\n",
    "\n",
    "# Load some required functions\n",
    "library(e1071,     verbose=FALSE, warn.conflicts=FALSE, quietly=TRUE)\n",
    "library(ggplot2,   verbose=FALSE, warn.conflicts=FALSE, quietly=TRUE)\n",
    "\n",
    "# Define some useful functions\n",
    "as.class = function(prob, class, cutoff=NA) { f = factor(prob[,colnames(prob)==class]>=cutoff, levels=c(TRUE, FALSE), labels=c(class, setdiff(colnames(prob), class))); attr(f, \"names\") = NULL; f }\n",
    "gaussian = function(x, mean, sd) { (1/(sd*sqrt(2*pi))) * exp(-0.5 * ((x-mean)/sd)^2) }\n",
    "\n",
    "# Set some visualization constants\n",
    "PALETTE = c(\"#00A9FF\", \"#F8766D\", \"#7CAE00\", \"#C77CFF\", \"#CD9600\", \"#00BE67\", \"#FF61CC\", \"#00BFC4\")\n",
    "\n",
    "# Set some visualization formatting defaults\n",
    "options(repr.plot.width=4, repr.plot.height=2.5)\n",
    "update_geom_defaults(\"point\", list(size=3, colour=\"grey70\"))\n",
    "update_geom_defaults(\"col\", list(fill=PALETTE[7], colour=NA))\n",
    "update_geom_defaults(\"text\", list(size=2.5, vjust=-1.5))\n",
    "update_geom_defaults(\"area\", list(color=NA))\n",
    "theme_update(plot.title=element_text(size=10, hjust=0.5), plot.subtitle=element_text(size=8, face=\"italic\", hjust=0.5), axis.title=element_text(size=7), axis.text=element_text(size=7), strip.text=element_text(size=7), strip.text.y=element_text(angle=90), legend.title=element_blank(), legend.text=element_text(size=7))"
   ]
  },
  {
   "cell_type": "markdown",
   "metadata": {},
   "source": [
    "## Data & New Observation"
   ]
  },
  {
   "cell_type": "code",
   "execution_count": 2,
   "metadata": {
    "hideCode": false,
    "hidePrompt": false,
    "run_control": {
     "marked": false
    }
   },
   "outputs": [
    {
     "data": {
      "text/html": [
       "<table>\n",
       "<thead><tr><th scope=col>x1</th><th scope=col>x2</th><th scope=col>class</th></tr></thead>\n",
       "<tbody>\n",
       "\t<tr><td>D  </td><td>2.5</td><td>A  </td></tr>\n",
       "\t<tr><td>E  </td><td>2.3</td><td>A  </td></tr>\n",
       "\t<tr><td>E  </td><td>9.1</td><td>B  </td></tr>\n",
       "\t<tr><td>F  </td><td>6.5</td><td>A  </td></tr>\n",
       "\t<tr><td>F  </td><td>8.5</td><td>B  </td></tr>\n",
       "\t<tr><td>E  </td><td>4.0</td><td>A  </td></tr>\n",
       "</tbody>\n",
       "</table>\n"
      ],
      "text/latex": [
       "\\begin{tabular}{r|lll}\n",
       " x1 & x2 & class\\\\\n",
       "\\hline\n",
       "\t D   & 2.5 & A  \\\\\n",
       "\t E   & 2.3 & A  \\\\\n",
       "\t E   & 9.1 & B  \\\\\n",
       "\t F   & 6.5 & A  \\\\\n",
       "\t F   & 8.5 & B  \\\\\n",
       "\t E   & 4.0 & A  \\\\\n",
       "\\end{tabular}\n"
      ],
      "text/markdown": [
       "\n",
       "| x1 | x2 | class |\n",
       "|---|---|---|\n",
       "| D   | 2.5 | A   |\n",
       "| E   | 2.3 | A   |\n",
       "| E   | 9.1 | B   |\n",
       "| F   | 6.5 | A   |\n",
       "| F   | 8.5 | B   |\n",
       "| E   | 4.0 | A   |\n",
       "\n"
      ],
      "text/plain": [
       "  x1 x2  class\n",
       "1 D  2.5 A    \n",
       "2 E  2.3 A    \n",
       "3 E  9.1 B    \n",
       "4 F  6.5 A    \n",
       "5 F  8.5 B    \n",
       "6 E  4.0 A    "
      ]
     },
     "metadata": {},
     "output_type": "display_data"
    },
    {
     "data": {
      "text/html": [
       "<table>\n",
       "<thead><tr><th scope=col>x1</th><th scope=col>x2</th></tr></thead>\n",
       "<tbody>\n",
       "\t<tr><td>E   </td><td>8.07</td></tr>\n",
       "</tbody>\n",
       "</table>\n"
      ],
      "text/latex": [
       "\\begin{tabular}{r|ll}\n",
       " x1 & x2\\\\\n",
       "\\hline\n",
       "\t E    & 8.07\\\\\n",
       "\\end{tabular}\n"
      ],
      "text/markdown": [
       "\n",
       "| x1 | x2 |\n",
       "|---|---|\n",
       "| E    | 8.07 |\n",
       "\n"
      ],
      "text/plain": [
       "  x1 x2  \n",
       "1 E  8.07"
      ]
     },
     "metadata": {},
     "output_type": "display_data"
    },
    {
     "data": {
      "image/png": "[encoded data removed]",
      "text/plain": [
       "plot without title"
      ]
     },
     "metadata": {},
     "output_type": "display_data"
    }
   ],
   "source": [
    "data = data.frame(x1=factor(c(\"D\",\"E\",\"E\",\"F\",\"F\", \"E\")), x2=c(2.5, 2.3, 9.1, 6.5, 8.5, 4.0), class=factor(c(\"A\", \"A\", \"B\", \"A\",  \"B\", \"A\")))\n",
    "new = data.frame(x1=factor(\"E\", levels=c(\"D\",\"E\",\"F\")), x2=8.07)\n",
    "data\n",
    "new\n",
    "ggplot(data) + geom_point(aes(x=x1, y=x2, color=class)) + geom_point(aes(x=new$x1, y=new$x2)) + scale_color_manual(values=PALETTE[1:2])"
   ]
  },
  {
   "cell_type": "markdown",
   "metadata": {},
   "source": [
    "<font size=5;>\n",
    "<p style=\"text-align: center;\">\n",
    "Naive Bayes, Categorical & Continuous Variables,<br>Likelihoods by Frequency Table & KDE\n",
    "</p>\n",
    "</font>"
   ]
  },
  {
   "cell_type": "markdown",
   "metadata": {},
   "source": [
    "## Problem 1a\n",
    "\n",
    "Partition the data by class."
   ]
  },
  {
   "cell_type": "code",
   "execution_count": 3,
   "metadata": {},
   "outputs": [
    {
     "data": {
      "text/html": [
       "<table>\n",
       "<thead><tr><th></th><th scope=col>x1</th><th scope=col>x2</th><th scope=col>class</th></tr></thead>\n",
       "<tbody>\n",
       "\t<tr><th scope=row>1</th><td>D  </td><td>2.5</td><td>A  </td></tr>\n",
       "\t<tr><th scope=row>2</th><td>E  </td><td>2.3</td><td>A  </td></tr>\n",
       "\t<tr><th scope=row>4</th><td>F  </td><td>6.5</td><td>A  </td></tr>\n",
       "\t<tr><th scope=row>6</th><td>E  </td><td>4.0</td><td>A  </td></tr>\n",
       "</tbody>\n",
       "</table>\n"
      ],
      "text/latex": [
       "\\begin{tabular}{r|lll}\n",
       "  & x1 & x2 & class\\\\\n",
       "\\hline\n",
       "\t1 & D   & 2.5 & A  \\\\\n",
       "\t2 & E   & 2.3 & A  \\\\\n",
       "\t4 & F   & 6.5 & A  \\\\\n",
       "\t6 & E   & 4.0 & A  \\\\\n",
       "\\end{tabular}\n"
      ],
      "text/markdown": [
       "\n",
       "| <!--/--> | x1 | x2 | class |\n",
       "|---|---|---|---|\n",
       "| 1 | D   | 2.5 | A   |\n",
       "| 2 | E   | 2.3 | A   |\n",
       "| 4 | F   | 6.5 | A   |\n",
       "| 6 | E   | 4.0 | A   |\n",
       "\n"
      ],
      "text/plain": [
       "  x1 x2  class\n",
       "1 D  2.5 A    \n",
       "2 E  2.3 A    \n",
       "4 F  6.5 A    \n",
       "6 E  4.0 A    "
      ]
     },
     "metadata": {},
     "output_type": "display_data"
    },
    {
     "data": {
      "text/html": [
       "<table>\n",
       "<thead><tr><th></th><th scope=col>x1</th><th scope=col>x2</th><th scope=col>class</th></tr></thead>\n",
       "<tbody>\n",
       "\t<tr><th scope=row>3</th><td>E  </td><td>9.1</td><td>B  </td></tr>\n",
       "\t<tr><th scope=row>5</th><td>F  </td><td>8.5</td><td>B  </td></tr>\n",
       "</tbody>\n",
       "</table>\n"
      ],
      "text/latex": [
       "\\begin{tabular}{r|lll}\n",
       "  & x1 & x2 & class\\\\\n",
       "\\hline\n",
       "\t3 & E   & 9.1 & B  \\\\\n",
       "\t5 & F   & 8.5 & B  \\\\\n",
       "\\end{tabular}\n"
      ],
      "text/markdown": [
       "\n",
       "| <!--/--> | x1 | x2 | class |\n",
       "|---|---|---|---|\n",
       "| 3 | E   | 9.1 | B   |\n",
       "| 5 | F   | 8.5 | B   |\n",
       "\n"
      ],
      "text/plain": [
       "  x1 x2  class\n",
       "3 E  9.1 B    \n",
       "5 F  8.5 B    "
      ]
     },
     "metadata": {},
     "output_type": "display_data"
    }
   ],
   "source": []
  },
  {
   "cell_type": "markdown",
   "metadata": {},
   "source": [
    "## Problem 1b\n",
    "\n",
    "Determine the frequency and probability of each x1 value, assuming that the observation is in class A, adjusted by laplace smoothing.\n",
    "\n",
    "You may want to use these function(s):\n",
    "* table()\n",
    "* names()\n",
    "* as.numeric()\n",
    "* geom_col()"
   ]
  },
  {
   "cell_type": "code",
   "execution_count": 4,
   "metadata": {},
   "outputs": [
    {
     "data": {
      "text/html": [
       "<table>\n",
       "<thead><tr><th scope=col>value</th><th scope=col>freq</th><th scope=col>likelihood</th></tr></thead>\n",
       "<tbody>\n",
       "\t<tr><td>D        </td><td>2        </td><td>0.2857143</td></tr>\n",
       "\t<tr><td>E        </td><td>3        </td><td>0.4285714</td></tr>\n",
       "\t<tr><td>F        </td><td>2        </td><td>0.2857143</td></tr>\n",
       "</tbody>\n",
       "</table>\n"
      ],
      "text/latex": [
       "\\begin{tabular}{r|lll}\n",
       " value & freq & likelihood\\\\\n",
       "\\hline\n",
       "\t D         & 2         & 0.2857143\\\\\n",
       "\t E         & 3         & 0.4285714\\\\\n",
       "\t F         & 2         & 0.2857143\\\\\n",
       "\\end{tabular}\n"
      ],
      "text/markdown": [
       "\n",
       "| value | freq | likelihood |\n",
       "|---|---|---|\n",
       "| D         | 2         | 0.2857143 |\n",
       "| E         | 3         | 0.4285714 |\n",
       "| F         | 2         | 0.2857143 |\n",
       "\n"
      ],
      "text/plain": [
       "  value freq likelihood\n",
       "1 D     2    0.2857143 \n",
       "2 E     3    0.4285714 \n",
       "3 F     2    0.2857143 "
      ]
     },
     "metadata": {},
     "output_type": "display_data"
    },
    {
     "data": {
      "image/png": "[encoded data removed]",
      "text/plain": [
       "plot without title"
      ]
     },
     "metadata": {},
     "output_type": "display_data"
    }
   ],
   "source": []
  },
  {
   "cell_type": "markdown",
   "metadata": {},
   "source": [
    "## Problem 1c\n",
    "\n",
    "Determine the frequency and probability of each x1 value, assuming that the observation is in class B, adjusted by laplace smoothing.\n",
    "\n",
    "You may want to use these function(s):\n",
    "* table()\n",
    "* names()\n",
    "* as.numeric()\n",
    "* geom_col()"
   ]
  },
  {
   "cell_type": "code",
   "execution_count": 5,
   "metadata": {},
   "outputs": [
    {
     "data": {
      "text/html": [
       "<table>\n",
       "<thead><tr><th scope=col>value</th><th scope=col>freq</th><th scope=col>likelihood</th></tr></thead>\n",
       "<tbody>\n",
       "\t<tr><td>D  </td><td>1  </td><td>0.2</td></tr>\n",
       "\t<tr><td>E  </td><td>2  </td><td>0.4</td></tr>\n",
       "\t<tr><td>F  </td><td>2  </td><td>0.4</td></tr>\n",
       "</tbody>\n",
       "</table>\n"
      ],
      "text/latex": [
       "\\begin{tabular}{r|lll}\n",
       " value & freq & likelihood\\\\\n",
       "\\hline\n",
       "\t D   & 1   & 0.2\\\\\n",
       "\t E   & 2   & 0.4\\\\\n",
       "\t F   & 2   & 0.4\\\\\n",
       "\\end{tabular}\n"
      ],
      "text/markdown": [
       "\n",
       "| value | freq | likelihood |\n",
       "|---|---|---|\n",
       "| D   | 1   | 0.2 |\n",
       "| E   | 2   | 0.4 |\n",
       "| F   | 2   | 0.4 |\n",
       "\n"
      ],
      "text/plain": [
       "  value freq likelihood\n",
       "1 D     1    0.2       \n",
       "2 E     2    0.4       \n",
       "3 F     2    0.4       "
      ]
     },
     "metadata": {},
     "output_type": "display_data"
    },
    {
     "data": {
      "image/png": "[encoded data removed]",
      "text/plain": [
       "plot without title"
      ]
     },
     "metadata": {},
     "output_type": "display_data"
    }
   ],
   "source": []
  },
  {
   "cell_type": "markdown",
   "metadata": {},
   "source": [
    "## Problem 1d\n",
    "\n",
    "Construct and visualize a probability density function for the x2 values of observations in class A - use kernel density estimation with gaussian kernel and bandwidth 1 - show for range 0 to 10. \n",
    "\n",
    "You may want to use these function(s):\n",
    "* density()\n",
    "* approxfun()\n",
    "* stat_function()"
   ]
  },
  {
   "cell_type": "code",
   "execution_count": 6,
   "metadata": {},
   "outputs": [
    {
     "data": {
      "image/png": "[encoded data removed]",
      "text/plain": [
       "plot without title"
      ]
     },
     "metadata": {},
     "output_type": "display_data"
    }
   ],
   "source": []
  },
  {
   "cell_type": "markdown",
   "metadata": {},
   "source": [
    "## Problem 1e\n",
    "\n",
    "Construct and visualize a probability density function for the x2 values of observations in class B - use kernel density estimation with gaussian kernel and bandwidth 1 - show for range 0 to 10. \n",
    "\n",
    "You may want to use these function(s):\n",
    "* density()\n",
    "* approxfun()\n",
    "* stat_function()"
   ]
  },
  {
   "cell_type": "code",
   "execution_count": 7,
   "metadata": {},
   "outputs": [
    {
     "data": {
      "image/png": "[encoded data removed]",
      "text/plain": [
       "plot without title"
      ]
     },
     "metadata": {},
     "output_type": "display_data"
    }
   ],
   "source": []
  },
  {
   "cell_type": "markdown",
   "metadata": {},
   "source": [
    "## Problem 1f\n",
    "\n",
    "Determine the frequency and probability of each class.\n",
    "\n",
    "You may want to use these function(s):\n",
    "* table()\n",
    "* names()\n",
    "* as.numeric()\n",
    "* geom_col()"
   ]
  },
  {
   "cell_type": "code",
   "execution_count": 8,
   "metadata": {},
   "outputs": [
    {
     "data": {
      "text/html": [
       "<table>\n",
       "<thead><tr><th scope=col>class</th><th scope=col>freq</th><th scope=col>prior</th></tr></thead>\n",
       "<tbody>\n",
       "\t<tr><td>A        </td><td>4        </td><td>0.6666667</td></tr>\n",
       "\t<tr><td>B        </td><td>2        </td><td>0.3333333</td></tr>\n",
       "</tbody>\n",
       "</table>\n"
      ],
      "text/latex": [
       "\\begin{tabular}{r|lll}\n",
       " class & freq & prior\\\\\n",
       "\\hline\n",
       "\t A         & 4         & 0.6666667\\\\\n",
       "\t B         & 2         & 0.3333333\\\\\n",
       "\\end{tabular}\n"
      ],
      "text/markdown": [
       "\n",
       "| class | freq | prior |\n",
       "|---|---|---|\n",
       "| A         | 4         | 0.6666667 |\n",
       "| B         | 2         | 0.3333333 |\n",
       "\n"
      ],
      "text/plain": [
       "  class freq prior    \n",
       "1 A     4    0.6666667\n",
       "2 B     2    0.3333333"
      ]
     },
     "metadata": {},
     "output_type": "display_data"
    },
    {
     "data": {
      "image/png": "[encoded data removed]",
      "text/plain": [
       "plot without title"
      ]
     },
     "metadata": {},
     "output_type": "display_data"
    }
   ],
   "source": []
  },
  {
   "cell_type": "markdown",
   "metadata": {},
   "source": [
    "## Problem 1g\n",
    "\n",
    "For the new observation, show its x1 and x2 values.  Also, show the probability of its x1 value assuming that the observation is in class A, the density at its x2 value assuming that the observation is in class A, the probability that any observation is in class A, and the product of those numbers."
   ]
  },
  {
   "cell_type": "code",
   "execution_count": 9,
   "metadata": {},
   "outputs": [
    {
     "data": {
      "text/html": [
       "<table>\n",
       "<thead><tr><th scope=col>x1</th><th scope=col>x2</th><th scope=col>likelihood.x1.A</th><th scope=col>likelihood.x2.A</th><th scope=col>prior.A</th><th scope=col>posterior.A</th></tr></thead>\n",
       "<tbody>\n",
       "\t<tr><td>E          </td><td>8.07       </td><td>0.4285714  </td><td>0.02918445 </td><td>0.6666667  </td><td>0.008338413</td></tr>\n",
       "</tbody>\n",
       "</table>\n"
      ],
      "text/latex": [
       "\\begin{tabular}{r|llllll}\n",
       " x1 & x2 & likelihood.x1.A & likelihood.x2.A & prior.A & posterior.A\\\\\n",
       "\\hline\n",
       "\t E           & 8.07        & 0.4285714   & 0.02918445  & 0.6666667   & 0.008338413\\\\\n",
       "\\end{tabular}\n"
      ],
      "text/markdown": [
       "\n",
       "| x1 | x2 | likelihood.x1.A | likelihood.x2.A | prior.A | posterior.A |\n",
       "|---|---|---|---|---|---|\n",
       "| E           | 8.07        | 0.4285714   | 0.02918445  | 0.6666667   | 0.008338413 |\n",
       "\n"
      ],
      "text/plain": [
       "  x1 x2   likelihood.x1.A likelihood.x2.A prior.A   posterior.A\n",
       "1 E  8.07 0.4285714       0.02918445      0.6666667 0.008338413"
      ]
     },
     "metadata": {},
     "output_type": "display_data"
    }
   ],
   "source": []
  },
  {
   "cell_type": "markdown",
   "metadata": {},
   "source": [
    "## Problem 1h\n",
    "\n",
    "For the new observation, show its x1 and x2 values.  Also, show the probability of its x1 value assuming that the observation is in class B, the density at its x2 value assuming that the observation is in class B, the probability that any observation is in class B, and the product of those numbers."
   ]
  },
  {
   "cell_type": "code",
   "execution_count": 10,
   "metadata": {},
   "outputs": [
    {
     "data": {
      "text/html": [
       "<table>\n",
       "<thead><tr><th scope=col>x1</th><th scope=col>x2</th><th scope=col>likelihood.x1.B</th><th scope=col>likelihood.x2.B</th><th scope=col>prior.B</th><th scope=col>posterior.B</th></tr></thead>\n",
       "<tbody>\n",
       "\t<tr><td>E         </td><td>8.07      </td><td>0.4       </td><td>0.2993378 </td><td>0.3333333 </td><td>0.03991171</td></tr>\n",
       "</tbody>\n",
       "</table>\n"
      ],
      "text/latex": [
       "\\begin{tabular}{r|llllll}\n",
       " x1 & x2 & likelihood.x1.B & likelihood.x2.B & prior.B & posterior.B\\\\\n",
       "\\hline\n",
       "\t E          & 8.07       & 0.4        & 0.2993378  & 0.3333333  & 0.03991171\\\\\n",
       "\\end{tabular}\n"
      ],
      "text/markdown": [
       "\n",
       "| x1 | x2 | likelihood.x1.B | likelihood.x2.B | prior.B | posterior.B |\n",
       "|---|---|---|---|---|---|\n",
       "| E          | 8.07       | 0.4        | 0.2993378  | 0.3333333  | 0.03991171 |\n",
       "\n"
      ],
      "text/plain": [
       "  x1 x2   likelihood.x1.B likelihood.x2.B prior.B   posterior.B\n",
       "1 E  8.07 0.4             0.2993378       0.3333333 0.03991171 "
      ]
     },
     "metadata": {},
     "output_type": "display_data"
    }
   ],
   "source": []
  },
  {
   "cell_type": "markdown",
   "metadata": {},
   "source": [
    "## Problem 1i\n",
    "\n",
    "Determine the probability of the new observation being in class A and the probability of it being in class B (as indicated by posteriors)."
   ]
  },
  {
   "cell_type": "code",
   "execution_count": 11,
   "metadata": {},
   "outputs": [
    {
     "data": {
      "text/html": [
       "<table>\n",
       "<thead><tr><th scope=col>A</th><th scope=col>B</th></tr></thead>\n",
       "<tbody>\n",
       "\t<tr><td>0.1728164</td><td>0.8271836</td></tr>\n",
       "</tbody>\n",
       "</table>\n"
      ],
      "text/latex": [
       "\\begin{tabular}{r|ll}\n",
       " A & B\\\\\n",
       "\\hline\n",
       "\t 0.1728164 & 0.8271836\\\\\n",
       "\\end{tabular}\n"
      ],
      "text/markdown": [
       "\n",
       "| A | B |\n",
       "|---|---|\n",
       "| 0.1728164 | 0.8271836 |\n",
       "\n"
      ],
      "text/plain": [
       "  A         B        \n",
       "1 0.1728164 0.8271836"
      ]
     },
     "metadata": {},
     "output_type": "display_data"
    }
   ],
   "source": []
  },
  {
   "cell_type": "markdown",
   "metadata": {},
   "source": [
    "## Problem 1j\n",
    "\n",
    "Predict the class of the new observation, assuming the cutoff for class A is 0.6 (as indicated by relative posteriors). \n",
    "\n",
    "You may want to use these function(s):\n",
    "* as.class()"
   ]
  },
  {
   "cell_type": "code",
   "execution_count": 12,
   "metadata": {},
   "outputs": [
    {
     "data": {
      "text/html": [
       "B\n",
       "<details>\n",
       "\t<summary style=display:list-item;cursor:pointer>\n",
       "\t\t<strong>Levels</strong>:\n",
       "\t</summary>\n",
       "\t<ol class=list-inline>\n",
       "\t\t<li>'A'</li>\n",
       "\t\t<li>'B'</li>\n",
       "\t</ol>\n",
       "</details>"
      ],
      "text/latex": [
       "B\n",
       "\\emph{Levels}: \\begin{enumerate*}\n",
       "\\item 'A'\n",
       "\\item 'B'\n",
       "\\end{enumerate*}\n"
      ],
      "text/markdown": [
       "B\n",
       "**Levels**: 1. 'A'\n",
       "2. 'B'\n",
       "\n",
       "\n"
      ],
      "text/plain": [
       "[1] B\n",
       "Levels: A B"
      ]
     },
     "metadata": {},
     "output_type": "display_data"
    }
   ],
   "source": []
  },
  {
   "cell_type": "markdown",
   "metadata": {},
   "source": [
    "<font size=5;>\n",
    "<p style=\"text-align: center;\">\n",
    "Naive Bayes, Categorical & Continuous Variables,<br>Likelihoods by Frequency Table & Gaussian Estimation\n",
    "</p>\n",
    "</font>"
   ]
  },
  {
   "cell_type": "markdown",
   "metadata": {},
   "source": [
    "## Problem 2a\n",
    "\n",
    "Construct and visualize a probability density function for the x2 values of observations in class A - use Gaussian estimation - show for range 0 to 10. \n",
    "\n",
    "You may want to use these function(s):\n",
    "* mean()\n",
    "* sd()\n",
    "* stat_function()\n",
    "\n",
    "Use `stat_function(fun=gaussian, ...)` to visualize the probability density function."
   ]
  },
  {
   "cell_type": "code",
   "execution_count": 13,
   "metadata": {},
   "outputs": [
    {
     "data": {
      "text/html": [
       "<table>\n",
       "<thead><tr><th scope=col>mean.A</th><th scope=col>sd.A</th></tr></thead>\n",
       "<tbody>\n",
       "\t<tr><td>3.825   </td><td>1.937997</td></tr>\n",
       "</tbody>\n",
       "</table>\n"
      ],
      "text/latex": [
       "\\begin{tabular}{r|ll}\n",
       " mean.A & sd.A\\\\\n",
       "\\hline\n",
       "\t 3.825    & 1.937997\\\\\n",
       "\\end{tabular}\n"
      ],
      "text/markdown": [
       "\n",
       "| mean.A | sd.A |\n",
       "|---|---|\n",
       "| 3.825    | 1.937997 |\n",
       "\n"
      ],
      "text/plain": [
       "  mean.A sd.A    \n",
       "1 3.825  1.937997"
      ]
     },
     "metadata": {},
     "output_type": "display_data"
    },
    {
     "data": {
      "image/png": "[encoded data removed]",
      "text/plain": [
       "plot without title"
      ]
     },
     "metadata": {},
     "output_type": "display_data"
    }
   ],
   "source": []
  },
  {
   "cell_type": "markdown",
   "metadata": {},
   "source": [
    "## Problem 2b\n",
    "\n",
    "Construct and visualize a probability density function for the x2 values of observations in class B - use Gaussian estimation - show for range 0 to 10. \n",
    "\n",
    "You may want to use these function(s):\n",
    "* mean()\n",
    "* sd()\n",
    "* stat_function()\n",
    "\n",
    "Use `stat_function(fun=gaussian, ...)` to visualize the probability density function."
   ]
  },
  {
   "cell_type": "code",
   "execution_count": 14,
   "metadata": {},
   "outputs": [
    {
     "data": {
      "text/html": [
       "<table>\n",
       "<thead><tr><th scope=col>mean.B</th><th scope=col>sd.B</th></tr></thead>\n",
       "<tbody>\n",
       "\t<tr><td>8.8      </td><td>0.4242641</td></tr>\n",
       "</tbody>\n",
       "</table>\n"
      ],
      "text/latex": [
       "\\begin{tabular}{r|ll}\n",
       " mean.B & sd.B\\\\\n",
       "\\hline\n",
       "\t 8.8       & 0.4242641\\\\\n",
       "\\end{tabular}\n"
      ],
      "text/markdown": [
       "\n",
       "| mean.B | sd.B |\n",
       "|---|---|\n",
       "| 8.8       | 0.4242641 |\n",
       "\n"
      ],
      "text/plain": [
       "  mean.B sd.B     \n",
       "1 8.8    0.4242641"
      ]
     },
     "metadata": {},
     "output_type": "display_data"
    },
    {
     "data": {
      "image/png": "[encoded data removed]",
      "text/plain": [
       "plot without title"
      ]
     },
     "metadata": {},
     "output_type": "display_data"
    }
   ],
   "source": []
  },
  {
   "cell_type": "markdown",
   "metadata": {},
   "source": [
    "## Problem 2c\n",
    "\n",
    "For the new observation, show its x1 and x2 values.  Also, show the probability of its x1 value assuming that the observation is in class A, the density at its x2 value assuming that the observation is in class A (according to Gaussian estimation), the probability that any observation is in class A, and the product of those numbers.\n",
    "\n",
    "You may want to use these function(s):\n",
    "* gaussian()"
   ]
  },
  {
   "cell_type": "code",
   "execution_count": 15,
   "metadata": {},
   "outputs": [
    {
     "data": {
      "text/html": [
       "<table>\n",
       "<thead><tr><th scope=col>x1</th><th scope=col>x2</th><th scope=col>likelihood.x1.A</th><th scope=col>likelihood.x2.A</th><th scope=col>prior.A</th><th scope=col>posterior.A</th></tr></thead>\n",
       "<tbody>\n",
       "\t<tr><td>E          </td><td>8.07       </td><td>0.4285714  </td><td>0.01869439 </td><td>0.6666667  </td><td>0.005341254</td></tr>\n",
       "</tbody>\n",
       "</table>\n"
      ],
      "text/latex": [
       "\\begin{tabular}{r|llllll}\n",
       " x1 & x2 & likelihood.x1.A & likelihood.x2.A & prior.A & posterior.A\\\\\n",
       "\\hline\n",
       "\t E           & 8.07        & 0.4285714   & 0.01869439  & 0.6666667   & 0.005341254\\\\\n",
       "\\end{tabular}\n"
      ],
      "text/markdown": [
       "\n",
       "| x1 | x2 | likelihood.x1.A | likelihood.x2.A | prior.A | posterior.A |\n",
       "|---|---|---|---|---|---|\n",
       "| E           | 8.07        | 0.4285714   | 0.01869439  | 0.6666667   | 0.005341254 |\n",
       "\n"
      ],
      "text/plain": [
       "  x1 x2   likelihood.x1.A likelihood.x2.A prior.A   posterior.A\n",
       "1 E  8.07 0.4285714       0.01869439      0.6666667 0.005341254"
      ]
     },
     "metadata": {},
     "output_type": "display_data"
    }
   ],
   "source": []
  },
  {
   "cell_type": "markdown",
   "metadata": {},
   "source": [
    "## Problem 2d\n",
    "\n",
    "For the new observation, show its x1 and x2 values.  Also, show the probability of its x1 value assuming that the observation is in class B, the density at its x2 value assuming that the observation is in class B (according to Gaussian estimation), the probability that any observation is in class B, and the product of those numbers.\n",
    "\n",
    "You may want to use these function(s):\n",
    "* gaussian()"
   ]
  },
  {
   "cell_type": "code",
   "execution_count": 16,
   "metadata": {},
   "outputs": [
    {
     "data": {
      "text/html": [
       "<table>\n",
       "<thead><tr><th scope=col>x1</th><th scope=col>x2</th><th scope=col>likelihood.x1.B</th><th scope=col>likelihood.x2.B</th><th scope=col>prior.B</th><th scope=col>posterior.B</th></tr></thead>\n",
       "<tbody>\n",
       "\t<tr><td>E         </td><td>8.07      </td><td>0.4       </td><td>0.2139919 </td><td>0.3333333 </td><td>0.02853225</td></tr>\n",
       "</tbody>\n",
       "</table>\n"
      ],
      "text/latex": [
       "\\begin{tabular}{r|llllll}\n",
       " x1 & x2 & likelihood.x1.B & likelihood.x2.B & prior.B & posterior.B\\\\\n",
       "\\hline\n",
       "\t E          & 8.07       & 0.4        & 0.2139919  & 0.3333333  & 0.02853225\\\\\n",
       "\\end{tabular}\n"
      ],
      "text/markdown": [
       "\n",
       "| x1 | x2 | likelihood.x1.B | likelihood.x2.B | prior.B | posterior.B |\n",
       "|---|---|---|---|---|---|\n",
       "| E          | 8.07       | 0.4        | 0.2139919  | 0.3333333  | 0.02853225 |\n",
       "\n"
      ],
      "text/plain": [
       "  x1 x2   likelihood.x1.B likelihood.x2.B prior.B   posterior.B\n",
       "1 E  8.07 0.4             0.2139919       0.3333333 0.02853225 "
      ]
     },
     "metadata": {},
     "output_type": "display_data"
    }
   ],
   "source": []
  },
  {
   "cell_type": "markdown",
   "metadata": {},
   "source": [
    "## Problem 2e\n",
    "\n",
    "Determine the probability of the new observation being in class A and the probability of it being in class B (as indicated by posteriors)."
   ]
  },
  {
   "cell_type": "code",
   "execution_count": 17,
   "metadata": {},
   "outputs": [
    {
     "data": {
      "text/html": [
       "<table>\n",
       "<thead><tr><th scope=col>A</th><th scope=col>B</th></tr></thead>\n",
       "<tbody>\n",
       "\t<tr><td>0.1576823</td><td>0.8423177</td></tr>\n",
       "</tbody>\n",
       "</table>\n"
      ],
      "text/latex": [
       "\\begin{tabular}{r|ll}\n",
       " A & B\\\\\n",
       "\\hline\n",
       "\t 0.1576823 & 0.8423177\\\\\n",
       "\\end{tabular}\n"
      ],
      "text/markdown": [
       "\n",
       "| A | B |\n",
       "|---|---|\n",
       "| 0.1576823 | 0.8423177 |\n",
       "\n"
      ],
      "text/plain": [
       "  A         B        \n",
       "1 0.1576823 0.8423177"
      ]
     },
     "metadata": {},
     "output_type": "display_data"
    }
   ],
   "source": []
  },
  {
   "cell_type": "markdown",
   "metadata": {},
   "source": [
    "## Problem 2f\n",
    "\n",
    "Predict the class of the new observation, assuming the cutoff for class A is 0.6 (as indicated by relative posteriors).\n",
    "\n",
    "You may want to use these function(s):\n",
    "* as.class()"
   ]
  },
  {
   "cell_type": "code",
   "execution_count": 18,
   "metadata": {
    "scrolled": true
   },
   "outputs": [
    {
     "data": {
      "text/html": [
       "B\n",
       "<details>\n",
       "\t<summary style=display:list-item;cursor:pointer>\n",
       "\t\t<strong>Levels</strong>:\n",
       "\t</summary>\n",
       "\t<ol class=list-inline>\n",
       "\t\t<li>'A'</li>\n",
       "\t\t<li>'B'</li>\n",
       "\t</ol>\n",
       "</details>"
      ],
      "text/latex": [
       "B\n",
       "\\emph{Levels}: \\begin{enumerate*}\n",
       "\\item 'A'\n",
       "\\item 'B'\n",
       "\\end{enumerate*}\n"
      ],
      "text/markdown": [
       "B\n",
       "**Levels**: 1. 'A'\n",
       "2. 'B'\n",
       "\n",
       "\n"
      ],
      "text/plain": [
       "[1] B\n",
       "Levels: A B"
      ]
     },
     "metadata": {},
     "output_type": "display_data"
    }
   ],
   "source": []
  },
  {
   "cell_type": "markdown",
   "metadata": {},
   "source": [
    "<font size=5;>\n",
    "<p style=\"text-align: center;\">\n",
    "Naive Bayes and R's naiveBayes Function\n",
    "</p>\n",
    "</font>"
   ]
  },
  {
   "cell_type": "markdown",
   "metadata": {},
   "source": [
    "## Problem 3a\n",
    "\n",
    "For the new observation, use R's `naiveBayes` and `predict` functions to determine the posterior probabilities of being in class A or B.\n",
    "\n",
    "You may want to use these function(s):\n",
    "* naiveBayes()\n",
    "* predict()\n",
    "\n",
    "Use `naiveBayes(..., laplace=TRUE)` to ensure that laplace smoothing is used.\n",
    "Use `predict(..., type=\"raw\")` to ensure that probabilities are produced."
   ]
  },
  {
   "cell_type": "code",
   "execution_count": 19,
   "metadata": {},
   "outputs": [
    {
     "data": {
      "text/html": [
       "<table>\n",
       "<thead><tr><th scope=col>A</th><th scope=col>B</th></tr></thead>\n",
       "<tbody>\n",
       "\t<tr><td>0.1576823</td><td>0.8423177</td></tr>\n",
       "</tbody>\n",
       "</table>\n"
      ],
      "text/latex": [
       "\\begin{tabular}{ll}\n",
       " A & B\\\\\n",
       "\\hline\n",
       "\t 0.1576823 & 0.8423177\\\\\n",
       "\\end{tabular}\n"
      ],
      "text/markdown": [
       "\n",
       "| A | B |\n",
       "|---|---|\n",
       "| 0.1576823 | 0.8423177 |\n",
       "\n"
      ],
      "text/plain": [
       "     A         B        \n",
       "[1,] 0.1576823 0.8423177"
      ]
     },
     "metadata": {},
     "output_type": "display_data"
    }
   ],
   "source": []
  },
  {
   "cell_type": "markdown",
   "metadata": {},
   "source": [
    "## Problem 3b\n",
    "\n",
    "Predict the class of the new observation, assuming the cutoff for class A is 0.6.\n",
    "\n",
    "You may want to use these function(s):\n",
    "* as.class()"
   ]
  },
  {
   "cell_type": "code",
   "execution_count": 20,
   "metadata": {},
   "outputs": [
    {
     "data": {
      "text/html": [
       "B\n",
       "<details>\n",
       "\t<summary style=display:list-item;cursor:pointer>\n",
       "\t\t<strong>Levels</strong>:\n",
       "\t</summary>\n",
       "\t<ol class=list-inline>\n",
       "\t\t<li>'A'</li>\n",
       "\t\t<li>'B'</li>\n",
       "\t</ol>\n",
       "</details>"
      ],
      "text/latex": [
       "B\n",
       "\\emph{Levels}: \\begin{enumerate*}\n",
       "\\item 'A'\n",
       "\\item 'B'\n",
       "\\end{enumerate*}\n"
      ],
      "text/markdown": [
       "B\n",
       "**Levels**: 1. 'A'\n",
       "2. 'B'\n",
       "\n",
       "\n"
      ],
      "text/plain": [
       "[1] B\n",
       "Levels: A B"
      ]
     },
     "metadata": {},
     "output_type": "display_data"
    }
   ],
   "source": []
  },
  {
   "cell_type": "markdown",
   "metadata": {},
   "source": [
    "<font size=1;>\n",
    "<p style=\"text-align: left;\">\n",
    "Copyright (c) Berkeley Data Analytics Group, LLC\n",
    "<span style=\"float: right;\">\n",
    "document revised May 6, 2019\n",
    "</span>\n",
    "</p>\n",
    "</font>"
   ]
  }
 ],
 "metadata": {
  "hide_code_all_hidden": false,
  "hide_input": false,
  "kernelspec": {
   "display_name": "R",
   "language": "R",
   "name": "ir"
  },
  "language_info": {
   "codemirror_mode": "r",
   "file_extension": ".r",
   "mimetype": "text/x-r-source",
   "name": "R",
   "pygments_lexer": "r",
   "version": "3.5.3"
  },
  "toc": {
   "base_numbering": 1,
   "nav_menu": {},
   "number_sections": false,
   "sideBar": true,
   "skip_h1_title": true,
   "title_cell": "Table of Contents",
   "title_sidebar": "Contents",
   "toc_cell": false,
   "toc_position": {},
   "toc_section_display": true,
   "toc_window_display": true
  }
 },
 "nbformat": 4,
 "nbformat_minor": 2
}
