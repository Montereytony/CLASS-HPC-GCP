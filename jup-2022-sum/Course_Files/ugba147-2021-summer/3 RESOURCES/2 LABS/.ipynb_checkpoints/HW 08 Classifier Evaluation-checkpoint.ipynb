{
 "cells": [
  {
   "cell_type": "markdown",
   "metadata": {},
   "source": [
    "<font size=2;>\n",
    "<p style=\"text-align: right;\">\n",
    "Exercises\n",
    "</p>\n",
    "</font>"
   ]
  },
  {
   "cell_type": "markdown",
   "metadata": {
    "hideCode": false,
    "hidePrompt": false
   },
   "source": [
    "#  Classifier Evaluation"
   ]
  },
  {
   "cell_type": "markdown",
   "metadata": {},
   "source": [
    "**Write and execute R code in the code cells per the instructions.  The expected results are provided for you directly following the code cells.**"
   ]
  },
  {
   "cell_type": "code",
   "execution_count": 1,
   "metadata": {},
   "outputs": [
    {
     "name": "stdout",
     "output_type": "stream",
     "text": [
      "Open code cell here for notebook apparatus."
     ]
    }
   ],
   "source": [
    "cat(\"Open code cell here for notebook apparatus.\")\n",
    "\n",
    "options(warn=-1)\n",
    "\n",
    "# Load some required functions\n",
    "library(e1071,     verbose=FALSE, warn.conflicts=FALSE, quietly=TRUE)\n",
    "library(caret,     verbose=FALSE, warn.conflicts=FALSE, quietly=TRUE)\n",
    "\n",
    "# Define some useful functions\n",
    "size = function(data) data.frame(observations=dim(data)[1], variables=dim(data)[2])\n",
    "as.class = function(prob, class, cutoff=NA) { f = factor(prob[,colnames(prob)==class]>=cutoff, levels=c(TRUE, FALSE), labels=c(class, setdiff(colnames(prob), class))); attr(f, \"names\") = NULL; f }\n",
    "\n",
    "# Set some visualization formatting defaults\n",
    "options(scipen=999)\n",
    "options(repr.matrix.max.rows=100)"
   ]
  },
  {
   "cell_type": "markdown",
   "metadata": {},
   "source": [
    "## Business Model\n",
    "\n",
    "Our company has 1000 prospective customers, of which we expect 50 to buy our product - but we are not sure which customers those are.  The cost to meet with a prospective customer is \\$4500.  The revenue from a customer that buys our product is \\$100000."
   ]
  },
  {
   "cell_type": "code",
   "execution_count": 2,
   "metadata": {},
   "outputs": [
    {
     "data": {
      "text/html": [
       "<table>\n",
       "<thead><tr><th scope=col>profit.baseline</th></tr></thead>\n",
       "<tbody>\n",
       "\t<tr><td>500000</td></tr>\n",
       "</tbody>\n",
       "</table>\n"
      ],
      "text/latex": [
       "\\begin{tabular}{r|l}\n",
       " profit.baseline\\\\\n",
       "\\hline\n",
       "\t 500000\\\\\n",
       "\\end{tabular}\n"
      ],
      "text/markdown": [
       "\n",
       "| profit.baseline |\n",
       "|---|\n",
       "| 500000 |\n",
       "\n"
      ],
      "text/plain": [
       "  profit.baseline\n",
       "1 500000         "
      ]
     },
     "metadata": {},
     "output_type": "display_data"
    }
   ],
   "source": [
    "prospects = 1000\n",
    "buyers = 50\n",
    "passers = 1000-50\n",
    "cost = 4500\n",
    "revenue = 100000\n",
    "\n",
    "profit.baseline = buyers*revenue - prospects*cost\n",
    "data.frame(profit.baseline)"
   ]
  },
  {
   "cell_type": "markdown",
   "metadata": {},
   "source": [
    "## Business Decision\n",
    "\n",
    "Which prospects should we meet so that we maximize profit?\n",
    "\n",
    "The approach will be to build a model to predict which prospects will buy based on their market research scores, and then meet only with those prospects."
   ]
  },
  {
   "cell_type": "markdown",
   "metadata": {},
   "source": [
    "## Data\n",
    "\n",
    "Here is some data about past customers.  Each customer is associated with two scores, x1 and x2, that were measured by a market research company.  Also, each customer is known to have either bought our company's product or passed on an opportunity to buy our company's product."
   ]
  },
  {
   "cell_type": "code",
   "execution_count": 3,
   "metadata": {
    "scrolled": true
   },
   "outputs": [
    {
     "data": {
      "text/html": [
       "<table>\n",
       "<thead><tr><th scope=col>observations</th><th scope=col>variables</th></tr></thead>\n",
       "<tbody>\n",
       "\t<tr><td>72</td><td>3 </td></tr>\n",
       "</tbody>\n",
       "</table>\n"
      ],
      "text/latex": [
       "\\begin{tabular}{r|ll}\n",
       " observations & variables\\\\\n",
       "\\hline\n",
       "\t 72 & 3 \\\\\n",
       "\\end{tabular}\n"
      ],
      "text/markdown": [
       "\n",
       "| observations | variables |\n",
       "|---|---|\n",
       "| 72 | 3  |\n",
       "\n"
      ],
      "text/plain": [
       "  observations variables\n",
       "1 72           3        "
      ]
     },
     "metadata": {},
     "output_type": "display_data"
    },
    {
     "data": {
      "text/html": [
       "<table>\n",
       "<thead><tr><th scope=col>x1</th><th scope=col>x2</th><th scope=col>class</th></tr></thead>\n",
       "<tbody>\n",
       "\t<tr><td>1   </td><td>3   </td><td>buy </td></tr>\n",
       "\t<tr><td>2   </td><td>2   </td><td>buy </td></tr>\n",
       "\t<tr><td>3   </td><td>6   </td><td>buy </td></tr>\n",
       "\t<tr><td>4   </td><td>5   </td><td>buy </td></tr>\n",
       "\t<tr><td>3   </td><td>4   </td><td>buy </td></tr>\n",
       "\t<tr><td>2   </td><td>5   </td><td>buy </td></tr>\n",
       "\t<tr><td>5   </td><td>3   </td><td>buy </td></tr>\n",
       "\t<tr><td>4   </td><td>8   </td><td>buy </td></tr>\n",
       "\t<tr><td>3   </td><td>9   </td><td>buy </td></tr>\n",
       "\t<tr><td>2   </td><td>0   </td><td>buy </td></tr>\n",
       "\t<tr><td>5   </td><td>0   </td><td>buy </td></tr>\n",
       "\t<tr><td>3   </td><td>9   </td><td>buy </td></tr>\n",
       "\t<tr><td>3   </td><td>7   </td><td>buy </td></tr>\n",
       "\t<tr><td>2   </td><td>4   </td><td>buy </td></tr>\n",
       "\t<tr><td>3   </td><td>5   </td><td>buy </td></tr>\n",
       "\t<tr><td>1   </td><td>5   </td><td>buy </td></tr>\n",
       "\t<tr><td>1   </td><td>4   </td><td>buy </td></tr>\n",
       "\t<tr><td>5   </td><td>5   </td><td>buy </td></tr>\n",
       "\t<tr><td>4   </td><td>6   </td><td>pass</td></tr>\n",
       "\t<tr><td>1   </td><td>3   </td><td>pass</td></tr>\n",
       "\t<tr><td>5   </td><td>2   </td><td>pass</td></tr>\n",
       "\t<tr><td>1   </td><td>4   </td><td>pass</td></tr>\n",
       "\t<tr><td>0   </td><td>3   </td><td>pass</td></tr>\n",
       "\t<tr><td>0   </td><td>5   </td><td>pass</td></tr>\n",
       "\t<tr><td>1   </td><td>4   </td><td>pass</td></tr>\n",
       "\t<tr><td>2   </td><td>6   </td><td>pass</td></tr>\n",
       "\t<tr><td>2   </td><td>5   </td><td>pass</td></tr>\n",
       "\t<tr><td>5   </td><td>1   </td><td>pass</td></tr>\n",
       "\t<tr><td>1   </td><td>2   </td><td>pass</td></tr>\n",
       "\t<tr><td>3   </td><td>3   </td><td>pass</td></tr>\n",
       "\t<tr><td>1   </td><td>4   </td><td>pass</td></tr>\n",
       "\t<tr><td>2   </td><td>5   </td><td>pass</td></tr>\n",
       "\t<tr><td>3   </td><td>4   </td><td>pass</td></tr>\n",
       "\t<tr><td>4   </td><td>3   </td><td>pass</td></tr>\n",
       "\t<tr><td>5   </td><td>4   </td><td>pass</td></tr>\n",
       "\t<tr><td>6   </td><td>8   </td><td>pass</td></tr>\n",
       "\t<tr><td>1   </td><td>3   </td><td>buy </td></tr>\n",
       "\t<tr><td>3   </td><td>2   </td><td>buy </td></tr>\n",
       "\t<tr><td>3   </td><td>6   </td><td>buy </td></tr>\n",
       "\t<tr><td>6   </td><td>5   </td><td>pass</td></tr>\n",
       "\t<tr><td>3   </td><td>4   </td><td>buy </td></tr>\n",
       "\t<tr><td>2   </td><td>5   </td><td>buy </td></tr>\n",
       "\t<tr><td>5   </td><td>3   </td><td>buy </td></tr>\n",
       "\t<tr><td>4   </td><td>8   </td><td>buy </td></tr>\n",
       "\t<tr><td>3   </td><td>5   </td><td>buy </td></tr>\n",
       "\t<tr><td>4   </td><td>5   </td><td>buy </td></tr>\n",
       "\t<tr><td>5   </td><td>0   </td><td>buy </td></tr>\n",
       "\t<tr><td>3   </td><td>9   </td><td>buy </td></tr>\n",
       "\t<tr><td>3   </td><td>7   </td><td>buy </td></tr>\n",
       "\t<tr><td>2   </td><td>4   </td><td>buy </td></tr>\n",
       "\t<tr><td>3   </td><td>5   </td><td>buy </td></tr>\n",
       "\t<tr><td>1   </td><td>5   </td><td>buy </td></tr>\n",
       "\t<tr><td>2   </td><td>4   </td><td>buy </td></tr>\n",
       "\t<tr><td>5   </td><td>5   </td><td>buy </td></tr>\n",
       "\t<tr><td>4   </td><td>7   </td><td>pass</td></tr>\n",
       "\t<tr><td>1   </td><td>3   </td><td>pass</td></tr>\n",
       "\t<tr><td>5   </td><td>2   </td><td>pass</td></tr>\n",
       "\t<tr><td>1   </td><td>4   </td><td>pass</td></tr>\n",
       "\t<tr><td>1   </td><td>3   </td><td>pass</td></tr>\n",
       "\t<tr><td>1   </td><td>4   </td><td>pass</td></tr>\n",
       "\t<tr><td>1   </td><td>4   </td><td>pass</td></tr>\n",
       "\t<tr><td>2   </td><td>6   </td><td>pass</td></tr>\n",
       "\t<tr><td>2   </td><td>5   </td><td>pass</td></tr>\n",
       "\t<tr><td>5   </td><td>1   </td><td>pass</td></tr>\n",
       "\t<tr><td>1   </td><td>2   </td><td>pass</td></tr>\n",
       "\t<tr><td>3   </td><td>3   </td><td>pass</td></tr>\n",
       "\t<tr><td>1   </td><td>4   </td><td>pass</td></tr>\n",
       "\t<tr><td>2   </td><td>5   </td><td>pass</td></tr>\n",
       "\t<tr><td>3   </td><td>4   </td><td>pass</td></tr>\n",
       "\t<tr><td>4   </td><td>3   </td><td>pass</td></tr>\n",
       "\t<tr><td>5   </td><td>4   </td><td>pass</td></tr>\n",
       "\t<tr><td>6   </td><td>8   </td><td>pass</td></tr>\n",
       "</tbody>\n",
       "</table>\n"
      ],
      "text/latex": [
       "\\begin{tabular}{r|lll}\n",
       " x1 & x2 & class\\\\\n",
       "\\hline\n",
       "\t 1    & 3    & buy \\\\\n",
       "\t 2    & 2    & buy \\\\\n",
       "\t 3    & 6    & buy \\\\\n",
       "\t 4    & 5    & buy \\\\\n",
       "\t 3    & 4    & buy \\\\\n",
       "\t 2    & 5    & buy \\\\\n",
       "\t 5    & 3    & buy \\\\\n",
       "\t 4    & 8    & buy \\\\\n",
       "\t 3    & 9    & buy \\\\\n",
       "\t 2    & 0    & buy \\\\\n",
       "\t 5    & 0    & buy \\\\\n",
       "\t 3    & 9    & buy \\\\\n",
       "\t 3    & 7    & buy \\\\\n",
       "\t 2    & 4    & buy \\\\\n",
       "\t 3    & 5    & buy \\\\\n",
       "\t 1    & 5    & buy \\\\\n",
       "\t 1    & 4    & buy \\\\\n",
       "\t 5    & 5    & buy \\\\\n",
       "\t 4    & 6    & pass\\\\\n",
       "\t 1    & 3    & pass\\\\\n",
       "\t 5    & 2    & pass\\\\\n",
       "\t 1    & 4    & pass\\\\\n",
       "\t 0    & 3    & pass\\\\\n",
       "\t 0    & 5    & pass\\\\\n",
       "\t 1    & 4    & pass\\\\\n",
       "\t 2    & 6    & pass\\\\\n",
       "\t 2    & 5    & pass\\\\\n",
       "\t 5    & 1    & pass\\\\\n",
       "\t 1    & 2    & pass\\\\\n",
       "\t 3    & 3    & pass\\\\\n",
       "\t 1    & 4    & pass\\\\\n",
       "\t 2    & 5    & pass\\\\\n",
       "\t 3    & 4    & pass\\\\\n",
       "\t 4    & 3    & pass\\\\\n",
       "\t 5    & 4    & pass\\\\\n",
       "\t 6    & 8    & pass\\\\\n",
       "\t 1    & 3    & buy \\\\\n",
       "\t 3    & 2    & buy \\\\\n",
       "\t 3    & 6    & buy \\\\\n",
       "\t 6    & 5    & pass\\\\\n",
       "\t 3    & 4    & buy \\\\\n",
       "\t 2    & 5    & buy \\\\\n",
       "\t 5    & 3    & buy \\\\\n",
       "\t 4    & 8    & buy \\\\\n",
       "\t 3    & 5    & buy \\\\\n",
       "\t 4    & 5    & buy \\\\\n",
       "\t 5    & 0    & buy \\\\\n",
       "\t 3    & 9    & buy \\\\\n",
       "\t 3    & 7    & buy \\\\\n",
       "\t 2    & 4    & buy \\\\\n",
       "\t 3    & 5    & buy \\\\\n",
       "\t 1    & 5    & buy \\\\\n",
       "\t 2    & 4    & buy \\\\\n",
       "\t 5    & 5    & buy \\\\\n",
       "\t 4    & 7    & pass\\\\\n",
       "\t 1    & 3    & pass\\\\\n",
       "\t 5    & 2    & pass\\\\\n",
       "\t 1    & 4    & pass\\\\\n",
       "\t 1    & 3    & pass\\\\\n",
       "\t 1    & 4    & pass\\\\\n",
       "\t 1    & 4    & pass\\\\\n",
       "\t 2    & 6    & pass\\\\\n",
       "\t 2    & 5    & pass\\\\\n",
       "\t 5    & 1    & pass\\\\\n",
       "\t 1    & 2    & pass\\\\\n",
       "\t 3    & 3    & pass\\\\\n",
       "\t 1    & 4    & pass\\\\\n",
       "\t 2    & 5    & pass\\\\\n",
       "\t 3    & 4    & pass\\\\\n",
       "\t 4    & 3    & pass\\\\\n",
       "\t 5    & 4    & pass\\\\\n",
       "\t 6    & 8    & pass\\\\\n",
       "\\end{tabular}\n"
      ],
      "text/markdown": [
       "\n",
       "| x1 | x2 | class |\n",
       "|---|---|---|\n",
       "| 1    | 3    | buy  |\n",
       "| 2    | 2    | buy  |\n",
       "| 3    | 6    | buy  |\n",
       "| 4    | 5    | buy  |\n",
       "| 3    | 4    | buy  |\n",
       "| 2    | 5    | buy  |\n",
       "| 5    | 3    | buy  |\n",
       "| 4    | 8    | buy  |\n",
       "| 3    | 9    | buy  |\n",
       "| 2    | 0    | buy  |\n",
       "| 5    | 0    | buy  |\n",
       "| 3    | 9    | buy  |\n",
       "| 3    | 7    | buy  |\n",
       "| 2    | 4    | buy  |\n",
       "| 3    | 5    | buy  |\n",
       "| 1    | 5    | buy  |\n",
       "| 1    | 4    | buy  |\n",
       "| 5    | 5    | buy  |\n",
       "| 4    | 6    | pass |\n",
       "| 1    | 3    | pass |\n",
       "| 5    | 2    | pass |\n",
       "| 1    | 4    | pass |\n",
       "| 0    | 3    | pass |\n",
       "| 0    | 5    | pass |\n",
       "| 1    | 4    | pass |\n",
       "| 2    | 6    | pass |\n",
       "| 2    | 5    | pass |\n",
       "| 5    | 1    | pass |\n",
       "| 1    | 2    | pass |\n",
       "| 3    | 3    | pass |\n",
       "| 1    | 4    | pass |\n",
       "| 2    | 5    | pass |\n",
       "| 3    | 4    | pass |\n",
       "| 4    | 3    | pass |\n",
       "| 5    | 4    | pass |\n",
       "| 6    | 8    | pass |\n",
       "| 1    | 3    | buy  |\n",
       "| 3    | 2    | buy  |\n",
       "| 3    | 6    | buy  |\n",
       "| 6    | 5    | pass |\n",
       "| 3    | 4    | buy  |\n",
       "| 2    | 5    | buy  |\n",
       "| 5    | 3    | buy  |\n",
       "| 4    | 8    | buy  |\n",
       "| 3    | 5    | buy  |\n",
       "| 4    | 5    | buy  |\n",
       "| 5    | 0    | buy  |\n",
       "| 3    | 9    | buy  |\n",
       "| 3    | 7    | buy  |\n",
       "| 2    | 4    | buy  |\n",
       "| 3    | 5    | buy  |\n",
       "| 1    | 5    | buy  |\n",
       "| 2    | 4    | buy  |\n",
       "| 5    | 5    | buy  |\n",
       "| 4    | 7    | pass |\n",
       "| 1    | 3    | pass |\n",
       "| 5    | 2    | pass |\n",
       "| 1    | 4    | pass |\n",
       "| 1    | 3    | pass |\n",
       "| 1    | 4    | pass |\n",
       "| 1    | 4    | pass |\n",
       "| 2    | 6    | pass |\n",
       "| 2    | 5    | pass |\n",
       "| 5    | 1    | pass |\n",
       "| 1    | 2    | pass |\n",
       "| 3    | 3    | pass |\n",
       "| 1    | 4    | pass |\n",
       "| 2    | 5    | pass |\n",
       "| 3    | 4    | pass |\n",
       "| 4    | 3    | pass |\n",
       "| 5    | 4    | pass |\n",
       "| 6    | 8    | pass |\n",
       "\n"
      ],
      "text/plain": [
       "   x1 x2 class\n",
       "1  1  3  buy  \n",
       "2  2  2  buy  \n",
       "3  3  6  buy  \n",
       "4  4  5  buy  \n",
       "5  3  4  buy  \n",
       "6  2  5  buy  \n",
       "7  5  3  buy  \n",
       "8  4  8  buy  \n",
       "9  3  9  buy  \n",
       "10 2  0  buy  \n",
       "11 5  0  buy  \n",
       "12 3  9  buy  \n",
       "13 3  7  buy  \n",
       "14 2  4  buy  \n",
       "15 3  5  buy  \n",
       "16 1  5  buy  \n",
       "17 1  4  buy  \n",
       "18 5  5  buy  \n",
       "19 4  6  pass \n",
       "20 1  3  pass \n",
       "21 5  2  pass \n",
       "22 1  4  pass \n",
       "23 0  3  pass \n",
       "24 0  5  pass \n",
       "25 1  4  pass \n",
       "26 2  6  pass \n",
       "27 2  5  pass \n",
       "28 5  1  pass \n",
       "29 1  2  pass \n",
       "30 3  3  pass \n",
       "31 1  4  pass \n",
       "32 2  5  pass \n",
       "33 3  4  pass \n",
       "34 4  3  pass \n",
       "35 5  4  pass \n",
       "36 6  8  pass \n",
       "37 1  3  buy  \n",
       "38 3  2  buy  \n",
       "39 3  6  buy  \n",
       "40 6  5  pass \n",
       "41 3  4  buy  \n",
       "42 2  5  buy  \n",
       "43 5  3  buy  \n",
       "44 4  8  buy  \n",
       "45 3  5  buy  \n",
       "46 4  5  buy  \n",
       "47 5  0  buy  \n",
       "48 3  9  buy  \n",
       "49 3  7  buy  \n",
       "50 2  4  buy  \n",
       "51 3  5  buy  \n",
       "52 1  5  buy  \n",
       "53 2  4  buy  \n",
       "54 5  5  buy  \n",
       "55 4  7  pass \n",
       "56 1  3  pass \n",
       "57 5  2  pass \n",
       "58 1  4  pass \n",
       "59 1  3  pass \n",
       "60 1  4  pass \n",
       "61 1  4  pass \n",
       "62 2  6  pass \n",
       "63 2  5  pass \n",
       "64 5  1  pass \n",
       "65 1  2  pass \n",
       "66 3  3  pass \n",
       "67 1  4  pass \n",
       "68 2  5  pass \n",
       "69 3  4  pass \n",
       "70 4  3  pass \n",
       "71 5  4  pass \n",
       "72 6  8  pass "
      ]
     },
     "metadata": {},
     "output_type": "display_data"
    }
   ],
   "source": [
    "data = data.frame(x1=c(1,2,3,4,3,2,5,4,3,2,5,3,3,2,3,1,1,5,4,1,5,1,0,0,1,2,2,5,1,3,1,2,3,4,5,6,\n",
    "                       1,3,3,6,3,2,5,4,3,4,5,3,3,2,3,1,2,5,4,1,5,1,1,1,1,2,2,5,1,3,1,2,3,4,5,6),\n",
    "                  x2=c(3,2,6,5,4,5,3,8,9,0,0,9,7,4,5,5,4,5,6,3,2,4,3,5,4,6,5,1,2,3,4,5,4,3,4,8,\n",
    "                       3,2,6,5,4,5,3,8,5,5,0,9,7,4,5,5,4,5,7,3,2,4,3,4,4,6,5,1,2,3,4,5,4,3,4,8),\n",
    "                  class=c(\"buy\",\"buy\",\"buy\",\"buy\",\"buy\",\"buy\",\"buy\",\"buy\",\"buy\",\"buy\",\"buy\",\"buy\",\"buy\",\"buy\",\"buy\",\"buy\",\"buy\",\"buy\",\n",
    "                          \"pass\",\"pass\",\"pass\",\"pass\",\"pass\",\"pass\",\"pass\",\"pass\",\"pass\",\"pass\",\"pass\",\"pass\",\"pass\",\"pass\",\"pass\",\"pass\",\"pass\",\"pass\",\n",
    "                          \"buy\",\"buy\",\"buy\",\"pass\",\"buy\",\"buy\",\"buy\",\"buy\",\"buy\",\"buy\",\"buy\",\"buy\",\"buy\",\"buy\",\"buy\",\"buy\",\"buy\",\"buy\",\n",
    "                          \"pass\",\"pass\",\"pass\",\"pass\",\"pass\",\"pass\",\"pass\",\"pass\",\"pass\",\"pass\",\"pass\",\"pass\",\"pass\",\"pass\",\"pass\",\"pass\",\"pass\",\"pass\"))\n",
    "\n",
    "size(data)\n",
    "data"
   ]
  },
  {
   "cell_type": "code",
   "execution_count": 4,
   "metadata": {},
   "outputs": [
    {
     "data": {
      "text/html": [
       "37"
      ],
      "text/latex": [
       "37"
      ],
      "text/markdown": [
       "37"
      ],
      "text/plain": [
       "[1] 37"
      ]
     },
     "metadata": {},
     "output_type": "display_data"
    }
   ],
   "source": [
    "length(which(data$class==\"pass\"))"
   ]
  },
  {
   "cell_type": "markdown",
   "metadata": {},
   "source": [
    "## Problem 1\n",
    "\n",
    "Build a naive Bayes model based on the data to predict which prospects will buy.\n",
    "\n",
    "You may want to use these function(s):\n",
    "* naiveBayes()"
   ]
  },
  {
   "cell_type": "code",
   "execution_count": 5,
   "metadata": {},
   "outputs": [
    {
     "data": {
      "text/plain": [
       "\n",
       "Naive Bayes Classifier for Discrete Predictors\n",
       "\n",
       "Call:\n",
       "naiveBayes.default(x = X, y = Y, laplace = laplace)\n",
       "\n",
       "A-priori probabilities:\n",
       "Y\n",
       "      buy      pass \n",
       "0.4861111 0.5138889 \n",
       "\n",
       "Conditional probabilities:\n",
       "      x1\n",
       "Y          [,1]     [,2]\n",
       "  buy  2.971429 1.271537\n",
       "  pass 2.702703 1.853898\n",
       "\n",
       "      x2\n",
       "Y          [,1]     [,2]\n",
       "  buy  4.685714 2.348609\n",
       "  pass 4.027027 1.674755\n"
      ]
     },
     "metadata": {},
     "output_type": "display_data"
    }
   ],
   "source": []
  },
  {
   "cell_type": "markdown",
   "metadata": {},
   "source": [
    "## Problem 2: Evaluation by Insample\n",
    "\n",
    "Make predictions based on the data (\"buy\" cutoff=0.5) and show the resulting confusion matrix, accuracy, & business metric of the model in terms of profit.\n",
    "\n",
    "You may want to use these function(s):\n",
    "* colnames()\n",
    "* predict()\n",
    "* as.class()\n",
    "* confusionMatrix()\n",
    "* round()\n",
    "\n",
    "To calculate profit, develop a formula that relies on the confusion matrix.  In the formula, round to the nearest whole number of prospects as appropriate.  "
   ]
  },
  {
   "cell_type": "code",
   "execution_count": 6,
   "metadata": {},
   "outputs": [
    {
     "data": {
      "text/plain": [
       "          Reference\n",
       "Prediction        buy       pass\n",
       "      buy  0.25000000 0.08333333\n",
       "      pass 0.23611111 0.43055556"
      ]
     },
     "metadata": {},
     "output_type": "display_data"
    },
    {
     "data": {
      "text/html": [
       "<table>\n",
       "<thead><tr><th scope=col>insample_accuracy</th></tr></thead>\n",
       "<tbody>\n",
       "\t<tr><td>0.6805556</td></tr>\n",
       "</tbody>\n",
       "</table>\n"
      ],
      "text/latex": [
       "\\begin{tabular}{r|l}\n",
       " insample\\_accuracy\\\\\n",
       "\\hline\n",
       "\t 0.6805556\\\\\n",
       "\\end{tabular}\n"
      ],
      "text/markdown": [
       "\n",
       "| insample_accuracy |\n",
       "|---|\n",
       "| 0.6805556 |\n",
       "\n"
      ],
      "text/plain": [
       "  insample_accuracy\n",
       "1 0.6805556        "
      ]
     },
     "metadata": {},
     "output_type": "display_data"
    }
   ],
   "source": []
  },
  {
   "cell_type": "code",
   "execution_count": 7,
   "metadata": {},
   "outputs": [
    {
     "data": {
      "text/html": [
       "<table>\n",
       "<thead><tr><th scope=col>buy_buy</th><th scope=col>pass_buy</th><th scope=col>buy_pass</th><th scope=col>pass_pass</th><th scope=col>insample_profit</th></tr></thead>\n",
       "<tbody>\n",
       "\t<tr><td>2483000</td><td>0      </td><td>-693000</td><td>0      </td><td>1790000</td></tr>\n",
       "</tbody>\n",
       "</table>\n"
      ],
      "text/latex": [
       "\\begin{tabular}{r|lllll}\n",
       " buy\\_buy & pass\\_buy & buy\\_pass & pass\\_pass & insample\\_profit\\\\\n",
       "\\hline\n",
       "\t 2483000 & 0       & -693000 & 0       & 1790000\\\\\n",
       "\\end{tabular}\n"
      ],
      "text/markdown": [
       "\n",
       "| buy_buy | pass_buy | buy_pass | pass_pass | insample_profit |\n",
       "|---|---|---|---|---|\n",
       "| 2483000 | 0       | -693000 | 0       | 1790000 |\n",
       "\n"
      ],
      "text/plain": [
       "  buy_buy pass_buy buy_pass pass_pass insample_profit\n",
       "1 2483000 0        -693000  0         1790000        "
      ]
     },
     "metadata": {},
     "output_type": "display_data"
    }
   ],
   "source": []
  },
  {
   "cell_type": "markdown",
   "metadata": {},
   "source": [
    "## Problem 3: Evaluation by Cross-Validation\n",
    "\n",
    "Partition the data into 5 test folds.\n",
    "\n",
    "For each fold, build a naive Bayes model based on training data, make predictions based on test data (\"buy\" cutoff=0.5), and show the resulting confusion matrix, accuracy, & business metric in terms of profit.\n",
    "\n",
    "Show the model, its cross-validation accuracy, & its cross-validation business value in terms of profit.\n",
    "\n",
    "You may want to use these function(s):\n",
    "* set.seed()\n",
    "* createFolds()\n",
    "* setdiff()\n",
    "* colnames()\n",
    "* naiveBayes()\n",
    "* predict()\n",
    "* as.class()\n",
    "* confusionMatrix()\n",
    "* round()\n",
    "\n",
    "Use `set.seed(12345)` and `createFolds(..., k=5)` to do the partitioning."
   ]
  },
  {
   "cell_type": "code",
   "execution_count": 8,
   "metadata": {},
   "outputs": [
    {
     "data": {
      "text/html": [
       "<dl>\n",
       "\t<dt>$Fold1</dt>\n",
       "\t\t<dd><ol class=list-inline>\n",
       "\t<li>1</li>\n",
       "\t<li>8</li>\n",
       "\t<li>11</li>\n",
       "\t<li>31</li>\n",
       "\t<li>32</li>\n",
       "\t<li>38</li>\n",
       "\t<li>43</li>\n",
       "\t<li>52</li>\n",
       "\t<li>54</li>\n",
       "\t<li>56</li>\n",
       "\t<li>66</li>\n",
       "\t<li>68</li>\n",
       "\t<li>71</li>\n",
       "\t<li>72</li>\n",
       "</ol>\n",
       "</dd>\n",
       "\t<dt>$Fold2</dt>\n",
       "\t\t<dd><ol class=list-inline>\n",
       "\t<li>13</li>\n",
       "\t<li>16</li>\n",
       "\t<li>22</li>\n",
       "\t<li>28</li>\n",
       "\t<li>34</li>\n",
       "\t<li>39</li>\n",
       "\t<li>48</li>\n",
       "\t<li>50</li>\n",
       "\t<li>51</li>\n",
       "\t<li>53</li>\n",
       "\t<li>57</li>\n",
       "\t<li>59</li>\n",
       "\t<li>60</li>\n",
       "\t<li>64</li>\n",
       "\t<li>65</li>\n",
       "</ol>\n",
       "</dd>\n",
       "\t<dt>$Fold3</dt>\n",
       "\t\t<dd><ol class=list-inline>\n",
       "\t<li>10</li>\n",
       "\t<li>17</li>\n",
       "\t<li>20</li>\n",
       "\t<li>26</li>\n",
       "\t<li>29</li>\n",
       "\t<li>36</li>\n",
       "\t<li>42</li>\n",
       "\t<li>44</li>\n",
       "\t<li>45</li>\n",
       "\t<li>46</li>\n",
       "\t<li>49</li>\n",
       "\t<li>61</li>\n",
       "\t<li>67</li>\n",
       "\t<li>69</li>\n",
       "</ol>\n",
       "</dd>\n",
       "\t<dt>$Fold4</dt>\n",
       "\t\t<dd><ol class=list-inline>\n",
       "\t<li>4</li>\n",
       "\t<li>12</li>\n",
       "\t<li>15</li>\n",
       "\t<li>18</li>\n",
       "\t<li>19</li>\n",
       "\t<li>25</li>\n",
       "\t<li>30</li>\n",
       "\t<li>37</li>\n",
       "\t<li>40</li>\n",
       "\t<li>41</li>\n",
       "\t<li>47</li>\n",
       "\t<li>55</li>\n",
       "\t<li>58</li>\n",
       "\t<li>62</li>\n",
       "\t<li>63</li>\n",
       "</ol>\n",
       "</dd>\n",
       "\t<dt>$Fold5</dt>\n",
       "\t\t<dd><ol class=list-inline>\n",
       "\t<li>2</li>\n",
       "\t<li>3</li>\n",
       "\t<li>5</li>\n",
       "\t<li>6</li>\n",
       "\t<li>7</li>\n",
       "\t<li>9</li>\n",
       "\t<li>14</li>\n",
       "\t<li>21</li>\n",
       "\t<li>23</li>\n",
       "\t<li>24</li>\n",
       "\t<li>27</li>\n",
       "\t<li>33</li>\n",
       "\t<li>35</li>\n",
       "\t<li>70</li>\n",
       "</ol>\n",
       "</dd>\n",
       "</dl>\n"
      ],
      "text/latex": [
       "\\begin{description}\n",
       "\\item[\\$Fold1] \\begin{enumerate*}\n",
       "\\item 1\n",
       "\\item 8\n",
       "\\item 11\n",
       "\\item 31\n",
       "\\item 32\n",
       "\\item 38\n",
       "\\item 43\n",
       "\\item 52\n",
       "\\item 54\n",
       "\\item 56\n",
       "\\item 66\n",
       "\\item 68\n",
       "\\item 71\n",
       "\\item 72\n",
       "\\end{enumerate*}\n",
       "\n",
       "\\item[\\$Fold2] \\begin{enumerate*}\n",
       "\\item 13\n",
       "\\item 16\n",
       "\\item 22\n",
       "\\item 28\n",
       "\\item 34\n",
       "\\item 39\n",
       "\\item 48\n",
       "\\item 50\n",
       "\\item 51\n",
       "\\item 53\n",
       "\\item 57\n",
       "\\item 59\n",
       "\\item 60\n",
       "\\item 64\n",
       "\\item 65\n",
       "\\end{enumerate*}\n",
       "\n",
       "\\item[\\$Fold3] \\begin{enumerate*}\n",
       "\\item 10\n",
       "\\item 17\n",
       "\\item 20\n",
       "\\item 26\n",
       "\\item 29\n",
       "\\item 36\n",
       "\\item 42\n",
       "\\item 44\n",
       "\\item 45\n",
       "\\item 46\n",
       "\\item 49\n",
       "\\item 61\n",
       "\\item 67\n",
       "\\item 69\n",
       "\\end{enumerate*}\n",
       "\n",
       "\\item[\\$Fold4] \\begin{enumerate*}\n",
       "\\item 4\n",
       "\\item 12\n",
       "\\item 15\n",
       "\\item 18\n",
       "\\item 19\n",
       "\\item 25\n",
       "\\item 30\n",
       "\\item 37\n",
       "\\item 40\n",
       "\\item 41\n",
       "\\item 47\n",
       "\\item 55\n",
       "\\item 58\n",
       "\\item 62\n",
       "\\item 63\n",
       "\\end{enumerate*}\n",
       "\n",
       "\\item[\\$Fold5] \\begin{enumerate*}\n",
       "\\item 2\n",
       "\\item 3\n",
       "\\item 5\n",
       "\\item 6\n",
       "\\item 7\n",
       "\\item 9\n",
       "\\item 14\n",
       "\\item 21\n",
       "\\item 23\n",
       "\\item 24\n",
       "\\item 27\n",
       "\\item 33\n",
       "\\item 35\n",
       "\\item 70\n",
       "\\end{enumerate*}\n",
       "\n",
       "\\end{description}\n"
      ],
      "text/markdown": [
       "$Fold1\n",
       ":   1. 1\n",
       "2. 8\n",
       "3. 11\n",
       "4. 31\n",
       "5. 32\n",
       "6. 38\n",
       "7. 43\n",
       "8. 52\n",
       "9. 54\n",
       "10. 56\n",
       "11. 66\n",
       "12. 68\n",
       "13. 71\n",
       "14. 72\n",
       "\n",
       "\n",
       "\n",
       "$Fold2\n",
       ":   1. 13\n",
       "2. 16\n",
       "3. 22\n",
       "4. 28\n",
       "5. 34\n",
       "6. 39\n",
       "7. 48\n",
       "8. 50\n",
       "9. 51\n",
       "10. 53\n",
       "11. 57\n",
       "12. 59\n",
       "13. 60\n",
       "14. 64\n",
       "15. 65\n",
       "\n",
       "\n",
       "\n",
       "$Fold3\n",
       ":   1. 10\n",
       "2. 17\n",
       "3. 20\n",
       "4. 26\n",
       "5. 29\n",
       "6. 36\n",
       "7. 42\n",
       "8. 44\n",
       "9. 45\n",
       "10. 46\n",
       "11. 49\n",
       "12. 61\n",
       "13. 67\n",
       "14. 69\n",
       "\n",
       "\n",
       "\n",
       "$Fold4\n",
       ":   1. 4\n",
       "2. 12\n",
       "3. 15\n",
       "4. 18\n",
       "5. 19\n",
       "6. 25\n",
       "7. 30\n",
       "8. 37\n",
       "9. 40\n",
       "10. 41\n",
       "11. 47\n",
       "12. 55\n",
       "13. 58\n",
       "14. 62\n",
       "15. 63\n",
       "\n",
       "\n",
       "\n",
       "$Fold5\n",
       ":   1. 2\n",
       "2. 3\n",
       "3. 5\n",
       "4. 6\n",
       "5. 7\n",
       "6. 9\n",
       "7. 14\n",
       "8. 21\n",
       "9. 23\n",
       "10. 24\n",
       "11. 27\n",
       "12. 33\n",
       "13. 35\n",
       "14. 70\n",
       "\n",
       "\n",
       "\n",
       "\n",
       "\n"
      ],
      "text/plain": [
       "$Fold1\n",
       " [1]  1  8 11 31 32 38 43 52 54 56 66 68 71 72\n",
       "\n",
       "$Fold2\n",
       " [1] 13 16 22 28 34 39 48 50 51 53 57 59 60 64 65\n",
       "\n",
       "$Fold3\n",
       " [1] 10 17 20 26 29 36 42 44 45 46 49 61 67 69\n",
       "\n",
       "$Fold4\n",
       " [1]  4 12 15 18 19 25 30 37 40 41 47 55 58 62 63\n",
       "\n",
       "$Fold5\n",
       " [1]  2  3  5  6  7  9 14 21 23 24 27 33 35 70\n"
      ]
     },
     "metadata": {},
     "output_type": "display_data"
    }
   ],
   "source": []
  },
  {
   "cell_type": "code",
   "execution_count": 9,
   "metadata": {},
   "outputs": [
    {
     "data": {
      "text/plain": [
       "          Reference\n",
       "Prediction        buy       pass\n",
       "      buy  0.07142857 0.14285714\n",
       "      pass 0.42857143 0.35714286"
      ]
     },
     "metadata": {},
     "output_type": "display_data"
    },
    {
     "data": {
      "text/html": [
       "<table>\n",
       "<thead><tr><th scope=col>accuracy.1</th></tr></thead>\n",
       "<tbody>\n",
       "\t<tr><td>0.4285714</td></tr>\n",
       "</tbody>\n",
       "</table>\n"
      ],
      "text/latex": [
       "\\begin{tabular}{r|l}\n",
       " accuracy.1\\\\\n",
       "\\hline\n",
       "\t 0.4285714\\\\\n",
       "\\end{tabular}\n"
      ],
      "text/markdown": [
       "\n",
       "| accuracy.1 |\n",
       "|---|\n",
       "| 0.4285714 |\n",
       "\n"
      ],
      "text/plain": [
       "  accuracy.1\n",
       "1 0.4285714 "
      ]
     },
     "metadata": {},
     "output_type": "display_data"
    },
    {
     "data": {
      "text/html": [
       "<table>\n",
       "<thead><tr><th scope=col>buy_buy</th><th scope=col>pass_buy</th><th scope=col>buy_pass</th><th scope=col>pass_pass</th><th scope=col>profit.1</th></tr></thead>\n",
       "<tbody>\n",
       "\t<tr><td>668500  </td><td>0       </td><td>-1219500</td><td>0       </td><td>-551000 </td></tr>\n",
       "</tbody>\n",
       "</table>\n"
      ],
      "text/latex": [
       "\\begin{tabular}{r|lllll}\n",
       " buy\\_buy & pass\\_buy & buy\\_pass & pass\\_pass & profit.1\\\\\n",
       "\\hline\n",
       "\t 668500   & 0        & -1219500 & 0        & -551000 \\\\\n",
       "\\end{tabular}\n"
      ],
      "text/markdown": [
       "\n",
       "| buy_buy | pass_buy | buy_pass | pass_pass | profit.1 |\n",
       "|---|---|---|---|---|\n",
       "| 668500   | 0        | -1219500 | 0        | -551000  |\n",
       "\n"
      ],
      "text/plain": [
       "  buy_buy pass_buy buy_pass pass_pass profit.1\n",
       "1 668500  0        -1219500 0         -551000 "
      ]
     },
     "metadata": {},
     "output_type": "display_data"
    }
   ],
   "source": []
  },
  {
   "cell_type": "code",
   "execution_count": 10,
   "metadata": {},
   "outputs": [
    {
     "data": {
      "text/plain": [
       "          Reference\n",
       "Prediction       buy      pass\n",
       "      buy  0.2000000 0.2666667\n",
       "      pass 0.2666667 0.2666667"
      ]
     },
     "metadata": {},
     "output_type": "display_data"
    },
    {
     "data": {
      "text/html": [
       "<table>\n",
       "<thead><tr><th scope=col>accuracy.2</th></tr></thead>\n",
       "<tbody>\n",
       "\t<tr><td>0.4666667</td></tr>\n",
       "</tbody>\n",
       "</table>\n"
      ],
      "text/latex": [
       "\\begin{tabular}{r|l}\n",
       " accuracy.2\\\\\n",
       "\\hline\n",
       "\t 0.4666667\\\\\n",
       "\\end{tabular}\n"
      ],
      "text/markdown": [
       "\n",
       "| accuracy.2 |\n",
       "|---|\n",
       "| 0.4666667 |\n",
       "\n"
      ],
      "text/plain": [
       "  accuracy.2\n",
       "1 0.4666667 "
      ]
     },
     "metadata": {},
     "output_type": "display_data"
    },
    {
     "data": {
      "text/html": [
       "<table>\n",
       "<thead><tr><th scope=col>buy_buy</th><th scope=col>pass_buy</th><th scope=col>buy_pass</th><th scope=col>pass_pass</th><th scope=col>profit.2</th></tr></thead>\n",
       "<tbody>\n",
       "\t<tr><td>2005500 </td><td>0       </td><td>-2137500</td><td>0       </td><td>-132000 </td></tr>\n",
       "</tbody>\n",
       "</table>\n"
      ],
      "text/latex": [
       "\\begin{tabular}{r|lllll}\n",
       " buy\\_buy & pass\\_buy & buy\\_pass & pass\\_pass & profit.2\\\\\n",
       "\\hline\n",
       "\t 2005500  & 0        & -2137500 & 0        & -132000 \\\\\n",
       "\\end{tabular}\n"
      ],
      "text/markdown": [
       "\n",
       "| buy_buy | pass_buy | buy_pass | pass_pass | profit.2 |\n",
       "|---|---|---|---|---|\n",
       "| 2005500  | 0        | -2137500 | 0        | -132000  |\n",
       "\n"
      ],
      "text/plain": [
       "  buy_buy pass_buy buy_pass pass_pass profit.2\n",
       "1 2005500 0        -2137500 0         -132000 "
      ]
     },
     "metadata": {},
     "output_type": "display_data"
    }
   ],
   "source": []
  },
  {
   "cell_type": "code",
   "execution_count": 11,
   "metadata": {},
   "outputs": [
    {
     "data": {
      "text/plain": [
       "          Reference\n",
       "Prediction       buy      pass\n",
       "      buy  0.3571429 0.1428571\n",
       "      pass 0.1428571 0.3571429"
      ]
     },
     "metadata": {},
     "output_type": "display_data"
    },
    {
     "data": {
      "text/html": [
       "<table>\n",
       "<thead><tr><th scope=col>accuracy.3</th></tr></thead>\n",
       "<tbody>\n",
       "\t<tr><td>0.7142857</td></tr>\n",
       "</tbody>\n",
       "</table>\n"
      ],
      "text/latex": [
       "\\begin{tabular}{r|l}\n",
       " accuracy.3\\\\\n",
       "\\hline\n",
       "\t 0.7142857\\\\\n",
       "\\end{tabular}\n"
      ],
      "text/markdown": [
       "\n",
       "| accuracy.3 |\n",
       "|---|\n",
       "| 0.7142857 |\n",
       "\n"
      ],
      "text/plain": [
       "  accuracy.3\n",
       "1 0.7142857 "
      ]
     },
     "metadata": {},
     "output_type": "display_data"
    },
    {
     "data": {
      "text/html": [
       "<table>\n",
       "<thead><tr><th scope=col>buy_buy</th><th scope=col>pass_buy</th><th scope=col>buy_pass</th><th scope=col>pass_pass</th><th scope=col>profit.3</th></tr></thead>\n",
       "<tbody>\n",
       "\t<tr><td>3438000 </td><td>0       </td><td>-1219500</td><td>0       </td><td>2218500 </td></tr>\n",
       "</tbody>\n",
       "</table>\n"
      ],
      "text/latex": [
       "\\begin{tabular}{r|lllll}\n",
       " buy\\_buy & pass\\_buy & buy\\_pass & pass\\_pass & profit.3\\\\\n",
       "\\hline\n",
       "\t 3438000  & 0        & -1219500 & 0        & 2218500 \\\\\n",
       "\\end{tabular}\n"
      ],
      "text/markdown": [
       "\n",
       "| buy_buy | pass_buy | buy_pass | pass_pass | profit.3 |\n",
       "|---|---|---|---|---|\n",
       "| 3438000  | 0        | -1219500 | 0        | 2218500  |\n",
       "\n"
      ],
      "text/plain": [
       "  buy_buy pass_buy buy_pass pass_pass profit.3\n",
       "1 3438000 0        -1219500 0         2218500 "
      ]
     },
     "metadata": {},
     "output_type": "display_data"
    }
   ],
   "source": []
  },
  {
   "cell_type": "code",
   "execution_count": 12,
   "metadata": {},
   "outputs": [
    {
     "data": {
      "text/plain": [
       "          Reference\n",
       "Prediction       buy      pass\n",
       "      buy  0.2666667 0.2666667\n",
       "      pass 0.2000000 0.2666667"
      ]
     },
     "metadata": {},
     "output_type": "display_data"
    },
    {
     "data": {
      "text/html": [
       "<table>\n",
       "<thead><tr><th scope=col>accuracy.4</th></tr></thead>\n",
       "<tbody>\n",
       "\t<tr><td>0.5333333</td></tr>\n",
       "</tbody>\n",
       "</table>\n"
      ],
      "text/latex": [
       "\\begin{tabular}{r|l}\n",
       " accuracy.4\\\\\n",
       "\\hline\n",
       "\t 0.5333333\\\\\n",
       "\\end{tabular}\n"
      ],
      "text/markdown": [
       "\n",
       "| accuracy.4 |\n",
       "|---|\n",
       "| 0.5333333 |\n",
       "\n"
      ],
      "text/plain": [
       "  accuracy.4\n",
       "1 0.5333333 "
      ]
     },
     "metadata": {},
     "output_type": "display_data"
    },
    {
     "data": {
      "text/html": [
       "<table>\n",
       "<thead><tr><th scope=col>buy_buy</th><th scope=col>pass_buy</th><th scope=col>buy_pass</th><th scope=col>pass_pass</th><th scope=col>profit.4</th></tr></thead>\n",
       "<tbody>\n",
       "\t<tr><td>2769500 </td><td>0       </td><td>-2137500</td><td>0       </td><td>632000  </td></tr>\n",
       "</tbody>\n",
       "</table>\n"
      ],
      "text/latex": [
       "\\begin{tabular}{r|lllll}\n",
       " buy\\_buy & pass\\_buy & buy\\_pass & pass\\_pass & profit.4\\\\\n",
       "\\hline\n",
       "\t 2769500  & 0        & -2137500 & 0        & 632000  \\\\\n",
       "\\end{tabular}\n"
      ],
      "text/markdown": [
       "\n",
       "| buy_buy | pass_buy | buy_pass | pass_pass | profit.4 |\n",
       "|---|---|---|---|---|\n",
       "| 2769500  | 0        | -2137500 | 0        | 632000   |\n",
       "\n"
      ],
      "text/plain": [
       "  buy_buy pass_buy buy_pass pass_pass profit.4\n",
       "1 2769500 0        -2137500 0         632000  "
      ]
     },
     "metadata": {},
     "output_type": "display_data"
    }
   ],
   "source": []
  },
  {
   "cell_type": "code",
   "execution_count": 13,
   "metadata": {},
   "outputs": [
    {
     "data": {
      "text/plain": [
       "          Reference\n",
       "Prediction       buy      pass\n",
       "      buy  0.1428571 0.0000000\n",
       "      pass 0.3571429 0.5000000"
      ]
     },
     "metadata": {},
     "output_type": "display_data"
    },
    {
     "data": {
      "text/html": [
       "<table>\n",
       "<thead><tr><th scope=col>accuracy.5</th></tr></thead>\n",
       "<tbody>\n",
       "\t<tr><td>0.6428571</td></tr>\n",
       "</tbody>\n",
       "</table>\n"
      ],
      "text/latex": [
       "\\begin{tabular}{r|l}\n",
       " accuracy.5\\\\\n",
       "\\hline\n",
       "\t 0.6428571\\\\\n",
       "\\end{tabular}\n"
      ],
      "text/markdown": [
       "\n",
       "| accuracy.5 |\n",
       "|---|\n",
       "| 0.6428571 |\n",
       "\n"
      ],
      "text/plain": [
       "  accuracy.5\n",
       "1 0.6428571 "
      ]
     },
     "metadata": {},
     "output_type": "display_data"
    },
    {
     "data": {
      "text/html": [
       "<table>\n",
       "<thead><tr><th scope=col>buy_buy</th><th scope=col>pass_buy</th><th scope=col>buy_pass</th><th scope=col>pass_pass</th><th scope=col>profit.5</th></tr></thead>\n",
       "<tbody>\n",
       "\t<tr><td>1337000</td><td>0      </td><td>0      </td><td>0      </td><td>1337000</td></tr>\n",
       "</tbody>\n",
       "</table>\n"
      ],
      "text/latex": [
       "\\begin{tabular}{r|lllll}\n",
       " buy\\_buy & pass\\_buy & buy\\_pass & pass\\_pass & profit.5\\\\\n",
       "\\hline\n",
       "\t 1337000 & 0       & 0       & 0       & 1337000\\\\\n",
       "\\end{tabular}\n"
      ],
      "text/markdown": [
       "\n",
       "| buy_buy | pass_buy | buy_pass | pass_pass | profit.5 |\n",
       "|---|---|---|---|---|\n",
       "| 1337000 | 0       | 0       | 0       | 1337000 |\n",
       "\n"
      ],
      "text/plain": [
       "  buy_buy pass_buy buy_pass pass_pass profit.5\n",
       "1 1337000 0        0        0         1337000 "
      ]
     },
     "metadata": {},
     "output_type": "display_data"
    }
   ],
   "source": []
  },
  {
   "cell_type": "code",
   "execution_count": 14,
   "metadata": {},
   "outputs": [
    {
     "data": {
      "text/plain": [
       "\n",
       "Naive Bayes Classifier for Discrete Predictors\n",
       "\n",
       "Call:\n",
       "naiveBayes.default(x = X, y = Y, laplace = laplace)\n",
       "\n",
       "A-priori probabilities:\n",
       "Y\n",
       "      buy      pass \n",
       "0.4861111 0.5138889 \n",
       "\n",
       "Conditional probabilities:\n",
       "      x1\n",
       "Y          [,1]     [,2]\n",
       "  buy  2.971429 1.271537\n",
       "  pass 2.702703 1.853898\n",
       "\n",
       "      x2\n",
       "Y          [,1]     [,2]\n",
       "  buy  4.685714 2.348609\n",
       "  pass 4.027027 1.674755\n"
      ]
     },
     "metadata": {},
     "output_type": "display_data"
    },
    {
     "data": {
      "text/html": [
       "<table>\n",
       "<thead><tr><th scope=col>cv_accuracy</th><th scope=col>cv_profit</th></tr></thead>\n",
       "<tbody>\n",
       "\t<tr><td>0.5571429</td><td>642000   </td></tr>\n",
       "</tbody>\n",
       "</table>\n"
      ],
      "text/latex": [
       "\\begin{tabular}{r|ll}\n",
       " cv\\_accuracy & cv\\_profit\\\\\n",
       "\\hline\n",
       "\t 0.5571429 & 642000   \\\\\n",
       "\\end{tabular}\n"
      ],
      "text/markdown": [
       "\n",
       "| cv_accuracy | cv_profit |\n",
       "|---|---|\n",
       "| 0.5571429 | 642000    |\n",
       "\n"
      ],
      "text/plain": [
       "  cv_accuracy cv_profit\n",
       "1 0.5571429   642000   "
      ]
     },
     "metadata": {},
     "output_type": "display_data"
    }
   ],
   "source": []
  },
  {
   "cell_type": "markdown",
   "metadata": {},
   "source": [
    "## Problem 4: Benefit of the Model\n",
    "\n",
    "What is the model worth to our company in terms of how much it is expected to increase profit? In other words, what is the opportunity cost of not using the model?"
   ]
  },
  {
   "cell_type": "code",
   "execution_count": 15,
   "metadata": {},
   "outputs": [
    {
     "data": {
      "text/html": [
       "<table>\n",
       "<thead><tr><th scope=col>profit.baseline</th><th scope=col>profit.with_model</th><th scope=col>improvement</th></tr></thead>\n",
       "<tbody>\n",
       "\t<tr><td>500000</td><td>642000</td><td>142000</td></tr>\n",
       "</tbody>\n",
       "</table>\n"
      ],
      "text/latex": [
       "\\begin{tabular}{r|lll}\n",
       " profit.baseline & profit.with\\_model & improvement\\\\\n",
       "\\hline\n",
       "\t 500000 & 642000 & 142000\\\\\n",
       "\\end{tabular}\n"
      ],
      "text/markdown": [
       "\n",
       "| profit.baseline | profit.with_model | improvement |\n",
       "|---|---|---|\n",
       "| 500000 | 642000 | 142000 |\n",
       "\n"
      ],
      "text/plain": [
       "  profit.baseline profit.with_model improvement\n",
       "1 500000          642000            142000     "
      ]
     },
     "metadata": {},
     "output_type": "display_data"
    }
   ],
   "source": []
  },
  {
   "cell_type": "markdown",
   "metadata": {},
   "source": [
    "<font size=1;>\n",
    "<p style=\"text-align: left;\">\n",
    "Copyright (c) Berkeley Data Analytics Group, LLC\n",
    "<span style=\"float: right;\">\n",
    "document revised May 6, 2019\n",
    "</span>\n",
    "</p>\n",
    "</font>"
   ]
  }
 ],
 "metadata": {
  "hide_code_all_hidden": false,
  "hide_input": false,
  "kernelspec": {
   "display_name": "R",
   "language": "R",
   "name": "ir"
  },
  "language_info": {
   "codemirror_mode": "r",
   "file_extension": ".r",
   "mimetype": "text/x-r-source",
   "name": "R",
   "pygments_lexer": "r",
   "version": "3.5.3"
  },
  "toc": {
   "base_numbering": 1,
   "nav_menu": {},
   "number_sections": false,
   "sideBar": true,
   "skip_h1_title": true,
   "title_cell": "Table of Contents",
   "title_sidebar": "Contents",
   "toc_cell": false,
   "toc_position": {
    "height": "calc(100% - 180px)",
    "left": "10px",
    "top": "150px",
    "width": "307.2px"
   },
   "toc_section_display": true,
   "toc_window_display": true
  }
 },
 "nbformat": 4,
 "nbformat_minor": 2
}
