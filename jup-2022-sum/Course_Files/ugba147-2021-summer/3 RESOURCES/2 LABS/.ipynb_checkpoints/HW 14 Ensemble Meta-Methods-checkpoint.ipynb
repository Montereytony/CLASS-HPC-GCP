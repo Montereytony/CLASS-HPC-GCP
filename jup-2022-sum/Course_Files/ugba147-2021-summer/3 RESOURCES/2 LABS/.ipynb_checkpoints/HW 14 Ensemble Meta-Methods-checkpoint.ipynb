{
 "cells": [
  {
   "cell_type": "markdown",
   "metadata": {},
   "source": [
    "<font size=2;>\n",
    "<p style=\"text-align: right;\">\n",
    "Exercises\n",
    "</p>\n",
    "</font>"
   ]
  },
  {
   "cell_type": "markdown",
   "metadata": {
    "hideCode": false,
    "hidePrompt": false
   },
   "source": [
    "# Ensemble Meta-Methods"
   ]
  },
  {
   "cell_type": "markdown",
   "metadata": {},
   "source": [
    "**Write and execute R code in the code cells per the instructions.  The expected results are provided for you directly following the code cells.**"
   ]
  },
  {
   "cell_type": "code",
   "execution_count": 1,
   "metadata": {},
   "outputs": [
    {
     "name": "stdout",
     "output_type": "stream",
     "text": [
      "Open code cell here for notebook apparatus."
     ]
    }
   ],
   "source": [
    "cat(\"Open code cell here for notebook apparatus.\")\n",
    "\n",
    "options(warn=-1)\n",
    "\n",
    "# Load some required functions\n",
    "library(e1071,    verbose=FALSE, warn.conflicts=FALSE, quietly=TRUE)\n",
    "library(caret,    verbose=FALSE, warn.conflicts=FALSE, quietly=TRUE)\n",
    "library(ggplot2,  verbose=FALSE, warn.conflicts=FALSE, quietly=TRUE)\n",
    "library(gridExtra, verbose=FALSE, warn.conflicts=FALSE, quietly=TRUE)\n",
    "library(dplyr,    verbose=FALSE, warn.conflicts=FALSE, quietly=TRUE)\n",
    "\n",
    "# Define some visualization constants\n",
    "restore = list(repr.plot.width=8, repr.plot.height=3)\n",
    "PALETTE = c(\"#00A9FF\", \"#F8766D\", \"#7CAE00\", \"#C77CFF\", \"#CD9600\", \"#00BE67\", \"#FF61CC\", \"#00BFC4\")\n",
    "theme.no_legend = theme(legend.position=\"none\")\n",
    "\n",
    "# Define some useful functions\n",
    "size = function(data) data.frame(observations=dim(data)[1], variables=dim(data)[2])\n",
    "as.class = function(prob, class, cutoff=NA) { f = factor(prob[,colnames(prob)==class]>=cutoff, levels=c(TRUE, FALSE), labels=c(class, setdiff(colnames(prob), class))); attr(f, \"names\") = NULL; f }\n",
    "vote = function(...) { x = list(...); factor(levels(unlist(x))[which.max(table(unlist(x)))], levels=levels(unlist(x))) }\n",
    "focus_data = function(data, hit, emphasis=10) { prob.x = as.numeric(as.character(factor(hit, levels=c(TRUE, FALSE), labels=c(1,emphasis))))\n",
    "                                                prob = prob.x / sum(prob.x)\n",
    "                                                data[sample(1:nrow(data), replace=TRUE, prob=prob),] }\n",
    "                       \n",
    "# Set some visualization formatting defaults\n",
    "options(restore)\n",
    "update_geom_defaults(\"point\", list(size=3, color=\"grey50\"))\n",
    "theme_update(plot.title=element_text(size=10, hjust=0.5), plot.subtitle=element_text(size=8, face=\"italic\", hjust=0.5), axis.title=element_text(size=7), axis.text=element_text(size=7), strip.text=element_text(size=7), strip.text.y=element_text(angle=90), legend.title=element_blank(), legend.text=element_text(size=7))"
   ]
  },
  {
   "cell_type": "markdown",
   "metadata": {},
   "source": [
    "## Data & New Observation"
   ]
  },
  {
   "cell_type": "code",
   "execution_count": 2,
   "metadata": {
    "hideCode": false,
    "hidePrompt": false,
    "run_control": {
     "marked": false
    }
   },
   "outputs": [
    {
     "data": {
      "text/html": [
       "<table>\n",
       "<thead><tr><th scope=col>x1</th><th scope=col>x2</th></tr></thead>\n",
       "<tbody>\n",
       "\t<tr><td>3</td><td>5</td></tr>\n",
       "</tbody>\n",
       "</table>\n"
      ],
      "text/latex": [
       "\\begin{tabular}{r|ll}\n",
       " x1 & x2\\\\\n",
       "\\hline\n",
       "\t 3 & 5\\\\\n",
       "\\end{tabular}\n"
      ],
      "text/markdown": [
       "\n",
       "| x1 | x2 |\n",
       "|---|---|\n",
       "| 3 | 5 |\n",
       "\n"
      ],
      "text/plain": [
       "  x1 x2\n",
       "1 3  5 "
      ]
     },
     "metadata": {},
     "output_type": "display_data"
    },
    {
     "data": {
      "image/png": "[encoded data removed]",
      "text/plain": [
       "plot without title"
      ]
     },
     "metadata": {},
     "output_type": "display_data"
    }
   ],
   "source": [
    "data = data.frame(x1=c(0,2,3,4,3,2,4,2,3,4,5,6), x2=c(3,2,6,5,4,5,8,9,4,6,4,8),\n",
    "                  class=c(\"A\",\"A\",\"A\",\"A\",\"A\",\"A\",\"B\",\"B\",\"B\",\"B\",\"B\",\"B\"))\n",
    "new = data.frame(x1=3, x2=5)\n",
    "new\n",
    "\n",
    "ggplot(data) + geom_point(aes(x=x1, y=x2, color=class)) + geom_point(aes(x=x1, y=x2), data=new) + scale_color_manual(values=PALETTE) + ylim(0,10)"
   ]
  },
  {
   "cell_type": "markdown",
   "metadata": {},
   "source": [
    "## Problem 1\n",
    "\n",
    "See 3 bootstrap samples of the data below.  Use bootstrap aggregating (bagging) on the naive bayes method with these 3 samples to build models and predict the new observation's class, assuming cutoff for A is 0.5.  Show the probabilities calculated by the models for the new observation.  Show the individual predictions of the models for the new observation.\n",
    "\n",
    "You may want to use these function(s):\n",
    "* naivebayes()\n",
    "* predict()\n",
    "* as.class()\n",
    "* vote()"
   ]
  },
  {
   "cell_type": "code",
   "execution_count": 3,
   "metadata": {},
   "outputs": [],
   "source": [
    "set.seed(12345)\n",
    "data.1 = sample_n(data, nrow(data), replace=TRUE)\n",
    "data.2 = sample_n(data, nrow(data), replace=TRUE)\n",
    "data.3 = sample_n(data, nrow(data), replace=TRUE)"
   ]
  },
  {
   "cell_type": "code",
   "execution_count": 4,
   "metadata": {},
   "outputs": [
    {
     "data": {
      "image/png": "[encoded data removed]",
      "text/plain": [
       "plot without title"
      ]
     },
     "metadata": {},
     "output_type": "display_data"
    }
   ],
   "source": [
    "grid.arrange(ggplot(data.1) + ggtitle(\"Sample #1\") + ylim(0,10) + geom_point(aes(x=x1, y=x2, color=class)) +\n",
    "             geom_point(aes(x=x1, y=x2), data=new) + scale_color_manual(values=PALETTE) + theme.no_legend,\n",
    "             \n",
    "             ggplot(data.2) + ggtitle(\"Sample #2\") + ylim(0,10) + geom_point(aes(x=x1, y=x2, color=class)) +\n",
    "             geom_point(aes(x=x1, y=x2), data=new) + scale_color_manual(values=PALETTE) + theme.no_legend,\n",
    "             \n",
    "             ggplot(data.3) + ggtitle(\"Sample #3\") + ylim(0,10) + geom_point(aes(x=x1, y=x2, color=class)) +\n",
    "             geom_point(aes(x=x1, y=x2), data=new) + scale_color_manual(values=PALETTE) + theme.no_legend,\n",
    "            \n",
    "             nrow=1)"
   ]
  },
  {
   "cell_type": "code",
   "execution_count": 5,
   "metadata": {},
   "outputs": [],
   "source": []
  },
  {
   "cell_type": "code",
   "execution_count": 6,
   "metadata": {},
   "outputs": [
    {
     "data": {
      "text/html": [
       "<table>\n",
       "<thead><tr><th scope=col>A</th><th scope=col>B</th></tr></thead>\n",
       "<tbody>\n",
       "\t<tr><td>0.3862338</td><td>0.6137662</td></tr>\n",
       "</tbody>\n",
       "</table>\n"
      ],
      "text/latex": [
       "\\begin{tabular}{ll}\n",
       " A & B\\\\\n",
       "\\hline\n",
       "\t 0.3862338 & 0.6137662\\\\\n",
       "\\end{tabular}\n"
      ],
      "text/markdown": [
       "\n",
       "| A | B |\n",
       "|---|---|\n",
       "| 0.3862338 | 0.6137662 |\n",
       "\n"
      ],
      "text/plain": [
       "     A         B        \n",
       "[1,] 0.3862338 0.6137662"
      ]
     },
     "metadata": {},
     "output_type": "display_data"
    },
    {
     "data": {
      "text/html": [
       "<table>\n",
       "<thead><tr><th scope=col>A</th><th scope=col>B</th></tr></thead>\n",
       "<tbody>\n",
       "\t<tr><td>0.9014638 </td><td>0.09853618</td></tr>\n",
       "</tbody>\n",
       "</table>\n"
      ],
      "text/latex": [
       "\\begin{tabular}{ll}\n",
       " A & B\\\\\n",
       "\\hline\n",
       "\t 0.9014638  & 0.09853618\\\\\n",
       "\\end{tabular}\n"
      ],
      "text/markdown": [
       "\n",
       "| A | B |\n",
       "|---|---|\n",
       "| 0.9014638  | 0.09853618 |\n",
       "\n"
      ],
      "text/plain": [
       "     A         B         \n",
       "[1,] 0.9014638 0.09853618"
      ]
     },
     "metadata": {},
     "output_type": "display_data"
    },
    {
     "data": {
      "text/html": [
       "<table>\n",
       "<thead><tr><th scope=col>A</th><th scope=col>B</th></tr></thead>\n",
       "<tbody>\n",
       "\t<tr><td>0.6681368</td><td>0.3318632</td></tr>\n",
       "</tbody>\n",
       "</table>\n"
      ],
      "text/latex": [
       "\\begin{tabular}{ll}\n",
       " A & B\\\\\n",
       "\\hline\n",
       "\t 0.6681368 & 0.3318632\\\\\n",
       "\\end{tabular}\n"
      ],
      "text/markdown": [
       "\n",
       "| A | B |\n",
       "|---|---|\n",
       "| 0.6681368 | 0.3318632 |\n",
       "\n"
      ],
      "text/plain": [
       "     A         B        \n",
       "[1,] 0.6681368 0.3318632"
      ]
     },
     "metadata": {},
     "output_type": "display_data"
    }
   ],
   "source": []
  },
  {
   "cell_type": "code",
   "execution_count": 7,
   "metadata": {},
   "outputs": [
    {
     "data": {
      "text/html": [
       "<table>\n",
       "<thead><tr><th scope=col>class.predicted.1</th><th scope=col>class.predicted.2</th><th scope=col>class.predicted.3</th></tr></thead>\n",
       "<tbody>\n",
       "\t<tr><td>B</td><td>A</td><td>A</td></tr>\n",
       "</tbody>\n",
       "</table>\n"
      ],
      "text/latex": [
       "\\begin{tabular}{r|lll}\n",
       " class.predicted.1 & class.predicted.2 & class.predicted.3\\\\\n",
       "\\hline\n",
       "\t B & A & A\\\\\n",
       "\\end{tabular}\n"
      ],
      "text/markdown": [
       "\n",
       "| class.predicted.1 | class.predicted.2 | class.predicted.3 |\n",
       "|---|---|---|\n",
       "| B | A | A |\n",
       "\n"
      ],
      "text/plain": [
       "  class.predicted.1 class.predicted.2 class.predicted.3\n",
       "1 B                 A                 A                "
      ]
     },
     "metadata": {},
     "output_type": "display_data"
    }
   ],
   "source": []
  },
  {
   "cell_type": "code",
   "execution_count": 8,
   "metadata": {},
   "outputs": [
    {
     "data": {
      "text/html": [
       "<table>\n",
       "<thead><tr><th scope=col>class.predicted</th></tr></thead>\n",
       "<tbody>\n",
       "\t<tr><td>A</td></tr>\n",
       "</tbody>\n",
       "</table>\n"
      ],
      "text/latex": [
       "\\begin{tabular}{r|l}\n",
       " class.predicted\\\\\n",
       "\\hline\n",
       "\t A\\\\\n",
       "\\end{tabular}\n"
      ],
      "text/markdown": [
       "\n",
       "| class.predicted |\n",
       "|---|\n",
       "| A |\n",
       "\n"
      ],
      "text/plain": [
       "  class.predicted\n",
       "1 A              "
      ]
     },
     "metadata": {},
     "output_type": "display_data"
    }
   ],
   "source": []
  },
  {
   "cell_type": "markdown",
   "metadata": {},
   "source": [
    "## Problem 2\n",
    "\n",
    "Use 2 levels of boosting on the support vector machine method to build models and predict the new observation's class, assuming cutoff for A is 0.5.  Show the insample performance of the 1st and 2nd models (each as a dataframe with a column for hits).  Show the training data for 2nd and 3rd models (each as a dataframe).  Show the probabilities calculated by the models for the new observation.  Show the individual predictions of the models for the new observation.\n",
    "\n",
    "You may want to use these function(s):\n",
    "* set.seed()\n",
    "* svm()\n",
    "* attr()\n",
    "* predict()\n",
    "* as.class()\n",
    "* focus_data()\n",
    "* vote()\n",
    "\n",
    "Use `svm(..., ..., type=\"C-classification\", kernel=\"polynomial\", degree=2, cost=100, scale=TRUE, probability=TRUE)` to construct the models - precede it with `set.seed(12345)`.  Use `focus_data(..., ..., emphasis=10)` to determine training data for the 2nd and 3rd models - precede it with `set.seed(12345)`."
   ]
  },
  {
   "cell_type": "code",
   "execution_count": 9,
   "metadata": {},
   "outputs": [],
   "source": []
  },
  {
   "cell_type": "code",
   "execution_count": 10,
   "metadata": {},
   "outputs": [
    {
     "data": {
      "text/html": [
       "<table>\n",
       "<thead><tr><th scope=col>x1</th><th scope=col>x2</th><th scope=col>class</th><th scope=col>class.predicted.1</th><th scope=col>hit.1</th></tr></thead>\n",
       "<tbody>\n",
       "\t<tr><td>0    </td><td>3    </td><td>A    </td><td>B    </td><td>FALSE</td></tr>\n",
       "\t<tr><td>2    </td><td>2    </td><td>A    </td><td>B    </td><td>FALSE</td></tr>\n",
       "\t<tr><td>3    </td><td>6    </td><td>A    </td><td>B    </td><td>FALSE</td></tr>\n",
       "\t<tr><td>4    </td><td>5    </td><td>A    </td><td>B    </td><td>FALSE</td></tr>\n",
       "\t<tr><td>3    </td><td>4    </td><td>A    </td><td>B    </td><td>FALSE</td></tr>\n",
       "\t<tr><td>2    </td><td>5    </td><td>A    </td><td>B    </td><td>FALSE</td></tr>\n",
       "\t<tr><td>4    </td><td>8    </td><td>B    </td><td>B    </td><td> TRUE</td></tr>\n",
       "\t<tr><td>2    </td><td>9    </td><td>B    </td><td>A    </td><td>FALSE</td></tr>\n",
       "\t<tr><td>3    </td><td>4    </td><td>B    </td><td>B    </td><td> TRUE</td></tr>\n",
       "\t<tr><td>4    </td><td>6    </td><td>B    </td><td>B    </td><td> TRUE</td></tr>\n",
       "\t<tr><td>5    </td><td>4    </td><td>B    </td><td>A    </td><td>FALSE</td></tr>\n",
       "\t<tr><td>6    </td><td>8    </td><td>B    </td><td>B    </td><td> TRUE</td></tr>\n",
       "</tbody>\n",
       "</table>\n"
      ],
      "text/latex": [
       "\\begin{tabular}{r|lllll}\n",
       " x1 & x2 & class & class.predicted.1 & hit.1\\\\\n",
       "\\hline\n",
       "\t 0     & 3     & A     & B     & FALSE\\\\\n",
       "\t 2     & 2     & A     & B     & FALSE\\\\\n",
       "\t 3     & 6     & A     & B     & FALSE\\\\\n",
       "\t 4     & 5     & A     & B     & FALSE\\\\\n",
       "\t 3     & 4     & A     & B     & FALSE\\\\\n",
       "\t 2     & 5     & A     & B     & FALSE\\\\\n",
       "\t 4     & 8     & B     & B     &  TRUE\\\\\n",
       "\t 2     & 9     & B     & A     & FALSE\\\\\n",
       "\t 3     & 4     & B     & B     &  TRUE\\\\\n",
       "\t 4     & 6     & B     & B     &  TRUE\\\\\n",
       "\t 5     & 4     & B     & A     & FALSE\\\\\n",
       "\t 6     & 8     & B     & B     &  TRUE\\\\\n",
       "\\end{tabular}\n"
      ],
      "text/markdown": [
       "\n",
       "| x1 | x2 | class | class.predicted.1 | hit.1 |\n",
       "|---|---|---|---|---|\n",
       "| 0     | 3     | A     | B     | FALSE |\n",
       "| 2     | 2     | A     | B     | FALSE |\n",
       "| 3     | 6     | A     | B     | FALSE |\n",
       "| 4     | 5     | A     | B     | FALSE |\n",
       "| 3     | 4     | A     | B     | FALSE |\n",
       "| 2     | 5     | A     | B     | FALSE |\n",
       "| 4     | 8     | B     | B     |  TRUE |\n",
       "| 2     | 9     | B     | A     | FALSE |\n",
       "| 3     | 4     | B     | B     |  TRUE |\n",
       "| 4     | 6     | B     | B     |  TRUE |\n",
       "| 5     | 4     | B     | A     | FALSE |\n",
       "| 6     | 8     | B     | B     |  TRUE |\n",
       "\n"
      ],
      "text/plain": [
       "   x1 x2 class class.predicted.1 hit.1\n",
       "1  0  3  A     B                 FALSE\n",
       "2  2  2  A     B                 FALSE\n",
       "3  3  6  A     B                 FALSE\n",
       "4  4  5  A     B                 FALSE\n",
       "5  3  4  A     B                 FALSE\n",
       "6  2  5  A     B                 FALSE\n",
       "7  4  8  B     B                  TRUE\n",
       "8  2  9  B     A                 FALSE\n",
       "9  3  4  B     B                  TRUE\n",
       "10 4  6  B     B                  TRUE\n",
       "11 5  4  B     A                 FALSE\n",
       "12 6  8  B     B                  TRUE"
      ]
     },
     "metadata": {},
     "output_type": "display_data"
    }
   ],
   "source": []
  },
  {
   "cell_type": "code",
   "execution_count": 11,
   "metadata": {
    "scrolled": false
   },
   "outputs": [
    {
     "data": {
      "text/html": [
       "<table>\n",
       "<thead><tr><th></th><th scope=col>x1</th><th scope=col>x2</th><th scope=col>class</th></tr></thead>\n",
       "<tbody>\n",
       "\t<tr><th scope=row>8</th><td>2</td><td>9</td><td>B</td></tr>\n",
       "\t<tr><th scope=row>4</th><td>4</td><td>5</td><td>A</td></tr>\n",
       "\t<tr><th scope=row>8.1</th><td>2</td><td>9</td><td>B</td></tr>\n",
       "\t<tr><th scope=row>4.1</th><td>4</td><td>5</td><td>A</td></tr>\n",
       "\t<tr><th scope=row>1</th><td>0</td><td>3</td><td>A</td></tr>\n",
       "\t<tr><th scope=row>5</th><td>3</td><td>4</td><td>A</td></tr>\n",
       "\t<tr><th scope=row>2</th><td>2</td><td>2</td><td>A</td></tr>\n",
       "\t<tr><th scope=row>3</th><td>3</td><td>6</td><td>A</td></tr>\n",
       "\t<tr><th scope=row>8.2</th><td>2</td><td>9</td><td>B</td></tr>\n",
       "\t<tr><th scope=row>9</th><td>3</td><td>4</td><td>B</td></tr>\n",
       "\t<tr><th scope=row>6</th><td>2</td><td>5</td><td>A</td></tr>\n",
       "\t<tr><th scope=row>5.1</th><td>3</td><td>4</td><td>A</td></tr>\n",
       "</tbody>\n",
       "</table>\n"
      ],
      "text/latex": [
       "\\begin{tabular}{r|lll}\n",
       "  & x1 & x2 & class\\\\\n",
       "\\hline\n",
       "\t8 & 2 & 9 & B\\\\\n",
       "\t4 & 4 & 5 & A\\\\\n",
       "\t8.1 & 2 & 9 & B\\\\\n",
       "\t4.1 & 4 & 5 & A\\\\\n",
       "\t1 & 0 & 3 & A\\\\\n",
       "\t5 & 3 & 4 & A\\\\\n",
       "\t2 & 2 & 2 & A\\\\\n",
       "\t3 & 3 & 6 & A\\\\\n",
       "\t8.2 & 2 & 9 & B\\\\\n",
       "\t9 & 3 & 4 & B\\\\\n",
       "\t6 & 2 & 5 & A\\\\\n",
       "\t5.1 & 3 & 4 & A\\\\\n",
       "\\end{tabular}\n"
      ],
      "text/markdown": [
       "\n",
       "| <!--/--> | x1 | x2 | class |\n",
       "|---|---|---|---|\n",
       "| 8 | 2 | 9 | B |\n",
       "| 4 | 4 | 5 | A |\n",
       "| 8.1 | 2 | 9 | B |\n",
       "| 4.1 | 4 | 5 | A |\n",
       "| 1 | 0 | 3 | A |\n",
       "| 5 | 3 | 4 | A |\n",
       "| 2 | 2 | 2 | A |\n",
       "| 3 | 3 | 6 | A |\n",
       "| 8.2 | 2 | 9 | B |\n",
       "| 9 | 3 | 4 | B |\n",
       "| 6 | 2 | 5 | A |\n",
       "| 5.1 | 3 | 4 | A |\n",
       "\n"
      ],
      "text/plain": [
       "    x1 x2 class\n",
       "8   2  9  B    \n",
       "4   4  5  A    \n",
       "8.1 2  9  B    \n",
       "4.1 4  5  A    \n",
       "1   0  3  A    \n",
       "5   3  4  A    \n",
       "2   2  2  A    \n",
       "3   3  6  A    \n",
       "8.2 2  9  B    \n",
       "9   3  4  B    \n",
       "6   2  5  A    \n",
       "5.1 3  4  A    "
      ]
     },
     "metadata": {},
     "output_type": "display_data"
    }
   ],
   "source": []
  },
  {
   "cell_type": "code",
   "execution_count": 12,
   "metadata": {},
   "outputs": [],
   "source": []
  },
  {
   "cell_type": "code",
   "execution_count": 13,
   "metadata": {
    "scrolled": true
   },
   "outputs": [
    {
     "data": {
      "text/html": [
       "<table>\n",
       "<thead><tr><th></th><th scope=col>x1</th><th scope=col>x2</th><th scope=col>class</th><th scope=col>class.predicted.2</th><th scope=col>hit.2</th></tr></thead>\n",
       "<tbody>\n",
       "\t<tr><th scope=row>8</th><td>2    </td><td>9    </td><td>B    </td><td>B    </td><td> TRUE</td></tr>\n",
       "\t<tr><th scope=row>4</th><td>4    </td><td>5    </td><td>A    </td><td>A    </td><td> TRUE</td></tr>\n",
       "\t<tr><th scope=row>8.1</th><td>2    </td><td>9    </td><td>B    </td><td>B    </td><td> TRUE</td></tr>\n",
       "\t<tr><th scope=row>4.1</th><td>4    </td><td>5    </td><td>A    </td><td>A    </td><td> TRUE</td></tr>\n",
       "\t<tr><th scope=row>1</th><td>0    </td><td>3    </td><td>A    </td><td>A    </td><td> TRUE</td></tr>\n",
       "\t<tr><th scope=row>5</th><td>3    </td><td>4    </td><td>A    </td><td>A    </td><td> TRUE</td></tr>\n",
       "\t<tr><th scope=row>2</th><td>2    </td><td>2    </td><td>A    </td><td>A    </td><td> TRUE</td></tr>\n",
       "\t<tr><th scope=row>3</th><td>3    </td><td>6    </td><td>A    </td><td>A    </td><td> TRUE</td></tr>\n",
       "\t<tr><th scope=row>8.2</th><td>2    </td><td>9    </td><td>B    </td><td>B    </td><td> TRUE</td></tr>\n",
       "\t<tr><th scope=row>9</th><td>3    </td><td>4    </td><td>B    </td><td>A    </td><td>FALSE</td></tr>\n",
       "\t<tr><th scope=row>6</th><td>2    </td><td>5    </td><td>A    </td><td>A    </td><td> TRUE</td></tr>\n",
       "\t<tr><th scope=row>5.1</th><td>3    </td><td>4    </td><td>A    </td><td>A    </td><td> TRUE</td></tr>\n",
       "</tbody>\n",
       "</table>\n"
      ],
      "text/latex": [
       "\\begin{tabular}{r|lllll}\n",
       "  & x1 & x2 & class & class.predicted.2 & hit.2\\\\\n",
       "\\hline\n",
       "\t8 & 2     & 9     & B     & B     &  TRUE\\\\\n",
       "\t4 & 4     & 5     & A     & A     &  TRUE\\\\\n",
       "\t8.1 & 2     & 9     & B     & B     &  TRUE\\\\\n",
       "\t4.1 & 4     & 5     & A     & A     &  TRUE\\\\\n",
       "\t1 & 0     & 3     & A     & A     &  TRUE\\\\\n",
       "\t5 & 3     & 4     & A     & A     &  TRUE\\\\\n",
       "\t2 & 2     & 2     & A     & A     &  TRUE\\\\\n",
       "\t3 & 3     & 6     & A     & A     &  TRUE\\\\\n",
       "\t8.2 & 2     & 9     & B     & B     &  TRUE\\\\\n",
       "\t9 & 3     & 4     & B     & A     & FALSE\\\\\n",
       "\t6 & 2     & 5     & A     & A     &  TRUE\\\\\n",
       "\t5.1 & 3     & 4     & A     & A     &  TRUE\\\\\n",
       "\\end{tabular}\n"
      ],
      "text/markdown": [
       "\n",
       "| <!--/--> | x1 | x2 | class | class.predicted.2 | hit.2 |\n",
       "|---|---|---|---|---|---|\n",
       "| 8 | 2     | 9     | B     | B     |  TRUE |\n",
       "| 4 | 4     | 5     | A     | A     |  TRUE |\n",
       "| 8.1 | 2     | 9     | B     | B     |  TRUE |\n",
       "| 4.1 | 4     | 5     | A     | A     |  TRUE |\n",
       "| 1 | 0     | 3     | A     | A     |  TRUE |\n",
       "| 5 | 3     | 4     | A     | A     |  TRUE |\n",
       "| 2 | 2     | 2     | A     | A     |  TRUE |\n",
       "| 3 | 3     | 6     | A     | A     |  TRUE |\n",
       "| 8.2 | 2     | 9     | B     | B     |  TRUE |\n",
       "| 9 | 3     | 4     | B     | A     | FALSE |\n",
       "| 6 | 2     | 5     | A     | A     |  TRUE |\n",
       "| 5.1 | 3     | 4     | A     | A     |  TRUE |\n",
       "\n"
      ],
      "text/plain": [
       "    x1 x2 class class.predicted.2 hit.2\n",
       "8   2  9  B     B                  TRUE\n",
       "4   4  5  A     A                  TRUE\n",
       "8.1 2  9  B     B                  TRUE\n",
       "4.1 4  5  A     A                  TRUE\n",
       "1   0  3  A     A                  TRUE\n",
       "5   3  4  A     A                  TRUE\n",
       "2   2  2  A     A                  TRUE\n",
       "3   3  6  A     A                  TRUE\n",
       "8.2 2  9  B     B                  TRUE\n",
       "9   3  4  B     A                 FALSE\n",
       "6   2  5  A     A                  TRUE\n",
       "5.1 3  4  A     A                  TRUE"
      ]
     },
     "metadata": {},
     "output_type": "display_data"
    }
   ],
   "source": []
  },
  {
   "cell_type": "code",
   "execution_count": 14,
   "metadata": {},
   "outputs": [
    {
     "data": {
      "text/html": [
       "<table>\n",
       "<thead><tr><th></th><th scope=col>x1</th><th scope=col>x2</th><th scope=col>class</th></tr></thead>\n",
       "<tbody>\n",
       "\t<tr><th scope=row>4.1</th><td>4</td><td>5</td><td>A</td></tr>\n",
       "\t<tr><th scope=row>6</th><td>2</td><td>5</td><td>A</td></tr>\n",
       "\t<tr><th scope=row>4.1.1</th><td>4</td><td>5</td><td>A</td></tr>\n",
       "\t<tr><th scope=row>6.1</th><td>2</td><td>5</td><td>A</td></tr>\n",
       "\t<tr><th scope=row>9</th><td>3</td><td>4</td><td>B</td></tr>\n",
       "\t<tr><th scope=row>9.1</th><td>3</td><td>4</td><td>B</td></tr>\n",
       "\t<tr><th scope=row>9.2</th><td>3</td><td>4</td><td>B</td></tr>\n",
       "\t<tr><th scope=row>8.1</th><td>2</td><td>9</td><td>B</td></tr>\n",
       "\t<tr><th scope=row>4.1.2</th><td>4</td><td>5</td><td>A</td></tr>\n",
       "\t<tr><th scope=row>8</th><td>2</td><td>9</td><td>B</td></tr>\n",
       "\t<tr><th scope=row>9.3</th><td>3</td><td>4</td><td>B</td></tr>\n",
       "\t<tr><th scope=row>9.4</th><td>3</td><td>4</td><td>B</td></tr>\n",
       "</tbody>\n",
       "</table>\n"
      ],
      "text/latex": [
       "\\begin{tabular}{r|lll}\n",
       "  & x1 & x2 & class\\\\\n",
       "\\hline\n",
       "\t4.1 & 4 & 5 & A\\\\\n",
       "\t6 & 2 & 5 & A\\\\\n",
       "\t4.1.1 & 4 & 5 & A\\\\\n",
       "\t6.1 & 2 & 5 & A\\\\\n",
       "\t9 & 3 & 4 & B\\\\\n",
       "\t9.1 & 3 & 4 & B\\\\\n",
       "\t9.2 & 3 & 4 & B\\\\\n",
       "\t8.1 & 2 & 9 & B\\\\\n",
       "\t4.1.2 & 4 & 5 & A\\\\\n",
       "\t8 & 2 & 9 & B\\\\\n",
       "\t9.3 & 3 & 4 & B\\\\\n",
       "\t9.4 & 3 & 4 & B\\\\\n",
       "\\end{tabular}\n"
      ],
      "text/markdown": [
       "\n",
       "| <!--/--> | x1 | x2 | class |\n",
       "|---|---|---|---|\n",
       "| 4.1 | 4 | 5 | A |\n",
       "| 6 | 2 | 5 | A |\n",
       "| 4.1.1 | 4 | 5 | A |\n",
       "| 6.1 | 2 | 5 | A |\n",
       "| 9 | 3 | 4 | B |\n",
       "| 9.1 | 3 | 4 | B |\n",
       "| 9.2 | 3 | 4 | B |\n",
       "| 8.1 | 2 | 9 | B |\n",
       "| 4.1.2 | 4 | 5 | A |\n",
       "| 8 | 2 | 9 | B |\n",
       "| 9.3 | 3 | 4 | B |\n",
       "| 9.4 | 3 | 4 | B |\n",
       "\n"
      ],
      "text/plain": [
       "      x1 x2 class\n",
       "4.1   4  5  A    \n",
       "6     2  5  A    \n",
       "4.1.1 4  5  A    \n",
       "6.1   2  5  A    \n",
       "9     3  4  B    \n",
       "9.1   3  4  B    \n",
       "9.2   3  4  B    \n",
       "8.1   2  9  B    \n",
       "4.1.2 4  5  A    \n",
       "8     2  9  B    \n",
       "9.3   3  4  B    \n",
       "9.4   3  4  B    "
      ]
     },
     "metadata": {},
     "output_type": "display_data"
    }
   ],
   "source": []
  },
  {
   "cell_type": "code",
   "execution_count": 15,
   "metadata": {},
   "outputs": [],
   "source": []
  },
  {
   "cell_type": "code",
   "execution_count": 16,
   "metadata": {},
   "outputs": [
    {
     "data": {
      "text/html": [
       "<table>\n",
       "<thead><tr><th scope=col>A</th><th scope=col>B</th></tr></thead>\n",
       "<tbody>\n",
       "\t<tr><td>0.3846293</td><td>0.6153707</td></tr>\n",
       "</tbody>\n",
       "</table>\n"
      ],
      "text/latex": [
       "\\begin{tabular}{r|ll}\n",
       " A & B\\\\\n",
       "\\hline\n",
       "\t 0.3846293 & 0.6153707\\\\\n",
       "\\end{tabular}\n"
      ],
      "text/markdown": [
       "\n",
       "| A | B |\n",
       "|---|---|\n",
       "| 0.3846293 | 0.6153707 |\n",
       "\n"
      ],
      "text/plain": [
       "  A         B        \n",
       "1 0.3846293 0.6153707"
      ]
     },
     "metadata": {},
     "output_type": "display_data"
    },
    {
     "data": {
      "text/html": [
       "B\n",
       "<details>\n",
       "\t<summary style=display:list-item;cursor:pointer>\n",
       "\t\t<strong>Levels</strong>:\n",
       "\t</summary>\n",
       "\t<ol class=list-inline>\n",
       "\t\t<li>'A'</li>\n",
       "\t\t<li>'B'</li>\n",
       "\t</ol>\n",
       "</details>"
      ],
      "text/latex": [
       "B\n",
       "\\emph{Levels}: \\begin{enumerate*}\n",
       "\\item 'A'\n",
       "\\item 'B'\n",
       "\\end{enumerate*}\n"
      ],
      "text/markdown": [
       "B\n",
       "**Levels**: 1. 'A'\n",
       "2. 'B'\n",
       "\n",
       "\n"
      ],
      "text/plain": [
       "[1] B\n",
       "Levels: A B"
      ]
     },
     "metadata": {},
     "output_type": "display_data"
    },
    {
     "data": {
      "text/html": [
       "<table>\n",
       "<thead><tr><th scope=col>B</th><th scope=col>A</th></tr></thead>\n",
       "<tbody>\n",
       "\t<tr><td>0.1608187</td><td>0.8391813</td></tr>\n",
       "</tbody>\n",
       "</table>\n"
      ],
      "text/latex": [
       "\\begin{tabular}{r|ll}\n",
       " B & A\\\\\n",
       "\\hline\n",
       "\t 0.1608187 & 0.8391813\\\\\n",
       "\\end{tabular}\n"
      ],
      "text/markdown": [
       "\n",
       "| B | A |\n",
       "|---|---|\n",
       "| 0.1608187 | 0.8391813 |\n",
       "\n"
      ],
      "text/plain": [
       "  B         A        \n",
       "1 0.1608187 0.8391813"
      ]
     },
     "metadata": {},
     "output_type": "display_data"
    },
    {
     "data": {
      "text/html": [
       "A\n",
       "<details>\n",
       "\t<summary style=display:list-item;cursor:pointer>\n",
       "\t\t<strong>Levels</strong>:\n",
       "\t</summary>\n",
       "\t<ol class=list-inline>\n",
       "\t\t<li>'A'</li>\n",
       "\t\t<li>'B'</li>\n",
       "\t</ol>\n",
       "</details>"
      ],
      "text/latex": [
       "A\n",
       "\\emph{Levels}: \\begin{enumerate*}\n",
       "\\item 'A'\n",
       "\\item 'B'\n",
       "\\end{enumerate*}\n"
      ],
      "text/markdown": [
       "A\n",
       "**Levels**: 1. 'A'\n",
       "2. 'B'\n",
       "\n",
       "\n"
      ],
      "text/plain": [
       "[1] A\n",
       "Levels: A B"
      ]
     },
     "metadata": {},
     "output_type": "display_data"
    },
    {
     "data": {
      "text/html": [
       "<table>\n",
       "<thead><tr><th scope=col>A</th><th scope=col>B</th></tr></thead>\n",
       "<tbody>\n",
       "\t<tr><td>0.2058604</td><td>0.7941396</td></tr>\n",
       "</tbody>\n",
       "</table>\n"
      ],
      "text/latex": [
       "\\begin{tabular}{r|ll}\n",
       " A & B\\\\\n",
       "\\hline\n",
       "\t 0.2058604 & 0.7941396\\\\\n",
       "\\end{tabular}\n"
      ],
      "text/markdown": [
       "\n",
       "| A | B |\n",
       "|---|---|\n",
       "| 0.2058604 | 0.7941396 |\n",
       "\n"
      ],
      "text/plain": [
       "  A         B        \n",
       "1 0.2058604 0.7941396"
      ]
     },
     "metadata": {},
     "output_type": "display_data"
    },
    {
     "data": {
      "text/html": [
       "B\n",
       "<details>\n",
       "\t<summary style=display:list-item;cursor:pointer>\n",
       "\t\t<strong>Levels</strong>:\n",
       "\t</summary>\n",
       "\t<ol class=list-inline>\n",
       "\t\t<li>'A'</li>\n",
       "\t\t<li>'B'</li>\n",
       "\t</ol>\n",
       "</details>"
      ],
      "text/latex": [
       "B\n",
       "\\emph{Levels}: \\begin{enumerate*}\n",
       "\\item 'A'\n",
       "\\item 'B'\n",
       "\\end{enumerate*}\n"
      ],
      "text/markdown": [
       "B\n",
       "**Levels**: 1. 'A'\n",
       "2. 'B'\n",
       "\n",
       "\n"
      ],
      "text/plain": [
       "[1] B\n",
       "Levels: A B"
      ]
     },
     "metadata": {},
     "output_type": "display_data"
    }
   ],
   "source": []
  },
  {
   "cell_type": "code",
   "execution_count": 17,
   "metadata": {},
   "outputs": [
    {
     "data": {
      "text/html": [
       "<table>\n",
       "<thead><tr><th scope=col>class.predicted.1</th><th scope=col>class.predicted.2</th><th scope=col>class.predicted.3</th></tr></thead>\n",
       "<tbody>\n",
       "\t<tr><td>B</td><td>A</td><td>B</td></tr>\n",
       "</tbody>\n",
       "</table>\n"
      ],
      "text/latex": [
       "\\begin{tabular}{r|lll}\n",
       " class.predicted.1 & class.predicted.2 & class.predicted.3\\\\\n",
       "\\hline\n",
       "\t B & A & B\\\\\n",
       "\\end{tabular}\n"
      ],
      "text/markdown": [
       "\n",
       "| class.predicted.1 | class.predicted.2 | class.predicted.3 |\n",
       "|---|---|---|\n",
       "| B | A | B |\n",
       "\n"
      ],
      "text/plain": [
       "  class.predicted.1 class.predicted.2 class.predicted.3\n",
       "1 B                 A                 B                "
      ]
     },
     "metadata": {},
     "output_type": "display_data"
    }
   ],
   "source": []
  },
  {
   "cell_type": "code",
   "execution_count": 18,
   "metadata": {},
   "outputs": [
    {
     "data": {
      "text/html": [
       "<table>\n",
       "<thead><tr><th scope=col>class.predicted</th></tr></thead>\n",
       "<tbody>\n",
       "\t<tr><td>B</td></tr>\n",
       "</tbody>\n",
       "</table>\n"
      ],
      "text/latex": [
       "\\begin{tabular}{r|l}\n",
       " class.predicted\\\\\n",
       "\\hline\n",
       "\t B\\\\\n",
       "\\end{tabular}\n"
      ],
      "text/markdown": [
       "\n",
       "| class.predicted |\n",
       "|---|\n",
       "| B |\n",
       "\n"
      ],
      "text/plain": [
       "  class.predicted\n",
       "1 B              "
      ]
     },
     "metadata": {},
     "output_type": "display_data"
    }
   ],
   "source": []
  },
  {
   "cell_type": "markdown",
   "metadata": {},
   "source": [
    "## Problem 3\n",
    "\n",
    "Use stacking on the naive bayes method over 3 support vector machine methods to build a model and predict the new observation's class, assuming cutoff for A is 0.5.\n",
    "\n",
    "Hyper-parameters for the support vector machine methods:\n",
    "* For Model #1: _type=\"C-classification\", kernel=\"polynomial\", degree=2, cost=1, scale=TRUE, probability=TRUE_\n",
    "* For Model #2: _type=\"C-classification\", kernel=\"polynomial\", degree=3, cost=100, scale=TRUE, probability=TRUE_\n",
    "* For Model #3: _type=\"C-classification\", kernel=\"radial\", gamma=1, cost=100, scale=TRUE, probability=TRUE_\n",
    "\n",
    "Show the data and new observation expressed in terms of the new variables.  Show the probabilities calculated by the naive bayes model for the new observation.\n",
    "\n",
    "You may want to use these function(s):\n",
    "* set.seed()\n",
    "* svm()\n",
    "* attr()\n",
    "* predict()\n",
    "* as.class()\n",
    "* naiveBayes()\n",
    "\n",
    "Use `svm(...)` to construct the support vector machine models - precede it with `set.seed(12345)`."
   ]
  },
  {
   "cell_type": "markdown",
   "metadata": {},
   "source": [
    "Construct a new dataset.  Each observation in the new dataset corresponds to an observation in the original dataset.  The variables are predictions from the 3 models and the actual class."
   ]
  },
  {
   "cell_type": "code",
   "execution_count": 19,
   "metadata": {},
   "outputs": [],
   "source": []
  },
  {
   "cell_type": "code",
   "execution_count": 20,
   "metadata": {},
   "outputs": [],
   "source": []
  },
  {
   "cell_type": "code",
   "execution_count": 21,
   "metadata": {
    "scrolled": true
   },
   "outputs": [
    {
     "data": {
      "text/html": [
       "<table>\n",
       "<thead><tr><th scope=col>x1</th><th scope=col>x2</th><th scope=col>class.predicted.1</th><th scope=col>class.predicted.2</th><th scope=col>class.predicted.3</th><th scope=col>class</th></tr></thead>\n",
       "<tbody>\n",
       "\t<tr><td>0</td><td>3</td><td>B</td><td>A</td><td>B</td><td>A</td></tr>\n",
       "\t<tr><td>2</td><td>2</td><td>B</td><td>A</td><td>B</td><td>A</td></tr>\n",
       "\t<tr><td>3</td><td>6</td><td>B</td><td>B</td><td>B</td><td>A</td></tr>\n",
       "\t<tr><td>4</td><td>5</td><td>B</td><td>B</td><td>B</td><td>A</td></tr>\n",
       "\t<tr><td>3</td><td>4</td><td>B</td><td>B</td><td>B</td><td>A</td></tr>\n",
       "\t<tr><td>2</td><td>5</td><td>B</td><td>B</td><td>B</td><td>A</td></tr>\n",
       "\t<tr><td>4</td><td>8</td><td>B</td><td>B</td><td>A</td><td>B</td></tr>\n",
       "\t<tr><td>2</td><td>9</td><td>A</td><td>B</td><td>A</td><td>B</td></tr>\n",
       "\t<tr><td>3</td><td>4</td><td>B</td><td>B</td><td>B</td><td>B</td></tr>\n",
       "\t<tr><td>4</td><td>6</td><td>B</td><td>B</td><td>A</td><td>B</td></tr>\n",
       "\t<tr><td>5</td><td>4</td><td>B</td><td>B</td><td>A</td><td>B</td></tr>\n",
       "\t<tr><td>6</td><td>8</td><td>B</td><td>B</td><td>A</td><td>B</td></tr>\n",
       "</tbody>\n",
       "</table>\n"
      ],
      "text/latex": [
       "\\begin{tabular}{r|llllll}\n",
       " x1 & x2 & class.predicted.1 & class.predicted.2 & class.predicted.3 & class\\\\\n",
       "\\hline\n",
       "\t 0 & 3 & B & A & B & A\\\\\n",
       "\t 2 & 2 & B & A & B & A\\\\\n",
       "\t 3 & 6 & B & B & B & A\\\\\n",
       "\t 4 & 5 & B & B & B & A\\\\\n",
       "\t 3 & 4 & B & B & B & A\\\\\n",
       "\t 2 & 5 & B & B & B & A\\\\\n",
       "\t 4 & 8 & B & B & A & B\\\\\n",
       "\t 2 & 9 & A & B & A & B\\\\\n",
       "\t 3 & 4 & B & B & B & B\\\\\n",
       "\t 4 & 6 & B & B & A & B\\\\\n",
       "\t 5 & 4 & B & B & A & B\\\\\n",
       "\t 6 & 8 & B & B & A & B\\\\\n",
       "\\end{tabular}\n"
      ],
      "text/markdown": [
       "\n",
       "| x1 | x2 | class.predicted.1 | class.predicted.2 | class.predicted.3 | class |\n",
       "|---|---|---|---|---|---|\n",
       "| 0 | 3 | B | A | B | A |\n",
       "| 2 | 2 | B | A | B | A |\n",
       "| 3 | 6 | B | B | B | A |\n",
       "| 4 | 5 | B | B | B | A |\n",
       "| 3 | 4 | B | B | B | A |\n",
       "| 2 | 5 | B | B | B | A |\n",
       "| 4 | 8 | B | B | A | B |\n",
       "| 2 | 9 | A | B | A | B |\n",
       "| 3 | 4 | B | B | B | B |\n",
       "| 4 | 6 | B | B | A | B |\n",
       "| 5 | 4 | B | B | A | B |\n",
       "| 6 | 8 | B | B | A | B |\n",
       "\n"
      ],
      "text/plain": [
       "   x1 x2 class.predicted.1 class.predicted.2 class.predicted.3 class\n",
       "1  0  3  B                 A                 B                 A    \n",
       "2  2  2  B                 A                 B                 A    \n",
       "3  3  6  B                 B                 B                 A    \n",
       "4  4  5  B                 B                 B                 A    \n",
       "5  3  4  B                 B                 B                 A    \n",
       "6  2  5  B                 B                 B                 A    \n",
       "7  4  8  B                 B                 A                 B    \n",
       "8  2  9  A                 B                 A                 B    \n",
       "9  3  4  B                 B                 B                 B    \n",
       "10 4  6  B                 B                 A                 B    \n",
       "11 5  4  B                 B                 A                 B    \n",
       "12 6  8  B                 B                 A                 B    "
      ]
     },
     "metadata": {},
     "output_type": "display_data"
    }
   ],
   "source": []
  },
  {
   "cell_type": "code",
   "execution_count": 22,
   "metadata": {},
   "outputs": [],
   "source": []
  },
  {
   "cell_type": "code",
   "execution_count": 23,
   "metadata": {},
   "outputs": [
    {
     "data": {
      "text/html": [
       "<table>\n",
       "<thead><tr><th scope=col>x1</th><th scope=col>x2</th><th scope=col>class.predicted.1</th><th scope=col>class.predicted.2</th><th scope=col>class.predicted.3</th></tr></thead>\n",
       "<tbody>\n",
       "\t<tr><td>3</td><td>5</td><td>B</td><td>B</td><td>B</td></tr>\n",
       "</tbody>\n",
       "</table>\n"
      ],
      "text/latex": [
       "\\begin{tabular}{r|lllll}\n",
       " x1 & x2 & class.predicted.1 & class.predicted.2 & class.predicted.3\\\\\n",
       "\\hline\n",
       "\t 3 & 5 & B & B & B\\\\\n",
       "\\end{tabular}\n"
      ],
      "text/markdown": [
       "\n",
       "| x1 | x2 | class.predicted.1 | class.predicted.2 | class.predicted.3 |\n",
       "|---|---|---|---|---|\n",
       "| 3 | 5 | B | B | B |\n",
       "\n"
      ],
      "text/plain": [
       "  x1 x2 class.predicted.1 class.predicted.2 class.predicted.3\n",
       "1 3  5  B                 B                 B                "
      ]
     },
     "metadata": {},
     "output_type": "display_data"
    }
   ],
   "source": []
  },
  {
   "cell_type": "code",
   "execution_count": 24,
   "metadata": {},
   "outputs": [
    {
     "data": {
      "text/html": [
       "<table>\n",
       "<thead><tr><th scope=col>A</th><th scope=col>B</th></tr></thead>\n",
       "<tbody>\n",
       "\t<tr><td>0.8275862</td><td>0.1724138</td></tr>\n",
       "</tbody>\n",
       "</table>\n"
      ],
      "text/latex": [
       "\\begin{tabular}{ll}\n",
       " A & B\\\\\n",
       "\\hline\n",
       "\t 0.8275862 & 0.1724138\\\\\n",
       "\\end{tabular}\n"
      ],
      "text/markdown": [
       "\n",
       "| A | B |\n",
       "|---|---|\n",
       "| 0.8275862 | 0.1724138 |\n",
       "\n"
      ],
      "text/plain": [
       "     A         B        \n",
       "[1,] 0.8275862 0.1724138"
      ]
     },
     "metadata": {},
     "output_type": "display_data"
    }
   ],
   "source": []
  },
  {
   "cell_type": "code",
   "execution_count": 25,
   "metadata": {},
   "outputs": [
    {
     "data": {
      "text/html": [
       "<table>\n",
       "<thead><tr><th scope=col>class.predicted</th></tr></thead>\n",
       "<tbody>\n",
       "\t<tr><td>A</td></tr>\n",
       "</tbody>\n",
       "</table>\n"
      ],
      "text/latex": [
       "\\begin{tabular}{r|l}\n",
       " class.predicted\\\\\n",
       "\\hline\n",
       "\t A\\\\\n",
       "\\end{tabular}\n"
      ],
      "text/markdown": [
       "\n",
       "| class.predicted |\n",
       "|---|\n",
       "| A |\n",
       "\n"
      ],
      "text/plain": [
       "  class.predicted\n",
       "1 A              "
      ]
     },
     "metadata": {},
     "output_type": "display_data"
    }
   ],
   "source": []
  },
  {
   "cell_type": "markdown",
   "metadata": {},
   "source": [
    "<font size=1;>\n",
    "<p style=\"text-align: left;\">\n",
    "Copyright (c) Berkeley Data Analytics Group, LLC\n",
    "<span style=\"float: right;\">\n",
    "document revised May 6, 2019\n",
    "</span>\n",
    "</p>\n",
    "</font>"
   ]
  }
 ],
 "metadata": {
  "hide_code_all_hidden": false,
  "hide_input": false,
  "kernelspec": {
   "display_name": "R",
   "language": "R",
   "name": "ir"
  },
  "language_info": {
   "codemirror_mode": "r",
   "file_extension": ".r",
   "mimetype": "text/x-r-source",
   "name": "R",
   "pygments_lexer": "r",
   "version": "3.5.3"
  },
  "toc": {
   "base_numbering": 1,
   "nav_menu": {},
   "number_sections": false,
   "sideBar": true,
   "skip_h1_title": true,
   "title_cell": "Table of Contents",
   "title_sidebar": "Contents",
   "toc_cell": false,
   "toc_position": {},
   "toc_section_display": true,
   "toc_window_display": true
  }
 },
 "nbformat": 4,
 "nbformat_minor": 2
}
