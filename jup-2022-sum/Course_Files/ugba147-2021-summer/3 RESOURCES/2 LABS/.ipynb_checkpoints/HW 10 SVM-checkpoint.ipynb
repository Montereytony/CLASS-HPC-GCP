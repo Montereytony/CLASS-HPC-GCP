{
 "cells": [
  {
   "cell_type": "markdown",
   "metadata": {},
   "source": [
    "<font size=2;>\n",
    "<p style=\"text-align: right;\">\n",
    "Exercises\n",
    "</p>\n",
    "</font>"
   ]
  },
  {
   "cell_type": "markdown",
   "metadata": {
    "hideCode": false,
    "hidePrompt": false
   },
   "source": [
    "# Classification by Support Vector Machine"
   ]
  },
  {
   "cell_type": "markdown",
   "metadata": {},
   "source": [
    "**Write and execute R code in the code cells per the instructions.  The expected results are provided for you directly following the code cells.**"
   ]
  },
  {
   "cell_type": "code",
   "execution_count": 1,
   "metadata": {},
   "outputs": [
    {
     "name": "stdout",
     "output_type": "stream",
     "text": [
      "Open code cell here for notebook apparatus."
     ]
    }
   ],
   "source": [
    "cat(\"Open code cell here for notebook apparatus.\")\n",
    "\n",
    "options(warn=-1)\n",
    "\n",
    "# Load some required functions\n",
    "library(e1071,     verbose=FALSE, warn.conflicts=FALSE, quietly=TRUE)\n",
    "library(ggplot2,   verbose=FALSE, warn.conflicts=FALSE, quietly=TRUE)\n",
    "library(caret,     verbose=FALSE, warn.conflicts=FALSE, quietly=TRUE)\n",
    "\n",
    "# Define some useful functions\n",
    "gaussian = function(x, radial_center, gamma) { exp(-gamma*(x-radial_center)^2) }\n",
    "as.class = function(prob, class, cutoff=NA) { f = factor(prob[,colnames(prob)==class]>=cutoff, levels=c(TRUE, FALSE), labels=c(class, setdiff(colnames(prob), class))); attr(f, \"names\") = NULL; f }\n",
    "\n",
    "# Set some visualization constants\n",
    "PALETTE = c(\"#00A9FF\", \"#F8766D\", \"#7CAE00\", \"#C77CFF\", \"#CD9600\", \"#00BE67\", \"#FF61CC\", \"#00BFC4\")\n",
    "theme.x_axis_only = theme(axis.title.y=element_blank(), axis.text.y=element_blank(), axis.ticks.y=element_blank(), panel.grid.major.y=element_blank(), panel.grid.minor.y=element_blank())\n",
    "restore = list(repr.plot.width=8, repr.plot.height=3)\n",
    "\n",
    "# Set some visualization formatting defaults\n",
    "options(restore)\n",
    "options(scipen=999)\n",
    "update_geom_defaults(\"point\", list(size=3, colour=\"grey50\"))\n",
    "update_geom_defaults(\"abline\", list(size=0.1, colour=\"black\"))\n",
    "update_geom_defaults(\"text\", list(size=2.5, vjust=-1.5))\n",
    "update_geom_defaults(\"area\", list(color=NA, fill=\"grey70\"))\n",
    "update_geom_defaults(\"segment\", list(size=0.1))\n",
    "update_geom_defaults(\"smooth\", list(color=\"black\", size=0.1))\n",
    "theme_update(plot.title=element_text(size=10, hjust=0.5), plot.subtitle=element_text(size=8, face=\"italic\", hjust=0.5), axis.title=element_text(size=7), axis.text=element_text(size=7), strip.text=element_text(size=7), strip.text.y=element_text(angle=90), legend.title=element_blank(), legend.text=element_text(size=7))"
   ]
  },
  {
   "cell_type": "markdown",
   "metadata": {},
   "source": [
    "## Data & New Observations\n",
    "\n",
    "Here is a dataset of 6 classified observations and a new dataset of 2 unclassified observations for use in the problems."
   ]
  },
  {
   "cell_type": "code",
   "execution_count": 2,
   "metadata": {},
   "outputs": [
    {
     "data": {
      "text/html": [
       "<table>\n",
       "<thead><tr><th scope=col>x1</th><th scope=col>class</th></tr></thead>\n",
       "<tbody>\n",
       "\t<tr><td>2.3</td><td>A  </td></tr>\n",
       "\t<tr><td>2.5</td><td>A  </td></tr>\n",
       "\t<tr><td>4.0</td><td>A  </td></tr>\n",
       "\t<tr><td>6.5</td><td>B  </td></tr>\n",
       "\t<tr><td>8.5</td><td>B  </td></tr>\n",
       "\t<tr><td>9.1</td><td>A  </td></tr>\n",
       "</tbody>\n",
       "</table>\n"
      ],
      "text/latex": [
       "\\begin{tabular}{r|ll}\n",
       " x1 & class\\\\\n",
       "\\hline\n",
       "\t 2.3 & A  \\\\\n",
       "\t 2.5 & A  \\\\\n",
       "\t 4.0 & A  \\\\\n",
       "\t 6.5 & B  \\\\\n",
       "\t 8.5 & B  \\\\\n",
       "\t 9.1 & A  \\\\\n",
       "\\end{tabular}\n"
      ],
      "text/markdown": [
       "\n",
       "| x1 | class |\n",
       "|---|---|\n",
       "| 2.3 | A   |\n",
       "| 2.5 | A   |\n",
       "| 4.0 | A   |\n",
       "| 6.5 | B   |\n",
       "| 8.5 | B   |\n",
       "| 9.1 | A   |\n",
       "\n"
      ],
      "text/plain": [
       "  x1  class\n",
       "1 2.3 A    \n",
       "2 2.5 A    \n",
       "3 4.0 A    \n",
       "4 6.5 B    \n",
       "5 8.5 B    \n",
       "6 9.1 A    "
      ]
     },
     "metadata": {},
     "output_type": "display_data"
    },
    {
     "data": {
      "text/html": [
       "<table>\n",
       "<thead><tr><th scope=col>x1</th></tr></thead>\n",
       "<tbody>\n",
       "\t<tr><td>6.1</td></tr>\n",
       "\t<tr><td>6.4</td></tr>\n",
       "</tbody>\n",
       "</table>\n"
      ],
      "text/latex": [
       "\\begin{tabular}{r|l}\n",
       " x1\\\\\n",
       "\\hline\n",
       "\t 6.1\\\\\n",
       "\t 6.4\\\\\n",
       "\\end{tabular}\n"
      ],
      "text/markdown": [
       "\n",
       "| x1 |\n",
       "|---|\n",
       "| 6.1 |\n",
       "| 6.4 |\n",
       "\n"
      ],
      "text/plain": [
       "  x1 \n",
       "1 6.1\n",
       "2 6.4"
      ]
     },
     "metadata": {},
     "output_type": "display_data"
    },
    {
     "data": {
      "image/png": "[encoded data removed]",
      "text/plain": [
       "plot without title"
      ]
     },
     "metadata": {},
     "output_type": "display_data"
    }
   ],
   "source": [
    "data = data.frame(x1=c(2.3, 2.5, 4.0, 6.5, 8.5, 9.1), class=factor(c(\"A\", \"A\", \"A\", \"B\",  \"B\", \"A\")))\n",
    "new  = data.frame(x1=c(6.1, 6.4))\n",
    "\n",
    "data\n",
    "new\n",
    "\n",
    "options(repr.plot.width=8, repr.plot.height=1)\n",
    "ggplot(data) + xlim(0,10) +\n",
    "geom_point(aes(x=x1, y=0, color=class)) +\n",
    "geom_point(aes(x=x1, y=0), data=new) +\n",
    "scale_color_manual(values=PALETTE[1:2]) + theme.x_axis_only\n",
    "options(restore)"
   ]
  },
  {
   "cell_type": "markdown",
   "metadata": {},
   "source": [
    "<font size=5;>\n",
    "<p style=\"text-align: center;\">\n",
    "Choice of Kernel\n",
    "</p>\n",
    "</font>"
   ]
  },
  {
   "cell_type": "markdown",
   "metadata": {},
   "source": [
    "## Problem 1\n",
    "\n",
    "Add a new variable x2 to the classified and unclassified datasets, calculated as the radial basis (Gaussian) of vaiable x1.  Set radial_center=7.7, gamma=1.  Note that the 3-variable classified data is linearly separable.  Show the classified 3-variable dataset as a 2-dimensional scatterplot, color-coded by class.  On the same scatterplot, show the support vectors (circled in black), boundary (dashed line), and margin edges (solid lines), as would be calculated by a support vector machine.  On the same scatterplot, show the unclassified 2-variable dataset, color-coded by predicted class (circled in gold), according to the score sign criterion.  Show the original classified and unclassified datasets as a 1-dimensional scatterplot, color-coded by class or predicted class (circled in gold). \n",
    "\n",
    "The radial basis of one variable x is defined as exp(-gamma*(x-radial_center)^2).\n",
    "\n",
    "You may want to use these function(s):\n",
    "* gaussian()\n",
    "* lm()\n",
    "* stat_function()\n",
    "* geom_point()\n",
    "* geom_abline()\n",
    "\n",
    "Use `gaussian(..., ..., ...)` to calculate the value of the gaussian function, where the 1st parameter is a vector of variable values, the 2nd parameter is the radial center setting, and the 3rd parameter is gamma setting.\n",
    "Use `stat_function(fun=gaussian, args=c(radial_center, gamma), geom=\"area\", alpha=0.3)` to plot a gaussian function.  Use `lm(x2~x1, data=...$coefficients[1]` to get the intercept of a line, and `lm(x2~x1, data=...$coefficients[2]` to get the slope of a line."
   ]
  },
  {
   "cell_type": "code",
   "execution_count": 3,
   "metadata": {},
   "outputs": [
    {
     "data": {
      "text/html": [
       "<table>\n",
       "<thead><tr><th scope=col>x1</th><th scope=col>class</th><th scope=col>x2</th></tr></thead>\n",
       "<tbody>\n",
       "\t<tr><td>2.3                  </td><td>A                    </td><td>0.0000000000002167569</td></tr>\n",
       "\t<tr><td>2.5                  </td><td>A                    </td><td>0.0000000000018058314</td></tr>\n",
       "\t<tr><td>4.0                  </td><td>A                    </td><td>0.0000011337271387480</td></tr>\n",
       "\t<tr><td>6.5                  </td><td>B                    </td><td>0.2369277586821216530</td></tr>\n",
       "\t<tr><td>8.5                  </td><td>B                    </td><td>0.5272924240430487686</td></tr>\n",
       "\t<tr><td>9.1                  </td><td>A                    </td><td>0.1408584209210452243</td></tr>\n",
       "</tbody>\n",
       "</table>\n"
      ],
      "text/latex": [
       "\\begin{tabular}{r|lll}\n",
       " x1 & class & x2\\\\\n",
       "\\hline\n",
       "\t 2.3                   & A                     & 0.0000000000002167569\\\\\n",
       "\t 2.5                   & A                     & 0.0000000000018058314\\\\\n",
       "\t 4.0                   & A                     & 0.0000011337271387480\\\\\n",
       "\t 6.5                   & B                     & 0.2369277586821216530\\\\\n",
       "\t 8.5                   & B                     & 0.5272924240430487686\\\\\n",
       "\t 9.1                   & A                     & 0.1408584209210452243\\\\\n",
       "\\end{tabular}\n"
      ],
      "text/markdown": [
       "\n",
       "| x1 | class | x2 |\n",
       "|---|---|---|\n",
       "| 2.3                   | A                     | 0.0000000000002167569 |\n",
       "| 2.5                   | A                     | 0.0000000000018058314 |\n",
       "| 4.0                   | A                     | 0.0000011337271387480 |\n",
       "| 6.5                   | B                     | 0.2369277586821216530 |\n",
       "| 8.5                   | B                     | 0.5272924240430487686 |\n",
       "| 9.1                   | A                     | 0.1408584209210452243 |\n",
       "\n"
      ],
      "text/plain": [
       "  x1  class x2                   \n",
       "1 2.3 A     0.0000000000002167569\n",
       "2 2.5 A     0.0000000000018058314\n",
       "3 4.0 A     0.0000011337271387480\n",
       "4 6.5 B     0.2369277586821216530\n",
       "5 8.5 B     0.5272924240430487686\n",
       "6 9.1 A     0.1408584209210452243"
      ]
     },
     "metadata": {},
     "output_type": "display_data"
    },
    {
     "data": {
      "text/html": [
       "<table>\n",
       "<thead><tr><th scope=col>x1</th><th scope=col>x2</th></tr></thead>\n",
       "<tbody>\n",
       "\t<tr><td>6.1       </td><td>0.07730474</td></tr>\n",
       "\t<tr><td>6.4       </td><td>0.18451952</td></tr>\n",
       "</tbody>\n",
       "</table>\n"
      ],
      "text/latex": [
       "\\begin{tabular}{r|ll}\n",
       " x1 & x2\\\\\n",
       "\\hline\n",
       "\t 6.1        & 0.07730474\\\\\n",
       "\t 6.4        & 0.18451952\\\\\n",
       "\\end{tabular}\n"
      ],
      "text/markdown": [
       "\n",
       "| x1 | x2 |\n",
       "|---|---|\n",
       "| 6.1        | 0.07730474 |\n",
       "| 6.4        | 0.18451952 |\n",
       "\n"
      ],
      "text/plain": [
       "  x1  x2        \n",
       "1 6.1 0.07730474\n",
       "2 6.4 0.18451952"
      ]
     },
     "metadata": {},
     "output_type": "display_data"
    }
   ],
   "source": [
    "radial_center = 7.7\n",
    "gamma = 1\n",
    "\n",
    "data$x2 = gaussian(data$x1, radial_center, gamma)\n",
    "new$x2  = gaussian(new$x1, radial_center, gamma)\n",
    "data\n",
    "new"
   ]
  },
  {
   "cell_type": "code",
   "execution_count": 4,
   "metadata": {},
   "outputs": [
    {
     "data": {
      "image/png": "[encoded data removed]",
      "text/plain": [
       "plot without title"
      ]
     },
     "metadata": {},
     "output_type": "display_data"
    }
   ],
   "source": [
    "new$class = c(\"A\",\"B\")\n",
    "\n",
    "i = lm(x2~x1, data=data[c(1,6),])$coefficients[1]\n",
    "m = lm(x2~x1, data=data[c(1,6),])$coefficients[2]\n",
    "ii = data$x2[4]-m*data$x1[4]\n",
    "\n",
    "ggplot(data) + xlim(0,10) +\n",
    "stat_function(fun=gaussian, args=c(radial_center, gamma), geom=\"area\", alpha=0.3) +\n",
    "geom_point(aes(x=x1, y=x2, color=class)) +\n",
    "geom_point(aes(x=x1, y=x2), data=data[c(1,6,4),], shape=1, size=6, color=\"black\") +\n",
    "geom_point(aes(x=x1, y=x2), data=new, size=6, color=\"gold\") +\n",
    "geom_point(aes(x=x1, y=x2, color=class), data=new) +\n",
    "geom_abline(aes(intercept=i, slope=m)) +\n",
    "geom_abline(aes(intercept=mean(c(i,ii)), slope=m), linetype=\"dashed\") +\n",
    "geom_abline(aes(intercept=ii, slope=m)) +\n",
    "scale_color_manual(values=PALETTE[1:2])"
   ]
  },
  {
   "cell_type": "code",
   "execution_count": 5,
   "metadata": {},
   "outputs": [
    {
     "data": {
      "image/png": "[encoded data removed]",
      "text/plain": [
       "plot without title"
      ]
     },
     "metadata": {},
     "output_type": "display_data"
    }
   ],
   "source": [
    "options(repr.plot.width=8, repr.plot.height=1)\n",
    "ggplot(data) + xlim(0,10) +\n",
    "geom_point(aes(x=x1, y=0, color=class)) +\n",
    "geom_point(aes(x=x1, y=0), data=new, color=\"gold\", size=6) +\n",
    "geom_point(aes(x=x1, y=0, color=class), data=new) +\n",
    "scale_color_manual(values=PALETTE[1:2]) + theme.x_axis_only\n",
    "options(restore)"
   ]
  },
  {
   "cell_type": "markdown",
   "metadata": {},
   "source": [
    "## Problem 2\n",
    "\n",
    "Repeat the analysis done in problem 1, except set radial_center=6, gamma=0.1.  "
   ]
  },
  {
   "cell_type": "code",
   "execution_count": 6,
   "metadata": {},
   "outputs": [
    {
     "data": {
      "text/html": [
       "<table>\n",
       "<thead><tr><th scope=col>x1</th><th scope=col>class</th><th scope=col>x2</th></tr></thead>\n",
       "<tbody>\n",
       "\t<tr><td>2.3      </td><td>A        </td><td>0.2543612</td></tr>\n",
       "\t<tr><td>2.5      </td><td>A        </td><td>0.2937577</td></tr>\n",
       "\t<tr><td>4.0      </td><td>A        </td><td>0.6703200</td></tr>\n",
       "\t<tr><td>6.5      </td><td>B        </td><td>0.9753099</td></tr>\n",
       "\t<tr><td>8.5      </td><td>B        </td><td>0.5352614</td></tr>\n",
       "\t<tr><td>9.1      </td><td>A        </td><td>0.3825102</td></tr>\n",
       "</tbody>\n",
       "</table>\n"
      ],
      "text/latex": [
       "\\begin{tabular}{r|lll}\n",
       " x1 & class & x2\\\\\n",
       "\\hline\n",
       "\t 2.3       & A         & 0.2543612\\\\\n",
       "\t 2.5       & A         & 0.2937577\\\\\n",
       "\t 4.0       & A         & 0.6703200\\\\\n",
       "\t 6.5       & B         & 0.9753099\\\\\n",
       "\t 8.5       & B         & 0.5352614\\\\\n",
       "\t 9.1       & A         & 0.3825102\\\\\n",
       "\\end{tabular}\n"
      ],
      "text/markdown": [
       "\n",
       "| x1 | class | x2 |\n",
       "|---|---|---|\n",
       "| 2.3       | A         | 0.2543612 |\n",
       "| 2.5       | A         | 0.2937577 |\n",
       "| 4.0       | A         | 0.6703200 |\n",
       "| 6.5       | B         | 0.9753099 |\n",
       "| 8.5       | B         | 0.5352614 |\n",
       "| 9.1       | A         | 0.3825102 |\n",
       "\n"
      ],
      "text/plain": [
       "  x1  class x2       \n",
       "1 2.3 A     0.2543612\n",
       "2 2.5 A     0.2937577\n",
       "3 4.0 A     0.6703200\n",
       "4 6.5 B     0.9753099\n",
       "5 8.5 B     0.5352614\n",
       "6 9.1 A     0.3825102"
      ]
     },
     "metadata": {},
     "output_type": "display_data"
    },
    {
     "data": {
      "text/html": [
       "<table>\n",
       "<thead><tr><th scope=col>x1</th><th scope=col>x2</th></tr></thead>\n",
       "<tbody>\n",
       "\t<tr><td>6.1      </td><td>0.9990005</td></tr>\n",
       "\t<tr><td>6.4      </td><td>0.9841273</td></tr>\n",
       "</tbody>\n",
       "</table>\n"
      ],
      "text/latex": [
       "\\begin{tabular}{r|ll}\n",
       " x1 & x2\\\\\n",
       "\\hline\n",
       "\t 6.1       & 0.9990005\\\\\n",
       "\t 6.4       & 0.9841273\\\\\n",
       "\\end{tabular}\n"
      ],
      "text/markdown": [
       "\n",
       "| x1 | x2 |\n",
       "|---|---|\n",
       "| 6.1       | 0.9990005 |\n",
       "| 6.4       | 0.9841273 |\n",
       "\n"
      ],
      "text/plain": [
       "  x1  x2       \n",
       "1 6.1 0.9990005\n",
       "2 6.4 0.9841273"
      ]
     },
     "metadata": {},
     "output_type": "display_data"
    }
   ],
   "source": []
  },
  {
   "cell_type": "code",
   "execution_count": 7,
   "metadata": {},
   "outputs": [
    {
     "data": {
      "image/png": "[encoded data removed]",
      "text/plain": [
       "plot without title"
      ]
     },
     "metadata": {},
     "output_type": "display_data"
    }
   ],
   "source": []
  },
  {
   "cell_type": "code",
   "execution_count": 8,
   "metadata": {},
   "outputs": [
    {
     "data": {
      "image/png": "[encoded data removed]",
      "text/plain": [
       "plot without title"
      ]
     },
     "metadata": {},
     "output_type": "display_data"
    }
   ],
   "source": []
  },
  {
   "cell_type": "markdown",
   "metadata": {},
   "source": [
    "## Problem 3\n",
    "\n",
    "Repeat the analysis done in problem 1, except calculate x2 as the polynomial (x1-6)^2."
   ]
  },
  {
   "cell_type": "code",
   "execution_count": 9,
   "metadata": {},
   "outputs": [
    {
     "data": {
      "text/html": [
       "<table>\n",
       "<thead><tr><th scope=col>x1</th><th scope=col>class</th><th scope=col>x2</th></tr></thead>\n",
       "<tbody>\n",
       "\t<tr><td>2.3  </td><td>A    </td><td>13.69</td></tr>\n",
       "\t<tr><td>2.5  </td><td>A    </td><td>12.25</td></tr>\n",
       "\t<tr><td>4.0  </td><td>A    </td><td> 4.00</td></tr>\n",
       "\t<tr><td>6.5  </td><td>B    </td><td> 0.25</td></tr>\n",
       "\t<tr><td>8.5  </td><td>B    </td><td> 6.25</td></tr>\n",
       "\t<tr><td>9.1  </td><td>A    </td><td> 9.61</td></tr>\n",
       "</tbody>\n",
       "</table>\n"
      ],
      "text/latex": [
       "\\begin{tabular}{r|lll}\n",
       " x1 & class & x2\\\\\n",
       "\\hline\n",
       "\t 2.3   & A     & 13.69\\\\\n",
       "\t 2.5   & A     & 12.25\\\\\n",
       "\t 4.0   & A     &  4.00\\\\\n",
       "\t 6.5   & B     &  0.25\\\\\n",
       "\t 8.5   & B     &  6.25\\\\\n",
       "\t 9.1   & A     &  9.61\\\\\n",
       "\\end{tabular}\n"
      ],
      "text/markdown": [
       "\n",
       "| x1 | class | x2 |\n",
       "|---|---|---|\n",
       "| 2.3   | A     | 13.69 |\n",
       "| 2.5   | A     | 12.25 |\n",
       "| 4.0   | A     |  4.00 |\n",
       "| 6.5   | B     |  0.25 |\n",
       "| 8.5   | B     |  6.25 |\n",
       "| 9.1   | A     |  9.61 |\n",
       "\n"
      ],
      "text/plain": [
       "  x1  class x2   \n",
       "1 2.3 A     13.69\n",
       "2 2.5 A     12.25\n",
       "3 4.0 A      4.00\n",
       "4 6.5 B      0.25\n",
       "5 8.5 B      6.25\n",
       "6 9.1 A      9.61"
      ]
     },
     "metadata": {},
     "output_type": "display_data"
    },
    {
     "data": {
      "text/html": [
       "<table>\n",
       "<thead><tr><th scope=col>x1</th><th scope=col>x2</th></tr></thead>\n",
       "<tbody>\n",
       "\t<tr><td>6.1 </td><td>0.01</td></tr>\n",
       "\t<tr><td>6.4 </td><td>0.16</td></tr>\n",
       "</tbody>\n",
       "</table>\n"
      ],
      "text/latex": [
       "\\begin{tabular}{r|ll}\n",
       " x1 & x2\\\\\n",
       "\\hline\n",
       "\t 6.1  & 0.01\\\\\n",
       "\t 6.4  & 0.16\\\\\n",
       "\\end{tabular}\n"
      ],
      "text/markdown": [
       "\n",
       "| x1 | x2 |\n",
       "|---|---|\n",
       "| 6.1  | 0.01 |\n",
       "| 6.4  | 0.16 |\n",
       "\n"
      ],
      "text/plain": [
       "  x1  x2  \n",
       "1 6.1 0.01\n",
       "2 6.4 0.16"
      ]
     },
     "metadata": {},
     "output_type": "display_data"
    }
   ],
   "source": []
  },
  {
   "cell_type": "code",
   "execution_count": 10,
   "metadata": {},
   "outputs": [
    {
     "data": {
      "image/png": "[encoded data removed]",
      "text/plain": [
       "plot without title"
      ]
     },
     "metadata": {},
     "output_type": "display_data"
    }
   ],
   "source": []
  },
  {
   "cell_type": "code",
   "execution_count": 11,
   "metadata": {},
   "outputs": [
    {
     "data": {
      "image/png": "[encoded data removed]",
      "text/plain": [
       "plot without title"
      ]
     },
     "metadata": {},
     "output_type": "display_data"
    }
   ],
   "source": []
  },
  {
   "cell_type": "markdown",
   "metadata": {},
   "source": [
    "<font size=5;>\n",
    "<p style=\"text-align: center;\">\n",
    "Choice of Cost\n",
    "</p>\n",
    "</font>"
   ]
  },
  {
   "cell_type": "markdown",
   "metadata": {},
   "source": [
    "## Data"
   ]
  },
  {
   "cell_type": "code",
   "execution_count": 12,
   "metadata": {},
   "outputs": [],
   "source": [
    "data = data.frame(x1=c(2.3, 2.5, 4.0, 6.5, 8.5, 9.1), class=factor(c(\"A\", \"A\", \"A\", \"B\",  \"B\", \"A\")))"
   ]
  },
  {
   "cell_type": "markdown",
   "metadata": {},
   "source": [
    "## Problem 4\n",
    "\n",
    "Construct an SVM model trained on the classified dataset with these hyper-parameter settings:\n",
    "`kernel=\"polynomial\"`, `degree=3`, `coef0=0`, `gamma=1`, `scale=FALSE`, `cost=1`.  \n",
    "\n",
    "Determine the model's in-sample class probabilities, predicted classes (cutoff=0.5 for class A), confusion matrix, true positive rate (positive is class A), and accuracy. \n",
    "\n",
    "You may want to use these function(s):\n",
    "* set.seed()\n",
    "* svm()\n",
    "* attr()\n",
    "* predict()\n",
    "* confusionMatrix()\n",
    "\n",
    "Use `set.seed(12345)` and `svm(...)` together to ensure consistency in the class probabilities.\n",
    "Use `svm(class~x1, ..., probability=TRUE)` to ensure class probabilities are calculated.\n",
    "Use `attr(predict(..., ..., probability=TRUE), \"probabilities\")` to get the calculated class probabilities."
   ]
  },
  {
   "cell_type": "code",
   "execution_count": 13,
   "metadata": {},
   "outputs": [
    {
     "data": {
      "text/html": [
       "<table>\n",
       "<thead><tr><th scope=col>A</th><th scope=col>B</th></tr></thead>\n",
       "<tbody>\n",
       "\t<tr><td>0.6005132</td><td>0.3994868</td></tr>\n",
       "\t<tr><td>0.6009931</td><td>0.3990069</td></tr>\n",
       "\t<tr><td>0.6076856</td><td>0.3923144</td></tr>\n",
       "\t<tr><td>0.6363273</td><td>0.3636727</td></tr>\n",
       "\t<tr><td>0.6804606</td><td>0.3195394</td></tr>\n",
       "\t<tr><td>0.6977426</td><td>0.3022574</td></tr>\n",
       "</tbody>\n",
       "</table>\n"
      ],
      "text/latex": [
       "\\begin{tabular}{r|ll}\n",
       " A & B\\\\\n",
       "\\hline\n",
       "\t 0.6005132 & 0.3994868\\\\\n",
       "\t 0.6009931 & 0.3990069\\\\\n",
       "\t 0.6076856 & 0.3923144\\\\\n",
       "\t 0.6363273 & 0.3636727\\\\\n",
       "\t 0.6804606 & 0.3195394\\\\\n",
       "\t 0.6977426 & 0.3022574\\\\\n",
       "\\end{tabular}\n"
      ],
      "text/markdown": [
       "\n",
       "| A | B |\n",
       "|---|---|\n",
       "| 0.6005132 | 0.3994868 |\n",
       "| 0.6009931 | 0.3990069 |\n",
       "| 0.6076856 | 0.3923144 |\n",
       "| 0.6363273 | 0.3636727 |\n",
       "| 0.6804606 | 0.3195394 |\n",
       "| 0.6977426 | 0.3022574 |\n",
       "\n"
      ],
      "text/plain": [
       "  A         B        \n",
       "1 0.6005132 0.3994868\n",
       "2 0.6009931 0.3990069\n",
       "3 0.6076856 0.3923144\n",
       "4 0.6363273 0.3636727\n",
       "5 0.6804606 0.3195394\n",
       "6 0.6977426 0.3022574"
      ]
     },
     "metadata": {},
     "output_type": "display_data"
    },
    {
     "data": {
      "text/html": [
       "<table>\n",
       "<thead><tr><th scope=col>x1</th><th scope=col>class</th><th scope=col>prediction</th></tr></thead>\n",
       "<tbody>\n",
       "\t<tr><td>2.3</td><td>A  </td><td>A  </td></tr>\n",
       "\t<tr><td>2.5</td><td>A  </td><td>A  </td></tr>\n",
       "\t<tr><td>4.0</td><td>A  </td><td>A  </td></tr>\n",
       "\t<tr><td>6.5</td><td>B  </td><td>A  </td></tr>\n",
       "\t<tr><td>8.5</td><td>B  </td><td>A  </td></tr>\n",
       "\t<tr><td>9.1</td><td>A  </td><td>A  </td></tr>\n",
       "</tbody>\n",
       "</table>\n"
      ],
      "text/latex": [
       "\\begin{tabular}{r|lll}\n",
       " x1 & class & prediction\\\\\n",
       "\\hline\n",
       "\t 2.3 & A   & A  \\\\\n",
       "\t 2.5 & A   & A  \\\\\n",
       "\t 4.0 & A   & A  \\\\\n",
       "\t 6.5 & B   & A  \\\\\n",
       "\t 8.5 & B   & A  \\\\\n",
       "\t 9.1 & A   & A  \\\\\n",
       "\\end{tabular}\n"
      ],
      "text/markdown": [
       "\n",
       "| x1 | class | prediction |\n",
       "|---|---|---|\n",
       "| 2.3 | A   | A   |\n",
       "| 2.5 | A   | A   |\n",
       "| 4.0 | A   | A   |\n",
       "| 6.5 | B   | A   |\n",
       "| 8.5 | B   | A   |\n",
       "| 9.1 | A   | A   |\n",
       "\n"
      ],
      "text/plain": [
       "  x1  class prediction\n",
       "1 2.3 A     A         \n",
       "2 2.5 A     A         \n",
       "3 4.0 A     A         \n",
       "4 6.5 B     A         \n",
       "5 8.5 B     A         \n",
       "6 9.1 A     A         "
      ]
     },
     "metadata": {},
     "output_type": "display_data"
    },
    {
     "data": {
      "text/plain": [
       "          Reference\n",
       "Prediction         A         B\n",
       "         A 0.6666667 0.3333333\n",
       "         B 0.0000000 0.0000000"
      ]
     },
     "metadata": {},
     "output_type": "display_data"
    },
    {
     "data": {
      "text/html": [
       "<table>\n",
       "<thead><tr><th scope=col>tpr</th><th scope=col>accuracy</th></tr></thead>\n",
       "<tbody>\n",
       "\t<tr><td>1        </td><td>0.6666667</td></tr>\n",
       "</tbody>\n",
       "</table>\n"
      ],
      "text/latex": [
       "\\begin{tabular}{r|ll}\n",
       " tpr & accuracy\\\\\n",
       "\\hline\n",
       "\t 1         & 0.6666667\\\\\n",
       "\\end{tabular}\n"
      ],
      "text/markdown": [
       "\n",
       "| tpr | accuracy |\n",
       "|---|---|\n",
       "| 1         | 0.6666667 |\n",
       "\n"
      ],
      "text/plain": [
       "  tpr accuracy \n",
       "1 1   0.6666667"
      ]
     },
     "metadata": {},
     "output_type": "display_data"
    }
   ],
   "source": []
  },
  {
   "cell_type": "markdown",
   "metadata": {},
   "source": [
    "## Problem 5\n",
    "\n",
    "Repeat the analyis done in problem 4, except instead try cost 10, 100, 1000, and 10000.  Record the true positive rate and accuracy of each model in a table."
   ]
  },
  {
   "cell_type": "code",
   "execution_count": 14,
   "metadata": {},
   "outputs": [
    {
     "data": {
      "text/html": [
       "<table>\n",
       "<thead><tr><th scope=col>model</th><th scope=col>kernel</th><th scope=col>degree</th><th scope=col>coef0</th><th scope=col>gamma</th><th scope=col>scale</th><th scope=col>cost</th><th scope=col>tpr</th><th scope=col>accuracy</th></tr></thead>\n",
       "<tbody>\n",
       "\t<tr><td>1         </td><td>polynomial</td><td>3         </td><td>0         </td><td>1         </td><td>FALSE     </td><td>    1     </td><td>1.00      </td><td>0.6666667 </td></tr>\n",
       "\t<tr><td>2         </td><td>polynomial</td><td>3         </td><td>0         </td><td>1         </td><td>FALSE     </td><td>   10     </td><td>1.00      </td><td>0.6666667 </td></tr>\n",
       "\t<tr><td>3         </td><td>polynomial</td><td>3         </td><td>0         </td><td>1         </td><td>FALSE     </td><td>  100     </td><td>1.00      </td><td>0.6666667 </td></tr>\n",
       "\t<tr><td>4         </td><td>polynomial</td><td>3         </td><td>0         </td><td>1         </td><td>FALSE     </td><td> 1000     </td><td>0.75      </td><td>0.5000000 </td></tr>\n",
       "\t<tr><td>5         </td><td>polynomial</td><td>3         </td><td>0         </td><td>1         </td><td>FALSE     </td><td>10000     </td><td>0.75      </td><td>0.6666667 </td></tr>\n",
       "</tbody>\n",
       "</table>\n"
      ],
      "text/latex": [
       "\\begin{tabular}{r|lllllllll}\n",
       " model & kernel & degree & coef0 & gamma & scale & cost & tpr & accuracy\\\\\n",
       "\\hline\n",
       "\t 1          & polynomial & 3          & 0          & 1          & FALSE      &     1      & 1.00       & 0.6666667 \\\\\n",
       "\t 2          & polynomial & 3          & 0          & 1          & FALSE      &    10      & 1.00       & 0.6666667 \\\\\n",
       "\t 3          & polynomial & 3          & 0          & 1          & FALSE      &   100      & 1.00       & 0.6666667 \\\\\n",
       "\t 4          & polynomial & 3          & 0          & 1          & FALSE      &  1000      & 0.75       & 0.5000000 \\\\\n",
       "\t 5          & polynomial & 3          & 0          & 1          & FALSE      & 10000      & 0.75       & 0.6666667 \\\\\n",
       "\\end{tabular}\n"
      ],
      "text/markdown": [
       "\n",
       "| model | kernel | degree | coef0 | gamma | scale | cost | tpr | accuracy |\n",
       "|---|---|---|---|---|---|---|---|---|\n",
       "| 1          | polynomial | 3          | 0          | 1          | FALSE      |     1      | 1.00       | 0.6666667  |\n",
       "| 2          | polynomial | 3          | 0          | 1          | FALSE      |    10      | 1.00       | 0.6666667  |\n",
       "| 3          | polynomial | 3          | 0          | 1          | FALSE      |   100      | 1.00       | 0.6666667  |\n",
       "| 4          | polynomial | 3          | 0          | 1          | FALSE      |  1000      | 0.75       | 0.5000000  |\n",
       "| 5          | polynomial | 3          | 0          | 1          | FALSE      | 10000      | 0.75       | 0.6666667  |\n",
       "\n"
      ],
      "text/plain": [
       "  model kernel     degree coef0 gamma scale cost  tpr  accuracy \n",
       "1 1     polynomial 3      0     1     FALSE     1 1.00 0.6666667\n",
       "2 2     polynomial 3      0     1     FALSE    10 1.00 0.6666667\n",
       "3 3     polynomial 3      0     1     FALSE   100 1.00 0.6666667\n",
       "4 4     polynomial 3      0     1     FALSE  1000 0.75 0.5000000\n",
       "5 5     polynomial 3      0     1     FALSE 10000 0.75 0.6666667"
      ]
     },
     "metadata": {},
     "output_type": "display_data"
    }
   ],
   "source": []
  },
  {
   "cell_type": "markdown",
   "metadata": {},
   "source": [
    "<font size=1;>\n",
    "<p style=\"text-align: left;\">\n",
    "Copyright (c) Berkeley Data Analytics Group, LLC\n",
    "<span style=\"float: right;\">\n",
    "document revised May 6, 2019\n",
    "</span>\n",
    "</p>\n",
    "</font>"
   ]
  }
 ],
 "metadata": {
  "hide_code_all_hidden": false,
  "hide_input": false,
  "kernelspec": {
   "display_name": "R",
   "language": "R",
   "name": "ir"
  },
  "language_info": {
   "codemirror_mode": "r",
   "file_extension": ".r",
   "mimetype": "text/x-r-source",
   "name": "R",
   "pygments_lexer": "r",
   "version": "3.5.3"
  },
  "toc": {
   "base_numbering": 1,
   "nav_menu": {},
   "number_sections": false,
   "sideBar": true,
   "skip_h1_title": true,
   "title_cell": "Table of Contents",
   "title_sidebar": "Contents",
   "toc_cell": false,
   "toc_position": {
    "height": "calc(100% - 180px)",
    "left": "10px",
    "top": "150px",
    "width": "307.2px"
   },
   "toc_section_display": true,
   "toc_window_display": true
  }
 },
 "nbformat": 4,
 "nbformat_minor": 2
}
