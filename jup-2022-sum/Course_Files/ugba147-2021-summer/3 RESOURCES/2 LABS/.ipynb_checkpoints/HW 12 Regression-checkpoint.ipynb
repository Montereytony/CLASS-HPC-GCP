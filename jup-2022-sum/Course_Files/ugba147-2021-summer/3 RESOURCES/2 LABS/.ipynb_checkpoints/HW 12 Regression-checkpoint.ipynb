{
 "cells": [
  {
   "cell_type": "markdown",
   "metadata": {},
   "source": [
    "<font size=2;>\n",
    "<p style=\"text-align: right;\">\n",
    "Exercises\n",
    "</p>\n",
    "</font>"
   ]
  },
  {
   "cell_type": "markdown",
   "metadata": {
    "hideCode": false,
    "hidePrompt": false
   },
   "source": [
    "# Regression"
   ]
  },
  {
   "cell_type": "markdown",
   "metadata": {},
   "source": [
    "**Write and execute R code in the code cells per the instructions.  The expected results are provided for you directly following the code cells.**"
   ]
  },
  {
   "cell_type": "code",
   "execution_count": 1,
   "metadata": {},
   "outputs": [
    {
     "name": "stdout",
     "output_type": "stream",
     "text": [
      "Open code cell here for notebook apparatus."
     ]
    },
    {
     "name": "stderr",
     "output_type": "stream",
     "text": [
      "dummies-1.5.6 provided by Decision Patterns\n",
      "\n"
     ]
    }
   ],
   "source": [
    "cat(\"Open code cell here for notebook apparatus.\")\n",
    "\n",
    "options(warn=-1)\n",
    "\n",
    "# Load some required functions\n",
    "library(e1071,    verbose=FALSE, warn.conflicts=FALSE, quietly=TRUE)\n",
    "library(ggplot2,  verbose=FALSE, warn.conflicts=FALSE, quietly=TRUE)\n",
    "library(gridExtra, verbose=FALSE, warn.conflicts=FALSE, quietly=TRUE)\n",
    "library(neuralnet, verbose=FALSE, warn.conflicts=FALSE, quietly=TRUE)\n",
    "library(dummies,   verbose=FALSE, warn.conflicts=FALSE, quietly=TRUE)\n",
    "\n",
    "# Define some visualization constants\n",
    "restore = list(repr.plot.width=8, repr.plot.height=3)\n",
    "PALETTE = c(\"#00A9FF\", \"#F8766D\", \"#7CAE00\", \"#C77CFF\", \"#CD9600\", \"#00BE67\", \"#FF61CC\", \"#00BFC4\")\n",
    "\n",
    "# Set some visualization formatting defaults\n",
    "options(restore)\n",
    "update_geom_defaults(\"point\", list(size=3, color=\"black\"))\n",
    "theme_update(plot.title=element_text(size=10, hjust=0.5), plot.subtitle=element_text(size=8, face=\"italic\", hjust=0.5), axis.title=element_text(size=7), axis.text=element_text(size=7), strip.text=element_text(size=7), strip.text.y=element_text(angle=90), legend.title=element_blank(), legend.text=element_text(size=7))"
   ]
  },
  {
   "cell_type": "markdown",
   "metadata": {},
   "source": [
    "## Data & New Observation"
   ]
  },
  {
   "cell_type": "code",
   "execution_count": 2,
   "metadata": {
    "hideCode": false,
    "hidePrompt": false,
    "run_control": {
     "marked": false
    }
   },
   "outputs": [
    {
     "data": {
      "image/png": "[encoded data removed]",
      "text/plain": [
       "plot without title"
      ]
     },
     "metadata": {},
     "output_type": "display_data"
    }
   ],
   "source": [
    "x3_labels = c(\"A\",\"B\",\"C\",\"D\")\n",
    "data = data.frame(x1=c(1,2,4,4,5,6,7,8,9,1,2,3,4,5,6,7,8,9),\n",
    "                  x2=c(9,8,6,3,5,4,3,2,1,9,8,6,1,5,4,3,2,10),\n",
    "                  x3=factor(c(\"A\",\"A\",\"C\",\"A\",\"A\",\"B\",\"C\",\"D\",\"A\",\"A\",\"B\",\"C\",\"D\",\"A\",\"B\",\"C\",\"D\",\"D\"), x3_labels),\n",
    "                  outcome=c(1,1,2,4,4,2,5,9,9,4,2,3,7,6,5,9,8,7))\n",
    "\n",
    "grid.arrange(ggplot(data) + geom_point(aes(x=x1, y=outcome, color=x3)) +\n",
    "             scale_color_manual(values=PALETTE) + xlim(0,10) + ylim(0,10),\n",
    "             \n",
    "             ggplot(data) + geom_point(aes(x=x2, y=outcome, color=x3)) +\n",
    "             scale_color_manual(values=PALETTE) + xlim(0,10) + ylim(0,10),\n",
    "             \n",
    "             nrow=1)"
   ]
  },
  {
   "cell_type": "code",
   "execution_count": 3,
   "metadata": {
    "scrolled": true
   },
   "outputs": [
    {
     "data": {
      "text/html": [
       "<table>\n",
       "<thead><tr><th scope=col>x1</th><th scope=col>x2</th><th scope=col>x3</th></tr></thead>\n",
       "<tbody>\n",
       "\t<tr><td>5.5</td><td>7.5</td><td>B  </td></tr>\n",
       "</tbody>\n",
       "</table>\n"
      ],
      "text/latex": [
       "\\begin{tabular}{r|lll}\n",
       " x1 & x2 & x3\\\\\n",
       "\\hline\n",
       "\t 5.5 & 7.5 & B  \\\\\n",
       "\\end{tabular}\n"
      ],
      "text/markdown": [
       "\n",
       "| x1 | x2 | x3 |\n",
       "|---|---|---|\n",
       "| 5.5 | 7.5 | B   |\n",
       "\n"
      ],
      "text/plain": [
       "  x1  x2  x3\n",
       "1 5.5 7.5 B "
      ]
     },
     "metadata": {},
     "output_type": "display_data"
    }
   ],
   "source": [
    "new = data.frame(x1=5.5, x2=7.5, x3=factor(\"B\", x3_labels))\n",
    "new"
   ]
  },
  {
   "cell_type": "markdown",
   "metadata": {},
   "source": [
    "## Problem 1: Dummy Variables\n",
    "\n",
    "Express the data and new observation in terms of all numeric variables.  Convert the categorical variables to dummy variables as required.\n",
    "\n",
    "You may want to use these function(s):\n",
    "* dummy.data.frame()"
   ]
  },
  {
   "cell_type": "code",
   "execution_count": 4,
   "metadata": {
    "scrolled": true
   },
   "outputs": [
    {
     "data": {
      "text/html": [
       "<table>\n",
       "<thead><tr><th scope=col>x1</th><th scope=col>x2</th><th scope=col>x3B</th><th scope=col>x3C</th><th scope=col>x3D</th><th scope=col>outcome</th></tr></thead>\n",
       "<tbody>\n",
       "\t<tr><td>1 </td><td> 9</td><td>0 </td><td>0 </td><td>0 </td><td>1 </td></tr>\n",
       "\t<tr><td>2 </td><td> 8</td><td>0 </td><td>0 </td><td>0 </td><td>1 </td></tr>\n",
       "\t<tr><td>4 </td><td> 6</td><td>0 </td><td>1 </td><td>0 </td><td>2 </td></tr>\n",
       "\t<tr><td>4 </td><td> 3</td><td>0 </td><td>0 </td><td>0 </td><td>4 </td></tr>\n",
       "\t<tr><td>5 </td><td> 5</td><td>0 </td><td>0 </td><td>0 </td><td>4 </td></tr>\n",
       "\t<tr><td>6 </td><td> 4</td><td>1 </td><td>0 </td><td>0 </td><td>2 </td></tr>\n",
       "\t<tr><td>7 </td><td> 3</td><td>0 </td><td>1 </td><td>0 </td><td>5 </td></tr>\n",
       "\t<tr><td>8 </td><td> 2</td><td>0 </td><td>0 </td><td>1 </td><td>9 </td></tr>\n",
       "\t<tr><td>9 </td><td> 1</td><td>0 </td><td>0 </td><td>0 </td><td>9 </td></tr>\n",
       "\t<tr><td>1 </td><td> 9</td><td>0 </td><td>0 </td><td>0 </td><td>4 </td></tr>\n",
       "\t<tr><td>2 </td><td> 8</td><td>1 </td><td>0 </td><td>0 </td><td>2 </td></tr>\n",
       "\t<tr><td>3 </td><td> 6</td><td>0 </td><td>1 </td><td>0 </td><td>3 </td></tr>\n",
       "\t<tr><td>4 </td><td> 1</td><td>0 </td><td>0 </td><td>1 </td><td>7 </td></tr>\n",
       "\t<tr><td>5 </td><td> 5</td><td>0 </td><td>0 </td><td>0 </td><td>6 </td></tr>\n",
       "\t<tr><td>6 </td><td> 4</td><td>1 </td><td>0 </td><td>0 </td><td>5 </td></tr>\n",
       "\t<tr><td>7 </td><td> 3</td><td>0 </td><td>1 </td><td>0 </td><td>9 </td></tr>\n",
       "\t<tr><td>8 </td><td> 2</td><td>0 </td><td>0 </td><td>1 </td><td>8 </td></tr>\n",
       "\t<tr><td>9 </td><td>10</td><td>0 </td><td>0 </td><td>1 </td><td>7 </td></tr>\n",
       "</tbody>\n",
       "</table>\n"
      ],
      "text/latex": [
       "\\begin{tabular}{r|llllll}\n",
       " x1 & x2 & x3B & x3C & x3D & outcome\\\\\n",
       "\\hline\n",
       "\t 1  &  9 & 0  & 0  & 0  & 1 \\\\\n",
       "\t 2  &  8 & 0  & 0  & 0  & 1 \\\\\n",
       "\t 4  &  6 & 0  & 1  & 0  & 2 \\\\\n",
       "\t 4  &  3 & 0  & 0  & 0  & 4 \\\\\n",
       "\t 5  &  5 & 0  & 0  & 0  & 4 \\\\\n",
       "\t 6  &  4 & 1  & 0  & 0  & 2 \\\\\n",
       "\t 7  &  3 & 0  & 1  & 0  & 5 \\\\\n",
       "\t 8  &  2 & 0  & 0  & 1  & 9 \\\\\n",
       "\t 9  &  1 & 0  & 0  & 0  & 9 \\\\\n",
       "\t 1  &  9 & 0  & 0  & 0  & 4 \\\\\n",
       "\t 2  &  8 & 1  & 0  & 0  & 2 \\\\\n",
       "\t 3  &  6 & 0  & 1  & 0  & 3 \\\\\n",
       "\t 4  &  1 & 0  & 0  & 1  & 7 \\\\\n",
       "\t 5  &  5 & 0  & 0  & 0  & 6 \\\\\n",
       "\t 6  &  4 & 1  & 0  & 0  & 5 \\\\\n",
       "\t 7  &  3 & 0  & 1  & 0  & 9 \\\\\n",
       "\t 8  &  2 & 0  & 0  & 1  & 8 \\\\\n",
       "\t 9  & 10 & 0  & 0  & 1  & 7 \\\\\n",
       "\\end{tabular}\n"
      ],
      "text/markdown": [
       "\n",
       "| x1 | x2 | x3B | x3C | x3D | outcome |\n",
       "|---|---|---|---|---|---|\n",
       "| 1  |  9 | 0  | 0  | 0  | 1  |\n",
       "| 2  |  8 | 0  | 0  | 0  | 1  |\n",
       "| 4  |  6 | 0  | 1  | 0  | 2  |\n",
       "| 4  |  3 | 0  | 0  | 0  | 4  |\n",
       "| 5  |  5 | 0  | 0  | 0  | 4  |\n",
       "| 6  |  4 | 1  | 0  | 0  | 2  |\n",
       "| 7  |  3 | 0  | 1  | 0  | 5  |\n",
       "| 8  |  2 | 0  | 0  | 1  | 9  |\n",
       "| 9  |  1 | 0  | 0  | 0  | 9  |\n",
       "| 1  |  9 | 0  | 0  | 0  | 4  |\n",
       "| 2  |  8 | 1  | 0  | 0  | 2  |\n",
       "| 3  |  6 | 0  | 1  | 0  | 3  |\n",
       "| 4  |  1 | 0  | 0  | 1  | 7  |\n",
       "| 5  |  5 | 0  | 0  | 0  | 6  |\n",
       "| 6  |  4 | 1  | 0  | 0  | 5  |\n",
       "| 7  |  3 | 0  | 1  | 0  | 9  |\n",
       "| 8  |  2 | 0  | 0  | 1  | 8  |\n",
       "| 9  | 10 | 0  | 0  | 1  | 7  |\n",
       "\n"
      ],
      "text/plain": [
       "   x1 x2 x3B x3C x3D outcome\n",
       "1  1   9 0   0   0   1      \n",
       "2  2   8 0   0   0   1      \n",
       "3  4   6 0   1   0   2      \n",
       "4  4   3 0   0   0   4      \n",
       "5  5   5 0   0   0   4      \n",
       "6  6   4 1   0   0   2      \n",
       "7  7   3 0   1   0   5      \n",
       "8  8   2 0   0   1   9      \n",
       "9  9   1 0   0   0   9      \n",
       "10 1   9 0   0   0   4      \n",
       "11 2   8 1   0   0   2      \n",
       "12 3   6 0   1   0   3      \n",
       "13 4   1 0   0   1   7      \n",
       "14 5   5 0   0   0   6      \n",
       "15 6   4 1   0   0   5      \n",
       "16 7   3 0   1   0   9      \n",
       "17 8   2 0   0   1   8      \n",
       "18 9  10 0   0   1   7      "
      ]
     },
     "metadata": {},
     "output_type": "display_data"
    }
   ],
   "source": []
  },
  {
   "cell_type": "code",
   "execution_count": 5,
   "metadata": {},
   "outputs": [
    {
     "data": {
      "text/html": [
       "<table>\n",
       "<thead><tr><th scope=col>x1</th><th scope=col>x2</th><th scope=col>x3B</th><th scope=col>x3C</th><th scope=col>x3D</th></tr></thead>\n",
       "<tbody>\n",
       "\t<tr><td>5.5</td><td>7.5</td><td>1  </td><td>0  </td><td>0  </td></tr>\n",
       "</tbody>\n",
       "</table>\n"
      ],
      "text/latex": [
       "\\begin{tabular}{r|lllll}\n",
       " x1 & x2 & x3B & x3C & x3D\\\\\n",
       "\\hline\n",
       "\t 5.5 & 7.5 & 1   & 0   & 0  \\\\\n",
       "\\end{tabular}\n"
      ],
      "text/markdown": [
       "\n",
       "| x1 | x2 | x3B | x3C | x3D |\n",
       "|---|---|---|---|---|\n",
       "| 5.5 | 7.5 | 1   | 0   | 0   |\n",
       "\n"
      ],
      "text/plain": [
       "  x1  x2  x3B x3C x3D\n",
       "1 5.5 7.5 1   0   0  "
      ]
     },
     "metadata": {},
     "output_type": "display_data"
    }
   ],
   "source": []
  },
  {
   "cell_type": "markdown",
   "metadata": {},
   "source": [
    "## Problem 2: Simple Linear Regression\n",
    "\n",
    "Construct a simple linear regression model to predict outcome given x1.  Show the model intercept and coefficient(s).  Show the actual data, predicted outcomes of the data, and predicted outcome of the new observation, overlaid on 2 scatterplots: outcome vs. x1, and outcome vs. x2.\n",
    "\n",
    "You may want to use these function(s):\n",
    "* lm()\n",
    "* predict()"
   ]
  },
  {
   "cell_type": "code",
   "execution_count": 6,
   "metadata": {
    "scrolled": false
   },
   "outputs": [
    {
     "data": {
      "text/html": [
       "<table>\n",
       "<thead><tr><th></th><th scope=col>model.1.coefficients</th></tr></thead>\n",
       "<tbody>\n",
       "\t<tr><th scope=row>(Intercept)</th><td>0.6907363</td></tr>\n",
       "\t<tr><th scope=row>x1</th><td>0.8304038</td></tr>\n",
       "</tbody>\n",
       "</table>\n"
      ],
      "text/latex": [
       "\\begin{tabular}{r|l}\n",
       "  & model.1.coefficients\\\\\n",
       "\\hline\n",
       "\t(Intercept) & 0.6907363\\\\\n",
       "\tx1 & 0.8304038\\\\\n",
       "\\end{tabular}\n"
      ],
      "text/markdown": [
       "\n",
       "| <!--/--> | model.1.coefficients |\n",
       "|---|---|\n",
       "| (Intercept) | 0.6907363 |\n",
       "| x1 | 0.8304038 |\n",
       "\n"
      ],
      "text/plain": [
       "            model.1.coefficients\n",
       "(Intercept) 0.6907363           \n",
       "x1          0.8304038           "
      ]
     },
     "metadata": {},
     "output_type": "display_data"
    },
    {
     "data": {
      "text/html": [
       "<table>\n",
       "<thead><tr><th scope=col>x1</th><th scope=col>x2</th><th scope=col>x3</th><th scope=col>outcome</th></tr></thead>\n",
       "<tbody>\n",
       "\t<tr><td>5.5     </td><td>7.5     </td><td>B       </td><td>5.257957</td></tr>\n",
       "</tbody>\n",
       "</table>\n"
      ],
      "text/latex": [
       "\\begin{tabular}{r|llll}\n",
       " x1 & x2 & x3 & outcome\\\\\n",
       "\\hline\n",
       "\t 5.5      & 7.5      & B        & 5.257957\\\\\n",
       "\\end{tabular}\n"
      ],
      "text/markdown": [
       "\n",
       "| x1 | x2 | x3 | outcome |\n",
       "|---|---|---|---|\n",
       "| 5.5      | 7.5      | B        | 5.257957 |\n",
       "\n"
      ],
      "text/plain": [
       "  x1  x2  x3 outcome \n",
       "1 5.5 7.5 B  5.257957"
      ]
     },
     "metadata": {},
     "output_type": "display_data"
    },
    {
     "data": {
      "image/png": "[encoded data removed]",
      "text/plain": [
       "plot without title"
      ]
     },
     "metadata": {},
     "output_type": "display_data"
    }
   ],
   "source": []
  },
  {
   "cell_type": "markdown",
   "metadata": {},
   "source": [
    "## Problem 3: Multiple Linear Regression\n",
    "\n",
    "Construct a multiple linear regression model to predict outcome given all other variables.  Show the model intercept and coefficient(s).  Show the actual data, predicted outcomes of the data, and predicted outcome of the new observation, as 2 scatterplots: outcome vs. x1, and outcome vs. x2.\n",
    "\n",
    "You may want to use these function(s):\n",
    "* lm()\n",
    "* predict()"
   ]
  },
  {
   "cell_type": "code",
   "execution_count": 7,
   "metadata": {
    "scrolled": false
   },
   "outputs": [
    {
     "data": {
      "text/html": [
       "<table>\n",
       "<thead><tr><th></th><th scope=col>model.2.coefficients</th></tr></thead>\n",
       "<tbody>\n",
       "\t<tr><th scope=row>(Intercept)</th><td> 3.4418106</td></tr>\n",
       "\t<tr><th scope=row>x1</th><td> 0.5707866</td></tr>\n",
       "\t<tr><th scope=row>x2</th><td>-0.2625978</td></tr>\n",
       "\t<tr><th scope=row>x3B</th><td>-1.7049598</td></tr>\n",
       "\t<tr><th scope=row>x3C</th><td>-0.5067502</td></tr>\n",
       "\t<tr><th scope=row>x3D</th><td> 1.1547282</td></tr>\n",
       "</tbody>\n",
       "</table>\n"
      ],
      "text/latex": [
       "\\begin{tabular}{r|l}\n",
       "  & model.2.coefficients\\\\\n",
       "\\hline\n",
       "\t(Intercept) &  3.4418106\\\\\n",
       "\tx1 &  0.5707866\\\\\n",
       "\tx2 & -0.2625978\\\\\n",
       "\tx3B & -1.7049598\\\\\n",
       "\tx3C & -0.5067502\\\\\n",
       "\tx3D &  1.1547282\\\\\n",
       "\\end{tabular}\n"
      ],
      "text/markdown": [
       "\n",
       "| <!--/--> | model.2.coefficients |\n",
       "|---|---|\n",
       "| (Intercept) |  3.4418106 |\n",
       "| x1 |  0.5707866 |\n",
       "| x2 | -0.2625978 |\n",
       "| x3B | -1.7049598 |\n",
       "| x3C | -0.5067502 |\n",
       "| x3D |  1.1547282 |\n",
       "\n"
      ],
      "text/plain": [
       "            model.2.coefficients\n",
       "(Intercept)  3.4418106          \n",
       "x1           0.5707866          \n",
       "x2          -0.2625978          \n",
       "x3B         -1.7049598          \n",
       "x3C         -0.5067502          \n",
       "x3D          1.1547282          "
      ]
     },
     "metadata": {},
     "output_type": "display_data"
    },
    {
     "data": {
      "text/html": [
       "<table>\n",
       "<thead><tr><th scope=col>x1</th><th scope=col>x2</th><th scope=col>x3</th><th scope=col>outcome</th></tr></thead>\n",
       "<tbody>\n",
       "\t<tr><td>5.5     </td><td>7.5     </td><td>B       </td><td>2.906694</td></tr>\n",
       "</tbody>\n",
       "</table>\n"
      ],
      "text/latex": [
       "\\begin{tabular}{r|llll}\n",
       " x1 & x2 & x3 & outcome\\\\\n",
       "\\hline\n",
       "\t 5.5      & 7.5      & B        & 2.906694\\\\\n",
       "\\end{tabular}\n"
      ],
      "text/markdown": [
       "\n",
       "| x1 | x2 | x3 | outcome |\n",
       "|---|---|---|---|\n",
       "| 5.5      | 7.5      | B        | 2.906694 |\n",
       "\n"
      ],
      "text/plain": [
       "  x1  x2  x3 outcome \n",
       "1 5.5 7.5 B  2.906694"
      ]
     },
     "metadata": {},
     "output_type": "display_data"
    },
    {
     "data": {
      "image/png": "[encoded data removed]",
      "text/plain": [
       "plot without title"
      ]
     },
     "metadata": {},
     "output_type": "display_data"
    }
   ],
   "source": []
  },
  {
   "cell_type": "markdown",
   "metadata": {},
   "source": [
    "## Problem 4: Complex Linear Regression\n",
    "\n",
    "Construct a linear regression model to predict log outcome given 3rd degree polynomial in x1, 3rd polynomial in x2, log x1, log x2, and the dummies.  Show the model intercept and coefficient(s).  Show the actual data, predicted outcomes (not predicted log outcomes) of the data, and predicted outcome (not predicted log outcome) of the new observation, as 2 scatterplots: outcome vs. x1, and outcome vs. x2.\n",
    "\n",
    "You may want to use these function(s):\n",
    "* lm()\n",
    "* poly()\n",
    "* log()\n",
    "* exp()\n",
    "* predict()"
   ]
  },
  {
   "cell_type": "code",
   "execution_count": 8,
   "metadata": {},
   "outputs": [
    {
     "data": {
      "text/html": [
       "<table>\n",
       "<thead><tr><th></th><th scope=col>model.3.coefficients</th></tr></thead>\n",
       "<tbody>\n",
       "\t<tr><th scope=row>(Intercept)</th><td>-1.90513976</td></tr>\n",
       "\t<tr><th scope=row>poly(x1, 3, raw = TRUE)1</th><td>-1.77130106</td></tr>\n",
       "\t<tr><th scope=row>poly(x1, 3, raw = TRUE)2</th><td> 0.23473948</td></tr>\n",
       "\t<tr><th scope=row>poly(x1, 3, raw = TRUE)3</th><td>-0.01018167</td></tr>\n",
       "\t<tr><th scope=row>poly(x2, 3, raw = TRUE)1</th><td> 6.25099483</td></tr>\n",
       "\t<tr><th scope=row>poly(x2, 3, raw = TRUE)2</th><td>-0.82657108</td></tr>\n",
       "\t<tr><th scope=row>poly(x2, 3, raw = TRUE)3</th><td> 0.03951503</td></tr>\n",
       "\t<tr><th scope=row>log(x1)</th><td> 1.36647924</td></tr>\n",
       "\t<tr><th scope=row>log(x2)</th><td>-6.35670531</td></tr>\n",
       "\t<tr><th scope=row>x3B</th><td>-0.26888648</td></tr>\n",
       "\t<tr><th scope=row>x3C</th><td> 0.03912707</td></tr>\n",
       "\t<tr><th scope=row>x3D</th><td> 0.46357854</td></tr>\n",
       "</tbody>\n",
       "</table>\n"
      ],
      "text/latex": [
       "\\begin{tabular}{r|l}\n",
       "  & model.3.coefficients\\\\\n",
       "\\hline\n",
       "\t(Intercept) & -1.90513976\\\\\n",
       "\tpoly(x1, 3, raw = TRUE)1 & -1.77130106\\\\\n",
       "\tpoly(x1, 3, raw = TRUE)2 &  0.23473948\\\\\n",
       "\tpoly(x1, 3, raw = TRUE)3 & -0.01018167\\\\\n",
       "\tpoly(x2, 3, raw = TRUE)1 &  6.25099483\\\\\n",
       "\tpoly(x2, 3, raw = TRUE)2 & -0.82657108\\\\\n",
       "\tpoly(x2, 3, raw = TRUE)3 &  0.03951503\\\\\n",
       "\tlog(x1) &  1.36647924\\\\\n",
       "\tlog(x2) & -6.35670531\\\\\n",
       "\tx3B & -0.26888648\\\\\n",
       "\tx3C &  0.03912707\\\\\n",
       "\tx3D &  0.46357854\\\\\n",
       "\\end{tabular}\n"
      ],
      "text/markdown": [
       "\n",
       "| <!--/--> | model.3.coefficients |\n",
       "|---|---|\n",
       "| (Intercept) | -1.90513976 |\n",
       "| poly(x1, 3, raw = TRUE)1 | -1.77130106 |\n",
       "| poly(x1, 3, raw = TRUE)2 |  0.23473948 |\n",
       "| poly(x1, 3, raw = TRUE)3 | -0.01018167 |\n",
       "| poly(x2, 3, raw = TRUE)1 |  6.25099483 |\n",
       "| poly(x2, 3, raw = TRUE)2 | -0.82657108 |\n",
       "| poly(x2, 3, raw = TRUE)3 |  0.03951503 |\n",
       "| log(x1) |  1.36647924 |\n",
       "| log(x2) | -6.35670531 |\n",
       "| x3B | -0.26888648 |\n",
       "| x3C |  0.03912707 |\n",
       "| x3D |  0.46357854 |\n",
       "\n"
      ],
      "text/plain": [
       "                         model.3.coefficients\n",
       "(Intercept)              -1.90513976         \n",
       "poly(x1, 3, raw = TRUE)1 -1.77130106         \n",
       "poly(x1, 3, raw = TRUE)2  0.23473948         \n",
       "poly(x1, 3, raw = TRUE)3 -0.01018167         \n",
       "poly(x2, 3, raw = TRUE)1  6.25099483         \n",
       "poly(x2, 3, raw = TRUE)2 -0.82657108         \n",
       "poly(x2, 3, raw = TRUE)3  0.03951503         \n",
       "log(x1)                   1.36647924         \n",
       "log(x2)                  -6.35670531         \n",
       "x3B                      -0.26888648         \n",
       "x3C                       0.03912707         \n",
       "x3D                       0.46357854         "
      ]
     },
     "metadata": {},
     "output_type": "display_data"
    },
    {
     "data": {
      "text/html": [
       "<table>\n",
       "<thead><tr><th scope=col>x1</th><th scope=col>x2</th><th scope=col>x3</th><th scope=col>outcome</th></tr></thead>\n",
       "<tbody>\n",
       "\t<tr><td>5.5     </td><td>7.5     </td><td>B       </td><td>1.072841</td></tr>\n",
       "</tbody>\n",
       "</table>\n"
      ],
      "text/latex": [
       "\\begin{tabular}{r|llll}\n",
       " x1 & x2 & x3 & outcome\\\\\n",
       "\\hline\n",
       "\t 5.5      & 7.5      & B        & 1.072841\\\\\n",
       "\\end{tabular}\n"
      ],
      "text/markdown": [
       "\n",
       "| x1 | x2 | x3 | outcome |\n",
       "|---|---|---|---|\n",
       "| 5.5      | 7.5      | B        | 1.072841 |\n",
       "\n"
      ],
      "text/plain": [
       "  x1  x2  x3 outcome \n",
       "1 5.5 7.5 B  1.072841"
      ]
     },
     "metadata": {},
     "output_type": "display_data"
    },
    {
     "data": {
      "image/png": "[encoded data removed]",
      "text/plain": [
       "plot without title"
      ]
     },
     "metadata": {},
     "output_type": "display_data"
    }
   ],
   "source": []
  },
  {
   "cell_type": "markdown",
   "metadata": {},
   "source": [
    "## Problem 5: Support Vector Regression\n",
    "\n",
    "Construct a regression model using the support vector machine method to predict outcome given all other variables.  To ensure consistent results, first use set.seed(12345).  Use these hyper-parameter settings: scale=TRUE, type=\"eps-regression\", kernel=\"radial\", gamma=1, cost=1.  Show the actual data, predicted outcomes of the data, and predicted outcome of the new observation, as 2 scatterplots: outcome vs. x1, and outcome vs. x2.\n",
    "\n",
    "You may want to use these function(s):\n",
    "* set.seed()\n",
    "* svm()\n",
    "* predict()"
   ]
  },
  {
   "cell_type": "code",
   "execution_count": 9,
   "metadata": {},
   "outputs": [
    {
     "data": {
      "text/html": [
       "<table>\n",
       "<thead><tr><th scope=col>x1</th><th scope=col>x2</th><th scope=col>x3</th><th scope=col>outcome</th></tr></thead>\n",
       "<tbody>\n",
       "\t<tr><td>5.5     </td><td>7.5     </td><td>B       </td><td>4.413205</td></tr>\n",
       "</tbody>\n",
       "</table>\n"
      ],
      "text/latex": [
       "\\begin{tabular}{r|llll}\n",
       " x1 & x2 & x3 & outcome\\\\\n",
       "\\hline\n",
       "\t 5.5      & 7.5      & B        & 4.413205\\\\\n",
       "\\end{tabular}\n"
      ],
      "text/markdown": [
       "\n",
       "| x1 | x2 | x3 | outcome |\n",
       "|---|---|---|---|\n",
       "| 5.5      | 7.5      | B        | 4.413205 |\n",
       "\n"
      ],
      "text/plain": [
       "  x1  x2  x3 outcome \n",
       "1 5.5 7.5 B  4.413205"
      ]
     },
     "metadata": {},
     "output_type": "display_data"
    },
    {
     "data": {
      "image/png": "[encoded data removed]",
      "text/plain": [
       "plot without title"
      ]
     },
     "metadata": {},
     "output_type": "display_data"
    }
   ],
   "source": []
  },
  {
   "cell_type": "markdown",
   "metadata": {},
   "source": [
    "## Problem 6: Regression by Neural Network\n",
    "\n",
    "Construct a regression model using the neural network method to predict outcome given all other variables.  To ensure consistent results, first use set.seed(12345).  Use these hyper-parameter settings: hidden=3, algorithm=\"rprop+\", rep=1, act.fct=\"logistic\".  Remember to use the regression form of the function.  Show a diagram of the neural network with connections and weights.  Show the actual data, predicted outcomes of the data, and predicted outcome of the new observation, as 2 scatterplots: outcome vs. x1, and outcome vs. x2.\n",
    "\n",
    "You may want to use these function(s):\n",
    "* set.seed()\n",
    "* neuralnet()\n",
    "* plot()\n",
    "* as.numeric()\n",
    "* compute()"
   ]
  },
  {
   "cell_type": "code",
   "execution_count": 10,
   "metadata": {
    "scrolled": false
   },
   "outputs": [
    {
     "data": {
      "image/png": "[encoded data removed]",
      "text/plain": [
       "plot without title"
      ]
     },
     "metadata": {},
     "output_type": "display_data"
    }
   ],
   "source": []
  },
  {
   "cell_type": "code",
   "execution_count": 11,
   "metadata": {
    "scrolled": false
   },
   "outputs": [
    {
     "data": {
      "text/html": [
       "<table>\n",
       "<thead><tr><th scope=col>x1</th><th scope=col>x2</th><th scope=col>x3</th><th scope=col>outcome</th></tr></thead>\n",
       "<tbody>\n",
       "\t<tr><td>5.5      </td><td>7.5      </td><td>B        </td><td>0.9268674</td></tr>\n",
       "</tbody>\n",
       "</table>\n"
      ],
      "text/latex": [
       "\\begin{tabular}{r|llll}\n",
       " x1 & x2 & x3 & outcome\\\\\n",
       "\\hline\n",
       "\t 5.5       & 7.5       & B         & 0.9268674\\\\\n",
       "\\end{tabular}\n"
      ],
      "text/markdown": [
       "\n",
       "| x1 | x2 | x3 | outcome |\n",
       "|---|---|---|---|\n",
       "| 5.5       | 7.5       | B         | 0.9268674 |\n",
       "\n"
      ],
      "text/plain": [
       "  x1  x2  x3 outcome  \n",
       "1 5.5 7.5 B  0.9268674"
      ]
     },
     "metadata": {},
     "output_type": "display_data"
    },
    {
     "data": {
      "image/png": "[encoded data removed]",
      "text/plain": [
       "plot without title"
      ]
     },
     "metadata": {},
     "output_type": "display_data"
    }
   ],
   "source": []
  },
  {
   "cell_type": "markdown",
   "metadata": {},
   "source": [
    "<font size=1;>\n",
    "<p style=\"text-align: left;\">\n",
    "Copyright (c) Berkeley Data Analytics Group, LLC\n",
    "<span style=\"float: right;\">\n",
    "document revised May 6, 2019\n",
    "</span>\n",
    "</p>\n",
    "</font>"
   ]
  }
 ],
 "metadata": {
  "hide_code_all_hidden": false,
  "hide_input": false,
  "kernelspec": {
   "display_name": "R",
   "language": "R",
   "name": "ir"
  },
  "language_info": {
   "codemirror_mode": "r",
   "file_extension": ".r",
   "mimetype": "text/x-r-source",
   "name": "R",
   "pygments_lexer": "r",
   "version": "3.5.3"
  },
  "toc": {
   "base_numbering": 1,
   "nav_menu": {},
   "number_sections": false,
   "sideBar": true,
   "skip_h1_title": true,
   "title_cell": "Table of Contents",
   "title_sidebar": "Contents",
   "toc_cell": false,
   "toc_position": {},
   "toc_section_display": true,
   "toc_window_display": true
  }
 },
 "nbformat": 4,
 "nbformat_minor": 2
}
