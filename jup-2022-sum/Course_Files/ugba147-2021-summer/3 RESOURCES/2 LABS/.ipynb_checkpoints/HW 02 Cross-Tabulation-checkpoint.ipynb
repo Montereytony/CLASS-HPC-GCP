{
 "cells": [
  {
   "cell_type": "markdown",
   "metadata": {},
   "source": [
    "<font size=2;>\n",
    "<p style=\"text-align: right;\">\n",
    "Exercises\n",
    "</p>\n",
    "</font>"
   ]
  },
  {
   "cell_type": "markdown",
   "metadata": {
    "hideCode": false,
    "hidePrompt": false
   },
   "source": [
    "# Cross-Tabulation"
   ]
  },
  {
   "cell_type": "markdown",
   "metadata": {
    "hide_input": true
   },
   "source": [
    "**Write and execute R code in the code cells per the instructions.  The expected results are provided for you directly following the code cells.**"
   ]
  },
  {
   "cell_type": "code",
   "execution_count": 1,
   "metadata": {},
   "outputs": [
    {
     "name": "stdout",
     "output_type": "stream",
     "text": [
      "Open code cell here for notebook apparatus."
     ]
    }
   ],
   "source": [
    "cat(\"Open code cell here for notebook apparatus.\")\n",
    "\n",
    "options(warn=-1)\n",
    "\n",
    "# Load some required functions\n",
    "library(lubridate, verbose=FALSE, warn.conflicts=FALSE, quietly=TRUE)\n",
    "library(reshape2,  verbose=FALSE, warn.conflicts=FALSE, quietly=TRUE)\n",
    "library(ggplot2,   verbose=FALSE, warn.conflicts=FALSE, quietly=TRUE)\n",
    "\n",
    "#Set some useful constants\n",
    "day_names = c(\"Sunday\", \"Monday\", \"Tuesday\", \"Wednesday\", \"Thursday\", \"Friday\", \"Saturday\")\n",
    "\n",
    "# Set some visualization constants\n",
    "restore = list(repr.plot.width=8, repr.plot.height=3)\n",
    "PALETTE = c(\"#00A9FF\", \"#F8766D\", \"#7CAE00\", \"#C77CFF\", \"#CD9600\", \"#00BE67\", \"#FF61CC\", \"#00BFC4\")\n",
    "\n",
    "# Set some visualization formatting defaults\n",
    "options(scipen=10)\n",
    "options(restore)\n",
    "update_geom_defaults(\"line\", list(size=0.5))\n",
    "theme_update(plot.title=element_text(size=10, hjust=0.5), plot.subtitle=element_text(size=8, face=\"italic\", hjust=0.5), axis.title=element_text(size=7), axis.text=element_text(size=7), strip.text=element_text(size=7), strip.text.y=element_text(angle=90), legend.title=element_blank(), legend.text=element_text(size=7))"
   ]
  },
  {
   "cell_type": "markdown",
   "metadata": {},
   "source": [
    "## Data"
   ]
  },
  {
   "cell_type": "code",
   "execution_count": 2,
   "metadata": {
    "hideCode": false,
    "hidePrompt": false,
    "hide_input": false,
    "run_control": {
     "marked": false
    }
   },
   "outputs": [
    {
     "data": {
      "text/html": [
       "<table>\n",
       "<thead><tr><th scope=col>date</th><th scope=col>time_10am</th><th scope=col>time_2pm</th><th scope=col>time_6pm</th><th scope=col>time_10pm</th></tr></thead>\n",
       "<tbody>\n",
       "\t<tr><td>2017-12-30</td><td>7         </td><td> 9        </td><td> 5        </td><td> 9        </td></tr>\n",
       "\t<tr><td>2017-12-31</td><td>9         </td><td> 7        </td><td> 9        </td><td> 8        </td></tr>\n",
       "\t<tr><td>2018-01-01</td><td>1         </td><td> 4        </td><td> 3        </td><td> 3        </td></tr>\n",
       "\t<tr><td>2018-01-02</td><td>2         </td><td> 5        </td><td> 2        </td><td> 2        </td></tr>\n",
       "\t<tr><td>2018-01-03</td><td>1         </td><td> 2        </td><td> 3        </td><td> 1        </td></tr>\n",
       "\t<tr><td>2018-01-04</td><td>4         </td><td> 5        </td><td> 3        </td><td> 5        </td></tr>\n",
       "\t<tr><td>2018-01-05</td><td>4         </td><td> 6        </td><td> 4        </td><td> 4        </td></tr>\n",
       "\t<tr><td>2018-01-06</td><td>9         </td><td>12        </td><td> 8        </td><td>11        </td></tr>\n",
       "\t<tr><td>2018-01-07</td><td>8         </td><td>12        </td><td>10        </td><td>11        </td></tr>\n",
       "\t<tr><td>2018-01-08</td><td>3         </td><td> 6        </td><td> 3        </td><td> 5        </td></tr>\n",
       "\t<tr><td>2018-01-09</td><td>1         </td><td> 2        </td><td> 2        </td><td> 1        </td></tr>\n",
       "\t<tr><td>2018-01-10</td><td>2         </td><td> 4        </td><td> 3        </td><td> 5        </td></tr>\n",
       "\t<tr><td>2018-01-11</td><td>2         </td><td> 6        </td><td> 5        </td><td> 5        </td></tr>\n",
       "\t<tr><td>2018-01-12</td><td>5         </td><td> 5        </td><td> 3        </td><td> 4        </td></tr>\n",
       "</tbody>\n",
       "</table>\n"
      ],
      "text/latex": [
       "\\begin{tabular}{r|lllll}\n",
       " date & time\\_10am & time\\_2pm & time\\_6pm & time\\_10pm\\\\\n",
       "\\hline\n",
       "\t 2017-12-30 & 7          &  9         &  5         &  9        \\\\\n",
       "\t 2017-12-31 & 9          &  7         &  9         &  8        \\\\\n",
       "\t 2018-01-01 & 1          &  4         &  3         &  3        \\\\\n",
       "\t 2018-01-02 & 2          &  5         &  2         &  2        \\\\\n",
       "\t 2018-01-03 & 1          &  2         &  3         &  1        \\\\\n",
       "\t 2018-01-04 & 4          &  5         &  3         &  5        \\\\\n",
       "\t 2018-01-05 & 4          &  6         &  4         &  4        \\\\\n",
       "\t 2018-01-06 & 9          & 12         &  8         & 11        \\\\\n",
       "\t 2018-01-07 & 8          & 12         & 10         & 11        \\\\\n",
       "\t 2018-01-08 & 3          &  6         &  3         &  5        \\\\\n",
       "\t 2018-01-09 & 1          &  2         &  2         &  1        \\\\\n",
       "\t 2018-01-10 & 2          &  4         &  3         &  5        \\\\\n",
       "\t 2018-01-11 & 2          &  6         &  5         &  5        \\\\\n",
       "\t 2018-01-12 & 5          &  5         &  3         &  4        \\\\\n",
       "\\end{tabular}\n"
      ],
      "text/markdown": [
       "\n",
       "| date | time_10am | time_2pm | time_6pm | time_10pm |\n",
       "|---|---|---|---|---|\n",
       "| 2017-12-30 | 7          |  9         |  5         |  9         |\n",
       "| 2017-12-31 | 9          |  7         |  9         |  8         |\n",
       "| 2018-01-01 | 1          |  4         |  3         |  3         |\n",
       "| 2018-01-02 | 2          |  5         |  2         |  2         |\n",
       "| 2018-01-03 | 1          |  2         |  3         |  1         |\n",
       "| 2018-01-04 | 4          |  5         |  3         |  5         |\n",
       "| 2018-01-05 | 4          |  6         |  4         |  4         |\n",
       "| 2018-01-06 | 9          | 12         |  8         | 11         |\n",
       "| 2018-01-07 | 8          | 12         | 10         | 11         |\n",
       "| 2018-01-08 | 3          |  6         |  3         |  5         |\n",
       "| 2018-01-09 | 1          |  2         |  2         |  1         |\n",
       "| 2018-01-10 | 2          |  4         |  3         |  5         |\n",
       "| 2018-01-11 | 2          |  6         |  5         |  5         |\n",
       "| 2018-01-12 | 5          |  5         |  3         |  4         |\n",
       "\n"
      ],
      "text/plain": [
       "   date       time_10am time_2pm time_6pm time_10pm\n",
       "1  2017-12-30 7          9        5        9       \n",
       "2  2017-12-31 9          7        9        8       \n",
       "3  2018-01-01 1          4        3        3       \n",
       "4  2018-01-02 2          5        2        2       \n",
       "5  2018-01-03 1          2        3        1       \n",
       "6  2018-01-04 4          5        3        5       \n",
       "7  2018-01-05 4          6        4        4       \n",
       "8  2018-01-06 9         12        8       11       \n",
       "9  2018-01-07 8         12       10       11       \n",
       "10 2018-01-08 3          6        3        5       \n",
       "11 2018-01-09 1          2        2        1       \n",
       "12 2018-01-10 2          4        3        5       \n",
       "13 2018-01-11 2          6        5        5       \n",
       "14 2018-01-12 5          5        3        4       "
      ]
     },
     "metadata": {},
     "output_type": "display_data"
    }
   ],
   "source": [
    "data = data.frame(date=ymd(c(\"2017-12-30\",\"2017-12-31\",\"2018-01-01\",\"2018-01-02\",\"2018-01-03\",\"2018-01-04\",\"2018-01-05\",\"2018-01-06\",\"2018-01-07\",\"2018-01-08\",\"2018-01-09\",\"2018-01-10\",\"2018-01-11\",\"2018-01-12\")),\n",
    "                  time_10am=c(7, 9, 1, 2, 1, 4, 4, 9,  8,  3, 1, 2, 2, 5),\n",
    "                  time_2pm= c(9, 7, 4, 5, 2, 5, 6, 12, 12, 6, 2, 4, 6, 5),\n",
    "                  time_6pm= c(5, 9, 3, 2, 3, 3, 4, 8,  10, 3, 2, 3, 5, 3),\n",
    "                  time_10pm=c(9, 8, 3, 2, 1, 5, 4, 11, 11, 5, 1, 5, 5, 4))\n",
    "data"
   ]
  },
  {
   "cell_type": "markdown",
   "metadata": {},
   "source": [
    "## Exercise 1\n",
    "\n",
    "Add a calculated variable to the dataset for day of the week.  Position it as the 2nd column.\n",
    "\n",
    "You may want to use these function(s):\n",
    "* weekdays()"
   ]
  },
  {
   "cell_type": "code",
   "execution_count": 3,
   "metadata": {
    "hide_input": false,
    "scrolled": false
   },
   "outputs": [
    {
     "data": {
      "text/html": [
       "<table>\n",
       "<thead><tr><th scope=col>date</th><th scope=col>dow</th><th scope=col>time_10am</th><th scope=col>time_2pm</th><th scope=col>time_6pm</th><th scope=col>time_10pm</th></tr></thead>\n",
       "<tbody>\n",
       "\t<tr><td>2017-12-30</td><td>Saturday  </td><td>7         </td><td> 9        </td><td> 5        </td><td> 9        </td></tr>\n",
       "\t<tr><td>2017-12-31</td><td>Sunday    </td><td>9         </td><td> 7        </td><td> 9        </td><td> 8        </td></tr>\n",
       "\t<tr><td>2018-01-01</td><td>Monday    </td><td>1         </td><td> 4        </td><td> 3        </td><td> 3        </td></tr>\n",
       "\t<tr><td>2018-01-02</td><td>Tuesday   </td><td>2         </td><td> 5        </td><td> 2        </td><td> 2        </td></tr>\n",
       "\t<tr><td>2018-01-03</td><td>Wednesday </td><td>1         </td><td> 2        </td><td> 3        </td><td> 1        </td></tr>\n",
       "\t<tr><td>2018-01-04</td><td>Thursday  </td><td>4         </td><td> 5        </td><td> 3        </td><td> 5        </td></tr>\n",
       "\t<tr><td>2018-01-05</td><td>Friday    </td><td>4         </td><td> 6        </td><td> 4        </td><td> 4        </td></tr>\n",
       "\t<tr><td>2018-01-06</td><td>Saturday  </td><td>9         </td><td>12        </td><td> 8        </td><td>11        </td></tr>\n",
       "\t<tr><td>2018-01-07</td><td>Sunday    </td><td>8         </td><td>12        </td><td>10        </td><td>11        </td></tr>\n",
       "\t<tr><td>2018-01-08</td><td>Monday    </td><td>3         </td><td> 6        </td><td> 3        </td><td> 5        </td></tr>\n",
       "\t<tr><td>2018-01-09</td><td>Tuesday   </td><td>1         </td><td> 2        </td><td> 2        </td><td> 1        </td></tr>\n",
       "\t<tr><td>2018-01-10</td><td>Wednesday </td><td>2         </td><td> 4        </td><td> 3        </td><td> 5        </td></tr>\n",
       "\t<tr><td>2018-01-11</td><td>Thursday  </td><td>2         </td><td> 6        </td><td> 5        </td><td> 5        </td></tr>\n",
       "\t<tr><td>2018-01-12</td><td>Friday    </td><td>5         </td><td> 5        </td><td> 3        </td><td> 4        </td></tr>\n",
       "</tbody>\n",
       "</table>\n"
      ],
      "text/latex": [
       "\\begin{tabular}{r|llllll}\n",
       " date & dow & time\\_10am & time\\_2pm & time\\_6pm & time\\_10pm\\\\\n",
       "\\hline\n",
       "\t 2017-12-30 & Saturday   & 7          &  9         &  5         &  9        \\\\\n",
       "\t 2017-12-31 & Sunday     & 9          &  7         &  9         &  8        \\\\\n",
       "\t 2018-01-01 & Monday     & 1          &  4         &  3         &  3        \\\\\n",
       "\t 2018-01-02 & Tuesday    & 2          &  5         &  2         &  2        \\\\\n",
       "\t 2018-01-03 & Wednesday  & 1          &  2         &  3         &  1        \\\\\n",
       "\t 2018-01-04 & Thursday   & 4          &  5         &  3         &  5        \\\\\n",
       "\t 2018-01-05 & Friday     & 4          &  6         &  4         &  4        \\\\\n",
       "\t 2018-01-06 & Saturday   & 9          & 12         &  8         & 11        \\\\\n",
       "\t 2018-01-07 & Sunday     & 8          & 12         & 10         & 11        \\\\\n",
       "\t 2018-01-08 & Monday     & 3          &  6         &  3         &  5        \\\\\n",
       "\t 2018-01-09 & Tuesday    & 1          &  2         &  2         &  1        \\\\\n",
       "\t 2018-01-10 & Wednesday  & 2          &  4         &  3         &  5        \\\\\n",
       "\t 2018-01-11 & Thursday   & 2          &  6         &  5         &  5        \\\\\n",
       "\t 2018-01-12 & Friday     & 5          &  5         &  3         &  4        \\\\\n",
       "\\end{tabular}\n"
      ],
      "text/markdown": [
       "\n",
       "| date | dow | time_10am | time_2pm | time_6pm | time_10pm |\n",
       "|---|---|---|---|---|---|\n",
       "| 2017-12-30 | Saturday   | 7          |  9         |  5         |  9         |\n",
       "| 2017-12-31 | Sunday     | 9          |  7         |  9         |  8         |\n",
       "| 2018-01-01 | Monday     | 1          |  4         |  3         |  3         |\n",
       "| 2018-01-02 | Tuesday    | 2          |  5         |  2         |  2         |\n",
       "| 2018-01-03 | Wednesday  | 1          |  2         |  3         |  1         |\n",
       "| 2018-01-04 | Thursday   | 4          |  5         |  3         |  5         |\n",
       "| 2018-01-05 | Friday     | 4          |  6         |  4         |  4         |\n",
       "| 2018-01-06 | Saturday   | 9          | 12         |  8         | 11         |\n",
       "| 2018-01-07 | Sunday     | 8          | 12         | 10         | 11         |\n",
       "| 2018-01-08 | Monday     | 3          |  6         |  3         |  5         |\n",
       "| 2018-01-09 | Tuesday    | 1          |  2         |  2         |  1         |\n",
       "| 2018-01-10 | Wednesday  | 2          |  4         |  3         |  5         |\n",
       "| 2018-01-11 | Thursday   | 2          |  6         |  5         |  5         |\n",
       "| 2018-01-12 | Friday     | 5          |  5         |  3         |  4         |\n",
       "\n"
      ],
      "text/plain": [
       "   date       dow       time_10am time_2pm time_6pm time_10pm\n",
       "1  2017-12-30 Saturday  7          9        5        9       \n",
       "2  2017-12-31 Sunday    9          7        9        8       \n",
       "3  2018-01-01 Monday    1          4        3        3       \n",
       "4  2018-01-02 Tuesday   2          5        2        2       \n",
       "5  2018-01-03 Wednesday 1          2        3        1       \n",
       "6  2018-01-04 Thursday  4          5        3        5       \n",
       "7  2018-01-05 Friday    4          6        4        4       \n",
       "8  2018-01-06 Saturday  9         12        8       11       \n",
       "9  2018-01-07 Sunday    8         12       10       11       \n",
       "10 2018-01-08 Monday    3          6        3        5       \n",
       "11 2018-01-09 Tuesday   1          2        2        1       \n",
       "12 2018-01-10 Wednesday 2          4        3        5       \n",
       "13 2018-01-11 Thursday  2          6        5        5       \n",
       "14 2018-01-12 Friday    5          5        3        4       "
      ]
     },
     "metadata": {},
     "output_type": "display_data"
    }
   ],
   "source": []
  },
  {
   "cell_type": "markdown",
   "metadata": {},
   "source": [
    "## Exercise 2\n",
    "\n",
    "Cross-tabulate the dataset.  Specify times for rows.  Specify days of the week for columns. Aggregate by mean. \n",
    "\n",
    "You may want to use these function(s):\n",
    "* melt()\n",
    "* dcast()\n",
    "* factor()\n",
    "\n",
    "Use `variable ~ factor(dow, day_names)` to ensure that column names are presented in a sensible order."
   ]
  },
  {
   "cell_type": "code",
   "execution_count": 4,
   "metadata": {
    "hide_input": true
   },
   "outputs": [
    {
     "data": {
      "text/html": [
       "<table>\n",
       "<thead><tr><th scope=col>variable</th><th scope=col>Sunday</th><th scope=col>Monday</th><th scope=col>Tuesday</th><th scope=col>Wednesday</th><th scope=col>Thursday</th><th scope=col>Friday</th><th scope=col>Saturday</th></tr></thead>\n",
       "<tbody>\n",
       "\t<tr><td>time_10am</td><td>8.5      </td><td>2        </td><td>1.5      </td><td>1.5      </td><td>3.0      </td><td>4.5      </td><td> 8.0     </td></tr>\n",
       "\t<tr><td>time_2pm </td><td>9.5      </td><td>5        </td><td>3.5      </td><td>3.0      </td><td>5.5      </td><td>5.5      </td><td>10.5     </td></tr>\n",
       "\t<tr><td>time_6pm </td><td>9.5      </td><td>3        </td><td>2.0      </td><td>3.0      </td><td>4.0      </td><td>3.5      </td><td> 6.5     </td></tr>\n",
       "\t<tr><td>time_10pm</td><td>9.5      </td><td>4        </td><td>1.5      </td><td>3.0      </td><td>5.0      </td><td>4.0      </td><td>10.0     </td></tr>\n",
       "</tbody>\n",
       "</table>\n"
      ],
      "text/latex": [
       "\\begin{tabular}{r|llllllll}\n",
       " variable & Sunday & Monday & Tuesday & Wednesday & Thursday & Friday & Saturday\\\\\n",
       "\\hline\n",
       "\t time\\_10am & 8.5         & 2           & 1.5         & 1.5         & 3.0         & 4.5         &  8.0       \\\\\n",
       "\t time\\_2pm  & 9.5         & 5           & 3.5         & 3.0         & 5.5         & 5.5         & 10.5       \\\\\n",
       "\t time\\_6pm  & 9.5         & 3           & 2.0         & 3.0         & 4.0         & 3.5         &  6.5       \\\\\n",
       "\t time\\_10pm & 9.5         & 4           & 1.5         & 3.0         & 5.0         & 4.0         & 10.0       \\\\\n",
       "\\end{tabular}\n"
      ],
      "text/markdown": [
       "\n",
       "| variable | Sunday | Monday | Tuesday | Wednesday | Thursday | Friday | Saturday |\n",
       "|---|---|---|---|---|---|---|---|\n",
       "| time_10am | 8.5       | 2         | 1.5       | 1.5       | 3.0       | 4.5       |  8.0      |\n",
       "| time_2pm  | 9.5       | 5         | 3.5       | 3.0       | 5.5       | 5.5       | 10.5      |\n",
       "| time_6pm  | 9.5       | 3         | 2.0       | 3.0       | 4.0       | 3.5       |  6.5      |\n",
       "| time_10pm | 9.5       | 4         | 1.5       | 3.0       | 5.0       | 4.0       | 10.0      |\n",
       "\n"
      ],
      "text/plain": [
       "  variable  Sunday Monday Tuesday Wednesday Thursday Friday Saturday\n",
       "1 time_10am 8.5    2      1.5     1.5       3.0      4.5     8.0    \n",
       "2 time_2pm  9.5    5      3.5     3.0       5.5      5.5    10.5    \n",
       "3 time_6pm  9.5    3      2.0     3.0       4.0      3.5     6.5    \n",
       "4 time_10pm 9.5    4      1.5     3.0       5.0      4.0    10.0    "
      ]
     },
     "metadata": {},
     "output_type": "display_data"
    }
   ],
   "source": []
  },
  {
   "cell_type": "markdown",
   "metadata": {},
   "source": [
    "## Exercise 3\n",
    "\n",
    "Show a lineplot of mean value across day of week vs. time, for all days of week.  Distinguish days of week by color.  Do  not label horizontal axis.  Label vertical axis as `mean`.  Show a legend.   \n",
    "\n",
    "You may want to use these function(s):\n",
    "* ggplot()\n",
    "* xlab()\n",
    "* ylab()\n",
    "* geom_line()\n",
    "* scale_color_manual()\n",
    "\n",
    "Use `scale_color_manual(values=PALETTE, breaks=day_names, labels=day_names)` to ensure that legend entries are presented in a sensible order.<br>\n",
    "Use `geom_line(aes(........, group=1, .......))` because the lineplot x-axis labels are non-numeric. "
   ]
  },
  {
   "cell_type": "code",
   "execution_count": 5,
   "metadata": {
    "hide_input": true
   },
   "outputs": [
    {
     "data": {
      "image/png": "[encoded data removed]",
      "text/plain": [
       "plot without title"
      ]
     },
     "metadata": {},
     "output_type": "display_data"
    }
   ],
   "source": []
  },
  {
   "cell_type": "markdown",
   "metadata": {},
   "source": [
    "<font size=1;>\n",
    "<p style=\"text-align: left;\">\n",
    "Copyright (c) Berkeley Data Analytics Group, LLC\n",
    "<span style=\"float: right;\">\n",
    "document revised May 6, 2019\n",
    "</span>\n",
    "</p>\n",
    "</font>"
   ]
  }
 ],
 "metadata": {
  "hide_code_all_hidden": false,
  "hide_input": false,
  "kernelspec": {
   "display_name": "R",
   "language": "R",
   "name": "ir"
  },
  "language_info": {
   "codemirror_mode": "r",
   "file_extension": ".r",
   "mimetype": "text/x-r-source",
   "name": "R",
   "pygments_lexer": "r",
   "version": "3.5.3"
  },
  "toc": {
   "base_numbering": 1,
   "nav_menu": {},
   "number_sections": false,
   "sideBar": true,
   "skip_h1_title": true,
   "title_cell": "Table of Contents",
   "title_sidebar": "Contents",
   "toc_cell": false,
   "toc_position": {},
   "toc_section_display": true,
   "toc_window_display": true
  }
 },
 "nbformat": 4,
 "nbformat_minor": 2
}
