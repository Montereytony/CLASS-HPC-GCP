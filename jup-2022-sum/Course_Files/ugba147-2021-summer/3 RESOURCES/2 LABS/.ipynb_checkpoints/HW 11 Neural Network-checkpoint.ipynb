{
 "cells": [
  {
   "cell_type": "markdown",
   "metadata": {},
   "source": [
    "<font size=2;>\n",
    "<p style=\"text-align: right;\">\n",
    "Exercises\n",
    "</p>\n",
    "</font>"
   ]
  },
  {
   "cell_type": "markdown",
   "metadata": {
    "hideCode": false,
    "hidePrompt": false
   },
   "source": [
    "# Classification by Neural Network"
   ]
  },
  {
   "cell_type": "markdown",
   "metadata": {},
   "source": [
    "**Write and execute R code in the code cells per the instructions.  The expected results are provided for you directly following the code cells.**"
   ]
  },
  {
   "cell_type": "code",
   "execution_count": 1,
   "metadata": {},
   "outputs": [
    {
     "name": "stdout",
     "output_type": "stream",
     "text": [
      "<< Notebook apparatus is located here. Toggle cell input display to see details. >>"
     ]
    }
   ],
   "source": [
    "cat(\"<< Notebook apparatus is located here. Toggle cell input display to see details. >>\")\n",
    "\n",
    "options(warn=-1)\n",
    "\n",
    "# Load some required functions\n",
    "library(e1071,     verbose=FALSE, warn.conflicts=FALSE, quietly=TRUE)\n",
    "library(ggplot2,   verbose=FALSE, warn.conflicts=FALSE, quietly=TRUE)\n",
    "library(neuralnet, verbose=FALSE, warn.conflicts=FALSE, quietly=TRUE)\n",
    "\n",
    "# Define some useful functions\n",
    "as.binary = function(v, s) { as.numeric(v == s) }\n",
    "as.class = function(prob, class, cutoff=NA) { f = factor(prob[,colnames(prob)==class]>=cutoff, levels=c(TRUE, FALSE), labels=c(class, setdiff(colnames(prob), class))); attr(f, \"names\") = NULL; f }\n",
    "\n",
    "# Set some visualization constants\n",
    "PALETTE = c(\"#00A9FF\", \"#F8766D\", \"#7CAE00\", \"#C77CFF\", \"#CD9600\", \"#00BE67\", \"#FF61CC\", \"#00BFC4\")\n",
    "restore = list(repr.plot.width=8, repr.plot.height=3)\n",
    "\n",
    "# Set some visualization formatting defaults\n",
    "options(restore)\n",
    "update_geom_defaults(\"point\", list(size=3, colour=\"grey50\"))\n",
    "theme_update(plot.title=element_text(size=10, hjust=0.5), plot.subtitle=element_text(size=8, face=\"italic\", hjust=0.5), axis.title=element_text(size=7), axis.text=element_text(size=7), strip.text=element_text(size=7), strip.text.y=element_text(angle=90), legend.title=element_blank(), legend.text=element_text(size=7))"
   ]
  },
  {
   "cell_type": "markdown",
   "metadata": {},
   "source": [
    "## Problem 1\n",
    "\n",
    "Consider the data and new observations below.  Construct a 1-layer (no hidden nodes) neural network model based on the data, and use it to classify the new observations, assuming cutoff for A is 0.5.  Use the perceptron method with initial weights $w0=1$, $w1=1$, $w2=1$ to find the final weights.  Note, the number of iterations necessary to stablize the weights may vary depending on how you randomize the order of observations."
   ]
  },
  {
   "cell_type": "code",
   "execution_count": 2,
   "metadata": {},
   "outputs": [
    {
     "data": {
      "text/html": [
       "<table>\n",
       "<thead><tr><th scope=col>x1</th><th scope=col>x2</th><th scope=col>class</th></tr></thead>\n",
       "<tbody>\n",
       "\t<tr><td>0</td><td>0</td><td>A</td></tr>\n",
       "\t<tr><td>1</td><td>0</td><td>B</td></tr>\n",
       "\t<tr><td>2</td><td>1</td><td>A</td></tr>\n",
       "</tbody>\n",
       "</table>\n"
      ],
      "text/latex": [
       "\\begin{tabular}{r|lll}\n",
       " x1 & x2 & class\\\\\n",
       "\\hline\n",
       "\t 0 & 0 & A\\\\\n",
       "\t 1 & 0 & B\\\\\n",
       "\t 2 & 1 & A\\\\\n",
       "\\end{tabular}\n"
      ],
      "text/markdown": [
       "\n",
       "| x1 | x2 | class |\n",
       "|---|---|---|\n",
       "| 0 | 0 | A |\n",
       "| 1 | 0 | B |\n",
       "| 2 | 1 | A |\n",
       "\n"
      ],
      "text/plain": [
       "  x1 x2 class\n",
       "1 0  0  A    \n",
       "2 1  0  B    \n",
       "3 2  1  A    "
      ]
     },
     "metadata": {},
     "output_type": "display_data"
    },
    {
     "data": {
      "text/html": [
       "<table>\n",
       "<thead><tr><th scope=col>x1</th><th scope=col>x2</th></tr></thead>\n",
       "<tbody>\n",
       "\t<tr><td>1  </td><td>0.1</td></tr>\n",
       "\t<tr><td>1  </td><td>0.6</td></tr>\n",
       "</tbody>\n",
       "</table>\n"
      ],
      "text/latex": [
       "\\begin{tabular}{r|ll}\n",
       " x1 & x2\\\\\n",
       "\\hline\n",
       "\t 1   & 0.1\\\\\n",
       "\t 1   & 0.6\\\\\n",
       "\\end{tabular}\n"
      ],
      "text/markdown": [
       "\n",
       "| x1 | x2 |\n",
       "|---|---|\n",
       "| 1   | 0.1 |\n",
       "| 1   | 0.6 |\n",
       "\n"
      ],
      "text/plain": [
       "  x1 x2 \n",
       "1 1  0.1\n",
       "2 1  0.6"
      ]
     },
     "metadata": {},
     "output_type": "display_data"
    },
    {
     "data": {
      "image/png": "[encoded data removed]",
      "text/plain": [
       "plot without title"
      ]
     },
     "metadata": {},
     "output_type": "display_data"
    }
   ],
   "source": [
    "data = data.frame(x1=c(0,1,2), x2=c(0,0,1), class=c(\"A\", \"B\", \"A\"))\n",
    "data.new = data.frame(x1=c(1,1), x2=c(0.1,0.6))\n",
    "\n",
    "data\n",
    "data.new\n",
    "ggplot(data) +\n",
    "geom_point(aes(x=x1, y=x2, color=class)) + geom_point(aes(x=x1, y=x2), data=data.new) +\n",
    "scale_color_manual(values=PALETTE)"
   ]
  },
  {
   "cell_type": "code",
   "execution_count": 3,
   "metadata": {},
   "outputs": [
    {
     "data": {
      "text/html": [
       "<table>\n",
       "<thead><tr><th scope=col>w0.current</th><th scope=col>w1.current</th><th scope=col>w2.current</th></tr></thead>\n",
       "<tbody>\n",
       "\t<tr><td>1</td><td>1</td><td>1</td></tr>\n",
       "</tbody>\n",
       "</table>\n"
      ],
      "text/latex": [
       "\\begin{tabular}{r|lll}\n",
       " w0.current & w1.current & w2.current\\\\\n",
       "\\hline\n",
       "\t 1 & 1 & 1\\\\\n",
       "\\end{tabular}\n"
      ],
      "text/markdown": [
       "\n",
       "| w0.current | w1.current | w2.current |\n",
       "|---|---|---|\n",
       "| 1 | 1 | 1 |\n",
       "\n"
      ],
      "text/plain": [
       "  w0.current w1.current w2.current\n",
       "1 1          1          1         "
      ]
     },
     "metadata": {},
     "output_type": "display_data"
    },
    {
     "data": {
      "text/html": [
       "<table>\n",
       "<thead><tr><th scope=col>iteration</th><th scope=col>x1</th><th scope=col>x2</th><th scope=col>class</th><th scope=col>class.bin</th><th scope=col>w0</th><th scope=col>w1</th><th scope=col>w2</th><th scope=col>output</th><th scope=col>error</th><th scope=col>cutoff.A</th><th scope=col>class.bin.predicted</th></tr></thead>\n",
       "<tbody>\n",
       "\t<tr><td>0  </td><td>0  </td><td>0  </td><td>A  </td><td>1  </td><td>NA </td><td>NA </td><td>NA </td><td>NA </td><td>NA </td><td>0.5</td><td>NA </td></tr>\n",
       "\t<tr><td>0  </td><td>1  </td><td>0  </td><td>B  </td><td>0  </td><td>NA </td><td>NA </td><td>NA </td><td>NA </td><td>NA </td><td>0.5</td><td>NA </td></tr>\n",
       "\t<tr><td>0  </td><td>2  </td><td>1  </td><td>A  </td><td>1  </td><td>NA </td><td>NA </td><td>NA </td><td>NA </td><td>NA </td><td>0.5</td><td>NA </td></tr>\n",
       "</tbody>\n",
       "</table>\n"
      ],
      "text/latex": [
       "\\begin{tabular}{r|llllllllllll}\n",
       " iteration & x1 & x2 & class & class.bin & w0 & w1 & w2 & output & error & cutoff.A & class.bin.predicted\\\\\n",
       "\\hline\n",
       "\t 0   & 0   & 0   & A   & 1   & NA  & NA  & NA  & NA  & NA  & 0.5 & NA \\\\\n",
       "\t 0   & 1   & 0   & B   & 0   & NA  & NA  & NA  & NA  & NA  & 0.5 & NA \\\\\n",
       "\t 0   & 2   & 1   & A   & 1   & NA  & NA  & NA  & NA  & NA  & 0.5 & NA \\\\\n",
       "\\end{tabular}\n"
      ],
      "text/markdown": [
       "\n",
       "| iteration | x1 | x2 | class | class.bin | w0 | w1 | w2 | output | error | cutoff.A | class.bin.predicted |\n",
       "|---|---|---|---|---|---|---|---|---|---|---|---|\n",
       "| 0   | 0   | 0   | A   | 1   | NA  | NA  | NA  | NA  | NA  | 0.5 | NA  |\n",
       "| 0   | 1   | 0   | B   | 0   | NA  | NA  | NA  | NA  | NA  | 0.5 | NA  |\n",
       "| 0   | 2   | 1   | A   | 1   | NA  | NA  | NA  | NA  | NA  | 0.5 | NA  |\n",
       "\n"
      ],
      "text/plain": [
       "  iteration x1 x2 class class.bin w0 w1 w2 output error cutoff.A\n",
       "1 0         0  0  A     1         NA NA NA NA     NA    0.5     \n",
       "2 0         1  0  B     0         NA NA NA NA     NA    0.5     \n",
       "3 0         2  1  A     1         NA NA NA NA     NA    0.5     \n",
       "  class.bin.predicted\n",
       "1 NA                 \n",
       "2 NA                 \n",
       "3 NA                 "
      ]
     },
     "metadata": {},
     "output_type": "display_data"
    }
   ],
   "source": []
  },
  {
   "cell_type": "code",
   "execution_count": 7,
   "metadata": {},
   "outputs": [
    {
     "data": {
      "text/html": [
       "<table>\n",
       "<thead><tr><th></th><th scope=col>iteration</th><th scope=col>x1</th><th scope=col>x2</th><th scope=col>class</th><th scope=col>class.bin</th><th scope=col>w0</th><th scope=col>w1</th><th scope=col>w2</th><th scope=col>output</th><th scope=col>error</th><th scope=col>cutoff.A</th><th scope=col>class.bin.predicted</th></tr></thead>\n",
       "<tbody>\n",
       "\t<tr><th scope=row>1</th><td>4         </td><td>0         </td><td>0         </td><td>A         </td><td>1         </td><td>0.1681693 </td><td>-0.4401178</td><td>1         </td><td>0.5419435 </td><td> 0.4580565</td><td>0.5       </td><td>1         </td></tr>\n",
       "\t<tr><th scope=row>3</th><td>4         </td><td>2         </td><td>1         </td><td>A         </td><td>1         </td><td>0.1681693 </td><td>-0.4401178</td><td>1         </td><td>0.5714902 </td><td> 0.4285098</td><td>0.5       </td><td>1         </td></tr>\n",
       "\t<tr><th scope=row>2</th><td>4         </td><td>1         </td><td>0         </td><td>B         </td><td>0         </td><td>0.1681693 </td><td>-0.4401178</td><td>1         </td><td>0.4324288 </td><td>-0.4324288</td><td>0.5       </td><td>0         </td></tr>\n",
       "</tbody>\n",
       "</table>\n"
      ],
      "text/latex": [
       "\\begin{tabular}{r|llllllllllll}\n",
       "  & iteration & x1 & x2 & class & class.bin & w0 & w1 & w2 & output & error & cutoff.A & class.bin.predicted\\\\\n",
       "\\hline\n",
       "\t1 & 4          & 0          & 0          & A          & 1          & 0.1681693  & -0.4401178 & 1          & 0.5419435  &  0.4580565 & 0.5        & 1         \\\\\n",
       "\t3 & 4          & 2          & 1          & A          & 1          & 0.1681693  & -0.4401178 & 1          & 0.5714902  &  0.4285098 & 0.5        & 1         \\\\\n",
       "\t2 & 4          & 1          & 0          & B          & 0          & 0.1681693  & -0.4401178 & 1          & 0.4324288  & -0.4324288 & 0.5        & 0         \\\\\n",
       "\\end{tabular}\n"
      ],
      "text/markdown": [
       "\n",
       "| <!--/--> | iteration | x1 | x2 | class | class.bin | w0 | w1 | w2 | output | error | cutoff.A | class.bin.predicted |\n",
       "|---|---|---|---|---|---|---|---|---|---|---|---|---|\n",
       "| 1 | 4          | 0          | 0          | A          | 1          | 0.1681693  | -0.4401178 | 1          | 0.5419435  |  0.4580565 | 0.5        | 1          |\n",
       "| 3 | 4          | 2          | 1          | A          | 1          | 0.1681693  | -0.4401178 | 1          | 0.5714902  |  0.4285098 | 0.5        | 1          |\n",
       "| 2 | 4          | 1          | 0          | B          | 0          | 0.1681693  | -0.4401178 | 1          | 0.4324288  | -0.4324288 | 0.5        | 0          |\n",
       "\n"
      ],
      "text/plain": [
       "  iteration x1 x2 class class.bin w0        w1         w2 output    error     \n",
       "1 4         0  0  A     1         0.1681693 -0.4401178 1  0.5419435  0.4580565\n",
       "3 4         2  1  A     1         0.1681693 -0.4401178 1  0.5714902  0.4285098\n",
       "2 4         1  0  B     0         0.1681693 -0.4401178 1  0.4324288 -0.4324288\n",
       "  cutoff.A class.bin.predicted\n",
       "1 0.5      1                  \n",
       "3 0.5      1                  \n",
       "2 0.5      0                  "
      ]
     },
     "metadata": {},
     "output_type": "display_data"
    }
   ],
   "source": []
  },
  {
   "cell_type": "code",
   "execution_count": 8,
   "metadata": {},
   "outputs": [
    {
     "data": {
      "text/html": [
       "<table>\n",
       "<thead><tr><th scope=col>w0</th><th scope=col>w1</th><th scope=col>w2</th></tr></thead>\n",
       "<tbody>\n",
       "\t<tr><td>0.1681693 </td><td>-0.4401178</td><td>1         </td></tr>\n",
       "</tbody>\n",
       "</table>\n"
      ],
      "text/latex": [
       "\\begin{tabular}{r|lll}\n",
       " w0 & w1 & w2\\\\\n",
       "\\hline\n",
       "\t 0.1681693  & -0.4401178 & 1         \\\\\n",
       "\\end{tabular}\n"
      ],
      "text/markdown": [
       "\n",
       "| w0 | w1 | w2 |\n",
       "|---|---|---|\n",
       "| 0.1681693  | -0.4401178 | 1          |\n",
       "\n"
      ],
      "text/plain": [
       "  w0        w1         w2\n",
       "1 0.1681693 -0.4401178 1 "
      ]
     },
     "metadata": {},
     "output_type": "display_data"
    }
   ],
   "source": []
  },
  {
   "cell_type": "code",
   "execution_count": 9,
   "metadata": {},
   "outputs": [
    {
     "data": {
      "text/html": [
       "<table>\n",
       "<thead><tr><th scope=col>x1</th><th scope=col>x2</th><th scope=col>output</th><th scope=col>cutoff.A</th><th scope=col>class.predicted</th></tr></thead>\n",
       "<tbody>\n",
       "\t<tr><td>1        </td><td>0.1      </td><td>0.4571185</td><td>0.5      </td><td>B        </td></tr>\n",
       "\t<tr><td>1        </td><td>0.6      </td><td>0.5812852</td><td>0.5      </td><td>A        </td></tr>\n",
       "</tbody>\n",
       "</table>\n"
      ],
      "text/latex": [
       "\\begin{tabular}{r|lllll}\n",
       " x1 & x2 & output & cutoff.A & class.predicted\\\\\n",
       "\\hline\n",
       "\t 1         & 0.1       & 0.4571185 & 0.5       & B        \\\\\n",
       "\t 1         & 0.6       & 0.5812852 & 0.5       & A        \\\\\n",
       "\\end{tabular}\n"
      ],
      "text/markdown": [
       "\n",
       "| x1 | x2 | output | cutoff.A | class.predicted |\n",
       "|---|---|---|---|---|\n",
       "| 1         | 0.1       | 0.4571185 | 0.5       | B         |\n",
       "| 1         | 0.6       | 0.5812852 | 0.5       | A         |\n",
       "\n"
      ],
      "text/plain": [
       "  x1 x2  output    cutoff.A class.predicted\n",
       "1 1  0.1 0.4571185 0.5      B              \n",
       "2 1  0.6 0.5812852 0.5      A              "
      ]
     },
     "metadata": {},
     "output_type": "display_data"
    }
   ],
   "source": []
  },
  {
   "cell_type": "markdown",
   "metadata": {},
   "source": [
    "## Problem 2\n",
    "\n",
    "Consider the data and new observations below."
   ]
  },
  {
   "cell_type": "code",
   "execution_count": 10,
   "metadata": {},
   "outputs": [
    {
     "data": {
      "text/html": [
       "<table>\n",
       "<thead><tr><th scope=col>x1</th><th scope=col>x2</th><th scope=col>class</th></tr></thead>\n",
       "<tbody>\n",
       "\t<tr><td>1</td><td>9</td><td>A</td></tr>\n",
       "\t<tr><td>2</td><td>7</td><td>B</td></tr>\n",
       "\t<tr><td>3</td><td>6</td><td>A</td></tr>\n",
       "\t<tr><td>2</td><td>5</td><td>B</td></tr>\n",
       "\t<tr><td>1</td><td>6</td><td>A</td></tr>\n",
       "\t<tr><td>4</td><td>3</td><td>B</td></tr>\n",
       "\t<tr><td>6</td><td>2</td><td>A</td></tr>\n",
       "\t<tr><td>5</td><td>1</td><td>B</td></tr>\n",
       "</tbody>\n",
       "</table>\n"
      ],
      "text/latex": [
       "\\begin{tabular}{r|lll}\n",
       " x1 & x2 & class\\\\\n",
       "\\hline\n",
       "\t 1 & 9 & A\\\\\n",
       "\t 2 & 7 & B\\\\\n",
       "\t 3 & 6 & A\\\\\n",
       "\t 2 & 5 & B\\\\\n",
       "\t 1 & 6 & A\\\\\n",
       "\t 4 & 3 & B\\\\\n",
       "\t 6 & 2 & A\\\\\n",
       "\t 5 & 1 & B\\\\\n",
       "\\end{tabular}\n"
      ],
      "text/markdown": [
       "\n",
       "| x1 | x2 | class |\n",
       "|---|---|---|\n",
       "| 1 | 9 | A |\n",
       "| 2 | 7 | B |\n",
       "| 3 | 6 | A |\n",
       "| 2 | 5 | B |\n",
       "| 1 | 6 | A |\n",
       "| 4 | 3 | B |\n",
       "| 6 | 2 | A |\n",
       "| 5 | 1 | B |\n",
       "\n"
      ],
      "text/plain": [
       "  x1 x2 class\n",
       "1 1  9  A    \n",
       "2 2  7  B    \n",
       "3 3  6  A    \n",
       "4 2  5  B    \n",
       "5 1  6  A    \n",
       "6 4  3  B    \n",
       "7 6  2  A    \n",
       "8 5  1  B    "
      ]
     },
     "metadata": {},
     "output_type": "display_data"
    },
    {
     "data": {
      "text/html": [
       "<table>\n",
       "<thead><tr><th scope=col>x1</th><th scope=col>x2</th></tr></thead>\n",
       "<tbody>\n",
       "\t<tr><td>1</td><td>7</td></tr>\n",
       "\t<tr><td>5</td><td>2</td></tr>\n",
       "\t<tr><td>2</td><td>6</td></tr>\n",
       "\t<tr><td>6</td><td>3</td></tr>\n",
       "</tbody>\n",
       "</table>\n"
      ],
      "text/latex": [
       "\\begin{tabular}{r|ll}\n",
       " x1 & x2\\\\\n",
       "\\hline\n",
       "\t 1 & 7\\\\\n",
       "\t 5 & 2\\\\\n",
       "\t 2 & 6\\\\\n",
       "\t 6 & 3\\\\\n",
       "\\end{tabular}\n"
      ],
      "text/markdown": [
       "\n",
       "| x1 | x2 |\n",
       "|---|---|\n",
       "| 1 | 7 |\n",
       "| 5 | 2 |\n",
       "| 2 | 6 |\n",
       "| 6 | 3 |\n",
       "\n"
      ],
      "text/plain": [
       "  x1 x2\n",
       "1 1  7 \n",
       "2 5  2 \n",
       "3 2  6 \n",
       "4 6  3 "
      ]
     },
     "metadata": {},
     "output_type": "display_data"
    },
    {
     "data": {
      "image/png": "[encoded data removed]",
      "text/plain": [
       "plot without title"
      ]
     },
     "metadata": {},
     "output_type": "display_data"
    }
   ],
   "source": [
    "data = data.frame(x1=c(1,2,3,2,1,4,6,5), x2=c(9,7,6,5,6,3,2,1), class=c(\"A\", \"B\", \"A\", \"B\", \"A\", \"B\", \"A\", \"B\"))\n",
    "data.new = data.frame(x1=c(1,5,2,6), x2=c(7,2,6,3))\n",
    "\n",
    "data\n",
    "data.new\n",
    "ggplot(data) +\n",
    "geom_point(aes(x=x1, y=x2, color=class)) + geom_point(aes(x=x1, y=x2), data=data.new) +\n",
    "scale_color_manual(values=PALETTE)"
   ]
  },
  {
   "cell_type": "markdown",
   "metadata": {},
   "source": [
    "Here is a 2-layer (1 hidden layer) neural network model constructed from the data using a sigmoid activation function. "
   ]
  },
  {
   "cell_type": "code",
   "execution_count": 11,
   "metadata": {},
   "outputs": [
    {
     "data": {
      "text/html": [
       "<ol>\n",
       "\t<li><table>\n",
       "<tbody>\n",
       "\t<tr><td>-0.8403316</td><td> 5.1839799</td></tr>\n",
       "\t<tr><td> 6.5462660</td><td> 0.6473854</td></tr>\n",
       "\t<tr><td>-1.1722088</td><td>-8.3179560</td></tr>\n",
       "</tbody>\n",
       "</table>\n",
       "</li>\n",
       "\t<li><table>\n",
       "<tbody>\n",
       "\t<tr><td> 2.527361</td></tr>\n",
       "\t<tr><td>-2.909387</td></tr>\n",
       "\t<tr><td>-6.784160</td></tr>\n",
       "</tbody>\n",
       "</table>\n",
       "</li>\n",
       "</ol>\n"
      ],
      "text/latex": [
       "\\begin{enumerate}\n",
       "\\item \\begin{tabular}{ll}\n",
       "\t -0.8403316 &  5.1839799\\\\\n",
       "\t  6.5462660 &  0.6473854\\\\\n",
       "\t -1.1722088 & -8.3179560\\\\\n",
       "\\end{tabular}\n",
       "\n",
       "\\item \\begin{tabular}{l}\n",
       "\t  2.527361\\\\\n",
       "\t -2.909387\\\\\n",
       "\t -6.784160\\\\\n",
       "\\end{tabular}\n",
       "\n",
       "\\end{enumerate}\n"
      ],
      "text/markdown": [
       "1. \n",
       "| -0.8403316 |  5.1839799 |\n",
       "|  6.5462660 |  0.6473854 |\n",
       "| -1.1722088 | -8.3179560 |\n",
       "\n",
       "\n",
       "2. \n",
       "|  2.527361 |\n",
       "| -2.909387 |\n",
       "| -6.784160 |\n",
       "\n",
       "\n",
       "\n",
       "\n"
      ],
      "text/plain": [
       "[[1]]\n",
       "           [,1]       [,2]\n",
       "[1,] -0.8403316  5.1839799\n",
       "[2,]  6.5462660  0.6473854\n",
       "[3,] -1.1722088 -8.3179560\n",
       "\n",
       "[[2]]\n",
       "          [,1]\n",
       "[1,]  2.527361\n",
       "[2,] -2.909387\n",
       "[3,] -6.784160\n"
      ]
     },
     "metadata": {},
     "output_type": "display_data"
    },
    {
     "data": {
      "image/png": "[encoded data removed]",
      "text/plain": [
       "plot without title"
      ]
     },
     "metadata": {},
     "output_type": "display_data"
    }
   ],
   "source": [
    "set.seed(12345)\n",
    "\n",
    "data$class.bin = as.binary(data$class, \"A\")\n",
    "model = neuralnet(class.bin ~ x1+x2, data, hidden=2, algorithm=\"rprop+\", act.fct=\"logistic\", linear.output=FALSE, rep=1)\n",
    "w = model$weights[[1]]\n",
    "\n",
    "w\n",
    "options(repr.plot.width=4, repr.plot.height=4)\n",
    "plot(model, rep=1, fill=\"gray\", show.weights=TRUE, information=FALSE, cex=0.7, lwd=0.5)\n",
    "options(restore)"
   ]
  },
  {
   "cell_type": "markdown",
   "metadata": {},
   "source": [
    "Here is how to access the weights. "
   ]
  },
  {
   "cell_type": "code",
   "execution_count": 12,
   "metadata": {},
   "outputs": [
    {
     "data": {
      "text/html": [
       "-0.840331570351031"
      ],
      "text/latex": [
       "-0.840331570351031"
      ],
      "text/markdown": [
       "-0.840331570351031"
      ],
      "text/plain": [
       "[1] -0.8403316"
      ]
     },
     "metadata": {},
     "output_type": "display_data"
    },
    {
     "data": {
      "text/html": [
       "6.54626601750952"
      ],
      "text/latex": [
       "6.54626601750952"
      ],
      "text/markdown": [
       "6.54626601750952"
      ],
      "text/plain": [
       "[1] 6.546266"
      ]
     },
     "metadata": {},
     "output_type": "display_data"
    },
    {
     "data": {
      "text/html": [
       "-1.17220875412069"
      ],
      "text/latex": [
       "-1.17220875412069"
      ],
      "text/markdown": [
       "-1.17220875412069"
      ],
      "text/plain": [
       "[1] -1.172209"
      ]
     },
     "metadata": {},
     "output_type": "display_data"
    },
    {
     "data": {
      "text/html": [
       "5.18397994653724"
      ],
      "text/latex": [
       "5.18397994653724"
      ],
      "text/markdown": [
       "5.18397994653724"
      ],
      "text/plain": [
       "[1] 5.18398"
      ]
     },
     "metadata": {},
     "output_type": "display_data"
    },
    {
     "data": {
      "text/html": [
       "0.647385375370912"
      ],
      "text/latex": [
       "0.647385375370912"
      ],
      "text/markdown": [
       "0.647385375370912"
      ],
      "text/plain": [
       "[1] 0.6473854"
      ]
     },
     "metadata": {},
     "output_type": "display_data"
    },
    {
     "data": {
      "text/html": [
       "-8.31795596770372"
      ],
      "text/latex": [
       "-8.31795596770372"
      ],
      "text/markdown": [
       "-8.31795596770372"
      ],
      "text/plain": [
       "[1] -8.317956"
      ]
     },
     "metadata": {},
     "output_type": "display_data"
    },
    {
     "data": {
      "text/html": [
       "2.52736079445834"
      ],
      "text/latex": [
       "2.52736079445834"
      ],
      "text/markdown": [
       "2.52736079445834"
      ],
      "text/plain": [
       "[1] 2.527361"
      ]
     },
     "metadata": {},
     "output_type": "display_data"
    },
    {
     "data": {
      "text/html": [
       "-2.90938736180324"
      ],
      "text/latex": [
       "-2.90938736180324"
      ],
      "text/markdown": [
       "-2.90938736180324"
      ],
      "text/plain": [
       "[1] -2.909387"
      ]
     },
     "metadata": {},
     "output_type": "display_data"
    },
    {
     "data": {
      "text/html": [
       "-6.78415974394336"
      ],
      "text/latex": [
       "-6.78415974394336"
      ],
      "text/markdown": [
       "-6.78415974394336"
      ],
      "text/plain": [
       "[1] -6.78416"
      ]
     },
     "metadata": {},
     "output_type": "display_data"
    }
   ],
   "source": [
    "w[[1]][1,1]\n",
    "w[[1]][2,1]\n",
    "w[[1]][3,1]\n",
    "w[[1]][1,2]\n",
    "w[[1]][2,2]\n",
    "w[[1]][3,2]\n",
    "w[[2]][1,1]\n",
    "w[[2]][2,1]\n",
    "w[[2]][3,1]"
   ]
  },
  {
   "cell_type": "markdown",
   "metadata": {},
   "source": [
    "Use the neural network model to classify the new observations, assuming cutoff for A is 0.5.  Show the outputs of the hidden nodes and the output node.  Note, you will have to compute the output for each node separately based on relevant inputs, weights, and activation function. "
   ]
  },
  {
   "cell_type": "code",
   "execution_count": 13,
   "metadata": {},
   "outputs": [
    {
     "data": {
      "text/html": [
       "<table>\n",
       "<thead><tr><th scope=col>x1</th><th scope=col>x2</th><th scope=col>h1</th><th scope=col>h2</th><th scope=col>out</th><th scope=col>class.predicted</th></tr></thead>\n",
       "<tbody>\n",
       "\t<tr><td>1           </td><td>7           </td><td>0.07589136  </td><td>1.759678e-23</td><td>0.9094192   </td><td>A           </td></tr>\n",
       "\t<tr><td>5           </td><td>2           </td><td>1.00000000  </td><td>2.704899e-04</td><td>0.4051959   </td><td>B           </td></tr>\n",
       "\t<tr><td>2           </td><td>6           </td><td>0.99461612  </td><td>1.377309e-19</td><td>0.4094202   </td><td>B           </td></tr>\n",
       "\t<tr><td>6           </td><td>3           </td><td>1.00000000  </td><td>1.261775e-07</td><td>0.4056380   </td><td>B           </td></tr>\n",
       "</tbody>\n",
       "</table>\n"
      ],
      "text/latex": [
       "\\begin{tabular}{r|llllll}\n",
       " x1 & x2 & h1 & h2 & out & class.predicted\\\\\n",
       "\\hline\n",
       "\t 1            & 7            & 0.07589136   & 1.759678e-23 & 0.9094192    & A           \\\\\n",
       "\t 5            & 2            & 1.00000000   & 2.704899e-04 & 0.4051959    & B           \\\\\n",
       "\t 2            & 6            & 0.99461612   & 1.377309e-19 & 0.4094202    & B           \\\\\n",
       "\t 6            & 3            & 1.00000000   & 1.261775e-07 & 0.4056380    & B           \\\\\n",
       "\\end{tabular}\n"
      ],
      "text/markdown": [
       "\n",
       "| x1 | x2 | h1 | h2 | out | class.predicted |\n",
       "|---|---|---|---|---|---|\n",
       "| 1            | 7            | 0.07589136   | 1.759678e-23 | 0.9094192    | A            |\n",
       "| 5            | 2            | 1.00000000   | 2.704899e-04 | 0.4051959    | B            |\n",
       "| 2            | 6            | 0.99461612   | 1.377309e-19 | 0.4094202    | B            |\n",
       "| 6            | 3            | 1.00000000   | 1.261775e-07 | 0.4056380    | B            |\n",
       "\n"
      ],
      "text/plain": [
       "  x1 x2 h1         h2           out       class.predicted\n",
       "1 1  7  0.07589136 1.759678e-23 0.9094192 A              \n",
       "2 5  2  1.00000000 2.704899e-04 0.4051959 B              \n",
       "3 2  6  0.99461612 1.377309e-19 0.4094202 B              \n",
       "4 6  3  1.00000000 1.261775e-07 0.4056380 B              "
      ]
     },
     "metadata": {},
     "output_type": "display_data"
    }
   ],
   "source": []
  },
  {
   "cell_type": "markdown",
   "metadata": {},
   "source": [
    "<font size=1;>\n",
    "<p style=\"text-align: left;\">\n",
    "Copyright (c) Berkeley Data Analytics Group, LLC\n",
    "<span style=\"float: right;\">\n",
    "document revised May 6, 2019\n",
    "</span>\n",
    "</p>\n",
    "</font>"
   ]
  }
 ],
 "metadata": {
  "hide_code_all_hidden": false,
  "hide_input": false,
  "kernelspec": {
   "display_name": "R",
   "language": "R",
   "name": "ir"
  },
  "language_info": {
   "codemirror_mode": "r",
   "file_extension": ".r",
   "mimetype": "text/x-r-source",
   "name": "R",
   "pygments_lexer": "r",
   "version": "3.5.3"
  },
  "toc": {
   "base_numbering": 1,
   "nav_menu": {},
   "number_sections": false,
   "sideBar": true,
   "skip_h1_title": true,
   "title_cell": "Table of Contents",
   "title_sidebar": "Contents",
   "toc_cell": false,
   "toc_position": {},
   "toc_section_display": true,
   "toc_window_display": true
  }
 },
 "nbformat": 4,
 "nbformat_minor": 2
}
