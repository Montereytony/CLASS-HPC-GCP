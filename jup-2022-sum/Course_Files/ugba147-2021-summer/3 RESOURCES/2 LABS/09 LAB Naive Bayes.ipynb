{
 "cells": [
  {
   "cell_type": "markdown",
   "metadata": {
    "hideCode": false,
    "hidePrompt": false
   },
   "source": [
    "# Classification by Naive Bayes"
   ]
  },
  {
   "cell_type": "markdown",
   "metadata": {},
   "source": [
    "**Write and execute R code in the code cells per the instructions.  The expected results are provided for you directly following the code cells.**"
   ]
  },
  {
   "cell_type": "code",
   "execution_count": 34,
   "metadata": {},
   "outputs": [
    {
     "data": {
      "text/html": [
       "<p style=\"text-align:center; font-size:10px;\">\n",
       ".................................................... start of document ....................................................\n",
       "</p>"
      ]
     },
     "metadata": {},
     "output_type": "display_data"
    }
   ],
   "source": [
    "f = \"setup.R\"; for (i in 1:10) { if (file.exists(f)) break else f = paste0(\"../\", f) }; source(f)"
   ]
  },
  {
   "cell_type": "markdown",
   "metadata": {},
   "source": [
    "## Data & New Observation"
   ]
  },
  {
   "cell_type": "code",
   "execution_count": 35,
   "metadata": {
    "hideCode": false,
    "hidePrompt": false,
    "run_control": {
     "marked": false
    }
   },
   "outputs": [
    {
     "data": {
      "text/html": [
       "<table><tr><td style=\"background-color:white; vertical-align:top; padding-right:40px;\"><table>\n",
       "<caption><center><font color=\"black\"><b>data</b></font></center></caption>\n",
       " <thead>\n",
       "  <tr>\n",
       "   <th style=\"text-align:right;background-color: #FFFFFF !important;\"> x1 </th>\n",
       "   <th style=\"text-align:right;background-color: #FFFFFF !important;\"> x2 </th>\n",
       "   <th style=\"text-align:right;background-color: #FFFFFF !important;\"> class </th>\n",
       "  </tr>\n",
       " </thead>\n",
       "<tbody>\n",
       "  <tr>\n",
       "   <td style=\"text-align:right;\"> D </td>\n",
       "   <td style=\"text-align:right;\"> 2.5 </td>\n",
       "   <td style=\"text-align:right;\"> A </td>\n",
       "  </tr>\n",
       "  <tr>\n",
       "   <td style=\"text-align:right;\"> E </td>\n",
       "   <td style=\"text-align:right;\"> 2.3 </td>\n",
       "   <td style=\"text-align:right;\"> A </td>\n",
       "  </tr>\n",
       "  <tr>\n",
       "   <td style=\"text-align:right;\"> E </td>\n",
       "   <td style=\"text-align:right;\"> 9.1 </td>\n",
       "   <td style=\"text-align:right;\"> B </td>\n",
       "  </tr>\n",
       "  <tr>\n",
       "   <td style=\"text-align:right;\"> F </td>\n",
       "   <td style=\"text-align:right;\"> 6.5 </td>\n",
       "   <td style=\"text-align:right;\"> A </td>\n",
       "  </tr>\n",
       "  <tr>\n",
       "   <td style=\"text-align:right;\"> F </td>\n",
       "   <td style=\"text-align:right;\"> 8.5 </td>\n",
       "   <td style=\"text-align:right;\"> B </td>\n",
       "  </tr>\n",
       "  <tr>\n",
       "   <td style=\"text-align:right;\"> E </td>\n",
       "   <td style=\"text-align:right;\"> 4.0 </td>\n",
       "   <td style=\"text-align:right;\"> A </td>\n",
       "  </tr>\n",
       "</tbody>\n",
       "</table></td><td style=\"background-color:white; vertical-align:top;\"><table>\n",
       "<caption><center><font color=\"black\"><b>new</b></font></center></caption>\n",
       " <thead>\n",
       "  <tr>\n",
       "   <th style=\"text-align:right;background-color: #FFFFFF !important;\"> x1 </th>\n",
       "   <th style=\"text-align:right;background-color: #FFFFFF !important;\"> x2 </th>\n",
       "  </tr>\n",
       " </thead>\n",
       "<tbody>\n",
       "  <tr>\n",
       "   <td style=\"text-align:right;\"> E </td>\n",
       "   <td style=\"text-align:right;\"> 8.07 </td>\n",
       "  </tr>\n",
       "</tbody>\n",
       "</table></td></tr></table>"
      ]
     },
     "metadata": {},
     "output_type": "display_data"
    },
    {
     "data": {
      "image/png": "[encoded data removed]",
      "text/plain": [
       "plot without title"
      ]
     },
     "metadata": {},
     "output_type": "display_data"
    }
   ],
   "source": [
    "data = data.frame(x1=factor(c(\"D\",\"E\",\"E\",\"F\",\"F\", \"E\")), x2=c(2.5, 2.3, 9.1, 6.5, 8.5, 4.0), class=factor(c(\"A\", \"A\", \"B\", \"A\",  \"B\", \"A\")))\n",
    "new = data.frame(x1=factor(\"E\", levels=c(\"D\",\"E\",\"F\")), x2=8.07)\n",
    "layout(fmt(data), fmt(new))\n",
    "ggplot(data) + geom_point(aes(x=x1, y=x2, color=class)) + geom_point(aes(x=new$x1, y=new$x2)) + scale_color_manual(values=PALETTE[1:2])"
   ]
  },
  {
   "cell_type": "markdown",
   "metadata": {
    "hide_input": true
   },
   "source": [
    "## Problem 1\n",
    "\n",
    "Naive Bayes, Categorical & Continuous Variables, Likelihoods by Frequency Table & KDE\n"
   ]
  },
  {
   "cell_type": "markdown",
   "metadata": {},
   "source": [
    "### Problem 1 | part a\n",
    "\n",
    "Partition the data by class."
   ]
  },
  {
   "cell_type": "code",
   "execution_count": 36,
   "metadata": {},
   "outputs": [
    {
     "data": {
      "text/html": [
       "<table>\n",
       "<thead><tr><th></th><th scope=col>x1</th><th scope=col>x2</th><th scope=col>class</th></tr></thead>\n",
       "<tbody>\n",
       "\t<tr><th scope=row>1</th><td>D  </td><td>2.5</td><td>A  </td></tr>\n",
       "\t<tr><th scope=row>2</th><td>E  </td><td>2.3</td><td>A  </td></tr>\n",
       "\t<tr><th scope=row>4</th><td>F  </td><td>6.5</td><td>A  </td></tr>\n",
       "\t<tr><th scope=row>6</th><td>E  </td><td>4.0</td><td>A  </td></tr>\n",
       "</tbody>\n",
       "</table>\n"
      ],
      "text/latex": [
       "\\begin{tabular}{r|lll}\n",
       "  & x1 & x2 & class\\\\\n",
       "\\hline\n",
       "\t1 & D   & 2.5 & A  \\\\\n",
       "\t2 & E   & 2.3 & A  \\\\\n",
       "\t4 & F   & 6.5 & A  \\\\\n",
       "\t6 & E   & 4.0 & A  \\\\\n",
       "\\end{tabular}\n"
      ],
      "text/markdown": [
       "\n",
       "| <!--/--> | x1 | x2 | class |\n",
       "|---|---|---|---|\n",
       "| 1 | D   | 2.5 | A   |\n",
       "| 2 | E   | 2.3 | A   |\n",
       "| 4 | F   | 6.5 | A   |\n",
       "| 6 | E   | 4.0 | A   |\n",
       "\n"
      ],
      "text/plain": [
       "  x1 x2  class\n",
       "1 D  2.5 A    \n",
       "2 E  2.3 A    \n",
       "4 F  6.5 A    \n",
       "6 E  4.0 A    "
      ]
     },
     "metadata": {},
     "output_type": "display_data"
    },
    {
     "data": {
      "text/html": [
       "<table>\n",
       "<thead><tr><th></th><th scope=col>x1</th><th scope=col>x2</th><th scope=col>class</th></tr></thead>\n",
       "<tbody>\n",
       "\t<tr><th scope=row>3</th><td>E  </td><td>9.1</td><td>B  </td></tr>\n",
       "\t<tr><th scope=row>5</th><td>F  </td><td>8.5</td><td>B  </td></tr>\n",
       "</tbody>\n",
       "</table>\n"
      ],
      "text/latex": [
       "\\begin{tabular}{r|lll}\n",
       "  & x1 & x2 & class\\\\\n",
       "\\hline\n",
       "\t3 & E   & 9.1 & B  \\\\\n",
       "\t5 & F   & 8.5 & B  \\\\\n",
       "\\end{tabular}\n"
      ],
      "text/markdown": [
       "\n",
       "| <!--/--> | x1 | x2 | class |\n",
       "|---|---|---|---|\n",
       "| 3 | E   | 9.1 | B   |\n",
       "| 5 | F   | 8.5 | B   |\n",
       "\n"
      ],
      "text/plain": [
       "  x1 x2  class\n",
       "3 E  9.1 B    \n",
       "5 F  8.5 B    "
      ]
     },
     "metadata": {},
     "output_type": "display_data"
    }
   ],
   "source": []
  },
  {
   "cell_type": "markdown",
   "metadata": {},
   "source": [
    "### Problem 1 | part b\n",
    "\n",
    "Determine the frequency and probability of each x1 value, assuming that the observation is in class A, adjusted by laplace smoothing.\n",
    "\n",
    "You may want to use these function(s):\n",
    "* table()\n",
    "* names()\n",
    "* as.numeric()\n",
    "* geom_col()\n",
    "\n",
    "Recall that `table(...)` produces a frequency table, `names(...)` produces a vector of the names of that frequency table, and `as.numeric(...)` produces a vector of frequency values of that frequency table."
   ]
  },
  {
   "cell_type": "code",
   "execution_count": 12,
   "metadata": {},
   "outputs": [
    {
     "data": {
      "text/html": [
       "<table>\n",
       "<thead><tr><th scope=col>value</th><th scope=col>freq</th><th scope=col>likelihood</th></tr></thead>\n",
       "<tbody>\n",
       "\t<tr><td>D        </td><td>2        </td><td>0.2857143</td></tr>\n",
       "\t<tr><td>E        </td><td>3        </td><td>0.4285714</td></tr>\n",
       "\t<tr><td>F        </td><td>2        </td><td>0.2857143</td></tr>\n",
       "</tbody>\n",
       "</table>\n"
      ],
      "text/latex": [
       "\\begin{tabular}{r|lll}\n",
       " value & freq & likelihood\\\\\n",
       "\\hline\n",
       "\t D         & 2         & 0.2857143\\\\\n",
       "\t E         & 3         & 0.4285714\\\\\n",
       "\t F         & 2         & 0.2857143\\\\\n",
       "\\end{tabular}\n"
      ],
      "text/markdown": [
       "\n",
       "| value | freq | likelihood |\n",
       "|---|---|---|\n",
       "| D         | 2         | 0.2857143 |\n",
       "| E         | 3         | 0.4285714 |\n",
       "| F         | 2         | 0.2857143 |\n",
       "\n"
      ],
      "text/plain": [
       "  value freq likelihood\n",
       "1 D     2    0.2857143 \n",
       "2 E     3    0.4285714 \n",
       "3 F     2    0.2857143 "
      ]
     },
     "metadata": {},
     "output_type": "display_data"
    },
    {
     "data": {
      "image/png": "[encoded data removed]",
      "text/plain": [
       "plot without title"
      ]
     },
     "metadata": {},
     "output_type": "display_data"
    }
   ],
   "source": []
  },
  {
   "cell_type": "markdown",
   "metadata": {},
   "source": [
    "### Problem 1 | part c\n",
    "\n",
    "Determine the frequency and probability of each x1 value, assuming that the observation is in class B, adjusted by laplace smoothing.\n",
    "\n",
    "You may want to use these function(s):\n",
    "* table()\n",
    "* names()\n",
    "* as.numeric()\n",
    "* geom_col()"
   ]
  },
  {
   "cell_type": "code",
   "execution_count": 17,
   "metadata": {},
   "outputs": [
    {
     "data": {
      "text/html": [
       "<table>\n",
       "<thead><tr><th scope=col>value</th><th scope=col>freq</th><th scope=col>likelihood</th></tr></thead>\n",
       "<tbody>\n",
       "\t<tr><td>D  </td><td>1  </td><td>0.2</td></tr>\n",
       "\t<tr><td>E  </td><td>2  </td><td>0.4</td></tr>\n",
       "\t<tr><td>F  </td><td>2  </td><td>0.4</td></tr>\n",
       "</tbody>\n",
       "</table>\n"
      ],
      "text/latex": [
       "\\begin{tabular}{r|lll}\n",
       " value & freq & likelihood\\\\\n",
       "\\hline\n",
       "\t D   & 1   & 0.2\\\\\n",
       "\t E   & 2   & 0.4\\\\\n",
       "\t F   & 2   & 0.4\\\\\n",
       "\\end{tabular}\n"
      ],
      "text/markdown": [
       "\n",
       "| value | freq | likelihood |\n",
       "|---|---|---|\n",
       "| D   | 1   | 0.2 |\n",
       "| E   | 2   | 0.4 |\n",
       "| F   | 2   | 0.4 |\n",
       "\n"
      ],
      "text/plain": [
       "  value freq likelihood\n",
       "1 D     1    0.2       \n",
       "2 E     2    0.4       \n",
       "3 F     2    0.4       "
      ]
     },
     "metadata": {},
     "output_type": "display_data"
    },
    {
     "data": {
      "image/png": "[encoded data removed]",
      "text/plain": [
       "plot without title"
      ]
     },
     "metadata": {},
     "output_type": "display_data"
    }
   ],
   "source": []
  },
  {
   "cell_type": "markdown",
   "metadata": {},
   "source": [
    "### Problem 1 | part d\n",
    "\n",
    "Construct and visualize a probability density function for the x2 values of observations in class A - use kernel density estimation with gaussian kernel and bandwidth 1 - show for range 0 to 10. \n",
    "\n",
    "You may want to use these function(s):\n",
    "* density()\n",
    "* approxfun()\n",
    "* stat_function()"
   ]
  },
  {
   "cell_type": "code",
   "execution_count": 18,
   "metadata": {},
   "outputs": [
    {
     "data": {
      "image/png": "[encoded data removed]",
      "text/plain": [
       "plot without title"
      ]
     },
     "metadata": {},
     "output_type": "display_data"
    }
   ],
   "source": []
  },
  {
   "cell_type": "markdown",
   "metadata": {},
   "source": [
    "### Problem 1 | part e\n",
    "\n",
    "Construct and visualize a probability density function for the x2 values of observations in class B - use kernel density estimation with gaussian kernel and bandwidth 1 - show for range 0 to 10. \n",
    "\n",
    "You may want to use these function(s):\n",
    "* density()\n",
    "* approxfun()\n",
    "* stat_function()"
   ]
  },
  {
   "cell_type": "code",
   "execution_count": 19,
   "metadata": {},
   "outputs": [
    {
     "data": {
      "image/png": "[encoded data removed]",
      "text/plain": [
       "plot without title"
      ]
     },
     "metadata": {},
     "output_type": "display_data"
    }
   ],
   "source": []
  },
  {
   "cell_type": "markdown",
   "metadata": {},
   "source": [
    "### Problem 1 | part f\n",
    "\n",
    "Determine the frequency and probability of each class.\n",
    "\n",
    "You may want to use these function(s):\n",
    "* table()\n",
    "* names()\n",
    "* as.numeric()\n",
    "* geom_col()"
   ]
  },
  {
   "cell_type": "code",
   "execution_count": 20,
   "metadata": {},
   "outputs": [
    {
     "data": {
      "text/html": [
       "<table>\n",
       "<thead><tr><th scope=col>class</th><th scope=col>freq</th><th scope=col>prior</th></tr></thead>\n",
       "<tbody>\n",
       "\t<tr><td>A        </td><td>4        </td><td>0.6666667</td></tr>\n",
       "\t<tr><td>B        </td><td>2        </td><td>0.3333333</td></tr>\n",
       "</tbody>\n",
       "</table>\n"
      ],
      "text/latex": [
       "\\begin{tabular}{r|lll}\n",
       " class & freq & prior\\\\\n",
       "\\hline\n",
       "\t A         & 4         & 0.6666667\\\\\n",
       "\t B         & 2         & 0.3333333\\\\\n",
       "\\end{tabular}\n"
      ],
      "text/markdown": [
       "\n",
       "| class | freq | prior |\n",
       "|---|---|---|\n",
       "| A         | 4         | 0.6666667 |\n",
       "| B         | 2         | 0.3333333 |\n",
       "\n"
      ],
      "text/plain": [
       "  class freq prior    \n",
       "1 A     4    0.6666667\n",
       "2 B     2    0.3333333"
      ]
     },
     "metadata": {},
     "output_type": "display_data"
    },
    {
     "data": {
      "image/png": "[encoded data removed]",
      "text/plain": [
       "plot without title"
      ]
     },
     "metadata": {},
     "output_type": "display_data"
    }
   ],
   "source": []
  },
  {
   "cell_type": "markdown",
   "metadata": {},
   "source": [
    "### Problem 1 | part g\n",
    "\n",
    "For the new observation, show its x1 and x2 values.  Also, show the probability of its x1 value assuming that the observation is in class A, the density at its x2 value assuming that the observation is in class A, the probability that any observation is in class A, and the product of those numbers."
   ]
  },
  {
   "cell_type": "code",
   "execution_count": 22,
   "metadata": {},
   "outputs": [
    {
     "data": {
      "text/html": [
       "<table>\n",
       "<thead><tr><th scope=col>x1</th><th scope=col>x2</th><th scope=col>likelihood.x1.A</th><th scope=col>likelihood.x2.A</th><th scope=col>prior.A</th><th scope=col>posterior.A</th></tr></thead>\n",
       "<tbody>\n",
       "\t<tr><td>E          </td><td>8.07       </td><td>0.4285714  </td><td>0.02918445 </td><td>0.6666667  </td><td>0.008338413</td></tr>\n",
       "</tbody>\n",
       "</table>\n"
      ],
      "text/latex": [
       "\\begin{tabular}{r|llllll}\n",
       " x1 & x2 & likelihood.x1.A & likelihood.x2.A & prior.A & posterior.A\\\\\n",
       "\\hline\n",
       "\t E           & 8.07        & 0.4285714   & 0.02918445  & 0.6666667   & 0.008338413\\\\\n",
       "\\end{tabular}\n"
      ],
      "text/markdown": [
       "\n",
       "| x1 | x2 | likelihood.x1.A | likelihood.x2.A | prior.A | posterior.A |\n",
       "|---|---|---|---|---|---|\n",
       "| E           | 8.07        | 0.4285714   | 0.02918445  | 0.6666667   | 0.008338413 |\n",
       "\n"
      ],
      "text/plain": [
       "  x1 x2   likelihood.x1.A likelihood.x2.A prior.A   posterior.A\n",
       "1 E  8.07 0.4285714       0.02918445      0.6666667 0.008338413"
      ]
     },
     "metadata": {},
     "output_type": "display_data"
    }
   ],
   "source": []
  },
  {
   "cell_type": "markdown",
   "metadata": {},
   "source": [
    "### Problem 1 | part h\n",
    "\n",
    "For the new observation, show its x1 and x2 values.  Also, show the probability of its x1 value assuming that the observation is in class B, the density at its x2 value assuming that the observation is in class B, the probability that any observation is in class B, and the product of those numbers."
   ]
  },
  {
   "cell_type": "code",
   "execution_count": 23,
   "metadata": {},
   "outputs": [
    {
     "data": {
      "text/html": [
       "<table>\n",
       "<thead><tr><th scope=col>x1</th><th scope=col>x2</th><th scope=col>likelihood.x1.B</th><th scope=col>likelihood.x2.B</th><th scope=col>prior.B</th><th scope=col>posterior.B</th></tr></thead>\n",
       "<tbody>\n",
       "\t<tr><td>E         </td><td>8.07      </td><td>0.4       </td><td>0.2993378 </td><td>0.3333333 </td><td>0.03991171</td></tr>\n",
       "</tbody>\n",
       "</table>\n"
      ],
      "text/latex": [
       "\\begin{tabular}{r|llllll}\n",
       " x1 & x2 & likelihood.x1.B & likelihood.x2.B & prior.B & posterior.B\\\\\n",
       "\\hline\n",
       "\t E          & 8.07       & 0.4        & 0.2993378  & 0.3333333  & 0.03991171\\\\\n",
       "\\end{tabular}\n"
      ],
      "text/markdown": [
       "\n",
       "| x1 | x2 | likelihood.x1.B | likelihood.x2.B | prior.B | posterior.B |\n",
       "|---|---|---|---|---|---|\n",
       "| E          | 8.07       | 0.4        | 0.2993378  | 0.3333333  | 0.03991171 |\n",
       "\n"
      ],
      "text/plain": [
       "  x1 x2   likelihood.x1.B likelihood.x2.B prior.B   posterior.B\n",
       "1 E  8.07 0.4             0.2993378       0.3333333 0.03991171 "
      ]
     },
     "metadata": {},
     "output_type": "display_data"
    }
   ],
   "source": []
  },
  {
   "cell_type": "markdown",
   "metadata": {},
   "source": [
    "### Problem 1 | part i\n",
    "\n",
    "Determine the probability of the new observation being in class A and the probability of it being in class B (as indicated by posteriors)."
   ]
  },
  {
   "cell_type": "code",
   "execution_count": 24,
   "metadata": {},
   "outputs": [
    {
     "data": {
      "text/html": [
       "<table>\n",
       "<thead><tr><th scope=col>A</th><th scope=col>B</th></tr></thead>\n",
       "<tbody>\n",
       "\t<tr><td>0.1728164</td><td>0.8271836</td></tr>\n",
       "</tbody>\n",
       "</table>\n"
      ],
      "text/latex": [
       "\\begin{tabular}{r|ll}\n",
       " A & B\\\\\n",
       "\\hline\n",
       "\t 0.1728164 & 0.8271836\\\\\n",
       "\\end{tabular}\n"
      ],
      "text/markdown": [
       "\n",
       "| A | B |\n",
       "|---|---|\n",
       "| 0.1728164 | 0.8271836 |\n",
       "\n"
      ],
      "text/plain": [
       "  A         B        \n",
       "1 0.1728164 0.8271836"
      ]
     },
     "metadata": {},
     "output_type": "display_data"
    }
   ],
   "source": []
  },
  {
   "cell_type": "markdown",
   "metadata": {},
   "source": [
    "### Problem 1 | part j\n",
    "\n",
    "Predict the class of the new observation, assuming the cutoff for class A is 0.6 (as indicated by relative posteriors). \n",
    "\n",
    "You may want to use these function(s):\n",
    "* as.class()"
   ]
  },
  {
   "cell_type": "code",
   "execution_count": 25,
   "metadata": {},
   "outputs": [
    {
     "data": {
      "text/html": [
       "B\n",
       "<details>\n",
       "\t<summary style=display:list-item;cursor:pointer>\n",
       "\t\t<strong>Levels</strong>:\n",
       "\t</summary>\n",
       "\t<ol class=list-inline>\n",
       "\t\t<li>'A'</li>\n",
       "\t\t<li>'B'</li>\n",
       "\t</ol>\n",
       "</details>"
      ],
      "text/latex": [
       "B\n",
       "\\emph{Levels}: \\begin{enumerate*}\n",
       "\\item 'A'\n",
       "\\item 'B'\n",
       "\\end{enumerate*}\n"
      ],
      "text/markdown": [
       "B\n",
       "**Levels**: 1. 'A'\n",
       "2. 'B'\n",
       "\n",
       "\n"
      ],
      "text/plain": [
       "[1] B\n",
       "Levels: A B"
      ]
     },
     "metadata": {},
     "output_type": "display_data"
    }
   ],
   "source": []
  },
  {
   "cell_type": "markdown",
   "metadata": {},
   "source": [
    "## Problem 2\n",
    "Naive Bayes, Categorical & Continuous Variables, Likelihoods by Frequency Table & Gaussian Estimation"
   ]
  },
  {
   "cell_type": "markdown",
   "metadata": {},
   "source": [
    "### Problem 2 | part a\n",
    "\n",
    "Construct and visualize a probability density function for the x2 values of observations in class A - use Gaussian estimation - show for range 0 to 10. \n",
    "\n",
    "You may want to use these function(s):\n",
    "* mean()\n",
    "* sd()\n",
    "* stat_function()\n",
    "\n",
    "Use `stat_function(fun=gaussian, args=c(mean=mean.A, sd=sd.A), geom=\"area\", ...)` to visualize the probability density function."
   ]
  },
  {
   "cell_type": "code",
   "execution_count": 26,
   "metadata": {},
   "outputs": [
    {
     "data": {
      "text/html": [
       "<table>\n",
       "<thead><tr><th scope=col>mean.A</th><th scope=col>sd.A</th></tr></thead>\n",
       "<tbody>\n",
       "\t<tr><td>3.825   </td><td>1.937997</td></tr>\n",
       "</tbody>\n",
       "</table>\n"
      ],
      "text/latex": [
       "\\begin{tabular}{r|ll}\n",
       " mean.A & sd.A\\\\\n",
       "\\hline\n",
       "\t 3.825    & 1.937997\\\\\n",
       "\\end{tabular}\n"
      ],
      "text/markdown": [
       "\n",
       "| mean.A | sd.A |\n",
       "|---|---|\n",
       "| 3.825    | 1.937997 |\n",
       "\n"
      ],
      "text/plain": [
       "  mean.A sd.A    \n",
       "1 3.825  1.937997"
      ]
     },
     "metadata": {},
     "output_type": "display_data"
    },
    {
     "data": {
      "image/png": "[encoded data removed]",
      "text/plain": [
       "plot without title"
      ]
     },
     "metadata": {},
     "output_type": "display_data"
    }
   ],
   "source": []
  },
  {
   "cell_type": "markdown",
   "metadata": {},
   "source": [
    "### Problem 2 | part b\n",
    "\n",
    "Construct and visualize a probability density function for the x2 values of observations in class B - use Gaussian estimation - show for range 0 to 10. \n",
    "\n",
    "You may want to use these function(s):\n",
    "* mean()\n",
    "* sd()\n",
    "* stat_function()\n",
    "\n",
    "Use `stat_function(fun=gaussian, args=c(mean=mean.B, sd=sd.B), geom=\"area\", ...)` to visualize the probability density function."
   ]
  },
  {
   "cell_type": "code",
   "execution_count": 27,
   "metadata": {},
   "outputs": [
    {
     "data": {
      "text/html": [
       "<table>\n",
       "<thead><tr><th scope=col>mean.B</th><th scope=col>sd.B</th></tr></thead>\n",
       "<tbody>\n",
       "\t<tr><td>8.8      </td><td>0.4242641</td></tr>\n",
       "</tbody>\n",
       "</table>\n"
      ],
      "text/latex": [
       "\\begin{tabular}{r|ll}\n",
       " mean.B & sd.B\\\\\n",
       "\\hline\n",
       "\t 8.8       & 0.4242641\\\\\n",
       "\\end{tabular}\n"
      ],
      "text/markdown": [
       "\n",
       "| mean.B | sd.B |\n",
       "|---|---|\n",
       "| 8.8       | 0.4242641 |\n",
       "\n"
      ],
      "text/plain": [
       "  mean.B sd.B     \n",
       "1 8.8    0.4242641"
      ]
     },
     "metadata": {},
     "output_type": "display_data"
    },
    {
     "data": {
      "image/png": "[encoded data removed]",
      "text/plain": [
       "plot without title"
      ]
     },
     "metadata": {},
     "output_type": "display_data"
    }
   ],
   "source": []
  },
  {
   "cell_type": "markdown",
   "metadata": {},
   "source": [
    "### Problem 2 | part c\n",
    "\n",
    "For the new observation, show its x1 and x2 values.  Also, show the probability of its x1 value assuming that the observation is in class A, the density at its x2 value assuming that the observation is in class A (according to Gaussian estimation), the probability that any observation is in class A, and the product of those numbers.\n",
    "\n",
    "You may want to use these function(s):\n",
    "* gaussian()"
   ]
  },
  {
   "cell_type": "code",
   "execution_count": 28,
   "metadata": {},
   "outputs": [
    {
     "data": {
      "text/html": [
       "<table>\n",
       "<thead><tr><th scope=col>x1</th><th scope=col>x2</th><th scope=col>likelihood.x1.A</th><th scope=col>likelihood.x2.A</th><th scope=col>prior.A</th><th scope=col>posterior.A</th></tr></thead>\n",
       "<tbody>\n",
       "\t<tr><td>E          </td><td>8.07       </td><td>0.4285714  </td><td>0.01869439 </td><td>0.6666667  </td><td>0.005341254</td></tr>\n",
       "</tbody>\n",
       "</table>\n"
      ],
      "text/latex": [
       "\\begin{tabular}{r|llllll}\n",
       " x1 & x2 & likelihood.x1.A & likelihood.x2.A & prior.A & posterior.A\\\\\n",
       "\\hline\n",
       "\t E           & 8.07        & 0.4285714   & 0.01869439  & 0.6666667   & 0.005341254\\\\\n",
       "\\end{tabular}\n"
      ],
      "text/markdown": [
       "\n",
       "| x1 | x2 | likelihood.x1.A | likelihood.x2.A | prior.A | posterior.A |\n",
       "|---|---|---|---|---|---|\n",
       "| E           | 8.07        | 0.4285714   | 0.01869439  | 0.6666667   | 0.005341254 |\n",
       "\n"
      ],
      "text/plain": [
       "  x1 x2   likelihood.x1.A likelihood.x2.A prior.A   posterior.A\n",
       "1 E  8.07 0.4285714       0.01869439      0.6666667 0.005341254"
      ]
     },
     "metadata": {},
     "output_type": "display_data"
    }
   ],
   "source": []
  },
  {
   "cell_type": "markdown",
   "metadata": {},
   "source": [
    "### Problem 2 | part d\n",
    "\n",
    "For the new observation, show its x1 and x2 values.  Also, show the probability of its x1 value assuming that the observation is in class B, the density at its x2 value assuming that the observation is in class B (according to Gaussian estimation), the probability that any observation is in class B, and the product of those numbers.\n",
    "\n",
    "You may want to use these function(s):\n",
    "* gaussian()"
   ]
  },
  {
   "cell_type": "code",
   "execution_count": 29,
   "metadata": {},
   "outputs": [
    {
     "data": {
      "text/html": [
       "<table>\n",
       "<thead><tr><th scope=col>x1</th><th scope=col>x2</th><th scope=col>likelihood.x1.B</th><th scope=col>likelihood.x2.B</th><th scope=col>prior.B</th><th scope=col>posterior.B</th></tr></thead>\n",
       "<tbody>\n",
       "\t<tr><td>E         </td><td>8.07      </td><td>0.4       </td><td>0.2139919 </td><td>0.3333333 </td><td>0.02853225</td></tr>\n",
       "</tbody>\n",
       "</table>\n"
      ],
      "text/latex": [
       "\\begin{tabular}{r|llllll}\n",
       " x1 & x2 & likelihood.x1.B & likelihood.x2.B & prior.B & posterior.B\\\\\n",
       "\\hline\n",
       "\t E          & 8.07       & 0.4        & 0.2139919  & 0.3333333  & 0.02853225\\\\\n",
       "\\end{tabular}\n"
      ],
      "text/markdown": [
       "\n",
       "| x1 | x2 | likelihood.x1.B | likelihood.x2.B | prior.B | posterior.B |\n",
       "|---|---|---|---|---|---|\n",
       "| E          | 8.07       | 0.4        | 0.2139919  | 0.3333333  | 0.02853225 |\n",
       "\n"
      ],
      "text/plain": [
       "  x1 x2   likelihood.x1.B likelihood.x2.B prior.B   posterior.B\n",
       "1 E  8.07 0.4             0.2139919       0.3333333 0.02853225 "
      ]
     },
     "metadata": {},
     "output_type": "display_data"
    }
   ],
   "source": []
  },
  {
   "cell_type": "markdown",
   "metadata": {},
   "source": [
    "### Problem 2 | part e\n",
    "\n",
    "Determine the probability of the new observation being in class A and the probability of it being in class B (as indicated by posteriors)."
   ]
  },
  {
   "cell_type": "code",
   "execution_count": 30,
   "metadata": {},
   "outputs": [
    {
     "data": {
      "text/html": [
       "<table>\n",
       "<thead><tr><th scope=col>A</th><th scope=col>B</th></tr></thead>\n",
       "<tbody>\n",
       "\t<tr><td>0.1576823</td><td>0.8423177</td></tr>\n",
       "</tbody>\n",
       "</table>\n"
      ],
      "text/latex": [
       "\\begin{tabular}{r|ll}\n",
       " A & B\\\\\n",
       "\\hline\n",
       "\t 0.1576823 & 0.8423177\\\\\n",
       "\\end{tabular}\n"
      ],
      "text/markdown": [
       "\n",
       "| A | B |\n",
       "|---|---|\n",
       "| 0.1576823 | 0.8423177 |\n",
       "\n"
      ],
      "text/plain": [
       "  A         B        \n",
       "1 0.1576823 0.8423177"
      ]
     },
     "metadata": {},
     "output_type": "display_data"
    }
   ],
   "source": []
  },
  {
   "cell_type": "markdown",
   "metadata": {},
   "source": [
    "### Problem 2 | part f\n",
    "\n",
    "Predict the class of the new observation, assuming the cutoff for class A is 0.6 (as indicated by relative posteriors).\n",
    "\n",
    "You may want to use these function(s):\n",
    "* as.class()"
   ]
  },
  {
   "cell_type": "code",
   "execution_count": 31,
   "metadata": {
    "scrolled": true
   },
   "outputs": [
    {
     "data": {
      "text/html": [
       "B\n",
       "<details>\n",
       "\t<summary style=display:list-item;cursor:pointer>\n",
       "\t\t<strong>Levels</strong>:\n",
       "\t</summary>\n",
       "\t<ol class=list-inline>\n",
       "\t\t<li>'A'</li>\n",
       "\t\t<li>'B'</li>\n",
       "\t</ol>\n",
       "</details>"
      ],
      "text/latex": [
       "B\n",
       "\\emph{Levels}: \\begin{enumerate*}\n",
       "\\item 'A'\n",
       "\\item 'B'\n",
       "\\end{enumerate*}\n"
      ],
      "text/markdown": [
       "B\n",
       "**Levels**: 1. 'A'\n",
       "2. 'B'\n",
       "\n",
       "\n"
      ],
      "text/plain": [
       "[1] B\n",
       "Levels: A B"
      ]
     },
     "metadata": {},
     "output_type": "display_data"
    }
   ],
   "source": []
  },
  {
   "cell_type": "markdown",
   "metadata": {},
   "source": [
    "## Problem 3\n",
    "\n",
    "Naive Bayes and R's naiveBayes Function"
   ]
  },
  {
   "cell_type": "markdown",
   "metadata": {},
   "source": [
    "### Problem 3 | part a\n",
    "\n",
    "For the new observation, use R's `naiveBayes` and `predict` functions to determine the probabilities of being in class A or B.\n",
    "\n",
    "You may want to use these function(s):\n",
    "* naiveBayes()\n",
    "* predict()\n",
    "\n",
    "Use `naiveBayes(..., laplace=TRUE)` to ensure that laplace smoothing is used.\n",
    "Use `predict(..., type=\"raw\")` to ensure that probabilities are produced."
   ]
  },
  {
   "cell_type": "code",
   "execution_count": 32,
   "metadata": {},
   "outputs": [
    {
     "data": {
      "text/html": [
       "<table>\n",
       "<thead><tr><th scope=col>A</th><th scope=col>B</th></tr></thead>\n",
       "<tbody>\n",
       "\t<tr><td>0.1576823</td><td>0.8423177</td></tr>\n",
       "</tbody>\n",
       "</table>\n"
      ],
      "text/latex": [
       "\\begin{tabular}{ll}\n",
       " A & B\\\\\n",
       "\\hline\n",
       "\t 0.1576823 & 0.8423177\\\\\n",
       "\\end{tabular}\n"
      ],
      "text/markdown": [
       "\n",
       "| A | B |\n",
       "|---|---|\n",
       "| 0.1576823 | 0.8423177 |\n",
       "\n"
      ],
      "text/plain": [
       "     A         B        \n",
       "[1,] 0.1576823 0.8423177"
      ]
     },
     "metadata": {},
     "output_type": "display_data"
    }
   ],
   "source": []
  },
  {
   "cell_type": "markdown",
   "metadata": {},
   "source": [
    "### Problem 3 | part b\n",
    "\n",
    "Predict the class of the new observation, assuming the cutoff for class A is 0.6.\n",
    "\n",
    "You may want to use these function(s):\n",
    "* as.class()"
   ]
  },
  {
   "cell_type": "code",
   "execution_count": 33,
   "metadata": {},
   "outputs": [
    {
     "data": {
      "text/html": [
       "B\n",
       "<details>\n",
       "\t<summary style=display:list-item;cursor:pointer>\n",
       "\t\t<strong>Levels</strong>:\n",
       "\t</summary>\n",
       "\t<ol class=list-inline>\n",
       "\t\t<li>'A'</li>\n",
       "\t\t<li>'B'</li>\n",
       "\t</ol>\n",
       "</details>"
      ],
      "text/latex": [
       "B\n",
       "\\emph{Levels}: \\begin{enumerate*}\n",
       "\\item 'A'\n",
       "\\item 'B'\n",
       "\\end{enumerate*}\n"
      ],
      "text/markdown": [
       "B\n",
       "**Levels**: 1. 'A'\n",
       "2. 'B'\n",
       "\n",
       "\n"
      ],
      "text/plain": [
       "[1] B\n",
       "Levels: A B"
      ]
     },
     "metadata": {},
     "output_type": "display_data"
    }
   ],
   "source": []
  },
  {
   "cell_type": "markdown",
   "metadata": {},
   "source": [
    "<font size=1;>\n",
    "<p style=\"text-align: left;\">\n",
    "Copyright (c) Berkeley Data Analytics Group, LLC\n",
    "<span style=\"float: right;\">\n",
    "Document revised March 8, 2020\n",
    "</span>\n",
    "</p>\n",
    "</font>"
   ]
  }
 ],
 "metadata": {
  "hide_code_all_hidden": false,
  "hide_input": false,
  "kernelspec": {
   "display_name": "R",
   "language": "R",
   "name": "ir"
  },
  "language_info": {
   "codemirror_mode": "r",
   "file_extension": ".r",
   "mimetype": "text/x-r-source",
   "name": "R",
   "pygments_lexer": "r",
   "version": "3.6.1"
  },
  "toc": {
   "base_numbering": 1,
   "nav_menu": {},
   "number_sections": false,
   "sideBar": true,
   "skip_h1_title": true,
   "title_cell": "Table of Contents",
   "title_sidebar": "Contents",
   "toc_cell": false,
   "toc_position": {},
   "toc_section_display": true,
   "toc_window_display": true
  }
 },
 "nbformat": 4,
 "nbformat_minor": 2
}
