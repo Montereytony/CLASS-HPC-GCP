{
 "cells": [
  {
   "cell_type": "markdown",
   "metadata": {
    "hideCode": false,
    "hidePrompt": false
   },
   "source": [
    "# Regression"
   ]
  },
  {
   "cell_type": "markdown",
   "metadata": {},
   "source": [
    "**Write and execute R code in the code cells per the instructions.  The expected results are provided for you directly following the code cells.**"
   ]
  },
  {
   "cell_type": "code",
   "execution_count": 1,
   "metadata": {},
   "outputs": [
    {
     "data": {
      "text/html": [
       "<p style=\"text-align:center; font-size:10px;\">\n",
       ".................................................... start of document ....................................................\n",
       "</p>"
      ]
     },
     "metadata": {},
     "output_type": "display_data"
    }
   ],
   "source": [
    "f = \"setup.R\"; for (i in 1:10) { if (file.exists(f)) break else f = paste0(\"../\", f) }; source(f)"
   ]
  },
  {
   "cell_type": "markdown",
   "metadata": {},
   "source": [
    "## Data & New Observation"
   ]
  },
  {
   "cell_type": "code",
   "execution_count": 2,
   "metadata": {
    "hideCode": false,
    "hidePrompt": false,
    "run_control": {
     "marked": false
    }
   },
   "outputs": [
    {
     "data": {
      "image/png": "[encoded data removed]",
      "text/plain": [
       "plot without title"
      ]
     },
     "metadata": {},
     "output_type": "display_data"
    }
   ],
   "source": [
    "data = data.frame(x1=c(1,2,4,4,5,6,7,8,9,1,2,3,4,5,6,7,8,9),\n",
    "                  x2=c(9,8,6,3,5,4,3,2,1,9,8,6,1,5,4,3,2,10),\n",
    "                  x3=c(\"A\",\"A\",\"C\",\"A\",\"A\",\"B\",\"C\",\"D\",\"A\",\"A\",\"B\",\"C\",\"D\",\"A\",\"B\",\"C\",\"D\",\"D\"),\n",
    "                  outcome=c(1,1,2,4,4,2,5,9,9,4,2,3,7,6,5,9,8,7))\n",
    "\n",
    "grid.arrange(ggplot(data) + xlim(0,10) + ylim(0,10) + geom_point(aes(x=x1, y=outcome, color=x3)),\n",
    "             ggplot(data) + xlim(0,10) + ylim(0,10) + geom_point(aes(x=x2, y=outcome, color=x3)),\n",
    "             nrow=1)"
   ]
  },
  {
   "cell_type": "code",
   "execution_count": 3,
   "metadata": {
    "scrolled": true
   },
   "outputs": [
    {
     "data": {
      "text/html": [
       "<table>\n",
       "<caption><center><font color=\"black\"><b>new</b></font></center></caption>\n",
       " <thead>\n",
       "  <tr>\n",
       "   <th style=\"text-align:right;background-color: #FFFFFF !important;\"> x1 </th>\n",
       "   <th style=\"text-align:right;background-color: #FFFFFF !important;\"> x2 </th>\n",
       "   <th style=\"text-align:right;background-color: #FFFFFF !important;\"> x3 </th>\n",
       "  </tr>\n",
       " </thead>\n",
       "<tbody>\n",
       "  <tr>\n",
       "   <td style=\"text-align:right;\"> 5.5 </td>\n",
       "   <td style=\"text-align:right;\"> 7.5 </td>\n",
       "   <td style=\"text-align:right;\"> B </td>\n",
       "  </tr>\n",
       "</tbody>\n",
       "</table>"
      ]
     },
     "metadata": {},
     "output_type": "display_data"
    }
   ],
   "source": [
    "new = data.frame(x1=5.5, x2=7.5, x3=factor(\"B\", c(\"A\",\"B\",\"C\",\"D\")))\n",
    "fmt(new)"
   ]
  },
  {
   "cell_type": "markdown",
   "metadata": {},
   "source": [
    "## Problem 1: Dummy Variables\n",
    "\n",
    "Express the data and new observation as all numeric variables.  Convert the categorical variables to dummy variables as required.\n",
    "\n",
    "You may want to use these function(s):\n",
    "* dummify()"
   ]
  },
  {
   "cell_type": "code",
   "execution_count": 4,
   "metadata": {
    "scrolled": false
   },
   "outputs": [
    {
     "data": {
      "text/html": [
       "<table>\n",
       "<thead><tr><th scope=col>x1</th><th scope=col>x2</th><th scope=col>x3B</th><th scope=col>x3C</th><th scope=col>x3D</th><th scope=col>outcome</th></tr></thead>\n",
       "<tbody>\n",
       "\t<tr><td>1 </td><td> 9</td><td>0 </td><td>0 </td><td>0 </td><td>1 </td></tr>\n",
       "\t<tr><td>2 </td><td> 8</td><td>0 </td><td>0 </td><td>0 </td><td>1 </td></tr>\n",
       "\t<tr><td>4 </td><td> 6</td><td>0 </td><td>1 </td><td>0 </td><td>2 </td></tr>\n",
       "\t<tr><td>4 </td><td> 3</td><td>0 </td><td>0 </td><td>0 </td><td>4 </td></tr>\n",
       "\t<tr><td>5 </td><td> 5</td><td>0 </td><td>0 </td><td>0 </td><td>4 </td></tr>\n",
       "\t<tr><td>6 </td><td> 4</td><td>1 </td><td>0 </td><td>0 </td><td>2 </td></tr>\n",
       "\t<tr><td>7 </td><td> 3</td><td>0 </td><td>1 </td><td>0 </td><td>5 </td></tr>\n",
       "\t<tr><td>8 </td><td> 2</td><td>0 </td><td>0 </td><td>1 </td><td>9 </td></tr>\n",
       "\t<tr><td>9 </td><td> 1</td><td>0 </td><td>0 </td><td>0 </td><td>9 </td></tr>\n",
       "\t<tr><td>1 </td><td> 9</td><td>0 </td><td>0 </td><td>0 </td><td>4 </td></tr>\n",
       "\t<tr><td>2 </td><td> 8</td><td>1 </td><td>0 </td><td>0 </td><td>2 </td></tr>\n",
       "\t<tr><td>3 </td><td> 6</td><td>0 </td><td>1 </td><td>0 </td><td>3 </td></tr>\n",
       "\t<tr><td>4 </td><td> 1</td><td>0 </td><td>0 </td><td>1 </td><td>7 </td></tr>\n",
       "\t<tr><td>5 </td><td> 5</td><td>0 </td><td>0 </td><td>0 </td><td>6 </td></tr>\n",
       "\t<tr><td>6 </td><td> 4</td><td>1 </td><td>0 </td><td>0 </td><td>5 </td></tr>\n",
       "\t<tr><td>7 </td><td> 3</td><td>0 </td><td>1 </td><td>0 </td><td>9 </td></tr>\n",
       "\t<tr><td>8 </td><td> 2</td><td>0 </td><td>0 </td><td>1 </td><td>8 </td></tr>\n",
       "\t<tr><td>9 </td><td>10</td><td>0 </td><td>0 </td><td>1 </td><td>7 </td></tr>\n",
       "</tbody>\n",
       "</table>\n"
      ],
      "text/latex": [
       "\\begin{tabular}{r|llllll}\n",
       " x1 & x2 & x3B & x3C & x3D & outcome\\\\\n",
       "\\hline\n",
       "\t 1  &  9 & 0  & 0  & 0  & 1 \\\\\n",
       "\t 2  &  8 & 0  & 0  & 0  & 1 \\\\\n",
       "\t 4  &  6 & 0  & 1  & 0  & 2 \\\\\n",
       "\t 4  &  3 & 0  & 0  & 0  & 4 \\\\\n",
       "\t 5  &  5 & 0  & 0  & 0  & 4 \\\\\n",
       "\t 6  &  4 & 1  & 0  & 0  & 2 \\\\\n",
       "\t 7  &  3 & 0  & 1  & 0  & 5 \\\\\n",
       "\t 8  &  2 & 0  & 0  & 1  & 9 \\\\\n",
       "\t 9  &  1 & 0  & 0  & 0  & 9 \\\\\n",
       "\t 1  &  9 & 0  & 0  & 0  & 4 \\\\\n",
       "\t 2  &  8 & 1  & 0  & 0  & 2 \\\\\n",
       "\t 3  &  6 & 0  & 1  & 0  & 3 \\\\\n",
       "\t 4  &  1 & 0  & 0  & 1  & 7 \\\\\n",
       "\t 5  &  5 & 0  & 0  & 0  & 6 \\\\\n",
       "\t 6  &  4 & 1  & 0  & 0  & 5 \\\\\n",
       "\t 7  &  3 & 0  & 1  & 0  & 9 \\\\\n",
       "\t 8  &  2 & 0  & 0  & 1  & 8 \\\\\n",
       "\t 9  & 10 & 0  & 0  & 1  & 7 \\\\\n",
       "\\end{tabular}\n"
      ],
      "text/markdown": [
       "\n",
       "| x1 | x2 | x3B | x3C | x3D | outcome |\n",
       "|---|---|---|---|---|---|\n",
       "| 1  |  9 | 0  | 0  | 0  | 1  |\n",
       "| 2  |  8 | 0  | 0  | 0  | 1  |\n",
       "| 4  |  6 | 0  | 1  | 0  | 2  |\n",
       "| 4  |  3 | 0  | 0  | 0  | 4  |\n",
       "| 5  |  5 | 0  | 0  | 0  | 4  |\n",
       "| 6  |  4 | 1  | 0  | 0  | 2  |\n",
       "| 7  |  3 | 0  | 1  | 0  | 5  |\n",
       "| 8  |  2 | 0  | 0  | 1  | 9  |\n",
       "| 9  |  1 | 0  | 0  | 0  | 9  |\n",
       "| 1  |  9 | 0  | 0  | 0  | 4  |\n",
       "| 2  |  8 | 1  | 0  | 0  | 2  |\n",
       "| 3  |  6 | 0  | 1  | 0  | 3  |\n",
       "| 4  |  1 | 0  | 0  | 1  | 7  |\n",
       "| 5  |  5 | 0  | 0  | 0  | 6  |\n",
       "| 6  |  4 | 1  | 0  | 0  | 5  |\n",
       "| 7  |  3 | 0  | 1  | 0  | 9  |\n",
       "| 8  |  2 | 0  | 0  | 1  | 8  |\n",
       "| 9  | 10 | 0  | 0  | 1  | 7  |\n",
       "\n"
      ],
      "text/plain": [
       "   x1 x2 x3B x3C x3D outcome\n",
       "1  1   9 0   0   0   1      \n",
       "2  2   8 0   0   0   1      \n",
       "3  4   6 0   1   0   2      \n",
       "4  4   3 0   0   0   4      \n",
       "5  5   5 0   0   0   4      \n",
       "6  6   4 1   0   0   2      \n",
       "7  7   3 0   1   0   5      \n",
       "8  8   2 0   0   1   9      \n",
       "9  9   1 0   0   0   9      \n",
       "10 1   9 0   0   0   4      \n",
       "11 2   8 1   0   0   2      \n",
       "12 3   6 0   1   0   3      \n",
       "13 4   1 0   0   1   7      \n",
       "14 5   5 0   0   0   6      \n",
       "15 6   4 1   0   0   5      \n",
       "16 7   3 0   1   0   9      \n",
       "17 8   2 0   0   1   8      \n",
       "18 9  10 0   0   1   7      "
      ]
     },
     "metadata": {},
     "output_type": "display_data"
    }
   ],
   "source": []
  },
  {
   "cell_type": "code",
   "execution_count": 5,
   "metadata": {},
   "outputs": [
    {
     "data": {
      "text/html": [
       "<table>\n",
       "<thead><tr><th scope=col>x1</th><th scope=col>x2</th><th scope=col>x3B</th><th scope=col>x3C</th><th scope=col>x3D</th></tr></thead>\n",
       "<tbody>\n",
       "\t<tr><td>5.5</td><td>7.5</td><td>1  </td><td>0  </td><td>0  </td></tr>\n",
       "</tbody>\n",
       "</table>\n"
      ],
      "text/latex": [
       "\\begin{tabular}{r|lllll}\n",
       " x1 & x2 & x3B & x3C & x3D\\\\\n",
       "\\hline\n",
       "\t 5.5 & 7.5 & 1   & 0   & 0  \\\\\n",
       "\\end{tabular}\n"
      ],
      "text/markdown": [
       "\n",
       "| x1 | x2 | x3B | x3C | x3D |\n",
       "|---|---|---|---|---|\n",
       "| 5.5 | 7.5 | 1   | 0   | 0   |\n",
       "\n"
      ],
      "text/plain": [
       "  x1  x2  x3B x3C x3D\n",
       "1 5.5 7.5 1   0   0  "
      ]
     },
     "metadata": {},
     "output_type": "display_data"
    }
   ],
   "source": []
  },
  {
   "cell_type": "markdown",
   "metadata": {},
   "source": [
    "## Problem 2: Simple Linear Regression\n",
    "\n",
    "Construct a simple linear regression model to predict outcome given x1.<br>\n",
    "Show the model intercept and coefficient(s).<br>\n",
    "Show the predicted outcome of the new observation.<br>\n",
    "Show the actual data, predicted outcomes of the data, and predicted outcome of the new observation, overlaid on 2 scatterplots: outcome vs. x1, and outcome vs. x2.\n",
    "\n",
    "You may want to use these function(s):\n",
    "* lm()\n",
    "* predict()"
   ]
  },
  {
   "cell_type": "code",
   "execution_count": 6,
   "metadata": {
    "scrolled": false
   },
   "outputs": [
    {
     "data": {
      "text/html": [
       "<table>\n",
       "<thead><tr><th></th><th scope=col>model.1.coefficients</th></tr></thead>\n",
       "<tbody>\n",
       "\t<tr><th scope=row>(Intercept)</th><td>0.6907363</td></tr>\n",
       "\t<tr><th scope=row>x1</th><td>0.8304038</td></tr>\n",
       "</tbody>\n",
       "</table>\n"
      ],
      "text/latex": [
       "\\begin{tabular}{r|l}\n",
       "  & model.1.coefficients\\\\\n",
       "\\hline\n",
       "\t(Intercept) & 0.6907363\\\\\n",
       "\tx1 & 0.8304038\\\\\n",
       "\\end{tabular}\n"
      ],
      "text/markdown": [
       "\n",
       "| <!--/--> | model.1.coefficients |\n",
       "|---|---|\n",
       "| (Intercept) | 0.6907363 |\n",
       "| x1 | 0.8304038 |\n",
       "\n"
      ],
      "text/plain": [
       "            model.1.coefficients\n",
       "(Intercept) 0.6907363           \n",
       "x1          0.8304038           "
      ]
     },
     "metadata": {},
     "output_type": "display_data"
    },
    {
     "data": {
      "text/html": [
       "<table>\n",
       "<thead><tr><th scope=col>x1</th><th scope=col>x2</th><th scope=col>x3</th><th scope=col>outcome.predicted</th></tr></thead>\n",
       "<tbody>\n",
       "\t<tr><td>5.5     </td><td>7.5     </td><td>B       </td><td>5.257957</td></tr>\n",
       "</tbody>\n",
       "</table>\n"
      ],
      "text/latex": [
       "\\begin{tabular}{r|llll}\n",
       " x1 & x2 & x3 & outcome.predicted\\\\\n",
       "\\hline\n",
       "\t 5.5      & 7.5      & B        & 5.257957\\\\\n",
       "\\end{tabular}\n"
      ],
      "text/markdown": [
       "\n",
       "| x1 | x2 | x3 | outcome.predicted |\n",
       "|---|---|---|---|\n",
       "| 5.5      | 7.5      | B        | 5.257957 |\n",
       "\n"
      ],
      "text/plain": [
       "  x1  x2  x3 outcome.predicted\n",
       "1 5.5 7.5 B  5.257957         "
      ]
     },
     "metadata": {},
     "output_type": "display_data"
    },
    {
     "data": {
      "image/png": "[encoded data removed]",
      "text/plain": [
       "plot without title"
      ]
     },
     "metadata": {},
     "output_type": "display_data"
    }
   ],
   "source": []
  },
  {
   "cell_type": "markdown",
   "metadata": {},
   "source": [
    "## Problem 3: Multiple Linear Regression\n",
    "\n",
    "Construct a multiple linear regression model to predict outcome given all other variables.<br>\n",
    "Show the model intercept and coefficient(s).  Show the predicted outcome of the new observation. <br>\n",
    "Show the actual data, predicted outcomes of the data, and predicted outcome of the new observation, as 2 scatterplots: outcome vs. x1, and outcome vs. x2.\n",
    "\n",
    "You may want to use these function(s):\n",
    "* lm()\n",
    "* predict()"
   ]
  },
  {
   "cell_type": "code",
   "execution_count": 7,
   "metadata": {
    "scrolled": false
   },
   "outputs": [
    {
     "data": {
      "text/html": [
       "<table>\n",
       "<thead><tr><th></th><th scope=col>model.2.coefficients</th></tr></thead>\n",
       "<tbody>\n",
       "\t<tr><th scope=row>(Intercept)</th><td> 3.4418106</td></tr>\n",
       "\t<tr><th scope=row>x1</th><td> 0.5707866</td></tr>\n",
       "\t<tr><th scope=row>x2</th><td>-0.2625978</td></tr>\n",
       "\t<tr><th scope=row>x3B</th><td>-1.7049598</td></tr>\n",
       "\t<tr><th scope=row>x3C</th><td>-0.5067502</td></tr>\n",
       "\t<tr><th scope=row>x3D</th><td> 1.1547282</td></tr>\n",
       "</tbody>\n",
       "</table>\n"
      ],
      "text/latex": [
       "\\begin{tabular}{r|l}\n",
       "  & model.2.coefficients\\\\\n",
       "\\hline\n",
       "\t(Intercept) &  3.4418106\\\\\n",
       "\tx1 &  0.5707866\\\\\n",
       "\tx2 & -0.2625978\\\\\n",
       "\tx3B & -1.7049598\\\\\n",
       "\tx3C & -0.5067502\\\\\n",
       "\tx3D &  1.1547282\\\\\n",
       "\\end{tabular}\n"
      ],
      "text/markdown": [
       "\n",
       "| <!--/--> | model.2.coefficients |\n",
       "|---|---|\n",
       "| (Intercept) |  3.4418106 |\n",
       "| x1 |  0.5707866 |\n",
       "| x2 | -0.2625978 |\n",
       "| x3B | -1.7049598 |\n",
       "| x3C | -0.5067502 |\n",
       "| x3D |  1.1547282 |\n",
       "\n"
      ],
      "text/plain": [
       "            model.2.coefficients\n",
       "(Intercept)  3.4418106          \n",
       "x1           0.5707866          \n",
       "x2          -0.2625978          \n",
       "x3B         -1.7049598          \n",
       "x3C         -0.5067502          \n",
       "x3D          1.1547282          "
      ]
     },
     "metadata": {},
     "output_type": "display_data"
    },
    {
     "data": {
      "text/html": [
       "<table>\n",
       "<thead><tr><th scope=col>x1</th><th scope=col>x2</th><th scope=col>x3</th><th scope=col>outcome.predicted</th></tr></thead>\n",
       "<tbody>\n",
       "\t<tr><td>5.5     </td><td>7.5     </td><td>B       </td><td>2.906694</td></tr>\n",
       "</tbody>\n",
       "</table>\n"
      ],
      "text/latex": [
       "\\begin{tabular}{r|llll}\n",
       " x1 & x2 & x3 & outcome.predicted\\\\\n",
       "\\hline\n",
       "\t 5.5      & 7.5      & B        & 2.906694\\\\\n",
       "\\end{tabular}\n"
      ],
      "text/markdown": [
       "\n",
       "| x1 | x2 | x3 | outcome.predicted |\n",
       "|---|---|---|---|\n",
       "| 5.5      | 7.5      | B        | 2.906694 |\n",
       "\n"
      ],
      "text/plain": [
       "  x1  x2  x3 outcome.predicted\n",
       "1 5.5 7.5 B  2.906694         "
      ]
     },
     "metadata": {},
     "output_type": "display_data"
    },
    {
     "data": {
      "image/png": "[encoded data removed]",
      "text/plain": [
       "plot without title"
      ]
     },
     "metadata": {},
     "output_type": "display_data"
    }
   ],
   "source": []
  },
  {
   "cell_type": "markdown",
   "metadata": {},
   "source": [
    "## Problem 4: Complex Linear Regression\n",
    "\n",
    "Construct a linear regression model to predict log outcome given 3rd degree polynomial in x1, 3rd degree polynomial in x2, log x1, log x2, and x3 (converted to dummy variables as required).<br>\n",
    "Show the model intercept and coefficient(s).<br>\n",
    "Show the predicted outcome (not predcited log outcome) of the new observation.<br>\n",
    "Show the actual data, predicted outcomes (not predicted log outcomes) of the data, and predicted outcome (not predicted log outcome) of the new observation, as 2 scatterplots: outcome vs. x1, and outcome vs. x2.\n",
    "\n",
    "You may want to use these function(s):\n",
    "* lm()\n",
    "* poly()\n",
    "* log()\n",
    "* exp()\n",
    "* predict()"
   ]
  },
  {
   "cell_type": "code",
   "execution_count": 8,
   "metadata": {},
   "outputs": [
    {
     "data": {
      "text/html": [
       "<table>\n",
       "<thead><tr><th></th><th scope=col>model.3.coefficients</th></tr></thead>\n",
       "<tbody>\n",
       "\t<tr><th scope=row>(Intercept)</th><td>-1.90513976</td></tr>\n",
       "\t<tr><th scope=row>poly(x1, 3, raw = TRUE)1</th><td>-1.77130106</td></tr>\n",
       "\t<tr><th scope=row>poly(x1, 3, raw = TRUE)2</th><td> 0.23473948</td></tr>\n",
       "\t<tr><th scope=row>poly(x1, 3, raw = TRUE)3</th><td>-0.01018167</td></tr>\n",
       "\t<tr><th scope=row>poly(x2, 3, raw = TRUE)1</th><td> 6.25099483</td></tr>\n",
       "\t<tr><th scope=row>poly(x2, 3, raw = TRUE)2</th><td>-0.82657108</td></tr>\n",
       "\t<tr><th scope=row>poly(x2, 3, raw = TRUE)3</th><td> 0.03951503</td></tr>\n",
       "\t<tr><th scope=row>log(x1)</th><td> 1.36647924</td></tr>\n",
       "\t<tr><th scope=row>log(x2)</th><td>-6.35670531</td></tr>\n",
       "\t<tr><th scope=row>x3B</th><td>-0.26888648</td></tr>\n",
       "\t<tr><th scope=row>x3C</th><td> 0.03912707</td></tr>\n",
       "\t<tr><th scope=row>x3D</th><td> 0.46357854</td></tr>\n",
       "</tbody>\n",
       "</table>\n"
      ],
      "text/latex": [
       "\\begin{tabular}{r|l}\n",
       "  & model.3.coefficients\\\\\n",
       "\\hline\n",
       "\t(Intercept) & -1.90513976\\\\\n",
       "\tpoly(x1, 3, raw = TRUE)1 & -1.77130106\\\\\n",
       "\tpoly(x1, 3, raw = TRUE)2 &  0.23473948\\\\\n",
       "\tpoly(x1, 3, raw = TRUE)3 & -0.01018167\\\\\n",
       "\tpoly(x2, 3, raw = TRUE)1 &  6.25099483\\\\\n",
       "\tpoly(x2, 3, raw = TRUE)2 & -0.82657108\\\\\n",
       "\tpoly(x2, 3, raw = TRUE)3 &  0.03951503\\\\\n",
       "\tlog(x1) &  1.36647924\\\\\n",
       "\tlog(x2) & -6.35670531\\\\\n",
       "\tx3B & -0.26888648\\\\\n",
       "\tx3C &  0.03912707\\\\\n",
       "\tx3D &  0.46357854\\\\\n",
       "\\end{tabular}\n"
      ],
      "text/markdown": [
       "\n",
       "| <!--/--> | model.3.coefficients |\n",
       "|---|---|\n",
       "| (Intercept) | -1.90513976 |\n",
       "| poly(x1, 3, raw = TRUE)1 | -1.77130106 |\n",
       "| poly(x1, 3, raw = TRUE)2 |  0.23473948 |\n",
       "| poly(x1, 3, raw = TRUE)3 | -0.01018167 |\n",
       "| poly(x2, 3, raw = TRUE)1 |  6.25099483 |\n",
       "| poly(x2, 3, raw = TRUE)2 | -0.82657108 |\n",
       "| poly(x2, 3, raw = TRUE)3 |  0.03951503 |\n",
       "| log(x1) |  1.36647924 |\n",
       "| log(x2) | -6.35670531 |\n",
       "| x3B | -0.26888648 |\n",
       "| x3C |  0.03912707 |\n",
       "| x3D |  0.46357854 |\n",
       "\n"
      ],
      "text/plain": [
       "                         model.3.coefficients\n",
       "(Intercept)              -1.90513976         \n",
       "poly(x1, 3, raw = TRUE)1 -1.77130106         \n",
       "poly(x1, 3, raw = TRUE)2  0.23473948         \n",
       "poly(x1, 3, raw = TRUE)3 -0.01018167         \n",
       "poly(x2, 3, raw = TRUE)1  6.25099483         \n",
       "poly(x2, 3, raw = TRUE)2 -0.82657108         \n",
       "poly(x2, 3, raw = TRUE)3  0.03951503         \n",
       "log(x1)                   1.36647924         \n",
       "log(x2)                  -6.35670531         \n",
       "x3B                      -0.26888648         \n",
       "x3C                       0.03912707         \n",
       "x3D                       0.46357854         "
      ]
     },
     "metadata": {},
     "output_type": "display_data"
    },
    {
     "data": {
      "text/html": [
       "<table>\n",
       "<thead><tr><th scope=col>x1</th><th scope=col>x2</th><th scope=col>x3</th><th scope=col>outcome.predicted</th></tr></thead>\n",
       "<tbody>\n",
       "\t<tr><td>5.5     </td><td>7.5     </td><td>B       </td><td>1.072841</td></tr>\n",
       "</tbody>\n",
       "</table>\n"
      ],
      "text/latex": [
       "\\begin{tabular}{r|llll}\n",
       " x1 & x2 & x3 & outcome.predicted\\\\\n",
       "\\hline\n",
       "\t 5.5      & 7.5      & B        & 1.072841\\\\\n",
       "\\end{tabular}\n"
      ],
      "text/markdown": [
       "\n",
       "| x1 | x2 | x3 | outcome.predicted |\n",
       "|---|---|---|---|\n",
       "| 5.5      | 7.5      | B        | 1.072841 |\n",
       "\n"
      ],
      "text/plain": [
       "  x1  x2  x3 outcome.predicted\n",
       "1 5.5 7.5 B  1.072841         "
      ]
     },
     "metadata": {},
     "output_type": "display_data"
    },
    {
     "data": {
      "image/png": "[encoded data removed]",
      "text/plain": [
       "plot without title"
      ]
     },
     "metadata": {},
     "output_type": "display_data"
    }
   ],
   "source": []
  },
  {
   "cell_type": "markdown",
   "metadata": {},
   "source": [
    "## Problem 5: Support Vector Regression\n",
    "\n",
    "Construct a regression model using the support vector machine method to predict outcome given all other variables.  To ensure consistent results, prefix with set.seed(12345).<br>\n",
    "Use these hyper-parameter settings:<br>\n",
    "* scale=TRUE\n",
    "* type=\"eps-regression\"\n",
    "* kernel=\"radial\"\n",
    "* gamma=1\n",
    "* cost=1\n",
    "\n",
    "Show the predicted outcome of the new observation.<br>\n",
    "Show the actual data, predicted outcomes of the data, and predicted outcome of the new observation, as 2 scatterplots: outcome vs. x1, and outcome vs. x2.\n",
    "\n",
    "You may want to use these function(s):\n",
    "* set.seed()\n",
    "* svm()\n",
    "* predict()"
   ]
  },
  {
   "cell_type": "code",
   "execution_count": 9,
   "metadata": {},
   "outputs": [
    {
     "data": {
      "text/html": [
       "<table>\n",
       "<thead><tr><th scope=col>x1</th><th scope=col>x2</th><th scope=col>x3</th><th scope=col>outcome.predicted</th></tr></thead>\n",
       "<tbody>\n",
       "\t<tr><td>5.5     </td><td>7.5     </td><td>B       </td><td>4.413205</td></tr>\n",
       "</tbody>\n",
       "</table>\n"
      ],
      "text/latex": [
       "\\begin{tabular}{r|llll}\n",
       " x1 & x2 & x3 & outcome.predicted\\\\\n",
       "\\hline\n",
       "\t 5.5      & 7.5      & B        & 4.413205\\\\\n",
       "\\end{tabular}\n"
      ],
      "text/markdown": [
       "\n",
       "| x1 | x2 | x3 | outcome.predicted |\n",
       "|---|---|---|---|\n",
       "| 5.5      | 7.5      | B        | 4.413205 |\n",
       "\n"
      ],
      "text/plain": [
       "  x1  x2  x3 outcome.predicted\n",
       "1 5.5 7.5 B  4.413205         "
      ]
     },
     "metadata": {},
     "output_type": "display_data"
    },
    {
     "data": {
      "image/png": "[encoded data removed]",
      "text/plain": [
       "plot without title"
      ]
     },
     "metadata": {},
     "output_type": "display_data"
    }
   ],
   "source": []
  },
  {
   "cell_type": "markdown",
   "metadata": {},
   "source": [
    "## Problem 6: Regression by Neural Network\n",
    "\n",
    "Construct a regression model using the neural network method to predict outcome given all other variables. To ensure consistent results, prefix with set.seed(12345).<br>\n",
    "Use these hyper-parameter settings:\n",
    "* hidden=3\n",
    "* algorithm=\"rprop+\"\n",
    "* rep=1\n",
    "* act.fct=\"logistic\"\n",
    "\n",
    "Remember to use the regression form of the function.<br>\n",
    "Show a diagram of the neural network with connections and weights.<br>\n",
    "Show the actual data, predicted outcomes of the data, and predicted outcome of the new observation, as 2 scatterplots: outcome vs. x1, and outcome vs. x2.\n",
    "\n",
    "You may want to use these function(s):\n",
    "* set.seed()\n",
    "* neuralnet()\n",
    "* plot()\n",
    "* as.vector()\n",
    "* compute()"
   ]
  },
  {
   "cell_type": "code",
   "execution_count": 10,
   "metadata": {
    "scrolled": false
   },
   "outputs": [
    {
     "data": {
      "image/png": "[encoded data removed]",
      "text/plain": [
       "plot without title"
      ]
     },
     "metadata": {},
     "output_type": "display_data"
    }
   ],
   "source": []
  },
  {
   "cell_type": "code",
   "execution_count": 11,
   "metadata": {
    "scrolled": false
   },
   "outputs": [
    {
     "data": {
      "text/html": [
       "<table>\n",
       "<thead><tr><th scope=col>x1</th><th scope=col>x2</th><th scope=col>x3</th><th scope=col>outcome.predicted</th></tr></thead>\n",
       "<tbody>\n",
       "\t<tr><td>5.5      </td><td>7.5      </td><td>B        </td><td>0.9268674</td></tr>\n",
       "</tbody>\n",
       "</table>\n"
      ],
      "text/latex": [
       "\\begin{tabular}{r|llll}\n",
       " x1 & x2 & x3 & outcome.predicted\\\\\n",
       "\\hline\n",
       "\t 5.5       & 7.5       & B         & 0.9268674\\\\\n",
       "\\end{tabular}\n"
      ],
      "text/markdown": [
       "\n",
       "| x1 | x2 | x3 | outcome.predicted |\n",
       "|---|---|---|---|\n",
       "| 5.5       | 7.5       | B         | 0.9268674 |\n",
       "\n"
      ],
      "text/plain": [
       "  x1  x2  x3 outcome.predicted\n",
       "1 5.5 7.5 B  0.9268674        "
      ]
     },
     "metadata": {},
     "output_type": "display_data"
    },
    {
     "data": {
      "image/png": "[encoded data removed]",
      "text/plain": [
       "plot without title"
      ]
     },
     "metadata": {},
     "output_type": "display_data"
    }
   ],
   "source": []
  },
  {
   "cell_type": "markdown",
   "metadata": {},
   "source": [
    "<font size=1;>\n",
    "<p style=\"text-align: left;\">\n",
    "Copyright (c) Berkeley Data Analytics Group, LLC\n",
    "<span style=\"float: right;\">\n",
    "Document revised April 12, 2020\n",
    "</span>\n",
    "</p>\n",
    "</font>"
   ]
  }
 ],
 "metadata": {
  "hide_code_all_hidden": false,
  "hide_input": false,
  "kernelspec": {
   "display_name": "R",
   "language": "R",
   "name": "ir"
  },
  "language_info": {
   "codemirror_mode": "r",
   "file_extension": ".r",
   "mimetype": "text/x-r-source",
   "name": "R",
   "pygments_lexer": "r",
   "version": "3.6.1"
  },
  "toc": {
   "base_numbering": 1,
   "nav_menu": {},
   "number_sections": false,
   "sideBar": true,
   "skip_h1_title": true,
   "title_cell": "Table of Contents",
   "title_sidebar": "Contents",
   "toc_cell": false,
   "toc_position": {},
   "toc_section_display": true,
   "toc_window_display": true
  }
 },
 "nbformat": 4,
 "nbformat_minor": 2
}
