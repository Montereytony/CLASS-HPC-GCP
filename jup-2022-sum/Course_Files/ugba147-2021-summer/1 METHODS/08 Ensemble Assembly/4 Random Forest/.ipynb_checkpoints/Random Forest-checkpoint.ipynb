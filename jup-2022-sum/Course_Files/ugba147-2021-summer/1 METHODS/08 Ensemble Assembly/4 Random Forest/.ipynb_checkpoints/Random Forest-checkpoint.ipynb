{
 "cells": [
  {
   "cell_type": "markdown",
   "metadata": {
    "hideCode": false,
    "hidePrompt": false
   },
   "source": [
    "# Random Forest\n",
    "\n",
    "![](banner_random_forest.jpg)\n",
    "\n",
    "_<p style=\"text-align: center;\"> A committee of myopic experts determines the winner. </p>_ "
   ]
  },
  {
   "cell_type": "code",
   "execution_count": 1,
   "metadata": {
    "hide_input": true
   },
   "outputs": [
    {
     "data": {
      "text/html": [
       "<p style=\"text-align:center; font-size:10px;\">\n",
       ".................................................... start of document ....................................................\n",
       "</p>"
      ]
     },
     "metadata": {},
     "output_type": "display_data"
    }
   ],
   "source": [
    "f = \"setup.R\"; for (i in 1:10) { if (file.exists(f)) break else f = paste0(\"../\", f) }; source(f)"
   ]
  },
  {
   "cell_type": "markdown",
   "metadata": {},
   "source": [
    "**Re-write this to be more detailed about how random forest works with randomly selected variables.**\n",
    "\n",
    "An ensemble method is a model construction method that combines several predictive models to build a new predictive model.\n",
    "\n",
    "**Random forest** combines models built using the decision tree method, a single set of hyper-parameter values, different variable samples, and different data samples.\n",
    "\n",
    "The **random forest** method is bootstrap aggregation applied to a modified decision tree classifier construction method.  The modification is to use different randomly selected subsets of the predictor variables at various stages of tree construction, rather than use all predictor variables at all stages of tree construction.   "
   ]
  },
  {
   "cell_type": "markdown",
   "metadata": {},
   "source": [
    "## Introduction\n",
    "\n",
    "Motivation, context, history, related topics ..."
   ]
  },
  {
   "cell_type": "markdown",
   "metadata": {},
   "source": [
    "## Terms"
   ]
  },
  {
   "cell_type": "markdown",
   "metadata": {},
   "source": [
    "## Data"
   ]
  },
  {
   "cell_type": "code",
   "execution_count": 2,
   "metadata": {
    "hideCode": false,
    "hidePrompt": false,
    "hide_input": true,
    "run_control": {
     "marked": false
    },
    "scrolled": false
   },
   "outputs": [
    {
     "data": {
      "text/html": [
       "<table>\n",
       "<thead><tr><th scope=col>observations</th><th scope=col>variables</th></tr></thead>\n",
       "<tbody>\n",
       "\t<tr><td>72</td><td>3 </td></tr>\n",
       "</tbody>\n",
       "</table>\n"
      ],
      "text/latex": [
       "\\begin{tabular}{r|ll}\n",
       " observations & variables\\\\\n",
       "\\hline\n",
       "\t 72 & 3 \\\\\n",
       "\\end{tabular}\n"
      ],
      "text/markdown": [
       "\n",
       "| observations | variables |\n",
       "|---|---|\n",
       "| 72 | 3  |\n",
       "\n"
      ],
      "text/plain": [
       "  observations variables\n",
       "1 72           3        "
      ]
     },
     "metadata": {},
     "output_type": "display_data"
    },
    {
     "data": {
      "image/png": "[encoded data removed]",
      "text/plain": [
       "plot without title"
      ]
     },
     "metadata": {},
     "output_type": "display_data"
    }
   ],
   "source": [
    "data = data.frame(x1=c(1,2,3,4,3,2,5,4,3,2,5,3,3,2,3,1,1,5,4,1,5,1,0,0,1,2,2,5,1,3,1,2,3,4,5,6,3,2,6,5,4,5,3,8,9,0,0,9,7,4,5,5,4,5,6,6,9,8,7,7,8,8,9,9,7,7,5,5,8,8,9,8),\n",
    "                  x2=c(3,2,6,5,4,5,3,8,9,0,0,9,7,4,5,5,4,5,6,3,2,4,3,5,4,6,5,1,2,3,4,5,4,3,4,8,1,2,3,4,3,2,5,4,3,6,5,3,3,2,3,6,7,5,4,6,5,7,8,9,8,7,6,5,7,3,1,2,3,4,5,6),\n",
    "                  class=c(\"A\",\"A\",\"A\",\"A\",\"A\",\"A\",\"A\",\"A\",\"A\",\"A\",\"A\",\"A\",\"A\",\"A\",\"A\",\"A\",\"A\",\"A\",\"A\",\"A\",\"A\",\"A\",\"A\",\"A\",\"A\",\"A\",\"A\",\"A\",\"A\",\"A\",\"A\",\"A\",\"A\",\"A\",\"A\",\"A\",\"B\",\"B\",\"B\",\"B\",\"B\",\"B\",\"B\",\"B\",\"B\",\"B\",\"B\",\"B\",\"B\",\"B\",\"B\",\"B\",\"B\",\"B\",\"B\",\"B\",\"B\",\"B\",\"B\",\"B\",\"B\",\"B\",\"B\",\"B\",\"B\",\"B\",\"B\",\"B\",\"B\",\"B\",\"B\",\"B\"))\n",
    "new = data.frame(x1=5.2, x2=4)\n",
    "\n",
    "size(data)\n",
    "ggplot(data) +\n",
    "geom_jitter(aes(x=x1, y=x2, color=class), position = position_jitter(height=0.3, width=0.03)) +\n",
    "geom_point(aes(x=x1, y=x2), data=new) + \n",
    "scale_color_manual(values=PALETTE)"
   ]
  },
  {
   "cell_type": "markdown",
   "metadata": {},
   "source": [
    "## Model Based on Original Data\n",
    "Here we consider a decision tree model based on the original data.  We use the model to predict the class of a new observation."
   ]
  },
  {
   "cell_type": "code",
   "execution_count": 3,
   "metadata": {
    "hide_input": true,
    "scrolled": false
   },
   "outputs": [
    {
     "data": {
      "text/html": [
       "<table>\n",
       "<thead><tr><th scope=col>A</th><th scope=col>B</th></tr></thead>\n",
       "<tbody>\n",
       "\t<tr><td>0.4615385</td><td>0.5384615</td></tr>\n",
       "</tbody>\n",
       "</table>\n"
      ],
      "text/latex": [
       "\\begin{tabular}{r|ll}\n",
       " A & B\\\\\n",
       "\\hline\n",
       "\t 0.4615385 & 0.5384615\\\\\n",
       "\\end{tabular}\n"
      ],
      "text/markdown": [
       "\n",
       "| A | B |\n",
       "|---|---|\n",
       "| 0.4615385 | 0.5384615 |\n",
       "\n"
      ],
      "text/plain": [
       "  A         B        \n",
       "1 0.4615385 0.5384615"
      ]
     },
     "metadata": {},
     "output_type": "display_data"
    },
    {
     "data": {
      "text/html": [
       "<table>\n",
       "<thead><tr><th scope=col>x1</th><th scope=col>x2</th><th scope=col>class.predicted</th></tr></thead>\n",
       "<tbody>\n",
       "\t<tr><td>5.2</td><td>4  </td><td>B  </td></tr>\n",
       "</tbody>\n",
       "</table>\n"
      ],
      "text/latex": [
       "\\begin{tabular}{r|lll}\n",
       " x1 & x2 & class.predicted\\\\\n",
       "\\hline\n",
       "\t 5.2 & 4   & B  \\\\\n",
       "\\end{tabular}\n"
      ],
      "text/markdown": [
       "\n",
       "| x1 | x2 | class.predicted |\n",
       "|---|---|---|\n",
       "| 5.2 | 4   | B   |\n",
       "\n"
      ],
      "text/plain": [
       "  x1  x2 class.predicted\n",
       "1 5.2 4  B              "
      ]
     },
     "metadata": {},
     "output_type": "display_data"
    },
    {
     "data": {
      "image/png": "[encoded data removed]",
      "text/plain": [
       "plot without title"
      ]
     },
     "metadata": {},
     "output_type": "display_data"
    }
   ],
   "source": [
    "model = rpart(class ~ x1+x2, data, method=\"class\")\n",
    "prob = predict(model, new, type=\"prob\")\n",
    "class.predicted = as.class(prob, \"A\", cutoff=0.5)\n",
    "\n",
    "prob\n",
    "data.frame(new, class.predicted)\n",
    "\n",
    "output_size(2.5,2.5)\n",
    "ggtree(model) + scale_fill_manual(values=PALETTE)\n",
    "output_size(restore)"
   ]
  },
  {
   "cell_type": "markdown",
   "metadata": {},
   "source": [
    "## Bootstrap Aggregating (Bagging)\n",
    "\n",
    "\n",
    "Build a model comprising other constituent models, which are all built using a single predictive analytic method and set of hyper-parameter settings, but based on different bootstrap samples of the data.  The ensemble model makes predictions based on the most popular of the constituent models' predictions.\n",
    "\n",
    "You can think of a bootstrap aggregated model as a committee of experts.  Each expert has studied a particular field of knowledge, different from (but possibly overlapping with) those that the other experts have studied. \n",
    "\n",
    "Bootstrap aggregating is also known as \"bagging\".  "
   ]
  },
  {
   "cell_type": "markdown",
   "metadata": {},
   "source": [
    "### Bootstrap Samples\n",
    "\n",
    "A bootstrap sample of data is a set of randomly selected observations from that data, with replacement allowed.  The size of the bootstrap sample is the same as the size of the data.  So, the number of observations in the bootstrap sample is the same as the number of observations in the data.  Usually, many of the observations in the bootstrap sample are duplicates of each other. \n",
    "\n",
    "Here we take 3 different bootstrap samples of the data."
   ]
  },
  {
   "cell_type": "code",
   "execution_count": 4,
   "metadata": {
    "hide_input": true
   },
   "outputs": [],
   "source": [
    "set.seed(12345)\n",
    "data.1 = sample_n(data, nrow(data), replace=TRUE)\n",
    "data.2 = sample_n(data, nrow(data), replace=TRUE)\n",
    "data.3 = sample_n(data, nrow(data), replace=TRUE)"
   ]
  },
  {
   "cell_type": "code",
   "execution_count": 5,
   "metadata": {
    "hide_input": true,
    "scrolled": false
   },
   "outputs": [
    {
     "data": {
      "image/png": "[encoded data removed]",
      "text/plain": [
       "plot without title"
      ]
     },
     "metadata": {},
     "output_type": "display_data"
    }
   ],
   "source": [
    "ggplot(data.1) + ggtitle(\"Dataset #1\") +\n",
    "geom_jitter(aes(x=x1, y=x2, color=class), position = position_jitter(height=0.3, width=0.03))"
   ]
  },
  {
   "cell_type": "code",
   "execution_count": 6,
   "metadata": {
    "hide_input": true
   },
   "outputs": [
    {
     "data": {
      "image/png": "[encoded data removed]",
      "text/plain": [
       "plot without title"
      ]
     },
     "metadata": {},
     "output_type": "display_data"
    }
   ],
   "source": [
    "ggplot(data.2) + ggtitle(\"Dataset #2\") +\n",
    "geom_jitter(aes(x=x1, y=x2, color=class), position = position_jitter(height=0.3, width=0.03))"
   ]
  },
  {
   "cell_type": "code",
   "execution_count": 7,
   "metadata": {
    "hide_input": true
   },
   "outputs": [
    {
     "data": {
      "image/png": "[encoded data removed]",
      "text/plain": [
       "plot without title"
      ]
     },
     "metadata": {},
     "output_type": "display_data"
    }
   ],
   "source": [
    "ggplot(data.3) + ggtitle(\"Dataset #3\") +\n",
    "geom_jitter(aes(x=x1, y=x2, color=class), position = position_jitter(height=0.3, width=0.03))"
   ]
  },
  {
   "cell_type": "markdown",
   "metadata": {},
   "source": [
    "### Models Based on Bootstrap Samples\n",
    "\n",
    "We can build several models, using the same method and hyper-parameters, but based on the different bootstrap samples of data.  Each model is an \"expert\" on the particular subset of data represented in the bootstrap sample on which it is based.\n",
    "\n",
    "Here we build 3 different such models and use them to make 3 different predictions of the class of a new observation."
   ]
  },
  {
   "cell_type": "markdown",
   "metadata": {},
   "source": [
    "Model 1:"
   ]
  },
  {
   "cell_type": "code",
   "execution_count": 8,
   "metadata": {
    "hide_input": true
   },
   "outputs": [
    {
     "data": {
      "image/png": "[encoded data removed]",
      "text/plain": [
       "plot without title"
      ]
     },
     "metadata": {},
     "output_type": "display_data"
    }
   ],
   "source": [
    "model.1 = rpart(class ~ x1+x2, data.1, method=\"class\")\n",
    "\n",
    "output_size(2.5,2.5)\n",
    "ggtree(model.1) + scale_fill_manual(values=PALETTE)\n",
    "output_size(restore)"
   ]
  },
  {
   "cell_type": "markdown",
   "metadata": {},
   "source": [
    "Model 2:"
   ]
  },
  {
   "cell_type": "code",
   "execution_count": 9,
   "metadata": {
    "hide_input": true
   },
   "outputs": [
    {
     "data": {
      "image/png": "[encoded data removed]",
      "text/plain": [
       "plot without title"
      ]
     },
     "metadata": {},
     "output_type": "display_data"
    }
   ],
   "source": [
    "model.2 = rpart(class ~ x1+x2, data.2, method=\"class\")\n",
    "\n",
    "output_size(2.5,2.5)\n",
    "ggtree(model.2) + scale_fill_manual(values=PALETTE)\n",
    "output_size(restore)"
   ]
  },
  {
   "cell_type": "markdown",
   "metadata": {},
   "source": [
    "Model 3:"
   ]
  },
  {
   "cell_type": "code",
   "execution_count": 10,
   "metadata": {
    "hide_input": true
   },
   "outputs": [
    {
     "data": {
      "image/png": "[encoded data removed]",
      "text/plain": [
       "plot without title"
      ]
     },
     "metadata": {},
     "output_type": "display_data"
    }
   ],
   "source": [
    "model.3 = rpart(class ~ x1+x2, data.3, method=\"class\")\n",
    "\n",
    "output_size(2.5,2.5)\n",
    "ggtree(model.3) + scale_fill_manual(values=PALETTE)\n",
    "output_size(restore)"
   ]
  },
  {
   "cell_type": "markdown",
   "metadata": {},
   "source": [
    "#### Predictions"
   ]
  },
  {
   "cell_type": "markdown",
   "metadata": {},
   "source": [
    "New observation's class predicted by Model 1: "
   ]
  },
  {
   "cell_type": "code",
   "execution_count": 11,
   "metadata": {
    "hide_input": true
   },
   "outputs": [
    {
     "data": {
      "text/html": [
       "<table>\n",
       "<thead><tr><th scope=col>A</th><th scope=col>B</th></tr></thead>\n",
       "<tbody>\n",
       "\t<tr><td>0.2058824</td><td>0.7941176</td></tr>\n",
       "</tbody>\n",
       "</table>\n"
      ],
      "text/latex": [
       "\\begin{tabular}{r|ll}\n",
       " A & B\\\\\n",
       "\\hline\n",
       "\t 0.2058824 & 0.7941176\\\\\n",
       "\\end{tabular}\n"
      ],
      "text/markdown": [
       "\n",
       "| A | B |\n",
       "|---|---|\n",
       "| 0.2058824 | 0.7941176 |\n",
       "\n"
      ],
      "text/plain": [
       "  A         B        \n",
       "1 0.2058824 0.7941176"
      ]
     },
     "metadata": {},
     "output_type": "display_data"
    },
    {
     "data": {
      "text/html": [
       "<table>\n",
       "<thead><tr><th scope=col>x1</th><th scope=col>x2</th><th scope=col>class.predicted.1</th></tr></thead>\n",
       "<tbody>\n",
       "\t<tr><td>5.2</td><td>4  </td><td>B  </td></tr>\n",
       "</tbody>\n",
       "</table>\n"
      ],
      "text/latex": [
       "\\begin{tabular}{r|lll}\n",
       " x1 & x2 & class.predicted.1\\\\\n",
       "\\hline\n",
       "\t 5.2 & 4   & B  \\\\\n",
       "\\end{tabular}\n"
      ],
      "text/markdown": [
       "\n",
       "| x1 | x2 | class.predicted.1 |\n",
       "|---|---|---|\n",
       "| 5.2 | 4   | B   |\n",
       "\n"
      ],
      "text/plain": [
       "  x1  x2 class.predicted.1\n",
       "1 5.2 4  B                "
      ]
     },
     "metadata": {},
     "output_type": "display_data"
    }
   ],
   "source": [
    "prob.1 = predict(model.1, new, type=\"prob\")\n",
    "class.predicted.1 = as.class(prob.1, \"A\", cutoff=0.5)\n",
    "\n",
    "prob.1\n",
    "data.frame(new, class.predicted.1)"
   ]
  },
  {
   "cell_type": "markdown",
   "metadata": {},
   "source": [
    "New observation's class predicted by Model 2: "
   ]
  },
  {
   "cell_type": "code",
   "execution_count": 12,
   "metadata": {
    "hide_input": true
   },
   "outputs": [
    {
     "data": {
      "text/html": [
       "<table>\n",
       "<thead><tr><th scope=col>A</th><th scope=col>B</th></tr></thead>\n",
       "<tbody>\n",
       "\t<tr><td>0.9166667 </td><td>0.08333333</td></tr>\n",
       "</tbody>\n",
       "</table>\n"
      ],
      "text/latex": [
       "\\begin{tabular}{r|ll}\n",
       " A & B\\\\\n",
       "\\hline\n",
       "\t 0.9166667  & 0.08333333\\\\\n",
       "\\end{tabular}\n"
      ],
      "text/markdown": [
       "\n",
       "| A | B |\n",
       "|---|---|\n",
       "| 0.9166667  | 0.08333333 |\n",
       "\n"
      ],
      "text/plain": [
       "  A         B         \n",
       "1 0.9166667 0.08333333"
      ]
     },
     "metadata": {},
     "output_type": "display_data"
    },
    {
     "data": {
      "text/html": [
       "<table>\n",
       "<thead><tr><th scope=col>x1</th><th scope=col>x2</th><th scope=col>class.predicted.2</th></tr></thead>\n",
       "<tbody>\n",
       "\t<tr><td>5.2</td><td>4  </td><td>A  </td></tr>\n",
       "</tbody>\n",
       "</table>\n"
      ],
      "text/latex": [
       "\\begin{tabular}{r|lll}\n",
       " x1 & x2 & class.predicted.2\\\\\n",
       "\\hline\n",
       "\t 5.2 & 4   & A  \\\\\n",
       "\\end{tabular}\n"
      ],
      "text/markdown": [
       "\n",
       "| x1 | x2 | class.predicted.2 |\n",
       "|---|---|---|\n",
       "| 5.2 | 4   | A   |\n",
       "\n"
      ],
      "text/plain": [
       "  x1  x2 class.predicted.2\n",
       "1 5.2 4  A                "
      ]
     },
     "metadata": {},
     "output_type": "display_data"
    }
   ],
   "source": [
    "prob.2 = predict(model.2, new, type=\"prob\")\n",
    "class.predicted.2 = as.class(prob.2, \"A\", cutoff=0.5)\n",
    "\n",
    "prob.2\n",
    "data.frame(new, class.predicted.2)"
   ]
  },
  {
   "cell_type": "markdown",
   "metadata": {},
   "source": [
    "New observation's class predicted by Model 3: "
   ]
  },
  {
   "cell_type": "code",
   "execution_count": 13,
   "metadata": {
    "hide_input": true
   },
   "outputs": [
    {
     "data": {
      "text/html": [
       "<table>\n",
       "<thead><tr><th scope=col>A</th><th scope=col>B</th></tr></thead>\n",
       "<tbody>\n",
       "\t<tr><td>0.75</td><td>0.25</td></tr>\n",
       "</tbody>\n",
       "</table>\n"
      ],
      "text/latex": [
       "\\begin{tabular}{r|ll}\n",
       " A & B\\\\\n",
       "\\hline\n",
       "\t 0.75 & 0.25\\\\\n",
       "\\end{tabular}\n"
      ],
      "text/markdown": [
       "\n",
       "| A | B |\n",
       "|---|---|\n",
       "| 0.75 | 0.25 |\n",
       "\n"
      ],
      "text/plain": [
       "  A    B   \n",
       "1 0.75 0.25"
      ]
     },
     "metadata": {},
     "output_type": "display_data"
    },
    {
     "data": {
      "text/html": [
       "<table>\n",
       "<thead><tr><th scope=col>x1</th><th scope=col>x2</th><th scope=col>class.predicted.3</th></tr></thead>\n",
       "<tbody>\n",
       "\t<tr><td>5.2</td><td>4  </td><td>A  </td></tr>\n",
       "</tbody>\n",
       "</table>\n"
      ],
      "text/latex": [
       "\\begin{tabular}{r|lll}\n",
       " x1 & x2 & class.predicted.3\\\\\n",
       "\\hline\n",
       "\t 5.2 & 4   & A  \\\\\n",
       "\\end{tabular}\n"
      ],
      "text/markdown": [
       "\n",
       "| x1 | x2 | class.predicted.3 |\n",
       "|---|---|---|\n",
       "| 5.2 | 4   | A   |\n",
       "\n"
      ],
      "text/plain": [
       "  x1  x2 class.predicted.3\n",
       "1 5.2 4  A                "
      ]
     },
     "metadata": {},
     "output_type": "display_data"
    }
   ],
   "source": [
    "prob.3 = predict(model.3, new, type=\"prob\")\n",
    "class.predicted.3 = as.class(prob.3, \"A\", cutoff=0.5)\n",
    "\n",
    "prob.3\n",
    "data.frame(new, class.predicted.3)"
   ]
  },
  {
   "cell_type": "markdown",
   "metadata": {},
   "source": [
    "#### Vote\n",
    "\n",
    "We can compare the predictions of models and vote for the most popular prediction.  \n",
    "\n",
    "Here models 1 and 2 predict that the class of the new observation is A, and model 3 predicts B.  The vote is 2 to 1 in favor of A, so the bootstrap aggregated model predicts A."
   ]
  },
  {
   "cell_type": "code",
   "execution_count": 14,
   "metadata": {
    "hide_input": true
   },
   "outputs": [
    {
     "data": {
      "text/html": [
       "<table>\n",
       "<thead><tr><th scope=col>class.predicted.1</th><th scope=col>class.predicted.2</th><th scope=col>class.predicted.3</th></tr></thead>\n",
       "<tbody>\n",
       "\t<tr><td>B</td><td>A</td><td>A</td></tr>\n",
       "</tbody>\n",
       "</table>\n"
      ],
      "text/latex": [
       "\\begin{tabular}{r|lll}\n",
       " class.predicted.1 & class.predicted.2 & class.predicted.3\\\\\n",
       "\\hline\n",
       "\t B & A & A\\\\\n",
       "\\end{tabular}\n"
      ],
      "text/markdown": [
       "\n",
       "| class.predicted.1 | class.predicted.2 | class.predicted.3 |\n",
       "|---|---|---|\n",
       "| B | A | A |\n",
       "\n"
      ],
      "text/plain": [
       "  class.predicted.1 class.predicted.2 class.predicted.3\n",
       "1 B                 A                 A                "
      ]
     },
     "metadata": {},
     "output_type": "display_data"
    }
   ],
   "source": [
    "data.frame(class.predicted.1, class.predicted.2, class.predicted.3)"
   ]
  },
  {
   "cell_type": "code",
   "execution_count": 15,
   "metadata": {
    "hide_input": true
   },
   "outputs": [
    {
     "data": {
      "text/html": [
       "<table>\n",
       "<thead><tr><th scope=col>class.predicted</th></tr></thead>\n",
       "<tbody>\n",
       "\t<tr><td>A</td></tr>\n",
       "</tbody>\n",
       "</table>\n"
      ],
      "text/latex": [
       "\\begin{tabular}{r|l}\n",
       " class.predicted\\\\\n",
       "\\hline\n",
       "\t A\\\\\n",
       "\\end{tabular}\n"
      ],
      "text/markdown": [
       "\n",
       "| class.predicted |\n",
       "|---|\n",
       "| A |\n",
       "\n"
      ],
      "text/plain": [
       "  class.predicted\n",
       "1 A              "
      ]
     },
     "metadata": {},
     "output_type": "display_data"
    }
   ],
   "source": [
    "data.frame(class.predicted=vote(class.predicted.1, class.predicted.2, class.predicted.3))"
   ]
  },
  {
   "cell_type": "markdown",
   "metadata": {},
   "source": [
    "## Random Forest"
   ]
  },
  {
   "cell_type": "markdown",
   "metadata": {},
   "source": [
    "The **random forest** method is bootstrap aggregation applied to a modified decision tree classification method.  The modification is to use different randomly selected subsets of the predictor variables at various stages of tree construction, rather than use all predictor variables at all stages of tree construction.   "
   ]
  },
  {
   "cell_type": "markdown",
   "metadata": {},
   "source": [
    "## Code"
   ]
  },
  {
   "cell_type": "markdown",
   "metadata": {},
   "source": [
    "### Useful Functions"
   ]
  },
  {
   "cell_type": "code",
   "execution_count": 16,
   "metadata": {},
   "outputs": [],
   "source": [
    "# vote # provided in apparatus code cell above\n",
    "# focus_data # provided in apparatus code cell above"
   ]
  },
  {
   "cell_type": "markdown",
   "metadata": {},
   "source": [
    "## Expectations\n",
    "\n",
    "Know about this:\n",
    "* How to bootstrap aggregate a classification method, conceptually and using R.\n",
    "* How to boost a classification method, conceptually and using R.\n",
    "* How to stack classification methods, conceptually and using R."
   ]
  },
  {
   "cell_type": "markdown",
   "metadata": {},
   "source": [
    "## Further Reading\n",
    "\n",
    "* http://ciml.info/dl/v0_99/ciml-v0_99-ch13.pdf\n",
    "* https://www.analyticsvidhya.com/blog/2015/11/quick-introduction-boosting-algorithms-machine-learning/\n",
    "* https://en.wikipedia.org/wiki/Ensemble_learning"
   ]
  },
  {
   "cell_type": "markdown",
   "metadata": {},
   "source": [
    "<p style=\"text-align:left; font-size:10px;\">\n",
    "Copyright (c) Berkeley Data Analytics Group, LLC\n",
    "<span style=\"float:right;\">\n",
    "Document revised July 17, 2020\n",
    "</span>\n",
    "</p>"
   ]
  }
 ],
 "metadata": {
  "hide_code_all_hidden": false,
  "hide_input": false,
  "kernelspec": {
   "display_name": "R",
   "language": "R",
   "name": "ir"
  },
  "language_info": {
   "codemirror_mode": "r",
   "file_extension": ".r",
   "mimetype": "text/x-r-source",
   "name": "R",
   "pygments_lexer": "r",
   "version": "3.6.1"
  },
  "toc": {
   "base_numbering": 1,
   "nav_menu": {},
   "number_sections": true,
   "sideBar": true,
   "skip_h1_title": true,
   "title_cell": "Table of Contents",
   "title_sidebar": "Contents",
   "toc_cell": false,
   "toc_position": {},
   "toc_section_display": true,
   "toc_window_display": false
  }
 },
 "nbformat": 4,
 "nbformat_minor": 2
}
