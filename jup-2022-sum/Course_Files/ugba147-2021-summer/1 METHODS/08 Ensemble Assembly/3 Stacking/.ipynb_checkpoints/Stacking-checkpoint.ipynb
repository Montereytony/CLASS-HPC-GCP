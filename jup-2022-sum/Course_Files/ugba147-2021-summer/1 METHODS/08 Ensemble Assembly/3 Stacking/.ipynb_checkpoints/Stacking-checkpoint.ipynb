{
 "cells": [
  {
   "cell_type": "markdown",
   "metadata": {
    "hideCode": false,
    "hidePrompt": false
   },
   "source": [
    "# Stacking\n",
    "\n",
    "![](banner_stacking.jpg)\n",
    "\n",
    "_<p style=\"text-align: center;\"> An expert on a committee of experts determines the winner. </p>_ \n"
   ]
  },
  {
   "cell_type": "code",
   "execution_count": 1,
   "metadata": {
    "hide_input": true
   },
   "outputs": [
    {
     "data": {
      "text/html": [
       "<p style=\"text-align:center; font-size:10px;\">\n",
       ".................................................... start of document ....................................................\n",
       "</p>"
      ]
     },
     "metadata": {},
     "output_type": "display_data"
    }
   ],
   "source": [
    "f = \"setup.R\"; for (i in 1:10) { if (file.exists(f)) break else f = paste0(\"../\", f) }; source(f)\n",
    "update_geom_defaults(\"segment\", list(size=0.2, colour=\"black\"))"
   ]
  },
  {
   "cell_type": "markdown",
   "metadata": {},
   "source": [
    "## Introduction\n",
    "\n",
    "An ensemble method is a model construction method that combines several predictive models to build a new predictive model.\n",
    "\n",
    "**Stacking** combines models built using different data analytic methods and/or hyper-parameter values, but a single dataset to transform the data representation, and then builds a new model using a different data analytic method and/or hyper-parameter values, and transformed data."
   ]
  },
  {
   "cell_type": "markdown",
   "metadata": {},
   "source": [
    "## Data\n",
    "\n",
    "Consider this pedagogical dataset and new unclassified observation.  The scatterplot shows the observations jittered to expose those with identical x1, x2 values."
   ]
  },
  {
   "cell_type": "code",
   "execution_count": 2,
   "metadata": {
    "hideCode": false,
    "hidePrompt": false,
    "hide_input": true,
    "run_control": {
     "marked": false
    },
    "scrolled": false
   },
   "outputs": [
    {
     "data": {
      "text/html": [
       "<table>\n",
       "<thead><tr><th scope=col>observations</th><th scope=col>variables</th></tr></thead>\n",
       "<tbody>\n",
       "\t<tr><td>72</td><td>3 </td></tr>\n",
       "</tbody>\n",
       "</table>\n"
      ],
      "text/latex": [
       "\\begin{tabular}{r|ll}\n",
       " observations & variables\\\\\n",
       "\\hline\n",
       "\t 72 & 3 \\\\\n",
       "\\end{tabular}\n"
      ],
      "text/markdown": [
       "\n",
       "| observations | variables |\n",
       "|---|---|\n",
       "| 72 | 3  |\n",
       "\n"
      ],
      "text/plain": [
       "  observations variables\n",
       "1 72           3        "
      ]
     },
     "metadata": {},
     "output_type": "display_data"
    },
    {
     "data": {
      "image/png": "[encoded data removed]",
      "text/plain": [
       "plot without title"
      ]
     },
     "metadata": {},
     "output_type": "display_data"
    }
   ],
   "source": [
    "data = data.frame(x1=c(1,2,3,4,3,2,5,4,3,2,5,3,3,2,3,1,1,5,4,1,5,1,0,0,1,2,2,5,1,3,1,2,3,4,5,6,3,2,6,5,4,5,3,8,9,0,0,9,7,4,5,5,4,5,6,6,9,8,7,7,8,8,9,9,7,7,5,5,8,8,9,8),\n",
    "                  x2=c(3,2,6,5,4,5,3,8,9,0,0,9,7,4,5,5,4,5,6,3,2,4,3,5,4,6,5,1,2,3,4,5,4,3,4,8,1,2,3,4,3,2,5,4,3,6,5,3,3,2,3,6,7,5,4,6,5,7,8,9,8,7,6,5,7,3,1,2,3,4,5,6),\n",
    "                  class=c(\"A\",\"A\",\"A\",\"A\",\"A\",\"A\",\"A\",\"A\",\"A\",\"A\",\"A\",\"A\",\"A\",\"A\",\"A\",\"A\",\"A\",\"A\",\"A\",\"A\",\"A\",\"A\",\"A\",\"A\",\"A\",\"A\",\"A\",\"A\",\"A\",\"A\",\"A\",\"A\",\"A\",\"A\",\"A\",\"A\",\"B\",\"B\",\"B\",\"B\",\"B\",\"B\",\"B\",\"B\",\"B\",\"B\",\"B\",\"B\",\"B\",\"B\",\"B\",\"B\",\"B\",\"B\",\"B\",\"B\",\"B\",\"B\",\"B\",\"B\",\"B\",\"B\",\"B\",\"B\",\"B\",\"B\",\"B\",\"B\",\"B\",\"B\",\"B\",\"B\"))\n",
    "new = data.frame(x1=5.2, x2=4)\n",
    "\n",
    "set.seed(0)\n",
    "size(data)\n",
    "ggplot(data) + ggtitle(\"Data\") +\n",
    "geom_jitter(aes(x=x1, y=x2, color=class), height=0.3, width=0.03) +\n",
    "geom_point(aes(x=x1, y=x2), data=new, color=NEW_COLOR)"
   ]
  },
  {
   "cell_type": "markdown",
   "metadata": {},
   "source": [
    "## Model Based on Original Data\n",
    "\n",
    "Here is a decision tree model built using the original dataset.  We can use the model to predict the class of the new observation."
   ]
  },
  {
   "cell_type": "code",
   "execution_count": 3,
   "metadata": {
    "hide_input": true,
    "scrolled": false
   },
   "outputs": [
    {
     "data": {
      "text/html": [
       "<table><tr><td style=\"background-color:white; vertical-align:top; padding-right:40px;\"><table>\n",
       "<caption><center><font color=\"black\"><b>probability</b></font></center></caption>\n",
       " <thead>\n",
       "  <tr>\n",
       "   <th style=\"text-align:right;background-color: #FFFFFF !important;\"> A </th>\n",
       "   <th style=\"text-align:right;background-color: #FFFFFF !important;\"> B </th>\n",
       "  </tr>\n",
       " </thead>\n",
       "<tbody>\n",
       "  <tr>\n",
       "   <td style=\"text-align:right;\"> 0.4615385 </td>\n",
       "   <td style=\"text-align:right;\"> 0.5384615 </td>\n",
       "  </tr>\n",
       "</tbody>\n",
       "</table></td><td style=\"background-color:white; vertical-align:top;\"><table>\n",
       "<caption><center><font color=\"black\"><b>new</b></font></center></caption>\n",
       " <thead>\n",
       "  <tr>\n",
       "   <th style=\"text-align:right;background-color: #FFFFFF !important;\"> x1 </th>\n",
       "   <th style=\"text-align:right;background-color: #FFFFFF !important;\"> x2 </th>\n",
       "   <th style=\"text-align:right;background-color: #FFFFFF !important;\"> class.predicted </th>\n",
       "  </tr>\n",
       " </thead>\n",
       "<tbody>\n",
       "  <tr>\n",
       "   <td style=\"text-align:right;\"> 5.2 </td>\n",
       "   <td style=\"text-align:right;\"> 4 </td>\n",
       "   <td style=\"text-align:right;\"> B </td>\n",
       "  </tr>\n",
       "</tbody>\n",
       "</table></td></tr></table>"
      ]
     },
     "metadata": {},
     "output_type": "display_data"
    },
    {
     "data": {
      "image/png": "[encoded data removed]",
      "text/plain": [
       "plot without title"
      ]
     },
     "metadata": {},
     "output_type": "display_data"
    }
   ],
   "source": [
    "model = rpart(class ~ x1+x2, data, method=\"class\")\n",
    "prob = predict(model, new, type=\"prob\")\n",
    "class.predicted = as.class(prob, \"A\", cutoff=0.5)\n",
    "\n",
    "layout(fmt(prob, \"probability\"), fmt(data.frame(new, class.predicted), \"new\"))\n",
    "\n",
    "ggtree(model) + ggtitle(\"Model\")"
   ]
  },
  {
   "cell_type": "markdown",
   "metadata": {},
   "source": [
    "## Stacking\n",
    "\n",
    "Build several models and make predictions.  Then build a new model based on the predictions that the other models would make about the original data.\n",
    "\n",
    "You can think of a stacked model as an expert about a committee of other experts. "
   ]
  },
  {
   "cell_type": "markdown",
   "metadata": {},
   "source": [
    "###  Models Based on Original Data\n",
    "\n",
    "Build several models, using different methods and/or different hyper-parameter values, but based on the same data."
   ]
  },
  {
   "cell_type": "code",
   "execution_count": 28,
   "metadata": {
    "hide_input": true
   },
   "outputs": [
    {
     "data": {
      "image/png": "[encoded data removed]",
      "text/plain": [
       "plot without title"
      ]
     },
     "metadata": {},
     "output_type": "display_data"
    }
   ],
   "source": [
    "ggplot(data) + ggtitle(\"Original Data\") +\n",
    "geom_jitter(aes(x=x1, y=x2, color=class), height=0.3, width=0.03)"
   ]
  },
  {
   "cell_type": "markdown",
   "metadata": {},
   "source": [
    "**Model #1**\n",
    "\n",
    "Here we build a decision tree model (with maximum depth 1):"
   ]
  },
  {
   "cell_type": "code",
   "execution_count": 29,
   "metadata": {
    "hide_input": true
   },
   "outputs": [
    {
     "data": {
      "image/png": "[encoded data removed]",
      "text/plain": [
       "plot without title"
      ]
     },
     "metadata": {},
     "output_type": "display_data"
    }
   ],
   "source": [
    "model.1 = rpart(class ~ x1+x2, data, method=\"class\", cp=0.2)\n",
    "ggtree(model.1)"
   ]
  },
  {
   "cell_type": "markdown",
   "metadata": {},
   "source": [
    "**Model #2**\n",
    "\n",
    "Here we build a naive Bayes model:"
   ]
  },
  {
   "cell_type": "code",
   "execution_count": 30,
   "metadata": {
    "hide_input": true
   },
   "outputs": [
    {
     "data": {
      "text/plain": [
       "\n",
       "Naive Bayes Classifier for Discrete Predictors\n",
       "\n",
       "Call:\n",
       "naiveBayes.default(x = X, y = Y, laplace = laplace)\n",
       "\n",
       "A-priori probabilities:\n",
       "Y\n",
       "  A   B \n",
       "0.5 0.5 \n",
       "\n",
       "Conditional probabilities:\n",
       "   x1\n",
       "Y       [,1]     [,2]\n",
       "  A 2.722222 1.614419\n",
       "  B 6.055556 2.460481\n",
       "\n",
       "   x2\n",
       "Y       [,1]     [,2]\n",
       "  A 4.333333 2.177810\n",
       "  B 4.527778 2.076895\n"
      ]
     },
     "metadata": {},
     "output_type": "display_data"
    }
   ],
   "source": [
    "model.2 = naiveBayes(class ~ x1+x2, data)\n",
    "model.2"
   ]
  },
  {
   "cell_type": "markdown",
   "metadata": {},
   "source": [
    "**Model #3**\n",
    "\n",
    "Here we build a support vector machine model:"
   ]
  },
  {
   "cell_type": "code",
   "execution_count": 31,
   "metadata": {
    "hide_input": true
   },
   "outputs": [
    {
     "data": {
      "text/plain": [
       "\n",
       "Call:\n",
       "svm(formula = class ~ x1 + x2, data = data, kernel = \"polynomial\", \n",
       "    cost = 0.1, probability = TRUE, scale = TRUE)\n",
       "\n",
       "\n",
       "Parameters:\n",
       "   SVM-Type:  C-classification \n",
       " SVM-Kernel:  polynomial \n",
       "       cost:  0.1 \n",
       "     degree:  3 \n",
       "     coef.0:  0 \n",
       "\n",
       "Number of Support Vectors:  56\n"
      ]
     },
     "metadata": {},
     "output_type": "display_data"
    }
   ],
   "source": [
    "set.seed(12345)\n",
    "model.3 = svm(class ~ x1+x2, data, kernel=\"polynomial\", cost=0.1, scale=TRUE, probability=TRUE)\n",
    "model.3"
   ]
  },
  {
   "cell_type": "markdown",
   "metadata": {
    "hide_input": true
   },
   "source": [
    "### Transformed Data\n",
    "\n",
    "The models make these predictions about the original dataset's observation classes: "
   ]
  },
  {
   "cell_type": "code",
   "execution_count": 32,
   "metadata": {
    "hide_input": true,
    "scrolled": true
   },
   "outputs": [
    {
     "data": {
      "text/html": [
       "<table>\n",
       "<caption><center><font color=\"black\"><b>first few observations of data</b></font></center></caption>\n",
       " <thead>\n",
       "  <tr>\n",
       "   <th style=\"text-align:right;background-color: #FFFFFF !important;\"> x1 </th>\n",
       "   <th style=\"text-align:right;background-color: #FFFFFF !important;\"> x2 </th>\n",
       "   <th style=\"text-align:right;background-color: #FFFFFF !important;\"> class </th>\n",
       "   <th style=\"text-align:right;background-color: #FFFFFF !important;\"> class.predicted.1 </th>\n",
       "   <th style=\"text-align:right;background-color: #FFFFFF !important;\"> class.predicted.2 </th>\n",
       "   <th style=\"text-align:right;background-color: #FFFFFF !important;\"> class.predicted.3 </th>\n",
       "  </tr>\n",
       " </thead>\n",
       "<tbody>\n",
       "  <tr>\n",
       "   <td style=\"text-align:right;\"> 1 </td>\n",
       "   <td style=\"text-align:right;\"> 3 </td>\n",
       "   <td style=\"text-align:right;\"> A </td>\n",
       "   <td style=\"text-align:right;\"> A </td>\n",
       "   <td style=\"text-align:right;\"> A </td>\n",
       "   <td style=\"text-align:right;\"> A </td>\n",
       "  </tr>\n",
       "  <tr>\n",
       "   <td style=\"text-align:right;\"> 2 </td>\n",
       "   <td style=\"text-align:right;\"> 2 </td>\n",
       "   <td style=\"text-align:right;\"> A </td>\n",
       "   <td style=\"text-align:right;\"> A </td>\n",
       "   <td style=\"text-align:right;\"> A </td>\n",
       "   <td style=\"text-align:right;\"> A </td>\n",
       "  </tr>\n",
       "  <tr>\n",
       "   <td style=\"text-align:right;\"> 3 </td>\n",
       "   <td style=\"text-align:right;\"> 6 </td>\n",
       "   <td style=\"text-align:right;\"> A </td>\n",
       "   <td style=\"text-align:right;\"> A </td>\n",
       "   <td style=\"text-align:right;\"> A </td>\n",
       "   <td style=\"text-align:right;\"> A </td>\n",
       "  </tr>\n",
       "  <tr>\n",
       "   <td style=\"text-align:right;\"> 4 </td>\n",
       "   <td style=\"text-align:right;\"> 5 </td>\n",
       "   <td style=\"text-align:right;\"> A </td>\n",
       "   <td style=\"text-align:right;\"> A </td>\n",
       "   <td style=\"text-align:right;\"> A </td>\n",
       "   <td style=\"text-align:right;\"> A </td>\n",
       "  </tr>\n",
       "  <tr>\n",
       "   <td style=\"text-align:right;\"> 3 </td>\n",
       "   <td style=\"text-align:right;\"> 4 </td>\n",
       "   <td style=\"text-align:right;\"> A </td>\n",
       "   <td style=\"text-align:right;\"> A </td>\n",
       "   <td style=\"text-align:right;\"> A </td>\n",
       "   <td style=\"text-align:right;\"> A </td>\n",
       "  </tr>\n",
       "  <tr>\n",
       "   <td style=\"text-align:right;\"> 2 </td>\n",
       "   <td style=\"text-align:right;\"> 5 </td>\n",
       "   <td style=\"text-align:right;\"> A </td>\n",
       "   <td style=\"text-align:right;\"> A </td>\n",
       "   <td style=\"text-align:right;\"> A </td>\n",
       "   <td style=\"text-align:right;\"> A </td>\n",
       "  </tr>\n",
       "  <tr>\n",
       "   <td style=\"text-align:right;\"> 5 </td>\n",
       "   <td style=\"text-align:right;\"> 3 </td>\n",
       "   <td style=\"text-align:right;\"> A </td>\n",
       "   <td style=\"text-align:right;\"> A </td>\n",
       "   <td style=\"text-align:right;\"> B </td>\n",
       "   <td style=\"text-align:right;\"> A </td>\n",
       "  </tr>\n",
       "  <tr>\n",
       "   <td style=\"text-align:right;\"> 4 </td>\n",
       "   <td style=\"text-align:right;\"> 8 </td>\n",
       "   <td style=\"text-align:right;\"> A </td>\n",
       "   <td style=\"text-align:right;\"> A </td>\n",
       "   <td style=\"text-align:right;\"> A </td>\n",
       "   <td style=\"text-align:right;\"> A </td>\n",
       "  </tr>\n",
       "  <tr>\n",
       "   <td style=\"text-align:right;\"> 3 </td>\n",
       "   <td style=\"text-align:right;\"> 9 </td>\n",
       "   <td style=\"text-align:right;\"> A </td>\n",
       "   <td style=\"text-align:right;\"> A </td>\n",
       "   <td style=\"text-align:right;\"> A </td>\n",
       "   <td style=\"text-align:right;\"> A </td>\n",
       "  </tr>\n",
       "  <tr>\n",
       "   <td style=\"text-align:right;\"> 2 </td>\n",
       "   <td style=\"text-align:right;\"> 0 </td>\n",
       "   <td style=\"text-align:right;\"> A </td>\n",
       "   <td style=\"text-align:right;\"> A </td>\n",
       "   <td style=\"text-align:right;\"> A </td>\n",
       "   <td style=\"text-align:right;\"> A </td>\n",
       "  </tr>\n",
       "</tbody>\n",
       "</table>"
      ]
     },
     "metadata": {},
     "output_type": "display_data"
    }
   ],
   "source": [
    "prob.1 = predict(model.1, data, type=\"prob\")\n",
    "class.predicted.1 = as.class(prob.1, \"A\", cutoff=0.5)\n",
    "\n",
    "prob.2 = predict(model.2, data, type=\"raw\")\n",
    "class.predicted.2 = as.class(prob.2, \"A\", cutoff=0.5)\n",
    "\n",
    "prob.3 = attr(predict(model.3, data, probability=TRUE), \"probabilities\")\n",
    "class.predicted.3 = as.class(prob.3, \"A\", cutoff=0.5) # 3)\n",
    "\n",
    "fmt(head(data.frame(data, class.predicted.1, class.predicted.2, class.predicted.3), 10), \"first few observations of data\")"
   ]
  },
  {
   "cell_type": "markdown",
   "metadata": {},
   "source": [
    "So, the transformed data looks like this, based on the models' predictions about the original data's classes."
   ]
  },
  {
   "cell_type": "code",
   "execution_count": 33,
   "metadata": {
    "hide_input": true,
    "scrolled": true
   },
   "outputs": [
    {
     "data": {
      "text/html": [
       "<table>\n",
       "<caption><center><font color=\"black\"><b>first few observations of transformed data</b></font></center></caption>\n",
       " <thead>\n",
       "  <tr>\n",
       "   <th style=\"text-align:right;background-color: #FFFFFF !important;\"> class.predicted.1 </th>\n",
       "   <th style=\"text-align:right;background-color: #FFFFFF !important;\"> class.predicted.2 </th>\n",
       "   <th style=\"text-align:right;background-color: #FFFFFF !important;\"> class.predicted.3 </th>\n",
       "   <th style=\"text-align:right;background-color: #FFFFFF !important;\"> class </th>\n",
       "  </tr>\n",
       " </thead>\n",
       "<tbody>\n",
       "  <tr>\n",
       "   <td style=\"text-align:right;\"> A </td>\n",
       "   <td style=\"text-align:right;\"> A </td>\n",
       "   <td style=\"text-align:right;\"> A </td>\n",
       "   <td style=\"text-align:right;\"> A </td>\n",
       "  </tr>\n",
       "  <tr>\n",
       "   <td style=\"text-align:right;\"> A </td>\n",
       "   <td style=\"text-align:right;\"> A </td>\n",
       "   <td style=\"text-align:right;\"> A </td>\n",
       "   <td style=\"text-align:right;\"> A </td>\n",
       "  </tr>\n",
       "  <tr>\n",
       "   <td style=\"text-align:right;\"> A </td>\n",
       "   <td style=\"text-align:right;\"> A </td>\n",
       "   <td style=\"text-align:right;\"> A </td>\n",
       "   <td style=\"text-align:right;\"> A </td>\n",
       "  </tr>\n",
       "  <tr>\n",
       "   <td style=\"text-align:right;\"> A </td>\n",
       "   <td style=\"text-align:right;\"> A </td>\n",
       "   <td style=\"text-align:right;\"> A </td>\n",
       "   <td style=\"text-align:right;\"> A </td>\n",
       "  </tr>\n",
       "  <tr>\n",
       "   <td style=\"text-align:right;\"> A </td>\n",
       "   <td style=\"text-align:right;\"> A </td>\n",
       "   <td style=\"text-align:right;\"> A </td>\n",
       "   <td style=\"text-align:right;\"> A </td>\n",
       "  </tr>\n",
       "  <tr>\n",
       "   <td style=\"text-align:right;\"> A </td>\n",
       "   <td style=\"text-align:right;\"> A </td>\n",
       "   <td style=\"text-align:right;\"> A </td>\n",
       "   <td style=\"text-align:right;\"> A </td>\n",
       "  </tr>\n",
       "  <tr>\n",
       "   <td style=\"text-align:right;\"> A </td>\n",
       "   <td style=\"text-align:right;\"> B </td>\n",
       "   <td style=\"text-align:right;\"> A </td>\n",
       "   <td style=\"text-align:right;\"> A </td>\n",
       "  </tr>\n",
       "  <tr>\n",
       "   <td style=\"text-align:right;\"> A </td>\n",
       "   <td style=\"text-align:right;\"> A </td>\n",
       "   <td style=\"text-align:right;\"> A </td>\n",
       "   <td style=\"text-align:right;\"> A </td>\n",
       "  </tr>\n",
       "  <tr>\n",
       "   <td style=\"text-align:right;\"> A </td>\n",
       "   <td style=\"text-align:right;\"> A </td>\n",
       "   <td style=\"text-align:right;\"> A </td>\n",
       "   <td style=\"text-align:right;\"> A </td>\n",
       "  </tr>\n",
       "  <tr>\n",
       "   <td style=\"text-align:right;\"> A </td>\n",
       "   <td style=\"text-align:right;\"> A </td>\n",
       "   <td style=\"text-align:right;\"> A </td>\n",
       "   <td style=\"text-align:right;\"> A </td>\n",
       "  </tr>\n",
       "</tbody>\n",
       "</table>"
      ]
     },
     "metadata": {},
     "output_type": "display_data"
    }
   ],
   "source": [
    "data.stack = data.frame(class.predicted.1, class.predicted.2, class.predicted.3,\n",
    "                        class=data$class)\n",
    "fmt(head(data.stack, 10), \"first few observations of transformed data\")"
   ]
  },
  {
   "cell_type": "markdown",
   "metadata": {},
   "source": [
    "### Model Based on Other Model Results\n",
    "\n",
    "Build a model using the transformed data."
   ]
  },
  {
   "cell_type": "markdown",
   "metadata": {},
   "source": [
    "**Stacked Model**\n",
    "\n",
    "Here we build a logistic regression model:"
   ]
  },
  {
   "cell_type": "code",
   "execution_count": 34,
   "metadata": {
    "hide_input": true,
    "scrolled": false
   },
   "outputs": [
    {
     "data": {
      "text/html": [
       "<dl class=dl-horizontal>\n",
       "\t<dt>(Intercept)</dt>\n",
       "\t\t<dd>-1.28785428830664</dd>\n",
       "\t<dt>class.predicted.1B</dt>\n",
       "\t\t<dd>18.8482641889243</dd>\n",
       "\t<dt>class.predicted.2B</dt>\n",
       "\t\t<dd>1.62432652492785</dd>\n",
       "\t<dt>class.predicted.3B</dt>\n",
       "\t\t<dd>-16.2943646676494</dd>\n",
       "</dl>\n"
      ],
      "text/latex": [
       "\\begin{description*}\n",
       "\\item[(Intercept)] -1.28785428830664\n",
       "\\item[class.predicted.1B] 18.8482641889243\n",
       "\\item[class.predicted.2B] 1.62432652492785\n",
       "\\item[class.predicted.3B] -16.2943646676494\n",
       "\\end{description*}\n"
      ],
      "text/markdown": [
       "(Intercept)\n",
       ":   -1.28785428830664class.predicted.1B\n",
       ":   18.8482641889243class.predicted.2B\n",
       ":   1.62432652492785class.predicted.3B\n",
       ":   -16.2943646676494\n",
       "\n"
      ],
      "text/plain": [
       "       (Intercept) class.predicted.1B class.predicted.2B class.predicted.3B \n",
       "         -1.287854          18.848264           1.624327         -16.294365 "
      ]
     },
     "metadata": {},
     "output_type": "display_data"
    }
   ],
   "source": [
    "model.stack = glm(class ~ class.predicted.1+class.predicted.2+class.predicted.3, binomial(link=\"logit\"), data.stack)\n",
    "model.stack$coefficients"
   ]
  },
  {
   "cell_type": "markdown",
   "metadata": {},
   "source": [
    "### Prediction "
   ]
  },
  {
   "cell_type": "markdown",
   "metadata": {},
   "source": [
    "Express the new observation in terms of how its class is predicted by the constituent models.\n",
    "\n",
    "The new observation [ x1=5.2, x2=4 ] can be expressed as [ class.predicted.1=A, class.predicted.2=B, class.predicted.3=A ] because model #1 predicts the class of [ x1=5.2, x2=4 ] to be A, model #2 predicts the class of [ x1=5.2, x2=4 ] to be B, and model #3 predicts the class of [ x1=5.2, x2=4 ] to be A. "
   ]
  },
  {
   "cell_type": "code",
   "execution_count": 35,
   "metadata": {
    "hide_input": true
   },
   "outputs": [
    {
     "data": {
      "text/html": [
       "<table><tr><td style=\"background-color:white; vertical-align:top; padding-right:40px;\"><table>\n",
       "<caption><center><font color=\"black\"><b>prob.1</b></font></center></caption>\n",
       " <thead>\n",
       "  <tr>\n",
       "   <th style=\"text-align:right;background-color: #FFFFFF !important;\"> A </th>\n",
       "   <th style=\"text-align:right;background-color: #FFFFFF !important;\"> B </th>\n",
       "  </tr>\n",
       " </thead>\n",
       "<tbody>\n",
       "  <tr>\n",
       "   <td style=\"text-align:right;\"> 0.7 </td>\n",
       "   <td style=\"text-align:right;\"> 0.3 </td>\n",
       "  </tr>\n",
       "</tbody>\n",
       "</table></td><td style=\"background-color:white; vertical-align:top;\"><table>\n",
       "<caption><center><font color=\"black\"><b>new</b></font></center></caption>\n",
       " <thead>\n",
       "  <tr>\n",
       "   <th style=\"text-align:right;background-color: #FFFFFF !important;\"> x1 </th>\n",
       "   <th style=\"text-align:right;background-color: #FFFFFF !important;\"> x2 </th>\n",
       "   <th style=\"text-align:right;background-color: #FFFFFF !important;\"> class.predicted.1 </th>\n",
       "  </tr>\n",
       " </thead>\n",
       "<tbody>\n",
       "  <tr>\n",
       "   <td style=\"text-align:right;\"> 5.2 </td>\n",
       "   <td style=\"text-align:right;\"> 4 </td>\n",
       "   <td style=\"text-align:right;\"> A </td>\n",
       "  </tr>\n",
       "</tbody>\n",
       "</table></td></tr><tr><td style=\"background-color:white; vertical-align:top; padding-right:40px;\"><table>\n",
       "<caption><center><font color=\"black\"><b>prob.2</b></font></center></caption>\n",
       " <thead>\n",
       "  <tr>\n",
       "   <th style=\"text-align:right;background-color: #FFFFFF !important;\"> A </th>\n",
       "   <th style=\"text-align:right;background-color: #FFFFFF !important;\"> B </th>\n",
       "  </tr>\n",
       " </thead>\n",
       "<tbody>\n",
       "  <tr>\n",
       "   <td style=\"text-align:right;\"> 0.3267745 </td>\n",
       "   <td style=\"text-align:right;\"> 0.6732255 </td>\n",
       "  </tr>\n",
       "</tbody>\n",
       "</table></td><td style=\"background-color:white; vertical-align:top;\"><table>\n",
       "<caption><center><font color=\"black\"><b>new</b></font></center></caption>\n",
       " <thead>\n",
       "  <tr>\n",
       "   <th style=\"text-align:right;background-color: #FFFFFF !important;\"> x1 </th>\n",
       "   <th style=\"text-align:right;background-color: #FFFFFF !important;\"> x2 </th>\n",
       "   <th style=\"text-align:right;background-color: #FFFFFF !important;\"> class.predicted.2 </th>\n",
       "  </tr>\n",
       " </thead>\n",
       "<tbody>\n",
       "  <tr>\n",
       "   <td style=\"text-align:right;\"> 5.2 </td>\n",
       "   <td style=\"text-align:right;\"> 4 </td>\n",
       "   <td style=\"text-align:right;\"> B </td>\n",
       "  </tr>\n",
       "</tbody>\n",
       "</table></td></tr><tr><td style=\"background-color:white; vertical-align:top; padding-right:40px;\"><table>\n",
       "<caption><center><font color=\"black\"><b>prob.3</b></font></center></caption>\n",
       " <thead>\n",
       "  <tr>\n",
       "   <th style=\"text-align:right;background-color: #FFFFFF !important;\"> A </th>\n",
       "   <th style=\"text-align:right;background-color: #FFFFFF !important;\"> B </th>\n",
       "  </tr>\n",
       " </thead>\n",
       "<tbody>\n",
       "  <tr>\n",
       "   <td style=\"text-align:right;\"> 0.5698572 </td>\n",
       "   <td style=\"text-align:right;\"> 0.4301428 </td>\n",
       "  </tr>\n",
       "</tbody>\n",
       "</table></td><td style=\"background-color:white; vertical-align:top;\"><table>\n",
       "<caption><center><font color=\"black\"><b>new</b></font></center></caption>\n",
       " <thead>\n",
       "  <tr>\n",
       "   <th style=\"text-align:right;background-color: #FFFFFF !important;\"> x1 </th>\n",
       "   <th style=\"text-align:right;background-color: #FFFFFF !important;\"> x2 </th>\n",
       "   <th style=\"text-align:right;background-color: #FFFFFF !important;\"> class.predicted.3 </th>\n",
       "  </tr>\n",
       " </thead>\n",
       "<tbody>\n",
       "  <tr>\n",
       "   <td style=\"text-align:right;\"> 5.2 </td>\n",
       "   <td style=\"text-align:right;\"> 4 </td>\n",
       "   <td style=\"text-align:right;\"> A </td>\n",
       "  </tr>\n",
       "</tbody>\n",
       "</table></td></tr></table>"
      ]
     },
     "metadata": {},
     "output_type": "display_data"
    }
   ],
   "source": [
    "prob.1 = predict(model.1, new, type=\"prob\")\n",
    "class.predicted.1 = as.class(prob.1, \"A\", cutoff=0.5)\n",
    "\n",
    "prob.2 = predict(model.2, new, type=\"raw\")\n",
    "class.predicted.2 = as.class(prob.2, \"A\", cutoff=0.5)\n",
    "\n",
    "prob.3 = attr(predict(model.3, new, probability=TRUE), \"probabilities\")\n",
    "class.predicted.3 = as.class(prob.3, \"A\", cutoff=0.5)\n",
    "\n",
    "layout(fmt(prob.1), fmt(data.frame(new, class.predicted.1), \"new\"),\n",
    "       fmt(prob.2), fmt(data.frame(new, class.predicted.2), \"new\"),\n",
    "       fmt(prob.3), fmt(data.frame(new, class.predicted.3), \"new\"),\n",
    "       nrow=3, ncol=2)"
   ]
  },
  {
   "cell_type": "code",
   "execution_count": 36,
   "metadata": {
    "hide_input": true
   },
   "outputs": [
    {
     "data": {
      "text/html": [
       "<table>\n",
       "<caption><center><font color=\"black\"><b>new (transformed)</b></font></center></caption>\n",
       " <thead>\n",
       "  <tr>\n",
       "   <th style=\"text-align:right;background-color: #FFFFFF !important;\"> class.predicted.1 </th>\n",
       "   <th style=\"text-align:right;background-color: #FFFFFF !important;\"> class.predicted.2 </th>\n",
       "   <th style=\"text-align:right;background-color: #FFFFFF !important;\"> class.predicted.3 </th>\n",
       "  </tr>\n",
       " </thead>\n",
       "<tbody>\n",
       "  <tr>\n",
       "   <td style=\"text-align:right;\"> A </td>\n",
       "   <td style=\"text-align:right;\"> B </td>\n",
       "   <td style=\"text-align:right;\"> A </td>\n",
       "  </tr>\n",
       "</tbody>\n",
       "</table>"
      ]
     },
     "metadata": {},
     "output_type": "display_data"
    }
   ],
   "source": [
    "new.stack = data.frame(class.predicted.1, class.predicted.2, class.predicted.3)\n",
    "fmt(new.stack, \"new (transformed)\")"
   ]
  },
  {
   "cell_type": "markdown",
   "metadata": {},
   "source": [
    "Use the stacked model to predict the class of a new observation.\n",
    "\n",
    "Here the stacked model predicts the class of the transformed new observation [ class.predicted.1=A, class.predicted.2=B, class.predicted.3=A ] to be B, which means it predicts the class of new observation [ x1=5.2, x2=4 ] to be B.\n",
    "\n",
    "Note that the stacked model predicts this new observation's class to be B, even though 2 of the 3 constituent models would predict it to be A."
   ]
  },
  {
   "cell_type": "code",
   "execution_count": 37,
   "metadata": {
    "hide_input": true
   },
   "outputs": [
    {
     "data": {
      "text/html": [
       "<table><tr><td style=\"background-color:white; vertical-align:top; padding-right:40px;\"><table>\n",
       "<caption><center><font color=\"black\"><b>prob.stack</b></font></center></caption>\n",
       " <thead>\n",
       "  <tr>\n",
       "   <th style=\"text-align:right;background-color: #FFFFFF !important;\"> B </th>\n",
       "   <th style=\"text-align:right;background-color: #FFFFFF !important;\"> A </th>\n",
       "  </tr>\n",
       " </thead>\n",
       "<tbody>\n",
       "  <tr>\n",
       "   <td style=\"text-align:right;\"> 0.5833333 </td>\n",
       "   <td style=\"text-align:right;\"> 0.4166667 </td>\n",
       "  </tr>\n",
       "</tbody>\n",
       "</table></td><td style=\"background-color:white; vertical-align:top;\"><table>\n",
       "<caption><center><font color=\"black\"><b>new (transformed)</b></font></center></caption>\n",
       " <thead>\n",
       "  <tr>\n",
       "   <th style=\"text-align:right;background-color: #FFFFFF !important;\"> class.predicted.1 </th>\n",
       "   <th style=\"text-align:right;background-color: #FFFFFF !important;\"> class.predicted.2 </th>\n",
       "   <th style=\"text-align:right;background-color: #FFFFFF !important;\"> class.predicted.3 </th>\n",
       "   <th style=\"text-align:right;background-color: #FFFFFF !important;\"> class.predicted </th>\n",
       "  </tr>\n",
       " </thead>\n",
       "<tbody>\n",
       "  <tr>\n",
       "   <td style=\"text-align:right;\"> A </td>\n",
       "   <td style=\"text-align:right;\"> B </td>\n",
       "   <td style=\"text-align:right;\"> A </td>\n",
       "   <td style=\"text-align:right;\"> B </td>\n",
       "  </tr>\n",
       "</tbody>\n",
       "</table></td></tr><tr><td style=\"background-color:white; vertical-align:top; padding-right:40px;\"><table>\n",
       "<caption><center><font color=\"black\"><b>prob.stack</b></font></center></caption>\n",
       " <thead>\n",
       "  <tr>\n",
       "   <th style=\"text-align:right;background-color: #FFFFFF !important;\"> B </th>\n",
       "   <th style=\"text-align:right;background-color: #FFFFFF !important;\"> A </th>\n",
       "  </tr>\n",
       " </thead>\n",
       "<tbody>\n",
       "  <tr>\n",
       "   <td style=\"text-align:right;\"> 0.5833333 </td>\n",
       "   <td style=\"text-align:right;\"> 0.4166667 </td>\n",
       "  </tr>\n",
       "</tbody>\n",
       "</table></td><td style=\"background-color:white; vertical-align:top;\"><table>\n",
       "<caption><center><font color=\"black\"><b>new</b></font></center></caption>\n",
       " <thead>\n",
       "  <tr>\n",
       "   <th style=\"text-align:right;background-color: #FFFFFF !important;\"> x1 </th>\n",
       "   <th style=\"text-align:right;background-color: #FFFFFF !important;\"> x2 </th>\n",
       "   <th style=\"text-align:right;background-color: #FFFFFF !important;\"> class.predicted </th>\n",
       "  </tr>\n",
       " </thead>\n",
       "<tbody>\n",
       "  <tr>\n",
       "   <td style=\"text-align:right;\"> 5.2 </td>\n",
       "   <td style=\"text-align:right;\"> 4 </td>\n",
       "   <td style=\"text-align:right;\"> B </td>\n",
       "  </tr>\n",
       "</tbody>\n",
       "</table></td></tr></table>"
      ]
     },
     "metadata": {},
     "output_type": "display_data"
    }
   ],
   "source": [
    "output = predict(model.stack, new, type=\"response\")\n",
    "prob.stack = data.frame(\"B\"=output, \"A\"=1-output)\n",
    "class.predicted = as.class(prob.stack, class=\"B\", cutoff=0.5)\n",
    "\n",
    "layout(fmt(prob.stack), \n",
    "       fmt(data.frame(class.predicted.1, class.predicted.2, class.predicted.3, class.predicted), \"new (transformed)\"),\n",
    "       fmt(prob.stack), \n",
    "       fmt(data.frame(new, class.predicted), \"new\"),\n",
    "       nrow=2)"
   ]
  },
  {
   "cell_type": "markdown",
   "metadata": {},
   "source": [
    "## Code"
   ]
  },
  {
   "cell_type": "markdown",
   "metadata": {},
   "source": [
    "### Useful Functions"
   ]
  },
  {
   "cell_type": "code",
   "execution_count": 38,
   "metadata": {},
   "outputs": [],
   "source": [
    "# vote       # from setup.R\n",
    "# focus_data # from setup.R"
   ]
  },
  {
   "cell_type": "markdown",
   "metadata": {},
   "source": [
    "## Expectations\n",
    "\n",
    "Know about this:\n",
    "* How to bootstrap aggregate a classification method, conceptually and using R.\n",
    "* How to boost a classification method, conceptually and using R.\n",
    "* How to stack classification methods, conceptually and using R."
   ]
  },
  {
   "cell_type": "markdown",
   "metadata": {},
   "source": [
    "## Further Reading\n",
    "\n",
    "* http://ciml.info/dl/v0_99/ciml-v0_99-ch13.pdf\n",
    "* https://www.analyticsvidhya.com/blog/2015/11/quick-introduction-boosting-algorithms-machine-learning/\n",
    "* https://en.wikipedia.org/wiki/Ensemble_learning"
   ]
  },
  {
   "cell_type": "markdown",
   "metadata": {},
   "source": [
    "<p style=\"text-align:left; font-size:10px;\">\n",
    "Copyright (c) Berkeley Data Analytics Group, LLC\n",
    "<span style=\"float:right;\">\n",
    "Document revised July 17, 2020\n",
    "</span>\n",
    "</p>"
   ]
  }
 ],
 "metadata": {
  "hide_code_all_hidden": false,
  "hide_input": false,
  "kernelspec": {
   "display_name": "R",
   "language": "R",
   "name": "ir"
  },
  "language_info": {
   "codemirror_mode": "r",
   "file_extension": ".r",
   "mimetype": "text/x-r-source",
   "name": "R",
   "pygments_lexer": "r",
   "version": "3.6.1"
  },
  "toc": {
   "base_numbering": 1,
   "nav_menu": {},
   "number_sections": true,
   "sideBar": true,
   "skip_h1_title": true,
   "title_cell": "Table of Contents",
   "title_sidebar": "Contents",
   "toc_cell": false,
   "toc_position": {
    "height": "calc(100% - 180px)",
    "left": "10px",
    "top": "150px",
    "width": "256.396px"
   },
   "toc_section_display": true,
   "toc_window_display": false
  }
 },
 "nbformat": 4,
 "nbformat_minor": 2
}
