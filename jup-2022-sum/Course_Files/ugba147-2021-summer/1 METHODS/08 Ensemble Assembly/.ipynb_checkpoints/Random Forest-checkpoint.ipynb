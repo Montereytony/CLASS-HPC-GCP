{
 "cells": [
  {
   "cell_type": "markdown",
   "metadata": {
    "hideCode": false,
    "hidePrompt": false
   },
   "source": [
    "# Random Forest\n",
    "\n",
    "![](banner_random_forest.jpg)"
   ]
  },
  {
   "cell_type": "code",
   "execution_count": 1,
   "metadata": {
    "hide_input": true
   },
   "outputs": [
    {
     "data": {
      "text/html": [
       "== document setup =="
      ]
     },
     "metadata": {},
     "output_type": "display_data"
    }
   ],
   "source": [
    "f = \"setup.R\"; for (i in 1:10) { if (file.exists(f)) break else f = paste0(\"../\", f) }; source(f)"
   ]
  },
  {
   "cell_type": "markdown",
   "metadata": {},
   "source": [
    "## Introduction\n",
    "\n",
    "Motivation, context, history, related topics ..."
   ]
  },
  {
   "cell_type": "markdown",
   "metadata": {},
   "source": [
    "## Overview\n",
    "\n",
    "Terminology, concept, synopsis ..."
   ]
  },
  {
   "cell_type": "markdown",
   "metadata": {},
   "source": [
    "## Exposition"
   ]
  },
  {
   "cell_type": "markdown",
   "metadata": {},
   "source": [
    "### Data"
   ]
  },
  {
   "cell_type": "code",
   "execution_count": 2,
   "metadata": {
    "hideCode": false,
    "hidePrompt": false,
    "hide_input": true,
    "run_control": {
     "marked": false
    },
    "scrolled": false
   },
   "outputs": [
    {
     "data": {
      "text/html": [
       "<table>\n",
       "<thead><tr><th scope=col>observations</th><th scope=col>variables</th></tr></thead>\n",
       "<tbody>\n",
       "\t<tr><td>72</td><td>3 </td></tr>\n",
       "</tbody>\n",
       "</table>\n"
      ],
      "text/latex": [
       "\\begin{tabular}{r|ll}\n",
       " observations & variables\\\\\n",
       "\\hline\n",
       "\t 72 & 3 \\\\\n",
       "\\end{tabular}\n"
      ],
      "text/markdown": [
       "\n",
       "| observations | variables |\n",
       "|---|---|\n",
       "| 72 | 3  |\n",
       "\n"
      ],
      "text/plain": [
       "  observations variables\n",
       "1 72           3        "
      ]
     },
     "metadata": {},
     "output_type": "display_data"
    },
    {
     "data": {
      "image/png": "[encoded data removed]",
      "text/plain": [
       "plot without title"
      ]
     },
     "metadata": {},
     "output_type": "display_data"
    }
   ],
   "source": [
    "data = data.frame(x1=c(1,2,3,4,3,2,5,4,3,2,5,3,3,2,3,1,1,5,4,1,5,1,0,0,1,2,2,5,1,3,1,2,3,4,5,6,3,2,6,5,4,5,3,8,9,0,0,9,7,4,5,5,4,5,6,6,9,8,7,7,8,8,9,9,7,7,5,5,8,8,9,8),\n",
    "                  x2=c(3,2,6,5,4,5,3,8,9,0,0,9,7,4,5,5,4,5,6,3,2,4,3,5,4,6,5,1,2,3,4,5,4,3,4,8,1,2,3,4,3,2,5,4,3,6,5,3,3,2,3,6,7,5,4,6,5,7,8,9,8,7,6,5,7,3,1,2,3,4,5,6),\n",
    "                  class=c(\"A\",\"A\",\"A\",\"A\",\"A\",\"A\",\"A\",\"A\",\"A\",\"A\",\"A\",\"A\",\"A\",\"A\",\"A\",\"A\",\"A\",\"A\",\"A\",\"A\",\"A\",\"A\",\"A\",\"A\",\"A\",\"A\",\"A\",\"A\",\"A\",\"A\",\"A\",\"A\",\"A\",\"A\",\"A\",\"A\",\"B\",\"B\",\"B\",\"B\",\"B\",\"B\",\"B\",\"B\",\"B\",\"B\",\"B\",\"B\",\"B\",\"B\",\"B\",\"B\",\"B\",\"B\",\"B\",\"B\",\"B\",\"B\",\"B\",\"B\",\"B\",\"B\",\"B\",\"B\",\"B\",\"B\",\"B\",\"B\",\"B\",\"B\",\"B\",\"B\"))\n",
    "new = data.frame(x1=5.2, x2=4)\n",
    "\n",
    "size(data)\n",
    "ggplot(data) +\n",
    "geom_jitter(aes(x=x1, y=x2, color=class), position = position_jitter(height=0.3, width=0.03)) +\n",
    "geom_point(aes(x=x1, y=x2), data=new) + \n",
    "scale_color_manual(values=PALETTE)"
   ]
  },
  {
   "cell_type": "markdown",
   "metadata": {},
   "source": [
    "### Model Based on Original Data\n",
    "Here we consider a decision tree model based on the original data.  We use the model to predict the class of a new observation."
   ]
  },
  {
   "cell_type": "code",
   "execution_count": 3,
   "metadata": {
    "hide_input": true,
    "scrolled": false
   },
   "outputs": [
    {
     "data": {
      "text/html": [
       "<table>\n",
       "<thead><tr><th scope=col>A</th><th scope=col>B</th></tr></thead>\n",
       "<tbody>\n",
       "\t<tr><td>0.4615385</td><td>0.5384615</td></tr>\n",
       "</tbody>\n",
       "</table>\n"
      ],
      "text/latex": [
       "\\begin{tabular}{r|ll}\n",
       " A & B\\\\\n",
       "\\hline\n",
       "\t 0.4615385 & 0.5384615\\\\\n",
       "\\end{tabular}\n"
      ],
      "text/markdown": [
       "\n",
       "| A | B |\n",
       "|---|---|\n",
       "| 0.4615385 | 0.5384615 |\n",
       "\n"
      ],
      "text/plain": [
       "  A         B        \n",
       "1 0.4615385 0.5384615"
      ]
     },
     "metadata": {},
     "output_type": "display_data"
    },
    {
     "data": {
      "text/html": [
       "<table>\n",
       "<thead><tr><th scope=col>x1</th><th scope=col>x2</th><th scope=col>class.predicted</th></tr></thead>\n",
       "<tbody>\n",
       "\t<tr><td>5.2</td><td>4  </td><td>B  </td></tr>\n",
       "</tbody>\n",
       "</table>\n"
      ],
      "text/latex": [
       "\\begin{tabular}{r|lll}\n",
       " x1 & x2 & class.predicted\\\\\n",
       "\\hline\n",
       "\t 5.2 & 4   & B  \\\\\n",
       "\\end{tabular}\n"
      ],
      "text/markdown": [
       "\n",
       "| x1 | x2 | class.predicted |\n",
       "|---|---|---|\n",
       "| 5.2 | 4   | B   |\n",
       "\n"
      ],
      "text/plain": [
       "  x1  x2 class.predicted\n",
       "1 5.2 4  B              "
      ]
     },
     "metadata": {},
     "output_type": "display_data"
    },
    {
     "data": {
      "image/png": "[encoded data removed]",
      "text/plain": [
       "plot without title"
      ]
     },
     "metadata": {},
     "output_type": "display_data"
    }
   ],
   "source": [
    "model = rpart(class ~ x1+x2, data, method=\"class\")\n",
    "prob = predict(model, new, type=\"prob\")\n",
    "class.predicted = as.class(prob, \"A\", cutoff=0.5)\n",
    "\n",
    "prob\n",
    "data.frame(new, class.predicted)\n",
    "\n",
    "output_size(2.5,2.5)\n",
    "ggtree(model) + scale_fill_manual(values=PALETTE)\n",
    "output_size(restore)"
   ]
  },
  {
   "cell_type": "markdown",
   "metadata": {},
   "source": [
    "### Bootstrap Aggregating (Bagging)\n",
    "\n",
    "\n",
    "Build a model comprising other constituent models, which are all built using a single predictive analytic method and set of hyper-parameter settings, but based on different bootstrap samples of the data.  The ensemble model makes predictions based on the most popular of the constituent models' predictions.\n",
    "\n",
    "You can think of a bootstrap aggregated model as a committee of experts.  Each expert has studied a particular field of knowledge, different from (but possibly overlapping with) those that the other experts have studied. \n",
    "\n",
    "Bootstrap aggregating is also known as \"bagging\".  "
   ]
  },
  {
   "cell_type": "markdown",
   "metadata": {},
   "source": [
    "#### Bootstrap Samples\n",
    "\n",
    "A bootstrap sample of data is a set of randomly selected observations from that data, with replacement allowed.  The size of the bootstrap sample is the same as the size of the data.  So, the number of observations in the bootstrap sample is the same as the number of observations in the data.  Usually, many of the observations in the bootstrap sample are duplicates of each other. \n",
    "\n",
    "Here we take 3 different bootstrap samples of the data."
   ]
  },
  {
   "cell_type": "code",
   "execution_count": 4,
   "metadata": {
    "hide_input": true
   },
   "outputs": [],
   "source": [
    "set.seed(12345)\n",
    "data.1 = sample_n(data, nrow(data), replace=TRUE)\n",
    "data.2 = sample_n(data, nrow(data), replace=TRUE)\n",
    "data.3 = sample_n(data, nrow(data), replace=TRUE)"
   ]
  },
  {
   "cell_type": "code",
   "execution_count": 5,
   "metadata": {
    "hide_input": true,
    "scrolled": true
   },
   "outputs": [
    {
     "data": {
      "image/png": "[encoded data removed]",
      "text/plain": [
       "plot without title"
      ]
     },
     "metadata": {},
     "output_type": "display_data"
    }
   ],
   "source": [
    "ggplot(data.1) + ggtitle(\"Dataset #1\") +\n",
    "geom_jitter(aes(x=x1, y=x2, color=class), position = position_jitter(height=0.3, width=0.03))"
   ]
  },
  {
   "cell_type": "code",
   "execution_count": 6,
   "metadata": {
    "hide_input": true
   },
   "outputs": [
    {
     "data": {
      "image/png": "[encoded data removed]",
      "text/plain": [
       "plot without title"
      ]
     },
     "metadata": {},
     "output_type": "display_data"
    }
   ],
   "source": [
    "ggplot(data.2) + ggtitle(\"Dataset #2\") +\n",
    "geom_jitter(aes(x=x1, y=x2, color=class), position = position_jitter(height=0.3, width=0.03))"
   ]
  },
  {
   "cell_type": "code",
   "execution_count": 7,
   "metadata": {
    "hide_input": true
   },
   "outputs": [
    {
     "data": {
      "image/png": "[encoded data removed]",
      "text/plain": [
       "plot without title"
      ]
     },
     "metadata": {},
     "output_type": "display_data"
    }
   ],
   "source": [
    "ggplot(data.3) + ggtitle(\"Dataset #3\") +\n",
    "geom_jitter(aes(x=x1, y=x2, color=class), position = position_jitter(height=0.3, width=0.03))"
   ]
  },
  {
   "cell_type": "markdown",
   "metadata": {},
   "source": [
    "#### Models Based on Bootstrap Samples\n",
    "\n",
    "We can build several models, using the same method and hyper-parameters, but based on the different bootstrap samples of data.  Each model is an \"expert\" on the particular subset of data represented in the bootstrap sample on which it is based.\n",
    "\n",
    "Here we build 3 different such models and use them to make 3 different predictions of the class of a new observation."
   ]
  },
  {
   "cell_type": "markdown",
   "metadata": {},
   "source": [
    "Model 1:"
   ]
  },
  {
   "cell_type": "code",
   "execution_count": 8,
   "metadata": {
    "hide_input": true
   },
   "outputs": [
    {
     "data": {
      "image/png": "[encoded data removed]",
      "text/plain": [
       "plot without title"
      ]
     },
     "metadata": {},
     "output_type": "display_data"
    }
   ],
   "source": [
    "model.1 = rpart(class ~ x1+x2, data.1, method=\"class\")\n",
    "\n",
    "output_size(2.5,2.5)\n",
    "ggtree(model.1) + scale_fill_manual(values=PALETTE)\n",
    "output_size(restore)"
   ]
  },
  {
   "cell_type": "markdown",
   "metadata": {},
   "source": [
    "Model 2:"
   ]
  },
  {
   "cell_type": "code",
   "execution_count": 9,
   "metadata": {
    "hide_input": true
   },
   "outputs": [
    {
     "data": {
      "image/png": "[encoded data removed]",
      "text/plain": [
       "plot without title"
      ]
     },
     "metadata": {},
     "output_type": "display_data"
    }
   ],
   "source": [
    "model.2 = rpart(class ~ x1+x2, data.2, method=\"class\")\n",
    "\n",
    "output_size(2.5,2.5)\n",
    "ggtree(model.2) + scale_fill_manual(values=PALETTE)\n",
    "output_size(restore)"
   ]
  },
  {
   "cell_type": "markdown",
   "metadata": {},
   "source": [
    "Model 3:"
   ]
  },
  {
   "cell_type": "code",
   "execution_count": 10,
   "metadata": {
    "hide_input": true
   },
   "outputs": [
    {
     "data": {
      "image/png": "[encoded data removed]",
      "text/plain": [
       "plot without title"
      ]
     },
     "metadata": {},
     "output_type": "display_data"
    }
   ],
   "source": [
    "model.3 = rpart(class ~ x1+x2, data.3, method=\"class\")\n",
    "\n",
    "output_size(2.5,2.5)\n",
    "ggtree(model.3) + scale_fill_manual(values=PALETTE)\n",
    "output_size(restore)"
   ]
  },
  {
   "cell_type": "markdown",
   "metadata": {},
   "source": [
    "#### Predictions"
   ]
  },
  {
   "cell_type": "markdown",
   "metadata": {},
   "source": [
    "New observation's class predicted by Model 1: "
   ]
  },
  {
   "cell_type": "code",
   "execution_count": 11,
   "metadata": {
    "hide_input": true
   },
   "outputs": [
    {
     "data": {
      "text/html": [
       "<table>\n",
       "<thead><tr><th scope=col>A</th><th scope=col>B</th></tr></thead>\n",
       "<tbody>\n",
       "\t<tr><td>0.2058824</td><td>0.7941176</td></tr>\n",
       "</tbody>\n",
       "</table>\n"
      ],
      "text/latex": [
       "\\begin{tabular}{r|ll}\n",
       " A & B\\\\\n",
       "\\hline\n",
       "\t 0.2058824 & 0.7941176\\\\\n",
       "\\end{tabular}\n"
      ],
      "text/markdown": [
       "\n",
       "| A | B |\n",
       "|---|---|\n",
       "| 0.2058824 | 0.7941176 |\n",
       "\n"
      ],
      "text/plain": [
       "  A         B        \n",
       "1 0.2058824 0.7941176"
      ]
     },
     "metadata": {},
     "output_type": "display_data"
    },
    {
     "data": {
      "text/html": [
       "<table>\n",
       "<thead><tr><th scope=col>x1</th><th scope=col>x2</th><th scope=col>class.predicted.1</th></tr></thead>\n",
       "<tbody>\n",
       "\t<tr><td>5.2</td><td>4  </td><td>B  </td></tr>\n",
       "</tbody>\n",
       "</table>\n"
      ],
      "text/latex": [
       "\\begin{tabular}{r|lll}\n",
       " x1 & x2 & class.predicted.1\\\\\n",
       "\\hline\n",
       "\t 5.2 & 4   & B  \\\\\n",
       "\\end{tabular}\n"
      ],
      "text/markdown": [
       "\n",
       "| x1 | x2 | class.predicted.1 |\n",
       "|---|---|---|\n",
       "| 5.2 | 4   | B   |\n",
       "\n"
      ],
      "text/plain": [
       "  x1  x2 class.predicted.1\n",
       "1 5.2 4  B                "
      ]
     },
     "metadata": {},
     "output_type": "display_data"
    }
   ],
   "source": [
    "prob.1 = predict(model.1, new, type=\"prob\")\n",
    "class.predicted.1 = as.class(prob.1, \"A\", cutoff=0.5)\n",
    "\n",
    "prob.1\n",
    "data.frame(new, class.predicted.1)"
   ]
  },
  {
   "cell_type": "markdown",
   "metadata": {},
   "source": [
    "New observation's class predicted by Model 2: "
   ]
  },
  {
   "cell_type": "code",
   "execution_count": 12,
   "metadata": {
    "hide_input": true
   },
   "outputs": [
    {
     "data": {
      "text/html": [
       "<table>\n",
       "<thead><tr><th scope=col>A</th><th scope=col>B</th></tr></thead>\n",
       "<tbody>\n",
       "\t<tr><td>0.9166667 </td><td>0.08333333</td></tr>\n",
       "</tbody>\n",
       "</table>\n"
      ],
      "text/latex": [
       "\\begin{tabular}{r|ll}\n",
       " A & B\\\\\n",
       "\\hline\n",
       "\t 0.9166667  & 0.08333333\\\\\n",
       "\\end{tabular}\n"
      ],
      "text/markdown": [
       "\n",
       "| A | B |\n",
       "|---|---|\n",
       "| 0.9166667  | 0.08333333 |\n",
       "\n"
      ],
      "text/plain": [
       "  A         B         \n",
       "1 0.9166667 0.08333333"
      ]
     },
     "metadata": {},
     "output_type": "display_data"
    },
    {
     "data": {
      "text/html": [
       "<table>\n",
       "<thead><tr><th scope=col>x1</th><th scope=col>x2</th><th scope=col>class.predicted.2</th></tr></thead>\n",
       "<tbody>\n",
       "\t<tr><td>5.2</td><td>4  </td><td>A  </td></tr>\n",
       "</tbody>\n",
       "</table>\n"
      ],
      "text/latex": [
       "\\begin{tabular}{r|lll}\n",
       " x1 & x2 & class.predicted.2\\\\\n",
       "\\hline\n",
       "\t 5.2 & 4   & A  \\\\\n",
       "\\end{tabular}\n"
      ],
      "text/markdown": [
       "\n",
       "| x1 | x2 | class.predicted.2 |\n",
       "|---|---|---|\n",
       "| 5.2 | 4   | A   |\n",
       "\n"
      ],
      "text/plain": [
       "  x1  x2 class.predicted.2\n",
       "1 5.2 4  A                "
      ]
     },
     "metadata": {},
     "output_type": "display_data"
    }
   ],
   "source": [
    "prob.2 = predict(model.2, new, type=\"prob\")\n",
    "class.predicted.2 = as.class(prob.2, \"A\", cutoff=0.5)\n",
    "\n",
    "prob.2\n",
    "data.frame(new, class.predicted.2)"
   ]
  },
  {
   "cell_type": "markdown",
   "metadata": {},
   "source": [
    "New observation's class predicted by Model 3: "
   ]
  },
  {
   "cell_type": "code",
   "execution_count": 13,
   "metadata": {
    "hide_input": true
   },
   "outputs": [
    {
     "data": {
      "text/html": [
       "<table>\n",
       "<thead><tr><th scope=col>A</th><th scope=col>B</th></tr></thead>\n",
       "<tbody>\n",
       "\t<tr><td>0.75</td><td>0.25</td></tr>\n",
       "</tbody>\n",
       "</table>\n"
      ],
      "text/latex": [
       "\\begin{tabular}{r|ll}\n",
       " A & B\\\\\n",
       "\\hline\n",
       "\t 0.75 & 0.25\\\\\n",
       "\\end{tabular}\n"
      ],
      "text/markdown": [
       "\n",
       "| A | B |\n",
       "|---|---|\n",
       "| 0.75 | 0.25 |\n",
       "\n"
      ],
      "text/plain": [
       "  A    B   \n",
       "1 0.75 0.25"
      ]
     },
     "metadata": {},
     "output_type": "display_data"
    },
    {
     "data": {
      "text/html": [
       "<table>\n",
       "<thead><tr><th scope=col>x1</th><th scope=col>x2</th><th scope=col>class.predicted.3</th></tr></thead>\n",
       "<tbody>\n",
       "\t<tr><td>5.2</td><td>4  </td><td>A  </td></tr>\n",
       "</tbody>\n",
       "</table>\n"
      ],
      "text/latex": [
       "\\begin{tabular}{r|lll}\n",
       " x1 & x2 & class.predicted.3\\\\\n",
       "\\hline\n",
       "\t 5.2 & 4   & A  \\\\\n",
       "\\end{tabular}\n"
      ],
      "text/markdown": [
       "\n",
       "| x1 | x2 | class.predicted.3 |\n",
       "|---|---|---|\n",
       "| 5.2 | 4   | A   |\n",
       "\n"
      ],
      "text/plain": [
       "  x1  x2 class.predicted.3\n",
       "1 5.2 4  A                "
      ]
     },
     "metadata": {},
     "output_type": "display_data"
    }
   ],
   "source": [
    "prob.3 = predict(model.3, new, type=\"prob\")\n",
    "class.predicted.3 = as.class(prob.3, \"A\", cutoff=0.5)\n",
    "\n",
    "prob.3\n",
    "data.frame(new, class.predicted.3)"
   ]
  },
  {
   "cell_type": "markdown",
   "metadata": {},
   "source": [
    "#### Vote\n",
    "\n",
    "We can compare the predictions of models and vote for the most popular prediction.  \n",
    "\n",
    "Here models 1 and 2 predict that the class of the new observation is A, and model 3 predicts B.  The vote is 2 to 1 in favor of A, so the bootstrap aggregated model predicts A."
   ]
  },
  {
   "cell_type": "code",
   "execution_count": 14,
   "metadata": {
    "hide_input": true
   },
   "outputs": [
    {
     "data": {
      "text/html": [
       "<table>\n",
       "<thead><tr><th scope=col>class.predicted.1</th><th scope=col>class.predicted.2</th><th scope=col>class.predicted.3</th></tr></thead>\n",
       "<tbody>\n",
       "\t<tr><td>B</td><td>A</td><td>A</td></tr>\n",
       "</tbody>\n",
       "</table>\n"
      ],
      "text/latex": [
       "\\begin{tabular}{r|lll}\n",
       " class.predicted.1 & class.predicted.2 & class.predicted.3\\\\\n",
       "\\hline\n",
       "\t B & A & A\\\\\n",
       "\\end{tabular}\n"
      ],
      "text/markdown": [
       "\n",
       "| class.predicted.1 | class.predicted.2 | class.predicted.3 |\n",
       "|---|---|---|\n",
       "| B | A | A |\n",
       "\n"
      ],
      "text/plain": [
       "  class.predicted.1 class.predicted.2 class.predicted.3\n",
       "1 B                 A                 A                "
      ]
     },
     "metadata": {},
     "output_type": "display_data"
    }
   ],
   "source": [
    "data.frame(class.predicted.1, class.predicted.2, class.predicted.3)"
   ]
  },
  {
   "cell_type": "code",
   "execution_count": 15,
   "metadata": {
    "hide_input": true
   },
   "outputs": [
    {
     "data": {
      "text/html": [
       "<table>\n",
       "<thead><tr><th scope=col>class.predicted</th></tr></thead>\n",
       "<tbody>\n",
       "\t<tr><td>A</td></tr>\n",
       "</tbody>\n",
       "</table>\n"
      ],
      "text/latex": [
       "\\begin{tabular}{r|l}\n",
       " class.predicted\\\\\n",
       "\\hline\n",
       "\t A\\\\\n",
       "\\end{tabular}\n"
      ],
      "text/markdown": [
       "\n",
       "| class.predicted |\n",
       "|---|\n",
       "| A |\n",
       "\n"
      ],
      "text/plain": [
       "  class.predicted\n",
       "1 A              "
      ]
     },
     "metadata": {},
     "output_type": "display_data"
    }
   ],
   "source": [
    "data.frame(class.predicted=vote(class.predicted.1, class.predicted.2, class.predicted.3))"
   ]
  },
  {
   "cell_type": "markdown",
   "metadata": {},
   "source": [
    "### Boosting\n",
    "\n",
    "Build a model, make predictions, and note the prediction errors.  Then build another model, using the same predictive analytic method and hyper-parameter settings, but based on a resample of the data that emphasizes the observations associated with the prediction errors.  Continue in this way to build more models.  The ensemble model makes predictions based on the most popular of these models' predictions.\n",
    "\n",
    "You can think of a boosted model as a committee of experts.  Each expert (except the first one) has studied a specialized sub-field of knowledge that focuses on the aspects least understood by another expert. "
   ]
  },
  {
   "cell_type": "markdown",
   "metadata": {},
   "source": [
    "#### Models"
   ]
  },
  {
   "cell_type": "markdown",
   "metadata": {},
   "source": [
    "Model 1:\n",
    "\n",
    "_Build Model \\#1 based on the original data._\n",
    "\n",
    "_Here we consider a decision tree model based on the original data._"
   ]
  },
  {
   "cell_type": "code",
   "execution_count": 16,
   "metadata": {
    "hide_input": true
   },
   "outputs": [
    {
     "data": {
      "image/png": "[encoded data removed]",
      "text/plain": [
       "plot without title"
      ]
     },
     "metadata": {},
     "output_type": "display_data"
    }
   ],
   "source": [
    "ggplot(data) + ggtitle(\"Original Data\") +\n",
    "geom_jitter(aes(x=x1, y=x2, color=class), position = position_jitter(height=0.3, width=0.03))"
   ]
  },
  {
   "cell_type": "code",
   "execution_count": 17,
   "metadata": {
    "hide_input": true
   },
   "outputs": [
    {
     "data": {
      "image/png": "[encoded data removed]",
      "text/plain": [
       "plot without title"
      ]
     },
     "metadata": {},
     "output_type": "display_data"
    }
   ],
   "source": [
    "model.1 = rpart(class ~ x1+x2, data, method=\"class\")\n",
    "\n",
    "output_size(2.5,2.5)\n",
    "ggtree(model.1) + scale_fill_manual(values=PALETTE)\n",
    "output_size(restore)"
   ]
  },
  {
   "cell_type": "markdown",
   "metadata": {},
   "source": [
    "Model 2:"
   ]
  },
  {
   "cell_type": "markdown",
   "metadata": {},
   "source": [
    "_Assess Model #1's ability to predict the original data's classes._"
   ]
  },
  {
   "cell_type": "code",
   "execution_count": 18,
   "metadata": {
    "hide_input": true,
    "scrolled": true
   },
   "outputs": [
    {
     "data": {
      "text/html": [
       "<table>\n",
       "<thead><tr><th scope=col>x1</th><th scope=col>x2</th><th scope=col>class</th><th scope=col>class.predicted.1</th><th scope=col>hit.1</th></tr></thead>\n",
       "<tbody>\n",
       "\t<tr><td>1    </td><td>3    </td><td>A    </td><td>A    </td><td> TRUE</td></tr>\n",
       "\t<tr><td>2    </td><td>2    </td><td>A    </td><td>A    </td><td> TRUE</td></tr>\n",
       "\t<tr><td>3    </td><td>6    </td><td>A    </td><td>A    </td><td> TRUE</td></tr>\n",
       "\t<tr><td>4    </td><td>5    </td><td>A    </td><td>A    </td><td> TRUE</td></tr>\n",
       "\t<tr><td>3    </td><td>4    </td><td>A    </td><td>A    </td><td> TRUE</td></tr>\n",
       "\t<tr><td>2    </td><td>5    </td><td>A    </td><td>A    </td><td> TRUE</td></tr>\n",
       "\t<tr><td>5    </td><td>3    </td><td>A    </td><td>B    </td><td>FALSE</td></tr>\n",
       "\t<tr><td>4    </td><td>8    </td><td>A    </td><td>A    </td><td> TRUE</td></tr>\n",
       "\t<tr><td>3    </td><td>9    </td><td>A    </td><td>A    </td><td> TRUE</td></tr>\n",
       "\t<tr><td>2    </td><td>0    </td><td>A    </td><td>A    </td><td> TRUE</td></tr>\n",
       "\t<tr><td>5    </td><td>0    </td><td>A    </td><td>B    </td><td>FALSE</td></tr>\n",
       "\t<tr><td>3    </td><td>9    </td><td>A    </td><td>A    </td><td> TRUE</td></tr>\n",
       "\t<tr><td>3    </td><td>7    </td><td>A    </td><td>A    </td><td> TRUE</td></tr>\n",
       "\t<tr><td>2    </td><td>4    </td><td>A    </td><td>A    </td><td> TRUE</td></tr>\n",
       "\t<tr><td>3    </td><td>5    </td><td>A    </td><td>A    </td><td> TRUE</td></tr>\n",
       "\t<tr><td>1    </td><td>5    </td><td>A    </td><td>A    </td><td> TRUE</td></tr>\n",
       "\t<tr><td>1    </td><td>4    </td><td>A    </td><td>A    </td><td> TRUE</td></tr>\n",
       "\t<tr><td>5    </td><td>5    </td><td>A    </td><td>A    </td><td> TRUE</td></tr>\n",
       "\t<tr><td>4    </td><td>6    </td><td>A    </td><td>A    </td><td> TRUE</td></tr>\n",
       "\t<tr><td>1    </td><td>3    </td><td>A    </td><td>A    </td><td> TRUE</td></tr>\n",
       "\t<tr><td>5    </td><td>2    </td><td>A    </td><td>B    </td><td>FALSE</td></tr>\n",
       "\t<tr><td>1    </td><td>4    </td><td>A    </td><td>A    </td><td> TRUE</td></tr>\n",
       "\t<tr><td>0    </td><td>3    </td><td>A    </td><td>A    </td><td> TRUE</td></tr>\n",
       "\t<tr><td>0    </td><td>5    </td><td>A    </td><td>A    </td><td> TRUE</td></tr>\n",
       "\t<tr><td>1    </td><td>4    </td><td>A    </td><td>A    </td><td> TRUE</td></tr>\n",
       "\t<tr><td>2    </td><td>6    </td><td>A    </td><td>A    </td><td> TRUE</td></tr>\n",
       "\t<tr><td>2    </td><td>5    </td><td>A    </td><td>A    </td><td> TRUE</td></tr>\n",
       "\t<tr><td>5    </td><td>1    </td><td>A    </td><td>B    </td><td>FALSE</td></tr>\n",
       "\t<tr><td>1    </td><td>2    </td><td>A    </td><td>A    </td><td> TRUE</td></tr>\n",
       "\t<tr><td>3    </td><td>3    </td><td>A    </td><td>A    </td><td> TRUE</td></tr>\n",
       "\t<tr><td>...</td><td>...</td><td>...</td><td>...</td><td>...</td></tr>\n",
       "\t<tr><td>3    </td><td>5    </td><td>B    </td><td>A    </td><td>FALSE</td></tr>\n",
       "\t<tr><td>8    </td><td>4    </td><td>B    </td><td>B    </td><td> TRUE</td></tr>\n",
       "\t<tr><td>9    </td><td>3    </td><td>B    </td><td>B    </td><td> TRUE</td></tr>\n",
       "\t<tr><td>0    </td><td>6    </td><td>B    </td><td>A    </td><td>FALSE</td></tr>\n",
       "\t<tr><td>0    </td><td>5    </td><td>B    </td><td>A    </td><td>FALSE</td></tr>\n",
       "\t<tr><td>9    </td><td>3    </td><td>B    </td><td>B    </td><td> TRUE</td></tr>\n",
       "\t<tr><td>7    </td><td>3    </td><td>B    </td><td>B    </td><td> TRUE</td></tr>\n",
       "\t<tr><td>4    </td><td>2    </td><td>B    </td><td>B    </td><td> TRUE</td></tr>\n",
       "\t<tr><td>5    </td><td>3    </td><td>B    </td><td>B    </td><td> TRUE</td></tr>\n",
       "\t<tr><td>5    </td><td>6    </td><td>B    </td><td>A    </td><td>FALSE</td></tr>\n",
       "\t<tr><td>4    </td><td>7    </td><td>B    </td><td>A    </td><td>FALSE</td></tr>\n",
       "\t<tr><td>5    </td><td>5    </td><td>B    </td><td>A    </td><td>FALSE</td></tr>\n",
       "\t<tr><td>6    </td><td>4    </td><td>B    </td><td>B    </td><td> TRUE</td></tr>\n",
       "\t<tr><td>6    </td><td>6    </td><td>B    </td><td>B    </td><td> TRUE</td></tr>\n",
       "\t<tr><td>9    </td><td>5    </td><td>B    </td><td>B    </td><td> TRUE</td></tr>\n",
       "\t<tr><td>8    </td><td>7    </td><td>B    </td><td>B    </td><td> TRUE</td></tr>\n",
       "\t<tr><td>7    </td><td>8    </td><td>B    </td><td>B    </td><td> TRUE</td></tr>\n",
       "\t<tr><td>7    </td><td>9    </td><td>B    </td><td>B    </td><td> TRUE</td></tr>\n",
       "\t<tr><td>8    </td><td>8    </td><td>B    </td><td>B    </td><td> TRUE</td></tr>\n",
       "\t<tr><td>8    </td><td>7    </td><td>B    </td><td>B    </td><td> TRUE</td></tr>\n",
       "\t<tr><td>9    </td><td>6    </td><td>B    </td><td>B    </td><td> TRUE</td></tr>\n",
       "\t<tr><td>9    </td><td>5    </td><td>B    </td><td>B    </td><td> TRUE</td></tr>\n",
       "\t<tr><td>7    </td><td>7    </td><td>B    </td><td>B    </td><td> TRUE</td></tr>\n",
       "\t<tr><td>7    </td><td>3    </td><td>B    </td><td>B    </td><td> TRUE</td></tr>\n",
       "\t<tr><td>5    </td><td>1    </td><td>B    </td><td>B    </td><td> TRUE</td></tr>\n",
       "\t<tr><td>5    </td><td>2    </td><td>B    </td><td>B    </td><td> TRUE</td></tr>\n",
       "\t<tr><td>8    </td><td>3    </td><td>B    </td><td>B    </td><td> TRUE</td></tr>\n",
       "\t<tr><td>8    </td><td>4    </td><td>B    </td><td>B    </td><td> TRUE</td></tr>\n",
       "\t<tr><td>9    </td><td>5    </td><td>B    </td><td>B    </td><td> TRUE</td></tr>\n",
       "\t<tr><td>8    </td><td>6    </td><td>B    </td><td>B    </td><td> TRUE</td></tr>\n",
       "</tbody>\n",
       "</table>\n"
      ],
      "text/latex": [
       "\\begin{tabular}{r|lllll}\n",
       " x1 & x2 & class & class.predicted.1 & hit.1\\\\\n",
       "\\hline\n",
       "\t 1     & 3     & A     & A     &  TRUE\\\\\n",
       "\t 2     & 2     & A     & A     &  TRUE\\\\\n",
       "\t 3     & 6     & A     & A     &  TRUE\\\\\n",
       "\t 4     & 5     & A     & A     &  TRUE\\\\\n",
       "\t 3     & 4     & A     & A     &  TRUE\\\\\n",
       "\t 2     & 5     & A     & A     &  TRUE\\\\\n",
       "\t 5     & 3     & A     & B     & FALSE\\\\\n",
       "\t 4     & 8     & A     & A     &  TRUE\\\\\n",
       "\t 3     & 9     & A     & A     &  TRUE\\\\\n",
       "\t 2     & 0     & A     & A     &  TRUE\\\\\n",
       "\t 5     & 0     & A     & B     & FALSE\\\\\n",
       "\t 3     & 9     & A     & A     &  TRUE\\\\\n",
       "\t 3     & 7     & A     & A     &  TRUE\\\\\n",
       "\t 2     & 4     & A     & A     &  TRUE\\\\\n",
       "\t 3     & 5     & A     & A     &  TRUE\\\\\n",
       "\t 1     & 5     & A     & A     &  TRUE\\\\\n",
       "\t 1     & 4     & A     & A     &  TRUE\\\\\n",
       "\t 5     & 5     & A     & A     &  TRUE\\\\\n",
       "\t 4     & 6     & A     & A     &  TRUE\\\\\n",
       "\t 1     & 3     & A     & A     &  TRUE\\\\\n",
       "\t 5     & 2     & A     & B     & FALSE\\\\\n",
       "\t 1     & 4     & A     & A     &  TRUE\\\\\n",
       "\t 0     & 3     & A     & A     &  TRUE\\\\\n",
       "\t 0     & 5     & A     & A     &  TRUE\\\\\n",
       "\t 1     & 4     & A     & A     &  TRUE\\\\\n",
       "\t 2     & 6     & A     & A     &  TRUE\\\\\n",
       "\t 2     & 5     & A     & A     &  TRUE\\\\\n",
       "\t 5     & 1     & A     & B     & FALSE\\\\\n",
       "\t 1     & 2     & A     & A     &  TRUE\\\\\n",
       "\t 3     & 3     & A     & A     &  TRUE\\\\\n",
       "\t ... & ... & ... & ... & ...\\\\\n",
       "\t 3     & 5     & B     & A     & FALSE\\\\\n",
       "\t 8     & 4     & B     & B     &  TRUE\\\\\n",
       "\t 9     & 3     & B     & B     &  TRUE\\\\\n",
       "\t 0     & 6     & B     & A     & FALSE\\\\\n",
       "\t 0     & 5     & B     & A     & FALSE\\\\\n",
       "\t 9     & 3     & B     & B     &  TRUE\\\\\n",
       "\t 7     & 3     & B     & B     &  TRUE\\\\\n",
       "\t 4     & 2     & B     & B     &  TRUE\\\\\n",
       "\t 5     & 3     & B     & B     &  TRUE\\\\\n",
       "\t 5     & 6     & B     & A     & FALSE\\\\\n",
       "\t 4     & 7     & B     & A     & FALSE\\\\\n",
       "\t 5     & 5     & B     & A     & FALSE\\\\\n",
       "\t 6     & 4     & B     & B     &  TRUE\\\\\n",
       "\t 6     & 6     & B     & B     &  TRUE\\\\\n",
       "\t 9     & 5     & B     & B     &  TRUE\\\\\n",
       "\t 8     & 7     & B     & B     &  TRUE\\\\\n",
       "\t 7     & 8     & B     & B     &  TRUE\\\\\n",
       "\t 7     & 9     & B     & B     &  TRUE\\\\\n",
       "\t 8     & 8     & B     & B     &  TRUE\\\\\n",
       "\t 8     & 7     & B     & B     &  TRUE\\\\\n",
       "\t 9     & 6     & B     & B     &  TRUE\\\\\n",
       "\t 9     & 5     & B     & B     &  TRUE\\\\\n",
       "\t 7     & 7     & B     & B     &  TRUE\\\\\n",
       "\t 7     & 3     & B     & B     &  TRUE\\\\\n",
       "\t 5     & 1     & B     & B     &  TRUE\\\\\n",
       "\t 5     & 2     & B     & B     &  TRUE\\\\\n",
       "\t 8     & 3     & B     & B     &  TRUE\\\\\n",
       "\t 8     & 4     & B     & B     &  TRUE\\\\\n",
       "\t 9     & 5     & B     & B     &  TRUE\\\\\n",
       "\t 8     & 6     & B     & B     &  TRUE\\\\\n",
       "\\end{tabular}\n"
      ],
      "text/markdown": [
       "\n",
       "| x1 | x2 | class | class.predicted.1 | hit.1 |\n",
       "|---|---|---|---|---|\n",
       "| 1     | 3     | A     | A     |  TRUE |\n",
       "| 2     | 2     | A     | A     |  TRUE |\n",
       "| 3     | 6     | A     | A     |  TRUE |\n",
       "| 4     | 5     | A     | A     |  TRUE |\n",
       "| 3     | 4     | A     | A     |  TRUE |\n",
       "| 2     | 5     | A     | A     |  TRUE |\n",
       "| 5     | 3     | A     | B     | FALSE |\n",
       "| 4     | 8     | A     | A     |  TRUE |\n",
       "| 3     | 9     | A     | A     |  TRUE |\n",
       "| 2     | 0     | A     | A     |  TRUE |\n",
       "| 5     | 0     | A     | B     | FALSE |\n",
       "| 3     | 9     | A     | A     |  TRUE |\n",
       "| 3     | 7     | A     | A     |  TRUE |\n",
       "| 2     | 4     | A     | A     |  TRUE |\n",
       "| 3     | 5     | A     | A     |  TRUE |\n",
       "| 1     | 5     | A     | A     |  TRUE |\n",
       "| 1     | 4     | A     | A     |  TRUE |\n",
       "| 5     | 5     | A     | A     |  TRUE |\n",
       "| 4     | 6     | A     | A     |  TRUE |\n",
       "| 1     | 3     | A     | A     |  TRUE |\n",
       "| 5     | 2     | A     | B     | FALSE |\n",
       "| 1     | 4     | A     | A     |  TRUE |\n",
       "| 0     | 3     | A     | A     |  TRUE |\n",
       "| 0     | 5     | A     | A     |  TRUE |\n",
       "| 1     | 4     | A     | A     |  TRUE |\n",
       "| 2     | 6     | A     | A     |  TRUE |\n",
       "| 2     | 5     | A     | A     |  TRUE |\n",
       "| 5     | 1     | A     | B     | FALSE |\n",
       "| 1     | 2     | A     | A     |  TRUE |\n",
       "| 3     | 3     | A     | A     |  TRUE |\n",
       "| ... | ... | ... | ... | ... |\n",
       "| 3     | 5     | B     | A     | FALSE |\n",
       "| 8     | 4     | B     | B     |  TRUE |\n",
       "| 9     | 3     | B     | B     |  TRUE |\n",
       "| 0     | 6     | B     | A     | FALSE |\n",
       "| 0     | 5     | B     | A     | FALSE |\n",
       "| 9     | 3     | B     | B     |  TRUE |\n",
       "| 7     | 3     | B     | B     |  TRUE |\n",
       "| 4     | 2     | B     | B     |  TRUE |\n",
       "| 5     | 3     | B     | B     |  TRUE |\n",
       "| 5     | 6     | B     | A     | FALSE |\n",
       "| 4     | 7     | B     | A     | FALSE |\n",
       "| 5     | 5     | B     | A     | FALSE |\n",
       "| 6     | 4     | B     | B     |  TRUE |\n",
       "| 6     | 6     | B     | B     |  TRUE |\n",
       "| 9     | 5     | B     | B     |  TRUE |\n",
       "| 8     | 7     | B     | B     |  TRUE |\n",
       "| 7     | 8     | B     | B     |  TRUE |\n",
       "| 7     | 9     | B     | B     |  TRUE |\n",
       "| 8     | 8     | B     | B     |  TRUE |\n",
       "| 8     | 7     | B     | B     |  TRUE |\n",
       "| 9     | 6     | B     | B     |  TRUE |\n",
       "| 9     | 5     | B     | B     |  TRUE |\n",
       "| 7     | 7     | B     | B     |  TRUE |\n",
       "| 7     | 3     | B     | B     |  TRUE |\n",
       "| 5     | 1     | B     | B     |  TRUE |\n",
       "| 5     | 2     | B     | B     |  TRUE |\n",
       "| 8     | 3     | B     | B     |  TRUE |\n",
       "| 8     | 4     | B     | B     |  TRUE |\n",
       "| 9     | 5     | B     | B     |  TRUE |\n",
       "| 8     | 6     | B     | B     |  TRUE |\n",
       "\n"
      ],
      "text/plain": [
       "    x1  x2  class class.predicted.1 hit.1\n",
       "1   1   3   A     A                  TRUE\n",
       "2   2   2   A     A                  TRUE\n",
       "3   3   6   A     A                  TRUE\n",
       "4   4   5   A     A                  TRUE\n",
       "5   3   4   A     A                  TRUE\n",
       "6   2   5   A     A                  TRUE\n",
       "7   5   3   A     B                 FALSE\n",
       "8   4   8   A     A                  TRUE\n",
       "9   3   9   A     A                  TRUE\n",
       "10  2   0   A     A                  TRUE\n",
       "11  5   0   A     B                 FALSE\n",
       "12  3   9   A     A                  TRUE\n",
       "13  3   7   A     A                  TRUE\n",
       "14  2   4   A     A                  TRUE\n",
       "15  3   5   A     A                  TRUE\n",
       "16  1   5   A     A                  TRUE\n",
       "17  1   4   A     A                  TRUE\n",
       "18  5   5   A     A                  TRUE\n",
       "19  4   6   A     A                  TRUE\n",
       "20  1   3   A     A                  TRUE\n",
       "21  5   2   A     B                 FALSE\n",
       "22  1   4   A     A                  TRUE\n",
       "23  0   3   A     A                  TRUE\n",
       "24  0   5   A     A                  TRUE\n",
       "25  1   4   A     A                  TRUE\n",
       "26  2   6   A     A                  TRUE\n",
       "27  2   5   A     A                  TRUE\n",
       "28  5   1   A     B                 FALSE\n",
       "29  1   2   A     A                  TRUE\n",
       "30  3   3   A     A                  TRUE\n",
       "... ... ... ...   ...               ...  \n",
       "43  3   5   B     A                 FALSE\n",
       "44  8   4   B     B                  TRUE\n",
       "45  9   3   B     B                  TRUE\n",
       "46  0   6   B     A                 FALSE\n",
       "47  0   5   B     A                 FALSE\n",
       "48  9   3   B     B                  TRUE\n",
       "49  7   3   B     B                  TRUE\n",
       "50  4   2   B     B                  TRUE\n",
       "51  5   3   B     B                  TRUE\n",
       "52  5   6   B     A                 FALSE\n",
       "53  4   7   B     A                 FALSE\n",
       "54  5   5   B     A                 FALSE\n",
       "55  6   4   B     B                  TRUE\n",
       "56  6   6   B     B                  TRUE\n",
       "57  9   5   B     B                  TRUE\n",
       "58  8   7   B     B                  TRUE\n",
       "59  7   8   B     B                  TRUE\n",
       "60  7   9   B     B                  TRUE\n",
       "61  8   8   B     B                  TRUE\n",
       "62  8   7   B     B                  TRUE\n",
       "63  9   6   B     B                  TRUE\n",
       "64  9   5   B     B                  TRUE\n",
       "65  7   7   B     B                  TRUE\n",
       "66  7   3   B     B                  TRUE\n",
       "67  5   1   B     B                  TRUE\n",
       "68  5   2   B     B                  TRUE\n",
       "69  8   3   B     B                  TRUE\n",
       "70  8   4   B     B                  TRUE\n",
       "71  9   5   B     B                  TRUE\n",
       "72  8   6   B     B                  TRUE"
      ]
     },
     "metadata": {},
     "output_type": "display_data"
    }
   ],
   "source": [
    "prob.1 = predict(model.1, data, type=\"prob\")\n",
    "class.predicted.1 = as.class(prob.1, \"A\", cutoff=0.5)\n",
    "hit.1 = class.predicted.1 == data$class\n",
    "\n",
    "result.1 = data.frame(data, class.predicted.1, hit.1)\n",
    "result.1"
   ]
  },
  {
   "cell_type": "markdown",
   "metadata": {},
   "source": [
    "_Resample the original dataset, choose observations misclassified by Model \\#1 with high probability.  This becomes Dataset \\#2._\n",
    "\n",
    "_Here we choose the incorrectly predicted observations with 10 times greater chance than the correctly predicted observations._"
   ]
  },
  {
   "cell_type": "code",
   "execution_count": 19,
   "metadata": {
    "hide_input": true,
    "scrolled": true
   },
   "outputs": [
    {
     "data": {
      "text/html": [
       "<table>\n",
       "<thead><tr><th></th><th scope=col>x1</th><th scope=col>x2</th><th scope=col>class</th></tr></thead>\n",
       "<tbody>\n",
       "\t<tr><th scope=row>36</th><td>6</td><td>8</td><td>A</td></tr>\n",
       "\t<tr><th scope=row>48</th><td>9</td><td>3</td><td>B</td></tr>\n",
       "\t<tr><th scope=row>24</th><td>0</td><td>5</td><td>A</td></tr>\n",
       "\t<tr><th scope=row>50</th><td>4</td><td>2</td><td>B</td></tr>\n",
       "\t<tr><th scope=row>7</th><td>5</td><td>3</td><td>A</td></tr>\n",
       "\t<tr><th scope=row>35</th><td>5</td><td>4</td><td>A</td></tr>\n",
       "\t<tr><th scope=row>53</th><td>4</td><td>7</td><td>B</td></tr>\n",
       "\t<tr><th scope=row>28</th><td>5</td><td>1</td><td>A</td></tr>\n",
       "\t<tr><th scope=row>15</th><td>3</td><td>5</td><td>A</td></tr>\n",
       "\t<tr><th scope=row>71</th><td>9</td><td>5</td><td>B</td></tr>\n",
       "\t<tr><th scope=row>34</th><td>4</td><td>3</td><td>A</td></tr>\n",
       "\t<tr><th scope=row>35.1</th><td>5</td><td>4</td><td>A</td></tr>\n",
       "\t<tr><th scope=row>14</th><td>2</td><td>4</td><td>A</td></tr>\n",
       "\t<tr><th scope=row>34.1</th><td>4</td><td>3</td><td>A</td></tr>\n",
       "\t<tr><th scope=row>37</th><td>3</td><td>1</td><td>B</td></tr>\n",
       "\t<tr><th scope=row>7.1</th><td>5</td><td>3</td><td>A</td></tr>\n",
       "\t<tr><th scope=row>37.1</th><td>3</td><td>1</td><td>B</td></tr>\n",
       "\t<tr><th scope=row>37.2</th><td>3</td><td>1</td><td>B</td></tr>\n",
       "\t<tr><th scope=row>35.2</th><td>5</td><td>4</td><td>A</td></tr>\n",
       "\t<tr><th scope=row>63</th><td>9</td><td>6</td><td>B</td></tr>\n",
       "\t<tr><th scope=row>7.2</th><td>5</td><td>3</td><td>A</td></tr>\n",
       "\t<tr><th scope=row>53.1</th><td>4</td><td>7</td><td>B</td></tr>\n",
       "\t<tr><th scope=row>66</th><td>7</td><td>3</td><td>B</td></tr>\n",
       "\t<tr><th scope=row>36.1</th><td>6</td><td>8</td><td>A</td></tr>\n",
       "\t<tr><th scope=row>11</th><td>5</td><td>0</td><td>A</td></tr>\n",
       "\t<tr><th scope=row>37.3</th><td>3</td><td>1</td><td>B</td></tr>\n",
       "\t<tr><th scope=row>36.2</th><td>6</td><td>8</td><td>A</td></tr>\n",
       "\t<tr><th scope=row>52</th><td>5</td><td>6</td><td>B</td></tr>\n",
       "\t<tr><th scope=row>38</th><td>2</td><td>2</td><td>B</td></tr>\n",
       "\t<tr><th scope=row>28.1</th><td>5</td><td>1</td><td>A</td></tr>\n",
       "\t<tr><th scope=row>...</th><td>...</td><td>...</td><td>...</td></tr>\n",
       "\t<tr><th scope=row>58</th><td>8</td><td>7</td><td>B</td></tr>\n",
       "\t<tr><th scope=row>27</th><td>2</td><td>5</td><td>A</td></tr>\n",
       "\t<tr><th scope=row>47</th><td>0</td><td>5</td><td>B</td></tr>\n",
       "\t<tr><th scope=row>53.2</th><td>4</td><td>7</td><td>B</td></tr>\n",
       "\t<tr><th scope=row>54</th><td>5</td><td>5</td><td>B</td></tr>\n",
       "\t<tr><th scope=row>34.3</th><td>4</td><td>3</td><td>A</td></tr>\n",
       "\t<tr><th scope=row>54.1</th><td>5</td><td>5</td><td>B</td></tr>\n",
       "\t<tr><th scope=row>46.1</th><td>0</td><td>6</td><td>B</td></tr>\n",
       "\t<tr><th scope=row>66.1</th><td>7</td><td>3</td><td>B</td></tr>\n",
       "\t<tr><th scope=row>5</th><td>3</td><td>4</td><td>A</td></tr>\n",
       "\t<tr><th scope=row>53.3</th><td>4</td><td>7</td><td>B</td></tr>\n",
       "\t<tr><th scope=row>38.1</th><td>2</td><td>2</td><td>B</td></tr>\n",
       "\t<tr><th scope=row>56</th><td>6</td><td>6</td><td>B</td></tr>\n",
       "\t<tr><th scope=row>28.2</th><td>5</td><td>1</td><td>A</td></tr>\n",
       "\t<tr><th scope=row>56.1</th><td>6</td><td>6</td><td>B</td></tr>\n",
       "\t<tr><th scope=row>54.2</th><td>5</td><td>5</td><td>B</td></tr>\n",
       "\t<tr><th scope=row>7.3</th><td>5</td><td>3</td><td>A</td></tr>\n",
       "\t<tr><th scope=row>38.2</th><td>2</td><td>2</td><td>B</td></tr>\n",
       "\t<tr><th scope=row>30</th><td>3</td><td>3</td><td>A</td></tr>\n",
       "\t<tr><th scope=row>47.1</th><td>0</td><td>5</td><td>B</td></tr>\n",
       "\t<tr><th scope=row>71.1</th><td>9</td><td>5</td><td>B</td></tr>\n",
       "\t<tr><th scope=row>3</th><td>3</td><td>6</td><td>A</td></tr>\n",
       "\t<tr><th scope=row>69</th><td>8</td><td>3</td><td>B</td></tr>\n",
       "\t<tr><th scope=row>38.3</th><td>2</td><td>2</td><td>B</td></tr>\n",
       "\t<tr><th scope=row>63.1</th><td>9</td><td>6</td><td>B</td></tr>\n",
       "\t<tr><th scope=row>35.4</th><td>5</td><td>4</td><td>A</td></tr>\n",
       "\t<tr><th scope=row>46.2</th><td>0</td><td>6</td><td>B</td></tr>\n",
       "\t<tr><th scope=row>62</th><td>8</td><td>7</td><td>B</td></tr>\n",
       "\t<tr><th scope=row>36.4</th><td>6</td><td>8</td><td>A</td></tr>\n",
       "\t<tr><th scope=row>28.3</th><td>5</td><td>1</td><td>A</td></tr>\n",
       "</tbody>\n",
       "</table>\n"
      ],
      "text/latex": [
       "\\begin{tabular}{r|lll}\n",
       "  & x1 & x2 & class\\\\\n",
       "\\hline\n",
       "\t36 & 6 & 8 & A\\\\\n",
       "\t48 & 9 & 3 & B\\\\\n",
       "\t24 & 0 & 5 & A\\\\\n",
       "\t50 & 4 & 2 & B\\\\\n",
       "\t7 & 5 & 3 & A\\\\\n",
       "\t35 & 5 & 4 & A\\\\\n",
       "\t53 & 4 & 7 & B\\\\\n",
       "\t28 & 5 & 1 & A\\\\\n",
       "\t15 & 3 & 5 & A\\\\\n",
       "\t71 & 9 & 5 & B\\\\\n",
       "\t34 & 4 & 3 & A\\\\\n",
       "\t35.1 & 5 & 4 & A\\\\\n",
       "\t14 & 2 & 4 & A\\\\\n",
       "\t34.1 & 4 & 3 & A\\\\\n",
       "\t37 & 3 & 1 & B\\\\\n",
       "\t7.1 & 5 & 3 & A\\\\\n",
       "\t37.1 & 3 & 1 & B\\\\\n",
       "\t37.2 & 3 & 1 & B\\\\\n",
       "\t35.2 & 5 & 4 & A\\\\\n",
       "\t63 & 9 & 6 & B\\\\\n",
       "\t7.2 & 5 & 3 & A\\\\\n",
       "\t53.1 & 4 & 7 & B\\\\\n",
       "\t66 & 7 & 3 & B\\\\\n",
       "\t36.1 & 6 & 8 & A\\\\\n",
       "\t11 & 5 & 0 & A\\\\\n",
       "\t37.3 & 3 & 1 & B\\\\\n",
       "\t36.2 & 6 & 8 & A\\\\\n",
       "\t52 & 5 & 6 & B\\\\\n",
       "\t38 & 2 & 2 & B\\\\\n",
       "\t28.1 & 5 & 1 & A\\\\\n",
       "\t... & ... & ... & ...\\\\\n",
       "\t58 & 8 & 7 & B\\\\\n",
       "\t27 & 2 & 5 & A\\\\\n",
       "\t47 & 0 & 5 & B\\\\\n",
       "\t53.2 & 4 & 7 & B\\\\\n",
       "\t54 & 5 & 5 & B\\\\\n",
       "\t34.3 & 4 & 3 & A\\\\\n",
       "\t54.1 & 5 & 5 & B\\\\\n",
       "\t46.1 & 0 & 6 & B\\\\\n",
       "\t66.1 & 7 & 3 & B\\\\\n",
       "\t5 & 3 & 4 & A\\\\\n",
       "\t53.3 & 4 & 7 & B\\\\\n",
       "\t38.1 & 2 & 2 & B\\\\\n",
       "\t56 & 6 & 6 & B\\\\\n",
       "\t28.2 & 5 & 1 & A\\\\\n",
       "\t56.1 & 6 & 6 & B\\\\\n",
       "\t54.2 & 5 & 5 & B\\\\\n",
       "\t7.3 & 5 & 3 & A\\\\\n",
       "\t38.2 & 2 & 2 & B\\\\\n",
       "\t30 & 3 & 3 & A\\\\\n",
       "\t47.1 & 0 & 5 & B\\\\\n",
       "\t71.1 & 9 & 5 & B\\\\\n",
       "\t3 & 3 & 6 & A\\\\\n",
       "\t69 & 8 & 3 & B\\\\\n",
       "\t38.3 & 2 & 2 & B\\\\\n",
       "\t63.1 & 9 & 6 & B\\\\\n",
       "\t35.4 & 5 & 4 & A\\\\\n",
       "\t46.2 & 0 & 6 & B\\\\\n",
       "\t62 & 8 & 7 & B\\\\\n",
       "\t36.4 & 6 & 8 & A\\\\\n",
       "\t28.3 & 5 & 1 & A\\\\\n",
       "\\end{tabular}\n"
      ],
      "text/markdown": [
       "\n",
       "| <!--/--> | x1 | x2 | class |\n",
       "|---|---|---|---|\n",
       "| 36 | 6 | 8 | A |\n",
       "| 48 | 9 | 3 | B |\n",
       "| 24 | 0 | 5 | A |\n",
       "| 50 | 4 | 2 | B |\n",
       "| 7 | 5 | 3 | A |\n",
       "| 35 | 5 | 4 | A |\n",
       "| 53 | 4 | 7 | B |\n",
       "| 28 | 5 | 1 | A |\n",
       "| 15 | 3 | 5 | A |\n",
       "| 71 | 9 | 5 | B |\n",
       "| 34 | 4 | 3 | A |\n",
       "| 35.1 | 5 | 4 | A |\n",
       "| 14 | 2 | 4 | A |\n",
       "| 34.1 | 4 | 3 | A |\n",
       "| 37 | 3 | 1 | B |\n",
       "| 7.1 | 5 | 3 | A |\n",
       "| 37.1 | 3 | 1 | B |\n",
       "| 37.2 | 3 | 1 | B |\n",
       "| 35.2 | 5 | 4 | A |\n",
       "| 63 | 9 | 6 | B |\n",
       "| 7.2 | 5 | 3 | A |\n",
       "| 53.1 | 4 | 7 | B |\n",
       "| 66 | 7 | 3 | B |\n",
       "| 36.1 | 6 | 8 | A |\n",
       "| 11 | 5 | 0 | A |\n",
       "| 37.3 | 3 | 1 | B |\n",
       "| 36.2 | 6 | 8 | A |\n",
       "| 52 | 5 | 6 | B |\n",
       "| 38 | 2 | 2 | B |\n",
       "| 28.1 | 5 | 1 | A |\n",
       "| ... | ... | ... | ... |\n",
       "| 58 | 8 | 7 | B |\n",
       "| 27 | 2 | 5 | A |\n",
       "| 47 | 0 | 5 | B |\n",
       "| 53.2 | 4 | 7 | B |\n",
       "| 54 | 5 | 5 | B |\n",
       "| 34.3 | 4 | 3 | A |\n",
       "| 54.1 | 5 | 5 | B |\n",
       "| 46.1 | 0 | 6 | B |\n",
       "| 66.1 | 7 | 3 | B |\n",
       "| 5 | 3 | 4 | A |\n",
       "| 53.3 | 4 | 7 | B |\n",
       "| 38.1 | 2 | 2 | B |\n",
       "| 56 | 6 | 6 | B |\n",
       "| 28.2 | 5 | 1 | A |\n",
       "| 56.1 | 6 | 6 | B |\n",
       "| 54.2 | 5 | 5 | B |\n",
       "| 7.3 | 5 | 3 | A |\n",
       "| 38.2 | 2 | 2 | B |\n",
       "| 30 | 3 | 3 | A |\n",
       "| 47.1 | 0 | 5 | B |\n",
       "| 71.1 | 9 | 5 | B |\n",
       "| 3 | 3 | 6 | A |\n",
       "| 69 | 8 | 3 | B |\n",
       "| 38.3 | 2 | 2 | B |\n",
       "| 63.1 | 9 | 6 | B |\n",
       "| 35.4 | 5 | 4 | A |\n",
       "| 46.2 | 0 | 6 | B |\n",
       "| 62 | 8 | 7 | B |\n",
       "| 36.4 | 6 | 8 | A |\n",
       "| 28.3 | 5 | 1 | A |\n",
       "\n"
      ],
      "text/plain": [
       "     x1  x2  class\n",
       "36   6   8   A    \n",
       "48   9   3   B    \n",
       "24   0   5   A    \n",
       "50   4   2   B    \n",
       "7    5   3   A    \n",
       "35   5   4   A    \n",
       "53   4   7   B    \n",
       "28   5   1   A    \n",
       "15   3   5   A    \n",
       "71   9   5   B    \n",
       "34   4   3   A    \n",
       "35.1 5   4   A    \n",
       "14   2   4   A    \n",
       "34.1 4   3   A    \n",
       "37   3   1   B    \n",
       "7.1  5   3   A    \n",
       "37.1 3   1   B    \n",
       "37.2 3   1   B    \n",
       "35.2 5   4   A    \n",
       "63   9   6   B    \n",
       "7.2  5   3   A    \n",
       "53.1 4   7   B    \n",
       "66   7   3   B    \n",
       "36.1 6   8   A    \n",
       "11   5   0   A    \n",
       "37.3 3   1   B    \n",
       "36.2 6   8   A    \n",
       "52   5   6   B    \n",
       "38   2   2   B    \n",
       "28.1 5   1   A    \n",
       "...  ... ... ...  \n",
       "58   8   7   B    \n",
       "27   2   5   A    \n",
       "47   0   5   B    \n",
       "53.2 4   7   B    \n",
       "54   5   5   B    \n",
       "34.3 4   3   A    \n",
       "54.1 5   5   B    \n",
       "46.1 0   6   B    \n",
       "66.1 7   3   B    \n",
       "5    3   4   A    \n",
       "53.3 4   7   B    \n",
       "38.1 2   2   B    \n",
       "56   6   6   B    \n",
       "28.2 5   1   A    \n",
       "56.1 6   6   B    \n",
       "54.2 5   5   B    \n",
       "7.3  5   3   A    \n",
       "38.2 2   2   B    \n",
       "30   3   3   A    \n",
       "47.1 0   5   B    \n",
       "71.1 9   5   B    \n",
       "3    3   6   A    \n",
       "69   8   3   B    \n",
       "38.3 2   2   B    \n",
       "63.1 9   6   B    \n",
       "35.4 5   4   A    \n",
       "46.2 0   6   B    \n",
       "62   8   7   B    \n",
       "36.4 6   8   A    \n",
       "28.3 5   1   A    "
      ]
     },
     "metadata": {},
     "output_type": "display_data"
    }
   ],
   "source": [
    "set.seed(12345)\n",
    "data.2 = focus_data(data, hit.1, emphasis=10)\n",
    "data.2"
   ]
  },
  {
   "cell_type": "code",
   "execution_count": 20,
   "metadata": {
    "hide_input": true
   },
   "outputs": [
    {
     "data": {
      "image/png": "[encoded data removed]",
      "text/plain": [
       "plot without title"
      ]
     },
     "metadata": {},
     "output_type": "display_data"
    }
   ],
   "source": [
    "ggplot(data.2) + ggtitle(\"Dataset #2\") +\n",
    "geom_jitter(aes(x=x1, y=x2, color=class), position = position_jitter(height=0.3, width=0.03)) +\n",
    "scale_color_manual(values=PALETTE)"
   ]
  },
  {
   "cell_type": "markdown",
   "metadata": {},
   "source": [
    "_Build Model \\#2 based on Dataset \\#2.  We expect this model to better predict the classes of those observations that Model \\#1 predicted incorrectly._"
   ]
  },
  {
   "cell_type": "code",
   "execution_count": 21,
   "metadata": {},
   "outputs": [
    {
     "data": {
      "image/png": "[encoded data removed]",
      "text/plain": [
       "plot without title"
      ]
     },
     "metadata": {},
     "output_type": "display_data"
    }
   ],
   "source": [
    "model.2 = rpart(class ~ x1+x2, data.2, method=\"class\")\n",
    "\n",
    "output_size(2.5,2.5)\n",
    "ggtree(model.2) + scale_fill_manual(values=PALETTE)\n",
    "output_size(restore)"
   ]
  },
  {
   "cell_type": "markdown",
   "metadata": {},
   "source": [
    "Model #3:\n",
    "\n",
    "_Assess Model #2's ability to predict Dataset #2's classes._"
   ]
  },
  {
   "cell_type": "code",
   "execution_count": 22,
   "metadata": {
    "hide_input": true,
    "scrolled": true
   },
   "outputs": [
    {
     "data": {
      "text/html": [
       "<table>\n",
       "<thead><tr><th></th><th scope=col>x1</th><th scope=col>x2</th><th scope=col>class</th><th scope=col>class.predicted.2</th><th scope=col>hit.2</th></tr></thead>\n",
       "<tbody>\n",
       "\t<tr><th scope=row>36</th><td>6    </td><td>8    </td><td>A    </td><td>B    </td><td>FALSE</td></tr>\n",
       "\t<tr><th scope=row>48</th><td>9    </td><td>3    </td><td>B    </td><td>B    </td><td> TRUE</td></tr>\n",
       "\t<tr><th scope=row>24</th><td>0    </td><td>5    </td><td>A    </td><td>B    </td><td>FALSE</td></tr>\n",
       "\t<tr><th scope=row>50</th><td>4    </td><td>2    </td><td>B    </td><td>B    </td><td> TRUE</td></tr>\n",
       "\t<tr><th scope=row>7</th><td>5    </td><td>3    </td><td>A    </td><td>A    </td><td> TRUE</td></tr>\n",
       "\t<tr><th scope=row>35</th><td>5    </td><td>4    </td><td>A    </td><td>A    </td><td> TRUE</td></tr>\n",
       "\t<tr><th scope=row>53</th><td>4    </td><td>7    </td><td>B    </td><td>B    </td><td> TRUE</td></tr>\n",
       "\t<tr><th scope=row>28</th><td>5    </td><td>1    </td><td>A    </td><td>A    </td><td> TRUE</td></tr>\n",
       "\t<tr><th scope=row>15</th><td>3    </td><td>5    </td><td>A    </td><td>B    </td><td>FALSE</td></tr>\n",
       "\t<tr><th scope=row>71</th><td>9    </td><td>5    </td><td>B    </td><td>B    </td><td> TRUE</td></tr>\n",
       "\t<tr><th scope=row>34</th><td>4    </td><td>3    </td><td>A    </td><td>A    </td><td> TRUE</td></tr>\n",
       "\t<tr><th scope=row>35.1</th><td>5    </td><td>4    </td><td>A    </td><td>A    </td><td> TRUE</td></tr>\n",
       "\t<tr><th scope=row>14</th><td>2    </td><td>4    </td><td>A    </td><td>A    </td><td> TRUE</td></tr>\n",
       "\t<tr><th scope=row>34.1</th><td>4    </td><td>3    </td><td>A    </td><td>A    </td><td> TRUE</td></tr>\n",
       "\t<tr><th scope=row>37</th><td>3    </td><td>1    </td><td>B    </td><td>B    </td><td> TRUE</td></tr>\n",
       "\t<tr><th scope=row>7.1</th><td>5    </td><td>3    </td><td>A    </td><td>A    </td><td> TRUE</td></tr>\n",
       "\t<tr><th scope=row>37.1</th><td>3    </td><td>1    </td><td>B    </td><td>B    </td><td> TRUE</td></tr>\n",
       "\t<tr><th scope=row>37.2</th><td>3    </td><td>1    </td><td>B    </td><td>B    </td><td> TRUE</td></tr>\n",
       "\t<tr><th scope=row>35.2</th><td>5    </td><td>4    </td><td>A    </td><td>A    </td><td> TRUE</td></tr>\n",
       "\t<tr><th scope=row>63</th><td>9    </td><td>6    </td><td>B    </td><td>B    </td><td> TRUE</td></tr>\n",
       "\t<tr><th scope=row>7.2</th><td>5    </td><td>3    </td><td>A    </td><td>A    </td><td> TRUE</td></tr>\n",
       "\t<tr><th scope=row>53.1</th><td>4    </td><td>7    </td><td>B    </td><td>B    </td><td> TRUE</td></tr>\n",
       "\t<tr><th scope=row>66</th><td>7    </td><td>3    </td><td>B    </td><td>B    </td><td> TRUE</td></tr>\n",
       "\t<tr><th scope=row>36.1</th><td>6    </td><td>8    </td><td>A    </td><td>B    </td><td>FALSE</td></tr>\n",
       "\t<tr><th scope=row>11</th><td>5    </td><td>0    </td><td>A    </td><td>A    </td><td> TRUE</td></tr>\n",
       "\t<tr><th scope=row>37.3</th><td>3    </td><td>1    </td><td>B    </td><td>B    </td><td> TRUE</td></tr>\n",
       "\t<tr><th scope=row>36.2</th><td>6    </td><td>8    </td><td>A    </td><td>B    </td><td>FALSE</td></tr>\n",
       "\t<tr><th scope=row>52</th><td>5    </td><td>6    </td><td>B    </td><td>B    </td><td> TRUE</td></tr>\n",
       "\t<tr><th scope=row>38</th><td>2    </td><td>2    </td><td>B    </td><td>B    </td><td> TRUE</td></tr>\n",
       "\t<tr><th scope=row>28.1</th><td>5    </td><td>1    </td><td>A    </td><td>A    </td><td> TRUE</td></tr>\n",
       "\t<tr><th scope=row>...</th><td>...</td><td>...</td><td>...</td><td>...</td><td>...</td></tr>\n",
       "\t<tr><th scope=row>58</th><td>8    </td><td>7    </td><td>B    </td><td>B    </td><td> TRUE</td></tr>\n",
       "\t<tr><th scope=row>27</th><td>2    </td><td>5    </td><td>A    </td><td>B    </td><td>FALSE</td></tr>\n",
       "\t<tr><th scope=row>47</th><td>0    </td><td>5    </td><td>B    </td><td>B    </td><td> TRUE</td></tr>\n",
       "\t<tr><th scope=row>53.2</th><td>4    </td><td>7    </td><td>B    </td><td>B    </td><td> TRUE</td></tr>\n",
       "\t<tr><th scope=row>54</th><td>5    </td><td>5    </td><td>B    </td><td>B    </td><td> TRUE</td></tr>\n",
       "\t<tr><th scope=row>34.3</th><td>4    </td><td>3    </td><td>A    </td><td>A    </td><td> TRUE</td></tr>\n",
       "\t<tr><th scope=row>54.1</th><td>5    </td><td>5    </td><td>B    </td><td>B    </td><td> TRUE</td></tr>\n",
       "\t<tr><th scope=row>46.1</th><td>0    </td><td>6    </td><td>B    </td><td>B    </td><td> TRUE</td></tr>\n",
       "\t<tr><th scope=row>66.1</th><td>7    </td><td>3    </td><td>B    </td><td>B    </td><td> TRUE</td></tr>\n",
       "\t<tr><th scope=row>5</th><td>3    </td><td>4    </td><td>A    </td><td>A    </td><td> TRUE</td></tr>\n",
       "\t<tr><th scope=row>53.3</th><td>4    </td><td>7    </td><td>B    </td><td>B    </td><td> TRUE</td></tr>\n",
       "\t<tr><th scope=row>38.1</th><td>2    </td><td>2    </td><td>B    </td><td>B    </td><td> TRUE</td></tr>\n",
       "\t<tr><th scope=row>56</th><td>6    </td><td>6    </td><td>B    </td><td>B    </td><td> TRUE</td></tr>\n",
       "\t<tr><th scope=row>28.2</th><td>5    </td><td>1    </td><td>A    </td><td>A    </td><td> TRUE</td></tr>\n",
       "\t<tr><th scope=row>56.1</th><td>6    </td><td>6    </td><td>B    </td><td>B    </td><td> TRUE</td></tr>\n",
       "\t<tr><th scope=row>54.2</th><td>5    </td><td>5    </td><td>B    </td><td>B    </td><td> TRUE</td></tr>\n",
       "\t<tr><th scope=row>7.3</th><td>5    </td><td>3    </td><td>A    </td><td>A    </td><td> TRUE</td></tr>\n",
       "\t<tr><th scope=row>38.2</th><td>2    </td><td>2    </td><td>B    </td><td>B    </td><td> TRUE</td></tr>\n",
       "\t<tr><th scope=row>30</th><td>3    </td><td>3    </td><td>A    </td><td>A    </td><td> TRUE</td></tr>\n",
       "\t<tr><th scope=row>47.1</th><td>0    </td><td>5    </td><td>B    </td><td>B    </td><td> TRUE</td></tr>\n",
       "\t<tr><th scope=row>71.1</th><td>9    </td><td>5    </td><td>B    </td><td>B    </td><td> TRUE</td></tr>\n",
       "\t<tr><th scope=row>3</th><td>3    </td><td>6    </td><td>A    </td><td>B    </td><td>FALSE</td></tr>\n",
       "\t<tr><th scope=row>69</th><td>8    </td><td>3    </td><td>B    </td><td>B    </td><td> TRUE</td></tr>\n",
       "\t<tr><th scope=row>38.3</th><td>2    </td><td>2    </td><td>B    </td><td>B    </td><td> TRUE</td></tr>\n",
       "\t<tr><th scope=row>63.1</th><td>9    </td><td>6    </td><td>B    </td><td>B    </td><td> TRUE</td></tr>\n",
       "\t<tr><th scope=row>35.4</th><td>5    </td><td>4    </td><td>A    </td><td>A    </td><td> TRUE</td></tr>\n",
       "\t<tr><th scope=row>46.2</th><td>0    </td><td>6    </td><td>B    </td><td>B    </td><td> TRUE</td></tr>\n",
       "\t<tr><th scope=row>62</th><td>8    </td><td>7    </td><td>B    </td><td>B    </td><td> TRUE</td></tr>\n",
       "\t<tr><th scope=row>36.4</th><td>6    </td><td>8    </td><td>A    </td><td>B    </td><td>FALSE</td></tr>\n",
       "\t<tr><th scope=row>28.3</th><td>5    </td><td>1    </td><td>A    </td><td>A    </td><td> TRUE</td></tr>\n",
       "</tbody>\n",
       "</table>\n"
      ],
      "text/latex": [
       "\\begin{tabular}{r|lllll}\n",
       "  & x1 & x2 & class & class.predicted.2 & hit.2\\\\\n",
       "\\hline\n",
       "\t36 & 6     & 8     & A     & B     & FALSE\\\\\n",
       "\t48 & 9     & 3     & B     & B     &  TRUE\\\\\n",
       "\t24 & 0     & 5     & A     & B     & FALSE\\\\\n",
       "\t50 & 4     & 2     & B     & B     &  TRUE\\\\\n",
       "\t7 & 5     & 3     & A     & A     &  TRUE\\\\\n",
       "\t35 & 5     & 4     & A     & A     &  TRUE\\\\\n",
       "\t53 & 4     & 7     & B     & B     &  TRUE\\\\\n",
       "\t28 & 5     & 1     & A     & A     &  TRUE\\\\\n",
       "\t15 & 3     & 5     & A     & B     & FALSE\\\\\n",
       "\t71 & 9     & 5     & B     & B     &  TRUE\\\\\n",
       "\t34 & 4     & 3     & A     & A     &  TRUE\\\\\n",
       "\t35.1 & 5     & 4     & A     & A     &  TRUE\\\\\n",
       "\t14 & 2     & 4     & A     & A     &  TRUE\\\\\n",
       "\t34.1 & 4     & 3     & A     & A     &  TRUE\\\\\n",
       "\t37 & 3     & 1     & B     & B     &  TRUE\\\\\n",
       "\t7.1 & 5     & 3     & A     & A     &  TRUE\\\\\n",
       "\t37.1 & 3     & 1     & B     & B     &  TRUE\\\\\n",
       "\t37.2 & 3     & 1     & B     & B     &  TRUE\\\\\n",
       "\t35.2 & 5     & 4     & A     & A     &  TRUE\\\\\n",
       "\t63 & 9     & 6     & B     & B     &  TRUE\\\\\n",
       "\t7.2 & 5     & 3     & A     & A     &  TRUE\\\\\n",
       "\t53.1 & 4     & 7     & B     & B     &  TRUE\\\\\n",
       "\t66 & 7     & 3     & B     & B     &  TRUE\\\\\n",
       "\t36.1 & 6     & 8     & A     & B     & FALSE\\\\\n",
       "\t11 & 5     & 0     & A     & A     &  TRUE\\\\\n",
       "\t37.3 & 3     & 1     & B     & B     &  TRUE\\\\\n",
       "\t36.2 & 6     & 8     & A     & B     & FALSE\\\\\n",
       "\t52 & 5     & 6     & B     & B     &  TRUE\\\\\n",
       "\t38 & 2     & 2     & B     & B     &  TRUE\\\\\n",
       "\t28.1 & 5     & 1     & A     & A     &  TRUE\\\\\n",
       "\t... & ... & ... & ... & ... & ...\\\\\n",
       "\t58 & 8     & 7     & B     & B     &  TRUE\\\\\n",
       "\t27 & 2     & 5     & A     & B     & FALSE\\\\\n",
       "\t47 & 0     & 5     & B     & B     &  TRUE\\\\\n",
       "\t53.2 & 4     & 7     & B     & B     &  TRUE\\\\\n",
       "\t54 & 5     & 5     & B     & B     &  TRUE\\\\\n",
       "\t34.3 & 4     & 3     & A     & A     &  TRUE\\\\\n",
       "\t54.1 & 5     & 5     & B     & B     &  TRUE\\\\\n",
       "\t46.1 & 0     & 6     & B     & B     &  TRUE\\\\\n",
       "\t66.1 & 7     & 3     & B     & B     &  TRUE\\\\\n",
       "\t5 & 3     & 4     & A     & A     &  TRUE\\\\\n",
       "\t53.3 & 4     & 7     & B     & B     &  TRUE\\\\\n",
       "\t38.1 & 2     & 2     & B     & B     &  TRUE\\\\\n",
       "\t56 & 6     & 6     & B     & B     &  TRUE\\\\\n",
       "\t28.2 & 5     & 1     & A     & A     &  TRUE\\\\\n",
       "\t56.1 & 6     & 6     & B     & B     &  TRUE\\\\\n",
       "\t54.2 & 5     & 5     & B     & B     &  TRUE\\\\\n",
       "\t7.3 & 5     & 3     & A     & A     &  TRUE\\\\\n",
       "\t38.2 & 2     & 2     & B     & B     &  TRUE\\\\\n",
       "\t30 & 3     & 3     & A     & A     &  TRUE\\\\\n",
       "\t47.1 & 0     & 5     & B     & B     &  TRUE\\\\\n",
       "\t71.1 & 9     & 5     & B     & B     &  TRUE\\\\\n",
       "\t3 & 3     & 6     & A     & B     & FALSE\\\\\n",
       "\t69 & 8     & 3     & B     & B     &  TRUE\\\\\n",
       "\t38.3 & 2     & 2     & B     & B     &  TRUE\\\\\n",
       "\t63.1 & 9     & 6     & B     & B     &  TRUE\\\\\n",
       "\t35.4 & 5     & 4     & A     & A     &  TRUE\\\\\n",
       "\t46.2 & 0     & 6     & B     & B     &  TRUE\\\\\n",
       "\t62 & 8     & 7     & B     & B     &  TRUE\\\\\n",
       "\t36.4 & 6     & 8     & A     & B     & FALSE\\\\\n",
       "\t28.3 & 5     & 1     & A     & A     &  TRUE\\\\\n",
       "\\end{tabular}\n"
      ],
      "text/markdown": [
       "\n",
       "| <!--/--> | x1 | x2 | class | class.predicted.2 | hit.2 |\n",
       "|---|---|---|---|---|---|\n",
       "| 36 | 6     | 8     | A     | B     | FALSE |\n",
       "| 48 | 9     | 3     | B     | B     |  TRUE |\n",
       "| 24 | 0     | 5     | A     | B     | FALSE |\n",
       "| 50 | 4     | 2     | B     | B     |  TRUE |\n",
       "| 7 | 5     | 3     | A     | A     |  TRUE |\n",
       "| 35 | 5     | 4     | A     | A     |  TRUE |\n",
       "| 53 | 4     | 7     | B     | B     |  TRUE |\n",
       "| 28 | 5     | 1     | A     | A     |  TRUE |\n",
       "| 15 | 3     | 5     | A     | B     | FALSE |\n",
       "| 71 | 9     | 5     | B     | B     |  TRUE |\n",
       "| 34 | 4     | 3     | A     | A     |  TRUE |\n",
       "| 35.1 | 5     | 4     | A     | A     |  TRUE |\n",
       "| 14 | 2     | 4     | A     | A     |  TRUE |\n",
       "| 34.1 | 4     | 3     | A     | A     |  TRUE |\n",
       "| 37 | 3     | 1     | B     | B     |  TRUE |\n",
       "| 7.1 | 5     | 3     | A     | A     |  TRUE |\n",
       "| 37.1 | 3     | 1     | B     | B     |  TRUE |\n",
       "| 37.2 | 3     | 1     | B     | B     |  TRUE |\n",
       "| 35.2 | 5     | 4     | A     | A     |  TRUE |\n",
       "| 63 | 9     | 6     | B     | B     |  TRUE |\n",
       "| 7.2 | 5     | 3     | A     | A     |  TRUE |\n",
       "| 53.1 | 4     | 7     | B     | B     |  TRUE |\n",
       "| 66 | 7     | 3     | B     | B     |  TRUE |\n",
       "| 36.1 | 6     | 8     | A     | B     | FALSE |\n",
       "| 11 | 5     | 0     | A     | A     |  TRUE |\n",
       "| 37.3 | 3     | 1     | B     | B     |  TRUE |\n",
       "| 36.2 | 6     | 8     | A     | B     | FALSE |\n",
       "| 52 | 5     | 6     | B     | B     |  TRUE |\n",
       "| 38 | 2     | 2     | B     | B     |  TRUE |\n",
       "| 28.1 | 5     | 1     | A     | A     |  TRUE |\n",
       "| ... | ... | ... | ... | ... | ... |\n",
       "| 58 | 8     | 7     | B     | B     |  TRUE |\n",
       "| 27 | 2     | 5     | A     | B     | FALSE |\n",
       "| 47 | 0     | 5     | B     | B     |  TRUE |\n",
       "| 53.2 | 4     | 7     | B     | B     |  TRUE |\n",
       "| 54 | 5     | 5     | B     | B     |  TRUE |\n",
       "| 34.3 | 4     | 3     | A     | A     |  TRUE |\n",
       "| 54.1 | 5     | 5     | B     | B     |  TRUE |\n",
       "| 46.1 | 0     | 6     | B     | B     |  TRUE |\n",
       "| 66.1 | 7     | 3     | B     | B     |  TRUE |\n",
       "| 5 | 3     | 4     | A     | A     |  TRUE |\n",
       "| 53.3 | 4     | 7     | B     | B     |  TRUE |\n",
       "| 38.1 | 2     | 2     | B     | B     |  TRUE |\n",
       "| 56 | 6     | 6     | B     | B     |  TRUE |\n",
       "| 28.2 | 5     | 1     | A     | A     |  TRUE |\n",
       "| 56.1 | 6     | 6     | B     | B     |  TRUE |\n",
       "| 54.2 | 5     | 5     | B     | B     |  TRUE |\n",
       "| 7.3 | 5     | 3     | A     | A     |  TRUE |\n",
       "| 38.2 | 2     | 2     | B     | B     |  TRUE |\n",
       "| 30 | 3     | 3     | A     | A     |  TRUE |\n",
       "| 47.1 | 0     | 5     | B     | B     |  TRUE |\n",
       "| 71.1 | 9     | 5     | B     | B     |  TRUE |\n",
       "| 3 | 3     | 6     | A     | B     | FALSE |\n",
       "| 69 | 8     | 3     | B     | B     |  TRUE |\n",
       "| 38.3 | 2     | 2     | B     | B     |  TRUE |\n",
       "| 63.1 | 9     | 6     | B     | B     |  TRUE |\n",
       "| 35.4 | 5     | 4     | A     | A     |  TRUE |\n",
       "| 46.2 | 0     | 6     | B     | B     |  TRUE |\n",
       "| 62 | 8     | 7     | B     | B     |  TRUE |\n",
       "| 36.4 | 6     | 8     | A     | B     | FALSE |\n",
       "| 28.3 | 5     | 1     | A     | A     |  TRUE |\n",
       "\n"
      ],
      "text/plain": [
       "     x1  x2  class class.predicted.2 hit.2\n",
       "36   6   8   A     B                 FALSE\n",
       "48   9   3   B     B                  TRUE\n",
       "24   0   5   A     B                 FALSE\n",
       "50   4   2   B     B                  TRUE\n",
       "7    5   3   A     A                  TRUE\n",
       "35   5   4   A     A                  TRUE\n",
       "53   4   7   B     B                  TRUE\n",
       "28   5   1   A     A                  TRUE\n",
       "15   3   5   A     B                 FALSE\n",
       "71   9   5   B     B                  TRUE\n",
       "34   4   3   A     A                  TRUE\n",
       "35.1 5   4   A     A                  TRUE\n",
       "14   2   4   A     A                  TRUE\n",
       "34.1 4   3   A     A                  TRUE\n",
       "37   3   1   B     B                  TRUE\n",
       "7.1  5   3   A     A                  TRUE\n",
       "37.1 3   1   B     B                  TRUE\n",
       "37.2 3   1   B     B                  TRUE\n",
       "35.2 5   4   A     A                  TRUE\n",
       "63   9   6   B     B                  TRUE\n",
       "7.2  5   3   A     A                  TRUE\n",
       "53.1 4   7   B     B                  TRUE\n",
       "66   7   3   B     B                  TRUE\n",
       "36.1 6   8   A     B                 FALSE\n",
       "11   5   0   A     A                  TRUE\n",
       "37.3 3   1   B     B                  TRUE\n",
       "36.2 6   8   A     B                 FALSE\n",
       "52   5   6   B     B                  TRUE\n",
       "38   2   2   B     B                  TRUE\n",
       "28.1 5   1   A     A                  TRUE\n",
       "...  ... ... ...   ...               ...  \n",
       "58   8   7   B     B                  TRUE\n",
       "27   2   5   A     B                 FALSE\n",
       "47   0   5   B     B                  TRUE\n",
       "53.2 4   7   B     B                  TRUE\n",
       "54   5   5   B     B                  TRUE\n",
       "34.3 4   3   A     A                  TRUE\n",
       "54.1 5   5   B     B                  TRUE\n",
       "46.1 0   6   B     B                  TRUE\n",
       "66.1 7   3   B     B                  TRUE\n",
       "5    3   4   A     A                  TRUE\n",
       "53.3 4   7   B     B                  TRUE\n",
       "38.1 2   2   B     B                  TRUE\n",
       "56   6   6   B     B                  TRUE\n",
       "28.2 5   1   A     A                  TRUE\n",
       "56.1 6   6   B     B                  TRUE\n",
       "54.2 5   5   B     B                  TRUE\n",
       "7.3  5   3   A     A                  TRUE\n",
       "38.2 2   2   B     B                  TRUE\n",
       "30   3   3   A     A                  TRUE\n",
       "47.1 0   5   B     B                  TRUE\n",
       "71.1 9   5   B     B                  TRUE\n",
       "3    3   6   A     B                 FALSE\n",
       "69   8   3   B     B                  TRUE\n",
       "38.3 2   2   B     B                  TRUE\n",
       "63.1 9   6   B     B                  TRUE\n",
       "35.4 5   4   A     A                  TRUE\n",
       "46.2 0   6   B     B                  TRUE\n",
       "62   8   7   B     B                  TRUE\n",
       "36.4 6   8   A     B                 FALSE\n",
       "28.3 5   1   A     A                  TRUE"
      ]
     },
     "metadata": {},
     "output_type": "display_data"
    }
   ],
   "source": [
    "prob.2 = predict(model.2, data.2, type=\"prob\")\n",
    "class.predicted.2 = as.class(prob.2, \"A\", cutoff=0.5)\n",
    "hit.2 = class.predicted.2 == data.2$class\n",
    "\n",
    "result.2 = data.frame(data.2, class.predicted.2, hit.2)\n",
    "result.2"
   ]
  },
  {
   "cell_type": "markdown",
   "metadata": {},
   "source": [
    "_Resample Dataset \\#2, choose observations misclassified by Model \\#2 with high probability.  This becomes Dataset \\#3._\n",
    "\n",
    "_Here we choose the incorrectly predicted observations with 10 times greater chance than the correctly predicted observations._"
   ]
  },
  {
   "cell_type": "code",
   "execution_count": 23,
   "metadata": {
    "hide_input": true,
    "scrolled": true
   },
   "outputs": [
    {
     "data": {
      "text/html": [
       "<table>\n",
       "<thead><tr><th></th><th scope=col>x1</th><th scope=col>x2</th><th scope=col>class</th></tr></thead>\n",
       "<tbody>\n",
       "\t<tr><th scope=row>52</th><td>5</td><td>6</td><td>B</td></tr>\n",
       "\t<tr><th scope=row>53.3</th><td>4</td><td>7</td><td>B</td></tr>\n",
       "\t<tr><th scope=row>28.3</th><td>5</td><td>1</td><td>A</td></tr>\n",
       "\t<tr><th scope=row>56</th><td>6</td><td>6</td><td>B</td></tr>\n",
       "\t<tr><th scope=row>36.1</th><td>6</td><td>8</td><td>A</td></tr>\n",
       "\t<tr><th scope=row>3</th><td>3</td><td>6</td><td>A</td></tr>\n",
       "\t<tr><th scope=row>36.2</th><td>6</td><td>8</td><td>A</td></tr>\n",
       "\t<tr><th scope=row>15</th><td>3</td><td>5</td><td>A</td></tr>\n",
       "\t<tr><th scope=row>38</th><td>2</td><td>2</td><td>B</td></tr>\n",
       "\t<tr><th scope=row>50</th><td>4</td><td>2</td><td>B</td></tr>\n",
       "\t<tr><th scope=row>9</th><td>3</td><td>9</td><td>A</td></tr>\n",
       "\t<tr><th scope=row>3.1</th><td>3</td><td>6</td><td>A</td></tr>\n",
       "\t<tr><th scope=row>31</th><td>1</td><td>4</td><td>A</td></tr>\n",
       "\t<tr><th scope=row>9.1</th><td>3</td><td>9</td><td>A</td></tr>\n",
       "\t<tr><th scope=row>24</th><td>0</td><td>5</td><td>A</td></tr>\n",
       "\t<tr><th scope=row>36.1.1</th><td>6</td><td>8</td><td>A</td></tr>\n",
       "\t<tr><th scope=row>24.1</th><td>0</td><td>5</td><td>A</td></tr>\n",
       "\t<tr><th scope=row>24.2</th><td>0</td><td>5</td><td>A</td></tr>\n",
       "\t<tr><th scope=row>3.2</th><td>3</td><td>6</td><td>A</td></tr>\n",
       "\t<tr><th scope=row>69</th><td>8</td><td>3</td><td>B</td></tr>\n",
       "\t<tr><th scope=row>36.1.2</th><td>6</td><td>8</td><td>A</td></tr>\n",
       "\t<tr><th scope=row>36.2.1</th><td>6</td><td>8</td><td>A</td></tr>\n",
       "\t<tr><th scope=row>7.1</th><td>5</td><td>3</td><td>A</td></tr>\n",
       "\t<tr><th scope=row>37.3</th><td>3</td><td>1</td><td>B</td></tr>\n",
       "\t<tr><th scope=row>34.3</th><td>4</td><td>3</td><td>A</td></tr>\n",
       "\t<tr><th scope=row>24.3</th><td>0</td><td>5</td><td>A</td></tr>\n",
       "\t<tr><th scope=row>11</th><td>5</td><td>0</td><td>A</td></tr>\n",
       "\t<tr><th scope=row>15.1</th><td>3</td><td>5</td><td>A</td></tr>\n",
       "\t<tr><th scope=row>36</th><td>6</td><td>8</td><td>A</td></tr>\n",
       "\t<tr><th scope=row>36.1.3</th><td>6</td><td>8</td><td>A</td></tr>\n",
       "\t<tr><th scope=row>...</th><td>...</td><td>...</td><td>...</td></tr>\n",
       "\t<tr><th scope=row>47.1</th><td>0</td><td>5</td><td>B</td></tr>\n",
       "\t<tr><th scope=row>37.2</th><td>3</td><td>1</td><td>B</td></tr>\n",
       "\t<tr><th scope=row>36.4</th><td>6</td><td>8</td><td>A</td></tr>\n",
       "\t<tr><th scope=row>36.2.4</th><td>6</td><td>8</td><td>A</td></tr>\n",
       "\t<tr><th scope=row>9.3</th><td>3</td><td>9</td><td>A</td></tr>\n",
       "\t<tr><th scope=row>9.4</th><td>3</td><td>9</td><td>A</td></tr>\n",
       "\t<tr><th scope=row>9.5</th><td>3</td><td>9</td><td>A</td></tr>\n",
       "\t<tr><th scope=row>14</th><td>2</td><td>4</td><td>A</td></tr>\n",
       "\t<tr><th scope=row>7.1.1</th><td>5</td><td>3</td><td>A</td></tr>\n",
       "\t<tr><th scope=row>53.2</th><td>4</td><td>7</td><td>B</td></tr>\n",
       "\t<tr><th scope=row>36.2.5</th><td>6</td><td>8</td><td>A</td></tr>\n",
       "\t<tr><th scope=row>36.6</th><td>6</td><td>8</td><td>A</td></tr>\n",
       "\t<tr><th scope=row>28.1</th><td>5</td><td>1</td><td>A</td></tr>\n",
       "\t<tr><th scope=row>15.2</th><td>3</td><td>5</td><td>A</td></tr>\n",
       "\t<tr><th scope=row>28.1.1</th><td>5</td><td>1</td><td>A</td></tr>\n",
       "\t<tr><th scope=row>27</th><td>2</td><td>5</td><td>A</td></tr>\n",
       "\t<tr><th scope=row>36.1.4</th><td>6</td><td>8</td><td>A</td></tr>\n",
       "\t<tr><th scope=row>36.7</th><td>6</td><td>8</td><td>A</td></tr>\n",
       "\t<tr><th scope=row>21.1</th><td>5</td><td>2</td><td>A</td></tr>\n",
       "\t<tr><th scope=row>36.4.1</th><td>6</td><td>8</td><td>A</td></tr>\n",
       "\t<tr><th scope=row>28</th><td>5</td><td>1</td><td>A</td></tr>\n",
       "\t<tr><th scope=row>35.2</th><td>5</td><td>4</td><td>A</td></tr>\n",
       "\t<tr><th scope=row>62</th><td>8</td><td>7</td><td>B</td></tr>\n",
       "\t<tr><th scope=row>36.8</th><td>6</td><td>8</td><td>A</td></tr>\n",
       "\t<tr><th scope=row>35.3</th><td>5</td><td>4</td><td>A</td></tr>\n",
       "\t<tr><th scope=row>3.4</th><td>3</td><td>6</td><td>A</td></tr>\n",
       "\t<tr><th scope=row>36.3</th><td>6</td><td>8</td><td>A</td></tr>\n",
       "\t<tr><th scope=row>35.3.1</th><td>5</td><td>4</td><td>A</td></tr>\n",
       "\t<tr><th scope=row>66</th><td>7</td><td>3</td><td>B</td></tr>\n",
       "\t<tr><th scope=row>15.3</th><td>3</td><td>5</td><td>A</td></tr>\n",
       "</tbody>\n",
       "</table>\n"
      ],
      "text/latex": [
       "\\begin{tabular}{r|lll}\n",
       "  & x1 & x2 & class\\\\\n",
       "\\hline\n",
       "\t52 & 5 & 6 & B\\\\\n",
       "\t53.3 & 4 & 7 & B\\\\\n",
       "\t28.3 & 5 & 1 & A\\\\\n",
       "\t56 & 6 & 6 & B\\\\\n",
       "\t36.1 & 6 & 8 & A\\\\\n",
       "\t3 & 3 & 6 & A\\\\\n",
       "\t36.2 & 6 & 8 & A\\\\\n",
       "\t15 & 3 & 5 & A\\\\\n",
       "\t38 & 2 & 2 & B\\\\\n",
       "\t50 & 4 & 2 & B\\\\\n",
       "\t9 & 3 & 9 & A\\\\\n",
       "\t3.1 & 3 & 6 & A\\\\\n",
       "\t31 & 1 & 4 & A\\\\\n",
       "\t9.1 & 3 & 9 & A\\\\\n",
       "\t24 & 0 & 5 & A\\\\\n",
       "\t36.1.1 & 6 & 8 & A\\\\\n",
       "\t24.1 & 0 & 5 & A\\\\\n",
       "\t24.2 & 0 & 5 & A\\\\\n",
       "\t3.2 & 3 & 6 & A\\\\\n",
       "\t69 & 8 & 3 & B\\\\\n",
       "\t36.1.2 & 6 & 8 & A\\\\\n",
       "\t36.2.1 & 6 & 8 & A\\\\\n",
       "\t7.1 & 5 & 3 & A\\\\\n",
       "\t37.3 & 3 & 1 & B\\\\\n",
       "\t34.3 & 4 & 3 & A\\\\\n",
       "\t24.3 & 0 & 5 & A\\\\\n",
       "\t11 & 5 & 0 & A\\\\\n",
       "\t15.1 & 3 & 5 & A\\\\\n",
       "\t36 & 6 & 8 & A\\\\\n",
       "\t36.1.3 & 6 & 8 & A\\\\\n",
       "\t... & ... & ... & ...\\\\\n",
       "\t47.1 & 0 & 5 & B\\\\\n",
       "\t37.2 & 3 & 1 & B\\\\\n",
       "\t36.4 & 6 & 8 & A\\\\\n",
       "\t36.2.4 & 6 & 8 & A\\\\\n",
       "\t9.3 & 3 & 9 & A\\\\\n",
       "\t9.4 & 3 & 9 & A\\\\\n",
       "\t9.5 & 3 & 9 & A\\\\\n",
       "\t14 & 2 & 4 & A\\\\\n",
       "\t7.1.1 & 5 & 3 & A\\\\\n",
       "\t53.2 & 4 & 7 & B\\\\\n",
       "\t36.2.5 & 6 & 8 & A\\\\\n",
       "\t36.6 & 6 & 8 & A\\\\\n",
       "\t28.1 & 5 & 1 & A\\\\\n",
       "\t15.2 & 3 & 5 & A\\\\\n",
       "\t28.1.1 & 5 & 1 & A\\\\\n",
       "\t27 & 2 & 5 & A\\\\\n",
       "\t36.1.4 & 6 & 8 & A\\\\\n",
       "\t36.7 & 6 & 8 & A\\\\\n",
       "\t21.1 & 5 & 2 & A\\\\\n",
       "\t36.4.1 & 6 & 8 & A\\\\\n",
       "\t28 & 5 & 1 & A\\\\\n",
       "\t35.2 & 5 & 4 & A\\\\\n",
       "\t62 & 8 & 7 & B\\\\\n",
       "\t36.8 & 6 & 8 & A\\\\\n",
       "\t35.3 & 5 & 4 & A\\\\\n",
       "\t3.4 & 3 & 6 & A\\\\\n",
       "\t36.3 & 6 & 8 & A\\\\\n",
       "\t35.3.1 & 5 & 4 & A\\\\\n",
       "\t66 & 7 & 3 & B\\\\\n",
       "\t15.3 & 3 & 5 & A\\\\\n",
       "\\end{tabular}\n"
      ],
      "text/markdown": [
       "\n",
       "| <!--/--> | x1 | x2 | class |\n",
       "|---|---|---|---|\n",
       "| 52 | 5 | 6 | B |\n",
       "| 53.3 | 4 | 7 | B |\n",
       "| 28.3 | 5 | 1 | A |\n",
       "| 56 | 6 | 6 | B |\n",
       "| 36.1 | 6 | 8 | A |\n",
       "| 3 | 3 | 6 | A |\n",
       "| 36.2 | 6 | 8 | A |\n",
       "| 15 | 3 | 5 | A |\n",
       "| 38 | 2 | 2 | B |\n",
       "| 50 | 4 | 2 | B |\n",
       "| 9 | 3 | 9 | A |\n",
       "| 3.1 | 3 | 6 | A |\n",
       "| 31 | 1 | 4 | A |\n",
       "| 9.1 | 3 | 9 | A |\n",
       "| 24 | 0 | 5 | A |\n",
       "| 36.1.1 | 6 | 8 | A |\n",
       "| 24.1 | 0 | 5 | A |\n",
       "| 24.2 | 0 | 5 | A |\n",
       "| 3.2 | 3 | 6 | A |\n",
       "| 69 | 8 | 3 | B |\n",
       "| 36.1.2 | 6 | 8 | A |\n",
       "| 36.2.1 | 6 | 8 | A |\n",
       "| 7.1 | 5 | 3 | A |\n",
       "| 37.3 | 3 | 1 | B |\n",
       "| 34.3 | 4 | 3 | A |\n",
       "| 24.3 | 0 | 5 | A |\n",
       "| 11 | 5 | 0 | A |\n",
       "| 15.1 | 3 | 5 | A |\n",
       "| 36 | 6 | 8 | A |\n",
       "| 36.1.3 | 6 | 8 | A |\n",
       "| ... | ... | ... | ... |\n",
       "| 47.1 | 0 | 5 | B |\n",
       "| 37.2 | 3 | 1 | B |\n",
       "| 36.4 | 6 | 8 | A |\n",
       "| 36.2.4 | 6 | 8 | A |\n",
       "| 9.3 | 3 | 9 | A |\n",
       "| 9.4 | 3 | 9 | A |\n",
       "| 9.5 | 3 | 9 | A |\n",
       "| 14 | 2 | 4 | A |\n",
       "| 7.1.1 | 5 | 3 | A |\n",
       "| 53.2 | 4 | 7 | B |\n",
       "| 36.2.5 | 6 | 8 | A |\n",
       "| 36.6 | 6 | 8 | A |\n",
       "| 28.1 | 5 | 1 | A |\n",
       "| 15.2 | 3 | 5 | A |\n",
       "| 28.1.1 | 5 | 1 | A |\n",
       "| 27 | 2 | 5 | A |\n",
       "| 36.1.4 | 6 | 8 | A |\n",
       "| 36.7 | 6 | 8 | A |\n",
       "| 21.1 | 5 | 2 | A |\n",
       "| 36.4.1 | 6 | 8 | A |\n",
       "| 28 | 5 | 1 | A |\n",
       "| 35.2 | 5 | 4 | A |\n",
       "| 62 | 8 | 7 | B |\n",
       "| 36.8 | 6 | 8 | A |\n",
       "| 35.3 | 5 | 4 | A |\n",
       "| 3.4 | 3 | 6 | A |\n",
       "| 36.3 | 6 | 8 | A |\n",
       "| 35.3.1 | 5 | 4 | A |\n",
       "| 66 | 7 | 3 | B |\n",
       "| 15.3 | 3 | 5 | A |\n",
       "\n"
      ],
      "text/plain": [
       "       x1  x2  class\n",
       "52     5   6   B    \n",
       "53.3   4   7   B    \n",
       "28.3   5   1   A    \n",
       "56     6   6   B    \n",
       "36.1   6   8   A    \n",
       "3      3   6   A    \n",
       "36.2   6   8   A    \n",
       "15     3   5   A    \n",
       "38     2   2   B    \n",
       "50     4   2   B    \n",
       "9      3   9   A    \n",
       "3.1    3   6   A    \n",
       "31     1   4   A    \n",
       "9.1    3   9   A    \n",
       "24     0   5   A    \n",
       "36.1.1 6   8   A    \n",
       "24.1   0   5   A    \n",
       "24.2   0   5   A    \n",
       "3.2    3   6   A    \n",
       "69     8   3   B    \n",
       "36.1.2 6   8   A    \n",
       "36.2.1 6   8   A    \n",
       "7.1    5   3   A    \n",
       "37.3   3   1   B    \n",
       "34.3   4   3   A    \n",
       "24.3   0   5   A    \n",
       "11     5   0   A    \n",
       "15.1   3   5   A    \n",
       "36     6   8   A    \n",
       "36.1.3 6   8   A    \n",
       "...    ... ... ...  \n",
       "47.1   0   5   B    \n",
       "37.2   3   1   B    \n",
       "36.4   6   8   A    \n",
       "36.2.4 6   8   A    \n",
       "9.3    3   9   A    \n",
       "9.4    3   9   A    \n",
       "9.5    3   9   A    \n",
       "14     2   4   A    \n",
       "7.1.1  5   3   A    \n",
       "53.2   4   7   B    \n",
       "36.2.5 6   8   A    \n",
       "36.6   6   8   A    \n",
       "28.1   5   1   A    \n",
       "15.2   3   5   A    \n",
       "28.1.1 5   1   A    \n",
       "27     2   5   A    \n",
       "36.1.4 6   8   A    \n",
       "36.7   6   8   A    \n",
       "21.1   5   2   A    \n",
       "36.4.1 6   8   A    \n",
       "28     5   1   A    \n",
       "35.2   5   4   A    \n",
       "62     8   7   B    \n",
       "36.8   6   8   A    \n",
       "35.3   5   4   A    \n",
       "3.4    3   6   A    \n",
       "36.3   6   8   A    \n",
       "35.3.1 5   4   A    \n",
       "66     7   3   B    \n",
       "15.3   3   5   A    "
      ]
     },
     "metadata": {},
     "output_type": "display_data"
    }
   ],
   "source": [
    "set.seed(12345)\n",
    "data.3 = focus_data(data.2, hit.2, emphasis=10)\n",
    "data.3"
   ]
  },
  {
   "cell_type": "code",
   "execution_count": 24,
   "metadata": {
    "hide_input": true
   },
   "outputs": [
    {
     "data": {
      "image/png": "[encoded data removed]",
      "text/plain": [
       "plot without title"
      ]
     },
     "metadata": {},
     "output_type": "display_data"
    }
   ],
   "source": [
    "ggplot(data.3) + ggtitle(\"Dataset #3\") +\n",
    "geom_jitter(aes(x=x1, y=x2, color=class), position = position_jitter(height=0.3, width=0.03))"
   ]
  },
  {
   "cell_type": "markdown",
   "metadata": {},
   "source": [
    "_Build Model \\#3 based on Dataset \\#3.  We expect this model to better predict the classes of those observations that Model \\#2 predicted incorrectly._"
   ]
  },
  {
   "cell_type": "code",
   "execution_count": 25,
   "metadata": {
    "hide_input": true
   },
   "outputs": [
    {
     "data": {
      "image/png": "[encoded data removed]",
      "text/plain": [
       "plot without title"
      ]
     },
     "metadata": {},
     "output_type": "display_data"
    }
   ],
   "source": [
    "model.3 = rpart(class ~ x1+x2, data.3, method=\"class\")\n",
    "\n",
    "output_size(2.5,2.5)\n",
    "ggtree(model.3) + scale_fill_manual(values=PALETTE)\n",
    "output_size(restore)"
   ]
  },
  {
   "cell_type": "markdown",
   "metadata": {},
   "source": [
    "#### Predictions"
   ]
  },
  {
   "cell_type": "markdown",
   "metadata": {},
   "source": [
    "New observation's class predicted by Model 1: "
   ]
  },
  {
   "cell_type": "code",
   "execution_count": 26,
   "metadata": {
    "hide_input": true
   },
   "outputs": [
    {
     "data": {
      "text/html": [
       "<table>\n",
       "<thead><tr><th scope=col>A</th><th scope=col>B</th></tr></thead>\n",
       "<tbody>\n",
       "\t<tr><td>0.4615385</td><td>0.5384615</td></tr>\n",
       "</tbody>\n",
       "</table>\n"
      ],
      "text/latex": [
       "\\begin{tabular}{r|ll}\n",
       " A & B\\\\\n",
       "\\hline\n",
       "\t 0.4615385 & 0.5384615\\\\\n",
       "\\end{tabular}\n"
      ],
      "text/markdown": [
       "\n",
       "| A | B |\n",
       "|---|---|\n",
       "| 0.4615385 | 0.5384615 |\n",
       "\n"
      ],
      "text/plain": [
       "  A         B        \n",
       "1 0.4615385 0.5384615"
      ]
     },
     "metadata": {},
     "output_type": "display_data"
    },
    {
     "data": {
      "text/html": [
       "<table>\n",
       "<thead><tr><th scope=col>x1</th><th scope=col>x2</th><th scope=col>class.predicted.1</th></tr></thead>\n",
       "<tbody>\n",
       "\t<tr><td>5.2</td><td>4  </td><td>B  </td></tr>\n",
       "</tbody>\n",
       "</table>\n"
      ],
      "text/latex": [
       "\\begin{tabular}{r|lll}\n",
       " x1 & x2 & class.predicted.1\\\\\n",
       "\\hline\n",
       "\t 5.2 & 4   & B  \\\\\n",
       "\\end{tabular}\n"
      ],
      "text/markdown": [
       "\n",
       "| x1 | x2 | class.predicted.1 |\n",
       "|---|---|---|\n",
       "| 5.2 | 4   | B   |\n",
       "\n"
      ],
      "text/plain": [
       "  x1  x2 class.predicted.1\n",
       "1 5.2 4  B                "
      ]
     },
     "metadata": {},
     "output_type": "display_data"
    }
   ],
   "source": [
    "prob.1 = predict(model.1, new, type=\"prob\")\n",
    "class.predicted.1 = as.class(prob.1, \"A\", cutoff=0.5)\n",
    "\n",
    "prob.1\n",
    "data.frame(new, class.predicted.1)"
   ]
  },
  {
   "cell_type": "markdown",
   "metadata": {},
   "source": [
    "New observation's class predicted by Model 2: "
   ]
  },
  {
   "cell_type": "code",
   "execution_count": 27,
   "metadata": {
    "hide_input": true
   },
   "outputs": [
    {
     "data": {
      "text/html": [
       "<table>\n",
       "<thead><tr><th scope=col>A</th><th scope=col>B</th></tr></thead>\n",
       "<tbody>\n",
       "\t<tr><td>1</td><td>0</td></tr>\n",
       "</tbody>\n",
       "</table>\n"
      ],
      "text/latex": [
       "\\begin{tabular}{r|ll}\n",
       " A & B\\\\\n",
       "\\hline\n",
       "\t 1 & 0\\\\\n",
       "\\end{tabular}\n"
      ],
      "text/markdown": [
       "\n",
       "| A | B |\n",
       "|---|---|\n",
       "| 1 | 0 |\n",
       "\n"
      ],
      "text/plain": [
       "  A B\n",
       "1 1 0"
      ]
     },
     "metadata": {},
     "output_type": "display_data"
    },
    {
     "data": {
      "text/html": [
       "<table>\n",
       "<thead><tr><th scope=col>x1</th><th scope=col>x2</th><th scope=col>class.predicted.2</th></tr></thead>\n",
       "<tbody>\n",
       "\t<tr><td>5.2</td><td>4  </td><td>A  </td></tr>\n",
       "</tbody>\n",
       "</table>\n"
      ],
      "text/latex": [
       "\\begin{tabular}{r|lll}\n",
       " x1 & x2 & class.predicted.2\\\\\n",
       "\\hline\n",
       "\t 5.2 & 4   & A  \\\\\n",
       "\\end{tabular}\n"
      ],
      "text/markdown": [
       "\n",
       "| x1 | x2 | class.predicted.2 |\n",
       "|---|---|---|\n",
       "| 5.2 | 4   | A   |\n",
       "\n"
      ],
      "text/plain": [
       "  x1  x2 class.predicted.2\n",
       "1 5.2 4  A                "
      ]
     },
     "metadata": {},
     "output_type": "display_data"
    }
   ],
   "source": [
    "prob.2 = predict(model.2, new, type=\"prob\")\n",
    "class.predicted.2 = as.class(prob.2, \"A\", cutoff=0.5)\n",
    "\n",
    "prob.2\n",
    "data.frame(new, class.predicted.2)"
   ]
  },
  {
   "cell_type": "markdown",
   "metadata": {},
   "source": [
    "New observation's class predicted by Model 3: "
   ]
  },
  {
   "cell_type": "code",
   "execution_count": 28,
   "metadata": {
    "hide_input": true
   },
   "outputs": [
    {
     "data": {
      "text/html": [
       "<table>\n",
       "<thead><tr><th scope=col>A</th><th scope=col>B</th></tr></thead>\n",
       "<tbody>\n",
       "\t<tr><td>0.7714286</td><td>0.2285714</td></tr>\n",
       "</tbody>\n",
       "</table>\n"
      ],
      "text/latex": [
       "\\begin{tabular}{r|ll}\n",
       " A & B\\\\\n",
       "\\hline\n",
       "\t 0.7714286 & 0.2285714\\\\\n",
       "\\end{tabular}\n"
      ],
      "text/markdown": [
       "\n",
       "| A | B |\n",
       "|---|---|\n",
       "| 0.7714286 | 0.2285714 |\n",
       "\n"
      ],
      "text/plain": [
       "  A         B        \n",
       "1 0.7714286 0.2285714"
      ]
     },
     "metadata": {},
     "output_type": "display_data"
    },
    {
     "data": {
      "text/html": [
       "<table>\n",
       "<thead><tr><th scope=col>x1</th><th scope=col>x2</th><th scope=col>class.predicted.3</th></tr></thead>\n",
       "<tbody>\n",
       "\t<tr><td>5.2</td><td>4  </td><td>A  </td></tr>\n",
       "</tbody>\n",
       "</table>\n"
      ],
      "text/latex": [
       "\\begin{tabular}{r|lll}\n",
       " x1 & x2 & class.predicted.3\\\\\n",
       "\\hline\n",
       "\t 5.2 & 4   & A  \\\\\n",
       "\\end{tabular}\n"
      ],
      "text/markdown": [
       "\n",
       "| x1 | x2 | class.predicted.3 |\n",
       "|---|---|---|\n",
       "| 5.2 | 4   | A   |\n",
       "\n"
      ],
      "text/plain": [
       "  x1  x2 class.predicted.3\n",
       "1 5.2 4  A                "
      ]
     },
     "metadata": {},
     "output_type": "display_data"
    }
   ],
   "source": [
    "prob.3 = predict(model.3, new, type=\"prob\")\n",
    "class.predicted.3 = as.class(prob.3, \"A\", cutoff=0.5)\n",
    "\n",
    "prob.3\n",
    "data.frame(new, class.predicted.3)"
   ]
  },
  {
   "cell_type": "markdown",
   "metadata": {},
   "source": [
    "#### Vote\n",
    "\n",
    "We can compare the predictions of models and vote for the most popular prediction.  \n",
    "\n",
    "Here model 1 predicts that the class of the new observation is B, and models 2 and 3 predict A.  The vote is 2 to 1 in favor of A, so the boosted model predicts A."
   ]
  },
  {
   "cell_type": "code",
   "execution_count": 29,
   "metadata": {
    "hide_input": true,
    "scrolled": true
   },
   "outputs": [
    {
     "data": {
      "text/html": [
       "<table>\n",
       "<thead><tr><th scope=col>class.predicted.1</th><th scope=col>class.predicted.2</th><th scope=col>class.predicted.3</th></tr></thead>\n",
       "<tbody>\n",
       "\t<tr><td>B</td><td>A</td><td>A</td></tr>\n",
       "</tbody>\n",
       "</table>\n"
      ],
      "text/latex": [
       "\\begin{tabular}{r|lll}\n",
       " class.predicted.1 & class.predicted.2 & class.predicted.3\\\\\n",
       "\\hline\n",
       "\t B & A & A\\\\\n",
       "\\end{tabular}\n"
      ],
      "text/markdown": [
       "\n",
       "| class.predicted.1 | class.predicted.2 | class.predicted.3 |\n",
       "|---|---|---|\n",
       "| B | A | A |\n",
       "\n"
      ],
      "text/plain": [
       "  class.predicted.1 class.predicted.2 class.predicted.3\n",
       "1 B                 A                 A                "
      ]
     },
     "metadata": {},
     "output_type": "display_data"
    }
   ],
   "source": [
    "data.frame(class.predicted.1, class.predicted.2, class.predicted.3)"
   ]
  },
  {
   "cell_type": "code",
   "execution_count": 30,
   "metadata": {
    "hide_input": true
   },
   "outputs": [
    {
     "data": {
      "text/html": [
       "<table>\n",
       "<thead><tr><th scope=col>class.predicted</th></tr></thead>\n",
       "<tbody>\n",
       "\t<tr><td>A</td></tr>\n",
       "</tbody>\n",
       "</table>\n"
      ],
      "text/latex": [
       "\\begin{tabular}{r|l}\n",
       " class.predicted\\\\\n",
       "\\hline\n",
       "\t A\\\\\n",
       "\\end{tabular}\n"
      ],
      "text/markdown": [
       "\n",
       "| class.predicted |\n",
       "|---|\n",
       "| A |\n",
       "\n"
      ],
      "text/plain": [
       "  class.predicted\n",
       "1 A              "
      ]
     },
     "metadata": {},
     "output_type": "display_data"
    }
   ],
   "source": [
    "data.frame(class.predicted=vote(class.predicted.1, class.predicted.2, class.predicted.3))"
   ]
  },
  {
   "cell_type": "markdown",
   "metadata": {},
   "source": [
    "### Stacking\n",
    "\n",
    "Build several models and make predictions.  Then build a new model, using some predictive analytic method, based on the predictions that the other models would make about the original data.\n",
    "\n",
    "You can think of a stacked model as an expert about a committee of other experts. "
   ]
  },
  {
   "cell_type": "markdown",
   "metadata": {},
   "source": [
    "<br>\n",
    "\n",
    "####  Models Based on Original Data\n",
    "\n",
    "Build several models, using different methods and/or different hyper-parameter settings, but based on the same data.\n",
    "\n",
    "Here we build 3 different such models and use them to make 3 different sets of predictions of the classes of the origial data."
   ]
  },
  {
   "cell_type": "code",
   "execution_count": 31,
   "metadata": {
    "hide_input": false
   },
   "outputs": [],
   "source": [
    "set.seed(12345)\n",
    "model.1 = rpart(class ~ x1+x2, data, method=\"class\")\n",
    "model.2 = naiveBayes(class ~ x1+x2, data)\n",
    "model.3 = svm(class ~ x1+x2, data, kernel=\"radial\", gamma=1, cost=1, scale=FALSE, probability=TRUE)"
   ]
  },
  {
   "cell_type": "code",
   "execution_count": 32,
   "metadata": {
    "scrolled": true
   },
   "outputs": [],
   "source": [
    "prob.1 = predict(model.1, data, type=\"prob\")\n",
    "class.predicted.1 = as.class(prob.1, \"A\", cutoff=0.5)\n",
    "\n",
    "prob.2 = predict(model.2, data, type=\"raw\")\n",
    "class.predicted.2 = as.class(prob.2, \"A\", cutoff=0.5)\n",
    "\n",
    "prob.3 = attr(predict(model.3, data, probability=TRUE), \"probabilities\")\n",
    "class.predicted.3 = as.class(prob.3, \"A\", cutoff=0.3)"
   ]
  },
  {
   "cell_type": "markdown",
   "metadata": {},
   "source": [
    "#### Data"
   ]
  },
  {
   "cell_type": "code",
   "execution_count": 33,
   "metadata": {
    "hide_input": true,
    "scrolled": true
   },
   "outputs": [
    {
     "data": {
      "text/html": [
       "<table>\n",
       "<thead><tr><th scope=col>x1</th><th scope=col>x2</th><th scope=col>class.predicted.1</th><th scope=col>class.predicted.2</th><th scope=col>class.predicted.3</th><th scope=col>class</th></tr></thead>\n",
       "<tbody>\n",
       "\t<tr><td>1</td><td>3</td><td>A</td><td>A</td><td>A</td><td>A</td></tr>\n",
       "\t<tr><td>2</td><td>2</td><td>A</td><td>A</td><td>A</td><td>A</td></tr>\n",
       "\t<tr><td>3</td><td>6</td><td>A</td><td>A</td><td>A</td><td>A</td></tr>\n",
       "\t<tr><td>4</td><td>5</td><td>A</td><td>A</td><td>A</td><td>A</td></tr>\n",
       "\t<tr><td>3</td><td>4</td><td>A</td><td>A</td><td>A</td><td>A</td></tr>\n",
       "\t<tr><td>2</td><td>5</td><td>A</td><td>A</td><td>A</td><td>A</td></tr>\n",
       "\t<tr><td>5</td><td>3</td><td>B</td><td>B</td><td>A</td><td>A</td></tr>\n",
       "\t<tr><td>4</td><td>8</td><td>A</td><td>A</td><td>A</td><td>A</td></tr>\n",
       "\t<tr><td>3</td><td>9</td><td>A</td><td>A</td><td>A</td><td>A</td></tr>\n",
       "\t<tr><td>2</td><td>0</td><td>A</td><td>A</td><td>A</td><td>A</td></tr>\n",
       "\t<tr><td>5</td><td>0</td><td>B</td><td>B</td><td>A</td><td>A</td></tr>\n",
       "\t<tr><td>3</td><td>9</td><td>A</td><td>A</td><td>A</td><td>A</td></tr>\n",
       "\t<tr><td>3</td><td>7</td><td>A</td><td>A</td><td>A</td><td>A</td></tr>\n",
       "\t<tr><td>2</td><td>4</td><td>A</td><td>A</td><td>A</td><td>A</td></tr>\n",
       "\t<tr><td>3</td><td>5</td><td>A</td><td>A</td><td>A</td><td>A</td></tr>\n",
       "\t<tr><td>1</td><td>5</td><td>A</td><td>A</td><td>A</td><td>A</td></tr>\n",
       "\t<tr><td>1</td><td>4</td><td>A</td><td>A</td><td>A</td><td>A</td></tr>\n",
       "\t<tr><td>5</td><td>5</td><td>A</td><td>B</td><td>A</td><td>A</td></tr>\n",
       "\t<tr><td>4</td><td>6</td><td>A</td><td>A</td><td>A</td><td>A</td></tr>\n",
       "\t<tr><td>1</td><td>3</td><td>A</td><td>A</td><td>A</td><td>A</td></tr>\n",
       "\t<tr><td>5</td><td>2</td><td>B</td><td>B</td><td>B</td><td>A</td></tr>\n",
       "\t<tr><td>1</td><td>4</td><td>A</td><td>A</td><td>A</td><td>A</td></tr>\n",
       "\t<tr><td>0</td><td>3</td><td>A</td><td>A</td><td>A</td><td>A</td></tr>\n",
       "\t<tr><td>0</td><td>5</td><td>A</td><td>A</td><td>A</td><td>A</td></tr>\n",
       "\t<tr><td>1</td><td>4</td><td>A</td><td>A</td><td>A</td><td>A</td></tr>\n",
       "\t<tr><td>2</td><td>6</td><td>A</td><td>A</td><td>A</td><td>A</td></tr>\n",
       "\t<tr><td>2</td><td>5</td><td>A</td><td>A</td><td>A</td><td>A</td></tr>\n",
       "\t<tr><td>5</td><td>1</td><td>B</td><td>B</td><td>A</td><td>A</td></tr>\n",
       "\t<tr><td>1</td><td>2</td><td>A</td><td>A</td><td>A</td><td>A</td></tr>\n",
       "\t<tr><td>3</td><td>3</td><td>A</td><td>A</td><td>A</td><td>A</td></tr>\n",
       "\t<tr><td>...</td><td>...</td><td>...</td><td>...</td><td>...</td><td>...</td></tr>\n",
       "\t<tr><td>3</td><td>5</td><td>A</td><td>A</td><td>A</td><td>B</td></tr>\n",
       "\t<tr><td>8</td><td>4</td><td>B</td><td>B</td><td>B</td><td>B</td></tr>\n",
       "\t<tr><td>9</td><td>3</td><td>B</td><td>B</td><td>B</td><td>B</td></tr>\n",
       "\t<tr><td>0</td><td>6</td><td>A</td><td>A</td><td>A</td><td>B</td></tr>\n",
       "\t<tr><td>0</td><td>5</td><td>A</td><td>A</td><td>A</td><td>B</td></tr>\n",
       "\t<tr><td>9</td><td>3</td><td>B</td><td>B</td><td>B</td><td>B</td></tr>\n",
       "\t<tr><td>7</td><td>3</td><td>B</td><td>B</td><td>B</td><td>B</td></tr>\n",
       "\t<tr><td>4</td><td>2</td><td>B</td><td>A</td><td>B</td><td>B</td></tr>\n",
       "\t<tr><td>5</td><td>3</td><td>B</td><td>B</td><td>A</td><td>B</td></tr>\n",
       "\t<tr><td>5</td><td>6</td><td>A</td><td>B</td><td>A</td><td>B</td></tr>\n",
       "\t<tr><td>4</td><td>7</td><td>A</td><td>A</td><td>A</td><td>B</td></tr>\n",
       "\t<tr><td>5</td><td>5</td><td>A</td><td>B</td><td>A</td><td>B</td></tr>\n",
       "\t<tr><td>6</td><td>4</td><td>B</td><td>B</td><td>B</td><td>B</td></tr>\n",
       "\t<tr><td>6</td><td>6</td><td>B</td><td>B</td><td>B</td><td>B</td></tr>\n",
       "\t<tr><td>9</td><td>5</td><td>B</td><td>B</td><td>B</td><td>B</td></tr>\n",
       "\t<tr><td>8</td><td>7</td><td>B</td><td>B</td><td>B</td><td>B</td></tr>\n",
       "\t<tr><td>7</td><td>8</td><td>B</td><td>B</td><td>B</td><td>B</td></tr>\n",
       "\t<tr><td>7</td><td>9</td><td>B</td><td>B</td><td>B</td><td>B</td></tr>\n",
       "\t<tr><td>8</td><td>8</td><td>B</td><td>B</td><td>B</td><td>B</td></tr>\n",
       "\t<tr><td>8</td><td>7</td><td>B</td><td>B</td><td>B</td><td>B</td></tr>\n",
       "\t<tr><td>9</td><td>6</td><td>B</td><td>B</td><td>B</td><td>B</td></tr>\n",
       "\t<tr><td>9</td><td>5</td><td>B</td><td>B</td><td>B</td><td>B</td></tr>\n",
       "\t<tr><td>7</td><td>7</td><td>B</td><td>B</td><td>B</td><td>B</td></tr>\n",
       "\t<tr><td>7</td><td>3</td><td>B</td><td>B</td><td>B</td><td>B</td></tr>\n",
       "\t<tr><td>5</td><td>1</td><td>B</td><td>B</td><td>A</td><td>B</td></tr>\n",
       "\t<tr><td>5</td><td>2</td><td>B</td><td>B</td><td>B</td><td>B</td></tr>\n",
       "\t<tr><td>8</td><td>3</td><td>B</td><td>B</td><td>B</td><td>B</td></tr>\n",
       "\t<tr><td>8</td><td>4</td><td>B</td><td>B</td><td>B</td><td>B</td></tr>\n",
       "\t<tr><td>9</td><td>5</td><td>B</td><td>B</td><td>B</td><td>B</td></tr>\n",
       "\t<tr><td>8</td><td>6</td><td>B</td><td>B</td><td>B</td><td>B</td></tr>\n",
       "</tbody>\n",
       "</table>\n"
      ],
      "text/latex": [
       "\\begin{tabular}{r|llllll}\n",
       " x1 & x2 & class.predicted.1 & class.predicted.2 & class.predicted.3 & class\\\\\n",
       "\\hline\n",
       "\t 1 & 3 & A & A & A & A\\\\\n",
       "\t 2 & 2 & A & A & A & A\\\\\n",
       "\t 3 & 6 & A & A & A & A\\\\\n",
       "\t 4 & 5 & A & A & A & A\\\\\n",
       "\t 3 & 4 & A & A & A & A\\\\\n",
       "\t 2 & 5 & A & A & A & A\\\\\n",
       "\t 5 & 3 & B & B & A & A\\\\\n",
       "\t 4 & 8 & A & A & A & A\\\\\n",
       "\t 3 & 9 & A & A & A & A\\\\\n",
       "\t 2 & 0 & A & A & A & A\\\\\n",
       "\t 5 & 0 & B & B & A & A\\\\\n",
       "\t 3 & 9 & A & A & A & A\\\\\n",
       "\t 3 & 7 & A & A & A & A\\\\\n",
       "\t 2 & 4 & A & A & A & A\\\\\n",
       "\t 3 & 5 & A & A & A & A\\\\\n",
       "\t 1 & 5 & A & A & A & A\\\\\n",
       "\t 1 & 4 & A & A & A & A\\\\\n",
       "\t 5 & 5 & A & B & A & A\\\\\n",
       "\t 4 & 6 & A & A & A & A\\\\\n",
       "\t 1 & 3 & A & A & A & A\\\\\n",
       "\t 5 & 2 & B & B & B & A\\\\\n",
       "\t 1 & 4 & A & A & A & A\\\\\n",
       "\t 0 & 3 & A & A & A & A\\\\\n",
       "\t 0 & 5 & A & A & A & A\\\\\n",
       "\t 1 & 4 & A & A & A & A\\\\\n",
       "\t 2 & 6 & A & A & A & A\\\\\n",
       "\t 2 & 5 & A & A & A & A\\\\\n",
       "\t 5 & 1 & B & B & A & A\\\\\n",
       "\t 1 & 2 & A & A & A & A\\\\\n",
       "\t 3 & 3 & A & A & A & A\\\\\n",
       "\t ... & ... & ... & ... & ... & ...\\\\\n",
       "\t 3 & 5 & A & A & A & B\\\\\n",
       "\t 8 & 4 & B & B & B & B\\\\\n",
       "\t 9 & 3 & B & B & B & B\\\\\n",
       "\t 0 & 6 & A & A & A & B\\\\\n",
       "\t 0 & 5 & A & A & A & B\\\\\n",
       "\t 9 & 3 & B & B & B & B\\\\\n",
       "\t 7 & 3 & B & B & B & B\\\\\n",
       "\t 4 & 2 & B & A & B & B\\\\\n",
       "\t 5 & 3 & B & B & A & B\\\\\n",
       "\t 5 & 6 & A & B & A & B\\\\\n",
       "\t 4 & 7 & A & A & A & B\\\\\n",
       "\t 5 & 5 & A & B & A & B\\\\\n",
       "\t 6 & 4 & B & B & B & B\\\\\n",
       "\t 6 & 6 & B & B & B & B\\\\\n",
       "\t 9 & 5 & B & B & B & B\\\\\n",
       "\t 8 & 7 & B & B & B & B\\\\\n",
       "\t 7 & 8 & B & B & B & B\\\\\n",
       "\t 7 & 9 & B & B & B & B\\\\\n",
       "\t 8 & 8 & B & B & B & B\\\\\n",
       "\t 8 & 7 & B & B & B & B\\\\\n",
       "\t 9 & 6 & B & B & B & B\\\\\n",
       "\t 9 & 5 & B & B & B & B\\\\\n",
       "\t 7 & 7 & B & B & B & B\\\\\n",
       "\t 7 & 3 & B & B & B & B\\\\\n",
       "\t 5 & 1 & B & B & A & B\\\\\n",
       "\t 5 & 2 & B & B & B & B\\\\\n",
       "\t 8 & 3 & B & B & B & B\\\\\n",
       "\t 8 & 4 & B & B & B & B\\\\\n",
       "\t 9 & 5 & B & B & B & B\\\\\n",
       "\t 8 & 6 & B & B & B & B\\\\\n",
       "\\end{tabular}\n"
      ],
      "text/markdown": [
       "\n",
       "| x1 | x2 | class.predicted.1 | class.predicted.2 | class.predicted.3 | class |\n",
       "|---|---|---|---|---|---|\n",
       "| 1 | 3 | A | A | A | A |\n",
       "| 2 | 2 | A | A | A | A |\n",
       "| 3 | 6 | A | A | A | A |\n",
       "| 4 | 5 | A | A | A | A |\n",
       "| 3 | 4 | A | A | A | A |\n",
       "| 2 | 5 | A | A | A | A |\n",
       "| 5 | 3 | B | B | A | A |\n",
       "| 4 | 8 | A | A | A | A |\n",
       "| 3 | 9 | A | A | A | A |\n",
       "| 2 | 0 | A | A | A | A |\n",
       "| 5 | 0 | B | B | A | A |\n",
       "| 3 | 9 | A | A | A | A |\n",
       "| 3 | 7 | A | A | A | A |\n",
       "| 2 | 4 | A | A | A | A |\n",
       "| 3 | 5 | A | A | A | A |\n",
       "| 1 | 5 | A | A | A | A |\n",
       "| 1 | 4 | A | A | A | A |\n",
       "| 5 | 5 | A | B | A | A |\n",
       "| 4 | 6 | A | A | A | A |\n",
       "| 1 | 3 | A | A | A | A |\n",
       "| 5 | 2 | B | B | B | A |\n",
       "| 1 | 4 | A | A | A | A |\n",
       "| 0 | 3 | A | A | A | A |\n",
       "| 0 | 5 | A | A | A | A |\n",
       "| 1 | 4 | A | A | A | A |\n",
       "| 2 | 6 | A | A | A | A |\n",
       "| 2 | 5 | A | A | A | A |\n",
       "| 5 | 1 | B | B | A | A |\n",
       "| 1 | 2 | A | A | A | A |\n",
       "| 3 | 3 | A | A | A | A |\n",
       "| ... | ... | ... | ... | ... | ... |\n",
       "| 3 | 5 | A | A | A | B |\n",
       "| 8 | 4 | B | B | B | B |\n",
       "| 9 | 3 | B | B | B | B |\n",
       "| 0 | 6 | A | A | A | B |\n",
       "| 0 | 5 | A | A | A | B |\n",
       "| 9 | 3 | B | B | B | B |\n",
       "| 7 | 3 | B | B | B | B |\n",
       "| 4 | 2 | B | A | B | B |\n",
       "| 5 | 3 | B | B | A | B |\n",
       "| 5 | 6 | A | B | A | B |\n",
       "| 4 | 7 | A | A | A | B |\n",
       "| 5 | 5 | A | B | A | B |\n",
       "| 6 | 4 | B | B | B | B |\n",
       "| 6 | 6 | B | B | B | B |\n",
       "| 9 | 5 | B | B | B | B |\n",
       "| 8 | 7 | B | B | B | B |\n",
       "| 7 | 8 | B | B | B | B |\n",
       "| 7 | 9 | B | B | B | B |\n",
       "| 8 | 8 | B | B | B | B |\n",
       "| 8 | 7 | B | B | B | B |\n",
       "| 9 | 6 | B | B | B | B |\n",
       "| 9 | 5 | B | B | B | B |\n",
       "| 7 | 7 | B | B | B | B |\n",
       "| 7 | 3 | B | B | B | B |\n",
       "| 5 | 1 | B | B | A | B |\n",
       "| 5 | 2 | B | B | B | B |\n",
       "| 8 | 3 | B | B | B | B |\n",
       "| 8 | 4 | B | B | B | B |\n",
       "| 9 | 5 | B | B | B | B |\n",
       "| 8 | 6 | B | B | B | B |\n",
       "\n"
      ],
      "text/plain": [
       "    x1  x2  class.predicted.1 class.predicted.2 class.predicted.3 class\n",
       "1   1   3   A                 A                 A                 A    \n",
       "2   2   2   A                 A                 A                 A    \n",
       "3   3   6   A                 A                 A                 A    \n",
       "4   4   5   A                 A                 A                 A    \n",
       "5   3   4   A                 A                 A                 A    \n",
       "6   2   5   A                 A                 A                 A    \n",
       "7   5   3   B                 B                 A                 A    \n",
       "8   4   8   A                 A                 A                 A    \n",
       "9   3   9   A                 A                 A                 A    \n",
       "10  2   0   A                 A                 A                 A    \n",
       "11  5   0   B                 B                 A                 A    \n",
       "12  3   9   A                 A                 A                 A    \n",
       "13  3   7   A                 A                 A                 A    \n",
       "14  2   4   A                 A                 A                 A    \n",
       "15  3   5   A                 A                 A                 A    \n",
       "16  1   5   A                 A                 A                 A    \n",
       "17  1   4   A                 A                 A                 A    \n",
       "18  5   5   A                 B                 A                 A    \n",
       "19  4   6   A                 A                 A                 A    \n",
       "20  1   3   A                 A                 A                 A    \n",
       "21  5   2   B                 B                 B                 A    \n",
       "22  1   4   A                 A                 A                 A    \n",
       "23  0   3   A                 A                 A                 A    \n",
       "24  0   5   A                 A                 A                 A    \n",
       "25  1   4   A                 A                 A                 A    \n",
       "26  2   6   A                 A                 A                 A    \n",
       "27  2   5   A                 A                 A                 A    \n",
       "28  5   1   B                 B                 A                 A    \n",
       "29  1   2   A                 A                 A                 A    \n",
       "30  3   3   A                 A                 A                 A    \n",
       "... ... ... ...               ...               ...               ...  \n",
       "43  3   5   A                 A                 A                 B    \n",
       "44  8   4   B                 B                 B                 B    \n",
       "45  9   3   B                 B                 B                 B    \n",
       "46  0   6   A                 A                 A                 B    \n",
       "47  0   5   A                 A                 A                 B    \n",
       "48  9   3   B                 B                 B                 B    \n",
       "49  7   3   B                 B                 B                 B    \n",
       "50  4   2   B                 A                 B                 B    \n",
       "51  5   3   B                 B                 A                 B    \n",
       "52  5   6   A                 B                 A                 B    \n",
       "53  4   7   A                 A                 A                 B    \n",
       "54  5   5   A                 B                 A                 B    \n",
       "55  6   4   B                 B                 B                 B    \n",
       "56  6   6   B                 B                 B                 B    \n",
       "57  9   5   B                 B                 B                 B    \n",
       "58  8   7   B                 B                 B                 B    \n",
       "59  7   8   B                 B                 B                 B    \n",
       "60  7   9   B                 B                 B                 B    \n",
       "61  8   8   B                 B                 B                 B    \n",
       "62  8   7   B                 B                 B                 B    \n",
       "63  9   6   B                 B                 B                 B    \n",
       "64  9   5   B                 B                 B                 B    \n",
       "65  7   7   B                 B                 B                 B    \n",
       "66  7   3   B                 B                 B                 B    \n",
       "67  5   1   B                 B                 A                 B    \n",
       "68  5   2   B                 B                 B                 B    \n",
       "69  8   3   B                 B                 B                 B    \n",
       "70  8   4   B                 B                 B                 B    \n",
       "71  9   5   B                 B                 B                 B    \n",
       "72  8   6   B                 B                 B                 B    "
      ]
     },
     "metadata": {},
     "output_type": "display_data"
    }
   ],
   "source": [
    "data.stack = data.frame(data[,c(\"x1\",\"x2\")],\n",
    "                        class.predicted.1, class.predicted.2, class.predicted.3,\n",
    "                        class=data$class)\n",
    "data.stack"
   ]
  },
  {
   "cell_type": "markdown",
   "metadata": {},
   "source": [
    "#### Model Based on Other Model Results\n",
    "\n",
    "Build a model based on predictions of the other models.\n",
    "\n",
    "Here we build a logistic regression model."
   ]
  },
  {
   "cell_type": "code",
   "execution_count": 34,
   "metadata": {},
   "outputs": [
    {
     "data": {
      "text/plain": [
       "\n",
       "Call:  glm(formula = class ~ class.predicted.1 + class.predicted.2 + \n",
       "    class.predicted.3, family = binomial(link = \"logit\"), data = data.stack)\n",
       "\n",
       "Coefficients:\n",
       "       (Intercept)  class.predicted.1B  class.predicted.2B  class.predicted.3B  \n",
       "          -1.53701             0.06616             1.22786             3.62806  \n",
       "\n",
       "Degrees of Freedom: 71 Total (i.e. Null);  68 Residual\n",
       "Null Deviance:\t    99.81 \n",
       "Residual Deviance: 56.08 \tAIC: 64.08"
      ]
     },
     "metadata": {},
     "output_type": "display_data"
    }
   ],
   "source": [
    "model.stack = glm(class ~ class.predicted.1+class.predicted.2+class.predicted.3, binomial(link=\"logit\"), data.stack)\n",
    "model.stack"
   ]
  },
  {
   "cell_type": "markdown",
   "metadata": {},
   "source": [
    "#### Prediction "
   ]
  },
  {
   "cell_type": "markdown",
   "metadata": {},
   "source": [
    "Express the new observation in terms of how its class is predicted by the other models.\n",
    "\n",
    "Here the new observation x1=5.2,x2=4 is expressed as the observation class.predicted.1=B, class.predicted.2=B, class.predicted.3=A, because model.1 predicts that the class of x1=5.2,x2=4 is B, model.2 predicts that the class of x1=5.2,x2=4 is B, and model.3 predicts that the class of x1=5.2,x2=4 is A. "
   ]
  },
  {
   "cell_type": "code",
   "execution_count": 35,
   "metadata": {
    "hide_input": true
   },
   "outputs": [
    {
     "data": {
      "text/html": [
       "<table>\n",
       "<thead><tr><th scope=col>A</th><th scope=col>B</th></tr></thead>\n",
       "<tbody>\n",
       "\t<tr><td>0.4615385</td><td>0.5384615</td></tr>\n",
       "</tbody>\n",
       "</table>\n"
      ],
      "text/latex": [
       "\\begin{tabular}{r|ll}\n",
       " A & B\\\\\n",
       "\\hline\n",
       "\t 0.4615385 & 0.5384615\\\\\n",
       "\\end{tabular}\n"
      ],
      "text/markdown": [
       "\n",
       "| A | B |\n",
       "|---|---|\n",
       "| 0.4615385 | 0.5384615 |\n",
       "\n"
      ],
      "text/plain": [
       "  A         B        \n",
       "1 0.4615385 0.5384615"
      ]
     },
     "metadata": {},
     "output_type": "display_data"
    },
    {
     "data": {
      "text/html": [
       "<table>\n",
       "<thead><tr><th scope=col>A</th><th scope=col>B</th></tr></thead>\n",
       "<tbody>\n",
       "\t<tr><td>0.3267745</td><td>0.6732255</td></tr>\n",
       "</tbody>\n",
       "</table>\n"
      ],
      "text/latex": [
       "\\begin{tabular}{ll}\n",
       " A & B\\\\\n",
       "\\hline\n",
       "\t 0.3267745 & 0.6732255\\\\\n",
       "\\end{tabular}\n"
      ],
      "text/markdown": [
       "\n",
       "| A | B |\n",
       "|---|---|\n",
       "| 0.3267745 | 0.6732255 |\n",
       "\n"
      ],
      "text/plain": [
       "     A         B        \n",
       "[1,] 0.3267745 0.6732255"
      ]
     },
     "metadata": {},
     "output_type": "display_data"
    },
    {
     "data": {
      "text/html": [
       "<table>\n",
       "<thead><tr><th scope=col>A</th><th scope=col>B</th></tr></thead>\n",
       "<tbody>\n",
       "\t<tr><td>0.4018202</td><td>0.5981798</td></tr>\n",
       "</tbody>\n",
       "</table>\n"
      ],
      "text/latex": [
       "\\begin{tabular}{r|ll}\n",
       " A & B\\\\\n",
       "\\hline\n",
       "\t 0.4018202 & 0.5981798\\\\\n",
       "\\end{tabular}\n"
      ],
      "text/markdown": [
       "\n",
       "| A | B |\n",
       "|---|---|\n",
       "| 0.4018202 | 0.5981798 |\n",
       "\n"
      ],
      "text/plain": [
       "  A         B        \n",
       "1 0.4018202 0.5981798"
      ]
     },
     "metadata": {},
     "output_type": "display_data"
    }
   ],
   "source": [
    "prob.1 = predict(model.1, new, type=\"prob\")\n",
    "prob.1\n",
    "class.predicted.1 = as.class(prob.1, \"A\", cutoff=0.5)\n",
    "\n",
    "prob.2 = predict(model.2, new, type=\"raw\")\n",
    "prob.2\n",
    "class.predicted.2 = as.class(prob.2, \"A\", cutoff=0.5)\n",
    "\n",
    "prob.3 = attr(predict(model.3, new, probability=TRUE), \"probabilities\")\n",
    "prob.3\n",
    "class.predicted.3 = as.class(prob.3, \"A\", cutoff=0.3)"
   ]
  },
  {
   "cell_type": "markdown",
   "metadata": {},
   "source": [
    "Express the new observation in terms of the new variables."
   ]
  },
  {
   "cell_type": "code",
   "execution_count": 36,
   "metadata": {
    "hide_input": true
   },
   "outputs": [
    {
     "data": {
      "text/html": [
       "<table>\n",
       "<thead><tr><th scope=col>class.predicted.1</th><th scope=col>class.predicted.2</th><th scope=col>class.predicted.3</th></tr></thead>\n",
       "<tbody>\n",
       "\t<tr><td>B</td><td>B</td><td>A</td></tr>\n",
       "</tbody>\n",
       "</table>\n"
      ],
      "text/latex": [
       "\\begin{tabular}{r|lll}\n",
       " class.predicted.1 & class.predicted.2 & class.predicted.3\\\\\n",
       "\\hline\n",
       "\t B & B & A\\\\\n",
       "\\end{tabular}\n"
      ],
      "text/markdown": [
       "\n",
       "| class.predicted.1 | class.predicted.2 | class.predicted.3 |\n",
       "|---|---|---|\n",
       "| B | B | A |\n",
       "\n"
      ],
      "text/plain": [
       "  class.predicted.1 class.predicted.2 class.predicted.3\n",
       "1 B                 B                 A                "
      ]
     },
     "metadata": {},
     "output_type": "display_data"
    }
   ],
   "source": [
    "new.stack = data.frame(class.predicted.1, class.predicted.2, class.predicted.3)\n",
    "new.stack"
   ]
  },
  {
   "cell_type": "markdown",
   "metadata": {},
   "source": [
    "Use the stacked model to predict the class of a new observation.\n",
    "\n",
    "Here the stacked model predicts that the class of the new observation class.predicted.1=B, class.predicted.2=B, class.predicted.3=A is A, which is equivalent to predicting that the class of observation x1=5.2,x2=4 is A.\n",
    "\n",
    "Note, the stacked model predicts that the new observation's class is A, even though 2 of the 3 models would predict B."
   ]
  },
  {
   "cell_type": "code",
   "execution_count": 37,
   "metadata": {
    "hide_input": true
   },
   "outputs": [
    {
     "data": {
      "text/html": [
       "<table>\n",
       "<thead><tr><th scope=col>B</th><th scope=col>A</th></tr></thead>\n",
       "<tbody>\n",
       "\t<tr><td>0.4395503</td><td>0.5604497</td></tr>\n",
       "</tbody>\n",
       "</table>\n"
      ],
      "text/latex": [
       "\\begin{tabular}{r|ll}\n",
       " B & A\\\\\n",
       "\\hline\n",
       "\t 0.4395503 & 0.5604497\\\\\n",
       "\\end{tabular}\n"
      ],
      "text/markdown": [
       "\n",
       "| B | A |\n",
       "|---|---|\n",
       "| 0.4395503 | 0.5604497 |\n",
       "\n"
      ],
      "text/plain": [
       "  B         A        \n",
       "1 0.4395503 0.5604497"
      ]
     },
     "metadata": {},
     "output_type": "display_data"
    },
    {
     "data": {
      "text/html": [
       "<table>\n",
       "<thead><tr><th scope=col>class.predicted</th></tr></thead>\n",
       "<tbody>\n",
       "\t<tr><td>A</td></tr>\n",
       "</tbody>\n",
       "</table>\n"
      ],
      "text/latex": [
       "\\begin{tabular}{r|l}\n",
       " class.predicted\\\\\n",
       "\\hline\n",
       "\t A\\\\\n",
       "\\end{tabular}\n"
      ],
      "text/markdown": [
       "\n",
       "| class.predicted |\n",
       "|---|\n",
       "| A |\n",
       "\n"
      ],
      "text/plain": [
       "  class.predicted\n",
       "1 A              "
      ]
     },
     "metadata": {},
     "output_type": "display_data"
    }
   ],
   "source": [
    "output = predict(model.stack, new.stack, type=\"response\")\n",
    "prob = data.frame(\"B\"=output, \"A\"=1-output)\n",
    "class.predicted = as.class(prob, class=\"B\", cutoff=0.5)\n",
    "\n",
    "prob\n",
    "data.frame(class.predicted)"
   ]
  },
  {
   "cell_type": "markdown",
   "metadata": {},
   "source": [
    "### Random Forest"
   ]
  },
  {
   "cell_type": "markdown",
   "metadata": {},
   "source": [
    "The **random forest** method is bootstrap aggregation applied to a modified decision tree classification method.  The modification is to use different randomly selected subsets of the predictor variables at various stages of tree construction, rather than use all predictor variables at all stages of tree construction.   "
   ]
  },
  {
   "cell_type": "markdown",
   "metadata": {},
   "source": [
    "## Code"
   ]
  },
  {
   "cell_type": "markdown",
   "metadata": {},
   "source": [
    "### Useful Functions"
   ]
  },
  {
   "cell_type": "code",
   "execution_count": 38,
   "metadata": {},
   "outputs": [],
   "source": [
    "# vote # provided in apparatus code cell above\n",
    "# focus_data # provided in apparatus code cell above"
   ]
  },
  {
   "cell_type": "markdown",
   "metadata": {},
   "source": [
    "## Expectations\n",
    "\n",
    "Know about this:\n",
    "* How to bootstrap aggregate a classification method, conceptually and using R.\n",
    "* How to boost a classification method, conceptually and using R.\n",
    "* How to stack classification methods, conceptually and using R."
   ]
  },
  {
   "cell_type": "markdown",
   "metadata": {},
   "source": [
    "## Further Reading\n",
    "\n",
    "* http://ciml.info/dl/v0_99/ciml-v0_99-ch13.pdf\n",
    "* https://www.analyticsvidhya.com/blog/2015/11/quick-introduction-boosting-algorithms-machine-learning/\n",
    "* https://en.wikipedia.org/wiki/Ensemble_learning"
   ]
  },
  {
   "cell_type": "markdown",
   "metadata": {},
   "source": [
    "<p style=\"text-align:left; font-size:10px;\">\n",
    "Copyright (c) Berkeley Data Analytics Group, LLC\n",
    "<span style=\"float:right;\">\n",
    "Document revised August 29, 2019\n",
    "</span>\n",
    "</p>"
   ]
  }
 ],
 "metadata": {
  "hide_code_all_hidden": false,
  "hide_input": false,
  "kernelspec": {
   "display_name": "R",
   "language": "R",
   "name": "ir"
  },
  "language_info": {
   "codemirror_mode": "r",
   "file_extension": ".r",
   "mimetype": "text/x-r-source",
   "name": "R",
   "pygments_lexer": "r",
   "version": "3.6.1"
  },
  "toc": {
   "base_numbering": 1,
   "nav_menu": {},
   "number_sections": true,
   "sideBar": true,
   "skip_h1_title": true,
   "title_cell": "Table of Contents",
   "title_sidebar": "Contents",
   "toc_cell": false,
   "toc_position": {},
   "toc_section_display": true,
   "toc_window_display": true
  }
 },
 "nbformat": 4,
 "nbformat_minor": 2
}
