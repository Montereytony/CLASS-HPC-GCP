{
 "cells": [
  {
   "cell_type": "markdown",
   "metadata": {
    "hideCode": false,
    "hidePrompt": false
   },
   "source": [
    "# Ensemble Modeling $\\,\\, \\tiny\\text{Lecture}$\n",
    "<img src=\"graphic main.jpg\" align=left />"
   ]
  },
  {
   "cell_type": "markdown",
   "metadata": {},
   "source": [
    "### System Configuration\n",
    "___\n",
    "** Configure the R software system for this analysis. **"
   ]
  },
  {
   "cell_type": "code",
   "execution_count": 2,
   "metadata": {},
   "outputs": [],
   "source": [
    "# Load some required functions\n",
    "library(e1071,     verbose=FALSE, warn.conflicts=FALSE, quietly=TRUE)\n",
    "library(caret,     verbose=FALSE, warn.conflicts=FALSE, quietly=TRUE)\n",
    "library(ggplot2,   verbose=FALSE, warn.conflicts=FALSE, quietly=TRUE)\n",
    "library(gridExtra, verbose=FALSE, warn.conflicts=FALSE, quietly=TRUE)\n",
    "library(rgl,       verbose=FALSE, warn.conflicts=FALSE, quietly=TRUE) # All rglwidget() calls must use elementID=\"myplot\"\n",
    "library(htmltools, verbose=FALSE, warn.conflicts=FALSE, quietly=TRUE)\n",
    "library(pracma)\n",
    "library(reshape2)\n",
    "\n",
    "options(warn=-1)\n",
    "set.seed(12345)\n",
    "\n",
    "# Set some visualization formatting defaults\n",
    "options(rgl.useNULL=TRUE)\n",
    "options(repr.matrix.max.cols=100)\n",
    "options(repr.plot.width=8, repr.plot.height=2.75)\n",
    "theme_set(theme_grey())\n",
    "update_geom_defaults(\"point\", list(size=3, colour=\"green4\"))\n",
    "update_geom_defaults(\"line\", list(size=0.15))\n",
    "update_geom_defaults(\"bar\", list(colour=\"green4\", fill=\"green4\"))\n",
    "update_geom_defaults(\"density\", list(colour=\"dodgerblue\", fill=\"dodgerblue\"))\n",
    "update_geom_defaults(\"text\", list(size=2.5))\n",
    "update_geom_defaults(\"abline\", list(color=\"black\", size=0.15))\n",
    "update_geom_defaults(\"smooth\", list(color=\"black\", size=0.15))\n",
    "theme_update(plot.title=element_text(size=10, hjust=0.5), plot.subtitle=element_text(size=8, face=\"italic\", hjust=0.5), axis.title=element_text(size=7), axis.text=element_text(size=7), strip.text=element_text(size=7), strip.text.y=element_text(angle=90), legend.title=element_blank(), legend.text=element_text(size=7))"
   ]
  },
  {
   "cell_type": "markdown",
   "metadata": {},
   "source": [
    "<br>\n",
    "### Start ...\n",
    "___"
   ]
  },
  {
   "cell_type": "code",
   "execution_count": null,
   "metadata": {
    "hideCode": false,
    "hidePrompt": false,
    "run_control": {
     "marked": false
    }
   },
   "outputs": [],
   "source": []
  },
  {
   "cell_type": "markdown",
   "metadata": {},
   "source": [
    "$\\tiny \\text{Copyright (c) Berkeley Data Analytics Group, LLC}$"
   ]
  }
 ],
 "metadata": {
  "hide_code_all_hidden": false,
  "hide_input": false,
  "kernelspec": {
   "display_name": "R",
   "language": "R",
   "name": "ir"
  },
  "language_info": {
   "codemirror_mode": "r",
   "file_extension": ".r",
   "mimetype": "text/x-r-source",
   "name": "R",
   "pygments_lexer": "r",
   "version": "3.4.2"
  }
 },
 "nbformat": 4,
 "nbformat_minor": 2
}
