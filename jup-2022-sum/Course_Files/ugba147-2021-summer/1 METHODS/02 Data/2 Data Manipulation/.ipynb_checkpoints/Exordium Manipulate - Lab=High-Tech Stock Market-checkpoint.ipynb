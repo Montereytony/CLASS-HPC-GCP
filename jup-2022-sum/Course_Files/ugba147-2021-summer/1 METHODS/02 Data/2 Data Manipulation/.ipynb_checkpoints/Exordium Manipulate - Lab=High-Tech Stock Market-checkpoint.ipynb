{
 "cells": [
  {
   "cell_type": "markdown",
   "metadata": {
    "hideCode": false,
    "hidePrompt": false
   },
   "source": [
    "# Data Manipulation $\\,\\, \\tiny\\text{Analysis Lab | High-Tech Stock Market}$\n",
    "\n",
    "<img src=\"banner lab.jpg\" align=left>"
   ]
  },
  {
   "cell_type": "markdown",
   "metadata": {},
   "source": [
    "<br>\n",
    "This business case analysis is presented as a Jupyter notebook using R analysis software.  It assumes no previous familiarity with Jupyter or R, and so goes into considerable detail about R's structure and functionality as applied to this kind of analysis.\n",
    "\n",
    "<br>\n",
    "### Preface: Using R Code\n",
    "___\n",
    "\n",
    "Here are a few key concepts about using R code.  Subsequent discussions will elaborate on them.\n",
    "\n",
    "R is a programming language well-suited to data analysis.\n",
    "\n",
    "R makes use of **tables** and **vectors** to hold collections of values: \n",
    "- **Table:** Holds a (2-dimensional) table of values, indexed by row and column.  Each row has a row number.  Each column has a column number and name, and holds values of a specific type (e.g., continuous values, character string values, or categorical values).  All values in a single column must be of the same type, but any specific column need not have values of the same type as any other column.  Note, a table is sometimes also known as a data frame.\n",
    "\n",
    "\n",
    "- **Vector:** Holds a (1-dimensional) vector of values, like a column of values, indexed by position.  Each position has a position number.  A vector holds values of a specific type (e.g., continuous values, character string values, or categorical values).  All values contained by a vector must be of the same type.\n",
    "\n",
    "R also makes use of **functions** to make calculations and/or perform actions (e.g., `max(...)`, `min(...)`).  Each function generally takes some parameters and returns a table, vector, or single value.  A function distinguishes parameters by their order and/or by their names. A function's specific behavior depends on the types of its parameters.\n",
    "\n",
    "R provides a special function (c) to **concatenate** multiple vectors into a single vector."
   ]
  },
  {
   "cell_type": "markdown",
   "metadata": {},
   "source": [
    "<br>\n",
    "### About the Business Situation & Data\n",
    "___\n",
    "\n",
    "Apple, Dell, IBM, and Microsoft are well known in the computer industry. If the computer industry is doing well, then we might expect the stocks of all four to increase in value. If the industry goes down, we’d expect all four to go down as well. How strong is the association among these companies? After all, they compete in some areas. For example, Dell and IBM both sell powerful computer systems designed to power Web sites like Amazon or weather.com\n",
    "\n",
    "You have available data regarding the monthly returns for Apple, Dell, IBM, and Microsoft for January 1990 through September 2011. The returns are calculated as ...\n",
    "<br><br>\n",
    "$\\begin{aligned} R_t = \\frac{P_t - P_{t-1}}{P_{t-1}} \\end{aligned}$\n",
    "<br><br>\n",
    "... where $P_t$ is the price of the stock at the end of a month and $P_{t-1}$ denotes the price at the end of the prior month. If multiplied by 100, a return is the percentage change in the value of the stock during the month. The returns are adjusted for accounting activities (such as dividend payments) that would otherwise produce misleading results. The data are from the Center for Research in Security Prices (CRSP).\n",
    "\n",
    "This analysis is motivated by these questions:\n",
    "- Investors who buy stocks often buy several to avoid putting all their eggs into one basket. Why would someone who buys stocks care whether the returns for these stocks were related to each other?\n",
    "- Would investors who are concerned about putting all their eggs into one basket prefer to buy stocks that are positively related, unrelated, or negatively related?\n",
    "\n",
    "Use these methods and address these questions in your analysis:\n",
    "- Use correlations to determine whether these three stocks are related to each other? How many correlations are needed?\n",
    "- Correlations can be fooled by patterns that are not linear or distorted by outliers that do not conform to the usual pattern. Before using correlations, how can the investor check the conditions needed for using a correlation?\n",
    "- A key lurking variable anytime we look at a scatterplot of two time series is time itself. How can an investor check to see if time is a lurking factor when looking at stock returns?\n",
    "- Obtain the scatterplots needed to see whether there are patterns that relate the returns of these stocks. Does it matter which stock return goes on the x-axis and which goes on the y-axis? Do you find that the returns are associated? Is the association linear?\n",
    "- Obtain the correlation matrix that has all of the correlations among these four stocks.\n",
    "- Look at timeplots of the returns on each stock. Why are these important when looking at time series?\n",
    "- Summarize your analysis of the association among these returns for an investor who is thinking of buying these stocks. Be sure to talk about stocks, not correlations.\n",
    "\n",
    "This business case is based on \"Statistics for Business\" by Stein, Chapter 6, Problem 55."
   ]
  },
  {
   "cell_type": "markdown",
   "metadata": {},
   "source": [
    "<br>\n",
    "### Apparatus\n",
    "___"
   ]
  },
  {
   "cell_type": "code",
   "execution_count": 6,
   "metadata": {
    "scrolled": false
   },
   "outputs": [],
   "source": [
    "# Load some required functions\n",
    "library(rJava,    verbose=FALSE, warn.conflicts=FALSE, quietly=TRUE)\n",
    "library(xlsxjars, verbose=FALSE, warn.conflicts=FALSE, quietly=TRUE)\n",
    "library(xlsx,     verbose=FALSE, warn.conflicts=FALSE, quietly=TRUE) # Also, ensure Java version (32-bit or 64-bit) matches R kernel\n",
    "library(dplyr,    verbose=FALSE, warn.conflicts=FALSE, quietly=TRUE)"
   ]
  },
  {
   "cell_type": "markdown",
   "metadata": {},
   "source": [
    "The R system provides us a specific set of commonly used functions.  We can get additional functions by loading specific libraries of functions.  There are hundreds of libraries available.\n",
    "\n",
    "We use the `library` function (provided by the R system) multiple times to load specific libraries of functions.  In each function usage, the 1st parameter is the name of a library, the 2nd, 3rd, and 4th parameters have to do with system messages and are optional.  The functions result in providing us all of the many functions contained in the libraries, which we can use later.\n",
    "\n",
    "Preceding the 4 functions is a comment.  Also, immediately following the 3rd function, on the same line, is a comment.\n",
    "\n",
    "As mentioned in \"Using a Jupyter Notebook\" above, to execute the R code in a cell, select the cell and press cntl-Enter.\n",
    "\n",
    "_ About comments:<br>\n",
    "A comment is text ignored by the R system, but perhaps useful to us.  A comment is described by the `#` symbol, followed by the comment text, through the end of the line. _\n",
    "\n",
    "_ About functions:<br>\n",
    "A function is described by a function name, followed by parentheses that enclose the function's parameter values, separated by commas.  The parameters are distinguished either by their position or by explicitly naming them.  Named parameters are described by a parameter name, followed by the `=` symbol, followed by the parameter value.  An example function looks like this:<br>\n",
    "`melt(data, id=x)` _\n",
    "\n",
    "_ About TRUE/FALSE values:<br>\n",
    "The R system recognizes the values `TRUE` and `FALSE`, and their abbreviations `T` and `F`. _\n",
    "\n",
    "_ About function names; parameter names; and table, vector, and value names:<br>\n",
    "A name can include upper case and lower case letters - the upper case version of a letter is considered different than the lower case version of that letter.  A name can include numbers, but cannot start with a number.  A name can include the `.` and _ `_` _ characters. _"
   ]
  },
  {
   "cell_type": "markdown",
   "metadata": {},
   "source": [
    "<br>\n",
    "### Retrieve Data\n",
    "___"
   ]
  },
  {
   "cell_type": "code",
   "execution_count": 7,
   "metadata": {
    "hideCode": false,
    "hidePrompt": false,
    "run_control": {
     "marked": false
    },
    "scrolled": false
   },
   "outputs": [],
   "source": [
    "data = read.xlsx(\"../DATASETS/DATASET High-Tech Stocks.xlsx\", sheetIndex=1, header=TRUE)"
   ]
  },
  {
   "cell_type": "markdown",
   "metadata": {},
   "source": [
    "The dataset that you will use for this analysis is called ** $\\,$ `dataset tech stocks.xlsx` $\\,$ **.\n",
    "\n",
    "To retrieve a dataset, we use the `read.xlsx` function.  This function assumes the dataset is in Excel format. (There are other functions for retrieving datasets that assume different formats.)  The 1st parameter is the filename of the file in which the dataset resides, in this case `dataset tech stocks.xlsx`.  The `sheetIndex` parameter indicates which worksheet in the file has the dataset, in this case the 1st worksheet.  The `header` parameter indicates whether or not the 1st row of the dataset should be interpretted as a column heading, in this case it should.\n",
    "\n",
    "The result of the function is a table, with each row corresponding to 1 observation in the dataset. We assign it the name `data` so that we can use it later.\n",
    "\n",
    "_ About strings:<br>\n",
    "A string is a sequence of characters meant to be interpretted as such, and not to be interpretted as a name.  A string is described by enclosing a sequence of characters within <code>\"&#8230;\"</code>. _\n",
    "\n",
    "<br>"
   ]
  },
  {
   "cell_type": "code",
   "execution_count": 8,
   "metadata": {
    "hideCode": false,
    "hidePrompt": false,
    "run_control": {
     "marked": false
    },
    "scrolled": false
   },
   "outputs": [
    {
     "data": {
      "text/html": [
       "<ol class=list-inline>\n",
       "\t<li>261</li>\n",
       "\t<li>12</li>\n",
       "</ol>\n"
      ],
      "text/latex": [
       "\\begin{enumerate*}\n",
       "\\item 261\n",
       "\\item 12\n",
       "\\end{enumerate*}\n"
      ],
      "text/markdown": [
       "1. 261\n",
       "2. 12\n",
       "\n",
       "\n"
      ],
      "text/plain": [
       "[1] 261  12"
      ]
     },
     "metadata": {},
     "output_type": "display_data"
    }
   ],
   "source": [
    "dim(data)"
   ]
  },
  {
   "cell_type": "markdown",
   "metadata": {},
   "source": [
    "To confirm that the dataset has been retrieved and assigned, we use the `dim` function, which returns the table's number of rows and the number of columns.  In this case, the table has 261 rows and 12 columns.\n",
    "\n",
    "<br>"
   ]
  },
  {
   "cell_type": "code",
   "execution_count": 9,
   "metadata": {
    "hideCode": false,
    "hidePrompt": false,
    "run_control": {
     "marked": false
    },
    "scrolled": false
   },
   "outputs": [
    {
     "data": {
      "text/html": [
       "<ol class=list-inline>\n",
       "\t<li>'Date'</li>\n",
       "\t<li>'Apple.Return'</li>\n",
       "\t<li>'Dell.Return'</li>\n",
       "\t<li>'IBM.Return'</li>\n",
       "\t<li>'Microsoft.Return'</li>\n",
       "\t<li>'Value.weighted.Market.Return'</li>\n",
       "\t<li>'SP.500.Return'</li>\n",
       "\t<li>'Price..Dell'</li>\n",
       "\t<li>'Price..Apple'</li>\n",
       "\t<li>'Price..IBM'</li>\n",
       "\t<li>'Price..Microsoft'</li>\n",
       "\t<li>'Calendar.Date'</li>\n",
       "</ol>\n"
      ],
      "text/latex": [
       "\\begin{enumerate*}\n",
       "\\item 'Date'\n",
       "\\item 'Apple.Return'\n",
       "\\item 'Dell.Return'\n",
       "\\item 'IBM.Return'\n",
       "\\item 'Microsoft.Return'\n",
       "\\item 'Value.weighted.Market.Return'\n",
       "\\item 'SP.500.Return'\n",
       "\\item 'Price..Dell'\n",
       "\\item 'Price..Apple'\n",
       "\\item 'Price..IBM'\n",
       "\\item 'Price..Microsoft'\n",
       "\\item 'Calendar.Date'\n",
       "\\end{enumerate*}\n"
      ],
      "text/markdown": [
       "1. 'Date'\n",
       "2. 'Apple.Return'\n",
       "3. 'Dell.Return'\n",
       "4. 'IBM.Return'\n",
       "5. 'Microsoft.Return'\n",
       "6. 'Value.weighted.Market.Return'\n",
       "7. 'SP.500.Return'\n",
       "8. 'Price..Dell'\n",
       "9. 'Price..Apple'\n",
       "10. 'Price..IBM'\n",
       "11. 'Price..Microsoft'\n",
       "12. 'Calendar.Date'\n",
       "\n",
       "\n"
      ],
      "text/plain": [
       " [1] \"Date\"                         \"Apple.Return\"                \n",
       " [3] \"Dell.Return\"                  \"IBM.Return\"                  \n",
       " [5] \"Microsoft.Return\"             \"Value.weighted.Market.Return\"\n",
       " [7] \"SP.500.Return\"                \"Price..Dell\"                 \n",
       " [9] \"Price..Apple\"                 \"Price..IBM\"                  \n",
       "[11] \"Price..Microsoft\"             \"Calendar.Date\"               "
      ]
     },
     "metadata": {},
     "output_type": "display_data"
    }
   ],
   "source": [
    "colnames(data)"
   ]
  },
  {
   "cell_type": "markdown",
   "metadata": {},
   "source": [
    "To further confirm that the dataset has been retrieved and assigned, we use the `colnames` function, which returns the table's column names.  Note, column names have been automatically renamed to be more convenient for us (certain characters have been substituted with the `.` character)."
   ]
  },
  {
   "cell_type": "markdown",
   "metadata": {},
   "source": [
    "<br>\n",
    "### Data Manipulation\n",
    "___\n",
    "\n",
    "** (a) To inspect the dataset, slice the table by rows, indicate rows by their indices. **"
   ]
  },
  {
   "cell_type": "code",
   "execution_count": 10,
   "metadata": {
    "scrolled": true
   },
   "outputs": [
    {
     "data": {
      "text/html": [
       "<table>\n",
       "<thead><tr><th scope=col>Date</th><th scope=col>Apple.Return</th><th scope=col>Dell.Return</th><th scope=col>IBM.Return</th><th scope=col>Microsoft.Return</th><th scope=col>Value.weighted.Market.Return</th><th scope=col>SP.500.Return</th><th scope=col>Price..Dell</th><th scope=col>Price..Apple</th><th scope=col>Price..IBM</th><th scope=col>Price..Microsoft</th><th scope=col>Calendar.Date</th></tr></thead>\n",
       "<tbody>\n",
       "\t<tr><td>1990.042  </td><td>-0.035461 </td><td>-0.1590909</td><td>0.04780877</td><td>0.06321839</td><td>-0.070115 </td><td>-0.068817 </td><td>4.625     </td><td>34        </td><td>98.625    </td><td>92.5      </td><td>19900131  </td></tr>\n",
       "</tbody>\n",
       "</table>\n"
      ],
      "text/latex": [
       "\\begin{tabular}{r|llllllllllll}\n",
       " Date & Apple.Return & Dell.Return & IBM.Return & Microsoft.Return & Value.weighted.Market.Return & SP.500.Return & Price..Dell & Price..Apple & Price..IBM & Price..Microsoft & Calendar.Date\\\\\n",
       "\\hline\n",
       "\t 1990.042   & -0.035461  & -0.1590909 & 0.04780877 & 0.06321839 & -0.070115  & -0.068817  & 4.625      & 34         & 98.625     & 92.5       & 19900131  \\\\\n",
       "\\end{tabular}\n"
      ],
      "text/markdown": [
       "\n",
       "Date | Apple.Return | Dell.Return | IBM.Return | Microsoft.Return | Value.weighted.Market.Return | SP.500.Return | Price..Dell | Price..Apple | Price..IBM | Price..Microsoft | Calendar.Date | \n",
       "|---|\n",
       "| 1990.042   | -0.035461  | -0.1590909 | 0.04780877 | 0.06321839 | -0.070115  | -0.068817  | 4.625      | 34         | 98.625     | 92.5       | 19900131   | \n",
       "\n",
       "\n"
      ],
      "text/plain": [
       "  Date     Apple.Return Dell.Return IBM.Return Microsoft.Return\n",
       "1 1990.042 -0.035461    -0.1590909  0.04780877 0.06321839      \n",
       "  Value.weighted.Market.Return SP.500.Return Price..Dell Price..Apple\n",
       "1 -0.070115                    -0.068817     4.625       34          \n",
       "  Price..IBM Price..Microsoft Calendar.Date\n",
       "1 98.625     92.5             19900131     "
      ]
     },
     "metadata": {},
     "output_type": "display_data"
    }
   ],
   "source": [
    "data[1,]"
   ]
  },
  {
   "cell_type": "markdown",
   "metadata": {},
   "source": [
    "To inspect all or part of the dataset, we reference the `data` table retrieved earlier.  We indicate which rows and columns of the table we want with `[...]` notation - specific row indices and column indices separated by a comma and enclosed within brackets.  We start counting row indices and column indices at 1.  If we want all rows, then we can leave the row indices blank and all rows will be assumed.  Similarly, if we want all columns, then we can leave the column indices blank and all columns will be assumed.\n",
    "\n",
    "So, to inspect the 1st row of data, we reference `data[1,]`.  The row index (in this case just 1 row) is 1.  The column indices are blank and so assumed to be all columns.  Note, the comma is required even though we left the column indices blank.  The output is presented as a table with 12 columns, with headings, each with 1 value per column corresponding to the 1st observation in the dataset.\n",
    "\n",
    "_ About output:<br>\n",
    "A table, vector, or value referenced on a line by itself will output the value assigned to it. _\n",
    "\n",
    "<br>"
   ]
  },
  {
   "cell_type": "code",
   "execution_count": 11,
   "metadata": {
    "scrolled": true
   },
   "outputs": [
    {
     "data": {
      "text/html": [
       "<table>\n",
       "<thead><tr><th></th><th scope=col>Date</th><th scope=col>Apple.Return</th><th scope=col>Dell.Return</th><th scope=col>IBM.Return</th><th scope=col>Microsoft.Return</th><th scope=col>Value.weighted.Market.Return</th><th scope=col>SP.500.Return</th><th scope=col>Price..Dell</th><th scope=col>Price..Apple</th><th scope=col>Price..IBM</th><th scope=col>Price..Microsoft</th><th scope=col>Calendar.Date</th></tr></thead>\n",
       "<tbody>\n",
       "\t<tr><th scope=row>5</th><td>1990.375 </td><td>0.050413 </td><td>0.2941177</td><td>0.1120184</td><td>0.2586207</td><td>0.088936 </td><td>0.091989 </td><td>11       </td><td>41.25    </td><td>120      </td><td>73       </td><td>19900531 </td></tr>\n",
       "</tbody>\n",
       "</table>\n"
      ],
      "text/latex": [
       "\\begin{tabular}{r|llllllllllll}\n",
       "  & Date & Apple.Return & Dell.Return & IBM.Return & Microsoft.Return & Value.weighted.Market.Return & SP.500.Return & Price..Dell & Price..Apple & Price..IBM & Price..Microsoft & Calendar.Date\\\\\n",
       "\\hline\n",
       "\t5 & 1990.375  & 0.050413  & 0.2941177 & 0.1120184 & 0.2586207 & 0.088936  & 0.091989  & 11        & 41.25     & 120       & 73        & 19900531 \\\\\n",
       "\\end{tabular}\n"
      ],
      "text/markdown": [
       "\n",
       "| <!--/--> | Date | Apple.Return | Dell.Return | IBM.Return | Microsoft.Return | Value.weighted.Market.Return | SP.500.Return | Price..Dell | Price..Apple | Price..IBM | Price..Microsoft | Calendar.Date | \n",
       "|---|\n",
       "| 5 | 1990.375  | 0.050413  | 0.2941177 | 0.1120184 | 0.2586207 | 0.088936  | 0.091989  | 11        | 41.25     | 120       | 73        | 19900531  | \n",
       "\n",
       "\n"
      ],
      "text/plain": [
       "  Date     Apple.Return Dell.Return IBM.Return Microsoft.Return\n",
       "5 1990.375 0.050413     0.2941177   0.1120184  0.2586207       \n",
       "  Value.weighted.Market.Return SP.500.Return Price..Dell Price..Apple\n",
       "5 0.088936                     0.091989      11          41.25       \n",
       "  Price..IBM Price..Microsoft Calendar.Date\n",
       "5 120        73               19900531     "
      ]
     },
     "metadata": {},
     "output_type": "display_data"
    }
   ],
   "source": [
    "data[5,]"
   ]
  },
  {
   "cell_type": "markdown",
   "metadata": {},
   "source": [
    "To inpect the 5th row of data, we reference `data[5,]`.  The row index (in this case just 1 row) is 5.\n",
    "\n",
    "<br>"
   ]
  },
  {
   "cell_type": "code",
   "execution_count": 12,
   "metadata": {
    "scrolled": false
   },
   "outputs": [
    {
     "data": {
      "text/html": [
       "<table>\n",
       "<thead><tr><th scope=col>Date</th><th scope=col>Apple.Return</th><th scope=col>Dell.Return</th><th scope=col>IBM.Return</th><th scope=col>Microsoft.Return</th><th scope=col>Value.weighted.Market.Return</th><th scope=col>SP.500.Return</th><th scope=col>Price..Dell</th><th scope=col>Price..Apple</th><th scope=col>Price..IBM</th><th scope=col>Price..Microsoft</th><th scope=col>Calendar.Date</th></tr></thead>\n",
       "<tbody>\n",
       "\t<tr><td>1990.042  </td><td>-0.035461 </td><td>-0.1590909</td><td>0.04780877</td><td>0.06321839</td><td>-0.070115 </td><td>-0.068817 </td><td>4.625     </td><td>34.00     </td><td> 98.625   </td><td> 92.50    </td><td>19900131  </td></tr>\n",
       "\t<tr><td>1990.125  </td><td> 0.003235 </td><td> 0.3513514</td><td>0.06550063</td><td>0.06756756</td><td> 0.014901 </td><td> 0.008539 </td><td>6.250     </td><td>34.00     </td><td>103.875   </td><td> 98.75    </td><td>19900228  </td></tr>\n",
       "\t<tr><td>1990.208  </td><td> 0.183824 </td><td> 0.2200000</td><td>0.02166065</td><td>0.12151898</td><td> 0.024140 </td><td> 0.024255 </td><td>7.625     </td><td>40.25     </td><td>106.125   </td><td>110.75    </td><td>19900330  </td></tr>\n",
       "</tbody>\n",
       "</table>\n"
      ],
      "text/latex": [
       "\\begin{tabular}{r|llllllllllll}\n",
       " Date & Apple.Return & Dell.Return & IBM.Return & Microsoft.Return & Value.weighted.Market.Return & SP.500.Return & Price..Dell & Price..Apple & Price..IBM & Price..Microsoft & Calendar.Date\\\\\n",
       "\\hline\n",
       "\t 1990.042   & -0.035461  & -0.1590909 & 0.04780877 & 0.06321839 & -0.070115  & -0.068817  & 4.625      & 34.00      &  98.625    &  92.50     & 19900131  \\\\\n",
       "\t 1990.125   &  0.003235  &  0.3513514 & 0.06550063 & 0.06756756 &  0.014901  &  0.008539  & 6.250      & 34.00      & 103.875    &  98.75     & 19900228  \\\\\n",
       "\t 1990.208   &  0.183824  &  0.2200000 & 0.02166065 & 0.12151898 &  0.024140  &  0.024255  & 7.625      & 40.25      & 106.125    & 110.75     & 19900330  \\\\\n",
       "\\end{tabular}\n"
      ],
      "text/markdown": [
       "\n",
       "Date | Apple.Return | Dell.Return | IBM.Return | Microsoft.Return | Value.weighted.Market.Return | SP.500.Return | Price..Dell | Price..Apple | Price..IBM | Price..Microsoft | Calendar.Date | \n",
       "|---|---|---|\n",
       "| 1990.042   | -0.035461  | -0.1590909 | 0.04780877 | 0.06321839 | -0.070115  | -0.068817  | 4.625      | 34.00      |  98.625    |  92.50     | 19900131   | \n",
       "| 1990.125   |  0.003235  |  0.3513514 | 0.06550063 | 0.06756756 |  0.014901  |  0.008539  | 6.250      | 34.00      | 103.875    |  98.75     | 19900228   | \n",
       "| 1990.208   |  0.183824  |  0.2200000 | 0.02166065 | 0.12151898 |  0.024140  |  0.024255  | 7.625      | 40.25      | 106.125    | 110.75     | 19900330   | \n",
       "\n",
       "\n"
      ],
      "text/plain": [
       "  Date     Apple.Return Dell.Return IBM.Return Microsoft.Return\n",
       "1 1990.042 -0.035461    -0.1590909  0.04780877 0.06321839      \n",
       "2 1990.125  0.003235     0.3513514  0.06550063 0.06756756      \n",
       "3 1990.208  0.183824     0.2200000  0.02166065 0.12151898      \n",
       "  Value.weighted.Market.Return SP.500.Return Price..Dell Price..Apple\n",
       "1 -0.070115                    -0.068817     4.625       34.00       \n",
       "2  0.014901                     0.008539     6.250       34.00       \n",
       "3  0.024140                     0.024255     7.625       40.25       \n",
       "  Price..IBM Price..Microsoft Calendar.Date\n",
       "1  98.625     92.50           19900131     \n",
       "2 103.875     98.75           19900228     \n",
       "3 106.125    110.75           19900330     "
      ]
     },
     "metadata": {},
     "output_type": "display_data"
    }
   ],
   "source": [
    "data[1:3,]"
   ]
  },
  {
   "cell_type": "markdown",
   "metadata": {},
   "source": [
    "To inspect the first 3 rows of data, we reference `data[1:3,]`.  We indicate a sequence of indices with the `:` notation - the left side is the start index, the right side is the stop index.  So, the row indices indicated by `1:3` are 1, 2, and 3.  The output is presented as a table with 12 columns, with headings, each with 3 values per column corresponding to the first 3 observations in the dataset.\n",
    "\n",
    "<br>"
   ]
  },
  {
   "cell_type": "code",
   "execution_count": 13,
   "metadata": {
    "scrolled": true
   },
   "outputs": [
    {
     "data": {
      "text/html": [
       "<table>\n",
       "<thead><tr><th></th><th scope=col>Date</th><th scope=col>Apple.Return</th><th scope=col>Dell.Return</th><th scope=col>IBM.Return</th><th scope=col>Microsoft.Return</th><th scope=col>Value.weighted.Market.Return</th><th scope=col>SP.500.Return</th><th scope=col>Price..Dell</th><th scope=col>Price..Apple</th><th scope=col>Price..IBM</th><th scope=col>Price..Microsoft</th><th scope=col>Calendar.Date</th></tr></thead>\n",
       "<tbody>\n",
       "\t<tr><th scope=row>2</th><td>1990.125  </td><td> 0.003235 </td><td>0.3513514 </td><td>0.06550063</td><td>0.06756756</td><td> 0.014901 </td><td> 0.008539 </td><td> 6.250    </td><td>34.000    </td><td>103.875   </td><td> 98.75    </td><td>19900228  </td></tr>\n",
       "\t<tr><th scope=row>3</th><td>1990.208  </td><td> 0.183824 </td><td>0.2200000 </td><td>0.02166065</td><td>0.12151898</td><td> 0.024140 </td><td> 0.024255 </td><td> 7.625    </td><td>40.250    </td><td>106.125   </td><td>110.75    </td><td>19900330  </td></tr>\n",
       "\t<tr><th scope=row>4</th><td>1990.292  </td><td>-0.021739 </td><td>0.1147541 </td><td>0.02709069</td><td>0.04740406</td><td>-0.028286 </td><td>-0.026887 </td><td> 8.500    </td><td>39.375    </td><td>109.000   </td><td> 58.00    </td><td>19900430  </td></tr>\n",
       "\t<tr><th scope=row>5</th><td>1990.375  </td><td> 0.050413 </td><td>0.2941177 </td><td>0.11201835</td><td>0.25862068</td><td> 0.088936 </td><td> 0.091989 </td><td>11.000    </td><td>41.250    </td><td>120.000   </td><td> 73.00    </td><td>19900531  </td></tr>\n",
       "</tbody>\n",
       "</table>\n"
      ],
      "text/latex": [
       "\\begin{tabular}{r|llllllllllll}\n",
       "  & Date & Apple.Return & Dell.Return & IBM.Return & Microsoft.Return & Value.weighted.Market.Return & SP.500.Return & Price..Dell & Price..Apple & Price..IBM & Price..Microsoft & Calendar.Date\\\\\n",
       "\\hline\n",
       "\t2 & 1990.125   &  0.003235  & 0.3513514  & 0.06550063 & 0.06756756 &  0.014901  &  0.008539  &  6.250     & 34.000     & 103.875    &  98.75     & 19900228  \\\\\n",
       "\t3 & 1990.208   &  0.183824  & 0.2200000  & 0.02166065 & 0.12151898 &  0.024140  &  0.024255  &  7.625     & 40.250     & 106.125    & 110.75     & 19900330  \\\\\n",
       "\t4 & 1990.292   & -0.021739  & 0.1147541  & 0.02709069 & 0.04740406 & -0.028286  & -0.026887  &  8.500     & 39.375     & 109.000    &  58.00     & 19900430  \\\\\n",
       "\t5 & 1990.375   &  0.050413  & 0.2941177  & 0.11201835 & 0.25862068 &  0.088936  &  0.091989  & 11.000     & 41.250     & 120.000    &  73.00     & 19900531  \\\\\n",
       "\\end{tabular}\n"
      ],
      "text/markdown": [
       "\n",
       "| <!--/--> | Date | Apple.Return | Dell.Return | IBM.Return | Microsoft.Return | Value.weighted.Market.Return | SP.500.Return | Price..Dell | Price..Apple | Price..IBM | Price..Microsoft | Calendar.Date | \n",
       "|---|---|---|---|\n",
       "| 2 | 1990.125   |  0.003235  | 0.3513514  | 0.06550063 | 0.06756756 |  0.014901  |  0.008539  |  6.250     | 34.000     | 103.875    |  98.75     | 19900228   | \n",
       "| 3 | 1990.208   |  0.183824  | 0.2200000  | 0.02166065 | 0.12151898 |  0.024140  |  0.024255  |  7.625     | 40.250     | 106.125    | 110.75     | 19900330   | \n",
       "| 4 | 1990.292   | -0.021739  | 0.1147541  | 0.02709069 | 0.04740406 | -0.028286  | -0.026887  |  8.500     | 39.375     | 109.000    |  58.00     | 19900430   | \n",
       "| 5 | 1990.375   |  0.050413  | 0.2941177  | 0.11201835 | 0.25862068 |  0.088936  |  0.091989  | 11.000     | 41.250     | 120.000    |  73.00     | 19900531   | \n",
       "\n",
       "\n"
      ],
      "text/plain": [
       "  Date     Apple.Return Dell.Return IBM.Return Microsoft.Return\n",
       "2 1990.125  0.003235    0.3513514   0.06550063 0.06756756      \n",
       "3 1990.208  0.183824    0.2200000   0.02166065 0.12151898      \n",
       "4 1990.292 -0.021739    0.1147541   0.02709069 0.04740406      \n",
       "5 1990.375  0.050413    0.2941177   0.11201835 0.25862068      \n",
       "  Value.weighted.Market.Return SP.500.Return Price..Dell Price..Apple\n",
       "2  0.014901                     0.008539      6.250      34.000      \n",
       "3  0.024140                     0.024255      7.625      40.250      \n",
       "4 -0.028286                    -0.026887      8.500      39.375      \n",
       "5  0.088936                     0.091989     11.000      41.250      \n",
       "  Price..IBM Price..Microsoft Calendar.Date\n",
       "2 103.875     98.75           19900228     \n",
       "3 106.125    110.75           19900330     \n",
       "4 109.000     58.00           19900430     \n",
       "5 120.000     73.00           19900531     "
      ]
     },
     "metadata": {},
     "output_type": "display_data"
    }
   ],
   "source": [
    "data[2:5,]"
   ]
  },
  {
   "cell_type": "markdown",
   "metadata": {},
   "source": [
    "To inspect the 2nd through 5th rows of data, we reference `data[2:5,]`.  The row indices indicated by `2:5` are 2, 3, 4, and 5.\n",
    "\n",
    "<br>"
   ]
  },
  {
   "cell_type": "code",
   "execution_count": 14,
   "metadata": {
    "scrolled": true
   },
   "outputs": [
    {
     "data": {
      "text/html": [
       "<table>\n",
       "<thead><tr><th></th><th scope=col>Date</th><th scope=col>Apple.Return</th><th scope=col>Dell.Return</th><th scope=col>IBM.Return</th><th scope=col>Microsoft.Return</th><th scope=col>Value.weighted.Market.Return</th><th scope=col>SP.500.Return</th><th scope=col>Price..Dell</th><th scope=col>Price..Apple</th><th scope=col>Price..IBM</th><th scope=col>Price..Microsoft</th><th scope=col>Calendar.Date</th></tr></thead>\n",
       "<tbody>\n",
       "\t<tr><th scope=row>1</th><td>1990.042  </td><td>-0.035461 </td><td>-0.1590909</td><td>0.04780877</td><td>0.06321839</td><td>-0.070115 </td><td>-0.068817 </td><td>4.625     </td><td>34.00     </td><td> 98.625   </td><td> 92.50    </td><td>19900131  </td></tr>\n",
       "\t<tr><th scope=row>3</th><td>1990.208  </td><td> 0.183824 </td><td> 0.2200000</td><td>0.02166065</td><td>0.12151898</td><td> 0.024140 </td><td> 0.024255 </td><td>7.625     </td><td>40.25     </td><td>106.125   </td><td>110.75    </td><td>19900330  </td></tr>\n",
       "</tbody>\n",
       "</table>\n"
      ],
      "text/latex": [
       "\\begin{tabular}{r|llllllllllll}\n",
       "  & Date & Apple.Return & Dell.Return & IBM.Return & Microsoft.Return & Value.weighted.Market.Return & SP.500.Return & Price..Dell & Price..Apple & Price..IBM & Price..Microsoft & Calendar.Date\\\\\n",
       "\\hline\n",
       "\t1 & 1990.042   & -0.035461  & -0.1590909 & 0.04780877 & 0.06321839 & -0.070115  & -0.068817  & 4.625      & 34.00      &  98.625    &  92.50     & 19900131  \\\\\n",
       "\t3 & 1990.208   &  0.183824  &  0.2200000 & 0.02166065 & 0.12151898 &  0.024140  &  0.024255  & 7.625      & 40.25      & 106.125    & 110.75     & 19900330  \\\\\n",
       "\\end{tabular}\n"
      ],
      "text/markdown": [
       "\n",
       "| <!--/--> | Date | Apple.Return | Dell.Return | IBM.Return | Microsoft.Return | Value.weighted.Market.Return | SP.500.Return | Price..Dell | Price..Apple | Price..IBM | Price..Microsoft | Calendar.Date | \n",
       "|---|---|\n",
       "| 1 | 1990.042   | -0.035461  | -0.1590909 | 0.04780877 | 0.06321839 | -0.070115  | -0.068817  | 4.625      | 34.00      |  98.625    |  92.50     | 19900131   | \n",
       "| 3 | 1990.208   |  0.183824  |  0.2200000 | 0.02166065 | 0.12151898 |  0.024140  |  0.024255  | 7.625      | 40.25      | 106.125    | 110.75     | 19900330   | \n",
       "\n",
       "\n"
      ],
      "text/plain": [
       "  Date     Apple.Return Dell.Return IBM.Return Microsoft.Return\n",
       "1 1990.042 -0.035461    -0.1590909  0.04780877 0.06321839      \n",
       "3 1990.208  0.183824     0.2200000  0.02166065 0.12151898      \n",
       "  Value.weighted.Market.Return SP.500.Return Price..Dell Price..Apple\n",
       "1 -0.070115                    -0.068817     4.625       34.00       \n",
       "3  0.024140                     0.024255     7.625       40.25       \n",
       "  Price..IBM Price..Microsoft Calendar.Date\n",
       "1  98.625     92.50           19900131     \n",
       "3 106.125    110.75           19900330     "
      ]
     },
     "metadata": {},
     "output_type": "display_data"
    }
   ],
   "source": [
    "data[c(1,3),]"
   ]
  },
  {
   "cell_type": "markdown",
   "metadata": {},
   "source": [
    "To inspect the 1st and 3rd rows of the data, we reference `data[c(1,3),]`.  We indicate a sequence of indices with the `c` function.  So, the row indices described by `c(1,3)` are 1 and 3.  Note, the `:` notation would not be appropriate here, because it does not allow skipped indices.  Note also, it would not be appropriate here to describe the row indices without the `c` function because the row indices would not otherwise be distinguisghable from the column indices.  The output is presented as a table with 12 columns, with headings, each with 2 values per column corresponding to the 1st and 3rd observations in the dataset."
   ]
  },
  {
   "cell_type": "markdown",
   "metadata": {
    "hideCode": false,
    "hidePrompt": false
   },
   "source": [
    "<br>\n",
    "** (b) To inspect the dataset, slice the table by rows and columns, indicate rows and columns by their indices. **"
   ]
  },
  {
   "cell_type": "code",
   "execution_count": 15,
   "metadata": {
    "scrolled": true
   },
   "outputs": [
    {
     "data": {
      "text/html": [
       "-0.035461"
      ],
      "text/latex": [
       "-0.035461"
      ],
      "text/markdown": [
       "-0.035461"
      ],
      "text/plain": [
       "[1] -0.035461"
      ]
     },
     "metadata": {},
     "output_type": "display_data"
    }
   ],
   "source": [
    "data[1,2]"
   ]
  },
  {
   "cell_type": "markdown",
   "metadata": {},
   "source": [
    "To inspect the data at the intersection of row 1 and column 2, we reference `data[1,2]`.  Because this references a single value, association with a table is dropped, and the output is presented as single value.\n",
    "\n",
    "<br>"
   ]
  },
  {
   "cell_type": "code",
   "execution_count": 16,
   "metadata": {
    "scrolled": true
   },
   "outputs": [
    {
     "data": {
      "text/html": [
       "<table>\n",
       "<thead><tr><th scope=col>Date</th><th scope=col>Apple.Return</th><th scope=col>Dell.Return</th><th scope=col>IBM.Return</th><th scope=col>Microsoft.Return</th></tr></thead>\n",
       "<tbody>\n",
       "\t<tr><td>1990.042  </td><td>-0.035461 </td><td>-0.1590909</td><td>0.04780877</td><td>0.06321839</td></tr>\n",
       "</tbody>\n",
       "</table>\n"
      ],
      "text/latex": [
       "\\begin{tabular}{r|lllll}\n",
       " Date & Apple.Return & Dell.Return & IBM.Return & Microsoft.Return\\\\\n",
       "\\hline\n",
       "\t 1990.042   & -0.035461  & -0.1590909 & 0.04780877 & 0.06321839\\\\\n",
       "\\end{tabular}\n"
      ],
      "text/markdown": [
       "\n",
       "Date | Apple.Return | Dell.Return | IBM.Return | Microsoft.Return | \n",
       "|---|\n",
       "| 1990.042   | -0.035461  | -0.1590909 | 0.04780877 | 0.06321839 | \n",
       "\n",
       "\n"
      ],
      "text/plain": [
       "  Date     Apple.Return Dell.Return IBM.Return Microsoft.Return\n",
       "1 1990.042 -0.035461    -0.1590909  0.04780877 0.06321839      "
      ]
     },
     "metadata": {},
     "output_type": "display_data"
    }
   ],
   "source": [
    "data[1,1:5]"
   ]
  },
  {
   "cell_type": "markdown",
   "metadata": {},
   "source": [
    "To inspect only the first 5 columns of the 1st row of data, we reference `data[1,1:5]`.\n",
    "\n",
    "<br>"
   ]
  },
  {
   "cell_type": "code",
   "execution_count": 17,
   "metadata": {
    "scrolled": true
   },
   "outputs": [
    {
     "data": {
      "text/html": [
       "<table>\n",
       "<thead><tr><th scope=col>Date</th><th scope=col>Apple.Return</th><th scope=col>Dell.Return</th><th scope=col>IBM.Return</th><th scope=col>Microsoft.Return</th></tr></thead>\n",
       "<tbody>\n",
       "\t<tr><td>1990.042  </td><td>-0.035461 </td><td>-0.1590909</td><td>0.04780877</td><td>0.06321839</td></tr>\n",
       "\t<tr><td>1990.125  </td><td> 0.003235 </td><td> 0.3513514</td><td>0.06550063</td><td>0.06756756</td></tr>\n",
       "\t<tr><td>1990.208  </td><td> 0.183824 </td><td> 0.2200000</td><td>0.02166065</td><td>0.12151898</td></tr>\n",
       "</tbody>\n",
       "</table>\n"
      ],
      "text/latex": [
       "\\begin{tabular}{r|lllll}\n",
       " Date & Apple.Return & Dell.Return & IBM.Return & Microsoft.Return\\\\\n",
       "\\hline\n",
       "\t 1990.042   & -0.035461  & -0.1590909 & 0.04780877 & 0.06321839\\\\\n",
       "\t 1990.125   &  0.003235  &  0.3513514 & 0.06550063 & 0.06756756\\\\\n",
       "\t 1990.208   &  0.183824  &  0.2200000 & 0.02166065 & 0.12151898\\\\\n",
       "\\end{tabular}\n"
      ],
      "text/markdown": [
       "\n",
       "Date | Apple.Return | Dell.Return | IBM.Return | Microsoft.Return | \n",
       "|---|---|---|\n",
       "| 1990.042   | -0.035461  | -0.1590909 | 0.04780877 | 0.06321839 | \n",
       "| 1990.125   |  0.003235  |  0.3513514 | 0.06550063 | 0.06756756 | \n",
       "| 1990.208   |  0.183824  |  0.2200000 | 0.02166065 | 0.12151898 | \n",
       "\n",
       "\n"
      ],
      "text/plain": [
       "  Date     Apple.Return Dell.Return IBM.Return Microsoft.Return\n",
       "1 1990.042 -0.035461    -0.1590909  0.04780877 0.06321839      \n",
       "2 1990.125  0.003235     0.3513514  0.06550063 0.06756756      \n",
       "3 1990.208  0.183824     0.2200000  0.02166065 0.12151898      "
      ]
     },
     "metadata": {},
     "output_type": "display_data"
    }
   ],
   "source": [
    "data[1:3,1:5]"
   ]
  },
  {
   "cell_type": "markdown",
   "metadata": {},
   "source": [
    "To inspect only the first 5 columns of the first 3 rows of data, we reference `data[1:3,1:5]`.\n",
    "\n",
    "<br>"
   ]
  },
  {
   "cell_type": "code",
   "execution_count": 18,
   "metadata": {
    "scrolled": false
   },
   "outputs": [
    {
     "data": {
      "text/html": [
       "<table>\n",
       "<thead><tr><th></th><th scope=col>Date</th><th scope=col>Apple.Return</th><th scope=col>Dell.Return</th><th scope=col>IBM.Return</th><th scope=col>Microsoft.Return</th><th scope=col>SP.500.Return</th></tr></thead>\n",
       "<tbody>\n",
       "\t<tr><th scope=row>2</th><td>1990.125  </td><td> 0.003235 </td><td>0.3513514 </td><td>0.06550063</td><td>0.06756756</td><td> 0.008539 </td></tr>\n",
       "\t<tr><th scope=row>4</th><td>1990.292  </td><td>-0.021739 </td><td>0.1147541 </td><td>0.02709069</td><td>0.04740406</td><td>-0.026887 </td></tr>\n",
       "</tbody>\n",
       "</table>\n"
      ],
      "text/latex": [
       "\\begin{tabular}{r|llllll}\n",
       "  & Date & Apple.Return & Dell.Return & IBM.Return & Microsoft.Return & SP.500.Return\\\\\n",
       "\\hline\n",
       "\t2 & 1990.125   &  0.003235  & 0.3513514  & 0.06550063 & 0.06756756 &  0.008539 \\\\\n",
       "\t4 & 1990.292   & -0.021739  & 0.1147541  & 0.02709069 & 0.04740406 & -0.026887 \\\\\n",
       "\\end{tabular}\n"
      ],
      "text/markdown": [
       "\n",
       "| <!--/--> | Date | Apple.Return | Dell.Return | IBM.Return | Microsoft.Return | SP.500.Return | \n",
       "|---|---|\n",
       "| 2 | 1990.125   |  0.003235  | 0.3513514  | 0.06550063 | 0.06756756 |  0.008539  | \n",
       "| 4 | 1990.292   | -0.021739  | 0.1147541  | 0.02709069 | 0.04740406 | -0.026887  | \n",
       "\n",
       "\n"
      ],
      "text/plain": [
       "  Date     Apple.Return Dell.Return IBM.Return Microsoft.Return SP.500.Return\n",
       "2 1990.125  0.003235    0.3513514   0.06550063 0.06756756        0.008539    \n",
       "4 1990.292 -0.021739    0.1147541   0.02709069 0.04740406       -0.026887    "
      ]
     },
     "metadata": {},
     "output_type": "display_data"
    }
   ],
   "source": [
    "data[c(2,4),c(1:5,7)]"
   ]
  },
  {
   "cell_type": "markdown",
   "metadata": {},
   "source": [
    "To inspect the first 5 columns and the 7th column of the 2nd and 4th rows of data, we reference `data[c(2,4),c(1:5,7)]`.  Note, the `c` function can take a combination of `:`-style sequences and single indices as parameters."
   ]
  },
  {
   "cell_type": "markdown",
   "metadata": {
    "hideCode": false,
    "hidePrompt": false
   },
   "source": [
    "<br>\n",
    "** (c) To inspect the dataset, slice the table by rows and columns, indicate columns by their names. **"
   ]
  },
  {
   "cell_type": "code",
   "execution_count": 19,
   "metadata": {
    "scrolled": false
   },
   "outputs": [
    {
     "data": {
      "text/html": [
       "-0.035461"
      ],
      "text/latex": [
       "-0.035461"
      ],
      "text/markdown": [
       "-0.035461"
      ],
      "text/plain": [
       "[1] -0.035461"
      ]
     },
     "metadata": {},
     "output_type": "display_data"
    }
   ],
   "source": [
    "data[1,\"Apple.Return\"]"
   ]
  },
  {
   "cell_type": "markdown",
   "metadata": {},
   "source": [
    "<br>"
   ]
  },
  {
   "cell_type": "code",
   "execution_count": 20,
   "metadata": {
    "scrolled": true
   },
   "outputs": [
    {
     "data": {
      "text/html": [
       "<table>\n",
       "<thead><tr><th scope=col>Date</th><th scope=col>Apple.Return</th><th scope=col>Dell.Return</th><th scope=col>IBM.Return</th><th scope=col>Microsoft.Return</th></tr></thead>\n",
       "<tbody>\n",
       "\t<tr><td>1990.042  </td><td>-0.035461 </td><td>-0.1590909</td><td>0.04780877</td><td>0.06321839</td></tr>\n",
       "</tbody>\n",
       "</table>\n"
      ],
      "text/latex": [
       "\\begin{tabular}{r|lllll}\n",
       " Date & Apple.Return & Dell.Return & IBM.Return & Microsoft.Return\\\\\n",
       "\\hline\n",
       "\t 1990.042   & -0.035461  & -0.1590909 & 0.04780877 & 0.06321839\\\\\n",
       "\\end{tabular}\n"
      ],
      "text/markdown": [
       "\n",
       "Date | Apple.Return | Dell.Return | IBM.Return | Microsoft.Return | \n",
       "|---|\n",
       "| 1990.042   | -0.035461  | -0.1590909 | 0.04780877 | 0.06321839 | \n",
       "\n",
       "\n"
      ],
      "text/plain": [
       "  Date     Apple.Return Dell.Return IBM.Return Microsoft.Return\n",
       "1 1990.042 -0.035461    -0.1590909  0.04780877 0.06321839      "
      ]
     },
     "metadata": {},
     "output_type": "display_data"
    }
   ],
   "source": [
    "data[1,c(\"Date\",\"Apple.Return\",\"Dell.Return\",\"IBM.Return\",\"Microsoft.Return\")]"
   ]
  },
  {
   "cell_type": "markdown",
   "metadata": {},
   "source": [
    "<br>"
   ]
  },
  {
   "cell_type": "code",
   "execution_count": 21,
   "metadata": {
    "scrolled": true
   },
   "outputs": [
    {
     "data": {
      "text/html": [
       "<table>\n",
       "<thead><tr><th scope=col>Date</th><th scope=col>Apple.Return</th><th scope=col>Dell.Return</th><th scope=col>IBM.Return</th><th scope=col>Microsoft.Return</th></tr></thead>\n",
       "<tbody>\n",
       "\t<tr><td>1990.042  </td><td>-0.035461 </td><td>-0.1590909</td><td>0.04780877</td><td>0.06321839</td></tr>\n",
       "\t<tr><td>1990.125  </td><td> 0.003235 </td><td> 0.3513514</td><td>0.06550063</td><td>0.06756756</td></tr>\n",
       "\t<tr><td>1990.208  </td><td> 0.183824 </td><td> 0.2200000</td><td>0.02166065</td><td>0.12151898</td></tr>\n",
       "</tbody>\n",
       "</table>\n"
      ],
      "text/latex": [
       "\\begin{tabular}{r|lllll}\n",
       " Date & Apple.Return & Dell.Return & IBM.Return & Microsoft.Return\\\\\n",
       "\\hline\n",
       "\t 1990.042   & -0.035461  & -0.1590909 & 0.04780877 & 0.06321839\\\\\n",
       "\t 1990.125   &  0.003235  &  0.3513514 & 0.06550063 & 0.06756756\\\\\n",
       "\t 1990.208   &  0.183824  &  0.2200000 & 0.02166065 & 0.12151898\\\\\n",
       "\\end{tabular}\n"
      ],
      "text/markdown": [
       "\n",
       "Date | Apple.Return | Dell.Return | IBM.Return | Microsoft.Return | \n",
       "|---|---|---|\n",
       "| 1990.042   | -0.035461  | -0.1590909 | 0.04780877 | 0.06321839 | \n",
       "| 1990.125   |  0.003235  |  0.3513514 | 0.06550063 | 0.06756756 | \n",
       "| 1990.208   |  0.183824  |  0.2200000 | 0.02166065 | 0.12151898 | \n",
       "\n",
       "\n"
      ],
      "text/plain": [
       "  Date     Apple.Return Dell.Return IBM.Return Microsoft.Return\n",
       "1 1990.042 -0.035461    -0.1590909  0.04780877 0.06321839      \n",
       "2 1990.125  0.003235     0.3513514  0.06550063 0.06756756      \n",
       "3 1990.208  0.183824     0.2200000  0.02166065 0.12151898      "
      ]
     },
     "metadata": {},
     "output_type": "display_data"
    }
   ],
   "source": [
    "data[1:3,c(\"Date\",\"Apple.Return\",\"Dell.Return\",\"IBM.Return\",\"Microsoft.Return\")]"
   ]
  },
  {
   "cell_type": "markdown",
   "metadata": {},
   "source": [
    "<br>"
   ]
  },
  {
   "cell_type": "code",
   "execution_count": 22,
   "metadata": {
    "scrolled": false
   },
   "outputs": [
    {
     "data": {
      "text/html": [
       "<table>\n",
       "<thead><tr><th></th><th scope=col>Date</th><th scope=col>Apple.Return</th><th scope=col>Dell.Return</th><th scope=col>IBM.Return</th><th scope=col>Microsoft.Return</th><th scope=col>SP.500.Return</th></tr></thead>\n",
       "<tbody>\n",
       "\t<tr><th scope=row>1</th><td>1990.042  </td><td>-0.035461 </td><td>-0.1590909</td><td>0.04780877</td><td>0.06321839</td><td>-0.068817 </td></tr>\n",
       "\t<tr><th scope=row>3</th><td>1990.208  </td><td> 0.183824 </td><td> 0.2200000</td><td>0.02166065</td><td>0.12151898</td><td> 0.024255 </td></tr>\n",
       "</tbody>\n",
       "</table>\n"
      ],
      "text/latex": [
       "\\begin{tabular}{r|llllll}\n",
       "  & Date & Apple.Return & Dell.Return & IBM.Return & Microsoft.Return & SP.500.Return\\\\\n",
       "\\hline\n",
       "\t1 & 1990.042   & -0.035461  & -0.1590909 & 0.04780877 & 0.06321839 & -0.068817 \\\\\n",
       "\t3 & 1990.208   &  0.183824  &  0.2200000 & 0.02166065 & 0.12151898 &  0.024255 \\\\\n",
       "\\end{tabular}\n"
      ],
      "text/markdown": [
       "\n",
       "| <!--/--> | Date | Apple.Return | Dell.Return | IBM.Return | Microsoft.Return | SP.500.Return | \n",
       "|---|---|\n",
       "| 1 | 1990.042   | -0.035461  | -0.1590909 | 0.04780877 | 0.06321839 | -0.068817  | \n",
       "| 3 | 1990.208   |  0.183824  |  0.2200000 | 0.02166065 | 0.12151898 |  0.024255  | \n",
       "\n",
       "\n"
      ],
      "text/plain": [
       "  Date     Apple.Return Dell.Return IBM.Return Microsoft.Return SP.500.Return\n",
       "1 1990.042 -0.035461    -0.1590909  0.04780877 0.06321839       -0.068817    \n",
       "3 1990.208  0.183824     0.2200000  0.02166065 0.12151898        0.024255    "
      ]
     },
     "metadata": {},
     "output_type": "display_data"
    }
   ],
   "source": [
    "data[c(1,3),c(\"Date\",\"Apple.Return\",\"Dell.Return\",\"IBM.Return\",\"Microsoft.Return\",\"SP.500.Return\")]"
   ]
  },
  {
   "cell_type": "markdown",
   "metadata": {},
   "source": [
    "As a sometimes convenient alternative to referencing columns by their indices, we can indicate them by their names.  Note, column names are described as strings and so must each be enclosed within `\"...\"`."
   ]
  },
  {
   "cell_type": "markdown",
   "metadata": {
    "hideCode": false,
    "hidePrompt": false
   },
   "source": [
    "<br>\n",
    "** (d) To inspect the dataset, slice the table by rows and 1 column, indicate the column by its name using \\$ notation. **"
   ]
  },
  {
   "cell_type": "code",
   "execution_count": 23,
   "metadata": {
    "scrolled": true
   },
   "outputs": [
    {
     "data": {
      "text/html": [
       "-0.035461"
      ],
      "text/latex": [
       "-0.035461"
      ],
      "text/markdown": [
       "-0.035461"
      ],
      "text/plain": [
       "[1] -0.035461"
      ]
     },
     "metadata": {},
     "output_type": "display_data"
    }
   ],
   "source": [
    "data$Apple.Return[1]"
   ]
  },
  {
   "cell_type": "markdown",
   "metadata": {},
   "source": [
    "As a sometimes convenient alternative to referencing columns using the `[...]` notation, if we want just one column, then we can use the `$` notation - a table name followed by the `$` symbol, followed by a column name, followed by row indices enclosed within `[...]`.\n",
    "\n",
    "So, to inspect the `Apple.Return` column of the 1st row of data, we reference `data$Apple.Return[1]`.  Note, in this notation, the column name is described not as a string, so it is not enclosed within `\"...\"`.  Note also, because this references a single value, association with a table is dropped, and the output is presented as single value.  (We cannot force the reference to keep an association with a table.)\n",
    "\n",
    "<br>"
   ]
  },
  {
   "cell_type": "code",
   "execution_count": 24,
   "metadata": {
    "scrolled": false
   },
   "outputs": [
    {
     "data": {
      "text/html": [
       "<ol class=list-inline>\n",
       "\t<li>-0.035461</li>\n",
       "\t<li>0.003235</li>\n",
       "\t<li>0.183824</li>\n",
       "</ol>\n"
      ],
      "text/latex": [
       "\\begin{enumerate*}\n",
       "\\item -0.035461\n",
       "\\item 0.003235\n",
       "\\item 0.183824\n",
       "\\end{enumerate*}\n"
      ],
      "text/markdown": [
       "1. -0.035461\n",
       "2. 0.003235\n",
       "3. 0.183824\n",
       "\n",
       "\n"
      ],
      "text/plain": [
       "[1] -0.035461  0.003235  0.183824"
      ]
     },
     "metadata": {},
     "output_type": "display_data"
    }
   ],
   "source": [
    "data$Apple.Return[1:3]"
   ]
  },
  {
   "cell_type": "markdown",
   "metadata": {},
   "source": [
    "To inspect the `Apple.Return` column of the 1st 3 rows of data, we reference `data$Apple.Return[1:3]`.  Note, because these reference vectors of values, associations with tables are dropped, and the outputs are presented as vectors. (We cannot force these references to keep associations with tables.)\n",
    "\n",
    "<br>"
   ]
  },
  {
   "cell_type": "code",
   "execution_count": 25,
   "metadata": {
    "scrolled": true
   },
   "outputs": [
    {
     "data": {
      "text/html": [
       "<ol class=list-inline>\n",
       "\t<li>-0.035461</li>\n",
       "\t<li>0.183824</li>\n",
       "</ol>\n"
      ],
      "text/latex": [
       "\\begin{enumerate*}\n",
       "\\item -0.035461\n",
       "\\item 0.183824\n",
       "\\end{enumerate*}\n"
      ],
      "text/markdown": [
       "1. -0.035461\n",
       "2. 0.183824\n",
       "\n",
       "\n"
      ],
      "text/plain": [
       "[1] -0.035461  0.183824"
      ]
     },
     "metadata": {},
     "output_type": "display_data"
    }
   ],
   "source": [
    "data$Apple.Return[c(1,3)]"
   ]
  },
  {
   "cell_type": "markdown",
   "metadata": {},
   "source": [
    "Similarly, to inspect the `Apple.Return` column of the 1st and 3rd rows of data, we reference `data$Apple.Return[c(1,3)]`."
   ]
  },
  {
   "cell_type": "markdown",
   "metadata": {
    "hideCode": false,
    "hidePrompt": false
   },
   "source": [
    "<br>\n",
    "** (e) To inspect the dataset, slice the table by rows and columns, indicate the rows by a criterion. **"
   ]
  },
  {
   "cell_type": "code",
   "execution_count": 26,
   "metadata": {
    "scrolled": false
   },
   "outputs": [
    {
     "data": {
      "text/html": [
       "<table>\n",
       "<thead><tr><th scope=col>Date</th><th scope=col>Apple.Return</th><th scope=col>Dell.Return</th><th scope=col>IBM.Return</th><th scope=col>Microsoft.Return</th><th scope=col>Value.weighted.Market.Return</th><th scope=col>SP.500.Return</th><th scope=col>Price..Dell</th><th scope=col>Price..Apple</th><th scope=col>Price..IBM</th><th scope=col>Price..Microsoft</th><th scope=col>Calendar.Date</th></tr></thead>\n",
       "<tbody>\n",
       "\t<tr><td>1990.042   </td><td>-0.035461  </td><td>-0.1590909 </td><td> 0.04780877</td><td> 0.06321839</td><td>-0.070115  </td><td>-0.068817  </td><td> 4.625     </td><td>34.000     </td><td> 98.625    </td><td> 92.50     </td><td>19900131   </td></tr>\n",
       "\t<tr><td>1990.125   </td><td> 0.003235  </td><td> 0.3513514 </td><td> 0.06550063</td><td> 0.06756756</td><td> 0.014901  </td><td> 0.008539  </td><td> 6.250     </td><td>34.000     </td><td>103.875    </td><td> 98.75     </td><td>19900228   </td></tr>\n",
       "\t<tr><td>1990.208   </td><td> 0.183824  </td><td> 0.2200000 </td><td> 0.02166065</td><td> 0.12151898</td><td> 0.024140  </td><td> 0.024255  </td><td> 7.625     </td><td>40.250     </td><td>106.125    </td><td>110.75     </td><td>19900330   </td></tr>\n",
       "\t<tr><td>1990.292   </td><td>-0.021739  </td><td> 0.1147541 </td><td> 0.02709069</td><td> 0.04740406</td><td>-0.028286  </td><td>-0.026887  </td><td> 8.500     </td><td>39.375     </td><td>109.000    </td><td> 58.00     </td><td>19900430   </td></tr>\n",
       "\t<tr><td>1990.375   </td><td> 0.050413  </td><td> 0.2941177 </td><td> 0.11201835</td><td> 0.25862068</td><td> 0.088936  </td><td> 0.091989  </td><td>11.000     </td><td>41.250     </td><td>120.000    </td><td> 73.00     </td><td>19900531   </td></tr>\n",
       "\t<tr><td>1990.458   </td><td> 0.084848  </td><td> 0.1477273 </td><td>-0.02083330</td><td> 0.04109589</td><td>-0.004196  </td><td>-0.008886  </td><td>12.625     </td><td>44.750     </td><td>117.500    </td><td> 76.00     </td><td>19900629   </td></tr>\n",
       "\t<tr><td>1990.542   </td><td>-0.061453  </td><td>-0.0693069 </td><td>-0.05106380</td><td>-0.12500000</td><td>-0.009405  </td><td>-0.005223  </td><td>11.750     </td><td>42.000     </td><td>111.500    </td><td> 66.50     </td><td>19900731   </td></tr>\n",
       "\t<tr><td>1990.625   </td><td>-0.116429  </td><td> 0.0000000 </td><td>-0.07547090</td><td>-0.07518800</td><td>-0.091896  </td><td>-0.094314  </td><td>11.750     </td><td>37.000     </td><td>101.875    </td><td> 61.50     </td><td>19900831   </td></tr>\n",
       "\t<tr><td>1990.708   </td><td>-0.216216  </td><td>-0.2553191 </td><td> 0.04417178</td><td> 0.02439024</td><td>-0.053843  </td><td>-0.051184  </td><td> 8.750     </td><td>29.000     </td><td>106.375    </td><td> 63.00     </td><td>19900928   </td></tr>\n",
       "\t<tr><td>1990.792   </td><td> 0.060345  </td><td> 0.2142857 </td><td>-0.00940070</td><td> 0.01190476</td><td>-0.012504  </td><td>-0.006698  </td><td>10.625     </td><td>30.750     </td><td>105.375    </td><td> 63.75     </td><td>19901031   </td></tr>\n",
       "\t<tr><td>1990.875   </td><td> 0.199024  </td><td> 0.2352941 </td><td> 0.08977462</td><td> 0.13333334</td><td> 0.065744  </td><td> 0.059934  </td><td>13.125     </td><td>36.750     </td><td>113.625    </td><td> 72.25     </td><td>19901130   </td></tr>\n",
       "\t<tr><td>1990.958   </td><td> 0.170068  </td><td> 0.4095238 </td><td>-0.00550060</td><td> 0.04152249</td><td> 0.029513  </td><td> 0.024828  </td><td>18.500     </td><td>43.000     </td><td>113.000    </td><td> 75.25     </td><td>19901231   </td></tr>\n",
       "</tbody>\n",
       "</table>\n"
      ],
      "text/latex": [
       "\\begin{tabular}{r|llllllllllll}\n",
       " Date & Apple.Return & Dell.Return & IBM.Return & Microsoft.Return & Value.weighted.Market.Return & SP.500.Return & Price..Dell & Price..Apple & Price..IBM & Price..Microsoft & Calendar.Date\\\\\n",
       "\\hline\n",
       "\t 1990.042    & -0.035461   & -0.1590909  &  0.04780877 &  0.06321839 & -0.070115   & -0.068817   &  4.625      & 34.000      &  98.625     &  92.50      & 19900131   \\\\\n",
       "\t 1990.125    &  0.003235   &  0.3513514  &  0.06550063 &  0.06756756 &  0.014901   &  0.008539   &  6.250      & 34.000      & 103.875     &  98.75      & 19900228   \\\\\n",
       "\t 1990.208    &  0.183824   &  0.2200000  &  0.02166065 &  0.12151898 &  0.024140   &  0.024255   &  7.625      & 40.250      & 106.125     & 110.75      & 19900330   \\\\\n",
       "\t 1990.292    & -0.021739   &  0.1147541  &  0.02709069 &  0.04740406 & -0.028286   & -0.026887   &  8.500      & 39.375      & 109.000     &  58.00      & 19900430   \\\\\n",
       "\t 1990.375    &  0.050413   &  0.2941177  &  0.11201835 &  0.25862068 &  0.088936   &  0.091989   & 11.000      & 41.250      & 120.000     &  73.00      & 19900531   \\\\\n",
       "\t 1990.458    &  0.084848   &  0.1477273  & -0.02083330 &  0.04109589 & -0.004196   & -0.008886   & 12.625      & 44.750      & 117.500     &  76.00      & 19900629   \\\\\n",
       "\t 1990.542    & -0.061453   & -0.0693069  & -0.05106380 & -0.12500000 & -0.009405   & -0.005223   & 11.750      & 42.000      & 111.500     &  66.50      & 19900731   \\\\\n",
       "\t 1990.625    & -0.116429   &  0.0000000  & -0.07547090 & -0.07518800 & -0.091896   & -0.094314   & 11.750      & 37.000      & 101.875     &  61.50      & 19900831   \\\\\n",
       "\t 1990.708    & -0.216216   & -0.2553191  &  0.04417178 &  0.02439024 & -0.053843   & -0.051184   &  8.750      & 29.000      & 106.375     &  63.00      & 19900928   \\\\\n",
       "\t 1990.792    &  0.060345   &  0.2142857  & -0.00940070 &  0.01190476 & -0.012504   & -0.006698   & 10.625      & 30.750      & 105.375     &  63.75      & 19901031   \\\\\n",
       "\t 1990.875    &  0.199024   &  0.2352941  &  0.08977462 &  0.13333334 &  0.065744   &  0.059934   & 13.125      & 36.750      & 113.625     &  72.25      & 19901130   \\\\\n",
       "\t 1990.958    &  0.170068   &  0.4095238  & -0.00550060 &  0.04152249 &  0.029513   &  0.024828   & 18.500      & 43.000      & 113.000     &  75.25      & 19901231   \\\\\n",
       "\\end{tabular}\n"
      ],
      "text/markdown": [
       "\n",
       "Date | Apple.Return | Dell.Return | IBM.Return | Microsoft.Return | Value.weighted.Market.Return | SP.500.Return | Price..Dell | Price..Apple | Price..IBM | Price..Microsoft | Calendar.Date | \n",
       "|---|---|---|---|---|---|---|---|---|---|---|---|\n",
       "| 1990.042    | -0.035461   | -0.1590909  |  0.04780877 |  0.06321839 | -0.070115   | -0.068817   |  4.625      | 34.000      |  98.625     |  92.50      | 19900131    | \n",
       "| 1990.125    |  0.003235   |  0.3513514  |  0.06550063 |  0.06756756 |  0.014901   |  0.008539   |  6.250      | 34.000      | 103.875     |  98.75      | 19900228    | \n",
       "| 1990.208    |  0.183824   |  0.2200000  |  0.02166065 |  0.12151898 |  0.024140   |  0.024255   |  7.625      | 40.250      | 106.125     | 110.75      | 19900330    | \n",
       "| 1990.292    | -0.021739   |  0.1147541  |  0.02709069 |  0.04740406 | -0.028286   | -0.026887   |  8.500      | 39.375      | 109.000     |  58.00      | 19900430    | \n",
       "| 1990.375    |  0.050413   |  0.2941177  |  0.11201835 |  0.25862068 |  0.088936   |  0.091989   | 11.000      | 41.250      | 120.000     |  73.00      | 19900531    | \n",
       "| 1990.458    |  0.084848   |  0.1477273  | -0.02083330 |  0.04109589 | -0.004196   | -0.008886   | 12.625      | 44.750      | 117.500     |  76.00      | 19900629    | \n",
       "| 1990.542    | -0.061453   | -0.0693069  | -0.05106380 | -0.12500000 | -0.009405   | -0.005223   | 11.750      | 42.000      | 111.500     |  66.50      | 19900731    | \n",
       "| 1990.625    | -0.116429   |  0.0000000  | -0.07547090 | -0.07518800 | -0.091896   | -0.094314   | 11.750      | 37.000      | 101.875     |  61.50      | 19900831    | \n",
       "| 1990.708    | -0.216216   | -0.2553191  |  0.04417178 |  0.02439024 | -0.053843   | -0.051184   |  8.750      | 29.000      | 106.375     |  63.00      | 19900928    | \n",
       "| 1990.792    |  0.060345   |  0.2142857  | -0.00940070 |  0.01190476 | -0.012504   | -0.006698   | 10.625      | 30.750      | 105.375     |  63.75      | 19901031    | \n",
       "| 1990.875    |  0.199024   |  0.2352941  |  0.08977462 |  0.13333334 |  0.065744   |  0.059934   | 13.125      | 36.750      | 113.625     |  72.25      | 19901130    | \n",
       "| 1990.958    |  0.170068   |  0.4095238  | -0.00550060 |  0.04152249 |  0.029513   |  0.024828   | 18.500      | 43.000      | 113.000     |  75.25      | 19901231    | \n",
       "\n",
       "\n"
      ],
      "text/plain": [
       "   Date     Apple.Return Dell.Return IBM.Return  Microsoft.Return\n",
       "1  1990.042 -0.035461    -0.1590909   0.04780877  0.06321839     \n",
       "2  1990.125  0.003235     0.3513514   0.06550063  0.06756756     \n",
       "3  1990.208  0.183824     0.2200000   0.02166065  0.12151898     \n",
       "4  1990.292 -0.021739     0.1147541   0.02709069  0.04740406     \n",
       "5  1990.375  0.050413     0.2941177   0.11201835  0.25862068     \n",
       "6  1990.458  0.084848     0.1477273  -0.02083330  0.04109589     \n",
       "7  1990.542 -0.061453    -0.0693069  -0.05106380 -0.12500000     \n",
       "8  1990.625 -0.116429     0.0000000  -0.07547090 -0.07518800     \n",
       "9  1990.708 -0.216216    -0.2553191   0.04417178  0.02439024     \n",
       "10 1990.792  0.060345     0.2142857  -0.00940070  0.01190476     \n",
       "11 1990.875  0.199024     0.2352941   0.08977462  0.13333334     \n",
       "12 1990.958  0.170068     0.4095238  -0.00550060  0.04152249     \n",
       "   Value.weighted.Market.Return SP.500.Return Price..Dell Price..Apple\n",
       "1  -0.070115                    -0.068817      4.625      34.000      \n",
       "2   0.014901                     0.008539      6.250      34.000      \n",
       "3   0.024140                     0.024255      7.625      40.250      \n",
       "4  -0.028286                    -0.026887      8.500      39.375      \n",
       "5   0.088936                     0.091989     11.000      41.250      \n",
       "6  -0.004196                    -0.008886     12.625      44.750      \n",
       "7  -0.009405                    -0.005223     11.750      42.000      \n",
       "8  -0.091896                    -0.094314     11.750      37.000      \n",
       "9  -0.053843                    -0.051184      8.750      29.000      \n",
       "10 -0.012504                    -0.006698     10.625      30.750      \n",
       "11  0.065744                     0.059934     13.125      36.750      \n",
       "12  0.029513                     0.024828     18.500      43.000      \n",
       "   Price..IBM Price..Microsoft Calendar.Date\n",
       "1   98.625     92.50           19900131     \n",
       "2  103.875     98.75           19900228     \n",
       "3  106.125    110.75           19900330     \n",
       "4  109.000     58.00           19900430     \n",
       "5  120.000     73.00           19900531     \n",
       "6  117.500     76.00           19900629     \n",
       "7  111.500     66.50           19900731     \n",
       "8  101.875     61.50           19900831     \n",
       "9  106.375     63.00           19900928     \n",
       "10 105.375     63.75           19901031     \n",
       "11 113.625     72.25           19901130     \n",
       "12 113.000     75.25           19901231     "
      ]
     },
     "metadata": {},
     "output_type": "display_data"
    }
   ],
   "source": [
    "data[data$Date < 1991,]"
   ]
  },
  {
   "cell_type": "markdown",
   "metadata": {},
   "source": [
    "To inspect the part of the dataset that satisfies a specific criterion, we again use the `[...]` notation, but indicate the rows we want by TRUE/FALSE expressions involving the columns.  (This is similar to, more more general than, Excel's filtering functionality.)\n",
    "\n",
    "To inspect only rows where the `Date` column value is less than 1991 (i.e., observations from earlier than the year 1991), we reference `data[data$Date < 1991,]`.  The row indices are indicated by the expression `data$Data < 1991` - every value in the `Date` column is compared to 1991, and rows selected accordingly.  The column indices are blank and so assumed to be all columns.\n",
    "\n",
    "<br>"
   ]
  },
  {
   "cell_type": "code",
   "execution_count": 27,
   "metadata": {
    "scrolled": false
   },
   "outputs": [
    {
     "data": {
      "text/html": [
       "<table>\n",
       "<thead><tr><th></th><th scope=col>Date</th><th scope=col>Apple.Return</th><th scope=col>Dell.Return</th><th scope=col>IBM.Return</th><th scope=col>Microsoft.Return</th><th scope=col>Value.weighted.Market.Return</th><th scope=col>SP.500.Return</th><th scope=col>Price..Dell</th><th scope=col>Price..Apple</th><th scope=col>Price..IBM</th><th scope=col>Price..Microsoft</th><th scope=col>Calendar.Date</th></tr></thead>\n",
       "<tbody>\n",
       "\t<tr><th scope=row>13</th><td>1991.042   </td><td> 0.290698  </td><td> 0.22297297</td><td> 0.12168141</td><td> 0.30398670</td><td> 0.049078  </td><td> 0.041518  </td><td>22.625     </td><td>55.500     </td><td>126.750    </td><td> 98.125    </td><td>19910131   </td></tr>\n",
       "\t<tr><th scope=row>14</th><td>1991.125   </td><td> 0.033694  </td><td> 0.11602210</td><td> 0.02532544</td><td> 0.05732484</td><td> 0.075847  </td><td> 0.067281  </td><td>25.250     </td><td>57.250     </td><td>128.750    </td><td>103.750    </td><td>19910228   </td></tr>\n",
       "\t<tr><th scope=row>15</th><td>1991.208   </td><td> 0.187773  </td><td> 0.12871288</td><td>-0.11553400</td><td> 0.02289157</td><td> 0.028923  </td><td> 0.022203  </td><td>28.500     </td><td>68.000     </td><td>113.875    </td><td>106.125    </td><td>19910328   </td></tr>\n",
       "\t<tr><th scope=row>16</th><td>1991.292   </td><td>-0.191176  </td><td>-0.17982460</td><td>-0.09549940</td><td>-0.06713780</td><td> 0.003322  </td><td> 0.000346  </td><td>23.375     </td><td>55.000     </td><td>103.000    </td><td> 99.000    </td><td>19910430   </td></tr>\n",
       "\t<tr><th scope=row>17</th><td>1991.375   </td><td>-0.143273  </td><td> 0.05882353</td><td> 0.04208738</td><td> 0.10858586</td><td> 0.040732  </td><td> 0.038577  </td><td>24.750     </td><td>47.000     </td><td>106.125    </td><td>109.750    </td><td>19910531   </td></tr>\n",
       "\t<tr><th scope=row>18</th><td>1991.458   </td><td>-0.117021  </td><td>-0.01010100</td><td>-0.08480570</td><td>-0.06890660</td><td>-0.044029  </td><td>-0.047893  </td><td>24.500     </td><td>41.500     </td><td> 97.125    </td><td> 68.125    </td><td>19910628   </td></tr>\n",
       "\t<tr><th scope=row>19</th><td>1991.542   </td><td> 0.114458  </td><td> 0.17346939</td><td> 0.04247104</td><td> 0.07889909</td><td> 0.046795  </td><td> 0.044859  </td><td>28.750     </td><td>46.250     </td><td>101.250    </td><td> 73.500    </td><td>19910731   </td></tr>\n",
       "\t<tr><th scope=row>20</th><td>1991.625   </td><td> 0.148541  </td><td> 0.13478261</td><td>-0.03125930</td><td> 0.15986395</td><td> 0.026819  </td><td> 0.019649  </td><td>32.625     </td><td>53.000     </td><td> 96.875    </td><td> 85.250    </td><td>19910830   </td></tr>\n",
       "\t<tr><th scope=row>21</th><td>1991.708   </td><td>-0.066038  </td><td> 0.02298851</td><td> 0.06967742</td><td> 0.04398827</td><td>-0.010975  </td><td>-0.019144  </td><td>33.375     </td><td>49.500     </td><td>103.625    </td><td> 89.000    </td><td>19910930   </td></tr>\n",
       "\t<tr><th scope=row>22</th><td>1991.792   </td><td> 0.040404  </td><td>-0.25468160</td><td>-0.05186970</td><td> 0.05477528</td><td> 0.017789  </td><td> 0.011860  </td><td>24.875     </td><td>51.500     </td><td> 98.250    </td><td> 93.875    </td><td>19911031   </td></tr>\n",
       "\t<tr><th scope=row>23</th><td>1991.875   </td><td>-0.012233  </td><td>-0.05527640</td><td>-0.04620870</td><td> 0.03595207</td><td>-0.037275  </td><td>-0.043928  </td><td>23.500     </td><td>50.750     </td><td> 92.500    </td><td> 97.250    </td><td>19911129   </td></tr>\n",
       "\t<tr><th scope=row>24</th><td>1991.958   </td><td> 0.110837  </td><td> 0.09042553</td><td>-0.03783780</td><td> 0.14395887</td><td> 0.106778  </td><td> 0.111588  </td><td>25.625     </td><td>56.375     </td><td> 89.000    </td><td>111.250    </td><td>19911231   </td></tr>\n",
       "</tbody>\n",
       "</table>\n"
      ],
      "text/latex": [
       "\\begin{tabular}{r|llllllllllll}\n",
       "  & Date & Apple.Return & Dell.Return & IBM.Return & Microsoft.Return & Value.weighted.Market.Return & SP.500.Return & Price..Dell & Price..Apple & Price..IBM & Price..Microsoft & Calendar.Date\\\\\n",
       "\\hline\n",
       "\t13 & 1991.042    &  0.290698   &  0.22297297 &  0.12168141 &  0.30398670 &  0.049078   &  0.041518   & 22.625      & 55.500      & 126.750     &  98.125     & 19910131   \\\\\n",
       "\t14 & 1991.125    &  0.033694   &  0.11602210 &  0.02532544 &  0.05732484 &  0.075847   &  0.067281   & 25.250      & 57.250      & 128.750     & 103.750     & 19910228   \\\\\n",
       "\t15 & 1991.208    &  0.187773   &  0.12871288 & -0.11553400 &  0.02289157 &  0.028923   &  0.022203   & 28.500      & 68.000      & 113.875     & 106.125     & 19910328   \\\\\n",
       "\t16 & 1991.292    & -0.191176   & -0.17982460 & -0.09549940 & -0.06713780 &  0.003322   &  0.000346   & 23.375      & 55.000      & 103.000     &  99.000     & 19910430   \\\\\n",
       "\t17 & 1991.375    & -0.143273   &  0.05882353 &  0.04208738 &  0.10858586 &  0.040732   &  0.038577   & 24.750      & 47.000      & 106.125     & 109.750     & 19910531   \\\\\n",
       "\t18 & 1991.458    & -0.117021   & -0.01010100 & -0.08480570 & -0.06890660 & -0.044029   & -0.047893   & 24.500      & 41.500      &  97.125     &  68.125     & 19910628   \\\\\n",
       "\t19 & 1991.542    &  0.114458   &  0.17346939 &  0.04247104 &  0.07889909 &  0.046795   &  0.044859   & 28.750      & 46.250      & 101.250     &  73.500     & 19910731   \\\\\n",
       "\t20 & 1991.625    &  0.148541   &  0.13478261 & -0.03125930 &  0.15986395 &  0.026819   &  0.019649   & 32.625      & 53.000      &  96.875     &  85.250     & 19910830   \\\\\n",
       "\t21 & 1991.708    & -0.066038   &  0.02298851 &  0.06967742 &  0.04398827 & -0.010975   & -0.019144   & 33.375      & 49.500      & 103.625     &  89.000     & 19910930   \\\\\n",
       "\t22 & 1991.792    &  0.040404   & -0.25468160 & -0.05186970 &  0.05477528 &  0.017789   &  0.011860   & 24.875      & 51.500      &  98.250     &  93.875     & 19911031   \\\\\n",
       "\t23 & 1991.875    & -0.012233   & -0.05527640 & -0.04620870 &  0.03595207 & -0.037275   & -0.043928   & 23.500      & 50.750      &  92.500     &  97.250     & 19911129   \\\\\n",
       "\t24 & 1991.958    &  0.110837   &  0.09042553 & -0.03783780 &  0.14395887 &  0.106778   &  0.111588   & 25.625      & 56.375      &  89.000     & 111.250     & 19911231   \\\\\n",
       "\\end{tabular}\n"
      ],
      "text/markdown": [
       "\n",
       "| <!--/--> | Date | Apple.Return | Dell.Return | IBM.Return | Microsoft.Return | Value.weighted.Market.Return | SP.500.Return | Price..Dell | Price..Apple | Price..IBM | Price..Microsoft | Calendar.Date | \n",
       "|---|---|---|---|---|---|---|---|---|---|---|---|\n",
       "| 13 | 1991.042    |  0.290698   |  0.22297297 |  0.12168141 |  0.30398670 |  0.049078   |  0.041518   | 22.625      | 55.500      | 126.750     |  98.125     | 19910131    | \n",
       "| 14 | 1991.125    |  0.033694   |  0.11602210 |  0.02532544 |  0.05732484 |  0.075847   |  0.067281   | 25.250      | 57.250      | 128.750     | 103.750     | 19910228    | \n",
       "| 15 | 1991.208    |  0.187773   |  0.12871288 | -0.11553400 |  0.02289157 |  0.028923   |  0.022203   | 28.500      | 68.000      | 113.875     | 106.125     | 19910328    | \n",
       "| 16 | 1991.292    | -0.191176   | -0.17982460 | -0.09549940 | -0.06713780 |  0.003322   |  0.000346   | 23.375      | 55.000      | 103.000     |  99.000     | 19910430    | \n",
       "| 17 | 1991.375    | -0.143273   |  0.05882353 |  0.04208738 |  0.10858586 |  0.040732   |  0.038577   | 24.750      | 47.000      | 106.125     | 109.750     | 19910531    | \n",
       "| 18 | 1991.458    | -0.117021   | -0.01010100 | -0.08480570 | -0.06890660 | -0.044029   | -0.047893   | 24.500      | 41.500      |  97.125     |  68.125     | 19910628    | \n",
       "| 19 | 1991.542    |  0.114458   |  0.17346939 |  0.04247104 |  0.07889909 |  0.046795   |  0.044859   | 28.750      | 46.250      | 101.250     |  73.500     | 19910731    | \n",
       "| 20 | 1991.625    |  0.148541   |  0.13478261 | -0.03125930 |  0.15986395 |  0.026819   |  0.019649   | 32.625      | 53.000      |  96.875     |  85.250     | 19910830    | \n",
       "| 21 | 1991.708    | -0.066038   |  0.02298851 |  0.06967742 |  0.04398827 | -0.010975   | -0.019144   | 33.375      | 49.500      | 103.625     |  89.000     | 19910930    | \n",
       "| 22 | 1991.792    |  0.040404   | -0.25468160 | -0.05186970 |  0.05477528 |  0.017789   |  0.011860   | 24.875      | 51.500      |  98.250     |  93.875     | 19911031    | \n",
       "| 23 | 1991.875    | -0.012233   | -0.05527640 | -0.04620870 |  0.03595207 | -0.037275   | -0.043928   | 23.500      | 50.750      |  92.500     |  97.250     | 19911129    | \n",
       "| 24 | 1991.958    |  0.110837   |  0.09042553 | -0.03783780 |  0.14395887 |  0.106778   |  0.111588   | 25.625      | 56.375      |  89.000     | 111.250     | 19911231    | \n",
       "\n",
       "\n"
      ],
      "text/plain": [
       "   Date     Apple.Return Dell.Return IBM.Return  Microsoft.Return\n",
       "13 1991.042  0.290698     0.22297297  0.12168141  0.30398670     \n",
       "14 1991.125  0.033694     0.11602210  0.02532544  0.05732484     \n",
       "15 1991.208  0.187773     0.12871288 -0.11553400  0.02289157     \n",
       "16 1991.292 -0.191176    -0.17982460 -0.09549940 -0.06713780     \n",
       "17 1991.375 -0.143273     0.05882353  0.04208738  0.10858586     \n",
       "18 1991.458 -0.117021    -0.01010100 -0.08480570 -0.06890660     \n",
       "19 1991.542  0.114458     0.17346939  0.04247104  0.07889909     \n",
       "20 1991.625  0.148541     0.13478261 -0.03125930  0.15986395     \n",
       "21 1991.708 -0.066038     0.02298851  0.06967742  0.04398827     \n",
       "22 1991.792  0.040404    -0.25468160 -0.05186970  0.05477528     \n",
       "23 1991.875 -0.012233    -0.05527640 -0.04620870  0.03595207     \n",
       "24 1991.958  0.110837     0.09042553 -0.03783780  0.14395887     \n",
       "   Value.weighted.Market.Return SP.500.Return Price..Dell Price..Apple\n",
       "13  0.049078                     0.041518     22.625      55.500      \n",
       "14  0.075847                     0.067281     25.250      57.250      \n",
       "15  0.028923                     0.022203     28.500      68.000      \n",
       "16  0.003322                     0.000346     23.375      55.000      \n",
       "17  0.040732                     0.038577     24.750      47.000      \n",
       "18 -0.044029                    -0.047893     24.500      41.500      \n",
       "19  0.046795                     0.044859     28.750      46.250      \n",
       "20  0.026819                     0.019649     32.625      53.000      \n",
       "21 -0.010975                    -0.019144     33.375      49.500      \n",
       "22  0.017789                     0.011860     24.875      51.500      \n",
       "23 -0.037275                    -0.043928     23.500      50.750      \n",
       "24  0.106778                     0.111588     25.625      56.375      \n",
       "   Price..IBM Price..Microsoft Calendar.Date\n",
       "13 126.750     98.125          19910131     \n",
       "14 128.750    103.750          19910228     \n",
       "15 113.875    106.125          19910328     \n",
       "16 103.000     99.000          19910430     \n",
       "17 106.125    109.750          19910531     \n",
       "18  97.125     68.125          19910628     \n",
       "19 101.250     73.500          19910731     \n",
       "20  96.875     85.250          19910830     \n",
       "21 103.625     89.000          19910930     \n",
       "22  98.250     93.875          19911031     \n",
       "23  92.500     97.250          19911129     \n",
       "24  89.000    111.250          19911231     "
      ]
     },
     "metadata": {},
     "output_type": "display_data"
    }
   ],
   "source": [
    "data[(data$Date >= 1991) & (data$Date < 1992),]"
   ]
  },
  {
   "cell_type": "markdown",
   "metadata": {},
   "source": [
    "To inspect only rows where the `Date` column is between 1991 (inclusive) and 1992 (exclusive), (i.e., observations from the year 1991), we reference `data[(data$Date >= 1991) & (data$Date < 1992),]`.  The row indices are again indicated by an expression, this time a complex expression using the AND operator (`&`) to get the intersection of 2 sets of row indices.  The column indices are blank and so assumed to be all columns.\n",
    "\n",
    "<br>"
   ]
  },
  {
   "cell_type": "code",
   "execution_count": 28,
   "metadata": {
    "scrolled": false
   },
   "outputs": [
    {
     "data": {
      "text/html": [
       "<table>\n",
       "<thead><tr><th></th><th scope=col>Date</th><th scope=col>Apple.Return</th><th scope=col>Dell.Return</th><th scope=col>IBM.Return</th><th scope=col>Microsoft.Return</th><th scope=col>Value.weighted.Market.Return</th><th scope=col>SP.500.Return</th><th scope=col>Price..Dell</th><th scope=col>Price..Apple</th><th scope=col>Price..IBM</th><th scope=col>Price..Microsoft</th><th scope=col>Calendar.Date</th></tr></thead>\n",
       "<tbody>\n",
       "\t<tr><th scope=row>13</th><td>1991.042   </td><td> 0.290698  </td><td> 0.22297297</td><td> 0.12168141</td><td> 0.30398670</td><td> 0.049078  </td><td> 0.041518  </td><td>22.625     </td><td>55.500     </td><td>126.750    </td><td> 98.125    </td><td>19910131   </td></tr>\n",
       "\t<tr><th scope=row>14</th><td>1991.125   </td><td> 0.033694  </td><td> 0.11602210</td><td> 0.02532544</td><td> 0.05732484</td><td> 0.075847  </td><td> 0.067281  </td><td>25.250     </td><td>57.250     </td><td>128.750    </td><td>103.750    </td><td>19910228   </td></tr>\n",
       "\t<tr><th scope=row>15</th><td>1991.208   </td><td> 0.187773  </td><td> 0.12871288</td><td>-0.11553400</td><td> 0.02289157</td><td> 0.028923  </td><td> 0.022203  </td><td>28.500     </td><td>68.000     </td><td>113.875    </td><td>106.125    </td><td>19910328   </td></tr>\n",
       "\t<tr><th scope=row>16</th><td>1991.292   </td><td>-0.191176  </td><td>-0.17982460</td><td>-0.09549940</td><td>-0.06713780</td><td> 0.003322  </td><td> 0.000346  </td><td>23.375     </td><td>55.000     </td><td>103.000    </td><td> 99.000    </td><td>19910430   </td></tr>\n",
       "\t<tr><th scope=row>17</th><td>1991.375   </td><td>-0.143273  </td><td> 0.05882353</td><td> 0.04208738</td><td> 0.10858586</td><td> 0.040732  </td><td> 0.038577  </td><td>24.750     </td><td>47.000     </td><td>106.125    </td><td>109.750    </td><td>19910531   </td></tr>\n",
       "\t<tr><th scope=row>18</th><td>1991.458   </td><td>-0.117021  </td><td>-0.01010100</td><td>-0.08480570</td><td>-0.06890660</td><td>-0.044029  </td><td>-0.047893  </td><td>24.500     </td><td>41.500     </td><td> 97.125    </td><td> 68.125    </td><td>19910628   </td></tr>\n",
       "\t<tr><th scope=row>19</th><td>1991.542   </td><td> 0.114458  </td><td> 0.17346939</td><td> 0.04247104</td><td> 0.07889909</td><td> 0.046795  </td><td> 0.044859  </td><td>28.750     </td><td>46.250     </td><td>101.250    </td><td> 73.500    </td><td>19910731   </td></tr>\n",
       "\t<tr><th scope=row>20</th><td>1991.625   </td><td> 0.148541  </td><td> 0.13478261</td><td>-0.03125930</td><td> 0.15986395</td><td> 0.026819  </td><td> 0.019649  </td><td>32.625     </td><td>53.000     </td><td> 96.875    </td><td> 85.250    </td><td>19910830   </td></tr>\n",
       "\t<tr><th scope=row>21</th><td>1991.708   </td><td>-0.066038  </td><td> 0.02298851</td><td> 0.06967742</td><td> 0.04398827</td><td>-0.010975  </td><td>-0.019144  </td><td>33.375     </td><td>49.500     </td><td>103.625    </td><td> 89.000    </td><td>19910930   </td></tr>\n",
       "\t<tr><th scope=row>22</th><td>1991.792   </td><td> 0.040404  </td><td>-0.25468160</td><td>-0.05186970</td><td> 0.05477528</td><td> 0.017789  </td><td> 0.011860  </td><td>24.875     </td><td>51.500     </td><td> 98.250    </td><td> 93.875    </td><td>19911031   </td></tr>\n",
       "\t<tr><th scope=row>23</th><td>1991.875   </td><td>-0.012233  </td><td>-0.05527640</td><td>-0.04620870</td><td> 0.03595207</td><td>-0.037275  </td><td>-0.043928  </td><td>23.500     </td><td>50.750     </td><td> 92.500    </td><td> 97.250    </td><td>19911129   </td></tr>\n",
       "\t<tr><th scope=row>24</th><td>1991.958   </td><td> 0.110837  </td><td> 0.09042553</td><td>-0.03783780</td><td> 0.14395887</td><td> 0.106778  </td><td> 0.111588  </td><td>25.625     </td><td>56.375     </td><td> 89.000    </td><td>111.250    </td><td>19911231   </td></tr>\n",
       "</tbody>\n",
       "</table>\n"
      ],
      "text/latex": [
       "\\begin{tabular}{r|llllllllllll}\n",
       "  & Date & Apple.Return & Dell.Return & IBM.Return & Microsoft.Return & Value.weighted.Market.Return & SP.500.Return & Price..Dell & Price..Apple & Price..IBM & Price..Microsoft & Calendar.Date\\\\\n",
       "\\hline\n",
       "\t13 & 1991.042    &  0.290698   &  0.22297297 &  0.12168141 &  0.30398670 &  0.049078   &  0.041518   & 22.625      & 55.500      & 126.750     &  98.125     & 19910131   \\\\\n",
       "\t14 & 1991.125    &  0.033694   &  0.11602210 &  0.02532544 &  0.05732484 &  0.075847   &  0.067281   & 25.250      & 57.250      & 128.750     & 103.750     & 19910228   \\\\\n",
       "\t15 & 1991.208    &  0.187773   &  0.12871288 & -0.11553400 &  0.02289157 &  0.028923   &  0.022203   & 28.500      & 68.000      & 113.875     & 106.125     & 19910328   \\\\\n",
       "\t16 & 1991.292    & -0.191176   & -0.17982460 & -0.09549940 & -0.06713780 &  0.003322   &  0.000346   & 23.375      & 55.000      & 103.000     &  99.000     & 19910430   \\\\\n",
       "\t17 & 1991.375    & -0.143273   &  0.05882353 &  0.04208738 &  0.10858586 &  0.040732   &  0.038577   & 24.750      & 47.000      & 106.125     & 109.750     & 19910531   \\\\\n",
       "\t18 & 1991.458    & -0.117021   & -0.01010100 & -0.08480570 & -0.06890660 & -0.044029   & -0.047893   & 24.500      & 41.500      &  97.125     &  68.125     & 19910628   \\\\\n",
       "\t19 & 1991.542    &  0.114458   &  0.17346939 &  0.04247104 &  0.07889909 &  0.046795   &  0.044859   & 28.750      & 46.250      & 101.250     &  73.500     & 19910731   \\\\\n",
       "\t20 & 1991.625    &  0.148541   &  0.13478261 & -0.03125930 &  0.15986395 &  0.026819   &  0.019649   & 32.625      & 53.000      &  96.875     &  85.250     & 19910830   \\\\\n",
       "\t21 & 1991.708    & -0.066038   &  0.02298851 &  0.06967742 &  0.04398827 & -0.010975   & -0.019144   & 33.375      & 49.500      & 103.625     &  89.000     & 19910930   \\\\\n",
       "\t22 & 1991.792    &  0.040404   & -0.25468160 & -0.05186970 &  0.05477528 &  0.017789   &  0.011860   & 24.875      & 51.500      &  98.250     &  93.875     & 19911031   \\\\\n",
       "\t23 & 1991.875    & -0.012233   & -0.05527640 & -0.04620870 &  0.03595207 & -0.037275   & -0.043928   & 23.500      & 50.750      &  92.500     &  97.250     & 19911129   \\\\\n",
       "\t24 & 1991.958    &  0.110837   &  0.09042553 & -0.03783780 &  0.14395887 &  0.106778   &  0.111588   & 25.625      & 56.375      &  89.000     & 111.250     & 19911231   \\\\\n",
       "\\end{tabular}\n"
      ],
      "text/markdown": [
       "\n",
       "| <!--/--> | Date | Apple.Return | Dell.Return | IBM.Return | Microsoft.Return | Value.weighted.Market.Return | SP.500.Return | Price..Dell | Price..Apple | Price..IBM | Price..Microsoft | Calendar.Date | \n",
       "|---|---|---|---|---|---|---|---|---|---|---|---|\n",
       "| 13 | 1991.042    |  0.290698   |  0.22297297 |  0.12168141 |  0.30398670 |  0.049078   |  0.041518   | 22.625      | 55.500      | 126.750     |  98.125     | 19910131    | \n",
       "| 14 | 1991.125    |  0.033694   |  0.11602210 |  0.02532544 |  0.05732484 |  0.075847   |  0.067281   | 25.250      | 57.250      | 128.750     | 103.750     | 19910228    | \n",
       "| 15 | 1991.208    |  0.187773   |  0.12871288 | -0.11553400 |  0.02289157 |  0.028923   |  0.022203   | 28.500      | 68.000      | 113.875     | 106.125     | 19910328    | \n",
       "| 16 | 1991.292    | -0.191176   | -0.17982460 | -0.09549940 | -0.06713780 |  0.003322   |  0.000346   | 23.375      | 55.000      | 103.000     |  99.000     | 19910430    | \n",
       "| 17 | 1991.375    | -0.143273   |  0.05882353 |  0.04208738 |  0.10858586 |  0.040732   |  0.038577   | 24.750      | 47.000      | 106.125     | 109.750     | 19910531    | \n",
       "| 18 | 1991.458    | -0.117021   | -0.01010100 | -0.08480570 | -0.06890660 | -0.044029   | -0.047893   | 24.500      | 41.500      |  97.125     |  68.125     | 19910628    | \n",
       "| 19 | 1991.542    |  0.114458   |  0.17346939 |  0.04247104 |  0.07889909 |  0.046795   |  0.044859   | 28.750      | 46.250      | 101.250     |  73.500     | 19910731    | \n",
       "| 20 | 1991.625    |  0.148541   |  0.13478261 | -0.03125930 |  0.15986395 |  0.026819   |  0.019649   | 32.625      | 53.000      |  96.875     |  85.250     | 19910830    | \n",
       "| 21 | 1991.708    | -0.066038   |  0.02298851 |  0.06967742 |  0.04398827 | -0.010975   | -0.019144   | 33.375      | 49.500      | 103.625     |  89.000     | 19910930    | \n",
       "| 22 | 1991.792    |  0.040404   | -0.25468160 | -0.05186970 |  0.05477528 |  0.017789   |  0.011860   | 24.875      | 51.500      |  98.250     |  93.875     | 19911031    | \n",
       "| 23 | 1991.875    | -0.012233   | -0.05527640 | -0.04620870 |  0.03595207 | -0.037275   | -0.043928   | 23.500      | 50.750      |  92.500     |  97.250     | 19911129    | \n",
       "| 24 | 1991.958    |  0.110837   |  0.09042553 | -0.03783780 |  0.14395887 |  0.106778   |  0.111588   | 25.625      | 56.375      |  89.000     | 111.250     | 19911231    | \n",
       "\n",
       "\n"
      ],
      "text/plain": [
       "   Date     Apple.Return Dell.Return IBM.Return  Microsoft.Return\n",
       "13 1991.042  0.290698     0.22297297  0.12168141  0.30398670     \n",
       "14 1991.125  0.033694     0.11602210  0.02532544  0.05732484     \n",
       "15 1991.208  0.187773     0.12871288 -0.11553400  0.02289157     \n",
       "16 1991.292 -0.191176    -0.17982460 -0.09549940 -0.06713780     \n",
       "17 1991.375 -0.143273     0.05882353  0.04208738  0.10858586     \n",
       "18 1991.458 -0.117021    -0.01010100 -0.08480570 -0.06890660     \n",
       "19 1991.542  0.114458     0.17346939  0.04247104  0.07889909     \n",
       "20 1991.625  0.148541     0.13478261 -0.03125930  0.15986395     \n",
       "21 1991.708 -0.066038     0.02298851  0.06967742  0.04398827     \n",
       "22 1991.792  0.040404    -0.25468160 -0.05186970  0.05477528     \n",
       "23 1991.875 -0.012233    -0.05527640 -0.04620870  0.03595207     \n",
       "24 1991.958  0.110837     0.09042553 -0.03783780  0.14395887     \n",
       "   Value.weighted.Market.Return SP.500.Return Price..Dell Price..Apple\n",
       "13  0.049078                     0.041518     22.625      55.500      \n",
       "14  0.075847                     0.067281     25.250      57.250      \n",
       "15  0.028923                     0.022203     28.500      68.000      \n",
       "16  0.003322                     0.000346     23.375      55.000      \n",
       "17  0.040732                     0.038577     24.750      47.000      \n",
       "18 -0.044029                    -0.047893     24.500      41.500      \n",
       "19  0.046795                     0.044859     28.750      46.250      \n",
       "20  0.026819                     0.019649     32.625      53.000      \n",
       "21 -0.010975                    -0.019144     33.375      49.500      \n",
       "22  0.017789                     0.011860     24.875      51.500      \n",
       "23 -0.037275                    -0.043928     23.500      50.750      \n",
       "24  0.106778                     0.111588     25.625      56.375      \n",
       "   Price..IBM Price..Microsoft Calendar.Date\n",
       "13 126.750     98.125          19910131     \n",
       "14 128.750    103.750          19910228     \n",
       "15 113.875    106.125          19910328     \n",
       "16 103.000     99.000          19910430     \n",
       "17 106.125    109.750          19910531     \n",
       "18  97.125     68.125          19910628     \n",
       "19 101.250     73.500          19910731     \n",
       "20  96.875     85.250          19910830     \n",
       "21 103.625     89.000          19910930     \n",
       "22  98.250     93.875          19911031     \n",
       "23  92.500     97.250          19911129     \n",
       "24  89.000    111.250          19911231     "
      ]
     },
     "metadata": {},
     "output_type": "display_data"
    }
   ],
   "source": [
    "data[!((data$Date < 1991) | (data$Date >= 1992)),]"
   ]
  },
  {
   "cell_type": "markdown",
   "metadata": {},
   "source": [
    "As an alternative way to inspect only observations from the year 1991, we reference `data[!((data$Date < 1991) | (data$Date >= 1992)),]`.  The row indices are again indicated by an expression, this time a complex expression using the NOT operator (`!`) and the OR operator (`|`).  The column indices are blank and so assumed to be all columns.\n",
    "\n",
    "<br>"
   ]
  },
  {
   "cell_type": "code",
   "execution_count": 29,
   "metadata": {
    "scrolled": false
   },
   "outputs": [
    {
     "data": {
      "text/html": [
       "<table>\n",
       "<thead><tr><th></th><th scope=col>Date</th><th scope=col>Apple.Return</th></tr></thead>\n",
       "<tbody>\n",
       "\t<tr><th scope=row>13</th><td>1991.042 </td><td> 0.290698</td></tr>\n",
       "\t<tr><th scope=row>14</th><td>1991.125 </td><td> 0.033694</td></tr>\n",
       "\t<tr><th scope=row>15</th><td>1991.208 </td><td> 0.187773</td></tr>\n",
       "\t<tr><th scope=row>16</th><td>1991.292 </td><td>-0.191176</td></tr>\n",
       "\t<tr><th scope=row>17</th><td>1991.375 </td><td>-0.143273</td></tr>\n",
       "\t<tr><th scope=row>18</th><td>1991.458 </td><td>-0.117021</td></tr>\n",
       "\t<tr><th scope=row>19</th><td>1991.542 </td><td> 0.114458</td></tr>\n",
       "\t<tr><th scope=row>20</th><td>1991.625 </td><td> 0.148541</td></tr>\n",
       "\t<tr><th scope=row>21</th><td>1991.708 </td><td>-0.066038</td></tr>\n",
       "\t<tr><th scope=row>22</th><td>1991.792 </td><td> 0.040404</td></tr>\n",
       "\t<tr><th scope=row>23</th><td>1991.875 </td><td>-0.012233</td></tr>\n",
       "\t<tr><th scope=row>24</th><td>1991.958 </td><td> 0.110837</td></tr>\n",
       "</tbody>\n",
       "</table>\n"
      ],
      "text/latex": [
       "\\begin{tabular}{r|ll}\n",
       "  & Date & Apple.Return\\\\\n",
       "\\hline\n",
       "\t13 & 1991.042  &  0.290698\\\\\n",
       "\t14 & 1991.125  &  0.033694\\\\\n",
       "\t15 & 1991.208  &  0.187773\\\\\n",
       "\t16 & 1991.292  & -0.191176\\\\\n",
       "\t17 & 1991.375  & -0.143273\\\\\n",
       "\t18 & 1991.458  & -0.117021\\\\\n",
       "\t19 & 1991.542  &  0.114458\\\\\n",
       "\t20 & 1991.625  &  0.148541\\\\\n",
       "\t21 & 1991.708  & -0.066038\\\\\n",
       "\t22 & 1991.792  &  0.040404\\\\\n",
       "\t23 & 1991.875  & -0.012233\\\\\n",
       "\t24 & 1991.958  &  0.110837\\\\\n",
       "\\end{tabular}\n"
      ],
      "text/markdown": [
       "\n",
       "| <!--/--> | Date | Apple.Return | \n",
       "|---|---|---|---|---|---|---|---|---|---|---|---|\n",
       "| 13 | 1991.042  |  0.290698 | \n",
       "| 14 | 1991.125  |  0.033694 | \n",
       "| 15 | 1991.208  |  0.187773 | \n",
       "| 16 | 1991.292  | -0.191176 | \n",
       "| 17 | 1991.375  | -0.143273 | \n",
       "| 18 | 1991.458  | -0.117021 | \n",
       "| 19 | 1991.542  |  0.114458 | \n",
       "| 20 | 1991.625  |  0.148541 | \n",
       "| 21 | 1991.708  | -0.066038 | \n",
       "| 22 | 1991.792  |  0.040404 | \n",
       "| 23 | 1991.875  | -0.012233 | \n",
       "| 24 | 1991.958  |  0.110837 | \n",
       "\n",
       "\n"
      ],
      "text/plain": [
       "   Date     Apple.Return\n",
       "13 1991.042  0.290698   \n",
       "14 1991.125  0.033694   \n",
       "15 1991.208  0.187773   \n",
       "16 1991.292 -0.191176   \n",
       "17 1991.375 -0.143273   \n",
       "18 1991.458 -0.117021   \n",
       "19 1991.542  0.114458   \n",
       "20 1991.625  0.148541   \n",
       "21 1991.708 -0.066038   \n",
       "22 1991.792  0.040404   \n",
       "23 1991.875 -0.012233   \n",
       "24 1991.958  0.110837   "
      ]
     },
     "metadata": {},
     "output_type": "display_data"
    }
   ],
   "source": [
    "data[(data$Date >= 1991) & (data$Date < 1992), c(\"Date\", \"Apple.Return\")]"
   ]
  },
  {
   "cell_type": "markdown",
   "metadata": {},
   "source": [
    "To inspect only rows where the `Date` column is between 1991 (inclusive) and 1992 (exclusive), and only the `Date` and `Apple.Return` columns, we reference `data[(data$Date >= 1991) & (data$Date < 1992), c(\"Date\", \"Apple.Return\")]`."
   ]
  },
  {
   "cell_type": "markdown",
   "metadata": {
    "hideCode": false,
    "hidePrompt": false
   },
   "source": [
    "<br>\n",
    "** (f) To inspect the dataset, slice the table by first, last, or random rows, and by columns. **"
   ]
  },
  {
   "cell_type": "code",
   "execution_count": 30,
   "metadata": {
    "scrolled": true
   },
   "outputs": [
    {
     "data": {
      "text/html": [
       "<table>\n",
       "<thead><tr><th scope=col>Date</th><th scope=col>Apple.Return</th><th scope=col>Dell.Return</th><th scope=col>IBM.Return</th><th scope=col>Microsoft.Return</th><th scope=col>Value.weighted.Market.Return</th><th scope=col>SP.500.Return</th><th scope=col>Price..Dell</th><th scope=col>Price..Apple</th><th scope=col>Price..IBM</th><th scope=col>Price..Microsoft</th><th scope=col>Calendar.Date</th></tr></thead>\n",
       "<tbody>\n",
       "\t<tr><td>1990.042   </td><td>-0.035461  </td><td>-0.1590909 </td><td> 0.04780877</td><td>0.06321839 </td><td>-0.070115  </td><td>-0.068817  </td><td> 4.625     </td><td>34.000     </td><td> 98.625    </td><td> 92.50     </td><td>19900131   </td></tr>\n",
       "\t<tr><td>1990.125   </td><td> 0.003235  </td><td> 0.3513514 </td><td> 0.06550063</td><td>0.06756756 </td><td> 0.014901  </td><td> 0.008539  </td><td> 6.250     </td><td>34.000     </td><td>103.875    </td><td> 98.75     </td><td>19900228   </td></tr>\n",
       "\t<tr><td>1990.208   </td><td> 0.183824  </td><td> 0.2200000 </td><td> 0.02166065</td><td>0.12151898 </td><td> 0.024140  </td><td> 0.024255  </td><td> 7.625     </td><td>40.250     </td><td>106.125    </td><td>110.75     </td><td>19900330   </td></tr>\n",
       "\t<tr><td>1990.292   </td><td>-0.021739  </td><td> 0.1147541 </td><td> 0.02709069</td><td>0.04740406 </td><td>-0.028286  </td><td>-0.026887  </td><td> 8.500     </td><td>39.375     </td><td>109.000    </td><td> 58.00     </td><td>19900430   </td></tr>\n",
       "\t<tr><td>1990.375   </td><td> 0.050413  </td><td> 0.2941177 </td><td> 0.11201835</td><td>0.25862068 </td><td> 0.088936  </td><td> 0.091989  </td><td>11.000     </td><td>41.250     </td><td>120.000    </td><td> 73.00     </td><td>19900531   </td></tr>\n",
       "\t<tr><td>1990.458   </td><td> 0.084848  </td><td> 0.1477273 </td><td>-0.02083330</td><td>0.04109589 </td><td>-0.004196  </td><td>-0.008886  </td><td>12.625     </td><td>44.750     </td><td>117.500    </td><td> 76.00     </td><td>19900629   </td></tr>\n",
       "</tbody>\n",
       "</table>\n"
      ],
      "text/latex": [
       "\\begin{tabular}{r|llllllllllll}\n",
       " Date & Apple.Return & Dell.Return & IBM.Return & Microsoft.Return & Value.weighted.Market.Return & SP.500.Return & Price..Dell & Price..Apple & Price..IBM & Price..Microsoft & Calendar.Date\\\\\n",
       "\\hline\n",
       "\t 1990.042    & -0.035461   & -0.1590909  &  0.04780877 & 0.06321839  & -0.070115   & -0.068817   &  4.625      & 34.000      &  98.625     &  92.50      & 19900131   \\\\\n",
       "\t 1990.125    &  0.003235   &  0.3513514  &  0.06550063 & 0.06756756  &  0.014901   &  0.008539   &  6.250      & 34.000      & 103.875     &  98.75      & 19900228   \\\\\n",
       "\t 1990.208    &  0.183824   &  0.2200000  &  0.02166065 & 0.12151898  &  0.024140   &  0.024255   &  7.625      & 40.250      & 106.125     & 110.75      & 19900330   \\\\\n",
       "\t 1990.292    & -0.021739   &  0.1147541  &  0.02709069 & 0.04740406  & -0.028286   & -0.026887   &  8.500      & 39.375      & 109.000     &  58.00      & 19900430   \\\\\n",
       "\t 1990.375    &  0.050413   &  0.2941177  &  0.11201835 & 0.25862068  &  0.088936   &  0.091989   & 11.000      & 41.250      & 120.000     &  73.00      & 19900531   \\\\\n",
       "\t 1990.458    &  0.084848   &  0.1477273  & -0.02083330 & 0.04109589  & -0.004196   & -0.008886   & 12.625      & 44.750      & 117.500     &  76.00      & 19900629   \\\\\n",
       "\\end{tabular}\n"
      ],
      "text/markdown": [
       "\n",
       "Date | Apple.Return | Dell.Return | IBM.Return | Microsoft.Return | Value.weighted.Market.Return | SP.500.Return | Price..Dell | Price..Apple | Price..IBM | Price..Microsoft | Calendar.Date | \n",
       "|---|---|---|---|---|---|\n",
       "| 1990.042    | -0.035461   | -0.1590909  |  0.04780877 | 0.06321839  | -0.070115   | -0.068817   |  4.625      | 34.000      |  98.625     |  92.50      | 19900131    | \n",
       "| 1990.125    |  0.003235   |  0.3513514  |  0.06550063 | 0.06756756  |  0.014901   |  0.008539   |  6.250      | 34.000      | 103.875     |  98.75      | 19900228    | \n",
       "| 1990.208    |  0.183824   |  0.2200000  |  0.02166065 | 0.12151898  |  0.024140   |  0.024255   |  7.625      | 40.250      | 106.125     | 110.75      | 19900330    | \n",
       "| 1990.292    | -0.021739   |  0.1147541  |  0.02709069 | 0.04740406  | -0.028286   | -0.026887   |  8.500      | 39.375      | 109.000     |  58.00      | 19900430    | \n",
       "| 1990.375    |  0.050413   |  0.2941177  |  0.11201835 | 0.25862068  |  0.088936   |  0.091989   | 11.000      | 41.250      | 120.000     |  73.00      | 19900531    | \n",
       "| 1990.458    |  0.084848   |  0.1477273  | -0.02083330 | 0.04109589  | -0.004196   | -0.008886   | 12.625      | 44.750      | 117.500     |  76.00      | 19900629    | \n",
       "\n",
       "\n"
      ],
      "text/plain": [
       "  Date     Apple.Return Dell.Return IBM.Return  Microsoft.Return\n",
       "1 1990.042 -0.035461    -0.1590909   0.04780877 0.06321839      \n",
       "2 1990.125  0.003235     0.3513514   0.06550063 0.06756756      \n",
       "3 1990.208  0.183824     0.2200000   0.02166065 0.12151898      \n",
       "4 1990.292 -0.021739     0.1147541   0.02709069 0.04740406      \n",
       "5 1990.375  0.050413     0.2941177   0.11201835 0.25862068      \n",
       "6 1990.458  0.084848     0.1477273  -0.02083330 0.04109589      \n",
       "  Value.weighted.Market.Return SP.500.Return Price..Dell Price..Apple\n",
       "1 -0.070115                    -0.068817      4.625      34.000      \n",
       "2  0.014901                     0.008539      6.250      34.000      \n",
       "3  0.024140                     0.024255      7.625      40.250      \n",
       "4 -0.028286                    -0.026887      8.500      39.375      \n",
       "5  0.088936                     0.091989     11.000      41.250      \n",
       "6 -0.004196                    -0.008886     12.625      44.750      \n",
       "  Price..IBM Price..Microsoft Calendar.Date\n",
       "1  98.625     92.50           19900131     \n",
       "2 103.875     98.75           19900228     \n",
       "3 106.125    110.75           19900330     \n",
       "4 109.000     58.00           19900430     \n",
       "5 120.000     73.00           19900531     \n",
       "6 117.500     76.00           19900629     "
      ]
     },
     "metadata": {},
     "output_type": "display_data"
    }
   ],
   "source": [
    "head(data)"
   ]
  },
  {
   "cell_type": "markdown",
   "metadata": {},
   "source": [
    "As a sometimes convenient alternative to referencing rows by their indices or using criteria, we can use the `head` and `tail` functions.\n",
    "\n",
    "To inspect the first 6 rows of data, we use `head(data)`.  The first parameter is the dataset, in this case `data`.  If no other parameters are provided, then the first 6 rows is assumed.\n",
    "\n",
    "<br>"
   ]
  },
  {
   "cell_type": "code",
   "execution_count": 31,
   "metadata": {
    "scrolled": true
   },
   "outputs": [
    {
     "data": {
      "text/html": [
       "<table>\n",
       "<thead><tr><th scope=col>Date</th><th scope=col>Apple.Return</th><th scope=col>Dell.Return</th><th scope=col>IBM.Return</th><th scope=col>Microsoft.Return</th><th scope=col>Value.weighted.Market.Return</th><th scope=col>SP.500.Return</th><th scope=col>Price..Dell</th><th scope=col>Price..Apple</th><th scope=col>Price..IBM</th><th scope=col>Price..Microsoft</th><th scope=col>Calendar.Date</th></tr></thead>\n",
       "<tbody>\n",
       "\t<tr><td>1990.042  </td><td>-0.035461 </td><td>-0.1590909</td><td>0.04780877</td><td>0.06321839</td><td>-0.070115 </td><td>-0.068817 </td><td>4.625     </td><td>34.00     </td><td> 98.625   </td><td> 92.50    </td><td>19900131  </td></tr>\n",
       "\t<tr><td>1990.125  </td><td> 0.003235 </td><td> 0.3513514</td><td>0.06550063</td><td>0.06756756</td><td> 0.014901 </td><td> 0.008539 </td><td>6.250     </td><td>34.00     </td><td>103.875   </td><td> 98.75    </td><td>19900228  </td></tr>\n",
       "\t<tr><td>1990.208  </td><td> 0.183824 </td><td> 0.2200000</td><td>0.02166065</td><td>0.12151898</td><td> 0.024140 </td><td> 0.024255 </td><td>7.625     </td><td>40.25     </td><td>106.125   </td><td>110.75    </td><td>19900330  </td></tr>\n",
       "</tbody>\n",
       "</table>\n"
      ],
      "text/latex": [
       "\\begin{tabular}{r|llllllllllll}\n",
       " Date & Apple.Return & Dell.Return & IBM.Return & Microsoft.Return & Value.weighted.Market.Return & SP.500.Return & Price..Dell & Price..Apple & Price..IBM & Price..Microsoft & Calendar.Date\\\\\n",
       "\\hline\n",
       "\t 1990.042   & -0.035461  & -0.1590909 & 0.04780877 & 0.06321839 & -0.070115  & -0.068817  & 4.625      & 34.00      &  98.625    &  92.50     & 19900131  \\\\\n",
       "\t 1990.125   &  0.003235  &  0.3513514 & 0.06550063 & 0.06756756 &  0.014901  &  0.008539  & 6.250      & 34.00      & 103.875    &  98.75     & 19900228  \\\\\n",
       "\t 1990.208   &  0.183824  &  0.2200000 & 0.02166065 & 0.12151898 &  0.024140  &  0.024255  & 7.625      & 40.25      & 106.125    & 110.75     & 19900330  \\\\\n",
       "\\end{tabular}\n"
      ],
      "text/markdown": [
       "\n",
       "Date | Apple.Return | Dell.Return | IBM.Return | Microsoft.Return | Value.weighted.Market.Return | SP.500.Return | Price..Dell | Price..Apple | Price..IBM | Price..Microsoft | Calendar.Date | \n",
       "|---|---|---|\n",
       "| 1990.042   | -0.035461  | -0.1590909 | 0.04780877 | 0.06321839 | -0.070115  | -0.068817  | 4.625      | 34.00      |  98.625    |  92.50     | 19900131   | \n",
       "| 1990.125   |  0.003235  |  0.3513514 | 0.06550063 | 0.06756756 |  0.014901  |  0.008539  | 6.250      | 34.00      | 103.875    |  98.75     | 19900228   | \n",
       "| 1990.208   |  0.183824  |  0.2200000 | 0.02166065 | 0.12151898 |  0.024140  |  0.024255  | 7.625      | 40.25      | 106.125    | 110.75     | 19900330   | \n",
       "\n",
       "\n"
      ],
      "text/plain": [
       "  Date     Apple.Return Dell.Return IBM.Return Microsoft.Return\n",
       "1 1990.042 -0.035461    -0.1590909  0.04780877 0.06321839      \n",
       "2 1990.125  0.003235     0.3513514  0.06550063 0.06756756      \n",
       "3 1990.208  0.183824     0.2200000  0.02166065 0.12151898      \n",
       "  Value.weighted.Market.Return SP.500.Return Price..Dell Price..Apple\n",
       "1 -0.070115                    -0.068817     4.625       34.00       \n",
       "2  0.014901                     0.008539     6.250       34.00       \n",
       "3  0.024140                     0.024255     7.625       40.25       \n",
       "  Price..IBM Price..Microsoft Calendar.Date\n",
       "1  98.625     92.50           19900131     \n",
       "2 103.875     98.75           19900228     \n",
       "3 106.125    110.75           19900330     "
      ]
     },
     "metadata": {},
     "output_type": "display_data"
    }
   ],
   "source": [
    "head(data, 3)"
   ]
  },
  {
   "cell_type": "markdown",
   "metadata": {},
   "source": [
    "To inspect the first 3 rows of data we use `head(data, 3)`.  The 2nd parameter is the number of rows.\n",
    "\n",
    "<br>"
   ]
  },
  {
   "cell_type": "code",
   "execution_count": 32,
   "metadata": {
    "scrolled": true
   },
   "outputs": [
    {
     "data": {
      "text/html": [
       "<table>\n",
       "<thead><tr><th scope=col>Apple.Return</th><th scope=col>Dell.Return</th><th scope=col>IBM.Return</th><th scope=col>Microsoft.Return</th></tr></thead>\n",
       "<tbody>\n",
       "\t<tr><td>-0.035461  </td><td>-0.1590909 </td><td> 0.04780877</td><td>0.06321839 </td></tr>\n",
       "\t<tr><td> 0.003235  </td><td> 0.3513514 </td><td> 0.06550063</td><td>0.06756756 </td></tr>\n",
       "\t<tr><td> 0.183824  </td><td> 0.2200000 </td><td> 0.02166065</td><td>0.12151898 </td></tr>\n",
       "\t<tr><td>-0.021739  </td><td> 0.1147541 </td><td> 0.02709069</td><td>0.04740406 </td></tr>\n",
       "\t<tr><td> 0.050413  </td><td> 0.2941177 </td><td> 0.11201835</td><td>0.25862068 </td></tr>\n",
       "\t<tr><td> 0.084848  </td><td> 0.1477273 </td><td>-0.02083330</td><td>0.04109589 </td></tr>\n",
       "</tbody>\n",
       "</table>\n"
      ],
      "text/latex": [
       "\\begin{tabular}{r|llll}\n",
       " Apple.Return & Dell.Return & IBM.Return & Microsoft.Return\\\\\n",
       "\\hline\n",
       "\t -0.035461   & -0.1590909  &  0.04780877 & 0.06321839 \\\\\n",
       "\t  0.003235   &  0.3513514  &  0.06550063 & 0.06756756 \\\\\n",
       "\t  0.183824   &  0.2200000  &  0.02166065 & 0.12151898 \\\\\n",
       "\t -0.021739   &  0.1147541  &  0.02709069 & 0.04740406 \\\\\n",
       "\t  0.050413   &  0.2941177  &  0.11201835 & 0.25862068 \\\\\n",
       "\t  0.084848   &  0.1477273  & -0.02083330 & 0.04109589 \\\\\n",
       "\\end{tabular}\n"
      ],
      "text/markdown": [
       "\n",
       "Apple.Return | Dell.Return | IBM.Return | Microsoft.Return | \n",
       "|---|---|---|---|---|---|\n",
       "| -0.035461   | -0.1590909  |  0.04780877 | 0.06321839  | \n",
       "|  0.003235   |  0.3513514  |  0.06550063 | 0.06756756  | \n",
       "|  0.183824   |  0.2200000  |  0.02166065 | 0.12151898  | \n",
       "| -0.021739   |  0.1147541  |  0.02709069 | 0.04740406  | \n",
       "|  0.050413   |  0.2941177  |  0.11201835 | 0.25862068  | \n",
       "|  0.084848   |  0.1477273  | -0.02083330 | 0.04109589  | \n",
       "\n",
       "\n"
      ],
      "text/plain": [
       "  Apple.Return Dell.Return IBM.Return  Microsoft.Return\n",
       "1 -0.035461    -0.1590909   0.04780877 0.06321839      \n",
       "2  0.003235     0.3513514   0.06550063 0.06756756      \n",
       "3  0.183824     0.2200000   0.02166065 0.12151898      \n",
       "4 -0.021739     0.1147541   0.02709069 0.04740406      \n",
       "5  0.050413     0.2941177   0.11201835 0.25862068      \n",
       "6  0.084848     0.1477273  -0.02083330 0.04109589      "
      ]
     },
     "metadata": {},
     "output_type": "display_data"
    }
   ],
   "source": [
    "head(data[,2:5])"
   ]
  },
  {
   "cell_type": "markdown",
   "metadata": {},
   "source": [
    "To inspect the first 6 rows of the 2nd through 5th columns of data we use `head(data[,2:5])`.\n",
    "\n",
    "<br>"
   ]
  },
  {
   "cell_type": "code",
   "execution_count": 33,
   "metadata": {
    "scrolled": true
   },
   "outputs": [
    {
     "data": {
      "text/html": [
       "<table>\n",
       "<thead><tr><th scope=col>Apple.Return</th><th scope=col>Microsoft.Return</th></tr></thead>\n",
       "<tbody>\n",
       "\t<tr><td>-0.035461 </td><td>0.06321839</td></tr>\n",
       "\t<tr><td> 0.003235 </td><td>0.06756756</td></tr>\n",
       "\t<tr><td> 0.183824 </td><td>0.12151898</td></tr>\n",
       "\t<tr><td>-0.021739 </td><td>0.04740406</td></tr>\n",
       "\t<tr><td> 0.050413 </td><td>0.25862068</td></tr>\n",
       "\t<tr><td> 0.084848 </td><td>0.04109589</td></tr>\n",
       "</tbody>\n",
       "</table>\n"
      ],
      "text/latex": [
       "\\begin{tabular}{r|ll}\n",
       " Apple.Return & Microsoft.Return\\\\\n",
       "\\hline\n",
       "\t -0.035461  & 0.06321839\\\\\n",
       "\t  0.003235  & 0.06756756\\\\\n",
       "\t  0.183824  & 0.12151898\\\\\n",
       "\t -0.021739  & 0.04740406\\\\\n",
       "\t  0.050413  & 0.25862068\\\\\n",
       "\t  0.084848  & 0.04109589\\\\\n",
       "\\end{tabular}\n"
      ],
      "text/markdown": [
       "\n",
       "Apple.Return | Microsoft.Return | \n",
       "|---|---|---|---|---|---|\n",
       "| -0.035461  | 0.06321839 | \n",
       "|  0.003235  | 0.06756756 | \n",
       "|  0.183824  | 0.12151898 | \n",
       "| -0.021739  | 0.04740406 | \n",
       "|  0.050413  | 0.25862068 | \n",
       "|  0.084848  | 0.04109589 | \n",
       "\n",
       "\n"
      ],
      "text/plain": [
       "  Apple.Return Microsoft.Return\n",
       "1 -0.035461    0.06321839      \n",
       "2  0.003235    0.06756756      \n",
       "3  0.183824    0.12151898      \n",
       "4 -0.021739    0.04740406      \n",
       "5  0.050413    0.25862068      \n",
       "6  0.084848    0.04109589      "
      ]
     },
     "metadata": {},
     "output_type": "display_data"
    }
   ],
   "source": [
    "head(data[,c(2,5)])"
   ]
  },
  {
   "cell_type": "markdown",
   "metadata": {},
   "source": [
    "To inspect the first 6 rows of the 2nd and 5th columns of data we use `head(data[c(2,5)])`.\n",
    "\n",
    "<br>"
   ]
  },
  {
   "cell_type": "code",
   "execution_count": 34,
   "metadata": {
    "scrolled": true
   },
   "outputs": [
    {
     "data": {
      "text/html": [
       "<ol class=list-inline>\n",
       "\t<li>-0.035461</li>\n",
       "\t<li>0.003235</li>\n",
       "\t<li>0.183824</li>\n",
       "\t<li>-0.021739</li>\n",
       "\t<li>0.050413</li>\n",
       "\t<li>0.084848</li>\n",
       "</ol>\n"
      ],
      "text/latex": [
       "\\begin{enumerate*}\n",
       "\\item -0.035461\n",
       "\\item 0.003235\n",
       "\\item 0.183824\n",
       "\\item -0.021739\n",
       "\\item 0.050413\n",
       "\\item 0.084848\n",
       "\\end{enumerate*}\n"
      ],
      "text/markdown": [
       "1. -0.035461\n",
       "2. 0.003235\n",
       "3. 0.183824\n",
       "4. -0.021739\n",
       "5. 0.050413\n",
       "6. 0.084848\n",
       "\n",
       "\n"
      ],
      "text/plain": [
       "[1] -0.035461  0.003235  0.183824 -0.021739  0.050413  0.084848"
      ]
     },
     "metadata": {},
     "output_type": "display_data"
    }
   ],
   "source": [
    "head(data$Apple.Return)"
   ]
  },
  {
   "cell_type": "markdown",
   "metadata": {},
   "source": [
    "To inspect the first 6 positions of the `Apple.Return` column of data we use `head(data$Apple.Return)`.\n",
    "\n",
    "<br>"
   ]
  },
  {
   "cell_type": "code",
   "execution_count": 35,
   "metadata": {
    "scrolled": false
   },
   "outputs": [
    {
     "data": {
      "text/html": [
       "<table>\n",
       "<thead><tr><th></th><th scope=col>Date</th><th scope=col>Apple.Return</th><th scope=col>Dell.Return</th><th scope=col>IBM.Return</th><th scope=col>Microsoft.Return</th><th scope=col>Value.weighted.Market.Return</th><th scope=col>SP.500.Return</th><th scope=col>Price..Dell</th><th scope=col>Price..Apple</th><th scope=col>Price..IBM</th><th scope=col>Price..Microsoft</th><th scope=col>Calendar.Date</th></tr></thead>\n",
       "<tbody>\n",
       "\t<tr><th scope=row>256</th><td>2011.292 </td><td> 0.004656</td><td> 0.066161</td><td> 0.046054</td><td> 0.020874</td><td> 0.028683</td><td> 0.028495</td><td>15.470   </td><td>350.13   </td><td>170.58   </td><td>25.92    </td><td>20110428 </td></tr>\n",
       "\t<tr><th scope=row>257</th><td>2011.375 </td><td>-0.006569</td><td> 0.039431</td><td>-0.005276</td><td>-0.028935</td><td>-0.014934</td><td>-0.013501</td><td>16.080   </td><td>347.83   </td><td>168.93   </td><td>25.01    </td><td>20110531 </td></tr>\n",
       "\t<tr><th scope=row>258</th><td>2011.458 </td><td>-0.034960</td><td> 0.036692</td><td> 0.015509</td><td> 0.039584</td><td>-0.018391</td><td>-0.018258</td><td>16.670   </td><td>335.67   </td><td>171.55   </td><td>26.00    </td><td>20110630 </td></tr>\n",
       "\t<tr><th scope=row>259</th><td>2011.542 </td><td> 0.163285</td><td>-0.025795</td><td> 0.060041</td><td> 0.053846</td><td>-0.022448</td><td>-0.021474</td><td>16.240   </td><td>390.48   </td><td>181.85   </td><td>27.40    </td><td>20110731 </td></tr>\n",
       "\t<tr><th scope=row>260</th><td>2011.625 </td><td>-0.014469</td><td>-0.084667</td><td>-0.050536</td><td>-0.023358</td><td>-0.057470</td><td>-0.056791</td><td>14.865   </td><td>384.83   </td><td>171.91   </td><td>26.60    </td><td>20110831 </td></tr>\n",
       "\t<tr><th scope=row>261</th><td>2011.708 </td><td>-0.009121</td><td>-0.048772</td><td> 0.017218</td><td>-0.064286</td><td>-0.084872</td><td>-0.071762</td><td>14.140   </td><td>381.32   </td><td>174.87   </td><td>24.89    </td><td>20110929 </td></tr>\n",
       "</tbody>\n",
       "</table>\n"
      ],
      "text/latex": [
       "\\begin{tabular}{r|llllllllllll}\n",
       "  & Date & Apple.Return & Dell.Return & IBM.Return & Microsoft.Return & Value.weighted.Market.Return & SP.500.Return & Price..Dell & Price..Apple & Price..IBM & Price..Microsoft & Calendar.Date\\\\\n",
       "\\hline\n",
       "\t256 & 2011.292  &  0.004656 &  0.066161 &  0.046054 &  0.020874 &  0.028683 &  0.028495 & 15.470    & 350.13    & 170.58    & 25.92     & 20110428 \\\\\n",
       "\t257 & 2011.375  & -0.006569 &  0.039431 & -0.005276 & -0.028935 & -0.014934 & -0.013501 & 16.080    & 347.83    & 168.93    & 25.01     & 20110531 \\\\\n",
       "\t258 & 2011.458  & -0.034960 &  0.036692 &  0.015509 &  0.039584 & -0.018391 & -0.018258 & 16.670    & 335.67    & 171.55    & 26.00     & 20110630 \\\\\n",
       "\t259 & 2011.542  &  0.163285 & -0.025795 &  0.060041 &  0.053846 & -0.022448 & -0.021474 & 16.240    & 390.48    & 181.85    & 27.40     & 20110731 \\\\\n",
       "\t260 & 2011.625  & -0.014469 & -0.084667 & -0.050536 & -0.023358 & -0.057470 & -0.056791 & 14.865    & 384.83    & 171.91    & 26.60     & 20110831 \\\\\n",
       "\t261 & 2011.708  & -0.009121 & -0.048772 &  0.017218 & -0.064286 & -0.084872 & -0.071762 & 14.140    & 381.32    & 174.87    & 24.89     & 20110929 \\\\\n",
       "\\end{tabular}\n"
      ],
      "text/markdown": [
       "\n",
       "| <!--/--> | Date | Apple.Return | Dell.Return | IBM.Return | Microsoft.Return | Value.weighted.Market.Return | SP.500.Return | Price..Dell | Price..Apple | Price..IBM | Price..Microsoft | Calendar.Date | \n",
       "|---|---|---|---|---|---|\n",
       "| 256 | 2011.292  |  0.004656 |  0.066161 |  0.046054 |  0.020874 |  0.028683 |  0.028495 | 15.470    | 350.13    | 170.58    | 25.92     | 20110428  | \n",
       "| 257 | 2011.375  | -0.006569 |  0.039431 | -0.005276 | -0.028935 | -0.014934 | -0.013501 | 16.080    | 347.83    | 168.93    | 25.01     | 20110531  | \n",
       "| 258 | 2011.458  | -0.034960 |  0.036692 |  0.015509 |  0.039584 | -0.018391 | -0.018258 | 16.670    | 335.67    | 171.55    | 26.00     | 20110630  | \n",
       "| 259 | 2011.542  |  0.163285 | -0.025795 |  0.060041 |  0.053846 | -0.022448 | -0.021474 | 16.240    | 390.48    | 181.85    | 27.40     | 20110731  | \n",
       "| 260 | 2011.625  | -0.014469 | -0.084667 | -0.050536 | -0.023358 | -0.057470 | -0.056791 | 14.865    | 384.83    | 171.91    | 26.60     | 20110831  | \n",
       "| 261 | 2011.708  | -0.009121 | -0.048772 |  0.017218 | -0.064286 | -0.084872 | -0.071762 | 14.140    | 381.32    | 174.87    | 24.89     | 20110929  | \n",
       "\n",
       "\n"
      ],
      "text/plain": [
       "    Date     Apple.Return Dell.Return IBM.Return Microsoft.Return\n",
       "256 2011.292  0.004656     0.066161    0.046054   0.020874       \n",
       "257 2011.375 -0.006569     0.039431   -0.005276  -0.028935       \n",
       "258 2011.458 -0.034960     0.036692    0.015509   0.039584       \n",
       "259 2011.542  0.163285    -0.025795    0.060041   0.053846       \n",
       "260 2011.625 -0.014469    -0.084667   -0.050536  -0.023358       \n",
       "261 2011.708 -0.009121    -0.048772    0.017218  -0.064286       \n",
       "    Value.weighted.Market.Return SP.500.Return Price..Dell Price..Apple\n",
       "256  0.028683                     0.028495     15.470      350.13      \n",
       "257 -0.014934                    -0.013501     16.080      347.83      \n",
       "258 -0.018391                    -0.018258     16.670      335.67      \n",
       "259 -0.022448                    -0.021474     16.240      390.48      \n",
       "260 -0.057470                    -0.056791     14.865      384.83      \n",
       "261 -0.084872                    -0.071762     14.140      381.32      \n",
       "    Price..IBM Price..Microsoft Calendar.Date\n",
       "256 170.58     25.92            20110428     \n",
       "257 168.93     25.01            20110531     \n",
       "258 171.55     26.00            20110630     \n",
       "259 181.85     27.40            20110731     \n",
       "260 171.91     26.60            20110831     \n",
       "261 174.87     24.89            20110929     "
      ]
     },
     "metadata": {},
     "output_type": "display_data"
    }
   ],
   "source": [
    "tail(data)"
   ]
  },
  {
   "cell_type": "markdown",
   "metadata": {},
   "source": [
    "To inspect the last 6 rows of data we use `tail(data)`.\n",
    "\n",
    "<br>"
   ]
  },
  {
   "cell_type": "code",
   "execution_count": 36,
   "metadata": {
    "scrolled": false
   },
   "outputs": [
    {
     "data": {
      "text/html": [
       "<table>\n",
       "<thead><tr><th></th><th scope=col>Date</th><th scope=col>Apple.Return</th><th scope=col>Dell.Return</th><th scope=col>IBM.Return</th><th scope=col>Microsoft.Return</th><th scope=col>Value.weighted.Market.Return</th><th scope=col>SP.500.Return</th><th scope=col>Price..Dell</th><th scope=col>Price..Apple</th><th scope=col>Price..IBM</th><th scope=col>Price..Microsoft</th><th scope=col>Calendar.Date</th></tr></thead>\n",
       "<tbody>\n",
       "\t<tr><th scope=row>82</th><td>1996.792  </td><td> 0.036620 </td><td>0.04662379</td><td>0.03614458</td><td>0.04075829</td><td>0.013632  </td><td>0.026131  </td><td>81.375    </td><td>23.0000   </td><td>129.00    </td><td>137.2500  </td><td>19961031  </td></tr>\n",
       "\t<tr><th scope=row>56</th><td>1994.625  </td><td> 0.077774 </td><td>0.16071428</td><td>0.11111111</td><td>0.12864077</td><td>0.042597  </td><td>0.037643  </td><td>32.500    </td><td>36.1875   </td><td> 68.50    </td><td> 58.1250  </td><td>19940831  </td></tr>\n",
       "\t<tr><th scope=row>93</th><td>1997.708  </td><td>-0.002874 </td><td>0.18050267</td><td>0.04562269</td><td>0.00094563</td><td>0.058433  </td><td>0.053154  </td><td>96.875    </td><td>21.6875   </td><td>106.00    </td><td>132.3125  </td><td>19970930  </td></tr>\n",
       "\t<tr><th scope=row>14</th><td>1991.125  </td><td> 0.033694 </td><td>0.11602210</td><td>0.02532544</td><td>0.05732484</td><td>0.075847  </td><td>0.067281  </td><td>25.250    </td><td>57.2500   </td><td>128.75    </td><td>103.7500  </td><td>19910228  </td></tr>\n",
       "\t<tr><th scope=row>136</th><td>2001.292  </td><td> 0.154961 </td><td>0.02150900</td><td>0.19713000</td><td>0.23885700</td><td>0.083911  </td><td>0.076814  </td><td>26.240    </td><td>25.4900   </td><td>115.14    </td><td> 67.7500  </td><td>20010430  </td></tr>\n",
       "\t<tr><th scope=row>142</th><td>2001.792  </td><td> 0.132173 </td><td>0.29411800</td><td>0.17826000</td><td>0.13640800</td><td>0.027970  </td><td>0.018099  </td><td>23.980    </td><td>17.5600   </td><td>108.07    </td><td> 58.1500  </td><td>20011031  </td></tr>\n",
       "</tbody>\n",
       "</table>\n"
      ],
      "text/latex": [
       "\\begin{tabular}{r|llllllllllll}\n",
       "  & Date & Apple.Return & Dell.Return & IBM.Return & Microsoft.Return & Value.weighted.Market.Return & SP.500.Return & Price..Dell & Price..Apple & Price..IBM & Price..Microsoft & Calendar.Date\\\\\n",
       "\\hline\n",
       "\t82 & 1996.792   &  0.036620  & 0.04662379 & 0.03614458 & 0.04075829 & 0.013632   & 0.026131   & 81.375     & 23.0000    & 129.00     & 137.2500   & 19961031  \\\\\n",
       "\t56 & 1994.625   &  0.077774  & 0.16071428 & 0.11111111 & 0.12864077 & 0.042597   & 0.037643   & 32.500     & 36.1875    &  68.50     &  58.1250   & 19940831  \\\\\n",
       "\t93 & 1997.708   & -0.002874  & 0.18050267 & 0.04562269 & 0.00094563 & 0.058433   & 0.053154   & 96.875     & 21.6875    & 106.00     & 132.3125   & 19970930  \\\\\n",
       "\t14 & 1991.125   &  0.033694  & 0.11602210 & 0.02532544 & 0.05732484 & 0.075847   & 0.067281   & 25.250     & 57.2500    & 128.75     & 103.7500   & 19910228  \\\\\n",
       "\t136 & 2001.292   &  0.154961  & 0.02150900 & 0.19713000 & 0.23885700 & 0.083911   & 0.076814   & 26.240     & 25.4900    & 115.14     &  67.7500   & 20010430  \\\\\n",
       "\t142 & 2001.792   &  0.132173  & 0.29411800 & 0.17826000 & 0.13640800 & 0.027970   & 0.018099   & 23.980     & 17.5600    & 108.07     &  58.1500   & 20011031  \\\\\n",
       "\\end{tabular}\n"
      ],
      "text/markdown": [
       "\n",
       "| <!--/--> | Date | Apple.Return | Dell.Return | IBM.Return | Microsoft.Return | Value.weighted.Market.Return | SP.500.Return | Price..Dell | Price..Apple | Price..IBM | Price..Microsoft | Calendar.Date | \n",
       "|---|---|---|---|---|---|\n",
       "| 82 | 1996.792   |  0.036620  | 0.04662379 | 0.03614458 | 0.04075829 | 0.013632   | 0.026131   | 81.375     | 23.0000    | 129.00     | 137.2500   | 19961031   | \n",
       "| 56 | 1994.625   |  0.077774  | 0.16071428 | 0.11111111 | 0.12864077 | 0.042597   | 0.037643   | 32.500     | 36.1875    |  68.50     |  58.1250   | 19940831   | \n",
       "| 93 | 1997.708   | -0.002874  | 0.18050267 | 0.04562269 | 0.00094563 | 0.058433   | 0.053154   | 96.875     | 21.6875    | 106.00     | 132.3125   | 19970930   | \n",
       "| 14 | 1991.125   |  0.033694  | 0.11602210 | 0.02532544 | 0.05732484 | 0.075847   | 0.067281   | 25.250     | 57.2500    | 128.75     | 103.7500   | 19910228   | \n",
       "| 136 | 2001.292   |  0.154961  | 0.02150900 | 0.19713000 | 0.23885700 | 0.083911   | 0.076814   | 26.240     | 25.4900    | 115.14     |  67.7500   | 20010430   | \n",
       "| 142 | 2001.792   |  0.132173  | 0.29411800 | 0.17826000 | 0.13640800 | 0.027970   | 0.018099   | 23.980     | 17.5600    | 108.07     |  58.1500   | 20011031   | \n",
       "\n",
       "\n"
      ],
      "text/plain": [
       "    Date     Apple.Return Dell.Return IBM.Return Microsoft.Return\n",
       "82  1996.792  0.036620    0.04662379  0.03614458 0.04075829      \n",
       "56  1994.625  0.077774    0.16071428  0.11111111 0.12864077      \n",
       "93  1997.708 -0.002874    0.18050267  0.04562269 0.00094563      \n",
       "14  1991.125  0.033694    0.11602210  0.02532544 0.05732484      \n",
       "136 2001.292  0.154961    0.02150900  0.19713000 0.23885700      \n",
       "142 2001.792  0.132173    0.29411800  0.17826000 0.13640800      \n",
       "    Value.weighted.Market.Return SP.500.Return Price..Dell Price..Apple\n",
       "82  0.013632                     0.026131      81.375      23.0000     \n",
       "56  0.042597                     0.037643      32.500      36.1875     \n",
       "93  0.058433                     0.053154      96.875      21.6875     \n",
       "14  0.075847                     0.067281      25.250      57.2500     \n",
       "136 0.083911                     0.076814      26.240      25.4900     \n",
       "142 0.027970                     0.018099      23.980      17.5600     \n",
       "    Price..IBM Price..Microsoft Calendar.Date\n",
       "82  129.00     137.2500         19961031     \n",
       "56   68.50      58.1250         19940831     \n",
       "93  106.00     132.3125         19970930     \n",
       "14  128.75     103.7500         19910228     \n",
       "136 115.14      67.7500         20010430     \n",
       "142 108.07      58.1500         20011031     "
      ]
     },
     "metadata": {},
     "output_type": "display_data"
    }
   ],
   "source": [
    "sample_n(data, 6)"
   ]
  },
  {
   "cell_type": "markdown",
   "metadata": {},
   "source": [
    "To inspect a random sample of 6 rows of data we use `sample_n(data, 6)`."
   ]
  },
  {
   "cell_type": "markdown",
   "metadata": {},
   "source": [
    "<br>\n",
    "### Further Reading\n",
    "___\n",
    "* References to be written ..."
   ]
  },
  {
   "cell_type": "markdown",
   "metadata": {},
   "source": [
    "$\\tiny \\text{Copyright (c) Berkeley Data Analytics Group, LLC}$"
   ]
  }
 ],
 "metadata": {
  "hide_code_all_hidden": false,
  "hide_input": false,
  "kernelspec": {
   "display_name": "R",
   "language": "R",
   "name": "ir"
  },
  "language_info": {
   "codemirror_mode": "r",
   "file_extension": ".r",
   "mimetype": "text/x-r-source",
   "name": "R",
   "pygments_lexer": "r",
   "version": "3.4.2"
  }
 },
 "nbformat": 4,
 "nbformat_minor": 2
}
