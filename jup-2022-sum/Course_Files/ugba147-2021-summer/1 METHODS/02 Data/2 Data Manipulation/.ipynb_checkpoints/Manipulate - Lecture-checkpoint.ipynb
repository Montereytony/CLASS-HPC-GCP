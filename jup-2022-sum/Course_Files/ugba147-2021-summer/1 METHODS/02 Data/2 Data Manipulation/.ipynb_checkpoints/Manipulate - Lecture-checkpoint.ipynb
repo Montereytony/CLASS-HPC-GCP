{
 "cells": [
  {
   "cell_type": "markdown",
   "metadata": {
    "hideCode": false,
    "hidePrompt": false
   },
   "source": [
    "# Data Manipulation $\\,\\, \\tiny\\text{Lecture}$\n",
    "<img src=\"banner lecture.jpg\" align=left />"
   ]
  },
  {
   "cell_type": "markdown",
   "metadata": {},
   "source": [
    "<br>\n",
    "### Vocabulary Associated with Long Data\n",
    "___"
   ]
  },
  {
   "cell_type": "markdown",
   "metadata": {
    "hideCode": false,
    "hidePrompt": false,
    "run_control": {
     "marked": false
    }
   },
   "source": [
    "| IT                            | Statistics     | Other Fields                  | Example                    |\n",
    "|------------------------------ | -------------- | ----------------------------- | -------------------------- |\n",
    "| database, table               | population     | dataset                       | ![](table.jpg)             |\n",
    "| row #, row name, record #     | observation #  |                               | ![](row number.jpg)        |\n",
    "| row, record                   | observation    | datapoint                     | ![](row.jpg)               |\n",
    "| column name                   | variable       | feature, attribute, dimension | ![](column name.jpg)       |\n",
    "| column                        | distribution   | vector                        | ![](column.jpg)            |\n",
    "|                               | distribution   | vector                        | ![](vector-vertical.jpg)   |\n",
    "|                               | distribution   | vector                        | ![](vector-horizontal.jpg) |\n",
    "| value, cell                   | value          | datum, vector                 | ![](value.jpg)             |\n",
    "| slice, horizontal slice, dice | sample         | subset                        | ![](sample.jpg)            |\n",
    "| slice, vertical slice         |                |                               | ![](slice.jpg)             |"
   ]
  },
  {
   "cell_type": "markdown",
   "metadata": {},
   "source": [
    "<br>\n",
    "### Vocabulary Associated with Cross-Tabulated Data\n",
    "___"
   ]
  },
  {
   "cell_type": "markdown",
   "metadata": {},
   "source": [
    "| IT          | Statistics                | Example                     | Example                    | Example                           |\n",
    "| ----------- | ------------------------- | --------------------------- | -------------------------- | -------------------------------- |\n",
    "|             | identifier variables      | ![](ID.jpg)                 |                            |                                   |\n",
    "| pivot table | cross-table               |  ![](cross-table-x3.jpg)    | ![](cross-table-x4.jpg)    |                                   |\n",
    "| pivot table | cross-table (summary)     |  ![](cross-table-x3-CD.jpg) | ![](cross-table-x3-CE.jpg) | ![](cross-table-x4-CE.jpg) |\n",
    "| pivot table | cross-table (multi-level) |  ![](cross-table-multi.jpg) |                            |                                   |"
   ]
  },
  {
   "cell_type": "markdown",
   "metadata": {},
   "source": [
    "<br>\n",
    "### Further Reading\n",
    "___\n",
    "* References coming soon ..."
   ]
  },
  {
   "cell_type": "markdown",
   "metadata": {},
   "source": [
    "$\\tiny \\text{Copyright (c) Berkeley Data Analytics Group, LLC}$"
   ]
  }
 ],
 "metadata": {
  "hide_code_all_hidden": false,
  "hide_input": false,
  "kernelspec": {
   "display_name": "R",
   "language": "R",
   "name": "ir"
  },
  "language_info": {
   "codemirror_mode": "r",
   "file_extension": ".r",
   "mimetype": "text/x-r-source",
   "name": "R",
   "pygments_lexer": "r",
   "version": "3.4.2"
  }
 },
 "nbformat": 4,
 "nbformat_minor": 2
}
