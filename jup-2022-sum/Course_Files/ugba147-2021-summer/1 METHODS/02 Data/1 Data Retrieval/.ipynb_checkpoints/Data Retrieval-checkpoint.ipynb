{
 "cells": [
  {
   "cell_type": "markdown",
   "metadata": {
    "hideCode": false,
    "hidePrompt": false
   },
   "source": [
    "# Data Retrieval\n",
    "\n",
    "![](banner_data_retrieval.jpg)"
   ]
  },
  {
   "cell_type": "code",
   "execution_count": 2,
   "metadata": {
    "hide_input": true
   },
   "outputs": [
    {
     "data": {
      "text/html": [
       "<p style=\"text-align:center; font-size:10px;\">\n",
       ".................................................... start of document ....................................................\n",
       "</p>"
      ]
     },
     "metadata": {},
     "output_type": "display_data"
    }
   ],
   "source": [
    "f = \"setup.R\"; for (i in 1:10) { if (file.exists(f)) break else f = paste0(\"../\", f) }; source(f)"
   ]
  },
  {
   "cell_type": "markdown",
   "metadata": {},
   "source": [
    "## Introduction\n",
    "\n",
    "Motivation, context, history, related topics ..."
   ]
  },
  {
   "cell_type": "markdown",
   "metadata": {},
   "source": [
    "## Terms"
   ]
  },
  {
   "cell_type": "markdown",
   "metadata": {
    "hideCode": false,
    "hidePrompt": false,
    "run_control": {
     "marked": false
    }
   },
   "source": [
    "| IT                              | Statistics     | Other Fields                        | Example                    |\n",
    "| :------------------------------ | -------------- | ----------------------------------- | -------------------------- |\n",
    "| database<br> table              | population     | dataset<br> dataframe               | ![](table.jpg)             |\n",
    "| row #<br> row name<br> record # | observation #  |                                     | ![](row_number.jpg)        |\n",
    "| column name                     | variable       | feature<br> attribute<br> dimension | ![](column_name.jpg)       |"
   ]
  },
  {
   "cell_type": "markdown",
   "metadata": {},
   "source": [
    "## Data Retrieval from Internal Source"
   ]
  },
  {
   "cell_type": "code",
   "execution_count": 3,
   "metadata": {},
   "outputs": [
    {
     "data": {
      "text/html": [
       "<table>\n",
       "<thead><tr><th scope=col>x1</th><th scope=col>x2</th><th scope=col>x3</th><th scope=col>x4</th></tr></thead>\n",
       "<tbody>\n",
       "\t<tr><td>A  </td><td>C  </td><td>100</td><td>205</td></tr>\n",
       "\t<tr><td>B  </td><td>D  </td><td>102</td><td>204</td></tr>\n",
       "\t<tr><td>A  </td><td>E  </td><td>101</td><td>200</td></tr>\n",
       "\t<tr><td>B  </td><td>C  </td><td>103</td><td>201</td></tr>\n",
       "\t<tr><td>A  </td><td>D  </td><td>105</td><td>202</td></tr>\n",
       "\t<tr><td>B  </td><td>E  </td><td>104</td><td>203</td></tr>\n",
       "</tbody>\n",
       "</table>\n"
      ],
      "text/latex": [
       "\\begin{tabular}{r|llll}\n",
       " x1 & x2 & x3 & x4\\\\\n",
       "\\hline\n",
       "\t A   & C   & 100 & 205\\\\\n",
       "\t B   & D   & 102 & 204\\\\\n",
       "\t A   & E   & 101 & 200\\\\\n",
       "\t B   & C   & 103 & 201\\\\\n",
       "\t A   & D   & 105 & 202\\\\\n",
       "\t B   & E   & 104 & 203\\\\\n",
       "\\end{tabular}\n"
      ],
      "text/markdown": [
       "\n",
       "| x1 | x2 | x3 | x4 |\n",
       "|---|---|---|---|\n",
       "| A   | C   | 100 | 205 |\n",
       "| B   | D   | 102 | 204 |\n",
       "| A   | E   | 101 | 200 |\n",
       "| B   | C   | 103 | 201 |\n",
       "| A   | D   | 105 | 202 |\n",
       "| B   | E   | 104 | 203 |\n",
       "\n"
      ],
      "text/plain": [
       "  x1 x2 x3  x4 \n",
       "1 A  C  100 205\n",
       "2 B  D  102 204\n",
       "3 A  E  101 200\n",
       "4 B  C  103 201\n",
       "5 A  D  105 202\n",
       "6 B  E  104 203"
      ]
     },
     "metadata": {},
     "output_type": "display_data"
    }
   ],
   "source": [
    "data = data.frame(x1=c(\"A\",\"B\",\"A\",\"B\",\"A\",\"B\"),\n",
    "                  x2=c(\"C\",\"D\",\"E\",\"C\",\"D\",\"E\"),\n",
    "                  x3=c(100,102,101,103,105,104),\n",
    "                  x4=c(205,204,200,201,202,203))\n",
    "\n",
    "data"
   ]
  },
  {
   "cell_type": "markdown",
   "metadata": {},
   "source": [
    "## Data Retrieval from External Source"
   ]
  },
  {
   "cell_type": "code",
   "execution_count": 4,
   "metadata": {},
   "outputs": [
    {
     "data": {
      "text/html": [
       "<table>\n",
       "<thead><tr><th scope=col>x1</th><th scope=col>x2</th><th scope=col>x3</th><th scope=col>x4</th></tr></thead>\n",
       "<tbody>\n",
       "\t<tr><td>A  </td><td>C  </td><td>100</td><td>205</td></tr>\n",
       "\t<tr><td>B  </td><td>D  </td><td>102</td><td>204</td></tr>\n",
       "\t<tr><td>A  </td><td>E  </td><td>101</td><td>200</td></tr>\n",
       "\t<tr><td>B  </td><td>C  </td><td>103</td><td>201</td></tr>\n",
       "\t<tr><td>A  </td><td>D  </td><td>105</td><td>202</td></tr>\n",
       "\t<tr><td>B  </td><td>E  </td><td>104</td><td>203</td></tr>\n",
       "</tbody>\n",
       "</table>\n"
      ],
      "text/latex": [
       "\\begin{tabular}{r|llll}\n",
       " x1 & x2 & x3 & x4\\\\\n",
       "\\hline\n",
       "\t A   & C   & 100 & 205\\\\\n",
       "\t B   & D   & 102 & 204\\\\\n",
       "\t A   & E   & 101 & 200\\\\\n",
       "\t B   & C   & 103 & 201\\\\\n",
       "\t A   & D   & 105 & 202\\\\\n",
       "\t B   & E   & 104 & 203\\\\\n",
       "\\end{tabular}\n"
      ],
      "text/markdown": [
       "\n",
       "| x1 | x2 | x3 | x4 |\n",
       "|---|---|---|---|\n",
       "| A   | C   | 100 | 205 |\n",
       "| B   | D   | 102 | 204 |\n",
       "| A   | E   | 101 | 200 |\n",
       "| B   | C   | 103 | 201 |\n",
       "| A   | D   | 105 | 202 |\n",
       "| B   | E   | 104 | 203 |\n",
       "\n"
      ],
      "text/plain": [
       "  x1 x2 x3  x4 \n",
       "1 A  C  100 205\n",
       "2 B  D  102 204\n",
       "3 A  E  101 200\n",
       "4 B  C  103 201\n",
       "5 A  D  105 202\n",
       "6 B  E  104 203"
      ]
     },
     "metadata": {},
     "output_type": "display_data"
    }
   ],
   "source": [
    "data = read.csv(\"my_dataset.csv\")\n",
    "data"
   ]
  },
  {
   "cell_type": "markdown",
   "metadata": {},
   "source": [
    "## Further Reading\n",
    "\n",
    "* References coming soon ..."
   ]
  },
  {
   "cell_type": "markdown",
   "metadata": {},
   "source": [
    "<p style=\"text-align:left; font-size:10px;\">\n",
    "Copyright (c) Berkeley Data Analytics Group, LLC\n",
    "<span style=\"float:right;\">\n",
    "Document revised July 18, 2019\n",
    "</span>\n",
    "</p>"
   ]
  }
 ],
 "metadata": {
  "hide_code_all_hidden": false,
  "hide_input": false,
  "kernelspec": {
   "display_name": "R",
   "language": "R",
   "name": "ir"
  },
  "language_info": {
   "codemirror_mode": "r",
   "file_extension": ".r",
   "mimetype": "text/x-r-source",
   "name": "R",
   "pygments_lexer": "r",
   "version": "3.6.1"
  },
  "toc": {
   "base_numbering": 1,
   "nav_menu": {},
   "number_sections": true,
   "sideBar": true,
   "skip_h1_title": true,
   "title_cell": "Table of Contents",
   "title_sidebar": "Contents",
   "toc_cell": false,
   "toc_position": {},
   "toc_section_display": true,
   "toc_window_display": false
  }
 },
 "nbformat": 4,
 "nbformat_minor": 2
}
