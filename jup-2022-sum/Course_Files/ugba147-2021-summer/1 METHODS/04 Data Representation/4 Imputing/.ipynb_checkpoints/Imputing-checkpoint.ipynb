{
 "cells": [
  {
   "cell_type": "markdown",
   "metadata": {
    "hideCode": false,
    "hidePrompt": false
   },
   "source": [
    "# Imputing\n",
    "\n",
    "![](banner_imputing.jpg)"
   ]
  },
  {
   "cell_type": "code",
   "execution_count": 2,
   "metadata": {
    "hide_input": true
   },
   "outputs": [
    {
     "data": {
      "text/html": [
       "<p style=\"text-align:center; font-size:10px;\">\n",
       ".................................................... start of document ....................................................\n",
       "</p>"
      ]
     },
     "metadata": {},
     "output_type": "display_data"
    }
   ],
   "source": [
    "f = \"setup.R\"; for (i in 1:10) { if (file.exists(f)) break else f = paste0(\"../\", f) }; source(f)"
   ]
  },
  {
   "cell_type": "markdown",
   "metadata": {},
   "source": [
    "## Introduction\n",
    "\n",
    "Motivation, context, history, related topics, ...\n",
    "\n",
    "Represent a dataset with missing values as a dataset without missing values. "
   ]
  },
  {
   "cell_type": "markdown",
   "metadata": {},
   "source": [
    "## Terms"
   ]
  },
  {
   "cell_type": "markdown",
   "metadata": {
    "hide_input": false
   },
   "source": [
    "## Data\n",
    "\n",
    "Consider this pedagogical dataset with some missing values."
   ]
  },
  {
   "cell_type": "code",
   "execution_count": 38,
   "metadata": {
    "hideCode": false,
    "hidePrompt": false,
    "hide_input": true,
    "run_control": {
     "marked": false
    }
   },
   "outputs": [
    {
     "data": {
      "text/html": [
       "<table>\n",
       "<caption><center><font color=\"black\"><b>data</b></font></center></caption>\n",
       " <thead>\n",
       "  <tr>\n",
       "   <th style=\"text-align:left;background-color: #FFFFFF !important;\">   </th>\n",
       "   <th style=\"text-align:right;background-color: #FFFFFF !important;\"> date </th>\n",
       "   <th style=\"text-align:right;background-color: #FFFFFF !important;\"> x1 </th>\n",
       "   <th style=\"text-align:right;background-color: #FFFFFF !important;\"> x2 </th>\n",
       "  </tr>\n",
       " </thead>\n",
       "<tbody>\n",
       "  <tr>\n",
       "   <td style=\"text-align:left;font-weight: bold;\"> 1 </td>\n",
       "   <td style=\"text-align:right;\"> 2017-12-30 </td>\n",
       "   <td style=\"text-align:right;\"> 2.5 </td>\n",
       "   <td style=\"text-align:right;\"> 9.0 </td>\n",
       "  </tr>\n",
       "  <tr>\n",
       "   <td style=\"text-align:left;font-weight: bold;\"> 2 </td>\n",
       "   <td style=\"text-align:right;\"> 2017-12-31 </td>\n",
       "   <td style=\"text-align:right;\"> 2.0 </td>\n",
       "   <td style=\"text-align:right;\"> NA </td>\n",
       "  </tr>\n",
       "  <tr>\n",
       "   <td style=\"text-align:left;font-weight: bold;\"> 3 </td>\n",
       "   <td style=\"text-align:right;\"> 2018-01-01 </td>\n",
       "   <td style=\"text-align:right;\"> 9.0 </td>\n",
       "   <td style=\"text-align:right;\"> NA </td>\n",
       "  </tr>\n",
       "  <tr>\n",
       "   <td style=\"text-align:left;font-weight: bold;\"> 4 </td>\n",
       "   <td style=\"text-align:right;\"> 2018-01-02 </td>\n",
       "   <td style=\"text-align:right;\"> 6.5 </td>\n",
       "   <td style=\"text-align:right;\"> 11.0 </td>\n",
       "  </tr>\n",
       "  <tr>\n",
       "   <td style=\"text-align:left;font-weight: bold;\"> 5 </td>\n",
       "   <td style=\"text-align:right;\"> 2018-01-03 </td>\n",
       "   <td style=\"text-align:right;\"> 8.0 </td>\n",
       "   <td style=\"text-align:right;\"> 2.5 </td>\n",
       "  </tr>\n",
       "  <tr>\n",
       "   <td style=\"text-align:left;font-weight: bold;\"> 6 </td>\n",
       "   <td style=\"text-align:right;\"> 2018-01-04 </td>\n",
       "   <td style=\"text-align:right;\"> 4.0 </td>\n",
       "   <td style=\"text-align:right;\"> 8.5 </td>\n",
       "  </tr>\n",
       "</tbody>\n",
       "</table>"
      ]
     },
     "metadata": {},
     "output_type": "display_data"
    }
   ],
   "source": [
    "data = data.frame(date=ymd(c(\"2017-12-30\",\"2017-12-31\",\"2018-01-01\",\"2018-01-02\",\"2018-01-03\",\"2018-01-04\")),\n",
    "                  x1=c(2.5, 2, 9, 6.5, 8, 4),\n",
    "                  x2=c(9, NA, NA, 11, 2.5, 8.5))\n",
    "fmt(data, row.names=TRUE)"
   ]
  },
  {
   "cell_type": "markdown",
   "metadata": {},
   "source": [
    "## Remove Observations with Missing Values"
   ]
  },
  {
   "cell_type": "code",
   "execution_count": 69,
   "metadata": {
    "hide_input": true
   },
   "outputs": [
    {
     "data": {
      "text/html": [
       "<table>\n",
       "<caption><center><font color=\"black\"><b>data.remove_observations</b></font></center></caption>\n",
       " <thead>\n",
       "  <tr>\n",
       "   <th style=\"text-align:left;background-color: #FFFFFF !important;\">   </th>\n",
       "   <th style=\"text-align:right;background-color: #FFFFFF !important;\"> date </th>\n",
       "   <th style=\"text-align:right;background-color: #FFFFFF !important;\"> x1 </th>\n",
       "   <th style=\"text-align:right;background-color: #FFFFFF !important;\"> x2 </th>\n",
       "  </tr>\n",
       " </thead>\n",
       "<tbody>\n",
       "  <tr>\n",
       "   <td style=\"text-align:left;font-weight: bold;\"> 1 </td>\n",
       "   <td style=\"text-align:right;\"> 2017-12-30 </td>\n",
       "   <td style=\"text-align:right;\"> 2.5 </td>\n",
       "   <td style=\"text-align:right;\"> 9.0 </td>\n",
       "  </tr>\n",
       "  <tr>\n",
       "   <td style=\"text-align:left;font-weight: bold;\"> 4 </td>\n",
       "   <td style=\"text-align:right;\"> 2018-01-02 </td>\n",
       "   <td style=\"text-align:right;\"> 6.5 </td>\n",
       "   <td style=\"text-align:right;\"> 11.0 </td>\n",
       "  </tr>\n",
       "  <tr>\n",
       "   <td style=\"text-align:left;font-weight: bold;\"> 5 </td>\n",
       "   <td style=\"text-align:right;\"> 2018-01-03 </td>\n",
       "   <td style=\"text-align:right;\"> 8.0 </td>\n",
       "   <td style=\"text-align:right;\"> 2.5 </td>\n",
       "  </tr>\n",
       "  <tr>\n",
       "   <td style=\"text-align:left;font-weight: bold;\"> 6 </td>\n",
       "   <td style=\"text-align:right;\"> 2018-01-04 </td>\n",
       "   <td style=\"text-align:right;\"> 4.0 </td>\n",
       "   <td style=\"text-align:right;\"> 8.5 </td>\n",
       "  </tr>\n",
       "</tbody>\n",
       "</table>"
      ]
     },
     "metadata": {},
     "output_type": "display_data"
    }
   ],
   "source": [
    "data.remove_observations = data[which(!is.na(data$x2)),]\n",
    "fmt(data.remove_observations, row.names=TRUE)"
   ]
  },
  {
   "cell_type": "markdown",
   "metadata": {},
   "source": [
    "## Remove Variables with Missing Values"
   ]
  },
  {
   "cell_type": "code",
   "execution_count": 70,
   "metadata": {
    "hide_input": true
   },
   "outputs": [
    {
     "data": {
      "text/html": [
       "<table>\n",
       "<caption><center><font color=\"black\"><b>data.remove_variables</b></font></center></caption>\n",
       " <thead>\n",
       "  <tr>\n",
       "   <th style=\"text-align:left;background-color: #FFFFFF !important;\">   </th>\n",
       "   <th style=\"text-align:right;background-color: #FFFFFF !important;\"> date </th>\n",
       "   <th style=\"text-align:right;background-color: #FFFFFF !important;\"> x1 </th>\n",
       "  </tr>\n",
       " </thead>\n",
       "<tbody>\n",
       "  <tr>\n",
       "   <td style=\"text-align:left;font-weight: bold;\"> 1 </td>\n",
       "   <td style=\"text-align:right;\"> 2017-12-30 </td>\n",
       "   <td style=\"text-align:right;\"> 2.5 </td>\n",
       "  </tr>\n",
       "  <tr>\n",
       "   <td style=\"text-align:left;font-weight: bold;\"> 2 </td>\n",
       "   <td style=\"text-align:right;\"> 2017-12-31 </td>\n",
       "   <td style=\"text-align:right;\"> 2.0 </td>\n",
       "  </tr>\n",
       "  <tr>\n",
       "   <td style=\"text-align:left;font-weight: bold;\"> 3 </td>\n",
       "   <td style=\"text-align:right;\"> 2018-01-01 </td>\n",
       "   <td style=\"text-align:right;\"> 9.0 </td>\n",
       "  </tr>\n",
       "  <tr>\n",
       "   <td style=\"text-align:left;font-weight: bold;\"> 4 </td>\n",
       "   <td style=\"text-align:right;\"> 2018-01-02 </td>\n",
       "   <td style=\"text-align:right;\"> 6.5 </td>\n",
       "  </tr>\n",
       "  <tr>\n",
       "   <td style=\"text-align:left;font-weight: bold;\"> 5 </td>\n",
       "   <td style=\"text-align:right;\"> 2018-01-03 </td>\n",
       "   <td style=\"text-align:right;\"> 8.0 </td>\n",
       "  </tr>\n",
       "  <tr>\n",
       "   <td style=\"text-align:left;font-weight: bold;\"> 6 </td>\n",
       "   <td style=\"text-align:right;\"> 2018-01-04 </td>\n",
       "   <td style=\"text-align:right;\"> 4.0 </td>\n",
       "  </tr>\n",
       "</tbody>\n",
       "</table>"
      ]
     },
     "metadata": {},
     "output_type": "display_data"
    }
   ],
   "source": [
    "data.remove_variables = data[, var_info.na_count(data) == 0]\n",
    "fmt(data.remove_variables, row.names=TRUE)"
   ]
  },
  {
   "cell_type": "markdown",
   "metadata": {},
   "source": [
    "## Impute by Table Mean\n",
    "\n",
    "May be appropriate if all variables reflect measurements of similar things. "
   ]
  },
  {
   "cell_type": "code",
   "execution_count": 71,
   "metadata": {
    "hide_input": true,
    "scrolled": true
   },
   "outputs": [
    {
     "data": {
      "text/html": [
       "<table><tr><td style=\"background-color:white; vertical-align:top; padding-right:40px;\"><table>\n",
       "<caption><center><font color=\"black\"><b> </b></font></center></caption>\n",
       " <thead>\n",
       "  <tr>\n",
       "   <th style=\"text-align:right;background-color: #FFFFFF !important;\"> imputed_value </th>\n",
       "  </tr>\n",
       " </thead>\n",
       "<tbody>\n",
       "  <tr>\n",
       "   <td style=\"text-align:right;\"> 6.3 </td>\n",
       "  </tr>\n",
       "</tbody>\n",
       "</table></td><td style=\"background-color:white; vertical-align:top;\"><table>\n",
       "<caption><center><font color=\"black\"><b>data.impute_by_table_mean</b></font></center></caption>\n",
       " <thead>\n",
       "  <tr>\n",
       "   <th style=\"text-align:left;background-color: #FFFFFF !important;\">   </th>\n",
       "   <th style=\"text-align:right;background-color: #FFFFFF !important;\"> date </th>\n",
       "   <th style=\"text-align:right;background-color: #FFFFFF !important;\"> x1 </th>\n",
       "   <th style=\"text-align:right;background-color: #FFFFFF !important;\"> x2 </th>\n",
       "  </tr>\n",
       " </thead>\n",
       "<tbody>\n",
       "  <tr>\n",
       "   <td style=\"text-align:left;font-weight: bold;\"> 1 </td>\n",
       "   <td style=\"text-align:right;\"> 2017-12-30 </td>\n",
       "   <td style=\"text-align:right;\"> 2.5 </td>\n",
       "   <td style=\"text-align:right;\"> 9.0 </td>\n",
       "  </tr>\n",
       "  <tr>\n",
       "   <td style=\"text-align:left;font-weight: bold;\"> 2 </td>\n",
       "   <td style=\"text-align:right;\"> 2017-12-31 </td>\n",
       "   <td style=\"text-align:right;\"> 2.0 </td>\n",
       "   <td style=\"text-align:right;\"> 6.3 </td>\n",
       "  </tr>\n",
       "  <tr>\n",
       "   <td style=\"text-align:left;font-weight: bold;\"> 3 </td>\n",
       "   <td style=\"text-align:right;\"> 2018-01-01 </td>\n",
       "   <td style=\"text-align:right;\"> 9.0 </td>\n",
       "   <td style=\"text-align:right;\"> 6.3 </td>\n",
       "  </tr>\n",
       "  <tr>\n",
       "   <td style=\"text-align:left;font-weight: bold;\"> 4 </td>\n",
       "   <td style=\"text-align:right;\"> 2018-01-02 </td>\n",
       "   <td style=\"text-align:right;\"> 6.5 </td>\n",
       "   <td style=\"text-align:right;\"> 11.0 </td>\n",
       "  </tr>\n",
       "  <tr>\n",
       "   <td style=\"text-align:left;font-weight: bold;\"> 5 </td>\n",
       "   <td style=\"text-align:right;\"> 2018-01-03 </td>\n",
       "   <td style=\"text-align:right;\"> 8.0 </td>\n",
       "   <td style=\"text-align:right;\"> 2.5 </td>\n",
       "  </tr>\n",
       "  <tr>\n",
       "   <td style=\"text-align:left;font-weight: bold;\"> 6 </td>\n",
       "   <td style=\"text-align:right;\"> 2018-01-04 </td>\n",
       "   <td style=\"text-align:right;\"> 4.0 </td>\n",
       "   <td style=\"text-align:right;\"> 8.5 </td>\n",
       "  </tr>\n",
       "</tbody>\n",
       "</table></td></tr></table>"
      ]
     },
     "metadata": {},
     "output_type": "display_data"
    }
   ],
   "source": [
    "imputed_value = mean(as.matrix(data[,c(\"x1\",\"x2\")]), na.rm=TRUE) # as.matrix coerces all values to be of same type\n",
    "\n",
    "data.impute_by_table_mean = data\n",
    "data.impute_by_table_mean$x2[2] = imputed_value\n",
    "data.impute_by_table_mean$x2[3] = imputed_value\n",
    "\n",
    "layout(fmt(imputed_value, force=TRUE), fmt(data.impute_by_table_mean, row.names=TRUE))"
   ]
  },
  {
   "cell_type": "markdown",
   "metadata": {},
   "source": [
    "## Impute by Variable Mean"
   ]
  },
  {
   "cell_type": "code",
   "execution_count": 72,
   "metadata": {
    "hide_input": true
   },
   "outputs": [
    {
     "data": {
      "text/html": [
       "<table><tr><td style=\"background-color:white; vertical-align:top; padding-right:40px;\"><table>\n",
       "<caption><center><font color=\"black\"><b> </b></font></center></caption>\n",
       " <thead>\n",
       "  <tr>\n",
       "   <th style=\"text-align:right;background-color: #FFFFFF !important;\"> imputed_value </th>\n",
       "  </tr>\n",
       " </thead>\n",
       "<tbody>\n",
       "  <tr>\n",
       "   <td style=\"text-align:right;\"> 7.75 </td>\n",
       "  </tr>\n",
       "</tbody>\n",
       "</table></td><td style=\"background-color:white; vertical-align:top;\"><table>\n",
       "<caption><center><font color=\"black\"><b>data.impute_by_variable_mean</b></font></center></caption>\n",
       " <thead>\n",
       "  <tr>\n",
       "   <th style=\"text-align:left;background-color: #FFFFFF !important;\">   </th>\n",
       "   <th style=\"text-align:right;background-color: #FFFFFF !important;\"> date </th>\n",
       "   <th style=\"text-align:right;background-color: #FFFFFF !important;\"> x1 </th>\n",
       "   <th style=\"text-align:right;background-color: #FFFFFF !important;\"> x2 </th>\n",
       "  </tr>\n",
       " </thead>\n",
       "<tbody>\n",
       "  <tr>\n",
       "   <td style=\"text-align:left;font-weight: bold;\"> 1 </td>\n",
       "   <td style=\"text-align:right;\"> 2017-12-30 </td>\n",
       "   <td style=\"text-align:right;\"> 2.5 </td>\n",
       "   <td style=\"text-align:right;\"> 9.00 </td>\n",
       "  </tr>\n",
       "  <tr>\n",
       "   <td style=\"text-align:left;font-weight: bold;\"> 2 </td>\n",
       "   <td style=\"text-align:right;\"> 2017-12-31 </td>\n",
       "   <td style=\"text-align:right;\"> 2.0 </td>\n",
       "   <td style=\"text-align:right;\"> 7.75 </td>\n",
       "  </tr>\n",
       "  <tr>\n",
       "   <td style=\"text-align:left;font-weight: bold;\"> 3 </td>\n",
       "   <td style=\"text-align:right;\"> 2018-01-01 </td>\n",
       "   <td style=\"text-align:right;\"> 9.0 </td>\n",
       "   <td style=\"text-align:right;\"> 7.75 </td>\n",
       "  </tr>\n",
       "  <tr>\n",
       "   <td style=\"text-align:left;font-weight: bold;\"> 4 </td>\n",
       "   <td style=\"text-align:right;\"> 2018-01-02 </td>\n",
       "   <td style=\"text-align:right;\"> 6.5 </td>\n",
       "   <td style=\"text-align:right;\"> 11.00 </td>\n",
       "  </tr>\n",
       "  <tr>\n",
       "   <td style=\"text-align:left;font-weight: bold;\"> 5 </td>\n",
       "   <td style=\"text-align:right;\"> 2018-01-03 </td>\n",
       "   <td style=\"text-align:right;\"> 8.0 </td>\n",
       "   <td style=\"text-align:right;\"> 2.50 </td>\n",
       "  </tr>\n",
       "  <tr>\n",
       "   <td style=\"text-align:left;font-weight: bold;\"> 6 </td>\n",
       "   <td style=\"text-align:right;\"> 2018-01-04 </td>\n",
       "   <td style=\"text-align:right;\"> 4.0 </td>\n",
       "   <td style=\"text-align:right;\"> 8.50 </td>\n",
       "  </tr>\n",
       "</tbody>\n",
       "</table></td></tr></table>"
      ]
     },
     "metadata": {},
     "output_type": "display_data"
    }
   ],
   "source": [
    "imputed_value = mean(data$x2, na.rm=TRUE)\n",
    "\n",
    "data.impute_by_variable_mean = data\n",
    "data.impute_by_variable_mean$x2[2] = imputed_value\n",
    "data.impute_by_variable_mean$x2[3] = imputed_value\n",
    "\n",
    "layout(fmt(imputed_value, force=TRUE), fmt(data.impute_by_variable_mean, row.names=TRUE))"
   ]
  },
  {
   "cell_type": "markdown",
   "metadata": {},
   "source": [
    "## Impute by Neighbor Mean\n",
    "\n",
    "May be appropriate for time series data."
   ]
  },
  {
   "cell_type": "code",
   "execution_count": 73,
   "metadata": {
    "hide_input": true
   },
   "outputs": [
    {
     "data": {
      "text/html": [
       "<table><tr><td style=\"background-color:white; vertical-align:top; padding-right:40px;\"><table>\n",
       "<caption><center><font color=\"black\"><b> </b></font></center></caption>\n",
       " <thead>\n",
       "  <tr>\n",
       "   <th style=\"text-align:right;background-color: #FFFFFF !important;\"> imputed_value </th>\n",
       "  </tr>\n",
       " </thead>\n",
       "<tbody>\n",
       "  <tr>\n",
       "   <td style=\"text-align:right;\"> 10 </td>\n",
       "  </tr>\n",
       "</tbody>\n",
       "</table></td><td style=\"background-color:white; vertical-align:top;\"><table>\n",
       "<caption><center><font color=\"black\"><b>data.impute_by_neighbor_mean</b></font></center></caption>\n",
       " <thead>\n",
       "  <tr>\n",
       "   <th style=\"text-align:left;background-color: #FFFFFF !important;\">   </th>\n",
       "   <th style=\"text-align:right;background-color: #FFFFFF !important;\"> date </th>\n",
       "   <th style=\"text-align:right;background-color: #FFFFFF !important;\"> x1 </th>\n",
       "   <th style=\"text-align:right;background-color: #FFFFFF !important;\"> x2 </th>\n",
       "  </tr>\n",
       " </thead>\n",
       "<tbody>\n",
       "  <tr>\n",
       "   <td style=\"text-align:left;font-weight: bold;\"> 1 </td>\n",
       "   <td style=\"text-align:right;\"> 2017-12-30 </td>\n",
       "   <td style=\"text-align:right;\"> 2.5 </td>\n",
       "   <td style=\"text-align:right;\"> 9.0 </td>\n",
       "  </tr>\n",
       "  <tr>\n",
       "   <td style=\"text-align:left;font-weight: bold;\"> 2 </td>\n",
       "   <td style=\"text-align:right;\"> 2017-12-31 </td>\n",
       "   <td style=\"text-align:right;\"> 2.0 </td>\n",
       "   <td style=\"text-align:right;\"> 10.0 </td>\n",
       "  </tr>\n",
       "  <tr>\n",
       "   <td style=\"text-align:left;font-weight: bold;\"> 3 </td>\n",
       "   <td style=\"text-align:right;\"> 2018-01-01 </td>\n",
       "   <td style=\"text-align:right;\"> 9.0 </td>\n",
       "   <td style=\"text-align:right;\"> 10.0 </td>\n",
       "  </tr>\n",
       "  <tr>\n",
       "   <td style=\"text-align:left;font-weight: bold;\"> 4 </td>\n",
       "   <td style=\"text-align:right;\"> 2018-01-02 </td>\n",
       "   <td style=\"text-align:right;\"> 6.5 </td>\n",
       "   <td style=\"text-align:right;\"> 11.0 </td>\n",
       "  </tr>\n",
       "  <tr>\n",
       "   <td style=\"text-align:left;font-weight: bold;\"> 5 </td>\n",
       "   <td style=\"text-align:right;\"> 2018-01-03 </td>\n",
       "   <td style=\"text-align:right;\"> 8.0 </td>\n",
       "   <td style=\"text-align:right;\"> 2.5 </td>\n",
       "  </tr>\n",
       "  <tr>\n",
       "   <td style=\"text-align:left;font-weight: bold;\"> 6 </td>\n",
       "   <td style=\"text-align:right;\"> 2018-01-04 </td>\n",
       "   <td style=\"text-align:right;\"> 4.0 </td>\n",
       "   <td style=\"text-align:right;\"> 8.5 </td>\n",
       "  </tr>\n",
       "</tbody>\n",
       "</table></td></tr></table>"
      ]
     },
     "metadata": {},
     "output_type": "display_data"
    }
   ],
   "source": [
    "imputed_value = mean(c(data$x2[1],data$x2[4]))\n",
    "\n",
    "data.impute_by_neighbor_mean = data\n",
    "data.impute_by_neighbor_mean$x2[2] = imputed_value\n",
    "data.impute_by_neighbor_mean$x2[3] = imputed_value\n",
    "\n",
    "layout(fmt(imputed_value, force=TRUE), fmt(data.impute_by_neighbor_mean, row.names=TRUE))"
   ]
  },
  {
   "cell_type": "markdown",
   "metadata": {},
   "source": [
    "## Impute by Linear Interpolation\n",
    "\n",
    "May be appropriate for time series data."
   ]
  },
  {
   "cell_type": "code",
   "execution_count": 74,
   "metadata": {
    "hide_input": true
   },
   "outputs": [
    {
     "data": {
      "text/html": [
       "<table><tr><td style=\"background-color:white; vertical-align:top; padding-right:40px;\"><table>\n",
       "<caption><center><font color=\"black\"><b> </b></font></center></caption>\n",
       " <thead>\n",
       "  <tr>\n",
       "   <th style=\"text-align:right;background-color: #FFFFFF !important;\"> gap </th>\n",
       "   <th style=\"text-align:right;background-color: #FFFFFF !important;\"> step_size </th>\n",
       "   <th style=\"text-align:right;background-color: #FFFFFF !important;\"> imputed_value.1 </th>\n",
       "   <th style=\"text-align:right;background-color: #FFFFFF !important;\"> imputed_value.2 </th>\n",
       "  </tr>\n",
       " </thead>\n",
       "<tbody>\n",
       "  <tr>\n",
       "   <td style=\"text-align:right;\"> 2 </td>\n",
       "   <td style=\"text-align:right;\"> 0.6666667 </td>\n",
       "   <td style=\"text-align:right;\"> 9.666667 </td>\n",
       "   <td style=\"text-align:right;\"> 10.33333 </td>\n",
       "  </tr>\n",
       "</tbody>\n",
       "</table></td><td style=\"background-color:white; vertical-align:top;\"><table>\n",
       "<caption><center><font color=\"black\"><b>data.impute_by_linear_interpolation</b></font></center></caption>\n",
       " <thead>\n",
       "  <tr>\n",
       "   <th style=\"text-align:left;background-color: #FFFFFF !important;\">   </th>\n",
       "   <th style=\"text-align:right;background-color: #FFFFFF !important;\"> date </th>\n",
       "   <th style=\"text-align:right;background-color: #FFFFFF !important;\"> x1 </th>\n",
       "   <th style=\"text-align:right;background-color: #FFFFFF !important;\"> x2 </th>\n",
       "  </tr>\n",
       " </thead>\n",
       "<tbody>\n",
       "  <tr>\n",
       "   <td style=\"text-align:left;font-weight: bold;\"> 1 </td>\n",
       "   <td style=\"text-align:right;\"> 2017-12-30 </td>\n",
       "   <td style=\"text-align:right;\"> 2.5 </td>\n",
       "   <td style=\"text-align:right;\"> 9.000000 </td>\n",
       "  </tr>\n",
       "  <tr>\n",
       "   <td style=\"text-align:left;font-weight: bold;\"> 2 </td>\n",
       "   <td style=\"text-align:right;\"> 2017-12-31 </td>\n",
       "   <td style=\"text-align:right;\"> 2.0 </td>\n",
       "   <td style=\"text-align:right;\"> 9.666667 </td>\n",
       "  </tr>\n",
       "  <tr>\n",
       "   <td style=\"text-align:left;font-weight: bold;\"> 3 </td>\n",
       "   <td style=\"text-align:right;\"> 2018-01-01 </td>\n",
       "   <td style=\"text-align:right;\"> 9.0 </td>\n",
       "   <td style=\"text-align:right;\"> 10.333333 </td>\n",
       "  </tr>\n",
       "  <tr>\n",
       "   <td style=\"text-align:left;font-weight: bold;\"> 4 </td>\n",
       "   <td style=\"text-align:right;\"> 2018-01-02 </td>\n",
       "   <td style=\"text-align:right;\"> 6.5 </td>\n",
       "   <td style=\"text-align:right;\"> 11.000000 </td>\n",
       "  </tr>\n",
       "  <tr>\n",
       "   <td style=\"text-align:left;font-weight: bold;\"> 5 </td>\n",
       "   <td style=\"text-align:right;\"> 2018-01-03 </td>\n",
       "   <td style=\"text-align:right;\"> 8.0 </td>\n",
       "   <td style=\"text-align:right;\"> 2.500000 </td>\n",
       "  </tr>\n",
       "  <tr>\n",
       "   <td style=\"text-align:left;font-weight: bold;\"> 6 </td>\n",
       "   <td style=\"text-align:right;\"> 2018-01-04 </td>\n",
       "   <td style=\"text-align:right;\"> 4.0 </td>\n",
       "   <td style=\"text-align:right;\"> 8.500000 </td>\n",
       "  </tr>\n",
       "</tbody>\n",
       "</table></td></tr></table>"
      ]
     },
     "metadata": {},
     "output_type": "display_data"
    }
   ],
   "source": [
    "gap = data$x2[4] - data$x2[1]\n",
    "step_size = gap / 3\n",
    "imputed_value.1 = data$x2[1] + step_size\n",
    "imputed_value.2 = data$x2[1] + 2*step_size\n",
    "\n",
    "data.impute_by_linear_interpolation = data\n",
    "data.impute_by_linear_interpolation$x2[2] = imputed_value.1\n",
    "data.impute_by_linear_interpolation$x2[3] = imputed_value.2\n",
    "\n",
    "layout(fmt(data.frame(gap, step_size, imputed_value.1, imputed_value.2), NA, force=TRUE),\n",
    "       fmt(data.impute_by_linear_interpolation, row.names=TRUE))"
   ]
  },
  {
   "cell_type": "markdown",
   "metadata": {},
   "source": [
    "## Compare Imputation Methods "
   ]
  },
  {
   "cell_type": "code",
   "execution_count": 9,
   "metadata": {
    "hide_input": true,
    "scrolled": false
   },
   "outputs": [
    {
     "data": {
      "image/png": "[encoded data removed]",
      "text/plain": [
       "plot without title"
      ]
     },
     "metadata": {},
     "output_type": "display_data"
    }
   ],
   "source": [
    "p1 = ggplot(data.ro) + ylim(0,12) + ggtitle(\"Remove Observations\")            + geom_line(aes(x=date, y=x1), color=PALETTE[1]) + geom_line(aes(x=date, y=x2), color=PALETTE[2]) + theme.no_axis_titles\n",
    "p2 = ggplot(data.rv) + ylim(0,12) + ggtitle(\"Remove Variables\")               + geom_line(aes(x=date, y=x1), color=PALETTE[1])                                                  + theme.no_axis_titles\n",
    "p3 = ggplot(data.i1) + ylim(0,12) + ggtitle(\"Impute by Table Mean\")           + geom_line(aes(x=date, y=x1), color=PALETTE[1]) + geom_line(aes(x=date, y=x2), color=PALETTE[2]) + theme.no_axis_titles\n",
    "p4 = ggplot(data.i2) + ylim(0,12) + ggtitle(\"Impute by Column Mean\")          + geom_line(aes(x=date, y=x1), color=PALETTE[1]) + geom_line(aes(x=date, y=x2), color=PALETTE[2]) + theme.no_axis_titles\n",
    "p5 = ggplot(data.i3) + ylim(0,12) + ggtitle(\"Impute by Neighbor Mean\")        + geom_line(aes(x=date, y=x1), color=PALETTE[1]) + geom_line(aes(x=date, y=x2), color=PALETTE[2]) + theme.no_axis_titles\n",
    "p6 = ggplot(data.i4) + ylim(0,12) + ggtitle(\"Impute by Linear Interpolation\") + geom_line(aes(x=date, y=x1), color=PALETTE[1]) + geom_line(aes(x=date, y=x2), color=PALETTE[2]) + theme.no_axis_titles\n",
    "\n",
    "grid.arrange(p1, p2, p3, p4, p5, p6, nrow=2)"
   ]
  },
  {
   "cell_type": "markdown",
   "metadata": {},
   "source": [
    "## Code"
   ]
  },
  {
   "cell_type": "markdown",
   "metadata": {},
   "source": [
    "### Useful Functions"
   ]
  },
  {
   "cell_type": "code",
   "execution_count": 11,
   "metadata": {},
   "outputs": [],
   "source": [
    "# Custom functions from setup.R:\n",
    "# var_info.na_count\n",
    "\n",
    "# help(any)       # from base library\n",
    "# help(as.matrix) # from base library\n",
    "# help(is.na)     # from base library\n",
    "# help(which)     # from base library"
   ]
  },
  {
   "cell_type": "markdown",
   "metadata": {},
   "source": [
    "## Expectations\n",
    "\n",
    "Know about this:\n",
    "* How to impute missing values in a dataset, conceptually & using R"
   ]
  },
  {
   "cell_type": "markdown",
   "metadata": {},
   "source": [
    "## Further Reading\n",
    "\n",
    "Further reading coming soon ..."
   ]
  },
  {
   "cell_type": "markdown",
   "metadata": {},
   "source": [
    "<p style=\"text-align:left; font-size:10px;\">\n",
    "Copyright (c) Berkeley Data Analytics Group, LLC\n",
    "<span style=\"float:right;\">\n",
    "Document revised July 17, 2020\n",
    "</span>\n",
    "</p>"
   ]
  }
 ],
 "metadata": {
  "hide_code_all_hidden": false,
  "hide_input": false,
  "kernelspec": {
   "display_name": "R",
   "language": "R",
   "name": "ir"
  },
  "language_info": {
   "codemirror_mode": "r",
   "file_extension": ".r",
   "mimetype": "text/x-r-source",
   "name": "R",
   "pygments_lexer": "r",
   "version": "3.6.1"
  },
  "toc": {
   "base_numbering": 1,
   "nav_menu": {},
   "number_sections": true,
   "sideBar": true,
   "skip_h1_title": true,
   "title_cell": "Table of Contents",
   "title_sidebar": "Contents",
   "toc_cell": false,
   "toc_position": {},
   "toc_section_display": true,
   "toc_window_display": true
  }
 },
 "nbformat": 4,
 "nbformat_minor": 2
}
