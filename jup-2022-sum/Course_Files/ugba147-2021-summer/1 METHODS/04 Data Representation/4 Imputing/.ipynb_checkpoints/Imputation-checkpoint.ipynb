{
 "cells": [
  {
   "cell_type": "markdown",
   "metadata": {
    "hideCode": false,
    "hidePrompt": false
   },
   "source": [
    "# Imputation\n",
    "\n",
    "![](banner_imputation.jpg)"
   ]
  },
  {
   "cell_type": "code",
   "execution_count": 1,
   "metadata": {
    "hide_input": true
   },
   "outputs": [
    {
     "name": "stdout",
     "output_type": "stream",
     "text": [
      "Open code cell here for notebook apparatus."
     ]
    }
   ],
   "source": [
    "cat(\"Open code cell here for notebook apparatus.\")\n",
    "\n",
    "options(warn=-1)\n",
    "\n",
    "# Load some required functions\n",
    "library(lubridate, verbose=FALSE, warn.conflicts=FALSE, quietly=TRUE)\n",
    "library(ggplot2,   verbose=FALSE, warn.conflicts=FALSE, quietly=TRUE)\n",
    "library(gridExtra, verbose=FALSE, warn.conflicts=FALSE, quietly=TRUE)\n",
    "\n",
    "# Set some visualization constants\n",
    "PALETTE = c(\"#00A9FF\", \"#F8766D\", \"#7CAE00\", \"#C77CFF\", \"#CD9600\", \"#00BE67\", \"#FF61CC\", \"#00BFC4\")\n",
    "theme.no_axis_titles = theme(axis.title.x=element_blank(), axis.title.y=element_blank())\n",
    "\n",
    "# Set some visualization formatting defaults\n",
    "options(repr.plot.width=8, repr.plot.height=3)\n",
    "update_geom_defaults(\"line\", list(size=0.5))\n",
    "theme_update(plot.title=element_text(size=10, hjust=0.5), plot.subtitle=element_text(size=8, face=\"italic\", hjust=0.5), axis.title=element_text(size=7), axis.text=element_text(size=7), strip.text=element_text(size=7), strip.text.y=element_text(angle=90), legend.title=element_blank(), legend.text=element_text(size=7))"
   ]
  },
  {
   "cell_type": "markdown",
   "metadata": {},
   "source": [
    "## Introduction"
   ]
  },
  {
   "cell_type": "markdown",
   "metadata": {},
   "source": [
    "Xxxxx, xxxxx ..."
   ]
  },
  {
   "cell_type": "markdown",
   "metadata": {},
   "source": [
    "## Discourse"
   ]
  },
  {
   "cell_type": "markdown",
   "metadata": {
    "hide_input": false
   },
   "source": [
    "### Data\n",
    "\n",
    "Consider this pedagogical data."
   ]
  },
  {
   "cell_type": "code",
   "execution_count": 2,
   "metadata": {
    "hideCode": false,
    "hidePrompt": false,
    "hide_input": true,
    "run_control": {
     "marked": false
    }
   },
   "outputs": [
    {
     "data": {
      "text/html": [
       "<table>\n",
       "<thead><tr><th scope=col>date</th><th scope=col>x1</th><th scope=col>x2</th></tr></thead>\n",
       "<tbody>\n",
       "\t<tr><td>2017-12-30</td><td>2.5       </td><td> 9.0      </td></tr>\n",
       "\t<tr><td>2017-12-31</td><td>2.0       </td><td>  NA      </td></tr>\n",
       "\t<tr><td>2018-01-01</td><td>9.0       </td><td>  NA      </td></tr>\n",
       "\t<tr><td>2018-01-02</td><td>6.5       </td><td>11.0      </td></tr>\n",
       "\t<tr><td>2018-01-03</td><td>8.0       </td><td> 2.5      </td></tr>\n",
       "\t<tr><td>2018-01-04</td><td>4.0       </td><td> 8.5      </td></tr>\n",
       "</tbody>\n",
       "</table>\n"
      ],
      "text/latex": [
       "\\begin{tabular}{r|lll}\n",
       " date & x1 & x2\\\\\n",
       "\\hline\n",
       "\t 2017-12-30 & 2.5        &  9.0      \\\\\n",
       "\t 2017-12-31 & 2.0        &   NA      \\\\\n",
       "\t 2018-01-01 & 9.0        &   NA      \\\\\n",
       "\t 2018-01-02 & 6.5        & 11.0      \\\\\n",
       "\t 2018-01-03 & 8.0        &  2.5      \\\\\n",
       "\t 2018-01-04 & 4.0        &  8.5      \\\\\n",
       "\\end{tabular}\n"
      ],
      "text/markdown": [
       "\n",
       "date | x1 | x2 | \n",
       "|---|---|---|---|---|---|\n",
       "| 2017-12-30 | 2.5        |  9.0       | \n",
       "| 2017-12-31 | 2.0        |   NA       | \n",
       "| 2018-01-01 | 9.0        |   NA       | \n",
       "| 2018-01-02 | 6.5        | 11.0       | \n",
       "| 2018-01-03 | 8.0        |  2.5       | \n",
       "| 2018-01-04 | 4.0        |  8.5       | \n",
       "\n",
       "\n"
      ],
      "text/plain": [
       "  date       x1  x2  \n",
       "1 2017-12-30 2.5  9.0\n",
       "2 2017-12-31 2.0   NA\n",
       "3 2018-01-01 9.0   NA\n",
       "4 2018-01-02 6.5 11.0\n",
       "5 2018-01-03 8.0  2.5\n",
       "6 2018-01-04 4.0  8.5"
      ]
     },
     "metadata": {},
     "output_type": "display_data"
    }
   ],
   "source": [
    "data = data.frame(date=ymd(c(\"2017-12-30\",\"2017-12-31\",\"2018-01-01\",\"2018-01-02\",\"2018-01-03\",\"2018-01-04\")),\n",
    "                  x1=c(2.5, 2, 9, 6.5, 8, 4),\n",
    "                  x2=c(9, NA, NA, 11, 2.5, 8.5))\n",
    "data"
   ]
  },
  {
   "cell_type": "markdown",
   "metadata": {},
   "source": [
    "### Remove Observations with Missing Values"
   ]
  },
  {
   "cell_type": "code",
   "execution_count": 3,
   "metadata": {
    "hide_input": true
   },
   "outputs": [
    {
     "data": {
      "text/html": [
       "<ol class=list-inline>\n",
       "\t<li>1</li>\n",
       "\t<li>4</li>\n",
       "\t<li>5</li>\n",
       "\t<li>6</li>\n",
       "</ol>\n"
      ],
      "text/latex": [
       "\\begin{enumerate*}\n",
       "\\item 1\n",
       "\\item 4\n",
       "\\item 5\n",
       "\\item 6\n",
       "\\end{enumerate*}\n"
      ],
      "text/markdown": [
       "1. 1\n",
       "2. 4\n",
       "3. 5\n",
       "4. 6\n",
       "\n",
       "\n"
      ],
      "text/plain": [
       "[1] 1 4 5 6"
      ]
     },
     "metadata": {},
     "output_type": "display_data"
    },
    {
     "data": {
      "text/html": [
       "<table>\n",
       "<thead><tr><th></th><th scope=col>date</th><th scope=col>x1</th><th scope=col>x2</th></tr></thead>\n",
       "<tbody>\n",
       "\t<tr><th scope=row>1</th><td>2017-12-30</td><td>2.5       </td><td> 9.0      </td></tr>\n",
       "\t<tr><th scope=row>4</th><td>2018-01-02</td><td>6.5       </td><td>11.0      </td></tr>\n",
       "\t<tr><th scope=row>5</th><td>2018-01-03</td><td>8.0       </td><td> 2.5      </td></tr>\n",
       "\t<tr><th scope=row>6</th><td>2018-01-04</td><td>4.0       </td><td> 8.5      </td></tr>\n",
       "</tbody>\n",
       "</table>\n"
      ],
      "text/latex": [
       "\\begin{tabular}{r|lll}\n",
       "  & date & x1 & x2\\\\\n",
       "\\hline\n",
       "\t1 & 2017-12-30 & 2.5        &  9.0      \\\\\n",
       "\t4 & 2018-01-02 & 6.5        & 11.0      \\\\\n",
       "\t5 & 2018-01-03 & 8.0        &  2.5      \\\\\n",
       "\t6 & 2018-01-04 & 4.0        &  8.5      \\\\\n",
       "\\end{tabular}\n"
      ],
      "text/markdown": [
       "\n",
       "| <!--/--> | date | x1 | x2 | \n",
       "|---|---|---|---|\n",
       "| 1 | 2017-12-30 | 2.5        |  9.0       | \n",
       "| 4 | 2018-01-02 | 6.5        | 11.0       | \n",
       "| 5 | 2018-01-03 | 8.0        |  2.5       | \n",
       "| 6 | 2018-01-04 | 4.0        |  8.5       | \n",
       "\n",
       "\n"
      ],
      "text/plain": [
       "  date       x1  x2  \n",
       "1 2017-12-30 2.5  9.0\n",
       "4 2018-01-02 6.5 11.0\n",
       "5 2018-01-03 8.0  2.5\n",
       "6 2018-01-04 4.0  8.5"
      ]
     },
     "metadata": {},
     "output_type": "display_data"
    }
   ],
   "source": [
    "which(!is.na(data$x2))\n",
    "\n",
    "data.ro = data[which(!is.na(data$x2)),]\n",
    "data.ro"
   ]
  },
  {
   "cell_type": "markdown",
   "metadata": {},
   "source": [
    "### Remove Variables with Missing Values"
   ]
  },
  {
   "cell_type": "code",
   "execution_count": 4,
   "metadata": {
    "hide_input": true
   },
   "outputs": [
    {
     "data": {
      "text/html": [
       "FALSE"
      ],
      "text/latex": [
       "FALSE"
      ],
      "text/markdown": [
       "FALSE"
      ],
      "text/plain": [
       "[1] FALSE"
      ]
     },
     "metadata": {},
     "output_type": "display_data"
    },
    {
     "data": {
      "text/html": [
       "FALSE"
      ],
      "text/latex": [
       "FALSE"
      ],
      "text/markdown": [
       "FALSE"
      ],
      "text/plain": [
       "[1] FALSE"
      ]
     },
     "metadata": {},
     "output_type": "display_data"
    },
    {
     "data": {
      "text/html": [
       "TRUE"
      ],
      "text/latex": [
       "TRUE"
      ],
      "text/markdown": [
       "TRUE"
      ],
      "text/plain": [
       "[1] TRUE"
      ]
     },
     "metadata": {},
     "output_type": "display_data"
    },
    {
     "data": {
      "text/html": [
       "<table>\n",
       "<thead><tr><th scope=col>date</th><th scope=col>x1</th></tr></thead>\n",
       "<tbody>\n",
       "\t<tr><td>2017-12-30</td><td>2.5       </td></tr>\n",
       "\t<tr><td>2017-12-31</td><td>2.0       </td></tr>\n",
       "\t<tr><td>2018-01-01</td><td>9.0       </td></tr>\n",
       "\t<tr><td>2018-01-02</td><td>6.5       </td></tr>\n",
       "\t<tr><td>2018-01-03</td><td>8.0       </td></tr>\n",
       "\t<tr><td>2018-01-04</td><td>4.0       </td></tr>\n",
       "</tbody>\n",
       "</table>\n"
      ],
      "text/latex": [
       "\\begin{tabular}{r|ll}\n",
       " date & x1\\\\\n",
       "\\hline\n",
       "\t 2017-12-30 & 2.5       \\\\\n",
       "\t 2017-12-31 & 2.0       \\\\\n",
       "\t 2018-01-01 & 9.0       \\\\\n",
       "\t 2018-01-02 & 6.5       \\\\\n",
       "\t 2018-01-03 & 8.0       \\\\\n",
       "\t 2018-01-04 & 4.0       \\\\\n",
       "\\end{tabular}\n"
      ],
      "text/markdown": [
       "\n",
       "date | x1 | \n",
       "|---|---|---|---|---|---|\n",
       "| 2017-12-30 | 2.5        | \n",
       "| 2017-12-31 | 2.0        | \n",
       "| 2018-01-01 | 9.0        | \n",
       "| 2018-01-02 | 6.5        | \n",
       "| 2018-01-03 | 8.0        | \n",
       "| 2018-01-04 | 4.0        | \n",
       "\n",
       "\n"
      ],
      "text/plain": [
       "  date       x1 \n",
       "1 2017-12-30 2.5\n",
       "2 2017-12-31 2.0\n",
       "3 2018-01-01 9.0\n",
       "4 2018-01-02 6.5\n",
       "5 2018-01-03 8.0\n",
       "6 2018-01-04 4.0"
      ]
     },
     "metadata": {},
     "output_type": "display_data"
    }
   ],
   "source": [
    "any(is.na(data$date))\n",
    "any(is.na(data$x1))\n",
    "any(is.na(data$x2))\n",
    "\n",
    "data.rv = data[, -3]\n",
    "data.rv"
   ]
  },
  {
   "cell_type": "markdown",
   "metadata": {},
   "source": [
    "### Impute by Table Mean"
   ]
  },
  {
   "cell_type": "code",
   "execution_count": 5,
   "metadata": {
    "hide_input": true,
    "scrolled": true
   },
   "outputs": [
    {
     "data": {
      "text/html": [
       "<table>\n",
       "<thead><tr><th scope=col>imputed_value</th></tr></thead>\n",
       "<tbody>\n",
       "\t<tr><td>6.3</td></tr>\n",
       "</tbody>\n",
       "</table>\n"
      ],
      "text/latex": [
       "\\begin{tabular}{r|l}\n",
       " imputed\\_value\\\\\n",
       "\\hline\n",
       "\t 6.3\\\\\n",
       "\\end{tabular}\n"
      ],
      "text/markdown": [
       "\n",
       "imputed_value | \n",
       "|---|\n",
       "| 6.3 | \n",
       "\n",
       "\n"
      ],
      "text/plain": [
       "  imputed_value\n",
       "1 6.3          "
      ]
     },
     "metadata": {},
     "output_type": "display_data"
    },
    {
     "data": {
      "text/html": [
       "<table>\n",
       "<thead><tr><th scope=col>date</th><th scope=col>x1</th><th scope=col>x2</th></tr></thead>\n",
       "<tbody>\n",
       "\t<tr><td>2017-12-30</td><td>2.5       </td><td> 9.0      </td></tr>\n",
       "\t<tr><td>2017-12-31</td><td>2.0       </td><td> 6.3      </td></tr>\n",
       "\t<tr><td>2018-01-01</td><td>9.0       </td><td> 6.3      </td></tr>\n",
       "\t<tr><td>2018-01-02</td><td>6.5       </td><td>11.0      </td></tr>\n",
       "\t<tr><td>2018-01-03</td><td>8.0       </td><td> 2.5      </td></tr>\n",
       "\t<tr><td>2018-01-04</td><td>4.0       </td><td> 8.5      </td></tr>\n",
       "</tbody>\n",
       "</table>\n"
      ],
      "text/latex": [
       "\\begin{tabular}{r|lll}\n",
       " date & x1 & x2\\\\\n",
       "\\hline\n",
       "\t 2017-12-30 & 2.5        &  9.0      \\\\\n",
       "\t 2017-12-31 & 2.0        &  6.3      \\\\\n",
       "\t 2018-01-01 & 9.0        &  6.3      \\\\\n",
       "\t 2018-01-02 & 6.5        & 11.0      \\\\\n",
       "\t 2018-01-03 & 8.0        &  2.5      \\\\\n",
       "\t 2018-01-04 & 4.0        &  8.5      \\\\\n",
       "\\end{tabular}\n"
      ],
      "text/markdown": [
       "\n",
       "date | x1 | x2 | \n",
       "|---|---|---|---|---|---|\n",
       "| 2017-12-30 | 2.5        |  9.0       | \n",
       "| 2017-12-31 | 2.0        |  6.3       | \n",
       "| 2018-01-01 | 9.0        |  6.3       | \n",
       "| 2018-01-02 | 6.5        | 11.0       | \n",
       "| 2018-01-03 | 8.0        |  2.5       | \n",
       "| 2018-01-04 | 4.0        |  8.5       | \n",
       "\n",
       "\n"
      ],
      "text/plain": [
       "  date       x1  x2  \n",
       "1 2017-12-30 2.5  9.0\n",
       "2 2017-12-31 2.0  6.3\n",
       "3 2018-01-01 9.0  6.3\n",
       "4 2018-01-02 6.5 11.0\n",
       "5 2018-01-03 8.0  2.5\n",
       "6 2018-01-04 4.0  8.5"
      ]
     },
     "metadata": {},
     "output_type": "display_data"
    }
   ],
   "source": [
    "imputed_value = mean(as.matrix(data[,c(\"x1\",\"x2\")]), na.rm=TRUE) # as.matrix coerces all values to be of same type\n",
    "data.frame(imputed_value)\n",
    "\n",
    "data.i1 = data\n",
    "data.i1$x2[2] = imputed_value\n",
    "data.i1$x2[3] = imputed_value\n",
    "\n",
    "data.i1"
   ]
  },
  {
   "cell_type": "markdown",
   "metadata": {},
   "source": [
    "### Impute by Column Mean"
   ]
  },
  {
   "cell_type": "code",
   "execution_count": 6,
   "metadata": {
    "hide_input": true
   },
   "outputs": [
    {
     "data": {
      "text/html": [
       "<table>\n",
       "<thead><tr><th scope=col>imputed_value</th></tr></thead>\n",
       "<tbody>\n",
       "\t<tr><td>7.75</td></tr>\n",
       "</tbody>\n",
       "</table>\n"
      ],
      "text/latex": [
       "\\begin{tabular}{r|l}\n",
       " imputed\\_value\\\\\n",
       "\\hline\n",
       "\t 7.75\\\\\n",
       "\\end{tabular}\n"
      ],
      "text/markdown": [
       "\n",
       "imputed_value | \n",
       "|---|\n",
       "| 7.75 | \n",
       "\n",
       "\n"
      ],
      "text/plain": [
       "  imputed_value\n",
       "1 7.75         "
      ]
     },
     "metadata": {},
     "output_type": "display_data"
    },
    {
     "data": {
      "text/html": [
       "<table>\n",
       "<thead><tr><th scope=col>date</th><th scope=col>x1</th><th scope=col>x2</th></tr></thead>\n",
       "<tbody>\n",
       "\t<tr><td>2017-12-30</td><td>2.5       </td><td> 9.00     </td></tr>\n",
       "\t<tr><td>2017-12-31</td><td>2.0       </td><td> 7.75     </td></tr>\n",
       "\t<tr><td>2018-01-01</td><td>9.0       </td><td> 7.75     </td></tr>\n",
       "\t<tr><td>2018-01-02</td><td>6.5       </td><td>11.00     </td></tr>\n",
       "\t<tr><td>2018-01-03</td><td>8.0       </td><td> 2.50     </td></tr>\n",
       "\t<tr><td>2018-01-04</td><td>4.0       </td><td> 8.50     </td></tr>\n",
       "</tbody>\n",
       "</table>\n"
      ],
      "text/latex": [
       "\\begin{tabular}{r|lll}\n",
       " date & x1 & x2\\\\\n",
       "\\hline\n",
       "\t 2017-12-30 & 2.5        &  9.00     \\\\\n",
       "\t 2017-12-31 & 2.0        &  7.75     \\\\\n",
       "\t 2018-01-01 & 9.0        &  7.75     \\\\\n",
       "\t 2018-01-02 & 6.5        & 11.00     \\\\\n",
       "\t 2018-01-03 & 8.0        &  2.50     \\\\\n",
       "\t 2018-01-04 & 4.0        &  8.50     \\\\\n",
       "\\end{tabular}\n"
      ],
      "text/markdown": [
       "\n",
       "date | x1 | x2 | \n",
       "|---|---|---|---|---|---|\n",
       "| 2017-12-30 | 2.5        |  9.00      | \n",
       "| 2017-12-31 | 2.0        |  7.75      | \n",
       "| 2018-01-01 | 9.0        |  7.75      | \n",
       "| 2018-01-02 | 6.5        | 11.00      | \n",
       "| 2018-01-03 | 8.0        |  2.50      | \n",
       "| 2018-01-04 | 4.0        |  8.50      | \n",
       "\n",
       "\n"
      ],
      "text/plain": [
       "  date       x1  x2   \n",
       "1 2017-12-30 2.5  9.00\n",
       "2 2017-12-31 2.0  7.75\n",
       "3 2018-01-01 9.0  7.75\n",
       "4 2018-01-02 6.5 11.00\n",
       "5 2018-01-03 8.0  2.50\n",
       "6 2018-01-04 4.0  8.50"
      ]
     },
     "metadata": {},
     "output_type": "display_data"
    }
   ],
   "source": [
    "imputed_value = mean(data$x2, na.rm=TRUE)\n",
    "data.frame(imputed_value)\n",
    "\n",
    "data.i2 = data\n",
    "data.i2$x2[2] = imputed_value\n",
    "data.i2$x2[3] = imputed_value\n",
    "\n",
    "data.i2"
   ]
  },
  {
   "cell_type": "markdown",
   "metadata": {},
   "source": [
    "### Impute by Neighbor Mean"
   ]
  },
  {
   "cell_type": "code",
   "execution_count": 7,
   "metadata": {
    "hide_input": true
   },
   "outputs": [
    {
     "data": {
      "text/html": [
       "<table>\n",
       "<thead><tr><th scope=col>imputed_value</th></tr></thead>\n",
       "<tbody>\n",
       "\t<tr><td>10</td></tr>\n",
       "</tbody>\n",
       "</table>\n"
      ],
      "text/latex": [
       "\\begin{tabular}{r|l}\n",
       " imputed\\_value\\\\\n",
       "\\hline\n",
       "\t 10\\\\\n",
       "\\end{tabular}\n"
      ],
      "text/markdown": [
       "\n",
       "imputed_value | \n",
       "|---|\n",
       "| 10 | \n",
       "\n",
       "\n"
      ],
      "text/plain": [
       "  imputed_value\n",
       "1 10           "
      ]
     },
     "metadata": {},
     "output_type": "display_data"
    },
    {
     "data": {
      "text/html": [
       "<table>\n",
       "<thead><tr><th scope=col>date</th><th scope=col>x1</th><th scope=col>x2</th></tr></thead>\n",
       "<tbody>\n",
       "\t<tr><td>2017-12-30</td><td>2.5       </td><td> 9.0      </td></tr>\n",
       "\t<tr><td>2017-12-31</td><td>2.0       </td><td>10.0      </td></tr>\n",
       "\t<tr><td>2018-01-01</td><td>9.0       </td><td>10.0      </td></tr>\n",
       "\t<tr><td>2018-01-02</td><td>6.5       </td><td>11.0      </td></tr>\n",
       "\t<tr><td>2018-01-03</td><td>8.0       </td><td> 2.5      </td></tr>\n",
       "\t<tr><td>2018-01-04</td><td>4.0       </td><td> 8.5      </td></tr>\n",
       "</tbody>\n",
       "</table>\n"
      ],
      "text/latex": [
       "\\begin{tabular}{r|lll}\n",
       " date & x1 & x2\\\\\n",
       "\\hline\n",
       "\t 2017-12-30 & 2.5        &  9.0      \\\\\n",
       "\t 2017-12-31 & 2.0        & 10.0      \\\\\n",
       "\t 2018-01-01 & 9.0        & 10.0      \\\\\n",
       "\t 2018-01-02 & 6.5        & 11.0      \\\\\n",
       "\t 2018-01-03 & 8.0        &  2.5      \\\\\n",
       "\t 2018-01-04 & 4.0        &  8.5      \\\\\n",
       "\\end{tabular}\n"
      ],
      "text/markdown": [
       "\n",
       "date | x1 | x2 | \n",
       "|---|---|---|---|---|---|\n",
       "| 2017-12-30 | 2.5        |  9.0       | \n",
       "| 2017-12-31 | 2.0        | 10.0       | \n",
       "| 2018-01-01 | 9.0        | 10.0       | \n",
       "| 2018-01-02 | 6.5        | 11.0       | \n",
       "| 2018-01-03 | 8.0        |  2.5       | \n",
       "| 2018-01-04 | 4.0        |  8.5       | \n",
       "\n",
       "\n"
      ],
      "text/plain": [
       "  date       x1  x2  \n",
       "1 2017-12-30 2.5  9.0\n",
       "2 2017-12-31 2.0 10.0\n",
       "3 2018-01-01 9.0 10.0\n",
       "4 2018-01-02 6.5 11.0\n",
       "5 2018-01-03 8.0  2.5\n",
       "6 2018-01-04 4.0  8.5"
      ]
     },
     "metadata": {},
     "output_type": "display_data"
    }
   ],
   "source": [
    "imputed_value = mean(c(data$x2[1],data$x2[4]))\n",
    "data.frame(imputed_value)\n",
    "\n",
    "data.i3 = data\n",
    "data.i3$x2[2] = imputed_value\n",
    "data.i3$x2[3] = imputed_value\n",
    "\n",
    "data.i3"
   ]
  },
  {
   "cell_type": "markdown",
   "metadata": {},
   "source": [
    "### Impute by Linear Interpolation"
   ]
  },
  {
   "cell_type": "code",
   "execution_count": 8,
   "metadata": {
    "hide_input": true
   },
   "outputs": [
    {
     "data": {
      "text/html": [
       "<table>\n",
       "<thead><tr><th scope=col>gap</th><th scope=col>step_size</th><th scope=col>imputed_value.1</th><th scope=col>imputed_value.2</th></tr></thead>\n",
       "<tbody>\n",
       "\t<tr><td>2        </td><td>0.6666667</td><td>9.666667 </td><td>10.33333 </td></tr>\n",
       "</tbody>\n",
       "</table>\n"
      ],
      "text/latex": [
       "\\begin{tabular}{r|llll}\n",
       " gap & step\\_size & imputed\\_value.1 & imputed\\_value.2\\\\\n",
       "\\hline\n",
       "\t 2         & 0.6666667 & 9.666667  & 10.33333 \\\\\n",
       "\\end{tabular}\n"
      ],
      "text/markdown": [
       "\n",
       "gap | step_size | imputed_value.1 | imputed_value.2 | \n",
       "|---|\n",
       "| 2         | 0.6666667 | 9.666667  | 10.33333  | \n",
       "\n",
       "\n"
      ],
      "text/plain": [
       "  gap step_size imputed_value.1 imputed_value.2\n",
       "1 2   0.6666667 9.666667        10.33333       "
      ]
     },
     "metadata": {},
     "output_type": "display_data"
    },
    {
     "data": {
      "text/html": [
       "<table>\n",
       "<thead><tr><th scope=col>date</th><th scope=col>x1</th><th scope=col>x2</th></tr></thead>\n",
       "<tbody>\n",
       "\t<tr><td>2017-12-30</td><td>2.5       </td><td> 9.000000 </td></tr>\n",
       "\t<tr><td>2017-12-31</td><td>2.0       </td><td> 9.666667 </td></tr>\n",
       "\t<tr><td>2018-01-01</td><td>9.0       </td><td>10.333333 </td></tr>\n",
       "\t<tr><td>2018-01-02</td><td>6.5       </td><td>11.000000 </td></tr>\n",
       "\t<tr><td>2018-01-03</td><td>8.0       </td><td> 2.500000 </td></tr>\n",
       "\t<tr><td>2018-01-04</td><td>4.0       </td><td> 8.500000 </td></tr>\n",
       "</tbody>\n",
       "</table>\n"
      ],
      "text/latex": [
       "\\begin{tabular}{r|lll}\n",
       " date & x1 & x2\\\\\n",
       "\\hline\n",
       "\t 2017-12-30 & 2.5        &  9.000000 \\\\\n",
       "\t 2017-12-31 & 2.0        &  9.666667 \\\\\n",
       "\t 2018-01-01 & 9.0        & 10.333333 \\\\\n",
       "\t 2018-01-02 & 6.5        & 11.000000 \\\\\n",
       "\t 2018-01-03 & 8.0        &  2.500000 \\\\\n",
       "\t 2018-01-04 & 4.0        &  8.500000 \\\\\n",
       "\\end{tabular}\n"
      ],
      "text/markdown": [
       "\n",
       "date | x1 | x2 | \n",
       "|---|---|---|---|---|---|\n",
       "| 2017-12-30 | 2.5        |  9.000000  | \n",
       "| 2017-12-31 | 2.0        |  9.666667  | \n",
       "| 2018-01-01 | 9.0        | 10.333333  | \n",
       "| 2018-01-02 | 6.5        | 11.000000  | \n",
       "| 2018-01-03 | 8.0        |  2.500000  | \n",
       "| 2018-01-04 | 4.0        |  8.500000  | \n",
       "\n",
       "\n"
      ],
      "text/plain": [
       "  date       x1  x2       \n",
       "1 2017-12-30 2.5  9.000000\n",
       "2 2017-12-31 2.0  9.666667\n",
       "3 2018-01-01 9.0 10.333333\n",
       "4 2018-01-02 6.5 11.000000\n",
       "5 2018-01-03 8.0  2.500000\n",
       "6 2018-01-04 4.0  8.500000"
      ]
     },
     "metadata": {},
     "output_type": "display_data"
    }
   ],
   "source": [
    "gap = data$x2[4] - data$x2[1]\n",
    "step_size = gap / 3\n",
    "imputed_value.1 = data$x2[1] + step_size\n",
    "imputed_value.2 = data$x2[1] + 2*step_size\n",
    "data.frame(gap, step_size, imputed_value.1, imputed_value.2)\n",
    "\n",
    "data.i4 = data\n",
    "data.i4$x2[2] = imputed_value.1\n",
    "data.i4$x2[3] = imputed_value.2\n",
    "\n",
    "data.i4"
   ]
  },
  {
   "cell_type": "code",
   "execution_count": 9,
   "metadata": {
    "hide_input": true
   },
   "outputs": [
    {
     "data": {
      "image/png": "[encoded data removed]",
      "text/plain": [
       "plot without title"
      ]
     },
     "metadata": {},
     "output_type": "display_data"
    }
   ],
   "source": [
    "p1 = ggplot(data.ro) + ylim(0,12) + ggtitle(\"Remove Observations\") + geom_line(aes(x=date, y=x1), color=PALETTE[1]) + geom_line(aes(x=date, y=x2), color=PALETTE[2]) + theme.no_axis_titles\n",
    "p2 = ggplot(data.rv) + ylim(0,12) + ggtitle(\"Remove Variables\") + geom_line(aes(x=date, y=x1), color=PALETTE[1]) + theme.no_axis_titles\n",
    "p3 = ggplot(data.i1) + ylim(0,12) + ggtitle(\"Impute by Table Mean\") + geom_line(aes(x=date, y=x1), color=PALETTE[1]) + geom_line(aes(x=date, y=x2), color=PALETTE[2]) + theme.no_axis_titles\n",
    "p4 = ggplot(data.i2) + ylim(0,12) + ggtitle(\"Impute by Column Mean\") + geom_line(aes(x=date, y=x1), color=PALETTE[1]) + geom_line(aes(x=date, y=x2), color=PALETTE[2]) + theme.no_axis_titles\n",
    "p5 = ggplot(data.i3) + ylim(0,12) + ggtitle(\"Impute by Neighbor Mean\") + geom_line(aes(x=date, y=x1), color=PALETTE[1]) + geom_line(aes(x=date, y=x2), color=PALETTE[2]) + theme.no_axis_titles\n",
    "p6 = ggplot(data.i4) + ylim(0,12) + ggtitle(\"Impute by Linear Interpolation\") + geom_line(aes(x=date, y=x1), color=PALETTE[1]) + geom_line(aes(x=date, y=x2), color=PALETTE[2]) + theme.no_axis_titles\n",
    "\n",
    "grid.arrange(p1, p2, p3, p4, p5, p6, nrow=2)"
   ]
  },
  {
   "cell_type": "markdown",
   "metadata": {},
   "source": [
    "## Code"
   ]
  },
  {
   "cell_type": "markdown",
   "metadata": {},
   "source": [
    "### Useful Functions"
   ]
  },
  {
   "cell_type": "code",
   "execution_count": 1,
   "metadata": {},
   "outputs": [],
   "source": [
    "# help(as.matrix) # from base library\n",
    "# help(is.na)     # from base library"
   ]
  },
  {
   "cell_type": "markdown",
   "metadata": {},
   "source": [
    "## Expectations\n",
    "\n",
    "Know about this:\n",
    "* How to impute a missing values in a dataset, conceptually & using R"
   ]
  },
  {
   "cell_type": "markdown",
   "metadata": {},
   "source": [
    "## Further Reading\n",
    "\n",
    "Further reading coming soon ..."
   ]
  },
  {
   "cell_type": "markdown",
   "metadata": {},
   "source": [
    "<font size=1;>\n",
    "<p style=\"text-align: left;\">\n",
    "Copyright (c) Berkeley Data Analytics Group, LLC\n",
    "<span style=\"float: right;\">\n",
    "document revised May 6, 2019\n",
    "</span>\n",
    "</p>\n",
    "</font>"
   ]
  }
 ],
 "metadata": {
  "hide_code_all_hidden": false,
  "hide_input": false,
  "kernelspec": {
   "display_name": "R",
   "language": "R",
   "name": "ir"
  },
  "language_info": {
   "codemirror_mode": "r",
   "file_extension": ".r",
   "mimetype": "text/x-r-source",
   "name": "R",
   "pygments_lexer": "r",
   "version": "3.5.3"
  },
  "toc": {
   "base_numbering": 1,
   "nav_menu": {},
   "number_sections": true,
   "sideBar": true,
   "skip_h1_title": true,
   "title_cell": "Table of Contents",
   "title_sidebar": "Contents",
   "toc_cell": false,
   "toc_position": {},
   "toc_section_display": true,
   "toc_window_display": true
  }
 },
 "nbformat": 4,
 "nbformat_minor": 2
}
