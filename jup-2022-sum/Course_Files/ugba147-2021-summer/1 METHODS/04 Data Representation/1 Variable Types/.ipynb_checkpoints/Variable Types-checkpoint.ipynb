{
 "cells": [
  {
   "cell_type": "markdown",
   "metadata": {
    "hideCode": false,
    "hidePrompt": false
   },
   "source": [
    "# Variable Types\n",
    "\n",
    "![](banner_variable_types.jpg)"
   ]
  },
  {
   "cell_type": "code",
   "execution_count": 114,
   "metadata": {
    "hide_input": true
   },
   "outputs": [
    {
     "data": {
      "text/html": [
       "<p style=\"text-align:center; font-size:10px;\">\n",
       ".................................................... start of document ....................................................\n",
       "</p>"
      ]
     },
     "metadata": {},
     "output_type": "display_data"
    }
   ],
   "source": [
    "f = \"setup.R\"; for (i in 1:10) { if (file.exists(f)) break else f = paste0(\"../\", f) }; source(f)                       \n",
    "options(digits=10, scipen=100) # expose many digits, use scientific notation sparingly\n",
    "update_geom_defaults(\"point\", list(size=3, colour=\"grey50\"))"
   ]
  },
  {
   "cell_type": "markdown",
   "metadata": {},
   "source": [
    "## Introduction\n",
    "\n",
    "Motivation, context, history, related topics ..."
   ]
  },
  {
   "cell_type": "markdown",
   "metadata": {},
   "source": [
    "## Terms"
   ]
  },
  {
   "cell_type": "markdown",
   "metadata": {},
   "source": [
    "* **Categorical Variables:** each value can be any member of a certain set of discrete labels  \n",
    "* **Numerical Variables:** each value can be any member of a certain subset of real numbers"
   ]
  },
  {
   "cell_type": "markdown",
   "metadata": {},
   "source": [
    "## Implementation of Categorical Variables in R | factor\n",
    "\n",
    "Use this approach if you need variable labels to match across tables.  The `data.frame` function converts a vector of character strings to a vector of factors, where the set of all possible labels is explicitly specified as a parameter of the `factor` function. "
   ]
  },
  {
   "cell_type": "code",
   "execution_count": 115,
   "metadata": {
    "hide_input": false
   },
   "outputs": [
    {
     "data": {
      "text/html": [
       "<table><tr><td style=\"background-color:white; vertical-align:top; padding-right:40px;\"><table>\n",
       "<caption><center><font color=\"black\"><b>size(data)</b></font></center></caption>\n",
       " <thead>\n",
       "  <tr>\n",
       "   <th style=\"text-align:right;background-color: #FFFFFF !important;\"> observations </th>\n",
       "   <th style=\"text-align:right;background-color: #FFFFFF !important;\"> variables </th>\n",
       "  </tr>\n",
       " </thead>\n",
       "<tbody>\n",
       "  <tr>\n",
       "   <td style=\"text-align:right;\"> 5 </td>\n",
       "   <td style=\"text-align:right;\"> 2 </td>\n",
       "  </tr>\n",
       "</tbody>\n",
       "</table></td><td style=\"background-color:white; vertical-align:top; padding-right:40px;\"><table>\n",
       "<caption><center><font color=\"black\"><b>data</b></font></center></caption>\n",
       " <thead>\n",
       "  <tr>\n",
       "   <th style=\"text-align:right;background-color: #FFFFFF !important;\"> x1 </th>\n",
       "   <th style=\"text-align:right;background-color: #FFFFFF !important;\"> x2 </th>\n",
       "  </tr>\n",
       " </thead>\n",
       "<tbody>\n",
       "  <tr>\n",
       "   <td style=\"text-align:right;\"> A </td>\n",
       "   <td style=\"text-align:right;\"> D </td>\n",
       "  </tr>\n",
       "  <tr>\n",
       "   <td style=\"text-align:right;\"> C </td>\n",
       "   <td style=\"text-align:right;\"> E </td>\n",
       "  </tr>\n",
       "  <tr>\n",
       "   <td style=\"text-align:right;\"> C </td>\n",
       "   <td style=\"text-align:right;\"> D </td>\n",
       "  </tr>\n",
       "  <tr>\n",
       "   <td style=\"text-align:right;\"> A </td>\n",
       "   <td style=\"text-align:right;\"> H </td>\n",
       "  </tr>\n",
       "  <tr>\n",
       "   <td style=\"text-align:right;\"> A </td>\n",
       "   <td style=\"text-align:right;\"> G </td>\n",
       "  </tr>\n",
       "</tbody>\n",
       "</table></td><td style=\"background-color:white; vertical-align:top; padding-right:40px;\"><table>\n",
       "<caption><center><font color=\"black\"><b>size(data.2)</b></font></center></caption>\n",
       " <thead>\n",
       "  <tr>\n",
       "   <th style=\"text-align:right;background-color: #FFFFFF !important;\"> observations </th>\n",
       "   <th style=\"text-align:right;background-color: #FFFFFF !important;\"> variables </th>\n",
       "  </tr>\n",
       " </thead>\n",
       "<tbody>\n",
       "  <tr>\n",
       "   <td style=\"text-align:right;\"> 5 </td>\n",
       "   <td style=\"text-align:right;\"> 2 </td>\n",
       "  </tr>\n",
       "</tbody>\n",
       "</table></td><td style=\"background-color:white; vertical-align:top;\"><table>\n",
       "<caption><center><font color=\"black\"><b>data.2</b></font></center></caption>\n",
       " <thead>\n",
       "  <tr>\n",
       "   <th style=\"text-align:right;background-color: #FFFFFF !important;\"> x1 </th>\n",
       "   <th style=\"text-align:right;background-color: #FFFFFF !important;\"> x2 </th>\n",
       "  </tr>\n",
       " </thead>\n",
       "<tbody>\n",
       "  <tr>\n",
       "   <td style=\"text-align:right;\"> A </td>\n",
       "   <td style=\"text-align:right;\"> D </td>\n",
       "  </tr>\n",
       "  <tr>\n",
       "   <td style=\"text-align:right;\"> A </td>\n",
       "   <td style=\"text-align:right;\"> F </td>\n",
       "  </tr>\n",
       "  <tr>\n",
       "   <td style=\"text-align:right;\"> A </td>\n",
       "   <td style=\"text-align:right;\"> F </td>\n",
       "  </tr>\n",
       "  <tr>\n",
       "   <td style=\"text-align:right;\"> B </td>\n",
       "   <td style=\"text-align:right;\"> D </td>\n",
       "  </tr>\n",
       "  <tr>\n",
       "   <td style=\"text-align:right;\"> B </td>\n",
       "   <td style=\"text-align:right;\"> D </td>\n",
       "  </tr>\n",
       "</tbody>\n",
       "</table></td></tr></table>"
      ]
     },
     "metadata": {},
     "output_type": "display_data"
    },
    {
     "data": {
      "text/plain": [
       "   x2\n",
       "x1  D E F G H\n",
       "  A 1 0 0 1 1\n",
       "  B 0 0 0 0 0\n",
       "  C 1 1 0 0 0"
      ]
     },
     "metadata": {},
     "output_type": "display_data"
    },
    {
     "data": {
      "text/plain": [
       "   x2\n",
       "x1  D E F G H\n",
       "  A 1 0 2 0 0\n",
       "  B 2 0 0 0 0\n",
       "  C 0 0 0 0 0"
      ]
     },
     "metadata": {},
     "output_type": "display_data"
    }
   ],
   "source": [
    "x1_labels = c(\"A\",\"B\",\"C\")\n",
    "x2_labels = c(\"D\",\"E\",\"F\",\"G\",\"H\")\n",
    "\n",
    "data = data.frame(x1=factor(c(\"A\",\"C\",\"C\",\"A\",\"A\"), x1_labels), x2=factor(c(\"D\",\"E\",\"D\",\"H\",\"G\"), x2_labels))\n",
    "data.2 = data.frame(x1=factor(c(\"A\",\"A\",\"A\",\"B\",\"B\"), x1_labels), x2=factor(c(\"D\",\"F\",\"F\",\"D\",\"D\"), x2_labels))\n",
    "\n",
    "layout(fmt(size(data)), fmt(data), fmt(size(data.2)), fmt(data.2))\n",
    "table(data)\n",
    "table(data.2)"
   ]
  },
  {
   "cell_type": "code",
   "execution_count": 116,
   "metadata": {
    "hide_input": false,
    "scrolled": false
   },
   "outputs": [
    {
     "data": {
      "image/png": "[encoded data removed]",
      "text/plain": [
       "plot without title"
      ]
     },
     "metadata": {},
     "output_type": "display_data"
    }
   ],
   "source": [
    "ggplot(data) + xlim(x1_labels) + ylim(x2_labels) + geom_point(aes(x=x1, y=x2), color=PALETTE[1])"
   ]
  },
  {
   "cell_type": "code",
   "execution_count": 117,
   "metadata": {},
   "outputs": [
    {
     "data": {
      "image/png": "[encoded data removed]",
      "text/plain": [
       "plot without title"
      ]
     },
     "metadata": {},
     "output_type": "display_data"
    }
   ],
   "source": [
    "ggplot(data.2) + xlim(x1_labels) + ylim(x2_labels) + geom_point(aes(x=x1, y=x2), color=PALETTE[2])"
   ]
  },
  {
   "cell_type": "code",
   "execution_count": 118,
   "metadata": {},
   "outputs": [],
   "source": [
    "data.2[1, \"x1\"] = \"C\" # This is okay"
   ]
  },
  {
   "cell_type": "markdown",
   "metadata": {},
   "source": [
    "## Implementation of Categorical Variables in R | character to factor\n",
    "\n",
    "Use this approach only if you do not need variable labels to match across tables.  The `data.frame` function converts a vector of character strings to a vector of factors, and assumes the set of all possible labels is represented in the vector. "
   ]
  },
  {
   "cell_type": "code",
   "execution_count": 119,
   "metadata": {},
   "outputs": [
    {
     "data": {
      "text/html": [
       "<table><tr><td style=\"background-color:white; vertical-align:top; padding-right:40px;\"><table>\n",
       "<caption><center><font color=\"black\"><b>size(data)</b></font></center></caption>\n",
       " <thead>\n",
       "  <tr>\n",
       "   <th style=\"text-align:right;background-color: #FFFFFF !important;\"> observations </th>\n",
       "   <th style=\"text-align:right;background-color: #FFFFFF !important;\"> variables </th>\n",
       "  </tr>\n",
       " </thead>\n",
       "<tbody>\n",
       "  <tr>\n",
       "   <td style=\"text-align:right;\"> 5 </td>\n",
       "   <td style=\"text-align:right;\"> 2 </td>\n",
       "  </tr>\n",
       "</tbody>\n",
       "</table></td><td style=\"background-color:white; vertical-align:top; padding-right:40px;\"><table>\n",
       "<caption><center><font color=\"black\"><b>data</b></font></center></caption>\n",
       " <thead>\n",
       "  <tr>\n",
       "   <th style=\"text-align:right;background-color: #FFFFFF !important;\"> x1 </th>\n",
       "   <th style=\"text-align:right;background-color: #FFFFFF !important;\"> x2 </th>\n",
       "  </tr>\n",
       " </thead>\n",
       "<tbody>\n",
       "  <tr>\n",
       "   <td style=\"text-align:right;\"> A </td>\n",
       "   <td style=\"text-align:right;\"> D </td>\n",
       "  </tr>\n",
       "  <tr>\n",
       "   <td style=\"text-align:right;\"> C </td>\n",
       "   <td style=\"text-align:right;\"> E </td>\n",
       "  </tr>\n",
       "  <tr>\n",
       "   <td style=\"text-align:right;\"> C </td>\n",
       "   <td style=\"text-align:right;\"> D </td>\n",
       "  </tr>\n",
       "  <tr>\n",
       "   <td style=\"text-align:right;\"> A </td>\n",
       "   <td style=\"text-align:right;\"> H </td>\n",
       "  </tr>\n",
       "  <tr>\n",
       "   <td style=\"text-align:right;\"> A </td>\n",
       "   <td style=\"text-align:right;\"> G </td>\n",
       "  </tr>\n",
       "</tbody>\n",
       "</table></td><td style=\"background-color:white; vertical-align:top; padding-right:40px;\"><table>\n",
       "<caption><center><font color=\"black\"><b>size(data.2)</b></font></center></caption>\n",
       " <thead>\n",
       "  <tr>\n",
       "   <th style=\"text-align:right;background-color: #FFFFFF !important;\"> observations </th>\n",
       "   <th style=\"text-align:right;background-color: #FFFFFF !important;\"> variables </th>\n",
       "  </tr>\n",
       " </thead>\n",
       "<tbody>\n",
       "  <tr>\n",
       "   <td style=\"text-align:right;\"> 5 </td>\n",
       "   <td style=\"text-align:right;\"> 2 </td>\n",
       "  </tr>\n",
       "</tbody>\n",
       "</table></td><td style=\"background-color:white; vertical-align:top;\"><table>\n",
       "<caption><center><font color=\"black\"><b>data.2</b></font></center></caption>\n",
       " <thead>\n",
       "  <tr>\n",
       "   <th style=\"text-align:right;background-color: #FFFFFF !important;\"> x1 </th>\n",
       "   <th style=\"text-align:right;background-color: #FFFFFF !important;\"> x2 </th>\n",
       "  </tr>\n",
       " </thead>\n",
       "<tbody>\n",
       "  <tr>\n",
       "   <td style=\"text-align:right;\"> A </td>\n",
       "   <td style=\"text-align:right;\"> D </td>\n",
       "  </tr>\n",
       "  <tr>\n",
       "   <td style=\"text-align:right;\"> A </td>\n",
       "   <td style=\"text-align:right;\"> F </td>\n",
       "  </tr>\n",
       "  <tr>\n",
       "   <td style=\"text-align:right;\"> A </td>\n",
       "   <td style=\"text-align:right;\"> F </td>\n",
       "  </tr>\n",
       "  <tr>\n",
       "   <td style=\"text-align:right;\"> B </td>\n",
       "   <td style=\"text-align:right;\"> D </td>\n",
       "  </tr>\n",
       "  <tr>\n",
       "   <td style=\"text-align:right;\"> B </td>\n",
       "   <td style=\"text-align:right;\"> D </td>\n",
       "  </tr>\n",
       "</tbody>\n",
       "</table></td></tr></table>"
      ]
     },
     "metadata": {},
     "output_type": "display_data"
    },
    {
     "data": {
      "text/plain": [
       "   x2\n",
       "x1  D E G H\n",
       "  A 1 0 1 1\n",
       "  C 1 1 0 0"
      ]
     },
     "metadata": {},
     "output_type": "display_data"
    },
    {
     "data": {
      "text/plain": [
       "   x2\n",
       "x1  D F\n",
       "  A 1 2\n",
       "  B 2 0"
      ]
     },
     "metadata": {},
     "output_type": "display_data"
    }
   ],
   "source": [
    "data = data.frame(x1=c(\"A\",\"C\",\"C\",\"A\",\"A\"), x2=c(\"D\",\"E\",\"D\",\"H\",\"G\"))\n",
    "data.2 = data.frame(x1=c(\"A\",\"A\",\"A\",\"B\",\"B\"), x2=c(\"D\",\"F\",\"F\",\"D\",\"D\"))\n",
    "\n",
    "layout(fmt(size(data)), fmt(data), fmt(size(data.2)), fmt(data.2))\n",
    "table(data)\n",
    "table(data.2)"
   ]
  },
  {
   "cell_type": "code",
   "execution_count": 120,
   "metadata": {
    "hide_input": false
   },
   "outputs": [
    {
     "data": {
      "image/png": "[encoded data removed]",
      "text/plain": [
       "plot without title"
      ]
     },
     "metadata": {},
     "output_type": "display_data"
    }
   ],
   "source": [
    "ggplot(data) + geom_point(aes(x=x1, y=x2), color=PALETTE[1])"
   ]
  },
  {
   "cell_type": "code",
   "execution_count": 121,
   "metadata": {
    "scrolled": false
   },
   "outputs": [
    {
     "data": {
      "image/png": "[encoded data removed]",
      "text/plain": [
       "plot without title"
      ]
     },
     "metadata": {},
     "output_type": "display_data"
    }
   ],
   "source": [
    "ggplot(data.2) + geom_point(aes(x=x1, y=x2), color=PALETTE[2])"
   ]
  },
  {
   "cell_type": "code",
   "execution_count": 122,
   "metadata": {},
   "outputs": [],
   "source": [
    "# data.2[1,\"x1\"] = \"C\" # This would cause an error"
   ]
  },
  {
   "cell_type": "markdown",
   "metadata": {},
   "source": [
    "## Implementation of Numerical Variables in R | numeric\n",
    "\n",
    "Use this approach if you need variable values to be interpretted as numerical.  The `data.frame` function assumes that the set of all possible values is the set of real numbers (not a subset of real numbers). "
   ]
  },
  {
   "cell_type": "code",
   "execution_count": 125,
   "metadata": {
    "hide_input": false
   },
   "outputs": [
    {
     "data": {
      "text/html": [
       "<table><tr><td style=\"background-color:white; vertical-align:top; padding-right:40px;\"><table>\n",
       "<caption><center><font color=\"black\"><b>size(data)</b></font></center></caption>\n",
       " <thead>\n",
       "  <tr>\n",
       "   <th style=\"text-align:right;background-color: #FFFFFF !important;\"> observations </th>\n",
       "   <th style=\"text-align:right;background-color: #FFFFFF !important;\"> variables </th>\n",
       "  </tr>\n",
       " </thead>\n",
       "<tbody>\n",
       "  <tr>\n",
       "   <td style=\"text-align:right;\"> 5 </td>\n",
       "   <td style=\"text-align:right;\"> 2 </td>\n",
       "  </tr>\n",
       "</tbody>\n",
       "</table></td><td style=\"background-color:white; vertical-align:top;\"><table>\n",
       "<caption><center><font color=\"black\"><b>data</b></font></center></caption>\n",
       " <thead>\n",
       "  <tr>\n",
       "   <th style=\"text-align:right;background-color: #FFFFFF !important;\"> x1 </th>\n",
       "   <th style=\"text-align:right;background-color: #FFFFFF !important;\"> x2 </th>\n",
       "  </tr>\n",
       " </thead>\n",
       "<tbody>\n",
       "  <tr>\n",
       "   <td style=\"text-align:right;\"> 2.3 </td>\n",
       "   <td style=\"text-align:right;\"> 3 </td>\n",
       "  </tr>\n",
       "  <tr>\n",
       "   <td style=\"text-align:right;\"> 0.4 </td>\n",
       "   <td style=\"text-align:right;\"> 2 </td>\n",
       "  </tr>\n",
       "  <tr>\n",
       "   <td style=\"text-align:right;\"> -2.1 </td>\n",
       "   <td style=\"text-align:right;\"> 1 </td>\n",
       "  </tr>\n",
       "  <tr>\n",
       "   <td style=\"text-align:right;\"> 9.0 </td>\n",
       "   <td style=\"text-align:right;\"> 4 </td>\n",
       "  </tr>\n",
       "  <tr>\n",
       "   <td style=\"text-align:right;\"> 4.5 </td>\n",
       "   <td style=\"text-align:right;\"> 5 </td>\n",
       "  </tr>\n",
       "</tbody>\n",
       "</table></td></tr></table>"
      ]
     },
     "metadata": {},
     "output_type": "display_data"
    },
    {
     "data": {
      "text/plain": [
       "      x2\n",
       "x1     1 2 3 4 5\n",
       "  -2.1 1 0 0 0 0\n",
       "  0.4  0 1 0 0 0\n",
       "  2.3  0 0 1 0 0\n",
       "  4.5  0 0 0 0 1\n",
       "  9    0 0 0 1 0"
      ]
     },
     "metadata": {},
     "output_type": "display_data"
    }
   ],
   "source": [
    "data = data.frame(x1=c(2.3,0.4,-2.1,9.0,4.5), x2=c(3,2,1,4,5))\n",
    "\n",
    "layout(fmt(size(data)), fmt(data))\n",
    "table(data)"
   ]
  },
  {
   "cell_type": "code",
   "execution_count": 126,
   "metadata": {
    "hide_input": false
   },
   "outputs": [
    {
     "data": {
      "image/png": "[encoded data removed]",
      "text/plain": [
       "plot without title"
      ]
     },
     "metadata": {},
     "output_type": "display_data"
    }
   ],
   "source": [
    "ggplot(data) + geom_point(aes(x=x1, y=x2), color=PALETTE[3])"
   ]
  },
  {
   "cell_type": "code",
   "execution_count": 128,
   "metadata": {
    "hide_input": false
   },
   "outputs": [],
   "source": [
    "data[1,\"x1\"] = 42 # This is okay"
   ]
  },
  {
   "cell_type": "markdown",
   "metadata": {},
   "source": [
    "## Code"
   ]
  },
  {
   "cell_type": "markdown",
   "metadata": {},
   "source": [
    "### Useful Functions"
   ]
  },
  {
   "cell_type": "code",
   "execution_count": 5,
   "metadata": {},
   "outputs": [],
   "source": [
    "# help(data.frame) # base library\n",
    "# help(factor)     # from base library\n",
    "# help(table)      # from base library"
   ]
  },
  {
   "cell_type": "markdown",
   "metadata": {},
   "source": [
    "## Expectations\n",
    "\n",
    "Know about this:\n",
    "* How to construct a table with numerical and categorical variables, using R"
   ]
  },
  {
   "cell_type": "markdown",
   "metadata": {},
   "source": [
    "## Further Reading\n",
    "\n",
    "_Coming soon ..._"
   ]
  },
  {
   "cell_type": "markdown",
   "metadata": {},
   "source": [
    "<p style=\"text-align:left; font-size:10px;\">\n",
    "Copyright (c) Berkeley Data Analytics Group, LLC\n",
    "<span style=\"float:right;\">\n",
    "Document revised July 17, 2020\n",
    "</span>\n",
    "</p>"
   ]
  }
 ],
 "metadata": {
  "hide_code_all_hidden": false,
  "hide_input": false,
  "kernelspec": {
   "display_name": "R",
   "language": "R",
   "name": "ir"
  },
  "language_info": {
   "codemirror_mode": "r",
   "file_extension": ".r",
   "mimetype": "text/x-r-source",
   "name": "R",
   "pygments_lexer": "r",
   "version": "3.6.1"
  },
  "toc": {
   "base_numbering": 1,
   "nav_menu": {},
   "number_sections": true,
   "sideBar": true,
   "skip_h1_title": true,
   "title_cell": "Table of Contents",
   "title_sidebar": "Contents",
   "toc_cell": false,
   "toc_position": {},
   "toc_section_display": true,
   "toc_window_display": false
  }
 },
 "nbformat": 4,
 "nbformat_minor": 2
}
