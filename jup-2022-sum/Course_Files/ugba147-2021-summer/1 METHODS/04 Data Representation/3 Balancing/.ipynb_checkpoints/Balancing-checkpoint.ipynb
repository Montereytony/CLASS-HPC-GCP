{
 "cells": [
  {
   "cell_type": "markdown",
   "metadata": {
    "hideCode": false,
    "hidePrompt": false
   },
   "source": [
    "# Balancing\n",
    "\n",
    "![](banner_balancing.jpg)"
   ]
  },
  {
   "cell_type": "code",
   "execution_count": 2,
   "metadata": {
    "hide_input": true
   },
   "outputs": [
    {
     "data": {
      "text/html": [
       "<p style=\"text-align:center; font-size:10px;\">\n",
       ".................................................... start of document ....................................................\n",
       "</p>"
      ]
     },
     "metadata": {},
     "output_type": "display_data"
    }
   ],
   "source": [
    "f = \"setup.R\"; for (i in 1:10) { if (file.exists(f)) break else f = paste0(\"../\", f) }; source(f)"
   ]
  },
  {
   "cell_type": "markdown",
   "metadata": {},
   "source": [
    "## Introduction\n",
    "\n",
    "Motivation, context, history, related topics ...\n",
    "\n",
    "Add or remove observations as necessary to ensure that there are the same of observations representing all possible values of a certain variable. "
   ]
  },
  {
   "cell_type": "markdown",
   "metadata": {},
   "source": [
    "## Terms"
   ]
  },
  {
   "cell_type": "markdown",
   "metadata": {},
   "source": [
    "## Data\n",
    "\n",
    "Consider this pedagogical data."
   ]
  },
  {
   "cell_type": "code",
   "execution_count": 3,
   "metadata": {
    "hide_input": true
   },
   "outputs": [
    {
     "data": {
      "text/html": [
       "<table>\n",
       "<thead><tr><th scope=col>number_of_A_observations</th><th scope=col>number_of_B_observations</th></tr></thead>\n",
       "<tbody>\n",
       "\t<tr><td>12</td><td>4 </td></tr>\n",
       "</tbody>\n",
       "</table>\n"
      ],
      "text/latex": [
       "\\begin{tabular}{r|ll}\n",
       " number\\_of\\_A\\_observations & number\\_of\\_B\\_observations\\\\\n",
       "\\hline\n",
       "\t 12 & 4 \\\\\n",
       "\\end{tabular}\n"
      ],
      "text/markdown": [
       "\n",
       "| number_of_A_observations | number_of_B_observations |\n",
       "|---|---|\n",
       "| 12 | 4  |\n",
       "\n"
      ],
      "text/plain": [
       "  number_of_A_observations number_of_B_observations\n",
       "1 12                       4                       "
      ]
     },
     "metadata": {},
     "output_type": "display_data"
    },
    {
     "data": {
      "text/html": [
       "<table>\n",
       "<thead><tr><th scope=col>x1</th><th scope=col>x2</th><th scope=col>x3</th></tr></thead>\n",
       "<tbody>\n",
       "\t<tr><td> 0</td><td>20</td><td>A </td></tr>\n",
       "\t<tr><td>12</td><td>12</td><td>A </td></tr>\n",
       "\t<tr><td>16</td><td>10</td><td>B </td></tr>\n",
       "\t<tr><td>15</td><td> 5</td><td>A </td></tr>\n",
       "\t<tr><td> 5</td><td>15</td><td>A </td></tr>\n",
       "\t<tr><td> 1</td><td> 1</td><td>A </td></tr>\n",
       "\t<tr><td> 2</td><td> 2</td><td>A </td></tr>\n",
       "\t<tr><td> 3</td><td> 6</td><td>B </td></tr>\n",
       "\t<tr><td> 4</td><td> 3</td><td>A </td></tr>\n",
       "\t<tr><td> 8</td><td> 4</td><td>A </td></tr>\n",
       "\t<tr><td> 9</td><td>15</td><td>A </td></tr>\n",
       "\t<tr><td>15</td><td>13</td><td>A </td></tr>\n",
       "\t<tr><td>16</td><td>14</td><td>B </td></tr>\n",
       "\t<tr><td>17</td><td>15</td><td>A </td></tr>\n",
       "\t<tr><td>18</td><td>18</td><td>A </td></tr>\n",
       "\t<tr><td>19</td><td>19</td><td>B </td></tr>\n",
       "</tbody>\n",
       "</table>\n"
      ],
      "text/latex": [
       "\\begin{tabular}{r|lll}\n",
       " x1 & x2 & x3\\\\\n",
       "\\hline\n",
       "\t  0 & 20 & A \\\\\n",
       "\t 12 & 12 & A \\\\\n",
       "\t 16 & 10 & B \\\\\n",
       "\t 15 &  5 & A \\\\\n",
       "\t  5 & 15 & A \\\\\n",
       "\t  1 &  1 & A \\\\\n",
       "\t  2 &  2 & A \\\\\n",
       "\t  3 &  6 & B \\\\\n",
       "\t  4 &  3 & A \\\\\n",
       "\t  8 &  4 & A \\\\\n",
       "\t  9 & 15 & A \\\\\n",
       "\t 15 & 13 & A \\\\\n",
       "\t 16 & 14 & B \\\\\n",
       "\t 17 & 15 & A \\\\\n",
       "\t 18 & 18 & A \\\\\n",
       "\t 19 & 19 & B \\\\\n",
       "\\end{tabular}\n"
      ],
      "text/markdown": [
       "\n",
       "| x1 | x2 | x3 |\n",
       "|---|---|---|\n",
       "|  0 | 20 | A  |\n",
       "| 12 | 12 | A  |\n",
       "| 16 | 10 | B  |\n",
       "| 15 |  5 | A  |\n",
       "|  5 | 15 | A  |\n",
       "|  1 |  1 | A  |\n",
       "|  2 |  2 | A  |\n",
       "|  3 |  6 | B  |\n",
       "|  4 |  3 | A  |\n",
       "|  8 |  4 | A  |\n",
       "|  9 | 15 | A  |\n",
       "| 15 | 13 | A  |\n",
       "| 16 | 14 | B  |\n",
       "| 17 | 15 | A  |\n",
       "| 18 | 18 | A  |\n",
       "| 19 | 19 | B  |\n",
       "\n"
      ],
      "text/plain": [
       "   x1 x2 x3\n",
       "1   0 20 A \n",
       "2  12 12 A \n",
       "3  16 10 B \n",
       "4  15  5 A \n",
       "5   5 15 A \n",
       "6   1  1 A \n",
       "7   2  2 A \n",
       "8   3  6 B \n",
       "9   4  3 A \n",
       "10  8  4 A \n",
       "11  9 15 A \n",
       "12 15 13 A \n",
       "13 16 14 B \n",
       "14 17 15 A \n",
       "15 18 18 A \n",
       "16 19 19 B "
      ]
     },
     "metadata": {},
     "output_type": "display_data"
    },
    {
     "data": {
      "image/png": "[encoded data removed]",
      "text/plain": [
       "plot without title"
      ]
     },
     "metadata": {},
     "output_type": "display_data"
    }
   ],
   "source": [
    "data = data.frame(x1=c(0,12,16,15,5,1,2,3,4,8,9,15,16,17,18,19),\n",
    "                  x2=c(20,12,10,5,15,1,2,6,3,4,15,13,14,15,18,19),\n",
    "                  x3=c(\"A\",\"A\",\"B\",\"A\",\"A\",\"A\",\"A\",\"B\",\"A\",\"A\",\"A\",\"A\",\"B\",\"A\",\"A\",\"B\"))\n",
    "\n",
    "data.frame(number_of_A_observations=length(which(data$x3==\"A\")), number_of_B_observations=length(which(data$x3==\"B\")))\n",
    "data\n",
    "ggplot(data)+ xlim(0,20) + ylim(0,20) + geom_point(aes(x=x1, y=x2, color=x3)) + scale_color_manual(values=PALETTE)"
   ]
  },
  {
   "cell_type": "markdown",
   "metadata": {},
   "source": [
    "## Balancing by Duplication"
   ]
  },
  {
   "cell_type": "code",
   "execution_count": 4,
   "metadata": {
    "hide_input": true,
    "scrolled": true
   },
   "outputs": [
    {
     "data": {
      "text/html": [
       "<ol class=list-inline>\n",
       "\t<li>3</li>\n",
       "\t<li>8</li>\n",
       "\t<li>13</li>\n",
       "\t<li>16</li>\n",
       "</ol>\n"
      ],
      "text/latex": [
       "\\begin{enumerate*}\n",
       "\\item 3\n",
       "\\item 8\n",
       "\\item 13\n",
       "\\item 16\n",
       "\\end{enumerate*}\n"
      ],
      "text/markdown": [
       "1. 3\n",
       "2. 8\n",
       "3. 13\n",
       "4. 16\n",
       "\n",
       "\n"
      ],
      "text/plain": [
       "[1]  3  8 13 16"
      ]
     },
     "metadata": {},
     "output_type": "display_data"
    },
    {
     "data": {
      "text/html": [
       "<ol class=list-inline>\n",
       "\t<li>3</li>\n",
       "\t<li>8</li>\n",
       "\t<li>13</li>\n",
       "\t<li>16</li>\n",
       "\t<li>3</li>\n",
       "\t<li>8</li>\n",
       "\t<li>13</li>\n",
       "\t<li>16</li>\n",
       "</ol>\n"
      ],
      "text/latex": [
       "\\begin{enumerate*}\n",
       "\\item 3\n",
       "\\item 8\n",
       "\\item 13\n",
       "\\item 16\n",
       "\\item 3\n",
       "\\item 8\n",
       "\\item 13\n",
       "\\item 16\n",
       "\\end{enumerate*}\n"
      ],
      "text/markdown": [
       "1. 3\n",
       "2. 8\n",
       "3. 13\n",
       "4. 16\n",
       "5. 3\n",
       "6. 8\n",
       "7. 13\n",
       "8. 16\n",
       "\n",
       "\n"
      ],
      "text/plain": [
       "[1]  3  8 13 16  3  8 13 16"
      ]
     },
     "metadata": {},
     "output_type": "display_data"
    },
    {
     "data": {
      "text/html": [
       "<ol class=list-inline>\n",
       "\t<li>1</li>\n",
       "\t<li>2</li>\n",
       "\t<li>3</li>\n",
       "\t<li>4</li>\n",
       "\t<li>5</li>\n",
       "\t<li>6</li>\n",
       "\t<li>7</li>\n",
       "\t<li>8</li>\n",
       "\t<li>9</li>\n",
       "\t<li>10</li>\n",
       "\t<li>11</li>\n",
       "\t<li>12</li>\n",
       "\t<li>13</li>\n",
       "\t<li>14</li>\n",
       "\t<li>15</li>\n",
       "\t<li>16</li>\n",
       "\t<li>3</li>\n",
       "\t<li>8</li>\n",
       "\t<li>13</li>\n",
       "\t<li>16</li>\n",
       "\t<li>3</li>\n",
       "\t<li>8</li>\n",
       "\t<li>13</li>\n",
       "\t<li>16</li>\n",
       "</ol>\n"
      ],
      "text/latex": [
       "\\begin{enumerate*}\n",
       "\\item 1\n",
       "\\item 2\n",
       "\\item 3\n",
       "\\item 4\n",
       "\\item 5\n",
       "\\item 6\n",
       "\\item 7\n",
       "\\item 8\n",
       "\\item 9\n",
       "\\item 10\n",
       "\\item 11\n",
       "\\item 12\n",
       "\\item 13\n",
       "\\item 14\n",
       "\\item 15\n",
       "\\item 16\n",
       "\\item 3\n",
       "\\item 8\n",
       "\\item 13\n",
       "\\item 16\n",
       "\\item 3\n",
       "\\item 8\n",
       "\\item 13\n",
       "\\item 16\n",
       "\\end{enumerate*}\n"
      ],
      "text/markdown": [
       "1. 1\n",
       "2. 2\n",
       "3. 3\n",
       "4. 4\n",
       "5. 5\n",
       "6. 6\n",
       "7. 7\n",
       "8. 8\n",
       "9. 9\n",
       "10. 10\n",
       "11. 11\n",
       "12. 12\n",
       "13. 13\n",
       "14. 14\n",
       "15. 15\n",
       "16. 16\n",
       "17. 3\n",
       "18. 8\n",
       "19. 13\n",
       "20. 16\n",
       "21. 3\n",
       "22. 8\n",
       "23. 13\n",
       "24. 16\n",
       "\n",
       "\n"
      ],
      "text/plain": [
       " [1]  1  2  3  4  5  6  7  8  9 10 11 12 13 14 15 16  3  8 13 16  3  8 13 16"
      ]
     },
     "metadata": {},
     "output_type": "display_data"
    }
   ],
   "source": [
    "which(data$x3==\"B\")\n",
    "rep(which(data$x3==\"B\"), 2)\n",
    "c(1:nrow(data), rep(which(data$x3==\"B\"), 2))"
   ]
  },
  {
   "cell_type": "code",
   "execution_count": 4,
   "metadata": {
    "hide_input": true
   },
   "outputs": [
    {
     "data": {
      "text/html": [
       "<table>\n",
       "<thead><tr><th scope=col>number_of_A_observations</th><th scope=col>number_of_B_observations</th></tr></thead>\n",
       "<tbody>\n",
       "\t<tr><td>12</td><td>12</td></tr>\n",
       "</tbody>\n",
       "</table>\n"
      ],
      "text/latex": [
       "\\begin{tabular}{r|ll}\n",
       " number\\_of\\_A\\_observations & number\\_of\\_B\\_observations\\\\\n",
       "\\hline\n",
       "\t 12 & 12\\\\\n",
       "\\end{tabular}\n"
      ],
      "text/markdown": [
       "\n",
       "| number_of_A_observations | number_of_B_observations |\n",
       "|---|---|\n",
       "| 12 | 12 |\n",
       "\n"
      ],
      "text/plain": [
       "  number_of_A_observations number_of_B_observations\n",
       "1 12                       12                      "
      ]
     },
     "metadata": {},
     "output_type": "display_data"
    },
    {
     "data": {
      "text/html": [
       "<table>\n",
       "<thead><tr><th></th><th scope=col>x1</th><th scope=col>x2</th><th scope=col>x3</th></tr></thead>\n",
       "<tbody>\n",
       "\t<tr><th scope=row>1</th><td> 0</td><td>20</td><td>A </td></tr>\n",
       "\t<tr><th scope=row>2</th><td>12</td><td>12</td><td>A </td></tr>\n",
       "\t<tr><th scope=row>3</th><td>16</td><td>10</td><td>B </td></tr>\n",
       "\t<tr><th scope=row>4</th><td>15</td><td> 5</td><td>A </td></tr>\n",
       "\t<tr><th scope=row>5</th><td> 5</td><td>15</td><td>A </td></tr>\n",
       "\t<tr><th scope=row>6</th><td> 1</td><td> 1</td><td>A </td></tr>\n",
       "\t<tr><th scope=row>7</th><td> 2</td><td> 2</td><td>A </td></tr>\n",
       "\t<tr><th scope=row>8</th><td> 3</td><td> 6</td><td>B </td></tr>\n",
       "\t<tr><th scope=row>9</th><td> 4</td><td> 3</td><td>A </td></tr>\n",
       "\t<tr><th scope=row>10</th><td> 8</td><td> 4</td><td>A </td></tr>\n",
       "\t<tr><th scope=row>11</th><td> 9</td><td>15</td><td>A </td></tr>\n",
       "\t<tr><th scope=row>12</th><td>15</td><td>13</td><td>A </td></tr>\n",
       "\t<tr><th scope=row>13</th><td>16</td><td>14</td><td>B </td></tr>\n",
       "\t<tr><th scope=row>14</th><td>17</td><td>15</td><td>A </td></tr>\n",
       "\t<tr><th scope=row>15</th><td>18</td><td>18</td><td>A </td></tr>\n",
       "\t<tr><th scope=row>16</th><td>19</td><td>19</td><td>B </td></tr>\n",
       "\t<tr><th scope=row>3.1</th><td>16</td><td>10</td><td>B </td></tr>\n",
       "\t<tr><th scope=row>8.1</th><td> 3</td><td> 6</td><td>B </td></tr>\n",
       "\t<tr><th scope=row>13.1</th><td>16</td><td>14</td><td>B </td></tr>\n",
       "\t<tr><th scope=row>16.1</th><td>19</td><td>19</td><td>B </td></tr>\n",
       "\t<tr><th scope=row>3.2</th><td>16</td><td>10</td><td>B </td></tr>\n",
       "\t<tr><th scope=row>8.2</th><td> 3</td><td> 6</td><td>B </td></tr>\n",
       "\t<tr><th scope=row>13.2</th><td>16</td><td>14</td><td>B </td></tr>\n",
       "\t<tr><th scope=row>16.2</th><td>19</td><td>19</td><td>B </td></tr>\n",
       "</tbody>\n",
       "</table>\n"
      ],
      "text/latex": [
       "\\begin{tabular}{r|lll}\n",
       "  & x1 & x2 & x3\\\\\n",
       "\\hline\n",
       "\t1 &  0 & 20 & A \\\\\n",
       "\t2 & 12 & 12 & A \\\\\n",
       "\t3 & 16 & 10 & B \\\\\n",
       "\t4 & 15 &  5 & A \\\\\n",
       "\t5 &  5 & 15 & A \\\\\n",
       "\t6 &  1 &  1 & A \\\\\n",
       "\t7 &  2 &  2 & A \\\\\n",
       "\t8 &  3 &  6 & B \\\\\n",
       "\t9 &  4 &  3 & A \\\\\n",
       "\t10 &  8 &  4 & A \\\\\n",
       "\t11 &  9 & 15 & A \\\\\n",
       "\t12 & 15 & 13 & A \\\\\n",
       "\t13 & 16 & 14 & B \\\\\n",
       "\t14 & 17 & 15 & A \\\\\n",
       "\t15 & 18 & 18 & A \\\\\n",
       "\t16 & 19 & 19 & B \\\\\n",
       "\t3.1 & 16 & 10 & B \\\\\n",
       "\t8.1 &  3 &  6 & B \\\\\n",
       "\t13.1 & 16 & 14 & B \\\\\n",
       "\t16.1 & 19 & 19 & B \\\\\n",
       "\t3.2 & 16 & 10 & B \\\\\n",
       "\t8.2 &  3 &  6 & B \\\\\n",
       "\t13.2 & 16 & 14 & B \\\\\n",
       "\t16.2 & 19 & 19 & B \\\\\n",
       "\\end{tabular}\n"
      ],
      "text/markdown": [
       "\n",
       "| <!--/--> | x1 | x2 | x3 |\n",
       "|---|---|---|---|\n",
       "| 1 |  0 | 20 | A  |\n",
       "| 2 | 12 | 12 | A  |\n",
       "| 3 | 16 | 10 | B  |\n",
       "| 4 | 15 |  5 | A  |\n",
       "| 5 |  5 | 15 | A  |\n",
       "| 6 |  1 |  1 | A  |\n",
       "| 7 |  2 |  2 | A  |\n",
       "| 8 |  3 |  6 | B  |\n",
       "| 9 |  4 |  3 | A  |\n",
       "| 10 |  8 |  4 | A  |\n",
       "| 11 |  9 | 15 | A  |\n",
       "| 12 | 15 | 13 | A  |\n",
       "| 13 | 16 | 14 | B  |\n",
       "| 14 | 17 | 15 | A  |\n",
       "| 15 | 18 | 18 | A  |\n",
       "| 16 | 19 | 19 | B  |\n",
       "| 3.1 | 16 | 10 | B  |\n",
       "| 8.1 |  3 |  6 | B  |\n",
       "| 13.1 | 16 | 14 | B  |\n",
       "| 16.1 | 19 | 19 | B  |\n",
       "| 3.2 | 16 | 10 | B  |\n",
       "| 8.2 |  3 |  6 | B  |\n",
       "| 13.2 | 16 | 14 | B  |\n",
       "| 16.2 | 19 | 19 | B  |\n",
       "\n"
      ],
      "text/plain": [
       "     x1 x2 x3\n",
       "1     0 20 A \n",
       "2    12 12 A \n",
       "3    16 10 B \n",
       "4    15  5 A \n",
       "5     5 15 A \n",
       "6     1  1 A \n",
       "7     2  2 A \n",
       "8     3  6 B \n",
       "9     4  3 A \n",
       "10    8  4 A \n",
       "11    9 15 A \n",
       "12   15 13 A \n",
       "13   16 14 B \n",
       "14   17 15 A \n",
       "15   18 18 A \n",
       "16   19 19 B \n",
       "3.1  16 10 B \n",
       "8.1   3  6 B \n",
       "13.1 16 14 B \n",
       "16.1 19 19 B \n",
       "3.2  16 10 B \n",
       "8.2   3  6 B \n",
       "13.2 16 14 B \n",
       "16.2 19 19 B "
      ]
     },
     "metadata": {},
     "output_type": "display_data"
    },
    {
     "data": {
      "image/png": "[encoded data removed]",
      "text/plain": [
       "plot without title"
      ]
     },
     "metadata": {},
     "output_type": "display_data"
    }
   ],
   "source": [
    "data.b1 = data[c(1:nrow(data), rep(which(data$x3==\"B\"), 2)),]\n",
    "\n",
    "data.frame(number_of_A_observations=length(which(data.b1$x3==\"A\")), number_of_B_observations=length(which(data.b1$x3==\"B\")))\n",
    "data.b1\n",
    "ggplot(data.b1) + xlim(0,20) + ylim(0,20) + geom_jitter(aes(x=x1, y=x2, color=x3), size=1, na.rm=TRUE) + scale_color_manual(values=PALETTE)"
   ]
  },
  {
   "cell_type": "markdown",
   "metadata": {},
   "source": [
    "## Balancing by Downsampling"
   ]
  },
  {
   "cell_type": "code",
   "execution_count": 10,
   "metadata": {
    "hide_input": true
   },
   "outputs": [
    {
     "data": {
      "text/html": [
       "<ol class=list-inline>\n",
       "\t<li>1</li>\n",
       "\t<li>2</li>\n",
       "\t<li>4</li>\n",
       "\t<li>5</li>\n",
       "\t<li>6</li>\n",
       "\t<li>7</li>\n",
       "\t<li>9</li>\n",
       "\t<li>10</li>\n",
       "\t<li>11</li>\n",
       "\t<li>12</li>\n",
       "\t<li>14</li>\n",
       "\t<li>15</li>\n",
       "</ol>\n"
      ],
      "text/latex": [
       "\\begin{enumerate*}\n",
       "\\item 1\n",
       "\\item 2\n",
       "\\item 4\n",
       "\\item 5\n",
       "\\item 6\n",
       "\\item 7\n",
       "\\item 9\n",
       "\\item 10\n",
       "\\item 11\n",
       "\\item 12\n",
       "\\item 14\n",
       "\\item 15\n",
       "\\end{enumerate*}\n"
      ],
      "text/markdown": [
       "1. 1\n",
       "2. 2\n",
       "3. 4\n",
       "4. 5\n",
       "5. 6\n",
       "6. 7\n",
       "7. 9\n",
       "8. 10\n",
       "9. 11\n",
       "10. 12\n",
       "11. 14\n",
       "12. 15\n",
       "\n",
       "\n"
      ],
      "text/plain": [
       " [1]  1  2  4  5  6  7  9 10 11 12 14 15"
      ]
     },
     "metadata": {},
     "output_type": "display_data"
    },
    {
     "data": {
      "text/html": [
       "<ol class=list-inline>\n",
       "\t<li>3</li>\n",
       "\t<li>8</li>\n",
       "\t<li>13</li>\n",
       "\t<li>16</li>\n",
       "</ol>\n"
      ],
      "text/latex": [
       "\\begin{enumerate*}\n",
       "\\item 3\n",
       "\\item 8\n",
       "\\item 13\n",
       "\\item 16\n",
       "\\end{enumerate*}\n"
      ],
      "text/markdown": [
       "1. 3\n",
       "2. 8\n",
       "3. 13\n",
       "4. 16\n",
       "\n",
       "\n"
      ],
      "text/plain": [
       "[1]  3  8 13 16"
      ]
     },
     "metadata": {},
     "output_type": "display_data"
    },
    {
     "data": {
      "text/html": [
       "<ol class=list-inline>\n",
       "\t<li>4</li>\n",
       "\t<li>12</li>\n",
       "\t<li>10</li>\n",
       "\t<li>14</li>\n",
       "\t<li>3</li>\n",
       "\t<li>8</li>\n",
       "\t<li>13</li>\n",
       "\t<li>16</li>\n",
       "</ol>\n"
      ],
      "text/latex": [
       "\\begin{enumerate*}\n",
       "\\item 4\n",
       "\\item 12\n",
       "\\item 10\n",
       "\\item 14\n",
       "\\item 3\n",
       "\\item 8\n",
       "\\item 13\n",
       "\\item 16\n",
       "\\end{enumerate*}\n"
      ],
      "text/markdown": [
       "1. 4\n",
       "2. 12\n",
       "3. 10\n",
       "4. 14\n",
       "5. 3\n",
       "6. 8\n",
       "7. 13\n",
       "8. 16\n",
       "\n",
       "\n"
      ],
      "text/plain": [
       "[1]  4 12 10 14  3  8 13 16"
      ]
     },
     "metadata": {},
     "output_type": "display_data"
    }
   ],
   "source": [
    "set.seed(12345)\n",
    "\n",
    "which(data$x3==\"A\")\n",
    "which(data$x3==\"B\")\n",
    "\n",
    "sample.A = sample(which(data$x3==\"A\"), 4)\n",
    "sample.B = which(data$x3==\"B\")\n",
    "c(sample.A, sample.B)"
   ]
  },
  {
   "cell_type": "code",
   "execution_count": 21,
   "metadata": {
    "hide_input": true,
    "scrolled": false
   },
   "outputs": [
    {
     "data": {
      "text/html": [
       "<table>\n",
       "<thead><tr><th scope=col>number_of_A_observations</th><th scope=col>number_of_B_observations</th></tr></thead>\n",
       "<tbody>\n",
       "\t<tr><td>4</td><td>4</td></tr>\n",
       "</tbody>\n",
       "</table>\n"
      ],
      "text/latex": [
       "\\begin{tabular}{r|ll}\n",
       " number\\_of\\_A\\_observations & number\\_of\\_B\\_observations\\\\\n",
       "\\hline\n",
       "\t 4 & 4\\\\\n",
       "\\end{tabular}\n"
      ],
      "text/markdown": [
       "\n",
       "| number_of_A_observations | number_of_B_observations |\n",
       "|---|---|\n",
       "| 4 | 4 |\n",
       "\n"
      ],
      "text/plain": [
       "  number_of_A_observations number_of_B_observations\n",
       "1 4                        4                       "
      ]
     },
     "metadata": {},
     "output_type": "display_data"
    },
    {
     "data": {
      "image/png": "[encoded data removed]",
      "text/plain": [
       "plot without title"
      ]
     },
     "metadata": {},
     "output_type": "display_data"
    }
   ],
   "source": [
    "data.b2 = data[c(sample.A, sample.B),]\n",
    "\n",
    "data.frame(number_of_A_observations=length(sample.A), number_of_B_observations=length(sample.B))\n",
    "\n",
    "ggplot(data.b2) + xlim(0,20) + ylim(0,20) + geom_point(aes(x=x1, y=x2, color=x3)) + scale_color_manual(values=PALETTE)"
   ]
  },
  {
   "cell_type": "markdown",
   "metadata": {},
   "source": [
    "## Balancing by Bootstrapping"
   ]
  },
  {
   "cell_type": "code",
   "execution_count": 6,
   "metadata": {
    "hide_input": true
   },
   "outputs": [
    {
     "data": {
      "text/html": [
       "<ol class=list-inline>\n",
       "\t<li>1</li>\n",
       "\t<li>2</li>\n",
       "\t<li>4</li>\n",
       "\t<li>5</li>\n",
       "\t<li>6</li>\n",
       "\t<li>7</li>\n",
       "\t<li>9</li>\n",
       "\t<li>10</li>\n",
       "\t<li>11</li>\n",
       "\t<li>12</li>\n",
       "\t<li>14</li>\n",
       "\t<li>15</li>\n",
       "</ol>\n"
      ],
      "text/latex": [
       "\\begin{enumerate*}\n",
       "\\item 1\n",
       "\\item 2\n",
       "\\item 4\n",
       "\\item 5\n",
       "\\item 6\n",
       "\\item 7\n",
       "\\item 9\n",
       "\\item 10\n",
       "\\item 11\n",
       "\\item 12\n",
       "\\item 14\n",
       "\\item 15\n",
       "\\end{enumerate*}\n"
      ],
      "text/markdown": [
       "1. 1\n",
       "2. 2\n",
       "3. 4\n",
       "4. 5\n",
       "5. 6\n",
       "6. 7\n",
       "7. 9\n",
       "8. 10\n",
       "9. 11\n",
       "10. 12\n",
       "11. 14\n",
       "12. 15\n",
       "\n",
       "\n"
      ],
      "text/plain": [
       " [1]  1  2  4  5  6  7  9 10 11 12 14 15"
      ]
     },
     "metadata": {},
     "output_type": "display_data"
    },
    {
     "data": {
      "text/html": [
       "<ol class=list-inline>\n",
       "\t<li>3</li>\n",
       "\t<li>8</li>\n",
       "\t<li>13</li>\n",
       "\t<li>16</li>\n",
       "</ol>\n"
      ],
      "text/latex": [
       "\\begin{enumerate*}\n",
       "\\item 3\n",
       "\\item 8\n",
       "\\item 13\n",
       "\\item 16\n",
       "\\end{enumerate*}\n"
      ],
      "text/markdown": [
       "1. 3\n",
       "2. 8\n",
       "3. 13\n",
       "4. 16\n",
       "\n",
       "\n"
      ],
      "text/plain": [
       "[1]  3  8 13 16"
      ]
     },
     "metadata": {},
     "output_type": "display_data"
    },
    {
     "data": {
      "text/html": [
       "<ol class=list-inline>\n",
       "\t<li>1</li>\n",
       "\t<li>2</li>\n",
       "\t<li>4</li>\n",
       "\t<li>5</li>\n",
       "\t<li>6</li>\n",
       "\t<li>7</li>\n",
       "\t<li>9</li>\n",
       "\t<li>10</li>\n",
       "\t<li>11</li>\n",
       "\t<li>12</li>\n",
       "\t<li>14</li>\n",
       "\t<li>15</li>\n",
       "\t<li>8</li>\n",
       "\t<li>13</li>\n",
       "\t<li>16</li>\n",
       "\t<li>8</li>\n",
       "\t<li>16</li>\n",
       "\t<li>16</li>\n",
       "\t<li>8</li>\n",
       "\t<li>3</li>\n",
       "\t<li>13</li>\n",
       "\t<li>16</li>\n",
       "\t<li>16</li>\n",
       "\t<li>8</li>\n",
       "</ol>\n"
      ],
      "text/latex": [
       "\\begin{enumerate*}\n",
       "\\item 1\n",
       "\\item 2\n",
       "\\item 4\n",
       "\\item 5\n",
       "\\item 6\n",
       "\\item 7\n",
       "\\item 9\n",
       "\\item 10\n",
       "\\item 11\n",
       "\\item 12\n",
       "\\item 14\n",
       "\\item 15\n",
       "\\item 8\n",
       "\\item 13\n",
       "\\item 16\n",
       "\\item 8\n",
       "\\item 16\n",
       "\\item 16\n",
       "\\item 8\n",
       "\\item 3\n",
       "\\item 13\n",
       "\\item 16\n",
       "\\item 16\n",
       "\\item 8\n",
       "\\end{enumerate*}\n"
      ],
      "text/markdown": [
       "1. 1\n",
       "2. 2\n",
       "3. 4\n",
       "4. 5\n",
       "5. 6\n",
       "6. 7\n",
       "7. 9\n",
       "8. 10\n",
       "9. 11\n",
       "10. 12\n",
       "11. 14\n",
       "12. 15\n",
       "13. 8\n",
       "14. 13\n",
       "15. 16\n",
       "16. 8\n",
       "17. 16\n",
       "18. 16\n",
       "19. 8\n",
       "20. 3\n",
       "21. 13\n",
       "22. 16\n",
       "23. 16\n",
       "24. 8\n",
       "\n",
       "\n"
      ],
      "text/plain": [
       " [1]  1  2  4  5  6  7  9 10 11 12 14 15  8 13 16  8 16 16  8  3 13 16 16  8"
      ]
     },
     "metadata": {},
     "output_type": "display_data"
    }
   ],
   "source": [
    "set.seed(12345)\n",
    "\n",
    "which(data$x3==\"A\")\n",
    "which(data$x3==\"B\")\n",
    "\n",
    "sample.A = which(data$x3==\"A\")\n",
    "sample.B = sample(which(data$x3==\"B\"), replace=TRUE, 12)\n",
    "c(sample.A, sample.B)"
   ]
  },
  {
   "cell_type": "code",
   "execution_count": 7,
   "metadata": {
    "hide_input": true
   },
   "outputs": [
    {
     "data": {
      "text/html": [
       "<table>\n",
       "<thead><tr><th scope=col>number_of_A_observations</th><th scope=col>number_of_B_observations</th></tr></thead>\n",
       "<tbody>\n",
       "\t<tr><td>12</td><td>12</td></tr>\n",
       "</tbody>\n",
       "</table>\n"
      ],
      "text/latex": [
       "\\begin{tabular}{r|ll}\n",
       " number\\_of\\_A\\_observations & number\\_of\\_B\\_observations\\\\\n",
       "\\hline\n",
       "\t 12 & 12\\\\\n",
       "\\end{tabular}\n"
      ],
      "text/markdown": [
       "\n",
       "| number_of_A_observations | number_of_B_observations |\n",
       "|---|---|\n",
       "| 12 | 12 |\n",
       "\n"
      ],
      "text/plain": [
       "  number_of_A_observations number_of_B_observations\n",
       "1 12                       12                      "
      ]
     },
     "metadata": {},
     "output_type": "display_data"
    },
    {
     "data": {
      "text/html": [
       "<table>\n",
       "<thead><tr><th></th><th scope=col>x1</th><th scope=col>x2</th><th scope=col>x3</th></tr></thead>\n",
       "<tbody>\n",
       "\t<tr><th scope=row>1</th><td> 0</td><td>20</td><td>A </td></tr>\n",
       "\t<tr><th scope=row>2</th><td>12</td><td>12</td><td>A </td></tr>\n",
       "\t<tr><th scope=row>4</th><td>15</td><td> 5</td><td>A </td></tr>\n",
       "\t<tr><th scope=row>5</th><td> 5</td><td>15</td><td>A </td></tr>\n",
       "\t<tr><th scope=row>6</th><td> 1</td><td> 1</td><td>A </td></tr>\n",
       "\t<tr><th scope=row>7</th><td> 2</td><td> 2</td><td>A </td></tr>\n",
       "\t<tr><th scope=row>9</th><td> 4</td><td> 3</td><td>A </td></tr>\n",
       "\t<tr><th scope=row>10</th><td> 8</td><td> 4</td><td>A </td></tr>\n",
       "\t<tr><th scope=row>11</th><td> 9</td><td>15</td><td>A </td></tr>\n",
       "\t<tr><th scope=row>12</th><td>15</td><td>13</td><td>A </td></tr>\n",
       "\t<tr><th scope=row>14</th><td>17</td><td>15</td><td>A </td></tr>\n",
       "\t<tr><th scope=row>15</th><td>18</td><td>18</td><td>A </td></tr>\n",
       "\t<tr><th scope=row>8</th><td> 3</td><td> 6</td><td>B </td></tr>\n",
       "\t<tr><th scope=row>13</th><td>16</td><td>14</td><td>B </td></tr>\n",
       "\t<tr><th scope=row>16</th><td>19</td><td>19</td><td>B </td></tr>\n",
       "\t<tr><th scope=row>8.1</th><td> 3</td><td> 6</td><td>B </td></tr>\n",
       "\t<tr><th scope=row>16.1</th><td>19</td><td>19</td><td>B </td></tr>\n",
       "\t<tr><th scope=row>16.2</th><td>19</td><td>19</td><td>B </td></tr>\n",
       "\t<tr><th scope=row>8.2</th><td> 3</td><td> 6</td><td>B </td></tr>\n",
       "\t<tr><th scope=row>3</th><td>16</td><td>10</td><td>B </td></tr>\n",
       "\t<tr><th scope=row>13.1</th><td>16</td><td>14</td><td>B </td></tr>\n",
       "\t<tr><th scope=row>16.3</th><td>19</td><td>19</td><td>B </td></tr>\n",
       "\t<tr><th scope=row>16.4</th><td>19</td><td>19</td><td>B </td></tr>\n",
       "\t<tr><th scope=row>8.3</th><td> 3</td><td> 6</td><td>B </td></tr>\n",
       "</tbody>\n",
       "</table>\n"
      ],
      "text/latex": [
       "\\begin{tabular}{r|lll}\n",
       "  & x1 & x2 & x3\\\\\n",
       "\\hline\n",
       "\t1 &  0 & 20 & A \\\\\n",
       "\t2 & 12 & 12 & A \\\\\n",
       "\t4 & 15 &  5 & A \\\\\n",
       "\t5 &  5 & 15 & A \\\\\n",
       "\t6 &  1 &  1 & A \\\\\n",
       "\t7 &  2 &  2 & A \\\\\n",
       "\t9 &  4 &  3 & A \\\\\n",
       "\t10 &  8 &  4 & A \\\\\n",
       "\t11 &  9 & 15 & A \\\\\n",
       "\t12 & 15 & 13 & A \\\\\n",
       "\t14 & 17 & 15 & A \\\\\n",
       "\t15 & 18 & 18 & A \\\\\n",
       "\t8 &  3 &  6 & B \\\\\n",
       "\t13 & 16 & 14 & B \\\\\n",
       "\t16 & 19 & 19 & B \\\\\n",
       "\t8.1 &  3 &  6 & B \\\\\n",
       "\t16.1 & 19 & 19 & B \\\\\n",
       "\t16.2 & 19 & 19 & B \\\\\n",
       "\t8.2 &  3 &  6 & B \\\\\n",
       "\t3 & 16 & 10 & B \\\\\n",
       "\t13.1 & 16 & 14 & B \\\\\n",
       "\t16.3 & 19 & 19 & B \\\\\n",
       "\t16.4 & 19 & 19 & B \\\\\n",
       "\t8.3 &  3 &  6 & B \\\\\n",
       "\\end{tabular}\n"
      ],
      "text/markdown": [
       "\n",
       "| <!--/--> | x1 | x2 | x3 |\n",
       "|---|---|---|---|\n",
       "| 1 |  0 | 20 | A  |\n",
       "| 2 | 12 | 12 | A  |\n",
       "| 4 | 15 |  5 | A  |\n",
       "| 5 |  5 | 15 | A  |\n",
       "| 6 |  1 |  1 | A  |\n",
       "| 7 |  2 |  2 | A  |\n",
       "| 9 |  4 |  3 | A  |\n",
       "| 10 |  8 |  4 | A  |\n",
       "| 11 |  9 | 15 | A  |\n",
       "| 12 | 15 | 13 | A  |\n",
       "| 14 | 17 | 15 | A  |\n",
       "| 15 | 18 | 18 | A  |\n",
       "| 8 |  3 |  6 | B  |\n",
       "| 13 | 16 | 14 | B  |\n",
       "| 16 | 19 | 19 | B  |\n",
       "| 8.1 |  3 |  6 | B  |\n",
       "| 16.1 | 19 | 19 | B  |\n",
       "| 16.2 | 19 | 19 | B  |\n",
       "| 8.2 |  3 |  6 | B  |\n",
       "| 3 | 16 | 10 | B  |\n",
       "| 13.1 | 16 | 14 | B  |\n",
       "| 16.3 | 19 | 19 | B  |\n",
       "| 16.4 | 19 | 19 | B  |\n",
       "| 8.3 |  3 |  6 | B  |\n",
       "\n"
      ],
      "text/plain": [
       "     x1 x2 x3\n",
       "1     0 20 A \n",
       "2    12 12 A \n",
       "4    15  5 A \n",
       "5     5 15 A \n",
       "6     1  1 A \n",
       "7     2  2 A \n",
       "9     4  3 A \n",
       "10    8  4 A \n",
       "11    9 15 A \n",
       "12   15 13 A \n",
       "14   17 15 A \n",
       "15   18 18 A \n",
       "8     3  6 B \n",
       "13   16 14 B \n",
       "16   19 19 B \n",
       "8.1   3  6 B \n",
       "16.1 19 19 B \n",
       "16.2 19 19 B \n",
       "8.2   3  6 B \n",
       "3    16 10 B \n",
       "13.1 16 14 B \n",
       "16.3 19 19 B \n",
       "16.4 19 19 B \n",
       "8.3   3  6 B "
      ]
     },
     "metadata": {},
     "output_type": "display_data"
    },
    {
     "data": {
      "image/png": "[encoded data removed]",
      "text/plain": [
       "plot without title"
      ]
     },
     "metadata": {},
     "output_type": "display_data"
    }
   ],
   "source": [
    "data.b3 = data[c(sample.A, sample.B),]\n",
    "\n",
    "data.frame(number_of_A_observations=length(sample.A), number_of_B_observations=length(sample.B))\n",
    "data.b3\n",
    "ggplot(data.b3) + xlim(0,20) + ylim(0,20) + geom_jitter(aes(x=x1, y=x2, color=x3), size=1, na.rm=TRUE) + scale_color_manual(values=PALETTE)"
   ]
  },
  {
   "cell_type": "markdown",
   "metadata": {},
   "source": [
    "## Balancing by Downsampling + Bootstrapping"
   ]
  },
  {
   "cell_type": "code",
   "execution_count": 38,
   "metadata": {
    "hide_input": true
   },
   "outputs": [
    {
     "data": {
      "text/html": [
       "<ol class=list-inline>\n",
       "\t<li>1</li>\n",
       "\t<li>2</li>\n",
       "\t<li>4</li>\n",
       "\t<li>5</li>\n",
       "\t<li>6</li>\n",
       "\t<li>7</li>\n",
       "\t<li>9</li>\n",
       "\t<li>10</li>\n",
       "\t<li>11</li>\n",
       "\t<li>12</li>\n",
       "\t<li>14</li>\n",
       "\t<li>15</li>\n",
       "</ol>\n"
      ],
      "text/latex": [
       "\\begin{enumerate*}\n",
       "\\item 1\n",
       "\\item 2\n",
       "\\item 4\n",
       "\\item 5\n",
       "\\item 6\n",
       "\\item 7\n",
       "\\item 9\n",
       "\\item 10\n",
       "\\item 11\n",
       "\\item 12\n",
       "\\item 14\n",
       "\\item 15\n",
       "\\end{enumerate*}\n"
      ],
      "text/markdown": [
       "1. 1\n",
       "2. 2\n",
       "3. 4\n",
       "4. 5\n",
       "5. 6\n",
       "6. 7\n",
       "7. 9\n",
       "8. 10\n",
       "9. 11\n",
       "10. 12\n",
       "11. 14\n",
       "12. 15\n",
       "\n",
       "\n"
      ],
      "text/plain": [
       " [1]  1  2  4  5  6  7  9 10 11 12 14 15"
      ]
     },
     "metadata": {},
     "output_type": "display_data"
    },
    {
     "data": {
      "text/html": [
       "<ol class=list-inline>\n",
       "\t<li>3</li>\n",
       "\t<li>8</li>\n",
       "\t<li>13</li>\n",
       "\t<li>16</li>\n",
       "</ol>\n"
      ],
      "text/latex": [
       "\\begin{enumerate*}\n",
       "\\item 3\n",
       "\\item 8\n",
       "\\item 13\n",
       "\\item 16\n",
       "\\end{enumerate*}\n"
      ],
      "text/markdown": [
       "1. 3\n",
       "2. 8\n",
       "3. 13\n",
       "4. 16\n",
       "\n",
       "\n"
      ],
      "text/plain": [
       "[1]  3  8 13 16"
      ]
     },
     "metadata": {},
     "output_type": "display_data"
    },
    {
     "data": {
      "text/html": [
       "<ol class=list-inline>\n",
       "\t<li>4</li>\n",
       "\t<li>12</li>\n",
       "\t<li>10</li>\n",
       "\t<li>14</li>\n",
       "\t<li>2</li>\n",
       "\t<li>7</li>\n",
       "\t<li>15</li>\n",
       "\t<li>11</li>\n",
       "\t<li>3</li>\n",
       "\t<li>16</li>\n",
       "\t<li>16</li>\n",
       "\t<li>13</li>\n",
       "\t<li>8</li>\n",
       "\t<li>8</li>\n",
       "\t<li>3</li>\n",
       "\t<li>16</li>\n",
       "</ol>\n"
      ],
      "text/latex": [
       "\\begin{enumerate*}\n",
       "\\item 4\n",
       "\\item 12\n",
       "\\item 10\n",
       "\\item 14\n",
       "\\item 2\n",
       "\\item 7\n",
       "\\item 15\n",
       "\\item 11\n",
       "\\item 3\n",
       "\\item 16\n",
       "\\item 16\n",
       "\\item 13\n",
       "\\item 8\n",
       "\\item 8\n",
       "\\item 3\n",
       "\\item 16\n",
       "\\end{enumerate*}\n"
      ],
      "text/markdown": [
       "1. 4\n",
       "2. 12\n",
       "3. 10\n",
       "4. 14\n",
       "5. 2\n",
       "6. 7\n",
       "7. 15\n",
       "8. 11\n",
       "9. 3\n",
       "10. 16\n",
       "11. 16\n",
       "12. 13\n",
       "13. 8\n",
       "14. 8\n",
       "15. 3\n",
       "16. 16\n",
       "\n",
       "\n"
      ],
      "text/plain": [
       " [1]  4 12 10 14  2  7 15 11  3 16 16 13  8  8  3 16"
      ]
     },
     "metadata": {},
     "output_type": "display_data"
    }
   ],
   "source": [
    "set.seed(12345)\n",
    "\n",
    "which(data$x3==\"A\")\n",
    "which(data$x3==\"B\")\n",
    "\n",
    "sample.A = sample(which(data$x3==\"A\"), 8)\n",
    "sample.B = sample(which(data$x3==\"B\"), replace=TRUE, 8)\n",
    "c(sample.A, sample.B)"
   ]
  },
  {
   "cell_type": "code",
   "execution_count": 41,
   "metadata": {
    "hide_input": true
   },
   "outputs": [
    {
     "data": {
      "text/html": [
       "<table>\n",
       "<thead><tr><th scope=col>number_of_A_observations</th><th scope=col>number_of_B_observations</th></tr></thead>\n",
       "<tbody>\n",
       "\t<tr><td>8</td><td>8</td></tr>\n",
       "</tbody>\n",
       "</table>\n"
      ],
      "text/latex": [
       "\\begin{tabular}{r|ll}\n",
       " number\\_of\\_A\\_observations & number\\_of\\_B\\_observations\\\\\n",
       "\\hline\n",
       "\t 8 & 8\\\\\n",
       "\\end{tabular}\n"
      ],
      "text/markdown": [
       "\n",
       "| number_of_A_observations | number_of_B_observations |\n",
       "|---|---|\n",
       "| 8 | 8 |\n",
       "\n"
      ],
      "text/plain": [
       "  number_of_A_observations number_of_B_observations\n",
       "1 8                        8                       "
      ]
     },
     "metadata": {},
     "output_type": "display_data"
    },
    {
     "data": {
      "image/png": "[encoded data removed]",
      "text/plain": [
       "plot without title"
      ]
     },
     "metadata": {},
     "output_type": "display_data"
    }
   ],
   "source": [
    "data.b4 = data[c(sample.A, sample.B),]\n",
    "\n",
    "data.frame(number_of_A_observations=length(sample.A), number_of_B_observations=length(sample.B))\n",
    "\n",
    "ggplot(data.b4) + xlim(0,20) + ylim(0,20) + geom_jitter(aes(x=x1, y=x2, color=x3), size=1) + scale_color_manual(values=PALETTE)"
   ]
  },
  {
   "cell_type": "markdown",
   "metadata": {},
   "source": [
    "## Code"
   ]
  },
  {
   "cell_type": "markdown",
   "metadata": {},
   "source": [
    "### Useful Functions"
   ]
  },
  {
   "cell_type": "code",
   "execution_count": 6,
   "metadata": {},
   "outputs": [],
   "source": [
    "# help(rep)    # from base library\n",
    "# help(sample) # from base library\n",
    "# help(which)  # from base library"
   ]
  },
  {
   "cell_type": "markdown",
   "metadata": {},
   "source": [
    "### Templates"
   ]
  },
  {
   "cell_type": "code",
   "execution_count": 12,
   "metadata": {},
   "outputs": [
    {
     "data": {
      "text/html": [
       "<ol class=list-inline>\n",
       "\t<li>5</li>\n",
       "\t<li>6</li>\n",
       "\t<li>7</li>\n",
       "</ol>\n"
      ],
      "text/latex": [
       "\\begin{enumerate*}\n",
       "\\item 5\n",
       "\\item 6\n",
       "\\item 7\n",
       "\\end{enumerate*}\n"
      ],
      "text/markdown": [
       "1. 5\n",
       "2. 6\n",
       "3. 7\n",
       "\n",
       "\n"
      ],
      "text/plain": [
       "[1] 5 6 7"
      ]
     },
     "metadata": {},
     "output_type": "display_data"
    }
   ],
   "source": [
    "data = data.frame(x1=c(10,20,30,40,50,60,70))\n",
    "which(data$x1>40)"
   ]
  },
  {
   "cell_type": "code",
   "execution_count": 45,
   "metadata": {
    "scrolled": true
   },
   "outputs": [
    {
     "data": {
      "text/html": [
       "<ol class=list-inline>\n",
       "\t<li>14</li>\n",
       "\t<li>19</li>\n",
       "\t<li>16</li>\n",
       "\t<li>11</li>\n",
       "\t<li>18</li>\n",
       "\t<li>8</li>\n",
       "\t<li>2</li>\n",
       "\t<li>6</li>\n",
       "\t<li>17</li>\n",
       "\t<li>13</li>\n",
       "</ol>\n"
      ],
      "text/latex": [
       "\\begin{enumerate*}\n",
       "\\item 14\n",
       "\\item 19\n",
       "\\item 16\n",
       "\\item 11\n",
       "\\item 18\n",
       "\\item 8\n",
       "\\item 2\n",
       "\\item 6\n",
       "\\item 17\n",
       "\\item 13\n",
       "\\end{enumerate*}\n"
      ],
      "text/markdown": [
       "1. 14\n",
       "2. 19\n",
       "3. 16\n",
       "4. 11\n",
       "5. 18\n",
       "6. 8\n",
       "7. 2\n",
       "8. 6\n",
       "9. 17\n",
       "10. 13\n",
       "\n",
       "\n"
      ],
      "text/plain": [
       " [1] 14 19 16 11 18  8  2  6 17 13"
      ]
     },
     "metadata": {},
     "output_type": "display_data"
    }
   ],
   "source": [
    "set.seed(12345)\n",
    "\n",
    "sample(1:20, 10)"
   ]
  },
  {
   "cell_type": "code",
   "execution_count": 46,
   "metadata": {},
   "outputs": [
    {
     "data": {
      "text/html": [
       "<ol class=list-inline>\n",
       "\t<li>14</li>\n",
       "\t<li>19</li>\n",
       "\t<li>16</li>\n",
       "\t<li>11</li>\n",
       "\t<li>2</li>\n",
       "\t<li>11</li>\n",
       "\t<li>6</li>\n",
       "\t<li>7</li>\n",
       "\t<li>10</li>\n",
       "\t<li>17</li>\n",
       "</ol>\n"
      ],
      "text/latex": [
       "\\begin{enumerate*}\n",
       "\\item 14\n",
       "\\item 19\n",
       "\\item 16\n",
       "\\item 11\n",
       "\\item 2\n",
       "\\item 11\n",
       "\\item 6\n",
       "\\item 7\n",
       "\\item 10\n",
       "\\item 17\n",
       "\\end{enumerate*}\n"
      ],
      "text/markdown": [
       "1. 14\n",
       "2. 19\n",
       "3. 16\n",
       "4. 11\n",
       "5. 2\n",
       "6. 11\n",
       "7. 6\n",
       "8. 7\n",
       "9. 10\n",
       "10. 17\n",
       "\n",
       "\n"
      ],
      "text/plain": [
       " [1] 14 19 16 11  2 11  6  7 10 17"
      ]
     },
     "metadata": {},
     "output_type": "display_data"
    }
   ],
   "source": [
    "set.seed(12345)\n",
    "\n",
    "sample(1:20, replace=TRUE, 10)"
   ]
  },
  {
   "cell_type": "markdown",
   "metadata": {},
   "source": [
    "## Expectations\n",
    "\n",
    "Know about this:\n",
    "* How to balance a dataset, conceptually & using R"
   ]
  },
  {
   "cell_type": "markdown",
   "metadata": {},
   "source": [
    "## Further Reading\n",
    "\n",
    "Further reading coming soon ..."
   ]
  },
  {
   "cell_type": "markdown",
   "metadata": {},
   "source": [
    "<p style=\"text-align:left; font-size:10px;\">\n",
    "Copyright (c) Berkeley Data Analytics Group, LLC\n",
    "<span style=\"float:right;\">\n",
    "Document revised July 17, 2020\n",
    "</span>\n",
    "</p>"
   ]
  }
 ],
 "metadata": {
  "hide_code_all_hidden": false,
  "hide_input": false,
  "kernelspec": {
   "display_name": "R",
   "language": "R",
   "name": "ir"
  },
  "language_info": {
   "codemirror_mode": "r",
   "file_extension": ".r",
   "mimetype": "text/x-r-source",
   "name": "R",
   "pygments_lexer": "r",
   "version": "3.6.1"
  },
  "toc": {
   "base_numbering": 1,
   "nav_menu": {},
   "number_sections": true,
   "sideBar": true,
   "skip_h1_title": true,
   "title_cell": "Table of Contents",
   "title_sidebar": "Contents",
   "toc_cell": false,
   "toc_position": {},
   "toc_section_display": true,
   "toc_window_display": false
  }
 },
 "nbformat": 4,
 "nbformat_minor": 2
}
