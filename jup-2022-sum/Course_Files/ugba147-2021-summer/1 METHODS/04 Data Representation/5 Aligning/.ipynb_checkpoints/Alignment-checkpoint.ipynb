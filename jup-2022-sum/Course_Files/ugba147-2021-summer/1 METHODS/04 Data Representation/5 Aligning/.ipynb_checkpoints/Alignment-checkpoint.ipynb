{
 "cells": [
  {
   "cell_type": "markdown",
   "metadata": {
    "hideCode": false,
    "hidePrompt": false
   },
   "source": [
    "# Alignment\n",
    "\n",
    "![](banner_alignment.jpg)"
   ]
  },
  {
   "cell_type": "code",
   "execution_count": 1,
   "metadata": {
    "hide_input": true
   },
   "outputs": [
    {
     "name": "stdout",
     "output_type": "stream",
     "text": [
      "Open code cell here for notebook apparatus."
     ]
    }
   ],
   "source": [
    "cat(\"Open code cell here for notebook apparatus.\")\n",
    "\n",
    "options(warn=-1)\n",
    "\n",
    "# Load some required functions\n",
    "library(lubridate, verbose=FALSE, warn.conflicts=FALSE, quietly=TRUE)"
   ]
  },
  {
   "cell_type": "markdown",
   "metadata": {},
   "source": [
    "## Introduction"
   ]
  },
  {
   "cell_type": "markdown",
   "metadata": {},
   "source": [
    "Text, text ..."
   ]
  },
  {
   "cell_type": "markdown",
   "metadata": {},
   "source": [
    "## Discourse"
   ]
  },
  {
   "cell_type": "markdown",
   "metadata": {
    "hide_input": false
   },
   "source": [
    "### Data"
   ]
  },
  {
   "cell_type": "markdown",
   "metadata": {},
   "source": [
    "Consider this pedagogical data.  Variables x1 and x2 are aligned at the same resolution."
   ]
  },
  {
   "cell_type": "code",
   "execution_count": 14,
   "metadata": {
    "hideCode": false,
    "hidePrompt": false,
    "hide_input": true,
    "run_control": {
     "marked": false
    }
   },
   "outputs": [
    {
     "data": {
      "text/html": [
       "<table>\n",
       "<thead><tr><th scope=col>date</th><th scope=col>x1</th><th scope=col>x2</th></tr></thead>\n",
       "<tbody>\n",
       "\t<tr><td>2017-12-30</td><td>1000      </td><td>72        </td></tr>\n",
       "\t<tr><td>2017-12-31</td><td>1100      </td><td>86        </td></tr>\n",
       "\t<tr><td>2018-01-01</td><td> 900      </td><td>76        </td></tr>\n",
       "\t<tr><td>2018-01-02</td><td> 950      </td><td>80        </td></tr>\n",
       "\t<tr><td>2018-01-03</td><td> 800      </td><td>82        </td></tr>\n",
       "\t<tr><td>2018-01-04</td><td>1050      </td><td>74        </td></tr>\n",
       "</tbody>\n",
       "</table>\n"
      ],
      "text/latex": [
       "\\begin{tabular}{r|lll}\n",
       " date & x1 & x2\\\\\n",
       "\\hline\n",
       "\t 2017-12-30 & 1000       & 72        \\\\\n",
       "\t 2017-12-31 & 1100       & 86        \\\\\n",
       "\t 2018-01-01 &  900       & 76        \\\\\n",
       "\t 2018-01-02 &  950       & 80        \\\\\n",
       "\t 2018-01-03 &  800       & 82        \\\\\n",
       "\t 2018-01-04 & 1050       & 74        \\\\\n",
       "\\end{tabular}\n"
      ],
      "text/markdown": [
       "\n",
       "date | x1 | x2 | \n",
       "|---|---|---|---|---|---|\n",
       "| 2017-12-30 | 1000       | 72         | \n",
       "| 2017-12-31 | 1100       | 86         | \n",
       "| 2018-01-01 |  900       | 76         | \n",
       "| 2018-01-02 |  950       | 80         | \n",
       "| 2018-01-03 |  800       | 82         | \n",
       "| 2018-01-04 | 1050       | 74         | \n",
       "\n",
       "\n"
      ],
      "text/plain": [
       "  date       x1   x2\n",
       "1 2017-12-30 1000 72\n",
       "2 2017-12-31 1100 86\n",
       "3 2018-01-01  900 76\n",
       "4 2018-01-02  950 80\n",
       "5 2018-01-03  800 82\n",
       "6 2018-01-04 1050 74"
      ]
     },
     "metadata": {},
     "output_type": "display_data"
    }
   ],
   "source": [
    "data = data.frame(date=ymd(c(\"2017-12-30\",\"2017-12-31\",\"2018-01-01\",\"2018-01-02\",\"2018-01-03\",\"2018-01-04\")),\n",
    "                  x1=c(1000, 1100, 900, 950, 800, 1050),\n",
    "                  x2=c(72, 86, 76, 80, 82, 74))\n",
    "data"
   ]
  },
  {
   "cell_type": "markdown",
   "metadata": {},
   "source": [
    "The consider this pedagogical data.  Variables x1 and x2 are not aligned at the same resolution.  x1 is relatively coarse resolution.  x2 is relatively fine resolution."
   ]
  },
  {
   "cell_type": "code",
   "execution_count": 15,
   "metadata": {
    "hide_input": true
   },
   "outputs": [
    {
     "data": {
      "text/html": [
       "<table>\n",
       "<thead><tr><th scope=col>date</th><th scope=col>x1</th></tr></thead>\n",
       "<tbody>\n",
       "\t<tr><td>2017-12-30</td><td>1000      </td></tr>\n",
       "\t<tr><td>2017-12-31</td><td>1100      </td></tr>\n",
       "\t<tr><td>2018-01-01</td><td> 900      </td></tr>\n",
       "\t<tr><td>2018-01-02</td><td> 950      </td></tr>\n",
       "\t<tr><td>2018-01-03</td><td> 800      </td></tr>\n",
       "\t<tr><td>2018-01-04</td><td>1050      </td></tr>\n",
       "</tbody>\n",
       "</table>\n"
      ],
      "text/latex": [
       "\\begin{tabular}{r|ll}\n",
       " date & x1\\\\\n",
       "\\hline\n",
       "\t 2017-12-30 & 1000      \\\\\n",
       "\t 2017-12-31 & 1100      \\\\\n",
       "\t 2018-01-01 &  900      \\\\\n",
       "\t 2018-01-02 &  950      \\\\\n",
       "\t 2018-01-03 &  800      \\\\\n",
       "\t 2018-01-04 & 1050      \\\\\n",
       "\\end{tabular}\n"
      ],
      "text/markdown": [
       "\n",
       "date | x1 | \n",
       "|---|---|---|---|---|---|\n",
       "| 2017-12-30 | 1000       | \n",
       "| 2017-12-31 | 1100       | \n",
       "| 2018-01-01 |  900       | \n",
       "| 2018-01-02 |  950       | \n",
       "| 2018-01-03 |  800       | \n",
       "| 2018-01-04 | 1050       | \n",
       "\n",
       "\n"
      ],
      "text/plain": [
       "  date       x1  \n",
       "1 2017-12-30 1000\n",
       "2 2017-12-31 1100\n",
       "3 2018-01-01  900\n",
       "4 2018-01-02  950\n",
       "5 2018-01-03  800\n",
       "6 2018-01-04 1050"
      ]
     },
     "metadata": {},
     "output_type": "display_data"
    },
    {
     "data": {
      "text/html": [
       "<table>\n",
       "<thead><tr><th scope=col>date</th><th scope=col>x2</th></tr></thead>\n",
       "<tbody>\n",
       "\t<tr><td>2017-12-30 00:00:00</td><td>72                 </td></tr>\n",
       "\t<tr><td>2017-12-30 12:00:00</td><td>56                 </td></tr>\n",
       "\t<tr><td>2017-12-31 00:00:00</td><td>86                 </td></tr>\n",
       "\t<tr><td>2017-12-31 12:00:00</td><td>60                 </td></tr>\n",
       "\t<tr><td>2018-01-01 00:00:00</td><td>76                 </td></tr>\n",
       "\t<tr><td>2018-01-01 12:00:00</td><td>63                 </td></tr>\n",
       "\t<tr><td>2018-01-02 00:00:00</td><td>80                 </td></tr>\n",
       "\t<tr><td>2018-01-02 12:00:00</td><td>68                 </td></tr>\n",
       "\t<tr><td>2018-01-03 00:00:00</td><td>82                 </td></tr>\n",
       "\t<tr><td>2018-01-03 12:00:00</td><td>59                 </td></tr>\n",
       "\t<tr><td>2018-01-04 00:00:00</td><td>74                 </td></tr>\n",
       "\t<tr><td>2018-01-04 12:00:00</td><td>61                 </td></tr>\n",
       "</tbody>\n",
       "</table>\n"
      ],
      "text/latex": [
       "\\begin{tabular}{r|ll}\n",
       " date & x2\\\\\n",
       "\\hline\n",
       "\t 2017-12-30 00:00:00 & 72                 \\\\\n",
       "\t 2017-12-30 12:00:00 & 56                 \\\\\n",
       "\t 2017-12-31 00:00:00 & 86                 \\\\\n",
       "\t 2017-12-31 12:00:00 & 60                 \\\\\n",
       "\t 2018-01-01 00:00:00 & 76                 \\\\\n",
       "\t 2018-01-01 12:00:00 & 63                 \\\\\n",
       "\t 2018-01-02 00:00:00 & 80                 \\\\\n",
       "\t 2018-01-02 12:00:00 & 68                 \\\\\n",
       "\t 2018-01-03 00:00:00 & 82                 \\\\\n",
       "\t 2018-01-03 12:00:00 & 59                 \\\\\n",
       "\t 2018-01-04 00:00:00 & 74                 \\\\\n",
       "\t 2018-01-04 12:00:00 & 61                 \\\\\n",
       "\\end{tabular}\n"
      ],
      "text/markdown": [
       "\n",
       "date | x2 | \n",
       "|---|---|---|---|---|---|---|---|---|---|---|---|\n",
       "| 2017-12-30 00:00:00 | 72                  | \n",
       "| 2017-12-30 12:00:00 | 56                  | \n",
       "| 2017-12-31 00:00:00 | 86                  | \n",
       "| 2017-12-31 12:00:00 | 60                  | \n",
       "| 2018-01-01 00:00:00 | 76                  | \n",
       "| 2018-01-01 12:00:00 | 63                  | \n",
       "| 2018-01-02 00:00:00 | 80                  | \n",
       "| 2018-01-02 12:00:00 | 68                  | \n",
       "| 2018-01-03 00:00:00 | 82                  | \n",
       "| 2018-01-03 12:00:00 | 59                  | \n",
       "| 2018-01-04 00:00:00 | 74                  | \n",
       "| 2018-01-04 12:00:00 | 61                  | \n",
       "\n",
       "\n"
      ],
      "text/plain": [
       "   date                x2\n",
       "1  2017-12-30 00:00:00 72\n",
       "2  2017-12-30 12:00:00 56\n",
       "3  2017-12-31 00:00:00 86\n",
       "4  2017-12-31 12:00:00 60\n",
       "5  2018-01-01 00:00:00 76\n",
       "6  2018-01-01 12:00:00 63\n",
       "7  2018-01-02 00:00:00 80\n",
       "8  2018-01-02 12:00:00 68\n",
       "9  2018-01-03 00:00:00 82\n",
       "10 2018-01-03 12:00:00 59\n",
       "11 2018-01-04 00:00:00 74\n",
       "12 2018-01-04 12:00:00 61"
      ]
     },
     "metadata": {},
     "output_type": "display_data"
    }
   ],
   "source": [
    "data.1 = data.frame(date=ymd(c(\"2017-12-30\",\"2017-12-31\",\"2018-01-01\",\"2018-01-02\",\"2018-01-03\",\"2018-01-04\")),\n",
    "                    x1=c(1000, 1100, 900, 950, 800, 1050))\n",
    "\n",
    "data.2 = data.frame(date=ymd_h(c(\"2017-12-30 00\",\"2017-12-30 12\",\"2017-12-31 00\",\"2017-12-31 12\",\"2018-01-01 00\",\"2018-01-01 12\",\"2018-01-02 00\",\"2018-01-02 12\",\"2018-01-03 00\",\"2018-01-03 12\",\"2018-01-04 00\",\"2018-01-04 12\")),\n",
    "                    x2=c(72, 56, 86, 60, 76, 63, 80, 68, 82, 59, 74, 61))\n",
    "data.1\n",
    "data.2"
   ]
  },
  {
   "cell_type": "markdown",
   "metadata": {},
   "source": [
    "### Align Variables by Compression"
   ]
  },
  {
   "cell_type": "markdown",
   "metadata": {},
   "source": [
    "Mark observations with sequence numbers.  The finer resolution table will adopt the coarser resolution table's sequence numbers, repeating as necessary."
   ]
  },
  {
   "cell_type": "code",
   "execution_count": 16,
   "metadata": {
    "hide_input": true
   },
   "outputs": [
    {
     "data": {
      "text/html": [
       "<table>\n",
       "<thead><tr><th scope=col>date</th><th scope=col>x1</th><th scope=col>step</th></tr></thead>\n",
       "<tbody>\n",
       "\t<tr><td>2017-12-30</td><td>1000      </td><td>1         </td></tr>\n",
       "\t<tr><td>2017-12-31</td><td>1100      </td><td>2         </td></tr>\n",
       "\t<tr><td>2018-01-01</td><td> 900      </td><td>3         </td></tr>\n",
       "\t<tr><td>2018-01-02</td><td> 950      </td><td>4         </td></tr>\n",
       "\t<tr><td>2018-01-03</td><td> 800      </td><td>5         </td></tr>\n",
       "\t<tr><td>2018-01-04</td><td>1050      </td><td>6         </td></tr>\n",
       "</tbody>\n",
       "</table>\n"
      ],
      "text/latex": [
       "\\begin{tabular}{r|lll}\n",
       " date & x1 & step\\\\\n",
       "\\hline\n",
       "\t 2017-12-30 & 1000       & 1         \\\\\n",
       "\t 2017-12-31 & 1100       & 2         \\\\\n",
       "\t 2018-01-01 &  900       & 3         \\\\\n",
       "\t 2018-01-02 &  950       & 4         \\\\\n",
       "\t 2018-01-03 &  800       & 5         \\\\\n",
       "\t 2018-01-04 & 1050       & 6         \\\\\n",
       "\\end{tabular}\n"
      ],
      "text/markdown": [
       "\n",
       "date | x1 | step | \n",
       "|---|---|---|---|---|---|\n",
       "| 2017-12-30 | 1000       | 1          | \n",
       "| 2017-12-31 | 1100       | 2          | \n",
       "| 2018-01-01 |  900       | 3          | \n",
       "| 2018-01-02 |  950       | 4          | \n",
       "| 2018-01-03 |  800       | 5          | \n",
       "| 2018-01-04 | 1050       | 6          | \n",
       "\n",
       "\n"
      ],
      "text/plain": [
       "  date       x1   step\n",
       "1 2017-12-30 1000 1   \n",
       "2 2017-12-31 1100 2   \n",
       "3 2018-01-01  900 3   \n",
       "4 2018-01-02  950 4   \n",
       "5 2018-01-03  800 5   \n",
       "6 2018-01-04 1050 6   "
      ]
     },
     "metadata": {},
     "output_type": "display_data"
    }
   ],
   "source": [
    "data.1$step = 1:nrow(data.1)\n",
    "data.1"
   ]
  },
  {
   "cell_type": "code",
   "execution_count": 20,
   "metadata": {
    "hide_input": true
   },
   "outputs": [
    {
     "data": {
      "text/html": [
       "<ol class=list-inline>\n",
       "\t<li>1</li>\n",
       "\t<li>2</li>\n",
       "\t<li>3</li>\n",
       "\t<li>4</li>\n",
       "\t<li>5</li>\n",
       "\t<li>6</li>\n",
       "</ol>\n"
      ],
      "text/latex": [
       "\\begin{enumerate*}\n",
       "\\item 1\n",
       "\\item 2\n",
       "\\item 3\n",
       "\\item 4\n",
       "\\item 5\n",
       "\\item 6\n",
       "\\end{enumerate*}\n"
      ],
      "text/markdown": [
       "1. 1\n",
       "2. 2\n",
       "3. 3\n",
       "4. 4\n",
       "5. 5\n",
       "6. 6\n",
       "\n",
       "\n"
      ],
      "text/plain": [
       "[1] 1 2 3 4 5 6"
      ]
     },
     "metadata": {},
     "output_type": "display_data"
    },
    {
     "data": {
      "text/html": [
       "<ol class=list-inline>\n",
       "\t<li>1</li>\n",
       "\t<li>1</li>\n",
       "\t<li>2</li>\n",
       "\t<li>2</li>\n",
       "\t<li>3</li>\n",
       "\t<li>3</li>\n",
       "\t<li>4</li>\n",
       "\t<li>4</li>\n",
       "\t<li>5</li>\n",
       "\t<li>5</li>\n",
       "\t<li>6</li>\n",
       "\t<li>6</li>\n",
       "</ol>\n"
      ],
      "text/latex": [
       "\\begin{enumerate*}\n",
       "\\item 1\n",
       "\\item 1\n",
       "\\item 2\n",
       "\\item 2\n",
       "\\item 3\n",
       "\\item 3\n",
       "\\item 4\n",
       "\\item 4\n",
       "\\item 5\n",
       "\\item 5\n",
       "\\item 6\n",
       "\\item 6\n",
       "\\end{enumerate*}\n"
      ],
      "text/markdown": [
       "1. 1\n",
       "2. 1\n",
       "3. 2\n",
       "4. 2\n",
       "5. 3\n",
       "6. 3\n",
       "7. 4\n",
       "8. 4\n",
       "9. 5\n",
       "10. 5\n",
       "11. 6\n",
       "12. 6\n",
       "\n",
       "\n"
      ],
      "text/plain": [
       " [1] 1 1 2 2 3 3 4 4 5 5 6 6"
      ]
     },
     "metadata": {},
     "output_type": "display_data"
    },
    {
     "data": {
      "text/html": [
       "<table>\n",
       "<thead><tr><th scope=col>date</th><th scope=col>x2</th><th scope=col>step</th></tr></thead>\n",
       "<tbody>\n",
       "\t<tr><td>2017-12-30 00:00:00</td><td>72                 </td><td>1                  </td></tr>\n",
       "\t<tr><td>2017-12-30 12:00:00</td><td>56                 </td><td>1                  </td></tr>\n",
       "\t<tr><td>2017-12-31 00:00:00</td><td>86                 </td><td>2                  </td></tr>\n",
       "\t<tr><td>2017-12-31 12:00:00</td><td>60                 </td><td>2                  </td></tr>\n",
       "\t<tr><td>2018-01-01 00:00:00</td><td>76                 </td><td>3                  </td></tr>\n",
       "\t<tr><td>2018-01-01 12:00:00</td><td>63                 </td><td>3                  </td></tr>\n",
       "\t<tr><td>2018-01-02 00:00:00</td><td>80                 </td><td>4                  </td></tr>\n",
       "\t<tr><td>2018-01-02 12:00:00</td><td>68                 </td><td>4                  </td></tr>\n",
       "\t<tr><td>2018-01-03 00:00:00</td><td>82                 </td><td>5                  </td></tr>\n",
       "\t<tr><td>2018-01-03 12:00:00</td><td>59                 </td><td>5                  </td></tr>\n",
       "\t<tr><td>2018-01-04 00:00:00</td><td>74                 </td><td>6                  </td></tr>\n",
       "\t<tr><td>2018-01-04 12:00:00</td><td>61                 </td><td>6                  </td></tr>\n",
       "</tbody>\n",
       "</table>\n"
      ],
      "text/latex": [
       "\\begin{tabular}{r|lll}\n",
       " date & x2 & step\\\\\n",
       "\\hline\n",
       "\t 2017-12-30 00:00:00 & 72                  & 1                  \\\\\n",
       "\t 2017-12-30 12:00:00 & 56                  & 1                  \\\\\n",
       "\t 2017-12-31 00:00:00 & 86                  & 2                  \\\\\n",
       "\t 2017-12-31 12:00:00 & 60                  & 2                  \\\\\n",
       "\t 2018-01-01 00:00:00 & 76                  & 3                  \\\\\n",
       "\t 2018-01-01 12:00:00 & 63                  & 3                  \\\\\n",
       "\t 2018-01-02 00:00:00 & 80                  & 4                  \\\\\n",
       "\t 2018-01-02 12:00:00 & 68                  & 4                  \\\\\n",
       "\t 2018-01-03 00:00:00 & 82                  & 5                  \\\\\n",
       "\t 2018-01-03 12:00:00 & 59                  & 5                  \\\\\n",
       "\t 2018-01-04 00:00:00 & 74                  & 6                  \\\\\n",
       "\t 2018-01-04 12:00:00 & 61                  & 6                  \\\\\n",
       "\\end{tabular}\n"
      ],
      "text/markdown": [
       "\n",
       "date | x2 | step | \n",
       "|---|---|---|---|---|---|---|---|---|---|---|---|\n",
       "| 2017-12-30 00:00:00 | 72                  | 1                   | \n",
       "| 2017-12-30 12:00:00 | 56                  | 1                   | \n",
       "| 2017-12-31 00:00:00 | 86                  | 2                   | \n",
       "| 2017-12-31 12:00:00 | 60                  | 2                   | \n",
       "| 2018-01-01 00:00:00 | 76                  | 3                   | \n",
       "| 2018-01-01 12:00:00 | 63                  | 3                   | \n",
       "| 2018-01-02 00:00:00 | 80                  | 4                   | \n",
       "| 2018-01-02 12:00:00 | 68                  | 4                   | \n",
       "| 2018-01-03 00:00:00 | 82                  | 5                   | \n",
       "| 2018-01-03 12:00:00 | 59                  | 5                   | \n",
       "| 2018-01-04 00:00:00 | 74                  | 6                   | \n",
       "| 2018-01-04 12:00:00 | 61                  | 6                   | \n",
       "\n",
       "\n"
      ],
      "text/plain": [
       "   date                x2 step\n",
       "1  2017-12-30 00:00:00 72 1   \n",
       "2  2017-12-30 12:00:00 56 1   \n",
       "3  2017-12-31 00:00:00 86 2   \n",
       "4  2017-12-31 12:00:00 60 2   \n",
       "5  2018-01-01 00:00:00 76 3   \n",
       "6  2018-01-01 12:00:00 63 3   \n",
       "7  2018-01-02 00:00:00 80 4   \n",
       "8  2018-01-02 12:00:00 68 4   \n",
       "9  2018-01-03 00:00:00 82 5   \n",
       "10 2018-01-03 12:00:00 59 5   \n",
       "11 2018-01-04 00:00:00 74 6   \n",
       "12 2018-01-04 12:00:00 61 6   "
      ]
     },
     "metadata": {},
     "output_type": "display_data"
    }
   ],
   "source": [
    "1:nrow(data.1)\n",
    "sort(rep(1:nrow(data.1), 2))\n",
    "\n",
    "data.2$step = sort(rep(1:nrow(data.1), 2))\n",
    "data.2"
   ]
  },
  {
   "cell_type": "markdown",
   "metadata": {},
   "source": [
    "Consolidate observations.  Choose an aggregator function that makes sense for the variable(s)."
   ]
  },
  {
   "cell_type": "code",
   "execution_count": 21,
   "metadata": {
    "hide_input": true
   },
   "outputs": [
    {
     "data": {
      "text/html": [
       "<table>\n",
       "<thead><tr><th scope=col>step</th><th scope=col>x2</th></tr></thead>\n",
       "<tbody>\n",
       "\t<tr><td>1   </td><td>64.0</td></tr>\n",
       "\t<tr><td>2   </td><td>73.0</td></tr>\n",
       "\t<tr><td>3   </td><td>69.5</td></tr>\n",
       "\t<tr><td>4   </td><td>74.0</td></tr>\n",
       "\t<tr><td>5   </td><td>70.5</td></tr>\n",
       "\t<tr><td>6   </td><td>67.5</td></tr>\n",
       "</tbody>\n",
       "</table>\n"
      ],
      "text/latex": [
       "\\begin{tabular}{r|ll}\n",
       " step & x2\\\\\n",
       "\\hline\n",
       "\t 1    & 64.0\\\\\n",
       "\t 2    & 73.0\\\\\n",
       "\t 3    & 69.5\\\\\n",
       "\t 4    & 74.0\\\\\n",
       "\t 5    & 70.5\\\\\n",
       "\t 6    & 67.5\\\\\n",
       "\\end{tabular}\n"
      ],
      "text/markdown": [
       "\n",
       "step | x2 | \n",
       "|---|---|---|---|---|---|\n",
       "| 1    | 64.0 | \n",
       "| 2    | 73.0 | \n",
       "| 3    | 69.5 | \n",
       "| 4    | 74.0 | \n",
       "| 5    | 70.5 | \n",
       "| 6    | 67.5 | \n",
       "\n",
       "\n"
      ],
      "text/plain": [
       "  step x2  \n",
       "1 1    64.0\n",
       "2 2    73.0\n",
       "3 3    69.5\n",
       "4 4    74.0\n",
       "5 5    70.5\n",
       "6 6    67.5"
      ]
     },
     "metadata": {},
     "output_type": "display_data"
    }
   ],
   "source": [
    "data.2.consolidated = aggregate(x2 ~ step, data.2, mean)\n",
    "data.2.consolidated"
   ]
  },
  {
   "cell_type": "markdown",
   "metadata": {},
   "source": [
    "Join the tables."
   ]
  },
  {
   "cell_type": "code",
   "execution_count": 22,
   "metadata": {
    "hide_input": true
   },
   "outputs": [
    {
     "data": {
      "text/html": [
       "<table>\n",
       "<thead><tr><th scope=col>date</th><th scope=col>x1</th><th scope=col>x2</th></tr></thead>\n",
       "<tbody>\n",
       "\t<tr><td>2017-12-30</td><td>1000      </td><td>64.0      </td></tr>\n",
       "\t<tr><td>2017-12-31</td><td>1100      </td><td>73.0      </td></tr>\n",
       "\t<tr><td>2018-01-01</td><td> 900      </td><td>69.5      </td></tr>\n",
       "\t<tr><td>2018-01-02</td><td> 950      </td><td>74.0      </td></tr>\n",
       "\t<tr><td>2018-01-03</td><td> 800      </td><td>70.5      </td></tr>\n",
       "\t<tr><td>2018-01-04</td><td>1050      </td><td>67.5      </td></tr>\n",
       "</tbody>\n",
       "</table>\n"
      ],
      "text/latex": [
       "\\begin{tabular}{r|lll}\n",
       " date & x1 & x2\\\\\n",
       "\\hline\n",
       "\t 2017-12-30 & 1000       & 64.0      \\\\\n",
       "\t 2017-12-31 & 1100       & 73.0      \\\\\n",
       "\t 2018-01-01 &  900       & 69.5      \\\\\n",
       "\t 2018-01-02 &  950       & 74.0      \\\\\n",
       "\t 2018-01-03 &  800       & 70.5      \\\\\n",
       "\t 2018-01-04 & 1050       & 67.5      \\\\\n",
       "\\end{tabular}\n"
      ],
      "text/markdown": [
       "\n",
       "date | x1 | x2 | \n",
       "|---|---|---|---|---|---|\n",
       "| 2017-12-30 | 1000       | 64.0       | \n",
       "| 2017-12-31 | 1100       | 73.0       | \n",
       "| 2018-01-01 |  900       | 69.5       | \n",
       "| 2018-01-02 |  950       | 74.0       | \n",
       "| 2018-01-03 |  800       | 70.5       | \n",
       "| 2018-01-04 | 1050       | 67.5       | \n",
       "\n",
       "\n"
      ],
      "text/plain": [
       "  date       x1   x2  \n",
       "1 2017-12-30 1000 64.0\n",
       "2 2017-12-31 1100 73.0\n",
       "3 2018-01-01  900 69.5\n",
       "4 2018-01-02  950 74.0\n",
       "5 2018-01-03  800 70.5\n",
       "6 2018-01-04 1050 67.5"
      ]
     },
     "metadata": {},
     "output_type": "display_data"
    }
   ],
   "source": [
    "merge(data.1, data.2.consolidated, by=\"step\")[,-1]"
   ]
  },
  {
   "cell_type": "markdown",
   "metadata": {},
   "source": [
    "### Align Variables by Expansion"
   ]
  },
  {
   "cell_type": "markdown",
   "metadata": {},
   "source": [
    "Expand observations, repeating as necessary.  Mark observations with sequence numbers.  The coarser resolution table will adopt the finer resolution table's sequence numbers."
   ]
  },
  {
   "cell_type": "code",
   "execution_count": 23,
   "metadata": {
    "hide_input": true
   },
   "outputs": [
    {
     "data": {
      "text/html": [
       "<ol class=list-inline>\n",
       "\t<li>1</li>\n",
       "\t<li>2</li>\n",
       "\t<li>3</li>\n",
       "\t<li>4</li>\n",
       "\t<li>5</li>\n",
       "\t<li>6</li>\n",
       "</ol>\n"
      ],
      "text/latex": [
       "\\begin{enumerate*}\n",
       "\\item 1\n",
       "\\item 2\n",
       "\\item 3\n",
       "\\item 4\n",
       "\\item 5\n",
       "\\item 6\n",
       "\\end{enumerate*}\n"
      ],
      "text/markdown": [
       "1. 1\n",
       "2. 2\n",
       "3. 3\n",
       "4. 4\n",
       "5. 5\n",
       "6. 6\n",
       "\n",
       "\n"
      ],
      "text/plain": [
       "[1] 1 2 3 4 5 6"
      ]
     },
     "metadata": {},
     "output_type": "display_data"
    },
    {
     "data": {
      "text/html": [
       "<ol class=list-inline>\n",
       "\t<li>1</li>\n",
       "\t<li>1</li>\n",
       "\t<li>2</li>\n",
       "\t<li>2</li>\n",
       "\t<li>3</li>\n",
       "\t<li>3</li>\n",
       "\t<li>4</li>\n",
       "\t<li>4</li>\n",
       "\t<li>5</li>\n",
       "\t<li>5</li>\n",
       "\t<li>6</li>\n",
       "\t<li>6</li>\n",
       "</ol>\n"
      ],
      "text/latex": [
       "\\begin{enumerate*}\n",
       "\\item 1\n",
       "\\item 1\n",
       "\\item 2\n",
       "\\item 2\n",
       "\\item 3\n",
       "\\item 3\n",
       "\\item 4\n",
       "\\item 4\n",
       "\\item 5\n",
       "\\item 5\n",
       "\\item 6\n",
       "\\item 6\n",
       "\\end{enumerate*}\n"
      ],
      "text/markdown": [
       "1. 1\n",
       "2. 1\n",
       "3. 2\n",
       "4. 2\n",
       "5. 3\n",
       "6. 3\n",
       "7. 4\n",
       "8. 4\n",
       "9. 5\n",
       "10. 5\n",
       "11. 6\n",
       "12. 6\n",
       "\n",
       "\n"
      ],
      "text/plain": [
       " [1] 1 1 2 2 3 3 4 4 5 5 6 6"
      ]
     },
     "metadata": {},
     "output_type": "display_data"
    }
   ],
   "source": [
    "1:nrow(data.1)\n",
    "sort(rep(1:nrow(data.1), 2))"
   ]
  },
  {
   "cell_type": "code",
   "execution_count": 24,
   "metadata": {
    "hide_input": true
   },
   "outputs": [
    {
     "data": {
      "text/html": [
       "<table>\n",
       "<thead><tr><th></th><th scope=col>date</th><th scope=col>x1</th><th scope=col>step</th></tr></thead>\n",
       "<tbody>\n",
       "\t<tr><th scope=row>1</th><td>2017-12-30</td><td>1000      </td><td> 1        </td></tr>\n",
       "\t<tr><th scope=row>1.1</th><td>2017-12-30</td><td>1000      </td><td> 2        </td></tr>\n",
       "\t<tr><th scope=row>2</th><td>2017-12-31</td><td>1100      </td><td> 3        </td></tr>\n",
       "\t<tr><th scope=row>2.1</th><td>2017-12-31</td><td>1100      </td><td> 4        </td></tr>\n",
       "\t<tr><th scope=row>3</th><td>2018-01-01</td><td> 900      </td><td> 5        </td></tr>\n",
       "\t<tr><th scope=row>3.1</th><td>2018-01-01</td><td> 900      </td><td> 6        </td></tr>\n",
       "\t<tr><th scope=row>4</th><td>2018-01-02</td><td> 950      </td><td> 7        </td></tr>\n",
       "\t<tr><th scope=row>4.1</th><td>2018-01-02</td><td> 950      </td><td> 8        </td></tr>\n",
       "\t<tr><th scope=row>5</th><td>2018-01-03</td><td> 800      </td><td> 9        </td></tr>\n",
       "\t<tr><th scope=row>5.1</th><td>2018-01-03</td><td> 800      </td><td>10        </td></tr>\n",
       "\t<tr><th scope=row>6</th><td>2018-01-04</td><td>1050      </td><td>11        </td></tr>\n",
       "\t<tr><th scope=row>6.1</th><td>2018-01-04</td><td>1050      </td><td>12        </td></tr>\n",
       "</tbody>\n",
       "</table>\n"
      ],
      "text/latex": [
       "\\begin{tabular}{r|lll}\n",
       "  & date & x1 & step\\\\\n",
       "\\hline\n",
       "\t1 & 2017-12-30 & 1000       &  1        \\\\\n",
       "\t1.1 & 2017-12-30 & 1000       &  2        \\\\\n",
       "\t2 & 2017-12-31 & 1100       &  3        \\\\\n",
       "\t2.1 & 2017-12-31 & 1100       &  4        \\\\\n",
       "\t3 & 2018-01-01 &  900       &  5        \\\\\n",
       "\t3.1 & 2018-01-01 &  900       &  6        \\\\\n",
       "\t4 & 2018-01-02 &  950       &  7        \\\\\n",
       "\t4.1 & 2018-01-02 &  950       &  8        \\\\\n",
       "\t5 & 2018-01-03 &  800       &  9        \\\\\n",
       "\t5.1 & 2018-01-03 &  800       & 10        \\\\\n",
       "\t6 & 2018-01-04 & 1050       & 11        \\\\\n",
       "\t6.1 & 2018-01-04 & 1050       & 12        \\\\\n",
       "\\end{tabular}\n"
      ],
      "text/markdown": [
       "\n",
       "| <!--/--> | date | x1 | step | \n",
       "|---|---|---|---|---|---|---|---|---|---|---|---|\n",
       "| 1 | 2017-12-30 | 1000       |  1         | \n",
       "| 1.1 | 2017-12-30 | 1000       |  2         | \n",
       "| 2 | 2017-12-31 | 1100       |  3         | \n",
       "| 2.1 | 2017-12-31 | 1100       |  4         | \n",
       "| 3 | 2018-01-01 |  900       |  5         | \n",
       "| 3.1 | 2018-01-01 |  900       |  6         | \n",
       "| 4 | 2018-01-02 |  950       |  7         | \n",
       "| 4.1 | 2018-01-02 |  950       |  8         | \n",
       "| 5 | 2018-01-03 |  800       |  9         | \n",
       "| 5.1 | 2018-01-03 |  800       | 10         | \n",
       "| 6 | 2018-01-04 | 1050       | 11         | \n",
       "| 6.1 | 2018-01-04 | 1050       | 12         | \n",
       "\n",
       "\n"
      ],
      "text/plain": [
       "    date       x1   step\n",
       "1   2017-12-30 1000  1  \n",
       "1.1 2017-12-30 1000  2  \n",
       "2   2017-12-31 1100  3  \n",
       "2.1 2017-12-31 1100  4  \n",
       "3   2018-01-01  900  5  \n",
       "3.1 2018-01-01  900  6  \n",
       "4   2018-01-02  950  7  \n",
       "4.1 2018-01-02  950  8  \n",
       "5   2018-01-03  800  9  \n",
       "5.1 2018-01-03  800 10  \n",
       "6   2018-01-04 1050 11  \n",
       "6.1 2018-01-04 1050 12  "
      ]
     },
     "metadata": {},
     "output_type": "display_data"
    }
   ],
   "source": [
    "data.1.dilated = data.1[sort(rep(1:nrow(data.1), 2)),]\n",
    "data.1.dilated$step = 1:nrow(data.2)\n",
    "data.1.dilated"
   ]
  },
  {
   "cell_type": "code",
   "execution_count": 25,
   "metadata": {
    "hide_input": true
   },
   "outputs": [
    {
     "data": {
      "text/html": [
       "<table>\n",
       "<thead><tr><th scope=col>date</th><th scope=col>x2</th><th scope=col>step</th></tr></thead>\n",
       "<tbody>\n",
       "\t<tr><td>2017-12-30 00:00:00</td><td>72                 </td><td> 1                 </td></tr>\n",
       "\t<tr><td>2017-12-30 12:00:00</td><td>56                 </td><td> 2                 </td></tr>\n",
       "\t<tr><td>2017-12-31 00:00:00</td><td>86                 </td><td> 3                 </td></tr>\n",
       "\t<tr><td>2017-12-31 12:00:00</td><td>60                 </td><td> 4                 </td></tr>\n",
       "\t<tr><td>2018-01-01 00:00:00</td><td>76                 </td><td> 5                 </td></tr>\n",
       "\t<tr><td>2018-01-01 12:00:00</td><td>63                 </td><td> 6                 </td></tr>\n",
       "\t<tr><td>2018-01-02 00:00:00</td><td>80                 </td><td> 7                 </td></tr>\n",
       "\t<tr><td>2018-01-02 12:00:00</td><td>68                 </td><td> 8                 </td></tr>\n",
       "\t<tr><td>2018-01-03 00:00:00</td><td>82                 </td><td> 9                 </td></tr>\n",
       "\t<tr><td>2018-01-03 12:00:00</td><td>59                 </td><td>10                 </td></tr>\n",
       "\t<tr><td>2018-01-04 00:00:00</td><td>74                 </td><td>11                 </td></tr>\n",
       "\t<tr><td>2018-01-04 12:00:00</td><td>61                 </td><td>12                 </td></tr>\n",
       "</tbody>\n",
       "</table>\n"
      ],
      "text/latex": [
       "\\begin{tabular}{r|lll}\n",
       " date & x2 & step\\\\\n",
       "\\hline\n",
       "\t 2017-12-30 00:00:00 & 72                  &  1                 \\\\\n",
       "\t 2017-12-30 12:00:00 & 56                  &  2                 \\\\\n",
       "\t 2017-12-31 00:00:00 & 86                  &  3                 \\\\\n",
       "\t 2017-12-31 12:00:00 & 60                  &  4                 \\\\\n",
       "\t 2018-01-01 00:00:00 & 76                  &  5                 \\\\\n",
       "\t 2018-01-01 12:00:00 & 63                  &  6                 \\\\\n",
       "\t 2018-01-02 00:00:00 & 80                  &  7                 \\\\\n",
       "\t 2018-01-02 12:00:00 & 68                  &  8                 \\\\\n",
       "\t 2018-01-03 00:00:00 & 82                  &  9                 \\\\\n",
       "\t 2018-01-03 12:00:00 & 59                  & 10                 \\\\\n",
       "\t 2018-01-04 00:00:00 & 74                  & 11                 \\\\\n",
       "\t 2018-01-04 12:00:00 & 61                  & 12                 \\\\\n",
       "\\end{tabular}\n"
      ],
      "text/markdown": [
       "\n",
       "date | x2 | step | \n",
       "|---|---|---|---|---|---|---|---|---|---|---|---|\n",
       "| 2017-12-30 00:00:00 | 72                  |  1                  | \n",
       "| 2017-12-30 12:00:00 | 56                  |  2                  | \n",
       "| 2017-12-31 00:00:00 | 86                  |  3                  | \n",
       "| 2017-12-31 12:00:00 | 60                  |  4                  | \n",
       "| 2018-01-01 00:00:00 | 76                  |  5                  | \n",
       "| 2018-01-01 12:00:00 | 63                  |  6                  | \n",
       "| 2018-01-02 00:00:00 | 80                  |  7                  | \n",
       "| 2018-01-02 12:00:00 | 68                  |  8                  | \n",
       "| 2018-01-03 00:00:00 | 82                  |  9                  | \n",
       "| 2018-01-03 12:00:00 | 59                  | 10                  | \n",
       "| 2018-01-04 00:00:00 | 74                  | 11                  | \n",
       "| 2018-01-04 12:00:00 | 61                  | 12                  | \n",
       "\n",
       "\n"
      ],
      "text/plain": [
       "   date                x2 step\n",
       "1  2017-12-30 00:00:00 72  1  \n",
       "2  2017-12-30 12:00:00 56  2  \n",
       "3  2017-12-31 00:00:00 86  3  \n",
       "4  2017-12-31 12:00:00 60  4  \n",
       "5  2018-01-01 00:00:00 76  5  \n",
       "6  2018-01-01 12:00:00 63  6  \n",
       "7  2018-01-02 00:00:00 80  7  \n",
       "8  2018-01-02 12:00:00 68  8  \n",
       "9  2018-01-03 00:00:00 82  9  \n",
       "10 2018-01-03 12:00:00 59 10  \n",
       "11 2018-01-04 00:00:00 74 11  \n",
       "12 2018-01-04 12:00:00 61 12  "
      ]
     },
     "metadata": {},
     "output_type": "display_data"
    }
   ],
   "source": [
    "data.2$step = 1:nrow(data.2)\n",
    "data.2"
   ]
  },
  {
   "cell_type": "markdown",
   "metadata": {},
   "source": [
    "Disaggregate with a disaggregation function that makes sense for the variable(s)."
   ]
  },
  {
   "cell_type": "code",
   "execution_count": 26,
   "metadata": {
    "hide_input": true
   },
   "outputs": [
    {
     "data": {
      "text/html": [
       "<table>\n",
       "<thead><tr><th></th><th scope=col>date</th><th scope=col>x1</th><th scope=col>step</th></tr></thead>\n",
       "<tbody>\n",
       "\t<tr><th scope=row>1</th><td>2017-12-30</td><td>500       </td><td> 1        </td></tr>\n",
       "\t<tr><th scope=row>1.1</th><td>2017-12-30</td><td>500       </td><td> 2        </td></tr>\n",
       "\t<tr><th scope=row>2</th><td>2017-12-31</td><td>550       </td><td> 3        </td></tr>\n",
       "\t<tr><th scope=row>2.1</th><td>2017-12-31</td><td>550       </td><td> 4        </td></tr>\n",
       "\t<tr><th scope=row>3</th><td>2018-01-01</td><td>450       </td><td> 5        </td></tr>\n",
       "\t<tr><th scope=row>3.1</th><td>2018-01-01</td><td>450       </td><td> 6        </td></tr>\n",
       "\t<tr><th scope=row>4</th><td>2018-01-02</td><td>475       </td><td> 7        </td></tr>\n",
       "\t<tr><th scope=row>4.1</th><td>2018-01-02</td><td>475       </td><td> 8        </td></tr>\n",
       "\t<tr><th scope=row>5</th><td>2018-01-03</td><td>400       </td><td> 9        </td></tr>\n",
       "\t<tr><th scope=row>5.1</th><td>2018-01-03</td><td>400       </td><td>10        </td></tr>\n",
       "\t<tr><th scope=row>6</th><td>2018-01-04</td><td>525       </td><td>11        </td></tr>\n",
       "\t<tr><th scope=row>6.1</th><td>2018-01-04</td><td>525       </td><td>12        </td></tr>\n",
       "</tbody>\n",
       "</table>\n"
      ],
      "text/latex": [
       "\\begin{tabular}{r|lll}\n",
       "  & date & x1 & step\\\\\n",
       "\\hline\n",
       "\t1 & 2017-12-30 & 500        &  1        \\\\\n",
       "\t1.1 & 2017-12-30 & 500        &  2        \\\\\n",
       "\t2 & 2017-12-31 & 550        &  3        \\\\\n",
       "\t2.1 & 2017-12-31 & 550        &  4        \\\\\n",
       "\t3 & 2018-01-01 & 450        &  5        \\\\\n",
       "\t3.1 & 2018-01-01 & 450        &  6        \\\\\n",
       "\t4 & 2018-01-02 & 475        &  7        \\\\\n",
       "\t4.1 & 2018-01-02 & 475        &  8        \\\\\n",
       "\t5 & 2018-01-03 & 400        &  9        \\\\\n",
       "\t5.1 & 2018-01-03 & 400        & 10        \\\\\n",
       "\t6 & 2018-01-04 & 525        & 11        \\\\\n",
       "\t6.1 & 2018-01-04 & 525        & 12        \\\\\n",
       "\\end{tabular}\n"
      ],
      "text/markdown": [
       "\n",
       "| <!--/--> | date | x1 | step | \n",
       "|---|---|---|---|---|---|---|---|---|---|---|---|\n",
       "| 1 | 2017-12-30 | 500        |  1         | \n",
       "| 1.1 | 2017-12-30 | 500        |  2         | \n",
       "| 2 | 2017-12-31 | 550        |  3         | \n",
       "| 2.1 | 2017-12-31 | 550        |  4         | \n",
       "| 3 | 2018-01-01 | 450        |  5         | \n",
       "| 3.1 | 2018-01-01 | 450        |  6         | \n",
       "| 4 | 2018-01-02 | 475        |  7         | \n",
       "| 4.1 | 2018-01-02 | 475        |  8         | \n",
       "| 5 | 2018-01-03 | 400        |  9         | \n",
       "| 5.1 | 2018-01-03 | 400        | 10         | \n",
       "| 6 | 2018-01-04 | 525        | 11         | \n",
       "| 6.1 | 2018-01-04 | 525        | 12         | \n",
       "\n",
       "\n"
      ],
      "text/plain": [
       "    date       x1  step\n",
       "1   2017-12-30 500  1  \n",
       "1.1 2017-12-30 500  2  \n",
       "2   2017-12-31 550  3  \n",
       "2.1 2017-12-31 550  4  \n",
       "3   2018-01-01 450  5  \n",
       "3.1 2018-01-01 450  6  \n",
       "4   2018-01-02 475  7  \n",
       "4.1 2018-01-02 475  8  \n",
       "5   2018-01-03 400  9  \n",
       "5.1 2018-01-03 400 10  \n",
       "6   2018-01-04 525 11  \n",
       "6.1 2018-01-04 525 12  "
      ]
     },
     "metadata": {},
     "output_type": "display_data"
    }
   ],
   "source": [
    "data.1.dilated$x1 = data.1.dilated$x1 / 2\n",
    "data.1.dilated"
   ]
  },
  {
   "cell_type": "markdown",
   "metadata": {},
   "source": [
    "Join the tables."
   ]
  },
  {
   "cell_type": "code",
   "execution_count": 27,
   "metadata": {
    "hide_input": true
   },
   "outputs": [
    {
     "data": {
      "text/html": [
       "<table>\n",
       "<thead><tr><th scope=col>date</th><th scope=col>x1</th><th scope=col>x2</th></tr></thead>\n",
       "<tbody>\n",
       "\t<tr><td>2017-12-30 00:00:00</td><td>500                </td><td>72                 </td></tr>\n",
       "\t<tr><td>2017-12-30 12:00:00</td><td>500                </td><td>56                 </td></tr>\n",
       "\t<tr><td>2017-12-31 00:00:00</td><td>550                </td><td>86                 </td></tr>\n",
       "\t<tr><td>2017-12-31 12:00:00</td><td>550                </td><td>60                 </td></tr>\n",
       "\t<tr><td>2018-01-01 00:00:00</td><td>450                </td><td>76                 </td></tr>\n",
       "\t<tr><td>2018-01-01 12:00:00</td><td>450                </td><td>63                 </td></tr>\n",
       "\t<tr><td>2018-01-02 00:00:00</td><td>475                </td><td>80                 </td></tr>\n",
       "\t<tr><td>2018-01-02 12:00:00</td><td>475                </td><td>68                 </td></tr>\n",
       "\t<tr><td>2018-01-03 00:00:00</td><td>400                </td><td>82                 </td></tr>\n",
       "\t<tr><td>2018-01-03 12:00:00</td><td>400                </td><td>59                 </td></tr>\n",
       "\t<tr><td>2018-01-04 00:00:00</td><td>525                </td><td>74                 </td></tr>\n",
       "\t<tr><td>2018-01-04 12:00:00</td><td>525                </td><td>61                 </td></tr>\n",
       "</tbody>\n",
       "</table>\n"
      ],
      "text/latex": [
       "\\begin{tabular}{r|lll}\n",
       " date & x1 & x2\\\\\n",
       "\\hline\n",
       "\t 2017-12-30 00:00:00 & 500                 & 72                 \\\\\n",
       "\t 2017-12-30 12:00:00 & 500                 & 56                 \\\\\n",
       "\t 2017-12-31 00:00:00 & 550                 & 86                 \\\\\n",
       "\t 2017-12-31 12:00:00 & 550                 & 60                 \\\\\n",
       "\t 2018-01-01 00:00:00 & 450                 & 76                 \\\\\n",
       "\t 2018-01-01 12:00:00 & 450                 & 63                 \\\\\n",
       "\t 2018-01-02 00:00:00 & 475                 & 80                 \\\\\n",
       "\t 2018-01-02 12:00:00 & 475                 & 68                 \\\\\n",
       "\t 2018-01-03 00:00:00 & 400                 & 82                 \\\\\n",
       "\t 2018-01-03 12:00:00 & 400                 & 59                 \\\\\n",
       "\t 2018-01-04 00:00:00 & 525                 & 74                 \\\\\n",
       "\t 2018-01-04 12:00:00 & 525                 & 61                 \\\\\n",
       "\\end{tabular}\n"
      ],
      "text/markdown": [
       "\n",
       "date | x1 | x2 | \n",
       "|---|---|---|---|---|---|---|---|---|---|---|---|\n",
       "| 2017-12-30 00:00:00 | 500                 | 72                  | \n",
       "| 2017-12-30 12:00:00 | 500                 | 56                  | \n",
       "| 2017-12-31 00:00:00 | 550                 | 86                  | \n",
       "| 2017-12-31 12:00:00 | 550                 | 60                  | \n",
       "| 2018-01-01 00:00:00 | 450                 | 76                  | \n",
       "| 2018-01-01 12:00:00 | 450                 | 63                  | \n",
       "| 2018-01-02 00:00:00 | 475                 | 80                  | \n",
       "| 2018-01-02 12:00:00 | 475                 | 68                  | \n",
       "| 2018-01-03 00:00:00 | 400                 | 82                  | \n",
       "| 2018-01-03 12:00:00 | 400                 | 59                  | \n",
       "| 2018-01-04 00:00:00 | 525                 | 74                  | \n",
       "| 2018-01-04 12:00:00 | 525                 | 61                  | \n",
       "\n",
       "\n"
      ],
      "text/plain": [
       "   date                x1  x2\n",
       "1  2017-12-30 00:00:00 500 72\n",
       "2  2017-12-30 12:00:00 500 56\n",
       "3  2017-12-31 00:00:00 550 86\n",
       "4  2017-12-31 12:00:00 550 60\n",
       "5  2018-01-01 00:00:00 450 76\n",
       "6  2018-01-01 12:00:00 450 63\n",
       "7  2018-01-02 00:00:00 475 80\n",
       "8  2018-01-02 12:00:00 475 68\n",
       "9  2018-01-03 00:00:00 400 82\n",
       "10 2018-01-03 12:00:00 400 59\n",
       "11 2018-01-04 00:00:00 525 74\n",
       "12 2018-01-04 12:00:00 525 61"
      ]
     },
     "metadata": {},
     "output_type": "display_data"
    }
   ],
   "source": [
    "merge(data.1.dilated[-1], data.2, by=\"step\")[,c(3,2,4)]"
   ]
  },
  {
   "cell_type": "markdown",
   "metadata": {},
   "source": [
    "## Code Templates\n",
    "\n",
    "| Key Functions | Reference Documentation |\n",
    "|--|--|\n",
    "| `aggregate` function from `stats` library | https://www.rdocumentation.org/packages/stats/versions/3.5.2/topics/aggregate |\n",
    "| `merge` function from `base` library | https://www.rdocumentation.org/packages/base/versions/3.5.2/topics/merge |"
   ]
  },
  {
   "cell_type": "markdown",
   "metadata": {},
   "source": [
    "\n",
    "## Expectations\n",
    "\n",
    "Know about this:\n",
    "* How to align variables of differing resolutions, conceptually & using R"
   ]
  },
  {
   "cell_type": "markdown",
   "metadata": {},
   "source": [
    "## Further Reading\n",
    "\n",
    "Further reading coming soon ..."
   ]
  },
  {
   "cell_type": "markdown",
   "metadata": {},
   "source": [
    "<font size=1;>\n",
    "<p style=\"text-align: left;\">\n",
    "Copyright (c) Berkeley Data Analytics Group, LLC\n",
    "<span style=\"float: right;\">\n",
    "document revised May 6, 2019\n",
    "</span>\n",
    "</p>\n",
    "</font>"
   ]
  }
 ],
 "metadata": {
  "hide_code_all_hidden": false,
  "hide_input": false,
  "kernelspec": {
   "display_name": "R",
   "language": "R",
   "name": "ir"
  },
  "language_info": {
   "codemirror_mode": "r",
   "file_extension": ".r",
   "mimetype": "text/x-r-source",
   "name": "R",
   "pygments_lexer": "r",
   "version": "3.5.3"
  },
  "toc": {
   "base_numbering": 1,
   "nav_menu": {},
   "number_sections": true,
   "sideBar": true,
   "skip_h1_title": true,
   "title_cell": "Table of Contents",
   "title_sidebar": "Contents",
   "toc_cell": false,
   "toc_position": {},
   "toc_section_display": true,
   "toc_window_display": true
  }
 },
 "nbformat": 4,
 "nbformat_minor": 2
}
