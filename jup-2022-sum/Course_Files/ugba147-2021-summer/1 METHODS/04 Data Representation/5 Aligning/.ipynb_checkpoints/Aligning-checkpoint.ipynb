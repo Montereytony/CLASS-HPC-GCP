{
 "cells": [
  {
   "cell_type": "markdown",
   "metadata": {
    "hideCode": false,
    "hidePrompt": false
   },
   "source": [
    "# Aligning\n",
    "\n",
    "![](banner_aligning.jpg)"
   ]
  },
  {
   "cell_type": "code",
   "execution_count": 1,
   "metadata": {
    "hide_input": true
   },
   "outputs": [
    {
     "data": {
      "text/html": [
       "<p style=\"text-align:center; font-size:10px;\">\n",
       ".................................................... start of document ....................................................\n",
       "</p>"
      ]
     },
     "metadata": {},
     "output_type": "display_data"
    }
   ],
   "source": [
    "f = \"setup.R\"; for (i in 1:10) { if (file.exists(f)) break else f = paste0(\"../\", f) }; source(f)"
   ]
  },
  {
   "cell_type": "markdown",
   "metadata": {},
   "source": [
    "## Introduction\n",
    "\n",
    "Motivation, context, history, related topics ..."
   ]
  },
  {
   "cell_type": "markdown",
   "metadata": {},
   "source": [
    "## Terms"
   ]
  },
  {
   "cell_type": "markdown",
   "metadata": {
    "hide_input": false
   },
   "source": [
    "## Data"
   ]
  },
  {
   "cell_type": "markdown",
   "metadata": {},
   "source": [
    "Consider this pedagogical data.  Variables x1 and x2 are aligned at the same (date) resolution."
   ]
  },
  {
   "cell_type": "code",
   "execution_count": 2,
   "metadata": {
    "hideCode": false,
    "hidePrompt": false,
    "hide_input": true,
    "run_control": {
     "marked": false
    }
   },
   "outputs": [
    {
     "data": {
      "text/html": [
       "<table>\n",
       "<thead><tr><th scope=col>date</th><th scope=col>x1</th><th scope=col>x2</th></tr></thead>\n",
       "<tbody>\n",
       "\t<tr><td>2017-12-30</td><td>1000      </td><td>72        </td></tr>\n",
       "\t<tr><td>2017-12-31</td><td>1100      </td><td>86        </td></tr>\n",
       "\t<tr><td>2018-01-01</td><td> 900      </td><td>76        </td></tr>\n",
       "\t<tr><td>2018-01-02</td><td> 950      </td><td>80        </td></tr>\n",
       "\t<tr><td>2018-01-03</td><td> 800      </td><td>82        </td></tr>\n",
       "\t<tr><td>2018-01-04</td><td>1050      </td><td>74        </td></tr>\n",
       "</tbody>\n",
       "</table>\n"
      ],
      "text/latex": [
       "\\begin{tabular}{r|lll}\n",
       " date & x1 & x2\\\\\n",
       "\\hline\n",
       "\t 2017-12-30 & 1000       & 72        \\\\\n",
       "\t 2017-12-31 & 1100       & 86        \\\\\n",
       "\t 2018-01-01 &  900       & 76        \\\\\n",
       "\t 2018-01-02 &  950       & 80        \\\\\n",
       "\t 2018-01-03 &  800       & 82        \\\\\n",
       "\t 2018-01-04 & 1050       & 74        \\\\\n",
       "\\end{tabular}\n"
      ],
      "text/markdown": [
       "\n",
       "| date | x1 | x2 |\n",
       "|---|---|---|\n",
       "| 2017-12-30 | 1000       | 72         |\n",
       "| 2017-12-31 | 1100       | 86         |\n",
       "| 2018-01-01 |  900       | 76         |\n",
       "| 2018-01-02 |  950       | 80         |\n",
       "| 2018-01-03 |  800       | 82         |\n",
       "| 2018-01-04 | 1050       | 74         |\n",
       "\n"
      ],
      "text/plain": [
       "  date       x1   x2\n",
       "1 2017-12-30 1000 72\n",
       "2 2017-12-31 1100 86\n",
       "3 2018-01-01  900 76\n",
       "4 2018-01-02  950 80\n",
       "5 2018-01-03  800 82\n",
       "6 2018-01-04 1050 74"
      ]
     },
     "metadata": {},
     "output_type": "display_data"
    }
   ],
   "source": [
    "data = data.frame(date=ymd(c(\"2017-12-30\",\"2017-12-31\",\"2018-01-01\",\"2018-01-02\",\"2018-01-03\",\"2018-01-04\")),\n",
    "                  x1=c(1000, 1100, 900, 950, 800, 1050),\n",
    "                  x2=c(72, 86, 76, 80, 82, 74))\n",
    "data"
   ]
  },
  {
   "cell_type": "markdown",
   "metadata": {},
   "source": [
    "Then consider this pedagogical data.  Variables x1 and x2 are not aligned at the same (date) resolution.  x1 is relatively coarse resolution (one observation per day).  x2 is relatively fine resolution (one observation per half-day)."
   ]
  },
  {
   "cell_type": "code",
   "execution_count": 3,
   "metadata": {
    "hide_input": true
   },
   "outputs": [
    {
     "data": {
      "text/html": [
       "<table><tr><td style=\"background-color:white; vertical-align:top; padding-right:40px;\"><table>\n",
       " <thead>\n",
       "  <tr>\n",
       "   <th style=\"text-align:right;background-color: #FFFFFF !important;\"> date </th>\n",
       "   <th style=\"text-align:right;background-color: #FFFFFF !important;\"> x1 </th>\n",
       "  </tr>\n",
       " </thead>\n",
       "<tbody>\n",
       "  <tr>\n",
       "   <td style=\"text-align:right;\"> 2017-12-30 </td>\n",
       "   <td style=\"text-align:right;\"> 1000 </td>\n",
       "  </tr>\n",
       "  <tr>\n",
       "   <td style=\"text-align:right;\"> 2017-12-31 </td>\n",
       "   <td style=\"text-align:right;\"> 1100 </td>\n",
       "  </tr>\n",
       "  <tr>\n",
       "   <td style=\"text-align:right;\"> 2018-01-01 </td>\n",
       "   <td style=\"text-align:right;\"> 900 </td>\n",
       "  </tr>\n",
       "  <tr>\n",
       "   <td style=\"text-align:right;\"> 2018-01-02 </td>\n",
       "   <td style=\"text-align:right;\"> 950 </td>\n",
       "  </tr>\n",
       "  <tr>\n",
       "   <td style=\"text-align:right;\"> 2018-01-03 </td>\n",
       "   <td style=\"text-align:right;\"> 800 </td>\n",
       "  </tr>\n",
       "  <tr>\n",
       "   <td style=\"text-align:right;\"> 2018-01-04 </td>\n",
       "   <td style=\"text-align:right;\"> 1050 </td>\n",
       "  </tr>\n",
       "</tbody>\n",
       "</table></td><td style=\"background-color:white; vertical-align:top;\"><table>\n",
       " <thead>\n",
       "  <tr>\n",
       "   <th style=\"text-align:right;background-color: #FFFFFF !important;\"> date </th>\n",
       "   <th style=\"text-align:right;background-color: #FFFFFF !important;\"> x2 </th>\n",
       "  </tr>\n",
       " </thead>\n",
       "<tbody>\n",
       "  <tr>\n",
       "   <td style=\"text-align:right;\"> 2017-12-30 00:00:00 </td>\n",
       "   <td style=\"text-align:right;\"> 72 </td>\n",
       "  </tr>\n",
       "  <tr>\n",
       "   <td style=\"text-align:right;\"> 2017-12-30 12:00:00 </td>\n",
       "   <td style=\"text-align:right;\"> 56 </td>\n",
       "  </tr>\n",
       "  <tr>\n",
       "   <td style=\"text-align:right;\"> 2017-12-31 00:00:00 </td>\n",
       "   <td style=\"text-align:right;\"> 86 </td>\n",
       "  </tr>\n",
       "  <tr>\n",
       "   <td style=\"text-align:right;\"> 2017-12-31 12:00:00 </td>\n",
       "   <td style=\"text-align:right;\"> 60 </td>\n",
       "  </tr>\n",
       "  <tr>\n",
       "   <td style=\"text-align:right;\"> 2018-01-01 00:00:00 </td>\n",
       "   <td style=\"text-align:right;\"> 76 </td>\n",
       "  </tr>\n",
       "  <tr>\n",
       "   <td style=\"text-align:right;\"> 2018-01-01 12:00:00 </td>\n",
       "   <td style=\"text-align:right;\"> 63 </td>\n",
       "  </tr>\n",
       "  <tr>\n",
       "   <td style=\"text-align:right;\"> 2018-01-02 00:00:00 </td>\n",
       "   <td style=\"text-align:right;\"> 80 </td>\n",
       "  </tr>\n",
       "  <tr>\n",
       "   <td style=\"text-align:right;\"> 2018-01-02 12:00:00 </td>\n",
       "   <td style=\"text-align:right;\"> 68 </td>\n",
       "  </tr>\n",
       "  <tr>\n",
       "   <td style=\"text-align:right;\"> 2018-01-03 00:00:00 </td>\n",
       "   <td style=\"text-align:right;\"> 82 </td>\n",
       "  </tr>\n",
       "  <tr>\n",
       "   <td style=\"text-align:right;\"> 2018-01-03 12:00:00 </td>\n",
       "   <td style=\"text-align:right;\"> 59 </td>\n",
       "  </tr>\n",
       "  <tr>\n",
       "   <td style=\"text-align:right;\"> 2018-01-04 00:00:00 </td>\n",
       "   <td style=\"text-align:right;\"> 74 </td>\n",
       "  </tr>\n",
       "  <tr>\n",
       "   <td style=\"text-align:right;\"> 2018-01-04 12:00:00 </td>\n",
       "   <td style=\"text-align:right;\"> 61 </td>\n",
       "  </tr>\n",
       "</tbody>\n",
       "</table></td></tr></table>"
      ]
     },
     "metadata": {},
     "output_type": "display_data"
    }
   ],
   "source": [
    "data.1 = data.frame(date=ymd(c(\"2017-12-30\",\"2017-12-31\",\"2018-01-01\",\"2018-01-02\",\"2018-01-03\",\"2018-01-04\")),\n",
    "                    x1=c(1000, 1100, 900, 950, 800, 1050))\n",
    "\n",
    "data.2 = data.frame(date=ymd_h(c(\"2017-12-30 00\",\"2017-12-30 12\",\"2017-12-31 00\",\"2017-12-31 12\",\"2018-01-01 00\",\"2018-01-01 12\",\"2018-01-02 00\",\"2018-01-02 12\",\"2018-01-03 00\",\"2018-01-03 12\",\"2018-01-04 00\",\"2018-01-04 12\")),\n",
    "                    x2=c(72, 56, 86, 60, 76, 63, 80, 68, 82, 59, 74, 61))\n",
    "\n",
    "layout(data.1, data.2)"
   ]
  },
  {
   "cell_type": "markdown",
   "metadata": {},
   "source": [
    "## Align Variables by Contraction"
   ]
  },
  {
   "cell_type": "markdown",
   "metadata": {},
   "source": [
    "Mark observations with sequence numbers.  The finer resolution table will adopt the coarser resolution table's sequence numbers, repeating as necessary."
   ]
  },
  {
   "cell_type": "code",
   "execution_count": 4,
   "metadata": {
    "hide_input": true
   },
   "outputs": [
    {
     "data": {
      "text/html": [
       "<table>\n",
       "<thead><tr><th scope=col>date</th><th scope=col>x1</th><th scope=col>step</th></tr></thead>\n",
       "<tbody>\n",
       "\t<tr><td>2017-12-30</td><td>1000      </td><td>1         </td></tr>\n",
       "\t<tr><td>2017-12-31</td><td>1100      </td><td>2         </td></tr>\n",
       "\t<tr><td>2018-01-01</td><td> 900      </td><td>3         </td></tr>\n",
       "\t<tr><td>2018-01-02</td><td> 950      </td><td>4         </td></tr>\n",
       "\t<tr><td>2018-01-03</td><td> 800      </td><td>5         </td></tr>\n",
       "\t<tr><td>2018-01-04</td><td>1050      </td><td>6         </td></tr>\n",
       "</tbody>\n",
       "</table>\n"
      ],
      "text/latex": [
       "\\begin{tabular}{r|lll}\n",
       " date & x1 & step\\\\\n",
       "\\hline\n",
       "\t 2017-12-30 & 1000       & 1         \\\\\n",
       "\t 2017-12-31 & 1100       & 2         \\\\\n",
       "\t 2018-01-01 &  900       & 3         \\\\\n",
       "\t 2018-01-02 &  950       & 4         \\\\\n",
       "\t 2018-01-03 &  800       & 5         \\\\\n",
       "\t 2018-01-04 & 1050       & 6         \\\\\n",
       "\\end{tabular}\n"
      ],
      "text/markdown": [
       "\n",
       "| date | x1 | step |\n",
       "|---|---|---|\n",
       "| 2017-12-30 | 1000       | 1          |\n",
       "| 2017-12-31 | 1100       | 2          |\n",
       "| 2018-01-01 |  900       | 3          |\n",
       "| 2018-01-02 |  950       | 4          |\n",
       "| 2018-01-03 |  800       | 5          |\n",
       "| 2018-01-04 | 1050       | 6          |\n",
       "\n"
      ],
      "text/plain": [
       "  date       x1   step\n",
       "1 2017-12-30 1000 1   \n",
       "2 2017-12-31 1100 2   \n",
       "3 2018-01-01  900 3   \n",
       "4 2018-01-02  950 4   \n",
       "5 2018-01-03  800 5   \n",
       "6 2018-01-04 1050 6   "
      ]
     },
     "metadata": {},
     "output_type": "display_data"
    }
   ],
   "source": [
    "data.1$step = 1:nrow(data.1)\n",
    "data.1"
   ]
  },
  {
   "cell_type": "code",
   "execution_count": 5,
   "metadata": {
    "hide_input": true
   },
   "outputs": [
    {
     "data": {
      "text/html": [
       "<table>\n",
       "<thead><tr><th scope=col>date</th><th scope=col>x2</th><th scope=col>step</th></tr></thead>\n",
       "<tbody>\n",
       "\t<tr><td>2017-12-30 00:00:00</td><td>72                 </td><td>1                  </td></tr>\n",
       "\t<tr><td>2017-12-30 12:00:00</td><td>56                 </td><td>1                  </td></tr>\n",
       "\t<tr><td>2017-12-31 00:00:00</td><td>86                 </td><td>2                  </td></tr>\n",
       "\t<tr><td>2017-12-31 12:00:00</td><td>60                 </td><td>2                  </td></tr>\n",
       "\t<tr><td>2018-01-01 00:00:00</td><td>76                 </td><td>3                  </td></tr>\n",
       "\t<tr><td>2018-01-01 12:00:00</td><td>63                 </td><td>3                  </td></tr>\n",
       "\t<tr><td>2018-01-02 00:00:00</td><td>80                 </td><td>4                  </td></tr>\n",
       "\t<tr><td>2018-01-02 12:00:00</td><td>68                 </td><td>4                  </td></tr>\n",
       "\t<tr><td>2018-01-03 00:00:00</td><td>82                 </td><td>5                  </td></tr>\n",
       "\t<tr><td>2018-01-03 12:00:00</td><td>59                 </td><td>5                  </td></tr>\n",
       "\t<tr><td>2018-01-04 00:00:00</td><td>74                 </td><td>6                  </td></tr>\n",
       "\t<tr><td>2018-01-04 12:00:00</td><td>61                 </td><td>6                  </td></tr>\n",
       "</tbody>\n",
       "</table>\n"
      ],
      "text/latex": [
       "\\begin{tabular}{r|lll}\n",
       " date & x2 & step\\\\\n",
       "\\hline\n",
       "\t 2017-12-30 00:00:00 & 72                  & 1                  \\\\\n",
       "\t 2017-12-30 12:00:00 & 56                  & 1                  \\\\\n",
       "\t 2017-12-31 00:00:00 & 86                  & 2                  \\\\\n",
       "\t 2017-12-31 12:00:00 & 60                  & 2                  \\\\\n",
       "\t 2018-01-01 00:00:00 & 76                  & 3                  \\\\\n",
       "\t 2018-01-01 12:00:00 & 63                  & 3                  \\\\\n",
       "\t 2018-01-02 00:00:00 & 80                  & 4                  \\\\\n",
       "\t 2018-01-02 12:00:00 & 68                  & 4                  \\\\\n",
       "\t 2018-01-03 00:00:00 & 82                  & 5                  \\\\\n",
       "\t 2018-01-03 12:00:00 & 59                  & 5                  \\\\\n",
       "\t 2018-01-04 00:00:00 & 74                  & 6                  \\\\\n",
       "\t 2018-01-04 12:00:00 & 61                  & 6                  \\\\\n",
       "\\end{tabular}\n"
      ],
      "text/markdown": [
       "\n",
       "| date | x2 | step |\n",
       "|---|---|---|\n",
       "| 2017-12-30 00:00:00 | 72                  | 1                   |\n",
       "| 2017-12-30 12:00:00 | 56                  | 1                   |\n",
       "| 2017-12-31 00:00:00 | 86                  | 2                   |\n",
       "| 2017-12-31 12:00:00 | 60                  | 2                   |\n",
       "| 2018-01-01 00:00:00 | 76                  | 3                   |\n",
       "| 2018-01-01 12:00:00 | 63                  | 3                   |\n",
       "| 2018-01-02 00:00:00 | 80                  | 4                   |\n",
       "| 2018-01-02 12:00:00 | 68                  | 4                   |\n",
       "| 2018-01-03 00:00:00 | 82                  | 5                   |\n",
       "| 2018-01-03 12:00:00 | 59                  | 5                   |\n",
       "| 2018-01-04 00:00:00 | 74                  | 6                   |\n",
       "| 2018-01-04 12:00:00 | 61                  | 6                   |\n",
       "\n"
      ],
      "text/plain": [
       "   date                x2 step\n",
       "1  2017-12-30 00:00:00 72 1   \n",
       "2  2017-12-30 12:00:00 56 1   \n",
       "3  2017-12-31 00:00:00 86 2   \n",
       "4  2017-12-31 12:00:00 60 2   \n",
       "5  2018-01-01 00:00:00 76 3   \n",
       "6  2018-01-01 12:00:00 63 3   \n",
       "7  2018-01-02 00:00:00 80 4   \n",
       "8  2018-01-02 12:00:00 68 4   \n",
       "9  2018-01-03 00:00:00 82 5   \n",
       "10 2018-01-03 12:00:00 59 5   \n",
       "11 2018-01-04 00:00:00 74 6   \n",
       "12 2018-01-04 12:00:00 61 6   "
      ]
     },
     "metadata": {},
     "output_type": "display_data"
    }
   ],
   "source": [
    "data.2$step = sort(rep(1:nrow(data.1), 2))\n",
    "data.2"
   ]
  },
  {
   "cell_type": "markdown",
   "metadata": {},
   "source": [
    "Then aggregate the finer resolution observations to match the number of coarser resolution observations.  Choose an aggregator function that makes sense for the variable(s).\n",
    "\n",
    "In this example, we aggregate by mean."
   ]
  },
  {
   "cell_type": "code",
   "execution_count": 6,
   "metadata": {
    "hide_input": true
   },
   "outputs": [
    {
     "data": {
      "text/html": [
       "<table>\n",
       "<thead><tr><th scope=col>step</th><th scope=col>x2</th></tr></thead>\n",
       "<tbody>\n",
       "\t<tr><td>1   </td><td>64.0</td></tr>\n",
       "\t<tr><td>2   </td><td>73.0</td></tr>\n",
       "\t<tr><td>3   </td><td>69.5</td></tr>\n",
       "\t<tr><td>4   </td><td>74.0</td></tr>\n",
       "\t<tr><td>5   </td><td>70.5</td></tr>\n",
       "\t<tr><td>6   </td><td>67.5</td></tr>\n",
       "</tbody>\n",
       "</table>\n"
      ],
      "text/latex": [
       "\\begin{tabular}{r|ll}\n",
       " step & x2\\\\\n",
       "\\hline\n",
       "\t 1    & 64.0\\\\\n",
       "\t 2    & 73.0\\\\\n",
       "\t 3    & 69.5\\\\\n",
       "\t 4    & 74.0\\\\\n",
       "\t 5    & 70.5\\\\\n",
       "\t 6    & 67.5\\\\\n",
       "\\end{tabular}\n"
      ],
      "text/markdown": [
       "\n",
       "| step | x2 |\n",
       "|---|---|\n",
       "| 1    | 64.0 |\n",
       "| 2    | 73.0 |\n",
       "| 3    | 69.5 |\n",
       "| 4    | 74.0 |\n",
       "| 5    | 70.5 |\n",
       "| 6    | 67.5 |\n",
       "\n"
      ],
      "text/plain": [
       "  step x2  \n",
       "1 1    64.0\n",
       "2 2    73.0\n",
       "3 3    69.5\n",
       "4 4    74.0\n",
       "5 5    70.5\n",
       "6 6    67.5"
      ]
     },
     "metadata": {},
     "output_type": "display_data"
    }
   ],
   "source": [
    "data.2.aggregated = aggregate(x2 ~ step, data.2, mean)\n",
    "data.2.aggregated"
   ]
  },
  {
   "cell_type": "markdown",
   "metadata": {},
   "source": [
    "Then join the tables."
   ]
  },
  {
   "cell_type": "code",
   "execution_count": 7,
   "metadata": {
    "hide_input": true
   },
   "outputs": [
    {
     "data": {
      "text/html": [
       "<table>\n",
       "<thead><tr><th scope=col>date</th><th scope=col>x1</th><th scope=col>x2</th></tr></thead>\n",
       "<tbody>\n",
       "\t<tr><td>2017-12-30</td><td>1000      </td><td>64.0      </td></tr>\n",
       "\t<tr><td>2017-12-31</td><td>1100      </td><td>73.0      </td></tr>\n",
       "\t<tr><td>2018-01-01</td><td> 900      </td><td>69.5      </td></tr>\n",
       "\t<tr><td>2018-01-02</td><td> 950      </td><td>74.0      </td></tr>\n",
       "\t<tr><td>2018-01-03</td><td> 800      </td><td>70.5      </td></tr>\n",
       "\t<tr><td>2018-01-04</td><td>1050      </td><td>67.5      </td></tr>\n",
       "</tbody>\n",
       "</table>\n"
      ],
      "text/latex": [
       "\\begin{tabular}{r|lll}\n",
       " date & x1 & x2\\\\\n",
       "\\hline\n",
       "\t 2017-12-30 & 1000       & 64.0      \\\\\n",
       "\t 2017-12-31 & 1100       & 73.0      \\\\\n",
       "\t 2018-01-01 &  900       & 69.5      \\\\\n",
       "\t 2018-01-02 &  950       & 74.0      \\\\\n",
       "\t 2018-01-03 &  800       & 70.5      \\\\\n",
       "\t 2018-01-04 & 1050       & 67.5      \\\\\n",
       "\\end{tabular}\n"
      ],
      "text/markdown": [
       "\n",
       "| date | x1 | x2 |\n",
       "|---|---|---|\n",
       "| 2017-12-30 | 1000       | 64.0       |\n",
       "| 2017-12-31 | 1100       | 73.0       |\n",
       "| 2018-01-01 |  900       | 69.5       |\n",
       "| 2018-01-02 |  950       | 74.0       |\n",
       "| 2018-01-03 |  800       | 70.5       |\n",
       "| 2018-01-04 | 1050       | 67.5       |\n",
       "\n"
      ],
      "text/plain": [
       "  date       x1   x2  \n",
       "1 2017-12-30 1000 64.0\n",
       "2 2017-12-31 1100 73.0\n",
       "3 2018-01-01  900 69.5\n",
       "4 2018-01-02  950 74.0\n",
       "5 2018-01-03  800 70.5\n",
       "6 2018-01-04 1050 67.5"
      ]
     },
     "metadata": {},
     "output_type": "display_data"
    }
   ],
   "source": [
    "merge(data.1, data.2.aggregated, by=\"step\")[,-1]"
   ]
  },
  {
   "cell_type": "markdown",
   "metadata": {},
   "source": [
    "## Align Variables by Expansion"
   ]
  },
  {
   "cell_type": "markdown",
   "metadata": {},
   "source": [
    "Duplicate the coarser resolution observations as necessary to match the number of finer resolution observations.  Mark observations with sequence numbers.  The coarser resolution table will adopt the finer resolution table's sequence numbers."
   ]
  },
  {
   "cell_type": "code",
   "execution_count": 8,
   "metadata": {
    "hide_input": true
   },
   "outputs": [
    {
     "data": {
      "text/html": [
       "<table><tr><td style=\"background-color:white; vertical-align:top; padding-right:40px;\"><table>\n",
       " <thead>\n",
       "  <tr>\n",
       "   <th style=\"text-align:right;background-color: #FFFFFF !important;\"> date </th>\n",
       "   <th style=\"text-align:right;background-color: #FFFFFF !important;\"> x1 </th>\n",
       "   <th style=\"text-align:right;background-color: #FFFFFF !important;\"> step </th>\n",
       "  </tr>\n",
       " </thead>\n",
       "<tbody>\n",
       "  <tr>\n",
       "   <td style=\"text-align:right;\"> 2017-12-30 </td>\n",
       "   <td style=\"text-align:right;\"> 1000 </td>\n",
       "   <td style=\"text-align:right;\"> 1 </td>\n",
       "  </tr>\n",
       "  <tr>\n",
       "   <td style=\"text-align:right;\"> 2017-12-30 </td>\n",
       "   <td style=\"text-align:right;\"> 1000 </td>\n",
       "   <td style=\"text-align:right;\"> 2 </td>\n",
       "  </tr>\n",
       "  <tr>\n",
       "   <td style=\"text-align:right;\"> 2017-12-31 </td>\n",
       "   <td style=\"text-align:right;\"> 1100 </td>\n",
       "   <td style=\"text-align:right;\"> 3 </td>\n",
       "  </tr>\n",
       "  <tr>\n",
       "   <td style=\"text-align:right;\"> 2017-12-31 </td>\n",
       "   <td style=\"text-align:right;\"> 1100 </td>\n",
       "   <td style=\"text-align:right;\"> 4 </td>\n",
       "  </tr>\n",
       "  <tr>\n",
       "   <td style=\"text-align:right;\"> 2018-01-01 </td>\n",
       "   <td style=\"text-align:right;\"> 900 </td>\n",
       "   <td style=\"text-align:right;\"> 5 </td>\n",
       "  </tr>\n",
       "  <tr>\n",
       "   <td style=\"text-align:right;\"> 2018-01-01 </td>\n",
       "   <td style=\"text-align:right;\"> 900 </td>\n",
       "   <td style=\"text-align:right;\"> 6 </td>\n",
       "  </tr>\n",
       "  <tr>\n",
       "   <td style=\"text-align:right;\"> 2018-01-02 </td>\n",
       "   <td style=\"text-align:right;\"> 950 </td>\n",
       "   <td style=\"text-align:right;\"> 7 </td>\n",
       "  </tr>\n",
       "  <tr>\n",
       "   <td style=\"text-align:right;\"> 2018-01-02 </td>\n",
       "   <td style=\"text-align:right;\"> 950 </td>\n",
       "   <td style=\"text-align:right;\"> 8 </td>\n",
       "  </tr>\n",
       "  <tr>\n",
       "   <td style=\"text-align:right;\"> 2018-01-03 </td>\n",
       "   <td style=\"text-align:right;\"> 800 </td>\n",
       "   <td style=\"text-align:right;\"> 9 </td>\n",
       "  </tr>\n",
       "  <tr>\n",
       "   <td style=\"text-align:right;\"> 2018-01-03 </td>\n",
       "   <td style=\"text-align:right;\"> 800 </td>\n",
       "   <td style=\"text-align:right;\"> 10 </td>\n",
       "  </tr>\n",
       "  <tr>\n",
       "   <td style=\"text-align:right;\"> 2018-01-04 </td>\n",
       "   <td style=\"text-align:right;\"> 1050 </td>\n",
       "   <td style=\"text-align:right;\"> 11 </td>\n",
       "  </tr>\n",
       "  <tr>\n",
       "   <td style=\"text-align:right;\"> 2018-01-04 </td>\n",
       "   <td style=\"text-align:right;\"> 1050 </td>\n",
       "   <td style=\"text-align:right;\"> 12 </td>\n",
       "  </tr>\n",
       "</tbody>\n",
       "</table></td><td style=\"background-color:white; vertical-align:top;\"><table>\n",
       " <thead>\n",
       "  <tr>\n",
       "   <th style=\"text-align:right;background-color: #FFFFFF !important;\"> date </th>\n",
       "   <th style=\"text-align:right;background-color: #FFFFFF !important;\"> x2 </th>\n",
       "   <th style=\"text-align:right;background-color: #FFFFFF !important;\"> step </th>\n",
       "  </tr>\n",
       " </thead>\n",
       "<tbody>\n",
       "  <tr>\n",
       "   <td style=\"text-align:right;\"> 2017-12-30 00:00:00 </td>\n",
       "   <td style=\"text-align:right;\"> 72 </td>\n",
       "   <td style=\"text-align:right;\"> 1 </td>\n",
       "  </tr>\n",
       "  <tr>\n",
       "   <td style=\"text-align:right;\"> 2017-12-30 12:00:00 </td>\n",
       "   <td style=\"text-align:right;\"> 56 </td>\n",
       "   <td style=\"text-align:right;\"> 2 </td>\n",
       "  </tr>\n",
       "  <tr>\n",
       "   <td style=\"text-align:right;\"> 2017-12-31 00:00:00 </td>\n",
       "   <td style=\"text-align:right;\"> 86 </td>\n",
       "   <td style=\"text-align:right;\"> 3 </td>\n",
       "  </tr>\n",
       "  <tr>\n",
       "   <td style=\"text-align:right;\"> 2017-12-31 12:00:00 </td>\n",
       "   <td style=\"text-align:right;\"> 60 </td>\n",
       "   <td style=\"text-align:right;\"> 4 </td>\n",
       "  </tr>\n",
       "  <tr>\n",
       "   <td style=\"text-align:right;\"> 2018-01-01 00:00:00 </td>\n",
       "   <td style=\"text-align:right;\"> 76 </td>\n",
       "   <td style=\"text-align:right;\"> 5 </td>\n",
       "  </tr>\n",
       "  <tr>\n",
       "   <td style=\"text-align:right;\"> 2018-01-01 12:00:00 </td>\n",
       "   <td style=\"text-align:right;\"> 63 </td>\n",
       "   <td style=\"text-align:right;\"> 6 </td>\n",
       "  </tr>\n",
       "  <tr>\n",
       "   <td style=\"text-align:right;\"> 2018-01-02 00:00:00 </td>\n",
       "   <td style=\"text-align:right;\"> 80 </td>\n",
       "   <td style=\"text-align:right;\"> 7 </td>\n",
       "  </tr>\n",
       "  <tr>\n",
       "   <td style=\"text-align:right;\"> 2018-01-02 12:00:00 </td>\n",
       "   <td style=\"text-align:right;\"> 68 </td>\n",
       "   <td style=\"text-align:right;\"> 8 </td>\n",
       "  </tr>\n",
       "  <tr>\n",
       "   <td style=\"text-align:right;\"> 2018-01-03 00:00:00 </td>\n",
       "   <td style=\"text-align:right;\"> 82 </td>\n",
       "   <td style=\"text-align:right;\"> 9 </td>\n",
       "  </tr>\n",
       "  <tr>\n",
       "   <td style=\"text-align:right;\"> 2018-01-03 12:00:00 </td>\n",
       "   <td style=\"text-align:right;\"> 59 </td>\n",
       "   <td style=\"text-align:right;\"> 10 </td>\n",
       "  </tr>\n",
       "  <tr>\n",
       "   <td style=\"text-align:right;\"> 2018-01-04 00:00:00 </td>\n",
       "   <td style=\"text-align:right;\"> 74 </td>\n",
       "   <td style=\"text-align:right;\"> 11 </td>\n",
       "  </tr>\n",
       "  <tr>\n",
       "   <td style=\"text-align:right;\"> 2018-01-04 12:00:00 </td>\n",
       "   <td style=\"text-align:right;\"> 61 </td>\n",
       "   <td style=\"text-align:right;\"> 12 </td>\n",
       "  </tr>\n",
       "</tbody>\n",
       "</table></td></tr></table>"
      ]
     },
     "metadata": {},
     "output_type": "display_data"
    }
   ],
   "source": [
    "data.1.duplicated = data.1[sort(rep(1:nrow(data.1), 2)),]\n",
    "data.1.duplicated$step = 1:nrow(data.2)\n",
    "\n",
    "data.2$step = 1:nrow(data.2)\n",
    "\n",
    "layout(data.1.duplicated, data.2)"
   ]
  },
  {
   "cell_type": "markdown",
   "metadata": {},
   "source": [
    "Then disaggregate the duplicated observations with a disaggregation function that makes sense for the variable(s).\n",
    "\n",
    "In this example, we disaggregate by dividing by 2."
   ]
  },
  {
   "cell_type": "code",
   "execution_count": 9,
   "metadata": {
    "hide_input": true
   },
   "outputs": [
    {
     "data": {
      "text/html": [
       "<table>\n",
       " <thead>\n",
       "  <tr>\n",
       "   <th style=\"text-align:right;background-color: #FFFFFF !important;\"> date </th>\n",
       "   <th style=\"text-align:right;background-color: #FFFFFF !important;\"> x1 </th>\n",
       "   <th style=\"text-align:right;background-color: #FFFFFF !important;\"> step </th>\n",
       "  </tr>\n",
       " </thead>\n",
       "<tbody>\n",
       "  <tr>\n",
       "   <td style=\"text-align:right;\"> 2017-12-30 </td>\n",
       "   <td style=\"text-align:right;\"> 500 </td>\n",
       "   <td style=\"text-align:right;\"> 1 </td>\n",
       "  </tr>\n",
       "  <tr>\n",
       "   <td style=\"text-align:right;\"> 2017-12-30 </td>\n",
       "   <td style=\"text-align:right;\"> 500 </td>\n",
       "   <td style=\"text-align:right;\"> 2 </td>\n",
       "  </tr>\n",
       "  <tr>\n",
       "   <td style=\"text-align:right;\"> 2017-12-31 </td>\n",
       "   <td style=\"text-align:right;\"> 550 </td>\n",
       "   <td style=\"text-align:right;\"> 3 </td>\n",
       "  </tr>\n",
       "  <tr>\n",
       "   <td style=\"text-align:right;\"> 2017-12-31 </td>\n",
       "   <td style=\"text-align:right;\"> 550 </td>\n",
       "   <td style=\"text-align:right;\"> 4 </td>\n",
       "  </tr>\n",
       "  <tr>\n",
       "   <td style=\"text-align:right;\"> 2018-01-01 </td>\n",
       "   <td style=\"text-align:right;\"> 450 </td>\n",
       "   <td style=\"text-align:right;\"> 5 </td>\n",
       "  </tr>\n",
       "  <tr>\n",
       "   <td style=\"text-align:right;\"> 2018-01-01 </td>\n",
       "   <td style=\"text-align:right;\"> 450 </td>\n",
       "   <td style=\"text-align:right;\"> 6 </td>\n",
       "  </tr>\n",
       "  <tr>\n",
       "   <td style=\"text-align:right;\"> 2018-01-02 </td>\n",
       "   <td style=\"text-align:right;\"> 475 </td>\n",
       "   <td style=\"text-align:right;\"> 7 </td>\n",
       "  </tr>\n",
       "  <tr>\n",
       "   <td style=\"text-align:right;\"> 2018-01-02 </td>\n",
       "   <td style=\"text-align:right;\"> 475 </td>\n",
       "   <td style=\"text-align:right;\"> 8 </td>\n",
       "  </tr>\n",
       "  <tr>\n",
       "   <td style=\"text-align:right;\"> 2018-01-03 </td>\n",
       "   <td style=\"text-align:right;\"> 400 </td>\n",
       "   <td style=\"text-align:right;\"> 9 </td>\n",
       "  </tr>\n",
       "  <tr>\n",
       "   <td style=\"text-align:right;\"> 2018-01-03 </td>\n",
       "   <td style=\"text-align:right;\"> 400 </td>\n",
       "   <td style=\"text-align:right;\"> 10 </td>\n",
       "  </tr>\n",
       "  <tr>\n",
       "   <td style=\"text-align:right;\"> 2018-01-04 </td>\n",
       "   <td style=\"text-align:right;\"> 525 </td>\n",
       "   <td style=\"text-align:right;\"> 11 </td>\n",
       "  </tr>\n",
       "  <tr>\n",
       "   <td style=\"text-align:right;\"> 2018-01-04 </td>\n",
       "   <td style=\"text-align:right;\"> 525 </td>\n",
       "   <td style=\"text-align:right;\"> 12 </td>\n",
       "  </tr>\n",
       "</tbody>\n",
       "</table>"
      ]
     },
     "metadata": {},
     "output_type": "display_data"
    }
   ],
   "source": [
    "data.1.duplicated$x1 = data.1.duplicated$x1 / 2\n",
    "fmt(data.1.duplicated, NA)"
   ]
  },
  {
   "cell_type": "markdown",
   "metadata": {},
   "source": [
    "Then join the tables."
   ]
  },
  {
   "cell_type": "code",
   "execution_count": 10,
   "metadata": {
    "hide_input": true
   },
   "outputs": [
    {
     "data": {
      "text/html": [
       "<table>\n",
       "<thead><tr><th scope=col>date</th><th scope=col>x1</th><th scope=col>x2</th></tr></thead>\n",
       "<tbody>\n",
       "\t<tr><td>2017-12-30 00:00:00</td><td>500                </td><td>72                 </td></tr>\n",
       "\t<tr><td>2017-12-30 12:00:00</td><td>500                </td><td>56                 </td></tr>\n",
       "\t<tr><td>2017-12-31 00:00:00</td><td>550                </td><td>86                 </td></tr>\n",
       "\t<tr><td>2017-12-31 12:00:00</td><td>550                </td><td>60                 </td></tr>\n",
       "\t<tr><td>2018-01-01 00:00:00</td><td>450                </td><td>76                 </td></tr>\n",
       "\t<tr><td>2018-01-01 12:00:00</td><td>450                </td><td>63                 </td></tr>\n",
       "\t<tr><td>2018-01-02 00:00:00</td><td>475                </td><td>80                 </td></tr>\n",
       "\t<tr><td>2018-01-02 12:00:00</td><td>475                </td><td>68                 </td></tr>\n",
       "\t<tr><td>2018-01-03 00:00:00</td><td>400                </td><td>82                 </td></tr>\n",
       "\t<tr><td>2018-01-03 12:00:00</td><td>400                </td><td>59                 </td></tr>\n",
       "\t<tr><td>2018-01-04 00:00:00</td><td>525                </td><td>74                 </td></tr>\n",
       "\t<tr><td>2018-01-04 12:00:00</td><td>525                </td><td>61                 </td></tr>\n",
       "</tbody>\n",
       "</table>\n"
      ],
      "text/latex": [
       "\\begin{tabular}{r|lll}\n",
       " date & x1 & x2\\\\\n",
       "\\hline\n",
       "\t 2017-12-30 00:00:00 & 500                 & 72                 \\\\\n",
       "\t 2017-12-30 12:00:00 & 500                 & 56                 \\\\\n",
       "\t 2017-12-31 00:00:00 & 550                 & 86                 \\\\\n",
       "\t 2017-12-31 12:00:00 & 550                 & 60                 \\\\\n",
       "\t 2018-01-01 00:00:00 & 450                 & 76                 \\\\\n",
       "\t 2018-01-01 12:00:00 & 450                 & 63                 \\\\\n",
       "\t 2018-01-02 00:00:00 & 475                 & 80                 \\\\\n",
       "\t 2018-01-02 12:00:00 & 475                 & 68                 \\\\\n",
       "\t 2018-01-03 00:00:00 & 400                 & 82                 \\\\\n",
       "\t 2018-01-03 12:00:00 & 400                 & 59                 \\\\\n",
       "\t 2018-01-04 00:00:00 & 525                 & 74                 \\\\\n",
       "\t 2018-01-04 12:00:00 & 525                 & 61                 \\\\\n",
       "\\end{tabular}\n"
      ],
      "text/markdown": [
       "\n",
       "| date | x1 | x2 |\n",
       "|---|---|---|\n",
       "| 2017-12-30 00:00:00 | 500                 | 72                  |\n",
       "| 2017-12-30 12:00:00 | 500                 | 56                  |\n",
       "| 2017-12-31 00:00:00 | 550                 | 86                  |\n",
       "| 2017-12-31 12:00:00 | 550                 | 60                  |\n",
       "| 2018-01-01 00:00:00 | 450                 | 76                  |\n",
       "| 2018-01-01 12:00:00 | 450                 | 63                  |\n",
       "| 2018-01-02 00:00:00 | 475                 | 80                  |\n",
       "| 2018-01-02 12:00:00 | 475                 | 68                  |\n",
       "| 2018-01-03 00:00:00 | 400                 | 82                  |\n",
       "| 2018-01-03 12:00:00 | 400                 | 59                  |\n",
       "| 2018-01-04 00:00:00 | 525                 | 74                  |\n",
       "| 2018-01-04 12:00:00 | 525                 | 61                  |\n",
       "\n"
      ],
      "text/plain": [
       "   date                x1  x2\n",
       "1  2017-12-30 00:00:00 500 72\n",
       "2  2017-12-30 12:00:00 500 56\n",
       "3  2017-12-31 00:00:00 550 86\n",
       "4  2017-12-31 12:00:00 550 60\n",
       "5  2018-01-01 00:00:00 450 76\n",
       "6  2018-01-01 12:00:00 450 63\n",
       "7  2018-01-02 00:00:00 475 80\n",
       "8  2018-01-02 12:00:00 475 68\n",
       "9  2018-01-03 00:00:00 400 82\n",
       "10 2018-01-03 12:00:00 400 59\n",
       "11 2018-01-04 00:00:00 525 74\n",
       "12 2018-01-04 12:00:00 525 61"
      ]
     },
     "metadata": {},
     "output_type": "display_data"
    }
   ],
   "source": [
    "merge(data.1.duplicated[-1], data.2, by=\"step\")[,c(3,2,4)]"
   ]
  },
  {
   "cell_type": "markdown",
   "metadata": {},
   "source": [
    "## Code"
   ]
  },
  {
   "cell_type": "markdown",
   "metadata": {},
   "source": [
    "### Useful Functions"
   ]
  },
  {
   "cell_type": "code",
   "execution_count": 11,
   "metadata": {},
   "outputs": [],
   "source": [
    "# help(aggregate) # from stats library\n",
    "# help(merge)     # from base library\n",
    "# help(rep)       # from base library\n",
    "# help(sort)      # from base library"
   ]
  },
  {
   "cell_type": "markdown",
   "metadata": {},
   "source": [
    "\n",
    "## Expectations\n",
    "\n",
    "Know about this:\n",
    "* How to align variables of differing resolutions, conceptually & using R"
   ]
  },
  {
   "cell_type": "markdown",
   "metadata": {},
   "source": [
    "## Further Reading\n",
    "\n",
    "Further reading coming soon ..."
   ]
  },
  {
   "cell_type": "markdown",
   "metadata": {},
   "source": [
    "<p style=\"text-align:left; font-size:10px;\">\n",
    "Copyright (c) Berkeley Data Analytics Group, LLC\n",
    "<span style=\"float:right;\">\n",
    "Document revised July 17, 2020\n",
    "</span>\n",
    "</p>"
   ]
  }
 ],
 "metadata": {
  "hide_code_all_hidden": false,
  "hide_input": false,
  "kernelspec": {
   "display_name": "R",
   "language": "R",
   "name": "ir"
  },
  "language_info": {
   "codemirror_mode": "r",
   "file_extension": ".r",
   "mimetype": "text/x-r-source",
   "name": "R",
   "pygments_lexer": "r",
   "version": "3.6.1"
  },
  "toc": {
   "base_numbering": 1,
   "nav_menu": {},
   "number_sections": true,
   "sideBar": true,
   "skip_h1_title": true,
   "title_cell": "Table of Contents",
   "title_sidebar": "Contents",
   "toc_cell": false,
   "toc_position": {},
   "toc_section_display": true,
   "toc_window_display": false
  }
 },
 "nbformat": 4,
 "nbformat_minor": 2
}
