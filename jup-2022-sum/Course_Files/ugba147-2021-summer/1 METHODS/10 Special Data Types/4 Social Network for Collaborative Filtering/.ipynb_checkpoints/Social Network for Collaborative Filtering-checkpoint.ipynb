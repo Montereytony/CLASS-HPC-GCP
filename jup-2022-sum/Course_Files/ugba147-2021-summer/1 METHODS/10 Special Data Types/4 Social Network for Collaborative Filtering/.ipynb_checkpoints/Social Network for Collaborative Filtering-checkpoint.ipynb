{
 "cells": [
  {
   "cell_type": "markdown",
   "metadata": {
    "hideCode": false,
    "hidePrompt": false
   },
   "source": [
    "# Social Network Data for Collaborative Filtering\n",
    "![](banner_cf.jpg)"
   ]
  },
  {
   "cell_type": "code",
   "execution_count": 1,
   "metadata": {
    "hide_input": true
   },
   "outputs": [
    {
     "data": {
      "text/html": [
       "<p style=\"text-align:center; font-size:10px;\">\n",
       ".................................................... start of document ....................................................\n",
       "</p>"
      ]
     },
     "metadata": {},
     "output_type": "display_data"
    }
   ],
   "source": [
    "f = \"setup.R\"; for (i in 1:10) { if (file.exists(f)) break else f = paste0(\"../\", f) }; source(f)                       \n",
    "update_geom_defaults(\"point\", list(size=6, colour=\"grey50\"))"
   ]
  },
  {
   "cell_type": "markdown",
   "metadata": {},
   "source": [
    "## Introduction"
   ]
  },
  {
   "cell_type": "markdown",
   "metadata": {},
   "source": [
    "* **Recommender System**\n",
    "* **Bipartite Graph or Bigraph**\n",
    "* **Collaborative Filtering**\n",
    "  * **Neighborhood Approach** \n",
    "    * **User-Based:** predict a user's preference for an item based on ratings for that item by similar users   \n",
    "    * **Item-Based:** predict a user's preference for an item based on ratings of similar items by that user\n",
    "  * **Latent Factor Approach:** characterize both users and items in terms of variables inferred from user ratings"
   ]
  },
  {
   "cell_type": "markdown",
   "metadata": {},
   "source": [
    "## Data"
   ]
  },
  {
   "cell_type": "markdown",
   "metadata": {},
   "source": [
    "<img src=\"cf.jpg\" align=\"left\" width=\"500\">"
   ]
  },
  {
   "cell_type": "code",
   "execution_count": 2,
   "metadata": {
    "hide_input": true,
    "scrolled": false
   },
   "outputs": [
    {
     "data": {
      "text/html": [
       "<table>\n",
       "<caption><center><font color=\"black\"><b>data (adjacency matrix)</b></font></center></caption>\n",
       " <thead>\n",
       "  <tr>\n",
       "   <th style=\"text-align:left;background-color: #FFFFFF !important;\">   </th>\n",
       "   <th style=\"text-align:right;background-color: #FFFFFF !important;\"> user_a </th>\n",
       "   <th style=\"text-align:right;background-color: #FFFFFF !important;\"> user_b </th>\n",
       "   <th style=\"text-align:right;background-color: #FFFFFF !important;\"> user_c </th>\n",
       "   <th style=\"text-align:right;background-color: #FFFFFF !important;\"> user_d </th>\n",
       "   <th style=\"text-align:right;background-color: #FFFFFF !important;\"> item_1 </th>\n",
       "   <th style=\"text-align:right;background-color: #FFFFFF !important;\"> item_2 </th>\n",
       "   <th style=\"text-align:right;background-color: #FFFFFF !important;\"> item_3 </th>\n",
       "   <th style=\"text-align:right;background-color: #FFFFFF !important;\"> item_4 </th>\n",
       "   <th style=\"text-align:right;background-color: #FFFFFF !important;\"> item_5 </th>\n",
       "   <th style=\"text-align:right;background-color: #FFFFFF !important;\"> item_6 </th>\n",
       "  </tr>\n",
       " </thead>\n",
       "<tbody>\n",
       "  <tr>\n",
       "   <td style=\"text-align:left;font-weight: bold;\"> user_a </td>\n",
       "   <td style=\"text-align:right;\"> 0 </td>\n",
       "   <td style=\"text-align:right;\"> 0 </td>\n",
       "   <td style=\"text-align:right;\"> 0 </td>\n",
       "   <td style=\"text-align:right;\"> 0 </td>\n",
       "   <td style=\"text-align:right;\"> 1 </td>\n",
       "   <td style=\"text-align:right;\"> 1 </td>\n",
       "   <td style=\"text-align:right;\"> 1 </td>\n",
       "   <td style=\"text-align:right;\"> 0 </td>\n",
       "   <td style=\"text-align:right;\"> 1 </td>\n",
       "   <td style=\"text-align:right;\"> 1 </td>\n",
       "  </tr>\n",
       "  <tr>\n",
       "   <td style=\"text-align:left;font-weight: bold;\"> user_b </td>\n",
       "   <td style=\"text-align:right;\"> 0 </td>\n",
       "   <td style=\"text-align:right;\"> 0 </td>\n",
       "   <td style=\"text-align:right;\"> 0 </td>\n",
       "   <td style=\"text-align:right;\"> 0 </td>\n",
       "   <td style=\"text-align:right;\"> 1 </td>\n",
       "   <td style=\"text-align:right;\"> 0 </td>\n",
       "   <td style=\"text-align:right;\"> 1 </td>\n",
       "   <td style=\"text-align:right;\"> 1 </td>\n",
       "   <td style=\"text-align:right;\"> 1 </td>\n",
       "   <td style=\"text-align:right;\"> 1 </td>\n",
       "  </tr>\n",
       "  <tr>\n",
       "   <td style=\"text-align:left;font-weight: bold;\"> user_c </td>\n",
       "   <td style=\"text-align:right;\"> 0 </td>\n",
       "   <td style=\"text-align:right;\"> 0 </td>\n",
       "   <td style=\"text-align:right;\"> 0 </td>\n",
       "   <td style=\"text-align:right;\"> 0 </td>\n",
       "   <td style=\"text-align:right;\"> 0 </td>\n",
       "   <td style=\"text-align:right;\"> 1 </td>\n",
       "   <td style=\"text-align:right;\"> 1 </td>\n",
       "   <td style=\"text-align:right;\"> 0 </td>\n",
       "   <td style=\"text-align:right;\"> 1 </td>\n",
       "   <td style=\"text-align:right;\"> 1 </td>\n",
       "  </tr>\n",
       "  <tr>\n",
       "   <td style=\"text-align:left;font-weight: bold;\"> user_d </td>\n",
       "   <td style=\"text-align:right;\"> 0 </td>\n",
       "   <td style=\"text-align:right;\"> 0 </td>\n",
       "   <td style=\"text-align:right;\"> 0 </td>\n",
       "   <td style=\"text-align:right;\"> 0 </td>\n",
       "   <td style=\"text-align:right;\"> 1 </td>\n",
       "   <td style=\"text-align:right;\"> 0 </td>\n",
       "   <td style=\"text-align:right;\"> 0 </td>\n",
       "   <td style=\"text-align:right;\"> 1 </td>\n",
       "   <td style=\"text-align:right;\"> 1 </td>\n",
       "   <td style=\"text-align:right;\"> 1 </td>\n",
       "  </tr>\n",
       "  <tr>\n",
       "   <td style=\"text-align:left;font-weight: bold;\"> item_1 </td>\n",
       "   <td style=\"text-align:right;\"> 0 </td>\n",
       "   <td style=\"text-align:right;\"> 0 </td>\n",
       "   <td style=\"text-align:right;\"> 0 </td>\n",
       "   <td style=\"text-align:right;\"> 0 </td>\n",
       "   <td style=\"text-align:right;\"> 0 </td>\n",
       "   <td style=\"text-align:right;\"> 0 </td>\n",
       "   <td style=\"text-align:right;\"> 0 </td>\n",
       "   <td style=\"text-align:right;\"> 0 </td>\n",
       "   <td style=\"text-align:right;\"> 0 </td>\n",
       "   <td style=\"text-align:right;\"> 0 </td>\n",
       "  </tr>\n",
       "  <tr>\n",
       "   <td style=\"text-align:left;font-weight: bold;\"> item_2 </td>\n",
       "   <td style=\"text-align:right;\"> 0 </td>\n",
       "   <td style=\"text-align:right;\"> 0 </td>\n",
       "   <td style=\"text-align:right;\"> 0 </td>\n",
       "   <td style=\"text-align:right;\"> 0 </td>\n",
       "   <td style=\"text-align:right;\"> 0 </td>\n",
       "   <td style=\"text-align:right;\"> 0 </td>\n",
       "   <td style=\"text-align:right;\"> 0 </td>\n",
       "   <td style=\"text-align:right;\"> 0 </td>\n",
       "   <td style=\"text-align:right;\"> 0 </td>\n",
       "   <td style=\"text-align:right;\"> 0 </td>\n",
       "  </tr>\n",
       "  <tr>\n",
       "   <td style=\"text-align:left;font-weight: bold;\"> item_3 </td>\n",
       "   <td style=\"text-align:right;\"> 0 </td>\n",
       "   <td style=\"text-align:right;\"> 0 </td>\n",
       "   <td style=\"text-align:right;\"> 0 </td>\n",
       "   <td style=\"text-align:right;\"> 0 </td>\n",
       "   <td style=\"text-align:right;\"> 0 </td>\n",
       "   <td style=\"text-align:right;\"> 0 </td>\n",
       "   <td style=\"text-align:right;\"> 0 </td>\n",
       "   <td style=\"text-align:right;\"> 0 </td>\n",
       "   <td style=\"text-align:right;\"> 0 </td>\n",
       "   <td style=\"text-align:right;\"> 0 </td>\n",
       "  </tr>\n",
       "  <tr>\n",
       "   <td style=\"text-align:left;font-weight: bold;\"> item_4 </td>\n",
       "   <td style=\"text-align:right;\"> 0 </td>\n",
       "   <td style=\"text-align:right;\"> 0 </td>\n",
       "   <td style=\"text-align:right;\"> 0 </td>\n",
       "   <td style=\"text-align:right;\"> 0 </td>\n",
       "   <td style=\"text-align:right;\"> 0 </td>\n",
       "   <td style=\"text-align:right;\"> 0 </td>\n",
       "   <td style=\"text-align:right;\"> 0 </td>\n",
       "   <td style=\"text-align:right;\"> 0 </td>\n",
       "   <td style=\"text-align:right;\"> 0 </td>\n",
       "   <td style=\"text-align:right;\"> 0 </td>\n",
       "  </tr>\n",
       "  <tr>\n",
       "   <td style=\"text-align:left;font-weight: bold;\"> item_5 </td>\n",
       "   <td style=\"text-align:right;\"> 0 </td>\n",
       "   <td style=\"text-align:right;\"> 0 </td>\n",
       "   <td style=\"text-align:right;\"> 0 </td>\n",
       "   <td style=\"text-align:right;\"> 0 </td>\n",
       "   <td style=\"text-align:right;\"> 0 </td>\n",
       "   <td style=\"text-align:right;\"> 0 </td>\n",
       "   <td style=\"text-align:right;\"> 0 </td>\n",
       "   <td style=\"text-align:right;\"> 0 </td>\n",
       "   <td style=\"text-align:right;\"> 0 </td>\n",
       "   <td style=\"text-align:right;\"> 0 </td>\n",
       "  </tr>\n",
       "  <tr>\n",
       "   <td style=\"text-align:left;font-weight: bold;\"> item_6 </td>\n",
       "   <td style=\"text-align:right;\"> 0 </td>\n",
       "   <td style=\"text-align:right;\"> 0 </td>\n",
       "   <td style=\"text-align:right;\"> 0 </td>\n",
       "   <td style=\"text-align:right;\"> 0 </td>\n",
       "   <td style=\"text-align:right;\"> 0 </td>\n",
       "   <td style=\"text-align:right;\"> 0 </td>\n",
       "   <td style=\"text-align:right;\"> 0 </td>\n",
       "   <td style=\"text-align:right;\"> 0 </td>\n",
       "   <td style=\"text-align:right;\"> 0 </td>\n",
       "   <td style=\"text-align:right;\"> 0 </td>\n",
       "  </tr>\n",
       "</tbody>\n",
       "</table>"
      ]
     },
     "metadata": {},
     "output_type": "display_data"
    }
   ],
   "source": [
    "data.a = data.frame(user_a=c(0,0,0,0,0,0,0,0,0,0), \n",
    "                    user_b=c(0,0,0,0,0,0,0,0,0,0), \n",
    "                    user_c=c(0,0,0,0,0,0,0,0,0,0), \n",
    "                    user_d=c(0,0,0,0,0,0,0,0,0,0), \n",
    "                    item_1=c(1,1,0,1,0,0,0,0,0,0), \n",
    "                    item_2=c(1,0,1,0,0,0,0,0,0,0), \n",
    "                    item_3=c(1,1,1,0,0,0,0,0,0,0), \n",
    "                    item_4=c(0,1,0,1,0,0,0,0,0,0), \n",
    "                    item_5=c(1,1,1,1,0,0,0,0,0,0), \n",
    "                    item_6=c(1,1,1,1,0,0,0,0,0,0))\n",
    "rownames(data.a) = colnames(data.a)\n",
    "\n",
    "fmt(data.a, \"data (adjacency matrix)\", TRUE)"
   ]
  },
  {
   "cell_type": "code",
   "execution_count": 3,
   "metadata": {
    "hide_input": true
   },
   "outputs": [
    {
     "data": {
      "text/html": [
       "<table>\n",
       "<caption><center><font color=\"black\"><b>data</b></font></center></caption>\n",
       " <thead>\n",
       "  <tr>\n",
       "   <th style=\"text-align:left;background-color: #FFFFFF !important;\">   </th>\n",
       "   <th style=\"text-align:right;background-color: #FFFFFF !important;\"> item_1 </th>\n",
       "   <th style=\"text-align:right;background-color: #FFFFFF !important;\"> item_2 </th>\n",
       "   <th style=\"text-align:right;background-color: #FFFFFF !important;\"> item_3 </th>\n",
       "   <th style=\"text-align:right;background-color: #FFFFFF !important;\"> item_4 </th>\n",
       "   <th style=\"text-align:right;background-color: #FFFFFF !important;\"> item_5 </th>\n",
       "   <th style=\"text-align:right;background-color: #FFFFFF !important;\"> item_6 </th>\n",
       "  </tr>\n",
       " </thead>\n",
       "<tbody>\n",
       "  <tr>\n",
       "   <td style=\"text-align:left;font-weight: bold;\"> user_a </td>\n",
       "   <td style=\"text-align:right;\"> 4 </td>\n",
       "   <td style=\"text-align:right;\"> 5 </td>\n",
       "   <td style=\"text-align:right;\"> 5 </td>\n",
       "   <td style=\"text-align:right;\"> NA </td>\n",
       "   <td style=\"text-align:right;\"> 4 </td>\n",
       "   <td style=\"text-align:right;\"> 1 </td>\n",
       "  </tr>\n",
       "  <tr>\n",
       "   <td style=\"text-align:left;font-weight: bold;\"> user_b </td>\n",
       "   <td style=\"text-align:right;\"> 4 </td>\n",
       "   <td style=\"text-align:right;\"> NA </td>\n",
       "   <td style=\"text-align:right;\"> 5 </td>\n",
       "   <td style=\"text-align:right;\"> 2 </td>\n",
       "   <td style=\"text-align:right;\"> 4 </td>\n",
       "   <td style=\"text-align:right;\"> 2 </td>\n",
       "  </tr>\n",
       "  <tr>\n",
       "   <td style=\"text-align:left;font-weight: bold;\"> user_c </td>\n",
       "   <td style=\"text-align:right;\"> NA </td>\n",
       "   <td style=\"text-align:right;\"> 4 </td>\n",
       "   <td style=\"text-align:right;\"> 1 </td>\n",
       "   <td style=\"text-align:right;\"> NA </td>\n",
       "   <td style=\"text-align:right;\"> 2 </td>\n",
       "   <td style=\"text-align:right;\"> 1 </td>\n",
       "  </tr>\n",
       "  <tr>\n",
       "   <td style=\"text-align:left;font-weight: bold;\"> user_d </td>\n",
       "   <td style=\"text-align:right;\"> 3 </td>\n",
       "   <td style=\"text-align:right;\"> NA </td>\n",
       "   <td style=\"text-align:right;\"> NA </td>\n",
       "   <td style=\"text-align:right;\"> 5 </td>\n",
       "   <td style=\"text-align:right;\"> 4 </td>\n",
       "   <td style=\"text-align:right;\"> 3 </td>\n",
       "  </tr>\n",
       "</tbody>\n",
       "</table>"
      ]
     },
     "metadata": {},
     "output_type": "display_data"
    }
   ],
   "source": [
    "data = data.frame(item_1=c(4,4,NA,3), item_2=c(5,NA,4,NA), item_3=c(5,5,1,NA), item_4=c(NA,2,NA,5), item_5=c(4,4,2,4), item_6=c(1,2,1,3))\n",
    "rownames(data) = c(\"user_a\",\"user_b\",\"user_c\",\"user_d\")\n",
    "\n",
    "fmt(data, row.names=TRUE)"
   ]
  },
  {
   "cell_type": "markdown",
   "metadata": {},
   "source": [
    "## About Collaborative Filtering - Simple Version\n",
    "\n",
    "Neighborhood approach, user-based.  Predict ratings of would-be links.  Assume that similar users rate a particular item similarly."
   ]
  },
  {
   "cell_type": "markdown",
   "metadata": {},
   "source": [
    "* Use only the rating of the most similar user\n",
    "* Measure similarity by correlation\n",
    "* Disregard missing data, treat negative correlations as no similarity"
   ]
  },
  {
   "cell_type": "markdown",
   "metadata": {},
   "source": [
    "Specifically, predictions for ratings are calculated like this:\n",
    "\n",
    "$\n",
    "\\begin{align}\n",
    "\\hat{r}_{u,i} = r_{x,i}\n",
    "\\end{align}\n",
    "$\n",
    "\n",
    "where ...\n",
    "* $\\hat{r}_{u,i}$ is the prediction for user $u$'s rating of item $i$\n",
    "* $x$ is the index of the user most similar to user $u$ \n",
    "* $r_{x,i}$ is user $x$'s rating of item $i$"
   ]
  },
  {
   "cell_type": "markdown",
   "metadata": {},
   "source": [
    "## Collaborative FIltering - Simple Version"
   ]
  },
  {
   "cell_type": "markdown",
   "metadata": {},
   "source": [
    "**Calculate dissimilarity matrix:**"
   ]
  },
  {
   "cell_type": "code",
   "execution_count": 5,
   "metadata": {
    "hide_input": true,
    "scrolled": true
   },
   "outputs": [
    {
     "data": {
      "text/html": [
       "<table><tr><td style=\"background-color:white; vertical-align:top; padding-right:40px;\"><table>\n",
       "<caption><center><font color=\"black\"><b>data (transposed)</b></font></center></caption>\n",
       " <thead>\n",
       "  <tr>\n",
       "   <th style=\"text-align:left;background-color: #FFFFFF !important;\">   </th>\n",
       "   <th style=\"text-align:right;background-color: #FFFFFF !important;\"> user_a </th>\n",
       "   <th style=\"text-align:right;background-color: #FFFFFF !important;\"> user_b </th>\n",
       "   <th style=\"text-align:right;background-color: #FFFFFF !important;\"> user_c </th>\n",
       "   <th style=\"text-align:right;background-color: #FFFFFF !important;\"> user_d </th>\n",
       "  </tr>\n",
       " </thead>\n",
       "<tbody>\n",
       "  <tr>\n",
       "   <td style=\"text-align:left;font-weight: bold;\"> item_1 </td>\n",
       "   <td style=\"text-align:right;\"> 4 </td>\n",
       "   <td style=\"text-align:right;\"> 4 </td>\n",
       "   <td style=\"text-align:right;\"> NA </td>\n",
       "   <td style=\"text-align:right;\"> 3 </td>\n",
       "  </tr>\n",
       "  <tr>\n",
       "   <td style=\"text-align:left;font-weight: bold;\"> item_2 </td>\n",
       "   <td style=\"text-align:right;\"> 5 </td>\n",
       "   <td style=\"text-align:right;\"> NA </td>\n",
       "   <td style=\"text-align:right;\"> 4 </td>\n",
       "   <td style=\"text-align:right;\"> NA </td>\n",
       "  </tr>\n",
       "  <tr>\n",
       "   <td style=\"text-align:left;font-weight: bold;\"> item_3 </td>\n",
       "   <td style=\"text-align:right;\"> 5 </td>\n",
       "   <td style=\"text-align:right;\"> 5 </td>\n",
       "   <td style=\"text-align:right;\"> 1 </td>\n",
       "   <td style=\"text-align:right;\"> NA </td>\n",
       "  </tr>\n",
       "  <tr>\n",
       "   <td style=\"text-align:left;font-weight: bold;\"> item_4 </td>\n",
       "   <td style=\"text-align:right;\"> NA </td>\n",
       "   <td style=\"text-align:right;\"> 2 </td>\n",
       "   <td style=\"text-align:right;\"> NA </td>\n",
       "   <td style=\"text-align:right;\"> 5 </td>\n",
       "  </tr>\n",
       "  <tr>\n",
       "   <td style=\"text-align:left;font-weight: bold;\"> item_5 </td>\n",
       "   <td style=\"text-align:right;\"> 4 </td>\n",
       "   <td style=\"text-align:right;\"> 4 </td>\n",
       "   <td style=\"text-align:right;\"> 2 </td>\n",
       "   <td style=\"text-align:right;\"> 4 </td>\n",
       "  </tr>\n",
       "  <tr>\n",
       "   <td style=\"text-align:left;font-weight: bold;\"> item_6 </td>\n",
       "   <td style=\"text-align:right;\"> 1 </td>\n",
       "   <td style=\"text-align:right;\"> 2 </td>\n",
       "   <td style=\"text-align:right;\"> 1 </td>\n",
       "   <td style=\"text-align:right;\"> 3 </td>\n",
       "  </tr>\n",
       "</tbody>\n",
       "</table></td><td style=\"background-color:white; vertical-align:top;\"><table>\n",
       "<caption><center><font color=\"black\"><b>similarity matrix (correlation after negatives removed)</b></font></center></caption>\n",
       " <thead>\n",
       "  <tr>\n",
       "   <th style=\"text-align:left;background-color: #FFFFFF !important;\">   </th>\n",
       "   <th style=\"text-align:right;background-color: #FFFFFF !important;\"> user_a </th>\n",
       "   <th style=\"text-align:right;background-color: #FFFFFF !important;\"> user_b </th>\n",
       "   <th style=\"text-align:right;background-color: #FFFFFF !important;\"> user_c </th>\n",
       "   <th style=\"text-align:right;background-color: #FFFFFF !important;\"> user_d </th>\n",
       "  </tr>\n",
       " </thead>\n",
       "<tbody>\n",
       "  <tr>\n",
       "   <td style=\"text-align:left;font-weight: bold;\"> user_a </td>\n",
       "   <td style=\"text-align:right;\"> 1.0000000 </td>\n",
       "   <td style=\"text-align:right;\"> 0.9941348 </td>\n",
       "   <td style=\"text-align:right;\"> 0.4980582 </td>\n",
       "   <td style=\"text-align:right;\"> 0.5 </td>\n",
       "  </tr>\n",
       "  <tr>\n",
       "   <td style=\"text-align:left;font-weight: bold;\"> user_b </td>\n",
       "   <td style=\"text-align:right;\"> 0.9941348 </td>\n",
       "   <td style=\"text-align:right;\"> 1.0000000 </td>\n",
       "   <td style=\"text-align:right;\"> 0.1889822 </td>\n",
       "   <td style=\"text-align:right;\"> 0.0 </td>\n",
       "  </tr>\n",
       "  <tr>\n",
       "   <td style=\"text-align:left;font-weight: bold;\"> user_c </td>\n",
       "   <td style=\"text-align:right;\"> 0.4980582 </td>\n",
       "   <td style=\"text-align:right;\"> 0.1889822 </td>\n",
       "   <td style=\"text-align:right;\"> 1.0000000 </td>\n",
       "   <td style=\"text-align:right;\"> 1.0 </td>\n",
       "  </tr>\n",
       "  <tr>\n",
       "   <td style=\"text-align:left;font-weight: bold;\"> user_d </td>\n",
       "   <td style=\"text-align:right;\"> 0.5000000 </td>\n",
       "   <td style=\"text-align:right;\"> 0.0000000 </td>\n",
       "   <td style=\"text-align:right;\"> 1.0000000 </td>\n",
       "   <td style=\"text-align:right;\"> 1.0 </td>\n",
       "  </tr>\n",
       "</tbody>\n",
       "</table></td></tr></table>"
      ]
     },
     "metadata": {},
     "output_type": "display_data"
    }
   ],
   "source": [
    "data.p = data\n",
    "\n",
    "similarity = cor(t(data.p), method=\"pearson\", use=\"pairwise.complete.obs\")\n",
    "similarity[similarity < 0] = 0\n",
    "\n",
    "layout(fmt(t(data.p), \"data (transposed)\", TRUE),\n",
    "       fmt(similarity, \"similarity matrix (correlation after negatives removed)\", TRUE))"
   ]
  },
  {
   "cell_type": "markdown",
   "metadata": {},
   "source": [
    "**Predict User A's rating of Item 4:**"
   ]
  },
  {
   "cell_type": "code",
   "execution_count": 6,
   "metadata": {
    "hide_input": true
   },
   "outputs": [
    {
     "data": {
      "text/html": [
       "<table>\n",
       "<caption><center><font color=\"black\"><b>prediction</b></font></center></caption>\n",
       " <thead>\n",
       "  <tr>\n",
       "   <th style=\"text-align:right;background-color: #FFFFFF !important;\"> user </th>\n",
       "   <th style=\"text-align:right;background-color: #FFFFFF !important;\"> similar_user </th>\n",
       "   <th style=\"text-align:right;background-color: #FFFFFF !important;\"> item_4 </th>\n",
       "  </tr>\n",
       " </thead>\n",
       "<tbody>\n",
       "  <tr>\n",
       "   <td style=\"text-align:right;\"> user_a </td>\n",
       "   <td style=\"text-align:right;\"> user_b </td>\n",
       "   <td style=\"text-align:right;\"> 2 </td>\n",
       "  </tr>\n",
       "</tbody>\n",
       "</table>"
      ]
     },
     "metadata": {},
     "output_type": "display_data"
    }
   ],
   "source": [
    "nn = names(which.max(similarity[-1,\"user_a\"]))\n",
    "fmt(data.frame(user=\"user_a\", similar_user=nn, item_4=data.p[nn, \"item_4\"]), \"prediction\")"
   ]
  },
  {
   "cell_type": "code",
   "execution_count": 7,
   "metadata": {
    "hide_input": true,
    "scrolled": true
   },
   "outputs": [
    {
     "data": {
      "text/html": [
       "<table>\n",
       "<caption><center><font color=\"black\"><b>data (after filtered just for user_a)</b></font></center></caption>\n",
       " <thead>\n",
       "  <tr>\n",
       "   <th style=\"text-align:left;background-color: #FFFFFF !important;\">   </th>\n",
       "   <th style=\"text-align:right;background-color: #FFFFFF !important;\"> item_1 </th>\n",
       "   <th style=\"text-align:right;background-color: #FFFFFF !important;\"> item_2 </th>\n",
       "   <th style=\"text-align:right;background-color: #FFFFFF !important;\"> item_3 </th>\n",
       "   <th style=\"text-align:right;background-color: #FFFFFF !important;\"> item_4 </th>\n",
       "   <th style=\"text-align:right;background-color: #FFFFFF !important;\"> item_5 </th>\n",
       "   <th style=\"text-align:right;background-color: #FFFFFF !important;\"> item_6 </th>\n",
       "  </tr>\n",
       " </thead>\n",
       "<tbody>\n",
       "  <tr>\n",
       "   <td style=\"text-align:left;font-weight: bold;\"> user_a </td>\n",
       "   <td style=\"text-align:right;\"> 4 </td>\n",
       "   <td style=\"text-align:right;\"> 5 </td>\n",
       "   <td style=\"text-align:right;\"> 5 </td>\n",
       "   <td style=\"text-align:right;\"> 2 </td>\n",
       "   <td style=\"text-align:right;\"> 4 </td>\n",
       "   <td style=\"text-align:right;\"> 1 </td>\n",
       "  </tr>\n",
       "  <tr>\n",
       "   <td style=\"text-align:left;font-weight: bold;\"> user_b </td>\n",
       "   <td style=\"text-align:right;\"> 4 </td>\n",
       "   <td style=\"text-align:right;\"> NA </td>\n",
       "   <td style=\"text-align:right;\"> 5 </td>\n",
       "   <td style=\"text-align:right;\"> 2 </td>\n",
       "   <td style=\"text-align:right;\"> 4 </td>\n",
       "   <td style=\"text-align:right;\"> 2 </td>\n",
       "  </tr>\n",
       "  <tr>\n",
       "   <td style=\"text-align:left;font-weight: bold;\"> user_c </td>\n",
       "   <td style=\"text-align:right;\"> NA </td>\n",
       "   <td style=\"text-align:right;\"> 4 </td>\n",
       "   <td style=\"text-align:right;\"> 1 </td>\n",
       "   <td style=\"text-align:right;\"> NA </td>\n",
       "   <td style=\"text-align:right;\"> 2 </td>\n",
       "   <td style=\"text-align:right;\"> 1 </td>\n",
       "  </tr>\n",
       "  <tr>\n",
       "   <td style=\"text-align:left;font-weight: bold;\"> user_d </td>\n",
       "   <td style=\"text-align:right;\"> 3 </td>\n",
       "   <td style=\"text-align:right;\"> NA </td>\n",
       "   <td style=\"text-align:right;\"> NA </td>\n",
       "   <td style=\"text-align:right;\"> 5 </td>\n",
       "   <td style=\"text-align:right;\"> 4 </td>\n",
       "   <td style=\"text-align:right;\"> 3 </td>\n",
       "  </tr>\n",
       "</tbody>\n",
       "</table>"
      ]
     },
     "metadata": {},
     "output_type": "display_data"
    }
   ],
   "source": [
    "data.p[\"user_a\",\"item_4\"] = data.p[\"user_b\",\"item_4\"]\n",
    "fmt(data.p, \"data (after filtered just for user_a)\", TRUE)"
   ]
  },
  {
   "cell_type": "markdown",
   "metadata": {},
   "source": [
    "**Predict all missing ratings:**"
   ]
  },
  {
   "cell_type": "code",
   "execution_count": 8,
   "metadata": {
    "hide_input": true,
    "scrolled": true
   },
   "outputs": [
    {
     "data": {
      "text/html": [
       "<table>\n",
       "<caption><center><font color=\"black\"><b>similar user rating</b></font></center></caption>\n",
       " <thead>\n",
       "  <tr>\n",
       "   <th style=\"text-align:right;background-color: #FFFFFF !important;\"> user </th>\n",
       "   <th style=\"text-align:right;background-color: #FFFFFF !important;\"> similar_user </th>\n",
       "   <th style=\"text-align:right;background-color: #FFFFFF !important;\"> item_1 </th>\n",
       "   <th style=\"text-align:right;background-color: #FFFFFF !important;\"> item_2 </th>\n",
       "   <th style=\"text-align:right;background-color: #FFFFFF !important;\"> item_3 </th>\n",
       "   <th style=\"text-align:right;background-color: #FFFFFF !important;\"> item_4 </th>\n",
       "   <th style=\"text-align:right;background-color: #FFFFFF !important;\"> item_5 </th>\n",
       "   <th style=\"text-align:right;background-color: #FFFFFF !important;\"> item_6 </th>\n",
       "  </tr>\n",
       " </thead>\n",
       "<tbody>\n",
       "  <tr>\n",
       "   <td style=\"text-align:right;\"> user_a </td>\n",
       "   <td style=\"text-align:right;\"> user_b </td>\n",
       "   <td style=\"text-align:right;\"> 4 </td>\n",
       "   <td style=\"text-align:right;\"> NA </td>\n",
       "   <td style=\"text-align:right;\"> 5 </td>\n",
       "   <td style=\"text-align:right;\"> 2 </td>\n",
       "   <td style=\"text-align:right;\"> 4 </td>\n",
       "   <td style=\"text-align:right;\"> 2 </td>\n",
       "  </tr>\n",
       "  <tr>\n",
       "   <td style=\"text-align:right;\"> user_b </td>\n",
       "   <td style=\"text-align:right;\"> user_a </td>\n",
       "   <td style=\"text-align:right;\"> 4 </td>\n",
       "   <td style=\"text-align:right;\"> 5 </td>\n",
       "   <td style=\"text-align:right;\"> 5 </td>\n",
       "   <td style=\"text-align:right;\"> NA </td>\n",
       "   <td style=\"text-align:right;\"> 4 </td>\n",
       "   <td style=\"text-align:right;\"> 1 </td>\n",
       "  </tr>\n",
       "  <tr>\n",
       "   <td style=\"text-align:right;\"> user_c </td>\n",
       "   <td style=\"text-align:right;\"> user_d </td>\n",
       "   <td style=\"text-align:right;\"> 3 </td>\n",
       "   <td style=\"text-align:right;\"> NA </td>\n",
       "   <td style=\"text-align:right;\"> NA </td>\n",
       "   <td style=\"text-align:right;\"> 5 </td>\n",
       "   <td style=\"text-align:right;\"> 4 </td>\n",
       "   <td style=\"text-align:right;\"> 3 </td>\n",
       "  </tr>\n",
       "  <tr>\n",
       "   <td style=\"text-align:right;\"> user_d </td>\n",
       "   <td style=\"text-align:right;\"> user_c </td>\n",
       "   <td style=\"text-align:right;\"> NA </td>\n",
       "   <td style=\"text-align:right;\"> 4 </td>\n",
       "   <td style=\"text-align:right;\"> 1 </td>\n",
       "   <td style=\"text-align:right;\"> NA </td>\n",
       "   <td style=\"text-align:right;\"> 2 </td>\n",
       "   <td style=\"text-align:right;\"> 1 </td>\n",
       "  </tr>\n",
       "</tbody>\n",
       "</table>"
      ]
     },
     "metadata": {},
     "output_type": "display_data"
    }
   ],
   "source": [
    "data.p = data\n",
    "\n",
    "nn = c(names(which.max(similarity[-1,\"user_a\"])),\n",
    "       names(which.max(similarity[-2,\"user_b\"])),\n",
    "       names(which.max(similarity[-3,\"user_c\"])),\n",
    "       names(which.max(similarity[-4,\"user_d\"])))\n",
    "\n",
    "sur = data.frame(user=c(\"user_a\",\"user_b\",\"user_c\",\"user_d\"),\n",
    "                 similar_user=nn,\n",
    "                 item_1=data.p[nn, \"item_1\"],\n",
    "                 item_2=data.p[nn, \"item_2\"],\n",
    "                 item_3=data.p[nn, \"item_3\"],\n",
    "                 item_4=data.p[nn, \"item_4\"],\n",
    "                 item_5=data.p[nn, \"item_5\"],\n",
    "                 item_6=data.p[nn, \"item_6\"])\n",
    "\n",
    "fmt(sur, \"similar user rating\")"
   ]
  },
  {
   "cell_type": "code",
   "execution_count": 9,
   "metadata": {
    "hide_input": true,
    "scrolled": true
   },
   "outputs": [
    {
     "data": {
      "text/html": [
       "<table>\n",
       "<caption><center><font color=\"black\"><b>data (after filtered)</b></font></center></caption>\n",
       " <thead>\n",
       "  <tr>\n",
       "   <th style=\"text-align:left;background-color: #FFFFFF !important;\">   </th>\n",
       "   <th style=\"text-align:right;background-color: #FFFFFF !important;\"> item_1 </th>\n",
       "   <th style=\"text-align:right;background-color: #FFFFFF !important;\"> item_2 </th>\n",
       "   <th style=\"text-align:right;background-color: #FFFFFF !important;\"> item_3 </th>\n",
       "   <th style=\"text-align:right;background-color: #FFFFFF !important;\"> item_4 </th>\n",
       "   <th style=\"text-align:right;background-color: #FFFFFF !important;\"> item_5 </th>\n",
       "   <th style=\"text-align:right;background-color: #FFFFFF !important;\"> item_6 </th>\n",
       "  </tr>\n",
       " </thead>\n",
       "<tbody>\n",
       "  <tr>\n",
       "   <td style=\"text-align:left;font-weight: bold;\"> user_a </td>\n",
       "   <td style=\"text-align:right;\"> 4 </td>\n",
       "   <td style=\"text-align:right;\"> 5 </td>\n",
       "   <td style=\"text-align:right;\"> 5 </td>\n",
       "   <td style=\"text-align:right;\"> 2 </td>\n",
       "   <td style=\"text-align:right;\"> 4 </td>\n",
       "   <td style=\"text-align:right;\"> 1 </td>\n",
       "  </tr>\n",
       "  <tr>\n",
       "   <td style=\"text-align:left;font-weight: bold;\"> user_b </td>\n",
       "   <td style=\"text-align:right;\"> 4 </td>\n",
       "   <td style=\"text-align:right;\"> 5 </td>\n",
       "   <td style=\"text-align:right;\"> 5 </td>\n",
       "   <td style=\"text-align:right;\"> 2 </td>\n",
       "   <td style=\"text-align:right;\"> 4 </td>\n",
       "   <td style=\"text-align:right;\"> 2 </td>\n",
       "  </tr>\n",
       "  <tr>\n",
       "   <td style=\"text-align:left;font-weight: bold;\"> user_c </td>\n",
       "   <td style=\"text-align:right;\"> 3 </td>\n",
       "   <td style=\"text-align:right;\"> 4 </td>\n",
       "   <td style=\"text-align:right;\"> 1 </td>\n",
       "   <td style=\"text-align:right;\"> 5 </td>\n",
       "   <td style=\"text-align:right;\"> 2 </td>\n",
       "   <td style=\"text-align:right;\"> 1 </td>\n",
       "  </tr>\n",
       "  <tr>\n",
       "   <td style=\"text-align:left;font-weight: bold;\"> user_d </td>\n",
       "   <td style=\"text-align:right;\"> 3 </td>\n",
       "   <td style=\"text-align:right;\"> 4 </td>\n",
       "   <td style=\"text-align:right;\"> 1 </td>\n",
       "   <td style=\"text-align:right;\"> 5 </td>\n",
       "   <td style=\"text-align:right;\"> 4 </td>\n",
       "   <td style=\"text-align:right;\"> 3 </td>\n",
       "  </tr>\n",
       "</tbody>\n",
       "</table>"
      ]
     },
     "metadata": {},
     "output_type": "display_data"
    }
   ],
   "source": [
    "data.p[\"user_a\",\"item_4\"] = sur[sur$user==\"user_a\",\"item_4\"]\n",
    "data.p[\"user_b\",\"item_2\"] = sur[sur$user==\"user_b\",\"item_2\"]\n",
    "data.p[\"user_c\",\"item_1\"] = sur[sur$user==\"user_c\",\"item_1\"]\n",
    "data.p[\"user_c\",\"item_4\"] = sur[sur$user==\"user_c\",\"item_4\"]\n",
    "data.p[\"user_d\",\"item_2\"] = sur[sur$user==\"user_d\",\"item_2\"]\n",
    "data.p[\"user_d\",\"item_3\"] = sur[sur$user==\"user_d\",\"item_3\"]\n",
    "\n",
    "fmt(data.p, \"data (after filtered)\", TRUE)"
   ]
  },
  {
   "cell_type": "markdown",
   "metadata": {},
   "source": [
    "## About Collaborative Filtering - Weighted Version\n",
    "\n",
    "* Use ratings of all other users, adjusted by similarity\n",
    "* Measure similarity by correlation\n",
    "* Disregard missing data, treat negative correlations as no similarity"
   ]
  },
  {
   "cell_type": "markdown",
   "metadata": {},
   "source": [
    "Specifically, predictions for ratings are calculated like this:\n",
    "\n",
    "$\n",
    "\\begin{align}\n",
    "\\hat{r}_{u,i} = \\frac{\\sum_{x \\in N_u}{w_{x,u} r_{x,i}}}{\\sum_{x \\in N_u}{w_{x,u}}}\n",
    "\\end{align}\n",
    "$\n",
    "\n",
    "where ...\n",
    "* $\\hat{r}_{u,i}$ is the prediction for user $u$'s rating of item $i$\n",
    "* $N_u$ are the indices of the users other than user $u$\n",
    "* $w_{x,u}$ is the measure of how similar user $x$ is to user $u$\n",
    "* $r_{x,i}$ is user $x$'s rating of item $i$"
   ]
  },
  {
   "cell_type": "markdown",
   "metadata": {},
   "source": [
    "## Collaborative Filtering - Weighted Version"
   ]
  },
  {
   "cell_type": "markdown",
   "metadata": {},
   "source": [
    "**Calculate similarity matrix:**"
   ]
  },
  {
   "cell_type": "code",
   "execution_count": 10,
   "metadata": {
    "hide_input": true,
    "scrolled": true
   },
   "outputs": [
    {
     "data": {
      "text/html": [
       "<table><tr><td style=\"background-color:white; vertical-align:top; padding-right:40px;\"><table>\n",
       "<caption><center><font color=\"black\"><b>data (transposed)</b></font></center></caption>\n",
       " <thead>\n",
       "  <tr>\n",
       "   <th style=\"text-align:left;background-color: #FFFFFF !important;\">   </th>\n",
       "   <th style=\"text-align:right;background-color: #FFFFFF !important;\"> user_a </th>\n",
       "   <th style=\"text-align:right;background-color: #FFFFFF !important;\"> user_b </th>\n",
       "   <th style=\"text-align:right;background-color: #FFFFFF !important;\"> user_c </th>\n",
       "   <th style=\"text-align:right;background-color: #FFFFFF !important;\"> user_d </th>\n",
       "  </tr>\n",
       " </thead>\n",
       "<tbody>\n",
       "  <tr>\n",
       "   <td style=\"text-align:left;font-weight: bold;\"> item_1 </td>\n",
       "   <td style=\"text-align:right;\"> 4 </td>\n",
       "   <td style=\"text-align:right;\"> 4 </td>\n",
       "   <td style=\"text-align:right;\"> NA </td>\n",
       "   <td style=\"text-align:right;\"> 3 </td>\n",
       "  </tr>\n",
       "  <tr>\n",
       "   <td style=\"text-align:left;font-weight: bold;\"> item_2 </td>\n",
       "   <td style=\"text-align:right;\"> 5 </td>\n",
       "   <td style=\"text-align:right;\"> NA </td>\n",
       "   <td style=\"text-align:right;\"> 4 </td>\n",
       "   <td style=\"text-align:right;\"> NA </td>\n",
       "  </tr>\n",
       "  <tr>\n",
       "   <td style=\"text-align:left;font-weight: bold;\"> item_3 </td>\n",
       "   <td style=\"text-align:right;\"> 5 </td>\n",
       "   <td style=\"text-align:right;\"> 5 </td>\n",
       "   <td style=\"text-align:right;\"> 1 </td>\n",
       "   <td style=\"text-align:right;\"> NA </td>\n",
       "  </tr>\n",
       "  <tr>\n",
       "   <td style=\"text-align:left;font-weight: bold;\"> item_4 </td>\n",
       "   <td style=\"text-align:right;\"> NA </td>\n",
       "   <td style=\"text-align:right;\"> 2 </td>\n",
       "   <td style=\"text-align:right;\"> NA </td>\n",
       "   <td style=\"text-align:right;\"> 5 </td>\n",
       "  </tr>\n",
       "  <tr>\n",
       "   <td style=\"text-align:left;font-weight: bold;\"> item_5 </td>\n",
       "   <td style=\"text-align:right;\"> 4 </td>\n",
       "   <td style=\"text-align:right;\"> 4 </td>\n",
       "   <td style=\"text-align:right;\"> 2 </td>\n",
       "   <td style=\"text-align:right;\"> 4 </td>\n",
       "  </tr>\n",
       "  <tr>\n",
       "   <td style=\"text-align:left;font-weight: bold;\"> item_6 </td>\n",
       "   <td style=\"text-align:right;\"> 1 </td>\n",
       "   <td style=\"text-align:right;\"> 2 </td>\n",
       "   <td style=\"text-align:right;\"> 1 </td>\n",
       "   <td style=\"text-align:right;\"> 3 </td>\n",
       "  </tr>\n",
       "</tbody>\n",
       "</table></td><td style=\"background-color:white; vertical-align:top;\"><table>\n",
       "<caption><center><font color=\"black\"><b>similarity matrix (correlation after negatives removed)</b></font></center></caption>\n",
       " <thead>\n",
       "  <tr>\n",
       "   <th style=\"text-align:left;background-color: #FFFFFF !important;\">   </th>\n",
       "   <th style=\"text-align:right;background-color: #FFFFFF !important;\"> user_a </th>\n",
       "   <th style=\"text-align:right;background-color: #FFFFFF !important;\"> user_b </th>\n",
       "   <th style=\"text-align:right;background-color: #FFFFFF !important;\"> user_c </th>\n",
       "   <th style=\"text-align:right;background-color: #FFFFFF !important;\"> user_d </th>\n",
       "  </tr>\n",
       " </thead>\n",
       "<tbody>\n",
       "  <tr>\n",
       "   <td style=\"text-align:left;font-weight: bold;\"> user_a </td>\n",
       "   <td style=\"text-align:right;\"> 1.0000000 </td>\n",
       "   <td style=\"text-align:right;\"> 0.9941348 </td>\n",
       "   <td style=\"text-align:right;\"> 0.4980582 </td>\n",
       "   <td style=\"text-align:right;\"> 0.5 </td>\n",
       "  </tr>\n",
       "  <tr>\n",
       "   <td style=\"text-align:left;font-weight: bold;\"> user_b </td>\n",
       "   <td style=\"text-align:right;\"> 0.9941348 </td>\n",
       "   <td style=\"text-align:right;\"> 1.0000000 </td>\n",
       "   <td style=\"text-align:right;\"> 0.1889822 </td>\n",
       "   <td style=\"text-align:right;\"> 0.0 </td>\n",
       "  </tr>\n",
       "  <tr>\n",
       "   <td style=\"text-align:left;font-weight: bold;\"> user_c </td>\n",
       "   <td style=\"text-align:right;\"> 0.4980582 </td>\n",
       "   <td style=\"text-align:right;\"> 0.1889822 </td>\n",
       "   <td style=\"text-align:right;\"> 1.0000000 </td>\n",
       "   <td style=\"text-align:right;\"> 1.0 </td>\n",
       "  </tr>\n",
       "  <tr>\n",
       "   <td style=\"text-align:left;font-weight: bold;\"> user_d </td>\n",
       "   <td style=\"text-align:right;\"> 0.5000000 </td>\n",
       "   <td style=\"text-align:right;\"> 0.0000000 </td>\n",
       "   <td style=\"text-align:right;\"> 1.0000000 </td>\n",
       "   <td style=\"text-align:right;\"> 1.0 </td>\n",
       "  </tr>\n",
       "</tbody>\n",
       "</table></td></tr></table>"
      ]
     },
     "metadata": {},
     "output_type": "display_data"
    }
   ],
   "source": [
    "data.p = data\n",
    "\n",
    "similarity = cor(t(data.p), method=\"pearson\", use=\"pairwise.complete.obs\")\n",
    "similarity[similarity < 0] = 0\n",
    "\n",
    "layout(fmt(t(data.p), \"data (transposed)\", TRUE),\n",
    "       fmt(similarity, \"similarity matrix (correlation after negatives removed)\", TRUE))"
   ]
  },
  {
   "cell_type": "markdown",
   "metadata": {},
   "source": [
    "**Predict User A's rating of Item 4:**<br>\n",
    "Prediction is weighted mean of ratings, where weights are similarity measures and missing data are ignored."
   ]
  },
  {
   "cell_type": "code",
   "execution_count": 11,
   "metadata": {
    "hide_input": true,
    "scrolled": false
   },
   "outputs": [
    {
     "data": {
      "text/html": [
       "<table><tr><td style=\"background-color:white; vertical-align:top; padding-right:40px;\"><table>\n",
       "<caption><center><font color=\"black\"><b>calculation for user_a rating of item_4</b></font></center></caption>\n",
       " <thead>\n",
       "  <tr>\n",
       "   <th style=\"text-align:right;background-color: #FFFFFF !important;\"> user </th>\n",
       "   <th style=\"text-align:right;background-color: #FFFFFF !important;\"> weight </th>\n",
       "   <th style=\"text-align:right;background-color: #FFFFFF !important;\"> rating </th>\n",
       "   <th style=\"text-align:right;background-color: #FFFFFF !important;\"> contribution_to_weighted_mean </th>\n",
       "  </tr>\n",
       " </thead>\n",
       "<tbody>\n",
       "  <tr>\n",
       "   <td style=\"text-align:right;\"> user_b </td>\n",
       "   <td style=\"text-align:right;\"> 0.9941348 </td>\n",
       "   <td style=\"text-align:right;\"> 2 </td>\n",
       "   <td style=\"text-align:right;\"> 1.98827 </td>\n",
       "  </tr>\n",
       "  <tr>\n",
       "   <td style=\"text-align:right;\"> user_c </td>\n",
       "   <td style=\"text-align:right;\"> 0.4980582 </td>\n",
       "   <td style=\"text-align:right;\"> NA </td>\n",
       "   <td style=\"text-align:right;\"> NA </td>\n",
       "  </tr>\n",
       "  <tr>\n",
       "   <td style=\"text-align:right;\"> user_d </td>\n",
       "   <td style=\"text-align:right;\"> 0.5000000 </td>\n",
       "   <td style=\"text-align:right;\"> 5 </td>\n",
       "   <td style=\"text-align:right;\"> 2.50000 </td>\n",
       "  </tr>\n",
       "</tbody>\n",
       "</table></td><td style=\"background-color:white; vertical-align:top;\"><table>\n",
       "<caption><center><font color=\"black\"><b>prediction</b></font></center></caption>\n",
       " <thead>\n",
       "  <tr>\n",
       "   <th style=\"text-align:right;background-color: #FFFFFF !important;\"> user </th>\n",
       "   <th style=\"text-align:right;background-color: #FFFFFF !important;\"> item_4 </th>\n",
       "  </tr>\n",
       " </thead>\n",
       "<tbody>\n",
       "  <tr>\n",
       "   <td style=\"text-align:right;\"> user_a </td>\n",
       "   <td style=\"text-align:right;\"> 3.003925 </td>\n",
       "  </tr>\n",
       "</tbody>\n",
       "</table></td></tr></table>"
      ]
     },
     "metadata": {},
     "output_type": "display_data"
    }
   ],
   "source": [
    "rating = data.p[-1,\"item_4\"]\n",
    "weight = similarity[\"user_a\",-1]\n",
    "item_4.predicted = weighted.mean(rating, weight, na.rm=TRUE)\n",
    "\n",
    "calc = data.frame(user=rownames(data.p)[-1],\n",
    "                  weight,\n",
    "                  rating,\n",
    "                  contribution_to_weighted_mean=rating*weight)\n",
    "\n",
    "prediction = data.frame(user=\"user_a\", item_4=item_4.predicted)\n",
    "\n",
    "layout(fmt(calc, \"calculation for user_a rating of item_4\"), fmt(prediction))"
   ]
  },
  {
   "cell_type": "code",
   "execution_count": 12,
   "metadata": {
    "hide_input": true,
    "scrolled": true
   },
   "outputs": [
    {
     "data": {
      "text/html": [
       "<table>\n",
       "<caption><center><font color=\"black\"><b>data (after filtered just for user_a)</b></font></center></caption>\n",
       " <thead>\n",
       "  <tr>\n",
       "   <th style=\"text-align:left;background-color: #FFFFFF !important;\">   </th>\n",
       "   <th style=\"text-align:right;background-color: #FFFFFF !important;\"> item_1 </th>\n",
       "   <th style=\"text-align:right;background-color: #FFFFFF !important;\"> item_2 </th>\n",
       "   <th style=\"text-align:right;background-color: #FFFFFF !important;\"> item_3 </th>\n",
       "   <th style=\"text-align:right;background-color: #FFFFFF !important;\"> item_4 </th>\n",
       "   <th style=\"text-align:right;background-color: #FFFFFF !important;\"> item_5 </th>\n",
       "   <th style=\"text-align:right;background-color: #FFFFFF !important;\"> item_6 </th>\n",
       "  </tr>\n",
       " </thead>\n",
       "<tbody>\n",
       "  <tr>\n",
       "   <td style=\"text-align:left;font-weight: bold;\"> user_a </td>\n",
       "   <td style=\"text-align:right;\"> 4 </td>\n",
       "   <td style=\"text-align:right;\"> 5 </td>\n",
       "   <td style=\"text-align:right;\"> 5 </td>\n",
       "   <td style=\"text-align:right;\"> 3.003925 </td>\n",
       "   <td style=\"text-align:right;\"> 4 </td>\n",
       "   <td style=\"text-align:right;\"> 1 </td>\n",
       "  </tr>\n",
       "  <tr>\n",
       "   <td style=\"text-align:left;font-weight: bold;\"> user_b </td>\n",
       "   <td style=\"text-align:right;\"> 4 </td>\n",
       "   <td style=\"text-align:right;\"> NA </td>\n",
       "   <td style=\"text-align:right;\"> 5 </td>\n",
       "   <td style=\"text-align:right;\"> 2.000000 </td>\n",
       "   <td style=\"text-align:right;\"> 4 </td>\n",
       "   <td style=\"text-align:right;\"> 2 </td>\n",
       "  </tr>\n",
       "  <tr>\n",
       "   <td style=\"text-align:left;font-weight: bold;\"> user_c </td>\n",
       "   <td style=\"text-align:right;\"> NA </td>\n",
       "   <td style=\"text-align:right;\"> 4 </td>\n",
       "   <td style=\"text-align:right;\"> 1 </td>\n",
       "   <td style=\"text-align:right;\"> NA </td>\n",
       "   <td style=\"text-align:right;\"> 2 </td>\n",
       "   <td style=\"text-align:right;\"> 1 </td>\n",
       "  </tr>\n",
       "  <tr>\n",
       "   <td style=\"text-align:left;font-weight: bold;\"> user_d </td>\n",
       "   <td style=\"text-align:right;\"> 3 </td>\n",
       "   <td style=\"text-align:right;\"> NA </td>\n",
       "   <td style=\"text-align:right;\"> NA </td>\n",
       "   <td style=\"text-align:right;\"> 5.000000 </td>\n",
       "   <td style=\"text-align:right;\"> 4 </td>\n",
       "   <td style=\"text-align:right;\"> 3 </td>\n",
       "  </tr>\n",
       "</tbody>\n",
       "</table>"
      ]
     },
     "metadata": {},
     "output_type": "display_data"
    }
   ],
   "source": [
    "data.p[\"user_a\",\"item_4\"] = item_4.predicted\n",
    "fmt(data.p, \"data (after filtered just for user_a)\", TRUE)"
   ]
  },
  {
   "cell_type": "markdown",
   "metadata": {},
   "source": [
    "**Predict all missing ratings:**"
   ]
  },
  {
   "cell_type": "code",
   "execution_count": 13,
   "metadata": {
    "hide_input": true,
    "scrolled": true
   },
   "outputs": [
    {
     "data": {
      "text/html": [
       "<table>\n",
       "<caption><center><font color=\"black\"><b>prediction</b></font></center></caption>\n",
       " <thead>\n",
       "  <tr>\n",
       "   <th style=\"text-align:right;background-color: #FFFFFF !important;\"> user </th>\n",
       "   <th style=\"text-align:right;background-color: #FFFFFF !important;\"> item_1 </th>\n",
       "   <th style=\"text-align:right;background-color: #FFFFFF !important;\"> item_2 </th>\n",
       "   <th style=\"text-align:right;background-color: #FFFFFF !important;\"> item_3 </th>\n",
       "   <th style=\"text-align:right;background-color: #FFFFFF !important;\"> item_4 </th>\n",
       "   <th style=\"text-align:right;background-color: #FFFFFF !important;\"> item_5 </th>\n",
       "   <th style=\"text-align:right;background-color: #FFFFFF !important;\"> item_6 </th>\n",
       "  </tr>\n",
       " </thead>\n",
       "<tbody>\n",
       "  <tr>\n",
       "   <td style=\"text-align:right;\"> user_a </td>\n",
       "   <td style=\"text-align:right;\"> 3.665358 </td>\n",
       "   <td style=\"text-align:right;\"> 4.000000 </td>\n",
       "   <td style=\"text-align:right;\"> 3.664896 </td>\n",
       "   <td style=\"text-align:right;\"> 3.003925 </td>\n",
       "   <td style=\"text-align:right;\"> 3.499990 </td>\n",
       "   <td style=\"text-align:right;\"> 2.000975 </td>\n",
       "  </tr>\n",
       "  <tr>\n",
       "   <td style=\"text-align:right;\"> user_b </td>\n",
       "   <td style=\"text-align:right;\"> 4.000000 </td>\n",
       "   <td style=\"text-align:right;\"> 4.840268 </td>\n",
       "   <td style=\"text-align:right;\"> 4.361070 </td>\n",
       "   <td style=\"text-align:right;\"> NaN </td>\n",
       "   <td style=\"text-align:right;\"> 3.680535 </td>\n",
       "   <td style=\"text-align:right;\"> 1.000000 </td>\n",
       "  </tr>\n",
       "  <tr>\n",
       "   <td style=\"text-align:right;\"> user_c </td>\n",
       "   <td style=\"text-align:right;\"> 3.407246 </td>\n",
       "   <td style=\"text-align:right;\"> 5.000000 </td>\n",
       "   <td style=\"text-align:right;\"> 5.000000 </td>\n",
       "   <td style=\"text-align:right;\"> 4.523166 </td>\n",
       "   <td style=\"text-align:right;\"> 4.000000 </td>\n",
       "   <td style=\"text-align:right;\"> 2.297528 </td>\n",
       "  </tr>\n",
       "  <tr>\n",
       "   <td style=\"text-align:right;\"> user_d </td>\n",
       "   <td style=\"text-align:right;\"> 4.000000 </td>\n",
       "   <td style=\"text-align:right;\"> 4.333333 </td>\n",
       "   <td style=\"text-align:right;\"> 2.333333 </td>\n",
       "   <td style=\"text-align:right;\"> NaN </td>\n",
       "   <td style=\"text-align:right;\"> 2.666667 </td>\n",
       "   <td style=\"text-align:right;\"> 1.000000 </td>\n",
       "  </tr>\n",
       "</tbody>\n",
       "</table>"
      ]
     },
     "metadata": {},
     "output_type": "display_data"
    }
   ],
   "source": [
    "data.p = data\n",
    "\n",
    "prediction = data.frame(user=c(\"user_a\",\"user_b\",\"user_c\",\"user_d\"),\n",
    "                        item_1=aaply(1:4, 1, function(i) weighted.mean(data.p[-i,\"item_1\"], similarity[i,-i], na.rm=TRUE)),\n",
    "                        item_2=aaply(1:4, 1, function(i) weighted.mean(data.p[-i,\"item_2\"], similarity[i,-i], na.rm=TRUE)),\n",
    "                        item_3=aaply(1:4, 1, function(i) weighted.mean(data.p[-i,\"item_3\"], similarity[i,-i], na.rm=TRUE)),\n",
    "                        item_4=aaply(1:4, 1, function(i) weighted.mean(data.p[-i,\"item_4\"], similarity[i,-i], na.rm=TRUE)),\n",
    "                        item_5=aaply(1:4, 1, function(i) weighted.mean(data.p[-i,\"item_5\"], similarity[i,-i], na.rm=TRUE)),\n",
    "                        item_6=aaply(1:4, 1, function(i) weighted.mean(data.p[-i,\"item_6\"], similarity[i,-i], na.rm=TRUE)))\n",
    "                                \n",
    "fmt(prediction)"
   ]
  },
  {
   "cell_type": "code",
   "execution_count": 14,
   "metadata": {
    "hide_input": true
   },
   "outputs": [
    {
     "data": {
      "text/html": [
       "<table>\n",
       "<caption><center><font color=\"black\"><b>data (after filtered)</b></font></center></caption>\n",
       " <thead>\n",
       "  <tr>\n",
       "   <th style=\"text-align:left;background-color: #FFFFFF !important;\">   </th>\n",
       "   <th style=\"text-align:right;background-color: #FFFFFF !important;\"> item_1 </th>\n",
       "   <th style=\"text-align:right;background-color: #FFFFFF !important;\"> item_2 </th>\n",
       "   <th style=\"text-align:right;background-color: #FFFFFF !important;\"> item_3 </th>\n",
       "   <th style=\"text-align:right;background-color: #FFFFFF !important;\"> item_4 </th>\n",
       "   <th style=\"text-align:right;background-color: #FFFFFF !important;\"> item_5 </th>\n",
       "   <th style=\"text-align:right;background-color: #FFFFFF !important;\"> item_6 </th>\n",
       "  </tr>\n",
       " </thead>\n",
       "<tbody>\n",
       "  <tr>\n",
       "   <td style=\"text-align:left;font-weight: bold;\"> user_a </td>\n",
       "   <td style=\"text-align:right;\"> 4.000000 </td>\n",
       "   <td style=\"text-align:right;\"> 5.000000 </td>\n",
       "   <td style=\"text-align:right;\"> 5.000000 </td>\n",
       "   <td style=\"text-align:right;\"> 3.003925 </td>\n",
       "   <td style=\"text-align:right;\"> 4 </td>\n",
       "   <td style=\"text-align:right;\"> 1 </td>\n",
       "  </tr>\n",
       "  <tr>\n",
       "   <td style=\"text-align:left;font-weight: bold;\"> user_b </td>\n",
       "   <td style=\"text-align:right;\"> 4.000000 </td>\n",
       "   <td style=\"text-align:right;\"> 4.840268 </td>\n",
       "   <td style=\"text-align:right;\"> 5.000000 </td>\n",
       "   <td style=\"text-align:right;\"> 2.000000 </td>\n",
       "   <td style=\"text-align:right;\"> 4 </td>\n",
       "   <td style=\"text-align:right;\"> 2 </td>\n",
       "  </tr>\n",
       "  <tr>\n",
       "   <td style=\"text-align:left;font-weight: bold;\"> user_c </td>\n",
       "   <td style=\"text-align:right;\"> 3.407246 </td>\n",
       "   <td style=\"text-align:right;\"> 4.000000 </td>\n",
       "   <td style=\"text-align:right;\"> 1.000000 </td>\n",
       "   <td style=\"text-align:right;\"> 4.523166 </td>\n",
       "   <td style=\"text-align:right;\"> 2 </td>\n",
       "   <td style=\"text-align:right;\"> 1 </td>\n",
       "  </tr>\n",
       "  <tr>\n",
       "   <td style=\"text-align:left;font-weight: bold;\"> user_d </td>\n",
       "   <td style=\"text-align:right;\"> 3.000000 </td>\n",
       "   <td style=\"text-align:right;\"> 4.333333 </td>\n",
       "   <td style=\"text-align:right;\"> 2.333333 </td>\n",
       "   <td style=\"text-align:right;\"> 5.000000 </td>\n",
       "   <td style=\"text-align:right;\"> 4 </td>\n",
       "   <td style=\"text-align:right;\"> 3 </td>\n",
       "  </tr>\n",
       "</tbody>\n",
       "</table>"
      ]
     },
     "metadata": {},
     "output_type": "display_data"
    }
   ],
   "source": [
    "data.p[\"user_a\",\"item_4\"] = prediction[prediction$user==\"user_a\",\"item_4\"]\n",
    "data.p[\"user_b\",\"item_2\"] = prediction[prediction$user==\"user_b\",\"item_2\"]\n",
    "data.p[\"user_c\",\"item_1\"] = prediction[prediction$user==\"user_c\",\"item_1\"]\n",
    "data.p[\"user_c\",\"item_4\"] = prediction[prediction$user==\"user_c\",\"item_4\"]\n",
    "data.p[\"user_d\",\"item_2\"] = prediction[prediction$user==\"user_d\",\"item_2\"]\n",
    "data.p[\"user_d\",\"item_3\"] = prediction[prediction$user==\"user_d\",\"item_3\"]\n",
    "\n",
    "fmt(data.p, \"data (after filtered)\", TRUE)"
   ]
  },
  {
   "cell_type": "markdown",
   "metadata": {},
   "source": [
    "## About Collaborative Filtering - Adjusted Weighted Version\n",
    "\n",
    "* Calibrate to account for differences in users' average ratings \n",
    "* Use ratings of only some other users, adjusted by similarity\n",
    "* Measure similarity by correlation\n",
    "* Disregard missing data, treat negative correlations as no similarity"
   ]
  },
  {
   "cell_type": "markdown",
   "metadata": {},
   "source": [
    "Specifically, predictions for ratings are calculated like this:\n",
    "\n",
    "$\n",
    "\\begin{align}\n",
    "\\hat{r}_{u,i} = \\bar{r}_u + \\alpha \\frac{\\sum_{x \\in N^t_u}{w_{x,u} (r_{x,i} - \\bar{r}_x)}}{\\sum_{x \\in N^t_u}{w_{x,u}}}\n",
    "\\end{align}\n",
    "$\n",
    "\n",
    "where ...\n",
    "* $\\hat{r}_{u,i}$ is the prediction for user $u$'s rating of item $i$\n",
    "* $\\bar{r}_u$ is the average of user $u$'s ratings for all items\n",
    "* $\\bar{r}_x$ is the average of user $x$'s ratings for all items\n",
    "* $\\alpha$ is a parameter indicating how much a user's rating is affected by other users' ratings\n",
    "* $N^t_u$ are the indices of the users most similar to user $u$ (a threshold parameter $t$ sets the number of similar users to use)\n",
    "* $w_{x,u}$ is the measure of how similar user $x$ is to user $u$\n",
    "* $r_{x,i}$ is user $x$'s rating of item $i$"
   ]
  },
  {
   "cell_type": "markdown",
   "metadata": {},
   "source": [
    "## Collaborative Filtering - Adjusted Weighted Version"
   ]
  },
  {
   "cell_type": "markdown",
   "metadata": {},
   "source": [
    "**Set parameters:**"
   ]
  },
  {
   "cell_type": "code",
   "execution_count": 15,
   "metadata": {
    "hide_input": true
   },
   "outputs": [
    {
     "data": {
      "text/html": [
       "<table>\n",
       "<thead><tr><th scope=col>threshold</th><th scope=col>alpha</th></tr></thead>\n",
       "<tbody>\n",
       "\t<tr><td>2</td><td>1</td></tr>\n",
       "</tbody>\n",
       "</table>\n"
      ],
      "text/latex": [
       "\\begin{tabular}{r|ll}\n",
       " threshold & alpha\\\\\n",
       "\\hline\n",
       "\t 2 & 1\\\\\n",
       "\\end{tabular}\n"
      ],
      "text/markdown": [
       "\n",
       "| threshold | alpha |\n",
       "|---|---|\n",
       "| 2 | 1 |\n",
       "\n"
      ],
      "text/plain": [
       "  threshold alpha\n",
       "1 2         1    "
      ]
     },
     "metadata": {},
     "output_type": "display_data"
    }
   ],
   "source": [
    "threshold = 2 # number of nearest neighbors considered\n",
    "alpha = 1 # magnitude of effect of neighbors \n",
    "\n",
    "data.frame(threshold, alpha)"
   ]
  },
  {
   "cell_type": "markdown",
   "metadata": {},
   "source": [
    "**Calculate similarity matrix:**"
   ]
  },
  {
   "cell_type": "code",
   "execution_count": 16,
   "metadata": {
    "hide_input": true,
    "scrolled": true
   },
   "outputs": [
    {
     "data": {
      "text/html": [
       "<table><tr><td style=\"background-color:white; vertical-align:top; padding-right:40px;\"><table>\n",
       "<caption><center><font color=\"black\"><b>data (transposed)</b></font></center></caption>\n",
       " <thead>\n",
       "  <tr>\n",
       "   <th style=\"text-align:left;background-color: #FFFFFF !important;\">   </th>\n",
       "   <th style=\"text-align:right;background-color: #FFFFFF !important;\"> user_a </th>\n",
       "   <th style=\"text-align:right;background-color: #FFFFFF !important;\"> user_b </th>\n",
       "   <th style=\"text-align:right;background-color: #FFFFFF !important;\"> user_c </th>\n",
       "   <th style=\"text-align:right;background-color: #FFFFFF !important;\"> user_d </th>\n",
       "  </tr>\n",
       " </thead>\n",
       "<tbody>\n",
       "  <tr>\n",
       "   <td style=\"text-align:left;font-weight: bold;\"> item_1 </td>\n",
       "   <td style=\"text-align:right;\"> 4 </td>\n",
       "   <td style=\"text-align:right;\"> 4 </td>\n",
       "   <td style=\"text-align:right;\"> NA </td>\n",
       "   <td style=\"text-align:right;\"> 3 </td>\n",
       "  </tr>\n",
       "  <tr>\n",
       "   <td style=\"text-align:left;font-weight: bold;\"> item_2 </td>\n",
       "   <td style=\"text-align:right;\"> 5 </td>\n",
       "   <td style=\"text-align:right;\"> NA </td>\n",
       "   <td style=\"text-align:right;\"> 4 </td>\n",
       "   <td style=\"text-align:right;\"> NA </td>\n",
       "  </tr>\n",
       "  <tr>\n",
       "   <td style=\"text-align:left;font-weight: bold;\"> item_3 </td>\n",
       "   <td style=\"text-align:right;\"> 5 </td>\n",
       "   <td style=\"text-align:right;\"> 5 </td>\n",
       "   <td style=\"text-align:right;\"> 1 </td>\n",
       "   <td style=\"text-align:right;\"> NA </td>\n",
       "  </tr>\n",
       "  <tr>\n",
       "   <td style=\"text-align:left;font-weight: bold;\"> item_4 </td>\n",
       "   <td style=\"text-align:right;\"> NA </td>\n",
       "   <td style=\"text-align:right;\"> 2 </td>\n",
       "   <td style=\"text-align:right;\"> NA </td>\n",
       "   <td style=\"text-align:right;\"> 5 </td>\n",
       "  </tr>\n",
       "  <tr>\n",
       "   <td style=\"text-align:left;font-weight: bold;\"> item_5 </td>\n",
       "   <td style=\"text-align:right;\"> 4 </td>\n",
       "   <td style=\"text-align:right;\"> 4 </td>\n",
       "   <td style=\"text-align:right;\"> 2 </td>\n",
       "   <td style=\"text-align:right;\"> 4 </td>\n",
       "  </tr>\n",
       "  <tr>\n",
       "   <td style=\"text-align:left;font-weight: bold;\"> item_6 </td>\n",
       "   <td style=\"text-align:right;\"> 1 </td>\n",
       "   <td style=\"text-align:right;\"> 2 </td>\n",
       "   <td style=\"text-align:right;\"> 1 </td>\n",
       "   <td style=\"text-align:right;\"> 3 </td>\n",
       "  </tr>\n",
       "</tbody>\n",
       "</table></td><td style=\"background-color:white; vertical-align:top;\"><table>\n",
       "<caption><center><font color=\"black\"><b>similarity matrix (correlation after negatives removed)</b></font></center></caption>\n",
       " <thead>\n",
       "  <tr>\n",
       "   <th style=\"text-align:left;background-color: #FFFFFF !important;\">   </th>\n",
       "   <th style=\"text-align:right;background-color: #FFFFFF !important;\"> user_a </th>\n",
       "   <th style=\"text-align:right;background-color: #FFFFFF !important;\"> user_b </th>\n",
       "   <th style=\"text-align:right;background-color: #FFFFFF !important;\"> user_c </th>\n",
       "   <th style=\"text-align:right;background-color: #FFFFFF !important;\"> user_d </th>\n",
       "  </tr>\n",
       " </thead>\n",
       "<tbody>\n",
       "  <tr>\n",
       "   <td style=\"text-align:left;font-weight: bold;\"> user_a </td>\n",
       "   <td style=\"text-align:right;\"> 1.0000000 </td>\n",
       "   <td style=\"text-align:right;\"> 0.9941348 </td>\n",
       "   <td style=\"text-align:right;\"> 0.4980582 </td>\n",
       "   <td style=\"text-align:right;\"> 0.5 </td>\n",
       "  </tr>\n",
       "  <tr>\n",
       "   <td style=\"text-align:left;font-weight: bold;\"> user_b </td>\n",
       "   <td style=\"text-align:right;\"> 0.9941348 </td>\n",
       "   <td style=\"text-align:right;\"> 1.0000000 </td>\n",
       "   <td style=\"text-align:right;\"> 0.1889822 </td>\n",
       "   <td style=\"text-align:right;\"> 0.0 </td>\n",
       "  </tr>\n",
       "  <tr>\n",
       "   <td style=\"text-align:left;font-weight: bold;\"> user_c </td>\n",
       "   <td style=\"text-align:right;\"> 0.4980582 </td>\n",
       "   <td style=\"text-align:right;\"> 0.1889822 </td>\n",
       "   <td style=\"text-align:right;\"> 1.0000000 </td>\n",
       "   <td style=\"text-align:right;\"> 1.0 </td>\n",
       "  </tr>\n",
       "  <tr>\n",
       "   <td style=\"text-align:left;font-weight: bold;\"> user_d </td>\n",
       "   <td style=\"text-align:right;\"> 0.5000000 </td>\n",
       "   <td style=\"text-align:right;\"> 0.0000000 </td>\n",
       "   <td style=\"text-align:right;\"> 1.0000000 </td>\n",
       "   <td style=\"text-align:right;\"> 1.0 </td>\n",
       "  </tr>\n",
       "</tbody>\n",
       "</table></td></tr></table>"
      ]
     },
     "metadata": {},
     "output_type": "display_data"
    }
   ],
   "source": [
    "data.p = data\n",
    "\n",
    "similarity = cor(t(data), method=\"pearson\", use=\"pairwise.complete.obs\")\n",
    "similarity[similarity < 0] = 0\n",
    "\n",
    "layout(fmt(t(data), \"data (transposed)\", TRUE),\n",
    "       fmt(similarity, \"similarity matrix (correlation after negatives removed)\", TRUE))"
   ]
  },
  {
   "cell_type": "markdown",
   "metadata": {},
   "source": [
    "**Predict User A's rating of Item 4:**"
   ]
  },
  {
   "cell_type": "code",
   "execution_count": 17,
   "metadata": {
    "hide_input": true
   },
   "outputs": [
    {
     "data": {
      "text/html": [
       "<table>\n",
       "<caption><center><font color=\"black\"><b>nearest neighbors</b></font></center></caption>\n",
       " <thead>\n",
       "  <tr>\n",
       "   <th style=\"text-align:left;background-color: #FFFFFF !important;\">   </th>\n",
       "   <th style=\"text-align:right;background-color: #FFFFFF !important;\"> item_1 </th>\n",
       "   <th style=\"text-align:right;background-color: #FFFFFF !important;\"> item_2 </th>\n",
       "   <th style=\"text-align:right;background-color: #FFFFFF !important;\"> item_3 </th>\n",
       "   <th style=\"text-align:right;background-color: #FFFFFF !important;\"> item_4 </th>\n",
       "   <th style=\"text-align:right;background-color: #FFFFFF !important;\"> item_5 </th>\n",
       "   <th style=\"text-align:right;background-color: #FFFFFF !important;\"> item_6 </th>\n",
       "  </tr>\n",
       " </thead>\n",
       "<tbody>\n",
       "  <tr>\n",
       "   <td style=\"text-align:left;font-weight: bold;\"> user_b </td>\n",
       "   <td style=\"text-align:right;\"> 4 </td>\n",
       "   <td style=\"text-align:right;\"> NA </td>\n",
       "   <td style=\"text-align:right;\"> 5 </td>\n",
       "   <td style=\"text-align:right;\"> 2 </td>\n",
       "   <td style=\"text-align:right;\"> 4 </td>\n",
       "   <td style=\"text-align:right;\"> 2 </td>\n",
       "  </tr>\n",
       "  <tr>\n",
       "   <td style=\"text-align:left;font-weight: bold;\"> user_d </td>\n",
       "   <td style=\"text-align:right;\"> 3 </td>\n",
       "   <td style=\"text-align:right;\"> NA </td>\n",
       "   <td style=\"text-align:right;\"> NA </td>\n",
       "   <td style=\"text-align:right;\"> 5 </td>\n",
       "   <td style=\"text-align:right;\"> 4 </td>\n",
       "   <td style=\"text-align:right;\"> 3 </td>\n",
       "  </tr>\n",
       "</tbody>\n",
       "</table>"
      ]
     },
     "metadata": {},
     "output_type": "display_data"
    }
   ],
   "source": [
    "i = which(colnames(similarity) == \"user_a\")\n",
    "nn = which(rownames(data) %in% names(sort(similarity[-i,i], decreasing=TRUE))[1:threshold])\n",
    "fmt(data[nn,], \"nearest neighbors\", TRUE)"
   ]
  },
  {
   "cell_type": "code",
   "execution_count": 18,
   "metadata": {
    "hide_input": true
   },
   "outputs": [
    {
     "data": {
      "text/html": [
       "<table>\n",
       "<caption><center><font color=\"black\"><b>calculation for user_a rating of item_4</b></font></center></caption>\n",
       " <thead>\n",
       "  <tr>\n",
       "   <th style=\"text-align:left;background-color: #FFFFFF !important;\">   </th>\n",
       "   <th style=\"text-align:right;background-color: #FFFFFF !important;\"> weight </th>\n",
       "   <th style=\"text-align:right;background-color: #FFFFFF !important;\"> rating </th>\n",
       "   <th style=\"text-align:right;background-color: #FFFFFF !important;\"> mean_rating.nn </th>\n",
       "   <th style=\"text-align:right;background-color: #FFFFFF !important;\"> diff </th>\n",
       "   <th style=\"text-align:right;background-color: #FFFFFF !important;\"> contribution_to_weighted_mean </th>\n",
       "  </tr>\n",
       " </thead>\n",
       "<tbody>\n",
       "  <tr>\n",
       "   <td style=\"text-align:left;font-weight: bold;\"> user_b </td>\n",
       "   <td style=\"text-align:right;\"> 0.9941348 </td>\n",
       "   <td style=\"text-align:right;\"> 2 </td>\n",
       "   <td style=\"text-align:right;\"> 3.40 </td>\n",
       "   <td style=\"text-align:right;\"> -1.40 </td>\n",
       "   <td style=\"text-align:right;\"> -1.391789 </td>\n",
       "  </tr>\n",
       "  <tr>\n",
       "   <td style=\"text-align:left;font-weight: bold;\"> user_d </td>\n",
       "   <td style=\"text-align:right;\"> 0.5000000 </td>\n",
       "   <td style=\"text-align:right;\"> 5 </td>\n",
       "   <td style=\"text-align:right;\"> 3.75 </td>\n",
       "   <td style=\"text-align:right;\"> 1.25 </td>\n",
       "   <td style=\"text-align:right;\"> 0.625000 </td>\n",
       "  </tr>\n",
       "</tbody>\n",
       "</table>"
      ]
     },
     "metadata": {},
     "output_type": "display_data"
    }
   ],
   "source": [
    "weight = similarity[\"user_a\",nn]\n",
    "rating = data[nn,\"item_4\"]\n",
    "mean_rating.nn = rowMeans(data[nn,], na.rm=TRUE)\n",
    "diff = rating - mean_rating.nn\n",
    "weighted_mean_part = weighted.mean(diff, weight, na.rm=TRUE)\n",
    "        \n",
    "calc = data.frame(weight,\n",
    "                  rating,\n",
    "                  mean_rating.nn,\n",
    "                  diff,\n",
    "                  contribution_to_weighted_mean=diff*weight)\n",
    "\n",
    "fmt(calc, \"calculation for user_a rating of item_4\", TRUE)"
   ]
  },
  {
   "cell_type": "code",
   "execution_count": 19,
   "metadata": {
    "hide_input": true
   },
   "outputs": [
    {
     "data": {
      "text/html": [
       "<table>\n",
       "<caption><center><font color=\"black\"><b>prediction</b></font></center></caption>\n",
       " <thead>\n",
       "  <tr>\n",
       "   <th style=\"text-align:left;background-color: #FFFFFF !important;\">   </th>\n",
       "   <th style=\"text-align:right;background-color: #FFFFFF !important;\"> mean_rating </th>\n",
       "   <th style=\"text-align:right;background-color: #FFFFFF !important;\"> alpha </th>\n",
       "   <th style=\"text-align:right;background-color: #FFFFFF !important;\"> weighted_mean_part </th>\n",
       "   <th style=\"text-align:right;background-color: #FFFFFF !important;\"> item_4 </th>\n",
       "  </tr>\n",
       " </thead>\n",
       "<tbody>\n",
       "  <tr>\n",
       "   <td style=\"text-align:left;font-weight: bold;\"> user_a </td>\n",
       "   <td style=\"text-align:right;\"> 3.8 </td>\n",
       "   <td style=\"text-align:right;\"> 1 </td>\n",
       "   <td style=\"text-align:right;\"> -0.5131992 </td>\n",
       "   <td style=\"text-align:right;\"> 3.286801 </td>\n",
       "  </tr>\n",
       "</tbody>\n",
       "</table>"
      ]
     },
     "metadata": {},
     "output_type": "display_data"
    }
   ],
   "source": [
    "mean_rating.i = rowMeans(data[\"user_a\",], na.rm=TRUE)\n",
    "item_4.predicted = mean_rating.i + (alpha*weighted_mean_part)\n",
    "\n",
    "prediction = data.frame(mean_rating=mean_rating.i,\n",
    "                        alpha,\n",
    "                        weighted_mean_part,\n",
    "                        item_4=item_4.predicted)\n",
    "\n",
    "fmt(prediction, row.names=TRUE)"
   ]
  },
  {
   "cell_type": "code",
   "execution_count": 20,
   "metadata": {
    "hide_input": true,
    "scrolled": true
   },
   "outputs": [
    {
     "data": {
      "text/html": [
       "<table>\n",
       "<caption><center><font color=\"black\"><b>data (after filtered just for user_a)</b></font></center></caption>\n",
       " <thead>\n",
       "  <tr>\n",
       "   <th style=\"text-align:left;background-color: #FFFFFF !important;\">   </th>\n",
       "   <th style=\"text-align:right;background-color: #FFFFFF !important;\"> item_1 </th>\n",
       "   <th style=\"text-align:right;background-color: #FFFFFF !important;\"> item_2 </th>\n",
       "   <th style=\"text-align:right;background-color: #FFFFFF !important;\"> item_3 </th>\n",
       "   <th style=\"text-align:right;background-color: #FFFFFF !important;\"> item_4 </th>\n",
       "   <th style=\"text-align:right;background-color: #FFFFFF !important;\"> item_5 </th>\n",
       "   <th style=\"text-align:right;background-color: #FFFFFF !important;\"> item_6 </th>\n",
       "  </tr>\n",
       " </thead>\n",
       "<tbody>\n",
       "  <tr>\n",
       "   <td style=\"text-align:left;font-weight: bold;\"> user_a </td>\n",
       "   <td style=\"text-align:right;\"> 4 </td>\n",
       "   <td style=\"text-align:right;\"> 5 </td>\n",
       "   <td style=\"text-align:right;\"> 5 </td>\n",
       "   <td style=\"text-align:right;\"> 3.286801 </td>\n",
       "   <td style=\"text-align:right;\"> 4 </td>\n",
       "   <td style=\"text-align:right;\"> 1 </td>\n",
       "  </tr>\n",
       "  <tr>\n",
       "   <td style=\"text-align:left;font-weight: bold;\"> user_b </td>\n",
       "   <td style=\"text-align:right;\"> 4 </td>\n",
       "   <td style=\"text-align:right;\"> NA </td>\n",
       "   <td style=\"text-align:right;\"> 5 </td>\n",
       "   <td style=\"text-align:right;\"> 2.000000 </td>\n",
       "   <td style=\"text-align:right;\"> 4 </td>\n",
       "   <td style=\"text-align:right;\"> 2 </td>\n",
       "  </tr>\n",
       "  <tr>\n",
       "   <td style=\"text-align:left;font-weight: bold;\"> user_c </td>\n",
       "   <td style=\"text-align:right;\"> NA </td>\n",
       "   <td style=\"text-align:right;\"> 4 </td>\n",
       "   <td style=\"text-align:right;\"> 1 </td>\n",
       "   <td style=\"text-align:right;\"> NA </td>\n",
       "   <td style=\"text-align:right;\"> 2 </td>\n",
       "   <td style=\"text-align:right;\"> 1 </td>\n",
       "  </tr>\n",
       "  <tr>\n",
       "   <td style=\"text-align:left;font-weight: bold;\"> user_d </td>\n",
       "   <td style=\"text-align:right;\"> 3 </td>\n",
       "   <td style=\"text-align:right;\"> NA </td>\n",
       "   <td style=\"text-align:right;\"> NA </td>\n",
       "   <td style=\"text-align:right;\"> 5.000000 </td>\n",
       "   <td style=\"text-align:right;\"> 4 </td>\n",
       "   <td style=\"text-align:right;\"> 3 </td>\n",
       "  </tr>\n",
       "</tbody>\n",
       "</table>"
      ]
     },
     "metadata": {},
     "output_type": "display_data"
    }
   ],
   "source": [
    "data.p[\"user_a\",\"item_4\"] = item_4.predicted\n",
    "fmt(data.p, \"data (after filtered just for user_a)\", TRUE)"
   ]
  },
  {
   "cell_type": "markdown",
   "metadata": {},
   "source": [
    "**Predict all missing ratings:**"
   ]
  },
  {
   "cell_type": "code",
   "execution_count": 21,
   "metadata": {
    "hide_input": true
   },
   "outputs": [
    {
     "data": {
      "text/html": [
       "<table>\n",
       "<caption><center><font color=\"black\"><b>prediction</b></font></center></caption>\n",
       " <thead>\n",
       "  <tr>\n",
       "   <th style=\"text-align:left;background-color: #FFFFFF !important;\">   </th>\n",
       "   <th style=\"text-align:right;background-color: #FFFFFF !important;\"> item_1 </th>\n",
       "   <th style=\"text-align:right;background-color: #FFFFFF !important;\"> item_2 </th>\n",
       "   <th style=\"text-align:right;background-color: #FFFFFF !important;\"> item_3 </th>\n",
       "   <th style=\"text-align:right;background-color: #FFFFFF !important;\"> item_4 </th>\n",
       "   <th style=\"text-align:right;background-color: #FFFFFF !important;\"> item_5 </th>\n",
       "   <th style=\"text-align:right;background-color: #FFFFFF !important;\"> item_6 </th>\n",
       "  </tr>\n",
       " </thead>\n",
       "<tbody>\n",
       "  <tr>\n",
       "   <td style=\"text-align:left;font-weight: bold;\"> user_a </td>\n",
       "   <td style=\"text-align:right;\"> 3.948234 </td>\n",
       "   <td style=\"text-align:right;\"> NaN </td>\n",
       "   <td style=\"text-align:right;\"> 5.400000 </td>\n",
       "   <td style=\"text-align:right;\"> 3.286801 </td>\n",
       "   <td style=\"text-align:right;\"> 4.282875 </td>\n",
       "   <td style=\"text-align:right;\"> 2.6175172 </td>\n",
       "  </tr>\n",
       "  <tr>\n",
       "   <td style=\"text-align:left;font-weight: bold;\"> user_b </td>\n",
       "   <td style=\"text-align:right;\"> 3.600000 </td>\n",
       "   <td style=\"text-align:right;\"> 4.727786 </td>\n",
       "   <td style=\"text-align:right;\"> 4.248589 </td>\n",
       "   <td style=\"text-align:right;\"> NaN </td>\n",
       "   <td style=\"text-align:right;\"> 3.568053 </td>\n",
       "   <td style=\"text-align:right;\"> 0.8875185 </td>\n",
       "  </tr>\n",
       "  <tr>\n",
       "   <td style=\"text-align:left;font-weight: bold;\"> user_c </td>\n",
       "   <td style=\"text-align:right;\"> 1.565846 </td>\n",
       "   <td style=\"text-align:right;\"> 3.200000 </td>\n",
       "   <td style=\"text-align:right;\"> 3.200000 </td>\n",
       "   <td style=\"text-align:right;\"> 3.250000 </td>\n",
       "   <td style=\"text-align:right;\"> 2.233376 </td>\n",
       "   <td style=\"text-align:right;\"> 0.5684381 </td>\n",
       "  </tr>\n",
       "  <tr>\n",
       "   <td style=\"text-align:left;font-weight: bold;\"> user_d </td>\n",
       "   <td style=\"text-align:right;\"> 3.950000 </td>\n",
       "   <td style=\"text-align:right;\"> 5.483333 </td>\n",
       "   <td style=\"text-align:right;\"> 3.483333 </td>\n",
       "   <td style=\"text-align:right;\"> NaN </td>\n",
       "   <td style=\"text-align:right;\"> 3.816667 </td>\n",
       "   <td style=\"text-align:right;\"> 2.1500000 </td>\n",
       "  </tr>\n",
       "</tbody>\n",
       "</table>"
      ]
     },
     "metadata": {},
     "output_type": "display_data"
    }
   ],
   "source": [
    "prediction = predict.cf(data, similarity, threshold=2, alpha=1)\n",
    "fmt(prediction, row.names=TRUE)"
   ]
  },
  {
   "cell_type": "code",
   "execution_count": 22,
   "metadata": {
    "hide_input": true,
    "scrolled": true
   },
   "outputs": [
    {
     "data": {
      "text/html": [
       "<table>\n",
       "<caption><center><font color=\"black\"><b>data (after filtered)</b></font></center></caption>\n",
       " <thead>\n",
       "  <tr>\n",
       "   <th style=\"text-align:left;background-color: #FFFFFF !important;\">   </th>\n",
       "   <th style=\"text-align:right;background-color: #FFFFFF !important;\"> item_1 </th>\n",
       "   <th style=\"text-align:right;background-color: #FFFFFF !important;\"> item_2 </th>\n",
       "   <th style=\"text-align:right;background-color: #FFFFFF !important;\"> item_3 </th>\n",
       "   <th style=\"text-align:right;background-color: #FFFFFF !important;\"> item_4 </th>\n",
       "   <th style=\"text-align:right;background-color: #FFFFFF !important;\"> item_5 </th>\n",
       "   <th style=\"text-align:right;background-color: #FFFFFF !important;\"> item_6 </th>\n",
       "  </tr>\n",
       " </thead>\n",
       "<tbody>\n",
       "  <tr>\n",
       "   <td style=\"text-align:left;font-weight: bold;\"> user_a </td>\n",
       "   <td style=\"text-align:right;\"> 4.000000 </td>\n",
       "   <td style=\"text-align:right;\"> 5.000000 </td>\n",
       "   <td style=\"text-align:right;\"> 5.000000 </td>\n",
       "   <td style=\"text-align:right;\"> 3.286801 </td>\n",
       "   <td style=\"text-align:right;\"> 4 </td>\n",
       "   <td style=\"text-align:right;\"> 1 </td>\n",
       "  </tr>\n",
       "  <tr>\n",
       "   <td style=\"text-align:left;font-weight: bold;\"> user_b </td>\n",
       "   <td style=\"text-align:right;\"> 4.000000 </td>\n",
       "   <td style=\"text-align:right;\"> 4.727786 </td>\n",
       "   <td style=\"text-align:right;\"> 5.000000 </td>\n",
       "   <td style=\"text-align:right;\"> 2.000000 </td>\n",
       "   <td style=\"text-align:right;\"> 4 </td>\n",
       "   <td style=\"text-align:right;\"> 2 </td>\n",
       "  </tr>\n",
       "  <tr>\n",
       "   <td style=\"text-align:left;font-weight: bold;\"> user_c </td>\n",
       "   <td style=\"text-align:right;\"> 1.565846 </td>\n",
       "   <td style=\"text-align:right;\"> 4.000000 </td>\n",
       "   <td style=\"text-align:right;\"> 1.000000 </td>\n",
       "   <td style=\"text-align:right;\"> 3.250000 </td>\n",
       "   <td style=\"text-align:right;\"> 2 </td>\n",
       "   <td style=\"text-align:right;\"> 1 </td>\n",
       "  </tr>\n",
       "  <tr>\n",
       "   <td style=\"text-align:left;font-weight: bold;\"> user_d </td>\n",
       "   <td style=\"text-align:right;\"> 3.000000 </td>\n",
       "   <td style=\"text-align:right;\"> 5.483333 </td>\n",
       "   <td style=\"text-align:right;\"> 3.483333 </td>\n",
       "   <td style=\"text-align:right;\"> 5.000000 </td>\n",
       "   <td style=\"text-align:right;\"> 4 </td>\n",
       "   <td style=\"text-align:right;\"> 3 </td>\n",
       "  </tr>\n",
       "</tbody>\n",
       "</table>"
      ]
     },
     "metadata": {},
     "output_type": "display_data"
    }
   ],
   "source": [
    "data.p[\"user_a\",\"item_4\"] = prediction[\"user_a\",\"item_4\"]\n",
    "data.p[\"user_b\",\"item_2\"] = prediction[\"user_b\",\"item_2\"]\n",
    "data.p[\"user_c\",\"item_1\"] = prediction[\"user_c\",\"item_1\"]\n",
    "data.p[\"user_c\",\"item_4\"] = prediction[\"user_c\",\"item_4\"]\n",
    "data.p[\"user_d\",\"item_2\"] = prediction[\"user_d\",\"item_2\"]\n",
    "data.p[\"user_d\",\"item_3\"] = prediction[\"user_d\",\"item_3\"]\n",
    "\n",
    "fmt(data.p, \"data (after filtered)\", TRUE)"
   ]
  },
  {
   "cell_type": "markdown",
   "metadata": {},
   "source": [
    "## Code"
   ]
  },
  {
   "cell_type": "markdown",
   "metadata": {},
   "source": [
    "### Useful Functions"
   ]
  },
  {
   "cell_type": "code",
   "execution_count": null,
   "metadata": {},
   "outputs": [],
   "source": []
  },
  {
   "cell_type": "markdown",
   "metadata": {},
   "source": [
    "### Templates"
   ]
  },
  {
   "cell_type": "code",
   "execution_count": null,
   "metadata": {},
   "outputs": [],
   "source": []
  },
  {
   "cell_type": "markdown",
   "metadata": {},
   "source": [
    "## Expectations"
   ]
  },
  {
   "cell_type": "markdown",
   "metadata": {},
   "source": [
    "## Further Reading\n",
    "\n"
   ]
  },
  {
   "cell_type": "markdown",
   "metadata": {},
   "source": [
    "<p style=\"text-align:left; font-size:10px;\">\n",
    "Copyright (c) Berkeley Data Analytics Group, LLC\n",
    "<span style=\"float:right;\">\n",
    "Document revised July 17, 2020\n",
    "</span>\n",
    "</p>"
   ]
  }
 ],
 "metadata": {
  "hide_code_all_hidden": false,
  "kernelspec": {
   "display_name": "R",
   "language": "R",
   "name": "ir"
  },
  "language_info": {
   "codemirror_mode": "r",
   "file_extension": ".r",
   "mimetype": "text/x-r-source",
   "name": "R",
   "pygments_lexer": "r",
   "version": "3.6.1"
  },
  "toc": {
   "base_numbering": 1,
   "nav_menu": {},
   "number_sections": true,
   "sideBar": true,
   "skip_h1_title": true,
   "title_cell": "Table of Contents",
   "title_sidebar": "Contents",
   "toc_cell": false,
   "toc_position": {
    "height": "calc(100% - 180px)",
    "left": "10px",
    "top": "150px",
    "width": "255.594px"
   },
   "toc_section_display": true,
   "toc_window_display": false
  }
 },
 "nbformat": 4,
 "nbformat_minor": 2
}
