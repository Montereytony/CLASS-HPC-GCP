{
 "cells": [
  {
   "cell_type": "markdown",
   "metadata": {
    "hideCode": false,
    "hidePrompt": false
   },
   "source": [
    "# Text Data\n",
    "\n",
    "![](banner_text.jpg)"
   ]
  },
  {
   "cell_type": "code",
   "execution_count": 1,
   "metadata": {
    "hide_input": true
   },
   "outputs": [
    {
     "data": {
      "text/html": [
       "<p style=\"text-align:center; font-size:10px;\">\n",
       ".................................................... start of document ....................................................\n",
       "</p>"
      ]
     },
     "metadata": {},
     "output_type": "display_data"
    }
   ],
   "source": [
    "f = \"setup.R\"; for (i in 1:10) { if (file.exists(f)) break else f = paste0(\"../\", f) }; source(f)"
   ]
  },
  {
   "cell_type": "markdown",
   "metadata": {},
   "source": [
    "## Introduction"
   ]
  },
  {
   "cell_type": "markdown",
   "metadata": {},
   "source": [
    "## Terms"
   ]
  },
  {
   "cell_type": "markdown",
   "metadata": {},
   "source": [
    "* **Natural Language Processing (NLP):** Predictive analytics applied to text data is a specialization of natural language processing.\n",
    "* **Text Mining:** Data analytics applied to text data.\n",
    "* **Corpus:** A text dataset, often represented as a one-column table.\n",
    "* **Document:** An observation in a text dataset, which can be a word, a phrase, a sentence, a paragraph, an article, a chapter, a book, or any other unit of text."
   ]
  },
  {
   "cell_type": "markdown",
   "metadata": {},
   "source": [
    "## Classification of Text"
   ]
  },
  {
   "cell_type": "markdown",
   "metadata": {},
   "source": [
    "### Data\n",
    "\n",
    "Here we retrieve a corpus, represented as a one-column table, comprising 11 documents, each classified as A or B based on author."
   ]
  },
  {
   "cell_type": "code",
   "execution_count": 2,
   "metadata": {
    "hide_input": true,
    "scrolled": false
   },
   "outputs": [
    {
     "data": {
      "text/html": [
       "<table>\n",
       "<thead><tr><th scope=col>observations</th><th scope=col>variables</th></tr></thead>\n",
       "<tbody>\n",
       "\t<tr><td>11</td><td>2 </td></tr>\n",
       "</tbody>\n",
       "</table>\n"
      ],
      "text/latex": [
       "\\begin{tabular}{r|ll}\n",
       " observations & variables\\\\\n",
       "\\hline\n",
       "\t 11 & 2 \\\\\n",
       "\\end{tabular}\n"
      ],
      "text/markdown": [
       "\n",
       "| observations | variables |\n",
       "|---|---|\n",
       "| 11 | 2  |\n",
       "\n"
      ],
      "text/plain": [
       "  observations variables\n",
       "1 11           2        "
      ]
     },
     "metadata": {},
     "output_type": "display_data"
    },
    {
     "data": {
      "text/html": [
       "<table>\n",
       "<thead><tr><th scope=col>V1</th><th scope=col>class</th></tr></thead>\n",
       "<tbody>\n",
       "\t<tr><td>Twas brillig, and the slithy toves \n",
       "      Did gyre and gimble in the wabe: \n",
       "All mimsy were the borogoves, \n",
       "      And the mome raths outgrabe.              </td><td>A                                                                                                                                                             </td></tr>\n",
       "\t<tr><td>\"Beware the Jabberwock, my son! \n",
       "      The jaws that bite, the claws that catch! \n",
       "Beware the Jubjub bird, and shun \n",
       "      The frumious Bandersnatch!\"      </td><td>A                                                                                                                                                             </td></tr>\n",
       "\t<tr><td>He took his vorpal sword in hand; \n",
       "      Long time the manxome foe he sought - \n",
       "So rested he by the Tumtum tree \n",
       "      And stood awhile in thought.        </td><td>A                                                                                                                                                             </td></tr>\n",
       "\t<tr><td>And, as in uffish thought he stood, \n",
       "      The Jabberwock, with eyes of flame, \n",
       "Came whiffling through the tulgey wood, \n",
       "      And burbled as it came!     </td><td>A                                                                                                                                                             </td></tr>\n",
       "\t<tr><td>One, two! One, two! And through and through \n",
       "      The vorpal blade went snicker-snack! \n",
       "He left it dead, and with its head \n",
       "      He went galumphing back.</td><td>A                                                                                                                                                             </td></tr>\n",
       "\t<tr><td>Once upon a midnight dreary, while I pondered, weak and weary, Over many a quaint and curious volume of forgotten lore-                                       </td><td>B                                                                                                                                                             </td></tr>\n",
       "\t<tr><td>While I nodded, nearly napping, suddenly there came a tapping, As of some one gently rapping, rapping at my chamber door.                                     </td><td>B                                                                                                                                                             </td></tr>\n",
       "\t<tr><td>'Tis some visitor,\" I muttered, \"tapping at my chamber door- Only this and nothing more.\"                                                                     </td><td>B                                                                                                                                                             </td></tr>\n",
       "\t<tr><td>Ah, distinctly I remember it was in the bleak December; And each separate dying ember wrought its ghost upon the floor.                                       </td><td>B                                                                                                                                                             </td></tr>\n",
       "\t<tr><td>Eagerly I wished the morrow; -vainly I had sought to borrow From my books surcease of sorrow - sorrow for the lost Lenore-                                    </td><td>B                                                                                                                                                             </td></tr>\n",
       "\t<tr><td>For the rare and radiant maiden whom the angels name Lenore- Nameless here for evermore.                                                                      </td><td>B                                                                                                                                                             </td></tr>\n",
       "</tbody>\n",
       "</table>\n"
      ],
      "text/latex": [
       "\\begin{tabular}{r|ll}\n",
       " V1 & class\\\\\n",
       "\\hline\n",
       "\t Twas brillig, and the slithy toves \n",
       "      Did gyre and gimble in the wabe: \n",
       "All mimsy were the borogoves, \n",
       "      And the mome raths outgrabe.               & A                                                                                                                                                             \\\\\n",
       "\t \"Beware the Jabberwock, my son! \n",
       "      The jaws that bite, the claws that catch! \n",
       "Beware the Jubjub bird, and shun \n",
       "      The frumious Bandersnatch!\"       & A                                                                                                                                                             \\\\\n",
       "\t He took his vorpal sword in hand; \n",
       "      Long time the manxome foe he sought - \n",
       "So rested he by the Tumtum tree \n",
       "      And stood awhile in thought.         & A                                                                                                                                                             \\\\\n",
       "\t And, as in uffish thought he stood, \n",
       "      The Jabberwock, with eyes of flame, \n",
       "Came whiffling through the tulgey wood, \n",
       "      And burbled as it came!      & A                                                                                                                                                             \\\\\n",
       "\t One, two! One, two! And through and through \n",
       "      The vorpal blade went snicker-snack! \n",
       "He left it dead, and with its head \n",
       "      He went galumphing back. & A                                                                                                                                                             \\\\\n",
       "\t Once upon a midnight dreary, while I pondered, weak and weary, Over many a quaint and curious volume of forgotten lore-                                        & B                                                                                                                                                             \\\\\n",
       "\t While I nodded, nearly napping, suddenly there came a tapping, As of some one gently rapping, rapping at my chamber door.                                      & B                                                                                                                                                             \\\\\n",
       "\t 'Tis some visitor,\" I muttered, \"tapping at my chamber door- Only this and nothing more.\"                                                                      & B                                                                                                                                                             \\\\\n",
       "\t Ah, distinctly I remember it was in the bleak December; And each separate dying ember wrought its ghost upon the floor.                                        & B                                                                                                                                                             \\\\\n",
       "\t Eagerly I wished the morrow; -vainly I had sought to borrow From my books surcease of sorrow - sorrow for the lost Lenore-                                     & B                                                                                                                                                             \\\\\n",
       "\t For the rare and radiant maiden whom the angels name Lenore- Nameless here for evermore.                                                                       & B                                                                                                                                                             \\\\\n",
       "\\end{tabular}\n"
      ],
      "text/markdown": [
       "\n",
       "| V1 | class |\n",
       "|---|---|\n",
       "| Twas brillig, and the slithy toves \n",
       "      Did gyre and gimble in the wabe: \n",
       "All mimsy were the borogoves, \n",
       "      And the mome raths outgrabe.               | A                                                                                                                                                              |\n",
       "| \"Beware the Jabberwock, my son! \n",
       "      The jaws that bite, the claws that catch! \n",
       "Beware the Jubjub bird, and shun \n",
       "      The frumious Bandersnatch!\"       | A                                                                                                                                                              |\n",
       "| He took his vorpal sword in hand; \n",
       "      Long time the manxome foe he sought - \n",
       "So rested he by the Tumtum tree \n",
       "      And stood awhile in thought.         | A                                                                                                                                                              |\n",
       "| And, as in uffish thought he stood, \n",
       "      The Jabberwock, with eyes of flame, \n",
       "Came whiffling through the tulgey wood, \n",
       "      And burbled as it came!      | A                                                                                                                                                              |\n",
       "| One, two! One, two! And through and through \n",
       "      The vorpal blade went snicker-snack! \n",
       "He left it dead, and with its head \n",
       "      He went galumphing back. | A                                                                                                                                                              |\n",
       "| Once upon a midnight dreary, while I pondered, weak and weary, Over many a quaint and curious volume of forgotten lore-                                        | B                                                                                                                                                              |\n",
       "| While I nodded, nearly napping, suddenly there came a tapping, As of some one gently rapping, rapping at my chamber door.                                      | B                                                                                                                                                              |\n",
       "| 'Tis some visitor,\" I muttered, \"tapping at my chamber door- Only this and nothing more.\"                                                                      | B                                                                                                                                                              |\n",
       "| Ah, distinctly I remember it was in the bleak December; And each separate dying ember wrought its ghost upon the floor.                                        | B                                                                                                                                                              |\n",
       "| Eagerly I wished the morrow; -vainly I had sought to borrow From my books surcease of sorrow - sorrow for the lost Lenore-                                     | B                                                                                                                                                              |\n",
       "| For the rare and radiant maiden whom the angels name Lenore- Nameless here for evermore.                                                                       | B                                                                                                                                                              |\n",
       "\n"
      ],
      "text/plain": [
       "   V1                                                                                                                                                            \n",
       "1  Twas brillig, and the slithy toves \\n      Did gyre and gimble in the wabe: \\nAll mimsy were the borogoves, \\n      And the mome raths outgrabe.              \n",
       "2  \"Beware the Jabberwock, my son! \\n      The jaws that bite, the claws that catch! \\nBeware the Jubjub bird, and shun \\n      The frumious Bandersnatch!\"      \n",
       "3  He took his vorpal sword in hand; \\n      Long time the manxome foe he sought - \\nSo rested he by the Tumtum tree \\n      And stood awhile in thought.        \n",
       "4  And, as in uffish thought he stood, \\n      The Jabberwock, with eyes of flame, \\nCame whiffling through the tulgey wood, \\n      And burbled as it came!     \n",
       "5  One, two! One, two! And through and through \\n      The vorpal blade went snicker-snack! \\nHe left it dead, and with its head \\n      He went galumphing back.\n",
       "6  Once upon a midnight dreary, while I pondered, weak and weary, Over many a quaint and curious volume of forgotten lore-                                       \n",
       "7  While I nodded, nearly napping, suddenly there came a tapping, As of some one gently rapping, rapping at my chamber door.                                     \n",
       "8  'Tis some visitor,\" I muttered, \"tapping at my chamber door- Only this and nothing more.\"                                                                     \n",
       "9  Ah, distinctly I remember it was in the bleak December; And each separate dying ember wrought its ghost upon the floor.                                       \n",
       "10 Eagerly I wished the morrow; -vainly I had sought to borrow From my books surcease of sorrow - sorrow for the lost Lenore-                                    \n",
       "11 For the rare and radiant maiden whom the angels name Lenore- Nameless here for evermore.                                                                      \n",
       "   class\n",
       "1  A    \n",
       "2  A    \n",
       "3  A    \n",
       "4  A    \n",
       "5  A    \n",
       "6  B    \n",
       "7  B    \n",
       "8  B    \n",
       "9  B    \n",
       "10 B    \n",
       "11 B    "
      ]
     },
     "metadata": {},
     "output_type": "display_data"
    }
   ],
   "source": [
    "data = rbind(read.csv(\"Jabberwocky.csv\", header=FALSE, stringsAsFactors=FALSE)[1:5,,drop=FALSE],\n",
    "             read.csv(\"Raven.csv\", header=FALSE, stringsAsFactors=FALSE)[1:6,,drop=FALSE])\n",
    "\n",
    "data$class = factor(c(\"A\",\"A\",\"A\",\"A\",\"A\",\"B\",\"B\",\"B\",\"B\",\"B\",\"B\"))\n",
    "\n",
    "\n",
    "size(data)\n",
    "data"
   ]
  },
  {
   "cell_type": "markdown",
   "metadata": {},
   "source": [
    "<br>\n",
    "Here we retrieve a new, unclassified document."
   ]
  },
  {
   "cell_type": "code",
   "execution_count": 3,
   "metadata": {
    "hide_input": true
   },
   "outputs": [
    {
     "data": {
      "text/html": [
       "<table>\n",
       "<thead><tr><th scope=col>V1</th></tr></thead>\n",
       "<tbody>\n",
       "\t<tr><td>One bird sought a dead tree at midnight and thought about nothing more than business analytics.</td></tr>\n",
       "</tbody>\n",
       "</table>\n"
      ],
      "text/latex": [
       "\\begin{tabular}{r|l}\n",
       " V1\\\\\n",
       "\\hline\n",
       "\t One bird sought a dead tree at midnight and thought about nothing more than business analytics.\\\\\n",
       "\\end{tabular}\n"
      ],
      "text/markdown": [
       "\n",
       "| V1 |\n",
       "|---|\n",
       "| One bird sought a dead tree at midnight and thought about nothing more than business analytics. |\n",
       "\n"
      ],
      "text/plain": [
       "  V1                                                                                             \n",
       "1 One bird sought a dead tree at midnight and thought about nothing more than business analytics."
      ]
     },
     "metadata": {},
     "output_type": "display_data"
    }
   ],
   "source": [
    "new = data.frame(V1=\"One bird sought a dead tree at midnight and thought about nothing more than business analytics.\")\n",
    "new"
   ]
  },
  {
   "cell_type": "markdown",
   "metadata": {},
   "source": [
    "### Data as Document-Term Matrix "
   ]
  },
  {
   "cell_type": "markdown",
   "metadata": {},
   "source": [
    "#### Simplify the Text\n",
    "\n",
    "Here we transform the corpus in 8 ways:\n",
    "* Transform all unusal characters to similar standard latin letters (necessary only on some systems).\n",
    "* Transform all upper case letters to lower case letters.\n",
    "* Remove all numbers.\n",
    "* Remove all punctuation.\n",
    "* Remove special characters.\n",
    "* Remove all inconsequential words, like \"a\", \"the\", \"we\", \"in\", etc.\n",
    "* Reduce all words to their roots (this is known as stemming).\n",
    "* Remove all whitespace, like spaces, new lines, etc."
   ]
  },
  {
   "cell_type": "markdown",
   "metadata": {},
   "source": [
    "Transform all upper case letters to lower case letters:"
   ]
  },
  {
   "cell_type": "code",
   "execution_count": 4,
   "metadata": {
    "hide_input": true,
    "scrolled": true
   },
   "outputs": [
    {
     "data": {
      "text/html": [
       "<table>\n",
       "<thead><tr><th scope=col>V1</th></tr></thead>\n",
       "<tbody>\n",
       "\t<tr><td>twas brillig, and the slithy toves \n",
       "      did gyre and gimble in the wabe: \n",
       "all mimsy were the borogoves, \n",
       "      and the mome raths outgrabe.              </td></tr>\n",
       "\t<tr><td>\"beware the jabberwock, my son! \n",
       "      the jaws that bite, the claws that catch! \n",
       "beware the jubjub bird, and shun \n",
       "      the frumious bandersnatch!\"      </td></tr>\n",
       "\t<tr><td>he took his vorpal sword in hand; \n",
       "      long time the manxome foe he sought - \n",
       "so rested he by the tumtum tree \n",
       "      and stood awhile in thought.        </td></tr>\n",
       "\t<tr><td>and, as in uffish thought he stood, \n",
       "      the jabberwock, with eyes of flame, \n",
       "came whiffling through the tulgey wood, \n",
       "      and burbled as it came!     </td></tr>\n",
       "\t<tr><td>one, two! one, two! and through and through \n",
       "      the vorpal blade went snicker-snack! \n",
       "he left it dead, and with its head \n",
       "      he went galumphing back.</td></tr>\n",
       "\t<tr><td>once upon a midnight dreary, while i pondered, weak and weary, over many a quaint and curious volume of forgotten lore-                                       </td></tr>\n",
       "\t<tr><td>while i nodded, nearly napping, suddenly there came a tapping, as of some one gently rapping, rapping at my chamber door.                                     </td></tr>\n",
       "\t<tr><td>'tis some visitor,\" i muttered, \"tapping at my chamber door- only this and nothing more.\"                                                                     </td></tr>\n",
       "\t<tr><td>ah, distinctly i remember it was in the bleak december; and each separate dying ember wrought its ghost upon the floor.                                       </td></tr>\n",
       "\t<tr><td>eagerly i wished the morrow; -vainly i had sought to borrow from my books surcease of sorrow - sorrow for the lost lenore-                                    </td></tr>\n",
       "\t<tr><td>for the rare and radiant maiden whom the angels name lenore- nameless here for evermore.                                                                      </td></tr>\n",
       "</tbody>\n",
       "</table>\n"
      ],
      "text/latex": [
       "\\begin{tabular}{r|l}\n",
       " V1\\\\\n",
       "\\hline\n",
       "\t twas brillig, and the slithy toves \n",
       "      did gyre and gimble in the wabe: \n",
       "all mimsy were the borogoves, \n",
       "      and the mome raths outgrabe.              \\\\\n",
       "\t \"beware the jabberwock, my son! \n",
       "      the jaws that bite, the claws that catch! \n",
       "beware the jubjub bird, and shun \n",
       "      the frumious bandersnatch!\"      \\\\\n",
       "\t he took his vorpal sword in hand; \n",
       "      long time the manxome foe he sought - \n",
       "so rested he by the tumtum tree \n",
       "      and stood awhile in thought.        \\\\\n",
       "\t and, as in uffish thought he stood, \n",
       "      the jabberwock, with eyes of flame, \n",
       "came whiffling through the tulgey wood, \n",
       "      and burbled as it came!     \\\\\n",
       "\t one, two! one, two! and through and through \n",
       "      the vorpal blade went snicker-snack! \n",
       "he left it dead, and with its head \n",
       "      he went galumphing back.\\\\\n",
       "\t once upon a midnight dreary, while i pondered, weak and weary, over many a quaint and curious volume of forgotten lore-                                       \\\\\n",
       "\t while i nodded, nearly napping, suddenly there came a tapping, as of some one gently rapping, rapping at my chamber door.                                     \\\\\n",
       "\t 'tis some visitor,\" i muttered, \"tapping at my chamber door- only this and nothing more.\"                                                                     \\\\\n",
       "\t ah, distinctly i remember it was in the bleak december; and each separate dying ember wrought its ghost upon the floor.                                       \\\\\n",
       "\t eagerly i wished the morrow; -vainly i had sought to borrow from my books surcease of sorrow - sorrow for the lost lenore-                                    \\\\\n",
       "\t for the rare and radiant maiden whom the angels name lenore- nameless here for evermore.                                                                      \\\\\n",
       "\\end{tabular}\n"
      ],
      "text/markdown": [
       "\n",
       "| V1 |\n",
       "|---|\n",
       "| twas brillig, and the slithy toves \n",
       "      did gyre and gimble in the wabe: \n",
       "all mimsy were the borogoves, \n",
       "      and the mome raths outgrabe.               |\n",
       "| \"beware the jabberwock, my son! \n",
       "      the jaws that bite, the claws that catch! \n",
       "beware the jubjub bird, and shun \n",
       "      the frumious bandersnatch!\"       |\n",
       "| he took his vorpal sword in hand; \n",
       "      long time the manxome foe he sought - \n",
       "so rested he by the tumtum tree \n",
       "      and stood awhile in thought.         |\n",
       "| and, as in uffish thought he stood, \n",
       "      the jabberwock, with eyes of flame, \n",
       "came whiffling through the tulgey wood, \n",
       "      and burbled as it came!      |\n",
       "| one, two! one, two! and through and through \n",
       "      the vorpal blade went snicker-snack! \n",
       "he left it dead, and with its head \n",
       "      he went galumphing back. |\n",
       "| once upon a midnight dreary, while i pondered, weak and weary, over many a quaint and curious volume of forgotten lore-                                        |\n",
       "| while i nodded, nearly napping, suddenly there came a tapping, as of some one gently rapping, rapping at my chamber door.                                      |\n",
       "| 'tis some visitor,\" i muttered, \"tapping at my chamber door- only this and nothing more.\"                                                                      |\n",
       "| ah, distinctly i remember it was in the bleak december; and each separate dying ember wrought its ghost upon the floor.                                        |\n",
       "| eagerly i wished the morrow; -vainly i had sought to borrow from my books surcease of sorrow - sorrow for the lost lenore-                                     |\n",
       "| for the rare and radiant maiden whom the angels name lenore- nameless here for evermore.                                                                       |\n",
       "\n"
      ],
      "text/plain": [
       "   V1                                                                                                                                                            \n",
       "1  twas brillig, and the slithy toves \\n      did gyre and gimble in the wabe: \\nall mimsy were the borogoves, \\n      and the mome raths outgrabe.              \n",
       "2  \"beware the jabberwock, my son! \\n      the jaws that bite, the claws that catch! \\nbeware the jubjub bird, and shun \\n      the frumious bandersnatch!\"      \n",
       "3  he took his vorpal sword in hand; \\n      long time the manxome foe he sought - \\nso rested he by the tumtum tree \\n      and stood awhile in thought.        \n",
       "4  and, as in uffish thought he stood, \\n      the jabberwock, with eyes of flame, \\ncame whiffling through the tulgey wood, \\n      and burbled as it came!     \n",
       "5  one, two! one, two! and through and through \\n      the vorpal blade went snicker-snack! \\nhe left it dead, and with its head \\n      he went galumphing back.\n",
       "6  once upon a midnight dreary, while i pondered, weak and weary, over many a quaint and curious volume of forgotten lore-                                       \n",
       "7  while i nodded, nearly napping, suddenly there came a tapping, as of some one gently rapping, rapping at my chamber door.                                     \n",
       "8  'tis some visitor,\" i muttered, \"tapping at my chamber door- only this and nothing more.\"                                                                     \n",
       "9  ah, distinctly i remember it was in the bleak december; and each separate dying ember wrought its ghost upon the floor.                                       \n",
       "10 eagerly i wished the morrow; -vainly i had sought to borrow from my books surcease of sorrow - sorrow for the lost lenore-                                    \n",
       "11 for the rare and radiant maiden whom the angels name lenore- nameless here for evermore.                                                                      "
      ]
     },
     "metadata": {},
     "output_type": "display_data"
    }
   ],
   "source": [
    "corpus = VCorpus(VectorSource(data$V1))\n",
    "corpus = tm_map(corpus, content_transformer(tolower))\n",
    "\n",
    "as.data.frame.content(corpus)"
   ]
  },
  {
   "cell_type": "markdown",
   "metadata": {},
   "source": [
    "Further, remove all numbers:"
   ]
  },
  {
   "cell_type": "code",
   "execution_count": 5,
   "metadata": {
    "hide_input": true,
    "scrolled": false
   },
   "outputs": [
    {
     "data": {
      "text/html": [
       "<table>\n",
       "<thead><tr><th scope=col>V1</th></tr></thead>\n",
       "<tbody>\n",
       "\t<tr><td>twas brillig, and the slithy toves \n",
       "      did gyre and gimble in the wabe: \n",
       "all mimsy were the borogoves, \n",
       "      and the mome raths outgrabe.              </td></tr>\n",
       "\t<tr><td>\"beware the jabberwock, my son! \n",
       "      the jaws that bite, the claws that catch! \n",
       "beware the jubjub bird, and shun \n",
       "      the frumious bandersnatch!\"      </td></tr>\n",
       "\t<tr><td>he took his vorpal sword in hand; \n",
       "      long time the manxome foe he sought - \n",
       "so rested he by the tumtum tree \n",
       "      and stood awhile in thought.        </td></tr>\n",
       "\t<tr><td>and, as in uffish thought he stood, \n",
       "      the jabberwock, with eyes of flame, \n",
       "came whiffling through the tulgey wood, \n",
       "      and burbled as it came!     </td></tr>\n",
       "\t<tr><td>one, two! one, two! and through and through \n",
       "      the vorpal blade went snicker-snack! \n",
       "he left it dead, and with its head \n",
       "      he went galumphing back.</td></tr>\n",
       "\t<tr><td>once upon a midnight dreary, while i pondered, weak and weary, over many a quaint and curious volume of forgotten lore-                                       </td></tr>\n",
       "\t<tr><td>while i nodded, nearly napping, suddenly there came a tapping, as of some one gently rapping, rapping at my chamber door.                                     </td></tr>\n",
       "\t<tr><td>'tis some visitor,\" i muttered, \"tapping at my chamber door- only this and nothing more.\"                                                                     </td></tr>\n",
       "\t<tr><td>ah, distinctly i remember it was in the bleak december; and each separate dying ember wrought its ghost upon the floor.                                       </td></tr>\n",
       "\t<tr><td>eagerly i wished the morrow; -vainly i had sought to borrow from my books surcease of sorrow - sorrow for the lost lenore-                                    </td></tr>\n",
       "\t<tr><td>for the rare and radiant maiden whom the angels name lenore- nameless here for evermore.                                                                      </td></tr>\n",
       "</tbody>\n",
       "</table>\n"
      ],
      "text/latex": [
       "\\begin{tabular}{r|l}\n",
       " V1\\\\\n",
       "\\hline\n",
       "\t twas brillig, and the slithy toves \n",
       "      did gyre and gimble in the wabe: \n",
       "all mimsy were the borogoves, \n",
       "      and the mome raths outgrabe.              \\\\\n",
       "\t \"beware the jabberwock, my son! \n",
       "      the jaws that bite, the claws that catch! \n",
       "beware the jubjub bird, and shun \n",
       "      the frumious bandersnatch!\"      \\\\\n",
       "\t he took his vorpal sword in hand; \n",
       "      long time the manxome foe he sought - \n",
       "so rested he by the tumtum tree \n",
       "      and stood awhile in thought.        \\\\\n",
       "\t and, as in uffish thought he stood, \n",
       "      the jabberwock, with eyes of flame, \n",
       "came whiffling through the tulgey wood, \n",
       "      and burbled as it came!     \\\\\n",
       "\t one, two! one, two! and through and through \n",
       "      the vorpal blade went snicker-snack! \n",
       "he left it dead, and with its head \n",
       "      he went galumphing back.\\\\\n",
       "\t once upon a midnight dreary, while i pondered, weak and weary, over many a quaint and curious volume of forgotten lore-                                       \\\\\n",
       "\t while i nodded, nearly napping, suddenly there came a tapping, as of some one gently rapping, rapping at my chamber door.                                     \\\\\n",
       "\t 'tis some visitor,\" i muttered, \"tapping at my chamber door- only this and nothing more.\"                                                                     \\\\\n",
       "\t ah, distinctly i remember it was in the bleak december; and each separate dying ember wrought its ghost upon the floor.                                       \\\\\n",
       "\t eagerly i wished the morrow; -vainly i had sought to borrow from my books surcease of sorrow - sorrow for the lost lenore-                                    \\\\\n",
       "\t for the rare and radiant maiden whom the angels name lenore- nameless here for evermore.                                                                      \\\\\n",
       "\\end{tabular}\n"
      ],
      "text/markdown": [
       "\n",
       "| V1 |\n",
       "|---|\n",
       "| twas brillig, and the slithy toves \n",
       "      did gyre and gimble in the wabe: \n",
       "all mimsy were the borogoves, \n",
       "      and the mome raths outgrabe.               |\n",
       "| \"beware the jabberwock, my son! \n",
       "      the jaws that bite, the claws that catch! \n",
       "beware the jubjub bird, and shun \n",
       "      the frumious bandersnatch!\"       |\n",
       "| he took his vorpal sword in hand; \n",
       "      long time the manxome foe he sought - \n",
       "so rested he by the tumtum tree \n",
       "      and stood awhile in thought.         |\n",
       "| and, as in uffish thought he stood, \n",
       "      the jabberwock, with eyes of flame, \n",
       "came whiffling through the tulgey wood, \n",
       "      and burbled as it came!      |\n",
       "| one, two! one, two! and through and through \n",
       "      the vorpal blade went snicker-snack! \n",
       "he left it dead, and with its head \n",
       "      he went galumphing back. |\n",
       "| once upon a midnight dreary, while i pondered, weak and weary, over many a quaint and curious volume of forgotten lore-                                        |\n",
       "| while i nodded, nearly napping, suddenly there came a tapping, as of some one gently rapping, rapping at my chamber door.                                      |\n",
       "| 'tis some visitor,\" i muttered, \"tapping at my chamber door- only this and nothing more.\"                                                                      |\n",
       "| ah, distinctly i remember it was in the bleak december; and each separate dying ember wrought its ghost upon the floor.                                        |\n",
       "| eagerly i wished the morrow; -vainly i had sought to borrow from my books surcease of sorrow - sorrow for the lost lenore-                                     |\n",
       "| for the rare and radiant maiden whom the angels name lenore- nameless here for evermore.                                                                       |\n",
       "\n"
      ],
      "text/plain": [
       "   V1                                                                                                                                                            \n",
       "1  twas brillig, and the slithy toves \\n      did gyre and gimble in the wabe: \\nall mimsy were the borogoves, \\n      and the mome raths outgrabe.              \n",
       "2  \"beware the jabberwock, my son! \\n      the jaws that bite, the claws that catch! \\nbeware the jubjub bird, and shun \\n      the frumious bandersnatch!\"      \n",
       "3  he took his vorpal sword in hand; \\n      long time the manxome foe he sought - \\nso rested he by the tumtum tree \\n      and stood awhile in thought.        \n",
       "4  and, as in uffish thought he stood, \\n      the jabberwock, with eyes of flame, \\ncame whiffling through the tulgey wood, \\n      and burbled as it came!     \n",
       "5  one, two! one, two! and through and through \\n      the vorpal blade went snicker-snack! \\nhe left it dead, and with its head \\n      he went galumphing back.\n",
       "6  once upon a midnight dreary, while i pondered, weak and weary, over many a quaint and curious volume of forgotten lore-                                       \n",
       "7  while i nodded, nearly napping, suddenly there came a tapping, as of some one gently rapping, rapping at my chamber door.                                     \n",
       "8  'tis some visitor,\" i muttered, \"tapping at my chamber door- only this and nothing more.\"                                                                     \n",
       "9  ah, distinctly i remember it was in the bleak december; and each separate dying ember wrought its ghost upon the floor.                                       \n",
       "10 eagerly i wished the morrow; -vainly i had sought to borrow from my books surcease of sorrow - sorrow for the lost lenore-                                    \n",
       "11 for the rare and radiant maiden whom the angels name lenore- nameless here for evermore.                                                                      "
      ]
     },
     "metadata": {},
     "output_type": "display_data"
    }
   ],
   "source": [
    "corpus = VCorpus(VectorSource(data$V1))\n",
    "corpus = tm_map(corpus, content_transformer(tolower))\n",
    "corpus = tm_map(corpus, removeNumbers)\n",
    "\n",
    "as.data.frame.content(corpus)"
   ]
  },
  {
   "cell_type": "markdown",
   "metadata": {},
   "source": [
    "Further, remove all punctuation:"
   ]
  },
  {
   "cell_type": "code",
   "execution_count": 6,
   "metadata": {
    "hide_input": true,
    "scrolled": true
   },
   "outputs": [
    {
     "data": {
      "text/html": [
       "<table>\n",
       "<thead><tr><th scope=col>V1</th></tr></thead>\n",
       "<tbody>\n",
       "\t<tr><td>twas brillig and the slithy toves \n",
       "      did gyre and gimble in the wabe \n",
       "all mimsy were the borogoves \n",
       "      and the mome raths outgrabe          </td></tr>\n",
       "\t<tr><td>beware the jabberwock my son \n",
       "      the jaws that bite the claws that catch \n",
       "beware the jubjub bird and shun \n",
       "      the frumious bandersnatch      </td></tr>\n",
       "\t<tr><td>he took his vorpal sword in hand \n",
       "      long time the manxome foe he sought  \n",
       "so rested he by the tumtum tree \n",
       "      and stood awhile in thought   </td></tr>\n",
       "\t<tr><td>and as in uffish thought he stood \n",
       "      the jabberwock with eyes of flame \n",
       "came whiffling through the tulgey wood \n",
       "      and burbled as it came   </td></tr>\n",
       "\t<tr><td>one two one two and through and through \n",
       "      the vorpal blade went snickersnack \n",
       "he left it dead and with its head \n",
       "      he went galumphing back</td></tr>\n",
       "\t<tr><td>once upon a midnight dreary while i pondered weak and weary over many a quaint and curious volume of forgotten lore                                   </td></tr>\n",
       "\t<tr><td>while i nodded nearly napping suddenly there came a tapping as of some one gently rapping rapping at my chamber door                                  </td></tr>\n",
       "\t<tr><td>tis some visitor i muttered tapping at my chamber door only this and nothing more                                                                     </td></tr>\n",
       "\t<tr><td>ah distinctly i remember it was in the bleak december and each separate dying ember wrought its ghost upon the floor                                  </td></tr>\n",
       "\t<tr><td>eagerly i wished the morrow vainly i had sought to borrow from my books surcease of sorrow  sorrow for the lost lenore                                </td></tr>\n",
       "\t<tr><td>for the rare and radiant maiden whom the angels name lenore nameless here for evermore                                                                </td></tr>\n",
       "</tbody>\n",
       "</table>\n"
      ],
      "text/latex": [
       "\\begin{tabular}{r|l}\n",
       " V1\\\\\n",
       "\\hline\n",
       "\t twas brillig and the slithy toves \n",
       "      did gyre and gimble in the wabe \n",
       "all mimsy were the borogoves \n",
       "      and the mome raths outgrabe          \\\\\n",
       "\t beware the jabberwock my son \n",
       "      the jaws that bite the claws that catch \n",
       "beware the jubjub bird and shun \n",
       "      the frumious bandersnatch      \\\\\n",
       "\t he took his vorpal sword in hand \n",
       "      long time the manxome foe he sought  \n",
       "so rested he by the tumtum tree \n",
       "      and stood awhile in thought   \\\\\n",
       "\t and as in uffish thought he stood \n",
       "      the jabberwock with eyes of flame \n",
       "came whiffling through the tulgey wood \n",
       "      and burbled as it came   \\\\\n",
       "\t one two one two and through and through \n",
       "      the vorpal blade went snickersnack \n",
       "he left it dead and with its head \n",
       "      he went galumphing back\\\\\n",
       "\t once upon a midnight dreary while i pondered weak and weary over many a quaint and curious volume of forgotten lore                                   \\\\\n",
       "\t while i nodded nearly napping suddenly there came a tapping as of some one gently rapping rapping at my chamber door                                  \\\\\n",
       "\t tis some visitor i muttered tapping at my chamber door only this and nothing more                                                                     \\\\\n",
       "\t ah distinctly i remember it was in the bleak december and each separate dying ember wrought its ghost upon the floor                                  \\\\\n",
       "\t eagerly i wished the morrow vainly i had sought to borrow from my books surcease of sorrow  sorrow for the lost lenore                                \\\\\n",
       "\t for the rare and radiant maiden whom the angels name lenore nameless here for evermore                                                                \\\\\n",
       "\\end{tabular}\n"
      ],
      "text/markdown": [
       "\n",
       "| V1 |\n",
       "|---|\n",
       "| twas brillig and the slithy toves \n",
       "      did gyre and gimble in the wabe \n",
       "all mimsy were the borogoves \n",
       "      and the mome raths outgrabe           |\n",
       "| beware the jabberwock my son \n",
       "      the jaws that bite the claws that catch \n",
       "beware the jubjub bird and shun \n",
       "      the frumious bandersnatch       |\n",
       "| he took his vorpal sword in hand \n",
       "      long time the manxome foe he sought  \n",
       "so rested he by the tumtum tree \n",
       "      and stood awhile in thought    |\n",
       "| and as in uffish thought he stood \n",
       "      the jabberwock with eyes of flame \n",
       "came whiffling through the tulgey wood \n",
       "      and burbled as it came    |\n",
       "| one two one two and through and through \n",
       "      the vorpal blade went snickersnack \n",
       "he left it dead and with its head \n",
       "      he went galumphing back |\n",
       "| once upon a midnight dreary while i pondered weak and weary over many a quaint and curious volume of forgotten lore                                    |\n",
       "| while i nodded nearly napping suddenly there came a tapping as of some one gently rapping rapping at my chamber door                                   |\n",
       "| tis some visitor i muttered tapping at my chamber door only this and nothing more                                                                      |\n",
       "| ah distinctly i remember it was in the bleak december and each separate dying ember wrought its ghost upon the floor                                   |\n",
       "| eagerly i wished the morrow vainly i had sought to borrow from my books surcease of sorrow  sorrow for the lost lenore                                 |\n",
       "| for the rare and radiant maiden whom the angels name lenore nameless here for evermore                                                                 |\n",
       "\n"
      ],
      "text/plain": [
       "   V1                                                                                                                                                    \n",
       "1  twas brillig and the slithy toves \\n      did gyre and gimble in the wabe \\nall mimsy were the borogoves \\n      and the mome raths outgrabe          \n",
       "2  beware the jabberwock my son \\n      the jaws that bite the claws that catch \\nbeware the jubjub bird and shun \\n      the frumious bandersnatch      \n",
       "3  he took his vorpal sword in hand \\n      long time the manxome foe he sought  \\nso rested he by the tumtum tree \\n      and stood awhile in thought   \n",
       "4  and as in uffish thought he stood \\n      the jabberwock with eyes of flame \\ncame whiffling through the tulgey wood \\n      and burbled as it came   \n",
       "5  one two one two and through and through \\n      the vorpal blade went snickersnack \\nhe left it dead and with its head \\n      he went galumphing back\n",
       "6  once upon a midnight dreary while i pondered weak and weary over many a quaint and curious volume of forgotten lore                                   \n",
       "7  while i nodded nearly napping suddenly there came a tapping as of some one gently rapping rapping at my chamber door                                  \n",
       "8  tis some visitor i muttered tapping at my chamber door only this and nothing more                                                                     \n",
       "9  ah distinctly i remember it was in the bleak december and each separate dying ember wrought its ghost upon the floor                                  \n",
       "10 eagerly i wished the morrow vainly i had sought to borrow from my books surcease of sorrow  sorrow for the lost lenore                                \n",
       "11 for the rare and radiant maiden whom the angels name lenore nameless here for evermore                                                                "
      ]
     },
     "metadata": {},
     "output_type": "display_data"
    }
   ],
   "source": [
    "corpus = VCorpus(VectorSource(data$V1))\n",
    "corpus = tm_map(corpus, content_transformer(tolower))\n",
    "corpus = tm_map(corpus, removeNumbers)\n",
    "corpus = tm_map(corpus, removePunctuation, ucp=TRUE)\n",
    "\n",
    "as.data.frame.content(corpus)"
   ]
  },
  {
   "cell_type": "markdown",
   "metadata": {},
   "source": [
    "Further, remove special characters:"
   ]
  },
  {
   "cell_type": "code",
   "execution_count": 7,
   "metadata": {
    "hide_input": true,
    "scrolled": true
   },
   "outputs": [
    {
     "data": {
      "text/html": [
       "<table>\n",
       "<thead><tr><th scope=col>V1</th></tr></thead>\n",
       "<tbody>\n",
       "\t<tr><td>twas brillig and the slithy toves \n",
       "      did gyre and gimble in the wabe \n",
       "all mimsy were the borogoves \n",
       "      and the mome raths outgrabe          </td></tr>\n",
       "\t<tr><td>beware the jabberwock my son \n",
       "      the jaws that bite the claws that catch \n",
       "beware the jubjub bird and shun \n",
       "      the frumious bandersnatch      </td></tr>\n",
       "\t<tr><td>he took his vorpal sword in hand \n",
       "      long time the manxome foe he sought  \n",
       "so rested he by the tumtum tree \n",
       "      and stood awhile in thought   </td></tr>\n",
       "\t<tr><td>and as in uffish thought he stood \n",
       "      the jabberwock with eyes of flame \n",
       "came whiffling through the tulgey wood \n",
       "      and burbled as it came   </td></tr>\n",
       "\t<tr><td>one two one two and through and through \n",
       "      the vorpal blade went snickersnack \n",
       "he left it dead and with its head \n",
       "      he went galumphing back</td></tr>\n",
       "\t<tr><td>once upon a midnight dreary while i pondered weak and weary over many a quaint and curious volume of forgotten lore                                   </td></tr>\n",
       "\t<tr><td>while i nodded nearly napping suddenly there came a tapping as of some one gently rapping rapping at my chamber door                                  </td></tr>\n",
       "\t<tr><td>tis some visitor i muttered tapping at my chamber door only this and nothing more                                                                     </td></tr>\n",
       "\t<tr><td>ah distinctly i remember it was in the bleak december and each separate dying ember wrought its ghost upon the floor                                  </td></tr>\n",
       "\t<tr><td>eagerly i wished the morrow vainly i had sought to borrow from my books surcease of sorrow  sorrow for the lost lenore                                </td></tr>\n",
       "\t<tr><td>for the rare and radiant maiden whom the angels name lenore nameless here for evermore                                                                </td></tr>\n",
       "</tbody>\n",
       "</table>\n"
      ],
      "text/latex": [
       "\\begin{tabular}{r|l}\n",
       " V1\\\\\n",
       "\\hline\n",
       "\t twas brillig and the slithy toves \n",
       "      did gyre and gimble in the wabe \n",
       "all mimsy were the borogoves \n",
       "      and the mome raths outgrabe          \\\\\n",
       "\t beware the jabberwock my son \n",
       "      the jaws that bite the claws that catch \n",
       "beware the jubjub bird and shun \n",
       "      the frumious bandersnatch      \\\\\n",
       "\t he took his vorpal sword in hand \n",
       "      long time the manxome foe he sought  \n",
       "so rested he by the tumtum tree \n",
       "      and stood awhile in thought   \\\\\n",
       "\t and as in uffish thought he stood \n",
       "      the jabberwock with eyes of flame \n",
       "came whiffling through the tulgey wood \n",
       "      and burbled as it came   \\\\\n",
       "\t one two one two and through and through \n",
       "      the vorpal blade went snickersnack \n",
       "he left it dead and with its head \n",
       "      he went galumphing back\\\\\n",
       "\t once upon a midnight dreary while i pondered weak and weary over many a quaint and curious volume of forgotten lore                                   \\\\\n",
       "\t while i nodded nearly napping suddenly there came a tapping as of some one gently rapping rapping at my chamber door                                  \\\\\n",
       "\t tis some visitor i muttered tapping at my chamber door only this and nothing more                                                                     \\\\\n",
       "\t ah distinctly i remember it was in the bleak december and each separate dying ember wrought its ghost upon the floor                                  \\\\\n",
       "\t eagerly i wished the morrow vainly i had sought to borrow from my books surcease of sorrow  sorrow for the lost lenore                                \\\\\n",
       "\t for the rare and radiant maiden whom the angels name lenore nameless here for evermore                                                                \\\\\n",
       "\\end{tabular}\n"
      ],
      "text/markdown": [
       "\n",
       "| V1 |\n",
       "|---|\n",
       "| twas brillig and the slithy toves \n",
       "      did gyre and gimble in the wabe \n",
       "all mimsy were the borogoves \n",
       "      and the mome raths outgrabe           |\n",
       "| beware the jabberwock my son \n",
       "      the jaws that bite the claws that catch \n",
       "beware the jubjub bird and shun \n",
       "      the frumious bandersnatch       |\n",
       "| he took his vorpal sword in hand \n",
       "      long time the manxome foe he sought  \n",
       "so rested he by the tumtum tree \n",
       "      and stood awhile in thought    |\n",
       "| and as in uffish thought he stood \n",
       "      the jabberwock with eyes of flame \n",
       "came whiffling through the tulgey wood \n",
       "      and burbled as it came    |\n",
       "| one two one two and through and through \n",
       "      the vorpal blade went snickersnack \n",
       "he left it dead and with its head \n",
       "      he went galumphing back |\n",
       "| once upon a midnight dreary while i pondered weak and weary over many a quaint and curious volume of forgotten lore                                    |\n",
       "| while i nodded nearly napping suddenly there came a tapping as of some one gently rapping rapping at my chamber door                                   |\n",
       "| tis some visitor i muttered tapping at my chamber door only this and nothing more                                                                      |\n",
       "| ah distinctly i remember it was in the bleak december and each separate dying ember wrought its ghost upon the floor                                   |\n",
       "| eagerly i wished the morrow vainly i had sought to borrow from my books surcease of sorrow  sorrow for the lost lenore                                 |\n",
       "| for the rare and radiant maiden whom the angels name lenore nameless here for evermore                                                                 |\n",
       "\n"
      ],
      "text/plain": [
       "   V1                                                                                                                                                    \n",
       "1  twas brillig and the slithy toves \\n      did gyre and gimble in the wabe \\nall mimsy were the borogoves \\n      and the mome raths outgrabe          \n",
       "2  beware the jabberwock my son \\n      the jaws that bite the claws that catch \\nbeware the jubjub bird and shun \\n      the frumious bandersnatch      \n",
       "3  he took his vorpal sword in hand \\n      long time the manxome foe he sought  \\nso rested he by the tumtum tree \\n      and stood awhile in thought   \n",
       "4  and as in uffish thought he stood \\n      the jabberwock with eyes of flame \\ncame whiffling through the tulgey wood \\n      and burbled as it came   \n",
       "5  one two one two and through and through \\n      the vorpal blade went snickersnack \\nhe left it dead and with its head \\n      he went galumphing back\n",
       "6  once upon a midnight dreary while i pondered weak and weary over many a quaint and curious volume of forgotten lore                                   \n",
       "7  while i nodded nearly napping suddenly there came a tapping as of some one gently rapping rapping at my chamber door                                  \n",
       "8  tis some visitor i muttered tapping at my chamber door only this and nothing more                                                                     \n",
       "9  ah distinctly i remember it was in the bleak december and each separate dying ember wrought its ghost upon the floor                                  \n",
       "10 eagerly i wished the morrow vainly i had sought to borrow from my books surcease of sorrow  sorrow for the lost lenore                                \n",
       "11 for the rare and radiant maiden whom the angels name lenore nameless here for evermore                                                                "
      ]
     },
     "metadata": {},
     "output_type": "display_data"
    }
   ],
   "source": [
    "corpus = VCorpus(VectorSource(data$V1))\n",
    "corpus = tm_map(corpus, content_transformer(tolower))\n",
    "corpus = tm_map(corpus, removeNumbers)\n",
    "corpus = tm_map(corpus, removePunctuation, ucp=TRUE)\n",
    "corpus = tm_map(corpus, removeSpecialChars, chars=\"’“”—\")\n",
    "\n",
    "as.data.frame.content(corpus)"
   ]
  },
  {
   "cell_type": "markdown",
   "metadata": {},
   "source": [
    "Further, remove all inconsequential words, like \"a\", \"the\", \"we\", \"in\", etc.:"
   ]
  },
  {
   "cell_type": "code",
   "execution_count": 8,
   "metadata": {
    "hide_input": true,
    "scrolled": true
   },
   "outputs": [
    {
     "data": {
      "text/html": [
       "<table>\n",
       "<thead><tr><th scope=col>V1</th></tr></thead>\n",
       "<tbody>\n",
       "\t<tr><td>twas brillig   slithy toves \n",
       "       gyre  gimble   wabe \n",
       " mimsy   borogoves \n",
       "        mome raths outgrabe               </td></tr>\n",
       "\t<tr><td>beware  jabberwock  son \n",
       "       jaws  bite  claws  catch \n",
       "beware  jubjub bird  shun \n",
       "       frumious bandersnatch      </td></tr>\n",
       "\t<tr><td> took  vorpal sword  hand \n",
       "      long time  manxome foe  sought  \n",
       " rested    tumtum tree \n",
       "       stood awhile  thought </td></tr>\n",
       "\t<tr><td>   uffish thought  stood \n",
       "       jabberwock  eyes  flame \n",
       "came whiffling   tulgey wood \n",
       "       burbled   came          </td></tr>\n",
       "\t<tr><td>one two one two     \n",
       "       vorpal blade went snickersnack \n",
       " left  dead    head \n",
       "       went galumphing back           </td></tr>\n",
       "\t<tr><td> upon  midnight dreary   pondered weak  weary  many  quaint  curious volume  forgotten lore                               </td></tr>\n",
       "\t<tr><td>  nodded nearly napping suddenly  came  tapping    one gently rapping rapping   chamber door                              </td></tr>\n",
       "\t<tr><td>tis  visitor  muttered tapping   chamber door    nothing                                                                  </td></tr>\n",
       "\t<tr><td>ah distinctly  remember     bleak december   separate dying ember wrought  ghost upon  floor                              </td></tr>\n",
       "\t<tr><td>eagerly  wished  morrow vainly   sought  borrow   books surcease  sorrow  sorrow   lost lenore                            </td></tr>\n",
       "\t<tr><td>  rare  radiant maiden   angels name lenore nameless   evermore                                                           </td></tr>\n",
       "</tbody>\n",
       "</table>\n"
      ],
      "text/latex": [
       "\\begin{tabular}{r|l}\n",
       " V1\\\\\n",
       "\\hline\n",
       "\t twas brillig   slithy toves \n",
       "       gyre  gimble   wabe \n",
       " mimsy   borogoves \n",
       "        mome raths outgrabe               \\\\\n",
       "\t beware  jabberwock  son \n",
       "       jaws  bite  claws  catch \n",
       "beware  jubjub bird  shun \n",
       "       frumious bandersnatch      \\\\\n",
       "\t  took  vorpal sword  hand \n",
       "      long time  manxome foe  sought  \n",
       " rested    tumtum tree \n",
       "       stood awhile  thought \\\\\n",
       "\t    uffish thought  stood \n",
       "       jabberwock  eyes  flame \n",
       "came whiffling   tulgey wood \n",
       "       burbled   came          \\\\\n",
       "\t one two one two     \n",
       "       vorpal blade went snickersnack \n",
       " left  dead    head \n",
       "       went galumphing back           \\\\\n",
       "\t  upon  midnight dreary   pondered weak  weary  many  quaint  curious volume  forgotten lore                               \\\\\n",
       "\t   nodded nearly napping suddenly  came  tapping    one gently rapping rapping   chamber door                              \\\\\n",
       "\t tis  visitor  muttered tapping   chamber door    nothing                                                                  \\\\\n",
       "\t ah distinctly  remember     bleak december   separate dying ember wrought  ghost upon  floor                              \\\\\n",
       "\t eagerly  wished  morrow vainly   sought  borrow   books surcease  sorrow  sorrow   lost lenore                            \\\\\n",
       "\t   rare  radiant maiden   angels name lenore nameless   evermore                                                           \\\\\n",
       "\\end{tabular}\n"
      ],
      "text/markdown": [
       "\n",
       "| V1 |\n",
       "|---|\n",
       "| twas brillig   slithy toves \n",
       "       gyre  gimble   wabe \n",
       " mimsy   borogoves \n",
       "        mome raths outgrabe                |\n",
       "| beware  jabberwock  son \n",
       "       jaws  bite  claws  catch \n",
       "beware  jubjub bird  shun \n",
       "       frumious bandersnatch       |\n",
       "|  took  vorpal sword  hand \n",
       "      long time  manxome foe  sought  \n",
       " rested    tumtum tree \n",
       "       stood awhile  thought  |\n",
       "|    uffish thought  stood \n",
       "       jabberwock  eyes  flame \n",
       "came whiffling   tulgey wood \n",
       "       burbled   came           |\n",
       "| one two one two     \n",
       "       vorpal blade went snickersnack \n",
       " left  dead    head \n",
       "       went galumphing back            |\n",
       "|  upon  midnight dreary   pondered weak  weary  many  quaint  curious volume  forgotten lore                                |\n",
       "|   nodded nearly napping suddenly  came  tapping    one gently rapping rapping   chamber door                               |\n",
       "| tis  visitor  muttered tapping   chamber door    nothing                                                                   |\n",
       "| ah distinctly  remember     bleak december   separate dying ember wrought  ghost upon  floor                               |\n",
       "| eagerly  wished  morrow vainly   sought  borrow   books surcease  sorrow  sorrow   lost lenore                             |\n",
       "|   rare  radiant maiden   angels name lenore nameless   evermore                                                            |\n",
       "\n"
      ],
      "text/plain": [
       "   V1                                                                                                                        \n",
       "1  twas brillig   slithy toves \\n       gyre  gimble   wabe \\n mimsy   borogoves \\n        mome raths outgrabe               \n",
       "2  beware  jabberwock  son \\n       jaws  bite  claws  catch \\nbeware  jubjub bird  shun \\n       frumious bandersnatch      \n",
       "3   took  vorpal sword  hand \\n      long time  manxome foe  sought  \\n rested    tumtum tree \\n       stood awhile  thought \n",
       "4     uffish thought  stood \\n       jabberwock  eyes  flame \\ncame whiffling   tulgey wood \\n       burbled   came          \n",
       "5  one two one two     \\n       vorpal blade went snickersnack \\n left  dead    head \\n       went galumphing back           \n",
       "6   upon  midnight dreary   pondered weak  weary  many  quaint  curious volume  forgotten lore                               \n",
       "7    nodded nearly napping suddenly  came  tapping    one gently rapping rapping   chamber door                              \n",
       "8  tis  visitor  muttered tapping   chamber door    nothing                                                                  \n",
       "9  ah distinctly  remember     bleak december   separate dying ember wrought  ghost upon  floor                              \n",
       "10 eagerly  wished  morrow vainly   sought  borrow   books surcease  sorrow  sorrow   lost lenore                            \n",
       "11   rare  radiant maiden   angels name lenore nameless   evermore                                                           "
      ]
     },
     "metadata": {},
     "output_type": "display_data"
    }
   ],
   "source": [
    "corpus = VCorpus(VectorSource(data$V1))\n",
    "corpus = tm_map(corpus, content_transformer(tolower))\n",
    "corpus = tm_map(corpus, removeNumbers)\n",
    "corpus = tm_map(corpus, removePunctuation, ucp=TRUE)\n",
    "corpus = tm_map(corpus, removeSpecialChars, chars=\"’“”—\")\n",
    "corpus = tm_map(corpus, removeWords, stopwords(\"english\")) # uses dictionary of English stopwords\n",
    "\n",
    "as.data.frame.content(corpus)"
   ]
  },
  {
   "cell_type": "markdown",
   "metadata": {},
   "source": [
    "Further, reduce all words to their roots (this is known as stemming):"
   ]
  },
  {
   "cell_type": "code",
   "execution_count": 9,
   "metadata": {
    "hide_input": true,
    "scrolled": false
   },
   "outputs": [
    {
     "data": {
      "text/html": [
       "<table>\n",
       "<thead><tr><th scope=col>V1</th></tr></thead>\n",
       "<tbody>\n",
       "\t<tr><td>twas brillig slithi tove gyre gimbl wabe mimsi borogov mome rath outgrab               </td></tr>\n",
       "\t<tr><td>bewar jabberwock son jaw bite claw catch bewar jubjub bird shun frumious bandersnatch  </td></tr>\n",
       "\t<tr><td>took vorpal sword hand long time manxom foe sought rest tumtum tree stood awhil thought</td></tr>\n",
       "\t<tr><td>uffish thought stood jabberwock eye flame came whiffl tulgey wood burbl came           </td></tr>\n",
       "\t<tr><td>one two one two vorpal blade went snickersnack left dead head went galumph back        </td></tr>\n",
       "\t<tr><td>upon midnight dreari ponder weak weari mani quaint curious volum forgotten lore        </td></tr>\n",
       "\t<tr><td>nod near nap sudden came tap one gentl rap rap chamber door                            </td></tr>\n",
       "\t<tr><td>tis visitor mutter tap chamber door noth                                               </td></tr>\n",
       "\t<tr><td>ah distinct rememb bleak decemb separ die ember wrought ghost upon floor               </td></tr>\n",
       "\t<tr><td>eager wish morrow vain sought borrow book surceas sorrow sorrow lost lenor             </td></tr>\n",
       "\t<tr><td>rare radiant maiden angel name lenor nameless evermor                                  </td></tr>\n",
       "</tbody>\n",
       "</table>\n"
      ],
      "text/latex": [
       "\\begin{tabular}{r|l}\n",
       " V1\\\\\n",
       "\\hline\n",
       "\t twas brillig slithi tove gyre gimbl wabe mimsi borogov mome rath outgrab               \\\\\n",
       "\t bewar jabberwock son jaw bite claw catch bewar jubjub bird shun frumious bandersnatch  \\\\\n",
       "\t took vorpal sword hand long time manxom foe sought rest tumtum tree stood awhil thought\\\\\n",
       "\t uffish thought stood jabberwock eye flame came whiffl tulgey wood burbl came           \\\\\n",
       "\t one two one two vorpal blade went snickersnack left dead head went galumph back        \\\\\n",
       "\t upon midnight dreari ponder weak weari mani quaint curious volum forgotten lore        \\\\\n",
       "\t nod near nap sudden came tap one gentl rap rap chamber door                            \\\\\n",
       "\t tis visitor mutter tap chamber door noth                                               \\\\\n",
       "\t ah distinct rememb bleak decemb separ die ember wrought ghost upon floor               \\\\\n",
       "\t eager wish morrow vain sought borrow book surceas sorrow sorrow lost lenor             \\\\\n",
       "\t rare radiant maiden angel name lenor nameless evermor                                  \\\\\n",
       "\\end{tabular}\n"
      ],
      "text/markdown": [
       "\n",
       "| V1 |\n",
       "|---|\n",
       "| twas brillig slithi tove gyre gimbl wabe mimsi borogov mome rath outgrab                |\n",
       "| bewar jabberwock son jaw bite claw catch bewar jubjub bird shun frumious bandersnatch   |\n",
       "| took vorpal sword hand long time manxom foe sought rest tumtum tree stood awhil thought |\n",
       "| uffish thought stood jabberwock eye flame came whiffl tulgey wood burbl came            |\n",
       "| one two one two vorpal blade went snickersnack left dead head went galumph back         |\n",
       "| upon midnight dreari ponder weak weari mani quaint curious volum forgotten lore         |\n",
       "| nod near nap sudden came tap one gentl rap rap chamber door                             |\n",
       "| tis visitor mutter tap chamber door noth                                                |\n",
       "| ah distinct rememb bleak decemb separ die ember wrought ghost upon floor                |\n",
       "| eager wish morrow vain sought borrow book surceas sorrow sorrow lost lenor              |\n",
       "| rare radiant maiden angel name lenor nameless evermor                                   |\n",
       "\n"
      ],
      "text/plain": [
       "   V1                                                                                     \n",
       "1  twas brillig slithi tove gyre gimbl wabe mimsi borogov mome rath outgrab               \n",
       "2  bewar jabberwock son jaw bite claw catch bewar jubjub bird shun frumious bandersnatch  \n",
       "3  took vorpal sword hand long time manxom foe sought rest tumtum tree stood awhil thought\n",
       "4  uffish thought stood jabberwock eye flame came whiffl tulgey wood burbl came           \n",
       "5  one two one two vorpal blade went snickersnack left dead head went galumph back        \n",
       "6  upon midnight dreari ponder weak weari mani quaint curious volum forgotten lore        \n",
       "7  nod near nap sudden came tap one gentl rap rap chamber door                            \n",
       "8  tis visitor mutter tap chamber door noth                                               \n",
       "9  ah distinct rememb bleak decemb separ die ember wrought ghost upon floor               \n",
       "10 eager wish morrow vain sought borrow book surceas sorrow sorrow lost lenor             \n",
       "11 rare radiant maiden angel name lenor nameless evermor                                  "
      ]
     },
     "metadata": {},
     "output_type": "display_data"
    }
   ],
   "source": [
    "corpus = VCorpus(VectorSource(data$V1))\n",
    "corpus = tm_map(corpus, content_transformer(tolower))\n",
    "corpus = tm_map(corpus, removeNumbers)\n",
    "corpus = tm_map(corpus, removePunctuation, ucp=TRUE)\n",
    "corpus = tm_map(corpus, removeSpecialChars, chars=\"’“”—\")\n",
    "corpus = tm_map(corpus, removeWords, stopwords(\"english\")) # uses dictionary of English stopwords\n",
    "corpus = tm_map(corpus, stemDocument, \"english\")\n",
    "\n",
    "as.data.frame.content(corpus)"
   ]
  },
  {
   "cell_type": "markdown",
   "metadata": {},
   "source": [
    "Further, remove all whitespace, like spaces, new lines, etc.:"
   ]
  },
  {
   "cell_type": "code",
   "execution_count": 10,
   "metadata": {
    "hide_input": true,
    "scrolled": false
   },
   "outputs": [
    {
     "data": {
      "text/html": [
       "<table>\n",
       "<thead><tr><th scope=col>V1</th></tr></thead>\n",
       "<tbody>\n",
       "\t<tr><td>twas brillig slithi tove gyre gimbl wabe mimsi borogov mome rath outgrab               </td></tr>\n",
       "\t<tr><td>bewar jabberwock son jaw bite claw catch bewar jubjub bird shun frumious bandersnatch  </td></tr>\n",
       "\t<tr><td>took vorpal sword hand long time manxom foe sought rest tumtum tree stood awhil thought</td></tr>\n",
       "\t<tr><td>uffish thought stood jabberwock eye flame came whiffl tulgey wood burbl came           </td></tr>\n",
       "\t<tr><td>one two one two vorpal blade went snickersnack left dead head went galumph back        </td></tr>\n",
       "\t<tr><td>upon midnight dreari ponder weak weari mani quaint curious volum forgotten lore        </td></tr>\n",
       "\t<tr><td>nod near nap sudden came tap one gentl rap rap chamber door                            </td></tr>\n",
       "\t<tr><td>tis visitor mutter tap chamber door noth                                               </td></tr>\n",
       "\t<tr><td>ah distinct rememb bleak decemb separ die ember wrought ghost upon floor               </td></tr>\n",
       "\t<tr><td>eager wish morrow vain sought borrow book surceas sorrow sorrow lost lenor             </td></tr>\n",
       "\t<tr><td>rare radiant maiden angel name lenor nameless evermor                                  </td></tr>\n",
       "</tbody>\n",
       "</table>\n"
      ],
      "text/latex": [
       "\\begin{tabular}{r|l}\n",
       " V1\\\\\n",
       "\\hline\n",
       "\t twas brillig slithi tove gyre gimbl wabe mimsi borogov mome rath outgrab               \\\\\n",
       "\t bewar jabberwock son jaw bite claw catch bewar jubjub bird shun frumious bandersnatch  \\\\\n",
       "\t took vorpal sword hand long time manxom foe sought rest tumtum tree stood awhil thought\\\\\n",
       "\t uffish thought stood jabberwock eye flame came whiffl tulgey wood burbl came           \\\\\n",
       "\t one two one two vorpal blade went snickersnack left dead head went galumph back        \\\\\n",
       "\t upon midnight dreari ponder weak weari mani quaint curious volum forgotten lore        \\\\\n",
       "\t nod near nap sudden came tap one gentl rap rap chamber door                            \\\\\n",
       "\t tis visitor mutter tap chamber door noth                                               \\\\\n",
       "\t ah distinct rememb bleak decemb separ die ember wrought ghost upon floor               \\\\\n",
       "\t eager wish morrow vain sought borrow book surceas sorrow sorrow lost lenor             \\\\\n",
       "\t rare radiant maiden angel name lenor nameless evermor                                  \\\\\n",
       "\\end{tabular}\n"
      ],
      "text/markdown": [
       "\n",
       "| V1 |\n",
       "|---|\n",
       "| twas brillig slithi tove gyre gimbl wabe mimsi borogov mome rath outgrab                |\n",
       "| bewar jabberwock son jaw bite claw catch bewar jubjub bird shun frumious bandersnatch   |\n",
       "| took vorpal sword hand long time manxom foe sought rest tumtum tree stood awhil thought |\n",
       "| uffish thought stood jabberwock eye flame came whiffl tulgey wood burbl came            |\n",
       "| one two one two vorpal blade went snickersnack left dead head went galumph back         |\n",
       "| upon midnight dreari ponder weak weari mani quaint curious volum forgotten lore         |\n",
       "| nod near nap sudden came tap one gentl rap rap chamber door                             |\n",
       "| tis visitor mutter tap chamber door noth                                                |\n",
       "| ah distinct rememb bleak decemb separ die ember wrought ghost upon floor                |\n",
       "| eager wish morrow vain sought borrow book surceas sorrow sorrow lost lenor              |\n",
       "| rare radiant maiden angel name lenor nameless evermor                                   |\n",
       "\n"
      ],
      "text/plain": [
       "   V1                                                                                     \n",
       "1  twas brillig slithi tove gyre gimbl wabe mimsi borogov mome rath outgrab               \n",
       "2  bewar jabberwock son jaw bite claw catch bewar jubjub bird shun frumious bandersnatch  \n",
       "3  took vorpal sword hand long time manxom foe sought rest tumtum tree stood awhil thought\n",
       "4  uffish thought stood jabberwock eye flame came whiffl tulgey wood burbl came           \n",
       "5  one two one two vorpal blade went snickersnack left dead head went galumph back        \n",
       "6  upon midnight dreari ponder weak weari mani quaint curious volum forgotten lore        \n",
       "7  nod near nap sudden came tap one gentl rap rap chamber door                            \n",
       "8  tis visitor mutter tap chamber door noth                                               \n",
       "9  ah distinct rememb bleak decemb separ die ember wrought ghost upon floor               \n",
       "10 eager wish morrow vain sought borrow book surceas sorrow sorrow lost lenor             \n",
       "11 rare radiant maiden angel name lenor nameless evermor                                  "
      ]
     },
     "metadata": {},
     "output_type": "display_data"
    }
   ],
   "source": [
    "corpus = VCorpus(VectorSource(data$V1))\n",
    "corpus = tm_map(corpus, content_transformer(tolower))\n",
    "corpus = tm_map(corpus, removeNumbers)\n",
    "corpus = tm_map(corpus, removePunctuation, ucp=TRUE)\n",
    "corpus = tm_map(corpus, removeSpecialChars, chars=\"’“”—\")\n",
    "corpus = tm_map(corpus, removeWords, stopwords(\"english\")) # uses dictionary of English stopwords\n",
    "corpus = tm_map(corpus, stemDocument, \"english\")\n",
    "corpus = tm_map(corpus, stripWhitespace)\n",
    "\n",
    "as.data.frame.content(corpus)"
   ]
  },
  {
   "cell_type": "markdown",
   "metadata": {},
   "source": [
    "#### Document-Term Matrix: Bag of Words\n",
    "\n",
    "Represent the simplified dataset as a document-term matrix (\"bag of words\").\n",
    "\n",
    "The document-term matrix's variables (columns) correspond to the words in the transformed corpus.  Observations (rows) correspond to documents.  Each value is the number of times a certain word appears in a certain document."
   ]
  },
  {
   "cell_type": "code",
   "execution_count": 11,
   "metadata": {
    "hide_input": true,
    "scrolled": false
   },
   "outputs": [
    {
     "data": {
      "text/html": [
       "<table>\n",
       "<thead><tr><th scope=col>observations</th><th scope=col>variables</th></tr></thead>\n",
       "<tbody>\n",
       "\t<tr><td>11 </td><td>109</td></tr>\n",
       "</tbody>\n",
       "</table>\n"
      ],
      "text/latex": [
       "\\begin{tabular}{r|ll}\n",
       " observations & variables\\\\\n",
       "\\hline\n",
       "\t 11  & 109\\\\\n",
       "\\end{tabular}\n"
      ],
      "text/markdown": [
       "\n",
       "| observations | variables |\n",
       "|---|---|\n",
       "| 11  | 109 |\n",
       "\n"
      ],
      "text/plain": [
       "  observations variables\n",
       "1 11           109      "
      ]
     },
     "metadata": {},
     "output_type": "display_data"
    },
    {
     "data": {
      "text/html": [
       "<table>\n",
       "<thead><tr><th scope=col>angel</th><th scope=col>awhil</th><th scope=col>back</th><th scope=col>bandersnatch</th><th scope=col>bewar</th><th scope=col>bird</th><th scope=col>bite</th><th scope=col>blade</th><th scope=col>bleak</th><th scope=col>book</th><th scope=col>borogov</th><th scope=col>borrow</th><th scope=col>brillig</th><th scope=col>burbl</th><th scope=col>came</th><th scope=col>catch</th><th scope=col>chamber</th><th scope=col>claw</th><th scope=col>curious</th><th scope=col>dead</th><th scope=col>decemb</th><th scope=col>die</th><th scope=col>distinct</th><th scope=col>door</th><th scope=col>dreari</th><th scope=col>eager</th><th scope=col>ember</th><th scope=col>evermor</th><th scope=col>eye</th><th scope=col>flame</th><th scope=col>floor</th><th scope=col>foe</th><th scope=col>forgotten</th><th scope=col>frumious</th><th scope=col>galumph</th><th scope=col>gentl</th><th scope=col>ghost</th><th scope=col>...</th><th scope=col>rest</th><th scope=col>separ</th><th scope=col>shun</th><th scope=col>slithi</th><th scope=col>snickersnack</th><th scope=col>son</th><th scope=col>sorrow</th><th scope=col>sought</th><th scope=col>stood</th><th scope=col>sudden</th><th scope=col>surceas</th><th scope=col>sword</th><th scope=col>tap</th><th scope=col>thought</th><th scope=col>time</th><th scope=col>tis</th><th scope=col>took</th><th scope=col>tove</th><th scope=col>tree</th><th scope=col>tulgey</th><th scope=col>tumtum</th><th scope=col>twas</th><th scope=col>two</th><th scope=col>uffish</th><th scope=col>upon</th><th scope=col>vain</th><th scope=col>visitor</th><th scope=col>volum</th><th scope=col>vorpal</th><th scope=col>wabe</th><th scope=col>weak</th><th scope=col>weari</th><th scope=col>went</th><th scope=col>whiffl</th><th scope=col>wish</th><th scope=col>wood</th><th scope=col>wrought</th></tr></thead>\n",
       "<tbody>\n",
       "\t<tr><td>0  </td><td>0  </td><td>0  </td><td>0  </td><td>0  </td><td>0  </td><td>0  </td><td>0  </td><td>0  </td><td>0  </td><td>1  </td><td>0  </td><td>1  </td><td>0  </td><td>0  </td><td>0  </td><td>0  </td><td>0  </td><td>0  </td><td>0  </td><td>0  </td><td>0  </td><td>0  </td><td>0  </td><td>0  </td><td>0  </td><td>0  </td><td>0  </td><td>0  </td><td>0  </td><td>0  </td><td>0  </td><td>0  </td><td>0  </td><td>0  </td><td>0  </td><td>0  </td><td>...</td><td>0  </td><td>0  </td><td>0  </td><td>1  </td><td>0  </td><td>0  </td><td>0  </td><td>0  </td><td>0  </td><td>0  </td><td>0  </td><td>0  </td><td>0  </td><td>0  </td><td>0  </td><td>0  </td><td>0  </td><td>1  </td><td>0  </td><td>0  </td><td>0  </td><td>1  </td><td>0  </td><td>0  </td><td>0  </td><td>0  </td><td>0  </td><td>0  </td><td>0  </td><td>1  </td><td>0  </td><td>0  </td><td>0  </td><td>0  </td><td>0  </td><td>0  </td><td>0  </td></tr>\n",
       "\t<tr><td>0  </td><td>0  </td><td>0  </td><td>1  </td><td>2  </td><td>1  </td><td>1  </td><td>0  </td><td>0  </td><td>0  </td><td>0  </td><td>0  </td><td>0  </td><td>0  </td><td>0  </td><td>1  </td><td>0  </td><td>1  </td><td>0  </td><td>0  </td><td>0  </td><td>0  </td><td>0  </td><td>0  </td><td>0  </td><td>0  </td><td>0  </td><td>0  </td><td>0  </td><td>0  </td><td>0  </td><td>0  </td><td>0  </td><td>1  </td><td>0  </td><td>0  </td><td>0  </td><td>...</td><td>0  </td><td>0  </td><td>1  </td><td>0  </td><td>0  </td><td>1  </td><td>0  </td><td>0  </td><td>0  </td><td>0  </td><td>0  </td><td>0  </td><td>0  </td><td>0  </td><td>0  </td><td>0  </td><td>0  </td><td>0  </td><td>0  </td><td>0  </td><td>0  </td><td>0  </td><td>0  </td><td>0  </td><td>0  </td><td>0  </td><td>0  </td><td>0  </td><td>0  </td><td>0  </td><td>0  </td><td>0  </td><td>0  </td><td>0  </td><td>0  </td><td>0  </td><td>0  </td></tr>\n",
       "\t<tr><td>0  </td><td>1  </td><td>0  </td><td>0  </td><td>0  </td><td>0  </td><td>0  </td><td>0  </td><td>0  </td><td>0  </td><td>0  </td><td>0  </td><td>0  </td><td>0  </td><td>0  </td><td>0  </td><td>0  </td><td>0  </td><td>0  </td><td>0  </td><td>0  </td><td>0  </td><td>0  </td><td>0  </td><td>0  </td><td>0  </td><td>0  </td><td>0  </td><td>0  </td><td>0  </td><td>0  </td><td>1  </td><td>0  </td><td>0  </td><td>0  </td><td>0  </td><td>0  </td><td>...</td><td>1  </td><td>0  </td><td>0  </td><td>0  </td><td>0  </td><td>0  </td><td>0  </td><td>1  </td><td>1  </td><td>0  </td><td>0  </td><td>1  </td><td>0  </td><td>1  </td><td>1  </td><td>0  </td><td>1  </td><td>0  </td><td>1  </td><td>0  </td><td>1  </td><td>0  </td><td>0  </td><td>0  </td><td>0  </td><td>0  </td><td>0  </td><td>0  </td><td>1  </td><td>0  </td><td>0  </td><td>0  </td><td>0  </td><td>0  </td><td>0  </td><td>0  </td><td>0  </td></tr>\n",
       "\t<tr><td>0  </td><td>0  </td><td>0  </td><td>0  </td><td>0  </td><td>0  </td><td>0  </td><td>0  </td><td>0  </td><td>0  </td><td>0  </td><td>0  </td><td>0  </td><td>1  </td><td>2  </td><td>0  </td><td>0  </td><td>0  </td><td>0  </td><td>0  </td><td>0  </td><td>0  </td><td>0  </td><td>0  </td><td>0  </td><td>0  </td><td>0  </td><td>0  </td><td>1  </td><td>1  </td><td>0  </td><td>0  </td><td>0  </td><td>0  </td><td>0  </td><td>0  </td><td>0  </td><td>...</td><td>0  </td><td>0  </td><td>0  </td><td>0  </td><td>0  </td><td>0  </td><td>0  </td><td>0  </td><td>1  </td><td>0  </td><td>0  </td><td>0  </td><td>0  </td><td>1  </td><td>0  </td><td>0  </td><td>0  </td><td>0  </td><td>0  </td><td>1  </td><td>0  </td><td>0  </td><td>0  </td><td>1  </td><td>0  </td><td>0  </td><td>0  </td><td>0  </td><td>0  </td><td>0  </td><td>0  </td><td>0  </td><td>0  </td><td>1  </td><td>0  </td><td>1  </td><td>0  </td></tr>\n",
       "\t<tr><td>0  </td><td>0  </td><td>1  </td><td>0  </td><td>0  </td><td>0  </td><td>0  </td><td>1  </td><td>0  </td><td>0  </td><td>0  </td><td>0  </td><td>0  </td><td>0  </td><td>0  </td><td>0  </td><td>0  </td><td>0  </td><td>0  </td><td>1  </td><td>0  </td><td>0  </td><td>0  </td><td>0  </td><td>0  </td><td>0  </td><td>0  </td><td>0  </td><td>0  </td><td>0  </td><td>0  </td><td>0  </td><td>0  </td><td>0  </td><td>1  </td><td>0  </td><td>0  </td><td>...</td><td>0  </td><td>0  </td><td>0  </td><td>0  </td><td>1  </td><td>0  </td><td>0  </td><td>0  </td><td>0  </td><td>0  </td><td>0  </td><td>0  </td><td>0  </td><td>0  </td><td>0  </td><td>0  </td><td>0  </td><td>0  </td><td>0  </td><td>0  </td><td>0  </td><td>0  </td><td>2  </td><td>0  </td><td>0  </td><td>0  </td><td>0  </td><td>0  </td><td>1  </td><td>0  </td><td>0  </td><td>0  </td><td>2  </td><td>0  </td><td>0  </td><td>0  </td><td>0  </td></tr>\n",
       "\t<tr><td>0  </td><td>0  </td><td>0  </td><td>0  </td><td>0  </td><td>0  </td><td>0  </td><td>0  </td><td>0  </td><td>0  </td><td>0  </td><td>0  </td><td>0  </td><td>0  </td><td>0  </td><td>0  </td><td>0  </td><td>0  </td><td>1  </td><td>0  </td><td>0  </td><td>0  </td><td>0  </td><td>0  </td><td>1  </td><td>0  </td><td>0  </td><td>0  </td><td>0  </td><td>0  </td><td>0  </td><td>0  </td><td>1  </td><td>0  </td><td>0  </td><td>0  </td><td>0  </td><td>...</td><td>0  </td><td>0  </td><td>0  </td><td>0  </td><td>0  </td><td>0  </td><td>0  </td><td>0  </td><td>0  </td><td>0  </td><td>0  </td><td>0  </td><td>0  </td><td>0  </td><td>0  </td><td>0  </td><td>0  </td><td>0  </td><td>0  </td><td>0  </td><td>0  </td><td>0  </td><td>0  </td><td>0  </td><td>1  </td><td>0  </td><td>0  </td><td>1  </td><td>0  </td><td>0  </td><td>1  </td><td>1  </td><td>0  </td><td>0  </td><td>0  </td><td>0  </td><td>0  </td></tr>\n",
       "\t<tr><td>0  </td><td>0  </td><td>0  </td><td>0  </td><td>0  </td><td>0  </td><td>0  </td><td>0  </td><td>0  </td><td>0  </td><td>0  </td><td>0  </td><td>0  </td><td>0  </td><td>1  </td><td>0  </td><td>1  </td><td>0  </td><td>0  </td><td>0  </td><td>0  </td><td>0  </td><td>0  </td><td>1  </td><td>0  </td><td>0  </td><td>0  </td><td>0  </td><td>0  </td><td>0  </td><td>0  </td><td>0  </td><td>0  </td><td>0  </td><td>0  </td><td>1  </td><td>0  </td><td>...</td><td>0  </td><td>0  </td><td>0  </td><td>0  </td><td>0  </td><td>0  </td><td>0  </td><td>0  </td><td>0  </td><td>1  </td><td>0  </td><td>0  </td><td>1  </td><td>0  </td><td>0  </td><td>0  </td><td>0  </td><td>0  </td><td>0  </td><td>0  </td><td>0  </td><td>0  </td><td>0  </td><td>0  </td><td>0  </td><td>0  </td><td>0  </td><td>0  </td><td>0  </td><td>0  </td><td>0  </td><td>0  </td><td>0  </td><td>0  </td><td>0  </td><td>0  </td><td>0  </td></tr>\n",
       "\t<tr><td>0  </td><td>0  </td><td>0  </td><td>0  </td><td>0  </td><td>0  </td><td>0  </td><td>0  </td><td>0  </td><td>0  </td><td>0  </td><td>0  </td><td>0  </td><td>0  </td><td>0  </td><td>0  </td><td>1  </td><td>0  </td><td>0  </td><td>0  </td><td>0  </td><td>0  </td><td>0  </td><td>1  </td><td>0  </td><td>0  </td><td>0  </td><td>0  </td><td>0  </td><td>0  </td><td>0  </td><td>0  </td><td>0  </td><td>0  </td><td>0  </td><td>0  </td><td>0  </td><td>...</td><td>0  </td><td>0  </td><td>0  </td><td>0  </td><td>0  </td><td>0  </td><td>0  </td><td>0  </td><td>0  </td><td>0  </td><td>0  </td><td>0  </td><td>1  </td><td>0  </td><td>0  </td><td>1  </td><td>0  </td><td>0  </td><td>0  </td><td>0  </td><td>0  </td><td>0  </td><td>0  </td><td>0  </td><td>0  </td><td>0  </td><td>1  </td><td>0  </td><td>0  </td><td>0  </td><td>0  </td><td>0  </td><td>0  </td><td>0  </td><td>0  </td><td>0  </td><td>0  </td></tr>\n",
       "\t<tr><td>0  </td><td>0  </td><td>0  </td><td>0  </td><td>0  </td><td>0  </td><td>0  </td><td>0  </td><td>1  </td><td>0  </td><td>0  </td><td>0  </td><td>0  </td><td>0  </td><td>0  </td><td>0  </td><td>0  </td><td>0  </td><td>0  </td><td>0  </td><td>1  </td><td>1  </td><td>1  </td><td>0  </td><td>0  </td><td>0  </td><td>1  </td><td>0  </td><td>0  </td><td>0  </td><td>1  </td><td>0  </td><td>0  </td><td>0  </td><td>0  </td><td>0  </td><td>1  </td><td>...</td><td>0  </td><td>1  </td><td>0  </td><td>0  </td><td>0  </td><td>0  </td><td>0  </td><td>0  </td><td>0  </td><td>0  </td><td>0  </td><td>0  </td><td>0  </td><td>0  </td><td>0  </td><td>0  </td><td>0  </td><td>0  </td><td>0  </td><td>0  </td><td>0  </td><td>0  </td><td>0  </td><td>0  </td><td>1  </td><td>0  </td><td>0  </td><td>0  </td><td>0  </td><td>0  </td><td>0  </td><td>0  </td><td>0  </td><td>0  </td><td>0  </td><td>0  </td><td>1  </td></tr>\n",
       "\t<tr><td>0  </td><td>0  </td><td>0  </td><td>0  </td><td>0  </td><td>0  </td><td>0  </td><td>0  </td><td>0  </td><td>1  </td><td>0  </td><td>1  </td><td>0  </td><td>0  </td><td>0  </td><td>0  </td><td>0  </td><td>0  </td><td>0  </td><td>0  </td><td>0  </td><td>0  </td><td>0  </td><td>0  </td><td>0  </td><td>1  </td><td>0  </td><td>0  </td><td>0  </td><td>0  </td><td>0  </td><td>0  </td><td>0  </td><td>0  </td><td>0  </td><td>0  </td><td>0  </td><td>...</td><td>0  </td><td>0  </td><td>0  </td><td>0  </td><td>0  </td><td>0  </td><td>2  </td><td>1  </td><td>0  </td><td>0  </td><td>1  </td><td>0  </td><td>0  </td><td>0  </td><td>0  </td><td>0  </td><td>0  </td><td>0  </td><td>0  </td><td>0  </td><td>0  </td><td>0  </td><td>0  </td><td>0  </td><td>0  </td><td>1  </td><td>0  </td><td>0  </td><td>0  </td><td>0  </td><td>0  </td><td>0  </td><td>0  </td><td>0  </td><td>1  </td><td>0  </td><td>0  </td></tr>\n",
       "\t<tr><td>1  </td><td>0  </td><td>0  </td><td>0  </td><td>0  </td><td>0  </td><td>0  </td><td>0  </td><td>0  </td><td>0  </td><td>0  </td><td>0  </td><td>0  </td><td>0  </td><td>0  </td><td>0  </td><td>0  </td><td>0  </td><td>0  </td><td>0  </td><td>0  </td><td>0  </td><td>0  </td><td>0  </td><td>0  </td><td>0  </td><td>0  </td><td>1  </td><td>0  </td><td>0  </td><td>0  </td><td>0  </td><td>0  </td><td>0  </td><td>0  </td><td>0  </td><td>0  </td><td>...</td><td>0  </td><td>0  </td><td>0  </td><td>0  </td><td>0  </td><td>0  </td><td>0  </td><td>0  </td><td>0  </td><td>0  </td><td>0  </td><td>0  </td><td>0  </td><td>0  </td><td>0  </td><td>0  </td><td>0  </td><td>0  </td><td>0  </td><td>0  </td><td>0  </td><td>0  </td><td>0  </td><td>0  </td><td>0  </td><td>0  </td><td>0  </td><td>0  </td><td>0  </td><td>0  </td><td>0  </td><td>0  </td><td>0  </td><td>0  </td><td>0  </td><td>0  </td><td>0  </td></tr>\n",
       "</tbody>\n",
       "</table>\n"
      ],
      "text/latex": [
       "\\begin{tabular}{r|lllllllllllllllllllllllllllllllllllllllllllllllllllllllllllllllllllllllllllllllllllllllllllllllllllllllllllll}\n",
       " angel & awhil & back & bandersnatch & bewar & bird & bite & blade & bleak & book & borogov & borrow & brillig & burbl & came & catch & chamber & claw & curious & dead & decemb & die & distinct & door & dreari & eager & ember & evermor & eye & flame & floor & foe & forgotten & frumious & galumph & gentl & ghost & ... & rest & separ & shun & slithi & snickersnack & son & sorrow & sought & stood & sudden & surceas & sword & tap & thought & time & tis & took & tove & tree & tulgey & tumtum & twas & two & uffish & upon & vain & visitor & volum & vorpal & wabe & weak & weari & went & whiffl & wish & wood & wrought\\\\\n",
       "\\hline\n",
       "\t 0   & 0   & 0   & 0   & 0   & 0   & 0   & 0   & 0   & 0   & 1   & 0   & 1   & 0   & 0   & 0   & 0   & 0   & 0   & 0   & 0   & 0   & 0   & 0   & 0   & 0   & 0   & 0   & 0   & 0   & 0   & 0   & 0   & 0   & 0   & 0   & 0   & ... & 0   & 0   & 0   & 1   & 0   & 0   & 0   & 0   & 0   & 0   & 0   & 0   & 0   & 0   & 0   & 0   & 0   & 1   & 0   & 0   & 0   & 1   & 0   & 0   & 0   & 0   & 0   & 0   & 0   & 1   & 0   & 0   & 0   & 0   & 0   & 0   & 0  \\\\\n",
       "\t 0   & 0   & 0   & 1   & 2   & 1   & 1   & 0   & 0   & 0   & 0   & 0   & 0   & 0   & 0   & 1   & 0   & 1   & 0   & 0   & 0   & 0   & 0   & 0   & 0   & 0   & 0   & 0   & 0   & 0   & 0   & 0   & 0   & 1   & 0   & 0   & 0   & ... & 0   & 0   & 1   & 0   & 0   & 1   & 0   & 0   & 0   & 0   & 0   & 0   & 0   & 0   & 0   & 0   & 0   & 0   & 0   & 0   & 0   & 0   & 0   & 0   & 0   & 0   & 0   & 0   & 0   & 0   & 0   & 0   & 0   & 0   & 0   & 0   & 0  \\\\\n",
       "\t 0   & 1   & 0   & 0   & 0   & 0   & 0   & 0   & 0   & 0   & 0   & 0   & 0   & 0   & 0   & 0   & 0   & 0   & 0   & 0   & 0   & 0   & 0   & 0   & 0   & 0   & 0   & 0   & 0   & 0   & 0   & 1   & 0   & 0   & 0   & 0   & 0   & ... & 1   & 0   & 0   & 0   & 0   & 0   & 0   & 1   & 1   & 0   & 0   & 1   & 0   & 1   & 1   & 0   & 1   & 0   & 1   & 0   & 1   & 0   & 0   & 0   & 0   & 0   & 0   & 0   & 1   & 0   & 0   & 0   & 0   & 0   & 0   & 0   & 0  \\\\\n",
       "\t 0   & 0   & 0   & 0   & 0   & 0   & 0   & 0   & 0   & 0   & 0   & 0   & 0   & 1   & 2   & 0   & 0   & 0   & 0   & 0   & 0   & 0   & 0   & 0   & 0   & 0   & 0   & 0   & 1   & 1   & 0   & 0   & 0   & 0   & 0   & 0   & 0   & ... & 0   & 0   & 0   & 0   & 0   & 0   & 0   & 0   & 1   & 0   & 0   & 0   & 0   & 1   & 0   & 0   & 0   & 0   & 0   & 1   & 0   & 0   & 0   & 1   & 0   & 0   & 0   & 0   & 0   & 0   & 0   & 0   & 0   & 1   & 0   & 1   & 0  \\\\\n",
       "\t 0   & 0   & 1   & 0   & 0   & 0   & 0   & 1   & 0   & 0   & 0   & 0   & 0   & 0   & 0   & 0   & 0   & 0   & 0   & 1   & 0   & 0   & 0   & 0   & 0   & 0   & 0   & 0   & 0   & 0   & 0   & 0   & 0   & 0   & 1   & 0   & 0   & ... & 0   & 0   & 0   & 0   & 1   & 0   & 0   & 0   & 0   & 0   & 0   & 0   & 0   & 0   & 0   & 0   & 0   & 0   & 0   & 0   & 0   & 0   & 2   & 0   & 0   & 0   & 0   & 0   & 1   & 0   & 0   & 0   & 2   & 0   & 0   & 0   & 0  \\\\\n",
       "\t 0   & 0   & 0   & 0   & 0   & 0   & 0   & 0   & 0   & 0   & 0   & 0   & 0   & 0   & 0   & 0   & 0   & 0   & 1   & 0   & 0   & 0   & 0   & 0   & 1   & 0   & 0   & 0   & 0   & 0   & 0   & 0   & 1   & 0   & 0   & 0   & 0   & ... & 0   & 0   & 0   & 0   & 0   & 0   & 0   & 0   & 0   & 0   & 0   & 0   & 0   & 0   & 0   & 0   & 0   & 0   & 0   & 0   & 0   & 0   & 0   & 0   & 1   & 0   & 0   & 1   & 0   & 0   & 1   & 1   & 0   & 0   & 0   & 0   & 0  \\\\\n",
       "\t 0   & 0   & 0   & 0   & 0   & 0   & 0   & 0   & 0   & 0   & 0   & 0   & 0   & 0   & 1   & 0   & 1   & 0   & 0   & 0   & 0   & 0   & 0   & 1   & 0   & 0   & 0   & 0   & 0   & 0   & 0   & 0   & 0   & 0   & 0   & 1   & 0   & ... & 0   & 0   & 0   & 0   & 0   & 0   & 0   & 0   & 0   & 1   & 0   & 0   & 1   & 0   & 0   & 0   & 0   & 0   & 0   & 0   & 0   & 0   & 0   & 0   & 0   & 0   & 0   & 0   & 0   & 0   & 0   & 0   & 0   & 0   & 0   & 0   & 0  \\\\\n",
       "\t 0   & 0   & 0   & 0   & 0   & 0   & 0   & 0   & 0   & 0   & 0   & 0   & 0   & 0   & 0   & 0   & 1   & 0   & 0   & 0   & 0   & 0   & 0   & 1   & 0   & 0   & 0   & 0   & 0   & 0   & 0   & 0   & 0   & 0   & 0   & 0   & 0   & ... & 0   & 0   & 0   & 0   & 0   & 0   & 0   & 0   & 0   & 0   & 0   & 0   & 1   & 0   & 0   & 1   & 0   & 0   & 0   & 0   & 0   & 0   & 0   & 0   & 0   & 0   & 1   & 0   & 0   & 0   & 0   & 0   & 0   & 0   & 0   & 0   & 0  \\\\\n",
       "\t 0   & 0   & 0   & 0   & 0   & 0   & 0   & 0   & 1   & 0   & 0   & 0   & 0   & 0   & 0   & 0   & 0   & 0   & 0   & 0   & 1   & 1   & 1   & 0   & 0   & 0   & 1   & 0   & 0   & 0   & 1   & 0   & 0   & 0   & 0   & 0   & 1   & ... & 0   & 1   & 0   & 0   & 0   & 0   & 0   & 0   & 0   & 0   & 0   & 0   & 0   & 0   & 0   & 0   & 0   & 0   & 0   & 0   & 0   & 0   & 0   & 0   & 1   & 0   & 0   & 0   & 0   & 0   & 0   & 0   & 0   & 0   & 0   & 0   & 1  \\\\\n",
       "\t 0   & 0   & 0   & 0   & 0   & 0   & 0   & 0   & 0   & 1   & 0   & 1   & 0   & 0   & 0   & 0   & 0   & 0   & 0   & 0   & 0   & 0   & 0   & 0   & 0   & 1   & 0   & 0   & 0   & 0   & 0   & 0   & 0   & 0   & 0   & 0   & 0   & ... & 0   & 0   & 0   & 0   & 0   & 0   & 2   & 1   & 0   & 0   & 1   & 0   & 0   & 0   & 0   & 0   & 0   & 0   & 0   & 0   & 0   & 0   & 0   & 0   & 0   & 1   & 0   & 0   & 0   & 0   & 0   & 0   & 0   & 0   & 1   & 0   & 0  \\\\\n",
       "\t 1   & 0   & 0   & 0   & 0   & 0   & 0   & 0   & 0   & 0   & 0   & 0   & 0   & 0   & 0   & 0   & 0   & 0   & 0   & 0   & 0   & 0   & 0   & 0   & 0   & 0   & 0   & 1   & 0   & 0   & 0   & 0   & 0   & 0   & 0   & 0   & 0   & ... & 0   & 0   & 0   & 0   & 0   & 0   & 0   & 0   & 0   & 0   & 0   & 0   & 0   & 0   & 0   & 0   & 0   & 0   & 0   & 0   & 0   & 0   & 0   & 0   & 0   & 0   & 0   & 0   & 0   & 0   & 0   & 0   & 0   & 0   & 0   & 0   & 0  \\\\\n",
       "\\end{tabular}\n"
      ],
      "text/markdown": [
       "\n",
       "| angel | awhil | back | bandersnatch | bewar | bird | bite | blade | bleak | book | borogov | borrow | brillig | burbl | came | catch | chamber | claw | curious | dead | decemb | die | distinct | door | dreari | eager | ember | evermor | eye | flame | floor | foe | forgotten | frumious | galumph | gentl | ghost | ... | rest | separ | shun | slithi | snickersnack | son | sorrow | sought | stood | sudden | surceas | sword | tap | thought | time | tis | took | tove | tree | tulgey | tumtum | twas | two | uffish | upon | vain | visitor | volum | vorpal | wabe | weak | weari | went | whiffl | wish | wood | wrought |\n",
       "|---|---|---|---|---|---|---|---|---|---|---|---|---|---|---|---|---|---|---|---|---|---|---|---|---|---|---|---|---|---|---|---|---|---|---|---|---|---|---|---|---|---|---|---|---|---|---|---|---|---|---|---|---|---|---|---|---|---|---|---|---|---|---|---|---|---|---|---|---|---|---|---|---|---|---|\n",
       "| 0   | 0   | 0   | 0   | 0   | 0   | 0   | 0   | 0   | 0   | 1   | 0   | 1   | 0   | 0   | 0   | 0   | 0   | 0   | 0   | 0   | 0   | 0   | 0   | 0   | 0   | 0   | 0   | 0   | 0   | 0   | 0   | 0   | 0   | 0   | 0   | 0   | ... | 0   | 0   | 0   | 1   | 0   | 0   | 0   | 0   | 0   | 0   | 0   | 0   | 0   | 0   | 0   | 0   | 0   | 1   | 0   | 0   | 0   | 1   | 0   | 0   | 0   | 0   | 0   | 0   | 0   | 1   | 0   | 0   | 0   | 0   | 0   | 0   | 0   |\n",
       "| 0   | 0   | 0   | 1   | 2   | 1   | 1   | 0   | 0   | 0   | 0   | 0   | 0   | 0   | 0   | 1   | 0   | 1   | 0   | 0   | 0   | 0   | 0   | 0   | 0   | 0   | 0   | 0   | 0   | 0   | 0   | 0   | 0   | 1   | 0   | 0   | 0   | ... | 0   | 0   | 1   | 0   | 0   | 1   | 0   | 0   | 0   | 0   | 0   | 0   | 0   | 0   | 0   | 0   | 0   | 0   | 0   | 0   | 0   | 0   | 0   | 0   | 0   | 0   | 0   | 0   | 0   | 0   | 0   | 0   | 0   | 0   | 0   | 0   | 0   |\n",
       "| 0   | 1   | 0   | 0   | 0   | 0   | 0   | 0   | 0   | 0   | 0   | 0   | 0   | 0   | 0   | 0   | 0   | 0   | 0   | 0   | 0   | 0   | 0   | 0   | 0   | 0   | 0   | 0   | 0   | 0   | 0   | 1   | 0   | 0   | 0   | 0   | 0   | ... | 1   | 0   | 0   | 0   | 0   | 0   | 0   | 1   | 1   | 0   | 0   | 1   | 0   | 1   | 1   | 0   | 1   | 0   | 1   | 0   | 1   | 0   | 0   | 0   | 0   | 0   | 0   | 0   | 1   | 0   | 0   | 0   | 0   | 0   | 0   | 0   | 0   |\n",
       "| 0   | 0   | 0   | 0   | 0   | 0   | 0   | 0   | 0   | 0   | 0   | 0   | 0   | 1   | 2   | 0   | 0   | 0   | 0   | 0   | 0   | 0   | 0   | 0   | 0   | 0   | 0   | 0   | 1   | 1   | 0   | 0   | 0   | 0   | 0   | 0   | 0   | ... | 0   | 0   | 0   | 0   | 0   | 0   | 0   | 0   | 1   | 0   | 0   | 0   | 0   | 1   | 0   | 0   | 0   | 0   | 0   | 1   | 0   | 0   | 0   | 1   | 0   | 0   | 0   | 0   | 0   | 0   | 0   | 0   | 0   | 1   | 0   | 1   | 0   |\n",
       "| 0   | 0   | 1   | 0   | 0   | 0   | 0   | 1   | 0   | 0   | 0   | 0   | 0   | 0   | 0   | 0   | 0   | 0   | 0   | 1   | 0   | 0   | 0   | 0   | 0   | 0   | 0   | 0   | 0   | 0   | 0   | 0   | 0   | 0   | 1   | 0   | 0   | ... | 0   | 0   | 0   | 0   | 1   | 0   | 0   | 0   | 0   | 0   | 0   | 0   | 0   | 0   | 0   | 0   | 0   | 0   | 0   | 0   | 0   | 0   | 2   | 0   | 0   | 0   | 0   | 0   | 1   | 0   | 0   | 0   | 2   | 0   | 0   | 0   | 0   |\n",
       "| 0   | 0   | 0   | 0   | 0   | 0   | 0   | 0   | 0   | 0   | 0   | 0   | 0   | 0   | 0   | 0   | 0   | 0   | 1   | 0   | 0   | 0   | 0   | 0   | 1   | 0   | 0   | 0   | 0   | 0   | 0   | 0   | 1   | 0   | 0   | 0   | 0   | ... | 0   | 0   | 0   | 0   | 0   | 0   | 0   | 0   | 0   | 0   | 0   | 0   | 0   | 0   | 0   | 0   | 0   | 0   | 0   | 0   | 0   | 0   | 0   | 0   | 1   | 0   | 0   | 1   | 0   | 0   | 1   | 1   | 0   | 0   | 0   | 0   | 0   |\n",
       "| 0   | 0   | 0   | 0   | 0   | 0   | 0   | 0   | 0   | 0   | 0   | 0   | 0   | 0   | 1   | 0   | 1   | 0   | 0   | 0   | 0   | 0   | 0   | 1   | 0   | 0   | 0   | 0   | 0   | 0   | 0   | 0   | 0   | 0   | 0   | 1   | 0   | ... | 0   | 0   | 0   | 0   | 0   | 0   | 0   | 0   | 0   | 1   | 0   | 0   | 1   | 0   | 0   | 0   | 0   | 0   | 0   | 0   | 0   | 0   | 0   | 0   | 0   | 0   | 0   | 0   | 0   | 0   | 0   | 0   | 0   | 0   | 0   | 0   | 0   |\n",
       "| 0   | 0   | 0   | 0   | 0   | 0   | 0   | 0   | 0   | 0   | 0   | 0   | 0   | 0   | 0   | 0   | 1   | 0   | 0   | 0   | 0   | 0   | 0   | 1   | 0   | 0   | 0   | 0   | 0   | 0   | 0   | 0   | 0   | 0   | 0   | 0   | 0   | ... | 0   | 0   | 0   | 0   | 0   | 0   | 0   | 0   | 0   | 0   | 0   | 0   | 1   | 0   | 0   | 1   | 0   | 0   | 0   | 0   | 0   | 0   | 0   | 0   | 0   | 0   | 1   | 0   | 0   | 0   | 0   | 0   | 0   | 0   | 0   | 0   | 0   |\n",
       "| 0   | 0   | 0   | 0   | 0   | 0   | 0   | 0   | 1   | 0   | 0   | 0   | 0   | 0   | 0   | 0   | 0   | 0   | 0   | 0   | 1   | 1   | 1   | 0   | 0   | 0   | 1   | 0   | 0   | 0   | 1   | 0   | 0   | 0   | 0   | 0   | 1   | ... | 0   | 1   | 0   | 0   | 0   | 0   | 0   | 0   | 0   | 0   | 0   | 0   | 0   | 0   | 0   | 0   | 0   | 0   | 0   | 0   | 0   | 0   | 0   | 0   | 1   | 0   | 0   | 0   | 0   | 0   | 0   | 0   | 0   | 0   | 0   | 0   | 1   |\n",
       "| 0   | 0   | 0   | 0   | 0   | 0   | 0   | 0   | 0   | 1   | 0   | 1   | 0   | 0   | 0   | 0   | 0   | 0   | 0   | 0   | 0   | 0   | 0   | 0   | 0   | 1   | 0   | 0   | 0   | 0   | 0   | 0   | 0   | 0   | 0   | 0   | 0   | ... | 0   | 0   | 0   | 0   | 0   | 0   | 2   | 1   | 0   | 0   | 1   | 0   | 0   | 0   | 0   | 0   | 0   | 0   | 0   | 0   | 0   | 0   | 0   | 0   | 0   | 1   | 0   | 0   | 0   | 0   | 0   | 0   | 0   | 0   | 1   | 0   | 0   |\n",
       "| 1   | 0   | 0   | 0   | 0   | 0   | 0   | 0   | 0   | 0   | 0   | 0   | 0   | 0   | 0   | 0   | 0   | 0   | 0   | 0   | 0   | 0   | 0   | 0   | 0   | 0   | 0   | 1   | 0   | 0   | 0   | 0   | 0   | 0   | 0   | 0   | 0   | ... | 0   | 0   | 0   | 0   | 0   | 0   | 0   | 0   | 0   | 0   | 0   | 0   | 0   | 0   | 0   | 0   | 0   | 0   | 0   | 0   | 0   | 0   | 0   | 0   | 0   | 0   | 0   | 0   | 0   | 0   | 0   | 0   | 0   | 0   | 0   | 0   | 0   |\n",
       "\n"
      ],
      "text/plain": [
       "   angel awhil back bandersnatch bewar bird bite blade bleak book borogov\n",
       "1  0     0     0    0            0     0    0    0     0     0    1      \n",
       "2  0     0     0    1            2     1    1    0     0     0    0      \n",
       "3  0     1     0    0            0     0    0    0     0     0    0      \n",
       "4  0     0     0    0            0     0    0    0     0     0    0      \n",
       "5  0     0     1    0            0     0    0    1     0     0    0      \n",
       "6  0     0     0    0            0     0    0    0     0     0    0      \n",
       "7  0     0     0    0            0     0    0    0     0     0    0      \n",
       "8  0     0     0    0            0     0    0    0     0     0    0      \n",
       "9  0     0     0    0            0     0    0    0     1     0    0      \n",
       "10 0     0     0    0            0     0    0    0     0     1    0      \n",
       "11 1     0     0    0            0     0    0    0     0     0    0      \n",
       "   borrow brillig burbl came catch chamber claw curious dead decemb die\n",
       "1  0      1       0     0    0     0       0    0       0    0      0  \n",
       "2  0      0       0     0    1     0       1    0       0    0      0  \n",
       "3  0      0       0     0    0     0       0    0       0    0      0  \n",
       "4  0      0       1     2    0     0       0    0       0    0      0  \n",
       "5  0      0       0     0    0     0       0    0       1    0      0  \n",
       "6  0      0       0     0    0     0       0    1       0    0      0  \n",
       "7  0      0       0     1    0     1       0    0       0    0      0  \n",
       "8  0      0       0     0    0     1       0    0       0    0      0  \n",
       "9  0      0       0     0    0     0       0    0       0    1      1  \n",
       "10 1      0       0     0    0     0       0    0       0    0      0  \n",
       "11 0      0       0     0    0     0       0    0       0    0      0  \n",
       "   distinct door dreari eager ember evermor eye flame floor foe forgotten\n",
       "1  0        0    0      0     0     0       0   0     0     0   0        \n",
       "2  0        0    0      0     0     0       0   0     0     0   0        \n",
       "3  0        0    0      0     0     0       0   0     0     1   0        \n",
       "4  0        0    0      0     0     0       1   1     0     0   0        \n",
       "5  0        0    0      0     0     0       0   0     0     0   0        \n",
       "6  0        0    1      0     0     0       0   0     0     0   1        \n",
       "7  0        1    0      0     0     0       0   0     0     0   0        \n",
       "8  0        1    0      0     0     0       0   0     0     0   0        \n",
       "9  1        0    0      0     1     0       0   0     1     0   0        \n",
       "10 0        0    0      1     0     0       0   0     0     0   0        \n",
       "11 0        0    0      0     0     1       0   0     0     0   0        \n",
       "   frumious galumph gentl ghost ... rest separ shun slithi snickersnack son\n",
       "1  0        0       0     0     ... 0    0     0    1      0            0  \n",
       "2  1        0       0     0     ... 0    0     1    0      0            1  \n",
       "3  0        0       0     0     ... 1    0     0    0      0            0  \n",
       "4  0        0       0     0     ... 0    0     0    0      0            0  \n",
       "5  0        1       0     0     ... 0    0     0    0      1            0  \n",
       "6  0        0       0     0     ... 0    0     0    0      0            0  \n",
       "7  0        0       1     0     ... 0    0     0    0      0            0  \n",
       "8  0        0       0     0     ... 0    0     0    0      0            0  \n",
       "9  0        0       0     1     ... 0    1     0    0      0            0  \n",
       "10 0        0       0     0     ... 0    0     0    0      0            0  \n",
       "11 0        0       0     0     ... 0    0     0    0      0            0  \n",
       "   sorrow sought stood sudden surceas sword tap thought time tis took tove tree\n",
       "1  0      0      0     0      0       0     0   0       0    0   0    1    0   \n",
       "2  0      0      0     0      0       0     0   0       0    0   0    0    0   \n",
       "3  0      1      1     0      0       1     0   1       1    0   1    0    1   \n",
       "4  0      0      1     0      0       0     0   1       0    0   0    0    0   \n",
       "5  0      0      0     0      0       0     0   0       0    0   0    0    0   \n",
       "6  0      0      0     0      0       0     0   0       0    0   0    0    0   \n",
       "7  0      0      0     1      0       0     1   0       0    0   0    0    0   \n",
       "8  0      0      0     0      0       0     1   0       0    1   0    0    0   \n",
       "9  0      0      0     0      0       0     0   0       0    0   0    0    0   \n",
       "10 2      1      0     0      1       0     0   0       0    0   0    0    0   \n",
       "11 0      0      0     0      0       0     0   0       0    0   0    0    0   \n",
       "   tulgey tumtum twas two uffish upon vain visitor volum vorpal wabe weak weari\n",
       "1  0      0      1    0   0      0    0    0       0     0      1    0    0    \n",
       "2  0      0      0    0   0      0    0    0       0     0      0    0    0    \n",
       "3  0      1      0    0   0      0    0    0       0     1      0    0    0    \n",
       "4  1      0      0    0   1      0    0    0       0     0      0    0    0    \n",
       "5  0      0      0    2   0      0    0    0       0     1      0    0    0    \n",
       "6  0      0      0    0   0      1    0    0       1     0      0    1    1    \n",
       "7  0      0      0    0   0      0    0    0       0     0      0    0    0    \n",
       "8  0      0      0    0   0      0    0    1       0     0      0    0    0    \n",
       "9  0      0      0    0   0      1    0    0       0     0      0    0    0    \n",
       "10 0      0      0    0   0      0    1    0       0     0      0    0    0    \n",
       "11 0      0      0    0   0      0    0    0       0     0      0    0    0    \n",
       "   went whiffl wish wood wrought\n",
       "1  0    0      0    0    0      \n",
       "2  0    0      0    0    0      \n",
       "3  0    0      0    0    0      \n",
       "4  0    1      0    1    0      \n",
       "5  2    0      0    0    0      \n",
       "6  0    0      0    0    0      \n",
       "7  0    0      0    0    0      \n",
       "8  0    0      0    0    0      \n",
       "9  0    0      0    0    1      \n",
       "10 0    0      1    0    0      \n",
       "11 0    0      0    0    0      "
      ]
     },
     "metadata": {},
     "output_type": "display_data"
    }
   ],
   "source": [
    "dtm = DocumentTermMatrix(corpus)\n",
    "data.t = as.data.frame(as.matrix(dtm))\n",
    "size(data.t)\n",
    "data.t"
   ]
  },
  {
   "cell_type": "markdown",
   "metadata": {},
   "source": [
    "#### Document-Term Matrix: n-Gram Representation\n",
    "\n",
    "Alternatively, represent as a document-term matrix of n-grams.\n",
    "\n",
    "The document-term matrix's variables (columns) correspond to the n-grams in the transformed corpus, where an n-gram is a set of n words that appear adjacent to each other.  For example, \"awhil thought\" and \"bewar jabberwock\" are 2-grams, or bigrams. For example, \"awhil\" and \"bandersnatch\" are 1-grams, or unigrams, or just words.  Observations (rows) correspond to documents.  Each value is the number of times a certain n-gram appears in a certain document.\n",
    "\n",
    "Here we determine the document-term matrix for unigrams and bigrams."
   ]
  },
  {
   "cell_type": "code",
   "execution_count": 12,
   "metadata": {
    "hide_input": true
   },
   "outputs": [
    {
     "data": {
      "text/html": [
       "<table>\n",
       "<thead><tr><th scope=col>observations</th><th scope=col>variables</th></tr></thead>\n",
       "<tbody>\n",
       "\t<tr><td>11 </td><td>225</td></tr>\n",
       "</tbody>\n",
       "</table>\n"
      ],
      "text/latex": [
       "\\begin{tabular}{r|ll}\n",
       " observations & variables\\\\\n",
       "\\hline\n",
       "\t 11  & 225\\\\\n",
       "\\end{tabular}\n"
      ],
      "text/markdown": [
       "\n",
       "| observations | variables |\n",
       "|---|---|\n",
       "| 11  | 225 |\n",
       "\n"
      ],
      "text/plain": [
       "  observations variables\n",
       "1 11           225      "
      ]
     },
     "metadata": {},
     "output_type": "display_data"
    },
    {
     "data": {
      "text/html": [
       "<table>\n",
       "<thead><tr><th scope=col>ah distinct</th><th scope=col>angel</th><th scope=col>angel name</th><th scope=col>awhil</th><th scope=col>awhil thought</th><th scope=col>back</th><th scope=col>bandersnatch</th><th scope=col>bewar</th><th scope=col>bewar jabberwock</th><th scope=col>bewar jubjub</th><th scope=col>bird</th><th scope=col>bird shun</th><th scope=col>bite</th><th scope=col>bite claw</th><th scope=col>blade</th><th scope=col>blade went</th><th scope=col>bleak</th><th scope=col>bleak decemb</th><th scope=col>book</th><th scope=col>book surceas</th><th scope=col>borogov</th><th scope=col>borogov mome</th><th scope=col>borrow</th><th scope=col>borrow book</th><th scope=col>brillig</th><th scope=col>brillig slithi</th><th scope=col>burbl</th><th scope=col>burbl came</th><th scope=col>came</th><th scope=col>came tap</th><th scope=col>came whiffl</th><th scope=col>catch</th><th scope=col>catch bewar</th><th scope=col>chamber</th><th scope=col>chamber door</th><th scope=col>claw</th><th scope=col>claw catch</th><th scope=col>...</th><th scope=col>tumtum tree</th><th scope=col>twas</th><th scope=col>twas brillig</th><th scope=col>two</th><th scope=col>two one</th><th scope=col>two vorpal</th><th scope=col>uffish</th><th scope=col>uffish thought</th><th scope=col>upon</th><th scope=col>upon floor</th><th scope=col>upon midnight</th><th scope=col>vain</th><th scope=col>vain sought</th><th scope=col>visitor</th><th scope=col>visitor mutter</th><th scope=col>volum</th><th scope=col>volum forgotten</th><th scope=col>vorpal</th><th scope=col>vorpal blade</th><th scope=col>vorpal sword</th><th scope=col>wabe</th><th scope=col>wabe mimsi</th><th scope=col>weak</th><th scope=col>weak weari</th><th scope=col>weari</th><th scope=col>weari mani</th><th scope=col>went</th><th scope=col>went galumph</th><th scope=col>went snickersnack</th><th scope=col>whiffl</th><th scope=col>whiffl tulgey</th><th scope=col>wish</th><th scope=col>wish morrow</th><th scope=col>wood</th><th scope=col>wood burbl</th><th scope=col>wrought</th><th scope=col>wrought ghost</th></tr></thead>\n",
       "<tbody>\n",
       "\t<tr><td>0  </td><td>0  </td><td>0  </td><td>0  </td><td>0  </td><td>0  </td><td>0  </td><td>0  </td><td>0  </td><td>0  </td><td>0  </td><td>0  </td><td>0  </td><td>0  </td><td>0  </td><td>0  </td><td>0  </td><td>0  </td><td>0  </td><td>0  </td><td>1  </td><td>1  </td><td>0  </td><td>0  </td><td>1  </td><td>1  </td><td>0  </td><td>0  </td><td>0  </td><td>0  </td><td>0  </td><td>0  </td><td>0  </td><td>0  </td><td>0  </td><td>0  </td><td>0  </td><td>...</td><td>0  </td><td>1  </td><td>1  </td><td>0  </td><td>0  </td><td>0  </td><td>0  </td><td>0  </td><td>0  </td><td>0  </td><td>0  </td><td>0  </td><td>0  </td><td>0  </td><td>0  </td><td>0  </td><td>0  </td><td>0  </td><td>0  </td><td>0  </td><td>1  </td><td>1  </td><td>0  </td><td>0  </td><td>0  </td><td>0  </td><td>0  </td><td>0  </td><td>0  </td><td>0  </td><td>0  </td><td>0  </td><td>0  </td><td>0  </td><td>0  </td><td>0  </td><td>0  </td></tr>\n",
       "\t<tr><td>0  </td><td>0  </td><td>0  </td><td>0  </td><td>0  </td><td>0  </td><td>1  </td><td>2  </td><td>1  </td><td>1  </td><td>1  </td><td>1  </td><td>1  </td><td>1  </td><td>0  </td><td>0  </td><td>0  </td><td>0  </td><td>0  </td><td>0  </td><td>0  </td><td>0  </td><td>0  </td><td>0  </td><td>0  </td><td>0  </td><td>0  </td><td>0  </td><td>0  </td><td>0  </td><td>0  </td><td>1  </td><td>1  </td><td>0  </td><td>0  </td><td>1  </td><td>1  </td><td>...</td><td>0  </td><td>0  </td><td>0  </td><td>0  </td><td>0  </td><td>0  </td><td>0  </td><td>0  </td><td>0  </td><td>0  </td><td>0  </td><td>0  </td><td>0  </td><td>0  </td><td>0  </td><td>0  </td><td>0  </td><td>0  </td><td>0  </td><td>0  </td><td>0  </td><td>0  </td><td>0  </td><td>0  </td><td>0  </td><td>0  </td><td>0  </td><td>0  </td><td>0  </td><td>0  </td><td>0  </td><td>0  </td><td>0  </td><td>0  </td><td>0  </td><td>0  </td><td>0  </td></tr>\n",
       "\t<tr><td>0  </td><td>0  </td><td>0  </td><td>1  </td><td>1  </td><td>0  </td><td>0  </td><td>0  </td><td>0  </td><td>0  </td><td>0  </td><td>0  </td><td>0  </td><td>0  </td><td>0  </td><td>0  </td><td>0  </td><td>0  </td><td>0  </td><td>0  </td><td>0  </td><td>0  </td><td>0  </td><td>0  </td><td>0  </td><td>0  </td><td>0  </td><td>0  </td><td>0  </td><td>0  </td><td>0  </td><td>0  </td><td>0  </td><td>0  </td><td>0  </td><td>0  </td><td>0  </td><td>...</td><td>1  </td><td>0  </td><td>0  </td><td>0  </td><td>0  </td><td>0  </td><td>0  </td><td>0  </td><td>0  </td><td>0  </td><td>0  </td><td>0  </td><td>0  </td><td>0  </td><td>0  </td><td>0  </td><td>0  </td><td>1  </td><td>0  </td><td>1  </td><td>0  </td><td>0  </td><td>0  </td><td>0  </td><td>0  </td><td>0  </td><td>0  </td><td>0  </td><td>0  </td><td>0  </td><td>0  </td><td>0  </td><td>0  </td><td>0  </td><td>0  </td><td>0  </td><td>0  </td></tr>\n",
       "\t<tr><td>0  </td><td>0  </td><td>0  </td><td>0  </td><td>0  </td><td>0  </td><td>0  </td><td>0  </td><td>0  </td><td>0  </td><td>0  </td><td>0  </td><td>0  </td><td>0  </td><td>0  </td><td>0  </td><td>0  </td><td>0  </td><td>0  </td><td>0  </td><td>0  </td><td>0  </td><td>0  </td><td>0  </td><td>0  </td><td>0  </td><td>1  </td><td>1  </td><td>2  </td><td>0  </td><td>1  </td><td>0  </td><td>0  </td><td>0  </td><td>0  </td><td>0  </td><td>0  </td><td>...</td><td>0  </td><td>0  </td><td>0  </td><td>0  </td><td>0  </td><td>0  </td><td>1  </td><td>1  </td><td>0  </td><td>0  </td><td>0  </td><td>0  </td><td>0  </td><td>0  </td><td>0  </td><td>0  </td><td>0  </td><td>0  </td><td>0  </td><td>0  </td><td>0  </td><td>0  </td><td>0  </td><td>0  </td><td>0  </td><td>0  </td><td>0  </td><td>0  </td><td>0  </td><td>1  </td><td>1  </td><td>0  </td><td>0  </td><td>1  </td><td>1  </td><td>0  </td><td>0  </td></tr>\n",
       "\t<tr><td>0  </td><td>0  </td><td>0  </td><td>0  </td><td>0  </td><td>1  </td><td>0  </td><td>0  </td><td>0  </td><td>0  </td><td>0  </td><td>0  </td><td>0  </td><td>0  </td><td>1  </td><td>1  </td><td>0  </td><td>0  </td><td>0  </td><td>0  </td><td>0  </td><td>0  </td><td>0  </td><td>0  </td><td>0  </td><td>0  </td><td>0  </td><td>0  </td><td>0  </td><td>0  </td><td>0  </td><td>0  </td><td>0  </td><td>0  </td><td>0  </td><td>0  </td><td>0  </td><td>...</td><td>0  </td><td>0  </td><td>0  </td><td>2  </td><td>1  </td><td>1  </td><td>0  </td><td>0  </td><td>0  </td><td>0  </td><td>0  </td><td>0  </td><td>0  </td><td>0  </td><td>0  </td><td>0  </td><td>0  </td><td>1  </td><td>1  </td><td>0  </td><td>0  </td><td>0  </td><td>0  </td><td>0  </td><td>0  </td><td>0  </td><td>2  </td><td>1  </td><td>1  </td><td>0  </td><td>0  </td><td>0  </td><td>0  </td><td>0  </td><td>0  </td><td>0  </td><td>0  </td></tr>\n",
       "\t<tr><td>0  </td><td>0  </td><td>0  </td><td>0  </td><td>0  </td><td>0  </td><td>0  </td><td>0  </td><td>0  </td><td>0  </td><td>0  </td><td>0  </td><td>0  </td><td>0  </td><td>0  </td><td>0  </td><td>0  </td><td>0  </td><td>0  </td><td>0  </td><td>0  </td><td>0  </td><td>0  </td><td>0  </td><td>0  </td><td>0  </td><td>0  </td><td>0  </td><td>0  </td><td>0  </td><td>0  </td><td>0  </td><td>0  </td><td>0  </td><td>0  </td><td>0  </td><td>0  </td><td>...</td><td>0  </td><td>0  </td><td>0  </td><td>0  </td><td>0  </td><td>0  </td><td>0  </td><td>0  </td><td>1  </td><td>0  </td><td>1  </td><td>0  </td><td>0  </td><td>0  </td><td>0  </td><td>1  </td><td>1  </td><td>0  </td><td>0  </td><td>0  </td><td>0  </td><td>0  </td><td>1  </td><td>1  </td><td>1  </td><td>1  </td><td>0  </td><td>0  </td><td>0  </td><td>0  </td><td>0  </td><td>0  </td><td>0  </td><td>0  </td><td>0  </td><td>0  </td><td>0  </td></tr>\n",
       "\t<tr><td>0  </td><td>0  </td><td>0  </td><td>0  </td><td>0  </td><td>0  </td><td>0  </td><td>0  </td><td>0  </td><td>0  </td><td>0  </td><td>0  </td><td>0  </td><td>0  </td><td>0  </td><td>0  </td><td>0  </td><td>0  </td><td>0  </td><td>0  </td><td>0  </td><td>0  </td><td>0  </td><td>0  </td><td>0  </td><td>0  </td><td>0  </td><td>0  </td><td>1  </td><td>1  </td><td>0  </td><td>0  </td><td>0  </td><td>1  </td><td>1  </td><td>0  </td><td>0  </td><td>...</td><td>0  </td><td>0  </td><td>0  </td><td>0  </td><td>0  </td><td>0  </td><td>0  </td><td>0  </td><td>0  </td><td>0  </td><td>0  </td><td>0  </td><td>0  </td><td>0  </td><td>0  </td><td>0  </td><td>0  </td><td>0  </td><td>0  </td><td>0  </td><td>0  </td><td>0  </td><td>0  </td><td>0  </td><td>0  </td><td>0  </td><td>0  </td><td>0  </td><td>0  </td><td>0  </td><td>0  </td><td>0  </td><td>0  </td><td>0  </td><td>0  </td><td>0  </td><td>0  </td></tr>\n",
       "\t<tr><td>0  </td><td>0  </td><td>0  </td><td>0  </td><td>0  </td><td>0  </td><td>0  </td><td>0  </td><td>0  </td><td>0  </td><td>0  </td><td>0  </td><td>0  </td><td>0  </td><td>0  </td><td>0  </td><td>0  </td><td>0  </td><td>0  </td><td>0  </td><td>0  </td><td>0  </td><td>0  </td><td>0  </td><td>0  </td><td>0  </td><td>0  </td><td>0  </td><td>0  </td><td>0  </td><td>0  </td><td>0  </td><td>0  </td><td>1  </td><td>1  </td><td>0  </td><td>0  </td><td>...</td><td>0  </td><td>0  </td><td>0  </td><td>0  </td><td>0  </td><td>0  </td><td>0  </td><td>0  </td><td>0  </td><td>0  </td><td>0  </td><td>0  </td><td>0  </td><td>1  </td><td>1  </td><td>0  </td><td>0  </td><td>0  </td><td>0  </td><td>0  </td><td>0  </td><td>0  </td><td>0  </td><td>0  </td><td>0  </td><td>0  </td><td>0  </td><td>0  </td><td>0  </td><td>0  </td><td>0  </td><td>0  </td><td>0  </td><td>0  </td><td>0  </td><td>0  </td><td>0  </td></tr>\n",
       "\t<tr><td>1  </td><td>0  </td><td>0  </td><td>0  </td><td>0  </td><td>0  </td><td>0  </td><td>0  </td><td>0  </td><td>0  </td><td>0  </td><td>0  </td><td>0  </td><td>0  </td><td>0  </td><td>0  </td><td>1  </td><td>1  </td><td>0  </td><td>0  </td><td>0  </td><td>0  </td><td>0  </td><td>0  </td><td>0  </td><td>0  </td><td>0  </td><td>0  </td><td>0  </td><td>0  </td><td>0  </td><td>0  </td><td>0  </td><td>0  </td><td>0  </td><td>0  </td><td>0  </td><td>...</td><td>0  </td><td>0  </td><td>0  </td><td>0  </td><td>0  </td><td>0  </td><td>0  </td><td>0  </td><td>1  </td><td>1  </td><td>0  </td><td>0  </td><td>0  </td><td>0  </td><td>0  </td><td>0  </td><td>0  </td><td>0  </td><td>0  </td><td>0  </td><td>0  </td><td>0  </td><td>0  </td><td>0  </td><td>0  </td><td>0  </td><td>0  </td><td>0  </td><td>0  </td><td>0  </td><td>0  </td><td>0  </td><td>0  </td><td>0  </td><td>0  </td><td>1  </td><td>1  </td></tr>\n",
       "\t<tr><td>0  </td><td>0  </td><td>0  </td><td>0  </td><td>0  </td><td>0  </td><td>0  </td><td>0  </td><td>0  </td><td>0  </td><td>0  </td><td>0  </td><td>0  </td><td>0  </td><td>0  </td><td>0  </td><td>0  </td><td>0  </td><td>1  </td><td>1  </td><td>0  </td><td>0  </td><td>1  </td><td>1  </td><td>0  </td><td>0  </td><td>0  </td><td>0  </td><td>0  </td><td>0  </td><td>0  </td><td>0  </td><td>0  </td><td>0  </td><td>0  </td><td>0  </td><td>0  </td><td>...</td><td>0  </td><td>0  </td><td>0  </td><td>0  </td><td>0  </td><td>0  </td><td>0  </td><td>0  </td><td>0  </td><td>0  </td><td>0  </td><td>1  </td><td>1  </td><td>0  </td><td>0  </td><td>0  </td><td>0  </td><td>0  </td><td>0  </td><td>0  </td><td>0  </td><td>0  </td><td>0  </td><td>0  </td><td>0  </td><td>0  </td><td>0  </td><td>0  </td><td>0  </td><td>0  </td><td>0  </td><td>1  </td><td>1  </td><td>0  </td><td>0  </td><td>0  </td><td>0  </td></tr>\n",
       "\t<tr><td>0  </td><td>1  </td><td>1  </td><td>0  </td><td>0  </td><td>0  </td><td>0  </td><td>0  </td><td>0  </td><td>0  </td><td>0  </td><td>0  </td><td>0  </td><td>0  </td><td>0  </td><td>0  </td><td>0  </td><td>0  </td><td>0  </td><td>0  </td><td>0  </td><td>0  </td><td>0  </td><td>0  </td><td>0  </td><td>0  </td><td>0  </td><td>0  </td><td>0  </td><td>0  </td><td>0  </td><td>0  </td><td>0  </td><td>0  </td><td>0  </td><td>0  </td><td>0  </td><td>...</td><td>0  </td><td>0  </td><td>0  </td><td>0  </td><td>0  </td><td>0  </td><td>0  </td><td>0  </td><td>0  </td><td>0  </td><td>0  </td><td>0  </td><td>0  </td><td>0  </td><td>0  </td><td>0  </td><td>0  </td><td>0  </td><td>0  </td><td>0  </td><td>0  </td><td>0  </td><td>0  </td><td>0  </td><td>0  </td><td>0  </td><td>0  </td><td>0  </td><td>0  </td><td>0  </td><td>0  </td><td>0  </td><td>0  </td><td>0  </td><td>0  </td><td>0  </td><td>0  </td></tr>\n",
       "</tbody>\n",
       "</table>\n"
      ],
      "text/latex": [
       "\\begin{tabular}{r|lllllllllllllllllllllllllllllllllllllllllllllllllllllllllllllllllllllllllllllllllllllllllllllllllllllllllllllllllllllllllllllllllllllllllllllllllllllllllllllllllllllllllllllllllllllllllllllllllllllllllllllllllllllllllllllllll}\n",
       " ah distinct & angel & angel name & awhil & awhil thought & back & bandersnatch & bewar & bewar jabberwock & bewar jubjub & bird & bird shun & bite & bite claw & blade & blade went & bleak & bleak decemb & book & book surceas & borogov & borogov mome & borrow & borrow book & brillig & brillig slithi & burbl & burbl came & came & came tap & came whiffl & catch & catch bewar & chamber & chamber door & claw & claw catch & ... & tumtum tree & twas & twas brillig & two & two one & two vorpal & uffish & uffish thought & upon & upon floor & upon midnight & vain & vain sought & visitor & visitor mutter & volum & volum forgotten & vorpal & vorpal blade & vorpal sword & wabe & wabe mimsi & weak & weak weari & weari & weari mani & went & went galumph & went snickersnack & whiffl & whiffl tulgey & wish & wish morrow & wood & wood burbl & wrought & wrought ghost\\\\\n",
       "\\hline\n",
       "\t 0   & 0   & 0   & 0   & 0   & 0   & 0   & 0   & 0   & 0   & 0   & 0   & 0   & 0   & 0   & 0   & 0   & 0   & 0   & 0   & 1   & 1   & 0   & 0   & 1   & 1   & 0   & 0   & 0   & 0   & 0   & 0   & 0   & 0   & 0   & 0   & 0   & ... & 0   & 1   & 1   & 0   & 0   & 0   & 0   & 0   & 0   & 0   & 0   & 0   & 0   & 0   & 0   & 0   & 0   & 0   & 0   & 0   & 1   & 1   & 0   & 0   & 0   & 0   & 0   & 0   & 0   & 0   & 0   & 0   & 0   & 0   & 0   & 0   & 0  \\\\\n",
       "\t 0   & 0   & 0   & 0   & 0   & 0   & 1   & 2   & 1   & 1   & 1   & 1   & 1   & 1   & 0   & 0   & 0   & 0   & 0   & 0   & 0   & 0   & 0   & 0   & 0   & 0   & 0   & 0   & 0   & 0   & 0   & 1   & 1   & 0   & 0   & 1   & 1   & ... & 0   & 0   & 0   & 0   & 0   & 0   & 0   & 0   & 0   & 0   & 0   & 0   & 0   & 0   & 0   & 0   & 0   & 0   & 0   & 0   & 0   & 0   & 0   & 0   & 0   & 0   & 0   & 0   & 0   & 0   & 0   & 0   & 0   & 0   & 0   & 0   & 0  \\\\\n",
       "\t 0   & 0   & 0   & 1   & 1   & 0   & 0   & 0   & 0   & 0   & 0   & 0   & 0   & 0   & 0   & 0   & 0   & 0   & 0   & 0   & 0   & 0   & 0   & 0   & 0   & 0   & 0   & 0   & 0   & 0   & 0   & 0   & 0   & 0   & 0   & 0   & 0   & ... & 1   & 0   & 0   & 0   & 0   & 0   & 0   & 0   & 0   & 0   & 0   & 0   & 0   & 0   & 0   & 0   & 0   & 1   & 0   & 1   & 0   & 0   & 0   & 0   & 0   & 0   & 0   & 0   & 0   & 0   & 0   & 0   & 0   & 0   & 0   & 0   & 0  \\\\\n",
       "\t 0   & 0   & 0   & 0   & 0   & 0   & 0   & 0   & 0   & 0   & 0   & 0   & 0   & 0   & 0   & 0   & 0   & 0   & 0   & 0   & 0   & 0   & 0   & 0   & 0   & 0   & 1   & 1   & 2   & 0   & 1   & 0   & 0   & 0   & 0   & 0   & 0   & ... & 0   & 0   & 0   & 0   & 0   & 0   & 1   & 1   & 0   & 0   & 0   & 0   & 0   & 0   & 0   & 0   & 0   & 0   & 0   & 0   & 0   & 0   & 0   & 0   & 0   & 0   & 0   & 0   & 0   & 1   & 1   & 0   & 0   & 1   & 1   & 0   & 0  \\\\\n",
       "\t 0   & 0   & 0   & 0   & 0   & 1   & 0   & 0   & 0   & 0   & 0   & 0   & 0   & 0   & 1   & 1   & 0   & 0   & 0   & 0   & 0   & 0   & 0   & 0   & 0   & 0   & 0   & 0   & 0   & 0   & 0   & 0   & 0   & 0   & 0   & 0   & 0   & ... & 0   & 0   & 0   & 2   & 1   & 1   & 0   & 0   & 0   & 0   & 0   & 0   & 0   & 0   & 0   & 0   & 0   & 1   & 1   & 0   & 0   & 0   & 0   & 0   & 0   & 0   & 2   & 1   & 1   & 0   & 0   & 0   & 0   & 0   & 0   & 0   & 0  \\\\\n",
       "\t 0   & 0   & 0   & 0   & 0   & 0   & 0   & 0   & 0   & 0   & 0   & 0   & 0   & 0   & 0   & 0   & 0   & 0   & 0   & 0   & 0   & 0   & 0   & 0   & 0   & 0   & 0   & 0   & 0   & 0   & 0   & 0   & 0   & 0   & 0   & 0   & 0   & ... & 0   & 0   & 0   & 0   & 0   & 0   & 0   & 0   & 1   & 0   & 1   & 0   & 0   & 0   & 0   & 1   & 1   & 0   & 0   & 0   & 0   & 0   & 1   & 1   & 1   & 1   & 0   & 0   & 0   & 0   & 0   & 0   & 0   & 0   & 0   & 0   & 0  \\\\\n",
       "\t 0   & 0   & 0   & 0   & 0   & 0   & 0   & 0   & 0   & 0   & 0   & 0   & 0   & 0   & 0   & 0   & 0   & 0   & 0   & 0   & 0   & 0   & 0   & 0   & 0   & 0   & 0   & 0   & 1   & 1   & 0   & 0   & 0   & 1   & 1   & 0   & 0   & ... & 0   & 0   & 0   & 0   & 0   & 0   & 0   & 0   & 0   & 0   & 0   & 0   & 0   & 0   & 0   & 0   & 0   & 0   & 0   & 0   & 0   & 0   & 0   & 0   & 0   & 0   & 0   & 0   & 0   & 0   & 0   & 0   & 0   & 0   & 0   & 0   & 0  \\\\\n",
       "\t 0   & 0   & 0   & 0   & 0   & 0   & 0   & 0   & 0   & 0   & 0   & 0   & 0   & 0   & 0   & 0   & 0   & 0   & 0   & 0   & 0   & 0   & 0   & 0   & 0   & 0   & 0   & 0   & 0   & 0   & 0   & 0   & 0   & 1   & 1   & 0   & 0   & ... & 0   & 0   & 0   & 0   & 0   & 0   & 0   & 0   & 0   & 0   & 0   & 0   & 0   & 1   & 1   & 0   & 0   & 0   & 0   & 0   & 0   & 0   & 0   & 0   & 0   & 0   & 0   & 0   & 0   & 0   & 0   & 0   & 0   & 0   & 0   & 0   & 0  \\\\\n",
       "\t 1   & 0   & 0   & 0   & 0   & 0   & 0   & 0   & 0   & 0   & 0   & 0   & 0   & 0   & 0   & 0   & 1   & 1   & 0   & 0   & 0   & 0   & 0   & 0   & 0   & 0   & 0   & 0   & 0   & 0   & 0   & 0   & 0   & 0   & 0   & 0   & 0   & ... & 0   & 0   & 0   & 0   & 0   & 0   & 0   & 0   & 1   & 1   & 0   & 0   & 0   & 0   & 0   & 0   & 0   & 0   & 0   & 0   & 0   & 0   & 0   & 0   & 0   & 0   & 0   & 0   & 0   & 0   & 0   & 0   & 0   & 0   & 0   & 1   & 1  \\\\\n",
       "\t 0   & 0   & 0   & 0   & 0   & 0   & 0   & 0   & 0   & 0   & 0   & 0   & 0   & 0   & 0   & 0   & 0   & 0   & 1   & 1   & 0   & 0   & 1   & 1   & 0   & 0   & 0   & 0   & 0   & 0   & 0   & 0   & 0   & 0   & 0   & 0   & 0   & ... & 0   & 0   & 0   & 0   & 0   & 0   & 0   & 0   & 0   & 0   & 0   & 1   & 1   & 0   & 0   & 0   & 0   & 0   & 0   & 0   & 0   & 0   & 0   & 0   & 0   & 0   & 0   & 0   & 0   & 0   & 0   & 1   & 1   & 0   & 0   & 0   & 0  \\\\\n",
       "\t 0   & 1   & 1   & 0   & 0   & 0   & 0   & 0   & 0   & 0   & 0   & 0   & 0   & 0   & 0   & 0   & 0   & 0   & 0   & 0   & 0   & 0   & 0   & 0   & 0   & 0   & 0   & 0   & 0   & 0   & 0   & 0   & 0   & 0   & 0   & 0   & 0   & ... & 0   & 0   & 0   & 0   & 0   & 0   & 0   & 0   & 0   & 0   & 0   & 0   & 0   & 0   & 0   & 0   & 0   & 0   & 0   & 0   & 0   & 0   & 0   & 0   & 0   & 0   & 0   & 0   & 0   & 0   & 0   & 0   & 0   & 0   & 0   & 0   & 0  \\\\\n",
       "\\end{tabular}\n"
      ],
      "text/markdown": [
       "\n",
       "| ah distinct | angel | angel name | awhil | awhil thought | back | bandersnatch | bewar | bewar jabberwock | bewar jubjub | bird | bird shun | bite | bite claw | blade | blade went | bleak | bleak decemb | book | book surceas | borogov | borogov mome | borrow | borrow book | brillig | brillig slithi | burbl | burbl came | came | came tap | came whiffl | catch | catch bewar | chamber | chamber door | claw | claw catch | ... | tumtum tree | twas | twas brillig | two | two one | two vorpal | uffish | uffish thought | upon | upon floor | upon midnight | vain | vain sought | visitor | visitor mutter | volum | volum forgotten | vorpal | vorpal blade | vorpal sword | wabe | wabe mimsi | weak | weak weari | weari | weari mani | went | went galumph | went snickersnack | whiffl | whiffl tulgey | wish | wish morrow | wood | wood burbl | wrought | wrought ghost |\n",
       "|---|---|---|---|---|---|---|---|---|---|---|---|---|---|---|---|---|---|---|---|---|---|---|---|---|---|---|---|---|---|---|---|---|---|---|---|---|---|---|---|---|---|---|---|---|---|---|---|---|---|---|---|---|---|---|---|---|---|---|---|---|---|---|---|---|---|---|---|---|---|---|---|---|---|---|\n",
       "| 0   | 0   | 0   | 0   | 0   | 0   | 0   | 0   | 0   | 0   | 0   | 0   | 0   | 0   | 0   | 0   | 0   | 0   | 0   | 0   | 1   | 1   | 0   | 0   | 1   | 1   | 0   | 0   | 0   | 0   | 0   | 0   | 0   | 0   | 0   | 0   | 0   | ... | 0   | 1   | 1   | 0   | 0   | 0   | 0   | 0   | 0   | 0   | 0   | 0   | 0   | 0   | 0   | 0   | 0   | 0   | 0   | 0   | 1   | 1   | 0   | 0   | 0   | 0   | 0   | 0   | 0   | 0   | 0   | 0   | 0   | 0   | 0   | 0   | 0   |\n",
       "| 0   | 0   | 0   | 0   | 0   | 0   | 1   | 2   | 1   | 1   | 1   | 1   | 1   | 1   | 0   | 0   | 0   | 0   | 0   | 0   | 0   | 0   | 0   | 0   | 0   | 0   | 0   | 0   | 0   | 0   | 0   | 1   | 1   | 0   | 0   | 1   | 1   | ... | 0   | 0   | 0   | 0   | 0   | 0   | 0   | 0   | 0   | 0   | 0   | 0   | 0   | 0   | 0   | 0   | 0   | 0   | 0   | 0   | 0   | 0   | 0   | 0   | 0   | 0   | 0   | 0   | 0   | 0   | 0   | 0   | 0   | 0   | 0   | 0   | 0   |\n",
       "| 0   | 0   | 0   | 1   | 1   | 0   | 0   | 0   | 0   | 0   | 0   | 0   | 0   | 0   | 0   | 0   | 0   | 0   | 0   | 0   | 0   | 0   | 0   | 0   | 0   | 0   | 0   | 0   | 0   | 0   | 0   | 0   | 0   | 0   | 0   | 0   | 0   | ... | 1   | 0   | 0   | 0   | 0   | 0   | 0   | 0   | 0   | 0   | 0   | 0   | 0   | 0   | 0   | 0   | 0   | 1   | 0   | 1   | 0   | 0   | 0   | 0   | 0   | 0   | 0   | 0   | 0   | 0   | 0   | 0   | 0   | 0   | 0   | 0   | 0   |\n",
       "| 0   | 0   | 0   | 0   | 0   | 0   | 0   | 0   | 0   | 0   | 0   | 0   | 0   | 0   | 0   | 0   | 0   | 0   | 0   | 0   | 0   | 0   | 0   | 0   | 0   | 0   | 1   | 1   | 2   | 0   | 1   | 0   | 0   | 0   | 0   | 0   | 0   | ... | 0   | 0   | 0   | 0   | 0   | 0   | 1   | 1   | 0   | 0   | 0   | 0   | 0   | 0   | 0   | 0   | 0   | 0   | 0   | 0   | 0   | 0   | 0   | 0   | 0   | 0   | 0   | 0   | 0   | 1   | 1   | 0   | 0   | 1   | 1   | 0   | 0   |\n",
       "| 0   | 0   | 0   | 0   | 0   | 1   | 0   | 0   | 0   | 0   | 0   | 0   | 0   | 0   | 1   | 1   | 0   | 0   | 0   | 0   | 0   | 0   | 0   | 0   | 0   | 0   | 0   | 0   | 0   | 0   | 0   | 0   | 0   | 0   | 0   | 0   | 0   | ... | 0   | 0   | 0   | 2   | 1   | 1   | 0   | 0   | 0   | 0   | 0   | 0   | 0   | 0   | 0   | 0   | 0   | 1   | 1   | 0   | 0   | 0   | 0   | 0   | 0   | 0   | 2   | 1   | 1   | 0   | 0   | 0   | 0   | 0   | 0   | 0   | 0   |\n",
       "| 0   | 0   | 0   | 0   | 0   | 0   | 0   | 0   | 0   | 0   | 0   | 0   | 0   | 0   | 0   | 0   | 0   | 0   | 0   | 0   | 0   | 0   | 0   | 0   | 0   | 0   | 0   | 0   | 0   | 0   | 0   | 0   | 0   | 0   | 0   | 0   | 0   | ... | 0   | 0   | 0   | 0   | 0   | 0   | 0   | 0   | 1   | 0   | 1   | 0   | 0   | 0   | 0   | 1   | 1   | 0   | 0   | 0   | 0   | 0   | 1   | 1   | 1   | 1   | 0   | 0   | 0   | 0   | 0   | 0   | 0   | 0   | 0   | 0   | 0   |\n",
       "| 0   | 0   | 0   | 0   | 0   | 0   | 0   | 0   | 0   | 0   | 0   | 0   | 0   | 0   | 0   | 0   | 0   | 0   | 0   | 0   | 0   | 0   | 0   | 0   | 0   | 0   | 0   | 0   | 1   | 1   | 0   | 0   | 0   | 1   | 1   | 0   | 0   | ... | 0   | 0   | 0   | 0   | 0   | 0   | 0   | 0   | 0   | 0   | 0   | 0   | 0   | 0   | 0   | 0   | 0   | 0   | 0   | 0   | 0   | 0   | 0   | 0   | 0   | 0   | 0   | 0   | 0   | 0   | 0   | 0   | 0   | 0   | 0   | 0   | 0   |\n",
       "| 0   | 0   | 0   | 0   | 0   | 0   | 0   | 0   | 0   | 0   | 0   | 0   | 0   | 0   | 0   | 0   | 0   | 0   | 0   | 0   | 0   | 0   | 0   | 0   | 0   | 0   | 0   | 0   | 0   | 0   | 0   | 0   | 0   | 1   | 1   | 0   | 0   | ... | 0   | 0   | 0   | 0   | 0   | 0   | 0   | 0   | 0   | 0   | 0   | 0   | 0   | 1   | 1   | 0   | 0   | 0   | 0   | 0   | 0   | 0   | 0   | 0   | 0   | 0   | 0   | 0   | 0   | 0   | 0   | 0   | 0   | 0   | 0   | 0   | 0   |\n",
       "| 1   | 0   | 0   | 0   | 0   | 0   | 0   | 0   | 0   | 0   | 0   | 0   | 0   | 0   | 0   | 0   | 1   | 1   | 0   | 0   | 0   | 0   | 0   | 0   | 0   | 0   | 0   | 0   | 0   | 0   | 0   | 0   | 0   | 0   | 0   | 0   | 0   | ... | 0   | 0   | 0   | 0   | 0   | 0   | 0   | 0   | 1   | 1   | 0   | 0   | 0   | 0   | 0   | 0   | 0   | 0   | 0   | 0   | 0   | 0   | 0   | 0   | 0   | 0   | 0   | 0   | 0   | 0   | 0   | 0   | 0   | 0   | 0   | 1   | 1   |\n",
       "| 0   | 0   | 0   | 0   | 0   | 0   | 0   | 0   | 0   | 0   | 0   | 0   | 0   | 0   | 0   | 0   | 0   | 0   | 1   | 1   | 0   | 0   | 1   | 1   | 0   | 0   | 0   | 0   | 0   | 0   | 0   | 0   | 0   | 0   | 0   | 0   | 0   | ... | 0   | 0   | 0   | 0   | 0   | 0   | 0   | 0   | 0   | 0   | 0   | 1   | 1   | 0   | 0   | 0   | 0   | 0   | 0   | 0   | 0   | 0   | 0   | 0   | 0   | 0   | 0   | 0   | 0   | 0   | 0   | 1   | 1   | 0   | 0   | 0   | 0   |\n",
       "| 0   | 1   | 1   | 0   | 0   | 0   | 0   | 0   | 0   | 0   | 0   | 0   | 0   | 0   | 0   | 0   | 0   | 0   | 0   | 0   | 0   | 0   | 0   | 0   | 0   | 0   | 0   | 0   | 0   | 0   | 0   | 0   | 0   | 0   | 0   | 0   | 0   | ... | 0   | 0   | 0   | 0   | 0   | 0   | 0   | 0   | 0   | 0   | 0   | 0   | 0   | 0   | 0   | 0   | 0   | 0   | 0   | 0   | 0   | 0   | 0   | 0   | 0   | 0   | 0   | 0   | 0   | 0   | 0   | 0   | 0   | 0   | 0   | 0   | 0   |\n",
       "\n"
      ],
      "text/plain": [
       "   ah distinct angel angel name awhil awhil thought back bandersnatch bewar\n",
       "1  0           0     0          0     0             0    0            0    \n",
       "2  0           0     0          0     0             0    1            2    \n",
       "3  0           0     0          1     1             0    0            0    \n",
       "4  0           0     0          0     0             0    0            0    \n",
       "5  0           0     0          0     0             1    0            0    \n",
       "6  0           0     0          0     0             0    0            0    \n",
       "7  0           0     0          0     0             0    0            0    \n",
       "8  0           0     0          0     0             0    0            0    \n",
       "9  1           0     0          0     0             0    0            0    \n",
       "10 0           0     0          0     0             0    0            0    \n",
       "11 0           1     1          0     0             0    0            0    \n",
       "   bewar jabberwock bewar jubjub bird bird shun bite bite claw blade blade went\n",
       "1  0                0            0    0         0    0         0     0         \n",
       "2  1                1            1    1         1    1         0     0         \n",
       "3  0                0            0    0         0    0         0     0         \n",
       "4  0                0            0    0         0    0         0     0         \n",
       "5  0                0            0    0         0    0         1     1         \n",
       "6  0                0            0    0         0    0         0     0         \n",
       "7  0                0            0    0         0    0         0     0         \n",
       "8  0                0            0    0         0    0         0     0         \n",
       "9  0                0            0    0         0    0         0     0         \n",
       "10 0                0            0    0         0    0         0     0         \n",
       "11 0                0            0    0         0    0         0     0         \n",
       "   bleak bleak decemb book book surceas borogov borogov mome borrow borrow book\n",
       "1  0     0            0    0            1       1            0      0          \n",
       "2  0     0            0    0            0       0            0      0          \n",
       "3  0     0            0    0            0       0            0      0          \n",
       "4  0     0            0    0            0       0            0      0          \n",
       "5  0     0            0    0            0       0            0      0          \n",
       "6  0     0            0    0            0       0            0      0          \n",
       "7  0     0            0    0            0       0            0      0          \n",
       "8  0     0            0    0            0       0            0      0          \n",
       "9  1     1            0    0            0       0            0      0          \n",
       "10 0     0            1    1            0       0            1      1          \n",
       "11 0     0            0    0            0       0            0      0          \n",
       "   brillig brillig slithi burbl burbl came came came tap came whiffl catch\n",
       "1  1       1              0     0          0    0        0           0    \n",
       "2  0       0              0     0          0    0        0           1    \n",
       "3  0       0              0     0          0    0        0           0    \n",
       "4  0       0              1     1          2    0        1           0    \n",
       "5  0       0              0     0          0    0        0           0    \n",
       "6  0       0              0     0          0    0        0           0    \n",
       "7  0       0              0     0          1    1        0           0    \n",
       "8  0       0              0     0          0    0        0           0    \n",
       "9  0       0              0     0          0    0        0           0    \n",
       "10 0       0              0     0          0    0        0           0    \n",
       "11 0       0              0     0          0    0        0           0    \n",
       "   catch bewar chamber chamber door claw claw catch ... tumtum tree twas\n",
       "1  0           0       0            0    0          ... 0           1   \n",
       "2  1           0       0            1    1          ... 0           0   \n",
       "3  0           0       0            0    0          ... 1           0   \n",
       "4  0           0       0            0    0          ... 0           0   \n",
       "5  0           0       0            0    0          ... 0           0   \n",
       "6  0           0       0            0    0          ... 0           0   \n",
       "7  0           1       1            0    0          ... 0           0   \n",
       "8  0           1       1            0    0          ... 0           0   \n",
       "9  0           0       0            0    0          ... 0           0   \n",
       "10 0           0       0            0    0          ... 0           0   \n",
       "11 0           0       0            0    0          ... 0           0   \n",
       "   twas brillig two two one two vorpal uffish uffish thought upon upon floor\n",
       "1  1            0   0       0          0      0              0    0         \n",
       "2  0            0   0       0          0      0              0    0         \n",
       "3  0            0   0       0          0      0              0    0         \n",
       "4  0            0   0       0          1      1              0    0         \n",
       "5  0            2   1       1          0      0              0    0         \n",
       "6  0            0   0       0          0      0              1    0         \n",
       "7  0            0   0       0          0      0              0    0         \n",
       "8  0            0   0       0          0      0              0    0         \n",
       "9  0            0   0       0          0      0              1    1         \n",
       "10 0            0   0       0          0      0              0    0         \n",
       "11 0            0   0       0          0      0              0    0         \n",
       "   upon midnight vain vain sought visitor visitor mutter volum volum forgotten\n",
       "1  0             0    0           0       0              0     0              \n",
       "2  0             0    0           0       0              0     0              \n",
       "3  0             0    0           0       0              0     0              \n",
       "4  0             0    0           0       0              0     0              \n",
       "5  0             0    0           0       0              0     0              \n",
       "6  1             0    0           0       0              1     1              \n",
       "7  0             0    0           0       0              0     0              \n",
       "8  0             0    0           1       1              0     0              \n",
       "9  0             0    0           0       0              0     0              \n",
       "10 0             1    1           0       0              0     0              \n",
       "11 0             0    0           0       0              0     0              \n",
       "   vorpal vorpal blade vorpal sword wabe wabe mimsi weak weak weari weari\n",
       "1  0      0            0            1    1          0    0          0    \n",
       "2  0      0            0            0    0          0    0          0    \n",
       "3  1      0            1            0    0          0    0          0    \n",
       "4  0      0            0            0    0          0    0          0    \n",
       "5  1      1            0            0    0          0    0          0    \n",
       "6  0      0            0            0    0          1    1          1    \n",
       "7  0      0            0            0    0          0    0          0    \n",
       "8  0      0            0            0    0          0    0          0    \n",
       "9  0      0            0            0    0          0    0          0    \n",
       "10 0      0            0            0    0          0    0          0    \n",
       "11 0      0            0            0    0          0    0          0    \n",
       "   weari mani went went galumph went snickersnack whiffl whiffl tulgey wish\n",
       "1  0          0    0            0                 0      0             0   \n",
       "2  0          0    0            0                 0      0             0   \n",
       "3  0          0    0            0                 0      0             0   \n",
       "4  0          0    0            0                 1      1             0   \n",
       "5  0          2    1            1                 0      0             0   \n",
       "6  1          0    0            0                 0      0             0   \n",
       "7  0          0    0            0                 0      0             0   \n",
       "8  0          0    0            0                 0      0             0   \n",
       "9  0          0    0            0                 0      0             0   \n",
       "10 0          0    0            0                 0      0             1   \n",
       "11 0          0    0            0                 0      0             0   \n",
       "   wish morrow wood wood burbl wrought wrought ghost\n",
       "1  0           0    0          0       0            \n",
       "2  0           0    0          0       0            \n",
       "3  0           0    0          0       0            \n",
       "4  0           1    1          0       0            \n",
       "5  0           0    0          0       0            \n",
       "6  0           0    0          0       0            \n",
       "7  0           0    0          0       0            \n",
       "8  0           0    0          0       0            \n",
       "9  0           0    0          1       1            \n",
       "10 1           0    0          0       0            \n",
       "11 0           0    0          0       0            "
      ]
     },
     "metadata": {},
     "output_type": "display_data"
    }
   ],
   "source": [
    "dtm = DocumentTermMatrix(corpus, control=list(tokenize=unibigrams))\n",
    "data.t = as.data.frame(as.matrix(dtm))\n",
    "\n",
    "size(data.t)\n",
    "data.t"
   ]
  },
  {
   "cell_type": "markdown",
   "metadata": {},
   "source": [
    "#### Document-Term Matrix: Pruned n-Gram Representation\n",
    "\n",
    "Alternatively, represent as a document-term matrix of n-grams with sparse variables removed.\n",
    "\n",
    "The document-term matrix's variables (columns) correspond to the n-grams in the transformed corpus.  Observations (rows) correspond to documents.  Each value is the number of times a certain n-gram appears in a certain document.\n",
    "\n",
    "Additionally, variables corresponding to n-grams that appear in only a few documents are removed.   \n",
    "\n",
    "Here we determine the document-term matrix for unigrams and bigrams.\n",
    "\n",
    "_Use the `removeSparseTerms` function with `sparse` parameter to remove sparse variables.  `sparse`=$x$ means columns corresponding to n-grams missing from no more than $x$ of documents are kept, other columns are removed._"
   ]
  },
  {
   "cell_type": "code",
   "execution_count": 13,
   "metadata": {
    "hide_input": true
   },
   "outputs": [
    {
     "data": {
      "text/html": [
       "<table>\n",
       "<thead><tr><th scope=col>observations</th><th scope=col>variables</th></tr></thead>\n",
       "<tbody>\n",
       "\t<tr><td>11</td><td>13</td></tr>\n",
       "</tbody>\n",
       "</table>\n"
      ],
      "text/latex": [
       "\\begin{tabular}{r|ll}\n",
       " observations & variables\\\\\n",
       "\\hline\n",
       "\t 11 & 13\\\\\n",
       "\\end{tabular}\n"
      ],
      "text/markdown": [
       "\n",
       "| observations | variables |\n",
       "|---|---|\n",
       "| 11 | 13 |\n",
       "\n"
      ],
      "text/plain": [
       "  observations variables\n",
       "1 11           13       "
      ]
     },
     "metadata": {},
     "output_type": "display_data"
    },
    {
     "data": {
      "text/html": [
       "<table>\n",
       "<thead><tr><th scope=col>came</th><th scope=col>chamber</th><th scope=col>chamber door</th><th scope=col>door</th><th scope=col>jabberwock</th><th scope=col>lenor</th><th scope=col>one</th><th scope=col>sought</th><th scope=col>stood</th><th scope=col>tap</th><th scope=col>thought</th><th scope=col>upon</th><th scope=col>vorpal</th></tr></thead>\n",
       "<tbody>\n",
       "\t<tr><td>0</td><td>0</td><td>0</td><td>0</td><td>0</td><td>0</td><td>0</td><td>0</td><td>0</td><td>0</td><td>0</td><td>0</td><td>0</td></tr>\n",
       "\t<tr><td>0</td><td>0</td><td>0</td><td>0</td><td>1</td><td>0</td><td>0</td><td>0</td><td>0</td><td>0</td><td>0</td><td>0</td><td>0</td></tr>\n",
       "\t<tr><td>0</td><td>0</td><td>0</td><td>0</td><td>0</td><td>0</td><td>0</td><td>1</td><td>1</td><td>0</td><td>1</td><td>0</td><td>1</td></tr>\n",
       "\t<tr><td>2</td><td>0</td><td>0</td><td>0</td><td>1</td><td>0</td><td>0</td><td>0</td><td>1</td><td>0</td><td>1</td><td>0</td><td>0</td></tr>\n",
       "\t<tr><td>0</td><td>0</td><td>0</td><td>0</td><td>0</td><td>0</td><td>2</td><td>0</td><td>0</td><td>0</td><td>0</td><td>0</td><td>1</td></tr>\n",
       "\t<tr><td>0</td><td>0</td><td>0</td><td>0</td><td>0</td><td>0</td><td>0</td><td>0</td><td>0</td><td>0</td><td>0</td><td>1</td><td>0</td></tr>\n",
       "\t<tr><td>1</td><td>1</td><td>1</td><td>1</td><td>0</td><td>0</td><td>1</td><td>0</td><td>0</td><td>1</td><td>0</td><td>0</td><td>0</td></tr>\n",
       "\t<tr><td>0</td><td>1</td><td>1</td><td>1</td><td>0</td><td>0</td><td>0</td><td>0</td><td>0</td><td>1</td><td>0</td><td>0</td><td>0</td></tr>\n",
       "\t<tr><td>0</td><td>0</td><td>0</td><td>0</td><td>0</td><td>0</td><td>0</td><td>0</td><td>0</td><td>0</td><td>0</td><td>1</td><td>0</td></tr>\n",
       "\t<tr><td>0</td><td>0</td><td>0</td><td>0</td><td>0</td><td>1</td><td>0</td><td>1</td><td>0</td><td>0</td><td>0</td><td>0</td><td>0</td></tr>\n",
       "\t<tr><td>0</td><td>0</td><td>0</td><td>0</td><td>0</td><td>1</td><td>0</td><td>0</td><td>0</td><td>0</td><td>0</td><td>0</td><td>0</td></tr>\n",
       "</tbody>\n",
       "</table>\n"
      ],
      "text/latex": [
       "\\begin{tabular}{r|lllllllllllll}\n",
       " came & chamber & chamber door & door & jabberwock & lenor & one & sought & stood & tap & thought & upon & vorpal\\\\\n",
       "\\hline\n",
       "\t 0 & 0 & 0 & 0 & 0 & 0 & 0 & 0 & 0 & 0 & 0 & 0 & 0\\\\\n",
       "\t 0 & 0 & 0 & 0 & 1 & 0 & 0 & 0 & 0 & 0 & 0 & 0 & 0\\\\\n",
       "\t 0 & 0 & 0 & 0 & 0 & 0 & 0 & 1 & 1 & 0 & 1 & 0 & 1\\\\\n",
       "\t 2 & 0 & 0 & 0 & 1 & 0 & 0 & 0 & 1 & 0 & 1 & 0 & 0\\\\\n",
       "\t 0 & 0 & 0 & 0 & 0 & 0 & 2 & 0 & 0 & 0 & 0 & 0 & 1\\\\\n",
       "\t 0 & 0 & 0 & 0 & 0 & 0 & 0 & 0 & 0 & 0 & 0 & 1 & 0\\\\\n",
       "\t 1 & 1 & 1 & 1 & 0 & 0 & 1 & 0 & 0 & 1 & 0 & 0 & 0\\\\\n",
       "\t 0 & 1 & 1 & 1 & 0 & 0 & 0 & 0 & 0 & 1 & 0 & 0 & 0\\\\\n",
       "\t 0 & 0 & 0 & 0 & 0 & 0 & 0 & 0 & 0 & 0 & 0 & 1 & 0\\\\\n",
       "\t 0 & 0 & 0 & 0 & 0 & 1 & 0 & 1 & 0 & 0 & 0 & 0 & 0\\\\\n",
       "\t 0 & 0 & 0 & 0 & 0 & 1 & 0 & 0 & 0 & 0 & 0 & 0 & 0\\\\\n",
       "\\end{tabular}\n"
      ],
      "text/markdown": [
       "\n",
       "| came | chamber | chamber door | door | jabberwock | lenor | one | sought | stood | tap | thought | upon | vorpal |\n",
       "|---|---|---|---|---|---|---|---|---|---|---|---|---|\n",
       "| 0 | 0 | 0 | 0 | 0 | 0 | 0 | 0 | 0 | 0 | 0 | 0 | 0 |\n",
       "| 0 | 0 | 0 | 0 | 1 | 0 | 0 | 0 | 0 | 0 | 0 | 0 | 0 |\n",
       "| 0 | 0 | 0 | 0 | 0 | 0 | 0 | 1 | 1 | 0 | 1 | 0 | 1 |\n",
       "| 2 | 0 | 0 | 0 | 1 | 0 | 0 | 0 | 1 | 0 | 1 | 0 | 0 |\n",
       "| 0 | 0 | 0 | 0 | 0 | 0 | 2 | 0 | 0 | 0 | 0 | 0 | 1 |\n",
       "| 0 | 0 | 0 | 0 | 0 | 0 | 0 | 0 | 0 | 0 | 0 | 1 | 0 |\n",
       "| 1 | 1 | 1 | 1 | 0 | 0 | 1 | 0 | 0 | 1 | 0 | 0 | 0 |\n",
       "| 0 | 1 | 1 | 1 | 0 | 0 | 0 | 0 | 0 | 1 | 0 | 0 | 0 |\n",
       "| 0 | 0 | 0 | 0 | 0 | 0 | 0 | 0 | 0 | 0 | 0 | 1 | 0 |\n",
       "| 0 | 0 | 0 | 0 | 0 | 1 | 0 | 1 | 0 | 0 | 0 | 0 | 0 |\n",
       "| 0 | 0 | 0 | 0 | 0 | 1 | 0 | 0 | 0 | 0 | 0 | 0 | 0 |\n",
       "\n"
      ],
      "text/plain": [
       "   came chamber chamber door door jabberwock lenor one sought stood tap thought\n",
       "1  0    0       0            0    0          0     0   0      0     0   0      \n",
       "2  0    0       0            0    1          0     0   0      0     0   0      \n",
       "3  0    0       0            0    0          0     0   1      1     0   1      \n",
       "4  2    0       0            0    1          0     0   0      1     0   1      \n",
       "5  0    0       0            0    0          0     2   0      0     0   0      \n",
       "6  0    0       0            0    0          0     0   0      0     0   0      \n",
       "7  1    1       1            1    0          0     1   0      0     1   0      \n",
       "8  0    1       1            1    0          0     0   0      0     1   0      \n",
       "9  0    0       0            0    0          0     0   0      0     0   0      \n",
       "10 0    0       0            0    0          1     0   1      0     0   0      \n",
       "11 0    0       0            0    0          1     0   0      0     0   0      \n",
       "   upon vorpal\n",
       "1  0    0     \n",
       "2  0    0     \n",
       "3  0    1     \n",
       "4  0    0     \n",
       "5  0    1     \n",
       "6  1    0     \n",
       "7  0    0     \n",
       "8  0    0     \n",
       "9  1    0     \n",
       "10 0    0     \n",
       "11 0    0     "
      ]
     },
     "metadata": {},
     "output_type": "display_data"
    }
   ],
   "source": [
    "dtm = DocumentTermMatrix(corpus, control=list(tokenize=unibigrams))\n",
    "dtm = removeSparseTerms(dtm, sparse=0.90)\n",
    "data.t =  as.data.frame(as.matrix(dtm))\n",
    "\n",
    "size(data.t)\n",
    "data.t"
   ]
  },
  {
   "cell_type": "markdown",
   "metadata": {},
   "source": [
    "#### Restore Classification\n",
    "\n",
    "Add the class variable from the dataset in the original table form to the data in document-term matrix form."
   ]
  },
  {
   "cell_type": "code",
   "execution_count": 14,
   "metadata": {
    "hide_input": true
   },
   "outputs": [
    {
     "data": {
      "text/html": [
       "<table>\n",
       "<thead><tr><th scope=col>observations</th><th scope=col>variables</th></tr></thead>\n",
       "<tbody>\n",
       "\t<tr><td>11</td><td>14</td></tr>\n",
       "</tbody>\n",
       "</table>\n"
      ],
      "text/latex": [
       "\\begin{tabular}{r|ll}\n",
       " observations & variables\\\\\n",
       "\\hline\n",
       "\t 11 & 14\\\\\n",
       "\\end{tabular}\n"
      ],
      "text/markdown": [
       "\n",
       "| observations | variables |\n",
       "|---|---|\n",
       "| 11 | 14 |\n",
       "\n"
      ],
      "text/plain": [
       "  observations variables\n",
       "1 11           14       "
      ]
     },
     "metadata": {},
     "output_type": "display_data"
    },
    {
     "data": {
      "text/html": [
       "<table>\n",
       "<thead><tr><th scope=col>came</th><th scope=col>chamber</th><th scope=col>chamber door</th><th scope=col>door</th><th scope=col>jabberwock</th><th scope=col>lenor</th><th scope=col>one</th><th scope=col>sought</th><th scope=col>stood</th><th scope=col>tap</th><th scope=col>thought</th><th scope=col>upon</th><th scope=col>vorpal</th><th scope=col>class</th></tr></thead>\n",
       "<tbody>\n",
       "\t<tr><td>0</td><td>0</td><td>0</td><td>0</td><td>0</td><td>0</td><td>0</td><td>0</td><td>0</td><td>0</td><td>0</td><td>0</td><td>0</td><td>A</td></tr>\n",
       "\t<tr><td>0</td><td>0</td><td>0</td><td>0</td><td>1</td><td>0</td><td>0</td><td>0</td><td>0</td><td>0</td><td>0</td><td>0</td><td>0</td><td>A</td></tr>\n",
       "\t<tr><td>0</td><td>0</td><td>0</td><td>0</td><td>0</td><td>0</td><td>0</td><td>1</td><td>1</td><td>0</td><td>1</td><td>0</td><td>1</td><td>A</td></tr>\n",
       "\t<tr><td>2</td><td>0</td><td>0</td><td>0</td><td>1</td><td>0</td><td>0</td><td>0</td><td>1</td><td>0</td><td>1</td><td>0</td><td>0</td><td>A</td></tr>\n",
       "\t<tr><td>0</td><td>0</td><td>0</td><td>0</td><td>0</td><td>0</td><td>2</td><td>0</td><td>0</td><td>0</td><td>0</td><td>0</td><td>1</td><td>A</td></tr>\n",
       "\t<tr><td>0</td><td>0</td><td>0</td><td>0</td><td>0</td><td>0</td><td>0</td><td>0</td><td>0</td><td>0</td><td>0</td><td>1</td><td>0</td><td>B</td></tr>\n",
       "\t<tr><td>1</td><td>1</td><td>1</td><td>1</td><td>0</td><td>0</td><td>1</td><td>0</td><td>0</td><td>1</td><td>0</td><td>0</td><td>0</td><td>B</td></tr>\n",
       "\t<tr><td>0</td><td>1</td><td>1</td><td>1</td><td>0</td><td>0</td><td>0</td><td>0</td><td>0</td><td>1</td><td>0</td><td>0</td><td>0</td><td>B</td></tr>\n",
       "\t<tr><td>0</td><td>0</td><td>0</td><td>0</td><td>0</td><td>0</td><td>0</td><td>0</td><td>0</td><td>0</td><td>0</td><td>1</td><td>0</td><td>B</td></tr>\n",
       "\t<tr><td>0</td><td>0</td><td>0</td><td>0</td><td>0</td><td>1</td><td>0</td><td>1</td><td>0</td><td>0</td><td>0</td><td>0</td><td>0</td><td>B</td></tr>\n",
       "\t<tr><td>0</td><td>0</td><td>0</td><td>0</td><td>0</td><td>1</td><td>0</td><td>0</td><td>0</td><td>0</td><td>0</td><td>0</td><td>0</td><td>B</td></tr>\n",
       "</tbody>\n",
       "</table>\n"
      ],
      "text/latex": [
       "\\begin{tabular}{r|llllllllllllll}\n",
       " came & chamber & chamber door & door & jabberwock & lenor & one & sought & stood & tap & thought & upon & vorpal & class\\\\\n",
       "\\hline\n",
       "\t 0 & 0 & 0 & 0 & 0 & 0 & 0 & 0 & 0 & 0 & 0 & 0 & 0 & A\\\\\n",
       "\t 0 & 0 & 0 & 0 & 1 & 0 & 0 & 0 & 0 & 0 & 0 & 0 & 0 & A\\\\\n",
       "\t 0 & 0 & 0 & 0 & 0 & 0 & 0 & 1 & 1 & 0 & 1 & 0 & 1 & A\\\\\n",
       "\t 2 & 0 & 0 & 0 & 1 & 0 & 0 & 0 & 1 & 0 & 1 & 0 & 0 & A\\\\\n",
       "\t 0 & 0 & 0 & 0 & 0 & 0 & 2 & 0 & 0 & 0 & 0 & 0 & 1 & A\\\\\n",
       "\t 0 & 0 & 0 & 0 & 0 & 0 & 0 & 0 & 0 & 0 & 0 & 1 & 0 & B\\\\\n",
       "\t 1 & 1 & 1 & 1 & 0 & 0 & 1 & 0 & 0 & 1 & 0 & 0 & 0 & B\\\\\n",
       "\t 0 & 1 & 1 & 1 & 0 & 0 & 0 & 0 & 0 & 1 & 0 & 0 & 0 & B\\\\\n",
       "\t 0 & 0 & 0 & 0 & 0 & 0 & 0 & 0 & 0 & 0 & 0 & 1 & 0 & B\\\\\n",
       "\t 0 & 0 & 0 & 0 & 0 & 1 & 0 & 1 & 0 & 0 & 0 & 0 & 0 & B\\\\\n",
       "\t 0 & 0 & 0 & 0 & 0 & 1 & 0 & 0 & 0 & 0 & 0 & 0 & 0 & B\\\\\n",
       "\\end{tabular}\n"
      ],
      "text/markdown": [
       "\n",
       "| came | chamber | chamber door | door | jabberwock | lenor | one | sought | stood | tap | thought | upon | vorpal | class |\n",
       "|---|---|---|---|---|---|---|---|---|---|---|---|---|---|\n",
       "| 0 | 0 | 0 | 0 | 0 | 0 | 0 | 0 | 0 | 0 | 0 | 0 | 0 | A |\n",
       "| 0 | 0 | 0 | 0 | 1 | 0 | 0 | 0 | 0 | 0 | 0 | 0 | 0 | A |\n",
       "| 0 | 0 | 0 | 0 | 0 | 0 | 0 | 1 | 1 | 0 | 1 | 0 | 1 | A |\n",
       "| 2 | 0 | 0 | 0 | 1 | 0 | 0 | 0 | 1 | 0 | 1 | 0 | 0 | A |\n",
       "| 0 | 0 | 0 | 0 | 0 | 0 | 2 | 0 | 0 | 0 | 0 | 0 | 1 | A |\n",
       "| 0 | 0 | 0 | 0 | 0 | 0 | 0 | 0 | 0 | 0 | 0 | 1 | 0 | B |\n",
       "| 1 | 1 | 1 | 1 | 0 | 0 | 1 | 0 | 0 | 1 | 0 | 0 | 0 | B |\n",
       "| 0 | 1 | 1 | 1 | 0 | 0 | 0 | 0 | 0 | 1 | 0 | 0 | 0 | B |\n",
       "| 0 | 0 | 0 | 0 | 0 | 0 | 0 | 0 | 0 | 0 | 0 | 1 | 0 | B |\n",
       "| 0 | 0 | 0 | 0 | 0 | 1 | 0 | 1 | 0 | 0 | 0 | 0 | 0 | B |\n",
       "| 0 | 0 | 0 | 0 | 0 | 1 | 0 | 0 | 0 | 0 | 0 | 0 | 0 | B |\n",
       "\n"
      ],
      "text/plain": [
       "   came chamber chamber door door jabberwock lenor one sought stood tap thought\n",
       "1  0    0       0            0    0          0     0   0      0     0   0      \n",
       "2  0    0       0            0    1          0     0   0      0     0   0      \n",
       "3  0    0       0            0    0          0     0   1      1     0   1      \n",
       "4  2    0       0            0    1          0     0   0      1     0   1      \n",
       "5  0    0       0            0    0          0     2   0      0     0   0      \n",
       "6  0    0       0            0    0          0     0   0      0     0   0      \n",
       "7  1    1       1            1    0          0     1   0      0     1   0      \n",
       "8  0    1       1            1    0          0     0   0      0     1   0      \n",
       "9  0    0       0            0    0          0     0   0      0     0   0      \n",
       "10 0    0       0            0    0          1     0   1      0     0   0      \n",
       "11 0    0       0            0    0          1     0   0      0     0   0      \n",
       "   upon vorpal class\n",
       "1  0    0      A    \n",
       "2  0    0      A    \n",
       "3  0    1      A    \n",
       "4  0    0      A    \n",
       "5  0    1      A    \n",
       "6  1    0      B    \n",
       "7  0    0      B    \n",
       "8  0    0      B    \n",
       "9  1    0      B    \n",
       "10 0    0      B    \n",
       "11 0    0      B    "
      ]
     },
     "metadata": {},
     "output_type": "display_data"
    }
   ],
   "source": [
    "data.tc = data.t\n",
    "data.tc$class = data$class\n",
    "\n",
    "size(data.tc)\n",
    "data.tc"
   ]
  },
  {
   "cell_type": "markdown",
   "metadata": {},
   "source": [
    "### Model\n",
    "\n",
    "Here we build a naive Bayes model to predict class given all other variables, using the corpus' document-term matrix."
   ]
  },
  {
   "cell_type": "code",
   "execution_count": 15,
   "metadata": {
    "hide_input": true,
    "scrolled": true
   },
   "outputs": [
    {
     "data": {
      "text/plain": [
       "\n",
       "Naive Bayes Classifier for Discrete Predictors\n",
       "\n",
       "Call:\n",
       "naiveBayes.default(x = X, y = Y, laplace = laplace)\n",
       "\n",
       "A-priori probabilities:\n",
       "Y\n",
       "        A         B \n",
       "0.4545455 0.5454545 \n",
       "\n",
       "Conditional probabilities:\n",
       "   came\n",
       "Y        [,1]      [,2]\n",
       "  A 0.4000000 0.8944272\n",
       "  B 0.1666667 0.4082483\n",
       "\n",
       "   chamber\n",
       "Y        [,1]      [,2]\n",
       "  A 0.0000000 0.0000000\n",
       "  B 0.3333333 0.5163978\n",
       "\n",
       "   chamber_door\n",
       "Y        [,1]      [,2]\n",
       "  A 0.0000000 0.0000000\n",
       "  B 0.3333333 0.5163978\n",
       "\n",
       "   door\n",
       "Y        [,1]      [,2]\n",
       "  A 0.0000000 0.0000000\n",
       "  B 0.3333333 0.5163978\n",
       "\n",
       "   jabberwock\n",
       "Y   [,1]      [,2]\n",
       "  A  0.4 0.5477226\n",
       "  B  0.0 0.0000000\n",
       "\n",
       "   lenor\n",
       "Y        [,1]      [,2]\n",
       "  A 0.0000000 0.0000000\n",
       "  B 0.3333333 0.5163978\n",
       "\n",
       "   one\n",
       "Y        [,1]      [,2]\n",
       "  A 0.4000000 0.8944272\n",
       "  B 0.1666667 0.4082483\n",
       "\n",
       "   sought\n",
       "Y        [,1]      [,2]\n",
       "  A 0.2000000 0.4472136\n",
       "  B 0.1666667 0.4082483\n",
       "\n",
       "   stood\n",
       "Y   [,1]      [,2]\n",
       "  A  0.4 0.5477226\n",
       "  B  0.0 0.0000000\n",
       "\n",
       "   tap\n",
       "Y        [,1]      [,2]\n",
       "  A 0.0000000 0.0000000\n",
       "  B 0.3333333 0.5163978\n",
       "\n",
       "   thought\n",
       "Y   [,1]      [,2]\n",
       "  A  0.4 0.5477226\n",
       "  B  0.0 0.0000000\n",
       "\n",
       "   upon\n",
       "Y        [,1]      [,2]\n",
       "  A 0.0000000 0.0000000\n",
       "  B 0.3333333 0.5163978\n",
       "\n",
       "   vorpal\n",
       "Y   [,1]      [,2]\n",
       "  A  0.4 0.5477226\n",
       "  B  0.0 0.0000000\n"
      ]
     },
     "metadata": {},
     "output_type": "display_data"
    }
   ],
   "source": [
    "model = naiveBayes(class ~ ., plain_var_names(data.tc)) # the plain_var_names function adjusts column names that include space characters\n",
    "model"
   ]
  },
  {
   "cell_type": "markdown",
   "metadata": {},
   "source": [
    "### Prediction"
   ]
  },
  {
   "cell_type": "markdown",
   "metadata": {},
   "source": [
    "#### Simplify the Text\n",
    "\n",
    "Simplify the new observation's text."
   ]
  },
  {
   "cell_type": "code",
   "execution_count": 16,
   "metadata": {
    "hide_input": true
   },
   "outputs": [
    {
     "data": {
      "text/html": [
       "<table>\n",
       "<thead><tr><th scope=col>V1</th></tr></thead>\n",
       "<tbody>\n",
       "\t<tr><td>one bird sought dead tree midnight thought noth busi analyt</td></tr>\n",
       "</tbody>\n",
       "</table>\n"
      ],
      "text/latex": [
       "\\begin{tabular}{r|l}\n",
       " V1\\\\\n",
       "\\hline\n",
       "\t one bird sought dead tree midnight thought noth busi analyt\\\\\n",
       "\\end{tabular}\n"
      ],
      "text/markdown": [
       "\n",
       "| V1 |\n",
       "|---|\n",
       "| one bird sought dead tree midnight thought noth busi analyt |\n",
       "\n"
      ],
      "text/plain": [
       "  V1                                                         \n",
       "1 one bird sought dead tree midnight thought noth busi analyt"
      ]
     },
     "metadata": {},
     "output_type": "display_data"
    }
   ],
   "source": [
    "corpus = VCorpus(VectorSource(new$V1))\n",
    "corpus = tm_map(corpus, content_transformer(tolower))\n",
    "corpus = tm_map(corpus, removeNumbers)\n",
    "corpus = tm_map(corpus, removePunctuation, ucp=TRUE)\n",
    "corpus = tm_map(corpus, removeSpecialChars, chars=\"’“”—\")\n",
    "corpus = tm_map(corpus, removeWords, stopwords(\"english\")) # uses dictionary of English stopwords\n",
    "corpus = tm_map(corpus, stemDocument, \"english\")\n",
    "corpus = tm_map(corpus, stripWhitespace)\n",
    "\n",
    "as.data.frame.content(corpus)"
   ]
  },
  {
   "cell_type": "markdown",
   "metadata": {},
   "source": [
    "#### Document-Term Matrix \n",
    "\n",
    "Represent the new observation as a document-term matrix."
   ]
  },
  {
   "cell_type": "code",
   "execution_count": 17,
   "metadata": {
    "hide_input": true
   },
   "outputs": [
    {
     "data": {
      "text/html": [
       "<table>\n",
       "<thead><tr><th scope=col>observations</th><th scope=col>variables</th></tr></thead>\n",
       "<tbody>\n",
       "\t<tr><td>1 </td><td>19</td></tr>\n",
       "</tbody>\n",
       "</table>\n"
      ],
      "text/latex": [
       "\\begin{tabular}{r|ll}\n",
       " observations & variables\\\\\n",
       "\\hline\n",
       "\t 1  & 19\\\\\n",
       "\\end{tabular}\n"
      ],
      "text/markdown": [
       "\n",
       "| observations | variables |\n",
       "|---|---|\n",
       "| 1  | 19 |\n",
       "\n"
      ],
      "text/plain": [
       "  observations variables\n",
       "1 1            19       "
      ]
     },
     "metadata": {},
     "output_type": "display_data"
    },
    {
     "data": {
      "text/html": [
       "<table>\n",
       "<thead><tr><th scope=col>analyt</th><th scope=col>bird</th><th scope=col>bird sought</th><th scope=col>busi</th><th scope=col>busi analyt</th><th scope=col>dead</th><th scope=col>dead tree</th><th scope=col>midnight</th><th scope=col>midnight thought</th><th scope=col>noth</th><th scope=col>noth busi</th><th scope=col>one</th><th scope=col>one bird</th><th scope=col>sought</th><th scope=col>sought dead</th><th scope=col>thought</th><th scope=col>thought noth</th><th scope=col>tree</th><th scope=col>tree midnight</th></tr></thead>\n",
       "<tbody>\n",
       "\t<tr><td>1</td><td>1</td><td>1</td><td>1</td><td>1</td><td>1</td><td>1</td><td>1</td><td>1</td><td>1</td><td>1</td><td>1</td><td>1</td><td>1</td><td>1</td><td>1</td><td>1</td><td>1</td><td>1</td></tr>\n",
       "</tbody>\n",
       "</table>\n"
      ],
      "text/latex": [
       "\\begin{tabular}{r|lllllllllllllllllll}\n",
       " analyt & bird & bird sought & busi & busi analyt & dead & dead tree & midnight & midnight thought & noth & noth busi & one & one bird & sought & sought dead & thought & thought noth & tree & tree midnight\\\\\n",
       "\\hline\n",
       "\t 1 & 1 & 1 & 1 & 1 & 1 & 1 & 1 & 1 & 1 & 1 & 1 & 1 & 1 & 1 & 1 & 1 & 1 & 1\\\\\n",
       "\\end{tabular}\n"
      ],
      "text/markdown": [
       "\n",
       "| analyt | bird | bird sought | busi | busi analyt | dead | dead tree | midnight | midnight thought | noth | noth busi | one | one bird | sought | sought dead | thought | thought noth | tree | tree midnight |\n",
       "|---|---|---|---|---|---|---|---|---|---|---|---|---|---|---|---|---|---|---|\n",
       "| 1 | 1 | 1 | 1 | 1 | 1 | 1 | 1 | 1 | 1 | 1 | 1 | 1 | 1 | 1 | 1 | 1 | 1 | 1 |\n",
       "\n"
      ],
      "text/plain": [
       "  analyt bird bird sought busi busi analyt dead dead tree midnight\n",
       "1 1      1    1           1    1           1    1         1       \n",
       "  midnight thought noth noth busi one one bird sought sought dead thought\n",
       "1 1                1    1         1   1        1      1           1      \n",
       "  thought noth tree tree midnight\n",
       "1 1            1    1            "
      ]
     },
     "metadata": {},
     "output_type": "display_data"
    }
   ],
   "source": [
    "dtm = DocumentTermMatrix(corpus, control=list(tokenize=unibigrams))\n",
    "new.t = as.data.frame(as.matrix(dtm))\n",
    "\n",
    "size(new.t)\n",
    "new.t"
   ]
  },
  {
   "cell_type": "markdown",
   "metadata": {},
   "source": [
    "#### Make Columns Agree \n",
    "\n",
    "Add and/or remove columns of the new observation's document-term matrix so that they align with the corpus' document-term matrix.\n",
    "\n",
    "Remove columns as necessary.  Add columns with 0 values as necessary."
   ]
  },
  {
   "cell_type": "code",
   "execution_count": 18,
   "metadata": {
    "hide_input": true,
    "scrolled": false
   },
   "outputs": [
    {
     "data": {
      "text/html": [
       "<table>\n",
       "<thead><tr><th scope=col>observations</th><th scope=col>variables</th></tr></thead>\n",
       "<tbody>\n",
       "\t<tr><td>1 </td><td>13</td></tr>\n",
       "</tbody>\n",
       "</table>\n"
      ],
      "text/latex": [
       "\\begin{tabular}{r|ll}\n",
       " observations & variables\\\\\n",
       "\\hline\n",
       "\t 1  & 13\\\\\n",
       "\\end{tabular}\n"
      ],
      "text/markdown": [
       "\n",
       "| observations | variables |\n",
       "|---|---|\n",
       "| 1  | 13 |\n",
       "\n"
      ],
      "text/plain": [
       "  observations variables\n",
       "1 1            13       "
      ]
     },
     "metadata": {},
     "output_type": "display_data"
    },
    {
     "data": {
      "text/html": [
       "<table>\n",
       "<thead><tr><th scope=col>came</th><th scope=col>chamber</th><th scope=col>chamber door</th><th scope=col>door</th><th scope=col>jabberwock</th><th scope=col>lenor</th><th scope=col>one</th><th scope=col>sought</th><th scope=col>stood</th><th scope=col>tap</th><th scope=col>thought</th><th scope=col>upon</th><th scope=col>vorpal</th></tr></thead>\n",
       "<tbody>\n",
       "\t<tr><td>0</td><td>0</td><td>0</td><td>0</td><td>0</td><td>0</td><td>1</td><td>1</td><td>0</td><td>0</td><td>1</td><td>0</td><td>0</td></tr>\n",
       "</tbody>\n",
       "</table>\n"
      ],
      "text/latex": [
       "\\begin{tabular}{r|lllllllllllll}\n",
       " came & chamber & chamber door & door & jabberwock & lenor & one & sought & stood & tap & thought & upon & vorpal\\\\\n",
       "\\hline\n",
       "\t 0 & 0 & 0 & 0 & 0 & 0 & 1 & 1 & 0 & 0 & 1 & 0 & 0\\\\\n",
       "\\end{tabular}\n"
      ],
      "text/markdown": [
       "\n",
       "| came | chamber | chamber door | door | jabberwock | lenor | one | sought | stood | tap | thought | upon | vorpal |\n",
       "|---|---|---|---|---|---|---|---|---|---|---|---|---|\n",
       "| 0 | 0 | 0 | 0 | 0 | 0 | 1 | 1 | 0 | 0 | 1 | 0 | 0 |\n",
       "\n"
      ],
      "text/plain": [
       "  came chamber chamber door door jabberwock lenor one sought stood tap thought\n",
       "1 0    0       0            0    0          0     1   1      0     0   1      \n",
       "  upon vorpal\n",
       "1 0    0     "
      ]
     },
     "metadata": {},
     "output_type": "display_data"
    }
   ],
   "source": [
    "new.tr = make_columns_agree(new.t, data.t)\n",
    "\n",
    "size(new.tr)\n",
    "new.tr"
   ]
  },
  {
   "cell_type": "markdown",
   "metadata": {},
   "source": [
    "#### Apply the Model\n",
    "\n",
    "Here we predict the class of the new observation, using the model and the new observation's document-term matrix."
   ]
  },
  {
   "cell_type": "code",
   "execution_count": 19,
   "metadata": {
    "hide_input": true
   },
   "outputs": [
    {
     "data": {
      "text/html": [
       "<table>\n",
       "<thead><tr><th scope=col>V1</th><th scope=col>class.predicted</th></tr></thead>\n",
       "<tbody>\n",
       "\t<tr><td>One bird sought a dead tree at midnight and thought about nothing more than business analytics.</td><td>A                                                                                              </td></tr>\n",
       "</tbody>\n",
       "</table>\n"
      ],
      "text/latex": [
       "\\begin{tabular}{r|ll}\n",
       " V1 & class.predicted\\\\\n",
       "\\hline\n",
       "\t One bird sought a dead tree at midnight and thought about nothing more than business analytics. & A                                                                                              \\\\\n",
       "\\end{tabular}\n"
      ],
      "text/markdown": [
       "\n",
       "| V1 | class.predicted |\n",
       "|---|---|\n",
       "| One bird sought a dead tree at midnight and thought about nothing more than business analytics. | A                                                                                               |\n",
       "\n"
      ],
      "text/plain": [
       "  V1                                                                                             \n",
       "1 One bird sought a dead tree at midnight and thought about nothing more than business analytics.\n",
       "  class.predicted\n",
       "1 A              "
      ]
     },
     "metadata": {},
     "output_type": "display_data"
    }
   ],
   "source": [
    "prob = predict(model, plain_var_names(new.tr), type=\"raw\")\n",
    "class.predicted = as.class(prob, \"A\", cutoff=0.5)\n",
    "\n",
    "data.frame(new, class.predicted)"
   ]
  },
  {
   "cell_type": "markdown",
   "metadata": {},
   "source": [
    "## Code"
   ]
  },
  {
   "cell_type": "markdown",
   "metadata": {},
   "source": [
    "### Useful Functions"
   ]
  },
  {
   "cell_type": "code",
   "execution_count": 20,
   "metadata": {},
   "outputs": [],
   "source": [
    "# removeSpecialChars       # from setup.R\n",
    "# as.data.frame.content    # from setup.R\n",
    "# unibigrams               # from setup.R\n",
    "# plain_var_names          # from setup.R\n",
    "# make_columns_agree       # from setup.R\n",
    "\n",
    "# help(tm_map)             # from tm library\n",
    "# help(VCorpus)            # from tm library\n",
    "# help(VectorSource)       # from tm library\n",
    "# help(DocumentTermMatrix) # from tm library"
   ]
  },
  {
   "cell_type": "markdown",
   "metadata": {},
   "source": [
    "## Expectations\n",
    "\n",
    "Know about this:\n",
    "* Convert a corpus in one-column table form to document-term matrix form, conceptually and using R.\n",
    "* Build a model and make predictions based on text data, conceptually and using R."
   ]
  },
  {
   "cell_type": "markdown",
   "metadata": {},
   "source": [
    "## Further Reading\n",
    "\n",
    "* http://www-stat.wharton.upenn.edu/~stine/mich/index.html#textanalytics\n",
    "* http://www-stat.wharton.upenn.edu/~stine/mich/DM_10.pdf\n",
    "* http://www.sthda.com/english/wiki/text-mining-and-word-cloud-fundamentals-in-r-5-simple-steps-you-should-know\n",
    "* https://www.r-bloggers.com/building-wordclouds-in-r/"
   ]
  },
  {
   "cell_type": "markdown",
   "metadata": {},
   "source": [
    "<p style=\"text-align:left; font-size:10px;\">\n",
    "Copyright (c) Berkeley Data Analytics Group, LLC\n",
    "<span style=\"float:right;\">\n",
    "Document revised July 17, 2020\n",
    "</span>\n",
    "</p>"
   ]
  }
 ],
 "metadata": {
  "hide_code_all_hidden": false,
  "hide_input": false,
  "kernelspec": {
   "display_name": "R",
   "language": "R",
   "name": "ir"
  },
  "language_info": {
   "codemirror_mode": "r",
   "file_extension": ".r",
   "mimetype": "text/x-r-source",
   "name": "R",
   "pygments_lexer": "r",
   "version": "3.6.1"
  },
  "toc": {
   "base_numbering": 1,
   "nav_menu": {},
   "number_sections": true,
   "sideBar": true,
   "skip_h1_title": true,
   "title_cell": "Table of Contents",
   "title_sidebar": "Contents",
   "toc_cell": false,
   "toc_position": {},
   "toc_section_display": true,
   "toc_window_display": false
  }
 },
 "nbformat": 4,
 "nbformat_minor": 2
}
