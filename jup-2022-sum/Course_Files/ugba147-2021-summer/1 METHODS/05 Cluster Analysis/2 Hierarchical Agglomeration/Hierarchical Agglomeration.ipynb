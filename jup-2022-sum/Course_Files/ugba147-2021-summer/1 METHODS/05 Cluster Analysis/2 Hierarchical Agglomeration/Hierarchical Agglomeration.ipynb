{
 "cells": [
  {
   "cell_type": "markdown",
   "metadata": {
    "hideCode": false,
    "hidePrompt": false,
    "hide_input": true
   },
   "source": [
    "# Hierarchical Agglomeration\n",
    "![](banner_ha.jpg)"
   ]
  },
  {
   "cell_type": "code",
   "execution_count": 1,
   "metadata": {
    "hide_input": true,
    "scrolled": true
   },
   "outputs": [
    {
     "data": {
      "text/html": [
       "<p style=\"text-align:center; font-size:10px;\">\n",
       ".................................................... start of document ....................................................\n",
       "</p>"
      ]
     },
     "metadata": {},
     "output_type": "display_data"
    }
   ],
   "source": [
    "f = \"setup.R\"; for (i in 1:10) { if (file.exists(f)) break else f = paste0(\"../\", f) }; source(f)\n",
    "                                \n",
    "update_geom_defaults(\"point\", list(size=6, colour=\"grey40\"))\n",
    "update_geom_defaults(\"text\", list(hjust=0.4, vjust=0.4, colour=\"white\"))"
   ]
  },
  {
   "cell_type": "markdown",
   "metadata": {},
   "source": [
    "Hierarchical agglomeration is a cluster analysis method to organize data into distinct classes."
   ]
  },
  {
   "cell_type": "markdown",
   "metadata": {},
   "source": [
    "## Introduction\n",
    "\n",
    "As soap bubbles float around in the air, a few touch each other and combine into larger soap bubbles.  Sometime later, those soap bubbles touch yet others to combine further.  Eventually, the number of soap bubbles decreases while the sizes of the combined soap bubbles increases.  We're left with just a few groups of soap bubbles.\n",
    "\n",
    "You can think of hierarchical agglomeration as combining soap bubbles or as forming clubs.  Imagine several people with various interests in the community are looking to form social clubs.  Ilene and Ishaan are very interested in investing, so they form an investment club.  Ethan and Ebru are very interested in starting companies, so they form an entrepreneurship club.  Saahil is interested in investing, starting a company, and international trade, but is most interested in investing, so he joins the investment club.  Argenis is only a little interested in either investing or starting a company, but she is very interested in international trade.  Since Saahil, who likes international trade, is in the investment club, Argenis joins him in the investment club.  Eventually, memberships in the investment club and entrepreneurship club stablize, but each club would like a larger membership, so they merge with each other to form a business club.  People in the business club don't all have really similar interests like they did back when they were in the investment club and entrepreneurship club, but still somewhat similar, at least as compared to how similar they'd be to people in other clubs.  In this way, people organize themselves into satisfying groups.\n",
    "\n",
    "Not set .."
   ]
  },
  {
   "cell_type": "markdown",
   "metadata": {},
   "source": [
    "## Lesson Plan"
   ]
  },
  {
   "cell_type": "markdown",
   "metadata": {},
   "source": [
    "## Terminology\n",
    "\n",
    "Here are some new terms that we will use in our discourse."
   ]
  },
  {
   "cell_type": "markdown",
   "metadata": {},
   "source": [
    "* Hierachical agglomeration\n",
    "* Dissimilarity measure\n",
    "* Dissimilarity matrix\n",
    "* Cluster linkage\n",
    "* Dendrogram\n",
    "* Cutline"
   ]
  },
  {
   "cell_type": "markdown",
   "metadata": {},
   "source": [
    "## Demonstration of Method\n",
    "\n",
    "Here is a demonstration of the hierarchical agglomeration method."
   ]
  },
  {
   "cell_type": "markdown",
   "metadata": {},
   "source": [
    "### Data\n",
    "\n",
    "Consider this pedgogical 2-variable, 6-observation dataset.  The observation numbers are shown."
   ]
  },
  {
   "cell_type": "code",
   "execution_count": 6,
   "metadata": {
    "hide_input": true,
    "scrolled": false
   },
   "outputs": [
    {
     "data": {
      "text/html": [
       "<table style=\"white-space: nowrap;\">\n",
       "<caption><center><font color=\"black\"><b>data</b></font></center></caption>\n",
       " <thead>\n",
       "  <tr>\n",
       "   <th style=\"text-align:left;background-color: #FFFFFF !important;\">   </th>\n",
       "   <th style=\"text-align:right;background-color: #FFFFFF !important;\"> x1 </th>\n",
       "   <th style=\"text-align:right;background-color: #FFFFFF !important;\"> x2 </th>\n",
       "  </tr>\n",
       " </thead>\n",
       "<tbody>\n",
       "  <tr>\n",
       "   <td style=\"text-align:left;font-weight: bold;\"> 1 </td>\n",
       "   <td style=\"text-align:right;\"> 2 </td>\n",
       "   <td style=\"text-align:right;\"> 1 </td>\n",
       "  </tr>\n",
       "  <tr>\n",
       "   <td style=\"text-align:left;font-weight: bold;\"> 2 </td>\n",
       "   <td style=\"text-align:right;\"> 2 </td>\n",
       "   <td style=\"text-align:right;\"> 4 </td>\n",
       "  </tr>\n",
       "  <tr>\n",
       "   <td style=\"text-align:left;font-weight: bold;\"> 3 </td>\n",
       "   <td style=\"text-align:right;\"> 3 </td>\n",
       "   <td style=\"text-align:right;\"> 4 </td>\n",
       "  </tr>\n",
       "  <tr>\n",
       "   <td style=\"text-align:left;font-weight: bold;\"> 4 </td>\n",
       "   <td style=\"text-align:right;\"> 5 </td>\n",
       "   <td style=\"text-align:right;\"> 4 </td>\n",
       "  </tr>\n",
       "  <tr>\n",
       "   <td style=\"text-align:left;font-weight: bold;\"> 5 </td>\n",
       "   <td style=\"text-align:right;\"> 10 </td>\n",
       "   <td style=\"text-align:right;\"> 4 </td>\n",
       "  </tr>\n",
       "  <tr>\n",
       "   <td style=\"text-align:left;font-weight: bold;\"> 6 </td>\n",
       "   <td style=\"text-align:right;\"> 12 </td>\n",
       "   <td style=\"text-align:right;\"> 4 </td>\n",
       "  </tr>\n",
       "</tbody>\n",
       "</table>"
      ]
     },
     "metadata": {},
     "output_type": "display_data"
    }
   ],
   "source": [
    "datax = data.frame(x1=c(2, 2, 3, 5, 10, 12), x2=c(1, 4, 4, 4, 4, 4))\n",
    "data = datax\n",
    "fmt(data, row.names=TRUE)"
   ]
  },
  {
   "cell_type": "markdown",
   "metadata": {},
   "source": [
    "### Hyperparameters\n",
    "\n",
    "We choose to characterize dissimilarity between any pair of obervations as Euclidean distance, and between any pair of clusters as Euclidean distance between their centroids.\n",
    "\n",
    "* **How to measure observation dissimilarity:** Euclidean distance\n",
    "* **How to measure cluster dissimilarity:** Euclidean distance with centroid linkage"
   ]
  },
  {
   "cell_type": "markdown",
   "metadata": {},
   "source": [
    "### Initial State\n",
    "\n",
    "Establish a record of observations from the datatset, determine the dissimilarity between each pair of observations, and identify the least dissimilar (most similar) one pair of observations.\n",
    "\n",
    "Here we see that the pair of observations 1 and 2 is the least dissimilar at 1.0."
   ]
  },
  {
   "cell_type": "code",
   "execution_count": 5,
   "metadata": {
    "hide_input": true,
    "scrolled": false
   },
   "outputs": [
    {
     "data": {
      "image/png": "[encoded data removed]",
      "text/plain": [
       "plot without title"
      ]
     },
     "metadata": {
      "image/png": {
       "height": 300,
       "width": 720
      },
      "text/plain": {
       "height": 300,
       "width": 720
      }
     },
     "output_type": "display_data"
    }
   ],
   "source": [
    "output_size(6,2.5)\n",
    "ggplot(datax) + xlim(0,13) + ylim(0, 5) +\n",
    "geom_point(aes(x=x1, y=x2)) +\n",
    "geom_text(aes(x=x1, y=x2, label=seq(1,6)))"
   ]
  },
  {
   "cell_type": "code",
   "execution_count": 4,
   "metadata": {
    "hide_input": true,
    "scrolled": true
   },
   "outputs": [
    {
     "data": {
      "text/html": [
       "<table><tr><td style=\"background-color:white; vertical-align:top; padding-right:40px;\"><table>\n",
       "<caption><center><font color=\"black\"><b>data</b></font></center></caption>\n",
       " <thead>\n",
       "  <tr>\n",
       "   <th style=\"text-align:left;background-color: #FFFFFF !important;\">   </th>\n",
       "   <th style=\"text-align:right;background-color: #FFFFFF !important;\"> x1 </th>\n",
       "   <th style=\"text-align:right;background-color: #FFFFFF !important;\"> x2 </th>\n",
       "  </tr>\n",
       " </thead>\n",
       "<tbody>\n",
       "  <tr>\n",
       "   <td style=\"text-align:left;font-weight: bold;\"> 1 </td>\n",
       "   <td style=\"text-align:right;\"> 2 </td>\n",
       "   <td style=\"text-align:right;\"> 1 </td>\n",
       "  </tr>\n",
       "  <tr>\n",
       "   <td style=\"text-align:left;font-weight: bold;\"> 2 </td>\n",
       "   <td style=\"text-align:right;\"> 2 </td>\n",
       "   <td style=\"text-align:right;\"> 4 </td>\n",
       "  </tr>\n",
       "  <tr>\n",
       "   <td style=\"text-align:left;font-weight: bold;\"> 3 </td>\n",
       "   <td style=\"text-align:right;\"> 3 </td>\n",
       "   <td style=\"text-align:right;\"> 4 </td>\n",
       "  </tr>\n",
       "  <tr>\n",
       "   <td style=\"text-align:left;font-weight: bold;\"> 4 </td>\n",
       "   <td style=\"text-align:right;\"> 5 </td>\n",
       "   <td style=\"text-align:right;\"> 4 </td>\n",
       "  </tr>\n",
       "  <tr>\n",
       "   <td style=\"text-align:left;font-weight: bold;\"> 5 </td>\n",
       "   <td style=\"text-align:right;\"> 10 </td>\n",
       "   <td style=\"text-align:right;\"> 4 </td>\n",
       "  </tr>\n",
       "  <tr>\n",
       "   <td style=\"text-align:left;font-weight: bold;\"> 6 </td>\n",
       "   <td style=\"text-align:right;\"> 12 </td>\n",
       "   <td style=\"text-align:right;\"> 4 </td>\n",
       "  </tr>\n",
       "</tbody>\n",
       "</table></td><td style=\"background-color:white; vertical-align:top; padding-right:40px;\"><table>\n",
       "<caption><center><font color=\"black\"><b>dissimilarity matrix</b></font></center></caption>\n",
       " <thead>\n",
       "  <tr>\n",
       "   <th style=\"text-align:left;background-color: #FFFFFF !important;\">   </th>\n",
       "   <th style=\"text-align:right;background-color: #FFFFFF !important;\"> 1 </th>\n",
       "   <th style=\"text-align:right;background-color: #FFFFFF !important;\"> 2 </th>\n",
       "   <th style=\"text-align:right;background-color: #FFFFFF !important;\"> 3 </th>\n",
       "   <th style=\"text-align:right;background-color: #FFFFFF !important;\"> 4 </th>\n",
       "   <th style=\"text-align:right;background-color: #FFFFFF !important;\"> 5 </th>\n",
       "   <th style=\"text-align:right;background-color: #FFFFFF !important;\"> 6 </th>\n",
       "  </tr>\n",
       " </thead>\n",
       "<tbody>\n",
       "  <tr>\n",
       "   <td style=\"text-align:left;font-weight: bold;\"> 1 </td>\n",
       "   <td style=\"text-align:right;\"> 0.0000 </td>\n",
       "   <td style=\"text-align:right;\"> 3.0000 </td>\n",
       "   <td style=\"text-align:right;\"> 3.1623 </td>\n",
       "   <td style=\"text-align:right;\"> 4.2426 </td>\n",
       "   <td style=\"text-align:right;\"> 8.5440 </td>\n",
       "   <td style=\"text-align:right;\"> 10.4403 </td>\n",
       "  </tr>\n",
       "  <tr>\n",
       "   <td style=\"text-align:left;font-weight: bold;\"> 2 </td>\n",
       "   <td style=\"text-align:right;\"> 3.0000 </td>\n",
       "   <td style=\"text-align:right;\"> 0.0000 </td>\n",
       "   <td style=\"text-align:right;\"> 1.0000 </td>\n",
       "   <td style=\"text-align:right;\"> 3.0000 </td>\n",
       "   <td style=\"text-align:right;\"> 8.0000 </td>\n",
       "   <td style=\"text-align:right;\"> 10.0000 </td>\n",
       "  </tr>\n",
       "  <tr>\n",
       "   <td style=\"text-align:left;font-weight: bold;\"> 3 </td>\n",
       "   <td style=\"text-align:right;\"> 3.1623 </td>\n",
       "   <td style=\"text-align:right;\"> 1.0000 </td>\n",
       "   <td style=\"text-align:right;\"> 0.0000 </td>\n",
       "   <td style=\"text-align:right;\"> 2.0000 </td>\n",
       "   <td style=\"text-align:right;\"> 7.0000 </td>\n",
       "   <td style=\"text-align:right;\"> 9.0000 </td>\n",
       "  </tr>\n",
       "  <tr>\n",
       "   <td style=\"text-align:left;font-weight: bold;\"> 4 </td>\n",
       "   <td style=\"text-align:right;\"> 4.2426 </td>\n",
       "   <td style=\"text-align:right;\"> 3.0000 </td>\n",
       "   <td style=\"text-align:right;\"> 2.0000 </td>\n",
       "   <td style=\"text-align:right;\"> 0.0000 </td>\n",
       "   <td style=\"text-align:right;\"> 5.0000 </td>\n",
       "   <td style=\"text-align:right;\"> 7.0000 </td>\n",
       "  </tr>\n",
       "  <tr>\n",
       "   <td style=\"text-align:left;font-weight: bold;\"> 5 </td>\n",
       "   <td style=\"text-align:right;\"> 8.5440 </td>\n",
       "   <td style=\"text-align:right;\"> 8.0000 </td>\n",
       "   <td style=\"text-align:right;\"> 7.0000 </td>\n",
       "   <td style=\"text-align:right;\"> 5.0000 </td>\n",
       "   <td style=\"text-align:right;\"> 0.0000 </td>\n",
       "   <td style=\"text-align:right;\"> 2.0000 </td>\n",
       "  </tr>\n",
       "  <tr>\n",
       "   <td style=\"text-align:left;font-weight: bold;\"> 6 </td>\n",
       "   <td style=\"text-align:right;\"> 10.4403 </td>\n",
       "   <td style=\"text-align:right;\"> 10.0000 </td>\n",
       "   <td style=\"text-align:right;\"> 9.0000 </td>\n",
       "   <td style=\"text-align:right;\"> 7.0000 </td>\n",
       "   <td style=\"text-align:right;\"> 2.0000 </td>\n",
       "   <td style=\"text-align:right;\"> 0.0000 </td>\n",
       "  </tr>\n",
       "</tbody>\n",
       "</table></td><td style=\"background-color:white; vertical-align:top;\"><table>\n",
       "<caption><center><font color=\"black\"><b>min</b></font></center></caption>\n",
       " <thead>\n",
       "  <tr>\n",
       "   <th style=\"text-align:right;background-color: #FFFFFF !important;\"> dissimilarity </th>\n",
       "  </tr>\n",
       " </thead>\n",
       "<tbody>\n",
       "  <tr>\n",
       "   <td style=\"text-align:right;\"> 1.0000 </td>\n",
       "  </tr>\n",
       "</tbody>\n",
       "</table></td></tr></table>"
      ]
     },
     "metadata": {},
     "output_type": "display_data"
    }
   ],
   "source": [
    "dm = dist(data, \"euclidean\", diag=TRUE)\n",
    "           \n",
    "height = c()\n",
    "height[1] = min(dm)\n",
    "          \n",
    "layout(fmt(data, row.names=TRUE),\n",
    "       fmt(fmt.dm(dm), \"dissimilarity matrix\", row.names=TRUE),\n",
    "       fmt(data.frame(dissimilarity=sprintf(\"%0.4f\", height[1])), \"min\"))"
   ]
  },
  {
   "cell_type": "markdown",
   "metadata": {},
   "source": [
    "### Agglomerate Clusters\n",
    "\n",
    "Iterate, agglomerating observations and clusters at each step.  You can interrupt the method at the step that provides you with the number of clusters you want, or you can let it go as far as it can and choose later how many clusters you want."
   ]
  },
  {
   "cell_type": "markdown",
   "metadata": {},
   "source": [
    "**Step 1**\n",
    "\n",
    "Agglomerate the least dissimilar pair of observations 1 and 2.  They don't get re-positioned, but they do get assigned to a new cluster, which we can call A.  Now update the record of observations, replacing entries for observations 1 and 2 with a new entry about cluster A, setting the variable values to reflect the cluster's centroid [x1=2.50, x2=4.00].  Then re-assess which observation-observation pair, or cluster-observation pair, is the least dissimilar.  The pair of observations 5 and 6 is the least dissimilar at 2.00.\n",
    "\n",
    "Were we to interrupt the method at this step, we would have a 5-class cluster model."
   ]
  },
  {
   "cell_type": "code",
   "execution_count": 5,
   "metadata": {
    "hide_input": true,
    "scrolled": false
   },
   "outputs": [
    {
     "data": {
      "image/png": "[encoded data removed]",
      "text/plain": [
       "plot without title"
      ]
     },
     "metadata": {
      "image/png": {
       "height": 300,
       "width": 720
      },
      "text/plain": {
       "height": 300,
       "width": 720
      }
     },
     "output_type": "display_data"
    }
   ],
   "source": [
    "output_size(6,2.5)\n",
    "ggplot(datax) +xlim(0,13) + ylim(0, 5) +\n",
    "geom_rect(xmin=1.5, xmax=3.5, ymin=3.5, ymax=4.5, color=\"black\", fill=PALETTE[1], alpha=0.05) +\n",
    "geom_point(aes(x=x1, y=x2)) +\n",
    "geom_text(aes(x=x1, y=x2, label=seq(1,6)))"
   ]
  },
  {
   "cell_type": "code",
   "execution_count": 6,
   "metadata": {
    "hide_input": true,
    "scrolled": true
   },
   "outputs": [
    {
     "data": {
      "text/html": [
       "<table><tr><td style=\"background-color:white; vertical-align:top; padding-right:40px;\"><table>\n",
       "<caption><center><font color=\"black\"><b>data</b></font></center></caption>\n",
       " <thead>\n",
       "  <tr>\n",
       "   <th style=\"text-align:left;background-color: #FFFFFF !important;\">   </th>\n",
       "   <th style=\"text-align:right;background-color: #FFFFFF !important;\"> x1 </th>\n",
       "   <th style=\"text-align:right;background-color: #FFFFFF !important;\"> x2 </th>\n",
       "  </tr>\n",
       " </thead>\n",
       "<tbody>\n",
       "  <tr>\n",
       "   <td style=\"text-align:left;font-weight: bold;\"> 1 </td>\n",
       "   <td style=\"text-align:right;\"> 2.0 </td>\n",
       "   <td style=\"text-align:right;\"> 1 </td>\n",
       "  </tr>\n",
       "  <tr>\n",
       "   <td style=\"text-align:left;font-weight: bold;\"> 4 </td>\n",
       "   <td style=\"text-align:right;\"> 5.0 </td>\n",
       "   <td style=\"text-align:right;\"> 4 </td>\n",
       "  </tr>\n",
       "  <tr>\n",
       "   <td style=\"text-align:left;font-weight: bold;\"> 5 </td>\n",
       "   <td style=\"text-align:right;\"> 10.0 </td>\n",
       "   <td style=\"text-align:right;\"> 4 </td>\n",
       "  </tr>\n",
       "  <tr>\n",
       "   <td style=\"text-align:left;font-weight: bold;\"> 6 </td>\n",
       "   <td style=\"text-align:right;\"> 12.0 </td>\n",
       "   <td style=\"text-align:right;\"> 4 </td>\n",
       "  </tr>\n",
       "  <tr>\n",
       "   <td style=\"text-align:left;font-weight: bold;\"> A </td>\n",
       "   <td style=\"text-align:right;\"> 2.5 </td>\n",
       "   <td style=\"text-align:right;\"> 4 </td>\n",
       "  </tr>\n",
       "</tbody>\n",
       "</table></td><td style=\"background-color:white; vertical-align:top; padding-right:40px;\"><table>\n",
       "<caption><center><font color=\"black\"><b>dissimilarity matrix</b></font></center></caption>\n",
       " <thead>\n",
       "  <tr>\n",
       "   <th style=\"text-align:left;background-color: #FFFFFF !important;\">   </th>\n",
       "   <th style=\"text-align:right;background-color: #FFFFFF !important;\"> 1 </th>\n",
       "   <th style=\"text-align:right;background-color: #FFFFFF !important;\"> 4 </th>\n",
       "   <th style=\"text-align:right;background-color: #FFFFFF !important;\"> 5 </th>\n",
       "   <th style=\"text-align:right;background-color: #FFFFFF !important;\"> 6 </th>\n",
       "   <th style=\"text-align:right;background-color: #FFFFFF !important;\"> A </th>\n",
       "  </tr>\n",
       " </thead>\n",
       "<tbody>\n",
       "  <tr>\n",
       "   <td style=\"text-align:left;font-weight: bold;\"> 1 </td>\n",
       "   <td style=\"text-align:right;\"> 0.0000 </td>\n",
       "   <td style=\"text-align:right;\"> 4.2426 </td>\n",
       "   <td style=\"text-align:right;\"> 8.5440 </td>\n",
       "   <td style=\"text-align:right;\"> 10.4403 </td>\n",
       "   <td style=\"text-align:right;\"> 3.0414 </td>\n",
       "  </tr>\n",
       "  <tr>\n",
       "   <td style=\"text-align:left;font-weight: bold;\"> 4 </td>\n",
       "   <td style=\"text-align:right;\"> 4.2426 </td>\n",
       "   <td style=\"text-align:right;\"> 0.0000 </td>\n",
       "   <td style=\"text-align:right;\"> 5.0000 </td>\n",
       "   <td style=\"text-align:right;\"> 7.0000 </td>\n",
       "   <td style=\"text-align:right;\"> 2.5000 </td>\n",
       "  </tr>\n",
       "  <tr>\n",
       "   <td style=\"text-align:left;font-weight: bold;\"> 5 </td>\n",
       "   <td style=\"text-align:right;\"> 8.5440 </td>\n",
       "   <td style=\"text-align:right;\"> 5.0000 </td>\n",
       "   <td style=\"text-align:right;\"> 0.0000 </td>\n",
       "   <td style=\"text-align:right;\"> 2.0000 </td>\n",
       "   <td style=\"text-align:right;\"> 7.5000 </td>\n",
       "  </tr>\n",
       "  <tr>\n",
       "   <td style=\"text-align:left;font-weight: bold;\"> 6 </td>\n",
       "   <td style=\"text-align:right;\"> 10.4403 </td>\n",
       "   <td style=\"text-align:right;\"> 7.0000 </td>\n",
       "   <td style=\"text-align:right;\"> 2.0000 </td>\n",
       "   <td style=\"text-align:right;\"> 0.0000 </td>\n",
       "   <td style=\"text-align:right;\"> 9.5000 </td>\n",
       "  </tr>\n",
       "  <tr>\n",
       "   <td style=\"text-align:left;font-weight: bold;\"> A </td>\n",
       "   <td style=\"text-align:right;\"> 3.0414 </td>\n",
       "   <td style=\"text-align:right;\"> 2.5000 </td>\n",
       "   <td style=\"text-align:right;\"> 7.5000 </td>\n",
       "   <td style=\"text-align:right;\"> 9.5000 </td>\n",
       "   <td style=\"text-align:right;\"> 0.0000 </td>\n",
       "  </tr>\n",
       "</tbody>\n",
       "</table></td><td style=\"background-color:white; vertical-align:top;\"><table>\n",
       "<caption><center><font color=\"black\"><b>min</b></font></center></caption>\n",
       " <thead>\n",
       "  <tr>\n",
       "   <th style=\"text-align:right;background-color: #FFFFFF !important;\"> dissimilarity </th>\n",
       "  </tr>\n",
       " </thead>\n",
       "<tbody>\n",
       "  <tr>\n",
       "   <td style=\"text-align:right;\"> 2.0000 </td>\n",
       "  </tr>\n",
       "</tbody>\n",
       "</table></td></tr></table>"
      ]
     },
     "metadata": {},
     "output_type": "display_data"
    }
   ],
   "source": [
    "data = rbind(data[setdiff(row.names(data), c(\"2\",\"3\")),],\n",
    "             data.frame(x1=mean(datax[c(\"2\",\"3\"),\"x1\"]), x2=mean(datax[c(\"2\",\"3\"),\"x2\"])))\n",
    "row.names(data)[nrow(data)] = \"A\"\n",
    "\n",
    "dm = dist(data, \"euclidean\", diag=TRUE)\n",
    "height[2] = min(dm)\n",
    "          \n",
    "layout(fmt(data, row.names=TRUE),\n",
    "       fmt(fmt.dm(dm), \"dissimilarity matrix\", row.names=TRUE),\n",
    "       fmt(data.frame(dissimilarity=sprintf(\"%0.4f\", height[2])), \"min\"))"
   ]
  },
  {
   "cell_type": "markdown",
   "metadata": {},
   "source": [
    "**Step 2**\n",
    "\n",
    "Agglomerate the re-assessed least dissimilar pair, observations 5 and 6, and assign to a new cluster, which we can call B.  Update the record by replacing entries for observations 5 and 6 with a new entry about cluster B, setting the variable values to its centroid [x1=11.00, x2=4.00].  Re-assess dissimilarities to find that observation 4 and cluster A have become the least dissimilar pair.  Their dissimilarity is calculated as the Euclidean distance between cluster A's centroid [x1=2.50, x2=4.00] and observation 4 [x1=5.00, x2=4.00], which is 2.50.\n",
    "\n",
    "Were we to interrupt the method at this step, we would have a 4-class cluster model."
   ]
  },
  {
   "cell_type": "code",
   "execution_count": 7,
   "metadata": {
    "hide_input": true,
    "scrolled": true
   },
   "outputs": [
    {
     "data": {
      "image/png": "[encoded data removed]",
      "text/plain": [
       "plot without title"
      ]
     },
     "metadata": {
      "image/png": {
       "height": 300,
       "width": 720
      },
      "text/plain": {
       "height": 300,
       "width": 720
      }
     },
     "output_type": "display_data"
    }
   ],
   "source": [
    "output_size(6,2.5)\n",
    "ggplot(datax) +xlim(0,13) + ylim(0, 5) +\n",
    "geom_rect(xmin=1.5, xmax=3.5,  ymin=3.5, ymax=4.5, color=\"black\", fill=PALETTE[1], alpha=0.05) +\n",
    "geom_rect(xmin=9.5, xmax=12.5, ymin=3.5, ymax=4.5, color=\"black\", fill=PALETTE[2], alpha=0.05) +\n",
    "geom_point(aes(x=x1, y=x2)) +\n",
    "geom_text(aes(x=x1, y=x2, label=seq(1,6)))"
   ]
  },
  {
   "cell_type": "code",
   "execution_count": 8,
   "metadata": {
    "hide_input": true,
    "scrolled": true
   },
   "outputs": [
    {
     "data": {
      "text/html": [
       "<table><tr><td style=\"background-color:white; vertical-align:top; padding-right:40px;\"><table>\n",
       "<caption><center><font color=\"black\"><b>data</b></font></center></caption>\n",
       " <thead>\n",
       "  <tr>\n",
       "   <th style=\"text-align:left;background-color: #FFFFFF !important;\">   </th>\n",
       "   <th style=\"text-align:right;background-color: #FFFFFF !important;\"> x1 </th>\n",
       "   <th style=\"text-align:right;background-color: #FFFFFF !important;\"> x2 </th>\n",
       "  </tr>\n",
       " </thead>\n",
       "<tbody>\n",
       "  <tr>\n",
       "   <td style=\"text-align:left;font-weight: bold;\"> 1 </td>\n",
       "   <td style=\"text-align:right;\"> 2.0 </td>\n",
       "   <td style=\"text-align:right;\"> 1 </td>\n",
       "  </tr>\n",
       "  <tr>\n",
       "   <td style=\"text-align:left;font-weight: bold;\"> 4 </td>\n",
       "   <td style=\"text-align:right;\"> 5.0 </td>\n",
       "   <td style=\"text-align:right;\"> 4 </td>\n",
       "  </tr>\n",
       "  <tr>\n",
       "   <td style=\"text-align:left;font-weight: bold;\"> A </td>\n",
       "   <td style=\"text-align:right;\"> 2.5 </td>\n",
       "   <td style=\"text-align:right;\"> 4 </td>\n",
       "  </tr>\n",
       "  <tr>\n",
       "   <td style=\"text-align:left;font-weight: bold;\"> B </td>\n",
       "   <td style=\"text-align:right;\"> 11.0 </td>\n",
       "   <td style=\"text-align:right;\"> 4 </td>\n",
       "  </tr>\n",
       "</tbody>\n",
       "</table></td><td style=\"background-color:white; vertical-align:top; padding-right:40px;\"><table>\n",
       "<caption><center><font color=\"black\"><b>dissimilarity matrix</b></font></center></caption>\n",
       " <thead>\n",
       "  <tr>\n",
       "   <th style=\"text-align:left;background-color: #FFFFFF !important;\">   </th>\n",
       "   <th style=\"text-align:right;background-color: #FFFFFF !important;\"> 1 </th>\n",
       "   <th style=\"text-align:right;background-color: #FFFFFF !important;\"> 4 </th>\n",
       "   <th style=\"text-align:right;background-color: #FFFFFF !important;\"> A </th>\n",
       "   <th style=\"text-align:right;background-color: #FFFFFF !important;\"> B </th>\n",
       "  </tr>\n",
       " </thead>\n",
       "<tbody>\n",
       "  <tr>\n",
       "   <td style=\"text-align:left;font-weight: bold;\"> 1 </td>\n",
       "   <td style=\"text-align:right;\"> 0.0000 </td>\n",
       "   <td style=\"text-align:right;\"> 4.2426 </td>\n",
       "   <td style=\"text-align:right;\"> 3.0414 </td>\n",
       "   <td style=\"text-align:right;\"> 9.4868 </td>\n",
       "  </tr>\n",
       "  <tr>\n",
       "   <td style=\"text-align:left;font-weight: bold;\"> 4 </td>\n",
       "   <td style=\"text-align:right;\"> 4.2426 </td>\n",
       "   <td style=\"text-align:right;\"> 0.0000 </td>\n",
       "   <td style=\"text-align:right;\"> 2.5000 </td>\n",
       "   <td style=\"text-align:right;\"> 6.0000 </td>\n",
       "  </tr>\n",
       "  <tr>\n",
       "   <td style=\"text-align:left;font-weight: bold;\"> A </td>\n",
       "   <td style=\"text-align:right;\"> 3.0414 </td>\n",
       "   <td style=\"text-align:right;\"> 2.5000 </td>\n",
       "   <td style=\"text-align:right;\"> 0.0000 </td>\n",
       "   <td style=\"text-align:right;\"> 8.5000 </td>\n",
       "  </tr>\n",
       "  <tr>\n",
       "   <td style=\"text-align:left;font-weight: bold;\"> B </td>\n",
       "   <td style=\"text-align:right;\"> 9.4868 </td>\n",
       "   <td style=\"text-align:right;\"> 6.0000 </td>\n",
       "   <td style=\"text-align:right;\"> 8.5000 </td>\n",
       "   <td style=\"text-align:right;\"> 0.0000 </td>\n",
       "  </tr>\n",
       "</tbody>\n",
       "</table></td><td style=\"background-color:white; vertical-align:top;\"><table>\n",
       "<caption><center><font color=\"black\"><b>min</b></font></center></caption>\n",
       " <thead>\n",
       "  <tr>\n",
       "   <th style=\"text-align:right;background-color: #FFFFFF !important;\"> dissimilarity </th>\n",
       "  </tr>\n",
       " </thead>\n",
       "<tbody>\n",
       "  <tr>\n",
       "   <td style=\"text-align:right;\"> 2.5000 </td>\n",
       "  </tr>\n",
       "</tbody>\n",
       "</table></td></tr></table>"
      ]
     },
     "metadata": {},
     "output_type": "display_data"
    }
   ],
   "source": [
    "data = rbind(data[setdiff(row.names(data), c(\"5\",\"6\")),],\n",
    "             data.frame(x1=mean(datax[c(\"5\",\"6\"),\"x1\"]), x2=mean(datax[c(\"5\",\"6\"),\"x2\"])))\n",
    "row.names(data)[nrow(data)] = \"B\"\n",
    "\n",
    "dm = dist(data, \"euclidean\", diag=TRUE)\n",
    "height[3] = min(dm)\n",
    "          \n",
    "layout(fmt(data, row.names=TRUE),\n",
    "       fmt(fmt.dm(dm), \"dissimilarity matrix\", row.names=TRUE),\n",
    "       fmt(data.frame(dissimilarity=sprintf(\"%0.4f\", height[3])), \"min\"))"
   ]
  },
  {
   "cell_type": "markdown",
   "metadata": {},
   "source": [
    "**Step 3**\n",
    "\n",
    "Agglomerate the re-assessed least dissimilar pair, cluster A and observation 4, and assign to a new cluster, which we can call C.  Update the record by replacing entries for cluster A and observation 4 with a new entry about cluster C, setting the variable values to its centroid [x1=3.33, x2=4.00]. Note that cluster C's centroid is calculated as the variable means of the observations 2, 3, and 4 assigned to it.  Re-assess dissimilarities to find that observation 1 and cluster C have become the least dissimilar pair.  Their dissimilarity is calculated as the Euclidean distance between cluster C's centroid [x1=3.33, x2=4.00] and observation 1 [x1=2.00, x2=1.00], which is 3.28.\n",
    "\n",
    "Were we to interrupt the method at this step, we would have a 3-class cluster model."
   ]
  },
  {
   "cell_type": "code",
   "execution_count": 9,
   "metadata": {
    "hide_input": true,
    "scrolled": true
   },
   "outputs": [
    {
     "data": {
      "image/png": "[encoded data removed]",
      "text/plain": [
       "plot without title"
      ]
     },
     "metadata": {
      "image/png": {
       "height": 300,
       "width": 720
      },
      "text/plain": {
       "height": 300,
       "width": 720
      }
     },
     "output_type": "display_data"
    }
   ],
   "source": [
    "output_size(6,2.5)\n",
    "ggplot(datax) +xlim(0,13) + ylim(0, 5) +\n",
    "geom_rect(xmin=1.5,  xmax=3.5,  ymin=3.5,  ymax=4.5,  color=\"black\", fill=NA) +\n",
    "geom_rect(xmin=9.5,  xmax=12.5, ymin=3.5,  ymax=4.5,  color=\"black\", fill=PALETTE[2], alpha=0.05) +\n",
    "geom_rect(xmin=1.25, xmax=5.5,  ymin=3.25, ymax=4.75, color=\"black\", fill=PALETTE[3], alpha=0.05) +\n",
    "geom_point(aes(x=x1, y=x2)) +\n",
    "geom_text(aes(x=x1, y=x2, label=seq(1,6)))"
   ]
  },
  {
   "cell_type": "code",
   "execution_count": 10,
   "metadata": {
    "hide_input": true,
    "scrolled": false
   },
   "outputs": [
    {
     "data": {
      "text/html": [
       "<table><tr><td style=\"background-color:white; vertical-align:top; padding-right:40px;\"><table>\n",
       "<caption><center><font color=\"black\"><b>data</b></font></center></caption>\n",
       " <thead>\n",
       "  <tr>\n",
       "   <th style=\"text-align:left;background-color: #FFFFFF !important;\">   </th>\n",
       "   <th style=\"text-align:right;background-color: #FFFFFF !important;\"> x1 </th>\n",
       "   <th style=\"text-align:right;background-color: #FFFFFF !important;\"> x2 </th>\n",
       "  </tr>\n",
       " </thead>\n",
       "<tbody>\n",
       "  <tr>\n",
       "   <td style=\"text-align:left;font-weight: bold;\"> 1 </td>\n",
       "   <td style=\"text-align:right;\"> 2.000000 </td>\n",
       "   <td style=\"text-align:right;\"> 1 </td>\n",
       "  </tr>\n",
       "  <tr>\n",
       "   <td style=\"text-align:left;font-weight: bold;\"> B </td>\n",
       "   <td style=\"text-align:right;\"> 11.000000 </td>\n",
       "   <td style=\"text-align:right;\"> 4 </td>\n",
       "  </tr>\n",
       "  <tr>\n",
       "   <td style=\"text-align:left;font-weight: bold;\"> C </td>\n",
       "   <td style=\"text-align:right;\"> 3.333333 </td>\n",
       "   <td style=\"text-align:right;\"> 4 </td>\n",
       "  </tr>\n",
       "</tbody>\n",
       "</table></td><td style=\"background-color:white; vertical-align:top; padding-right:40px;\"><table>\n",
       "<caption><center><font color=\"black\"><b>dissimilarity matrix</b></font></center></caption>\n",
       " <thead>\n",
       "  <tr>\n",
       "   <th style=\"text-align:left;background-color: #FFFFFF !important;\">   </th>\n",
       "   <th style=\"text-align:right;background-color: #FFFFFF !important;\"> 1 </th>\n",
       "   <th style=\"text-align:right;background-color: #FFFFFF !important;\"> B </th>\n",
       "   <th style=\"text-align:right;background-color: #FFFFFF !important;\"> C </th>\n",
       "  </tr>\n",
       " </thead>\n",
       "<tbody>\n",
       "  <tr>\n",
       "   <td style=\"text-align:left;font-weight: bold;\"> 1 </td>\n",
       "   <td style=\"text-align:right;\"> 0.0000 </td>\n",
       "   <td style=\"text-align:right;\"> 9.4868 </td>\n",
       "   <td style=\"text-align:right;\"> 3.2830 </td>\n",
       "  </tr>\n",
       "  <tr>\n",
       "   <td style=\"text-align:left;font-weight: bold;\"> B </td>\n",
       "   <td style=\"text-align:right;\"> 9.4868 </td>\n",
       "   <td style=\"text-align:right;\"> 0.0000 </td>\n",
       "   <td style=\"text-align:right;\"> 7.6667 </td>\n",
       "  </tr>\n",
       "  <tr>\n",
       "   <td style=\"text-align:left;font-weight: bold;\"> C </td>\n",
       "   <td style=\"text-align:right;\"> 3.2830 </td>\n",
       "   <td style=\"text-align:right;\"> 7.6667 </td>\n",
       "   <td style=\"text-align:right;\"> 0.0000 </td>\n",
       "  </tr>\n",
       "</tbody>\n",
       "</table></td><td style=\"background-color:white; vertical-align:top;\"><table>\n",
       "<caption><center><font color=\"black\"><b>min</b></font></center></caption>\n",
       " <thead>\n",
       "  <tr>\n",
       "   <th style=\"text-align:right;background-color: #FFFFFF !important;\"> dissimilarity </th>\n",
       "  </tr>\n",
       " </thead>\n",
       "<tbody>\n",
       "  <tr>\n",
       "   <td style=\"text-align:right;\"> 3.2830 </td>\n",
       "  </tr>\n",
       "</tbody>\n",
       "</table></td></tr></table>"
      ]
     },
     "metadata": {},
     "output_type": "display_data"
    }
   ],
   "source": [
    "data = rbind(data[setdiff(row.names(data), c(\"A\",\"4\")),],\n",
    "             data.frame(x1=mean(datax[c(\"2\",\"3\",\"4\"),\"x1\"]), x2=mean(datax[c(\"2\",\"3\",\"4\"),\"x2\"])))\n",
    "row.names(data)[nrow(data)] = \"C\"\n",
    "\n",
    "dm = dist(data, \"euclidean\", diag=TRUE)\n",
    "height[4] = min(dm)\n",
    "          \n",
    "layout(fmt(data, row.names=TRUE),\n",
    "       fmt(fmt.dm(dm), \"dissimilarity matrix\", row.names=TRUE),\n",
    "       fmt(data.frame(dissimilarity=sprintf(\"%0.4f\", height[4])), \"min\"))"
   ]
  },
  {
   "cell_type": "markdown",
   "metadata": {},
   "source": [
    "**Step 4**\n",
    "\n",
    "Agglomerate the re-assessed least dissimilar pair, cluster C and observation 1, and assign to a new cluster, which we can call D.  Update the record by replacing entries for cluster C and observation 1 with a new entry about cluster D, setting the variable values to its centroid [x1=3.00, x2=3.25]. Note that cluster D's centroid is calculated as the variable means of the observations 1, 2, 3, and 4 assigned to it.  Reassess dissimilarities to find that cluster B and cluster D have become the least dissimilar pair, actually the only pair left.  Their dissimilarity is calculated as the Euclidean distance between cluster B's centroid [x1=11.00, x2=4.00] and cluster D's centroid [x1=3.00, x2=3.25], which is 8.04.\n",
    "\n",
    "Were we to interrupt the method at this step, we would have a 2-class cluster model."
   ]
  },
  {
   "cell_type": "code",
   "execution_count": 11,
   "metadata": {
    "hide_input": true,
    "scrolled": true
   },
   "outputs": [
    {
     "data": {
      "image/png": "[encoded data removed]",
      "text/plain": [
       "plot without title"
      ]
     },
     "metadata": {
      "image/png": {
       "height": 300,
       "width": 720
      },
      "text/plain": {
       "height": 300,
       "width": 720
      }
     },
     "output_type": "display_data"
    }
   ],
   "source": [
    "output_size(6,2.5)\n",
    "ggplot(datax) +xlim(0,13) + ylim(0, 5) +\n",
    "geom_rect(xmin=1.5,  xmax=3.5,  ymin=3.5,  ymax=4.5,  color=\"black\", fill=NA) +\n",
    "geom_rect(xmin=9.5,  xmax=12.5, ymin=3.5,  ymax=4.5,  color=\"black\", fill=PALETTE[2], alpha=0.05) +\n",
    "geom_rect(xmin=1.25, xmax=5.5,  ymin=3.25, ymax=4.75, color=\"black\", fill=NA) +\n",
    "geom_rect(xmin=1,    xmax=5.75, ymin=0.5,  ymax=5,    color=\"black\", fill=PALETTE[4], alpha=0.05) +\n",
    "geom_point(aes(x=x1, y=x2)) +\n",
    "geom_text(aes(x=x1, y=x2, label=seq(1,6)))"
   ]
  },
  {
   "cell_type": "code",
   "execution_count": 12,
   "metadata": {
    "hide_input": true,
    "scrolled": true
   },
   "outputs": [
    {
     "data": {
      "text/html": [
       "<table><tr><td style=\"background-color:white; vertical-align:top; padding-right:40px;\"><table>\n",
       "<caption><center><font color=\"black\"><b>data</b></font></center></caption>\n",
       " <thead>\n",
       "  <tr>\n",
       "   <th style=\"text-align:left;background-color: #FFFFFF !important;\">   </th>\n",
       "   <th style=\"text-align:right;background-color: #FFFFFF !important;\"> x1 </th>\n",
       "   <th style=\"text-align:right;background-color: #FFFFFF !important;\"> x2 </th>\n",
       "  </tr>\n",
       " </thead>\n",
       "<tbody>\n",
       "  <tr>\n",
       "   <td style=\"text-align:left;font-weight: bold;\"> B </td>\n",
       "   <td style=\"text-align:right;\"> 11 </td>\n",
       "   <td style=\"text-align:right;\"> 4.00 </td>\n",
       "  </tr>\n",
       "  <tr>\n",
       "   <td style=\"text-align:left;font-weight: bold;\"> D </td>\n",
       "   <td style=\"text-align:right;\"> 3 </td>\n",
       "   <td style=\"text-align:right;\"> 3.25 </td>\n",
       "  </tr>\n",
       "</tbody>\n",
       "</table></td><td style=\"background-color:white; vertical-align:top; padding-right:40px;\"><table>\n",
       "<caption><center><font color=\"black\"><b>dissimilarity matrix</b></font></center></caption>\n",
       " <thead>\n",
       "  <tr>\n",
       "   <th style=\"text-align:left;background-color: #FFFFFF !important;\">   </th>\n",
       "   <th style=\"text-align:right;background-color: #FFFFFF !important;\"> B </th>\n",
       "   <th style=\"text-align:right;background-color: #FFFFFF !important;\"> D </th>\n",
       "  </tr>\n",
       " </thead>\n",
       "<tbody>\n",
       "  <tr>\n",
       "   <td style=\"text-align:left;font-weight: bold;\"> B </td>\n",
       "   <td style=\"text-align:right;\"> 0.0000 </td>\n",
       "   <td style=\"text-align:right;\"> 8.0351 </td>\n",
       "  </tr>\n",
       "  <tr>\n",
       "   <td style=\"text-align:left;font-weight: bold;\"> D </td>\n",
       "   <td style=\"text-align:right;\"> 8.0351 </td>\n",
       "   <td style=\"text-align:right;\"> 0.0000 </td>\n",
       "  </tr>\n",
       "</tbody>\n",
       "</table></td><td style=\"background-color:white; vertical-align:top;\"><table>\n",
       "<caption><center><font color=\"black\"><b>min</b></font></center></caption>\n",
       " <thead>\n",
       "  <tr>\n",
       "   <th style=\"text-align:right;background-color: #FFFFFF !important;\"> dissimilarity </th>\n",
       "  </tr>\n",
       " </thead>\n",
       "<tbody>\n",
       "  <tr>\n",
       "   <td style=\"text-align:right;\"> 8.0351 </td>\n",
       "  </tr>\n",
       "</tbody>\n",
       "</table></td></tr></table>"
      ]
     },
     "metadata": {},
     "output_type": "display_data"
    }
   ],
   "source": [
    "data = rbind(data[setdiff(row.names(data), c(\"C\",\"1\")),],\n",
    "             data.frame(x1=mean(datax[c(\"1\",\"2\",\"3\",\"4\"),\"x1\"]), x2=mean(datax[c(\"1\",\"2\",\"3\",\"4\"),\"x2\"])))\n",
    "row.names(data)[nrow(data)] = \"D\"\n",
    "\n",
    "dm = dist(data, \"euclidean\", diag=TRUE)\n",
    "height[5] = min(dm)\n",
    "          \n",
    "layout(fmt(data, row.names=TRUE),\n",
    "       fmt(fmt.dm(dm), \"dissimilarity matrix\", row.names=TRUE),\n",
    "       fmt(data.frame(dissimilarity=sprintf(\"%0.4f\", height[5])), \"min\"))"
   ]
  },
  {
   "cell_type": "markdown",
   "metadata": {},
   "source": [
    "**Step 5**\n",
    "\n",
    "At step 5, we are left with only one pair left, which we assign to a new cluster called E."
   ]
  },
  {
   "cell_type": "code",
   "execution_count": 13,
   "metadata": {
    "hide_input": true,
    "scrolled": true
   },
   "outputs": [
    {
     "data": {
      "image/png": "[encoded data removed]",
      "text/plain": [
       "plot without title"
      ]
     },
     "metadata": {
      "image/png": {
       "height": 300,
       "width": 720
      },
      "text/plain": {
       "height": 300,
       "width": 720
      }
     },
     "output_type": "display_data"
    }
   ],
   "source": [
    "output_size(6,2.5)\n",
    "ggplot(datax) +xlim(0,13) + ylim(0, 5.5) +\n",
    "geom_rect(xmin=1.5,  xmax=3.5,   ymin=3.5,  ymax=4.5,  color=\"black\", fill=NA) +\n",
    "geom_rect(xmin=9.5,  xmax=12.5,  ymin=3.5,  ymax=4.5,  color=\"black\", fill=NA) +\n",
    "geom_rect(xmin=1.25, xmax=5.5,   ymin=3.25, ymax=4.75, color=\"black\", fill=NA) +\n",
    "geom_rect(xmin=1,    xmax=5.75,  ymin=0.5,  ymax=5,    color=\"black\", fill=NA) +\n",
    "geom_rect(xmin=0.75, xmax=12.75, ymin=0.25, ymax=5.25, color=\"black\", fill=PALETTE[5], alpha=0.05) +\n",
    "geom_point(aes(x=x1, y=x2)) +\n",
    "geom_text(aes(x=x1, y=x2, label=seq(1,6)))"
   ]
  },
  {
   "cell_type": "code",
   "execution_count": 14,
   "metadata": {
    "hide_input": true
   },
   "outputs": [
    {
     "data": {
      "text/html": [
       "<table>\n",
       "<caption><center><font color=\"black\"><b>data</b></font></center></caption>\n",
       " <thead>\n",
       "  <tr>\n",
       "   <th style=\"text-align:left;background-color: #FFFFFF !important;\">   </th>\n",
       "   <th style=\"text-align:right;background-color: #FFFFFF !important;\"> x1 </th>\n",
       "   <th style=\"text-align:right;background-color: #FFFFFF !important;\"> x2 </th>\n",
       "  </tr>\n",
       " </thead>\n",
       "<tbody>\n",
       "  <tr>\n",
       "   <td style=\"text-align:left;font-weight: bold;\"> E </td>\n",
       "   <td style=\"text-align:right;\"> 5.666667 </td>\n",
       "   <td style=\"text-align:right;\"> 3.5 </td>\n",
       "  </tr>\n",
       "</tbody>\n",
       "</table>"
      ]
     },
     "metadata": {},
     "output_type": "display_data"
    }
   ],
   "source": [
    "data = rbind(data[setdiff(row.names(data), c(\"D\",\"B\")),],\n",
    "             data.frame(x1=mean(datax[c(\"1\",\"2\",\"3\",\"4\",\"5\",\"6\"),\"x1\"]), x2=mean(datax[c(\"1\",\"2\",\"3\",\"4\",\"5\",\"6\"),\"x2\"])))\n",
    "row.names(data)[nrow(data)] = \"E\"\n",
    "fmt(data, row.names=TRUE)"
   ]
  },
  {
   "cell_type": "markdown",
   "metadata": {},
   "source": [
    "## Dendrogram"
   ]
  },
  {
   "cell_type": "markdown",
   "metadata": {},
   "source": [
    "### Dedrogram Records Aggolmeration Steps"
   ]
  },
  {
   "cell_type": "code",
   "execution_count": 15,
   "metadata": {
    "hide_input": true,
    "scrolled": true
   },
   "outputs": [
    {
     "data": {
      "image/png": "[encoded data removed]",
      "text/plain": [
       "plot without title"
      ]
     },
     "metadata": {
      "image/png": {
       "height": 300,
       "width": 720
      },
      "text/plain": {
       "height": 300,
       "width": 720
      }
     },
     "output_type": "display_data"
    }
   ],
   "source": [
    "tree = hclust(dist(datax, \"euclidean\"), method=\"centroid\")\n",
    "tree$height = height # why does stats/hclust centroid produce different heights?\n",
    "ggdendrogram(tree, theme_dendro=FALSE) + xlab(\"observation #\") + ylab(\"dissimilarity\")"
   ]
  },
  {
   "cell_type": "markdown",
   "metadata": {},
   "source": [
    "### Commit Cluster Assignments"
   ]
  },
  {
   "cell_type": "code",
   "execution_count": 16,
   "metadata": {
    "hide_input": true
   },
   "outputs": [
    {
     "data": {
      "image/png": "[encoded data removed]",
      "text/plain": [
       "plot without title"
      ]
     },
     "metadata": {
      "image/png": {
       "height": 300,
       "width": 720
      },
      "text/plain": {
       "height": 300,
       "width": 720
      }
     },
     "output_type": "display_data"
    }
   ],
   "source": [
    "ggdendrogram(tree, theme_dendro=FALSE) +\n",
    "geom_hline(yintercept=6, lty=\"dashed\") +\n",
    "ggtitle(\"cutline @ dissimilarity=6\") + xlab(\"observation #\") + ylab(\"dissimilarity\")"
   ]
  },
  {
   "cell_type": "code",
   "execution_count": 17,
   "metadata": {
    "hide_input": true
   },
   "outputs": [
    {
     "data": {
      "image/png": "[encoded data removed]",
      "text/plain": [
       "plot without title"
      ]
     },
     "metadata": {
      "image/png": {
       "height": 300,
       "width": 720
      },
      "text/plain": {
       "height": 300,
       "width": 720
      }
     },
     "output_type": "display_data"
    }
   ],
   "source": [
    "ggdendrogram(tree, theme_dendro=FALSE) +\n",
    "geom_hline(yintercept=3, lty=\"dashed\") +\n",
    "ggtitle(\"cutline @ dissimilarity=3\") + xlab(\"observation #\") + ylab(\"dissimilarity\")"
   ]
  },
  {
   "cell_type": "code",
   "execution_count": 18,
   "metadata": {
    "hide_input": true
   },
   "outputs": [
    {
     "data": {
      "image/png": "[encoded data removed]",
      "text/plain": [
       "plot without title"
      ]
     },
     "metadata": {
      "image/png": {
       "height": 300,
       "width": 720
      },
      "text/plain": {
       "height": 300,
       "width": 720
      }
     },
     "output_type": "display_data"
    }
   ],
   "source": [
    "ggdendrogram(tree, theme_dendro=FALSE) +\n",
    "geom_hline(yintercept=2.25, lty=\"dashed\") +\n",
    "ggtitle(\"cutline @ dissimilarity=2.25\") + xlab(\"observation #\") + ylab(\"dissimilarity\")"
   ]
  },
  {
   "cell_type": "code",
   "execution_count": 19,
   "metadata": {
    "hide_input": true
   },
   "outputs": [
    {
     "data": {
      "text/html": [
       "<table><tr><td style=\"background-color:white; vertical-align:top; padding-right:40px;\"><table>\n",
       "<caption><center><font color=\"black\"><b>cutline @ dissimilarity=6</b></font></center></caption>\n",
       " <thead>\n",
       "  <tr>\n",
       "   <th style=\"text-align:left;background-color: #FFFFFF !important;\">   </th>\n",
       "   <th style=\"text-align:right;background-color: #FFFFFF !important;\"> x1 </th>\n",
       "   <th style=\"text-align:right;background-color: #FFFFFF !important;\"> x2 </th>\n",
       "   <th style=\"text-align:right;background-color: #FFFFFF !important;\"> cluster </th>\n",
       "  </tr>\n",
       " </thead>\n",
       "<tbody>\n",
       "  <tr>\n",
       "   <td style=\"text-align:left;font-weight: bold;\"> 1 </td>\n",
       "   <td style=\"text-align:right;\"> 2 </td>\n",
       "   <td style=\"text-align:right;\"> 1 </td>\n",
       "   <td style=\"text-align:right;\"> 1 </td>\n",
       "  </tr>\n",
       "  <tr>\n",
       "   <td style=\"text-align:left;font-weight: bold;\"> 2 </td>\n",
       "   <td style=\"text-align:right;\"> 2 </td>\n",
       "   <td style=\"text-align:right;\"> 4 </td>\n",
       "   <td style=\"text-align:right;\"> 1 </td>\n",
       "  </tr>\n",
       "  <tr>\n",
       "   <td style=\"text-align:left;font-weight: bold;\"> 3 </td>\n",
       "   <td style=\"text-align:right;\"> 3 </td>\n",
       "   <td style=\"text-align:right;\"> 4 </td>\n",
       "   <td style=\"text-align:right;\"> 1 </td>\n",
       "  </tr>\n",
       "  <tr>\n",
       "   <td style=\"text-align:left;font-weight: bold;\"> 4 </td>\n",
       "   <td style=\"text-align:right;\"> 5 </td>\n",
       "   <td style=\"text-align:right;\"> 4 </td>\n",
       "   <td style=\"text-align:right;\"> 1 </td>\n",
       "  </tr>\n",
       "  <tr>\n",
       "   <td style=\"text-align:left;font-weight: bold;\"> 5 </td>\n",
       "   <td style=\"text-align:right;\"> 10 </td>\n",
       "   <td style=\"text-align:right;\"> 4 </td>\n",
       "   <td style=\"text-align:right;\"> 2 </td>\n",
       "  </tr>\n",
       "  <tr>\n",
       "   <td style=\"text-align:left;font-weight: bold;\"> 6 </td>\n",
       "   <td style=\"text-align:right;\"> 12 </td>\n",
       "   <td style=\"text-align:right;\"> 4 </td>\n",
       "   <td style=\"text-align:right;\"> 2 </td>\n",
       "  </tr>\n",
       "</tbody>\n",
       "</table></td><td style=\"background-color:white; vertical-align:top; padding-right:40px;\"><table>\n",
       "<caption><center><font color=\"black\"><b>cutline @ dissimilarity=3</b></font></center></caption>\n",
       " <thead>\n",
       "  <tr>\n",
       "   <th style=\"text-align:left;background-color: #FFFFFF !important;\">   </th>\n",
       "   <th style=\"text-align:right;background-color: #FFFFFF !important;\"> x1 </th>\n",
       "   <th style=\"text-align:right;background-color: #FFFFFF !important;\"> x2 </th>\n",
       "   <th style=\"text-align:right;background-color: #FFFFFF !important;\"> cluster </th>\n",
       "  </tr>\n",
       " </thead>\n",
       "<tbody>\n",
       "  <tr>\n",
       "   <td style=\"text-align:left;font-weight: bold;\"> 1 </td>\n",
       "   <td style=\"text-align:right;\"> 2 </td>\n",
       "   <td style=\"text-align:right;\"> 1 </td>\n",
       "   <td style=\"text-align:right;\"> 1 </td>\n",
       "  </tr>\n",
       "  <tr>\n",
       "   <td style=\"text-align:left;font-weight: bold;\"> 2 </td>\n",
       "   <td style=\"text-align:right;\"> 2 </td>\n",
       "   <td style=\"text-align:right;\"> 4 </td>\n",
       "   <td style=\"text-align:right;\"> 2 </td>\n",
       "  </tr>\n",
       "  <tr>\n",
       "   <td style=\"text-align:left;font-weight: bold;\"> 3 </td>\n",
       "   <td style=\"text-align:right;\"> 3 </td>\n",
       "   <td style=\"text-align:right;\"> 4 </td>\n",
       "   <td style=\"text-align:right;\"> 2 </td>\n",
       "  </tr>\n",
       "  <tr>\n",
       "   <td style=\"text-align:left;font-weight: bold;\"> 4 </td>\n",
       "   <td style=\"text-align:right;\"> 5 </td>\n",
       "   <td style=\"text-align:right;\"> 4 </td>\n",
       "   <td style=\"text-align:right;\"> 2 </td>\n",
       "  </tr>\n",
       "  <tr>\n",
       "   <td style=\"text-align:left;font-weight: bold;\"> 5 </td>\n",
       "   <td style=\"text-align:right;\"> 10 </td>\n",
       "   <td style=\"text-align:right;\"> 4 </td>\n",
       "   <td style=\"text-align:right;\"> 3 </td>\n",
       "  </tr>\n",
       "  <tr>\n",
       "   <td style=\"text-align:left;font-weight: bold;\"> 6 </td>\n",
       "   <td style=\"text-align:right;\"> 12 </td>\n",
       "   <td style=\"text-align:right;\"> 4 </td>\n",
       "   <td style=\"text-align:right;\"> 3 </td>\n",
       "  </tr>\n",
       "</tbody>\n",
       "</table></td><td style=\"background-color:white; vertical-align:top;\"><table>\n",
       "<caption><center><font color=\"black\"><b>cutline @ dissimilarity=2.25</b></font></center></caption>\n",
       " <thead>\n",
       "  <tr>\n",
       "   <th style=\"text-align:left;background-color: #FFFFFF !important;\">   </th>\n",
       "   <th style=\"text-align:right;background-color: #FFFFFF !important;\"> x1 </th>\n",
       "   <th style=\"text-align:right;background-color: #FFFFFF !important;\"> x2 </th>\n",
       "   <th style=\"text-align:right;background-color: #FFFFFF !important;\"> cluster </th>\n",
       "  </tr>\n",
       " </thead>\n",
       "<tbody>\n",
       "  <tr>\n",
       "   <td style=\"text-align:left;font-weight: bold;\"> 1 </td>\n",
       "   <td style=\"text-align:right;\"> 2 </td>\n",
       "   <td style=\"text-align:right;\"> 1 </td>\n",
       "   <td style=\"text-align:right;\"> 1 </td>\n",
       "  </tr>\n",
       "  <tr>\n",
       "   <td style=\"text-align:left;font-weight: bold;\"> 2 </td>\n",
       "   <td style=\"text-align:right;\"> 2 </td>\n",
       "   <td style=\"text-align:right;\"> 4 </td>\n",
       "   <td style=\"text-align:right;\"> 2 </td>\n",
       "  </tr>\n",
       "  <tr>\n",
       "   <td style=\"text-align:left;font-weight: bold;\"> 3 </td>\n",
       "   <td style=\"text-align:right;\"> 3 </td>\n",
       "   <td style=\"text-align:right;\"> 4 </td>\n",
       "   <td style=\"text-align:right;\"> 2 </td>\n",
       "  </tr>\n",
       "  <tr>\n",
       "   <td style=\"text-align:left;font-weight: bold;\"> 4 </td>\n",
       "   <td style=\"text-align:right;\"> 5 </td>\n",
       "   <td style=\"text-align:right;\"> 4 </td>\n",
       "   <td style=\"text-align:right;\"> 3 </td>\n",
       "  </tr>\n",
       "  <tr>\n",
       "   <td style=\"text-align:left;font-weight: bold;\"> 5 </td>\n",
       "   <td style=\"text-align:right;\"> 10 </td>\n",
       "   <td style=\"text-align:right;\"> 4 </td>\n",
       "   <td style=\"text-align:right;\"> 4 </td>\n",
       "  </tr>\n",
       "  <tr>\n",
       "   <td style=\"text-align:left;font-weight: bold;\"> 6 </td>\n",
       "   <td style=\"text-align:right;\"> 12 </td>\n",
       "   <td style=\"text-align:right;\"> 4 </td>\n",
       "   <td style=\"text-align:right;\"> 4 </td>\n",
       "  </tr>\n",
       "</tbody>\n",
       "</table></td></tr></table>"
      ]
     },
     "metadata": {},
     "output_type": "display_data"
    }
   ],
   "source": [
    "layout(fmt(data.frame(datax, cluster=cutree(tree, h=6)), \"cutline @ dissimilarity=6\",       row.names=TRUE),\n",
    "       fmt(data.frame(datax, cluster=cutree(tree, h=3)), \"cutline @ dissimilarity=3\",       row.names=TRUE),\n",
    "       fmt(data.frame(datax, cluster=cutree(tree, h=2.25)), \"cutline @ dissimilarity=2.25\", row.names=TRUE))"
   ]
  },
  {
   "cell_type": "markdown",
   "metadata": {},
   "source": [
    "## Select Number of Classes based on a Dendrogram"
   ]
  },
  {
   "cell_type": "markdown",
   "metadata": {},
   "source": [
    "### Data"
   ]
  },
  {
   "cell_type": "code",
   "execution_count": 20,
   "metadata": {
    "hide_input": true
   },
   "outputs": [
    {
     "data": {
      "text/html": [
       "<table>\n",
       "<thead><tr><th scope=col>x1</th><th scope=col>x2</th></tr></thead>\n",
       "<tbody>\n",
       "\t<tr><td> 0</td><td> 3</td></tr>\n",
       "\t<tr><td> 2</td><td> 3</td></tr>\n",
       "\t<tr><td> 1</td><td> 0</td></tr>\n",
       "\t<tr><td> 6</td><td> 3</td></tr>\n",
       "\t<tr><td> 8</td><td> 3</td></tr>\n",
       "\t<tr><td> 7</td><td> 0</td></tr>\n",
       "\t<tr><td>22</td><td> 3</td></tr>\n",
       "\t<tr><td>24</td><td> 3</td></tr>\n",
       "\t<tr><td>23</td><td> 0</td></tr>\n",
       "\t<tr><td>13</td><td>23</td></tr>\n",
       "\t<tr><td>13</td><td>21</td></tr>\n",
       "\t<tr><td>16</td><td>22</td></tr>\n",
       "</tbody>\n",
       "</table>\n"
      ],
      "text/latex": [
       "\\begin{tabular}{r|ll}\n",
       " x1 & x2\\\\\n",
       "\\hline\n",
       "\t  0 &  3\\\\\n",
       "\t  2 &  3\\\\\n",
       "\t  1 &  0\\\\\n",
       "\t  6 &  3\\\\\n",
       "\t  8 &  3\\\\\n",
       "\t  7 &  0\\\\\n",
       "\t 22 &  3\\\\\n",
       "\t 24 &  3\\\\\n",
       "\t 23 &  0\\\\\n",
       "\t 13 & 23\\\\\n",
       "\t 13 & 21\\\\\n",
       "\t 16 & 22\\\\\n",
       "\\end{tabular}\n"
      ],
      "text/markdown": [
       "\n",
       "| x1 | x2 |\n",
       "|---|---|\n",
       "|  0 |  3 |\n",
       "|  2 |  3 |\n",
       "|  1 |  0 |\n",
       "|  6 |  3 |\n",
       "|  8 |  3 |\n",
       "|  7 |  0 |\n",
       "| 22 |  3 |\n",
       "| 24 |  3 |\n",
       "| 23 |  0 |\n",
       "| 13 | 23 |\n",
       "| 13 | 21 |\n",
       "| 16 | 22 |\n",
       "\n"
      ],
      "text/plain": [
       "   x1 x2\n",
       "1   0  3\n",
       "2   2  3\n",
       "3   1  0\n",
       "4   6  3\n",
       "5   8  3\n",
       "6   7  0\n",
       "7  22  3\n",
       "8  24  3\n",
       "9  23  0\n",
       "10 13 23\n",
       "11 13 21\n",
       "12 16 22"
      ]
     },
     "metadata": {},
     "output_type": "display_data"
    }
   ],
   "source": [
    "data = data.frame(name=c(1,2,3,4,5,6,7,8,9,10,11,12),\n",
    "                  x1=c(0,2,1,7-1,9-1,8-1,20+2,22+2,21+2,13,13,16),\n",
    "                  x2=c(3,3,0,3,3,0,03,03,00,13+10,11+10,12+10),\n",
    "                  cluster.4=c(1,1,1,2,2,2,3,3,3,4,4,4),\n",
    "                  cluster.3=c(1,1,1,1,1,1,3,3,3,4,4,4),\n",
    "                  cluster.2=c(1,1,1,1,1,1,1,1,1,4,4,4))\n",
    "\n",
    "data[, 2:3]"
   ]
  },
  {
   "cell_type": "code",
   "execution_count": 21,
   "metadata": {
    "hide_input": true
   },
   "outputs": [
    {
     "data": {
      "image/png": "[encoded data removed]",
      "text/plain": [
       "plot without title"
      ]
     },
     "metadata": {
      "image/png": {
       "height": 384,
       "width": 384
      },
      "text/plain": {
       "height": 384,
       "width": 384
      }
     },
     "output_type": "display_data"
    }
   ],
   "source": [
    "update_geom_defaults(\"point\", list(size=5, colour=\"grey80\"))\n",
    "update_geom_defaults(\"text\", list(hjust=0.4, vjust=0.4, colour=\"black\"))\n",
    "update_geom_defaults(\"segment\", list(colour=\"black\"))  \n",
    "\n",
    "output_size(3.2,3.2)\n",
    "\n",
    "ggplot(data) + ggtitle(\"Data\") + xlim(-2,27) + ylim(-2,27) +\n",
    "geom_point(aes(x=x1, y=x2)) +\n",
    "geom_text(aes(x=x1, y=x2, label=name), hjust=0.5) +\n",
    "theme.no_legend"
   ]
  },
  {
   "cell_type": "markdown",
   "metadata": {},
   "source": [
    "A 4-cluster model is moderately satisfying because intracluster distances are small."
   ]
  },
  {
   "cell_type": "code",
   "execution_count": 22,
   "metadata": {
    "hide_input": true
   },
   "outputs": [
    {
     "data": {
      "image/png": "[encoded data removed]",
      "text/plain": [
       "plot without title"
      ]
     },
     "metadata": {
      "image/png": {
       "height": 480,
       "width": 960
      },
      "text/plain": {
       "height": 480,
       "width": 960
      }
     },
     "output_type": "display_data"
    }
   ],
   "source": [
    "output_size(8,4)\n",
    "\n",
    "p1 = ggplot(data) + ggtitle(\"Data in 4 Clusters\") + xlim(-2,27) + ylim(-2,27) +\n",
    "     geom_point(aes(x=x1, y=x2, color=as.factor(cluster.4)), alpha=0.5) +\n",
    "     geom_text(aes(x=x1, y=x2, label=name), hjust=0.5) +\n",
    "     theme.no_legend\n",
    "\n",
    "tree = hclust(dist(data), method=\"centroid\")\n",
    "p2 = ggdendrogram(tree, theme_dendro=FALSE) + ggtitle(\"Cutline for 4 Clusters\") +\n",
    "     xlab(\"observation #\") + ylab(\"distance\") +\n",
    "     geom_hline(yintercept=3.2, linetype=\"longdash\")\n",
    "\n",
    "grid.arrange(p1,p2, nrow=1)"
   ]
  },
  {
   "cell_type": "markdown",
   "metadata": {},
   "source": [
    "A 3-cluster model is very satsifying because intracluster distances are small and intercluster distances are large.\n",
    "\n",
    "The gap between the cutline for 4 clusters vs. the cutline for 3 clusters is small.  In the 4-cluster model, the observations within cluster \\#1 are about 3 units apart and the observations within cluster \\#2 are about 3 units apart. So, combining these two clusters that are only about 5 units apart seems reasonable."
   ]
  },
  {
   "cell_type": "code",
   "execution_count": 23,
   "metadata": {
    "hide_input": true
   },
   "outputs": [
    {
     "data": {
      "image/png": "[encoded data removed]",
      "text/plain": [
       "plot without title"
      ]
     },
     "metadata": {
      "image/png": {
       "height": 480,
       "width": 960
      },
      "text/plain": {
       "height": 480,
       "width": 960
      }
     },
     "output_type": "display_data"
    }
   ],
   "source": [
    "output_size(8,4)\n",
    "\n",
    "p1 = ggplot(data) + ggtitle(\"Data in 3 Clusters\") + xlim(-2,27) + ylim(-2,27) +\n",
    "     geom_point(aes(x=x1, y=x2, color=as.factor(cluster.3)), alpha=0.5) +\n",
    "     geom_text(aes(x=x1, y=x2, label=name), hjust=0.5) +\n",
    "     theme.no_legend\n",
    "\n",
    "tree = hclust(dist(data), method=\"centroid\")\n",
    "p2 = ggdendrogram(tree, theme_dendro=FALSE) + ggtitle(\"Cutline for 3 Clusters\") +\n",
    "     xlab(\"observation #\") + ylab(\"distance\") +\n",
    "     geom_hline(yintercept=5.3, linetype=\"longdash\") +\n",
    "     geom_hline(yintercept=3.2, linetype=\"dotted\")\n",
    "\n",
    "grid.arrange(p1,p2, nrow=1)"
   ]
  },
  {
   "cell_type": "markdown",
   "metadata": {},
   "source": [
    "A 2-cluster model is not satsifying because intracluster distances are large.\n",
    "\n",
    "The gap between the cutline for 3 clusters vs. the cutline for 2 clusters is large.  In the 3-cluster model, the observations within cluster \\#1 are only about 5 units apart and the observations within cluster \\#2 are only about 3 units apart. So, combining these two clusters that are about 17 units apart seems not reasonable."
   ]
  },
  {
   "cell_type": "code",
   "execution_count": 24,
   "metadata": {
    "hide_input": true
   },
   "outputs": [
    {
     "data": {
      "image/png": "[encoded data removed]",
      "text/plain": [
       "plot without title"
      ]
     },
     "metadata": {
      "image/png": {
       "height": 480,
       "width": 960
      },
      "text/plain": {
       "height": 480,
       "width": 960
      }
     },
     "output_type": "display_data"
    }
   ],
   "source": [
    "output_size(8,4)\n",
    "\n",
    "p1 = ggplot(data) + ggtitle(\"Data in 2 Clusters\") + xlim(-2,27) + ylim(-2,27) +\n",
    "     geom_point(aes(x=x1, y=x2, color=as.factor(cluster.2)), alpha=0.5) +\n",
    "     geom_text(aes(x=x1, y=x2, label=name), hjust=0.5) +\n",
    "     theme.no_legend\n",
    "\n",
    "tree = hclust(dist(data), method=\"centroid\")\n",
    "p2 = ggdendrogram(tree, theme_dendro=FALSE) + ggtitle(\"Cutline for 2 Clusters\") +\n",
    "     xlab(\"observation #\") + ylab(\"distance\") +\n",
    "     geom_hline(yintercept=16.7, linetype=\"longdash\") +\n",
    "     geom_hline(yintercept=5.3, linetype=\"dotted\") +\n",
    "     geom_hline(yintercept=3.2, linetype=\"dotted\")\n",
    "\n",
    "grid.arrange(p1,p2, nrow=1)"
   ]
  },
  {
   "cell_type": "markdown",
   "metadata": {},
   "source": [
    "## Code"
   ]
  },
  {
   "cell_type": "markdown",
   "metadata": {},
   "source": [
    "### Useful Functions"
   ]
  },
  {
   "cell_type": "code",
   "execution_count": 25,
   "metadata": {},
   "outputs": [],
   "source": [
    "# help(cutree)       # from stats library\n",
    "# help(dist)         # from stats library\n",
    "# help(ggdendrogram) # from ggplot2 library\n",
    "# help(hclust)       # from stats library\n",
    "# help(scale)        # from base library"
   ]
  },
  {
   "cell_type": "markdown",
   "metadata": {},
   "source": [
    "### Templates"
   ]
  },
  {
   "cell_type": "code",
   "execution_count": 26,
   "metadata": {},
   "outputs": [
    {
     "data": {
      "text/html": [
       "<table>\n",
       "<caption><center><font color=\"black\"><b>datax</b></font></center></caption>\n",
       " <thead>\n",
       "  <tr>\n",
       "   <th style=\"text-align:right;background-color: #FFFFFF !important;\"> x1 </th>\n",
       "   <th style=\"text-align:right;background-color: #FFFFFF !important;\"> x2 </th>\n",
       "   <th style=\"text-align:right;background-color: #FFFFFF !important;\"> x3 </th>\n",
       "   <th style=\"text-align:right;background-color: #FFFFFF !important;\"> cluster </th>\n",
       "  </tr>\n",
       " </thead>\n",
       "<tbody>\n",
       "  <tr>\n",
       "   <td style=\"text-align:right;\"> 2.0 </td>\n",
       "   <td style=\"text-align:right;\"> 3.5 </td>\n",
       "   <td style=\"text-align:right;\"> 10.0 </td>\n",
       "   <td style=\"text-align:right;\"> 1 </td>\n",
       "  </tr>\n",
       "  <tr>\n",
       "   <td style=\"text-align:right;\"> 2.5 </td>\n",
       "   <td style=\"text-align:right;\"> 9.0 </td>\n",
       "   <td style=\"text-align:right;\"> 9.0 </td>\n",
       "   <td style=\"text-align:right;\"> 2 </td>\n",
       "  </tr>\n",
       "  <tr>\n",
       "   <td style=\"text-align:right;\"> 4.0 </td>\n",
       "   <td style=\"text-align:right;\"> 8.5 </td>\n",
       "   <td style=\"text-align:right;\"> 10.5 </td>\n",
       "   <td style=\"text-align:right;\"> 2 </td>\n",
       "  </tr>\n",
       "  <tr>\n",
       "   <td style=\"text-align:right;\"> 6.5 </td>\n",
       "   <td style=\"text-align:right;\"> 11.0 </td>\n",
       "   <td style=\"text-align:right;\"> 2.0 </td>\n",
       "   <td style=\"text-align:right;\"> 3 </td>\n",
       "  </tr>\n",
       "  <tr>\n",
       "   <td style=\"text-align:right;\"> 8.0 </td>\n",
       "   <td style=\"text-align:right;\"> 2.5 </td>\n",
       "   <td style=\"text-align:right;\"> 1.5 </td>\n",
       "   <td style=\"text-align:right;\"> 4 </td>\n",
       "  </tr>\n",
       "  <tr>\n",
       "   <td style=\"text-align:right;\"> 9.0 </td>\n",
       "   <td style=\"text-align:right;\"> 1.0 </td>\n",
       "   <td style=\"text-align:right;\"> 1.0 </td>\n",
       "   <td style=\"text-align:right;\"> 4 </td>\n",
       "  </tr>\n",
       "  <tr>\n",
       "   <td style=\"text-align:right;\"> 10.0 </td>\n",
       "   <td style=\"text-align:right;\"> 4.0 </td>\n",
       "   <td style=\"text-align:right;\"> 9.5 </td>\n",
       "   <td style=\"text-align:right;\"> 5 </td>\n",
       "  </tr>\n",
       "  <tr>\n",
       "   <td style=\"text-align:right;\"> 10.5 </td>\n",
       "   <td style=\"text-align:right;\"> 7.5 </td>\n",
       "   <td style=\"text-align:right;\"> 11.0 </td>\n",
       "   <td style=\"text-align:right;\"> 5 </td>\n",
       "  </tr>\n",
       "</tbody>\n",
       "</table>"
      ]
     },
     "metadata": {},
     "output_type": "display_data"
    }
   ],
   "source": [
    "# Construct cluster model using hierarchical agglomeration\n",
    "\n",
    "datax = data.frame(x1=c(2,2.5,4,6.5,8,9,10,10.5), x2=c(3.5,9,8.5,11,2.5,1,4,7.5), x3=c(10,9,10.5,2,1.5,1,9.5,11))\n",
    "datax.norm = scale(datax)\n",
    "\n",
    "number_of_clusters = 5\n",
    "\n",
    "datax$cluster = cutree(hclust(dist(datax.norm), method=\"complete\"), k=number_of_clusters)\n",
    "fmt(datax)"
   ]
  },
  {
   "cell_type": "code",
   "execution_count": 27,
   "metadata": {},
   "outputs": [
    {
     "data": {
      "image/png": "[encoded data removed]",
      "text/plain": [
       "plot without title"
      ]
     },
     "metadata": {
      "image/png": {
       "height": 480,
       "width": 960
      },
      "text/plain": {
       "height": 480,
       "width": 960
      }
     },
     "output_type": "display_data"
    }
   ],
   "source": [
    "# Visualize the dendrogram associated with hierarchical agglomeration\n",
    "\n",
    "datax = data.frame(x1=c(2,2.5,4,6.5,8,9,10,10.5), x2=c(3.5,9,8.5,11,2.5,1,4,7.5), x3=c(10,9,10.5,2,1.5,1,9.5,11))\n",
    "datax.norm = scale(datax)\n",
    "\n",
    "tree = hclust(dist(datax.norm), method=\"complete\")\n",
    "ggdendrogram(tree, theme_dendro=FALSE) + xlab(\"observation #\") + ylab(\"distance\") + ggtitle(\"Cluster Model by Hierarchical Agglomeration\")"
   ]
  },
  {
   "cell_type": "markdown",
   "metadata": {},
   "source": [
    "## What You Should Now Know\n",
    "\n",
    "* How to construct a cluster model using hierarchical agglomeration, using R.\n",
    "* How to visualization a dendrogram associated with hierarchical agglomeration, using R."
   ]
  },
  {
   "cell_type": "markdown",
   "metadata": {},
   "source": [
    "## Further Reading\n",
    "\n",
    "Coming soon ..."
   ]
  },
  {
   "cell_type": "markdown",
   "metadata": {},
   "source": [
    "<p style=\"text-align:left; font-size:10px;\">\n",
    "Copyright (c) Berkeley Data Analytics Group, LLC\n",
    "<span style=\"float:right;\">\n",
    "Document revised February 18, 2021\n",
    "</span>\n",
    "</p>"
   ]
  }
 ],
 "metadata": {
  "hide_code_all_hidden": false,
  "hide_input": false,
  "kernelspec": {
   "display_name": "R",
   "language": "R",
   "name": "ir"
  },
  "language_info": {
   "codemirror_mode": "r",
   "file_extension": ".r",
   "mimetype": "text/x-r-source",
   "name": "R",
   "pygments_lexer": "r",
   "version": "3.6.1"
  },
  "toc": {
   "base_numbering": 1,
   "nav_menu": {},
   "number_sections": true,
   "sideBar": true,
   "skip_h1_title": true,
   "title_cell": "Table of Contents",
   "title_sidebar": "Contents",
   "toc_cell": false,
   "toc_position": {},
   "toc_section_display": true,
   "toc_window_display": false
  }
 },
 "nbformat": 4,
 "nbformat_minor": 2
}
