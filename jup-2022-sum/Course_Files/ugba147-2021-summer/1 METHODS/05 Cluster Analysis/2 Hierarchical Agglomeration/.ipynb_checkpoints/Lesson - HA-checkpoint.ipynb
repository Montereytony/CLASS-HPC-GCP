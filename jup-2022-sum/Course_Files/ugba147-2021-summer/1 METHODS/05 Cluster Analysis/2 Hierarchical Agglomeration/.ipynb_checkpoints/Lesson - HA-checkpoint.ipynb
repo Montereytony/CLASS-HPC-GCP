{
 "cells": [
  {
   "cell_type": "markdown",
   "metadata": {
    "hideCode": false,
    "hidePrompt": false
   },
   "source": [
    "# Hierarchical Agglomeration\n",
    "![](banner_ha.jpg)\n",
    "_<p style=\"text-align: center;\"> High ranking macaque monkeys take the best bathing spots. </p>_"
   ]
  },
  {
   "cell_type": "code",
   "execution_count": 1,
   "metadata": {
    "hide_input": true
   },
   "outputs": [
    {
     "data": {
      "text/html": [
       "== document setup =="
      ]
     },
     "metadata": {},
     "output_type": "display_data"
    }
   ],
   "source": [
    "f = \"setup.R\"; for (i in 1:10) { if (file.exists(f)) break else f = paste0(\"../\", f) }; source(f)\n",
    "                                \n",
    "update_geom_defaults(\"point\", list(size=6, colour=\"grey40\"))\n",
    "update_geom_defaults(\"text\", list(hjust=0.4, vjust=0.4, colour=\"white\"))"
   ]
  },
  {
   "cell_type": "markdown",
   "metadata": {},
   "source": [
    "## Introduction\n",
    "\n",
    "Motivation, context, history, related topics ..."
   ]
  },
  {
   "cell_type": "markdown",
   "metadata": {},
   "source": [
    "## Synopsis"
   ]
  },
  {
   "cell_type": "markdown",
   "metadata": {},
   "source": [
    "**Terms**\n",
    "* Hierachical agglomeration\n",
    "* Dissimiliarity matrix\n",
    "* Cluster linkage\n",
    "* Dendrogram\n",
    "* Cutline"
   ]
  },
  {
   "cell_type": "markdown",
   "metadata": {},
   "source": [
    "## Exposition"
   ]
  },
  {
   "cell_type": "markdown",
   "metadata": {},
   "source": [
    "### Data"
   ]
  },
  {
   "cell_type": "code",
   "execution_count": 2,
   "metadata": {
    "hide_input": true
   },
   "outputs": [
    {
     "data": {
      "text/html": [
       "<table>\n",
       "<caption><center><font color=\"black\"><b>data</b></font></center></caption>\n",
       " <thead>\n",
       "  <tr>\n",
       "   <th style=\"text-align:left;\">   </th>\n",
       "   <th style=\"text-align:right;\"> x1 </th>\n",
       "   <th style=\"text-align:right;\"> x2 </th>\n",
       "  </tr>\n",
       " </thead>\n",
       "<tbody>\n",
       "  <tr>\n",
       "   <td style=\"text-align:left;\"> 1 </td>\n",
       "   <td style=\"text-align:right;\"> 2 </td>\n",
       "   <td style=\"text-align:right;\"> 1 </td>\n",
       "  </tr>\n",
       "  <tr>\n",
       "   <td style=\"text-align:left;\"> 2 </td>\n",
       "   <td style=\"text-align:right;\"> 2 </td>\n",
       "   <td style=\"text-align:right;\"> 4 </td>\n",
       "  </tr>\n",
       "  <tr>\n",
       "   <td style=\"text-align:left;\"> 3 </td>\n",
       "   <td style=\"text-align:right;\"> 3 </td>\n",
       "   <td style=\"text-align:right;\"> 4 </td>\n",
       "  </tr>\n",
       "  <tr>\n",
       "   <td style=\"text-align:left;\"> 4 </td>\n",
       "   <td style=\"text-align:right;\"> 5 </td>\n",
       "   <td style=\"text-align:right;\"> 4 </td>\n",
       "  </tr>\n",
       "  <tr>\n",
       "   <td style=\"text-align:left;\"> 5 </td>\n",
       "   <td style=\"text-align:right;\"> 10 </td>\n",
       "   <td style=\"text-align:right;\"> 4 </td>\n",
       "  </tr>\n",
       "  <tr>\n",
       "   <td style=\"text-align:left;\"> 6 </td>\n",
       "   <td style=\"text-align:right;\"> 12 </td>\n",
       "   <td style=\"text-align:right;\"> 4 </td>\n",
       "  </tr>\n",
       "</tbody>\n",
       "</table>"
      ]
     },
     "metadata": {},
     "output_type": "display_data"
    }
   ],
   "source": [
    "datax = data.frame(x1=c(2, 2, 3, 5, 10, 12), x2=c(1, 4, 4, 4, 4, 4))\n",
    "data = datax\n",
    "data %>% caption(row.names=TRUE)"
   ]
  },
  {
   "cell_type": "markdown",
   "metadata": {},
   "source": [
    "### Agglomerate Clusters"
   ]
  },
  {
   "cell_type": "markdown",
   "metadata": {},
   "source": [
    "**Initial**"
   ]
  },
  {
   "cell_type": "code",
   "execution_count": 3,
   "metadata": {
    "hide_input": true
   },
   "outputs": [
    {
     "data": {
      "image/png": "[encoded data removed]",
      "text/plain": [
       "plot without title"
      ]
     },
     "metadata": {},
     "output_type": "display_data"
    }
   ],
   "source": [
    "output_size(6,2.5)\n",
    "ggplot(datax) + xlim(0,13) + ylim(0, 5) +\n",
    "geom_point(aes(x=x1, y=x2)) +\n",
    "geom_text(aes(x=x1, y=x2, label=seq(1,6)))"
   ]
  },
  {
   "cell_type": "code",
   "execution_count": 4,
   "metadata": {
    "hide_input": true
   },
   "outputs": [
    {
     "data": {
      "text/html": [
       "<table><tr><td style=\"background-color:white; vertical-align:top; padding-right:40px;\"><table>\n",
       "<caption><center><font color=\"black\"><b>data</b></font></center></caption>\n",
       " <thead>\n",
       "  <tr>\n",
       "   <th style=\"text-align:left;\">   </th>\n",
       "   <th style=\"text-align:right;\"> x1 </th>\n",
       "   <th style=\"text-align:right;\"> x2 </th>\n",
       "  </tr>\n",
       " </thead>\n",
       "<tbody>\n",
       "  <tr>\n",
       "   <td style=\"text-align:left;\"> 1 </td>\n",
       "   <td style=\"text-align:right;\"> 2 </td>\n",
       "   <td style=\"text-align:right;\"> 1 </td>\n",
       "  </tr>\n",
       "  <tr>\n",
       "   <td style=\"text-align:left;\"> 2 </td>\n",
       "   <td style=\"text-align:right;\"> 2 </td>\n",
       "   <td style=\"text-align:right;\"> 4 </td>\n",
       "  </tr>\n",
       "  <tr>\n",
       "   <td style=\"text-align:left;\"> 3 </td>\n",
       "   <td style=\"text-align:right;\"> 3 </td>\n",
       "   <td style=\"text-align:right;\"> 4 </td>\n",
       "  </tr>\n",
       "  <tr>\n",
       "   <td style=\"text-align:left;\"> 4 </td>\n",
       "   <td style=\"text-align:right;\"> 5 </td>\n",
       "   <td style=\"text-align:right;\"> 4 </td>\n",
       "  </tr>\n",
       "  <tr>\n",
       "   <td style=\"text-align:left;\"> 5 </td>\n",
       "   <td style=\"text-align:right;\"> 10 </td>\n",
       "   <td style=\"text-align:right;\"> 4 </td>\n",
       "  </tr>\n",
       "  <tr>\n",
       "   <td style=\"text-align:left;\"> 6 </td>\n",
       "   <td style=\"text-align:right;\"> 12 </td>\n",
       "   <td style=\"text-align:right;\"> 4 </td>\n",
       "  </tr>\n",
       "</tbody>\n",
       "</table></td><td style=\"background-color:white; vertical-align:top; padding-right:40px;\"><table>\n",
       "<caption><center><font color=\"black\"><b>dissimilarity matrix</b></font></center></caption>\n",
       " <thead>\n",
       "  <tr>\n",
       "   <th style=\"text-align:left;\">   </th>\n",
       "   <th style=\"text-align:right;\"> 1 </th>\n",
       "   <th style=\"text-align:right;\"> 2 </th>\n",
       "   <th style=\"text-align:right;\"> 3 </th>\n",
       "   <th style=\"text-align:right;\"> 4 </th>\n",
       "   <th style=\"text-align:right;\"> 5 </th>\n",
       "   <th style=\"text-align:right;\"> 6 </th>\n",
       "  </tr>\n",
       " </thead>\n",
       "<tbody>\n",
       "  <tr>\n",
       "   <td style=\"text-align:left;\"> 1 </td>\n",
       "   <td style=\"text-align:right;\"> 0.0000 </td>\n",
       "   <td style=\"text-align:right;\"> 3.0000 </td>\n",
       "   <td style=\"text-align:right;\"> 3.1623 </td>\n",
       "   <td style=\"text-align:right;\"> 4.2426 </td>\n",
       "   <td style=\"text-align:right;\"> 8.5440 </td>\n",
       "   <td style=\"text-align:right;\"> 10.4403 </td>\n",
       "  </tr>\n",
       "  <tr>\n",
       "   <td style=\"text-align:left;\"> 2 </td>\n",
       "   <td style=\"text-align:right;\"> 3.0000 </td>\n",
       "   <td style=\"text-align:right;\"> 0.0000 </td>\n",
       "   <td style=\"text-align:right;\"> 1.0000 </td>\n",
       "   <td style=\"text-align:right;\"> 3.0000 </td>\n",
       "   <td style=\"text-align:right;\"> 8.0000 </td>\n",
       "   <td style=\"text-align:right;\"> 10.0000 </td>\n",
       "  </tr>\n",
       "  <tr>\n",
       "   <td style=\"text-align:left;\"> 3 </td>\n",
       "   <td style=\"text-align:right;\"> 3.1623 </td>\n",
       "   <td style=\"text-align:right;\"> 1.0000 </td>\n",
       "   <td style=\"text-align:right;\"> 0.0000 </td>\n",
       "   <td style=\"text-align:right;\"> 2.0000 </td>\n",
       "   <td style=\"text-align:right;\"> 7.0000 </td>\n",
       "   <td style=\"text-align:right;\"> 9.0000 </td>\n",
       "  </tr>\n",
       "  <tr>\n",
       "   <td style=\"text-align:left;\"> 4 </td>\n",
       "   <td style=\"text-align:right;\"> 4.2426 </td>\n",
       "   <td style=\"text-align:right;\"> 3.0000 </td>\n",
       "   <td style=\"text-align:right;\"> 2.0000 </td>\n",
       "   <td style=\"text-align:right;\"> 0.0000 </td>\n",
       "   <td style=\"text-align:right;\"> 5.0000 </td>\n",
       "   <td style=\"text-align:right;\"> 7.0000 </td>\n",
       "  </tr>\n",
       "  <tr>\n",
       "   <td style=\"text-align:left;\"> 5 </td>\n",
       "   <td style=\"text-align:right;\"> 8.5440 </td>\n",
       "   <td style=\"text-align:right;\"> 8.0000 </td>\n",
       "   <td style=\"text-align:right;\"> 7.0000 </td>\n",
       "   <td style=\"text-align:right;\"> 5.0000 </td>\n",
       "   <td style=\"text-align:right;\"> 0.0000 </td>\n",
       "   <td style=\"text-align:right;\"> 2.0000 </td>\n",
       "  </tr>\n",
       "  <tr>\n",
       "   <td style=\"text-align:left;\"> 6 </td>\n",
       "   <td style=\"text-align:right;\"> 10.4403 </td>\n",
       "   <td style=\"text-align:right;\"> 10.0000 </td>\n",
       "   <td style=\"text-align:right;\"> 9.0000 </td>\n",
       "   <td style=\"text-align:right;\"> 7.0000 </td>\n",
       "   <td style=\"text-align:right;\"> 2.0000 </td>\n",
       "   <td style=\"text-align:right;\"> 0.0000 </td>\n",
       "  </tr>\n",
       "</tbody>\n",
       "</table></td><td style=\"background-color:white; vertical-align:top;\"><table>\n",
       "<caption><center><font color=\"black\"><b>min</b></font></center></caption>\n",
       " <thead>\n",
       "  <tr>\n",
       "   <th style=\"text-align:right;\"> dissimilarity </th>\n",
       "  </tr>\n",
       " </thead>\n",
       "<tbody>\n",
       "  <tr>\n",
       "   <td style=\"text-align:right;\"> 1.0000 </td>\n",
       "  </tr>\n",
       "</tbody>\n",
       "</table></td></tr></table>"
      ]
     },
     "metadata": {},
     "output_type": "display_data"
    }
   ],
   "source": [
    "dm = dist(data, \"euclidean\", diag=TRUE)\n",
    "           \n",
    "height = c()\n",
    "height[1] = min(dm)\n",
    "          \n",
    "row.arrange(data %>% captionx(row.names=TRUE),\n",
    "            fmt.dm(dm) %>% captionx(\"dissimilarity matrix\", row.names=TRUE),\n",
    "            sprintf(\"%0.4f\", height[1]) %>% fmt(\"dissimilarity\") %>% captionx(\"min\"))"
   ]
  },
  {
   "cell_type": "markdown",
   "metadata": {},
   "source": [
    "**Step 1**"
   ]
  },
  {
   "cell_type": "code",
   "execution_count": 5,
   "metadata": {
    "hide_input": true,
    "scrolled": true
   },
   "outputs": [
    {
     "data": {
      "image/png": "[encoded data removed]",
      "text/plain": [
       "plot without title"
      ]
     },
     "metadata": {},
     "output_type": "display_data"
    }
   ],
   "source": [
    "output_size(6,2.5)\n",
    "ggplot(datax) +xlim(0,13) + ylim(0, 5) +\n",
    "geom_rect(xmin=1.5, xmax=3.5, ymin=3.5, ymax=4.5, color=\"black\", fill=PALETTE[1], alpha=0.05) +\n",
    "geom_point(aes(x=x1, y=x2)) +\n",
    "geom_text(aes(x=x1, y=x2, label=seq(1,6)))"
   ]
  },
  {
   "cell_type": "code",
   "execution_count": 6,
   "metadata": {
    "hide_input": true,
    "scrolled": true
   },
   "outputs": [
    {
     "data": {
      "text/html": [
       "<table><tr><td style=\"background-color:white; vertical-align:top; padding-right:40px;\"><table>\n",
       "<caption><center><font color=\"black\"><b>data</b></font></center></caption>\n",
       " <thead>\n",
       "  <tr>\n",
       "   <th style=\"text-align:left;\">   </th>\n",
       "   <th style=\"text-align:right;\"> x1 </th>\n",
       "   <th style=\"text-align:right;\"> x2 </th>\n",
       "  </tr>\n",
       " </thead>\n",
       "<tbody>\n",
       "  <tr>\n",
       "   <td style=\"text-align:left;\"> 1 </td>\n",
       "   <td style=\"text-align:right;\"> 2.0 </td>\n",
       "   <td style=\"text-align:right;\"> 1 </td>\n",
       "  </tr>\n",
       "  <tr>\n",
       "   <td style=\"text-align:left;\"> 4 </td>\n",
       "   <td style=\"text-align:right;\"> 5.0 </td>\n",
       "   <td style=\"text-align:right;\"> 4 </td>\n",
       "  </tr>\n",
       "  <tr>\n",
       "   <td style=\"text-align:left;\"> 5 </td>\n",
       "   <td style=\"text-align:right;\"> 10.0 </td>\n",
       "   <td style=\"text-align:right;\"> 4 </td>\n",
       "  </tr>\n",
       "  <tr>\n",
       "   <td style=\"text-align:left;\"> 6 </td>\n",
       "   <td style=\"text-align:right;\"> 12.0 </td>\n",
       "   <td style=\"text-align:right;\"> 4 </td>\n",
       "  </tr>\n",
       "  <tr>\n",
       "   <td style=\"text-align:left;\"> A </td>\n",
       "   <td style=\"text-align:right;\"> 2.5 </td>\n",
       "   <td style=\"text-align:right;\"> 4 </td>\n",
       "  </tr>\n",
       "</tbody>\n",
       "</table></td><td style=\"background-color:white; vertical-align:top; padding-right:40px;\"><table>\n",
       "<caption><center><font color=\"black\"><b>dissimilarity matrix</b></font></center></caption>\n",
       " <thead>\n",
       "  <tr>\n",
       "   <th style=\"text-align:left;\">   </th>\n",
       "   <th style=\"text-align:right;\"> 1 </th>\n",
       "   <th style=\"text-align:right;\"> 4 </th>\n",
       "   <th style=\"text-align:right;\"> 5 </th>\n",
       "   <th style=\"text-align:right;\"> 6 </th>\n",
       "   <th style=\"text-align:right;\"> A </th>\n",
       "  </tr>\n",
       " </thead>\n",
       "<tbody>\n",
       "  <tr>\n",
       "   <td style=\"text-align:left;\"> 1 </td>\n",
       "   <td style=\"text-align:right;\"> 0.0000 </td>\n",
       "   <td style=\"text-align:right;\"> 4.2426 </td>\n",
       "   <td style=\"text-align:right;\"> 8.5440 </td>\n",
       "   <td style=\"text-align:right;\"> 10.4403 </td>\n",
       "   <td style=\"text-align:right;\"> 3.0414 </td>\n",
       "  </tr>\n",
       "  <tr>\n",
       "   <td style=\"text-align:left;\"> 4 </td>\n",
       "   <td style=\"text-align:right;\"> 4.2426 </td>\n",
       "   <td style=\"text-align:right;\"> 0.0000 </td>\n",
       "   <td style=\"text-align:right;\"> 5.0000 </td>\n",
       "   <td style=\"text-align:right;\"> 7.0000 </td>\n",
       "   <td style=\"text-align:right;\"> 2.5000 </td>\n",
       "  </tr>\n",
       "  <tr>\n",
       "   <td style=\"text-align:left;\"> 5 </td>\n",
       "   <td style=\"text-align:right;\"> 8.5440 </td>\n",
       "   <td style=\"text-align:right;\"> 5.0000 </td>\n",
       "   <td style=\"text-align:right;\"> 0.0000 </td>\n",
       "   <td style=\"text-align:right;\"> 2.0000 </td>\n",
       "   <td style=\"text-align:right;\"> 7.5000 </td>\n",
       "  </tr>\n",
       "  <tr>\n",
       "   <td style=\"text-align:left;\"> 6 </td>\n",
       "   <td style=\"text-align:right;\"> 10.4403 </td>\n",
       "   <td style=\"text-align:right;\"> 7.0000 </td>\n",
       "   <td style=\"text-align:right;\"> 2.0000 </td>\n",
       "   <td style=\"text-align:right;\"> 0.0000 </td>\n",
       "   <td style=\"text-align:right;\"> 9.5000 </td>\n",
       "  </tr>\n",
       "  <tr>\n",
       "   <td style=\"text-align:left;\"> A </td>\n",
       "   <td style=\"text-align:right;\"> 3.0414 </td>\n",
       "   <td style=\"text-align:right;\"> 2.5000 </td>\n",
       "   <td style=\"text-align:right;\"> 7.5000 </td>\n",
       "   <td style=\"text-align:right;\"> 9.5000 </td>\n",
       "   <td style=\"text-align:right;\"> 0.0000 </td>\n",
       "  </tr>\n",
       "</tbody>\n",
       "</table></td><td style=\"background-color:white; vertical-align:top;\"><table>\n",
       "<caption><center><font color=\"black\"><b>min</b></font></center></caption>\n",
       " <thead>\n",
       "  <tr>\n",
       "   <th style=\"text-align:right;\"> dissimilarity </th>\n",
       "  </tr>\n",
       " </thead>\n",
       "<tbody>\n",
       "  <tr>\n",
       "   <td style=\"text-align:right;\"> 2.0000 </td>\n",
       "  </tr>\n",
       "</tbody>\n",
       "</table></td></tr></table>"
      ]
     },
     "metadata": {},
     "output_type": "display_data"
    }
   ],
   "source": [
    "data = rbind(data[setdiff(row.names(data), c(\"2\",\"3\")),],\n",
    "             data.frame(x1=mean(datax[c(\"2\",\"3\"),\"x1\"]), x2=mean(datax[c(\"2\",\"3\"),\"x2\"])))\n",
    "row.names(data)[nrow(data)] = \"A\"\n",
    "\n",
    "dm = dist(data, \"euclidean\", diag=TRUE)\n",
    "height[2] = min(dm)\n",
    "          \n",
    "row.arrange(data %>% captionx(row.names=TRUE),\n",
    "            fmt.dm(dm) %>% captionx(\"dissimilarity matrix\", row.names=TRUE),\n",
    "            sprintf(\"%0.4f\", height[2]) %>% fmt(\"dissimilarity\") %>% captionx(\"min\"))"
   ]
  },
  {
   "cell_type": "markdown",
   "metadata": {},
   "source": [
    "**Step 2**"
   ]
  },
  {
   "cell_type": "code",
   "execution_count": 7,
   "metadata": {
    "hide_input": true,
    "scrolled": true
   },
   "outputs": [
    {
     "data": {
      "image/png": "[encoded data removed]",
      "text/plain": [
       "plot without title"
      ]
     },
     "metadata": {},
     "output_type": "display_data"
    }
   ],
   "source": [
    "output_size(6,2.5)\n",
    "ggplot(datax) +xlim(0,13) + ylim(0, 5) +\n",
    "geom_rect(xmin=1.5, xmax=3.5,  ymin=3.5, ymax=4.5, color=\"black\", fill=PALETTE[1], alpha=0.05) +\n",
    "geom_rect(xmin=9.5, xmax=12.5, ymin=3.5, ymax=4.5, color=\"black\", fill=PALETTE[2], alpha=0.05) +\n",
    "geom_point(aes(x=x1, y=x2)) +\n",
    "geom_text(aes(x=x1, y=x2, label=seq(1,6)))"
   ]
  },
  {
   "cell_type": "code",
   "execution_count": 8,
   "metadata": {
    "hide_input": true,
    "scrolled": true
   },
   "outputs": [
    {
     "data": {
      "text/html": [
       "<table><tr><td style=\"background-color:white; vertical-align:top; padding-right:40px;\"><table>\n",
       "<caption><center><font color=\"black\"><b>data</b></font></center></caption>\n",
       " <thead>\n",
       "  <tr>\n",
       "   <th style=\"text-align:left;\">   </th>\n",
       "   <th style=\"text-align:right;\"> x1 </th>\n",
       "   <th style=\"text-align:right;\"> x2 </th>\n",
       "  </tr>\n",
       " </thead>\n",
       "<tbody>\n",
       "  <tr>\n",
       "   <td style=\"text-align:left;\"> 1 </td>\n",
       "   <td style=\"text-align:right;\"> 2.0 </td>\n",
       "   <td style=\"text-align:right;\"> 1 </td>\n",
       "  </tr>\n",
       "  <tr>\n",
       "   <td style=\"text-align:left;\"> 4 </td>\n",
       "   <td style=\"text-align:right;\"> 5.0 </td>\n",
       "   <td style=\"text-align:right;\"> 4 </td>\n",
       "  </tr>\n",
       "  <tr>\n",
       "   <td style=\"text-align:left;\"> A </td>\n",
       "   <td style=\"text-align:right;\"> 2.5 </td>\n",
       "   <td style=\"text-align:right;\"> 4 </td>\n",
       "  </tr>\n",
       "  <tr>\n",
       "   <td style=\"text-align:left;\"> B </td>\n",
       "   <td style=\"text-align:right;\"> 11.0 </td>\n",
       "   <td style=\"text-align:right;\"> 4 </td>\n",
       "  </tr>\n",
       "</tbody>\n",
       "</table></td><td style=\"background-color:white; vertical-align:top; padding-right:40px;\"><table>\n",
       "<caption><center><font color=\"black\"><b>dissimilarity matrix</b></font></center></caption>\n",
       " <thead>\n",
       "  <tr>\n",
       "   <th style=\"text-align:left;\">   </th>\n",
       "   <th style=\"text-align:right;\"> 1 </th>\n",
       "   <th style=\"text-align:right;\"> 4 </th>\n",
       "   <th style=\"text-align:right;\"> A </th>\n",
       "   <th style=\"text-align:right;\"> B </th>\n",
       "  </tr>\n",
       " </thead>\n",
       "<tbody>\n",
       "  <tr>\n",
       "   <td style=\"text-align:left;\"> 1 </td>\n",
       "   <td style=\"text-align:right;\"> 0.0000 </td>\n",
       "   <td style=\"text-align:right;\"> 4.2426 </td>\n",
       "   <td style=\"text-align:right;\"> 3.0414 </td>\n",
       "   <td style=\"text-align:right;\"> 9.4868 </td>\n",
       "  </tr>\n",
       "  <tr>\n",
       "   <td style=\"text-align:left;\"> 4 </td>\n",
       "   <td style=\"text-align:right;\"> 4.2426 </td>\n",
       "   <td style=\"text-align:right;\"> 0.0000 </td>\n",
       "   <td style=\"text-align:right;\"> 2.5000 </td>\n",
       "   <td style=\"text-align:right;\"> 6.0000 </td>\n",
       "  </tr>\n",
       "  <tr>\n",
       "   <td style=\"text-align:left;\"> A </td>\n",
       "   <td style=\"text-align:right;\"> 3.0414 </td>\n",
       "   <td style=\"text-align:right;\"> 2.5000 </td>\n",
       "   <td style=\"text-align:right;\"> 0.0000 </td>\n",
       "   <td style=\"text-align:right;\"> 8.5000 </td>\n",
       "  </tr>\n",
       "  <tr>\n",
       "   <td style=\"text-align:left;\"> B </td>\n",
       "   <td style=\"text-align:right;\"> 9.4868 </td>\n",
       "   <td style=\"text-align:right;\"> 6.0000 </td>\n",
       "   <td style=\"text-align:right;\"> 8.5000 </td>\n",
       "   <td style=\"text-align:right;\"> 0.0000 </td>\n",
       "  </tr>\n",
       "</tbody>\n",
       "</table></td><td style=\"background-color:white; vertical-align:top;\"><table>\n",
       "<caption><center><font color=\"black\"><b>min</b></font></center></caption>\n",
       " <thead>\n",
       "  <tr>\n",
       "   <th style=\"text-align:right;\"> dissimilarity </th>\n",
       "  </tr>\n",
       " </thead>\n",
       "<tbody>\n",
       "  <tr>\n",
       "   <td style=\"text-align:right;\"> 2.5000 </td>\n",
       "  </tr>\n",
       "</tbody>\n",
       "</table></td></tr></table>"
      ]
     },
     "metadata": {},
     "output_type": "display_data"
    }
   ],
   "source": [
    "data = rbind(data[setdiff(row.names(data), c(\"5\",\"6\")),],\n",
    "             data.frame(x1=mean(datax[c(\"5\",\"6\"),\"x1\"]), x2=mean(datax[c(\"5\",\"6\"),\"x2\"])))\n",
    "row.names(data)[nrow(data)] = \"B\"\n",
    "\n",
    "dm = dist(data, \"euclidean\", diag=TRUE)\n",
    "height[3] = min(dm)\n",
    "          \n",
    "row.arrange(data %>% captionx(row.names=TRUE),\n",
    "            fmt.dm(dm) %>% captionx(\"dissimilarity matrix\", row.names=TRUE),\n",
    "            sprintf(\"%0.4f\", height[3]) %>% fmt(\"dissimilarity\") %>% captionx(\"min\"))"
   ]
  },
  {
   "cell_type": "markdown",
   "metadata": {},
   "source": [
    "**Step 3**"
   ]
  },
  {
   "cell_type": "code",
   "execution_count": 9,
   "metadata": {
    "hide_input": true,
    "scrolled": true
   },
   "outputs": [
    {
     "data": {
      "image/png": "[encoded data removed]",
      "text/plain": [
       "plot without title"
      ]
     },
     "metadata": {},
     "output_type": "display_data"
    }
   ],
   "source": [
    "output_size(6,2.5)\n",
    "ggplot(datax) +xlim(0,13) + ylim(0, 5) +\n",
    "geom_rect(xmin=1.5,  xmax=3.5,  ymin=3.5,  ymax=4.5,  color=\"black\", fill=NA) +\n",
    "geom_rect(xmin=9.5,  xmax=12.5, ymin=3.5,  ymax=4.5,  color=\"black\", fill=PALETTE[2], alpha=0.05) +\n",
    "geom_rect(xmin=1.25, xmax=5.5,  ymin=3.25, ymax=4.75, color=\"black\", fill=PALETTE[3], alpha=0.05) +\n",
    "geom_point(aes(x=x1, y=x2)) +\n",
    "geom_text(aes(x=x1, y=x2, label=seq(1,6)))"
   ]
  },
  {
   "cell_type": "code",
   "execution_count": 10,
   "metadata": {
    "hide_input": true,
    "scrolled": false
   },
   "outputs": [
    {
     "data": {
      "text/html": [
       "<table><tr><td style=\"background-color:white; vertical-align:top; padding-right:40px;\"><table>\n",
       "<caption><center><font color=\"black\"><b>data</b></font></center></caption>\n",
       " <thead>\n",
       "  <tr>\n",
       "   <th style=\"text-align:left;\">   </th>\n",
       "   <th style=\"text-align:right;\"> x1 </th>\n",
       "   <th style=\"text-align:right;\"> x2 </th>\n",
       "  </tr>\n",
       " </thead>\n",
       "<tbody>\n",
       "  <tr>\n",
       "   <td style=\"text-align:left;\"> 1 </td>\n",
       "   <td style=\"text-align:right;\"> 2.000000 </td>\n",
       "   <td style=\"text-align:right;\"> 1 </td>\n",
       "  </tr>\n",
       "  <tr>\n",
       "   <td style=\"text-align:left;\"> B </td>\n",
       "   <td style=\"text-align:right;\"> 11.000000 </td>\n",
       "   <td style=\"text-align:right;\"> 4 </td>\n",
       "  </tr>\n",
       "  <tr>\n",
       "   <td style=\"text-align:left;\"> C </td>\n",
       "   <td style=\"text-align:right;\"> 3.333333 </td>\n",
       "   <td style=\"text-align:right;\"> 4 </td>\n",
       "  </tr>\n",
       "</tbody>\n",
       "</table></td><td style=\"background-color:white; vertical-align:top; padding-right:40px;\"><table>\n",
       "<caption><center><font color=\"black\"><b>dissimilarity matrix</b></font></center></caption>\n",
       " <thead>\n",
       "  <tr>\n",
       "   <th style=\"text-align:left;\">   </th>\n",
       "   <th style=\"text-align:right;\"> 1 </th>\n",
       "   <th style=\"text-align:right;\"> B </th>\n",
       "   <th style=\"text-align:right;\"> C </th>\n",
       "  </tr>\n",
       " </thead>\n",
       "<tbody>\n",
       "  <tr>\n",
       "   <td style=\"text-align:left;\"> 1 </td>\n",
       "   <td style=\"text-align:right;\"> 0.0000 </td>\n",
       "   <td style=\"text-align:right;\"> 9.4868 </td>\n",
       "   <td style=\"text-align:right;\"> 3.2830 </td>\n",
       "  </tr>\n",
       "  <tr>\n",
       "   <td style=\"text-align:left;\"> B </td>\n",
       "   <td style=\"text-align:right;\"> 9.4868 </td>\n",
       "   <td style=\"text-align:right;\"> 0.0000 </td>\n",
       "   <td style=\"text-align:right;\"> 7.6667 </td>\n",
       "  </tr>\n",
       "  <tr>\n",
       "   <td style=\"text-align:left;\"> C </td>\n",
       "   <td style=\"text-align:right;\"> 3.2830 </td>\n",
       "   <td style=\"text-align:right;\"> 7.6667 </td>\n",
       "   <td style=\"text-align:right;\"> 0.0000 </td>\n",
       "  </tr>\n",
       "</tbody>\n",
       "</table></td><td style=\"background-color:white; vertical-align:top;\"><table>\n",
       "<caption><center><font color=\"black\"><b>min</b></font></center></caption>\n",
       " <thead>\n",
       "  <tr>\n",
       "   <th style=\"text-align:right;\"> dissimilarity </th>\n",
       "  </tr>\n",
       " </thead>\n",
       "<tbody>\n",
       "  <tr>\n",
       "   <td style=\"text-align:right;\"> 3.2830 </td>\n",
       "  </tr>\n",
       "</tbody>\n",
       "</table></td></tr></table>"
      ]
     },
     "metadata": {},
     "output_type": "display_data"
    }
   ],
   "source": [
    "data = rbind(data[setdiff(row.names(data), c(\"A\",\"4\")),],\n",
    "             data.frame(x1=mean(datax[c(\"2\",\"3\",\"4\"),\"x1\"]), x2=mean(datax[c(\"2\",\"3\",\"4\"),\"x2\"])))\n",
    "row.names(data)[nrow(data)] = \"C\"\n",
    "\n",
    "dm = dist(data, \"euclidean\", diag=TRUE)\n",
    "height[4] = min(dm)\n",
    "          \n",
    "row.arrange(data %>% captionx(row.names=TRUE),\n",
    "            fmt.dm(dm) %>% captionx(\"dissimilarity matrix\", row.names=TRUE),\n",
    "            sprintf(\"%0.4f\", height[4]) %>% fmt(\"dissimilarity\") %>% captionx(\"min\"))"
   ]
  },
  {
   "cell_type": "markdown",
   "metadata": {},
   "source": [
    "**Step 4**"
   ]
  },
  {
   "cell_type": "code",
   "execution_count": 11,
   "metadata": {
    "hide_input": true,
    "scrolled": true
   },
   "outputs": [
    {
     "data": {
      "image/png": "[encoded data removed]",
      "text/plain": [
       "plot without title"
      ]
     },
     "metadata": {},
     "output_type": "display_data"
    }
   ],
   "source": [
    "output_size(6,2.5)\n",
    "ggplot(datax) +xlim(0,13) + ylim(0, 5) +\n",
    "geom_rect(xmin=1.5,  xmax=3.5,  ymin=3.5,  ymax=4.5,  color=\"black\", fill=NA) +\n",
    "geom_rect(xmin=9.5,  xmax=12.5, ymin=3.5,  ymax=4.5,  color=\"black\", fill=PALETTE[2], alpha=0.05) +\n",
    "geom_rect(xmin=1.25, xmax=5.5,  ymin=3.25, ymax=4.75, color=\"black\", fill=NA) +\n",
    "geom_rect(xmin=1,    xmax=5.75, ymin=0.5,  ymax=5,    color=\"black\", fill=PALETTE[4], alpha=0.05) +\n",
    "geom_point(aes(x=x1, y=x2)) +\n",
    "geom_text(aes(x=x1, y=x2, label=seq(1,6)))"
   ]
  },
  {
   "cell_type": "code",
   "execution_count": 12,
   "metadata": {
    "hide_input": true,
    "scrolled": true
   },
   "outputs": [
    {
     "data": {
      "text/html": [
       "<table><tr><td style=\"background-color:white; vertical-align:top; padding-right:40px;\"><table>\n",
       "<caption><center><font color=\"black\"><b>data</b></font></center></caption>\n",
       " <thead>\n",
       "  <tr>\n",
       "   <th style=\"text-align:left;\">   </th>\n",
       "   <th style=\"text-align:right;\"> x1 </th>\n",
       "   <th style=\"text-align:right;\"> x2 </th>\n",
       "  </tr>\n",
       " </thead>\n",
       "<tbody>\n",
       "  <tr>\n",
       "   <td style=\"text-align:left;\"> B </td>\n",
       "   <td style=\"text-align:right;\"> 11 </td>\n",
       "   <td style=\"text-align:right;\"> 4.00 </td>\n",
       "  </tr>\n",
       "  <tr>\n",
       "   <td style=\"text-align:left;\"> D </td>\n",
       "   <td style=\"text-align:right;\"> 3 </td>\n",
       "   <td style=\"text-align:right;\"> 3.25 </td>\n",
       "  </tr>\n",
       "</tbody>\n",
       "</table></td><td style=\"background-color:white; vertical-align:top; padding-right:40px;\"><table>\n",
       "<caption><center><font color=\"black\"><b>dissimilarity matrix</b></font></center></caption>\n",
       " <thead>\n",
       "  <tr>\n",
       "   <th style=\"text-align:left;\">   </th>\n",
       "   <th style=\"text-align:right;\"> B </th>\n",
       "   <th style=\"text-align:right;\"> D </th>\n",
       "  </tr>\n",
       " </thead>\n",
       "<tbody>\n",
       "  <tr>\n",
       "   <td style=\"text-align:left;\"> B </td>\n",
       "   <td style=\"text-align:right;\"> 0.0000 </td>\n",
       "   <td style=\"text-align:right;\"> 8.0351 </td>\n",
       "  </tr>\n",
       "  <tr>\n",
       "   <td style=\"text-align:left;\"> D </td>\n",
       "   <td style=\"text-align:right;\"> 8.0351 </td>\n",
       "   <td style=\"text-align:right;\"> 0.0000 </td>\n",
       "  </tr>\n",
       "</tbody>\n",
       "</table></td><td style=\"background-color:white; vertical-align:top;\"><table>\n",
       "<caption><center><font color=\"black\"><b>min</b></font></center></caption>\n",
       " <thead>\n",
       "  <tr>\n",
       "   <th style=\"text-align:right;\"> dissimilarity </th>\n",
       "  </tr>\n",
       " </thead>\n",
       "<tbody>\n",
       "  <tr>\n",
       "   <td style=\"text-align:right;\"> 8.0351 </td>\n",
       "  </tr>\n",
       "</tbody>\n",
       "</table></td></tr></table>"
      ]
     },
     "metadata": {},
     "output_type": "display_data"
    }
   ],
   "source": [
    "data = rbind(data[setdiff(row.names(data), c(\"C\",\"1\")),],\n",
    "             data.frame(x1=mean(datax[c(\"1\",\"2\",\"3\",\"4\"),\"x1\"]), x2=mean(datax[c(\"1\",\"2\",\"3\",\"4\"),\"x2\"])))\n",
    "row.names(data)[nrow(data)] = \"D\"\n",
    "\n",
    "dm = dist(data, \"euclidean\", diag=TRUE)\n",
    "height[5] = min(dm)\n",
    "          \n",
    "row.arrange(data %>% captionx(row.names=TRUE),\n",
    "            fmt.dm(dm) %>% captionx(\"dissimilarity matrix\", row.names=TRUE),\n",
    "            sprintf(\"%0.4f\", height[5]) %>% fmt(\"dissimilarity\") %>% captionx(\"min\"))"
   ]
  },
  {
   "cell_type": "markdown",
   "metadata": {},
   "source": [
    "**Step 5**"
   ]
  },
  {
   "cell_type": "code",
   "execution_count": 13,
   "metadata": {
    "hide_input": true,
    "scrolled": true
   },
   "outputs": [
    {
     "data": {
      "image/png": "[encoded data removed]",
      "text/plain": [
       "plot without title"
      ]
     },
     "metadata": {},
     "output_type": "display_data"
    }
   ],
   "source": [
    "output_size(6,2.5)\n",
    "ggplot(datax) +xlim(0,13) + ylim(0, 5.5) +\n",
    "geom_rect(xmin=1.5,  xmax=3.5,   ymin=3.5,  ymax=4.5,  color=\"black\", fill=NA) +\n",
    "geom_rect(xmin=9.5,  xmax=12.5,  ymin=3.5,  ymax=4.5,  color=\"black\", fill=NA) +\n",
    "geom_rect(xmin=1.25, xmax=5.5,   ymin=3.25, ymax=4.75, color=\"black\", fill=NA) +\n",
    "geom_rect(xmin=1,    xmax=5.75,  ymin=0.5,  ymax=5,    color=\"black\", fill=NA) +\n",
    "geom_rect(xmin=0.75, xmax=12.75, ymin=0.25, ymax=5.25, color=\"black\", fill=PALETTE[5], alpha=0.05) +\n",
    "geom_point(aes(x=x1, y=x2)) +\n",
    "geom_text(aes(x=x1, y=x2, label=seq(1,6)))"
   ]
  },
  {
   "cell_type": "code",
   "execution_count": 14,
   "metadata": {
    "hide_input": true
   },
   "outputs": [
    {
     "data": {
      "text/html": [
       "<table>\n",
       "<caption><center><font color=\"black\"><b>data</b></font></center></caption>\n",
       " <thead>\n",
       "  <tr>\n",
       "   <th style=\"text-align:left;\">   </th>\n",
       "   <th style=\"text-align:right;\"> x1 </th>\n",
       "   <th style=\"text-align:right;\"> x2 </th>\n",
       "  </tr>\n",
       " </thead>\n",
       "<tbody>\n",
       "  <tr>\n",
       "   <td style=\"text-align:left;\"> E </td>\n",
       "   <td style=\"text-align:right;\"> 5.666667 </td>\n",
       "   <td style=\"text-align:right;\"> 3.5 </td>\n",
       "  </tr>\n",
       "</tbody>\n",
       "</table>"
      ]
     },
     "metadata": {},
     "output_type": "display_data"
    }
   ],
   "source": [
    "data = rbind(data[setdiff(row.names(data), c(\"D\",\"B\")),],\n",
    "             data.frame(x1=mean(datax[c(\"1\",\"2\",\"3\",\"4\",\"5\",\"6\"),\"x1\"]), x2=mean(datax[c(\"1\",\"2\",\"3\",\"4\",\"5\",\"6\"),\"x2\"])))\n",
    "row.names(data)[nrow(data)] = \"E\"\n",
    "data %>% caption(row.names=TRUE)"
   ]
  },
  {
   "cell_type": "markdown",
   "metadata": {},
   "source": [
    "### Dendrogram"
   ]
  },
  {
   "cell_type": "code",
   "execution_count": 15,
   "metadata": {
    "hide_input": true,
    "scrolled": false
   },
   "outputs": [
    {
     "data": {
      "image/png": "[encoded data removed]",
      "text/plain": [
       "plot without title"
      ]
     },
     "metadata": {},
     "output_type": "display_data"
    }
   ],
   "source": [
    "tree = hclust(dist(datax, \"euclidean\"), method=\"centroid\")\n",
    "tree$height = height # why does stats/hclust centroid produce different heights?\n",
    "ggdendrogram(tree, theme_dendro=FALSE) + xlab(\"observation #\") + ylab(\"dissimilarity\")"
   ]
  },
  {
   "cell_type": "markdown",
   "metadata": {},
   "source": [
    "### Commit Cluster Assignments"
   ]
  },
  {
   "cell_type": "code",
   "execution_count": 16,
   "metadata": {
    "hide_input": true
   },
   "outputs": [
    {
     "data": {
      "image/png": "[encoded data removed]",
      "text/plain": [
       "plot without title"
      ]
     },
     "metadata": {},
     "output_type": "display_data"
    }
   ],
   "source": [
    "ggdendrogram(tree, theme_dendro=FALSE) +\n",
    "geom_hline(yintercept=6, lty=\"dashed\") +\n",
    "ggtitle(\"cutline @ dissimilarity=6\") + xlab(\"observation #\") + ylab(\"dissimilarity\")"
   ]
  },
  {
   "cell_type": "code",
   "execution_count": 17,
   "metadata": {
    "hide_input": true
   },
   "outputs": [
    {
     "data": {
      "image/png": "[encoded data removed]",
      "text/plain": [
       "plot without title"
      ]
     },
     "metadata": {},
     "output_type": "display_data"
    }
   ],
   "source": [
    "ggdendrogram(tree, theme_dendro=FALSE) +\n",
    "geom_hline(yintercept=3, lty=\"dashed\") +\n",
    "ggtitle(\"cutline @ dissimilarity=3\") + xlab(\"observation #\") + ylab(\"dissimilarity\")"
   ]
  },
  {
   "cell_type": "code",
   "execution_count": 18,
   "metadata": {
    "hide_input": true
   },
   "outputs": [
    {
     "data": {
      "image/png": "[encoded data removed]",
      "text/plain": [
       "plot without title"
      ]
     },
     "metadata": {},
     "output_type": "display_data"
    }
   ],
   "source": [
    "ggdendrogram(tree, theme_dendro=FALSE) +\n",
    "geom_hline(yintercept=2.25, lty=\"dashed\") +\n",
    "ggtitle(\"cutline @ dissimilarity=2.25\") + xlab(\"observation #\") + ylab(\"dissimilarity\")"
   ]
  },
  {
   "cell_type": "code",
   "execution_count": 19,
   "metadata": {
    "hide_input": true
   },
   "outputs": [
    {
     "data": {
      "text/html": [
       "<table><tr><td style=\"background-color:white; vertical-align:top; padding-right:40px;\"><table>\n",
       "<caption><center><font color=\"black\"><b>cutline @ dissimilarity=6</b></font></center></caption>\n",
       " <thead>\n",
       "  <tr>\n",
       "   <th style=\"text-align:left;\">   </th>\n",
       "   <th style=\"text-align:right;\"> x1 </th>\n",
       "   <th style=\"text-align:right;\"> x2 </th>\n",
       "   <th style=\"text-align:right;\"> cluster </th>\n",
       "  </tr>\n",
       " </thead>\n",
       "<tbody>\n",
       "  <tr>\n",
       "   <td style=\"text-align:left;\"> 1 </td>\n",
       "   <td style=\"text-align:right;\"> 2 </td>\n",
       "   <td style=\"text-align:right;\"> 1 </td>\n",
       "   <td style=\"text-align:right;\"> 1 </td>\n",
       "  </tr>\n",
       "  <tr>\n",
       "   <td style=\"text-align:left;\"> 2 </td>\n",
       "   <td style=\"text-align:right;\"> 2 </td>\n",
       "   <td style=\"text-align:right;\"> 4 </td>\n",
       "   <td style=\"text-align:right;\"> 1 </td>\n",
       "  </tr>\n",
       "  <tr>\n",
       "   <td style=\"text-align:left;\"> 3 </td>\n",
       "   <td style=\"text-align:right;\"> 3 </td>\n",
       "   <td style=\"text-align:right;\"> 4 </td>\n",
       "   <td style=\"text-align:right;\"> 1 </td>\n",
       "  </tr>\n",
       "  <tr>\n",
       "   <td style=\"text-align:left;\"> 4 </td>\n",
       "   <td style=\"text-align:right;\"> 5 </td>\n",
       "   <td style=\"text-align:right;\"> 4 </td>\n",
       "   <td style=\"text-align:right;\"> 1 </td>\n",
       "  </tr>\n",
       "  <tr>\n",
       "   <td style=\"text-align:left;\"> 5 </td>\n",
       "   <td style=\"text-align:right;\"> 10 </td>\n",
       "   <td style=\"text-align:right;\"> 4 </td>\n",
       "   <td style=\"text-align:right;\"> 2 </td>\n",
       "  </tr>\n",
       "  <tr>\n",
       "   <td style=\"text-align:left;\"> 6 </td>\n",
       "   <td style=\"text-align:right;\"> 12 </td>\n",
       "   <td style=\"text-align:right;\"> 4 </td>\n",
       "   <td style=\"text-align:right;\"> 2 </td>\n",
       "  </tr>\n",
       "</tbody>\n",
       "</table></td><td style=\"background-color:white; vertical-align:top; padding-right:40px;\"><table>\n",
       "<caption><center><font color=\"black\"><b>cutline @ dissimilarity=3</b></font></center></caption>\n",
       " <thead>\n",
       "  <tr>\n",
       "   <th style=\"text-align:left;\">   </th>\n",
       "   <th style=\"text-align:right;\"> x1 </th>\n",
       "   <th style=\"text-align:right;\"> x2 </th>\n",
       "   <th style=\"text-align:right;\"> cluster </th>\n",
       "  </tr>\n",
       " </thead>\n",
       "<tbody>\n",
       "  <tr>\n",
       "   <td style=\"text-align:left;\"> 1 </td>\n",
       "   <td style=\"text-align:right;\"> 2 </td>\n",
       "   <td style=\"text-align:right;\"> 1 </td>\n",
       "   <td style=\"text-align:right;\"> 1 </td>\n",
       "  </tr>\n",
       "  <tr>\n",
       "   <td style=\"text-align:left;\"> 2 </td>\n",
       "   <td style=\"text-align:right;\"> 2 </td>\n",
       "   <td style=\"text-align:right;\"> 4 </td>\n",
       "   <td style=\"text-align:right;\"> 2 </td>\n",
       "  </tr>\n",
       "  <tr>\n",
       "   <td style=\"text-align:left;\"> 3 </td>\n",
       "   <td style=\"text-align:right;\"> 3 </td>\n",
       "   <td style=\"text-align:right;\"> 4 </td>\n",
       "   <td style=\"text-align:right;\"> 2 </td>\n",
       "  </tr>\n",
       "  <tr>\n",
       "   <td style=\"text-align:left;\"> 4 </td>\n",
       "   <td style=\"text-align:right;\"> 5 </td>\n",
       "   <td style=\"text-align:right;\"> 4 </td>\n",
       "   <td style=\"text-align:right;\"> 2 </td>\n",
       "  </tr>\n",
       "  <tr>\n",
       "   <td style=\"text-align:left;\"> 5 </td>\n",
       "   <td style=\"text-align:right;\"> 10 </td>\n",
       "   <td style=\"text-align:right;\"> 4 </td>\n",
       "   <td style=\"text-align:right;\"> 3 </td>\n",
       "  </tr>\n",
       "  <tr>\n",
       "   <td style=\"text-align:left;\"> 6 </td>\n",
       "   <td style=\"text-align:right;\"> 12 </td>\n",
       "   <td style=\"text-align:right;\"> 4 </td>\n",
       "   <td style=\"text-align:right;\"> 3 </td>\n",
       "  </tr>\n",
       "</tbody>\n",
       "</table></td><td style=\"background-color:white; vertical-align:top;\"><table>\n",
       "<caption><center><font color=\"black\"><b>cutline @ dissimilarity=2.25</b></font></center></caption>\n",
       " <thead>\n",
       "  <tr>\n",
       "   <th style=\"text-align:left;\">   </th>\n",
       "   <th style=\"text-align:right;\"> x1 </th>\n",
       "   <th style=\"text-align:right;\"> x2 </th>\n",
       "   <th style=\"text-align:right;\"> cluster </th>\n",
       "  </tr>\n",
       " </thead>\n",
       "<tbody>\n",
       "  <tr>\n",
       "   <td style=\"text-align:left;\"> 1 </td>\n",
       "   <td style=\"text-align:right;\"> 2 </td>\n",
       "   <td style=\"text-align:right;\"> 1 </td>\n",
       "   <td style=\"text-align:right;\"> 1 </td>\n",
       "  </tr>\n",
       "  <tr>\n",
       "   <td style=\"text-align:left;\"> 2 </td>\n",
       "   <td style=\"text-align:right;\"> 2 </td>\n",
       "   <td style=\"text-align:right;\"> 4 </td>\n",
       "   <td style=\"text-align:right;\"> 2 </td>\n",
       "  </tr>\n",
       "  <tr>\n",
       "   <td style=\"text-align:left;\"> 3 </td>\n",
       "   <td style=\"text-align:right;\"> 3 </td>\n",
       "   <td style=\"text-align:right;\"> 4 </td>\n",
       "   <td style=\"text-align:right;\"> 2 </td>\n",
       "  </tr>\n",
       "  <tr>\n",
       "   <td style=\"text-align:left;\"> 4 </td>\n",
       "   <td style=\"text-align:right;\"> 5 </td>\n",
       "   <td style=\"text-align:right;\"> 4 </td>\n",
       "   <td style=\"text-align:right;\"> 3 </td>\n",
       "  </tr>\n",
       "  <tr>\n",
       "   <td style=\"text-align:left;\"> 5 </td>\n",
       "   <td style=\"text-align:right;\"> 10 </td>\n",
       "   <td style=\"text-align:right;\"> 4 </td>\n",
       "   <td style=\"text-align:right;\"> 4 </td>\n",
       "  </tr>\n",
       "  <tr>\n",
       "   <td style=\"text-align:left;\"> 6 </td>\n",
       "   <td style=\"text-align:right;\"> 12 </td>\n",
       "   <td style=\"text-align:right;\"> 4 </td>\n",
       "   <td style=\"text-align:right;\"> 4 </td>\n",
       "  </tr>\n",
       "</tbody>\n",
       "</table></td></tr></table>"
      ]
     },
     "metadata": {},
     "output_type": "display_data"
    }
   ],
   "source": [
    "row.arrange(data.frame(datax, cluster=cutree(tree, h=6))    %>% captionx(\"cutline @ dissimilarity=6\",    row.names=TRUE),\n",
    "            data.frame(datax, cluster=cutree(tree, h=3))    %>% captionx(\"cutline @ dissimilarity=3\",    row.names=TRUE),\n",
    "            data.frame(datax, cluster=cutree(tree, h=2.25)) %>% captionx(\"cutline @ dissimilarity=2.25\", row.names=TRUE))"
   ]
  },
  {
   "cell_type": "markdown",
   "metadata": {},
   "source": [
    "<p style=\"text-align:left; font-size:10px;\">\n",
    "Copyright (c) Berkeley Data Analytics Group, LLC\n",
    "<span style=\"float:right;\">\n",
    "Document revised October 20, 2019\n",
    "</span>\n",
    "</p>"
   ]
  }
 ],
 "metadata": {
  "hide_code_all_hidden": false,
  "hide_input": false,
  "kernelspec": {
   "display_name": "R",
   "language": "R",
   "name": "ir"
  },
  "language_info": {
   "codemirror_mode": "r",
   "file_extension": ".r",
   "mimetype": "text/x-r-source",
   "name": "R",
   "pygments_lexer": "r",
   "version": "3.6.1"
  },
  "toc": {
   "base_numbering": 1,
   "nav_menu": {},
   "number_sections": true,
   "sideBar": true,
   "skip_h1_title": true,
   "title_cell": "Table of Contents",
   "title_sidebar": "Contents",
   "toc_cell": false,
   "toc_position": {},
   "toc_section_display": true,
   "toc_window_display": true
  }
 },
 "nbformat": 4,
 "nbformat_minor": 2
}
