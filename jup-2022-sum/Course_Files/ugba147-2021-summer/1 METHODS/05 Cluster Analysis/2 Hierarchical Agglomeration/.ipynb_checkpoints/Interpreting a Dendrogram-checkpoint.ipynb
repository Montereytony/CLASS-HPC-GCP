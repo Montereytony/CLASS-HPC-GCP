{
 "cells": [
  {
   "cell_type": "markdown",
   "metadata": {},
   "source": [
    "# Selecting # of Clusters based on Dendrogram"
   ]
  },
  {
   "cell_type": "code",
   "execution_count": 1,
   "metadata": {
    "hide_input": true
   },
   "outputs": [
    {
     "data": {
      "text/html": [
       "<p style=\"text-align:center; font-size:10px;\">\n",
       ".................................................... start of document ....................................................\n",
       "</p>"
      ]
     },
     "metadata": {},
     "output_type": "display_data"
    }
   ],
   "source": [
    "f = \"setup.R\"; for (i in 1:10) { if (file.exists(f)) break else f = paste0(\"../\", f) }; source(f)\n",
    "                                \n",
    "update_geom_defaults(\"point\", list(size=5, colour=\"grey80\"))\n",
    "update_geom_defaults(\"text\", list(hjust=0.4, vjust=0.4, colour=\"black\"))\n",
    "update_geom_defaults(\"segment\", list(colour=\"black\"))                                "
   ]
  },
  {
   "cell_type": "code",
   "execution_count": 2,
   "metadata": {
    "hide_input": true
   },
   "outputs": [
    {
     "data": {
      "text/html": [
       "<table>\n",
       "<thead><tr><th scope=col>x1</th><th scope=col>x2</th></tr></thead>\n",
       "<tbody>\n",
       "\t<tr><td> 0</td><td> 3</td></tr>\n",
       "\t<tr><td> 2</td><td> 3</td></tr>\n",
       "\t<tr><td> 1</td><td> 0</td></tr>\n",
       "\t<tr><td> 6</td><td> 3</td></tr>\n",
       "\t<tr><td> 8</td><td> 3</td></tr>\n",
       "\t<tr><td> 7</td><td> 0</td></tr>\n",
       "\t<tr><td>22</td><td> 3</td></tr>\n",
       "\t<tr><td>24</td><td> 3</td></tr>\n",
       "\t<tr><td>23</td><td> 0</td></tr>\n",
       "\t<tr><td>13</td><td>23</td></tr>\n",
       "\t<tr><td>13</td><td>21</td></tr>\n",
       "\t<tr><td>16</td><td>22</td></tr>\n",
       "</tbody>\n",
       "</table>\n"
      ],
      "text/latex": [
       "\\begin{tabular}{r|ll}\n",
       " x1 & x2\\\\\n",
       "\\hline\n",
       "\t  0 &  3\\\\\n",
       "\t  2 &  3\\\\\n",
       "\t  1 &  0\\\\\n",
       "\t  6 &  3\\\\\n",
       "\t  8 &  3\\\\\n",
       "\t  7 &  0\\\\\n",
       "\t 22 &  3\\\\\n",
       "\t 24 &  3\\\\\n",
       "\t 23 &  0\\\\\n",
       "\t 13 & 23\\\\\n",
       "\t 13 & 21\\\\\n",
       "\t 16 & 22\\\\\n",
       "\\end{tabular}\n"
      ],
      "text/markdown": [
       "\n",
       "| x1 | x2 |\n",
       "|---|---|\n",
       "|  0 |  3 |\n",
       "|  2 |  3 |\n",
       "|  1 |  0 |\n",
       "|  6 |  3 |\n",
       "|  8 |  3 |\n",
       "|  7 |  0 |\n",
       "| 22 |  3 |\n",
       "| 24 |  3 |\n",
       "| 23 |  0 |\n",
       "| 13 | 23 |\n",
       "| 13 | 21 |\n",
       "| 16 | 22 |\n",
       "\n"
      ],
      "text/plain": [
       "   x1 x2\n",
       "1   0  3\n",
       "2   2  3\n",
       "3   1  0\n",
       "4   6  3\n",
       "5   8  3\n",
       "6   7  0\n",
       "7  22  3\n",
       "8  24  3\n",
       "9  23  0\n",
       "10 13 23\n",
       "11 13 21\n",
       "12 16 22"
      ]
     },
     "metadata": {},
     "output_type": "display_data"
    }
   ],
   "source": [
    "data = data.frame(name=c(1,2,3,4,5,6,7,8,9,10,11,12),\n",
    "                  x1=c(0,2,1,7-1,9-1,8-1,20+2,22+2,21+2,13,13,16),\n",
    "                  x2=c(3,3,0,3,3,0,03,03,00,13+10,11+10,12+10),\n",
    "                  cluster.4=c(1,1,1,2,2,2,3,3,3,4,4,4),\n",
    "                  cluster.3=c(1,1,1,1,1,1,3,3,3,4,4,4),\n",
    "                  cluster.2=c(1,1,1,1,1,1,1,1,1,4,4,4))\n",
    "\n",
    "data[, 2:3]"
   ]
  },
  {
   "cell_type": "code",
   "execution_count": 3,
   "metadata": {
    "hide_input": true
   },
   "outputs": [
    {
     "data": {
      "image/png": "[encoded data removed]",
      "text/plain": [
       "plot without title"
      ]
     },
     "metadata": {
      "image/png": {
       "height": 384,
       "width": 384
      },
      "text/plain": {
       "height": 384,
       "width": 384
      }
     },
     "output_type": "display_data"
    }
   ],
   "source": [
    "output_size(3.2,3.2)\n",
    "\n",
    "ggplot(data) + ggtitle(\"Data\") + xlim(-2,27) + ylim(-2,27) +\n",
    "geom_point(aes(x=x1, y=x2)) +\n",
    "geom_text(aes(x=x1, y=x2, label=name), hjust=0.5) +\n",
    "theme.no_legend"
   ]
  },
  {
   "cell_type": "markdown",
   "metadata": {},
   "source": [
    "A 4-cluster model is moderately satisfying because intracluster distances are small."
   ]
  },
  {
   "cell_type": "code",
   "execution_count": 4,
   "metadata": {
    "hide_input": true,
    "scrolled": false
   },
   "outputs": [
    {
     "data": {
      "image/png": "[encoded data removed]",
      "text/plain": [
       "plot without title"
      ]
     },
     "metadata": {
      "image/png": {
       "height": 480,
       "width": 960
      },
      "text/plain": {
       "height": 480,
       "width": 960
      }
     },
     "output_type": "display_data"
    }
   ],
   "source": [
    "output_size(8,4)\n",
    "\n",
    "p1 = ggplot(data) + ggtitle(\"Data in 4 Clusters\") + xlim(-2,27) + ylim(-2,27) +\n",
    "     geom_point(aes(x=x1, y=x2, color=as.factor(cluster.4)), alpha=0.5) +\n",
    "     geom_text(aes(x=x1, y=x2, label=name), hjust=0.5) +\n",
    "     theme.no_legend\n",
    "\n",
    "tree = hclust(dist(data), method=\"centroid\")\n",
    "p2 = ggdendrogram(tree, theme_dendro=FALSE) + ggtitle(\"Cutline for 4 Clusters\") +\n",
    "     xlab(\"observation #\") + ylab(\"distance\") +\n",
    "     geom_hline(yintercept=3.2, linetype=\"longdash\")\n",
    "\n",
    "grid.arrange(p1,p2, nrow=1)"
   ]
  },
  {
   "cell_type": "markdown",
   "metadata": {},
   "source": [
    "A 3-cluster model is very satsifying because intracluster distances are small and intercluster distances are large.\n",
    "\n",
    "The gap between the cutline for 4 clusters vs. the cutline for 3 clusters is small.  In the 4-cluster model, the observations within cluster \\#1 are about 3 units apart and the observations within cluster \\#2 are about 3 units apart. So, combining these two clusters that are only about 5 units apart seems reasonable."
   ]
  },
  {
   "cell_type": "code",
   "execution_count": 5,
   "metadata": {
    "hide_input": true
   },
   "outputs": [
    {
     "data": {
      "image/png": "[encoded data removed]",
      "text/plain": [
       "plot without title"
      ]
     },
     "metadata": {
      "image/png": {
       "height": 480,
       "width": 960
      },
      "text/plain": {
       "height": 480,
       "width": 960
      }
     },
     "output_type": "display_data"
    }
   ],
   "source": [
    "output_size(8,4)\n",
    "\n",
    "p1 = ggplot(data) + ggtitle(\"Data in 3 Clusters\") + xlim(-2,27) + ylim(-2,27) +\n",
    "     geom_point(aes(x=x1, y=x2, color=as.factor(cluster.3)), alpha=0.5) +\n",
    "     geom_text(aes(x=x1, y=x2, label=name), hjust=0.5) +\n",
    "     theme.no_legend\n",
    "\n",
    "tree = hclust(dist(data), method=\"centroid\")\n",
    "p2 = ggdendrogram(tree, theme_dendro=FALSE) + ggtitle(\"Cutline for 3 Clusters\") +\n",
    "     xlab(\"observation #\") + ylab(\"distance\") +\n",
    "     geom_hline(yintercept=5.3, linetype=\"longdash\") +\n",
    "     geom_hline(yintercept=3.2, linetype=\"dotted\")\n",
    "\n",
    "grid.arrange(p1,p2, nrow=1)"
   ]
  },
  {
   "cell_type": "markdown",
   "metadata": {},
   "source": [
    "A 2-cluster model is not satsifying because intracluster distances are large.\n",
    "\n",
    "The gap between the cutline for 3 clusters vs. the cutline for 2 clusters is large.  In the 3-cluster model, the observations within cluster \\#1 are only about 5 units apart and the observations within cluster \\#2 are only about 3 units apart. So, combining these two clusters that are about 17 units apart seems not reasonable."
   ]
  },
  {
   "cell_type": "code",
   "execution_count": 6,
   "metadata": {
    "hide_input": true
   },
   "outputs": [
    {
     "data": {
      "image/png": "[encoded data removed]",
      "text/plain": [
       "plot without title"
      ]
     },
     "metadata": {
      "image/png": {
       "height": 480,
       "width": 960
      },
      "text/plain": {
       "height": 480,
       "width": 960
      }
     },
     "output_type": "display_data"
    }
   ],
   "source": [
    "output_size(8,4)\n",
    "\n",
    "p1 = ggplot(data) + ggtitle(\"Data in 2 Clusters\") + xlim(-2,27) + ylim(-2,27) +\n",
    "     geom_point(aes(x=x1, y=x2, color=as.factor(cluster.2)), alpha=0.5) +\n",
    "     geom_text(aes(x=x1, y=x2, label=name), hjust=0.5) +\n",
    "     theme.no_legend\n",
    "\n",
    "tree = hclust(dist(data), method=\"centroid\")\n",
    "p2 = ggdendrogram(tree, theme_dendro=FALSE) + ggtitle(\"Cutline for 2 Clusters\") +\n",
    "     xlab(\"observation #\") + ylab(\"distance\") +\n",
    "     geom_hline(yintercept=16.7, linetype=\"longdash\") +\n",
    "     geom_hline(yintercept=5.3, linetype=\"dotted\") +\n",
    "     geom_hline(yintercept=3.2, linetype=\"dotted\")\n",
    "\n",
    "grid.arrange(p1,p2, nrow=1)"
   ]
  }
 ],
 "metadata": {
  "kernelspec": {
   "display_name": "R",
   "language": "R",
   "name": "ir"
  },
  "language_info": {
   "codemirror_mode": "r",
   "file_extension": ".r",
   "mimetype": "text/x-r-source",
   "name": "R",
   "pygments_lexer": "r",
   "version": "3.6.1"
  },
  "toc": {
   "base_numbering": 1,
   "nav_menu": {},
   "number_sections": false,
   "sideBar": true,
   "skip_h1_title": true,
   "title_cell": "Table of Contents",
   "title_sidebar": "Contents",
   "toc_cell": false,
   "toc_position": {
    "height": "calc(100% - 180px)",
    "left": "10px",
    "top": "150px",
    "width": "256.396px"
   },
   "toc_section_display": true,
   "toc_window_display": true
  }
 },
 "nbformat": 4,
 "nbformat_minor": 2
}
