{
 "cells": [
  {
   "cell_type": "markdown",
   "metadata": {},
   "source": [
    "# Introduction\n",
    "\n",
    "![](banner_intro.jpg)"
   ]
  },
  {
   "cell_type": "code",
   "execution_count": 1,
   "metadata": {
    "hide_input": true
   },
   "outputs": [
    {
     "data": {
      "text/html": [
       "<p style=\"text-align:center; font-size:10px;\">\n",
       ".................................................... start of document ....................................................\n",
       "</p>"
      ]
     },
     "metadata": {},
     "output_type": "display_data"
    }
   ],
   "source": [
    "f = \"setup.R\"; for (i in 1:10) { if (file.exists(f)) break else f = paste0(\"../\", f) }; source(f)                   "
   ]
  },
  {
   "cell_type": "markdown",
   "metadata": {},
   "source": [
    "## Monty Hall Problem"
   ]
  },
  {
   "cell_type": "markdown",
   "metadata": {},
   "source": [
    "![](let's_make_a_deal.jpg)"
   ]
  },
  {
   "cell_type": "code",
   "execution_count": 2,
   "metadata": {
    "hide_input": true
   },
   "outputs": [
    {
     "data": {
      "text/html": [
       "<< Initialization is located here. Toggle cell input display to see code. >>"
      ]
     },
     "metadata": {},
     "output_type": "display_data"
    }
   ],
   "source": [
    "display_html(\"<< Initialization is located here. Toggle cell input display to see code. >>\")\n",
    "\n",
    "set.seed(12345)\n",
    "data = data.frame(door_1=c(), door_2=c(), door_3=c(), initial=c(), show=c(), final.change=c(), prize.change=c(), cum_prize.change=c(), final.stay=c(), prize.stay=c(), cum_prize.stay=c())\n",
    "car_value = 1\n",
    "goat_value = 0"
   ]
  },
  {
   "cell_type": "code",
   "execution_count": 1002,
   "metadata": {
    "hide_input": true,
    "scrolled": true
   },
   "outputs": [
    {
     "data": {
      "text/html": [
       "<< Iteration is located here. Toggle cell input display to see code. >>"
      ]
     },
     "metadata": {},
     "output_type": "display_data"
    },
    {
     "data": {
      "text/html": [
       "<table>\n",
       "<thead><tr><th></th><th scope=col>door_1</th><th scope=col>door_2</th><th scope=col>door_3</th><th scope=col>initial</th><th scope=col>show</th><th scope=col>final.change</th><th scope=col>prize.change</th><th scope=col>cum_prize.change</th><th scope=col>final.stay</th><th scope=col>prize.stay</th><th scope=col>cum_prize.stay</th></tr></thead>\n",
       "<tbody>\n",
       "\t<tr><th scope=row>991</th><td>0  </td><td>1  </td><td>0  </td><td>3  </td><td>1  </td><td>2  </td><td>1  </td><td>669</td><td>3  </td><td>0  </td><td>322</td></tr>\n",
       "\t<tr><th scope=row>992</th><td>0  </td><td>1  </td><td>0  </td><td>3  </td><td>1  </td><td>2  </td><td>1  </td><td>670</td><td>3  </td><td>0  </td><td>322</td></tr>\n",
       "\t<tr><th scope=row>993</th><td>0  </td><td>1  </td><td>0  </td><td>1  </td><td>3  </td><td>2  </td><td>1  </td><td>671</td><td>1  </td><td>0  </td><td>322</td></tr>\n",
       "\t<tr><th scope=row>994</th><td>0  </td><td>1  </td><td>0  </td><td>3  </td><td>1  </td><td>2  </td><td>1  </td><td>672</td><td>3  </td><td>0  </td><td>322</td></tr>\n",
       "\t<tr><th scope=row>995</th><td>0  </td><td>0  </td><td>1  </td><td>3  </td><td>2  </td><td>1  </td><td>0  </td><td>672</td><td>3  </td><td>1  </td><td>323</td></tr>\n",
       "\t<tr><th scope=row>996</th><td>0  </td><td>0  </td><td>1  </td><td>1  </td><td>2  </td><td>3  </td><td>1  </td><td>673</td><td>1  </td><td>0  </td><td>323</td></tr>\n",
       "\t<tr><th scope=row>997</th><td>0  </td><td>1  </td><td>0  </td><td>1  </td><td>3  </td><td>2  </td><td>1  </td><td>674</td><td>1  </td><td>0  </td><td>323</td></tr>\n",
       "\t<tr><th scope=row>998</th><td>0  </td><td>1  </td><td>0  </td><td>2  </td><td>3  </td><td>1  </td><td>0  </td><td>674</td><td>2  </td><td>1  </td><td>324</td></tr>\n",
       "\t<tr><th scope=row>999</th><td>1  </td><td>0  </td><td>0  </td><td>2  </td><td>3  </td><td>1  </td><td>1  </td><td>675</td><td>2  </td><td>0  </td><td>324</td></tr>\n",
       "\t<tr><th scope=row>1000</th><td>1  </td><td>0  </td><td>0  </td><td>1  </td><td>3  </td><td>2  </td><td>0  </td><td>675</td><td>1  </td><td>1  </td><td>325</td></tr>\n",
       "</tbody>\n",
       "</table>\n"
      ],
      "text/latex": [
       "\\begin{tabular}{r|lllllllllll}\n",
       "  & door\\_1 & door\\_2 & door\\_3 & initial & show & final.change & prize.change & cum\\_prize.change & final.stay & prize.stay & cum\\_prize.stay\\\\\n",
       "\\hline\n",
       "\t991 & 0   & 1   & 0   & 3   & 1   & 2   & 1   & 669 & 3   & 0   & 322\\\\\n",
       "\t992 & 0   & 1   & 0   & 3   & 1   & 2   & 1   & 670 & 3   & 0   & 322\\\\\n",
       "\t993 & 0   & 1   & 0   & 1   & 3   & 2   & 1   & 671 & 1   & 0   & 322\\\\\n",
       "\t994 & 0   & 1   & 0   & 3   & 1   & 2   & 1   & 672 & 3   & 0   & 322\\\\\n",
       "\t995 & 0   & 0   & 1   & 3   & 2   & 1   & 0   & 672 & 3   & 1   & 323\\\\\n",
       "\t996 & 0   & 0   & 1   & 1   & 2   & 3   & 1   & 673 & 1   & 0   & 323\\\\\n",
       "\t997 & 0   & 1   & 0   & 1   & 3   & 2   & 1   & 674 & 1   & 0   & 323\\\\\n",
       "\t998 & 0   & 1   & 0   & 2   & 3   & 1   & 0   & 674 & 2   & 1   & 324\\\\\n",
       "\t999 & 1   & 0   & 0   & 2   & 3   & 1   & 1   & 675 & 2   & 0   & 324\\\\\n",
       "\t1000 & 1   & 0   & 0   & 1   & 3   & 2   & 0   & 675 & 1   & 1   & 325\\\\\n",
       "\\end{tabular}\n"
      ],
      "text/markdown": [
       "\n",
       "| <!--/--> | door_1 | door_2 | door_3 | initial | show | final.change | prize.change | cum_prize.change | final.stay | prize.stay | cum_prize.stay |\n",
       "|---|---|---|---|---|---|---|---|---|---|---|---|\n",
       "| 991 | 0   | 1   | 0   | 3   | 1   | 2   | 1   | 669 | 3   | 0   | 322 |\n",
       "| 992 | 0   | 1   | 0   | 3   | 1   | 2   | 1   | 670 | 3   | 0   | 322 |\n",
       "| 993 | 0   | 1   | 0   | 1   | 3   | 2   | 1   | 671 | 1   | 0   | 322 |\n",
       "| 994 | 0   | 1   | 0   | 3   | 1   | 2   | 1   | 672 | 3   | 0   | 322 |\n",
       "| 995 | 0   | 0   | 1   | 3   | 2   | 1   | 0   | 672 | 3   | 1   | 323 |\n",
       "| 996 | 0   | 0   | 1   | 1   | 2   | 3   | 1   | 673 | 1   | 0   | 323 |\n",
       "| 997 | 0   | 1   | 0   | 1   | 3   | 2   | 1   | 674 | 1   | 0   | 323 |\n",
       "| 998 | 0   | 1   | 0   | 2   | 3   | 1   | 0   | 674 | 2   | 1   | 324 |\n",
       "| 999 | 1   | 0   | 0   | 2   | 3   | 1   | 1   | 675 | 2   | 0   | 324 |\n",
       "| 1000 | 1   | 0   | 0   | 1   | 3   | 2   | 0   | 675 | 1   | 1   | 325 |\n",
       "\n"
      ],
      "text/plain": [
       "     door_1 door_2 door_3 initial show final.change prize.change\n",
       "991  0      1      0      3       1    2            1           \n",
       "992  0      1      0      3       1    2            1           \n",
       "993  0      1      0      1       3    2            1           \n",
       "994  0      1      0      3       1    2            1           \n",
       "995  0      0      1      3       2    1            0           \n",
       "996  0      0      1      1       2    3            1           \n",
       "997  0      1      0      1       3    2            1           \n",
       "998  0      1      0      2       3    1            0           \n",
       "999  1      0      0      2       3    1            1           \n",
       "1000 1      0      0      1       3    2            0           \n",
       "     cum_prize.change final.stay prize.stay cum_prize.stay\n",
       "991  669              3          0          322           \n",
       "992  670              3          0          322           \n",
       "993  671              1          0          322           \n",
       "994  672              3          0          322           \n",
       "995  672              3          1          323           \n",
       "996  673              1          0          323           \n",
       "997  674              1          0          323           \n",
       "998  674              2          1          324           \n",
       "999  675              2          0          324           \n",
       "1000 675              1          1          325           "
      ]
     },
     "metadata": {},
     "output_type": "display_data"
    }
   ],
   "source": [
    "display_html(\"<< Iteration is located here. Toggle cell input display to see code. >>\")\n",
    "\n",
    "door = sample(c(car_value, goat_value, goat_value), 3)\n",
    "initial = sample(1:3, 1)\n",
    "show = { if (door[initial] == car_value) sample(setdiff(1:3, initial), 1) \n",
    "         else                            setdiff(1:3, c(initial, which(door == car_value))) }\n",
    "final.change = setdiff(1:3, c(initial, show))\n",
    "final.stay   = initial\n",
    "prize.change = door[final.change]\n",
    "prize.stay   = door[final.stay]\n",
    "cum_prize.change = sum(data$prize.change) + prize.change\n",
    "cum_prize.stay   = sum(data$prize.stay)   + prize.stay\n",
    "\n",
    "observation = data.frame(door_1=door[1], door_2=door[2], door_3=door[3], initial, show, final.change, prize.change, cum_prize.change, final.stay, prize.stay, cum_prize.stay)\n",
    "\n",
    "data = rbind(data, observation)\n",
    "tail(data,10)"
   ]
  },
  {
   "cell_type": "markdown",
   "metadata": {},
   "source": [
    "## Data-to-Decision Methodology"
   ]
  },
  {
   "cell_type": "markdown",
   "metadata": {},
   "source": [
    "![](d2d_process.jpg)"
   ]
  },
  {
   "cell_type": "markdown",
   "metadata": {},
   "source": [
    "## Methods"
   ]
  },
  {
   "cell_type": "code",
   "execution_count": null,
   "metadata": {
    "hide_input": true,
    "scrolled": false
   },
   "outputs": [],
   "source": [
    "data = c(\"business analytics\"=15,\n",
    "         \"decisions\"=25,\n",
    "         \"data\"=25,\n",
    "         \"R\"=15,\n",
    "         \"Jupyter\"=10,\n",
    "         \"methods\"=5,\n",
    "         \"machine learning\"=5,\n",
    "         \"data mining\"=5,\n",
    "         \"descriptive analytics\"=5,\n",
    "         \"predictive analytics\"=5,\n",
    "         \"business applications\"=5,\n",
    "         \"data-driven decisions\"=5,\n",
    "         \"biases\"=5,\n",
    "         \"risk profiles\"=5,\n",
    "         \"methodology for data-driven decisions\"=5,\n",
    "         \"data selection\"=10,\n",
    "         \"data frame\"=5,\n",
    "         \"calculated variables\"=5,\n",
    "         \"descriptive statistics\"=10,\n",
    "         \"cross-tabulation\"=5,\n",
    "         \"data visualization\"=10,\n",
    "         \"scatterplot\"=5,\n",
    "         \"barplot\"=5,\n",
    "         \"lineplot\"=5,\n",
    "         \"histogram\"=5,\n",
    "         \"kernel density estimation\"=10,\n",
    "         \"probability distribution function\"=5,\n",
    "         \"balancing\"=5,\n",
    "         \"alignment\"=5,\n",
    "         \"imputation\"=5,\n",
    "         \"principal component transformation\"=10,\n",
    "         \"cluster analysis\"=15,\n",
    "         \"hierarchical agglomeration\"=5,\n",
    "         \"k-means\"=5,\n",
    "         \"expectation maximization\"=10,\n",
    "         \"gaussian mixture model\"=10,\n",
    "         \"classification\"=15,\n",
    "         \"confusion matrix\"=15,\n",
    "         \"business value\"=10,\n",
    "         \"regression\"=10,\n",
    "         \"model evaluation\"=5,\n",
    "         \"hold-out\"=5,\n",
    "         \"cross-validation\"=15,\n",
    "         \"logistic regression\"=5,\n",
    "         \"k-nearest neighbor\"=5,\n",
    "         \"decision tree\"=5,\n",
    "         \"naive bayes\"=15,\n",
    "         \"support vector machine\"=15,\n",
    "         \"perceptron\"=5,\n",
    "         \"neural network\"=15,\n",
    "         \"linear regression\"=15,\n",
    "         \"multi-class classification\"=10,\n",
    "         \"ensemble meta-methods\"=10,\n",
    "         \"bootstrap aggregating\"=5,\n",
    "         \"boosting\"=5,\n",
    "         \"stacking\"=5,\n",
    "         \"random forest\"=5,\n",
    "         \"model tuning\"=10,\n",
    "         \"feature selection\"=5,\n",
    "         \"hyper-parameter value selection\"=5,\n",
    "         \"time series\"=5,\n",
    "         \"text mining\"=5)\n",
    "\n",
    "data = data.frame(label=names(data), size=data, row.names=NULL)\n",
    "\n",
    "output_size(8,4)\n",
    "set.seed(2)\n",
    "ggwordcloud2(data, size=0.8, minRotation=2*pi, maxRotation=2*pi, rotateRatio=0.35, ellipticity=0.9, shape=\"square\")\n",
    "output_size(restore)"
   ]
  },
  {
   "cell_type": "markdown",
   "metadata": {},
   "source": [
    "## Expect These Take-Aways\n",
    "\n",
    "* There's always a trade, and there's always a trade-off.\n",
    "* The best data analytic method is the one that optimizes your business objective.\n",
    "* Every data analytic method incorporates assumptions.\n",
    "* All data analytic methods result in uncertainty, but they can still be useful.\n",
    "* Most of the work is often about preparing the data."
   ]
  },
  {
   "cell_type": "markdown",
   "metadata": {},
   "source": [
    "## Further Reading\n",
    "\n",
    "### Materials\n",
    "* https://www.r-bloggers.com/in-depth-introduction-to-machine-learning-in-15-hours-of-expert-videos/\n",
    "* https://www.alsharif.info/iom530\n",
    "* http://www-stat.wharton.upenn.edu/~stine/mich/index.html#datamining\n",
    "* http://www.rdatamining.com/\n",
    "* http://www.rdatamining.com/docs/r-and-data-mining-examples-and-case-studies\n",
    "* https://www.kdnuggets.com/2017/09/data-science-key-terms-explained.html\n",
    "* http://bigdata-madesimple.com/big-data-a-to-zz-a-glossary-of-big-data-terminology/\n",
    "* http://www.datascienceglossary.org/\n",
    "* https://www.jstor.org/stable/2683689\n",
    "* https://en.wikipedia.org/wiki/Monty_Hall_problem\n",
    "* https://www.khanacademy.org/math/precalculus/prob-comb/dependent-events-precalc/v/monty-hall-problem\n",
    "* https://www.youtube.com/watch?v=4Lb-6rxZxx0\n",
    "\n",
    "### Books\n",
    "* James et al, “Introduction to Statistical Learning”, http://faculty.marshall.usc.edu/gareth-james/ISL/ISLR%20Seventh%20Printing.pdf \n",
    "* Haste et al, “Elements of Statistical Learning”, https://web.stanford.edu/~hastie/Papers/ESLII.pdf\n",
    "* Witten et al, “Data Mining”, https://www.elsevier.com/books/data-mining/witten/978-0-12-804291-5\n",
    "* EMC, “Data Science & Big Data Analytics”, https://education.emc.com/dsbook/\n",
    "* Stine & Foster, “Statistics for Business: Decision Making & Analysis”,  https://www.pearson.com/us/higher-education/product/Stine-Statistics-for-Business-Decision-Making-and-Analysis-3rd-Edition/9780134497167.html\n",
    "* Daumé , “A Course in Machine Learning”, http://ciml.info/ \n",
    "* Sharda et al, “Business Intelligence, Analysis, and Data Science”, https://www.pearson.com/us/higher-education/program/Sharda-Business-Intelligence-Analytics-and-Data-Science-A-Managerial-Perspective-4th-Edition/PGM1228434.html \n",
    "* Camm et al, “Business Analytics”, https://www.cengage.com/c/business-analytics-3e-camm/9781337406420\n",
    "* Provost & Fawcett, “Data Science for Business”, http://shop.oreilly.com/product/0636920028918.do\n",
    "* Adhikari & Nero, “Computational and Inferential Thinking: The Foundations of Data Science”, https://www.inferentialthinking.com/chapters/intro \n",
    "* Lau, Gonzalez, & Nolan, “Principles and Techniques of Data Science”, https://www.textbook.ds100.org/intro \n",
    "* Stein, \"An R-companion for Statistics for Business\", http://www-stat.wharton.upenn.edu/~stine/r_companion/_book/index.html"
   ]
  },
  {
   "cell_type": "markdown",
   "metadata": {},
   "source": [
    "<p style=\"text-align:left; font-size:10px;\">\n",
    "Copyright (c) Berkeley Data Analytics Group, LLC\n",
    "<span style=\"float:right;\">\n",
    "Document revised July 18, 2020\n",
    "</span>\n",
    "</p>"
   ]
  }
 ],
 "metadata": {
  "hide_code_all_hidden": false,
  "hide_input": true,
  "kernelspec": {
   "display_name": "R",
   "language": "R",
   "name": "ir"
  },
  "language_info": {
   "codemirror_mode": "r",
   "file_extension": ".r",
   "mimetype": "text/x-r-source",
   "name": "R",
   "pygments_lexer": "r",
   "version": "3.6.1"
  },
  "toc": {
   "base_numbering": 1,
   "nav_menu": {},
   "number_sections": true,
   "sideBar": true,
   "skip_h1_title": true,
   "title_cell": "Table of Contents",
   "title_sidebar": "Contents",
   "toc_cell": false,
   "toc_position": {},
   "toc_section_display": true,
   "toc_window_display": false
  }
 },
 "nbformat": 4,
 "nbformat_minor": 2
}
