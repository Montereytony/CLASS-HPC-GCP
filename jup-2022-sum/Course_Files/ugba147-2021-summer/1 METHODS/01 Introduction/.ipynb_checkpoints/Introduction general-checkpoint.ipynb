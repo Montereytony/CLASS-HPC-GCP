{
 "cells": [
  {
   "cell_type": "markdown",
   "metadata": {},
   "source": [
    "![](banner_introduction_general.jpg)"
   ]
  },
  {
   "cell_type": "code",
   "execution_count": 2,
   "metadata": {
    "hide_input": true
   },
   "outputs": [
    {
     "data": {
      "text/html": [
       "== document setup =="
      ]
     },
     "metadata": {},
     "output_type": "display_data"
    }
   ],
   "source": [
    "f = \"setup.R\"; for (i in 1:10) { if (file.exists(f)) break else f = paste0(\"../\", f) }; source(f)                   "
   ]
  },
  {
   "cell_type": "markdown",
   "metadata": {},
   "source": [
    "## Business Analytics"
   ]
  },
  {
   "cell_type": "markdown",
   "metadata": {
    "hide_input": false
   },
   "source": [
    "**Business analytics:** data science methods applied to business problems to inform business decisions\n",
    "\n",
    "**It's not just about the data, it's about the decisions!**\n",
    "\n",
    "The role of the business manager:\n",
    "* The role of the business manager is to make decisions.\n",
    "* The data-driven business manager makes data-driven decisions.\n",
    "\n",
    "Data-driven decisions are informed by the data, relationships implied by the data, and predictions implied by the data."
   ]
  },
  {
   "cell_type": "markdown",
   "metadata": {},
   "source": [
    "## Decisions"
   ]
  },
  {
   "cell_type": "markdown",
   "metadata": {},
   "source": [
    "![](problems_with_decisions.jpg)"
   ]
  },
  {
   "cell_type": "markdown",
   "metadata": {},
   "source": [
    "## Data-Driven Decisions"
   ]
  },
  {
   "cell_type": "markdown",
   "metadata": {},
   "source": [
    "![](let's_make_a_deal.jpg)"
   ]
  },
  {
   "cell_type": "code",
   "execution_count": 3,
   "metadata": {
    "hide_input": true
   },
   "outputs": [
    {
     "data": {
      "text/html": [
       "<< Initialization is located here. Toggle cell input display to see code. >>"
      ]
     },
     "metadata": {},
     "output_type": "display_data"
    }
   ],
   "source": [
    "display_html(\"<< Initialization is located here. Toggle cell input display to see code. >>\")\n",
    "\n",
    "set.seed(12345)\n",
    "data = data.frame(door_1=c(), door_2=c(), door_3=c(), initial=c(), show=c(), final.change=c(), prize.change=c(), cum_prize.change=c(), final.stay=c(), prize.stay=c(), cum_prize.stay=c())\n",
    "car_value = 1\n",
    "goat_value = 0"
   ]
  },
  {
   "cell_type": "code",
   "execution_count": 4,
   "metadata": {
    "hide_input": true
   },
   "outputs": [
    {
     "data": {
      "text/html": [
       "<< Iteration is located here. Toggle cell input display to see code. >>"
      ]
     },
     "metadata": {},
     "output_type": "display_data"
    },
    {
     "data": {
      "text/html": [
       "<table>\n",
       "<thead><tr><th scope=col>door_1</th><th scope=col>door_2</th><th scope=col>door_3</th><th scope=col>initial</th><th scope=col>show</th><th scope=col>final.change</th><th scope=col>prize.change</th><th scope=col>cum_prize.change</th><th scope=col>final.stay</th><th scope=col>prize.stay</th><th scope=col>cum_prize.stay</th></tr></thead>\n",
       "<tbody>\n",
       "\t<tr><td>0</td><td>1</td><td>0</td><td>2</td><td>3</td><td>1</td><td>0</td><td>0</td><td>2</td><td>1</td><td>1</td></tr>\n",
       "</tbody>\n",
       "</table>\n"
      ],
      "text/latex": [
       "\\begin{tabular}{r|lllllllllll}\n",
       " door\\_1 & door\\_2 & door\\_3 & initial & show & final.change & prize.change & cum\\_prize.change & final.stay & prize.stay & cum\\_prize.stay\\\\\n",
       "\\hline\n",
       "\t 0 & 1 & 0 & 2 & 3 & 1 & 0 & 0 & 2 & 1 & 1\\\\\n",
       "\\end{tabular}\n"
      ],
      "text/markdown": [
       "\n",
       "| door_1 | door_2 | door_3 | initial | show | final.change | prize.change | cum_prize.change | final.stay | prize.stay | cum_prize.stay |\n",
       "|---|---|---|---|---|---|---|---|---|---|---|\n",
       "| 0 | 1 | 0 | 2 | 3 | 1 | 0 | 0 | 2 | 1 | 1 |\n",
       "\n"
      ],
      "text/plain": [
       "  door_1 door_2 door_3 initial show final.change prize.change cum_prize.change\n",
       "1 0      1      0      2       3    1            0            0               \n",
       "  final.stay prize.stay cum_prize.stay\n",
       "1 2          1          1             "
      ]
     },
     "metadata": {},
     "output_type": "display_data"
    }
   ],
   "source": [
    "display_html(\"<< Iteration is located here. Toggle cell input display to see code. >>\")\n",
    "\n",
    "door = sample(c(car_value, goat_value, goat_value), 3)\n",
    "initial = sample(1:3, 1)\n",
    "show = { if (door[initial] == car_value) sample(setdiff(1:3, initial), 1) \n",
    "         else                            setdiff(1:3, c(initial, which(door == car_value))) }\n",
    "final.change = setdiff(1:3, c(initial, show))\n",
    "final.stay   = initial\n",
    "prize.change = door[final.change]\n",
    "prize.stay   = door[final.stay]\n",
    "cum_prize.change = sum(data$prize.change) + prize.change\n",
    "cum_prize.stay   = sum(data$prize.stay)   + prize.stay\n",
    "\n",
    "observation = data.frame(door_1=door[1], door_2=door[2], door_3=door[3], initial, show, final.change, prize.change, cum_prize.change, final.stay, prize.stay, cum_prize.stay)\n",
    "\n",
    "data = rbind(data, observation)\n",
    "tail(data,10)"
   ]
  },
  {
   "cell_type": "markdown",
   "metadata": {},
   "source": [
    "<p style=\"text-align:left; font-size:10px;\">\n",
    "Copyright (c) Berkeley Data Analytics Group, LLC\n",
    "<span style=\"float:right;\">\n",
    "Document revised October 30, 2019\n",
    "</span>\n",
    "</p>"
   ]
  }
 ],
 "metadata": {
  "hide_code_all_hidden": false,
  "hide_input": true,
  "kernelspec": {
   "display_name": "R",
   "language": "R",
   "name": "ir"
  },
  "language_info": {
   "codemirror_mode": "r",
   "file_extension": ".r",
   "mimetype": "text/x-r-source",
   "name": "R",
   "pygments_lexer": "r",
   "version": "3.6.1"
  },
  "toc": {
   "base_numbering": 1,
   "nav_menu": {},
   "number_sections": true,
   "sideBar": true,
   "skip_h1_title": true,
   "title_cell": "Table of Contents",
   "title_sidebar": "Contents",
   "toc_cell": false,
   "toc_position": {},
   "toc_section_display": true,
   "toc_window_display": true
  }
 },
 "nbformat": 4,
 "nbformat_minor": 2
}
