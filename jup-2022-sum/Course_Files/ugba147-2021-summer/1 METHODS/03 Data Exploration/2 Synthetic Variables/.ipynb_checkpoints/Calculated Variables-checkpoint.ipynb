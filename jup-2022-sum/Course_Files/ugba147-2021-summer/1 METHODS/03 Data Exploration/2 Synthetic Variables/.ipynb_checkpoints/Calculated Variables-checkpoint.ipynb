{
 "cells": [
  {
   "cell_type": "markdown",
   "metadata": {
    "hideCode": false,
    "hidePrompt": false
   },
   "source": [
    "# Rendered Variables\n",
    "\n",
    "![](banner_calculated_variables.jpg)"
   ]
  },
  {
   "cell_type": "code",
   "execution_count": 3,
   "metadata": {
    "hide_input": true,
    "scrolled": false
   },
   "outputs": [
    {
     "name": "stdout",
     "output_type": "stream",
     "text": [
      "Open code cell here for notebook apparatus."
     ]
    }
   ],
   "source": [
    "cat(\"Open code cell here for notebook apparatus.\")\n",
    "\n",
    "options(warn=-1)\n",
    "\n",
    "# Load some required functions\n",
    "library(psych, verbose=FALSE, warn.conflicts=FALSE, quietly=TRUE)"
   ]
  },
  {
   "cell_type": "markdown",
   "metadata": {},
   "source": [
    "## Introduction"
   ]
  },
  {
   "cell_type": "markdown",
   "metadata": {},
   "source": [
    "\n",
    "Change or enhance how data is represented without adding unobserved any measurements.\n",
    "\n",
    "Transform one or more variables to a new variable by applying a function one observation at a time, possibly with offsets. The transform function can be a unit conversion; a linear re-combinaton; a non-linear recombination such as power, log, exponential, or trigonometric; a recombination with observation offsets; a descriptive statistic; or any arbitrary function."
   ]
  },
  {
   "cell_type": "markdown",
   "metadata": {},
   "source": [
    "## Discourse"
   ]
  },
  {
   "cell_type": "markdown",
   "metadata": {},
   "source": [
    "### By Unit Conversion"
   ]
  },
  {
   "cell_type": "code",
   "execution_count": 1,
   "metadata": {
    "hide_input": true
   },
   "outputs": [
    {
     "data": {
      "text/html": [
       "<table>\n",
       "<thead><tr><th scope=col>distance.mi</th></tr></thead>\n",
       "<tbody>\n",
       "\t<tr><td> 1.7</td></tr>\n",
       "\t<tr><td> 2.3</td></tr>\n",
       "\t<tr><td> 3.1</td></tr>\n",
       "\t<tr><td> 4.6</td></tr>\n",
       "\t<tr><td>26.1</td></tr>\n",
       "</tbody>\n",
       "</table>\n"
      ],
      "text/latex": [
       "\\begin{tabular}{r|l}\n",
       " distance.mi\\\\\n",
       "\\hline\n",
       "\t  1.7\\\\\n",
       "\t  2.3\\\\\n",
       "\t  3.1\\\\\n",
       "\t  4.6\\\\\n",
       "\t 26.1\\\\\n",
       "\\end{tabular}\n"
      ],
      "text/markdown": [
       "\n",
       "distance.mi | \n",
       "|---|---|---|---|---|\n",
       "|  1.7 | \n",
       "|  2.3 | \n",
       "|  3.1 | \n",
       "|  4.6 | \n",
       "| 26.1 | \n",
       "\n",
       "\n"
      ],
      "text/plain": [
       "  distance.mi\n",
       "1  1.7       \n",
       "2  2.3       \n",
       "3  3.1       \n",
       "4  4.6       \n",
       "5 26.1       "
      ]
     },
     "metadata": {},
     "output_type": "display_data"
    }
   ],
   "source": [
    "data = data.frame(distance.mi=c(1.7,2.3,3.1,4.6,26.1))\n",
    "data"
   ]
  },
  {
   "cell_type": "code",
   "execution_count": 2,
   "metadata": {
    "hide_input": true
   },
   "outputs": [
    {
     "data": {
      "text/html": [
       "<table>\n",
       "<thead><tr><th scope=col>distance.mi</th><th scope=col>distance.km</th></tr></thead>\n",
       "<tbody>\n",
       "\t<tr><td> 1.7   </td><td> 2.7353</td></tr>\n",
       "\t<tr><td> 2.3   </td><td> 3.7007</td></tr>\n",
       "\t<tr><td> 3.1   </td><td> 4.9879</td></tr>\n",
       "\t<tr><td> 4.6   </td><td> 7.4014</td></tr>\n",
       "\t<tr><td>26.1   </td><td>41.9949</td></tr>\n",
       "</tbody>\n",
       "</table>\n"
      ],
      "text/latex": [
       "\\begin{tabular}{r|ll}\n",
       " distance.mi & distance.km\\\\\n",
       "\\hline\n",
       "\t  1.7    &  2.7353\\\\\n",
       "\t  2.3    &  3.7007\\\\\n",
       "\t  3.1    &  4.9879\\\\\n",
       "\t  4.6    &  7.4014\\\\\n",
       "\t 26.1    & 41.9949\\\\\n",
       "\\end{tabular}\n"
      ],
      "text/markdown": [
       "\n",
       "distance.mi | distance.km | \n",
       "|---|---|---|---|---|\n",
       "|  1.7    |  2.7353 | \n",
       "|  2.3    |  3.7007 | \n",
       "|  3.1    |  4.9879 | \n",
       "|  4.6    |  7.4014 | \n",
       "| 26.1    | 41.9949 | \n",
       "\n",
       "\n"
      ],
      "text/plain": [
       "  distance.mi distance.km\n",
       "1  1.7         2.7353    \n",
       "2  2.3         3.7007    \n",
       "3  3.1         4.9879    \n",
       "4  4.6         7.4014    \n",
       "5 26.1        41.9949    "
      ]
     },
     "metadata": {},
     "output_type": "display_data"
    }
   ],
   "source": [
    "data$distance.km = data$distance.mi * 1.609\n",
    "data"
   ]
  },
  {
   "cell_type": "markdown",
   "metadata": {},
   "source": [
    "### By Linear Recombination"
   ]
  },
  {
   "cell_type": "code",
   "execution_count": 12,
   "metadata": {
    "hide_input": true,
    "scrolled": true
   },
   "outputs": [
    {
     "data": {
      "text/html": [
       "<table>\n",
       "<thead><tr><th scope=col>age</th><th scope=col>student</th></tr></thead>\n",
       "<tbody>\n",
       "\t<tr><td>45   </td><td>FALSE</td></tr>\n",
       "\t<tr><td>47   </td><td> TRUE</td></tr>\n",
       "\t<tr><td>55   </td><td>FALSE</td></tr>\n",
       "\t<tr><td>18   </td><td> TRUE</td></tr>\n",
       "\t<tr><td>22   </td><td> TRUE</td></tr>\n",
       "</tbody>\n",
       "</table>\n"
      ],
      "text/latex": [
       "\\begin{tabular}{r|ll}\n",
       " age & student\\\\\n",
       "\\hline\n",
       "\t 45    & FALSE\\\\\n",
       "\t 47    &  TRUE\\\\\n",
       "\t 55    & FALSE\\\\\n",
       "\t 18    &  TRUE\\\\\n",
       "\t 22    &  TRUE\\\\\n",
       "\\end{tabular}\n"
      ],
      "text/markdown": [
       "\n",
       "age | student | \n",
       "|---|---|---|---|---|\n",
       "| 45    | FALSE | \n",
       "| 47    |  TRUE | \n",
       "| 55    | FALSE | \n",
       "| 18    |  TRUE | \n",
       "| 22    |  TRUE | \n",
       "\n",
       "\n"
      ],
      "text/plain": [
       "  age student\n",
       "1 45  FALSE  \n",
       "2 47   TRUE  \n",
       "3 55  FALSE  \n",
       "4 18   TRUE  \n",
       "5 22   TRUE  "
      ]
     },
     "metadata": {},
     "output_type": "display_data"
    }
   ],
   "source": [
    "data = data.frame(age=c(45, 47, 55, 18, 22), student=c(FALSE, TRUE, FALSE, TRUE, TRUE))\n",
    "data"
   ]
  },
  {
   "cell_type": "code",
   "execution_count": 15,
   "metadata": {
    "hide_input": true
   },
   "outputs": [
    {
     "data": {
      "text/html": [
       "<ol class=list-inline>\n",
       "\t<li>0</li>\n",
       "\t<li>1</li>\n",
       "\t<li>0</li>\n",
       "\t<li>1</li>\n",
       "\t<li>1</li>\n",
       "</ol>\n"
      ],
      "text/latex": [
       "\\begin{enumerate*}\n",
       "\\item 0\n",
       "\\item 1\n",
       "\\item 0\n",
       "\\item 1\n",
       "\\item 1\n",
       "\\end{enumerate*}\n"
      ],
      "text/markdown": [
       "1. 0\n",
       "2. 1\n",
       "3. 0\n",
       "4. 1\n",
       "5. 1\n",
       "\n",
       "\n"
      ],
      "text/plain": [
       "[1] 0 1 0 1 1"
      ]
     },
     "metadata": {},
     "output_type": "display_data"
    },
    {
     "data": {
      "text/html": [
       "<table>\n",
       "<thead><tr><th scope=col>age</th><th scope=col>student</th><th scope=col>score</th></tr></thead>\n",
       "<tbody>\n",
       "\t<tr><td>45   </td><td>FALSE</td><td>27.5 </td></tr>\n",
       "\t<tr><td>47   </td><td> TRUE</td><td>76.5 </td></tr>\n",
       "\t<tr><td>55   </td><td>FALSE</td><td>22.5 </td></tr>\n",
       "\t<tr><td>18   </td><td> TRUE</td><td>91.0 </td></tr>\n",
       "\t<tr><td>22   </td><td> TRUE</td><td>89.0 </td></tr>\n",
       "</tbody>\n",
       "</table>\n"
      ],
      "text/latex": [
       "\\begin{tabular}{r|lll}\n",
       " age & student & score\\\\\n",
       "\\hline\n",
       "\t 45    & FALSE & 27.5 \\\\\n",
       "\t 47    &  TRUE & 76.5 \\\\\n",
       "\t 55    & FALSE & 22.5 \\\\\n",
       "\t 18    &  TRUE & 91.0 \\\\\n",
       "\t 22    &  TRUE & 89.0 \\\\\n",
       "\\end{tabular}\n"
      ],
      "text/markdown": [
       "\n",
       "age | student | score | \n",
       "|---|---|---|---|---|\n",
       "| 45    | FALSE | 27.5  | \n",
       "| 47    |  TRUE | 76.5  | \n",
       "| 55    | FALSE | 22.5  | \n",
       "| 18    |  TRUE | 91.0  | \n",
       "| 22    |  TRUE | 89.0  | \n",
       "\n",
       "\n"
      ],
      "text/plain": [
       "  age student score\n",
       "1 45  FALSE   27.5 \n",
       "2 47   TRUE   76.5 \n",
       "3 55  FALSE   22.5 \n",
       "4 18   TRUE   91.0 \n",
       "5 22   TRUE   89.0 "
      ]
     },
     "metadata": {},
     "output_type": "display_data"
    }
   ],
   "source": [
    "data$score = 0.5*(100-data$age) + 50*as.numeric(data$student)\n",
    "as.numeric(data$student)\n",
    "data"
   ]
  },
  {
   "cell_type": "markdown",
   "metadata": {},
   "source": [
    "### By Non-Linear Recombination"
   ]
  },
  {
   "cell_type": "code",
   "execution_count": 49,
   "metadata": {
    "hide_input": true,
    "scrolled": true
   },
   "outputs": [
    {
     "data": {
      "text/html": [
       "<table>\n",
       "<thead><tr><th scope=col>x</th><th scope=col>y</th></tr></thead>\n",
       "<tbody>\n",
       "\t<tr><td>3 </td><td>25</td></tr>\n",
       "\t<tr><td>4 </td><td>42</td></tr>\n",
       "\t<tr><td>5 </td><td>53</td></tr>\n",
       "\t<tr><td>4 </td><td>47</td></tr>\n",
       "\t<tr><td>5 </td><td>51</td></tr>\n",
       "\t<tr><td>5 </td><td>65</td></tr>\n",
       "</tbody>\n",
       "</table>\n"
      ],
      "text/latex": [
       "\\begin{tabular}{r|ll}\n",
       " x & y\\\\\n",
       "\\hline\n",
       "\t 3  & 25\\\\\n",
       "\t 4  & 42\\\\\n",
       "\t 5  & 53\\\\\n",
       "\t 4  & 47\\\\\n",
       "\t 5  & 51\\\\\n",
       "\t 5  & 65\\\\\n",
       "\\end{tabular}\n"
      ],
      "text/markdown": [
       "\n",
       "x | y | \n",
       "|---|---|---|---|---|---|\n",
       "| 3  | 25 | \n",
       "| 4  | 42 | \n",
       "| 5  | 53 | \n",
       "| 4  | 47 | \n",
       "| 5  | 51 | \n",
       "| 5  | 65 | \n",
       "\n",
       "\n"
      ],
      "text/plain": [
       "  x y \n",
       "1 3 25\n",
       "2 4 42\n",
       "3 5 53\n",
       "4 4 47\n",
       "5 5 51\n",
       "6 5 65"
      ]
     },
     "metadata": {},
     "output_type": "display_data"
    }
   ],
   "source": [
    "data = data.frame(x=c(3,4,5,4,5,5), y=c(25,42,53,47,51,65))\n",
    "data"
   ]
  },
  {
   "cell_type": "code",
   "execution_count": 50,
   "metadata": {
    "hide_input": true
   },
   "outputs": [
    {
     "data": {
      "text/html": [
       "<table>\n",
       "<thead><tr><th scope=col>x</th><th scope=col>y</th><th scope=col>square.x</th><th scope=col>square.y</th><th scope=col>xy</th><th scope=col>ln.x</th><th scope=col>ln.y</th><th scope=col>sin.x</th></tr></thead>\n",
       "<tbody>\n",
       "\t<tr><td>3         </td><td>25        </td><td> 9        </td><td> 625      </td><td> 75       </td><td>1.098612  </td><td>3.218876  </td><td> 0.1411200</td></tr>\n",
       "\t<tr><td>4         </td><td>42        </td><td>16        </td><td>1764      </td><td>168       </td><td>1.386294  </td><td>3.737670  </td><td>-0.7568025</td></tr>\n",
       "\t<tr><td>5         </td><td>53        </td><td>25        </td><td>2809      </td><td>265       </td><td>1.609438  </td><td>3.970292  </td><td>-0.9589243</td></tr>\n",
       "\t<tr><td>4         </td><td>47        </td><td>16        </td><td>2209      </td><td>188       </td><td>1.386294  </td><td>3.850148  </td><td>-0.7568025</td></tr>\n",
       "\t<tr><td>5         </td><td>51        </td><td>25        </td><td>2601      </td><td>255       </td><td>1.609438  </td><td>3.931826  </td><td>-0.9589243</td></tr>\n",
       "\t<tr><td>5         </td><td>65        </td><td>25        </td><td>4225      </td><td>325       </td><td>1.609438  </td><td>4.174387  </td><td>-0.9589243</td></tr>\n",
       "</tbody>\n",
       "</table>\n"
      ],
      "text/latex": [
       "\\begin{tabular}{r|llllllll}\n",
       " x & y & square.x & square.y & xy & ln.x & ln.y & sin.x\\\\\n",
       "\\hline\n",
       "\t 3          & 25         &  9         &  625       &  75        & 1.098612   & 3.218876   &  0.1411200\\\\\n",
       "\t 4          & 42         & 16         & 1764       & 168        & 1.386294   & 3.737670   & -0.7568025\\\\\n",
       "\t 5          & 53         & 25         & 2809       & 265        & 1.609438   & 3.970292   & -0.9589243\\\\\n",
       "\t 4          & 47         & 16         & 2209       & 188        & 1.386294   & 3.850148   & -0.7568025\\\\\n",
       "\t 5          & 51         & 25         & 2601       & 255        & 1.609438   & 3.931826   & -0.9589243\\\\\n",
       "\t 5          & 65         & 25         & 4225       & 325        & 1.609438   & 4.174387   & -0.9589243\\\\\n",
       "\\end{tabular}\n"
      ],
      "text/markdown": [
       "\n",
       "x | y | square.x | square.y | xy | ln.x | ln.y | sin.x | \n",
       "|---|---|---|---|---|---|\n",
       "| 3          | 25         |  9         |  625       |  75        | 1.098612   | 3.218876   |  0.1411200 | \n",
       "| 4          | 42         | 16         | 1764       | 168        | 1.386294   | 3.737670   | -0.7568025 | \n",
       "| 5          | 53         | 25         | 2809       | 265        | 1.609438   | 3.970292   | -0.9589243 | \n",
       "| 4          | 47         | 16         | 2209       | 188        | 1.386294   | 3.850148   | -0.7568025 | \n",
       "| 5          | 51         | 25         | 2601       | 255        | 1.609438   | 3.931826   | -0.9589243 | \n",
       "| 5          | 65         | 25         | 4225       | 325        | 1.609438   | 4.174387   | -0.9589243 | \n",
       "\n",
       "\n"
      ],
      "text/plain": [
       "  x y  square.x square.y xy  ln.x     ln.y     sin.x     \n",
       "1 3 25  9        625      75 1.098612 3.218876  0.1411200\n",
       "2 4 42 16       1764     168 1.386294 3.737670 -0.7568025\n",
       "3 5 53 25       2809     265 1.609438 3.970292 -0.9589243\n",
       "4 4 47 16       2209     188 1.386294 3.850148 -0.7568025\n",
       "5 5 51 25       2601     255 1.609438 3.931826 -0.9589243\n",
       "6 5 65 25       4225     325 1.609438 4.174387 -0.9589243"
      ]
     },
     "metadata": {},
     "output_type": "display_data"
    }
   ],
   "source": [
    "data$square.x = data$x^2\n",
    "data$square.y = data$y^2\n",
    "data$xy = data$x * data$y\n",
    "data$ln.x = log(data$x)\n",
    "data$ln.y = log(data$y)\n",
    "data$sin.x = sin(data$x)\n",
    "data"
   ]
  },
  {
   "cell_type": "markdown",
   "metadata": {},
   "source": [
    "### By Recombinaton with Observation Offsets"
   ]
  },
  {
   "cell_type": "markdown",
   "metadata": {},
   "source": [
    "#### Example: Determine the average periodic return."
   ]
  },
  {
   "cell_type": "code",
   "execution_count": 30,
   "metadata": {
    "hide_input": true
   },
   "outputs": [
    {
     "data": {
      "text/html": [
       "<table>\n",
       "<thead><tr><th scope=col>year</th><th scope=col>start_balance</th></tr></thead>\n",
       "<tbody>\n",
       "\t<tr><td>2009  </td><td>100.00</td></tr>\n",
       "\t<tr><td>2010  </td><td> 77.90</td></tr>\n",
       "\t<tr><td>2011  </td><td>100.26</td></tr>\n",
       "\t<tr><td>2012  </td><td>111.19</td></tr>\n",
       "\t<tr><td>2013  </td><td>116.63</td></tr>\n",
       "\t<tr><td>2014  </td><td>135.06</td></tr>\n",
       "\t<tr><td>2015  </td><td>142.49</td></tr>\n",
       "\t<tr><td>2016  </td><td> 89.77</td></tr>\n",
       "\t<tr><td>2017  </td><td>113.56</td></tr>\n",
       "\t<tr><td>2018  </td><td>130.70</td></tr>\n",
       "\t<tr><td>2019  </td><td>133.45</td></tr>\n",
       "</tbody>\n",
       "</table>\n"
      ],
      "text/latex": [
       "\\begin{tabular}{r|ll}\n",
       " year & start\\_balance\\\\\n",
       "\\hline\n",
       "\t 2009   & 100.00\\\\\n",
       "\t 2010   &  77.90\\\\\n",
       "\t 2011   & 100.26\\\\\n",
       "\t 2012   & 111.19\\\\\n",
       "\t 2013   & 116.63\\\\\n",
       "\t 2014   & 135.06\\\\\n",
       "\t 2015   & 142.49\\\\\n",
       "\t 2016   &  89.77\\\\\n",
       "\t 2017   & 113.56\\\\\n",
       "\t 2018   & 130.70\\\\\n",
       "\t 2019   & 133.45\\\\\n",
       "\\end{tabular}\n"
      ],
      "text/markdown": [
       "\n",
       "year | start_balance | \n",
       "|---|---|---|---|---|---|---|---|---|---|---|\n",
       "| 2009   | 100.00 | \n",
       "| 2010   |  77.90 | \n",
       "| 2011   | 100.26 | \n",
       "| 2012   | 111.19 | \n",
       "| 2013   | 116.63 | \n",
       "| 2014   | 135.06 | \n",
       "| 2015   | 142.49 | \n",
       "| 2016   |  89.77 | \n",
       "| 2017   | 113.56 | \n",
       "| 2018   | 130.70 | \n",
       "| 2019   | 133.45 | \n",
       "\n",
       "\n"
      ],
      "text/plain": [
       "   year start_balance\n",
       "1  2009 100.00       \n",
       "2  2010  77.90       \n",
       "3  2011 100.26       \n",
       "4  2012 111.19       \n",
       "5  2013 116.63       \n",
       "6  2014 135.06       \n",
       "7  2015 142.49       \n",
       "8  2016  89.77       \n",
       "9  2017 113.56       \n",
       "10 2018 130.70       \n",
       "11 2019 133.45       "
      ]
     },
     "metadata": {},
     "output_type": "display_data"
    }
   ],
   "source": [
    "data = data.frame(year=c(2009,2010,2011,2012,2013,2014,2015,2016,2017,2018,2019),\n",
    "                  start_balance=c(100,77.90,100.26,111.19,116.63,135.06,142.49,89.77,113.56,130.70,133.45))\n",
    "data"
   ]
  },
  {
   "cell_type": "code",
   "execution_count": 31,
   "metadata": {},
   "outputs": [
    {
     "data": {
      "text/html": [
       "<ol class=list-inline>\n",
       "\t<li>77.9</li>\n",
       "\t<li>100.26</li>\n",
       "\t<li>111.19</li>\n",
       "\t<li>116.63</li>\n",
       "\t<li>135.06</li>\n",
       "\t<li>142.49</li>\n",
       "\t<li>89.77</li>\n",
       "\t<li>113.56</li>\n",
       "\t<li>130.7</li>\n",
       "\t<li>133.45</li>\n",
       "</ol>\n"
      ],
      "text/latex": [
       "\\begin{enumerate*}\n",
       "\\item 77.9\n",
       "\\item 100.26\n",
       "\\item 111.19\n",
       "\\item 116.63\n",
       "\\item 135.06\n",
       "\\item 142.49\n",
       "\\item 89.77\n",
       "\\item 113.56\n",
       "\\item 130.7\n",
       "\\item 133.45\n",
       "\\end{enumerate*}\n"
      ],
      "text/markdown": [
       "1. 77.9\n",
       "2. 100.26\n",
       "3. 111.19\n",
       "4. 116.63\n",
       "5. 135.06\n",
       "6. 142.49\n",
       "7. 89.77\n",
       "8. 113.56\n",
       "9. 130.7\n",
       "10. 133.45\n",
       "\n",
       "\n"
      ],
      "text/plain": [
       " [1]  77.90 100.26 111.19 116.63 135.06 142.49  89.77 113.56 130.70 133.45"
      ]
     },
     "metadata": {},
     "output_type": "display_data"
    },
    {
     "data": {
      "text/html": [
       "<ol class=list-inline>\n",
       "\t<li>77.9</li>\n",
       "\t<li>100.26</li>\n",
       "\t<li>111.19</li>\n",
       "\t<li>116.63</li>\n",
       "\t<li>135.06</li>\n",
       "\t<li>142.49</li>\n",
       "\t<li>89.77</li>\n",
       "\t<li>113.56</li>\n",
       "\t<li>130.7</li>\n",
       "\t<li>133.45</li>\n",
       "\t<li>&lt;NA&gt;</li>\n",
       "</ol>\n"
      ],
      "text/latex": [
       "\\begin{enumerate*}\n",
       "\\item 77.9\n",
       "\\item 100.26\n",
       "\\item 111.19\n",
       "\\item 116.63\n",
       "\\item 135.06\n",
       "\\item 142.49\n",
       "\\item 89.77\n",
       "\\item 113.56\n",
       "\\item 130.7\n",
       "\\item 133.45\n",
       "\\item <NA>\n",
       "\\end{enumerate*}\n"
      ],
      "text/markdown": [
       "1. 77.9\n",
       "2. 100.26\n",
       "3. 111.19\n",
       "4. 116.63\n",
       "5. 135.06\n",
       "6. 142.49\n",
       "7. 89.77\n",
       "8. 113.56\n",
       "9. 130.7\n",
       "10. 133.45\n",
       "11. &lt;NA&gt;\n",
       "\n",
       "\n"
      ],
      "text/plain": [
       " [1]  77.90 100.26 111.19 116.63 135.06 142.49  89.77 113.56 130.70 133.45\n",
       "[11]     NA"
      ]
     },
     "metadata": {},
     "output_type": "display_data"
    },
    {
     "data": {
      "text/html": [
       "<table>\n",
       "<thead><tr><th scope=col>year</th><th scope=col>start_balance</th><th scope=col>end_balance</th></tr></thead>\n",
       "<tbody>\n",
       "\t<tr><td>2009  </td><td>100.00</td><td> 77.90</td></tr>\n",
       "\t<tr><td>2010  </td><td> 77.90</td><td>100.26</td></tr>\n",
       "\t<tr><td>2011  </td><td>100.26</td><td>111.19</td></tr>\n",
       "\t<tr><td>2012  </td><td>111.19</td><td>116.63</td></tr>\n",
       "\t<tr><td>2013  </td><td>116.63</td><td>135.06</td></tr>\n",
       "\t<tr><td>2014  </td><td>135.06</td><td>142.49</td></tr>\n",
       "\t<tr><td>2015  </td><td>142.49</td><td> 89.77</td></tr>\n",
       "\t<tr><td>2016  </td><td> 89.77</td><td>113.56</td></tr>\n",
       "\t<tr><td>2017  </td><td>113.56</td><td>130.70</td></tr>\n",
       "\t<tr><td>2018  </td><td>130.70</td><td>133.45</td></tr>\n",
       "\t<tr><td>2019  </td><td>133.45</td><td>    NA</td></tr>\n",
       "</tbody>\n",
       "</table>\n"
      ],
      "text/latex": [
       "\\begin{tabular}{r|lll}\n",
       " year & start\\_balance & end\\_balance\\\\\n",
       "\\hline\n",
       "\t 2009   & 100.00 &  77.90\\\\\n",
       "\t 2010   &  77.90 & 100.26\\\\\n",
       "\t 2011   & 100.26 & 111.19\\\\\n",
       "\t 2012   & 111.19 & 116.63\\\\\n",
       "\t 2013   & 116.63 & 135.06\\\\\n",
       "\t 2014   & 135.06 & 142.49\\\\\n",
       "\t 2015   & 142.49 &  89.77\\\\\n",
       "\t 2016   &  89.77 & 113.56\\\\\n",
       "\t 2017   & 113.56 & 130.70\\\\\n",
       "\t 2018   & 130.70 & 133.45\\\\\n",
       "\t 2019   & 133.45 &     NA\\\\\n",
       "\\end{tabular}\n"
      ],
      "text/markdown": [
       "\n",
       "year | start_balance | end_balance | \n",
       "|---|---|---|---|---|---|---|---|---|---|---|\n",
       "| 2009   | 100.00 |  77.90 | \n",
       "| 2010   |  77.90 | 100.26 | \n",
       "| 2011   | 100.26 | 111.19 | \n",
       "| 2012   | 111.19 | 116.63 | \n",
       "| 2013   | 116.63 | 135.06 | \n",
       "| 2014   | 135.06 | 142.49 | \n",
       "| 2015   | 142.49 |  89.77 | \n",
       "| 2016   |  89.77 | 113.56 | \n",
       "| 2017   | 113.56 | 130.70 | \n",
       "| 2018   | 130.70 | 133.45 | \n",
       "| 2019   | 133.45 |     NA | \n",
       "\n",
       "\n"
      ],
      "text/plain": [
       "   year start_balance end_balance\n",
       "1  2009 100.00         77.90     \n",
       "2  2010  77.90        100.26     \n",
       "3  2011 100.26        111.19     \n",
       "4  2012 111.19        116.63     \n",
       "5  2013 116.63        135.06     \n",
       "6  2014 135.06        142.49     \n",
       "7  2015 142.49         89.77     \n",
       "8  2016  89.77        113.56     \n",
       "9  2017 113.56        130.70     \n",
       "10 2018 130.70        133.45     \n",
       "11 2019 133.45            NA     "
      ]
     },
     "metadata": {},
     "output_type": "display_data"
    }
   ],
   "source": [
    "data$start_balance[2:nrow(data)]\n",
    "c(data$start_balance[2:nrow(data)], NA)\n",
    "\n",
    "data$end_balance = c(data$start_balance[2:nrow(data)], NA)\n",
    "data"
   ]
  },
  {
   "cell_type": "code",
   "execution_count": 32,
   "metadata": {},
   "outputs": [
    {
     "data": {
      "text/html": [
       "<table>\n",
       "<thead><tr><th scope=col>year</th><th scope=col>start_balance</th><th scope=col>end_balance</th><th scope=col>return</th></tr></thead>\n",
       "<tbody>\n",
       "\t<tr><td>2009       </td><td>100.00     </td><td> 77.90     </td><td>-0.22100000</td></tr>\n",
       "\t<tr><td>2010       </td><td> 77.90     </td><td>100.26     </td><td> 0.28703466</td></tr>\n",
       "\t<tr><td>2011       </td><td>100.26     </td><td>111.19     </td><td> 0.10901656</td></tr>\n",
       "\t<tr><td>2012       </td><td>111.19     </td><td>116.63     </td><td> 0.04892526</td></tr>\n",
       "\t<tr><td>2013       </td><td>116.63     </td><td>135.06     </td><td> 0.15802109</td></tr>\n",
       "\t<tr><td>2014       </td><td>135.06     </td><td>142.49     </td><td> 0.05501259</td></tr>\n",
       "\t<tr><td>2015       </td><td>142.49     </td><td> 89.77     </td><td>-0.36999088</td></tr>\n",
       "\t<tr><td>2016       </td><td> 89.77     </td><td>113.56     </td><td> 0.26501058</td></tr>\n",
       "\t<tr><td>2017       </td><td>113.56     </td><td>130.70     </td><td> 0.15093343</td></tr>\n",
       "\t<tr><td>2018       </td><td>130.70     </td><td>133.45     </td><td> 0.02104055</td></tr>\n",
       "\t<tr><td>2019       </td><td>133.45     </td><td>    NA     </td><td>         NA</td></tr>\n",
       "</tbody>\n",
       "</table>\n"
      ],
      "text/latex": [
       "\\begin{tabular}{r|llll}\n",
       " year & start\\_balance & end\\_balance & return\\\\\n",
       "\\hline\n",
       "\t 2009        & 100.00      &  77.90      & -0.22100000\\\\\n",
       "\t 2010        &  77.90      & 100.26      &  0.28703466\\\\\n",
       "\t 2011        & 100.26      & 111.19      &  0.10901656\\\\\n",
       "\t 2012        & 111.19      & 116.63      &  0.04892526\\\\\n",
       "\t 2013        & 116.63      & 135.06      &  0.15802109\\\\\n",
       "\t 2014        & 135.06      & 142.49      &  0.05501259\\\\\n",
       "\t 2015        & 142.49      &  89.77      & -0.36999088\\\\\n",
       "\t 2016        &  89.77      & 113.56      &  0.26501058\\\\\n",
       "\t 2017        & 113.56      & 130.70      &  0.15093343\\\\\n",
       "\t 2018        & 130.70      & 133.45      &  0.02104055\\\\\n",
       "\t 2019        & 133.45      &     NA      &          NA\\\\\n",
       "\\end{tabular}\n"
      ],
      "text/markdown": [
       "\n",
       "year | start_balance | end_balance | return | \n",
       "|---|---|---|---|---|---|---|---|---|---|---|\n",
       "| 2009        | 100.00      |  77.90      | -0.22100000 | \n",
       "| 2010        |  77.90      | 100.26      |  0.28703466 | \n",
       "| 2011        | 100.26      | 111.19      |  0.10901656 | \n",
       "| 2012        | 111.19      | 116.63      |  0.04892526 | \n",
       "| 2013        | 116.63      | 135.06      |  0.15802109 | \n",
       "| 2014        | 135.06      | 142.49      |  0.05501259 | \n",
       "| 2015        | 142.49      |  89.77      | -0.36999088 | \n",
       "| 2016        |  89.77      | 113.56      |  0.26501058 | \n",
       "| 2017        | 113.56      | 130.70      |  0.15093343 | \n",
       "| 2018        | 130.70      | 133.45      |  0.02104055 | \n",
       "| 2019        | 133.45      |     NA      |          NA | \n",
       "\n",
       "\n"
      ],
      "text/plain": [
       "   year start_balance end_balance return     \n",
       "1  2009 100.00         77.90      -0.22100000\n",
       "2  2010  77.90        100.26       0.28703466\n",
       "3  2011 100.26        111.19       0.10901656\n",
       "4  2012 111.19        116.63       0.04892526\n",
       "5  2013 116.63        135.06       0.15802109\n",
       "6  2014 135.06        142.49       0.05501259\n",
       "7  2015 142.49         89.77      -0.36999088\n",
       "8  2016  89.77        113.56       0.26501058\n",
       "9  2017 113.56        130.70       0.15093343\n",
       "10 2018 130.70        133.45       0.02104055\n",
       "11 2019 133.45            NA               NA"
      ]
     },
     "metadata": {},
     "output_type": "display_data"
    }
   ],
   "source": [
    "data$return = (data$end_balance - data$start_balance) / data$start_balance\n",
    "data"
   ]
  },
  {
   "cell_type": "code",
   "execution_count": 33,
   "metadata": {},
   "outputs": [
    {
     "data": {
      "text/html": [
       "<table>\n",
       "<thead><tr><th scope=col>year</th><th scope=col>start_balance</th><th scope=col>end_balance</th><th scope=col>return</th><th scope=col>growth</th></tr></thead>\n",
       "<tbody>\n",
       "\t<tr><td>2009       </td><td>100.00     </td><td> 77.90     </td><td>-0.22100000</td><td>0.7790000  </td></tr>\n",
       "\t<tr><td>2010       </td><td> 77.90     </td><td>100.26     </td><td> 0.28703466</td><td>1.2870347  </td></tr>\n",
       "\t<tr><td>2011       </td><td>100.26     </td><td>111.19     </td><td> 0.10901656</td><td>1.1090166  </td></tr>\n",
       "\t<tr><td>2012       </td><td>111.19     </td><td>116.63     </td><td> 0.04892526</td><td>1.0489253  </td></tr>\n",
       "\t<tr><td>2013       </td><td>116.63     </td><td>135.06     </td><td> 0.15802109</td><td>1.1580211  </td></tr>\n",
       "\t<tr><td>2014       </td><td>135.06     </td><td>142.49     </td><td> 0.05501259</td><td>1.0550126  </td></tr>\n",
       "\t<tr><td>2015       </td><td>142.49     </td><td> 89.77     </td><td>-0.36999088</td><td>0.6300091  </td></tr>\n",
       "\t<tr><td>2016       </td><td> 89.77     </td><td>113.56     </td><td> 0.26501058</td><td>1.2650106  </td></tr>\n",
       "\t<tr><td>2017       </td><td>113.56     </td><td>130.70     </td><td> 0.15093343</td><td>1.1509334  </td></tr>\n",
       "\t<tr><td>2018       </td><td>130.70     </td><td>133.45     </td><td> 0.02104055</td><td>1.0210406  </td></tr>\n",
       "\t<tr><td>2019       </td><td>133.45     </td><td>    NA     </td><td>         NA</td><td>       NA  </td></tr>\n",
       "</tbody>\n",
       "</table>\n"
      ],
      "text/latex": [
       "\\begin{tabular}{r|lllll}\n",
       " year & start\\_balance & end\\_balance & return & growth\\\\\n",
       "\\hline\n",
       "\t 2009        & 100.00      &  77.90      & -0.22100000 & 0.7790000  \\\\\n",
       "\t 2010        &  77.90      & 100.26      &  0.28703466 & 1.2870347  \\\\\n",
       "\t 2011        & 100.26      & 111.19      &  0.10901656 & 1.1090166  \\\\\n",
       "\t 2012        & 111.19      & 116.63      &  0.04892526 & 1.0489253  \\\\\n",
       "\t 2013        & 116.63      & 135.06      &  0.15802109 & 1.1580211  \\\\\n",
       "\t 2014        & 135.06      & 142.49      &  0.05501259 & 1.0550126  \\\\\n",
       "\t 2015        & 142.49      &  89.77      & -0.36999088 & 0.6300091  \\\\\n",
       "\t 2016        &  89.77      & 113.56      &  0.26501058 & 1.2650106  \\\\\n",
       "\t 2017        & 113.56      & 130.70      &  0.15093343 & 1.1509334  \\\\\n",
       "\t 2018        & 130.70      & 133.45      &  0.02104055 & 1.0210406  \\\\\n",
       "\t 2019        & 133.45      &     NA      &          NA &        NA  \\\\\n",
       "\\end{tabular}\n"
      ],
      "text/markdown": [
       "\n",
       "year | start_balance | end_balance | return | growth | \n",
       "|---|---|---|---|---|---|---|---|---|---|---|\n",
       "| 2009        | 100.00      |  77.90      | -0.22100000 | 0.7790000   | \n",
       "| 2010        |  77.90      | 100.26      |  0.28703466 | 1.2870347   | \n",
       "| 2011        | 100.26      | 111.19      |  0.10901656 | 1.1090166   | \n",
       "| 2012        | 111.19      | 116.63      |  0.04892526 | 1.0489253   | \n",
       "| 2013        | 116.63      | 135.06      |  0.15802109 | 1.1580211   | \n",
       "| 2014        | 135.06      | 142.49      |  0.05501259 | 1.0550126   | \n",
       "| 2015        | 142.49      |  89.77      | -0.36999088 | 0.6300091   | \n",
       "| 2016        |  89.77      | 113.56      |  0.26501058 | 1.2650106   | \n",
       "| 2017        | 113.56      | 130.70      |  0.15093343 | 1.1509334   | \n",
       "| 2018        | 130.70      | 133.45      |  0.02104055 | 1.0210406   | \n",
       "| 2019        | 133.45      |     NA      |          NA |        NA   | \n",
       "\n",
       "\n"
      ],
      "text/plain": [
       "   year start_balance end_balance return      growth   \n",
       "1  2009 100.00         77.90      -0.22100000 0.7790000\n",
       "2  2010  77.90        100.26       0.28703466 1.2870347\n",
       "3  2011 100.26        111.19       0.10901656 1.1090166\n",
       "4  2012 111.19        116.63       0.04892526 1.0489253\n",
       "5  2013 116.63        135.06       0.15802109 1.1580211\n",
       "6  2014 135.06        142.49       0.05501259 1.0550126\n",
       "7  2015 142.49         89.77      -0.36999088 0.6300091\n",
       "8  2016  89.77        113.56       0.26501058 1.2650106\n",
       "9  2017 113.56        130.70       0.15093343 1.1509334\n",
       "10 2018 130.70        133.45       0.02104055 1.0210406\n",
       "11 2019 133.45            NA               NA        NA"
      ]
     },
     "metadata": {},
     "output_type": "display_data"
    }
   ],
   "source": [
    "data$growth = 1 + data$return\n",
    "data"
   ]
  },
  {
   "cell_type": "code",
   "execution_count": 45,
   "metadata": {},
   "outputs": [
    {
     "data": {
      "text/html": [
       "<table>\n",
       "<thead><tr><th scope=col>wrong.average.annual.return</th></tr></thead>\n",
       "<tbody>\n",
       "\t<tr><td>0.05040038</td></tr>\n",
       "</tbody>\n",
       "</table>\n"
      ],
      "text/latex": [
       "\\begin{tabular}{r|l}\n",
       " wrong.average.annual.return\\\\\n",
       "\\hline\n",
       "\t 0.05040038\\\\\n",
       "\\end{tabular}\n"
      ],
      "text/markdown": [
       "\n",
       "wrong.average.annual.return | \n",
       "|---|\n",
       "| 0.05040038 | \n",
       "\n",
       "\n"
      ],
      "text/plain": [
       "  wrong.average.annual.return\n",
       "1 0.05040038                 "
      ]
     },
     "metadata": {},
     "output_type": "display_data"
    }
   ],
   "source": [
    "# a nonsense statistic sometimes mistaken for the average annual return\n",
    "data.frame(wrong.average.annual.return=mean(data$return[1:10]))"
   ]
  },
  {
   "cell_type": "code",
   "execution_count": 39,
   "metadata": {},
   "outputs": [
    {
     "data": {
      "text/html": [
       "<table>\n",
       "<thead><tr><th scope=col>average.annual.return</th></tr></thead>\n",
       "<tbody>\n",
       "\t<tr><td>0.02927603</td></tr>\n",
       "</tbody>\n",
       "</table>\n"
      ],
      "text/latex": [
       "\\begin{tabular}{r|l}\n",
       " average.annual.return\\\\\n",
       "\\hline\n",
       "\t 0.02927603\\\\\n",
       "\\end{tabular}\n"
      ],
      "text/markdown": [
       "\n",
       "average.annual.return | \n",
       "|---|\n",
       "| 0.02927603 | \n",
       "\n",
       "\n"
      ],
      "text/plain": [
       "  average.annual.return\n",
       "1 0.02927603           "
      ]
     },
     "metadata": {},
     "output_type": "display_data"
    }
   ],
   "source": [
    "data.frame(average.annual.return=geometric.mean(data$growth[1:10]) - 1)"
   ]
  },
  {
   "cell_type": "markdown",
   "metadata": {},
   "source": [
    "### By Descriptive Statistic\n",
    "\n",
    "Treat high-tech industry return as the average of Apple, Dell, IBM, and Microsoft returns. "
   ]
  },
  {
   "cell_type": "code",
   "execution_count": 47,
   "metadata": {
    "hide_input": true,
    "scrolled": true
   },
   "outputs": [
    {
     "data": {
      "text/html": [
       "<table>\n",
       "<thead><tr><th scope=col>Date</th><th scope=col>Apple.Return</th><th scope=col>Dell.Return</th><th scope=col>IBM.Return</th><th scope=col>Microsoft.Return</th><th scope=col>Value.weighted.Market.Return</th><th scope=col>SP.500.Return</th><th scope=col>Price..Dell</th><th scope=col>Price..Apple</th><th scope=col>Price..IBM</th><th scope=col>Price..Microsoft</th><th scope=col>Calendar.Date</th></tr></thead>\n",
       "<tbody>\n",
       "\t<tr><td>1990.042   </td><td>-0.035461  </td><td>-0.15909090</td><td> 0.04780877</td><td> 0.06321839</td><td>-0.070115  </td><td>-0.068817  </td><td> 4.625     </td><td>34.000     </td><td> 98.625    </td><td> 92.500    </td><td>19900131   </td></tr>\n",
       "\t<tr><td>1990.125   </td><td> 0.003235  </td><td> 0.35135135</td><td> 0.06550063</td><td> 0.06756756</td><td> 0.014901  </td><td> 0.008539  </td><td> 6.250     </td><td>34.000     </td><td>103.875    </td><td> 98.750    </td><td>19900228   </td></tr>\n",
       "\t<tr><td>1990.208   </td><td> 0.183824  </td><td> 0.22000000</td><td> 0.02166065</td><td> 0.12151898</td><td> 0.024140  </td><td> 0.024255  </td><td> 7.625     </td><td>40.250     </td><td>106.125    </td><td>110.750    </td><td>19900330   </td></tr>\n",
       "\t<tr><td>1990.292   </td><td>-0.021739  </td><td> 0.11475410</td><td> 0.02709069</td><td> 0.04740406</td><td>-0.028286  </td><td>-0.026887  </td><td> 8.500     </td><td>39.375     </td><td>109.000    </td><td> 58.000    </td><td>19900430   </td></tr>\n",
       "\t<tr><td>1990.375   </td><td> 0.050413  </td><td> 0.29411766</td><td> 0.11201835</td><td> 0.25862068</td><td> 0.088936  </td><td> 0.091989  </td><td>11.000     </td><td>41.250     </td><td>120.000    </td><td> 73.000    </td><td>19900531   </td></tr>\n",
       "\t<tr><td>1990.458   </td><td> 0.084848  </td><td> 0.14772727</td><td>-0.02083330</td><td> 0.04109589</td><td>-0.004196  </td><td>-0.008886  </td><td>12.625     </td><td>44.750     </td><td>117.500    </td><td> 76.000    </td><td>19900629   </td></tr>\n",
       "\t<tr><td>1990.542   </td><td>-0.061453  </td><td>-0.06930690</td><td>-0.05106380</td><td>-0.12500000</td><td>-0.009405  </td><td>-0.005223  </td><td>11.750     </td><td>42.000     </td><td>111.500    </td><td> 66.500    </td><td>19900731   </td></tr>\n",
       "\t<tr><td>1990.625   </td><td>-0.116429  </td><td> 0.00000000</td><td>-0.07547090</td><td>-0.07518800</td><td>-0.091896  </td><td>-0.094314  </td><td>11.750     </td><td>37.000     </td><td>101.875    </td><td> 61.500    </td><td>19900831   </td></tr>\n",
       "\t<tr><td>1990.708   </td><td>-0.216216  </td><td>-0.25531910</td><td> 0.04417178</td><td> 0.02439024</td><td>-0.053843  </td><td>-0.051184  </td><td> 8.750     </td><td>29.000     </td><td>106.375    </td><td> 63.000    </td><td>19900928   </td></tr>\n",
       "\t<tr><td>1990.792   </td><td> 0.060345  </td><td> 0.21428572</td><td>-0.00940070</td><td> 0.01190476</td><td>-0.012504  </td><td>-0.006698  </td><td>10.625     </td><td>30.750     </td><td>105.375    </td><td> 63.750    </td><td>19901031   </td></tr>\n",
       "\t<tr><td>1990.875   </td><td> 0.199024  </td><td> 0.23529412</td><td> 0.08977462</td><td> 0.13333334</td><td> 0.065744  </td><td> 0.059934  </td><td>13.125     </td><td>36.750     </td><td>113.625    </td><td> 72.250    </td><td>19901130   </td></tr>\n",
       "\t<tr><td>1990.958   </td><td> 0.170068  </td><td> 0.40952381</td><td>-0.00550060</td><td> 0.04152249</td><td> 0.029513  </td><td> 0.024828  </td><td>18.500     </td><td>43.000     </td><td>113.000    </td><td> 75.250    </td><td>19901231   </td></tr>\n",
       "\t<tr><td>1991.042   </td><td> 0.290698  </td><td> 0.22297297</td><td> 0.12168141</td><td> 0.30398670</td><td> 0.049078  </td><td> 0.041518  </td><td>22.625     </td><td>55.500     </td><td>126.750    </td><td> 98.125    </td><td>19910131   </td></tr>\n",
       "\t<tr><td>1991.125   </td><td> 0.033694  </td><td> 0.11602210</td><td> 0.02532544</td><td> 0.05732484</td><td> 0.075847  </td><td> 0.067281  </td><td>25.250     </td><td>57.250     </td><td>128.750    </td><td>103.750    </td><td>19910228   </td></tr>\n",
       "\t<tr><td>1991.208   </td><td> 0.187773  </td><td> 0.12871288</td><td>-0.11553400</td><td> 0.02289157</td><td> 0.028923  </td><td> 0.022203  </td><td>28.500     </td><td>68.000     </td><td>113.875    </td><td>106.125    </td><td>19910328   </td></tr>\n",
       "\t<tr><td>1991.292   </td><td>-0.191176  </td><td>-0.17982460</td><td>-0.09549940</td><td>-0.06713780</td><td> 0.003322  </td><td> 0.000346  </td><td>23.375     </td><td>55.000     </td><td>103.000    </td><td> 99.000    </td><td>19910430   </td></tr>\n",
       "\t<tr><td>1991.375   </td><td>-0.143273  </td><td> 0.05882353</td><td> 0.04208738</td><td> 0.10858586</td><td> 0.040732  </td><td> 0.038577  </td><td>24.750     </td><td>47.000     </td><td>106.125    </td><td>109.750    </td><td>19910531   </td></tr>\n",
       "\t<tr><td>1991.458   </td><td>-0.117021  </td><td>-0.01010100</td><td>-0.08480570</td><td>-0.06890660</td><td>-0.044029  </td><td>-0.047893  </td><td>24.500     </td><td>41.500     </td><td> 97.125    </td><td> 68.125    </td><td>19910628   </td></tr>\n",
       "\t<tr><td>1991.542   </td><td> 0.114458  </td><td> 0.17346939</td><td> 0.04247104</td><td> 0.07889909</td><td> 0.046795  </td><td> 0.044859  </td><td>28.750     </td><td>46.250     </td><td>101.250    </td><td> 73.500    </td><td>19910731   </td></tr>\n",
       "\t<tr><td>1991.625   </td><td> 0.148541  </td><td> 0.13478261</td><td>-0.03125930</td><td> 0.15986395</td><td> 0.026819  </td><td> 0.019649  </td><td>32.625     </td><td>53.000     </td><td> 96.875    </td><td> 85.250    </td><td>19910830   </td></tr>\n",
       "\t<tr><td>1991.708   </td><td>-0.066038  </td><td> 0.02298851</td><td> 0.06967742</td><td> 0.04398827</td><td>-0.010975  </td><td>-0.019144  </td><td>33.375     </td><td>49.500     </td><td>103.625    </td><td> 89.000    </td><td>19910930   </td></tr>\n",
       "\t<tr><td>1991.792   </td><td> 0.040404  </td><td>-0.25468160</td><td>-0.05186970</td><td> 0.05477528</td><td> 0.017789  </td><td> 0.011860  </td><td>24.875     </td><td>51.500     </td><td> 98.250    </td><td> 93.875    </td><td>19911031   </td></tr>\n",
       "\t<tr><td>1991.875   </td><td>-0.012233  </td><td>-0.05527640</td><td>-0.04620870</td><td> 0.03595207</td><td>-0.037275  </td><td>-0.043928  </td><td>23.500     </td><td>50.750     </td><td> 92.500    </td><td> 97.250    </td><td>19911129   </td></tr>\n",
       "\t<tr><td>1991.958   </td><td> 0.110837  </td><td> 0.09042553</td><td>-0.03783780</td><td> 0.14395887</td><td> 0.106778  </td><td> 0.111588  </td><td>25.625     </td><td>56.375     </td><td> 89.000    </td><td>111.250    </td><td>19911231   </td></tr>\n",
       "\t<tr><td>1992.042   </td><td> 0.148559  </td><td> 0.24390244</td><td> 0.01123596</td><td> 0.08089887</td><td>-0.001182  </td><td>-0.019900  </td><td>31.875     </td><td>64.750     </td><td> 90.000    </td><td>120.250    </td><td>19920131   </td></tr>\n",
       "\t<tr><td>1992.125   </td><td> 0.044324  </td><td> 0.09411765</td><td>-0.02127780</td><td> 0.02702703</td><td> 0.013354  </td><td> 0.009565  </td><td>34.875     </td><td>67.500     </td><td> 86.875    </td><td>123.500    </td><td>19920228   </td></tr>\n",
       "\t<tr><td>1992.208   </td><td>-0.137037  </td><td> 0.04301075</td><td>-0.03884890</td><td>-0.04048580</td><td>-0.023700  </td><td>-0.021832  </td><td>36.375     </td><td>58.250     </td><td> 83.500    </td><td>118.500    </td><td>19920331   </td></tr>\n",
       "\t<tr><td>1992.292   </td><td> 0.032189  </td><td> 0.08247422</td><td> 0.08682635</td><td>-0.06962030</td><td> 0.013419  </td><td> 0.027893  </td><td>26.250     </td><td>60.125     </td><td> 90.750    </td><td>110.250    </td><td>19920430   </td></tr>\n",
       "\t<tr><td>1992.375   </td><td>-0.006237  </td><td> 0.02380952</td><td> 0.01333333</td><td> 0.09750567</td><td> 0.006439  </td><td> 0.000964  </td><td>26.875     </td><td>59.750     </td><td> 90.750    </td><td>121.000    </td><td>19920529   </td></tr>\n",
       "\t<tr><td>1992.458   </td><td>-0.194644  </td><td>-0.32558140</td><td> 0.07851240</td><td>-0.13223140</td><td>-0.019287  </td><td>-0.017359  </td><td>18.125     </td><td>48.000     </td><td> 97.875    </td><td> 70.000    </td><td>19920630   </td></tr>\n",
       "\t<tr><td>...</td><td>...</td><td>...</td><td>...</td><td>...</td><td>...</td><td>...</td><td>...</td><td>...</td><td>...</td><td>...</td><td>...</td></tr>\n",
       "\t<tr><td>2009.292 </td><td> 0.197013</td><td> 0.225738</td><td> 0.065229</td><td> 0.102885</td><td> 0.109347</td><td> 0.093925</td><td>11.620   </td><td>125.8300 </td><td>103.21   </td><td>20.2600  </td><td>20090428 </td></tr>\n",
       "\t<tr><td>2009.375 </td><td> 0.079313</td><td>-0.004303</td><td> 0.035074</td><td> 0.037512</td><td> 0.067784</td><td> 0.053081</td><td>11.570   </td><td>135.8100 </td><td>106.28   </td><td>20.8900  </td><td>20090531 </td></tr>\n",
       "\t<tr><td>2009.458 </td><td> 0.048745</td><td> 0.186690</td><td>-0.017501</td><td> 0.137865</td><td>-0.003100</td><td> 0.000196</td><td>13.730   </td><td>142.4300 </td><td>104.42   </td><td>23.7700  </td><td>20090630 </td></tr>\n",
       "\t<tr><td>2009.542 </td><td> 0.147160</td><td>-0.025492</td><td> 0.129381</td><td>-0.010517</td><td> 0.081715</td><td> 0.074142</td><td>13.380   </td><td>163.3900 </td><td>117.93   </td><td>23.5200  </td><td>20090731 </td></tr>\n",
       "\t<tr><td>2009.625 </td><td> 0.029500</td><td> 0.183109</td><td> 0.005681</td><td> 0.053571</td><td> 0.031462</td><td> 0.033560</td><td>15.830   </td><td>168.2100 </td><td>118.05   </td><td>24.6500  </td><td>20090831 </td></tr>\n",
       "\t<tr><td>2009.708 </td><td> 0.101896</td><td>-0.036008</td><td> 0.013215</td><td> 0.043408</td><td> 0.045237</td><td> 0.035723</td><td>15.260   </td><td>185.3500 </td><td>119.61   </td><td>25.7200  </td><td>20090929 </td></tr>\n",
       "\t<tr><td>2009.792 </td><td> 0.016995</td><td>-0.053080</td><td> 0.008361</td><td> 0.078149</td><td>-0.028004</td><td>-0.019762</td><td>14.450   </td><td>188.5000 </td><td>120.61   </td><td>27.7300  </td><td>20091031 </td></tr>\n",
       "\t<tr><td>2009.875 </td><td> 0.060531</td><td>-0.022837</td><td> 0.052152</td><td> 0.065272</td><td> 0.057093</td><td> 0.057364</td><td>14.120   </td><td>199.9100 </td><td>126.35   </td><td>29.4100  </td><td>20091130 </td></tr>\n",
       "\t<tr><td>2009.958 </td><td> 0.054134</td><td> 0.016997</td><td> 0.036011</td><td> 0.036382</td><td> 0.028413</td><td> 0.017771</td><td>14.360   </td><td>210.7320 </td><td>130.90   </td><td>30.4800  </td><td>20091229 </td></tr>\n",
       "\t<tr><td>2010.042 </td><td>-0.088591</td><td>-0.101671</td><td>-0.065011</td><td>-0.075459</td><td>-0.037093</td><td>-0.036974</td><td>12.900   </td><td>192.0630 </td><td>122.39   </td><td>28.1800  </td><td>20100131 </td></tr>\n",
       "\t<tr><td>2010.125 </td><td> 0.065380</td><td> 0.026357</td><td> 0.043468</td><td> 0.022001</td><td> 0.034776</td><td> 0.028514</td><td>13.240   </td><td>204.6200 </td><td>127.16   </td><td>28.6700  </td><td>20100228 </td></tr>\n",
       "\t<tr><td>2010.208 </td><td> 0.148470</td><td> 0.134441</td><td> 0.008572</td><td> 0.021538</td><td> 0.063600</td><td> 0.058796</td><td>15.020   </td><td>235.0000 </td><td>128.25   </td><td>29.2875  </td><td>20100331 </td></tr>\n",
       "\t<tr><td>2010.292 </td><td> 0.111021</td><td> 0.078562</td><td> 0.005848</td><td> 0.042595</td><td> 0.020015</td><td> 0.014759</td><td>16.200   </td><td>261.0900 </td><td>129.00   </td><td>30.5350  </td><td>20100428 </td></tr>\n",
       "\t<tr><td>2010.375 </td><td>-0.016125</td><td>-0.177161</td><td>-0.023953</td><td>-0.150811</td><td>-0.079133</td><td>-0.081976</td><td>13.330   </td><td>256.8800 </td><td>125.26   </td><td>25.8000  </td><td>20100531 </td></tr>\n",
       "\t<tr><td>2010.458 </td><td>-0.020827</td><td>-0.095274</td><td>-0.014210</td><td>-0.108140</td><td>-0.050721</td><td>-0.053882</td><td>12.060   </td><td>251.5300 </td><td>123.48   </td><td>23.0100  </td><td>20100630 </td></tr>\n",
       "\t<tr><td>2010.542 </td><td> 0.022741</td><td> 0.097844</td><td> 0.039844</td><td> 0.121686</td><td> 0.071541</td><td> 0.068778</td><td>13.240   </td><td>257.2500 </td><td>128.40   </td><td>25.8100  </td><td>20100731 </td></tr>\n",
       "\t<tr><td>2010.625 </td><td>-0.055005</td><td>-0.111027</td><td>-0.035981</td><td>-0.085819</td><td>-0.042812</td><td>-0.047449</td><td>11.770   </td><td>243.1000 </td><td>123.13   </td><td>23.4650  </td><td>20100831 </td></tr>\n",
       "\t<tr><td>2010.708 </td><td> 0.167215</td><td> 0.101954</td><td> 0.089418</td><td> 0.043682</td><td> 0.091514</td><td> 0.087551</td><td>12.970   </td><td>283.7500 </td><td>134.14   </td><td>24.4900  </td><td>20100929 </td></tr>\n",
       "\t<tr><td>2010.792 </td><td> 0.060723</td><td> 0.109869</td><td> 0.070523</td><td> 0.088812</td><td> 0.038534</td><td> 0.036856</td><td>14.395   </td><td>300.9800 </td><td>143.60   </td><td>26.6650  </td><td>20101031 </td></tr>\n",
       "\t<tr><td>2010.875 </td><td> 0.033790</td><td>-0.081626</td><td>-0.010376</td><td>-0.046784</td><td> 0.005168</td><td>-0.002290</td><td>13.220   </td><td>311.1500 </td><td>141.46   </td><td>25.2575  </td><td>20101130 </td></tr>\n",
       "\t<tr><td>2010.958 </td><td> 0.036670</td><td> 0.024962</td><td> 0.037466</td><td> 0.105018</td><td> 0.067131</td><td> 0.065300</td><td>13.550   </td><td>322.5600 </td><td>146.76   </td><td>27.9100  </td><td>20101229 </td></tr>\n",
       "\t<tr><td>2011.042 </td><td> 0.051959</td><td>-0.028782</td><td> 0.103843</td><td>-0.006628</td><td> 0.019155</td><td> 0.022646</td><td>13.160   </td><td>339.3200 </td><td>162.00   </td><td>27.7250  </td><td>20110131 </td></tr>\n",
       "\t<tr><td>2011.125 </td><td> 0.040935</td><td> 0.202888</td><td> 0.003272</td><td>-0.035528</td><td> 0.038158</td><td> 0.031957</td><td>15.830   </td><td>353.2100 </td><td>161.88   </td><td>26.5800  </td><td>20110228 </td></tr>\n",
       "\t<tr><td>2011.208 </td><td>-0.013314</td><td>-0.083386</td><td> 0.007351</td><td>-0.044771</td><td> 0.003376</td><td>-0.001047</td><td>14.510   </td><td>348.5075 </td><td>163.07   </td><td>25.3900  </td><td>20110331 </td></tr>\n",
       "\t<tr><td>2011.292 </td><td> 0.004656</td><td> 0.066161</td><td> 0.046054</td><td> 0.020874</td><td> 0.028683</td><td> 0.028495</td><td>15.470   </td><td>350.1300 </td><td>170.58   </td><td>25.9200  </td><td>20110428 </td></tr>\n",
       "\t<tr><td>2011.375 </td><td>-0.006569</td><td> 0.039431</td><td>-0.005276</td><td>-0.028935</td><td>-0.014934</td><td>-0.013501</td><td>16.080   </td><td>347.8300 </td><td>168.93   </td><td>25.0100  </td><td>20110531 </td></tr>\n",
       "\t<tr><td>2011.458 </td><td>-0.034960</td><td> 0.036692</td><td> 0.015509</td><td> 0.039584</td><td>-0.018391</td><td>-0.018258</td><td>16.670   </td><td>335.6700 </td><td>171.55   </td><td>26.0000  </td><td>20110630 </td></tr>\n",
       "\t<tr><td>2011.542 </td><td> 0.163285</td><td>-0.025795</td><td> 0.060041</td><td> 0.053846</td><td>-0.022448</td><td>-0.021474</td><td>16.240   </td><td>390.4800 </td><td>181.85   </td><td>27.4000  </td><td>20110731 </td></tr>\n",
       "\t<tr><td>2011.625 </td><td>-0.014469</td><td>-0.084667</td><td>-0.050536</td><td>-0.023358</td><td>-0.057470</td><td>-0.056791</td><td>14.865   </td><td>384.8300 </td><td>171.91   </td><td>26.6000  </td><td>20110831 </td></tr>\n",
       "\t<tr><td>2011.708 </td><td>-0.009121</td><td>-0.048772</td><td> 0.017218</td><td>-0.064286</td><td>-0.084872</td><td>-0.071762</td><td>14.140   </td><td>381.3200 </td><td>174.87   </td><td>24.8900  </td><td>20110929 </td></tr>\n",
       "</tbody>\n",
       "</table>\n"
      ],
      "text/latex": [
       "\\begin{tabular}{r|llllllllllll}\n",
       " Date & Apple.Return & Dell.Return & IBM.Return & Microsoft.Return & Value.weighted.Market.Return & SP.500.Return & Price..Dell & Price..Apple & Price..IBM & Price..Microsoft & Calendar.Date\\\\\n",
       "\\hline\n",
       "\t 1990.042    & -0.035461   & -0.15909090 &  0.04780877 &  0.06321839 & -0.070115   & -0.068817   &  4.625      & 34.000      &  98.625     &  92.500     & 19900131   \\\\\n",
       "\t 1990.125    &  0.003235   &  0.35135135 &  0.06550063 &  0.06756756 &  0.014901   &  0.008539   &  6.250      & 34.000      & 103.875     &  98.750     & 19900228   \\\\\n",
       "\t 1990.208    &  0.183824   &  0.22000000 &  0.02166065 &  0.12151898 &  0.024140   &  0.024255   &  7.625      & 40.250      & 106.125     & 110.750     & 19900330   \\\\\n",
       "\t 1990.292    & -0.021739   &  0.11475410 &  0.02709069 &  0.04740406 & -0.028286   & -0.026887   &  8.500      & 39.375      & 109.000     &  58.000     & 19900430   \\\\\n",
       "\t 1990.375    &  0.050413   &  0.29411766 &  0.11201835 &  0.25862068 &  0.088936   &  0.091989   & 11.000      & 41.250      & 120.000     &  73.000     & 19900531   \\\\\n",
       "\t 1990.458    &  0.084848   &  0.14772727 & -0.02083330 &  0.04109589 & -0.004196   & -0.008886   & 12.625      & 44.750      & 117.500     &  76.000     & 19900629   \\\\\n",
       "\t 1990.542    & -0.061453   & -0.06930690 & -0.05106380 & -0.12500000 & -0.009405   & -0.005223   & 11.750      & 42.000      & 111.500     &  66.500     & 19900731   \\\\\n",
       "\t 1990.625    & -0.116429   &  0.00000000 & -0.07547090 & -0.07518800 & -0.091896   & -0.094314   & 11.750      & 37.000      & 101.875     &  61.500     & 19900831   \\\\\n",
       "\t 1990.708    & -0.216216   & -0.25531910 &  0.04417178 &  0.02439024 & -0.053843   & -0.051184   &  8.750      & 29.000      & 106.375     &  63.000     & 19900928   \\\\\n",
       "\t 1990.792    &  0.060345   &  0.21428572 & -0.00940070 &  0.01190476 & -0.012504   & -0.006698   & 10.625      & 30.750      & 105.375     &  63.750     & 19901031   \\\\\n",
       "\t 1990.875    &  0.199024   &  0.23529412 &  0.08977462 &  0.13333334 &  0.065744   &  0.059934   & 13.125      & 36.750      & 113.625     &  72.250     & 19901130   \\\\\n",
       "\t 1990.958    &  0.170068   &  0.40952381 & -0.00550060 &  0.04152249 &  0.029513   &  0.024828   & 18.500      & 43.000      & 113.000     &  75.250     & 19901231   \\\\\n",
       "\t 1991.042    &  0.290698   &  0.22297297 &  0.12168141 &  0.30398670 &  0.049078   &  0.041518   & 22.625      & 55.500      & 126.750     &  98.125     & 19910131   \\\\\n",
       "\t 1991.125    &  0.033694   &  0.11602210 &  0.02532544 &  0.05732484 &  0.075847   &  0.067281   & 25.250      & 57.250      & 128.750     & 103.750     & 19910228   \\\\\n",
       "\t 1991.208    &  0.187773   &  0.12871288 & -0.11553400 &  0.02289157 &  0.028923   &  0.022203   & 28.500      & 68.000      & 113.875     & 106.125     & 19910328   \\\\\n",
       "\t 1991.292    & -0.191176   & -0.17982460 & -0.09549940 & -0.06713780 &  0.003322   &  0.000346   & 23.375      & 55.000      & 103.000     &  99.000     & 19910430   \\\\\n",
       "\t 1991.375    & -0.143273   &  0.05882353 &  0.04208738 &  0.10858586 &  0.040732   &  0.038577   & 24.750      & 47.000      & 106.125     & 109.750     & 19910531   \\\\\n",
       "\t 1991.458    & -0.117021   & -0.01010100 & -0.08480570 & -0.06890660 & -0.044029   & -0.047893   & 24.500      & 41.500      &  97.125     &  68.125     & 19910628   \\\\\n",
       "\t 1991.542    &  0.114458   &  0.17346939 &  0.04247104 &  0.07889909 &  0.046795   &  0.044859   & 28.750      & 46.250      & 101.250     &  73.500     & 19910731   \\\\\n",
       "\t 1991.625    &  0.148541   &  0.13478261 & -0.03125930 &  0.15986395 &  0.026819   &  0.019649   & 32.625      & 53.000      &  96.875     &  85.250     & 19910830   \\\\\n",
       "\t 1991.708    & -0.066038   &  0.02298851 &  0.06967742 &  0.04398827 & -0.010975   & -0.019144   & 33.375      & 49.500      & 103.625     &  89.000     & 19910930   \\\\\n",
       "\t 1991.792    &  0.040404   & -0.25468160 & -0.05186970 &  0.05477528 &  0.017789   &  0.011860   & 24.875      & 51.500      &  98.250     &  93.875     & 19911031   \\\\\n",
       "\t 1991.875    & -0.012233   & -0.05527640 & -0.04620870 &  0.03595207 & -0.037275   & -0.043928   & 23.500      & 50.750      &  92.500     &  97.250     & 19911129   \\\\\n",
       "\t 1991.958    &  0.110837   &  0.09042553 & -0.03783780 &  0.14395887 &  0.106778   &  0.111588   & 25.625      & 56.375      &  89.000     & 111.250     & 19911231   \\\\\n",
       "\t 1992.042    &  0.148559   &  0.24390244 &  0.01123596 &  0.08089887 & -0.001182   & -0.019900   & 31.875      & 64.750      &  90.000     & 120.250     & 19920131   \\\\\n",
       "\t 1992.125    &  0.044324   &  0.09411765 & -0.02127780 &  0.02702703 &  0.013354   &  0.009565   & 34.875      & 67.500      &  86.875     & 123.500     & 19920228   \\\\\n",
       "\t 1992.208    & -0.137037   &  0.04301075 & -0.03884890 & -0.04048580 & -0.023700   & -0.021832   & 36.375      & 58.250      &  83.500     & 118.500     & 19920331   \\\\\n",
       "\t 1992.292    &  0.032189   &  0.08247422 &  0.08682635 & -0.06962030 &  0.013419   &  0.027893   & 26.250      & 60.125      &  90.750     & 110.250     & 19920430   \\\\\n",
       "\t 1992.375    & -0.006237   &  0.02380952 &  0.01333333 &  0.09750567 &  0.006439   &  0.000964   & 26.875      & 59.750      &  90.750     & 121.000     & 19920529   \\\\\n",
       "\t 1992.458    & -0.194644   & -0.32558140 &  0.07851240 & -0.13223140 & -0.019287   & -0.017359   & 18.125      & 48.000      &  97.875     &  70.000     & 19920630   \\\\\n",
       "\t ... & ... & ... & ... & ... & ... & ... & ... & ... & ... & ... & ...\\\\\n",
       "\t 2009.292  &  0.197013 &  0.225738 &  0.065229 &  0.102885 &  0.109347 &  0.093925 & 11.620    & 125.8300  & 103.21    & 20.2600   & 20090428 \\\\\n",
       "\t 2009.375  &  0.079313 & -0.004303 &  0.035074 &  0.037512 &  0.067784 &  0.053081 & 11.570    & 135.8100  & 106.28    & 20.8900   & 20090531 \\\\\n",
       "\t 2009.458  &  0.048745 &  0.186690 & -0.017501 &  0.137865 & -0.003100 &  0.000196 & 13.730    & 142.4300  & 104.42    & 23.7700   & 20090630 \\\\\n",
       "\t 2009.542  &  0.147160 & -0.025492 &  0.129381 & -0.010517 &  0.081715 &  0.074142 & 13.380    & 163.3900  & 117.93    & 23.5200   & 20090731 \\\\\n",
       "\t 2009.625  &  0.029500 &  0.183109 &  0.005681 &  0.053571 &  0.031462 &  0.033560 & 15.830    & 168.2100  & 118.05    & 24.6500   & 20090831 \\\\\n",
       "\t 2009.708  &  0.101896 & -0.036008 &  0.013215 &  0.043408 &  0.045237 &  0.035723 & 15.260    & 185.3500  & 119.61    & 25.7200   & 20090929 \\\\\n",
       "\t 2009.792  &  0.016995 & -0.053080 &  0.008361 &  0.078149 & -0.028004 & -0.019762 & 14.450    & 188.5000  & 120.61    & 27.7300   & 20091031 \\\\\n",
       "\t 2009.875  &  0.060531 & -0.022837 &  0.052152 &  0.065272 &  0.057093 &  0.057364 & 14.120    & 199.9100  & 126.35    & 29.4100   & 20091130 \\\\\n",
       "\t 2009.958  &  0.054134 &  0.016997 &  0.036011 &  0.036382 &  0.028413 &  0.017771 & 14.360    & 210.7320  & 130.90    & 30.4800   & 20091229 \\\\\n",
       "\t 2010.042  & -0.088591 & -0.101671 & -0.065011 & -0.075459 & -0.037093 & -0.036974 & 12.900    & 192.0630  & 122.39    & 28.1800   & 20100131 \\\\\n",
       "\t 2010.125  &  0.065380 &  0.026357 &  0.043468 &  0.022001 &  0.034776 &  0.028514 & 13.240    & 204.6200  & 127.16    & 28.6700   & 20100228 \\\\\n",
       "\t 2010.208  &  0.148470 &  0.134441 &  0.008572 &  0.021538 &  0.063600 &  0.058796 & 15.020    & 235.0000  & 128.25    & 29.2875   & 20100331 \\\\\n",
       "\t 2010.292  &  0.111021 &  0.078562 &  0.005848 &  0.042595 &  0.020015 &  0.014759 & 16.200    & 261.0900  & 129.00    & 30.5350   & 20100428 \\\\\n",
       "\t 2010.375  & -0.016125 & -0.177161 & -0.023953 & -0.150811 & -0.079133 & -0.081976 & 13.330    & 256.8800  & 125.26    & 25.8000   & 20100531 \\\\\n",
       "\t 2010.458  & -0.020827 & -0.095274 & -0.014210 & -0.108140 & -0.050721 & -0.053882 & 12.060    & 251.5300  & 123.48    & 23.0100   & 20100630 \\\\\n",
       "\t 2010.542  &  0.022741 &  0.097844 &  0.039844 &  0.121686 &  0.071541 &  0.068778 & 13.240    & 257.2500  & 128.40    & 25.8100   & 20100731 \\\\\n",
       "\t 2010.625  & -0.055005 & -0.111027 & -0.035981 & -0.085819 & -0.042812 & -0.047449 & 11.770    & 243.1000  & 123.13    & 23.4650   & 20100831 \\\\\n",
       "\t 2010.708  &  0.167215 &  0.101954 &  0.089418 &  0.043682 &  0.091514 &  0.087551 & 12.970    & 283.7500  & 134.14    & 24.4900   & 20100929 \\\\\n",
       "\t 2010.792  &  0.060723 &  0.109869 &  0.070523 &  0.088812 &  0.038534 &  0.036856 & 14.395    & 300.9800  & 143.60    & 26.6650   & 20101031 \\\\\n",
       "\t 2010.875  &  0.033790 & -0.081626 & -0.010376 & -0.046784 &  0.005168 & -0.002290 & 13.220    & 311.1500  & 141.46    & 25.2575   & 20101130 \\\\\n",
       "\t 2010.958  &  0.036670 &  0.024962 &  0.037466 &  0.105018 &  0.067131 &  0.065300 & 13.550    & 322.5600  & 146.76    & 27.9100   & 20101229 \\\\\n",
       "\t 2011.042  &  0.051959 & -0.028782 &  0.103843 & -0.006628 &  0.019155 &  0.022646 & 13.160    & 339.3200  & 162.00    & 27.7250   & 20110131 \\\\\n",
       "\t 2011.125  &  0.040935 &  0.202888 &  0.003272 & -0.035528 &  0.038158 &  0.031957 & 15.830    & 353.2100  & 161.88    & 26.5800   & 20110228 \\\\\n",
       "\t 2011.208  & -0.013314 & -0.083386 &  0.007351 & -0.044771 &  0.003376 & -0.001047 & 14.510    & 348.5075  & 163.07    & 25.3900   & 20110331 \\\\\n",
       "\t 2011.292  &  0.004656 &  0.066161 &  0.046054 &  0.020874 &  0.028683 &  0.028495 & 15.470    & 350.1300  & 170.58    & 25.9200   & 20110428 \\\\\n",
       "\t 2011.375  & -0.006569 &  0.039431 & -0.005276 & -0.028935 & -0.014934 & -0.013501 & 16.080    & 347.8300  & 168.93    & 25.0100   & 20110531 \\\\\n",
       "\t 2011.458  & -0.034960 &  0.036692 &  0.015509 &  0.039584 & -0.018391 & -0.018258 & 16.670    & 335.6700  & 171.55    & 26.0000   & 20110630 \\\\\n",
       "\t 2011.542  &  0.163285 & -0.025795 &  0.060041 &  0.053846 & -0.022448 & -0.021474 & 16.240    & 390.4800  & 181.85    & 27.4000   & 20110731 \\\\\n",
       "\t 2011.625  & -0.014469 & -0.084667 & -0.050536 & -0.023358 & -0.057470 & -0.056791 & 14.865    & 384.8300  & 171.91    & 26.6000   & 20110831 \\\\\n",
       "\t 2011.708  & -0.009121 & -0.048772 &  0.017218 & -0.064286 & -0.084872 & -0.071762 & 14.140    & 381.3200  & 174.87    & 24.8900   & 20110929 \\\\\n",
       "\\end{tabular}\n"
      ],
      "text/markdown": [
       "\n",
       "Date | Apple.Return | Dell.Return | IBM.Return | Microsoft.Return | Value.weighted.Market.Return | SP.500.Return | Price..Dell | Price..Apple | Price..IBM | Price..Microsoft | Calendar.Date | \n",
       "|---|---|---|---|---|---|---|---|---|---|---|---|---|---|---|---|---|---|---|---|---|---|---|---|---|---|---|---|---|---|---|---|---|---|---|---|---|---|---|---|---|---|---|---|---|---|---|---|---|---|---|---|---|---|---|---|---|---|---|---|---|\n",
       "| 1990.042    | -0.035461   | -0.15909090 |  0.04780877 |  0.06321839 | -0.070115   | -0.068817   |  4.625      | 34.000      |  98.625     |  92.500     | 19900131    | \n",
       "| 1990.125    |  0.003235   |  0.35135135 |  0.06550063 |  0.06756756 |  0.014901   |  0.008539   |  6.250      | 34.000      | 103.875     |  98.750     | 19900228    | \n",
       "| 1990.208    |  0.183824   |  0.22000000 |  0.02166065 |  0.12151898 |  0.024140   |  0.024255   |  7.625      | 40.250      | 106.125     | 110.750     | 19900330    | \n",
       "| 1990.292    | -0.021739   |  0.11475410 |  0.02709069 |  0.04740406 | -0.028286   | -0.026887   |  8.500      | 39.375      | 109.000     |  58.000     | 19900430    | \n",
       "| 1990.375    |  0.050413   |  0.29411766 |  0.11201835 |  0.25862068 |  0.088936   |  0.091989   | 11.000      | 41.250      | 120.000     |  73.000     | 19900531    | \n",
       "| 1990.458    |  0.084848   |  0.14772727 | -0.02083330 |  0.04109589 | -0.004196   | -0.008886   | 12.625      | 44.750      | 117.500     |  76.000     | 19900629    | \n",
       "| 1990.542    | -0.061453   | -0.06930690 | -0.05106380 | -0.12500000 | -0.009405   | -0.005223   | 11.750      | 42.000      | 111.500     |  66.500     | 19900731    | \n",
       "| 1990.625    | -0.116429   |  0.00000000 | -0.07547090 | -0.07518800 | -0.091896   | -0.094314   | 11.750      | 37.000      | 101.875     |  61.500     | 19900831    | \n",
       "| 1990.708    | -0.216216   | -0.25531910 |  0.04417178 |  0.02439024 | -0.053843   | -0.051184   |  8.750      | 29.000      | 106.375     |  63.000     | 19900928    | \n",
       "| 1990.792    |  0.060345   |  0.21428572 | -0.00940070 |  0.01190476 | -0.012504   | -0.006698   | 10.625      | 30.750      | 105.375     |  63.750     | 19901031    | \n",
       "| 1990.875    |  0.199024   |  0.23529412 |  0.08977462 |  0.13333334 |  0.065744   |  0.059934   | 13.125      | 36.750      | 113.625     |  72.250     | 19901130    | \n",
       "| 1990.958    |  0.170068   |  0.40952381 | -0.00550060 |  0.04152249 |  0.029513   |  0.024828   | 18.500      | 43.000      | 113.000     |  75.250     | 19901231    | \n",
       "| 1991.042    |  0.290698   |  0.22297297 |  0.12168141 |  0.30398670 |  0.049078   |  0.041518   | 22.625      | 55.500      | 126.750     |  98.125     | 19910131    | \n",
       "| 1991.125    |  0.033694   |  0.11602210 |  0.02532544 |  0.05732484 |  0.075847   |  0.067281   | 25.250      | 57.250      | 128.750     | 103.750     | 19910228    | \n",
       "| 1991.208    |  0.187773   |  0.12871288 | -0.11553400 |  0.02289157 |  0.028923   |  0.022203   | 28.500      | 68.000      | 113.875     | 106.125     | 19910328    | \n",
       "| 1991.292    | -0.191176   | -0.17982460 | -0.09549940 | -0.06713780 |  0.003322   |  0.000346   | 23.375      | 55.000      | 103.000     |  99.000     | 19910430    | \n",
       "| 1991.375    | -0.143273   |  0.05882353 |  0.04208738 |  0.10858586 |  0.040732   |  0.038577   | 24.750      | 47.000      | 106.125     | 109.750     | 19910531    | \n",
       "| 1991.458    | -0.117021   | -0.01010100 | -0.08480570 | -0.06890660 | -0.044029   | -0.047893   | 24.500      | 41.500      |  97.125     |  68.125     | 19910628    | \n",
       "| 1991.542    |  0.114458   |  0.17346939 |  0.04247104 |  0.07889909 |  0.046795   |  0.044859   | 28.750      | 46.250      | 101.250     |  73.500     | 19910731    | \n",
       "| 1991.625    |  0.148541   |  0.13478261 | -0.03125930 |  0.15986395 |  0.026819   |  0.019649   | 32.625      | 53.000      |  96.875     |  85.250     | 19910830    | \n",
       "| 1991.708    | -0.066038   |  0.02298851 |  0.06967742 |  0.04398827 | -0.010975   | -0.019144   | 33.375      | 49.500      | 103.625     |  89.000     | 19910930    | \n",
       "| 1991.792    |  0.040404   | -0.25468160 | -0.05186970 |  0.05477528 |  0.017789   |  0.011860   | 24.875      | 51.500      |  98.250     |  93.875     | 19911031    | \n",
       "| 1991.875    | -0.012233   | -0.05527640 | -0.04620870 |  0.03595207 | -0.037275   | -0.043928   | 23.500      | 50.750      |  92.500     |  97.250     | 19911129    | \n",
       "| 1991.958    |  0.110837   |  0.09042553 | -0.03783780 |  0.14395887 |  0.106778   |  0.111588   | 25.625      | 56.375      |  89.000     | 111.250     | 19911231    | \n",
       "| 1992.042    |  0.148559   |  0.24390244 |  0.01123596 |  0.08089887 | -0.001182   | -0.019900   | 31.875      | 64.750      |  90.000     | 120.250     | 19920131    | \n",
       "| 1992.125    |  0.044324   |  0.09411765 | -0.02127780 |  0.02702703 |  0.013354   |  0.009565   | 34.875      | 67.500      |  86.875     | 123.500     | 19920228    | \n",
       "| 1992.208    | -0.137037   |  0.04301075 | -0.03884890 | -0.04048580 | -0.023700   | -0.021832   | 36.375      | 58.250      |  83.500     | 118.500     | 19920331    | \n",
       "| 1992.292    |  0.032189   |  0.08247422 |  0.08682635 | -0.06962030 |  0.013419   |  0.027893   | 26.250      | 60.125      |  90.750     | 110.250     | 19920430    | \n",
       "| 1992.375    | -0.006237   |  0.02380952 |  0.01333333 |  0.09750567 |  0.006439   |  0.000964   | 26.875      | 59.750      |  90.750     | 121.000     | 19920529    | \n",
       "| 1992.458    | -0.194644   | -0.32558140 |  0.07851240 | -0.13223140 | -0.019287   | -0.017359   | 18.125      | 48.000      |  97.875     |  70.000     | 19920630    | \n",
       "| ... | ... | ... | ... | ... | ... | ... | ... | ... | ... | ... | ... | \n",
       "| 2009.292  |  0.197013 |  0.225738 |  0.065229 |  0.102885 |  0.109347 |  0.093925 | 11.620    | 125.8300  | 103.21    | 20.2600   | 20090428  | \n",
       "| 2009.375  |  0.079313 | -0.004303 |  0.035074 |  0.037512 |  0.067784 |  0.053081 | 11.570    | 135.8100  | 106.28    | 20.8900   | 20090531  | \n",
       "| 2009.458  |  0.048745 |  0.186690 | -0.017501 |  0.137865 | -0.003100 |  0.000196 | 13.730    | 142.4300  | 104.42    | 23.7700   | 20090630  | \n",
       "| 2009.542  |  0.147160 | -0.025492 |  0.129381 | -0.010517 |  0.081715 |  0.074142 | 13.380    | 163.3900  | 117.93    | 23.5200   | 20090731  | \n",
       "| 2009.625  |  0.029500 |  0.183109 |  0.005681 |  0.053571 |  0.031462 |  0.033560 | 15.830    | 168.2100  | 118.05    | 24.6500   | 20090831  | \n",
       "| 2009.708  |  0.101896 | -0.036008 |  0.013215 |  0.043408 |  0.045237 |  0.035723 | 15.260    | 185.3500  | 119.61    | 25.7200   | 20090929  | \n",
       "| 2009.792  |  0.016995 | -0.053080 |  0.008361 |  0.078149 | -0.028004 | -0.019762 | 14.450    | 188.5000  | 120.61    | 27.7300   | 20091031  | \n",
       "| 2009.875  |  0.060531 | -0.022837 |  0.052152 |  0.065272 |  0.057093 |  0.057364 | 14.120    | 199.9100  | 126.35    | 29.4100   | 20091130  | \n",
       "| 2009.958  |  0.054134 |  0.016997 |  0.036011 |  0.036382 |  0.028413 |  0.017771 | 14.360    | 210.7320  | 130.90    | 30.4800   | 20091229  | \n",
       "| 2010.042  | -0.088591 | -0.101671 | -0.065011 | -0.075459 | -0.037093 | -0.036974 | 12.900    | 192.0630  | 122.39    | 28.1800   | 20100131  | \n",
       "| 2010.125  |  0.065380 |  0.026357 |  0.043468 |  0.022001 |  0.034776 |  0.028514 | 13.240    | 204.6200  | 127.16    | 28.6700   | 20100228  | \n",
       "| 2010.208  |  0.148470 |  0.134441 |  0.008572 |  0.021538 |  0.063600 |  0.058796 | 15.020    | 235.0000  | 128.25    | 29.2875   | 20100331  | \n",
       "| 2010.292  |  0.111021 |  0.078562 |  0.005848 |  0.042595 |  0.020015 |  0.014759 | 16.200    | 261.0900  | 129.00    | 30.5350   | 20100428  | \n",
       "| 2010.375  | -0.016125 | -0.177161 | -0.023953 | -0.150811 | -0.079133 | -0.081976 | 13.330    | 256.8800  | 125.26    | 25.8000   | 20100531  | \n",
       "| 2010.458  | -0.020827 | -0.095274 | -0.014210 | -0.108140 | -0.050721 | -0.053882 | 12.060    | 251.5300  | 123.48    | 23.0100   | 20100630  | \n",
       "| 2010.542  |  0.022741 |  0.097844 |  0.039844 |  0.121686 |  0.071541 |  0.068778 | 13.240    | 257.2500  | 128.40    | 25.8100   | 20100731  | \n",
       "| 2010.625  | -0.055005 | -0.111027 | -0.035981 | -0.085819 | -0.042812 | -0.047449 | 11.770    | 243.1000  | 123.13    | 23.4650   | 20100831  | \n",
       "| 2010.708  |  0.167215 |  0.101954 |  0.089418 |  0.043682 |  0.091514 |  0.087551 | 12.970    | 283.7500  | 134.14    | 24.4900   | 20100929  | \n",
       "| 2010.792  |  0.060723 |  0.109869 |  0.070523 |  0.088812 |  0.038534 |  0.036856 | 14.395    | 300.9800  | 143.60    | 26.6650   | 20101031  | \n",
       "| 2010.875  |  0.033790 | -0.081626 | -0.010376 | -0.046784 |  0.005168 | -0.002290 | 13.220    | 311.1500  | 141.46    | 25.2575   | 20101130  | \n",
       "| 2010.958  |  0.036670 |  0.024962 |  0.037466 |  0.105018 |  0.067131 |  0.065300 | 13.550    | 322.5600  | 146.76    | 27.9100   | 20101229  | \n",
       "| 2011.042  |  0.051959 | -0.028782 |  0.103843 | -0.006628 |  0.019155 |  0.022646 | 13.160    | 339.3200  | 162.00    | 27.7250   | 20110131  | \n",
       "| 2011.125  |  0.040935 |  0.202888 |  0.003272 | -0.035528 |  0.038158 |  0.031957 | 15.830    | 353.2100  | 161.88    | 26.5800   | 20110228  | \n",
       "| 2011.208  | -0.013314 | -0.083386 |  0.007351 | -0.044771 |  0.003376 | -0.001047 | 14.510    | 348.5075  | 163.07    | 25.3900   | 20110331  | \n",
       "| 2011.292  |  0.004656 |  0.066161 |  0.046054 |  0.020874 |  0.028683 |  0.028495 | 15.470    | 350.1300  | 170.58    | 25.9200   | 20110428  | \n",
       "| 2011.375  | -0.006569 |  0.039431 | -0.005276 | -0.028935 | -0.014934 | -0.013501 | 16.080    | 347.8300  | 168.93    | 25.0100   | 20110531  | \n",
       "| 2011.458  | -0.034960 |  0.036692 |  0.015509 |  0.039584 | -0.018391 | -0.018258 | 16.670    | 335.6700  | 171.55    | 26.0000   | 20110630  | \n",
       "| 2011.542  |  0.163285 | -0.025795 |  0.060041 |  0.053846 | -0.022448 | -0.021474 | 16.240    | 390.4800  | 181.85    | 27.4000   | 20110731  | \n",
       "| 2011.625  | -0.014469 | -0.084667 | -0.050536 | -0.023358 | -0.057470 | -0.056791 | 14.865    | 384.8300  | 171.91    | 26.6000   | 20110831  | \n",
       "| 2011.708  | -0.009121 | -0.048772 |  0.017218 | -0.064286 | -0.084872 | -0.071762 | 14.140    | 381.3200  | 174.87    | 24.8900   | 20110929  | \n",
       "\n",
       "\n"
      ],
      "text/plain": [
       "    Date     Apple.Return Dell.Return IBM.Return  Microsoft.Return\n",
       "1   1990.042 -0.035461    -0.15909090  0.04780877  0.06321839     \n",
       "2   1990.125  0.003235     0.35135135  0.06550063  0.06756756     \n",
       "3   1990.208  0.183824     0.22000000  0.02166065  0.12151898     \n",
       "4   1990.292 -0.021739     0.11475410  0.02709069  0.04740406     \n",
       "5   1990.375  0.050413     0.29411766  0.11201835  0.25862068     \n",
       "6   1990.458  0.084848     0.14772727 -0.02083330  0.04109589     \n",
       "7   1990.542 -0.061453    -0.06930690 -0.05106380 -0.12500000     \n",
       "8   1990.625 -0.116429     0.00000000 -0.07547090 -0.07518800     \n",
       "9   1990.708 -0.216216    -0.25531910  0.04417178  0.02439024     \n",
       "10  1990.792  0.060345     0.21428572 -0.00940070  0.01190476     \n",
       "11  1990.875  0.199024     0.23529412  0.08977462  0.13333334     \n",
       "12  1990.958  0.170068     0.40952381 -0.00550060  0.04152249     \n",
       "13  1991.042  0.290698     0.22297297  0.12168141  0.30398670     \n",
       "14  1991.125  0.033694     0.11602210  0.02532544  0.05732484     \n",
       "15  1991.208  0.187773     0.12871288 -0.11553400  0.02289157     \n",
       "16  1991.292 -0.191176    -0.17982460 -0.09549940 -0.06713780     \n",
       "17  1991.375 -0.143273     0.05882353  0.04208738  0.10858586     \n",
       "18  1991.458 -0.117021    -0.01010100 -0.08480570 -0.06890660     \n",
       "19  1991.542  0.114458     0.17346939  0.04247104  0.07889909     \n",
       "20  1991.625  0.148541     0.13478261 -0.03125930  0.15986395     \n",
       "21  1991.708 -0.066038     0.02298851  0.06967742  0.04398827     \n",
       "22  1991.792  0.040404    -0.25468160 -0.05186970  0.05477528     \n",
       "23  1991.875 -0.012233    -0.05527640 -0.04620870  0.03595207     \n",
       "24  1991.958  0.110837     0.09042553 -0.03783780  0.14395887     \n",
       "25  1992.042  0.148559     0.24390244  0.01123596  0.08089887     \n",
       "26  1992.125  0.044324     0.09411765 -0.02127780  0.02702703     \n",
       "27  1992.208 -0.137037     0.04301075 -0.03884890 -0.04048580     \n",
       "28  1992.292  0.032189     0.08247422  0.08682635 -0.06962030     \n",
       "29  1992.375 -0.006237     0.02380952  0.01333333  0.09750567     \n",
       "30  1992.458 -0.194644    -0.32558140  0.07851240 -0.13223140     \n",
       "... ...      ...          ...         ...         ...             \n",
       "232 2009.292  0.197013     0.225738    0.065229    0.102885       \n",
       "233 2009.375  0.079313    -0.004303    0.035074    0.037512       \n",
       "234 2009.458  0.048745     0.186690   -0.017501    0.137865       \n",
       "235 2009.542  0.147160    -0.025492    0.129381   -0.010517       \n",
       "236 2009.625  0.029500     0.183109    0.005681    0.053571       \n",
       "237 2009.708  0.101896    -0.036008    0.013215    0.043408       \n",
       "238 2009.792  0.016995    -0.053080    0.008361    0.078149       \n",
       "239 2009.875  0.060531    -0.022837    0.052152    0.065272       \n",
       "240 2009.958  0.054134     0.016997    0.036011    0.036382       \n",
       "241 2010.042 -0.088591    -0.101671   -0.065011   -0.075459       \n",
       "242 2010.125  0.065380     0.026357    0.043468    0.022001       \n",
       "243 2010.208  0.148470     0.134441    0.008572    0.021538       \n",
       "244 2010.292  0.111021     0.078562    0.005848    0.042595       \n",
       "245 2010.375 -0.016125    -0.177161   -0.023953   -0.150811       \n",
       "246 2010.458 -0.020827    -0.095274   -0.014210   -0.108140       \n",
       "247 2010.542  0.022741     0.097844    0.039844    0.121686       \n",
       "248 2010.625 -0.055005    -0.111027   -0.035981   -0.085819       \n",
       "249 2010.708  0.167215     0.101954    0.089418    0.043682       \n",
       "250 2010.792  0.060723     0.109869    0.070523    0.088812       \n",
       "251 2010.875  0.033790    -0.081626   -0.010376   -0.046784       \n",
       "252 2010.958  0.036670     0.024962    0.037466    0.105018       \n",
       "253 2011.042  0.051959    -0.028782    0.103843   -0.006628       \n",
       "254 2011.125  0.040935     0.202888    0.003272   -0.035528       \n",
       "255 2011.208 -0.013314    -0.083386    0.007351   -0.044771       \n",
       "256 2011.292  0.004656     0.066161    0.046054    0.020874       \n",
       "257 2011.375 -0.006569     0.039431   -0.005276   -0.028935       \n",
       "258 2011.458 -0.034960     0.036692    0.015509    0.039584       \n",
       "259 2011.542  0.163285    -0.025795    0.060041    0.053846       \n",
       "260 2011.625 -0.014469    -0.084667   -0.050536   -0.023358       \n",
       "261 2011.708 -0.009121    -0.048772    0.017218   -0.064286       \n",
       "    Value.weighted.Market.Return SP.500.Return Price..Dell Price..Apple\n",
       "1   -0.070115                    -0.068817      4.625      34.000      \n",
       "2    0.014901                     0.008539      6.250      34.000      \n",
       "3    0.024140                     0.024255      7.625      40.250      \n",
       "4   -0.028286                    -0.026887      8.500      39.375      \n",
       "5    0.088936                     0.091989     11.000      41.250      \n",
       "6   -0.004196                    -0.008886     12.625      44.750      \n",
       "7   -0.009405                    -0.005223     11.750      42.000      \n",
       "8   -0.091896                    -0.094314     11.750      37.000      \n",
       "9   -0.053843                    -0.051184      8.750      29.000      \n",
       "10  -0.012504                    -0.006698     10.625      30.750      \n",
       "11   0.065744                     0.059934     13.125      36.750      \n",
       "12   0.029513                     0.024828     18.500      43.000      \n",
       "13   0.049078                     0.041518     22.625      55.500      \n",
       "14   0.075847                     0.067281     25.250      57.250      \n",
       "15   0.028923                     0.022203     28.500      68.000      \n",
       "16   0.003322                     0.000346     23.375      55.000      \n",
       "17   0.040732                     0.038577     24.750      47.000      \n",
       "18  -0.044029                    -0.047893     24.500      41.500      \n",
       "19   0.046795                     0.044859     28.750      46.250      \n",
       "20   0.026819                     0.019649     32.625      53.000      \n",
       "21  -0.010975                    -0.019144     33.375      49.500      \n",
       "22   0.017789                     0.011860     24.875      51.500      \n",
       "23  -0.037275                    -0.043928     23.500      50.750      \n",
       "24   0.106778                     0.111588     25.625      56.375      \n",
       "25  -0.001182                    -0.019900     31.875      64.750      \n",
       "26   0.013354                     0.009565     34.875      67.500      \n",
       "27  -0.023700                    -0.021832     36.375      58.250      \n",
       "28   0.013419                     0.027893     26.250      60.125      \n",
       "29   0.006439                     0.000964     26.875      59.750      \n",
       "30  -0.019287                    -0.017359     18.125      48.000      \n",
       "... ...                          ...           ...         ...         \n",
       "232  0.109347                     0.093925     11.620      125.8300    \n",
       "233  0.067784                     0.053081     11.570      135.8100    \n",
       "234 -0.003100                     0.000196     13.730      142.4300    \n",
       "235  0.081715                     0.074142     13.380      163.3900    \n",
       "236  0.031462                     0.033560     15.830      168.2100    \n",
       "237  0.045237                     0.035723     15.260      185.3500    \n",
       "238 -0.028004                    -0.019762     14.450      188.5000    \n",
       "239  0.057093                     0.057364     14.120      199.9100    \n",
       "240  0.028413                     0.017771     14.360      210.7320    \n",
       "241 -0.037093                    -0.036974     12.900      192.0630    \n",
       "242  0.034776                     0.028514     13.240      204.6200    \n",
       "243  0.063600                     0.058796     15.020      235.0000    \n",
       "244  0.020015                     0.014759     16.200      261.0900    \n",
       "245 -0.079133                    -0.081976     13.330      256.8800    \n",
       "246 -0.050721                    -0.053882     12.060      251.5300    \n",
       "247  0.071541                     0.068778     13.240      257.2500    \n",
       "248 -0.042812                    -0.047449     11.770      243.1000    \n",
       "249  0.091514                     0.087551     12.970      283.7500    \n",
       "250  0.038534                     0.036856     14.395      300.9800    \n",
       "251  0.005168                    -0.002290     13.220      311.1500    \n",
       "252  0.067131                     0.065300     13.550      322.5600    \n",
       "253  0.019155                     0.022646     13.160      339.3200    \n",
       "254  0.038158                     0.031957     15.830      353.2100    \n",
       "255  0.003376                    -0.001047     14.510      348.5075    \n",
       "256  0.028683                     0.028495     15.470      350.1300    \n",
       "257 -0.014934                    -0.013501     16.080      347.8300    \n",
       "258 -0.018391                    -0.018258     16.670      335.6700    \n",
       "259 -0.022448                    -0.021474     16.240      390.4800    \n",
       "260 -0.057470                    -0.056791     14.865      384.8300    \n",
       "261 -0.084872                    -0.071762     14.140      381.3200    \n",
       "    Price..IBM Price..Microsoft Calendar.Date\n",
       "1    98.625     92.500          19900131     \n",
       "2   103.875     98.750          19900228     \n",
       "3   106.125    110.750          19900330     \n",
       "4   109.000     58.000          19900430     \n",
       "5   120.000     73.000          19900531     \n",
       "6   117.500     76.000          19900629     \n",
       "7   111.500     66.500          19900731     \n",
       "8   101.875     61.500          19900831     \n",
       "9   106.375     63.000          19900928     \n",
       "10  105.375     63.750          19901031     \n",
       "11  113.625     72.250          19901130     \n",
       "12  113.000     75.250          19901231     \n",
       "13  126.750     98.125          19910131     \n",
       "14  128.750    103.750          19910228     \n",
       "15  113.875    106.125          19910328     \n",
       "16  103.000     99.000          19910430     \n",
       "17  106.125    109.750          19910531     \n",
       "18   97.125     68.125          19910628     \n",
       "19  101.250     73.500          19910731     \n",
       "20   96.875     85.250          19910830     \n",
       "21  103.625     89.000          19910930     \n",
       "22   98.250     93.875          19911031     \n",
       "23   92.500     97.250          19911129     \n",
       "24   89.000    111.250          19911231     \n",
       "25   90.000    120.250          19920131     \n",
       "26   86.875    123.500          19920228     \n",
       "27   83.500    118.500          19920331     \n",
       "28   90.750    110.250          19920430     \n",
       "29   90.750    121.000          19920529     \n",
       "30   97.875     70.000          19920630     \n",
       "... ...        ...              ...          \n",
       "232 103.21     20.2600          20090428     \n",
       "233 106.28     20.8900          20090531     \n",
       "234 104.42     23.7700          20090630     \n",
       "235 117.93     23.5200          20090731     \n",
       "236 118.05     24.6500          20090831     \n",
       "237 119.61     25.7200          20090929     \n",
       "238 120.61     27.7300          20091031     \n",
       "239 126.35     29.4100          20091130     \n",
       "240 130.90     30.4800          20091229     \n",
       "241 122.39     28.1800          20100131     \n",
       "242 127.16     28.6700          20100228     \n",
       "243 128.25     29.2875          20100331     \n",
       "244 129.00     30.5350          20100428     \n",
       "245 125.26     25.8000          20100531     \n",
       "246 123.48     23.0100          20100630     \n",
       "247 128.40     25.8100          20100731     \n",
       "248 123.13     23.4650          20100831     \n",
       "249 134.14     24.4900          20100929     \n",
       "250 143.60     26.6650          20101031     \n",
       "251 141.46     25.2575          20101130     \n",
       "252 146.76     27.9100          20101229     \n",
       "253 162.00     27.7250          20110131     \n",
       "254 161.88     26.5800          20110228     \n",
       "255 163.07     25.3900          20110331     \n",
       "256 170.58     25.9200          20110428     \n",
       "257 168.93     25.0100          20110531     \n",
       "258 171.55     26.0000          20110630     \n",
       "259 181.85     27.4000          20110731     \n",
       "260 171.91     26.6000          20110831     \n",
       "261 174.87     24.8900          20110929     "
      ]
     },
     "metadata": {},
     "output_type": "display_data"
    }
   ],
   "source": [
    "data = read.csv(\"High-Tech Stocks.csv\", header=TRUE)\n",
    "data"
   ]
  },
  {
   "cell_type": "markdown",
   "metadata": {},
   "source": [
    "To inspect the returns columns of data, with the columns sorted to present `SP.500.Return` first, we reference the column positions we want in the order we want, in this case `data[,c(7, 2:5)]`. We assign the resulting table the new name `datax`. Note the 1st column of `datax` matches the 7th column of data, the 2nd column of `datax` matches the 2nd column of data, etc. Taken all together, it looks like this:\n",
    "`datax = data[,c(7, 2:5)]`\n",
    "\n",
    "To add a new column `Mean.Tech.Return` to `datax`, we assign a vector of mean tech return values to that column - the column will be created automatically.\n",
    "\n",
    "To get the vector of mean tech return values, we compute the mean tech return value for each row, stepping through rows one at a time, and then combine all the resulting values together into a vector. We use the `rowMeans` function to step through the rows."
   ]
  },
  {
   "cell_type": "code",
   "execution_count": 2,
   "metadata": {
    "scrolled": true
   },
   "outputs": [
    {
     "data": {
      "text/html": [
       "<table>\n",
       "<thead><tr><th scope=col>SP.500.Return</th><th scope=col>Apple.Return</th><th scope=col>Dell.Return</th><th scope=col>IBM.Return</th><th scope=col>Microsoft.Return</th><th scope=col>Mean.Tech.Return</th></tr></thead>\n",
       "<tbody>\n",
       "\t<tr><td>-0.068817  </td><td>-0.035461  </td><td>-0.15909090</td><td> 0.04780877</td><td> 0.06321839</td><td>-0.02088119</td></tr>\n",
       "\t<tr><td> 0.008539  </td><td> 0.003235  </td><td> 0.35135135</td><td> 0.06550063</td><td> 0.06756756</td><td> 0.12191364</td></tr>\n",
       "\t<tr><td> 0.024255  </td><td> 0.183824  </td><td> 0.22000000</td><td> 0.02166065</td><td> 0.12151898</td><td> 0.13675091</td></tr>\n",
       "\t<tr><td>-0.026887  </td><td>-0.021739  </td><td> 0.11475410</td><td> 0.02709069</td><td> 0.04740406</td><td> 0.04187746</td></tr>\n",
       "\t<tr><td> 0.091989  </td><td> 0.050413  </td><td> 0.29411766</td><td> 0.11201835</td><td> 0.25862068</td><td> 0.17879242</td></tr>\n",
       "\t<tr><td>-0.008886  </td><td> 0.084848  </td><td> 0.14772727</td><td>-0.02083330</td><td> 0.04109589</td><td> 0.06320947</td></tr>\n",
       "\t<tr><td>-0.005223  </td><td>-0.061453  </td><td>-0.06930690</td><td>-0.05106380</td><td>-0.12500000</td><td>-0.07670593</td></tr>\n",
       "\t<tr><td>-0.094314  </td><td>-0.116429  </td><td> 0.00000000</td><td>-0.07547090</td><td>-0.07518800</td><td>-0.06677197</td></tr>\n",
       "\t<tr><td>-0.051184  </td><td>-0.216216  </td><td>-0.25531910</td><td> 0.04417178</td><td> 0.02439024</td><td>-0.10074327</td></tr>\n",
       "\t<tr><td>-0.006698  </td><td> 0.060345  </td><td> 0.21428572</td><td>-0.00940070</td><td> 0.01190476</td><td> 0.06928370</td></tr>\n",
       "\t<tr><td> 0.059934  </td><td> 0.199024  </td><td> 0.23529412</td><td> 0.08977462</td><td> 0.13333334</td><td> 0.16435652</td></tr>\n",
       "\t<tr><td> 0.024828  </td><td> 0.170068  </td><td> 0.40952381</td><td>-0.00550060</td><td> 0.04152249</td><td> 0.15390343</td></tr>\n",
       "\t<tr><td> 0.041518  </td><td> 0.290698  </td><td> 0.22297297</td><td> 0.12168141</td><td> 0.30398670</td><td> 0.23483477</td></tr>\n",
       "\t<tr><td> 0.067281  </td><td> 0.033694  </td><td> 0.11602210</td><td> 0.02532544</td><td> 0.05732484</td><td> 0.05809160</td></tr>\n",
       "\t<tr><td> 0.022203  </td><td> 0.187773  </td><td> 0.12871288</td><td>-0.11553400</td><td> 0.02289157</td><td> 0.05596086</td></tr>\n",
       "\t<tr><td> 0.000346  </td><td>-0.191176  </td><td>-0.17982460</td><td>-0.09549940</td><td>-0.06713780</td><td>-0.13340945</td></tr>\n",
       "\t<tr><td> 0.038577  </td><td>-0.143273  </td><td> 0.05882353</td><td> 0.04208738</td><td> 0.10858586</td><td> 0.01655594</td></tr>\n",
       "\t<tr><td>-0.047893  </td><td>-0.117021  </td><td>-0.01010100</td><td>-0.08480570</td><td>-0.06890660</td><td>-0.07020857</td></tr>\n",
       "\t<tr><td> 0.044859  </td><td> 0.114458  </td><td> 0.17346939</td><td> 0.04247104</td><td> 0.07889909</td><td> 0.10232438</td></tr>\n",
       "\t<tr><td> 0.019649  </td><td> 0.148541  </td><td> 0.13478261</td><td>-0.03125930</td><td> 0.15986395</td><td> 0.10298206</td></tr>\n",
       "\t<tr><td>-0.019144  </td><td>-0.066038  </td><td> 0.02298851</td><td> 0.06967742</td><td> 0.04398827</td><td> 0.01765405</td></tr>\n",
       "\t<tr><td> 0.011860  </td><td> 0.040404  </td><td>-0.25468160</td><td>-0.05186970</td><td> 0.05477528</td><td>-0.05284300</td></tr>\n",
       "\t<tr><td>-0.043928  </td><td>-0.012233  </td><td>-0.05527640</td><td>-0.04620870</td><td> 0.03595207</td><td>-0.01944151</td></tr>\n",
       "\t<tr><td> 0.111588  </td><td> 0.110837  </td><td> 0.09042553</td><td>-0.03783780</td><td> 0.14395887</td><td> 0.07684590</td></tr>\n",
       "\t<tr><td>-0.019900  </td><td> 0.148559  </td><td> 0.24390244</td><td> 0.01123596</td><td> 0.08089887</td><td> 0.12114907</td></tr>\n",
       "\t<tr><td> 0.009565  </td><td> 0.044324  </td><td> 0.09411765</td><td>-0.02127780</td><td> 0.02702703</td><td> 0.03604772</td></tr>\n",
       "\t<tr><td>-0.021832  </td><td>-0.137037  </td><td> 0.04301075</td><td>-0.03884890</td><td>-0.04048580</td><td>-0.04334024</td></tr>\n",
       "\t<tr><td> 0.027893  </td><td> 0.032189  </td><td> 0.08247422</td><td> 0.08682635</td><td>-0.06962030</td><td> 0.03296732</td></tr>\n",
       "\t<tr><td> 0.000964  </td><td>-0.006237  </td><td> 0.02380952</td><td> 0.01333333</td><td> 0.09750567</td><td> 0.03210288</td></tr>\n",
       "\t<tr><td>-0.017359  </td><td>-0.194644  </td><td>-0.32558140</td><td> 0.07851240</td><td>-0.13223140</td><td>-0.14348610</td></tr>\n",
       "\t<tr><td>...</td><td>...</td><td>...</td><td>...</td><td>...</td><td>...</td></tr>\n",
       "\t<tr><td> 0.093925  </td><td> 0.197013  </td><td> 0.225738  </td><td> 0.065229  </td><td> 0.102885  </td><td> 0.14771625</td></tr>\n",
       "\t<tr><td> 0.053081  </td><td> 0.079313  </td><td>-0.004303  </td><td> 0.035074  </td><td> 0.037512  </td><td> 0.03689900</td></tr>\n",
       "\t<tr><td> 0.000196  </td><td> 0.048745  </td><td> 0.186690  </td><td>-0.017501  </td><td> 0.137865  </td><td> 0.08894975</td></tr>\n",
       "\t<tr><td> 0.074142  </td><td> 0.147160  </td><td>-0.025492  </td><td> 0.129381  </td><td>-0.010517  </td><td> 0.06013300</td></tr>\n",
       "\t<tr><td> 0.033560  </td><td> 0.029500  </td><td> 0.183109  </td><td> 0.005681  </td><td> 0.053571  </td><td> 0.06796525</td></tr>\n",
       "\t<tr><td> 0.035723  </td><td> 0.101896  </td><td>-0.036008  </td><td> 0.013215  </td><td> 0.043408  </td><td> 0.03062775</td></tr>\n",
       "\t<tr><td>-0.019762  </td><td> 0.016995  </td><td>-0.053080  </td><td> 0.008361  </td><td> 0.078149  </td><td> 0.01260625</td></tr>\n",
       "\t<tr><td> 0.057364  </td><td> 0.060531  </td><td>-0.022837  </td><td> 0.052152  </td><td> 0.065272  </td><td> 0.03877950</td></tr>\n",
       "\t<tr><td> 0.017771  </td><td> 0.054134  </td><td> 0.016997  </td><td> 0.036011  </td><td> 0.036382  </td><td> 0.03588100</td></tr>\n",
       "\t<tr><td>-0.036974  </td><td>-0.088591  </td><td>-0.101671  </td><td>-0.065011  </td><td>-0.075459  </td><td>-0.08268300</td></tr>\n",
       "\t<tr><td> 0.028514  </td><td> 0.065380  </td><td> 0.026357  </td><td> 0.043468  </td><td> 0.022001  </td><td> 0.03930150</td></tr>\n",
       "\t<tr><td> 0.058796  </td><td> 0.148470  </td><td> 0.134441  </td><td> 0.008572  </td><td> 0.021538  </td><td> 0.07825525</td></tr>\n",
       "\t<tr><td> 0.014759  </td><td> 0.111021  </td><td> 0.078562  </td><td> 0.005848  </td><td> 0.042595  </td><td> 0.05950650</td></tr>\n",
       "\t<tr><td>-0.081976  </td><td>-0.016125  </td><td>-0.177161  </td><td>-0.023953  </td><td>-0.150811  </td><td>-0.09201250</td></tr>\n",
       "\t<tr><td>-0.053882  </td><td>-0.020827  </td><td>-0.095274  </td><td>-0.014210  </td><td>-0.108140  </td><td>-0.05961275</td></tr>\n",
       "\t<tr><td> 0.068778  </td><td> 0.022741  </td><td> 0.097844  </td><td> 0.039844  </td><td> 0.121686  </td><td> 0.07052875</td></tr>\n",
       "\t<tr><td>-0.047449  </td><td>-0.055005  </td><td>-0.111027  </td><td>-0.035981  </td><td>-0.085819  </td><td>-0.07195800</td></tr>\n",
       "\t<tr><td> 0.087551  </td><td> 0.167215  </td><td> 0.101954  </td><td> 0.089418  </td><td> 0.043682  </td><td> 0.10056725</td></tr>\n",
       "\t<tr><td> 0.036856  </td><td> 0.060723  </td><td> 0.109869  </td><td> 0.070523  </td><td> 0.088812  </td><td> 0.08248175</td></tr>\n",
       "\t<tr><td>-0.002290  </td><td> 0.033790  </td><td>-0.081626  </td><td>-0.010376  </td><td>-0.046784  </td><td>-0.02624900</td></tr>\n",
       "\t<tr><td> 0.065300  </td><td> 0.036670  </td><td> 0.024962  </td><td> 0.037466  </td><td> 0.105018  </td><td> 0.05102900</td></tr>\n",
       "\t<tr><td> 0.022646  </td><td> 0.051959  </td><td>-0.028782  </td><td> 0.103843  </td><td>-0.006628  </td><td> 0.03009800</td></tr>\n",
       "\t<tr><td> 0.031957  </td><td> 0.040935  </td><td> 0.202888  </td><td> 0.003272  </td><td>-0.035528  </td><td> 0.05289175</td></tr>\n",
       "\t<tr><td>-0.001047  </td><td>-0.013314  </td><td>-0.083386  </td><td> 0.007351  </td><td>-0.044771  </td><td>-0.03353000</td></tr>\n",
       "\t<tr><td> 0.028495  </td><td> 0.004656  </td><td> 0.066161  </td><td> 0.046054  </td><td> 0.020874  </td><td> 0.03443625</td></tr>\n",
       "\t<tr><td>-0.013501  </td><td>-0.006569  </td><td> 0.039431  </td><td>-0.005276  </td><td>-0.028935  </td><td>-0.00033725</td></tr>\n",
       "\t<tr><td>-0.018258  </td><td>-0.034960  </td><td> 0.036692  </td><td> 0.015509  </td><td> 0.039584  </td><td> 0.01420625</td></tr>\n",
       "\t<tr><td>-0.021474  </td><td> 0.163285  </td><td>-0.025795  </td><td> 0.060041  </td><td> 0.053846  </td><td> 0.06284425</td></tr>\n",
       "\t<tr><td>-0.056791  </td><td>-0.014469  </td><td>-0.084667  </td><td>-0.050536  </td><td>-0.023358  </td><td>-0.04325750</td></tr>\n",
       "\t<tr><td>-0.071762  </td><td>-0.009121  </td><td>-0.048772  </td><td> 0.017218  </td><td>-0.064286  </td><td>-0.02624025</td></tr>\n",
       "</tbody>\n",
       "</table>\n"
      ],
      "text/latex": [
       "\\begin{tabular}{r|llllll}\n",
       " SP.500.Return & Apple.Return & Dell.Return & IBM.Return & Microsoft.Return & Mean.Tech.Return\\\\\n",
       "\\hline\n",
       "\t -0.068817   & -0.035461   & -0.15909090 &  0.04780877 &  0.06321839 & -0.02088119\\\\\n",
       "\t  0.008539   &  0.003235   &  0.35135135 &  0.06550063 &  0.06756756 &  0.12191364\\\\\n",
       "\t  0.024255   &  0.183824   &  0.22000000 &  0.02166065 &  0.12151898 &  0.13675091\\\\\n",
       "\t -0.026887   & -0.021739   &  0.11475410 &  0.02709069 &  0.04740406 &  0.04187746\\\\\n",
       "\t  0.091989   &  0.050413   &  0.29411766 &  0.11201835 &  0.25862068 &  0.17879242\\\\\n",
       "\t -0.008886   &  0.084848   &  0.14772727 & -0.02083330 &  0.04109589 &  0.06320947\\\\\n",
       "\t -0.005223   & -0.061453   & -0.06930690 & -0.05106380 & -0.12500000 & -0.07670593\\\\\n",
       "\t -0.094314   & -0.116429   &  0.00000000 & -0.07547090 & -0.07518800 & -0.06677197\\\\\n",
       "\t -0.051184   & -0.216216   & -0.25531910 &  0.04417178 &  0.02439024 & -0.10074327\\\\\n",
       "\t -0.006698   &  0.060345   &  0.21428572 & -0.00940070 &  0.01190476 &  0.06928370\\\\\n",
       "\t  0.059934   &  0.199024   &  0.23529412 &  0.08977462 &  0.13333334 &  0.16435652\\\\\n",
       "\t  0.024828   &  0.170068   &  0.40952381 & -0.00550060 &  0.04152249 &  0.15390343\\\\\n",
       "\t  0.041518   &  0.290698   &  0.22297297 &  0.12168141 &  0.30398670 &  0.23483477\\\\\n",
       "\t  0.067281   &  0.033694   &  0.11602210 &  0.02532544 &  0.05732484 &  0.05809160\\\\\n",
       "\t  0.022203   &  0.187773   &  0.12871288 & -0.11553400 &  0.02289157 &  0.05596086\\\\\n",
       "\t  0.000346   & -0.191176   & -0.17982460 & -0.09549940 & -0.06713780 & -0.13340945\\\\\n",
       "\t  0.038577   & -0.143273   &  0.05882353 &  0.04208738 &  0.10858586 &  0.01655594\\\\\n",
       "\t -0.047893   & -0.117021   & -0.01010100 & -0.08480570 & -0.06890660 & -0.07020857\\\\\n",
       "\t  0.044859   &  0.114458   &  0.17346939 &  0.04247104 &  0.07889909 &  0.10232438\\\\\n",
       "\t  0.019649   &  0.148541   &  0.13478261 & -0.03125930 &  0.15986395 &  0.10298206\\\\\n",
       "\t -0.019144   & -0.066038   &  0.02298851 &  0.06967742 &  0.04398827 &  0.01765405\\\\\n",
       "\t  0.011860   &  0.040404   & -0.25468160 & -0.05186970 &  0.05477528 & -0.05284300\\\\\n",
       "\t -0.043928   & -0.012233   & -0.05527640 & -0.04620870 &  0.03595207 & -0.01944151\\\\\n",
       "\t  0.111588   &  0.110837   &  0.09042553 & -0.03783780 &  0.14395887 &  0.07684590\\\\\n",
       "\t -0.019900   &  0.148559   &  0.24390244 &  0.01123596 &  0.08089887 &  0.12114907\\\\\n",
       "\t  0.009565   &  0.044324   &  0.09411765 & -0.02127780 &  0.02702703 &  0.03604772\\\\\n",
       "\t -0.021832   & -0.137037   &  0.04301075 & -0.03884890 & -0.04048580 & -0.04334024\\\\\n",
       "\t  0.027893   &  0.032189   &  0.08247422 &  0.08682635 & -0.06962030 &  0.03296732\\\\\n",
       "\t  0.000964   & -0.006237   &  0.02380952 &  0.01333333 &  0.09750567 &  0.03210288\\\\\n",
       "\t -0.017359   & -0.194644   & -0.32558140 &  0.07851240 & -0.13223140 & -0.14348610\\\\\n",
       "\t ... & ... & ... & ... & ... & ...\\\\\n",
       "\t  0.093925   &  0.197013   &  0.225738   &  0.065229   &  0.102885   &  0.14771625\\\\\n",
       "\t  0.053081   &  0.079313   & -0.004303   &  0.035074   &  0.037512   &  0.03689900\\\\\n",
       "\t  0.000196   &  0.048745   &  0.186690   & -0.017501   &  0.137865   &  0.08894975\\\\\n",
       "\t  0.074142   &  0.147160   & -0.025492   &  0.129381   & -0.010517   &  0.06013300\\\\\n",
       "\t  0.033560   &  0.029500   &  0.183109   &  0.005681   &  0.053571   &  0.06796525\\\\\n",
       "\t  0.035723   &  0.101896   & -0.036008   &  0.013215   &  0.043408   &  0.03062775\\\\\n",
       "\t -0.019762   &  0.016995   & -0.053080   &  0.008361   &  0.078149   &  0.01260625\\\\\n",
       "\t  0.057364   &  0.060531   & -0.022837   &  0.052152   &  0.065272   &  0.03877950\\\\\n",
       "\t  0.017771   &  0.054134   &  0.016997   &  0.036011   &  0.036382   &  0.03588100\\\\\n",
       "\t -0.036974   & -0.088591   & -0.101671   & -0.065011   & -0.075459   & -0.08268300\\\\\n",
       "\t  0.028514   &  0.065380   &  0.026357   &  0.043468   &  0.022001   &  0.03930150\\\\\n",
       "\t  0.058796   &  0.148470   &  0.134441   &  0.008572   &  0.021538   &  0.07825525\\\\\n",
       "\t  0.014759   &  0.111021   &  0.078562   &  0.005848   &  0.042595   &  0.05950650\\\\\n",
       "\t -0.081976   & -0.016125   & -0.177161   & -0.023953   & -0.150811   & -0.09201250\\\\\n",
       "\t -0.053882   & -0.020827   & -0.095274   & -0.014210   & -0.108140   & -0.05961275\\\\\n",
       "\t  0.068778   &  0.022741   &  0.097844   &  0.039844   &  0.121686   &  0.07052875\\\\\n",
       "\t -0.047449   & -0.055005   & -0.111027   & -0.035981   & -0.085819   & -0.07195800\\\\\n",
       "\t  0.087551   &  0.167215   &  0.101954   &  0.089418   &  0.043682   &  0.10056725\\\\\n",
       "\t  0.036856   &  0.060723   &  0.109869   &  0.070523   &  0.088812   &  0.08248175\\\\\n",
       "\t -0.002290   &  0.033790   & -0.081626   & -0.010376   & -0.046784   & -0.02624900\\\\\n",
       "\t  0.065300   &  0.036670   &  0.024962   &  0.037466   &  0.105018   &  0.05102900\\\\\n",
       "\t  0.022646   &  0.051959   & -0.028782   &  0.103843   & -0.006628   &  0.03009800\\\\\n",
       "\t  0.031957   &  0.040935   &  0.202888   &  0.003272   & -0.035528   &  0.05289175\\\\\n",
       "\t -0.001047   & -0.013314   & -0.083386   &  0.007351   & -0.044771   & -0.03353000\\\\\n",
       "\t  0.028495   &  0.004656   &  0.066161   &  0.046054   &  0.020874   &  0.03443625\\\\\n",
       "\t -0.013501   & -0.006569   &  0.039431   & -0.005276   & -0.028935   & -0.00033725\\\\\n",
       "\t -0.018258   & -0.034960   &  0.036692   &  0.015509   &  0.039584   &  0.01420625\\\\\n",
       "\t -0.021474   &  0.163285   & -0.025795   &  0.060041   &  0.053846   &  0.06284425\\\\\n",
       "\t -0.056791   & -0.014469   & -0.084667   & -0.050536   & -0.023358   & -0.04325750\\\\\n",
       "\t -0.071762   & -0.009121   & -0.048772   &  0.017218   & -0.064286   & -0.02624025\\\\\n",
       "\\end{tabular}\n"
      ],
      "text/markdown": [
       "\n",
       "SP.500.Return | Apple.Return | Dell.Return | IBM.Return | Microsoft.Return | Mean.Tech.Return | \n",
       "|---|---|---|---|---|---|---|---|---|---|---|---|---|---|---|---|---|---|---|---|---|---|---|---|---|---|---|---|---|---|---|---|---|---|---|---|---|---|---|---|---|---|---|---|---|---|---|---|---|---|---|---|---|---|---|---|---|---|---|---|---|\n",
       "| -0.068817   | -0.035461   | -0.15909090 |  0.04780877 |  0.06321839 | -0.02088119 | \n",
       "|  0.008539   |  0.003235   |  0.35135135 |  0.06550063 |  0.06756756 |  0.12191364 | \n",
       "|  0.024255   |  0.183824   |  0.22000000 |  0.02166065 |  0.12151898 |  0.13675091 | \n",
       "| -0.026887   | -0.021739   |  0.11475410 |  0.02709069 |  0.04740406 |  0.04187746 | \n",
       "|  0.091989   |  0.050413   |  0.29411766 |  0.11201835 |  0.25862068 |  0.17879242 | \n",
       "| -0.008886   |  0.084848   |  0.14772727 | -0.02083330 |  0.04109589 |  0.06320947 | \n",
       "| -0.005223   | -0.061453   | -0.06930690 | -0.05106380 | -0.12500000 | -0.07670593 | \n",
       "| -0.094314   | -0.116429   |  0.00000000 | -0.07547090 | -0.07518800 | -0.06677197 | \n",
       "| -0.051184   | -0.216216   | -0.25531910 |  0.04417178 |  0.02439024 | -0.10074327 | \n",
       "| -0.006698   |  0.060345   |  0.21428572 | -0.00940070 |  0.01190476 |  0.06928370 | \n",
       "|  0.059934   |  0.199024   |  0.23529412 |  0.08977462 |  0.13333334 |  0.16435652 | \n",
       "|  0.024828   |  0.170068   |  0.40952381 | -0.00550060 |  0.04152249 |  0.15390343 | \n",
       "|  0.041518   |  0.290698   |  0.22297297 |  0.12168141 |  0.30398670 |  0.23483477 | \n",
       "|  0.067281   |  0.033694   |  0.11602210 |  0.02532544 |  0.05732484 |  0.05809160 | \n",
       "|  0.022203   |  0.187773   |  0.12871288 | -0.11553400 |  0.02289157 |  0.05596086 | \n",
       "|  0.000346   | -0.191176   | -0.17982460 | -0.09549940 | -0.06713780 | -0.13340945 | \n",
       "|  0.038577   | -0.143273   |  0.05882353 |  0.04208738 |  0.10858586 |  0.01655594 | \n",
       "| -0.047893   | -0.117021   | -0.01010100 | -0.08480570 | -0.06890660 | -0.07020857 | \n",
       "|  0.044859   |  0.114458   |  0.17346939 |  0.04247104 |  0.07889909 |  0.10232438 | \n",
       "|  0.019649   |  0.148541   |  0.13478261 | -0.03125930 |  0.15986395 |  0.10298206 | \n",
       "| -0.019144   | -0.066038   |  0.02298851 |  0.06967742 |  0.04398827 |  0.01765405 | \n",
       "|  0.011860   |  0.040404   | -0.25468160 | -0.05186970 |  0.05477528 | -0.05284300 | \n",
       "| -0.043928   | -0.012233   | -0.05527640 | -0.04620870 |  0.03595207 | -0.01944151 | \n",
       "|  0.111588   |  0.110837   |  0.09042553 | -0.03783780 |  0.14395887 |  0.07684590 | \n",
       "| -0.019900   |  0.148559   |  0.24390244 |  0.01123596 |  0.08089887 |  0.12114907 | \n",
       "|  0.009565   |  0.044324   |  0.09411765 | -0.02127780 |  0.02702703 |  0.03604772 | \n",
       "| -0.021832   | -0.137037   |  0.04301075 | -0.03884890 | -0.04048580 | -0.04334024 | \n",
       "|  0.027893   |  0.032189   |  0.08247422 |  0.08682635 | -0.06962030 |  0.03296732 | \n",
       "|  0.000964   | -0.006237   |  0.02380952 |  0.01333333 |  0.09750567 |  0.03210288 | \n",
       "| -0.017359   | -0.194644   | -0.32558140 |  0.07851240 | -0.13223140 | -0.14348610 | \n",
       "| ... | ... | ... | ... | ... | ... | \n",
       "|  0.093925   |  0.197013   |  0.225738   |  0.065229   |  0.102885   |  0.14771625 | \n",
       "|  0.053081   |  0.079313   | -0.004303   |  0.035074   |  0.037512   |  0.03689900 | \n",
       "|  0.000196   |  0.048745   |  0.186690   | -0.017501   |  0.137865   |  0.08894975 | \n",
       "|  0.074142   |  0.147160   | -0.025492   |  0.129381   | -0.010517   |  0.06013300 | \n",
       "|  0.033560   |  0.029500   |  0.183109   |  0.005681   |  0.053571   |  0.06796525 | \n",
       "|  0.035723   |  0.101896   | -0.036008   |  0.013215   |  0.043408   |  0.03062775 | \n",
       "| -0.019762   |  0.016995   | -0.053080   |  0.008361   |  0.078149   |  0.01260625 | \n",
       "|  0.057364   |  0.060531   | -0.022837   |  0.052152   |  0.065272   |  0.03877950 | \n",
       "|  0.017771   |  0.054134   |  0.016997   |  0.036011   |  0.036382   |  0.03588100 | \n",
       "| -0.036974   | -0.088591   | -0.101671   | -0.065011   | -0.075459   | -0.08268300 | \n",
       "|  0.028514   |  0.065380   |  0.026357   |  0.043468   |  0.022001   |  0.03930150 | \n",
       "|  0.058796   |  0.148470   |  0.134441   |  0.008572   |  0.021538   |  0.07825525 | \n",
       "|  0.014759   |  0.111021   |  0.078562   |  0.005848   |  0.042595   |  0.05950650 | \n",
       "| -0.081976   | -0.016125   | -0.177161   | -0.023953   | -0.150811   | -0.09201250 | \n",
       "| -0.053882   | -0.020827   | -0.095274   | -0.014210   | -0.108140   | -0.05961275 | \n",
       "|  0.068778   |  0.022741   |  0.097844   |  0.039844   |  0.121686   |  0.07052875 | \n",
       "| -0.047449   | -0.055005   | -0.111027   | -0.035981   | -0.085819   | -0.07195800 | \n",
       "|  0.087551   |  0.167215   |  0.101954   |  0.089418   |  0.043682   |  0.10056725 | \n",
       "|  0.036856   |  0.060723   |  0.109869   |  0.070523   |  0.088812   |  0.08248175 | \n",
       "| -0.002290   |  0.033790   | -0.081626   | -0.010376   | -0.046784   | -0.02624900 | \n",
       "|  0.065300   |  0.036670   |  0.024962   |  0.037466   |  0.105018   |  0.05102900 | \n",
       "|  0.022646   |  0.051959   | -0.028782   |  0.103843   | -0.006628   |  0.03009800 | \n",
       "|  0.031957   |  0.040935   |  0.202888   |  0.003272   | -0.035528   |  0.05289175 | \n",
       "| -0.001047   | -0.013314   | -0.083386   |  0.007351   | -0.044771   | -0.03353000 | \n",
       "|  0.028495   |  0.004656   |  0.066161   |  0.046054   |  0.020874   |  0.03443625 | \n",
       "| -0.013501   | -0.006569   |  0.039431   | -0.005276   | -0.028935   | -0.00033725 | \n",
       "| -0.018258   | -0.034960   |  0.036692   |  0.015509   |  0.039584   |  0.01420625 | \n",
       "| -0.021474   |  0.163285   | -0.025795   |  0.060041   |  0.053846   |  0.06284425 | \n",
       "| -0.056791   | -0.014469   | -0.084667   | -0.050536   | -0.023358   | -0.04325750 | \n",
       "| -0.071762   | -0.009121   | -0.048772   |  0.017218   | -0.064286   | -0.02624025 | \n",
       "\n",
       "\n"
      ],
      "text/plain": [
       "    SP.500.Return Apple.Return Dell.Return IBM.Return  Microsoft.Return\n",
       "1   -0.068817     -0.035461    -0.15909090  0.04780877  0.06321839     \n",
       "2    0.008539      0.003235     0.35135135  0.06550063  0.06756756     \n",
       "3    0.024255      0.183824     0.22000000  0.02166065  0.12151898     \n",
       "4   -0.026887     -0.021739     0.11475410  0.02709069  0.04740406     \n",
       "5    0.091989      0.050413     0.29411766  0.11201835  0.25862068     \n",
       "6   -0.008886      0.084848     0.14772727 -0.02083330  0.04109589     \n",
       "7   -0.005223     -0.061453    -0.06930690 -0.05106380 -0.12500000     \n",
       "8   -0.094314     -0.116429     0.00000000 -0.07547090 -0.07518800     \n",
       "9   -0.051184     -0.216216    -0.25531910  0.04417178  0.02439024     \n",
       "10  -0.006698      0.060345     0.21428572 -0.00940070  0.01190476     \n",
       "11   0.059934      0.199024     0.23529412  0.08977462  0.13333334     \n",
       "12   0.024828      0.170068     0.40952381 -0.00550060  0.04152249     \n",
       "13   0.041518      0.290698     0.22297297  0.12168141  0.30398670     \n",
       "14   0.067281      0.033694     0.11602210  0.02532544  0.05732484     \n",
       "15   0.022203      0.187773     0.12871288 -0.11553400  0.02289157     \n",
       "16   0.000346     -0.191176    -0.17982460 -0.09549940 -0.06713780     \n",
       "17   0.038577     -0.143273     0.05882353  0.04208738  0.10858586     \n",
       "18  -0.047893     -0.117021    -0.01010100 -0.08480570 -0.06890660     \n",
       "19   0.044859      0.114458     0.17346939  0.04247104  0.07889909     \n",
       "20   0.019649      0.148541     0.13478261 -0.03125930  0.15986395     \n",
       "21  -0.019144     -0.066038     0.02298851  0.06967742  0.04398827     \n",
       "22   0.011860      0.040404    -0.25468160 -0.05186970  0.05477528     \n",
       "23  -0.043928     -0.012233    -0.05527640 -0.04620870  0.03595207     \n",
       "24   0.111588      0.110837     0.09042553 -0.03783780  0.14395887     \n",
       "25  -0.019900      0.148559     0.24390244  0.01123596  0.08089887     \n",
       "26   0.009565      0.044324     0.09411765 -0.02127780  0.02702703     \n",
       "27  -0.021832     -0.137037     0.04301075 -0.03884890 -0.04048580     \n",
       "28   0.027893      0.032189     0.08247422  0.08682635 -0.06962030     \n",
       "29   0.000964     -0.006237     0.02380952  0.01333333  0.09750567     \n",
       "30  -0.017359     -0.194644    -0.32558140  0.07851240 -0.13223140     \n",
       "... ...           ...          ...         ...         ...             \n",
       "232  0.093925      0.197013     0.225738    0.065229    0.102885       \n",
       "233  0.053081      0.079313    -0.004303    0.035074    0.037512       \n",
       "234  0.000196      0.048745     0.186690   -0.017501    0.137865       \n",
       "235  0.074142      0.147160    -0.025492    0.129381   -0.010517       \n",
       "236  0.033560      0.029500     0.183109    0.005681    0.053571       \n",
       "237  0.035723      0.101896    -0.036008    0.013215    0.043408       \n",
       "238 -0.019762      0.016995    -0.053080    0.008361    0.078149       \n",
       "239  0.057364      0.060531    -0.022837    0.052152    0.065272       \n",
       "240  0.017771      0.054134     0.016997    0.036011    0.036382       \n",
       "241 -0.036974     -0.088591    -0.101671   -0.065011   -0.075459       \n",
       "242  0.028514      0.065380     0.026357    0.043468    0.022001       \n",
       "243  0.058796      0.148470     0.134441    0.008572    0.021538       \n",
       "244  0.014759      0.111021     0.078562    0.005848    0.042595       \n",
       "245 -0.081976     -0.016125    -0.177161   -0.023953   -0.150811       \n",
       "246 -0.053882     -0.020827    -0.095274   -0.014210   -0.108140       \n",
       "247  0.068778      0.022741     0.097844    0.039844    0.121686       \n",
       "248 -0.047449     -0.055005    -0.111027   -0.035981   -0.085819       \n",
       "249  0.087551      0.167215     0.101954    0.089418    0.043682       \n",
       "250  0.036856      0.060723     0.109869    0.070523    0.088812       \n",
       "251 -0.002290      0.033790    -0.081626   -0.010376   -0.046784       \n",
       "252  0.065300      0.036670     0.024962    0.037466    0.105018       \n",
       "253  0.022646      0.051959    -0.028782    0.103843   -0.006628       \n",
       "254  0.031957      0.040935     0.202888    0.003272   -0.035528       \n",
       "255 -0.001047     -0.013314    -0.083386    0.007351   -0.044771       \n",
       "256  0.028495      0.004656     0.066161    0.046054    0.020874       \n",
       "257 -0.013501     -0.006569     0.039431   -0.005276   -0.028935       \n",
       "258 -0.018258     -0.034960     0.036692    0.015509    0.039584       \n",
       "259 -0.021474      0.163285    -0.025795    0.060041    0.053846       \n",
       "260 -0.056791     -0.014469    -0.084667   -0.050536   -0.023358       \n",
       "261 -0.071762     -0.009121    -0.048772    0.017218   -0.064286       \n",
       "    Mean.Tech.Return\n",
       "1   -0.02088119     \n",
       "2    0.12191364     \n",
       "3    0.13675091     \n",
       "4    0.04187746     \n",
       "5    0.17879242     \n",
       "6    0.06320947     \n",
       "7   -0.07670593     \n",
       "8   -0.06677197     \n",
       "9   -0.10074327     \n",
       "10   0.06928370     \n",
       "11   0.16435652     \n",
       "12   0.15390343     \n",
       "13   0.23483477     \n",
       "14   0.05809160     \n",
       "15   0.05596086     \n",
       "16  -0.13340945     \n",
       "17   0.01655594     \n",
       "18  -0.07020857     \n",
       "19   0.10232438     \n",
       "20   0.10298206     \n",
       "21   0.01765405     \n",
       "22  -0.05284300     \n",
       "23  -0.01944151     \n",
       "24   0.07684590     \n",
       "25   0.12114907     \n",
       "26   0.03604772     \n",
       "27  -0.04334024     \n",
       "28   0.03296732     \n",
       "29   0.03210288     \n",
       "30  -0.14348610     \n",
       "... ...             \n",
       "232  0.14771625     \n",
       "233  0.03689900     \n",
       "234  0.08894975     \n",
       "235  0.06013300     \n",
       "236  0.06796525     \n",
       "237  0.03062775     \n",
       "238  0.01260625     \n",
       "239  0.03877950     \n",
       "240  0.03588100     \n",
       "241 -0.08268300     \n",
       "242  0.03930150     \n",
       "243  0.07825525     \n",
       "244  0.05950650     \n",
       "245 -0.09201250     \n",
       "246 -0.05961275     \n",
       "247  0.07052875     \n",
       "248 -0.07195800     \n",
       "249  0.10056725     \n",
       "250  0.08248175     \n",
       "251 -0.02624900     \n",
       "252  0.05102900     \n",
       "253  0.03009800     \n",
       "254  0.05289175     \n",
       "255 -0.03353000     \n",
       "256  0.03443625     \n",
       "257 -0.00033725     \n",
       "258  0.01420625     \n",
       "259  0.06284425     \n",
       "260 -0.04325750     \n",
       "261 -0.02624025     "
      ]
     },
     "metadata": {},
     "output_type": "display_data"
    }
   ],
   "source": [
    "datax = data[,c(7, 2:5)]\n",
    "datax$Mean.Tech.Return = rowMeans(data[,2:5])                                     \n",
    "datax  "
   ]
  },
  {
   "cell_type": "markdown",
   "metadata": {},
   "source": [
    "## Code"
   ]
  },
  {
   "cell_type": "markdown",
   "metadata": {},
   "source": [
    "### Useful Functions"
   ]
  },
  {
   "cell_type": "code",
   "execution_count": null,
   "metadata": {},
   "outputs": [],
   "source": []
  },
  {
   "cell_type": "markdown",
   "metadata": {},
   "source": [
    "## Expectations\n",
    "\n",
    "Know about this:\n",
    "* xxxxx\n",
    "* xxxxx"
   ]
  },
  {
   "cell_type": "markdown",
   "metadata": {},
   "source": [
    "## Further Reading\n",
    "\n",
    "* References to be added here ...\n"
   ]
  },
  {
   "cell_type": "markdown",
   "metadata": {},
   "source": [
    "<font size=1;>\n",
    "<p style=\"text-align: left;\">\n",
    "Copyright (c) Berkeley Data Analytics Group, LLC\n",
    "<span style=\"float: right;\">\n",
    "document revised May 6, 2019\n",
    "</span>\n",
    "</p>\n",
    "</font>"
   ]
  }
 ],
 "metadata": {
  "hide_code_all_hidden": false,
  "hide_input": false,
  "kernelspec": {
   "display_name": "R",
   "language": "R",
   "name": "ir"
  },
  "language_info": {
   "codemirror_mode": "r",
   "file_extension": ".r",
   "mimetype": "text/x-r-source",
   "name": "R",
   "pygments_lexer": "r",
   "version": "3.5.3"
  },
  "toc": {
   "base_numbering": 1,
   "nav_menu": {},
   "number_sections": true,
   "sideBar": true,
   "skip_h1_title": true,
   "title_cell": "Table of Contents",
   "title_sidebar": "Contents",
   "toc_cell": false,
   "toc_position": {},
   "toc_section_display": true,
   "toc_window_display": true
  }
 },
 "nbformat": 4,
 "nbformat_minor": 2
}
