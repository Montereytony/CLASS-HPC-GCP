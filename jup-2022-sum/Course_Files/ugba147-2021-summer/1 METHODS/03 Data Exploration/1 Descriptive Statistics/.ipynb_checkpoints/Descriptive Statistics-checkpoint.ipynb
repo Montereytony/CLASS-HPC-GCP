{
 "cells": [
  {
   "cell_type": "markdown",
   "metadata": {
    "hideCode": false,
    "hidePrompt": false
   },
   "source": [
    "# Descriptive Statistics\n",
    "\n",
    "![](banner_descriptive_statistics.jpg)\n",
    "\n",
    "_<p style=\"text-align: center;\"> What are the chances that the wildebeast makes it across the river? </p>_"
   ]
  },
  {
   "cell_type": "code",
   "execution_count": 1,
   "metadata": {
    "hide_input": true
   },
   "outputs": [
    {
     "data": {
      "text/html": [
       "<p style=\"text-align:center; font-size:10px;\">\n",
       ".................................................... start of document ....................................................\n",
       "</p>"
      ]
     },
     "metadata": {},
     "output_type": "display_data"
    }
   ],
   "source": [
    "f = \"setup.R\"; for (i in 1:10) { if (file.exists(f)) break else f = paste0(\"../\", f) }; source(f)"
   ]
  },
  {
   "cell_type": "markdown",
   "metadata": {},
   "source": [
    "## Introduction\n",
    "\n",
    "Motivation, context, history, related topics ..."
   ]
  },
  {
   "cell_type": "markdown",
   "metadata": {},
   "source": [
    "_<p style=\"text-align: center;\"> “The object of statistical science is to discover methods of condensing information concerning<br> large groups of allied facts into brief and compendious expressions suitable for discussion.”<br>- Sir Francis Galton </p>_"
   ]
  },
  {
   "cell_type": "markdown",
   "metadata": {},
   "source": [
    "## Terms"
   ]
  },
  {
   "cell_type": "markdown",
   "metadata": {},
   "source": [
    "* A **statistic** summarizes one or more **variable** distributions."
   ]
  },
  {
   "cell_type": "markdown",
   "metadata": {},
   "source": [
    "## Data\n",
    "\n",
    "Consider the following pedagogical dataset called `data`."
   ]
  },
  {
   "cell_type": "code",
   "execution_count": 2,
   "metadata": {
    "hide_input": false
   },
   "outputs": [
    {
     "data": {
      "text/html": [
       "<table>\n",
       "<caption><center><font color=\"black\"><b>data</b></font></center></caption>\n",
       " <thead>\n",
       "  <tr>\n",
       "   <th style=\"text-align:right;background-color: #FFFFFF !important;\"> x1 </th>\n",
       "   <th style=\"text-align:right;background-color: #FFFFFF !important;\"> x2 </th>\n",
       "   <th style=\"text-align:right;background-color: #FFFFFF !important;\"> x3 </th>\n",
       "   <th style=\"text-align:right;background-color: #FFFFFF !important;\"> x4 </th>\n",
       "   <th style=\"text-align:right;background-color: #FFFFFF !important;\"> x5 </th>\n",
       "  </tr>\n",
       " </thead>\n",
       "<tbody>\n",
       "  <tr>\n",
       "   <td style=\"text-align:right;\"> 3 </td>\n",
       "   <td style=\"text-align:right;\"> 25 </td>\n",
       "   <td style=\"text-align:right;\"> 95 </td>\n",
       "   <td style=\"text-align:right;\"> 22 </td>\n",
       "   <td style=\"text-align:right;\"> A </td>\n",
       "  </tr>\n",
       "  <tr>\n",
       "   <td style=\"text-align:right;\"> 4 </td>\n",
       "   <td style=\"text-align:right;\"> 42 </td>\n",
       "   <td style=\"text-align:right;\"> 93 </td>\n",
       "   <td style=\"text-align:right;\"> 41 </td>\n",
       "   <td style=\"text-align:right;\"> B </td>\n",
       "  </tr>\n",
       "  <tr>\n",
       "   <td style=\"text-align:right;\"> 5 </td>\n",
       "   <td style=\"text-align:right;\"> 53 </td>\n",
       "   <td style=\"text-align:right;\"> 81 </td>\n",
       "   <td style=\"text-align:right;\"> NA </td>\n",
       "   <td style=\"text-align:right;\"> C </td>\n",
       "  </tr>\n",
       "  <tr>\n",
       "   <td style=\"text-align:right;\"> 4 </td>\n",
       "   <td style=\"text-align:right;\"> 47 </td>\n",
       "   <td style=\"text-align:right;\"> 79 </td>\n",
       "   <td style=\"text-align:right;\"> NA </td>\n",
       "   <td style=\"text-align:right;\"> B </td>\n",
       "  </tr>\n",
       "  <tr>\n",
       "   <td style=\"text-align:right;\"> 5 </td>\n",
       "   <td style=\"text-align:right;\"> 51 </td>\n",
       "   <td style=\"text-align:right;\"> 53 </td>\n",
       "   <td style=\"text-align:right;\"> 51 </td>\n",
       "   <td style=\"text-align:right;\"> B </td>\n",
       "  </tr>\n",
       "  <tr>\n",
       "   <td style=\"text-align:right;\"> 5 </td>\n",
       "   <td style=\"text-align:right;\"> 65 </td>\n",
       "   <td style=\"text-align:right;\"> 47 </td>\n",
       "   <td style=\"text-align:right;\"> 63 </td>\n",
       "   <td style=\"text-align:right;\"> C </td>\n",
       "  </tr>\n",
       "  <tr>\n",
       "   <td style=\"text-align:right;\"> 8 </td>\n",
       "   <td style=\"text-align:right;\"> 81 </td>\n",
       "   <td style=\"text-align:right;\"> 51 </td>\n",
       "   <td style=\"text-align:right;\"> 89 </td>\n",
       "   <td style=\"text-align:right;\"> D </td>\n",
       "  </tr>\n",
       "  <tr>\n",
       "   <td style=\"text-align:right;\"> 7 </td>\n",
       "   <td style=\"text-align:right;\"> 79 </td>\n",
       "   <td style=\"text-align:right;\"> 65 </td>\n",
       "   <td style=\"text-align:right;\"> NA </td>\n",
       "   <td style=\"text-align:right;\"> B </td>\n",
       "  </tr>\n",
       "  <tr>\n",
       "   <td style=\"text-align:right;\"> 9 </td>\n",
       "   <td style=\"text-align:right;\"> 95 </td>\n",
       "   <td style=\"text-align:right;\"> 42 </td>\n",
       "   <td style=\"text-align:right;\"> 93 </td>\n",
       "   <td style=\"text-align:right;\"> E </td>\n",
       "  </tr>\n",
       "  <tr>\n",
       "   <td style=\"text-align:right;\"> 9 </td>\n",
       "   <td style=\"text-align:right;\"> 93 </td>\n",
       "   <td style=\"text-align:right;\"> 25 </td>\n",
       "   <td style=\"text-align:right;\"> 97 </td>\n",
       "   <td style=\"text-align:right;\"> D </td>\n",
       "  </tr>\n",
       "</tbody>\n",
       "</table>"
      ]
     },
     "metadata": {},
     "output_type": "display_data"
    }
   ],
   "source": [
    "data = data.frame(x1=c(3,4,5,4,5,5,8,7,9,9),\n",
    "                  x2=c(25,42,53,47,51,65,81,79,95,93),\n",
    "                  x3=c(95,93,81,79,53,47,51,65,42,25),\n",
    "                  x4=c(22,41,NA,NA,51,63,89,NA,93,97),\n",
    "                  x5=c(\"A\",\"B\",\"C\",\"B\",\"B\",\"C\",\"D\",\"B\",\"E\",\"D\"))\n",
    "fmt(data)"
   ]
  },
  {
   "cell_type": "markdown",
   "metadata": {},
   "source": [
    "## Descriptive Statistics about One Variable"
   ]
  },
  {
   "cell_type": "markdown",
   "metadata": {},
   "source": [
    "Variable type:"
   ]
  },
  {
   "cell_type": "code",
   "execution_count": 3,
   "metadata": {},
   "outputs": [
    {
     "data": {
      "text/html": [
       "'numeric'"
      ],
      "text/latex": [
       "'numeric'"
      ],
      "text/markdown": [
       "'numeric'"
      ],
      "text/plain": [
       "[1] \"numeric\""
      ]
     },
     "metadata": {},
     "output_type": "display_data"
    },
    {
     "data": {
      "text/html": [
       "'numeric'"
      ],
      "text/latex": [
       "'numeric'"
      ],
      "text/markdown": [
       "'numeric'"
      ],
      "text/plain": [
       "[1] \"numeric\""
      ]
     },
     "metadata": {},
     "output_type": "display_data"
    },
    {
     "data": {
      "text/html": [
       "'numeric'"
      ],
      "text/latex": [
       "'numeric'"
      ],
      "text/markdown": [
       "'numeric'"
      ],
      "text/plain": [
       "[1] \"numeric\""
      ]
     },
     "metadata": {},
     "output_type": "display_data"
    },
    {
     "data": {
      "text/html": [
       "'numeric'"
      ],
      "text/latex": [
       "'numeric'"
      ],
      "text/markdown": [
       "'numeric'"
      ],
      "text/plain": [
       "[1] \"numeric\""
      ]
     },
     "metadata": {},
     "output_type": "display_data"
    },
    {
     "data": {
      "text/html": [
       "'factor'"
      ],
      "text/latex": [
       "'factor'"
      ],
      "text/markdown": [
       "'factor'"
      ],
      "text/plain": [
       "[1] \"factor\""
      ]
     },
     "metadata": {},
     "output_type": "display_data"
    }
   ],
   "source": [
    "class(data$x1)\n",
    "class(data$x2)\n",
    "class(data$x3)\n",
    "class(data$x4)\n",
    "class(data$x5)"
   ]
  },
  {
   "cell_type": "markdown",
   "metadata": {},
   "source": [
    "Count:"
   ]
  },
  {
   "cell_type": "code",
   "execution_count": 4,
   "metadata": {},
   "outputs": [
    {
     "data": {
      "text/html": [
       "10"
      ],
      "text/latex": [
       "10"
      ],
      "text/markdown": [
       "10"
      ],
      "text/plain": [
       "[1] 10"
      ]
     },
     "metadata": {},
     "output_type": "display_data"
    }
   ],
   "source": [
    "length(data$x1) # count"
   ]
  },
  {
   "cell_type": "markdown",
   "metadata": {},
   "source": [
    "Mean:"
   ]
  },
  {
   "cell_type": "code",
   "execution_count": 5,
   "metadata": {},
   "outputs": [
    {
     "data": {
      "text/html": [
       "5.9"
      ],
      "text/latex": [
       "5.9"
      ],
      "text/markdown": [
       "5.9"
      ],
      "text/plain": [
       "[1] 5.9"
      ]
     },
     "metadata": {},
     "output_type": "display_data"
    }
   ],
   "source": [
    "mean(data$x1)"
   ]
  },
  {
   "cell_type": "markdown",
   "metadata": {},
   "source": [
    "Median:"
   ]
  },
  {
   "cell_type": "code",
   "execution_count": 6,
   "metadata": {},
   "outputs": [
    {
     "data": {
      "text/html": [
       "5"
      ],
      "text/latex": [
       "5"
      ],
      "text/markdown": [
       "5"
      ],
      "text/plain": [
       "[1] 5"
      ]
     },
     "metadata": {},
     "output_type": "display_data"
    }
   ],
   "source": [
    "median(data$x1)"
   ]
  },
  {
   "cell_type": "markdown",
   "metadata": {},
   "source": [
    "Unique values:"
   ]
  },
  {
   "cell_type": "code",
   "execution_count": 7,
   "metadata": {
    "scrolled": true
   },
   "outputs": [
    {
     "data": {
      "text/html": [
       "<ol class=list-inline>\n",
       "\t<li>3</li>\n",
       "\t<li>4</li>\n",
       "\t<li>5</li>\n",
       "\t<li>8</li>\n",
       "\t<li>7</li>\n",
       "\t<li>9</li>\n",
       "</ol>\n"
      ],
      "text/latex": [
       "\\begin{enumerate*}\n",
       "\\item 3\n",
       "\\item 4\n",
       "\\item 5\n",
       "\\item 8\n",
       "\\item 7\n",
       "\\item 9\n",
       "\\end{enumerate*}\n"
      ],
      "text/markdown": [
       "1. 3\n",
       "2. 4\n",
       "3. 5\n",
       "4. 8\n",
       "5. 7\n",
       "6. 9\n",
       "\n",
       "\n"
      ],
      "text/plain": [
       "[1] 3 4 5 8 7 9"
      ]
     },
     "metadata": {},
     "output_type": "display_data"
    },
    {
     "data": {
      "text/html": [
       "<ol class=list-inline>\n",
       "\t<li>A</li>\n",
       "\t<li>B</li>\n",
       "\t<li>C</li>\n",
       "\t<li>D</li>\n",
       "\t<li>E</li>\n",
       "</ol>\n",
       "\n",
       "<details>\n",
       "\t<summary style=display:list-item;cursor:pointer>\n",
       "\t\t<strong>Levels</strong>:\n",
       "\t</summary>\n",
       "\t<ol class=list-inline>\n",
       "\t\t<li>'A'</li>\n",
       "\t\t<li>'B'</li>\n",
       "\t\t<li>'C'</li>\n",
       "\t\t<li>'D'</li>\n",
       "\t\t<li>'E'</li>\n",
       "\t</ol>\n",
       "</details>"
      ],
      "text/latex": [
       "\\begin{enumerate*}\n",
       "\\item A\n",
       "\\item B\n",
       "\\item C\n",
       "\\item D\n",
       "\\item E\n",
       "\\end{enumerate*}\n",
       "\n",
       "\\emph{Levels}: \\begin{enumerate*}\n",
       "\\item 'A'\n",
       "\\item 'B'\n",
       "\\item 'C'\n",
       "\\item 'D'\n",
       "\\item 'E'\n",
       "\\end{enumerate*}\n"
      ],
      "text/markdown": [
       "1. A\n",
       "2. B\n",
       "3. C\n",
       "4. D\n",
       "5. E\n",
       "\n",
       "\n",
       "\n",
       "**Levels**: 1. 'A'\n",
       "2. 'B'\n",
       "3. 'C'\n",
       "4. 'D'\n",
       "5. 'E'\n",
       "\n",
       "\n"
      ],
      "text/plain": [
       "[1] A B C D E\n",
       "Levels: A B C D E"
      ]
     },
     "metadata": {},
     "output_type": "display_data"
    }
   ],
   "source": [
    "unique(data$x1)\n",
    "unique(data$x5)"
   ]
  },
  {
   "cell_type": "markdown",
   "metadata": {},
   "source": [
    "Count of unique values:"
   ]
  },
  {
   "cell_type": "code",
   "execution_count": 8,
   "metadata": {},
   "outputs": [
    {
     "data": {
      "text/html": [
       "6"
      ],
      "text/latex": [
       "6"
      ],
      "text/markdown": [
       "6"
      ],
      "text/plain": [
       "[1] 6"
      ]
     },
     "metadata": {},
     "output_type": "display_data"
    },
    {
     "data": {
      "text/html": [
       "5"
      ],
      "text/latex": [
       "5"
      ],
      "text/markdown": [
       "5"
      ],
      "text/plain": [
       "[1] 5"
      ]
     },
     "metadata": {},
     "output_type": "display_data"
    }
   ],
   "source": [
    "length(unique(data$x1)) # number of unique values\n",
    "length(unique(data$x5)) # number of unique values"
   ]
  },
  {
   "cell_type": "markdown",
   "metadata": {},
   "source": [
    "Frequency table:"
   ]
  },
  {
   "cell_type": "code",
   "execution_count": 9,
   "metadata": {},
   "outputs": [
    {
     "data": {
      "text/plain": [
       "\n",
       "A B C D E \n",
       "1 4 2 2 1 "
      ]
     },
     "metadata": {},
     "output_type": "display_data"
    }
   ],
   "source": [
    "table(data$x5) # frequencies"
   ]
  },
  {
   "cell_type": "markdown",
   "metadata": {},
   "source": [
    "Relative frequency table:"
   ]
  },
  {
   "cell_type": "code",
   "execution_count": 10,
   "metadata": {},
   "outputs": [
    {
     "data": {
      "text/plain": [
       "\n",
       "  A   B   C   D   E \n",
       "0.1 0.4 0.2 0.2 0.1 "
      ]
     },
     "metadata": {},
     "output_type": "display_data"
    }
   ],
   "source": [
    "table(data$x5) / length(data$x5) # relative frequencies"
   ]
  },
  {
   "cell_type": "markdown",
   "metadata": {},
   "source": [
    "Percent relative frequency table:"
   ]
  },
  {
   "cell_type": "code",
   "execution_count": 11,
   "metadata": {},
   "outputs": [
    {
     "data": {
      "text/plain": [
       "\n",
       " A  B  C  D  E \n",
       "10 40 20 20 10 "
      ]
     },
     "metadata": {},
     "output_type": "display_data"
    }
   ],
   "source": [
    "(table(data$x5) / length(data$x5)) * 100 # percent frequencies"
   ]
  },
  {
   "cell_type": "markdown",
   "metadata": {},
   "source": [
    "Frequency of value:"
   ]
  },
  {
   "cell_type": "code",
   "execution_count": 12,
   "metadata": {},
   "outputs": [
    {
     "data": {
      "text/html": [
       "<strong>B:</strong> 4"
      ],
      "text/latex": [
       "\\textbf{B:} 4"
      ],
      "text/markdown": [
       "**B:** 4"
      ],
      "text/plain": [
       "B \n",
       "4 "
      ]
     },
     "metadata": {},
     "output_type": "display_data"
    },
    {
     "data": {
      "text/html": [
       "<strong>B:</strong> 4"
      ],
      "text/latex": [
       "\\textbf{B:} 4"
      ],
      "text/markdown": [
       "**B:** 4"
      ],
      "text/plain": [
       "B \n",
       "4 "
      ]
     },
     "metadata": {},
     "output_type": "display_data"
    }
   ],
   "source": [
    "table(data$x5)[\"B\"] # frequency of B\n",
    "table(data$x5)[2] # frequency of value in position 2"
   ]
  },
  {
   "cell_type": "markdown",
   "metadata": {},
   "source": [
    "Mode:"
   ]
  },
  {
   "cell_type": "code",
   "execution_count": 36,
   "metadata": {},
   "outputs": [
    {
     "data": {
      "text/html": [
       "<ol class=list-inline>\n",
       "\t<li>A</li>\n",
       "\t<li>B</li>\n",
       "\t<li>C</li>\n",
       "\t<li>B</li>\n",
       "\t<li>B</li>\n",
       "\t<li>C</li>\n",
       "\t<li>D</li>\n",
       "\t<li>B</li>\n",
       "\t<li>E</li>\n",
       "\t<li>D</li>\n",
       "</ol>\n",
       "\n",
       "<details>\n",
       "\t<summary style=display:list-item;cursor:pointer>\n",
       "\t\t<strong>Levels</strong>:\n",
       "\t</summary>\n",
       "\t<ol class=list-inline>\n",
       "\t\t<li>'A'</li>\n",
       "\t\t<li>'B'</li>\n",
       "\t\t<li>'C'</li>\n",
       "\t\t<li>'D'</li>\n",
       "\t\t<li>'E'</li>\n",
       "\t</ol>\n",
       "</details>"
      ],
      "text/latex": [
       "\\begin{enumerate*}\n",
       "\\item A\n",
       "\\item B\n",
       "\\item C\n",
       "\\item B\n",
       "\\item B\n",
       "\\item C\n",
       "\\item D\n",
       "\\item B\n",
       "\\item E\n",
       "\\item D\n",
       "\\end{enumerate*}\n",
       "\n",
       "\\emph{Levels}: \\begin{enumerate*}\n",
       "\\item 'A'\n",
       "\\item 'B'\n",
       "\\item 'C'\n",
       "\\item 'D'\n",
       "\\item 'E'\n",
       "\\end{enumerate*}\n"
      ],
      "text/markdown": [
       "1. A\n",
       "2. B\n",
       "3. C\n",
       "4. B\n",
       "5. B\n",
       "6. C\n",
       "7. D\n",
       "8. B\n",
       "9. E\n",
       "10. D\n",
       "\n",
       "\n",
       "\n",
       "**Levels**: 1. 'A'\n",
       "2. 'B'\n",
       "3. 'C'\n",
       "4. 'D'\n",
       "5. 'E'\n",
       "\n",
       "\n"
      ],
      "text/plain": [
       " [1] A B C B B C D B E D\n",
       "Levels: A B C D E"
      ]
     },
     "metadata": {},
     "output_type": "display_data"
    },
    {
     "data": {
      "text/plain": [
       "\n",
       "A B C D E \n",
       "1 4 2 2 1 "
      ]
     },
     "metadata": {},
     "output_type": "display_data"
    },
    {
     "data": {
      "text/html": [
       "4"
      ],
      "text/latex": [
       "4"
      ],
      "text/markdown": [
       "4"
      ],
      "text/plain": [
       "[1] 4"
      ]
     },
     "metadata": {},
     "output_type": "display_data"
    },
    {
     "data": {
      "text/html": [
       "<dl class=dl-horizontal>\n",
       "\t<dt>A</dt>\n",
       "\t\t<dd>FALSE</dd>\n",
       "\t<dt>B</dt>\n",
       "\t\t<dd>TRUE</dd>\n",
       "\t<dt>C</dt>\n",
       "\t\t<dd>FALSE</dd>\n",
       "\t<dt>D</dt>\n",
       "\t\t<dd>FALSE</dd>\n",
       "\t<dt>E</dt>\n",
       "\t\t<dd>FALSE</dd>\n",
       "</dl>\n"
      ],
      "text/latex": [
       "\\begin{description*}\n",
       "\\item[A] FALSE\n",
       "\\item[B] TRUE\n",
       "\\item[C] FALSE\n",
       "\\item[D] FALSE\n",
       "\\item[E] FALSE\n",
       "\\end{description*}\n"
      ],
      "text/markdown": [
       "A\n",
       ":   FALSEB\n",
       ":   TRUEC\n",
       ":   FALSED\n",
       ":   FALSEE\n",
       ":   FALSE\n",
       "\n"
      ],
      "text/plain": [
       "\n",
       "    A     B     C     D     E \n",
       "FALSE  TRUE FALSE FALSE FALSE "
      ]
     },
     "metadata": {},
     "output_type": "display_data"
    },
    {
     "data": {
      "text/html": [
       "<ol class=list-inline>\n",
       "\t<li>'A'</li>\n",
       "\t<li>'B'</li>\n",
       "\t<li>'C'</li>\n",
       "\t<li>'D'</li>\n",
       "\t<li>'E'</li>\n",
       "</ol>\n"
      ],
      "text/latex": [
       "\\begin{enumerate*}\n",
       "\\item 'A'\n",
       "\\item 'B'\n",
       "\\item 'C'\n",
       "\\item 'D'\n",
       "\\item 'E'\n",
       "\\end{enumerate*}\n"
      ],
      "text/markdown": [
       "1. 'A'\n",
       "2. 'B'\n",
       "3. 'C'\n",
       "4. 'D'\n",
       "5. 'E'\n",
       "\n",
       "\n"
      ],
      "text/plain": [
       "[1] \"A\" \"B\" \"C\" \"D\" \"E\""
      ]
     },
     "metadata": {},
     "output_type": "display_data"
    },
    {
     "data": {
      "text/html": [
       "'B'"
      ],
      "text/latex": [
       "'B'"
      ],
      "text/markdown": [
       "'B'"
      ],
      "text/plain": [
       "[1] \"B\""
      ]
     },
     "metadata": {},
     "output_type": "display_data"
    },
    {
     "data": {
      "text/html": [
       "B\n",
       "<details>\n",
       "\t<summary style=display:list-item;cursor:pointer>\n",
       "\t\t<strong>Levels</strong>:\n",
       "\t</summary>\n",
       "\t<ol class=list-inline>\n",
       "\t\t<li>'A'</li>\n",
       "\t\t<li>'B'</li>\n",
       "\t\t<li>'C'</li>\n",
       "\t\t<li>'D'</li>\n",
       "\t\t<li>'E'</li>\n",
       "\t</ol>\n",
       "</details>"
      ],
      "text/latex": [
       "B\n",
       "\\emph{Levels}: \\begin{enumerate*}\n",
       "\\item 'A'\n",
       "\\item 'B'\n",
       "\\item 'C'\n",
       "\\item 'D'\n",
       "\\item 'E'\n",
       "\\end{enumerate*}\n"
      ],
      "text/markdown": [
       "B\n",
       "**Levels**: 1. 'A'\n",
       "2. 'B'\n",
       "3. 'C'\n",
       "4. 'D'\n",
       "5. 'E'\n",
       "\n",
       "\n"
      ],
      "text/plain": [
       "[1] B\n",
       "Levels: A B C D E"
      ]
     },
     "metadata": {},
     "output_type": "display_data"
    }
   ],
   "source": [
    "data$x5\n",
    "table(data$x5)\n",
    "max(table(data$x5))\n",
    "table(data$x5) == max(table(data$x5))\n",
    "names(table(data$x5))\n",
    "names(table(data$x5))[table(data$x5) == max(table(data$x5))]\n",
    "\n",
    "factor(names(table(data$x5))[table(data$x5) == max(table(data$x5))], levels=unique(data$x5)) # mode"
   ]
  },
  {
   "cell_type": "code",
   "execution_count": 14,
   "metadata": {},
   "outputs": [
    {
     "data": {
      "text/html": [
       "<ol class=list-inline>\n",
       "\t<li>A</li>\n",
       "\t<li>B</li>\n",
       "\t<li>C</li>\n",
       "\t<li>B</li>\n",
       "\t<li>B</li>\n",
       "\t<li>C</li>\n",
       "\t<li>D</li>\n",
       "\t<li>B</li>\n",
       "\t<li>E</li>\n",
       "\t<li>D</li>\n",
       "</ol>\n",
       "\n",
       "<details>\n",
       "\t<summary style=display:list-item;cursor:pointer>\n",
       "\t\t<strong>Levels</strong>:\n",
       "\t</summary>\n",
       "\t<ol class=list-inline>\n",
       "\t\t<li>'A'</li>\n",
       "\t\t<li>'B'</li>\n",
       "\t\t<li>'C'</li>\n",
       "\t\t<li>'D'</li>\n",
       "\t\t<li>'E'</li>\n",
       "\t</ol>\n",
       "</details>"
      ],
      "text/latex": [
       "\\begin{enumerate*}\n",
       "\\item A\n",
       "\\item B\n",
       "\\item C\n",
       "\\item B\n",
       "\\item B\n",
       "\\item C\n",
       "\\item D\n",
       "\\item B\n",
       "\\item E\n",
       "\\item D\n",
       "\\end{enumerate*}\n",
       "\n",
       "\\emph{Levels}: \\begin{enumerate*}\n",
       "\\item 'A'\n",
       "\\item 'B'\n",
       "\\item 'C'\n",
       "\\item 'D'\n",
       "\\item 'E'\n",
       "\\end{enumerate*}\n"
      ],
      "text/markdown": [
       "1. A\n",
       "2. B\n",
       "3. C\n",
       "4. B\n",
       "5. B\n",
       "6. C\n",
       "7. D\n",
       "8. B\n",
       "9. E\n",
       "10. D\n",
       "\n",
       "\n",
       "\n",
       "**Levels**: 1. 'A'\n",
       "2. 'B'\n",
       "3. 'C'\n",
       "4. 'D'\n",
       "5. 'E'\n",
       "\n",
       "\n"
      ],
      "text/plain": [
       " [1] A B C B B C D B E D\n",
       "Levels: A B C D E"
      ]
     },
     "metadata": {},
     "output_type": "display_data"
    },
    {
     "data": {
      "text/plain": [
       "\n",
       "A B C D E \n",
       "1 4 2 2 1 "
      ]
     },
     "metadata": {},
     "output_type": "display_data"
    },
    {
     "data": {
      "text/html": [
       "<table>\n",
       "<thead><tr><th scope=col>Var1</th><th scope=col>Freq</th></tr></thead>\n",
       "<tbody>\n",
       "\t<tr><td>A</td><td>1</td></tr>\n",
       "\t<tr><td>B</td><td>4</td></tr>\n",
       "\t<tr><td>C</td><td>2</td></tr>\n",
       "\t<tr><td>D</td><td>2</td></tr>\n",
       "\t<tr><td>E</td><td>1</td></tr>\n",
       "</tbody>\n",
       "</table>\n"
      ],
      "text/latex": [
       "\\begin{tabular}{r|ll}\n",
       " Var1 & Freq\\\\\n",
       "\\hline\n",
       "\t A & 1\\\\\n",
       "\t B & 4\\\\\n",
       "\t C & 2\\\\\n",
       "\t D & 2\\\\\n",
       "\t E & 1\\\\\n",
       "\\end{tabular}\n"
      ],
      "text/markdown": [
       "\n",
       "| Var1 | Freq |\n",
       "|---|---|\n",
       "| A | 1 |\n",
       "| B | 4 |\n",
       "| C | 2 |\n",
       "| D | 2 |\n",
       "| E | 1 |\n",
       "\n"
      ],
      "text/plain": [
       "  Var1 Freq\n",
       "1 A    1   \n",
       "2 B    4   \n",
       "3 C    2   \n",
       "4 D    2   \n",
       "5 E    1   "
      ]
     },
     "metadata": {},
     "output_type": "display_data"
    },
    {
     "data": {
      "text/html": [
       "2"
      ],
      "text/latex": [
       "2"
      ],
      "text/markdown": [
       "2"
      ],
      "text/plain": [
       "[1] 2"
      ]
     },
     "metadata": {},
     "output_type": "display_data"
    },
    {
     "data": {
      "text/html": [
       "B\n",
       "<details>\n",
       "\t<summary style=display:list-item;cursor:pointer>\n",
       "\t\t<strong>Levels</strong>:\n",
       "\t</summary>\n",
       "\t<ol class=list-inline>\n",
       "\t\t<li>'A'</li>\n",
       "\t\t<li>'B'</li>\n",
       "\t\t<li>'C'</li>\n",
       "\t\t<li>'D'</li>\n",
       "\t\t<li>'E'</li>\n",
       "\t</ol>\n",
       "</details>"
      ],
      "text/latex": [
       "B\n",
       "\\emph{Levels}: \\begin{enumerate*}\n",
       "\\item 'A'\n",
       "\\item 'B'\n",
       "\\item 'C'\n",
       "\\item 'D'\n",
       "\\item 'E'\n",
       "\\end{enumerate*}\n"
      ],
      "text/markdown": [
       "B\n",
       "**Levels**: 1. 'A'\n",
       "2. 'B'\n",
       "3. 'C'\n",
       "4. 'D'\n",
       "5. 'E'\n",
       "\n",
       "\n"
      ],
      "text/plain": [
       "[1] B\n",
       "Levels: A B C D E"
      ]
     },
     "metadata": {},
     "output_type": "display_data"
    }
   ],
   "source": [
    "data$x5\n",
    "table(data$x5)\n",
    "as.data.frame(table(data$x5))\n",
    "which.max(as.data.frame(table(data$x5))$Freq)\n",
    "data$x5[which.max(as.data.frame(table(data$x5))$Freq)]"
   ]
  },
  {
   "cell_type": "markdown",
   "metadata": {},
   "source": [
    "Minimum, maximum:"
   ]
  },
  {
   "cell_type": "code",
   "execution_count": 15,
   "metadata": {},
   "outputs": [
    {
     "data": {
      "text/html": [
       "3"
      ],
      "text/latex": [
       "3"
      ],
      "text/markdown": [
       "3"
      ],
      "text/plain": [
       "[1] 3"
      ]
     },
     "metadata": {},
     "output_type": "display_data"
    },
    {
     "data": {
      "text/html": [
       "9"
      ],
      "text/latex": [
       "9"
      ],
      "text/markdown": [
       "9"
      ],
      "text/plain": [
       "[1] 9"
      ]
     },
     "metadata": {},
     "output_type": "display_data"
    },
    {
     "data": {
      "text/html": [
       "<ol class=list-inline>\n",
       "\t<li>3</li>\n",
       "\t<li>9</li>\n",
       "</ol>\n"
      ],
      "text/latex": [
       "\\begin{enumerate*}\n",
       "\\item 3\n",
       "\\item 9\n",
       "\\end{enumerate*}\n"
      ],
      "text/markdown": [
       "1. 3\n",
       "2. 9\n",
       "\n",
       "\n"
      ],
      "text/plain": [
       "[1] 3 9"
      ]
     },
     "metadata": {},
     "output_type": "display_data"
    }
   ],
   "source": [
    "min(data$x1) # minimum\n",
    "max(data$x1) # maximum\n",
    "range(data$x1) # minimum and maximum"
   ]
  },
  {
   "cell_type": "markdown",
   "metadata": {},
   "source": [
    "Range:"
   ]
  },
  {
   "cell_type": "code",
   "execution_count": 16,
   "metadata": {},
   "outputs": [
    {
     "data": {
      "text/html": [
       "6"
      ],
      "text/latex": [
       "6"
      ],
      "text/markdown": [
       "6"
      ],
      "text/plain": [
       "[1] 6"
      ]
     },
     "metadata": {},
     "output_type": "display_data"
    }
   ],
   "source": [
    "range(data$x1)[2] - range(data$x1)[1] # range"
   ]
  },
  {
   "cell_type": "markdown",
   "metadata": {},
   "source": [
    "Variance:"
   ]
  },
  {
   "cell_type": "code",
   "execution_count": 17,
   "metadata": {},
   "outputs": [
    {
     "data": {
      "text/html": [
       "4.76666666666667"
      ],
      "text/latex": [
       "4.76666666666667"
      ],
      "text/markdown": [
       "4.76666666666667"
      ],
      "text/plain": [
       "[1] 4.766667"
      ]
     },
     "metadata": {},
     "output_type": "display_data"
    }
   ],
   "source": [
    "var(data$x1) # variance"
   ]
  },
  {
   "cell_type": "markdown",
   "metadata": {},
   "source": [
    "Standard deviation:"
   ]
  },
  {
   "cell_type": "code",
   "execution_count": 18,
   "metadata": {},
   "outputs": [
    {
     "data": {
      "text/html": [
       "2.18326971917504"
      ],
      "text/latex": [
       "2.18326971917504"
      ],
      "text/markdown": [
       "2.18326971917504"
      ],
      "text/plain": [
       "[1] 2.18327"
      ]
     },
     "metadata": {},
     "output_type": "display_data"
    }
   ],
   "source": [
    "sd(data$x1) # standard deviation"
   ]
  },
  {
   "cell_type": "markdown",
   "metadata": {},
   "source": [
    "Quartiles:"
   ]
  },
  {
   "cell_type": "code",
   "execution_count": 19,
   "metadata": {},
   "outputs": [
    {
     "data": {
      "text/html": [
       "<dl class=dl-horizontal>\n",
       "\t<dt>0%</dt>\n",
       "\t\t<dd>3</dd>\n",
       "\t<dt>25%</dt>\n",
       "\t\t<dd>4.25</dd>\n",
       "\t<dt>50%</dt>\n",
       "\t\t<dd>5</dd>\n",
       "\t<dt>75%</dt>\n",
       "\t\t<dd>7.75</dd>\n",
       "\t<dt>100%</dt>\n",
       "\t\t<dd>9</dd>\n",
       "</dl>\n"
      ],
      "text/latex": [
       "\\begin{description*}\n",
       "\\item[0\\textbackslash{}\\%] 3\n",
       "\\item[25\\textbackslash{}\\%] 4.25\n",
       "\\item[50\\textbackslash{}\\%] 5\n",
       "\\item[75\\textbackslash{}\\%] 7.75\n",
       "\\item[100\\textbackslash{}\\%] 9\n",
       "\\end{description*}\n"
      ],
      "text/markdown": [
       "0%\n",
       ":   325%\n",
       ":   4.2550%\n",
       ":   575%\n",
       ":   7.75100%\n",
       ":   9\n",
       "\n"
      ],
      "text/plain": [
       "  0%  25%  50%  75% 100% \n",
       "3.00 4.25 5.00 7.75 9.00 "
      ]
     },
     "metadata": {},
     "output_type": "display_data"
    }
   ],
   "source": [
    "quantile(data$x1) # quartiles"
   ]
  },
  {
   "cell_type": "markdown",
   "metadata": {},
   "source": [
    "Percentiles:"
   ]
  },
  {
   "cell_type": "code",
   "execution_count": 20,
   "metadata": {},
   "outputs": [
    {
     "data": {
      "text/html": [
       "<dl class=dl-horizontal>\n",
       "\t<dt>10%</dt>\n",
       "\t\t<dd>3.9</dd>\n",
       "\t<dt>20%</dt>\n",
       "\t\t<dd>4</dd>\n",
       "\t<dt>30%</dt>\n",
       "\t\t<dd>4.7</dd>\n",
       "\t<dt>40%</dt>\n",
       "\t\t<dd>5</dd>\n",
       "\t<dt>50%</dt>\n",
       "\t\t<dd>5</dd>\n",
       "\t<dt>60%</dt>\n",
       "\t\t<dd>5.8</dd>\n",
       "\t<dt>70%</dt>\n",
       "\t\t<dd>7.3</dd>\n",
       "\t<dt>80%</dt>\n",
       "\t\t<dd>8.2</dd>\n",
       "\t<dt>90%</dt>\n",
       "\t\t<dd>9</dd>\n",
       "\t<dt>100%</dt>\n",
       "\t\t<dd>9</dd>\n",
       "</dl>\n"
      ],
      "text/latex": [
       "\\begin{description*}\n",
       "\\item[10\\textbackslash{}\\%] 3.9\n",
       "\\item[20\\textbackslash{}\\%] 4\n",
       "\\item[30\\textbackslash{}\\%] 4.7\n",
       "\\item[40\\textbackslash{}\\%] 5\n",
       "\\item[50\\textbackslash{}\\%] 5\n",
       "\\item[60\\textbackslash{}\\%] 5.8\n",
       "\\item[70\\textbackslash{}\\%] 7.3\n",
       "\\item[80\\textbackslash{}\\%] 8.2\n",
       "\\item[90\\textbackslash{}\\%] 9\n",
       "\\item[100\\textbackslash{}\\%] 9\n",
       "\\end{description*}\n"
      ],
      "text/markdown": [
       "10%\n",
       ":   3.920%\n",
       ":   430%\n",
       ":   4.740%\n",
       ":   550%\n",
       ":   560%\n",
       ":   5.870%\n",
       ":   7.380%\n",
       ":   8.290%\n",
       ":   9100%\n",
       ":   9\n",
       "\n"
      ],
      "text/plain": [
       " 10%  20%  30%  40%  50%  60%  70%  80%  90% 100% \n",
       " 3.9  4.0  4.7  5.0  5.0  5.8  7.3  8.2  9.0  9.0 "
      ]
     },
     "metadata": {},
     "output_type": "display_data"
    }
   ],
   "source": [
    "quantile(data$x1, c(0.1, 0.2, 0.3, 0.4, 0.5, 0.6, 0.7, 0.8, 0.9, 1)) # percentiles"
   ]
  },
  {
   "cell_type": "markdown",
   "metadata": {},
   "source": [
    "Inter-quartile range:"
   ]
  },
  {
   "cell_type": "code",
   "execution_count": 21,
   "metadata": {},
   "outputs": [
    {
     "data": {
      "text/html": [
       "3.5"
      ],
      "text/latex": [
       "3.5"
      ],
      "text/markdown": [
       "3.5"
      ],
      "text/plain": [
       "[1] 3.5"
      ]
     },
     "metadata": {},
     "output_type": "display_data"
    }
   ],
   "source": [
    "IQR(data$x1) # inter-quartile range = 75th percentile minus 25th percentile"
   ]
  },
  {
   "cell_type": "markdown",
   "metadata": {},
   "source": [
    "Normalized values:"
   ]
  },
  {
   "cell_type": "code",
   "execution_count": 22,
   "metadata": {},
   "outputs": [
    {
     "data": {
      "text/html": [
       "<table>\n",
       "<tbody>\n",
       "\t<tr><td>-1.3282830</td></tr>\n",
       "\t<tr><td>-0.8702544</td></tr>\n",
       "\t<tr><td>-0.4122258</td></tr>\n",
       "\t<tr><td>-0.8702544</td></tr>\n",
       "\t<tr><td>-0.4122258</td></tr>\n",
       "\t<tr><td>-0.4122258</td></tr>\n",
       "\t<tr><td> 0.9618601</td></tr>\n",
       "\t<tr><td> 0.5038315</td></tr>\n",
       "\t<tr><td> 1.4198887</td></tr>\n",
       "\t<tr><td> 1.4198887</td></tr>\n",
       "</tbody>\n",
       "</table>\n"
      ],
      "text/latex": [
       "\\begin{tabular}{l}\n",
       "\t -1.3282830\\\\\n",
       "\t -0.8702544\\\\\n",
       "\t -0.4122258\\\\\n",
       "\t -0.8702544\\\\\n",
       "\t -0.4122258\\\\\n",
       "\t -0.4122258\\\\\n",
       "\t  0.9618601\\\\\n",
       "\t  0.5038315\\\\\n",
       "\t  1.4198887\\\\\n",
       "\t  1.4198887\\\\\n",
       "\\end{tabular}\n"
      ],
      "text/markdown": [
       "\n",
       "| -1.3282830 |\n",
       "| -0.8702544 |\n",
       "| -0.4122258 |\n",
       "| -0.8702544 |\n",
       "| -0.4122258 |\n",
       "| -0.4122258 |\n",
       "|  0.9618601 |\n",
       "|  0.5038315 |\n",
       "|  1.4198887 |\n",
       "|  1.4198887 |\n",
       "\n"
      ],
      "text/plain": [
       "      [,1]      \n",
       " [1,] -1.3282830\n",
       " [2,] -0.8702544\n",
       " [3,] -0.4122258\n",
       " [4,] -0.8702544\n",
       " [5,] -0.4122258\n",
       " [6,] -0.4122258\n",
       " [7,]  0.9618601\n",
       " [8,]  0.5038315\n",
       " [9,]  1.4198887\n",
       "[10,]  1.4198887"
      ]
     },
     "metadata": {},
     "output_type": "display_data"
    }
   ],
   "source": [
    "scale(data$x1) # z-scores, also known as normalized data"
   ]
  },
  {
   "cell_type": "markdown",
   "metadata": {},
   "source": [
    "## Descriptive Statistics about Two Variables"
   ]
  },
  {
   "cell_type": "markdown",
   "metadata": {},
   "source": [
    "Covariance:"
   ]
  },
  {
   "cell_type": "code",
   "execution_count": 23,
   "metadata": {},
   "outputs": [
    {
     "data": {
      "text/html": [
       "49.5666666666667"
      ],
      "text/latex": [
       "49.5666666666667"
      ],
      "text/markdown": [
       "49.5666666666667"
      ],
      "text/plain": [
       "[1] 49.56667"
      ]
     },
     "metadata": {},
     "output_type": "display_data"
    }
   ],
   "source": [
    "cov(data$x1, data$x2) # covariance"
   ]
  },
  {
   "cell_type": "markdown",
   "metadata": {},
   "source": [
    "Correlation:"
   ]
  },
  {
   "cell_type": "code",
   "execution_count": 24,
   "metadata": {
    "hideCode": false,
    "hidePrompt": false,
    "run_control": {
     "marked": false
    }
   },
   "outputs": [
    {
     "data": {
      "text/html": [
       "0.973689321786918"
      ],
      "text/latex": [
       "0.973689321786918"
      ],
      "text/markdown": [
       "0.973689321786918"
      ],
      "text/plain": [
       "[1] 0.9736893"
      ]
     },
     "metadata": {},
     "output_type": "display_data"
    }
   ],
   "source": [
    "cor(data$x1, data$x2) # correlation"
   ]
  },
  {
   "cell_type": "markdown",
   "metadata": {},
   "source": [
    "## Descriptive Statistics about Three Variables"
   ]
  },
  {
   "cell_type": "markdown",
   "metadata": {},
   "source": [
    "Correlation table:"
   ]
  },
  {
   "cell_type": "code",
   "execution_count": 25,
   "metadata": {},
   "outputs": [
    {
     "data": {
      "text/html": [
       "<table>\n",
       "<thead><tr><th></th><th scope=col>x1</th><th scope=col>x2</th><th scope=col>x3</th></tr></thead>\n",
       "<tbody>\n",
       "\t<tr><th scope=row>x1</th><td> 1.0000000</td><td> 0.9736893</td><td>-0.8270139</td></tr>\n",
       "\t<tr><th scope=row>x2</th><td> 0.9736893</td><td> 1.0000000</td><td>-0.8563633</td></tr>\n",
       "\t<tr><th scope=row>x3</th><td>-0.8270139</td><td>-0.8563633</td><td> 1.0000000</td></tr>\n",
       "</tbody>\n",
       "</table>\n"
      ],
      "text/latex": [
       "\\begin{tabular}{r|lll}\n",
       "  & x1 & x2 & x3\\\\\n",
       "\\hline\n",
       "\tx1 &  1.0000000 &  0.9736893 & -0.8270139\\\\\n",
       "\tx2 &  0.9736893 &  1.0000000 & -0.8563633\\\\\n",
       "\tx3 & -0.8270139 & -0.8563633 &  1.0000000\\\\\n",
       "\\end{tabular}\n"
      ],
      "text/markdown": [
       "\n",
       "| <!--/--> | x1 | x2 | x3 |\n",
       "|---|---|---|---|\n",
       "| x1 |  1.0000000 |  0.9736893 | -0.8270139 |\n",
       "| x2 |  0.9736893 |  1.0000000 | -0.8563633 |\n",
       "| x3 | -0.8270139 | -0.8563633 |  1.0000000 |\n",
       "\n"
      ],
      "text/plain": [
       "   x1         x2         x3        \n",
       "x1  1.0000000  0.9736893 -0.8270139\n",
       "x2  0.9736893  1.0000000 -0.8563633\n",
       "x3 -0.8270139 -0.8563633  1.0000000"
      ]
     },
     "metadata": {},
     "output_type": "display_data"
    }
   ],
   "source": [
    "cor(data[,c(\"x1\",\"x2\",\"x3\")]) # correlations"
   ]
  },
  {
   "cell_type": "markdown",
   "metadata": {},
   "source": [
    "## Handling Missing Values"
   ]
  },
  {
   "cell_type": "code",
   "execution_count": 26,
   "metadata": {},
   "outputs": [
    {
     "data": {
      "text/html": [
       "&lt;NA&gt;"
      ],
      "text/latex": [
       "<NA>"
      ],
      "text/markdown": [
       "&lt;NA&gt;"
      ],
      "text/plain": [
       "[1] NA"
      ]
     },
     "metadata": {},
     "output_type": "display_data"
    },
    {
     "data": {
      "text/html": [
       "65.1428571428571"
      ],
      "text/latex": [
       "65.1428571428571"
      ],
      "text/markdown": [
       "65.1428571428571"
      ],
      "text/plain": [
       "[1] 65.14286"
      ]
     },
     "metadata": {},
     "output_type": "display_data"
    }
   ],
   "source": [
    "mean(data$x4)\n",
    "mean(data$x4, na.rm=TRUE)"
   ]
  },
  {
   "cell_type": "code",
   "execution_count": 27,
   "metadata": {},
   "outputs": [
    {
     "data": {
      "text/html": [
       "&lt;NA&gt;"
      ],
      "text/latex": [
       "<NA>"
      ],
      "text/markdown": [
       "&lt;NA&gt;"
      ],
      "text/plain": [
       "[1] NA"
      ]
     },
     "metadata": {},
     "output_type": "display_data"
    },
    {
     "data": {
      "text/html": [
       "0.979500240175779"
      ],
      "text/latex": [
       "0.979500240175779"
      ],
      "text/markdown": [
       "0.979500240175779"
      ],
      "text/plain": [
       "[1] 0.9795002"
      ]
     },
     "metadata": {},
     "output_type": "display_data"
    }
   ],
   "source": [
    "cor(data$x1, data$x4)\n",
    "cor(data$x1[!is.na(data$x4)], data$x4[!is.na(data$x4)]) # ignore position of missing x4 value in BOTH vectors "
   ]
  },
  {
   "cell_type": "code",
   "execution_count": 28,
   "metadata": {},
   "outputs": [
    {
     "data": {
      "text/html": [
       "<table>\n",
       "<thead><tr><th></th><th scope=col>x1</th><th scope=col>x2</th><th scope=col>x3</th><th scope=col>x4</th></tr></thead>\n",
       "<tbody>\n",
       "\t<tr><th scope=row>x1</th><td> 1.0000000</td><td> 0.9736893</td><td>-0.8270139</td><td>NA        </td></tr>\n",
       "\t<tr><th scope=row>x2</th><td> 0.9736893</td><td> 1.0000000</td><td>-0.8563633</td><td>NA        </td></tr>\n",
       "\t<tr><th scope=row>x3</th><td>-0.8270139</td><td>-0.8563633</td><td> 1.0000000</td><td>NA        </td></tr>\n",
       "\t<tr><th scope=row>x4</th><td>        NA</td><td>        NA</td><td>        NA</td><td> 1        </td></tr>\n",
       "</tbody>\n",
       "</table>\n"
      ],
      "text/latex": [
       "\\begin{tabular}{r|llll}\n",
       "  & x1 & x2 & x3 & x4\\\\\n",
       "\\hline\n",
       "\tx1 &  1.0000000 &  0.9736893 & -0.8270139 & NA        \\\\\n",
       "\tx2 &  0.9736893 &  1.0000000 & -0.8563633 & NA        \\\\\n",
       "\tx3 & -0.8270139 & -0.8563633 &  1.0000000 & NA        \\\\\n",
       "\tx4 &         NA &         NA &         NA &  1        \\\\\n",
       "\\end{tabular}\n"
      ],
      "text/markdown": [
       "\n",
       "| <!--/--> | x1 | x2 | x3 | x4 |\n",
       "|---|---|---|---|---|\n",
       "| x1 |  1.0000000 |  0.9736893 | -0.8270139 | NA         |\n",
       "| x2 |  0.9736893 |  1.0000000 | -0.8563633 | NA         |\n",
       "| x3 | -0.8270139 | -0.8563633 |  1.0000000 | NA         |\n",
       "| x4 |         NA |         NA |         NA |  1         |\n",
       "\n"
      ],
      "text/plain": [
       "   x1         x2         x3         x4\n",
       "x1  1.0000000  0.9736893 -0.8270139 NA\n",
       "x2  0.9736893  1.0000000 -0.8563633 NA\n",
       "x3 -0.8270139 -0.8563633  1.0000000 NA\n",
       "x4         NA         NA         NA  1"
      ]
     },
     "metadata": {},
     "output_type": "display_data"
    }
   ],
   "source": [
    "cor(data[,c(\"x1\",\"x2\",\"x3\",\"x4\")])"
   ]
  },
  {
   "cell_type": "markdown",
   "metadata": {},
   "source": [
    "## Code"
   ]
  },
  {
   "cell_type": "markdown",
   "metadata": {},
   "source": [
    "### Useful Functions"
   ]
  },
  {
   "cell_type": "code",
   "execution_count": 29,
   "metadata": {},
   "outputs": [],
   "source": [
    "# help(as.numeric) # from base library\n",
    "# help(class)      # from base library\n",
    "# help(cor)        # from stats library\n",
    "# help(cov)        # from stats library\n",
    "# help(factor)     # from base library\n",
    "# help(IQR)        # from stats library\n",
    "# help(length)     # from base library\n",
    "# help(max)        # from base library\n",
    "# help(mean)       # from base library\n",
    "# help(median)     # from stats library\n",
    "# help(min)        # from base library\n",
    "# help(names)      # from base library\n",
    "# help(quantile)   # from stats library\n",
    "# help(range)      # from base library\n",
    "# help(scale)      # from base library\n",
    "# help(sd)         # from stats library\n",
    "# help(table)      # from base library\n",
    "# help(unique)     # from base library\n",
    "# help(var)        # from stats library"
   ]
  },
  {
   "cell_type": "markdown",
   "metadata": {},
   "source": [
    "## Further Reading\n",
    "* https://www.nasa.gov/sites/default/files/thumbnails/image/mollweide_cycle.gif\n"
   ]
  },
  {
   "cell_type": "markdown",
   "metadata": {},
   "source": [
    "<p style=\"text-align:left; font-size:10px;\">\n",
    "Copyright (c) Berkeley Data Analytics Group, LLC\n",
    "<span style=\"float:right;\">\n",
    "Document revised January 25, 2021\n",
    "</span>\n",
    "</p>"
   ]
  }
 ],
 "metadata": {
  "hide_code_all_hidden": false,
  "hide_input": false,
  "kernelspec": {
   "display_name": "R",
   "language": "R",
   "name": "ir"
  },
  "language_info": {
   "codemirror_mode": "r",
   "file_extension": ".r",
   "mimetype": "text/x-r-source",
   "name": "R",
   "pygments_lexer": "r",
   "version": "3.6.1"
  },
  "toc": {
   "base_numbering": "1",
   "nav_menu": {},
   "number_sections": true,
   "sideBar": true,
   "skip_h1_title": true,
   "title_cell": "Table of Contents",
   "title_sidebar": "Contents",
   "toc_cell": false,
   "toc_position": {},
   "toc_section_display": true,
   "toc_window_display": false
  }
 },
 "nbformat": 4,
 "nbformat_minor": 2
}
