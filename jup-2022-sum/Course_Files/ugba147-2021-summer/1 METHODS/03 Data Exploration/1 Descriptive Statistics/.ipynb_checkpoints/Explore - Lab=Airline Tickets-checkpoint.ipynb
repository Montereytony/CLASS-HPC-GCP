{
 "cells": [
  {
   "cell_type": "markdown",
   "metadata": {
    "hideCode": false,
    "hidePrompt": false
   },
   "source": [
    "# Data Exploration $\\,\\, \\tiny\\text{Analysis Lab | American Airlines & United Airlines}$\n",
    "<img src=\"banner lab 2.jpg\" align=left>"
   ]
  },
  {
   "cell_type": "markdown",
   "metadata": {},
   "source": [
    "<br>\n",
    "### About the Business Situation & Data\n",
    "___\n",
    "\n",
    "The dataset that you will use for this assignment is called **`dataset airline ticket prices.xlsx`**. These data are a random sample of all recent roundtrip airline tickets purchased for travel between New York’s John F. Kennedy Airport (JFK) and Los Angeles (LAX). First-class fares have been excluded. For each ticket, the data includes the carrier (i.e. the airline), the roundtrip fare, and several other variables. "
   ]
  },
  {
   "cell_type": "markdown",
   "metadata": {},
   "source": [
    "<br>\n",
    "### Apparatus\n",
    "___"
   ]
  },
  {
   "cell_type": "code",
   "execution_count": 15,
   "metadata": {},
   "outputs": [],
   "source": [
    "# Load some required functions\n",
    "library(rJava,    verbose=FALSE, warn.conflicts=FALSE, quietly=TRUE)\n",
    "library(xlsxjars, verbose=FALSE, warn.conflicts=FALSE, quietly=TRUE)\n",
    "library(xlsx,     verbose=FALSE, warn.conflicts=FALSE, quietly=TRUE) # Also, ensure Java version (32-bit or 64-bit) matches R kernel\n",
    "library(psych,    verbose=FALSE, warn.conflicts=FALSE, quietly=TRUE)\n",
    "library(ggplot2,  verbose=FALSE, warn.conflicts=FALSE, quietly=TRUE)\n",
    "\n",
    "# Set some visualization constants\n",
    "PALETTE = c(\"dodgerblue2\", \"brown3\", \"chartreuse4\", \"darkgoldenrod\", \"mediumorchid3\")\n",
    "\n",
    "# Set some visualization formatting defaults\n",
    "options(repr.plot.width=6, repr.plot.height=3)\n",
    "update_geom_defaults(\"bar\", list(colour=PALETTE[1], fill=PALETTE[1]))\n",
    "theme_update(plot.title=element_text(size=10, hjust=0.5), plot.subtitle=element_text(size=8, face=\"italic\", hjust=0.5), axis.title=element_text(size=7), axis.text=element_text(size=7), strip.text=element_text(size=7), strip.text.y=element_text(angle=90), legend.title=element_blank(), legend.text=element_text(size=7))"
   ]
  },
  {
   "cell_type": "markdown",
   "metadata": {},
   "source": [
    "<br>\n",
    "### Data Retrieval\n",
    "___"
   ]
  },
  {
   "cell_type": "code",
   "execution_count": 16,
   "metadata": {
    "hideCode": false,
    "hidePrompt": false,
    "run_control": {
     "marked": false
    },
    "scrolled": true
   },
   "outputs": [
    {
     "data": {
      "text/html": [
       "<ol class=list-inline>\n",
       "\t<li>10266</li>\n",
       "\t<li>6</li>\n",
       "</ol>\n"
      ],
      "text/latex": [
       "\\begin{enumerate*}\n",
       "\\item 10266\n",
       "\\item 6\n",
       "\\end{enumerate*}\n"
      ],
      "text/markdown": [
       "1. 10266\n",
       "2. 6\n",
       "\n",
       "\n"
      ],
      "text/plain": [
       "[1] 10266     6"
      ]
     },
     "metadata": {},
     "output_type": "display_data"
    },
    {
     "data": {
      "text/html": [
       "<table>\n",
       "<thead><tr><th scope=col>carrier</th><th scope=col>rtrip_fare</th><th scope=col>advance</th><th scope=col>busclass</th><th scope=col>nonrefundable</th><th scope=col>satstayover</th></tr></thead>\n",
       "<tbody>\n",
       "\t<tr><td>AA </td><td>158</td><td>14 </td><td>0  </td><td>1  </td><td>0  </td></tr>\n",
       "\t<tr><td>AA </td><td>159</td><td>52 </td><td>0  </td><td>1  </td><td>1  </td></tr>\n",
       "\t<tr><td>AA </td><td>159</td><td>15 </td><td>0  </td><td>1  </td><td>0  </td></tr>\n",
       "\t<tr><td>AA </td><td>160</td><td>28 </td><td>0  </td><td>1  </td><td>1  </td></tr>\n",
       "\t<tr><td>AA </td><td>160</td><td>24 </td><td>0  </td><td>1  </td><td>1  </td></tr>\n",
       "\t<tr><td>AA </td><td>160</td><td>28 </td><td>0  </td><td>1  </td><td>0  </td></tr>\n",
       "\t<tr><td>AA </td><td>165</td><td>22 </td><td>0  </td><td>1  </td><td>1  </td></tr>\n",
       "\t<tr><td>AA </td><td>165</td><td>15 </td><td>0  </td><td>1  </td><td>0  </td></tr>\n",
       "\t<tr><td>AA </td><td>165</td><td>17 </td><td>0  </td><td>1  </td><td>1  </td></tr>\n",
       "\t<tr><td>AA </td><td>165</td><td>26 </td><td>0  </td><td>1  </td><td>1  </td></tr>\n",
       "\t<tr><td>AA </td><td>165</td><td>22 </td><td>0  </td><td>1  </td><td>1  </td></tr>\n",
       "\t<tr><td>AA </td><td>165</td><td>13 </td><td>0  </td><td>1  </td><td>1  </td></tr>\n",
       "\t<tr><td>AA </td><td>165</td><td>17 </td><td>0  </td><td>1  </td><td>1  </td></tr>\n",
       "\t<tr><td>AA </td><td>165</td><td>44 </td><td>0  </td><td>1  </td><td>1  </td></tr>\n",
       "\t<tr><td>AA </td><td>165</td><td>21 </td><td>0  </td><td>1  </td><td>0  </td></tr>\n",
       "\t<tr><td>AA </td><td>165</td><td>35 </td><td>0  </td><td>1  </td><td>1  </td></tr>\n",
       "\t<tr><td>AA </td><td>165</td><td>37 </td><td>0  </td><td>1  </td><td>1  </td></tr>\n",
       "\t<tr><td>AA </td><td>165</td><td>16 </td><td>0  </td><td>1  </td><td>1  </td></tr>\n",
       "\t<tr><td>AA </td><td>165</td><td>18 </td><td>0  </td><td>1  </td><td>0  </td></tr>\n",
       "\t<tr><td>AA </td><td>168</td><td>23 </td><td>0  </td><td>1  </td><td>0  </td></tr>\n",
       "\t<tr><td>AA </td><td>168</td><td>44 </td><td>0  </td><td>1  </td><td>0  </td></tr>\n",
       "\t<tr><td>UA </td><td>168</td><td>39 </td><td>0  </td><td>1  </td><td>0  </td></tr>\n",
       "\t<tr><td>AA </td><td>168</td><td>41 </td><td>0  </td><td>1  </td><td>0  </td></tr>\n",
       "\t<tr><td>AA </td><td>168</td><td>27 </td><td>0  </td><td>1  </td><td>1  </td></tr>\n",
       "\t<tr><td>AA </td><td>168</td><td>28 </td><td>0  </td><td>1  </td><td>1  </td></tr>\n",
       "\t<tr><td>UA </td><td>168</td><td>27 </td><td>0  </td><td>1  </td><td>0  </td></tr>\n",
       "\t<tr><td>AA </td><td>168</td><td>41 </td><td>0  </td><td>1  </td><td>1  </td></tr>\n",
       "\t<tr><td>AA </td><td>168</td><td>16 </td><td>0  </td><td>1  </td><td>0  </td></tr>\n",
       "\t<tr><td>AA </td><td>168</td><td>28 </td><td>0  </td><td>1  </td><td>0  </td></tr>\n",
       "\t<tr><td>UA </td><td>168</td><td> 7 </td><td>0  </td><td>1  </td><td>1  </td></tr>\n",
       "\t<tr><td>...</td><td>...</td><td>...</td><td>...</td><td>...</td><td>...</td></tr>\n",
       "\t<tr><td>AA  </td><td>1502</td><td>1   </td><td>1   </td><td>0   </td><td>0   </td></tr>\n",
       "\t<tr><td>AA  </td><td>1502</td><td>1   </td><td>1   </td><td>0   </td><td>0   </td></tr>\n",
       "\t<tr><td>AA  </td><td>1502</td><td>1   </td><td>1   </td><td>0   </td><td>0   </td></tr>\n",
       "\t<tr><td>AA  </td><td>1502</td><td>1   </td><td>1   </td><td>0   </td><td>0   </td></tr>\n",
       "\t<tr><td>AA  </td><td>1502</td><td>2   </td><td>1   </td><td>0   </td><td>0   </td></tr>\n",
       "\t<tr><td>AA  </td><td>1502</td><td>1   </td><td>1   </td><td>0   </td><td>0   </td></tr>\n",
       "\t<tr><td>AA  </td><td>1502</td><td>1   </td><td>1   </td><td>0   </td><td>0   </td></tr>\n",
       "\t<tr><td>AA  </td><td>1502</td><td>2   </td><td>1   </td><td>0   </td><td>0   </td></tr>\n",
       "\t<tr><td>AA  </td><td>1502</td><td>0   </td><td>1   </td><td>0   </td><td>0   </td></tr>\n",
       "\t<tr><td>AA  </td><td>1502</td><td>2   </td><td>1   </td><td>0   </td><td>0   </td></tr>\n",
       "\t<tr><td>AA  </td><td>1502</td><td>0   </td><td>1   </td><td>0   </td><td>0   </td></tr>\n",
       "\t<tr><td>AA  </td><td>1502</td><td>0   </td><td>1   </td><td>0   </td><td>0   </td></tr>\n",
       "\t<tr><td>AA  </td><td>1502</td><td>0   </td><td>1   </td><td>0   </td><td>0   </td></tr>\n",
       "\t<tr><td>AA  </td><td>1502</td><td>2   </td><td>1   </td><td>0   </td><td>0   </td></tr>\n",
       "\t<tr><td>AA  </td><td>1502</td><td>2   </td><td>1   </td><td>0   </td><td>0   </td></tr>\n",
       "\t<tr><td>AA  </td><td>1502</td><td>1   </td><td>1   </td><td>0   </td><td>0   </td></tr>\n",
       "\t<tr><td>AA  </td><td>1502</td><td>1   </td><td>1   </td><td>0   </td><td>0   </td></tr>\n",
       "\t<tr><td>AA  </td><td>1502</td><td>0   </td><td>1   </td><td>0   </td><td>0   </td></tr>\n",
       "\t<tr><td>AA  </td><td>1502</td><td>1   </td><td>1   </td><td>0   </td><td>0   </td></tr>\n",
       "\t<tr><td>AA  </td><td>1502</td><td>1   </td><td>1   </td><td>0   </td><td>0   </td></tr>\n",
       "\t<tr><td>AA  </td><td>1502</td><td>1   </td><td>1   </td><td>0   </td><td>0   </td></tr>\n",
       "\t<tr><td>AA  </td><td>1502</td><td>2   </td><td>1   </td><td>0   </td><td>0   </td></tr>\n",
       "\t<tr><td>AA  </td><td>1502</td><td>1   </td><td>1   </td><td>0   </td><td>0   </td></tr>\n",
       "\t<tr><td>AA  </td><td>1502</td><td>2   </td><td>1   </td><td>0   </td><td>0   </td></tr>\n",
       "\t<tr><td>AA  </td><td>1502</td><td>1   </td><td>1   </td><td>0   </td><td>0   </td></tr>\n",
       "\t<tr><td>AA  </td><td>1502</td><td>2   </td><td>1   </td><td>0   </td><td>0   </td></tr>\n",
       "\t<tr><td>AA  </td><td>1502</td><td>1   </td><td>1   </td><td>0   </td><td>0   </td></tr>\n",
       "\t<tr><td>AA  </td><td>1512</td><td>1   </td><td>1   </td><td>0   </td><td>0   </td></tr>\n",
       "\t<tr><td>AA  </td><td>1512</td><td>1   </td><td>1   </td><td>0   </td><td>0   </td></tr>\n",
       "\t<tr><td>UA  </td><td>1712</td><td>4   </td><td>1   </td><td>0   </td><td>0   </td></tr>\n",
       "</tbody>\n",
       "</table>\n"
      ],
      "text/latex": [
       "\\begin{tabular}{r|llllll}\n",
       " carrier & rtrip\\_fare & advance & busclass & nonrefundable & satstayover\\\\\n",
       "\\hline\n",
       "\t AA  & 158 & 14  & 0   & 1   & 0  \\\\\n",
       "\t AA  & 159 & 52  & 0   & 1   & 1  \\\\\n",
       "\t AA  & 159 & 15  & 0   & 1   & 0  \\\\\n",
       "\t AA  & 160 & 28  & 0   & 1   & 1  \\\\\n",
       "\t AA  & 160 & 24  & 0   & 1   & 1  \\\\\n",
       "\t AA  & 160 & 28  & 0   & 1   & 0  \\\\\n",
       "\t AA  & 165 & 22  & 0   & 1   & 1  \\\\\n",
       "\t AA  & 165 & 15  & 0   & 1   & 0  \\\\\n",
       "\t AA  & 165 & 17  & 0   & 1   & 1  \\\\\n",
       "\t AA  & 165 & 26  & 0   & 1   & 1  \\\\\n",
       "\t AA  & 165 & 22  & 0   & 1   & 1  \\\\\n",
       "\t AA  & 165 & 13  & 0   & 1   & 1  \\\\\n",
       "\t AA  & 165 & 17  & 0   & 1   & 1  \\\\\n",
       "\t AA  & 165 & 44  & 0   & 1   & 1  \\\\\n",
       "\t AA  & 165 & 21  & 0   & 1   & 0  \\\\\n",
       "\t AA  & 165 & 35  & 0   & 1   & 1  \\\\\n",
       "\t AA  & 165 & 37  & 0   & 1   & 1  \\\\\n",
       "\t AA  & 165 & 16  & 0   & 1   & 1  \\\\\n",
       "\t AA  & 165 & 18  & 0   & 1   & 0  \\\\\n",
       "\t AA  & 168 & 23  & 0   & 1   & 0  \\\\\n",
       "\t AA  & 168 & 44  & 0   & 1   & 0  \\\\\n",
       "\t UA  & 168 & 39  & 0   & 1   & 0  \\\\\n",
       "\t AA  & 168 & 41  & 0   & 1   & 0  \\\\\n",
       "\t AA  & 168 & 27  & 0   & 1   & 1  \\\\\n",
       "\t AA  & 168 & 28  & 0   & 1   & 1  \\\\\n",
       "\t UA  & 168 & 27  & 0   & 1   & 0  \\\\\n",
       "\t AA  & 168 & 41  & 0   & 1   & 1  \\\\\n",
       "\t AA  & 168 & 16  & 0   & 1   & 0  \\\\\n",
       "\t AA  & 168 & 28  & 0   & 1   & 0  \\\\\n",
       "\t UA  & 168 &  7  & 0   & 1   & 1  \\\\\n",
       "\t ... & ... & ... & ... & ... & ...\\\\\n",
       "\t AA   & 1502 & 1    & 1    & 0    & 0   \\\\\n",
       "\t AA   & 1502 & 1    & 1    & 0    & 0   \\\\\n",
       "\t AA   & 1502 & 1    & 1    & 0    & 0   \\\\\n",
       "\t AA   & 1502 & 1    & 1    & 0    & 0   \\\\\n",
       "\t AA   & 1502 & 2    & 1    & 0    & 0   \\\\\n",
       "\t AA   & 1502 & 1    & 1    & 0    & 0   \\\\\n",
       "\t AA   & 1502 & 1    & 1    & 0    & 0   \\\\\n",
       "\t AA   & 1502 & 2    & 1    & 0    & 0   \\\\\n",
       "\t AA   & 1502 & 0    & 1    & 0    & 0   \\\\\n",
       "\t AA   & 1502 & 2    & 1    & 0    & 0   \\\\\n",
       "\t AA   & 1502 & 0    & 1    & 0    & 0   \\\\\n",
       "\t AA   & 1502 & 0    & 1    & 0    & 0   \\\\\n",
       "\t AA   & 1502 & 0    & 1    & 0    & 0   \\\\\n",
       "\t AA   & 1502 & 2    & 1    & 0    & 0   \\\\\n",
       "\t AA   & 1502 & 2    & 1    & 0    & 0   \\\\\n",
       "\t AA   & 1502 & 1    & 1    & 0    & 0   \\\\\n",
       "\t AA   & 1502 & 1    & 1    & 0    & 0   \\\\\n",
       "\t AA   & 1502 & 0    & 1    & 0    & 0   \\\\\n",
       "\t AA   & 1502 & 1    & 1    & 0    & 0   \\\\\n",
       "\t AA   & 1502 & 1    & 1    & 0    & 0   \\\\\n",
       "\t AA   & 1502 & 1    & 1    & 0    & 0   \\\\\n",
       "\t AA   & 1502 & 2    & 1    & 0    & 0   \\\\\n",
       "\t AA   & 1502 & 1    & 1    & 0    & 0   \\\\\n",
       "\t AA   & 1502 & 2    & 1    & 0    & 0   \\\\\n",
       "\t AA   & 1502 & 1    & 1    & 0    & 0   \\\\\n",
       "\t AA   & 1502 & 2    & 1    & 0    & 0   \\\\\n",
       "\t AA   & 1502 & 1    & 1    & 0    & 0   \\\\\n",
       "\t AA   & 1512 & 1    & 1    & 0    & 0   \\\\\n",
       "\t AA   & 1512 & 1    & 1    & 0    & 0   \\\\\n",
       "\t UA   & 1712 & 4    & 1    & 0    & 0   \\\\\n",
       "\\end{tabular}\n"
      ],
      "text/markdown": [
       "\n",
       "carrier | rtrip_fare | advance | busclass | nonrefundable | satstayover | \n",
       "|---|---|---|---|---|---|---|---|---|---|---|---|---|---|---|---|---|---|---|---|---|---|---|---|---|---|---|---|---|---|---|---|---|---|---|---|---|---|---|---|---|---|---|---|---|---|---|---|---|---|---|---|---|---|---|---|---|---|---|---|---|\n",
       "| AA  | 158 | 14  | 0   | 1   | 0   | \n",
       "| AA  | 159 | 52  | 0   | 1   | 1   | \n",
       "| AA  | 159 | 15  | 0   | 1   | 0   | \n",
       "| AA  | 160 | 28  | 0   | 1   | 1   | \n",
       "| AA  | 160 | 24  | 0   | 1   | 1   | \n",
       "| AA  | 160 | 28  | 0   | 1   | 0   | \n",
       "| AA  | 165 | 22  | 0   | 1   | 1   | \n",
       "| AA  | 165 | 15  | 0   | 1   | 0   | \n",
       "| AA  | 165 | 17  | 0   | 1   | 1   | \n",
       "| AA  | 165 | 26  | 0   | 1   | 1   | \n",
       "| AA  | 165 | 22  | 0   | 1   | 1   | \n",
       "| AA  | 165 | 13  | 0   | 1   | 1   | \n",
       "| AA  | 165 | 17  | 0   | 1   | 1   | \n",
       "| AA  | 165 | 44  | 0   | 1   | 1   | \n",
       "| AA  | 165 | 21  | 0   | 1   | 0   | \n",
       "| AA  | 165 | 35  | 0   | 1   | 1   | \n",
       "| AA  | 165 | 37  | 0   | 1   | 1   | \n",
       "| AA  | 165 | 16  | 0   | 1   | 1   | \n",
       "| AA  | 165 | 18  | 0   | 1   | 0   | \n",
       "| AA  | 168 | 23  | 0   | 1   | 0   | \n",
       "| AA  | 168 | 44  | 0   | 1   | 0   | \n",
       "| UA  | 168 | 39  | 0   | 1   | 0   | \n",
       "| AA  | 168 | 41  | 0   | 1   | 0   | \n",
       "| AA  | 168 | 27  | 0   | 1   | 1   | \n",
       "| AA  | 168 | 28  | 0   | 1   | 1   | \n",
       "| UA  | 168 | 27  | 0   | 1   | 0   | \n",
       "| AA  | 168 | 41  | 0   | 1   | 1   | \n",
       "| AA  | 168 | 16  | 0   | 1   | 0   | \n",
       "| AA  | 168 | 28  | 0   | 1   | 0   | \n",
       "| UA  | 168 |  7  | 0   | 1   | 1   | \n",
       "| ... | ... | ... | ... | ... | ... | \n",
       "| AA   | 1502 | 1    | 1    | 0    | 0    | \n",
       "| AA   | 1502 | 1    | 1    | 0    | 0    | \n",
       "| AA   | 1502 | 1    | 1    | 0    | 0    | \n",
       "| AA   | 1502 | 1    | 1    | 0    | 0    | \n",
       "| AA   | 1502 | 2    | 1    | 0    | 0    | \n",
       "| AA   | 1502 | 1    | 1    | 0    | 0    | \n",
       "| AA   | 1502 | 1    | 1    | 0    | 0    | \n",
       "| AA   | 1502 | 2    | 1    | 0    | 0    | \n",
       "| AA   | 1502 | 0    | 1    | 0    | 0    | \n",
       "| AA   | 1502 | 2    | 1    | 0    | 0    | \n",
       "| AA   | 1502 | 0    | 1    | 0    | 0    | \n",
       "| AA   | 1502 | 0    | 1    | 0    | 0    | \n",
       "| AA   | 1502 | 0    | 1    | 0    | 0    | \n",
       "| AA   | 1502 | 2    | 1    | 0    | 0    | \n",
       "| AA   | 1502 | 2    | 1    | 0    | 0    | \n",
       "| AA   | 1502 | 1    | 1    | 0    | 0    | \n",
       "| AA   | 1502 | 1    | 1    | 0    | 0    | \n",
       "| AA   | 1502 | 0    | 1    | 0    | 0    | \n",
       "| AA   | 1502 | 1    | 1    | 0    | 0    | \n",
       "| AA   | 1502 | 1    | 1    | 0    | 0    | \n",
       "| AA   | 1502 | 1    | 1    | 0    | 0    | \n",
       "| AA   | 1502 | 2    | 1    | 0    | 0    | \n",
       "| AA   | 1502 | 1    | 1    | 0    | 0    | \n",
       "| AA   | 1502 | 2    | 1    | 0    | 0    | \n",
       "| AA   | 1502 | 1    | 1    | 0    | 0    | \n",
       "| AA   | 1502 | 2    | 1    | 0    | 0    | \n",
       "| AA   | 1502 | 1    | 1    | 0    | 0    | \n",
       "| AA   | 1512 | 1    | 1    | 0    | 0    | \n",
       "| AA   | 1512 | 1    | 1    | 0    | 0    | \n",
       "| UA   | 1712 | 4    | 1    | 0    | 0    | \n",
       "\n",
       "\n"
      ],
      "text/plain": [
       "      carrier rtrip_fare advance busclass nonrefundable satstayover\n",
       "1     AA      158        14      0        1             0          \n",
       "2     AA      159        52      0        1             1          \n",
       "3     AA      159        15      0        1             0          \n",
       "4     AA      160        28      0        1             1          \n",
       "5     AA      160        24      0        1             1          \n",
       "6     AA      160        28      0        1             0          \n",
       "7     AA      165        22      0        1             1          \n",
       "8     AA      165        15      0        1             0          \n",
       "9     AA      165        17      0        1             1          \n",
       "10    AA      165        26      0        1             1          \n",
       "11    AA      165        22      0        1             1          \n",
       "12    AA      165        13      0        1             1          \n",
       "13    AA      165        17      0        1             1          \n",
       "14    AA      165        44      0        1             1          \n",
       "15    AA      165        21      0        1             0          \n",
       "16    AA      165        35      0        1             1          \n",
       "17    AA      165        37      0        1             1          \n",
       "18    AA      165        16      0        1             1          \n",
       "19    AA      165        18      0        1             0          \n",
       "20    AA      168        23      0        1             0          \n",
       "21    AA      168        44      0        1             0          \n",
       "22    UA      168        39      0        1             0          \n",
       "23    AA      168        41      0        1             0          \n",
       "24    AA      168        27      0        1             1          \n",
       "25    AA      168        28      0        1             1          \n",
       "26    UA      168        27      0        1             0          \n",
       "27    AA      168        41      0        1             1          \n",
       "28    AA      168        16      0        1             0          \n",
       "29    AA      168        28      0        1             0          \n",
       "30    UA      168         7      0        1             1          \n",
       "...   ...     ...        ...     ...      ...           ...        \n",
       "10237 AA      1502       1       1        0             0          \n",
       "10238 AA      1502       1       1        0             0          \n",
       "10239 AA      1502       1       1        0             0          \n",
       "10240 AA      1502       1       1        0             0          \n",
       "10241 AA      1502       2       1        0             0          \n",
       "10242 AA      1502       1       1        0             0          \n",
       "10243 AA      1502       1       1        0             0          \n",
       "10244 AA      1502       2       1        0             0          \n",
       "10245 AA      1502       0       1        0             0          \n",
       "10246 AA      1502       2       1        0             0          \n",
       "10247 AA      1502       0       1        0             0          \n",
       "10248 AA      1502       0       1        0             0          \n",
       "10249 AA      1502       0       1        0             0          \n",
       "10250 AA      1502       2       1        0             0          \n",
       "10251 AA      1502       2       1        0             0          \n",
       "10252 AA      1502       1       1        0             0          \n",
       "10253 AA      1502       1       1        0             0          \n",
       "10254 AA      1502       0       1        0             0          \n",
       "10255 AA      1502       1       1        0             0          \n",
       "10256 AA      1502       1       1        0             0          \n",
       "10257 AA      1502       1       1        0             0          \n",
       "10258 AA      1502       2       1        0             0          \n",
       "10259 AA      1502       1       1        0             0          \n",
       "10260 AA      1502       2       1        0             0          \n",
       "10261 AA      1502       1       1        0             0          \n",
       "10262 AA      1502       2       1        0             0          \n",
       "10263 AA      1502       1       1        0             0          \n",
       "10264 AA      1512       1       1        0             0          \n",
       "10265 AA      1512       1       1        0             0          \n",
       "10266 UA      1712       4       1        0             0          "
      ]
     },
     "metadata": {},
     "output_type": "display_data"
    }
   ],
   "source": [
    "data = read.xlsx(\"../DATASETS/DATASET American+United.xlsx\", sheetIndex=1, header=TRUE)\n",
    "dim(data)\n",
    "data"
   ]
  },
  {
   "cell_type": "markdown",
   "metadata": {},
   "source": [
    "<br>\n",
    "** Take a look at the variables \"advance\", \"busclass\", and \"nonrefundable\". What do you think each variable measures? **"
   ]
  },
  {
   "cell_type": "markdown",
   "metadata": {},
   "source": [
    "<div class=\"alert alert-info\">\n",
    "\n",
    "**advance:** Measures how many days in advance each ticket was purchased.\n",
    "<br>\n",
    "**busclass:** Indicates whether a ticket purchased was a business class ticket. 1 indicates that a ticket was a business class ticket and 0 indicates that it was not. This is very visible in that the \"1's\" are much more expensive than the \"0's\". Note: We call this a \"dummy variable\" or an indicator variable. We will discuss these sorts of variables in more detail later in the course.\n",
    "<br>\n",
    "**nonrefundable:** Indicates whether a ticket purchased was a nonrefundable ticket. 1 indicates that a ticket was nonrefundable and 0 indicates that it was not (that is, it was refundable). We can guess at this by seeing that the \"1's\" are much less expensive than the \"0's\". \n",
    "\n",
    "</div>"
   ]
  },
  {
   "cell_type": "markdown",
   "metadata": {
    "hideCode": false,
    "hidePrompt": false
   },
   "source": [
    "<br>\n",
    "### Descriptive Statistics\n",
    "___\n",
    "\n",
    "** (a) List summary statistics for the variable `rtrip_fare`. **"
   ]
  },
  {
   "cell_type": "code",
   "execution_count": 17,
   "metadata": {
    "hideCode": false,
    "hidePrompt": false
   },
   "outputs": [
    {
     "data": {
      "text/html": [
       "<table>\n",
       "<thead><tr><th></th><th scope=col>vars</th><th scope=col>n</th><th scope=col>mean</th><th scope=col>sd</th><th scope=col>median</th><th scope=col>trimmed</th><th scope=col>mad</th><th scope=col>min</th><th scope=col>max</th><th scope=col>range</th><th scope=col>skew</th><th scope=col>kurtosis</th><th scope=col>se</th></tr></thead>\n",
       "<tbody>\n",
       "\t<tr><th scope=row>X1</th><td>1       </td><td>10266   </td><td>368.7947</td><td>179.7248</td><td>328     </td><td>349.184 </td><td>163.086 </td><td>158     </td><td>1712    </td><td>1554    </td><td>1.810139</td><td>6.83049 </td><td>1.773811</td></tr>\n",
       "</tbody>\n",
       "</table>\n"
      ],
      "text/latex": [
       "\\begin{tabular}{r|lllllllllllll}\n",
       "  & vars & n & mean & sd & median & trimmed & mad & min & max & range & skew & kurtosis & se\\\\\n",
       "\\hline\n",
       "\tX1 & 1        & 10266    & 368.7947 & 179.7248 & 328      & 349.184  & 163.086  & 158      & 1712     & 1554     & 1.810139 & 6.83049  & 1.773811\\\\\n",
       "\\end{tabular}\n"
      ],
      "text/markdown": [
       "\n",
       "| <!--/--> | vars | n | mean | sd | median | trimmed | mad | min | max | range | skew | kurtosis | se | \n",
       "|---|\n",
       "| X1 | 1        | 10266    | 368.7947 | 179.7248 | 328      | 349.184  | 163.086  | 158      | 1712     | 1554     | 1.810139 | 6.83049  | 1.773811 | \n",
       "\n",
       "\n"
      ],
      "text/plain": [
       "   vars n     mean     sd       median trimmed mad     min max  range skew    \n",
       "X1 1    10266 368.7947 179.7248 328    349.184 163.086 158 1712 1554  1.810139\n",
       "   kurtosis se      \n",
       "X1 6.83049  1.773811"
      ]
     },
     "metadata": {},
     "output_type": "display_data"
    }
   ],
   "source": [
    "describe(data$rtrip_fare)"
   ]
  },
  {
   "cell_type": "markdown",
   "metadata": {
    "hideCode": false,
    "hidePrompt": false
   },
   "source": [
    "<br>\n",
    "\n",
    "** (b) The mean is larger than the median. What does this indicate? **"
   ]
  },
  {
   "cell_type": "markdown",
   "metadata": {
    "hideCode": false,
    "hidePrompt": false
   },
   "source": [
    "<div class=\"alert alert-info\">\n",
    "\n",
    "These data are skewed to the right.\n",
    "\n",
    "</div>"
   ]
  },
  {
   "cell_type": "markdown",
   "metadata": {
    "hideCode": false,
    "hidePrompt": false
   },
   "source": [
    "<br>\n",
    "### Histogram\n",
    "___\n",
    "\n",
    "** (a) Construct a histogram of round trip fares. Why is there so much white space on the right side of the histogram?**"
   ]
  },
  {
   "cell_type": "code",
   "execution_count": 18,
   "metadata": {
    "hideCode": false,
    "hidePrompt": false
   },
   "outputs": [
    {
     "data": {},
     "metadata": {},
     "output_type": "display_data"
    },
    {
     "data": {
      "image/png": "[encoded data removed]",
      "text/plain": [
       "plot without title"
      ]
     },
     "metadata": {},
     "output_type": "display_data"
    }
   ],
   "source": [
    "ggplot(data) +\n",
    "geom_histogram(aes(rtrip_fare), bins=100) +\n",
    "ggtitle(\"Round Trip Fares\") + xlab(\"round trip fare ($)\")"
   ]
  },
  {
   "cell_type": "markdown",
   "metadata": {},
   "source": [
    "<div class=\"alert alert-info\">\n",
    "\n",
    "There are a small number of very high fares, i.e., above \\$1000.\n",
    "\n",
    "</div>"
   ]
  },
  {
   "cell_type": "markdown",
   "metadata": {
    "collapsed": true,
    "hideCode": false,
    "hidePrompt": false
   },
   "source": [
    "<br>\n",
    "** (b) Construct another histogram using only tickets under \\$1000. Be sure to label the axes. **"
   ]
  },
  {
   "cell_type": "code",
   "execution_count": 19,
   "metadata": {
    "hideCode": false,
    "hidePrompt": false
   },
   "outputs": [
    {
     "data": {},
     "metadata": {},
     "output_type": "display_data"
    },
    {
     "data": {
      "image/png": "[encoded data removed]",
      "text/plain": [
       "plot without title"
      ]
     },
     "metadata": {},
     "output_type": "display_data"
    }
   ],
   "source": [
    "data.cheap = data[data$rtrip_fare < 1000, ]\n",
    "\n",
    "ggplot(data.cheap) +\n",
    "geom_histogram(aes(rtrip_fare), bins=100) +\n",
    "ggtitle(\"Round Trip Fares < $1000\") + xlab(\"round trip fare ($)\")"
   ]
  },
  {
   "cell_type": "markdown",
   "metadata": {
    "hideCode": false,
    "hidePrompt": false
   },
   "source": [
    "<br>\n",
    "** (c) Go back to the full dataset.  Is one of the airlines much cheaper on average than the other? **"
   ]
  },
  {
   "cell_type": "code",
   "execution_count": 20,
   "metadata": {},
   "outputs": [
    {
     "name": "stdout",
     "output_type": "stream",
     "text": [
      "Price mean for AA = $368.89\n",
      "Price mean for UA = $368.58\n"
     ]
    }
   ],
   "source": [
    "data.AA = data[data$carrier == \"AA\", ]\n",
    "data.UA = data[data$carrier == \"UA\", ]\n",
    "\n",
    "m.AA = mean(data.AA$rtrip_fare)\n",
    "m.UA = mean(data.UA$rtrip_fare)\n",
    "\n",
    "cat(sprintf(\"Price mean for AA = $%0.2f\\n\", m.AA))\n",
    "cat(sprintf(\"Price mean for UA = $%0.2f\\n\", m.UA))"
   ]
  },
  {
   "cell_type": "markdown",
   "metadata": {
    "hideCode": false,
    "hidePrompt": false
   },
   "source": [
    "<div class=\"alert alert-info\">\n",
    "\n",
    "No. On average, both airlines' fares are just over $368.\n",
    "\n",
    "</div>"
   ]
  },
  {
   "cell_type": "markdown",
   "metadata": {
    "hideCode": false,
    "hidePrompt": false
   },
   "source": [
    "<br>\n",
    "** (d) The `satstayover` variable is a 0/1 variable. Take a look at the prices of tickets with `satstayover` equal to 0 and equal to 1. What do you think this variable measures and how do you interpret the price difference? **"
   ]
  },
  {
   "cell_type": "code",
   "execution_count": 21,
   "metadata": {},
   "outputs": [
    {
     "name": "stdout",
     "output_type": "stream",
     "text": [
      "Price mean with no stayover = $401.88\n",
      "Price mean with stayover = $251.65\n"
     ]
    }
   ],
   "source": [
    "data.0 = data[data$satstayover == 0, ]\n",
    "data.1 = data[data$satstayover == 1, ]\n",
    "\n",
    "m.0 = mean(data.0$rtrip_fare)\n",
    "m.1 = mean(data.1$rtrip_fare)\n",
    "\n",
    "cat(sprintf(\"Price mean with no stayover = $%0.2f\\n\", m.0))\n",
    "cat(sprintf(\"Price mean with stayover = $%0.2f\\n\", m.1))"
   ]
  },
  {
   "cell_type": "markdown",
   "metadata": {
    "hideCode": false,
    "hidePrompt": false
   },
   "source": [
    "<div class=\"alert alert-info\">\n",
    "\n",
    "This variable indicates that a roundtrip ticket includes a Saturday stayover in the destination location. Tickets with values of 1 are much less expensive than those with zeroes, \\$252 versus \\$402. This is classic price discrimination. Business travelers are less likely have a Saturday stayover and have higher willingness-to-pay, in part because they are typically buying their tickets with company funds.\n",
    "\n",
    "</div>"
   ]
  },
  {
   "cell_type": "markdown",
   "metadata": {},
   "source": [
    "<br>\n",
    "### Further Reading\n",
    "___\n",
    "* References to be written ...."
   ]
  },
  {
   "cell_type": "markdown",
   "metadata": {},
   "source": [
    "$\\tiny \\text{Copyright (c) Berkeley Data Analytics Group, LLC}$"
   ]
  }
 ],
 "metadata": {
  "hide_code_all_hidden": false,
  "hide_input": false,
  "kernelspec": {
   "display_name": "R",
   "language": "R",
   "name": "ir"
  },
  "language_info": {
   "codemirror_mode": "r",
   "file_extension": ".r",
   "mimetype": "text/x-r-source",
   "name": "R",
   "pygments_lexer": "r",
   "version": "3.4.2"
  }
 },
 "nbformat": 4,
 "nbformat_minor": 2
}
