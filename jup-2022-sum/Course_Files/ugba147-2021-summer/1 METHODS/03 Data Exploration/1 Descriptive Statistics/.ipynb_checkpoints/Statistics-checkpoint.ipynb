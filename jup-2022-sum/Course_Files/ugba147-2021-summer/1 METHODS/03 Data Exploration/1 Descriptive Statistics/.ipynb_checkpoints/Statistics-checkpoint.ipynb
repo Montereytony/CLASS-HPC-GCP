{
 "cells": [
  {
   "cell_type": "markdown",
   "metadata": {
    "hideCode": false,
    "hidePrompt": false
   },
   "source": [
    "# Descriptive Statistics $\\,\\, \\tiny\\text{Lecture}$\n",
    "\n",
    "![](banner_descriptive_statistics_9.jpg)\n",
    "\n",
    "_<p style=\"text-align: center;\"> “The object of statistical science is to discover methods of condensing information concerning<br> large groups of allied facts into brief and compendious expressions suitable for discussion.”<br>- Francis Galton </p>_"
   ]
  },
  {
   "cell_type": "code",
   "execution_count": 1,
   "metadata": {
    "hide_input": true,
    "scrolled": true
   },
   "outputs": [
    {
     "name": "stdout",
     "output_type": "stream",
     "text": [
      "<< Notebook apparatus is located here. Toggle cell input display to see code. >>"
     ]
    }
   ],
   "source": [
    "cat(\"<< Notebook apparatus is located here. Toggle cell input display to see code. >>\")"
   ]
  },
  {
   "cell_type": "markdown",
   "metadata": {},
   "source": [
    "## Discourse"
   ]
  },
  {
   "cell_type": "markdown",
   "metadata": {},
   "source": [
    "### Data"
   ]
  },
  {
   "cell_type": "code",
   "execution_count": 1,
   "metadata": {
    "hide_input": true
   },
   "outputs": [
    {
     "data": {
      "text/html": [
       "<table>\n",
       "<thead><tr><th scope=col>x1</th><th scope=col>x2</th><th scope=col>x3</th><th scope=col>x4</th><th scope=col>x5</th></tr></thead>\n",
       "<tbody>\n",
       "\t<tr><td>3 </td><td>25</td><td>95</td><td>22</td><td>A </td></tr>\n",
       "\t<tr><td>4 </td><td>42</td><td>93</td><td>41</td><td>B </td></tr>\n",
       "\t<tr><td>5 </td><td>53</td><td>81</td><td>NA</td><td>C </td></tr>\n",
       "\t<tr><td>4 </td><td>47</td><td>79</td><td>NA</td><td>B </td></tr>\n",
       "\t<tr><td>5 </td><td>51</td><td>53</td><td>51</td><td>B </td></tr>\n",
       "\t<tr><td>5 </td><td>65</td><td>47</td><td>63</td><td>C </td></tr>\n",
       "\t<tr><td>8 </td><td>81</td><td>51</td><td>89</td><td>D </td></tr>\n",
       "\t<tr><td>7 </td><td>79</td><td>65</td><td>NA</td><td>B </td></tr>\n",
       "\t<tr><td>9 </td><td>95</td><td>42</td><td>93</td><td>E </td></tr>\n",
       "\t<tr><td>9 </td><td>93</td><td>25</td><td>97</td><td>D </td></tr>\n",
       "</tbody>\n",
       "</table>\n"
      ],
      "text/latex": [
       "\\begin{tabular}{r|lllll}\n",
       " x1 & x2 & x3 & x4 & x5\\\\\n",
       "\\hline\n",
       "\t 3  & 25 & 95 & 22 & A \\\\\n",
       "\t 4  & 42 & 93 & 41 & B \\\\\n",
       "\t 5  & 53 & 81 & NA & C \\\\\n",
       "\t 4  & 47 & 79 & NA & B \\\\\n",
       "\t 5  & 51 & 53 & 51 & B \\\\\n",
       "\t 5  & 65 & 47 & 63 & C \\\\\n",
       "\t 8  & 81 & 51 & 89 & D \\\\\n",
       "\t 7  & 79 & 65 & NA & B \\\\\n",
       "\t 9  & 95 & 42 & 93 & E \\\\\n",
       "\t 9  & 93 & 25 & 97 & D \\\\\n",
       "\\end{tabular}\n"
      ],
      "text/markdown": [
       "\n",
       "x1 | x2 | x3 | x4 | x5 | \n",
       "|---|---|---|---|---|---|---|---|---|---|\n",
       "| 3  | 25 | 95 | 22 | A  | \n",
       "| 4  | 42 | 93 | 41 | B  | \n",
       "| 5  | 53 | 81 | NA | C  | \n",
       "| 4  | 47 | 79 | NA | B  | \n",
       "| 5  | 51 | 53 | 51 | B  | \n",
       "| 5  | 65 | 47 | 63 | C  | \n",
       "| 8  | 81 | 51 | 89 | D  | \n",
       "| 7  | 79 | 65 | NA | B  | \n",
       "| 9  | 95 | 42 | 93 | E  | \n",
       "| 9  | 93 | 25 | 97 | D  | \n",
       "\n",
       "\n"
      ],
      "text/plain": [
       "   x1 x2 x3 x4 x5\n",
       "1  3  25 95 22 A \n",
       "2  4  42 93 41 B \n",
       "3  5  53 81 NA C \n",
       "4  4  47 79 NA B \n",
       "5  5  51 53 51 B \n",
       "6  5  65 47 63 C \n",
       "7  8  81 51 89 D \n",
       "8  7  79 65 NA B \n",
       "9  9  95 42 93 E \n",
       "10 9  93 25 97 D "
      ]
     },
     "metadata": {},
     "output_type": "display_data"
    }
   ],
   "source": [
    "data = data.frame(x1=c(3,4,5,4,5,5,8,7,9,9),\n",
    "                  x2=c(25,42,53,47,51,65,81,79,95,93),\n",
    "                  x3=c(95,93,81,79,53,47,51,65,42,25),\n",
    "                  x4=c(22,41,NA,NA,51,63,89,NA,93,97),\n",
    "                  x5=c(\"A\",\"B\",\"C\",\"B\",\"B\",\"C\",\"D\",\"B\",\"E\",\"D\"))\n",
    "data"
   ]
  },
  {
   "cell_type": "markdown",
   "metadata": {},
   "source": [
    "<br>\n",
    "## Descriptive Statistics about One Variable\n",
    "___"
   ]
  },
  {
   "cell_type": "code",
   "execution_count": 4,
   "metadata": {},
   "outputs": [
    {
     "data": {
      "text/html": [
       "'numeric'"
      ],
      "text/latex": [
       "'numeric'"
      ],
      "text/markdown": [
       "'numeric'"
      ],
      "text/plain": [
       "[1] \"numeric\""
      ]
     },
     "metadata": {},
     "output_type": "display_data"
    },
    {
     "data": {
      "text/html": [
       "'numeric'"
      ],
      "text/latex": [
       "'numeric'"
      ],
      "text/markdown": [
       "'numeric'"
      ],
      "text/plain": [
       "[1] \"numeric\""
      ]
     },
     "metadata": {},
     "output_type": "display_data"
    },
    {
     "data": {
      "text/html": [
       "'numeric'"
      ],
      "text/latex": [
       "'numeric'"
      ],
      "text/markdown": [
       "'numeric'"
      ],
      "text/plain": [
       "[1] \"numeric\""
      ]
     },
     "metadata": {},
     "output_type": "display_data"
    },
    {
     "data": {
      "text/html": [
       "'numeric'"
      ],
      "text/latex": [
       "'numeric'"
      ],
      "text/markdown": [
       "'numeric'"
      ],
      "text/plain": [
       "[1] \"numeric\""
      ]
     },
     "metadata": {},
     "output_type": "display_data"
    },
    {
     "data": {
      "text/html": [
       "'factor'"
      ],
      "text/latex": [
       "'factor'"
      ],
      "text/markdown": [
       "'factor'"
      ],
      "text/plain": [
       "[1] \"factor\""
      ]
     },
     "metadata": {},
     "output_type": "display_data"
    }
   ],
   "source": [
    "class(data$x1)\n",
    "class(data$x2)\n",
    "class(data$x3)\n",
    "class(data$x4)\n",
    "class(data$x5)"
   ]
  },
  {
   "cell_type": "code",
   "execution_count": 5,
   "metadata": {},
   "outputs": [
    {
     "data": {
      "text/html": [
       "10"
      ],
      "text/latex": [
       "10"
      ],
      "text/markdown": [
       "10"
      ],
      "text/plain": [
       "[1] 10"
      ]
     },
     "metadata": {},
     "output_type": "display_data"
    }
   ],
   "source": [
    "length(data$x1) # count"
   ]
  },
  {
   "cell_type": "code",
   "execution_count": 6,
   "metadata": {},
   "outputs": [
    {
     "data": {
      "text/html": [
       "5.9"
      ],
      "text/latex": [
       "5.9"
      ],
      "text/markdown": [
       "5.9"
      ],
      "text/plain": [
       "[1] 5.9"
      ]
     },
     "metadata": {},
     "output_type": "display_data"
    }
   ],
   "source": [
    "mean(data$x1)"
   ]
  },
  {
   "cell_type": "code",
   "execution_count": 74,
   "metadata": {},
   "outputs": [
    {
     "data": {
      "text/html": [
       "5"
      ],
      "text/latex": [
       "5"
      ],
      "text/markdown": [
       "5"
      ],
      "text/plain": [
       "[1] 5"
      ]
     },
     "metadata": {},
     "output_type": "display_data"
    }
   ],
   "source": [
    "median(data$x1)"
   ]
  },
  {
   "cell_type": "code",
   "execution_count": 75,
   "metadata": {},
   "outputs": [
    {
     "data": {
      "text/html": [
       "<ol class=list-inline>\n",
       "\t<li>3</li>\n",
       "\t<li>4</li>\n",
       "\t<li>5</li>\n",
       "\t<li>8</li>\n",
       "\t<li>7</li>\n",
       "\t<li>9</li>\n",
       "</ol>\n"
      ],
      "text/latex": [
       "\\begin{enumerate*}\n",
       "\\item 3\n",
       "\\item 4\n",
       "\\item 5\n",
       "\\item 8\n",
       "\\item 7\n",
       "\\item 9\n",
       "\\end{enumerate*}\n"
      ],
      "text/markdown": [
       "1. 3\n",
       "2. 4\n",
       "3. 5\n",
       "4. 8\n",
       "5. 7\n",
       "6. 9\n",
       "\n",
       "\n"
      ],
      "text/plain": [
       "[1] 3 4 5 8 7 9"
      ]
     },
     "metadata": {},
     "output_type": "display_data"
    },
    {
     "data": {
      "text/html": [
       "<ol class=list-inline>\n",
       "\t<li>A</li>\n",
       "\t<li>B</li>\n",
       "\t<li>C</li>\n",
       "\t<li>D</li>\n",
       "\t<li>E</li>\n",
       "</ol>\n"
      ],
      "text/latex": [
       "\\begin{enumerate*}\n",
       "\\item A\n",
       "\\item B\n",
       "\\item C\n",
       "\\item D\n",
       "\\item E\n",
       "\\end{enumerate*}\n"
      ],
      "text/markdown": [
       "1. A\n",
       "2. B\n",
       "3. C\n",
       "4. D\n",
       "5. E\n",
       "\n",
       "\n"
      ],
      "text/plain": [
       "[1] A B C D E\n",
       "Levels: A B C D E"
      ]
     },
     "metadata": {},
     "output_type": "display_data"
    }
   ],
   "source": [
    "unique(data$x1)\n",
    "unique(data$x5)"
   ]
  },
  {
   "cell_type": "code",
   "execution_count": 92,
   "metadata": {},
   "outputs": [
    {
     "data": {
      "text/html": [
       "6"
      ],
      "text/latex": [
       "6"
      ],
      "text/markdown": [
       "6"
      ],
      "text/plain": [
       "[1] 6"
      ]
     },
     "metadata": {},
     "output_type": "display_data"
    },
    {
     "data": {
      "text/html": [
       "5"
      ],
      "text/latex": [
       "5"
      ],
      "text/markdown": [
       "5"
      ],
      "text/plain": [
       "[1] 5"
      ]
     },
     "metadata": {},
     "output_type": "display_data"
    }
   ],
   "source": [
    "length(unique(data$x1)) # number of unique values\n",
    "length(unique(data$x5)) # number of unique values"
   ]
  },
  {
   "cell_type": "code",
   "execution_count": 77,
   "metadata": {},
   "outputs": [
    {
     "data": {
      "text/plain": [
       "\n",
       "3 4 5 7 8 9 \n",
       "1 2 3 1 1 2 "
      ]
     },
     "metadata": {},
     "output_type": "display_data"
    },
    {
     "data": {
      "text/plain": [
       "\n",
       "A B C D E \n",
       "1 4 2 2 1 "
      ]
     },
     "metadata": {},
     "output_type": "display_data"
    }
   ],
   "source": [
    "table(data$x1) # frequencies\n",
    "table(data$x5) # frequencies"
   ]
  },
  {
   "cell_type": "code",
   "execution_count": 78,
   "metadata": {},
   "outputs": [
    {
     "data": {
      "text/plain": [
       "\n",
       "  3   4   5   7   8   9 \n",
       "0.1 0.2 0.3 0.1 0.1 0.2 "
      ]
     },
     "metadata": {},
     "output_type": "display_data"
    },
    {
     "data": {
      "text/plain": [
       "\n",
       "  A   B   C   D   E \n",
       "0.1 0.4 0.2 0.2 0.1 "
      ]
     },
     "metadata": {},
     "output_type": "display_data"
    }
   ],
   "source": [
    "table(data$x1) / length(data$x1) # relative frequencies\n",
    "table(data$x5) / length(data$x5) # relative frequencies"
   ]
  },
  {
   "cell_type": "code",
   "execution_count": 79,
   "metadata": {},
   "outputs": [
    {
     "data": {
      "text/plain": [
       "\n",
       " 3  4  5  7  8  9 \n",
       "10 20 30 10 10 20 "
      ]
     },
     "metadata": {},
     "output_type": "display_data"
    },
    {
     "data": {
      "text/plain": [
       "\n",
       " A  B  C  D  E \n",
       "10 40 20 20 10 "
      ]
     },
     "metadata": {},
     "output_type": "display_data"
    }
   ],
   "source": [
    "(table(data$x1) / length(data$x1)) * 100 # percent frequencies\n",
    "(table(data$x5) / length(data$x5)) * 100 # percent frequencies"
   ]
  },
  {
   "cell_type": "code",
   "execution_count": 95,
   "metadata": {},
   "outputs": [
    {
     "data": {
      "text/html": [
       "5"
      ],
      "text/latex": [
       "5"
      ],
      "text/markdown": [
       "5"
      ],
      "text/plain": [
       "[1] 5"
      ]
     },
     "metadata": {},
     "output_type": "display_data"
    },
    {
     "data": {
      "text/html": [
       "B"
      ],
      "text/latex": [
       "B"
      ],
      "text/markdown": [
       "B"
      ],
      "text/plain": [
       "[1] B\n",
       "Levels: A B C D E"
      ]
     },
     "metadata": {},
     "output_type": "display_data"
    }
   ],
   "source": [
    "as.numeric(names(table(data$x1))[table(data$x1) == max(table(data$x1))]) # mode\n",
    "factor(names(table(data$x5))[table(data$x5) == max(table(data$x5))], levels=unique(data$x5)) # mode"
   ]
  },
  {
   "cell_type": "code",
   "execution_count": 25,
   "metadata": {},
   "outputs": [
    {
     "data": {
      "text/html": [
       "<ol class=list-inline>\n",
       "\t<li>3</li>\n",
       "\t<li>9</li>\n",
       "</ol>\n"
      ],
      "text/latex": [
       "\\begin{enumerate*}\n",
       "\\item 3\n",
       "\\item 9\n",
       "\\end{enumerate*}\n"
      ],
      "text/markdown": [
       "1. 3\n",
       "2. 9\n",
       "\n",
       "\n"
      ],
      "text/plain": [
       "[1] 3 9"
      ]
     },
     "metadata": {},
     "output_type": "display_data"
    }
   ],
   "source": [
    "range(data$x1) # minimum and maximum"
   ]
  },
  {
   "cell_type": "code",
   "execution_count": 26,
   "metadata": {},
   "outputs": [
    {
     "data": {
      "text/html": [
       "6"
      ],
      "text/latex": [
       "6"
      ],
      "text/markdown": [
       "6"
      ],
      "text/plain": [
       "[1] 6"
      ]
     },
     "metadata": {},
     "output_type": "display_data"
    }
   ],
   "source": [
    "range(data$x1)[2] - range(data$x1)[1] # range"
   ]
  },
  {
   "cell_type": "code",
   "execution_count": 19,
   "metadata": {},
   "outputs": [
    {
     "data": {
      "text/html": [
       "4.66666666666667"
      ],
      "text/latex": [
       "4.66666666666667"
      ],
      "text/markdown": [
       "4.66666666666667"
      ],
      "text/plain": [
       "[1] 4.666667"
      ]
     },
     "metadata": {},
     "output_type": "display_data"
    }
   ],
   "source": [
    "var(data$x1) # variance"
   ]
  },
  {
   "cell_type": "code",
   "execution_count": 20,
   "metadata": {},
   "outputs": [
    {
     "data": {
      "text/html": [
       "2.16024689946929"
      ],
      "text/latex": [
       "2.16024689946929"
      ],
      "text/markdown": [
       "2.16024689946929"
      ],
      "text/plain": [
       "[1] 2.160247"
      ]
     },
     "metadata": {},
     "output_type": "display_data"
    }
   ],
   "source": [
    "sd(data$x1) # standard deviation"
   ]
  },
  {
   "cell_type": "code",
   "execution_count": 28,
   "metadata": {},
   "outputs": [
    {
     "data": {
      "text/html": [
       "<dl class=dl-horizontal>\n",
       "\t<dt>0%</dt>\n",
       "\t\t<dd>3</dd>\n",
       "\t<dt>25%</dt>\n",
       "\t\t<dd>4.25</dd>\n",
       "\t<dt>50%</dt>\n",
       "\t\t<dd>5.5</dd>\n",
       "\t<dt>75%</dt>\n",
       "\t\t<dd>7.75</dd>\n",
       "\t<dt>100%</dt>\n",
       "\t\t<dd>9</dd>\n",
       "</dl>\n"
      ],
      "text/latex": [
       "\\begin{description*}\n",
       "\\item[0\\textbackslash{}\\%] 3\n",
       "\\item[25\\textbackslash{}\\%] 4.25\n",
       "\\item[50\\textbackslash{}\\%] 5.5\n",
       "\\item[75\\textbackslash{}\\%] 7.75\n",
       "\\item[100\\textbackslash{}\\%] 9\n",
       "\\end{description*}\n"
      ],
      "text/markdown": [
       "0%\n",
       ":   325%\n",
       ":   4.2550%\n",
       ":   5.575%\n",
       ":   7.75100%\n",
       ":   9\n",
       "\n"
      ],
      "text/plain": [
       "  0%  25%  50%  75% 100% \n",
       "3.00 4.25 5.50 7.75 9.00 "
      ]
     },
     "metadata": {},
     "output_type": "display_data"
    }
   ],
   "source": [
    "quantile(data$x1) # quartiles"
   ]
  },
  {
   "cell_type": "code",
   "execution_count": 29,
   "metadata": {},
   "outputs": [
    {
     "data": {
      "text/html": [
       "<dl class=dl-horizontal>\n",
       "\t<dt>10%</dt>\n",
       "\t\t<dd>3.9</dd>\n",
       "\t<dt>20%</dt>\n",
       "\t\t<dd>4</dd>\n",
       "\t<dt>30%</dt>\n",
       "\t\t<dd>4.7</dd>\n",
       "\t<dt>40%</dt>\n",
       "\t\t<dd>5</dd>\n",
       "\t<dt>50%</dt>\n",
       "\t\t<dd>5.5</dd>\n",
       "\t<dt>60%</dt>\n",
       "\t\t<dd>6.4</dd>\n",
       "\t<dt>70%</dt>\n",
       "\t\t<dd>7.3</dd>\n",
       "\t<dt>80%</dt>\n",
       "\t\t<dd>8.2</dd>\n",
       "\t<dt>90%</dt>\n",
       "\t\t<dd>9</dd>\n",
       "\t<dt>100%</dt>\n",
       "\t\t<dd>9</dd>\n",
       "</dl>\n"
      ],
      "text/latex": [
       "\\begin{description*}\n",
       "\\item[10\\textbackslash{}\\%] 3.9\n",
       "\\item[20\\textbackslash{}\\%] 4\n",
       "\\item[30\\textbackslash{}\\%] 4.7\n",
       "\\item[40\\textbackslash{}\\%] 5\n",
       "\\item[50\\textbackslash{}\\%] 5.5\n",
       "\\item[60\\textbackslash{}\\%] 6.4\n",
       "\\item[70\\textbackslash{}\\%] 7.3\n",
       "\\item[80\\textbackslash{}\\%] 8.2\n",
       "\\item[90\\textbackslash{}\\%] 9\n",
       "\\item[100\\textbackslash{}\\%] 9\n",
       "\\end{description*}\n"
      ],
      "text/markdown": [
       "10%\n",
       ":   3.920%\n",
       ":   430%\n",
       ":   4.740%\n",
       ":   550%\n",
       ":   5.560%\n",
       ":   6.470%\n",
       ":   7.380%\n",
       ":   8.290%\n",
       ":   9100%\n",
       ":   9\n",
       "\n"
      ],
      "text/plain": [
       " 10%  20%  30%  40%  50%  60%  70%  80%  90% 100% \n",
       " 3.9  4.0  4.7  5.0  5.5  6.4  7.3  8.2  9.0  9.0 "
      ]
     },
     "metadata": {},
     "output_type": "display_data"
    }
   ],
   "source": [
    "quantile(data$x1, c(0.1, 0.2, 0.3, 0.4, 0.5, 0.6, 0.7, 0.8, 0.9, 1)) # percentiles"
   ]
  },
  {
   "cell_type": "code",
   "execution_count": 30,
   "metadata": {},
   "outputs": [
    {
     "data": {
      "text/html": [
       "3.5"
      ],
      "text/latex": [
       "3.5"
      ],
      "text/markdown": [
       "3.5"
      ],
      "text/plain": [
       "[1] 3.5"
      ]
     },
     "metadata": {},
     "output_type": "display_data"
    }
   ],
   "source": [
    "IQR(data$x1) # inter-quartile range = 75th percentile minus 25th percentile"
   ]
  },
  {
   "cell_type": "code",
   "execution_count": 32,
   "metadata": {},
   "outputs": [
    {
     "data": {
      "text/html": [
       "<table>\n",
       "<tbody>\n",
       "\t<tr><td>-1.3887301</td></tr>\n",
       "\t<tr><td>-0.9258201</td></tr>\n",
       "\t<tr><td>-0.4629100</td></tr>\n",
       "\t<tr><td>-0.9258201</td></tr>\n",
       "\t<tr><td>-0.4629100</td></tr>\n",
       "\t<tr><td> 0.0000000</td></tr>\n",
       "\t<tr><td> 0.9258201</td></tr>\n",
       "\t<tr><td> 0.4629100</td></tr>\n",
       "\t<tr><td> 1.3887301</td></tr>\n",
       "\t<tr><td> 1.3887301</td></tr>\n",
       "</tbody>\n",
       "</table>\n"
      ],
      "text/latex": [
       "\\begin{tabular}{l}\n",
       "\t -1.3887301\\\\\n",
       "\t -0.9258201\\\\\n",
       "\t -0.4629100\\\\\n",
       "\t -0.9258201\\\\\n",
       "\t -0.4629100\\\\\n",
       "\t  0.0000000\\\\\n",
       "\t  0.9258201\\\\\n",
       "\t  0.4629100\\\\\n",
       "\t  1.3887301\\\\\n",
       "\t  1.3887301\\\\\n",
       "\\end{tabular}\n"
      ],
      "text/markdown": [
       "\n",
       "| -1.3887301 | \n",
       "| -0.9258201 | \n",
       "| -0.4629100 | \n",
       "| -0.9258201 | \n",
       "| -0.4629100 | \n",
       "|  0.0000000 | \n",
       "|  0.9258201 | \n",
       "|  0.4629100 | \n",
       "|  1.3887301 | \n",
       "|  1.3887301 | \n",
       "\n",
       "\n"
      ],
      "text/plain": [
       "      [,1]      \n",
       " [1,] -1.3887301\n",
       " [2,] -0.9258201\n",
       " [3,] -0.4629100\n",
       " [4,] -0.9258201\n",
       " [5,] -0.4629100\n",
       " [6,]  0.0000000\n",
       " [7,]  0.9258201\n",
       " [8,]  0.4629100\n",
       " [9,]  1.3887301\n",
       "[10,]  1.3887301"
      ]
     },
     "metadata": {},
     "output_type": "display_data"
    }
   ],
   "source": [
    "scale(data$x1) # z-scores"
   ]
  },
  {
   "cell_type": "markdown",
   "metadata": {},
   "source": [
    "<br>\n",
    "## Descriptive Statistics about Two Variables\n",
    "___"
   ]
  },
  {
   "cell_type": "code",
   "execution_count": 52,
   "metadata": {},
   "outputs": [
    {
     "data": {
      "text/html": [
       "49.7777777777778"
      ],
      "text/latex": [
       "49.7777777777778"
      ],
      "text/markdown": [
       "49.7777777777778"
      ],
      "text/plain": [
       "[1] 49.77778"
      ]
     },
     "metadata": {},
     "output_type": "display_data"
    }
   ],
   "source": [
    "cov(data$x1, data$x2) # covariance"
   ]
  },
  {
   "cell_type": "code",
   "execution_count": 53,
   "metadata": {
    "hideCode": false,
    "hidePrompt": false,
    "run_control": {
     "marked": false
    }
   },
   "outputs": [
    {
     "data": {
      "text/html": [
       "0.988257681912793"
      ],
      "text/latex": [
       "0.988257681912793"
      ],
      "text/markdown": [
       "0.988257681912793"
      ],
      "text/plain": [
       "[1] 0.9882577"
      ]
     },
     "metadata": {},
     "output_type": "display_data"
    }
   ],
   "source": [
    "cor(data$x1, data$x2) # correlation"
   ]
  },
  {
   "cell_type": "markdown",
   "metadata": {},
   "source": [
    "<br>\n",
    "## Descriptive Statistics about Three Variables\n",
    "___"
   ]
  },
  {
   "cell_type": "code",
   "execution_count": 10,
   "metadata": {},
   "outputs": [
    {
     "data": {
      "text/html": [
       "<table>\n",
       "<thead><tr><th></th><th scope=col>x1</th><th scope=col>x2</th><th scope=col>x3</th></tr></thead>\n",
       "<tbody>\n",
       "\t<tr><th scope=row>x1</th><td> 1.0000000</td><td> 0.9736893</td><td>-0.8270139</td></tr>\n",
       "\t<tr><th scope=row>x2</th><td> 0.9736893</td><td> 1.0000000</td><td>-0.8563633</td></tr>\n",
       "\t<tr><th scope=row>x3</th><td>-0.8270139</td><td>-0.8563633</td><td> 1.0000000</td></tr>\n",
       "</tbody>\n",
       "</table>\n"
      ],
      "text/latex": [
       "\\begin{tabular}{r|lll}\n",
       "  & x1 & x2 & x3\\\\\n",
       "\\hline\n",
       "\tx1 &  1.0000000 &  0.9736893 & -0.8270139\\\\\n",
       "\tx2 &  0.9736893 &  1.0000000 & -0.8563633\\\\\n",
       "\tx3 & -0.8270139 & -0.8563633 &  1.0000000\\\\\n",
       "\\end{tabular}\n"
      ],
      "text/markdown": [
       "\n",
       "| <!--/--> | x1 | x2 | x3 | \n",
       "|---|---|---|\n",
       "| x1 |  1.0000000 |  0.9736893 | -0.8270139 | \n",
       "| x2 |  0.9736893 |  1.0000000 | -0.8563633 | \n",
       "| x3 | -0.8270139 | -0.8563633 |  1.0000000 | \n",
       "\n",
       "\n"
      ],
      "text/plain": [
       "   x1         x2         x3        \n",
       "x1  1.0000000  0.9736893 -0.8270139\n",
       "x2  0.9736893  1.0000000 -0.8563633\n",
       "x3 -0.8270139 -0.8563633  1.0000000"
      ]
     },
     "metadata": {},
     "output_type": "display_data"
    }
   ],
   "source": [
    "cor(data[,c(\"x1\",\"x2\",\"x3\")]) # correlations"
   ]
  },
  {
   "cell_type": "markdown",
   "metadata": {},
   "source": [
    "<br>\n",
    "## Handling Missing Values\n",
    "___"
   ]
  },
  {
   "cell_type": "code",
   "execution_count": 57,
   "metadata": {},
   "outputs": [
    {
     "data": {
      "text/html": [
       "&lt;NA&gt;"
      ],
      "text/latex": [
       "<NA>"
      ],
      "text/markdown": [
       "&lt;NA&gt;"
      ],
      "text/plain": [
       "[1] NA"
      ]
     },
     "metadata": {},
     "output_type": "display_data"
    },
    {
     "data": {
      "text/html": [
       "65.1428571428571"
      ],
      "text/latex": [
       "65.1428571428571"
      ],
      "text/markdown": [
       "65.1428571428571"
      ],
      "text/plain": [
       "[1] 65.14286"
      ]
     },
     "metadata": {},
     "output_type": "display_data"
    }
   ],
   "source": [
    "mean(data$x4)\n",
    "mean(data$x4, na.rm=TRUE)"
   ]
  },
  {
   "cell_type": "code",
   "execution_count": 61,
   "metadata": {},
   "outputs": [
    {
     "data": {
      "text/html": [
       "&lt;NA&gt;"
      ],
      "text/latex": [
       "<NA>"
      ],
      "text/markdown": [
       "&lt;NA&gt;"
      ],
      "text/plain": [
       "[1] NA"
      ]
     },
     "metadata": {},
     "output_type": "display_data"
    },
    {
     "data": {
      "text/html": [
       "0.993966243336281"
      ],
      "text/latex": [
       "0.993966243336281"
      ],
      "text/markdown": [
       "0.993966243336281"
      ],
      "text/plain": [
       "[1] 0.9939662"
      ]
     },
     "metadata": {},
     "output_type": "display_data"
    }
   ],
   "source": [
    "cor(data$x1, data$x4)\n",
    "cor(data$x1[!is.na(data$x4)], data$x4[!is.na(data$x4)])"
   ]
  },
  {
   "cell_type": "code",
   "execution_count": 58,
   "metadata": {},
   "outputs": [
    {
     "data": {
      "text/html": [
       "<table>\n",
       "<thead><tr><th></th><th scope=col>x1</th><th scope=col>x2</th><th scope=col>x3</th><th scope=col>x4</th></tr></thead>\n",
       "<tbody>\n",
       "\t<tr><th scope=row>x1</th><td> 1.0000000</td><td> 0.9882577</td><td>-0.8713433</td><td>NA        </td></tr>\n",
       "\t<tr><th scope=row>x2</th><td> 0.9882577</td><td> 1.0000000</td><td>-0.8563633</td><td>NA        </td></tr>\n",
       "\t<tr><th scope=row>x3</th><td>-0.8713433</td><td>-0.8563633</td><td> 1.0000000</td><td>NA        </td></tr>\n",
       "\t<tr><th scope=row>x4</th><td>        NA</td><td>        NA</td><td>        NA</td><td> 1        </td></tr>\n",
       "</tbody>\n",
       "</table>\n"
      ],
      "text/latex": [
       "\\begin{tabular}{r|llll}\n",
       "  & x1 & x2 & x3 & x4\\\\\n",
       "\\hline\n",
       "\tx1 &  1.0000000 &  0.9882577 & -0.8713433 & NA        \\\\\n",
       "\tx2 &  0.9882577 &  1.0000000 & -0.8563633 & NA        \\\\\n",
       "\tx3 & -0.8713433 & -0.8563633 &  1.0000000 & NA        \\\\\n",
       "\tx4 &         NA &         NA &         NA &  1        \\\\\n",
       "\\end{tabular}\n"
      ],
      "text/markdown": [
       "\n",
       "| <!--/--> | x1 | x2 | x3 | x4 | \n",
       "|---|---|---|---|\n",
       "| x1 |  1.0000000 |  0.9882577 | -0.8713433 | NA         | \n",
       "| x2 |  0.9882577 |  1.0000000 | -0.8563633 | NA         | \n",
       "| x3 | -0.8713433 | -0.8563633 |  1.0000000 | NA         | \n",
       "| x4 |         NA |         NA |         NA |  1         | \n",
       "\n",
       "\n"
      ],
      "text/plain": [
       "   x1         x2         x3         x4\n",
       "x1  1.0000000  0.9882577 -0.8713433 NA\n",
       "x2  0.9882577  1.0000000 -0.8563633 NA\n",
       "x3 -0.8713433 -0.8563633  1.0000000 NA\n",
       "x4         NA         NA         NA  1"
      ]
     },
     "metadata": {},
     "output_type": "display_data"
    }
   ],
   "source": [
    "cor(data[,c(\"x1\",\"x2\",\"x3\",\"x4\")])"
   ]
  },
  {
   "cell_type": "markdown",
   "metadata": {},
   "source": [
    "<br>\n",
    "## Further Reading\n",
    "___\n",
    "* https://www.nasa.gov/sites/default/files/thumbnails/image/mollweide_cycle.gif\n"
   ]
  },
  {
   "cell_type": "markdown",
   "metadata": {},
   "source": [
    "$\\tiny \\text{Copyright (c) Berkeley Data Analytics Group, LLC}$"
   ]
  }
 ],
 "metadata": {
  "hide_code_all_hidden": false,
  "hide_input": false,
  "kernelspec": {
   "display_name": "R",
   "language": "R",
   "name": "ir"
  },
  "language_info": {
   "codemirror_mode": "r",
   "file_extension": ".r",
   "mimetype": "text/x-r-source",
   "name": "R",
   "pygments_lexer": "r",
   "version": "3.5.3"
  },
  "toc": {
   "base_numbering": "1",
   "nav_menu": {},
   "number_sections": true,
   "sideBar": true,
   "skip_h1_title": true,
   "title_cell": "Table of Contents",
   "title_sidebar": "Contents",
   "toc_cell": false,
   "toc_position": {},
   "toc_section_display": true,
   "toc_window_display": true
  }
 },
 "nbformat": 4,
 "nbformat_minor": 2
}
