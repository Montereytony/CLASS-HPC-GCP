{
 "cells": [
  {
   "cell_type": "markdown",
   "metadata": {
    "hideCode": false,
    "hidePrompt": false
   },
   "source": [
    "# Kernel Density Estimation\n",
    "\n",
    "![](banner_kde.jpg)"
   ]
  },
  {
   "cell_type": "code",
   "execution_count": 1,
   "metadata": {
    "hide_input": true
   },
   "outputs": [
    {
     "data": {
      "text/html": [
       "<p style=\"text-align:center; font-size:10px;\">\n",
       ".................................................... start of document ....................................................\n",
       "</p>"
      ]
     },
     "metadata": {},
     "output_type": "display_data"
    }
   ],
   "source": [
    "f = \"setup.R\"; for (i in 1:10) { if (file.exists(f)) break else f = paste0(\"../\", f) }; source(f)"
   ]
  },
  {
   "cell_type": "markdown",
   "metadata": {},
   "source": [
    "## Introduction\n",
    "\n",
    "### Motivation\n",
    "\n",
    "### Synopsis"
   ]
  },
  {
   "cell_type": "markdown",
   "metadata": {},
   "source": [
    "## Terms"
   ]
  },
  {
   "cell_type": "markdown",
   "metadata": {},
   "source": [
    "**Underlying Process:** Generates observations.  E.g., product quality scores, sales transaction amounts, customer sentiments, daily stock prices.\n",
    "\n",
    "**Probability Distribution:** The value at a point in the probability distribution is the probability that the underlying process will generate an observation with value equal to that point.  _Useful when observation values are categorical or integer numeric.  Also known as probability mass function._ \n",
    "\n",
    "**Probability Density Function:**  The area under the curve between two points is the probability that the underlying process will generate an observation with value between those two points.  _Useful when observation values are continuous numeric._"
   ]
  },
  {
   "cell_type": "markdown",
   "metadata": {},
   "source": [
    "## Guessing a Simple Underlying Process from One-Variable Data"
   ]
  },
  {
   "cell_type": "markdown",
   "metadata": {},
   "source": [
    "Consider a few observations.  Guess the probability distribution of the underlying process."
   ]
  },
  {
   "cell_type": "code",
   "execution_count": 2,
   "metadata": {
    "hide_input": true,
    "scrolled": false
   },
   "outputs": [
    {
     "data": {
      "text/html": [
       "<table>\n",
       "<thead><tr><th scope=col>number_of_observations</th></tr></thead>\n",
       "<tbody>\n",
       "\t<tr><td>10</td></tr>\n",
       "</tbody>\n",
       "</table>\n"
      ],
      "text/latex": [
       "\\begin{tabular}{r|l}\n",
       " number\\_of\\_observations\\\\\n",
       "\\hline\n",
       "\t 10\\\\\n",
       "\\end{tabular}\n"
      ],
      "text/markdown": [
       "\n",
       "| number_of_observations |\n",
       "|---|\n",
       "| 10 |\n",
       "\n"
      ],
      "text/plain": [
       "  number_of_observations\n",
       "1 10                    "
      ]
     },
     "metadata": {},
     "output_type": "display_data"
    },
    {
     "data": {
      "image/png": "[encoded data removed]",
      "text/plain": [
       "plot without title"
      ]
     },
     "metadata": {
      "image/png": {
       "height": 360,
       "width": 840
      },
      "text/plain": {
       "height": 360,
       "width": 840
      }
     },
     "output_type": "display_data"
    }
   ],
   "source": [
    "# First 10 observations ...\n",
    "\n",
    "set.seed(12345) # Sets seed for randomization\n",
    "x1 = sample(0:5, size=10, replace=TRUE, prob=mystery_process_A)\n",
    "\n",
    "data.frame(number_of_observations=length(x1))\n",
    "\n",
    "p1 = ggplot() + xlim(0,5) + ylim(-1,1) + geom_jitter(aes(x=x1, y=0), size=0.1, width=0.15, height=0.25, na.rm=TRUE) + theme.x_axis_only\n",
    "p2 = ggplot() + xlim(0,5) + geom_bar(aes(x=x1), width=0.1) # geom_bar is like geom_col, but uses count for vertical axis\n",
    "\n",
    "grid.arrange(p1, p2, nrow=1)"
   ]
  },
  {
   "cell_type": "markdown",
   "metadata": {},
   "source": [
    "Gather new observations.  Guess the probability distribution of the underlying process."
   ]
  },
  {
   "cell_type": "code",
   "execution_count": null,
   "metadata": {
    "hide_input": true,
    "scrolled": false
   },
   "outputs": [],
   "source": [
    "# Iterate, 10 new observations per iteration ...\n",
    "\n",
    "x1 = c(x1, sample(0:5, size=10, replace=TRUE, prob=mystery_process_A))\n",
    "\n",
    "data.frame(number_of_observations=length(x1))\n",
    "\n",
    "p1 = ggplot() + xlim(0,5) + ylim(-1,1) + geom_jitter(aes(x=x1, y=0), size=0.1, width=0.15, height=0.25, na.rm=TRUE) + theme.x_axis_only\n",
    "p2 = ggplot() + xlim(0,5) + geom_bar(aes(x=x1), width=0.1)\n",
    "\n",
    "grid.arrange(p1, p2, nrow=1)"
   ]
  },
  {
   "cell_type": "markdown",
   "metadata": {},
   "source": [
    "The actual probability distribution of this underlying process is ..."
   ]
  },
  {
   "cell_type": "code",
   "execution_count": null,
   "metadata": {
    "hide_input": true,
    "scrolled": false
   },
   "outputs": [],
   "source": [
    "ggplot() + geom_col(aes(x=0:5, y=mystery_process_A), width=0.1)"
   ]
  },
  {
   "cell_type": "markdown",
   "metadata": {},
   "source": [
    "## Guessing a Complex Underlying Process from One-Variable Data"
   ]
  },
  {
   "cell_type": "markdown",
   "metadata": {},
   "source": [
    "Consider a few observations.  Guess the probability distribution of the underlying process."
   ]
  },
  {
   "cell_type": "code",
   "execution_count": 3,
   "metadata": {
    "hide_input": true,
    "scrolled": false
   },
   "outputs": [
    {
     "data": {
      "text/html": [
       "<table>\n",
       "<thead><tr><th scope=col>number_of_observations</th></tr></thead>\n",
       "<tbody>\n",
       "\t<tr><td>10</td></tr>\n",
       "</tbody>\n",
       "</table>\n"
      ],
      "text/latex": [
       "\\begin{tabular}{r|l}\n",
       " number\\_of\\_observations\\\\\n",
       "\\hline\n",
       "\t 10\\\\\n",
       "\\end{tabular}\n"
      ],
      "text/markdown": [
       "\n",
       "| number_of_observations |\n",
       "|---|\n",
       "| 10 |\n",
       "\n"
      ],
      "text/plain": [
       "  number_of_observations\n",
       "1 10                    "
      ]
     },
     "metadata": {},
     "output_type": "display_data"
    },
    {
     "data": {
      "image/png": "[encoded data removed]",
      "text/plain": [
       "plot without title"
      ]
     },
     "metadata": {
      "image/png": {
       "height": 360,
       "width": 840
      },
      "text/plain": {
       "height": 360,
       "width": 840
      }
     },
     "output_type": "display_data"
    }
   ],
   "source": [
    "# First 10 observations ...\n",
    "\n",
    "set.seed(12345) # Sets seed for randomization\n",
    "x1 = sample(0:20, size=10, replace=TRUE, prob=mystery_process_B)\n",
    "\n",
    "data.frame(number_of_observations=length(x1))\n",
    "\n",
    "p1 = ggplot() + xlim(-1,21) + ylim(-1,1) + geom_jitter(aes(x=x1, y=0), size=0.1, width=0.15, height=0.25, na.rm=TRUE) + theme.x_axis_only\n",
    "p2 = ggplot() + xlim(-1,21) + geom_bar(aes(x=x1), width=0.1)\n",
    "\n",
    "grid.arrange(p1, p2, nrow=1)"
   ]
  },
  {
   "cell_type": "markdown",
   "metadata": {},
   "source": [
    "Gather new observations.  Guess the probability distribution of the underlying process."
   ]
  },
  {
   "cell_type": "code",
   "execution_count": null,
   "metadata": {
    "hide_input": true,
    "scrolled": false
   },
   "outputs": [],
   "source": [
    "# Iterate, 10 new observations per iteration ...\n",
    "\n",
    "x1 = c(x1, sample(0:20, size=10, replace=TRUE, prob=mystery_process_B))\n",
    "\n",
    "data.frame(number_of_observations=length(x1))\n",
    "\n",
    "p1 = ggplot() + xlim(-1,21) + ylim(-1,1) + geom_jitter(aes(x=x1, y=0), size=0.1, width=0.15, height=0.25, na.rm=TRUE) + theme.x_axis_only\n",
    "p2 = ggplot() + xlim(-1,21) + geom_bar(aes(x=x1), width=0.1) # geom_bar is like geom_col, but uses count for vertical axis\n",
    "\n",
    "grid.arrange(p1, p2, nrow=1)"
   ]
  },
  {
   "cell_type": "markdown",
   "metadata": {},
   "source": [
    "The actual probability distribution of this underlying process is ..."
   ]
  },
  {
   "cell_type": "code",
   "execution_count": null,
   "metadata": {
    "hide_input": true
   },
   "outputs": [],
   "source": [
    "ggplot() + geom_col(aes(x=0:20, y=mystery_process_B), width=0.1)"
   ]
  },
  {
   "cell_type": "markdown",
   "metadata": {},
   "source": [
    "The actual probability density function of this underlying process is ..."
   ]
  },
  {
   "cell_type": "code",
   "execution_count": null,
   "metadata": {
    "hide_input": true
   },
   "outputs": [],
   "source": [
    "ggplot() + geom_area(aes(x=seq(0,20,0.1), y=mystery_process_B.function(seq(0,20,0.1)))) + xlim(0,20)"
   ]
  },
  {
   "cell_type": "markdown",
   "metadata": {},
   "source": [
    "## Guessing an Underlying Process from One-Variable Data without Gathering New Observations "
   ]
  },
  {
   "cell_type": "markdown",
   "metadata": {},
   "source": [
    "Consider this pedagogical data."
   ]
  },
  {
   "cell_type": "code",
   "execution_count": 4,
   "metadata": {
    "hideCode": false,
    "hidePrompt": false,
    "hide_input": true,
    "run_control": {
     "marked": false
    },
    "scrolled": false
   },
   "outputs": [
    {
     "data": {
      "image/png": "[encoded data removed]",
      "text/plain": [
       "plot without title"
      ]
     },
     "metadata": {
      "image/png": {
       "height": 120,
       "width": 960
      },
      "text/plain": {
       "height": 120,
       "width": 960
      }
     },
     "output_type": "display_data"
    }
   ],
   "source": [
    "data = data.frame(x1=c(1,2,3,4,8,9,16,17,18,19,20))\n",
    "\n",
    "output_size(8,1)\n",
    "ggplot(data) + xlim(-5,25) +\n",
    "geom_point(aes(x=x1, y=0))  + theme.x_axis_only\n",
    "output_size(restore)"
   ]
  },
  {
   "cell_type": "markdown",
   "metadata": {},
   "source": [
    "Distribution of counts of observations is not a satisfying guess of the underlying process's probability distribution."
   ]
  },
  {
   "cell_type": "code",
   "execution_count": null,
   "metadata": {
    "hide_input": true
   },
   "outputs": [],
   "source": [
    "ggplot(data) + xlim(-5,25) +\n",
    "geom_bar(aes(x=x1, y=stat(prop)), width=0.1, alpha=0.5) + \n",
    "geom_point(aes(x=x1, y=0))"
   ]
  },
  {
   "cell_type": "markdown",
   "metadata": {},
   "source": [
    "A histogram with small number of bins is not a satisfying guess of the underlying process's probability density function."
   ]
  },
  {
   "cell_type": "code",
   "execution_count": null,
   "metadata": {
    "hide_input": true,
    "scrolled": false
   },
   "outputs": [],
   "source": [
    "ggplot(data) + xlim(-5,25) +\n",
    "geom_histogram(aes(x=x1, y=stat(density)), binwidth=6, size=1, color=\"gray50\", alpha=0.5, na.rm=TRUE) +\n",
    "geom_point(aes(x=x1, y=0))"
   ]
  },
  {
   "cell_type": "markdown",
   "metadata": {},
   "source": [
    "A histogram with large number of bins is not a satisfying guess of the underlying process's probability density function, though perhaps better than a histogram with small number of bins."
   ]
  },
  {
   "cell_type": "code",
   "execution_count": null,
   "metadata": {
    "hide_input": true,
    "scrolled": false
   },
   "outputs": [],
   "source": [
    "ggplot(data) + xlim(-5,25) +\n",
    "geom_histogram(aes(x=x1, y=stat(density)), binwidth=1.1, size=1, color=\"gray50\", alpha=0.5, na.rm=TRUE) +\n",
    "geom_point(aes(x=x1, y=0))"
   ]
  },
  {
   "cell_type": "markdown",
   "metadata": {},
   "source": [
    "A histogram with very large number of bins is not a satisfying guess of the underlying process's probability density function."
   ]
  },
  {
   "cell_type": "code",
   "execution_count": null,
   "metadata": {
    "hide_input": true,
    "scrolled": false
   },
   "outputs": [],
   "source": [
    "ggplot(data) + xlim(-1,21) +\n",
    "geom_histogram(aes(x=x1, y=stat(density)), binwidth=0.2, size=1, color=\"gray50\", alpha=0.5, na.rm=TRUE) +\n",
    "geom_point(aes(x=x1, y=0))"
   ]
  },
  {
   "cell_type": "markdown",
   "metadata": {},
   "source": [
    "A probability density function something like this would perhaps be most satisfying."
   ]
  },
  {
   "cell_type": "code",
   "execution_count": null,
   "metadata": {
    "hide_input": true,
    "scrolled": false
   },
   "outputs": [],
   "source": [
    "ggplot(data) + xlim(0,20) +\n",
    "geom_density(aes(x1), kernel=\"gaussian\", bw=1, alpha=0.5) +\n",
    "geom_point(aes(x=x1, y=0))"
   ]
  },
  {
   "cell_type": "markdown",
   "metadata": {},
   "source": [
    "## Kernal Density Estimation for One-Variable Data\n",
    "\n",
    "Methodically guess the underlying process's probability density function, based on just a few 1-variable observations."
   ]
  },
  {
   "cell_type": "markdown",
   "metadata": {},
   "source": [
    "### Data\n",
    "\n",
    "Consider this pedagogical data."
   ]
  },
  {
   "cell_type": "code",
   "execution_count": 5,
   "metadata": {
    "hide_input": true,
    "scrolled": true
   },
   "outputs": [
    {
     "data": {
      "image/png": "[encoded data removed]",
      "text/plain": [
       "plot without title"
      ]
     },
     "metadata": {
      "image/png": {
       "height": 120,
       "width": 960
      },
      "text/plain": {
       "height": 120,
       "width": 960
      }
     },
     "output_type": "display_data"
    }
   ],
   "source": [
    "data = data.frame(x1=c(1,2,3,4,8,9,16,17,18,19,20))\n",
    "\n",
    "output_size(8,1)\n",
    "ggplot(data) + xlim(-5,25) +\n",
    "geom_point(aes(x=x1, y=0)) + theme.x_axis_only\n",
    "output_size(restore)"
   ]
  },
  {
   "cell_type": "markdown",
   "metadata": {},
   "source": [
    "### Rectangle Function as Kernel\n",
    "\n",
    "One rectangle for each observation, with center at the observation.  Each rectangle is of same size, halfwidth is set by bandwidth, height is set such that total area of all rectangles is 1.\n",
    "\n",
    "Kernel density estimate is sum of heights along horizontal axis.\n",
    "\n",
    "Try different bandwidths (e.g., 1, 5, 0.5), and note the effect."
   ]
  },
  {
   "cell_type": "markdown",
   "metadata": {},
   "source": [
    "When bandwidth is 1 ..."
   ]
  },
  {
   "cell_type": "code",
   "execution_count": null,
   "metadata": {
    "hide_input": true,
    "scrolled": false
   },
   "outputs": [],
   "source": [
    "bandwidth = 1 # try bandwidth 1 first, then adjust as desired\n",
    "\n",
    "p1 = ggplot(data) + xlim(-1,20) + ylim(0,0.2) + ylab(\"\") +\n",
    "     stat_function(fun=kernel.rect, args=c(center=data$x1[1], halfwidth=bandwidth), geom=\"area\", n=500, alpha=0.3) + # stat_function is an alternative to geom_area\n",
    "     geom_point(aes(x=x1, y=0))\n",
    "                                \n",
    "p2 = p1 + stat_function(fun=sum_kernels.rect, args=list(x1=data$x1[1], halfwidth=bandwidth), color=PALETTE[1], geom=\"area\", n=500, alpha=0.1)\n",
    "                                  \n",
    "grid.arrange(p1, p2, nrow=1)"
   ]
  },
  {
   "cell_type": "code",
   "execution_count": null,
   "metadata": {
    "hide_input": true,
    "scrolled": false
   },
   "outputs": [],
   "source": [
    "bandwidth = 1 # try bandwidth 1 first, then adjust as desired\n",
    "\n",
    "p1 = ggplot(data) + xlim(-1,20) + ylim(0,0.2) + ylab(\"\") +\n",
    "     stat_function(fun=kernel.rect, args=c(center=data$x1[1], halfwidth=bandwidth), geom=\"area\", n=500, alpha=0.3) +\n",
    "     stat_function(fun=kernel.rect, args=c(center=data$x1[2], halfwidth=bandwidth), geom=\"area\", n=500, alpha=0.3) +\n",
    "     geom_point(aes(x=x1, y=0))\n",
    "                                \n",
    "p2 = p1 + stat_function(fun=sum_kernels.rect, args=list(x1=data$x1[1:2], halfwidth=bandwidth), color=PALETTE[1], n=500, geom=\"area\", alpha=0.1)\n",
    "                                  \n",
    "grid.arrange(p1, p2, nrow=1)"
   ]
  },
  {
   "cell_type": "code",
   "execution_count": null,
   "metadata": {
    "hide_input": true,
    "scrolled": false
   },
   "outputs": [],
   "source": [
    "bandwidth = 1 # try bandwidth 1 first, then adjust as desired\n",
    "\n",
    "p1 = ggplot(data) + xlim(-1,20) + ylim(0,0.2) + ylab(\"\") +\n",
    "     stat_function(fun=kernel.rect, args=c(center=data$x1[1],  halfwidth=bandwidth), geom=\"area\", n=500, alpha=0.3) +\n",
    "     stat_function(fun=kernel.rect, args=c(center=data$x1[2],  halfwidth=bandwidth), geom=\"area\", n=500, alpha=0.3) +\n",
    "     stat_function(fun=kernel.rect, args=c(center=data$x1[3],  halfwidth=bandwidth), geom=\"area\", n=500, alpha=0.3) +\n",
    "     stat_function(fun=kernel.rect, args=c(center=data$x1[4],  halfwidth=bandwidth), geom=\"area\", n=500, alpha=0.3) +\n",
    "     stat_function(fun=kernel.rect, args=c(center=data$x1[5],  halfwidth=bandwidth), geom=\"area\", n=500, alpha=0.3) +\n",
    "     stat_function(fun=kernel.rect, args=c(center=data$x1[6],  halfwidth=bandwidth), geom=\"area\", n=500, alpha=0.3) +\n",
    "     stat_function(fun=kernel.rect, args=c(center=data$x1[7],  halfwidth=bandwidth), geom=\"area\", n=500, alpha=0.3) +\n",
    "     stat_function(fun=kernel.rect, args=c(center=data$x1[8],  halfwidth=bandwidth), geom=\"area\", n=500, alpha=0.3) +\n",
    "     stat_function(fun=kernel.rect, args=c(center=data$x1[9],  halfwidth=bandwidth), geom=\"area\", n=500, alpha=0.3) +\n",
    "     stat_function(fun=kernel.rect, args=c(center=data$x1[10], halfwidth=bandwidth), geom=\"area\", n=500, alpha=0.3) +\n",
    "     stat_function(fun=kernel.rect, args=c(center=data$x1[11], halfwidth=bandwidth), geom=\"area\", n=500, alpha=0.3) +\n",
    "     geom_point(aes(x=x1, y=0))\n",
    "                                \n",
    "p2 = p1 + stat_function(fun=sum_kernels.rect, args=list(x1=data$x1[1:11], halfwidth=bandwidth), color=PALETTE[1], geom=\"area\", n=500, alpha=0.1)\n",
    "                                  \n",
    "grid.arrange(p1, p2, nrow=1)"
   ]
  },
  {
   "cell_type": "markdown",
   "metadata": {},
   "source": [
    "When bandwidth is 5 ..."
   ]
  },
  {
   "cell_type": "code",
   "execution_count": null,
   "metadata": {
    "hide_input": true,
    "scrolled": false
   },
   "outputs": [],
   "source": [
    "bandwidth = 5\n",
    "\n",
    "p1 = ggplot(data) + xlim(-1,20) + ylim(0,0.2) + ylab(\"\") +\n",
    "     stat_function(fun=kernel.rect, args=c(center=data$x1[1],  halfwidth=bandwidth), n=500, geom=\"area\", alpha=0.3) +\n",
    "     stat_function(fun=kernel.rect, args=c(center=data$x1[2],  halfwidth=bandwidth), n=500, geom=\"area\", alpha=0.3) +\n",
    "     stat_function(fun=kernel.rect, args=c(center=data$x1[3],  halfwidth=bandwidth), n=500, geom=\"area\", alpha=0.3) +\n",
    "     stat_function(fun=kernel.rect, args=c(center=data$x1[4],  halfwidth=bandwidth), n=500, geom=\"area\", alpha=0.3) +\n",
    "     stat_function(fun=kernel.rect, args=c(center=data$x1[5],  halfwidth=bandwidth), n=500, geom=\"area\", alpha=0.3) +\n",
    "     stat_function(fun=kernel.rect, args=c(center=data$x1[6],  halfwidth=bandwidth), n=500, geom=\"area\", alpha=0.3) +\n",
    "     stat_function(fun=kernel.rect, args=c(center=data$x1[7],  halfwidth=bandwidth), n=500, geom=\"area\", alpha=0.3) +\n",
    "     stat_function(fun=kernel.rect, args=c(center=data$x1[8],  halfwidth=bandwidth), n=500, geom=\"area\", alpha=0.3) +\n",
    "     stat_function(fun=kernel.rect, args=c(center=data$x1[9],  halfwidth=bandwidth), n=500, geom=\"area\", alpha=0.3) +\n",
    "     stat_function(fun=kernel.rect, args=c(center=data$x1[10], halfwidth=bandwidth), n=500, geom=\"area\", alpha=0.3) +\n",
    "     stat_function(fun=kernel.rect, args=c(center=data$x1[11], halfwidth=bandwidth), n=500, geom=\"area\", alpha=0.3) +\n",
    "     geom_point(aes(x=x1, y=0))\n",
    "                                \n",
    "p2 = p1 + stat_function(fun=sum_kernels.rect, args=list(x1=data$x1[1:11], halfwidth=bandwidth), color=PALETTE[1], n=500, geom=\"area\", alpha=0.1)\n",
    "                                  \n",
    "grid.arrange(p1, p2, nrow=1)"
   ]
  },
  {
   "cell_type": "markdown",
   "metadata": {},
   "source": [
    "When bandwidth is 0.5 ..."
   ]
  },
  {
   "cell_type": "code",
   "execution_count": null,
   "metadata": {
    "hide_input": true,
    "scrolled": false
   },
   "outputs": [],
   "source": [
    "bandwidth = 0.5\n",
    "\n",
    "p1 = ggplot(data) + xlim(-1,20) + ylim(0,0.2) + ylab(\"\") +\n",
    "     stat_function(fun=kernel.rect, args=c(center=data$x1[1],  halfwidth=bandwidth), n=500, geom=\"area\", alpha=0.3) +\n",
    "     stat_function(fun=kernel.rect, args=c(center=data$x1[2],  halfwidth=bandwidth), n=500, geom=\"area\", alpha=0.3) +\n",
    "     stat_function(fun=kernel.rect, args=c(center=data$x1[3],  halfwidth=bandwidth), n=500, geom=\"area\", alpha=0.3) +\n",
    "     stat_function(fun=kernel.rect, args=c(center=data$x1[4],  halfwidth=bandwidth), n=500, geom=\"area\", alpha=0.3) +\n",
    "     stat_function(fun=kernel.rect, args=c(center=data$x1[5],  halfwidth=bandwidth), n=500, geom=\"area\", alpha=0.3) +\n",
    "     stat_function(fun=kernel.rect, args=c(center=data$x1[6],  halfwidth=bandwidth), n=500, geom=\"area\", alpha=0.3) +\n",
    "     stat_function(fun=kernel.rect, args=c(center=data$x1[7],  halfwidth=bandwidth), n=500, geom=\"area\", alpha=0.3) +\n",
    "     stat_function(fun=kernel.rect, args=c(center=data$x1[8],  halfwidth=bandwidth), n=500, geom=\"area\", alpha=0.3) +\n",
    "     stat_function(fun=kernel.rect, args=c(center=data$x1[9],  halfwidth=bandwidth), n=500, geom=\"area\", alpha=0.3) +\n",
    "     stat_function(fun=kernel.rect, args=c(center=data$x1[10], halfwidth=bandwidth), n=500, geom=\"area\", alpha=0.3) +\n",
    "     stat_function(fun=kernel.rect, args=c(center=data$x1[11], halfwidth=bandwidth), n=500, geom=\"area\", alpha=0.3) +\n",
    "     geom_point(aes(x=x1, y=0))\n",
    "                                \n",
    "p2 = p1 + stat_function(fun=sum_kernels.rect, args=list(x1=data$x1[1:11], halfwidth=bandwidth), color=PALETTE[1], n=500, geom=\"area\", alpha=0.1)\n",
    "                                  \n",
    "grid.arrange(p1, p2, nrow=1)"
   ]
  },
  {
   "cell_type": "markdown",
   "metadata": {},
   "source": [
    "### Triangle Function as Kernel\n",
    "\n",
    "One isocelese triangle for each observation, with center at the observation.  Each triangle is of same size, halfwidth is set by bandwidth, height is set such that total area of all triangles is 1.\n",
    "\n",
    "Kernel density estimate is sum of heights along horizontal axis.\n",
    "\n",
    "Try different bandwidths (e.g., 3, 6, 1), and note the effect."
   ]
  },
  {
   "cell_type": "markdown",
   "metadata": {},
   "source": [
    "When bandwidth is 3 ..."
   ]
  },
  {
   "cell_type": "code",
   "execution_count": 6,
   "metadata": {
    "hide_input": true,
    "scrolled": false
   },
   "outputs": [
    {
     "data": {
      "image/png": "[encoded data removed]",
      "text/plain": [
       "plot without title"
      ]
     },
     "metadata": {
      "image/png": {
       "height": 360,
       "width": 840
      },
      "text/plain": {
       "height": 360,
       "width": 840
      }
     },
     "output_type": "display_data"
    }
   ],
   "source": [
    "bandwidth = 3\n",
    "\n",
    "p1 = ggplot(data) + xlim(-1,20) + ylim(0,0.1) + ylab(\"\") +\n",
    "     stat_function(fun=kernel.tri, args=c(center=data$x1[1],  halfwidth=bandwidth), n=500, geom=\"area\", alpha=0.3) +\n",
    "     stat_function(fun=kernel.tri, args=c(center=data$x1[2],  halfwidth=bandwidth), n=500, geom=\"area\", alpha=0.3) +\n",
    "     stat_function(fun=kernel.tri, args=c(center=data$x1[3],  halfwidth=bandwidth), n=500, geom=\"area\", alpha=0.3) +\n",
    "     stat_function(fun=kernel.tri, args=c(center=data$x1[4],  halfwidth=bandwidth), n=500, geom=\"area\", alpha=0.3) +\n",
    "     stat_function(fun=kernel.tri, args=c(center=data$x1[5],  halfwidth=bandwidth), n=500, geom=\"area\", alpha=0.3) +\n",
    "     stat_function(fun=kernel.tri, args=c(center=data$x1[6],  halfwidth=bandwidth), n=500, geom=\"area\", alpha=0.3) +\n",
    "     stat_function(fun=kernel.tri, args=c(center=data$x1[7],  halfwidth=bandwidth), n=500, geom=\"area\", alpha=0.3) +\n",
    "     stat_function(fun=kernel.tri, args=c(center=data$x1[8],  halfwidth=bandwidth), n=500, geom=\"area\", alpha=0.3) +\n",
    "     stat_function(fun=kernel.tri, args=c(center=data$x1[9],  halfwidth=bandwidth), n=500, geom=\"area\", alpha=0.3) +\n",
    "     stat_function(fun=kernel.tri, args=c(center=data$x1[10], halfwidth=bandwidth), n=500, geom=\"area\", alpha=0.3) +\n",
    "     stat_function(fun=kernel.tri, args=c(center=data$x1[11], halfwidth=bandwidth), n=500, geom=\"area\", alpha=0.3) +\n",
    "     geom_point(aes(x=x1, y=0))\n",
    "                                \n",
    "p2 = p1 + stat_function(fun=sum_kernels.tri, args=list(x1=data$x1[1:11], halfwidth=bandwidth), color=PALETTE[1], n=500, geom=\"area\", alpha=0.1)\n",
    "                                  \n",
    "grid.arrange(p1, p2, nrow=1)"
   ]
  },
  {
   "cell_type": "markdown",
   "metadata": {},
   "source": [
    "When bandwidth is 10 ..."
   ]
  },
  {
   "cell_type": "code",
   "execution_count": 7,
   "metadata": {
    "hide_input": true,
    "scrolled": false
   },
   "outputs": [
    {
     "data": {
      "image/png": "[encoded data removed]",
      "text/plain": [
       "plot without title"
      ]
     },
     "metadata": {
      "image/png": {
       "height": 360,
       "width": 840
      },
      "text/plain": {
       "height": 360,
       "width": 840
      }
     },
     "output_type": "display_data"
    }
   ],
   "source": [
    "bandwidth = 10\n",
    "\n",
    "p1 = ggplot(data) + xlim(-1,20) + ylim(0,0.1) + ylab(\"\") +\n",
    "     stat_function(fun=kernel.tri, args=c(center=data$x1[1],  halfwidth=bandwidth), n=500, geom=\"area\", alpha=0.3) +\n",
    "     stat_function(fun=kernel.tri, args=c(center=data$x1[2],  halfwidth=bandwidth), n=500, geom=\"area\", alpha=0.3) +\n",
    "     stat_function(fun=kernel.tri, args=c(center=data$x1[3],  halfwidth=bandwidth), n=500, geom=\"area\", alpha=0.3) +\n",
    "     stat_function(fun=kernel.tri, args=c(center=data$x1[4],  halfwidth=bandwidth), n=500, geom=\"area\", alpha=0.3) +\n",
    "     stat_function(fun=kernel.tri, args=c(center=data$x1[5],  halfwidth=bandwidth), n=500, geom=\"area\", alpha=0.3) +\n",
    "     stat_function(fun=kernel.tri, args=c(center=data$x1[6],  halfwidth=bandwidth), n=500, geom=\"area\", alpha=0.3) +\n",
    "     stat_function(fun=kernel.tri, args=c(center=data$x1[7],  halfwidth=bandwidth), n=500, geom=\"area\", alpha=0.3) +\n",
    "     stat_function(fun=kernel.tri, args=c(center=data$x1[8],  halfwidth=bandwidth), n=500, geom=\"area\", alpha=0.3) +\n",
    "     stat_function(fun=kernel.tri, args=c(center=data$x1[9],  halfwidth=bandwidth), n=500, geom=\"area\", alpha=0.3) +\n",
    "     stat_function(fun=kernel.tri, args=c(center=data$x1[10], halfwidth=bandwidth), n=500, geom=\"area\", alpha=0.3) +\n",
    "     stat_function(fun=kernel.tri, args=c(center=data$x1[11], halfwidth=bandwidth), n=500, geom=\"area\", alpha=0.3) +\n",
    "     geom_point(aes(x=x1, y=0))\n",
    "                                \n",
    "p2 = p1 + stat_function(fun=sum_kernels.tri, args=list(x1=data$x1[1:11], halfwidth=bandwidth), color=PALETTE[1], n=500, geom=\"area\", alpha=0.1)\n",
    "                                  \n",
    "grid.arrange(p1, p2, nrow=1)"
   ]
  },
  {
   "cell_type": "markdown",
   "metadata": {},
   "source": [
    "When bandwidth is 1 ..."
   ]
  },
  {
   "cell_type": "code",
   "execution_count": 8,
   "metadata": {
    "hide_input": true,
    "scrolled": false
   },
   "outputs": [
    {
     "data": {
      "image/png": "[encoded data removed]",
      "text/plain": [
       "plot without title"
      ]
     },
     "metadata": {
      "image/png": {
       "height": 360,
       "width": 840
      },
      "text/plain": {
       "height": 360,
       "width": 840
      }
     },
     "output_type": "display_data"
    }
   ],
   "source": [
    "bandwidth = 1\n",
    "\n",
    "p1 = ggplot(data) + xlim(-1,20) + ylim(0,0.1) + ylab(\"\") +\n",
    "     stat_function(fun=kernel.tri, args=c(center=data$x1[1],  halfwidth=bandwidth), n=500, geom=\"area\", alpha=0.3) +\n",
    "     stat_function(fun=kernel.tri, args=c(center=data$x1[2],  halfwidth=bandwidth), n=500, geom=\"area\", alpha=0.3) +\n",
    "     stat_function(fun=kernel.tri, args=c(center=data$x1[3],  halfwidth=bandwidth), n=500, geom=\"area\", alpha=0.3) +\n",
    "     stat_function(fun=kernel.tri, args=c(center=data$x1[4],  halfwidth=bandwidth), n=500, geom=\"area\", alpha=0.3) +\n",
    "     stat_function(fun=kernel.tri, args=c(center=data$x1[5],  halfwidth=bandwidth), n=500, geom=\"area\", alpha=0.3) +\n",
    "     stat_function(fun=kernel.tri, args=c(center=data$x1[6],  halfwidth=bandwidth), n=500, geom=\"area\", alpha=0.3) +\n",
    "     stat_function(fun=kernel.tri, args=c(center=data$x1[7],  halfwidth=bandwidth), n=500, geom=\"area\", alpha=0.3) +\n",
    "     stat_function(fun=kernel.tri, args=c(center=data$x1[8],  halfwidth=bandwidth), n=500, geom=\"area\", alpha=0.3) +\n",
    "     stat_function(fun=kernel.tri, args=c(center=data$x1[9],  halfwidth=bandwidth), n=500, geom=\"area\", alpha=0.3) +\n",
    "     stat_function(fun=kernel.tri, args=c(center=data$x1[10], halfwidth=bandwidth), n=500, geom=\"area\", alpha=0.3) +\n",
    "     stat_function(fun=kernel.tri, args=c(center=data$x1[11], halfwidth=bandwidth), n=500, geom=\"area\", alpha=0.3) +\n",
    "     geom_point(aes(x=x1, y=0))\n",
    "                                \n",
    "p2 = p1 + stat_function(fun=sum_kernels.tri, args=list(x1=data$x1[1:11], halfwidth=bandwidth), color=PALETTE[1], n=500, geom=\"area\", alpha=0.1)\n",
    "                                  \n",
    "grid.arrange(p1, p2, nrow=1)"
   ]
  },
  {
   "cell_type": "markdown",
   "metadata": {},
   "source": [
    "### Gaussian Function as Kernel\n",
    "\n",
    "\n",
    "$ g(x) = \\frac{1}{\\sigma\\sqrt{2\\pi}} e^{-\\frac{1}{2} \\left(\\frac{x-\\mu}{\\sigma} \\right)^2} $<br>\n",
    "_where …<br>\n",
    "g(x) is the Guassian function evaluated at x<br>\n",
    "μ is some mean<br>\n",
    "σ is some standard deviation_\n",
    "\n",
    "\n",
    "\n",
    "One gaussian for each observation, with mean at the observation.  Each gaussian is of same size, standard deviation is set by bandwidth, scaled such that total area of all gaussians is 1.\n",
    "\n",
    "Kernel density estimate is sum of heights along horizontal axis.\n",
    "\n",
    "Try different bandwidths (e.g., 1, 2, 0.5), and note the effect."
   ]
  },
  {
   "cell_type": "markdown",
   "metadata": {},
   "source": [
    "When bandwidth is 1 ..."
   ]
  },
  {
   "cell_type": "code",
   "execution_count": 9,
   "metadata": {
    "hide_input": true,
    "scrolled": false
   },
   "outputs": [
    {
     "data": {
      "image/png": "[encoded data removed]",
      "text/plain": [
       "plot without title"
      ]
     },
     "metadata": {
      "image/png": {
       "height": 360,
       "width": 840
      },
      "text/plain": {
       "height": 360,
       "width": 840
      }
     },
     "output_type": "display_data"
    }
   ],
   "source": [
    "bandwidth = 1\n",
    "\n",
    "p1 = ggplot(data) + xlim(-1,20) + ylim(0,0.1) + ylab(\"\") +\n",
    "     stat_function(fun=kernel.gauss, args=c(mean=data$x1[1],  sd=bandwidth), n=500, geom=\"area\", alpha=0.3) +\n",
    "     stat_function(fun=kernel.gauss, args=c(mean=data$x1[2],  sd=bandwidth), n=500, geom=\"area\", alpha=0.3) +\n",
    "     stat_function(fun=kernel.gauss, args=c(mean=data$x1[3],  sd=bandwidth), n=500, geom=\"area\", alpha=0.3) +\n",
    "     stat_function(fun=kernel.gauss, args=c(mean=data$x1[4],  sd=bandwidth), n=500, geom=\"area\", alpha=0.3) +\n",
    "     stat_function(fun=kernel.gauss, args=c(mean=data$x1[5],  sd=bandwidth), n=500, geom=\"area\", alpha=0.3) +\n",
    "     stat_function(fun=kernel.gauss, args=c(mean=data$x1[6],  sd=bandwidth), n=500, geom=\"area\", alpha=0.3) +\n",
    "     stat_function(fun=kernel.gauss, args=c(mean=data$x1[7],  sd=bandwidth), n=500, geom=\"area\", alpha=0.3) +\n",
    "     stat_function(fun=kernel.gauss, args=c(mean=data$x1[8],  sd=bandwidth), n=500, geom=\"area\", alpha=0.3) +\n",
    "     stat_function(fun=kernel.gauss, args=c(mean=data$x1[9],  sd=bandwidth), n=500, geom=\"area\", alpha=0.3) +\n",
    "     stat_function(fun=kernel.gauss, args=c(mean=data$x1[10], sd=bandwidth), n=500, geom=\"area\", alpha=0.3) +\n",
    "     stat_function(fun=kernel.gauss, args=c(mean=data$x1[11], sd=bandwidth), n=500, geom=\"area\", alpha=0.3) +\n",
    "     geom_point(aes(x=x1, y=0))\n",
    "                                \n",
    "p2 = p1 + stat_function(fun=sum_kernels.gauss, args=list(x1=data$x1[1:11], sd=bandwidth), color=PALETTE[1], n=500, geom=\"area\", alpha=0.1)\n",
    "                                  \n",
    "grid.arrange(p1, p2, nrow=1)"
   ]
  },
  {
   "cell_type": "markdown",
   "metadata": {},
   "source": [
    "When bandwidth is 2 ..."
   ]
  },
  {
   "cell_type": "code",
   "execution_count": 10,
   "metadata": {
    "hide_input": true,
    "scrolled": false
   },
   "outputs": [
    {
     "data": {
      "image/png": "[encoded data removed]",
      "text/plain": [
       "plot without title"
      ]
     },
     "metadata": {
      "image/png": {
       "height": 360,
       "width": 840
      },
      "text/plain": {
       "height": 360,
       "width": 840
      }
     },
     "output_type": "display_data"
    }
   ],
   "source": [
    "bandwidth = 2\n",
    "\n",
    "p1 = ggplot(data) + xlim(-1,20) + ylim(0,0.1) + ylab(\"\") +\n",
    "     stat_function(fun=kernel.gauss, args=c(mean=data$x1[1],  sd=bandwidth), n=500, geom=\"area\", alpha=0.3) +\n",
    "     stat_function(fun=kernel.gauss, args=c(mean=data$x1[2],  sd=bandwidth), n=500, geom=\"area\", alpha=0.3) +\n",
    "     stat_function(fun=kernel.gauss, args=c(mean=data$x1[3],  sd=bandwidth), n=500, geom=\"area\", alpha=0.3) +\n",
    "     stat_function(fun=kernel.gauss, args=c(mean=data$x1[4],  sd=bandwidth), n=500, geom=\"area\", alpha=0.3) +\n",
    "     stat_function(fun=kernel.gauss, args=c(mean=data$x1[5],  sd=bandwidth), n=500, geom=\"area\", alpha=0.3) +\n",
    "     stat_function(fun=kernel.gauss, args=c(mean=data$x1[6],  sd=bandwidth), n=500, geom=\"area\", alpha=0.3) +\n",
    "     stat_function(fun=kernel.gauss, args=c(mean=data$x1[7],  sd=bandwidth), n=500, geom=\"area\", alpha=0.3) +\n",
    "     stat_function(fun=kernel.gauss, args=c(mean=data$x1[8],  sd=bandwidth), n=500, geom=\"area\", alpha=0.3) +\n",
    "     stat_function(fun=kernel.gauss, args=c(mean=data$x1[9],  sd=bandwidth), n=500, geom=\"area\", alpha=0.3) +\n",
    "     stat_function(fun=kernel.gauss, args=c(mean=data$x1[10], sd=bandwidth), n=500, geom=\"area\", alpha=0.3) +\n",
    "     stat_function(fun=kernel.gauss, args=c(mean=data$x1[11], sd=bandwidth), n=500, geom=\"area\", alpha=0.3) +\n",
    "     geom_point(aes(x=x1, y=0))\n",
    "                                \n",
    "p2 = p1 + stat_function(fun=sum_kernels.gauss, args=list(x1=data$x1[1:11], sd=bandwidth), color=PALETTE[1], n=500, geom=\"area\", alpha=0.1)\n",
    "                                  \n",
    "grid.arrange(p1, p2, nrow=1)"
   ]
  },
  {
   "cell_type": "markdown",
   "metadata": {},
   "source": [
    "When bandwidth is 0.5 ..."
   ]
  },
  {
   "cell_type": "code",
   "execution_count": 11,
   "metadata": {
    "hide_input": true,
    "scrolled": false
   },
   "outputs": [
    {
     "data": {
      "image/png": "[encoded data removed]",
      "text/plain": [
       "plot without title"
      ]
     },
     "metadata": {
      "image/png": {
       "height": 360,
       "width": 840
      },
      "text/plain": {
       "height": 360,
       "width": 840
      }
     },
     "output_type": "display_data"
    }
   ],
   "source": [
    "bandwidth = 0.5\n",
    "\n",
    "p1 = ggplot(data) + xlim(-1,20) + ylim(0,0.1) + ylab(\"\") +\n",
    "     stat_function(fun=kernel.gauss, args=c(mean=data$x1[1],  sd=bandwidth), n=500, geom=\"area\", alpha=0.3) +\n",
    "     stat_function(fun=kernel.gauss, args=c(mean=data$x1[2],  sd=bandwidth), n=500, geom=\"area\", alpha=0.3) +\n",
    "     stat_function(fun=kernel.gauss, args=c(mean=data$x1[3],  sd=bandwidth), n=500, geom=\"area\", alpha=0.3) +\n",
    "     stat_function(fun=kernel.gauss, args=c(mean=data$x1[4],  sd=bandwidth), n=500, geom=\"area\", alpha=0.3) +\n",
    "     stat_function(fun=kernel.gauss, args=c(mean=data$x1[5],  sd=bandwidth), n=500, geom=\"area\", alpha=0.3) +\n",
    "     stat_function(fun=kernel.gauss, args=c(mean=data$x1[6],  sd=bandwidth), n=500, geom=\"area\", alpha=0.3) +\n",
    "     stat_function(fun=kernel.gauss, args=c(mean=data$x1[7],  sd=bandwidth), n=500, geom=\"area\", alpha=0.3) +\n",
    "     stat_function(fun=kernel.gauss, args=c(mean=data$x1[8],  sd=bandwidth), n=500, geom=\"area\", alpha=0.3) +\n",
    "     stat_function(fun=kernel.gauss, args=c(mean=data$x1[9],  sd=bandwidth), n=500, geom=\"area\", alpha=0.3) +\n",
    "     stat_function(fun=kernel.gauss, args=c(mean=data$x1[10], sd=bandwidth), n=500, geom=\"area\", alpha=0.3) +\n",
    "     stat_function(fun=kernel.gauss, args=c(mean=data$x1[11], sd=bandwidth), n=500, geom=\"area\", alpha=0.3) +\n",
    "     geom_point(aes(x=x1, y=0))\n",
    "                                \n",
    "p2 = p1 + stat_function(fun=sum_kernels.gauss, args=list(x1=data$x1[1:11], sd=bandwidth), color=PALETTE[1], n=500, geom=\"area\", alpha=0.1)\n",
    "                                  \n",
    "grid.arrange(p1, p2, nrow=1)"
   ]
  },
  {
   "cell_type": "markdown",
   "metadata": {},
   "source": [
    "## Kernel Density Estimation for Two-Variable Data\n",
    "\n",
    "Methodically guess the underlying process's probability density function, based on just a few 2-variable observations."
   ]
  },
  {
   "cell_type": "markdown",
   "metadata": {},
   "source": [
    "### Data"
   ]
  },
  {
   "cell_type": "markdown",
   "metadata": {},
   "source": [
    "Consider this pedagogical data."
   ]
  },
  {
   "cell_type": "code",
   "execution_count": 12,
   "metadata": {
    "hide_input": true,
    "scrolled": false
   },
   "outputs": [
    {
     "data": {
      "image/png": "[encoded data removed]",
      "text/plain": [
       "plot without title"
      ]
     },
     "metadata": {
      "image/png": {
       "height": 120,
       "width": 480
      },
      "text/plain": {
       "height": 120,
       "width": 480
      }
     },
     "output_type": "display_data"
    },
    {
     "data": {
      "image/png": "[encoded data removed]",
      "text/plain": [
       "plot without title"
      ]
     },
     "metadata": {
      "image/png": {
       "height": 120,
       "width": 480
      },
      "text/plain": {
       "height": 120,
       "width": 480
      }
     },
     "output_type": "display_data"
    },
    {
     "data": {
      "image/png": "[encoded data removed]",
      "text/plain": [
       "plot without title"
      ]
     },
     "metadata": {
      "image/png": {
       "height": 480,
       "width": 480
      },
      "text/plain": {
       "height": 480,
       "width": 480
      }
     },
     "output_type": "display_data"
    }
   ],
   "source": [
    "data = data.frame(x1=c(1,2,3,4,8,9,16,17,18,19,20), x2=c(1,2,3,4,  15,13,14,15,  18,19,20))\n",
    "\n",
    "\n",
    "output_size(4,1)\n",
    "ggplot(data) + xlim(0,21) + geom_point(aes(x=x1, y=0)) + theme.x_axis_only\n",
    "ggplot(data) + xlim(0,21) + geom_point(aes(x=x2, y=0)) + theme.x_axis_only\n",
    "\n",
    "output_size(4,4)\n",
    "ggplot(data) + xlim(0,20) + ylim(0,20) + geom_point(aes(x=x1, y=x2))\n",
    "\n",
    "output_size(restore)"
   ]
  },
  {
   "cell_type": "markdown",
   "metadata": {},
   "source": [
    "### Variable Independence Assumption"
   ]
  },
  {
   "cell_type": "markdown",
   "metadata": {},
   "source": [
    "Two 1-variable kernel density estimations, one for each variable.  This does not account for any interdependencies among the variables."
   ]
  },
  {
   "cell_type": "code",
   "execution_count": null,
   "metadata": {
    "hide_input": true,
    "scrolled": false
   },
   "outputs": [],
   "source": [
    "ggplot(data) + xlim(0,20) + geom_density(aes(x1), kernel=\"gaussian\", bw=1, fill=PALETTE[2]) + geom_point(aes(x=x1, y=0))\n",
    "ggplot(data) + xlim(0,20) + geom_density(aes(x2), kernel=\"gaussian\", bw=1, fill=PALETTE[3]) + geom_point(aes(x=x2, y=0))"
   ]
  },
  {
   "cell_type": "markdown",
   "metadata": {},
   "source": [
    "### Variable Dependence Assumption"
   ]
  },
  {
   "cell_type": "markdown",
   "metadata": {},
   "source": [
    "One 2-variable kernel density estimation, variables taken together..\n",
    "\n",
    "The kernel used here is a 3-dimensional gaussian function, rather than a 2-dimensional gaussian function.  This accounts for interdependencies among the variables."
   ]
  },
  {
   "cell_type": "code",
   "execution_count": null,
   "metadata": {
    "hide_input": true,
    "scrolled": false
   },
   "outputs": [],
   "source": [
    "output_size(4,4)\n",
    "ggplot(data) + xlim(0,20) + ylim(0,20) +\n",
    "geom_polygon(aes(x=x1, y=x2, fill=stat(level), alpha=stat(level)), h=c(10, 10), bins=100, stat=\"density2d\") +\n",
    "geom_density_2d(aes(x=x1, y=x2), h=c(10, 10), bins=20) +\n",
    "geom_point(aes(x=x1, y=x2)) +\n",
    "scale_fill_continuous(low=\"yellow\", high=\"red\") +\n",
    "theme.no_legend\n",
    "output_size(restore)"
   ]
  },
  {
   "cell_type": "code",
   "execution_count": null,
   "metadata": {
    "hide_input": true,
    "scrolled": false
   },
   "outputs": [],
   "source": [
    "data$z = 0\n",
    "contour = kde2d(data$x1, data$x2, h=c(10,10), n=100, lims=c(0,20,0,20))\n",
    "color = rev(heat.colors(100,1))\n",
    "zcol = cut(contour$z, 100)\n",
    "\n",
    "p = open3d(); view3d(-20, -4, zoom=0.65)\n",
    "plot3d(data[,c(\"x1\",\"x2\",\"z\")], type=\"s\", col=PALETTE[1], xlim=c(0,20), ylim=c(0,20), zlim=c(0, 30))\n",
    "persp3d(contour$x, contour$y, contour$z, col=color[zcol], alpha=0.7)\n",
    "grid3d(c(\"x\",\"y\",\"z\"))\n",
    "rglwidget(elementId=\"myplot\", width=400, height=400)"
   ]
  },
  {
   "cell_type": "markdown",
   "metadata": {},
   "source": [
    "## Probability from Kernel Density Estimate"
   ]
  },
  {
   "cell_type": "code",
   "execution_count": 13,
   "metadata": {
    "hide_input": true,
    "scrolled": false
   },
   "outputs": [
    {
     "data": {
      "image/png": "[encoded data removed]",
      "text/plain": [
       "plot without title"
      ]
     },
     "metadata": {
      "image/png": {
       "height": 120,
       "width": 480
      },
      "text/plain": {
       "height": 120,
       "width": 480
      }
     },
     "output_type": "display_data"
    }
   ],
   "source": [
    "output_size(4,1)\n",
    "ggplot(data) + xlim(0,21) + geom_point(aes(x=x1, y=0)) + theme.x_axis_only\n",
    "output_size(restore)"
   ]
  },
  {
   "cell_type": "code",
   "execution_count": null,
   "metadata": {},
   "outputs": [],
   "source": [
    "d = density(data$x1, kernel=\"gaussian\", bw=1, from=0, to=20)\n",
    "approx(d, xout=4)$y\n",
    "approx(d, xout=7)$y"
   ]
  },
  {
   "cell_type": "code",
   "execution_count": null,
   "metadata": {},
   "outputs": [],
   "source": [
    "pdf = approxfun(d)\n",
    "pdf(4)\n",
    "pdf(7)"
   ]
  },
  {
   "cell_type": "code",
   "execution_count": null,
   "metadata": {},
   "outputs": [],
   "source": [
    "integrate(pdf, 4, 7)$value"
   ]
  },
  {
   "cell_type": "code",
   "execution_count": null,
   "metadata": {
    "hide_input": true,
    "scrolled": false
   },
   "outputs": [],
   "source": [
    "data.frame(probability_x1_is_4_to_7=integrate(pdf, 4, 7)$value)\n",
    "data.frame(probability_x1_is_0_to_20=integrate(pdf, 0, 20)$value)\n",
    "\n",
    "ggplot(data)  + xlim(0,20) +\n",
    "stat_function(fun=pdf, geom=\"area\") +\n",
    "stat_function(fun=pdf, geom=\"area\", xlim=c(4,7), fill=PALETTE[5]) +\n",
    "geom_vline(xintercept=4) + geom_vline(xintercept=7) +\n",
    "theme.no_axis_titles"
   ]
  },
  {
   "cell_type": "markdown",
   "metadata": {},
   "source": [
    "## Code"
   ]
  },
  {
   "cell_type": "markdown",
   "metadata": {},
   "source": [
    "### Useful Functions"
   ]
  },
  {
   "cell_type": "code",
   "execution_count": null,
   "metadata": {},
   "outputs": [],
   "source": [
    "# help(approx)                # from stats library\n",
    "# help(approxfun)             # from stats library\n",
    "# help(density)               # from stats library\n",
    "# help(geom_density)          # from ggplot2 library\n",
    "# help(geom_density_2d)       # from ggplot2 library\n",
    "# help(geom_polygon)          # from ggplot2 library\n",
    "# help(geom_vline)            # from ggplot2 library\n",
    "# help(scale_fill_continuous) # from ggplot2 library\n",
    "# help(stat_function)         # from ggplot2 library"
   ]
  },
  {
   "cell_type": "markdown",
   "metadata": {},
   "source": [
    "### Templates"
   ]
  },
  {
   "cell_type": "code",
   "execution_count": null,
   "metadata": {},
   "outputs": [],
   "source": [
    "data = data.frame(x1=c(1,2,3,4,8,9,16,17,18,19,20))\n",
    "\n",
    "ggplot(data) + xlim(0,20) +\n",
    "geom_density(aes(x1), kernel=\"gaussian\", bw=1)"
   ]
  },
  {
   "cell_type": "code",
   "execution_count": null,
   "metadata": {},
   "outputs": [],
   "source": [
    "data = data.frame(x1=c(1,2,3,4,8,9,16,17,18,19,20), x2=c(1,2,3,4,  15,13,14,15,  18,19,20))\n",
    "\n",
    "ggplot(data) + xlim(0,20) +\n",
    "geom_density(aes(x1), kernel=\"gaussian\", bw=1, fill=PALETTE[1], alpha=0.3) +\n",
    "geom_density(aes(x2), kernel=\"gaussian\", bw=1, fill=PALETTE[2], alpha=0.3)"
   ]
  },
  {
   "cell_type": "code",
   "execution_count": null,
   "metadata": {},
   "outputs": [],
   "source": [
    "data = data.frame(x1=c(1,2,3,4,8,9,16,17,18,19,20), x2=c(1,2,3,4,  15,13,14,15,  18,19,20))\n",
    "\n",
    "output_size(4,4)\n",
    "ggplot(data) + xlim(0,20) + ylim(0,20) +\n",
    "geom_polygon(aes(x=x1, y=x2, fill=stat(level), alpha=stat(level)), h=c(10, 10), n=500, bins=100, stat=\"density2d\") + # h sets the x- and y- bandwidths\n",
    "geom_density_2d(aes(x=x1, y=x2), h=c(10, 10), n=500, bins=20) +\n",
    "scale_fill_continuous(low=\"yellow\", high=\"red\") +\n",
    "theme.no_legend\n",
    "output_size(restore)"
   ]
  },
  {
   "cell_type": "markdown",
   "metadata": {},
   "source": [
    "## Expectations\n",
    "\n",
    "Know about this:\n",
    "* What an underlying process, probability distribution, and probability density function are, conceptually\n",
    "* What a kernel density estimate is, conceptually\n",
    "* Effects of using various kernels and bandwidths to calculate a kernel density estimate, conceptually\n",
    "* Trade-offs between using various kernels and bandwidths to calculate a kernel density estimate, conceptually\n",
    "* How to calculate and plot a kernel density estimate, given 1-dimensional data, a kernel function, and bandwidth, conceptually & using R\n",
    "* How to plot a kernel density estimate as a heat map, given 2-dimensional data, a kernel function, and bandwidth, using R\n",
    "* How to interpret a heat map or 3-dimensional scatterplot of 2-dimensional data density, conceptually\n",
    "* The difference between analysis using two 1-dimensional kernel density estimates vs. one 2-dimensional kernel density estimate, conceptually\n",
    "* How to calulate the probability density of observations with specific variable values from a kernel density estimate, conceptually & using R  \n",
    "* How to calculate the probability of observations with variable values within a range from a kernel density estimate, conceptually & using R "
   ]
  },
  {
   "cell_type": "markdown",
   "metadata": {},
   "source": [
    "## Further Reading\n",
    "\n",
    "* https://web.as.uky.edu/statistics/users/pbreheny/764-F11/notes/11-1.pdf\n",
    "* https://stackoverflow.com/questions/21273525/weight-equivalent-for-geom-density2d\n",
    "* https://www.r-graph-gallery.com/2d-density-plot-with-ggplot2/"
   ]
  },
  {
   "cell_type": "markdown",
   "metadata": {},
   "source": [
    "<p style=\"text-align:left; font-size:10px;\">\n",
    "Copyright (c) Berkeley Data Analytics Group, LLC\n",
    "<span style=\"float:right;\">\n",
    "Document revised February 1, 2021\n",
    "</span>\n",
    "</p>"
   ]
  }
 ],
 "metadata": {
  "hide_code_all_hidden": false,
  "hide_input": false,
  "kernelspec": {
   "display_name": "R",
   "language": "R",
   "name": "ir"
  },
  "language_info": {
   "codemirror_mode": "r",
   "file_extension": ".r",
   "mimetype": "text/x-r-source",
   "name": "R",
   "pygments_lexer": "r",
   "version": "3.6.1"
  },
  "toc": {
   "base_numbering": 1,
   "nav_menu": {},
   "number_sections": true,
   "sideBar": true,
   "skip_h1_title": true,
   "title_cell": "Table of Contents",
   "title_sidebar": "Contents",
   "toc_cell": false,
   "toc_position": {},
   "toc_section_display": true,
   "toc_window_display": true
  }
 },
 "nbformat": 4,
 "nbformat_minor": 2
}
