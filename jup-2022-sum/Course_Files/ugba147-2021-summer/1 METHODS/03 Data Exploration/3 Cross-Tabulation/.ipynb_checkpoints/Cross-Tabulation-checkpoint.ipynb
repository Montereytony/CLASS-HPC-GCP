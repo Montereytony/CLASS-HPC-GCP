{
 "cells": [
  {
   "cell_type": "markdown",
   "metadata": {
    "hideCode": false,
    "hidePrompt": false
   },
   "source": [
    "# Cross-Tabulation\n",
    "\n",
    "![](banner_cross-tabulation.jpg)"
   ]
  },
  {
   "cell_type": "code",
   "execution_count": 2,
   "metadata": {
    "hide_input": true
   },
   "outputs": [
    {
     "data": {
      "text/html": [
       "<p style=\"text-align:center; font-size:10px;\">\n",
       ".................................................... start of document ....................................................\n",
       "</p>"
      ]
     },
     "metadata": {},
     "output_type": "display_data"
    }
   ],
   "source": [
    "f = \"setup.R\"; for (i in 1:10) { if (file.exists(f)) break else f = paste0(\"../\", f) }; source(f)"
   ]
  },
  {
   "cell_type": "markdown",
   "metadata": {},
   "source": [
    "## Introduction\n",
    "\n",
    "### Motivation\n",
    "\n",
    "### Synopsis\n",
    "Reform a dataset by treating some variable values as variable names, and using a statistic to summarize the remaining variable values.  Do this to switch rows and columns, group values, and aggregate groups of values."
   ]
  },
  {
   "cell_type": "markdown",
   "metadata": {},
   "source": [
    "## Terms"
   ]
  },
  {
   "cell_type": "markdown",
   "metadata": {},
   "source": [
    "* Identifier Variables\n",
    "  * Variables with _values_ that will be used as row names or column names in the cross table.\n",
    "\n",
    "\n",
    "* Measure Variables\n",
    "  * Variables with _names_ that will be used as row names or column names in the cross table.\n",
    "\n",
    "\n",
    "* Long Table\n",
    "  * Table in which all row names and column names to be used in the cross table are represented as variable values.\n",
    "\n",
    "\n",
    "* Cross-Table"
   ]
  },
  {
   "cell_type": "markdown",
   "metadata": {},
   "source": [
    "<table style=\"width:100%\">\n",
    "    <thead>\n",
    "        <tr>\n",
    "            <th style=\"width:12%\">IT</th>\n",
    "            <th style=\"width:13%\">Statistics</th>\n",
    "            <th style=\"width:25%\"></th>\n",
    "            <th style=\"width:25%\"></th>\n",
    "            <th style=\"width:25%\"></th>\n",
    "        </tr>\n",
    "    </thead>\n",
    "    <tr>\n",
    "        <td></td>\n",
    "        <td>identifier variables</td>\n",
    "        <td><img src=\"ID.jpg\"></td>\n",
    "        <td></td>\n",
    "        <td></td>\n",
    "    </tr>\n",
    "    <tr>\n",
    "        <td></td>\n",
    "        <td>measure variables</td>\n",
    "        <td><img src=\"measure.jpg\"></td>\n",
    "        <td></td>\n",
    "        <td></td>\n",
    "    </tr>\n",
    "    <tr>\n",
    "        <td>pivot table</td>\n",
    "        <td>cross-table</td>\n",
    "        <td><img src=\"cross-table-1.jpg\"></td>\n",
    "        <td></td>\n",
    "        <td></td>\n",
    "    </tr>\n",
    "    <tr>\n",
    "        <td>pivot table</td>\n",
    "        <td>cross-table (summary)</td>\n",
    "        <td><img src=\"cross-table-2.jpg\"></td>\n",
    "        <td><img src=\"cross-table-3.jpg\"></td>\n",
    "        <td></td>\n",
    "    </tr>\n",
    "    <tr>\n",
    "        <td>pivot table</td>\n",
    "        <td>cross-table (collapsed summary)</td>\n",
    "        <td><img src=\"cross-table-4.jpg\"></td>\n",
    "        <td><img src=\"cross-table-5.jpg\"></td>\n",
    "        <td><img src=\"cross-table-6.jpg\"></td>\n",
    "    </tr>\n",
    "    <tr>\n",
    "        <td>pivot table</td>\n",
    "        <td>cross-table (multi-level)</td>\n",
    "        <td><img src=\"cross-table-7.jpg\"></td>\n",
    "        <td></td>\n",
    "        <td></td>\n",
    "    </tr>\n",
    "</table>"
   ]
  },
  {
   "cell_type": "markdown",
   "metadata": {},
   "source": [
    "## Data\n",
    "\n",
    "Consider the following pedagogical dataset called `data`."
   ]
  },
  {
   "cell_type": "code",
   "execution_count": 21,
   "metadata": {
    "hideCode": false,
    "hidePrompt": false,
    "hide_input": true,
    "run_control": {
     "marked": false
    }
   },
   "outputs": [
    {
     "data": {
      "text/html": [
       "<table>\n",
       "<caption><center><font color=\"black\"><b>data</b></font></center></caption>\n",
       " <thead>\n",
       "  <tr>\n",
       "   <th style=\"text-align:right;background-color: #FFFFFF !important;\"> date </th>\n",
       "   <th style=\"text-align:right;background-color: #FFFFFF !important;\"> month </th>\n",
       "   <th style=\"text-align:right;background-color: #FFFFFF !important;\"> dow </th>\n",
       "   <th style=\"text-align:right;background-color: #FFFFFF !important;\"> x1 </th>\n",
       "   <th style=\"text-align:right;background-color: #FFFFFF !important;\"> x2 </th>\n",
       "   <th style=\"text-align:right;background-color: #FFFFFF !important;\"> x3 </th>\n",
       "  </tr>\n",
       " </thead>\n",
       "<tbody>\n",
       "  <tr>\n",
       "   <td style=\"text-align:right;\"> 2020-12-18 </td>\n",
       "   <td style=\"text-align:right;\"> December </td>\n",
       "   <td style=\"text-align:right;\"> Friday </td>\n",
       "   <td style=\"text-align:right;\"> 1.0 </td>\n",
       "   <td style=\"text-align:right;\"> 9.5 </td>\n",
       "   <td style=\"text-align:right;\"> 9.5 </td>\n",
       "  </tr>\n",
       "  <tr>\n",
       "   <td style=\"text-align:right;\"> 2020-12-19 </td>\n",
       "   <td style=\"text-align:right;\"> December </td>\n",
       "   <td style=\"text-align:right;\"> Saturday </td>\n",
       "   <td style=\"text-align:right;\"> 3.0 </td>\n",
       "   <td style=\"text-align:right;\"> 9.5 </td>\n",
       "   <td style=\"text-align:right;\"> 9.5 </td>\n",
       "  </tr>\n",
       "  <tr>\n",
       "   <td style=\"text-align:right;\"> 2020-12-20 </td>\n",
       "   <td style=\"text-align:right;\"> December </td>\n",
       "   <td style=\"text-align:right;\"> Sunday </td>\n",
       "   <td style=\"text-align:right;\"> 8.0 </td>\n",
       "   <td style=\"text-align:right;\"> 10.0 </td>\n",
       "   <td style=\"text-align:right;\"> 10.0 </td>\n",
       "  </tr>\n",
       "  <tr>\n",
       "   <td style=\"text-align:right;\"> 2020-12-21 </td>\n",
       "   <td style=\"text-align:right;\"> December </td>\n",
       "   <td style=\"text-align:right;\"> Monday </td>\n",
       "   <td style=\"text-align:right;\"> 2.5 </td>\n",
       "   <td style=\"text-align:right;\"> 9.0 </td>\n",
       "   <td style=\"text-align:right;\"> 9.0 </td>\n",
       "  </tr>\n",
       "  <tr>\n",
       "   <td style=\"text-align:right;\"> 2020-12-22 </td>\n",
       "   <td style=\"text-align:right;\"> December </td>\n",
       "   <td style=\"text-align:right;\"> Tuesday </td>\n",
       "   <td style=\"text-align:right;\"> 1.0 </td>\n",
       "   <td style=\"text-align:right;\"> 9.5 </td>\n",
       "   <td style=\"text-align:right;\"> 12.0 </td>\n",
       "  </tr>\n",
       "  <tr>\n",
       "   <td style=\"text-align:right;\"> 2020-12-23 </td>\n",
       "   <td style=\"text-align:right;\"> December </td>\n",
       "   <td style=\"text-align:right;\"> Wednesday </td>\n",
       "   <td style=\"text-align:right;\"> 3.0 </td>\n",
       "   <td style=\"text-align:right;\"> 9.5 </td>\n",
       "   <td style=\"text-align:right;\"> 11.0 </td>\n",
       "  </tr>\n",
       "  <tr>\n",
       "   <td style=\"text-align:right;\"> 2020-12-24 </td>\n",
       "   <td style=\"text-align:right;\"> December </td>\n",
       "   <td style=\"text-align:right;\"> Thursday </td>\n",
       "   <td style=\"text-align:right;\"> 8.0 </td>\n",
       "   <td style=\"text-align:right;\"> 10.0 </td>\n",
       "   <td style=\"text-align:right;\"> 2.0 </td>\n",
       "  </tr>\n",
       "  <tr>\n",
       "   <td style=\"text-align:right;\"> 2020-12-25 </td>\n",
       "   <td style=\"text-align:right;\"> December </td>\n",
       "   <td style=\"text-align:right;\"> Friday </td>\n",
       "   <td style=\"text-align:right;\"> 2.5 </td>\n",
       "   <td style=\"text-align:right;\"> 9.0 </td>\n",
       "   <td style=\"text-align:right;\"> 9.0 </td>\n",
       "  </tr>\n",
       "  <tr>\n",
       "   <td style=\"text-align:right;\"> 2020-12-26 </td>\n",
       "   <td style=\"text-align:right;\"> December </td>\n",
       "   <td style=\"text-align:right;\"> Saturday </td>\n",
       "   <td style=\"text-align:right;\"> 2.0 </td>\n",
       "   <td style=\"text-align:right;\"> 9.6 </td>\n",
       "   <td style=\"text-align:right;\"> 10.0 </td>\n",
       "  </tr>\n",
       "  <tr>\n",
       "   <td style=\"text-align:right;\"> 2020-12-27 </td>\n",
       "   <td style=\"text-align:right;\"> December </td>\n",
       "   <td style=\"text-align:right;\"> Sunday </td>\n",
       "   <td style=\"text-align:right;\"> 9.0 </td>\n",
       "   <td style=\"text-align:right;\"> 10.3 </td>\n",
       "   <td style=\"text-align:right;\"> 1.0 </td>\n",
       "  </tr>\n",
       "  <tr>\n",
       "   <td style=\"text-align:right;\"> 2020-12-28 </td>\n",
       "   <td style=\"text-align:right;\"> December </td>\n",
       "   <td style=\"text-align:right;\"> Monday </td>\n",
       "   <td style=\"text-align:right;\"> 6.5 </td>\n",
       "   <td style=\"text-align:right;\"> 11.0 </td>\n",
       "   <td style=\"text-align:right;\"> 2.0 </td>\n",
       "  </tr>\n",
       "  <tr>\n",
       "   <td style=\"text-align:right;\"> 2020-12-29 </td>\n",
       "   <td style=\"text-align:right;\"> December </td>\n",
       "   <td style=\"text-align:right;\"> Tuesday </td>\n",
       "   <td style=\"text-align:right;\"> 8.0 </td>\n",
       "   <td style=\"text-align:right;\"> 2.5 </td>\n",
       "   <td style=\"text-align:right;\"> 1.5 </td>\n",
       "  </tr>\n",
       "  <tr>\n",
       "   <td style=\"text-align:right;\"> 2020-12-30 </td>\n",
       "   <td style=\"text-align:right;\"> December </td>\n",
       "   <td style=\"text-align:right;\"> Wednesday </td>\n",
       "   <td style=\"text-align:right;\"> 4.0 </td>\n",
       "   <td style=\"text-align:right;\"> 8.5 </td>\n",
       "   <td style=\"text-align:right;\"> 10.5 </td>\n",
       "  </tr>\n",
       "  <tr>\n",
       "   <td style=\"text-align:right;\"> 2020-12-31 </td>\n",
       "   <td style=\"text-align:right;\"> December </td>\n",
       "   <td style=\"text-align:right;\"> Thursday </td>\n",
       "   <td style=\"text-align:right;\"> 7.2 </td>\n",
       "   <td style=\"text-align:right;\"> 8.0 </td>\n",
       "   <td style=\"text-align:right;\"> 10.7 </td>\n",
       "  </tr>\n",
       "  <tr>\n",
       "   <td style=\"text-align:right;\"> 2021-01-01 </td>\n",
       "   <td style=\"text-align:right;\"> January </td>\n",
       "   <td style=\"text-align:right;\"> Friday </td>\n",
       "   <td style=\"text-align:right;\"> 10.5 </td>\n",
       "   <td style=\"text-align:right;\"> 7.5 </td>\n",
       "   <td style=\"text-align:right;\"> 11.0 </td>\n",
       "  </tr>\n",
       "  <tr>\n",
       "   <td style=\"text-align:right;\"> 2021-01-02 </td>\n",
       "   <td style=\"text-align:right;\"> January </td>\n",
       "   <td style=\"text-align:right;\"> Saturday </td>\n",
       "   <td style=\"text-align:right;\"> 3.0 </td>\n",
       "   <td style=\"text-align:right;\"> 3.0 </td>\n",
       "   <td style=\"text-align:right;\"> 3.0 </td>\n",
       "  </tr>\n",
       "  <tr>\n",
       "   <td style=\"text-align:right;\"> 2021-01-03 </td>\n",
       "   <td style=\"text-align:right;\"> January </td>\n",
       "   <td style=\"text-align:right;\"> Sunday </td>\n",
       "   <td style=\"text-align:right;\"> 23.0 </td>\n",
       "   <td style=\"text-align:right;\"> 23.0 </td>\n",
       "   <td style=\"text-align:right;\"> 23.0 </td>\n",
       "  </tr>\n",
       "  <tr>\n",
       "   <td style=\"text-align:right;\"> 2021-01-04 </td>\n",
       "   <td style=\"text-align:right;\"> January </td>\n",
       "   <td style=\"text-align:right;\"> Monday </td>\n",
       "   <td style=\"text-align:right;\"> 12.0 </td>\n",
       "   <td style=\"text-align:right;\"> 12.0 </td>\n",
       "   <td style=\"text-align:right;\"> 12.0 </td>\n",
       "  </tr>\n",
       "  <tr>\n",
       "   <td style=\"text-align:right;\"> 2021-01-05 </td>\n",
       "   <td style=\"text-align:right;\"> January </td>\n",
       "   <td style=\"text-align:right;\"> Tuesday </td>\n",
       "   <td style=\"text-align:right;\"> 20.0 </td>\n",
       "   <td style=\"text-align:right;\"> 20.0 </td>\n",
       "   <td style=\"text-align:right;\"> 20.0 </td>\n",
       "  </tr>\n",
       "  <tr>\n",
       "   <td style=\"text-align:right;\"> 2021-01-06 </td>\n",
       "   <td style=\"text-align:right;\"> January </td>\n",
       "   <td style=\"text-align:right;\"> Wednesday </td>\n",
       "   <td style=\"text-align:right;\"> 14.0 </td>\n",
       "   <td style=\"text-align:right;\"> 10.0 </td>\n",
       "   <td style=\"text-align:right;\"> 15.0 </td>\n",
       "  </tr>\n",
       "  <tr>\n",
       "   <td style=\"text-align:right;\"> 2021-01-07 </td>\n",
       "   <td style=\"text-align:right;\"> January </td>\n",
       "   <td style=\"text-align:right;\"> Thursday </td>\n",
       "   <td style=\"text-align:right;\"> 15.0 </td>\n",
       "   <td style=\"text-align:right;\"> 11.0 </td>\n",
       "   <td style=\"text-align:right;\"> 12.0 </td>\n",
       "  </tr>\n",
       "</tbody>\n",
       "</table>"
      ]
     },
     "metadata": {},
     "output_type": "display_data"
    }
   ],
   "source": [
    "data = data.frame(date=c(\"2020-12-18\",\"2020-12-19\",\"2020-12-20\", \"2020-12-21\", \"2020-12-22\",\"2020-12-23\",\"2020-12-24\", \"2020-12-25\",\"2020-12-26\",\"2020-12-27\",\"2020-12-28\",\"2020-12-29\",\"2020-12-30\",\"2020-12-31\",\"2021-01-01\",\"2021-01-02\",\"2021-01-03\",\"2021-01-04\",\"2021-01-05\",\"2021-01-06\",\"2021-01-07\"),\n",
    "                  month=c(\"December\", \"December\", \"December\", \"December\", \"December\", \"December\", \"December\", \"December\", \"December\", \"December\", \"December\", \"December\", \"December\", \"December\", \"January\", \"January\", \"January\", \"January\", \"January\", \"January\", \"January\"),\n",
    "                  dow=c(\"Friday\", \"Saturday\", \"Sunday\", \"Monday\", \"Tuesday\", \"Wednesday\", \"Thursday\", \"Friday\", \"Saturday\", \"Sunday\", \"Monday\", \"Tuesday\", \"Wednesday\", \"Thursday\", \"Friday\", \"Saturday\", \"Sunday\", \"Monday\", \"Tuesday\", \"Wednesday\", \"Thursday\"),\n",
    "                  x1=c(1, 3, 8, 2.5, 1, 3, 8, 2.5, 2, 9, 6.5, 8, 4, 7.2, 10.5, 3, 23, 12, 20, 14, 15),\n",
    "                  x2=c(9.5, 9.5, 10, 9, 9.5, 9.5, 10, 9, 9.6, 10.3, 11, 2.5, 8.5, 8, 7.5, 3, 23, 12, 20, 10, 11),\n",
    "                  x3=c(9.5, 9.5, 10, 9, 12, 11, 2, 9, 10, 1, 2, 1.5, 10.5, 10.7, 11, 3, 23, 12, 20, 15, 12))\n",
    "fmt(data)"
   ]
  },
  {
   "cell_type": "markdown",
   "metadata": {},
   "source": [
    "## Dataset to Aggregate Table\n",
    "\n",
    "An aggregate table is a special case of a cross-table.  Specify which variables have values to be used as row names in the new aggregate table. Specify which variable to be used as column in the new aggregate table. \n",
    "\n",
    "_In R, you can use the **aggregate** function to do this. The row and column specifications can be indicated with the `~` operator which does not require column names to be enclosed in quotes._"
   ]
  },
  {
   "cell_type": "code",
   "execution_count": 44,
   "metadata": {},
   "outputs": [
    {
     "data": {
      "text/html": [
       "<table>\n",
       "<thead><tr><th scope=col>month</th><th scope=col>x1</th></tr></thead>\n",
       "<tbody>\n",
       "\t<tr><td>December </td><td> 4.692857</td></tr>\n",
       "\t<tr><td>January  </td><td>13.928571</td></tr>\n",
       "</tbody>\n",
       "</table>\n"
      ],
      "text/latex": [
       "\\begin{tabular}{r|ll}\n",
       " month & x1\\\\\n",
       "\\hline\n",
       "\t December  &  4.692857\\\\\n",
       "\t January   & 13.928571\\\\\n",
       "\\end{tabular}\n"
      ],
      "text/markdown": [
       "\n",
       "| month | x1 |\n",
       "|---|---|\n",
       "| December  |  4.692857 |\n",
       "| January   | 13.928571 |\n",
       "\n"
      ],
      "text/plain": [
       "  month    x1       \n",
       "1 December  4.692857\n",
       "2 January  13.928571"
      ]
     },
     "metadata": {},
     "output_type": "display_data"
    }
   ],
   "source": [
    "aggregate(x1 ~ month, data, mean)"
   ]
  },
  {
   "cell_type": "code",
   "execution_count": 23,
   "metadata": {},
   "outputs": [
    {
     "data": {
      "text/html": [
       "<table>\n",
       "<thead><tr><th scope=col>dow</th><th scope=col>x1</th></tr></thead>\n",
       "<tbody>\n",
       "\t<tr><td>Friday   </td><td> 4.666667</td></tr>\n",
       "\t<tr><td>Monday   </td><td> 7.000000</td></tr>\n",
       "\t<tr><td>Saturday </td><td> 2.666667</td></tr>\n",
       "\t<tr><td>Sunday   </td><td>13.333333</td></tr>\n",
       "\t<tr><td>Thursday </td><td>10.066667</td></tr>\n",
       "\t<tr><td>Tuesday  </td><td> 9.666667</td></tr>\n",
       "\t<tr><td>Wednesday</td><td> 7.000000</td></tr>\n",
       "</tbody>\n",
       "</table>\n"
      ],
      "text/latex": [
       "\\begin{tabular}{r|ll}\n",
       " dow & x1\\\\\n",
       "\\hline\n",
       "\t Friday    &  4.666667\\\\\n",
       "\t Monday    &  7.000000\\\\\n",
       "\t Saturday  &  2.666667\\\\\n",
       "\t Sunday    & 13.333333\\\\\n",
       "\t Thursday  & 10.066667\\\\\n",
       "\t Tuesday   &  9.666667\\\\\n",
       "\t Wednesday &  7.000000\\\\\n",
       "\\end{tabular}\n"
      ],
      "text/markdown": [
       "\n",
       "| dow | x1 |\n",
       "|---|---|\n",
       "| Friday    |  4.666667 |\n",
       "| Monday    |  7.000000 |\n",
       "| Saturday  |  2.666667 |\n",
       "| Sunday    | 13.333333 |\n",
       "| Thursday  | 10.066667 |\n",
       "| Tuesday   |  9.666667 |\n",
       "| Wednesday |  7.000000 |\n",
       "\n"
      ],
      "text/plain": [
       "  dow       x1       \n",
       "1 Friday     4.666667\n",
       "2 Monday     7.000000\n",
       "3 Saturday   2.666667\n",
       "4 Sunday    13.333333\n",
       "5 Thursday  10.066667\n",
       "6 Tuesday    9.666667\n",
       "7 Wednesday  7.000000"
      ]
     },
     "metadata": {},
     "output_type": "display_data"
    }
   ],
   "source": [
    "aggregate(x1 ~ dow, data, mean)"
   ]
  },
  {
   "cell_type": "code",
   "execution_count": 24,
   "metadata": {},
   "outputs": [
    {
     "data": {
      "text/html": [
       "<table>\n",
       "<thead><tr><th scope=col>month</th><th scope=col>dow</th><th scope=col>x1</th></tr></thead>\n",
       "<tbody>\n",
       "\t<tr><td>December </td><td>Friday   </td><td> 1.75    </td></tr>\n",
       "\t<tr><td>January  </td><td>Friday   </td><td>10.50    </td></tr>\n",
       "\t<tr><td>December </td><td>Monday   </td><td> 4.50    </td></tr>\n",
       "\t<tr><td>January  </td><td>Monday   </td><td>12.00    </td></tr>\n",
       "\t<tr><td>December </td><td>Saturday </td><td> 2.50    </td></tr>\n",
       "\t<tr><td>January  </td><td>Saturday </td><td> 3.00    </td></tr>\n",
       "\t<tr><td>December </td><td>Sunday   </td><td> 8.50    </td></tr>\n",
       "\t<tr><td>January  </td><td>Sunday   </td><td>23.00    </td></tr>\n",
       "\t<tr><td>December </td><td>Thursday </td><td> 7.60    </td></tr>\n",
       "\t<tr><td>January  </td><td>Thursday </td><td>15.00    </td></tr>\n",
       "\t<tr><td>December </td><td>Tuesday  </td><td> 4.50    </td></tr>\n",
       "\t<tr><td>January  </td><td>Tuesday  </td><td>20.00    </td></tr>\n",
       "\t<tr><td>December </td><td>Wednesday</td><td> 3.50    </td></tr>\n",
       "\t<tr><td>January  </td><td>Wednesday</td><td>14.00    </td></tr>\n",
       "</tbody>\n",
       "</table>\n"
      ],
      "text/latex": [
       "\\begin{tabular}{r|lll}\n",
       " month & dow & x1\\\\\n",
       "\\hline\n",
       "\t December  & Friday    &  1.75    \\\\\n",
       "\t January   & Friday    & 10.50    \\\\\n",
       "\t December  & Monday    &  4.50    \\\\\n",
       "\t January   & Monday    & 12.00    \\\\\n",
       "\t December  & Saturday  &  2.50    \\\\\n",
       "\t January   & Saturday  &  3.00    \\\\\n",
       "\t December  & Sunday    &  8.50    \\\\\n",
       "\t January   & Sunday    & 23.00    \\\\\n",
       "\t December  & Thursday  &  7.60    \\\\\n",
       "\t January   & Thursday  & 15.00    \\\\\n",
       "\t December  & Tuesday   &  4.50    \\\\\n",
       "\t January   & Tuesday   & 20.00    \\\\\n",
       "\t December  & Wednesday &  3.50    \\\\\n",
       "\t January   & Wednesday & 14.00    \\\\\n",
       "\\end{tabular}\n"
      ],
      "text/markdown": [
       "\n",
       "| month | dow | x1 |\n",
       "|---|---|---|\n",
       "| December  | Friday    |  1.75     |\n",
       "| January   | Friday    | 10.50     |\n",
       "| December  | Monday    |  4.50     |\n",
       "| January   | Monday    | 12.00     |\n",
       "| December  | Saturday  |  2.50     |\n",
       "| January   | Saturday  |  3.00     |\n",
       "| December  | Sunday    |  8.50     |\n",
       "| January   | Sunday    | 23.00     |\n",
       "| December  | Thursday  |  7.60     |\n",
       "| January   | Thursday  | 15.00     |\n",
       "| December  | Tuesday   |  4.50     |\n",
       "| January   | Tuesday   | 20.00     |\n",
       "| December  | Wednesday |  3.50     |\n",
       "| January   | Wednesday | 14.00     |\n",
       "\n"
      ],
      "text/plain": [
       "   month    dow       x1   \n",
       "1  December Friday     1.75\n",
       "2  January  Friday    10.50\n",
       "3  December Monday     4.50\n",
       "4  January  Monday    12.00\n",
       "5  December Saturday   2.50\n",
       "6  January  Saturday   3.00\n",
       "7  December Sunday     8.50\n",
       "8  January  Sunday    23.00\n",
       "9  December Thursday   7.60\n",
       "10 January  Thursday  15.00\n",
       "11 December Tuesday    4.50\n",
       "12 January  Tuesday   20.00\n",
       "13 December Wednesday  3.50\n",
       "14 January  Wednesday 14.00"
      ]
     },
     "metadata": {},
     "output_type": "display_data"
    }
   ],
   "source": [
    "aggregate(x1 ~ month+dow, data, mean)"
   ]
  },
  {
   "cell_type": "code",
   "execution_count": 25,
   "metadata": {},
   "outputs": [
    {
     "data": {
      "text/html": [
       "<table>\n",
       "<thead><tr><th scope=col>dow</th><th scope=col>month</th><th scope=col>x1</th></tr></thead>\n",
       "<tbody>\n",
       "\t<tr><td>Friday   </td><td>December </td><td> 1.75    </td></tr>\n",
       "\t<tr><td>Monday   </td><td>December </td><td> 4.50    </td></tr>\n",
       "\t<tr><td>Saturday </td><td>December </td><td> 2.50    </td></tr>\n",
       "\t<tr><td>Sunday   </td><td>December </td><td> 8.50    </td></tr>\n",
       "\t<tr><td>Thursday </td><td>December </td><td> 7.60    </td></tr>\n",
       "\t<tr><td>Tuesday  </td><td>December </td><td> 4.50    </td></tr>\n",
       "\t<tr><td>Wednesday</td><td>December </td><td> 3.50    </td></tr>\n",
       "\t<tr><td>Friday   </td><td>January  </td><td>10.50    </td></tr>\n",
       "\t<tr><td>Monday   </td><td>January  </td><td>12.00    </td></tr>\n",
       "\t<tr><td>Saturday </td><td>January  </td><td> 3.00    </td></tr>\n",
       "\t<tr><td>Sunday   </td><td>January  </td><td>23.00    </td></tr>\n",
       "\t<tr><td>Thursday </td><td>January  </td><td>15.00    </td></tr>\n",
       "\t<tr><td>Tuesday  </td><td>January  </td><td>20.00    </td></tr>\n",
       "\t<tr><td>Wednesday</td><td>January  </td><td>14.00    </td></tr>\n",
       "</tbody>\n",
       "</table>\n"
      ],
      "text/latex": [
       "\\begin{tabular}{r|lll}\n",
       " dow & month & x1\\\\\n",
       "\\hline\n",
       "\t Friday    & December  &  1.75    \\\\\n",
       "\t Monday    & December  &  4.50    \\\\\n",
       "\t Saturday  & December  &  2.50    \\\\\n",
       "\t Sunday    & December  &  8.50    \\\\\n",
       "\t Thursday  & December  &  7.60    \\\\\n",
       "\t Tuesday   & December  &  4.50    \\\\\n",
       "\t Wednesday & December  &  3.50    \\\\\n",
       "\t Friday    & January   & 10.50    \\\\\n",
       "\t Monday    & January   & 12.00    \\\\\n",
       "\t Saturday  & January   &  3.00    \\\\\n",
       "\t Sunday    & January   & 23.00    \\\\\n",
       "\t Thursday  & January   & 15.00    \\\\\n",
       "\t Tuesday   & January   & 20.00    \\\\\n",
       "\t Wednesday & January   & 14.00    \\\\\n",
       "\\end{tabular}\n"
      ],
      "text/markdown": [
       "\n",
       "| dow | month | x1 |\n",
       "|---|---|---|\n",
       "| Friday    | December  |  1.75     |\n",
       "| Monday    | December  |  4.50     |\n",
       "| Saturday  | December  |  2.50     |\n",
       "| Sunday    | December  |  8.50     |\n",
       "| Thursday  | December  |  7.60     |\n",
       "| Tuesday   | December  |  4.50     |\n",
       "| Wednesday | December  |  3.50     |\n",
       "| Friday    | January   | 10.50     |\n",
       "| Monday    | January   | 12.00     |\n",
       "| Saturday  | January   |  3.00     |\n",
       "| Sunday    | January   | 23.00     |\n",
       "| Thursday  | January   | 15.00     |\n",
       "| Tuesday   | January   | 20.00     |\n",
       "| Wednesday | January   | 14.00     |\n",
       "\n"
      ],
      "text/plain": [
       "   dow       month    x1   \n",
       "1  Friday    December  1.75\n",
       "2  Monday    December  4.50\n",
       "3  Saturday  December  2.50\n",
       "4  Sunday    December  8.50\n",
       "5  Thursday  December  7.60\n",
       "6  Tuesday   December  4.50\n",
       "7  Wednesday December  3.50\n",
       "8  Friday    January  10.50\n",
       "9  Monday    January  12.00\n",
       "10 Saturday  January   3.00\n",
       "11 Sunday    January  23.00\n",
       "12 Thursday  January  15.00\n",
       "13 Tuesday   January  20.00\n",
       "14 Wednesday January  14.00"
      ]
     },
     "metadata": {},
     "output_type": "display_data"
    }
   ],
   "source": [
    "aggregate(x1 ~ dow+month, data, mean)"
   ]
  },
  {
   "cell_type": "markdown",
   "metadata": {
    "hide_input": false
   },
   "source": [
    "## Dataset to Cross-Table"
   ]
  },
  {
   "cell_type": "markdown",
   "metadata": {},
   "source": [
    "### Step 1: Convert Dataset to Long Table\n",
    "\n",
    "From the dataset, determine the identifier variables and measure variables:\n",
    "\n",
    "* Which variables will not be used in the cross-table?  Remove these variables.\n",
    "* Which variables have values that will be used as row names or column names in the cross table?  Treat these as _identifier_ variables, too.\n",
    "* Which variables have names that will be used as row names or column names in the cross table?  Treat these as _measure_ variables.\n",
    "\n",
    "In the new long table, the column names comprise the identifier variable names and two new columns called `variable` and `value`.  The columns named after identifier variables are populated with the corresponding identifier variable values, but repeated as necessary.  The `variable` column is populated with measure variable names, repeated as necessary.  The `value` column is populated with measure variable values, arranged as appropriate.\n",
    "\n",
    "_In R, you can use the **melt** function to do this.  The **id.vars** parameter name can be abbreviated to **id**.  The **measure.vars** parameter can be omitted; if so, it will treat all remaining variables as measure variables._"
   ]
  },
  {
   "cell_type": "code",
   "execution_count": 30,
   "metadata": {
    "hide_input": false,
    "scrolled": true
   },
   "outputs": [
    {
     "data": {
      "text/html": [
       "<table>\n",
       "<thead><tr><th scope=col>month</th><th scope=col>dow</th><th scope=col>variable</th><th scope=col>value</th></tr></thead>\n",
       "<tbody>\n",
       "\t<tr><td>December </td><td>Friday   </td><td>x1       </td><td> 1.0     </td></tr>\n",
       "\t<tr><td>December </td><td>Saturday </td><td>x1       </td><td> 3.0     </td></tr>\n",
       "\t<tr><td>December </td><td>Sunday   </td><td>x1       </td><td> 8.0     </td></tr>\n",
       "\t<tr><td>December </td><td>Monday   </td><td>x1       </td><td> 2.5     </td></tr>\n",
       "\t<tr><td>December </td><td>Tuesday  </td><td>x1       </td><td> 1.0     </td></tr>\n",
       "\t<tr><td>December </td><td>Wednesday</td><td>x1       </td><td> 3.0     </td></tr>\n",
       "\t<tr><td>December </td><td>Thursday </td><td>x1       </td><td> 8.0     </td></tr>\n",
       "\t<tr><td>December </td><td>Friday   </td><td>x1       </td><td> 2.5     </td></tr>\n",
       "\t<tr><td>December </td><td>Saturday </td><td>x1       </td><td> 2.0     </td></tr>\n",
       "\t<tr><td>December </td><td>Sunday   </td><td>x1       </td><td> 9.0     </td></tr>\n",
       "\t<tr><td>December </td><td>Monday   </td><td>x1       </td><td> 6.5     </td></tr>\n",
       "\t<tr><td>December </td><td>Tuesday  </td><td>x1       </td><td> 8.0     </td></tr>\n",
       "\t<tr><td>December </td><td>Wednesday</td><td>x1       </td><td> 4.0     </td></tr>\n",
       "\t<tr><td>December </td><td>Thursday </td><td>x1       </td><td> 7.2     </td></tr>\n",
       "\t<tr><td>January  </td><td>Friday   </td><td>x1       </td><td>10.5     </td></tr>\n",
       "\t<tr><td>January  </td><td>Saturday </td><td>x1       </td><td> 3.0     </td></tr>\n",
       "\t<tr><td>January  </td><td>Sunday   </td><td>x1       </td><td>23.0     </td></tr>\n",
       "\t<tr><td>January  </td><td>Monday   </td><td>x1       </td><td>12.0     </td></tr>\n",
       "\t<tr><td>January  </td><td>Tuesday  </td><td>x1       </td><td>20.0     </td></tr>\n",
       "\t<tr><td>January  </td><td>Wednesday</td><td>x1       </td><td>14.0     </td></tr>\n",
       "\t<tr><td>January  </td><td>Thursday </td><td>x1       </td><td>15.0     </td></tr>\n",
       "\t<tr><td>December </td><td>Friday   </td><td>x2       </td><td> 9.5     </td></tr>\n",
       "\t<tr><td>December </td><td>Saturday </td><td>x2       </td><td> 9.5     </td></tr>\n",
       "\t<tr><td>December </td><td>Sunday   </td><td>x2       </td><td>10.0     </td></tr>\n",
       "\t<tr><td>December </td><td>Monday   </td><td>x2       </td><td> 9.0     </td></tr>\n",
       "\t<tr><td>December </td><td>Tuesday  </td><td>x2       </td><td> 9.5     </td></tr>\n",
       "\t<tr><td>December </td><td>Wednesday</td><td>x2       </td><td> 9.5     </td></tr>\n",
       "\t<tr><td>December </td><td>Thursday </td><td>x2       </td><td>10.0     </td></tr>\n",
       "\t<tr><td>December </td><td>Friday   </td><td>x2       </td><td> 9.0     </td></tr>\n",
       "\t<tr><td>December </td><td>Saturday </td><td>x2       </td><td> 9.6     </td></tr>\n",
       "\t<tr><td>...</td><td>...</td><td>...</td><td>...</td></tr>\n",
       "\t<tr><td>December </td><td>Wednesday</td><td>x2       </td><td> 8.5     </td></tr>\n",
       "\t<tr><td>December </td><td>Thursday </td><td>x2       </td><td> 8.0     </td></tr>\n",
       "\t<tr><td>January  </td><td>Friday   </td><td>x2       </td><td> 7.5     </td></tr>\n",
       "\t<tr><td>January  </td><td>Saturday </td><td>x2       </td><td> 3.0     </td></tr>\n",
       "\t<tr><td>January  </td><td>Sunday   </td><td>x2       </td><td>23.0     </td></tr>\n",
       "\t<tr><td>January  </td><td>Monday   </td><td>x2       </td><td>12.0     </td></tr>\n",
       "\t<tr><td>January  </td><td>Tuesday  </td><td>x2       </td><td>20.0     </td></tr>\n",
       "\t<tr><td>January  </td><td>Wednesday</td><td>x2       </td><td>10.0     </td></tr>\n",
       "\t<tr><td>January  </td><td>Thursday </td><td>x2       </td><td>11.0     </td></tr>\n",
       "\t<tr><td>December </td><td>Friday   </td><td>x3       </td><td> 9.5     </td></tr>\n",
       "\t<tr><td>December </td><td>Saturday </td><td>x3       </td><td> 9.5     </td></tr>\n",
       "\t<tr><td>December </td><td>Sunday   </td><td>x3       </td><td>10.0     </td></tr>\n",
       "\t<tr><td>December </td><td>Monday   </td><td>x3       </td><td> 9.0     </td></tr>\n",
       "\t<tr><td>December </td><td>Tuesday  </td><td>x3       </td><td>12.0     </td></tr>\n",
       "\t<tr><td>December </td><td>Wednesday</td><td>x3       </td><td>11.0     </td></tr>\n",
       "\t<tr><td>December </td><td>Thursday </td><td>x3       </td><td> 2.0     </td></tr>\n",
       "\t<tr><td>December </td><td>Friday   </td><td>x3       </td><td> 9.0     </td></tr>\n",
       "\t<tr><td>December </td><td>Saturday </td><td>x3       </td><td>10.0     </td></tr>\n",
       "\t<tr><td>December </td><td>Sunday   </td><td>x3       </td><td> 1.0     </td></tr>\n",
       "\t<tr><td>December </td><td>Monday   </td><td>x3       </td><td> 2.0     </td></tr>\n",
       "\t<tr><td>December </td><td>Tuesday  </td><td>x3       </td><td> 1.5     </td></tr>\n",
       "\t<tr><td>December </td><td>Wednesday</td><td>x3       </td><td>10.5     </td></tr>\n",
       "\t<tr><td>December </td><td>Thursday </td><td>x3       </td><td>10.7     </td></tr>\n",
       "\t<tr><td>January  </td><td>Friday   </td><td>x3       </td><td>11.0     </td></tr>\n",
       "\t<tr><td>January  </td><td>Saturday </td><td>x3       </td><td> 3.0     </td></tr>\n",
       "\t<tr><td>January  </td><td>Sunday   </td><td>x3       </td><td>23.0     </td></tr>\n",
       "\t<tr><td>January  </td><td>Monday   </td><td>x3       </td><td>12.0     </td></tr>\n",
       "\t<tr><td>January  </td><td>Tuesday  </td><td>x3       </td><td>20.0     </td></tr>\n",
       "\t<tr><td>January  </td><td>Wednesday</td><td>x3       </td><td>15.0     </td></tr>\n",
       "\t<tr><td>January  </td><td>Thursday </td><td>x3       </td><td>12.0     </td></tr>\n",
       "</tbody>\n",
       "</table>\n"
      ],
      "text/latex": [
       "\\begin{tabular}{r|llll}\n",
       " month & dow & variable & value\\\\\n",
       "\\hline\n",
       "\t December  & Friday    & x1        &  1.0     \\\\\n",
       "\t December  & Saturday  & x1        &  3.0     \\\\\n",
       "\t December  & Sunday    & x1        &  8.0     \\\\\n",
       "\t December  & Monday    & x1        &  2.5     \\\\\n",
       "\t December  & Tuesday   & x1        &  1.0     \\\\\n",
       "\t December  & Wednesday & x1        &  3.0     \\\\\n",
       "\t December  & Thursday  & x1        &  8.0     \\\\\n",
       "\t December  & Friday    & x1        &  2.5     \\\\\n",
       "\t December  & Saturday  & x1        &  2.0     \\\\\n",
       "\t December  & Sunday    & x1        &  9.0     \\\\\n",
       "\t December  & Monday    & x1        &  6.5     \\\\\n",
       "\t December  & Tuesday   & x1        &  8.0     \\\\\n",
       "\t December  & Wednesday & x1        &  4.0     \\\\\n",
       "\t December  & Thursday  & x1        &  7.2     \\\\\n",
       "\t January   & Friday    & x1        & 10.5     \\\\\n",
       "\t January   & Saturday  & x1        &  3.0     \\\\\n",
       "\t January   & Sunday    & x1        & 23.0     \\\\\n",
       "\t January   & Monday    & x1        & 12.0     \\\\\n",
       "\t January   & Tuesday   & x1        & 20.0     \\\\\n",
       "\t January   & Wednesday & x1        & 14.0     \\\\\n",
       "\t January   & Thursday  & x1        & 15.0     \\\\\n",
       "\t December  & Friday    & x2        &  9.5     \\\\\n",
       "\t December  & Saturday  & x2        &  9.5     \\\\\n",
       "\t December  & Sunday    & x2        & 10.0     \\\\\n",
       "\t December  & Monday    & x2        &  9.0     \\\\\n",
       "\t December  & Tuesday   & x2        &  9.5     \\\\\n",
       "\t December  & Wednesday & x2        &  9.5     \\\\\n",
       "\t December  & Thursday  & x2        & 10.0     \\\\\n",
       "\t December  & Friday    & x2        &  9.0     \\\\\n",
       "\t December  & Saturday  & x2        &  9.6     \\\\\n",
       "\t ... & ... & ... & ...\\\\\n",
       "\t December  & Wednesday & x2        &  8.5     \\\\\n",
       "\t December  & Thursday  & x2        &  8.0     \\\\\n",
       "\t January   & Friday    & x2        &  7.5     \\\\\n",
       "\t January   & Saturday  & x2        &  3.0     \\\\\n",
       "\t January   & Sunday    & x2        & 23.0     \\\\\n",
       "\t January   & Monday    & x2        & 12.0     \\\\\n",
       "\t January   & Tuesday   & x2        & 20.0     \\\\\n",
       "\t January   & Wednesday & x2        & 10.0     \\\\\n",
       "\t January   & Thursday  & x2        & 11.0     \\\\\n",
       "\t December  & Friday    & x3        &  9.5     \\\\\n",
       "\t December  & Saturday  & x3        &  9.5     \\\\\n",
       "\t December  & Sunday    & x3        & 10.0     \\\\\n",
       "\t December  & Monday    & x3        &  9.0     \\\\\n",
       "\t December  & Tuesday   & x3        & 12.0     \\\\\n",
       "\t December  & Wednesday & x3        & 11.0     \\\\\n",
       "\t December  & Thursday  & x3        &  2.0     \\\\\n",
       "\t December  & Friday    & x3        &  9.0     \\\\\n",
       "\t December  & Saturday  & x3        & 10.0     \\\\\n",
       "\t December  & Sunday    & x3        &  1.0     \\\\\n",
       "\t December  & Monday    & x3        &  2.0     \\\\\n",
       "\t December  & Tuesday   & x3        &  1.5     \\\\\n",
       "\t December  & Wednesday & x3        & 10.5     \\\\\n",
       "\t December  & Thursday  & x3        & 10.7     \\\\\n",
       "\t January   & Friday    & x3        & 11.0     \\\\\n",
       "\t January   & Saturday  & x3        &  3.0     \\\\\n",
       "\t January   & Sunday    & x3        & 23.0     \\\\\n",
       "\t January   & Monday    & x3        & 12.0     \\\\\n",
       "\t January   & Tuesday   & x3        & 20.0     \\\\\n",
       "\t January   & Wednesday & x3        & 15.0     \\\\\n",
       "\t January   & Thursday  & x3        & 12.0     \\\\\n",
       "\\end{tabular}\n"
      ],
      "text/markdown": [
       "\n",
       "| month | dow | variable | value |\n",
       "|---|---|---|---|\n",
       "| December  | Friday    | x1        |  1.0      |\n",
       "| December  | Saturday  | x1        |  3.0      |\n",
       "| December  | Sunday    | x1        |  8.0      |\n",
       "| December  | Monday    | x1        |  2.5      |\n",
       "| December  | Tuesday   | x1        |  1.0      |\n",
       "| December  | Wednesday | x1        |  3.0      |\n",
       "| December  | Thursday  | x1        |  8.0      |\n",
       "| December  | Friday    | x1        |  2.5      |\n",
       "| December  | Saturday  | x1        |  2.0      |\n",
       "| December  | Sunday    | x1        |  9.0      |\n",
       "| December  | Monday    | x1        |  6.5      |\n",
       "| December  | Tuesday   | x1        |  8.0      |\n",
       "| December  | Wednesday | x1        |  4.0      |\n",
       "| December  | Thursday  | x1        |  7.2      |\n",
       "| January   | Friday    | x1        | 10.5      |\n",
       "| January   | Saturday  | x1        |  3.0      |\n",
       "| January   | Sunday    | x1        | 23.0      |\n",
       "| January   | Monday    | x1        | 12.0      |\n",
       "| January   | Tuesday   | x1        | 20.0      |\n",
       "| January   | Wednesday | x1        | 14.0      |\n",
       "| January   | Thursday  | x1        | 15.0      |\n",
       "| December  | Friday    | x2        |  9.5      |\n",
       "| December  | Saturday  | x2        |  9.5      |\n",
       "| December  | Sunday    | x2        | 10.0      |\n",
       "| December  | Monday    | x2        |  9.0      |\n",
       "| December  | Tuesday   | x2        |  9.5      |\n",
       "| December  | Wednesday | x2        |  9.5      |\n",
       "| December  | Thursday  | x2        | 10.0      |\n",
       "| December  | Friday    | x2        |  9.0      |\n",
       "| December  | Saturday  | x2        |  9.6      |\n",
       "| ... | ... | ... | ... |\n",
       "| December  | Wednesday | x2        |  8.5      |\n",
       "| December  | Thursday  | x2        |  8.0      |\n",
       "| January   | Friday    | x2        |  7.5      |\n",
       "| January   | Saturday  | x2        |  3.0      |\n",
       "| January   | Sunday    | x2        | 23.0      |\n",
       "| January   | Monday    | x2        | 12.0      |\n",
       "| January   | Tuesday   | x2        | 20.0      |\n",
       "| January   | Wednesday | x2        | 10.0      |\n",
       "| January   | Thursday  | x2        | 11.0      |\n",
       "| December  | Friday    | x3        |  9.5      |\n",
       "| December  | Saturday  | x3        |  9.5      |\n",
       "| December  | Sunday    | x3        | 10.0      |\n",
       "| December  | Monday    | x3        |  9.0      |\n",
       "| December  | Tuesday   | x3        | 12.0      |\n",
       "| December  | Wednesday | x3        | 11.0      |\n",
       "| December  | Thursday  | x3        |  2.0      |\n",
       "| December  | Friday    | x3        |  9.0      |\n",
       "| December  | Saturday  | x3        | 10.0      |\n",
       "| December  | Sunday    | x3        |  1.0      |\n",
       "| December  | Monday    | x3        |  2.0      |\n",
       "| December  | Tuesday   | x3        |  1.5      |\n",
       "| December  | Wednesday | x3        | 10.5      |\n",
       "| December  | Thursday  | x3        | 10.7      |\n",
       "| January   | Friday    | x3        | 11.0      |\n",
       "| January   | Saturday  | x3        |  3.0      |\n",
       "| January   | Sunday    | x3        | 23.0      |\n",
       "| January   | Monday    | x3        | 12.0      |\n",
       "| January   | Tuesday   | x3        | 20.0      |\n",
       "| January   | Wednesday | x3        | 15.0      |\n",
       "| January   | Thursday  | x3        | 12.0      |\n",
       "\n"
      ],
      "text/plain": [
       "    month    dow       variable value\n",
       "1   December Friday    x1        1.0 \n",
       "2   December Saturday  x1        3.0 \n",
       "3   December Sunday    x1        8.0 \n",
       "4   December Monday    x1        2.5 \n",
       "5   December Tuesday   x1        1.0 \n",
       "6   December Wednesday x1        3.0 \n",
       "7   December Thursday  x1        8.0 \n",
       "8   December Friday    x1        2.5 \n",
       "9   December Saturday  x1        2.0 \n",
       "10  December Sunday    x1        9.0 \n",
       "11  December Monday    x1        6.5 \n",
       "12  December Tuesday   x1        8.0 \n",
       "13  December Wednesday x1        4.0 \n",
       "14  December Thursday  x1        7.2 \n",
       "15  January  Friday    x1       10.5 \n",
       "16  January  Saturday  x1        3.0 \n",
       "17  January  Sunday    x1       23.0 \n",
       "18  January  Monday    x1       12.0 \n",
       "19  January  Tuesday   x1       20.0 \n",
       "20  January  Wednesday x1       14.0 \n",
       "21  January  Thursday  x1       15.0 \n",
       "22  December Friday    x2        9.5 \n",
       "23  December Saturday  x2        9.5 \n",
       "24  December Sunday    x2       10.0 \n",
       "25  December Monday    x2        9.0 \n",
       "26  December Tuesday   x2        9.5 \n",
       "27  December Wednesday x2        9.5 \n",
       "28  December Thursday  x2       10.0 \n",
       "29  December Friday    x2        9.0 \n",
       "30  December Saturday  x2        9.6 \n",
       "... ...      ...       ...      ...  \n",
       "34  December Wednesday x2        8.5 \n",
       "35  December Thursday  x2        8.0 \n",
       "36  January  Friday    x2        7.5 \n",
       "37  January  Saturday  x2        3.0 \n",
       "38  January  Sunday    x2       23.0 \n",
       "39  January  Monday    x2       12.0 \n",
       "40  January  Tuesday   x2       20.0 \n",
       "41  January  Wednesday x2       10.0 \n",
       "42  January  Thursday  x2       11.0 \n",
       "43  December Friday    x3        9.5 \n",
       "44  December Saturday  x3        9.5 \n",
       "45  December Sunday    x3       10.0 \n",
       "46  December Monday    x3        9.0 \n",
       "47  December Tuesday   x3       12.0 \n",
       "48  December Wednesday x3       11.0 \n",
       "49  December Thursday  x3        2.0 \n",
       "50  December Friday    x3        9.0 \n",
       "51  December Saturday  x3       10.0 \n",
       "52  December Sunday    x3        1.0 \n",
       "53  December Monday    x3        2.0 \n",
       "54  December Tuesday   x3        1.5 \n",
       "55  December Wednesday x3       10.5 \n",
       "56  December Thursday  x3       10.7 \n",
       "57  January  Friday    x3       11.0 \n",
       "58  January  Saturday  x3        3.0 \n",
       "59  January  Sunday    x3       23.0 \n",
       "60  January  Monday    x3       12.0 \n",
       "61  January  Tuesday   x3       20.0 \n",
       "62  January  Wednesday x3       15.0 \n",
       "63  January  Thursday  x3       12.0 "
      ]
     },
     "metadata": {},
     "output_type": "display_data"
    }
   ],
   "source": [
    "data.long = melt(data[2:6], id.vars=c(\"month\", \"dow\"), measure.vars=c(\"x1\",\"x2\",\"x3\"))\n",
    "data.long"
   ]
  },
  {
   "cell_type": "markdown",
   "metadata": {},
   "source": [
    "### Step 2: Convert Long Table to Cross-Table\n",
    "\n",
    "From the long table, form a specification of the cross-table rows and columns:\n",
    "\n",
    "* Which columns do not have values that will be used as row names or column names in the cross-table?  Ignore these columns.\n",
    "* Which columns have values that will be used as row names in the cross-table?  Treat these as cross-table row specifications.\n",
    "* Which columns have values that will be used as column names in the cross-table?  Treat these as cross-table column specifications.\n",
    "* Choose an aggregration function, e.g., sum or mean.\n",
    "\n",
    "In the new cross-table, the row names comprise the unique values of the cross-table row specification, and the column names comprise the unique values of the cross-table column specification, nested if appropriate.  The cross-table is populated with the appropriate `value` column values, aggregated according to the aggregation function. \n",
    "\n",
    "_In R, you can use the **dcast** function to do this.  The row and column specifications can be indicated with the `~` operator which does not require column names to be enclosed in quotes._"
   ]
  },
  {
   "cell_type": "code",
   "execution_count": 31,
   "metadata": {
    "hide_input": false
   },
   "outputs": [
    {
     "data": {
      "text/html": [
       "<table>\n",
       "<thead><tr><th scope=col>variable</th><th scope=col>Friday</th><th scope=col>Monday</th><th scope=col>Saturday</th><th scope=col>Sunday</th><th scope=col>Thursday</th><th scope=col>Tuesday</th><th scope=col>Wednesday</th></tr></thead>\n",
       "<tbody>\n",
       "\t<tr><td>x1       </td><td>4.666667 </td><td> 7.000000</td><td>2.666667 </td><td>13.33333 </td><td>10.066667</td><td> 9.666667</td><td> 7.000000</td></tr>\n",
       "\t<tr><td>x2       </td><td>8.666667 </td><td>10.666667</td><td>7.366667 </td><td>14.43333 </td><td> 9.666667</td><td>10.666667</td><td> 9.333333</td></tr>\n",
       "\t<tr><td>x3       </td><td>9.833333 </td><td> 7.666667</td><td>7.500000 </td><td>11.33333 </td><td> 8.233333</td><td>11.166667</td><td>12.166667</td></tr>\n",
       "</tbody>\n",
       "</table>\n"
      ],
      "text/latex": [
       "\\begin{tabular}{r|llllllll}\n",
       " variable & Friday & Monday & Saturday & Sunday & Thursday & Tuesday & Wednesday\\\\\n",
       "\\hline\n",
       "\t x1        & 4.666667  &  7.000000 & 2.666667  & 13.33333  & 10.066667 &  9.666667 &  7.000000\\\\\n",
       "\t x2        & 8.666667  & 10.666667 & 7.366667  & 14.43333  &  9.666667 & 10.666667 &  9.333333\\\\\n",
       "\t x3        & 9.833333  &  7.666667 & 7.500000  & 11.33333  &  8.233333 & 11.166667 & 12.166667\\\\\n",
       "\\end{tabular}\n"
      ],
      "text/markdown": [
       "\n",
       "| variable | Friday | Monday | Saturday | Sunday | Thursday | Tuesday | Wednesday |\n",
       "|---|---|---|---|---|---|---|---|\n",
       "| x1        | 4.666667  |  7.000000 | 2.666667  | 13.33333  | 10.066667 |  9.666667 |  7.000000 |\n",
       "| x2        | 8.666667  | 10.666667 | 7.366667  | 14.43333  |  9.666667 | 10.666667 |  9.333333 |\n",
       "| x3        | 9.833333  |  7.666667 | 7.500000  | 11.33333  |  8.233333 | 11.166667 | 12.166667 |\n",
       "\n"
      ],
      "text/plain": [
       "  variable Friday   Monday    Saturday Sunday   Thursday  Tuesday   Wednesday\n",
       "1 x1       4.666667  7.000000 2.666667 13.33333 10.066667  9.666667  7.000000\n",
       "2 x2       8.666667 10.666667 7.366667 14.43333  9.666667 10.666667  9.333333\n",
       "3 x3       9.833333  7.666667 7.500000 11.33333  8.233333 11.166667 12.166667"
      ]
     },
     "metadata": {},
     "output_type": "display_data"
    }
   ],
   "source": [
    "# Rows: x1, x2, x3;  Columns: days of the week\n",
    "\n",
    "data.cross = dcast(data.long, variable ~ dow, mean)\n",
    "data.cross"
   ]
  },
  {
   "cell_type": "code",
   "execution_count": 32,
   "metadata": {
    "hide_input": false
   },
   "outputs": [
    {
     "data": {
      "text/html": [
       "<table>\n",
       "<thead><tr><th scope=col>dow</th><th scope=col>x1</th><th scope=col>x2</th><th scope=col>x3</th></tr></thead>\n",
       "<tbody>\n",
       "\t<tr><td>Friday   </td><td> 4.666667</td><td> 8.666667</td><td> 9.833333</td></tr>\n",
       "\t<tr><td>Monday   </td><td> 7.000000</td><td>10.666667</td><td> 7.666667</td></tr>\n",
       "\t<tr><td>Saturday </td><td> 2.666667</td><td> 7.366667</td><td> 7.500000</td></tr>\n",
       "\t<tr><td>Sunday   </td><td>13.333333</td><td>14.433333</td><td>11.333333</td></tr>\n",
       "\t<tr><td>Thursday </td><td>10.066667</td><td> 9.666667</td><td> 8.233333</td></tr>\n",
       "\t<tr><td>Tuesday  </td><td> 9.666667</td><td>10.666667</td><td>11.166667</td></tr>\n",
       "\t<tr><td>Wednesday</td><td> 7.000000</td><td> 9.333333</td><td>12.166667</td></tr>\n",
       "</tbody>\n",
       "</table>\n"
      ],
      "text/latex": [
       "\\begin{tabular}{r|llll}\n",
       " dow & x1 & x2 & x3\\\\\n",
       "\\hline\n",
       "\t Friday    &  4.666667 &  8.666667 &  9.833333\\\\\n",
       "\t Monday    &  7.000000 & 10.666667 &  7.666667\\\\\n",
       "\t Saturday  &  2.666667 &  7.366667 &  7.500000\\\\\n",
       "\t Sunday    & 13.333333 & 14.433333 & 11.333333\\\\\n",
       "\t Thursday  & 10.066667 &  9.666667 &  8.233333\\\\\n",
       "\t Tuesday   &  9.666667 & 10.666667 & 11.166667\\\\\n",
       "\t Wednesday &  7.000000 &  9.333333 & 12.166667\\\\\n",
       "\\end{tabular}\n"
      ],
      "text/markdown": [
       "\n",
       "| dow | x1 | x2 | x3 |\n",
       "|---|---|---|---|\n",
       "| Friday    |  4.666667 |  8.666667 |  9.833333 |\n",
       "| Monday    |  7.000000 | 10.666667 |  7.666667 |\n",
       "| Saturday  |  2.666667 |  7.366667 |  7.500000 |\n",
       "| Sunday    | 13.333333 | 14.433333 | 11.333333 |\n",
       "| Thursday  | 10.066667 |  9.666667 |  8.233333 |\n",
       "| Tuesday   |  9.666667 | 10.666667 | 11.166667 |\n",
       "| Wednesday |  7.000000 |  9.333333 | 12.166667 |\n",
       "\n"
      ],
      "text/plain": [
       "  dow       x1        x2        x3       \n",
       "1 Friday     4.666667  8.666667  9.833333\n",
       "2 Monday     7.000000 10.666667  7.666667\n",
       "3 Saturday   2.666667  7.366667  7.500000\n",
       "4 Sunday    13.333333 14.433333 11.333333\n",
       "5 Thursday  10.066667  9.666667  8.233333\n",
       "6 Tuesday    9.666667 10.666667 11.166667\n",
       "7 Wednesday  7.000000  9.333333 12.166667"
      ]
     },
     "metadata": {},
     "output_type": "display_data"
    }
   ],
   "source": [
    "# Rows: days of the week;  Columns: x1, x2, x3\n",
    "\n",
    "data.cross = dcast(data.long, dow ~ variable, mean)\n",
    "data.cross"
   ]
  },
  {
   "cell_type": "code",
   "execution_count": 33,
   "metadata": {},
   "outputs": [
    {
     "data": {
      "text/html": [
       "<table>\n",
       "<thead><tr><th scope=col>variable</th><th scope=col>December_Friday</th><th scope=col>December_Monday</th><th scope=col>December_Saturday</th><th scope=col>December_Sunday</th><th scope=col>December_Thursday</th><th scope=col>December_Tuesday</th><th scope=col>December_Wednesday</th><th scope=col>January_Friday</th><th scope=col>January_Monday</th><th scope=col>January_Saturday</th><th scope=col>January_Sunday</th><th scope=col>January_Thursday</th><th scope=col>January_Tuesday</th><th scope=col>January_Wednesday</th></tr></thead>\n",
       "<tbody>\n",
       "\t<tr><td>x1   </td><td>1.75 </td><td> 4.5 </td><td>2.50 </td><td> 8.50</td><td>7.60 </td><td>4.50 </td><td> 3.50</td><td>10.5 </td><td>12   </td><td>3    </td><td>23   </td><td>15   </td><td>20   </td><td>14   </td></tr>\n",
       "\t<tr><td>x2   </td><td>9.25 </td><td>10.0 </td><td>9.55 </td><td>10.15</td><td>9.00 </td><td>6.00 </td><td> 9.00</td><td> 7.5 </td><td>12   </td><td>3    </td><td>23   </td><td>11   </td><td>20   </td><td>10   </td></tr>\n",
       "\t<tr><td>x3   </td><td>9.25 </td><td> 5.5 </td><td>9.75 </td><td> 5.50</td><td>6.35 </td><td>6.75 </td><td>10.75</td><td>11.0 </td><td>12   </td><td>3    </td><td>23   </td><td>12   </td><td>20   </td><td>15   </td></tr>\n",
       "</tbody>\n",
       "</table>\n"
      ],
      "text/latex": [
       "\\begin{tabular}{r|lllllllllllllll}\n",
       " variable & December\\_Friday & December\\_Monday & December\\_Saturday & December\\_Sunday & December\\_Thursday & December\\_Tuesday & December\\_Wednesday & January\\_Friday & January\\_Monday & January\\_Saturday & January\\_Sunday & January\\_Thursday & January\\_Tuesday & January\\_Wednesday\\\\\n",
       "\\hline\n",
       "\t x1    & 1.75  &  4.5  & 2.50  &  8.50 & 7.60  & 4.50  &  3.50 & 10.5  & 12    & 3     & 23    & 15    & 20    & 14   \\\\\n",
       "\t x2    & 9.25  & 10.0  & 9.55  & 10.15 & 9.00  & 6.00  &  9.00 &  7.5  & 12    & 3     & 23    & 11    & 20    & 10   \\\\\n",
       "\t x3    & 9.25  &  5.5  & 9.75  &  5.50 & 6.35  & 6.75  & 10.75 & 11.0  & 12    & 3     & 23    & 12    & 20    & 15   \\\\\n",
       "\\end{tabular}\n"
      ],
      "text/markdown": [
       "\n",
       "| variable | December_Friday | December_Monday | December_Saturday | December_Sunday | December_Thursday | December_Tuesday | December_Wednesday | January_Friday | January_Monday | January_Saturday | January_Sunday | January_Thursday | January_Tuesday | January_Wednesday |\n",
       "|---|---|---|---|---|---|---|---|---|---|---|---|---|---|---|\n",
       "| x1    | 1.75  |  4.5  | 2.50  |  8.50 | 7.60  | 4.50  |  3.50 | 10.5  | 12    | 3     | 23    | 15    | 20    | 14    |\n",
       "| x2    | 9.25  | 10.0  | 9.55  | 10.15 | 9.00  | 6.00  |  9.00 |  7.5  | 12    | 3     | 23    | 11    | 20    | 10    |\n",
       "| x3    | 9.25  |  5.5  | 9.75  |  5.50 | 6.35  | 6.75  | 10.75 | 11.0  | 12    | 3     | 23    | 12    | 20    | 15    |\n",
       "\n"
      ],
      "text/plain": [
       "  variable December_Friday December_Monday December_Saturday December_Sunday\n",
       "1 x1       1.75             4.5            2.50               8.50          \n",
       "2 x2       9.25            10.0            9.55              10.15          \n",
       "3 x3       9.25             5.5            9.75               5.50          \n",
       "  December_Thursday December_Tuesday December_Wednesday January_Friday\n",
       "1 7.60              4.50              3.50              10.5          \n",
       "2 9.00              6.00              9.00               7.5          \n",
       "3 6.35              6.75             10.75              11.0          \n",
       "  January_Monday January_Saturday January_Sunday January_Thursday\n",
       "1 12             3                23             15              \n",
       "2 12             3                23             11              \n",
       "3 12             3                23             12              \n",
       "  January_Tuesday January_Wednesday\n",
       "1 20              14               \n",
       "2 20              10               \n",
       "3 20              15               "
      ]
     },
     "metadata": {},
     "output_type": "display_data"
    }
   ],
   "source": [
    "# Rows: x1, x2, x3;  Columns: days of week nested within months\n",
    "\n",
    "data.cross = dcast(data.long, variable ~ month+dow, mean)\n",
    "data.cross"
   ]
  },
  {
   "cell_type": "code",
   "execution_count": 34,
   "metadata": {},
   "outputs": [
    {
     "data": {
      "text/html": [
       "<table>\n",
       "<thead><tr><th scope=col>variable</th><th scope=col>Friday_December</th><th scope=col>Friday_January</th><th scope=col>Monday_December</th><th scope=col>Monday_January</th><th scope=col>Saturday_December</th><th scope=col>Saturday_January</th><th scope=col>Sunday_December</th><th scope=col>Sunday_January</th><th scope=col>Thursday_December</th><th scope=col>Thursday_January</th><th scope=col>Tuesday_December</th><th scope=col>Tuesday_January</th><th scope=col>Wednesday_December</th><th scope=col>Wednesday_January</th></tr></thead>\n",
       "<tbody>\n",
       "\t<tr><td>x1   </td><td>1.75 </td><td>10.5 </td><td> 4.5 </td><td>12   </td><td>2.50 </td><td>3    </td><td> 8.50</td><td>23   </td><td>7.60 </td><td>15   </td><td>4.50 </td><td>20   </td><td> 3.50</td><td>14   </td></tr>\n",
       "\t<tr><td>x2   </td><td>9.25 </td><td> 7.5 </td><td>10.0 </td><td>12   </td><td>9.55 </td><td>3    </td><td>10.15</td><td>23   </td><td>9.00 </td><td>11   </td><td>6.00 </td><td>20   </td><td> 9.00</td><td>10   </td></tr>\n",
       "\t<tr><td>x3   </td><td>9.25 </td><td>11.0 </td><td> 5.5 </td><td>12   </td><td>9.75 </td><td>3    </td><td> 5.50</td><td>23   </td><td>6.35 </td><td>12   </td><td>6.75 </td><td>20   </td><td>10.75</td><td>15   </td></tr>\n",
       "</tbody>\n",
       "</table>\n"
      ],
      "text/latex": [
       "\\begin{tabular}{r|lllllllllllllll}\n",
       " variable & Friday\\_December & Friday\\_January & Monday\\_December & Monday\\_January & Saturday\\_December & Saturday\\_January & Sunday\\_December & Sunday\\_January & Thursday\\_December & Thursday\\_January & Tuesday\\_December & Tuesday\\_January & Wednesday\\_December & Wednesday\\_January\\\\\n",
       "\\hline\n",
       "\t x1    & 1.75  & 10.5  &  4.5  & 12    & 2.50  & 3     &  8.50 & 23    & 7.60  & 15    & 4.50  & 20    &  3.50 & 14   \\\\\n",
       "\t x2    & 9.25  &  7.5  & 10.0  & 12    & 9.55  & 3     & 10.15 & 23    & 9.00  & 11    & 6.00  & 20    &  9.00 & 10   \\\\\n",
       "\t x3    & 9.25  & 11.0  &  5.5  & 12    & 9.75  & 3     &  5.50 & 23    & 6.35  & 12    & 6.75  & 20    & 10.75 & 15   \\\\\n",
       "\\end{tabular}\n"
      ],
      "text/markdown": [
       "\n",
       "| variable | Friday_December | Friday_January | Monday_December | Monday_January | Saturday_December | Saturday_January | Sunday_December | Sunday_January | Thursday_December | Thursday_January | Tuesday_December | Tuesday_January | Wednesday_December | Wednesday_January |\n",
       "|---|---|---|---|---|---|---|---|---|---|---|---|---|---|---|\n",
       "| x1    | 1.75  | 10.5  |  4.5  | 12    | 2.50  | 3     |  8.50 | 23    | 7.60  | 15    | 4.50  | 20    |  3.50 | 14    |\n",
       "| x2    | 9.25  |  7.5  | 10.0  | 12    | 9.55  | 3     | 10.15 | 23    | 9.00  | 11    | 6.00  | 20    |  9.00 | 10    |\n",
       "| x3    | 9.25  | 11.0  |  5.5  | 12    | 9.75  | 3     |  5.50 | 23    | 6.35  | 12    | 6.75  | 20    | 10.75 | 15    |\n",
       "\n"
      ],
      "text/plain": [
       "  variable Friday_December Friday_January Monday_December Monday_January\n",
       "1 x1       1.75            10.5            4.5            12            \n",
       "2 x2       9.25             7.5           10.0            12            \n",
       "3 x3       9.25            11.0            5.5            12            \n",
       "  Saturday_December Saturday_January Sunday_December Sunday_January\n",
       "1 2.50              3                 8.50           23            \n",
       "2 9.55              3                10.15           23            \n",
       "3 9.75              3                 5.50           23            \n",
       "  Thursday_December Thursday_January Tuesday_December Tuesday_January\n",
       "1 7.60              15               4.50             20             \n",
       "2 9.00              11               6.00             20             \n",
       "3 6.35              12               6.75             20             \n",
       "  Wednesday_December Wednesday_January\n",
       "1  3.50              14               \n",
       "2  9.00              10               \n",
       "3 10.75              15               "
      ]
     },
     "metadata": {},
     "output_type": "display_data"
    }
   ],
   "source": [
    "# Rows: x1, x2, x3;  Columns: months nested within days of week\n",
    "\n",
    "data.cross = dcast(data.long, variable ~ dow+month, mean)\n",
    "data.cross"
   ]
  },
  {
   "cell_type": "code",
   "execution_count": 35,
   "metadata": {},
   "outputs": [
    {
     "data": {
      "text/html": [
       "<table>\n",
       "<thead><tr><th scope=col>month</th><th scope=col>dow</th><th scope=col>x1</th><th scope=col>x2</th><th scope=col>x3</th></tr></thead>\n",
       "<tbody>\n",
       "\t<tr><td>December </td><td>Friday   </td><td> 1.75    </td><td> 9.25    </td><td> 9.25    </td></tr>\n",
       "\t<tr><td>December </td><td>Monday   </td><td> 4.50    </td><td>10.00    </td><td> 5.50    </td></tr>\n",
       "\t<tr><td>December </td><td>Saturday </td><td> 2.50    </td><td> 9.55    </td><td> 9.75    </td></tr>\n",
       "\t<tr><td>December </td><td>Sunday   </td><td> 8.50    </td><td>10.15    </td><td> 5.50    </td></tr>\n",
       "\t<tr><td>December </td><td>Thursday </td><td> 7.60    </td><td> 9.00    </td><td> 6.35    </td></tr>\n",
       "\t<tr><td>December </td><td>Tuesday  </td><td> 4.50    </td><td> 6.00    </td><td> 6.75    </td></tr>\n",
       "\t<tr><td>December </td><td>Wednesday</td><td> 3.50    </td><td> 9.00    </td><td>10.75    </td></tr>\n",
       "\t<tr><td>January  </td><td>Friday   </td><td>10.50    </td><td> 7.50    </td><td>11.00    </td></tr>\n",
       "\t<tr><td>January  </td><td>Monday   </td><td>12.00    </td><td>12.00    </td><td>12.00    </td></tr>\n",
       "\t<tr><td>January  </td><td>Saturday </td><td> 3.00    </td><td> 3.00    </td><td> 3.00    </td></tr>\n",
       "\t<tr><td>January  </td><td>Sunday   </td><td>23.00    </td><td>23.00    </td><td>23.00    </td></tr>\n",
       "\t<tr><td>January  </td><td>Thursday </td><td>15.00    </td><td>11.00    </td><td>12.00    </td></tr>\n",
       "\t<tr><td>January  </td><td>Tuesday  </td><td>20.00    </td><td>20.00    </td><td>20.00    </td></tr>\n",
       "\t<tr><td>January  </td><td>Wednesday</td><td>14.00    </td><td>10.00    </td><td>15.00    </td></tr>\n",
       "</tbody>\n",
       "</table>\n"
      ],
      "text/latex": [
       "\\begin{tabular}{r|lllll}\n",
       " month & dow & x1 & x2 & x3\\\\\n",
       "\\hline\n",
       "\t December  & Friday    &  1.75     &  9.25     &  9.25    \\\\\n",
       "\t December  & Monday    &  4.50     & 10.00     &  5.50    \\\\\n",
       "\t December  & Saturday  &  2.50     &  9.55     &  9.75    \\\\\n",
       "\t December  & Sunday    &  8.50     & 10.15     &  5.50    \\\\\n",
       "\t December  & Thursday  &  7.60     &  9.00     &  6.35    \\\\\n",
       "\t December  & Tuesday   &  4.50     &  6.00     &  6.75    \\\\\n",
       "\t December  & Wednesday &  3.50     &  9.00     & 10.75    \\\\\n",
       "\t January   & Friday    & 10.50     &  7.50     & 11.00    \\\\\n",
       "\t January   & Monday    & 12.00     & 12.00     & 12.00    \\\\\n",
       "\t January   & Saturday  &  3.00     &  3.00     &  3.00    \\\\\n",
       "\t January   & Sunday    & 23.00     & 23.00     & 23.00    \\\\\n",
       "\t January   & Thursday  & 15.00     & 11.00     & 12.00    \\\\\n",
       "\t January   & Tuesday   & 20.00     & 20.00     & 20.00    \\\\\n",
       "\t January   & Wednesday & 14.00     & 10.00     & 15.00    \\\\\n",
       "\\end{tabular}\n"
      ],
      "text/markdown": [
       "\n",
       "| month | dow | x1 | x2 | x3 |\n",
       "|---|---|---|---|---|\n",
       "| December  | Friday    |  1.75     |  9.25     |  9.25     |\n",
       "| December  | Monday    |  4.50     | 10.00     |  5.50     |\n",
       "| December  | Saturday  |  2.50     |  9.55     |  9.75     |\n",
       "| December  | Sunday    |  8.50     | 10.15     |  5.50     |\n",
       "| December  | Thursday  |  7.60     |  9.00     |  6.35     |\n",
       "| December  | Tuesday   |  4.50     |  6.00     |  6.75     |\n",
       "| December  | Wednesday |  3.50     |  9.00     | 10.75     |\n",
       "| January   | Friday    | 10.50     |  7.50     | 11.00     |\n",
       "| January   | Monday    | 12.00     | 12.00     | 12.00     |\n",
       "| January   | Saturday  |  3.00     |  3.00     |  3.00     |\n",
       "| January   | Sunday    | 23.00     | 23.00     | 23.00     |\n",
       "| January   | Thursday  | 15.00     | 11.00     | 12.00     |\n",
       "| January   | Tuesday   | 20.00     | 20.00     | 20.00     |\n",
       "| January   | Wednesday | 14.00     | 10.00     | 15.00     |\n",
       "\n"
      ],
      "text/plain": [
       "   month    dow       x1    x2    x3   \n",
       "1  December Friday     1.75  9.25  9.25\n",
       "2  December Monday     4.50 10.00  5.50\n",
       "3  December Saturday   2.50  9.55  9.75\n",
       "4  December Sunday     8.50 10.15  5.50\n",
       "5  December Thursday   7.60  9.00  6.35\n",
       "6  December Tuesday    4.50  6.00  6.75\n",
       "7  December Wednesday  3.50  9.00 10.75\n",
       "8  January  Friday    10.50  7.50 11.00\n",
       "9  January  Monday    12.00 12.00 12.00\n",
       "10 January  Saturday   3.00  3.00  3.00\n",
       "11 January  Sunday    23.00 23.00 23.00\n",
       "12 January  Thursday  15.00 11.00 12.00\n",
       "13 January  Tuesday   20.00 20.00 20.00\n",
       "14 January  Wednesday 14.00 10.00 15.00"
      ]
     },
     "metadata": {},
     "output_type": "display_data"
    }
   ],
   "source": [
    "# Rows: days of week nested within months;  Columns: x1, x2, x3\n",
    "\n",
    "data.cross = dcast(data.long, month+dow ~ variable, mean)\n",
    "data.cross"
   ]
  },
  {
   "cell_type": "code",
   "execution_count": 36,
   "metadata": {},
   "outputs": [
    {
     "data": {
      "text/html": [
       "<table>\n",
       "<thead><tr><th scope=col>dow</th><th scope=col>month</th><th scope=col>x1</th><th scope=col>x2</th><th scope=col>x3</th></tr></thead>\n",
       "<tbody>\n",
       "\t<tr><td>Friday   </td><td>December </td><td> 1.75    </td><td> 9.25    </td><td> 9.25    </td></tr>\n",
       "\t<tr><td>Friday   </td><td>January  </td><td>10.50    </td><td> 7.50    </td><td>11.00    </td></tr>\n",
       "\t<tr><td>Monday   </td><td>December </td><td> 4.50    </td><td>10.00    </td><td> 5.50    </td></tr>\n",
       "\t<tr><td>Monday   </td><td>January  </td><td>12.00    </td><td>12.00    </td><td>12.00    </td></tr>\n",
       "\t<tr><td>Saturday </td><td>December </td><td> 2.50    </td><td> 9.55    </td><td> 9.75    </td></tr>\n",
       "\t<tr><td>Saturday </td><td>January  </td><td> 3.00    </td><td> 3.00    </td><td> 3.00    </td></tr>\n",
       "\t<tr><td>Sunday   </td><td>December </td><td> 8.50    </td><td>10.15    </td><td> 5.50    </td></tr>\n",
       "\t<tr><td>Sunday   </td><td>January  </td><td>23.00    </td><td>23.00    </td><td>23.00    </td></tr>\n",
       "\t<tr><td>Thursday </td><td>December </td><td> 7.60    </td><td> 9.00    </td><td> 6.35    </td></tr>\n",
       "\t<tr><td>Thursday </td><td>January  </td><td>15.00    </td><td>11.00    </td><td>12.00    </td></tr>\n",
       "\t<tr><td>Tuesday  </td><td>December </td><td> 4.50    </td><td> 6.00    </td><td> 6.75    </td></tr>\n",
       "\t<tr><td>Tuesday  </td><td>January  </td><td>20.00    </td><td>20.00    </td><td>20.00    </td></tr>\n",
       "\t<tr><td>Wednesday</td><td>December </td><td> 3.50    </td><td> 9.00    </td><td>10.75    </td></tr>\n",
       "\t<tr><td>Wednesday</td><td>January  </td><td>14.00    </td><td>10.00    </td><td>15.00    </td></tr>\n",
       "</tbody>\n",
       "</table>\n"
      ],
      "text/latex": [
       "\\begin{tabular}{r|lllll}\n",
       " dow & month & x1 & x2 & x3\\\\\n",
       "\\hline\n",
       "\t Friday    & December  &  1.75     &  9.25     &  9.25    \\\\\n",
       "\t Friday    & January   & 10.50     &  7.50     & 11.00    \\\\\n",
       "\t Monday    & December  &  4.50     & 10.00     &  5.50    \\\\\n",
       "\t Monday    & January   & 12.00     & 12.00     & 12.00    \\\\\n",
       "\t Saturday  & December  &  2.50     &  9.55     &  9.75    \\\\\n",
       "\t Saturday  & January   &  3.00     &  3.00     &  3.00    \\\\\n",
       "\t Sunday    & December  &  8.50     & 10.15     &  5.50    \\\\\n",
       "\t Sunday    & January   & 23.00     & 23.00     & 23.00    \\\\\n",
       "\t Thursday  & December  &  7.60     &  9.00     &  6.35    \\\\\n",
       "\t Thursday  & January   & 15.00     & 11.00     & 12.00    \\\\\n",
       "\t Tuesday   & December  &  4.50     &  6.00     &  6.75    \\\\\n",
       "\t Tuesday   & January   & 20.00     & 20.00     & 20.00    \\\\\n",
       "\t Wednesday & December  &  3.50     &  9.00     & 10.75    \\\\\n",
       "\t Wednesday & January   & 14.00     & 10.00     & 15.00    \\\\\n",
       "\\end{tabular}\n"
      ],
      "text/markdown": [
       "\n",
       "| dow | month | x1 | x2 | x3 |\n",
       "|---|---|---|---|---|\n",
       "| Friday    | December  |  1.75     |  9.25     |  9.25     |\n",
       "| Friday    | January   | 10.50     |  7.50     | 11.00     |\n",
       "| Monday    | December  |  4.50     | 10.00     |  5.50     |\n",
       "| Monday    | January   | 12.00     | 12.00     | 12.00     |\n",
       "| Saturday  | December  |  2.50     |  9.55     |  9.75     |\n",
       "| Saturday  | January   |  3.00     |  3.00     |  3.00     |\n",
       "| Sunday    | December  |  8.50     | 10.15     |  5.50     |\n",
       "| Sunday    | January   | 23.00     | 23.00     | 23.00     |\n",
       "| Thursday  | December  |  7.60     |  9.00     |  6.35     |\n",
       "| Thursday  | January   | 15.00     | 11.00     | 12.00     |\n",
       "| Tuesday   | December  |  4.50     |  6.00     |  6.75     |\n",
       "| Tuesday   | January   | 20.00     | 20.00     | 20.00     |\n",
       "| Wednesday | December  |  3.50     |  9.00     | 10.75     |\n",
       "| Wednesday | January   | 14.00     | 10.00     | 15.00     |\n",
       "\n"
      ],
      "text/plain": [
       "   dow       month    x1    x2    x3   \n",
       "1  Friday    December  1.75  9.25  9.25\n",
       "2  Friday    January  10.50  7.50 11.00\n",
       "3  Monday    December  4.50 10.00  5.50\n",
       "4  Monday    January  12.00 12.00 12.00\n",
       "5  Saturday  December  2.50  9.55  9.75\n",
       "6  Saturday  January   3.00  3.00  3.00\n",
       "7  Sunday    December  8.50 10.15  5.50\n",
       "8  Sunday    January  23.00 23.00 23.00\n",
       "9  Thursday  December  7.60  9.00  6.35\n",
       "10 Thursday  January  15.00 11.00 12.00\n",
       "11 Tuesday   December  4.50  6.00  6.75\n",
       "12 Tuesday   January  20.00 20.00 20.00\n",
       "13 Wednesday December  3.50  9.00 10.75\n",
       "14 Wednesday January  14.00 10.00 15.00"
      ]
     },
     "metadata": {},
     "output_type": "display_data"
    }
   ],
   "source": [
    "# Rows: months nested within days of week;  Columns: x1, x2, x3\n",
    "\n",
    "data.cross = dcast(data.long, dow+month ~ variable, mean)\n",
    "data.cross"
   ]
  },
  {
   "cell_type": "code",
   "execution_count": 37,
   "metadata": {},
   "outputs": [
    {
     "data": {
      "text/html": [
       "<table>\n",
       "<thead><tr><th scope=col>month</th><th scope=col>Friday_x1</th><th scope=col>Friday_x2</th><th scope=col>Friday_x3</th><th scope=col>Monday_x1</th><th scope=col>Monday_x2</th><th scope=col>Monday_x3</th><th scope=col>Saturday_x1</th><th scope=col>Saturday_x2</th><th scope=col>Saturday_x3</th><th scope=col>Sunday_x1</th><th scope=col>Sunday_x2</th><th scope=col>Sunday_x3</th><th scope=col>Thursday_x1</th><th scope=col>Thursday_x2</th><th scope=col>Thursday_x3</th><th scope=col>Tuesday_x1</th><th scope=col>Tuesday_x2</th><th scope=col>Tuesday_x3</th><th scope=col>Wednesday_x1</th><th scope=col>Wednesday_x2</th><th scope=col>Wednesday_x3</th></tr></thead>\n",
       "<tbody>\n",
       "\t<tr><td>December</td><td> 1.75   </td><td>9.25    </td><td> 9.25   </td><td> 4.5    </td><td>10      </td><td> 5.5    </td><td>2.5     </td><td>9.55    </td><td>9.75    </td><td> 8.5    </td><td>10.15   </td><td> 5.5    </td><td> 7.6    </td><td> 9      </td><td> 6.35   </td><td> 4.5    </td><td> 6      </td><td> 6.75   </td><td> 3.5    </td><td> 9      </td><td>10.75   </td></tr>\n",
       "\t<tr><td>January </td><td>10.50   </td><td>7.50    </td><td>11.00   </td><td>12.0    </td><td>12      </td><td>12.0    </td><td>3.0     </td><td>3.00    </td><td>3.00    </td><td>23.0    </td><td>23.00   </td><td>23.0    </td><td>15.0    </td><td>11      </td><td>12.00   </td><td>20.0    </td><td>20      </td><td>20.00   </td><td>14.0    </td><td>10      </td><td>15.00   </td></tr>\n",
       "</tbody>\n",
       "</table>\n"
      ],
      "text/latex": [
       "\\begin{tabular}{r|llllllllllllllllllllll}\n",
       " month & Friday\\_x1 & Friday\\_x2 & Friday\\_x3 & Monday\\_x1 & Monday\\_x2 & Monday\\_x3 & Saturday\\_x1 & Saturday\\_x2 & Saturday\\_x3 & Sunday\\_x1 & Sunday\\_x2 & Sunday\\_x3 & Thursday\\_x1 & Thursday\\_x2 & Thursday\\_x3 & Tuesday\\_x1 & Tuesday\\_x2 & Tuesday\\_x3 & Wednesday\\_x1 & Wednesday\\_x2 & Wednesday\\_x3\\\\\n",
       "\\hline\n",
       "\t December &  1.75    & 9.25     &  9.25    &  4.5     & 10       &  5.5     & 2.5      & 9.55     & 9.75     &  8.5     & 10.15    &  5.5     &  7.6     &  9       &  6.35    &  4.5     &  6       &  6.75    &  3.5     &  9       & 10.75   \\\\\n",
       "\t January  & 10.50    & 7.50     & 11.00    & 12.0     & 12       & 12.0     & 3.0      & 3.00     & 3.00     & 23.0     & 23.00    & 23.0     & 15.0     & 11       & 12.00    & 20.0     & 20       & 20.00    & 14.0     & 10       & 15.00   \\\\\n",
       "\\end{tabular}\n"
      ],
      "text/markdown": [
       "\n",
       "| month | Friday_x1 | Friday_x2 | Friday_x3 | Monday_x1 | Monday_x2 | Monday_x3 | Saturday_x1 | Saturday_x2 | Saturday_x3 | Sunday_x1 | Sunday_x2 | Sunday_x3 | Thursday_x1 | Thursday_x2 | Thursday_x3 | Tuesday_x1 | Tuesday_x2 | Tuesday_x3 | Wednesday_x1 | Wednesday_x2 | Wednesday_x3 |\n",
       "|---|---|---|---|---|---|---|---|---|---|---|---|---|---|---|---|---|---|---|---|---|---|\n",
       "| December |  1.75    | 9.25     |  9.25    |  4.5     | 10       |  5.5     | 2.5      | 9.55     | 9.75     |  8.5     | 10.15    |  5.5     |  7.6     |  9       |  6.35    |  4.5     |  6       |  6.75    |  3.5     |  9       | 10.75    |\n",
       "| January  | 10.50    | 7.50     | 11.00    | 12.0     | 12       | 12.0     | 3.0      | 3.00     | 3.00     | 23.0     | 23.00    | 23.0     | 15.0     | 11       | 12.00    | 20.0     | 20       | 20.00    | 14.0     | 10       | 15.00    |\n",
       "\n"
      ],
      "text/plain": [
       "  month    Friday_x1 Friday_x2 Friday_x3 Monday_x1 Monday_x2 Monday_x3\n",
       "1 December  1.75     9.25       9.25      4.5      10         5.5     \n",
       "2 January  10.50     7.50      11.00     12.0      12        12.0     \n",
       "  Saturday_x1 Saturday_x2 Saturday_x3 Sunday_x1 Sunday_x2 Sunday_x3 Thursday_x1\n",
       "1 2.5         9.55        9.75         8.5      10.15      5.5       7.6       \n",
       "2 3.0         3.00        3.00        23.0      23.00     23.0      15.0       \n",
       "  Thursday_x2 Thursday_x3 Tuesday_x1 Tuesday_x2 Tuesday_x3 Wednesday_x1\n",
       "1  9           6.35        4.5        6          6.75       3.5        \n",
       "2 11          12.00       20.0       20         20.00      14.0        \n",
       "  Wednesday_x2 Wednesday_x3\n",
       "1  9           10.75       \n",
       "2 10           15.00       "
      ]
     },
     "metadata": {},
     "output_type": "display_data"
    }
   ],
   "source": [
    "# Rows: months;  Columns: x1, x2, x3 nested within days of week\n",
    "\n",
    "data.cross = dcast(data.long, month ~ dow+variable, mean)\n",
    "data.cross"
   ]
  },
  {
   "cell_type": "code",
   "execution_count": 38,
   "metadata": {},
   "outputs": [
    {
     "data": {
      "text/html": [
       "<table>\n",
       "<thead><tr><th scope=col>month</th><th scope=col>x1_Friday</th><th scope=col>x1_Monday</th><th scope=col>x1_Saturday</th><th scope=col>x1_Sunday</th><th scope=col>x1_Thursday</th><th scope=col>x1_Tuesday</th><th scope=col>x1_Wednesday</th><th scope=col>x2_Friday</th><th scope=col>x2_Monday</th><th scope=col>x2_Saturday</th><th scope=col>x2_Sunday</th><th scope=col>x2_Thursday</th><th scope=col>x2_Tuesday</th><th scope=col>x2_Wednesday</th><th scope=col>x3_Friday</th><th scope=col>x3_Monday</th><th scope=col>x3_Saturday</th><th scope=col>x3_Sunday</th><th scope=col>x3_Thursday</th><th scope=col>x3_Tuesday</th><th scope=col>x3_Wednesday</th></tr></thead>\n",
       "<tbody>\n",
       "\t<tr><td>December</td><td> 1.75   </td><td> 4.5    </td><td>2.5     </td><td> 8.5    </td><td> 7.6    </td><td> 4.5    </td><td> 3.5    </td><td>9.25    </td><td>10      </td><td>9.55    </td><td>10.15   </td><td> 9      </td><td> 6      </td><td> 9      </td><td> 9.25   </td><td> 5.5    </td><td>9.75    </td><td> 5.5    </td><td> 6.35   </td><td> 6.75   </td><td>10.75   </td></tr>\n",
       "\t<tr><td>January </td><td>10.50   </td><td>12.0    </td><td>3.0     </td><td>23.0    </td><td>15.0    </td><td>20.0    </td><td>14.0    </td><td>7.50    </td><td>12      </td><td>3.00    </td><td>23.00   </td><td>11      </td><td>20      </td><td>10      </td><td>11.00   </td><td>12.0    </td><td>3.00    </td><td>23.0    </td><td>12.00   </td><td>20.00   </td><td>15.00   </td></tr>\n",
       "</tbody>\n",
       "</table>\n"
      ],
      "text/latex": [
       "\\begin{tabular}{r|llllllllllllllllllllll}\n",
       " month & x1\\_Friday & x1\\_Monday & x1\\_Saturday & x1\\_Sunday & x1\\_Thursday & x1\\_Tuesday & x1\\_Wednesday & x2\\_Friday & x2\\_Monday & x2\\_Saturday & x2\\_Sunday & x2\\_Thursday & x2\\_Tuesday & x2\\_Wednesday & x3\\_Friday & x3\\_Monday & x3\\_Saturday & x3\\_Sunday & x3\\_Thursday & x3\\_Tuesday & x3\\_Wednesday\\\\\n",
       "\\hline\n",
       "\t December &  1.75    &  4.5     & 2.5      &  8.5     &  7.6     &  4.5     &  3.5     & 9.25     & 10       & 9.55     & 10.15    &  9       &  6       &  9       &  9.25    &  5.5     & 9.75     &  5.5     &  6.35    &  6.75    & 10.75   \\\\\n",
       "\t January  & 10.50    & 12.0     & 3.0      & 23.0     & 15.0     & 20.0     & 14.0     & 7.50     & 12       & 3.00     & 23.00    & 11       & 20       & 10       & 11.00    & 12.0     & 3.00     & 23.0     & 12.00    & 20.00    & 15.00   \\\\\n",
       "\\end{tabular}\n"
      ],
      "text/markdown": [
       "\n",
       "| month | x1_Friday | x1_Monday | x1_Saturday | x1_Sunday | x1_Thursday | x1_Tuesday | x1_Wednesday | x2_Friday | x2_Monday | x2_Saturday | x2_Sunday | x2_Thursday | x2_Tuesday | x2_Wednesday | x3_Friday | x3_Monday | x3_Saturday | x3_Sunday | x3_Thursday | x3_Tuesday | x3_Wednesday |\n",
       "|---|---|---|---|---|---|---|---|---|---|---|---|---|---|---|---|---|---|---|---|---|---|\n",
       "| December |  1.75    |  4.5     | 2.5      |  8.5     |  7.6     |  4.5     |  3.5     | 9.25     | 10       | 9.55     | 10.15    |  9       |  6       |  9       |  9.25    |  5.5     | 9.75     |  5.5     |  6.35    |  6.75    | 10.75    |\n",
       "| January  | 10.50    | 12.0     | 3.0      | 23.0     | 15.0     | 20.0     | 14.0     | 7.50     | 12       | 3.00     | 23.00    | 11       | 20       | 10       | 11.00    | 12.0     | 3.00     | 23.0     | 12.00    | 20.00    | 15.00    |\n",
       "\n"
      ],
      "text/plain": [
       "  month    x1_Friday x1_Monday x1_Saturday x1_Sunday x1_Thursday x1_Tuesday\n",
       "1 December  1.75      4.5      2.5          8.5       7.6         4.5      \n",
       "2 January  10.50     12.0      3.0         23.0      15.0        20.0      \n",
       "  x1_Wednesday x2_Friday x2_Monday x2_Saturday x2_Sunday x2_Thursday x2_Tuesday\n",
       "1  3.5         9.25      10        9.55        10.15      9           6        \n",
       "2 14.0         7.50      12        3.00        23.00     11          20        \n",
       "  x2_Wednesday x3_Friday x3_Monday x3_Saturday x3_Sunday x3_Thursday x3_Tuesday\n",
       "1  9            9.25      5.5      9.75         5.5       6.35        6.75     \n",
       "2 10           11.00     12.0      3.00        23.0      12.00       20.00     \n",
       "  x3_Wednesday\n",
       "1 10.75       \n",
       "2 15.00       "
      ]
     },
     "metadata": {},
     "output_type": "display_data"
    }
   ],
   "source": [
    "# Rows: months;  Columns: days of week nested within x1, x2, x3\n",
    "\n",
    "data.cross = dcast(data.long, month ~ variable+dow, mean)\n",
    "data.cross"
   ]
  },
  {
   "cell_type": "markdown",
   "metadata": {},
   "source": [
    "## More about Cross-Tabulation in R\n",
    "\n",
    "_In R, ou can use the **factor** function to enforce a specific order of column names or row names._"
   ]
  },
  {
   "cell_type": "code",
   "execution_count": 40,
   "metadata": {},
   "outputs": [
    {
     "data": {
      "text/html": [
       "<ol class=list-inline>\n",
       "\t<li>'Sunday'</li>\n",
       "\t<li>'Monday'</li>\n",
       "\t<li>'Tuesday'</li>\n",
       "\t<li>'Wednesday'</li>\n",
       "\t<li>'Thursday'</li>\n",
       "\t<li>'Friday'</li>\n",
       "\t<li>'Saturday'</li>\n",
       "</ol>\n"
      ],
      "text/latex": [
       "\\begin{enumerate*}\n",
       "\\item 'Sunday'\n",
       "\\item 'Monday'\n",
       "\\item 'Tuesday'\n",
       "\\item 'Wednesday'\n",
       "\\item 'Thursday'\n",
       "\\item 'Friday'\n",
       "\\item 'Saturday'\n",
       "\\end{enumerate*}\n"
      ],
      "text/markdown": [
       "1. 'Sunday'\n",
       "2. 'Monday'\n",
       "3. 'Tuesday'\n",
       "4. 'Wednesday'\n",
       "5. 'Thursday'\n",
       "6. 'Friday'\n",
       "7. 'Saturday'\n",
       "\n",
       "\n"
      ],
      "text/plain": [
       "[1] \"Sunday\"    \"Monday\"    \"Tuesday\"   \"Wednesday\" \"Thursday\"  \"Friday\"   \n",
       "[7] \"Saturday\" "
      ]
     },
     "metadata": {},
     "output_type": "display_data"
    }
   ],
   "source": [
    "DAY_NAMES"
   ]
  },
  {
   "cell_type": "code",
   "execution_count": 41,
   "metadata": {
    "scrolled": true
   },
   "outputs": [
    {
     "data": {
      "text/html": [
       "<table>\n",
       "<thead><tr><th scope=col>variable</th><th scope=col>Sunday</th><th scope=col>Monday</th><th scope=col>Tuesday</th><th scope=col>Wednesday</th><th scope=col>Thursday</th><th scope=col>Friday</th><th scope=col>Saturday</th></tr></thead>\n",
       "<tbody>\n",
       "\t<tr><td>x1       </td><td>13.33333 </td><td> 7.000000</td><td> 9.666667</td><td> 7.000000</td><td>10.066667</td><td>4.666667 </td><td>2.666667 </td></tr>\n",
       "\t<tr><td>x2       </td><td>14.43333 </td><td>10.666667</td><td>10.666667</td><td> 9.333333</td><td> 9.666667</td><td>8.666667 </td><td>7.366667 </td></tr>\n",
       "\t<tr><td>x3       </td><td>11.33333 </td><td> 7.666667</td><td>11.166667</td><td>12.166667</td><td> 8.233333</td><td>9.833333 </td><td>7.500000 </td></tr>\n",
       "</tbody>\n",
       "</table>\n"
      ],
      "text/latex": [
       "\\begin{tabular}{r|llllllll}\n",
       " variable & Sunday & Monday & Tuesday & Wednesday & Thursday & Friday & Saturday\\\\\n",
       "\\hline\n",
       "\t x1        & 13.33333  &  7.000000 &  9.666667 &  7.000000 & 10.066667 & 4.666667  & 2.666667 \\\\\n",
       "\t x2        & 14.43333  & 10.666667 & 10.666667 &  9.333333 &  9.666667 & 8.666667  & 7.366667 \\\\\n",
       "\t x3        & 11.33333  &  7.666667 & 11.166667 & 12.166667 &  8.233333 & 9.833333  & 7.500000 \\\\\n",
       "\\end{tabular}\n"
      ],
      "text/markdown": [
       "\n",
       "| variable | Sunday | Monday | Tuesday | Wednesday | Thursday | Friday | Saturday |\n",
       "|---|---|---|---|---|---|---|---|\n",
       "| x1        | 13.33333  |  7.000000 |  9.666667 |  7.000000 | 10.066667 | 4.666667  | 2.666667  |\n",
       "| x2        | 14.43333  | 10.666667 | 10.666667 |  9.333333 |  9.666667 | 8.666667  | 7.366667  |\n",
       "| x3        | 11.33333  |  7.666667 | 11.166667 | 12.166667 |  8.233333 | 9.833333  | 7.500000  |\n",
       "\n"
      ],
      "text/plain": [
       "  variable Sunday   Monday    Tuesday   Wednesday Thursday  Friday   Saturday\n",
       "1 x1       13.33333  7.000000  9.666667  7.000000 10.066667 4.666667 2.666667\n",
       "2 x2       14.43333 10.666667 10.666667  9.333333  9.666667 8.666667 7.366667\n",
       "3 x3       11.33333  7.666667 11.166667 12.166667  8.233333 9.833333 7.500000"
      ]
     },
     "metadata": {},
     "output_type": "display_data"
    }
   ],
   "source": [
    "data.cross = dcast(data.long, variable ~ factor(dow, DAY_NAMES), mean)\n",
    "data.cross"
   ]
  },
  {
   "cell_type": "markdown",
   "metadata": {},
   "source": [
    "## Code Templates"
   ]
  },
  {
   "cell_type": "markdown",
   "metadata": {},
   "source": [
    "### Useful Functions"
   ]
  },
  {
   "cell_type": "code",
   "execution_count": 16,
   "metadata": {},
   "outputs": [],
   "source": [
    "# DAY_NAMES from setup.R\n",
    "# help(aggregate) # from stats library\n",
    "# help(dcast) # from reshape2 library\n",
    "# help(factor) # from base library\n",
    "# help(melt)  # from reshape2 library"
   ]
  },
  {
   "cell_type": "markdown",
   "metadata": {},
   "source": [
    "## Expectations\n",
    "\n",
    "Know about this:\n",
    "* How to construct an aggregate table.\n",
    "* How to construct a cross-table."
   ]
  },
  {
   "cell_type": "markdown",
   "metadata": {},
   "source": [
    "## Further Reading\n",
    "\n",
    "* https://www.r-statistics.com/tag/transpose/"
   ]
  },
  {
   "cell_type": "markdown",
   "metadata": {},
   "source": [
    "<p style=\"text-align:left; font-size:10px;\">\n",
    "Copyright (c) Berkeley Data Analytics Group, LLC\n",
    "<span style=\"float:right;\">\n",
    "Document revised January 27, 2021\n",
    "</span>\n",
    "</p>"
   ]
  }
 ],
 "metadata": {
  "hide_code_all_hidden": false,
  "hide_input": false,
  "kernelspec": {
   "display_name": "R",
   "language": "R",
   "name": "ir"
  },
  "language_info": {
   "codemirror_mode": "r",
   "file_extension": ".r",
   "mimetype": "text/x-r-source",
   "name": "R",
   "pygments_lexer": "r",
   "version": "3.6.1"
  },
  "toc": {
   "base_numbering": 1,
   "nav_menu": {},
   "number_sections": true,
   "sideBar": true,
   "skip_h1_title": true,
   "title_cell": "Table of Contents",
   "title_sidebar": "Contents",
   "toc_cell": false,
   "toc_position": {},
   "toc_section_display": true,
   "toc_window_display": false
  }
 },
 "nbformat": 4,
 "nbformat_minor": 2
}
