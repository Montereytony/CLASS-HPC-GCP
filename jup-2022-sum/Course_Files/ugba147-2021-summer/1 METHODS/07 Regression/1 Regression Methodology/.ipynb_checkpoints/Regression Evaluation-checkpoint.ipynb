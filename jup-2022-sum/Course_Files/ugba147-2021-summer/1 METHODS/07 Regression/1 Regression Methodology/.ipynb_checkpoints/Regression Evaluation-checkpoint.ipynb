{
 "cells": [
  {
   "cell_type": "markdown",
   "metadata": {
    "hideCode": false,
    "hidePrompt": false
   },
   "source": [
    "# Evaluation of Predictive Models\n",
    "\n",
    "\n",
    "<img src=\"banner lecture.jpg\" align=left />"
   ]
  },
  {
   "cell_type": "markdown",
   "metadata": {},
   "source": [
    "<br>\n",
    "### Apparatus\n",
    "___\n",
    "Load function libraries, define additional useful functions, and set defaults here."
   ]
  },
  {
   "cell_type": "code",
   "execution_count": 1,
   "metadata": {},
   "outputs": [],
   "source": [
    "options(warn=-1)\n",
    "\n",
    "# Load some required functions\n",
    "library(ggplot2,   verbose=FALSE, warn.conflicts=FALSE, quietly=TRUE)\n",
    "library(gridExtra, verbose=FALSE, warn.conflicts=FALSE, quietly=TRUE)\n",
    "library(caret,     verbose=FALSE, warn.conflicts=FALSE, quietly=TRUE)\n",
    "library(e1071,     verbose=FALSE, warn.conflicts=FALSE, quietly=TRUE)\n",
    "\n",
    "# Define some useful functions\n",
    "createFolds.train = function(v, train) { test = list(); for (i in 1:length(train)) { test[[i]] = setdiff(1:length(v), train[[i]]); names(test)[[i]]=sprintf(\"Fold%d\",i) }; test }\n",
    "\n",
    "# Define some visualization constants\n",
    "restore = list(repr.plot.width=8, repr.plot.height=3)\n",
    "PALETTE = c(\"#00A9FF\", \"#F8766D\", \"#7CAE00\", \"#C77CFF\", \"#CD9600\", \"#00BE67\", \"#FF61CC\", \"#00BFC4\")\n",
    "theme.x_axis_only = theme(axis.title.y=element_blank(), axis.text.y=element_blank(), axis.ticks.y=element_blank(), panel.grid.major.y=element_blank(), panel.grid.minor.y=element_blank())\n",
    "theme.y_axis_only = theme(axis.title.x=element_blank(), axis.text.x=element_blank(), axis.ticks.x=element_blank(), panel.grid.major.x=element_blank(), panel.grid.minor.x=element_blank())\n",
    "theme.no_axes = theme.x_axis_only + theme.y_axis_only\n",
    "theme.no_legend = theme(legend.position=\"none\")\n",
    "theme.legend_bottom = theme(legend.position=\"bottom\")\n",
    "                      \n",
    "# Set some visualization formatting defaults\n",
    "options(restore)\n",
    "options(digits=10, scipen=100) # expose many digits, use scientific notation sparingly\n",
    "options(repr.matrix.max.rows=200) # ensure all 27 columns of a data frame can be presented\n",
    "update_geom_defaults(\"point\", list(size=3, colour=\"grey50\"))\n",
    "update_geom_defaults(\"line\", list(color=\"black\", size=0.15))\n",
    "update_geom_defaults(\"abline\", list(color=\"black\", size=0.15))\n",
    "update_geom_defaults(\"hline\", list(color=\"black\", size=0.15))\n",
    "theme_update(plot.title=element_text(size=10, hjust=0.5), plot.subtitle=element_text(size=8, face=\"italic\", hjust=0.5), axis.title=element_text(size=7), axis.text=element_text(size=7), strip.text=element_text(size=7), strip.text.y=element_text(angle=90), legend.title=element_blank(), legend.text=element_text(size=7))"
   ]
  },
  {
   "cell_type": "markdown",
   "metadata": {},
   "source": [
    "<br>\n",
    "### Retrieve Data"
   ]
  },
  {
   "cell_type": "code",
   "execution_count": 2,
   "metadata": {},
   "outputs": [
    {
     "data": {
      "text/html": [
       "<ol class=list-inline>\n",
       "\t<li>11</li>\n",
       "\t<li>2</li>\n",
       "</ol>\n"
      ],
      "text/latex": [
       "\\begin{enumerate*}\n",
       "\\item 11\n",
       "\\item 2\n",
       "\\end{enumerate*}\n"
      ],
      "text/markdown": [
       "1. 11\n",
       "2. 2\n",
       "\n",
       "\n"
      ],
      "text/plain": [
       "[1] 11  2"
      ]
     },
     "metadata": {},
     "output_type": "display_data"
    },
    {
     "data": {},
     "metadata": {},
     "output_type": "display_data"
    },
    {
     "data": {
      "image/png": "[encoded data removed]",
      "text/plain": [
       "plot without title"
      ]
     },
     "metadata": {},
     "output_type": "display_data"
    }
   ],
   "source": [
    "data = data.frame(x1=c(1.0, 1.5, 2.0, 3.0, 4.0, 5.0, 6.0, 6.5, 8.0, 9.0, 9.5), outcome=c(1.0, 0.5, 3.0, 4.0, 5.5, 5.0, 3.5, 4.0, 7.0, 6.5, 9.0))\n",
    "\n",
    "dim(data)\n",
    "ggplot(data) + geom_point(aes(x1, y=outcome), color=PALETTE[1]) + scale_color_manual(values=PALETTE) + xlim(0,10) +ylim(0,10)"
   ]
  },
  {
   "cell_type": "markdown",
   "metadata": {},
   "source": [
    "<br>\n",
    "### Measures of Performance\n",
    "___\n",
    "* **Classification Models (per observation):**\n",
    "  * **hit:** TRUE if predicted value $=$ actual value, FALSE if predicted value $\\ne$ actual\n",
    "  * _... and others_\n",
    "  * _... and custom measures of performance_\n",
    "  \n",
    "\n",
    "* **Classification Models (overall):**\n",
    "  * **accuracy:** correct predictions / total predictions\n",
    "  * **true positive rate (aka sensitivity):** correct positive predictions / positive actuals\n",
    "  * **true negative rate (aka specificity):** correct negative predictions / negative actuals\n",
    "  * **positive predictive value (aka precision):** correct positive predictions / positive predictions\n",
    "  * **negative predictive value:** correct negative predictions / negative predictions\n",
    "  * _... and others_\n",
    "  * _... and custom measures of performance_\n",
    "\n",
    "\n",
    "* **Regression Models (per observation):**\n",
    "  * **error:** predicted value - actual value\n",
    "  * _... and others_\n",
    "  * _... and custom measures of performance_\n",
    "\n",
    "\n",
    "* **Regression Models (overall):**\n",
    "  * **total error:** $\\sum error$\n",
    "  * **mean square error (MSE):** $mean (error^2)$\n",
    "  * **root mean square error (RMSE):** $\\sqrt{ mean (error^2)}$\n",
    "  * **mean absolute percent error (MAPE):** $ 100 \\times mean(abs(error \\, / \\, actual \\, value)) $\n",
    "  * _... and others_\n",
    "  * _... and custom measures of performance_\n"
   ]
  },
  {
   "cell_type": "markdown",
   "metadata": {},
   "source": [
    "<br>\n",
    "### Evaluation Method: In-Sample Performance\n",
    "___\n",
    "Considered a crude estimate of performance.  Uses all of the data to build a model, uses all of the data to test a model, but uses same data for build and test."
   ]
  },
  {
   "cell_type": "markdown",
   "metadata": {},
   "source": [
    "#### Build model based on all data. \n",
    "\n",
    "Here we build a linear regression model. "
   ]
  },
  {
   "cell_type": "code",
   "execution_count": 3,
   "metadata": {
    "hideCode": false,
    "hidePrompt": false,
    "run_control": {
     "marked": false
    }
   },
   "outputs": [
    {
     "data": {
      "text/plain": [
       "\n",
       "Call:\n",
       "lm(formula = outcome ~ x1, data = data)\n",
       "\n",
       "Coefficients:\n",
       "(Intercept)           x1  \n",
       "  0.7551353    0.7332164  \n"
      ]
     },
     "metadata": {},
     "output_type": "display_data"
    }
   ],
   "source": [
    "model = lm(outcome~x1, data)\n",
    "model"
   ]
  },
  {
   "cell_type": "code",
   "execution_count": 4,
   "metadata": {},
   "outputs": [
    {
     "data": {},
     "metadata": {},
     "output_type": "display_data"
    },
    {
     "data": {
      "image/png": "[encoded data removed]",
      "text/plain": [
       "plot without title"
      ]
     },
     "metadata": {},
     "output_type": "display_data"
    }
   ],
   "source": [
    "ggplot(data) +\n",
    "geom_line(aes(x=x1, y=outcome, color=\"actual\")) + geom_point(aes(x1, y=outcome, color=\"actual\")) +\n",
    "geom_abline(aes(intercept=model$coefficients[\"(Intercept)\"], slope=model$coefficients[\"x1\"], color=\"predicted\")) +\n",
    "scale_color_manual(values=PALETTE) + xlim(0,10) +ylim(0,10)"
   ]
  },
  {
   "cell_type": "markdown",
   "metadata": {},
   "source": [
    "<br>\n",
    "#### Estimate performance of model based on all data. \n",
    "\n",
    "Here we use RMSE as the measure of performance."
   ]
  },
  {
   "cell_type": "code",
   "execution_count": 5,
   "metadata": {},
   "outputs": [
    {
     "data": {
      "text/html": [
       "<table>\n",
       "<thead><tr><th scope=col>data.outcome</th><th scope=col>prediction</th><th scope=col>error</th><th scope=col>square_error</th></tr></thead>\n",
       "<tbody>\n",
       "\t<tr><td>1.0          </td><td>1.488351703  </td><td> 0.4883517034</td><td>0.2384873862 </td></tr>\n",
       "\t<tr><td>0.5          </td><td>1.854959920  </td><td> 1.3549599198</td><td>1.8359163844 </td></tr>\n",
       "\t<tr><td>3.0          </td><td>2.221568136  </td><td>-0.7784318637</td><td>0.6059561665 </td></tr>\n",
       "\t<tr><td>4.0          </td><td>2.954784569  </td><td>-1.0452154309</td><td>1.0924752969 </td></tr>\n",
       "\t<tr><td>5.5          </td><td>3.688001002  </td><td>-1.8119989980</td><td>3.2833403687 </td></tr>\n",
       "\t<tr><td>5.0          </td><td>4.421217435  </td><td>-0.5787825651</td><td>0.3349892577 </td></tr>\n",
       "\t<tr><td>3.5          </td><td>5.154433868  </td><td> 1.6544338677</td><td>2.7371514227 </td></tr>\n",
       "\t<tr><td>4.0          </td><td>5.521042084  </td><td> 1.5210420842</td><td>2.3135690218 </td></tr>\n",
       "\t<tr><td>7.0          </td><td>6.620866733  </td><td>-0.3791332665</td><td>0.1437420338 </td></tr>\n",
       "\t<tr><td>6.5          </td><td>7.354083166  </td><td> 0.8540831663</td><td>0.7294580550 </td></tr>\n",
       "\t<tr><td>9.0          </td><td>7.720691383  </td><td>-1.2793086172</td><td>1.6366305381 </td></tr>\n",
       "</tbody>\n",
       "</table>\n"
      ],
      "text/latex": [
       "\\begin{tabular}{r|llll}\n",
       " data.outcome & prediction & error & square\\_error\\\\\n",
       "\\hline\n",
       "\t 1.0           & 1.488351703   &  0.4883517034 & 0.2384873862 \\\\\n",
       "\t 0.5           & 1.854959920   &  1.3549599198 & 1.8359163844 \\\\\n",
       "\t 3.0           & 2.221568136   & -0.7784318637 & 0.6059561665 \\\\\n",
       "\t 4.0           & 2.954784569   & -1.0452154309 & 1.0924752969 \\\\\n",
       "\t 5.5           & 3.688001002   & -1.8119989980 & 3.2833403687 \\\\\n",
       "\t 5.0           & 4.421217435   & -0.5787825651 & 0.3349892577 \\\\\n",
       "\t 3.5           & 5.154433868   &  1.6544338677 & 2.7371514227 \\\\\n",
       "\t 4.0           & 5.521042084   &  1.5210420842 & 2.3135690218 \\\\\n",
       "\t 7.0           & 6.620866733   & -0.3791332665 & 0.1437420338 \\\\\n",
       "\t 6.5           & 7.354083166   &  0.8540831663 & 0.7294580550 \\\\\n",
       "\t 9.0           & 7.720691383   & -1.2793086172 & 1.6366305381 \\\\\n",
       "\\end{tabular}\n"
      ],
      "text/markdown": [
       "\n",
       "data.outcome | prediction | error | square_error | \n",
       "|---|---|---|---|---|---|---|---|---|---|---|\n",
       "| 1.0           | 1.488351703   |  0.4883517034 | 0.2384873862  | \n",
       "| 0.5           | 1.854959920   |  1.3549599198 | 1.8359163844  | \n",
       "| 3.0           | 2.221568136   | -0.7784318637 | 0.6059561665  | \n",
       "| 4.0           | 2.954784569   | -1.0452154309 | 1.0924752969  | \n",
       "| 5.5           | 3.688001002   | -1.8119989980 | 3.2833403687  | \n",
       "| 5.0           | 4.421217435   | -0.5787825651 | 0.3349892577  | \n",
       "| 3.5           | 5.154433868   |  1.6544338677 | 2.7371514227  | \n",
       "| 4.0           | 5.521042084   |  1.5210420842 | 2.3135690218  | \n",
       "| 7.0           | 6.620866733   | -0.3791332665 | 0.1437420338  | \n",
       "| 6.5           | 7.354083166   |  0.8540831663 | 0.7294580550  | \n",
       "| 9.0           | 7.720691383   | -1.2793086172 | 1.6366305381  | \n",
       "\n",
       "\n"
      ],
      "text/plain": [
       "   data.outcome prediction  error         square_error\n",
       "1  1.0          1.488351703  0.4883517034 0.2384873862\n",
       "2  0.5          1.854959920  1.3549599198 1.8359163844\n",
       "3  3.0          2.221568136 -0.7784318637 0.6059561665\n",
       "4  4.0          2.954784569 -1.0452154309 1.0924752969\n",
       "5  5.5          3.688001002 -1.8119989980 3.2833403687\n",
       "6  5.0          4.421217435 -0.5787825651 0.3349892577\n",
       "7  3.5          5.154433868  1.6544338677 2.7371514227\n",
       "8  4.0          5.521042084  1.5210420842 2.3135690218\n",
       "9  7.0          6.620866733 -0.3791332665 0.1437420338\n",
       "10 6.5          7.354083166  0.8540831663 0.7294580550\n",
       "11 9.0          7.720691383 -1.2793086172 1.6366305381"
      ]
     },
     "metadata": {},
     "output_type": "display_data"
    },
    {
     "data": {
      "text/html": [
       "<table>\n",
       "<thead><tr><th scope=col>RMSE</th></tr></thead>\n",
       "<tbody>\n",
       "\t<tr><td>1.165867447</td></tr>\n",
       "</tbody>\n",
       "</table>\n"
      ],
      "text/latex": [
       "\\begin{tabular}{r|l}\n",
       " RMSE\\\\\n",
       "\\hline\n",
       "\t 1.165867447\\\\\n",
       "\\end{tabular}\n"
      ],
      "text/markdown": [
       "\n",
       "RMSE | \n",
       "|---|\n",
       "| 1.165867447 | \n",
       "\n",
       "\n"
      ],
      "text/plain": [
       "  RMSE       \n",
       "1 1.165867447"
      ]
     },
     "metadata": {},
     "output_type": "display_data"
    }
   ],
   "source": [
    "prediction = predict(model, data)\n",
    "error = prediction-data$outcome\n",
    "square_error = error^2\n",
    "RMSE = sqrt(mean(square_error))\n",
    "\n",
    "data.frame(data$outcome, prediction, error, square_error)\n",
    "data.frame(RMSE)"
   ]
  },
  {
   "cell_type": "code",
   "execution_count": 6,
   "metadata": {},
   "outputs": [
    {
     "data": {},
     "metadata": {},
     "output_type": "display_data"
    },
    {
     "data": {
      "image/png": "[encoded data removed]",
      "text/plain": [
       "plot without title"
      ]
     },
     "metadata": {},
     "output_type": "display_data"
    }
   ],
   "source": [
    "ggplot(data) +\n",
    "geom_line(aes(x=x1, y=outcome, color=\"actual\")) + geom_point(aes(x1, y=outcome, color=\"actual\")) +\n",
    "geom_line(aes(x=x1, y=prediction, color=\"predicted\")) + geom_point(aes(x1, y=prediction, color=\"predicted\")) +\n",
    "scale_color_manual(values=PALETTE) + xlim(0,10) + ylim(0,10)"
   ]
  },
  {
   "cell_type": "code",
   "execution_count": 7,
   "metadata": {},
   "outputs": [
    {
     "data": {},
     "metadata": {},
     "output_type": "display_data"
    },
    {
     "data": {
      "image/png": "[encoded data removed]",
      "text/plain": [
       "plot without title"
      ]
     },
     "metadata": {},
     "output_type": "display_data"
    }
   ],
   "source": [
    "ggplot(data) +\n",
    "geom_line(aes(x=x1, y=error), color=PALETTE[4])+ geom_point(aes(x1, y=error), color=PALETTE[4]) +\n",
    "geom_hline(aes(yintercept=0)) + xlim(0,10) + ylim(-2.5,2.5)"
   ]
  },
  {
   "cell_type": "code",
   "execution_count": 8,
   "metadata": {},
   "outputs": [
    {
     "data": {},
     "metadata": {},
     "output_type": "display_data"
    },
    {
     "data": {
      "image/png": "[encoded data removed]",
      "text/plain": [
       "plot without title"
      ]
     },
     "metadata": {},
     "output_type": "display_data"
    }
   ],
   "source": [
    "ggplot(data) +\n",
    "geom_line(aes(x=x1, y=square_error), color=PALETTE[4])+ geom_point(aes(x1, y=square_error), color=PALETTE[4]) +\n",
    "geom_hline(aes(yintercept=0)) + xlim(0,10) + ylim(0,5)"
   ]
  },
  {
   "cell_type": "markdown",
   "metadata": {},
   "source": [
    "<br>\n",
    "### Evaluation Method: Out-of-Sample Performance (aka Holdout Performance)\n",
    "___\n",
    "Considered a better estimate of performance. Uses only some of the data to build a model, uses only some of the data to test a model, but uses different data for build and test. "
   ]
  },
  {
   "cell_type": "markdown",
   "metadata": {},
   "source": [
    "<br>\n",
    "#### Reserve some fraction of the data as the holdout.\n",
    "\n",
    "Here we reserve 20% of the data as the holdout.  The rest of the data is the holdin. "
   ]
  },
  {
   "cell_type": "code",
   "execution_count": 9,
   "metadata": {},
   "outputs": [
    {
     "data": {
      "text/html": [
       "<ol class=list-inline>\n",
       "\t<li>1</li>\n",
       "\t<li>2</li>\n",
       "\t<li>3</li>\n",
       "\t<li>4</li>\n",
       "\t<li>5</li>\n",
       "\t<li>6</li>\n",
       "\t<li>7</li>\n",
       "\t<li>10</li>\n",
       "\t<li>11</li>\n",
       "</ol>\n"
      ],
      "text/latex": [
       "\\begin{enumerate*}\n",
       "\\item 1\n",
       "\\item 2\n",
       "\\item 3\n",
       "\\item 4\n",
       "\\item 5\n",
       "\\item 6\n",
       "\\item 7\n",
       "\\item 10\n",
       "\\item 11\n",
       "\\end{enumerate*}\n"
      ],
      "text/markdown": [
       "1. 1\n",
       "2. 2\n",
       "3. 3\n",
       "4. 4\n",
       "5. 5\n",
       "6. 6\n",
       "7. 7\n",
       "8. 10\n",
       "9. 11\n",
       "\n",
       "\n"
      ],
      "text/plain": [
       "[1]  1  2  3  4  5  6  7 10 11"
      ]
     },
     "metadata": {},
     "output_type": "display_data"
    },
    {
     "data": {
      "text/html": [
       "<ol class=list-inline>\n",
       "\t<li>8</li>\n",
       "\t<li>9</li>\n",
       "</ol>\n"
      ],
      "text/latex": [
       "\\begin{enumerate*}\n",
       "\\item 8\n",
       "\\item 9\n",
       "\\end{enumerate*}\n"
      ],
      "text/markdown": [
       "1. 8\n",
       "2. 9\n",
       "\n",
       "\n"
      ],
      "text/plain": [
       "[1] 8 9"
      ]
     },
     "metadata": {},
     "output_type": "display_data"
    }
   ],
   "source": [
    "set.seed(12345)\n",
    "holdout = sample(1:nrow(data), 0.20*nrow(data))\n",
    "holdin = setdiff(1:nrow(data), holdout)\n",
    "\n",
    "holdin\n",
    "holdout"
   ]
  },
  {
   "cell_type": "markdown",
   "metadata": {},
   "source": [
    "<br>\n",
    "#### Build model based on holdin data. \n",
    "\n",
    "Here we build a linear regression model. "
   ]
  },
  {
   "cell_type": "code",
   "execution_count": 10,
   "metadata": {},
   "outputs": [
    {
     "data": {
      "text/plain": [
       "\n",
       "Call:\n",
       "lm(formula = outcome ~ x1, data = data[holdin, ])\n",
       "\n",
       "Coefficients:\n",
       "(Intercept)           x1  \n",
       "  0.7852037    0.7544675  \n"
      ]
     },
     "metadata": {},
     "output_type": "display_data"
    }
   ],
   "source": [
    "model = lm(outcome~x1, data[holdin, ])\n",
    "model"
   ]
  },
  {
   "cell_type": "code",
   "execution_count": 11,
   "metadata": {},
   "outputs": [
    {
     "data": {},
     "metadata": {},
     "output_type": "display_data"
    },
    {
     "data": {
      "image/png": "[encoded data removed]",
      "text/plain": [
       "plot without title"
      ]
     },
     "metadata": {},
     "output_type": "display_data"
    }
   ],
   "source": [
    "ggplot(data[holdin, ]) +\n",
    "geom_line(aes(x=x1, y=outcome, color=\"actual\")) + geom_point(aes(x1, y=outcome, color=\"actual\")) +\n",
    "geom_abline(aes(intercept=model$coefficients[\"(Intercept)\"], slope=model$coefficients[\"x1\"], color=\"predicted\")) +\n",
    "scale_color_manual(values=PALETTE) + xlim(0,10) +ylim(0,10)"
   ]
  },
  {
   "cell_type": "markdown",
   "metadata": {},
   "source": [
    "<br>\n",
    "#### Estimate performance of model based on holdout data. \n",
    "\n",
    "Here we use RMSE as the measure of performance."
   ]
  },
  {
   "cell_type": "code",
   "execution_count": 12,
   "metadata": {},
   "outputs": [
    {
     "data": {
      "text/html": [
       "<table>\n",
       "<thead><tr><th></th><th scope=col>data.outcome.holdout.</th><th scope=col>prediction</th><th scope=col>error</th><th scope=col>square_error</th></tr></thead>\n",
       "<tbody>\n",
       "\t<tr><th scope=row>8</th><td>4            </td><td>5.689242316  </td><td> 1.6892423159</td><td>2.85353960196</td></tr>\n",
       "\t<tr><th scope=row>9</th><td>7            </td><td>6.820943531  </td><td>-0.1790564689</td><td>0.03206121906</td></tr>\n",
       "</tbody>\n",
       "</table>\n"
      ],
      "text/latex": [
       "\\begin{tabular}{r|llll}\n",
       "  & data.outcome.holdout. & prediction & error & square\\_error\\\\\n",
       "\\hline\n",
       "\t8 & 4             & 5.689242316   &  1.6892423159 & 2.85353960196\\\\\n",
       "\t9 & 7             & 6.820943531   & -0.1790564689 & 0.03206121906\\\\\n",
       "\\end{tabular}\n"
      ],
      "text/markdown": [
       "\n",
       "| <!--/--> | data.outcome.holdout. | prediction | error | square_error | \n",
       "|---|---|\n",
       "| 8 | 4             | 5.689242316   |  1.6892423159 | 2.85353960196 | \n",
       "| 9 | 7             | 6.820943531   | -0.1790564689 | 0.03206121906 | \n",
       "\n",
       "\n"
      ],
      "text/plain": [
       "  data.outcome.holdout. prediction  error         square_error \n",
       "8 4                     5.689242316  1.6892423159 2.85353960196\n",
       "9 7                     6.820943531 -0.1790564689 0.03206121906"
      ]
     },
     "metadata": {},
     "output_type": "display_data"
    },
    {
     "data": {
      "text/html": [
       "<table>\n",
       "<thead><tr><th scope=col>RMSE</th></tr></thead>\n",
       "<tbody>\n",
       "\t<tr><td>1.201166271</td></tr>\n",
       "</tbody>\n",
       "</table>\n"
      ],
      "text/latex": [
       "\\begin{tabular}{r|l}\n",
       " RMSE\\\\\n",
       "\\hline\n",
       "\t 1.201166271\\\\\n",
       "\\end{tabular}\n"
      ],
      "text/markdown": [
       "\n",
       "RMSE | \n",
       "|---|\n",
       "| 1.201166271 | \n",
       "\n",
       "\n"
      ],
      "text/plain": [
       "  RMSE       \n",
       "1 1.201166271"
      ]
     },
     "metadata": {},
     "output_type": "display_data"
    }
   ],
   "source": [
    "prediction = predict(model, data[holdout, ])\n",
    "error = prediction-data$outcome[holdout]\n",
    "square_error = error^2\n",
    "RMSE = sqrt(mean(square_error))\n",
    "\n",
    "data.frame(data$outcome[holdout], prediction, error, square_error)\n",
    "data.frame(RMSE)"
   ]
  },
  {
   "cell_type": "code",
   "execution_count": 13,
   "metadata": {},
   "outputs": [
    {
     "data": {},
     "metadata": {},
     "output_type": "display_data"
    },
    {
     "data": {
      "image/png": "[encoded data removed]",
      "text/plain": [
       "plot without title"
      ]
     },
     "metadata": {},
     "output_type": "display_data"
    }
   ],
   "source": [
    "ggplot(data[holdout, ]) +\n",
    "geom_line(aes(x=x1, y=outcome, color=\"actual\")) + geom_point(aes(x1, y=outcome, color=\"actual\")) +\n",
    "geom_line(aes(x=x1, y=prediction, color=\"predicted\")) + geom_point(aes(x1, y=prediction, color=\"predicted\")) +\n",
    "scale_color_manual(values=PALETTE) + xlim(0,10) + ylim(0,10)"
   ]
  },
  {
   "cell_type": "code",
   "execution_count": 14,
   "metadata": {},
   "outputs": [
    {
     "data": {},
     "metadata": {},
     "output_type": "display_data"
    },
    {
     "data": {
      "image/png": "[encoded data removed]",
      "text/plain": [
       "plot without title"
      ]
     },
     "metadata": {},
     "output_type": "display_data"
    }
   ],
   "source": [
    "ggplot(data[holdout, ]) +\n",
    "geom_line(aes(x=x1, y=error), color=PALETTE[4])+ geom_point(aes(x1, y=error), color=PALETTE[4]) +\n",
    "geom_hline(aes(yintercept=0)) + xlim(0,10) + ylim(-2.5,2.5)"
   ]
  },
  {
   "cell_type": "code",
   "execution_count": 15,
   "metadata": {},
   "outputs": [
    {
     "data": {},
     "metadata": {},
     "output_type": "display_data"
    },
    {
     "data": {
      "image/png": "[encoded data removed]",
      "text/plain": [
       "plot without title"
      ]
     },
     "metadata": {},
     "output_type": "display_data"
    }
   ],
   "source": [
    "ggplot(data[holdout, ]) +\n",
    "geom_line(aes(x=x1, y=square_error), color=PALETTE[4])+ geom_point(aes(x1, y=square_error), color=PALETTE[4]) +\n",
    "geom_hline(aes(yintercept=0)) + xlim(0,10) + ylim(0,5)"
   ]
  },
  {
   "cell_type": "markdown",
   "metadata": {},
   "source": [
    "<br>\n",
    "### Evaluation Method: Cross-Validation\n",
    "___ \n",
    "Considered among the best estimates of performance.  Uses all of the data to build a model, uses all of the data to test a model, and uses different data to build and test."
   ]
  },
  {
   "cell_type": "markdown",
   "metadata": {},
   "source": [
    "<br>\n",
    "#### Define folds.\n",
    "\n",
    "Randomly partition the data into approximately equal-sized, non-overlapping subsets.  You choose the number of subsets.\n",
    "\n",
    "Then, for each subset, define a fold comprising test data and train data, where the test data is the subset and the train data is the rest.\n",
    "\n",
    "Here we choose 3 subsets, and so 3 folds.\n",
    "\n",
    "_**Implementation detail:** Use the `createFolds` and `creatFolds.train` functions to create a list of vectors of test observation indices, and a list of vectors of train observation indices, respectively._"
   ]
  },
  {
   "cell_type": "code",
   "execution_count": 16,
   "metadata": {},
   "outputs": [
    {
     "data": {
      "text/html": [
       "<dl>\n",
       "\t<dt>$Fold1</dt>\n",
       "\t\t<dd><ol class=list-inline>\n",
       "\t<li>2</li>\n",
       "\t<li>3</li>\n",
       "\t<li>5</li>\n",
       "\t<li>6</li>\n",
       "\t<li>7</li>\n",
       "\t<li>8</li>\n",
       "\t<li>9</li>\n",
       "\t<li>11</li>\n",
       "</ol>\n",
       "</dd>\n",
       "\t<dt>$Fold2</dt>\n",
       "\t\t<dd><ol class=list-inline>\n",
       "\t<li>1</li>\n",
       "\t<li>2</li>\n",
       "\t<li>4</li>\n",
       "\t<li>5</li>\n",
       "\t<li>7</li>\n",
       "\t<li>10</li>\n",
       "\t<li>11</li>\n",
       "</ol>\n",
       "</dd>\n",
       "\t<dt>$Fold3</dt>\n",
       "\t\t<dd><ol class=list-inline>\n",
       "\t<li>1</li>\n",
       "\t<li>3</li>\n",
       "\t<li>4</li>\n",
       "\t<li>6</li>\n",
       "\t<li>8</li>\n",
       "\t<li>9</li>\n",
       "\t<li>10</li>\n",
       "</ol>\n",
       "</dd>\n",
       "</dl>\n"
      ],
      "text/latex": [
       "\\begin{description}\n",
       "\\item[\\$Fold1] \\begin{enumerate*}\n",
       "\\item 2\n",
       "\\item 3\n",
       "\\item 5\n",
       "\\item 6\n",
       "\\item 7\n",
       "\\item 8\n",
       "\\item 9\n",
       "\\item 11\n",
       "\\end{enumerate*}\n",
       "\n",
       "\\item[\\$Fold2] \\begin{enumerate*}\n",
       "\\item 1\n",
       "\\item 2\n",
       "\\item 4\n",
       "\\item 5\n",
       "\\item 7\n",
       "\\item 10\n",
       "\\item 11\n",
       "\\end{enumerate*}\n",
       "\n",
       "\\item[\\$Fold3] \\begin{enumerate*}\n",
       "\\item 1\n",
       "\\item 3\n",
       "\\item 4\n",
       "\\item 6\n",
       "\\item 8\n",
       "\\item 9\n",
       "\\item 10\n",
       "\\end{enumerate*}\n",
       "\n",
       "\\end{description}\n"
      ],
      "text/markdown": [
       "$Fold1\n",
       ":   1. 2\n",
       "2. 3\n",
       "3. 5\n",
       "4. 6\n",
       "5. 7\n",
       "6. 8\n",
       "7. 9\n",
       "8. 11\n",
       "\n",
       "\n",
       "\n",
       "$Fold2\n",
       ":   1. 1\n",
       "2. 2\n",
       "3. 4\n",
       "4. 5\n",
       "5. 7\n",
       "6. 10\n",
       "7. 11\n",
       "\n",
       "\n",
       "\n",
       "$Fold3\n",
       ":   1. 1\n",
       "2. 3\n",
       "3. 4\n",
       "4. 6\n",
       "5. 8\n",
       "6. 9\n",
       "7. 10\n",
       "\n",
       "\n",
       "\n",
       "\n",
       "\n"
      ],
      "text/plain": [
       "$Fold1\n",
       "[1]  2  3  5  6  7  8  9 11\n",
       "\n",
       "$Fold2\n",
       "[1]  1  2  4  5  7 10 11\n",
       "\n",
       "$Fold3\n",
       "[1]  1  3  4  6  8  9 10\n"
      ]
     },
     "metadata": {},
     "output_type": "display_data"
    },
    {
     "data": {
      "text/html": [
       "<dl>\n",
       "\t<dt>$Fold1</dt>\n",
       "\t\t<dd><ol class=list-inline>\n",
       "\t<li>1</li>\n",
       "\t<li>4</li>\n",
       "\t<li>10</li>\n",
       "</ol>\n",
       "</dd>\n",
       "\t<dt>$Fold2</dt>\n",
       "\t\t<dd><ol class=list-inline>\n",
       "\t<li>3</li>\n",
       "\t<li>6</li>\n",
       "\t<li>8</li>\n",
       "\t<li>9</li>\n",
       "</ol>\n",
       "</dd>\n",
       "\t<dt>$Fold3</dt>\n",
       "\t\t<dd><ol class=list-inline>\n",
       "\t<li>2</li>\n",
       "\t<li>5</li>\n",
       "\t<li>7</li>\n",
       "\t<li>11</li>\n",
       "</ol>\n",
       "</dd>\n",
       "</dl>\n"
      ],
      "text/latex": [
       "\\begin{description}\n",
       "\\item[\\$Fold1] \\begin{enumerate*}\n",
       "\\item 1\n",
       "\\item 4\n",
       "\\item 10\n",
       "\\end{enumerate*}\n",
       "\n",
       "\\item[\\$Fold2] \\begin{enumerate*}\n",
       "\\item 3\n",
       "\\item 6\n",
       "\\item 8\n",
       "\\item 9\n",
       "\\end{enumerate*}\n",
       "\n",
       "\\item[\\$Fold3] \\begin{enumerate*}\n",
       "\\item 2\n",
       "\\item 5\n",
       "\\item 7\n",
       "\\item 11\n",
       "\\end{enumerate*}\n",
       "\n",
       "\\end{description}\n"
      ],
      "text/markdown": [
       "$Fold1\n",
       ":   1. 1\n",
       "2. 4\n",
       "3. 10\n",
       "\n",
       "\n",
       "\n",
       "$Fold2\n",
       ":   1. 3\n",
       "2. 6\n",
       "3. 8\n",
       "4. 9\n",
       "\n",
       "\n",
       "\n",
       "$Fold3\n",
       ":   1. 2\n",
       "2. 5\n",
       "3. 7\n",
       "4. 11\n",
       "\n",
       "\n",
       "\n",
       "\n",
       "\n"
      ],
      "text/plain": [
       "$Fold1\n",
       "[1]  1  4 10\n",
       "\n",
       "$Fold2\n",
       "[1] 3 6 8 9\n",
       "\n",
       "$Fold3\n",
       "[1]  2  5  7 11\n"
      ]
     },
     "metadata": {},
     "output_type": "display_data"
    }
   ],
   "source": [
    "set.seed(12345)\n",
    "test = createFolds(data$outcome, k=3)\n",
    "train = createFolds.train(data$outcome, test)\n",
    "\n",
    "train\n",
    "test"
   ]
  },
  {
   "cell_type": "markdown",
   "metadata": {},
   "source": [
    "<br>\n",
    "Here are the train and test data of fold #1.\n",
    "\n",
    "_**Implementation detail:** Use the `[[...]]` notation to access a certain element of a list._"
   ]
  },
  {
   "cell_type": "code",
   "execution_count": 17,
   "metadata": {},
   "outputs": [
    {
     "data": {
      "text/html": [
       "<table>\n",
       "<thead><tr><th></th><th scope=col>x1</th><th scope=col>outcome</th></tr></thead>\n",
       "<tbody>\n",
       "\t<tr><th scope=row>2</th><td>1.5</td><td>0.5</td></tr>\n",
       "\t<tr><th scope=row>3</th><td>2.0</td><td>3.0</td></tr>\n",
       "\t<tr><th scope=row>5</th><td>4.0</td><td>5.5</td></tr>\n",
       "\t<tr><th scope=row>6</th><td>5.0</td><td>5.0</td></tr>\n",
       "\t<tr><th scope=row>7</th><td>6.0</td><td>3.5</td></tr>\n",
       "\t<tr><th scope=row>8</th><td>6.5</td><td>4.0</td></tr>\n",
       "\t<tr><th scope=row>9</th><td>8.0</td><td>7.0</td></tr>\n",
       "\t<tr><th scope=row>11</th><td>9.5</td><td>9.0</td></tr>\n",
       "</tbody>\n",
       "</table>\n"
      ],
      "text/latex": [
       "\\begin{tabular}{r|ll}\n",
       "  & x1 & outcome\\\\\n",
       "\\hline\n",
       "\t2 & 1.5 & 0.5\\\\\n",
       "\t3 & 2.0 & 3.0\\\\\n",
       "\t5 & 4.0 & 5.5\\\\\n",
       "\t6 & 5.0 & 5.0\\\\\n",
       "\t7 & 6.0 & 3.5\\\\\n",
       "\t8 & 6.5 & 4.0\\\\\n",
       "\t9 & 8.0 & 7.0\\\\\n",
       "\t11 & 9.5 & 9.0\\\\\n",
       "\\end{tabular}\n"
      ],
      "text/markdown": [
       "\n",
       "| <!--/--> | x1 | outcome | \n",
       "|---|---|---|---|---|---|---|---|\n",
       "| 2 | 1.5 | 0.5 | \n",
       "| 3 | 2.0 | 3.0 | \n",
       "| 5 | 4.0 | 5.5 | \n",
       "| 6 | 5.0 | 5.0 | \n",
       "| 7 | 6.0 | 3.5 | \n",
       "| 8 | 6.5 | 4.0 | \n",
       "| 9 | 8.0 | 7.0 | \n",
       "| 11 | 9.5 | 9.0 | \n",
       "\n",
       "\n"
      ],
      "text/plain": [
       "   x1  outcome\n",
       "2  1.5 0.5    \n",
       "3  2.0 3.0    \n",
       "5  4.0 5.5    \n",
       "6  5.0 5.0    \n",
       "7  6.0 3.5    \n",
       "8  6.5 4.0    \n",
       "9  8.0 7.0    \n",
       "11 9.5 9.0    "
      ]
     },
     "metadata": {},
     "output_type": "display_data"
    },
    {
     "data": {
      "text/html": [
       "<table>\n",
       "<thead><tr><th></th><th scope=col>x1</th><th scope=col>outcome</th></tr></thead>\n",
       "<tbody>\n",
       "\t<tr><th scope=row>1</th><td>1  </td><td>1.0</td></tr>\n",
       "\t<tr><th scope=row>4</th><td>3  </td><td>4.0</td></tr>\n",
       "\t<tr><th scope=row>10</th><td>9  </td><td>6.5</td></tr>\n",
       "</tbody>\n",
       "</table>\n"
      ],
      "text/latex": [
       "\\begin{tabular}{r|ll}\n",
       "  & x1 & outcome\\\\\n",
       "\\hline\n",
       "\t1 & 1   & 1.0\\\\\n",
       "\t4 & 3   & 4.0\\\\\n",
       "\t10 & 9   & 6.5\\\\\n",
       "\\end{tabular}\n"
      ],
      "text/markdown": [
       "\n",
       "| <!--/--> | x1 | outcome | \n",
       "|---|---|---|\n",
       "| 1 | 1   | 1.0 | \n",
       "| 4 | 3   | 4.0 | \n",
       "| 10 | 9   | 6.5 | \n",
       "\n",
       "\n"
      ],
      "text/plain": [
       "   x1 outcome\n",
       "1  1  1.0    \n",
       "4  3  4.0    \n",
       "10 9  6.5    "
      ]
     },
     "metadata": {},
     "output_type": "display_data"
    }
   ],
   "source": [
    "data[train[[1]], ]\n",
    "data[test[[1]], ]"
   ]
  },
  {
   "cell_type": "markdown",
   "metadata": {},
   "source": [
    "<br>\n",
    "Here are the train and test data of fold #2.\n",
    "\n",
    "_**Implementation detail:** Use the `[[...]]` notation to access a certain element of a list._"
   ]
  },
  {
   "cell_type": "code",
   "execution_count": 18,
   "metadata": {},
   "outputs": [
    {
     "data": {
      "text/html": [
       "<table>\n",
       "<thead><tr><th></th><th scope=col>x1</th><th scope=col>outcome</th></tr></thead>\n",
       "<tbody>\n",
       "\t<tr><th scope=row>1</th><td>1.0</td><td>1.0</td></tr>\n",
       "\t<tr><th scope=row>2</th><td>1.5</td><td>0.5</td></tr>\n",
       "\t<tr><th scope=row>4</th><td>3.0</td><td>4.0</td></tr>\n",
       "\t<tr><th scope=row>5</th><td>4.0</td><td>5.5</td></tr>\n",
       "\t<tr><th scope=row>7</th><td>6.0</td><td>3.5</td></tr>\n",
       "\t<tr><th scope=row>10</th><td>9.0</td><td>6.5</td></tr>\n",
       "\t<tr><th scope=row>11</th><td>9.5</td><td>9.0</td></tr>\n",
       "</tbody>\n",
       "</table>\n"
      ],
      "text/latex": [
       "\\begin{tabular}{r|ll}\n",
       "  & x1 & outcome\\\\\n",
       "\\hline\n",
       "\t1 & 1.0 & 1.0\\\\\n",
       "\t2 & 1.5 & 0.5\\\\\n",
       "\t4 & 3.0 & 4.0\\\\\n",
       "\t5 & 4.0 & 5.5\\\\\n",
       "\t7 & 6.0 & 3.5\\\\\n",
       "\t10 & 9.0 & 6.5\\\\\n",
       "\t11 & 9.5 & 9.0\\\\\n",
       "\\end{tabular}\n"
      ],
      "text/markdown": [
       "\n",
       "| <!--/--> | x1 | outcome | \n",
       "|---|---|---|---|---|---|---|\n",
       "| 1 | 1.0 | 1.0 | \n",
       "| 2 | 1.5 | 0.5 | \n",
       "| 4 | 3.0 | 4.0 | \n",
       "| 5 | 4.0 | 5.5 | \n",
       "| 7 | 6.0 | 3.5 | \n",
       "| 10 | 9.0 | 6.5 | \n",
       "| 11 | 9.5 | 9.0 | \n",
       "\n",
       "\n"
      ],
      "text/plain": [
       "   x1  outcome\n",
       "1  1.0 1.0    \n",
       "2  1.5 0.5    \n",
       "4  3.0 4.0    \n",
       "5  4.0 5.5    \n",
       "7  6.0 3.5    \n",
       "10 9.0 6.5    \n",
       "11 9.5 9.0    "
      ]
     },
     "metadata": {},
     "output_type": "display_data"
    },
    {
     "data": {
      "text/html": [
       "<table>\n",
       "<thead><tr><th></th><th scope=col>x1</th><th scope=col>outcome</th></tr></thead>\n",
       "<tbody>\n",
       "\t<tr><th scope=row>3</th><td>2.0</td><td>3  </td></tr>\n",
       "\t<tr><th scope=row>6</th><td>5.0</td><td>5  </td></tr>\n",
       "\t<tr><th scope=row>8</th><td>6.5</td><td>4  </td></tr>\n",
       "\t<tr><th scope=row>9</th><td>8.0</td><td>7  </td></tr>\n",
       "</tbody>\n",
       "</table>\n"
      ],
      "text/latex": [
       "\\begin{tabular}{r|ll}\n",
       "  & x1 & outcome\\\\\n",
       "\\hline\n",
       "\t3 & 2.0 & 3  \\\\\n",
       "\t6 & 5.0 & 5  \\\\\n",
       "\t8 & 6.5 & 4  \\\\\n",
       "\t9 & 8.0 & 7  \\\\\n",
       "\\end{tabular}\n"
      ],
      "text/markdown": [
       "\n",
       "| <!--/--> | x1 | outcome | \n",
       "|---|---|---|---|\n",
       "| 3 | 2.0 | 3   | \n",
       "| 6 | 5.0 | 5   | \n",
       "| 8 | 6.5 | 4   | \n",
       "| 9 | 8.0 | 7   | \n",
       "\n",
       "\n"
      ],
      "text/plain": [
       "  x1  outcome\n",
       "3 2.0 3      \n",
       "6 5.0 5      \n",
       "8 6.5 4      \n",
       "9 8.0 7      "
      ]
     },
     "metadata": {},
     "output_type": "display_data"
    }
   ],
   "source": [
    "data[train[[2]], ]\n",
    "data[test[[2]], ]"
   ]
  },
  {
   "cell_type": "markdown",
   "metadata": {},
   "source": [
    "<br>\n",
    "Here are the train and test data of fold #3.\n",
    "\n",
    "_**Implementation detail:** Use the `[[...]]` notation to access a certain element of a list._"
   ]
  },
  {
   "cell_type": "code",
   "execution_count": 19,
   "metadata": {},
   "outputs": [
    {
     "data": {
      "text/html": [
       "<table>\n",
       "<thead><tr><th></th><th scope=col>x1</th><th scope=col>outcome</th></tr></thead>\n",
       "<tbody>\n",
       "\t<tr><th scope=row>1</th><td>1.0</td><td>1.0</td></tr>\n",
       "\t<tr><th scope=row>3</th><td>2.0</td><td>3.0</td></tr>\n",
       "\t<tr><th scope=row>4</th><td>3.0</td><td>4.0</td></tr>\n",
       "\t<tr><th scope=row>6</th><td>5.0</td><td>5.0</td></tr>\n",
       "\t<tr><th scope=row>8</th><td>6.5</td><td>4.0</td></tr>\n",
       "\t<tr><th scope=row>9</th><td>8.0</td><td>7.0</td></tr>\n",
       "\t<tr><th scope=row>10</th><td>9.0</td><td>6.5</td></tr>\n",
       "</tbody>\n",
       "</table>\n"
      ],
      "text/latex": [
       "\\begin{tabular}{r|ll}\n",
       "  & x1 & outcome\\\\\n",
       "\\hline\n",
       "\t1 & 1.0 & 1.0\\\\\n",
       "\t3 & 2.0 & 3.0\\\\\n",
       "\t4 & 3.0 & 4.0\\\\\n",
       "\t6 & 5.0 & 5.0\\\\\n",
       "\t8 & 6.5 & 4.0\\\\\n",
       "\t9 & 8.0 & 7.0\\\\\n",
       "\t10 & 9.0 & 6.5\\\\\n",
       "\\end{tabular}\n"
      ],
      "text/markdown": [
       "\n",
       "| <!--/--> | x1 | outcome | \n",
       "|---|---|---|---|---|---|---|\n",
       "| 1 | 1.0 | 1.0 | \n",
       "| 3 | 2.0 | 3.0 | \n",
       "| 4 | 3.0 | 4.0 | \n",
       "| 6 | 5.0 | 5.0 | \n",
       "| 8 | 6.5 | 4.0 | \n",
       "| 9 | 8.0 | 7.0 | \n",
       "| 10 | 9.0 | 6.5 | \n",
       "\n",
       "\n"
      ],
      "text/plain": [
       "   x1  outcome\n",
       "1  1.0 1.0    \n",
       "3  2.0 3.0    \n",
       "4  3.0 4.0    \n",
       "6  5.0 5.0    \n",
       "8  6.5 4.0    \n",
       "9  8.0 7.0    \n",
       "10 9.0 6.5    "
      ]
     },
     "metadata": {},
     "output_type": "display_data"
    },
    {
     "data": {
      "text/html": [
       "<table>\n",
       "<thead><tr><th></th><th scope=col>x1</th><th scope=col>outcome</th></tr></thead>\n",
       "<tbody>\n",
       "\t<tr><th scope=row>2</th><td>1.5</td><td>0.5</td></tr>\n",
       "\t<tr><th scope=row>5</th><td>4.0</td><td>5.5</td></tr>\n",
       "\t<tr><th scope=row>7</th><td>6.0</td><td>3.5</td></tr>\n",
       "\t<tr><th scope=row>11</th><td>9.5</td><td>9.0</td></tr>\n",
       "</tbody>\n",
       "</table>\n"
      ],
      "text/latex": [
       "\\begin{tabular}{r|ll}\n",
       "  & x1 & outcome\\\\\n",
       "\\hline\n",
       "\t2 & 1.5 & 0.5\\\\\n",
       "\t5 & 4.0 & 5.5\\\\\n",
       "\t7 & 6.0 & 3.5\\\\\n",
       "\t11 & 9.5 & 9.0\\\\\n",
       "\\end{tabular}\n"
      ],
      "text/markdown": [
       "\n",
       "| <!--/--> | x1 | outcome | \n",
       "|---|---|---|---|\n",
       "| 2 | 1.5 | 0.5 | \n",
       "| 5 | 4.0 | 5.5 | \n",
       "| 7 | 6.0 | 3.5 | \n",
       "| 11 | 9.5 | 9.0 | \n",
       "\n",
       "\n"
      ],
      "text/plain": [
       "   x1  outcome\n",
       "2  1.5 0.5    \n",
       "5  4.0 5.5    \n",
       "7  6.0 3.5    \n",
       "11 9.5 9.0    "
      ]
     },
     "metadata": {},
     "output_type": "display_data"
    }
   ],
   "source": [
    "data[train[[3]], ]\n",
    "data[test[[3]], ]"
   ]
  },
  {
   "cell_type": "markdown",
   "metadata": {},
   "source": [
    "<br>\n",
    "#### For each fold, build a model based on _train_ data.\n",
    "\n",
    "Use the same method and hyper-parameter settings for each model.\n",
    "\n",
    "_**Implementation detail:** You can create a list and assign each of your models to be an element of that list.  Use the `[[...]]` notation to access a certain element of a list._"
   ]
  },
  {
   "cell_type": "code",
   "execution_count": 20,
   "metadata": {
    "scrolled": false
   },
   "outputs": [
    {
     "data": {
      "text/plain": [
       "[[1]]\n",
       "\n",
       "Call:\n",
       "lm(formula = outcome ~ x1, data = data[train[[1]], ])\n",
       "\n",
       "Coefficients:\n",
       "(Intercept)           x1  \n",
       "  0.4516503    0.7973364  \n",
       "\n",
       "\n",
       "[[2]]\n",
       "\n",
       "Call:\n",
       "lm(formula = outcome ~ x1, data = data[train[[2]], ])\n",
       "\n",
       "Coefficients:\n",
       "(Intercept)           x1  \n",
       "  0.4862944    0.7822335  \n",
       "\n",
       "\n",
       "[[3]]\n",
       "\n",
       "Call:\n",
       "lm(formula = outcome ~ x1, data = data[train[[3]], ])\n",
       "\n",
       "Coefficients:\n",
       "(Intercept)           x1  \n",
       "  1.3605464    0.6080051  \n",
       "\n"
      ]
     },
     "metadata": {},
     "output_type": "display_data"
    }
   ],
   "source": [
    "model = list()\n",
    "\n",
    "model[[1]] = lm(outcome~x1, data[train[[1]],])\n",
    "model[[2]] = lm(outcome~x1, data[train[[2]],])\n",
    "model[[3]] = lm(outcome~x1, data[train[[3]],])\n",
    "\n",
    "model"
   ]
  },
  {
   "cell_type": "code",
   "execution_count": 21,
   "metadata": {},
   "outputs": [
    {
     "data": {
      "image/png": "[encoded data removed]",
      "text/plain": [
       "plot without title"
      ]
     },
     "metadata": {},
     "output_type": "display_data"
    }
   ],
   "source": [
    "grid.arrange(ggplot(data[train[[1]],]) +\n",
    "             geom_line(aes(x=x1, y=outcome, color=\"actual\")) + geom_point(aes(x1, y=outcome, color=\"actual\")) +\n",
    "             geom_abline(aes(intercept=model[[1]]$coefficients[\"(Intercept)\"], slope=model[[1]]$coefficients[\"x1\"], color=\"predicted\")) +\n",
    "             scale_color_manual(values=PALETTE) + xlim(0,10) + ylim(0,10) + theme.legend_bottom,\n",
    "             \n",
    "             ggplot(data[train[[2]],]) +\n",
    "             geom_line(aes(x=x1, y=outcome, color=\"actual\")) + geom_point(aes(x1, y=outcome, color=\"actual\")) +\n",
    "             geom_abline(aes(intercept=model[[2]]$coefficients[\"(Intercept)\"], slope=model[[2]]$coefficients[\"x1\"], color=\"predicted\")) +\n",
    "             scale_color_manual(values=PALETTE) + xlim(0,10) + ylim(0,10) + theme.legend_bottom,\n",
    "             \n",
    "             ggplot(data[train[[3]],]) +\n",
    "             geom_line(aes(x=x1, y=outcome, color=\"actual\")) + geom_point(aes(x1, y=outcome, color=\"actual\")) +\n",
    "             geom_abline(aes(intercept=model[[3]]$coefficients[\"(Intercept)\"], slope=model[[3]]$coefficients[\"x1\"], color=\"predicted\")) +\n",
    "             scale_color_manual(values=PALETTE) + xlim(0,10) + ylim(0,10) + theme.legend_bottom,\n",
    "             \n",
    "             nrow=1)"
   ]
  },
  {
   "cell_type": "markdown",
   "metadata": {},
   "source": [
    "<br>\n",
    "#### With each model, predict the corresponding _test_ data and calculate the per observation performance measures (hits or errors)."
   ]
  },
  {
   "cell_type": "code",
   "execution_count": 22,
   "metadata": {
    "scrolled": false
   },
   "outputs": [
    {
     "data": {
      "text/html": [
       "<ol>\n",
       "\t<li><table>\n",
       "<thead><tr><th></th><th scope=col>x1</th><th scope=col>outcome</th><th scope=col>outcome.predicted</th><th scope=col>error</th></tr></thead>\n",
       "<tbody>\n",
       "\t<tr><th scope=row>1</th><td>1            </td><td>1.0          </td><td>1.248986682  </td><td> 0.2489866821</td></tr>\n",
       "\t<tr><th scope=row>4</th><td>3            </td><td>4.0          </td><td>2.843659525  </td><td>-1.1563404748</td></tr>\n",
       "\t<tr><th scope=row>10</th><td>9            </td><td>6.5          </td><td>7.627678054  </td><td> 1.1276780544</td></tr>\n",
       "</tbody>\n",
       "</table>\n",
       "</li>\n",
       "\t<li><table>\n",
       "<thead><tr><th></th><th scope=col>x1</th><th scope=col>outcome</th><th scope=col>outcome.predicted</th><th scope=col>error</th></tr></thead>\n",
       "<tbody>\n",
       "\t<tr><th scope=row>3</th><td>2.0          </td><td>3            </td><td>2.050761421  </td><td>-0.9492385787</td></tr>\n",
       "\t<tr><th scope=row>6</th><td>5.0          </td><td>5            </td><td>4.397461929  </td><td>-0.6025380711</td></tr>\n",
       "\t<tr><th scope=row>8</th><td>6.5          </td><td>4            </td><td>5.570812183  </td><td> 1.5708121827</td></tr>\n",
       "\t<tr><th scope=row>9</th><td>8.0          </td><td>7            </td><td>6.744162437  </td><td>-0.2558375635</td></tr>\n",
       "</tbody>\n",
       "</table>\n",
       "</li>\n",
       "\t<li><table>\n",
       "<thead><tr><th></th><th scope=col>x1</th><th scope=col>outcome</th><th scope=col>outcome.predicted</th><th scope=col>error</th></tr></thead>\n",
       "<tbody>\n",
       "\t<tr><th scope=row>2</th><td>1.5         </td><td>0.5         </td><td>2.272554003 </td><td> 1.772554003</td></tr>\n",
       "\t<tr><th scope=row>5</th><td>4.0         </td><td>5.5         </td><td>3.792566709 </td><td>-1.707433291</td></tr>\n",
       "\t<tr><th scope=row>7</th><td>6.0         </td><td>3.5         </td><td>5.008576874 </td><td> 1.508576874</td></tr>\n",
       "\t<tr><th scope=row>11</th><td>9.5         </td><td>9.0         </td><td>7.136594663 </td><td>-1.863405337</td></tr>\n",
       "</tbody>\n",
       "</table>\n",
       "</li>\n",
       "</ol>\n"
      ],
      "text/latex": [
       "\\begin{enumerate}\n",
       "\\item \\begin{tabular}{r|llll}\n",
       "  & x1 & outcome & outcome.predicted & error\\\\\n",
       "\\hline\n",
       "\t1 & 1             & 1.0           & 1.248986682   &  0.2489866821\\\\\n",
       "\t4 & 3             & 4.0           & 2.843659525   & -1.1563404748\\\\\n",
       "\t10 & 9             & 6.5           & 7.627678054   &  1.1276780544\\\\\n",
       "\\end{tabular}\n",
       "\n",
       "\\item \\begin{tabular}{r|llll}\n",
       "  & x1 & outcome & outcome.predicted & error\\\\\n",
       "\\hline\n",
       "\t3 & 2.0           & 3             & 2.050761421   & -0.9492385787\\\\\n",
       "\t6 & 5.0           & 5             & 4.397461929   & -0.6025380711\\\\\n",
       "\t8 & 6.5           & 4             & 5.570812183   &  1.5708121827\\\\\n",
       "\t9 & 8.0           & 7             & 6.744162437   & -0.2558375635\\\\\n",
       "\\end{tabular}\n",
       "\n",
       "\\item \\begin{tabular}{r|llll}\n",
       "  & x1 & outcome & outcome.predicted & error\\\\\n",
       "\\hline\n",
       "\t2 & 1.5          & 0.5          & 2.272554003  &  1.772554003\\\\\n",
       "\t5 & 4.0          & 5.5          & 3.792566709  & -1.707433291\\\\\n",
       "\t7 & 6.0          & 3.5          & 5.008576874  &  1.508576874\\\\\n",
       "\t11 & 9.5          & 9.0          & 7.136594663  & -1.863405337\\\\\n",
       "\\end{tabular}\n",
       "\n",
       "\\end{enumerate}\n"
      ],
      "text/markdown": [
       "1. \n",
       "| <!--/--> | x1 | outcome | outcome.predicted | error | \n",
       "|---|---|---|\n",
       "| 1 | 1             | 1.0           | 1.248986682   |  0.2489866821 | \n",
       "| 4 | 3             | 4.0           | 2.843659525   | -1.1563404748 | \n",
       "| 10 | 9             | 6.5           | 7.627678054   |  1.1276780544 | \n",
       "\n",
       "\n",
       "\n",
       "2. \n",
       "| <!--/--> | x1 | outcome | outcome.predicted | error | \n",
       "|---|---|---|---|\n",
       "| 3 | 2.0           | 3             | 2.050761421   | -0.9492385787 | \n",
       "| 6 | 5.0           | 5             | 4.397461929   | -0.6025380711 | \n",
       "| 8 | 6.5           | 4             | 5.570812183   |  1.5708121827 | \n",
       "| 9 | 8.0           | 7             | 6.744162437   | -0.2558375635 | \n",
       "\n",
       "\n",
       "\n",
       "3. \n",
       "| <!--/--> | x1 | outcome | outcome.predicted | error | \n",
       "|---|---|---|---|\n",
       "| 2 | 1.5          | 0.5          | 2.272554003  |  1.772554003 | \n",
       "| 5 | 4.0          | 5.5          | 3.792566709  | -1.707433291 | \n",
       "| 7 | 6.0          | 3.5          | 5.008576874  |  1.508576874 | \n",
       "| 11 | 9.5          | 9.0          | 7.136594663  | -1.863405337 | \n",
       "\n",
       "\n",
       "\n",
       "\n",
       "\n"
      ],
      "text/plain": [
       "[[1]]\n",
       "   x1 outcome outcome.predicted         error\n",
       "1   1     1.0       1.248986682  0.2489866821\n",
       "4   3     4.0       2.843659525 -1.1563404748\n",
       "10  9     6.5       7.627678054  1.1276780544\n",
       "\n",
       "[[2]]\n",
       "   x1 outcome outcome.predicted         error\n",
       "3 2.0       3       2.050761421 -0.9492385787\n",
       "6 5.0       5       4.397461929 -0.6025380711\n",
       "8 6.5       4       5.570812183  1.5708121827\n",
       "9 8.0       7       6.744162437 -0.2558375635\n",
       "\n",
       "[[3]]\n",
       "    x1 outcome outcome.predicted        error\n",
       "2  1.5     0.5       2.272554003  1.772554003\n",
       "5  4.0     5.5       3.792566709 -1.707433291\n",
       "7  6.0     3.5       5.008576874  1.508576874\n",
       "11 9.5     9.0       7.136594663 -1.863405337\n"
      ]
     },
     "metadata": {},
     "output_type": "display_data"
    }
   ],
   "source": [
    "result = list()\n",
    "\n",
    "result[[1]] = data[test[[1]],]\n",
    "result[[1]]$outcome.predicted = predict(model[[1]], data[test[[1]],])\n",
    "result[[1]]$error = result[[1]]$outcome.predicted - result[[1]]$outcome\n",
    "\n",
    "result[[2]] = data[test[[2]],]\n",
    "result[[2]]$outcome.predicted = predict(model[[2]], data[test[[2]],])\n",
    "result[[2]]$error = result[[2]]$outcome.predicted - result[[2]]$outcome\n",
    "\n",
    "\n",
    "result[[3]] = data[test[[3]],]\n",
    "result[[3]]$outcome.predicted = predict(model[[3]], data[test[[3]],])\n",
    "result[[3]]$error = result[[3]]$outcome.predicted - result[[3]]$outcome\n",
    "\n",
    "result"
   ]
  },
  {
   "cell_type": "code",
   "execution_count": 23,
   "metadata": {},
   "outputs": [
    {
     "data": {
      "image/png": "[encoded data removed]",
      "text/plain": [
       "plot without title"
      ]
     },
     "metadata": {},
     "output_type": "display_data"
    }
   ],
   "source": [
    "grid.arrange(ggplot(result[[1]]) +\n",
    "             geom_line(aes(x=x1, y=outcome, color=\"actual\")) + geom_point(aes(x1, y=outcome, color=\"actual\")) +\n",
    "             geom_line(aes(x=x1, y=outcome.predicted, color=\"predicted\")) + geom_point(aes(x1, y=outcome.predicted, color=\"predicted\")) +\n",
    "             scale_color_manual(values=PALETTE) + xlim(0,10) + ylim(0,10) + theme.legend_bottom,\n",
    "             \n",
    "             ggplot(result[[2]]) +\n",
    "             geom_line(aes(x=x1, y=outcome, color=\"actual\")) + geom_point(aes(x1, y=outcome, color=\"actual\")) +\n",
    "             geom_line(aes(x=x1, y=outcome.predicted, color=\"predicted\")) + geom_point(aes(x1, y=outcome.predicted, color=\"predicted\")) +\n",
    "             scale_color_manual(values=PALETTE) + xlim(0,10) + ylim(0,10) + theme.legend_bottom,\n",
    "             \n",
    "             ggplot(result[[3]]) +\n",
    "             geom_line(aes(x=x1, y=outcome, color=\"actual\")) + geom_point(aes(x1, y=outcome, color=\"actual\")) +\n",
    "             geom_line(aes(x=x1, y=outcome.predicted, color=\"predicted\")) + geom_point(aes(x1, y=outcome.predicted, color=\"predicted\")) +\n",
    "             scale_color_manual(values=PALETTE) + xlim(0,10) + ylim(0,10) + theme.legend_bottom,\n",
    "             \n",
    "             nrow=1)"
   ]
  },
  {
   "cell_type": "markdown",
   "metadata": {},
   "source": [
    "<br>\n",
    "#### For each set of per observation performance measures, calculate the overall performance measure."
   ]
  },
  {
   "cell_type": "code",
   "execution_count": 24,
   "metadata": {},
   "outputs": [
    {
     "data": {
      "text/html": [
       "<ol class=list-inline>\n",
       "\t<li>0.943535100212183</li>\n",
       "\t<li>0.974295871214128</li>\n",
       "\t<li>1.71794643174476</li>\n",
       "</ol>\n"
      ],
      "text/latex": [
       "\\begin{enumerate*}\n",
       "\\item 0.943535100212183\n",
       "\\item 0.974295871214128\n",
       "\\item 1.71794643174476\n",
       "\\end{enumerate*}\n"
      ],
      "text/markdown": [
       "1. 0.943535100212183\n",
       "2. 0.974295871214128\n",
       "3. 1.71794643174476\n",
       "\n",
       "\n"
      ],
      "text/plain": [
       "[1] 0.9435351002 0.9742958712 1.7179464317"
      ]
     },
     "metadata": {},
     "output_type": "display_data"
    }
   ],
   "source": [
    "RMSE = c()\n",
    "RMSE[1] = sqrt(mean(result[[1]]$error^2))\n",
    "RMSE[2] = sqrt(mean(result[[2]]$error^2))\n",
    "RMSE[3] = sqrt(mean(result[[3]]$error^2))\n",
    "\n",
    "RMSE"
   ]
  },
  {
   "cell_type": "markdown",
   "metadata": {},
   "source": [
    "<br>\n",
    "#### Calculate one overall performance measure as the mean of the previously calculated overall performance measures.\n",
    "\n",
    "This one overall performance measure is an estimate of the performance measure of a model that could be built using **all** the data.  Note that we never actually built a model using all data when we used cross-validation to evaluate it.  "
   ]
  },
  {
   "cell_type": "code",
   "execution_count": 25,
   "metadata": {},
   "outputs": [
    {
     "data": {
      "text/html": [
       "<table>\n",
       "<thead><tr><th scope=col>RMSE</th></tr></thead>\n",
       "<tbody>\n",
       "\t<tr><td>1.211925801</td></tr>\n",
       "</tbody>\n",
       "</table>\n"
      ],
      "text/latex": [
       "\\begin{tabular}{r|l}\n",
       " RMSE\\\\\n",
       "\\hline\n",
       "\t 1.211925801\\\\\n",
       "\\end{tabular}\n"
      ],
      "text/markdown": [
       "\n",
       "RMSE | \n",
       "|---|\n",
       "| 1.211925801 | \n",
       "\n",
       "\n"
      ],
      "text/plain": [
       "  RMSE       \n",
       "1 1.211925801"
      ]
     },
     "metadata": {},
     "output_type": "display_data"
    }
   ],
   "source": [
    "data.frame(RMSE=mean(RMSE))"
   ]
  },
  {
   "cell_type": "markdown",
   "metadata": {},
   "source": [
    "<br>\n",
    "### Cross-Validation (implementation with R `for` loop)\n",
    "___\n",
    "For convenience, you can use the R `for` loop to code the cross-validation method.\n",
    "\n",
    "Here, see how this code can be used for cross-validation assuming any number of folds."
   ]
  },
  {
   "cell_type": "code",
   "execution_count": 26,
   "metadata": {},
   "outputs": [
    {
     "data": {
      "text/html": [
       "<ol>\n",
       "\t<li><table>\n",
       "<thead><tr><th></th><th scope=col>x1</th><th scope=col>outcome</th><th scope=col>outcome.predicted</th><th scope=col>error</th></tr></thead>\n",
       "<tbody>\n",
       "\t<tr><th scope=row>1</th><td>1            </td><td>1.0          </td><td>1.248986682  </td><td> 0.2489866821</td></tr>\n",
       "\t<tr><th scope=row>4</th><td>3            </td><td>4.0          </td><td>2.843659525  </td><td>-1.1563404748</td></tr>\n",
       "\t<tr><th scope=row>10</th><td>9            </td><td>6.5          </td><td>7.627678054  </td><td> 1.1276780544</td></tr>\n",
       "</tbody>\n",
       "</table>\n",
       "</li>\n",
       "\t<li><table>\n",
       "<thead><tr><th></th><th scope=col>x1</th><th scope=col>outcome</th><th scope=col>outcome.predicted</th><th scope=col>error</th></tr></thead>\n",
       "<tbody>\n",
       "\t<tr><th scope=row>3</th><td>2.0          </td><td>3            </td><td>2.050761421  </td><td>-0.9492385787</td></tr>\n",
       "\t<tr><th scope=row>6</th><td>5.0          </td><td>5            </td><td>4.397461929  </td><td>-0.6025380711</td></tr>\n",
       "\t<tr><th scope=row>8</th><td>6.5          </td><td>4            </td><td>5.570812183  </td><td> 1.5708121827</td></tr>\n",
       "\t<tr><th scope=row>9</th><td>8.0          </td><td>7            </td><td>6.744162437  </td><td>-0.2558375635</td></tr>\n",
       "</tbody>\n",
       "</table>\n",
       "</li>\n",
       "\t<li><table>\n",
       "<thead><tr><th></th><th scope=col>x1</th><th scope=col>outcome</th><th scope=col>outcome.predicted</th><th scope=col>error</th></tr></thead>\n",
       "<tbody>\n",
       "\t<tr><th scope=row>2</th><td>1.5         </td><td>0.5         </td><td>2.272554003 </td><td> 1.772554003</td></tr>\n",
       "\t<tr><th scope=row>5</th><td>4.0         </td><td>5.5         </td><td>3.792566709 </td><td>-1.707433291</td></tr>\n",
       "\t<tr><th scope=row>7</th><td>6.0         </td><td>3.5         </td><td>5.008576874 </td><td> 1.508576874</td></tr>\n",
       "\t<tr><th scope=row>11</th><td>9.5         </td><td>9.0         </td><td>7.136594663 </td><td>-1.863405337</td></tr>\n",
       "</tbody>\n",
       "</table>\n",
       "</li>\n",
       "</ol>\n"
      ],
      "text/latex": [
       "\\begin{enumerate}\n",
       "\\item \\begin{tabular}{r|llll}\n",
       "  & x1 & outcome & outcome.predicted & error\\\\\n",
       "\\hline\n",
       "\t1 & 1             & 1.0           & 1.248986682   &  0.2489866821\\\\\n",
       "\t4 & 3             & 4.0           & 2.843659525   & -1.1563404748\\\\\n",
       "\t10 & 9             & 6.5           & 7.627678054   &  1.1276780544\\\\\n",
       "\\end{tabular}\n",
       "\n",
       "\\item \\begin{tabular}{r|llll}\n",
       "  & x1 & outcome & outcome.predicted & error\\\\\n",
       "\\hline\n",
       "\t3 & 2.0           & 3             & 2.050761421   & -0.9492385787\\\\\n",
       "\t6 & 5.0           & 5             & 4.397461929   & -0.6025380711\\\\\n",
       "\t8 & 6.5           & 4             & 5.570812183   &  1.5708121827\\\\\n",
       "\t9 & 8.0           & 7             & 6.744162437   & -0.2558375635\\\\\n",
       "\\end{tabular}\n",
       "\n",
       "\\item \\begin{tabular}{r|llll}\n",
       "  & x1 & outcome & outcome.predicted & error\\\\\n",
       "\\hline\n",
       "\t2 & 1.5          & 0.5          & 2.272554003  &  1.772554003\\\\\n",
       "\t5 & 4.0          & 5.5          & 3.792566709  & -1.707433291\\\\\n",
       "\t7 & 6.0          & 3.5          & 5.008576874  &  1.508576874\\\\\n",
       "\t11 & 9.5          & 9.0          & 7.136594663  & -1.863405337\\\\\n",
       "\\end{tabular}\n",
       "\n",
       "\\end{enumerate}\n"
      ],
      "text/markdown": [
       "1. \n",
       "| <!--/--> | x1 | outcome | outcome.predicted | error | \n",
       "|---|---|---|\n",
       "| 1 | 1             | 1.0           | 1.248986682   |  0.2489866821 | \n",
       "| 4 | 3             | 4.0           | 2.843659525   | -1.1563404748 | \n",
       "| 10 | 9             | 6.5           | 7.627678054   |  1.1276780544 | \n",
       "\n",
       "\n",
       "\n",
       "2. \n",
       "| <!--/--> | x1 | outcome | outcome.predicted | error | \n",
       "|---|---|---|---|\n",
       "| 3 | 2.0           | 3             | 2.050761421   | -0.9492385787 | \n",
       "| 6 | 5.0           | 5             | 4.397461929   | -0.6025380711 | \n",
       "| 8 | 6.5           | 4             | 5.570812183   |  1.5708121827 | \n",
       "| 9 | 8.0           | 7             | 6.744162437   | -0.2558375635 | \n",
       "\n",
       "\n",
       "\n",
       "3. \n",
       "| <!--/--> | x1 | outcome | outcome.predicted | error | \n",
       "|---|---|---|---|\n",
       "| 2 | 1.5          | 0.5          | 2.272554003  |  1.772554003 | \n",
       "| 5 | 4.0          | 5.5          | 3.792566709  | -1.707433291 | \n",
       "| 7 | 6.0          | 3.5          | 5.008576874  |  1.508576874 | \n",
       "| 11 | 9.5          | 9.0          | 7.136594663  | -1.863405337 | \n",
       "\n",
       "\n",
       "\n",
       "\n",
       "\n"
      ],
      "text/plain": [
       "[[1]]\n",
       "   x1 outcome outcome.predicted         error\n",
       "1   1     1.0       1.248986682  0.2489866821\n",
       "4   3     4.0       2.843659525 -1.1563404748\n",
       "10  9     6.5       7.627678054  1.1276780544\n",
       "\n",
       "[[2]]\n",
       "   x1 outcome outcome.predicted         error\n",
       "3 2.0       3       2.050761421 -0.9492385787\n",
       "6 5.0       5       4.397461929 -0.6025380711\n",
       "8 6.5       4       5.570812183  1.5708121827\n",
       "9 8.0       7       6.744162437 -0.2558375635\n",
       "\n",
       "[[3]]\n",
       "    x1 outcome outcome.predicted        error\n",
       "2  1.5     0.5       2.272554003  1.772554003\n",
       "5  4.0     5.5       3.792566709 -1.707433291\n",
       "7  6.0     3.5       5.008576874  1.508576874\n",
       "11 9.5     9.0       7.136594663 -1.863405337\n"
      ]
     },
     "metadata": {},
     "output_type": "display_data"
    },
    {
     "data": {
      "text/html": [
       "<ol class=list-inline>\n",
       "\t<li>0.943535100212183</li>\n",
       "\t<li>0.974295871214128</li>\n",
       "\t<li>1.71794643174476</li>\n",
       "</ol>\n"
      ],
      "text/latex": [
       "\\begin{enumerate*}\n",
       "\\item 0.943535100212183\n",
       "\\item 0.974295871214128\n",
       "\\item 1.71794643174476\n",
       "\\end{enumerate*}\n"
      ],
      "text/markdown": [
       "1. 0.943535100212183\n",
       "2. 0.974295871214128\n",
       "3. 1.71794643174476\n",
       "\n",
       "\n"
      ],
      "text/plain": [
       "[1] 0.9435351002 0.9742958712 1.7179464317"
      ]
     },
     "metadata": {},
     "output_type": "display_data"
    },
    {
     "data": {
      "text/html": [
       "<table>\n",
       "<thead><tr><th scope=col>RMSE</th></tr></thead>\n",
       "<tbody>\n",
       "\t<tr><td>1.211925801</td></tr>\n",
       "</tbody>\n",
       "</table>\n"
      ],
      "text/latex": [
       "\\begin{tabular}{r|l}\n",
       " RMSE\\\\\n",
       "\\hline\n",
       "\t 1.211925801\\\\\n",
       "\\end{tabular}\n"
      ],
      "text/markdown": [
       "\n",
       "RMSE | \n",
       "|---|\n",
       "| 1.211925801 | \n",
       "\n",
       "\n"
      ],
      "text/plain": [
       "  RMSE       \n",
       "1 1.211925801"
      ]
     },
     "metadata": {},
     "output_type": "display_data"
    }
   ],
   "source": [
    "nfold = 3 # try different number of folds\n",
    "\n",
    "set.seed(12345)\n",
    "test = createFolds(data$outcome, k=nfold)\n",
    "train = createFolds.train(data$outcome, test)\n",
    "\n",
    "model = list()\n",
    "result = list()\n",
    "RMSE = c()\n",
    "\n",
    "for (fold in 1:nfold)\n",
    "{\n",
    "  model[[fold]] = lm(outcome~x1, data[train[[fold]],])\n",
    "  \n",
    "  result[[fold]] = data[test[[fold]],]\n",
    "  result[[fold]]$outcome.predicted = predict(model[[fold]], data[test[[fold]],])\n",
    "  result[[fold]]$error = result[[fold]]$outcome.predicted - result[[fold]]$outcome\n",
    "  RMSE[fold] = sqrt(mean(result[[fold]]$error^2))\n",
    "}\n",
    "    \n",
    "result\n",
    "RMSE\n",
    "data.frame(RMSE=mean(RMSE))"
   ]
  },
  {
   "cell_type": "markdown",
   "metadata": {},
   "source": [
    "<br>\n",
    "### Tuning\n",
    "___\n",
    "Find the hyper-parameter settings (among may choices) that result in the model with the best performance."
   ]
  },
  {
   "cell_type": "markdown",
   "metadata": {},
   "source": [
    "<br>\n",
    "\n",
    "Here we use cross-validation to evaluate a specific support vector machine model that was built with certain `kernel`, `degree`, `gamma`, and `cost` hyper-parameter settings.  We calculate the overall performance measure, accordingly."
   ]
  },
  {
   "cell_type": "code",
   "execution_count": 27,
   "metadata": {},
   "outputs": [
    {
     "data": {
      "text/html": [
       "<table>\n",
       "<thead><tr><th scope=col>RMSE</th></tr></thead>\n",
       "<tbody>\n",
       "\t<tr><td>1.80555804</td></tr>\n",
       "</tbody>\n",
       "</table>\n"
      ],
      "text/latex": [
       "\\begin{tabular}{r|l}\n",
       " RMSE\\\\\n",
       "\\hline\n",
       "\t 1.80555804\\\\\n",
       "\\end{tabular}\n"
      ],
      "text/markdown": [
       "\n",
       "RMSE | \n",
       "|---|\n",
       "| 1.80555804 | \n",
       "\n",
       "\n"
      ],
      "text/plain": [
       "  RMSE      \n",
       "1 1.80555804"
      ]
     },
     "metadata": {},
     "output_type": "display_data"
    }
   ],
   "source": [
    "nfold = 5\n",
    "\n",
    "set.seed(12345)\n",
    "test = createFolds(data$outcome, k=nfold)\n",
    "train = createFolds.train(data$outcome, test)\n",
    "\n",
    "model = list()\n",
    "result = list()\n",
    "RMSE = c()\n",
    "\n",
    "for (fold in 1:nfold)\n",
    "{\n",
    "  model[[fold]] = svm(outcome~x1, data[train[[fold]],], type=\"eps-regression\", kernel=\"polynomial\", degree=3, gamma=1, cost=1)  \n",
    "  result[[fold]] = data[test[[fold]],]\n",
    "  result[[fold]]$outcome.predicted = predict(model[[fold]], data[test[[fold]],])\n",
    "  result[[fold]]$error = result[[fold]]$outcome.predicted - result[[fold]]$outcome\n",
    "  RMSE[fold] = sqrt(mean(result[[fold]]$error^2))\n",
    "}\n",
    "    \n",
    "data.frame(RMSE=mean(RMSE))"
   ]
  },
  {
   "cell_type": "markdown",
   "metadata": {},
   "source": [
    "<br>\n",
    "Here we use the R `for` loop for cross-validation **within** another R `for` loop to sequence through various settings for the `cost` hyper-parameter.    We calculate the overall performance measure for each model corresponding to a `cost` hyper-parameter setting, accordingly, choose the model with the best performance."
   ]
  },
  {
   "cell_type": "code",
   "execution_count": 28,
   "metadata": {},
   "outputs": [
    {
     "data": {
      "text/html": [
       "<table>\n",
       "<thead><tr><th scope=col>method</th><th scope=col>cost</th><th scope=col>RMSE</th></tr></thead>\n",
       "<tbody>\n",
       "\t<tr><td>svm        </td><td>  0.1      </td><td>1.624358407</td></tr>\n",
       "\t<tr><td>svm        </td><td>  1.0      </td><td>1.805558040</td></tr>\n",
       "\t<tr><td>svm        </td><td> 10.0      </td><td>1.805556591</td></tr>\n",
       "\t<tr><td>svm        </td><td>100.0      </td><td>1.805542104</td></tr>\n",
       "</tbody>\n",
       "</table>\n"
      ],
      "text/latex": [
       "\\begin{tabular}{r|lll}\n",
       " method & cost & RMSE\\\\\n",
       "\\hline\n",
       "\t svm         &   0.1       & 1.624358407\\\\\n",
       "\t svm         &   1.0       & 1.805558040\\\\\n",
       "\t svm         &  10.0       & 1.805556591\\\\\n",
       "\t svm         & 100.0       & 1.805542104\\\\\n",
       "\\end{tabular}\n"
      ],
      "text/markdown": [
       "\n",
       "method | cost | RMSE | \n",
       "|---|---|---|---|\n",
       "| svm         |   0.1       | 1.624358407 | \n",
       "| svm         |   1.0       | 1.805558040 | \n",
       "| svm         |  10.0       | 1.805556591 | \n",
       "| svm         | 100.0       | 1.805542104 | \n",
       "\n",
       "\n"
      ],
      "text/plain": [
       "  method cost  RMSE       \n",
       "1 svm      0.1 1.624358407\n",
       "2 svm      1.0 1.805558040\n",
       "3 svm     10.0 1.805556591\n",
       "4 svm    100.0 1.805542104"
      ]
     },
     "metadata": {},
     "output_type": "display_data"
    }
   ],
   "source": [
    "nfold = 5\n",
    "\n",
    "set.seed(12345)\n",
    "test = createFolds(data$outcome, k=nfold)\n",
    "train = createFolds.train(data$outcome, test)\n",
    "\n",
    "tune = data.frame()\n",
    "\n",
    "for (cost in c(0.1,1,10,100))\n",
    "{\n",
    "  model = list()\n",
    "  result = list()\n",
    "  RMSE = c()\n",
    "\n",
    "  for (fold in 1:nfold)\n",
    "  {\n",
    "    model[[fold]] = svm(outcome~x1, data[train[[fold]],], type=\"eps-regression\", kernel=\"polynomial\", degree=3, gamma=1, cost=cost)\n",
    "  \n",
    "    result[[fold]] = data[test[[fold]],]\n",
    "    result[[fold]]$outcome.predicted = predict(model[[fold]], data[test[[fold]],])\n",
    "    result[[fold]]$error = result[[fold]]$outcome.predicted - result[[fold]]$outcome\n",
    "    RMSE[fold] = sqrt(mean(result[[fold]]$error^2))\n",
    "  }\n",
    "\n",
    "  tune = rbind(tune, data.frame(method=\"svm\", cost=cost, RMSE=mean(RMSE)))\n",
    "}\n",
    "\n",
    "tune"
   ]
  },
  {
   "cell_type": "code",
   "execution_count": 29,
   "metadata": {},
   "outputs": [
    {
     "data": {
      "text/html": [
       "<table>\n",
       "<thead><tr><th scope=col>method</th><th scope=col>cost</th><th scope=col>RMSE</th></tr></thead>\n",
       "<tbody>\n",
       "\t<tr><td>svm        </td><td>0.1        </td><td>1.624358407</td></tr>\n",
       "</tbody>\n",
       "</table>\n"
      ],
      "text/latex": [
       "\\begin{tabular}{r|lll}\n",
       " method & cost & RMSE\\\\\n",
       "\\hline\n",
       "\t svm         & 0.1         & 1.624358407\\\\\n",
       "\\end{tabular}\n"
      ],
      "text/markdown": [
       "\n",
       "method | cost | RMSE | \n",
       "|---|\n",
       "| svm         | 0.1         | 1.624358407 | \n",
       "\n",
       "\n"
      ],
      "text/plain": [
       "  method cost RMSE       \n",
       "1 svm    0.1  1.624358407"
      ]
     },
     "metadata": {},
     "output_type": "display_data"
    }
   ],
   "source": [
    "tune[which.min(tune$RMSE),]"
   ]
  },
  {
   "cell_type": "markdown",
   "metadata": {},
   "source": [
    "<br>\n",
    "Here we use the R `for` loop for cross-validation **within** **many** other R `for` loops to sequence through various settings for the `kernel`, `degree`, `gamma` and `cost` hyper-parameters.    We calculate the overall performance measure for each model corresponding to a different set of hyper-parameter settings, accordingly, choose the model with the best performance.\n",
    "\n",
    "Note, the `svm` function ignores the `degree` hyper-parameter setting when `kernel` is not set to `polynomial`. "
   ]
  },
  {
   "cell_type": "code",
   "execution_count": 30,
   "metadata": {
    "scrolled": true
   },
   "outputs": [
    {
     "data": {
      "text/html": [
       "<table>\n",
       "<thead><tr><th scope=col>method</th><th scope=col>kernel</th><th scope=col>degree</th><th scope=col>gamma</th><th scope=col>cost</th><th scope=col>RMSE</th></tr></thead>\n",
       "<tbody>\n",
       "\t<tr><td>svm        </td><td>polynomial </td><td>1          </td><td> 0.1       </td><td>  0.1      </td><td>2.640372564</td></tr>\n",
       "\t<tr><td>svm        </td><td>polynomial </td><td>1          </td><td> 0.1       </td><td>  1.0      </td><td>2.054952179</td></tr>\n",
       "\t<tr><td>svm        </td><td>polynomial </td><td>1          </td><td> 0.1       </td><td> 10.0      </td><td>1.629954508</td></tr>\n",
       "\t<tr><td>svm        </td><td>polynomial </td><td>1          </td><td> 0.1       </td><td>100.0      </td><td>1.629954629</td></tr>\n",
       "\t<tr><td>svm        </td><td>polynomial </td><td>1          </td><td> 1.0       </td><td>  0.1      </td><td>2.056027239</td></tr>\n",
       "\t<tr><td>svm        </td><td>polynomial </td><td>1          </td><td> 1.0       </td><td>  1.0      </td><td>1.629954622</td></tr>\n",
       "\t<tr><td>svm        </td><td>polynomial </td><td>1          </td><td> 1.0       </td><td> 10.0      </td><td>1.629955537</td></tr>\n",
       "\t<tr><td>svm        </td><td>polynomial </td><td>1          </td><td> 1.0       </td><td>100.0      </td><td>1.629964945</td></tr>\n",
       "\t<tr><td>svm        </td><td>polynomial </td><td>1          </td><td>10.0       </td><td>  0.1      </td><td>1.629954478</td></tr>\n",
       "\t<tr><td>svm        </td><td>polynomial </td><td>1          </td><td>10.0       </td><td>  1.0      </td><td>1.629954041</td></tr>\n",
       "\t<tr><td>svm        </td><td>polynomial </td><td>1          </td><td>10.0       </td><td> 10.0      </td><td>1.629949880</td></tr>\n",
       "\t<tr><td>svm        </td><td>polynomial </td><td>1          </td><td>10.0       </td><td>100.0      </td><td>1.629908291</td></tr>\n",
       "\t<tr><td>svm        </td><td>polynomial </td><td>2          </td><td> 0.1       </td><td>  0.1      </td><td>2.731010906</td></tr>\n",
       "\t<tr><td>svm        </td><td>polynomial </td><td>2          </td><td> 0.1       </td><td>  1.0      </td><td>2.744862014</td></tr>\n",
       "\t<tr><td>svm        </td><td>polynomial </td><td>2          </td><td> 0.1       </td><td> 10.0      </td><td>2.883621410</td></tr>\n",
       "\t<tr><td>svm        </td><td>polynomial </td><td>2          </td><td> 0.1       </td><td>100.0      </td><td>3.920656944</td></tr>\n",
       "\t<tr><td>svm        </td><td>polynomial </td><td>2          </td><td> 1.0       </td><td>  0.1      </td><td>2.883621414</td></tr>\n",
       "\t<tr><td>svm        </td><td>polynomial </td><td>2          </td><td> 1.0       </td><td>  1.0      </td><td>3.920656849</td></tr>\n",
       "\t<tr><td>svm        </td><td>polynomial </td><td>2          </td><td> 1.0       </td><td> 10.0      </td><td>4.800819285</td></tr>\n",
       "\t<tr><td>svm        </td><td>polynomial </td><td>2          </td><td> 1.0       </td><td>100.0      </td><td>5.162161927</td></tr>\n",
       "\t<tr><td>svm        </td><td>polynomial </td><td>2          </td><td>10.0       </td><td>  0.1      </td><td>4.800819036</td></tr>\n",
       "\t<tr><td>svm        </td><td>polynomial </td><td>2          </td><td>10.0       </td><td>  1.0      </td><td>5.161774972</td></tr>\n",
       "\t<tr><td>svm        </td><td>polynomial </td><td>2          </td><td>10.0       </td><td> 10.0      </td><td>5.161804055</td></tr>\n",
       "\t<tr><td>svm        </td><td>polynomial </td><td>2          </td><td>10.0       </td><td>100.0      </td><td>5.162094885</td></tr>\n",
       "\t<tr><td>svm        </td><td>polynomial </td><td>3          </td><td> 0.1       </td><td>  0.1      </td><td>2.724751648</td></tr>\n",
       "\t<tr><td>svm        </td><td>polynomial </td><td>3          </td><td> 0.1       </td><td>  1.0      </td><td>2.682599678</td></tr>\n",
       "\t<tr><td>svm        </td><td>polynomial </td><td>3          </td><td> 0.1       </td><td> 10.0      </td><td>2.264395985</td></tr>\n",
       "\t<tr><td>svm        </td><td>polynomial </td><td>3          </td><td> 0.1       </td><td>100.0      </td><td>1.624329687</td></tr>\n",
       "\t<tr><td>svm        </td><td>polynomial </td><td>3          </td><td> 1.0       </td><td>  0.1      </td><td>1.624358407</td></tr>\n",
       "\t<tr><td>svm        </td><td>polynomial </td><td>3          </td><td> 1.0       </td><td>  1.0      </td><td>1.805558040</td></tr>\n",
       "\t<tr><td>svm        </td><td>polynomial </td><td>3          </td><td> 1.0       </td><td> 10.0      </td><td>1.805556591</td></tr>\n",
       "\t<tr><td>svm        </td><td>polynomial </td><td>3          </td><td> 1.0       </td><td>100.0      </td><td>1.805542104</td></tr>\n",
       "\t<tr><td>svm        </td><td>polynomial </td><td>3          </td><td>10.0       </td><td>  0.1      </td><td>1.805604892</td></tr>\n",
       "\t<tr><td>svm        </td><td>polynomial </td><td>3          </td><td>10.0       </td><td>  1.0      </td><td>1.806025936</td></tr>\n",
       "\t<tr><td>svm        </td><td>polynomial </td><td>3          </td><td>10.0       </td><td> 10.0      </td><td>1.810237812</td></tr>\n",
       "\t<tr><td>svm        </td><td>polynomial </td><td>3          </td><td>10.0       </td><td>100.0      </td><td>1.845039498</td></tr>\n",
       "\t<tr><td>svm        </td><td>radial     </td><td>1          </td><td> 0.1       </td><td>  0.1      </td><td>2.620305182</td></tr>\n",
       "\t<tr><td>svm        </td><td>radial     </td><td>1          </td><td> 0.1       </td><td>  1.0      </td><td>2.105818740</td></tr>\n",
       "\t<tr><td>svm        </td><td>radial     </td><td>1          </td><td> 0.1       </td><td> 10.0      </td><td>2.218323334</td></tr>\n",
       "\t<tr><td>svm        </td><td>radial     </td><td>1          </td><td> 0.1       </td><td>100.0      </td><td>1.773912578</td></tr>\n",
       "\t<tr><td>svm        </td><td>radial     </td><td>1          </td><td> 1.0       </td><td>  0.1      </td><td>2.596711899</td></tr>\n",
       "\t<tr><td>svm        </td><td>radial     </td><td>1          </td><td> 1.0       </td><td>  1.0      </td><td>1.938160991</td></tr>\n",
       "\t<tr><td>svm        </td><td>radial     </td><td>1          </td><td> 1.0       </td><td> 10.0      </td><td>1.288465427</td></tr>\n",
       "\t<tr><td>svm        </td><td>radial     </td><td>1          </td><td> 1.0       </td><td>100.0      </td><td>1.357962607</td></tr>\n",
       "\t<tr><td>svm        </td><td>radial     </td><td>1          </td><td>10.0       </td><td>  0.1      </td><td>2.557428848</td></tr>\n",
       "\t<tr><td>svm        </td><td>radial     </td><td>1          </td><td>10.0       </td><td>  1.0      </td><td>1.865984859</td></tr>\n",
       "\t<tr><td>svm        </td><td>radial     </td><td>1          </td><td>10.0       </td><td> 10.0      </td><td>1.521417649</td></tr>\n",
       "\t<tr><td>svm        </td><td>radial     </td><td>1          </td><td>10.0       </td><td>100.0      </td><td>1.521417649</td></tr>\n",
       "\t<tr><td>svm        </td><td>radial     </td><td>2          </td><td> 0.1       </td><td>  0.1      </td><td>2.620305182</td></tr>\n",
       "\t<tr><td>svm        </td><td>radial     </td><td>2          </td><td> 0.1       </td><td>  1.0      </td><td>2.105818740</td></tr>\n",
       "\t<tr><td>svm        </td><td>radial     </td><td>2          </td><td> 0.1       </td><td> 10.0      </td><td>2.218323334</td></tr>\n",
       "\t<tr><td>svm        </td><td>radial     </td><td>2          </td><td> 0.1       </td><td>100.0      </td><td>1.773912578</td></tr>\n",
       "\t<tr><td>svm        </td><td>radial     </td><td>2          </td><td> 1.0       </td><td>  0.1      </td><td>2.596711899</td></tr>\n",
       "\t<tr><td>svm        </td><td>radial     </td><td>2          </td><td> 1.0       </td><td>  1.0      </td><td>1.938160991</td></tr>\n",
       "\t<tr><td>svm        </td><td>radial     </td><td>2          </td><td> 1.0       </td><td> 10.0      </td><td>1.288465427</td></tr>\n",
       "\t<tr><td>svm        </td><td>radial     </td><td>2          </td><td> 1.0       </td><td>100.0      </td><td>1.357962607</td></tr>\n",
       "\t<tr><td>svm        </td><td>radial     </td><td>2          </td><td>10.0       </td><td>  0.1      </td><td>2.557428848</td></tr>\n",
       "\t<tr><td>svm        </td><td>radial     </td><td>2          </td><td>10.0       </td><td>  1.0      </td><td>1.865984859</td></tr>\n",
       "\t<tr><td>svm        </td><td>radial     </td><td>2          </td><td>10.0       </td><td> 10.0      </td><td>1.521417649</td></tr>\n",
       "\t<tr><td>svm        </td><td>radial     </td><td>2          </td><td>10.0       </td><td>100.0      </td><td>1.521417649</td></tr>\n",
       "\t<tr><td>svm        </td><td>radial     </td><td>3          </td><td> 0.1       </td><td>  0.1      </td><td>2.620305182</td></tr>\n",
       "\t<tr><td>svm        </td><td>radial     </td><td>3          </td><td> 0.1       </td><td>  1.0      </td><td>2.105818740</td></tr>\n",
       "\t<tr><td>svm        </td><td>radial     </td><td>3          </td><td> 0.1       </td><td> 10.0      </td><td>2.218323334</td></tr>\n",
       "\t<tr><td>svm        </td><td>radial     </td><td>3          </td><td> 0.1       </td><td>100.0      </td><td>1.773912578</td></tr>\n",
       "\t<tr><td>svm        </td><td>radial     </td><td>3          </td><td> 1.0       </td><td>  0.1      </td><td>2.596711899</td></tr>\n",
       "\t<tr><td>svm        </td><td>radial     </td><td>3          </td><td> 1.0       </td><td>  1.0      </td><td>1.938160991</td></tr>\n",
       "\t<tr><td>svm        </td><td>radial     </td><td>3          </td><td> 1.0       </td><td> 10.0      </td><td>1.288465427</td></tr>\n",
       "\t<tr><td>svm        </td><td>radial     </td><td>3          </td><td> 1.0       </td><td>100.0      </td><td>1.357962607</td></tr>\n",
       "\t<tr><td>svm        </td><td>radial     </td><td>3          </td><td>10.0       </td><td>  0.1      </td><td>2.557428848</td></tr>\n",
       "\t<tr><td>svm        </td><td>radial     </td><td>3          </td><td>10.0       </td><td>  1.0      </td><td>1.865984859</td></tr>\n",
       "\t<tr><td>svm        </td><td>radial     </td><td>3          </td><td>10.0       </td><td> 10.0      </td><td>1.521417649</td></tr>\n",
       "\t<tr><td>svm        </td><td>radial     </td><td>3          </td><td>10.0       </td><td>100.0      </td><td>1.521417649</td></tr>\n",
       "</tbody>\n",
       "</table>\n"
      ],
      "text/latex": [
       "\\begin{tabular}{r|llllll}\n",
       " method & kernel & degree & gamma & cost & RMSE\\\\\n",
       "\\hline\n",
       "\t svm         & polynomial  & 1           &  0.1        &   0.1       & 2.640372564\\\\\n",
       "\t svm         & polynomial  & 1           &  0.1        &   1.0       & 2.054952179\\\\\n",
       "\t svm         & polynomial  & 1           &  0.1        &  10.0       & 1.629954508\\\\\n",
       "\t svm         & polynomial  & 1           &  0.1        & 100.0       & 1.629954629\\\\\n",
       "\t svm         & polynomial  & 1           &  1.0        &   0.1       & 2.056027239\\\\\n",
       "\t svm         & polynomial  & 1           &  1.0        &   1.0       & 1.629954622\\\\\n",
       "\t svm         & polynomial  & 1           &  1.0        &  10.0       & 1.629955537\\\\\n",
       "\t svm         & polynomial  & 1           &  1.0        & 100.0       & 1.629964945\\\\\n",
       "\t svm         & polynomial  & 1           & 10.0        &   0.1       & 1.629954478\\\\\n",
       "\t svm         & polynomial  & 1           & 10.0        &   1.0       & 1.629954041\\\\\n",
       "\t svm         & polynomial  & 1           & 10.0        &  10.0       & 1.629949880\\\\\n",
       "\t svm         & polynomial  & 1           & 10.0        & 100.0       & 1.629908291\\\\\n",
       "\t svm         & polynomial  & 2           &  0.1        &   0.1       & 2.731010906\\\\\n",
       "\t svm         & polynomial  & 2           &  0.1        &   1.0       & 2.744862014\\\\\n",
       "\t svm         & polynomial  & 2           &  0.1        &  10.0       & 2.883621410\\\\\n",
       "\t svm         & polynomial  & 2           &  0.1        & 100.0       & 3.920656944\\\\\n",
       "\t svm         & polynomial  & 2           &  1.0        &   0.1       & 2.883621414\\\\\n",
       "\t svm         & polynomial  & 2           &  1.0        &   1.0       & 3.920656849\\\\\n",
       "\t svm         & polynomial  & 2           &  1.0        &  10.0       & 4.800819285\\\\\n",
       "\t svm         & polynomial  & 2           &  1.0        & 100.0       & 5.162161927\\\\\n",
       "\t svm         & polynomial  & 2           & 10.0        &   0.1       & 4.800819036\\\\\n",
       "\t svm         & polynomial  & 2           & 10.0        &   1.0       & 5.161774972\\\\\n",
       "\t svm         & polynomial  & 2           & 10.0        &  10.0       & 5.161804055\\\\\n",
       "\t svm         & polynomial  & 2           & 10.0        & 100.0       & 5.162094885\\\\\n",
       "\t svm         & polynomial  & 3           &  0.1        &   0.1       & 2.724751648\\\\\n",
       "\t svm         & polynomial  & 3           &  0.1        &   1.0       & 2.682599678\\\\\n",
       "\t svm         & polynomial  & 3           &  0.1        &  10.0       & 2.264395985\\\\\n",
       "\t svm         & polynomial  & 3           &  0.1        & 100.0       & 1.624329687\\\\\n",
       "\t svm         & polynomial  & 3           &  1.0        &   0.1       & 1.624358407\\\\\n",
       "\t svm         & polynomial  & 3           &  1.0        &   1.0       & 1.805558040\\\\\n",
       "\t svm         & polynomial  & 3           &  1.0        &  10.0       & 1.805556591\\\\\n",
       "\t svm         & polynomial  & 3           &  1.0        & 100.0       & 1.805542104\\\\\n",
       "\t svm         & polynomial  & 3           & 10.0        &   0.1       & 1.805604892\\\\\n",
       "\t svm         & polynomial  & 3           & 10.0        &   1.0       & 1.806025936\\\\\n",
       "\t svm         & polynomial  & 3           & 10.0        &  10.0       & 1.810237812\\\\\n",
       "\t svm         & polynomial  & 3           & 10.0        & 100.0       & 1.845039498\\\\\n",
       "\t svm         & radial      & 1           &  0.1        &   0.1       & 2.620305182\\\\\n",
       "\t svm         & radial      & 1           &  0.1        &   1.0       & 2.105818740\\\\\n",
       "\t svm         & radial      & 1           &  0.1        &  10.0       & 2.218323334\\\\\n",
       "\t svm         & radial      & 1           &  0.1        & 100.0       & 1.773912578\\\\\n",
       "\t svm         & radial      & 1           &  1.0        &   0.1       & 2.596711899\\\\\n",
       "\t svm         & radial      & 1           &  1.0        &   1.0       & 1.938160991\\\\\n",
       "\t svm         & radial      & 1           &  1.0        &  10.0       & 1.288465427\\\\\n",
       "\t svm         & radial      & 1           &  1.0        & 100.0       & 1.357962607\\\\\n",
       "\t svm         & radial      & 1           & 10.0        &   0.1       & 2.557428848\\\\\n",
       "\t svm         & radial      & 1           & 10.0        &   1.0       & 1.865984859\\\\\n",
       "\t svm         & radial      & 1           & 10.0        &  10.0       & 1.521417649\\\\\n",
       "\t svm         & radial      & 1           & 10.0        & 100.0       & 1.521417649\\\\\n",
       "\t svm         & radial      & 2           &  0.1        &   0.1       & 2.620305182\\\\\n",
       "\t svm         & radial      & 2           &  0.1        &   1.0       & 2.105818740\\\\\n",
       "\t svm         & radial      & 2           &  0.1        &  10.0       & 2.218323334\\\\\n",
       "\t svm         & radial      & 2           &  0.1        & 100.0       & 1.773912578\\\\\n",
       "\t svm         & radial      & 2           &  1.0        &   0.1       & 2.596711899\\\\\n",
       "\t svm         & radial      & 2           &  1.0        &   1.0       & 1.938160991\\\\\n",
       "\t svm         & radial      & 2           &  1.0        &  10.0       & 1.288465427\\\\\n",
       "\t svm         & radial      & 2           &  1.0        & 100.0       & 1.357962607\\\\\n",
       "\t svm         & radial      & 2           & 10.0        &   0.1       & 2.557428848\\\\\n",
       "\t svm         & radial      & 2           & 10.0        &   1.0       & 1.865984859\\\\\n",
       "\t svm         & radial      & 2           & 10.0        &  10.0       & 1.521417649\\\\\n",
       "\t svm         & radial      & 2           & 10.0        & 100.0       & 1.521417649\\\\\n",
       "\t svm         & radial      & 3           &  0.1        &   0.1       & 2.620305182\\\\\n",
       "\t svm         & radial      & 3           &  0.1        &   1.0       & 2.105818740\\\\\n",
       "\t svm         & radial      & 3           &  0.1        &  10.0       & 2.218323334\\\\\n",
       "\t svm         & radial      & 3           &  0.1        & 100.0       & 1.773912578\\\\\n",
       "\t svm         & radial      & 3           &  1.0        &   0.1       & 2.596711899\\\\\n",
       "\t svm         & radial      & 3           &  1.0        &   1.0       & 1.938160991\\\\\n",
       "\t svm         & radial      & 3           &  1.0        &  10.0       & 1.288465427\\\\\n",
       "\t svm         & radial      & 3           &  1.0        & 100.0       & 1.357962607\\\\\n",
       "\t svm         & radial      & 3           & 10.0        &   0.1       & 2.557428848\\\\\n",
       "\t svm         & radial      & 3           & 10.0        &   1.0       & 1.865984859\\\\\n",
       "\t svm         & radial      & 3           & 10.0        &  10.0       & 1.521417649\\\\\n",
       "\t svm         & radial      & 3           & 10.0        & 100.0       & 1.521417649\\\\\n",
       "\\end{tabular}\n"
      ],
      "text/markdown": [
       "\n",
       "method | kernel | degree | gamma | cost | RMSE | \n",
       "|---|---|---|---|---|---|---|---|---|---|---|---|---|---|---|---|---|---|---|---|---|---|---|---|---|---|---|---|---|---|---|---|---|---|---|---|---|---|---|---|---|---|---|---|---|---|---|---|---|---|---|---|---|---|---|---|---|---|---|---|---|---|---|---|---|---|---|---|---|---|---|---|\n",
       "| svm         | polynomial  | 1           |  0.1        |   0.1       | 2.640372564 | \n",
       "| svm         | polynomial  | 1           |  0.1        |   1.0       | 2.054952179 | \n",
       "| svm         | polynomial  | 1           |  0.1        |  10.0       | 1.629954508 | \n",
       "| svm         | polynomial  | 1           |  0.1        | 100.0       | 1.629954629 | \n",
       "| svm         | polynomial  | 1           |  1.0        |   0.1       | 2.056027239 | \n",
       "| svm         | polynomial  | 1           |  1.0        |   1.0       | 1.629954622 | \n",
       "| svm         | polynomial  | 1           |  1.0        |  10.0       | 1.629955537 | \n",
       "| svm         | polynomial  | 1           |  1.0        | 100.0       | 1.629964945 | \n",
       "| svm         | polynomial  | 1           | 10.0        |   0.1       | 1.629954478 | \n",
       "| svm         | polynomial  | 1           | 10.0        |   1.0       | 1.629954041 | \n",
       "| svm         | polynomial  | 1           | 10.0        |  10.0       | 1.629949880 | \n",
       "| svm         | polynomial  | 1           | 10.0        | 100.0       | 1.629908291 | \n",
       "| svm         | polynomial  | 2           |  0.1        |   0.1       | 2.731010906 | \n",
       "| svm         | polynomial  | 2           |  0.1        |   1.0       | 2.744862014 | \n",
       "| svm         | polynomial  | 2           |  0.1        |  10.0       | 2.883621410 | \n",
       "| svm         | polynomial  | 2           |  0.1        | 100.0       | 3.920656944 | \n",
       "| svm         | polynomial  | 2           |  1.0        |   0.1       | 2.883621414 | \n",
       "| svm         | polynomial  | 2           |  1.0        |   1.0       | 3.920656849 | \n",
       "| svm         | polynomial  | 2           |  1.0        |  10.0       | 4.800819285 | \n",
       "| svm         | polynomial  | 2           |  1.0        | 100.0       | 5.162161927 | \n",
       "| svm         | polynomial  | 2           | 10.0        |   0.1       | 4.800819036 | \n",
       "| svm         | polynomial  | 2           | 10.0        |   1.0       | 5.161774972 | \n",
       "| svm         | polynomial  | 2           | 10.0        |  10.0       | 5.161804055 | \n",
       "| svm         | polynomial  | 2           | 10.0        | 100.0       | 5.162094885 | \n",
       "| svm         | polynomial  | 3           |  0.1        |   0.1       | 2.724751648 | \n",
       "| svm         | polynomial  | 3           |  0.1        |   1.0       | 2.682599678 | \n",
       "| svm         | polynomial  | 3           |  0.1        |  10.0       | 2.264395985 | \n",
       "| svm         | polynomial  | 3           |  0.1        | 100.0       | 1.624329687 | \n",
       "| svm         | polynomial  | 3           |  1.0        |   0.1       | 1.624358407 | \n",
       "| svm         | polynomial  | 3           |  1.0        |   1.0       | 1.805558040 | \n",
       "| svm         | polynomial  | 3           |  1.0        |  10.0       | 1.805556591 | \n",
       "| svm         | polynomial  | 3           |  1.0        | 100.0       | 1.805542104 | \n",
       "| svm         | polynomial  | 3           | 10.0        |   0.1       | 1.805604892 | \n",
       "| svm         | polynomial  | 3           | 10.0        |   1.0       | 1.806025936 | \n",
       "| svm         | polynomial  | 3           | 10.0        |  10.0       | 1.810237812 | \n",
       "| svm         | polynomial  | 3           | 10.0        | 100.0       | 1.845039498 | \n",
       "| svm         | radial      | 1           |  0.1        |   0.1       | 2.620305182 | \n",
       "| svm         | radial      | 1           |  0.1        |   1.0       | 2.105818740 | \n",
       "| svm         | radial      | 1           |  0.1        |  10.0       | 2.218323334 | \n",
       "| svm         | radial      | 1           |  0.1        | 100.0       | 1.773912578 | \n",
       "| svm         | radial      | 1           |  1.0        |   0.1       | 2.596711899 | \n",
       "| svm         | radial      | 1           |  1.0        |   1.0       | 1.938160991 | \n",
       "| svm         | radial      | 1           |  1.0        |  10.0       | 1.288465427 | \n",
       "| svm         | radial      | 1           |  1.0        | 100.0       | 1.357962607 | \n",
       "| svm         | radial      | 1           | 10.0        |   0.1       | 2.557428848 | \n",
       "| svm         | radial      | 1           | 10.0        |   1.0       | 1.865984859 | \n",
       "| svm         | radial      | 1           | 10.0        |  10.0       | 1.521417649 | \n",
       "| svm         | radial      | 1           | 10.0        | 100.0       | 1.521417649 | \n",
       "| svm         | radial      | 2           |  0.1        |   0.1       | 2.620305182 | \n",
       "| svm         | radial      | 2           |  0.1        |   1.0       | 2.105818740 | \n",
       "| svm         | radial      | 2           |  0.1        |  10.0       | 2.218323334 | \n",
       "| svm         | radial      | 2           |  0.1        | 100.0       | 1.773912578 | \n",
       "| svm         | radial      | 2           |  1.0        |   0.1       | 2.596711899 | \n",
       "| svm         | radial      | 2           |  1.0        |   1.0       | 1.938160991 | \n",
       "| svm         | radial      | 2           |  1.0        |  10.0       | 1.288465427 | \n",
       "| svm         | radial      | 2           |  1.0        | 100.0       | 1.357962607 | \n",
       "| svm         | radial      | 2           | 10.0        |   0.1       | 2.557428848 | \n",
       "| svm         | radial      | 2           | 10.0        |   1.0       | 1.865984859 | \n",
       "| svm         | radial      | 2           | 10.0        |  10.0       | 1.521417649 | \n",
       "| svm         | radial      | 2           | 10.0        | 100.0       | 1.521417649 | \n",
       "| svm         | radial      | 3           |  0.1        |   0.1       | 2.620305182 | \n",
       "| svm         | radial      | 3           |  0.1        |   1.0       | 2.105818740 | \n",
       "| svm         | radial      | 3           |  0.1        |  10.0       | 2.218323334 | \n",
       "| svm         | radial      | 3           |  0.1        | 100.0       | 1.773912578 | \n",
       "| svm         | radial      | 3           |  1.0        |   0.1       | 2.596711899 | \n",
       "| svm         | radial      | 3           |  1.0        |   1.0       | 1.938160991 | \n",
       "| svm         | radial      | 3           |  1.0        |  10.0       | 1.288465427 | \n",
       "| svm         | radial      | 3           |  1.0        | 100.0       | 1.357962607 | \n",
       "| svm         | radial      | 3           | 10.0        |   0.1       | 2.557428848 | \n",
       "| svm         | radial      | 3           | 10.0        |   1.0       | 1.865984859 | \n",
       "| svm         | radial      | 3           | 10.0        |  10.0       | 1.521417649 | \n",
       "| svm         | radial      | 3           | 10.0        | 100.0       | 1.521417649 | \n",
       "\n",
       "\n"
      ],
      "text/plain": [
       "   method kernel     degree gamma cost  RMSE       \n",
       "1  svm    polynomial 1       0.1    0.1 2.640372564\n",
       "2  svm    polynomial 1       0.1    1.0 2.054952179\n",
       "3  svm    polynomial 1       0.1   10.0 1.629954508\n",
       "4  svm    polynomial 1       0.1  100.0 1.629954629\n",
       "5  svm    polynomial 1       1.0    0.1 2.056027239\n",
       "6  svm    polynomial 1       1.0    1.0 1.629954622\n",
       "7  svm    polynomial 1       1.0   10.0 1.629955537\n",
       "8  svm    polynomial 1       1.0  100.0 1.629964945\n",
       "9  svm    polynomial 1      10.0    0.1 1.629954478\n",
       "10 svm    polynomial 1      10.0    1.0 1.629954041\n",
       "11 svm    polynomial 1      10.0   10.0 1.629949880\n",
       "12 svm    polynomial 1      10.0  100.0 1.629908291\n",
       "13 svm    polynomial 2       0.1    0.1 2.731010906\n",
       "14 svm    polynomial 2       0.1    1.0 2.744862014\n",
       "15 svm    polynomial 2       0.1   10.0 2.883621410\n",
       "16 svm    polynomial 2       0.1  100.0 3.920656944\n",
       "17 svm    polynomial 2       1.0    0.1 2.883621414\n",
       "18 svm    polynomial 2       1.0    1.0 3.920656849\n",
       "19 svm    polynomial 2       1.0   10.0 4.800819285\n",
       "20 svm    polynomial 2       1.0  100.0 5.162161927\n",
       "21 svm    polynomial 2      10.0    0.1 4.800819036\n",
       "22 svm    polynomial 2      10.0    1.0 5.161774972\n",
       "23 svm    polynomial 2      10.0   10.0 5.161804055\n",
       "24 svm    polynomial 2      10.0  100.0 5.162094885\n",
       "25 svm    polynomial 3       0.1    0.1 2.724751648\n",
       "26 svm    polynomial 3       0.1    1.0 2.682599678\n",
       "27 svm    polynomial 3       0.1   10.0 2.264395985\n",
       "28 svm    polynomial 3       0.1  100.0 1.624329687\n",
       "29 svm    polynomial 3       1.0    0.1 1.624358407\n",
       "30 svm    polynomial 3       1.0    1.0 1.805558040\n",
       "31 svm    polynomial 3       1.0   10.0 1.805556591\n",
       "32 svm    polynomial 3       1.0  100.0 1.805542104\n",
       "33 svm    polynomial 3      10.0    0.1 1.805604892\n",
       "34 svm    polynomial 3      10.0    1.0 1.806025936\n",
       "35 svm    polynomial 3      10.0   10.0 1.810237812\n",
       "36 svm    polynomial 3      10.0  100.0 1.845039498\n",
       "37 svm    radial     1       0.1    0.1 2.620305182\n",
       "38 svm    radial     1       0.1    1.0 2.105818740\n",
       "39 svm    radial     1       0.1   10.0 2.218323334\n",
       "40 svm    radial     1       0.1  100.0 1.773912578\n",
       "41 svm    radial     1       1.0    0.1 2.596711899\n",
       "42 svm    radial     1       1.0    1.0 1.938160991\n",
       "43 svm    radial     1       1.0   10.0 1.288465427\n",
       "44 svm    radial     1       1.0  100.0 1.357962607\n",
       "45 svm    radial     1      10.0    0.1 2.557428848\n",
       "46 svm    radial     1      10.0    1.0 1.865984859\n",
       "47 svm    radial     1      10.0   10.0 1.521417649\n",
       "48 svm    radial     1      10.0  100.0 1.521417649\n",
       "49 svm    radial     2       0.1    0.1 2.620305182\n",
       "50 svm    radial     2       0.1    1.0 2.105818740\n",
       "51 svm    radial     2       0.1   10.0 2.218323334\n",
       "52 svm    radial     2       0.1  100.0 1.773912578\n",
       "53 svm    radial     2       1.0    0.1 2.596711899\n",
       "54 svm    radial     2       1.0    1.0 1.938160991\n",
       "55 svm    radial     2       1.0   10.0 1.288465427\n",
       "56 svm    radial     2       1.0  100.0 1.357962607\n",
       "57 svm    radial     2      10.0    0.1 2.557428848\n",
       "58 svm    radial     2      10.0    1.0 1.865984859\n",
       "59 svm    radial     2      10.0   10.0 1.521417649\n",
       "60 svm    radial     2      10.0  100.0 1.521417649\n",
       "61 svm    radial     3       0.1    0.1 2.620305182\n",
       "62 svm    radial     3       0.1    1.0 2.105818740\n",
       "63 svm    radial     3       0.1   10.0 2.218323334\n",
       "64 svm    radial     3       0.1  100.0 1.773912578\n",
       "65 svm    radial     3       1.0    0.1 2.596711899\n",
       "66 svm    radial     3       1.0    1.0 1.938160991\n",
       "67 svm    radial     3       1.0   10.0 1.288465427\n",
       "68 svm    radial     3       1.0  100.0 1.357962607\n",
       "69 svm    radial     3      10.0    0.1 2.557428848\n",
       "70 svm    radial     3      10.0    1.0 1.865984859\n",
       "71 svm    radial     3      10.0   10.0 1.521417649\n",
       "72 svm    radial     3      10.0  100.0 1.521417649"
      ]
     },
     "metadata": {},
     "output_type": "display_data"
    }
   ],
   "source": [
    "nfold = 5\n",
    "\n",
    "set.seed(12345)\n",
    "test = createFolds(data$outcome, k=nfold)\n",
    "train = createFolds.train(data$outcome, test)\n",
    "\n",
    "tune = data.frame()\n",
    "\n",
    "for (kernel in c(\"polynomial\",\"radial\"))\n",
    "for (degree in c(1,2,3))\n",
    "for (gamma in c(0.1,1,10))\n",
    "for (cost in c(0.1,1,10,100))\n",
    "{\n",
    "  model = list()\n",
    "  result = list()\n",
    "  RMSE = c()\n",
    "\n",
    "  for (fold in 1:nfold)\n",
    "  {\n",
    "    model[[fold]] = svm(outcome~x1, data[train[[fold]],], type=\"eps-regression\", kernel=kernel, degree=degree, gamma=gamma, cost=cost)\n",
    "  \n",
    "    result[[fold]] = data[test[[fold]],]\n",
    "    result[[fold]]$outcome.predicted = predict(model[[fold]], data[test[[fold]],])\n",
    "    result[[fold]]$error = result[[fold]]$outcome.predicted - result[[fold]]$outcome\n",
    "    RMSE[fold] = sqrt(mean(result[[fold]]$error^2))\n",
    "  }\n",
    "\n",
    "  tune = rbind(tune, data.frame(method=\"svm\", kernel=kernel, degree=degree, gamma=gamma, cost=cost, RMSE=mean(RMSE)))\n",
    "}\n",
    "\n",
    "tune"
   ]
  },
  {
   "cell_type": "code",
   "execution_count": 31,
   "metadata": {},
   "outputs": [
    {
     "data": {
      "text/html": [
       "<table>\n",
       "<thead><tr><th></th><th scope=col>method</th><th scope=col>kernel</th><th scope=col>degree</th><th scope=col>gamma</th><th scope=col>cost</th><th scope=col>RMSE</th></tr></thead>\n",
       "<tbody>\n",
       "\t<tr><th scope=row>43</th><td>svm        </td><td>radial     </td><td>1          </td><td>1          </td><td>10         </td><td>1.288465427</td></tr>\n",
       "</tbody>\n",
       "</table>\n"
      ],
      "text/latex": [
       "\\begin{tabular}{r|llllll}\n",
       "  & method & kernel & degree & gamma & cost & RMSE\\\\\n",
       "\\hline\n",
       "\t43 & svm         & radial      & 1           & 1           & 10          & 1.288465427\\\\\n",
       "\\end{tabular}\n"
      ],
      "text/markdown": [
       "\n",
       "| <!--/--> | method | kernel | degree | gamma | cost | RMSE | \n",
       "|---|\n",
       "| 43 | svm         | radial      | 1           | 1           | 10          | 1.288465427 | \n",
       "\n",
       "\n"
      ],
      "text/plain": [
       "   method kernel degree gamma cost RMSE       \n",
       "43 svm    radial 1      1     10   1.288465427"
      ]
     },
     "metadata": {},
     "output_type": "display_data"
    }
   ],
   "source": [
    "tune[which.min(tune$RMSE),]"
   ]
  },
  {
   "cell_type": "markdown",
   "metadata": {},
   "source": [
    "<br>\n",
    "### Expectations\n",
    "___\n",
    "* Evaluate a model using cross-validation, given a model construction method, hyper-parameter settings, and data - conceptually and using R.\n",
    "* Tune hyper-parameter settings, given a model construction method, a range of possible hyper-parameter settings, and data - conceptually and using R."
   ]
  },
  {
   "cell_type": "markdown",
   "metadata": {},
   "source": [
    "<br>\n",
    "### Some Useful R Functions\n",
    "___\n",
    "* `createFolds` https://www.rdocumentation.org/packages/caret/versions/6.0-79/topics/createDataPartition\n",
    "* `lm` https://www.rdocumentation.org/packages/stats/versions/3.4.3/topics/lm\n",
    "* `mean` https://www.rdocumentation.org/packages/base/versions/3.4.3/topics/mean\n",
    "* `predict` https://www.rdocumentation.org/packages/stats/versions/3.4.3/topics/predict.lm\n",
    "* `predict` https://www.rdocumentation.org/packages/e1071/versions/1.6-8/topics/predict.svm\n",
    "* `rbind` https://www.rdocumentation.org/packages/spectacles/versions/0.5-0/topics/rbind\n",
    "* `sqrt` https://www.rdocumentation.org/packages/base/versions/3.4.3/topics/MathFun\n",
    "* `svm` https://www.rdocumentation.org/packages/e1071/versions/1.6-8/topics/svm\n",
    "* `which.min` https://www.rdocumentation.org/packages/raster/versions/2.6-7/topics/which.min"
   ]
  },
  {
   "cell_type": "markdown",
   "metadata": {},
   "source": [
    "<br>\n",
    "### Further Reading\n",
    "___\n",
    "* http://www-stat.wharton.upenn.edu/~stine/mich/DM_03.pdf\n",
    "* http://www.milanor.net/blog/cross-validation-for-predictive-analytics-using-r/\n",
    "* http://www.cs.cmu.edu/~./awm/tutorials/overfit10.pdf"
   ]
  },
  {
   "cell_type": "markdown",
   "metadata": {},
   "source": [
    "$\\tiny \\text{Copyright (c) Berkeley Data Analytics Group, LLC}$"
   ]
  }
 ],
 "metadata": {
  "hide_code_all_hidden": false,
  "hide_input": false,
  "kernelspec": {
   "display_name": "R",
   "language": "R",
   "name": "ir"
  },
  "language_info": {
   "codemirror_mode": "r",
   "file_extension": ".r",
   "mimetype": "text/x-r-source",
   "name": "R",
   "pygments_lexer": "r",
   "version": "3.5.3"
  },
  "toc": {
   "base_numbering": 1,
   "nav_menu": {},
   "number_sections": false,
   "sideBar": true,
   "skip_h1_title": true,
   "title_cell": "Table of Contents",
   "title_sidebar": "Contents",
   "toc_cell": false,
   "toc_position": {},
   "toc_section_display": true,
   "toc_window_display": true
  }
 },
 "nbformat": 4,
 "nbformat_minor": 2
}
