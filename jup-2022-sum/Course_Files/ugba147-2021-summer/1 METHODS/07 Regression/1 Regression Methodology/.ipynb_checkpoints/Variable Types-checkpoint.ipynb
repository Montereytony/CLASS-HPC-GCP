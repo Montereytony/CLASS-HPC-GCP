{
 "cells": [
  {
   "cell_type": "markdown",
   "metadata": {
    "hideCode": false,
    "hidePrompt": false
   },
   "source": [
    "# Variable Types\n",
    "\n",
    "![](banner_variable_types.jpg)"
   ]
  },
  {
   "cell_type": "code",
   "execution_count": 3,
   "metadata": {
    "hide_input": true
   },
   "outputs": [],
   "source": [
    "options(warn=-1)\n",
    "\n",
    "# Load some required functions\n",
    "library(ggplot2,   verbose=FALSE, warn.conflicts=FALSE, quietly=TRUE)\n",
    "library(e1071,     verbose=FALSE, warn.conflicts=FALSE, quietly=TRUE)\n",
    "library(dummies,   verbose=FALSE, warn.conflicts=FALSE, quietly=TRUE)\n",
    "\n",
    "# Define some useful functions\n",
    "size = function(data) data.frame(observations=dim(data)[1], variables=dim(data)[2])\n",
    "\n",
    "# Define some visualization constants\n",
    "restore = list(repr.plot.width=8, repr.plot.height=3)\n",
    "PALETTE = c(\"#00A9FF\", \"#F8766D\", \"#7CAE00\", \"#C77CFF\", \"#CD9600\", \"#00BE67\", \"#FF61CC\", \"#00BFC4\")\n",
    "theme.x_axis_only = theme(axis.title.y=element_blank(), axis.text.y=element_blank(), axis.ticks.y=element_blank(), panel.grid.major.y=element_blank(), panel.grid.minor.y=element_blank())\n",
    "theme.y_axis_only = theme(axis.title.x=element_blank(), axis.text.x=element_blank(), axis.ticks.x=element_blank(), panel.grid.major.x=element_blank(), panel.grid.minor.x=element_blank())\n",
    "theme.no_axes = theme.x_axis_only + theme.y_axis_only\n",
    "theme.no_legend = theme(legend.position=\"none\")\n",
    "                      \n",
    "# Set some visualization formatting defaults\n",
    "options(restore)\n",
    "options(digits=10, scipen=100) # expose many digits, use scientific notation sparingly\n",
    "update_geom_defaults(\"point\", list(size=3, colour=\"grey50\"))\n",
    "theme_update(plot.title=element_text(size=10, hjust=0.5), plot.subtitle=element_text(size=8, face=\"italic\", hjust=0.5), axis.title=element_text(size=7), axis.text=element_text(size=7), strip.text=element_text(size=7), strip.text.y=element_text(angle=90), legend.title=element_blank(), legend.text=element_text(size=7))"
   ]
  },
  {
   "cell_type": "markdown",
   "metadata": {},
   "source": [
    "## Introduction\n",
    "\n",
    "Motivation, context, history, overview, related topics, terminology ..."
   ]
  },
  {
   "cell_type": "markdown",
   "metadata": {},
   "source": [
    "## Discourse"
   ]
  },
  {
   "cell_type": "markdown",
   "metadata": {},
   "source": [
    "### Categorical & Numeric Variables\n",
    "\n",
    "* **Categorical Variables:** each value can be any member of a certain set of discrete labels  \n",
    "* **Numerical Variables:** each value can be any member of a certain subset of real numbers"
   ]
  },
  {
   "cell_type": "markdown",
   "metadata": {},
   "source": [
    "#### Implementation of Categorical Variables in R: factor\n",
    "Use this approach if you need variable labels to match across tables.  This is the usual approach.  The `data.frame` function converts a vector of character strings to a vector of factors, where the set of all possible labels is explicitly specified as a parameter of the `factor` function. "
   ]
  },
  {
   "cell_type": "code",
   "execution_count": 4,
   "metadata": {},
   "outputs": [
    {
     "data": {
      "text/html": [
       "<table>\n",
       "<thead><tr><th scope=col>observations</th><th scope=col>variables</th></tr></thead>\n",
       "<tbody>\n",
       "\t<tr><td>5</td><td>2</td></tr>\n",
       "</tbody>\n",
       "</table>\n"
      ],
      "text/latex": [
       "\\begin{tabular}{r|ll}\n",
       " observations & variables\\\\\n",
       "\\hline\n",
       "\t 5 & 2\\\\\n",
       "\\end{tabular}\n"
      ],
      "text/markdown": [
       "\n",
       "| observations | variables |\n",
       "|---|---|\n",
       "| 5 | 2 |\n",
       "\n"
      ],
      "text/plain": [
       "  observations variables\n",
       "1 5            2        "
      ]
     },
     "metadata": {},
     "output_type": "display_data"
    },
    {
     "data": {
      "text/html": [
       "<table>\n",
       "<thead><tr><th scope=col>x1</th><th scope=col>x2</th></tr></thead>\n",
       "<tbody>\n",
       "\t<tr><td>A</td><td>D</td></tr>\n",
       "\t<tr><td>B</td><td>E</td></tr>\n",
       "\t<tr><td>C</td><td>D</td></tr>\n",
       "\t<tr><td>A</td><td>F</td></tr>\n",
       "\t<tr><td>A</td><td>G</td></tr>\n",
       "</tbody>\n",
       "</table>\n"
      ],
      "text/latex": [
       "\\begin{tabular}{r|ll}\n",
       " x1 & x2\\\\\n",
       "\\hline\n",
       "\t A & D\\\\\n",
       "\t B & E\\\\\n",
       "\t C & D\\\\\n",
       "\t A & F\\\\\n",
       "\t A & G\\\\\n",
       "\\end{tabular}\n"
      ],
      "text/markdown": [
       "\n",
       "| x1 | x2 |\n",
       "|---|---|\n",
       "| A | D |\n",
       "| B | E |\n",
       "| C | D |\n",
       "| A | F |\n",
       "| A | G |\n",
       "\n"
      ],
      "text/plain": [
       "  x1 x2\n",
       "1 A  D \n",
       "2 B  E \n",
       "3 C  D \n",
       "4 A  F \n",
       "5 A  G "
      ]
     },
     "metadata": {},
     "output_type": "display_data"
    },
    {
     "data": {
      "text/html": [
       "<table>\n",
       "<thead><tr><th scope=col>x1</th></tr></thead>\n",
       "<tbody>\n",
       "\t<tr><td>A</td></tr>\n",
       "</tbody>\n",
       "</table>\n"
      ],
      "text/latex": [
       "\\begin{tabular}{r|l}\n",
       " x1\\\\\n",
       "\\hline\n",
       "\t A\\\\\n",
       "\\end{tabular}\n"
      ],
      "text/markdown": [
       "\n",
       "| x1 |\n",
       "|---|\n",
       "| A |\n",
       "\n"
      ],
      "text/plain": [
       "  x1\n",
       "1 A "
      ]
     },
     "metadata": {},
     "output_type": "display_data"
    },
    {
     "data": {
      "text/html": [
       "<table>\n",
       "<thead><tr><th scope=col>x1</th></tr></thead>\n",
       "<tbody>\n",
       "\t<tr><td>B</td></tr>\n",
       "</tbody>\n",
       "</table>\n"
      ],
      "text/latex": [
       "\\begin{tabular}{r|l}\n",
       " x1\\\\\n",
       "\\hline\n",
       "\t B\\\\\n",
       "\\end{tabular}\n"
      ],
      "text/markdown": [
       "\n",
       "| x1 |\n",
       "|---|\n",
       "| B |\n",
       "\n"
      ],
      "text/plain": [
       "  x1\n",
       "1 B "
      ]
     },
     "metadata": {},
     "output_type": "display_data"
    }
   ],
   "source": [
    "x1_labels = c(\"A\",\"B\",\"C\")\n",
    "x2_labels = c(\"D\",\"E\",\"F\",\"G\")\n",
    "\n",
    "data = data.frame(x1=factor(c(\"A\",\"B\",\"C\",\"A\",\"A\"), x1_labels), x2=factor(c(\"D\",\"E\",\"D\",\"F\",\"G\"), x2_labels))\n",
    "\n",
    "new.A = data.frame(x1=factor(\"A\", x1_labels))\n",
    "new.B = data.frame(x1=factor(\"B\", x1_labels))\n",
    "\n",
    "size(data)\n",
    "data\n",
    "new.A\n",
    "new.B"
   ]
  },
  {
   "cell_type": "code",
   "execution_count": 5,
   "metadata": {},
   "outputs": [
    {
     "data": {
      "image/png": "[encoded data removed]",
      "text/plain": [
       "plot without title"
      ]
     },
     "metadata": {},
     "output_type": "display_data"
    }
   ],
   "source": [
    "ggplot(data) + geom_point(aes(x=x1, y=x2), color=PALETTE[3])"
   ]
  },
  {
   "cell_type": "code",
   "execution_count": 69,
   "metadata": {},
   "outputs": [
    {
     "name": "stdout",
     "output_type": "stream",
     "text": [
      " Factor w/ 3 levels \"A\",\"B\",\"C\": 1 2 3 1 1\n",
      " Factor w/ 4 levels \"D\",\"E\",\"F\",\"G\": 1 2 1 3 4\n"
     ]
    },
    {
     "data": {
      "text/plain": [
       "   x2\n",
       "x1  D E F G\n",
       "  A 1 0 1 1\n",
       "  B 0 1 0 0\n",
       "  C 1 0 0 0"
      ]
     },
     "metadata": {},
     "output_type": "display_data"
    }
   ],
   "source": [
    "str(data$x1)\n",
    "str(data$x2)\n",
    "table(data)"
   ]
  },
  {
   "cell_type": "code",
   "execution_count": 70,
   "metadata": {},
   "outputs": [
    {
     "name": "stdout",
     "output_type": "stream",
     "text": [
      " Factor w/ 3 levels \"A\",\"B\",\"C\": 1\n"
     ]
    },
    {
     "data": {
      "text/plain": [
       "new.A\n",
       "A B C \n",
       "1 0 0 "
      ]
     },
     "metadata": {},
     "output_type": "display_data"
    }
   ],
   "source": [
    "str(new.A$x1)\n",
    "table(new.A)"
   ]
  },
  {
   "cell_type": "code",
   "execution_count": 71,
   "metadata": {},
   "outputs": [
    {
     "name": "stdout",
     "output_type": "stream",
     "text": [
      " Factor w/ 3 levels \"A\",\"B\",\"C\": 2\n"
     ]
    },
    {
     "data": {
      "text/plain": [
       "new.B\n",
       "A B C \n",
       "0 1 0 "
      ]
     },
     "metadata": {},
     "output_type": "display_data"
    }
   ],
   "source": [
    "str(new.B$x1)\n",
    "table(new.B)"
   ]
  },
  {
   "cell_type": "markdown",
   "metadata": {},
   "source": [
    "<br>\n",
    "Note, for example, that the naive bayes method applied to the data produces a model that recognizes the potential value of a new observation's x1 variable as A, B, or C.  This results in different predictions for the different new observations, as expected. "
   ]
  },
  {
   "cell_type": "code",
   "execution_count": 72,
   "metadata": {},
   "outputs": [
    {
     "data": {
      "text/html": [
       "<table>\n",
       "<thead><tr><th scope=col>D</th><th scope=col>E</th><th scope=col>F</th><th scope=col>G</th></tr></thead>\n",
       "<tbody>\n",
       "\t<tr><td>0.3332222592   </td><td>0.0003332222592</td><td>0.3332222592   </td><td>0.3332222592   </td></tr>\n",
       "</tbody>\n",
       "</table>\n"
      ],
      "text/latex": [
       "\\begin{tabular}{llll}\n",
       " D & E & F & G\\\\\n",
       "\\hline\n",
       "\t 0.3332222592    & 0.0003332222592 & 0.3332222592    & 0.3332222592   \\\\\n",
       "\\end{tabular}\n"
      ],
      "text/markdown": [
       "\n",
       "D | E | F | G | \n",
       "|---|\n",
       "| 0.3332222592    | 0.0003332222592 | 0.3332222592    | 0.3332222592    | \n",
       "\n",
       "\n"
      ],
      "text/plain": [
       "     D            E               F            G           \n",
       "[1,] 0.3332222592 0.0003332222592 0.3332222592 0.3332222592"
      ]
     },
     "metadata": {},
     "output_type": "display_data"
    },
    {
     "data": {
      "text/html": [
       "<table>\n",
       "<thead><tr><th scope=col>D</th><th scope=col>E</th><th scope=col>F</th><th scope=col>G</th></tr></thead>\n",
       "<tbody>\n",
       "\t<tr><td>0.001992031873 </td><td>0.9960159363   </td><td>0.0009960159363</td><td>0.0009960159363</td></tr>\n",
       "</tbody>\n",
       "</table>\n"
      ],
      "text/latex": [
       "\\begin{tabular}{llll}\n",
       " D & E & F & G\\\\\n",
       "\\hline\n",
       "\t 0.001992031873  & 0.9960159363    & 0.0009960159363 & 0.0009960159363\\\\\n",
       "\\end{tabular}\n"
      ],
      "text/markdown": [
       "\n",
       "D | E | F | G | \n",
       "|---|\n",
       "| 0.001992031873  | 0.9960159363    | 0.0009960159363 | 0.0009960159363 | \n",
       "\n",
       "\n"
      ],
      "text/plain": [
       "     D              E            F               G              \n",
       "[1,] 0.001992031873 0.9960159363 0.0009960159363 0.0009960159363"
      ]
     },
     "metadata": {},
     "output_type": "display_data"
    }
   ],
   "source": [
    "model = naiveBayes(x2~x1, data)\n",
    "predict(model, new.A, type=\"raw\")\n",
    "predict(model, new.B, type=\"raw\")"
   ]
  },
  {
   "cell_type": "markdown",
   "metadata": {},
   "source": [
    "<br>\n",
    "\n",
    "#### Implementation of Categorical Variables in R: character to factor\n",
    "\n",
    "Use this approach only if you do not need variable labels to match across tables.  The `data.frame` function converts a vector of character strings to a vector of factors, and assumes the set of all possible labels is represented in the vector. "
   ]
  },
  {
   "cell_type": "code",
   "execution_count": 6,
   "metadata": {},
   "outputs": [
    {
     "data": {
      "text/html": [
       "<table>\n",
       "<thead><tr><th scope=col>observations</th><th scope=col>variables</th></tr></thead>\n",
       "<tbody>\n",
       "\t<tr><td>5</td><td>2</td></tr>\n",
       "</tbody>\n",
       "</table>\n"
      ],
      "text/latex": [
       "\\begin{tabular}{r|ll}\n",
       " observations & variables\\\\\n",
       "\\hline\n",
       "\t 5 & 2\\\\\n",
       "\\end{tabular}\n"
      ],
      "text/markdown": [
       "\n",
       "| observations | variables |\n",
       "|---|---|\n",
       "| 5 | 2 |\n",
       "\n"
      ],
      "text/plain": [
       "  observations variables\n",
       "1 5            2        "
      ]
     },
     "metadata": {},
     "output_type": "display_data"
    },
    {
     "data": {
      "text/html": [
       "<table>\n",
       "<thead><tr><th scope=col>x1</th><th scope=col>x2</th></tr></thead>\n",
       "<tbody>\n",
       "\t<tr><td>A</td><td>D</td></tr>\n",
       "\t<tr><td>B</td><td>E</td></tr>\n",
       "\t<tr><td>C</td><td>D</td></tr>\n",
       "\t<tr><td>A</td><td>F</td></tr>\n",
       "\t<tr><td>A</td><td>G</td></tr>\n",
       "</tbody>\n",
       "</table>\n"
      ],
      "text/latex": [
       "\\begin{tabular}{r|ll}\n",
       " x1 & x2\\\\\n",
       "\\hline\n",
       "\t A & D\\\\\n",
       "\t B & E\\\\\n",
       "\t C & D\\\\\n",
       "\t A & F\\\\\n",
       "\t A & G\\\\\n",
       "\\end{tabular}\n"
      ],
      "text/markdown": [
       "\n",
       "| x1 | x2 |\n",
       "|---|---|\n",
       "| A | D |\n",
       "| B | E |\n",
       "| C | D |\n",
       "| A | F |\n",
       "| A | G |\n",
       "\n"
      ],
      "text/plain": [
       "  x1 x2\n",
       "1 A  D \n",
       "2 B  E \n",
       "3 C  D \n",
       "4 A  F \n",
       "5 A  G "
      ]
     },
     "metadata": {},
     "output_type": "display_data"
    },
    {
     "data": {
      "text/html": [
       "<table>\n",
       "<thead><tr><th scope=col>x1</th></tr></thead>\n",
       "<tbody>\n",
       "\t<tr><td>A</td></tr>\n",
       "</tbody>\n",
       "</table>\n"
      ],
      "text/latex": [
       "\\begin{tabular}{r|l}\n",
       " x1\\\\\n",
       "\\hline\n",
       "\t A\\\\\n",
       "\\end{tabular}\n"
      ],
      "text/markdown": [
       "\n",
       "| x1 |\n",
       "|---|\n",
       "| A |\n",
       "\n"
      ],
      "text/plain": [
       "  x1\n",
       "1 A "
      ]
     },
     "metadata": {},
     "output_type": "display_data"
    },
    {
     "data": {
      "text/html": [
       "<table>\n",
       "<thead><tr><th scope=col>x1</th></tr></thead>\n",
       "<tbody>\n",
       "\t<tr><td>B</td></tr>\n",
       "</tbody>\n",
       "</table>\n"
      ],
      "text/latex": [
       "\\begin{tabular}{r|l}\n",
       " x1\\\\\n",
       "\\hline\n",
       "\t B\\\\\n",
       "\\end{tabular}\n"
      ],
      "text/markdown": [
       "\n",
       "| x1 |\n",
       "|---|\n",
       "| B |\n",
       "\n"
      ],
      "text/plain": [
       "  x1\n",
       "1 B "
      ]
     },
     "metadata": {},
     "output_type": "display_data"
    }
   ],
   "source": [
    "data = data.frame(x1=c(\"A\",\"B\",\"C\",\"A\",\"A\"), x2=c(\"D\",\"E\",\"D\",\"F\",\"G\"))\n",
    "\n",
    "new.A = data.frame(x1=\"A\")\n",
    "new.B = data.frame(x1=\"B\")\n",
    "\n",
    "size(data)\n",
    "data\n",
    "new.A\n",
    "new.B"
   ]
  },
  {
   "cell_type": "code",
   "execution_count": 74,
   "metadata": {},
   "outputs": [
    {
     "data": {},
     "metadata": {},
     "output_type": "display_data"
    },
    {
     "data": {
      "image/png": "[encoded data removed]",
      "text/plain": [
       "plot without title"
      ]
     },
     "metadata": {},
     "output_type": "display_data"
    }
   ],
   "source": [
    "ggplot(data) + geom_point(aes(x=x1, y=x2), color=PALETTE[3])"
   ]
  },
  {
   "cell_type": "code",
   "execution_count": 75,
   "metadata": {},
   "outputs": [
    {
     "name": "stdout",
     "output_type": "stream",
     "text": [
      " Factor w/ 3 levels \"A\",\"B\",\"C\": 1 2 3 1 1\n",
      " Factor w/ 4 levels \"D\",\"E\",\"F\",\"G\": 1 2 1 3 4\n"
     ]
    },
    {
     "data": {
      "text/plain": [
       "   x2\n",
       "x1  D E F G\n",
       "  A 1 0 1 1\n",
       "  B 0 1 0 0\n",
       "  C 1 0 0 0"
      ]
     },
     "metadata": {},
     "output_type": "display_data"
    }
   ],
   "source": [
    "str(data$x1)\n",
    "str(data$x2)\n",
    "table(data)"
   ]
  },
  {
   "cell_type": "code",
   "execution_count": 76,
   "metadata": {},
   "outputs": [
    {
     "name": "stdout",
     "output_type": "stream",
     "text": [
      " Factor w/ 1 level \"A\": 1\n"
     ]
    },
    {
     "data": {
      "text/plain": [
       "new.A\n",
       "A \n",
       "1 "
      ]
     },
     "metadata": {},
     "output_type": "display_data"
    }
   ],
   "source": [
    "str(new.A$x1)\n",
    "table(new.A)"
   ]
  },
  {
   "cell_type": "code",
   "execution_count": 77,
   "metadata": {},
   "outputs": [
    {
     "name": "stdout",
     "output_type": "stream",
     "text": [
      " Factor w/ 1 level \"B\": 1\n"
     ]
    },
    {
     "data": {
      "text/plain": [
       "new.B\n",
       "B \n",
       "1 "
      ]
     },
     "metadata": {},
     "output_type": "display_data"
    }
   ],
   "source": [
    "str(new.B$x1)\n",
    "table(new.B)"
   ]
  },
  {
   "cell_type": "markdown",
   "metadata": {},
   "source": [
    "<br>\n",
    "Note, for example, that the naive bayes method applied to the data produces a model that does **not** recognize the potential value of a new observation's x1 variable as A, B, or C.  Rather, it always treats the value of a new observation's x1 variable as the first of one possible value.  This results in the same prediction for the different new observations, contrary to what would be expected - the new observations are not distinguishable from each other.. "
   ]
  },
  {
   "cell_type": "code",
   "execution_count": 78,
   "metadata": {},
   "outputs": [
    {
     "data": {
      "text/html": [
       "<table>\n",
       "<thead><tr><th scope=col>D</th><th scope=col>E</th><th scope=col>F</th><th scope=col>G</th></tr></thead>\n",
       "<tbody>\n",
       "\t<tr><td>0.3332222592   </td><td>0.0003332222592</td><td>0.3332222592   </td><td>0.3332222592   </td></tr>\n",
       "</tbody>\n",
       "</table>\n"
      ],
      "text/latex": [
       "\\begin{tabular}{llll}\n",
       " D & E & F & G\\\\\n",
       "\\hline\n",
       "\t 0.3332222592    & 0.0003332222592 & 0.3332222592    & 0.3332222592   \\\\\n",
       "\\end{tabular}\n"
      ],
      "text/markdown": [
       "\n",
       "D | E | F | G | \n",
       "|---|\n",
       "| 0.3332222592    | 0.0003332222592 | 0.3332222592    | 0.3332222592    | \n",
       "\n",
       "\n"
      ],
      "text/plain": [
       "     D            E               F            G           \n",
       "[1,] 0.3332222592 0.0003332222592 0.3332222592 0.3332222592"
      ]
     },
     "metadata": {},
     "output_type": "display_data"
    },
    {
     "data": {
      "text/html": [
       "<table>\n",
       "<thead><tr><th scope=col>D</th><th scope=col>E</th><th scope=col>F</th><th scope=col>G</th></tr></thead>\n",
       "<tbody>\n",
       "\t<tr><td>0.3332222592   </td><td>0.0003332222592</td><td>0.3332222592   </td><td>0.3332222592   </td></tr>\n",
       "</tbody>\n",
       "</table>\n"
      ],
      "text/latex": [
       "\\begin{tabular}{llll}\n",
       " D & E & F & G\\\\\n",
       "\\hline\n",
       "\t 0.3332222592    & 0.0003332222592 & 0.3332222592    & 0.3332222592   \\\\\n",
       "\\end{tabular}\n"
      ],
      "text/markdown": [
       "\n",
       "D | E | F | G | \n",
       "|---|\n",
       "| 0.3332222592    | 0.0003332222592 | 0.3332222592    | 0.3332222592    | \n",
       "\n",
       "\n"
      ],
      "text/plain": [
       "     D            E               F            G           \n",
       "[1,] 0.3332222592 0.0003332222592 0.3332222592 0.3332222592"
      ]
     },
     "metadata": {},
     "output_type": "display_data"
    }
   ],
   "source": [
    "model = naiveBayes(x2~x1, data)\n",
    "predict(model, new.A, type=\"raw\")\n",
    "predict(model, new.B, type=\"raw\")"
   ]
  },
  {
   "cell_type": "markdown",
   "metadata": {},
   "source": [
    "<br>\n",
    "\n",
    "#### Implementation of Numerical Variables in R: numeric\n",
    "Use this approach if you need variable values to be interpretted as numerical.  This is the usual approach.  The `data.frame` function assumes that the set of all possible values is the set of real numbers (not a subset of real numbers). "
   ]
  },
  {
   "cell_type": "code",
   "execution_count": 79,
   "metadata": {},
   "outputs": [
    {
     "data": {
      "text/html": [
       "<ol class=list-inline>\n",
       "\t<li>5</li>\n",
       "\t<li>2</li>\n",
       "</ol>\n"
      ],
      "text/latex": [
       "\\begin{enumerate*}\n",
       "\\item 5\n",
       "\\item 2\n",
       "\\end{enumerate*}\n"
      ],
      "text/markdown": [
       "1. 5\n",
       "2. 2\n",
       "\n",
       "\n"
      ],
      "text/plain": [
       "[1] 5 2"
      ]
     },
     "metadata": {},
     "output_type": "display_data"
    },
    {
     "data": {
      "text/html": [
       "<table>\n",
       "<thead><tr><th scope=col>x1</th><th scope=col>x2</th></tr></thead>\n",
       "<tbody>\n",
       "\t<tr><td> 2.3</td><td>3   </td></tr>\n",
       "\t<tr><td> 0.4</td><td>2   </td></tr>\n",
       "\t<tr><td>-2.1</td><td>1   </td></tr>\n",
       "\t<tr><td> 9.0</td><td>4   </td></tr>\n",
       "\t<tr><td> 4.5</td><td>5   </td></tr>\n",
       "</tbody>\n",
       "</table>\n"
      ],
      "text/latex": [
       "\\begin{tabular}{r|ll}\n",
       " x1 & x2\\\\\n",
       "\\hline\n",
       "\t  2.3 & 3   \\\\\n",
       "\t  0.4 & 2   \\\\\n",
       "\t -2.1 & 1   \\\\\n",
       "\t  9.0 & 4   \\\\\n",
       "\t  4.5 & 5   \\\\\n",
       "\\end{tabular}\n"
      ],
      "text/markdown": [
       "\n",
       "x1 | x2 | \n",
       "|---|---|---|---|---|\n",
       "|  2.3 | 3    | \n",
       "|  0.4 | 2    | \n",
       "| -2.1 | 1    | \n",
       "|  9.0 | 4    | \n",
       "|  4.5 | 5    | \n",
       "\n",
       "\n"
      ],
      "text/plain": [
       "  x1   x2\n",
       "1  2.3 3 \n",
       "2  0.4 2 \n",
       "3 -2.1 1 \n",
       "4  9.0 4 \n",
       "5  4.5 5 "
      ]
     },
     "metadata": {},
     "output_type": "display_data"
    }
   ],
   "source": [
    "data = data.frame(x1=c(2.3,0.4,-2.1,9.0,4.5), x2=c(3,2,1,4,5))\n",
    "\n",
    "dim(data)\n",
    "data"
   ]
  },
  {
   "cell_type": "code",
   "execution_count": 80,
   "metadata": {},
   "outputs": [
    {
     "data": {},
     "metadata": {},
     "output_type": "display_data"
    },
    {
     "data": {
      "image/png": "[encoded data removed]",
      "text/plain": [
       "plot without title"
      ]
     },
     "metadata": {},
     "output_type": "display_data"
    }
   ],
   "source": [
    "ggplot(data) + geom_point(aes(x=x1, y=x2), color=PALETTE[3])"
   ]
  },
  {
   "cell_type": "code",
   "execution_count": 81,
   "metadata": {},
   "outputs": [
    {
     "name": "stdout",
     "output_type": "stream",
     "text": [
      " num [1:5] 2.3 0.4 -2.1 9 4.5\n",
      " num [1:5] 3 2 1 4 5\n"
     ]
    },
    {
     "data": {
      "text/plain": [
       "      x2\n",
       "x1     1 2 3 4 5\n",
       "  -2.1 1 0 0 0 0\n",
       "  0.4  0 1 0 0 0\n",
       "  2.3  0 0 1 0 0\n",
       "  4.5  0 0 0 0 1\n",
       "  9    0 0 0 1 0"
      ]
     },
     "metadata": {},
     "output_type": "display_data"
    }
   ],
   "source": [
    "str(data$x1)\n",
    "str(data$x2)\n",
    "table(data)"
   ]
  },
  {
   "cell_type": "markdown",
   "metadata": {},
   "source": [
    "<br>\n",
    "\n",
    "### Dummy Variables\n",
    "\n",
    "You can convert any categorical variable to a set of numerical dummy variables, without loss of information. "
   ]
  },
  {
   "cell_type": "markdown",
   "metadata": {},
   "source": [
    "#### Retrieve Data"
   ]
  },
  {
   "cell_type": "code",
   "execution_count": 88,
   "metadata": {},
   "outputs": [
    {
     "data": {
      "text/html": [
       "<ol class=list-inline>\n",
       "\t<li>8</li>\n",
       "\t<li>3</li>\n",
       "</ol>\n"
      ],
      "text/latex": [
       "\\begin{enumerate*}\n",
       "\\item 8\n",
       "\\item 3\n",
       "\\end{enumerate*}\n"
      ],
      "text/markdown": [
       "1. 8\n",
       "2. 3\n",
       "\n",
       "\n"
      ],
      "text/plain": [
       "[1] 8 3"
      ]
     },
     "metadata": {},
     "output_type": "display_data"
    },
    {
     "data": {
      "text/html": [
       "<table>\n",
       "<thead><tr><th scope=col>x1</th><th scope=col>x2</th><th scope=col>class</th></tr></thead>\n",
       "<tbody>\n",
       "\t<tr><td>1.0</td><td>A  </td><td>D  </td></tr>\n",
       "\t<tr><td>2.0</td><td>B  </td><td>D  </td></tr>\n",
       "\t<tr><td>3.0</td><td>C  </td><td>D  </td></tr>\n",
       "\t<tr><td>4.0</td><td>A  </td><td>E  </td></tr>\n",
       "\t<tr><td>6.0</td><td>A  </td><td>E  </td></tr>\n",
       "\t<tr><td>6.5</td><td>B  </td><td>D  </td></tr>\n",
       "\t<tr><td>7.0</td><td>C  </td><td>D  </td></tr>\n",
       "\t<tr><td>9.0</td><td>C  </td><td>E  </td></tr>\n",
       "</tbody>\n",
       "</table>\n"
      ],
      "text/latex": [
       "\\begin{tabular}{r|lll}\n",
       " x1 & x2 & class\\\\\n",
       "\\hline\n",
       "\t 1.0 & A   & D  \\\\\n",
       "\t 2.0 & B   & D  \\\\\n",
       "\t 3.0 & C   & D  \\\\\n",
       "\t 4.0 & A   & E  \\\\\n",
       "\t 6.0 & A   & E  \\\\\n",
       "\t 6.5 & B   & D  \\\\\n",
       "\t 7.0 & C   & D  \\\\\n",
       "\t 9.0 & C   & E  \\\\\n",
       "\\end{tabular}\n"
      ],
      "text/markdown": [
       "\n",
       "x1 | x2 | class | \n",
       "|---|---|---|---|---|---|---|---|\n",
       "| 1.0 | A   | D   | \n",
       "| 2.0 | B   | D   | \n",
       "| 3.0 | C   | D   | \n",
       "| 4.0 | A   | E   | \n",
       "| 6.0 | A   | E   | \n",
       "| 6.5 | B   | D   | \n",
       "| 7.0 | C   | D   | \n",
       "| 9.0 | C   | E   | \n",
       "\n",
       "\n"
      ],
      "text/plain": [
       "  x1  x2 class\n",
       "1 1.0 A  D    \n",
       "2 2.0 B  D    \n",
       "3 3.0 C  D    \n",
       "4 4.0 A  E    \n",
       "5 6.0 A  E    \n",
       "6 6.5 B  D    \n",
       "7 7.0 C  D    \n",
       "8 9.0 C  E    "
      ]
     },
     "metadata": {},
     "output_type": "display_data"
    },
    {
     "data": {
      "text/html": [
       "<table>\n",
       "<thead><tr><th scope=col>x1</th><th scope=col>x2</th></tr></thead>\n",
       "<tbody>\n",
       "\t<tr><td>5</td><td>B</td></tr>\n",
       "</tbody>\n",
       "</table>\n"
      ],
      "text/latex": [
       "\\begin{tabular}{r|ll}\n",
       " x1 & x2\\\\\n",
       "\\hline\n",
       "\t 5 & B\\\\\n",
       "\\end{tabular}\n"
      ],
      "text/markdown": [
       "\n",
       "x1 | x2 | \n",
       "|---|\n",
       "| 5 | B | \n",
       "\n",
       "\n"
      ],
      "text/plain": [
       "  x1 x2\n",
       "1 5  B "
      ]
     },
     "metadata": {},
     "output_type": "display_data"
    }
   ],
   "source": [
    "x2_labels = c(\"A\",\"B\",\"C\")\n",
    "class_labels = c(\"D\",\"E\")\n",
    "\n",
    "data = data.frame(x1=c(1.0, 2.0, 3.0, 4.0, 6.0, 6.5, 7.0, 9.0),\n",
    "                  x2=factor(c(\"A\",\"B\",\"C\",\"A\",\"A\",\"B\",\"C\",\"C\"), x2_labels),\n",
    "                  class=factor(c(\"D\",\"D\",\"D\",\"E\",\"E\",\"D\",\"D\",\"E\"), class_labels))\n",
    "new = data.frame(x1=5.0, x2=factor(\"B\", x2_labels))\n",
    "\n",
    "dim(data)\n",
    "data\n",
    "data.frame(new)"
   ]
  },
  {
   "cell_type": "code",
   "execution_count": 83,
   "metadata": {},
   "outputs": [
    {
     "data": {},
     "metadata": {},
     "output_type": "display_data"
    },
    {
     "data": {
      "image/png": "[encoded data removed]",
      "text/plain": [
       "plot without title"
      ]
     },
     "metadata": {},
     "output_type": "display_data"
    }
   ],
   "source": [
    "ggplot(data) + geom_point(aes(x=x1, y=x2, color=class)) + geom_point(aes(x=new$x1, y=new$x2), color=\"grey50\") +\n",
    "scale_color_manual(values=PALETTE)"
   ]
  },
  {
   "cell_type": "markdown",
   "metadata": {},
   "source": [
    "<br>\n",
    "\n",
    "#### Choose a categorical variable to convert.  For each potential label, create a new numerical variable.  For each of these new numerical variables, set its values to 0's or 1's, corresponding the original categorical variable labels.  Then remove the original categorical variable.    "
   ]
  },
  {
   "cell_type": "code",
   "execution_count": 84,
   "metadata": {},
   "outputs": [
    {
     "data": {
      "text/html": [
       "<table>\n",
       "<thead><tr><th scope=col>x1</th><th scope=col>x2A</th><th scope=col>x2B</th><th scope=col>x2C</th><th scope=col>class</th></tr></thead>\n",
       "<tbody>\n",
       "\t<tr><td>1.0</td><td>1  </td><td>0  </td><td>0  </td><td>D  </td></tr>\n",
       "\t<tr><td>2.0</td><td>0  </td><td>1  </td><td>0  </td><td>D  </td></tr>\n",
       "\t<tr><td>3.0</td><td>0  </td><td>0  </td><td>1  </td><td>D  </td></tr>\n",
       "\t<tr><td>4.0</td><td>1  </td><td>0  </td><td>0  </td><td>E  </td></tr>\n",
       "\t<tr><td>6.0</td><td>1  </td><td>0  </td><td>0  </td><td>E  </td></tr>\n",
       "\t<tr><td>6.5</td><td>0  </td><td>1  </td><td>0  </td><td>D  </td></tr>\n",
       "\t<tr><td>7.0</td><td>0  </td><td>0  </td><td>1  </td><td>D  </td></tr>\n",
       "\t<tr><td>9.0</td><td>0  </td><td>0  </td><td>1  </td><td>E  </td></tr>\n",
       "</tbody>\n",
       "</table>\n"
      ],
      "text/latex": [
       "\\begin{tabular}{r|lllll}\n",
       " x1 & x2A & x2B & x2C & class\\\\\n",
       "\\hline\n",
       "\t 1.0 & 1   & 0   & 0   & D  \\\\\n",
       "\t 2.0 & 0   & 1   & 0   & D  \\\\\n",
       "\t 3.0 & 0   & 0   & 1   & D  \\\\\n",
       "\t 4.0 & 1   & 0   & 0   & E  \\\\\n",
       "\t 6.0 & 1   & 0   & 0   & E  \\\\\n",
       "\t 6.5 & 0   & 1   & 0   & D  \\\\\n",
       "\t 7.0 & 0   & 0   & 1   & D  \\\\\n",
       "\t 9.0 & 0   & 0   & 1   & E  \\\\\n",
       "\\end{tabular}\n"
      ],
      "text/markdown": [
       "\n",
       "x1 | x2A | x2B | x2C | class | \n",
       "|---|---|---|---|---|---|---|---|\n",
       "| 1.0 | 1   | 0   | 0   | D   | \n",
       "| 2.0 | 0   | 1   | 0   | D   | \n",
       "| 3.0 | 0   | 0   | 1   | D   | \n",
       "| 4.0 | 1   | 0   | 0   | E   | \n",
       "| 6.0 | 1   | 0   | 0   | E   | \n",
       "| 6.5 | 0   | 1   | 0   | D   | \n",
       "| 7.0 | 0   | 0   | 1   | D   | \n",
       "| 9.0 | 0   | 0   | 1   | E   | \n",
       "\n",
       "\n"
      ],
      "text/plain": [
       "  x1  x2A x2B x2C class\n",
       "1 1.0 1   0   0   D    \n",
       "2 2.0 0   1   0   D    \n",
       "3 3.0 0   0   1   D    \n",
       "4 4.0 1   0   0   E    \n",
       "5 6.0 1   0   0   E    \n",
       "6 6.5 0   1   0   D    \n",
       "7 7.0 0   0   1   D    \n",
       "8 9.0 0   0   1   E    "
      ]
     },
     "metadata": {},
     "output_type": "display_data"
    }
   ],
   "source": [
    "data.d = dummy.data.frame(data[,c(\"x1\",\"x2\")], drop=FALSE, omit.constants=FALSE)\n",
    "data.d$class = data$class\n",
    "data.d"
   ]
  },
  {
   "cell_type": "markdown",
   "metadata": {},
   "source": [
    "<br>\n",
    "\n",
    "#### Then remove the first new column because is represents redundant information.\n",
    "\n",
    "Here, we remove x2A because its values are already implied by x2B and x2C.  Specifically, x2B=0, x2C=0 means x2A=1; x2B=1,x2C=0 means x2A=0; x2B=0,x2C=1 means x2A=0. "
   ]
  },
  {
   "cell_type": "code",
   "execution_count": 85,
   "metadata": {},
   "outputs": [
    {
     "data": {
      "text/html": [
       "<table>\n",
       "<thead><tr><th scope=col>x1</th><th scope=col>x2B</th><th scope=col>x2C</th><th scope=col>class</th></tr></thead>\n",
       "<tbody>\n",
       "\t<tr><td>1.0</td><td>0  </td><td>0  </td><td>D  </td></tr>\n",
       "\t<tr><td>2.0</td><td>1  </td><td>0  </td><td>D  </td></tr>\n",
       "\t<tr><td>3.0</td><td>0  </td><td>1  </td><td>D  </td></tr>\n",
       "\t<tr><td>4.0</td><td>0  </td><td>0  </td><td>E  </td></tr>\n",
       "\t<tr><td>6.0</td><td>0  </td><td>0  </td><td>E  </td></tr>\n",
       "\t<tr><td>6.5</td><td>1  </td><td>0  </td><td>D  </td></tr>\n",
       "\t<tr><td>7.0</td><td>0  </td><td>1  </td><td>D  </td></tr>\n",
       "\t<tr><td>9.0</td><td>0  </td><td>1  </td><td>E  </td></tr>\n",
       "</tbody>\n",
       "</table>\n"
      ],
      "text/latex": [
       "\\begin{tabular}{r|llll}\n",
       " x1 & x2B & x2C & class\\\\\n",
       "\\hline\n",
       "\t 1.0 & 0   & 0   & D  \\\\\n",
       "\t 2.0 & 1   & 0   & D  \\\\\n",
       "\t 3.0 & 0   & 1   & D  \\\\\n",
       "\t 4.0 & 0   & 0   & E  \\\\\n",
       "\t 6.0 & 0   & 0   & E  \\\\\n",
       "\t 6.5 & 1   & 0   & D  \\\\\n",
       "\t 7.0 & 0   & 1   & D  \\\\\n",
       "\t 9.0 & 0   & 1   & E  \\\\\n",
       "\\end{tabular}\n"
      ],
      "text/markdown": [
       "\n",
       "x1 | x2B | x2C | class | \n",
       "|---|---|---|---|---|---|---|---|\n",
       "| 1.0 | 0   | 0   | D   | \n",
       "| 2.0 | 1   | 0   | D   | \n",
       "| 3.0 | 0   | 1   | D   | \n",
       "| 4.0 | 0   | 0   | E   | \n",
       "| 6.0 | 0   | 0   | E   | \n",
       "| 6.5 | 1   | 0   | D   | \n",
       "| 7.0 | 0   | 1   | D   | \n",
       "| 9.0 | 0   | 1   | E   | \n",
       "\n",
       "\n"
      ],
      "text/plain": [
       "  x1  x2B x2C class\n",
       "1 1.0 0   0   D    \n",
       "2 2.0 1   0   D    \n",
       "3 3.0 0   1   D    \n",
       "4 4.0 0   0   E    \n",
       "5 6.0 0   0   E    \n",
       "6 6.5 1   0   D    \n",
       "7 7.0 0   1   D    \n",
       "8 9.0 0   1   E    "
      ]
     },
     "metadata": {},
     "output_type": "display_data"
    }
   ],
   "source": [
    "data.d$x2A = NULL\n",
    "data.d"
   ]
  },
  {
   "cell_type": "markdown",
   "metadata": {},
   "source": [
    "<br>\n",
    "\n",
    "#### Similarly, convert any new observations to the same form."
   ]
  },
  {
   "cell_type": "code",
   "execution_count": 86,
   "metadata": {},
   "outputs": [
    {
     "data": {
      "text/html": [
       "<table>\n",
       "<thead><tr><th scope=col>x1</th><th scope=col>x2A</th><th scope=col>x2B</th><th scope=col>x2C</th></tr></thead>\n",
       "<tbody>\n",
       "\t<tr><td>5</td><td>0</td><td>1</td><td>0</td></tr>\n",
       "</tbody>\n",
       "</table>\n"
      ],
      "text/latex": [
       "\\begin{tabular}{r|llll}\n",
       " x1 & x2A & x2B & x2C\\\\\n",
       "\\hline\n",
       "\t 5 & 0 & 1 & 0\\\\\n",
       "\\end{tabular}\n"
      ],
      "text/markdown": [
       "\n",
       "x1 | x2A | x2B | x2C | \n",
       "|---|\n",
       "| 5 | 0 | 1 | 0 | \n",
       "\n",
       "\n"
      ],
      "text/plain": [
       "  x1 x2A x2B x2C\n",
       "1 5  0   1   0  "
      ]
     },
     "metadata": {},
     "output_type": "display_data"
    }
   ],
   "source": [
    "new.d = dummy.data.frame(new, drop=FALSE, omit.constants=FALSE)\n",
    "new.d"
   ]
  },
  {
   "cell_type": "code",
   "execution_count": 87,
   "metadata": {},
   "outputs": [
    {
     "data": {
      "text/html": [
       "<table>\n",
       "<thead><tr><th scope=col>x1</th><th scope=col>x2B</th><th scope=col>x2C</th></tr></thead>\n",
       "<tbody>\n",
       "\t<tr><td>5</td><td>1</td><td>0</td></tr>\n",
       "</tbody>\n",
       "</table>\n"
      ],
      "text/latex": [
       "\\begin{tabular}{r|lll}\n",
       " x1 & x2B & x2C\\\\\n",
       "\\hline\n",
       "\t 5 & 1 & 0\\\\\n",
       "\\end{tabular}\n"
      ],
      "text/markdown": [
       "\n",
       "x1 | x2B | x2C | \n",
       "|---|\n",
       "| 5 | 1 | 0 | \n",
       "\n",
       "\n"
      ],
      "text/plain": [
       "  x1 x2B x2C\n",
       "1 5  1   0  "
      ]
     },
     "metadata": {},
     "output_type": "display_data"
    }
   ],
   "source": [
    "new.d$x2A = NULL\n",
    "new.d"
   ]
  },
  {
   "cell_type": "markdown",
   "metadata": {},
   "source": [
    "## Expectations\n",
    "\n",
    "You should be able to demonstrate an understanding of ...\n",
    "* how to construct a table with numerical and categorical variables, using R\n",
    "* how to convert categorical variables to dummy variables, conceptually and using R"
   ]
  },
  {
   "cell_type": "markdown",
   "metadata": {},
   "source": [
    "## Further Reading\n",
    "\n",
    "* https://www.moresteam.com/WhitePapers/download/dummy-variables.pdf"
   ]
  },
  {
   "cell_type": "markdown",
   "metadata": {},
   "source": [
    "## Reference for Selected R Functions\n",
    "\n",
    "* `data.frame`: https://www.rdocumentation.org/packages/base/versions/3.4.3/topics/data.frame\n",
    "* `dim`:https://www.rdocumentation.org/packages/base/versions/3.4.3/topics/dim\n",
    "* `dummy.data.frame`: https://cran.r-project.org/web/packages/dummies/dummies.pdf\n",
    "* `str`: https://www.rdocumentation.org/packages/utils/versions/3.4.3/topics/str\n",
    "* `table`: https://www.rdocumentation.org/packages/base/versions/3.4.3/topics/table"
   ]
  },
  {
   "cell_type": "markdown",
   "metadata": {},
   "source": [
    "## Reference for Selected R Functions - ggplot2 for visualization\n",
    "\n",
    "* `geom_point` https://www.rdocumentation.org/packages/ggplot2/versions/2.2.1/topics/geom_point\n",
    "* `ggplot` https://www.rdocumentation.org/packages/ggplot2/versions/2.2.1/topics/ggplot\n",
    "* `scale_color_manual` https://www.rdocumentation.org/packages/ggplot2/versions/2.2.1/topics/scale_manual\n",
    "* `xlab` https://www.rdocumentation.org/packages/ggplot2/versions/2.2.1/topics/labs\n",
    "* `xlim` https://www.rdocumentation.org/packages/ggplot2/versions/1.0.0/topics/xlim\n",
    "* `ylab` https://www.rdocumentation.org/packages/ggplot2/versions/2.2.1/topics/labs\n",
    "* `ylim` https://www.rdocumentation.org/packages/ggplot2/versions/1.0.0/topics/xlim"
   ]
  },
  {
   "cell_type": "markdown",
   "metadata": {},
   "source": [
    "<font size=1;>\n",
    "<p style=\"text-align: left;\">\n",
    "Copyright (c) Berkeley Data Analytics Group, LLC\n",
    "<span style=\"float: right;\">\n",
    "document revised June 25, 2019\n",
    "</span>\n",
    "</p>\n",
    "</font>"
   ]
  }
 ],
 "metadata": {
  "hide_code_all_hidden": false,
  "hide_input": false,
  "kernelspec": {
   "display_name": "R",
   "language": "R",
   "name": "ir"
  },
  "language_info": {
   "codemirror_mode": "r",
   "file_extension": ".r",
   "mimetype": "text/x-r-source",
   "name": "R",
   "pygments_lexer": "r",
   "version": "3.5.3"
  },
  "toc": {
   "base_numbering": 1,
   "nav_menu": {},
   "number_sections": true,
   "sideBar": true,
   "skip_h1_title": true,
   "title_cell": "Table of Contents",
   "title_sidebar": "Contents",
   "toc_cell": false,
   "toc_position": {},
   "toc_section_display": true,
   "toc_window_display": true
  }
 },
 "nbformat": 4,
 "nbformat_minor": 2
}
