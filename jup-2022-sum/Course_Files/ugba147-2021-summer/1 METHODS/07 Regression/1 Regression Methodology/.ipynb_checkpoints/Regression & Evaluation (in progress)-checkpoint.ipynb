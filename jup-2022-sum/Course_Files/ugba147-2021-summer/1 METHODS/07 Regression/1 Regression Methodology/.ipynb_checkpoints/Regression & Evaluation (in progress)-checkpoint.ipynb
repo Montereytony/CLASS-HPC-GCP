{
 "cells": [
  {
   "cell_type": "markdown",
   "metadata": {},
   "source": [
    "*** Re-write this notebook for regression rather than classification ***"
   ]
  },
  {
   "cell_type": "markdown",
   "metadata": {
    "hideCode": false,
    "hidePrompt": false
   },
   "source": [
    "# Regression & Evaluation\n",
    "\n",
    "![](banner_regression.jpg)"
   ]
  },
  {
   "cell_type": "code",
   "execution_count": 1,
   "metadata": {
    "hide_input": false
   },
   "outputs": [
    {
     "name": "stdout",
     "output_type": "stream",
     "text": [
      "<< Notebook apparatus is located here. Toggle cell input display to see code. >>"
     ]
    }
   ],
   "source": [
    "cat(\"<< Notebook apparatus is located here. Toggle cell input display to see code. >>\")\n",
    "\n",
    "options(warn=-1)\n",
    "\n",
    "# Load some useful functions\n",
    "library(ggplot2,   verbose=FALSE, warn.conflicts=FALSE, quietly=TRUE)\n",
    "library(gridExtra, verbose=FALSE, warn.conflicts=FALSE, quietly=TRUE)\n",
    "library(caret,     verbose=FALSE, warn.conflicts=FALSE, quietly=TRUE)\n",
    "library(e1071,     verbose=FALSE, warn.conflicts=FALSE, quietly=TRUE)\n",
    "\n",
    "# Define some useful functions\n",
    "my_predictive_analytic_method = function(formula, data, hyperparameter) { x=\"A model constructed by my predictive analytic method\"; attr(x, \"vars\") = unique(data$class); x }\n",
    "my_predict = function(model, data) { p = if (sum(data[,1])>15) c(0.8,0.3,0.6,0.2,0.8) else if (sum(data[,1])>10) c(0.6,0.9,0.6,0.1,0.1) else c(0.4,0.3,0.6,0.2,0.7); p = p[1:nrow(data)]; d = data.frame(p, 1-p); colnames(d) = attr(model, \"vars\"); d }\n",
    "as.class = function(prob, class, cutoff=NA) { f = factor(prob[,colnames(prob)==class]>=cutoff, levels=c(TRUE, FALSE), labels=c(class, setdiff(colnames(prob), class))); attr(f, \"names\") = NULL; f }\n",
    "                                 \n",
    "# Set some visualization constants\n",
    "restore = list(repr.plot.width=8, repr.plot.height=3)\n",
    "PALETTE = c(\"#00A9FF\", \"#F8766D\", \"#7CAE00\", \"#C77CFF\", \"#CD9600\", \"#00BE67\", \"#FF61CC\", \"#00BFC4\")\n",
    "theme.no_legend = theme(legend.position=\"none\")\n",
    "\n",
    "# Set some visualization formatting defaults\n",
    "options(scipen=10)\n",
    "#options(stringsAsFactors=FALSE)\n",
    "options(restore)\n",
    "update_geom_defaults(\"point\", list(size=5, colour=\"grey50\"))\n",
    "theme_update(plot.title=element_text(size=10, hjust=0.5), plot.subtitle=element_text(size=8, face=\"italic\", hjust=0.5), axis.title=element_text(size=7), axis.text=element_text(size=7), strip.text=element_text(size=7), strip.text.y=element_text(angle=90), legend.title=element_blank(), legend.text=element_text(size=7))\n",
    "\n",
    "\n",
    "\n",
    "options(warn=-1)\n",
    "\n",
    "# Load some required functions\n",
    "library(ggplot2,   verbose=FALSE, warn.conflicts=FALSE, quietly=TRUE)\n",
    "library(gridExtra, verbose=FALSE, warn.conflicts=FALSE, quietly=TRUE)\n",
    "library(caret,     verbose=FALSE, warn.conflicts=FALSE, quietly=TRUE)\n",
    "library(e1071,     verbose=FALSE, warn.conflicts=FALSE, quietly=TRUE)\n",
    "\n",
    "# Define some useful functions\n",
    "createFolds.train = function(v, train) { test = list(); for (i in 1:length(train)) { test[[i]] = setdiff(1:length(v), train[[i]]); names(test)[[i]]=sprintf(\"Fold%d\",i) }; test }\n",
    "\n",
    "# Define some visualization constants\n",
    "restore = list(repr.plot.width=8, repr.plot.height=3)\n",
    "PALETTE = c(\"#00A9FF\", \"#F8766D\", \"#7CAE00\", \"#C77CFF\", \"#CD9600\", \"#00BE67\", \"#FF61CC\", \"#00BFC4\")\n",
    "theme.x_axis_only = theme(axis.title.y=element_blank(), axis.text.y=element_blank(), axis.ticks.y=element_blank(), panel.grid.major.y=element_blank(), panel.grid.minor.y=element_blank())\n",
    "theme.y_axis_only = theme(axis.title.x=element_blank(), axis.text.x=element_blank(), axis.ticks.x=element_blank(), panel.grid.major.x=element_blank(), panel.grid.minor.x=element_blank())\n",
    "theme.no_axes = theme.x_axis_only + theme.y_axis_only\n",
    "theme.no_legend = theme(legend.position=\"none\")\n",
    "theme.legend_bottom = theme(legend.position=\"bottom\")\n",
    "                      \n",
    "# Set some visualization formatting defaults\n",
    "options(restore)\n",
    "options(digits=10, scipen=100) # expose many digits, use scientific notation sparingly\n",
    "options(repr.matrix.max.rows=200) # ensure all 27 columns of a data frame can be presented\n",
    "update_geom_defaults(\"point\", list(size=3, colour=\"grey50\"))\n",
    "update_geom_defaults(\"line\", list(color=\"black\", size=0.15))\n",
    "update_geom_defaults(\"abline\", list(color=\"black\", size=0.15))\n",
    "update_geom_defaults(\"hline\", list(color=\"black\", size=0.15))\n",
    "theme_update(plot.title=element_text(size=10, hjust=0.5), plot.subtitle=element_text(size=8, face=\"italic\", hjust=0.5), axis.title=element_text(size=7), axis.text=element_text(size=7), strip.text=element_text(size=7), strip.text.y=element_text(angle=90), legend.title=element_blank(), legend.text=element_text(size=7))"
   ]
  },
  {
   "cell_type": "markdown",
   "metadata": {},
   "source": [
    "## Intuition"
   ]
  },
  {
   "cell_type": "markdown",
   "metadata": {},
   "source": [
    "## Discourse"
   ]
  },
  {
   "cell_type": "markdown",
   "metadata": {},
   "source": [
    "### Predictive Analytic Methodology\n",
    "\n",
    "3 Steps to go from data to predictions:\n",
    "1. The predictive analytic method determines the model _(given data including class information + hyperparameter values)_.\n",
    "2. The model determines the class probabilities _(given new data without class information)_.\n",
    "3. The class probabilities determine the predictions _(given a cutoff value)_."
   ]
  },
  {
   "cell_type": "markdown",
   "metadata": {},
   "source": [
    "<img src=\"regression methodology.jpg\" align=left />"
   ]
  },
  {
   "cell_type": "markdown",
   "metadata": {},
   "source": [
    "<br>\n",
    "\n",
    "### Terminology\n",
    "\n",
    "* **Predictive analytic method**\n",
    "* **Prediction**\n",
    "* **Classification**\n",
    "* **Classifier, Class prediction model**\n",
    "* **Training, Supervised learning, Predictive modeling**\n",
    "* **Predictor variables**\n",
    "* **Class**\n",
    "* **Hyperparameters**\n",
    "* **Cutoff**"
   ]
  },
  {
   "cell_type": "markdown",
   "metadata": {},
   "source": [
    "<br>\n",
    "\n",
    "### Demonstration of Predictive Analytic Methodology"
   ]
  },
  {
   "cell_type": "markdown",
   "metadata": {},
   "source": [
    "**Data.**"
   ]
  },
  {
   "cell_type": "code",
   "execution_count": 2,
   "metadata": {},
   "outputs": [
    {
     "data": {
      "text/html": [
       "<table>\n",
       "<thead><tr><th scope=col>x1</th><th scope=col>x2</th><th scope=col>class</th></tr></thead>\n",
       "<tbody>\n",
       "\t<tr><td>3</td><td>5</td><td>A</td></tr>\n",
       "\t<tr><td>2</td><td>3</td><td>A</td></tr>\n",
       "\t<tr><td>9</td><td>3</td><td>B</td></tr>\n",
       "\t<tr><td>0</td><td>0</td><td>B</td></tr>\n",
       "\t<tr><td>3</td><td>2</td><td>A</td></tr>\n",
       "</tbody>\n",
       "</table>\n"
      ],
      "text/latex": [
       "\\begin{tabular}{r|lll}\n",
       " x1 & x2 & class\\\\\n",
       "\\hline\n",
       "\t 3 & 5 & A\\\\\n",
       "\t 2 & 3 & A\\\\\n",
       "\t 9 & 3 & B\\\\\n",
       "\t 0 & 0 & B\\\\\n",
       "\t 3 & 2 & A\\\\\n",
       "\\end{tabular}\n"
      ],
      "text/markdown": [
       "\n",
       "| x1 | x2 | class |\n",
       "|---|---|---|\n",
       "| 3 | 5 | A |\n",
       "| 2 | 3 | A |\n",
       "| 9 | 3 | B |\n",
       "| 0 | 0 | B |\n",
       "| 3 | 2 | A |\n",
       "\n"
      ],
      "text/plain": [
       "  x1 x2 class\n",
       "1 3  5  A    \n",
       "2 2  3  A    \n",
       "3 9  3  B    \n",
       "4 0  0  B    \n",
       "5 3  2  A    "
      ]
     },
     "metadata": {},
     "output_type": "display_data"
    }
   ],
   "source": [
    "data = data.frame(x1=c(3,2,9,0,3), x2=c(5,3,3,0,2), class=c(\"A\",\"A\",\"B\",\"B\",\"A\"))\n",
    "data"
   ]
  },
  {
   "cell_type": "markdown",
   "metadata": {},
   "source": [
    "<br>\n",
    "\n",
    "**Construct a model based on data.**"
   ]
  },
  {
   "cell_type": "code",
   "execution_count": 3,
   "metadata": {},
   "outputs": [
    {
     "data": {
      "text/html": [
       "'A model constructed by my predictive analytic method'"
      ],
      "text/latex": [
       "'A model constructed by my predictive analytic method'"
      ],
      "text/markdown": [
       "'A model constructed by my predictive analytic method'"
      ],
      "text/plain": [
       "[1] \"A model constructed by my predictive analytic method\"\n",
       "attr(,\"vars\")\n",
       "[1] A B\n",
       "Levels: A B"
      ]
     },
     "metadata": {},
     "output_type": "display_data"
    }
   ],
   "source": [
    "model = my_predictive_analytic_method(class ~ x1+x2, data, hyperparameter=0)\n",
    "model"
   ]
  },
  {
   "cell_type": "markdown",
   "metadata": {},
   "source": [
    "<br>\n",
    "\n",
    "**Use the model to determine class probabilities of new data.**"
   ]
  },
  {
   "cell_type": "code",
   "execution_count": 4,
   "metadata": {},
   "outputs": [
    {
     "data": {
      "text/html": [
       "<table>\n",
       "<thead><tr><th scope=col>x1</th><th scope=col>x2</th></tr></thead>\n",
       "<tbody>\n",
       "\t<tr><td>3</td><td>3</td></tr>\n",
       "\t<tr><td>2</td><td>3</td></tr>\n",
       "\t<tr><td>0</td><td>0</td></tr>\n",
       "\t<tr><td>9</td><td>9</td></tr>\n",
       "\t<tr><td>1</td><td>2</td></tr>\n",
       "</tbody>\n",
       "</table>\n"
      ],
      "text/latex": [
       "\\begin{tabular}{r|ll}\n",
       " x1 & x2\\\\\n",
       "\\hline\n",
       "\t 3 & 3\\\\\n",
       "\t 2 & 3\\\\\n",
       "\t 0 & 0\\\\\n",
       "\t 9 & 9\\\\\n",
       "\t 1 & 2\\\\\n",
       "\\end{tabular}\n"
      ],
      "text/markdown": [
       "\n",
       "| x1 | x2 |\n",
       "|---|---|\n",
       "| 3 | 3 |\n",
       "| 2 | 3 |\n",
       "| 0 | 0 |\n",
       "| 9 | 9 |\n",
       "| 1 | 2 |\n",
       "\n"
      ],
      "text/plain": [
       "  x1 x2\n",
       "1 3  3 \n",
       "2 2  3 \n",
       "3 0  0 \n",
       "4 9  9 \n",
       "5 1  2 "
      ]
     },
     "metadata": {},
     "output_type": "display_data"
    }
   ],
   "source": [
    "new_data = data.frame(x1=c(3,2,0,9,1), x2=c(3,3,0,9,2))\n",
    "new_data"
   ]
  },
  {
   "cell_type": "code",
   "execution_count": 5,
   "metadata": {},
   "outputs": [
    {
     "data": {
      "text/html": [
       "<table>\n",
       "<thead><tr><th scope=col>A</th><th scope=col>B</th></tr></thead>\n",
       "<tbody>\n",
       "\t<tr><td>0.6</td><td>0.4</td></tr>\n",
       "\t<tr><td>0.9</td><td>0.1</td></tr>\n",
       "\t<tr><td>0.6</td><td>0.4</td></tr>\n",
       "\t<tr><td>0.1</td><td>0.9</td></tr>\n",
       "\t<tr><td>0.1</td><td>0.9</td></tr>\n",
       "</tbody>\n",
       "</table>\n"
      ],
      "text/latex": [
       "\\begin{tabular}{r|ll}\n",
       " A & B\\\\\n",
       "\\hline\n",
       "\t 0.6 & 0.4\\\\\n",
       "\t 0.9 & 0.1\\\\\n",
       "\t 0.6 & 0.4\\\\\n",
       "\t 0.1 & 0.9\\\\\n",
       "\t 0.1 & 0.9\\\\\n",
       "\\end{tabular}\n"
      ],
      "text/markdown": [
       "\n",
       "| A | B |\n",
       "|---|---|\n",
       "| 0.6 | 0.4 |\n",
       "| 0.9 | 0.1 |\n",
       "| 0.6 | 0.4 |\n",
       "| 0.1 | 0.9 |\n",
       "| 0.1 | 0.9 |\n",
       "\n"
      ],
      "text/plain": [
       "  A   B  \n",
       "1 0.6 0.4\n",
       "2 0.9 0.1\n",
       "3 0.6 0.4\n",
       "4 0.1 0.9\n",
       "5 0.1 0.9"
      ]
     },
     "metadata": {},
     "output_type": "display_data"
    },
    {
     "data": {
      "text/html": [
       "<table>\n",
       "<thead><tr><th scope=col>x1</th><th scope=col>x2</th><th scope=col>prob.A</th></tr></thead>\n",
       "<tbody>\n",
       "\t<tr><td>3  </td><td>3  </td><td>0.6</td></tr>\n",
       "\t<tr><td>2  </td><td>3  </td><td>0.9</td></tr>\n",
       "\t<tr><td>0  </td><td>0  </td><td>0.6</td></tr>\n",
       "\t<tr><td>9  </td><td>9  </td><td>0.1</td></tr>\n",
       "\t<tr><td>1  </td><td>2  </td><td>0.1</td></tr>\n",
       "</tbody>\n",
       "</table>\n"
      ],
      "text/latex": [
       "\\begin{tabular}{r|lll}\n",
       " x1 & x2 & prob.A\\\\\n",
       "\\hline\n",
       "\t 3   & 3   & 0.6\\\\\n",
       "\t 2   & 3   & 0.9\\\\\n",
       "\t 0   & 0   & 0.6\\\\\n",
       "\t 9   & 9   & 0.1\\\\\n",
       "\t 1   & 2   & 0.1\\\\\n",
       "\\end{tabular}\n"
      ],
      "text/markdown": [
       "\n",
       "| x1 | x2 | prob.A |\n",
       "|---|---|---|\n",
       "| 3   | 3   | 0.6 |\n",
       "| 2   | 3   | 0.9 |\n",
       "| 0   | 0   | 0.6 |\n",
       "| 9   | 9   | 0.1 |\n",
       "| 1   | 2   | 0.1 |\n",
       "\n"
      ],
      "text/plain": [
       "  x1 x2 prob.A\n",
       "1 3  3  0.6   \n",
       "2 2  3  0.9   \n",
       "3 0  0  0.6   \n",
       "4 9  9  0.1   \n",
       "5 1  2  0.1   "
      ]
     },
     "metadata": {},
     "output_type": "display_data"
    }
   ],
   "source": [
    "prob = my_predict(model, new_data)\n",
    "prob\n",
    "\n",
    "new_data$prob.A = prob$A\n",
    "new_data"
   ]
  },
  {
   "cell_type": "markdown",
   "metadata": {},
   "source": [
    "<br>\n",
    "\n",
    "**Use class probabilites with a cutoff to predict classes of new data.**"
   ]
  },
  {
   "cell_type": "code",
   "execution_count": 6,
   "metadata": {},
   "outputs": [
    {
     "data": {
      "text/html": [
       "<table>\n",
       "<thead><tr><th scope=col>cutoff</th></tr></thead>\n",
       "<tbody>\n",
       "\t<tr><td>0.5</td></tr>\n",
       "</tbody>\n",
       "</table>\n"
      ],
      "text/latex": [
       "\\begin{tabular}{r|l}\n",
       " cutoff\\\\\n",
       "\\hline\n",
       "\t 0.5\\\\\n",
       "\\end{tabular}\n"
      ],
      "text/markdown": [
       "\n",
       "| cutoff |\n",
       "|---|\n",
       "| 0.5 |\n",
       "\n"
      ],
      "text/plain": [
       "  cutoff\n",
       "1 0.5   "
      ]
     },
     "metadata": {},
     "output_type": "display_data"
    },
    {
     "data": {
      "text/html": [
       "<ol class=list-inline>\n",
       "\t<li>A</li>\n",
       "\t<li>A</li>\n",
       "\t<li>A</li>\n",
       "\t<li>B</li>\n",
       "\t<li>B</li>\n",
       "</ol>\n",
       "\n",
       "<details>\n",
       "\t<summary style=display:list-item;cursor:pointer>\n",
       "\t\t<strong>Levels</strong>:\n",
       "\t</summary>\n",
       "\t<ol class=list-inline>\n",
       "\t\t<li>'A'</li>\n",
       "\t\t<li>'B'</li>\n",
       "\t</ol>\n",
       "</details>"
      ],
      "text/latex": [
       "\\begin{enumerate*}\n",
       "\\item A\n",
       "\\item A\n",
       "\\item A\n",
       "\\item B\n",
       "\\item B\n",
       "\\end{enumerate*}\n",
       "\n",
       "\\emph{Levels}: \\begin{enumerate*}\n",
       "\\item 'A'\n",
       "\\item 'B'\n",
       "\\end{enumerate*}\n"
      ],
      "text/markdown": [
       "1. A\n",
       "2. A\n",
       "3. A\n",
       "4. B\n",
       "5. B\n",
       "\n",
       "\n",
       "\n",
       "**Levels**: 1. 'A'\n",
       "2. 'B'\n",
       "\n",
       "\n"
      ],
      "text/plain": [
       "[1] A A A B B\n",
       "Levels: A B"
      ]
     },
     "metadata": {},
     "output_type": "display_data"
    },
    {
     "data": {
      "text/html": [
       "<table>\n",
       "<thead><tr><th scope=col>x1</th><th scope=col>x2</th><th scope=col>prob.A</th><th scope=col>prediction</th></tr></thead>\n",
       "<tbody>\n",
       "\t<tr><td>3  </td><td>3  </td><td>0.6</td><td>A  </td></tr>\n",
       "\t<tr><td>2  </td><td>3  </td><td>0.9</td><td>A  </td></tr>\n",
       "\t<tr><td>0  </td><td>0  </td><td>0.6</td><td>A  </td></tr>\n",
       "\t<tr><td>9  </td><td>9  </td><td>0.1</td><td>B  </td></tr>\n",
       "\t<tr><td>1  </td><td>2  </td><td>0.1</td><td>B  </td></tr>\n",
       "</tbody>\n",
       "</table>\n"
      ],
      "text/latex": [
       "\\begin{tabular}{r|llll}\n",
       " x1 & x2 & prob.A & prediction\\\\\n",
       "\\hline\n",
       "\t 3   & 3   & 0.6 & A  \\\\\n",
       "\t 2   & 3   & 0.9 & A  \\\\\n",
       "\t 0   & 0   & 0.6 & A  \\\\\n",
       "\t 9   & 9   & 0.1 & B  \\\\\n",
       "\t 1   & 2   & 0.1 & B  \\\\\n",
       "\\end{tabular}\n"
      ],
      "text/markdown": [
       "\n",
       "| x1 | x2 | prob.A | prediction |\n",
       "|---|---|---|---|\n",
       "| 3   | 3   | 0.6 | A   |\n",
       "| 2   | 3   | 0.9 | A   |\n",
       "| 0   | 0   | 0.6 | A   |\n",
       "| 9   | 9   | 0.1 | B   |\n",
       "| 1   | 2   | 0.1 | B   |\n",
       "\n"
      ],
      "text/plain": [
       "  x1 x2 prob.A prediction\n",
       "1 3  3  0.6    A         \n",
       "2 2  3  0.9    A         \n",
       "3 0  0  0.6    A         \n",
       "4 9  9  0.1    B         \n",
       "5 1  2  0.1    B         "
      ]
     },
     "metadata": {},
     "output_type": "display_data"
    }
   ],
   "source": [
    "cutoff = 0.5\n",
    "data.frame(cutoff)\n",
    "\n",
    "prediction = as.class(prob, class=\"A\", cutoff)\n",
    "prediction\n",
    "\n",
    "new_data$prediction = prediction\n",
    "new_data"
   ]
  },
  {
   "cell_type": "code",
   "execution_count": 7,
   "metadata": {},
   "outputs": [
    {
     "data": {
      "image/png": "[encoded data removed]",
      "text/plain": [
       "plot without title"
      ]
     },
     "metadata": {},
     "output_type": "display_data"
    }
   ],
   "source": [
    "options(repr.plot.width=6, repr.plot.height=3)\n",
    "\n",
    "p1 = ggplot(data) + ggtitle(\"Data\", \"actual class known\") + ylim(0,10) +\n",
    "     geom_point(aes(x=x1, y=x2, color=factor(class, c(\"A\",\"B\")))) +\n",
    "     scale_color_manual(values=PALETTE) + theme.no_legend\n",
    "\n",
    "p2 = ggplot(new_data) + ggtitle(\"New Data\", \"actual class not known\") + ylim(0,10) +\n",
    "     geom_point(aes(x=x1, y=x2, color=factor(prediction, c(\"A\",\"B\")))) +\n",
    "     scale_color_manual(values=PALETTE) + theme.no_legend\n",
    "\n",
    "grid.arrange(p1, p2, nrow=1)\n",
    "\n",
    "options(restore)"
   ]
  },
  {
   "cell_type": "markdown",
   "metadata": {},
   "source": [
    "<br>\n",
    "\n",
    "### Evaluation"
   ]
  },
  {
   "cell_type": "markdown",
   "metadata": {},
   "source": [
    "**Data.**"
   ]
  },
  {
   "cell_type": "code",
   "execution_count": 8,
   "metadata": {},
   "outputs": [
    {
     "data": {
      "text/html": [
       "<table>\n",
       "<thead><tr><th scope=col>x1</th><th scope=col>x2</th><th scope=col>class</th></tr></thead>\n",
       "<tbody>\n",
       "\t<tr><td>3</td><td>5</td><td>A</td></tr>\n",
       "\t<tr><td>2</td><td>3</td><td>A</td></tr>\n",
       "\t<tr><td>9</td><td>3</td><td>B</td></tr>\n",
       "\t<tr><td>0</td><td>0</td><td>B</td></tr>\n",
       "\t<tr><td>3</td><td>2</td><td>A</td></tr>\n",
       "</tbody>\n",
       "</table>\n"
      ],
      "text/latex": [
       "\\begin{tabular}{r|lll}\n",
       " x1 & x2 & class\\\\\n",
       "\\hline\n",
       "\t 3 & 5 & A\\\\\n",
       "\t 2 & 3 & A\\\\\n",
       "\t 9 & 3 & B\\\\\n",
       "\t 0 & 0 & B\\\\\n",
       "\t 3 & 2 & A\\\\\n",
       "\\end{tabular}\n"
      ],
      "text/markdown": [
       "\n",
       "| x1 | x2 | class |\n",
       "|---|---|---|\n",
       "| 3 | 5 | A |\n",
       "| 2 | 3 | A |\n",
       "| 9 | 3 | B |\n",
       "| 0 | 0 | B |\n",
       "| 3 | 2 | A |\n",
       "\n"
      ],
      "text/plain": [
       "  x1 x2 class\n",
       "1 3  5  A    \n",
       "2 2  3  A    \n",
       "3 9  3  B    \n",
       "4 0  0  B    \n",
       "5 3  2  A    "
      ]
     },
     "metadata": {},
     "output_type": "display_data"
    }
   ],
   "source": [
    "data = data.frame(x1=c(3,2,9,0,3), x2=c(5,3,3,0,2), class=c(\"A\",\"A\",\"B\",\"B\",\"A\"))\n",
    "data"
   ]
  },
  {
   "cell_type": "markdown",
   "metadata": {},
   "source": [
    "<br>\n",
    "\n",
    "**Data with predictor variables only - no actual class information.**"
   ]
  },
  {
   "cell_type": "code",
   "execution_count": 9,
   "metadata": {
    "scrolled": true
   },
   "outputs": [
    {
     "data": {
      "text/html": [
       "<table>\n",
       "<thead><tr><th scope=col>x1</th><th scope=col>x2</th></tr></thead>\n",
       "<tbody>\n",
       "\t<tr><td>3</td><td>5</td></tr>\n",
       "\t<tr><td>2</td><td>3</td></tr>\n",
       "\t<tr><td>9</td><td>3</td></tr>\n",
       "\t<tr><td>0</td><td>0</td></tr>\n",
       "\t<tr><td>3</td><td>2</td></tr>\n",
       "</tbody>\n",
       "</table>\n"
      ],
      "text/latex": [
       "\\begin{tabular}{r|ll}\n",
       " x1 & x2\\\\\n",
       "\\hline\n",
       "\t 3 & 5\\\\\n",
       "\t 2 & 3\\\\\n",
       "\t 9 & 3\\\\\n",
       "\t 0 & 0\\\\\n",
       "\t 3 & 2\\\\\n",
       "\\end{tabular}\n"
      ],
      "text/markdown": [
       "\n",
       "| x1 | x2 |\n",
       "|---|---|\n",
       "| 3 | 5 |\n",
       "| 2 | 3 |\n",
       "| 9 | 3 |\n",
       "| 0 | 0 |\n",
       "| 3 | 2 |\n",
       "\n"
      ],
      "text/plain": [
       "  x1 x2\n",
       "1 3  5 \n",
       "2 2  3 \n",
       "3 9  3 \n",
       "4 0  0 \n",
       "5 3  2 "
      ]
     },
     "metadata": {},
     "output_type": "display_data"
    }
   ],
   "source": [
    "datax = data[, colnames(data)!=\"class\"]\n",
    "datax"
   ]
  },
  {
   "cell_type": "markdown",
   "metadata": {},
   "source": [
    "<br>\n",
    "\n",
    "**Use the model (previously constructed) to determine class probabilities of the (original) data.**"
   ]
  },
  {
   "cell_type": "code",
   "execution_count": 10,
   "metadata": {},
   "outputs": [
    {
     "data": {
      "text/html": [
       "<table>\n",
       "<thead><tr><th scope=col>A</th><th scope=col>B</th></tr></thead>\n",
       "<tbody>\n",
       "\t<tr><td>0.8</td><td>0.2</td></tr>\n",
       "\t<tr><td>0.3</td><td>0.7</td></tr>\n",
       "\t<tr><td>0.6</td><td>0.4</td></tr>\n",
       "\t<tr><td>0.2</td><td>0.8</td></tr>\n",
       "\t<tr><td>0.8</td><td>0.2</td></tr>\n",
       "</tbody>\n",
       "</table>\n"
      ],
      "text/latex": [
       "\\begin{tabular}{r|ll}\n",
       " A & B\\\\\n",
       "\\hline\n",
       "\t 0.8 & 0.2\\\\\n",
       "\t 0.3 & 0.7\\\\\n",
       "\t 0.6 & 0.4\\\\\n",
       "\t 0.2 & 0.8\\\\\n",
       "\t 0.8 & 0.2\\\\\n",
       "\\end{tabular}\n"
      ],
      "text/markdown": [
       "\n",
       "| A | B |\n",
       "|---|---|\n",
       "| 0.8 | 0.2 |\n",
       "| 0.3 | 0.7 |\n",
       "| 0.6 | 0.4 |\n",
       "| 0.2 | 0.8 |\n",
       "| 0.8 | 0.2 |\n",
       "\n"
      ],
      "text/plain": [
       "  A   B  \n",
       "1 0.8 0.2\n",
       "2 0.3 0.7\n",
       "3 0.6 0.4\n",
       "4 0.2 0.8\n",
       "5 0.8 0.2"
      ]
     },
     "metadata": {},
     "output_type": "display_data"
    },
    {
     "data": {
      "text/html": [
       "<table>\n",
       "<thead><tr><th scope=col>x1</th><th scope=col>x2</th><th scope=col>prob.A</th></tr></thead>\n",
       "<tbody>\n",
       "\t<tr><td>3  </td><td>5  </td><td>0.8</td></tr>\n",
       "\t<tr><td>2  </td><td>3  </td><td>0.3</td></tr>\n",
       "\t<tr><td>9  </td><td>3  </td><td>0.6</td></tr>\n",
       "\t<tr><td>0  </td><td>0  </td><td>0.2</td></tr>\n",
       "\t<tr><td>3  </td><td>2  </td><td>0.8</td></tr>\n",
       "</tbody>\n",
       "</table>\n"
      ],
      "text/latex": [
       "\\begin{tabular}{r|lll}\n",
       " x1 & x2 & prob.A\\\\\n",
       "\\hline\n",
       "\t 3   & 5   & 0.8\\\\\n",
       "\t 2   & 3   & 0.3\\\\\n",
       "\t 9   & 3   & 0.6\\\\\n",
       "\t 0   & 0   & 0.2\\\\\n",
       "\t 3   & 2   & 0.8\\\\\n",
       "\\end{tabular}\n"
      ],
      "text/markdown": [
       "\n",
       "| x1 | x2 | prob.A |\n",
       "|---|---|---|\n",
       "| 3   | 5   | 0.8 |\n",
       "| 2   | 3   | 0.3 |\n",
       "| 9   | 3   | 0.6 |\n",
       "| 0   | 0   | 0.2 |\n",
       "| 3   | 2   | 0.8 |\n",
       "\n"
      ],
      "text/plain": [
       "  x1 x2 prob.A\n",
       "1 3  5  0.8   \n",
       "2 2  3  0.3   \n",
       "3 9  3  0.6   \n",
       "4 0  0  0.2   \n",
       "5 3  2  0.8   "
      ]
     },
     "metadata": {},
     "output_type": "display_data"
    }
   ],
   "source": [
    "prob = my_predict(model, datax)\n",
    "prob\n",
    "\n",
    "datax$prob.A = prob$A\n",
    "datax"
   ]
  },
  {
   "cell_type": "markdown",
   "metadata": {},
   "source": [
    "<br>\n",
    "\n",
    "**Use class probabilites with a cutoff to predict classes of the (original) data.**\n",
    "\n",
    "The predicted classes may be different than the actual classes."
   ]
  },
  {
   "cell_type": "code",
   "execution_count": 11,
   "metadata": {},
   "outputs": [
    {
     "data": {
      "text/html": [
       "<table>\n",
       "<thead><tr><th scope=col>cutoff</th></tr></thead>\n",
       "<tbody>\n",
       "\t<tr><td>0.5</td></tr>\n",
       "</tbody>\n",
       "</table>\n"
      ],
      "text/latex": [
       "\\begin{tabular}{r|l}\n",
       " cutoff\\\\\n",
       "\\hline\n",
       "\t 0.5\\\\\n",
       "\\end{tabular}\n"
      ],
      "text/markdown": [
       "\n",
       "| cutoff |\n",
       "|---|\n",
       "| 0.5 |\n",
       "\n"
      ],
      "text/plain": [
       "  cutoff\n",
       "1 0.5   "
      ]
     },
     "metadata": {},
     "output_type": "display_data"
    },
    {
     "data": {
      "text/html": [
       "<ol class=list-inline>\n",
       "\t<li>A</li>\n",
       "\t<li>B</li>\n",
       "\t<li>A</li>\n",
       "\t<li>B</li>\n",
       "\t<li>A</li>\n",
       "</ol>\n",
       "\n",
       "<details>\n",
       "\t<summary style=display:list-item;cursor:pointer>\n",
       "\t\t<strong>Levels</strong>:\n",
       "\t</summary>\n",
       "\t<ol class=list-inline>\n",
       "\t\t<li>'A'</li>\n",
       "\t\t<li>'B'</li>\n",
       "\t</ol>\n",
       "</details>"
      ],
      "text/latex": [
       "\\begin{enumerate*}\n",
       "\\item A\n",
       "\\item B\n",
       "\\item A\n",
       "\\item B\n",
       "\\item A\n",
       "\\end{enumerate*}\n",
       "\n",
       "\\emph{Levels}: \\begin{enumerate*}\n",
       "\\item 'A'\n",
       "\\item 'B'\n",
       "\\end{enumerate*}\n"
      ],
      "text/markdown": [
       "1. A\n",
       "2. B\n",
       "3. A\n",
       "4. B\n",
       "5. A\n",
       "\n",
       "\n",
       "\n",
       "**Levels**: 1. 'A'\n",
       "2. 'B'\n",
       "\n",
       "\n"
      ],
      "text/plain": [
       "[1] A B A B A\n",
       "Levels: A B"
      ]
     },
     "metadata": {},
     "output_type": "display_data"
    },
    {
     "data": {
      "text/html": [
       "<table>\n",
       "<thead><tr><th scope=col>x1</th><th scope=col>x2</th><th scope=col>prob.A</th><th scope=col>prediction</th></tr></thead>\n",
       "<tbody>\n",
       "\t<tr><td>3  </td><td>5  </td><td>0.8</td><td>A  </td></tr>\n",
       "\t<tr><td>2  </td><td>3  </td><td>0.3</td><td>B  </td></tr>\n",
       "\t<tr><td>9  </td><td>3  </td><td>0.6</td><td>A  </td></tr>\n",
       "\t<tr><td>0  </td><td>0  </td><td>0.2</td><td>B  </td></tr>\n",
       "\t<tr><td>3  </td><td>2  </td><td>0.8</td><td>A  </td></tr>\n",
       "</tbody>\n",
       "</table>\n"
      ],
      "text/latex": [
       "\\begin{tabular}{r|llll}\n",
       " x1 & x2 & prob.A & prediction\\\\\n",
       "\\hline\n",
       "\t 3   & 5   & 0.8 & A  \\\\\n",
       "\t 2   & 3   & 0.3 & B  \\\\\n",
       "\t 9   & 3   & 0.6 & A  \\\\\n",
       "\t 0   & 0   & 0.2 & B  \\\\\n",
       "\t 3   & 2   & 0.8 & A  \\\\\n",
       "\\end{tabular}\n"
      ],
      "text/markdown": [
       "\n",
       "| x1 | x2 | prob.A | prediction |\n",
       "|---|---|---|---|\n",
       "| 3   | 5   | 0.8 | A   |\n",
       "| 2   | 3   | 0.3 | B   |\n",
       "| 9   | 3   | 0.6 | A   |\n",
       "| 0   | 0   | 0.2 | B   |\n",
       "| 3   | 2   | 0.8 | A   |\n",
       "\n"
      ],
      "text/plain": [
       "  x1 x2 prob.A prediction\n",
       "1 3  5  0.8    A         \n",
       "2 2  3  0.3    B         \n",
       "3 9  3  0.6    A         \n",
       "4 0  0  0.2    B         \n",
       "5 3  2  0.8    A         "
      ]
     },
     "metadata": {},
     "output_type": "display_data"
    }
   ],
   "source": [
    "cutoff = 0.5\n",
    "data.frame(cutoff)\n",
    "\n",
    "prediction = as.class(prob, class=\"A\", cutoff)\n",
    "prediction\n",
    "\n",
    "datax$prediction = prediction\n",
    "datax"
   ]
  },
  {
   "cell_type": "markdown",
   "metadata": {},
   "source": [
    "<br>\n",
    "\n",
    "**Compare the predicted classes vs. the actual classes.**\n",
    "\n",
    "**hit:** TRUE if predicted value $=$ actual value, FALSE if predicted value $\\ne$ actual value"
   ]
  },
  {
   "cell_type": "code",
   "execution_count": 12,
   "metadata": {},
   "outputs": [
    {
     "data": {
      "text/html": [
       "<ol class=list-inline>\n",
       "\t<li>TRUE</li>\n",
       "\t<li>FALSE</li>\n",
       "\t<li>FALSE</li>\n",
       "\t<li>TRUE</li>\n",
       "\t<li>TRUE</li>\n",
       "</ol>\n"
      ],
      "text/latex": [
       "\\begin{enumerate*}\n",
       "\\item TRUE\n",
       "\\item FALSE\n",
       "\\item FALSE\n",
       "\\item TRUE\n",
       "\\item TRUE\n",
       "\\end{enumerate*}\n"
      ],
      "text/markdown": [
       "1. TRUE\n",
       "2. FALSE\n",
       "3. FALSE\n",
       "4. TRUE\n",
       "5. TRUE\n",
       "\n",
       "\n"
      ],
      "text/plain": [
       "[1]  TRUE FALSE FALSE  TRUE  TRUE"
      ]
     },
     "metadata": {},
     "output_type": "display_data"
    },
    {
     "data": {
      "text/html": [
       "<table>\n",
       "<thead><tr><th scope=col>x1</th><th scope=col>x2</th><th scope=col>prob.A</th><th scope=col>prediction</th><th scope=col>class</th><th scope=col>hit</th></tr></thead>\n",
       "<tbody>\n",
       "\t<tr><td>3    </td><td>5    </td><td>0.8  </td><td>A    </td><td>A    </td><td> TRUE</td></tr>\n",
       "\t<tr><td>2    </td><td>3    </td><td>0.3  </td><td>B    </td><td>A    </td><td>FALSE</td></tr>\n",
       "\t<tr><td>9    </td><td>3    </td><td>0.6  </td><td>A    </td><td>B    </td><td>FALSE</td></tr>\n",
       "\t<tr><td>0    </td><td>0    </td><td>0.2  </td><td>B    </td><td>B    </td><td> TRUE</td></tr>\n",
       "\t<tr><td>3    </td><td>2    </td><td>0.8  </td><td>A    </td><td>A    </td><td> TRUE</td></tr>\n",
       "</tbody>\n",
       "</table>\n"
      ],
      "text/latex": [
       "\\begin{tabular}{r|llllll}\n",
       " x1 & x2 & prob.A & prediction & class & hit\\\\\n",
       "\\hline\n",
       "\t 3     & 5     & 0.8   & A     & A     &  TRUE\\\\\n",
       "\t 2     & 3     & 0.3   & B     & A     & FALSE\\\\\n",
       "\t 9     & 3     & 0.6   & A     & B     & FALSE\\\\\n",
       "\t 0     & 0     & 0.2   & B     & B     &  TRUE\\\\\n",
       "\t 3     & 2     & 0.8   & A     & A     &  TRUE\\\\\n",
       "\\end{tabular}\n"
      ],
      "text/markdown": [
       "\n",
       "| x1 | x2 | prob.A | prediction | class | hit |\n",
       "|---|---|---|---|---|---|\n",
       "| 3     | 5     | 0.8   | A     | A     |  TRUE |\n",
       "| 2     | 3     | 0.3   | B     | A     | FALSE |\n",
       "| 9     | 3     | 0.6   | A     | B     | FALSE |\n",
       "| 0     | 0     | 0.2   | B     | B     |  TRUE |\n",
       "| 3     | 2     | 0.8   | A     | A     |  TRUE |\n",
       "\n"
      ],
      "text/plain": [
       "  x1 x2 prob.A prediction class hit  \n",
       "1 3  5  0.8    A          A      TRUE\n",
       "2 2  3  0.3    B          A     FALSE\n",
       "3 9  3  0.6    A          B     FALSE\n",
       "4 0  0  0.2    B          B      TRUE\n",
       "5 3  2  0.8    A          A      TRUE"
      ]
     },
     "metadata": {},
     "output_type": "display_data"
    }
   ],
   "source": [
    "datax$class = data$class\n",
    "\n",
    "hit = datax$prediction==data$class\n",
    "hit\n",
    "\n",
    "datax$hit = hit\n",
    "datax"
   ]
  },
  {
   "cell_type": "code",
   "execution_count": 13,
   "metadata": {},
   "outputs": [
    {
     "data": {
      "image/png": "[encoded data removed]",
      "text/plain": [
       "plot without title"
      ]
     },
     "metadata": {},
     "output_type": "display_data"
    }
   ],
   "source": [
    "options(repr.plot.width=2.7, repr.plot.height=3)\n",
    "ggplot(datax) + xlim(0,10) + ylim(0,6) + ggtitle(\"Data\") +\n",
    "geom_point(aes(x=x1, y=x2), color=PALETTE[3], size=10, data=datax[datax$hit,]) +\n",
    "geom_point(aes(x=x1, y=x2, color=factor(class))) +\n",
    "geom_text(aes(x=x1, y=x2), label=\"X\", size=8, data=datax[!datax$hit,]) +\n",
    "scale_color_manual(values=PALETTE) + theme.no_legend\n",
    "options(restore)"
   ]
  },
  {
   "cell_type": "markdown",
   "metadata": {},
   "source": [
    "<br>\n",
    "\n",
    "**Confusion matrix.**\n",
    "\n",
    "Confusion matrix summarizes the results of applying a model to make predictions.\n",
    "\n",
    "How to interpret a confusion matrix ...\n",
    "\n",
    "* Rows for class names; they correspond to predicted classes.\n",
    "* Columns for class names; they correspond to actual classes.\n",
    "\n",
    "In this example ...\n",
    "* 2 observations (40%) are predicted to be class A and actually are class A (upper left part confusion matrix)\n",
    "* 1 observation (20%) is predicted to be class A but actually is class B (upper right part of confusion matrix)\n",
    "* 1 observation (20%) is predicted to be class B but actually is class A (lower left part of confusion matrix)\n",
    "* 1 observation (20%) is predicted to be class B and actually is class B (lower right part of confusion matrix)"
   ]
  },
  {
   "cell_type": "code",
   "execution_count": 14,
   "metadata": {},
   "outputs": [
    {
     "data": {
      "text/plain": [
       "          Reference\n",
       "Prediction A B\n",
       "         A 2 1\n",
       "         B 1 1"
      ]
     },
     "metadata": {},
     "output_type": "display_data"
    }
   ],
   "source": [
    "CM = confusionMatrix(datax$prediction, datax$class, positive=\"A\")$table\n",
    "CM"
   ]
  },
  {
   "cell_type": "code",
   "execution_count": 15,
   "metadata": {},
   "outputs": [
    {
     "data": {
      "text/plain": [
       "          Reference\n",
       "Prediction   A   B\n",
       "         A 0.4 0.2\n",
       "         B 0.2 0.2"
      ]
     },
     "metadata": {},
     "output_type": "display_data"
    }
   ],
   "source": [
    "cm = CM / sum(CM)\n",
    "cm"
   ]
  },
  {
   "cell_type": "markdown",
   "metadata": {},
   "source": [
    "<br>\n",
    "\n",
    "**Performance Metrics.**\n",
    "\n",
    "Popular model performance metrics can be derived from the confusion matrix.\n",
    "\n",
    "Treat one class name as \"positive\" and the other class name as \"negative\".\n",
    "\n",
    "* **accuracy:** correct predictions / total predictions\n",
    "* **true positive rate (aka sensitivity):** correct positive predictions / positive actuals\n",
    "* **true negative rate (aka specificity):** correct negative predictions / negative actuals\n",
    "* **positive predictive value (aka precision):** correct positive predictions / positive predictions\n",
    "* **negative predictive value:** correct negative predictions / negative predictions"
   ]
  },
  {
   "cell_type": "markdown",
   "metadata": {},
   "source": [
    "In this example ...\n",
    "\n",
    "* Accuracy is 60%\n",
    "* True positive rate is 67% (upper left divided by sum of all left)\n",
    "* True negative rate is 50% (lower right divided by sum of all right)\n",
    "* Positive predictive value is 67% (upper left divided by all upper)\n",
    "* Negative predictive value is 50% (lower right divided by all lower)"
   ]
  },
  {
   "cell_type": "code",
   "execution_count": 16,
   "metadata": {},
   "outputs": [
    {
     "data": {
      "text/html": [
       "<table>\n",
       "<thead><tr><th scope=col>accuracy</th><th scope=col>tpr</th><th scope=col>tnr</th><th scope=col>ppv</th><th scope=col>npv</th></tr></thead>\n",
       "<tbody>\n",
       "\t<tr><td>0.6         </td><td>0.6666666667</td><td>0.5         </td><td>0.6666666667</td><td>0.5         </td></tr>\n",
       "</tbody>\n",
       "</table>\n"
      ],
      "text/latex": [
       "\\begin{tabular}{r|lllll}\n",
       " accuracy & tpr & tnr & ppv & npv\\\\\n",
       "\\hline\n",
       "\t 0.6          & 0.6666666667 & 0.5          & 0.6666666667 & 0.5         \\\\\n",
       "\\end{tabular}\n"
      ],
      "text/markdown": [
       "\n",
       "| accuracy | tpr | tnr | ppv | npv |\n",
       "|---|---|---|---|---|\n",
       "| 0.6          | 0.6666666667 | 0.5          | 0.6666666667 | 0.5          |\n",
       "\n"
      ],
      "text/plain": [
       "  accuracy tpr          tnr ppv          npv\n",
       "1 0.6      0.6666666667 0.5 0.6666666667 0.5"
      ]
     },
     "metadata": {},
     "output_type": "display_data"
    }
   ],
   "source": [
    "accuracy = (cm[1,1]+cm[2,2])/sum(cm)\n",
    "tpr = cm[1,1]/sum(cm[,1])\n",
    "tnr = cm[2,2]/sum(cm[,2])\n",
    "ppv = cm[1,1]/sum(cm[1,])\n",
    "npv = cm[2,2]/sum(cm[2,])\n",
    "\n",
    "data.frame(accuracy, tpr, tnr, ppv, npv)"
   ]
  },
  {
   "cell_type": "markdown",
   "metadata": {},
   "source": [
    "<br>\n",
    "\n",
    "### Sampling for Evaluation"
   ]
  },
  {
   "cell_type": "markdown",
   "metadata": {},
   "source": [
    "#### In-Sample Performance\n",
    "\n",
    "Use all the data to construct the model and use all the data to evaluate the model. "
   ]
  },
  {
   "cell_type": "code",
   "execution_count": 17,
   "metadata": {},
   "outputs": [
    {
     "data": {
      "text/html": [
       "<table>\n",
       "<thead><tr><th scope=col>x1</th><th scope=col>x2</th><th scope=col>class</th></tr></thead>\n",
       "<tbody>\n",
       "\t<tr><td>3</td><td>5</td><td>A</td></tr>\n",
       "\t<tr><td>2</td><td>3</td><td>A</td></tr>\n",
       "\t<tr><td>9</td><td>3</td><td>B</td></tr>\n",
       "\t<tr><td>0</td><td>0</td><td>B</td></tr>\n",
       "\t<tr><td>3</td><td>2</td><td>A</td></tr>\n",
       "</tbody>\n",
       "</table>\n"
      ],
      "text/latex": [
       "\\begin{tabular}{r|lll}\n",
       " x1 & x2 & class\\\\\n",
       "\\hline\n",
       "\t 3 & 5 & A\\\\\n",
       "\t 2 & 3 & A\\\\\n",
       "\t 9 & 3 & B\\\\\n",
       "\t 0 & 0 & B\\\\\n",
       "\t 3 & 2 & A\\\\\n",
       "\\end{tabular}\n"
      ],
      "text/markdown": [
       "\n",
       "| x1 | x2 | class |\n",
       "|---|---|---|\n",
       "| 3 | 5 | A |\n",
       "| 2 | 3 | A |\n",
       "| 9 | 3 | B |\n",
       "| 0 | 0 | B |\n",
       "| 3 | 2 | A |\n",
       "\n"
      ],
      "text/plain": [
       "  x1 x2 class\n",
       "1 3  5  A    \n",
       "2 2  3  A    \n",
       "3 9  3  B    \n",
       "4 0  0  B    \n",
       "5 3  2  A    "
      ]
     },
     "metadata": {},
     "output_type": "display_data"
    }
   ],
   "source": [
    "data = data.frame(x1=c(3,2,9,0,3), x2=c(5,3,3,0,2), class=c(\"A\",\"A\",\"B\",\"B\",\"A\"))\n",
    "data"
   ]
  },
  {
   "cell_type": "code",
   "execution_count": 18,
   "metadata": {},
   "outputs": [],
   "source": [
    "model = my_predictive_analytic_method(class ~ x1+x2, data, hyperparameter=0)"
   ]
  },
  {
   "cell_type": "code",
   "execution_count": 19,
   "metadata": {},
   "outputs": [
    {
     "data": {
      "text/html": [
       "<table>\n",
       "<thead><tr><th scope=col>cutoff</th></tr></thead>\n",
       "<tbody>\n",
       "\t<tr><td>0.5</td></tr>\n",
       "</tbody>\n",
       "</table>\n"
      ],
      "text/latex": [
       "\\begin{tabular}{r|l}\n",
       " cutoff\\\\\n",
       "\\hline\n",
       "\t 0.5\\\\\n",
       "\\end{tabular}\n"
      ],
      "text/markdown": [
       "\n",
       "| cutoff |\n",
       "|---|\n",
       "| 0.5 |\n",
       "\n"
      ],
      "text/plain": [
       "  cutoff\n",
       "1 0.5   "
      ]
     },
     "metadata": {},
     "output_type": "display_data"
    },
    {
     "data": {
      "text/html": [
       "<table>\n",
       "<thead><tr><th scope=col>x1</th><th scope=col>x2</th><th scope=col>prob.A</th><th scope=col>prediction</th><th scope=col>class</th><th scope=col>hit</th></tr></thead>\n",
       "<tbody>\n",
       "\t<tr><td>3    </td><td>5    </td><td>0.8  </td><td>A    </td><td>A    </td><td> TRUE</td></tr>\n",
       "\t<tr><td>2    </td><td>3    </td><td>0.3  </td><td>B    </td><td>A    </td><td>FALSE</td></tr>\n",
       "\t<tr><td>9    </td><td>3    </td><td>0.6  </td><td>A    </td><td>B    </td><td>FALSE</td></tr>\n",
       "\t<tr><td>0    </td><td>0    </td><td>0.2  </td><td>B    </td><td>B    </td><td> TRUE</td></tr>\n",
       "\t<tr><td>3    </td><td>2    </td><td>0.8  </td><td>A    </td><td>A    </td><td> TRUE</td></tr>\n",
       "</tbody>\n",
       "</table>\n"
      ],
      "text/latex": [
       "\\begin{tabular}{r|llllll}\n",
       " x1 & x2 & prob.A & prediction & class & hit\\\\\n",
       "\\hline\n",
       "\t 3     & 5     & 0.8   & A     & A     &  TRUE\\\\\n",
       "\t 2     & 3     & 0.3   & B     & A     & FALSE\\\\\n",
       "\t 9     & 3     & 0.6   & A     & B     & FALSE\\\\\n",
       "\t 0     & 0     & 0.2   & B     & B     &  TRUE\\\\\n",
       "\t 3     & 2     & 0.8   & A     & A     &  TRUE\\\\\n",
       "\\end{tabular}\n"
      ],
      "text/markdown": [
       "\n",
       "| x1 | x2 | prob.A | prediction | class | hit |\n",
       "|---|---|---|---|---|---|\n",
       "| 3     | 5     | 0.8   | A     | A     |  TRUE |\n",
       "| 2     | 3     | 0.3   | B     | A     | FALSE |\n",
       "| 9     | 3     | 0.6   | A     | B     | FALSE |\n",
       "| 0     | 0     | 0.2   | B     | B     |  TRUE |\n",
       "| 3     | 2     | 0.8   | A     | A     |  TRUE |\n",
       "\n"
      ],
      "text/plain": [
       "  x1 x2 prob.A prediction class hit  \n",
       "1 3  5  0.8    A          A      TRUE\n",
       "2 2  3  0.3    B          A     FALSE\n",
       "3 9  3  0.6    A          B     FALSE\n",
       "4 0  0  0.2    B          B      TRUE\n",
       "5 3  2  0.8    A          A      TRUE"
      ]
     },
     "metadata": {},
     "output_type": "display_data"
    },
    {
     "data": {
      "text/plain": [
       "          Reference\n",
       "Prediction   A   B\n",
       "         A 0.4 0.2\n",
       "         B 0.2 0.2"
      ]
     },
     "metadata": {},
     "output_type": "display_data"
    },
    {
     "data": {
      "text/html": [
       "<table>\n",
       "<thead><tr><th scope=col>accuracy</th></tr></thead>\n",
       "<tbody>\n",
       "\t<tr><td>0.6</td></tr>\n",
       "</tbody>\n",
       "</table>\n"
      ],
      "text/latex": [
       "\\begin{tabular}{r|l}\n",
       " accuracy\\\\\n",
       "\\hline\n",
       "\t 0.6\\\\\n",
       "\\end{tabular}\n"
      ],
      "text/markdown": [
       "\n",
       "| accuracy |\n",
       "|---|\n",
       "| 0.6 |\n",
       "\n"
      ],
      "text/plain": [
       "  accuracy\n",
       "1 0.6     "
      ]
     },
     "metadata": {},
     "output_type": "display_data"
    }
   ],
   "source": [
    "cutoff = 0.5\n",
    "data.frame(cutoff)\n",
    "\n",
    "datax = data[, colnames(data)!=\"class\"]\n",
    "\n",
    "prob = my_predict(model, datax)\n",
    "datax$prob.A = prob$A\n",
    "prediction = as.class(prob, class=\"A\", cutoff)\n",
    "datax$prediction = prediction\n",
    "\n",
    "datax$class = data$class\n",
    "\n",
    "hit = datax$prediction==data$class\n",
    "datax$hit = hit\n",
    "datax\n",
    "\n",
    "CM = confusionMatrix(datax$prediction, datax$class)$table\n",
    "cm = CM / sum(CM)\n",
    "cm\n",
    "\n",
    "accuracy = (cm[1,1]+cm[2,2])/sum(cm)\n",
    "data.frame(accuracy)"
   ]
  },
  {
   "cell_type": "code",
   "execution_count": 20,
   "metadata": {},
   "outputs": [
    {
     "data": {
      "image/png": "[encoded data removed]",
      "text/plain": [
       "plot without title"
      ]
     },
     "metadata": {},
     "output_type": "display_data"
    }
   ],
   "source": [
    "options(repr.plot.width=2.7, repr.plot.height=3)\n",
    "ggplot(datax) + xlim(0,10) + ylim(0,6) + ggtitle(\"Data\") +\n",
    "geom_point(aes(x=x1, y=x2), color=PALETTE[3], size=10, data=datax[datax$hit,]) +\n",
    "geom_point(aes(x=x1, y=x2, color=factor(class))) +\n",
    "geom_text(aes(x=x1, y=x2), label=\"X\", size=8, data=datax[!datax$hit,]) +\n",
    "scale_color_manual(values=PALETTE) + theme.no_legend\n",
    "options(restore)"
   ]
  },
  {
   "cell_type": "markdown",
   "metadata": {},
   "source": [
    "<br>\n",
    "\n",
    "#### Out-of-Sample Performance (aka Holdout Performance) \n",
    "\n",
    "Considered a better estimate of performance. Uses only some of the data to build a model, uses only some of the data to test a model, but uses different data for build and test. "
   ]
  },
  {
   "cell_type": "code",
   "execution_count": 21,
   "metadata": {},
   "outputs": [
    {
     "data": {
      "text/html": [
       "<table>\n",
       "<thead><tr><th scope=col>x1</th><th scope=col>x2</th><th scope=col>class</th></tr></thead>\n",
       "<tbody>\n",
       "\t<tr><td>3</td><td>5</td><td>A</td></tr>\n",
       "\t<tr><td>2</td><td>3</td><td>A</td></tr>\n",
       "\t<tr><td>9</td><td>3</td><td>B</td></tr>\n",
       "\t<tr><td>0</td><td>0</td><td>B</td></tr>\n",
       "\t<tr><td>3</td><td>2</td><td>A</td></tr>\n",
       "</tbody>\n",
       "</table>\n"
      ],
      "text/latex": [
       "\\begin{tabular}{r|lll}\n",
       " x1 & x2 & class\\\\\n",
       "\\hline\n",
       "\t 3 & 5 & A\\\\\n",
       "\t 2 & 3 & A\\\\\n",
       "\t 9 & 3 & B\\\\\n",
       "\t 0 & 0 & B\\\\\n",
       "\t 3 & 2 & A\\\\\n",
       "\\end{tabular}\n"
      ],
      "text/markdown": [
       "\n",
       "| x1 | x2 | class |\n",
       "|---|---|---|\n",
       "| 3 | 5 | A |\n",
       "| 2 | 3 | A |\n",
       "| 9 | 3 | B |\n",
       "| 0 | 0 | B |\n",
       "| 3 | 2 | A |\n",
       "\n"
      ],
      "text/plain": [
       "  x1 x2 class\n",
       "1 3  5  A    \n",
       "2 2  3  A    \n",
       "3 9  3  B    \n",
       "4 0  0  B    \n",
       "5 3  2  A    "
      ]
     },
     "metadata": {},
     "output_type": "display_data"
    }
   ],
   "source": [
    "data = data.frame(x1=c(3,2,9,0,3), x2=c(5,3,3,0,2), class=c(\"A\",\"A\",\"B\",\"B\",\"A\"))\n",
    "data"
   ]
  },
  {
   "cell_type": "markdown",
   "metadata": {},
   "source": [
    "<br>\n",
    "\n",
    "Reserve some fraction of the data as the holdout.\n",
    "\n",
    "In this example, we reserve 40% of the data as the holdout.  The rest of the data is the holdin. "
   ]
  },
  {
   "cell_type": "code",
   "execution_count": 22,
   "metadata": {
    "scrolled": true
   },
   "outputs": [
    {
     "data": {
      "text/html": [
       "<ol class=list-inline>\n",
       "\t<li>4</li>\n",
       "\t<li>5</li>\n",
       "</ol>\n"
      ],
      "text/latex": [
       "\\begin{enumerate*}\n",
       "\\item 4\n",
       "\\item 5\n",
       "\\end{enumerate*}\n"
      ],
      "text/markdown": [
       "1. 4\n",
       "2. 5\n",
       "\n",
       "\n"
      ],
      "text/plain": [
       "[1] 4 5"
      ]
     },
     "metadata": {},
     "output_type": "display_data"
    },
    {
     "data": {
      "text/html": [
       "<ol class=list-inline>\n",
       "\t<li>1</li>\n",
       "\t<li>2</li>\n",
       "\t<li>3</li>\n",
       "</ol>\n"
      ],
      "text/latex": [
       "\\begin{enumerate*}\n",
       "\\item 1\n",
       "\\item 2\n",
       "\\item 3\n",
       "\\end{enumerate*}\n"
      ],
      "text/markdown": [
       "1. 1\n",
       "2. 2\n",
       "3. 3\n",
       "\n",
       "\n"
      ],
      "text/plain": [
       "[1] 1 2 3"
      ]
     },
     "metadata": {},
     "output_type": "display_data"
    },
    {
     "data": {
      "text/html": [
       "<table>\n",
       "<thead><tr><th></th><th scope=col>x1</th><th scope=col>x2</th><th scope=col>class</th></tr></thead>\n",
       "<tbody>\n",
       "\t<tr><th scope=row>4</th><td>0</td><td>0</td><td>B</td></tr>\n",
       "\t<tr><th scope=row>5</th><td>3</td><td>2</td><td>A</td></tr>\n",
       "</tbody>\n",
       "</table>\n"
      ],
      "text/latex": [
       "\\begin{tabular}{r|lll}\n",
       "  & x1 & x2 & class\\\\\n",
       "\\hline\n",
       "\t4 & 0 & 0 & B\\\\\n",
       "\t5 & 3 & 2 & A\\\\\n",
       "\\end{tabular}\n"
      ],
      "text/markdown": [
       "\n",
       "| <!--/--> | x1 | x2 | class |\n",
       "|---|---|---|---|\n",
       "| 4 | 0 | 0 | B |\n",
       "| 5 | 3 | 2 | A |\n",
       "\n"
      ],
      "text/plain": [
       "  x1 x2 class\n",
       "4 0  0  B    \n",
       "5 3  2  A    "
      ]
     },
     "metadata": {},
     "output_type": "display_data"
    },
    {
     "data": {
      "text/html": [
       "<table>\n",
       "<thead><tr><th scope=col>x1</th><th scope=col>x2</th><th scope=col>class</th></tr></thead>\n",
       "<tbody>\n",
       "\t<tr><td>3</td><td>5</td><td>A</td></tr>\n",
       "\t<tr><td>2</td><td>3</td><td>A</td></tr>\n",
       "\t<tr><td>9</td><td>3</td><td>B</td></tr>\n",
       "</tbody>\n",
       "</table>\n"
      ],
      "text/latex": [
       "\\begin{tabular}{r|lll}\n",
       " x1 & x2 & class\\\\\n",
       "\\hline\n",
       "\t 3 & 5 & A\\\\\n",
       "\t 2 & 3 & A\\\\\n",
       "\t 9 & 3 & B\\\\\n",
       "\\end{tabular}\n"
      ],
      "text/markdown": [
       "\n",
       "| x1 | x2 | class |\n",
       "|---|---|---|\n",
       "| 3 | 5 | A |\n",
       "| 2 | 3 | A |\n",
       "| 9 | 3 | B |\n",
       "\n"
      ],
      "text/plain": [
       "  x1 x2 class\n",
       "1 3  5  A    \n",
       "2 2  3  A    \n",
       "3 9  3  B    "
      ]
     },
     "metadata": {},
     "output_type": "display_data"
    }
   ],
   "source": [
    "set.seed(1234)\n",
    "holdout = sample(1:nrow(data), 0.40*nrow(data))\n",
    "holdin = setdiff(1:nrow(data), holdout)\n",
    "holdout\n",
    "holdin\n",
    "\n",
    "data.holdout = data[holdout,]\n",
    "data.holdin  = data[holdin,]\n",
    "data.holdout\n",
    "data.holdin"
   ]
  },
  {
   "cell_type": "markdown",
   "metadata": {},
   "source": [
    "<br>\n",
    "\n",
    "Construct a model based on the holdin data. This will not be the same model that was constructed based on all the data, but it will be constructed using the same predictive analytic method."
   ]
  },
  {
   "cell_type": "code",
   "execution_count": 23,
   "metadata": {},
   "outputs": [],
   "source": [
    "model = my_predictive_analytic_method(class ~ x1+x2, data.holdin, hyperparameter=0)"
   ]
  },
  {
   "cell_type": "markdown",
   "metadata": {},
   "source": [
    "<br>\n",
    "\n",
    "Estimate performance of model based on holdout data. \n",
    "\n",
    "In this example, we use accuracy as the measure of performance."
   ]
  },
  {
   "cell_type": "code",
   "execution_count": 24,
   "metadata": {},
   "outputs": [
    {
     "data": {
      "text/html": [
       "<table>\n",
       "<thead><tr><th scope=col>cutoff</th></tr></thead>\n",
       "<tbody>\n",
       "\t<tr><td>0.5</td></tr>\n",
       "</tbody>\n",
       "</table>\n"
      ],
      "text/latex": [
       "\\begin{tabular}{r|l}\n",
       " cutoff\\\\\n",
       "\\hline\n",
       "\t 0.5\\\\\n",
       "\\end{tabular}\n"
      ],
      "text/markdown": [
       "\n",
       "| cutoff |\n",
       "|---|\n",
       "| 0.5 |\n",
       "\n"
      ],
      "text/plain": [
       "  cutoff\n",
       "1 0.5   "
      ]
     },
     "metadata": {},
     "output_type": "display_data"
    },
    {
     "data": {
      "text/html": [
       "<table>\n",
       "<thead><tr><th></th><th scope=col>x1</th><th scope=col>x2</th><th scope=col>prob.A</th><th scope=col>prediction</th><th scope=col>class</th><th scope=col>hit</th></tr></thead>\n",
       "<tbody>\n",
       "\t<tr><th scope=row>4</th><td>0    </td><td>0    </td><td>0.4  </td><td>B    </td><td>B    </td><td> TRUE</td></tr>\n",
       "\t<tr><th scope=row>5</th><td>3    </td><td>2    </td><td>0.3  </td><td>B    </td><td>A    </td><td>FALSE</td></tr>\n",
       "</tbody>\n",
       "</table>\n"
      ],
      "text/latex": [
       "\\begin{tabular}{r|llllll}\n",
       "  & x1 & x2 & prob.A & prediction & class & hit\\\\\n",
       "\\hline\n",
       "\t4 & 0     & 0     & 0.4   & B     & B     &  TRUE\\\\\n",
       "\t5 & 3     & 2     & 0.3   & B     & A     & FALSE\\\\\n",
       "\\end{tabular}\n"
      ],
      "text/markdown": [
       "\n",
       "| <!--/--> | x1 | x2 | prob.A | prediction | class | hit |\n",
       "|---|---|---|---|---|---|---|\n",
       "| 4 | 0     | 0     | 0.4   | B     | B     |  TRUE |\n",
       "| 5 | 3     | 2     | 0.3   | B     | A     | FALSE |\n",
       "\n"
      ],
      "text/plain": [
       "  x1 x2 prob.A prediction class hit  \n",
       "4 0  0  0.4    B          B      TRUE\n",
       "5 3  2  0.3    B          A     FALSE"
      ]
     },
     "metadata": {},
     "output_type": "display_data"
    },
    {
     "data": {
      "text/plain": [
       "          Reference\n",
       "Prediction   A   B\n",
       "         A 0.0 0.0\n",
       "         B 0.5 0.5"
      ]
     },
     "metadata": {},
     "output_type": "display_data"
    },
    {
     "data": {
      "text/html": [
       "<table>\n",
       "<thead><tr><th scope=col>accuracy</th></tr></thead>\n",
       "<tbody>\n",
       "\t<tr><td>0.5</td></tr>\n",
       "</tbody>\n",
       "</table>\n"
      ],
      "text/latex": [
       "\\begin{tabular}{r|l}\n",
       " accuracy\\\\\n",
       "\\hline\n",
       "\t 0.5\\\\\n",
       "\\end{tabular}\n"
      ],
      "text/markdown": [
       "\n",
       "| accuracy |\n",
       "|---|\n",
       "| 0.5 |\n",
       "\n"
      ],
      "text/plain": [
       "  accuracy\n",
       "1 0.5     "
      ]
     },
     "metadata": {},
     "output_type": "display_data"
    }
   ],
   "source": [
    "cutoff = 0.5\n",
    "data.frame(cutoff)\n",
    "\n",
    "datax.holdout = data.holdout[, colnames(data.holdout)!=\"class\"]\n",
    "\n",
    "prob = my_predict(model, datax.holdout)\n",
    "datax.holdout$prob.A = prob$A\n",
    "prediction = as.class(prob, class=\"A\", cutoff)\n",
    "datax.holdout$prediction = prediction\n",
    "\n",
    "datax.holdout$class = data.holdout$class\n",
    "\n",
    "hit = datax.holdout$prediction==data.holdout$class\n",
    "datax.holdout$hit = hit\n",
    "datax.holdout\n",
    "\n",
    "CM = confusionMatrix(datax.holdout$prediction, datax.holdout$class)$table\n",
    "cm = CM / sum(CM)\n",
    "cm\n",
    "\n",
    "accuracy = (cm[1,1]+cm[2,2])/sum(cm)\n",
    "data.frame(accuracy)"
   ]
  },
  {
   "cell_type": "code",
   "execution_count": 25,
   "metadata": {},
   "outputs": [
    {
     "data": {
      "image/png": "[encoded data removed]",
      "text/plain": [
       "plot without title"
      ]
     },
     "metadata": {},
     "output_type": "display_data"
    }
   ],
   "source": [
    "options(repr.plot.width=2.7, repr.plot.height=3)\n",
    "ggplot(datax.holdout) + xlim(0,10) + ylim(0,6) + ggtitle(\"Holdout Data\") +\n",
    "geom_point(aes(x=x1, y=x2), color=PALETTE[3], size=10, data=datax.holdout[datax.holdout$hit,]) +\n",
    "geom_point(aes(x=x1, y=x2, color=factor(class))) +\n",
    "geom_text(aes(x=x1, y=x2), label=\"X\", size=8, data=datax.holdout[!datax.holdout$hit,]) +\n",
    "scale_color_manual(values=PALETTE) + theme.no_legend\n",
    "options(restore)"
   ]
  },
  {
   "cell_type": "markdown",
   "metadata": {},
   "source": [
    "<br>\n",
    "\n",
    "#### Cross-Validation Performance\n",
    "\n",
    "Considered to be among the best estimates of performance.  Uses all of the data to build a model, uses all of the data to test a model, and uses different data to build and test."
   ]
  },
  {
   "cell_type": "code",
   "execution_count": 26,
   "metadata": {},
   "outputs": [
    {
     "data": {
      "text/html": [
       "<table>\n",
       "<thead><tr><th scope=col>x1</th><th scope=col>x2</th><th scope=col>class</th></tr></thead>\n",
       "<tbody>\n",
       "\t<tr><td>3</td><td>5</td><td>A</td></tr>\n",
       "\t<tr><td>2</td><td>3</td><td>A</td></tr>\n",
       "\t<tr><td>9</td><td>3</td><td>B</td></tr>\n",
       "\t<tr><td>0</td><td>0</td><td>B</td></tr>\n",
       "\t<tr><td>3</td><td>2</td><td>A</td></tr>\n",
       "</tbody>\n",
       "</table>\n"
      ],
      "text/latex": [
       "\\begin{tabular}{r|lll}\n",
       " x1 & x2 & class\\\\\n",
       "\\hline\n",
       "\t 3 & 5 & A\\\\\n",
       "\t 2 & 3 & A\\\\\n",
       "\t 9 & 3 & B\\\\\n",
       "\t 0 & 0 & B\\\\\n",
       "\t 3 & 2 & A\\\\\n",
       "\\end{tabular}\n"
      ],
      "text/markdown": [
       "\n",
       "| x1 | x2 | class |\n",
       "|---|---|---|\n",
       "| 3 | 5 | A |\n",
       "| 2 | 3 | A |\n",
       "| 9 | 3 | B |\n",
       "| 0 | 0 | B |\n",
       "| 3 | 2 | A |\n",
       "\n"
      ],
      "text/plain": [
       "  x1 x2 class\n",
       "1 3  5  A    \n",
       "2 2  3  A    \n",
       "3 9  3  B    \n",
       "4 0  0  B    \n",
       "5 3  2  A    "
      ]
     },
     "metadata": {},
     "output_type": "display_data"
    }
   ],
   "source": [
    "data = data.frame(x1=c(3,2,9,0,3), x2=c(5,3,3,0,2), class=c(\"A\",\"A\",\"B\",\"B\",\"A\"))\n",
    "data"
   ]
  },
  {
   "cell_type": "markdown",
   "metadata": {},
   "source": [
    "<br>\n",
    "\n",
    "Define folds: Randomly partition the data into approximately equal-sized, non-overlapping subsets of observations.  You choose the number of subsets.  Then, for each subset, define a fold comprising test data and train data, where the test data is the subset and the train data is the rest.\n",
    "\n",
    "In this example, we choose 3 subsets, and so 3 folds."
   ]
  },
  {
   "cell_type": "code",
   "execution_count": 27,
   "metadata": {},
   "outputs": [
    {
     "data": {
      "text/html": [
       "<dl>\n",
       "\t<dt>$Fold1</dt>\n",
       "\t\t<dd>2</dd>\n",
       "\t<dt>$Fold2</dt>\n",
       "\t\t<dd><ol class=list-inline>\n",
       "\t<li>1</li>\n",
       "\t<li>3</li>\n",
       "</ol>\n",
       "</dd>\n",
       "\t<dt>$Fold3</dt>\n",
       "\t\t<dd><ol class=list-inline>\n",
       "\t<li>4</li>\n",
       "\t<li>5</li>\n",
       "</ol>\n",
       "</dd>\n",
       "</dl>\n"
      ],
      "text/latex": [
       "\\begin{description}\n",
       "\\item[\\$Fold1] 2\n",
       "\\item[\\$Fold2] \\begin{enumerate*}\n",
       "\\item 1\n",
       "\\item 3\n",
       "\\end{enumerate*}\n",
       "\n",
       "\\item[\\$Fold3] \\begin{enumerate*}\n",
       "\\item 4\n",
       "\\item 5\n",
       "\\end{enumerate*}\n",
       "\n",
       "\\end{description}\n"
      ],
      "text/markdown": [
       "$Fold1\n",
       ":   2\n",
       "$Fold2\n",
       ":   1. 1\n",
       "2. 3\n",
       "\n",
       "\n",
       "\n",
       "$Fold3\n",
       ":   1. 4\n",
       "2. 5\n",
       "\n",
       "\n",
       "\n",
       "\n",
       "\n"
      ],
      "text/plain": [
       "$Fold1\n",
       "[1] 2\n",
       "\n",
       "$Fold2\n",
       "[1] 1 3\n",
       "\n",
       "$Fold3\n",
       "[1] 4 5\n"
      ]
     },
     "metadata": {},
     "output_type": "display_data"
    }
   ],
   "source": [
    "set.seed(12345)\n",
    "fold = createFolds(data$class, k=3)\n",
    "fold"
   ]
  },
  {
   "cell_type": "markdown",
   "metadata": {},
   "source": [
    "<br>\n",
    "\n",
    "Here are the train and test data of fold #1."
   ]
  },
  {
   "cell_type": "code",
   "execution_count": 28,
   "metadata": {},
   "outputs": [
    {
     "data": {
      "text/html": [
       "<table>\n",
       "<thead><tr><th></th><th scope=col>x1</th><th scope=col>x2</th><th scope=col>class</th></tr></thead>\n",
       "<tbody>\n",
       "\t<tr><th scope=row>1</th><td>3</td><td>5</td><td>A</td></tr>\n",
       "\t<tr><th scope=row>3</th><td>9</td><td>3</td><td>B</td></tr>\n",
       "\t<tr><th scope=row>4</th><td>0</td><td>0</td><td>B</td></tr>\n",
       "\t<tr><th scope=row>5</th><td>3</td><td>2</td><td>A</td></tr>\n",
       "</tbody>\n",
       "</table>\n"
      ],
      "text/latex": [
       "\\begin{tabular}{r|lll}\n",
       "  & x1 & x2 & class\\\\\n",
       "\\hline\n",
       "\t1 & 3 & 5 & A\\\\\n",
       "\t3 & 9 & 3 & B\\\\\n",
       "\t4 & 0 & 0 & B\\\\\n",
       "\t5 & 3 & 2 & A\\\\\n",
       "\\end{tabular}\n"
      ],
      "text/markdown": [
       "\n",
       "| <!--/--> | x1 | x2 | class |\n",
       "|---|---|---|---|\n",
       "| 1 | 3 | 5 | A |\n",
       "| 3 | 9 | 3 | B |\n",
       "| 4 | 0 | 0 | B |\n",
       "| 5 | 3 | 2 | A |\n",
       "\n"
      ],
      "text/plain": [
       "  x1 x2 class\n",
       "1 3  5  A    \n",
       "3 9  3  B    \n",
       "4 0  0  B    \n",
       "5 3  2  A    "
      ]
     },
     "metadata": {},
     "output_type": "display_data"
    },
    {
     "data": {
      "text/html": [
       "<table>\n",
       "<thead><tr><th></th><th scope=col>x1</th><th scope=col>x2</th><th scope=col>class</th></tr></thead>\n",
       "<tbody>\n",
       "\t<tr><th scope=row>2</th><td>2</td><td>3</td><td>A</td></tr>\n",
       "</tbody>\n",
       "</table>\n"
      ],
      "text/latex": [
       "\\begin{tabular}{r|lll}\n",
       "  & x1 & x2 & class\\\\\n",
       "\\hline\n",
       "\t2 & 2 & 3 & A\\\\\n",
       "\\end{tabular}\n"
      ],
      "text/markdown": [
       "\n",
       "| <!--/--> | x1 | x2 | class |\n",
       "|---|---|---|---|\n",
       "| 2 | 2 | 3 | A |\n",
       "\n"
      ],
      "text/plain": [
       "  x1 x2 class\n",
       "2 2  3  A    "
      ]
     },
     "metadata": {},
     "output_type": "display_data"
    }
   ],
   "source": [
    "data_1.train = data[setdiff(1:nrow(data), fold$Fold1),]\n",
    "data_1.test  = data[fold$Fold1,]\n",
    "\n",
    "data_1.train\n",
    "data_1.test"
   ]
  },
  {
   "cell_type": "markdown",
   "metadata": {},
   "source": [
    "<br>\n",
    "\n",
    "Here are the train and test data of fold #2."
   ]
  },
  {
   "cell_type": "code",
   "execution_count": 29,
   "metadata": {
    "scrolled": true
   },
   "outputs": [
    {
     "data": {
      "text/html": [
       "<table>\n",
       "<thead><tr><th></th><th scope=col>x1</th><th scope=col>x2</th><th scope=col>class</th></tr></thead>\n",
       "<tbody>\n",
       "\t<tr><th scope=row>2</th><td>2</td><td>3</td><td>A</td></tr>\n",
       "\t<tr><th scope=row>4</th><td>0</td><td>0</td><td>B</td></tr>\n",
       "\t<tr><th scope=row>5</th><td>3</td><td>2</td><td>A</td></tr>\n",
       "</tbody>\n",
       "</table>\n"
      ],
      "text/latex": [
       "\\begin{tabular}{r|lll}\n",
       "  & x1 & x2 & class\\\\\n",
       "\\hline\n",
       "\t2 & 2 & 3 & A\\\\\n",
       "\t4 & 0 & 0 & B\\\\\n",
       "\t5 & 3 & 2 & A\\\\\n",
       "\\end{tabular}\n"
      ],
      "text/markdown": [
       "\n",
       "| <!--/--> | x1 | x2 | class |\n",
       "|---|---|---|---|\n",
       "| 2 | 2 | 3 | A |\n",
       "| 4 | 0 | 0 | B |\n",
       "| 5 | 3 | 2 | A |\n",
       "\n"
      ],
      "text/plain": [
       "  x1 x2 class\n",
       "2 2  3  A    \n",
       "4 0  0  B    \n",
       "5 3  2  A    "
      ]
     },
     "metadata": {},
     "output_type": "display_data"
    },
    {
     "data": {
      "text/html": [
       "<table>\n",
       "<thead><tr><th></th><th scope=col>x1</th><th scope=col>x2</th><th scope=col>class</th></tr></thead>\n",
       "<tbody>\n",
       "\t<tr><th scope=row>1</th><td>3</td><td>5</td><td>A</td></tr>\n",
       "\t<tr><th scope=row>3</th><td>9</td><td>3</td><td>B</td></tr>\n",
       "</tbody>\n",
       "</table>\n"
      ],
      "text/latex": [
       "\\begin{tabular}{r|lll}\n",
       "  & x1 & x2 & class\\\\\n",
       "\\hline\n",
       "\t1 & 3 & 5 & A\\\\\n",
       "\t3 & 9 & 3 & B\\\\\n",
       "\\end{tabular}\n"
      ],
      "text/markdown": [
       "\n",
       "| <!--/--> | x1 | x2 | class |\n",
       "|---|---|---|---|\n",
       "| 1 | 3 | 5 | A |\n",
       "| 3 | 9 | 3 | B |\n",
       "\n"
      ],
      "text/plain": [
       "  x1 x2 class\n",
       "1 3  5  A    \n",
       "3 9  3  B    "
      ]
     },
     "metadata": {},
     "output_type": "display_data"
    }
   ],
   "source": [
    "data_2.train = data[setdiff(1:nrow(data), fold$Fold2),]\n",
    "data_2.test  = data[fold$Fold2,]\n",
    "\n",
    "data_2.train\n",
    "data_2.test"
   ]
  },
  {
   "cell_type": "markdown",
   "metadata": {},
   "source": [
    "<br>\n",
    "\n",
    "Here are the train and test data of fold #3."
   ]
  },
  {
   "cell_type": "code",
   "execution_count": 30,
   "metadata": {},
   "outputs": [
    {
     "data": {
      "text/html": [
       "<table>\n",
       "<thead><tr><th scope=col>x1</th><th scope=col>x2</th><th scope=col>class</th></tr></thead>\n",
       "<tbody>\n",
       "\t<tr><td>3</td><td>5</td><td>A</td></tr>\n",
       "\t<tr><td>2</td><td>3</td><td>A</td></tr>\n",
       "\t<tr><td>9</td><td>3</td><td>B</td></tr>\n",
       "</tbody>\n",
       "</table>\n"
      ],
      "text/latex": [
       "\\begin{tabular}{r|lll}\n",
       " x1 & x2 & class\\\\\n",
       "\\hline\n",
       "\t 3 & 5 & A\\\\\n",
       "\t 2 & 3 & A\\\\\n",
       "\t 9 & 3 & B\\\\\n",
       "\\end{tabular}\n"
      ],
      "text/markdown": [
       "\n",
       "| x1 | x2 | class |\n",
       "|---|---|---|\n",
       "| 3 | 5 | A |\n",
       "| 2 | 3 | A |\n",
       "| 9 | 3 | B |\n",
       "\n"
      ],
      "text/plain": [
       "  x1 x2 class\n",
       "1 3  5  A    \n",
       "2 2  3  A    \n",
       "3 9  3  B    "
      ]
     },
     "metadata": {},
     "output_type": "display_data"
    },
    {
     "data": {
      "text/html": [
       "<table>\n",
       "<thead><tr><th></th><th scope=col>x1</th><th scope=col>x2</th><th scope=col>class</th></tr></thead>\n",
       "<tbody>\n",
       "\t<tr><th scope=row>4</th><td>0</td><td>0</td><td>B</td></tr>\n",
       "\t<tr><th scope=row>5</th><td>3</td><td>2</td><td>A</td></tr>\n",
       "</tbody>\n",
       "</table>\n"
      ],
      "text/latex": [
       "\\begin{tabular}{r|lll}\n",
       "  & x1 & x2 & class\\\\\n",
       "\\hline\n",
       "\t4 & 0 & 0 & B\\\\\n",
       "\t5 & 3 & 2 & A\\\\\n",
       "\\end{tabular}\n"
      ],
      "text/markdown": [
       "\n",
       "| <!--/--> | x1 | x2 | class |\n",
       "|---|---|---|---|\n",
       "| 4 | 0 | 0 | B |\n",
       "| 5 | 3 | 2 | A |\n",
       "\n"
      ],
      "text/plain": [
       "  x1 x2 class\n",
       "4 0  0  B    \n",
       "5 3  2  A    "
      ]
     },
     "metadata": {},
     "output_type": "display_data"
    }
   ],
   "source": [
    "data_3.train = data[setdiff(1:nrow(data), fold$Fold3),]\n",
    "data_3.test  = data[fold$Fold3,]\n",
    "\n",
    "data_3.train\n",
    "data_3.test"
   ]
  },
  {
   "cell_type": "markdown",
   "metadata": {},
   "source": [
    "<br>\n",
    "\n",
    "For each fold, construct a model based on _train_ data.  Use the same method and hyper-parameter settings for each model."
   ]
  },
  {
   "cell_type": "markdown",
   "metadata": {},
   "source": [
    "Here is accuracy of the model constructed based on train data and evaluated based on test data for fold \\#1."
   ]
  },
  {
   "cell_type": "code",
   "execution_count": 31,
   "metadata": {},
   "outputs": [],
   "source": [
    "model_1 = my_predictive_analytic_method(class ~ x1+x2, data_1.train, hyperparameter=0)"
   ]
  },
  {
   "cell_type": "code",
   "execution_count": 32,
   "metadata": {},
   "outputs": [
    {
     "data": {
      "text/html": [
       "<table>\n",
       "<thead><tr><th scope=col>cutoff</th></tr></thead>\n",
       "<tbody>\n",
       "\t<tr><td>0.5</td></tr>\n",
       "</tbody>\n",
       "</table>\n"
      ],
      "text/latex": [
       "\\begin{tabular}{r|l}\n",
       " cutoff\\\\\n",
       "\\hline\n",
       "\t 0.5\\\\\n",
       "\\end{tabular}\n"
      ],
      "text/markdown": [
       "\n",
       "| cutoff |\n",
       "|---|\n",
       "| 0.5 |\n",
       "\n"
      ],
      "text/plain": [
       "  cutoff\n",
       "1 0.5   "
      ]
     },
     "metadata": {},
     "output_type": "display_data"
    },
    {
     "data": {
      "text/html": [
       "<table>\n",
       "<thead><tr><th></th><th scope=col>x1</th><th scope=col>x2</th><th scope=col>prob.A</th><th scope=col>prediction</th><th scope=col>class</th><th scope=col>hit</th></tr></thead>\n",
       "<tbody>\n",
       "\t<tr><th scope=row>2</th><td>2    </td><td>3    </td><td>0.4  </td><td>B    </td><td>A    </td><td>FALSE</td></tr>\n",
       "</tbody>\n",
       "</table>\n"
      ],
      "text/latex": [
       "\\begin{tabular}{r|llllll}\n",
       "  & x1 & x2 & prob.A & prediction & class & hit\\\\\n",
       "\\hline\n",
       "\t2 & 2     & 3     & 0.4   & B     & A     & FALSE\\\\\n",
       "\\end{tabular}\n"
      ],
      "text/markdown": [
       "\n",
       "| <!--/--> | x1 | x2 | prob.A | prediction | class | hit |\n",
       "|---|---|---|---|---|---|---|\n",
       "| 2 | 2     | 3     | 0.4   | B     | A     | FALSE |\n",
       "\n"
      ],
      "text/plain": [
       "  x1 x2 prob.A prediction class hit  \n",
       "2 2  3  0.4    B          A     FALSE"
      ]
     },
     "metadata": {},
     "output_type": "display_data"
    },
    {
     "data": {
      "text/plain": [
       "          Reference\n",
       "Prediction A B\n",
       "         A 0 0\n",
       "         B 1 0"
      ]
     },
     "metadata": {},
     "output_type": "display_data"
    },
    {
     "data": {
      "text/html": [
       "<table>\n",
       "<thead><tr><th scope=col>accuracy_1</th></tr></thead>\n",
       "<tbody>\n",
       "\t<tr><td>0</td></tr>\n",
       "</tbody>\n",
       "</table>\n"
      ],
      "text/latex": [
       "\\begin{tabular}{r|l}\n",
       " accuracy\\_1\\\\\n",
       "\\hline\n",
       "\t 0\\\\\n",
       "\\end{tabular}\n"
      ],
      "text/markdown": [
       "\n",
       "| accuracy_1 |\n",
       "|---|\n",
       "| 0 |\n",
       "\n"
      ],
      "text/plain": [
       "  accuracy_1\n",
       "1 0         "
      ]
     },
     "metadata": {},
     "output_type": "display_data"
    }
   ],
   "source": [
    "cutoff = 0.5\n",
    "data.frame(cutoff)\n",
    "\n",
    "data_1x.test = data_1.test[, colnames(data_1.test)!=\"class\"]\n",
    "\n",
    "prob = my_predict(model_1, data_1x.test)\n",
    "data_1x.test$prob.A = prob$A\n",
    "prediction = as.class(prob, class=\"A\", cutoff)\n",
    "data_1x.test$prediction = prediction\n",
    "\n",
    "data_1x.test$class = data_1.test$class\n",
    "\n",
    "data_1x.test$hit = (data_1x.test$prediction==data_1x.test$class)\n",
    "data_1x.test\n",
    "\n",
    "CM = confusionMatrix(data_1x.test$prediction, data_1x.test$class)$table\n",
    "cm = CM / sum(CM)\n",
    "cm\n",
    "\n",
    "accuracy_1 = (cm[1,1]+cm[2,2])/sum(cm)\n",
    "data.frame(accuracy_1)"
   ]
  },
  {
   "cell_type": "markdown",
   "metadata": {},
   "source": [
    "<br>\n",
    "\n",
    "Here is accuracy of the model constructed based on train data and evaluated based on test data for fold \\#2."
   ]
  },
  {
   "cell_type": "code",
   "execution_count": 33,
   "metadata": {},
   "outputs": [],
   "source": [
    "model_2 = my_predictive_analytic_method(class ~ x1+x2, data_2.train, hyperparameter=0)"
   ]
  },
  {
   "cell_type": "code",
   "execution_count": 34,
   "metadata": {},
   "outputs": [
    {
     "data": {
      "text/html": [
       "<table>\n",
       "<thead><tr><th scope=col>cutoff</th></tr></thead>\n",
       "<tbody>\n",
       "\t<tr><td>0.5</td></tr>\n",
       "</tbody>\n",
       "</table>\n"
      ],
      "text/latex": [
       "\\begin{tabular}{r|l}\n",
       " cutoff\\\\\n",
       "\\hline\n",
       "\t 0.5\\\\\n",
       "\\end{tabular}\n"
      ],
      "text/markdown": [
       "\n",
       "| cutoff |\n",
       "|---|\n",
       "| 0.5 |\n",
       "\n"
      ],
      "text/plain": [
       "  cutoff\n",
       "1 0.5   "
      ]
     },
     "metadata": {},
     "output_type": "display_data"
    },
    {
     "data": {
      "text/html": [
       "<table>\n",
       "<thead><tr><th></th><th scope=col>x1</th><th scope=col>x2</th><th scope=col>prob.A</th><th scope=col>prediction</th><th scope=col>class</th><th scope=col>hit</th></tr></thead>\n",
       "<tbody>\n",
       "\t<tr><th scope=row>1</th><td>3    </td><td>5    </td><td>0.6  </td><td>A    </td><td>A    </td><td> TRUE</td></tr>\n",
       "\t<tr><th scope=row>3</th><td>9    </td><td>3    </td><td>0.9  </td><td>A    </td><td>B    </td><td>FALSE</td></tr>\n",
       "</tbody>\n",
       "</table>\n"
      ],
      "text/latex": [
       "\\begin{tabular}{r|llllll}\n",
       "  & x1 & x2 & prob.A & prediction & class & hit\\\\\n",
       "\\hline\n",
       "\t1 & 3     & 5     & 0.6   & A     & A     &  TRUE\\\\\n",
       "\t3 & 9     & 3     & 0.9   & A     & B     & FALSE\\\\\n",
       "\\end{tabular}\n"
      ],
      "text/markdown": [
       "\n",
       "| <!--/--> | x1 | x2 | prob.A | prediction | class | hit |\n",
       "|---|---|---|---|---|---|---|\n",
       "| 1 | 3     | 5     | 0.6   | A     | A     |  TRUE |\n",
       "| 3 | 9     | 3     | 0.9   | A     | B     | FALSE |\n",
       "\n"
      ],
      "text/plain": [
       "  x1 x2 prob.A prediction class hit  \n",
       "1 3  5  0.6    A          A      TRUE\n",
       "3 9  3  0.9    A          B     FALSE"
      ]
     },
     "metadata": {},
     "output_type": "display_data"
    },
    {
     "data": {
      "text/plain": [
       "          Reference\n",
       "Prediction   A   B\n",
       "         A 0.5 0.5\n",
       "         B 0.0 0.0"
      ]
     },
     "metadata": {},
     "output_type": "display_data"
    },
    {
     "data": {
      "text/html": [
       "<table>\n",
       "<thead><tr><th scope=col>accuracy_2</th></tr></thead>\n",
       "<tbody>\n",
       "\t<tr><td>0.5</td></tr>\n",
       "</tbody>\n",
       "</table>\n"
      ],
      "text/latex": [
       "\\begin{tabular}{r|l}\n",
       " accuracy\\_2\\\\\n",
       "\\hline\n",
       "\t 0.5\\\\\n",
       "\\end{tabular}\n"
      ],
      "text/markdown": [
       "\n",
       "| accuracy_2 |\n",
       "|---|\n",
       "| 0.5 |\n",
       "\n"
      ],
      "text/plain": [
       "  accuracy_2\n",
       "1 0.5       "
      ]
     },
     "metadata": {},
     "output_type": "display_data"
    }
   ],
   "source": [
    "cutoff = 0.5\n",
    "data.frame(cutoff)\n",
    "\n",
    "data_2x.test = data_2.test[, colnames(data_2.test)!=\"class\"]\n",
    "\n",
    "prob = my_predict(model_2, data_2x.test)\n",
    "data_2x.test$prob.A = prob$A\n",
    "prediction = as.class(prob, class=\"A\", cutoff)\n",
    "data_2x.test$prediction = prediction\n",
    "\n",
    "data_2x.test$class = data_2.test$class\n",
    "\n",
    "data_2x.test$hit = (data_2x.test$prediction==data_2x.test$class)\n",
    "data_2x.test\n",
    "\n",
    "CM = confusionMatrix(data_2x.test$prediction, data_2x.test$class)$table\n",
    "cm = CM / sum(CM)\n",
    "cm\n",
    "\n",
    "accuracy_2 = (cm[1,1]+cm[2,2])/sum(cm)\n",
    "data.frame(accuracy_2)"
   ]
  },
  {
   "cell_type": "markdown",
   "metadata": {},
   "source": [
    "<br>\n",
    "\n",
    "Here is accuracy of the model constructed based on train data and evaluated based on test data for fold \\#3."
   ]
  },
  {
   "cell_type": "code",
   "execution_count": 35,
   "metadata": {},
   "outputs": [],
   "source": [
    "model_3 = my_predictive_analytic_method(class ~ x1+x2, data_3.train, hyperparameter=0)"
   ]
  },
  {
   "cell_type": "code",
   "execution_count": 36,
   "metadata": {},
   "outputs": [
    {
     "data": {
      "text/html": [
       "<table>\n",
       "<thead><tr><th scope=col>cutoff</th></tr></thead>\n",
       "<tbody>\n",
       "\t<tr><td>0.5</td></tr>\n",
       "</tbody>\n",
       "</table>\n"
      ],
      "text/latex": [
       "\\begin{tabular}{r|l}\n",
       " cutoff\\\\\n",
       "\\hline\n",
       "\t 0.5\\\\\n",
       "\\end{tabular}\n"
      ],
      "text/markdown": [
       "\n",
       "| cutoff |\n",
       "|---|\n",
       "| 0.5 |\n",
       "\n"
      ],
      "text/plain": [
       "  cutoff\n",
       "1 0.5   "
      ]
     },
     "metadata": {},
     "output_type": "display_data"
    },
    {
     "data": {
      "text/html": [
       "<table>\n",
       "<thead><tr><th></th><th scope=col>x1</th><th scope=col>x2</th><th scope=col>prob.A</th><th scope=col>prediction</th><th scope=col>class</th><th scope=col>hit</th></tr></thead>\n",
       "<tbody>\n",
       "\t<tr><th scope=row>4</th><td>0    </td><td>0    </td><td>0.4  </td><td>B    </td><td>B    </td><td> TRUE</td></tr>\n",
       "\t<tr><th scope=row>5</th><td>3    </td><td>2    </td><td>0.3  </td><td>B    </td><td>A    </td><td>FALSE</td></tr>\n",
       "</tbody>\n",
       "</table>\n"
      ],
      "text/latex": [
       "\\begin{tabular}{r|llllll}\n",
       "  & x1 & x2 & prob.A & prediction & class & hit\\\\\n",
       "\\hline\n",
       "\t4 & 0     & 0     & 0.4   & B     & B     &  TRUE\\\\\n",
       "\t5 & 3     & 2     & 0.3   & B     & A     & FALSE\\\\\n",
       "\\end{tabular}\n"
      ],
      "text/markdown": [
       "\n",
       "| <!--/--> | x1 | x2 | prob.A | prediction | class | hit |\n",
       "|---|---|---|---|---|---|---|\n",
       "| 4 | 0     | 0     | 0.4   | B     | B     |  TRUE |\n",
       "| 5 | 3     | 2     | 0.3   | B     | A     | FALSE |\n",
       "\n"
      ],
      "text/plain": [
       "  x1 x2 prob.A prediction class hit  \n",
       "4 0  0  0.4    B          B      TRUE\n",
       "5 3  2  0.3    B          A     FALSE"
      ]
     },
     "metadata": {},
     "output_type": "display_data"
    },
    {
     "data": {
      "text/plain": [
       "          Reference\n",
       "Prediction   A   B\n",
       "         A 0.0 0.0\n",
       "         B 0.5 0.5"
      ]
     },
     "metadata": {},
     "output_type": "display_data"
    },
    {
     "data": {
      "text/html": [
       "<table>\n",
       "<thead><tr><th scope=col>accuracy_3</th></tr></thead>\n",
       "<tbody>\n",
       "\t<tr><td>0.5</td></tr>\n",
       "</tbody>\n",
       "</table>\n"
      ],
      "text/latex": [
       "\\begin{tabular}{r|l}\n",
       " accuracy\\_3\\\\\n",
       "\\hline\n",
       "\t 0.5\\\\\n",
       "\\end{tabular}\n"
      ],
      "text/markdown": [
       "\n",
       "| accuracy_3 |\n",
       "|---|\n",
       "| 0.5 |\n",
       "\n"
      ],
      "text/plain": [
       "  accuracy_3\n",
       "1 0.5       "
      ]
     },
     "metadata": {},
     "output_type": "display_data"
    }
   ],
   "source": [
    "cutoff = 0.5\n",
    "data.frame(cutoff)\n",
    "\n",
    "data_3x.test = data_3.test[, colnames(data_3.test)!=\"class\"]\n",
    "\n",
    "prob = my_predict(model_3, data_3x.test)\n",
    "data_3x.test$prob.A = prob$A\n",
    "prediction = as.class(prob, class=\"A\", cutoff)\n",
    "data_3x.test$prediction = prediction\n",
    "\n",
    "data_3x.test$class = data_3.test$class\n",
    "\n",
    "data_3x.test$hit = (data_3x.test$prediction==data_3x.test$class)\n",
    "data_3x.test\n",
    "\n",
    "CM = confusionMatrix(data_3x.test$prediction, data_3x.test$class)$table\n",
    "cm = CM / sum(CM)\n",
    "cm\n",
    "\n",
    "accuracy_3 = (cm[1,1]+cm[2,2])/sum(cm)\n",
    "data.frame(accuracy_3)"
   ]
  },
  {
   "cell_type": "code",
   "execution_count": 37,
   "metadata": {},
   "outputs": [
    {
     "data": {
      "image/png": "[encoded data removed]",
      "text/plain": [
       "plot without title"
      ]
     },
     "metadata": {},
     "output_type": "display_data"
    }
   ],
   "source": [
    "p1 = ggplot(data_1x.test) + xlim(0,10) + ylim(0,6) + ggtitle(\"Fold 1 Test Data\", paste(\"accuracy =\",accuracy_1)) +\n",
    "     geom_point(aes(x=x1, y=x2), color=PALETTE[3], size=10, data=data_1x.test[data_1x.test$hit,]) +\n",
    "     geom_point(aes(x=x1, y=x2, color=factor(class))) +\n",
    "     geom_text(aes(x=x1, y=x2), label=\"X\", size=8, data=data_1x.test[!data_1x.test$hit,]) +\n",
    "     scale_color_manual(values=PALETTE) + theme.no_legend\n",
    "\n",
    "p2 = ggplot(data_2x.test) + xlim(0,10) + ylim(0,6) + ggtitle(\"Fold 2 Test Data\", paste(\"accuracy =\",accuracy_2)) +\n",
    "     geom_point(aes(x=x1, y=x2), color=PALETTE[3], size=10, data=data_2x.test[data_2x.test$hit,]) +\n",
    "     geom_point(aes(x=x1, y=x2, color=factor(class))) +\n",
    "     geom_text(aes(x=x1, y=x2), label=\"X\", size=8, data=data_2x.test[!data_2x.test$hit,]) +\n",
    "     scale_color_manual(values=PALETTE) + theme.no_legend\n",
    "\n",
    "p3 = ggplot(data_3x.test) + xlim(0,10) + ylim(0,6) + ggtitle(\"Fold 3 Test Data\", paste(\"accuracy =\",accuracy_3)) +\n",
    "     geom_point(aes(x=x1, y=x2), color=PALETTE[3], size=10, data=data_3x.test[data_3x.test$hit,]) +\n",
    "     geom_point(aes(x=x1, y=x2, color=factor(class))) +\n",
    "     geom_text(aes(x=x1, y=x2), label=\"X\", size=8, data=data_3x.test[!data_3x.test$hit,]) +\n",
    "     scale_color_manual(values=PALETTE) + theme.no_legend\n",
    "\n",
    "grid.arrange(p1, p2, p3, nrow=1)"
   ]
  },
  {
   "cell_type": "markdown",
   "metadata": {},
   "source": [
    "<br>\n",
    "\n",
    "Accuracy estimate for model based on all data is the mean of accuracy estimates for models based on fold data.\n",
    "\n",
    "Note that the accuracy of the model based on all data is derived from models each based on only part of the data.  We still consider this accuracy a good estimate because all the models are constructed using the same predictive analytic method and so should have similar performance characteristics."
   ]
  },
  {
   "cell_type": "code",
   "execution_count": 38,
   "metadata": {},
   "outputs": [
    {
     "data": {
      "text/html": [
       "<table>\n",
       "<thead><tr><th scope=col>accuracy</th></tr></thead>\n",
       "<tbody>\n",
       "\t<tr><td>0.3333333333</td></tr>\n",
       "</tbody>\n",
       "</table>\n"
      ],
      "text/latex": [
       "\\begin{tabular}{r|l}\n",
       " accuracy\\\\\n",
       "\\hline\n",
       "\t 0.3333333333\\\\\n",
       "\\end{tabular}\n"
      ],
      "text/markdown": [
       "\n",
       "| accuracy |\n",
       "|---|\n",
       "| 0.3333333333 |\n",
       "\n"
      ],
      "text/plain": [
       "  accuracy    \n",
       "1 0.3333333333"
      ]
     },
     "metadata": {},
     "output_type": "display_data"
    }
   ],
   "source": [
    "accuracy = mean(c(accuracy_1, accuracy_2, accuracy_3))\n",
    "data.frame(accuracy)"
   ]
  },
  {
   "cell_type": "markdown",
   "metadata": {},
   "source": [
    "## Discourse"
   ]
  },
  {
   "cell_type": "markdown",
   "metadata": {},
   "source": [
    "### Retrieve Data"
   ]
  },
  {
   "cell_type": "code",
   "execution_count": 39,
   "metadata": {},
   "outputs": [
    {
     "data": {
      "text/html": [
       "<ol class=list-inline>\n",
       "\t<li>11</li>\n",
       "\t<li>2</li>\n",
       "</ol>\n"
      ],
      "text/latex": [
       "\\begin{enumerate*}\n",
       "\\item 11\n",
       "\\item 2\n",
       "\\end{enumerate*}\n"
      ],
      "text/markdown": [
       "1. 11\n",
       "2. 2\n",
       "\n",
       "\n"
      ],
      "text/plain": [
       "[1] 11  2"
      ]
     },
     "metadata": {},
     "output_type": "display_data"
    },
    {
     "data": {
      "image/png": "[encoded data removed]",
      "text/plain": [
       "plot without title"
      ]
     },
     "metadata": {},
     "output_type": "display_data"
    }
   ],
   "source": [
    "data = data.frame(x1=c(1.0, 1.5, 2.0, 3.0, 4.0, 5.0, 6.0, 6.5, 8.0, 9.0, 9.5), outcome=c(1.0, 0.5, 3.0, 4.0, 5.5, 5.0, 3.5, 4.0, 7.0, 6.5, 9.0))\n",
    "\n",
    "dim(data)\n",
    "ggplot(data) + geom_point(aes(x1, y=outcome), color=PALETTE[1]) + scale_color_manual(values=PALETTE) + xlim(0,10) +ylim(0,10)"
   ]
  },
  {
   "cell_type": "markdown",
   "metadata": {},
   "source": [
    "### Measures of Performance\n",
    "\n",
    "* **Classification Models (per observation):**\n",
    "  * **hit:** TRUE if predicted value $=$ actual value, FALSE if predicted value $\\ne$ actual\n",
    "  * _... and others_\n",
    "  * _... and custom measures of performance_\n",
    "  \n",
    "\n",
    "* **Classification Models (overall):**\n",
    "  * **accuracy:** correct predictions / total predictions\n",
    "  * **true positive rate (aka sensitivity):** correct positive predictions / positive actuals\n",
    "  * **true negative rate (aka specificity):** correct negative predictions / negative actuals\n",
    "  * **positive predictive value (aka precision):** correct positive predictions / positive predictions\n",
    "  * **negative predictive value:** correct negative predictions / negative predictions\n",
    "  * _... and others_\n",
    "  * _... and custom measures of performance_\n",
    "\n",
    "\n",
    "* **Regression Models (per observation):**\n",
    "  * **error:** predicted value - actual value\n",
    "  * _... and others_\n",
    "  * _... and custom measures of performance_\n",
    "\n",
    "\n",
    "* **Regression Models (overall):**\n",
    "  * **total error:** $\\sum error$\n",
    "  * **mean square error (MSE):** $mean (error^2)$\n",
    "  * **root mean square error (RMSE):** $\\sqrt{ mean (error^2)}$\n",
    "  * **mean absolute percent error (MAPE):** $ 100 \\times mean(abs(error \\, / \\, actual \\, value)) $\n",
    "  * _... and others_\n",
    "  * _... and custom measures of performance_\n"
   ]
  },
  {
   "cell_type": "markdown",
   "metadata": {},
   "source": [
    "### Evaluation Method: In-Sample Performance\n",
    "\n",
    "Considered a crude estimate of performance.  Uses all of the data to build a model, uses all of the data to test a model, but uses same data for build and test."
   ]
  },
  {
   "cell_type": "markdown",
   "metadata": {},
   "source": [
    "#### Build model based on all data. \n",
    "\n",
    "Here we build a linear regression model. "
   ]
  },
  {
   "cell_type": "code",
   "execution_count": 40,
   "metadata": {},
   "outputs": [
    {
     "data": {
      "text/plain": [
       "\n",
       "Call:\n",
       "lm(formula = outcome ~ x1, data = data)\n",
       "\n",
       "Coefficients:\n",
       "(Intercept)           x1  \n",
       "  0.7551353    0.7332164  \n"
      ]
     },
     "metadata": {},
     "output_type": "display_data"
    }
   ],
   "source": [
    "model = lm(outcome~x1, data)\n",
    "model"
   ]
  },
  {
   "cell_type": "code",
   "execution_count": 41,
   "metadata": {},
   "outputs": [
    {
     "data": {
      "image/png": "[encoded data removed]",
      "text/plain": [
       "plot without title"
      ]
     },
     "metadata": {},
     "output_type": "display_data"
    }
   ],
   "source": [
    "ggplot(data) +\n",
    "geom_line(aes(x=x1, y=outcome, color=\"actual\")) + geom_point(aes(x1, y=outcome, color=\"actual\")) +\n",
    "geom_abline(aes(intercept=model$coefficients[\"(Intercept)\"], slope=model$coefficients[\"x1\"], color=\"predicted\")) +\n",
    "scale_color_manual(values=PALETTE) + xlim(0,10) +ylim(0,10)"
   ]
  },
  {
   "cell_type": "markdown",
   "metadata": {},
   "source": [
    "#### Estimate performance of model based on all data. \n",
    "\n",
    "Here we use RMSE as the measure of performance."
   ]
  },
  {
   "cell_type": "code",
   "execution_count": 42,
   "metadata": {},
   "outputs": [
    {
     "data": {
      "text/html": [
       "<table>\n",
       "<thead><tr><th scope=col>data.outcome</th><th scope=col>prediction</th><th scope=col>error</th><th scope=col>square_error</th></tr></thead>\n",
       "<tbody>\n",
       "\t<tr><td>1.0          </td><td>1.488351703  </td><td> 0.4883517034</td><td>0.2384873862 </td></tr>\n",
       "\t<tr><td>0.5          </td><td>1.854959920  </td><td> 1.3549599198</td><td>1.8359163844 </td></tr>\n",
       "\t<tr><td>3.0          </td><td>2.221568136  </td><td>-0.7784318637</td><td>0.6059561665 </td></tr>\n",
       "\t<tr><td>4.0          </td><td>2.954784569  </td><td>-1.0452154309</td><td>1.0924752969 </td></tr>\n",
       "\t<tr><td>5.5          </td><td>3.688001002  </td><td>-1.8119989980</td><td>3.2833403687 </td></tr>\n",
       "\t<tr><td>5.0          </td><td>4.421217435  </td><td>-0.5787825651</td><td>0.3349892577 </td></tr>\n",
       "\t<tr><td>3.5          </td><td>5.154433868  </td><td> 1.6544338677</td><td>2.7371514227 </td></tr>\n",
       "\t<tr><td>4.0          </td><td>5.521042084  </td><td> 1.5210420842</td><td>2.3135690218 </td></tr>\n",
       "\t<tr><td>7.0          </td><td>6.620866733  </td><td>-0.3791332665</td><td>0.1437420338 </td></tr>\n",
       "\t<tr><td>6.5          </td><td>7.354083166  </td><td> 0.8540831663</td><td>0.7294580550 </td></tr>\n",
       "\t<tr><td>9.0          </td><td>7.720691383  </td><td>-1.2793086172</td><td>1.6366305381 </td></tr>\n",
       "</tbody>\n",
       "</table>\n"
      ],
      "text/latex": [
       "\\begin{tabular}{r|llll}\n",
       " data.outcome & prediction & error & square\\_error\\\\\n",
       "\\hline\n",
       "\t 1.0           & 1.488351703   &  0.4883517034 & 0.2384873862 \\\\\n",
       "\t 0.5           & 1.854959920   &  1.3549599198 & 1.8359163844 \\\\\n",
       "\t 3.0           & 2.221568136   & -0.7784318637 & 0.6059561665 \\\\\n",
       "\t 4.0           & 2.954784569   & -1.0452154309 & 1.0924752969 \\\\\n",
       "\t 5.5           & 3.688001002   & -1.8119989980 & 3.2833403687 \\\\\n",
       "\t 5.0           & 4.421217435   & -0.5787825651 & 0.3349892577 \\\\\n",
       "\t 3.5           & 5.154433868   &  1.6544338677 & 2.7371514227 \\\\\n",
       "\t 4.0           & 5.521042084   &  1.5210420842 & 2.3135690218 \\\\\n",
       "\t 7.0           & 6.620866733   & -0.3791332665 & 0.1437420338 \\\\\n",
       "\t 6.5           & 7.354083166   &  0.8540831663 & 0.7294580550 \\\\\n",
       "\t 9.0           & 7.720691383   & -1.2793086172 & 1.6366305381 \\\\\n",
       "\\end{tabular}\n"
      ],
      "text/markdown": [
       "\n",
       "| data.outcome | prediction | error | square_error |\n",
       "|---|---|---|---|\n",
       "| 1.0           | 1.488351703   |  0.4883517034 | 0.2384873862  |\n",
       "| 0.5           | 1.854959920   |  1.3549599198 | 1.8359163844  |\n",
       "| 3.0           | 2.221568136   | -0.7784318637 | 0.6059561665  |\n",
       "| 4.0           | 2.954784569   | -1.0452154309 | 1.0924752969  |\n",
       "| 5.5           | 3.688001002   | -1.8119989980 | 3.2833403687  |\n",
       "| 5.0           | 4.421217435   | -0.5787825651 | 0.3349892577  |\n",
       "| 3.5           | 5.154433868   |  1.6544338677 | 2.7371514227  |\n",
       "| 4.0           | 5.521042084   |  1.5210420842 | 2.3135690218  |\n",
       "| 7.0           | 6.620866733   | -0.3791332665 | 0.1437420338  |\n",
       "| 6.5           | 7.354083166   |  0.8540831663 | 0.7294580550  |\n",
       "| 9.0           | 7.720691383   | -1.2793086172 | 1.6366305381  |\n",
       "\n"
      ],
      "text/plain": [
       "   data.outcome prediction  error         square_error\n",
       "1  1.0          1.488351703  0.4883517034 0.2384873862\n",
       "2  0.5          1.854959920  1.3549599198 1.8359163844\n",
       "3  3.0          2.221568136 -0.7784318637 0.6059561665\n",
       "4  4.0          2.954784569 -1.0452154309 1.0924752969\n",
       "5  5.5          3.688001002 -1.8119989980 3.2833403687\n",
       "6  5.0          4.421217435 -0.5787825651 0.3349892577\n",
       "7  3.5          5.154433868  1.6544338677 2.7371514227\n",
       "8  4.0          5.521042084  1.5210420842 2.3135690218\n",
       "9  7.0          6.620866733 -0.3791332665 0.1437420338\n",
       "10 6.5          7.354083166  0.8540831663 0.7294580550\n",
       "11 9.0          7.720691383 -1.2793086172 1.6366305381"
      ]
     },
     "metadata": {},
     "output_type": "display_data"
    },
    {
     "data": {
      "text/html": [
       "<table>\n",
       "<thead><tr><th scope=col>RMSE</th></tr></thead>\n",
       "<tbody>\n",
       "\t<tr><td>1.165867447</td></tr>\n",
       "</tbody>\n",
       "</table>\n"
      ],
      "text/latex": [
       "\\begin{tabular}{r|l}\n",
       " RMSE\\\\\n",
       "\\hline\n",
       "\t 1.165867447\\\\\n",
       "\\end{tabular}\n"
      ],
      "text/markdown": [
       "\n",
       "| RMSE |\n",
       "|---|\n",
       "| 1.165867447 |\n",
       "\n"
      ],
      "text/plain": [
       "  RMSE       \n",
       "1 1.165867447"
      ]
     },
     "metadata": {},
     "output_type": "display_data"
    }
   ],
   "source": [
    "prediction = predict(model, data)\n",
    "error = prediction-data$outcome\n",
    "square_error = error^2\n",
    "RMSE = sqrt(mean(square_error))\n",
    "\n",
    "data.frame(data$outcome, prediction, error, square_error)\n",
    "data.frame(RMSE)"
   ]
  },
  {
   "cell_type": "code",
   "execution_count": 43,
   "metadata": {},
   "outputs": [
    {
     "data": {
      "image/png": "[encoded data removed]",
      "text/plain": [
       "plot without title"
      ]
     },
     "metadata": {},
     "output_type": "display_data"
    }
   ],
   "source": [
    "ggplot(data) +\n",
    "geom_line(aes(x=x1, y=outcome, color=\"actual\")) + geom_point(aes(x1, y=outcome, color=\"actual\")) +\n",
    "geom_line(aes(x=x1, y=prediction, color=\"predicted\")) + geom_point(aes(x1, y=prediction, color=\"predicted\")) +\n",
    "scale_color_manual(values=PALETTE) + xlim(0,10) + ylim(0,10)"
   ]
  },
  {
   "cell_type": "code",
   "execution_count": 44,
   "metadata": {},
   "outputs": [
    {
     "data": {
      "image/png": "[encoded data removed]",
      "text/plain": [
       "plot without title"
      ]
     },
     "metadata": {},
     "output_type": "display_data"
    }
   ],
   "source": [
    "ggplot(data) +\n",
    "geom_line(aes(x=x1, y=error), color=PALETTE[4])+ geom_point(aes(x1, y=error), color=PALETTE[4]) +\n",
    "geom_hline(aes(yintercept=0)) + xlim(0,10) + ylim(-2.5,2.5)"
   ]
  },
  {
   "cell_type": "code",
   "execution_count": 45,
   "metadata": {},
   "outputs": [
    {
     "data": {
      "image/png": "[encoded data removed]",
      "text/plain": [
       "plot without title"
      ]
     },
     "metadata": {},
     "output_type": "display_data"
    }
   ],
   "source": [
    "ggplot(data) +\n",
    "geom_line(aes(x=x1, y=square_error), color=PALETTE[4])+ geom_point(aes(x1, y=square_error), color=PALETTE[4]) +\n",
    "geom_hline(aes(yintercept=0)) + xlim(0,10) + ylim(0,5)"
   ]
  },
  {
   "cell_type": "markdown",
   "metadata": {},
   "source": [
    "### Evaluation Method: Out-of-Sample Performance (aka Holdout Performance)\n",
    "\n",
    "Considered a better estimate of performance. Uses only some of the data to build a model, uses only some of the data to test a model, but uses different data for build and test. "
   ]
  },
  {
   "cell_type": "markdown",
   "metadata": {},
   "source": [
    "#### Reserve some fraction of the data as the holdout.\n",
    "\n",
    "Here we reserve 20% of the data as the holdout.  The rest of the data is the holdin. "
   ]
  },
  {
   "cell_type": "code",
   "execution_count": 46,
   "metadata": {
    "scrolled": true
   },
   "outputs": [
    {
     "data": {
      "text/html": [
       "<ol class=list-inline>\n",
       "\t<li>1</li>\n",
       "\t<li>2</li>\n",
       "\t<li>4</li>\n",
       "\t<li>5</li>\n",
       "\t<li>6</li>\n",
       "\t<li>7</li>\n",
       "\t<li>8</li>\n",
       "\t<li>9</li>\n",
       "\t<li>11</li>\n",
       "</ol>\n"
      ],
      "text/latex": [
       "\\begin{enumerate*}\n",
       "\\item 1\n",
       "\\item 2\n",
       "\\item 4\n",
       "\\item 5\n",
       "\\item 6\n",
       "\\item 7\n",
       "\\item 8\n",
       "\\item 9\n",
       "\\item 11\n",
       "\\end{enumerate*}\n"
      ],
      "text/markdown": [
       "1. 1\n",
       "2. 2\n",
       "3. 4\n",
       "4. 5\n",
       "5. 6\n",
       "6. 7\n",
       "7. 8\n",
       "8. 9\n",
       "9. 11\n",
       "\n",
       "\n"
      ],
      "text/plain": [
       "[1]  1  2  4  5  6  7  8  9 11"
      ]
     },
     "metadata": {},
     "output_type": "display_data"
    },
    {
     "data": {
      "text/html": [
       "<ol class=list-inline>\n",
       "\t<li>3</li>\n",
       "\t<li>10</li>\n",
       "</ol>\n"
      ],
      "text/latex": [
       "\\begin{enumerate*}\n",
       "\\item 3\n",
       "\\item 10\n",
       "\\end{enumerate*}\n"
      ],
      "text/markdown": [
       "1. 3\n",
       "2. 10\n",
       "\n",
       "\n"
      ],
      "text/plain": [
       "[1]  3 10"
      ]
     },
     "metadata": {},
     "output_type": "display_data"
    }
   ],
   "source": [
    "set.seed(12345)\n",
    "holdout = sample(1:nrow(data), 0.20*nrow(data))\n",
    "holdin = setdiff(1:nrow(data), holdout)\n",
    "\n",
    "holdin\n",
    "holdout"
   ]
  },
  {
   "cell_type": "markdown",
   "metadata": {},
   "source": [
    "#### Build model based on holdin data. \n",
    "\n",
    "Here we build a linear regression model. "
   ]
  },
  {
   "cell_type": "code",
   "execution_count": 47,
   "metadata": {},
   "outputs": [
    {
     "data": {
      "text/plain": [
       "\n",
       "Call:\n",
       "lm(formula = outcome ~ x1, data = data[holdin, ])\n",
       "\n",
       "Coefficients:\n",
       "(Intercept)           x1  \n",
       "  0.3305156    0.8207946  \n"
      ]
     },
     "metadata": {},
     "output_type": "display_data"
    }
   ],
   "source": [
    "model = lm(outcome~x1, data[holdin, ])\n",
    "model"
   ]
  },
  {
   "cell_type": "code",
   "execution_count": 48,
   "metadata": {},
   "outputs": [
    {
     "data": {
      "image/png": "[encoded data removed]",
      "text/plain": [
       "plot without title"
      ]
     },
     "metadata": {},
     "output_type": "display_data"
    }
   ],
   "source": [
    "ggplot(data[holdin, ]) +\n",
    "geom_line(aes(x=x1, y=outcome, color=\"actual\")) + geom_point(aes(x1, y=outcome, color=\"actual\")) +\n",
    "geom_abline(aes(intercept=model$coefficients[\"(Intercept)\"], slope=model$coefficients[\"x1\"], color=\"predicted\")) +\n",
    "scale_color_manual(values=PALETTE) + xlim(0,10) +ylim(0,10)"
   ]
  },
  {
   "cell_type": "markdown",
   "metadata": {},
   "source": [
    "#### Estimate performance of model based on holdout data. \n",
    "\n",
    "Here we use RMSE as the measure of performance."
   ]
  },
  {
   "cell_type": "code",
   "execution_count": 49,
   "metadata": {},
   "outputs": [
    {
     "data": {
      "text/html": [
       "<table>\n",
       "<thead><tr><th></th><th scope=col>data.outcome.holdout.</th><th scope=col>prediction</th><th scope=col>error</th><th scope=col>square_error</th></tr></thead>\n",
       "<tbody>\n",
       "\t<tr><th scope=row>3</th><td>3.0         </td><td>1.972104818 </td><td>-1.027895182</td><td>1.056568505 </td></tr>\n",
       "\t<tr><th scope=row>10</th><td>6.5         </td><td>7.717666948 </td><td> 1.217666948</td><td>1.482712797 </td></tr>\n",
       "</tbody>\n",
       "</table>\n"
      ],
      "text/latex": [
       "\\begin{tabular}{r|llll}\n",
       "  & data.outcome.holdout. & prediction & error & square\\_error\\\\\n",
       "\\hline\n",
       "\t3 & 3.0          & 1.972104818  & -1.027895182 & 1.056568505 \\\\\n",
       "\t10 & 6.5          & 7.717666948  &  1.217666948 & 1.482712797 \\\\\n",
       "\\end{tabular}\n"
      ],
      "text/markdown": [
       "\n",
       "| <!--/--> | data.outcome.holdout. | prediction | error | square_error |\n",
       "|---|---|---|---|---|\n",
       "| 3 | 3.0          | 1.972104818  | -1.027895182 | 1.056568505  |\n",
       "| 10 | 6.5          | 7.717666948  |  1.217666948 | 1.482712797  |\n",
       "\n"
      ],
      "text/plain": [
       "   data.outcome.holdout. prediction  error        square_error\n",
       "3  3.0                   1.972104818 -1.027895182 1.056568505 \n",
       "10 6.5                   7.717666948  1.217666948 1.482712797 "
      ]
     },
     "metadata": {},
     "output_type": "display_data"
    },
    {
     "data": {
      "text/html": [
       "<table>\n",
       "<thead><tr><th scope=col>RMSE</th></tr></thead>\n",
       "<tbody>\n",
       "\t<tr><td>1.12678332</td></tr>\n",
       "</tbody>\n",
       "</table>\n"
      ],
      "text/latex": [
       "\\begin{tabular}{r|l}\n",
       " RMSE\\\\\n",
       "\\hline\n",
       "\t 1.12678332\\\\\n",
       "\\end{tabular}\n"
      ],
      "text/markdown": [
       "\n",
       "| RMSE |\n",
       "|---|\n",
       "| 1.12678332 |\n",
       "\n"
      ],
      "text/plain": [
       "  RMSE      \n",
       "1 1.12678332"
      ]
     },
     "metadata": {},
     "output_type": "display_data"
    }
   ],
   "source": [
    "prediction = predict(model, data[holdout, ])\n",
    "error = prediction-data$outcome[holdout]\n",
    "square_error = error^2\n",
    "RMSE = sqrt(mean(square_error))\n",
    "\n",
    "data.frame(data$outcome[holdout], prediction, error, square_error)\n",
    "data.frame(RMSE)"
   ]
  },
  {
   "cell_type": "code",
   "execution_count": 50,
   "metadata": {},
   "outputs": [
    {
     "data": {
      "image/png": "[encoded data removed]",
      "text/plain": [
       "plot without title"
      ]
     },
     "metadata": {},
     "output_type": "display_data"
    }
   ],
   "source": [
    "ggplot(data[holdout, ]) +\n",
    "geom_line(aes(x=x1, y=outcome, color=\"actual\")) + geom_point(aes(x1, y=outcome, color=\"actual\")) +\n",
    "geom_line(aes(x=x1, y=prediction, color=\"predicted\")) + geom_point(aes(x1, y=prediction, color=\"predicted\")) +\n",
    "scale_color_manual(values=PALETTE) + xlim(0,10) + ylim(0,10)"
   ]
  },
  {
   "cell_type": "code",
   "execution_count": 51,
   "metadata": {},
   "outputs": [
    {
     "data": {
      "image/png": "[encoded data removed]",
      "text/plain": [
       "plot without title"
      ]
     },
     "metadata": {},
     "output_type": "display_data"
    }
   ],
   "source": [
    "ggplot(data[holdout, ]) +\n",
    "geom_line(aes(x=x1, y=error), color=PALETTE[4])+ geom_point(aes(x1, y=error), color=PALETTE[4]) +\n",
    "geom_hline(aes(yintercept=0)) + xlim(0,10) + ylim(-2.5,2.5)"
   ]
  },
  {
   "cell_type": "code",
   "execution_count": 52,
   "metadata": {
    "scrolled": true
   },
   "outputs": [
    {
     "data": {
      "image/png": "[encoded data removed]",
      "text/plain": [
       "plot without title"
      ]
     },
     "metadata": {},
     "output_type": "display_data"
    }
   ],
   "source": [
    "ggplot(data[holdout, ]) +\n",
    "geom_line(aes(x=x1, y=square_error), color=PALETTE[4])+ geom_point(aes(x1, y=square_error), color=PALETTE[4]) +\n",
    "geom_hline(aes(yintercept=0)) + xlim(0,10) + ylim(0,5)"
   ]
  },
  {
   "cell_type": "markdown",
   "metadata": {},
   "source": [
    "### Evaluation Method: Cross-Validation\n",
    "\n",
    "Considered among the best estimates of performance.  Uses all of the data to build a model, uses all of the data to test a model, and uses different data to build and test."
   ]
  },
  {
   "cell_type": "markdown",
   "metadata": {},
   "source": [
    "#### Define folds.\n",
    "\n",
    "Randomly partition the data into approximately equal-sized, non-overlapping subsets.  You choose the number of subsets.\n",
    "\n",
    "Then, for each subset, define a fold comprising test data and train data, where the test data is the subset and the train data is the rest.\n",
    "\n",
    "Here we choose 3 subsets, and so 3 folds.\n",
    "\n",
    "_**Implementation detail:** Use the `createFolds` and `creatFolds.train` functions to create a list of vectors of test observation indices, and a list of vectors of train observation indices, respectively._"
   ]
  },
  {
   "cell_type": "code",
   "execution_count": 53,
   "metadata": {},
   "outputs": [
    {
     "data": {
      "text/html": [
       "<dl>\n",
       "\t<dt>$Fold1</dt>\n",
       "\t\t<dd><ol class=list-inline>\n",
       "\t<li>1</li>\n",
       "\t<li>2</li>\n",
       "\t<li>3</li>\n",
       "\t<li>4</li>\n",
       "\t<li>5</li>\n",
       "\t<li>6</li>\n",
       "\t<li>11</li>\n",
       "</ol>\n",
       "</dd>\n",
       "\t<dt>$Fold2</dt>\n",
       "\t\t<dd><ol class=list-inline>\n",
       "\t<li>2</li>\n",
       "\t<li>3</li>\n",
       "\t<li>7</li>\n",
       "\t<li>8</li>\n",
       "\t<li>9</li>\n",
       "\t<li>10</li>\n",
       "\t<li>11</li>\n",
       "</ol>\n",
       "</dd>\n",
       "\t<dt>$Fold3</dt>\n",
       "\t\t<dd><ol class=list-inline>\n",
       "\t<li>1</li>\n",
       "\t<li>4</li>\n",
       "\t<li>5</li>\n",
       "\t<li>6</li>\n",
       "\t<li>7</li>\n",
       "\t<li>8</li>\n",
       "\t<li>9</li>\n",
       "\t<li>10</li>\n",
       "</ol>\n",
       "</dd>\n",
       "</dl>\n"
      ],
      "text/latex": [
       "\\begin{description}\n",
       "\\item[\\$Fold1] \\begin{enumerate*}\n",
       "\\item 1\n",
       "\\item 2\n",
       "\\item 3\n",
       "\\item 4\n",
       "\\item 5\n",
       "\\item 6\n",
       "\\item 11\n",
       "\\end{enumerate*}\n",
       "\n",
       "\\item[\\$Fold2] \\begin{enumerate*}\n",
       "\\item 2\n",
       "\\item 3\n",
       "\\item 7\n",
       "\\item 8\n",
       "\\item 9\n",
       "\\item 10\n",
       "\\item 11\n",
       "\\end{enumerate*}\n",
       "\n",
       "\\item[\\$Fold3] \\begin{enumerate*}\n",
       "\\item 1\n",
       "\\item 4\n",
       "\\item 5\n",
       "\\item 6\n",
       "\\item 7\n",
       "\\item 8\n",
       "\\item 9\n",
       "\\item 10\n",
       "\\end{enumerate*}\n",
       "\n",
       "\\end{description}\n"
      ],
      "text/markdown": [
       "$Fold1\n",
       ":   1. 1\n",
       "2. 2\n",
       "3. 3\n",
       "4. 4\n",
       "5. 5\n",
       "6. 6\n",
       "7. 11\n",
       "\n",
       "\n",
       "\n",
       "$Fold2\n",
       ":   1. 2\n",
       "2. 3\n",
       "3. 7\n",
       "4. 8\n",
       "5. 9\n",
       "6. 10\n",
       "7. 11\n",
       "\n",
       "\n",
       "\n",
       "$Fold3\n",
       ":   1. 1\n",
       "2. 4\n",
       "3. 5\n",
       "4. 6\n",
       "5. 7\n",
       "6. 8\n",
       "7. 9\n",
       "8. 10\n",
       "\n",
       "\n",
       "\n",
       "\n",
       "\n"
      ],
      "text/plain": [
       "$Fold1\n",
       "[1]  1  2  3  4  5  6 11\n",
       "\n",
       "$Fold2\n",
       "[1]  2  3  7  8  9 10 11\n",
       "\n",
       "$Fold3\n",
       "[1]  1  4  5  6  7  8  9 10\n"
      ]
     },
     "metadata": {},
     "output_type": "display_data"
    },
    {
     "data": {
      "text/html": [
       "<dl>\n",
       "\t<dt>$Fold1</dt>\n",
       "\t\t<dd><ol class=list-inline>\n",
       "\t<li>7</li>\n",
       "\t<li>8</li>\n",
       "\t<li>9</li>\n",
       "\t<li>10</li>\n",
       "</ol>\n",
       "</dd>\n",
       "\t<dt>$Fold2</dt>\n",
       "\t\t<dd><ol class=list-inline>\n",
       "\t<li>1</li>\n",
       "\t<li>4</li>\n",
       "\t<li>5</li>\n",
       "\t<li>6</li>\n",
       "</ol>\n",
       "</dd>\n",
       "\t<dt>$Fold3</dt>\n",
       "\t\t<dd><ol class=list-inline>\n",
       "\t<li>2</li>\n",
       "\t<li>3</li>\n",
       "\t<li>11</li>\n",
       "</ol>\n",
       "</dd>\n",
       "</dl>\n"
      ],
      "text/latex": [
       "\\begin{description}\n",
       "\\item[\\$Fold1] \\begin{enumerate*}\n",
       "\\item 7\n",
       "\\item 8\n",
       "\\item 9\n",
       "\\item 10\n",
       "\\end{enumerate*}\n",
       "\n",
       "\\item[\\$Fold2] \\begin{enumerate*}\n",
       "\\item 1\n",
       "\\item 4\n",
       "\\item 5\n",
       "\\item 6\n",
       "\\end{enumerate*}\n",
       "\n",
       "\\item[\\$Fold3] \\begin{enumerate*}\n",
       "\\item 2\n",
       "\\item 3\n",
       "\\item 11\n",
       "\\end{enumerate*}\n",
       "\n",
       "\\end{description}\n"
      ],
      "text/markdown": [
       "$Fold1\n",
       ":   1. 7\n",
       "2. 8\n",
       "3. 9\n",
       "4. 10\n",
       "\n",
       "\n",
       "\n",
       "$Fold2\n",
       ":   1. 1\n",
       "2. 4\n",
       "3. 5\n",
       "4. 6\n",
       "\n",
       "\n",
       "\n",
       "$Fold3\n",
       ":   1. 2\n",
       "2. 3\n",
       "3. 11\n",
       "\n",
       "\n",
       "\n",
       "\n",
       "\n"
      ],
      "text/plain": [
       "$Fold1\n",
       "[1]  7  8  9 10\n",
       "\n",
       "$Fold2\n",
       "[1] 1 4 5 6\n",
       "\n",
       "$Fold3\n",
       "[1]  2  3 11\n"
      ]
     },
     "metadata": {},
     "output_type": "display_data"
    }
   ],
   "source": [
    "set.seed(12345)\n",
    "test = createFolds(data$outcome, k=3)\n",
    "train = createFolds.train(data$outcome, test)\n",
    "\n",
    "train\n",
    "test"
   ]
  },
  {
   "cell_type": "markdown",
   "metadata": {},
   "source": [
    "Here are the train and test data of fold #1.\n",
    "\n",
    "_**Implementation detail:** Use the `[[...]]` notation to access a certain element of a list._"
   ]
  },
  {
   "cell_type": "code",
   "execution_count": 54,
   "metadata": {},
   "outputs": [
    {
     "data": {
      "text/html": [
       "<table>\n",
       "<thead><tr><th></th><th scope=col>x1</th><th scope=col>outcome</th></tr></thead>\n",
       "<tbody>\n",
       "\t<tr><th scope=row>1</th><td>1.0</td><td>1.0</td></tr>\n",
       "\t<tr><th scope=row>2</th><td>1.5</td><td>0.5</td></tr>\n",
       "\t<tr><th scope=row>3</th><td>2.0</td><td>3.0</td></tr>\n",
       "\t<tr><th scope=row>4</th><td>3.0</td><td>4.0</td></tr>\n",
       "\t<tr><th scope=row>5</th><td>4.0</td><td>5.5</td></tr>\n",
       "\t<tr><th scope=row>6</th><td>5.0</td><td>5.0</td></tr>\n",
       "\t<tr><th scope=row>11</th><td>9.5</td><td>9.0</td></tr>\n",
       "</tbody>\n",
       "</table>\n"
      ],
      "text/latex": [
       "\\begin{tabular}{r|ll}\n",
       "  & x1 & outcome\\\\\n",
       "\\hline\n",
       "\t1 & 1.0 & 1.0\\\\\n",
       "\t2 & 1.5 & 0.5\\\\\n",
       "\t3 & 2.0 & 3.0\\\\\n",
       "\t4 & 3.0 & 4.0\\\\\n",
       "\t5 & 4.0 & 5.5\\\\\n",
       "\t6 & 5.0 & 5.0\\\\\n",
       "\t11 & 9.5 & 9.0\\\\\n",
       "\\end{tabular}\n"
      ],
      "text/markdown": [
       "\n",
       "| <!--/--> | x1 | outcome |\n",
       "|---|---|---|\n",
       "| 1 | 1.0 | 1.0 |\n",
       "| 2 | 1.5 | 0.5 |\n",
       "| 3 | 2.0 | 3.0 |\n",
       "| 4 | 3.0 | 4.0 |\n",
       "| 5 | 4.0 | 5.5 |\n",
       "| 6 | 5.0 | 5.0 |\n",
       "| 11 | 9.5 | 9.0 |\n",
       "\n"
      ],
      "text/plain": [
       "   x1  outcome\n",
       "1  1.0 1.0    \n",
       "2  1.5 0.5    \n",
       "3  2.0 3.0    \n",
       "4  3.0 4.0    \n",
       "5  4.0 5.5    \n",
       "6  5.0 5.0    \n",
       "11 9.5 9.0    "
      ]
     },
     "metadata": {},
     "output_type": "display_data"
    },
    {
     "data": {
      "text/html": [
       "<table>\n",
       "<thead><tr><th></th><th scope=col>x1</th><th scope=col>outcome</th></tr></thead>\n",
       "<tbody>\n",
       "\t<tr><th scope=row>7</th><td>6.0</td><td>3.5</td></tr>\n",
       "\t<tr><th scope=row>8</th><td>6.5</td><td>4.0</td></tr>\n",
       "\t<tr><th scope=row>9</th><td>8.0</td><td>7.0</td></tr>\n",
       "\t<tr><th scope=row>10</th><td>9.0</td><td>6.5</td></tr>\n",
       "</tbody>\n",
       "</table>\n"
      ],
      "text/latex": [
       "\\begin{tabular}{r|ll}\n",
       "  & x1 & outcome\\\\\n",
       "\\hline\n",
       "\t7 & 6.0 & 3.5\\\\\n",
       "\t8 & 6.5 & 4.0\\\\\n",
       "\t9 & 8.0 & 7.0\\\\\n",
       "\t10 & 9.0 & 6.5\\\\\n",
       "\\end{tabular}\n"
      ],
      "text/markdown": [
       "\n",
       "| <!--/--> | x1 | outcome |\n",
       "|---|---|---|\n",
       "| 7 | 6.0 | 3.5 |\n",
       "| 8 | 6.5 | 4.0 |\n",
       "| 9 | 8.0 | 7.0 |\n",
       "| 10 | 9.0 | 6.5 |\n",
       "\n"
      ],
      "text/plain": [
       "   x1  outcome\n",
       "7  6.0 3.5    \n",
       "8  6.5 4.0    \n",
       "9  8.0 7.0    \n",
       "10 9.0 6.5    "
      ]
     },
     "metadata": {},
     "output_type": "display_data"
    }
   ],
   "source": [
    "data[train[[1]], ]\n",
    "data[test[[1]], ]"
   ]
  },
  {
   "cell_type": "markdown",
   "metadata": {},
   "source": [
    "Here are the train and test data of fold #2.\n",
    "\n",
    "_**Implementation detail:** Use the `[[...]]` notation to access a certain element of a list._"
   ]
  },
  {
   "cell_type": "code",
   "execution_count": 55,
   "metadata": {},
   "outputs": [
    {
     "data": {
      "text/html": [
       "<table>\n",
       "<thead><tr><th></th><th scope=col>x1</th><th scope=col>outcome</th></tr></thead>\n",
       "<tbody>\n",
       "\t<tr><th scope=row>2</th><td>1.5</td><td>0.5</td></tr>\n",
       "\t<tr><th scope=row>3</th><td>2.0</td><td>3.0</td></tr>\n",
       "\t<tr><th scope=row>7</th><td>6.0</td><td>3.5</td></tr>\n",
       "\t<tr><th scope=row>8</th><td>6.5</td><td>4.0</td></tr>\n",
       "\t<tr><th scope=row>9</th><td>8.0</td><td>7.0</td></tr>\n",
       "\t<tr><th scope=row>10</th><td>9.0</td><td>6.5</td></tr>\n",
       "\t<tr><th scope=row>11</th><td>9.5</td><td>9.0</td></tr>\n",
       "</tbody>\n",
       "</table>\n"
      ],
      "text/latex": [
       "\\begin{tabular}{r|ll}\n",
       "  & x1 & outcome\\\\\n",
       "\\hline\n",
       "\t2 & 1.5 & 0.5\\\\\n",
       "\t3 & 2.0 & 3.0\\\\\n",
       "\t7 & 6.0 & 3.5\\\\\n",
       "\t8 & 6.5 & 4.0\\\\\n",
       "\t9 & 8.0 & 7.0\\\\\n",
       "\t10 & 9.0 & 6.5\\\\\n",
       "\t11 & 9.5 & 9.0\\\\\n",
       "\\end{tabular}\n"
      ],
      "text/markdown": [
       "\n",
       "| <!--/--> | x1 | outcome |\n",
       "|---|---|---|\n",
       "| 2 | 1.5 | 0.5 |\n",
       "| 3 | 2.0 | 3.0 |\n",
       "| 7 | 6.0 | 3.5 |\n",
       "| 8 | 6.5 | 4.0 |\n",
       "| 9 | 8.0 | 7.0 |\n",
       "| 10 | 9.0 | 6.5 |\n",
       "| 11 | 9.5 | 9.0 |\n",
       "\n"
      ],
      "text/plain": [
       "   x1  outcome\n",
       "2  1.5 0.5    \n",
       "3  2.0 3.0    \n",
       "7  6.0 3.5    \n",
       "8  6.5 4.0    \n",
       "9  8.0 7.0    \n",
       "10 9.0 6.5    \n",
       "11 9.5 9.0    "
      ]
     },
     "metadata": {},
     "output_type": "display_data"
    },
    {
     "data": {
      "text/html": [
       "<table>\n",
       "<thead><tr><th></th><th scope=col>x1</th><th scope=col>outcome</th></tr></thead>\n",
       "<tbody>\n",
       "\t<tr><th scope=row>1</th><td>1  </td><td>1.0</td></tr>\n",
       "\t<tr><th scope=row>4</th><td>3  </td><td>4.0</td></tr>\n",
       "\t<tr><th scope=row>5</th><td>4  </td><td>5.5</td></tr>\n",
       "\t<tr><th scope=row>6</th><td>5  </td><td>5.0</td></tr>\n",
       "</tbody>\n",
       "</table>\n"
      ],
      "text/latex": [
       "\\begin{tabular}{r|ll}\n",
       "  & x1 & outcome\\\\\n",
       "\\hline\n",
       "\t1 & 1   & 1.0\\\\\n",
       "\t4 & 3   & 4.0\\\\\n",
       "\t5 & 4   & 5.5\\\\\n",
       "\t6 & 5   & 5.0\\\\\n",
       "\\end{tabular}\n"
      ],
      "text/markdown": [
       "\n",
       "| <!--/--> | x1 | outcome |\n",
       "|---|---|---|\n",
       "| 1 | 1   | 1.0 |\n",
       "| 4 | 3   | 4.0 |\n",
       "| 5 | 4   | 5.5 |\n",
       "| 6 | 5   | 5.0 |\n",
       "\n"
      ],
      "text/plain": [
       "  x1 outcome\n",
       "1 1  1.0    \n",
       "4 3  4.0    \n",
       "5 4  5.5    \n",
       "6 5  5.0    "
      ]
     },
     "metadata": {},
     "output_type": "display_data"
    }
   ],
   "source": [
    "data[train[[2]], ]\n",
    "data[test[[2]], ]"
   ]
  },
  {
   "cell_type": "markdown",
   "metadata": {},
   "source": [
    "Here are the train and test data of fold #3.\n",
    "\n",
    "_**Implementation detail:** Use the `[[...]]` notation to access a certain element of a list._"
   ]
  },
  {
   "cell_type": "code",
   "execution_count": 56,
   "metadata": {},
   "outputs": [
    {
     "data": {
      "text/html": [
       "<table>\n",
       "<thead><tr><th></th><th scope=col>x1</th><th scope=col>outcome</th></tr></thead>\n",
       "<tbody>\n",
       "\t<tr><th scope=row>1</th><td>1.0</td><td>1.0</td></tr>\n",
       "\t<tr><th scope=row>4</th><td>3.0</td><td>4.0</td></tr>\n",
       "\t<tr><th scope=row>5</th><td>4.0</td><td>5.5</td></tr>\n",
       "\t<tr><th scope=row>6</th><td>5.0</td><td>5.0</td></tr>\n",
       "\t<tr><th scope=row>7</th><td>6.0</td><td>3.5</td></tr>\n",
       "\t<tr><th scope=row>8</th><td>6.5</td><td>4.0</td></tr>\n",
       "\t<tr><th scope=row>9</th><td>8.0</td><td>7.0</td></tr>\n",
       "\t<tr><th scope=row>10</th><td>9.0</td><td>6.5</td></tr>\n",
       "</tbody>\n",
       "</table>\n"
      ],
      "text/latex": [
       "\\begin{tabular}{r|ll}\n",
       "  & x1 & outcome\\\\\n",
       "\\hline\n",
       "\t1 & 1.0 & 1.0\\\\\n",
       "\t4 & 3.0 & 4.0\\\\\n",
       "\t5 & 4.0 & 5.5\\\\\n",
       "\t6 & 5.0 & 5.0\\\\\n",
       "\t7 & 6.0 & 3.5\\\\\n",
       "\t8 & 6.5 & 4.0\\\\\n",
       "\t9 & 8.0 & 7.0\\\\\n",
       "\t10 & 9.0 & 6.5\\\\\n",
       "\\end{tabular}\n"
      ],
      "text/markdown": [
       "\n",
       "| <!--/--> | x1 | outcome |\n",
       "|---|---|---|\n",
       "| 1 | 1.0 | 1.0 |\n",
       "| 4 | 3.0 | 4.0 |\n",
       "| 5 | 4.0 | 5.5 |\n",
       "| 6 | 5.0 | 5.0 |\n",
       "| 7 | 6.0 | 3.5 |\n",
       "| 8 | 6.5 | 4.0 |\n",
       "| 9 | 8.0 | 7.0 |\n",
       "| 10 | 9.0 | 6.5 |\n",
       "\n"
      ],
      "text/plain": [
       "   x1  outcome\n",
       "1  1.0 1.0    \n",
       "4  3.0 4.0    \n",
       "5  4.0 5.5    \n",
       "6  5.0 5.0    \n",
       "7  6.0 3.5    \n",
       "8  6.5 4.0    \n",
       "9  8.0 7.0    \n",
       "10 9.0 6.5    "
      ]
     },
     "metadata": {},
     "output_type": "display_data"
    },
    {
     "data": {
      "text/html": [
       "<table>\n",
       "<thead><tr><th></th><th scope=col>x1</th><th scope=col>outcome</th></tr></thead>\n",
       "<tbody>\n",
       "\t<tr><th scope=row>2</th><td>1.5</td><td>0.5</td></tr>\n",
       "\t<tr><th scope=row>3</th><td>2.0</td><td>3.0</td></tr>\n",
       "\t<tr><th scope=row>11</th><td>9.5</td><td>9.0</td></tr>\n",
       "</tbody>\n",
       "</table>\n"
      ],
      "text/latex": [
       "\\begin{tabular}{r|ll}\n",
       "  & x1 & outcome\\\\\n",
       "\\hline\n",
       "\t2 & 1.5 & 0.5\\\\\n",
       "\t3 & 2.0 & 3.0\\\\\n",
       "\t11 & 9.5 & 9.0\\\\\n",
       "\\end{tabular}\n"
      ],
      "text/markdown": [
       "\n",
       "| <!--/--> | x1 | outcome |\n",
       "|---|---|---|\n",
       "| 2 | 1.5 | 0.5 |\n",
       "| 3 | 2.0 | 3.0 |\n",
       "| 11 | 9.5 | 9.0 |\n",
       "\n"
      ],
      "text/plain": [
       "   x1  outcome\n",
       "2  1.5 0.5    \n",
       "3  2.0 3.0    \n",
       "11 9.5 9.0    "
      ]
     },
     "metadata": {},
     "output_type": "display_data"
    }
   ],
   "source": [
    "data[train[[3]], ]\n",
    "data[test[[3]], ]"
   ]
  },
  {
   "cell_type": "markdown",
   "metadata": {},
   "source": [
    "#### For each fold, build a model based on _train_ data.\n",
    "\n",
    "Use the same method and hyper-parameter settings for each model.\n",
    "\n",
    "_**Implementation detail:** You can create a list and assign each of your models to be an element of that list.  Use the `[[...]]` notation to access a certain element of a list._"
   ]
  },
  {
   "cell_type": "code",
   "execution_count": 57,
   "metadata": {},
   "outputs": [
    {
     "data": {
      "text/plain": [
       "[[1]]\n",
       "\n",
       "Call:\n",
       "lm(formula = outcome ~ x1, data = data[train[[1]], ])\n",
       "\n",
       "Coefficients:\n",
       "(Intercept)           x1  \n",
       "  0.4810659    0.9474053  \n",
       "\n",
       "\n",
       "[[2]]\n",
       "\n",
       "Call:\n",
       "lm(formula = outcome ~ x1, data = data[train[[2]], ])\n",
       "\n",
       "Coefficients:\n",
       "(Intercept)           x1  \n",
       " -0.1684028    0.8159722  \n",
       "\n",
       "\n",
       "[[3]]\n",
       "\n",
       "Call:\n",
       "lm(formula = outcome ~ x1, data = data[train[[3]], ])\n",
       "\n",
       "Coefficients:\n",
       "(Intercept)           x1  \n",
       "  1.5380400    0.5693101  \n",
       "\n"
      ]
     },
     "metadata": {},
     "output_type": "display_data"
    }
   ],
   "source": [
    "model = list()\n",
    "\n",
    "model[[1]] = lm(outcome~x1, data[train[[1]],])\n",
    "model[[2]] = lm(outcome~x1, data[train[[2]],])\n",
    "model[[3]] = lm(outcome~x1, data[train[[3]],])\n",
    "\n",
    "model"
   ]
  },
  {
   "cell_type": "code",
   "execution_count": 58,
   "metadata": {},
   "outputs": [
    {
     "data": {
      "image/png": "[encoded data removed]",
      "text/plain": [
       "plot without title"
      ]
     },
     "metadata": {},
     "output_type": "display_data"
    }
   ],
   "source": [
    "grid.arrange(ggplot(data[train[[1]],]) +\n",
    "             geom_line(aes(x=x1, y=outcome, color=\"actual\")) + geom_point(aes(x1, y=outcome, color=\"actual\")) +\n",
    "             geom_abline(aes(intercept=model[[1]]$coefficients[\"(Intercept)\"], slope=model[[1]]$coefficients[\"x1\"], color=\"predicted\")) +\n",
    "             scale_color_manual(values=PALETTE) + xlim(0,10) + ylim(0,10) + theme.legend_bottom,\n",
    "             \n",
    "             ggplot(data[train[[2]],]) +\n",
    "             geom_line(aes(x=x1, y=outcome, color=\"actual\")) + geom_point(aes(x1, y=outcome, color=\"actual\")) +\n",
    "             geom_abline(aes(intercept=model[[2]]$coefficients[\"(Intercept)\"], slope=model[[2]]$coefficients[\"x1\"], color=\"predicted\")) +\n",
    "             scale_color_manual(values=PALETTE) + xlim(0,10) + ylim(0,10) + theme.legend_bottom,\n",
    "             \n",
    "             ggplot(data[train[[3]],]) +\n",
    "             geom_line(aes(x=x1, y=outcome, color=\"actual\")) + geom_point(aes(x1, y=outcome, color=\"actual\")) +\n",
    "             geom_abline(aes(intercept=model[[3]]$coefficients[\"(Intercept)\"], slope=model[[3]]$coefficients[\"x1\"], color=\"predicted\")) +\n",
    "             scale_color_manual(values=PALETTE) + xlim(0,10) + ylim(0,10) + theme.legend_bottom,\n",
    "             \n",
    "             nrow=1)"
   ]
  },
  {
   "cell_type": "markdown",
   "metadata": {},
   "source": [
    "#### With each model, predict the corresponding _test_ data and calculate the per observation performance measures (hits or errors)."
   ]
  },
  {
   "cell_type": "code",
   "execution_count": 59,
   "metadata": {},
   "outputs": [
    {
     "data": {
      "text/html": [
       "<ol>\n",
       "\t<li><table>\n",
       "<thead><tr><th></th><th scope=col>x1</th><th scope=col>outcome</th><th scope=col>outcome.predicted</th><th scope=col>error</th></tr></thead>\n",
       "<tbody>\n",
       "\t<tr><th scope=row>7</th><td>6.0        </td><td>3.5        </td><td>6.165497896</td><td>2.665497896</td></tr>\n",
       "\t<tr><th scope=row>8</th><td>6.5        </td><td>4.0        </td><td>6.639200561</td><td>2.639200561</td></tr>\n",
       "\t<tr><th scope=row>9</th><td>8.0        </td><td>7.0        </td><td>8.060308555</td><td>1.060308555</td></tr>\n",
       "\t<tr><th scope=row>10</th><td>9.0        </td><td>6.5        </td><td>9.007713885</td><td>2.507713885</td></tr>\n",
       "</tbody>\n",
       "</table>\n",
       "</li>\n",
       "\t<li><table>\n",
       "<thead><tr><th></th><th scope=col>x1</th><th scope=col>outcome</th><th scope=col>outcome.predicted</th><th scope=col>error</th></tr></thead>\n",
       "<tbody>\n",
       "\t<tr><th scope=row>1</th><td>1            </td><td>1.0          </td><td>0.6475694444 </td><td>-0.3524305556</td></tr>\n",
       "\t<tr><th scope=row>4</th><td>3            </td><td>4.0          </td><td>2.2795138889 </td><td>-1.7204861111</td></tr>\n",
       "\t<tr><th scope=row>5</th><td>4            </td><td>5.5          </td><td>3.0954861111 </td><td>-2.4045138889</td></tr>\n",
       "\t<tr><th scope=row>6</th><td>5            </td><td>5.0          </td><td>3.9114583333 </td><td>-1.0885416667</td></tr>\n",
       "</tbody>\n",
       "</table>\n",
       "</li>\n",
       "\t<li><table>\n",
       "<thead><tr><th></th><th scope=col>x1</th><th scope=col>outcome</th><th scope=col>outcome.predicted</th><th scope=col>error</th></tr></thead>\n",
       "<tbody>\n",
       "\t<tr><th scope=row>2</th><td>1.5          </td><td>0.5          </td><td>2.392005158  </td><td> 1.8920051580</td></tr>\n",
       "\t<tr><th scope=row>3</th><td>2.0          </td><td>3.0          </td><td>2.676660219  </td><td>-0.3233397808</td></tr>\n",
       "\t<tr><th scope=row>11</th><td>9.5          </td><td>9.0          </td><td>6.946486138  </td><td>-2.0535138620</td></tr>\n",
       "</tbody>\n",
       "</table>\n",
       "</li>\n",
       "</ol>\n"
      ],
      "text/latex": [
       "\\begin{enumerate}\n",
       "\\item \\begin{tabular}{r|llll}\n",
       "  & x1 & outcome & outcome.predicted & error\\\\\n",
       "\\hline\n",
       "\t7 & 6.0         & 3.5         & 6.165497896 & 2.665497896\\\\\n",
       "\t8 & 6.5         & 4.0         & 6.639200561 & 2.639200561\\\\\n",
       "\t9 & 8.0         & 7.0         & 8.060308555 & 1.060308555\\\\\n",
       "\t10 & 9.0         & 6.5         & 9.007713885 & 2.507713885\\\\\n",
       "\\end{tabular}\n",
       "\n",
       "\\item \\begin{tabular}{r|llll}\n",
       "  & x1 & outcome & outcome.predicted & error\\\\\n",
       "\\hline\n",
       "\t1 & 1             & 1.0           & 0.6475694444  & -0.3524305556\\\\\n",
       "\t4 & 3             & 4.0           & 2.2795138889  & -1.7204861111\\\\\n",
       "\t5 & 4             & 5.5           & 3.0954861111  & -2.4045138889\\\\\n",
       "\t6 & 5             & 5.0           & 3.9114583333  & -1.0885416667\\\\\n",
       "\\end{tabular}\n",
       "\n",
       "\\item \\begin{tabular}{r|llll}\n",
       "  & x1 & outcome & outcome.predicted & error\\\\\n",
       "\\hline\n",
       "\t2 & 1.5           & 0.5           & 2.392005158   &  1.8920051580\\\\\n",
       "\t3 & 2.0           & 3.0           & 2.676660219   & -0.3233397808\\\\\n",
       "\t11 & 9.5           & 9.0           & 6.946486138   & -2.0535138620\\\\\n",
       "\\end{tabular}\n",
       "\n",
       "\\end{enumerate}\n"
      ],
      "text/markdown": [
       "1. \n",
       "| <!--/--> | x1 | outcome | outcome.predicted | error |\n",
       "|---|---|---|---|---|\n",
       "| 7 | 6.0         | 3.5         | 6.165497896 | 2.665497896 |\n",
       "| 8 | 6.5         | 4.0         | 6.639200561 | 2.639200561 |\n",
       "| 9 | 8.0         | 7.0         | 8.060308555 | 1.060308555 |\n",
       "| 10 | 9.0         | 6.5         | 9.007713885 | 2.507713885 |\n",
       "\n",
       "\n",
       "2. \n",
       "| <!--/--> | x1 | outcome | outcome.predicted | error |\n",
       "|---|---|---|---|---|\n",
       "| 1 | 1             | 1.0           | 0.6475694444  | -0.3524305556 |\n",
       "| 4 | 3             | 4.0           | 2.2795138889  | -1.7204861111 |\n",
       "| 5 | 4             | 5.5           | 3.0954861111  | -2.4045138889 |\n",
       "| 6 | 5             | 5.0           | 3.9114583333  | -1.0885416667 |\n",
       "\n",
       "\n",
       "3. \n",
       "| <!--/--> | x1 | outcome | outcome.predicted | error |\n",
       "|---|---|---|---|---|\n",
       "| 2 | 1.5           | 0.5           | 2.392005158   |  1.8920051580 |\n",
       "| 3 | 2.0           | 3.0           | 2.676660219   | -0.3233397808 |\n",
       "| 11 | 9.5           | 9.0           | 6.946486138   | -2.0535138620 |\n",
       "\n",
       "\n",
       "\n",
       "\n"
      ],
      "text/plain": [
       "[[1]]\n",
       "    x1 outcome outcome.predicted       error\n",
       "7  6.0     3.5       6.165497896 2.665497896\n",
       "8  6.5     4.0       6.639200561 2.639200561\n",
       "9  8.0     7.0       8.060308555 1.060308555\n",
       "10 9.0     6.5       9.007713885 2.507713885\n",
       "\n",
       "[[2]]\n",
       "  x1 outcome outcome.predicted         error\n",
       "1  1     1.0      0.6475694444 -0.3524305556\n",
       "4  3     4.0      2.2795138889 -1.7204861111\n",
       "5  4     5.5      3.0954861111 -2.4045138889\n",
       "6  5     5.0      3.9114583333 -1.0885416667\n",
       "\n",
       "[[3]]\n",
       "    x1 outcome outcome.predicted         error\n",
       "2  1.5     0.5       2.392005158  1.8920051580\n",
       "3  2.0     3.0       2.676660219 -0.3233397808\n",
       "11 9.5     9.0       6.946486138 -2.0535138620\n"
      ]
     },
     "metadata": {},
     "output_type": "display_data"
    }
   ],
   "source": [
    "result = list()\n",
    "\n",
    "result[[1]] = data[test[[1]],]\n",
    "result[[1]]$outcome.predicted = predict(model[[1]], data[test[[1]],])\n",
    "result[[1]]$error = result[[1]]$outcome.predicted - result[[1]]$outcome\n",
    "\n",
    "result[[2]] = data[test[[2]],]\n",
    "result[[2]]$outcome.predicted = predict(model[[2]], data[test[[2]],])\n",
    "result[[2]]$error = result[[2]]$outcome.predicted - result[[2]]$outcome\n",
    "\n",
    "\n",
    "result[[3]] = data[test[[3]],]\n",
    "result[[3]]$outcome.predicted = predict(model[[3]], data[test[[3]],])\n",
    "result[[3]]$error = result[[3]]$outcome.predicted - result[[3]]$outcome\n",
    "\n",
    "result"
   ]
  },
  {
   "cell_type": "code",
   "execution_count": 60,
   "metadata": {},
   "outputs": [
    {
     "data": {
      "image/png": "[encoded data removed]",
      "text/plain": [
       "plot without title"
      ]
     },
     "metadata": {},
     "output_type": "display_data"
    }
   ],
   "source": [
    "grid.arrange(ggplot(result[[1]]) +\n",
    "             geom_line(aes(x=x1, y=outcome, color=\"actual\")) + geom_point(aes(x1, y=outcome, color=\"actual\")) +\n",
    "             geom_line(aes(x=x1, y=outcome.predicted, color=\"predicted\")) + geom_point(aes(x1, y=outcome.predicted, color=\"predicted\")) +\n",
    "             scale_color_manual(values=PALETTE) + xlim(0,10) + ylim(0,10) + theme.legend_bottom,\n",
    "             \n",
    "             ggplot(result[[2]]) +\n",
    "             geom_line(aes(x=x1, y=outcome, color=\"actual\")) + geom_point(aes(x1, y=outcome, color=\"actual\")) +\n",
    "             geom_line(aes(x=x1, y=outcome.predicted, color=\"predicted\")) + geom_point(aes(x1, y=outcome.predicted, color=\"predicted\")) +\n",
    "             scale_color_manual(values=PALETTE) + xlim(0,10) + ylim(0,10) + theme.legend_bottom,\n",
    "             \n",
    "             ggplot(result[[3]]) +\n",
    "             geom_line(aes(x=x1, y=outcome, color=\"actual\")) + geom_point(aes(x1, y=outcome, color=\"actual\")) +\n",
    "             geom_line(aes(x=x1, y=outcome.predicted, color=\"predicted\")) + geom_point(aes(x1, y=outcome.predicted, color=\"predicted\")) +\n",
    "             scale_color_manual(values=PALETTE) + xlim(0,10) + ylim(0,10) + theme.legend_bottom,\n",
    "             \n",
    "             nrow=1)"
   ]
  },
  {
   "cell_type": "markdown",
   "metadata": {},
   "source": [
    "#### For each set of per observation performance measures, calculate the overall performance measure."
   ]
  },
  {
   "cell_type": "code",
   "execution_count": 61,
   "metadata": {},
   "outputs": [
    {
     "data": {
      "text/html": [
       "<ol class=list-inline>\n",
       "\t<li>2.31749551227138</li>\n",
       "\t<li>1.58515691312757</li>\n",
       "\t<li>1.62287310174712</li>\n",
       "</ol>\n"
      ],
      "text/latex": [
       "\\begin{enumerate*}\n",
       "\\item 2.31749551227138\n",
       "\\item 1.58515691312757\n",
       "\\item 1.62287310174712\n",
       "\\end{enumerate*}\n"
      ],
      "text/markdown": [
       "1. 2.31749551227138\n",
       "2. 1.58515691312757\n",
       "3. 1.62287310174712\n",
       "\n",
       "\n"
      ],
      "text/plain": [
       "[1] 2.317495512 1.585156913 1.622873102"
      ]
     },
     "metadata": {},
     "output_type": "display_data"
    }
   ],
   "source": [
    "RMSE = c()\n",
    "RMSE[1] = sqrt(mean(result[[1]]$error^2))\n",
    "RMSE[2] = sqrt(mean(result[[2]]$error^2))\n",
    "RMSE[3] = sqrt(mean(result[[3]]$error^2))\n",
    "\n",
    "RMSE"
   ]
  },
  {
   "cell_type": "markdown",
   "metadata": {},
   "source": [
    "#### Calculate one overall performance measure as the mean of the previously calculated overall performance measures.\n",
    "\n",
    "This one overall performance measure is an estimate of the performance measure of a model that could be built using **all** the data.  Note that we never actually built a model using all data when we used cross-validation to evaluate it.  "
   ]
  },
  {
   "cell_type": "code",
   "execution_count": 62,
   "metadata": {},
   "outputs": [
    {
     "data": {
      "text/html": [
       "<table>\n",
       "<thead><tr><th scope=col>RMSE</th></tr></thead>\n",
       "<tbody>\n",
       "\t<tr><td>1.841841842</td></tr>\n",
       "</tbody>\n",
       "</table>\n"
      ],
      "text/latex": [
       "\\begin{tabular}{r|l}\n",
       " RMSE\\\\\n",
       "\\hline\n",
       "\t 1.841841842\\\\\n",
       "\\end{tabular}\n"
      ],
      "text/markdown": [
       "\n",
       "| RMSE |\n",
       "|---|\n",
       "| 1.841841842 |\n",
       "\n"
      ],
      "text/plain": [
       "  RMSE       \n",
       "1 1.841841842"
      ]
     },
     "metadata": {},
     "output_type": "display_data"
    }
   ],
   "source": [
    "data.frame(RMSE=mean(RMSE))"
   ]
  },
  {
   "cell_type": "markdown",
   "metadata": {},
   "source": [
    "### Cross-Validation (implementation with R `for` loop)\n",
    "\n",
    "For convenience, you can use the R `for` loop to code the cross-validation method.\n",
    "\n",
    "Here, see how this code can be used for cross-validation assuming any number of folds."
   ]
  },
  {
   "cell_type": "code",
   "execution_count": 63,
   "metadata": {},
   "outputs": [
    {
     "data": {
      "text/html": [
       "<ol>\n",
       "\t<li><table>\n",
       "<thead><tr><th></th><th scope=col>x1</th><th scope=col>outcome</th><th scope=col>outcome.predicted</th><th scope=col>error</th></tr></thead>\n",
       "<tbody>\n",
       "\t<tr><th scope=row>7</th><td>6.0        </td><td>3.5        </td><td>6.165497896</td><td>2.665497896</td></tr>\n",
       "\t<tr><th scope=row>8</th><td>6.5        </td><td>4.0        </td><td>6.639200561</td><td>2.639200561</td></tr>\n",
       "\t<tr><th scope=row>9</th><td>8.0        </td><td>7.0        </td><td>8.060308555</td><td>1.060308555</td></tr>\n",
       "\t<tr><th scope=row>10</th><td>9.0        </td><td>6.5        </td><td>9.007713885</td><td>2.507713885</td></tr>\n",
       "</tbody>\n",
       "</table>\n",
       "</li>\n",
       "\t<li><table>\n",
       "<thead><tr><th></th><th scope=col>x1</th><th scope=col>outcome</th><th scope=col>outcome.predicted</th><th scope=col>error</th></tr></thead>\n",
       "<tbody>\n",
       "\t<tr><th scope=row>1</th><td>1            </td><td>1.0          </td><td>0.6475694444 </td><td>-0.3524305556</td></tr>\n",
       "\t<tr><th scope=row>4</th><td>3            </td><td>4.0          </td><td>2.2795138889 </td><td>-1.7204861111</td></tr>\n",
       "\t<tr><th scope=row>5</th><td>4            </td><td>5.5          </td><td>3.0954861111 </td><td>-2.4045138889</td></tr>\n",
       "\t<tr><th scope=row>6</th><td>5            </td><td>5.0          </td><td>3.9114583333 </td><td>-1.0885416667</td></tr>\n",
       "</tbody>\n",
       "</table>\n",
       "</li>\n",
       "\t<li><table>\n",
       "<thead><tr><th></th><th scope=col>x1</th><th scope=col>outcome</th><th scope=col>outcome.predicted</th><th scope=col>error</th></tr></thead>\n",
       "<tbody>\n",
       "\t<tr><th scope=row>2</th><td>1.5          </td><td>0.5          </td><td>2.392005158  </td><td> 1.8920051580</td></tr>\n",
       "\t<tr><th scope=row>3</th><td>2.0          </td><td>3.0          </td><td>2.676660219  </td><td>-0.3233397808</td></tr>\n",
       "\t<tr><th scope=row>11</th><td>9.5          </td><td>9.0          </td><td>6.946486138  </td><td>-2.0535138620</td></tr>\n",
       "</tbody>\n",
       "</table>\n",
       "</li>\n",
       "</ol>\n"
      ],
      "text/latex": [
       "\\begin{enumerate}\n",
       "\\item \\begin{tabular}{r|llll}\n",
       "  & x1 & outcome & outcome.predicted & error\\\\\n",
       "\\hline\n",
       "\t7 & 6.0         & 3.5         & 6.165497896 & 2.665497896\\\\\n",
       "\t8 & 6.5         & 4.0         & 6.639200561 & 2.639200561\\\\\n",
       "\t9 & 8.0         & 7.0         & 8.060308555 & 1.060308555\\\\\n",
       "\t10 & 9.0         & 6.5         & 9.007713885 & 2.507713885\\\\\n",
       "\\end{tabular}\n",
       "\n",
       "\\item \\begin{tabular}{r|llll}\n",
       "  & x1 & outcome & outcome.predicted & error\\\\\n",
       "\\hline\n",
       "\t1 & 1             & 1.0           & 0.6475694444  & -0.3524305556\\\\\n",
       "\t4 & 3             & 4.0           & 2.2795138889  & -1.7204861111\\\\\n",
       "\t5 & 4             & 5.5           & 3.0954861111  & -2.4045138889\\\\\n",
       "\t6 & 5             & 5.0           & 3.9114583333  & -1.0885416667\\\\\n",
       "\\end{tabular}\n",
       "\n",
       "\\item \\begin{tabular}{r|llll}\n",
       "  & x1 & outcome & outcome.predicted & error\\\\\n",
       "\\hline\n",
       "\t2 & 1.5           & 0.5           & 2.392005158   &  1.8920051580\\\\\n",
       "\t3 & 2.0           & 3.0           & 2.676660219   & -0.3233397808\\\\\n",
       "\t11 & 9.5           & 9.0           & 6.946486138   & -2.0535138620\\\\\n",
       "\\end{tabular}\n",
       "\n",
       "\\end{enumerate}\n"
      ],
      "text/markdown": [
       "1. \n",
       "| <!--/--> | x1 | outcome | outcome.predicted | error |\n",
       "|---|---|---|---|---|\n",
       "| 7 | 6.0         | 3.5         | 6.165497896 | 2.665497896 |\n",
       "| 8 | 6.5         | 4.0         | 6.639200561 | 2.639200561 |\n",
       "| 9 | 8.0         | 7.0         | 8.060308555 | 1.060308555 |\n",
       "| 10 | 9.0         | 6.5         | 9.007713885 | 2.507713885 |\n",
       "\n",
       "\n",
       "2. \n",
       "| <!--/--> | x1 | outcome | outcome.predicted | error |\n",
       "|---|---|---|---|---|\n",
       "| 1 | 1             | 1.0           | 0.6475694444  | -0.3524305556 |\n",
       "| 4 | 3             | 4.0           | 2.2795138889  | -1.7204861111 |\n",
       "| 5 | 4             | 5.5           | 3.0954861111  | -2.4045138889 |\n",
       "| 6 | 5             | 5.0           | 3.9114583333  | -1.0885416667 |\n",
       "\n",
       "\n",
       "3. \n",
       "| <!--/--> | x1 | outcome | outcome.predicted | error |\n",
       "|---|---|---|---|---|\n",
       "| 2 | 1.5           | 0.5           | 2.392005158   |  1.8920051580 |\n",
       "| 3 | 2.0           | 3.0           | 2.676660219   | -0.3233397808 |\n",
       "| 11 | 9.5           | 9.0           | 6.946486138   | -2.0535138620 |\n",
       "\n",
       "\n",
       "\n",
       "\n"
      ],
      "text/plain": [
       "[[1]]\n",
       "    x1 outcome outcome.predicted       error\n",
       "7  6.0     3.5       6.165497896 2.665497896\n",
       "8  6.5     4.0       6.639200561 2.639200561\n",
       "9  8.0     7.0       8.060308555 1.060308555\n",
       "10 9.0     6.5       9.007713885 2.507713885\n",
       "\n",
       "[[2]]\n",
       "  x1 outcome outcome.predicted         error\n",
       "1  1     1.0      0.6475694444 -0.3524305556\n",
       "4  3     4.0      2.2795138889 -1.7204861111\n",
       "5  4     5.5      3.0954861111 -2.4045138889\n",
       "6  5     5.0      3.9114583333 -1.0885416667\n",
       "\n",
       "[[3]]\n",
       "    x1 outcome outcome.predicted         error\n",
       "2  1.5     0.5       2.392005158  1.8920051580\n",
       "3  2.0     3.0       2.676660219 -0.3233397808\n",
       "11 9.5     9.0       6.946486138 -2.0535138620\n"
      ]
     },
     "metadata": {},
     "output_type": "display_data"
    },
    {
     "data": {
      "text/html": [
       "<ol class=list-inline>\n",
       "\t<li>2.31749551227138</li>\n",
       "\t<li>1.58515691312757</li>\n",
       "\t<li>1.62287310174712</li>\n",
       "</ol>\n"
      ],
      "text/latex": [
       "\\begin{enumerate*}\n",
       "\\item 2.31749551227138\n",
       "\\item 1.58515691312757\n",
       "\\item 1.62287310174712\n",
       "\\end{enumerate*}\n"
      ],
      "text/markdown": [
       "1. 2.31749551227138\n",
       "2. 1.58515691312757\n",
       "3. 1.62287310174712\n",
       "\n",
       "\n"
      ],
      "text/plain": [
       "[1] 2.317495512 1.585156913 1.622873102"
      ]
     },
     "metadata": {},
     "output_type": "display_data"
    },
    {
     "data": {
      "text/html": [
       "<table>\n",
       "<thead><tr><th scope=col>RMSE</th></tr></thead>\n",
       "<tbody>\n",
       "\t<tr><td>1.841841842</td></tr>\n",
       "</tbody>\n",
       "</table>\n"
      ],
      "text/latex": [
       "\\begin{tabular}{r|l}\n",
       " RMSE\\\\\n",
       "\\hline\n",
       "\t 1.841841842\\\\\n",
       "\\end{tabular}\n"
      ],
      "text/markdown": [
       "\n",
       "| RMSE |\n",
       "|---|\n",
       "| 1.841841842 |\n",
       "\n"
      ],
      "text/plain": [
       "  RMSE       \n",
       "1 1.841841842"
      ]
     },
     "metadata": {},
     "output_type": "display_data"
    }
   ],
   "source": [
    "nfold = 3 # try different number of folds\n",
    "\n",
    "set.seed(12345)\n",
    "test = createFolds(data$outcome, k=nfold)\n",
    "train = createFolds.train(data$outcome, test)\n",
    "\n",
    "model = list()\n",
    "result = list()\n",
    "RMSE = c()\n",
    "\n",
    "for (fold in 1:nfold)\n",
    "{\n",
    "  model[[fold]] = lm(outcome~x1, data[train[[fold]],])\n",
    "  \n",
    "  result[[fold]] = data[test[[fold]],]\n",
    "  result[[fold]]$outcome.predicted = predict(model[[fold]], data[test[[fold]],])\n",
    "  result[[fold]]$error = result[[fold]]$outcome.predicted - result[[fold]]$outcome\n",
    "  RMSE[fold] = sqrt(mean(result[[fold]]$error^2))\n",
    "}\n",
    "    \n",
    "result\n",
    "RMSE\n",
    "data.frame(RMSE=mean(RMSE))"
   ]
  },
  {
   "cell_type": "markdown",
   "metadata": {},
   "source": [
    "### Tuning\n",
    "\n",
    "Find the hyper-parameter settings (among may choices) that result in the model with the best performance."
   ]
  },
  {
   "cell_type": "markdown",
   "metadata": {},
   "source": [
    "Here we use cross-validation to evaluate a specific support vector machine model that was built with certain `kernel`, `degree`, `gamma`, and `cost` hyper-parameter settings.  We calculate the overall performance measure, accordingly."
   ]
  },
  {
   "cell_type": "code",
   "execution_count": 64,
   "metadata": {},
   "outputs": [
    {
     "data": {
      "text/html": [
       "<table>\n",
       "<thead><tr><th scope=col>RMSE</th></tr></thead>\n",
       "<tbody>\n",
       "\t<tr><td>0.9017560837</td></tr>\n",
       "</tbody>\n",
       "</table>\n"
      ],
      "text/latex": [
       "\\begin{tabular}{r|l}\n",
       " RMSE\\\\\n",
       "\\hline\n",
       "\t 0.9017560837\\\\\n",
       "\\end{tabular}\n"
      ],
      "text/markdown": [
       "\n",
       "| RMSE |\n",
       "|---|\n",
       "| 0.9017560837 |\n",
       "\n"
      ],
      "text/plain": [
       "  RMSE        \n",
       "1 0.9017560837"
      ]
     },
     "metadata": {},
     "output_type": "display_data"
    }
   ],
   "source": [
    "nfold = 5\n",
    "\n",
    "set.seed(12345)\n",
    "test = createFolds(data$outcome, k=nfold)\n",
    "train = createFolds.train(data$outcome, test)\n",
    "\n",
    "model = list()\n",
    "result = list()\n",
    "RMSE = c()\n",
    "\n",
    "for (fold in 1:nfold)\n",
    "{\n",
    "  model[[fold]] = svm(outcome~x1, data[train[[fold]],], type=\"eps-regression\", kernel=\"polynomial\", degree=3, gamma=1, cost=1)  \n",
    "  result[[fold]] = data[test[[fold]],]\n",
    "  result[[fold]]$outcome.predicted = predict(model[[fold]], data[test[[fold]],])\n",
    "  result[[fold]]$error = result[[fold]]$outcome.predicted - result[[fold]]$outcome\n",
    "  RMSE[fold] = sqrt(mean(result[[fold]]$error^2))\n",
    "}\n",
    "    \n",
    "data.frame(RMSE=mean(RMSE))"
   ]
  },
  {
   "cell_type": "markdown",
   "metadata": {},
   "source": [
    "Here we use the R `for` loop for cross-validation **within** another R `for` loop to sequence through various settings for the `cost` hyper-parameter.    We calculate the overall performance measure for each model corresponding to a `cost` hyper-parameter setting, accordingly, choose the model with the best performance."
   ]
  },
  {
   "cell_type": "code",
   "execution_count": 65,
   "metadata": {},
   "outputs": [
    {
     "data": {
      "text/html": [
       "<table>\n",
       "<thead><tr><th scope=col>method</th><th scope=col>cost</th><th scope=col>RMSE</th></tr></thead>\n",
       "<tbody>\n",
       "\t<tr><td>svm         </td><td>  0.1       </td><td>1.0394036800</td></tr>\n",
       "\t<tr><td>svm         </td><td>  1.0       </td><td>0.9017560837</td></tr>\n",
       "\t<tr><td>svm         </td><td> 10.0       </td><td>1.2734926154</td></tr>\n",
       "\t<tr><td>svm         </td><td>100.0       </td><td>1.2734910984</td></tr>\n",
       "</tbody>\n",
       "</table>\n"
      ],
      "text/latex": [
       "\\begin{tabular}{r|lll}\n",
       " method & cost & RMSE\\\\\n",
       "\\hline\n",
       "\t svm          &   0.1        & 1.0394036800\\\\\n",
       "\t svm          &   1.0        & 0.9017560837\\\\\n",
       "\t svm          &  10.0        & 1.2734926154\\\\\n",
       "\t svm          & 100.0        & 1.2734910984\\\\\n",
       "\\end{tabular}\n"
      ],
      "text/markdown": [
       "\n",
       "| method | cost | RMSE |\n",
       "|---|---|---|\n",
       "| svm          |   0.1        | 1.0394036800 |\n",
       "| svm          |   1.0        | 0.9017560837 |\n",
       "| svm          |  10.0        | 1.2734926154 |\n",
       "| svm          | 100.0        | 1.2734910984 |\n",
       "\n"
      ],
      "text/plain": [
       "  method cost  RMSE        \n",
       "1 svm      0.1 1.0394036800\n",
       "2 svm      1.0 0.9017560837\n",
       "3 svm     10.0 1.2734926154\n",
       "4 svm    100.0 1.2734910984"
      ]
     },
     "metadata": {},
     "output_type": "display_data"
    }
   ],
   "source": [
    "nfold = 5\n",
    "\n",
    "set.seed(12345)\n",
    "test = createFolds(data$outcome, k=nfold)\n",
    "train = createFolds.train(data$outcome, test)\n",
    "\n",
    "tune = data.frame()\n",
    "\n",
    "for (cost in c(0.1,1,10,100))\n",
    "{\n",
    "  model = list()\n",
    "  result = list()\n",
    "  RMSE = c()\n",
    "\n",
    "  for (fold in 1:nfold)\n",
    "  {\n",
    "    model[[fold]] = svm(outcome~x1, data[train[[fold]],], type=\"eps-regression\", kernel=\"polynomial\", degree=3, gamma=1, cost=cost)\n",
    "  \n",
    "    result[[fold]] = data[test[[fold]],]\n",
    "    result[[fold]]$outcome.predicted = predict(model[[fold]], data[test[[fold]],])\n",
    "    result[[fold]]$error = result[[fold]]$outcome.predicted - result[[fold]]$outcome\n",
    "    RMSE[fold] = sqrt(mean(result[[fold]]$error^2))\n",
    "  }\n",
    "\n",
    "  tune = rbind(tune, data.frame(method=\"svm\", cost=cost, RMSE=mean(RMSE)))\n",
    "}\n",
    "\n",
    "tune"
   ]
  },
  {
   "cell_type": "code",
   "execution_count": 66,
   "metadata": {},
   "outputs": [
    {
     "data": {
      "text/html": [
       "<table>\n",
       "<thead><tr><th></th><th scope=col>method</th><th scope=col>cost</th><th scope=col>RMSE</th></tr></thead>\n",
       "<tbody>\n",
       "\t<tr><th scope=row>2</th><td>svm         </td><td>1           </td><td>0.9017560837</td></tr>\n",
       "</tbody>\n",
       "</table>\n"
      ],
      "text/latex": [
       "\\begin{tabular}{r|lll}\n",
       "  & method & cost & RMSE\\\\\n",
       "\\hline\n",
       "\t2 & svm          & 1            & 0.9017560837\\\\\n",
       "\\end{tabular}\n"
      ],
      "text/markdown": [
       "\n",
       "| <!--/--> | method | cost | RMSE |\n",
       "|---|---|---|---|\n",
       "| 2 | svm          | 1            | 0.9017560837 |\n",
       "\n"
      ],
      "text/plain": [
       "  method cost RMSE        \n",
       "2 svm    1    0.9017560837"
      ]
     },
     "metadata": {},
     "output_type": "display_data"
    }
   ],
   "source": [
    "tune[which.min(tune$RMSE),]"
   ]
  },
  {
   "cell_type": "markdown",
   "metadata": {},
   "source": [
    "Here we use the R `for` loop for cross-validation **within** **many** other R `for` loops to sequence through various settings for the `kernel`, `degree`, `gamma` and `cost` hyper-parameters.    We calculate the overall performance measure for each model corresponding to a different set of hyper-parameter settings, accordingly, choose the model with the best performance.\n",
    "\n",
    "Note, the `svm` function ignores the `degree` hyper-parameter setting when `kernel` is not set to `polynomial`. "
   ]
  },
  {
   "cell_type": "code",
   "execution_count": 67,
   "metadata": {},
   "outputs": [
    {
     "data": {
      "text/html": [
       "<table>\n",
       "<thead><tr><th scope=col>method</th><th scope=col>kernel</th><th scope=col>degree</th><th scope=col>gamma</th><th scope=col>cost</th><th scope=col>RMSE</th></tr></thead>\n",
       "<tbody>\n",
       "\t<tr><td>svm         </td><td>polynomial  </td><td>1           </td><td> 0.1        </td><td>  0.1       </td><td>2.3266362355</td></tr>\n",
       "\t<tr><td>svm         </td><td>polynomial  </td><td>1           </td><td> 0.1        </td><td>  1.0       </td><td>1.6765769514</td></tr>\n",
       "\t<tr><td>svm         </td><td>polynomial  </td><td>1           </td><td> 0.1        </td><td> 10.0       </td><td>1.4330533020</td></tr>\n",
       "\t<tr><td>svm         </td><td>polynomial  </td><td>1           </td><td> 0.1        </td><td>100.0       </td><td>1.3636730015</td></tr>\n",
       "\t<tr><td>svm         </td><td>polynomial  </td><td>1           </td><td> 1.0        </td><td>  0.1       </td><td>1.6765769500</td></tr>\n",
       "\t<tr><td>svm         </td><td>polynomial  </td><td>1           </td><td> 1.0        </td><td>  1.0       </td><td>1.4330533029</td></tr>\n",
       "\t<tr><td>svm         </td><td>polynomial  </td><td>1           </td><td> 1.0        </td><td> 10.0       </td><td>1.3636731018</td></tr>\n",
       "\t<tr><td>svm         </td><td>polynomial  </td><td>1           </td><td> 1.0        </td><td>100.0       </td><td>1.3636721778</td></tr>\n",
       "\t<tr><td>svm         </td><td>polynomial  </td><td>1           </td><td>10.0        </td><td>  0.1       </td><td>1.4330533061</td></tr>\n",
       "\t<tr><td>svm         </td><td>polynomial  </td><td>1           </td><td>10.0        </td><td>  1.0       </td><td>1.3636732684</td></tr>\n",
       "\t<tr><td>svm         </td><td>polynomial  </td><td>1           </td><td>10.0        </td><td> 10.0       </td><td>1.3636740236</td></tr>\n",
       "\t<tr><td>svm         </td><td>polynomial  </td><td>1           </td><td>10.0        </td><td>100.0       </td><td>1.3636815951</td></tr>\n",
       "\t<tr><td>svm         </td><td>polynomial  </td><td>2           </td><td> 0.1        </td><td>  0.1       </td><td>2.4027962169</td></tr>\n",
       "\t<tr><td>svm         </td><td>polynomial  </td><td>2           </td><td> 0.1        </td><td>  1.0       </td><td>2.3999162862</td></tr>\n",
       "\t<tr><td>svm         </td><td>polynomial  </td><td>2           </td><td> 0.1        </td><td> 10.0       </td><td>2.3700827214</td></tr>\n",
       "\t<tr><td>svm         </td><td>polynomial  </td><td>2           </td><td> 0.1        </td><td>100.0       </td><td>2.1272907330</td></tr>\n",
       "\t<tr><td>svm         </td><td>polynomial  </td><td>2           </td><td> 1.0        </td><td>  0.1       </td><td>2.3700827190</td></tr>\n",
       "\t<tr><td>svm         </td><td>polynomial  </td><td>2           </td><td> 1.0        </td><td>  1.0       </td><td>2.1272907253</td></tr>\n",
       "\t<tr><td>svm         </td><td>polynomial  </td><td>2           </td><td> 1.0        </td><td> 10.0       </td><td>2.0232823715</td></tr>\n",
       "\t<tr><td>svm         </td><td>polynomial  </td><td>2           </td><td> 1.0        </td><td>100.0       </td><td>2.0232875436</td></tr>\n",
       "\t<tr><td>svm         </td><td>polynomial  </td><td>2           </td><td>10.0        </td><td>  0.1       </td><td>2.0232824530</td></tr>\n",
       "\t<tr><td>svm         </td><td>polynomial  </td><td>2           </td><td>10.0        </td><td>  1.0       </td><td>2.0232884364</td></tr>\n",
       "\t<tr><td>svm         </td><td>polynomial  </td><td>2           </td><td>10.0        </td><td> 10.0       </td><td>2.0233481720</td></tr>\n",
       "\t<tr><td>svm         </td><td>polynomial  </td><td>2           </td><td>10.0        </td><td>100.0       </td><td>2.0239458335</td></tr>\n",
       "\t<tr><td>svm         </td><td>polynomial  </td><td>3           </td><td> 0.1        </td><td>  0.1       </td><td>2.3993456719</td></tr>\n",
       "\t<tr><td>svm         </td><td>polynomial  </td><td>3           </td><td> 0.1        </td><td>  1.0       </td><td>2.3645614874</td></tr>\n",
       "\t<tr><td>svm         </td><td>polynomial  </td><td>3           </td><td> 0.1        </td><td> 10.0       </td><td>2.0174079293</td></tr>\n",
       "\t<tr><td>svm         </td><td>polynomial  </td><td>3           </td><td> 0.1        </td><td>100.0       </td><td>1.0394036921</td></tr>\n",
       "\t<tr><td>svm         </td><td>polynomial  </td><td>3           </td><td> 1.0        </td><td>  0.1       </td><td>1.0394036800</td></tr>\n",
       "\t<tr><td>svm         </td><td>polynomial  </td><td>3           </td><td> 1.0        </td><td>  1.0       </td><td>0.9017560837</td></tr>\n",
       "\t<tr><td>svm         </td><td>polynomial  </td><td>3           </td><td> 1.0        </td><td> 10.0       </td><td>1.2734926154</td></tr>\n",
       "\t<tr><td>svm         </td><td>polynomial  </td><td>3           </td><td> 1.0        </td><td>100.0       </td><td>1.2734910984</td></tr>\n",
       "\t<tr><td>svm         </td><td>polynomial  </td><td>3           </td><td>10.0        </td><td>  0.1       </td><td>1.2734731654</td></tr>\n",
       "\t<tr><td>svm         </td><td>polynomial  </td><td>3           </td><td>10.0        </td><td>  1.0       </td><td>1.2735954842</td></tr>\n",
       "\t<tr><td>svm         </td><td>polynomial  </td><td>3           </td><td>10.0        </td><td> 10.0       </td><td>1.2715336035</td></tr>\n",
       "\t<tr><td>svm         </td><td>polynomial  </td><td>3           </td><td>10.0        </td><td>100.0       </td><td>1.2656324022</td></tr>\n",
       "\t<tr><td>svm         </td><td>radial      </td><td>1           </td><td> 0.1        </td><td>  0.1       </td><td>2.3039656968</td></tr>\n",
       "\t<tr><td>svm         </td><td>radial      </td><td>1           </td><td> 0.1        </td><td>  1.0       </td><td>1.6281042749</td></tr>\n",
       "\t<tr><td>svm         </td><td>radial      </td><td>1           </td><td> 0.1        </td><td> 10.0       </td><td>1.6768093129</td></tr>\n",
       "\t<tr><td>svm         </td><td>radial      </td><td>1           </td><td> 0.1        </td><td>100.0       </td><td>1.2952814827</td></tr>\n",
       "\t<tr><td>svm         </td><td>radial      </td><td>1           </td><td> 1.0        </td><td>  0.1       </td><td>2.2681111114</td></tr>\n",
       "\t<tr><td>svm         </td><td>radial      </td><td>1           </td><td> 1.0        </td><td>  1.0       </td><td>1.6210567157</td></tr>\n",
       "\t<tr><td>svm         </td><td>radial      </td><td>1           </td><td> 1.0        </td><td> 10.0       </td><td>1.2892901132</td></tr>\n",
       "\t<tr><td>svm         </td><td>radial      </td><td>1           </td><td> 1.0        </td><td>100.0       </td><td>1.4584852238</td></tr>\n",
       "\t<tr><td>svm         </td><td>radial      </td><td>1           </td><td>10.0        </td><td>  0.1       </td><td>2.2414162822</td></tr>\n",
       "\t<tr><td>svm         </td><td>radial      </td><td>1           </td><td>10.0        </td><td>  1.0       </td><td>1.6123525214</td></tr>\n",
       "\t<tr><td>svm         </td><td>radial      </td><td>1           </td><td>10.0        </td><td> 10.0       </td><td>1.4768459438</td></tr>\n",
       "\t<tr><td>svm         </td><td>radial      </td><td>1           </td><td>10.0        </td><td>100.0       </td><td>1.4768459438</td></tr>\n",
       "\t<tr><td>svm         </td><td>radial      </td><td>2           </td><td> 0.1        </td><td>  0.1       </td><td>2.3039656968</td></tr>\n",
       "\t<tr><td>svm         </td><td>radial      </td><td>2           </td><td> 0.1        </td><td>  1.0       </td><td>1.6281042749</td></tr>\n",
       "\t<tr><td>svm         </td><td>radial      </td><td>2           </td><td> 0.1        </td><td> 10.0       </td><td>1.6768093129</td></tr>\n",
       "\t<tr><td>svm         </td><td>radial      </td><td>2           </td><td> 0.1        </td><td>100.0       </td><td>1.2952814827</td></tr>\n",
       "\t<tr><td>svm         </td><td>radial      </td><td>2           </td><td> 1.0        </td><td>  0.1       </td><td>2.2681111114</td></tr>\n",
       "\t<tr><td>svm         </td><td>radial      </td><td>2           </td><td> 1.0        </td><td>  1.0       </td><td>1.6210567157</td></tr>\n",
       "\t<tr><td>svm         </td><td>radial      </td><td>2           </td><td> 1.0        </td><td> 10.0       </td><td>1.2892901132</td></tr>\n",
       "\t<tr><td>svm         </td><td>radial      </td><td>2           </td><td> 1.0        </td><td>100.0       </td><td>1.4584852238</td></tr>\n",
       "\t<tr><td>svm         </td><td>radial      </td><td>2           </td><td>10.0        </td><td>  0.1       </td><td>2.2414162822</td></tr>\n",
       "\t<tr><td>svm         </td><td>radial      </td><td>2           </td><td>10.0        </td><td>  1.0       </td><td>1.6123525214</td></tr>\n",
       "\t<tr><td>svm         </td><td>radial      </td><td>2           </td><td>10.0        </td><td> 10.0       </td><td>1.4768459438</td></tr>\n",
       "\t<tr><td>svm         </td><td>radial      </td><td>2           </td><td>10.0        </td><td>100.0       </td><td>1.4768459438</td></tr>\n",
       "\t<tr><td>svm         </td><td>radial      </td><td>3           </td><td> 0.1        </td><td>  0.1       </td><td>2.3039656968</td></tr>\n",
       "\t<tr><td>svm         </td><td>radial      </td><td>3           </td><td> 0.1        </td><td>  1.0       </td><td>1.6281042749</td></tr>\n",
       "\t<tr><td>svm         </td><td>radial      </td><td>3           </td><td> 0.1        </td><td> 10.0       </td><td>1.6768093129</td></tr>\n",
       "\t<tr><td>svm         </td><td>radial      </td><td>3           </td><td> 0.1        </td><td>100.0       </td><td>1.2952814827</td></tr>\n",
       "\t<tr><td>svm         </td><td>radial      </td><td>3           </td><td> 1.0        </td><td>  0.1       </td><td>2.2681111114</td></tr>\n",
       "\t<tr><td>svm         </td><td>radial      </td><td>3           </td><td> 1.0        </td><td>  1.0       </td><td>1.6210567157</td></tr>\n",
       "\t<tr><td>svm         </td><td>radial      </td><td>3           </td><td> 1.0        </td><td> 10.0       </td><td>1.2892901132</td></tr>\n",
       "\t<tr><td>svm         </td><td>radial      </td><td>3           </td><td> 1.0        </td><td>100.0       </td><td>1.4584852238</td></tr>\n",
       "\t<tr><td>svm         </td><td>radial      </td><td>3           </td><td>10.0        </td><td>  0.1       </td><td>2.2414162822</td></tr>\n",
       "\t<tr><td>svm         </td><td>radial      </td><td>3           </td><td>10.0        </td><td>  1.0       </td><td>1.6123525214</td></tr>\n",
       "\t<tr><td>svm         </td><td>radial      </td><td>3           </td><td>10.0        </td><td> 10.0       </td><td>1.4768459438</td></tr>\n",
       "\t<tr><td>svm         </td><td>radial      </td><td>3           </td><td>10.0        </td><td>100.0       </td><td>1.4768459438</td></tr>\n",
       "</tbody>\n",
       "</table>\n"
      ],
      "text/latex": [
       "\\begin{tabular}{r|llllll}\n",
       " method & kernel & degree & gamma & cost & RMSE\\\\\n",
       "\\hline\n",
       "\t svm          & polynomial   & 1            &  0.1         &   0.1        & 2.3266362355\\\\\n",
       "\t svm          & polynomial   & 1            &  0.1         &   1.0        & 1.6765769514\\\\\n",
       "\t svm          & polynomial   & 1            &  0.1         &  10.0        & 1.4330533020\\\\\n",
       "\t svm          & polynomial   & 1            &  0.1         & 100.0        & 1.3636730015\\\\\n",
       "\t svm          & polynomial   & 1            &  1.0         &   0.1        & 1.6765769500\\\\\n",
       "\t svm          & polynomial   & 1            &  1.0         &   1.0        & 1.4330533029\\\\\n",
       "\t svm          & polynomial   & 1            &  1.0         &  10.0        & 1.3636731018\\\\\n",
       "\t svm          & polynomial   & 1            &  1.0         & 100.0        & 1.3636721778\\\\\n",
       "\t svm          & polynomial   & 1            & 10.0         &   0.1        & 1.4330533061\\\\\n",
       "\t svm          & polynomial   & 1            & 10.0         &   1.0        & 1.3636732684\\\\\n",
       "\t svm          & polynomial   & 1            & 10.0         &  10.0        & 1.3636740236\\\\\n",
       "\t svm          & polynomial   & 1            & 10.0         & 100.0        & 1.3636815951\\\\\n",
       "\t svm          & polynomial   & 2            &  0.1         &   0.1        & 2.4027962169\\\\\n",
       "\t svm          & polynomial   & 2            &  0.1         &   1.0        & 2.3999162862\\\\\n",
       "\t svm          & polynomial   & 2            &  0.1         &  10.0        & 2.3700827214\\\\\n",
       "\t svm          & polynomial   & 2            &  0.1         & 100.0        & 2.1272907330\\\\\n",
       "\t svm          & polynomial   & 2            &  1.0         &   0.1        & 2.3700827190\\\\\n",
       "\t svm          & polynomial   & 2            &  1.0         &   1.0        & 2.1272907253\\\\\n",
       "\t svm          & polynomial   & 2            &  1.0         &  10.0        & 2.0232823715\\\\\n",
       "\t svm          & polynomial   & 2            &  1.0         & 100.0        & 2.0232875436\\\\\n",
       "\t svm          & polynomial   & 2            & 10.0         &   0.1        & 2.0232824530\\\\\n",
       "\t svm          & polynomial   & 2            & 10.0         &   1.0        & 2.0232884364\\\\\n",
       "\t svm          & polynomial   & 2            & 10.0         &  10.0        & 2.0233481720\\\\\n",
       "\t svm          & polynomial   & 2            & 10.0         & 100.0        & 2.0239458335\\\\\n",
       "\t svm          & polynomial   & 3            &  0.1         &   0.1        & 2.3993456719\\\\\n",
       "\t svm          & polynomial   & 3            &  0.1         &   1.0        & 2.3645614874\\\\\n",
       "\t svm          & polynomial   & 3            &  0.1         &  10.0        & 2.0174079293\\\\\n",
       "\t svm          & polynomial   & 3            &  0.1         & 100.0        & 1.0394036921\\\\\n",
       "\t svm          & polynomial   & 3            &  1.0         &   0.1        & 1.0394036800\\\\\n",
       "\t svm          & polynomial   & 3            &  1.0         &   1.0        & 0.9017560837\\\\\n",
       "\t svm          & polynomial   & 3            &  1.0         &  10.0        & 1.2734926154\\\\\n",
       "\t svm          & polynomial   & 3            &  1.0         & 100.0        & 1.2734910984\\\\\n",
       "\t svm          & polynomial   & 3            & 10.0         &   0.1        & 1.2734731654\\\\\n",
       "\t svm          & polynomial   & 3            & 10.0         &   1.0        & 1.2735954842\\\\\n",
       "\t svm          & polynomial   & 3            & 10.0         &  10.0        & 1.2715336035\\\\\n",
       "\t svm          & polynomial   & 3            & 10.0         & 100.0        & 1.2656324022\\\\\n",
       "\t svm          & radial       & 1            &  0.1         &   0.1        & 2.3039656968\\\\\n",
       "\t svm          & radial       & 1            &  0.1         &   1.0        & 1.6281042749\\\\\n",
       "\t svm          & radial       & 1            &  0.1         &  10.0        & 1.6768093129\\\\\n",
       "\t svm          & radial       & 1            &  0.1         & 100.0        & 1.2952814827\\\\\n",
       "\t svm          & radial       & 1            &  1.0         &   0.1        & 2.2681111114\\\\\n",
       "\t svm          & radial       & 1            &  1.0         &   1.0        & 1.6210567157\\\\\n",
       "\t svm          & radial       & 1            &  1.0         &  10.0        & 1.2892901132\\\\\n",
       "\t svm          & radial       & 1            &  1.0         & 100.0        & 1.4584852238\\\\\n",
       "\t svm          & radial       & 1            & 10.0         &   0.1        & 2.2414162822\\\\\n",
       "\t svm          & radial       & 1            & 10.0         &   1.0        & 1.6123525214\\\\\n",
       "\t svm          & radial       & 1            & 10.0         &  10.0        & 1.4768459438\\\\\n",
       "\t svm          & radial       & 1            & 10.0         & 100.0        & 1.4768459438\\\\\n",
       "\t svm          & radial       & 2            &  0.1         &   0.1        & 2.3039656968\\\\\n",
       "\t svm          & radial       & 2            &  0.1         &   1.0        & 1.6281042749\\\\\n",
       "\t svm          & radial       & 2            &  0.1         &  10.0        & 1.6768093129\\\\\n",
       "\t svm          & radial       & 2            &  0.1         & 100.0        & 1.2952814827\\\\\n",
       "\t svm          & radial       & 2            &  1.0         &   0.1        & 2.2681111114\\\\\n",
       "\t svm          & radial       & 2            &  1.0         &   1.0        & 1.6210567157\\\\\n",
       "\t svm          & radial       & 2            &  1.0         &  10.0        & 1.2892901132\\\\\n",
       "\t svm          & radial       & 2            &  1.0         & 100.0        & 1.4584852238\\\\\n",
       "\t svm          & radial       & 2            & 10.0         &   0.1        & 2.2414162822\\\\\n",
       "\t svm          & radial       & 2            & 10.0         &   1.0        & 1.6123525214\\\\\n",
       "\t svm          & radial       & 2            & 10.0         &  10.0        & 1.4768459438\\\\\n",
       "\t svm          & radial       & 2            & 10.0         & 100.0        & 1.4768459438\\\\\n",
       "\t svm          & radial       & 3            &  0.1         &   0.1        & 2.3039656968\\\\\n",
       "\t svm          & radial       & 3            &  0.1         &   1.0        & 1.6281042749\\\\\n",
       "\t svm          & radial       & 3            &  0.1         &  10.0        & 1.6768093129\\\\\n",
       "\t svm          & radial       & 3            &  0.1         & 100.0        & 1.2952814827\\\\\n",
       "\t svm          & radial       & 3            &  1.0         &   0.1        & 2.2681111114\\\\\n",
       "\t svm          & radial       & 3            &  1.0         &   1.0        & 1.6210567157\\\\\n",
       "\t svm          & radial       & 3            &  1.0         &  10.0        & 1.2892901132\\\\\n",
       "\t svm          & radial       & 3            &  1.0         & 100.0        & 1.4584852238\\\\\n",
       "\t svm          & radial       & 3            & 10.0         &   0.1        & 2.2414162822\\\\\n",
       "\t svm          & radial       & 3            & 10.0         &   1.0        & 1.6123525214\\\\\n",
       "\t svm          & radial       & 3            & 10.0         &  10.0        & 1.4768459438\\\\\n",
       "\t svm          & radial       & 3            & 10.0         & 100.0        & 1.4768459438\\\\\n",
       "\\end{tabular}\n"
      ],
      "text/markdown": [
       "\n",
       "| method | kernel | degree | gamma | cost | RMSE |\n",
       "|---|---|---|---|---|---|\n",
       "| svm          | polynomial   | 1            |  0.1         |   0.1        | 2.3266362355 |\n",
       "| svm          | polynomial   | 1            |  0.1         |   1.0        | 1.6765769514 |\n",
       "| svm          | polynomial   | 1            |  0.1         |  10.0        | 1.4330533020 |\n",
       "| svm          | polynomial   | 1            |  0.1         | 100.0        | 1.3636730015 |\n",
       "| svm          | polynomial   | 1            |  1.0         |   0.1        | 1.6765769500 |\n",
       "| svm          | polynomial   | 1            |  1.0         |   1.0        | 1.4330533029 |\n",
       "| svm          | polynomial   | 1            |  1.0         |  10.0        | 1.3636731018 |\n",
       "| svm          | polynomial   | 1            |  1.0         | 100.0        | 1.3636721778 |\n",
       "| svm          | polynomial   | 1            | 10.0         |   0.1        | 1.4330533061 |\n",
       "| svm          | polynomial   | 1            | 10.0         |   1.0        | 1.3636732684 |\n",
       "| svm          | polynomial   | 1            | 10.0         |  10.0        | 1.3636740236 |\n",
       "| svm          | polynomial   | 1            | 10.0         | 100.0        | 1.3636815951 |\n",
       "| svm          | polynomial   | 2            |  0.1         |   0.1        | 2.4027962169 |\n",
       "| svm          | polynomial   | 2            |  0.1         |   1.0        | 2.3999162862 |\n",
       "| svm          | polynomial   | 2            |  0.1         |  10.0        | 2.3700827214 |\n",
       "| svm          | polynomial   | 2            |  0.1         | 100.0        | 2.1272907330 |\n",
       "| svm          | polynomial   | 2            |  1.0         |   0.1        | 2.3700827190 |\n",
       "| svm          | polynomial   | 2            |  1.0         |   1.0        | 2.1272907253 |\n",
       "| svm          | polynomial   | 2            |  1.0         |  10.0        | 2.0232823715 |\n",
       "| svm          | polynomial   | 2            |  1.0         | 100.0        | 2.0232875436 |\n",
       "| svm          | polynomial   | 2            | 10.0         |   0.1        | 2.0232824530 |\n",
       "| svm          | polynomial   | 2            | 10.0         |   1.0        | 2.0232884364 |\n",
       "| svm          | polynomial   | 2            | 10.0         |  10.0        | 2.0233481720 |\n",
       "| svm          | polynomial   | 2            | 10.0         | 100.0        | 2.0239458335 |\n",
       "| svm          | polynomial   | 3            |  0.1         |   0.1        | 2.3993456719 |\n",
       "| svm          | polynomial   | 3            |  0.1         |   1.0        | 2.3645614874 |\n",
       "| svm          | polynomial   | 3            |  0.1         |  10.0        | 2.0174079293 |\n",
       "| svm          | polynomial   | 3            |  0.1         | 100.0        | 1.0394036921 |\n",
       "| svm          | polynomial   | 3            |  1.0         |   0.1        | 1.0394036800 |\n",
       "| svm          | polynomial   | 3            |  1.0         |   1.0        | 0.9017560837 |\n",
       "| svm          | polynomial   | 3            |  1.0         |  10.0        | 1.2734926154 |\n",
       "| svm          | polynomial   | 3            |  1.0         | 100.0        | 1.2734910984 |\n",
       "| svm          | polynomial   | 3            | 10.0         |   0.1        | 1.2734731654 |\n",
       "| svm          | polynomial   | 3            | 10.0         |   1.0        | 1.2735954842 |\n",
       "| svm          | polynomial   | 3            | 10.0         |  10.0        | 1.2715336035 |\n",
       "| svm          | polynomial   | 3            | 10.0         | 100.0        | 1.2656324022 |\n",
       "| svm          | radial       | 1            |  0.1         |   0.1        | 2.3039656968 |\n",
       "| svm          | radial       | 1            |  0.1         |   1.0        | 1.6281042749 |\n",
       "| svm          | radial       | 1            |  0.1         |  10.0        | 1.6768093129 |\n",
       "| svm          | radial       | 1            |  0.1         | 100.0        | 1.2952814827 |\n",
       "| svm          | radial       | 1            |  1.0         |   0.1        | 2.2681111114 |\n",
       "| svm          | radial       | 1            |  1.0         |   1.0        | 1.6210567157 |\n",
       "| svm          | radial       | 1            |  1.0         |  10.0        | 1.2892901132 |\n",
       "| svm          | radial       | 1            |  1.0         | 100.0        | 1.4584852238 |\n",
       "| svm          | radial       | 1            | 10.0         |   0.1        | 2.2414162822 |\n",
       "| svm          | radial       | 1            | 10.0         |   1.0        | 1.6123525214 |\n",
       "| svm          | radial       | 1            | 10.0         |  10.0        | 1.4768459438 |\n",
       "| svm          | radial       | 1            | 10.0         | 100.0        | 1.4768459438 |\n",
       "| svm          | radial       | 2            |  0.1         |   0.1        | 2.3039656968 |\n",
       "| svm          | radial       | 2            |  0.1         |   1.0        | 1.6281042749 |\n",
       "| svm          | radial       | 2            |  0.1         |  10.0        | 1.6768093129 |\n",
       "| svm          | radial       | 2            |  0.1         | 100.0        | 1.2952814827 |\n",
       "| svm          | radial       | 2            |  1.0         |   0.1        | 2.2681111114 |\n",
       "| svm          | radial       | 2            |  1.0         |   1.0        | 1.6210567157 |\n",
       "| svm          | radial       | 2            |  1.0         |  10.0        | 1.2892901132 |\n",
       "| svm          | radial       | 2            |  1.0         | 100.0        | 1.4584852238 |\n",
       "| svm          | radial       | 2            | 10.0         |   0.1        | 2.2414162822 |\n",
       "| svm          | radial       | 2            | 10.0         |   1.0        | 1.6123525214 |\n",
       "| svm          | radial       | 2            | 10.0         |  10.0        | 1.4768459438 |\n",
       "| svm          | radial       | 2            | 10.0         | 100.0        | 1.4768459438 |\n",
       "| svm          | radial       | 3            |  0.1         |   0.1        | 2.3039656968 |\n",
       "| svm          | radial       | 3            |  0.1         |   1.0        | 1.6281042749 |\n",
       "| svm          | radial       | 3            |  0.1         |  10.0        | 1.6768093129 |\n",
       "| svm          | radial       | 3            |  0.1         | 100.0        | 1.2952814827 |\n",
       "| svm          | radial       | 3            |  1.0         |   0.1        | 2.2681111114 |\n",
       "| svm          | radial       | 3            |  1.0         |   1.0        | 1.6210567157 |\n",
       "| svm          | radial       | 3            |  1.0         |  10.0        | 1.2892901132 |\n",
       "| svm          | radial       | 3            |  1.0         | 100.0        | 1.4584852238 |\n",
       "| svm          | radial       | 3            | 10.0         |   0.1        | 2.2414162822 |\n",
       "| svm          | radial       | 3            | 10.0         |   1.0        | 1.6123525214 |\n",
       "| svm          | radial       | 3            | 10.0         |  10.0        | 1.4768459438 |\n",
       "| svm          | radial       | 3            | 10.0         | 100.0        | 1.4768459438 |\n",
       "\n"
      ],
      "text/plain": [
       "   method kernel     degree gamma cost  RMSE        \n",
       "1  svm    polynomial 1       0.1    0.1 2.3266362355\n",
       "2  svm    polynomial 1       0.1    1.0 1.6765769514\n",
       "3  svm    polynomial 1       0.1   10.0 1.4330533020\n",
       "4  svm    polynomial 1       0.1  100.0 1.3636730015\n",
       "5  svm    polynomial 1       1.0    0.1 1.6765769500\n",
       "6  svm    polynomial 1       1.0    1.0 1.4330533029\n",
       "7  svm    polynomial 1       1.0   10.0 1.3636731018\n",
       "8  svm    polynomial 1       1.0  100.0 1.3636721778\n",
       "9  svm    polynomial 1      10.0    0.1 1.4330533061\n",
       "10 svm    polynomial 1      10.0    1.0 1.3636732684\n",
       "11 svm    polynomial 1      10.0   10.0 1.3636740236\n",
       "12 svm    polynomial 1      10.0  100.0 1.3636815951\n",
       "13 svm    polynomial 2       0.1    0.1 2.4027962169\n",
       "14 svm    polynomial 2       0.1    1.0 2.3999162862\n",
       "15 svm    polynomial 2       0.1   10.0 2.3700827214\n",
       "16 svm    polynomial 2       0.1  100.0 2.1272907330\n",
       "17 svm    polynomial 2       1.0    0.1 2.3700827190\n",
       "18 svm    polynomial 2       1.0    1.0 2.1272907253\n",
       "19 svm    polynomial 2       1.0   10.0 2.0232823715\n",
       "20 svm    polynomial 2       1.0  100.0 2.0232875436\n",
       "21 svm    polynomial 2      10.0    0.1 2.0232824530\n",
       "22 svm    polynomial 2      10.0    1.0 2.0232884364\n",
       "23 svm    polynomial 2      10.0   10.0 2.0233481720\n",
       "24 svm    polynomial 2      10.0  100.0 2.0239458335\n",
       "25 svm    polynomial 3       0.1    0.1 2.3993456719\n",
       "26 svm    polynomial 3       0.1    1.0 2.3645614874\n",
       "27 svm    polynomial 3       0.1   10.0 2.0174079293\n",
       "28 svm    polynomial 3       0.1  100.0 1.0394036921\n",
       "29 svm    polynomial 3       1.0    0.1 1.0394036800\n",
       "30 svm    polynomial 3       1.0    1.0 0.9017560837\n",
       "31 svm    polynomial 3       1.0   10.0 1.2734926154\n",
       "32 svm    polynomial 3       1.0  100.0 1.2734910984\n",
       "33 svm    polynomial 3      10.0    0.1 1.2734731654\n",
       "34 svm    polynomial 3      10.0    1.0 1.2735954842\n",
       "35 svm    polynomial 3      10.0   10.0 1.2715336035\n",
       "36 svm    polynomial 3      10.0  100.0 1.2656324022\n",
       "37 svm    radial     1       0.1    0.1 2.3039656968\n",
       "38 svm    radial     1       0.1    1.0 1.6281042749\n",
       "39 svm    radial     1       0.1   10.0 1.6768093129\n",
       "40 svm    radial     1       0.1  100.0 1.2952814827\n",
       "41 svm    radial     1       1.0    0.1 2.2681111114\n",
       "42 svm    radial     1       1.0    1.0 1.6210567157\n",
       "43 svm    radial     1       1.0   10.0 1.2892901132\n",
       "44 svm    radial     1       1.0  100.0 1.4584852238\n",
       "45 svm    radial     1      10.0    0.1 2.2414162822\n",
       "46 svm    radial     1      10.0    1.0 1.6123525214\n",
       "47 svm    radial     1      10.0   10.0 1.4768459438\n",
       "48 svm    radial     1      10.0  100.0 1.4768459438\n",
       "49 svm    radial     2       0.1    0.1 2.3039656968\n",
       "50 svm    radial     2       0.1    1.0 1.6281042749\n",
       "51 svm    radial     2       0.1   10.0 1.6768093129\n",
       "52 svm    radial     2       0.1  100.0 1.2952814827\n",
       "53 svm    radial     2       1.0    0.1 2.2681111114\n",
       "54 svm    radial     2       1.0    1.0 1.6210567157\n",
       "55 svm    radial     2       1.0   10.0 1.2892901132\n",
       "56 svm    radial     2       1.0  100.0 1.4584852238\n",
       "57 svm    radial     2      10.0    0.1 2.2414162822\n",
       "58 svm    radial     2      10.0    1.0 1.6123525214\n",
       "59 svm    radial     2      10.0   10.0 1.4768459438\n",
       "60 svm    radial     2      10.0  100.0 1.4768459438\n",
       "61 svm    radial     3       0.1    0.1 2.3039656968\n",
       "62 svm    radial     3       0.1    1.0 1.6281042749\n",
       "63 svm    radial     3       0.1   10.0 1.6768093129\n",
       "64 svm    radial     3       0.1  100.0 1.2952814827\n",
       "65 svm    radial     3       1.0    0.1 2.2681111114\n",
       "66 svm    radial     3       1.0    1.0 1.6210567157\n",
       "67 svm    radial     3       1.0   10.0 1.2892901132\n",
       "68 svm    radial     3       1.0  100.0 1.4584852238\n",
       "69 svm    radial     3      10.0    0.1 2.2414162822\n",
       "70 svm    radial     3      10.0    1.0 1.6123525214\n",
       "71 svm    radial     3      10.0   10.0 1.4768459438\n",
       "72 svm    radial     3      10.0  100.0 1.4768459438"
      ]
     },
     "metadata": {},
     "output_type": "display_data"
    }
   ],
   "source": [
    "nfold = 5\n",
    "\n",
    "set.seed(12345)\n",
    "test = createFolds(data$outcome, k=nfold)\n",
    "train = createFolds.train(data$outcome, test)\n",
    "\n",
    "tune = data.frame()\n",
    "\n",
    "for (kernel in c(\"polynomial\",\"radial\"))\n",
    "for (degree in c(1,2,3))\n",
    "for (gamma in c(0.1,1,10))\n",
    "for (cost in c(0.1,1,10,100))\n",
    "{\n",
    "  model = list()\n",
    "  result = list()\n",
    "  RMSE = c()\n",
    "\n",
    "  for (fold in 1:nfold)\n",
    "  {\n",
    "    model[[fold]] = svm(outcome~x1, data[train[[fold]],], type=\"eps-regression\", kernel=kernel, degree=degree, gamma=gamma, cost=cost)\n",
    "  \n",
    "    result[[fold]] = data[test[[fold]],]\n",
    "    result[[fold]]$outcome.predicted = predict(model[[fold]], data[test[[fold]],])\n",
    "    result[[fold]]$error = result[[fold]]$outcome.predicted - result[[fold]]$outcome\n",
    "    RMSE[fold] = sqrt(mean(result[[fold]]$error^2))\n",
    "  }\n",
    "\n",
    "  tune = rbind(tune, data.frame(method=\"svm\", kernel=kernel, degree=degree, gamma=gamma, cost=cost, RMSE=mean(RMSE)))\n",
    "}\n",
    "\n",
    "tune"
   ]
  },
  {
   "cell_type": "code",
   "execution_count": 68,
   "metadata": {},
   "outputs": [
    {
     "data": {
      "text/html": [
       "<table>\n",
       "<thead><tr><th></th><th scope=col>method</th><th scope=col>kernel</th><th scope=col>degree</th><th scope=col>gamma</th><th scope=col>cost</th><th scope=col>RMSE</th></tr></thead>\n",
       "<tbody>\n",
       "\t<tr><th scope=row>30</th><td>svm         </td><td>polynomial  </td><td>3           </td><td>1           </td><td>1           </td><td>0.9017560837</td></tr>\n",
       "</tbody>\n",
       "</table>\n"
      ],
      "text/latex": [
       "\\begin{tabular}{r|llllll}\n",
       "  & method & kernel & degree & gamma & cost & RMSE\\\\\n",
       "\\hline\n",
       "\t30 & svm          & polynomial   & 3            & 1            & 1            & 0.9017560837\\\\\n",
       "\\end{tabular}\n"
      ],
      "text/markdown": [
       "\n",
       "| <!--/--> | method | kernel | degree | gamma | cost | RMSE |\n",
       "|---|---|---|---|---|---|---|\n",
       "| 30 | svm          | polynomial   | 3            | 1            | 1            | 0.9017560837 |\n",
       "\n"
      ],
      "text/plain": [
       "   method kernel     degree gamma cost RMSE        \n",
       "30 svm    polynomial 3      1     1    0.9017560837"
      ]
     },
     "metadata": {},
     "output_type": "display_data"
    }
   ],
   "source": [
    "tune[which.min(tune$RMSE),]"
   ]
  },
  {
   "cell_type": "code",
   "execution_count": null,
   "metadata": {},
   "outputs": [],
   "source": []
  },
  {
   "cell_type": "markdown",
   "metadata": {},
   "source": [
    "## Code Templates\n",
    "\n",
    "| Key Functions | Reference Documentation |\n",
    "|--|--|\n",
    "| `set.seed` function from `base` library | https://stat.ethz.ch/R-manual/R-devel/library/base/html/Random.html |\n",
    "| `sample` function from `base` library | https://www.rdocumentation.org/packages/base/versions/3.5.2/topics/sample |\n",
    "| `colnames` function from `base` library | https://www.rdocumentation.org/packages/base/versions/3.5.2/topics/row%2Bcolnames |\n",
    "| `createFolds` function from `caret` library | https://www.rdocumentation.org/packages/caret/versions/6.0-81/topics/createDataPartition |\n",
    "| `setdiff` function from `base` library | https://stat.ethz.ch/R-manual/R-devel/library/base/html/sets.html |\n",
    "| `as.class` function provided | see appartus code cell above |\n",
    "| `predict` function from `stats` library | https://www.rdocumentation.org/packages/stats/versions/3.5.2/topics/predict |\n",
    "| `confusionMatrix` function from `caret` library | https://www.rdocumentation.org/packages/caret/versions/3.45/topics/confusionMatrix |\n",
    "| `naiveBayes` function from `e1071` library | https://www.rdocumentation.org/packages/e1071/versions/1.7-0.1/topics/naiveBayes |\n",
    "<br>\n",
    "\n",
    "\n",
    "* `createFolds` https://www.rdocumentation.org/packages/caret/versions/6.0-79/topics/createDataPartition\n",
    "* `lm` https://www.rdocumentation.org/packages/stats/versions/3.4.3/topics/lm\n",
    "* `mean` https://www.rdocumentation.org/packages/base/versions/3.4.3/topics/mean\n",
    "* `predict` https://www.rdocumentation.org/packages/stats/versions/3.4.3/topics/predict.lm\n",
    "* `predict` https://www.rdocumentation.org/packages/e1071/versions/1.6-8/topics/predict.svm\n",
    "* `rbind` https://www.rdocumentation.org/packages/spectacles/versions/0.5-0/topics/rbind\n",
    "* `sqrt` https://www.rdocumentation.org/packages/base/versions/3.4.3/topics/MathFun\n",
    "* `svm` https://www.rdocumentation.org/packages/e1071/versions/1.6-8/topics/svm\n",
    "* `which.min` https://www.rdocumentation.org/packages/raster/versions/2.6-7/topics/which.min"
   ]
  },
  {
   "cell_type": "code",
   "execution_count": 70,
   "metadata": {},
   "outputs": [
    {
     "data": {
      "text/plain": [
       "          Reference\n",
       "Prediction   A   B\n",
       "         A 0.5 0.0\n",
       "         B 0.0 0.5"
      ]
     },
     "metadata": {},
     "output_type": "display_data"
    }
   ],
   "source": [
    "# Construct a model, make predictions, see confusion matrix \n",
    "\n",
    "data = data.frame(x1=c(1,2,3,4), x2=c(4,3,4,2), class=c(\"A\",\"B\",\"B\",\"A\"))\n",
    "\n",
    "model = naiveBayes(class ~ x1+x2, data) # use your choice of model construction method\n",
    "\n",
    "prob = predict(model, data, type=\"raw\") # predict function uses only predictor variables (e.g., x1 & x2)\n",
    "prediction = as.class(prob, class=\"A\", cutoff=0.5)\n",
    "\n",
    "CM = confusionMatrix(prediction, data$class)$table\n",
    "cm = CM / sum(CM)\n",
    "\n",
    "cm"
   ]
  },
  {
   "cell_type": "markdown",
   "metadata": {},
   "source": [
    "<br>\n",
    "\n",
    "## Expectations\n",
    "\n",
    "Know about this:\n",
    "* Predictive data analytic methodology, conceptually.\n",
    "* Terminology regarding predictive data analytic methodology.\n",
    "* How to construct a predictive model using a provided predictive analytic method, conceptually and using R.\n",
    "* How to use a predictive model to determine class probabilities and make predictions, conceptually and using R.\n",
    "* How to evaluate a predictive model by insample, conceptually and using R.\n",
    "* How to evaluate a predictive model by out-of-sample/holdout, conceptually and using R.\n",
    "* How to evaluate a predictive model by cross-validation, conceptually and using R.\n",
    "\n",
    "\n",
    "* Evaluate a model using cross-validation, given a model construction method, hyper-parameter settings, and data - conceptually and using R.\n",
    "* Tune hyper-parameter settings, given a model construction method, a range of possible hyper-parameter settings, and data - conceptually and using R."
   ]
  },
  {
   "cell_type": "markdown",
   "metadata": {},
   "source": [
    "## Further Reading\n",
    "\n",
    "* https://www.youtube.com/watch?v=fSytzGwwBVw\n",
    "* https://www.youtube.com/watch?v=TIgfjmp-4BA\n",
    "* http://ciml.info/dl/v0_99/ciml-v0_99-ch03.pdf\n",
    "* http://www-stat.wharton.upenn.edu/~stine/mich/DM_05.pdf\n",
    "* https://machinelearningmastery.com/much-training-data-required-machine-learning/\n",
    "\n",
    "\n",
    "* http://www-stat.wharton.upenn.edu/~stine/mich/DM_03.pdf\n",
    "* http://www.milanor.net/blog/cross-validation-for-predictive-analytics-using-r/\n",
    "* http://www.cs.cmu.edu/~./awm/tutorials/overfit10.pdf"
   ]
  },
  {
   "cell_type": "markdown",
   "metadata": {},
   "source": [
    "<font size=1;>\n",
    "<p style=\"text-align: left;\">\n",
    "Copyright (c) Berkeley Data Analytics Group, LLC\n",
    "<span style=\"float: right;\">\n",
    "Document revised July 2, 2019\n",
    "</span>\n",
    "</p>\n",
    "</font>"
   ]
  }
 ],
 "metadata": {
  "hide_code_all_hidden": false,
  "hide_input": false,
  "kernelspec": {
   "display_name": "R",
   "language": "R",
   "name": "ir"
  },
  "language_info": {
   "codemirror_mode": "r",
   "file_extension": ".r",
   "mimetype": "text/x-r-source",
   "name": "R",
   "pygments_lexer": "r",
   "version": "3.6.1"
  },
  "toc": {
   "base_numbering": 1,
   "nav_menu": {},
   "number_sections": true,
   "sideBar": true,
   "skip_h1_title": true,
   "title_cell": "Table of Contents",
   "title_sidebar": "Contents",
   "toc_cell": false,
   "toc_position": {},
   "toc_section_display": true,
   "toc_window_display": true
  }
 },
 "nbformat": 4,
 "nbformat_minor": 2
}
