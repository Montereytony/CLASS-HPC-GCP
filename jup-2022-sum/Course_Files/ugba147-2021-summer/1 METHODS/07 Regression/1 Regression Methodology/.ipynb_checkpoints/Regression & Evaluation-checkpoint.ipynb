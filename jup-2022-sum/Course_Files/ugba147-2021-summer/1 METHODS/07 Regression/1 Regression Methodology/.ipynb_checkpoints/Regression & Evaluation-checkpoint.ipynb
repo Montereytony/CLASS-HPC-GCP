{
 "cells": [
  {
   "cell_type": "markdown",
   "metadata": {
    "hideCode": false,
    "hidePrompt": false
   },
   "source": [
    "# Regression & Evaluation\n",
    "\n",
    "![](a.jpg)\n",
    "\n",
    "_<p style=\"text-align: center;\"> The Antikythera Mechanism: a computer built around 100 BCE to predict astronomical positions </p>_"
   ]
  },
  {
   "cell_type": "code",
   "execution_count": 1,
   "metadata": {
    "hide_input": true
   },
   "outputs": [
    {
     "data": {
      "text/html": [
       "<p style=\"text-align:center; font-size:10px;\">\n",
       ".................................................... start of document ....................................................\n",
       "</p>"
      ]
     },
     "metadata": {},
     "output_type": "display_data"
    }
   ],
   "source": [
    "f = \"setup.R\"; for (i in 1:10) { if (file.exists(f)) break else f = paste0(\"../\", f) }; source(f)\n",
    "theme.legend_bottom = theme(legend.position=\"bottom\")"
   ]
  },
  {
   "cell_type": "markdown",
   "metadata": {},
   "source": [
    "## Introduction"
   ]
  },
  {
   "cell_type": "markdown",
   "metadata": {},
   "source": [
    "## Lesson Plan"
   ]
  },
  {
   "cell_type": "markdown",
   "metadata": {},
   "source": [
    "## Terminology\n",
    "\n",
    "Here are some new terms that we will use in our discourse."
   ]
  },
  {
   "cell_type": "markdown",
   "metadata": {},
   "source": [
    "* Prediction\n",
    "* Regression, Predictive modeling\n",
    "* Regressor construction method\n",
    "* Regressor, Model\n",
    "* Construction, Supervised learning, Training, Fitting\n",
    "* Predictor variables\n",
    "* Outcome variable\n",
    "* Hyper-parameters\n",
    "* Parameters\n",
    "* Evaluation\n",
    "* Error table\n",
    "* RMSE\n",
    "* In-Sample Performance\n",
    "* Out-of-Sample Performance\n",
    "* Cross-Validation Performance"
   ]
  },
  {
   "cell_type": "markdown",
   "metadata": {},
   "source": [
    "## Regression Methodology\n",
    "\n",
    "Two steps to go from data to predictions:\n",
    "1. A regressor construction method determines the model _(given data including outcome information & hyper-parameter values)_.\n",
    "2. The model determines the predictions _(given new data without outcome information)_."
   ]
  },
  {
   "cell_type": "markdown",
   "metadata": {
    "hide_input": true
   },
   "source": [
    "### Construction\n",
    "Also known as supervised learning, training, modeling, building a model, fitting a model ...\n",
    "\n",
    "<table style=\"border:1px solid; margin-top:20px\">\n",
    "    <caption style=\"text-align:center\">Construct a Regressor</caption>\n",
    "    <tr><td style=\"padding:20px; background-color:white\"><img src=\"regression_train.jpg\" width=440></td></tr>\n",
    "</table><br clear=all>"
   ]
  },
  {
   "cell_type": "markdown",
   "metadata": {},
   "source": [
    "### Prediction\n",
    "Also known as regression ...\n",
    "\n",
    "<table style=\"border:1px solid; margin-top:20px; margin-bottom:20px\">\n",
    "    <caption style=\"text-align:center\">Use a Regressor to Make Predictions</caption>\n",
    "    <tr><td style=\"padding:20px; background-color:white\"><img src=\"regression_predict.jpg\" width=400></td></tr>\n",
    "</table><br clear=all>"
   ]
  },
  {
   "cell_type": "markdown",
   "metadata": {},
   "source": [
    "### Evaluation\n",
    "\n",
    "Also known as validation, testing ...\n",
    "\n",
    "There are many popular metrics and sampling approaches for evaluating the preformance of regressors."
   ]
  },
  {
   "cell_type": "markdown",
   "metadata": {},
   "source": [
    "## Regression"
   ]
  },
  {
   "cell_type": "markdown",
   "metadata": {},
   "source": [
    "### Data"
   ]
  },
  {
   "cell_type": "markdown",
   "metadata": {},
   "source": [
    "Consider this pedagogical data."
   ]
  },
  {
   "cell_type": "code",
   "execution_count": 2,
   "metadata": {
    "hide_input": true
   },
   "outputs": [
    {
     "data": {
      "text/html": [
       "<ol class=list-inline>\n",
       "\t<li>11</li>\n",
       "\t<li>2</li>\n",
       "</ol>\n"
      ],
      "text/latex": [
       "\\begin{enumerate*}\n",
       "\\item 11\n",
       "\\item 2\n",
       "\\end{enumerate*}\n"
      ],
      "text/markdown": [
       "1. 11\n",
       "2. 2\n",
       "\n",
       "\n"
      ],
      "text/plain": [
       "[1] 11  2"
      ]
     },
     "metadata": {},
     "output_type": "display_data"
    },
    {
     "data": {
      "image/png": "[encoded data removed]",
      "text/plain": [
       "plot without title"
      ]
     },
     "metadata": {
      "image/png": {
       "height": 360,
       "width": 840
      },
      "text/plain": {
       "height": 360,
       "width": 840
      }
     },
     "output_type": "display_data"
    }
   ],
   "source": [
    "data = data.frame(x1=c(1.0, 1.5, 2.0, 3.0, 4.0, 5.0, 6.0, 6.5, 8.0, 9.0, 9.5), outcome=c(1.0, 0.5, 3.0, 4.0, 5.5, 5.0, 3.5, 4.0, 7.0, 6.5, 9.0))\n",
    "\n",
    "dim(data)\n",
    "ggplot(data) + geom_point(aes(x1, y=outcome), color=PALETTE[1]) + scale_color_manual(values=PALETTE) + xlim(0,10) +ylim(0,10)"
   ]
  },
  {
   "cell_type": "markdown",
   "metadata": {},
   "source": [
    "### Construction\n",
    "\n",
    "To be written ..."
   ]
  },
  {
   "cell_type": "markdown",
   "metadata": {},
   "source": [
    "### Prediction\n",
    "\n",
    "To be written ..."
   ]
  },
  {
   "cell_type": "markdown",
   "metadata": {},
   "source": [
    "### Evaluation\n",
    "\n",
    "\n",
    "To be written ..."
   ]
  },
  {
   "cell_type": "markdown",
   "metadata": {},
   "source": [
    "#### Back-Prediction\n",
    "\n",
    "To be written ..."
   ]
  },
  {
   "cell_type": "markdown",
   "metadata": {},
   "source": [
    "#### Comparison\n",
    "\n",
    "To be written ..."
   ]
  },
  {
   "cell_type": "markdown",
   "metadata": {},
   "source": [
    "## Error Table & Performance Metrics"
   ]
  },
  {
   "cell_type": "markdown",
   "metadata": {},
   "source": [
    "### Error Table\n",
    "\n",
    "Error table tallies the results of applying a model to make predictions.\n",
    "\n",
    "More to be written ..."
   ]
  },
  {
   "cell_type": "markdown",
   "metadata": {},
   "source": [
    "### Performance Metrics\n",
    "\n",
    "Popular model performance metrics can be derived from the error table.\n",
    "\n",
    "* **total error:** $\\sum error$\n",
    "* **mean square error (MSE):** $mean (error^2)$\n",
    "* **root mean square error (RMSE):** $\\sqrt{ mean (error^2)}$\n",
    "* **mean absolute percent error (MAPE):** $ 100 \\times mean(abs(error \\, / \\, actual \\, value)) $"
   ]
  },
  {
   "cell_type": "markdown",
   "metadata": {},
   "source": [
    "## About In-Sample Performance\n",
    "\n",
    "Use all the data to construct the model and use all the data to evaluate the model."
   ]
  },
  {
   "cell_type": "markdown",
   "metadata": {},
   "source": [
    "<table style=\"border:1px solid; margin-top:20px\">\n",
    "    <caption style=\"text-align:center\">In-sample Evaluation of a Regressor</caption>\n",
    "    <tr><td style=\"padding:20px; background-color:white\"><img src=\"regression_insample.jpg\" width=750></td></tr>\n",
    "</table><br clear=all>"
   ]
  },
  {
   "cell_type": "markdown",
   "metadata": {},
   "source": [
    "## Evaluation by In-Sample Performance"
   ]
  },
  {
   "cell_type": "markdown",
   "metadata": {},
   "source": [
    "Build model based on all data. Here we build a linear regression model."
   ]
  },
  {
   "cell_type": "code",
   "execution_count": 3,
   "metadata": {
    "hide_input": true
   },
   "outputs": [
    {
     "data": {
      "text/plain": [
       "\n",
       "Call:\n",
       "lm(formula = outcome ~ x1, data = data)\n",
       "\n",
       "Coefficients:\n",
       "(Intercept)           x1  \n",
       "     0.7551       0.7332  \n"
      ]
     },
     "metadata": {},
     "output_type": "display_data"
    }
   ],
   "source": [
    "model = lm(outcome~x1, data)\n",
    "model"
   ]
  },
  {
   "cell_type": "code",
   "execution_count": 4,
   "metadata": {
    "hide_input": true
   },
   "outputs": [
    {
     "data": {
      "image/png": "[encoded data removed]",
      "text/plain": [
       "plot without title"
      ]
     },
     "metadata": {
      "image/png": {
       "height": 360,
       "width": 840
      },
      "text/plain": {
       "height": 360,
       "width": 840
      }
     },
     "output_type": "display_data"
    }
   ],
   "source": [
    "ggplot(data) + xlim(0,10) + ylim(0,10) +\n",
    "geom_line(aes(x=x1, y=outcome, color=\"actual\")) +\n",
    "geom_point(aes(x=x1, y=outcome, color=\"actual\")) +\n",
    "geom_abline(aes(intercept=model$coefficients[\"(Intercept)\"], slope=model$coefficients[\"x1\"], color=\"predicted\"))"
   ]
  },
  {
   "cell_type": "markdown",
   "metadata": {},
   "source": [
    "Estimate performance of model based on all data. Here we use RMSE as the measure of performance."
   ]
  },
  {
   "cell_type": "code",
   "execution_count": 5,
   "metadata": {
    "hide_input": true
   },
   "outputs": [
    {
     "data": {
      "text/html": [
       "<table>\n",
       "<thead><tr><th scope=col>data.outcome</th><th scope=col>prediction</th><th scope=col>error</th><th scope=col>square_error</th></tr></thead>\n",
       "<tbody>\n",
       "\t<tr><td>1.0       </td><td>1.488352  </td><td> 0.4883517</td><td>0.2384874 </td></tr>\n",
       "\t<tr><td>0.5       </td><td>1.854960  </td><td> 1.3549599</td><td>1.8359164 </td></tr>\n",
       "\t<tr><td>3.0       </td><td>2.221568  </td><td>-0.7784319</td><td>0.6059562 </td></tr>\n",
       "\t<tr><td>4.0       </td><td>2.954785  </td><td>-1.0452154</td><td>1.0924753 </td></tr>\n",
       "\t<tr><td>5.5       </td><td>3.688001  </td><td>-1.8119990</td><td>3.2833404 </td></tr>\n",
       "\t<tr><td>5.0       </td><td>4.421217  </td><td>-0.5787826</td><td>0.3349893 </td></tr>\n",
       "\t<tr><td>3.5       </td><td>5.154434  </td><td> 1.6544339</td><td>2.7371514 </td></tr>\n",
       "\t<tr><td>4.0       </td><td>5.521042  </td><td> 1.5210421</td><td>2.3135690 </td></tr>\n",
       "\t<tr><td>7.0       </td><td>6.620867  </td><td>-0.3791333</td><td>0.1437420 </td></tr>\n",
       "\t<tr><td>6.5       </td><td>7.354083  </td><td> 0.8540832</td><td>0.7294581 </td></tr>\n",
       "\t<tr><td>9.0       </td><td>7.720691  </td><td>-1.2793086</td><td>1.6366305 </td></tr>\n",
       "</tbody>\n",
       "</table>\n"
      ],
      "text/latex": [
       "\\begin{tabular}{r|llll}\n",
       " data.outcome & prediction & error & square\\_error\\\\\n",
       "\\hline\n",
       "\t 1.0        & 1.488352   &  0.4883517 & 0.2384874 \\\\\n",
       "\t 0.5        & 1.854960   &  1.3549599 & 1.8359164 \\\\\n",
       "\t 3.0        & 2.221568   & -0.7784319 & 0.6059562 \\\\\n",
       "\t 4.0        & 2.954785   & -1.0452154 & 1.0924753 \\\\\n",
       "\t 5.5        & 3.688001   & -1.8119990 & 3.2833404 \\\\\n",
       "\t 5.0        & 4.421217   & -0.5787826 & 0.3349893 \\\\\n",
       "\t 3.5        & 5.154434   &  1.6544339 & 2.7371514 \\\\\n",
       "\t 4.0        & 5.521042   &  1.5210421 & 2.3135690 \\\\\n",
       "\t 7.0        & 6.620867   & -0.3791333 & 0.1437420 \\\\\n",
       "\t 6.5        & 7.354083   &  0.8540832 & 0.7294581 \\\\\n",
       "\t 9.0        & 7.720691   & -1.2793086 & 1.6366305 \\\\\n",
       "\\end{tabular}\n"
      ],
      "text/markdown": [
       "\n",
       "| data.outcome | prediction | error | square_error |\n",
       "|---|---|---|---|\n",
       "| 1.0        | 1.488352   |  0.4883517 | 0.2384874  |\n",
       "| 0.5        | 1.854960   |  1.3549599 | 1.8359164  |\n",
       "| 3.0        | 2.221568   | -0.7784319 | 0.6059562  |\n",
       "| 4.0        | 2.954785   | -1.0452154 | 1.0924753  |\n",
       "| 5.5        | 3.688001   | -1.8119990 | 3.2833404  |\n",
       "| 5.0        | 4.421217   | -0.5787826 | 0.3349893  |\n",
       "| 3.5        | 5.154434   |  1.6544339 | 2.7371514  |\n",
       "| 4.0        | 5.521042   |  1.5210421 | 2.3135690  |\n",
       "| 7.0        | 6.620867   | -0.3791333 | 0.1437420  |\n",
       "| 6.5        | 7.354083   |  0.8540832 | 0.7294581  |\n",
       "| 9.0        | 7.720691   | -1.2793086 | 1.6366305  |\n",
       "\n"
      ],
      "text/plain": [
       "   data.outcome prediction error      square_error\n",
       "1  1.0          1.488352    0.4883517 0.2384874   \n",
       "2  0.5          1.854960    1.3549599 1.8359164   \n",
       "3  3.0          2.221568   -0.7784319 0.6059562   \n",
       "4  4.0          2.954785   -1.0452154 1.0924753   \n",
       "5  5.5          3.688001   -1.8119990 3.2833404   \n",
       "6  5.0          4.421217   -0.5787826 0.3349893   \n",
       "7  3.5          5.154434    1.6544339 2.7371514   \n",
       "8  4.0          5.521042    1.5210421 2.3135690   \n",
       "9  7.0          6.620867   -0.3791333 0.1437420   \n",
       "10 6.5          7.354083    0.8540832 0.7294581   \n",
       "11 9.0          7.720691   -1.2793086 1.6366305   "
      ]
     },
     "metadata": {},
     "output_type": "display_data"
    },
    {
     "data": {
      "text/html": [
       "<table>\n",
       "<thead><tr><th scope=col>RMSE</th></tr></thead>\n",
       "<tbody>\n",
       "\t<tr><td>1.165867</td></tr>\n",
       "</tbody>\n",
       "</table>\n"
      ],
      "text/latex": [
       "\\begin{tabular}{r|l}\n",
       " RMSE\\\\\n",
       "\\hline\n",
       "\t 1.165867\\\\\n",
       "\\end{tabular}\n"
      ],
      "text/markdown": [
       "\n",
       "| RMSE |\n",
       "|---|\n",
       "| 1.165867 |\n",
       "\n"
      ],
      "text/plain": [
       "  RMSE    \n",
       "1 1.165867"
      ]
     },
     "metadata": {},
     "output_type": "display_data"
    }
   ],
   "source": [
    "prediction = predict(model, data)\n",
    "error = prediction-data$outcome\n",
    "square_error = error^2\n",
    "RMSE = sqrt(mean(square_error))\n",
    "\n",
    "data.frame(data$outcome, prediction, error, square_error)\n",
    "data.frame(RMSE)"
   ]
  },
  {
   "cell_type": "code",
   "execution_count": 6,
   "metadata": {
    "hide_input": true
   },
   "outputs": [
    {
     "data": {
      "image/png": "[encoded data removed]",
      "text/plain": [
       "plot without title"
      ]
     },
     "metadata": {
      "image/png": {
       "height": 360,
       "width": 840
      },
      "text/plain": {
       "height": 360,
       "width": 840
      }
     },
     "output_type": "display_data"
    }
   ],
   "source": [
    "ggplot(data) + xlim(0,10) + ylim(0,10) +\n",
    "geom_line(aes(x=x1, y=outcome, color=\"actual\")) +\n",
    "geom_point(aes(x=x1, y=outcome, color=\"actual\")) +\n",
    "geom_line(aes(x=x1, y=prediction, color=\"predicted\")) + geom_point(aes(x1, y=prediction, color=\"predicted\"))"
   ]
  },
  {
   "cell_type": "code",
   "execution_count": 7,
   "metadata": {
    "hide_input": true
   },
   "outputs": [
    {
     "data": {
      "image/png": "[encoded data removed]",
      "text/plain": [
       "plot without title"
      ]
     },
     "metadata": {
      "image/png": {
       "height": 360,
       "width": 840
      },
      "text/plain": {
       "height": 360,
       "width": 840
      }
     },
     "output_type": "display_data"
    }
   ],
   "source": [
    "ggplot(data)  + xlim(0,10) + ylim(-2.5,2.5) +\n",
    "geom_line(aes(x=x1, y=error), color=PALETTE[4])+ geom_point(aes(x1, y=error), color=PALETTE[4]) +\n",
    "geom_hline(aes(yintercept=0))"
   ]
  },
  {
   "cell_type": "code",
   "execution_count": 8,
   "metadata": {
    "hide_input": true
   },
   "outputs": [
    {
     "data": {
      "image/png": "[encoded data removed]",
      "text/plain": [
       "plot without title"
      ]
     },
     "metadata": {
      "image/png": {
       "height": 360,
       "width": 840
      },
      "text/plain": {
       "height": 360,
       "width": 840
      }
     },
     "output_type": "display_data"
    }
   ],
   "source": [
    "ggplot(data) + xlim(0,10) + ylim(0,5) +\n",
    "geom_line(aes(x=x1, y=square_error), color=PALETTE[4])+ geom_point(aes(x1, y=square_error), color=PALETTE[4]) +\n",
    "geom_hline(aes(yintercept=0))"
   ]
  },
  {
   "cell_type": "markdown",
   "metadata": {},
   "source": [
    "## About Out-of-Sample Performance\n",
    "\n",
    "Considered a better estimate of performance. Uses only some of the data to build a model, uses only some of the data to test a model, but uses different data for construction and evaluation. \n",
    "\n",
    "Out-of-sample performance is also known as holdout performance. "
   ]
  },
  {
   "cell_type": "markdown",
   "metadata": {},
   "source": [
    "<table style=\"border:1px solid; margin-top:20px\">\n",
    "    <caption style=\"text-align:center\">Out-of-Sample Evaluation of a Regressor</caption>\n",
    "    <tr><td style=\"padding:20px; background-color:white\"><img src=\"regression_outofsample.jpg\" width=950></td></tr>\n",
    "</table><br clear=all>"
   ]
  },
  {
   "cell_type": "markdown",
   "metadata": {},
   "source": [
    "## Evaluation by Out-of-Sample Performance"
   ]
  },
  {
   "cell_type": "markdown",
   "metadata": {},
   "source": [
    "Reserve some fraction of the data as the holdout.  Here we reserve 20% of the data as the holdout.  The rest of the data is the holdin. "
   ]
  },
  {
   "cell_type": "code",
   "execution_count": 9,
   "metadata": {
    "hide_input": true
   },
   "outputs": [
    {
     "data": {
      "text/html": [
       "<ol class=list-inline>\n",
       "\t<li>1</li>\n",
       "\t<li>2</li>\n",
       "\t<li>4</li>\n",
       "\t<li>5</li>\n",
       "\t<li>6</li>\n",
       "\t<li>7</li>\n",
       "\t<li>8</li>\n",
       "\t<li>9</li>\n",
       "\t<li>11</li>\n",
       "</ol>\n"
      ],
      "text/latex": [
       "\\begin{enumerate*}\n",
       "\\item 1\n",
       "\\item 2\n",
       "\\item 4\n",
       "\\item 5\n",
       "\\item 6\n",
       "\\item 7\n",
       "\\item 8\n",
       "\\item 9\n",
       "\\item 11\n",
       "\\end{enumerate*}\n"
      ],
      "text/markdown": [
       "1. 1\n",
       "2. 2\n",
       "3. 4\n",
       "4. 5\n",
       "5. 6\n",
       "6. 7\n",
       "7. 8\n",
       "8. 9\n",
       "9. 11\n",
       "\n",
       "\n"
      ],
      "text/plain": [
       "[1]  1  2  4  5  6  7  8  9 11"
      ]
     },
     "metadata": {},
     "output_type": "display_data"
    },
    {
     "data": {
      "text/html": [
       "<ol class=list-inline>\n",
       "\t<li>3</li>\n",
       "\t<li>10</li>\n",
       "</ol>\n"
      ],
      "text/latex": [
       "\\begin{enumerate*}\n",
       "\\item 3\n",
       "\\item 10\n",
       "\\end{enumerate*}\n"
      ],
      "text/markdown": [
       "1. 3\n",
       "2. 10\n",
       "\n",
       "\n"
      ],
      "text/plain": [
       "[1]  3 10"
      ]
     },
     "metadata": {},
     "output_type": "display_data"
    }
   ],
   "source": [
    "set.seed(12345)\n",
    "holdout = sample(1:nrow(data), 0.20*nrow(data))\n",
    "holdin = setdiff(1:nrow(data), holdout)\n",
    "\n",
    "holdin\n",
    "holdout"
   ]
  },
  {
   "cell_type": "markdown",
   "metadata": {},
   "source": [
    "Build model based on holdin data. Here we build a linear regression model. "
   ]
  },
  {
   "cell_type": "code",
   "execution_count": 10,
   "metadata": {
    "hide_input": true
   },
   "outputs": [
    {
     "data": {
      "text/plain": [
       "\n",
       "Call:\n",
       "lm(formula = outcome ~ x1, data = data[holdin, ])\n",
       "\n",
       "Coefficients:\n",
       "(Intercept)           x1  \n",
       "     0.3305       0.8208  \n"
      ]
     },
     "metadata": {},
     "output_type": "display_data"
    }
   ],
   "source": [
    "model = lm(outcome~x1, data[holdin, ])\n",
    "model"
   ]
  },
  {
   "cell_type": "code",
   "execution_count": 11,
   "metadata": {
    "hide_input": true
   },
   "outputs": [
    {
     "data": {
      "image/png": "[encoded data removed]",
      "text/plain": [
       "plot without title"
      ]
     },
     "metadata": {
      "image/png": {
       "height": 360,
       "width": 840
      },
      "text/plain": {
       "height": 360,
       "width": 840
      }
     },
     "output_type": "display_data"
    }
   ],
   "source": [
    "ggplot(data[holdin, ]) + xlim(0,10) +ylim(0,10) +\n",
    "geom_line(aes(x=x1, y=outcome, color=\"actual\")) + geom_point(aes(x1, y=outcome, color=\"actual\")) +\n",
    "geom_abline(aes(intercept=model$coefficients[\"(Intercept)\"], slope=model$coefficients[\"x1\"], color=\"predicted\"))"
   ]
  },
  {
   "cell_type": "markdown",
   "metadata": {},
   "source": [
    "Estimate performance of model based on holdout data. Here we use RMSE as the measure of performance."
   ]
  },
  {
   "cell_type": "code",
   "execution_count": 12,
   "metadata": {
    "hide_input": true
   },
   "outputs": [
    {
     "data": {
      "text/html": [
       "<table>\n",
       "<thead><tr><th></th><th scope=col>data.outcome.holdout.</th><th scope=col>prediction</th><th scope=col>error</th><th scope=col>square_error</th></tr></thead>\n",
       "<tbody>\n",
       "\t<tr><th scope=row>3</th><td>3.0      </td><td>1.972105 </td><td>-1.027895</td><td>1.056569 </td></tr>\n",
       "\t<tr><th scope=row>10</th><td>6.5      </td><td>7.717667 </td><td> 1.217667</td><td>1.482713 </td></tr>\n",
       "</tbody>\n",
       "</table>\n"
      ],
      "text/latex": [
       "\\begin{tabular}{r|llll}\n",
       "  & data.outcome.holdout. & prediction & error & square\\_error\\\\\n",
       "\\hline\n",
       "\t3 & 3.0       & 1.972105  & -1.027895 & 1.056569 \\\\\n",
       "\t10 & 6.5       & 7.717667  &  1.217667 & 1.482713 \\\\\n",
       "\\end{tabular}\n"
      ],
      "text/markdown": [
       "\n",
       "| <!--/--> | data.outcome.holdout. | prediction | error | square_error |\n",
       "|---|---|---|---|---|\n",
       "| 3 | 3.0       | 1.972105  | -1.027895 | 1.056569  |\n",
       "| 10 | 6.5       | 7.717667  |  1.217667 | 1.482713  |\n",
       "\n"
      ],
      "text/plain": [
       "   data.outcome.holdout. prediction error     square_error\n",
       "3  3.0                   1.972105   -1.027895 1.056569    \n",
       "10 6.5                   7.717667    1.217667 1.482713    "
      ]
     },
     "metadata": {},
     "output_type": "display_data"
    },
    {
     "data": {
      "text/html": [
       "<table>\n",
       "<thead><tr><th scope=col>RMSE</th></tr></thead>\n",
       "<tbody>\n",
       "\t<tr><td>1.126783</td></tr>\n",
       "</tbody>\n",
       "</table>\n"
      ],
      "text/latex": [
       "\\begin{tabular}{r|l}\n",
       " RMSE\\\\\n",
       "\\hline\n",
       "\t 1.126783\\\\\n",
       "\\end{tabular}\n"
      ],
      "text/markdown": [
       "\n",
       "| RMSE |\n",
       "|---|\n",
       "| 1.126783 |\n",
       "\n"
      ],
      "text/plain": [
       "  RMSE    \n",
       "1 1.126783"
      ]
     },
     "metadata": {},
     "output_type": "display_data"
    }
   ],
   "source": [
    "prediction = predict(model, data[holdout, ])\n",
    "error = prediction-data$outcome[holdout]\n",
    "square_error = error^2\n",
    "RMSE = sqrt(mean(square_error))\n",
    "\n",
    "data.frame(data$outcome[holdout], prediction, error, square_error)\n",
    "data.frame(RMSE)"
   ]
  },
  {
   "cell_type": "code",
   "execution_count": 13,
   "metadata": {
    "hide_input": true
   },
   "outputs": [
    {
     "data": {
      "image/png": "[encoded data removed]",
      "text/plain": [
       "plot without title"
      ]
     },
     "metadata": {
      "image/png": {
       "height": 360,
       "width": 840
      },
      "text/plain": {
       "height": 360,
       "width": 840
      }
     },
     "output_type": "display_data"
    }
   ],
   "source": [
    "ggplot(data[holdout, ]) + xlim(0,10) + ylim(0,10) +\n",
    "geom_line(aes(x=x1, y=outcome, color=\"actual\")) + geom_point(aes(x1, y=outcome, color=\"actual\")) +\n",
    "geom_line(aes(x=x1, y=prediction, color=\"predicted\")) + geom_point(aes(x1, y=prediction, color=\"predicted\"))"
   ]
  },
  {
   "cell_type": "code",
   "execution_count": 14,
   "metadata": {
    "hide_input": true
   },
   "outputs": [
    {
     "data": {
      "image/png": "[encoded data removed]",
      "text/plain": [
       "plot without title"
      ]
     },
     "metadata": {
      "image/png": {
       "height": 360,
       "width": 840
      },
      "text/plain": {
       "height": 360,
       "width": 840
      }
     },
     "output_type": "display_data"
    }
   ],
   "source": [
    "ggplot(data[holdout, ]) + xlim(0,10) + ylim(-2.5,2.5) +\n",
    "geom_line(aes(x=x1, y=error), color=PALETTE[4])+ geom_point(aes(x1, y=error), color=PALETTE[4]) +\n",
    "geom_hline(aes(yintercept=0))"
   ]
  },
  {
   "cell_type": "code",
   "execution_count": 15,
   "metadata": {
    "hide_input": true
   },
   "outputs": [
    {
     "data": {
      "image/png": "[encoded data removed]",
      "text/plain": [
       "plot without title"
      ]
     },
     "metadata": {
      "image/png": {
       "height": 360,
       "width": 840
      },
      "text/plain": {
       "height": 360,
       "width": 840
      }
     },
     "output_type": "display_data"
    }
   ],
   "source": [
    "ggplot(data[holdout, ]) + xlim(0,10) + ylim(0,5) +\n",
    "geom_line(aes(x=x1, y=square_error), color=PALETTE[4])+ geom_point(aes(x1, y=square_error), color=PALETTE[4]) +\n",
    "geom_hline(aes(yintercept=0))"
   ]
  },
  {
   "cell_type": "markdown",
   "metadata": {},
   "source": [
    "## About Cross-Validation Performance\n",
    "\n",
    "Considered to be among the best estimates of performance.  Uses all of the data to build a model, uses all of the data to test a model, and uses different data for construction and evaluation."
   ]
  },
  {
   "cell_type": "markdown",
   "metadata": {},
   "source": [
    "<table style=\"border:1px solid; margin-top:20px\">\n",
    "    <caption style=\"text-align:center\">Cross-Validation Evaluation of a Regressor</caption>\n",
    "    <tr><td style=\"padding:20px; background-color:white\"><img src=\"regression_xval.jpg\" width=950></td></tr>\n",
    "</table><br clear=all>"
   ]
  },
  {
   "cell_type": "markdown",
   "metadata": {},
   "source": [
    "## Evaluation by Cross-Validation Performance"
   ]
  },
  {
   "cell_type": "markdown",
   "metadata": {},
   "source": [
    "**Define folds.**\n",
    "\n",
    "Randomly partition the data into approximately equal-sized, non-overlapping subsets.  You choose the number of subsets.\n",
    "\n",
    "Then, for each subset, define a fold comprising test data and train data, where the test data is the subset and the train data is the rest.\n",
    "\n",
    "Here we choose 3 subsets, and so 3 folds."
   ]
  },
  {
   "cell_type": "code",
   "execution_count": 16,
   "metadata": {
    "hide_input": true
   },
   "outputs": [
    {
     "data": {
      "text/html": [
       "<dl>\n",
       "\t<dt>$Fold1</dt>\n",
       "\t\t<dd><ol class=list-inline>\n",
       "\t<li>7</li>\n",
       "\t<li>8</li>\n",
       "\t<li>9</li>\n",
       "\t<li>10</li>\n",
       "</ol>\n",
       "</dd>\n",
       "\t<dt>$Fold2</dt>\n",
       "\t\t<dd><ol class=list-inline>\n",
       "\t<li>1</li>\n",
       "\t<li>4</li>\n",
       "\t<li>5</li>\n",
       "\t<li>6</li>\n",
       "</ol>\n",
       "</dd>\n",
       "\t<dt>$Fold3</dt>\n",
       "\t\t<dd><ol class=list-inline>\n",
       "\t<li>2</li>\n",
       "\t<li>3</li>\n",
       "\t<li>11</li>\n",
       "</ol>\n",
       "</dd>\n",
       "</dl>\n"
      ],
      "text/latex": [
       "\\begin{description}\n",
       "\\item[\\$Fold1] \\begin{enumerate*}\n",
       "\\item 7\n",
       "\\item 8\n",
       "\\item 9\n",
       "\\item 10\n",
       "\\end{enumerate*}\n",
       "\n",
       "\\item[\\$Fold2] \\begin{enumerate*}\n",
       "\\item 1\n",
       "\\item 4\n",
       "\\item 5\n",
       "\\item 6\n",
       "\\end{enumerate*}\n",
       "\n",
       "\\item[\\$Fold3] \\begin{enumerate*}\n",
       "\\item 2\n",
       "\\item 3\n",
       "\\item 11\n",
       "\\end{enumerate*}\n",
       "\n",
       "\\end{description}\n"
      ],
      "text/markdown": [
       "$Fold1\n",
       ":   1. 7\n",
       "2. 8\n",
       "3. 9\n",
       "4. 10\n",
       "\n",
       "\n",
       "\n",
       "$Fold2\n",
       ":   1. 1\n",
       "2. 4\n",
       "3. 5\n",
       "4. 6\n",
       "\n",
       "\n",
       "\n",
       "$Fold3\n",
       ":   1. 2\n",
       "2. 3\n",
       "3. 11\n",
       "\n",
       "\n",
       "\n",
       "\n",
       "\n"
      ],
      "text/plain": [
       "$Fold1\n",
       "[1]  7  8  9 10\n",
       "\n",
       "$Fold2\n",
       "[1] 1 4 5 6\n",
       "\n",
       "$Fold3\n",
       "[1]  2  3 11\n"
      ]
     },
     "metadata": {},
     "output_type": "display_data"
    }
   ],
   "source": [
    "set.seed(12345)\n",
    "fold = createFolds(data$outcome, k=3)\n",
    "fold"
   ]
  },
  {
   "cell_type": "markdown",
   "metadata": {},
   "source": [
    "Here are the train and test data of fold #1."
   ]
  },
  {
   "cell_type": "code",
   "execution_count": 17,
   "metadata": {
    "hide_input": true
   },
   "outputs": [
    {
     "data": {
      "text/html": [
       "<table><tr><td style=\"background-color:white; vertical-align:top; padding-right:40px;\"><table>\n",
       "<caption><center><font color=\"black\"><b>data_1.train</b></font></center></caption>\n",
       " <thead>\n",
       "  <tr>\n",
       "   <th style=\"text-align:right;background-color: #FFFFFF !important;\"> x1 </th>\n",
       "   <th style=\"text-align:right;background-color: #FFFFFF !important;\"> outcome </th>\n",
       "  </tr>\n",
       " </thead>\n",
       "<tbody>\n",
       "  <tr>\n",
       "   <td style=\"text-align:right;\"> 1.0 </td>\n",
       "   <td style=\"text-align:right;\"> 1.0 </td>\n",
       "  </tr>\n",
       "  <tr>\n",
       "   <td style=\"text-align:right;\"> 1.5 </td>\n",
       "   <td style=\"text-align:right;\"> 0.5 </td>\n",
       "  </tr>\n",
       "  <tr>\n",
       "   <td style=\"text-align:right;\"> 2.0 </td>\n",
       "   <td style=\"text-align:right;\"> 3.0 </td>\n",
       "  </tr>\n",
       "  <tr>\n",
       "   <td style=\"text-align:right;\"> 3.0 </td>\n",
       "   <td style=\"text-align:right;\"> 4.0 </td>\n",
       "  </tr>\n",
       "  <tr>\n",
       "   <td style=\"text-align:right;\"> 4.0 </td>\n",
       "   <td style=\"text-align:right;\"> 5.5 </td>\n",
       "  </tr>\n",
       "  <tr>\n",
       "   <td style=\"text-align:right;\"> 5.0 </td>\n",
       "   <td style=\"text-align:right;\"> 5.0 </td>\n",
       "  </tr>\n",
       "  <tr>\n",
       "   <td style=\"text-align:right;\"> 9.5 </td>\n",
       "   <td style=\"text-align:right;\"> 9.0 </td>\n",
       "  </tr>\n",
       "</tbody>\n",
       "</table></td><td style=\"background-color:white; vertical-align:top;\"><table>\n",
       "<caption><center><font color=\"black\"><b>data_1.test</b></font></center></caption>\n",
       " <thead>\n",
       "  <tr>\n",
       "   <th style=\"text-align:right;background-color: #FFFFFF !important;\"> x1 </th>\n",
       "   <th style=\"text-align:right;background-color: #FFFFFF !important;\"> outcome </th>\n",
       "  </tr>\n",
       " </thead>\n",
       "<tbody>\n",
       "  <tr>\n",
       "   <td style=\"text-align:right;\"> 6.0 </td>\n",
       "   <td style=\"text-align:right;\"> 3.5 </td>\n",
       "  </tr>\n",
       "  <tr>\n",
       "   <td style=\"text-align:right;\"> 6.5 </td>\n",
       "   <td style=\"text-align:right;\"> 4.0 </td>\n",
       "  </tr>\n",
       "  <tr>\n",
       "   <td style=\"text-align:right;\"> 8.0 </td>\n",
       "   <td style=\"text-align:right;\"> 7.0 </td>\n",
       "  </tr>\n",
       "  <tr>\n",
       "   <td style=\"text-align:right;\"> 9.0 </td>\n",
       "   <td style=\"text-align:right;\"> 6.5 </td>\n",
       "  </tr>\n",
       "</tbody>\n",
       "</table></td></tr></table>"
      ]
     },
     "metadata": {},
     "output_type": "display_data"
    }
   ],
   "source": [
    "data_1.train = data[setdiff(1:nrow(data), fold$Fold1),]\n",
    "data_1.test  = data[fold$Fold1,]\n",
    "\n",
    "layout(fmt(data_1.train), fmt(data_1.test))"
   ]
  },
  {
   "cell_type": "markdown",
   "metadata": {},
   "source": [
    "Here are the train and test data of fold #2."
   ]
  },
  {
   "cell_type": "code",
   "execution_count": 18,
   "metadata": {
    "hide_input": true
   },
   "outputs": [
    {
     "data": {
      "text/html": [
       "<table><tr><td style=\"background-color:white; vertical-align:top; padding-right:40px;\"><table>\n",
       "<caption><center><font color=\"black\"><b>data_2.train</b></font></center></caption>\n",
       " <thead>\n",
       "  <tr>\n",
       "   <th style=\"text-align:right;background-color: #FFFFFF !important;\"> x1 </th>\n",
       "   <th style=\"text-align:right;background-color: #FFFFFF !important;\"> outcome </th>\n",
       "  </tr>\n",
       " </thead>\n",
       "<tbody>\n",
       "  <tr>\n",
       "   <td style=\"text-align:right;\"> 1.5 </td>\n",
       "   <td style=\"text-align:right;\"> 0.5 </td>\n",
       "  </tr>\n",
       "  <tr>\n",
       "   <td style=\"text-align:right;\"> 2.0 </td>\n",
       "   <td style=\"text-align:right;\"> 3.0 </td>\n",
       "  </tr>\n",
       "  <tr>\n",
       "   <td style=\"text-align:right;\"> 6.0 </td>\n",
       "   <td style=\"text-align:right;\"> 3.5 </td>\n",
       "  </tr>\n",
       "  <tr>\n",
       "   <td style=\"text-align:right;\"> 6.5 </td>\n",
       "   <td style=\"text-align:right;\"> 4.0 </td>\n",
       "  </tr>\n",
       "  <tr>\n",
       "   <td style=\"text-align:right;\"> 8.0 </td>\n",
       "   <td style=\"text-align:right;\"> 7.0 </td>\n",
       "  </tr>\n",
       "  <tr>\n",
       "   <td style=\"text-align:right;\"> 9.0 </td>\n",
       "   <td style=\"text-align:right;\"> 6.5 </td>\n",
       "  </tr>\n",
       "  <tr>\n",
       "   <td style=\"text-align:right;\"> 9.5 </td>\n",
       "   <td style=\"text-align:right;\"> 9.0 </td>\n",
       "  </tr>\n",
       "</tbody>\n",
       "</table></td><td style=\"background-color:white; vertical-align:top;\"><table>\n",
       "<caption><center><font color=\"black\"><b>data_2.test</b></font></center></caption>\n",
       " <thead>\n",
       "  <tr>\n",
       "   <th style=\"text-align:right;background-color: #FFFFFF !important;\"> x1 </th>\n",
       "   <th style=\"text-align:right;background-color: #FFFFFF !important;\"> outcome </th>\n",
       "  </tr>\n",
       " </thead>\n",
       "<tbody>\n",
       "  <tr>\n",
       "   <td style=\"text-align:right;\"> 1 </td>\n",
       "   <td style=\"text-align:right;\"> 1.0 </td>\n",
       "  </tr>\n",
       "  <tr>\n",
       "   <td style=\"text-align:right;\"> 3 </td>\n",
       "   <td style=\"text-align:right;\"> 4.0 </td>\n",
       "  </tr>\n",
       "  <tr>\n",
       "   <td style=\"text-align:right;\"> 4 </td>\n",
       "   <td style=\"text-align:right;\"> 5.5 </td>\n",
       "  </tr>\n",
       "  <tr>\n",
       "   <td style=\"text-align:right;\"> 5 </td>\n",
       "   <td style=\"text-align:right;\"> 5.0 </td>\n",
       "  </tr>\n",
       "</tbody>\n",
       "</table></td></tr></table>"
      ]
     },
     "metadata": {},
     "output_type": "display_data"
    }
   ],
   "source": [
    "data_2.train = data[setdiff(1:nrow(data), fold$Fold2),]\n",
    "data_2.test  = data[fold$Fold2,]\n",
    "\n",
    "layout(fmt(data_2.train), fmt(data_2.test))"
   ]
  },
  {
   "cell_type": "markdown",
   "metadata": {},
   "source": [
    "Here are the train and test data of fold #3."
   ]
  },
  {
   "cell_type": "code",
   "execution_count": 19,
   "metadata": {
    "hide_input": true
   },
   "outputs": [
    {
     "data": {
      "text/html": [
       "<table><tr><td style=\"background-color:white; vertical-align:top; padding-right:40px;\"><table>\n",
       "<caption><center><font color=\"black\"><b>data_3.train</b></font></center></caption>\n",
       " <thead>\n",
       "  <tr>\n",
       "   <th style=\"text-align:right;background-color: #FFFFFF !important;\"> x1 </th>\n",
       "   <th style=\"text-align:right;background-color: #FFFFFF !important;\"> outcome </th>\n",
       "  </tr>\n",
       " </thead>\n",
       "<tbody>\n",
       "  <tr>\n",
       "   <td style=\"text-align:right;\"> 1.0 </td>\n",
       "   <td style=\"text-align:right;\"> 1.0 </td>\n",
       "  </tr>\n",
       "  <tr>\n",
       "   <td style=\"text-align:right;\"> 3.0 </td>\n",
       "   <td style=\"text-align:right;\"> 4.0 </td>\n",
       "  </tr>\n",
       "  <tr>\n",
       "   <td style=\"text-align:right;\"> 4.0 </td>\n",
       "   <td style=\"text-align:right;\"> 5.5 </td>\n",
       "  </tr>\n",
       "  <tr>\n",
       "   <td style=\"text-align:right;\"> 5.0 </td>\n",
       "   <td style=\"text-align:right;\"> 5.0 </td>\n",
       "  </tr>\n",
       "  <tr>\n",
       "   <td style=\"text-align:right;\"> 6.0 </td>\n",
       "   <td style=\"text-align:right;\"> 3.5 </td>\n",
       "  </tr>\n",
       "  <tr>\n",
       "   <td style=\"text-align:right;\"> 6.5 </td>\n",
       "   <td style=\"text-align:right;\"> 4.0 </td>\n",
       "  </tr>\n",
       "  <tr>\n",
       "   <td style=\"text-align:right;\"> 8.0 </td>\n",
       "   <td style=\"text-align:right;\"> 7.0 </td>\n",
       "  </tr>\n",
       "  <tr>\n",
       "   <td style=\"text-align:right;\"> 9.0 </td>\n",
       "   <td style=\"text-align:right;\"> 6.5 </td>\n",
       "  </tr>\n",
       "</tbody>\n",
       "</table></td><td style=\"background-color:white; vertical-align:top;\"><table>\n",
       "<caption><center><font color=\"black\"><b>data_3.test</b></font></center></caption>\n",
       " <thead>\n",
       "  <tr>\n",
       "   <th style=\"text-align:right;background-color: #FFFFFF !important;\"> x1 </th>\n",
       "   <th style=\"text-align:right;background-color: #FFFFFF !important;\"> outcome </th>\n",
       "  </tr>\n",
       " </thead>\n",
       "<tbody>\n",
       "  <tr>\n",
       "   <td style=\"text-align:right;\"> 1.5 </td>\n",
       "   <td style=\"text-align:right;\"> 0.5 </td>\n",
       "  </tr>\n",
       "  <tr>\n",
       "   <td style=\"text-align:right;\"> 2.0 </td>\n",
       "   <td style=\"text-align:right;\"> 3.0 </td>\n",
       "  </tr>\n",
       "  <tr>\n",
       "   <td style=\"text-align:right;\"> 9.5 </td>\n",
       "   <td style=\"text-align:right;\"> 9.0 </td>\n",
       "  </tr>\n",
       "</tbody>\n",
       "</table></td></tr></table>"
      ]
     },
     "metadata": {},
     "output_type": "display_data"
    }
   ],
   "source": [
    "data_3.train = data[setdiff(1:nrow(data), fold$Fold3),]\n",
    "data_3.test  = data[fold$Fold3,]\n",
    "\n",
    "layout(fmt(data_3.train), fmt(data_3.test))"
   ]
  },
  {
   "cell_type": "markdown",
   "metadata": {},
   "source": [
    "**For each fold, build a model based on _train_ data.**\n",
    "\n",
    "Use the same method and hyper-parameter settings for each model."
   ]
  },
  {
   "cell_type": "code",
   "execution_count": 20,
   "metadata": {
    "hide_input": true
   },
   "outputs": [
    {
     "data": {
      "text/plain": [
       "\n",
       "Call:\n",
       "lm(formula = outcome ~ x1, data = data_1.train)\n",
       "\n",
       "Coefficients:\n",
       "(Intercept)           x1  \n",
       "     0.4811       0.9474  \n"
      ]
     },
     "metadata": {},
     "output_type": "display_data"
    },
    {
     "data": {
      "text/plain": [
       "\n",
       "Call:\n",
       "lm(formula = outcome ~ x1, data = data_2.train)\n",
       "\n",
       "Coefficients:\n",
       "(Intercept)           x1  \n",
       "    -0.1684       0.8160  \n"
      ]
     },
     "metadata": {},
     "output_type": "display_data"
    },
    {
     "data": {
      "text/plain": [
       "\n",
       "Call:\n",
       "lm(formula = outcome ~ x1, data = data_3.train)\n",
       "\n",
       "Coefficients:\n",
       "(Intercept)           x1  \n",
       "     1.5380       0.5693  \n"
      ]
     },
     "metadata": {},
     "output_type": "display_data"
    }
   ],
   "source": [
    "model_1 = lm(outcome~x1, data_1.train)\n",
    "model_2 = lm(outcome~x1, data_2.train)\n",
    "model_3 = lm(outcome~x1, data_3.train)\n",
    "\n",
    "model_1\n",
    "model_2\n",
    "model_3"
   ]
  },
  {
   "cell_type": "code",
   "execution_count": 21,
   "metadata": {
    "hide_input": true
   },
   "outputs": [
    {
     "data": {
      "image/png": "[encoded data removed]",
      "text/plain": [
       "plot without title"
      ]
     },
     "metadata": {
      "image/png": {
       "height": 360,
       "width": 960
      },
      "text/plain": {
       "height": 360,
       "width": 960
      }
     },
     "output_type": "display_data"
    }
   ],
   "source": [
    "output_size(8,3)\n",
    "grid.arrange(ggplot(data_1.train) +\n",
    "             geom_line(aes(x=x1, y=outcome, color=\"actual\")) +\n",
    "             geom_point(aes(x1, y=outcome, color=\"actual\")) +\n",
    "             geom_abline(aes(intercept=model_1$coefficients[\"(Intercept)\"], slope=model_1$coefficients[\"x1\"], color=\"predicted\")) +\n",
    "             xlim(0,10) + ylim(0,10) + theme.legend_bottom,\n",
    "             \n",
    "             ggplot(data_2.train) +\n",
    "             geom_line(aes(x=x1, y=outcome, color=\"actual\")) + geom_point(aes(x1, y=outcome, color=\"actual\")) +\n",
    "             geom_abline(aes(intercept=model_2$coefficients[\"(Intercept)\"], slope=model_2$coefficients[\"x1\"], color=\"predicted\")) +\n",
    "             xlim(0,10) + ylim(0,10) + theme.legend_bottom,\n",
    "             \n",
    "             ggplot(data_3.train) +\n",
    "             geom_line(aes(x=x1, y=outcome, color=\"actual\")) + geom_point(aes(x1, y=outcome, color=\"actual\")) +\n",
    "             geom_abline(aes(intercept=model_3$coefficients[\"(Intercept)\"], slope=model_3$coefficients[\"x1\"], color=\"predicted\")) +\n",
    "             xlim(0,10) + ylim(0,10) + theme.legend_bottom,\n",
    "             \n",
    "             nrow=1)\n",
    "output_size(restore)"
   ]
  },
  {
   "cell_type": "markdown",
   "metadata": {},
   "source": [
    "**Compare predictions to actuals.**\n",
    "\n",
    "With each model, predict the corresponding _test_ data and calculate the per observation performance measures."
   ]
  },
  {
   "cell_type": "code",
   "execution_count": 22,
   "metadata": {
    "hide_input": true
   },
   "outputs": [
    {
     "data": {
      "text/html": [
       "<table>\n",
       "<thead><tr><th></th><th scope=col>x1</th><th scope=col>outcome</th><th scope=col>outcome.predicted</th><th scope=col>error</th></tr></thead>\n",
       "<tbody>\n",
       "\t<tr><th scope=row>7</th><td>6.0     </td><td>3.5     </td><td>6.165498</td><td>2.665498</td></tr>\n",
       "\t<tr><th scope=row>8</th><td>6.5     </td><td>4.0     </td><td>6.639201</td><td>2.639201</td></tr>\n",
       "\t<tr><th scope=row>9</th><td>8.0     </td><td>7.0     </td><td>8.060309</td><td>1.060309</td></tr>\n",
       "\t<tr><th scope=row>10</th><td>9.0     </td><td>6.5     </td><td>9.007714</td><td>2.507714</td></tr>\n",
       "</tbody>\n",
       "</table>\n"
      ],
      "text/latex": [
       "\\begin{tabular}{r|llll}\n",
       "  & x1 & outcome & outcome.predicted & error\\\\\n",
       "\\hline\n",
       "\t7 & 6.0      & 3.5      & 6.165498 & 2.665498\\\\\n",
       "\t8 & 6.5      & 4.0      & 6.639201 & 2.639201\\\\\n",
       "\t9 & 8.0      & 7.0      & 8.060309 & 1.060309\\\\\n",
       "\t10 & 9.0      & 6.5      & 9.007714 & 2.507714\\\\\n",
       "\\end{tabular}\n"
      ],
      "text/markdown": [
       "\n",
       "| <!--/--> | x1 | outcome | outcome.predicted | error |\n",
       "|---|---|---|---|---|\n",
       "| 7 | 6.0      | 3.5      | 6.165498 | 2.665498 |\n",
       "| 8 | 6.5      | 4.0      | 6.639201 | 2.639201 |\n",
       "| 9 | 8.0      | 7.0      | 8.060309 | 1.060309 |\n",
       "| 10 | 9.0      | 6.5      | 9.007714 | 2.507714 |\n",
       "\n"
      ],
      "text/plain": [
       "   x1  outcome outcome.predicted error   \n",
       "7  6.0 3.5     6.165498          2.665498\n",
       "8  6.5 4.0     6.639201          2.639201\n",
       "9  8.0 7.0     8.060309          1.060309\n",
       "10 9.0 6.5     9.007714          2.507714"
      ]
     },
     "metadata": {},
     "output_type": "display_data"
    },
    {
     "data": {
      "text/html": [
       "<table>\n",
       "<thead><tr><th></th><th scope=col>x1</th><th scope=col>outcome</th><th scope=col>outcome.predicted</th><th scope=col>error</th></tr></thead>\n",
       "<tbody>\n",
       "\t<tr><th scope=row>1</th><td>1         </td><td>1.0       </td><td>0.6475694 </td><td>-0.3524306</td></tr>\n",
       "\t<tr><th scope=row>4</th><td>3         </td><td>4.0       </td><td>2.2795139 </td><td>-1.7204861</td></tr>\n",
       "\t<tr><th scope=row>5</th><td>4         </td><td>5.5       </td><td>3.0954861 </td><td>-2.4045139</td></tr>\n",
       "\t<tr><th scope=row>6</th><td>5         </td><td>5.0       </td><td>3.9114583 </td><td>-1.0885417</td></tr>\n",
       "</tbody>\n",
       "</table>\n"
      ],
      "text/latex": [
       "\\begin{tabular}{r|llll}\n",
       "  & x1 & outcome & outcome.predicted & error\\\\\n",
       "\\hline\n",
       "\t1 & 1          & 1.0        & 0.6475694  & -0.3524306\\\\\n",
       "\t4 & 3          & 4.0        & 2.2795139  & -1.7204861\\\\\n",
       "\t5 & 4          & 5.5        & 3.0954861  & -2.4045139\\\\\n",
       "\t6 & 5          & 5.0        & 3.9114583  & -1.0885417\\\\\n",
       "\\end{tabular}\n"
      ],
      "text/markdown": [
       "\n",
       "| <!--/--> | x1 | outcome | outcome.predicted | error |\n",
       "|---|---|---|---|---|\n",
       "| 1 | 1          | 1.0        | 0.6475694  | -0.3524306 |\n",
       "| 4 | 3          | 4.0        | 2.2795139  | -1.7204861 |\n",
       "| 5 | 4          | 5.5        | 3.0954861  | -2.4045139 |\n",
       "| 6 | 5          | 5.0        | 3.9114583  | -1.0885417 |\n",
       "\n"
      ],
      "text/plain": [
       "  x1 outcome outcome.predicted error     \n",
       "1 1  1.0     0.6475694         -0.3524306\n",
       "4 3  4.0     2.2795139         -1.7204861\n",
       "5 4  5.5     3.0954861         -2.4045139\n",
       "6 5  5.0     3.9114583         -1.0885417"
      ]
     },
     "metadata": {},
     "output_type": "display_data"
    },
    {
     "data": {
      "text/html": [
       "<table>\n",
       "<thead><tr><th></th><th scope=col>x1</th><th scope=col>outcome</th><th scope=col>outcome.predicted</th><th scope=col>error</th></tr></thead>\n",
       "<tbody>\n",
       "\t<tr><th scope=row>2</th><td>1.5       </td><td>0.5       </td><td>2.392005  </td><td> 1.8920052</td></tr>\n",
       "\t<tr><th scope=row>3</th><td>2.0       </td><td>3.0       </td><td>2.676660  </td><td>-0.3233398</td></tr>\n",
       "\t<tr><th scope=row>11</th><td>9.5       </td><td>9.0       </td><td>6.946486  </td><td>-2.0535139</td></tr>\n",
       "</tbody>\n",
       "</table>\n"
      ],
      "text/latex": [
       "\\begin{tabular}{r|llll}\n",
       "  & x1 & outcome & outcome.predicted & error\\\\\n",
       "\\hline\n",
       "\t2 & 1.5        & 0.5        & 2.392005   &  1.8920052\\\\\n",
       "\t3 & 2.0        & 3.0        & 2.676660   & -0.3233398\\\\\n",
       "\t11 & 9.5        & 9.0        & 6.946486   & -2.0535139\\\\\n",
       "\\end{tabular}\n"
      ],
      "text/markdown": [
       "\n",
       "| <!--/--> | x1 | outcome | outcome.predicted | error |\n",
       "|---|---|---|---|---|\n",
       "| 2 | 1.5        | 0.5        | 2.392005   |  1.8920052 |\n",
       "| 3 | 2.0        | 3.0        | 2.676660   | -0.3233398 |\n",
       "| 11 | 9.5        | 9.0        | 6.946486   | -2.0535139 |\n",
       "\n"
      ],
      "text/plain": [
       "   x1  outcome outcome.predicted error     \n",
       "2  1.5 0.5     2.392005           1.8920052\n",
       "3  2.0 3.0     2.676660          -0.3233398\n",
       "11 9.5 9.0     6.946486          -2.0535139"
      ]
     },
     "metadata": {},
     "output_type": "display_data"
    }
   ],
   "source": [
    "result_1 = data_1.test\n",
    "result_1$outcome.predicted = predict(model_1, data_1.test)\n",
    "result_1$error = result_1$outcome.predicted - result_1$outcome\n",
    "\n",
    "result_2 = data_2.test\n",
    "result_2$outcome.predicted = predict(model_2, data_2.test)\n",
    "result_2$error = result_2$outcome.predicted - result_2$outcome\n",
    "\n",
    "\n",
    "result_3 = data_3.test\n",
    "result_3$outcome.predicted = predict(model_3, data_3.test)\n",
    "result_3$error = result_3$outcome.predicted - result_3$outcome\n",
    "\n",
    "result_1\n",
    "result_2\n",
    "result_3"
   ]
  },
  {
   "cell_type": "code",
   "execution_count": 23,
   "metadata": {
    "hide_input": true
   },
   "outputs": [
    {
     "data": {
      "image/png": "[encoded data removed]",
      "text/plain": [
       "plot without title"
      ]
     },
     "metadata": {
      "image/png": {
       "height": 360,
       "width": 960
      },
      "text/plain": {
       "height": 360,
       "width": 960
      }
     },
     "output_type": "display_data"
    }
   ],
   "source": [
    "output_size(8,3)\n",
    "grid.arrange(ggplot(result_1) +\n",
    "             geom_line(aes(x=x1, y=outcome, color=\"actual\")) + geom_point(aes(x1, y=outcome, color=\"actual\")) +\n",
    "             geom_line(aes(x=x1, y=outcome.predicted, color=\"predicted\")) + geom_point(aes(x1, y=outcome.predicted, color=\"predicted\")) +\n",
    "             xlim(0,10) + ylim(0,10) + theme.legend_bottom,\n",
    "             \n",
    "             ggplot(result_2) +\n",
    "             geom_line(aes(x=x1, y=outcome, color=\"actual\")) + geom_point(aes(x1, y=outcome, color=\"actual\")) +\n",
    "             geom_line(aes(x=x1, y=outcome.predicted, color=\"predicted\")) + geom_point(aes(x1, y=outcome.predicted, color=\"predicted\")) +\n",
    "             xlim(0,10) + ylim(0,10) + theme.legend_bottom,\n",
    "             \n",
    "             ggplot(result_3) +\n",
    "             geom_line(aes(x=x1, y=outcome, color=\"actual\")) + geom_point(aes(x1, y=outcome, color=\"actual\")) +\n",
    "             geom_line(aes(x=x1, y=outcome.predicted, color=\"predicted\")) + geom_point(aes(x1, y=outcome.predicted, color=\"predicted\")) +\n",
    "             xlim(0,10) + ylim(0,10) + theme.legend_bottom,\n",
    "             \n",
    "             nrow=1)\n",
    "output_size(restore)"
   ]
  },
  {
   "cell_type": "markdown",
   "metadata": {},
   "source": [
    "**Calculate performance measures per fold.**\n",
    "\n",
    "For each set of per observation performance measures, calculate the overall performance measure."
   ]
  },
  {
   "cell_type": "code",
   "execution_count": 24,
   "metadata": {
    "hide_input": true
   },
   "outputs": [
    {
     "data": {
      "text/html": [
       "<table>\n",
       " <thead>\n",
       "  <tr>\n",
       "   <th style=\"text-align:right;background-color: #FFFFFF !important;\"> RMSE </th>\n",
       "  </tr>\n",
       " </thead>\n",
       "<tbody>\n",
       "  <tr>\n",
       "   <td style=\"text-align:right;\"> 2.317496 </td>\n",
       "  </tr>\n",
       "  <tr>\n",
       "   <td style=\"text-align:right;\"> 1.585157 </td>\n",
       "  </tr>\n",
       "  <tr>\n",
       "   <td style=\"text-align:right;\"> 1.622873 </td>\n",
       "  </tr>\n",
       "</tbody>\n",
       "</table>"
      ]
     },
     "metadata": {},
     "output_type": "display_data"
    }
   ],
   "source": [
    "RMSE = c()\n",
    "RMSE[1] = sqrt(mean(result_1$error^2))\n",
    "RMSE[2] = sqrt(mean(result_2$error^2))\n",
    "RMSE[3] = sqrt(mean(result_3$error^2))\n",
    "\n",
    "fmt(RMSE)"
   ]
  },
  {
   "cell_type": "markdown",
   "metadata": {},
   "source": [
    "**Calculate performance measure.**\n",
    "\n",
    "Calculate one overall performance measure as the mean of the previously calculated overall performance measures.\n",
    "\n",
    "This one overall performance measure is an estimate of the performance measure of a model that could be built using **all** the data.  Note that we never actually built a model using all data when we used cross-validation to evaluate it."
   ]
  },
  {
   "cell_type": "code",
   "execution_count": 25,
   "metadata": {
    "hide_input": true
   },
   "outputs": [
    {
     "data": {
      "text/html": [
       "<table>\n",
       " <thead>\n",
       "  <tr>\n",
       "   <th style=\"text-align:right;background-color: #FFFFFF !important;\"> RMSE </th>\n",
       "  </tr>\n",
       " </thead>\n",
       "<tbody>\n",
       "  <tr>\n",
       "   <td style=\"text-align:right;\"> 1.841842 </td>\n",
       "  </tr>\n",
       "</tbody>\n",
       "</table>"
      ]
     },
     "metadata": {},
     "output_type": "display_data"
    }
   ],
   "source": [
    "fmt(mean(RMSE), \"RMSE\")"
   ]
  },
  {
   "cell_type": "markdown",
   "metadata": {},
   "source": [
    "## Code"
   ]
  },
  {
   "cell_type": "markdown",
   "metadata": {},
   "source": [
    "### Useful Functions"
   ]
  },
  {
   "cell_type": "code",
   "execution_count": 26,
   "metadata": {},
   "outputs": [],
   "source": [
    "# help(set.seed)        # from base library\n",
    "# help(sample)          # from base library\n",
    "# help(colnames)        # from base library\n",
    "# help(createFolds)     # from caret library\n",
    "# help(setdiff)         # from base library\n",
    "# help(predict)         # from stats library"
   ]
  },
  {
   "cell_type": "markdown",
   "metadata": {},
   "source": [
    "### Templates"
   ]
  },
  {
   "cell_type": "code",
   "execution_count": 27,
   "metadata": {},
   "outputs": [
    {
     "data": {
      "text/html": [
       "<table>\n",
       "<thead><tr><th scope=col>fold</th><th scope=col>RMSE</th></tr></thead>\n",
       "<tbody>\n",
       "\t<tr><td>1        </td><td> 6.772996</td></tr>\n",
       "\t<tr><td>2        </td><td>16.248254</td></tr>\n",
       "\t<tr><td>3        </td><td> 6.447674</td></tr>\n",
       "</tbody>\n",
       "</table>\n"
      ],
      "text/latex": [
       "\\begin{tabular}{r|ll}\n",
       " fold & RMSE\\\\\n",
       "\\hline\n",
       "\t 1         &  6.772996\\\\\n",
       "\t 2         & 16.248254\\\\\n",
       "\t 3         &  6.447674\\\\\n",
       "\\end{tabular}\n"
      ],
      "text/markdown": [
       "\n",
       "| fold | RMSE |\n",
       "|---|---|\n",
       "| 1         |  6.772996 |\n",
       "| 2         | 16.248254 |\n",
       "| 3         |  6.447674 |\n",
       "\n"
      ],
      "text/plain": [
       "  fold RMSE     \n",
       "1 1     6.772996\n",
       "2 2    16.248254\n",
       "3 3     6.447674"
      ]
     },
     "metadata": {},
     "output_type": "display_data"
    },
    {
     "data": {
      "text/html": [
       "<table>\n",
       " <thead>\n",
       "  <tr>\n",
       "   <th style=\"text-align:right;background-color: #FFFFFF !important;\"> cross-validation RMSE </th>\n",
       "  </tr>\n",
       " </thead>\n",
       "<tbody>\n",
       "  <tr>\n",
       "   <td style=\"text-align:right;\"> 9.822975 </td>\n",
       "  </tr>\n",
       "</tbody>\n",
       "</table>"
      ]
     },
     "metadata": {},
     "output_type": "display_data"
    }
   ],
   "source": [
    "# Evaluate model performance by cross-validation\n",
    "\n",
    "data = data.frame(x1=c(1,2,3,4,5,6,7,8,9),\n",
    "                  x2=c(4,3,4,2,1,3,0,9,2),\n",
    "                  outcome=c(50,49,39,25,31,35,30,40,45))\n",
    "\n",
    "set.seed(0)\n",
    "fold = createFolds(data$outcome, k=3)\n",
    "\n",
    "RMSE = c(NA, NA, NA)\n",
    "\n",
    "for (i in 1:3)\n",
    "  { data.train = data[setdiff(1:nrow(data), fold[[i]]),]\n",
    "    data.test = data[fold[[i]],]\n",
    "   \n",
    "    model = lm(outcome ~ x1+x2, data.train)\n",
    "    outcome.predicted = predict(model, data.test)\n",
    "    error = outcome.predicted - data.test$outcome\n",
    "    RMSE[i] = sqrt(mean(error^2)) }\n",
    "\n",
    "data.frame(fold=1:3, RMSE)\n",
    "\n",
    "fmt(mean(RMSE), \"cross-validation RMSE\")"
   ]
  },
  {
   "cell_type": "markdown",
   "metadata": {},
   "source": [
    "<br>\n",
    "\n",
    "## Expectations\n",
    "\n",
    "Know about this:\n",
    "* Predictive data analytic methodology, conceptually.\n",
    "* Terminology regarding predictive data analytic methodology.\n",
    "* How to construct a predictive model using a provided predictive analytic method, conceptually and using R.\n",
    "* How to evaluate a predictive model by insample, conceptually and using R.\n",
    "* How to evaluate a predictive model by out-of-sample/holdout, conceptually and using R.\n",
    "* How to evaluate a predictive model by cross-validation, conceptually and using R."
   ]
  },
  {
   "cell_type": "markdown",
   "metadata": {},
   "source": [
    "## Further Reading\n",
    "\n",
    "* https://www.youtube.com/watch?v=fSytzGwwBVw\n",
    "* https://www.youtube.com/watch?v=TIgfjmp-4BA\n",
    "* http://ciml.info/dl/v0_99/ciml-v0_99-ch03.pdf\n",
    "* http://www-stat.wharton.upenn.edu/~stine/mich/DM_05.pdf\n",
    "* https://machinelearningmastery.com/much-training-data-required-machine-learning/"
   ]
  },
  {
   "cell_type": "markdown",
   "metadata": {},
   "source": [
    "<p style=\"text-align:left; font-size:10px;\">\n",
    "Copyright (c) Berkeley Data Analytics Group, LLC\n",
    "<span style=\"float:right;\">\n",
    "Document revised July 17, 2020\n",
    "</span>\n",
    "</p>"
   ]
  }
 ],
 "metadata": {
  "hide_code_all_hidden": false,
  "hide_input": false,
  "kernelspec": {
   "display_name": "R",
   "language": "R",
   "name": "ir"
  },
  "language_info": {
   "codemirror_mode": "r",
   "file_extension": ".r",
   "mimetype": "text/x-r-source",
   "name": "R",
   "pygments_lexer": "r",
   "version": "3.6.1"
  },
  "toc": {
   "base_numbering": 1,
   "nav_menu": {},
   "number_sections": true,
   "sideBar": true,
   "skip_h1_title": true,
   "title_cell": "Table of Contents",
   "title_sidebar": "Contents",
   "toc_cell": false,
   "toc_position": {},
   "toc_section_display": true,
   "toc_window_display": true
  }
 },
 "nbformat": 4,
 "nbformat_minor": 2
}
