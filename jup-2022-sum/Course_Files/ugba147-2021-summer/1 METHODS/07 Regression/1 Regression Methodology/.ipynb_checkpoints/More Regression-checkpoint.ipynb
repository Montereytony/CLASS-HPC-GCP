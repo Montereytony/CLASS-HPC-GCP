{
 "cells": [
  {
   "cell_type": "markdown",
   "metadata": {
    "hideCode": false,
    "hidePrompt": false
   },
   "source": [
    "# More Regression Methods\n",
    "\n",
    "![](banner_more_regression.jpg)"
   ]
  },
  {
   "cell_type": "code",
   "execution_count": 1,
   "metadata": {},
   "outputs": [
    {
     "name": "stdout",
     "output_type": "stream",
     "text": [
      "Open code cell here for notebook apparatus."
     ]
    }
   ],
   "source": [
    "cat(\"Open code cell here for notebook apparatus.\")\n",
    "\n",
    "options(warn=-1)\n",
    "\n",
    "# Load some required functions\n",
    "library(ggplot2,    verbose=FALSE, warn.conflicts=FALSE, quietly=TRUE)\n",
    "library(gridExtra,  verbose=FALSE, warn.conflicts=FALSE, quietly=TRUE)\n",
    "library(rpart,      verbose=FALSE, warn.conflicts=FALSE, quietly=TRUE)\n",
    "library(rpart.plot, verbose=FALSE, warn.conflicts=FALSE, quietly=TRUE)\n",
    "library(kknn,       verbose=FALSE, warn.conflicts=FALSE, quietly=TRUE)\n",
    "library(neuralnet,  verbose=FALSE, warn.conflicts=FALSE, quietly=TRUE)\n",
    "library(e1071,      verbose=FALSE, warn.conflicts=FALSE, quietly=TRUE)\n",
    "\n",
    "# Define some visualization constants\n",
    "restore = list(repr.plot.width=8, repr.plot.height=3)\n",
    "PALETTE = c(\"#00A9FF\", \"#F8766D\", \"#7CAE00\", \"#C77CFF\", \"#CD9600\", \"#00BE67\", \"#FF61CC\", \"#00BFC4\")\n",
    "                      \n",
    "# Set some visualization formatting defaults\n",
    "options(restore)\n",
    "update_geom_defaults(\"point\", list(size=3, colour=\"grey50\"))\n",
    "theme_update(plot.title=element_text(size=10, hjust=0.5), plot.subtitle=element_text(size=8, face=\"italic\", hjust=0.5), axis.title=element_text(size=7), axis.text=element_text(size=7), strip.text=element_text(size=7), strip.text.y=element_text(angle=90), legend.title=element_blank(), legend.text=element_text(size=7))"
   ]
  },
  {
   "cell_type": "markdown",
   "metadata": {},
   "source": [
    "## Introduction\n",
    "\n",
    "Motivation, context, history, overview, related topics, terminology ..."
   ]
  },
  {
   "cell_type": "markdown",
   "metadata": {},
   "source": [
    "## Discourse"
   ]
  },
  {
   "cell_type": "markdown",
   "metadata": {},
   "source": [
    "### Data & New Observation"
   ]
  },
  {
   "cell_type": "code",
   "execution_count": 2,
   "metadata": {},
   "outputs": [
    {
     "data": {
      "text/html": [
       "<table>\n",
       "<thead><tr><th scope=col>x1</th><th scope=col>x2</th></tr></thead>\n",
       "<tbody>\n",
       "\t<tr><td>5.5</td><td>7.5</td></tr>\n",
       "</tbody>\n",
       "</table>\n"
      ],
      "text/latex": [
       "\\begin{tabular}{r|ll}\n",
       " x1 & x2\\\\\n",
       "\\hline\n",
       "\t 5.5 & 7.5\\\\\n",
       "\\end{tabular}\n"
      ],
      "text/markdown": [
       "\n",
       "| x1 | x2 |\n",
       "|---|---|\n",
       "| 5.5 | 7.5 |\n",
       "\n"
      ],
      "text/plain": [
       "  x1  x2 \n",
       "1 5.5 7.5"
      ]
     },
     "metadata": {},
     "output_type": "display_data"
    },
    {
     "data": {
      "image/png": "[encoded data removed]",
      "text/plain": [
       "plot without title"
      ]
     },
     "metadata": {},
     "output_type": "display_data"
    }
   ],
   "source": [
    "data = data.frame(x1=c(1,2,3,0,3,2,1,4,2,2,1,3,2,2,3,1,1,5,4,1,5,1,5,0,1,4,5,5,5,3,5,8,9,9,5,8),\n",
    "                  x2=c(3,6,9,9,4,8,3,8,9,0,9,9,7,4,5,5,4,5,6,3,2,4,3,5,1,1,5,1,2,3,4,1,4,3,0,8),\n",
    "                  outcome=c(1,2,3,4,5,6,7,8,9,10,11,12,13,14,15,16,17,18,19,20,21,22,23,24,25,26,27,28,29,30,31,32,33,34,35,36))\n",
    "new = data.frame(x1=5.5, x2=7.5)\n",
    "\n",
    "new\n",
    "grid.arrange(ggplot(data) +\n",
    "             geom_point(aes(x=x1, y=outcome), color=PALETTE[3]) +\n",
    "             geom_point(aes(x=new$x1, y=seq(0,80,length.out=nrow(data))), color=\"gray50\") +\n",
    "             scale_color_manual(values=PALETTE) +\n",
    "             xlim(0,10) + ylim(0,40),\n",
    "             \n",
    "             ggplot(data) +\n",
    "             geom_point(aes(x=x2, y=outcome), color=PALETTE[3]) +\n",
    "             geom_point(aes(x=new$x2, y=seq(0,80,length.out=nrow(data))), color=\"gray50\") +\n",
    "             scale_color_manual(values=PALETTE) +\n",
    "             xlim(0,10) + ylim(0,40),\n",
    "             \n",
    "             nrow=1)"
   ]
  },
  {
   "cell_type": "markdown",
   "metadata": {},
   "source": [
    "### Regression by Support Vector Machine\n",
    "\n",
    "Outcomes are determined based on observations' distances from the separation boundary.  Regression by support vector machine is also known as support vector regression. \n",
    "\n",
    "Use `svm` function, set hyperparameter `type=\"eps-regression\"`."
   ]
  },
  {
   "cell_type": "code",
   "execution_count": 3,
   "metadata": {},
   "outputs": [],
   "source": [
    "model = svm(outcome ~ x1+x2, data, scale=TRUE, type=\"eps-regression\", kernel=\"radial\", gamma=1, cost=1)"
   ]
  },
  {
   "cell_type": "code",
   "execution_count": 4,
   "metadata": {},
   "outputs": [
    {
     "data": {
      "text/html": [
       "<table>\n",
       "<thead><tr><th scope=col>x1</th><th scope=col>x2</th><th scope=col>outcome</th></tr></thead>\n",
       "<tbody>\n",
       "\t<tr><td>5.5     </td><td>7.5     </td><td>22.78789</td></tr>\n",
       "</tbody>\n",
       "</table>\n"
      ],
      "text/latex": [
       "\\begin{tabular}{r|lll}\n",
       " x1 & x2 & outcome\\\\\n",
       "\\hline\n",
       "\t 5.5      & 7.5      & 22.78789\\\\\n",
       "\\end{tabular}\n"
      ],
      "text/markdown": [
       "\n",
       "| x1 | x2 | outcome |\n",
       "|---|---|---|\n",
       "| 5.5      | 7.5      | 22.78789 |\n",
       "\n"
      ],
      "text/plain": [
       "  x1  x2  outcome \n",
       "1 5.5 7.5 22.78789"
      ]
     },
     "metadata": {},
     "output_type": "display_data"
    },
    {
     "data": {
      "image/png": "[encoded data removed]",
      "text/plain": [
       "plot without title"
      ]
     },
     "metadata": {},
     "output_type": "display_data"
    }
   ],
   "source": [
    "new$outcome = predict(model, new)\n",
    "\n",
    "new\n",
    "\n",
    "grid.arrange(ggplot(data) +\n",
    "             geom_point(aes(x=x1, y=outcome), color=PALETTE[3]) +\n",
    "             geom_point(aes(x=new$x1, y=new$outcome), color=\"gold\", size=6) +\n",
    "             geom_point(aes(x=new$x1, y=new$outcome)) +\n",
    "             xlim(0,10) + ylim(0,40),\n",
    "             \n",
    "             ggplot(data) +\n",
    "             geom_point(aes(x=x2, y=outcome), color=PALETTE[3]) +\n",
    "             geom_point(aes(x=new$x2, y=new$outcome), color=\"gold\", size=6) +\n",
    "             geom_point(aes(x=new$x2, y=new$outcome)) +\n",
    "             xlim(0,10) + ylim(0,40),\n",
    "             \n",
    "             nrow=1)"
   ]
  },
  {
   "cell_type": "markdown",
   "metadata": {},
   "source": [
    "### Regression by Neural Network\n",
    "\n",
    "Remove the output node's activation function, so that the output is not constrained to be in range 0 to 1.\n",
    "\n",
    "Use `neuralnet` function, set hyperparameter `linear.output=TRUE`."
   ]
  },
  {
   "cell_type": "code",
   "execution_count": 7,
   "metadata": {},
   "outputs": [
    {
     "data": {
      "image/png": "[encoded data removed]",
      "text/plain": [
       "plot without title"
      ]
     },
     "metadata": {},
     "output_type": "display_data"
    }
   ],
   "source": [
    "set.seed(12345)\n",
    "model = neuralnet(outcome ~ x1+x2, data, hidden=2, algorithm=\"rprop+\", act.fct=\"logistic\", rep=1, linear.output=TRUE)\n",
    "\n",
    "options(repr.plot.width=4, repr.plot.height=4)\n",
    "plot(model, rep=1, fill=\"gray\", cex=0.7, lwd=0.5, information=FALSE)\n",
    "options(restore)"
   ]
  },
  {
   "cell_type": "code",
   "execution_count": 8,
   "metadata": {},
   "outputs": [
    {
     "data": {
      "text/html": [
       "<table>\n",
       "<thead><tr><th scope=col>x1</th><th scope=col>x2</th><th scope=col>outcome</th></tr></thead>\n",
       "<tbody>\n",
       "\t<tr><td>5.5     </td><td>7.5     </td><td>18.49974</td></tr>\n",
       "</tbody>\n",
       "</table>\n"
      ],
      "text/latex": [
       "\\begin{tabular}{r|lll}\n",
       " x1 & x2 & outcome\\\\\n",
       "\\hline\n",
       "\t 5.5      & 7.5      & 18.49974\\\\\n",
       "\\end{tabular}\n"
      ],
      "text/markdown": [
       "\n",
       "| x1 | x2 | outcome |\n",
       "|---|---|---|\n",
       "| 5.5      | 7.5      | 18.49974 |\n",
       "\n"
      ],
      "text/plain": [
       "  x1  x2  outcome \n",
       "1 5.5 7.5 18.49974"
      ]
     },
     "metadata": {},
     "output_type": "display_data"
    },
    {
     "data": {
      "image/png": "[encoded data removed]",
      "text/plain": [
       "plot without title"
      ]
     },
     "metadata": {},
     "output_type": "display_data"
    }
   ],
   "source": [
    "new$outcome = as.numeric(compute(model, new[,1:2], rep=1)$net.result)\n",
    "\n",
    "new\n",
    "\n",
    "grid.arrange(ggplot(data) +\n",
    "             geom_point(aes(x=x1, y=outcome), color=PALETTE[3]) +\n",
    "             geom_point(aes(x=new$x1, y=new$outcome), color=\"gold\", size=6) +\n",
    "             geom_point(aes(x=new$x1, y=new$outcome)) +\n",
    "             xlim(0,10) + ylim(0,40),\n",
    "             \n",
    "             ggplot(data) +\n",
    "             geom_point(aes(x=x2, y=outcome), color=PALETTE[3]) +\n",
    "             geom_point(aes(x=new$x2, y=new$outcome), color=\"gold\", size=6) +\n",
    "             geom_point(aes(x=new$x2, y=new$outcome)) +\n",
    "             xlim(0,10) + ylim(0,40),\n",
    "             \n",
    "             nrow=1)"
   ]
  },
  {
   "cell_type": "markdown",
   "metadata": {},
   "source": [
    "### Regression by Decision Tree\n",
    "\n",
    "Leaf nodes are labeled with numbers, rather than categorical values.  These numbers are averages of outcome variable values of observations associated with the leaf nodes.\n",
    "\n",
    "Use `rpart` function, set hyperparameter `method=\"anova\"`."
   ]
  },
  {
   "cell_type": "code",
   "execution_count": 9,
   "metadata": {},
   "outputs": [
    {
     "data": {
      "image/png": "[encoded data removed]",
      "text/plain": [
       "plot without title"
      ]
     },
     "metadata": {},
     "output_type": "display_data"
    }
   ],
   "source": [
    "model = rpart(outcome ~ x1+x2, data, method=\"anova\")\n",
    "rpart.plot(model, tweak=0.7, type=1, extra=101, space=6, digits=4)"
   ]
  },
  {
   "cell_type": "code",
   "execution_count": 10,
   "metadata": {},
   "outputs": [
    {
     "data": {
      "text/html": [
       "<table>\n",
       "<thead><tr><th scope=col>x1</th><th scope=col>x2</th><th scope=col>outcome</th></tr></thead>\n",
       "<tbody>\n",
       "\t<tr><td>5.5     </td><td>7.5     </td><td>28.91667</td></tr>\n",
       "</tbody>\n",
       "</table>\n"
      ],
      "text/latex": [
       "\\begin{tabular}{r|lll}\n",
       " x1 & x2 & outcome\\\\\n",
       "\\hline\n",
       "\t 5.5      & 7.5      & 28.91667\\\\\n",
       "\\end{tabular}\n"
      ],
      "text/markdown": [
       "\n",
       "| x1 | x2 | outcome |\n",
       "|---|---|---|\n",
       "| 5.5      | 7.5      | 28.91667 |\n",
       "\n"
      ],
      "text/plain": [
       "  x1  x2  outcome \n",
       "1 5.5 7.5 28.91667"
      ]
     },
     "metadata": {},
     "output_type": "display_data"
    },
    {
     "data": {
      "image/png": "[encoded data removed]",
      "text/plain": [
       "plot without title"
      ]
     },
     "metadata": {},
     "output_type": "display_data"
    }
   ],
   "source": [
    "new$outcome=predict(model, new, type=\"vector\")\n",
    "\n",
    "new\n",
    "\n",
    "grid.arrange(ggplot(data) +\n",
    "             geom_point(aes(x=x1, y=outcome), color=PALETTE[3]) +\n",
    "             geom_point(aes(x=new$x1, y=new$outcome), color=\"gold\", size=6) +\n",
    "             geom_point(aes(x=new$x1, y=new$outcome)) +\n",
    "             xlim(0,10) + ylim(0,40),\n",
    "             \n",
    "             ggplot(data) +\n",
    "             geom_point(aes(x=x2, y=outcome), color=PALETTE[3]) +\n",
    "             geom_point(aes(x=new$x2, y=new$outcome), color=\"gold\", size=6) +\n",
    "             geom_point(aes(x=new$x2, y=new$outcome)) +\n",
    "             xlim(0,10) + ylim(0,40),\n",
    "             \n",
    "             nrow=1)"
   ]
  },
  {
   "cell_type": "markdown",
   "metadata": {},
   "source": [
    "<br>\n",
    "\n",
    "### Regression by k Nearest Neighbor\n",
    "\n",
    "Outcomes are calculated as mean of nearest other observations' outcomes.\n",
    "\n",
    "Use `kknn` function.  The appropriate form (classification vs. regression) is automatically determined based on type of outcome variable. "
   ]
  },
  {
   "cell_type": "code",
   "execution_count": 12,
   "metadata": {},
   "outputs": [
    {
     "data": {
      "text/html": [
       "<table>\n",
       "<thead><tr><th scope=col>x1</th><th scope=col>x2</th><th scope=col>outcome</th></tr></thead>\n",
       "<tbody>\n",
       "\t<tr><td>5.5     </td><td>7.5     </td><td>12.77778</td></tr>\n",
       "</tbody>\n",
       "</table>\n"
      ],
      "text/latex": [
       "\\begin{tabular}{r|lll}\n",
       " x1 & x2 & outcome\\\\\n",
       "\\hline\n",
       "\t 5.5      & 7.5      & 12.77778\\\\\n",
       "\\end{tabular}\n"
      ],
      "text/markdown": [
       "\n",
       "| x1 | x2 | outcome |\n",
       "|---|---|---|\n",
       "| 5.5      | 7.5      | 12.77778 |\n",
       "\n"
      ],
      "text/plain": [
       "  x1  x2  outcome \n",
       "1 5.5 7.5 12.77778"
      ]
     },
     "metadata": {},
     "output_type": "display_data"
    },
    {
     "data": {
      "image/png": "[encoded data removed]",
      "text/plain": [
       "plot without title"
      ]
     },
     "metadata": {},
     "output_type": "display_data"
    }
   ],
   "source": [
    "new$outcome=kknn(outcome ~ x1+x2, data, new, k=3)$fitted.values\n",
    "\n",
    "new\n",
    "\n",
    "grid.arrange(ggplot(data) +\n",
    "             geom_point(aes(x=x1, y=outcome), color=PALETTE[3]) +\n",
    "             geom_point(aes(x=new$x1, y=new$outcome), color=\"gold\", size=6) +\n",
    "             geom_point(aes(x=new$x1, y=new$outcome)) +\n",
    "             xlim(0,10) + ylim(0,40),\n",
    "             \n",
    "             ggplot(data) +\n",
    "             geom_point(aes(x=x2, y=outcome), color=PALETTE[3]) +\n",
    "             geom_point(aes(x=new$x2, y=new$outcome), color=\"gold\", size=6) +\n",
    "             geom_point(aes(x=new$x2, y=new$outcome)) +\n",
    "             xlim(0,10) + ylim(0,40),\n",
    "             \n",
    "             nrow=1)"
   ]
  },
  {
   "cell_type": "markdown",
   "metadata": {},
   "source": [
    "## Further Reading\n",
    "\n",
    "* http://www-stat.wharton.upenn.edu/~stine/mich/DM_02.pdf\n",
    "* https://en.wikipedia.org/wiki/Local_regression"
   ]
  },
  {
   "cell_type": "markdown",
   "metadata": {},
   "source": [
    "<font size=1;>\n",
    "<p style=\"text-align: left;\">\n",
    "Copyright (c) Berkeley Data Analytics Group, LLC\n",
    "<span style=\"float: right;\">\n",
    "document revised June 25, 2019\n",
    "</span>\n",
    "</p>\n",
    "</font>"
   ]
  }
 ],
 "metadata": {
  "hide_code_all_hidden": false,
  "hide_input": false,
  "kernelspec": {
   "display_name": "R",
   "language": "R",
   "name": "ir"
  },
  "language_info": {
   "codemirror_mode": "r",
   "file_extension": ".r",
   "mimetype": "text/x-r-source",
   "name": "R",
   "pygments_lexer": "r",
   "version": "3.5.3"
  },
  "toc": {
   "base_numbering": 1,
   "nav_menu": {},
   "number_sections": true,
   "sideBar": true,
   "skip_h1_title": true,
   "title_cell": "Table of Contents",
   "title_sidebar": "Contents",
   "toc_cell": false,
   "toc_position": {
    "height": "calc(100% - 180px)",
    "left": "10px",
    "top": "150px",
    "width": "307.2px"
   },
   "toc_section_display": true,
   "toc_window_display": true
  }
 },
 "nbformat": 4,
 "nbformat_minor": 2
}
