{
 "cells": [
  {
   "cell_type": "markdown",
   "metadata": {
    "hideCode": false,
    "hidePrompt": false
   },
   "source": [
    "# Regression Methodology\n",
    "\n",
    "![](banner_regression.jpg)\n",
    "\n",
    "_<p style=\"text-align: center;\"> The Antikythera Mechanism: a computer from around 100 BCE to predict astronomical positions </p>_"
   ]
  },
  {
   "cell_type": "code",
   "execution_count": 1,
   "metadata": {
    "hide_input": true
   },
   "outputs": [
    {
     "data": {
      "text/html": [
       "<p style=\"text-align:center; font-size:10px;\">\n",
       ".................................................... start of document ....................................................\n",
       "</p>"
      ]
     },
     "metadata": {},
     "output_type": "display_data"
    }
   ],
   "source": [
    "f = \"setup.R\"; for (i in 1:10) { if (file.exists(f)) break else f = paste0(\"../\", f) }; source(f)\n",
    "theme.legend_bottom = theme(legend.position=\"bottom\")"
   ]
  },
  {
   "cell_type": "markdown",
   "metadata": {},
   "source": [
    "Regressor construction methods construct regressors based on reference known-outcome data that can predict outcomes associated with new unknown-outcome data. "
   ]
  },
  {
   "cell_type": "markdown",
   "metadata": {},
   "source": [
    "## Introduction\n",
    "\n",
    "In 1900, sponge divers near the Greek island of Antikythera came upon a Roman shipwreck bestrewn with ancient statues, jewelry, and other treasure, and an an odd looking, very encrusted gear mechanism.  Retrieved and then studied for decades, it took until 1974 for scientists to unravel the mystery of mechanism's purpose.  It was a computer, designed and built in Egypt around 100 BCE, that could predict the positions of the sun, moon, and planets, and the timings of solar eclipses and Olympic Games events.\n",
    "\n",
    "Regressor construction methods construct regressors that can make predictions.  They do so by identifying patterns in some reference known-outcome data, where known-outcome data here means a dataset that includes some **numeric** variable with known values that indicate the outcome of each observation.  The regressors constructed by these methods then leverage the patterns to predict the outcome variable value of each observation in some new unknown-outcome data.\n",
    "\n",
    "Regression is useful in a variety of business applications, notably any time it is advantageous to have numeric predictions about the future based on what happened in the past, which is pretty much all the time.  For example, you may want to predict how long a project will take based on how long projects took in the past, or predict when a machine part will fail based on what caused machine parts to fail in the past, or predict how much customers will pay for a new product based on what kind of customers paid a premium for products in the past, or predict how much revenue will be lost due to fraudulent credit card transactions based on circumstances around fraudulent credit card transactions in the past.  Regression is also useful for making predictions about the past, present, or future based on the past, present, or future, in general.  For example, you may want to predict a city's present demand for electric power from a utility based on past solar and wind power installations, present demand in other cities, and projected future economic conditions.\n",
    "\n",
    "Let's consider more carefully how we might predict when a machine part will fail.  Repairing a part that won't fail soon is an unnecessary expense, repairing a part just before it fails is a modest expense, and repairing an already failed part is a large expense.  Operating conditions of parts throughout your factory are continuously monitored by copious sensors, which once per hour report their pressure and temperature measurements to a central computer via wireless internet connection.  Technicians report information about failed parts whenever they make repairs, which is sent to the same central computer and aligned with the pressure and temperature data.  The combined data is transformed to a representation in which each observation corresponds to a part, the pressures and temperatures of the part over a year, the pressures and temperatures of other parts over a year, and the date on which part last had to be repaired. A regressor construction method is applied to the data weekly, which finds patterns that identify when parts are likely to fail, and constructs a regressor to predict as much.  The regressor is applied to new data as it's updated over the week, predicts when parts are likely to fail, and generates a notification to the technicians to preemptively investigate and repair parts likely to fail soon but before they do, avoiding significant expense.\n",
    "\n",
    "There are several popular regressor construction methods, including linear regression, support vector regression, and regression versions of neural network, decision tree, and k-nearest neighbors."
   ]
  },
  {
   "cell_type": "markdown",
   "metadata": {},
   "source": [
    "## Lesson Plan\n",
    "\n",
    "We'll first overview the regression methodology, which comprises processes for construction, prediction, and evaluation.  Then we'll demonstrate the methodology with a pedagogical regressor construction method applied to pedagogical data to construct a regressor.  Then we'll use the regressor's back-predictions to calculate various performance metrics.  We'll end with a comparison of three specific evaluation processes: in-sample performance estimation, out-of-sample performance estimation, and cross-validation performance estimation."
   ]
  },
  {
   "cell_type": "markdown",
   "metadata": {},
   "source": [
    "## Terminology\n",
    "\n",
    "Here are some new terms that we will use in our discourse."
   ]
  },
  {
   "cell_type": "markdown",
   "metadata": {},
   "source": [
    "* Prediction\n",
    "* Regression, Predictive modeling\n",
    "* Regressor construction method\n",
    "* Regressor, Model\n",
    "* Construction, Supervised learning, Training, Fitting\n",
    "* Predictor variables\n",
    "* Outcome variable\n",
    "* Hyperparameters\n",
    "* Parameters\n",
    "* Evaluation\n",
    "* RMSE\n",
    "* In-Sample Performance\n",
    "* Out-of-Sample Performance\n",
    "* Cross-Validation Performance"
   ]
  },
  {
   "cell_type": "markdown",
   "metadata": {},
   "source": [
    "## Regression Methodology\n",
    "\n",
    "The regression methodology comprises three parts:\n",
    "* **construction** of a regressor, using some regressor construction method and some reference known-outcome data\n",
    "* **prediction** of outcome variable values, using the regressor applied to some unknown-outcome data\n",
    "* **evaluation** of the regressor performance, which estimates the quality of the regressor's predictions"
   ]
  },
  {
   "cell_type": "markdown",
   "metadata": {
    "hide_input": true
   },
   "source": [
    "### Construction\n",
    "\n",
    "In construction, a regressor construction method takes as input some reference known-outcome data and hyperparameter settings.  The job of the regressor construction method is then to detect patterns in the reference known-outcome data that imply observation outcomes, and output a regressor with knowledge of those patterns built into it.  The regressor is defined by its form and parameter settings, both determined by the regressor construction method.  Note that we have here a method constructing a method - the constructed regressor is not a set of predictions, but rather is a method to make predictions.\n",
    "\n",
    "Hyperparameters are provided by a regressor construction method as a way to configure its specific behavior.  Each particular regressor construction method provides its own set of hyperparameters.  You can think of hyperparameters as switches and dials to set the operating conditions of a regressor construction machine.  Hyperparameters allow for several variations of any particular regressor model construction method, effectively expanding the set of methods available for regressor construction.\n",
    "\n",
    "Parameters, in contrast to hyperparameters, are components of a regressor, set by a regressor construction method.  You can think of parameters as switches and dials to set the operating conditions of a regressor machine.\n",
    "\n",
    "Construction is also known as supervised learning, training, modeling, building a model, or fitting a model.\n",
    "\n",
    "Here we see a reference known-outcome dataset with five observations and nine variables.  Eight of the variables are treated as predictor variables and one numeric variable is treated as the outcome variable.  The regressor construction method is configured to specific behavior by you setting the hyperparameters.  The method outputs a regressor that will accept a dataset with eight variables as input and predict outcomes as output.\n",
    "\n",
    "<table style=\"border:1px solid; margin-top:20px\">\n",
    "    <caption style=\"text-align:center\">Construct a Regressor</caption>\n",
    "    <tr><td style=\"padding:20px; background-color:white\"><img src=\"regression_train.jpg\" width=440></td></tr>\n",
    "</table><br clear=all>"
   ]
  },
  {
   "cell_type": "markdown",
   "metadata": {},
   "source": [
    "### Prediction\n",
    "\n",
    "In prediction, a regressor takes as input some unknown-outcome data.  The job of the regressor is then to use its built-in knowledge of patterns in reference known-outcome data to predict the outcomes of observations in the unknown-outcome data.  Each observation in the unknown-outcome data gets its own outcome value.  Note that we have here a method constructed by a method - the regressor is the output a regressor construction method, and the regressor is itself a method to make predictions.\n",
    "\n",
    "Prediction, in this context, is also known as regression.\n",
    "\n",
    "Here we see an unknown-outcome dataset with five observations and eight variables.  The regressor accepts the dataset as input and outputs predicted outcomes.  The regressor predicts that the first observation's outcome should be 1.5.  Similarly for the other observations.\n",
    "\n",
    "<table style=\"border:1px solid; margin-top:20px; margin-bottom:20px\">\n",
    "    <caption style=\"text-align:center\">Use a Regressor to Make Predictions</caption>\n",
    "    <tr><td style=\"padding:20px; background-color:white\"><img src=\"regression_predict.jpg\" width=400></td></tr>\n",
    "</table><br clear=all>"
   ]
  },
  {
   "cell_type": "markdown",
   "metadata": {},
   "source": [
    "### Evaluation\n",
    "\n",
    "In evaluation, we usually estimate the quality of an operative regressor's predictions by examining not the operative regressor directly, but rather by examining one or more other similar regressors.  These other similar regressors are constructed by the same regressor construction method and hyperparameter settings, but with different reference known-outcome data as input.  Further, the different reference known-outcome data for the similar regressors are all subsets of the reference known-outcome data for the operative regressor.  So, the only difference between the similar regressors and the operative regressor is which subsets of the reference known-outcome data are used as input to construct them.  Because the similar regressors are constructed in almost the same way that the operative regressor was, we make the assumption that their performance will be similar to that of the operative regressor.  We can then take estimates of the similar regressors' performance as an estimate of the operative regressor's performance. \n",
    "\n",
    "Intregal to the examination of a similar regressor is the construction of its error table, which indicates how close the regressor's predictions are to correct.  From the error table, any of several useful performance metrics can be calculated, which can be used in combination with other business considerations to estimate the quality of the regressor's predictions.\n",
    "\n",
    "Note that the similar regressors are required only as a way to estimate the operative regressor's performance.  You can discard the similar regressors after the operative regressor's performance has been estimated.  Their job will have been done. \n",
    "\n",
    "The reason that we usually do not examine an operative regressor directly, but rather examine similar regressors, is so that we can leverage reference known-outcome data in various useful ways. \n",
    "\n",
    "Evaluation is also known as validation or testing.\n",
    "\n",
    "Here we see an operative regressor being evaluated.  The reference known-outcome data used to construct the operative regressor is provided to a process that partitions the dataset as necessary.  The process inputs those dataset subsets to the regressor construction method used to construct the operative regressor, and ultimately constructs one or more error tables as necessary.  From the error tables, the operative regressor's RMSE, a performance metric, is calculated to be 1.36.\n",
    "\n",
    "<table style=\"border:1px solid; margin-top:20px; margin-bottom:20px\">\n",
    "    <caption style=\"text-align:center\">Evaluate a Regressor</caption>\n",
    "    <tr><td style=\"padding:20px; background-color:white\"><img src=\"regression_eval.jpg\" width=650></td></tr>\n",
    "</table><br clear=all>"
   ]
  },
  {
   "cell_type": "markdown",
   "metadata": {},
   "source": [
    "## Demonstration of Methodology\n",
    "\n",
    "Let's see the regression methodology demonstrated."
   ]
  },
  {
   "cell_type": "markdown",
   "metadata": {},
   "source": [
    "### Data"
   ]
  },
  {
   "cell_type": "markdown",
   "metadata": {},
   "source": [
    "Consider this pedagogical data.  Note that the outcome variable is numeric and indicates each observation's known outcome."
   ]
  },
  {
   "cell_type": "code",
   "execution_count": 2,
   "metadata": {
    "hide_input": true,
    "scrolled": false
   },
   "outputs": [
    {
     "data": {
      "text/html": [
       "<table style=\"white-space: nowrap;\">\n",
       "<caption><center><font color=\"black\"><b>data</b></font></center></caption>\n",
       " <thead>\n",
       "  <tr>\n",
       "   <th style=\"text-align:right;background-color: #FFFFFF !important;\"> x1 </th>\n",
       "   <th style=\"text-align:right;background-color: #FFFFFF !important;\"> outcome </th>\n",
       "  </tr>\n",
       " </thead>\n",
       "<tbody>\n",
       "  <tr>\n",
       "   <td style=\"text-align:right;\"> 1.0 </td>\n",
       "   <td style=\"text-align:right;\"> 1.0 </td>\n",
       "  </tr>\n",
       "  <tr>\n",
       "   <td style=\"text-align:right;\"> 1.5 </td>\n",
       "   <td style=\"text-align:right;\"> 0.5 </td>\n",
       "  </tr>\n",
       "  <tr>\n",
       "   <td style=\"text-align:right;\"> 3.0 </td>\n",
       "   <td style=\"text-align:right;\"> 4.0 </td>\n",
       "  </tr>\n",
       "  <tr>\n",
       "   <td style=\"text-align:right;\"> 4.0 </td>\n",
       "   <td style=\"text-align:right;\"> 5.5 </td>\n",
       "  </tr>\n",
       "  <tr>\n",
       "   <td style=\"text-align:right;\"> 6.0 </td>\n",
       "   <td style=\"text-align:right;\"> 3.5 </td>\n",
       "  </tr>\n",
       "  <tr>\n",
       "   <td style=\"text-align:right;\"> 6.5 </td>\n",
       "   <td style=\"text-align:right;\"> 4.0 </td>\n",
       "  </tr>\n",
       "  <tr>\n",
       "   <td style=\"text-align:right;\"> 9.0 </td>\n",
       "   <td style=\"text-align:right;\"> 6.5 </td>\n",
       "  </tr>\n",
       "  <tr>\n",
       "   <td style=\"text-align:right;\"> 9.5 </td>\n",
       "   <td style=\"text-align:right;\"> 9.0 </td>\n",
       "  </tr>\n",
       "</tbody>\n",
       "</table>"
      ]
     },
     "metadata": {},
     "output_type": "display_data"
    },
    {
     "data": {
      "image/png": "[encoded data removed]",
      "text/plain": [
       "plot without title"
      ]
     },
     "metadata": {
      "image/png": {
       "height": 360,
       "width": 444
      },
      "text/plain": {
       "height": 360,
       "width": 444
      }
     },
     "output_type": "display_data"
    }
   ],
   "source": [
    "data = data.frame(x1=c(1.0, 1.5, 3.0, 4.0, 6.0, 6.5, 9.0, 9.5), outcome=c(1.0, 0.5, 4.0, 5.5, 3.5, 4.0, 6.5, 9.0))\n",
    "\n",
    "output_size(3.7,3)\n",
    "fmt(data)\n",
    "ggplot(data) + ggtitle(\"Data\", \"actual outcome known\") + xlim(0,10) + ylim(0,10) + geom_point(aes(x1, y=outcome))\n",
    "output_size(restore)"
   ]
  },
  {
   "cell_type": "markdown",
   "metadata": {},
   "source": [
    "### Construction\n",
    "\n",
    "Use some regressor construction method to construct a classifier.  Here we use the \"Special Regressor Construction Method\", with its hyperparameter set to 0.0, applied to the reference known-outcome dataset.  The resulting regressor has some form which is not readily transparent to us, but we do see that it is defined by parameter settings 0.45 and 0.75, and will accept datasets with one variable x1 as input.  Note that the hyperparameter setting is not present in the classifier, though it is reflected in how the parameter settings are determined."
   ]
  },
  {
   "cell_type": "code",
   "execution_count": 3,
   "metadata": {
    "hide_input": true
   },
   "outputs": [
    {
     "data": {
      "text/html": [
       "<table style=\"white-space: nowrap;\">\n",
       "<caption><center><font color=\"black\"><b>model</b></font></center></caption>\n",
       " <thead>\n",
       "  <tr>\n",
       "   <th style=\"text-align:right;background-color: #FFFFFF !important;\"> method </th>\n",
       "   <th style=\"text-align:right;background-color: #FFFFFF !important;\"> vars </th>\n",
       "   <th style=\"text-align:right;background-color: #FFFFFF !important;\"> parameter_1 </th>\n",
       "   <th style=\"text-align:right;background-color: #FFFFFF !important;\"> parameter_2 </th>\n",
       "  </tr>\n",
       " </thead>\n",
       "<tbody>\n",
       "  <tr>\n",
       "   <td style=\"text-align:right;\"> Special Regressor Construction Method </td>\n",
       "   <td style=\"text-align:right;\"> x1 </td>\n",
       "   <td style=\"text-align:right;\"> 0.4471422 </td>\n",
       "   <td style=\"text-align:right;\"> 0.7511818 </td>\n",
       "  </tr>\n",
       "</tbody>\n",
       "</table>"
      ]
     },
     "metadata": {},
     "output_type": "display_data"
    }
   ],
   "source": [
    "model = my_regressor_construction_method(outcome ~ x1, data, hyperparameter=0)\n",
    "fmt.model(model)"
   ]
  },
  {
   "cell_type": "markdown",
   "metadata": {},
   "source": [
    "### Prediction\n",
    "\n",
    "Here is some new unknown-outcome dataset. We are interested in predicting outcomes. "
   ]
  },
  {
   "cell_type": "code",
   "execution_count": 4,
   "metadata": {
    "hide_input": true
   },
   "outputs": [
    {
     "data": {
      "text/html": [
       "<table style=\"white-space: nowrap;\">\n",
       "<caption><center><font color=\"black\"><b>new</b></font></center></caption>\n",
       " <thead>\n",
       "  <tr>\n",
       "   <th style=\"text-align:right;background-color: #FFFFFF !important;\"> x1 </th>\n",
       "  </tr>\n",
       " </thead>\n",
       "<tbody>\n",
       "  <tr>\n",
       "   <td style=\"text-align:right;\"> 2.5 </td>\n",
       "  </tr>\n",
       "  <tr>\n",
       "   <td style=\"text-align:right;\"> 5.5 </td>\n",
       "  </tr>\n",
       "  <tr>\n",
       "   <td style=\"text-align:right;\"> 6.5 </td>\n",
       "  </tr>\n",
       "  <tr>\n",
       "   <td style=\"text-align:right;\"> 7.5 </td>\n",
       "  </tr>\n",
       "  <tr>\n",
       "   <td style=\"text-align:right;\"> 8.5 </td>\n",
       "  </tr>\n",
       "</tbody>\n",
       "</table>"
      ]
     },
     "metadata": {},
     "output_type": "display_data"
    },
    {
     "data": {
      "image/png": "[encoded data removed]",
      "text/plain": [
       "plot without title"
      ]
     },
     "metadata": {
      "image/png": {
       "height": 180,
       "width": 444
      },
      "text/plain": {
       "height": 180,
       "width": 444
      }
     },
     "output_type": "display_data"
    }
   ],
   "source": [
    "new = data.frame(x1=c(2.5, 5.5, 6.5, 7.5, 8.5))\n",
    "fmt(new)\n",
    "\n",
    "output_size(3.7,1.5)\n",
    "ggplot(new) + ggtitle(\"Data\", \"actual outcome not known\") + xlim(0,10) + ylim(-1,1) + geom_point(aes(x1, y=0)) +\n",
    "theme.x_axis_only\n",
    "output_size(restore)"
   ]
  },
  {
   "cell_type": "markdown",
   "metadata": {},
   "source": [
    "Use the regressor applied to the new unknown-outcome dataset to estimate its observations' outcomes."
   ]
  },
  {
   "cell_type": "code",
   "execution_count": 5,
   "metadata": {
    "hide_input": false,
    "scrolled": true
   },
   "outputs": [
    {
     "data": {
      "text/html": [
       "<table style=\"white-space: nowrap;\">\n",
       "<caption><center><font color=\"black\"><b>new</b></font></center></caption>\n",
       " <thead>\n",
       "  <tr>\n",
       "   <th style=\"text-align:right;background-color: #FFFFFF !important;\"> x1 </th>\n",
       "   <th style=\"text-align:right;background-color: #FFFFFF !important;\"> outcome.predicted </th>\n",
       "  </tr>\n",
       " </thead>\n",
       "<tbody>\n",
       "  <tr>\n",
       "   <td style=\"text-align:right;\"> 2.5 </td>\n",
       "   <td style=\"text-align:right;\"> 2.325097 </td>\n",
       "  </tr>\n",
       "  <tr>\n",
       "   <td style=\"text-align:right;\"> 5.5 </td>\n",
       "   <td style=\"text-align:right;\"> 4.578642 </td>\n",
       "  </tr>\n",
       "  <tr>\n",
       "   <td style=\"text-align:right;\"> 6.5 </td>\n",
       "   <td style=\"text-align:right;\"> 5.329824 </td>\n",
       "  </tr>\n",
       "  <tr>\n",
       "   <td style=\"text-align:right;\"> 7.5 </td>\n",
       "   <td style=\"text-align:right;\"> 6.081006 </td>\n",
       "  </tr>\n",
       "  <tr>\n",
       "   <td style=\"text-align:right;\"> 8.5 </td>\n",
       "   <td style=\"text-align:right;\"> 6.832187 </td>\n",
       "  </tr>\n",
       "</tbody>\n",
       "</table>"
      ]
     },
     "metadata": {},
     "output_type": "display_data"
    }
   ],
   "source": [
    "outcome.predicted = predict(model, new)\n",
    "new$outcome.predicted = outcome.predicted\n",
    "\n",
    "fmt(new)"
   ]
  },
  {
   "cell_type": "markdown",
   "metadata": {},
   "source": [
    "Here is the reference known-outcome data compared to the new data as the regressor would predict its outcomes."
   ]
  },
  {
   "cell_type": "code",
   "execution_count": 6,
   "metadata": {
    "hide_input": true
   },
   "outputs": [
    {
     "data": {
      "image/png": "[encoded data removed]",
      "text/plain": [
       "plot without title"
      ]
     },
     "metadata": {
      "image/png": {
       "height": 360,
       "width": 840
      },
      "text/plain": {
       "height": 360,
       "width": 840
      }
     },
     "output_type": "display_data"
    }
   ],
   "source": [
    "p1 = ggplot(data) + ggtitle(\"Data\", \"actual outcome known\") + xlim(0,10) + ylim(0,10) + \n",
    "     geom_point(aes(x=x1, y=outcome)) +\n",
    "     theme.no_legend\n",
    "\n",
    "p2 = ggplot(new) + ggtitle(\"New Data\", \"actual outcome not known\") + xlim(0,10) + ylim(0,10) +\n",
    "     geom_point(aes(x=x1, y=outcome.predicted)) +\n",
    "     theme.no_legend\n",
    "\n",
    "grid.arrange(p1, p2, nrow=1)"
   ]
  },
  {
   "cell_type": "markdown",
   "metadata": {},
   "source": [
    "### Evaluation\n",
    "\n",
    "\n",
    "Here we are interested in estimating the quality of the regressor's predictions."
   ]
  },
  {
   "cell_type": "markdown",
   "metadata": {},
   "source": [
    "#### Back-Prediction\n",
    "\n",
    "We can know how close to correct a regressor predicts only when we can compare predicted outcome values to known outcome values.  Back-prediction involves using a regressor to predict outcome values of already known outcome observations, but in a way that the known outcome values are hidden from the regressor.  Then the regressor's predicted outcome values can be compared to the known outcome values.  Back-prediction can be applied to the reference known-outcome dataset that was used to construct the regressor, or to a subset of that dataset, or to a completely different dataset.\n",
    "\n",
    "Here we apply back-prediction to the reference known-outcome dataset with the outcome values hidden."
   ]
  },
  {
   "cell_type": "code",
   "execution_count": 7,
   "metadata": {
    "hide_input": true
   },
   "outputs": [
    {
     "data": {
      "text/html": [
       "<table><tr><td style=\"background-color:white; vertical-align:top; padding-right:40px;\"><table style=\"white-space: nowrap;\">\n",
       "<caption><center><font color=\"black\"><b>data</b></font></center></caption>\n",
       " <thead>\n",
       "  <tr>\n",
       "   <th style=\"text-align:right;background-color: #FFFFFF !important;\"> x1 </th>\n",
       "   <th style=\"text-align:right;background-color: #FFFFFF !important;\"> outcome </th>\n",
       "  </tr>\n",
       " </thead>\n",
       "<tbody>\n",
       "  <tr>\n",
       "   <td style=\"text-align:right;\"> 1.0 </td>\n",
       "   <td style=\"text-align:right;\"> 1.0 </td>\n",
       "  </tr>\n",
       "  <tr>\n",
       "   <td style=\"text-align:right;\"> 1.5 </td>\n",
       "   <td style=\"text-align:right;\"> 0.5 </td>\n",
       "  </tr>\n",
       "  <tr>\n",
       "   <td style=\"text-align:right;\"> 3.0 </td>\n",
       "   <td style=\"text-align:right;\"> 4.0 </td>\n",
       "  </tr>\n",
       "  <tr>\n",
       "   <td style=\"text-align:right;\"> 4.0 </td>\n",
       "   <td style=\"text-align:right;\"> 5.5 </td>\n",
       "  </tr>\n",
       "  <tr>\n",
       "   <td style=\"text-align:right;\"> 6.0 </td>\n",
       "   <td style=\"text-align:right;\"> 3.5 </td>\n",
       "  </tr>\n",
       "  <tr>\n",
       "   <td style=\"text-align:right;\"> 6.5 </td>\n",
       "   <td style=\"text-align:right;\"> 4.0 </td>\n",
       "  </tr>\n",
       "  <tr>\n",
       "   <td style=\"text-align:right;\"> 9.0 </td>\n",
       "   <td style=\"text-align:right;\"> 6.5 </td>\n",
       "  </tr>\n",
       "  <tr>\n",
       "   <td style=\"text-align:right;\"> 9.5 </td>\n",
       "   <td style=\"text-align:right;\"> 9.0 </td>\n",
       "  </tr>\n",
       "</tbody>\n",
       "</table></td><td style=\"background-color:white; vertical-align:top;\"><table style=\"white-space: nowrap;\">\n",
       "<caption><center><font color=\"black\"><b>data (known outcome is hidden)</b></font></center></caption>\n",
       " <thead>\n",
       "  <tr>\n",
       "   <th style=\"text-align:right;background-color: #FFFFFF !important;\"> x1 </th>\n",
       "  </tr>\n",
       " </thead>\n",
       "<tbody>\n",
       "  <tr>\n",
       "   <td style=\"text-align:right;\"> 1.0 </td>\n",
       "  </tr>\n",
       "  <tr>\n",
       "   <td style=\"text-align:right;\"> 1.5 </td>\n",
       "  </tr>\n",
       "  <tr>\n",
       "   <td style=\"text-align:right;\"> 3.0 </td>\n",
       "  </tr>\n",
       "  <tr>\n",
       "   <td style=\"text-align:right;\"> 4.0 </td>\n",
       "  </tr>\n",
       "  <tr>\n",
       "   <td style=\"text-align:right;\"> 6.0 </td>\n",
       "  </tr>\n",
       "  <tr>\n",
       "   <td style=\"text-align:right;\"> 6.5 </td>\n",
       "  </tr>\n",
       "  <tr>\n",
       "   <td style=\"text-align:right;\"> 9.0 </td>\n",
       "  </tr>\n",
       "  <tr>\n",
       "   <td style=\"text-align:right;\"> 9.5 </td>\n",
       "  </tr>\n",
       "</tbody>\n",
       "</table></td></tr></table>"
      ]
     },
     "metadata": {},
     "output_type": "display_data"
    }
   ],
   "source": [
    "data.u = data; data.u$outcome = NULL\n",
    "layout(fmt(data), fmt(data.u, \"data (known outcome is hidden)\"))"
   ]
  },
  {
   "cell_type": "markdown",
   "metadata": {},
   "source": [
    "Use the regressor (previously constructed) to predict outcome values of the observations.  The predicted outcome values may be different than the known outcome values."
   ]
  },
  {
   "cell_type": "code",
   "execution_count": 8,
   "metadata": {
    "hide_input": true,
    "scrolled": true
   },
   "outputs": [
    {
     "data": {
      "text/html": [
       "<table style=\"white-space: nowrap;\">\n",
       "<caption><center><font color=\"black\"><b>data (known outcome is hidden)</b></font></center></caption>\n",
       " <thead>\n",
       "  <tr>\n",
       "   <th style=\"text-align:right;background-color: #FFFFFF !important;\"> x1 </th>\n",
       "   <th style=\"text-align:right;background-color: #FFFFFF !important;\"> outcome.predicted </th>\n",
       "  </tr>\n",
       " </thead>\n",
       "<tbody>\n",
       "  <tr>\n",
       "   <td style=\"text-align:right;\"> 1.0 </td>\n",
       "   <td style=\"text-align:right;\"> 1.198324 </td>\n",
       "  </tr>\n",
       "  <tr>\n",
       "   <td style=\"text-align:right;\"> 1.5 </td>\n",
       "   <td style=\"text-align:right;\"> 1.573915 </td>\n",
       "  </tr>\n",
       "  <tr>\n",
       "   <td style=\"text-align:right;\"> 3.0 </td>\n",
       "   <td style=\"text-align:right;\"> 2.700688 </td>\n",
       "  </tr>\n",
       "  <tr>\n",
       "   <td style=\"text-align:right;\"> 4.0 </td>\n",
       "   <td style=\"text-align:right;\"> 3.451869 </td>\n",
       "  </tr>\n",
       "  <tr>\n",
       "   <td style=\"text-align:right;\"> 6.0 </td>\n",
       "   <td style=\"text-align:right;\"> 4.954233 </td>\n",
       "  </tr>\n",
       "  <tr>\n",
       "   <td style=\"text-align:right;\"> 6.5 </td>\n",
       "   <td style=\"text-align:right;\"> 5.329824 </td>\n",
       "  </tr>\n",
       "  <tr>\n",
       "   <td style=\"text-align:right;\"> 9.0 </td>\n",
       "   <td style=\"text-align:right;\"> 7.207778 </td>\n",
       "  </tr>\n",
       "  <tr>\n",
       "   <td style=\"text-align:right;\"> 9.5 </td>\n",
       "   <td style=\"text-align:right;\"> 7.583369 </td>\n",
       "  </tr>\n",
       "</tbody>\n",
       "</table>"
      ]
     },
     "metadata": {},
     "output_type": "display_data"
    }
   ],
   "source": [
    "data.u$outcome.predicted = predict(model, data)\n",
    "fmt(data.u, \"data (known outcome is hidden)\")"
   ]
  },
  {
   "cell_type": "markdown",
   "metadata": {},
   "source": [
    "#### Comparison\n",
    "\n",
    "Compare the predicted outcome values to the known outcome values.  Mark each observation with the prediction error, which is the difference between the known outcome value and the predicted outcome value."
   ]
  },
  {
   "cell_type": "code",
   "execution_count": 9,
   "metadata": {
    "hide_input": true
   },
   "outputs": [
    {
     "data": {
      "text/html": [
       "<table><tr><td style=\"background-color:white; vertical-align:top; padding-right:40px;\"><table style=\"white-space: nowrap;\">\n",
       "<caption><center><font color=\"black\"><b>data</b></font></center></caption>\n",
       " <thead>\n",
       "  <tr>\n",
       "   <th style=\"text-align:right;background-color: #FFFFFF !important;\"> x1 </th>\n",
       "   <th style=\"text-align:right;background-color: #FFFFFF !important;\"> outcome </th>\n",
       "  </tr>\n",
       " </thead>\n",
       "<tbody>\n",
       "  <tr>\n",
       "   <td style=\"text-align:right;\"> 1.0 </td>\n",
       "   <td style=\"text-align:right;\"> 1.0 </td>\n",
       "  </tr>\n",
       "  <tr>\n",
       "   <td style=\"text-align:right;\"> 1.5 </td>\n",
       "   <td style=\"text-align:right;\"> 0.5 </td>\n",
       "  </tr>\n",
       "  <tr>\n",
       "   <td style=\"text-align:right;\"> 3.0 </td>\n",
       "   <td style=\"text-align:right;\"> 4.0 </td>\n",
       "  </tr>\n",
       "  <tr>\n",
       "   <td style=\"text-align:right;\"> 4.0 </td>\n",
       "   <td style=\"text-align:right;\"> 5.5 </td>\n",
       "  </tr>\n",
       "  <tr>\n",
       "   <td style=\"text-align:right;\"> 6.0 </td>\n",
       "   <td style=\"text-align:right;\"> 3.5 </td>\n",
       "  </tr>\n",
       "  <tr>\n",
       "   <td style=\"text-align:right;\"> 6.5 </td>\n",
       "   <td style=\"text-align:right;\"> 4.0 </td>\n",
       "  </tr>\n",
       "  <tr>\n",
       "   <td style=\"text-align:right;\"> 9.0 </td>\n",
       "   <td style=\"text-align:right;\"> 6.5 </td>\n",
       "  </tr>\n",
       "  <tr>\n",
       "   <td style=\"text-align:right;\"> 9.5 </td>\n",
       "   <td style=\"text-align:right;\"> 9.0 </td>\n",
       "  </tr>\n",
       "</tbody>\n",
       "</table></td><td style=\"background-color:white; vertical-align:top;\"><table style=\"white-space: nowrap;\">\n",
       "<caption><center><font color=\"black\"><b>data (known outcome is hidden)</b></font></center></caption>\n",
       " <thead>\n",
       "  <tr>\n",
       "   <th style=\"text-align:right;background-color: #FFFFFF !important;\"> x1 </th>\n",
       "   <th style=\"text-align:right;background-color: #FFFFFF !important;\"> outcome.predicted </th>\n",
       "   <th style=\"text-align:right;background-color: #FFFFFF !important;\"> error </th>\n",
       "  </tr>\n",
       " </thead>\n",
       "<tbody>\n",
       "  <tr>\n",
       "   <td style=\"text-align:right;\"> 1.0 </td>\n",
       "   <td style=\"text-align:right;\"> 1.198324 </td>\n",
       "   <td style=\"text-align:right;\"> -0.1983240 </td>\n",
       "  </tr>\n",
       "  <tr>\n",
       "   <td style=\"text-align:right;\"> 1.5 </td>\n",
       "   <td style=\"text-align:right;\"> 1.573915 </td>\n",
       "   <td style=\"text-align:right;\"> -1.0739149 </td>\n",
       "  </tr>\n",
       "  <tr>\n",
       "   <td style=\"text-align:right;\"> 3.0 </td>\n",
       "   <td style=\"text-align:right;\"> 2.700688 </td>\n",
       "   <td style=\"text-align:right;\"> 1.2993124 </td>\n",
       "  </tr>\n",
       "  <tr>\n",
       "   <td style=\"text-align:right;\"> 4.0 </td>\n",
       "   <td style=\"text-align:right;\"> 3.451869 </td>\n",
       "   <td style=\"text-align:right;\"> 2.0481306 </td>\n",
       "  </tr>\n",
       "  <tr>\n",
       "   <td style=\"text-align:right;\"> 6.0 </td>\n",
       "   <td style=\"text-align:right;\"> 4.954233 </td>\n",
       "   <td style=\"text-align:right;\"> -1.4542329 </td>\n",
       "  </tr>\n",
       "  <tr>\n",
       "   <td style=\"text-align:right;\"> 6.5 </td>\n",
       "   <td style=\"text-align:right;\"> 5.329824 </td>\n",
       "   <td style=\"text-align:right;\"> -1.3298238 </td>\n",
       "  </tr>\n",
       "  <tr>\n",
       "   <td style=\"text-align:right;\"> 9.0 </td>\n",
       "   <td style=\"text-align:right;\"> 7.207778 </td>\n",
       "   <td style=\"text-align:right;\"> -0.7077783 </td>\n",
       "  </tr>\n",
       "  <tr>\n",
       "   <td style=\"text-align:right;\"> 9.5 </td>\n",
       "   <td style=\"text-align:right;\"> 7.583369 </td>\n",
       "   <td style=\"text-align:right;\"> 1.4166309 </td>\n",
       "  </tr>\n",
       "</tbody>\n",
       "</table></td></tr></table>"
      ]
     },
     "metadata": {},
     "output_type": "display_data"
    }
   ],
   "source": [
    "data.u$error = data$outcome - data.u$outcome.predicted \n",
    "layout(fmt(data), fmt(data.u, \"data (known outcome is hidden)\"))"
   ]
  },
  {
   "cell_type": "markdown",
   "metadata": {},
   "source": [
    "Here is a visualization of the dataset showing the prediction errors for specific observations."
   ]
  },
  {
   "cell_type": "code",
   "execution_count": 10,
   "metadata": {
    "hide_input": true,
    "scrolled": false
   },
   "outputs": [
    {
     "data": {
      "image/png": "[encoded data removed]",
      "text/plain": [
       "plot without title"
      ]
     },
     "metadata": {
      "image/png": {
       "height": 360,
       "width": 444
      },
      "text/plain": {
       "height": 360,
       "width": 444
      }
     },
     "output_type": "display_data"
    }
   ],
   "source": [
    "output_size(3.7,3)\n",
    "ggplot(data.u) + ggtitle(\"Data\") + xlim(0,10) + ylim(-5,5) +\n",
    "geom_hline(yintercept=0) +\n",
    "geom_point(aes(x=x1, y=error), color=PALETTE[4])\n",
    "output_size(restore)"
   ]
  },
  {
   "cell_type": "markdown",
   "metadata": {},
   "source": [
    "Calculate some performance metric based on the prediction errors.  Here we calculate the proportion of prediction errors within 2 of the mean.  This is our estimate of the quality of our regressor's predictions."
   ]
  },
  {
   "cell_type": "code",
   "execution_count": 11,
   "metadata": {
    "hide_input": true
   },
   "outputs": [
    {
     "data": {
      "text/html": [
       "<table style=\"white-space: nowrap;\">\n",
       " <thead>\n",
       "  <tr>\n",
       "   <th style=\"text-align:right;background-color: #FFFFFF !important;\"> proportion of prediction errors with 2 of mean </th>\n",
       "  </tr>\n",
       " </thead>\n",
       "<tbody>\n",
       "  <tr>\n",
       "   <td style=\"text-align:right;\"> 0.875 </td>\n",
       "  </tr>\n",
       "</tbody>\n",
       "</table>"
      ]
     },
     "metadata": {},
     "output_type": "display_data"
    }
   ],
   "source": [
    "fmt(sum(abs(mean(data.u$error) - data.u$error) <= 2) / nrow(data.u),\n",
    "    \"proportion of prediction errors with 2 of mean\")"
   ]
  },
  {
   "cell_type": "markdown",
   "metadata": {},
   "source": [
    "## Error Table & Performance Metrics"
   ]
  },
  {
   "cell_type": "markdown",
   "metadata": {},
   "source": [
    "### Error Table\n",
    "\n",
    "An error table conveniently summarizes how close to correct a regressor back-predicts outcome values of some data, and provides a convenient way to calculate performance metrics.\n",
    "\n",
    "Here we see an error table for the previously constructed regressor applied to back-predict the reference known-outcome data.  The first observation's predicted outcome is 0.20 higher than its known outcome.  The second observation's predicted outcome is 1.07 higher than its known outcome.  The third observation's predicted outcome is 1.30 lower than its known outcome.  Similarly for the other observations."
   ]
  },
  {
   "cell_type": "code",
   "execution_count": 12,
   "metadata": {
    "hide_input": true
   },
   "outputs": [
    {
     "data": {
      "text/html": [
       "<table style=\"white-space: nowrap;\">\n",
       "<caption><center><font color=\"black\"><b>error_table</b></font></center></caption>\n",
       " <thead>\n",
       "  <tr>\n",
       "   <th style=\"text-align:right;background-color: #FFFFFF !important;\"> outcome </th>\n",
       "   <th style=\"text-align:right;background-color: #FFFFFF !important;\"> outcome.predicted </th>\n",
       "   <th style=\"text-align:right;background-color: #FFFFFF !important;\"> error </th>\n",
       "  </tr>\n",
       " </thead>\n",
       "<tbody>\n",
       "  <tr>\n",
       "   <td style=\"text-align:right;\"> 1.0 </td>\n",
       "   <td style=\"text-align:right;\"> 1.198324 </td>\n",
       "   <td style=\"text-align:right;\"> -0.1983240 </td>\n",
       "  </tr>\n",
       "  <tr>\n",
       "   <td style=\"text-align:right;\"> 0.5 </td>\n",
       "   <td style=\"text-align:right;\"> 1.573915 </td>\n",
       "   <td style=\"text-align:right;\"> -1.0739149 </td>\n",
       "  </tr>\n",
       "  <tr>\n",
       "   <td style=\"text-align:right;\"> 4.0 </td>\n",
       "   <td style=\"text-align:right;\"> 2.700688 </td>\n",
       "   <td style=\"text-align:right;\"> 1.2993124 </td>\n",
       "  </tr>\n",
       "  <tr>\n",
       "   <td style=\"text-align:right;\"> 5.5 </td>\n",
       "   <td style=\"text-align:right;\"> 3.451869 </td>\n",
       "   <td style=\"text-align:right;\"> 2.0481306 </td>\n",
       "  </tr>\n",
       "  <tr>\n",
       "   <td style=\"text-align:right;\"> 3.5 </td>\n",
       "   <td style=\"text-align:right;\"> 4.954233 </td>\n",
       "   <td style=\"text-align:right;\"> -1.4542329 </td>\n",
       "  </tr>\n",
       "  <tr>\n",
       "   <td style=\"text-align:right;\"> 4.0 </td>\n",
       "   <td style=\"text-align:right;\"> 5.329824 </td>\n",
       "   <td style=\"text-align:right;\"> -1.3298238 </td>\n",
       "  </tr>\n",
       "  <tr>\n",
       "   <td style=\"text-align:right;\"> 6.5 </td>\n",
       "   <td style=\"text-align:right;\"> 7.207778 </td>\n",
       "   <td style=\"text-align:right;\"> -0.7077783 </td>\n",
       "  </tr>\n",
       "  <tr>\n",
       "   <td style=\"text-align:right;\"> 9.0 </td>\n",
       "   <td style=\"text-align:right;\"> 7.583369 </td>\n",
       "   <td style=\"text-align:right;\"> 1.4166309 </td>\n",
       "  </tr>\n",
       "</tbody>\n",
       "</table>"
      ]
     },
     "metadata": {},
     "output_type": "display_data"
    }
   ],
   "source": [
    "error_table = data.frame(outcome=data$outcome, outcome.predicted=data.u$outcome.predicted, error=data.u$error)\n",
    "fmt(error_table)"
   ]
  },
  {
   "cell_type": "markdown",
   "metadata": {},
   "source": [
    "### Performance Metrics\n",
    "\n",
    "Here are some popular performance metrics for regressors that can be derived from an error table.\n",
    "\n",
    "* **mean absolute error (MAE):** $mean( \\vert error_1 \\vert,\\,\\vert error_2 \\vert,\\,\\vert error_3 \\vert,\\,...)$<br><br>\n",
    "* **mean square error (MSE):** $mean ({error_1}^2,\\,{error_2}^2,\\,{error_3}^2,\\,...)$<br><br>\n",
    "* **root mean square error (RMSE):** $\\sqrt{ mean ({error_1}^2,\\,{error_2}^2,\\,{error_3}^2,\\,...)}$<br><br>\n",
    "* **mean absolute percent error (MAPE):** $ 100 \\times mean(\\vert error_1 \\, \\div \\, known \\, value_1 \\vert,\\,\\vert error_2 \\, \\div \\, known \\, value_2 \\vert,\\,\\vert error_3 \\, \\div \\, known \\, value_3 \\vert,\\,...) $"
   ]
  },
  {
   "cell_type": "markdown",
   "metadata": {},
   "source": [
    "Here is an example of an error table and some corresponding performance metric calculations."
   ]
  },
  {
   "cell_type": "code",
   "execution_count": 13,
   "metadata": {
    "hide_input": true
   },
   "outputs": [
    {
     "data": {
      "text/html": [
       "<table style=\"white-space: nowrap;\">\n",
       "<caption><center><font color=\"black\"><b>error_table</b></font></center></caption>\n",
       " <thead>\n",
       "  <tr>\n",
       "   <th style=\"text-align:right;background-color: #FFFFFF !important;\"> outcome </th>\n",
       "   <th style=\"text-align:right;background-color: #FFFFFF !important;\"> outcome.predicted </th>\n",
       "   <th style=\"text-align:right;background-color: #FFFFFF !important;\"> error </th>\n",
       "  </tr>\n",
       " </thead>\n",
       "<tbody>\n",
       "  <tr>\n",
       "   <td style=\"text-align:right;\"> 1.0 </td>\n",
       "   <td style=\"text-align:right;\"> 1.198324 </td>\n",
       "   <td style=\"text-align:right;\"> -0.1983240 </td>\n",
       "  </tr>\n",
       "  <tr>\n",
       "   <td style=\"text-align:right;\"> 0.5 </td>\n",
       "   <td style=\"text-align:right;\"> 1.573915 </td>\n",
       "   <td style=\"text-align:right;\"> -1.0739149 </td>\n",
       "  </tr>\n",
       "  <tr>\n",
       "   <td style=\"text-align:right;\"> 4.0 </td>\n",
       "   <td style=\"text-align:right;\"> 2.700688 </td>\n",
       "   <td style=\"text-align:right;\"> 1.2993124 </td>\n",
       "  </tr>\n",
       "  <tr>\n",
       "   <td style=\"text-align:right;\"> 5.5 </td>\n",
       "   <td style=\"text-align:right;\"> 3.451869 </td>\n",
       "   <td style=\"text-align:right;\"> 2.0481306 </td>\n",
       "  </tr>\n",
       "  <tr>\n",
       "   <td style=\"text-align:right;\"> 3.5 </td>\n",
       "   <td style=\"text-align:right;\"> 4.954233 </td>\n",
       "   <td style=\"text-align:right;\"> -1.4542329 </td>\n",
       "  </tr>\n",
       "  <tr>\n",
       "   <td style=\"text-align:right;\"> 4.0 </td>\n",
       "   <td style=\"text-align:right;\"> 5.329824 </td>\n",
       "   <td style=\"text-align:right;\"> -1.3298238 </td>\n",
       "  </tr>\n",
       "  <tr>\n",
       "   <td style=\"text-align:right;\"> 6.5 </td>\n",
       "   <td style=\"text-align:right;\"> 7.207778 </td>\n",
       "   <td style=\"text-align:right;\"> -0.7077783 </td>\n",
       "  </tr>\n",
       "  <tr>\n",
       "   <td style=\"text-align:right;\"> 9.0 </td>\n",
       "   <td style=\"text-align:right;\"> 7.583369 </td>\n",
       "   <td style=\"text-align:right;\"> 1.4166309 </td>\n",
       "  </tr>\n",
       "</tbody>\n",
       "</table>"
      ]
     },
     "metadata": {},
     "output_type": "display_data"
    },
    {
     "data": {
      "text/html": [
       "<table>\n",
       "<thead><tr><th scope=col>mae</th><th scope=col>mse</th><th scope=col>rmse</th><th scope=col>mape</th></tr></thead>\n",
       "<tbody>\n",
       "\t<tr><td>1.191018</td><td>1.683337</td><td>1.297435</td><td>50.72016</td></tr>\n",
       "</tbody>\n",
       "</table>\n"
      ],
      "text/latex": [
       "\\begin{tabular}{r|llll}\n",
       " mae & mse & rmse & mape\\\\\n",
       "\\hline\n",
       "\t 1.191018 & 1.683337 & 1.297435 & 50.72016\\\\\n",
       "\\end{tabular}\n"
      ],
      "text/markdown": [
       "\n",
       "| mae | mse | rmse | mape |\n",
       "|---|---|---|---|\n",
       "| 1.191018 | 1.683337 | 1.297435 | 50.72016 |\n",
       "\n"
      ],
      "text/plain": [
       "  mae      mse      rmse     mape    \n",
       "1 1.191018 1.683337 1.297435 50.72016"
      ]
     },
     "metadata": {},
     "output_type": "display_data"
    }
   ],
   "source": [
    "fmt(error_table)\n",
    "\n",
    "mae = mean(abs(error_table$error))\n",
    "mse = mean(error_table$error^2)\n",
    "rmse = sqrt(mean(error_table$error^2))\n",
    "mape = 100 * mean(abs(error_table$error / error_table$outcome))\n",
    "\n",
    "data.frame(mae, mse, rmse, mape)"
   ]
  },
  {
   "cell_type": "markdown",
   "metadata": {},
   "source": [
    "## Evaluation by In-Sample Performance\n",
    "\n",
    "Evaluation by in-sample performance is one of three popular versions of evaluation.  It uses all the reference known-outcome data, referred to in this context as training data, to construct a similar regressor.  It uses all the same reference known-outcome data, referred to in this context as testing data, to predict and compare outcome values.\n",
    "\n",
    "An inherent problem with evaluation by in-sample performance is that its estimate of prediction quality is based on predicting outcomes of a dataset with a regressor that already has knowledge of that dataset.  Imagine a student that studies the answers to certain questions and then is tested on only those questions.  The test results may overstate how the student would perform when tested on other questions.  In a business situation, imagine a regressor that is constructed from a certain dataset and then back-predicts that dataset.  The results may overstate how the regressor would perform predciting outcomes of another dataset. "
   ]
  },
  {
   "cell_type": "markdown",
   "metadata": {},
   "source": [
    "<table style=\"border:1px solid; margin-top:20px\">\n",
    "    <caption style=\"text-align:center\">In-sample Evaluation of a Regressor</caption>\n",
    "    <tr><td style=\"padding:20px; background-color:white\"><img src=\"regression_insample.jpg\" width=600></td></tr>\n",
    "</table><br clear=all>"
   ]
  },
  {
   "cell_type": "markdown",
   "metadata": {},
   "source": [
    "Here's an example of evaluation by in-sample performance of an operative regressor, which was constructed by the \"Special Regressor Construction Method\" based on the 8-observation reference known-outcome dataset.  We use the same \"Special Regressor Construction Method\" and reference known-outcome dataset to construct a similar regressor, which in this case is exactly the same as the operative regressor.  Then, we input the same reference data with the outcome variable hidden to the similar regressor to predict 8 outcome values, which we in turn compare to the 8 known outcome values.  From there, we construct an error table and use it to compute a performance metric, in this example RMSE 1.30, which is an estimate of the operative regressor's prediction quality."
   ]
  },
  {
   "cell_type": "code",
   "execution_count": 14,
   "metadata": {
    "hide_input": true,
    "scrolled": true
   },
   "outputs": [
    {
     "data": {
      "text/html": [
       "<table style=\"white-space: nowrap;\">\n",
       "<caption><center><font color=\"black\"><b>data</b></font></center></caption>\n",
       " <thead>\n",
       "  <tr>\n",
       "   <th style=\"text-align:right;background-color: #FFFFFF !important;\"> x1 </th>\n",
       "   <th style=\"text-align:right;background-color: #FFFFFF !important;\"> outcome </th>\n",
       "  </tr>\n",
       " </thead>\n",
       "<tbody>\n",
       "  <tr>\n",
       "   <td style=\"text-align:right;\"> 1.0 </td>\n",
       "   <td style=\"text-align:right;\"> 1.0 </td>\n",
       "  </tr>\n",
       "  <tr>\n",
       "   <td style=\"text-align:right;\"> 1.5 </td>\n",
       "   <td style=\"text-align:right;\"> 0.5 </td>\n",
       "  </tr>\n",
       "  <tr>\n",
       "   <td style=\"text-align:right;\"> 3.0 </td>\n",
       "   <td style=\"text-align:right;\"> 4.0 </td>\n",
       "  </tr>\n",
       "  <tr>\n",
       "   <td style=\"text-align:right;\"> 4.0 </td>\n",
       "   <td style=\"text-align:right;\"> 5.5 </td>\n",
       "  </tr>\n",
       "  <tr>\n",
       "   <td style=\"text-align:right;\"> 6.0 </td>\n",
       "   <td style=\"text-align:right;\"> 3.5 </td>\n",
       "  </tr>\n",
       "  <tr>\n",
       "   <td style=\"text-align:right;\"> 6.5 </td>\n",
       "   <td style=\"text-align:right;\"> 4.0 </td>\n",
       "  </tr>\n",
       "  <tr>\n",
       "   <td style=\"text-align:right;\"> 9.0 </td>\n",
       "   <td style=\"text-align:right;\"> 6.5 </td>\n",
       "  </tr>\n",
       "  <tr>\n",
       "   <td style=\"text-align:right;\"> 9.5 </td>\n",
       "   <td style=\"text-align:right;\"> 9.0 </td>\n",
       "  </tr>\n",
       "</tbody>\n",
       "</table>"
      ]
     },
     "metadata": {},
     "output_type": "display_data"
    }
   ],
   "source": [
    "fmt(data)"
   ]
  },
  {
   "cell_type": "code",
   "execution_count": 15,
   "metadata": {
    "hide_input": true
   },
   "outputs": [
    {
     "data": {
      "text/html": [
       "<table style=\"white-space: nowrap;\">\n",
       "<caption><center><font color=\"black\"><b>model.operative</b></font></center></caption>\n",
       " <thead>\n",
       "  <tr>\n",
       "   <th style=\"text-align:right;background-color: #FFFFFF !important;\"> method </th>\n",
       "   <th style=\"text-align:right;background-color: #FFFFFF !important;\"> vars </th>\n",
       "   <th style=\"text-align:right;background-color: #FFFFFF !important;\"> parameter_1 </th>\n",
       "   <th style=\"text-align:right;background-color: #FFFFFF !important;\"> parameter_2 </th>\n",
       "  </tr>\n",
       " </thead>\n",
       "<tbody>\n",
       "  <tr>\n",
       "   <td style=\"text-align:right;\"> Special Regressor Construction Method </td>\n",
       "   <td style=\"text-align:right;\"> x1 </td>\n",
       "   <td style=\"text-align:right;\"> 0.4471422 </td>\n",
       "   <td style=\"text-align:right;\"> 0.7511818 </td>\n",
       "  </tr>\n",
       "</tbody>\n",
       "</table>"
      ]
     },
     "metadata": {},
     "output_type": "display_data"
    }
   ],
   "source": [
    "model.operative = my_regressor_construction_method(outcome ~ x1, data, hyperparameter=0)\n",
    "fmt.model(model.operative)"
   ]
  },
  {
   "cell_type": "code",
   "execution_count": 16,
   "metadata": {
    "hide_input": true
   },
   "outputs": [
    {
     "data": {
      "text/html": [
       "<table style=\"white-space: nowrap;\">\n",
       "<caption><center><font color=\"black\"><b>model</b></font></center></caption>\n",
       " <thead>\n",
       "  <tr>\n",
       "   <th style=\"text-align:right;background-color: #FFFFFF !important;\"> method </th>\n",
       "   <th style=\"text-align:right;background-color: #FFFFFF !important;\"> vars </th>\n",
       "   <th style=\"text-align:right;background-color: #FFFFFF !important;\"> parameter_1 </th>\n",
       "   <th style=\"text-align:right;background-color: #FFFFFF !important;\"> parameter_2 </th>\n",
       "  </tr>\n",
       " </thead>\n",
       "<tbody>\n",
       "  <tr>\n",
       "   <td style=\"text-align:right;\"> Special Regressor Construction Method </td>\n",
       "   <td style=\"text-align:right;\"> x1 </td>\n",
       "   <td style=\"text-align:right;\"> 0.4471422 </td>\n",
       "   <td style=\"text-align:right;\"> 0.7511818 </td>\n",
       "  </tr>\n",
       "</tbody>\n",
       "</table>"
      ]
     },
     "metadata": {},
     "output_type": "display_data"
    }
   ],
   "source": [
    "model = my_regressor_construction_method(outcome ~ x1, data, hyperparameter=0)\n",
    "fmt.model(model)"
   ]
  },
  {
   "cell_type": "code",
   "execution_count": 17,
   "metadata": {
    "hide_input": true
   },
   "outputs": [
    {
     "data": {
      "text/html": [
       "<table><tr><td style=\"background-color:white; vertical-align:top; padding-right:40px;\"><table style=\"white-space: nowrap;\">\n",
       "<caption><center><font color=\"black\"><b>data</b></font></center></caption>\n",
       " <thead>\n",
       "  <tr>\n",
       "   <th style=\"text-align:right;background-color: #FFFFFF !important;\"> x1 </th>\n",
       "   <th style=\"text-align:right;background-color: #FFFFFF !important;\"> outcome </th>\n",
       "  </tr>\n",
       " </thead>\n",
       "<tbody>\n",
       "  <tr>\n",
       "   <td style=\"text-align:right;\"> 1.0 </td>\n",
       "   <td style=\"text-align:right;\"> 1.0 </td>\n",
       "  </tr>\n",
       "  <tr>\n",
       "   <td style=\"text-align:right;\"> 1.5 </td>\n",
       "   <td style=\"text-align:right;\"> 0.5 </td>\n",
       "  </tr>\n",
       "  <tr>\n",
       "   <td style=\"text-align:right;\"> 3.0 </td>\n",
       "   <td style=\"text-align:right;\"> 4.0 </td>\n",
       "  </tr>\n",
       "  <tr>\n",
       "   <td style=\"text-align:right;\"> 4.0 </td>\n",
       "   <td style=\"text-align:right;\"> 5.5 </td>\n",
       "  </tr>\n",
       "  <tr>\n",
       "   <td style=\"text-align:right;\"> 6.0 </td>\n",
       "   <td style=\"text-align:right;\"> 3.5 </td>\n",
       "  </tr>\n",
       "  <tr>\n",
       "   <td style=\"text-align:right;\"> 6.5 </td>\n",
       "   <td style=\"text-align:right;\"> 4.0 </td>\n",
       "  </tr>\n",
       "  <tr>\n",
       "   <td style=\"text-align:right;\"> 9.0 </td>\n",
       "   <td style=\"text-align:right;\"> 6.5 </td>\n",
       "  </tr>\n",
       "  <tr>\n",
       "   <td style=\"text-align:right;\"> 9.5 </td>\n",
       "   <td style=\"text-align:right;\"> 9.0 </td>\n",
       "  </tr>\n",
       "</tbody>\n",
       "</table></td><td style=\"background-color:white; vertical-align:top; padding-right:40px;\"><table style=\"white-space: nowrap;\">\n",
       "<caption><center><font color=\"black\"><b>data (known outcome is hidden)</b></font></center></caption>\n",
       " <thead>\n",
       "  <tr>\n",
       "   <th style=\"text-align:right;background-color: #FFFFFF !important;\"> x1 </th>\n",
       "   <th style=\"text-align:right;background-color: #FFFFFF !important;\"> outcome.predicted </th>\n",
       "  </tr>\n",
       " </thead>\n",
       "<tbody>\n",
       "  <tr>\n",
       "   <td style=\"text-align:right;\"> 1.0 </td>\n",
       "   <td style=\"text-align:right;\"> 1.198324 </td>\n",
       "  </tr>\n",
       "  <tr>\n",
       "   <td style=\"text-align:right;\"> 1.5 </td>\n",
       "   <td style=\"text-align:right;\"> 1.573915 </td>\n",
       "  </tr>\n",
       "  <tr>\n",
       "   <td style=\"text-align:right;\"> 3.0 </td>\n",
       "   <td style=\"text-align:right;\"> 2.700688 </td>\n",
       "  </tr>\n",
       "  <tr>\n",
       "   <td style=\"text-align:right;\"> 4.0 </td>\n",
       "   <td style=\"text-align:right;\"> 3.451869 </td>\n",
       "  </tr>\n",
       "  <tr>\n",
       "   <td style=\"text-align:right;\"> 6.0 </td>\n",
       "   <td style=\"text-align:right;\"> 4.954233 </td>\n",
       "  </tr>\n",
       "  <tr>\n",
       "   <td style=\"text-align:right;\"> 6.5 </td>\n",
       "   <td style=\"text-align:right;\"> 5.329824 </td>\n",
       "  </tr>\n",
       "  <tr>\n",
       "   <td style=\"text-align:right;\"> 9.0 </td>\n",
       "   <td style=\"text-align:right;\"> 7.207778 </td>\n",
       "  </tr>\n",
       "  <tr>\n",
       "   <td style=\"text-align:right;\"> 9.5 </td>\n",
       "   <td style=\"text-align:right;\"> 7.583369 </td>\n",
       "  </tr>\n",
       "</tbody>\n",
       "</table></td><td style=\"background-color:white; vertical-align:top; padding-right:40px;\"><table style=\"white-space: nowrap;\">\n",
       "<caption><center><font color=\"black\"><b>error_table</b></font></center></caption>\n",
       " <thead>\n",
       "  <tr>\n",
       "   <th style=\"text-align:right;background-color: #FFFFFF !important;\"> outcome </th>\n",
       "   <th style=\"text-align:right;background-color: #FFFFFF !important;\"> outcome.predicted </th>\n",
       "   <th style=\"text-align:right;background-color: #FFFFFF !important;\"> error </th>\n",
       "  </tr>\n",
       " </thead>\n",
       "<tbody>\n",
       "  <tr>\n",
       "   <td style=\"text-align:right;\"> 1.0 </td>\n",
       "   <td style=\"text-align:right;\"> 1.198324 </td>\n",
       "   <td style=\"text-align:right;\"> -0.1983240 </td>\n",
       "  </tr>\n",
       "  <tr>\n",
       "   <td style=\"text-align:right;\"> 0.5 </td>\n",
       "   <td style=\"text-align:right;\"> 1.573915 </td>\n",
       "   <td style=\"text-align:right;\"> -1.0739149 </td>\n",
       "  </tr>\n",
       "  <tr>\n",
       "   <td style=\"text-align:right;\"> 4.0 </td>\n",
       "   <td style=\"text-align:right;\"> 2.700688 </td>\n",
       "   <td style=\"text-align:right;\"> 1.2993124 </td>\n",
       "  </tr>\n",
       "  <tr>\n",
       "   <td style=\"text-align:right;\"> 5.5 </td>\n",
       "   <td style=\"text-align:right;\"> 3.451869 </td>\n",
       "   <td style=\"text-align:right;\"> 2.0481306 </td>\n",
       "  </tr>\n",
       "  <tr>\n",
       "   <td style=\"text-align:right;\"> 3.5 </td>\n",
       "   <td style=\"text-align:right;\"> 4.954233 </td>\n",
       "   <td style=\"text-align:right;\"> -1.4542329 </td>\n",
       "  </tr>\n",
       "  <tr>\n",
       "   <td style=\"text-align:right;\"> 4.0 </td>\n",
       "   <td style=\"text-align:right;\"> 5.329824 </td>\n",
       "   <td style=\"text-align:right;\"> -1.3298238 </td>\n",
       "  </tr>\n",
       "  <tr>\n",
       "   <td style=\"text-align:right;\"> 6.5 </td>\n",
       "   <td style=\"text-align:right;\"> 7.207778 </td>\n",
       "   <td style=\"text-align:right;\"> -0.7077783 </td>\n",
       "  </tr>\n",
       "  <tr>\n",
       "   <td style=\"text-align:right;\"> 9.0 </td>\n",
       "   <td style=\"text-align:right;\"> 7.583369 </td>\n",
       "   <td style=\"text-align:right;\"> 1.4166309 </td>\n",
       "  </tr>\n",
       "</tbody>\n",
       "</table></td><td style=\"background-color:white; vertical-align:top;\"><table style=\"white-space: nowrap;\">\n",
       "<caption><center><font color=\"black\"><b> </b></font></center></caption>\n",
       " <thead>\n",
       "  <tr>\n",
       "   <th style=\"text-align:right;background-color: #FFFFFF !important;\"> RMSE </th>\n",
       "  </tr>\n",
       " </thead>\n",
       "<tbody>\n",
       "  <tr>\n",
       "   <td style=\"text-align:right;\"> 1.297435 </td>\n",
       "  </tr>\n",
       "</tbody>\n",
       "</table></td></tr></table>"
      ]
     },
     "metadata": {},
     "output_type": "display_data"
    }
   ],
   "source": [
    "data.u = data; data.u$outcome = NULL\n",
    "\n",
    "data.u$outcome.predicted = predict(model, data.u)\n",
    "\n",
    "error_table = data.frame(outcome=data$outcome,\n",
    "                         outcome.predicted=data.u$outcome.predicted,\n",
    "                         error=data$outcome-data.u$outcome.predicted)\n",
    "\n",
    "RMSE = sqrt(mean(error_table$error^2))\n",
    "\n",
    "layout(fmt(data), fmt(data.u, \"data (known outcome is hidden)\"), fmt(error_table), fmt(RMSE, force=TRUE))"
   ]
  },
  {
   "cell_type": "code",
   "execution_count": 18,
   "metadata": {
    "hide_input": true
   },
   "outputs": [
    {
     "data": {
      "image/png": "[encoded data removed]",
      "text/plain": [
       "plot without title"
      ]
     },
     "metadata": {
      "image/png": {
       "height": 360,
       "width": 540
      },
      "text/plain": {
       "height": 360,
       "width": 540
      }
     },
     "output_type": "display_data"
    }
   ],
   "source": [
    "output_size(4.5,3)\n",
    "ggplot(data) + ggtitle(\"Data | Prediction Results\") + xlim(0,10) + ylim(0,10) +\n",
    "geom_point(aes(x=x1, y=outcome, color=\"actual\")) +\n",
    "geom_point(aes(x1, y=outcome.predicted, color=\"predicted\"), data=data.u)\n",
    "output_size(restore)"
   ]
  },
  {
   "cell_type": "code",
   "execution_count": 19,
   "metadata": {
    "hide_input": true
   },
   "outputs": [
    {
     "data": {
      "image/png": "[encoded data removed]",
      "text/plain": [
       "plot without title"
      ]
     },
     "metadata": {
      "image/png": {
       "height": 360,
       "width": 840
      },
      "text/plain": {
       "height": 360,
       "width": 840
      }
     },
     "output_type": "display_data"
    }
   ],
   "source": [
    "p1 = ggplot(cbind(data, error_table[,-1])) + ggtitle(\"Data | Prediction Error Results\") + xlim(0,10) + ylim(-2.5,2.5) +\n",
    "     geom_point(aes(x1, y=error), color=PALETTE[4]) +\n",
    "     geom_hline(aes(yintercept=0))\n",
    "\n",
    "p2 = ggplot(cbind(data, error_table[,-1])) + ggtitle(\"Data | Prediction Square Error Results\") + xlim(0,10) + ylim(0,5) +\n",
    "     geom_point(aes(x1, y=error^2), color=PALETTE[4]) +\n",
    "     geom_hline(aes(yintercept=0))\n",
    "\n",
    "grid.arrange(p1, p2, nrow=1)"
   ]
  },
  {
   "cell_type": "markdown",
   "metadata": {},
   "source": [
    "## Evaluation by Out-of-Sample Performance\n",
    "\n",
    "Evaluation by out-of-sample performance is another one of three popular versions of evaluation.  It uses some of the reference known-outcome dataset, referred to in this context as holdin training data, to construct a similar regressor.  It uses the rest of the reference knoiwn-outcome dataset, referred to in this context as holdout testing data, to predict and compare outcome values.\n",
    "\n",
    "Evaluation by out-of-sample performance is considered to produce better estimates of prediction quality than evaluation by in-sample performance does.  It avoids the problem of using the same data for both training and testing.  However, it has its own inherent problem in that it uses only some of the reference known-outcome data to train and only some to test.  Imagine a student that studies the answers to certain questions and then is tested on other questions, but not tested on any of the questions for which she studied.  Further, consider that had she studied the answers to those other questions she may have performed better.  The results may understate or overstate how the student would perform on other tests.  In a business situation, imagine a regressor that is constructed from a certain dataset and then back-predicts another dataset.  The results may understate or overstate how the regressor would perform predicting outcomes of the still another dataset. \n",
    "\n",
    "Out-of-sample performance is also known as holdout performance."
   ]
  },
  {
   "cell_type": "markdown",
   "metadata": {},
   "source": [
    "<table style=\"border:1px solid; margin-top:20px\">\n",
    "    <caption style=\"text-align:center\">Out-of-Sample Evaluation of a Regressor</caption>\n",
    "    <tr><td style=\"padding:20px; background-color:white\"><img src=\"regression_outofsample.jpg\" width=780></td></tr>\n",
    "</table><br clear=all>"
   ]
  },
  {
   "cell_type": "markdown",
   "metadata": {},
   "source": [
    "Here's an example of evaluation by out-of-sample performance of an operative regressor, which was constructed by the \"Special Regressor Construction Method\" based on the 8-observation reference known-outcome dataset.  "
   ]
  },
  {
   "cell_type": "code",
   "execution_count": 20,
   "metadata": {
    "hide_input": true,
    "scrolled": false
   },
   "outputs": [
    {
     "data": {
      "text/html": [
       "<table style=\"white-space: nowrap;\">\n",
       "<caption><center><font color=\"black\"><b>data</b></font></center></caption>\n",
       " <thead>\n",
       "  <tr>\n",
       "   <th style=\"text-align:right;background-color: #FFFFFF !important;\"> x1 </th>\n",
       "   <th style=\"text-align:right;background-color: #FFFFFF !important;\"> outcome </th>\n",
       "  </tr>\n",
       " </thead>\n",
       "<tbody>\n",
       "  <tr>\n",
       "   <td style=\"text-align:right;\"> 1.0 </td>\n",
       "   <td style=\"text-align:right;\"> 1.0 </td>\n",
       "  </tr>\n",
       "  <tr>\n",
       "   <td style=\"text-align:right;\"> 1.5 </td>\n",
       "   <td style=\"text-align:right;\"> 0.5 </td>\n",
       "  </tr>\n",
       "  <tr>\n",
       "   <td style=\"text-align:right;\"> 3.0 </td>\n",
       "   <td style=\"text-align:right;\"> 4.0 </td>\n",
       "  </tr>\n",
       "  <tr>\n",
       "   <td style=\"text-align:right;\"> 4.0 </td>\n",
       "   <td style=\"text-align:right;\"> 5.5 </td>\n",
       "  </tr>\n",
       "  <tr>\n",
       "   <td style=\"text-align:right;\"> 6.0 </td>\n",
       "   <td style=\"text-align:right;\"> 3.5 </td>\n",
       "  </tr>\n",
       "  <tr>\n",
       "   <td style=\"text-align:right;\"> 6.5 </td>\n",
       "   <td style=\"text-align:right;\"> 4.0 </td>\n",
       "  </tr>\n",
       "  <tr>\n",
       "   <td style=\"text-align:right;\"> 9.0 </td>\n",
       "   <td style=\"text-align:right;\"> 6.5 </td>\n",
       "  </tr>\n",
       "  <tr>\n",
       "   <td style=\"text-align:right;\"> 9.5 </td>\n",
       "   <td style=\"text-align:right;\"> 9.0 </td>\n",
       "  </tr>\n",
       "</tbody>\n",
       "</table>"
      ]
     },
     "metadata": {},
     "output_type": "display_data"
    }
   ],
   "source": [
    "fmt(data)"
   ]
  },
  {
   "cell_type": "code",
   "execution_count": 21,
   "metadata": {
    "hide_input": true
   },
   "outputs": [
    {
     "data": {
      "text/html": [
       "<table style=\"white-space: nowrap;\">\n",
       "<caption><center><font color=\"black\"><b>model.operative</b></font></center></caption>\n",
       " <thead>\n",
       "  <tr>\n",
       "   <th style=\"text-align:right;background-color: #FFFFFF !important;\"> method </th>\n",
       "   <th style=\"text-align:right;background-color: #FFFFFF !important;\"> vars </th>\n",
       "   <th style=\"text-align:right;background-color: #FFFFFF !important;\"> parameter_1 </th>\n",
       "   <th style=\"text-align:right;background-color: #FFFFFF !important;\"> parameter_2 </th>\n",
       "  </tr>\n",
       " </thead>\n",
       "<tbody>\n",
       "  <tr>\n",
       "   <td style=\"text-align:right;\"> Special Regressor Construction Method </td>\n",
       "   <td style=\"text-align:right;\"> x1 </td>\n",
       "   <td style=\"text-align:right;\"> 0.4471422 </td>\n",
       "   <td style=\"text-align:right;\"> 0.7511818 </td>\n",
       "  </tr>\n",
       "</tbody>\n",
       "</table>"
      ]
     },
     "metadata": {},
     "output_type": "display_data"
    }
   ],
   "source": [
    "model.operative = my_regressor_construction_method(outcome~x1, data)\n",
    "fmt.model(model.operative)"
   ]
  },
  {
   "cell_type": "markdown",
   "metadata": {},
   "source": [
    "Partition the reference kn own-observation dataset into a holdin part for training and a holdout part for testing.  Here we chose to tag 30% of the dataset's observations, sampled at random, as holdout: observations 3 and 6.  We tag the remaining 70% of the dataset as holdin: observations 1, 2, 4, 5, 7, and 8."
   ]
  },
  {
   "cell_type": "code",
   "execution_count": 22,
   "metadata": {
    "hide_input": true,
    "scrolled": false
   },
   "outputs": [
    {
     "data": {
      "text/html": [
       "<table><tr><td style=\"background-color:white; vertical-align:top; padding-right:40px;\"><table style=\"white-space: nowrap;\">\n",
       "<caption><center><font color=\"black\"><b> </b></font></center></caption>\n",
       " <thead>\n",
       "  <tr>\n",
       "   <th style=\"text-align:right;background-color: #FFFFFF !important;\"> holdout </th>\n",
       "  </tr>\n",
       " </thead>\n",
       "<tbody>\n",
       "  <tr>\n",
       "   <td style=\"text-align:right;\"> 6 </td>\n",
       "  </tr>\n",
       "  <tr>\n",
       "   <td style=\"text-align:right;\"> 3 </td>\n",
       "  </tr>\n",
       "</tbody>\n",
       "</table></td><td style=\"background-color:white; vertical-align:top;\"><table style=\"white-space: nowrap;\">\n",
       "<caption><center><font color=\"black\"><b>data.test</b></font></center></caption>\n",
       " <thead>\n",
       "  <tr>\n",
       "   <th style=\"text-align:right;background-color: #FFFFFF !important;\"> x1 </th>\n",
       "   <th style=\"text-align:right;background-color: #FFFFFF !important;\"> outcome </th>\n",
       "  </tr>\n",
       " </thead>\n",
       "<tbody>\n",
       "  <tr>\n",
       "   <td style=\"text-align:right;\"> 6.5 </td>\n",
       "   <td style=\"text-align:right;\"> 4 </td>\n",
       "  </tr>\n",
       "  <tr>\n",
       "   <td style=\"text-align:right;\"> 3.0 </td>\n",
       "   <td style=\"text-align:right;\"> 4 </td>\n",
       "  </tr>\n",
       "</tbody>\n",
       "</table></td></tr><tr><td style=\"background-color:white; vertical-align:top; padding-right:40px;\"><table style=\"white-space: nowrap;\">\n",
       "<caption><center><font color=\"black\"><b> </b></font></center></caption>\n",
       " <thead>\n",
       "  <tr>\n",
       "   <th style=\"text-align:right;background-color: #FFFFFF !important;\"> holdin </th>\n",
       "  </tr>\n",
       " </thead>\n",
       "<tbody>\n",
       "  <tr>\n",
       "   <td style=\"text-align:right;\"> 1 </td>\n",
       "  </tr>\n",
       "  <tr>\n",
       "   <td style=\"text-align:right;\"> 2 </td>\n",
       "  </tr>\n",
       "  <tr>\n",
       "   <td style=\"text-align:right;\"> 4 </td>\n",
       "  </tr>\n",
       "  <tr>\n",
       "   <td style=\"text-align:right;\"> 5 </td>\n",
       "  </tr>\n",
       "  <tr>\n",
       "   <td style=\"text-align:right;\"> 7 </td>\n",
       "  </tr>\n",
       "  <tr>\n",
       "   <td style=\"text-align:right;\"> 8 </td>\n",
       "  </tr>\n",
       "</tbody>\n",
       "</table></td><td style=\"background-color:white; vertical-align:top;\"><table style=\"white-space: nowrap;\">\n",
       "<caption><center><font color=\"black\"><b>data.train</b></font></center></caption>\n",
       " <thead>\n",
       "  <tr>\n",
       "   <th style=\"text-align:right;background-color: #FFFFFF !important;\"> x1 </th>\n",
       "   <th style=\"text-align:right;background-color: #FFFFFF !important;\"> outcome </th>\n",
       "  </tr>\n",
       " </thead>\n",
       "<tbody>\n",
       "  <tr>\n",
       "   <td style=\"text-align:right;\"> 1.0 </td>\n",
       "   <td style=\"text-align:right;\"> 1.0 </td>\n",
       "  </tr>\n",
       "  <tr>\n",
       "   <td style=\"text-align:right;\"> 1.5 </td>\n",
       "   <td style=\"text-align:right;\"> 0.5 </td>\n",
       "  </tr>\n",
       "  <tr>\n",
       "   <td style=\"text-align:right;\"> 4.0 </td>\n",
       "   <td style=\"text-align:right;\"> 5.5 </td>\n",
       "  </tr>\n",
       "  <tr>\n",
       "   <td style=\"text-align:right;\"> 6.0 </td>\n",
       "   <td style=\"text-align:right;\"> 3.5 </td>\n",
       "  </tr>\n",
       "  <tr>\n",
       "   <td style=\"text-align:right;\"> 9.0 </td>\n",
       "   <td style=\"text-align:right;\"> 6.5 </td>\n",
       "  </tr>\n",
       "  <tr>\n",
       "   <td style=\"text-align:right;\"> 9.5 </td>\n",
       "   <td style=\"text-align:right;\"> 9.0 </td>\n",
       "  </tr>\n",
       "</tbody>\n",
       "</table></td></tr></table>"
      ]
     },
     "metadata": {},
     "output_type": "display_data"
    }
   ],
   "source": [
    "set.seed(12345)\n",
    "holdout = sample(1:nrow(data), 0.30*nrow(data))\n",
    "holdin = setdiff(1:nrow(data), holdout)\n",
    "\n",
    "data.test  = data[holdout,]\n",
    "data.train = data[holdin,]\n",
    "\n",
    "layout(fmt(holdout, force=TRUE), fmt(data.test), fmt(holdin, force=TRUE), fmt(data.train), nrow=2)"
   ]
  },
  {
   "cell_type": "markdown",
   "metadata": {},
   "source": [
    "Input the 6-observation holdin dataset to the \"Special Regressor Construction Method\" to construct a similar regressor, which will be different than the operative regressor."
   ]
  },
  {
   "cell_type": "code",
   "execution_count": 23,
   "metadata": {
    "hide_input": true
   },
   "outputs": [
    {
     "data": {
      "text/html": [
       "<table style=\"white-space: nowrap;\">\n",
       "<caption><center><font color=\"black\"><b>model</b></font></center></caption>\n",
       " <thead>\n",
       "  <tr>\n",
       "   <th style=\"text-align:right;background-color: #FFFFFF !important;\"> method </th>\n",
       "   <th style=\"text-align:right;background-color: #FFFFFF !important;\"> vars </th>\n",
       "   <th style=\"text-align:right;background-color: #FFFFFF !important;\"> parameter_1 </th>\n",
       "   <th style=\"text-align:right;background-color: #FFFFFF !important;\"> parameter_2 </th>\n",
       "  </tr>\n",
       " </thead>\n",
       "<tbody>\n",
       "  <tr>\n",
       "   <td style=\"text-align:right;\"> Special Regressor Construction Method </td>\n",
       "   <td style=\"text-align:right;\"> x1 </td>\n",
       "   <td style=\"text-align:right;\"> 0.0948492 </td>\n",
       "   <td style=\"text-align:right;\"> 0.8203518 </td>\n",
       "  </tr>\n",
       "</tbody>\n",
       "</table>"
      ]
     },
     "metadata": {},
     "output_type": "display_data"
    }
   ],
   "source": [
    "model = my_regressor_construction_method(outcome~x1, data[holdin, ])\n",
    "fmt.model(model)"
   ]
  },
  {
   "cell_type": "markdown",
   "metadata": {},
   "source": [
    "Input the 2-observation holdout dataset to the similar regressor to predict 2 outcome values, and in turn compare to the 2 known outcome values.  From there, we construct an error tableand use it to compute a performance metric, in this example RMSE 1.44, which is an estimate of the operative regressor's prediction quality.  At this point, you can discard the similar regressor."
   ]
  },
  {
   "cell_type": "code",
   "execution_count": 24,
   "metadata": {
    "hide_input": true,
    "scrolled": true
   },
   "outputs": [
    {
     "data": {
      "text/html": [
       "<table><tr><td style=\"background-color:white; vertical-align:top; padding-right:40px;\"><table style=\"white-space: nowrap;\">\n",
       "<caption><center><font color=\"black\"><b>data.test</b></font></center></caption>\n",
       " <thead>\n",
       "  <tr>\n",
       "   <th style=\"text-align:right;background-color: #FFFFFF !important;\"> x1 </th>\n",
       "   <th style=\"text-align:right;background-color: #FFFFFF !important;\"> outcome </th>\n",
       "  </tr>\n",
       " </thead>\n",
       "<tbody>\n",
       "  <tr>\n",
       "   <td style=\"text-align:right;\"> 6.5 </td>\n",
       "   <td style=\"text-align:right;\"> 4 </td>\n",
       "  </tr>\n",
       "  <tr>\n",
       "   <td style=\"text-align:right;\"> 3.0 </td>\n",
       "   <td style=\"text-align:right;\"> 4 </td>\n",
       "  </tr>\n",
       "</tbody>\n",
       "</table></td><td style=\"background-color:white; vertical-align:top; padding-right:40px;\"><table style=\"white-space: nowrap;\">\n",
       "<caption><center><font color=\"black\"><b>data.test (unknown outcome)</b></font></center></caption>\n",
       " <thead>\n",
       "  <tr>\n",
       "   <th style=\"text-align:right;background-color: #FFFFFF !important;\"> x1 </th>\n",
       "   <th style=\"text-align:right;background-color: #FFFFFF !important;\"> outcome.predicted </th>\n",
       "   <th style=\"text-align:right;background-color: #FFFFFF !important;\"> error </th>\n",
       "   <th style=\"text-align:right;background-color: #FFFFFF !important;\"> square_error </th>\n",
       "  </tr>\n",
       " </thead>\n",
       "<tbody>\n",
       "  <tr>\n",
       "   <td style=\"text-align:right;\"> 6.5 </td>\n",
       "   <td style=\"text-align:right;\"> 5.427136 </td>\n",
       "   <td style=\"text-align:right;\"> -1.427136 </td>\n",
       "   <td style=\"text-align:right;\"> 2.036716 </td>\n",
       "  </tr>\n",
       "  <tr>\n",
       "   <td style=\"text-align:right;\"> 3.0 </td>\n",
       "   <td style=\"text-align:right;\"> 2.555905 </td>\n",
       "   <td style=\"text-align:right;\"> 1.444095 </td>\n",
       "   <td style=\"text-align:right;\"> 2.085412 </td>\n",
       "  </tr>\n",
       "</tbody>\n",
       "</table></td><td style=\"background-color:white; vertical-align:top;\"><table style=\"white-space: nowrap;\">\n",
       "<caption><center><font color=\"black\"><b> </b></font></center></caption>\n",
       " <thead>\n",
       "  <tr>\n",
       "   <th style=\"text-align:right;background-color: #FFFFFF !important;\"> RMSE </th>\n",
       "  </tr>\n",
       " </thead>\n",
       "<tbody>\n",
       "  <tr>\n",
       "   <td style=\"text-align:right;\"> 1.435641 </td>\n",
       "  </tr>\n",
       "</tbody>\n",
       "</table></td></tr></table>"
      ]
     },
     "metadata": {},
     "output_type": "display_data"
    }
   ],
   "source": [
    "data.u.test = data.test[, colnames(data)!=\"outcome\", drop=FALSE]\n",
    "\n",
    "data.u.test$outcome.predicted = predict(model, data.u.test)\n",
    "\n",
    "error = data.test$outcome-data.u.test$outcome.predicted\n",
    "square_error = error^2\n",
    "RMSE = sqrt(mean(square_error))\n",
    "\n",
    "data.u.test$error = error\n",
    "data.u.test$square_error = square_error\n",
    "\n",
    "layout(fmt(data.test), fmt(data.u.test, \"data.test (unknown outcome)\"), fmt(RMSE, force=TRUE))"
   ]
  },
  {
   "cell_type": "code",
   "execution_count": 25,
   "metadata": {
    "hide_input": true,
    "scrolled": false
   },
   "outputs": [
    {
     "data": {
      "image/png": "[encoded data removed]",
      "text/plain": [
       "plot without title"
      ]
     },
     "metadata": {
      "image/png": {
       "height": 360,
       "width": 540
      },
      "text/plain": {
       "height": 360,
       "width": 540
      }
     },
     "output_type": "display_data"
    }
   ],
   "source": [
    "output_size(4.5,3)\n",
    "ggplot(data.test) + ggtitle(\"Test Data | Prediction Results\") + xlim(0,10) + ylim(0,10) +\n",
    "geom_point(aes(x1, y=outcome, color=\"actual\")) +\n",
    "geom_point(aes(x1, y=outcome.predicted, color=\"predicted\"), data=data.u.test)\n",
    "output_size(restore)"
   ]
  },
  {
   "cell_type": "code",
   "execution_count": 26,
   "metadata": {
    "hide_input": true
   },
   "outputs": [
    {
     "data": {
      "image/png": "[encoded data removed]",
      "text/plain": [
       "plot without title"
      ]
     },
     "metadata": {
      "image/png": {
       "height": 360,
       "width": 840
      },
      "text/plain": {
       "height": 360,
       "width": 840
      }
     },
     "output_type": "display_data"
    }
   ],
   "source": [
    "p1 = ggplot(data.u.test) + ggtitle(\"Test Data | Prediction Error Results\") + xlim(0,10) + ylim(-2.5,2.5) +\n",
    "     geom_point(aes(x1, y=error), color=PALETTE[4]) +\n",
    "     geom_hline(aes(yintercept=0))\n",
    "\n",
    "p2 = ggplot(data.u.test) + ggtitle(\"Test Data | Prediction Square Error\") + xlim(0,10) + ylim(0,5) +\n",
    "     geom_point(aes(x1, y=square_error), color=PALETTE[4]) +\n",
    "     geom_hline(aes(yintercept=0))\n",
    "\n",
    "grid.arrange(p1, p2, nrow=1)"
   ]
  },
  {
   "cell_type": "markdown",
   "metadata": {},
   "source": [
    "## Evaluation by Cross-Validation Performance\n",
    "\n",
    "Evaluation by cross-validation performance is yet another one of three popular versions of evaluation.  It works by organizing a reference known-outcome dataset into several approximately equally sized folds, where each fold comprises a subset of the dataset for training and the rest of the dataset for testing. It uses all of the reference known-outcome dataset, but only one subset at a time, to construct several similar regressors.  It uses all of the reference known-outcome dataset, but only one subset at a time, to predict and compare outcome values.\n",
    "\n",
    "Evaluation by cross-validation performance is considered to produce better estimates of prediction quality than either evaluation by in-sample or out-of-sample performance do.  It avoids the problem of using the same data for both training and testing.  It also avoids the problem of using only some of the reference known-outcome data to train and only some to test.\n",
    "\n",
    "In practice, evaluation by cross-validation performance is often done with 5 or 10 folds. "
   ]
  },
  {
   "cell_type": "markdown",
   "metadata": {},
   "source": [
    "<table style=\"border:1px solid; margin-top:20px\">\n",
    "    <caption style=\"text-align:center\">Cross-Validation Evaluation of a Regressor</caption>\n",
    "    <tr><td style=\"padding:20px; background-color:white\"><img src=\"regression_xval.jpg\" width=950></td></tr>\n",
    "</table><br clear=all>"
   ]
  },
  {
   "cell_type": "markdown",
   "metadata": {},
   "source": [
    "Here's an example of evaluation by cross-validation performance of an operative regressor, which was constructed by the \"Special Regressor Construction Method\" based on the 8-observation reference known-outcome dataset.  "
   ]
  },
  {
   "cell_type": "code",
   "execution_count": 27,
   "metadata": {
    "hide_input": true
   },
   "outputs": [
    {
     "data": {
      "text/html": [
       "<table style=\"white-space: nowrap;\">\n",
       "<caption><center><font color=\"black\"><b>data</b></font></center></caption>\n",
       " <thead>\n",
       "  <tr>\n",
       "   <th style=\"text-align:right;background-color: #FFFFFF !important;\"> x1 </th>\n",
       "   <th style=\"text-align:right;background-color: #FFFFFF !important;\"> outcome </th>\n",
       "  </tr>\n",
       " </thead>\n",
       "<tbody>\n",
       "  <tr>\n",
       "   <td style=\"text-align:right;\"> 1.0 </td>\n",
       "   <td style=\"text-align:right;\"> 1.0 </td>\n",
       "  </tr>\n",
       "  <tr>\n",
       "   <td style=\"text-align:right;\"> 1.5 </td>\n",
       "   <td style=\"text-align:right;\"> 0.5 </td>\n",
       "  </tr>\n",
       "  <tr>\n",
       "   <td style=\"text-align:right;\"> 3.0 </td>\n",
       "   <td style=\"text-align:right;\"> 4.0 </td>\n",
       "  </tr>\n",
       "  <tr>\n",
       "   <td style=\"text-align:right;\"> 4.0 </td>\n",
       "   <td style=\"text-align:right;\"> 5.5 </td>\n",
       "  </tr>\n",
       "  <tr>\n",
       "   <td style=\"text-align:right;\"> 6.0 </td>\n",
       "   <td style=\"text-align:right;\"> 3.5 </td>\n",
       "  </tr>\n",
       "  <tr>\n",
       "   <td style=\"text-align:right;\"> 6.5 </td>\n",
       "   <td style=\"text-align:right;\"> 4.0 </td>\n",
       "  </tr>\n",
       "  <tr>\n",
       "   <td style=\"text-align:right;\"> 9.0 </td>\n",
       "   <td style=\"text-align:right;\"> 6.5 </td>\n",
       "  </tr>\n",
       "  <tr>\n",
       "   <td style=\"text-align:right;\"> 9.5 </td>\n",
       "   <td style=\"text-align:right;\"> 9.0 </td>\n",
       "  </tr>\n",
       "</tbody>\n",
       "</table>"
      ]
     },
     "metadata": {},
     "output_type": "display_data"
    }
   ],
   "source": [
    "fmt(data)"
   ]
  },
  {
   "cell_type": "code",
   "execution_count": 28,
   "metadata": {
    "hide_input": true
   },
   "outputs": [
    {
     "data": {
      "text/html": [
       "<table style=\"white-space: nowrap;\">\n",
       "<caption><center><font color=\"black\"><b>model.operative</b></font></center></caption>\n",
       " <thead>\n",
       "  <tr>\n",
       "   <th style=\"text-align:right;background-color: #FFFFFF !important;\"> method </th>\n",
       "   <th style=\"text-align:right;background-color: #FFFFFF !important;\"> vars </th>\n",
       "   <th style=\"text-align:right;background-color: #FFFFFF !important;\"> parameter_1 </th>\n",
       "   <th style=\"text-align:right;background-color: #FFFFFF !important;\"> parameter_2 </th>\n",
       "  </tr>\n",
       " </thead>\n",
       "<tbody>\n",
       "  <tr>\n",
       "   <td style=\"text-align:right;\"> Special Regressor Construction Method </td>\n",
       "   <td style=\"text-align:right;\"> x1 </td>\n",
       "   <td style=\"text-align:right;\"> 0.4471422 </td>\n",
       "   <td style=\"text-align:right;\"> 0.7511818 </td>\n",
       "  </tr>\n",
       "</tbody>\n",
       "</table>"
      ]
     },
     "metadata": {},
     "output_type": "display_data"
    }
   ],
   "source": [
    "model.operative = my_regressor_construction_method(outcome~x1, data)\n",
    "fmt.model(model.operative)"
   ]
  },
  {
   "cell_type": "markdown",
   "metadata": {},
   "source": [
    "Organize the reference known-outcome dataset into several approximately equally sized folds.  Do this by first partitioning the dataset into approximately equally sized subsets, sampling at random.  Here we chose to organize as 3 folds, and so partition into 3 subsets: observations 1, 3, and 5; observations 2, 4, and 7; and observations 6 and 8."
   ]
  },
  {
   "cell_type": "code",
   "execution_count": 29,
   "metadata": {
    "hide_input": true
   },
   "outputs": [
    {
     "data": {
      "text/html": [
       "<table>\n",
       "<thead><tr><th scope=col>Fold1</th><th scope=col>Fold2</th><th scope=col>Fold3</th></tr></thead>\n",
       "<tbody>\n",
       "\t<tr><td>1, 3, 5</td><td>2, 4, 7</td><td>6, 8   </td></tr>\n",
       "</tbody>\n",
       "</table>\n"
      ],
      "text/latex": [
       "\\begin{tabular}{r|lll}\n",
       " Fold1 & Fold2 & Fold3\\\\\n",
       "\\hline\n",
       "\t 1, 3, 5 & 2, 4, 7 & 6, 8   \\\\\n",
       "\\end{tabular}\n"
      ],
      "text/markdown": [
       "\n",
       "| Fold1 | Fold2 | Fold3 |\n",
       "|---|---|---|\n",
       "| 1, 3, 5 | 2, 4, 7 | 6, 8    |\n",
       "\n"
      ],
      "text/plain": [
       "  Fold1   Fold2   Fold3\n",
       "1 1, 3, 5 2, 4, 7 6, 8 "
      ]
     },
     "metadata": {},
     "output_type": "display_data"
    }
   ],
   "source": [
    "set.seed(12345)\n",
    "fold = createFolds(data$outcome, k=3)\n",
    "data.frame(t(fold))"
   ]
  },
  {
   "cell_type": "markdown",
   "metadata": {},
   "source": [
    "For each fold, assign one of the subsets to be its testing dataset.  Then for each fold, assign the part of the reference dataset not used for testing in that fold to be its training dataset.  Here the first fold comprises a 5-observation dataset for training and a 3-observation dataset for testing.  The dataset for training comprises observations 2, 4, 6, 7, and 8.  The dataset for testing comprises observations 1, 3, and 5.  Similarly for folds 2 and 3. \n",
    "\n",
    "Note that some observations used for training will be duplicated across folds, but no observations used for testing will be duplicated across folds.  Also note that each fold uses all of the reference dataset, some for training and the rest for testing."
   ]
  },
  {
   "cell_type": "markdown",
   "metadata": {},
   "source": [
    "**Fold #1:**"
   ]
  },
  {
   "cell_type": "code",
   "execution_count": 30,
   "metadata": {
    "hide_input": true
   },
   "outputs": [
    {
     "data": {
      "text/html": [
       "<table><tr><td style=\"background-color:white; vertical-align:top; padding-right:40px;\"><table style=\"white-space: nowrap;\">\n",
       "<caption><center><font color=\"black\"><b>data_1.train</b></font></center></caption>\n",
       " <thead>\n",
       "  <tr>\n",
       "   <th style=\"text-align:right;background-color: #FFFFFF !important;\"> x1 </th>\n",
       "   <th style=\"text-align:right;background-color: #FFFFFF !important;\"> outcome </th>\n",
       "  </tr>\n",
       " </thead>\n",
       "<tbody>\n",
       "  <tr>\n",
       "   <td style=\"text-align:right;\"> 1.5 </td>\n",
       "   <td style=\"text-align:right;\"> 0.5 </td>\n",
       "  </tr>\n",
       "  <tr>\n",
       "   <td style=\"text-align:right;\"> 4.0 </td>\n",
       "   <td style=\"text-align:right;\"> 5.5 </td>\n",
       "  </tr>\n",
       "  <tr>\n",
       "   <td style=\"text-align:right;\"> 6.5 </td>\n",
       "   <td style=\"text-align:right;\"> 4.0 </td>\n",
       "  </tr>\n",
       "  <tr>\n",
       "   <td style=\"text-align:right;\"> 9.0 </td>\n",
       "   <td style=\"text-align:right;\"> 6.5 </td>\n",
       "  </tr>\n",
       "  <tr>\n",
       "   <td style=\"text-align:right;\"> 9.5 </td>\n",
       "   <td style=\"text-align:right;\"> 9.0 </td>\n",
       "  </tr>\n",
       "</tbody>\n",
       "</table></td><td style=\"background-color:white; vertical-align:top;\"><table style=\"white-space: nowrap;\">\n",
       "<caption><center><font color=\"black\"><b>data_1.test</b></font></center></caption>\n",
       " <thead>\n",
       "  <tr>\n",
       "   <th style=\"text-align:right;background-color: #FFFFFF !important;\"> x1 </th>\n",
       "   <th style=\"text-align:right;background-color: #FFFFFF !important;\"> outcome </th>\n",
       "  </tr>\n",
       " </thead>\n",
       "<tbody>\n",
       "  <tr>\n",
       "   <td style=\"text-align:right;\"> 1 </td>\n",
       "   <td style=\"text-align:right;\"> 1.0 </td>\n",
       "  </tr>\n",
       "  <tr>\n",
       "   <td style=\"text-align:right;\"> 3 </td>\n",
       "   <td style=\"text-align:right;\"> 4.0 </td>\n",
       "  </tr>\n",
       "  <tr>\n",
       "   <td style=\"text-align:right;\"> 6 </td>\n",
       "   <td style=\"text-align:right;\"> 3.5 </td>\n",
       "  </tr>\n",
       "</tbody>\n",
       "</table></td></tr></table>"
      ]
     },
     "metadata": {},
     "output_type": "display_data"
    }
   ],
   "source": [
    "data_1.train = data[setdiff(1:nrow(data), fold$Fold1),]\n",
    "data_1.test  = data[fold$Fold1,]\n",
    "\n",
    "layout(fmt(data_1.train), fmt(data_1.test))"
   ]
  },
  {
   "cell_type": "markdown",
   "metadata": {},
   "source": [
    "**Fold #2:**"
   ]
  },
  {
   "cell_type": "code",
   "execution_count": 31,
   "metadata": {
    "hide_input": true
   },
   "outputs": [
    {
     "data": {
      "text/html": [
       "<table><tr><td style=\"background-color:white; vertical-align:top; padding-right:40px;\"><table style=\"white-space: nowrap;\">\n",
       "<caption><center><font color=\"black\"><b>data_2.train</b></font></center></caption>\n",
       " <thead>\n",
       "  <tr>\n",
       "   <th style=\"text-align:right;background-color: #FFFFFF !important;\"> x1 </th>\n",
       "   <th style=\"text-align:right;background-color: #FFFFFF !important;\"> outcome </th>\n",
       "  </tr>\n",
       " </thead>\n",
       "<tbody>\n",
       "  <tr>\n",
       "   <td style=\"text-align:right;\"> 1.0 </td>\n",
       "   <td style=\"text-align:right;\"> 1.0 </td>\n",
       "  </tr>\n",
       "  <tr>\n",
       "   <td style=\"text-align:right;\"> 3.0 </td>\n",
       "   <td style=\"text-align:right;\"> 4.0 </td>\n",
       "  </tr>\n",
       "  <tr>\n",
       "   <td style=\"text-align:right;\"> 6.0 </td>\n",
       "   <td style=\"text-align:right;\"> 3.5 </td>\n",
       "  </tr>\n",
       "  <tr>\n",
       "   <td style=\"text-align:right;\"> 6.5 </td>\n",
       "   <td style=\"text-align:right;\"> 4.0 </td>\n",
       "  </tr>\n",
       "  <tr>\n",
       "   <td style=\"text-align:right;\"> 9.5 </td>\n",
       "   <td style=\"text-align:right;\"> 9.0 </td>\n",
       "  </tr>\n",
       "</tbody>\n",
       "</table></td><td style=\"background-color:white; vertical-align:top;\"><table style=\"white-space: nowrap;\">\n",
       "<caption><center><font color=\"black\"><b>data_2.test</b></font></center></caption>\n",
       " <thead>\n",
       "  <tr>\n",
       "   <th style=\"text-align:right;background-color: #FFFFFF !important;\"> x1 </th>\n",
       "   <th style=\"text-align:right;background-color: #FFFFFF !important;\"> outcome </th>\n",
       "  </tr>\n",
       " </thead>\n",
       "<tbody>\n",
       "  <tr>\n",
       "   <td style=\"text-align:right;\"> 1.5 </td>\n",
       "   <td style=\"text-align:right;\"> 0.5 </td>\n",
       "  </tr>\n",
       "  <tr>\n",
       "   <td style=\"text-align:right;\"> 4.0 </td>\n",
       "   <td style=\"text-align:right;\"> 5.5 </td>\n",
       "  </tr>\n",
       "  <tr>\n",
       "   <td style=\"text-align:right;\"> 9.0 </td>\n",
       "   <td style=\"text-align:right;\"> 6.5 </td>\n",
       "  </tr>\n",
       "</tbody>\n",
       "</table></td></tr></table>"
      ]
     },
     "metadata": {},
     "output_type": "display_data"
    }
   ],
   "source": [
    "data_2.train = data[setdiff(1:nrow(data), fold$Fold2),]\n",
    "data_2.test  = data[fold$Fold2,]\n",
    "\n",
    "layout(fmt(data_2.train), fmt(data_2.test))"
   ]
  },
  {
   "cell_type": "markdown",
   "metadata": {},
   "source": [
    "**Fold #3:**"
   ]
  },
  {
   "cell_type": "code",
   "execution_count": 32,
   "metadata": {
    "hide_input": true
   },
   "outputs": [
    {
     "data": {
      "text/html": [
       "<table><tr><td style=\"background-color:white; vertical-align:top; padding-right:40px;\"><table style=\"white-space: nowrap;\">\n",
       "<caption><center><font color=\"black\"><b>data_3.train</b></font></center></caption>\n",
       " <thead>\n",
       "  <tr>\n",
       "   <th style=\"text-align:right;background-color: #FFFFFF !important;\"> x1 </th>\n",
       "   <th style=\"text-align:right;background-color: #FFFFFF !important;\"> outcome </th>\n",
       "  </tr>\n",
       " </thead>\n",
       "<tbody>\n",
       "  <tr>\n",
       "   <td style=\"text-align:right;\"> 1.0 </td>\n",
       "   <td style=\"text-align:right;\"> 1.0 </td>\n",
       "  </tr>\n",
       "  <tr>\n",
       "   <td style=\"text-align:right;\"> 1.5 </td>\n",
       "   <td style=\"text-align:right;\"> 0.5 </td>\n",
       "  </tr>\n",
       "  <tr>\n",
       "   <td style=\"text-align:right;\"> 3.0 </td>\n",
       "   <td style=\"text-align:right;\"> 4.0 </td>\n",
       "  </tr>\n",
       "  <tr>\n",
       "   <td style=\"text-align:right;\"> 4.0 </td>\n",
       "   <td style=\"text-align:right;\"> 5.5 </td>\n",
       "  </tr>\n",
       "  <tr>\n",
       "   <td style=\"text-align:right;\"> 6.0 </td>\n",
       "   <td style=\"text-align:right;\"> 3.5 </td>\n",
       "  </tr>\n",
       "  <tr>\n",
       "   <td style=\"text-align:right;\"> 9.0 </td>\n",
       "   <td style=\"text-align:right;\"> 6.5 </td>\n",
       "  </tr>\n",
       "</tbody>\n",
       "</table></td><td style=\"background-color:white; vertical-align:top;\"><table style=\"white-space: nowrap;\">\n",
       "<caption><center><font color=\"black\"><b>data_3.test</b></font></center></caption>\n",
       " <thead>\n",
       "  <tr>\n",
       "   <th style=\"text-align:right;background-color: #FFFFFF !important;\"> x1 </th>\n",
       "   <th style=\"text-align:right;background-color: #FFFFFF !important;\"> outcome </th>\n",
       "  </tr>\n",
       " </thead>\n",
       "<tbody>\n",
       "  <tr>\n",
       "   <td style=\"text-align:right;\"> 6.5 </td>\n",
       "   <td style=\"text-align:right;\"> 4 </td>\n",
       "  </tr>\n",
       "  <tr>\n",
       "   <td style=\"text-align:right;\"> 9.5 </td>\n",
       "   <td style=\"text-align:right;\"> 9 </td>\n",
       "  </tr>\n",
       "</tbody>\n",
       "</table></td></tr></table>"
      ]
     },
     "metadata": {},
     "output_type": "display_data"
    }
   ],
   "source": [
    "data_3.train = data[setdiff(1:nrow(data), fold$Fold3),]\n",
    "data_3.test  = data[fold$Fold3,]\n",
    "\n",
    "layout(fmt(data_3.train), fmt(data_3.test))"
   ]
  },
  {
   "cell_type": "markdown",
   "metadata": {
    "hide_input": true
   },
   "source": [
    "For each fold, input its dataset for training to the \"Special Regressor Construction Method\" to construct a similar regressor, and input its dataset for testing to that regressor to predict outcome values, construct an error table, and compute a performance metric.  Note that we construct 3 different similar regressors and compute 3 different performance metrics.  Here the first fold performance metric is RMSE 1.20, the second fold performance metric is RMSE 1.41, and the thrid fold performance metric is RMSE 1.58."
   ]
  },
  {
   "cell_type": "markdown",
   "metadata": {},
   "source": [
    "**Fold #1:**"
   ]
  },
  {
   "cell_type": "code",
   "execution_count": 33,
   "metadata": {
    "hide_input": true
   },
   "outputs": [
    {
     "data": {
      "text/html": [
       "<table style=\"white-space: nowrap;\">\n",
       "<caption><center><font color=\"black\"><b>model_1</b></font></center></caption>\n",
       " <thead>\n",
       "  <tr>\n",
       "   <th style=\"text-align:right;background-color: #FFFFFF !important;\"> method </th>\n",
       "   <th style=\"text-align:right;background-color: #FFFFFF !important;\"> vars </th>\n",
       "   <th style=\"text-align:right;background-color: #FFFFFF !important;\"> parameter_1 </th>\n",
       "   <th style=\"text-align:right;background-color: #FFFFFF !important;\"> parameter_2 </th>\n",
       "  </tr>\n",
       " </thead>\n",
       "<tbody>\n",
       "  <tr>\n",
       "   <td style=\"text-align:right;\"> Special Regressor Construction Method </td>\n",
       "   <td style=\"text-align:right;\"> x1 </td>\n",
       "   <td style=\"text-align:right;\"> 0.1345733 </td>\n",
       "   <td style=\"text-align:right;\"> 0.8140044 </td>\n",
       "  </tr>\n",
       "</tbody>\n",
       "</table>"
      ]
     },
     "metadata": {},
     "output_type": "display_data"
    }
   ],
   "source": [
    "model_1 = my_regressor_construction_method(outcome ~ x1, data_1.train, hyperparameter=0)\n",
    "fmt.model(model_1)"
   ]
  },
  {
   "cell_type": "code",
   "execution_count": 34,
   "metadata": {
    "hide_input": true,
    "scrolled": true
   },
   "outputs": [
    {
     "data": {
      "text/html": [
       "<table><tr><td style=\"background-color:white; vertical-align:top; padding-right:40px;\"><table style=\"white-space: nowrap;\">\n",
       "<caption><center><font color=\"black\"><b>data_1.test</b></font></center></caption>\n",
       " <thead>\n",
       "  <tr>\n",
       "   <th style=\"text-align:right;background-color: #FFFFFF !important;\"> x1 </th>\n",
       "   <th style=\"text-align:right;background-color: #FFFFFF !important;\"> outcome </th>\n",
       "  </tr>\n",
       " </thead>\n",
       "<tbody>\n",
       "  <tr>\n",
       "   <td style=\"text-align:right;\"> 1 </td>\n",
       "   <td style=\"text-align:right;\"> 1.0 </td>\n",
       "  </tr>\n",
       "  <tr>\n",
       "   <td style=\"text-align:right;\"> 3 </td>\n",
       "   <td style=\"text-align:right;\"> 4.0 </td>\n",
       "  </tr>\n",
       "  <tr>\n",
       "   <td style=\"text-align:right;\"> 6 </td>\n",
       "   <td style=\"text-align:right;\"> 3.5 </td>\n",
       "  </tr>\n",
       "</tbody>\n",
       "</table></td><td style=\"background-color:white; vertical-align:top; padding-right:40px;\"><table style=\"white-space: nowrap;\">\n",
       "<caption><center><font color=\"black\"><b>data_1.test (known outcome is hidden)</b></font></center></caption>\n",
       " <thead>\n",
       "  <tr>\n",
       "   <th style=\"text-align:right;background-color: #FFFFFF !important;\"> x1 </th>\n",
       "   <th style=\"text-align:right;background-color: #FFFFFF !important;\"> outcome.predicted </th>\n",
       "  </tr>\n",
       " </thead>\n",
       "<tbody>\n",
       "  <tr>\n",
       "   <td style=\"text-align:right;\"> 1 </td>\n",
       "   <td style=\"text-align:right;\"> 0.9485777 </td>\n",
       "  </tr>\n",
       "  <tr>\n",
       "   <td style=\"text-align:right;\"> 3 </td>\n",
       "   <td style=\"text-align:right;\"> 2.5765864 </td>\n",
       "  </tr>\n",
       "  <tr>\n",
       "   <td style=\"text-align:right;\"> 6 </td>\n",
       "   <td style=\"text-align:right;\"> 5.0185996 </td>\n",
       "  </tr>\n",
       "</tbody>\n",
       "</table></td><td style=\"background-color:white; vertical-align:top; padding-right:40px;\"><table style=\"white-space: nowrap;\">\n",
       "<caption><center><font color=\"black\"><b>error_table_1</b></font></center></caption>\n",
       " <thead>\n",
       "  <tr>\n",
       "   <th style=\"text-align:right;background-color: #FFFFFF !important;\"> outcome </th>\n",
       "   <th style=\"text-align:right;background-color: #FFFFFF !important;\"> outcome.predicted </th>\n",
       "   <th style=\"text-align:right;background-color: #FFFFFF !important;\"> error </th>\n",
       "  </tr>\n",
       " </thead>\n",
       "<tbody>\n",
       "  <tr>\n",
       "   <td style=\"text-align:right;\"> 1.0 </td>\n",
       "   <td style=\"text-align:right;\"> 0.9485777 </td>\n",
       "   <td style=\"text-align:right;\"> 0.0514223 </td>\n",
       "  </tr>\n",
       "  <tr>\n",
       "   <td style=\"text-align:right;\"> 4.0 </td>\n",
       "   <td style=\"text-align:right;\"> 2.5765864 </td>\n",
       "   <td style=\"text-align:right;\"> 1.4234136 </td>\n",
       "  </tr>\n",
       "  <tr>\n",
       "   <td style=\"text-align:right;\"> 3.5 </td>\n",
       "   <td style=\"text-align:right;\"> 5.0185996 </td>\n",
       "   <td style=\"text-align:right;\"> -1.5185996 </td>\n",
       "  </tr>\n",
       "</tbody>\n",
       "</table></td><td style=\"background-color:white; vertical-align:top;\"><table style=\"white-space: nowrap;\">\n",
       "<caption><center><font color=\"black\"><b> </b></font></center></caption>\n",
       " <thead>\n",
       "  <tr>\n",
       "   <th style=\"text-align:right;background-color: #FFFFFF !important;\"> RMSE_1 </th>\n",
       "  </tr>\n",
       " </thead>\n",
       "<tbody>\n",
       "  <tr>\n",
       "   <td style=\"text-align:right;\"> 1.202067 </td>\n",
       "  </tr>\n",
       "</tbody>\n",
       "</table></td></tr></table>"
      ]
     },
     "metadata": {},
     "output_type": "display_data"
    }
   ],
   "source": [
    "data_1.u.test = data_1.test; data_1.u.test$outcome = NULL\n",
    "\n",
    "data_1.u.test$outcome.predicted = predict(model_1, data_1.u.test)\n",
    "\n",
    "error_table_1 = data.frame(outcome=data_1.test$outcome,\n",
    "                           outcome.predicted=data_1.u.test$outcome.predicted,\n",
    "                           error=data_1.test$outcome - data_1.u.test$outcome.predicted)\n",
    "\n",
    "RMSE_1 = sqrt(mean(error_table_1$error^2))\n",
    "\n",
    "layout(fmt(data_1.test), fmt(data_1.u.test, \"data_1.test (known outcome is hidden)\"), fmt(error_table_1), fmt(RMSE_1, force=TRUE))"
   ]
  },
  {
   "cell_type": "markdown",
   "metadata": {},
   "source": [
    "**Fold #2:**"
   ]
  },
  {
   "cell_type": "code",
   "execution_count": 35,
   "metadata": {
    "hide_input": true
   },
   "outputs": [
    {
     "data": {
      "text/html": [
       "<table style=\"white-space: nowrap;\">\n",
       "<caption><center><font color=\"black\"><b>model_2</b></font></center></caption>\n",
       " <thead>\n",
       "  <tr>\n",
       "   <th style=\"text-align:right;background-color: #FFFFFF !important;\"> method </th>\n",
       "   <th style=\"text-align:right;background-color: #FFFFFF !important;\"> vars </th>\n",
       "   <th style=\"text-align:right;background-color: #FFFFFF !important;\"> parameter_1 </th>\n",
       "   <th style=\"text-align:right;background-color: #FFFFFF !important;\"> parameter_2 </th>\n",
       "  </tr>\n",
       " </thead>\n",
       "<tbody>\n",
       "  <tr>\n",
       "   <td style=\"text-align:right;\"> Special Regressor Construction Method </td>\n",
       "   <td style=\"text-align:right;\"> x1 </td>\n",
       "   <td style=\"text-align:right;\"> 0.2528868 </td>\n",
       "   <td style=\"text-align:right;\"> 0.778291 </td>\n",
       "  </tr>\n",
       "</tbody>\n",
       "</table>"
      ]
     },
     "metadata": {},
     "output_type": "display_data"
    }
   ],
   "source": [
    "model_2 = my_regressor_construction_method(outcome ~ x1, data_2.train, hyperparameter=0)\n",
    "fmt.model(model_2)"
   ]
  },
  {
   "cell_type": "code",
   "execution_count": 36,
   "metadata": {
    "hide_input": true
   },
   "outputs": [
    {
     "data": {
      "text/html": [
       "<table><tr><td style=\"background-color:white; vertical-align:top; padding-right:40px;\"><table style=\"white-space: nowrap;\">\n",
       "<caption><center><font color=\"black\"><b>data_2.test</b></font></center></caption>\n",
       " <thead>\n",
       "  <tr>\n",
       "   <th style=\"text-align:right;background-color: #FFFFFF !important;\"> x1 </th>\n",
       "   <th style=\"text-align:right;background-color: #FFFFFF !important;\"> outcome </th>\n",
       "  </tr>\n",
       " </thead>\n",
       "<tbody>\n",
       "  <tr>\n",
       "   <td style=\"text-align:right;\"> 1.5 </td>\n",
       "   <td style=\"text-align:right;\"> 0.5 </td>\n",
       "  </tr>\n",
       "  <tr>\n",
       "   <td style=\"text-align:right;\"> 4.0 </td>\n",
       "   <td style=\"text-align:right;\"> 5.5 </td>\n",
       "  </tr>\n",
       "  <tr>\n",
       "   <td style=\"text-align:right;\"> 9.0 </td>\n",
       "   <td style=\"text-align:right;\"> 6.5 </td>\n",
       "  </tr>\n",
       "</tbody>\n",
       "</table></td><td style=\"background-color:white; vertical-align:top; padding-right:40px;\"><table style=\"white-space: nowrap;\">\n",
       "<caption><center><font color=\"black\"><b>data_2.test (known outcome is hidden)</b></font></center></caption>\n",
       " <thead>\n",
       "  <tr>\n",
       "   <th style=\"text-align:right;background-color: #FFFFFF !important;\"> x1 </th>\n",
       "   <th style=\"text-align:right;background-color: #FFFFFF !important;\"> outcome.predicted </th>\n",
       "  </tr>\n",
       " </thead>\n",
       "<tbody>\n",
       "  <tr>\n",
       "   <td style=\"text-align:right;\"> 1.5 </td>\n",
       "   <td style=\"text-align:right;\"> 1.420323 </td>\n",
       "  </tr>\n",
       "  <tr>\n",
       "   <td style=\"text-align:right;\"> 4.0 </td>\n",
       "   <td style=\"text-align:right;\"> 3.366051 </td>\n",
       "  </tr>\n",
       "  <tr>\n",
       "   <td style=\"text-align:right;\"> 9.0 </td>\n",
       "   <td style=\"text-align:right;\"> 7.257506 </td>\n",
       "  </tr>\n",
       "</tbody>\n",
       "</table></td><td style=\"background-color:white; vertical-align:top; padding-right:40px;\"><table style=\"white-space: nowrap;\">\n",
       "<caption><center><font color=\"black\"><b>error_table_2</b></font></center></caption>\n",
       " <thead>\n",
       "  <tr>\n",
       "   <th style=\"text-align:right;background-color: #FFFFFF !important;\"> outcome </th>\n",
       "   <th style=\"text-align:right;background-color: #FFFFFF !important;\"> outcome.predicted </th>\n",
       "   <th style=\"text-align:right;background-color: #FFFFFF !important;\"> error </th>\n",
       "  </tr>\n",
       " </thead>\n",
       "<tbody>\n",
       "  <tr>\n",
       "   <td style=\"text-align:right;\"> 0.5 </td>\n",
       "   <td style=\"text-align:right;\"> 1.420323 </td>\n",
       "   <td style=\"text-align:right;\"> -0.9203233 </td>\n",
       "  </tr>\n",
       "  <tr>\n",
       "   <td style=\"text-align:right;\"> 5.5 </td>\n",
       "   <td style=\"text-align:right;\"> 3.366051 </td>\n",
       "   <td style=\"text-align:right;\"> 2.1339492 </td>\n",
       "  </tr>\n",
       "  <tr>\n",
       "   <td style=\"text-align:right;\"> 6.5 </td>\n",
       "   <td style=\"text-align:right;\"> 7.257506 </td>\n",
       "   <td style=\"text-align:right;\"> -0.7575058 </td>\n",
       "  </tr>\n",
       "</tbody>\n",
       "</table></td><td style=\"background-color:white; vertical-align:top;\"><table style=\"white-space: nowrap;\">\n",
       "<caption><center><font color=\"black\"><b> </b></font></center></caption>\n",
       " <thead>\n",
       "  <tr>\n",
       "   <th style=\"text-align:right;background-color: #FFFFFF !important;\"> RMSE_2 </th>\n",
       "  </tr>\n",
       " </thead>\n",
       "<tbody>\n",
       "  <tr>\n",
       "   <td style=\"text-align:right;\"> 1.411211 </td>\n",
       "  </tr>\n",
       "</tbody>\n",
       "</table></td></tr></table>"
      ]
     },
     "metadata": {},
     "output_type": "display_data"
    }
   ],
   "source": [
    "data_2.u.test = data_2.test; data_2.u.test$outcome = NULL\n",
    "\n",
    "data_2.u.test$outcome.predicted = predict(model_2, data_2.u.test)\n",
    "\n",
    "error_table_2 = data.frame(outcome=data_2.test$outcome,\n",
    "                           outcome.predicted=data_2.u.test$outcome.predicted,\n",
    "                           error=data_2.test$outcome - data_2.u.test$outcome.predicted)\n",
    "\n",
    "RMSE_2 = sqrt(mean(error_table_2$error^2))\n",
    "\n",
    "layout(fmt(data_2.test), fmt(data_2.u.test, \"data_2.test (known outcome is hidden)\"), fmt(error_table_2), fmt(RMSE_2, force=TRUE))"
   ]
  },
  {
   "cell_type": "markdown",
   "metadata": {},
   "source": [
    "**Fold #3:**"
   ]
  },
  {
   "cell_type": "code",
   "execution_count": 37,
   "metadata": {
    "hide_input": true
   },
   "outputs": [
    {
     "data": {
      "text/html": [
       "<table style=\"white-space: nowrap;\">\n",
       "<caption><center><font color=\"black\"><b>model_3</b></font></center></caption>\n",
       " <thead>\n",
       "  <tr>\n",
       "   <th style=\"text-align:right;background-color: #FFFFFF !important;\"> method </th>\n",
       "   <th style=\"text-align:right;background-color: #FFFFFF !important;\"> vars </th>\n",
       "   <th style=\"text-align:right;background-color: #FFFFFF !important;\"> parameter_1 </th>\n",
       "   <th style=\"text-align:right;background-color: #FFFFFF !important;\"> parameter_2 </th>\n",
       "  </tr>\n",
       " </thead>\n",
       "<tbody>\n",
       "  <tr>\n",
       "   <td style=\"text-align:right;\"> Special Regressor Construction Method </td>\n",
       "   <td style=\"text-align:right;\"> x1 </td>\n",
       "   <td style=\"text-align:right;\"> 0.8354839 </td>\n",
       "   <td style=\"text-align:right;\"> 0.6525346 </td>\n",
       "  </tr>\n",
       "</tbody>\n",
       "</table>"
      ]
     },
     "metadata": {},
     "output_type": "display_data"
    }
   ],
   "source": [
    "model_3 = my_regressor_construction_method(outcome ~ x1, data_3.train, hyperparameter=0)\n",
    "fmt.model(model_3)"
   ]
  },
  {
   "cell_type": "code",
   "execution_count": 38,
   "metadata": {
    "hide_input": true
   },
   "outputs": [
    {
     "data": {
      "text/html": [
       "<table><tr><td style=\"background-color:white; vertical-align:top; padding-right:40px;\"><table style=\"white-space: nowrap;\">\n",
       "<caption><center><font color=\"black\"><b>data_3.test</b></font></center></caption>\n",
       " <thead>\n",
       "  <tr>\n",
       "   <th style=\"text-align:right;background-color: #FFFFFF !important;\"> x1 </th>\n",
       "   <th style=\"text-align:right;background-color: #FFFFFF !important;\"> outcome </th>\n",
       "  </tr>\n",
       " </thead>\n",
       "<tbody>\n",
       "  <tr>\n",
       "   <td style=\"text-align:right;\"> 6.5 </td>\n",
       "   <td style=\"text-align:right;\"> 4 </td>\n",
       "  </tr>\n",
       "  <tr>\n",
       "   <td style=\"text-align:right;\"> 9.5 </td>\n",
       "   <td style=\"text-align:right;\"> 9 </td>\n",
       "  </tr>\n",
       "</tbody>\n",
       "</table></td><td style=\"background-color:white; vertical-align:top; padding-right:40px;\"><table style=\"white-space: nowrap;\">\n",
       "<caption><center><font color=\"black\"><b>data_3.test (known outcome is hidden)</b></font></center></caption>\n",
       " <thead>\n",
       "  <tr>\n",
       "   <th style=\"text-align:right;background-color: #FFFFFF !important;\"> x1 </th>\n",
       "   <th style=\"text-align:right;background-color: #FFFFFF !important;\"> outcome.predicted </th>\n",
       "  </tr>\n",
       " </thead>\n",
       "<tbody>\n",
       "  <tr>\n",
       "   <td style=\"text-align:right;\"> 6.5 </td>\n",
       "   <td style=\"text-align:right;\"> 5.076958 </td>\n",
       "  </tr>\n",
       "  <tr>\n",
       "   <td style=\"text-align:right;\"> 9.5 </td>\n",
       "   <td style=\"text-align:right;\"> 7.034562 </td>\n",
       "  </tr>\n",
       "</tbody>\n",
       "</table></td><td style=\"background-color:white; vertical-align:top; padding-right:40px;\"><table style=\"white-space: nowrap;\">\n",
       "<caption><center><font color=\"black\"><b>error_table_3</b></font></center></caption>\n",
       " <thead>\n",
       "  <tr>\n",
       "   <th style=\"text-align:right;background-color: #FFFFFF !important;\"> outcome </th>\n",
       "   <th style=\"text-align:right;background-color: #FFFFFF !important;\"> outcome.predicted </th>\n",
       "   <th style=\"text-align:right;background-color: #FFFFFF !important;\"> error </th>\n",
       "  </tr>\n",
       " </thead>\n",
       "<tbody>\n",
       "  <tr>\n",
       "   <td style=\"text-align:right;\"> 4 </td>\n",
       "   <td style=\"text-align:right;\"> 5.076958 </td>\n",
       "   <td style=\"text-align:right;\"> -1.076958 </td>\n",
       "  </tr>\n",
       "  <tr>\n",
       "   <td style=\"text-align:right;\"> 9 </td>\n",
       "   <td style=\"text-align:right;\"> 7.034562 </td>\n",
       "   <td style=\"text-align:right;\"> 1.965438 </td>\n",
       "  </tr>\n",
       "</tbody>\n",
       "</table></td><td style=\"background-color:white; vertical-align:top;\"><table style=\"white-space: nowrap;\">\n",
       "<caption><center><font color=\"black\"><b> </b></font></center></caption>\n",
       " <thead>\n",
       "  <tr>\n",
       "   <th style=\"text-align:right;background-color: #FFFFFF !important;\"> RMSE_3 </th>\n",
       "  </tr>\n",
       " </thead>\n",
       "<tbody>\n",
       "  <tr>\n",
       "   <td style=\"text-align:right;\"> 1.584737 </td>\n",
       "  </tr>\n",
       "</tbody>\n",
       "</table></td></tr></table>"
      ]
     },
     "metadata": {},
     "output_type": "display_data"
    }
   ],
   "source": [
    "data_3.u.test = data_3.test; data_3.u.test$outcome = NULL\n",
    "\n",
    "data_3.u.test$outcome.predicted = predict(model_3, data_3.u.test)\n",
    "\n",
    "error_table_3 = data.frame(outcome=data_3.test$outcome,\n",
    "                           outcome.predicted=data_3.u.test$outcome.predicted,\n",
    "                           error=data_3.test$outcome - data_3.u.test$outcome.predicted)\n",
    "\n",
    "RMSE_3 = sqrt(mean(error_table_3$error^2))\n",
    "\n",
    "layout(fmt(data_3.test), fmt(data_3.u.test, \"data_3.test (known outcome is hidden)\"), fmt(error_table_3), fmt(RMSE_3, force=TRUE))"
   ]
  },
  {
   "cell_type": "markdown",
   "metadata": {},
   "source": [
    "Here is a comparison of the prediction results across the 3 folds. "
   ]
  },
  {
   "cell_type": "code",
   "execution_count": 39,
   "metadata": {
    "hide_input": true,
    "scrolled": false
   },
   "outputs": [
    {
     "data": {
      "image/png": "[encoded data removed]",
      "text/plain": [
       "plot without title"
      ]
     },
     "metadata": {
      "image/png": {
       "height": 420,
       "width": 936
      },
      "text/plain": {
       "height": 420,
       "width": 936
      }
     },
     "output_type": "display_data"
    }
   ],
   "source": [
    "output_size(7.8,3.5)\n",
    "grid.arrange(ggplot(data_1.test) + ggtitle(\"Fold 1 Test Data | Prediction Results\", sprintf(\"RMSE =%0.2f\", RMSE_1)) +\n",
    "             xlim(0,10) + ylim(0,10) + \n",
    "             geom_point(aes(x1, y=outcome, color=\"actual\")) +\n",
    "             geom_point(aes(x1, y=outcome.predicted, color=\"predicted\"), data=data_1.u.test) +\n",
    "             theme.legend_below,\n",
    "             \n",
    "             ggplot(data_2.test) + ggtitle(\"Fold 2 Test Data | Prediction Results\", sprintf(\"RMSE =%0.2f\", RMSE_2)) +\n",
    "             xlim(0,10) + ylim(0,10) + \n",
    "             geom_point(aes(x1, y=outcome, color=\"actual\")) +\n",
    "             geom_point(aes(x1, y=outcome.predicted, color=\"predicted\"), data=data_2.u.test) +\n",
    "             theme.legend_below,\n",
    "             \n",
    "             ggplot(data_3.test) + ggtitle(\"Fold 3 Test Data | Prediction Results\", sprintf(\"RMSE =%0.2f\", RMSE_3)) +\n",
    "             xlim(0,10) + ylim(0,10) + \n",
    "             geom_point(aes(x1, y=outcome, color=\"actual\")) +\n",
    "             geom_point(aes(x1, y=outcome.predicted, color=\"predicted\"), data=data_3.u.test) +\n",
    "             theme.legend_below,\n",
    "             \n",
    "             nrow=1)\n",
    "output_size(restore)"
   ]
  },
  {
   "cell_type": "markdown",
   "metadata": {},
   "source": [
    "Compute the average of the 3 performance metrics, in this example RMSE 1.40, which is an estimate of the operative regressor's prediction quality.  At this point, you can discard all 3 of the similar regressors."
   ]
  },
  {
   "cell_type": "code",
   "execution_count": 40,
   "metadata": {
    "hide_input": true
   },
   "outputs": [
    {
     "data": {
      "text/html": [
       "<table><tr><td style=\"background-color:white; vertical-align:top; padding-right:40px;\"><table style=\"white-space: nowrap;\">\n",
       " <thead>\n",
       "  <tr>\n",
       "   <th style=\"text-align:right;background-color: #FFFFFF !important;\"> fold </th>\n",
       "   <th style=\"text-align:right;background-color: #FFFFFF !important;\"> RMSE </th>\n",
       "  </tr>\n",
       " </thead>\n",
       "<tbody>\n",
       "  <tr>\n",
       "   <td style=\"text-align:right;\"> 1 </td>\n",
       "   <td style=\"text-align:right;\"> 1.202067 </td>\n",
       "  </tr>\n",
       "  <tr>\n",
       "   <td style=\"text-align:right;\"> 2 </td>\n",
       "   <td style=\"text-align:right;\"> 1.411211 </td>\n",
       "  </tr>\n",
       "  <tr>\n",
       "   <td style=\"text-align:right;\"> 3 </td>\n",
       "   <td style=\"text-align:right;\"> 1.584737 </td>\n",
       "  </tr>\n",
       "</tbody>\n",
       "</table></td><td style=\"background-color:white; vertical-align:top;\"><table style=\"white-space: nowrap;\">\n",
       " <thead>\n",
       "  <tr>\n",
       "   <th style=\"text-align:right;background-color: #FFFFFF !important;\"> RMSE.cv </th>\n",
       "  </tr>\n",
       " </thead>\n",
       "<tbody>\n",
       "  <tr>\n",
       "   <td style=\"text-align:right;\"> 1.399339 </td>\n",
       "  </tr>\n",
       "</tbody>\n",
       "</table></td></tr></table>"
      ]
     },
     "metadata": {},
     "output_type": "display_data"
    }
   ],
   "source": [
    "layout(data.frame(fold=1:3, RMSE=c(RMSE_1, RMSE_2, RMSE_3)), fmt(mean(c(RMSE_1, RMSE_2, RMSE_3)), \"RMSE.cv\"))"
   ]
  },
  {
   "cell_type": "markdown",
   "metadata": {},
   "source": [
    "## Business Value\n",
    "\n",
    "To really be useful, evaluation of the performance of a regressor should say something about its business value.  So, construct a decision model to transform performance metric values to business value.  The decision model should accept business parameter values and one or more performance metric values as inputs, do some calculations regarding the effects of various decisions in the context of the input values, and produce a measure of expected business value as output.\n",
    "\n",
    "Imagine planning some product advertising campaign.  So, you construct a regressor based on historical campaign effectiveness.  You calculate the MAPE as a measure of how well it predicts revenue.  Then, in combination with assumptions about maximum potential campaign effectiveness, total number of customers, product pricing, and other business parameters, calculate expected range revenue.  Compare that to expected revenue were revenue predicted some other way.  You now know the business value of the regressor."
   ]
  },
  {
   "cell_type": "markdown",
   "metadata": {},
   "source": [
    "## Sensitivity Analysis\n",
    "\n",
    "Before proceeding with a business decision influenced by your estimate of business value, you may want to test how sensitive your estimate is to the business parameters. If large changes to business parameter values would only minimally affect your estimate of business value, then you can have confidence in you business decision.  Conversely, if small changes to business parameter values would greatly affect your estimate of business value, then you face increased risk around your business decision.\n",
    "\n",
    "Imagine your estimate of revenue would differ by 90% if product pricing differed by only 1%.  In this situation, if you are making your business decision counting on a certain revenue and you do not have control over product pricing, then this is indeed a risky (and perhaps even irresponsible) business decision."
   ]
  },
  {
   "cell_type": "markdown",
   "metadata": {},
   "source": [
    "## Code\n",
    "\n",
    "Here are some R functions used in our discourse and some R code templates that you can modify and use in your own analyses. "
   ]
  },
  {
   "cell_type": "markdown",
   "metadata": {},
   "source": [
    "### Useful Functions"
   ]
  },
  {
   "cell_type": "code",
   "execution_count": 41,
   "metadata": {},
   "outputs": [],
   "source": [
    "# help(set.seed)        # from base library\n",
    "# help(sample)          # from base library\n",
    "# help(colnames)        # from base library\n",
    "# help(createFolds)     # from caret library\n",
    "# help(setdiff)         # from base library\n",
    "# help(predict)         # from stats library"
   ]
  },
  {
   "cell_type": "markdown",
   "metadata": {},
   "source": [
    "### Templates"
   ]
  },
  {
   "cell_type": "code",
   "execution_count": 42,
   "metadata": {},
   "outputs": [
    {
     "data": {
      "text/html": [
       "<table style=\"white-space: nowrap;\">\n",
       " <thead>\n",
       "  <tr>\n",
       "   <th style=\"text-align:right;background-color: #FFFFFF !important;\"> error </th>\n",
       "  </tr>\n",
       " </thead>\n",
       "<tbody>\n",
       "  <tr>\n",
       "   <td style=\"text-align:right;\"> -3.4083360 </td>\n",
       "  </tr>\n",
       "  <tr>\n",
       "   <td style=\"text-align:right;\"> 6.4258928 </td>\n",
       "  </tr>\n",
       "  <tr>\n",
       "   <td style=\"text-align:right;\"> 5.4488922 </td>\n",
       "  </tr>\n",
       "  <tr>\n",
       "   <td style=\"text-align:right;\"> 0.1887356 </td>\n",
       "  </tr>\n",
       "  <tr>\n",
       "   <td style=\"text-align:right;\"> -4.9770357 </td>\n",
       "  </tr>\n",
       "  <tr>\n",
       "   <td style=\"text-align:right;\"> -6.8596510 </td>\n",
       "  </tr>\n",
       "  <tr>\n",
       "   <td style=\"text-align:right;\"> -4.2141929 </td>\n",
       "  </tr>\n",
       "  <tr>\n",
       "   <td style=\"text-align:right;\"> -2.4361108 </td>\n",
       "  </tr>\n",
       "  <tr>\n",
       "   <td style=\"text-align:right;\"> 9.8318059 </td>\n",
       "  </tr>\n",
       "</tbody>\n",
       "</table>"
      ]
     },
     "metadata": {},
     "output_type": "display_data"
    }
   ],
   "source": [
    "# Construct a model, make predictions, see error table \n",
    "\n",
    "data = data.frame(x1=c(1,2,3,4,5,6,7,8,9),\n",
    "                  x2=c(4,3,4,2,1,3,0,9,2),\n",
    "                  outcome=c(20,30,31,25,20,21,22,33,40))\n",
    "\n",
    "model = lm(outcome ~ x1+x2, data) # use your choice of regressor construction method\n",
    "\n",
    "outcome.predicted = predict(model, data) # predict function uses only predictor variables (e.g., x1 & x2)\n",
    "\n",
    "error = data$outcome - outcome.predicted\n",
    "\n",
    "fmt(error)"
   ]
  },
  {
   "cell_type": "code",
   "execution_count": 43,
   "metadata": {},
   "outputs": [
    {
     "data": {
      "text/html": [
       "<table style=\"white-space: nowrap;\">\n",
       " <thead>\n",
       "  <tr>\n",
       "   <th style=\"text-align:right;background-color: #FFFFFF !important;\"> RMSE </th>\n",
       "  </tr>\n",
       " </thead>\n",
       "<tbody>\n",
       "  <tr>\n",
       "   <td style=\"text-align:right;\"> 5.525889 </td>\n",
       "  </tr>\n",
       "</tbody>\n",
       "</table>"
      ]
     },
     "metadata": {},
     "output_type": "display_data"
    }
   ],
   "source": [
    "# Evaluate model performance by in-sample \n",
    "\n",
    "data = data.frame(x1=c(1,2,3,4,5,6,7,8,9),\n",
    "                  x2=c(4,3,4,2,1,3,0,9,2),\n",
    "                  outcome=c(20,30,31,25,20,21,22,33,40))\n",
    "\n",
    "model = lm(outcome ~ x1+x2, data) # use your choice of regressor construction method\n",
    "\n",
    "outcome.predicted = predict(model, data) # predict function uses only predictor variables (e.g., x1 & x2)\n",
    "\n",
    "error = data$outcome - outcome.predicted\n",
    "RMSE = sqrt(mean(error^2))\n",
    "\n",
    "fmt(RMSE)"
   ]
  },
  {
   "cell_type": "code",
   "execution_count": 44,
   "metadata": {},
   "outputs": [
    {
     "data": {
      "text/html": [
       "<table style=\"white-space: nowrap;\">\n",
       " <thead>\n",
       "  <tr>\n",
       "   <th style=\"text-align:right;background-color: #FFFFFF !important;\"> RMSE </th>\n",
       "  </tr>\n",
       " </thead>\n",
       "<tbody>\n",
       "  <tr>\n",
       "   <td style=\"text-align:right;\"> 11.98412 </td>\n",
       "  </tr>\n",
       "</tbody>\n",
       "</table>"
      ]
     },
     "metadata": {},
     "output_type": "display_data"
    }
   ],
   "source": [
    "# Evaluate model performance by out-of-sample \n",
    "\n",
    "data = data.frame(x1=c(1,2,3,4,5,6,7,8,9),\n",
    "                  x2=c(4,3,4,2,1,3,0,9,2),\n",
    "                  outcome=c(20,30,31,25,20,21,22,33,40))\n",
    "\n",
    "set.seed(0)\n",
    "holdout = sample(1:nrow(data), 0.25*nrow(data))\n",
    "holdin  = setdiff(1:nrow(data), holdout)\n",
    "data.test  = data[holdout,]\n",
    "data.train = data[holdin,]\n",
    "\n",
    "model = lm(outcome ~ x1+x2, data.train) # use your choice of regressor construction method\n",
    "\n",
    "outcome.predicted = predict(model, data.test) # predict function uses only predictor variables (e.g., x1 & x2)\n",
    "\n",
    "error = data.test$outcome - outcome.predicted\n",
    "RMSE = sqrt(mean(error^2))\n",
    "\n",
    "fmt(RMSE)"
   ]
  },
  {
   "cell_type": "code",
   "execution_count": 45,
   "metadata": {},
   "outputs": [
    {
     "data": {
      "text/html": [
       "<table>\n",
       "<thead><tr><th scope=col>fold</th><th scope=col>RMSE</th></tr></thead>\n",
       "<tbody>\n",
       "\t<tr><td>1        </td><td> 7.283861</td></tr>\n",
       "\t<tr><td>2        </td><td>10.934245</td></tr>\n",
       "\t<tr><td>3        </td><td> 5.377405</td></tr>\n",
       "</tbody>\n",
       "</table>\n"
      ],
      "text/latex": [
       "\\begin{tabular}{r|ll}\n",
       " fold & RMSE\\\\\n",
       "\\hline\n",
       "\t 1         &  7.283861\\\\\n",
       "\t 2         & 10.934245\\\\\n",
       "\t 3         &  5.377405\\\\\n",
       "\\end{tabular}\n"
      ],
      "text/markdown": [
       "\n",
       "| fold | RMSE |\n",
       "|---|---|\n",
       "| 1         |  7.283861 |\n",
       "| 2         | 10.934245 |\n",
       "| 3         |  5.377405 |\n",
       "\n"
      ],
      "text/plain": [
       "  fold RMSE     \n",
       "1 1     7.283861\n",
       "2 2    10.934245\n",
       "3 3     5.377405"
      ]
     },
     "metadata": {},
     "output_type": "display_data"
    },
    {
     "data": {
      "text/html": [
       "<table style=\"white-space: nowrap;\">\n",
       " <thead>\n",
       "  <tr>\n",
       "   <th style=\"text-align:right;background-color: #FFFFFF !important;\"> RMSE.cv </th>\n",
       "  </tr>\n",
       " </thead>\n",
       "<tbody>\n",
       "  <tr>\n",
       "   <td style=\"text-align:right;\"> 7.86517 </td>\n",
       "  </tr>\n",
       "</tbody>\n",
       "</table>"
      ]
     },
     "metadata": {},
     "output_type": "display_data"
    }
   ],
   "source": [
    "# Evaluate model performance by cross-validation \n",
    "\n",
    "data = data.frame(x1=c(1,2,3,4,5,6,7,8,9),\n",
    "                  x2=c(4,3,4,2,1,3,0,9,2),\n",
    "                  outcome=c(20,30,31,25,20,21,22,33,40))\n",
    "\n",
    "set.seed(0)\n",
    "fold = createFolds(data$outcome, k=3)\n",
    "\n",
    "RMSE = c()\n",
    "\n",
    "# Fold #1\n",
    "data.test  = data[fold[[1]],]\n",
    "data.train = data[setdiff(1:nrow(data), fold[[1]]),]\n",
    "model = lm(outcome ~ x1+x2, data.train) # use your choice of regressor construction method\n",
    "outcome.predicted = predict(model, data.test) # predict function uses only predictor variables (e.g., x1 & x2)\n",
    "error = data.test$outcome - outcome.predicted\n",
    "RMSE[1] = sqrt(mean(error^2))\n",
    "\n",
    "# Fold #2\n",
    "data.test  = data[fold[[2]],]\n",
    "data.train = data[setdiff(1:nrow(data), fold[[2]]),]\n",
    "model = lm(outcome ~ x1+x2, data.train) # use your choice of regressor construction method\n",
    "outcome.predicted = predict(model, data.test) # predict function uses only predictor variables (e.g., x1 & x2)\n",
    "error = data.test$outcome - outcome.predicted\n",
    "RMSE[2] = sqrt(mean(error^2))\n",
    "\n",
    "# Fold #3\n",
    "data.test  = data[fold[[3]],]\n",
    "data.train = data[setdiff(1:nrow(data), fold[[3]]),]\n",
    "model = lm(outcome ~ x1+x2, data.train) # use your choice of regressor construction method\n",
    "outcome.predicted = predict(model, data.test) # predict function uses only predictor variables (e.g., x1 & x2)\n",
    "error = data.test$outcome - outcome.predicted\n",
    "RMSE[3] = sqrt(mean(error^2))\n",
    "\n",
    "RMSE.cv = mean(RMSE)\n",
    "\n",
    "data.frame(fold=1:3, RMSE)\n",
    "fmt(RMSE.cv)"
   ]
  },
  {
   "cell_type": "code",
   "execution_count": 46,
   "metadata": {},
   "outputs": [
    {
     "data": {
      "text/html": [
       "<table>\n",
       "<thead><tr><th scope=col>fold</th><th scope=col>RMSE</th></tr></thead>\n",
       "<tbody>\n",
       "\t<tr><td>1        </td><td> 7.283861</td></tr>\n",
       "\t<tr><td>2        </td><td>10.934245</td></tr>\n",
       "\t<tr><td>3        </td><td> 5.377405</td></tr>\n",
       "</tbody>\n",
       "</table>\n"
      ],
      "text/latex": [
       "\\begin{tabular}{r|ll}\n",
       " fold & RMSE\\\\\n",
       "\\hline\n",
       "\t 1         &  7.283861\\\\\n",
       "\t 2         & 10.934245\\\\\n",
       "\t 3         &  5.377405\\\\\n",
       "\\end{tabular}\n"
      ],
      "text/markdown": [
       "\n",
       "| fold | RMSE |\n",
       "|---|---|\n",
       "| 1         |  7.283861 |\n",
       "| 2         | 10.934245 |\n",
       "| 3         |  5.377405 |\n",
       "\n"
      ],
      "text/plain": [
       "  fold RMSE     \n",
       "1 1     7.283861\n",
       "2 2    10.934245\n",
       "3 3     5.377405"
      ]
     },
     "metadata": {},
     "output_type": "display_data"
    },
    {
     "data": {
      "text/html": [
       "<table style=\"white-space: nowrap;\">\n",
       " <thead>\n",
       "  <tr>\n",
       "   <th style=\"text-align:right;background-color: #FFFFFF !important;\"> RMSE.cv </th>\n",
       "  </tr>\n",
       " </thead>\n",
       "<tbody>\n",
       "  <tr>\n",
       "   <td style=\"text-align:right;\"> 7.86517 </td>\n",
       "  </tr>\n",
       "</tbody>\n",
       "</table>"
      ]
     },
     "metadata": {},
     "output_type": "display_data"
    }
   ],
   "source": [
    "# Evaluate model performance by cross-validation\n",
    "\n",
    "data = data.frame(x1=c(1,2,3,4,5,6,7,8,9),\n",
    "                  x2=c(4,3,4,2,1,3,0,9,2),\n",
    "                  outcome=c(20,30,31,25,20,21,22,33,40))\n",
    "\n",
    "set.seed(0)\n",
    "fold = createFolds(data$outcome, k=3)\n",
    "\n",
    "RMSE = c()\n",
    "\n",
    "for (i in 1:3)\n",
    "  { data.train = data[setdiff(1:nrow(data), fold[[i]]),]\n",
    "    data.test = data[fold[[i]],]\n",
    "   \n",
    "    model = lm(outcome ~ x1+x2, data.train)\n",
    "    outcome.predicted = predict(model, data.test)\n",
    "    error = data.test$outcome- outcome.predicted\n",
    "    RMSE[i] = sqrt(mean(error^2)) }\n",
    "\n",
    "RMSE.cv = mean(RMSE)\n",
    "\n",
    "data.frame(fold=1:3, RMSE)\n",
    "fmt(RMSE.cv)"
   ]
  },
  {
   "cell_type": "markdown",
   "metadata": {},
   "source": [
    "## What You Should Now Know\n",
    "\n",
    "* Predictive data analytic methodology, conceptually.\n",
    "* Terminology regarding predictive data analytic methodology.\n",
    "* How to construct a predictive model using a provided predictive analytic method, conceptually and using R.\n",
    "* How to evaluate a predictive model by insample, conceptually and using R.\n",
    "* How to evaluate a predictive model by out-of-sample/holdout, conceptually and using R.\n",
    "* How to evaluate a predictive model by cross-validation, conceptually and using R."
   ]
  },
  {
   "cell_type": "markdown",
   "metadata": {},
   "source": [
    "## Further Reading\n",
    "\n",
    "* https://www.youtube.com/watch?v=fSytzGwwBVw\n",
    "* https://www.youtube.com/watch?v=TIgfjmp-4BA\n",
    "* http://ciml.info/dl/v0_99/ciml-v0_99-ch03.pdf\n",
    "* http://www-stat.wharton.upenn.edu/~stine/mich/DM_05.pdf\n",
    "* https://machinelearningmastery.com/much-training-data-required-machine-learning/"
   ]
  },
  {
   "cell_type": "markdown",
   "metadata": {},
   "source": [
    "<p style=\"text-align:left; font-size:10px;\">\n",
    "Copyright (c) Berkeley Data Analytics Group, LLC\n",
    "<span style=\"float:right;\">\n",
    "Document revised April 11, 2021\n",
    "</span>\n",
    "</p>"
   ]
  }
 ],
 "metadata": {
  "hide_code_all_hidden": false,
  "hide_input": false,
  "kernelspec": {
   "display_name": "R",
   "language": "R",
   "name": "ir"
  },
  "language_info": {
   "codemirror_mode": "r",
   "file_extension": ".r",
   "mimetype": "text/x-r-source",
   "name": "R",
   "pygments_lexer": "r",
   "version": "3.6.1"
  },
  "toc": {
   "base_numbering": 1,
   "nav_menu": {},
   "number_sections": true,
   "sideBar": true,
   "skip_h1_title": true,
   "title_cell": "Table of Contents",
   "title_sidebar": "Contents",
   "toc_cell": false,
   "toc_position": {},
   "toc_section_display": true,
   "toc_window_display": false
  }
 },
 "nbformat": 4,
 "nbformat_minor": 2
}
