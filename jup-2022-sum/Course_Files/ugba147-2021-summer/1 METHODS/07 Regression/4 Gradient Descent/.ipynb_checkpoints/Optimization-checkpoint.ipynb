{
 "cells": [
  {
   "cell_type": "markdown",
   "metadata": {
    "hideCode": false,
    "hidePrompt": false
   },
   "source": [
    "# Gradient Descent\n",
    "\n",
    "![](banner_optimization.jpg)"
   ]
  },
  {
   "cell_type": "code",
   "execution_count": 1,
   "metadata": {
    "hide_input": true
   },
   "outputs": [
    {
     "data": {
      "text/html": [
       "<p style=\"text-align:center; font-size:10px;\">\n",
       ".................................................... start of document ....................................................\n",
       "</p>"
      ]
     },
     "metadata": {},
     "output_type": "display_data"
    }
   ],
   "source": [
    "f = \"setup.R\"; for (i in 1:10) { if (file.exists(f)) break else f = paste0(\"../\", f) }; source(f)\n",
    "update_geom_defaults(\"point\", list(size=3, colour=\"grey40\"))\n",
    "update_geom_defaults(\"segment\", list(colour=\"grey40\"))\n",
    "update_geom_defaults(\"line\", list(color=\"black\", size=0.15))\n",
    "update_geom_defaults(\"abline\", list(color=\"grey40\", size=0.15))"
   ]
  },
  {
   "cell_type": "markdown",
   "metadata": {},
   "source": [
    "## Introduction"
   ]
  },
  {
   "cell_type": "markdown",
   "metadata": {},
   "source": [
    "## Synopsis"
   ]
  },
  {
   "cell_type": "markdown",
   "metadata": {},
   "source": [
    "Some model construction methods rely on having an appropriate optimization method to set parameters to satisfy a criterion for best fit.\n",
    "\n",
    "Here are some optimization methods ...\n",
    "* Batch Gradient Descent\n",
    "* Iterative Gradient Descent\n",
    "* Stochastic Gradient Descent\n",
    "* Newton's 2nd Order\n",
    "* other optimization methods"
   ]
  },
  {
   "cell_type": "markdown",
   "metadata": {},
   "source": [
    "**Terms**\n",
    "* Model parameters\n",
    "* Optimization"
   ]
  },
  {
   "cell_type": "markdown",
   "metadata": {},
   "source": [
    "## Exposition"
   ]
  },
  {
   "cell_type": "markdown",
   "metadata": {},
   "source": [
    "### Set Parameters | Cost Function: Sum of Squared Errors"
   ]
  },
  {
   "cell_type": "markdown",
   "metadata": {},
   "source": [
    "#### Data\n",
    "\n",
    "Consider this dataset."
   ]
  },
  {
   "cell_type": "code",
   "execution_count": 2,
   "metadata": {
    "hide_input": true
   },
   "outputs": [
    {
     "data": {
      "text/html": [
       "<table>\n",
       "<caption><center><font color=\"black\"><b>data</b></font></center></caption>\n",
       " <thead>\n",
       "  <tr>\n",
       "   <th style=\"text-align:right;background-color: #FFFFFF !important;\"> x1 </th>\n",
       "   <th style=\"text-align:right;background-color: #FFFFFF !important;\"> outcome </th>\n",
       "  </tr>\n",
       " </thead>\n",
       "<tbody>\n",
       "  <tr>\n",
       "   <td style=\"text-align:right;\"> 1.0 </td>\n",
       "   <td style=\"text-align:right;\"> 1.0 </td>\n",
       "  </tr>\n",
       "  <tr>\n",
       "   <td style=\"text-align:right;\"> 2.0 </td>\n",
       "   <td style=\"text-align:right;\"> 0.5 </td>\n",
       "  </tr>\n",
       "  <tr>\n",
       "   <td style=\"text-align:right;\"> 3.0 </td>\n",
       "   <td style=\"text-align:right;\"> 3.0 </td>\n",
       "  </tr>\n",
       "  <tr>\n",
       "   <td style=\"text-align:right;\"> 4.0 </td>\n",
       "   <td style=\"text-align:right;\"> 3.0 </td>\n",
       "  </tr>\n",
       "  <tr>\n",
       "   <td style=\"text-align:right;\"> 6.0 </td>\n",
       "   <td style=\"text-align:right;\"> 4.0 </td>\n",
       "  </tr>\n",
       "  <tr>\n",
       "   <td style=\"text-align:right;\"> 6.5 </td>\n",
       "   <td style=\"text-align:right;\"> 5.5 </td>\n",
       "  </tr>\n",
       "  <tr>\n",
       "   <td style=\"text-align:right;\"> 7.0 </td>\n",
       "   <td style=\"text-align:right;\"> 7.0 </td>\n",
       "  </tr>\n",
       "  <tr>\n",
       "   <td style=\"text-align:right;\"> 9.0 </td>\n",
       "   <td style=\"text-align:right;\"> 6.0 </td>\n",
       "  </tr>\n",
       "</tbody>\n",
       "</table>"
      ]
     },
     "metadata": {},
     "output_type": "display_data"
    },
    {
     "data": {
      "image/png": "[encoded data removed]",
      "text/plain": [
       "plot without title"
      ]
     },
     "metadata": {},
     "output_type": "display_data"
    }
   ],
   "source": [
    "data = data.frame(x1=c(1.0, 2.0, 3.0, 4.0, 6.0, 6.5, 7.0, 9.0), outcome=c( 1.0, 0.5, 3.0, 3.0, 4.0, 5.5, 7.0, 6.0))\n",
    "\n",
    "fmt(data)\n",
    "\n",
    "ggplot(data) +\n",
    "geom_point(aes(x=x1, y=outcome), color=PALETTE[3])"
   ]
  },
  {
   "cell_type": "markdown",
   "metadata": {
    "hide_input": false
   },
   "source": [
    "#### Model\n",
    "\n",
    "Form of model:\n",
    "$$ \\hat{y} = mx$$\n",
    " \n",
    "Criterion for best fit (cost function):\n",
    "$$ minimize \\sum_{i=1}^N (y_i - \\hat{y}_i)^2 = minimize \\sum_{i=1}^N (y_i - mx_i)^2 $$\n",
    "\n",
    "Criterion change rate (derivative of cost function):\n",
    "$$ slope = -2 \\sum_{i=1}^N (y_i - \\hat{y}_i)x_i = -2 \\sum_{i=1}^N (y_i - mx_i)x_i $$"
   ]
  },
  {
   "cell_type": "code",
   "execution_count": 3,
   "metadata": {
    "hide_input": true
   },
   "outputs": [
    {
     "data": {
      "text/html": [
       "<table>\n",
       "<thead><tr><th scope=col>model</th><th scope=col>cost</th><th scope=col>cost_slope</th></tr></thead>\n",
       "<tbody>\n",
       "\t<tr><td>function defined</td><td>function defined</td><td>function defined</td></tr>\n",
       "</tbody>\n",
       "</table>\n"
      ],
      "text/latex": [
       "\\begin{tabular}{r|lll}\n",
       " model & cost & cost\\_slope\\\\\n",
       "\\hline\n",
       "\t function defined & function defined & function defined\\\\\n",
       "\\end{tabular}\n"
      ],
      "text/markdown": [
       "\n",
       "| model | cost | cost_slope |\n",
       "|---|---|---|\n",
       "| function defined | function defined | function defined |\n",
       "\n"
      ],
      "text/plain": [
       "  model            cost             cost_slope      \n",
       "1 function defined function defined function defined"
      ]
     },
     "metadata": {},
     "output_type": "display_data"
    }
   ],
   "source": [
    "model = function(x, m) { m*x }\n",
    "cost = function(m, x, y) { sum(aaply(y-model(x,m), 1, function(x) x*x)) }                   \n",
    "cost_slope = function(m, x, y) { -2*sum((y-model(x,m))*x) }\n",
    "                                     \n",
    "data.frame(model=\"function defined\", cost=\"function defined\", cost_slope=\"function defined\" )"
   ]
  },
  {
   "cell_type": "markdown",
   "metadata": {},
   "source": [
    "#### Iterate"
   ]
  },
  {
   "cell_type": "markdown",
   "metadata": {},
   "source": [
    "**Initialize**"
   ]
  },
  {
   "cell_type": "code",
   "execution_count": 4,
   "metadata": {
    "hide_input": true
   },
   "outputs": [
    {
     "data": {
      "text/html": [
       "<table>\n",
       "<thead><tr><th scope=col>R</th><th scope=col>m.start</th></tr></thead>\n",
       "<tbody>\n",
       "\t<tr><td>0.001</td><td>-0.5 </td></tr>\n",
       "</tbody>\n",
       "</table>\n"
      ],
      "text/latex": [
       "\\begin{tabular}{r|ll}\n",
       " R & m.start\\\\\n",
       "\\hline\n",
       "\t 0.001 & -0.5 \\\\\n",
       "\\end{tabular}\n"
      ],
      "text/markdown": [
       "\n",
       "| R | m.start |\n",
       "|---|---|\n",
       "| 0.001 | -0.5  |\n",
       "\n"
      ],
      "text/plain": [
       "  R     m.start\n",
       "1 0.001 -0.5   "
      ]
     },
     "metadata": {},
     "output_type": "display_data"
    }
   ],
   "source": [
    "R = 0.001\n",
    "m.start = -0.5\n",
    "\n",
    "data.frame(R, m.start)"
   ]
  },
  {
   "cell_type": "markdown",
   "metadata": {},
   "source": [
    "**Iteration 0**"
   ]
  },
  {
   "cell_type": "code",
   "execution_count": 5,
   "metadata": {
    "hide_input": true
   },
   "outputs": [
    {
     "data": {
      "image/png": "[encoded data removed]",
      "text/plain": [
       "plot without title"
      ]
     },
     "metadata": {},
     "output_type": "display_data"
    }
   ],
   "source": [
    "m = m.start\n",
    "step_size = R*cost_slope(m, data$x1, data$outcome)\n",
    "m.next = m - step_size\n",
    "\n",
    "p1 = ggplot(data) +\n",
    "     ggtitle(\"Data & Model\", sprintf(\"m=%0.2f\", m)) +\n",
    "     xlim(0, 10) +  ylim(-5,10) +\n",
    "     geom_point(aes(x=x1, y=outcome), color=PALETTE[3]) +\n",
    "     geom_abline(intercept=0, slope=m)\n",
    "\n",
    "d = data.frame(m=seq(-10, 10, 0.01), cost=aaply(seq(-10, 10, 0.01), 1, function(m) cost(m, data$x1, data$outcome)))\n",
    "tangent.intercept = cost(m, data$x1, data$outcome)-cost_slope(m, data$x1, data$outcome)*m\n",
    "tangent.slope = cost_slope(m, data$x1, data$outcome)\n",
    "p2 = ggplot(d) +\n",
    "     ggtitle(\"Cost\", sprintf(\"Cost Slope = %0.2f @ m=%0.2f, step size=%0.2f\", cost_slope(m, data$x1, data$outcome), m, -step_size)) +\n",
    "     xlim(-1,2.5) + ylim(-100, 500) +\n",
    "     geom_line(aes(x=m, y=cost), na.rm=TRUE) +\n",
    "     geom_vline(xintercept=m, lty=\"dashed\") +\n",
    "     geom_abline(intercept=tangent.intercept, slope=tangent.slope, color=PALETTE[2]) +\n",
    "     geom_point(x=m, y=cost(m, data$x1, data$outcome), size=2) +\n",
    "     geom_point(x=m.next, y=tangent.intercept+tangent.slope*m.next, color=PALETTE[1], size=2)\n",
    "                                                \n",
    "grid.arrange(p1, p2, nrow=1)"
   ]
  },
  {
   "cell_type": "markdown",
   "metadata": {},
   "source": [
    "**Iteration 1**"
   ]
  },
  {
   "cell_type": "code",
   "execution_count": 6,
   "metadata": {
    "hide_input": true
   },
   "outputs": [
    {
     "data": {
      "image/png": "[encoded data removed]",
      "text/plain": [
       "plot without title"
      ]
     },
     "metadata": {},
     "output_type": "display_data"
    }
   ],
   "source": [
    "m = m.start\n",
    "step_size = R*cost_slope(m, data$x1, data$outcome)\n",
    "m = m - step_size\n",
    "\n",
    "step_size = R*cost_slope(m, data$x1, data$outcome)\n",
    "m.next = m - step_size\n",
    "\n",
    "p1 = ggplot(data) +\n",
    "     ggtitle(\"Data & Model\", sprintf(\"m=%0.2f\", m)) +\n",
    "     xlim(0, 10) +  ylim(-5,10) +\n",
    "     geom_point(aes(x=x1, y=outcome), color=PALETTE[3]) +\n",
    "     geom_abline(intercept=0, slope=m)\n",
    "\n",
    "d = data.frame(m=seq(-10, 10, 0.01), cost=aaply(seq(-10, 10, 0.01), 1, function(m) cost(m, data$x1, data$outcome)))\n",
    "tangent.intercept = cost(m, data$x1, data$outcome)-cost_slope(m, data$x1, data$outcome)*m\n",
    "tangent.slope = cost_slope(m, data$x1, data$outcome)\n",
    "p2 = ggplot(d) +\n",
    "     ggtitle(\"Cost\", sprintf(\"Cost Slope = %0.2f @ m=%0.2f, step size=%0.2f\", cost_slope(m, data$x1, data$outcome), m, -step_size)) +\n",
    "     xlim(-1,2.5) + ylim(-100, 500) +\n",
    "     geom_line(aes(x=m, y=cost), na.rm=TRUE) +\n",
    "     geom_vline(xintercept=m, lty=\"dashed\") +\n",
    "     geom_abline(intercept=tangent.intercept, slope=tangent.slope, color=PALETTE[2]) +\n",
    "     geom_point(x=m, y=cost(m, data$x1, data$outcome), size=2) +\n",
    "     geom_point(x=m.next, y=tangent.intercept+tangent.slope*m.next, color=PALETTE[1], size=2)\n",
    "                                                \n",
    "grid.arrange(p1, p2, nrow=1)"
   ]
  },
  {
   "cell_type": "markdown",
   "metadata": {},
   "source": [
    "**Iteration 2**"
   ]
  },
  {
   "cell_type": "code",
   "execution_count": 7,
   "metadata": {
    "hide_input": true
   },
   "outputs": [
    {
     "data": {
      "image/png": "[encoded data removed]",
      "text/plain": [
       "plot without title"
      ]
     },
     "metadata": {},
     "output_type": "display_data"
    }
   ],
   "source": [
    "m = m.start\n",
    "for (i in 1:2) { step_size = R*cost_slope(m, data$x1, data$outcome)\n",
    "                 m = m - step_size }\n",
    "\n",
    "step_size = R*cost_slope(m, data$x1, data$outcome)\n",
    "m.next = m - step_size\n",
    "\n",
    "p1 = ggplot(data) +\n",
    "     ggtitle(\"Data & Model\", sprintf(\"m=%0.2f\", m)) +\n",
    "     xlim(0, 10) +  ylim(-5,10) +\n",
    "     geom_point(aes(x=x1, y=outcome), color=PALETTE[3]) +\n",
    "     geom_abline(intercept=0, slope=m)\n",
    "\n",
    "d = data.frame(m=seq(-10, 10, 0.01), cost=aaply(seq(-10, 10, 0.01), 1, function(m) cost(m, data$x1, data$outcome)))\n",
    "tangent.intercept = cost(m, data$x1, data$outcome)-cost_slope(m, data$x1, data$outcome)*m\n",
    "tangent.slope = cost_slope(m, data$x1, data$outcome)\n",
    "p2 = ggplot(d) +\n",
    "     ggtitle(\"Cost\", sprintf(\"Cost Slope = %0.2f @ m=%0.2f, step size=%0.2f\", cost_slope(m, data$x1, data$outcome), m, -step_size)) +\n",
    "     xlim(-1,2.5) + ylim(-100, 500) +\n",
    "     geom_line(aes(x=m, y=cost), na.rm=TRUE) +\n",
    "     geom_vline(xintercept=m, lty=\"dashed\") +\n",
    "     geom_abline(intercept=tangent.intercept, slope=tangent.slope, color=PALETTE[2]) +\n",
    "     geom_point(x=m, y=cost(m, data$x1, data$outcome), size=2) +\n",
    "     geom_point(x=m.next, y=tangent.intercept+tangent.slope*m.next, color=PALETTE[1], size=2)\n",
    "                                                \n",
    "grid.arrange(p1, p2, nrow=1)"
   ]
  },
  {
   "cell_type": "markdown",
   "metadata": {},
   "source": [
    "**Iteration 20**\n",
    "\n",
    "Batch gradient descent converges to optimal solution at m = 0.78."
   ]
  },
  {
   "cell_type": "code",
   "execution_count": 8,
   "metadata": {
    "hide_input": true
   },
   "outputs": [
    {
     "data": {
      "image/png": "[encoded data removed]",
      "text/plain": [
       "plot without title"
      ]
     },
     "metadata": {},
     "output_type": "display_data"
    }
   ],
   "source": [
    "m = m.start\n",
    "for (i in 1:20) { step_size = R*cost_slope(m, data$x1, data$outcome)\n",
    "                  m = m - step_size }\n",
    "\n",
    "step_size = R*cost_slope(m, data$x1, data$outcome)\n",
    "m.next = m - step_size\n",
    "\n",
    "p1 = ggplot(data) +\n",
    "     ggtitle(\"Data & Model\", sprintf(\"m=%0.2f\", m)) +\n",
    "     xlim(0, 10) +  ylim(-5,10) +\n",
    "     geom_point(aes(x=x1, y=outcome), color=PALETTE[3]) +\n",
    "     geom_abline(intercept=0, slope=m)\n",
    "\n",
    "d = data.frame(m=seq(-10, 10, 0.01), cost=aaply(seq(-10, 10, 0.01), 1, function(m) cost(m, data$x1, data$outcome)))\n",
    "tangent.intercept = cost(m, data$x1, data$outcome)-cost_slope(m, data$x1, data$outcome)*m\n",
    "tangent.slope = cost_slope(m, data$x1, data$outcome)\n",
    "p2 = ggplot(d) +\n",
    "     ggtitle(\"Cost\", sprintf(\"Cost Slope = %0.2f @ m=%0.2f, step size=%0.2f\", cost_slope(m, data$x1, data$outcome), m, -step_size)) +\n",
    "     xlim(-1,2.5) + ylim(-100, 500) +\n",
    "     geom_line(aes(x=m, y=cost), na.rm=TRUE) +\n",
    "     geom_vline(xintercept=m, lty=\"dashed\") +\n",
    "     geom_abline(intercept=tangent.intercept, slope=tangent.slope, color=PALETTE[2]) +\n",
    "     geom_point(x=m, y=cost(m, data$x1, data$outcome), size=2) +\n",
    "     geom_point(x=m.next, y=tangent.intercept+tangent.slope*m.next, color=PALETTE[1], size=2)\n",
    "                                                \n",
    "grid.arrange(p1, p2, nrow=1)"
   ]
  },
  {
   "cell_type": "markdown",
   "metadata": {},
   "source": [
    "### Set Parameters | Cost Function: Sum of Squared Errors, Non-Convex"
   ]
  },
  {
   "cell_type": "markdown",
   "metadata": {},
   "source": [
    "#### Data\n",
    "\n",
    "Consider this dataset."
   ]
  },
  {
   "cell_type": "code",
   "execution_count": 9,
   "metadata": {
    "hide_input": true
   },
   "outputs": [
    {
     "data": {
      "text/html": [
       "<table>\n",
       "<caption><center><font color=\"black\"><b>data</b></font></center></caption>\n",
       " <thead>\n",
       "  <tr>\n",
       "   <th style=\"text-align:right;background-color: #FFFFFF !important;\"> x1 </th>\n",
       "   <th style=\"text-align:right;background-color: #FFFFFF !important;\"> outcome </th>\n",
       "  </tr>\n",
       " </thead>\n",
       "<tbody>\n",
       "  <tr>\n",
       "   <td style=\"text-align:right;\"> -5.0 </td>\n",
       "   <td style=\"text-align:right;\"> 1 </td>\n",
       "  </tr>\n",
       "  <tr>\n",
       "   <td style=\"text-align:right;\"> -3.0 </td>\n",
       "   <td style=\"text-align:right;\"> 1 </td>\n",
       "  </tr>\n",
       "  <tr>\n",
       "   <td style=\"text-align:right;\"> -2.0 </td>\n",
       "   <td style=\"text-align:right;\"> 1 </td>\n",
       "  </tr>\n",
       "  <tr>\n",
       "   <td style=\"text-align:right;\"> 1.0 </td>\n",
       "   <td style=\"text-align:right;\"> 1 </td>\n",
       "  </tr>\n",
       "  <tr>\n",
       "   <td style=\"text-align:right;\"> 2.0 </td>\n",
       "   <td style=\"text-align:right;\"> 0 </td>\n",
       "  </tr>\n",
       "  <tr>\n",
       "   <td style=\"text-align:right;\"> 3.0 </td>\n",
       "   <td style=\"text-align:right;\"> 1 </td>\n",
       "  </tr>\n",
       "  <tr>\n",
       "   <td style=\"text-align:right;\"> 3.5 </td>\n",
       "   <td style=\"text-align:right;\"> 0 </td>\n",
       "  </tr>\n",
       "  <tr>\n",
       "   <td style=\"text-align:right;\"> 4.0 </td>\n",
       "   <td style=\"text-align:right;\"> 0 </td>\n",
       "  </tr>\n",
       "  <tr>\n",
       "   <td style=\"text-align:right;\"> 6.0 </td>\n",
       "   <td style=\"text-align:right;\"> 0 </td>\n",
       "  </tr>\n",
       "  <tr>\n",
       "   <td style=\"text-align:right;\"> 6.5 </td>\n",
       "   <td style=\"text-align:right;\"> 0 </td>\n",
       "  </tr>\n",
       "  <tr>\n",
       "   <td style=\"text-align:right;\"> 9.0 </td>\n",
       "   <td style=\"text-align:right;\"> 0 </td>\n",
       "  </tr>\n",
       "</tbody>\n",
       "</table>"
      ]
     },
     "metadata": {},
     "output_type": "display_data"
    },
    {
     "data": {
      "image/png": "[encoded data removed]",
      "text/plain": [
       "plot without title"
      ]
     },
     "metadata": {},
     "output_type": "display_data"
    }
   ],
   "source": [
    "data = data.frame(x1=c(-5.0, -3.0, -2.0, 1.0, 2.0, 3.0, 3.5, 4.0, 6.0, 6.5, 9.0), outcome=c( 1, 1, 1, 1, 0, 1, 0, 0, 0, 0, 0))\n",
    "\n",
    "fmt(data)\n",
    "\n",
    "ggplot(data) +\n",
    "geom_point(aes(x=x1, y=outcome), color=PALETTE[3])"
   ]
  },
  {
   "cell_type": "markdown",
   "metadata": {},
   "source": [
    "#### Model\n",
    "\n",
    "Form of model:\n",
    "$$ \\hat{y} = \\frac{1}{1 + e^{-bx}} $$\n",
    " \n",
    "Criterion for best fit (cost function):\n",
    "$$ minimize \\sum_{i=1}^N (y_i - \\hat{y}_i)^2 = minimize \\sum_{i=1}^N \\big(y_i - \\frac{1}{1 + e^{-bx}}\\big)^2 $$\n",
    "\n",
    "Criterion change rate (derivative of cost function):\n",
    "$$ estimated ... $$"
   ]
  },
  {
   "cell_type": "code",
   "execution_count": 10,
   "metadata": {
    "hide_input": true
   },
   "outputs": [
    {
     "data": {
      "text/html": [
       "<table>\n",
       "<thead><tr><th scope=col>model</th><th scope=col>cost</th><th scope=col>cost_slope</th></tr></thead>\n",
       "<tbody>\n",
       "\t<tr><td>function defined</td><td>function defined</td><td>function defined</td></tr>\n",
       "</tbody>\n",
       "</table>\n"
      ],
      "text/latex": [
       "\\begin{tabular}{r|lll}\n",
       " model & cost & cost\\_slope\\\\\n",
       "\\hline\n",
       "\t function defined & function defined & function defined\\\\\n",
       "\\end{tabular}\n"
      ],
      "text/markdown": [
       "\n",
       "| model | cost | cost_slope |\n",
       "|---|---|---|\n",
       "| function defined | function defined | function defined |\n",
       "\n"
      ],
      "text/plain": [
       "  model            cost             cost_slope      \n",
       "1 function defined function defined function defined"
      ]
     },
     "metadata": {},
     "output_type": "display_data"
    }
   ],
   "source": [
    "model = function(x, b) { 1 / (1 + exp(-b*x)) }\n",
    "cost = function(b, x, y) { sum(aaply(y-model(x,b), 1, function(x) x*x)) }              \n",
    "cost_slope = function(b, x, y) { (cost(b+0.1,x,y)-cost(b-0.1,x,y))/0.2 }\n",
    "                                     \n",
    "data.frame(model=\"function defined\", cost=\"function defined\", cost_slope=\"function defined\" )"
   ]
  },
  {
   "cell_type": "markdown",
   "metadata": {},
   "source": [
    "#### Iterate"
   ]
  },
  {
   "cell_type": "markdown",
   "metadata": {},
   "source": [
    "**Initialize**"
   ]
  },
  {
   "cell_type": "code",
   "execution_count": 11,
   "metadata": {
    "hide_input": true
   },
   "outputs": [
    {
     "data": {
      "text/html": [
       "<table>\n",
       "<thead><tr><th scope=col>R</th><th scope=col>b.start</th></tr></thead>\n",
       "<tbody>\n",
       "\t<tr><td>2 </td><td>-2</td></tr>\n",
       "</tbody>\n",
       "</table>\n"
      ],
      "text/latex": [
       "\\begin{tabular}{r|ll}\n",
       " R & b.start\\\\\n",
       "\\hline\n",
       "\t 2  & -2\\\\\n",
       "\\end{tabular}\n"
      ],
      "text/markdown": [
       "\n",
       "| R | b.start |\n",
       "|---|---|\n",
       "| 2  | -2 |\n",
       "\n"
      ],
      "text/plain": [
       "  R b.start\n",
       "1 2 -2     "
      ]
     },
     "metadata": {},
     "output_type": "display_data"
    }
   ],
   "source": [
    "R = 2\n",
    "b.start = -2\n",
    "\n",
    "data.frame(R, b.start)"
   ]
  },
  {
   "cell_type": "markdown",
   "metadata": {},
   "source": [
    "**Iteration 0**"
   ]
  },
  {
   "cell_type": "code",
   "execution_count": 12,
   "metadata": {
    "hide_input": true,
    "scrolled": true
   },
   "outputs": [
    {
     "data": {
      "image/png": "[encoded data removed]",
      "text/plain": [
       "plot without title"
      ]
     },
     "metadata": {},
     "output_type": "display_data"
    }
   ],
   "source": [
    "b = b.start\n",
    "step_size = R*cost_slope(b, data$x1, data$outcome)\n",
    "b.next = b - step_size\n",
    "\n",
    "d = data.frame(x1=seq(-10, 10, 0.01), outcome=aaply(seq(-10, 10, 0.01), 1, function(x) model(x, b)))\n",
    "p1 = ggplot(data) +\n",
    "     ggtitle(\"Data & Model\", sprintf(\"b=%0.2f\", b)) +\n",
    "     xlim(-10, 10) +  ylim(-1,2) +\n",
    "     geom_point(aes(x=x1, y=outcome), color=PALETTE[3]) +\n",
    "     geom_line(aes(x=x1, y=outcome), data=d)\n",
    "\n",
    "d = data.frame(b=seq(-10, 10, 0.01), cost=aaply(seq(-10, 10, 0.01), 1, function(b) cost(b, data$x1, data$outcome)))\n",
    "tangent.intercept = cost(b, data$x1, data$outcome)-cost_slope(b, data$x1, data$outcome)*b\n",
    "tangent.slope = cost_slope(b, data$x1, data$outcome)\n",
    "p2 = ggplot(d) +\n",
    "     ggtitle(\"Cost\", sprintf(\"Cost Slope = %0.2f @ b=%0.2f, step size=%0.2f\", cost_slope(b, data$x1, data$outcome), b, -step_size)) +\n",
    "#      xlim(-10,10) + ylim(-100, 500) +\n",
    "     geom_line(aes(x=b, y=cost), na.rm=TRUE) +\n",
    "     geom_vline(xintercept=b, lty=\"dashed\") +\n",
    "     geom_abline(intercept=tangent.intercept, slope=tangent.slope, color=PALETTE[2]) +\n",
    "     geom_point(x=b, y=cost(b, data$x1, data$outcome), size=2) +\n",
    "     geom_point(x=b.next, y=tangent.intercept+tangent.slope*b.next, color=PALETTE[1], size=2)\n",
    "                                                \n",
    "grid.arrange(p1, p2, nrow=1)"
   ]
  },
  {
   "cell_type": "markdown",
   "metadata": {},
   "source": [
    "**Iteration 1**"
   ]
  },
  {
   "cell_type": "code",
   "execution_count": 13,
   "metadata": {
    "hide_input": true
   },
   "outputs": [
    {
     "data": {
      "image/png": "[encoded data removed]",
      "text/plain": [
       "plot without title"
      ]
     },
     "metadata": {},
     "output_type": "display_data"
    }
   ],
   "source": [
    "b = b.start\n",
    "step_size = R*cost_slope(b, data$x1, data$outcome)\n",
    "b = b - step_size\n",
    "\n",
    "step_size = R*cost_slope(b, data$x1, data$outcome)\n",
    "b.next = b - step_size\n",
    "\n",
    "d = data.frame(x1=seq(-10, 10, 0.01), outcome=aaply(seq(-10, 10, 0.01), 1, function(x) model(x, b)))\n",
    "p1 = ggplot(data) +\n",
    "     ggtitle(\"Data & Model\", sprintf(\"b=%0.2f\", b)) +\n",
    "     xlim(-10, 10) +  ylim(-1,2) +\n",
    "     geom_point(aes(x=x1, y=outcome), color=PALETTE[3]) +\n",
    "     geom_line(aes(x=x1, y=outcome), data=d)\n",
    "\n",
    "d = data.frame(b=seq(-10, 10, 0.01), cost=aaply(seq(-10, 10, 0.01), 1, function(b) cost(b, data$x1, data$outcome)))\n",
    "tangent.intercept = cost(b, data$x1, data$outcome)-cost_slope(b, data$x1, data$outcome)*b\n",
    "tangent.slope = cost_slope(b, data$x1, data$outcome)\n",
    "p2 = ggplot(d) +\n",
    "     ggtitle(\"Cost\", sprintf(\"Cost Slope = %0.2f @ b=%0.2f, step size=%0.2f\", cost_slope(b, data$x1, data$outcome), b, -step_size)) +\n",
    "#      xlim(-10,10) + ylim(-100, 500) +\n",
    "     geom_line(aes(x=b, y=cost), na.rm=TRUE) +\n",
    "     geom_vline(xintercept=b, lty=\"dashed\") +\n",
    "     geom_abline(intercept=tangent.intercept, slope=tangent.slope, color=PALETTE[2]) +\n",
    "     geom_point(x=b, y=cost(b, data$x1, data$outcome), size=2) +\n",
    "     geom_point(x=b.next, y=tangent.intercept+tangent.slope*b.next, color=PALETTE[1], size=2)\n",
    "                                                \n",
    "grid.arrange(p1, p2, nrow=1)"
   ]
  },
  {
   "cell_type": "markdown",
   "metadata": {},
   "source": [
    "**Iteration 2**"
   ]
  },
  {
   "cell_type": "code",
   "execution_count": 14,
   "metadata": {
    "hide_input": true
   },
   "outputs": [
    {
     "data": {
      "image/png": "[encoded data removed]",
      "text/plain": [
       "plot without title"
      ]
     },
     "metadata": {},
     "output_type": "display_data"
    }
   ],
   "source": [
    "b = b.start\n",
    "for (i in 1:2) { step_size = R*cost_slope(b, data$x1, data$outcome)\n",
    "                 b = b - step_size }\n",
    "\n",
    "step_size = R*cost_slope(b, data$x1, data$outcome)\n",
    "b.next = b - step_size\n",
    "\n",
    "d = data.frame(x1=seq(-10, 10, 0.01), outcome=aaply(seq(-10, 10, 0.01), 1, function(x) model(x, b)))\n",
    "p1 = ggplot(data) +\n",
    "     ggtitle(\"Data & Model\", sprintf(\"b=%0.2f\", b)) +\n",
    "     xlim(-10, 10) +  ylim(-1,2) +\n",
    "     geom_point(aes(x=x1, y=outcome), color=PALETTE[3]) +\n",
    "     geom_line(aes(x=x1, y=outcome), data=d)\n",
    "\n",
    "d = data.frame(b=seq(-10, 10, 0.01), cost=aaply(seq(-10, 10, 0.01), 1, function(b) cost(b, data$x1, data$outcome)))\n",
    "tangent.intercept = cost(b, data$x1, data$outcome)-cost_slope(b, data$x1, data$outcome)*b\n",
    "tangent.slope = cost_slope(b, data$x1, data$outcome)\n",
    "p2 = ggplot(d) +\n",
    "     ggtitle(\"Cost\", sprintf(\"Cost Slope = %0.2f @ b=%0.2f, step size=%0.2f\", cost_slope(b, data$x1, data$outcome), b, -step_size)) +\n",
    "#      xlim(-10,10) + ylim(-100, 500) +\n",
    "     geom_line(aes(x=b, y=cost), na.rm=TRUE) +\n",
    "     geom_vline(xintercept=b, lty=\"dashed\") +\n",
    "     geom_abline(intercept=tangent.intercept, slope=tangent.slope, color=PALETTE[2]) +\n",
    "     geom_point(x=b, y=cost(b, data$x1, data$outcome), size=2) +\n",
    "     geom_point(x=b.next, y=tangent.intercept+tangent.slope*b.next, color=PALETTE[1], size=2)\n",
    "                                                \n",
    "grid.arrange(p1, p2, nrow=1)"
   ]
  },
  {
   "cell_type": "markdown",
   "metadata": {},
   "source": [
    "**Iteration 3**"
   ]
  },
  {
   "cell_type": "code",
   "execution_count": 15,
   "metadata": {
    "hide_input": true
   },
   "outputs": [
    {
     "data": {
      "image/png": "[encoded data removed]",
      "text/plain": [
       "plot without title"
      ]
     },
     "metadata": {},
     "output_type": "display_data"
    }
   ],
   "source": [
    "b = b.start\n",
    "for (i in 1:3) { step_size = R*cost_slope(b, data$x1, data$outcome)\n",
    "                 b = b - step_size }\n",
    "\n",
    "step_size = R*cost_slope(b, data$x1, data$outcome)\n",
    "b.next = b - step_size\n",
    "\n",
    "d = data.frame(x1=seq(-10, 10, 0.01), outcome=aaply(seq(-10, 10, 0.01), 1, function(x) model(x, b)))\n",
    "p1 = ggplot(data) +\n",
    "     ggtitle(\"Data & Model\", sprintf(\"b=%0.2f\", b)) +\n",
    "     xlim(-10, 10) +  ylim(-1,2) +\n",
    "     geom_point(aes(x=x1, y=outcome), color=PALETTE[3]) +\n",
    "     geom_line(aes(x=x1, y=outcome), data=d)\n",
    "\n",
    "d = data.frame(b=seq(-10, 10, 0.01), cost=aaply(seq(-10, 10, 0.01), 1, function(b) cost(b, data$x1, data$outcome)))\n",
    "tangent.intercept = cost(b, data$x1, data$outcome)-cost_slope(b, data$x1, data$outcome)*b\n",
    "tangent.slope = cost_slope(b, data$x1, data$outcome)\n",
    "p2 = ggplot(d) +\n",
    "     ggtitle(\"Cost\", sprintf(\"Cost Slope = %0.2f @ b=%0.2f, step size=%0.2f\", cost_slope(b, data$x1, data$outcome), b, -step_size)) +\n",
    "#      xlim(-10,10) + ylim(-100, 500) +\n",
    "     geom_line(aes(x=b, y=cost), na.rm=TRUE) +\n",
    "     geom_vline(xintercept=b, lty=\"dashed\") +\n",
    "     geom_abline(intercept=tangent.intercept, slope=tangent.slope, color=PALETTE[2]) +\n",
    "     geom_point(x=b, y=cost(b, data$x1, data$outcome), size=2) +\n",
    "     geom_point(x=b.next, y=tangent.intercept+tangent.slope*b.next, color=PALETTE[1], size=2)\n",
    "                                                \n",
    "grid.arrange(p1, p2, nrow=1)"
   ]
  },
  {
   "cell_type": "markdown",
   "metadata": {},
   "source": [
    "**Iteration 4**\n",
    "\n",
    "Batch gradient descent with sum of squared errors criterion for best fit does not converge quickly (or possibly ever)."
   ]
  },
  {
   "cell_type": "code",
   "execution_count": 16,
   "metadata": {
    "hide_input": true
   },
   "outputs": [
    {
     "data": {
      "image/png": "[encoded data removed]",
      "text/plain": [
       "plot without title"
      ]
     },
     "metadata": {},
     "output_type": "display_data"
    }
   ],
   "source": [
    "b = b.start\n",
    "for (i in 1:4) { step_size = R*cost_slope(b, data$x1, data$outcome)\n",
    "                 b = b - step_size }\n",
    "\n",
    "step_size = R*cost_slope(b, data$x1, data$outcome)\n",
    "b.next = b - step_size\n",
    "\n",
    "d = data.frame(x1=seq(-10, 10, 0.01), outcome=aaply(seq(-10, 10, 0.01), 1, function(x) model(x, b)))\n",
    "p1 = ggplot(data) +\n",
    "     ggtitle(\"Data & Model\", sprintf(\"b=%0.2f\", b)) +\n",
    "     xlim(-10, 10) +  ylim(-1,2) +\n",
    "     geom_point(aes(x=x1, y=outcome), color=PALETTE[3]) +\n",
    "     geom_line(aes(x=x1, y=outcome), data=d)\n",
    "\n",
    "d = data.frame(b=seq(-10, 10, 0.01), cost=aaply(seq(-10, 10, 0.01), 1, function(b) cost(b, data$x1, data$outcome)))\n",
    "tangent.intercept = cost(b, data$x1, data$outcome)-cost_slope(b, data$x1, data$outcome)*b\n",
    "tangent.slope = cost_slope(b, data$x1, data$outcome)\n",
    "p2 = ggplot(d) +\n",
    "     ggtitle(\"Cost\", sprintf(\"Cost Slope = %0.2f @ b=%0.2f, step size=%0.2f\", cost_slope(b, data$x1, data$outcome), b, -step_size)) +\n",
    "#      xlim(-10,10) + ylim(-100, 500) +\n",
    "     geom_line(aes(x=b, y=cost), na.rm=TRUE) +\n",
    "     geom_vline(xintercept=b, lty=\"dashed\") +\n",
    "     geom_abline(intercept=tangent.intercept, slope=tangent.slope, color=PALETTE[2]) +\n",
    "     geom_point(x=b, y=cost(b, data$x1, data$outcome), size=2) +\n",
    "     geom_point(x=b.next, y=tangent.intercept+tangent.slope*b.next, color=PALETTE[1], size=2)\n",
    "                                                \n",
    "grid.arrange(p1, p2, nrow=1)"
   ]
  },
  {
   "cell_type": "markdown",
   "metadata": {},
   "source": [
    "### Set Parameters | Cost Function: Special for Logistic Regression"
   ]
  },
  {
   "cell_type": "markdown",
   "metadata": {},
   "source": [
    "#### Data\n",
    "\n",
    "Consider this dataset."
   ]
  },
  {
   "cell_type": "code",
   "execution_count": 17,
   "metadata": {
    "hide_input": true
   },
   "outputs": [
    {
     "data": {
      "text/html": [
       "<table>\n",
       "<caption><center><font color=\"black\"><b>data</b></font></center></caption>\n",
       " <thead>\n",
       "  <tr>\n",
       "   <th style=\"text-align:right;background-color: #FFFFFF !important;\"> x1 </th>\n",
       "   <th style=\"text-align:right;background-color: #FFFFFF !important;\"> outcome </th>\n",
       "  </tr>\n",
       " </thead>\n",
       "<tbody>\n",
       "  <tr>\n",
       "   <td style=\"text-align:right;\"> -5.0 </td>\n",
       "   <td style=\"text-align:right;\"> 1 </td>\n",
       "  </tr>\n",
       "  <tr>\n",
       "   <td style=\"text-align:right;\"> -3.0 </td>\n",
       "   <td style=\"text-align:right;\"> 1 </td>\n",
       "  </tr>\n",
       "  <tr>\n",
       "   <td style=\"text-align:right;\"> -2.0 </td>\n",
       "   <td style=\"text-align:right;\"> 1 </td>\n",
       "  </tr>\n",
       "  <tr>\n",
       "   <td style=\"text-align:right;\"> 1.0 </td>\n",
       "   <td style=\"text-align:right;\"> 1 </td>\n",
       "  </tr>\n",
       "  <tr>\n",
       "   <td style=\"text-align:right;\"> 2.0 </td>\n",
       "   <td style=\"text-align:right;\"> 0 </td>\n",
       "  </tr>\n",
       "  <tr>\n",
       "   <td style=\"text-align:right;\"> 3.0 </td>\n",
       "   <td style=\"text-align:right;\"> 1 </td>\n",
       "  </tr>\n",
       "  <tr>\n",
       "   <td style=\"text-align:right;\"> 3.5 </td>\n",
       "   <td style=\"text-align:right;\"> 0 </td>\n",
       "  </tr>\n",
       "  <tr>\n",
       "   <td style=\"text-align:right;\"> 4.0 </td>\n",
       "   <td style=\"text-align:right;\"> 0 </td>\n",
       "  </tr>\n",
       "  <tr>\n",
       "   <td style=\"text-align:right;\"> 6.0 </td>\n",
       "   <td style=\"text-align:right;\"> 0 </td>\n",
       "  </tr>\n",
       "  <tr>\n",
       "   <td style=\"text-align:right;\"> 6.5 </td>\n",
       "   <td style=\"text-align:right;\"> 0 </td>\n",
       "  </tr>\n",
       "  <tr>\n",
       "   <td style=\"text-align:right;\"> 9.0 </td>\n",
       "   <td style=\"text-align:right;\"> 0 </td>\n",
       "  </tr>\n",
       "</tbody>\n",
       "</table>"
      ]
     },
     "metadata": {},
     "output_type": "display_data"
    },
    {
     "data": {
      "image/png": "[encoded data removed]",
      "text/plain": [
       "plot without title"
      ]
     },
     "metadata": {},
     "output_type": "display_data"
    }
   ],
   "source": [
    "data = data.frame(x1=c(-5.0, -3.0, -2.0, 1.0, 2.0, 3.0, 3.5, 4.0, 6.0, 6.5, 9.0), outcome=c( 1, 1, 1, 1, 0, 1, 0, 0, 0, 0, 0))\n",
    "\n",
    "fmt(data)\n",
    "\n",
    "ggplot(data) +\n",
    "geom_point(aes(x=x1, y=outcome), color=PALETTE[3])"
   ]
  },
  {
   "cell_type": "markdown",
   "metadata": {
    "hide_input": true
   },
   "source": [
    "#### Model\n",
    "\n",
    "Form of model:\n",
    "$$ \\hat{y} = \\frac{1}{1 + e^{-bx}} $$\n",
    " \n",
    "Criterion for best fit (cost function):\n",
    "$$ minimize \\sum_{i=1}^N -\\big(y_i - log(\\hat{y}_i)\\big) - \\big((1-y_i)log(1-\\hat{y}_i)\\big) =$$\n",
    "$$minimize \\sum_{i=1}^N -\\big(y_i - log\\big(\\frac{1}{1 + e^{-bx_i}}\\big)\\big) - \\big((1-y_i)log\\big(1-\\frac{1}{1 + e^{-bx_i}}\\big)\\big) $$\n",
    "\n",
    "Criterion change rate (derivative of cost function):\n",
    "$$ slope = - \\sum_{i=1}^N (y_i - \\hat{y}_i)x_i = - \\sum_{i=1}^N \\big(y_i - \\frac{1}{1 + e^{-bx_i}}\\big)x_i $$"
   ]
  },
  {
   "cell_type": "code",
   "execution_count": 18,
   "metadata": {
    "hide_input": true
   },
   "outputs": [
    {
     "data": {
      "text/html": [
       "<table>\n",
       "<thead><tr><th scope=col>model</th><th scope=col>cost</th><th scope=col>cost_slope</th></tr></thead>\n",
       "<tbody>\n",
       "\t<tr><td>function defined</td><td>function defined</td><td>function defined</td></tr>\n",
       "</tbody>\n",
       "</table>\n"
      ],
      "text/latex": [
       "\\begin{tabular}{r|lll}\n",
       " model & cost & cost\\_slope\\\\\n",
       "\\hline\n",
       "\t function defined & function defined & function defined\\\\\n",
       "\\end{tabular}\n"
      ],
      "text/markdown": [
       "\n",
       "| model | cost | cost_slope |\n",
       "|---|---|---|\n",
       "| function defined | function defined | function defined |\n",
       "\n"
      ],
      "text/plain": [
       "  model            cost             cost_slope      \n",
       "1 function defined function defined function defined"
      ]
     },
     "metadata": {},
     "output_type": "display_data"
    }
   ],
   "source": [
    "model = function(x, b) { 1 / (1 + exp(-b*x)) }\n",
    "cost = function(b, x, y) { sum(-y*log(model(x,b)) + -(1-y)*log(1-model(x,b))) }\n",
    "cost_slope = function(b, x, y) { -sum((y-model(x,b))*x) }\n",
    "\n",
    "data.frame(model=\"function defined\", cost=\"function defined\", cost_slope=\"function defined\" )"
   ]
  },
  {
   "cell_type": "markdown",
   "metadata": {},
   "source": [
    "#### Iterate"
   ]
  },
  {
   "cell_type": "markdown",
   "metadata": {},
   "source": [
    "**Initialize**"
   ]
  },
  {
   "cell_type": "code",
   "execution_count": 19,
   "metadata": {
    "hide_input": true
   },
   "outputs": [
    {
     "data": {
      "text/html": [
       "<table>\n",
       "<thead><tr><th scope=col>R</th><th scope=col>b.start</th></tr></thead>\n",
       "<tbody>\n",
       "\t<tr><td>0.15</td><td>-2  </td></tr>\n",
       "</tbody>\n",
       "</table>\n"
      ],
      "text/latex": [
       "\\begin{tabular}{r|ll}\n",
       " R & b.start\\\\\n",
       "\\hline\n",
       "\t 0.15 & -2  \\\\\n",
       "\\end{tabular}\n"
      ],
      "text/markdown": [
       "\n",
       "| R | b.start |\n",
       "|---|---|\n",
       "| 0.15 | -2   |\n",
       "\n"
      ],
      "text/plain": [
       "  R    b.start\n",
       "1 0.15 -2     "
      ]
     },
     "metadata": {},
     "output_type": "display_data"
    }
   ],
   "source": [
    "R = 0.15\n",
    "b.start = -2\n",
    "\n",
    "data.frame(R, b.start)"
   ]
  },
  {
   "cell_type": "markdown",
   "metadata": {},
   "source": [
    "**Iteration 0**"
   ]
  },
  {
   "cell_type": "code",
   "execution_count": 20,
   "metadata": {
    "hide_input": true
   },
   "outputs": [
    {
     "data": {
      "image/png": "[encoded data removed]",
      "text/plain": [
       "plot without title"
      ]
     },
     "metadata": {},
     "output_type": "display_data"
    }
   ],
   "source": [
    "b = b.start\n",
    "step_size = R*cost_slope(b, data$x1, data$outcome)\n",
    "b.next = b - step_size\n",
    "\n",
    "d = data.frame(x1=seq(-10, 10, 0.01), outcome=aaply(seq(-10, 10, 0.01), 1, function(x) model(x, b)))\n",
    "p1 = ggplot(data) +\n",
    "     ggtitle(\"Data & Model\", sprintf(\"b=%0.2f\", b)) +\n",
    "     xlim(-10, 10) +  ylim(-1,2) +\n",
    "     geom_point(aes(x=x1, y=outcome), color=PALETTE[3]) +\n",
    "     geom_line(aes(x=x1, y=outcome), data=d)\n",
    "\n",
    "d = data.frame(b=seq(-10, 10, 0.01), cost=aaply(seq(-10, 10, 0.01), 1, function(b) cost(b, data$x1, data$outcome)))\n",
    "d[is.infinite(d$cost), \"cost\"] = NA \n",
    "tangent.intercept = cost(b, data$x1, data$outcome)-cost_slope(b, data$x1, data$outcome)*b\n",
    "tangent.slope = cost_slope(b, data$x1, data$outcome)\n",
    "p2 = ggplot(d) +\n",
    "     ggtitle(\"Cost\", sprintf(\"Cost Slope = %0.2f @ b=%0.2f, step size=%0.2f\", cost_slope(b, data$x1, data$outcome), b, -step_size)) +\n",
    "     geom_line(aes(x=b, y=cost), na.rm=TRUE) +\n",
    "     geom_vline(xintercept=b, lty=\"dashed\") +\n",
    "     geom_abline(intercept=tangent.intercept, slope=tangent.slope, color=PALETTE[2]) +\n",
    "     geom_point(x=b, y=cost(b, data$x1, data$outcome), size=2) +\n",
    "     geom_point(x=b.next, y=tangent.intercept+tangent.slope*b.next, color=PALETTE[1], size=2)\n",
    "                                                \n",
    "grid.arrange(p1, p2, nrow=1)"
   ]
  },
  {
   "cell_type": "markdown",
   "metadata": {},
   "source": [
    "**Iteration 1**"
   ]
  },
  {
   "cell_type": "code",
   "execution_count": 21,
   "metadata": {
    "hide_input": true
   },
   "outputs": [
    {
     "data": {
      "image/png": "[encoded data removed]",
      "text/plain": [
       "plot without title"
      ]
     },
     "metadata": {},
     "output_type": "display_data"
    }
   ],
   "source": [
    "b = b.start\n",
    "step_size = R*cost_slope(b, data$x1, data$outcome)\n",
    "b = b - step_size\n",
    "\n",
    "step_size = R*cost_slope(b, data$x1, data$outcome)\n",
    "b.next = b - step_size\n",
    "\n",
    "d = data.frame(x1=seq(-10, 10, 0.01), outcome=aaply(seq(-10, 10, 0.01), 1, function(x) model(x, b)))\n",
    "p1 = ggplot(data) +\n",
    "     ggtitle(\"Data & Model\", sprintf(\"b=%0.2f\", b)) +\n",
    "     xlim(-10, 10) +  ylim(-1,2) +\n",
    "     geom_point(aes(x=x1, y=outcome), color=PALETTE[3]) +\n",
    "     geom_line(aes(x=x1, y=outcome), data=d)\n",
    "\n",
    "d = data.frame(b=seq(-10, 10, 0.01), cost=aaply(seq(-10, 10, 0.01), 1, function(b) cost(b, data$x1, data$outcome)))\n",
    "d[is.infinite(d$cost), \"cost\"] = NA \n",
    "tangent.intercept = cost(b, data$x1, data$outcome)-cost_slope(b, data$x1, data$outcome)*b\n",
    "tangent.slope = cost_slope(b, data$x1, data$outcome)\n",
    "p2 = ggplot(d) +\n",
    "     ggtitle(\"Cost\", sprintf(\"Cost Slope = %0.2f @ b=%0.2f, step size=%0.2f\", cost_slope(b, data$x1, data$outcome), b, -step_size)) +\n",
    "     geom_line(aes(x=b, y=cost), na.rm=TRUE) +\n",
    "     geom_vline(xintercept=b, lty=\"dashed\") +\n",
    "     geom_abline(intercept=tangent.intercept, slope=tangent.slope, color=PALETTE[2]) +\n",
    "     geom_point(x=b, y=cost(b, data$x1, data$outcome), size=2) +\n",
    "     geom_point(x=b.next, y=tangent.intercept+tangent.slope*b.next, color=PALETTE[1], size=2)\n",
    "                                                \n",
    "grid.arrange(p1, p2, nrow=1)"
   ]
  },
  {
   "cell_type": "markdown",
   "metadata": {},
   "source": [
    "**Iteration 2**"
   ]
  },
  {
   "cell_type": "code",
   "execution_count": 22,
   "metadata": {
    "hide_input": true
   },
   "outputs": [
    {
     "data": {
      "image/png": "[encoded data removed]",
      "text/plain": [
       "plot without title"
      ]
     },
     "metadata": {},
     "output_type": "display_data"
    }
   ],
   "source": [
    "b = b.start\n",
    "for (i in 1:2) { step_size = R*cost_slope(b, data$x1, data$outcome)\n",
    "                 b = b - step_size }\n",
    "\n",
    "step_size = R*cost_slope(b, data$x1, data$outcome)\n",
    "b.next = b - step_size\n",
    "\n",
    "d = data.frame(x1=seq(-10, 10, 0.01), outcome=aaply(seq(-10, 10, 0.01), 1, function(x) model(x, b)))\n",
    "p1 = ggplot(data) +\n",
    "     ggtitle(\"Data & Model\", sprintf(\"b=%0.2f\", b)) +\n",
    "     xlim(-10, 10) +  ylim(-1,2) +\n",
    "     geom_point(aes(x=x1, y=outcome), color=PALETTE[3]) +\n",
    "     geom_line(aes(x=x1, y=outcome), data=d)\n",
    "\n",
    "d = data.frame(b=seq(-10, 10, 0.01), cost=aaply(seq(-10, 10, 0.01), 1, function(b) cost(b, data$x1, data$outcome)))\n",
    "d[is.infinite(d$cost), \"cost\"] = NA \n",
    "tangent.intercept = cost(b, data$x1, data$outcome)-cost_slope(b, data$x1, data$outcome)*b\n",
    "tangent.slope = cost_slope(b, data$x1, data$outcome)\n",
    "p2 = ggplot(d) +\n",
    "     ggtitle(\"Cost\", sprintf(\"Cost Slope = %0.2f @ b=%0.2f, step size=%0.2f\", cost_slope(b, data$x1, data$outcome), b, -step_size)) +\n",
    "     geom_line(aes(x=b, y=cost), na.rm=TRUE) +\n",
    "     geom_vline(xintercept=b, lty=\"dashed\") +\n",
    "     geom_abline(intercept=tangent.intercept, slope=tangent.slope, color=PALETTE[2]) +\n",
    "     geom_point(x=b, y=cost(b, data$x1, data$outcome), size=2) +\n",
    "     geom_point(x=b.next, y=tangent.intercept+tangent.slope*b.next, color=PALETTE[1], size=2)\n",
    "                                                \n",
    "grid.arrange(p1, p2, nrow=1)"
   ]
  },
  {
   "cell_type": "markdown",
   "metadata": {},
   "source": [
    "**Iteration 3**\n",
    "\n",
    "Batch gradient descent with special criterion for best fit converges to optimal solution at b = -0.54."
   ]
  },
  {
   "cell_type": "code",
   "execution_count": 23,
   "metadata": {
    "hide_input": true
   },
   "outputs": [
    {
     "data": {
      "image/png": "[encoded data removed]",
      "text/plain": [
       "plot without title"
      ]
     },
     "metadata": {},
     "output_type": "display_data"
    }
   ],
   "source": [
    "b = b.start\n",
    "for (i in 1:3) { step_size = R*cost_slope(b, data$x1, data$outcome)\n",
    "                 b = b - step_size }\n",
    "\n",
    "step_size = R*cost_slope(b, data$x1, data$outcome)\n",
    "b.next = b - step_size\n",
    "\n",
    "d = data.frame(x1=seq(-10, 10, 0.01), outcome=aaply(seq(-10, 10, 0.01), 1, function(x) model(x, b)))\n",
    "p1 = ggplot(data) +\n",
    "     ggtitle(\"Data & Model\", sprintf(\"b=%0.2f\", b)) +\n",
    "     xlim(-10, 10) +  ylim(-1,2) +\n",
    "     geom_point(aes(x=x1, y=outcome), color=PALETTE[3]) +\n",
    "     geom_line(aes(x=x1, y=outcome), data=d)\n",
    "\n",
    "d = data.frame(b=seq(-10, 10, 0.01), cost=aaply(seq(-10, 10, 0.01), 1, function(b) cost(b, data$x1, data$outcome)))\n",
    "d[is.infinite(d$cost), \"cost\"] = NA \n",
    "tangent.intercept = cost(b, data$x1, data$outcome)-cost_slope(b, data$x1, data$outcome)*b\n",
    "tangent.slope = cost_slope(b, data$x1, data$outcome)\n",
    "p2 = ggplot(d) +\n",
    "     ggtitle(\"Cost\", sprintf(\"Cost Slope = %0.2f @ b=%0.2f, step size=%0.2f\", cost_slope(b, data$x1, data$outcome), b, -step_size)) +\n",
    "     geom_line(aes(x=b, y=cost), na.rm=TRUE) +\n",
    "     geom_vline(xintercept=b, lty=\"dashed\") +\n",
    "     geom_abline(intercept=tangent.intercept, slope=tangent.slope, color=PALETTE[2]) +\n",
    "     geom_point(x=b, y=cost(b, data$x1, data$outcome), size=2) +\n",
    "     geom_point(x=b.next, y=tangent.intercept+tangent.slope*b.next, color=PALETTE[1], size=2)\n",
    "                                                \n",
    "grid.arrange(p1, p2, nrow=1)"
   ]
  },
  {
   "cell_type": "markdown",
   "metadata": {},
   "source": [
    "### Set Parameters | Cost Function: Sum of Squared Errors, Non-Convex, Optimal Solution"
   ]
  },
  {
   "cell_type": "markdown",
   "metadata": {},
   "source": [
    "#### Data\n",
    "\n",
    "Consider this dataset."
   ]
  },
  {
   "cell_type": "code",
   "execution_count": 24,
   "metadata": {
    "hide_input": true,
    "scrolled": false
   },
   "outputs": [
    {
     "data": {
      "text/html": [
       "<table>\n",
       "<caption><center><font color=\"black\"><b>data</b></font></center></caption>\n",
       " <thead>\n",
       "  <tr>\n",
       "   <th style=\"text-align:right;background-color: #FFFFFF !important;\"> x1 </th>\n",
       "   <th style=\"text-align:right;background-color: #FFFFFF !important;\"> outcome </th>\n",
       "  </tr>\n",
       " </thead>\n",
       "<tbody>\n",
       "  <tr>\n",
       "   <td style=\"text-align:right;\"> -0.50 </td>\n",
       "   <td style=\"text-align:right;\"> -10.761793 </td>\n",
       "  </tr>\n",
       "  <tr>\n",
       "   <td style=\"text-align:right;\"> -0.40 </td>\n",
       "   <td style=\"text-align:right;\"> -13.041581 </td>\n",
       "  </tr>\n",
       "  <tr>\n",
       "   <td style=\"text-align:right;\"> -0.30 </td>\n",
       "   <td style=\"text-align:right;\"> -16.056636 </td>\n",
       "  </tr>\n",
       "  <tr>\n",
       "   <td style=\"text-align:right;\"> -0.10 </td>\n",
       "   <td style=\"text-align:right;\"> -30.771308 </td>\n",
       "  </tr>\n",
       "  <tr>\n",
       "   <td style=\"text-align:right;\"> 0.01 </td>\n",
       "   <td style=\"text-align:right;\"> 34.799199 </td>\n",
       "  </tr>\n",
       "  <tr>\n",
       "   <td style=\"text-align:right;\"> 0.05 </td>\n",
       "   <td style=\"text-align:right;\"> 53.979875 </td>\n",
       "  </tr>\n",
       "  <tr>\n",
       "   <td style=\"text-align:right;\"> 0.10 </td>\n",
       "   <td style=\"text-align:right;\"> 7.204714 </td>\n",
       "  </tr>\n",
       "  <tr>\n",
       "   <td style=\"text-align:right;\"> 0.15 </td>\n",
       "   <td style=\"text-align:right;\"> -3.183375 </td>\n",
       "  </tr>\n",
       "  <tr>\n",
       "   <td style=\"text-align:right;\"> 0.20 </td>\n",
       "   <td style=\"text-align:right;\"> -8.445647 </td>\n",
       "  </tr>\n",
       "  <tr>\n",
       "   <td style=\"text-align:right;\"> 0.30 </td>\n",
       "   <td style=\"text-align:right;\"> -14.709963 </td>\n",
       "  </tr>\n",
       "  <tr>\n",
       "   <td style=\"text-align:right;\"> 0.45 </td>\n",
       "   <td style=\"text-align:right;\"> -21.107950 </td>\n",
       "  </tr>\n",
       "  <tr>\n",
       "   <td style=\"text-align:right;\"> 0.52 </td>\n",
       "   <td style=\"text-align:right;\"> -23.739915 </td>\n",
       "  </tr>\n",
       "  <tr>\n",
       "   <td style=\"text-align:right;\"> 0.60 </td>\n",
       "   <td style=\"text-align:right;\"> -26.674947 </td>\n",
       "  </tr>\n",
       "  <tr>\n",
       "   <td style=\"text-align:right;\"> 0.70 </td>\n",
       "   <td style=\"text-align:right;\"> -30.341891 </td>\n",
       "  </tr>\n",
       "</tbody>\n",
       "</table>"
      ]
     },
     "metadata": {},
     "output_type": "display_data"
    },
    {
     "data": {
      "image/png": "[encoded data removed]",
      "text/plain": [
       "plot without title"
      ]
     },
     "metadata": {},
     "output_type": "display_data"
    }
   ],
   "source": [
    "weird = function(x, b) { (x+b)+(1/x)+(1/(x-(b*.01)))+(x+b)^2-(x+b)^3 }\n",
    "x = c(-0.5, -0.4, -0.3, -0.1, 0.01, 0.05, 0.1, 0.15, 0.2, 0.3, 0.45, 0.52, 0.6, 0.7)\n",
    "set.seed(12345); y = weird(x, 3) + 0*runif(length(x), -1, 1)\n",
    "data = data.frame(x1=x, outcome=y)\n",
    "fmt(data)\n",
    "\n",
    "ggplot(data) +\n",
    "geom_point(aes(x=x1, y=outcome), color=PALETTE[3])"
   ]
  },
  {
   "cell_type": "markdown",
   "metadata": {},
   "source": [
    "#### Model\n",
    "\n",
    "Form of model:\n",
    "$$ \\hat{y} = (x+b) + \\frac{1}{x} + \\frac{1}{x-0.01b} + (x+b)^2 - (x+b)^3 $$\n",
    " \n",
    "Criterion for best fit (cost function):\n",
    "$$ minimize \\sum_{i=1}^N (y_i - \\hat{y}_i)^2 = minimize \\sum_{i=1}^N \\big(y_i - \\big((x+b) + \\frac{1}{x} + \\frac{1}{x-0.01b} + (x+b)^2 - (x+b)^3\\big) \\big)^2 $$\n",
    "\n",
    "Criterion change rate (derivative of cost function):\n",
    "$$ estimated ... $$"
   ]
  },
  {
   "cell_type": "code",
   "execution_count": 25,
   "metadata": {
    "hide_input": true,
    "scrolled": true
   },
   "outputs": [
    {
     "data": {
      "text/html": [
       "<table>\n",
       "<thead><tr><th scope=col>model</th><th scope=col>cost</th><th scope=col>cost_slope</th></tr></thead>\n",
       "<tbody>\n",
       "\t<tr><td>function defined</td><td>function defined</td><td>function defined</td></tr>\n",
       "</tbody>\n",
       "</table>\n"
      ],
      "text/latex": [
       "\\begin{tabular}{r|lll}\n",
       " model & cost & cost\\_slope\\\\\n",
       "\\hline\n",
       "\t function defined & function defined & function defined\\\\\n",
       "\\end{tabular}\n"
      ],
      "text/markdown": [
       "\n",
       "| model | cost | cost_slope |\n",
       "|---|---|---|\n",
       "| function defined | function defined | function defined |\n",
       "\n"
      ],
      "text/plain": [
       "  model            cost             cost_slope      \n",
       "1 function defined function defined function defined"
      ]
     },
     "metadata": {},
     "output_type": "display_data"
    }
   ],
   "source": [
    "model = function(x, b) { (x+b)+(1/x)+(1/(x-(b*.01)))+(x+b)^2-(x+b)^3 }\n",
    "cost = function(m, x, y) { sum(aaply(y-model(x,m), 1, function(x) x*x)) }\n",
    "cost_slope = function(b, x, y) { (cost(b+0.01,x,y)-cost(b-0.01,x,y))/0.02 }\n",
    "                                     \n",
    "data.frame(model=\"function defined\", cost=\"function defined\", cost_slope=\"function defined\" )"
   ]
  },
  {
   "cell_type": "markdown",
   "metadata": {},
   "source": [
    "**Initialization**"
   ]
  },
  {
   "cell_type": "code",
   "execution_count": 26,
   "metadata": {
    "hide_input": true
   },
   "outputs": [
    {
     "data": {
      "text/html": [
       "<table>\n",
       "<thead><tr><th scope=col>R</th><th scope=col>b.start</th></tr></thead>\n",
       "<tbody>\n",
       "\t<tr><td>0.00001</td><td>4      </td></tr>\n",
       "</tbody>\n",
       "</table>\n"
      ],
      "text/latex": [
       "\\begin{tabular}{r|ll}\n",
       " R & b.start\\\\\n",
       "\\hline\n",
       "\t 0.00001 & 4      \\\\\n",
       "\\end{tabular}\n"
      ],
      "text/markdown": [
       "\n",
       "| R | b.start |\n",
       "|---|---|\n",
       "| 0.00001 | 4       |\n",
       "\n"
      ],
      "text/plain": [
       "  R       b.start\n",
       "1 0.00001 4      "
      ]
     },
     "metadata": {},
     "output_type": "display_data"
    }
   ],
   "source": [
    "R = 0.00001\n",
    "b.start = 4\n",
    "\n",
    "data.frame(R, b.start)"
   ]
  },
  {
   "cell_type": "markdown",
   "metadata": {},
   "source": [
    "#### Iterate"
   ]
  },
  {
   "cell_type": "markdown",
   "metadata": {},
   "source": [
    "**Iteration 0**"
   ]
  },
  {
   "cell_type": "code",
   "execution_count": 27,
   "metadata": {
    "hide_input": true
   },
   "outputs": [
    {
     "data": {
      "image/png": "[encoded data removed]",
      "text/plain": [
       "plot without title"
      ]
     },
     "metadata": {},
     "output_type": "display_data"
    }
   ],
   "source": [
    "b = b.start\n",
    "step_size = R*cost_slope(b, data$x1, data$outcome)\n",
    "b.next = b - step_size\n",
    "\n",
    "d = data.frame(x1=seq(-1, 1, 0.01), outcome=aaply(seq(-1, 1, 0.01), 1, function(x) model(x, b)))\n",
    "p1 = ggplot(data) +\n",
    "     ggtitle(\"Data & Model\", sprintf(\"b=%0.2f\", b)) +\n",
    "     xlim(-1, 1) + ylim(-100,100) +\n",
    "     geom_point(aes(x=x1, y=outcome), color=PALETTE[3]) +\n",
    "     geom_line(aes(x=x1, y=outcome), data=d)\n",
    "\n",
    "d = data.frame(b=seq(-7, 7, 0.01), cost=aaply(seq(-7, 7, 0.01), 1, function(b) cost(b, data$x1, data$outcome)))\n",
    "d[is.infinite(d$cost), \"cost\"] = NA\n",
    "# d\n",
    "tangent.intercept = cost(b, data$x1, data$outcome)-cost_slope(b, data$x1, data$outcome)*b\n",
    "tangent.slope = cost_slope(b, data$x1, data$outcome)\n",
    "p2 = ggplot(d) +\n",
    "     ggtitle(\"Cost\", sprintf(\"Cost Slope = %0.2f @ b=%0.2f, step size=%0.2f\", cost_slope(b, data$x1, data$outcome), b, -step_size)) +\n",
    "     ylim(-100000, 200000) +\n",
    "     geom_line(aes(x=b, y=cost), na.rm=TRUE) +\n",
    "     geom_vline(xintercept=b, lty=\"dashed\") +\n",
    "     geom_abline(intercept=tangent.intercept, slope=tangent.slope, color=PALETTE[2]) +\n",
    "     geom_point(x=b, y=cost(b, data$x1, data$outcome), size=2) +\n",
    "     geom_point(x=b.next, y=tangent.intercept+tangent.slope*b.next, color=PALETTE[1], size=2)\n",
    "                                                \n",
    "grid.arrange(p1, p2, nrow=1)"
   ]
  },
  {
   "cell_type": "markdown",
   "metadata": {},
   "source": [
    "**Iteration 1**"
   ]
  },
  {
   "cell_type": "code",
   "execution_count": 28,
   "metadata": {
    "hide_input": true
   },
   "outputs": [
    {
     "data": {
      "image/png": "[encoded data removed]",
      "text/plain": [
       "plot without title"
      ]
     },
     "metadata": {},
     "output_type": "display_data"
    }
   ],
   "source": [
    "b = b.start\n",
    "step_size = R*cost_slope(b, data$x1, data$outcome)\n",
    "b = b - step_size\n",
    "\n",
    "step_size = R*cost_slope(b, data$x1, data$outcome)\n",
    "b.next = b - step_size\n",
    "\n",
    "d = data.frame(x1=seq(-1, 1, 0.01), outcome=aaply(seq(-1, 1, 0.01), 1, function(x) model(x, b)))\n",
    "p1 = ggplot(data) +\n",
    "     ggtitle(\"Data & Model\", sprintf(\"b=%0.2f\", b)) +\n",
    "     xlim(-1, 1) + ylim(-100,100) +\n",
    "     geom_point(aes(x=x1, y=outcome), color=PALETTE[3]) +\n",
    "     geom_line(aes(x=x1, y=outcome), data=d)\n",
    "\n",
    "d = data.frame(b=seq(-7, 7, 0.01), cost=aaply(seq(-7, 7, 0.01), 1, function(b) cost(b, data$x1, data$outcome)))\n",
    "d[is.infinite(d$cost), \"cost\"] = NA\n",
    "# d\n",
    "tangent.intercept = cost(b, data$x1, data$outcome)-cost_slope(b, data$x1, data$outcome)*b\n",
    "tangent.slope = cost_slope(b, data$x1, data$outcome)\n",
    "p2 = ggplot(d) +\n",
    "     ggtitle(\"Cost\", sprintf(\"Cost Slope = %0.2f @ b=%0.2f, step size=%0.2f\", cost_slope(b, data$x1, data$outcome), b, -step_size)) +\n",
    "     ylim(-100000, 200000) +\n",
    "     geom_line(aes(x=b, y=cost), na.rm=TRUE) +\n",
    "     geom_vline(xintercept=b, lty=\"dashed\") +\n",
    "     geom_abline(intercept=tangent.intercept, slope=tangent.slope, color=PALETTE[2]) +\n",
    "     geom_point(x=b, y=cost(b, data$x1, data$outcome), size=2) +\n",
    "     geom_point(x=b.next, y=tangent.intercept+tangent.slope*b.next, color=PALETTE[1], size=2)\n",
    "                                                \n",
    "grid.arrange(p1, p2, nrow=1)"
   ]
  },
  {
   "cell_type": "markdown",
   "metadata": {},
   "source": [
    "**Iteration 2**"
   ]
  },
  {
   "cell_type": "code",
   "execution_count": 29,
   "metadata": {
    "hide_input": true
   },
   "outputs": [
    {
     "data": {
      "image/png": "[encoded data removed]",
      "text/plain": [
       "plot without title"
      ]
     },
     "metadata": {},
     "output_type": "display_data"
    }
   ],
   "source": [
    "b = b.start\n",
    "for (i in 1:2) { step_size = R*cost_slope(b, data$x1, data$outcome)\n",
    "                 b = b - step_size }\n",
    "\n",
    "step_size = R*cost_slope(b, data$x1, data$outcome)\n",
    "b = b - step_size\n",
    "\n",
    "step_size = R*cost_slope(b, data$x1, data$outcome)\n",
    "b.next = b - step_size\n",
    "\n",
    "d = data.frame(x1=seq(-1, 1, 0.01), outcome=aaply(seq(-1, 1, 0.01), 1, function(x) model(x, b)))\n",
    "p1 = ggplot(data) +\n",
    "     ggtitle(\"Data & Model\", sprintf(\"b=%0.2f\", b)) +\n",
    "     xlim(-1, 1) + ylim(-100,100) +\n",
    "     geom_point(aes(x=x1, y=outcome), color=PALETTE[3]) +\n",
    "     geom_line(aes(x=x1, y=outcome), data=d)\n",
    "\n",
    "d = data.frame(b=seq(-7, 7, 0.01), cost=aaply(seq(-7, 7, 0.01), 1, function(b) cost(b, data$x1, data$outcome)))\n",
    "d[is.infinite(d$cost), \"cost\"] = NA\n",
    "# d\n",
    "tangent.intercept = cost(b, data$x1, data$outcome)-cost_slope(b, data$x1, data$outcome)*b\n",
    "tangent.slope = cost_slope(b, data$x1, data$outcome)\n",
    "p2 = ggplot(d) +\n",
    "     ggtitle(\"Cost\", sprintf(\"Cost Slope = %0.2f @ b=%0.2f, step size=%0.2f\", cost_slope(b, data$x1, data$outcome), b, -step_size)) +\n",
    "     ylim(-100000, 200000) +\n",
    "     geom_line(aes(x=b, y=cost), na.rm=TRUE) +\n",
    "     geom_vline(xintercept=b, lty=\"dashed\") +\n",
    "     geom_abline(intercept=tangent.intercept, slope=tangent.slope, color=PALETTE[2]) +\n",
    "     geom_point(x=b, y=cost(b, data$x1, data$outcome), size=2) +\n",
    "     geom_point(x=b.next, y=tangent.intercept+tangent.slope*b.next, color=PALETTE[1], size=2)\n",
    "                                                \n",
    "grid.arrange(p1, p2, nrow=1)"
   ]
  },
  {
   "cell_type": "markdown",
   "metadata": {},
   "source": [
    "**Iteration 100**\n",
    "\n",
    "Batch gradient descent starting at b = 4 converges to optimal solution at b = 3."
   ]
  },
  {
   "cell_type": "code",
   "execution_count": 30,
   "metadata": {
    "hide_input": true
   },
   "outputs": [
    {
     "data": {
      "image/png": "[encoded data removed]",
      "text/plain": [
       "plot without title"
      ]
     },
     "metadata": {},
     "output_type": "display_data"
    }
   ],
   "source": [
    "b = b.start\n",
    "for (i in 1:100) { step_size = R*cost_slope(b, data$x1, data$outcome)\n",
    "                 b = b - step_size }\n",
    "\n",
    "step_size = R*cost_slope(b, data$x1, data$outcome)\n",
    "b = b - step_size\n",
    "\n",
    "step_size = R*cost_slope(b, data$x1, data$outcome)\n",
    "b.next = b - step_size\n",
    "\n",
    "d = data.frame(x1=seq(-1, 1, 0.01), outcome=aaply(seq(-1, 1, 0.01), 1, function(x) model(x, b)))\n",
    "p1 = ggplot(data) +\n",
    "     ggtitle(\"Data & Model\", sprintf(\"b=%0.2f\", b)) +\n",
    "     xlim(-1, 1) + ylim(-100,100) +\n",
    "     geom_point(aes(x=x1, y=outcome), color=PALETTE[3]) +\n",
    "     geom_line(aes(x=x1, y=outcome), data=d)\n",
    "\n",
    "d = data.frame(b=seq(-7, 7, 0.01), cost=aaply(seq(-7, 7, 0.01), 1, function(b) cost(b, data$x1, data$outcome)))\n",
    "d[is.infinite(d$cost), \"cost\"] = NA\n",
    "# d\n",
    "tangent.intercept = cost(b, data$x1, data$outcome)-cost_slope(b, data$x1, data$outcome)*b\n",
    "tangent.slope = cost_slope(b, data$x1, data$outcome)\n",
    "p2 = ggplot(d) +\n",
    "     ggtitle(\"Cost\", sprintf(\"Cost Slope = %0.2f @ b=%0.2f, step size=%0.2f\", cost_slope(b, data$x1, data$outcome), b, -step_size)) +\n",
    "     ylim(-100000, 200000) +\n",
    "     geom_line(aes(x=b, y=cost), na.rm=TRUE) +\n",
    "     geom_vline(xintercept=b, lty=\"dashed\") +\n",
    "     geom_abline(intercept=tangent.intercept, slope=tangent.slope, color=PALETTE[2]) +\n",
    "     geom_point(x=b, y=cost(b, data$x1, data$outcome), size=2) +\n",
    "     geom_point(x=b.next, y=tangent.intercept+tangent.slope*b.next, color=PALETTE[1], size=2)\n",
    "                                                \n",
    "grid.arrange(p1, p2, nrow=1)"
   ]
  },
  {
   "cell_type": "markdown",
   "metadata": {},
   "source": [
    "### Set Parameters | Cost: Sum of Squared Errors, Non-Convex, Non-Optimal Solution"
   ]
  },
  {
   "cell_type": "markdown",
   "metadata": {},
   "source": [
    "**Initiatialization**"
   ]
  },
  {
   "cell_type": "code",
   "execution_count": 31,
   "metadata": {
    "hide_input": true
   },
   "outputs": [
    {
     "data": {
      "text/html": [
       "<table>\n",
       "<thead><tr><th scope=col>R</th><th scope=col>b.start</th></tr></thead>\n",
       "<tbody>\n",
       "\t<tr><td>0.00001</td><td>-4     </td></tr>\n",
       "</tbody>\n",
       "</table>\n"
      ],
      "text/latex": [
       "\\begin{tabular}{r|ll}\n",
       " R & b.start\\\\\n",
       "\\hline\n",
       "\t 0.00001 & -4     \\\\\n",
       "\\end{tabular}\n"
      ],
      "text/markdown": [
       "\n",
       "| R | b.start |\n",
       "|---|---|\n",
       "| 0.00001 | -4      |\n",
       "\n"
      ],
      "text/plain": [
       "  R       b.start\n",
       "1 0.00001 -4     "
      ]
     },
     "metadata": {},
     "output_type": "display_data"
    }
   ],
   "source": [
    "R = 0.00001\n",
    "b.start = -4\n",
    "\n",
    "data.frame(R, b.start)"
   ]
  },
  {
   "cell_type": "markdown",
   "metadata": {},
   "source": [
    "**Iteration 0**"
   ]
  },
  {
   "cell_type": "code",
   "execution_count": 32,
   "metadata": {
    "hide_input": true
   },
   "outputs": [
    {
     "data": {
      "image/png": "[encoded data removed]",
      "text/plain": [
       "plot without title"
      ]
     },
     "metadata": {},
     "output_type": "display_data"
    }
   ],
   "source": [
    "b = b.start\n",
    "step_size = R*cost_slope(b, data$x1, data$outcome)\n",
    "b.next = b - step_size\n",
    "\n",
    "d = data.frame(x1=seq(-1, 1, 0.01), outcome=aaply(seq(-1, 1, 0.01), 1, function(x) model(x, b)))\n",
    "p1 = ggplot(data) +\n",
    "     ggtitle(\"Data & Model\", sprintf(\"b=%0.2f\", b)) +\n",
    "     xlim(-1, 1) + ylim(-100,100) +\n",
    "     geom_point(aes(x=x1, y=outcome), color=PALETTE[3]) +\n",
    "     geom_line(aes(x=x1, y=outcome), data=d, na.rm=TRUE)\n",
    "\n",
    "d = data.frame(b=seq(-7, 7, 0.01), cost=aaply(seq(-7, 7, 0.01), 1, function(b) cost(b, data$x1, data$outcome)))\n",
    "d[is.infinite(d$cost), \"cost\"] = NA\n",
    "# d\n",
    "tangent.intercept = cost(b, data$x1, data$outcome)-cost_slope(b, data$x1, data$outcome)*b\n",
    "tangent.slope = cost_slope(b, data$x1, data$outcome)\n",
    "p2 = ggplot(d) +\n",
    "     ggtitle(\"Cost\", sprintf(\"Cost Slope = %0.2f @ b=%0.2f, step size=%0.2f\", cost_slope(b, data$x1, data$outcome), b, -step_size)) +\n",
    "     ylim(-100000, 200000) +\n",
    "     geom_line(aes(x=b, y=cost), na.rm=TRUE) +\n",
    "     geom_vline(xintercept=b, lty=\"dashed\") +\n",
    "     geom_abline(intercept=tangent.intercept, slope=tangent.slope, color=PALETTE[2]) +\n",
    "     geom_point(x=b, y=cost(b, data$x1, data$outcome), size=2) +\n",
    "     geom_point(x=b.next, y=tangent.intercept+tangent.slope*b.next, color=PALETTE[1], size=2)\n",
    "                                                \n",
    "grid.arrange(p1, p2, nrow=1)"
   ]
  },
  {
   "cell_type": "markdown",
   "metadata": {},
   "source": [
    "**Iteration 1**"
   ]
  },
  {
   "cell_type": "code",
   "execution_count": 33,
   "metadata": {
    "hide_input": true
   },
   "outputs": [
    {
     "data": {
      "image/png": "[encoded data removed]",
      "text/plain": [
       "plot without title"
      ]
     },
     "metadata": {},
     "output_type": "display_data"
    }
   ],
   "source": [
    "b = b.start\n",
    "step_size = R*cost_slope(b, data$x1, data$outcome)\n",
    "b = b - step_size\n",
    "\n",
    "step_size = R*cost_slope(b, data$x1, data$outcome)\n",
    "b.next = b - step_size\n",
    "\n",
    "d = data.frame(x1=seq(-1, 1, 0.01), outcome=aaply(seq(-1, 1, 0.01), 1, function(x) model(x, b)))\n",
    "p1 = ggplot(data) +\n",
    "     ggtitle(\"Data & Model\", sprintf(\"b=%0.2f\", b)) +\n",
    "     xlim(-1, 1) + ylim(-100,100) +\n",
    "     geom_point(aes(x=x1, y=outcome), color=PALETTE[3]) +\n",
    "     geom_line(aes(x=x1, y=outcome), data=d)\n",
    "\n",
    "d = data.frame(b=seq(-7, 7, 0.01), cost=aaply(seq(-7, 7, 0.01), 1, function(b) cost(b, data$x1, data$outcome)))\n",
    "d[is.infinite(d$cost), \"cost\"] = NA\n",
    "# d\n",
    "tangent.intercept = cost(b, data$x1, data$outcome)-cost_slope(b, data$x1, data$outcome)*b\n",
    "tangent.slope = cost_slope(b, data$x1, data$outcome)\n",
    "p2 = ggplot(d) +\n",
    "     ggtitle(\"Cost\", sprintf(\"Cost Slope = %0.2f @ b=%0.2f, step size=%0.2f\", cost_slope(b, data$x1, data$outcome), b, -step_size)) +\n",
    "     ylim(-100000, 200000) +\n",
    "     geom_line(aes(x=b, y=cost), na.rm=TRUE) +\n",
    "     geom_vline(xintercept=b, lty=\"dashed\") +\n",
    "     geom_abline(intercept=tangent.intercept, slope=tangent.slope, color=PALETTE[2]) +\n",
    "     geom_point(x=b, y=cost(b, data$x1, data$outcome), size=2) +\n",
    "     geom_point(x=b.next, y=tangent.intercept+tangent.slope*b.next, color=PALETTE[1], size=2)\n",
    "                                                \n",
    "grid.arrange(p1, p2, nrow=1)"
   ]
  },
  {
   "cell_type": "markdown",
   "metadata": {},
   "source": [
    "**Iteration 2**"
   ]
  },
  {
   "cell_type": "code",
   "execution_count": 34,
   "metadata": {
    "hide_input": true
   },
   "outputs": [
    {
     "data": {
      "image/png": "[encoded data removed]",
      "text/plain": [
       "plot without title"
      ]
     },
     "metadata": {},
     "output_type": "display_data"
    }
   ],
   "source": [
    "b = b.start\n",
    "for (i in 1:2) { step_size = R*cost_slope(b, data$x1, data$outcome)\n",
    "                 b = b - step_size }\n",
    "\n",
    "step_size = R*cost_slope(b, data$x1, data$outcome)\n",
    "b = b - step_size\n",
    "\n",
    "step_size = R*cost_slope(b, data$x1, data$outcome)\n",
    "b.next = b - step_size\n",
    "\n",
    "d = data.frame(x1=seq(-1, 1, 0.01), outcome=aaply(seq(-1, 1, 0.01), 1, function(x) model(x, b)))\n",
    "p1 = ggplot(data) +\n",
    "     ggtitle(\"Data & Model\", sprintf(\"b=%0.2f\", b)) +\n",
    "     xlim(-1, 1) + ylim(-100,100) +\n",
    "     geom_point(aes(x=x1, y=outcome), color=PALETTE[3]) +\n",
    "     geom_line(aes(x=x1, y=outcome), data=d)\n",
    "\n",
    "d = data.frame(b=seq(-7, 7, 0.01), cost=aaply(seq(-7, 7, 0.01), 1, function(b) cost(b, data$x1, data$outcome)))\n",
    "d[is.infinite(d$cost), \"cost\"] = NA\n",
    "# d\n",
    "tangent.intercept = cost(b, data$x1, data$outcome)-cost_slope(b, data$x1, data$outcome)*b\n",
    "tangent.slope = cost_slope(b, data$x1, data$outcome)\n",
    "p2 = ggplot(d) +\n",
    "     ggtitle(\"Cost\", sprintf(\"Cost Slope = %0.2f @ b=%0.2f, step size=%0.2f\", cost_slope(b, data$x1, data$outcome), b, -step_size)) +\n",
    "     ylim(-100000, 200000) +\n",
    "     geom_line(aes(x=b, y=cost), na.rm=TRUE) +\n",
    "     geom_vline(xintercept=b, lty=\"dashed\") +\n",
    "     geom_abline(intercept=tangent.intercept, slope=tangent.slope, color=PALETTE[2]) +\n",
    "     geom_point(x=b, y=cost(b, data$x1, data$outcome), size=2) +\n",
    "     geom_point(x=b.next, y=tangent.intercept+tangent.slope*b.next, color=PALETTE[1], size=2)\n",
    "                                                \n",
    "grid.arrange(p1, p2, nrow=1)"
   ]
  },
  {
   "cell_type": "markdown",
   "metadata": {},
   "source": [
    "**Iteration 100**\n",
    "\n",
    "Batch gradient descent starting from b = -4 converges to a non-optimal solution at b = -1.36."
   ]
  },
  {
   "cell_type": "code",
   "execution_count": 35,
   "metadata": {
    "hide_input": true
   },
   "outputs": [
    {
     "data": {
      "image/png": "[encoded data removed]",
      "text/plain": [
       "plot without title"
      ]
     },
     "metadata": {},
     "output_type": "display_data"
    }
   ],
   "source": [
    "b = b.start\n",
    "for (i in 1:100) { step_size = R*cost_slope(b, data$x1, data$outcome)\n",
    "                 b = b - step_size }\n",
    "\n",
    "step_size = R*cost_slope(b, data$x1, data$outcome)\n",
    "b = b - step_size\n",
    "\n",
    "step_size = R*cost_slope(b, data$x1, data$outcome)\n",
    "b.next = b - step_size\n",
    "\n",
    "d = data.frame(x1=seq(-1, 1, 0.01), outcome=aaply(seq(-1, 1, 0.01), 1, function(x) model(x, b)))\n",
    "p1 = ggplot(data) +\n",
    "     ggtitle(\"Data & Model\", sprintf(\"b=%0.2f\", b)) +\n",
    "     xlim(-1, 1) + ylim(-100,100) +\n",
    "     geom_point(aes(x=x1, y=outcome), color=PALETTE[3]) +\n",
    "     geom_line(aes(x=x1, y=outcome), data=d)\n",
    "\n",
    "d = data.frame(b=seq(-7, 7, 0.01), cost=aaply(seq(-7, 7, 0.01), 1, function(b) cost(b, data$x1, data$outcome)))\n",
    "d[is.infinite(d$cost), \"cost\"] = NA\n",
    "# d\n",
    "tangent.intercept = cost(b, data$x1, data$outcome)-cost_slope(b, data$x1, data$outcome)*b\n",
    "tangent.slope = cost_slope(b, data$x1, data$outcome)\n",
    "p2 = ggplot(d) +\n",
    "     ggtitle(\"Cost\", sprintf(\"Cost Slope = %0.2f @ b=%0.2f, step size=%0.2f\", cost_slope(b, data$x1, data$outcome), b, -step_size)) +\n",
    "     ylim(-100000, 200000) +\n",
    "     geom_line(aes(x=b, y=cost), na.rm=TRUE) +\n",
    "     geom_vline(xintercept=b, lty=\"dashed\") +\n",
    "     geom_abline(intercept=tangent.intercept, slope=tangent.slope, color=PALETTE[2]) +\n",
    "     geom_point(x=b, y=cost(b, data$x1, data$outcome), size=2) +\n",
    "     geom_point(x=b.next, y=tangent.intercept+tangent.slope*b.next, color=PALETTE[1], size=2)\n",
    "                                                \n",
    "grid.arrange(p1, p2, nrow=1)"
   ]
  },
  {
   "cell_type": "markdown",
   "metadata": {},
   "source": [
    "<p style=\"text-align:left; font-size:10px;\">\n",
    "Copyright (c) Berkeley Data Analytics Group, LLC\n",
    "<span style=\"float:right;\">\n",
    "Document revised October 4, 2019\n",
    "</span>\n",
    "</p>"
   ]
  }
 ],
 "metadata": {
  "hide_code_all_hidden": false,
  "hide_input": false,
  "kernelspec": {
   "display_name": "R",
   "language": "R",
   "name": "ir"
  },
  "language_info": {
   "codemirror_mode": "r",
   "file_extension": ".r",
   "mimetype": "text/x-r-source",
   "name": "R",
   "pygments_lexer": "r",
   "version": "3.6.1"
  },
  "toc": {
   "base_numbering": 1,
   "nav_menu": {},
   "number_sections": true,
   "sideBar": true,
   "skip_h1_title": true,
   "title_cell": "Table of Contents",
   "title_sidebar": "Contents",
   "toc_cell": false,
   "toc_position": {
    "height": "calc(100% - 180px)",
    "left": "10px",
    "top": "150px",
    "width": "255.865px"
   },
   "toc_section_display": true,
   "toc_window_display": true
  }
 },
 "nbformat": 4,
 "nbformat_minor": 2
}
