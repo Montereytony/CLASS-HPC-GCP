{
 "cells": [
  {
   "cell_type": "markdown",
   "metadata": {
    "hideCode": false,
    "hidePrompt": false
   },
   "source": [
    "# More Regression\n",
    "\n",
    "![](banner_more_regression.jpg)"
   ]
  },
  {
   "cell_type": "code",
   "execution_count": 1,
   "metadata": {
    "hide_input": true
   },
   "outputs": [
    {
     "data": {
      "text/html": [
       "<p style=\"text-align:center; font-size:10px;\">\n",
       ".................................................... start of document ....................................................\n",
       "</p>"
      ]
     },
     "metadata": {},
     "output_type": "display_data"
    }
   ],
   "source": [
    "f = \"setup.R\"; for (i in 1:10) { if (file.exists(f)) break else f = paste0(\"../\", f) }; source(f)                       "
   ]
  },
  {
   "cell_type": "markdown",
   "metadata": {},
   "source": [
    "## Introduction\n",
    "\n",
    "Motivation, context, history, related topics ..."
   ]
  },
  {
   "cell_type": "markdown",
   "metadata": {},
   "source": [
    "## Terms"
   ]
  },
  {
   "cell_type": "markdown",
   "metadata": {},
   "source": [
    "## Data"
   ]
  },
  {
   "cell_type": "code",
   "execution_count": 2,
   "metadata": {
    "hide_input": true
   },
   "outputs": [
    {
     "data": {
      "text/html": [
       "<table><tr><td style=\"background-color:white; vertical-align:top; padding-right:40px;\"><table>\n",
       "<caption><center><font color=\"black\"><b>data (first few obs)</b></font></center></caption>\n",
       " <thead>\n",
       "  <tr>\n",
       "   <th style=\"text-align:right;background-color: #FFFFFF !important;\"> x1 </th>\n",
       "   <th style=\"text-align:right;background-color: #FFFFFF !important;\"> x2 </th>\n",
       "   <th style=\"text-align:right;background-color: #FFFFFF !important;\"> outcome </th>\n",
       "  </tr>\n",
       " </thead>\n",
       "<tbody>\n",
       "  <tr>\n",
       "   <td style=\"text-align:right;\"> 1 </td>\n",
       "   <td style=\"text-align:right;\"> 3 </td>\n",
       "   <td style=\"text-align:right;\"> 1 </td>\n",
       "  </tr>\n",
       "  <tr>\n",
       "   <td style=\"text-align:right;\"> 2 </td>\n",
       "   <td style=\"text-align:right;\"> 6 </td>\n",
       "   <td style=\"text-align:right;\"> 2 </td>\n",
       "  </tr>\n",
       "  <tr>\n",
       "   <td style=\"text-align:right;\"> 3 </td>\n",
       "   <td style=\"text-align:right;\"> 9 </td>\n",
       "   <td style=\"text-align:right;\"> 3 </td>\n",
       "  </tr>\n",
       "  <tr>\n",
       "   <td style=\"text-align:right;\"> 0 </td>\n",
       "   <td style=\"text-align:right;\"> 9 </td>\n",
       "   <td style=\"text-align:right;\"> 4 </td>\n",
       "  </tr>\n",
       "  <tr>\n",
       "   <td style=\"text-align:right;\"> 3 </td>\n",
       "   <td style=\"text-align:right;\"> 4 </td>\n",
       "   <td style=\"text-align:right;\"> 5 </td>\n",
       "  </tr>\n",
       "  <tr>\n",
       "   <td style=\"text-align:right;\"> 2 </td>\n",
       "   <td style=\"text-align:right;\"> 8 </td>\n",
       "   <td style=\"text-align:right;\"> 6 </td>\n",
       "  </tr>\n",
       "  <tr>\n",
       "   <td style=\"text-align:right;\"> 1 </td>\n",
       "   <td style=\"text-align:right;\"> 3 </td>\n",
       "   <td style=\"text-align:right;\"> 7 </td>\n",
       "  </tr>\n",
       "  <tr>\n",
       "   <td style=\"text-align:right;\"> 4 </td>\n",
       "   <td style=\"text-align:right;\"> 8 </td>\n",
       "   <td style=\"text-align:right;\"> 8 </td>\n",
       "  </tr>\n",
       "  <tr>\n",
       "   <td style=\"text-align:right;\"> 2 </td>\n",
       "   <td style=\"text-align:right;\"> 9 </td>\n",
       "   <td style=\"text-align:right;\"> 9 </td>\n",
       "  </tr>\n",
       "  <tr>\n",
       "   <td style=\"text-align:right;\"> 2 </td>\n",
       "   <td style=\"text-align:right;\"> 0 </td>\n",
       "   <td style=\"text-align:right;\"> 10 </td>\n",
       "  </tr>\n",
       "</tbody>\n",
       "</table></td><td style=\"background-color:white; vertical-align:top;\"><table>\n",
       "<caption><center><font color=\"black\"><b>new</b></font></center></caption>\n",
       " <thead>\n",
       "  <tr>\n",
       "   <th style=\"text-align:right;background-color: #FFFFFF !important;\"> x1 </th>\n",
       "   <th style=\"text-align:right;background-color: #FFFFFF !important;\"> x2 </th>\n",
       "  </tr>\n",
       " </thead>\n",
       "<tbody>\n",
       "  <tr>\n",
       "   <td style=\"text-align:right;\"> 5.5 </td>\n",
       "   <td style=\"text-align:right;\"> 7.5 </td>\n",
       "  </tr>\n",
       "</tbody>\n",
       "</table></td></tr></table>"
      ]
     },
     "metadata": {},
     "output_type": "display_data"
    },
    {
     "data": {
      "image/png": "[encoded data removed]",
      "text/plain": [
       "plot without title"
      ]
     },
     "metadata": {
      "image/png": {
       "height": 360,
       "width": 840
      },
      "text/plain": {
       "height": 360,
       "width": 840
      }
     },
     "output_type": "display_data"
    }
   ],
   "source": [
    "data = data.frame(x1=c(1,2,3,0,3,2,1,4,2,2,1,3,2,2,3,1,1,5,4,1,5,1,5,0,1,4,5,5,5,3,5,8,9,9,5,8),\n",
    "                  x2=c(3,6,9,9,4,8,3,8,9,0,9,9,7,4,5,5,4,5,6,3,2,4,3,5,1,1,5,1,2,3,4,1,4,3,0,8),\n",
    "                  outcome=c(1,2,3,4,5,6,7,8,9,10,11,12,13,14,15,16,17,18,19,20,21,22,23,24,25,26,27,28,29,30,31,32,33,34,35,36))\n",
    "new = data.frame(x1=5.5, x2=7.5)\n",
    "\n",
    "layout(fmt(data[1:10,], \"data (first few obs)\"), fmt(new))\n",
    "grid.arrange(ggplot(data) + xlim(0,10) + ylim(0,40) +\n",
    "             geom_point(aes(x=x1, y=outcome)) +\n",
    "             geom_point(aes(x=new$x1, y=seq(0,40,2)), data=rbind.dup(new,21), color=NEW_COLOR),\n",
    "             \n",
    "             ggplot(data) + xlim(0,10) + ylim(0,40) +\n",
    "             geom_point(aes(x=x2, y=outcome)) +\n",
    "             geom_point(aes(x=new$x2, y=seq(0,40,2)), data=rbind.dup(new,21), color=NEW_COLOR),\n",
    "             \n",
    "             nrow=1)"
   ]
  },
  {
   "cell_type": "markdown",
   "metadata": {},
   "source": [
    "## Regression by Support Vector Machine\n",
    "\n",
    "Outcomes are determined based on observations' distances from the separation boundary.  Regression by support vector machine is also known as support vector regression. \n",
    "\n",
    "Use `svm` function, set hyperparameter `type=\"eps-regression\"`."
   ]
  },
  {
   "cell_type": "code",
   "execution_count": 3,
   "metadata": {
    "hide_input": true
   },
   "outputs": [
    {
     "data": {
      "text/html": [
       "<table>\n",
       "<caption><center><font color=\"black\"><b>new</b></font></center></caption>\n",
       " <thead>\n",
       "  <tr>\n",
       "   <th style=\"text-align:right;background-color: #FFFFFF !important;\"> x1 </th>\n",
       "   <th style=\"text-align:right;background-color: #FFFFFF !important;\"> x2 </th>\n",
       "   <th style=\"text-align:right;background-color: #FFFFFF !important;\"> outcome.predicted </th>\n",
       "  </tr>\n",
       " </thead>\n",
       "<tbody>\n",
       "  <tr>\n",
       "   <td style=\"text-align:right;\"> 5.5 </td>\n",
       "   <td style=\"text-align:right;\"> 7.5 </td>\n",
       "   <td style=\"text-align:right;\"> 22.78789 </td>\n",
       "  </tr>\n",
       "</tbody>\n",
       "</table>"
      ]
     },
     "metadata": {},
     "output_type": "display_data"
    },
    {
     "data": {
      "image/png": "[encoded data removed]",
      "text/plain": [
       "plot without title"
      ]
     },
     "metadata": {
      "image/png": {
       "height": 360,
       "width": 840
      },
      "text/plain": {
       "height": 360,
       "width": 840
      }
     },
     "output_type": "display_data"
    }
   ],
   "source": [
    "model = svm(outcome ~ x1+x2, data, scale=TRUE, type=\"eps-regression\", kernel=\"radial\", gamma=1, cost=1)\n",
    "new$outcome.predicted = predict(model, new)\n",
    "\n",
    "fmt(new)\n",
    "grid.arrange(ggplot(data) + xlim(0,10) + ylim(0,40)+\n",
    "             geom_point(aes(x=x1, y=outcome)) +\n",
    "             geom_point(aes(x=x1, y=outcome.predicted), data=new, color=\"gold\", size=6) +\n",
    "             geom_point(aes(x=x1, y=outcome.predicted), data=new, color=NEW_COLOR),\n",
    "             \n",
    "             ggplot(data) + xlim(0,10) + ylim(0,40) +\n",
    "             geom_point(aes(x=x2, y=outcome)) +\n",
    "             geom_point(aes(x=x2, y=outcome.predicted), data=new, color=\"gold\", size=6) +\n",
    "             geom_point(aes(x=x2, y=outcome.predicted), data=new, color=NEW_COLOR),\n",
    "             \n",
    "             nrow=1)"
   ]
  },
  {
   "cell_type": "markdown",
   "metadata": {},
   "source": [
    "## Regression by Neural Network\n",
    "\n",
    "Remove the output node's activation function, so that the output is not constrained to be in range 0 to 1.\n",
    "\n",
    "Use `neuralnet` function, set hyperparameter `linear.output=TRUE`."
   ]
  },
  {
   "cell_type": "code",
   "execution_count": 4,
   "metadata": {
    "hide_input": true
   },
   "outputs": [
    {
     "data": {
      "image/png": "[encoded data removed]",
      "text/plain": [
       "plot without title"
      ]
     },
     "metadata": {
      "image/png": {
       "height": 480,
       "width": 480
      },
      "text/plain": {
       "height": 480,
       "width": 480
      }
     },
     "output_type": "display_data"
    }
   ],
   "source": [
    "set.seed(0)\n",
    "model = neuralnet(outcome ~ x1+x2, data, hidden=2, algorithm=\"rprop+\", act.fct=\"logistic\", rep=1, linear.output=TRUE)\n",
    "\n",
    "output_size(4,4)\n",
    "plot(model, rep=1, fill=\"gray\", cex=0.7, lwd=0.5, information=FALSE)\n",
    "output_size(restore)"
   ]
  },
  {
   "cell_type": "code",
   "execution_count": 5,
   "metadata": {
    "hide_input": true
   },
   "outputs": [
    {
     "data": {
      "text/html": [
       "<table>\n",
       "<caption><center><font color=\"black\"><b>new</b></font></center></caption>\n",
       " <thead>\n",
       "  <tr>\n",
       "   <th style=\"text-align:right;background-color: #FFFFFF !important;\"> x1 </th>\n",
       "   <th style=\"text-align:right;background-color: #FFFFFF !important;\"> x2 </th>\n",
       "   <th style=\"text-align:right;background-color: #FFFFFF !important;\"> outcome.predicted </th>\n",
       "  </tr>\n",
       " </thead>\n",
       "<tbody>\n",
       "  <tr>\n",
       "   <td style=\"text-align:right;\"> 5.5 </td>\n",
       "   <td style=\"text-align:right;\"> 7.5 </td>\n",
       "   <td style=\"text-align:right;\"> 18.74268 </td>\n",
       "  </tr>\n",
       "</tbody>\n",
       "</table>"
      ]
     },
     "metadata": {},
     "output_type": "display_data"
    },
    {
     "data": {
      "image/png": "[encoded data removed]",
      "text/plain": [
       "plot without title"
      ]
     },
     "metadata": {
      "image/png": {
       "height": 360,
       "width": 840
      },
      "text/plain": {
       "height": 360,
       "width": 840
      }
     },
     "output_type": "display_data"
    }
   ],
   "source": [
    "new$outcome.predicted = as.vector(compute(model, new[,1:2], rep=1)$net.result)\n",
    "\n",
    "fmt(new)\n",
    "grid.arrange(ggplot(data) + xlim(0,10) + ylim(0,40)+\n",
    "             geom_point(aes(x=x1, y=outcome)) +\n",
    "             geom_point(aes(x=x1, y=outcome.predicted), data=new, color=\"gold\", size=6) +\n",
    "             geom_point(aes(x=x1, y=outcome.predicted), data=new, color=NEW_COLOR),\n",
    "             \n",
    "             ggplot(data) + xlim(0,10) + ylim(0,40) +\n",
    "             geom_point(aes(x=x2, y=outcome)) +\n",
    "             geom_point(aes(x=x2, y=outcome.predicted), data=new, color=\"gold\", size=6) +\n",
    "             geom_point(aes(x=x2, y=outcome.predicted), data=new, color=NEW_COLOR),\n",
    "             \n",
    "             nrow=1)"
   ]
  },
  {
   "cell_type": "markdown",
   "metadata": {},
   "source": [
    "## Regression by Decision Tree\n",
    "\n",
    "Leaf nodes are labeled with numbers, rather than categorical values.  These numbers are averages of outcome variable values of observations associated with the leaf nodes.\n",
    "\n",
    "Use `rpart` function, set hyperparameter `method=\"anova\"`."
   ]
  },
  {
   "cell_type": "code",
   "execution_count": 6,
   "metadata": {
    "hide_input": true
   },
   "outputs": [
    {
     "data": {
      "image/png": "[encoded data removed]",
      "text/plain": [
       "plot without title"
      ]
     },
     "metadata": {
      "image/png": {
       "height": 360,
       "width": 840
      },
      "text/plain": {
       "height": 360,
       "width": 840
      }
     },
     "output_type": "display_data"
    }
   ],
   "source": [
    "model = rpart(outcome ~ x1+x2, data, method=\"anova\")\n",
    "rpart.plot(model, tweak=0.7, type=1, extra=101, space=6, digits=4)"
   ]
  },
  {
   "cell_type": "code",
   "execution_count": 7,
   "metadata": {
    "hide_input": true
   },
   "outputs": [
    {
     "data": {
      "text/html": [
       "<table>\n",
       "<caption><center><font color=\"black\"><b>new</b></font></center></caption>\n",
       " <thead>\n",
       "  <tr>\n",
       "   <th style=\"text-align:right;background-color: #FFFFFF !important;\"> x1 </th>\n",
       "   <th style=\"text-align:right;background-color: #FFFFFF !important;\"> x2 </th>\n",
       "   <th style=\"text-align:right;background-color: #FFFFFF !important;\"> outcome.predicted </th>\n",
       "  </tr>\n",
       " </thead>\n",
       "<tbody>\n",
       "  <tr>\n",
       "   <td style=\"text-align:right;\"> 5.5 </td>\n",
       "   <td style=\"text-align:right;\"> 7.5 </td>\n",
       "   <td style=\"text-align:right;\"> 28.91667 </td>\n",
       "  </tr>\n",
       "</tbody>\n",
       "</table>"
      ]
     },
     "metadata": {},
     "output_type": "display_data"
    },
    {
     "data": {
      "image/png": "[encoded data removed]",
      "text/plain": [
       "plot without title"
      ]
     },
     "metadata": {
      "image/png": {
       "height": 360,
       "width": 840
      },
      "text/plain": {
       "height": 360,
       "width": 840
      }
     },
     "output_type": "display_data"
    }
   ],
   "source": [
    "new$outcome.predicted = predict(model, new, type=\"vector\")\n",
    "\n",
    "fmt(new)\n",
    "grid.arrange(ggplot(data) + xlim(0,10) + ylim(0,40)+\n",
    "             geom_point(aes(x=x1, y=outcome)) +\n",
    "             geom_point(aes(x=x1, y=outcome.predicted), data=new, color=\"gold\", size=6) +\n",
    "             geom_point(aes(x=x1, y=outcome.predicted), data=new, color=NEW_COLOR),\n",
    "             \n",
    "             ggplot(data) + xlim(0,10) + ylim(0,40) +\n",
    "             geom_point(aes(x=x2, y=outcome)) +\n",
    "             geom_point(aes(x=x2, y=outcome.predicted), data=new, color=\"gold\", size=6) +\n",
    "             geom_point(aes(x=x2, y=outcome.predicted), data=new, color=NEW_COLOR),\n",
    "             \n",
    "             nrow=1)"
   ]
  },
  {
   "cell_type": "markdown",
   "metadata": {},
   "source": [
    "## Regression by k Nearest Neighbor\n",
    "\n",
    "Outcomes are calculated as mean of nearest other observations' outcomes.\n",
    "\n",
    "Use `kknn` function.  The appropriate form (classification vs. regression) is automatically determined based on type of predcited variable (class vs. outcome). "
   ]
  },
  {
   "cell_type": "code",
   "execution_count": 8,
   "metadata": {
    "hide_input": true
   },
   "outputs": [
    {
     "data": {
      "text/html": [
       "<table>\n",
       "<caption><center><font color=\"black\"><b>new</b></font></center></caption>\n",
       " <thead>\n",
       "  <tr>\n",
       "   <th style=\"text-align:right;background-color: #FFFFFF !important;\"> x1 </th>\n",
       "   <th style=\"text-align:right;background-color: #FFFFFF !important;\"> x2 </th>\n",
       "   <th style=\"text-align:right;background-color: #FFFFFF !important;\"> outcome.predicted </th>\n",
       "  </tr>\n",
       " </thead>\n",
       "<tbody>\n",
       "  <tr>\n",
       "   <td style=\"text-align:right;\"> 5.5 </td>\n",
       "   <td style=\"text-align:right;\"> 7.5 </td>\n",
       "   <td style=\"text-align:right;\"> 12.77778 </td>\n",
       "  </tr>\n",
       "</tbody>\n",
       "</table>"
      ]
     },
     "metadata": {},
     "output_type": "display_data"
    },
    {
     "data": {
      "image/png": "[encoded data removed]",
      "text/plain": [
       "plot without title"
      ]
     },
     "metadata": {
      "image/png": {
       "height": 360,
       "width": 840
      },
      "text/plain": {
       "height": 360,
       "width": 840
      }
     },
     "output_type": "display_data"
    }
   ],
   "source": [
    "new$outcome.predicted = kknn(outcome ~ x1+x2, data, new, k=3)$fitted.values\n",
    "\n",
    "fmt(new)\n",
    "grid.arrange(ggplot(data) + xlim(0,10) + ylim(0,40)+\n",
    "             geom_point(aes(x=x1, y=outcome)) +\n",
    "             geom_point(aes(x=x1, y=outcome.predicted), data=new, color=\"gold\", size=6) +\n",
    "             geom_point(aes(x=x1, y=outcome.predicted), data=new, color=NEW_COLOR),\n",
    "             \n",
    "             ggplot(data) + xlim(0,10) + ylim(0,40) +\n",
    "             geom_point(aes(x=x2, y=outcome)) +\n",
    "             geom_point(aes(x=x2, y=outcome.predicted), data=new, color=\"gold\", size=6) +\n",
    "             geom_point(aes(x=x2, y=outcome.predicted), data=new, color=NEW_COLOR),\n",
    "             \n",
    "             nrow=1)"
   ]
  },
  {
   "cell_type": "markdown",
   "metadata": {},
   "source": [
    "## Further Reading\n",
    "\n",
    "* http://www-stat.wharton.upenn.edu/~stine/mich/DM_02.pdf\n",
    "* https://en.wikipedia.org/wiki/Local_regression"
   ]
  },
  {
   "cell_type": "markdown",
   "metadata": {},
   "source": [
    "<p style=\"text-align:left; font-size:10px;\">\n",
    "Copyright (c) Berkeley Data Analytics Group, LLC\n",
    "<span style=\"float:right;\">\n",
    "Document revised July 17, 2020\n",
    "</span>\n",
    "</p>"
   ]
  }
 ],
 "metadata": {
  "hide_code_all_hidden": false,
  "hide_input": false,
  "kernelspec": {
   "display_name": "R",
   "language": "R",
   "name": "ir"
  },
  "language_info": {
   "codemirror_mode": "r",
   "file_extension": ".r",
   "mimetype": "text/x-r-source",
   "name": "R",
   "pygments_lexer": "r",
   "version": "3.6.1"
  },
  "toc": {
   "base_numbering": 1,
   "nav_menu": {},
   "number_sections": true,
   "sideBar": true,
   "skip_h1_title": true,
   "title_cell": "Table of Contents",
   "title_sidebar": "Contents",
   "toc_cell": false,
   "toc_position": {
    "height": "calc(100% - 180px)",
    "left": "10px",
    "top": "150px",
    "width": "307.198px"
   },
   "toc_section_display": true,
   "toc_window_display": false
  }
 },
 "nbformat": 4,
 "nbformat_minor": 2
}
