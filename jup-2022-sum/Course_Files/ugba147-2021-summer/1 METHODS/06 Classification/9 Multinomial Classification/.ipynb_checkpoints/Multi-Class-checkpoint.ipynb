{
 "cells": [
  {
   "cell_type": "markdown",
   "metadata": {
    "hideCode": false,
    "hidePrompt": false
   },
   "source": [
    "# Multi-Class Classification $\\,\\, \\tiny\\text{Lecture}$\n",
    "\n",
    "<img src=\"banner multi-class.jpg\" align=left />"
   ]
  },
  {
   "cell_type": "code",
   "execution_count": 1,
   "metadata": {},
   "outputs": [
    {
     "name": "stdout",
     "output_type": "stream",
     "text": [
      "<< Notebook apparatus is located here. Toggle cell input display to see code. >>"
     ]
    }
   ],
   "source": [
    "cat(\"<< Notebook apparatus is located here. Toggle cell input display to see code. >>\")\n",
    "\n",
    "options(warn=-1)\n",
    "\n",
    "# Load some required functions\n",
    "library(ggplot2,   verbose=FALSE, warn.conflicts=FALSE, quietly=TRUE)\n",
    "library(e1071,     verbose=FALSE, warn.conflicts=FALSE, quietly=TRUE)\n",
    "library(neuralnet, verbose=FALSE, warn.conflicts=FALSE, quietly=TRUE)\n",
    "\n",
    "# Define some visualization constants\n",
    "restore = list(repr.plot.width=8, repr.plot.height=3)\n",
    "PALETTE = c(\"#00A9FF\", \"#F8766D\", \"#7CAE00\", \"#C77CFF\", \"#CD9600\", \"#00BE67\", \"#FF61CC\", \"#00BFC4\")\n",
    "theme.x_axis_only = theme(axis.title.y=element_blank(), axis.text.y=element_blank(), axis.ticks.y=element_blank(), panel.grid.major.y=element_blank(), panel.grid.minor.y=element_blank())\n",
    "theme.y_axis_only = theme(axis.title.x=element_blank(), axis.text.x=element_blank(), axis.ticks.x=element_blank(), panel.grid.major.x=element_blank(), panel.grid.minor.x=element_blank())\n",
    "theme.no_axes = theme.x_axis_only + theme.y_axis_only\n",
    "theme.no_legend = theme(legend.position=\"none\")\n",
    "\n",
    "# Define some useful functions\n",
    "size = function(data) data.frame(observations=dim(data)[1], variables=dim(data)[2])\n",
    "as.binary = function(v, s) { as.numeric(v == s) }\n",
    "pick = function(v, f) { if (class(v) %in% c(\"data.frame\", \"matrix\")) factor(colnames(v)[v == f(v)], levels=colnames(v)) else names(prob)[prob == max(prob)] }\n",
    "round_robin = function(...) { tt = table(as.character(lapply(lapply(list(...), pick, max), as.character)))\n",
    "                              factor(names(tt)[which.max(tt)], levels=unique(unlist(lapply(list(...), colnames)))) }\n",
    "                                             \n",
    "# Set some visualization formatting defaults\n",
    "options(restore)\n",
    "update_geom_defaults(\"point\", list(size=3, colour=\"grey50\"))\n",
    "theme_update(plot.title=element_text(size=10, hjust=0.5), plot.subtitle=element_text(size=8, face=\"italic\", hjust=0.5), axis.title=element_text(size=7), axis.text=element_text(size=7), strip.text=element_text(size=7), strip.text.y=element_text(angle=90), legend.title=element_blank(), legend.text=element_text(size=7))"
   ]
  },
  {
   "cell_type": "markdown",
   "metadata": {},
   "source": [
    "<br>\n",
    "\n",
    "## Discourse\n",
    "___"
   ]
  },
  {
   "cell_type": "markdown",
   "metadata": {},
   "source": [
    "### Data\n",
    "___\n",
    "Note that the data comprises observations in more than 2 classes."
   ]
  },
  {
   "cell_type": "code",
   "execution_count": 2,
   "metadata": {
    "scrolled": false
   },
   "outputs": [
    {
     "data": {
      "text/html": [
       "<table>\n",
       "<thead><tr><th scope=col>observations</th><th scope=col>variables</th></tr></thead>\n",
       "<tbody>\n",
       "\t<tr><td>15</td><td>3 </td></tr>\n",
       "</tbody>\n",
       "</table>\n"
      ],
      "text/latex": [
       "\\begin{tabular}{r|ll}\n",
       " observations & variables\\\\\n",
       "\\hline\n",
       "\t 15 & 3 \\\\\n",
       "\\end{tabular}\n"
      ],
      "text/markdown": [
       "\n",
       "| observations | variables |\n",
       "|---|---|\n",
       "| 15 | 3  |\n",
       "\n"
      ],
      "text/plain": [
       "  observations variables\n",
       "1 15           3        "
      ]
     },
     "metadata": {},
     "output_type": "display_data"
    },
    {
     "data": {
      "text/html": [
       "<table>\n",
       "<thead><tr><th scope=col>x1</th><th scope=col>x2</th><th scope=col>class</th></tr></thead>\n",
       "<tbody>\n",
       "\t<tr><td>1</td><td>5</td><td>B</td></tr>\n",
       "\t<tr><td>1</td><td>6</td><td>C</td></tr>\n",
       "\t<tr><td>4</td><td>3</td><td>B</td></tr>\n",
       "\t<tr><td>2</td><td>4</td><td>A</td></tr>\n",
       "\t<tr><td>2</td><td>7</td><td>A</td></tr>\n",
       "\t<tr><td>6</td><td>8</td><td>A</td></tr>\n",
       "\t<tr><td>7</td><td>2</td><td>A</td></tr>\n",
       "\t<tr><td>7</td><td>3</td><td>A</td></tr>\n",
       "\t<tr><td>7</td><td>5</td><td>B</td></tr>\n",
       "\t<tr><td>7</td><td>5</td><td>C</td></tr>\n",
       "\t<tr><td>8</td><td>6</td><td>A</td></tr>\n",
       "\t<tr><td>8</td><td>9</td><td>B</td></tr>\n",
       "\t<tr><td>9</td><td>1</td><td>C</td></tr>\n",
       "\t<tr><td>9</td><td>2</td><td>B</td></tr>\n",
       "\t<tr><td>9</td><td>3</td><td>C</td></tr>\n",
       "</tbody>\n",
       "</table>\n"
      ],
      "text/latex": [
       "\\begin{tabular}{r|lll}\n",
       " x1 & x2 & class\\\\\n",
       "\\hline\n",
       "\t 1 & 5 & B\\\\\n",
       "\t 1 & 6 & C\\\\\n",
       "\t 4 & 3 & B\\\\\n",
       "\t 2 & 4 & A\\\\\n",
       "\t 2 & 7 & A\\\\\n",
       "\t 6 & 8 & A\\\\\n",
       "\t 7 & 2 & A\\\\\n",
       "\t 7 & 3 & A\\\\\n",
       "\t 7 & 5 & B\\\\\n",
       "\t 7 & 5 & C\\\\\n",
       "\t 8 & 6 & A\\\\\n",
       "\t 8 & 9 & B\\\\\n",
       "\t 9 & 1 & C\\\\\n",
       "\t 9 & 2 & B\\\\\n",
       "\t 9 & 3 & C\\\\\n",
       "\\end{tabular}\n"
      ],
      "text/markdown": [
       "\n",
       "| x1 | x2 | class |\n",
       "|---|---|---|\n",
       "| 1 | 5 | B |\n",
       "| 1 | 6 | C |\n",
       "| 4 | 3 | B |\n",
       "| 2 | 4 | A |\n",
       "| 2 | 7 | A |\n",
       "| 6 | 8 | A |\n",
       "| 7 | 2 | A |\n",
       "| 7 | 3 | A |\n",
       "| 7 | 5 | B |\n",
       "| 7 | 5 | C |\n",
       "| 8 | 6 | A |\n",
       "| 8 | 9 | B |\n",
       "| 9 | 1 | C |\n",
       "| 9 | 2 | B |\n",
       "| 9 | 3 | C |\n",
       "\n"
      ],
      "text/plain": [
       "   x1 x2 class\n",
       "1  1  5  B    \n",
       "2  1  6  C    \n",
       "3  4  3  B    \n",
       "4  2  4  A    \n",
       "5  2  7  A    \n",
       "6  6  8  A    \n",
       "7  7  2  A    \n",
       "8  7  3  A    \n",
       "9  7  5  B    \n",
       "10 7  5  C    \n",
       "11 8  6  A    \n",
       "12 8  9  B    \n",
       "13 9  1  C    \n",
       "14 9  2  B    \n",
       "15 9  3  C    "
      ]
     },
     "metadata": {},
     "output_type": "display_data"
    },
    {
     "data": {
      "text/html": [
       "<table>\n",
       "<thead><tr><th scope=col>x1</th><th scope=col>x2</th></tr></thead>\n",
       "<tbody>\n",
       "\t<tr><td>5.2</td><td>4  </td></tr>\n",
       "</tbody>\n",
       "</table>\n"
      ],
      "text/latex": [
       "\\begin{tabular}{r|ll}\n",
       " x1 & x2\\\\\n",
       "\\hline\n",
       "\t 5.2 & 4  \\\\\n",
       "\\end{tabular}\n"
      ],
      "text/markdown": [
       "\n",
       "| x1 | x2 |\n",
       "|---|---|\n",
       "| 5.2 | 4   |\n",
       "\n"
      ],
      "text/plain": [
       "  x1  x2\n",
       "1 5.2 4 "
      ]
     },
     "metadata": {},
     "output_type": "display_data"
    }
   ],
   "source": [
    "data = data.frame(x1   =c( 1,  1,  4,  2,  2,  6,  7,  7,  7,  7,  8,  8,  9,  9,  9),\n",
    "                  x2   =c( 5,  6,  3,  4,  7,  8,  2,  3,  5,  5,  6,  9,  1,  2,  3),\n",
    "                  class=c(\"B\",\"C\",\"B\",\"A\",\"A\",\"A\",\"A\",\"A\",\"B\",\"C\",\"A\",\"B\",\"C\",\"B\",\"C\"))\n",
    "new = data.frame(x1=5.2, x2=4)\n",
    "\n",
    "size(data)\n",
    "data\n",
    "new"
   ]
  },
  {
   "cell_type": "code",
   "execution_count": 3,
   "metadata": {},
   "outputs": [
    {
     "data": {
      "image/png": "[encoded data removed]",
      "text/plain": [
       "plot without title"
      ]
     },
     "metadata": {},
     "output_type": "display_data"
    }
   ],
   "source": [
    "ggplot(data) + geom_point(aes(x=x1, y=x2, color=class)) + geom_point(aes(x=new$x1, y=new$x2), color=\"gray50\") + scale_color_manual(values=PALETTE)"
   ]
  },
  {
   "cell_type": "markdown",
   "metadata": {},
   "source": [
    "<br>\n",
    "\n",
    "### Multi-Class Naive Bayes"
   ]
  },
  {
   "cell_type": "markdown",
   "metadata": {},
   "source": [
    "Naive bayes handles multiple class values.  It computes prior and conditional probabilities associated with each class value."
   ]
  },
  {
   "cell_type": "markdown",
   "metadata": {},
   "source": [
    "Prior probabilities of all class values."
   ]
  },
  {
   "cell_type": "code",
   "execution_count": 36,
   "metadata": {},
   "outputs": [
    {
     "data": {
      "text/html": [
       "<table>\n",
       "<thead><tr><th scope=col>class</th><th scope=col>prior</th></tr></thead>\n",
       "<tbody>\n",
       "\t<tr><td>A        </td><td>0.4000000</td></tr>\n",
       "\t<tr><td>B        </td><td>0.3333333</td></tr>\n",
       "\t<tr><td>C        </td><td>0.2666667</td></tr>\n",
       "</tbody>\n",
       "</table>\n"
      ],
      "text/latex": [
       "\\begin{tabular}{r|ll}\n",
       " class & prior\\\\\n",
       "\\hline\n",
       "\t A         & 0.4000000\\\\\n",
       "\t B         & 0.3333333\\\\\n",
       "\t C         & 0.2666667\\\\\n",
       "\\end{tabular}\n"
      ],
      "text/markdown": [
       "\n",
       "| class | prior |\n",
       "|---|---|\n",
       "| A         | 0.4000000 |\n",
       "| B         | 0.3333333 |\n",
       "| C         | 0.2666667 |\n",
       "\n"
      ],
      "text/plain": [
       "  class prior    \n",
       "1 A     0.4000000\n",
       "2 B     0.3333333\n",
       "3 C     0.2666667"
      ]
     },
     "metadata": {},
     "output_type": "display_data"
    },
    {
     "data": {
      "image/png": "[encoded data removed]",
      "text/plain": [
       "plot without title"
      ]
     },
     "metadata": {},
     "output_type": "display_data"
    }
   ],
   "source": [
    "freq = table(data$class)\n",
    "prob = data.frame(class=names(freq), prior=as.numeric(freq)/sum(freq))\n",
    "prob\n",
    "\n",
    "ggplot(prob)  + ylim(0,1) + geom_col(aes(x=class, y=prior), fill=PALETTE[1:3])"
   ]
  },
  {
   "cell_type": "markdown",
   "metadata": {},
   "source": [
    "<br>\n",
    "\n",
    "Conditional probabilities of all potential x1 values given class values."
   ]
  },
  {
   "cell_type": "code",
   "execution_count": 48,
   "metadata": {},
   "outputs": [
    {
     "data": {
      "image/png": "[encoded data removed]",
      "text/plain": [
       "plot without title"
      ]
     },
     "metadata": {},
     "output_type": "display_data"
    }
   ],
   "source": [
    "d.A = density(data$x1[data$class==\"A\"], bw=1, from=0, to=10); pdf.A = approxfun(d.A)\n",
    "d.B = density(data$x1[data$class==\"B\"], bw=1, from=0, to=10); pdf.B = approxfun(d.B)\n",
    "d.C = density(data$x1[data$class==\"C\"], bw=1, from=0, to=10); pdf.C = approxfun(d.C)\n",
    "\n",
    "ggplot(data) + xlim(0,10) + xlab(\"x1\") + ylab(\"density\") +\n",
    "stat_function(aes(fill=\"A\"), fun=pdf.A, geom=\"area\", alpha=0.4) +\n",
    "stat_function(aes(fill=\"B\"), fun=pdf.B, geom=\"area\", alpha=0.4) +\n",
    "stat_function(aes(fill=\"C\"), fun=pdf.C, geom=\"area\", alpha=0.4) +\n",
    "scale_fill_manual(values=PALETTE[1:3])"
   ]
  },
  {
   "cell_type": "markdown",
   "metadata": {},
   "source": [
    "<br>\n",
    "\n",
    "Conditional probabilities of all potential x2 values given class values."
   ]
  },
  {
   "cell_type": "code",
   "execution_count": 49,
   "metadata": {},
   "outputs": [
    {
     "data": {
      "image/png": "[encoded data removed]",
      "text/plain": [
       "plot without title"
      ]
     },
     "metadata": {},
     "output_type": "display_data"
    }
   ],
   "source": [
    "d.A = density(data$x2[data$class==\"A\"], bw=1, from=0, to=10); pdf.A = approxfun(d.A)\n",
    "d.B = density(data$x2[data$class==\"B\"], bw=1, from=0, to=10); pdf.B = approxfun(d.B)\n",
    "d.C = density(data$x2[data$class==\"C\"], bw=1, from=0, to=10); pdf.C = approxfun(d.C)\n",
    "\n",
    "ggplot(data) + xlim(0,10) + xlab(\"x2\") + ylab(\"density\") +\n",
    "stat_function(aes(fill=\"A\"), fun=pdf.A, geom=\"area\", alpha=0.4) +\n",
    "stat_function(aes(fill=\"B\"), fun=pdf.B, geom=\"area\", alpha=0.4) +\n",
    "stat_function(aes(fill=\"C\"), fun=pdf.C, geom=\"area\", alpha=0.4) +\n",
    "scale_fill_manual(values=PALETTE[1:3])"
   ]
  },
  {
   "cell_type": "markdown",
   "metadata": {},
   "source": [
    "<br>\n",
    "\n",
    "Predict probability of class of new observation.  Select best choice based on relative magnitude, rather than based on a cutoff."
   ]
  },
  {
   "cell_type": "code",
   "execution_count": 51,
   "metadata": {},
   "outputs": [
    {
     "data": {
      "text/html": [
       "<table>\n",
       "<thead><tr><th scope=col>A</th><th scope=col>B</th><th scope=col>C</th></tr></thead>\n",
       "<tbody>\n",
       "\t<tr><td>0.4700696</td><td>0.2890938</td><td>0.2408365</td></tr>\n",
       "</tbody>\n",
       "</table>\n"
      ],
      "text/latex": [
       "\\begin{tabular}{lll}\n",
       " A & B & C\\\\\n",
       "\\hline\n",
       "\t 0.4700696 & 0.2890938 & 0.2408365\\\\\n",
       "\\end{tabular}\n"
      ],
      "text/markdown": [
       "\n",
       "| A | B | C |\n",
       "|---|---|---|\n",
       "| 0.4700696 | 0.2890938 | 0.2408365 |\n",
       "\n"
      ],
      "text/plain": [
       "     A         B         C        \n",
       "[1,] 0.4700696 0.2890938 0.2408365"
      ]
     },
     "metadata": {},
     "output_type": "display_data"
    },
    {
     "data": {
      "text/html": [
       "A\n",
       "<details>\n",
       "\t<summary style=display:list-item;cursor:pointer>\n",
       "\t\t<strong>Levels</strong>:\n",
       "\t</summary>\n",
       "\t<ol class=list-inline>\n",
       "\t\t<li>'A'</li>\n",
       "\t\t<li>'B'</li>\n",
       "\t\t<li>'C'</li>\n",
       "\t</ol>\n",
       "</details>"
      ],
      "text/latex": [
       "A\n",
       "\\emph{Levels}: \\begin{enumerate*}\n",
       "\\item 'A'\n",
       "\\item 'B'\n",
       "\\item 'C'\n",
       "\\end{enumerate*}\n"
      ],
      "text/markdown": [
       "A\n",
       "**Levels**: 1. 'A'\n",
       "2. 'B'\n",
       "3. 'C'\n",
       "\n",
       "\n"
      ],
      "text/plain": [
       "[1] A\n",
       "Levels: A B C"
      ]
     },
     "metadata": {},
     "output_type": "display_data"
    }
   ],
   "source": [
    "model = naiveBayes(class ~ x1+x2, data)\n",
    "prob = predict(model, new, type=\"raw\")\n",
    "prob\n",
    "\n",
    "pick(prob, max)"
   ]
  },
  {
   "cell_type": "markdown",
   "metadata": {},
   "source": [
    "<br>\n",
    "\n",
    "### Multi-Class Neural Network"
   ]
  },
  {
   "cell_type": "markdown",
   "metadata": {},
   "source": [
    "For each class value, add a variable (column) to the dataset, such that the column corresponding to a particular class value is 1 for observations in that class, and 0 otherwise.  Then discard the original class variable (column)."
   ]
  },
  {
   "cell_type": "code",
   "execution_count": 52,
   "metadata": {
    "scrolled": true
   },
   "outputs": [
    {
     "data": {
      "text/html": [
       "<table>\n",
       "<thead><tr><th scope=col>x1</th><th scope=col>x2</th><th scope=col>A</th><th scope=col>B</th><th scope=col>C</th></tr></thead>\n",
       "<tbody>\n",
       "\t<tr><td>1</td><td>5</td><td>0</td><td>1</td><td>0</td></tr>\n",
       "\t<tr><td>1</td><td>6</td><td>0</td><td>0</td><td>1</td></tr>\n",
       "\t<tr><td>4</td><td>3</td><td>0</td><td>1</td><td>0</td></tr>\n",
       "\t<tr><td>2</td><td>4</td><td>1</td><td>0</td><td>0</td></tr>\n",
       "\t<tr><td>2</td><td>7</td><td>1</td><td>0</td><td>0</td></tr>\n",
       "\t<tr><td>6</td><td>8</td><td>1</td><td>0</td><td>0</td></tr>\n",
       "\t<tr><td>7</td><td>2</td><td>1</td><td>0</td><td>0</td></tr>\n",
       "\t<tr><td>7</td><td>3</td><td>1</td><td>0</td><td>0</td></tr>\n",
       "\t<tr><td>7</td><td>5</td><td>0</td><td>1</td><td>0</td></tr>\n",
       "\t<tr><td>7</td><td>5</td><td>0</td><td>0</td><td>1</td></tr>\n",
       "\t<tr><td>8</td><td>6</td><td>1</td><td>0</td><td>0</td></tr>\n",
       "\t<tr><td>8</td><td>9</td><td>0</td><td>1</td><td>0</td></tr>\n",
       "\t<tr><td>9</td><td>1</td><td>0</td><td>0</td><td>1</td></tr>\n",
       "\t<tr><td>9</td><td>2</td><td>0</td><td>1</td><td>0</td></tr>\n",
       "\t<tr><td>9</td><td>3</td><td>0</td><td>0</td><td>1</td></tr>\n",
       "</tbody>\n",
       "</table>\n"
      ],
      "text/latex": [
       "\\begin{tabular}{r|lllll}\n",
       " x1 & x2 & A & B & C\\\\\n",
       "\\hline\n",
       "\t 1 & 5 & 0 & 1 & 0\\\\\n",
       "\t 1 & 6 & 0 & 0 & 1\\\\\n",
       "\t 4 & 3 & 0 & 1 & 0\\\\\n",
       "\t 2 & 4 & 1 & 0 & 0\\\\\n",
       "\t 2 & 7 & 1 & 0 & 0\\\\\n",
       "\t 6 & 8 & 1 & 0 & 0\\\\\n",
       "\t 7 & 2 & 1 & 0 & 0\\\\\n",
       "\t 7 & 3 & 1 & 0 & 0\\\\\n",
       "\t 7 & 5 & 0 & 1 & 0\\\\\n",
       "\t 7 & 5 & 0 & 0 & 1\\\\\n",
       "\t 8 & 6 & 1 & 0 & 0\\\\\n",
       "\t 8 & 9 & 0 & 1 & 0\\\\\n",
       "\t 9 & 1 & 0 & 0 & 1\\\\\n",
       "\t 9 & 2 & 0 & 1 & 0\\\\\n",
       "\t 9 & 3 & 0 & 0 & 1\\\\\n",
       "\\end{tabular}\n"
      ],
      "text/markdown": [
       "\n",
       "| x1 | x2 | A | B | C |\n",
       "|---|---|---|---|---|\n",
       "| 1 | 5 | 0 | 1 | 0 |\n",
       "| 1 | 6 | 0 | 0 | 1 |\n",
       "| 4 | 3 | 0 | 1 | 0 |\n",
       "| 2 | 4 | 1 | 0 | 0 |\n",
       "| 2 | 7 | 1 | 0 | 0 |\n",
       "| 6 | 8 | 1 | 0 | 0 |\n",
       "| 7 | 2 | 1 | 0 | 0 |\n",
       "| 7 | 3 | 1 | 0 | 0 |\n",
       "| 7 | 5 | 0 | 1 | 0 |\n",
       "| 7 | 5 | 0 | 0 | 1 |\n",
       "| 8 | 6 | 1 | 0 | 0 |\n",
       "| 8 | 9 | 0 | 1 | 0 |\n",
       "| 9 | 1 | 0 | 0 | 1 |\n",
       "| 9 | 2 | 0 | 1 | 0 |\n",
       "| 9 | 3 | 0 | 0 | 1 |\n",
       "\n"
      ],
      "text/plain": [
       "   x1 x2 A B C\n",
       "1  1  5  0 1 0\n",
       "2  1  6  0 0 1\n",
       "3  4  3  0 1 0\n",
       "4  2  4  1 0 0\n",
       "5  2  7  1 0 0\n",
       "6  6  8  1 0 0\n",
       "7  7  2  1 0 0\n",
       "8  7  3  1 0 0\n",
       "9  7  5  0 1 0\n",
       "10 7  5  0 0 1\n",
       "11 8  6  1 0 0\n",
       "12 8  9  0 1 0\n",
       "13 9  1  0 0 1\n",
       "14 9  2  0 1 0\n",
       "15 9  3  0 0 1"
      ]
     },
     "metadata": {},
     "output_type": "display_data"
    }
   ],
   "source": [
    "data.nn = data\n",
    "data.nn$A = as.binary(data.nn$class, \"A\")\n",
    "data.nn$B = as.binary(data.nn$class, \"B\")\n",
    "data.nn$C = as.binary(data.nn$class, \"C\")\n",
    "data.nn$class = NULL\n",
    "data.nn"
   ]
  },
  {
   "cell_type": "markdown",
   "metadata": {},
   "source": [
    "<br>\n",
    "\n",
    "### Construct a neural network model with a separate output node for each class value."
   ]
  },
  {
   "cell_type": "code",
   "execution_count": 59,
   "metadata": {
    "scrolled": false
   },
   "outputs": [
    {
     "data": {
      "image/png": "[encoded data removed]",
      "text/plain": [
       "plot without title"
      ]
     },
     "metadata": {},
     "output_type": "display_data"
    }
   ],
   "source": [
    "set.seed(12345)\n",
    "model = neuralnet(A+B+C~x1+x2, data.nn, hidden=c(3,3), act.fct=\"logistic\", algorithm=\"rprop+\", rep=1, linear.output=FALSE)\n",
    "model$model.list$response=c(\"output A\",\"output B\",\"output C\")\n",
    "\n",
    "options(repr.plot.width=5, repr.plot.height=5)\n",
    "plot(model, rep=1, fill=\"gray\", cex=0.7, lwd=0.5, information=FALSE)\n",
    "options(restore)"
   ]
  },
  {
   "cell_type": "markdown",
   "metadata": {},
   "source": [
    "<br>\n",
    "\n",
    "For a new observation, the output values are the class probabilities.  Pick the class corresponding to the highest probability."
   ]
  },
  {
   "cell_type": "code",
   "execution_count": 61,
   "metadata": {},
   "outputs": [
    {
     "data": {
      "text/html": [
       "<table>\n",
       "<thead><tr><th scope=col>A</th><th scope=col>B</th><th scope=col>C</th></tr></thead>\n",
       "<tbody>\n",
       "\t<tr><td>0.2730154</td><td>0.4457045</td><td>0.2738136</td></tr>\n",
       "</tbody>\n",
       "</table>\n"
      ],
      "text/latex": [
       "\\begin{tabular}{r|lll}\n",
       " A & B & C\\\\\n",
       "\\hline\n",
       "\t 0.2730154 & 0.4457045 & 0.2738136\\\\\n",
       "\\end{tabular}\n"
      ],
      "text/markdown": [
       "\n",
       "| A | B | C |\n",
       "|---|---|---|\n",
       "| 0.2730154 | 0.4457045 | 0.2738136 |\n",
       "\n"
      ],
      "text/plain": [
       "  A         B         C        \n",
       "1 0.2730154 0.4457045 0.2738136"
      ]
     },
     "metadata": {},
     "output_type": "display_data"
    },
    {
     "data": {
      "text/html": [
       "B\n",
       "<details>\n",
       "\t<summary style=display:list-item;cursor:pointer>\n",
       "\t\t<strong>Levels</strong>:\n",
       "\t</summary>\n",
       "\t<ol class=list-inline>\n",
       "\t\t<li>'A'</li>\n",
       "\t\t<li>'B'</li>\n",
       "\t\t<li>'C'</li>\n",
       "\t</ol>\n",
       "</details>"
      ],
      "text/latex": [
       "B\n",
       "\\emph{Levels}: \\begin{enumerate*}\n",
       "\\item 'A'\n",
       "\\item 'B'\n",
       "\\item 'C'\n",
       "\\end{enumerate*}\n"
      ],
      "text/markdown": [
       "B\n",
       "**Levels**: 1. 'A'\n",
       "2. 'B'\n",
       "3. 'C'\n",
       "\n",
       "\n"
      ],
      "text/plain": [
       "[1] B\n",
       "Levels: A B C"
      ]
     },
     "metadata": {},
     "output_type": "display_data"
    }
   ],
   "source": [
    "output = compute(model, new[,1:2], rep=1)$net.result\n",
    "prob = data.frame(A=output[1], B=output[2], C=output[3])\n",
    "  \n",
    "prob\n",
    "pick(prob, max)   "
   ]
  },
  {
   "cell_type": "markdown",
   "metadata": {},
   "source": [
    "<br>\n",
    "\n",
    "### Transform Any 2-Class Classifier to a Multi-Class Classifier: One vs. Many Approach"
   ]
  },
  {
   "cell_type": "markdown",
   "metadata": {},
   "source": [
    "#### Data\n",
    "\n",
    "For each class value, construct a one vs. many dataset."
   ]
  },
  {
   "cell_type": "markdown",
   "metadata": {},
   "source": [
    "A vs. other:"
   ]
  },
  {
   "cell_type": "code",
   "execution_count": 67,
   "metadata": {},
   "outputs": [
    {
     "data": {
      "text/html": [
       "<table>\n",
       "<thead><tr><th scope=col>observations</th><th scope=col>variables</th></tr></thead>\n",
       "<tbody>\n",
       "\t<tr><td>15</td><td>3 </td></tr>\n",
       "</tbody>\n",
       "</table>\n"
      ],
      "text/latex": [
       "\\begin{tabular}{r|ll}\n",
       " observations & variables\\\\\n",
       "\\hline\n",
       "\t 15 & 3 \\\\\n",
       "\\end{tabular}\n"
      ],
      "text/markdown": [
       "\n",
       "| observations | variables |\n",
       "|---|---|\n",
       "| 15 | 3  |\n",
       "\n"
      ],
      "text/plain": [
       "  observations variables\n",
       "1 15           3        "
      ]
     },
     "metadata": {},
     "output_type": "display_data"
    },
    {
     "data": {
      "text/html": [
       "<table>\n",
       "<thead><tr><th scope=col>x1</th><th scope=col>x2</th><th scope=col>class</th></tr></thead>\n",
       "<tbody>\n",
       "\t<tr><td>1 </td><td>5 </td><td>NA</td></tr>\n",
       "\t<tr><td>1 </td><td>6 </td><td>NA</td></tr>\n",
       "\t<tr><td>4 </td><td>3 </td><td>NA</td></tr>\n",
       "\t<tr><td>2 </td><td>4 </td><td>A </td></tr>\n",
       "\t<tr><td>2 </td><td>7 </td><td>A </td></tr>\n",
       "\t<tr><td>6 </td><td>8 </td><td>A </td></tr>\n",
       "\t<tr><td>7 </td><td>2 </td><td>A </td></tr>\n",
       "\t<tr><td>7 </td><td>3 </td><td>A </td></tr>\n",
       "\t<tr><td>7 </td><td>5 </td><td>NA</td></tr>\n",
       "\t<tr><td>7 </td><td>5 </td><td>NA</td></tr>\n",
       "\t<tr><td>8 </td><td>6 </td><td>A </td></tr>\n",
       "\t<tr><td>8 </td><td>9 </td><td>NA</td></tr>\n",
       "\t<tr><td>9 </td><td>1 </td><td>NA</td></tr>\n",
       "\t<tr><td>9 </td><td>2 </td><td>NA</td></tr>\n",
       "\t<tr><td>9 </td><td>3 </td><td>NA</td></tr>\n",
       "</tbody>\n",
       "</table>\n"
      ],
      "text/latex": [
       "\\begin{tabular}{r|lll}\n",
       " x1 & x2 & class\\\\\n",
       "\\hline\n",
       "\t 1  & 5  & NA\\\\\n",
       "\t 1  & 6  & NA\\\\\n",
       "\t 4  & 3  & NA\\\\\n",
       "\t 2  & 4  & A \\\\\n",
       "\t 2  & 7  & A \\\\\n",
       "\t 6  & 8  & A \\\\\n",
       "\t 7  & 2  & A \\\\\n",
       "\t 7  & 3  & A \\\\\n",
       "\t 7  & 5  & NA\\\\\n",
       "\t 7  & 5  & NA\\\\\n",
       "\t 8  & 6  & A \\\\\n",
       "\t 8  & 9  & NA\\\\\n",
       "\t 9  & 1  & NA\\\\\n",
       "\t 9  & 2  & NA\\\\\n",
       "\t 9  & 3  & NA\\\\\n",
       "\\end{tabular}\n"
      ],
      "text/markdown": [
       "\n",
       "| x1 | x2 | class |\n",
       "|---|---|---|\n",
       "| 1  | 5  | NA |\n",
       "| 1  | 6  | NA |\n",
       "| 4  | 3  | NA |\n",
       "| 2  | 4  | A  |\n",
       "| 2  | 7  | A  |\n",
       "| 6  | 8  | A  |\n",
       "| 7  | 2  | A  |\n",
       "| 7  | 3  | A  |\n",
       "| 7  | 5  | NA |\n",
       "| 7  | 5  | NA |\n",
       "| 8  | 6  | A  |\n",
       "| 8  | 9  | NA |\n",
       "| 9  | 1  | NA |\n",
       "| 9  | 2  | NA |\n",
       "| 9  | 3  | NA |\n",
       "\n"
      ],
      "text/plain": [
       "   x1 x2 class\n",
       "1  1  5  NA   \n",
       "2  1  6  NA   \n",
       "3  4  3  NA   \n",
       "4  2  4  A    \n",
       "5  2  7  A    \n",
       "6  6  8  A    \n",
       "7  7  2  A    \n",
       "8  7  3  A    \n",
       "9  7  5  NA   \n",
       "10 7  5  NA   \n",
       "11 8  6  A    \n",
       "12 8  9  NA   \n",
       "13 9  1  NA   \n",
       "14 9  2  NA   \n",
       "15 9  3  NA   "
      ]
     },
     "metadata": {},
     "output_type": "display_data"
    }
   ],
   "source": [
    "data.Ao = data\n",
    "data.Ao$class[data$class!=\"A\"] = \"other\"\n",
    "\n",
    "size(data.Ao)\n",
    "data.Ao"
   ]
  },
  {
   "cell_type": "code",
   "execution_count": 64,
   "metadata": {
    "scrolled": true
   },
   "outputs": [
    {
     "data": {
      "text/html": [
       "'character'"
      ],
      "text/latex": [
       "'character'"
      ],
      "text/markdown": [
       "'character'"
      ],
      "text/plain": [
       "[1] \"character\""
      ]
     },
     "metadata": {},
     "output_type": "display_data"
    },
    {
     "data": {
      "text/html": [
       "<table>\n",
       "<thead><tr><th scope=col>observations</th><th scope=col>variables</th></tr></thead>\n",
       "<tbody>\n",
       "\t<tr><td>15</td><td>3 </td></tr>\n",
       "</tbody>\n",
       "</table>\n"
      ],
      "text/latex": [
       "\\begin{tabular}{r|ll}\n",
       " observations & variables\\\\\n",
       "\\hline\n",
       "\t 15 & 3 \\\\\n",
       "\\end{tabular}\n"
      ],
      "text/markdown": [
       "\n",
       "| observations | variables |\n",
       "|---|---|\n",
       "| 15 | 3  |\n",
       "\n"
      ],
      "text/plain": [
       "  observations variables\n",
       "1 15           3        "
      ]
     },
     "metadata": {},
     "output_type": "display_data"
    },
    {
     "data": {
      "text/html": [
       "<table>\n",
       "<thead><tr><th scope=col>x1</th><th scope=col>x2</th><th scope=col>class</th></tr></thead>\n",
       "<tbody>\n",
       "\t<tr><td>1    </td><td>5    </td><td>other</td></tr>\n",
       "\t<tr><td>1    </td><td>6    </td><td>other</td></tr>\n",
       "\t<tr><td>4    </td><td>3    </td><td>other</td></tr>\n",
       "\t<tr><td>2    </td><td>4    </td><td>A    </td></tr>\n",
       "\t<tr><td>2    </td><td>7    </td><td>A    </td></tr>\n",
       "\t<tr><td>6    </td><td>8    </td><td>A    </td></tr>\n",
       "\t<tr><td>7    </td><td>2    </td><td>A    </td></tr>\n",
       "\t<tr><td>7    </td><td>3    </td><td>A    </td></tr>\n",
       "\t<tr><td>7    </td><td>5    </td><td>other</td></tr>\n",
       "\t<tr><td>7    </td><td>5    </td><td>other</td></tr>\n",
       "\t<tr><td>8    </td><td>6    </td><td>A    </td></tr>\n",
       "\t<tr><td>8    </td><td>9    </td><td>other</td></tr>\n",
       "\t<tr><td>9    </td><td>1    </td><td>other</td></tr>\n",
       "\t<tr><td>9    </td><td>2    </td><td>other</td></tr>\n",
       "\t<tr><td>9    </td><td>3    </td><td>other</td></tr>\n",
       "</tbody>\n",
       "</table>\n"
      ],
      "text/latex": [
       "\\begin{tabular}{r|lll}\n",
       " x1 & x2 & class\\\\\n",
       "\\hline\n",
       "\t 1     & 5     & other\\\\\n",
       "\t 1     & 6     & other\\\\\n",
       "\t 4     & 3     & other\\\\\n",
       "\t 2     & 4     & A    \\\\\n",
       "\t 2     & 7     & A    \\\\\n",
       "\t 6     & 8     & A    \\\\\n",
       "\t 7     & 2     & A    \\\\\n",
       "\t 7     & 3     & A    \\\\\n",
       "\t 7     & 5     & other\\\\\n",
       "\t 7     & 5     & other\\\\\n",
       "\t 8     & 6     & A    \\\\\n",
       "\t 8     & 9     & other\\\\\n",
       "\t 9     & 1     & other\\\\\n",
       "\t 9     & 2     & other\\\\\n",
       "\t 9     & 3     & other\\\\\n",
       "\\end{tabular}\n"
      ],
      "text/markdown": [
       "\n",
       "| x1 | x2 | class |\n",
       "|---|---|---|\n",
       "| 1     | 5     | other |\n",
       "| 1     | 6     | other |\n",
       "| 4     | 3     | other |\n",
       "| 2     | 4     | A     |\n",
       "| 2     | 7     | A     |\n",
       "| 6     | 8     | A     |\n",
       "| 7     | 2     | A     |\n",
       "| 7     | 3     | A     |\n",
       "| 7     | 5     | other |\n",
       "| 7     | 5     | other |\n",
       "| 8     | 6     | A     |\n",
       "| 8     | 9     | other |\n",
       "| 9     | 1     | other |\n",
       "| 9     | 2     | other |\n",
       "| 9     | 3     | other |\n",
       "\n"
      ],
      "text/plain": [
       "   x1 x2 class\n",
       "1  1  5  other\n",
       "2  1  6  other\n",
       "3  4  3  other\n",
       "4  2  4  A    \n",
       "5  2  7  A    \n",
       "6  6  8  A    \n",
       "7  7  2  A    \n",
       "8  7  3  A    \n",
       "9  7  5  other\n",
       "10 7  5  other\n",
       "11 8  6  A    \n",
       "12 8  9  other\n",
       "13 9  1  other\n",
       "14 9  2  other\n",
       "15 9  3  other"
      ]
     },
     "metadata": {},
     "output_type": "display_data"
    }
   ],
   "source": [
    "data.Ao = data[, c(\"x1\",\"x2\")]\n",
    "data.Ao$class = NA\n",
    "data.Ao$class[data$class==\"A\"] = \"A\"\n",
    "data.Ao$class[data$class==\"B\"] = \"other\"\n",
    "data.Ao$class[data$class==\"C\"] = \"other\"\n",
    "# data.Ao$class = factor(data.Ao$class)\n",
    "class(data.Ao$class)\n",
    "size(data.Ao)\n",
    "data.Ao"
   ]
  },
  {
   "cell_type": "code",
   "execution_count": 12,
   "metadata": {},
   "outputs": [
    {
     "data": {
      "image/png": "[encoded data removed]",
      "text/plain": [
       "plot without title"
      ]
     },
     "metadata": {},
     "output_type": "display_data"
    }
   ],
   "source": [
    "ggplot(data.Ao) +\n",
    "geom_point(aes(x=x1, y=x2, color=class)) + geom_point(aes(x=x1, y=x2), data=new) +\n",
    "scale_color_manual(values=c(PALETTE[1],\"gold\"))"
   ]
  },
  {
   "cell_type": "markdown",
   "metadata": {},
   "source": [
    "B vs. other:"
   ]
  },
  {
   "cell_type": "code",
   "execution_count": 13,
   "metadata": {
    "scrolled": true
   },
   "outputs": [
    {
     "data": {
      "text/html": [
       "<table>\n",
       "<thead><tr><th scope=col>observations</th><th scope=col>variables</th></tr></thead>\n",
       "<tbody>\n",
       "\t<tr><td>15</td><td>3 </td></tr>\n",
       "</tbody>\n",
       "</table>\n"
      ],
      "text/latex": [
       "\\begin{tabular}{r|ll}\n",
       " observations & variables\\\\\n",
       "\\hline\n",
       "\t 15 & 3 \\\\\n",
       "\\end{tabular}\n"
      ],
      "text/markdown": [
       "\n",
       "| observations | variables |\n",
       "|---|---|\n",
       "| 15 | 3  |\n",
       "\n"
      ],
      "text/plain": [
       "  observations variables\n",
       "1 15           3        "
      ]
     },
     "metadata": {},
     "output_type": "display_data"
    },
    {
     "data": {
      "text/html": [
       "<table>\n",
       "<thead><tr><th scope=col>x1</th><th scope=col>x2</th><th scope=col>class</th></tr></thead>\n",
       "<tbody>\n",
       "\t<tr><td>1    </td><td>5    </td><td>B    </td></tr>\n",
       "\t<tr><td>1    </td><td>6    </td><td>other</td></tr>\n",
       "\t<tr><td>4    </td><td>3    </td><td>B    </td></tr>\n",
       "\t<tr><td>2    </td><td>4    </td><td>other</td></tr>\n",
       "\t<tr><td>2    </td><td>7    </td><td>other</td></tr>\n",
       "\t<tr><td>6    </td><td>8    </td><td>other</td></tr>\n",
       "\t<tr><td>7    </td><td>2    </td><td>other</td></tr>\n",
       "\t<tr><td>7    </td><td>3    </td><td>other</td></tr>\n",
       "\t<tr><td>7    </td><td>5    </td><td>B    </td></tr>\n",
       "\t<tr><td>7    </td><td>5    </td><td>other</td></tr>\n",
       "\t<tr><td>8    </td><td>6    </td><td>other</td></tr>\n",
       "\t<tr><td>8    </td><td>9    </td><td>B    </td></tr>\n",
       "\t<tr><td>9    </td><td>1    </td><td>other</td></tr>\n",
       "\t<tr><td>9    </td><td>2    </td><td>B    </td></tr>\n",
       "\t<tr><td>9    </td><td>3    </td><td>other</td></tr>\n",
       "</tbody>\n",
       "</table>\n"
      ],
      "text/latex": [
       "\\begin{tabular}{r|lll}\n",
       " x1 & x2 & class\\\\\n",
       "\\hline\n",
       "\t 1     & 5     & B    \\\\\n",
       "\t 1     & 6     & other\\\\\n",
       "\t 4     & 3     & B    \\\\\n",
       "\t 2     & 4     & other\\\\\n",
       "\t 2     & 7     & other\\\\\n",
       "\t 6     & 8     & other\\\\\n",
       "\t 7     & 2     & other\\\\\n",
       "\t 7     & 3     & other\\\\\n",
       "\t 7     & 5     & B    \\\\\n",
       "\t 7     & 5     & other\\\\\n",
       "\t 8     & 6     & other\\\\\n",
       "\t 8     & 9     & B    \\\\\n",
       "\t 9     & 1     & other\\\\\n",
       "\t 9     & 2     & B    \\\\\n",
       "\t 9     & 3     & other\\\\\n",
       "\\end{tabular}\n"
      ],
      "text/markdown": [
       "\n",
       "| x1 | x2 | class |\n",
       "|---|---|---|\n",
       "| 1     | 5     | B     |\n",
       "| 1     | 6     | other |\n",
       "| 4     | 3     | B     |\n",
       "| 2     | 4     | other |\n",
       "| 2     | 7     | other |\n",
       "| 6     | 8     | other |\n",
       "| 7     | 2     | other |\n",
       "| 7     | 3     | other |\n",
       "| 7     | 5     | B     |\n",
       "| 7     | 5     | other |\n",
       "| 8     | 6     | other |\n",
       "| 8     | 9     | B     |\n",
       "| 9     | 1     | other |\n",
       "| 9     | 2     | B     |\n",
       "| 9     | 3     | other |\n",
       "\n"
      ],
      "text/plain": [
       "   x1 x2 class\n",
       "1  1  5  B    \n",
       "2  1  6  other\n",
       "3  4  3  B    \n",
       "4  2  4  other\n",
       "5  2  7  other\n",
       "6  6  8  other\n",
       "7  7  2  other\n",
       "8  7  3  other\n",
       "9  7  5  B    \n",
       "10 7  5  other\n",
       "11 8  6  other\n",
       "12 8  9  B    \n",
       "13 9  1  other\n",
       "14 9  2  B    \n",
       "15 9  3  other"
      ]
     },
     "metadata": {},
     "output_type": "display_data"
    }
   ],
   "source": [
    "data.Bo = data[, c(\"x1\",\"x2\")]\n",
    "data.Bo$class = NA\n",
    "data.Bo$class[data$class==\"A\"] = \"other\"\n",
    "data.Bo$class[data$class==\"B\"] = \"B\"\n",
    "data.Bo$class[data$class==\"C\"] = \"other\"\n",
    "data.Bo$class = factor(data.Bo$class)\n",
    "size(data.Bo)\n",
    "data.Bo"
   ]
  },
  {
   "cell_type": "code",
   "execution_count": 14,
   "metadata": {},
   "outputs": [
    {
     "data": {
      "image/png": "[encoded data removed]",
      "text/plain": [
       "plot without title"
      ]
     },
     "metadata": {},
     "output_type": "display_data"
    }
   ],
   "source": [
    "ggplot(data.Bo) +\n",
    "geom_point(aes(x=x1, y=x2, color=class)) + geom_point(aes(x=x1, y=x2), data=new) +\n",
    "scale_color_manual(values=c(PALETTE[2],\"gold\"))"
   ]
  },
  {
   "cell_type": "markdown",
   "metadata": {},
   "source": [
    "C vs. other:"
   ]
  },
  {
   "cell_type": "code",
   "execution_count": 15,
   "metadata": {
    "scrolled": true
   },
   "outputs": [
    {
     "data": {
      "text/html": [
       "<table>\n",
       "<thead><tr><th scope=col>observations</th><th scope=col>variables</th></tr></thead>\n",
       "<tbody>\n",
       "\t<tr><td>15</td><td>3 </td></tr>\n",
       "</tbody>\n",
       "</table>\n"
      ],
      "text/latex": [
       "\\begin{tabular}{r|ll}\n",
       " observations & variables\\\\\n",
       "\\hline\n",
       "\t 15 & 3 \\\\\n",
       "\\end{tabular}\n"
      ],
      "text/markdown": [
       "\n",
       "| observations | variables |\n",
       "|---|---|\n",
       "| 15 | 3  |\n",
       "\n"
      ],
      "text/plain": [
       "  observations variables\n",
       "1 15           3        "
      ]
     },
     "metadata": {},
     "output_type": "display_data"
    },
    {
     "data": {
      "text/html": [
       "<table>\n",
       "<thead><tr><th scope=col>x1</th><th scope=col>x2</th><th scope=col>class</th></tr></thead>\n",
       "<tbody>\n",
       "\t<tr><td>1    </td><td>5    </td><td>other</td></tr>\n",
       "\t<tr><td>1    </td><td>6    </td><td>C    </td></tr>\n",
       "\t<tr><td>4    </td><td>3    </td><td>other</td></tr>\n",
       "\t<tr><td>2    </td><td>4    </td><td>other</td></tr>\n",
       "\t<tr><td>2    </td><td>7    </td><td>other</td></tr>\n",
       "\t<tr><td>6    </td><td>8    </td><td>other</td></tr>\n",
       "\t<tr><td>7    </td><td>2    </td><td>other</td></tr>\n",
       "\t<tr><td>7    </td><td>3    </td><td>other</td></tr>\n",
       "\t<tr><td>7    </td><td>5    </td><td>other</td></tr>\n",
       "\t<tr><td>7    </td><td>5    </td><td>C    </td></tr>\n",
       "\t<tr><td>8    </td><td>6    </td><td>other</td></tr>\n",
       "\t<tr><td>8    </td><td>9    </td><td>other</td></tr>\n",
       "\t<tr><td>9    </td><td>1    </td><td>C    </td></tr>\n",
       "\t<tr><td>9    </td><td>2    </td><td>other</td></tr>\n",
       "\t<tr><td>9    </td><td>3    </td><td>C    </td></tr>\n",
       "</tbody>\n",
       "</table>\n"
      ],
      "text/latex": [
       "\\begin{tabular}{r|lll}\n",
       " x1 & x2 & class\\\\\n",
       "\\hline\n",
       "\t 1     & 5     & other\\\\\n",
       "\t 1     & 6     & C    \\\\\n",
       "\t 4     & 3     & other\\\\\n",
       "\t 2     & 4     & other\\\\\n",
       "\t 2     & 7     & other\\\\\n",
       "\t 6     & 8     & other\\\\\n",
       "\t 7     & 2     & other\\\\\n",
       "\t 7     & 3     & other\\\\\n",
       "\t 7     & 5     & other\\\\\n",
       "\t 7     & 5     & C    \\\\\n",
       "\t 8     & 6     & other\\\\\n",
       "\t 8     & 9     & other\\\\\n",
       "\t 9     & 1     & C    \\\\\n",
       "\t 9     & 2     & other\\\\\n",
       "\t 9     & 3     & C    \\\\\n",
       "\\end{tabular}\n"
      ],
      "text/markdown": [
       "\n",
       "| x1 | x2 | class |\n",
       "|---|---|---|\n",
       "| 1     | 5     | other |\n",
       "| 1     | 6     | C     |\n",
       "| 4     | 3     | other |\n",
       "| 2     | 4     | other |\n",
       "| 2     | 7     | other |\n",
       "| 6     | 8     | other |\n",
       "| 7     | 2     | other |\n",
       "| 7     | 3     | other |\n",
       "| 7     | 5     | other |\n",
       "| 7     | 5     | C     |\n",
       "| 8     | 6     | other |\n",
       "| 8     | 9     | other |\n",
       "| 9     | 1     | C     |\n",
       "| 9     | 2     | other |\n",
       "| 9     | 3     | C     |\n",
       "\n"
      ],
      "text/plain": [
       "   x1 x2 class\n",
       "1  1  5  other\n",
       "2  1  6  C    \n",
       "3  4  3  other\n",
       "4  2  4  other\n",
       "5  2  7  other\n",
       "6  6  8  other\n",
       "7  7  2  other\n",
       "8  7  3  other\n",
       "9  7  5  other\n",
       "10 7  5  C    \n",
       "11 8  6  other\n",
       "12 8  9  other\n",
       "13 9  1  C    \n",
       "14 9  2  other\n",
       "15 9  3  C    "
      ]
     },
     "metadata": {},
     "output_type": "display_data"
    }
   ],
   "source": [
    "data.Co = data[, c(\"x1\",\"x2\")]\n",
    "data.Co$class = NA\n",
    "data.Co$class[data$class==\"A\"] = \"other\"\n",
    "data.Co$class[data$class==\"B\"] = \"other\"\n",
    "data.Co$class[data$class==\"C\"] = \"C\"\n",
    "data.Co$class = factor(data.Co$class)\n",
    "size(data.Co)\n",
    "data.Co"
   ]
  },
  {
   "cell_type": "code",
   "execution_count": 16,
   "metadata": {},
   "outputs": [
    {
     "data": {
      "image/png": "[encoded data removed]",
      "text/plain": [
       "plot without title"
      ]
     },
     "metadata": {},
     "output_type": "display_data"
    }
   ],
   "source": [
    "ggplot(data.Co) +\n",
    "geom_point(aes(x=x1, y=x2, color=class)) + geom_point(aes(x=x1, y=x2), data=new) +\n",
    "scale_color_manual(values=c(PALETTE[3],\"gold\"))"
   ]
  },
  {
   "cell_type": "markdown",
   "metadata": {},
   "source": [
    "#### Models\n",
    "\n",
    "For each class value, construct a one vs. many model.\n",
    "\n",
    "Here we construct 3 one vs. many logistic regression models.  The first model predicts A vs. other, the second model predicts B vs. other, and the third model predicts C vs. other."
   ]
  },
  {
   "cell_type": "code",
   "execution_count": 17,
   "metadata": {
    "hideCode": false,
    "hidePrompt": false,
    "run_control": {
     "marked": false
    }
   },
   "outputs": [],
   "source": [
    "model.Ao = glm(class ~ x1+x2, binomial(link=\"logit\"), data.Ao)\n",
    "model.Bo = glm(class ~ x1+x2, binomial(link=\"logit\"), data.Bo)\n",
    "model.Co = glm(class ~ x1+x2, binomial(link=\"logit\"), data.Co)"
   ]
  },
  {
   "cell_type": "markdown",
   "metadata": {},
   "source": [
    "<br>\n",
    "\n",
    "#### Prediction\n",
    "\n",
    "For a new observation, predict a class probability for each one vs. many model."
   ]
  },
  {
   "cell_type": "code",
   "execution_count": 18,
   "metadata": {
    "hideCode": false,
    "hidePrompt": false,
    "run_control": {
     "marked": false
    }
   },
   "outputs": [
    {
     "data": {
      "text/html": [
       "<table>\n",
       "<thead><tr><th scope=col>A</th><th scope=col>other</th></tr></thead>\n",
       "<tbody>\n",
       "\t<tr><td>0.3912388</td><td>0.6087612</td></tr>\n",
       "</tbody>\n",
       "</table>\n"
      ],
      "text/latex": [
       "\\begin{tabular}{r|ll}\n",
       " A & other\\\\\n",
       "\\hline\n",
       "\t 0.3912388 & 0.6087612\\\\\n",
       "\\end{tabular}\n"
      ],
      "text/markdown": [
       "\n",
       "| A | other |\n",
       "|---|---|\n",
       "| 0.3912388 | 0.6087612 |\n",
       "\n"
      ],
      "text/plain": [
       "  A         other    \n",
       "1 0.3912388 0.6087612"
      ]
     },
     "metadata": {},
     "output_type": "display_data"
    },
    {
     "data": {
      "text/html": [
       "<table>\n",
       "<thead><tr><th scope=col>B</th><th scope=col>other</th></tr></thead>\n",
       "<tbody>\n",
       "\t<tr><td>0.3223126</td><td>0.6776874</td></tr>\n",
       "</tbody>\n",
       "</table>\n"
      ],
      "text/latex": [
       "\\begin{tabular}{r|ll}\n",
       " B & other\\\\\n",
       "\\hline\n",
       "\t 0.3223126 & 0.6776874\\\\\n",
       "\\end{tabular}\n"
      ],
      "text/markdown": [
       "\n",
       "| B | other |\n",
       "|---|---|\n",
       "| 0.3223126 | 0.6776874 |\n",
       "\n"
      ],
      "text/plain": [
       "  B         other    \n",
       "1 0.3223126 0.6776874"
      ]
     },
     "metadata": {},
     "output_type": "display_data"
    },
    {
     "data": {
      "text/html": [
       "<table>\n",
       "<thead><tr><th scope=col>C</th><th scope=col>other</th></tr></thead>\n",
       "<tbody>\n",
       "\t<tr><td>0.2699082</td><td>0.7300918</td></tr>\n",
       "</tbody>\n",
       "</table>\n"
      ],
      "text/latex": [
       "\\begin{tabular}{r|ll}\n",
       " C & other\\\\\n",
       "\\hline\n",
       "\t 0.2699082 & 0.7300918\\\\\n",
       "\\end{tabular}\n"
      ],
      "text/markdown": [
       "\n",
       "| C | other |\n",
       "|---|---|\n",
       "| 0.2699082 | 0.7300918 |\n",
       "\n"
      ],
      "text/plain": [
       "  C         other    \n",
       "1 0.2699082 0.7300918"
      ]
     },
     "metadata": {},
     "output_type": "display_data"
    }
   ],
   "source": [
    "prob.Ao.other = predict(model.Ao, new, type=\"response\")\n",
    "prob.Ao = data.frame(A=1-prob.Ao.other, other=prob.Ao.other)\n",
    "\n",
    "prob.Bo.other = predict(model.Bo, new, type=\"response\")\n",
    "prob.Bo = data.frame(B=1-prob.Bo.other, other=prob.Bo.other)\n",
    "\n",
    "prob.Co.other = predict(model.Co, new, type=\"response\")\n",
    "prob.Co = data.frame(C=1-prob.Co.other, other=prob.Co.other)\n",
    "\n",
    "prob.Ao\n",
    "prob.Bo\n",
    "prob.Co"
   ]
  },
  {
   "cell_type": "markdown",
   "metadata": {},
   "source": [
    "Compare class probabilities across all one vs. many models."
   ]
  },
  {
   "cell_type": "code",
   "execution_count": 19,
   "metadata": {},
   "outputs": [
    {
     "data": {
      "text/html": [
       "<table>\n",
       "<thead><tr><th scope=col>A</th><th scope=col>B</th><th scope=col>C</th></tr></thead>\n",
       "<tbody>\n",
       "\t<tr><td>0.3912388</td><td>0.3223126</td><td>0.2699082</td></tr>\n",
       "</tbody>\n",
       "</table>\n"
      ],
      "text/latex": [
       "\\begin{tabular}{r|lll}\n",
       " A & B & C\\\\\n",
       "\\hline\n",
       "\t 0.3912388 & 0.3223126 & 0.2699082\\\\\n",
       "\\end{tabular}\n"
      ],
      "text/markdown": [
       "\n",
       "| A | B | C |\n",
       "|---|---|---|\n",
       "| 0.3912388 | 0.3223126 | 0.2699082 |\n",
       "\n"
      ],
      "text/plain": [
       "  A         B         C        \n",
       "1 0.3912388 0.3223126 0.2699082"
      ]
     },
     "metadata": {},
     "output_type": "display_data"
    }
   ],
   "source": [
    "prob = data.frame(A=prob.Ao$A, B=prob.Bo$B, C=prob.Co$C)\n",
    "prob"
   ]
  },
  {
   "cell_type": "markdown",
   "metadata": {},
   "source": [
    "Pick the class value corresponding to the highest class probability."
   ]
  },
  {
   "cell_type": "code",
   "execution_count": 20,
   "metadata": {},
   "outputs": [
    {
     "data": {
      "text/html": [
       "A\n",
       "<details>\n",
       "\t<summary style=display:list-item;cursor:pointer>\n",
       "\t\t<strong>Levels</strong>:\n",
       "\t</summary>\n",
       "\t<ol class=list-inline>\n",
       "\t\t<li>'A'</li>\n",
       "\t\t<li>'B'</li>\n",
       "\t\t<li>'C'</li>\n",
       "\t</ol>\n",
       "</details>"
      ],
      "text/latex": [
       "A\n",
       "\\emph{Levels}: \\begin{enumerate*}\n",
       "\\item 'A'\n",
       "\\item 'B'\n",
       "\\item 'C'\n",
       "\\end{enumerate*}\n"
      ],
      "text/markdown": [
       "A\n",
       "**Levels**: 1. 'A'\n",
       "2. 'B'\n",
       "3. 'C'\n",
       "\n",
       "\n"
      ],
      "text/plain": [
       "[1] A\n",
       "Levels: A B C"
      ]
     },
     "metadata": {},
     "output_type": "display_data"
    }
   ],
   "source": [
    "pick(prob, max)"
   ]
  },
  {
   "cell_type": "markdown",
   "metadata": {},
   "source": [
    "<br>\n",
    "\n",
    "### Transform Any 2-Class Classifier to a Multi-Class Classifier: One vs. One Approach"
   ]
  },
  {
   "cell_type": "markdown",
   "metadata": {},
   "source": [
    "#### Data\n",
    "\n",
    "For each class value pair, construct a one vs. one dataset.  There will be $\\frac{n!}{2!(n-2)!} = \\frac{(n)(n-1)(n-2)...(n-2+1)}{2}$ new datasets, where $n$ is number of class values."
   ]
  },
  {
   "cell_type": "markdown",
   "metadata": {},
   "source": [
    "A vs. B:"
   ]
  },
  {
   "cell_type": "code",
   "execution_count": 21,
   "metadata": {
    "scrolled": true
   },
   "outputs": [
    {
     "data": {
      "text/html": [
       "<table>\n",
       "<thead><tr><th scope=col>observations</th><th scope=col>variables</th></tr></thead>\n",
       "<tbody>\n",
       "\t<tr><td>11</td><td>3 </td></tr>\n",
       "</tbody>\n",
       "</table>\n"
      ],
      "text/latex": [
       "\\begin{tabular}{r|ll}\n",
       " observations & variables\\\\\n",
       "\\hline\n",
       "\t 11 & 3 \\\\\n",
       "\\end{tabular}\n"
      ],
      "text/markdown": [
       "\n",
       "| observations | variables |\n",
       "|---|---|\n",
       "| 11 | 3  |\n",
       "\n"
      ],
      "text/plain": [
       "  observations variables\n",
       "1 11           3        "
      ]
     },
     "metadata": {},
     "output_type": "display_data"
    },
    {
     "data": {
      "text/html": [
       "<table>\n",
       "<thead><tr><th></th><th scope=col>x1</th><th scope=col>x2</th><th scope=col>class</th></tr></thead>\n",
       "<tbody>\n",
       "\t<tr><th scope=row>1</th><td>1</td><td>5</td><td>B</td></tr>\n",
       "\t<tr><th scope=row>3</th><td>4</td><td>3</td><td>B</td></tr>\n",
       "\t<tr><th scope=row>4</th><td>2</td><td>4</td><td>A</td></tr>\n",
       "\t<tr><th scope=row>5</th><td>2</td><td>7</td><td>A</td></tr>\n",
       "\t<tr><th scope=row>6</th><td>6</td><td>8</td><td>A</td></tr>\n",
       "\t<tr><th scope=row>7</th><td>7</td><td>2</td><td>A</td></tr>\n",
       "\t<tr><th scope=row>8</th><td>7</td><td>3</td><td>A</td></tr>\n",
       "\t<tr><th scope=row>9</th><td>7</td><td>5</td><td>B</td></tr>\n",
       "\t<tr><th scope=row>11</th><td>8</td><td>6</td><td>A</td></tr>\n",
       "\t<tr><th scope=row>12</th><td>8</td><td>9</td><td>B</td></tr>\n",
       "\t<tr><th scope=row>14</th><td>9</td><td>2</td><td>B</td></tr>\n",
       "</tbody>\n",
       "</table>\n"
      ],
      "text/latex": [
       "\\begin{tabular}{r|lll}\n",
       "  & x1 & x2 & class\\\\\n",
       "\\hline\n",
       "\t1 & 1 & 5 & B\\\\\n",
       "\t3 & 4 & 3 & B\\\\\n",
       "\t4 & 2 & 4 & A\\\\\n",
       "\t5 & 2 & 7 & A\\\\\n",
       "\t6 & 6 & 8 & A\\\\\n",
       "\t7 & 7 & 2 & A\\\\\n",
       "\t8 & 7 & 3 & A\\\\\n",
       "\t9 & 7 & 5 & B\\\\\n",
       "\t11 & 8 & 6 & A\\\\\n",
       "\t12 & 8 & 9 & B\\\\\n",
       "\t14 & 9 & 2 & B\\\\\n",
       "\\end{tabular}\n"
      ],
      "text/markdown": [
       "\n",
       "| <!--/--> | x1 | x2 | class |\n",
       "|---|---|---|---|\n",
       "| 1 | 1 | 5 | B |\n",
       "| 3 | 4 | 3 | B |\n",
       "| 4 | 2 | 4 | A |\n",
       "| 5 | 2 | 7 | A |\n",
       "| 6 | 6 | 8 | A |\n",
       "| 7 | 7 | 2 | A |\n",
       "| 8 | 7 | 3 | A |\n",
       "| 9 | 7 | 5 | B |\n",
       "| 11 | 8 | 6 | A |\n",
       "| 12 | 8 | 9 | B |\n",
       "| 14 | 9 | 2 | B |\n",
       "\n"
      ],
      "text/plain": [
       "   x1 x2 class\n",
       "1  1  5  B    \n",
       "3  4  3  B    \n",
       "4  2  4  A    \n",
       "5  2  7  A    \n",
       "6  6  8  A    \n",
       "7  7  2  A    \n",
       "8  7  3  A    \n",
       "9  7  5  B    \n",
       "11 8  6  A    \n",
       "12 8  9  B    \n",
       "14 9  2  B    "
      ]
     },
     "metadata": {},
     "output_type": "display_data"
    }
   ],
   "source": [
    "data.AB = data[data$class %in% c(\"A\",\"B\"),]\n",
    "size(data.AB)\n",
    "data.AB"
   ]
  },
  {
   "cell_type": "code",
   "execution_count": 22,
   "metadata": {},
   "outputs": [
    {
     "data": {
      "image/png": "[encoded data removed]",
      "text/plain": [
       "plot without title"
      ]
     },
     "metadata": {},
     "output_type": "display_data"
    }
   ],
   "source": [
    "ggplot(data.AB) +\n",
    "geom_point(aes(x=x1, y=x2, color=class)) + geom_point(aes(x=x1, y=x2), data=new) +\n",
    "scale_color_manual(values=PALETTE[1:2])"
   ]
  },
  {
   "cell_type": "markdown",
   "metadata": {},
   "source": [
    "A vs. C:"
   ]
  },
  {
   "cell_type": "code",
   "execution_count": 23,
   "metadata": {
    "scrolled": true
   },
   "outputs": [
    {
     "data": {
      "text/html": [
       "<table>\n",
       "<thead><tr><th scope=col>observations</th><th scope=col>variables</th></tr></thead>\n",
       "<tbody>\n",
       "\t<tr><td>10</td><td>3 </td></tr>\n",
       "</tbody>\n",
       "</table>\n"
      ],
      "text/latex": [
       "\\begin{tabular}{r|ll}\n",
       " observations & variables\\\\\n",
       "\\hline\n",
       "\t 10 & 3 \\\\\n",
       "\\end{tabular}\n"
      ],
      "text/markdown": [
       "\n",
       "| observations | variables |\n",
       "|---|---|\n",
       "| 10 | 3  |\n",
       "\n"
      ],
      "text/plain": [
       "  observations variables\n",
       "1 10           3        "
      ]
     },
     "metadata": {},
     "output_type": "display_data"
    },
    {
     "data": {
      "text/html": [
       "<table>\n",
       "<thead><tr><th></th><th scope=col>x1</th><th scope=col>x2</th><th scope=col>class</th></tr></thead>\n",
       "<tbody>\n",
       "\t<tr><th scope=row>2</th><td>1</td><td>6</td><td>C</td></tr>\n",
       "\t<tr><th scope=row>4</th><td>2</td><td>4</td><td>A</td></tr>\n",
       "\t<tr><th scope=row>5</th><td>2</td><td>7</td><td>A</td></tr>\n",
       "\t<tr><th scope=row>6</th><td>6</td><td>8</td><td>A</td></tr>\n",
       "\t<tr><th scope=row>7</th><td>7</td><td>2</td><td>A</td></tr>\n",
       "\t<tr><th scope=row>8</th><td>7</td><td>3</td><td>A</td></tr>\n",
       "\t<tr><th scope=row>10</th><td>7</td><td>5</td><td>C</td></tr>\n",
       "\t<tr><th scope=row>11</th><td>8</td><td>6</td><td>A</td></tr>\n",
       "\t<tr><th scope=row>13</th><td>9</td><td>1</td><td>C</td></tr>\n",
       "\t<tr><th scope=row>15</th><td>9</td><td>3</td><td>C</td></tr>\n",
       "</tbody>\n",
       "</table>\n"
      ],
      "text/latex": [
       "\\begin{tabular}{r|lll}\n",
       "  & x1 & x2 & class\\\\\n",
       "\\hline\n",
       "\t2 & 1 & 6 & C\\\\\n",
       "\t4 & 2 & 4 & A\\\\\n",
       "\t5 & 2 & 7 & A\\\\\n",
       "\t6 & 6 & 8 & A\\\\\n",
       "\t7 & 7 & 2 & A\\\\\n",
       "\t8 & 7 & 3 & A\\\\\n",
       "\t10 & 7 & 5 & C\\\\\n",
       "\t11 & 8 & 6 & A\\\\\n",
       "\t13 & 9 & 1 & C\\\\\n",
       "\t15 & 9 & 3 & C\\\\\n",
       "\\end{tabular}\n"
      ],
      "text/markdown": [
       "\n",
       "| <!--/--> | x1 | x2 | class |\n",
       "|---|---|---|---|\n",
       "| 2 | 1 | 6 | C |\n",
       "| 4 | 2 | 4 | A |\n",
       "| 5 | 2 | 7 | A |\n",
       "| 6 | 6 | 8 | A |\n",
       "| 7 | 7 | 2 | A |\n",
       "| 8 | 7 | 3 | A |\n",
       "| 10 | 7 | 5 | C |\n",
       "| 11 | 8 | 6 | A |\n",
       "| 13 | 9 | 1 | C |\n",
       "| 15 | 9 | 3 | C |\n",
       "\n"
      ],
      "text/plain": [
       "   x1 x2 class\n",
       "2  1  6  C    \n",
       "4  2  4  A    \n",
       "5  2  7  A    \n",
       "6  6  8  A    \n",
       "7  7  2  A    \n",
       "8  7  3  A    \n",
       "10 7  5  C    \n",
       "11 8  6  A    \n",
       "13 9  1  C    \n",
       "15 9  3  C    "
      ]
     },
     "metadata": {},
     "output_type": "display_data"
    }
   ],
   "source": [
    "data.AC = data[data$class %in% c(\"A\",\"C\"),]\n",
    "size(data.AC)\n",
    "data.AC"
   ]
  },
  {
   "cell_type": "code",
   "execution_count": 24,
   "metadata": {},
   "outputs": [
    {
     "data": {
      "image/png": "[encoded data removed]",
      "text/plain": [
       "plot without title"
      ]
     },
     "metadata": {},
     "output_type": "display_data"
    }
   ],
   "source": [
    "ggplot(data.AC) +\n",
    "geom_point(aes(x=x1, y=x2, color=class)) + geom_point(aes(x=x1, y=x2), data=new) +\n",
    "scale_color_manual(values=PALETTE[c(1,3)])"
   ]
  },
  {
   "cell_type": "markdown",
   "metadata": {},
   "source": [
    "B vs. C:"
   ]
  },
  {
   "cell_type": "code",
   "execution_count": 25,
   "metadata": {
    "scrolled": true
   },
   "outputs": [
    {
     "data": {
      "text/html": [
       "<table>\n",
       "<thead><tr><th scope=col>observations</th><th scope=col>variables</th></tr></thead>\n",
       "<tbody>\n",
       "\t<tr><td>9</td><td>3</td></tr>\n",
       "</tbody>\n",
       "</table>\n"
      ],
      "text/latex": [
       "\\begin{tabular}{r|ll}\n",
       " observations & variables\\\\\n",
       "\\hline\n",
       "\t 9 & 3\\\\\n",
       "\\end{tabular}\n"
      ],
      "text/markdown": [
       "\n",
       "| observations | variables |\n",
       "|---|---|\n",
       "| 9 | 3 |\n",
       "\n"
      ],
      "text/plain": [
       "  observations variables\n",
       "1 9            3        "
      ]
     },
     "metadata": {},
     "output_type": "display_data"
    },
    {
     "data": {
      "text/html": [
       "<table>\n",
       "<thead><tr><th></th><th scope=col>x1</th><th scope=col>x2</th><th scope=col>class</th></tr></thead>\n",
       "<tbody>\n",
       "\t<tr><th scope=row>1</th><td>1</td><td>5</td><td>B</td></tr>\n",
       "\t<tr><th scope=row>2</th><td>1</td><td>6</td><td>C</td></tr>\n",
       "\t<tr><th scope=row>3</th><td>4</td><td>3</td><td>B</td></tr>\n",
       "\t<tr><th scope=row>9</th><td>7</td><td>5</td><td>B</td></tr>\n",
       "\t<tr><th scope=row>10</th><td>7</td><td>5</td><td>C</td></tr>\n",
       "\t<tr><th scope=row>12</th><td>8</td><td>9</td><td>B</td></tr>\n",
       "\t<tr><th scope=row>13</th><td>9</td><td>1</td><td>C</td></tr>\n",
       "\t<tr><th scope=row>14</th><td>9</td><td>2</td><td>B</td></tr>\n",
       "\t<tr><th scope=row>15</th><td>9</td><td>3</td><td>C</td></tr>\n",
       "</tbody>\n",
       "</table>\n"
      ],
      "text/latex": [
       "\\begin{tabular}{r|lll}\n",
       "  & x1 & x2 & class\\\\\n",
       "\\hline\n",
       "\t1 & 1 & 5 & B\\\\\n",
       "\t2 & 1 & 6 & C\\\\\n",
       "\t3 & 4 & 3 & B\\\\\n",
       "\t9 & 7 & 5 & B\\\\\n",
       "\t10 & 7 & 5 & C\\\\\n",
       "\t12 & 8 & 9 & B\\\\\n",
       "\t13 & 9 & 1 & C\\\\\n",
       "\t14 & 9 & 2 & B\\\\\n",
       "\t15 & 9 & 3 & C\\\\\n",
       "\\end{tabular}\n"
      ],
      "text/markdown": [
       "\n",
       "| <!--/--> | x1 | x2 | class |\n",
       "|---|---|---|---|\n",
       "| 1 | 1 | 5 | B |\n",
       "| 2 | 1 | 6 | C |\n",
       "| 3 | 4 | 3 | B |\n",
       "| 9 | 7 | 5 | B |\n",
       "| 10 | 7 | 5 | C |\n",
       "| 12 | 8 | 9 | B |\n",
       "| 13 | 9 | 1 | C |\n",
       "| 14 | 9 | 2 | B |\n",
       "| 15 | 9 | 3 | C |\n",
       "\n"
      ],
      "text/plain": [
       "   x1 x2 class\n",
       "1  1  5  B    \n",
       "2  1  6  C    \n",
       "3  4  3  B    \n",
       "9  7  5  B    \n",
       "10 7  5  C    \n",
       "12 8  9  B    \n",
       "13 9  1  C    \n",
       "14 9  2  B    \n",
       "15 9  3  C    "
      ]
     },
     "metadata": {},
     "output_type": "display_data"
    }
   ],
   "source": [
    "data.BC = data[data$class %in% c(\"B\",\"C\"),]\n",
    "size(data.BC)\n",
    "data.BC"
   ]
  },
  {
   "cell_type": "code",
   "execution_count": 26,
   "metadata": {},
   "outputs": [
    {
     "data": {
      "image/png": "[encoded data removed]",
      "text/plain": [
       "plot without title"
      ]
     },
     "metadata": {},
     "output_type": "display_data"
    }
   ],
   "source": [
    "ggplot(data.BC) +\n",
    "geom_point(aes(x=x1, y=x2, color=class)) + geom_point(aes(x=new$x1, y=new$x2), color=\"gray50\") + scale_color_manual(values=PALETTE[2:3])"
   ]
  },
  {
   "cell_type": "markdown",
   "metadata": {},
   "source": [
    "<br>\n",
    "\n",
    "#### Models\n",
    "\n",
    "For each calss value pair, construct a one vs. one model.\n",
    "\n",
    "Here we construct 3 one vs. one logistic regression models.  The first model predicts A vs. B, the second model predicts A vs. C, and the third model predicts B vs. C."
   ]
  },
  {
   "cell_type": "code",
   "execution_count": 27,
   "metadata": {},
   "outputs": [],
   "source": [
    "model.AB = glm(class ~ x1+x2, binomial(link=\"logit\"), data.AB)\n",
    "model.AC = glm(class ~ x1+x2, binomial(link=\"logit\"), data.AC)\n",
    "model.BC = glm(class ~ x1+x2, binomial(link=\"logit\"), data.BC)"
   ]
  },
  {
   "cell_type": "markdown",
   "metadata": {},
   "source": [
    "<br>\n",
    "\n",
    "#### Prediction\n",
    "\n",
    "For a new observation, predict a class probability for each one vs. one model."
   ]
  },
  {
   "cell_type": "code",
   "execution_count": 28,
   "metadata": {},
   "outputs": [
    {
     "data": {
      "text/html": [
       "<table>\n",
       "<thead><tr><th scope=col>A</th><th scope=col>B</th></tr></thead>\n",
       "<tbody>\n",
       "\t<tr><td>0.543769</td><td>0.456231</td></tr>\n",
       "</tbody>\n",
       "</table>\n"
      ],
      "text/latex": [
       "\\begin{tabular}{r|ll}\n",
       " A & B\\\\\n",
       "\\hline\n",
       "\t 0.543769 & 0.456231\\\\\n",
       "\\end{tabular}\n"
      ],
      "text/markdown": [
       "\n",
       "| A | B |\n",
       "|---|---|\n",
       "| 0.543769 | 0.456231 |\n",
       "\n"
      ],
      "text/plain": [
       "  A        B       \n",
       "1 0.543769 0.456231"
      ]
     },
     "metadata": {},
     "output_type": "display_data"
    },
    {
     "data": {
      "text/html": [
       "<table>\n",
       "<thead><tr><th scope=col>A</th><th scope=col>C</th></tr></thead>\n",
       "<tbody>\n",
       "\t<tr><td>0.5875826</td><td>0.4124174</td></tr>\n",
       "</tbody>\n",
       "</table>\n"
      ],
      "text/latex": [
       "\\begin{tabular}{r|ll}\n",
       " A & C\\\\\n",
       "\\hline\n",
       "\t 0.5875826 & 0.4124174\\\\\n",
       "\\end{tabular}\n"
      ],
      "text/markdown": [
       "\n",
       "| A | C |\n",
       "|---|---|\n",
       "| 0.5875826 | 0.4124174 |\n",
       "\n"
      ],
      "text/plain": [
       "  A         C        \n",
       "1 0.5875826 0.4124174"
      ]
     },
     "metadata": {},
     "output_type": "display_data"
    },
    {
     "data": {
      "text/html": [
       "<table>\n",
       "<thead><tr><th scope=col>B</th><th scope=col>C</th></tr></thead>\n",
       "<tbody>\n",
       "\t<tr><td>0.5482489</td><td>0.4517511</td></tr>\n",
       "</tbody>\n",
       "</table>\n"
      ],
      "text/latex": [
       "\\begin{tabular}{r|ll}\n",
       " B & C\\\\\n",
       "\\hline\n",
       "\t 0.5482489 & 0.4517511\\\\\n",
       "\\end{tabular}\n"
      ],
      "text/markdown": [
       "\n",
       "| B | C |\n",
       "|---|---|\n",
       "| 0.5482489 | 0.4517511 |\n",
       "\n"
      ],
      "text/plain": [
       "  B         C        \n",
       "1 0.5482489 0.4517511"
      ]
     },
     "metadata": {},
     "output_type": "display_data"
    }
   ],
   "source": [
    "output.AB = predict(model.AB, new, type=\"response\")\n",
    "prob.AB = data.frame(A=1-output.AB, B=output.AB)\n",
    "\n",
    "output.AC = predict(model.AC, new, type=\"response\")\n",
    "prob.AC = data.frame(A=1-output.AC, C=output.AC)\n",
    "\n",
    "output.BC = predict(model.BC, new, type=\"response\")\n",
    "prob.BC = data.frame(B=1-output.BC, C=output.BC)\n",
    "\n",
    "prob.AB\n",
    "prob.AC\n",
    "prob.BC"
   ]
  },
  {
   "cell_type": "markdown",
   "metadata": {},
   "source": [
    "<br>\n",
    "\n",
    "Determine the round robin winner among all models.  Ties can be broken arbitrarily or according to some rule."
   ]
  },
  {
   "cell_type": "code",
   "execution_count": 29,
   "metadata": {
    "scrolled": true
   },
   "outputs": [
    {
     "data": {
      "text/html": [
       "A\n",
       "<details>\n",
       "\t<summary style=display:list-item;cursor:pointer>\n",
       "\t\t<strong>Levels</strong>:\n",
       "\t</summary>\n",
       "\t<ol class=list-inline>\n",
       "\t\t<li>'A'</li>\n",
       "\t\t<li>'B'</li>\n",
       "\t\t<li>'C'</li>\n",
       "\t</ol>\n",
       "</details>"
      ],
      "text/latex": [
       "A\n",
       "\\emph{Levels}: \\begin{enumerate*}\n",
       "\\item 'A'\n",
       "\\item 'B'\n",
       "\\item 'C'\n",
       "\\end{enumerate*}\n"
      ],
      "text/markdown": [
       "A\n",
       "**Levels**: 1. 'A'\n",
       "2. 'B'\n",
       "3. 'C'\n",
       "\n",
       "\n"
      ],
      "text/plain": [
       "[1] A\n",
       "Levels: A B C"
      ]
     },
     "metadata": {},
     "output_type": "display_data"
    }
   ],
   "source": [
    "round_robin(prob.AB, prob.AC, prob.BC) # this functions accepts any number of arguments"
   ]
  },
  {
   "cell_type": "markdown",
   "metadata": {},
   "source": [
    "<br>\n",
    "\n",
    "(Note: You could expand the round robin step to account for cutoffs.)"
   ]
  },
  {
   "cell_type": "markdown",
   "metadata": {},
   "source": [
    "<br>\n",
    "\n",
    "## Code Templates\n",
    "___\n",
    "| Key Functions | Reference Documentation |\n",
    "|--|--|\n",
    "| `as.binary` function provided in this notebook |  |\n",
    "| `pick` function provided in this notebook |  |\n",
    "| `round_robin` function provided in this notebook |  |\n",
    "\n",
    "<br>"
   ]
  },
  {
   "cell_type": "markdown",
   "metadata": {},
   "source": [
    "<br>\n",
    "\n",
    "## Expectations\n",
    "___\n",
    "Know about this:\n",
    "* How to build a multi-class naive bayes model and use it to predict the class of a new observation.\n",
    "* How to build a multi-class neural network model and use it to predict the class of a new observation.\n",
    "* How to convert any 2-class classification model construction method to a multi-class classification model construction method using, use it to construct a multi-class classification model, and use it to predict the class of a new observation - with the one vs. many approach.\n",
    "* How to convert any 2-class classification model construction method to a multi-class classification model construction method using, use it to construct a multi-class classification model, and use it to predict the class of a new observation - with the one vs. one approach."
   ]
  },
  {
   "cell_type": "markdown",
   "metadata": {},
   "source": [
    "<br>\n",
    "\n",
    "## Further Reading\n",
    "___\n",
    "* http://ciml.info/dl/v0_99/ciml-v0_99-ch06.pdf\n",
    "* https://www.youtube.com/watch?v=N1vOgolbjSc\n",
    "* https://en.wikipedia.org/wiki/Multiclass_classification\n",
    "* https://www.researchgate.net/publication/320331663_MCS_Multiple_Classifier_System_to_Predict_the_Churners_in_the_Telecom_Industry\n",
    "* https://www.r-bloggers.com/multilabel-classification-with-neuralnet-package/\n",
    "* https://www.youtube.com/watch?v=WKPPKJVobRM&t=4s\n",
    "* https://www.youtube.com/watch?v=6kzvrq-MIO0"
   ]
  },
  {
   "cell_type": "markdown",
   "metadata": {},
   "source": [
    "$\\tiny \\text{Copyright (c) Berkeley Data Analytics Group, LLC}$"
   ]
  }
 ],
 "metadata": {
  "hide_code_all_hidden": false,
  "hide_input": false,
  "kernelspec": {
   "display_name": "R",
   "language": "R",
   "name": "ir"
  },
  "language_info": {
   "codemirror_mode": "r",
   "file_extension": ".r",
   "mimetype": "text/x-r-source",
   "name": "R",
   "pygments_lexer": "r",
   "version": "3.5.3"
  }
 },
 "nbformat": 4,
 "nbformat_minor": 2
}
