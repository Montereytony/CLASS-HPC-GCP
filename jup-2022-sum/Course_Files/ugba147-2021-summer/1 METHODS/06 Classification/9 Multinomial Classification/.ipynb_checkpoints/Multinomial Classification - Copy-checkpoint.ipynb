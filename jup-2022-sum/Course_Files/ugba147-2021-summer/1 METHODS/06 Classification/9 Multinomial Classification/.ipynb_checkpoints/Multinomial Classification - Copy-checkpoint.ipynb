{
 "cells": [
  {
   "cell_type": "markdown",
   "metadata": {
    "hideCode": false,
    "hidePrompt": false
   },
   "source": [
    "# Multinomial Classification\n",
    "\n",
    "![](banner_multi-class.jpg)\n",
    "\n",
    "\n",
    "_<p style=\"text-align: center;\"> Fencers compete in a round-robin tournament ... </p>_"
   ]
  },
  {
   "cell_type": "code",
   "execution_count": null,
   "metadata": {
    "hide_input": true
   },
   "outputs": [],
   "source": [
    "f = \"setup.R\"; for (i in 1:10) { if (file.exists(f)) break else f = paste0(\"../\", f) }; source(f)\n",
    "update_geom_defaults(\"point\", list(size=3, colour=\"grey50\"))"
   ]
  },
  {
   "cell_type": "markdown",
   "metadata": {},
   "source": [
    "## Introduction\n",
    "\n",
    "Motivation, context, history, related topics ...\n",
    "\n",
    "Some classifier construction methods come in versions for multinomial prediction: naive Bayes, neural network, decision tree, nearest neighbors.\n",
    "\n",
    "Any classifier construction method for binary prediction can be enhanced for multinomial prediction by either of two approaches: one vs. many, one vs. one."
   ]
  },
  {
   "cell_type": "markdown",
   "metadata": {},
   "source": [
    "## Terms\n",
    "\n"
   ]
  },
  {
   "cell_type": "markdown",
   "metadata": {},
   "source": [
    "## Data\n",
    "\n",
    "Consider this pedgogical dataset and new unclassified observation.  Note that the dataset comprises observations of more than 2 classes."
   ]
  },
  {
   "cell_type": "code",
   "execution_count": null,
   "metadata": {
    "hide_input": true,
    "scrolled": false
   },
   "outputs": [],
   "source": [
    "data = data.frame(x1   =c( 1,  1,  4,  2,  2,  6,  7,  7,  7,  7,  8,  8,  9,  9,  9),\n",
    "                  x2   =c( 5,  6,  3,  4,  7,  8,  2,  3,  5,  5,  6,  9,  1,  2,  3),\n",
    "                  class=c(\"B\",\"C\",\"B\",\"A\",\"A\",\"A\",\"A\",\"A\",\"B\",\"C\",\"A\",\"B\",\"C\",\"B\",\"C\"))\n",
    "new = data.frame(x1=5.2, x2=4)\n",
    "\n",
    "layout(fmt(size(data)), fmt(data), fmt(new))"
   ]
  },
  {
   "cell_type": "code",
   "execution_count": null,
   "metadata": {
    "hide_input": true
   },
   "outputs": [],
   "source": [
    "ggplot(data) + xlim(0,10) + ylim(0,10) + \n",
    "geom_point(aes(x=x1, y=x2, color=class)) +\n",
    "geom_point(aes(x=x1, y=x2), data=new, color=NEW_COLOR)"
   ]
  },
  {
   "cell_type": "markdown",
   "metadata": {},
   "source": [
    "## Multinomial Naive Bayes"
   ]
  },
  {
   "cell_type": "markdown",
   "metadata": {},
   "source": [
    "Naive bayes handles multiple class values.  It computes prior and conditional probabilities associated with each class value."
   ]
  },
  {
   "cell_type": "markdown",
   "metadata": {},
   "source": [
    "Prior probabilities of all class values:"
   ]
  },
  {
   "cell_type": "code",
   "execution_count": null,
   "metadata": {
    "hide_input": true
   },
   "outputs": [],
   "source": [
    "freq = table(data$class)\n",
    "prior = as.data.frame(t(as.matrix(freq / sum(freq))))\n",
    "\n",
    "fmt(prior)\n",
    "\n",
    "prob = data.frame(class=names(freq), prior=as.numeric(prior))\n",
    "ggplot(prob) + ylim(0,1) + geom_col(aes(x=class, y=prior), fill=PALETTE[1:3])"
   ]
  },
  {
   "cell_type": "markdown",
   "metadata": {},
   "source": [
    "Likelihoods of all potential x1 values given class values:"
   ]
  },
  {
   "cell_type": "code",
   "execution_count": null,
   "metadata": {
    "hide_input": true
   },
   "outputs": [],
   "source": [
    "d.A = density(data$x1[data$class==\"A\"], bw=1, from=0, to=10); pdf.A.x1 = approxfun(d.A)\n",
    "d.B = density(data$x1[data$class==\"B\"], bw=1, from=0, to=10); pdf.B.x1 = approxfun(d.B)\n",
    "d.C = density(data$x1[data$class==\"C\"], bw=1, from=0, to=10); pdf.C.x1 = approxfun(d.C)\n",
    "\n",
    "ggplot(data) + xlim(0,10) + xlab(\"x1\") + ylab(\"density\") +\n",
    "stat_function(aes(fill=\"A\"), fun=pdf.A.x1, geom=\"area\", alpha=0.4) +\n",
    "stat_function(aes(fill=\"B\"), fun=pdf.B.x1, geom=\"area\", alpha=0.4) +\n",
    "stat_function(aes(fill=\"C\"), fun=pdf.C.x1, geom=\"area\", alpha=0.4)"
   ]
  },
  {
   "cell_type": "markdown",
   "metadata": {},
   "source": [
    "Likelihoods of all potential x2 values given class values:"
   ]
  },
  {
   "cell_type": "code",
   "execution_count": null,
   "metadata": {
    "hide_input": true
   },
   "outputs": [],
   "source": [
    "d.A = density(data$x2[data$class==\"A\"], bw=1, from=0, to=10); pdf.A.x2 = approxfun(d.A)\n",
    "d.B = density(data$x2[data$class==\"B\"], bw=1, from=0, to=10); pdf.B.x2 = approxfun(d.B)\n",
    "d.C = density(data$x2[data$class==\"C\"], bw=1, from=0, to=10); pdf.C.x2 = approxfun(d.C)\n",
    "\n",
    "ggplot(data) + xlim(0,10) + xlab(\"x2\") + ylab(\"density\") +\n",
    "stat_function(aes(fill=\"A\"), fun=pdf.A.x2, geom=\"area\", alpha=0.4) +\n",
    "stat_function(aes(fill=\"B\"), fun=pdf.B.x2, geom=\"area\", alpha=0.4) +\n",
    "stat_function(aes(fill=\"C\"), fun=pdf.C.x2, geom=\"area\", alpha=0.4)"
   ]
  },
  {
   "cell_type": "markdown",
   "metadata": {},
   "source": [
    "Predict probability of class of new observation.  Select best choice based on relative magnitude, rather than based on a cutoff."
   ]
  },
  {
   "cell_type": "code",
   "execution_count": null,
   "metadata": {
    "hide_input": true
   },
   "outputs": [],
   "source": [
    "product.A = prior$A * pdf.A.x1(new$x1) * pdf.A.x2(new$x2)\n",
    "product.B = prior$B * pdf.B.x1(new$x1) * pdf.B.x2(new$x2)\n",
    "product.C = prior$C * pdf.C.x1(new$x1) * pdf.C.x2(new$x2)\n",
    "\n",
    "data.frame(new,\n",
    "           class=c(\"A\",\"B\",\"C\"),\n",
    "           prior=c(prior$A, prior$B, prior$C),\n",
    "           likelihood.x1=c(pdf.A.x1(new$x1), pdf.B.x1(new$x1), pdf.C.x1(new$x1)),\n",
    "           likelihood.x2=c(pdf.A.x2(new$x2), pdf.B.x2(new$x2), pdf.C.x2(new$x2)),\n",
    "           posterior=c(product.A, product.B, product.C))"
   ]
  },
  {
   "cell_type": "code",
   "execution_count": null,
   "metadata": {
    "hide_input": true
   },
   "outputs": [],
   "source": [
    "prob.A = product.A / sum(product.A, product.B, product.C)\n",
    "prob.B = product.B / sum(product.A, product.B, product.C)\n",
    "prob.C = product.C / sum(product.A, product.B, product.C)\n",
    "\n",
    "prob = data.frame(A=prob.A, B=prob.B, C=prob.C)\n",
    "\n",
    "layout(fmt(new), fmt(prob), fmt(pick(prob, max), \"pick\", force=TRUE))"
   ]
  },
  {
   "cell_type": "markdown",
   "metadata": {},
   "source": [
    "## Multinomial Neural Network"
   ]
  },
  {
   "cell_type": "markdown",
   "metadata": {},
   "source": [
    "Convert class variable to dummy variables - do not discard any of the dummy variables."
   ]
  },
  {
   "cell_type": "code",
   "execution_count": null,
   "metadata": {
    "hide_input": true,
    "scrolled": false
   },
   "outputs": [],
   "source": [
    "data.nn = dummify(data)\n",
    "layout(fmt(data), fmt(data.nn))"
   ]
  },
  {
   "cell_type": "markdown",
   "metadata": {},
   "source": [
    "Construct a neural network model with a separate output node for each dummy variable."
   ]
  },
  {
   "cell_type": "code",
   "execution_count": null,
   "metadata": {
    "hide_input": true,
    "scrolled": false
   },
   "outputs": [],
   "source": [
    "set.seed(0)\n",
    "model = neuralnet(classA+classB+classC~x1+x2, data.nn, hidden=c(3,3), act.fct=\"logistic\", algorithm=\"rprop+\", rep=1, linear.output=FALSE)\n",
    "model$model.list$response=c(\"output A\",\"output B\",\"output C\")\n",
    "\n",
    "output_size(5,5)\n",
    "plot(model, rep=1, fill=\"gray\", cex=0.7, lwd=0.5, information=FALSE)\n",
    "output_size(restore)"
   ]
  },
  {
   "cell_type": "markdown",
   "metadata": {},
   "source": [
    "Compute the output values for a new observation, and interpret the output values as the class probabilities.  Pick the class corresponding to the highest probability."
   ]
  },
  {
   "cell_type": "code",
   "execution_count": null,
   "metadata": {
    "hide_input": true
   },
   "outputs": [],
   "source": [
    "output = compute(model, new[,1:2], rep=1)$net.result\n",
    "layout(fmt(new), fmt(data.frame(A=output[1], B=output[2], C=output[3]), title=\"output\"))"
   ]
  },
  {
   "cell_type": "code",
   "execution_count": null,
   "metadata": {
    "hide_input": true
   },
   "outputs": [],
   "source": [
    "prob = data.frame(A=output[1], B=output[2], C=output[3])\n",
    "layout(fmt(new), fmt(prob), fmt(pick(prob, max), \"pick\", force=TRUE))"
   ]
  },
  {
   "cell_type": "markdown",
   "metadata": {},
   "source": [
    "## One vs. Many\n",
    "\n",
    "Convert any binary classifier to a multinomial classifier. "
   ]
  },
  {
   "cell_type": "markdown",
   "metadata": {},
   "source": [
    "### Data Representation\n",
    "\n",
    "For each class value, construct a one vs. many dataset."
   ]
  },
  {
   "cell_type": "markdown",
   "metadata": {},
   "source": [
    "A vs. other:"
   ]
  },
  {
   "cell_type": "code",
   "execution_count": null,
   "metadata": {
    "hide_input": true,
    "scrolled": false
   },
   "outputs": [],
   "source": [
    "data.Ao = data[, c(\"x1\",\"x2\")]\n",
    "data.Ao$class = NA\n",
    "data.Ao$class[data$class==\"A\"] = \"A\"\n",
    "data.Ao$class[data$class!=\"A\"] = \"other\"\n",
    "data.Ao$class = factor(data.Ao$class)\n",
    "\n",
    "layout(fmt(size(data)), fmt(data), fmt(size(data.Ao)), fmt(data.Ao))"
   ]
  },
  {
   "cell_type": "code",
   "execution_count": null,
   "metadata": {
    "hide_input": true
   },
   "outputs": [],
   "source": [
    "ggplot(data.Ao) + xlim(0,10) + ylim(0,10) +\n",
    "geom_point(aes(x=x1, y=x2, color=class)) + geom_point(aes(x=x1, y=x2), data=new) +\n",
    "scale_color_manual(values=c(PALETTE[1],\"gold\"))"
   ]
  },
  {
   "cell_type": "markdown",
   "metadata": {},
   "source": [
    "B vs. other:"
   ]
  },
  {
   "cell_type": "code",
   "execution_count": null,
   "metadata": {
    "hide_input": true,
    "scrolled": false
   },
   "outputs": [],
   "source": [
    "data.Bo = data[, c(\"x1\",\"x2\")]\n",
    "data.Bo$class = NA\n",
    "data.Bo$class[data$class==\"B\"] = \"B\"\n",
    "data.Bo$class[data$class!=\"B\"] = \"other\"\n",
    "data.Bo$class = factor(data.Bo$class)\n",
    "\n",
    "layout(fmt(size(data)), fmt(data), fmt(size(data.Bo)), fmt(data.Bo))"
   ]
  },
  {
   "cell_type": "code",
   "execution_count": null,
   "metadata": {
    "hide_input": true
   },
   "outputs": [],
   "source": [
    "ggplot(data.Bo) + xlim(0,10) + ylim(0,10) +\n",
    "geom_point(aes(x=x1, y=x2, color=class)) + geom_point(aes(x=x1, y=x2), data=new) +\n",
    "scale_color_manual(values=c(PALETTE[2],\"gold\"))"
   ]
  },
  {
   "cell_type": "markdown",
   "metadata": {},
   "source": [
    "C vs. other:"
   ]
  },
  {
   "cell_type": "code",
   "execution_count": null,
   "metadata": {
    "hide_input": true,
    "scrolled": false
   },
   "outputs": [],
   "source": [
    "data.Co = data[, c(\"x1\",\"x2\")]\n",
    "data.Co$class = NA\n",
    "data.Co$class[data$class==\"C\"] = \"C\"\n",
    "data.Co$class[data$class!=\"C\"] = \"other\"\n",
    "data.Co$class = factor(data.Co$class)\n",
    "\n",
    "layout(fmt(size(data)), fmt(data), fmt(size(data.Co)), fmt(data.Co))"
   ]
  },
  {
   "cell_type": "code",
   "execution_count": null,
   "metadata": {
    "hide_input": true
   },
   "outputs": [],
   "source": [
    "ggplot(data.Co) + xlim(0,10) + ylim(0,10) +\n",
    "geom_point(aes(x=x1, y=x2, color=class)) + geom_point(aes(x=x1, y=x2), data=new) +\n",
    "scale_color_manual(values=c(PALETTE[3],\"gold\"))"
   ]
  },
  {
   "cell_type": "markdown",
   "metadata": {},
   "source": [
    "### Models\n",
    "\n",
    "For each class value, construct a one vs. many model.\n",
    "\n",
    "Here we construct 3 one vs. many logistic regression models.  The first model predicts A vs. other, the second model predicts B vs. other, and the third model predicts C vs. other."
   ]
  },
  {
   "cell_type": "markdown",
   "metadata": {},
   "source": [
    "Model A vs. Other:"
   ]
  },
  {
   "cell_type": "code",
   "execution_count": null,
   "metadata": {
    "hideCode": false,
    "hidePrompt": false,
    "hide_input": true,
    "run_control": {
     "marked": false
    }
   },
   "outputs": [],
   "source": [
    "model.Ao = glm(class ~ x1+x2, binomial(link=\"logit\"), data.Ao)\n",
    "model.Ao"
   ]
  },
  {
   "cell_type": "markdown",
   "metadata": {},
   "source": [
    "Model B vs. Other:"
   ]
  },
  {
   "cell_type": "code",
   "execution_count": null,
   "metadata": {
    "hide_input": true
   },
   "outputs": [],
   "source": [
    "model.Bo = glm(class ~ x1+x2, binomial(link=\"logit\"), data.Bo)\n",
    "model.Bo"
   ]
  },
  {
   "cell_type": "markdown",
   "metadata": {},
   "source": [
    "Model C vs. Other:"
   ]
  },
  {
   "cell_type": "code",
   "execution_count": null,
   "metadata": {
    "hide_input": true
   },
   "outputs": [],
   "source": [
    "model.Co = glm(class ~ x1+x2, binomial(link=\"logit\"), data.Co)\n",
    "model.Co"
   ]
  },
  {
   "cell_type": "markdown",
   "metadata": {},
   "source": [
    "### Prediction\n",
    "\n",
    "For a new observation, predict class probabilities based on each one vs. many model."
   ]
  },
  {
   "cell_type": "code",
   "execution_count": null,
   "metadata": {
    "hideCode": false,
    "hidePrompt": false,
    "hide_input": true,
    "run_control": {
     "marked": false
    }
   },
   "outputs": [],
   "source": [
    "prob.Ao.other = predict(model.Ao, new, type=\"response\")\n",
    "prob.Ao = data.frame(A=1-prob.Ao.other, other=prob.Ao.other)\n",
    "\n",
    "prob.Bo.other = predict(model.Bo, new, type=\"response\")\n",
    "prob.Bo = data.frame(B=1-prob.Bo.other, other=prob.Bo.other)\n",
    "\n",
    "prob.Co.other = predict(model.Co, new, type=\"response\")\n",
    "prob.Co = data.frame(C=1-prob.Co.other, other=prob.Co.other)\n",
    "\n",
    "layout(fmt(new), fmt(prob.Ao), fmt(prob.Bo), fmt(prob.Co))"
   ]
  },
  {
   "cell_type": "markdown",
   "metadata": {},
   "source": [
    "Compare class probabilities across all one vs. many models.  Pick the class value corresponding to the highest class probability."
   ]
  },
  {
   "cell_type": "code",
   "execution_count": null,
   "metadata": {
    "hide_input": true
   },
   "outputs": [],
   "source": [
    "prob = data.frame(A=prob.Ao$A, B=prob.Bo$B, C=prob.Co$C)\n",
    "layout(fmt(new), fmt(prob), fmt(pick(prob, max), \"pick\", force=TRUE))"
   ]
  },
  {
   "cell_type": "markdown",
   "metadata": {},
   "source": [
    "## One vs. One\n",
    "\n",
    "Convert any binary classifier to a multinomial classifier. "
   ]
  },
  {
   "cell_type": "markdown",
   "metadata": {},
   "source": [
    "### Data Representation\n",
    "\n",
    "For each class value pair, construct a one vs. one dataset.  There will be $\\frac{n!}{2!(n-2)!} = \\frac{(n)(n-1)(n-2)...(n-2+1)}{2}$ new datasets, where $n$ is number of class values."
   ]
  },
  {
   "cell_type": "markdown",
   "metadata": {},
   "source": [
    "A vs. B:"
   ]
  },
  {
   "cell_type": "code",
   "execution_count": null,
   "metadata": {
    "hide_input": true,
    "scrolled": false
   },
   "outputs": [],
   "source": [
    "data.AB = data[data$class %in% c(\"A\",\"B\"),]\n",
    "\n",
    "layout(fmt(size(data)), fmt(data), fmt(size(data.AB)), fmt(data.AB))"
   ]
  },
  {
   "cell_type": "code",
   "execution_count": null,
   "metadata": {
    "hide_input": true
   },
   "outputs": [],
   "source": [
    "ggplot(data.AB) + xlim(0,10) + ylim(0,10) +\n",
    "geom_point(aes(x=x1, y=x2, color=class)) +\n",
    "geom_point(aes(x=x1, y=x2), data=new, color=NEW_COLOR) +\n",
    "scale_color_manual(values=PALETTE[1:2])"
   ]
  },
  {
   "cell_type": "markdown",
   "metadata": {},
   "source": [
    "A vs. C:"
   ]
  },
  {
   "cell_type": "code",
   "execution_count": null,
   "metadata": {
    "hide_input": true,
    "scrolled": false
   },
   "outputs": [],
   "source": [
    "data.AC = data[data$class %in% c(\"A\",\"C\"),]\n",
    "layout(fmt(size(data)), fmt(data), fmt(size(data.AC)), fmt(data.AC))"
   ]
  },
  {
   "cell_type": "code",
   "execution_count": null,
   "metadata": {
    "hide_input": true
   },
   "outputs": [],
   "source": [
    "ggplot(data.AC) + xlim(0,10) + ylim(0,10) +\n",
    "geom_point(aes(x=x1, y=x2, color=class)) +\n",
    "geom_point(aes(x=x1, y=x2), data=new, color=NEW_COLOR) +\n",
    "scale_color_manual(values=PALETTE[c(1,3)])"
   ]
  },
  {
   "cell_type": "markdown",
   "metadata": {},
   "source": [
    "B vs. C:"
   ]
  },
  {
   "cell_type": "code",
   "execution_count": null,
   "metadata": {
    "hide_input": true,
    "scrolled": false
   },
   "outputs": [],
   "source": [
    "data.BC = data[data$class %in% c(\"B\",\"C\"),]\n",
    "layout(fmt(size(data)), fmt(data), fmt(size(data.BC)), fmt(data.BC))"
   ]
  },
  {
   "cell_type": "code",
   "execution_count": null,
   "metadata": {
    "hide_input": true
   },
   "outputs": [],
   "source": [
    "ggplot(data.BC) + xlim(0,10) + ylim(0,10) +\n",
    "geom_point(aes(x=x1, y=x2, color=class)) +\n",
    "geom_point(aes(x=x1, y=x2), data=new, color=NEW_COLOR) +\n",
    "scale_color_manual(values=PALETTE[2:3])"
   ]
  },
  {
   "cell_type": "markdown",
   "metadata": {},
   "source": [
    "### Models\n",
    "\n",
    "For each class value pair, construct a one vs. one model.\n",
    "\n",
    "Here we construct 3 one vs. one logistic regression models.  The first model predicts A vs. B, the second model predicts A vs. C, and the third model predicts B vs. C."
   ]
  },
  {
   "cell_type": "markdown",
   "metadata": {},
   "source": [
    "A vs. B:"
   ]
  },
  {
   "cell_type": "code",
   "execution_count": null,
   "metadata": {
    "hide_input": true
   },
   "outputs": [],
   "source": [
    "model.AB = glm(class ~ x1+x2, binomial(link=\"logit\"), data.AB)\n",
    "model.AB"
   ]
  },
  {
   "cell_type": "markdown",
   "metadata": {},
   "source": [
    "A vs. C:"
   ]
  },
  {
   "cell_type": "code",
   "execution_count": null,
   "metadata": {
    "hide_input": true
   },
   "outputs": [],
   "source": [
    "model.AC = glm(class ~ x1+x2, binomial(link=\"logit\"), data.AC)\n",
    "model.AC"
   ]
  },
  {
   "cell_type": "markdown",
   "metadata": {},
   "source": [
    "B vs. C:"
   ]
  },
  {
   "cell_type": "code",
   "execution_count": null,
   "metadata": {
    "hide_input": true
   },
   "outputs": [],
   "source": [
    "model.BC = glm(class ~ x1+x2, binomial(link=\"logit\"), data.BC)\n",
    "model.BC"
   ]
  },
  {
   "cell_type": "markdown",
   "metadata": {},
   "source": [
    "### Prediction\n",
    "\n",
    "For a new observation, predict class probabilities based on each one vs. one model."
   ]
  },
  {
   "cell_type": "code",
   "execution_count": null,
   "metadata": {
    "hide_input": true
   },
   "outputs": [],
   "source": [
    "output.AB = predict(model.AB, new, type=\"response\")\n",
    "prob.AB = data.frame(A=1-output.AB, B=output.AB)\n",
    "\n",
    "output.AC = predict(model.AC, new, type=\"response\")\n",
    "prob.AC = data.frame(A=1-output.AC, C=output.AC)\n",
    "\n",
    "output.BC = predict(model.BC, new, type=\"response\")\n",
    "prob.BC = data.frame(B=1-output.BC, C=output.BC)\n",
    "\n",
    "layout(fmt(new), fmt(prob.AB), fmt(prob.AC), fmt(prob.BC))"
   ]
  },
  {
   "cell_type": "markdown",
   "metadata": {},
   "source": [
    "Determine the round robin winner among all models.  Ties can be broken arbitrarily or according to some pre-determined rule."
   ]
  },
  {
   "cell_type": "code",
   "execution_count": null,
   "metadata": {
    "hide_input": true
   },
   "outputs": [],
   "source": [
    "data.frame(model=c(\"A vs. B\", \"A vs. C\", \"B vs. C\"),\n",
    "           prob.A=c(prob.AB$A, prob.AC$A, \"\"),\n",
    "           prob.B=c(prob.AB$B, \"\", prob.BC$B),\n",
    "           prob.C=c(\"\", prob.AC$C, prob.BC$C),\n",
    "           winner=factor(c(as.character(pick(prob.AB, max)),\n",
    "                           as.character(pick(prob.AC, max)),\n",
    "                           as.character(pick(prob.BC, max))), levels=c(\"A\",\"B\",\"C\")))"
   ]
  },
  {
   "cell_type": "code",
   "execution_count": null,
   "metadata": {
    "hide_input": true,
    "scrolled": true
   },
   "outputs": [],
   "source": [
    "fmt(round_robin(prob.AB, prob.AC, prob.BC)) # round_robin function accepts any number of arguments"
   ]
  },
  {
   "cell_type": "markdown",
   "metadata": {},
   "source": [
    "Note: You could enhance the round robin step to account for cutoffs."
   ]
  },
  {
   "cell_type": "markdown",
   "metadata": {},
   "source": [
    "## Code"
   ]
  },
  {
   "cell_type": "markdown",
   "metadata": {},
   "source": [
    "### Useful Functions"
   ]
  },
  {
   "cell_type": "code",
   "execution_count": null,
   "metadata": {},
   "outputs": [],
   "source": [
    "# dummify     # from setup.R\n",
    "# pick        # from setup.R\n",
    "# round_robin # from setup.R"
   ]
  },
  {
   "cell_type": "markdown",
   "metadata": {},
   "source": [
    "### Templates"
   ]
  },
  {
   "cell_type": "code",
   "execution_count": null,
   "metadata": {},
   "outputs": [],
   "source": [
    "# Multinomial Naive Bayes\n",
    "\n",
    "data = data.frame(x1   =c( 1,  1,  4,  2,  2, 6),\n",
    "                  x2   =c( 5,  6,  3,  4,  7, 8),\n",
    "                  class=c(\"B\",\"C\",\"B\",\"C\",\"A\",\"A\"))\n",
    "new = data.frame(x1=5.2, x2=4)\n",
    "\n",
    "model = naiveBayes(class ~ x1+x2, data)\n",
    "prob = predict(model, new, type=\"raw\")\n",
    "pick(prob, max)"
   ]
  },
  {
   "cell_type": "code",
   "execution_count": null,
   "metadata": {},
   "outputs": [],
   "source": [
    "# Multinomial Neural Network\n",
    "\n",
    "data = data.frame(x1   =c( 1,  1,  4,  2,  2,  6),\n",
    "                  x2   =c( 5,  6,  3,  4,  7,  8),\n",
    "                  class=c(\"B\",\"C\",\"B\",\"C\",\"A\",\"A\"))\n",
    "new = data.frame(x1=5.2, x2=4)\n",
    "\n",
    "set.seed(0)\n",
    "model = neuralnet(classA+classB+classC~x1+x2, dummify(data), hidden=c(3,3), act.fct=\"logistic\", algorithm=\"rprop+\", rep=1, linear.output=FALSE)\n",
    "output = compute(model, new[,1:2], rep=1)$net.result\n",
    "prob = data.frame(A=output[1], B=output[2], C=output[3])\n",
    "pick(prob, max)"
   ]
  },
  {
   "cell_type": "markdown",
   "metadata": {},
   "source": [
    "## Expectations\n",
    "\n",
    "Know about this:\n",
    "* How to build a multinomial naive bayes model and use it to predict the class of a new observation.\n",
    "* How to build a multinomial neural network model and use it to predict the class of a new observation.\n",
    "* How to convert any binary classifier construction method to a multinomial classifier construction method, use it to construct a multinomial classifier, and use it to predict the class of a new observation - with the one vs. many approach.\n",
    "* How to convert any binary classifier construction method to a multinomial classifier construction method, use it to construct a multinomial classifier, and use it to predict the class of a new observation - with the one vs. one approach."
   ]
  },
  {
   "cell_type": "markdown",
   "metadata": {},
   "source": [
    "## Further Reading\n",
    "\n",
    "* http://ciml.info/dl/v0_99/ciml-v0_99-ch06.pdf\n",
    "* https://www.youtube.com/watch?v=N1vOgolbjSc\n",
    "* https://en.wikipedia.org/wiki/Multiclass_classification\n",
    "* https://www.researchgate.net/publication/320331663_MCS_Multiple_Classifier_System_to_Predict_the_Churners_in_the_Telecom_Industry\n",
    "* https://www.r-bloggers.com/multilabel-classification-with-neuralnet-package/\n",
    "* https://www.youtube.com/watch?v=WKPPKJVobRM&t=4s\n",
    "* https://www.youtube.com/watch?v=6kzvrq-MIO0"
   ]
  },
  {
   "cell_type": "markdown",
   "metadata": {},
   "source": [
    "<p style=\"text-align:left; font-size:10px;\">\n",
    "Copyright (c) Berkeley Data Analytics Group, LLC\n",
    "<span style=\"float:right;\">\n",
    "Document revised July 17, 2020\n",
    "</span>\n",
    "</p>"
   ]
  }
 ],
 "metadata": {
  "hide_code_all_hidden": false,
  "hide_input": false,
  "kernelspec": {
   "display_name": "R",
   "language": "R",
   "name": "ir"
  },
  "language_info": {
   "codemirror_mode": "r",
   "file_extension": ".r",
   "mimetype": "text/x-r-source",
   "name": "R",
   "pygments_lexer": "r",
   "version": "3.6.1"
  },
  "toc": {
   "base_numbering": 1,
   "nav_menu": {},
   "number_sections": true,
   "sideBar": true,
   "skip_h1_title": true,
   "title_cell": "Table of Contents",
   "title_sidebar": "Contents",
   "toc_cell": false,
   "toc_position": {
    "height": "calc(100% - 180px)",
    "left": "10px",
    "top": "150px",
    "width": "255.865px"
   },
   "toc_section_display": true,
   "toc_window_display": false
  }
 },
 "nbformat": 4,
 "nbformat_minor": 2
}
