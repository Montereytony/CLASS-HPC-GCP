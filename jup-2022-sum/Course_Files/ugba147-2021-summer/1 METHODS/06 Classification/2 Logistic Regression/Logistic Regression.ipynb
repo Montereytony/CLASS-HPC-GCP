{
 "cells": [
  {
   "cell_type": "markdown",
   "metadata": {
    "hideCode": false,
    "hidePrompt": false
   },
   "source": [
    "# Classification by Logistic Regression\n",
    "\n",
    "![](banner_logreg.jpg)"
   ]
  },
  {
   "cell_type": "code",
   "execution_count": 1,
   "metadata": {
    "hide_input": true
   },
   "outputs": [
    {
     "data": {
      "text/html": [
       "<p style=\"text-align:center; font-size:10px;\">\n",
       ".................................................... start of document ....................................................\n",
       "</p>"
      ]
     },
     "metadata": {},
     "output_type": "display_data"
    }
   ],
   "source": [
    "f = \"setup.R\"; for (i in 1:10) { if (file.exists(f)) break else f = paste0(\"../\", f) }; source(f)\n",
    "                     \n",
    "update_geom_defaults(\"path\", list(color=\"black\"))"
   ]
  },
  {
   "cell_type": "markdown",
   "metadata": {},
   "source": [
    "## Introduction\n",
    "\n",
    "Motivation, context, history, related topics ...\n",
    "\n",
    "The logistic regression method is used to build a classification model.  The form of the model is a set of coefficients of a vector sigmoid function.\n",
    "\n",
    "Method:<br>\n",
    "Treat class values as numeric (0 or 1).  Find the vector sigmoid function that best approximates the data.  Use this function as a measure of the probability of being in a certain class.\n",
    "\n",
    "$$\n",
    "P(class=B) = \\frac{1}{1 + e^{\\, - \\, \\large {(\\beta_0 + \\beta_1x_1 + \\beta_2x_2 + ...)}}}\n",
    "$$"
   ]
  },
  {
   "cell_type": "markdown",
   "metadata": {
    "hide_input": true
   },
   "source": [
    "## Terms"
   ]
  },
  {
   "cell_type": "markdown",
   "metadata": {},
   "source": [
    "* Sigmoid function or logistic function"
   ]
  },
  {
   "cell_type": "markdown",
   "metadata": {},
   "source": [
    "## About Sigmoid Functions\n",
    "\n",
    "A sigmoid function rescales any numeric value into range 0 to 1.\n",
    "\n",
    "$$sigmoid(x) = \\frac{1}{1 + e^{\\, - \\, \\large {x}}} $$\n",
    "\n",
    "$$sigmoid_{\\beta_0\\beta_1}(x) = \\frac{1}{1 + e^{\\, - \\, \\large {(\\beta_0 + \\beta_1x)}}} $$\n",
    "<p style=\"text-align: center;\"> range: $0 < sigmoid_{\\beta_0\\beta_1}(x) < 1$, for any $x$ </p>"
   ]
  },
  {
   "cell_type": "markdown",
   "metadata": {},
   "source": [
    "## Logistic Regression with One Predictor Variable"
   ]
  },
  {
   "cell_type": "markdown",
   "metadata": {},
   "source": [
    "### Data\n",
    "\n",
    "Consider these data and new observation."
   ]
  },
  {
   "cell_type": "code",
   "execution_count": 3,
   "metadata": {
    "hide_input": true,
    "scrolled": false
   },
   "outputs": [
    {
     "data": {
      "text/html": [
       "<table><tr><td style=\"background-color:white; vertical-align:top; padding-right:40px;\"><table>\n",
       "<caption><center><font color=\"black\"><b>data</b></font></center></caption>\n",
       " <thead>\n",
       "  <tr>\n",
       "   <th style=\"text-align:right;background-color: #FFFFFF !important;\"> x1 </th>\n",
       "   <th style=\"text-align:right;background-color: #FFFFFF !important;\"> class </th>\n",
       "  </tr>\n",
       " </thead>\n",
       "<tbody>\n",
       "  <tr>\n",
       "   <td style=\"text-align:right;\"> -9 </td>\n",
       "   <td style=\"text-align:right;\"> A </td>\n",
       "  </tr>\n",
       "  <tr>\n",
       "   <td style=\"text-align:right;\"> -5 </td>\n",
       "   <td style=\"text-align:right;\"> A </td>\n",
       "  </tr>\n",
       "  <tr>\n",
       "   <td style=\"text-align:right;\"> -1 </td>\n",
       "   <td style=\"text-align:right;\"> B </td>\n",
       "  </tr>\n",
       "  <tr>\n",
       "   <td style=\"text-align:right;\"> 0 </td>\n",
       "   <td style=\"text-align:right;\"> A </td>\n",
       "  </tr>\n",
       "  <tr>\n",
       "   <td style=\"text-align:right;\"> 3 </td>\n",
       "   <td style=\"text-align:right;\"> B </td>\n",
       "  </tr>\n",
       "  <tr>\n",
       "   <td style=\"text-align:right;\"> 5 </td>\n",
       "   <td style=\"text-align:right;\"> B </td>\n",
       "  </tr>\n",
       "  <tr>\n",
       "   <td style=\"text-align:right;\"> 9 </td>\n",
       "   <td style=\"text-align:right;\"> B </td>\n",
       "  </tr>\n",
       "</tbody>\n",
       "</table></td><td style=\"background-color:white; vertical-align:top;\"><table>\n",
       "<caption><center><font color=\"black\"><b>new</b></font></center></caption>\n",
       " <thead>\n",
       "  <tr>\n",
       "   <th style=\"text-align:right;background-color: #FFFFFF !important;\"> x1 </th>\n",
       "  </tr>\n",
       " </thead>\n",
       "<tbody>\n",
       "  <tr>\n",
       "   <td style=\"text-align:right;\"> 1 </td>\n",
       "  </tr>\n",
       "</tbody>\n",
       "</table></td></tr></table>"
      ]
     },
     "metadata": {},
     "output_type": "display_data"
    },
    {
     "data": {
      "image/png": "[encoded data removed]",
      "text/plain": [
       "plot without title"
      ]
     },
     "metadata": {},
     "output_type": "display_data"
    }
   ],
   "source": [
    "data = data.frame(x1=c(-9,-5, -1, 0, 3, 5, 9), class=c(\"A\", \"A\", \"B\", \"A\", \"B\", \"B\", \"B\"))\n",
    "new = data.frame(x1=1)\n",
    "layout(fmt(data), fmt(new))\n",
    "\n",
    "output_size(8,1)\n",
    "ggplot(data) +\n",
    "geom_point(aes(x=x1, y=0, color=class)) +\n",
    "geom_point(aes(x=x1, y=0), data=new, color=NEW_COLOR) +\n",
    "theme.x_axis_only\n",
    "output_size(restore)"
   ]
  },
  {
   "cell_type": "markdown",
   "metadata": {},
   "source": [
    "### Convert Class Variable from Categorical to Binary"
   ]
  },
  {
   "cell_type": "code",
   "execution_count": 5,
   "metadata": {
    "hide_input": true
   },
   "outputs": [
    {
     "data": {
      "text/html": [
       "<table>\n",
       "<caption><center><font color=\"black\"><b>data (transformed)</b></font></center></caption>\n",
       " <thead>\n",
       "  <tr>\n",
       "   <th style=\"text-align:right;background-color: #FFFFFF !important;\"> x1 </th>\n",
       "   <th style=\"text-align:right;background-color: #FFFFFF !important;\"> class </th>\n",
       "   <th style=\"text-align:right;background-color: #FFFFFF !important;\"> class.bin </th>\n",
       "  </tr>\n",
       " </thead>\n",
       "<tbody>\n",
       "  <tr>\n",
       "   <td style=\"text-align:right;\"> -9 </td>\n",
       "   <td style=\"text-align:right;\"> A </td>\n",
       "   <td style=\"text-align:right;\"> 0 </td>\n",
       "  </tr>\n",
       "  <tr>\n",
       "   <td style=\"text-align:right;\"> -5 </td>\n",
       "   <td style=\"text-align:right;\"> A </td>\n",
       "   <td style=\"text-align:right;\"> 0 </td>\n",
       "  </tr>\n",
       "  <tr>\n",
       "   <td style=\"text-align:right;\"> -1 </td>\n",
       "   <td style=\"text-align:right;\"> B </td>\n",
       "   <td style=\"text-align:right;\"> 1 </td>\n",
       "  </tr>\n",
       "  <tr>\n",
       "   <td style=\"text-align:right;\"> 0 </td>\n",
       "   <td style=\"text-align:right;\"> A </td>\n",
       "   <td style=\"text-align:right;\"> 0 </td>\n",
       "  </tr>\n",
       "  <tr>\n",
       "   <td style=\"text-align:right;\"> 3 </td>\n",
       "   <td style=\"text-align:right;\"> B </td>\n",
       "   <td style=\"text-align:right;\"> 1 </td>\n",
       "  </tr>\n",
       "  <tr>\n",
       "   <td style=\"text-align:right;\"> 5 </td>\n",
       "   <td style=\"text-align:right;\"> B </td>\n",
       "   <td style=\"text-align:right;\"> 1 </td>\n",
       "  </tr>\n",
       "  <tr>\n",
       "   <td style=\"text-align:right;\"> 9 </td>\n",
       "   <td style=\"text-align:right;\"> B </td>\n",
       "   <td style=\"text-align:right;\"> 1 </td>\n",
       "  </tr>\n",
       "</tbody>\n",
       "</table>"
      ]
     },
     "metadata": {},
     "output_type": "display_data"
    },
    {
     "data": {
      "image/png": "[encoded data removed]",
      "text/plain": [
       "plot without title"
      ]
     },
     "metadata": {},
     "output_type": "display_data"
    }
   ],
   "source": [
    "data$class.bin = as.binary(data$class, \"B\")\n",
    "fmt(data, \"data (transformed)\")\n",
    "\n",
    "ggplot(data) + geom_point(aes(x=x1, y=class.bin, color=class))"
   ]
  },
  {
   "cell_type": "markdown",
   "metadata": {},
   "source": [
    "### Assume Sigmoid Function Approximates the Underlying Process"
   ]
  },
  {
   "cell_type": "code",
   "execution_count": 6,
   "metadata": {
    "hide_input": true
   },
   "outputs": [
    {
     "data": {
      "image/png": "[encoded data removed]",
      "text/plain": [
       "plot without title"
      ]
     },
     "metadata": {},
     "output_type": "display_data"
    }
   ],
   "source": [
    "ggplot(data) + xlim(-10,10) + \n",
    "geom_point(aes(x=x1, y=class.bin, color=class)) + stat_function(fun=sigmoid, n=500)"
   ]
  },
  {
   "cell_type": "markdown",
   "metadata": {},
   "source": [
    "### Optimize Sigmoid Function to Best Fit the Existing Data"
   ]
  },
  {
   "cell_type": "code",
   "execution_count": 8,
   "metadata": {
    "hide_input": true
   },
   "outputs": [
    {
     "data": {
      "text/html": [
       "<table>\n",
       "<caption><center><font color=\"black\"><b>model</b></font></center></caption>\n",
       " <thead>\n",
       "  <tr>\n",
       "   <th style=\"text-align:right;background-color: #FFFFFF !important;\"> b0 </th>\n",
       "   <th style=\"text-align:right;background-color: #FFFFFF !important;\"> b1 </th>\n",
       "  </tr>\n",
       " </thead>\n",
       "<tbody>\n",
       "  <tr>\n",
       "   <td style=\"text-align:right;\"> 0.444605 </td>\n",
       "   <td style=\"text-align:right;\"> 0.7040943 </td>\n",
       "  </tr>\n",
       "</tbody>\n",
       "</table>"
      ]
     },
     "metadata": {},
     "output_type": "display_data"
    },
    {
     "data": {
      "image/png": "[encoded data removed]",
      "text/plain": [
       "plot without title"
      ]
     },
     "metadata": {},
     "output_type": "display_data"
    }
   ],
   "source": [
    "mysigmoid = function(x, b0, b1) { 1 / (1 + exp(-(b0 + b1*x))) }\n",
    "\n",
    "model = glm(class ~ x1, binomial(link=\"logit\"), data)\n",
    "b0  = as.numeric(model$coefficients[\"(Intercept)\"])\n",
    "b1 = as.numeric(model$coefficients[\"x1\"])\n",
    "\n",
    "fmt(data.frame(b0, b1), \"model\")\n",
    "\n",
    "ggplot(data) + xlim(-10,10) + \n",
    "geom_point(aes(x=x1, y=class.bin, color=class)) +\n",
    "stat_function(fun=mysigmoid, args=c(b0, b1), n=500)"
   ]
  },
  {
   "cell_type": "markdown",
   "metadata": {},
   "source": [
    "### Prediction\n",
    "\n",
    "The new observation's class is predicted to be B because sigmoid(1) = 0.76 > 0.50, assuming a cutoff of 0.50."
   ]
  },
  {
   "cell_type": "code",
   "execution_count": 10,
   "metadata": {
    "hide_input": true
   },
   "outputs": [
    {
     "data": {
      "text/html": [
       "<table>\n",
       "<caption><center><font color=\"black\"><b>new</b></font></center></caption>\n",
       " <thead>\n",
       "  <tr>\n",
       "   <th style=\"text-align:right;background-color: #FFFFFF !important;\"> x1 </th>\n",
       "   <th style=\"text-align:right;background-color: #FFFFFF !important;\"> 1-sigmoid=prob.A </th>\n",
       "   <th style=\"text-align:right;background-color: #FFFFFF !important;\"> sigmoid=prob.B </th>\n",
       "   <th style=\"text-align:right;background-color: #FFFFFF !important;\"> class.predicted </th>\n",
       "  </tr>\n",
       " </thead>\n",
       "<tbody>\n",
       "  <tr>\n",
       "   <td style=\"text-align:right;\"> 1 </td>\n",
       "   <td style=\"text-align:right;\"> 0.2407267 </td>\n",
       "   <td style=\"text-align:right;\"> 0.7592733 </td>\n",
       "   <td style=\"text-align:right;\"> B </td>\n",
       "  </tr>\n",
       "</tbody>\n",
       "</table>"
      ]
     },
     "metadata": {},
     "output_type": "display_data"
    },
    {
     "data": {
      "image/png": "[encoded data removed]",
      "text/plain": [
       "plot without title"
      ]
     },
     "metadata": {},
     "output_type": "display_data"
    }
   ],
   "source": [
    "fmt(cbind(new,\n",
    "      \"1-sigmoid=prob.A\"=1-mysigmoid(new$x1, b0, b1), \n",
    "      \"sigmoid=prob.B\"=mysigmoid(new$x1, b0, b1), \n",
    "      class.predicted=\"B\"), \"new\")\n",
    "\n",
    "ggplot(data) + xlim(-10,10) + \n",
    "geom_point(aes(x=x1, y=class.bin, color=class)) +\n",
    "geom_point(aes(x=x1, y=mysigmoid(x1, b0, b1)), data=new, color=NEW_COLOR) +\n",
    "geom_hline(aes(yintercept=mysigmoid(x1, b0, b1)), data=new, linetype=\"dashed\") +\n",
    "stat_function(fun=mysigmoid, args=c(b0, b1), n=500)"
   ]
  },
  {
   "cell_type": "markdown",
   "metadata": {},
   "source": [
    "## About Vector Sigmoid Functions\n",
    "\n",
    "A vector sigmoid function rescales any vector of numeric values into range 0 to 1.\n",
    "\n",
    "$$sigmoid_{\\beta_0\\beta_1\\beta_2...} = \\frac{1}{1 + e^{\\, - \\, \\large {(\\beta_0 + \\beta_1x_1 + \\beta_2x_2 + ...)}}} $$\n",
    "<p style=\"text-align: center;\"> range: $0 < sigmoid_{\\beta_0\\beta_1\\beta_2...}(x1, x2, ...) < 1$, for any $x1, x2, ...$ </p>"
   ]
  },
  {
   "cell_type": "markdown",
   "metadata": {},
   "source": [
    "## Logistic Regression with Many Predictor Variables"
   ]
  },
  {
   "cell_type": "markdown",
   "metadata": {},
   "source": [
    "### Data\n",
    "\n",
    "Consider these data and new observations."
   ]
  },
  {
   "cell_type": "code",
   "execution_count": 12,
   "metadata": {
    "hide_input": true,
    "scrolled": false
   },
   "outputs": [
    {
     "data": {
      "text/html": [
       "<table><tr><td style=\"background-color:white; vertical-align:top; padding-right:40px;\"><table>\n",
       "<caption><center><font color=\"black\"><b>data</b></font></center></caption>\n",
       " <thead>\n",
       "  <tr>\n",
       "   <th style=\"text-align:right;background-color: #FFFFFF !important;\"> x1 </th>\n",
       "   <th style=\"text-align:right;background-color: #FFFFFF !important;\"> x2 </th>\n",
       "   <th style=\"text-align:right;background-color: #FFFFFF !important;\"> x3 </th>\n",
       "   <th style=\"text-align:right;background-color: #FFFFFF !important;\"> class </th>\n",
       "  </tr>\n",
       " </thead>\n",
       "<tbody>\n",
       "  <tr>\n",
       "   <td style=\"text-align:right;\"> 4 </td>\n",
       "   <td style=\"text-align:right;\"> 9 </td>\n",
       "   <td style=\"text-align:right;\"> 9 </td>\n",
       "   <td style=\"text-align:right;\"> A </td>\n",
       "  </tr>\n",
       "  <tr>\n",
       "   <td style=\"text-align:right;\"> 2 </td>\n",
       "   <td style=\"text-align:right;\"> 7 </td>\n",
       "   <td style=\"text-align:right;\"> 8 </td>\n",
       "   <td style=\"text-align:right;\"> B </td>\n",
       "  </tr>\n",
       "  <tr>\n",
       "   <td style=\"text-align:right;\"> 3 </td>\n",
       "   <td style=\"text-align:right;\"> 6 </td>\n",
       "   <td style=\"text-align:right;\"> 2 </td>\n",
       "   <td style=\"text-align:right;\"> A </td>\n",
       "  </tr>\n",
       "  <tr>\n",
       "   <td style=\"text-align:right;\"> 2 </td>\n",
       "   <td style=\"text-align:right;\"> 5 </td>\n",
       "   <td style=\"text-align:right;\"> 2 </td>\n",
       "   <td style=\"text-align:right;\"> B </td>\n",
       "  </tr>\n",
       "  <tr>\n",
       "   <td style=\"text-align:right;\"> 5 </td>\n",
       "   <td style=\"text-align:right;\"> 4 </td>\n",
       "   <td style=\"text-align:right;\"> 3 </td>\n",
       "   <td style=\"text-align:right;\"> A </td>\n",
       "  </tr>\n",
       "  <tr>\n",
       "   <td style=\"text-align:right;\"> 1 </td>\n",
       "   <td style=\"text-align:right;\"> 8 </td>\n",
       "   <td style=\"text-align:right;\"> 3 </td>\n",
       "   <td style=\"text-align:right;\"> B </td>\n",
       "  </tr>\n",
       "  <tr>\n",
       "   <td style=\"text-align:right;\"> 7 </td>\n",
       "   <td style=\"text-align:right;\"> 2 </td>\n",
       "   <td style=\"text-align:right;\"> 4 </td>\n",
       "   <td style=\"text-align:right;\"> A </td>\n",
       "  </tr>\n",
       "  <tr>\n",
       "   <td style=\"text-align:right;\"> 8 </td>\n",
       "   <td style=\"text-align:right;\"> 1 </td>\n",
       "   <td style=\"text-align:right;\"> 4 </td>\n",
       "   <td style=\"text-align:right;\"> B </td>\n",
       "  </tr>\n",
       "</tbody>\n",
       "</table></td><td style=\"background-color:white; vertical-align:top;\"><table>\n",
       "<caption><center><font color=\"black\"><b>new</b></font></center></caption>\n",
       " <thead>\n",
       "  <tr>\n",
       "   <th style=\"text-align:right;background-color: #FFFFFF !important;\"> x1 </th>\n",
       "   <th style=\"text-align:right;background-color: #FFFFFF !important;\"> x2 </th>\n",
       "   <th style=\"text-align:right;background-color: #FFFFFF !important;\"> x3 </th>\n",
       "  </tr>\n",
       " </thead>\n",
       "<tbody>\n",
       "  <tr>\n",
       "   <td style=\"text-align:right;\"> 5 </td>\n",
       "   <td style=\"text-align:right;\"> 8 </td>\n",
       "   <td style=\"text-align:right;\"> 1 </td>\n",
       "  </tr>\n",
       "  <tr>\n",
       "   <td style=\"text-align:right;\"> 6 </td>\n",
       "   <td style=\"text-align:right;\"> 7 </td>\n",
       "   <td style=\"text-align:right;\"> 5 </td>\n",
       "  </tr>\n",
       "  <tr>\n",
       "   <td style=\"text-align:right;\"> 4 </td>\n",
       "   <td style=\"text-align:right;\"> 6 </td>\n",
       "   <td style=\"text-align:right;\"> 2 </td>\n",
       "  </tr>\n",
       "  <tr>\n",
       "   <td style=\"text-align:right;\"> 1 </td>\n",
       "   <td style=\"text-align:right;\"> 1 </td>\n",
       "   <td style=\"text-align:right;\"> 6 </td>\n",
       "  </tr>\n",
       "</tbody>\n",
       "</table></td></tr></table>"
      ]
     },
     "metadata": {},
     "output_type": "display_data"
    },
    {
     "data": {
      "image/png": "[encoded data removed]",
      "text/plain": [
       "plot without title"
      ]
     },
     "metadata": {},
     "output_type": "display_data"
    }
   ],
   "source": [
    "data = data.frame(x1=c(4,2,3,2,5,1,7,8), x2=c(9,7,6,5,4,8,2,1), x3=c(9,8,2,2,3,3,4,4),\n",
    "                  class=c(\"A\", \"B\", \"A\", \"B\", \"A\", \"B\", \"A\", \"B\"))\n",
    "new = data.frame(x1=c(5,6,4,1), x2=c(8,7,6,1), x3=c(1,5,2,6))\n",
    "\n",
    "layout(fmt(data), fmt(new))\n",
    "\n",
    "output_size(6,2)\n",
    "p1 = ggplot(data) + xlim(0,10) + ylim(0,10) + geom_point(aes(x=x1, y=x2, color=class)) + geom_point(aes(x=x1, y=x2), data=new, color=NEW_COLOR) + theme.no_legend\n",
    "p2 = ggplot(data) + xlim(0,10) + ylim(0,10) + geom_point(aes(x=x1, y=x3, color=class)) + geom_point(aes(x=x1, y=x3), data=new, color=NEW_COLOR) + theme.no_legend\n",
    "p3 = ggplot(data) + xlim(0,10) + ylim(0,10) + geom_point(aes(x=x2, y=x3, color=class)) + geom_point(aes(x=x2, y=x3), data=new, color=NEW_COLOR) + theme.no_legend\n",
    "grid.arrange(p1, p2, p3, nrow=1)\n",
    "output_size(restore)"
   ]
  },
  {
   "cell_type": "markdown",
   "metadata": {},
   "source": [
    "### Model"
   ]
  },
  {
   "cell_type": "code",
   "execution_count": 14,
   "metadata": {
    "hide_input": true
   },
   "outputs": [
    {
     "data": {
      "text/html": [
       "<table>\n",
       "<caption><center><font color=\"black\"><b>model</b></font></center></caption>\n",
       " <thead>\n",
       "  <tr>\n",
       "   <th style=\"text-align:right;background-color: #FFFFFF !important;\"> b0 </th>\n",
       "   <th style=\"text-align:right;background-color: #FFFFFF !important;\"> b1 </th>\n",
       "   <th style=\"text-align:right;background-color: #FFFFFF !important;\"> b2 </th>\n",
       "   <th style=\"text-align:right;background-color: #FFFFFF !important;\"> b3 </th>\n",
       "  </tr>\n",
       " </thead>\n",
       "<tbody>\n",
       "  <tr>\n",
       "   <td style=\"text-align:right;\"> 88.58359 </td>\n",
       "   <td style=\"text-align:right;\"> -11.88038 </td>\n",
       "   <td style=\"text-align:right;\"> -10.9658 </td>\n",
       "   <td style=\"text-align:right;\"> 4.248673 </td>\n",
       "  </tr>\n",
       "</tbody>\n",
       "</table>"
      ]
     },
     "metadata": {},
     "output_type": "display_data"
    }
   ],
   "source": [
    "model = glm(class ~ x1+x2+x3, binomial(link=\"logit\"), data)\n",
    "b0 = as.numeric(model$coefficients[\"(Intercept)\"])\n",
    "b1 = as.numeric(model$coefficients[\"x1\"])\n",
    "b2 = as.numeric(model$coefficients[\"x2\"])\n",
    "b3 = as.numeric(model$coefficients[\"x3\"])\n",
    "\n",
    "fmt(data.frame(b0, b1, b2, b3), \"model\")"
   ]
  },
  {
   "cell_type": "markdown",
   "metadata": {},
   "source": [
    "### Prediction\n",
    "\n",
    "The new observations' classes are predicted like this, assuming a cutoff of 0.50."
   ]
  },
  {
   "cell_type": "code",
   "execution_count": 15,
   "metadata": {
    "hide_input": true
   },
   "outputs": [
    {
     "data": {
      "text/html": [
       "<table>\n",
       "<thead><tr><th scope=col>x1</th><th scope=col>x2</th><th scope=col>x3</th><th scope=col>1-sigmoid=prob.A</th><th scope=col>sigmoid=prob.B</th><th scope=col>class.predicted</th></tr></thead>\n",
       "<tbody>\n",
       "\t<tr><td>5           </td><td>8           </td><td>1           </td><td>1.000000e+00</td><td>2.220446e-16</td><td>A           </td></tr>\n",
       "\t<tr><td>6           </td><td>7           </td><td>5           </td><td>1.000000e+00</td><td>2.220446e-16</td><td>A           </td></tr>\n",
       "\t<tr><td>4           </td><td>6           </td><td>2           </td><td>9.999999e-01</td><td>8.893374e-08</td><td>A           </td></tr>\n",
       "\t<tr><td>1           </td><td>1           </td><td>6           </td><td>2.220446e-16</td><td>1.000000e+00</td><td>B           </td></tr>\n",
       "</tbody>\n",
       "</table>\n"
      ],
      "text/latex": [
       "\\begin{tabular}{r|llllll}\n",
       " x1 & x2 & x3 & 1-sigmoid=prob.A & sigmoid=prob.B & class.predicted\\\\\n",
       "\\hline\n",
       "\t 5            & 8            & 1            & 1.000000e+00 & 2.220446e-16 & A           \\\\\n",
       "\t 6            & 7            & 5            & 1.000000e+00 & 2.220446e-16 & A           \\\\\n",
       "\t 4            & 6            & 2            & 9.999999e-01 & 8.893374e-08 & A           \\\\\n",
       "\t 1            & 1            & 6            & 2.220446e-16 & 1.000000e+00 & B           \\\\\n",
       "\\end{tabular}\n"
      ],
      "text/markdown": [
       "\n",
       "| x1 | x2 | x3 | 1-sigmoid=prob.A | sigmoid=prob.B | class.predicted |\n",
       "|---|---|---|---|---|---|\n",
       "| 5            | 8            | 1            | 1.000000e+00 | 2.220446e-16 | A            |\n",
       "| 6            | 7            | 5            | 1.000000e+00 | 2.220446e-16 | A            |\n",
       "| 4            | 6            | 2            | 9.999999e-01 | 8.893374e-08 | A            |\n",
       "| 1            | 1            | 6            | 2.220446e-16 | 1.000000e+00 | B            |\n",
       "\n"
      ],
      "text/plain": [
       "  x1 x2 x3 1-sigmoid=prob.A sigmoid=prob.B class.predicted\n",
       "1 5  8  1  1.000000e+00     2.220446e-16   A              \n",
       "2 6  7  5  1.000000e+00     2.220446e-16   A              \n",
       "3 4  6  2  9.999999e-01     8.893374e-08   A              \n",
       "4 1  1  6  2.220446e-16     1.000000e+00   B              "
      ]
     },
     "metadata": {},
     "output_type": "display_data"
    }
   ],
   "source": [
    "cutoff = 0.5\n",
    "\n",
    "# prob.B = 1 / (1 + exp(-(b0 + b1*new$x1 + b2*new$x2 + b3*new$x3))) # calc explicitly\n",
    "prob.B = predict(model, new, type=\"response\") # calc using predict function\n",
    "prob = data.frame(A=1-prob.B, B=prob.B)\n",
    "\n",
    "class.predicted = as.class(prob, class=\"A\", cutoff)\n",
    "\n",
    "cbind(new, \"1-sigmoid=prob.A\"=prob$A, \"sigmoid=prob.B\"=prob.B, class.predicted)"
   ]
  },
  {
   "cell_type": "markdown",
   "metadata": {},
   "source": [
    "## Code"
   ]
  },
  {
   "cell_type": "markdown",
   "metadata": {},
   "source": [
    "### Useful Functions"
   ]
  },
  {
   "cell_type": "code",
   "execution_count": 10,
   "metadata": {},
   "outputs": [],
   "source": [
    "# help(glm, package=\"stats\")\n",
    "# help(predict.glm) # use predict to call this function"
   ]
  },
  {
   "cell_type": "markdown",
   "metadata": {},
   "source": [
    "### Templates"
   ]
  },
  {
   "cell_type": "code",
   "execution_count": 16,
   "metadata": {},
   "outputs": [
    {
     "data": {
      "text/plain": [
       "\n",
       "Call:  glm(formula = class ~ x1 + x2 + x3, family = binomial(link = \"logit\"), \n",
       "    data = data)\n",
       "\n",
       "Coefficients:\n",
       "        (Intercept)                   x1                   x2  \n",
       " 24.566069711384891   49.132138234915431    0.000000000001827  \n",
       "                 x3  \n",
       "-98.264276469826200  \n",
       "\n",
       "Degrees of Freedom: 7 Total (i.e. Null);  4 Residual\n",
       "Null Deviance:\t    11.09 \n",
       "Residual Deviance: 0.0000000003429 \tAIC: 8"
      ]
     },
     "metadata": {},
     "output_type": "display_data"
    }
   ],
   "source": [
    "# Build a logistic regression model\n",
    "\n",
    "data = data.frame(x1=c(1,2,3,4,5,6,7,8), x2=c(9,7,6,5,4,3,2,1), x3=c(1,1,2,2,3,3,4,4),\n",
    "                  class=c(\"A\", \"B\", \"A\", \"B\", \"A\", \"B\", \"A\", \"B\"))\n",
    "\n",
    "model = glm(class ~ x1+x2+x3, binomial(link=\"logit\"), data)\n",
    "model"
   ]
  },
  {
   "cell_type": "code",
   "execution_count": 17,
   "metadata": {},
   "outputs": [
    {
     "data": {
      "text/html": [
       "<table>\n",
       "<thead><tr><th scope=col>x1</th><th scope=col>x2</th><th scope=col>x3</th><th scope=col>prediction</th></tr></thead>\n",
       "<tbody>\n",
       "\t<tr><td>5</td><td>8</td><td>1</td><td>B</td></tr>\n",
       "\t<tr><td>6</td><td>7</td><td>5</td><td>A</td></tr>\n",
       "\t<tr><td>7</td><td>6</td><td>2</td><td>B</td></tr>\n",
       "\t<tr><td>8</td><td>5</td><td>6</td><td>A</td></tr>\n",
       "</tbody>\n",
       "</table>\n"
      ],
      "text/latex": [
       "\\begin{tabular}{r|llll}\n",
       " x1 & x2 & x3 & prediction\\\\\n",
       "\\hline\n",
       "\t 5 & 8 & 1 & B\\\\\n",
       "\t 6 & 7 & 5 & A\\\\\n",
       "\t 7 & 6 & 2 & B\\\\\n",
       "\t 8 & 5 & 6 & A\\\\\n",
       "\\end{tabular}\n"
      ],
      "text/markdown": [
       "\n",
       "| x1 | x2 | x3 | prediction |\n",
       "|---|---|---|---|\n",
       "| 5 | 8 | 1 | B |\n",
       "| 6 | 7 | 5 | A |\n",
       "| 7 | 6 | 2 | B |\n",
       "| 8 | 5 | 6 | A |\n",
       "\n"
      ],
      "text/plain": [
       "  x1 x2 x3 prediction\n",
       "1 5  8  1  B         \n",
       "2 6  7  5  A         \n",
       "3 7  6  2  B         \n",
       "4 8  5  6  A         "
      ]
     },
     "metadata": {},
     "output_type": "display_data"
    }
   ],
   "source": [
    "# Use a logistic regression model to make predictions\n",
    "\n",
    "new = data.frame(x1=c(5,6,7,8), x2=c(8,7,6,5), x3=c(1,5,2,6))\n",
    "cutoff = 0.5\n",
    "\n",
    "prob.B = predict(model, new, type=\"response\")\n",
    "prob = data.frame(\"A\"=1-prob.B, \"B\"=prob.B)\n",
    "prediction = as.class(prob, class=\"B\", cutoff)\n",
    "cbind(new, prediction)"
   ]
  },
  {
   "cell_type": "markdown",
   "metadata": {},
   "source": [
    "## Expectations\n",
    "\n",
    "Know about this:\n",
    "* How to build a logistic regression model, and use it to predict the classes of new observations, using R's `glm` and `predict` functions"
   ]
  },
  {
   "cell_type": "markdown",
   "metadata": {},
   "source": [
    "## Further Reading\n",
    "\n",
    "* https://www.statmethods.net/advstats/glm.html"
   ]
  },
  {
   "cell_type": "markdown",
   "metadata": {},
   "source": [
    "<p style=\"text-align:left; font-size:10px;\">\n",
    "Copyright (c) Berkeley Data Analytics Group, LLC\n",
    "<span style=\"float:right;\">\n",
    "Document revised March 31, 2021\n",
    "</span>\n",
    "</p>"
   ]
  }
 ],
 "metadata": {
  "hide_code_all_hidden": false,
  "hide_input": false,
  "kernelspec": {
   "display_name": "R",
   "language": "R",
   "name": "ir"
  },
  "language_info": {
   "codemirror_mode": "r",
   "file_extension": ".r",
   "mimetype": "text/x-r-source",
   "name": "R",
   "pygments_lexer": "r",
   "version": "3.6.1"
  },
  "toc": {
   "base_numbering": 1,
   "nav_menu": {},
   "number_sections": true,
   "sideBar": true,
   "skip_h1_title": true,
   "title_cell": "Table of Contents",
   "title_sidebar": "Contents",
   "toc_cell": false,
   "toc_position": {
    "height": "calc(100% - 180px)",
    "left": "10px",
    "top": "150px",
    "width": "307.198px"
   },
   "toc_section_display": true,
   "toc_window_display": false
  }
 },
 "nbformat": 4,
 "nbformat_minor": 2
}
