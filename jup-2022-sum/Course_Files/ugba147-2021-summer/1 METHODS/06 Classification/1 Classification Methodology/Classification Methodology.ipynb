{
 "cells": [
  {
   "cell_type": "markdown",
   "metadata": {
    "hideCode": false,
    "hidePrompt": false
   },
   "source": [
    "# Classification Methodology\n",
    "\n",
    "![](banner_classification.jpg)\n",
    "\n",
    "_<p style=\"text-align: center;\"> The Oracle of Delphi predicted, \"You are invincible, my son!\" <br/> Alexander replied, \"Now I have my answer.\" </p>_"
   ]
  },
  {
   "cell_type": "code",
   "execution_count": 1,
   "metadata": {
    "hide_input": true
   },
   "outputs": [
    {
     "data": {
      "text/html": [
       "<p style=\"text-align:center; font-size:10px;\">\n",
       ".................................................... start of document ....................................................\n",
       "</p>"
      ]
     },
     "metadata": {},
     "output_type": "display_data"
    }
   ],
   "source": [
    "f = \"setup.R\"; for (i in 1:10) { if (file.exists(f)) break else f = paste0(\"../\", f) }; source(f)                     \n",
    "update_geom_defaults(\"point\", list(size=5, colour=\"grey50\"))\n",
    "update_geom_defaults(\"text\",  list(size=8, vjust=0.5))"
   ]
  },
  {
   "cell_type": "markdown",
   "metadata": {},
   "source": [
    "Classifier construction methods construct classifiers based on reference classified data that can predict how new unclassified data should be classified."
   ]
  },
  {
   "cell_type": "markdown",
   "metadata": {},
   "source": [
    "## Introduction\n",
    "\n",
    "The legend goes that Alexander the Great, before embarking on a campaign of world conquest, first visited the Oracle of Delphi, known for her ability to predict the future.  Alexander asked the oracle how the campaign would fare, but she replied that such a prediction could not be made with certainty.  Unsatisfied, Alexander pressured her until she predicted, \"You are invincible, my son!\"  Then satisfied, Alexander concluded, \"Now I have my answer,\" and decided to proceed with the campaign.\n",
    "\n",
    "Classifier construction methods construct classifiers that can make predictions.  They do so by identifying patterns in some reference classified data, where classified data here means a dataset that includes some **categorical** variable with known values that indicate the class of each observation.  The classifiers constructed by these methods then leverage the patterns to predict, with some level of certainty, the class variable value of each observation in some new unclassified data.  Making such predictions is called classification.\n",
    "\n",
    "Classification is useful in a variety of business applications, notably any time it is advantageous to have categorical predictions about the future based on what happened in the past, which is pretty much all the time.  For example, you may want to predict whether a project will be successful based on what kind of projects were successful in the past, or predict whether a machine part will fail within a certain time period based on how machine parts failed in the past, or predict whether customers will like a new product based on what kind of products they liked in the past, or predict whether a new credit card transaction will turn out to be fraudulent based on circumstances around fraudulent credit card transactions in the past.  Classification is also useful for making predictions about the past, present, or future based on the past, present, or future, in general.  For example, you may want to predict whether a competitor is presently a threat to your business based on past demand for products, present supply chain structure, and projected future raw material prices. \n",
    "\n",
    "Let's consider more carefully how we might predict whether a machine part will fail within a certain time period, say within a month.  Repairing a part that won't fail soon is an unnecessary expense, repairing a part just before it fails is a modest expense, and repairing an already failed part is a large expense.  Operating conditions of parts throughout your factory are continuously monitored by copious sensors, which once per minute report their pressure and temperature measurements to a central computer via wireless internet connection.  Technicians report information about failed parts whenever they make repairs, which is sent to the same central computer and aligned with the pressure and temperature data.  The combined data is transformed into a representation in which each observation corresponds to a part, the pressures and temperatures of the part over a month, the pressures and temperatures of other parts over a month, and a status indicating whether the part had to be repaired at the end of the month. A classifier construction method is applied to the data weekly, which finds patterns that distinguish parts about to fail from parts that aren't, and constructs a classifier to predict that.  The classifier is applied to new data as it's updated over the week, predicts which parts are likely to fail within a month, and generates a notification to the technicians to preemptively investigate and repair those parts before they fail, avoiding significant expense.       \n",
    "\n",
    "There are several popular classifier construction methods, including logistic regression, naive Bayes, support vector machine, perceptron, neural network, decision tree, and k-nearest neighbors."
   ]
  },
  {
   "cell_type": "markdown",
   "metadata": {},
   "source": [
    "## Lesson Plan\n",
    "\n",
    "We'll first overview the classification methodology, which comprises processes for construction, prediction, and evaluation.  Then we'll demonstrate the methodology with a pedagogical classifer construction method applied to pedagogical data to construct a classifier.  Then we'll use the classifier's back-predictions to construct a confusion matrix and calculate various performance metrics.  We'll end with a comparison of three specific evaluation processes: in-sample performance estimation, out-of-sample performance estimation, and cross-validation performance estimation."
   ]
  },
  {
   "cell_type": "markdown",
   "metadata": {
    "hide_input": true
   },
   "source": [
    "## Terminology\n",
    "\n",
    "Here are some new terms that we will use in our discourse."
   ]
  },
  {
   "cell_type": "markdown",
   "metadata": {},
   "source": [
    "* Prediction\n",
    "* Classification, Predictive modeling\n",
    "* Classifier construction method\n",
    "* Classifier, Model\n",
    "* Construction, Supervised learning, Training, Fitting\n",
    "* Predictor variables\n",
    "* Class variable\n",
    "* Hyperparameters\n",
    "* Parameters\n",
    "* Cutoff\n",
    "* Evaluation\n",
    "* Confusion matrix\n",
    "* Accuracy\n",
    "* True positive rate, True negative rate, False positive rate, False negative rate\n",
    "* In-Sample Performance\n",
    "* Out-of-Sample Performance\n",
    "* Cross-Validation Performance"
   ]
  },
  {
   "cell_type": "markdown",
   "metadata": {},
   "source": [
    "## Classification Methodology"
   ]
  },
  {
   "cell_type": "markdown",
   "metadata": {},
   "source": [
    "The classification methodology comprises three parts:\n",
    "* **construction** of a classifier, using some classifier construction method and some reference classified data\n",
    "* **prediction** of class variable values, using the classifier applied to some unclassified data\n",
    "* **evaluation** of the classifier performance, which estimates the quality of the classifier's predictions"
   ]
  },
  {
   "cell_type": "markdown",
   "metadata": {
    "hide_input": true
   },
   "source": [
    "### Construction\n",
    "\n",
    "In construction, a classifier construction method takes as input some reference classified data and hyperparameter settings.  The job of the classifier construction method is then to detect patterns in the reference classified data that distinguish observations of different classes, and output a classifier with knowledge of those patterns built into it.  The constructed classifier is defined by its form and parameter settings, both determined by the classifier construction method.  Note that we have here a method constructing a method - the constructed classifier is not a set of predictions, but rather is a method to estimate class probabilities to make predictions.\n",
    "\n",
    "Hyperparameters are provided by a classifier construction method as a way to configure its specific behavior.  Each particular classifier construction method provides its own set of hyperparameters.  You can think of hyperparameters as switches and dials to set the operating conditions of a classifier construction machine.  Hyperparameters allow for several variations of any particular classifier construction method, effectively expanding the set of methods available for classifier construction.\n",
    "\n",
    "Parameters, in contrast to hyperparameters, are components of a classifier, set by a classifier construction method.  You can think of parameters as switches and dials to set the operating conditions of a classifier machine.\n",
    "\n",
    "Construction is also known as supervised learning, training, modeling, building a model, or fitting a model.\n",
    "\n",
    "Here we see a reference classified dataset with five observations and nine variables.  Eight of the variables are treated as predictor variables and one categorical variable is treated as the class variable, which can take on values of A or B.  The classifier construction method is configured to specific behavior by you setting the hyperparameters.  The method outputs a classifier that will accept a dataset with eight variables as input and estimate class probabilities as output.\n",
    "\n",
    "<table style=\"border:1px solid; margin-top:20px\">\n",
    "    <caption style=\"text-align:center\">Construct a Classifier</caption>\n",
    "    <tr><td style=\"padding:20px; background-color:white\"><img src=\"classification_train.jpg\" width=440></td></tr>\n",
    "</table><br clear=all>"
   ]
  },
  {
   "cell_type": "markdown",
   "metadata": {},
   "source": [
    "### Prediction\n",
    "\n",
    "In prediction, a classifier takes as input some unclassified data.  The job of the classifier is then to use its built-in knowledge of patterns in reference classified data to estimate probabilities about how the unclassified data should be classified.  Each observation in the unclassified data gets its own probability of being assigned a particular class value.  Arbitrarily treat one class value as the positive class and the other class value as the negative class.  Then, to make a prediction, an observation's class probability for the positive class can be compared to some cutoff.  If the class probability is equal to or exceeds the cutoff, then conclude the observation's class to be some certain value.  If the class probability does not exceed the cutoff, then conclude the observation's class to be some other value.  Note that we have here a method constructed by a method - the classifier is the output of a classifier construction method, and the classifier is itself a method to estimate class probabilities that can be used to make predictions.\n",
    "\n",
    "Often you set the cutoff to 0.50, so that observations with probabilities equal to or exceeding 0.50 are classified one way and all other observations are classified another way.  But the cutoff doesn't have to be set to 0.50.  Rather, the cutoff can be set to any number in the range 0 to 1, depending on the business situation.  When the cutoff is set higher than 0.50, it means that the classifier must be even more sure about how observations should be classified before making conclusions.  Imagine predicting whether an extremely expensive project will succeed - you may want to be much more than 50% sure that it will succeed before you conclude that it will succeed and proceed with funding it.  When the cutoff is set lower than 0.50, it means that the classifier can be less sure.  Imagine predicting whether an inexpensive project with a high potential return will succeed - you may be comfortable funding it even if you're less than 50% sure it will succeed.\n",
    "\n",
    "Prediction in this context, is also known as classification.\n",
    "\n",
    "Here we see an unclassified dataset with five observations and eight variables.  The classifier accepts the dataset as input and outputs estimated class probabilities for the positive class.  The classifier estimates a 40% probability that the first observation should be classified as A, and therefore a 60% probability that the first observation should be classified as B.  You earlier set the cutoff to 0.5, and since the probability estimated for the first observation does not exceed the cutoff, you can conclude that the first observation should be classified as B.  Similarly for the other observations. \n",
    "\n",
    "<table style=\"border:1px solid; margin-top:20px; margin-bottom:20px\">\n",
    "    <caption style=\"text-align:center\">Use a Classifier to Make Predictions</caption>\n",
    "    <tr><td style=\"padding:20px; background-color:white\"><img src=\"classification_predict.jpg\" width=560></td></tr>\n",
    "</table><br clear=all>"
   ]
  },
  {
   "cell_type": "markdown",
   "metadata": {},
   "source": [
    "### Evaluation\n",
    "\n",
    "In evaluation, we usually estimate the quality of an operative classifier's predictions by examining not the operative classifier directly, but rather by examining one or more other similar classifiers.  These other similar classifiers are constructed by the same classifier construction method and hyperparameter settings, but with different reference classified data as input.  Further, the different reference classified data for the similar classifiers are all subsets of the reference classified data for the operative classifier.  So, the only difference between the similar classifiers and the operative classifier is which subsets of the reference classified data are used as input to construct them.  Because the similar classifiers are constructed in almost the same way that the operative classifier was, we make the assumption that their performance will be similar to that of the operative classifier.  We can then take estimates of the similar classifiers' performance as an estimate of the operative classifier's performance. \n",
    "\n",
    "Intregal to the examination of a similar classifer is the construction of its confusion matrix subject to a cutoff setting, which indicates to what kind of correct predictions and what kind of incorrect predictions, and in what proportions, the classifier's estimated probabilities will likely lead.  From the confusion matrix, any of several useful performance metrics can be calculated, which can be used in combination with other business considerations to estimate the quality of the classifier's predictions.\n",
    "\n",
    "Note that the similar classifiers are required only as a way to estimate the operative classifier's performance.  You can discard the similar classifiers after the operative classifier's performance has been estimated.  Their job will have been done. \n",
    "\n",
    "The reason that we usually do not examine an operative classifier directly, but rather examine similar classifiers, is so that we can leverage reference classified data in various useful ways. \n",
    "\n",
    "Evaluation is also known as validation or testing.\n",
    "\n",
    "Here we see an operative classifier being evaluated.  The reference classified data used to construct the operative classifier is provided to a process that partitons the dataset as necessary.  The process inputs those dataset subsets to the classifier construction method that was used to construct the operative classifier, and ultimately constructs one or more confusion matrices as necessary.  From the confusion matrices, the operative classifier's accuracy, a performance metric, is calculated to be 0.5.\n",
    "\n",
    "<table style=\"border:1px solid; margin-top:20px; margin-bottom:20px\">\n",
    "    <caption style=\"text-align:center\">Evaluate a Classifier</caption>\n",
    "    <tr><td style=\"padding:20px; background-color:white\"><img src=\"classification_evaluate.jpg\" width=650></td></tr>\n",
    "</table><br clear=all>"
   ]
  },
  {
   "cell_type": "markdown",
   "metadata": {},
   "source": [
    "## Demonstration of Methodology\n",
    "\n",
    "Let's see the classification methodology demonstrated."
   ]
  },
  {
   "cell_type": "markdown",
   "metadata": {},
   "source": [
    "### Data"
   ]
  },
  {
   "cell_type": "markdown",
   "metadata": {},
   "source": [
    "Consider this pedagogical reference classified dataset.  Note that the class variable is categorical and indicates each observation's known class."
   ]
  },
  {
   "cell_type": "code",
   "execution_count": 2,
   "metadata": {
    "hide_input": true
   },
   "outputs": [
    {
     "data": {
      "text/html": [
       "<table style=\"white-space: nowrap;\">\n",
       "<caption><center><font color=\"black\"><b>data</b></font></center></caption>\n",
       " <thead>\n",
       "  <tr>\n",
       "   <th style=\"text-align:right;background-color: #FFFFFF !important;\"> x1 </th>\n",
       "   <th style=\"text-align:right;background-color: #FFFFFF !important;\"> x2 </th>\n",
       "   <th style=\"text-align:right;background-color: #FFFFFF !important;\"> class </th>\n",
       "  </tr>\n",
       " </thead>\n",
       "<tbody>\n",
       "  <tr>\n",
       "   <td style=\"text-align:right;\"> 3 </td>\n",
       "   <td style=\"text-align:right;\"> 5 </td>\n",
       "   <td style=\"text-align:right;\"> A </td>\n",
       "  </tr>\n",
       "  <tr>\n",
       "   <td style=\"text-align:right;\"> 2 </td>\n",
       "   <td style=\"text-align:right;\"> 3 </td>\n",
       "   <td style=\"text-align:right;\"> A </td>\n",
       "  </tr>\n",
       "  <tr>\n",
       "   <td style=\"text-align:right;\"> 9 </td>\n",
       "   <td style=\"text-align:right;\"> 3 </td>\n",
       "   <td style=\"text-align:right;\"> B </td>\n",
       "  </tr>\n",
       "  <tr>\n",
       "   <td style=\"text-align:right;\"> 0 </td>\n",
       "   <td style=\"text-align:right;\"> 0 </td>\n",
       "   <td style=\"text-align:right;\"> B </td>\n",
       "  </tr>\n",
       "  <tr>\n",
       "   <td style=\"text-align:right;\"> 3 </td>\n",
       "   <td style=\"text-align:right;\"> 2 </td>\n",
       "   <td style=\"text-align:right;\"> A </td>\n",
       "  </tr>\n",
       "</tbody>\n",
       "</table>"
      ]
     },
     "metadata": {},
     "output_type": "display_data"
    }
   ],
   "source": [
    "data = data.frame(x1=c(3,2,9,0,3), x2=c(5,3,3,0,2), class=c(\"A\",\"A\",\"B\",\"B\",\"A\"))\n",
    "fmt(data)"
   ]
  },
  {
   "cell_type": "code",
   "execution_count": 3,
   "metadata": {
    "hide_input": true
   },
   "outputs": [
    {
     "data": {
      "image/png": "[encoded data removed]",
      "text/plain": [
       "plot without title"
      ]
     },
     "metadata": {
      "image/png": {
       "height": 360,
       "width": 420
      },
      "text/plain": {
       "height": 360,
       "width": 420
      }
     },
     "output_type": "display_data"
    }
   ],
   "source": [
    "output_size(3.5,3)\n",
    "ggplot(data) + ggtitle(\"Data\", \"actual class known\") + ylim(0,10) +\n",
    "geom_point(aes(x=x1, y=x2, color=factor(class, c(\"A\",\"B\"))))\n",
    "output_size(restore)"
   ]
  },
  {
   "cell_type": "markdown",
   "metadata": {},
   "source": [
    "### Construction"
   ]
  },
  {
   "cell_type": "markdown",
   "metadata": {},
   "source": [
    "Use some classifier construction method to construct a classifier.  Here we use the \"Special Classifier Construction Method\", with its hyperparameter set to 0.7, applied to the reference classified dataset.  The resulting classifier has some form which is not readily transparent to us, but we do see that it is defined by parameter settings 0.35 and 3.4, will accept datasets with two variables x1 and x2 as input, and will output estimated class probabilities for class values A and B.  Note that the hyperparameter setting is not present in the classifier, though it is reflected in how the parameter settings are determined."
   ]
  },
  {
   "cell_type": "code",
   "execution_count": 4,
   "metadata": {
    "hide_input": true
   },
   "outputs": [
    {
     "data": {
      "text/html": [
       "<table style=\"white-space: nowrap;\">\n",
       "<caption><center><font color=\"black\"><b>model</b></font></center></caption>\n",
       " <thead>\n",
       "  <tr>\n",
       "   <th style=\"text-align:right;background-color: #FFFFFF !important;\"> method </th>\n",
       "   <th style=\"text-align:right;background-color: #FFFFFF !important;\"> vars </th>\n",
       "   <th style=\"text-align:right;background-color: #FFFFFF !important;\"> parameter_1 </th>\n",
       "   <th style=\"text-align:right;background-color: #FFFFFF !important;\"> parameter_2 </th>\n",
       "   <th style=\"text-align:right;background-color: #FFFFFF !important;\"> classes </th>\n",
       "  </tr>\n",
       " </thead>\n",
       "<tbody>\n",
       "  <tr>\n",
       "   <td style=\"text-align:right;\"> Special Classifier Construction Method </td>\n",
       "   <td style=\"text-align:right;\"> x1, x2 </td>\n",
       "   <td style=\"text-align:right;\"> 0.35 </td>\n",
       "   <td style=\"text-align:right;\"> 3.4 </td>\n",
       "   <td style=\"text-align:right;\"> A, B </td>\n",
       "  </tr>\n",
       "</tbody>\n",
       "</table>"
      ]
     },
     "metadata": {},
     "output_type": "display_data"
    }
   ],
   "source": [
    "model = my_classifier_construction_method(class ~ x1+x2, data, hyperparameter=0.7)\n",
    "fmt.model(model)"
   ]
  },
  {
   "cell_type": "markdown",
   "metadata": {},
   "source": [
    "### Prediction"
   ]
  },
  {
   "cell_type": "markdown",
   "metadata": {},
   "source": [
    "Here is some new unclassified dataset. We are interested in classifying it. "
   ]
  },
  {
   "cell_type": "code",
   "execution_count": 5,
   "metadata": {
    "hide_input": true
   },
   "outputs": [
    {
     "data": {
      "text/html": [
       "<table style=\"white-space: nowrap;\">\n",
       "<caption><center><font color=\"black\"><b>new</b></font></center></caption>\n",
       " <thead>\n",
       "  <tr>\n",
       "   <th style=\"text-align:right;background-color: #FFFFFF !important;\"> x1 </th>\n",
       "   <th style=\"text-align:right;background-color: #FFFFFF !important;\"> x2 </th>\n",
       "  </tr>\n",
       " </thead>\n",
       "<tbody>\n",
       "  <tr>\n",
       "   <td style=\"text-align:right;\"> 3 </td>\n",
       "   <td style=\"text-align:right;\"> 3 </td>\n",
       "  </tr>\n",
       "  <tr>\n",
       "   <td style=\"text-align:right;\"> 2 </td>\n",
       "   <td style=\"text-align:right;\"> 3 </td>\n",
       "  </tr>\n",
       "  <tr>\n",
       "   <td style=\"text-align:right;\"> 0 </td>\n",
       "   <td style=\"text-align:right;\"> 0 </td>\n",
       "  </tr>\n",
       "  <tr>\n",
       "   <td style=\"text-align:right;\"> 9 </td>\n",
       "   <td style=\"text-align:right;\"> 9 </td>\n",
       "  </tr>\n",
       "  <tr>\n",
       "   <td style=\"text-align:right;\"> 1 </td>\n",
       "   <td style=\"text-align:right;\"> 2 </td>\n",
       "  </tr>\n",
       "</tbody>\n",
       "</table>"
      ]
     },
     "metadata": {},
     "output_type": "display_data"
    },
    {
     "data": {
      "image/png": "[encoded data removed]",
      "text/plain": [
       "plot without title"
      ]
     },
     "metadata": {
      "image/png": {
       "height": 360,
       "width": 360
      },
      "text/plain": {
       "height": 360,
       "width": 360
      }
     },
     "output_type": "display_data"
    }
   ],
   "source": [
    "new = data.frame(x1=c(3,2,0,9,1), x2=c(3,3,0,9,2))\n",
    "fmt(new)\n",
    "\n",
    "output_size(3,3)\n",
    "ggplot(new) + ggtitle(\"Data\", \"actual class not known\") + ylim(0,10) +\n",
    "geom_point(aes(x=x1, y=x2), color=NEW_COLOR) +\n",
    "theme.no_legend\n",
    "output_size(restore)"
   ]
  },
  {
   "cell_type": "markdown",
   "metadata": {},
   "source": [
    "Use the classifier applied to the new unclassified dataset to estimate its observations' class probabilities."
   ]
  },
  {
   "cell_type": "code",
   "execution_count": 6,
   "metadata": {
    "hide_input": true
   },
   "outputs": [
    {
     "data": {
      "text/html": [
       "<table><tr><td style=\"background-color:white; vertical-align:top; padding-right:40px;\"><table style=\"white-space: nowrap;\">\n",
       "<caption><center><font color=\"black\"><b>prob</b></font></center></caption>\n",
       " <thead>\n",
       "  <tr>\n",
       "   <th style=\"text-align:right;background-color: #FFFFFF !important;\"> A </th>\n",
       "   <th style=\"text-align:right;background-color: #FFFFFF !important;\"> B </th>\n",
       "  </tr>\n",
       " </thead>\n",
       "<tbody>\n",
       "  <tr>\n",
       "   <td style=\"text-align:right;\"> 0.6176471 </td>\n",
       "   <td style=\"text-align:right;\"> 0.3823529 </td>\n",
       "  </tr>\n",
       "  <tr>\n",
       "   <td style=\"text-align:right;\"> 0.4117647 </td>\n",
       "   <td style=\"text-align:right;\"> 0.5882353 </td>\n",
       "  </tr>\n",
       "  <tr>\n",
       "   <td style=\"text-align:right;\"> 0.0000000 </td>\n",
       "   <td style=\"text-align:right;\"> 1.0000000 </td>\n",
       "  </tr>\n",
       "  <tr>\n",
       "   <td style=\"text-align:right;\"> 1.0000000 </td>\n",
       "   <td style=\"text-align:right;\"> 0.0000000 </td>\n",
       "  </tr>\n",
       "  <tr>\n",
       "   <td style=\"text-align:right;\"> 0.2058824 </td>\n",
       "   <td style=\"text-align:right;\"> 0.7941176 </td>\n",
       "  </tr>\n",
       "</tbody>\n",
       "</table></td><td style=\"background-color:white; vertical-align:top;\"><table style=\"white-space: nowrap;\">\n",
       "<caption><center><font color=\"black\"><b>new</b></font></center></caption>\n",
       " <thead>\n",
       "  <tr>\n",
       "   <th style=\"text-align:right;background-color: #FFFFFF !important;\"> x1 </th>\n",
       "   <th style=\"text-align:right;background-color: #FFFFFF !important;\"> x2 </th>\n",
       "   <th style=\"text-align:right;background-color: #FFFFFF !important;\"> prob.A </th>\n",
       "  </tr>\n",
       " </thead>\n",
       "<tbody>\n",
       "  <tr>\n",
       "   <td style=\"text-align:right;\"> 3 </td>\n",
       "   <td style=\"text-align:right;\"> 3 </td>\n",
       "   <td style=\"text-align:right;\"> 0.6176471 </td>\n",
       "  </tr>\n",
       "  <tr>\n",
       "   <td style=\"text-align:right;\"> 2 </td>\n",
       "   <td style=\"text-align:right;\"> 3 </td>\n",
       "   <td style=\"text-align:right;\"> 0.4117647 </td>\n",
       "  </tr>\n",
       "  <tr>\n",
       "   <td style=\"text-align:right;\"> 0 </td>\n",
       "   <td style=\"text-align:right;\"> 0 </td>\n",
       "   <td style=\"text-align:right;\"> 0.0000000 </td>\n",
       "  </tr>\n",
       "  <tr>\n",
       "   <td style=\"text-align:right;\"> 9 </td>\n",
       "   <td style=\"text-align:right;\"> 9 </td>\n",
       "   <td style=\"text-align:right;\"> 1.0000000 </td>\n",
       "  </tr>\n",
       "  <tr>\n",
       "   <td style=\"text-align:right;\"> 1 </td>\n",
       "   <td style=\"text-align:right;\"> 2 </td>\n",
       "   <td style=\"text-align:right;\"> 0.2058824 </td>\n",
       "  </tr>\n",
       "</tbody>\n",
       "</table></td></tr></table>"
      ]
     },
     "metadata": {},
     "output_type": "display_data"
    }
   ],
   "source": [
    "prob = predict(model, new)\n",
    "new$prob.A = prob[,\"A\"]\n",
    "\n",
    "layout(fmt(prob), fmt(new))"
   ]
  },
  {
   "cell_type": "markdown",
   "metadata": {},
   "source": [
    "Use the class probabilites and a cutoff to classify the new unclassified dataset.  Here the cutoff has been set to 0.5 and we are treating class value A as the positive class, so we can conclude that the observations should be classified accordingly."
   ]
  },
  {
   "cell_type": "code",
   "execution_count": 7,
   "metadata": {
    "hide_input": true
   },
   "outputs": [
    {
     "data": {
      "text/html": [
       "<table><tr><td style=\"background-color:white; vertical-align:top; padding-right:40px;\"><table style=\"white-space: nowrap;\">\n",
       "<caption><center><font color=\"black\"><b> </b></font></center></caption>\n",
       " <thead>\n",
       "  <tr>\n",
       "   <th style=\"text-align:right;background-color: #FFFFFF !important;\"> cutoff </th>\n",
       "  </tr>\n",
       " </thead>\n",
       "<tbody>\n",
       "  <tr>\n",
       "   <td style=\"text-align:right;\"> 0.5 </td>\n",
       "  </tr>\n",
       "</tbody>\n",
       "</table></td><td style=\"background-color:white; vertical-align:top; padding-right:40px;\"><table style=\"white-space: nowrap;\">\n",
       "<caption><center><font color=\"black\"><b> </b></font></center></caption>\n",
       " <thead>\n",
       "  <tr>\n",
       "   <th style=\"text-align:right;background-color: #FFFFFF !important;\"> class.predicted </th>\n",
       "  </tr>\n",
       " </thead>\n",
       "<tbody>\n",
       "  <tr>\n",
       "   <td style=\"text-align:right;\"> A </td>\n",
       "  </tr>\n",
       "  <tr>\n",
       "   <td style=\"text-align:right;\"> B </td>\n",
       "  </tr>\n",
       "  <tr>\n",
       "   <td style=\"text-align:right;\"> B </td>\n",
       "  </tr>\n",
       "  <tr>\n",
       "   <td style=\"text-align:right;\"> A </td>\n",
       "  </tr>\n",
       "  <tr>\n",
       "   <td style=\"text-align:right;\"> B </td>\n",
       "  </tr>\n",
       "</tbody>\n",
       "</table></td><td style=\"background-color:white; vertical-align:top;\"><table style=\"white-space: nowrap;\">\n",
       "<caption><center><font color=\"black\"><b>new</b></font></center></caption>\n",
       " <thead>\n",
       "  <tr>\n",
       "   <th style=\"text-align:right;background-color: #FFFFFF !important;\"> x1 </th>\n",
       "   <th style=\"text-align:right;background-color: #FFFFFF !important;\"> x2 </th>\n",
       "   <th style=\"text-align:right;background-color: #FFFFFF !important;\"> prob.A </th>\n",
       "   <th style=\"text-align:right;background-color: #FFFFFF !important;\"> class.predicted </th>\n",
       "  </tr>\n",
       " </thead>\n",
       "<tbody>\n",
       "  <tr>\n",
       "   <td style=\"text-align:right;\"> 3 </td>\n",
       "   <td style=\"text-align:right;\"> 3 </td>\n",
       "   <td style=\"text-align:right;\"> 0.6176471 </td>\n",
       "   <td style=\"text-align:right;\"> A </td>\n",
       "  </tr>\n",
       "  <tr>\n",
       "   <td style=\"text-align:right;\"> 2 </td>\n",
       "   <td style=\"text-align:right;\"> 3 </td>\n",
       "   <td style=\"text-align:right;\"> 0.4117647 </td>\n",
       "   <td style=\"text-align:right;\"> B </td>\n",
       "  </tr>\n",
       "  <tr>\n",
       "   <td style=\"text-align:right;\"> 0 </td>\n",
       "   <td style=\"text-align:right;\"> 0 </td>\n",
       "   <td style=\"text-align:right;\"> 0.0000000 </td>\n",
       "   <td style=\"text-align:right;\"> B </td>\n",
       "  </tr>\n",
       "  <tr>\n",
       "   <td style=\"text-align:right;\"> 9 </td>\n",
       "   <td style=\"text-align:right;\"> 9 </td>\n",
       "   <td style=\"text-align:right;\"> 1.0000000 </td>\n",
       "   <td style=\"text-align:right;\"> A </td>\n",
       "  </tr>\n",
       "  <tr>\n",
       "   <td style=\"text-align:right;\"> 1 </td>\n",
       "   <td style=\"text-align:right;\"> 2 </td>\n",
       "   <td style=\"text-align:right;\"> 0.2058824 </td>\n",
       "   <td style=\"text-align:right;\"> B </td>\n",
       "  </tr>\n",
       "</tbody>\n",
       "</table></td></tr></table>"
      ]
     },
     "metadata": {},
     "output_type": "display_data"
    }
   ],
   "source": [
    "cutoff = 0.5\n",
    "class.predicted = as.class(prob, class=\"A\", cutoff)\n",
    "new$class.predicted = class.predicted\n",
    "\n",
    "layout(fmt(cutoff, force=TRUE), fmt(class.predicted, force=TRUE), fmt(new))"
   ]
  },
  {
   "cell_type": "markdown",
   "metadata": {},
   "source": [
    "Here is the reference classified data compared to the new data as the classifier would have it classified."
   ]
  },
  {
   "cell_type": "code",
   "execution_count": 8,
   "metadata": {
    "hide_input": true
   },
   "outputs": [
    {
     "data": {
      "image/png": "[encoded data removed]",
      "text/plain": [
       "plot without title"
      ]
     },
     "metadata": {
      "image/png": {
       "height": 360,
       "width": 840
      },
      "text/plain": {
       "height": 360,
       "width": 840
      }
     },
     "output_type": "display_data"
    }
   ],
   "source": [
    "output_size(7,3)\n",
    "\n",
    "p1 = ggplot(data) + ggtitle(\"Data\", \"actual class known\") + ylim(0,10) +\n",
    "     geom_point(aes(x=x1, y=x2, color=factor(class, c(\"A\",\"B\"))))\n",
    "\n",
    "p2 = ggplot(new) + ggtitle(\"New Data\", \"actual class not known\") + ylim(0,10) +\n",
    "     geom_point(aes(x=x1, y=x2, color=factor(class.predicted, c(\"A\",\"B\"))))\n",
    "\n",
    "grid.arrange(p1, p2, nrow=1)\n",
    "\n",
    "output_size(restore)"
   ]
  },
  {
   "cell_type": "markdown",
   "metadata": {},
   "source": [
    "### Evaluation\n",
    "\n",
    "Here we are interested in estimating the quality of the classifier's predictions."
   ]
  },
  {
   "cell_type": "markdown",
   "metadata": {},
   "source": [
    "#### Back-Prediction"
   ]
  },
  {
   "cell_type": "markdown",
   "metadata": {},
   "source": [
    "We can know if a classifier predicts correctly or incorrectly only when we can compare predicted class values to known class values.  Back-prediction involves using a classifier to predict class values of already classified observations, but in a way that the known class values are hidden from the classifier.  Then the classifier's predicted class values can be compared to the known class values.  Back-prediction can be applied to the reference classified dataset that was used to construct the classifier, or to a subset of that dataset, or to a completely different dataset.\n",
    "\n",
    "Here we apply back-prediction to the reference classified dataset with the class values hidden."
   ]
  },
  {
   "cell_type": "code",
   "execution_count": 9,
   "metadata": {
    "hide_input": true
   },
   "outputs": [
    {
     "data": {
      "text/html": [
       "<table><tr><td style=\"background-color:white; vertical-align:top; padding-right:40px;\"><table style=\"white-space: nowrap;\">\n",
       "<caption><center><font color=\"black\"><b>data</b></font></center></caption>\n",
       " <thead>\n",
       "  <tr>\n",
       "   <th style=\"text-align:right;background-color: #FFFFFF !important;\"> x1 </th>\n",
       "   <th style=\"text-align:right;background-color: #FFFFFF !important;\"> x2 </th>\n",
       "   <th style=\"text-align:right;background-color: #FFFFFF !important;\"> class </th>\n",
       "  </tr>\n",
       " </thead>\n",
       "<tbody>\n",
       "  <tr>\n",
       "   <td style=\"text-align:right;\"> 3 </td>\n",
       "   <td style=\"text-align:right;\"> 5 </td>\n",
       "   <td style=\"text-align:right;\"> A </td>\n",
       "  </tr>\n",
       "  <tr>\n",
       "   <td style=\"text-align:right;\"> 2 </td>\n",
       "   <td style=\"text-align:right;\"> 3 </td>\n",
       "   <td style=\"text-align:right;\"> A </td>\n",
       "  </tr>\n",
       "  <tr>\n",
       "   <td style=\"text-align:right;\"> 9 </td>\n",
       "   <td style=\"text-align:right;\"> 3 </td>\n",
       "   <td style=\"text-align:right;\"> B </td>\n",
       "  </tr>\n",
       "  <tr>\n",
       "   <td style=\"text-align:right;\"> 0 </td>\n",
       "   <td style=\"text-align:right;\"> 0 </td>\n",
       "   <td style=\"text-align:right;\"> B </td>\n",
       "  </tr>\n",
       "  <tr>\n",
       "   <td style=\"text-align:right;\"> 3 </td>\n",
       "   <td style=\"text-align:right;\"> 2 </td>\n",
       "   <td style=\"text-align:right;\"> A </td>\n",
       "  </tr>\n",
       "</tbody>\n",
       "</table></td><td style=\"background-color:white; vertical-align:top;\"><table style=\"white-space: nowrap;\">\n",
       "<caption><center><font color=\"black\"><b>data (known class is hidden)</b></font></center></caption>\n",
       " <thead>\n",
       "  <tr>\n",
       "   <th style=\"text-align:right;background-color: #FFFFFF !important;\"> x1 </th>\n",
       "   <th style=\"text-align:right;background-color: #FFFFFF !important;\"> x2 </th>\n",
       "  </tr>\n",
       " </thead>\n",
       "<tbody>\n",
       "  <tr>\n",
       "   <td style=\"text-align:right;\"> 3 </td>\n",
       "   <td style=\"text-align:right;\"> 5 </td>\n",
       "  </tr>\n",
       "  <tr>\n",
       "   <td style=\"text-align:right;\"> 2 </td>\n",
       "   <td style=\"text-align:right;\"> 3 </td>\n",
       "  </tr>\n",
       "  <tr>\n",
       "   <td style=\"text-align:right;\"> 9 </td>\n",
       "   <td style=\"text-align:right;\"> 3 </td>\n",
       "  </tr>\n",
       "  <tr>\n",
       "   <td style=\"text-align:right;\"> 0 </td>\n",
       "   <td style=\"text-align:right;\"> 0 </td>\n",
       "  </tr>\n",
       "  <tr>\n",
       "   <td style=\"text-align:right;\"> 3 </td>\n",
       "   <td style=\"text-align:right;\"> 2 </td>\n",
       "  </tr>\n",
       "</tbody>\n",
       "</table></td></tr></table>"
      ]
     },
     "metadata": {},
     "output_type": "display_data"
    }
   ],
   "source": [
    "data.u = data; data.u$class = NULL\n",
    "layout(fmt(data), fmt(data.u, \"data (known class is hidden)\"))"
   ]
  },
  {
   "cell_type": "markdown",
   "metadata": {},
   "source": [
    "Use the classifier (previously constructed) to estimate class probabilities of the observations."
   ]
  },
  {
   "cell_type": "code",
   "execution_count": 10,
   "metadata": {
    "hide_input": true
   },
   "outputs": [
    {
     "data": {
      "text/html": [
       "<table><tr><td style=\"background-color:white; vertical-align:top; padding-right:40px;\"><table style=\"white-space: nowrap;\">\n",
       "<caption><center><font color=\"black\"><b>prob</b></font></center></caption>\n",
       " <thead>\n",
       "  <tr>\n",
       "   <th style=\"text-align:right;background-color: #FFFFFF !important;\"> A </th>\n",
       "   <th style=\"text-align:right;background-color: #FFFFFF !important;\"> B </th>\n",
       "  </tr>\n",
       " </thead>\n",
       "<tbody>\n",
       "  <tr>\n",
       "   <td style=\"text-align:right;\"> 0.6176471 </td>\n",
       "   <td style=\"text-align:right;\"> 0.3823529 </td>\n",
       "  </tr>\n",
       "  <tr>\n",
       "   <td style=\"text-align:right;\"> 0.4117647 </td>\n",
       "   <td style=\"text-align:right;\"> 0.5882353 </td>\n",
       "  </tr>\n",
       "  <tr>\n",
       "   <td style=\"text-align:right;\"> 1.0000000 </td>\n",
       "   <td style=\"text-align:right;\"> 0.0000000 </td>\n",
       "  </tr>\n",
       "  <tr>\n",
       "   <td style=\"text-align:right;\"> 0.0000000 </td>\n",
       "   <td style=\"text-align:right;\"> 1.0000000 </td>\n",
       "  </tr>\n",
       "  <tr>\n",
       "   <td style=\"text-align:right;\"> 0.6176471 </td>\n",
       "   <td style=\"text-align:right;\"> 0.3823529 </td>\n",
       "  </tr>\n",
       "</tbody>\n",
       "</table></td><td style=\"background-color:white; vertical-align:top;\"><table style=\"white-space: nowrap;\">\n",
       "<caption><center><font color=\"black\"><b>data (known class is hidden)</b></font></center></caption>\n",
       " <thead>\n",
       "  <tr>\n",
       "   <th style=\"text-align:right;background-color: #FFFFFF !important;\"> x1 </th>\n",
       "   <th style=\"text-align:right;background-color: #FFFFFF !important;\"> x2 </th>\n",
       "   <th style=\"text-align:right;background-color: #FFFFFF !important;\"> prob.A </th>\n",
       "  </tr>\n",
       " </thead>\n",
       "<tbody>\n",
       "  <tr>\n",
       "   <td style=\"text-align:right;\"> 3 </td>\n",
       "   <td style=\"text-align:right;\"> 5 </td>\n",
       "   <td style=\"text-align:right;\"> 0.6176471 </td>\n",
       "  </tr>\n",
       "  <tr>\n",
       "   <td style=\"text-align:right;\"> 2 </td>\n",
       "   <td style=\"text-align:right;\"> 3 </td>\n",
       "   <td style=\"text-align:right;\"> 0.4117647 </td>\n",
       "  </tr>\n",
       "  <tr>\n",
       "   <td style=\"text-align:right;\"> 9 </td>\n",
       "   <td style=\"text-align:right;\"> 3 </td>\n",
       "   <td style=\"text-align:right;\"> 1.0000000 </td>\n",
       "  </tr>\n",
       "  <tr>\n",
       "   <td style=\"text-align:right;\"> 0 </td>\n",
       "   <td style=\"text-align:right;\"> 0 </td>\n",
       "   <td style=\"text-align:right;\"> 0.0000000 </td>\n",
       "  </tr>\n",
       "  <tr>\n",
       "   <td style=\"text-align:right;\"> 3 </td>\n",
       "   <td style=\"text-align:right;\"> 2 </td>\n",
       "   <td style=\"text-align:right;\"> 0.6176471 </td>\n",
       "  </tr>\n",
       "</tbody>\n",
       "</table></td></tr></table>"
      ]
     },
     "metadata": {},
     "output_type": "display_data"
    }
   ],
   "source": [
    "prob = predict(model, data.u)\n",
    "data.u$prob.A = prob[,\"A\"]\n",
    "\n",
    "layout(fmt(prob), fmt(data.u, \"data (known class is hidden)\"))"
   ]
  },
  {
   "cell_type": "markdown",
   "metadata": {},
   "source": [
    "Use class probabilites and a cutoff to predict class values of the observations.  The predicted class values may be different than the known class values."
   ]
  },
  {
   "cell_type": "code",
   "execution_count": 11,
   "metadata": {
    "hide_input": true
   },
   "outputs": [
    {
     "data": {
      "text/html": [
       "<table><tr><td style=\"background-color:white; vertical-align:top; padding-right:40px;\"><table style=\"white-space: nowrap;\">\n",
       "<caption><center><font color=\"black\"><b> </b></font></center></caption>\n",
       " <thead>\n",
       "  <tr>\n",
       "   <th style=\"text-align:right;background-color: #FFFFFF !important;\"> cutoff </th>\n",
       "  </tr>\n",
       " </thead>\n",
       "<tbody>\n",
       "  <tr>\n",
       "   <td style=\"text-align:right;\"> 0.5 </td>\n",
       "  </tr>\n",
       "</tbody>\n",
       "</table></td><td style=\"background-color:white; vertical-align:top;\"><table style=\"white-space: nowrap;\">\n",
       "<caption><center><font color=\"black\"><b>data (known class is hidden)</b></font></center></caption>\n",
       " <thead>\n",
       "  <tr>\n",
       "   <th style=\"text-align:right;background-color: #FFFFFF !important;\"> x1 </th>\n",
       "   <th style=\"text-align:right;background-color: #FFFFFF !important;\"> x2 </th>\n",
       "   <th style=\"text-align:right;background-color: #FFFFFF !important;\"> prob.A </th>\n",
       "   <th style=\"text-align:right;background-color: #FFFFFF !important;\"> class.predicted </th>\n",
       "  </tr>\n",
       " </thead>\n",
       "<tbody>\n",
       "  <tr>\n",
       "   <td style=\"text-align:right;\"> 3 </td>\n",
       "   <td style=\"text-align:right;\"> 5 </td>\n",
       "   <td style=\"text-align:right;\"> 0.6176471 </td>\n",
       "   <td style=\"text-align:right;\"> A </td>\n",
       "  </tr>\n",
       "  <tr>\n",
       "   <td style=\"text-align:right;\"> 2 </td>\n",
       "   <td style=\"text-align:right;\"> 3 </td>\n",
       "   <td style=\"text-align:right;\"> 0.4117647 </td>\n",
       "   <td style=\"text-align:right;\"> B </td>\n",
       "  </tr>\n",
       "  <tr>\n",
       "   <td style=\"text-align:right;\"> 9 </td>\n",
       "   <td style=\"text-align:right;\"> 3 </td>\n",
       "   <td style=\"text-align:right;\"> 1.0000000 </td>\n",
       "   <td style=\"text-align:right;\"> A </td>\n",
       "  </tr>\n",
       "  <tr>\n",
       "   <td style=\"text-align:right;\"> 0 </td>\n",
       "   <td style=\"text-align:right;\"> 0 </td>\n",
       "   <td style=\"text-align:right;\"> 0.0000000 </td>\n",
       "   <td style=\"text-align:right;\"> B </td>\n",
       "  </tr>\n",
       "  <tr>\n",
       "   <td style=\"text-align:right;\"> 3 </td>\n",
       "   <td style=\"text-align:right;\"> 2 </td>\n",
       "   <td style=\"text-align:right;\"> 0.6176471 </td>\n",
       "   <td style=\"text-align:right;\"> A </td>\n",
       "  </tr>\n",
       "</tbody>\n",
       "</table></td></tr></table>"
      ]
     },
     "metadata": {},
     "output_type": "display_data"
    }
   ],
   "source": [
    "cutoff = 0.5\n",
    "data.u$class.predicted = as.class(prob, class=\"A\", cutoff)\n",
    "\n",
    "layout(fmt(cutoff, force=TRUE), fmt(data.u, \"data (known class is hidden)\"))"
   ]
  },
  {
   "cell_type": "markdown",
   "metadata": {},
   "source": [
    "#### Comparison\n",
    "\n",
    "Compare the predicted class values to the known class values.  Mark each observation as a hit if it was classified correctly or as a miss if it was classified incorrectly."
   ]
  },
  {
   "cell_type": "code",
   "execution_count": 12,
   "metadata": {
    "hide_input": true
   },
   "outputs": [
    {
     "data": {
      "text/html": [
       "<table><tr><td style=\"background-color:white; vertical-align:top; padding-right:40px;\"><table style=\"white-space: nowrap;\">\n",
       "<caption><center><font color=\"black\"><b>data</b></font></center></caption>\n",
       " <thead>\n",
       "  <tr>\n",
       "   <th style=\"text-align:right;background-color: #FFFFFF !important;\"> x1 </th>\n",
       "   <th style=\"text-align:right;background-color: #FFFFFF !important;\"> x2 </th>\n",
       "   <th style=\"text-align:right;background-color: #FFFFFF !important;\"> class </th>\n",
       "  </tr>\n",
       " </thead>\n",
       "<tbody>\n",
       "  <tr>\n",
       "   <td style=\"text-align:right;\"> 3 </td>\n",
       "   <td style=\"text-align:right;\"> 5 </td>\n",
       "   <td style=\"text-align:right;\"> A </td>\n",
       "  </tr>\n",
       "  <tr>\n",
       "   <td style=\"text-align:right;\"> 2 </td>\n",
       "   <td style=\"text-align:right;\"> 3 </td>\n",
       "   <td style=\"text-align:right;\"> A </td>\n",
       "  </tr>\n",
       "  <tr>\n",
       "   <td style=\"text-align:right;\"> 9 </td>\n",
       "   <td style=\"text-align:right;\"> 3 </td>\n",
       "   <td style=\"text-align:right;\"> B </td>\n",
       "  </tr>\n",
       "  <tr>\n",
       "   <td style=\"text-align:right;\"> 0 </td>\n",
       "   <td style=\"text-align:right;\"> 0 </td>\n",
       "   <td style=\"text-align:right;\"> B </td>\n",
       "  </tr>\n",
       "  <tr>\n",
       "   <td style=\"text-align:right;\"> 3 </td>\n",
       "   <td style=\"text-align:right;\"> 2 </td>\n",
       "   <td style=\"text-align:right;\"> A </td>\n",
       "  </tr>\n",
       "</tbody>\n",
       "</table></td><td style=\"background-color:white; vertical-align:top;\"><table style=\"white-space: nowrap;\">\n",
       "<caption><center><font color=\"black\"><b>data (known class is hidden)</b></font></center></caption>\n",
       " <thead>\n",
       "  <tr>\n",
       "   <th style=\"text-align:right;background-color: #FFFFFF !important;\"> x1 </th>\n",
       "   <th style=\"text-align:right;background-color: #FFFFFF !important;\"> x2 </th>\n",
       "   <th style=\"text-align:right;background-color: #FFFFFF !important;\"> prob.A </th>\n",
       "   <th style=\"text-align:right;background-color: #FFFFFF !important;\"> class.predicted </th>\n",
       "   <th style=\"text-align:right;background-color: #FFFFFF !important;\"> hit </th>\n",
       "  </tr>\n",
       " </thead>\n",
       "<tbody>\n",
       "  <tr>\n",
       "   <td style=\"text-align:right;\"> 3 </td>\n",
       "   <td style=\"text-align:right;\"> 5 </td>\n",
       "   <td style=\"text-align:right;\"> 0.6176471 </td>\n",
       "   <td style=\"text-align:right;\"> A </td>\n",
       "   <td style=\"text-align:right;\"> TRUE </td>\n",
       "  </tr>\n",
       "  <tr>\n",
       "   <td style=\"text-align:right;\"> 2 </td>\n",
       "   <td style=\"text-align:right;\"> 3 </td>\n",
       "   <td style=\"text-align:right;\"> 0.4117647 </td>\n",
       "   <td style=\"text-align:right;\"> B </td>\n",
       "   <td style=\"text-align:right;\"> FALSE </td>\n",
       "  </tr>\n",
       "  <tr>\n",
       "   <td style=\"text-align:right;\"> 9 </td>\n",
       "   <td style=\"text-align:right;\"> 3 </td>\n",
       "   <td style=\"text-align:right;\"> 1.0000000 </td>\n",
       "   <td style=\"text-align:right;\"> A </td>\n",
       "   <td style=\"text-align:right;\"> FALSE </td>\n",
       "  </tr>\n",
       "  <tr>\n",
       "   <td style=\"text-align:right;\"> 0 </td>\n",
       "   <td style=\"text-align:right;\"> 0 </td>\n",
       "   <td style=\"text-align:right;\"> 0.0000000 </td>\n",
       "   <td style=\"text-align:right;\"> B </td>\n",
       "   <td style=\"text-align:right;\"> TRUE </td>\n",
       "  </tr>\n",
       "  <tr>\n",
       "   <td style=\"text-align:right;\"> 3 </td>\n",
       "   <td style=\"text-align:right;\"> 2 </td>\n",
       "   <td style=\"text-align:right;\"> 0.6176471 </td>\n",
       "   <td style=\"text-align:right;\"> A </td>\n",
       "   <td style=\"text-align:right;\"> TRUE </td>\n",
       "  </tr>\n",
       "</tbody>\n",
       "</table></td></tr></table>"
      ]
     },
     "metadata": {},
     "output_type": "display_data"
    }
   ],
   "source": [
    "data.u$hit = data.u$class.predicted == data$class\n",
    "layout(fmt(data), fmt(data.u, \"data (known class is hidden)\"))"
   ]
  },
  {
   "cell_type": "markdown",
   "metadata": {},
   "source": [
    "Here is a visualization of the dataset showing how specific observations have been correctly or incorrected classified.\n",
    "\n",
    "* The first observation [x1=3, x2=5] is known to be in class A and it was correctly predicted to be in class A.\n",
    "* The second observation [x1=2, x2=3] is known to be in class A and it was incorrectly predicted to be in class B.\n",
    "* The third observation [x1=9, x2=3] is known to be in class B and it was incorrectly predicted to be in class A.\n",
    "* The fourth observation [x1=0, x2=0] is known to be in class B and it was correctly predicted to be in class B.\n",
    "* The fifth observation [x1=3, x2=2] is known to be in class A and it was correctly predicted to be in class A."
   ]
  },
  {
   "cell_type": "code",
   "execution_count": 13,
   "metadata": {
    "hide_input": true
   },
   "outputs": [
    {
     "data": {
      "image/png": "[encoded data removed]",
      "text/plain": [
       "plot without title"
      ]
     },
     "metadata": {
      "image/png": {
       "height": 360,
       "width": 420
      },
      "text/plain": {
       "height": 360,
       "width": 420
      }
     },
     "output_type": "display_data"
    }
   ],
   "source": [
    "output_size(3.5,3)\n",
    "ggplot(data) + ggtitle(\"Data\") + xlim(0,10) + ylim(0,6) +\n",
    "geom_point(aes(x=x1, y=x2), color=PALETTE[3], size=10, data=data.u[data.u$hit,]) +\n",
    "geom_point(aes(x=x1, y=x2, color=factor(class))) +\n",
    "geom_text(aes(x=x1, y=x2), label=\"X\", data=data.u[!data.u$hit,])\n",
    "output_size(restore)"
   ]
  },
  {
   "cell_type": "markdown",
   "metadata": {},
   "source": [
    "Calculate some performance metric based on the prediction hits and misses.  Here we calculate the proportion of correct predictions.  This is our estimate of the quality of our classifier's predictions."
   ]
  },
  {
   "cell_type": "code",
   "execution_count": 14,
   "metadata": {
    "hide_input": true
   },
   "outputs": [
    {
     "data": {
      "text/html": [
       "<table style=\"white-space: nowrap;\">\n",
       " <thead>\n",
       "  <tr>\n",
       "   <th style=\"text-align:right;background-color: #FFFFFF !important;\"> proportion of correct predictions </th>\n",
       "  </tr>\n",
       " </thead>\n",
       "<tbody>\n",
       "  <tr>\n",
       "   <td style=\"text-align:right;\"> 0.6 </td>\n",
       "  </tr>\n",
       "</tbody>\n",
       "</table>"
      ]
     },
     "metadata": {},
     "output_type": "display_data"
    }
   ],
   "source": [
    "fmt(sum(data.u$hit==TRUE) / nrow(data.u), \"proportion of correct predictions\")"
   ]
  },
  {
   "cell_type": "markdown",
   "metadata": {},
   "source": [
    "## Confusion Matrix & Performance Metrics"
   ]
  },
  {
   "cell_type": "markdown",
   "metadata": {},
   "source": [
    "### Confusion Matrix\n",
    "\n",
    "A confusion matrix conveniently summarizes how a classifier and cutoff correctly or incorrectly back-predict class values of some data, and provides a convenient way to calculate performance metrics.  Usually it is structured as a 2x2 matrix, rows corresponding to predicted class values, columns corresponding to known class values, and the arbitrarily chosen positive class value positioned before the negative class value - this is the form that we will use.  In other contexts, it may be a 2x2 matrix with the sense of the rows and columns switched, or as frequency table.  \n",
    "\n",
    "The four values contained in a confusion matrix can be absolute numbers of observations or relative numbers of observations.  By convention, we label a confusion matrix with upper case letters if it contains absolute numbers and with lower case letters if it contains relative numbers.  \n",
    "\n",
    "How to interpret a confusion matrix:\n",
    "\n",
    "* Row 1, Column 1: how many observations are predicted positive class and known to be positive class\n",
    "* Row 2, Column 1: how many observations are predicted negative class but known to be positive class\n",
    "* Row 1, Column 2: how many observations are predicted positive class but known to be negative class\n",
    "* Row 2, Column 2: how many observations are predicted negative class and known to be negative class\n",
    "\n",
    "Here we see absolute and relative confusion matrices (in usual and frequency tabel forms) for the previously constructed classifier and cutoff 0.5 applied to back-predict the reference classified data.\n",
    "\n",
    "* 2 observations (40%) are predicted to be class A and known to be class A (upper left part confusion matrix)\n",
    "* 1 observation (20%) is predicted to be class B but known to be class A (lower left part of confusion matrix)\n",
    "* 1 observation (20%) is predicted to be class A but known to be class B (upper right part of confusion matrix)\n",
    "* 1 observation (20%) is predicted to be class B and known to be class B (lower right part of confusion matrix)"
   ]
  },
  {
   "cell_type": "code",
   "execution_count": 15,
   "metadata": {
    "hide_input": true
   },
   "outputs": [
    {
     "data": {
      "text/html": [
       "<table><tr><td style=\"background-color:white; vertical-align:top; padding-right:40px;\"><table style=\"white-space: nowrap;\">\n",
       "<caption><center><font color=\"black\"><b>CM</b></font></center></caption>\n",
       " <thead>\n",
       "  <tr>\n",
       "   <th style=\"text-align:left;background-color: #FFFFFF !important;\">   </th>\n",
       "   <th style=\"text-align:right;background-color: #FFFFFF !important;\"> A </th>\n",
       "   <th style=\"text-align:right;background-color: #FFFFFF !important;\"> B </th>\n",
       "  </tr>\n",
       " </thead>\n",
       "<tbody>\n",
       "  <tr>\n",
       "   <td style=\"text-align:left;font-weight: bold;\"> A </td>\n",
       "   <td style=\"text-align:right;\"> 2 </td>\n",
       "   <td style=\"text-align:right;\"> 1 </td>\n",
       "  </tr>\n",
       "  <tr>\n",
       "   <td style=\"text-align:left;font-weight: bold;\"> B </td>\n",
       "   <td style=\"text-align:right;\"> 1 </td>\n",
       "   <td style=\"text-align:right;\"> 1 </td>\n",
       "  </tr>\n",
       "</tbody>\n",
       "</table></td><td style=\"background-color:white; vertical-align:top;\"><table style=\"white-space: nowrap;\">\n",
       "<caption><center><font color=\"black\"><b>CM (as frequency table)</b></font></center></caption>\n",
       " <thead>\n",
       "  <tr>\n",
       "   <th style=\"text-align:right;background-color: #FFFFFF !important;\"> Prediction </th>\n",
       "   <th style=\"text-align:right;background-color: #FFFFFF !important;\"> Reference </th>\n",
       "   <th style=\"text-align:right;background-color: #FFFFFF !important;\"> Freq </th>\n",
       "  </tr>\n",
       " </thead>\n",
       "<tbody>\n",
       "  <tr>\n",
       "   <td style=\"text-align:right;\"> A </td>\n",
       "   <td style=\"text-align:right;\"> A </td>\n",
       "   <td style=\"text-align:right;\"> 2 </td>\n",
       "  </tr>\n",
       "  <tr>\n",
       "   <td style=\"text-align:right;\"> B </td>\n",
       "   <td style=\"text-align:right;\"> A </td>\n",
       "   <td style=\"text-align:right;\"> 1 </td>\n",
       "  </tr>\n",
       "  <tr>\n",
       "   <td style=\"text-align:right;\"> A </td>\n",
       "   <td style=\"text-align:right;\"> B </td>\n",
       "   <td style=\"text-align:right;\"> 1 </td>\n",
       "  </tr>\n",
       "  <tr>\n",
       "   <td style=\"text-align:right;\"> B </td>\n",
       "   <td style=\"text-align:right;\"> B </td>\n",
       "   <td style=\"text-align:right;\"> 1 </td>\n",
       "  </tr>\n",
       "</tbody>\n",
       "</table></td></tr></table>"
      ]
     },
     "metadata": {},
     "output_type": "display_data"
    }
   ],
   "source": [
    "CM = confusionMatrix(data.u$class.predicted, data$class, positive=\"A\")$table\n",
    "layout(fmt.cm(CM), fmt(CM, \"CM (as frequency table)\"))"
   ]
  },
  {
   "cell_type": "code",
   "execution_count": 16,
   "metadata": {
    "hide_input": true
   },
   "outputs": [
    {
     "data": {
      "text/html": [
       "<table><tr><td style=\"background-color:white; vertical-align:top; padding-right:40px;\"><table style=\"white-space: nowrap;\">\n",
       "<caption><center><font color=\"black\"><b>cm</b></font></center></caption>\n",
       " <thead>\n",
       "  <tr>\n",
       "   <th style=\"text-align:left;background-color: #FFFFFF !important;\">   </th>\n",
       "   <th style=\"text-align:right;background-color: #FFFFFF !important;\"> A </th>\n",
       "   <th style=\"text-align:right;background-color: #FFFFFF !important;\"> B </th>\n",
       "  </tr>\n",
       " </thead>\n",
       "<tbody>\n",
       "  <tr>\n",
       "   <td style=\"text-align:left;font-weight: bold;\"> A </td>\n",
       "   <td style=\"text-align:right;\"> 0.4 </td>\n",
       "   <td style=\"text-align:right;\"> 0.2 </td>\n",
       "  </tr>\n",
       "  <tr>\n",
       "   <td style=\"text-align:left;font-weight: bold;\"> B </td>\n",
       "   <td style=\"text-align:right;\"> 0.2 </td>\n",
       "   <td style=\"text-align:right;\"> 0.2 </td>\n",
       "  </tr>\n",
       "</tbody>\n",
       "</table></td><td style=\"background-color:white; vertical-align:top;\"><table style=\"white-space: nowrap;\">\n",
       "<caption><center><font color=\"black\"><b>cm (as frequency table)</b></font></center></caption>\n",
       " <thead>\n",
       "  <tr>\n",
       "   <th style=\"text-align:right;background-color: #FFFFFF !important;\"> Prediction </th>\n",
       "   <th style=\"text-align:right;background-color: #FFFFFF !important;\"> Reference </th>\n",
       "   <th style=\"text-align:right;background-color: #FFFFFF !important;\"> Freq </th>\n",
       "  </tr>\n",
       " </thead>\n",
       "<tbody>\n",
       "  <tr>\n",
       "   <td style=\"text-align:right;\"> A </td>\n",
       "   <td style=\"text-align:right;\"> A </td>\n",
       "   <td style=\"text-align:right;\"> 0.4 </td>\n",
       "  </tr>\n",
       "  <tr>\n",
       "   <td style=\"text-align:right;\"> B </td>\n",
       "   <td style=\"text-align:right;\"> A </td>\n",
       "   <td style=\"text-align:right;\"> 0.2 </td>\n",
       "  </tr>\n",
       "  <tr>\n",
       "   <td style=\"text-align:right;\"> A </td>\n",
       "   <td style=\"text-align:right;\"> B </td>\n",
       "   <td style=\"text-align:right;\"> 0.2 </td>\n",
       "  </tr>\n",
       "  <tr>\n",
       "   <td style=\"text-align:right;\"> B </td>\n",
       "   <td style=\"text-align:right;\"> B </td>\n",
       "   <td style=\"text-align:right;\"> 0.2 </td>\n",
       "  </tr>\n",
       "</tbody>\n",
       "</table></td></tr></table>"
      ]
     },
     "metadata": {},
     "output_type": "display_data"
    }
   ],
   "source": [
    "cm = CM / sum(CM)\n",
    "layout(fmt.cm(cm), fmt(cm, \"cm (as frequency table)\"))"
   ]
  },
  {
   "cell_type": "markdown",
   "metadata": {},
   "source": [
    "### Performance Metrics\n",
    "\n",
    "Popular model performance metrics can be derived from the confusion matrix.\n",
    "\n",
    "Treat one class name as \"positive\" and the other class name as \"negative\".\n",
    "\n",
    "* **accuracy:** correct predictions $\\div$ total predictions\n",
    "* **true positive rate (aka sensitivity, aka recall):** correct positive predictions $\\div$ positive actuals\n",
    "* **true negative rate (aka specificity):** correct negative predictions $\\div$ negative actuals\n",
    "* **false positive rate:** incorrect positive predictions $\\div$ negative actuals\n",
    "* **false negative rate:** incorrect negative predictions $\\div$ postive actuals\n",
    "* **positive predictive value (aka precision):** correct positive predictions $\\div$ positive predictions\n",
    "* **negative predictive value:** correct negative predictions $\\div$ negative predictions\n",
    "* **f1 score:**<br>(2 $\\times$ correct positive predictions) $\\div$<br>((2 $\\times$ correct positive predictions) + incorrect positive predictions + incorrect negative predictions)"
   ]
  },
  {
   "cell_type": "markdown",
   "metadata": {},
   "source": [
    "Here is an example of a confusion matrix and some corresponding performance metric calculations."
   ]
  },
  {
   "cell_type": "code",
   "execution_count": 17,
   "metadata": {
    "hide_input": true
   },
   "outputs": [
    {
     "data": {
      "text/html": [
       "<table style=\"white-space: nowrap;\">\n",
       "<caption><center><font color=\"black\"><b>cm</b></font></center></caption>\n",
       " <thead>\n",
       "  <tr>\n",
       "   <th style=\"text-align:left;background-color: #FFFFFF !important;\">   </th>\n",
       "   <th style=\"text-align:right;background-color: #FFFFFF !important;\"> A </th>\n",
       "   <th style=\"text-align:right;background-color: #FFFFFF !important;\"> B </th>\n",
       "  </tr>\n",
       " </thead>\n",
       "<tbody>\n",
       "  <tr>\n",
       "   <td style=\"text-align:left;font-weight: bold;\"> A </td>\n",
       "   <td style=\"text-align:right;\"> 0.4 </td>\n",
       "   <td style=\"text-align:right;\"> 0.2 </td>\n",
       "  </tr>\n",
       "  <tr>\n",
       "   <td style=\"text-align:left;font-weight: bold;\"> B </td>\n",
       "   <td style=\"text-align:right;\"> 0.2 </td>\n",
       "   <td style=\"text-align:right;\"> 0.2 </td>\n",
       "  </tr>\n",
       "</tbody>\n",
       "</table>"
      ]
     },
     "metadata": {},
     "output_type": "display_data"
    },
    {
     "data": {
      "text/html": [
       "<table>\n",
       "<thead><tr><th scope=col>accuracy</th><th scope=col>tpr</th><th scope=col>tnr</th><th scope=col>fpr</th><th scope=col>fnr</th><th scope=col>ppv</th><th scope=col>npv</th><th scope=col>f1</th></tr></thead>\n",
       "<tbody>\n",
       "\t<tr><td>0.6      </td><td>0.6666667</td><td>0.5      </td><td>0.5      </td><td>0.3333333</td><td>0.6666667</td><td>0.5      </td><td>0.6666667</td></tr>\n",
       "</tbody>\n",
       "</table>\n"
      ],
      "text/latex": [
       "\\begin{tabular}{r|llllllll}\n",
       " accuracy & tpr & tnr & fpr & fnr & ppv & npv & f1\\\\\n",
       "\\hline\n",
       "\t 0.6       & 0.6666667 & 0.5       & 0.5       & 0.3333333 & 0.6666667 & 0.5       & 0.6666667\\\\\n",
       "\\end{tabular}\n"
      ],
      "text/markdown": [
       "\n",
       "| accuracy | tpr | tnr | fpr | fnr | ppv | npv | f1 |\n",
       "|---|---|---|---|---|---|---|---|\n",
       "| 0.6       | 0.6666667 | 0.5       | 0.5       | 0.3333333 | 0.6666667 | 0.5       | 0.6666667 |\n",
       "\n"
      ],
      "text/plain": [
       "  accuracy tpr       tnr fpr fnr       ppv       npv f1       \n",
       "1 0.6      0.6666667 0.5 0.5 0.3333333 0.6666667 0.5 0.6666667"
      ]
     },
     "metadata": {},
     "output_type": "display_data"
    }
   ],
   "source": [
    "fmt.cm(cm)\n",
    "\n",
    "accuracy = (cm[1,1]+cm[2,2])/sum(cm)\n",
    "tpr = cm[1,1]/sum(cm[,1])\n",
    "tnr = cm[2,2]/sum(cm[,2])\n",
    "fpr = cm[1,2]/sum(cm[,2])\n",
    "fnr = cm[2,1]/sum(cm[,1])\n",
    "ppv = cm[1,1]/sum(cm[1,])\n",
    "npv = cm[2,2]/sum(cm[2,])\n",
    "f1 = (2*cm[1,1])/((2*cm[1,1])+cm[2,1]+cm[1,2])\n",
    "\n",
    "data.frame(accuracy, tpr, tnr, fpr, fnr, ppv, npv, f1)"
   ]
  },
  {
   "cell_type": "markdown",
   "metadata": {},
   "source": [
    "* accuracy is 60% (sum of diagonal divided sum of all)\n",
    "* true positive rate is 67% (upper left divided by sum of all left)\n",
    "* true negative rate is 50% (lower right divided by sum of all right)\n",
    "* false positive rate is 50% (upper right divided by sum of all right)\n",
    "* false negative rate is 33% (lower left divided by sum of all left)\n",
    "* positive predictive value is 67% (upper left divided by all upper)\n",
    "* negative predictive value is 50% (lower right divided by all lower)\n",
    "* f1 score is 67% (2 x upper left divided by sum of 2 x upper left, lower left, upper right) "
   ]
  },
  {
   "cell_type": "markdown",
   "metadata": {},
   "source": [
    "## Evaluation by In-Sample Performance\n",
    "\n",
    "Evaluation by in-sample performance is one of three popular versions of evaluation.  It uses all the reference classified data, referred to in this context as training data, to construct a similar classifier.  It uses all the same reference classified data, referred to in this context as testing data, to predict and compare class values.\n",
    "\n",
    "An inherent problem with evaluation by in-sample performance is that its estimate of prediction quality is based on classifying a dataset with a classifier that already has knowledge of that dataset.  Imagine a student that studies the answers to certain questions and then is tested on only those questions.  The test results may overstate how the student would perform when tested on other questions.  In a business situation, imagine a classifier that is constructed from a certain dataset and then back-predicts that dataset.  The results may overstate how the classifier would perform classifying another dataset. "
   ]
  },
  {
   "cell_type": "markdown",
   "metadata": {
    "hide_input": true
   },
   "source": [
    "<table style=\"border:1px solid; margin-top:20px\">\n",
    "    <caption style=\"text-align:center\">In-sample Evaluation of a Classifier</caption>\n",
    "    <tr><td style=\"padding:20px; background-color:white\"><img src=\"classification_insample.jpg\" width=750></td></tr>\n",
    "</table><br clear=all>"
   ]
  },
  {
   "cell_type": "markdown",
   "metadata": {},
   "source": [
    "Here's an example of evaluation by in-sample performance of an operative classifier, which was constructed by the \"Special Classifier Construction Method\" based on the 5-observation reference classified dataset.  We use the same \"Special Classifier Construction Method\" and reference classified dataset to construct a similar classifier, which in this case is exactly the same as the operative classifier.  Then, we input the same reference data with the class variable hidden to the similar classifier to produce class probabilities and predict 5 class values, which we in turn compare to the 5 known class values.  From there, we construct a confusion matrix and use it to compute a performance metric, in this example accuracy 0.60, which is an estimate of the operative classifier's prediction quality."
   ]
  },
  {
   "cell_type": "code",
   "execution_count": 18,
   "metadata": {
    "hide_input": true
   },
   "outputs": [
    {
     "data": {
      "text/html": [
       "<table style=\"white-space: nowrap;\">\n",
       "<caption><center><font color=\"black\"><b>data</b></font></center></caption>\n",
       " <thead>\n",
       "  <tr>\n",
       "   <th style=\"text-align:right;background-color: #FFFFFF !important;\"> x1 </th>\n",
       "   <th style=\"text-align:right;background-color: #FFFFFF !important;\"> x2 </th>\n",
       "   <th style=\"text-align:right;background-color: #FFFFFF !important;\"> class </th>\n",
       "  </tr>\n",
       " </thead>\n",
       "<tbody>\n",
       "  <tr>\n",
       "   <td style=\"text-align:right;\"> 3 </td>\n",
       "   <td style=\"text-align:right;\"> 5 </td>\n",
       "   <td style=\"text-align:right;\"> A </td>\n",
       "  </tr>\n",
       "  <tr>\n",
       "   <td style=\"text-align:right;\"> 2 </td>\n",
       "   <td style=\"text-align:right;\"> 3 </td>\n",
       "   <td style=\"text-align:right;\"> A </td>\n",
       "  </tr>\n",
       "  <tr>\n",
       "   <td style=\"text-align:right;\"> 9 </td>\n",
       "   <td style=\"text-align:right;\"> 3 </td>\n",
       "   <td style=\"text-align:right;\"> B </td>\n",
       "  </tr>\n",
       "  <tr>\n",
       "   <td style=\"text-align:right;\"> 0 </td>\n",
       "   <td style=\"text-align:right;\"> 0 </td>\n",
       "   <td style=\"text-align:right;\"> B </td>\n",
       "  </tr>\n",
       "  <tr>\n",
       "   <td style=\"text-align:right;\"> 3 </td>\n",
       "   <td style=\"text-align:right;\"> 2 </td>\n",
       "   <td style=\"text-align:right;\"> A </td>\n",
       "  </tr>\n",
       "</tbody>\n",
       "</table>"
      ]
     },
     "metadata": {},
     "output_type": "display_data"
    }
   ],
   "source": [
    "fmt(data)"
   ]
  },
  {
   "cell_type": "code",
   "execution_count": 19,
   "metadata": {
    "hide_input": true
   },
   "outputs": [
    {
     "data": {
      "text/html": [
       "<table style=\"white-space: nowrap;\">\n",
       "<caption><center><font color=\"black\"><b>model.operative</b></font></center></caption>\n",
       " <thead>\n",
       "  <tr>\n",
       "   <th style=\"text-align:right;background-color: #FFFFFF !important;\"> method </th>\n",
       "   <th style=\"text-align:right;background-color: #FFFFFF !important;\"> vars </th>\n",
       "   <th style=\"text-align:right;background-color: #FFFFFF !important;\"> parameter_1 </th>\n",
       "   <th style=\"text-align:right;background-color: #FFFFFF !important;\"> parameter_2 </th>\n",
       "   <th style=\"text-align:right;background-color: #FFFFFF !important;\"> classes </th>\n",
       "  </tr>\n",
       " </thead>\n",
       "<tbody>\n",
       "  <tr>\n",
       "   <td style=\"text-align:right;\"> Special Classifier Construction Method </td>\n",
       "   <td style=\"text-align:right;\"> x1, x2 </td>\n",
       "   <td style=\"text-align:right;\"> 0.35 </td>\n",
       "   <td style=\"text-align:right;\"> 3.4 </td>\n",
       "   <td style=\"text-align:right;\"> A, B </td>\n",
       "  </tr>\n",
       "</tbody>\n",
       "</table>"
      ]
     },
     "metadata": {},
     "output_type": "display_data"
    }
   ],
   "source": [
    "model.operative = my_classifier_construction_method(class ~ x1+x2, data, hyperparameter=0.7)\n",
    "fmt.model(model.operative)"
   ]
  },
  {
   "cell_type": "code",
   "execution_count": 20,
   "metadata": {
    "hide_input": true
   },
   "outputs": [
    {
     "data": {
      "text/html": [
       "<table style=\"white-space: nowrap;\">\n",
       "<caption><center><font color=\"black\"><b>model</b></font></center></caption>\n",
       " <thead>\n",
       "  <tr>\n",
       "   <th style=\"text-align:right;background-color: #FFFFFF !important;\"> method </th>\n",
       "   <th style=\"text-align:right;background-color: #FFFFFF !important;\"> vars </th>\n",
       "   <th style=\"text-align:right;background-color: #FFFFFF !important;\"> parameter_1 </th>\n",
       "   <th style=\"text-align:right;background-color: #FFFFFF !important;\"> parameter_2 </th>\n",
       "   <th style=\"text-align:right;background-color: #FFFFFF !important;\"> classes </th>\n",
       "  </tr>\n",
       " </thead>\n",
       "<tbody>\n",
       "  <tr>\n",
       "   <td style=\"text-align:right;\"> Special Classifier Construction Method </td>\n",
       "   <td style=\"text-align:right;\"> x1, x2 </td>\n",
       "   <td style=\"text-align:right;\"> 0.35 </td>\n",
       "   <td style=\"text-align:right;\"> 3.4 </td>\n",
       "   <td style=\"text-align:right;\"> A, B </td>\n",
       "  </tr>\n",
       "</tbody>\n",
       "</table>"
      ]
     },
     "metadata": {},
     "output_type": "display_data"
    }
   ],
   "source": [
    "model = my_classifier_construction_method(class ~ x1+x2, data, hyperparameter=0.7)\n",
    "fmt.model(model)"
   ]
  },
  {
   "cell_type": "code",
   "execution_count": 21,
   "metadata": {
    "hide_input": true
   },
   "outputs": [
    {
     "data": {
      "text/html": [
       "<table><tr><td style=\"background-color:white; vertical-align:top; padding-right:40px;\"><table style=\"white-space: nowrap;\">\n",
       "<caption><center><font color=\"black\"><b>data</b></font></center></caption>\n",
       " <thead>\n",
       "  <tr>\n",
       "   <th style=\"text-align:right;background-color: #FFFFFF !important;\"> x1 </th>\n",
       "   <th style=\"text-align:right;background-color: #FFFFFF !important;\"> x2 </th>\n",
       "   <th style=\"text-align:right;background-color: #FFFFFF !important;\"> class </th>\n",
       "  </tr>\n",
       " </thead>\n",
       "<tbody>\n",
       "  <tr>\n",
       "   <td style=\"text-align:right;\"> 3 </td>\n",
       "   <td style=\"text-align:right;\"> 5 </td>\n",
       "   <td style=\"text-align:right;\"> A </td>\n",
       "  </tr>\n",
       "  <tr>\n",
       "   <td style=\"text-align:right;\"> 2 </td>\n",
       "   <td style=\"text-align:right;\"> 3 </td>\n",
       "   <td style=\"text-align:right;\"> A </td>\n",
       "  </tr>\n",
       "  <tr>\n",
       "   <td style=\"text-align:right;\"> 9 </td>\n",
       "   <td style=\"text-align:right;\"> 3 </td>\n",
       "   <td style=\"text-align:right;\"> B </td>\n",
       "  </tr>\n",
       "  <tr>\n",
       "   <td style=\"text-align:right;\"> 0 </td>\n",
       "   <td style=\"text-align:right;\"> 0 </td>\n",
       "   <td style=\"text-align:right;\"> B </td>\n",
       "  </tr>\n",
       "  <tr>\n",
       "   <td style=\"text-align:right;\"> 3 </td>\n",
       "   <td style=\"text-align:right;\"> 2 </td>\n",
       "   <td style=\"text-align:right;\"> A </td>\n",
       "  </tr>\n",
       "</tbody>\n",
       "</table></td><td style=\"background-color:white; vertical-align:top; padding-right:40px;\"><table style=\"white-space: nowrap;\">\n",
       "<caption><center><font color=\"black\"><b> </b></font></center></caption>\n",
       " <thead>\n",
       "  <tr>\n",
       "   <th style=\"text-align:right;background-color: #FFFFFF !important;\"> cutoff </th>\n",
       "  </tr>\n",
       " </thead>\n",
       "<tbody>\n",
       "  <tr>\n",
       "   <td style=\"text-align:right;\"> 0.5 </td>\n",
       "  </tr>\n",
       "</tbody>\n",
       "</table></td><td style=\"background-color:white; vertical-align:top; padding-right:40px;\"><table style=\"white-space: nowrap;\">\n",
       "<caption><center><font color=\"black\"><b>data (known class is hidden)</b></font></center></caption>\n",
       " <thead>\n",
       "  <tr>\n",
       "   <th style=\"text-align:right;background-color: #FFFFFF !important;\"> x1 </th>\n",
       "   <th style=\"text-align:right;background-color: #FFFFFF !important;\"> x2 </th>\n",
       "   <th style=\"text-align:right;background-color: #FFFFFF !important;\"> prob.A </th>\n",
       "   <th style=\"text-align:right;background-color: #FFFFFF !important;\"> class.predicted </th>\n",
       "   <th style=\"text-align:right;background-color: #FFFFFF !important;\"> hit </th>\n",
       "  </tr>\n",
       " </thead>\n",
       "<tbody>\n",
       "  <tr>\n",
       "   <td style=\"text-align:right;\"> 3 </td>\n",
       "   <td style=\"text-align:right;\"> 5 </td>\n",
       "   <td style=\"text-align:right;\"> 0.6176471 </td>\n",
       "   <td style=\"text-align:right;\"> A </td>\n",
       "   <td style=\"text-align:right;\"> TRUE </td>\n",
       "  </tr>\n",
       "  <tr>\n",
       "   <td style=\"text-align:right;\"> 2 </td>\n",
       "   <td style=\"text-align:right;\"> 3 </td>\n",
       "   <td style=\"text-align:right;\"> 0.4117647 </td>\n",
       "   <td style=\"text-align:right;\"> B </td>\n",
       "   <td style=\"text-align:right;\"> FALSE </td>\n",
       "  </tr>\n",
       "  <tr>\n",
       "   <td style=\"text-align:right;\"> 9 </td>\n",
       "   <td style=\"text-align:right;\"> 3 </td>\n",
       "   <td style=\"text-align:right;\"> 1.0000000 </td>\n",
       "   <td style=\"text-align:right;\"> A </td>\n",
       "   <td style=\"text-align:right;\"> FALSE </td>\n",
       "  </tr>\n",
       "  <tr>\n",
       "   <td style=\"text-align:right;\"> 0 </td>\n",
       "   <td style=\"text-align:right;\"> 0 </td>\n",
       "   <td style=\"text-align:right;\"> 0.0000000 </td>\n",
       "   <td style=\"text-align:right;\"> B </td>\n",
       "   <td style=\"text-align:right;\"> TRUE </td>\n",
       "  </tr>\n",
       "  <tr>\n",
       "   <td style=\"text-align:right;\"> 3 </td>\n",
       "   <td style=\"text-align:right;\"> 2 </td>\n",
       "   <td style=\"text-align:right;\"> 0.6176471 </td>\n",
       "   <td style=\"text-align:right;\"> A </td>\n",
       "   <td style=\"text-align:right;\"> TRUE </td>\n",
       "  </tr>\n",
       "</tbody>\n",
       "</table></td><td style=\"background-color:white; vertical-align:top; padding-right:40px;\"><table style=\"white-space: nowrap;\">\n",
       "<caption><center><font color=\"black\"><b>cm</b></font></center></caption>\n",
       " <thead>\n",
       "  <tr>\n",
       "   <th style=\"text-align:left;background-color: #FFFFFF !important;\">   </th>\n",
       "   <th style=\"text-align:right;background-color: #FFFFFF !important;\"> A </th>\n",
       "   <th style=\"text-align:right;background-color: #FFFFFF !important;\"> B </th>\n",
       "  </tr>\n",
       " </thead>\n",
       "<tbody>\n",
       "  <tr>\n",
       "   <td style=\"text-align:left;font-weight: bold;\"> A </td>\n",
       "   <td style=\"text-align:right;\"> 0.4 </td>\n",
       "   <td style=\"text-align:right;\"> 0.2 </td>\n",
       "  </tr>\n",
       "  <tr>\n",
       "   <td style=\"text-align:left;font-weight: bold;\"> B </td>\n",
       "   <td style=\"text-align:right;\"> 0.2 </td>\n",
       "   <td style=\"text-align:right;\"> 0.2 </td>\n",
       "  </tr>\n",
       "</tbody>\n",
       "</table></td><td style=\"background-color:white; vertical-align:top;\"><table style=\"white-space: nowrap;\">\n",
       "<caption><center><font color=\"black\"><b> </b></font></center></caption>\n",
       " <thead>\n",
       "  <tr>\n",
       "   <th style=\"text-align:right;background-color: #FFFFFF !important;\"> accuracy </th>\n",
       "  </tr>\n",
       " </thead>\n",
       "<tbody>\n",
       "  <tr>\n",
       "   <td style=\"text-align:right;\"> 0.6 </td>\n",
       "  </tr>\n",
       "</tbody>\n",
       "</table></td></tr></table>"
      ]
     },
     "metadata": {},
     "output_type": "display_data"
    }
   ],
   "source": [
    "cutoff = 0.5\n",
    "\n",
    "data.u = data; data.u$class = NULL\n",
    "\n",
    "\n",
    "prob = predict(model, data.u)\n",
    "data.u$prob.A = prob[,\"A\"]\n",
    "data.u$class.predicted = as.class(prob, class=\"A\", cutoff)\n",
    "\n",
    "data.u$hit = data.u$class.predicted == data$class\n",
    "\n",
    "CM = confusionMatrix(data.u$class.predicted, data$class)$table\n",
    "cm = CM / sum(CM)\n",
    "\n",
    "accuracy = (cm[1,1]+cm[2,2])/sum(cm)\n",
    "\n",
    "layout(fmt(data), fmt(cutoff, force=TRUE), fmt(data.u, \"data (known class is hidden)\"), fmt.cm(cm), fmt(accuracy, force=TRUE))"
   ]
  },
  {
   "cell_type": "code",
   "execution_count": 22,
   "metadata": {
    "hide_input": true
   },
   "outputs": [
    {
     "data": {
      "image/png": "[encoded data removed]",
      "text/plain": [
       "plot without title"
      ]
     },
     "metadata": {
      "image/png": {
       "height": 360,
       "width": 396
      },
      "text/plain": {
       "height": 360,
       "width": 396
      }
     },
     "output_type": "display_data"
    }
   ],
   "source": [
    "output_size(3.3,3)\n",
    "ggplot(data) + ggtitle(\"Data | Prediction Results\") + xlim(0,10) + ylim(0,6) +\n",
    "geom_point(aes(x=x1, y=x2), color=PALETTE[3], size=10, data=data.u[data.u$hit,]) +\n",
    "geom_point(aes(x=x1, y=x2, color=factor(class))) +\n",
    "geom_text(aes(x=x1, y=x2), label=\"X\", size=8, data=data.u[!data.u$hit,])\n",
    "output_size(restore)"
   ]
  },
  {
   "cell_type": "markdown",
   "metadata": {},
   "source": [
    "## Evaluation by Out-of-Sample Performance\n",
    "\n",
    "Evaluation by out-of-sample performance is another one of three popular versions of evaluation.  It uses some of the reference classified dataset, referred to in this context as holdin training data, to construct a similar classifier.  It uses the rest of the reference classified dataset, referred to in this context as holdout testing data, to predict and compare class values.\n",
    "\n",
    "Evaluation by out-of-sample performance is considered to produce better estimates of prediction quality than evaluation by in-sample performance does.  It avoids the problem of using the same data for both training and testing.  However, it has its own inherent problem in that it uses only some of the reference classified data to train and only some to test.  Imagine a student that studies the answers to certain questions and then is tested on other questions, but not tested on any of the questions for which she studied.  Further, consider that had she studied the answers to those other questions she may have performed better.  The results may understate or overstate how the student would perform on other tests.  In a business situation, imagine a classifier that is constructed from a certain dataset and then back-predicts another dataset.  The results may understate or overstate how the classifier would perform classifying the still another dataset. \n",
    "\n",
    "Out-of-sample performance is also known as holdout performance."
   ]
  },
  {
   "cell_type": "markdown",
   "metadata": {},
   "source": [
    "<table style=\"border:1px solid; margin-top:20px\">\n",
    "    <caption style=\"text-align:center\">Out-of-Sample Evaluation of a Classifier</caption>\n",
    "    <tr><td style=\"padding:20px; background-color:white\"><img src=\"classification_outofsample.jpg\" width=950></td></tr>\n",
    "</table><br clear=all>"
   ]
  },
  {
   "cell_type": "markdown",
   "metadata": {
    "hide_input": false
   },
   "source": [
    "Here's an example of evaluation by out-of-sample performance of an operative classifier, which was constructed by the \"Special Classifier Construction Method\" based on the 5-observation reference classified dataset."
   ]
  },
  {
   "cell_type": "code",
   "execution_count": 23,
   "metadata": {
    "hide_input": true
   },
   "outputs": [
    {
     "data": {
      "text/html": [
       "<table style=\"white-space: nowrap;\">\n",
       "<caption><center><font color=\"black\"><b>data</b></font></center></caption>\n",
       " <thead>\n",
       "  <tr>\n",
       "   <th style=\"text-align:right;background-color: #FFFFFF !important;\"> x1 </th>\n",
       "   <th style=\"text-align:right;background-color: #FFFFFF !important;\"> x2 </th>\n",
       "   <th style=\"text-align:right;background-color: #FFFFFF !important;\"> class </th>\n",
       "  </tr>\n",
       " </thead>\n",
       "<tbody>\n",
       "  <tr>\n",
       "   <td style=\"text-align:right;\"> 3 </td>\n",
       "   <td style=\"text-align:right;\"> 5 </td>\n",
       "   <td style=\"text-align:right;\"> A </td>\n",
       "  </tr>\n",
       "  <tr>\n",
       "   <td style=\"text-align:right;\"> 2 </td>\n",
       "   <td style=\"text-align:right;\"> 3 </td>\n",
       "   <td style=\"text-align:right;\"> A </td>\n",
       "  </tr>\n",
       "  <tr>\n",
       "   <td style=\"text-align:right;\"> 9 </td>\n",
       "   <td style=\"text-align:right;\"> 3 </td>\n",
       "   <td style=\"text-align:right;\"> B </td>\n",
       "  </tr>\n",
       "  <tr>\n",
       "   <td style=\"text-align:right;\"> 0 </td>\n",
       "   <td style=\"text-align:right;\"> 0 </td>\n",
       "   <td style=\"text-align:right;\"> B </td>\n",
       "  </tr>\n",
       "  <tr>\n",
       "   <td style=\"text-align:right;\"> 3 </td>\n",
       "   <td style=\"text-align:right;\"> 2 </td>\n",
       "   <td style=\"text-align:right;\"> A </td>\n",
       "  </tr>\n",
       "</tbody>\n",
       "</table>"
      ]
     },
     "metadata": {},
     "output_type": "display_data"
    }
   ],
   "source": [
    "fmt(data)"
   ]
  },
  {
   "cell_type": "code",
   "execution_count": 24,
   "metadata": {
    "hide_input": true
   },
   "outputs": [
    {
     "data": {
      "text/html": [
       "<table style=\"white-space: nowrap;\">\n",
       "<caption><center><font color=\"black\"><b>model.operative</b></font></center></caption>\n",
       " <thead>\n",
       "  <tr>\n",
       "   <th style=\"text-align:right;background-color: #FFFFFF !important;\"> method </th>\n",
       "   <th style=\"text-align:right;background-color: #FFFFFF !important;\"> vars </th>\n",
       "   <th style=\"text-align:right;background-color: #FFFFFF !important;\"> parameter_1 </th>\n",
       "   <th style=\"text-align:right;background-color: #FFFFFF !important;\"> parameter_2 </th>\n",
       "   <th style=\"text-align:right;background-color: #FFFFFF !important;\"> classes </th>\n",
       "  </tr>\n",
       " </thead>\n",
       "<tbody>\n",
       "  <tr>\n",
       "   <td style=\"text-align:right;\"> Special Classifier Construction Method </td>\n",
       "   <td style=\"text-align:right;\"> x1, x2 </td>\n",
       "   <td style=\"text-align:right;\"> 0.35 </td>\n",
       "   <td style=\"text-align:right;\"> 3.4 </td>\n",
       "   <td style=\"text-align:right;\"> A, B </td>\n",
       "  </tr>\n",
       "</tbody>\n",
       "</table>"
      ]
     },
     "metadata": {},
     "output_type": "display_data"
    }
   ],
   "source": [
    "model.operative = my_classifier_construction_method(class ~ x1+x2, data, hyperparameter=0.7)\n",
    "fmt.model(model.operative)"
   ]
  },
  {
   "cell_type": "markdown",
   "metadata": {},
   "source": [
    "Partition the reference classified dataset into a holdin part for training and a holdout part for testing.  Here we chose to tag 40% of the dataset's observations, sampled at random, as holdout: observations 1 and 3.  We tag the remaining 60% of the dataset as holdin: observations 2, 4, and 5."
   ]
  },
  {
   "cell_type": "code",
   "execution_count": 25,
   "metadata": {
    "hide_input": true
   },
   "outputs": [
    {
     "data": {
      "text/html": [
       "<table><tr><td style=\"background-color:white; vertical-align:top; padding-right:40px;\"><table style=\"white-space: nowrap;\">\n",
       "<caption><center><font color=\"black\"><b> </b></font></center></caption>\n",
       " <thead>\n",
       "  <tr>\n",
       "   <th style=\"text-align:right;background-color: #FFFFFF !important;\"> holdout </th>\n",
       "  </tr>\n",
       " </thead>\n",
       "<tbody>\n",
       "  <tr>\n",
       "   <td style=\"text-align:right;\"> 1 </td>\n",
       "  </tr>\n",
       "  <tr>\n",
       "   <td style=\"text-align:right;\"> 3 </td>\n",
       "  </tr>\n",
       "</tbody>\n",
       "</table></td><td style=\"background-color:white; vertical-align:top;\"><table style=\"white-space: nowrap;\">\n",
       "<caption><center><font color=\"black\"><b>data.test</b></font></center></caption>\n",
       " <thead>\n",
       "  <tr>\n",
       "   <th style=\"text-align:right;background-color: #FFFFFF !important;\"> x1 </th>\n",
       "   <th style=\"text-align:right;background-color: #FFFFFF !important;\"> x2 </th>\n",
       "   <th style=\"text-align:right;background-color: #FFFFFF !important;\"> class </th>\n",
       "  </tr>\n",
       " </thead>\n",
       "<tbody>\n",
       "  <tr>\n",
       "   <td style=\"text-align:right;\"> 3 </td>\n",
       "   <td style=\"text-align:right;\"> 5 </td>\n",
       "   <td style=\"text-align:right;\"> A </td>\n",
       "  </tr>\n",
       "  <tr>\n",
       "   <td style=\"text-align:right;\"> 9 </td>\n",
       "   <td style=\"text-align:right;\"> 3 </td>\n",
       "   <td style=\"text-align:right;\"> B </td>\n",
       "  </tr>\n",
       "</tbody>\n",
       "</table></td></tr><tr><td style=\"background-color:white; vertical-align:top; padding-right:40px;\"><table style=\"white-space: nowrap;\">\n",
       "<caption><center><font color=\"black\"><b> </b></font></center></caption>\n",
       " <thead>\n",
       "  <tr>\n",
       "   <th style=\"text-align:right;background-color: #FFFFFF !important;\"> holdin </th>\n",
       "  </tr>\n",
       " </thead>\n",
       "<tbody>\n",
       "  <tr>\n",
       "   <td style=\"text-align:right;\"> 2 </td>\n",
       "  </tr>\n",
       "  <tr>\n",
       "   <td style=\"text-align:right;\"> 4 </td>\n",
       "  </tr>\n",
       "  <tr>\n",
       "   <td style=\"text-align:right;\"> 5 </td>\n",
       "  </tr>\n",
       "</tbody>\n",
       "</table></td><td style=\"background-color:white; vertical-align:top;\"><table style=\"white-space: nowrap;\">\n",
       "<caption><center><font color=\"black\"><b>data.train</b></font></center></caption>\n",
       " <thead>\n",
       "  <tr>\n",
       "   <th style=\"text-align:right;background-color: #FFFFFF !important;\"> x1 </th>\n",
       "   <th style=\"text-align:right;background-color: #FFFFFF !important;\"> x2 </th>\n",
       "   <th style=\"text-align:right;background-color: #FFFFFF !important;\"> class </th>\n",
       "  </tr>\n",
       " </thead>\n",
       "<tbody>\n",
       "  <tr>\n",
       "   <td style=\"text-align:right;\"> 2 </td>\n",
       "   <td style=\"text-align:right;\"> 3 </td>\n",
       "   <td style=\"text-align:right;\"> A </td>\n",
       "  </tr>\n",
       "  <tr>\n",
       "   <td style=\"text-align:right;\"> 0 </td>\n",
       "   <td style=\"text-align:right;\"> 0 </td>\n",
       "   <td style=\"text-align:right;\"> B </td>\n",
       "  </tr>\n",
       "  <tr>\n",
       "   <td style=\"text-align:right;\"> 3 </td>\n",
       "   <td style=\"text-align:right;\"> 2 </td>\n",
       "   <td style=\"text-align:right;\"> A </td>\n",
       "  </tr>\n",
       "</tbody>\n",
       "</table></td></tr></table>"
      ]
     },
     "metadata": {},
     "output_type": "display_data"
    }
   ],
   "source": [
    "set.seed(0016)\n",
    "holdout = sample(1:nrow(data), 0.40*nrow(data))\n",
    "holdin  = setdiff(1:nrow(data), holdout)\n",
    "data.test  = data[holdout,]\n",
    "data.train = data[holdin,]\n",
    "\n",
    "layout(fmt(holdout, force=TRUE), fmt(data.test), fmt(holdin, force=TRUE), fmt(data.train), nrow=2)"
   ]
  },
  {
   "cell_type": "markdown",
   "metadata": {},
   "source": [
    "Input the 3-observation holdin dataset to the \"Special Classifier Construction Method\" to construct a similar classifier, which will be different than the operative classifier."
   ]
  },
  {
   "cell_type": "code",
   "execution_count": 26,
   "metadata": {
    "hide_input": true
   },
   "outputs": [
    {
     "data": {
      "text/html": [
       "<table style=\"white-space: nowrap;\">\n",
       "<caption><center><font color=\"black\"><b>model</b></font></center></caption>\n",
       " <thead>\n",
       "  <tr>\n",
       "   <th style=\"text-align:right;background-color: #FFFFFF !important;\"> method </th>\n",
       "   <th style=\"text-align:right;background-color: #FFFFFF !important;\"> vars </th>\n",
       "   <th style=\"text-align:right;background-color: #FFFFFF !important;\"> parameter_1 </th>\n",
       "   <th style=\"text-align:right;background-color: #FFFFFF !important;\"> parameter_2 </th>\n",
       "   <th style=\"text-align:right;background-color: #FFFFFF !important;\"> classes </th>\n",
       "  </tr>\n",
       " </thead>\n",
       "<tbody>\n",
       "  <tr>\n",
       "   <td style=\"text-align:right;\"> Special Classifier Construction Method </td>\n",
       "   <td style=\"text-align:right;\"> x1, x2 </td>\n",
       "   <td style=\"text-align:right;\"> 0.35 </td>\n",
       "   <td style=\"text-align:right;\"> 1.666667 </td>\n",
       "   <td style=\"text-align:right;\"> A, B </td>\n",
       "  </tr>\n",
       "</tbody>\n",
       "</table>"
      ]
     },
     "metadata": {},
     "output_type": "display_data"
    }
   ],
   "source": [
    "model = my_classifier_construction_method(class ~ x1+x2, data.train, hyperparameter=0.7)\n",
    "fmt.model(model)"
   ]
  },
  {
   "cell_type": "markdown",
   "metadata": {},
   "source": [
    "Input the 2-observation holdout dataset to the similar classifier to produce class probabilities and predict 2 class values, and in turn compare to the 2 known class values.  From there, we construct a confusion matrix and use it to compute a performance metric, in this example accuracy 0.50, which is an estimate of the operative classifier's prediction quality.  At this point, you can discard the similar classifier."
   ]
  },
  {
   "cell_type": "code",
   "execution_count": 27,
   "metadata": {
    "hide_input": true
   },
   "outputs": [
    {
     "data": {
      "text/html": [
       "<table><tr><td style=\"background-color:white; vertical-align:top; padding-right:40px;\"><table style=\"white-space: nowrap;\">\n",
       "<caption><center><font color=\"black\"><b>data.test</b></font></center></caption>\n",
       " <thead>\n",
       "  <tr>\n",
       "   <th style=\"text-align:right;background-color: #FFFFFF !important;\"> x1 </th>\n",
       "   <th style=\"text-align:right;background-color: #FFFFFF !important;\"> x2 </th>\n",
       "   <th style=\"text-align:right;background-color: #FFFFFF !important;\"> class </th>\n",
       "  </tr>\n",
       " </thead>\n",
       "<tbody>\n",
       "  <tr>\n",
       "   <td style=\"text-align:right;\"> 3 </td>\n",
       "   <td style=\"text-align:right;\"> 5 </td>\n",
       "   <td style=\"text-align:right;\"> A </td>\n",
       "  </tr>\n",
       "  <tr>\n",
       "   <td style=\"text-align:right;\"> 9 </td>\n",
       "   <td style=\"text-align:right;\"> 3 </td>\n",
       "   <td style=\"text-align:right;\"> B </td>\n",
       "  </tr>\n",
       "</tbody>\n",
       "</table></td><td style=\"background-color:white; vertical-align:top; padding-right:40px;\"><table style=\"white-space: nowrap;\">\n",
       "<caption><center><font color=\"black\"><b> </b></font></center></caption>\n",
       " <thead>\n",
       "  <tr>\n",
       "   <th style=\"text-align:right;background-color: #FFFFFF !important;\"> cutoff </th>\n",
       "  </tr>\n",
       " </thead>\n",
       "<tbody>\n",
       "  <tr>\n",
       "   <td style=\"text-align:right;\"> 0.5 </td>\n",
       "  </tr>\n",
       "</tbody>\n",
       "</table></td><td style=\"background-color:white; vertical-align:top; padding-right:40px;\"><table style=\"white-space: nowrap;\">\n",
       "<caption><center><font color=\"black\"><b>data.test (known class is hidden)</b></font></center></caption>\n",
       " <thead>\n",
       "  <tr>\n",
       "   <th style=\"text-align:right;background-color: #FFFFFF !important;\"> x1 </th>\n",
       "   <th style=\"text-align:right;background-color: #FFFFFF !important;\"> x2 </th>\n",
       "   <th style=\"text-align:right;background-color: #FFFFFF !important;\"> prob.A </th>\n",
       "   <th style=\"text-align:right;background-color: #FFFFFF !important;\"> class.predicted </th>\n",
       "   <th style=\"text-align:right;background-color: #FFFFFF !important;\"> hit </th>\n",
       "  </tr>\n",
       " </thead>\n",
       "<tbody>\n",
       "  <tr>\n",
       "   <td style=\"text-align:right;\"> 3 </td>\n",
       "   <td style=\"text-align:right;\"> 5 </td>\n",
       "   <td style=\"text-align:right;\"> 1 </td>\n",
       "   <td style=\"text-align:right;\"> A </td>\n",
       "   <td style=\"text-align:right;\"> TRUE </td>\n",
       "  </tr>\n",
       "  <tr>\n",
       "   <td style=\"text-align:right;\"> 9 </td>\n",
       "   <td style=\"text-align:right;\"> 3 </td>\n",
       "   <td style=\"text-align:right;\"> 1 </td>\n",
       "   <td style=\"text-align:right;\"> A </td>\n",
       "   <td style=\"text-align:right;\"> FALSE </td>\n",
       "  </tr>\n",
       "</tbody>\n",
       "</table></td><td style=\"background-color:white; vertical-align:top; padding-right:40px;\"><table style=\"white-space: nowrap;\">\n",
       "<caption><center><font color=\"black\"><b>cm</b></font></center></caption>\n",
       " <thead>\n",
       "  <tr>\n",
       "   <th style=\"text-align:left;background-color: #FFFFFF !important;\">   </th>\n",
       "   <th style=\"text-align:right;background-color: #FFFFFF !important;\"> A </th>\n",
       "   <th style=\"text-align:right;background-color: #FFFFFF !important;\"> B </th>\n",
       "  </tr>\n",
       " </thead>\n",
       "<tbody>\n",
       "  <tr>\n",
       "   <td style=\"text-align:left;font-weight: bold;\"> A </td>\n",
       "   <td style=\"text-align:right;\"> 0.5 </td>\n",
       "   <td style=\"text-align:right;\"> 0.5 </td>\n",
       "  </tr>\n",
       "  <tr>\n",
       "   <td style=\"text-align:left;font-weight: bold;\"> B </td>\n",
       "   <td style=\"text-align:right;\"> 0.0 </td>\n",
       "   <td style=\"text-align:right;\"> 0.0 </td>\n",
       "  </tr>\n",
       "</tbody>\n",
       "</table></td><td style=\"background-color:white; vertical-align:top;\"><table style=\"white-space: nowrap;\">\n",
       "<caption><center><font color=\"black\"><b> </b></font></center></caption>\n",
       " <thead>\n",
       "  <tr>\n",
       "   <th style=\"text-align:right;background-color: #FFFFFF !important;\"> accuracy </th>\n",
       "  </tr>\n",
       " </thead>\n",
       "<tbody>\n",
       "  <tr>\n",
       "   <td style=\"text-align:right;\"> 0.5 </td>\n",
       "  </tr>\n",
       "</tbody>\n",
       "</table></td></tr></table>"
      ]
     },
     "metadata": {},
     "output_type": "display_data"
    }
   ],
   "source": [
    "cutoff = 0.5\n",
    "\n",
    "data.u.test = data.test; data.u.test$class = NULL\n",
    "\n",
    "prob = predict(model, data.u.test)\n",
    "data.u.test$prob.A = prob[,\"A\"]\n",
    "data.u.test$class.predicted = as.class(prob, class=\"A\", cutoff)\n",
    "\n",
    "data.u.test$hit = data.u.test$class.predicted == data.test$class\n",
    "\n",
    "CM = confusionMatrix(data.u.test$class.predicted, data.test$class)$table\n",
    "cm = CM / sum(CM)\n",
    "\n",
    "accuracy = (cm[1,1]+cm[2,2])/sum(cm)\n",
    "\n",
    "layout(fmt(data.test), fmt(cutoff, force=TRUE), fmt(data.u.test, \"data.test (known class is hidden)\"), fmt.cm(cm), fmt(accuracy, force=TRUE))"
   ]
  },
  {
   "cell_type": "code",
   "execution_count": 28,
   "metadata": {
    "hide_input": true
   },
   "outputs": [
    {
     "data": {
      "image/png": "[encoded data removed]",
      "text/plain": [
       "plot without title"
      ]
     },
     "metadata": {
      "image/png": {
       "height": 360,
       "width": 396
      },
      "text/plain": {
       "height": 360,
       "width": 396
      }
     },
     "output_type": "display_data"
    }
   ],
   "source": [
    "output_size(3.3,3)\n",
    "ggplot(data.test) + ggtitle(\"Test Data | Prediction Results\") + xlim(0,10) + ylim(0,6) +\n",
    "geom_point(aes(x=x1, y=x2), color=PALETTE[3], size=10, data=data.u.test[data.u.test$hit,]) +\n",
    "geom_point(aes(x=x1, y=x2, color=factor(class))) +\n",
    "geom_text(aes(x=x1, y=x2), label=\"X\", size=8, data=data.u.test[!data.u.test$hit,])\n",
    "output_size(restore)"
   ]
  },
  {
   "cell_type": "markdown",
   "metadata": {},
   "source": [
    "## Evaluation by Cross-Validation Performance\n",
    "\n",
    "Evaluation by cross-validation performance is yet another one of three popular versions of evaluation.  It works by organizing a reference classified dataset into several approximately equally sized folds, where each fold comprises a subset of the dataset for training and the rest of the dataset for testing. It uses all of the reference classified dataset, but only one subset at a time, to construct several similar classifiers.  It uses all of the reference classified dataset, but only one subset at a time, to predict and compare class values.\n",
    "\n",
    "Evaluation by cross-validation performance is considered to produce better estimates of prediction quality than either evaluation by in-sample or out-of-sample performance do.  It avoids the problem of using the same data for both training and testing.  It also avoids the problem of using only some of the reference classified data to train and only some to test.\n",
    "\n",
    "In practice, evaluation by cross-validation performance is often done with 5 or 10 folds. "
   ]
  },
  {
   "cell_type": "markdown",
   "metadata": {},
   "source": [
    "<table style=\"border:1px solid; margin-top:20px\">\n",
    "    <caption style=\"text-align:center\">Cross-Validation Evaluation of a Classifier</caption>\n",
    "    <tr><td style=\"padding:20px; background-color:white\"><img src=\"classification_xval.jpg\" width=950></td></tr>\n",
    "</table><br clear=all>"
   ]
  },
  {
   "cell_type": "markdown",
   "metadata": {},
   "source": [
    "Here's an example of evaluation by cross-validation performance of an operative classifier, which was constructed by the \"Special Classifier Construction Method\" based on the 5-observation reference classified dataset.  "
   ]
  },
  {
   "cell_type": "code",
   "execution_count": 29,
   "metadata": {
    "hide_input": true
   },
   "outputs": [
    {
     "data": {
      "text/html": [
       "<table style=\"white-space: nowrap;\">\n",
       "<caption><center><font color=\"black\"><b>data</b></font></center></caption>\n",
       " <thead>\n",
       "  <tr>\n",
       "   <th style=\"text-align:right;background-color: #FFFFFF !important;\"> x1 </th>\n",
       "   <th style=\"text-align:right;background-color: #FFFFFF !important;\"> x2 </th>\n",
       "   <th style=\"text-align:right;background-color: #FFFFFF !important;\"> class </th>\n",
       "  </tr>\n",
       " </thead>\n",
       "<tbody>\n",
       "  <tr>\n",
       "   <td style=\"text-align:right;\"> 3 </td>\n",
       "   <td style=\"text-align:right;\"> 5 </td>\n",
       "   <td style=\"text-align:right;\"> A </td>\n",
       "  </tr>\n",
       "  <tr>\n",
       "   <td style=\"text-align:right;\"> 2 </td>\n",
       "   <td style=\"text-align:right;\"> 3 </td>\n",
       "   <td style=\"text-align:right;\"> A </td>\n",
       "  </tr>\n",
       "  <tr>\n",
       "   <td style=\"text-align:right;\"> 9 </td>\n",
       "   <td style=\"text-align:right;\"> 3 </td>\n",
       "   <td style=\"text-align:right;\"> B </td>\n",
       "  </tr>\n",
       "  <tr>\n",
       "   <td style=\"text-align:right;\"> 0 </td>\n",
       "   <td style=\"text-align:right;\"> 0 </td>\n",
       "   <td style=\"text-align:right;\"> B </td>\n",
       "  </tr>\n",
       "  <tr>\n",
       "   <td style=\"text-align:right;\"> 3 </td>\n",
       "   <td style=\"text-align:right;\"> 2 </td>\n",
       "   <td style=\"text-align:right;\"> A </td>\n",
       "  </tr>\n",
       "</tbody>\n",
       "</table>"
      ]
     },
     "metadata": {},
     "output_type": "display_data"
    }
   ],
   "source": [
    "fmt(data)"
   ]
  },
  {
   "cell_type": "code",
   "execution_count": 30,
   "metadata": {
    "hide_input": true
   },
   "outputs": [
    {
     "data": {
      "text/html": [
       "<table style=\"white-space: nowrap;\">\n",
       "<caption><center><font color=\"black\"><b>model.operative</b></font></center></caption>\n",
       " <thead>\n",
       "  <tr>\n",
       "   <th style=\"text-align:right;background-color: #FFFFFF !important;\"> method </th>\n",
       "   <th style=\"text-align:right;background-color: #FFFFFF !important;\"> vars </th>\n",
       "   <th style=\"text-align:right;background-color: #FFFFFF !important;\"> parameter_1 </th>\n",
       "   <th style=\"text-align:right;background-color: #FFFFFF !important;\"> parameter_2 </th>\n",
       "   <th style=\"text-align:right;background-color: #FFFFFF !important;\"> classes </th>\n",
       "  </tr>\n",
       " </thead>\n",
       "<tbody>\n",
       "  <tr>\n",
       "   <td style=\"text-align:right;\"> Special Classifier Construction Method </td>\n",
       "   <td style=\"text-align:right;\"> x1, x2 </td>\n",
       "   <td style=\"text-align:right;\"> 0.35 </td>\n",
       "   <td style=\"text-align:right;\"> 3.4 </td>\n",
       "   <td style=\"text-align:right;\"> A, B </td>\n",
       "  </tr>\n",
       "</tbody>\n",
       "</table>"
      ]
     },
     "metadata": {},
     "output_type": "display_data"
    }
   ],
   "source": [
    "model.operative = my_classifier_construction_method(class ~ x1+x2, data, hyperparameter=0.7)\n",
    "fmt.model(model.operative)"
   ]
  },
  {
   "cell_type": "markdown",
   "metadata": {},
   "source": [
    "Organize the reference classified dataset into several approximately equally sized folds.  Do this by first partitioning the dataset into approximately equally sized subsets, sampling at random.  Here we chose to organize as 3 folds, and so partition into 3 subsets: observations 4 and 5; observation 2; and observations 1 and 3."
   ]
  },
  {
   "cell_type": "code",
   "execution_count": 31,
   "metadata": {
    "hide_input": true
   },
   "outputs": [
    {
     "data": {
      "text/html": [
       "<table>\n",
       "<thead><tr><th scope=col>Fold1</th><th scope=col>Fold2</th><th scope=col>Fold3</th></tr></thead>\n",
       "<tbody>\n",
       "\t<tr><td>4, 5</td><td>2   </td><td>1, 3</td></tr>\n",
       "</tbody>\n",
       "</table>\n"
      ],
      "text/latex": [
       "\\begin{tabular}{r|lll}\n",
       " Fold1 & Fold2 & Fold3\\\\\n",
       "\\hline\n",
       "\t 4, 5 & 2    & 1, 3\\\\\n",
       "\\end{tabular}\n"
      ],
      "text/markdown": [
       "\n",
       "| Fold1 | Fold2 | Fold3 |\n",
       "|---|---|---|\n",
       "| 4, 5 | 2    | 1, 3 |\n",
       "\n"
      ],
      "text/plain": [
       "  Fold1 Fold2 Fold3\n",
       "1 4, 5  2     1, 3 "
      ]
     },
     "metadata": {},
     "output_type": "display_data"
    }
   ],
   "source": [
    "set.seed(0026)\n",
    "fold = createFolds(data$class, k=3)\n",
    "data.frame(t(fold))"
   ]
  },
  {
   "cell_type": "markdown",
   "metadata": {},
   "source": [
    "For each fold, assign one of the subsets to be its testing dataset.  Then for each fold, assign the part of the reference dataset not used for testing in that fold to be its training dataset.  Here the first fold comprises a 3-observation dataset for training and a 2-observation dataset for testing.  The dataset for training comprises observations 1, 2, and 3.  The dataset for testing comprises observations 4 and 5.  Similarly for folds 2 and 3. \n",
    "\n",
    "Note that some observations used for training will be duplicated across folds, but no observations used for testing will be duplicated across folds.  Also note that each fold uses all of the reference dataset, some for training and the rest for testing."
   ]
  },
  {
   "cell_type": "markdown",
   "metadata": {},
   "source": [
    "**Fold #1:**"
   ]
  },
  {
   "cell_type": "code",
   "execution_count": 32,
   "metadata": {
    "hide_input": true
   },
   "outputs": [
    {
     "data": {
      "text/html": [
       "<table><tr><td style=\"background-color:white; vertical-align:top; padding-right:40px;\"><table style=\"white-space: nowrap;\">\n",
       "<caption><center><font color=\"black\"><b>data_1.train</b></font></center></caption>\n",
       " <thead>\n",
       "  <tr>\n",
       "   <th style=\"text-align:right;background-color: #FFFFFF !important;\"> x1 </th>\n",
       "   <th style=\"text-align:right;background-color: #FFFFFF !important;\"> x2 </th>\n",
       "   <th style=\"text-align:right;background-color: #FFFFFF !important;\"> class </th>\n",
       "  </tr>\n",
       " </thead>\n",
       "<tbody>\n",
       "  <tr>\n",
       "   <td style=\"text-align:right;\"> 3 </td>\n",
       "   <td style=\"text-align:right;\"> 5 </td>\n",
       "   <td style=\"text-align:right;\"> A </td>\n",
       "  </tr>\n",
       "  <tr>\n",
       "   <td style=\"text-align:right;\"> 2 </td>\n",
       "   <td style=\"text-align:right;\"> 3 </td>\n",
       "   <td style=\"text-align:right;\"> A </td>\n",
       "  </tr>\n",
       "  <tr>\n",
       "   <td style=\"text-align:right;\"> 9 </td>\n",
       "   <td style=\"text-align:right;\"> 3 </td>\n",
       "   <td style=\"text-align:right;\"> B </td>\n",
       "  </tr>\n",
       "</tbody>\n",
       "</table></td><td style=\"background-color:white; vertical-align:top;\"><table style=\"white-space: nowrap;\">\n",
       "<caption><center><font color=\"black\"><b>data_1.test</b></font></center></caption>\n",
       " <thead>\n",
       "  <tr>\n",
       "   <th style=\"text-align:right;background-color: #FFFFFF !important;\"> x1 </th>\n",
       "   <th style=\"text-align:right;background-color: #FFFFFF !important;\"> x2 </th>\n",
       "   <th style=\"text-align:right;background-color: #FFFFFF !important;\"> class </th>\n",
       "  </tr>\n",
       " </thead>\n",
       "<tbody>\n",
       "  <tr>\n",
       "   <td style=\"text-align:right;\"> 0 </td>\n",
       "   <td style=\"text-align:right;\"> 0 </td>\n",
       "   <td style=\"text-align:right;\"> B </td>\n",
       "  </tr>\n",
       "  <tr>\n",
       "   <td style=\"text-align:right;\"> 3 </td>\n",
       "   <td style=\"text-align:right;\"> 2 </td>\n",
       "   <td style=\"text-align:right;\"> A </td>\n",
       "  </tr>\n",
       "</tbody>\n",
       "</table></td></tr></table>"
      ]
     },
     "metadata": {},
     "output_type": "display_data"
    }
   ],
   "source": [
    "data_1.test  = data[fold$Fold1,]\n",
    "data_1.train = data[setdiff(1:nrow(data), fold$Fold1),]\n",
    "\n",
    "layout(fmt(data_1.train), fmt(data_1.test))"
   ]
  },
  {
   "cell_type": "markdown",
   "metadata": {},
   "source": [
    "**Fold #2:**"
   ]
  },
  {
   "cell_type": "code",
   "execution_count": 33,
   "metadata": {
    "hide_input": true
   },
   "outputs": [
    {
     "data": {
      "text/html": [
       "<table><tr><td style=\"background-color:white; vertical-align:top; padding-right:40px;\"><table style=\"white-space: nowrap;\">\n",
       "<caption><center><font color=\"black\"><b>data_2.train</b></font></center></caption>\n",
       " <thead>\n",
       "  <tr>\n",
       "   <th style=\"text-align:right;background-color: #FFFFFF !important;\"> x1 </th>\n",
       "   <th style=\"text-align:right;background-color: #FFFFFF !important;\"> x2 </th>\n",
       "   <th style=\"text-align:right;background-color: #FFFFFF !important;\"> class </th>\n",
       "  </tr>\n",
       " </thead>\n",
       "<tbody>\n",
       "  <tr>\n",
       "   <td style=\"text-align:right;\"> 3 </td>\n",
       "   <td style=\"text-align:right;\"> 5 </td>\n",
       "   <td style=\"text-align:right;\"> A </td>\n",
       "  </tr>\n",
       "  <tr>\n",
       "   <td style=\"text-align:right;\"> 9 </td>\n",
       "   <td style=\"text-align:right;\"> 3 </td>\n",
       "   <td style=\"text-align:right;\"> B </td>\n",
       "  </tr>\n",
       "  <tr>\n",
       "   <td style=\"text-align:right;\"> 0 </td>\n",
       "   <td style=\"text-align:right;\"> 0 </td>\n",
       "   <td style=\"text-align:right;\"> B </td>\n",
       "  </tr>\n",
       "  <tr>\n",
       "   <td style=\"text-align:right;\"> 3 </td>\n",
       "   <td style=\"text-align:right;\"> 2 </td>\n",
       "   <td style=\"text-align:right;\"> A </td>\n",
       "  </tr>\n",
       "</tbody>\n",
       "</table></td><td style=\"background-color:white; vertical-align:top;\"><table style=\"white-space: nowrap;\">\n",
       "<caption><center><font color=\"black\"><b>data_2.test</b></font></center></caption>\n",
       " <thead>\n",
       "  <tr>\n",
       "   <th style=\"text-align:right;background-color: #FFFFFF !important;\"> x1 </th>\n",
       "   <th style=\"text-align:right;background-color: #FFFFFF !important;\"> x2 </th>\n",
       "   <th style=\"text-align:right;background-color: #FFFFFF !important;\"> class </th>\n",
       "  </tr>\n",
       " </thead>\n",
       "<tbody>\n",
       "  <tr>\n",
       "   <td style=\"text-align:right;\"> 2 </td>\n",
       "   <td style=\"text-align:right;\"> 3 </td>\n",
       "   <td style=\"text-align:right;\"> A </td>\n",
       "  </tr>\n",
       "</tbody>\n",
       "</table></td></tr></table>"
      ]
     },
     "metadata": {},
     "output_type": "display_data"
    }
   ],
   "source": [
    "data_2.test  = data[fold$Fold2,]\n",
    "data_2.train = data[setdiff(1:nrow(data), fold$Fold2),]\n",
    "\n",
    "layout(fmt(data_2.train), fmt(data_2.test))"
   ]
  },
  {
   "cell_type": "markdown",
   "metadata": {
    "hide_input": false
   },
   "source": [
    "**Fold #3:**"
   ]
  },
  {
   "cell_type": "code",
   "execution_count": 34,
   "metadata": {
    "hide_input": true
   },
   "outputs": [
    {
     "data": {
      "text/html": [
       "<table><tr><td style=\"background-color:white; vertical-align:top; padding-right:40px;\"><table style=\"white-space: nowrap;\">\n",
       "<caption><center><font color=\"black\"><b>data_3.train</b></font></center></caption>\n",
       " <thead>\n",
       "  <tr>\n",
       "   <th style=\"text-align:right;background-color: #FFFFFF !important;\"> x1 </th>\n",
       "   <th style=\"text-align:right;background-color: #FFFFFF !important;\"> x2 </th>\n",
       "   <th style=\"text-align:right;background-color: #FFFFFF !important;\"> class </th>\n",
       "  </tr>\n",
       " </thead>\n",
       "<tbody>\n",
       "  <tr>\n",
       "   <td style=\"text-align:right;\"> 2 </td>\n",
       "   <td style=\"text-align:right;\"> 3 </td>\n",
       "   <td style=\"text-align:right;\"> A </td>\n",
       "  </tr>\n",
       "  <tr>\n",
       "   <td style=\"text-align:right;\"> 0 </td>\n",
       "   <td style=\"text-align:right;\"> 0 </td>\n",
       "   <td style=\"text-align:right;\"> B </td>\n",
       "  </tr>\n",
       "  <tr>\n",
       "   <td style=\"text-align:right;\"> 3 </td>\n",
       "   <td style=\"text-align:right;\"> 2 </td>\n",
       "   <td style=\"text-align:right;\"> A </td>\n",
       "  </tr>\n",
       "</tbody>\n",
       "</table></td><td style=\"background-color:white; vertical-align:top;\"><table style=\"white-space: nowrap;\">\n",
       "<caption><center><font color=\"black\"><b>data_3.test</b></font></center></caption>\n",
       " <thead>\n",
       "  <tr>\n",
       "   <th style=\"text-align:right;background-color: #FFFFFF !important;\"> x1 </th>\n",
       "   <th style=\"text-align:right;background-color: #FFFFFF !important;\"> x2 </th>\n",
       "   <th style=\"text-align:right;background-color: #FFFFFF !important;\"> class </th>\n",
       "  </tr>\n",
       " </thead>\n",
       "<tbody>\n",
       "  <tr>\n",
       "   <td style=\"text-align:right;\"> 3 </td>\n",
       "   <td style=\"text-align:right;\"> 5 </td>\n",
       "   <td style=\"text-align:right;\"> A </td>\n",
       "  </tr>\n",
       "  <tr>\n",
       "   <td style=\"text-align:right;\"> 9 </td>\n",
       "   <td style=\"text-align:right;\"> 3 </td>\n",
       "   <td style=\"text-align:right;\"> B </td>\n",
       "  </tr>\n",
       "</tbody>\n",
       "</table></td></tr></table>"
      ]
     },
     "metadata": {},
     "output_type": "display_data"
    }
   ],
   "source": [
    "data_3.test  = data[fold$Fold3,]\n",
    "data_3.train = data[setdiff(1:nrow(data), fold$Fold3),]\n",
    "\n",
    "layout(fmt(data_3.train), fmt(data_3.test))"
   ]
  },
  {
   "cell_type": "markdown",
   "metadata": {},
   "source": [
    "For each fold, input its dataset for training to the \"Special Classifier Construction Method\" to construct a similar classifier, and input its dataset for testing to that classifier to produce class probabilities, predict class values, construct a confusion matrix, and compute a performance metric.  Note that we construct 3 different similar classifiers and compute 3 different performance metrics.  Here the first fold performance metric is accuracy 0.50, the second fold performance metric is accuracy 0.00, and the thrid fold perfromance metric is accuracy 0.50."
   ]
  },
  {
   "cell_type": "markdown",
   "metadata": {},
   "source": [
    "**Fold #1:**"
   ]
  },
  {
   "cell_type": "code",
   "execution_count": 35,
   "metadata": {
    "hide_input": true
   },
   "outputs": [
    {
     "data": {
      "text/html": [
       "<table style=\"white-space: nowrap;\">\n",
       "<caption><center><font color=\"black\"><b>model_1</b></font></center></caption>\n",
       " <thead>\n",
       "  <tr>\n",
       "   <th style=\"text-align:right;background-color: #FFFFFF !important;\"> method </th>\n",
       "   <th style=\"text-align:right;background-color: #FFFFFF !important;\"> vars </th>\n",
       "   <th style=\"text-align:right;background-color: #FFFFFF !important;\"> parameter_1 </th>\n",
       "   <th style=\"text-align:right;background-color: #FFFFFF !important;\"> parameter_2 </th>\n",
       "   <th style=\"text-align:right;background-color: #FFFFFF !important;\"> classes </th>\n",
       "  </tr>\n",
       " </thead>\n",
       "<tbody>\n",
       "  <tr>\n",
       "   <td style=\"text-align:right;\"> Special Classifier Construction Method </td>\n",
       "   <td style=\"text-align:right;\"> x1, x2 </td>\n",
       "   <td style=\"text-align:right;\"> 0.35 </td>\n",
       "   <td style=\"text-align:right;\"> 4.666667 </td>\n",
       "   <td style=\"text-align:right;\"> A, B </td>\n",
       "  </tr>\n",
       "</tbody>\n",
       "</table>"
      ]
     },
     "metadata": {},
     "output_type": "display_data"
    }
   ],
   "source": [
    "model_1 = my_classifier_construction_method(class ~ x1+x2, data_1.train, hyperparameter=0.7)\n",
    "fmt.model(model_1)"
   ]
  },
  {
   "cell_type": "code",
   "execution_count": 36,
   "metadata": {
    "hide_input": true
   },
   "outputs": [
    {
     "data": {
      "text/html": [
       "<table><tr><td style=\"background-color:white; vertical-align:top; padding-right:40px;\"><table style=\"white-space: nowrap;\">\n",
       "<caption><center><font color=\"black\"><b>data_1.test</b></font></center></caption>\n",
       " <thead>\n",
       "  <tr>\n",
       "   <th style=\"text-align:right;background-color: #FFFFFF !important;\"> x1 </th>\n",
       "   <th style=\"text-align:right;background-color: #FFFFFF !important;\"> x2 </th>\n",
       "   <th style=\"text-align:right;background-color: #FFFFFF !important;\"> class </th>\n",
       "  </tr>\n",
       " </thead>\n",
       "<tbody>\n",
       "  <tr>\n",
       "   <td style=\"text-align:right;\"> 0 </td>\n",
       "   <td style=\"text-align:right;\"> 0 </td>\n",
       "   <td style=\"text-align:right;\"> B </td>\n",
       "  </tr>\n",
       "  <tr>\n",
       "   <td style=\"text-align:right;\"> 3 </td>\n",
       "   <td style=\"text-align:right;\"> 2 </td>\n",
       "   <td style=\"text-align:right;\"> A </td>\n",
       "  </tr>\n",
       "</tbody>\n",
       "</table></td><td style=\"background-color:white; vertical-align:top; padding-right:40px;\"><table style=\"white-space: nowrap;\">\n",
       "<caption><center><font color=\"black\"><b> </b></font></center></caption>\n",
       " <thead>\n",
       "  <tr>\n",
       "   <th style=\"text-align:right;background-color: #FFFFFF !important;\"> cutoff </th>\n",
       "  </tr>\n",
       " </thead>\n",
       "<tbody>\n",
       "  <tr>\n",
       "   <td style=\"text-align:right;\"> 0.5 </td>\n",
       "  </tr>\n",
       "</tbody>\n",
       "</table></td><td style=\"background-color:white; vertical-align:top; padding-right:40px;\"><table style=\"white-space: nowrap;\">\n",
       "<caption><center><font color=\"black\"><b>data_1.test (known class is hidden)</b></font></center></caption>\n",
       " <thead>\n",
       "  <tr>\n",
       "   <th style=\"text-align:right;background-color: #FFFFFF !important;\"> x1 </th>\n",
       "   <th style=\"text-align:right;background-color: #FFFFFF !important;\"> x2 </th>\n",
       "   <th style=\"text-align:right;background-color: #FFFFFF !important;\"> prob.A </th>\n",
       "   <th style=\"text-align:right;background-color: #FFFFFF !important;\"> class.predicted </th>\n",
       "   <th style=\"text-align:right;background-color: #FFFFFF !important;\"> hit </th>\n",
       "  </tr>\n",
       " </thead>\n",
       "<tbody>\n",
       "  <tr>\n",
       "   <td style=\"text-align:right;\"> 0 </td>\n",
       "   <td style=\"text-align:right;\"> 0 </td>\n",
       "   <td style=\"text-align:right;\"> 0.00 </td>\n",
       "   <td style=\"text-align:right;\"> B </td>\n",
       "   <td style=\"text-align:right;\"> TRUE </td>\n",
       "  </tr>\n",
       "  <tr>\n",
       "   <td style=\"text-align:right;\"> 3 </td>\n",
       "   <td style=\"text-align:right;\"> 2 </td>\n",
       "   <td style=\"text-align:right;\"> 0.45 </td>\n",
       "   <td style=\"text-align:right;\"> B </td>\n",
       "   <td style=\"text-align:right;\"> FALSE </td>\n",
       "  </tr>\n",
       "</tbody>\n",
       "</table></td><td style=\"background-color:white; vertical-align:top; padding-right:40px;\"><table style=\"white-space: nowrap;\">\n",
       "<caption><center><font color=\"black\"><b>cm</b></font></center></caption>\n",
       " <thead>\n",
       "  <tr>\n",
       "   <th style=\"text-align:left;background-color: #FFFFFF !important;\">   </th>\n",
       "   <th style=\"text-align:right;background-color: #FFFFFF !important;\"> A </th>\n",
       "   <th style=\"text-align:right;background-color: #FFFFFF !important;\"> B </th>\n",
       "  </tr>\n",
       " </thead>\n",
       "<tbody>\n",
       "  <tr>\n",
       "   <td style=\"text-align:left;font-weight: bold;\"> A </td>\n",
       "   <td style=\"text-align:right;\"> 0.0 </td>\n",
       "   <td style=\"text-align:right;\"> 0.0 </td>\n",
       "  </tr>\n",
       "  <tr>\n",
       "   <td style=\"text-align:left;font-weight: bold;\"> B </td>\n",
       "   <td style=\"text-align:right;\"> 0.5 </td>\n",
       "   <td style=\"text-align:right;\"> 0.5 </td>\n",
       "  </tr>\n",
       "</tbody>\n",
       "</table></td><td style=\"background-color:white; vertical-align:top;\"><table style=\"white-space: nowrap;\">\n",
       "<caption><center><font color=\"black\"><b> </b></font></center></caption>\n",
       " <thead>\n",
       "  <tr>\n",
       "   <th style=\"text-align:right;background-color: #FFFFFF !important;\"> accuracy_1 </th>\n",
       "  </tr>\n",
       " </thead>\n",
       "<tbody>\n",
       "  <tr>\n",
       "   <td style=\"text-align:right;\"> 0.5 </td>\n",
       "  </tr>\n",
       "</tbody>\n",
       "</table></td></tr></table>"
      ]
     },
     "metadata": {},
     "output_type": "display_data"
    }
   ],
   "source": [
    "cutoff = 0.5\n",
    "\n",
    "data_1.u.test = data_1.test; data_1.u.test$class = NULL\n",
    "\n",
    "prob = predict(model_1, data_1.u.test)\n",
    "data_1.u.test$prob.A = prob[,\"A\"]\n",
    "data_1.u.test$class.predicted = as.class(prob, class=\"A\", cutoff)\n",
    "\n",
    "data_1.u.test$hit = (data_1.u.test$class.predicted == data_1.test$class)\n",
    "\n",
    "CM = confusionMatrix(data_1.u.test$class.predicted, data_1.test$class)$table\n",
    "cm = CM / sum(CM)\n",
    "\n",
    "accuracy_1 = (cm[1,1]+cm[2,2])/sum(cm)\n",
    "\n",
    "layout(fmt(data_1.test), fmt(cutoff, force=TRUE), fmt(data_1.u.test, \"data_1.test (known class is hidden)\"), fmt.cm(cm), fmt(accuracy_1, force=TRUE))"
   ]
  },
  {
   "cell_type": "markdown",
   "metadata": {},
   "source": [
    "**Fold #2:**"
   ]
  },
  {
   "cell_type": "code",
   "execution_count": 37,
   "metadata": {
    "hide_input": true
   },
   "outputs": [
    {
     "data": {
      "text/html": [
       "<table style=\"white-space: nowrap;\">\n",
       "<caption><center><font color=\"black\"><b>model_2</b></font></center></caption>\n",
       " <thead>\n",
       "  <tr>\n",
       "   <th style=\"text-align:right;background-color: #FFFFFF !important;\"> method </th>\n",
       "   <th style=\"text-align:right;background-color: #FFFFFF !important;\"> vars </th>\n",
       "   <th style=\"text-align:right;background-color: #FFFFFF !important;\"> parameter_1 </th>\n",
       "   <th style=\"text-align:right;background-color: #FFFFFF !important;\"> parameter_2 </th>\n",
       "   <th style=\"text-align:right;background-color: #FFFFFF !important;\"> classes </th>\n",
       "  </tr>\n",
       " </thead>\n",
       "<tbody>\n",
       "  <tr>\n",
       "   <td style=\"text-align:right;\"> Special Classifier Construction Method </td>\n",
       "   <td style=\"text-align:right;\"> x1, x2 </td>\n",
       "   <td style=\"text-align:right;\"> 0.35 </td>\n",
       "   <td style=\"text-align:right;\"> 3.75 </td>\n",
       "   <td style=\"text-align:right;\"> A, B </td>\n",
       "  </tr>\n",
       "</tbody>\n",
       "</table>"
      ]
     },
     "metadata": {},
     "output_type": "display_data"
    }
   ],
   "source": [
    "model_2 = my_classifier_construction_method(class ~ x1+x2, data_2.train, hyperparameter=0.7)\n",
    "fmt.model(model_2)"
   ]
  },
  {
   "cell_type": "code",
   "execution_count": 38,
   "metadata": {
    "hide_input": true
   },
   "outputs": [
    {
     "data": {
      "text/html": [
       "<table><tr><td style=\"background-color:white; vertical-align:top; padding-right:40px;\"><table style=\"white-space: nowrap;\">\n",
       "<caption><center><font color=\"black\"><b>data_2.test</b></font></center></caption>\n",
       " <thead>\n",
       "  <tr>\n",
       "   <th style=\"text-align:right;background-color: #FFFFFF !important;\"> x1 </th>\n",
       "   <th style=\"text-align:right;background-color: #FFFFFF !important;\"> x2 </th>\n",
       "   <th style=\"text-align:right;background-color: #FFFFFF !important;\"> class </th>\n",
       "  </tr>\n",
       " </thead>\n",
       "<tbody>\n",
       "  <tr>\n",
       "   <td style=\"text-align:right;\"> 2 </td>\n",
       "   <td style=\"text-align:right;\"> 3 </td>\n",
       "   <td style=\"text-align:right;\"> A </td>\n",
       "  </tr>\n",
       "</tbody>\n",
       "</table></td><td style=\"background-color:white; vertical-align:top; padding-right:40px;\"><table style=\"white-space: nowrap;\">\n",
       "<caption><center><font color=\"black\"><b> </b></font></center></caption>\n",
       " <thead>\n",
       "  <tr>\n",
       "   <th style=\"text-align:right;background-color: #FFFFFF !important;\"> cutoff </th>\n",
       "  </tr>\n",
       " </thead>\n",
       "<tbody>\n",
       "  <tr>\n",
       "   <td style=\"text-align:right;\"> 0.5 </td>\n",
       "  </tr>\n",
       "</tbody>\n",
       "</table></td><td style=\"background-color:white; vertical-align:top; padding-right:40px;\"><table style=\"white-space: nowrap;\">\n",
       "<caption><center><font color=\"black\"><b>data_2.test (known class is hidden)</b></font></center></caption>\n",
       " <thead>\n",
       "  <tr>\n",
       "   <th style=\"text-align:right;background-color: #FFFFFF !important;\"> x1 </th>\n",
       "   <th style=\"text-align:right;background-color: #FFFFFF !important;\"> x2 </th>\n",
       "   <th style=\"text-align:right;background-color: #FFFFFF !important;\"> prob.A </th>\n",
       "   <th style=\"text-align:right;background-color: #FFFFFF !important;\"> class.predicted </th>\n",
       "   <th style=\"text-align:right;background-color: #FFFFFF !important;\"> hit </th>\n",
       "  </tr>\n",
       " </thead>\n",
       "<tbody>\n",
       "  <tr>\n",
       "   <td style=\"text-align:right;\"> 2 </td>\n",
       "   <td style=\"text-align:right;\"> 3 </td>\n",
       "   <td style=\"text-align:right;\"> 0.3733333 </td>\n",
       "   <td style=\"text-align:right;\"> B </td>\n",
       "   <td style=\"text-align:right;\"> FALSE </td>\n",
       "  </tr>\n",
       "</tbody>\n",
       "</table></td><td style=\"background-color:white; vertical-align:top; padding-right:40px;\"><table style=\"white-space: nowrap;\">\n",
       "<caption><center><font color=\"black\"><b>cm</b></font></center></caption>\n",
       " <thead>\n",
       "  <tr>\n",
       "   <th style=\"text-align:left;background-color: #FFFFFF !important;\">   </th>\n",
       "   <th style=\"text-align:right;background-color: #FFFFFF !important;\"> A </th>\n",
       "   <th style=\"text-align:right;background-color: #FFFFFF !important;\"> B </th>\n",
       "  </tr>\n",
       " </thead>\n",
       "<tbody>\n",
       "  <tr>\n",
       "   <td style=\"text-align:left;font-weight: bold;\"> A </td>\n",
       "   <td style=\"text-align:right;\"> 0 </td>\n",
       "   <td style=\"text-align:right;\"> 0 </td>\n",
       "  </tr>\n",
       "  <tr>\n",
       "   <td style=\"text-align:left;font-weight: bold;\"> B </td>\n",
       "   <td style=\"text-align:right;\"> 1 </td>\n",
       "   <td style=\"text-align:right;\"> 0 </td>\n",
       "  </tr>\n",
       "</tbody>\n",
       "</table></td><td style=\"background-color:white; vertical-align:top;\"><table style=\"white-space: nowrap;\">\n",
       "<caption><center><font color=\"black\"><b> </b></font></center></caption>\n",
       " <thead>\n",
       "  <tr>\n",
       "   <th style=\"text-align:right;background-color: #FFFFFF !important;\"> accuracy_2 </th>\n",
       "  </tr>\n",
       " </thead>\n",
       "<tbody>\n",
       "  <tr>\n",
       "   <td style=\"text-align:right;\"> 0 </td>\n",
       "  </tr>\n",
       "</tbody>\n",
       "</table></td></tr></table>"
      ]
     },
     "metadata": {},
     "output_type": "display_data"
    }
   ],
   "source": [
    "cutoff = 0.5\n",
    "\n",
    "data_2.u.test = data_2.test; data_2.u.test$class = NULL\n",
    "\n",
    "prob = predict(model_2, data_2.u.test)\n",
    "data_2.u.test$prob.A = prob[,\"A\"]\n",
    "data_2.u.test$class.predicted = as.class(prob, class=\"A\", cutoff)\n",
    "\n",
    "data_2.u.test$hit = data_2.u.test$class.predicted == data_2.test$class\n",
    "\n",
    "CM = confusionMatrix(data_2.u.test$class.predicted, data_2.test$class)$table\n",
    "cm = CM / sum(CM)\n",
    "\n",
    "accuracy_2 = (cm[1,1]+cm[2,2])/sum(cm)\n",
    "\n",
    "layout(fmt(data_2.test), fmt(cutoff, force=TRUE), fmt(data_2.u.test, \"data_2.test (known class is hidden)\"), fmt.cm(cm), fmt(accuracy_2, force=TRUE))"
   ]
  },
  {
   "cell_type": "markdown",
   "metadata": {},
   "source": [
    "**Fold #3:**"
   ]
  },
  {
   "cell_type": "code",
   "execution_count": 39,
   "metadata": {
    "hide_input": true
   },
   "outputs": [
    {
     "data": {
      "text/html": [
       "<table style=\"white-space: nowrap;\">\n",
       "<caption><center><font color=\"black\"><b>model_3</b></font></center></caption>\n",
       " <thead>\n",
       "  <tr>\n",
       "   <th style=\"text-align:right;background-color: #FFFFFF !important;\"> method </th>\n",
       "   <th style=\"text-align:right;background-color: #FFFFFF !important;\"> vars </th>\n",
       "   <th style=\"text-align:right;background-color: #FFFFFF !important;\"> parameter_1 </th>\n",
       "   <th style=\"text-align:right;background-color: #FFFFFF !important;\"> parameter_2 </th>\n",
       "   <th style=\"text-align:right;background-color: #FFFFFF !important;\"> classes </th>\n",
       "  </tr>\n",
       " </thead>\n",
       "<tbody>\n",
       "  <tr>\n",
       "   <td style=\"text-align:right;\"> Special Classifier Construction Method </td>\n",
       "   <td style=\"text-align:right;\"> x1, x2 </td>\n",
       "   <td style=\"text-align:right;\"> 0.35 </td>\n",
       "   <td style=\"text-align:right;\"> 1.666667 </td>\n",
       "   <td style=\"text-align:right;\"> A, B </td>\n",
       "  </tr>\n",
       "</tbody>\n",
       "</table>"
      ]
     },
     "metadata": {},
     "output_type": "display_data"
    }
   ],
   "source": [
    "model_3 = my_classifier_construction_method(class ~ x1+x2, data_3.train, hyperparameter=0.7)\n",
    "fmt.model(model_3)"
   ]
  },
  {
   "cell_type": "code",
   "execution_count": 40,
   "metadata": {
    "hide_input": true
   },
   "outputs": [
    {
     "data": {
      "text/html": [
       "<table><tr><td style=\"background-color:white; vertical-align:top; padding-right:40px;\"><table style=\"white-space: nowrap;\">\n",
       "<caption><center><font color=\"black\"><b>data_3.test</b></font></center></caption>\n",
       " <thead>\n",
       "  <tr>\n",
       "   <th style=\"text-align:right;background-color: #FFFFFF !important;\"> x1 </th>\n",
       "   <th style=\"text-align:right;background-color: #FFFFFF !important;\"> x2 </th>\n",
       "   <th style=\"text-align:right;background-color: #FFFFFF !important;\"> class </th>\n",
       "  </tr>\n",
       " </thead>\n",
       "<tbody>\n",
       "  <tr>\n",
       "   <td style=\"text-align:right;\"> 3 </td>\n",
       "   <td style=\"text-align:right;\"> 5 </td>\n",
       "   <td style=\"text-align:right;\"> A </td>\n",
       "  </tr>\n",
       "  <tr>\n",
       "   <td style=\"text-align:right;\"> 9 </td>\n",
       "   <td style=\"text-align:right;\"> 3 </td>\n",
       "   <td style=\"text-align:right;\"> B </td>\n",
       "  </tr>\n",
       "</tbody>\n",
       "</table></td><td style=\"background-color:white; vertical-align:top; padding-right:40px;\"><table style=\"white-space: nowrap;\">\n",
       "<caption><center><font color=\"black\"><b> </b></font></center></caption>\n",
       " <thead>\n",
       "  <tr>\n",
       "   <th style=\"text-align:right;background-color: #FFFFFF !important;\"> cutoff </th>\n",
       "  </tr>\n",
       " </thead>\n",
       "<tbody>\n",
       "  <tr>\n",
       "   <td style=\"text-align:right;\"> 0.5 </td>\n",
       "  </tr>\n",
       "</tbody>\n",
       "</table></td><td style=\"background-color:white; vertical-align:top; padding-right:40px;\"><table style=\"white-space: nowrap;\">\n",
       "<caption><center><font color=\"black\"><b>data_3.test (known class is hidden)</b></font></center></caption>\n",
       " <thead>\n",
       "  <tr>\n",
       "   <th style=\"text-align:right;background-color: #FFFFFF !important;\"> x1 </th>\n",
       "   <th style=\"text-align:right;background-color: #FFFFFF !important;\"> x2 </th>\n",
       "   <th style=\"text-align:right;background-color: #FFFFFF !important;\"> prob.A </th>\n",
       "   <th style=\"text-align:right;background-color: #FFFFFF !important;\"> class.predicted </th>\n",
       "   <th style=\"text-align:right;background-color: #FFFFFF !important;\"> hit </th>\n",
       "  </tr>\n",
       " </thead>\n",
       "<tbody>\n",
       "  <tr>\n",
       "   <td style=\"text-align:right;\"> 3 </td>\n",
       "   <td style=\"text-align:right;\"> 5 </td>\n",
       "   <td style=\"text-align:right;\"> 1 </td>\n",
       "   <td style=\"text-align:right;\"> A </td>\n",
       "   <td style=\"text-align:right;\"> TRUE </td>\n",
       "  </tr>\n",
       "  <tr>\n",
       "   <td style=\"text-align:right;\"> 9 </td>\n",
       "   <td style=\"text-align:right;\"> 3 </td>\n",
       "   <td style=\"text-align:right;\"> 1 </td>\n",
       "   <td style=\"text-align:right;\"> A </td>\n",
       "   <td style=\"text-align:right;\"> FALSE </td>\n",
       "  </tr>\n",
       "</tbody>\n",
       "</table></td><td style=\"background-color:white; vertical-align:top; padding-right:40px;\"><table style=\"white-space: nowrap;\">\n",
       "<caption><center><font color=\"black\"><b>cm</b></font></center></caption>\n",
       " <thead>\n",
       "  <tr>\n",
       "   <th style=\"text-align:left;background-color: #FFFFFF !important;\">   </th>\n",
       "   <th style=\"text-align:right;background-color: #FFFFFF !important;\"> A </th>\n",
       "   <th style=\"text-align:right;background-color: #FFFFFF !important;\"> B </th>\n",
       "  </tr>\n",
       " </thead>\n",
       "<tbody>\n",
       "  <tr>\n",
       "   <td style=\"text-align:left;font-weight: bold;\"> A </td>\n",
       "   <td style=\"text-align:right;\"> 0.5 </td>\n",
       "   <td style=\"text-align:right;\"> 0.5 </td>\n",
       "  </tr>\n",
       "  <tr>\n",
       "   <td style=\"text-align:left;font-weight: bold;\"> B </td>\n",
       "   <td style=\"text-align:right;\"> 0.0 </td>\n",
       "   <td style=\"text-align:right;\"> 0.0 </td>\n",
       "  </tr>\n",
       "</tbody>\n",
       "</table></td><td style=\"background-color:white; vertical-align:top;\"><table style=\"white-space: nowrap;\">\n",
       "<caption><center><font color=\"black\"><b> </b></font></center></caption>\n",
       " <thead>\n",
       "  <tr>\n",
       "   <th style=\"text-align:right;background-color: #FFFFFF !important;\"> accuracy_3 </th>\n",
       "  </tr>\n",
       " </thead>\n",
       "<tbody>\n",
       "  <tr>\n",
       "   <td style=\"text-align:right;\"> 0.5 </td>\n",
       "  </tr>\n",
       "</tbody>\n",
       "</table></td></tr></table>"
      ]
     },
     "metadata": {},
     "output_type": "display_data"
    }
   ],
   "source": [
    "cutoff = 0.5\n",
    "\n",
    "data_3.u.test = data_3.test; data_3.u.test$class = NULL\n",
    "\n",
    "\n",
    "prob = predict(model_3, data_3.u.test)\n",
    "data_3.u.test$prob.A = prob[,\"A\"]\n",
    "data_3.u.test$class.predicted = as.class(prob, class=\"A\", cutoff)\n",
    "\n",
    "data_3.u.test$hit = data_3.u.test$class.predicted == data_3.test$class\n",
    "\n",
    "CM = confusionMatrix(data_3.u.test$class.predicted, data_3.test$class)$table\n",
    "cm = CM / sum(CM)\n",
    "\n",
    "accuracy_3 = (cm[1,1]+cm[2,2])/sum(cm)\n",
    "\n",
    "layout(fmt(data_3.test), fmt(cutoff, force=TRUE), fmt(data_3.u.test, \"data_3.test (known class is hidden)\"), fmt.cm(cm), fmt(accuracy_3, force=TRUE))"
   ]
  },
  {
   "cell_type": "markdown",
   "metadata": {},
   "source": [
    "Here is a comparison of the prediction results across the 3 folds. "
   ]
  },
  {
   "cell_type": "code",
   "execution_count": 41,
   "metadata": {
    "hide_input": true
   },
   "outputs": [
    {
     "data": {
      "image/png": "[encoded data removed]",
      "text/plain": [
       "plot without title"
      ]
     },
     "metadata": {
      "image/png": {
       "height": 420,
       "width": 936
      },
      "text/plain": {
       "height": 420,
       "width": 936
      }
     },
     "output_type": "display_data"
    }
   ],
   "source": [
    "output_size(7.8,3.5)\n",
    "\n",
    "p1 = ggplot(data_1.test) + xlim(0,10) + ylim(0,6) + ggtitle(\"Fold 1 Test Data | Prediction Results\", sprintf(\"accuracy = %0.2f\", accuracy_1)) +\n",
    "     geom_point(aes(x=x1, y=x2), color=PALETTE[3], size=10, data=data_1.u.test[data_1.u.test$hit,]) +\n",
    "     geom_point(aes(x=x1, y=x2, color=factor(class))) +\n",
    "     geom_text(aes(x=x1, y=x2), label=\"X\", size=8, data=data_1.u.test[!data_1.u.test$hit,]) +\n",
    "     theme.legend_below\n",
    "\n",
    "p2 = ggplot(data_2.test) + xlim(0,10) + ylim(0,6) + ggtitle(\"Fold 2 Test Data | Predicton Results\", sprintf(\"accuracy = %0.2f\", accuracy_2)) +\n",
    "     geom_point(aes(x=x1, y=x2), color=PALETTE[3], size=10, data=data_2.u.test[data_2.u.test$hit,]) +\n",
    "     geom_point(aes(x=x1, y=x2, color=factor(class))) +\n",
    "     geom_text(aes(x=x1, y=x2), label=\"X\", size=8, data=data_2.u.test[!data_2.u.test$hit,]) +\n",
    "     theme.legend_below\n",
    "\n",
    "p3 = ggplot(data_3.test) + xlim(0,10) + ylim(0,6) + ggtitle(\"Fold 3 Test Data | Predicton Results\", sprintf(\"accuracy = %0.2f\", accuracy_3)) +\n",
    "     geom_point(aes(x=x1, y=x2), color=PALETTE[3], size=10, data=data_3.u.test[data_3.u.test$hit,]) +\n",
    "     geom_point(aes(x=x1, y=x2, color=factor(class))) +\n",
    "     geom_text(aes(x=x1, y=x2), label=\"X\", size=8, data=data_3.u.test[!data_3.u.test$hit,]) +\n",
    "     theme.legend_below\n",
    "\n",
    "grid.arrange(p1, p2, p3, nrow=1)\n",
    "\n",
    "output_size(restore)"
   ]
  },
  {
   "cell_type": "markdown",
   "metadata": {},
   "source": [
    "Compute the average of the 3 performance metrics, in this example accuracy 0.33, which is an estimate of the operative classifier's prediction quality.  At this point, you can discard all 3 of the similar classifiers."
   ]
  },
  {
   "cell_type": "code",
   "execution_count": 42,
   "metadata": {
    "hide_input": true
   },
   "outputs": [
    {
     "data": {
      "text/html": [
       "<table><tr><td style=\"background-color:white; vertical-align:top; padding-right:40px;\"><table style=\"white-space: nowrap;\">\n",
       " <thead>\n",
       "  <tr>\n",
       "   <th style=\"text-align:right;background-color: #FFFFFF !important;\"> fold </th>\n",
       "   <th style=\"text-align:right;background-color: #FFFFFF !important;\"> accuracy </th>\n",
       "  </tr>\n",
       " </thead>\n",
       "<tbody>\n",
       "  <tr>\n",
       "   <td style=\"text-align:right;\"> 1 </td>\n",
       "   <td style=\"text-align:right;\"> 0.5 </td>\n",
       "  </tr>\n",
       "  <tr>\n",
       "   <td style=\"text-align:right;\"> 2 </td>\n",
       "   <td style=\"text-align:right;\"> 0.0 </td>\n",
       "  </tr>\n",
       "  <tr>\n",
       "   <td style=\"text-align:right;\"> 3 </td>\n",
       "   <td style=\"text-align:right;\"> 0.5 </td>\n",
       "  </tr>\n",
       "</tbody>\n",
       "</table></td><td style=\"background-color:white; vertical-align:top;\"><table style=\"white-space: nowrap;\">\n",
       " <thead>\n",
       "  <tr>\n",
       "   <th style=\"text-align:right;background-color: #FFFFFF !important;\"> accuracy.cv </th>\n",
       "  </tr>\n",
       " </thead>\n",
       "<tbody>\n",
       "  <tr>\n",
       "   <td style=\"text-align:right;\"> 0.3333333 </td>\n",
       "  </tr>\n",
       "</tbody>\n",
       "</table></td></tr></table>"
      ]
     },
     "metadata": {},
     "output_type": "display_data"
    }
   ],
   "source": [
    "layout(data.frame(fold=1:3, accuracy=c(accuracy_1, accuracy_2, accuracy_3)),\n",
    "       fmt(mean(c(accuracy_1, accuracy_2, accuracy_3)), \"accuracy.cv\"))"
   ]
  },
  {
   "cell_type": "markdown",
   "metadata": {},
   "source": [
    "## Business Value\n",
    "\n",
    "To really be useful, evaluation of the performance of a classifier should say something about its business value.  So, construct a decision model to transform performance metric values to business value.  The decision model should accept business parameter values and one or more performance metric values as inputs, do some calculations regarding the effects of various decisions in the context of the input values, and produce a measure of expected business value as output.\n",
    "\n",
    "Imagine planning some product advertising campaign.  So, you construct a classifier based on historical campaign effectiveness.  Calculate the true positive rate and false positive rate as measures of how well it predicts whether you product will be adopted.  Then, in combination with assumptions about maximum potential campaign effectiveness, total number of customers, product pricing, and other business parameters, calculate expected number of customers that will adopt your product.  Compare that to expected number of customers were product adoption predicted some other way.  You now know the business value of the regressor."
   ]
  },
  {
   "cell_type": "markdown",
   "metadata": {},
   "source": [
    "## Sensitivity Analysis\n",
    "\n",
    "Before proceeding with a business decision influenced by your estimate of business value, you may want to test how sensitive your estimate is to the business parameters. If large changes to business parameter values would only minimally affect your estimate of business value, then you can have confidence in you business decision.  Conversely, if small changes to business parameter values would greatly affect your estimate of business value, then you face increased risk around your business decision.\n",
    "\n",
    "Imagine your estimate of product adoption would differ by 90% if product pricing differed by only 1%.  In this situation, if you are making your business decision counting on a certain level of product adoption and you do not have control over product pricing, then this is indeed a risky (and perhaps even irresponsible) business decision."
   ]
  },
  {
   "cell_type": "markdown",
   "metadata": {},
   "source": [
    "## Code\n",
    "\n",
    "Here are some R functions used in our discourse and some R code templates that you can modify and use in your own analyses. "
   ]
  },
  {
   "cell_type": "markdown",
   "metadata": {},
   "source": [
    "### Useful Functions"
   ]
  },
  {
   "cell_type": "code",
   "execution_count": 43,
   "metadata": {},
   "outputs": [],
   "source": [
    "# as.class              # from setup.R\n",
    "# fmt.cm                # from setup.R\n",
    "\n",
    "# help(set.seed)        # from base library\n",
    "# help(sample)          # from base library\n",
    "# help(colnames)        # from base library\n",
    "# help(createFolds)     # from caret library\n",
    "# help(setdiff)         # from base library\n",
    "# help(predict)         # from stats library\n",
    "# help(confusionMatrix) # from caret library"
   ]
  },
  {
   "cell_type": "markdown",
   "metadata": {},
   "source": [
    "### Templates"
   ]
  },
  {
   "cell_type": "code",
   "execution_count": 44,
   "metadata": {},
   "outputs": [
    {
     "data": {
      "text/plain": [
       "          Reference\n",
       "Prediction         A         B\n",
       "         A 0.2222222 0.1111111\n",
       "         B 0.3333333 0.3333333"
      ]
     },
     "metadata": {},
     "output_type": "display_data"
    },
    {
     "data": {
      "text/html": [
       "<table style=\"white-space: nowrap;\">\n",
       "<caption><center><font color=\"black\"><b>cm</b></font></center></caption>\n",
       " <thead>\n",
       "  <tr>\n",
       "   <th style=\"text-align:left;background-color: #FFFFFF !important;\">   </th>\n",
       "   <th style=\"text-align:right;background-color: #FFFFFF !important;\"> A </th>\n",
       "   <th style=\"text-align:right;background-color: #FFFFFF !important;\"> B </th>\n",
       "  </tr>\n",
       " </thead>\n",
       "<tbody>\n",
       "  <tr>\n",
       "   <td style=\"text-align:left;font-weight: bold;\"> A </td>\n",
       "   <td style=\"text-align:right;\"> 0.2222222 </td>\n",
       "   <td style=\"text-align:right;\"> 0.1111111 </td>\n",
       "  </tr>\n",
       "  <tr>\n",
       "   <td style=\"text-align:left;font-weight: bold;\"> B </td>\n",
       "   <td style=\"text-align:right;\"> 0.3333333 </td>\n",
       "   <td style=\"text-align:right;\"> 0.3333333 </td>\n",
       "  </tr>\n",
       "</tbody>\n",
       "</table>"
      ]
     },
     "metadata": {},
     "output_type": "display_data"
    },
    {
     "data": {
      "text/html": [
       "<table style=\"white-space: nowrap;\">\n",
       "<caption><center><font color=\"black\"><b>cm</b></font></center></caption>\n",
       " <thead>\n",
       "  <tr>\n",
       "   <th style=\"text-align:right;background-color: #FFFFFF !important;\"> Prediction </th>\n",
       "   <th style=\"text-align:right;background-color: #FFFFFF !important;\"> Reference </th>\n",
       "   <th style=\"text-align:right;background-color: #FFFFFF !important;\"> Freq </th>\n",
       "  </tr>\n",
       " </thead>\n",
       "<tbody>\n",
       "  <tr>\n",
       "   <td style=\"text-align:right;\"> A </td>\n",
       "   <td style=\"text-align:right;\"> A </td>\n",
       "   <td style=\"text-align:right;\"> 0.2222222 </td>\n",
       "  </tr>\n",
       "  <tr>\n",
       "   <td style=\"text-align:right;\"> B </td>\n",
       "   <td style=\"text-align:right;\"> A </td>\n",
       "   <td style=\"text-align:right;\"> 0.3333333 </td>\n",
       "  </tr>\n",
       "  <tr>\n",
       "   <td style=\"text-align:right;\"> A </td>\n",
       "   <td style=\"text-align:right;\"> B </td>\n",
       "   <td style=\"text-align:right;\"> 0.1111111 </td>\n",
       "  </tr>\n",
       "  <tr>\n",
       "   <td style=\"text-align:right;\"> B </td>\n",
       "   <td style=\"text-align:right;\"> B </td>\n",
       "   <td style=\"text-align:right;\"> 0.3333333 </td>\n",
       "  </tr>\n",
       "</tbody>\n",
       "</table>"
      ]
     },
     "metadata": {},
     "output_type": "display_data"
    }
   ],
   "source": [
    "# Construct a model, make predictions, see confusion matrix \n",
    "\n",
    "data = data.frame(x1=c(1,2,3,4,5,6,7,8,9),\n",
    "                  x2=c(4,3,4,2,1,3,0,9,2),\n",
    "                  class=c(\"A\",\"B\",\"B\",\"A\",\"A\",\"B\",\"B\",\"A\",\"A\"))\n",
    "\n",
    "model = naiveBayes(class ~ x1+x2, data) # use your choice of classifier construction method\n",
    "\n",
    "prob = predict(model, data, type=\"raw\") # predict function uses only predictor variables (e.g., x1 & x2)\n",
    "class.predicted = as.class(prob, class=\"A\", cutoff=0.5)\n",
    "\n",
    "CM = confusionMatrix(class.predicted, data$class)$table\n",
    "cm = CM / sum(CM)\n",
    "\n",
    "cm\n",
    "fmt.cm(cm)\n",
    "fmt(cm)"
   ]
  },
  {
   "cell_type": "code",
   "execution_count": 45,
   "metadata": {},
   "outputs": [
    {
     "data": {
      "text/html": [
       "<table style=\"white-space: nowrap;\">\n",
       " <thead>\n",
       "  <tr>\n",
       "   <th style=\"text-align:right;background-color: #FFFFFF !important;\"> accuracy </th>\n",
       "  </tr>\n",
       " </thead>\n",
       "<tbody>\n",
       "  <tr>\n",
       "   <td style=\"text-align:right;\"> 0.5555556 </td>\n",
       "  </tr>\n",
       "</tbody>\n",
       "</table>"
      ]
     },
     "metadata": {},
     "output_type": "display_data"
    }
   ],
   "source": [
    "# Evaluate model performance by in-sample \n",
    "\n",
    "data = data.frame(x1=c(1,2,3,4,5,6,7,8,9),\n",
    "                  x2=c(4,3,4,2,1,3,0,9,2),\n",
    "                  class=c(\"A\",\"B\",\"B\",\"A\",\"A\",\"B\",\"B\",\"A\",\"A\"))\n",
    "\n",
    "model = naiveBayes(class ~ x1+x2, data)\n",
    "prob = predict(model, data, type=\"raw\")\n",
    "class.predicted = as.class(prob, class=\"A\", cutoff=0.5)\n",
    "   \n",
    "CM = confusionMatrix(class.predicted, data$class)$table\n",
    "cm = CM/sum(CM)\n",
    "accuracy = cm[1,1]+cm[2,2]\n",
    "\n",
    "fmt(accuracy)"
   ]
  },
  {
   "cell_type": "code",
   "execution_count": 46,
   "metadata": {},
   "outputs": [
    {
     "data": {
      "text/html": [
       "<table style=\"white-space: nowrap;\">\n",
       " <thead>\n",
       "  <tr>\n",
       "   <th style=\"text-align:right;background-color: #FFFFFF !important;\"> accuracy </th>\n",
       "  </tr>\n",
       " </thead>\n",
       "<tbody>\n",
       "  <tr>\n",
       "   <td style=\"text-align:right;\"> 0 </td>\n",
       "  </tr>\n",
       "</tbody>\n",
       "</table>"
      ]
     },
     "metadata": {},
     "output_type": "display_data"
    }
   ],
   "source": [
    "# Evaluate model performance by out-of-sample \n",
    "\n",
    "data = data.frame(x1=c(1,2,3,4,5,6,7,8,9),\n",
    "                  x2=c(4,3,4,2,1,3,0,9,2),\n",
    "                  class=c(\"A\",\"B\",\"B\",\"A\",\"A\",\"B\",\"B\",\"A\",\"A\"))\n",
    "\n",
    "set.seed(0)\n",
    "holdout = sample(1:nrow(data), 0.25*nrow(data))\n",
    "holdin  = setdiff(1:nrow(data), holdout)\n",
    "data.test  = data[holdout,]\n",
    "data.train = data[holdin,]\n",
    "\n",
    "model = naiveBayes(class ~ x1+x2, data.train)\n",
    "prob = predict(model, data.test, type=\"raw\")\n",
    "class.predicted = as.class(prob, class=\"A\", cutoff=0.5)\n",
    "   \n",
    "CM = confusionMatrix(class.predicted, data.test$class)$table\n",
    "cm = CM/sum(CM)\n",
    "accuracy = cm[1,1]+cm[2,2]\n",
    "\n",
    "fmt(accuracy)"
   ]
  },
  {
   "cell_type": "code",
   "execution_count": 47,
   "metadata": {},
   "outputs": [
    {
     "data": {
      "text/html": [
       "<table>\n",
       "<thead><tr><th scope=col>fold</th><th scope=col>accuracy</th></tr></thead>\n",
       "<tbody>\n",
       "\t<tr><td>1        </td><td>0.6666667</td></tr>\n",
       "\t<tr><td>2        </td><td>0.3333333</td></tr>\n",
       "\t<tr><td>3        </td><td>0.3333333</td></tr>\n",
       "</tbody>\n",
       "</table>\n"
      ],
      "text/latex": [
       "\\begin{tabular}{r|ll}\n",
       " fold & accuracy\\\\\n",
       "\\hline\n",
       "\t 1         & 0.6666667\\\\\n",
       "\t 2         & 0.3333333\\\\\n",
       "\t 3         & 0.3333333\\\\\n",
       "\\end{tabular}\n"
      ],
      "text/markdown": [
       "\n",
       "| fold | accuracy |\n",
       "|---|---|\n",
       "| 1         | 0.6666667 |\n",
       "| 2         | 0.3333333 |\n",
       "| 3         | 0.3333333 |\n",
       "\n"
      ],
      "text/plain": [
       "  fold accuracy \n",
       "1 1    0.6666667\n",
       "2 2    0.3333333\n",
       "3 3    0.3333333"
      ]
     },
     "metadata": {},
     "output_type": "display_data"
    },
    {
     "data": {
      "text/html": [
       "<table style=\"white-space: nowrap;\">\n",
       " <thead>\n",
       "  <tr>\n",
       "   <th style=\"text-align:right;background-color: #FFFFFF !important;\"> accuracy.cv </th>\n",
       "  </tr>\n",
       " </thead>\n",
       "<tbody>\n",
       "  <tr>\n",
       "   <td style=\"text-align:right;\"> 0.4444444 </td>\n",
       "  </tr>\n",
       "</tbody>\n",
       "</table>"
      ]
     },
     "metadata": {},
     "output_type": "display_data"
    }
   ],
   "source": [
    "# Evaluate model performance by cross-validation \n",
    "\n",
    "data = data.frame(x1=c(1,2,3,4,5,6,7,8,9),\n",
    "                  x2=c(4,3,4,2,1,3,0,9,2),\n",
    "                  class=c(\"A\",\"B\",\"B\",\"A\",\"A\",\"B\",\"B\",\"A\",\"A\"))\n",
    "\n",
    "set.seed(0)\n",
    "fold = createFolds(data$class, k=3)\n",
    "\n",
    "accuracy = c()\n",
    "\n",
    "# Fold #1\n",
    "data.test  = data[fold[[1]],]\n",
    "data.train = data[setdiff(1:nrow(data), fold[[1]]),]\n",
    "model = naiveBayes(class ~ x1+x2, data.train)\n",
    "prob = predict(model, data.test, type=\"raw\")\n",
    "class.predicted = as.class(prob, class=\"A\", cutoff=0.5)\n",
    "CM = confusionMatrix(class.predicted, data.test$class)$table\n",
    "cm = CM/sum(CM)\n",
    "accuracy[1] = cm[1,1]+cm[2,2]\n",
    "\n",
    "# Fold #2\n",
    "data.test  = data[fold[[2]],]\n",
    "data.train = data[setdiff(1:nrow(data), fold[[2]]),]\n",
    "model = naiveBayes(class ~ x1+x2, data.train)\n",
    "prob = predict(model, data.test, type=\"raw\")\n",
    "class.predicted = as.class(prob, class=\"A\", cutoff=0.5)\n",
    "CM = confusionMatrix(class.predicted, data.test$class)$table\n",
    "cm = CM/sum(CM)\n",
    "accuracy[2] = cm[1,1]+cm[2,2]\n",
    "\n",
    "# Fold #3\n",
    "data.test  = data[fold[[3]],]\n",
    "data.train = data[setdiff(1:nrow(data), fold[[3]]),]\n",
    "model = naiveBayes(class ~ x1+x2, data.train)\n",
    "prob = predict(model, data.test, type=\"raw\")\n",
    "class.predicted = as.class(prob, class=\"A\", cutoff=0.5)\n",
    "CM = confusionMatrix(class.predicted, data.test$class)$table\n",
    "cm = CM/sum(CM)\n",
    "accuracy[3] = cm[1,1]+cm[2,2]\n",
    "\n",
    "accuracy.cv = mean(accuracy)\n",
    "\n",
    "data.frame(fold=1:3, accuracy)\n",
    "fmt(accuracy.cv)"
   ]
  },
  {
   "cell_type": "code",
   "execution_count": 48,
   "metadata": {},
   "outputs": [
    {
     "data": {
      "text/html": [
       "<table>\n",
       "<thead><tr><th scope=col>fold</th><th scope=col>accuracy</th></tr></thead>\n",
       "<tbody>\n",
       "\t<tr><td>1        </td><td>0.6666667</td></tr>\n",
       "\t<tr><td>2        </td><td>0.3333333</td></tr>\n",
       "\t<tr><td>3        </td><td>0.3333333</td></tr>\n",
       "</tbody>\n",
       "</table>\n"
      ],
      "text/latex": [
       "\\begin{tabular}{r|ll}\n",
       " fold & accuracy\\\\\n",
       "\\hline\n",
       "\t 1         & 0.6666667\\\\\n",
       "\t 2         & 0.3333333\\\\\n",
       "\t 3         & 0.3333333\\\\\n",
       "\\end{tabular}\n"
      ],
      "text/markdown": [
       "\n",
       "| fold | accuracy |\n",
       "|---|---|\n",
       "| 1         | 0.6666667 |\n",
       "| 2         | 0.3333333 |\n",
       "| 3         | 0.3333333 |\n",
       "\n"
      ],
      "text/plain": [
       "  fold accuracy \n",
       "1 1    0.6666667\n",
       "2 2    0.3333333\n",
       "3 3    0.3333333"
      ]
     },
     "metadata": {},
     "output_type": "display_data"
    },
    {
     "data": {
      "text/html": [
       "<table style=\"white-space: nowrap;\">\n",
       " <thead>\n",
       "  <tr>\n",
       "   <th style=\"text-align:right;background-color: #FFFFFF !important;\"> accuracy.cv </th>\n",
       "  </tr>\n",
       " </thead>\n",
       "<tbody>\n",
       "  <tr>\n",
       "   <td style=\"text-align:right;\"> 0.4444444 </td>\n",
       "  </tr>\n",
       "</tbody>\n",
       "</table>"
      ]
     },
     "metadata": {},
     "output_type": "display_data"
    }
   ],
   "source": [
    "# Evaluate model performance by cross-validation (with automatic iteration)\n",
    "\n",
    "data = data.frame(x1=c(1,2,3,4,5,6,7,8,9),\n",
    "                  x2=c(4,3,4,2,1,3,0,9,2),\n",
    "                  class=c(\"A\",\"B\",\"B\",\"A\",\"A\",\"B\",\"B\",\"A\",\"A\"))\n",
    "\n",
    "set.seed(0)\n",
    "fold = createFolds(data$class, k=3)\n",
    "\n",
    "accuracy = c()\n",
    "\n",
    "for (i in 1:3)\n",
    "  { data.test  = data[fold[[i]],]\n",
    "    data.train = data[setdiff(1:nrow(data), fold[[i]]),]\n",
    "    \n",
    "    model = naiveBayes(class ~ x1+x2, data.train)\n",
    "    prob = predict(model, data.test, type=\"raw\")\n",
    "    class.predicted = as.class(prob, class=\"A\", cutoff=0.5)\n",
    "   \n",
    "    CM = confusionMatrix(class.predicted, data.test$class)$table\n",
    "    cm = CM/sum(CM)\n",
    "    accuracy[i] = cm[1,1]+cm[2,2] }\n",
    "\n",
    "accuracy.cv = mean(accuracy)\n",
    "\n",
    "data.frame(fold=1:3, accuracy)\n",
    "fmt(accuracy.cv)"
   ]
  },
  {
   "cell_type": "markdown",
   "metadata": {},
   "source": [
    "## What You Should Now Know\n",
    "\n",
    "* Classification methodology, conceptually.\n",
    "* Terminology regarding classification methodology.\n",
    "* How to construct a classifier using a provided classifier construction method, conceptually and using R.\n",
    "* How to use a classifier to determine class probabilities and make predictions, conceptually and using R.\n",
    "* How to evaluate a classifier by insample, conceptually and using R.\n",
    "* How to evaluate a classifier by out-of-sample/holdout, conceptually and using R.\n",
    "* How to evaluate a classifier by cross-validation, conceptually and using R."
   ]
  },
  {
   "cell_type": "markdown",
   "metadata": {},
   "source": [
    "## Further Reading\n",
    "\n",
    "* https://en.wikipedia.org/wiki/Confusion_matrix\n",
    "* https://www.youtube.com/watch?v=fSytzGwwBVw\n",
    "* https://www.youtube.com/watch?v=TIgfjmp-4BA\n",
    "* http://ciml.info/dl/v0_99/ciml-v0_99-ch03.pdf\n",
    "* http://www-stat.wharton.upenn.edu/~stine/mich/DM_05.pdf\n",
    "* https://machinelearningmastery.com/much-training-data-required-machine-learning/"
   ]
  },
  {
   "cell_type": "markdown",
   "metadata": {},
   "source": [
    "<p style=\"text-align:left; font-size:10px;\">\n",
    "Copyright (c) Berkeley Data Analytics Group, LLC\n",
    "<span style=\"float:right;\">\n",
    "Document revised March 25, 2021\n",
    "</span>\n",
    "</p>"
   ]
  }
 ],
 "metadata": {
  "hide_code_all_hidden": false,
  "hide_input": false,
  "kernelspec": {
   "display_name": "R",
   "language": "R",
   "name": "ir"
  },
  "language_info": {
   "codemirror_mode": "r",
   "file_extension": ".r",
   "mimetype": "text/x-r-source",
   "name": "R",
   "pygments_lexer": "r",
   "version": "3.6.1"
  },
  "toc": {
   "base_numbering": 1,
   "nav_menu": {},
   "number_sections": true,
   "sideBar": true,
   "skip_h1_title": true,
   "title_cell": "Table of Contents",
   "title_sidebar": "Contents",
   "toc_cell": false,
   "toc_position": {},
   "toc_section_display": true,
   "toc_window_display": false
  }
 },
 "nbformat": 4,
 "nbformat_minor": 2
}
