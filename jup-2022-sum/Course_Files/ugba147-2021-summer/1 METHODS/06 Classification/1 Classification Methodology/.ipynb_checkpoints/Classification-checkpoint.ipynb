{
 "cells": [
  {
   "cell_type": "markdown",
   "metadata": {
    "hideCode": false,
    "hidePrompt": false
   },
   "source": [
    "# Classification\n",
    "\n",
    "![](banner_classification.jpg)\n",
    "\n",
    "_<p style=\"text-align: center;\"> In 336 BCE, the Oracle of Delphi predicted, \"You are invincible, my son!\"  Alexander the Great replied, \"Now I have my answer.\" </p>_"
   ]
  },
  {
   "cell_type": "code",
   "execution_count": 1,
   "metadata": {
    "hide_input": false,
    "scrolled": true
   },
   "outputs": [
    {
     "name": "stdout",
     "output_type": "stream",
     "text": [
      "Open code cell here for notebook apparatus."
     ]
    }
   ],
   "source": [
    "cat(\"Open code cell here for notebook apparatus.\")\n",
    "\n",
    "options(warn=-1)\n",
    "\n",
    "# Load some useful functions\n",
    "library(ggplot2,   verbose=FALSE, warn.conflicts=FALSE, quietly=TRUE)\n",
    "library(gridExtra, verbose=FALSE, warn.conflicts=FALSE, quietly=TRUE)\n",
    "library(caret,     verbose=FALSE, warn.conflicts=FALSE, quietly=TRUE)\n",
    "library(e1071,     verbose=FALSE, warn.conflicts=FALSE, quietly=TRUE)\n",
    "\n",
    "# Define some useful functions\n",
    "my_predictive_analytic_method = function(formula, data, hyperparameter) { x=\"A model constructed by my predictive analytic method\"; attr(x, \"vars\") = unique(data$class); x }\n",
    "my_predict = function(model, data) { p = if (sum(data[,1])>15) c(0.8,0.3,0.6,0.2,0.8) else if (sum(data[,1])>10) c(0.6,0.9,0.6,0.1,0.1) else c(0.4,0.3,0.6,0.2,0.7); p = p[1:nrow(data)]; d = data.frame(p, 1-p); colnames(d) = attr(model, \"vars\"); d }\n",
    "as.class = function(prob, class, cutoff=NA) { f = factor(prob[,colnames(prob)==class]>=cutoff, levels=c(TRUE, FALSE), labels=c(class, setdiff(colnames(prob), class))); attr(f, \"names\") = NULL; f }\n",
    "                                 \n",
    "# Set some visualization constants\n",
    "restore = list(repr.plot.width=8, repr.plot.height=3)\n",
    "PALETTE = c(\"#00A9FF\", \"#F8766D\", \"#7CAE00\", \"#C77CFF\", \"#CD9600\", \"#00BE67\", \"#FF61CC\", \"#00BFC4\")\n",
    "theme.no_legend = theme(legend.position=\"none\")\n",
    "\n",
    "# Set some visualization formatting defaults\n",
    "options(scipen=10)\n",
    "#options(stringsAsFactors=FALSE)\n",
    "options(restore)\n",
    "update_geom_defaults(\"point\", list(size=5, colour=\"grey50\"))\n",
    "theme_update(plot.title=element_text(size=10, hjust=0.5), plot.subtitle=element_text(size=8, face=\"italic\", hjust=0.5), axis.title=element_text(size=7), axis.text=element_text(size=7), strip.text=element_text(size=7), strip.text.y=element_text(angle=90), legend.title=element_blank(), legend.text=element_text(size=7))"
   ]
  },
  {
   "cell_type": "markdown",
   "metadata": {},
   "source": [
    "## Introduction\n",
    "\n",
    "Motivation, context, history, overview, related topics, terminology ..."
   ]
  },
  {
   "cell_type": "markdown",
   "metadata": {},
   "source": [
    "### Classification Methodology\n",
    "\n",
    "3 Steps to go from data to predictions:\n",
    "1. The predictive analytic method determines the model _(given data including class information + hyperparameter values)_.\n",
    "2. The model determines the class probabilities _(given new data without class information)_.\n",
    "3. The class probabilities determine the predictions _(given a cutoff value)_."
   ]
  },
  {
   "cell_type": "markdown",
   "metadata": {},
   "source": [
    "![](classification_methodology.jpg)"
   ]
  },
  {
   "cell_type": "markdown",
   "metadata": {},
   "source": [
    "### Terms\n",
    "\n",
    "* Predictive analytic method\n",
    "* Prediction\n",
    "* Classification\n",
    "* Classifier, Class prediction model\n",
    "* Training, Supervised learning, Predictive modeling\n",
    "* Predictor variables\n",
    "* Class\n",
    "* Hyperparameters\n",
    "* Cutoff"
   ]
  },
  {
   "cell_type": "markdown",
   "metadata": {},
   "source": [
    "## Discourse"
   ]
  },
  {
   "cell_type": "markdown",
   "metadata": {},
   "source": [
    "### Demonstration of Classification Methodology"
   ]
  },
  {
   "cell_type": "markdown",
   "metadata": {},
   "source": [
    "#### Data"
   ]
  },
  {
   "cell_type": "code",
   "execution_count": 2,
   "metadata": {
    "scrolled": true
   },
   "outputs": [
    {
     "data": {
      "text/html": [
       "<table>\n",
       "<thead><tr><th scope=col>x1</th><th scope=col>x2</th><th scope=col>class</th></tr></thead>\n",
       "<tbody>\n",
       "\t<tr><td>3</td><td>5</td><td>A</td></tr>\n",
       "\t<tr><td>2</td><td>3</td><td>A</td></tr>\n",
       "\t<tr><td>9</td><td>3</td><td>B</td></tr>\n",
       "\t<tr><td>0</td><td>0</td><td>B</td></tr>\n",
       "\t<tr><td>3</td><td>2</td><td>A</td></tr>\n",
       "</tbody>\n",
       "</table>\n"
      ],
      "text/latex": [
       "\\begin{tabular}{r|lll}\n",
       " x1 & x2 & class\\\\\n",
       "\\hline\n",
       "\t 3 & 5 & A\\\\\n",
       "\t 2 & 3 & A\\\\\n",
       "\t 9 & 3 & B\\\\\n",
       "\t 0 & 0 & B\\\\\n",
       "\t 3 & 2 & A\\\\\n",
       "\\end{tabular}\n"
      ],
      "text/markdown": [
       "\n",
       "x1 | x2 | class | \n",
       "|---|---|---|---|---|\n",
       "| 3 | 5 | A | \n",
       "| 2 | 3 | A | \n",
       "| 9 | 3 | B | \n",
       "| 0 | 0 | B | \n",
       "| 3 | 2 | A | \n",
       "\n",
       "\n"
      ],
      "text/plain": [
       "  x1 x2 class\n",
       "1 3  5  A    \n",
       "2 2  3  A    \n",
       "3 9  3  B    \n",
       "4 0  0  B    \n",
       "5 3  2  A    "
      ]
     },
     "metadata": {},
     "output_type": "display_data"
    }
   ],
   "source": [
    "data = data.frame(x1=c(3,2,9,0,3), x2=c(5,3,3,0,2), class=c(\"A\",\"A\",\"B\",\"B\",\"A\"))\n",
    "data"
   ]
  },
  {
   "cell_type": "markdown",
   "metadata": {},
   "source": [
    "#### Construct a model based on data"
   ]
  },
  {
   "cell_type": "code",
   "execution_count": 3,
   "metadata": {},
   "outputs": [
    {
     "data": {
      "text/html": [
       "'A model constructed by my predictive analytic method'"
      ],
      "text/latex": [
       "'A model constructed by my predictive analytic method'"
      ],
      "text/markdown": [
       "'A model constructed by my predictive analytic method'"
      ],
      "text/plain": [
       "[1] \"A model constructed by my predictive analytic method\"\n",
       "attr(,\"vars\")\n",
       "[1] A B\n",
       "Levels: A B"
      ]
     },
     "metadata": {},
     "output_type": "display_data"
    }
   ],
   "source": [
    "model = my_predictive_analytic_method(class ~ x1+x2, data, hyperparameter=0)\n",
    "model"
   ]
  },
  {
   "cell_type": "markdown",
   "metadata": {},
   "source": [
    "#### Use the model to determine class probabilities of new data"
   ]
  },
  {
   "cell_type": "code",
   "execution_count": 4,
   "metadata": {},
   "outputs": [
    {
     "data": {
      "text/html": [
       "<table>\n",
       "<thead><tr><th scope=col>x1</th><th scope=col>x2</th></tr></thead>\n",
       "<tbody>\n",
       "\t<tr><td>3</td><td>3</td></tr>\n",
       "\t<tr><td>2</td><td>3</td></tr>\n",
       "\t<tr><td>0</td><td>0</td></tr>\n",
       "\t<tr><td>9</td><td>9</td></tr>\n",
       "\t<tr><td>1</td><td>2</td></tr>\n",
       "</tbody>\n",
       "</table>\n"
      ],
      "text/latex": [
       "\\begin{tabular}{r|ll}\n",
       " x1 & x2\\\\\n",
       "\\hline\n",
       "\t 3 & 3\\\\\n",
       "\t 2 & 3\\\\\n",
       "\t 0 & 0\\\\\n",
       "\t 9 & 9\\\\\n",
       "\t 1 & 2\\\\\n",
       "\\end{tabular}\n"
      ],
      "text/markdown": [
       "\n",
       "x1 | x2 | \n",
       "|---|---|---|---|---|\n",
       "| 3 | 3 | \n",
       "| 2 | 3 | \n",
       "| 0 | 0 | \n",
       "| 9 | 9 | \n",
       "| 1 | 2 | \n",
       "\n",
       "\n"
      ],
      "text/plain": [
       "  x1 x2\n",
       "1 3  3 \n",
       "2 2  3 \n",
       "3 0  0 \n",
       "4 9  9 \n",
       "5 1  2 "
      ]
     },
     "metadata": {},
     "output_type": "display_data"
    }
   ],
   "source": [
    "new_data = data.frame(x1=c(3,2,0,9,1), x2=c(3,3,0,9,2))\n",
    "new_data"
   ]
  },
  {
   "cell_type": "code",
   "execution_count": 5,
   "metadata": {},
   "outputs": [
    {
     "data": {
      "text/html": [
       "<table>\n",
       "<thead><tr><th scope=col>A</th><th scope=col>B</th></tr></thead>\n",
       "<tbody>\n",
       "\t<tr><td>0.6</td><td>0.4</td></tr>\n",
       "\t<tr><td>0.9</td><td>0.1</td></tr>\n",
       "\t<tr><td>0.6</td><td>0.4</td></tr>\n",
       "\t<tr><td>0.1</td><td>0.9</td></tr>\n",
       "\t<tr><td>0.1</td><td>0.9</td></tr>\n",
       "</tbody>\n",
       "</table>\n"
      ],
      "text/latex": [
       "\\begin{tabular}{r|ll}\n",
       " A & B\\\\\n",
       "\\hline\n",
       "\t 0.6 & 0.4\\\\\n",
       "\t 0.9 & 0.1\\\\\n",
       "\t 0.6 & 0.4\\\\\n",
       "\t 0.1 & 0.9\\\\\n",
       "\t 0.1 & 0.9\\\\\n",
       "\\end{tabular}\n"
      ],
      "text/markdown": [
       "\n",
       "A | B | \n",
       "|---|---|---|---|---|\n",
       "| 0.6 | 0.4 | \n",
       "| 0.9 | 0.1 | \n",
       "| 0.6 | 0.4 | \n",
       "| 0.1 | 0.9 | \n",
       "| 0.1 | 0.9 | \n",
       "\n",
       "\n"
      ],
      "text/plain": [
       "  A   B  \n",
       "1 0.6 0.4\n",
       "2 0.9 0.1\n",
       "3 0.6 0.4\n",
       "4 0.1 0.9\n",
       "5 0.1 0.9"
      ]
     },
     "metadata": {},
     "output_type": "display_data"
    },
    {
     "data": {
      "text/html": [
       "<table>\n",
       "<thead><tr><th scope=col>x1</th><th scope=col>x2</th><th scope=col>prob.A</th></tr></thead>\n",
       "<tbody>\n",
       "\t<tr><td>3  </td><td>3  </td><td>0.6</td></tr>\n",
       "\t<tr><td>2  </td><td>3  </td><td>0.9</td></tr>\n",
       "\t<tr><td>0  </td><td>0  </td><td>0.6</td></tr>\n",
       "\t<tr><td>9  </td><td>9  </td><td>0.1</td></tr>\n",
       "\t<tr><td>1  </td><td>2  </td><td>0.1</td></tr>\n",
       "</tbody>\n",
       "</table>\n"
      ],
      "text/latex": [
       "\\begin{tabular}{r|lll}\n",
       " x1 & x2 & prob.A\\\\\n",
       "\\hline\n",
       "\t 3   & 3   & 0.6\\\\\n",
       "\t 2   & 3   & 0.9\\\\\n",
       "\t 0   & 0   & 0.6\\\\\n",
       "\t 9   & 9   & 0.1\\\\\n",
       "\t 1   & 2   & 0.1\\\\\n",
       "\\end{tabular}\n"
      ],
      "text/markdown": [
       "\n",
       "x1 | x2 | prob.A | \n",
       "|---|---|---|---|---|\n",
       "| 3   | 3   | 0.6 | \n",
       "| 2   | 3   | 0.9 | \n",
       "| 0   | 0   | 0.6 | \n",
       "| 9   | 9   | 0.1 | \n",
       "| 1   | 2   | 0.1 | \n",
       "\n",
       "\n"
      ],
      "text/plain": [
       "  x1 x2 prob.A\n",
       "1 3  3  0.6   \n",
       "2 2  3  0.9   \n",
       "3 0  0  0.6   \n",
       "4 9  9  0.1   \n",
       "5 1  2  0.1   "
      ]
     },
     "metadata": {},
     "output_type": "display_data"
    }
   ],
   "source": [
    "prob = my_predict(model, new_data)\n",
    "prob\n",
    "\n",
    "new_data$prob.A = prob$A\n",
    "new_data"
   ]
  },
  {
   "cell_type": "markdown",
   "metadata": {},
   "source": [
    "#### Use class probabilites with a cutoff to predict classes of new data"
   ]
  },
  {
   "cell_type": "code",
   "execution_count": 6,
   "metadata": {},
   "outputs": [
    {
     "data": {
      "text/html": [
       "<table>\n",
       "<thead><tr><th scope=col>cutoff</th></tr></thead>\n",
       "<tbody>\n",
       "\t<tr><td>0.5</td></tr>\n",
       "</tbody>\n",
       "</table>\n"
      ],
      "text/latex": [
       "\\begin{tabular}{r|l}\n",
       " cutoff\\\\\n",
       "\\hline\n",
       "\t 0.5\\\\\n",
       "\\end{tabular}\n"
      ],
      "text/markdown": [
       "\n",
       "cutoff | \n",
       "|---|\n",
       "| 0.5 | \n",
       "\n",
       "\n"
      ],
      "text/plain": [
       "  cutoff\n",
       "1 0.5   "
      ]
     },
     "metadata": {},
     "output_type": "display_data"
    },
    {
     "data": {
      "text/html": [
       "<ol class=list-inline>\n",
       "\t<li>A</li>\n",
       "\t<li>A</li>\n",
       "\t<li>A</li>\n",
       "\t<li>B</li>\n",
       "\t<li>B</li>\n",
       "</ol>\n"
      ],
      "text/latex": [
       "\\begin{enumerate*}\n",
       "\\item A\n",
       "\\item A\n",
       "\\item A\n",
       "\\item B\n",
       "\\item B\n",
       "\\end{enumerate*}\n"
      ],
      "text/markdown": [
       "1. A\n",
       "2. A\n",
       "3. A\n",
       "4. B\n",
       "5. B\n",
       "\n",
       "\n"
      ],
      "text/plain": [
       "[1] A A A B B\n",
       "Levels: A B"
      ]
     },
     "metadata": {},
     "output_type": "display_data"
    },
    {
     "data": {
      "text/html": [
       "<table>\n",
       "<thead><tr><th scope=col>x1</th><th scope=col>x2</th><th scope=col>prob.A</th><th scope=col>prediction</th></tr></thead>\n",
       "<tbody>\n",
       "\t<tr><td>3  </td><td>3  </td><td>0.6</td><td>A  </td></tr>\n",
       "\t<tr><td>2  </td><td>3  </td><td>0.9</td><td>A  </td></tr>\n",
       "\t<tr><td>0  </td><td>0  </td><td>0.6</td><td>A  </td></tr>\n",
       "\t<tr><td>9  </td><td>9  </td><td>0.1</td><td>B  </td></tr>\n",
       "\t<tr><td>1  </td><td>2  </td><td>0.1</td><td>B  </td></tr>\n",
       "</tbody>\n",
       "</table>\n"
      ],
      "text/latex": [
       "\\begin{tabular}{r|llll}\n",
       " x1 & x2 & prob.A & prediction\\\\\n",
       "\\hline\n",
       "\t 3   & 3   & 0.6 & A  \\\\\n",
       "\t 2   & 3   & 0.9 & A  \\\\\n",
       "\t 0   & 0   & 0.6 & A  \\\\\n",
       "\t 9   & 9   & 0.1 & B  \\\\\n",
       "\t 1   & 2   & 0.1 & B  \\\\\n",
       "\\end{tabular}\n"
      ],
      "text/markdown": [
       "\n",
       "x1 | x2 | prob.A | prediction | \n",
       "|---|---|---|---|---|\n",
       "| 3   | 3   | 0.6 | A   | \n",
       "| 2   | 3   | 0.9 | A   | \n",
       "| 0   | 0   | 0.6 | A   | \n",
       "| 9   | 9   | 0.1 | B   | \n",
       "| 1   | 2   | 0.1 | B   | \n",
       "\n",
       "\n"
      ],
      "text/plain": [
       "  x1 x2 prob.A prediction\n",
       "1 3  3  0.6    A         \n",
       "2 2  3  0.9    A         \n",
       "3 0  0  0.6    A         \n",
       "4 9  9  0.1    B         \n",
       "5 1  2  0.1    B         "
      ]
     },
     "metadata": {},
     "output_type": "display_data"
    }
   ],
   "source": [
    "cutoff = 0.5\n",
    "data.frame(cutoff)\n",
    "\n",
    "prediction = as.class(prob, class=\"A\", cutoff)\n",
    "prediction\n",
    "\n",
    "new_data$prediction = prediction\n",
    "new_data"
   ]
  },
  {
   "cell_type": "code",
   "execution_count": 7,
   "metadata": {},
   "outputs": [
    {
     "data": {
      "image/png": "[encoded data removed]",
      "text/plain": [
       "plot without title"
      ]
     },
     "metadata": {},
     "output_type": "display_data"
    }
   ],
   "source": [
    "options(repr.plot.width=6, repr.plot.height=3)\n",
    "\n",
    "p1 = ggplot(data) + ggtitle(\"Data\", \"actual class known\") + ylim(0,10) +\n",
    "     geom_point(aes(x=x1, y=x2, color=factor(class, c(\"A\",\"B\")))) +\n",
    "     scale_color_manual(values=PALETTE) + theme.no_legend\n",
    "\n",
    "p2 = ggplot(new_data) + ggtitle(\"New Data\", \"actual class not known\") + ylim(0,10) +\n",
    "     geom_point(aes(x=x1, y=x2, color=factor(prediction, c(\"A\",\"B\")))) +\n",
    "     scale_color_manual(values=PALETTE) + theme.no_legend\n",
    "\n",
    "grid.arrange(p1, p2, nrow=1)\n",
    "\n",
    "options(restore)"
   ]
  },
  {
   "cell_type": "markdown",
   "metadata": {},
   "source": [
    "### Evaluation"
   ]
  },
  {
   "cell_type": "markdown",
   "metadata": {},
   "source": [
    "#### Data"
   ]
  },
  {
   "cell_type": "code",
   "execution_count": 8,
   "metadata": {},
   "outputs": [
    {
     "data": {
      "text/html": [
       "<table>\n",
       "<thead><tr><th scope=col>x1</th><th scope=col>x2</th><th scope=col>class</th></tr></thead>\n",
       "<tbody>\n",
       "\t<tr><td>3</td><td>5</td><td>A</td></tr>\n",
       "\t<tr><td>2</td><td>3</td><td>A</td></tr>\n",
       "\t<tr><td>9</td><td>3</td><td>B</td></tr>\n",
       "\t<tr><td>0</td><td>0</td><td>B</td></tr>\n",
       "\t<tr><td>3</td><td>2</td><td>A</td></tr>\n",
       "</tbody>\n",
       "</table>\n"
      ],
      "text/latex": [
       "\\begin{tabular}{r|lll}\n",
       " x1 & x2 & class\\\\\n",
       "\\hline\n",
       "\t 3 & 5 & A\\\\\n",
       "\t 2 & 3 & A\\\\\n",
       "\t 9 & 3 & B\\\\\n",
       "\t 0 & 0 & B\\\\\n",
       "\t 3 & 2 & A\\\\\n",
       "\\end{tabular}\n"
      ],
      "text/markdown": [
       "\n",
       "x1 | x2 | class | \n",
       "|---|---|---|---|---|\n",
       "| 3 | 5 | A | \n",
       "| 2 | 3 | A | \n",
       "| 9 | 3 | B | \n",
       "| 0 | 0 | B | \n",
       "| 3 | 2 | A | \n",
       "\n",
       "\n"
      ],
      "text/plain": [
       "  x1 x2 class\n",
       "1 3  5  A    \n",
       "2 2  3  A    \n",
       "3 9  3  B    \n",
       "4 0  0  B    \n",
       "5 3  2  A    "
      ]
     },
     "metadata": {},
     "output_type": "display_data"
    }
   ],
   "source": [
    "data = data.frame(x1=c(3,2,9,0,3), x2=c(5,3,3,0,2), class=c(\"A\",\"A\",\"B\",\"B\",\"A\"))\n",
    "data"
   ]
  },
  {
   "cell_type": "markdown",
   "metadata": {},
   "source": [
    "#### Data with predictor variables only - no actual class information"
   ]
  },
  {
   "cell_type": "code",
   "execution_count": 9,
   "metadata": {
    "scrolled": true
   },
   "outputs": [
    {
     "data": {
      "text/html": [
       "<table>\n",
       "<thead><tr><th scope=col>x1</th><th scope=col>x2</th></tr></thead>\n",
       "<tbody>\n",
       "\t<tr><td>3</td><td>5</td></tr>\n",
       "\t<tr><td>2</td><td>3</td></tr>\n",
       "\t<tr><td>9</td><td>3</td></tr>\n",
       "\t<tr><td>0</td><td>0</td></tr>\n",
       "\t<tr><td>3</td><td>2</td></tr>\n",
       "</tbody>\n",
       "</table>\n"
      ],
      "text/latex": [
       "\\begin{tabular}{r|ll}\n",
       " x1 & x2\\\\\n",
       "\\hline\n",
       "\t 3 & 5\\\\\n",
       "\t 2 & 3\\\\\n",
       "\t 9 & 3\\\\\n",
       "\t 0 & 0\\\\\n",
       "\t 3 & 2\\\\\n",
       "\\end{tabular}\n"
      ],
      "text/markdown": [
       "\n",
       "x1 | x2 | \n",
       "|---|---|---|---|---|\n",
       "| 3 | 5 | \n",
       "| 2 | 3 | \n",
       "| 9 | 3 | \n",
       "| 0 | 0 | \n",
       "| 3 | 2 | \n",
       "\n",
       "\n"
      ],
      "text/plain": [
       "  x1 x2\n",
       "1 3  5 \n",
       "2 2  3 \n",
       "3 9  3 \n",
       "4 0  0 \n",
       "5 3  2 "
      ]
     },
     "metadata": {},
     "output_type": "display_data"
    }
   ],
   "source": [
    "datax = data[, colnames(data)!=\"class\"]\n",
    "datax"
   ]
  },
  {
   "cell_type": "markdown",
   "metadata": {},
   "source": [
    "#### Use the model (previously constructed) to determine class probabilities of the (original) data"
   ]
  },
  {
   "cell_type": "code",
   "execution_count": 10,
   "metadata": {},
   "outputs": [
    {
     "data": {
      "text/html": [
       "<table>\n",
       "<thead><tr><th scope=col>A</th><th scope=col>B</th></tr></thead>\n",
       "<tbody>\n",
       "\t<tr><td>0.8</td><td>0.2</td></tr>\n",
       "\t<tr><td>0.3</td><td>0.7</td></tr>\n",
       "\t<tr><td>0.6</td><td>0.4</td></tr>\n",
       "\t<tr><td>0.2</td><td>0.8</td></tr>\n",
       "\t<tr><td>0.8</td><td>0.2</td></tr>\n",
       "</tbody>\n",
       "</table>\n"
      ],
      "text/latex": [
       "\\begin{tabular}{r|ll}\n",
       " A & B\\\\\n",
       "\\hline\n",
       "\t 0.8 & 0.2\\\\\n",
       "\t 0.3 & 0.7\\\\\n",
       "\t 0.6 & 0.4\\\\\n",
       "\t 0.2 & 0.8\\\\\n",
       "\t 0.8 & 0.2\\\\\n",
       "\\end{tabular}\n"
      ],
      "text/markdown": [
       "\n",
       "A | B | \n",
       "|---|---|---|---|---|\n",
       "| 0.8 | 0.2 | \n",
       "| 0.3 | 0.7 | \n",
       "| 0.6 | 0.4 | \n",
       "| 0.2 | 0.8 | \n",
       "| 0.8 | 0.2 | \n",
       "\n",
       "\n"
      ],
      "text/plain": [
       "  A   B  \n",
       "1 0.8 0.2\n",
       "2 0.3 0.7\n",
       "3 0.6 0.4\n",
       "4 0.2 0.8\n",
       "5 0.8 0.2"
      ]
     },
     "metadata": {},
     "output_type": "display_data"
    },
    {
     "data": {
      "text/html": [
       "<table>\n",
       "<thead><tr><th scope=col>x1</th><th scope=col>x2</th><th scope=col>prob.A</th></tr></thead>\n",
       "<tbody>\n",
       "\t<tr><td>3  </td><td>5  </td><td>0.8</td></tr>\n",
       "\t<tr><td>2  </td><td>3  </td><td>0.3</td></tr>\n",
       "\t<tr><td>9  </td><td>3  </td><td>0.6</td></tr>\n",
       "\t<tr><td>0  </td><td>0  </td><td>0.2</td></tr>\n",
       "\t<tr><td>3  </td><td>2  </td><td>0.8</td></tr>\n",
       "</tbody>\n",
       "</table>\n"
      ],
      "text/latex": [
       "\\begin{tabular}{r|lll}\n",
       " x1 & x2 & prob.A\\\\\n",
       "\\hline\n",
       "\t 3   & 5   & 0.8\\\\\n",
       "\t 2   & 3   & 0.3\\\\\n",
       "\t 9   & 3   & 0.6\\\\\n",
       "\t 0   & 0   & 0.2\\\\\n",
       "\t 3   & 2   & 0.8\\\\\n",
       "\\end{tabular}\n"
      ],
      "text/markdown": [
       "\n",
       "x1 | x2 | prob.A | \n",
       "|---|---|---|---|---|\n",
       "| 3   | 5   | 0.8 | \n",
       "| 2   | 3   | 0.3 | \n",
       "| 9   | 3   | 0.6 | \n",
       "| 0   | 0   | 0.2 | \n",
       "| 3   | 2   | 0.8 | \n",
       "\n",
       "\n"
      ],
      "text/plain": [
       "  x1 x2 prob.A\n",
       "1 3  5  0.8   \n",
       "2 2  3  0.3   \n",
       "3 9  3  0.6   \n",
       "4 0  0  0.2   \n",
       "5 3  2  0.8   "
      ]
     },
     "metadata": {},
     "output_type": "display_data"
    }
   ],
   "source": [
    "prob = my_predict(model, datax)\n",
    "prob\n",
    "\n",
    "datax$prob.A = prob$A\n",
    "datax"
   ]
  },
  {
   "cell_type": "markdown",
   "metadata": {},
   "source": [
    "#### Use class probabilites with a cutoff to predict classes of the (original) data\n",
    "\n",
    "The predicted classes may be different than the actual classes."
   ]
  },
  {
   "cell_type": "code",
   "execution_count": 11,
   "metadata": {},
   "outputs": [
    {
     "data": {
      "text/html": [
       "<table>\n",
       "<thead><tr><th scope=col>cutoff</th></tr></thead>\n",
       "<tbody>\n",
       "\t<tr><td>0.5</td></tr>\n",
       "</tbody>\n",
       "</table>\n"
      ],
      "text/latex": [
       "\\begin{tabular}{r|l}\n",
       " cutoff\\\\\n",
       "\\hline\n",
       "\t 0.5\\\\\n",
       "\\end{tabular}\n"
      ],
      "text/markdown": [
       "\n",
       "cutoff | \n",
       "|---|\n",
       "| 0.5 | \n",
       "\n",
       "\n"
      ],
      "text/plain": [
       "  cutoff\n",
       "1 0.5   "
      ]
     },
     "metadata": {},
     "output_type": "display_data"
    },
    {
     "data": {
      "text/html": [
       "<ol class=list-inline>\n",
       "\t<li>A</li>\n",
       "\t<li>B</li>\n",
       "\t<li>A</li>\n",
       "\t<li>B</li>\n",
       "\t<li>A</li>\n",
       "</ol>\n"
      ],
      "text/latex": [
       "\\begin{enumerate*}\n",
       "\\item A\n",
       "\\item B\n",
       "\\item A\n",
       "\\item B\n",
       "\\item A\n",
       "\\end{enumerate*}\n"
      ],
      "text/markdown": [
       "1. A\n",
       "2. B\n",
       "3. A\n",
       "4. B\n",
       "5. A\n",
       "\n",
       "\n"
      ],
      "text/plain": [
       "[1] A B A B A\n",
       "Levels: A B"
      ]
     },
     "metadata": {},
     "output_type": "display_data"
    },
    {
     "data": {
      "text/html": [
       "<table>\n",
       "<thead><tr><th scope=col>x1</th><th scope=col>x2</th><th scope=col>prob.A</th><th scope=col>prediction</th></tr></thead>\n",
       "<tbody>\n",
       "\t<tr><td>3  </td><td>5  </td><td>0.8</td><td>A  </td></tr>\n",
       "\t<tr><td>2  </td><td>3  </td><td>0.3</td><td>B  </td></tr>\n",
       "\t<tr><td>9  </td><td>3  </td><td>0.6</td><td>A  </td></tr>\n",
       "\t<tr><td>0  </td><td>0  </td><td>0.2</td><td>B  </td></tr>\n",
       "\t<tr><td>3  </td><td>2  </td><td>0.8</td><td>A  </td></tr>\n",
       "</tbody>\n",
       "</table>\n"
      ],
      "text/latex": [
       "\\begin{tabular}{r|llll}\n",
       " x1 & x2 & prob.A & prediction\\\\\n",
       "\\hline\n",
       "\t 3   & 5   & 0.8 & A  \\\\\n",
       "\t 2   & 3   & 0.3 & B  \\\\\n",
       "\t 9   & 3   & 0.6 & A  \\\\\n",
       "\t 0   & 0   & 0.2 & B  \\\\\n",
       "\t 3   & 2   & 0.8 & A  \\\\\n",
       "\\end{tabular}\n"
      ],
      "text/markdown": [
       "\n",
       "x1 | x2 | prob.A | prediction | \n",
       "|---|---|---|---|---|\n",
       "| 3   | 5   | 0.8 | A   | \n",
       "| 2   | 3   | 0.3 | B   | \n",
       "| 9   | 3   | 0.6 | A   | \n",
       "| 0   | 0   | 0.2 | B   | \n",
       "| 3   | 2   | 0.8 | A   | \n",
       "\n",
       "\n"
      ],
      "text/plain": [
       "  x1 x2 prob.A prediction\n",
       "1 3  5  0.8    A         \n",
       "2 2  3  0.3    B         \n",
       "3 9  3  0.6    A         \n",
       "4 0  0  0.2    B         \n",
       "5 3  2  0.8    A         "
      ]
     },
     "metadata": {},
     "output_type": "display_data"
    }
   ],
   "source": [
    "cutoff = 0.5\n",
    "data.frame(cutoff)\n",
    "\n",
    "prediction = as.class(prob, class=\"A\", cutoff)\n",
    "prediction\n",
    "\n",
    "datax$prediction = prediction\n",
    "datax"
   ]
  },
  {
   "cell_type": "markdown",
   "metadata": {},
   "source": [
    "#### Compare the predicted classes vs. the actual classes\n",
    "\n",
    "**hit:** TRUE if predicted value $=$ actual value, FALSE if predicted value $\\ne$ actual value"
   ]
  },
  {
   "cell_type": "code",
   "execution_count": 12,
   "metadata": {},
   "outputs": [
    {
     "data": {
      "text/html": [
       "<ol class=list-inline>\n",
       "\t<li>TRUE</li>\n",
       "\t<li>FALSE</li>\n",
       "\t<li>FALSE</li>\n",
       "\t<li>TRUE</li>\n",
       "\t<li>TRUE</li>\n",
       "</ol>\n"
      ],
      "text/latex": [
       "\\begin{enumerate*}\n",
       "\\item TRUE\n",
       "\\item FALSE\n",
       "\\item FALSE\n",
       "\\item TRUE\n",
       "\\item TRUE\n",
       "\\end{enumerate*}\n"
      ],
      "text/markdown": [
       "1. TRUE\n",
       "2. FALSE\n",
       "3. FALSE\n",
       "4. TRUE\n",
       "5. TRUE\n",
       "\n",
       "\n"
      ],
      "text/plain": [
       "[1]  TRUE FALSE FALSE  TRUE  TRUE"
      ]
     },
     "metadata": {},
     "output_type": "display_data"
    },
    {
     "data": {
      "text/html": [
       "<table>\n",
       "<thead><tr><th scope=col>x1</th><th scope=col>x2</th><th scope=col>prob.A</th><th scope=col>prediction</th><th scope=col>class</th><th scope=col>hit</th></tr></thead>\n",
       "<tbody>\n",
       "\t<tr><td>3    </td><td>5    </td><td>0.8  </td><td>A    </td><td>A    </td><td> TRUE</td></tr>\n",
       "\t<tr><td>2    </td><td>3    </td><td>0.3  </td><td>B    </td><td>A    </td><td>FALSE</td></tr>\n",
       "\t<tr><td>9    </td><td>3    </td><td>0.6  </td><td>A    </td><td>B    </td><td>FALSE</td></tr>\n",
       "\t<tr><td>0    </td><td>0    </td><td>0.2  </td><td>B    </td><td>B    </td><td> TRUE</td></tr>\n",
       "\t<tr><td>3    </td><td>2    </td><td>0.8  </td><td>A    </td><td>A    </td><td> TRUE</td></tr>\n",
       "</tbody>\n",
       "</table>\n"
      ],
      "text/latex": [
       "\\begin{tabular}{r|llllll}\n",
       " x1 & x2 & prob.A & prediction & class & hit\\\\\n",
       "\\hline\n",
       "\t 3     & 5     & 0.8   & A     & A     &  TRUE\\\\\n",
       "\t 2     & 3     & 0.3   & B     & A     & FALSE\\\\\n",
       "\t 9     & 3     & 0.6   & A     & B     & FALSE\\\\\n",
       "\t 0     & 0     & 0.2   & B     & B     &  TRUE\\\\\n",
       "\t 3     & 2     & 0.8   & A     & A     &  TRUE\\\\\n",
       "\\end{tabular}\n"
      ],
      "text/markdown": [
       "\n",
       "x1 | x2 | prob.A | prediction | class | hit | \n",
       "|---|---|---|---|---|\n",
       "| 3     | 5     | 0.8   | A     | A     |  TRUE | \n",
       "| 2     | 3     | 0.3   | B     | A     | FALSE | \n",
       "| 9     | 3     | 0.6   | A     | B     | FALSE | \n",
       "| 0     | 0     | 0.2   | B     | B     |  TRUE | \n",
       "| 3     | 2     | 0.8   | A     | A     |  TRUE | \n",
       "\n",
       "\n"
      ],
      "text/plain": [
       "  x1 x2 prob.A prediction class hit  \n",
       "1 3  5  0.8    A          A      TRUE\n",
       "2 2  3  0.3    B          A     FALSE\n",
       "3 9  3  0.6    A          B     FALSE\n",
       "4 0  0  0.2    B          B      TRUE\n",
       "5 3  2  0.8    A          A      TRUE"
      ]
     },
     "metadata": {},
     "output_type": "display_data"
    }
   ],
   "source": [
    "datax$class = data$class\n",
    "\n",
    "hit = datax$prediction==data$class\n",
    "hit\n",
    "\n",
    "datax$hit = hit\n",
    "datax"
   ]
  },
  {
   "cell_type": "code",
   "execution_count": 13,
   "metadata": {},
   "outputs": [
    {
     "data": {},
     "metadata": {},
     "output_type": "display_data"
    },
    {
     "data": {
      "image/png": "[encoded data removed]",
      "text/plain": [
       "plot without title"
      ]
     },
     "metadata": {},
     "output_type": "display_data"
    }
   ],
   "source": [
    "options(repr.plot.width=2.7, repr.plot.height=3)\n",
    "ggplot(datax) + xlim(0,10) + ylim(0,6) + ggtitle(\"Data\") +\n",
    "geom_point(aes(x=x1, y=x2), color=PALETTE[3], size=10, data=datax[datax$hit,]) +\n",
    "geom_point(aes(x=x1, y=x2, color=factor(class))) +\n",
    "geom_text(aes(x=x1, y=x2), label=\"X\", size=8, data=datax[!datax$hit,]) +\n",
    "scale_color_manual(values=PALETTE) + theme.no_legend\n",
    "options(restore)"
   ]
  },
  {
   "cell_type": "markdown",
   "metadata": {},
   "source": [
    "#### Confusion matrix\n",
    "\n",
    "Confusion matrix summarizes the results of applying a model to make predictions.\n",
    "\n",
    "How to interpret a confusion matrix ...\n",
    "\n",
    "* Rows for class names; they correspond to predicted classes.\n",
    "* Columns for class names; they correspond to actual classes.\n",
    "\n",
    "In this example ...\n",
    "* 2 observations (40%) are predicted to be class A and actually are class A (upper left part confusion matrix)\n",
    "* 1 observation (20%) is predicted to be class A but actually is class B (upper right part of confusion matrix)\n",
    "* 1 observation (20%) is predicted to be class B but actually is class A (lower left part of confusion matrix)\n",
    "* 1 observation (20%) is predicted to be class B and actually is class B (lower right part of confusion matrix)"
   ]
  },
  {
   "cell_type": "code",
   "execution_count": 14,
   "metadata": {},
   "outputs": [
    {
     "data": {
      "text/plain": [
       "          Reference\n",
       "Prediction A B\n",
       "         A 2 1\n",
       "         B 1 1"
      ]
     },
     "metadata": {},
     "output_type": "display_data"
    }
   ],
   "source": [
    "CM = confusionMatrix(datax$prediction, datax$class, positive=\"A\")$table\n",
    "CM"
   ]
  },
  {
   "cell_type": "code",
   "execution_count": 15,
   "metadata": {},
   "outputs": [
    {
     "data": {
      "text/plain": [
       "          Reference\n",
       "Prediction   A   B\n",
       "         A 0.4 0.2\n",
       "         B 0.2 0.2"
      ]
     },
     "metadata": {},
     "output_type": "display_data"
    }
   ],
   "source": [
    "cm = CM / sum(CM)\n",
    "cm"
   ]
  },
  {
   "cell_type": "markdown",
   "metadata": {},
   "source": [
    "#### Performance Metrics\n",
    "\n",
    "Popular model performance metrics can be derived from the confusion matrix.\n",
    "\n",
    "Treat one class name as \"positive\" and the other class name as \"negative\".\n",
    "\n",
    "* **accuracy:** correct predictions / total predictions\n",
    "* **true positive rate (aka sensitivity):** correct positive predictions / positive actuals\n",
    "* **true negative rate (aka specificity):** correct negative predictions / negative actuals\n",
    "* **positive predictive value (aka precision):** correct positive predictions / positive predictions\n",
    "* **negative predictive value:** correct negative predictions / negative predictions"
   ]
  },
  {
   "cell_type": "markdown",
   "metadata": {},
   "source": [
    "In this example ...\n",
    "\n",
    "* Accuracy is 60%\n",
    "* True positive rate is 67% (upper left divided by sum of all left)\n",
    "* True negative rate is 50% (lower right divided by sum of all right)\n",
    "* Positive predictive value is 67% (upper left divided by all upper)\n",
    "* Negative predictive value is 50% (lower right divided by all lower)"
   ]
  },
  {
   "cell_type": "code",
   "execution_count": 16,
   "metadata": {},
   "outputs": [
    {
     "data": {
      "text/html": [
       "<table>\n",
       "<thead><tr><th scope=col>accuracy</th><th scope=col>tpr</th><th scope=col>tnr</th><th scope=col>ppv</th><th scope=col>npv</th></tr></thead>\n",
       "<tbody>\n",
       "\t<tr><td>0.6      </td><td>0.6666667</td><td>0.5      </td><td>0.6666667</td><td>0.5      </td></tr>\n",
       "</tbody>\n",
       "</table>\n"
      ],
      "text/latex": [
       "\\begin{tabular}{r|lllll}\n",
       " accuracy & tpr & tnr & ppv & npv\\\\\n",
       "\\hline\n",
       "\t 0.6       & 0.6666667 & 0.5       & 0.6666667 & 0.5      \\\\\n",
       "\\end{tabular}\n"
      ],
      "text/markdown": [
       "\n",
       "accuracy | tpr | tnr | ppv | npv | \n",
       "|---|\n",
       "| 0.6       | 0.6666667 | 0.5       | 0.6666667 | 0.5       | \n",
       "\n",
       "\n"
      ],
      "text/plain": [
       "  accuracy tpr       tnr ppv       npv\n",
       "1 0.6      0.6666667 0.5 0.6666667 0.5"
      ]
     },
     "metadata": {},
     "output_type": "display_data"
    }
   ],
   "source": [
    "accuracy = (cm[1,1]+cm[2,2])/sum(cm)\n",
    "tpr = cm[1,1]/sum(cm[,1])\n",
    "tnr = cm[2,2]/sum(cm[,2])\n",
    "ppv = cm[1,1]/sum(cm[1,])\n",
    "npv = cm[2,2]/sum(cm[2,])\n",
    "\n",
    "data.frame(accuracy, tpr, tnr, ppv, npv)"
   ]
  },
  {
   "cell_type": "markdown",
   "metadata": {},
   "source": [
    "### Sampling for Evaluation"
   ]
  },
  {
   "cell_type": "markdown",
   "metadata": {},
   "source": [
    "#### In-Sample Performance\n",
    "\n",
    "Use all the data to construct the model and use all the data to evaluate the model. "
   ]
  },
  {
   "cell_type": "code",
   "execution_count": 17,
   "metadata": {},
   "outputs": [
    {
     "data": {
      "text/html": [
       "<table>\n",
       "<thead><tr><th scope=col>x1</th><th scope=col>x2</th><th scope=col>class</th></tr></thead>\n",
       "<tbody>\n",
       "\t<tr><td>3</td><td>5</td><td>A</td></tr>\n",
       "\t<tr><td>2</td><td>3</td><td>A</td></tr>\n",
       "\t<tr><td>9</td><td>3</td><td>B</td></tr>\n",
       "\t<tr><td>0</td><td>0</td><td>B</td></tr>\n",
       "\t<tr><td>3</td><td>2</td><td>A</td></tr>\n",
       "</tbody>\n",
       "</table>\n"
      ],
      "text/latex": [
       "\\begin{tabular}{r|lll}\n",
       " x1 & x2 & class\\\\\n",
       "\\hline\n",
       "\t 3 & 5 & A\\\\\n",
       "\t 2 & 3 & A\\\\\n",
       "\t 9 & 3 & B\\\\\n",
       "\t 0 & 0 & B\\\\\n",
       "\t 3 & 2 & A\\\\\n",
       "\\end{tabular}\n"
      ],
      "text/markdown": [
       "\n",
       "x1 | x2 | class | \n",
       "|---|---|---|---|---|\n",
       "| 3 | 5 | A | \n",
       "| 2 | 3 | A | \n",
       "| 9 | 3 | B | \n",
       "| 0 | 0 | B | \n",
       "| 3 | 2 | A | \n",
       "\n",
       "\n"
      ],
      "text/plain": [
       "  x1 x2 class\n",
       "1 3  5  A    \n",
       "2 2  3  A    \n",
       "3 9  3  B    \n",
       "4 0  0  B    \n",
       "5 3  2  A    "
      ]
     },
     "metadata": {},
     "output_type": "display_data"
    }
   ],
   "source": [
    "data = data.frame(x1=c(3,2,9,0,3), x2=c(5,3,3,0,2), class=c(\"A\",\"A\",\"B\",\"B\",\"A\"))\n",
    "data"
   ]
  },
  {
   "cell_type": "code",
   "execution_count": 18,
   "metadata": {},
   "outputs": [],
   "source": [
    "model = my_predictive_analytic_method(class ~ x1+x2, data, hyperparameter=0)"
   ]
  },
  {
   "cell_type": "code",
   "execution_count": 19,
   "metadata": {},
   "outputs": [
    {
     "data": {
      "text/html": [
       "<table>\n",
       "<thead><tr><th scope=col>cutoff</th></tr></thead>\n",
       "<tbody>\n",
       "\t<tr><td>0.5</td></tr>\n",
       "</tbody>\n",
       "</table>\n"
      ],
      "text/latex": [
       "\\begin{tabular}{r|l}\n",
       " cutoff\\\\\n",
       "\\hline\n",
       "\t 0.5\\\\\n",
       "\\end{tabular}\n"
      ],
      "text/markdown": [
       "\n",
       "cutoff | \n",
       "|---|\n",
       "| 0.5 | \n",
       "\n",
       "\n"
      ],
      "text/plain": [
       "  cutoff\n",
       "1 0.5   "
      ]
     },
     "metadata": {},
     "output_type": "display_data"
    },
    {
     "data": {
      "text/html": [
       "<table>\n",
       "<thead><tr><th scope=col>x1</th><th scope=col>x2</th><th scope=col>prob.A</th><th scope=col>prediction</th><th scope=col>class</th><th scope=col>hit</th></tr></thead>\n",
       "<tbody>\n",
       "\t<tr><td>3    </td><td>5    </td><td>0.8  </td><td>A    </td><td>A    </td><td> TRUE</td></tr>\n",
       "\t<tr><td>2    </td><td>3    </td><td>0.3  </td><td>B    </td><td>A    </td><td>FALSE</td></tr>\n",
       "\t<tr><td>9    </td><td>3    </td><td>0.6  </td><td>A    </td><td>B    </td><td>FALSE</td></tr>\n",
       "\t<tr><td>0    </td><td>0    </td><td>0.2  </td><td>B    </td><td>B    </td><td> TRUE</td></tr>\n",
       "\t<tr><td>3    </td><td>2    </td><td>0.8  </td><td>A    </td><td>A    </td><td> TRUE</td></tr>\n",
       "</tbody>\n",
       "</table>\n"
      ],
      "text/latex": [
       "\\begin{tabular}{r|llllll}\n",
       " x1 & x2 & prob.A & prediction & class & hit\\\\\n",
       "\\hline\n",
       "\t 3     & 5     & 0.8   & A     & A     &  TRUE\\\\\n",
       "\t 2     & 3     & 0.3   & B     & A     & FALSE\\\\\n",
       "\t 9     & 3     & 0.6   & A     & B     & FALSE\\\\\n",
       "\t 0     & 0     & 0.2   & B     & B     &  TRUE\\\\\n",
       "\t 3     & 2     & 0.8   & A     & A     &  TRUE\\\\\n",
       "\\end{tabular}\n"
      ],
      "text/markdown": [
       "\n",
       "x1 | x2 | prob.A | prediction | class | hit | \n",
       "|---|---|---|---|---|\n",
       "| 3     | 5     | 0.8   | A     | A     |  TRUE | \n",
       "| 2     | 3     | 0.3   | B     | A     | FALSE | \n",
       "| 9     | 3     | 0.6   | A     | B     | FALSE | \n",
       "| 0     | 0     | 0.2   | B     | B     |  TRUE | \n",
       "| 3     | 2     | 0.8   | A     | A     |  TRUE | \n",
       "\n",
       "\n"
      ],
      "text/plain": [
       "  x1 x2 prob.A prediction class hit  \n",
       "1 3  5  0.8    A          A      TRUE\n",
       "2 2  3  0.3    B          A     FALSE\n",
       "3 9  3  0.6    A          B     FALSE\n",
       "4 0  0  0.2    B          B      TRUE\n",
       "5 3  2  0.8    A          A      TRUE"
      ]
     },
     "metadata": {},
     "output_type": "display_data"
    },
    {
     "data": {
      "text/plain": [
       "          Reference\n",
       "Prediction   A   B\n",
       "         A 0.4 0.2\n",
       "         B 0.2 0.2"
      ]
     },
     "metadata": {},
     "output_type": "display_data"
    },
    {
     "data": {
      "text/html": [
       "<table>\n",
       "<thead><tr><th scope=col>accuracy</th></tr></thead>\n",
       "<tbody>\n",
       "\t<tr><td>0.6</td></tr>\n",
       "</tbody>\n",
       "</table>\n"
      ],
      "text/latex": [
       "\\begin{tabular}{r|l}\n",
       " accuracy\\\\\n",
       "\\hline\n",
       "\t 0.6\\\\\n",
       "\\end{tabular}\n"
      ],
      "text/markdown": [
       "\n",
       "accuracy | \n",
       "|---|\n",
       "| 0.6 | \n",
       "\n",
       "\n"
      ],
      "text/plain": [
       "  accuracy\n",
       "1 0.6     "
      ]
     },
     "metadata": {},
     "output_type": "display_data"
    }
   ],
   "source": [
    "cutoff = 0.5\n",
    "data.frame(cutoff)\n",
    "\n",
    "datax = data[, colnames(data)!=\"class\"]\n",
    "\n",
    "prob = my_predict(model, datax)\n",
    "datax$prob.A = prob$A\n",
    "prediction = as.class(prob, class=\"A\", cutoff)\n",
    "datax$prediction = prediction\n",
    "\n",
    "datax$class = data$class\n",
    "\n",
    "hit = datax$prediction==data$class\n",
    "datax$hit = hit\n",
    "datax\n",
    "\n",
    "CM = confusionMatrix(datax$prediction, datax$class)$table\n",
    "cm = CM / sum(CM)\n",
    "cm\n",
    "\n",
    "accuracy = (cm[1,1]+cm[2,2])/sum(cm)\n",
    "data.frame(accuracy)"
   ]
  },
  {
   "cell_type": "code",
   "execution_count": 20,
   "metadata": {},
   "outputs": [
    {
     "data": {},
     "metadata": {},
     "output_type": "display_data"
    },
    {
     "data": {
      "image/png": "[encoded data removed]",
      "text/plain": [
       "plot without title"
      ]
     },
     "metadata": {},
     "output_type": "display_data"
    }
   ],
   "source": [
    "options(repr.plot.width=2.7, repr.plot.height=3)\n",
    "ggplot(datax) + xlim(0,10) + ylim(0,6) + ggtitle(\"Data\") +\n",
    "geom_point(aes(x=x1, y=x2), color=PALETTE[3], size=10, data=datax[datax$hit,]) +\n",
    "geom_point(aes(x=x1, y=x2, color=factor(class))) +\n",
    "geom_text(aes(x=x1, y=x2), label=\"X\", size=8, data=datax[!datax$hit,]) +\n",
    "scale_color_manual(values=PALETTE) + theme.no_legend\n",
    "options(restore)"
   ]
  },
  {
   "cell_type": "markdown",
   "metadata": {},
   "source": [
    "#### Out-of-Sample Performance (aka Holdout Performance) \n",
    "\n",
    "Considered a better estimate of performance. Uses only some of the data to build a model, uses only some of the data to test a model, but uses different data for build and test. "
   ]
  },
  {
   "cell_type": "code",
   "execution_count": 21,
   "metadata": {},
   "outputs": [
    {
     "data": {
      "text/html": [
       "<table>\n",
       "<thead><tr><th scope=col>x1</th><th scope=col>x2</th><th scope=col>class</th></tr></thead>\n",
       "<tbody>\n",
       "\t<tr><td>3</td><td>5</td><td>A</td></tr>\n",
       "\t<tr><td>2</td><td>3</td><td>A</td></tr>\n",
       "\t<tr><td>9</td><td>3</td><td>B</td></tr>\n",
       "\t<tr><td>0</td><td>0</td><td>B</td></tr>\n",
       "\t<tr><td>3</td><td>2</td><td>A</td></tr>\n",
       "</tbody>\n",
       "</table>\n"
      ],
      "text/latex": [
       "\\begin{tabular}{r|lll}\n",
       " x1 & x2 & class\\\\\n",
       "\\hline\n",
       "\t 3 & 5 & A\\\\\n",
       "\t 2 & 3 & A\\\\\n",
       "\t 9 & 3 & B\\\\\n",
       "\t 0 & 0 & B\\\\\n",
       "\t 3 & 2 & A\\\\\n",
       "\\end{tabular}\n"
      ],
      "text/markdown": [
       "\n",
       "x1 | x2 | class | \n",
       "|---|---|---|---|---|\n",
       "| 3 | 5 | A | \n",
       "| 2 | 3 | A | \n",
       "| 9 | 3 | B | \n",
       "| 0 | 0 | B | \n",
       "| 3 | 2 | A | \n",
       "\n",
       "\n"
      ],
      "text/plain": [
       "  x1 x2 class\n",
       "1 3  5  A    \n",
       "2 2  3  A    \n",
       "3 9  3  B    \n",
       "4 0  0  B    \n",
       "5 3  2  A    "
      ]
     },
     "metadata": {},
     "output_type": "display_data"
    }
   ],
   "source": [
    "data = data.frame(x1=c(3,2,9,0,3), x2=c(5,3,3,0,2), class=c(\"A\",\"A\",\"B\",\"B\",\"A\"))\n",
    "data"
   ]
  },
  {
   "cell_type": "markdown",
   "metadata": {},
   "source": [
    "Reserve some fraction of the data as the holdout.\n",
    "\n",
    "In this example, we reserve 40% of the data as the holdout.  The rest of the data is the holdin. "
   ]
  },
  {
   "cell_type": "code",
   "execution_count": 22,
   "metadata": {
    "scrolled": true
   },
   "outputs": [
    {
     "data": {
      "text/html": [
       "<ol class=list-inline>\n",
       "\t<li>1</li>\n",
       "\t<li>3</li>\n",
       "</ol>\n"
      ],
      "text/latex": [
       "\\begin{enumerate*}\n",
       "\\item 1\n",
       "\\item 3\n",
       "\\end{enumerate*}\n"
      ],
      "text/markdown": [
       "1. 1\n",
       "2. 3\n",
       "\n",
       "\n"
      ],
      "text/plain": [
       "[1] 1 3"
      ]
     },
     "metadata": {},
     "output_type": "display_data"
    },
    {
     "data": {
      "text/html": [
       "<ol class=list-inline>\n",
       "\t<li>2</li>\n",
       "\t<li>4</li>\n",
       "\t<li>5</li>\n",
       "</ol>\n"
      ],
      "text/latex": [
       "\\begin{enumerate*}\n",
       "\\item 2\n",
       "\\item 4\n",
       "\\item 5\n",
       "\\end{enumerate*}\n"
      ],
      "text/markdown": [
       "1. 2\n",
       "2. 4\n",
       "3. 5\n",
       "\n",
       "\n"
      ],
      "text/plain": [
       "[1] 2 4 5"
      ]
     },
     "metadata": {},
     "output_type": "display_data"
    },
    {
     "data": {
      "text/html": [
       "<table>\n",
       "<thead><tr><th></th><th scope=col>x1</th><th scope=col>x2</th><th scope=col>class</th></tr></thead>\n",
       "<tbody>\n",
       "\t<tr><th scope=row>1</th><td>3</td><td>5</td><td>A</td></tr>\n",
       "\t<tr><th scope=row>3</th><td>9</td><td>3</td><td>B</td></tr>\n",
       "</tbody>\n",
       "</table>\n"
      ],
      "text/latex": [
       "\\begin{tabular}{r|lll}\n",
       "  & x1 & x2 & class\\\\\n",
       "\\hline\n",
       "\t1 & 3 & 5 & A\\\\\n",
       "\t3 & 9 & 3 & B\\\\\n",
       "\\end{tabular}\n"
      ],
      "text/markdown": [
       "\n",
       "| <!--/--> | x1 | x2 | class | \n",
       "|---|---|\n",
       "| 1 | 3 | 5 | A | \n",
       "| 3 | 9 | 3 | B | \n",
       "\n",
       "\n"
      ],
      "text/plain": [
       "  x1 x2 class\n",
       "1 3  5  A    \n",
       "3 9  3  B    "
      ]
     },
     "metadata": {},
     "output_type": "display_data"
    },
    {
     "data": {
      "text/html": [
       "<table>\n",
       "<thead><tr><th></th><th scope=col>x1</th><th scope=col>x2</th><th scope=col>class</th></tr></thead>\n",
       "<tbody>\n",
       "\t<tr><th scope=row>2</th><td>2</td><td>3</td><td>A</td></tr>\n",
       "\t<tr><th scope=row>4</th><td>0</td><td>0</td><td>B</td></tr>\n",
       "\t<tr><th scope=row>5</th><td>3</td><td>2</td><td>A</td></tr>\n",
       "</tbody>\n",
       "</table>\n"
      ],
      "text/latex": [
       "\\begin{tabular}{r|lll}\n",
       "  & x1 & x2 & class\\\\\n",
       "\\hline\n",
       "\t2 & 2 & 3 & A\\\\\n",
       "\t4 & 0 & 0 & B\\\\\n",
       "\t5 & 3 & 2 & A\\\\\n",
       "\\end{tabular}\n"
      ],
      "text/markdown": [
       "\n",
       "| <!--/--> | x1 | x2 | class | \n",
       "|---|---|---|\n",
       "| 2 | 2 | 3 | A | \n",
       "| 4 | 0 | 0 | B | \n",
       "| 5 | 3 | 2 | A | \n",
       "\n",
       "\n"
      ],
      "text/plain": [
       "  x1 x2 class\n",
       "2 2  3  A    \n",
       "4 0  0  B    \n",
       "5 3  2  A    "
      ]
     },
     "metadata": {},
     "output_type": "display_data"
    }
   ],
   "source": [
    "set.seed(1234)\n",
    "holdout = sample(1:nrow(data), 0.40*nrow(data))\n",
    "holdin = setdiff(1:nrow(data), holdout)\n",
    "holdout\n",
    "holdin\n",
    "\n",
    "data.holdout = data[holdout,]\n",
    "data.holdin  = data[holdin,]\n",
    "data.holdout\n",
    "data.holdin"
   ]
  },
  {
   "cell_type": "markdown",
   "metadata": {},
   "source": [
    "Construct a model based on the holdin data. This will not be the same model that was constructed based on all the data, but it will be constructed using the same predictive analytic method."
   ]
  },
  {
   "cell_type": "code",
   "execution_count": 23,
   "metadata": {},
   "outputs": [],
   "source": [
    "model = my_predictive_analytic_method(class ~ x1+x2, data.holdin, hyperparameter=0)"
   ]
  },
  {
   "cell_type": "markdown",
   "metadata": {},
   "source": [
    "Estimate performance of model based on holdout data. \n",
    "\n",
    "In this example, we use accuracy as the measure of performance."
   ]
  },
  {
   "cell_type": "code",
   "execution_count": 24,
   "metadata": {},
   "outputs": [
    {
     "data": {
      "text/html": [
       "<table>\n",
       "<thead><tr><th scope=col>cutoff</th></tr></thead>\n",
       "<tbody>\n",
       "\t<tr><td>0.5</td></tr>\n",
       "</tbody>\n",
       "</table>\n"
      ],
      "text/latex": [
       "\\begin{tabular}{r|l}\n",
       " cutoff\\\\\n",
       "\\hline\n",
       "\t 0.5\\\\\n",
       "\\end{tabular}\n"
      ],
      "text/markdown": [
       "\n",
       "cutoff | \n",
       "|---|\n",
       "| 0.5 | \n",
       "\n",
       "\n"
      ],
      "text/plain": [
       "  cutoff\n",
       "1 0.5   "
      ]
     },
     "metadata": {},
     "output_type": "display_data"
    },
    {
     "data": {
      "text/html": [
       "<table>\n",
       "<thead><tr><th></th><th scope=col>x1</th><th scope=col>x2</th><th scope=col>prob.A</th><th scope=col>prediction</th><th scope=col>class</th><th scope=col>hit</th></tr></thead>\n",
       "<tbody>\n",
       "\t<tr><th scope=row>1</th><td>3    </td><td>5    </td><td>0.6  </td><td>A    </td><td>A    </td><td> TRUE</td></tr>\n",
       "\t<tr><th scope=row>3</th><td>9    </td><td>3    </td><td>0.9  </td><td>A    </td><td>B    </td><td>FALSE</td></tr>\n",
       "</tbody>\n",
       "</table>\n"
      ],
      "text/latex": [
       "\\begin{tabular}{r|llllll}\n",
       "  & x1 & x2 & prob.A & prediction & class & hit\\\\\n",
       "\\hline\n",
       "\t1 & 3     & 5     & 0.6   & A     & A     &  TRUE\\\\\n",
       "\t3 & 9     & 3     & 0.9   & A     & B     & FALSE\\\\\n",
       "\\end{tabular}\n"
      ],
      "text/markdown": [
       "\n",
       "| <!--/--> | x1 | x2 | prob.A | prediction | class | hit | \n",
       "|---|---|\n",
       "| 1 | 3     | 5     | 0.6   | A     | A     |  TRUE | \n",
       "| 3 | 9     | 3     | 0.9   | A     | B     | FALSE | \n",
       "\n",
       "\n"
      ],
      "text/plain": [
       "  x1 x2 prob.A prediction class hit  \n",
       "1 3  5  0.6    A          A      TRUE\n",
       "3 9  3  0.9    A          B     FALSE"
      ]
     },
     "metadata": {},
     "output_type": "display_data"
    },
    {
     "data": {
      "text/plain": [
       "          Reference\n",
       "Prediction   A   B\n",
       "         A 0.5 0.5\n",
       "         B 0.0 0.0"
      ]
     },
     "metadata": {},
     "output_type": "display_data"
    },
    {
     "data": {
      "text/html": [
       "<table>\n",
       "<thead><tr><th scope=col>accuracy</th></tr></thead>\n",
       "<tbody>\n",
       "\t<tr><td>0.5</td></tr>\n",
       "</tbody>\n",
       "</table>\n"
      ],
      "text/latex": [
       "\\begin{tabular}{r|l}\n",
       " accuracy\\\\\n",
       "\\hline\n",
       "\t 0.5\\\\\n",
       "\\end{tabular}\n"
      ],
      "text/markdown": [
       "\n",
       "accuracy | \n",
       "|---|\n",
       "| 0.5 | \n",
       "\n",
       "\n"
      ],
      "text/plain": [
       "  accuracy\n",
       "1 0.5     "
      ]
     },
     "metadata": {},
     "output_type": "display_data"
    }
   ],
   "source": [
    "cutoff = 0.5\n",
    "data.frame(cutoff)\n",
    "\n",
    "datax.holdout = data.holdout[, colnames(data.holdout)!=\"class\"]\n",
    "\n",
    "prob = my_predict(model, datax.holdout)\n",
    "datax.holdout$prob.A = prob$A\n",
    "prediction = as.class(prob, class=\"A\", cutoff)\n",
    "datax.holdout$prediction = prediction\n",
    "\n",
    "datax.holdout$class = data.holdout$class\n",
    "\n",
    "hit = datax.holdout$prediction==data.holdout$class\n",
    "datax.holdout$hit = hit\n",
    "datax.holdout\n",
    "\n",
    "CM = confusionMatrix(datax.holdout$prediction, datax.holdout$class)$table\n",
    "cm = CM / sum(CM)\n",
    "cm\n",
    "\n",
    "accuracy = (cm[1,1]+cm[2,2])/sum(cm)\n",
    "data.frame(accuracy)"
   ]
  },
  {
   "cell_type": "code",
   "execution_count": 25,
   "metadata": {},
   "outputs": [
    {
     "data": {},
     "metadata": {},
     "output_type": "display_data"
    },
    {
     "data": {
      "image/png": "[encoded data removed]",
      "text/plain": [
       "plot without title"
      ]
     },
     "metadata": {},
     "output_type": "display_data"
    }
   ],
   "source": [
    "options(repr.plot.width=2.7, repr.plot.height=3)\n",
    "ggplot(datax.holdout) + xlim(0,10) + ylim(0,6) + ggtitle(\"Holdout Data\") +\n",
    "geom_point(aes(x=x1, y=x2), color=PALETTE[3], size=10, data=datax.holdout[datax.holdout$hit,]) +\n",
    "geom_point(aes(x=x1, y=x2, color=factor(class))) +\n",
    "geom_text(aes(x=x1, y=x2), label=\"X\", size=8, data=datax.holdout[!datax.holdout$hit,]) +\n",
    "scale_color_manual(values=PALETTE) + theme.no_legend\n",
    "options(restore)"
   ]
  },
  {
   "cell_type": "markdown",
   "metadata": {},
   "source": [
    "#### Cross-Validation Performance\n",
    "\n",
    "Considered to be among the best estimates of performance.  Uses all of the data to build a model, uses all of the data to test a model, and uses different data to build and test."
   ]
  },
  {
   "cell_type": "code",
   "execution_count": 26,
   "metadata": {},
   "outputs": [
    {
     "data": {
      "text/html": [
       "<table>\n",
       "<thead><tr><th scope=col>x1</th><th scope=col>x2</th><th scope=col>class</th></tr></thead>\n",
       "<tbody>\n",
       "\t<tr><td>3</td><td>5</td><td>A</td></tr>\n",
       "\t<tr><td>2</td><td>3</td><td>A</td></tr>\n",
       "\t<tr><td>9</td><td>3</td><td>B</td></tr>\n",
       "\t<tr><td>0</td><td>0</td><td>B</td></tr>\n",
       "\t<tr><td>3</td><td>2</td><td>A</td></tr>\n",
       "</tbody>\n",
       "</table>\n"
      ],
      "text/latex": [
       "\\begin{tabular}{r|lll}\n",
       " x1 & x2 & class\\\\\n",
       "\\hline\n",
       "\t 3 & 5 & A\\\\\n",
       "\t 2 & 3 & A\\\\\n",
       "\t 9 & 3 & B\\\\\n",
       "\t 0 & 0 & B\\\\\n",
       "\t 3 & 2 & A\\\\\n",
       "\\end{tabular}\n"
      ],
      "text/markdown": [
       "\n",
       "x1 | x2 | class | \n",
       "|---|---|---|---|---|\n",
       "| 3 | 5 | A | \n",
       "| 2 | 3 | A | \n",
       "| 9 | 3 | B | \n",
       "| 0 | 0 | B | \n",
       "| 3 | 2 | A | \n",
       "\n",
       "\n"
      ],
      "text/plain": [
       "  x1 x2 class\n",
       "1 3  5  A    \n",
       "2 2  3  A    \n",
       "3 9  3  B    \n",
       "4 0  0  B    \n",
       "5 3  2  A    "
      ]
     },
     "metadata": {},
     "output_type": "display_data"
    }
   ],
   "source": [
    "data = data.frame(x1=c(3,2,9,0,3), x2=c(5,3,3,0,2), class=c(\"A\",\"A\",\"B\",\"B\",\"A\"))\n",
    "data"
   ]
  },
  {
   "cell_type": "markdown",
   "metadata": {},
   "source": [
    "Define folds: Randomly partition the data into approximately equal-sized, non-overlapping subsets of observations.  You choose the number of subsets.  Then, for each subset, define a fold comprising test data and train data, where the test data is the subset and the train data is the rest.\n",
    "\n",
    "In this example, we choose 3 subsets, and so 3 folds."
   ]
  },
  {
   "cell_type": "code",
   "execution_count": 27,
   "metadata": {},
   "outputs": [
    {
     "data": {
      "text/html": [
       "<dl>\n",
       "\t<dt>$Fold1</dt>\n",
       "\t\t<dd><ol class=list-inline>\n",
       "\t<li>4</li>\n",
       "\t<li>5</li>\n",
       "</ol>\n",
       "</dd>\n",
       "\t<dt>$Fold2</dt>\n",
       "\t\t<dd>2</dd>\n",
       "\t<dt>$Fold3</dt>\n",
       "\t\t<dd><ol class=list-inline>\n",
       "\t<li>1</li>\n",
       "\t<li>3</li>\n",
       "</ol>\n",
       "</dd>\n",
       "</dl>\n"
      ],
      "text/latex": [
       "\\begin{description}\n",
       "\\item[\\$Fold1] \\begin{enumerate*}\n",
       "\\item 4\n",
       "\\item 5\n",
       "\\end{enumerate*}\n",
       "\n",
       "\\item[\\$Fold2] 2\n",
       "\\item[\\$Fold3] \\begin{enumerate*}\n",
       "\\item 1\n",
       "\\item 3\n",
       "\\end{enumerate*}\n",
       "\n",
       "\\end{description}\n"
      ],
      "text/markdown": [
       "$Fold1\n",
       ":   1. 4\n",
       "2. 5\n",
       "\n",
       "\n",
       "\n",
       "$Fold2\n",
       ":   2\n",
       "$Fold3\n",
       ":   1. 1\n",
       "2. 3\n",
       "\n",
       "\n",
       "\n",
       "\n",
       "\n"
      ],
      "text/plain": [
       "$Fold1\n",
       "[1] 4 5\n",
       "\n",
       "$Fold2\n",
       "[1] 2\n",
       "\n",
       "$Fold3\n",
       "[1] 1 3\n"
      ]
     },
     "metadata": {},
     "output_type": "display_data"
    }
   ],
   "source": [
    "set.seed(12345)\n",
    "fold = createFolds(data$class, k=3)\n",
    "fold"
   ]
  },
  {
   "cell_type": "markdown",
   "metadata": {},
   "source": [
    "Here are the train and test data of fold #1."
   ]
  },
  {
   "cell_type": "code",
   "execution_count": 28,
   "metadata": {},
   "outputs": [
    {
     "data": {
      "text/html": [
       "<table>\n",
       "<thead><tr><th scope=col>x1</th><th scope=col>x2</th><th scope=col>class</th></tr></thead>\n",
       "<tbody>\n",
       "\t<tr><td>3</td><td>5</td><td>A</td></tr>\n",
       "\t<tr><td>2</td><td>3</td><td>A</td></tr>\n",
       "\t<tr><td>9</td><td>3</td><td>B</td></tr>\n",
       "</tbody>\n",
       "</table>\n"
      ],
      "text/latex": [
       "\\begin{tabular}{r|lll}\n",
       " x1 & x2 & class\\\\\n",
       "\\hline\n",
       "\t 3 & 5 & A\\\\\n",
       "\t 2 & 3 & A\\\\\n",
       "\t 9 & 3 & B\\\\\n",
       "\\end{tabular}\n"
      ],
      "text/markdown": [
       "\n",
       "x1 | x2 | class | \n",
       "|---|---|---|\n",
       "| 3 | 5 | A | \n",
       "| 2 | 3 | A | \n",
       "| 9 | 3 | B | \n",
       "\n",
       "\n"
      ],
      "text/plain": [
       "  x1 x2 class\n",
       "1 3  5  A    \n",
       "2 2  3  A    \n",
       "3 9  3  B    "
      ]
     },
     "metadata": {},
     "output_type": "display_data"
    },
    {
     "data": {
      "text/html": [
       "<table>\n",
       "<thead><tr><th></th><th scope=col>x1</th><th scope=col>x2</th><th scope=col>class</th></tr></thead>\n",
       "<tbody>\n",
       "\t<tr><th scope=row>4</th><td>0</td><td>0</td><td>B</td></tr>\n",
       "\t<tr><th scope=row>5</th><td>3</td><td>2</td><td>A</td></tr>\n",
       "</tbody>\n",
       "</table>\n"
      ],
      "text/latex": [
       "\\begin{tabular}{r|lll}\n",
       "  & x1 & x2 & class\\\\\n",
       "\\hline\n",
       "\t4 & 0 & 0 & B\\\\\n",
       "\t5 & 3 & 2 & A\\\\\n",
       "\\end{tabular}\n"
      ],
      "text/markdown": [
       "\n",
       "| <!--/--> | x1 | x2 | class | \n",
       "|---|---|\n",
       "| 4 | 0 | 0 | B | \n",
       "| 5 | 3 | 2 | A | \n",
       "\n",
       "\n"
      ],
      "text/plain": [
       "  x1 x2 class\n",
       "4 0  0  B    \n",
       "5 3  2  A    "
      ]
     },
     "metadata": {},
     "output_type": "display_data"
    }
   ],
   "source": [
    "data_1.train = data[setdiff(1:nrow(data), fold$Fold1),]\n",
    "data_1.test  = data[fold$Fold1,]\n",
    "\n",
    "data_1.train\n",
    "data_1.test"
   ]
  },
  {
   "cell_type": "markdown",
   "metadata": {},
   "source": [
    "Here are the train and test data of fold #2."
   ]
  },
  {
   "cell_type": "code",
   "execution_count": 29,
   "metadata": {
    "scrolled": true
   },
   "outputs": [
    {
     "data": {
      "text/html": [
       "<table>\n",
       "<thead><tr><th></th><th scope=col>x1</th><th scope=col>x2</th><th scope=col>class</th></tr></thead>\n",
       "<tbody>\n",
       "\t<tr><th scope=row>1</th><td>3</td><td>5</td><td>A</td></tr>\n",
       "\t<tr><th scope=row>3</th><td>9</td><td>3</td><td>B</td></tr>\n",
       "\t<tr><th scope=row>4</th><td>0</td><td>0</td><td>B</td></tr>\n",
       "\t<tr><th scope=row>5</th><td>3</td><td>2</td><td>A</td></tr>\n",
       "</tbody>\n",
       "</table>\n"
      ],
      "text/latex": [
       "\\begin{tabular}{r|lll}\n",
       "  & x1 & x2 & class\\\\\n",
       "\\hline\n",
       "\t1 & 3 & 5 & A\\\\\n",
       "\t3 & 9 & 3 & B\\\\\n",
       "\t4 & 0 & 0 & B\\\\\n",
       "\t5 & 3 & 2 & A\\\\\n",
       "\\end{tabular}\n"
      ],
      "text/markdown": [
       "\n",
       "| <!--/--> | x1 | x2 | class | \n",
       "|---|---|---|---|\n",
       "| 1 | 3 | 5 | A | \n",
       "| 3 | 9 | 3 | B | \n",
       "| 4 | 0 | 0 | B | \n",
       "| 5 | 3 | 2 | A | \n",
       "\n",
       "\n"
      ],
      "text/plain": [
       "  x1 x2 class\n",
       "1 3  5  A    \n",
       "3 9  3  B    \n",
       "4 0  0  B    \n",
       "5 3  2  A    "
      ]
     },
     "metadata": {},
     "output_type": "display_data"
    },
    {
     "data": {
      "text/html": [
       "<table>\n",
       "<thead><tr><th></th><th scope=col>x1</th><th scope=col>x2</th><th scope=col>class</th></tr></thead>\n",
       "<tbody>\n",
       "\t<tr><th scope=row>2</th><td>2</td><td>3</td><td>A</td></tr>\n",
       "</tbody>\n",
       "</table>\n"
      ],
      "text/latex": [
       "\\begin{tabular}{r|lll}\n",
       "  & x1 & x2 & class\\\\\n",
       "\\hline\n",
       "\t2 & 2 & 3 & A\\\\\n",
       "\\end{tabular}\n"
      ],
      "text/markdown": [
       "\n",
       "| <!--/--> | x1 | x2 | class | \n",
       "|---|\n",
       "| 2 | 2 | 3 | A | \n",
       "\n",
       "\n"
      ],
      "text/plain": [
       "  x1 x2 class\n",
       "2 2  3  A    "
      ]
     },
     "metadata": {},
     "output_type": "display_data"
    }
   ],
   "source": [
    "data_2.train = data[setdiff(1:nrow(data), fold$Fold2),]\n",
    "data_2.test  = data[fold$Fold2,]\n",
    "\n",
    "data_2.train\n",
    "data_2.test"
   ]
  },
  {
   "cell_type": "markdown",
   "metadata": {},
   "source": [
    "Here are the train and test data of fold #3."
   ]
  },
  {
   "cell_type": "code",
   "execution_count": 30,
   "metadata": {},
   "outputs": [
    {
     "data": {
      "text/html": [
       "<table>\n",
       "<thead><tr><th></th><th scope=col>x1</th><th scope=col>x2</th><th scope=col>class</th></tr></thead>\n",
       "<tbody>\n",
       "\t<tr><th scope=row>2</th><td>2</td><td>3</td><td>A</td></tr>\n",
       "\t<tr><th scope=row>4</th><td>0</td><td>0</td><td>B</td></tr>\n",
       "\t<tr><th scope=row>5</th><td>3</td><td>2</td><td>A</td></tr>\n",
       "</tbody>\n",
       "</table>\n"
      ],
      "text/latex": [
       "\\begin{tabular}{r|lll}\n",
       "  & x1 & x2 & class\\\\\n",
       "\\hline\n",
       "\t2 & 2 & 3 & A\\\\\n",
       "\t4 & 0 & 0 & B\\\\\n",
       "\t5 & 3 & 2 & A\\\\\n",
       "\\end{tabular}\n"
      ],
      "text/markdown": [
       "\n",
       "| <!--/--> | x1 | x2 | class | \n",
       "|---|---|---|\n",
       "| 2 | 2 | 3 | A | \n",
       "| 4 | 0 | 0 | B | \n",
       "| 5 | 3 | 2 | A | \n",
       "\n",
       "\n"
      ],
      "text/plain": [
       "  x1 x2 class\n",
       "2 2  3  A    \n",
       "4 0  0  B    \n",
       "5 3  2  A    "
      ]
     },
     "metadata": {},
     "output_type": "display_data"
    },
    {
     "data": {
      "text/html": [
       "<table>\n",
       "<thead><tr><th></th><th scope=col>x1</th><th scope=col>x2</th><th scope=col>class</th></tr></thead>\n",
       "<tbody>\n",
       "\t<tr><th scope=row>1</th><td>3</td><td>5</td><td>A</td></tr>\n",
       "\t<tr><th scope=row>3</th><td>9</td><td>3</td><td>B</td></tr>\n",
       "</tbody>\n",
       "</table>\n"
      ],
      "text/latex": [
       "\\begin{tabular}{r|lll}\n",
       "  & x1 & x2 & class\\\\\n",
       "\\hline\n",
       "\t1 & 3 & 5 & A\\\\\n",
       "\t3 & 9 & 3 & B\\\\\n",
       "\\end{tabular}\n"
      ],
      "text/markdown": [
       "\n",
       "| <!--/--> | x1 | x2 | class | \n",
       "|---|---|\n",
       "| 1 | 3 | 5 | A | \n",
       "| 3 | 9 | 3 | B | \n",
       "\n",
       "\n"
      ],
      "text/plain": [
       "  x1 x2 class\n",
       "1 3  5  A    \n",
       "3 9  3  B    "
      ]
     },
     "metadata": {},
     "output_type": "display_data"
    }
   ],
   "source": [
    "data_3.train = data[setdiff(1:nrow(data), fold$Fold3),]\n",
    "data_3.test  = data[fold$Fold3,]\n",
    "\n",
    "data_3.train\n",
    "data_3.test"
   ]
  },
  {
   "cell_type": "markdown",
   "metadata": {},
   "source": [
    "For each fold, construct a model based on _train_ data.  Use the same method and hyper-parameter settings for each model."
   ]
  },
  {
   "cell_type": "markdown",
   "metadata": {},
   "source": [
    "Here is accuracy of the model constructed based on train data and evaluated based on test data for fold \\#1."
   ]
  },
  {
   "cell_type": "code",
   "execution_count": 31,
   "metadata": {},
   "outputs": [],
   "source": [
    "model_1 = my_predictive_analytic_method(class ~ x1+x2, data_1.train, hyperparameter=0)"
   ]
  },
  {
   "cell_type": "code",
   "execution_count": 32,
   "metadata": {},
   "outputs": [
    {
     "data": {
      "text/html": [
       "<table>\n",
       "<thead><tr><th scope=col>cutoff</th></tr></thead>\n",
       "<tbody>\n",
       "\t<tr><td>0.5</td></tr>\n",
       "</tbody>\n",
       "</table>\n"
      ],
      "text/latex": [
       "\\begin{tabular}{r|l}\n",
       " cutoff\\\\\n",
       "\\hline\n",
       "\t 0.5\\\\\n",
       "\\end{tabular}\n"
      ],
      "text/markdown": [
       "\n",
       "cutoff | \n",
       "|---|\n",
       "| 0.5 | \n",
       "\n",
       "\n"
      ],
      "text/plain": [
       "  cutoff\n",
       "1 0.5   "
      ]
     },
     "metadata": {},
     "output_type": "display_data"
    },
    {
     "data": {
      "text/html": [
       "<table>\n",
       "<thead><tr><th></th><th scope=col>x1</th><th scope=col>x2</th><th scope=col>prob.A</th><th scope=col>prediction</th><th scope=col>class</th><th scope=col>hit</th></tr></thead>\n",
       "<tbody>\n",
       "\t<tr><th scope=row>4</th><td>0    </td><td>0    </td><td>0.4  </td><td>B    </td><td>B    </td><td> TRUE</td></tr>\n",
       "\t<tr><th scope=row>5</th><td>3    </td><td>2    </td><td>0.3  </td><td>B    </td><td>A    </td><td>FALSE</td></tr>\n",
       "</tbody>\n",
       "</table>\n"
      ],
      "text/latex": [
       "\\begin{tabular}{r|llllll}\n",
       "  & x1 & x2 & prob.A & prediction & class & hit\\\\\n",
       "\\hline\n",
       "\t4 & 0     & 0     & 0.4   & B     & B     &  TRUE\\\\\n",
       "\t5 & 3     & 2     & 0.3   & B     & A     & FALSE\\\\\n",
       "\\end{tabular}\n"
      ],
      "text/markdown": [
       "\n",
       "| <!--/--> | x1 | x2 | prob.A | prediction | class | hit | \n",
       "|---|---|\n",
       "| 4 | 0     | 0     | 0.4   | B     | B     |  TRUE | \n",
       "| 5 | 3     | 2     | 0.3   | B     | A     | FALSE | \n",
       "\n",
       "\n"
      ],
      "text/plain": [
       "  x1 x2 prob.A prediction class hit  \n",
       "4 0  0  0.4    B          B      TRUE\n",
       "5 3  2  0.3    B          A     FALSE"
      ]
     },
     "metadata": {},
     "output_type": "display_data"
    },
    {
     "data": {
      "text/plain": [
       "          Reference\n",
       "Prediction   A   B\n",
       "         A 0.0 0.0\n",
       "         B 0.5 0.5"
      ]
     },
     "metadata": {},
     "output_type": "display_data"
    },
    {
     "data": {
      "text/html": [
       "<table>\n",
       "<thead><tr><th scope=col>accuracy_1</th></tr></thead>\n",
       "<tbody>\n",
       "\t<tr><td>0.5</td></tr>\n",
       "</tbody>\n",
       "</table>\n"
      ],
      "text/latex": [
       "\\begin{tabular}{r|l}\n",
       " accuracy\\_1\\\\\n",
       "\\hline\n",
       "\t 0.5\\\\\n",
       "\\end{tabular}\n"
      ],
      "text/markdown": [
       "\n",
       "accuracy_1 | \n",
       "|---|\n",
       "| 0.5 | \n",
       "\n",
       "\n"
      ],
      "text/plain": [
       "  accuracy_1\n",
       "1 0.5       "
      ]
     },
     "metadata": {},
     "output_type": "display_data"
    }
   ],
   "source": [
    "cutoff = 0.5\n",
    "data.frame(cutoff)\n",
    "\n",
    "data_1x.test = data_1.test[, colnames(data_1.test)!=\"class\"]\n",
    "\n",
    "prob = my_predict(model_1, data_1x.test)\n",
    "data_1x.test$prob.A = prob$A\n",
    "prediction = as.class(prob, class=\"A\", cutoff)\n",
    "data_1x.test$prediction = prediction\n",
    "\n",
    "data_1x.test$class = data_1.test$class\n",
    "\n",
    "data_1x.test$hit = (data_1x.test$prediction==data_1x.test$class)\n",
    "data_1x.test\n",
    "\n",
    "CM = confusionMatrix(data_1x.test$prediction, data_1x.test$class)$table\n",
    "cm = CM / sum(CM)\n",
    "cm\n",
    "\n",
    "accuracy_1 = (cm[1,1]+cm[2,2])/sum(cm)\n",
    "data.frame(accuracy_1)"
   ]
  },
  {
   "cell_type": "markdown",
   "metadata": {},
   "source": [
    "Here is accuracy of the model constructed based on train data and evaluated based on test data for fold \\#2."
   ]
  },
  {
   "cell_type": "code",
   "execution_count": 33,
   "metadata": {},
   "outputs": [],
   "source": [
    "model_2 = my_predictive_analytic_method(class ~ x1+x2, data_2.train, hyperparameter=0)"
   ]
  },
  {
   "cell_type": "code",
   "execution_count": 34,
   "metadata": {},
   "outputs": [
    {
     "data": {
      "text/html": [
       "<table>\n",
       "<thead><tr><th scope=col>cutoff</th></tr></thead>\n",
       "<tbody>\n",
       "\t<tr><td>0.5</td></tr>\n",
       "</tbody>\n",
       "</table>\n"
      ],
      "text/latex": [
       "\\begin{tabular}{r|l}\n",
       " cutoff\\\\\n",
       "\\hline\n",
       "\t 0.5\\\\\n",
       "\\end{tabular}\n"
      ],
      "text/markdown": [
       "\n",
       "cutoff | \n",
       "|---|\n",
       "| 0.5 | \n",
       "\n",
       "\n"
      ],
      "text/plain": [
       "  cutoff\n",
       "1 0.5   "
      ]
     },
     "metadata": {},
     "output_type": "display_data"
    },
    {
     "data": {
      "text/html": [
       "<table>\n",
       "<thead><tr><th></th><th scope=col>x1</th><th scope=col>x2</th><th scope=col>prob.A</th><th scope=col>prediction</th><th scope=col>class</th><th scope=col>hit</th></tr></thead>\n",
       "<tbody>\n",
       "\t<tr><th scope=row>2</th><td>2    </td><td>3    </td><td>0.4  </td><td>B    </td><td>A    </td><td>FALSE</td></tr>\n",
       "</tbody>\n",
       "</table>\n"
      ],
      "text/latex": [
       "\\begin{tabular}{r|llllll}\n",
       "  & x1 & x2 & prob.A & prediction & class & hit\\\\\n",
       "\\hline\n",
       "\t2 & 2     & 3     & 0.4   & B     & A     & FALSE\\\\\n",
       "\\end{tabular}\n"
      ],
      "text/markdown": [
       "\n",
       "| <!--/--> | x1 | x2 | prob.A | prediction | class | hit | \n",
       "|---|\n",
       "| 2 | 2     | 3     | 0.4   | B     | A     | FALSE | \n",
       "\n",
       "\n"
      ],
      "text/plain": [
       "  x1 x2 prob.A prediction class hit  \n",
       "2 2  3  0.4    B          A     FALSE"
      ]
     },
     "metadata": {},
     "output_type": "display_data"
    },
    {
     "data": {
      "text/plain": [
       "          Reference\n",
       "Prediction A B\n",
       "         A 0 0\n",
       "         B 1 0"
      ]
     },
     "metadata": {},
     "output_type": "display_data"
    },
    {
     "data": {
      "text/html": [
       "<table>\n",
       "<thead><tr><th scope=col>accuracy_2</th></tr></thead>\n",
       "<tbody>\n",
       "\t<tr><td>0</td></tr>\n",
       "</tbody>\n",
       "</table>\n"
      ],
      "text/latex": [
       "\\begin{tabular}{r|l}\n",
       " accuracy\\_2\\\\\n",
       "\\hline\n",
       "\t 0\\\\\n",
       "\\end{tabular}\n"
      ],
      "text/markdown": [
       "\n",
       "accuracy_2 | \n",
       "|---|\n",
       "| 0 | \n",
       "\n",
       "\n"
      ],
      "text/plain": [
       "  accuracy_2\n",
       "1 0         "
      ]
     },
     "metadata": {},
     "output_type": "display_data"
    }
   ],
   "source": [
    "cutoff = 0.5\n",
    "data.frame(cutoff)\n",
    "\n",
    "data_2x.test = data_2.test[, colnames(data_2.test)!=\"class\"]\n",
    "\n",
    "prob = my_predict(model_2, data_2x.test)\n",
    "data_2x.test$prob.A = prob$A\n",
    "prediction = as.class(prob, class=\"A\", cutoff)\n",
    "data_2x.test$prediction = prediction\n",
    "\n",
    "data_2x.test$class = data_2.test$class\n",
    "\n",
    "data_2x.test$hit = (data_2x.test$prediction==data_2x.test$class)\n",
    "data_2x.test\n",
    "\n",
    "CM = confusionMatrix(data_2x.test$prediction, data_2x.test$class)$table\n",
    "cm = CM / sum(CM)\n",
    "cm\n",
    "\n",
    "accuracy_2 = (cm[1,1]+cm[2,2])/sum(cm)\n",
    "data.frame(accuracy_2)"
   ]
  },
  {
   "cell_type": "markdown",
   "metadata": {},
   "source": [
    "Here is accuracy of the model constructed based on train data and evaluated based on test data for fold \\#3."
   ]
  },
  {
   "cell_type": "code",
   "execution_count": 35,
   "metadata": {},
   "outputs": [],
   "source": [
    "model_3 = my_predictive_analytic_method(class ~ x1+x2, data_3.train, hyperparameter=0)"
   ]
  },
  {
   "cell_type": "code",
   "execution_count": 36,
   "metadata": {
    "scrolled": true
   },
   "outputs": [
    {
     "data": {
      "text/html": [
       "<table>\n",
       "<thead><tr><th scope=col>cutoff</th></tr></thead>\n",
       "<tbody>\n",
       "\t<tr><td>0.5</td></tr>\n",
       "</tbody>\n",
       "</table>\n"
      ],
      "text/latex": [
       "\\begin{tabular}{r|l}\n",
       " cutoff\\\\\n",
       "\\hline\n",
       "\t 0.5\\\\\n",
       "\\end{tabular}\n"
      ],
      "text/markdown": [
       "\n",
       "cutoff | \n",
       "|---|\n",
       "| 0.5 | \n",
       "\n",
       "\n"
      ],
      "text/plain": [
       "  cutoff\n",
       "1 0.5   "
      ]
     },
     "metadata": {},
     "output_type": "display_data"
    },
    {
     "data": {
      "text/html": [
       "<table>\n",
       "<thead><tr><th></th><th scope=col>x1</th><th scope=col>x2</th><th scope=col>prob.A</th><th scope=col>prediction</th><th scope=col>class</th><th scope=col>hit</th></tr></thead>\n",
       "<tbody>\n",
       "\t<tr><th scope=row>1</th><td>3    </td><td>5    </td><td>0.6  </td><td>A    </td><td>A    </td><td> TRUE</td></tr>\n",
       "\t<tr><th scope=row>3</th><td>9    </td><td>3    </td><td>0.9  </td><td>A    </td><td>B    </td><td>FALSE</td></tr>\n",
       "</tbody>\n",
       "</table>\n"
      ],
      "text/latex": [
       "\\begin{tabular}{r|llllll}\n",
       "  & x1 & x2 & prob.A & prediction & class & hit\\\\\n",
       "\\hline\n",
       "\t1 & 3     & 5     & 0.6   & A     & A     &  TRUE\\\\\n",
       "\t3 & 9     & 3     & 0.9   & A     & B     & FALSE\\\\\n",
       "\\end{tabular}\n"
      ],
      "text/markdown": [
       "\n",
       "| <!--/--> | x1 | x2 | prob.A | prediction | class | hit | \n",
       "|---|---|\n",
       "| 1 | 3     | 5     | 0.6   | A     | A     |  TRUE | \n",
       "| 3 | 9     | 3     | 0.9   | A     | B     | FALSE | \n",
       "\n",
       "\n"
      ],
      "text/plain": [
       "  x1 x2 prob.A prediction class hit  \n",
       "1 3  5  0.6    A          A      TRUE\n",
       "3 9  3  0.9    A          B     FALSE"
      ]
     },
     "metadata": {},
     "output_type": "display_data"
    },
    {
     "data": {
      "text/plain": [
       "          Reference\n",
       "Prediction   A   B\n",
       "         A 0.5 0.5\n",
       "         B 0.0 0.0"
      ]
     },
     "metadata": {},
     "output_type": "display_data"
    },
    {
     "data": {
      "text/html": [
       "<table>\n",
       "<thead><tr><th scope=col>accuracy_3</th></tr></thead>\n",
       "<tbody>\n",
       "\t<tr><td>0.5</td></tr>\n",
       "</tbody>\n",
       "</table>\n"
      ],
      "text/latex": [
       "\\begin{tabular}{r|l}\n",
       " accuracy\\_3\\\\\n",
       "\\hline\n",
       "\t 0.5\\\\\n",
       "\\end{tabular}\n"
      ],
      "text/markdown": [
       "\n",
       "accuracy_3 | \n",
       "|---|\n",
       "| 0.5 | \n",
       "\n",
       "\n"
      ],
      "text/plain": [
       "  accuracy_3\n",
       "1 0.5       "
      ]
     },
     "metadata": {},
     "output_type": "display_data"
    }
   ],
   "source": [
    "cutoff = 0.5\n",
    "data.frame(cutoff)\n",
    "\n",
    "data_3x.test = data_3.test[, colnames(data_3.test)!=\"class\"]\n",
    "\n",
    "prob = my_predict(model_3, data_3x.test)\n",
    "data_3x.test$prob.A = prob$A\n",
    "prediction = as.class(prob, class=\"A\", cutoff)\n",
    "data_3x.test$prediction = prediction\n",
    "\n",
    "data_3x.test$class = data_3.test$class\n",
    "\n",
    "data_3x.test$hit = (data_3x.test$prediction==data_3x.test$class)\n",
    "data_3x.test\n",
    "\n",
    "CM = confusionMatrix(data_3x.test$prediction, data_3x.test$class)$table\n",
    "cm = CM / sum(CM)\n",
    "cm\n",
    "\n",
    "accuracy_3 = (cm[1,1]+cm[2,2])/sum(cm)\n",
    "data.frame(accuracy_3)"
   ]
  },
  {
   "cell_type": "code",
   "execution_count": 37,
   "metadata": {},
   "outputs": [
    {
     "data": {
      "image/png": "[encoded data removed]",
      "text/plain": [
       "plot without title"
      ]
     },
     "metadata": {},
     "output_type": "display_data"
    }
   ],
   "source": [
    "p1 = ggplot(data_1x.test) + xlim(0,10) + ylim(0,6) + ggtitle(\"Fold 1 Test Data\", paste(\"accuracy =\",accuracy_1)) +\n",
    "     geom_point(aes(x=x1, y=x2), color=PALETTE[3], size=10, data=data_1x.test[data_1x.test$hit,]) +\n",
    "     geom_point(aes(x=x1, y=x2, color=factor(class))) +\n",
    "     geom_text(aes(x=x1, y=x2), label=\"X\", size=8, data=data_1x.test[!data_1x.test$hit,]) +\n",
    "     scale_color_manual(values=PALETTE) + theme.no_legend\n",
    "\n",
    "p2 = ggplot(data_2x.test) + xlim(0,10) + ylim(0,6) + ggtitle(\"Fold 2 Test Data\", paste(\"accuracy =\",accuracy_2)) +\n",
    "     geom_point(aes(x=x1, y=x2), color=PALETTE[3], size=10, data=data_2x.test[data_2x.test$hit,]) +\n",
    "     geom_point(aes(x=x1, y=x2, color=factor(class))) +\n",
    "     geom_text(aes(x=x1, y=x2), label=\"X\", size=8, data=data_2x.test[!data_2x.test$hit,]) +\n",
    "     scale_color_manual(values=PALETTE) + theme.no_legend\n",
    "\n",
    "p3 = ggplot(data_3x.test) + xlim(0,10) + ylim(0,6) + ggtitle(\"Fold 3 Test Data\", paste(\"accuracy =\",accuracy_3)) +\n",
    "     geom_point(aes(x=x1, y=x2), color=PALETTE[3], size=10, data=data_3x.test[data_3x.test$hit,]) +\n",
    "     geom_point(aes(x=x1, y=x2, color=factor(class))) +\n",
    "     geom_text(aes(x=x1, y=x2), label=\"X\", size=8, data=data_3x.test[!data_3x.test$hit,]) +\n",
    "     scale_color_manual(values=PALETTE) + theme.no_legend\n",
    "\n",
    "grid.arrange(p1, p2, p3, nrow=1)"
   ]
  },
  {
   "cell_type": "markdown",
   "metadata": {},
   "source": [
    "Accuracy estimate for model based on all data is the mean of accuracy estimates for models based on fold data.\n",
    "\n",
    "Note that the accuracy of the model based on all data is derived from models each based on only part of the data.  We still consider this accuracy a good estimate because all the models are constructed using the same predictive analytic method and so should have similar performance characteristics."
   ]
  },
  {
   "cell_type": "code",
   "execution_count": 38,
   "metadata": {},
   "outputs": [
    {
     "data": {
      "text/html": [
       "<table>\n",
       "<thead><tr><th scope=col>accuracy</th></tr></thead>\n",
       "<tbody>\n",
       "\t<tr><td>0.3333333</td></tr>\n",
       "</tbody>\n",
       "</table>\n"
      ],
      "text/latex": [
       "\\begin{tabular}{r|l}\n",
       " accuracy\\\\\n",
       "\\hline\n",
       "\t 0.3333333\\\\\n",
       "\\end{tabular}\n"
      ],
      "text/markdown": [
       "\n",
       "accuracy | \n",
       "|---|\n",
       "| 0.3333333 | \n",
       "\n",
       "\n"
      ],
      "text/plain": [
       "  accuracy \n",
       "1 0.3333333"
      ]
     },
     "metadata": {},
     "output_type": "display_data"
    }
   ],
   "source": [
    "accuracy = mean(c(accuracy_1, accuracy_2, accuracy_3))\n",
    "data.frame(accuracy)"
   ]
  },
  {
   "cell_type": "markdown",
   "metadata": {},
   "source": [
    "## Code"
   ]
  },
  {
   "cell_type": "markdown",
   "metadata": {},
   "source": [
    "### Useful Functions"
   ]
  },
  {
   "cell_type": "code",
   "execution_count": 1,
   "metadata": {},
   "outputs": [],
   "source": [
    "# as.class # from appartus code cell above\n",
    "\n",
    "# help(set.seed) # from base library\n",
    "# help(sample) # from base library\n",
    "# help(colnames) # from base library\n",
    "# help(createFolds) # from caret library\n",
    "# help(setdiff) # from base library\n",
    "# help(predict) # from stats library\n",
    "# help(confusionMatrix) # from caret library\n",
    "# help(naiveBayes) # from e1071 library"
   ]
  },
  {
   "cell_type": "markdown",
   "metadata": {},
   "source": [
    "### Templates"
   ]
  },
  {
   "cell_type": "code",
   "execution_count": 39,
   "metadata": {},
   "outputs": [
    {
     "data": {
      "text/plain": [
       "          Reference\n",
       "Prediction   A   B\n",
       "         A 0.5 0.0\n",
       "         B 0.0 0.5"
      ]
     },
     "metadata": {},
     "output_type": "display_data"
    }
   ],
   "source": [
    "# Construct a model, make predictions, see confusion matrix \n",
    "\n",
    "data = data.frame(x1=c(1,2,3,4), x2=c(4,3,4,2), class=c(\"A\",\"B\",\"B\",\"A\"))\n",
    "\n",
    "model = naiveBayes(class ~ x1+x2, data) # use your choice of model construction method\n",
    "\n",
    "prob = predict(model, data, type=\"raw\") # predict function uses only predictor variables (e.g., x1 & x2)\n",
    "prediction = as.class(prob, class=\"A\", cutoff=0.5)\n",
    "\n",
    "CM = confusionMatrix(prediction, data$class)$table\n",
    "cm = CM / sum(CM)\n",
    "cm"
   ]
  },
  {
   "cell_type": "markdown",
   "metadata": {},
   "source": [
    "## Expectations\n",
    "\n",
    "Know about this:\n",
    "* Predictive data analytic methodology, conceptually.\n",
    "* Terminology regarding predictive data analytic methodology.\n",
    "* How to construct a predictive model using a provided predictive analytic method, conceptually and using R.\n",
    "* How to use a predictive model to determine class probabilities and make predictions, conceptually and using R.\n",
    "* How to evaluate a predictive model by insample, conceptually and using R.\n",
    "* How to evaluate a predictive model by out-of-sample/holdout, conceptually and using R.\n",
    "* How to evaluate a predictive model by cross-validation, conceptually and using R."
   ]
  },
  {
   "cell_type": "markdown",
   "metadata": {},
   "source": [
    "## Further Reading\n",
    "\n",
    "* https://www.youtube.com/watch?v=fSytzGwwBVw\n",
    "* https://www.youtube.com/watch?v=TIgfjmp-4BA\n",
    "* http://ciml.info/dl/v0_99/ciml-v0_99-ch03.pdf\n",
    "* http://www-stat.wharton.upenn.edu/~stine/mich/DM_05.pdf\n",
    "* https://machinelearningmastery.com/much-training-data-required-machine-learning/"
   ]
  },
  {
   "cell_type": "markdown",
   "metadata": {},
   "source": [
    "<font size=1;>\n",
    "<p style=\"text-align: left;\">\n",
    "Copyright (c) Berkeley Data Analytics Group, LLC\n",
    "<span style=\"float: right;\">\n",
    "document revised May 17, 2019\n",
    "</span>\n",
    "</p>\n",
    "</font>"
   ]
  }
 ],
 "metadata": {
  "hide_code_all_hidden": false,
  "hide_input": false,
  "kernelspec": {
   "display_name": "R",
   "language": "R",
   "name": "ir"
  },
  "language_info": {
   "codemirror_mode": "r",
   "file_extension": ".r",
   "mimetype": "text/x-r-source",
   "name": "R",
   "pygments_lexer": "r",
   "version": "3.6.1"
  },
  "toc": {
   "base_numbering": 1,
   "nav_menu": {},
   "number_sections": true,
   "sideBar": true,
   "skip_h1_title": true,
   "title_cell": "Table of Contents",
   "title_sidebar": "Contents",
   "toc_cell": false,
   "toc_position": {},
   "toc_section_display": true,
   "toc_window_display": true
  }
 },
 "nbformat": 4,
 "nbformat_minor": 2
}
