{
 "cells": [
  {
   "cell_type": "markdown",
   "metadata": {
    "hideCode": false,
    "hidePrompt": false
   },
   "source": [
    "# Classification by Neural Network $\\,\\, \\tiny\\text{Lecture}$\n",
    "<img src=\"banner neural network.jpg\" align=left />"
   ]
  },
  {
   "cell_type": "code",
   "execution_count": 175,
   "metadata": {
    "hide_input": true
   },
   "outputs": [
    {
     "name": "stdout",
     "output_type": "stream",
     "text": [
      "<< Notebook apparatus is located here. Toggle cell input display to see code. >>"
     ]
    }
   ],
   "source": [
    "cat(\"<< Notebook apparatus is located here. Toggle cell input display to see code. >>\")\n",
    "\n",
    "options(warn=-1)\n",
    "\n",
    "# Load some required functions\n",
    "library(e1071,     verbose=FALSE, warn.conflicts=FALSE, quietly=TRUE)\n",
    "library(ggplot2,   verbose=FALSE, warn.conflicts=FALSE, quietly=TRUE)\n",
    "library(neuralnet, verbose=FALSE, warn.conflicts=FALSE, quietly=TRUE)\n",
    "library(plyr,      verbose=FALSE, warn.conflicts=FALSE, quietly=TRUE)\n",
    "\n",
    "# Define some useful functions\n",
    "#as.class.cutoff = function(postprob, cutoff=0.5) { factor(colnames(postprob)[2-as.numeric(postprob[,1]>=cutoff)]) }\n",
    "#as.class.best = function(postprob) { factor(as.character(aaply(1:nrow(postprob), 1, function(i) { colnames(postprob)[as.numeric(postprob[i,]) == max(as.numeric(postprob[i,]))] } ))) }\n",
    "as.binary = function(v, s) { as.numeric(v == s) }\n",
    "as.class = function(prob, class, cutoff=NA) { f = factor(prob[,colnames(prob)==class]>=cutoff, levels=c(TRUE, FALSE), labels=c(class, setdiff(colnames(prob), class))); attr(f, \"names\") = NULL; f }\n",
    "\n",
    "\n",
    "# Set some visualization constants\n",
    "restore = list(repr.plot.width=8, repr.plot.height=3)\n",
    "PALETTE = c(\"#00A9FF\", \"#F8766D\", \"#7CAE00\", \"#C77CFF\", \"#CD9600\", \"#00BE67\", \"#FF61CC\", \"#00BFC4\")\n",
    "\n",
    "# Set some visualization formatting defaults\n",
    "options(restore)\n",
    "options(digits=10, scipen=100) # expose many digits, use scientific notation sparingly\n",
    "update_geom_defaults(\"point\", list(size=3, colour=\"grey50\"))\n",
    "theme_update(plot.title=element_text(size=10, hjust=0.5), plot.subtitle=element_text(size=8, face=\"italic\", hjust=0.5), axis.title=element_text(size=7), axis.text=element_text(size=7), strip.text=element_text(size=7), strip.text.y=element_text(angle=90), legend.title=element_blank(), legend.text=element_text(size=7))"
   ]
  },
  {
   "cell_type": "markdown",
   "metadata": {},
   "source": [
    "## Discourse\n",
    "___"
   ]
  },
  {
   "cell_type": "markdown",
   "metadata": {},
   "source": [
    "### 1-Layer Neural Network Model\n",
    "\n",
    "#### Form\n",
    "\n",
    "A perceptron model is a special type of neural network model, inspired by biological neural networks.  It comprises ...\n",
    "* Input nodes\n",
    "* Output node\n",
    "* Connections (between input and output nodes)\n",
    "* Weights (one weight on each connection)\n",
    "* Activation function (on output nodes, to rescale values into a range that can be interpretted as probabilities)"
   ]
  },
  {
   "cell_type": "code",
   "execution_count": 77,
   "metadata": {
    "hide_input": true,
    "scrolled": false
   },
   "outputs": [
    {
     "data": {
      "text/html": [
       "<table>\n",
       "<thead><tr><th scope=col>connection</th><th scope=col>weight</th></tr></thead>\n",
       "<tbody>\n",
       "\t<tr><td>to_output         </td><td> 0.9434607482     </td></tr>\n",
       "\t<tr><td>input_x1_to_output</td><td> 0.1888962993     </td></tr>\n",
       "\t<tr><td>input_x2_to_output</td><td>-0.1315622796     </td></tr>\n",
       "</tbody>\n",
       "</table>\n"
      ],
      "text/latex": [
       "\\begin{tabular}{r|ll}\n",
       " connection & weight\\\\\n",
       "\\hline\n",
       "\t to\\_output          &  0.9434607482       \\\\\n",
       "\t input\\_x1\\_to\\_output &  0.1888962993           \\\\\n",
       "\t input\\_x2\\_to\\_output & -0.1315622796           \\\\\n",
       "\\end{tabular}\n"
      ],
      "text/markdown": [
       "\n",
       "| connection | weight |\n",
       "|---|---|\n",
       "| to_output          |  0.9434607482      |\n",
       "| input_x1_to_output |  0.1888962993      |\n",
       "| input_x2_to_output | -0.1315622796      |\n",
       "\n"
      ],
      "text/plain": [
       "  connection         weight       \n",
       "1 to_output           0.9434607482\n",
       "2 input_x1_to_output  0.1888962993\n",
       "3 input_x2_to_output -0.1315622796"
      ]
     },
     "metadata": {},
     "output_type": "display_data"
    },
    {
     "data": {
      "image/png": "[encoded data removed]",
      "text/plain": [
       "plot without title"
      ]
     },
     "metadata": {},
     "output_type": "display_data"
    }
   ],
   "source": [
    "ann = data.frame(input_x1=1, input_x2=1, output=1)\n",
    "model = neuralnet(output ~ input_x1+input_x2, ann, hidden=0)\n",
    "\n",
    "data.frame(connection=c(\"to_output\", \"input_x1_to_output\", \"input_x2_to_output\"), weight=model$weights[[1]][[1]])\n",
    "options(repr.plot.width=4, repr.plot.height=4)\n",
    "plot(model, rep=1, fill=\"gray\", show.weights=TRUE, information=FALSE, arrow.length=0.3, cex=0.7, lwd=0.5)\n",
    "options(restore)"
   ]
  },
  {
   "cell_type": "markdown",
   "metadata": {},
   "source": [
    "#### Choice of Activation Function\n",
    "\n",
    "Popular choices of activation function include ... \n",
    "* sigmoid function\n",
    "* hyperbolic tangent function"
   ]
  },
  {
   "cell_type": "markdown",
   "metadata": {},
   "source": [
    "_**Sigmoid Function**_\n",
    "\n",
    "A sigmoid activation function rescales any incoming value into range 0 to 1.  The sigmoid function is also known as the logistic function.\n",
    "\n",
    "sigmoid:  $\\large \\frac{1}{1+{e}^{−x}}$\n",
    "\n",
    "sigmoid range: $0 < sigmoid(x) < 1$, for any $x$"
   ]
  },
  {
   "cell_type": "code",
   "execution_count": 78,
   "metadata": {},
   "outputs": [
    {
     "data": {
      "image/png": "[encoded data removed]",
      "text/plain": [
       "plot without title"
      ]
     },
     "metadata": {},
     "output_type": "display_data"
    }
   ],
   "source": [
    "options(repr.plot.width=4, repr.plot.height=2)\n",
    "ggplot(data.frame(0)) + ggtitle(\"sigmoid function\") + xlab(\"x\") + ylab(\"sigmoid(x)\") + xlim(-10,10) +\n",
    "stat_function(fun=sigmoid)  \n",
    "options(restore)"
   ]
  },
  {
   "cell_type": "markdown",
   "metadata": {},
   "source": [
    "_**Hyperbolic Tangent Function**_\n",
    "\n",
    "A hyperbolic tangent activation function rescales any incoming value into range -1 to 1.\n",
    "\n",
    "tanh:  $\\large \\frac{e^{2x}-1}{e^{2x}+1}$\n",
    "\n",
    "tanh range: $-1 < tanh(x) < 1$, for any $x$"
   ]
  },
  {
   "cell_type": "code",
   "execution_count": 79,
   "metadata": {},
   "outputs": [
    {
     "data": {
      "image/png": "[encoded data removed]",
      "text/plain": [
       "plot without title"
      ]
     },
     "metadata": {},
     "output_type": "display_data"
    }
   ],
   "source": [
    "options(repr.plot.width=4, repr.plot.height=2)\n",
    "ggplot(data.frame(0)) + ggtitle(\"hyperbolic tangent function\") + xlab(\"x\") + ylab(\"tanh(x)\") + xlim(-10,10) +\n",
    "stat_function(fun=tanh)  \n",
    "options(restore)"
   ]
  },
  {
   "cell_type": "markdown",
   "metadata": {},
   "source": [
    "#### Computing Weights\n",
    "\n",
    "To compute weights for a neural network model ...\n",
    "* Define the input nodes, output node, connnections, activation function\n",
    "* Apply a neural network method to compute the weights "
   ]
  },
  {
   "cell_type": "markdown",
   "metadata": {},
   "source": [
    "#### Computing Ouput\n",
    "\n",
    "Compute output as the activation function applied to the weighted sum of inputs.\n",
    "\n",
    "$r = f(w_0 + \\sum{{w_j}{x_j}})$\n",
    "\n",
    "where ...\n",
    "* $r$ is the output of the output\n",
    "* $f$ is the activation function\n",
    "* $w_0$ is an offset value for the output node\n",
    "* $w_j$ is the $j^{th}$ weight for the output node\n",
    "* $x_j$ is the $j^{th}$ input to the output node"
   ]
  },
  {
   "cell_type": "markdown",
   "metadata": {},
   "source": [
    "#### Classifying with a Neural Network Model \n",
    "\n",
    "To classify a new observation ...\n",
    "* Use the new observation as input to the neural network model\n",
    "* Compute the output\n",
    "* Interpret the output as a probability and combine with a cutoff to predict the new observation's class  "
   ]
  },
  {
   "cell_type": "markdown",
   "metadata": {},
   "source": [
    "### Perceptron Method"
   ]
  },
  {
   "cell_type": "markdown",
   "metadata": {},
   "source": [
    "The preceptron method is a specific neural network method that calculates weights for a 1-layer neural network model."
   ]
  },
  {
   "cell_type": "markdown",
   "metadata": {},
   "source": [
    "_**Configure:**_\n",
    "* Choose the model's activation function to be the sigmoid function.\n",
    "* Choose a cutoff value (in range 0 to 1).\n",
    "\n",
    "_**Initialize:**_\n",
    "* Convert class values to binary (0 or 1).\n",
    "* Randomly assign weights to connections.\n",
    "\n",
    "_**Iterate:**_ \n",
    "* Do the following several times ...\n",
    "  * Randomly reorder the training data observations.\n",
    "  * For each observation ...\n",
    "    * Compute an output based on the observation and the current weights.\n",
    "    * Convert the output to a predicted class (binary) based on the cutoff value.\n",
    "    * Compare the output to the observation's actual class (binary). The difference is the error.\n",
    "    * If the observation's predicted and actual classes do not match, then compute new weights based on the current weights, the error, and the observation.  These new weights become the current weights for the next observation. \n",
    "\n",
    "_**Result:**_\n",
    "* Choose the last observation's weights as the model's weights."
   ]
  },
  {
   "cell_type": "markdown",
   "metadata": {},
   "source": [
    "<br>\n",
    "\n",
    "### Perceptron Method for Classification of Linearly Separable Data"
   ]
  },
  {
   "cell_type": "markdown",
   "metadata": {},
   "source": [
    "#### Data\n",
    "\n",
    "Training data are already classified.  New observation is not yet classified.  Note, these data are linearly separable, i.e., you can use a straight line to separate observations by class. "
   ]
  },
  {
   "cell_type": "code",
   "execution_count": 114,
   "metadata": {
    "hideCode": false,
    "hidePrompt": false,
    "hide_input": true,
    "run_control": {
     "marked": false
    }
   },
   "outputs": [
    {
     "data": {
      "text/html": [
       "<table>\n",
       "<thead><tr><th scope=col>x1</th><th scope=col>x2</th></tr></thead>\n",
       "<tbody>\n",
       "\t<tr><td>10</td><td>4 </td></tr>\n",
       "</tbody>\n",
       "</table>\n"
      ],
      "text/latex": [
       "\\begin{tabular}{r|ll}\n",
       " x1 & x2\\\\\n",
       "\\hline\n",
       "\t 10 & 4 \\\\\n",
       "\\end{tabular}\n"
      ],
      "text/markdown": [
       "\n",
       "| x1 | x2 |\n",
       "|---|---|\n",
       "| 10 | 4  |\n",
       "\n"
      ],
      "text/plain": [
       "  x1 x2\n",
       "1 10 4 "
      ]
     },
     "metadata": {},
     "output_type": "display_data"
    },
    {
     "data": {
      "image/png": "[encoded data removed]",
      "text/plain": [
       "plot without title"
      ]
     },
     "metadata": {},
     "output_type": "display_data"
    }
   ],
   "source": [
    "data.simple = data.frame(x1=c(3,6,14,15), x2=c(1,2,6,5), class=c(\"A\", \"A\", \"B\", \"B\"))\n",
    "data.new = data.frame(x1=10, x2=4)\n",
    "\n",
    "data.new\n",
    "ggplot(data.simple) + xlim(0,20) +\n",
    "geom_point(aes(x=x1, y=x2, color=class)) + geom_point(aes(x=x1, y=x2), data=data.new) +\n",
    "scale_color_manual(values=PALETTE)"
   ]
  },
  {
   "cell_type": "markdown",
   "metadata": {},
   "source": [
    "#### Configure\n",
    "\n",
    "Here, we choose the configuration to be ...\n",
    "\n",
    "* Activation function: sigmoid\n",
    "* Cutoff for A: 0.5"
   ]
  },
  {
   "cell_type": "markdown",
   "metadata": {},
   "source": [
    "#### Initialize\n",
    "\n",
    "Here, weights are randomly assigned as ...\n",
    "* $w0 = 0.72$\n",
    "* $w1 = 0.87$\n",
    "* $w2 = 0.76$"
   ]
  },
  {
   "cell_type": "code",
   "execution_count": 148,
   "metadata": {
    "hide_input": false
   },
   "outputs": [
    {
     "data": {
      "text/html": [
       "<table>\n",
       "<thead><tr><th scope=col>w0.current</th><th scope=col>w1.current</th><th scope=col>w2.current</th></tr></thead>\n",
       "<tbody>\n",
       "\t<tr><td>0.7209038963</td><td>0.8757731931</td><td>0.7609823283</td></tr>\n",
       "</tbody>\n",
       "</table>\n"
      ],
      "text/latex": [
       "\\begin{tabular}{r|lll}\n",
       " w0.current & w1.current & w2.current\\\\\n",
       "\\hline\n",
       "\t 0.7209038963 & 0.8757731931 & 0.7609823283\\\\\n",
       "\\end{tabular}\n"
      ],
      "text/markdown": [
       "\n",
       "| w0.current | w1.current | w2.current |\n",
       "|---|---|---|\n",
       "| 0.7209038963 | 0.8757731931 | 0.7609823283 |\n",
       "\n"
      ],
      "text/plain": [
       "  w0.current   w1.current   w2.current  \n",
       "1 0.7209038963 0.8757731931 0.7609823283"
      ]
     },
     "metadata": {},
     "output_type": "display_data"
    },
    {
     "data": {
      "text/html": [
       "<table>\n",
       "<thead><tr><th scope=col>iteration</th><th scope=col>x1</th><th scope=col>x2</th><th scope=col>class</th><th scope=col>class.bin</th><th scope=col>w0</th><th scope=col>w1</th><th scope=col>w2</th><th scope=col>output</th><th scope=col>error</th><th scope=col>cutoff.A</th><th scope=col>class.bin.predicted</th></tr></thead>\n",
       "<tbody>\n",
       "\t<tr><td>0  </td><td> 3 </td><td>1  </td><td>A  </td><td>1  </td><td>NA </td><td>NA </td><td>NA </td><td>NA </td><td>NA </td><td>0.5</td><td>NA </td></tr>\n",
       "\t<tr><td>0  </td><td> 6 </td><td>2  </td><td>A  </td><td>1  </td><td>NA </td><td>NA </td><td>NA </td><td>NA </td><td>NA </td><td>0.5</td><td>NA </td></tr>\n",
       "\t<tr><td>0  </td><td>14 </td><td>6  </td><td>B  </td><td>0  </td><td>NA </td><td>NA </td><td>NA </td><td>NA </td><td>NA </td><td>0.5</td><td>NA </td></tr>\n",
       "\t<tr><td>0  </td><td>15 </td><td>5  </td><td>B  </td><td>0  </td><td>NA </td><td>NA </td><td>NA </td><td>NA </td><td>NA </td><td>0.5</td><td>NA </td></tr>\n",
       "</tbody>\n",
       "</table>\n"
      ],
      "text/latex": [
       "\\begin{tabular}{r|llllllllllll}\n",
       " iteration & x1 & x2 & class & class.bin & w0 & w1 & w2 & output & error & cutoff.A & class.bin.predicted\\\\\n",
       "\\hline\n",
       "\t 0   &  3  & 1   & A   & 1   & NA  & NA  & NA  & NA  & NA  & 0.5 & NA \\\\\n",
       "\t 0   &  6  & 2   & A   & 1   & NA  & NA  & NA  & NA  & NA  & 0.5 & NA \\\\\n",
       "\t 0   & 14  & 6   & B   & 0   & NA  & NA  & NA  & NA  & NA  & 0.5 & NA \\\\\n",
       "\t 0   & 15  & 5   & B   & 0   & NA  & NA  & NA  & NA  & NA  & 0.5 & NA \\\\\n",
       "\\end{tabular}\n"
      ],
      "text/markdown": [
       "\n",
       "| iteration | x1 | x2 | class | class.bin | w0 | w1 | w2 | output | error | cutoff.A | class.bin.predicted |\n",
       "|---|---|---|---|---|---|---|---|---|---|---|---|\n",
       "| 0   |  3  | 1   | A   | 1   | NA  | NA  | NA  | NA  | NA  | 0.5 | NA  |\n",
       "| 0   |  6  | 2   | A   | 1   | NA  | NA  | NA  | NA  | NA  | 0.5 | NA  |\n",
       "| 0   | 14  | 6   | B   | 0   | NA  | NA  | NA  | NA  | NA  | 0.5 | NA  |\n",
       "| 0   | 15  | 5   | B   | 0   | NA  | NA  | NA  | NA  | NA  | 0.5 | NA  |\n",
       "\n"
      ],
      "text/plain": [
       "  iteration x1 x2 class class.bin w0 w1 w2 output error cutoff.A\n",
       "1 0          3 1  A     1         NA NA NA NA     NA    0.5     \n",
       "2 0          6 2  A     1         NA NA NA NA     NA    0.5     \n",
       "3 0         14 6  B     0         NA NA NA NA     NA    0.5     \n",
       "4 0         15 5  B     0         NA NA NA NA     NA    0.5     \n",
       "  class.bin.predicted\n",
       "1 NA                 \n",
       "2 NA                 \n",
       "3 NA                 \n",
       "4 NA                 "
      ]
     },
     "metadata": {},
     "output_type": "display_data"
    }
   ],
   "source": [
    "# Initialize perceptron method\n",
    "\n",
    "set.seed(12345)\n",
    "\n",
    "cutoff.A = 0.5\n",
    "iteration = 0\n",
    "status = data.frame(iteration, x1=data.simple$x1, x2=data.simple$x2, class=data.simple$class, class.bin=as.binary(data.simple$class, \"A\"), w0=NA, w1=NA, w2=NA, output=NA, error=NA, cutoff.A, class.bin.predicted=NA)\n",
    "w0.current = runif(1); w1.current = runif(1); w2.current = runif(1)\n",
    "\n",
    "data.frame(w0.current, w1.current, w2.current)\n",
    "status"
   ]
  },
  {
   "cell_type": "markdown",
   "metadata": {},
   "source": [
    "<br>\n",
    "\n",
    "#### Iterate\n",
    "\n",
    "_**Itertion 1**_\n",
    "\n",
    "Observations are randomly reordered like this:\n",
    "* 1st observation --> 3rd position\n",
    "* 2nd observation --> 2nd position\n",
    "* 3rd observation --> 4th position\n",
    "* 4th observation --> 1st position\n",
    "\n",
    "The 1st observation (formerly the 4th observation) is x1=15, x2=5.  Input this observation into the neural network model, assuming the current weights.  The output is computed as $sigmoid(0.72 + 0.87 \\times 15 + 0.76 \\times 5) = 0.99$.  Assuming $cutoff=0.5$, the predicted class (binary) is $1$ because $0.99 > 0.5$.  This is a misclassification because $1 \\ne 0$, with the error $0 - 0.99 = -0.99$, causing new weights to be computed.\n",
    "\n",
    "The new weights are ...\n",
    "  * $w0_{new} = 0.72 + -0.99 = -0.28$\n",
    "  * $w1_{new} = 0.87 + (15 \\times -0.99) = -14.12$\n",
    "  * $w2_{new} = 0.76 + (5 \\times -0.99) = -4.24$\n",
    "  \n",
    "The 2nd observation (formerly the 2nd observation) is x1=6, x2=2.  Input this observation into the neural network model, assuming the (recalculated) current weights.  The output is $sigmoid(-0.28 + -14.12 \\times 6 + -4.24 \\times 2) = 0.00$.  Assuming $cutoff=0.5$, the predicted class (binary) is $0$ because $0.00 < 0.5$.  This is a misclassification because $0 \\ne 1$, with the error $1 - 0.00 = 1.00$, causing new weights to be computed.\n",
    "\n",
    "The new weights are ...\n",
    "  * $w0_{new} = -0.28 + 1.00 = 0.72$\n",
    "  * $w1_{new} = -14.12 + (6 \\times 1.00) = -8.12$\n",
    "  * $w2_{new} = -4.24 + (2 \\times 1.00) = -2.24$\n",
    "  \n",
    "The 3rd observation (formerly the 1st observation) is x1=3, x2=1.  Input this observation into the neural network model, assuming the (recalculated) current weights.  The output is $sigmoid(0.72 + -8.12 \\times 3 + -2.24 \\times 1) = 0.00$.  Assuming $cutoff=0.5$, the predicted class (binary) is $0$ because $0.00 < 0.5$.  This is a misclassification because $0 \\ne 1$, with the error $1 - 0.00 = 1.00$, causing new weights to be computed.\n",
    "\n",
    "The new weights are ...\n",
    "  * $w0_{new} = 0.72 + 1.00 = 1.72$\n",
    "  * $w1_{new} = -8.12 + (3 \\times 1.00) = -5.12$\n",
    "  * $w2_{new} = -2.24 + (1 \\times 1.00) = -1.24$\n",
    "  \n",
    "The 4th observation (formerly the 3rd observation) is x1=14, x2=6.  Input this observation into the neural network model, assuming the (recalculated) current weights.  The output is $sigmoid(1.72 + -5.12 \\times 14 + -1.24 \\times 6) = 0.00$.  Assuming $cutoff=0.5$, the predicted class (binary) is $0$ because $0.00 < 0.5$.  This is a correct classification, so no new weights are computed.\n",
    "\n",
    "_**Subsequent Iterations**_\n",
    "\n",
    "Note that the weights stablize by iteration 8."
   ]
  },
  {
   "cell_type": "code",
   "execution_count": 173,
   "metadata": {
    "scrolled": false
   },
   "outputs": [
    {
     "data": {
      "text/html": [
       "<table>\n",
       "<thead><tr><th></th><th scope=col>iteration</th><th scope=col>x1</th><th scope=col>x2</th><th scope=col>class</th><th scope=col>class.bin</th><th scope=col>w0</th><th scope=col>w1</th><th scope=col>w2</th><th scope=col>output</th><th scope=col>error</th><th scope=col>cutoff.A</th><th scope=col>class.bin.predicted</th></tr></thead>\n",
       "<tbody>\n",
       "\t<tr><th scope=row>3</th><td>25                </td><td>14                </td><td>6                 </td><td>B                 </td><td>0                 </td><td>8.645647618       </td><td>-0.5757632605     </td><td>-2.389529823      </td><td>0.000001065338434 </td><td>-0.000001065338434</td><td>0.5               </td><td>0                 </td></tr>\n",
       "\t<tr><th scope=row>1</th><td>25                </td><td> 3                </td><td>1                 </td><td>A                 </td><td>1                 </td><td>8.645647618       </td><td>-0.5757632605     </td><td>-2.389529823      </td><td>0.989321933487825 </td><td> 0.010678066512175</td><td>0.5               </td><td>1                 </td></tr>\n",
       "\t<tr><th scope=row>2</th><td>25                </td><td> 6                </td><td>2                 </td><td>A                 </td><td>1                 </td><td>8.645647618       </td><td>-0.5757632605     </td><td>-2.389529823      </td><td>0.601569359887134 </td><td> 0.398430640112866</td><td>0.5               </td><td>1                 </td></tr>\n",
       "\t<tr><th scope=row>4</th><td>25                </td><td>15                </td><td>5                 </td><td>B                 </td><td>0                 </td><td>8.645647618       </td><td>-0.5757632605     </td><td>-2.389529823      </td><td>0.000006534224169 </td><td>-0.000006534224169</td><td>0.5               </td><td>0                 </td></tr>\n",
       "</tbody>\n",
       "</table>\n"
      ],
      "text/latex": [
       "\\begin{tabular}{r|llllllllllll}\n",
       "  & iteration & x1 & x2 & class & class.bin & w0 & w1 & w2 & output & error & cutoff.A & class.bin.predicted\\\\\n",
       "\\hline\n",
       "\t3 & 25                 & 14                 & 6                  & B                  & 0                  & 8.645647618        & -0.5757632605      & -2.389529823       & 0.000001065338434  & -0.000001065338434 & 0.5                & 0                 \\\\\n",
       "\t1 & 25                 &  3                 & 1                  & A                  & 1                  & 8.645647618        & -0.5757632605      & -2.389529823       & 0.989321933487825  &  0.010678066512175 & 0.5                & 1                 \\\\\n",
       "\t2 & 25                 &  6                 & 2                  & A                  & 1                  & 8.645647618        & -0.5757632605      & -2.389529823       & 0.601569359887134  &  0.398430640112866 & 0.5                & 1                 \\\\\n",
       "\t4 & 25                 & 15                 & 5                  & B                  & 0                  & 8.645647618        & -0.5757632605      & -2.389529823       & 0.000006534224169  & -0.000006534224169 & 0.5                & 0                 \\\\\n",
       "\\end{tabular}\n"
      ],
      "text/markdown": [
       "\n",
       "| <!--/--> | iteration | x1 | x2 | class | class.bin | w0 | w1 | w2 | output | error | cutoff.A | class.bin.predicted |\n",
       "|---|---|---|---|---|---|---|---|---|---|---|---|---|\n",
       "| 3 | 25                 | 14                 | 6                  | B                  | 0                  | 8.645647618        | -0.5757632605      | -2.389529823       | 0.000001065338434  | -0.000001065338434 | 0.5                | 0                  |\n",
       "| 1 | 25                 |  3                 | 1                  | A                  | 1                  | 8.645647618        | -0.5757632605      | -2.389529823       | 0.989321933487825  |  0.010678066512175 | 0.5                | 1                  |\n",
       "| 2 | 25                 |  6                 | 2                  | A                  | 1                  | 8.645647618        | -0.5757632605      | -2.389529823       | 0.601569359887134  |  0.398430640112866 | 0.5                | 1                  |\n",
       "| 4 | 25                 | 15                 | 5                  | B                  | 0                  | 8.645647618        | -0.5757632605      | -2.389529823       | 0.000006534224169  | -0.000006534224169 | 0.5                | 0                  |\n",
       "\n"
      ],
      "text/plain": [
       "  iteration x1 x2 class class.bin w0          w1            w2          \n",
       "3 25        14 6  B     0         8.645647618 -0.5757632605 -2.389529823\n",
       "1 25         3 1  A     1         8.645647618 -0.5757632605 -2.389529823\n",
       "2 25         6 2  A     1         8.645647618 -0.5757632605 -2.389529823\n",
       "4 25        15 5  B     0         8.645647618 -0.5757632605 -2.389529823\n",
       "  output            error              cutoff.A class.bin.predicted\n",
       "3 0.000001065338434 -0.000001065338434 0.5      0                  \n",
       "1 0.989321933487825  0.010678066512175 0.5      1                  \n",
       "2 0.601569359887134  0.398430640112866 0.5      1                  \n",
       "4 0.000006534224169 -0.000006534224169 0.5      0                  "
      ]
     },
     "metadata": {},
     "output_type": "display_data"
    }
   ],
   "source": [
    "# Iterate perceptron algorithm\n",
    "\n",
    "iteration = iteration + 1\n",
    "status = status[sample(nrow(status)),]\n",
    "\n",
    "status$iteration = iteration\n",
    "\n",
    "status$w0[1] = w0.current; status$w1[1] = w1.current; status$w2[1] = w2.current\n",
    "status$output[1] = sigmoid(status$w0[1] + status$w1[1]*status$x1[1] + status$w2[1]*status$x2[1])    \n",
    "status$error[1] = status$class.bin[1] - status$output[1]\n",
    "status$class.bin.predicted[1] = as.numeric(status$output[1] >= cutoff.A)\n",
    "if (status$class.bin.predicted[1] != status$class.bin[1]) { w0.current = status$w0[1] + status$error[1]\n",
    "                                                            w1.current = status$w1[1] + status$error[1]*status$x1[1]\n",
    "                                                            w2.current = status$w2[1] + status$error[1]*status$x2[1] }\n",
    "\n",
    "status$w0[2] = w0.current; status$w1[2] = w1.current; status$w2[2] = w2.current\n",
    "status$output[2] = sigmoid(status$w0[2] + status$w1[2]*status$x1[2] + status$w2[2]*status$x2[2])    \n",
    "status$error[2] = status$class.bin[2] - status$output[2]\n",
    "status$class.bin.predicted[2] = as.numeric(status$output[2] >= cutoff.A)\n",
    "if (status$class.bin.predicted[2] != status$class.bin[2]) { w0.current = status$w0[2] + status$error[2]\n",
    "                                                            w1.current = status$w1[2] + status$error[2]*status$x1[2]\n",
    "                                                            w2.current = status$w2[2] + status$error[2]*status$x2[2] }\n",
    "\n",
    "status$w0[3] = w0.current; status$w1[3] = w1.current; status$w2[3] = w2.current\n",
    "status$output[3] = sigmoid(status$w0[3] + status$w1[3]*status$x1[3] + status$w2[3]*status$x2[3])    \n",
    "status$error[3] = status$class.bin[3] - status$output[3]\n",
    "status$class.bin.predicted[3] = as.numeric(status$output[3] >= cutoff.A)\n",
    "if (status$class.bin.predicted[3] != status$class.bin[3]) { w0.current = status$w0[3] + status$error[3]\n",
    "                                                            w1.current = status$w1[3] + status$error[3]*status$x1[3]\n",
    "                                                            w2.current = status$w2[3] + status$error[3]*status$x2[3] }\n",
    "\n",
    "status$w0[4] = w0.current; status$w1[4] = w1.current; status$w2[4] = w2.current\n",
    "status$output[4] = sigmoid(status$w0[4] + status$w1[4]*status$x1[4] + status$w2[4]*status$x2[4])    \n",
    "status$error[4] = status$class.bin[4] - status$output[4]\n",
    "status$class.bin.predicted[4] = as.numeric(status$output[4] >= cutoff.A)\n",
    "if (status$class.bin.predicted[4] != status$class.bin[4]) { w0.current = status$w0[4] + status$error[4]\n",
    "                                                            w1.current = status$w1[4] + status$error[4]*status$x1[4]\n",
    "                                                            w2.current = status$w2[4] + status$error[4]*status$x2[4] }\n",
    "\n",
    "status"
   ]
  },
  {
   "cell_type": "markdown",
   "metadata": {},
   "source": [
    "#### Results\n",
    "\n",
    "The model weights are then determined to be the weights of the last observation of the last iteration. "
   ]
  },
  {
   "cell_type": "code",
   "execution_count": 174,
   "metadata": {},
   "outputs": [
    {
     "data": {
      "text/html": [
       "<table>\n",
       "<thead><tr><th scope=col>w0</th><th scope=col>w1</th><th scope=col>w2</th></tr></thead>\n",
       "<tbody>\n",
       "\t<tr><td>8.645647618  </td><td>-0.5757632605</td><td>-2.389529823 </td></tr>\n",
       "</tbody>\n",
       "</table>\n"
      ],
      "text/latex": [
       "\\begin{tabular}{r|lll}\n",
       " w0 & w1 & w2\\\\\n",
       "\\hline\n",
       "\t 8.645647618   & -0.5757632605 & -2.389529823 \\\\\n",
       "\\end{tabular}\n"
      ],
      "text/markdown": [
       "\n",
       "| w0 | w1 | w2 |\n",
       "|---|---|---|\n",
       "| 8.645647618   | -0.5757632605 | -2.389529823  |\n",
       "\n"
      ],
      "text/plain": [
       "  w0          w1            w2          \n",
       "1 8.645647618 -0.5757632605 -2.389529823"
      ]
     },
     "metadata": {},
     "output_type": "display_data"
    }
   ],
   "source": [
    "w0=status$w0[4]\n",
    "w1=status$w1[4]\n",
    "w2=status$w2[4]\n",
    "\n",
    "data.frame(w0, w1, w2)"
   ]
  },
  {
   "cell_type": "markdown",
   "metadata": {},
   "source": [
    "<br>\n",
    "\n",
    "#### Prediction\n",
    "\n",
    "Use the model with resultant weights to predict the new observation's class."
   ]
  },
  {
   "cell_type": "code",
   "execution_count": 190,
   "metadata": {
    "hide_input": true
   },
   "outputs": [
    {
     "data": {
      "text/html": [
       "<table>\n",
       "<thead><tr><th scope=col>x1</th><th scope=col>x2</th><th scope=col>output</th><th scope=col>cutoff.A</th><th scope=col>class.predicted</th></tr></thead>\n",
       "<tbody>\n",
       "\t<tr><td>10           </td><td>4            </td><td>0.00126666003</td><td>0.5          </td><td>B            </td></tr>\n",
       "</tbody>\n",
       "</table>\n"
      ],
      "text/latex": [
       "\\begin{tabular}{r|lllll}\n",
       " x1 & x2 & output & cutoff.A & class.predicted\\\\\n",
       "\\hline\n",
       "\t 10            & 4             & 0.00126666003 & 0.5           & B            \\\\\n",
       "\\end{tabular}\n"
      ],
      "text/markdown": [
       "\n",
       "| x1 | x2 | output | cutoff.A | class.predicted |\n",
       "|---|---|---|---|---|\n",
       "| 10            | 4             | 0.00126666003 | 0.5           | B             |\n",
       "\n"
      ],
      "text/plain": [
       "  x1 x2 output        cutoff.A class.predicted\n",
       "1 10 4  0.00126666003 0.5      B              "
      ]
     },
     "metadata": {},
     "output_type": "display_data"
    }
   ],
   "source": [
    "output = sigmoid(w0 + w1*data.new$x1 + w2*data.new$x2)\n",
    "prob = data.frame(\"A\"=output, \"B\"=1-output)\n",
    "class.predicted = as.class(prob, \"A\", cutoff.A)\n",
    "                           \n",
    "data.frame(x1=data.new$x1, x2=data.new$x2, output, cutoff.A, class.predicted)"
   ]
  },
  {
   "cell_type": "markdown",
   "metadata": {},
   "source": [
    "<br>\n",
    "\n",
    "### Perceptron Method for Classification of Not Linearly Separable Data"
   ]
  },
  {
   "cell_type": "markdown",
   "metadata": {},
   "source": [
    "#### Data\n",
    "\n",
    "Note, these data are not linearly separable, i.e., you cannot separate the clusters by a straight line."
   ]
  },
  {
   "cell_type": "code",
   "execution_count": 315,
   "metadata": {
    "hideCode": false,
    "hidePrompt": false,
    "hide_input": true,
    "run_control": {
     "marked": false
    }
   },
   "outputs": [
    {
     "data": {
      "image/png": "[encoded data removed]",
      "text/plain": [
       "plot without title"
      ]
     },
     "metadata": {},
     "output_type": "display_data"
    }
   ],
   "source": [
    "data = data.frame(x1=c(6,8,14,12), x2=c(2,3,6,5), class=c(\"B\", \"A\", \"A\", \"B\"))\n",
    "data.new = data.frame(x1=10, x2=4)\n",
    "\n",
    "ggplot(data) +\n",
    "geom_point(aes(x=x1, y=x2, color=class)) + geom_point(aes(x=x1, y=x2), data=data.new) +\n",
    "scale_color_manual(values=PALETTE) + xlim(0,20)"
   ]
  },
  {
   "cell_type": "markdown",
   "metadata": {},
   "source": [
    "<br>\n",
    "\n",
    "#### Initialize and iterate many times.\n",
    "\n",
    "Note that weights not do stablize.  (Weights align at iteration 63, 67, and 88, but subsequently diverge.)"
   ]
  },
  {
   "cell_type": "code",
   "execution_count": 406,
   "metadata": {},
   "outputs": [
    {
     "data": {
      "text/html": [
       "<table>\n",
       "<thead><tr><th scope=col>w0.current</th><th scope=col>w1.current</th><th scope=col>w2.current</th></tr></thead>\n",
       "<tbody>\n",
       "\t<tr><td>0.7209038963</td><td>0.8757731931</td><td>0.7609823283</td></tr>\n",
       "</tbody>\n",
       "</table>\n"
      ],
      "text/latex": [
       "\\begin{tabular}{r|lll}\n",
       " w0.current & w1.current & w2.current\\\\\n",
       "\\hline\n",
       "\t 0.7209038963 & 0.8757731931 & 0.7609823283\\\\\n",
       "\\end{tabular}\n"
      ],
      "text/markdown": [
       "\n",
       "| w0.current | w1.current | w2.current |\n",
       "|---|---|---|\n",
       "| 0.7209038963 | 0.8757731931 | 0.7609823283 |\n",
       "\n"
      ],
      "text/plain": [
       "  w0.current   w1.current   w2.current  \n",
       "1 0.7209038963 0.8757731931 0.7609823283"
      ]
     },
     "metadata": {},
     "output_type": "display_data"
    },
    {
     "data": {
      "text/html": [
       "<table>\n",
       "<thead><tr><th scope=col>iteration</th><th scope=col>x1</th><th scope=col>x2</th><th scope=col>class</th><th scope=col>class.bin</th><th scope=col>w0</th><th scope=col>w1</th><th scope=col>w2</th><th scope=col>output</th><th scope=col>error</th><th scope=col>cutoff.A</th><th scope=col>class.bin.predicted</th></tr></thead>\n",
       "<tbody>\n",
       "\t<tr><td>0  </td><td> 6 </td><td>2  </td><td>B  </td><td>0  </td><td>NA </td><td>NA </td><td>NA </td><td>NA </td><td>NA </td><td>0.5</td><td>NA </td></tr>\n",
       "\t<tr><td>0  </td><td> 8 </td><td>3  </td><td>A  </td><td>1  </td><td>NA </td><td>NA </td><td>NA </td><td>NA </td><td>NA </td><td>0.5</td><td>NA </td></tr>\n",
       "\t<tr><td>0  </td><td>14 </td><td>6  </td><td>A  </td><td>1  </td><td>NA </td><td>NA </td><td>NA </td><td>NA </td><td>NA </td><td>0.5</td><td>NA </td></tr>\n",
       "\t<tr><td>0  </td><td>12 </td><td>5  </td><td>B  </td><td>0  </td><td>NA </td><td>NA </td><td>NA </td><td>NA </td><td>NA </td><td>0.5</td><td>NA </td></tr>\n",
       "</tbody>\n",
       "</table>\n"
      ],
      "text/latex": [
       "\\begin{tabular}{r|llllllllllll}\n",
       " iteration & x1 & x2 & class & class.bin & w0 & w1 & w2 & output & error & cutoff.A & class.bin.predicted\\\\\n",
       "\\hline\n",
       "\t 0   &  6  & 2   & B   & 0   & NA  & NA  & NA  & NA  & NA  & 0.5 & NA \\\\\n",
       "\t 0   &  8  & 3   & A   & 1   & NA  & NA  & NA  & NA  & NA  & 0.5 & NA \\\\\n",
       "\t 0   & 14  & 6   & A   & 1   & NA  & NA  & NA  & NA  & NA  & 0.5 & NA \\\\\n",
       "\t 0   & 12  & 5   & B   & 0   & NA  & NA  & NA  & NA  & NA  & 0.5 & NA \\\\\n",
       "\\end{tabular}\n"
      ],
      "text/markdown": [
       "\n",
       "| iteration | x1 | x2 | class | class.bin | w0 | w1 | w2 | output | error | cutoff.A | class.bin.predicted |\n",
       "|---|---|---|---|---|---|---|---|---|---|---|---|\n",
       "| 0   |  6  | 2   | B   | 0   | NA  | NA  | NA  | NA  | NA  | 0.5 | NA  |\n",
       "| 0   |  8  | 3   | A   | 1   | NA  | NA  | NA  | NA  | NA  | 0.5 | NA  |\n",
       "| 0   | 14  | 6   | A   | 1   | NA  | NA  | NA  | NA  | NA  | 0.5 | NA  |\n",
       "| 0   | 12  | 5   | B   | 0   | NA  | NA  | NA  | NA  | NA  | 0.5 | NA  |\n",
       "\n"
      ],
      "text/plain": [
       "  iteration x1 x2 class class.bin w0 w1 w2 output error cutoff.A\n",
       "1 0          6 2  B     0         NA NA NA NA     NA    0.5     \n",
       "2 0          8 3  A     1         NA NA NA NA     NA    0.5     \n",
       "3 0         14 6  A     1         NA NA NA NA     NA    0.5     \n",
       "4 0         12 5  B     0         NA NA NA NA     NA    0.5     \n",
       "  class.bin.predicted\n",
       "1 NA                 \n",
       "2 NA                 \n",
       "3 NA                 \n",
       "4 NA                 "
      ]
     },
     "metadata": {},
     "output_type": "display_data"
    }
   ],
   "source": [
    "# Initialize perceptron method\n",
    "\n",
    "set.seed(12345)\n",
    "\n",
    "cutoff.A = 0.5\n",
    "iteration = 0\n",
    "status = data.frame(iteration, x1=data$x1, x2=data$x2, class=data$class, class.bin=as.binary(data$class, \"A\"), w0=NA, w1=NA, w2=NA, output=NA, error=NA, cutoff.A, class.bin.predicted=NA)\n",
    "w0.current = runif(1); w1.current = runif(1); w2.current = runif(1)\n",
    "\n",
    "data.frame(w0.current, w1.current, w2.current)\n",
    "status"
   ]
  },
  {
   "cell_type": "code",
   "execution_count": 475,
   "metadata": {},
   "outputs": [
    {
     "data": {
      "text/html": [
       "<table>\n",
       "<thead><tr><th></th><th scope=col>iteration</th><th scope=col>x1</th><th scope=col>x2</th><th scope=col>class</th><th scope=col>class.bin</th><th scope=col>w0</th><th scope=col>w1</th><th scope=col>w2</th><th scope=col>output</th><th scope=col>error</th><th scope=col>cutoff.A</th><th scope=col>class.bin.predicted</th></tr></thead>\n",
       "<tbody>\n",
       "\t<tr><th scope=row>2</th><td>69          </td><td> 8          </td><td>3           </td><td>A           </td><td>1           </td><td> -9.64010119</td><td>7.997129854 </td><td>14.68266575 </td><td>1           </td><td> 0          </td><td>0.5         </td><td>1           </td></tr>\n",
       "\t<tr><th scope=row>3</th><td>69          </td><td>14          </td><td>6           </td><td>A           </td><td>1           </td><td> -9.64010119</td><td>7.997129854 </td><td>14.68266575 </td><td>1           </td><td> 0          </td><td>0.5         </td><td>1           </td></tr>\n",
       "\t<tr><th scope=row>1</th><td>69          </td><td> 6          </td><td>2           </td><td>B           </td><td>0           </td><td> -9.64010119</td><td>7.997129854 </td><td>14.68266575 </td><td>1           </td><td>-1          </td><td>0.5         </td><td>1           </td></tr>\n",
       "\t<tr><th scope=row>4</th><td>69          </td><td>12          </td><td>5           </td><td>B           </td><td>0           </td><td>-10.64010119</td><td>1.997129854 </td><td>12.68266575 </td><td>1           </td><td>-1          </td><td>0.5         </td><td>1           </td></tr>\n",
       "</tbody>\n",
       "</table>\n"
      ],
      "text/latex": [
       "\\begin{tabular}{r|llllllllllll}\n",
       "  & iteration & x1 & x2 & class & class.bin & w0 & w1 & w2 & output & error & cutoff.A & class.bin.predicted\\\\\n",
       "\\hline\n",
       "\t2 & 69           &  8           & 3            & A            & 1            &  -9.64010119 & 7.997129854  & 14.68266575  & 1            &  0           & 0.5          & 1           \\\\\n",
       "\t3 & 69           & 14           & 6            & A            & 1            &  -9.64010119 & 7.997129854  & 14.68266575  & 1            &  0           & 0.5          & 1           \\\\\n",
       "\t1 & 69           &  6           & 2            & B            & 0            &  -9.64010119 & 7.997129854  & 14.68266575  & 1            & -1           & 0.5          & 1           \\\\\n",
       "\t4 & 69           & 12           & 5            & B            & 0            & -10.64010119 & 1.997129854  & 12.68266575  & 1            & -1           & 0.5          & 1           \\\\\n",
       "\\end{tabular}\n"
      ],
      "text/markdown": [
       "\n",
       "| <!--/--> | iteration | x1 | x2 | class | class.bin | w0 | w1 | w2 | output | error | cutoff.A | class.bin.predicted |\n",
       "|---|---|---|---|---|---|---|---|---|---|---|---|---|\n",
       "| 2 | 69           |  8           | 3            | A            | 1            |  -9.64010119 | 7.997129854  | 14.68266575  | 1            |  0           | 0.5          | 1            |\n",
       "| 3 | 69           | 14           | 6            | A            | 1            |  -9.64010119 | 7.997129854  | 14.68266575  | 1            |  0           | 0.5          | 1            |\n",
       "| 1 | 69           |  6           | 2            | B            | 0            |  -9.64010119 | 7.997129854  | 14.68266575  | 1            | -1           | 0.5          | 1            |\n",
       "| 4 | 69           | 12           | 5            | B            | 0            | -10.64010119 | 1.997129854  | 12.68266575  | 1            | -1           | 0.5          | 1            |\n",
       "\n"
      ],
      "text/plain": [
       "  iteration x1 x2 class class.bin w0           w1          w2          output\n",
       "2 69         8 3  A     1          -9.64010119 7.997129854 14.68266575 1     \n",
       "3 69        14 6  A     1          -9.64010119 7.997129854 14.68266575 1     \n",
       "1 69         6 2  B     0          -9.64010119 7.997129854 14.68266575 1     \n",
       "4 69        12 5  B     0         -10.64010119 1.997129854 12.68266575 1     \n",
       "  error cutoff.A class.bin.predicted\n",
       "2  0    0.5      1                  \n",
       "3  0    0.5      1                  \n",
       "1 -1    0.5      1                  \n",
       "4 -1    0.5      1                  "
      ]
     },
     "metadata": {},
     "output_type": "display_data"
    }
   ],
   "source": [
    "# Iterate perceptron method\n",
    "\n",
    "iteration = iteration + 1\n",
    "status = status[sample(nrow(status)),]\n",
    "\n",
    "status$iteration = iteration\n",
    "\n",
    "status$w0[1] = w0.current; status$w1[1] = w1.current; status$w2[1] = w2.current\n",
    "status$output[1] = sigmoid(status$w0[1] + status$w1[1]*status$x1[1] + status$w2[1]*status$x2[1])    \n",
    "status$error[1] = status$class.bin[1] - status$output[1]\n",
    "status$class.bin.predicted[1] = as.numeric(status$output[1] >= cutoff.A)\n",
    "if (status$class.bin.predicted[1] != status$class.bin[1]) { w0.current = status$w0[1] + status$error[1]\n",
    "                                                            w1.current = status$w1[1] + status$error[1]*status$x1[1]\n",
    "                                                            w2.current = status$w2[1] + status$error[1]*status$x2[1] }\n",
    "\n",
    "status$w0[2] = w0.current; status$w1[2] = w1.current; status$w2[2] = w2.current\n",
    "status$output[2] = sigmoid(status$w0[2] + status$w1[2]*status$x1[2] + status$w2[2]*status$x2[2])    \n",
    "status$error[2] = status$class.bin[2] - status$output[2]\n",
    "status$class.bin.predicted[2] = as.numeric(status$output[2] >= cutoff.A)\n",
    "if (status$class.bin.predicted[2] != status$class.bin[2]) { w0.current = status$w0[2] + status$error[2]\n",
    "                                                            w1.current = status$w1[2] + status$error[2]*status$x1[2]\n",
    "                                                            w2.current = status$w2[2] + status$error[2]*status$x2[2] }\n",
    "\n",
    "status$w0[3] = w0.current; status$w1[3] = w1.current; status$w2[3] = w2.current\n",
    "status$output[3] = sigmoid(status$w0[3] + status$w1[3]*status$x1[3] + status$w2[3]*status$x2[3])    \n",
    "status$error[3] = status$class.bin[3] - status$output[3]\n",
    "status$class.bin.predicted[3] = as.numeric(status$output[3] >= cutoff.A)\n",
    "if (status$class.bin.predicted[3] != status$class.bin[3]) { w0.current = status$w0[3] + status$error[3]\n",
    "                                                            w1.current = status$w1[3] + status$error[3]*status$x1[3]\n",
    "                                                            w2.current = status$w2[3] + status$error[3]*status$x2[3] }\n",
    "\n",
    "status$w0[4] = w0.current; status$w1[4] = w1.current; status$w2[4] = w2.current\n",
    "status$output[4] = sigmoid(status$w0[4] + status$w1[4]*status$x1[4] + status$w2[4]*status$x2[4])    \n",
    "status$error[4] = status$class.bin[4] - status$output[4]\n",
    "status$class.bin.predicted[4] = as.numeric(status$output[4] >= cutoff.A)\n",
    "if (status$class.bin.predicted[4] != status$class.bin[4]) { w0.current = status$w0[4] + status$error[4]\n",
    "                                                            w1.current = status$w1[4] + status$error[4]*status$x1[4]\n",
    "                                                            w2.current = status$w2[4] + status$error[4]*status$x2[4] }\n",
    "\n",
    "status"
   ]
  },
  {
   "cell_type": "markdown",
   "metadata": {},
   "source": [
    "<br>\n",
    "\n",
    "### 2-Layer Neural Network Model"
   ]
  },
  {
   "cell_type": "markdown",
   "metadata": {},
   "source": [
    "#### Data."
   ]
  },
  {
   "cell_type": "code",
   "execution_count": 16,
   "metadata": {
    "hideCode": false,
    "hidePrompt": false,
    "hide_input": true,
    "run_control": {
     "marked": false
    }
   },
   "outputs": [
    {
     "data": {
      "image/png": "[encoded data removed]",
      "text/plain": [
       "plot without title"
      ]
     },
     "metadata": {},
     "output_type": "display_data"
    }
   ],
   "source": [
    "ggplot(data) + geom_point(aes(x=x1, y=x2, color=class)) + geom_point(aes(x=new_point$x1[1], y=new_point$x2[1])) + scale_color_manual(values=PALETTE) + xlim(0,20)"
   ]
  },
  {
   "cell_type": "markdown",
   "metadata": {},
   "source": [
    "<br>\n",
    "\n",
    "#### Diagram of a 2-layer perceptron.\n",
    "\n",
    "2 input nodes, 1 hidden layer with 3 nodes, 1 output node."
   ]
  },
  {
   "cell_type": "code",
   "execution_count": 18,
   "metadata": {
    "hide_input": true,
    "scrolled": false
   },
   "outputs": [
    {
     "data": {
      "image/png": "[encoded data removed]",
      "text/plain": [
       "plot without title"
      ]
     },
     "metadata": {},
     "output_type": "display_data"
    }
   ],
   "source": [
    "# Diagram of perceptron\n",
    "ann = data.frame(x1=1, x2=1, output=1)\n",
    "model = neuralnet(output ~ x1+x2, ann, hidden=3)\n",
    "plot(model, rep=1, fill=\"gray\", cex=0.7, lwd=0.5, show.weights=FALSE, information=FALSE)"
   ]
  },
  {
   "cell_type": "markdown",
   "metadata": {},
   "source": [
    "<br>\n",
    "\n",
    "#### Find the 2-layer perceptron's weights.\n",
    "\n",
    "Use the **backpropagation algorithm** with the already classified data to find the perceptron's weights.  The backpropagation algorithm is similar to the perceptron algorithm, but can handle hidden layers."
   ]
  },
  {
   "cell_type": "code",
   "execution_count": 41,
   "metadata": {
    "scrolled": true
   },
   "outputs": [
    {
     "data": {
      "text/plain": [
       "$call\n",
       "neuralnet(formula = actual ~ x1 + x2, data = ann, hidden = 3, \n",
       "    rep = 1, algorithm = \"rprop+\", linear.output = FALSE)\n",
       "\n",
       "$response\n",
       "  actual\n",
       "1      1\n",
       "2      1\n",
       "3      1\n",
       "4      0\n",
       "5      1\n",
       "6      0\n",
       "7      0\n",
       "8      0\n",
       "9      0\n",
       "\n",
       "$covariate\n",
       "      x1 x2\n",
       " [1,]  1  1\n",
       " [2,]  2  2\n",
       " [3,]  3  1\n",
       " [4,]  5  2\n",
       " [5,]  6  2\n",
       " [6,] 14  6\n",
       " [7,] 15  7\n",
       " [8,] 16  6\n",
       " [9,] 18  7\n",
       "\n",
       "$model.list\n",
       "$model.list$response\n",
       "[1] \"actual\"\n",
       "\n",
       "$model.list$variables\n",
       "[1] \"x1\" \"x2\"\n",
       "\n",
       "\n",
       "$err.fct\n",
       "function (x, y) \n",
       "{\n",
       "    1/2 * (y - x)^2\n",
       "}\n",
       "<bytecode: 0x0000000005424108>\n",
       "<environment: 0x0000000014993a30>\n",
       "attr(,\"type\")\n",
       "[1] \"sse\"\n",
       "\n",
       "$act.fct\n",
       "function (x) \n",
       "{\n",
       "    1/(1 + exp(-x))\n",
       "}\n",
       "<bytecode: 0x000000000541ecb0>\n",
       "<environment: 0x0000000014993560>\n",
       "attr(,\"type\")\n",
       "[1] \"logistic\"\n",
       "\n",
       "$linear.output\n",
       "[1] FALSE\n",
       "\n",
       "$data\n",
       "  x1 x2 output predicted actual error\n",
       "1  1  1     NA        NA      1    NA\n",
       "2  2  2     NA        NA      1    NA\n",
       "3  3  1     NA        NA      1    NA\n",
       "4  5  2     NA        NA      0    NA\n",
       "5  6  2     NA        NA      1    NA\n",
       "6 14  6     NA        NA      0    NA\n",
       "7 15  7     NA        NA      0    NA\n",
       "8 16  6     NA        NA      0    NA\n",
       "9 18  7     NA        NA      0    NA\n",
       "\n",
       "$exclude\n",
       "NULL\n",
       "\n",
       "$net.result\n",
       "$net.result[[1]]\n",
       "                        [,1]\n",
       " [1,] 1.00000000000000000000\n",
       " [2,] 0.99999948289710283156\n",
       " [3,] 0.99999998862446848324\n",
       " [4,] 0.05410083104272024601\n",
       " [5,] 0.95026291498652537548\n",
       " [6,] 0.00000000002101099370\n",
       " [7,] 0.00000000001176257220\n",
       " [8,] 0.00000000005689604873\n",
       " [9,] 0.00000000001813868197\n",
       "\n",
       "\n",
       "$weights\n",
       "$weights[[1]]\n",
       "$weights[[1]][[1]]\n",
       "              [,1]          [,2]         [,3]\n",
       "[1,] -35.189670864  1.4145052101 20.672669465\n",
       "[2,]   4.486447905  0.4345520396 -8.148136534\n",
       "[3,]  22.696153239 -1.9612985369 -2.576001099\n",
       "\n",
       "$weights[[1]][[2]]\n",
       "               [,1]\n",
       "[1,]  -0.7772143388\n",
       "[2,] -24.5521395276\n",
       "[3,]  53.8875052950\n",
       "[4,]  98.4627186603\n",
       "\n",
       "\n",
       "\n",
       "$generalized.weights\n",
       "$generalized.weights[[1]]\n",
       "                  [,1]            [,2]\n",
       " [1,]              NaN             NaN\n",
       " [2,] -170.00451192100  -69.1453085114\n",
       " [3,]  -18.30664396935 -134.6930182251\n",
       " [4,]    5.69269403934  -25.6932921507\n",
       " [5,]    5.83984667957  -26.3574479085\n",
       " [6,]    0.31858037636   -1.4378743373\n",
       " [7,]    0.07072803833   -0.3192225221\n",
       " [8,]    0.73152639611   -3.3016566936\n",
       " [9,]    0.25628981045   -1.1567333355\n",
       "\n",
       "\n",
       "$startweights\n",
       "$startweights[[1]]\n",
       "$startweights[[1]][[1]]\n",
       "              [,1]          [,2]          [,3]\n",
       "[1,]  0.5855288178 -0.4534971735  0.6300985511\n",
       "[2,]  0.7094660175  0.6058874558 -0.2761841052\n",
       "[3,] -0.1093033147 -1.8179559677 -0.2841597439\n",
       "\n",
       "$startweights[[1]][[2]]\n",
       "              [,1]\n",
       "[1,] -0.9193220025\n",
       "[2,] -0.1162478064\n",
       "[3,]  1.8173120437\n",
       "[4,]  0.3706278643\n",
       "\n",
       "\n",
       "\n",
       "$result.matrix\n",
       "                                   [,1]\n",
       "error                    0.002700338773\n",
       "reached.threshold        0.009354757573\n",
       "steps                 1072.000000000000\n",
       "Intercept.to.1layhid1  -35.189670863669\n",
       "x1.to.1layhid1           4.486447904952\n",
       "x2.to.1layhid1          22.696153238576\n",
       "Intercept.to.1layhid2    1.414505210135\n",
       "x1.to.1layhid2           0.434552039630\n",
       "x2.to.1layhid2          -1.961298536853\n",
       "Intercept.to.1layhid3   20.672669464688\n",
       "x1.to.1layhid3          -8.148136533776\n",
       "x2.to.1layhid3          -2.576001098892\n",
       "Intercept.to.actual     -0.777214338836\n",
       "1layhid1.to.actual     -24.552139527581\n",
       "1layhid2.to.actual      53.887505295032\n",
       "1layhid3.to.actual      98.462718660289\n",
       "\n",
       "attr(,\"class\")\n",
       "[1] \"nn\""
      ]
     },
     "metadata": {},
     "output_type": "display_data"
    }
   ],
   "source": [
    "set.seed(12345)\n",
    "model = neuralnet(actual ~ x1+x2, ann, hidden=3, algorithm=\"rprop+\", linear.output=FALSE, rep=1)\n",
    "model"
   ]
  },
  {
   "cell_type": "code",
   "execution_count": 20,
   "metadata": {
    "hide_input": false
   },
   "outputs": [
    {
     "ename": "ERROR",
     "evalue": "Error in if (ncol.matrix < rep) {: argument is of length zero\n",
     "output_type": "error",
     "traceback": [
      "Error in if (ncol.matrix < rep) {: argument is of length zero\nTraceback:\n",
      "1. neuralnet(actual ~ x1 + x2, ann, hidden = 3, algorithm = \"backprop\", \n .     learningrate = 0.1, threshold = 0.01, stepmax = 5000, rep = 10, \n .     act.fct = \"logistic\", linear.output = FALSE)"
     ]
    }
   ],
   "source": [
    "# Initialize and run the backpropagation algorithm using neuralnet() function\n",
    "\n",
    "set.seed(12345)\n",
    "ann = data.frame(x1=data$x1, x2=data$x2, output=NA, predicted=NA, actual=as.binary(data$class, \"A\"), error=NA)\n",
    "\n",
    "model = neuralnet(actual ~ x1+x2, ann, hidden=3, algorithm=\"backprop\", learningrate=0.1, threshold=0.01, stepmax=5000, rep=10, act.fct=\"logistic\", linear.output=FALSE)\n",
    "best = as.numeric(which.min(model$result.matrix[\"error\",]))\n",
    "best"
   ]
  },
  {
   "cell_type": "code",
   "execution_count": 15,
   "metadata": {
    "scrolled": false
   },
   "outputs": [
    {
     "name": "stdout",
     "output_type": "stream",
     "text": [
      "Cutoff = 0.5 \n",
      "Mean Absolute Error =  0.06520922645 \n"
     ]
    },
    {
     "data": {
      "text/html": [
       "<ol>\n",
       "\t<li><table>\n",
       "<tbody>\n",
       "\t<tr><td>-0.4742218533</td><td> 0.7820754349</td><td> 3.149924662 </td></tr>\n",
       "\t<tr><td> 1.2316269572</td><td> 2.0738467614</td><td>-1.991408308 </td></tr>\n",
       "\t<tr><td>-1.2278537490</td><td>-6.1151190204</td><td> 1.468515232 </td></tr>\n",
       "</tbody>\n",
       "</table>\n",
       "</li>\n",
       "\t<li><table>\n",
       "<tbody>\n",
       "\t<tr><td>-1.089851795</td></tr>\n",
       "\t<tr><td>-2.543659679</td></tr>\n",
       "\t<tr><td> 7.264601287</td></tr>\n",
       "\t<tr><td> 5.441405961</td></tr>\n",
       "</tbody>\n",
       "</table>\n",
       "</li>\n",
       "</ol>\n"
      ],
      "text/latex": [
       "\\begin{enumerate}\n",
       "\\item \\begin{tabular}{lll}\n",
       "\t -0.4742218533 &  0.7820754349 &  3.149924662 \\\\\n",
       "\t  1.2316269572 &  2.0738467614 & -1.991408308 \\\\\n",
       "\t -1.2278537490 & -6.1151190204 &  1.468515232 \\\\\n",
       "\\end{tabular}\n",
       "\n",
       "\\item \\begin{tabular}{l}\n",
       "\t -1.089851795\\\\\n",
       "\t -2.543659679\\\\\n",
       "\t  7.264601287\\\\\n",
       "\t  5.441405961\\\\\n",
       "\\end{tabular}\n",
       "\n",
       "\\end{enumerate}\n"
      ],
      "text/markdown": [
       "1. \n",
       "| -0.4742218533 |  0.7820754349 |  3.149924662  | \n",
       "|  1.2316269572 |  2.0738467614 | -1.991408308  | \n",
       "| -1.2278537490 | -6.1151190204 |  1.468515232  | \n",
       "\n",
       "\n",
       "\n",
       "2. \n",
       "| -1.089851795 | \n",
       "| -2.543659679 | \n",
       "|  7.264601287 | \n",
       "|  5.441405961 | \n",
       "\n",
       "\n",
       "\n",
       "\n",
       "\n"
      ],
      "text/plain": [
       "[[1]]\n",
       "              [,1]          [,2]         [,3]\n",
       "[1,] -0.4742218533  0.7820754349  3.149924662\n",
       "[2,]  1.2316269572  2.0738467614 -1.991408308\n",
       "[3,] -1.2278537490 -6.1151190204  1.468515232\n",
       "\n",
       "[[2]]\n",
       "             [,1]\n",
       "[1,] -1.089851795\n",
       "[2,] -2.543659679\n",
       "[3,]  7.264601287\n",
       "[4,]  5.441405961\n"
      ]
     },
     "metadata": {},
     "output_type": "display_data"
    },
    {
     "data": {
      "text/html": [
       "<table>\n",
       "<thead><tr><th scope=col>x1</th><th scope=col>x2</th><th scope=col>output</th><th scope=col>predicted</th><th scope=col>actual</th><th scope=col>error</th></tr></thead>\n",
       "<tbody>\n",
       "\t<tr><td> 1            </td><td>1             </td><td>0.96357561490 </td><td>1             </td><td>1             </td><td>-0.03642438510</td></tr>\n",
       "\t<tr><td> 2            </td><td>2             </td><td>0.94184155979 </td><td>1             </td><td>1             </td><td>-0.05815844021</td></tr>\n",
       "\t<tr><td> 3            </td><td>1             </td><td>0.94951445295 </td><td>1             </td><td>1             </td><td>-0.05048554705</td></tr>\n",
       "\t<tr><td> 5            </td><td>2             </td><td>0.17047159085 </td><td>0             </td><td>0             </td><td> 0.17047159085</td></tr>\n",
       "\t<tr><td> 6            </td><td>2             </td><td>0.84743163454 </td><td>1             </td><td>1             </td><td>-0.15256836546</td></tr>\n",
       "\t<tr><td>14            </td><td>6             </td><td>0.02593712939 </td><td>0             </td><td>0             </td><td> 0.02593712939</td></tr>\n",
       "\t<tr><td>15            </td><td>7             </td><td>0.02575159314 </td><td>0             </td><td>0             </td><td> 0.02575159314</td></tr>\n",
       "\t<tr><td>16            </td><td>6             </td><td>0.03963908686 </td><td>0             </td><td>0             </td><td> 0.03963908686</td></tr>\n",
       "\t<tr><td>18            </td><td>7             </td><td>0.02744690004 </td><td>0             </td><td>0             </td><td> 0.02744690004</td></tr>\n",
       "</tbody>\n",
       "</table>\n"
      ],
      "text/latex": [
       "\\begin{tabular}{r|llllll}\n",
       " x1 & x2 & output & predicted & actual & error\\\\\n",
       "\\hline\n",
       "\t  1             & 1              & 0.96357561490  & 1              & 1              & -0.03642438510\\\\\n",
       "\t  2             & 2              & 0.94184155979  & 1              & 1              & -0.05815844021\\\\\n",
       "\t  3             & 1              & 0.94951445295  & 1              & 1              & -0.05048554705\\\\\n",
       "\t  5             & 2              & 0.17047159085  & 0              & 0              &  0.17047159085\\\\\n",
       "\t  6             & 2              & 0.84743163454  & 1              & 1              & -0.15256836546\\\\\n",
       "\t 14             & 6              & 0.02593712939  & 0              & 0              &  0.02593712939\\\\\n",
       "\t 15             & 7              & 0.02575159314  & 0              & 0              &  0.02575159314\\\\\n",
       "\t 16             & 6              & 0.03963908686  & 0              & 0              &  0.03963908686\\\\\n",
       "\t 18             & 7              & 0.02744690004  & 0              & 0              &  0.02744690004\\\\\n",
       "\\end{tabular}\n"
      ],
      "text/markdown": [
       "\n",
       "x1 | x2 | output | predicted | actual | error | \n",
       "|---|---|---|---|---|---|---|---|---|\n",
       "|  1             | 1              | 0.96357561490  | 1              | 1              | -0.03642438510 | \n",
       "|  2             | 2              | 0.94184155979  | 1              | 1              | -0.05815844021 | \n",
       "|  3             | 1              | 0.94951445295  | 1              | 1              | -0.05048554705 | \n",
       "|  5             | 2              | 0.17047159085  | 0              | 0              |  0.17047159085 | \n",
       "|  6             | 2              | 0.84743163454  | 1              | 1              | -0.15256836546 | \n",
       "| 14             | 6              | 0.02593712939  | 0              | 0              |  0.02593712939 | \n",
       "| 15             | 7              | 0.02575159314  | 0              | 0              |  0.02575159314 | \n",
       "| 16             | 6              | 0.03963908686  | 0              | 0              |  0.03963908686 | \n",
       "| 18             | 7              | 0.02744690004  | 0              | 0              |  0.02744690004 | \n",
       "\n",
       "\n"
      ],
      "text/plain": [
       "  x1 x2 output        predicted actual error         \n",
       "1  1 1  0.96357561490 1         1      -0.03642438510\n",
       "2  2 2  0.94184155979 1         1      -0.05815844021\n",
       "3  3 1  0.94951445295 1         1      -0.05048554705\n",
       "4  5 2  0.17047159085 0         0       0.17047159085\n",
       "5  6 2  0.84743163454 1         1      -0.15256836546\n",
       "6 14 6  0.02593712939 0         0       0.02593712939\n",
       "7 15 7  0.02575159314 0         0       0.02575159314\n",
       "8 16 6  0.03963908686 0         0       0.03963908686\n",
       "9 18 7  0.02744690004 0         0       0.02744690004"
      ]
     },
     "metadata": {},
     "output_type": "display_data"
    },
    {
     "data": {
      "image/png": "[encoded data removed]",
      "text/plain": [
       "plot without title"
      ]
     },
     "metadata": {},
     "output_type": "display_data"
    }
   ],
   "source": [
    "# Present results of backpropagation algorithm\n",
    "\n",
    "cutoff.A = 0.5\n",
    "\n",
    "ann$output = model$net.result[[best]]\n",
    "ann$predicted = as.numeric(ann$output >= cutoff.A)\n",
    "ann$error = ann$output - ann$actual\n",
    "\n",
    "cat(\"Cutoff =\", cutoff.A, \"\\n\")\n",
    "cat(\"Mean Absolute Error = \", mean(abs(ann$error)), \"\\n\")\n",
    "model$weights[[best]]\n",
    "ann\n",
    "model$model.list$response=\"output\"; plot(model, rep=best, fill=\"gray\", cex=0.7, lwd=0.5, information=FALSE)"
   ]
  },
  {
   "cell_type": "markdown",
   "metadata": {},
   "source": [
    "#### Computing Ouput\n",
    "\n",
    "Starting from the input side and proceeding toward the output side, compute each node output as the activation function applied to the weighted sum of node inputs.\n",
    "\n",
    "$r_i = f(w_{i0} + \\sum{w_{ij}x_{ij}})$\n",
    "\n",
    "where ...\n",
    "* $r_i$ is the output of node $i$\n",
    "* $f$ is the activation function\n",
    "* $w_{i0}$ is an offset value for node $i$\n",
    "* $w_{ij}$ is the $j^{th}$ weight for node $i$\n",
    "* $x_{ij}$ is the $j^{th}$ input to node $i$"
   ]
  },
  {
   "cell_type": "markdown",
   "metadata": {},
   "source": [
    "<br>\n",
    "\n",
    "#### Predict the class of a new observation.\n",
    "\n",
    "Use the 2-layer perceptron with final weights to predict a new observation's class.\n",
    "\n",
    "You can use the `compute` function. "
   ]
  },
  {
   "cell_type": "code",
   "execution_count": 16,
   "metadata": {
    "hide_input": true,
    "scrolled": true
   },
   "outputs": [
    {
     "data": {
      "text/html": [
       "<table>\n",
       "<thead><tr><th scope=col>x1</th><th scope=col>x2</th></tr></thead>\n",
       "<tbody>\n",
       "\t<tr><td>10</td><td>4 </td></tr>\n",
       "</tbody>\n",
       "</table>\n"
      ],
      "text/latex": [
       "\\begin{tabular}{r|ll}\n",
       " x1 & x2\\\\\n",
       "\\hline\n",
       "\t 10 & 4 \\\\\n",
       "\\end{tabular}\n"
      ],
      "text/markdown": [
       "\n",
       "x1 | x2 | \n",
       "|---|\n",
       "| 10 | 4  | \n",
       "\n",
       "\n"
      ],
      "text/plain": [
       "  x1 x2\n",
       "1 10 4 "
      ]
     },
     "metadata": {},
     "output_type": "display_data"
    },
    {
     "data": {
      "text/html": [
       "<table>\n",
       "<thead><tr><th scope=col>x1</th><th scope=col>x2</th><th scope=col>output</th><th scope=col>predicted</th><th scope=col>predicted_class</th></tr></thead>\n",
       "<tbody>\n",
       "\t<tr><td>10           </td><td>4            </td><td>0.03675129218</td><td>0            </td><td>B            </td></tr>\n",
       "</tbody>\n",
       "</table>\n"
      ],
      "text/latex": [
       "\\begin{tabular}{r|lllll}\n",
       " x1 & x2 & output & predicted & predicted\\_class\\\\\n",
       "\\hline\n",
       "\t 10            & 4             & 0.03675129218 & 0             & B            \\\\\n",
       "\\end{tabular}\n"
      ],
      "text/markdown": [
       "\n",
       "x1 | x2 | output | predicted | predicted_class | \n",
       "|---|\n",
       "| 10            | 4             | 0.03675129218 | 0             | B             | \n",
       "\n",
       "\n"
      ],
      "text/plain": [
       "  x1 x2 output        predicted predicted_class\n",
       "1 10 4  0.03675129218 0         B              "
      ]
     },
     "metadata": {},
     "output_type": "display_data"
    }
   ],
   "source": [
    "# Compute the perceptron's output for the new unclassified observation\n",
    "\n",
    "new_point\n",
    "\n",
    "output = compute(model, new_point, rep=best)$net.result\n",
    "predicted = as.numeric(output >= cutoff.A)\n",
    "\n",
    "data.frame(x1=new_point$x1[1], x2=new_point$x2[1], output, predicted, predicted_class=if (predicted==1) \"A\" else \"B\")"
   ]
  },
  {
   "cell_type": "markdown",
   "metadata": {},
   "source": [
    "<br>\n",
    "\n",
    "### Multi-Layer Perceptron"
   ]
  },
  {
   "cell_type": "markdown",
   "metadata": {},
   "source": [
    "#### Retrieve data."
   ]
  },
  {
   "cell_type": "code",
   "execution_count": 17,
   "metadata": {
    "hideCode": false,
    "hidePrompt": false,
    "hide_input": true,
    "run_control": {
     "marked": false
    }
   },
   "outputs": [
    {
     "data": {},
     "metadata": {},
     "output_type": "display_data"
    },
    {
     "data": {
      "image/png": "[encoded data removed]",
      "text/plain": [
       "plot without title"
      ]
     },
     "metadata": {},
     "output_type": "display_data"
    }
   ],
   "source": [
    "ggplot(data) + geom_point(aes(x=x1, y=x2, color=class)) + geom_point(aes(x=new_point$x1[1], y=new_point$x2[1])) + scale_color_manual(values=PALETTE) + xlim(0,20)"
   ]
  },
  {
   "cell_type": "markdown",
   "metadata": {},
   "source": [
    "<br>\n",
    "\n",
    "#### Diagram of a 3-layer perceptron.\n",
    "\n",
    "2 inputs, 2 hidden layers (1st hidden layer feeds 4 nodes, 2nd hidden layer feeds 3 nodes), 1 output."
   ]
  },
  {
   "cell_type": "code",
   "execution_count": 42,
   "metadata": {
    "hide_input": true,
    "scrolled": false
   },
   "outputs": [
    {
     "data": {
      "image/png": "[encoded data removed]",
      "text/plain": [
       "plot without title"
      ]
     },
     "metadata": {},
     "output_type": "display_data"
    }
   ],
   "source": [
    "# Diagram of perceptron\n",
    "ann = data.frame(x1=1, x2=1, output=1)\n",
    "model = neuralnet(output ~ x1+x2, ann, hidden=c(4,3))\n",
    "plot(model, rep=1, fill=\"gray\", cex=0.7, lwd=0.5, show.weights=FALSE, information=FALSE)"
   ]
  },
  {
   "cell_type": "code",
   "execution_count": 19,
   "metadata": {},
   "outputs": [
    {
     "data": {
      "text/html": [
       "10"
      ],
      "text/latex": [
       "10"
      ],
      "text/markdown": [
       "10"
      ],
      "text/plain": [
       "[1] 10"
      ]
     },
     "metadata": {},
     "output_type": "display_data"
    }
   ],
   "source": [
    "# Initialize and run backpropagation algorithm using neuralnet() function\n",
    "\n",
    "set.seed(12345)\n",
    "\n",
    "ann = data.frame(x1=data$x1, x2=data$x2, output=NA, predicted=NA, actual=as.binary(data$class, \"A\"), error=NA)\n",
    "\n",
    "model = neuralnet(actual ~ x1+x2, ann, hidden=c(4,3), algorithm=\"backprop\", learningrate=0.1, threshold=0.01, stepmax=5000, rep=10, act.fct=\"logistic\", linear.output=FALSE)\n",
    "best = as.numeric(which.min(model$result.matrix[\"error\",]))\n",
    "best"
   ]
  },
  {
   "cell_type": "code",
   "execution_count": 20,
   "metadata": {
    "scrolled": false
   },
   "outputs": [
    {
     "name": "stdout",
     "output_type": "stream",
     "text": [
      "Cutoff = 0.5 \n",
      "Mean Absolute Error =  0.04895423373 \n"
     ]
    },
    {
     "data": {
      "text/html": [
       "<ol>\n",
       "\t<li><table>\n",
       "<tbody>\n",
       "\t<tr><td> 1.627272063</td><td>-0.534036270</td><td>-1.086473850</td><td>-1.296409386</td></tr>\n",
       "\t<tr><td>-1.729692805</td><td> 2.021399417</td><td>-1.563790521</td><td> 1.697770636</td></tr>\n",
       "\t<tr><td> 1.599467281</td><td> 1.031499132</td><td> 4.804524745</td><td>-1.694606994</td></tr>\n",
       "</tbody>\n",
       "</table>\n",
       "</li>\n",
       "\t<li><table>\n",
       "<tbody>\n",
       "\t<tr><td>-0.06973513337</td><td>-2.686038335  </td><td> 1.016991139  </td></tr>\n",
       "\t<tr><td> 0.69548939289</td><td>-2.420797906  </td><td> 1.674994951  </td></tr>\n",
       "\t<tr><td> 0.97376897014</td><td>-1.126516481  </td><td> 1.936699414  </td></tr>\n",
       "\t<tr><td>-2.06273099438</td><td> 3.973643029  </td><td>-3.273973793  </td></tr>\n",
       "\t<tr><td>-0.21692603503</td><td> 2.165184775  </td><td>-1.592080960  </td></tr>\n",
       "</tbody>\n",
       "</table>\n",
       "</li>\n",
       "\t<li><table>\n",
       "<tbody>\n",
       "\t<tr><td> 0.1305932711</td></tr>\n",
       "\t<tr><td> 2.3009793147</td></tr>\n",
       "\t<tr><td>-6.0017731705</td></tr>\n",
       "\t<tr><td> 4.8952380889</td></tr>\n",
       "</tbody>\n",
       "</table>\n",
       "</li>\n",
       "</ol>\n"
      ],
      "text/latex": [
       "\\begin{enumerate}\n",
       "\\item \\begin{tabular}{llll}\n",
       "\t  1.627272063 & -0.534036270 & -1.086473850 & -1.296409386\\\\\n",
       "\t -1.729692805 &  2.021399417 & -1.563790521 &  1.697770636\\\\\n",
       "\t  1.599467281 &  1.031499132 &  4.804524745 & -1.694606994\\\\\n",
       "\\end{tabular}\n",
       "\n",
       "\\item \\begin{tabular}{lll}\n",
       "\t -0.06973513337 & -2.686038335   &  1.016991139  \\\\\n",
       "\t  0.69548939289 & -2.420797906   &  1.674994951  \\\\\n",
       "\t  0.97376897014 & -1.126516481   &  1.936699414  \\\\\n",
       "\t -2.06273099438 &  3.973643029   & -3.273973793  \\\\\n",
       "\t -0.21692603503 &  2.165184775   & -1.592080960  \\\\\n",
       "\\end{tabular}\n",
       "\n",
       "\\item \\begin{tabular}{l}\n",
       "\t  0.1305932711\\\\\n",
       "\t  2.3009793147\\\\\n",
       "\t -6.0017731705\\\\\n",
       "\t  4.8952380889\\\\\n",
       "\\end{tabular}\n",
       "\n",
       "\\end{enumerate}\n"
      ],
      "text/markdown": [
       "1. \n",
       "|  1.627272063 | -0.534036270 | -1.086473850 | -1.296409386 | \n",
       "| -1.729692805 |  2.021399417 | -1.563790521 |  1.697770636 | \n",
       "|  1.599467281 |  1.031499132 |  4.804524745 | -1.694606994 | \n",
       "\n",
       "\n",
       "\n",
       "2. \n",
       "| -0.06973513337 | -2.686038335   |  1.016991139   | \n",
       "|  0.69548939289 | -2.420797906   |  1.674994951   | \n",
       "|  0.97376897014 | -1.126516481   |  1.936699414   | \n",
       "| -2.06273099438 |  3.973643029   | -3.273973793   | \n",
       "| -0.21692603503 |  2.165184775   | -1.592080960   | \n",
       "\n",
       "\n",
       "\n",
       "3. \n",
       "|  0.1305932711 | \n",
       "|  2.3009793147 | \n",
       "| -6.0017731705 | \n",
       "|  4.8952380889 | \n",
       "\n",
       "\n",
       "\n",
       "\n",
       "\n"
      ],
      "text/plain": [
       "[[1]]\n",
       "             [,1]         [,2]         [,3]         [,4]\n",
       "[1,]  1.627272063 -0.534036270 -1.086473850 -1.296409386\n",
       "[2,] -1.729692805  2.021399417 -1.563790521  1.697770636\n",
       "[3,]  1.599467281  1.031499132  4.804524745 -1.694606994\n",
       "\n",
       "[[2]]\n",
       "               [,1]         [,2]         [,3]\n",
       "[1,] -0.06973513337 -2.686038335  1.016991139\n",
       "[2,]  0.69548939289 -2.420797906  1.674994951\n",
       "[3,]  0.97376897014 -1.126516481  1.936699414\n",
       "[4,] -2.06273099438  3.973643029 -3.273973793\n",
       "[5,] -0.21692603503  2.165184775 -1.592080960\n",
       "\n",
       "[[3]]\n",
       "              [,1]\n",
       "[1,]  0.1305932711\n",
       "[2,]  2.3009793147\n",
       "[3,] -6.0017731705\n",
       "[4,]  4.8952380889\n"
      ]
     },
     "metadata": {},
     "output_type": "display_data"
    },
    {
     "data": {
      "text/html": [
       "<table>\n",
       "<thead><tr><th scope=col>x1</th><th scope=col>x2</th><th scope=col>output</th><th scope=col>predicted</th><th scope=col>actual</th><th scope=col>error</th></tr></thead>\n",
       "<tbody>\n",
       "\t<tr><td> 1            </td><td>1             </td><td>0.97182404697 </td><td>1             </td><td>1             </td><td>-0.02817595303</td></tr>\n",
       "\t<tr><td> 2            </td><td>2             </td><td>0.94776576514 </td><td>1             </td><td>1             </td><td>-0.05223423486</td></tr>\n",
       "\t<tr><td> 3            </td><td>1             </td><td>0.96519134671 </td><td>1             </td><td>1             </td><td>-0.03480865329</td></tr>\n",
       "\t<tr><td> 5            </td><td>2             </td><td>0.14040704242 </td><td>0             </td><td>0             </td><td> 0.14040704242</td></tr>\n",
       "\t<tr><td> 6            </td><td>2             </td><td>0.87754608015 </td><td>1             </td><td>1             </td><td>-0.12245391985</td></tr>\n",
       "\t<tr><td>14            </td><td>6             </td><td>0.01434408652 </td><td>0             </td><td>0             </td><td> 0.01434408652</td></tr>\n",
       "\t<tr><td>15            </td><td>7             </td><td>0.01416871629 </td><td>0             </td><td>0             </td><td> 0.01416871629</td></tr>\n",
       "\t<tr><td>16            </td><td>6             </td><td>0.01903732448 </td><td>0             </td><td>0             </td><td> 0.01903732448</td></tr>\n",
       "\t<tr><td>18            </td><td>7             </td><td>0.01495817284 </td><td>0             </td><td>0             </td><td> 0.01495817284</td></tr>\n",
       "</tbody>\n",
       "</table>\n"
      ],
      "text/latex": [
       "\\begin{tabular}{r|llllll}\n",
       " x1 & x2 & output & predicted & actual & error\\\\\n",
       "\\hline\n",
       "\t  1             & 1              & 0.97182404697  & 1              & 1              & -0.02817595303\\\\\n",
       "\t  2             & 2              & 0.94776576514  & 1              & 1              & -0.05223423486\\\\\n",
       "\t  3             & 1              & 0.96519134671  & 1              & 1              & -0.03480865329\\\\\n",
       "\t  5             & 2              & 0.14040704242  & 0              & 0              &  0.14040704242\\\\\n",
       "\t  6             & 2              & 0.87754608015  & 1              & 1              & -0.12245391985\\\\\n",
       "\t 14             & 6              & 0.01434408652  & 0              & 0              &  0.01434408652\\\\\n",
       "\t 15             & 7              & 0.01416871629  & 0              & 0              &  0.01416871629\\\\\n",
       "\t 16             & 6              & 0.01903732448  & 0              & 0              &  0.01903732448\\\\\n",
       "\t 18             & 7              & 0.01495817284  & 0              & 0              &  0.01495817284\\\\\n",
       "\\end{tabular}\n"
      ],
      "text/markdown": [
       "\n",
       "x1 | x2 | output | predicted | actual | error | \n",
       "|---|---|---|---|---|---|---|---|---|\n",
       "|  1             | 1              | 0.97182404697  | 1              | 1              | -0.02817595303 | \n",
       "|  2             | 2              | 0.94776576514  | 1              | 1              | -0.05223423486 | \n",
       "|  3             | 1              | 0.96519134671  | 1              | 1              | -0.03480865329 | \n",
       "|  5             | 2              | 0.14040704242  | 0              | 0              |  0.14040704242 | \n",
       "|  6             | 2              | 0.87754608015  | 1              | 1              | -0.12245391985 | \n",
       "| 14             | 6              | 0.01434408652  | 0              | 0              |  0.01434408652 | \n",
       "| 15             | 7              | 0.01416871629  | 0              | 0              |  0.01416871629 | \n",
       "| 16             | 6              | 0.01903732448  | 0              | 0              |  0.01903732448 | \n",
       "| 18             | 7              | 0.01495817284  | 0              | 0              |  0.01495817284 | \n",
       "\n",
       "\n"
      ],
      "text/plain": [
       "  x1 x2 output        predicted actual error         \n",
       "1  1 1  0.97182404697 1         1      -0.02817595303\n",
       "2  2 2  0.94776576514 1         1      -0.05223423486\n",
       "3  3 1  0.96519134671 1         1      -0.03480865329\n",
       "4  5 2  0.14040704242 0         0       0.14040704242\n",
       "5  6 2  0.87754608015 1         1      -0.12245391985\n",
       "6 14 6  0.01434408652 0         0       0.01434408652\n",
       "7 15 7  0.01416871629 0         0       0.01416871629\n",
       "8 16 6  0.01903732448 0         0       0.01903732448\n",
       "9 18 7  0.01495817284 0         0       0.01495817284"
      ]
     },
     "metadata": {},
     "output_type": "display_data"
    },
    {
     "data": {
      "image/png": "[encoded data removed]",
      "text/plain": [
       "plot without title"
      ]
     },
     "metadata": {},
     "output_type": "display_data"
    }
   ],
   "source": [
    "# Present results of backpropagation algorithm\n",
    "\n",
    "cutoff.A = 0.5\n",
    "\n",
    "ann$output = model$net.result[[best]]\n",
    "ann$predicted = as.numeric(ann$out >= cutoff.A)\n",
    "ann$error = ann$output - ann$actual\n",
    "\n",
    "cat(\"Cutoff =\", cutoff.A, \"\\n\")\n",
    "cat(\"Mean Absolute Error = \", mean(abs(ann$error)), \"\\n\")\n",
    "model$weights[[best]]\n",
    "ann\n",
    "model$model.list$response=\"output\"; plot(model, rep=best, fill=\"gray\", cex=0.7, lwd=0.5, information=FALSE)"
   ]
  },
  {
   "cell_type": "markdown",
   "metadata": {},
   "source": [
    "<br>\n",
    "\n",
    "#### Predict class of new observation.\n",
    "\n",
    "Use the 3-layer perceptron with final weights to predict a new observation's class. "
   ]
  },
  {
   "cell_type": "code",
   "execution_count": 21,
   "metadata": {
    "scrolled": false
   },
   "outputs": [
    {
     "data": {
      "text/html": [
       "<table>\n",
       "<thead><tr><th scope=col>x1</th><th scope=col>x2</th></tr></thead>\n",
       "<tbody>\n",
       "\t<tr><td>10</td><td>4 </td></tr>\n",
       "</tbody>\n",
       "</table>\n"
      ],
      "text/latex": [
       "\\begin{tabular}{r|ll}\n",
       " x1 & x2\\\\\n",
       "\\hline\n",
       "\t 10 & 4 \\\\\n",
       "\\end{tabular}\n"
      ],
      "text/markdown": [
       "\n",
       "x1 | x2 | \n",
       "|---|\n",
       "| 10 | 4  | \n",
       "\n",
       "\n"
      ],
      "text/plain": [
       "  x1 x2\n",
       "1 10 4 "
      ]
     },
     "metadata": {},
     "output_type": "display_data"
    },
    {
     "data": {
      "text/html": [
       "<table>\n",
       "<thead><tr><th scope=col>x1</th><th scope=col>x2</th><th scope=col>output</th><th scope=col>predicted</th><th scope=col>predicted_class</th></tr></thead>\n",
       "<tbody>\n",
       "\t<tr><td>10          </td><td>4           </td><td>0.0205529969</td><td>0           </td><td>B           </td></tr>\n",
       "</tbody>\n",
       "</table>\n"
      ],
      "text/latex": [
       "\\begin{tabular}{r|lllll}\n",
       " x1 & x2 & output & predicted & predicted\\_class\\\\\n",
       "\\hline\n",
       "\t 10           & 4            & 0.0205529969 & 0            & B           \\\\\n",
       "\\end{tabular}\n"
      ],
      "text/markdown": [
       "\n",
       "x1 | x2 | output | predicted | predicted_class | \n",
       "|---|\n",
       "| 10           | 4            | 0.0205529969 | 0            | B            | \n",
       "\n",
       "\n"
      ],
      "text/plain": [
       "  x1 x2 output       predicted predicted_class\n",
       "1 10 4  0.0205529969 0         B              "
      ]
     },
     "metadata": {},
     "output_type": "display_data"
    }
   ],
   "source": [
    "# Compute the perceptron's output for the unclassified datapoint\n",
    "\n",
    "new_point\n",
    "\n",
    "output = compute(model, new_point, rep=best)$net.result\n",
    "predicted = as.numeric(output >= cutoff.A)\n",
    "\n",
    "data.frame(x1=new_point$x1[1], x2=new_point$x2[1], output, predicted, predicted_class=if (predicted==1) \"A\" else \"B\")"
   ]
  },
  {
   "cell_type": "markdown",
   "metadata": {},
   "source": [
    "<br>\n",
    "\n",
    "### About Perceptrons & Multi-Layer Perceptrons\n",
    "\n",
    "\n",
    "#### Perceptrons\n",
    "* The perceptron algorithm will converge if the data are linearly separable, given enough steps.  Though it will converge, it may not converge to the optimal solution.\n",
    "* The perceptron algorithm will not converge if the data are not linearly separable.\n",
    "* The perceptron algorithm's performance and results are affected by the order of observations.\n",
    "\n",
    "#### Multi-Layer Perceptrons\n",
    "* ANY function can be approximated by a multi-layer perceptron with 1 hidden layer (proof by Cybenko, and later by Hornik).\n",
    "* Often, a multi-layer perceptron with >1 hidden layer can approximate a multi-layer perceptron with 1 hidden layer, but use fewer nodes.\n",
    "* A multi-layer perceptron with many nodes corresponds to a very complex class separation boundary.\n",
    "* Building a multi-layer perceptron model involves finding the node-connection weights. \n",
    "* Building a multi-layer perceptron model with many layers is sometimes referred to as \"deep learning\"."
   ]
  },
  {
   "cell_type": "markdown",
   "metadata": {},
   "source": [
    "<br>\n",
    "\n",
    "### Hyper-Parameters\n",
    "\n",
    "\n",
    "* Activation function (sigmoid, hyperbolic tangent, or some other function)\n",
    "* Number of hidden layers\n",
    "* Number of hidden nodes\n",
    "* Arrangement of hidden layers & nodes\n",
    "* Initial weights (or randomized weights)\n",
    "* Number of repetitions\n",
    "* Algorithm (back-propagation or some other algorithm)\n",
    "* Learning rate (if back-propagation algorithm is used)\n",
    "* Other algorithm parameters (if some other algorithm is used)\n",
    "* Stopping criteria (threshold, maximum number of steps, and/or some other criteria)\n",
    "* other hyper-parameters"
   ]
  },
  {
   "cell_type": "markdown",
   "metadata": {},
   "source": [
    "<br>\n",
    "\n",
    "### R Toolkit\n",
    "\n",
    "\n",
    "#### Key Functions\n",
    "\n",
    "* `neuralnet` function from `neuralnet` library\n",
    "  * https://www.rdocumentation.org/packages/neuralnet/versions/1.33/topics/neuralnet\n",
    "  * `hidden` is the number of nodes in the hidden layer\n",
    "  * `algorithm=\"backprop\"` means use the backpropagation algorithm to find the weights\n",
    "  * `learningrate` is a tunable parameter used by the backpropagation algorithm\n",
    "  * `threshold` is a tunable parameter used by the backpropagation algorithm\n",
    "  * `stepmax` is the maximum number of iterations allowed\n",
    "  * `rep` is the number of times to find weights, each time starting with a different set of random initial weights\n",
    "  * `linear.output=FALSE` means use the activation function on the output node (and the hidden nodes)\n",
    "* `compute` function from `neuralnet` library\n",
    "  * https://www.rdocumentation.org/packages/neuralnet/versions/1.33/topics/compute\n",
    "* `plot` function from `neuralnet` library\n",
    "  * https://www.rdocumentation.org/packages/neuralnet/versions/1.33/topics/plot.nn"
   ]
  },
  {
   "cell_type": "markdown",
   "metadata": {},
   "source": [
    "<br>\n",
    "\n",
    "#### Build a multi-layer perceptron model and use it to classify new observations"
   ]
  },
  {
   "cell_type": "code",
   "execution_count": 22,
   "metadata": {
    "scrolled": false
   },
   "outputs": [
    {
     "data": {
      "text/html": [
       "<table>\n",
       "<thead><tr><th scope=col>x1</th><th scope=col>x2</th><th scope=col>x3</th><th scope=col>class</th><th scope=col>actual</th></tr></thead>\n",
       "<tbody>\n",
       "\t<tr><td>1</td><td>8</td><td>1</td><td>A</td><td>1</td></tr>\n",
       "\t<tr><td>2</td><td>7</td><td>1</td><td>B</td><td>0</td></tr>\n",
       "\t<tr><td>3</td><td>6</td><td>2</td><td>A</td><td>1</td></tr>\n",
       "\t<tr><td>4</td><td>5</td><td>2</td><td>B</td><td>0</td></tr>\n",
       "\t<tr><td>5</td><td>4</td><td>3</td><td>A</td><td>1</td></tr>\n",
       "\t<tr><td>6</td><td>3</td><td>3</td><td>B</td><td>0</td></tr>\n",
       "\t<tr><td>7</td><td>2</td><td>4</td><td>A</td><td>1</td></tr>\n",
       "\t<tr><td>8</td><td>1</td><td>4</td><td>B</td><td>0</td></tr>\n",
       "</tbody>\n",
       "</table>\n"
      ],
      "text/latex": [
       "\\begin{tabular}{r|lllll}\n",
       " x1 & x2 & x3 & class & actual\\\\\n",
       "\\hline\n",
       "\t 1 & 8 & 1 & A & 1\\\\\n",
       "\t 2 & 7 & 1 & B & 0\\\\\n",
       "\t 3 & 6 & 2 & A & 1\\\\\n",
       "\t 4 & 5 & 2 & B & 0\\\\\n",
       "\t 5 & 4 & 3 & A & 1\\\\\n",
       "\t 6 & 3 & 3 & B & 0\\\\\n",
       "\t 7 & 2 & 4 & A & 1\\\\\n",
       "\t 8 & 1 & 4 & B & 0\\\\\n",
       "\\end{tabular}\n"
      ],
      "text/markdown": [
       "\n",
       "x1 | x2 | x3 | class | actual | \n",
       "|---|---|---|---|---|---|---|---|\n",
       "| 1 | 8 | 1 | A | 1 | \n",
       "| 2 | 7 | 1 | B | 0 | \n",
       "| 3 | 6 | 2 | A | 1 | \n",
       "| 4 | 5 | 2 | B | 0 | \n",
       "| 5 | 4 | 3 | A | 1 | \n",
       "| 6 | 3 | 3 | B | 0 | \n",
       "| 7 | 2 | 4 | A | 1 | \n",
       "| 8 | 1 | 4 | B | 0 | \n",
       "\n",
       "\n"
      ],
      "text/plain": [
       "  x1 x2 x3 class actual\n",
       "1 1  8  1  A     1     \n",
       "2 2  7  1  B     0     \n",
       "3 3  6  2  A     1     \n",
       "4 4  5  2  B     0     \n",
       "5 5  4  3  A     1     \n",
       "6 6  3  3  B     0     \n",
       "7 7  2  4  A     1     \n",
       "8 8  1  4  B     0     "
      ]
     },
     "metadata": {},
     "output_type": "display_data"
    },
    {
     "data": {
      "text/html": [
       "<table>\n",
       "<tbody>\n",
       "\t<tr><td>0.03048818566</td></tr>\n",
       "\t<tr><td>0.97741008671</td></tr>\n",
       "\t<tr><td>0.03070824569</td></tr>\n",
       "\t<tr><td>0.97716189129</td></tr>\n",
       "</tbody>\n",
       "</table>\n"
      ],
      "text/latex": [
       "\\begin{tabular}{l}\n",
       "\t 0.03048818566\\\\\n",
       "\t 0.97741008671\\\\\n",
       "\t 0.03070824569\\\\\n",
       "\t 0.97716189129\\\\\n",
       "\\end{tabular}\n"
      ],
      "text/markdown": [
       "\n",
       "| 0.03048818566 | \n",
       "| 0.97741008671 | \n",
       "| 0.03070824569 | \n",
       "| 0.97716189129 | \n",
       "\n",
       "\n"
      ],
      "text/plain": [
       "     [,1]         \n",
       "[1,] 0.03048818566\n",
       "[2,] 0.97741008671\n",
       "[3,] 0.03070824569\n",
       "[4,] 0.97716189129"
      ]
     },
     "metadata": {},
     "output_type": "display_data"
    },
    {
     "data": {
      "text/html": [
       "<table>\n",
       "<thead><tr><th scope=col>A</th><th scope=col>B</th></tr></thead>\n",
       "<tbody>\n",
       "\t<tr><td>0.03048818566</td><td>0.96951181434</td></tr>\n",
       "\t<tr><td>0.97741008671</td><td>0.02258991329</td></tr>\n",
       "\t<tr><td>0.03070824569</td><td>0.96929175431</td></tr>\n",
       "\t<tr><td>0.97716189129</td><td>0.02283810871</td></tr>\n",
       "</tbody>\n",
       "</table>\n"
      ],
      "text/latex": [
       "\\begin{tabular}{r|ll}\n",
       " A & B\\\\\n",
       "\\hline\n",
       "\t 0.03048818566 & 0.96951181434\\\\\n",
       "\t 0.97741008671 & 0.02258991329\\\\\n",
       "\t 0.03070824569 & 0.96929175431\\\\\n",
       "\t 0.97716189129 & 0.02283810871\\\\\n",
       "\\end{tabular}\n"
      ],
      "text/markdown": [
       "\n",
       "A | B | \n",
       "|---|---|---|---|\n",
       "| 0.03048818566 | 0.96951181434 | \n",
       "| 0.97741008671 | 0.02258991329 | \n",
       "| 0.03070824569 | 0.96929175431 | \n",
       "| 0.97716189129 | 0.02283810871 | \n",
       "\n",
       "\n"
      ],
      "text/plain": [
       "  A             B            \n",
       "1 0.03048818566 0.96951181434\n",
       "2 0.97741008671 0.02258991329\n",
       "3 0.03070824569 0.96929175431\n",
       "4 0.97716189129 0.02283810871"
      ]
     },
     "metadata": {},
     "output_type": "display_data"
    },
    {
     "data": {
      "text/html": [
       "<ol class=list-inline>\n",
       "\t<li>B</li>\n",
       "\t<li>A</li>\n",
       "\t<li>B</li>\n",
       "\t<li>A</li>\n",
       "</ol>\n"
      ],
      "text/latex": [
       "\\begin{enumerate*}\n",
       "\\item B\n",
       "\\item A\n",
       "\\item B\n",
       "\\item A\n",
       "\\end{enumerate*}\n"
      ],
      "text/markdown": [
       "1. B\n",
       "2. A\n",
       "3. B\n",
       "4. A\n",
       "\n",
       "\n"
      ],
      "text/plain": [
       "[1] B A B A\n",
       "Levels: A B"
      ]
     },
     "metadata": {},
     "output_type": "display_data"
    },
    {
     "data": {
      "text/html": [
       "<table>\n",
       "<thead><tr><th scope=col>x1</th><th scope=col>x2</th><th scope=col>x3</th><th scope=col>class</th><th scope=col>prediction</th></tr></thead>\n",
       "<tbody>\n",
       "\t<tr><td>5</td><td>8</td><td>1</td><td>A</td><td>B</td></tr>\n",
       "\t<tr><td>6</td><td>7</td><td>5</td><td>A</td><td>A</td></tr>\n",
       "\t<tr><td>7</td><td>6</td><td>2</td><td>B</td><td>B</td></tr>\n",
       "\t<tr><td>8</td><td>5</td><td>6</td><td>B</td><td>A</td></tr>\n",
       "</tbody>\n",
       "</table>\n"
      ],
      "text/latex": [
       "\\begin{tabular}{r|lllll}\n",
       " x1 & x2 & x3 & class & prediction\\\\\n",
       "\\hline\n",
       "\t 5 & 8 & 1 & A & B\\\\\n",
       "\t 6 & 7 & 5 & A & A\\\\\n",
       "\t 7 & 6 & 2 & B & B\\\\\n",
       "\t 8 & 5 & 6 & B & A\\\\\n",
       "\\end{tabular}\n"
      ],
      "text/markdown": [
       "\n",
       "x1 | x2 | x3 | class | prediction | \n",
       "|---|---|---|---|\n",
       "| 5 | 8 | 1 | A | B | \n",
       "| 6 | 7 | 5 | A | A | \n",
       "| 7 | 6 | 2 | B | B | \n",
       "| 8 | 5 | 6 | B | A | \n",
       "\n",
       "\n"
      ],
      "text/plain": [
       "  x1 x2 x3 class prediction\n",
       "1 5  8  1  A     B         \n",
       "2 6  7  5  A     A         \n",
       "3 7  6  2  B     B         \n",
       "4 8  5  6  B     A         "
      ]
     },
     "metadata": {},
     "output_type": "display_data"
    },
    {
     "data": {
      "image/png": "[encoded data removed]",
      "text/plain": [
       "plot without title"
      ]
     },
     "metadata": {},
     "output_type": "display_data"
    }
   ],
   "source": [
    "data.train = data.frame(x1=c(1,2,3,4,5,6,7,8), x2=c(8,7,6,5,4,3,2,1), x3=c(1,1,2,2,3,3,4,4), class=c(\"A\", \"B\", \"A\", \"B\", \"A\", \"B\", \"A\", \"B\"))\n",
    "data.new = data.frame(x1=c(5,6,7,8), x2=c(8,7,6,5), x3=c(1,5,2,6), class=c(\"A\", \"A\", \"B\", \"B\"))\n",
    "cutoff.A = 0.6\n",
    "\n",
    "data.train = cbind(data.train, as.binary(data.train[,4], \"A\")); names(data.train)[5] = \"actual\"\n",
    "\n",
    "set.seed(12345)\n",
    "mymodel = neuralnet(actual ~ x1+x2+x3, data.train, hidden=c(3,2), act.fct=\"logistic\", algorithm=\"backprop\", learningrate=0.1, stepmax=5000, rep=1, linear.output=FALSE)\n",
    "result = compute(mymodel, data.new[,1:3])$net.result\n",
    "postprob = data.frame(A=result, B=1-result)\n",
    "prediction = as.class.cutoff(postprob, cutoff.A)\n",
    "\n",
    "data.train\n",
    "result\n",
    "postprob\n",
    "prediction\n",
    "cbind(data.new, prediction)\n",
    "mymodel$model.list$response=\"output\"; plot(mymodel, rep=1, fill=\"gray\", cex=0.7, lwd=0.5, information=FALSE)"
   ]
  },
  {
   "cell_type": "markdown",
   "metadata": {},
   "source": [
    "<br>\n",
    "#### Build several multi-layer perceptron models and use the best one it to classify new observations"
   ]
  },
  {
   "cell_type": "markdown",
   "metadata": {},
   "source": [
    "<br>\n",
    "You can use the `as.numeric` and `which.min` functions applied to `model$result.matrix[\"error\",]` to find the best set of weights."
   ]
  },
  {
   "cell_type": "code",
   "execution_count": 23,
   "metadata": {
    "scrolled": false
   },
   "outputs": [
    {
     "data": {
      "text/html": [
       "<table>\n",
       "<thead><tr><th scope=col>x1</th><th scope=col>x2</th><th scope=col>x3</th><th scope=col>class</th><th scope=col>actual</th></tr></thead>\n",
       "<tbody>\n",
       "\t<tr><td>1</td><td>9</td><td>1</td><td>A</td><td>1</td></tr>\n",
       "\t<tr><td>2</td><td>7</td><td>1</td><td>B</td><td>0</td></tr>\n",
       "\t<tr><td>3</td><td>6</td><td>2</td><td>A</td><td>1</td></tr>\n",
       "\t<tr><td>4</td><td>5</td><td>2</td><td>B</td><td>0</td></tr>\n",
       "\t<tr><td>5</td><td>4</td><td>3</td><td>A</td><td>1</td></tr>\n",
       "\t<tr><td>6</td><td>3</td><td>3</td><td>B</td><td>0</td></tr>\n",
       "\t<tr><td>7</td><td>2</td><td>4</td><td>A</td><td>1</td></tr>\n",
       "\t<tr><td>8</td><td>1</td><td>4</td><td>B</td><td>0</td></tr>\n",
       "</tbody>\n",
       "</table>\n"
      ],
      "text/latex": [
       "\\begin{tabular}{r|lllll}\n",
       " x1 & x2 & x3 & class & actual\\\\\n",
       "\\hline\n",
       "\t 1 & 9 & 1 & A & 1\\\\\n",
       "\t 2 & 7 & 1 & B & 0\\\\\n",
       "\t 3 & 6 & 2 & A & 1\\\\\n",
       "\t 4 & 5 & 2 & B & 0\\\\\n",
       "\t 5 & 4 & 3 & A & 1\\\\\n",
       "\t 6 & 3 & 3 & B & 0\\\\\n",
       "\t 7 & 2 & 4 & A & 1\\\\\n",
       "\t 8 & 1 & 4 & B & 0\\\\\n",
       "\\end{tabular}\n"
      ],
      "text/markdown": [
       "\n",
       "x1 | x2 | x3 | class | actual | \n",
       "|---|---|---|---|---|---|---|---|\n",
       "| 1 | 9 | 1 | A | 1 | \n",
       "| 2 | 7 | 1 | B | 0 | \n",
       "| 3 | 6 | 2 | A | 1 | \n",
       "| 4 | 5 | 2 | B | 0 | \n",
       "| 5 | 4 | 3 | A | 1 | \n",
       "| 6 | 3 | 3 | B | 0 | \n",
       "| 7 | 2 | 4 | A | 1 | \n",
       "| 8 | 1 | 4 | B | 0 | \n",
       "\n",
       "\n"
      ],
      "text/plain": [
       "  x1 x2 x3 class actual\n",
       "1 1  9  1  A     1     \n",
       "2 2  7  1  B     0     \n",
       "3 3  6  2  A     1     \n",
       "4 4  5  2  B     0     \n",
       "5 5  4  3  A     1     \n",
       "6 6  3  3  B     0     \n",
       "7 7  2  4  A     1     \n",
       "8 8  1  4  B     0     "
      ]
     },
     "metadata": {},
     "output_type": "display_data"
    },
    {
     "data": {
      "text/html": [
       "<table>\n",
       "<tbody>\n",
       "\t<tr><td>0.03654775109</td></tr>\n",
       "\t<tr><td>0.96641117334</td></tr>\n",
       "\t<tr><td>0.03654792512</td></tr>\n",
       "\t<tr><td>0.96641098418</td></tr>\n",
       "</tbody>\n",
       "</table>\n"
      ],
      "text/latex": [
       "\\begin{tabular}{l}\n",
       "\t 0.03654775109\\\\\n",
       "\t 0.96641117334\\\\\n",
       "\t 0.03654792512\\\\\n",
       "\t 0.96641098418\\\\\n",
       "\\end{tabular}\n"
      ],
      "text/markdown": [
       "\n",
       "| 0.03654775109 | \n",
       "| 0.96641117334 | \n",
       "| 0.03654792512 | \n",
       "| 0.96641098418 | \n",
       "\n",
       "\n"
      ],
      "text/plain": [
       "     [,1]         \n",
       "[1,] 0.03654775109\n",
       "[2,] 0.96641117334\n",
       "[3,] 0.03654792512\n",
       "[4,] 0.96641098418"
      ]
     },
     "metadata": {},
     "output_type": "display_data"
    },
    {
     "data": {
      "text/html": [
       "<table>\n",
       "<thead><tr><th scope=col>A</th><th scope=col>B</th></tr></thead>\n",
       "<tbody>\n",
       "\t<tr><td>0.03654775109</td><td>0.96345224891</td></tr>\n",
       "\t<tr><td>0.96641117334</td><td>0.03358882666</td></tr>\n",
       "\t<tr><td>0.03654792512</td><td>0.96345207488</td></tr>\n",
       "\t<tr><td>0.96641098418</td><td>0.03358901582</td></tr>\n",
       "</tbody>\n",
       "</table>\n"
      ],
      "text/latex": [
       "\\begin{tabular}{r|ll}\n",
       " A & B\\\\\n",
       "\\hline\n",
       "\t 0.03654775109 & 0.96345224891\\\\\n",
       "\t 0.96641117334 & 0.03358882666\\\\\n",
       "\t 0.03654792512 & 0.96345207488\\\\\n",
       "\t 0.96641098418 & 0.03358901582\\\\\n",
       "\\end{tabular}\n"
      ],
      "text/markdown": [
       "\n",
       "A | B | \n",
       "|---|---|---|---|\n",
       "| 0.03654775109 | 0.96345224891 | \n",
       "| 0.96641117334 | 0.03358882666 | \n",
       "| 0.03654792512 | 0.96345207488 | \n",
       "| 0.96641098418 | 0.03358901582 | \n",
       "\n",
       "\n"
      ],
      "text/plain": [
       "  A             B            \n",
       "1 0.03654775109 0.96345224891\n",
       "2 0.96641117334 0.03358882666\n",
       "3 0.03654792512 0.96345207488\n",
       "4 0.96641098418 0.03358901582"
      ]
     },
     "metadata": {},
     "output_type": "display_data"
    },
    {
     "data": {
      "text/html": [
       "<ol class=list-inline>\n",
       "\t<li>B</li>\n",
       "\t<li>A</li>\n",
       "\t<li>B</li>\n",
       "\t<li>A</li>\n",
       "</ol>\n"
      ],
      "text/latex": [
       "\\begin{enumerate*}\n",
       "\\item B\n",
       "\\item A\n",
       "\\item B\n",
       "\\item A\n",
       "\\end{enumerate*}\n"
      ],
      "text/markdown": [
       "1. B\n",
       "2. A\n",
       "3. B\n",
       "4. A\n",
       "\n",
       "\n"
      ],
      "text/plain": [
       "[1] B A B A\n",
       "Levels: A B"
      ]
     },
     "metadata": {},
     "output_type": "display_data"
    },
    {
     "data": {
      "text/html": [
       "<table>\n",
       "<thead><tr><th scope=col>x1</th><th scope=col>x2</th><th scope=col>x3</th><th scope=col>class</th><th scope=col>prediction</th></tr></thead>\n",
       "<tbody>\n",
       "\t<tr><td>5</td><td>8</td><td>1</td><td>A</td><td>B</td></tr>\n",
       "\t<tr><td>6</td><td>7</td><td>5</td><td>A</td><td>A</td></tr>\n",
       "\t<tr><td>7</td><td>6</td><td>2</td><td>B</td><td>B</td></tr>\n",
       "\t<tr><td>8</td><td>5</td><td>6</td><td>B</td><td>A</td></tr>\n",
       "</tbody>\n",
       "</table>\n"
      ],
      "text/latex": [
       "\\begin{tabular}{r|lllll}\n",
       " x1 & x2 & x3 & class & prediction\\\\\n",
       "\\hline\n",
       "\t 5 & 8 & 1 & A & B\\\\\n",
       "\t 6 & 7 & 5 & A & A\\\\\n",
       "\t 7 & 6 & 2 & B & B\\\\\n",
       "\t 8 & 5 & 6 & B & A\\\\\n",
       "\\end{tabular}\n"
      ],
      "text/markdown": [
       "\n",
       "x1 | x2 | x3 | class | prediction | \n",
       "|---|---|---|---|\n",
       "| 5 | 8 | 1 | A | B | \n",
       "| 6 | 7 | 5 | A | A | \n",
       "| 7 | 6 | 2 | B | B | \n",
       "| 8 | 5 | 6 | B | A | \n",
       "\n",
       "\n"
      ],
      "text/plain": [
       "  x1 x2 x3 class prediction\n",
       "1 5  8  1  A     B         \n",
       "2 6  7  5  A     A         \n",
       "3 7  6  2  B     B         \n",
       "4 8  5  6  B     A         "
      ]
     },
     "metadata": {},
     "output_type": "display_data"
    },
    {
     "data": {
      "image/png": "[encoded data removed]",
      "text/plain": [
       "plot without title"
      ]
     },
     "metadata": {},
     "output_type": "display_data"
    }
   ],
   "source": [
    "data.train = data.frame(x1=c(1,2,3,4,5,6,7,8), x2=c(9,7,6,5,4,3,2,1), x3=c(1,1,2,2,3,3,4,4), class=c(\"A\", \"B\", \"A\", \"B\", \"A\", \"B\", \"A\", \"B\"))\n",
    "data.new = data.frame(x1=c(5,6,7,8), x2=c(8,7,6,5), x3=c(1,5,2,6), class=c(\"A\", \"A\", \"B\", \"B\"))\n",
    "cutoff.A = 0.6\n",
    "\n",
    "data.train = cbind(data.train, as.binary(data.train[,4], \"A\")); names(data.train)[5] = \"actual\"\n",
    "\n",
    "set.seed(12345)\n",
    "mymodel = neuralnet(actual ~ x1+x2+x3, data.train, hidden=c(3,2), act.fct=\"logistic\", algorithm=\"backprop\", learningrate=0.1, stepmax=5000, rep=10, linear.output=FALSE)\n",
    "best = as.numeric(which.min(mymodel$result.matrix[\"error\",]))\n",
    "result = compute(mymodel, data.new[,1:3], rep=best)$net.result\n",
    "postprob = data.frame(A=result, B=1-result)\n",
    "prediction = as.class.cutoff(postprob, cutoff.A)\n",
    "\n",
    "data.train\n",
    "result\n",
    "postprob\n",
    "prediction\n",
    "cbind(data.new, prediction)\n",
    "mymodel$model.list$response=\"output\"; plot(mymodel, rep=1, fill=\"gray\", cex=0.7, lwd=0.5, information=FALSE)"
   ]
  },
  {
   "cell_type": "markdown",
   "metadata": {},
   "source": [
    "<br>\n",
    "\n",
    "## Expectations\n",
    "___\n",
    "You should be able to demonstrate an understanding of ...\n",
    "* ... how the perceptron algorithm works, conceptuallly\n",
    "* ... how to determine perceptron weights using the perceptron algorithm, mechanically \n",
    "* ... how to interpret weights determined by R's `neuralnet` function, conceptually\n",
    "* ... how to compute outputs and classify new observations, given a multi-layer perceptron with activation function, weights, and cutoff, mechanically\n",
    "* ... how to build a multi-layer perceptron model and use it to classify new observations, using R's `neuralnet` and `compute` functions"
   ]
  },
  {
   "cell_type": "markdown",
   "metadata": {},
   "source": [
    "<br>\n",
    "\n",
    "## Further Reading\n",
    "___\n",
    "* http://ciml.info/dl/v0_99/ciml-v0_99-ch04.pdf\n",
    "* http://ciml.info/dl/v0_99/ciml-v0_99-ch10.pdf\n",
    "* http://blog.refu.co/?p=935\n",
    "* http://blog.refu.co/?p=931\n",
    "* https://en.wikipedia.org/wiki/Perceptron\n",
    "* https://en.wikipedia.org/wiki/Multilayer_perceptron\n",
    "* https://www.r-bloggers.com/using-neural-networks-for-credit-scoring-a-simple-example/\n",
    "* https://datascienceplus.com/fitting-neural-network-in-r/\n",
    "* http://www.learnbymarketing.com/tutorials/neural-networks-in-r-tutorial/\n",
    "* https://cran.r-project.org/web/packages/neuralnet/neuralnet.pdf\n",
    "* http://www-stat.wharton.upenn.edu/~stine/mich/DM_06.pdf\n",
    "* https://www.r-bloggers.com/multilabel-classification-with-neuralnet-package/\n",
    "* https://www.digitaljunky.io/playing-around-with-neural-networks-and-r/\n",
    "* https://stackoverflow.com/questions/26047901/r-error-in-nroww-ncolw-non-numeric-argument-to-binary-operator-while-u"
   ]
  },
  {
   "cell_type": "markdown",
   "metadata": {},
   "source": [
    "$\\tiny \\text{Copyright (c) Berkeley Data Analytics Group, LLC}$"
   ]
  }
 ],
 "metadata": {
  "hide_code_all_hidden": false,
  "hide_input": false,
  "kernelspec": {
   "display_name": "R",
   "language": "R",
   "name": "ir"
  },
  "language_info": {
   "codemirror_mode": "r",
   "file_extension": ".r",
   "mimetype": "text/x-r-source",
   "name": "R",
   "pygments_lexer": "r",
   "version": "3.5.3"
  }
 },
 "nbformat": 4,
 "nbformat_minor": 2
}
