{
 "cells": [
  {
   "cell_type": "markdown",
   "metadata": {
    "hideCode": false,
    "hidePrompt": false
   },
   "source": [
    "#  Classification by Various Methods $\\,\\, \\tiny\\text{Analysis | Credit Card Company}$\n",
    "<img src=\"banner credit card.jpg\" align=left />"
   ]
  },
  {
   "cell_type": "markdown",
   "metadata": {},
   "source": [
    "<br>\n",
    "\n",
    "### About the Business Situation & Data\n",
    "___\n",
    "The dataset comprises transactions made by credit cards in September 2013 by European cardholders that occurred over two days, in which there were 492 frauds out of 284,807 transactions. The dataset is highly unbalanced - the positive class (frauds) account for 0.172% of all transactions.  It contains numerical variables V1, V2, ... V28, which are the result of a PCA transformation. Due to confidentiality issues, the original variables and more background information about the data are not provided.  'Time' is the number of seconds elapsed between a transaction and the first transaction in the dataset.  'Amount' is the transaction amount. 'Class' takes value 1 in case of fraud and 0 otherwise.\n",
    "\n",
    "The dataset has been collected and analysed during a research collaboration of Worldline and the Machine Learning Group (http://mlg.ulb.ac.be) of ULB (Université Libre de Bruxelles) on big data mining and fraud detection. More details on current and past projects on related topics are available on http://mlg.ulb.ac.be/BruFence and http://mlg.ulb.ac.be/ARTML\n",
    "\n",
    "Citation: Andrea Dal Pozzolo, Olivier Caelen, Reid A. Johnson and Gianluca Bontempi. Calibrating Probability with Undersampling for Unbalanced Classification. In Symposium on Computational Intelligence and Data Mining (CIDM), IEEE, 2015\n",
    "\n",
    "#### Objective\n",
    "Build various models to detect fraudulent transactions, using various predictive analytic methods and one data preparation/representation."
   ]
  },
  {
   "cell_type": "markdown",
   "metadata": {},
   "source": [
    "<br>\n",
    "\n",
    "### Apparatus\n",
    "___"
   ]
  },
  {
   "cell_type": "code",
   "execution_count": 1,
   "metadata": {},
   "outputs": [],
   "source": [
    "options(warn=-1)\n",
    "\n",
    "# Load some required functions\n",
    "library(dplyr,     verbose=FALSE, warn.conflicts=FALSE, quietly=TRUE)\n",
    "\n",
    "library(e1071,     verbose=FALSE, warn.conflicts=FALSE, quietly=TRUE)\n",
    "library(caret,     verbose=FALSE, warn.conflicts=FALSE, quietly=TRUE)\n",
    "library(ggplot2,   verbose=FALSE, warn.conflicts=FALSE, quietly=TRUE)\n",
    "library(gridExtra, verbose=FALSE, warn.conflicts=FALSE, quietly=TRUE)\n",
    "library(neuralnet, verbose=FALSE, warn.conflicts=FALSE, quietly=TRUE)\n",
    "library(rpart,     verbose=FALSE, warn.conflicts=FALSE, quietly=TRUE)\n",
    "library(kknn,      verbose=FALSE, warn.conflicts=FALSE, quietly=TRUE)\n",
    "library(MLmetrics, verbose=FALSE, warn.conflicts=FALSE, quietly=TRUE)\n",
    "library(reshape2,  verbose=FALSE, warn.conflicts=FALSE, quietly=TRUE)\n",
    "\n",
    "# Define some useful functions\n",
    "as.class.cutoff = function(postprob, cutoff=0.5) { factor(colnames(postprob)[2-as.numeric(postprob[,1]>=cutoff)]) }\n",
    "as.binary = function(v, s) { as.numeric(v == s) }\n",
    "partition = function(class, holdout) { index.0 = sample(which(class==unique(class)[1]))\n",
    "                                       index.1 = sample(which(class==unique(class)[2]))\n",
    "                                       p = rep(NA, length(class))\n",
    "                                       p[c(index.0[1:trunc(holdout*length(index.0))], index.1[1:trunc(holdout*length(index.1))])] = \"holdout\"\n",
    "                                       p[c(index.0[(trunc(holdout*length(index.0))+1):length(index.0)], index.1[(trunc(holdout*length(index.1))+1):length(index.1)])] = \"train\"\n",
    "                                       p }\n",
    "balance = function(class) { m = min(table(class))\n",
    "                            b = rep(FALSE, length(class))\n",
    "                            b[c(sample(which(class==unique(class)[1]), m), sample(which(class==unique(class)[2]), m))] = TRUE\n",
    "                            b }\n",
    "\n",
    "# Set some visualization constants\n",
    "PALETTE = c(\"#00A9FF\", \"#F8766D\", \"#7CAE00\", \"#C77CFF\", \"#CD9600\", \"#00BE67\", \"#FF61CC\", \"#00BFC4\")\n",
    "theme.no_legend = theme(legend.position=\"none\")\n",
    "\n",
    "# Set some visualization formatting defaults\n",
    "options(rgl.useNULL=TRUE)\n",
    "options(repr.matrix.max.cols=100)\n",
    "options(repr.plot.width=8, repr.plot.height=2.75)\n",
    "theme_set(theme_grey())\n",
    "update_geom_defaults(\"point\", list(size=0.25, colour=\"green4\"))\n",
    "update_geom_defaults(\"line\", list(size=0.15))\n",
    "update_geom_defaults(\"bar\", list(colour=\"green4\", fill=\"green4\"))\n",
    "update_geom_defaults(\"density\", list(colour=\"dodgerblue\", fill=\"dodgerblue\"))\n",
    "theme_update(plot.title=element_text(size=10, hjust=0.5), plot.subtitle=element_text(size=8, face=\"italic\", hjust=0.5), axis.title=element_text(size=7), axis.text=element_text(size=7), strip.text=element_text(size=7), strip.text.y=element_text(angle=90), legend.title=element_blank(), legend.text=element_text(size=7))"
   ]
  },
  {
   "cell_type": "markdown",
   "metadata": {},
   "source": [
    "<br>\n",
    "\n",
    "### Data Retrieval & Preparation\n",
    "___\n",
    "\n",
    "#### Retrieve the dataset."
   ]
  },
  {
   "cell_type": "code",
   "execution_count": 2,
   "metadata": {
    "hideCode": false,
    "hidePrompt": false,
    "run_control": {
     "marked": false
    },
    "scrolled": true
   },
   "outputs": [
    {
     "data": {
      "text/html": [
       "<ol class=list-inline>\n",
       "\t<li>284807</li>\n",
       "\t<li>31</li>\n",
       "</ol>\n"
      ],
      "text/latex": [
       "\\begin{enumerate*}\n",
       "\\item 284807\n",
       "\\item 31\n",
       "\\end{enumerate*}\n"
      ],
      "text/markdown": [
       "1. 284807\n",
       "2. 31\n",
       "\n",
       "\n"
      ],
      "text/plain": [
       "[1] 284807     31"
      ]
     },
     "metadata": {},
     "output_type": "display_data"
    },
    {
     "data": {
      "text/html": [
       "<table>\n",
       "<thead><tr><th scope=col>Time</th><th scope=col>V1</th><th scope=col>V2</th><th scope=col>V3</th><th scope=col>V4</th><th scope=col>V5</th><th scope=col>V6</th><th scope=col>V7</th><th scope=col>V8</th><th scope=col>V9</th><th scope=col>V10</th><th scope=col>V11</th><th scope=col>V12</th><th scope=col>V13</th><th scope=col>V14</th><th scope=col>V15</th><th scope=col>V16</th><th scope=col>V17</th><th scope=col>V18</th><th scope=col>V19</th><th scope=col>V20</th><th scope=col>V21</th><th scope=col>V22</th><th scope=col>V23</th><th scope=col>V24</th><th scope=col>V25</th><th scope=col>V26</th><th scope=col>V27</th><th scope=col>V28</th><th scope=col>Amount</th><th scope=col>Class</th></tr></thead>\n",
       "<tbody>\n",
       "\t<tr><td>0           </td><td>-1.3598071  </td><td>-0.07278117 </td><td>2.5363467   </td><td> 1.3781552  </td><td>-0.33832077 </td><td> 0.46238778 </td><td> 0.23959855 </td><td> 0.09869790 </td><td> 0.3637870  </td><td> 0.09079417 </td><td>-0.5515995  </td><td>-0.61780086 </td><td>-0.9913898  </td><td>-0.3111694  </td><td> 1.4681770  </td><td>-0.4704005  </td><td> 0.20797124 </td><td> 0.02579058 </td><td> 0.40399296 </td><td> 0.25141210 </td><td>-0.018306778</td><td> 0.277837576</td><td>-0.11047391 </td><td> 0.06692807 </td><td> 0.1285394  </td><td>-0.1891148  </td><td> 0.133558377</td><td>-0.02105305 </td><td>149.62      </td><td>0           </td></tr>\n",
       "\t<tr><td>0           </td><td> 1.1918571  </td><td> 0.26615071 </td><td>0.1664801   </td><td> 0.4481541  </td><td> 0.06001765 </td><td>-0.08236081 </td><td>-0.07880298 </td><td> 0.08510165 </td><td>-0.2554251  </td><td>-0.16697441 </td><td> 1.6127267  </td><td> 1.06523531 </td><td> 0.4890950  </td><td>-0.1437723  </td><td> 0.6355581  </td><td> 0.4639170  </td><td>-0.11480466 </td><td>-0.18336127 </td><td>-0.14578304 </td><td>-0.06908314 </td><td>-0.225775248</td><td>-0.638671953</td><td> 0.10128802 </td><td>-0.33984648 </td><td> 0.1671704  </td><td> 0.1258945  </td><td>-0.008983099</td><td> 0.01472417 </td><td>  2.69      </td><td>0           </td></tr>\n",
       "\t<tr><td>1           </td><td>-1.3583541  </td><td>-1.34016307 </td><td>1.7732093   </td><td> 0.3797796  </td><td>-0.50319813 </td><td> 1.80049938 </td><td> 0.79146096 </td><td> 0.24767579 </td><td>-1.5146543  </td><td> 0.20764287 </td><td> 0.6245015  </td><td> 0.06608369 </td><td> 0.7172927  </td><td>-0.1659459  </td><td> 2.3458649  </td><td>-2.8900832  </td><td> 1.10996938 </td><td>-0.12135931 </td><td>-2.26185710 </td><td> 0.52497973 </td><td> 0.247998153</td><td> 0.771679402</td><td> 0.90941226 </td><td>-0.68928096 </td><td>-0.3276418  </td><td>-0.1390966  </td><td>-0.055352794</td><td>-0.05975184 </td><td>378.66      </td><td>0           </td></tr>\n",
       "\t<tr><td>1           </td><td>-0.9662717  </td><td>-0.18522601 </td><td>1.7929933   </td><td>-0.8632913  </td><td>-0.01030888 </td><td> 1.24720317 </td><td> 0.23760894 </td><td> 0.37743587 </td><td>-1.3870241  </td><td>-0.05495192 </td><td>-0.2264873  </td><td> 0.17822823 </td><td> 0.5077569  </td><td>-0.2879237  </td><td>-0.6314181  </td><td>-1.0596472  </td><td>-0.68409279 </td><td> 1.96577500 </td><td>-1.23262197 </td><td>-0.20803778 </td><td>-0.108300452</td><td> 0.005273597</td><td>-0.19032052 </td><td>-1.17557533 </td><td> 0.6473760  </td><td>-0.2219288  </td><td> 0.062722849</td><td> 0.06145763 </td><td>123.50      </td><td>0           </td></tr>\n",
       "\t<tr><td>2           </td><td>-1.1582331  </td><td> 0.87773675 </td><td>1.5487178   </td><td> 0.4030339  </td><td>-0.40719338 </td><td> 0.09592146 </td><td> 0.59294075 </td><td>-0.27053268 </td><td> 0.8177393  </td><td> 0.75307443 </td><td>-0.8228429  </td><td> 0.53819555 </td><td> 1.3458516  </td><td>-1.1196698  </td><td> 0.1751211  </td><td>-0.4514492  </td><td>-0.23703324 </td><td>-0.03819479 </td><td> 0.80348692 </td><td> 0.40854236 </td><td>-0.009430697</td><td> 0.798278495</td><td>-0.13745808 </td><td> 0.14126698 </td><td>-0.2060096  </td><td> 0.5022922  </td><td> 0.219422230</td><td> 0.21515315 </td><td> 69.99      </td><td>0           </td></tr>\n",
       "\t<tr><td>2           </td><td>-0.4259659  </td><td> 0.96052304 </td><td>1.1411093   </td><td>-0.1682521  </td><td> 0.42098688 </td><td>-0.02972755 </td><td> 0.47620095 </td><td> 0.26031433 </td><td>-0.5686714  </td><td>-0.37140720 </td><td> 1.3412620  </td><td> 0.35989384 </td><td>-0.3580907  </td><td>-0.1371337  </td><td> 0.5176168  </td><td> 0.4017259  </td><td>-0.05813282 </td><td> 0.06865315 </td><td>-0.03319379 </td><td> 0.08496767 </td><td>-0.208253515</td><td>-0.559824796</td><td>-0.02639767 </td><td>-0.37142658 </td><td>-0.2327938  </td><td> 0.1059148  </td><td> 0.253844225</td><td> 0.08108026 </td><td>  3.67      </td><td>0           </td></tr>\n",
       "</tbody>\n",
       "</table>\n"
      ],
      "text/latex": [
       "\\begin{tabular}{r|lllllllllllllllllllllllllllllll}\n",
       " Time & V1 & V2 & V3 & V4 & V5 & V6 & V7 & V8 & V9 & V10 & V11 & V12 & V13 & V14 & V15 & V16 & V17 & V18 & V19 & V20 & V21 & V22 & V23 & V24 & V25 & V26 & V27 & V28 & Amount & Class\\\\\n",
       "\\hline\n",
       "\t 0            & -1.3598071   & -0.07278117  & 2.5363467    &  1.3781552   & -0.33832077  &  0.46238778  &  0.23959855  &  0.09869790  &  0.3637870   &  0.09079417  & -0.5515995   & -0.61780086  & -0.9913898   & -0.3111694   &  1.4681770   & -0.4704005   &  0.20797124  &  0.02579058  &  0.40399296  &  0.25141210  & -0.018306778 &  0.277837576 & -0.11047391  &  0.06692807  &  0.1285394   & -0.1891148   &  0.133558377 & -0.02105305  & 149.62       & 0           \\\\\n",
       "\t 0            &  1.1918571   &  0.26615071  & 0.1664801    &  0.4481541   &  0.06001765  & -0.08236081  & -0.07880298  &  0.08510165  & -0.2554251   & -0.16697441  &  1.6127267   &  1.06523531  &  0.4890950   & -0.1437723   &  0.6355581   &  0.4639170   & -0.11480466  & -0.18336127  & -0.14578304  & -0.06908314  & -0.225775248 & -0.638671953 &  0.10128802  & -0.33984648  &  0.1671704   &  0.1258945   & -0.008983099 &  0.01472417  &   2.69       & 0           \\\\\n",
       "\t 1            & -1.3583541   & -1.34016307  & 1.7732093    &  0.3797796   & -0.50319813  &  1.80049938  &  0.79146096  &  0.24767579  & -1.5146543   &  0.20764287  &  0.6245015   &  0.06608369  &  0.7172927   & -0.1659459   &  2.3458649   & -2.8900832   &  1.10996938  & -0.12135931  & -2.26185710  &  0.52497973  &  0.247998153 &  0.771679402 &  0.90941226  & -0.68928096  & -0.3276418   & -0.1390966   & -0.055352794 & -0.05975184  & 378.66       & 0           \\\\\n",
       "\t 1            & -0.9662717   & -0.18522601  & 1.7929933    & -0.8632913   & -0.01030888  &  1.24720317  &  0.23760894  &  0.37743587  & -1.3870241   & -0.05495192  & -0.2264873   &  0.17822823  &  0.5077569   & -0.2879237   & -0.6314181   & -1.0596472   & -0.68409279  &  1.96577500  & -1.23262197  & -0.20803778  & -0.108300452 &  0.005273597 & -0.19032052  & -1.17557533  &  0.6473760   & -0.2219288   &  0.062722849 &  0.06145763  & 123.50       & 0           \\\\\n",
       "\t 2            & -1.1582331   &  0.87773675  & 1.5487178    &  0.4030339   & -0.40719338  &  0.09592146  &  0.59294075  & -0.27053268  &  0.8177393   &  0.75307443  & -0.8228429   &  0.53819555  &  1.3458516   & -1.1196698   &  0.1751211   & -0.4514492   & -0.23703324  & -0.03819479  &  0.80348692  &  0.40854236  & -0.009430697 &  0.798278495 & -0.13745808  &  0.14126698  & -0.2060096   &  0.5022922   &  0.219422230 &  0.21515315  &  69.99       & 0           \\\\\n",
       "\t 2            & -0.4259659   &  0.96052304  & 1.1411093    & -0.1682521   &  0.42098688  & -0.02972755  &  0.47620095  &  0.26031433  & -0.5686714   & -0.37140720  &  1.3412620   &  0.35989384  & -0.3580907   & -0.1371337   &  0.5176168   &  0.4017259   & -0.05813282  &  0.06865315  & -0.03319379  &  0.08496767  & -0.208253515 & -0.559824796 & -0.02639767  & -0.37142658  & -0.2327938   &  0.1059148   &  0.253844225 &  0.08108026  &   3.67       & 0           \\\\\n",
       "\\end{tabular}\n"
      ],
      "text/markdown": [
       "\n",
       "| Time | V1 | V2 | V3 | V4 | V5 | V6 | V7 | V8 | V9 | V10 | V11 | V12 | V13 | V14 | V15 | V16 | V17 | V18 | V19 | V20 | V21 | V22 | V23 | V24 | V25 | V26 | V27 | V28 | Amount | Class |\n",
       "|---|---|---|---|---|---|---|---|---|---|---|---|---|---|---|---|---|---|---|---|---|---|---|---|---|---|---|---|---|---|---|\n",
       "| 0            | -1.3598071   | -0.07278117  | 2.5363467    |  1.3781552   | -0.33832077  |  0.46238778  |  0.23959855  |  0.09869790  |  0.3637870   |  0.09079417  | -0.5515995   | -0.61780086  | -0.9913898   | -0.3111694   |  1.4681770   | -0.4704005   |  0.20797124  |  0.02579058  |  0.40399296  |  0.25141210  | -0.018306778 |  0.277837576 | -0.11047391  |  0.06692807  |  0.1285394   | -0.1891148   |  0.133558377 | -0.02105305  | 149.62       | 0            |\n",
       "| 0            |  1.1918571   |  0.26615071  | 0.1664801    |  0.4481541   |  0.06001765  | -0.08236081  | -0.07880298  |  0.08510165  | -0.2554251   | -0.16697441  |  1.6127267   |  1.06523531  |  0.4890950   | -0.1437723   |  0.6355581   |  0.4639170   | -0.11480466  | -0.18336127  | -0.14578304  | -0.06908314  | -0.225775248 | -0.638671953 |  0.10128802  | -0.33984648  |  0.1671704   |  0.1258945   | -0.008983099 |  0.01472417  |   2.69       | 0            |\n",
       "| 1            | -1.3583541   | -1.34016307  | 1.7732093    |  0.3797796   | -0.50319813  |  1.80049938  |  0.79146096  |  0.24767579  | -1.5146543   |  0.20764287  |  0.6245015   |  0.06608369  |  0.7172927   | -0.1659459   |  2.3458649   | -2.8900832   |  1.10996938  | -0.12135931  | -2.26185710  |  0.52497973  |  0.247998153 |  0.771679402 |  0.90941226  | -0.68928096  | -0.3276418   | -0.1390966   | -0.055352794 | -0.05975184  | 378.66       | 0            |\n",
       "| 1            | -0.9662717   | -0.18522601  | 1.7929933    | -0.8632913   | -0.01030888  |  1.24720317  |  0.23760894  |  0.37743587  | -1.3870241   | -0.05495192  | -0.2264873   |  0.17822823  |  0.5077569   | -0.2879237   | -0.6314181   | -1.0596472   | -0.68409279  |  1.96577500  | -1.23262197  | -0.20803778  | -0.108300452 |  0.005273597 | -0.19032052  | -1.17557533  |  0.6473760   | -0.2219288   |  0.062722849 |  0.06145763  | 123.50       | 0            |\n",
       "| 2            | -1.1582331   |  0.87773675  | 1.5487178    |  0.4030339   | -0.40719338  |  0.09592146  |  0.59294075  | -0.27053268  |  0.8177393   |  0.75307443  | -0.8228429   |  0.53819555  |  1.3458516   | -1.1196698   |  0.1751211   | -0.4514492   | -0.23703324  | -0.03819479  |  0.80348692  |  0.40854236  | -0.009430697 |  0.798278495 | -0.13745808  |  0.14126698  | -0.2060096   |  0.5022922   |  0.219422230 |  0.21515315  |  69.99       | 0            |\n",
       "| 2            | -0.4259659   |  0.96052304  | 1.1411093    | -0.1682521   |  0.42098688  | -0.02972755  |  0.47620095  |  0.26031433  | -0.5686714   | -0.37140720  |  1.3412620   |  0.35989384  | -0.3580907   | -0.1371337   |  0.5176168   |  0.4017259   | -0.05813282  |  0.06865315  | -0.03319379  |  0.08496767  | -0.208253515 | -0.559824796 | -0.02639767  | -0.37142658  | -0.2327938   |  0.1059148   |  0.253844225 |  0.08108026  |   3.67       | 0            |\n",
       "\n"
      ],
      "text/plain": [
       "  Time V1         V2          V3        V4         V5          V6         \n",
       "1 0    -1.3598071 -0.07278117 2.5363467  1.3781552 -0.33832077  0.46238778\n",
       "2 0     1.1918571  0.26615071 0.1664801  0.4481541  0.06001765 -0.08236081\n",
       "3 1    -1.3583541 -1.34016307 1.7732093  0.3797796 -0.50319813  1.80049938\n",
       "4 1    -0.9662717 -0.18522601 1.7929933 -0.8632913 -0.01030888  1.24720317\n",
       "5 2    -1.1582331  0.87773675 1.5487178  0.4030339 -0.40719338  0.09592146\n",
       "6 2    -0.4259659  0.96052304 1.1411093 -0.1682521  0.42098688 -0.02972755\n",
       "  V7          V8          V9         V10         V11        V12        \n",
       "1  0.23959855  0.09869790  0.3637870  0.09079417 -0.5515995 -0.61780086\n",
       "2 -0.07880298  0.08510165 -0.2554251 -0.16697441  1.6127267  1.06523531\n",
       "3  0.79146096  0.24767579 -1.5146543  0.20764287  0.6245015  0.06608369\n",
       "4  0.23760894  0.37743587 -1.3870241 -0.05495192 -0.2264873  0.17822823\n",
       "5  0.59294075 -0.27053268  0.8177393  0.75307443 -0.8228429  0.53819555\n",
       "6  0.47620095  0.26031433 -0.5686714 -0.37140720  1.3412620  0.35989384\n",
       "  V13        V14        V15        V16        V17         V18        \n",
       "1 -0.9913898 -0.3111694  1.4681770 -0.4704005  0.20797124  0.02579058\n",
       "2  0.4890950 -0.1437723  0.6355581  0.4639170 -0.11480466 -0.18336127\n",
       "3  0.7172927 -0.1659459  2.3458649 -2.8900832  1.10996938 -0.12135931\n",
       "4  0.5077569 -0.2879237 -0.6314181 -1.0596472 -0.68409279  1.96577500\n",
       "5  1.3458516 -1.1196698  0.1751211 -0.4514492 -0.23703324 -0.03819479\n",
       "6 -0.3580907 -0.1371337  0.5176168  0.4017259 -0.05813282  0.06865315\n",
       "  V19         V20         V21          V22          V23         V24        \n",
       "1  0.40399296  0.25141210 -0.018306778  0.277837576 -0.11047391  0.06692807\n",
       "2 -0.14578304 -0.06908314 -0.225775248 -0.638671953  0.10128802 -0.33984648\n",
       "3 -2.26185710  0.52497973  0.247998153  0.771679402  0.90941226 -0.68928096\n",
       "4 -1.23262197 -0.20803778 -0.108300452  0.005273597 -0.19032052 -1.17557533\n",
       "5  0.80348692  0.40854236 -0.009430697  0.798278495 -0.13745808  0.14126698\n",
       "6 -0.03319379  0.08496767 -0.208253515 -0.559824796 -0.02639767 -0.37142658\n",
       "  V25        V26        V27          V28         Amount Class\n",
       "1  0.1285394 -0.1891148  0.133558377 -0.02105305 149.62 0    \n",
       "2  0.1671704  0.1258945 -0.008983099  0.01472417   2.69 0    \n",
       "3 -0.3276418 -0.1390966 -0.055352794 -0.05975184 378.66 0    \n",
       "4  0.6473760 -0.2219288  0.062722849  0.06145763 123.50 0    \n",
       "5 -0.2060096  0.5022922  0.219422230  0.21515315  69.99 0    \n",
       "6 -0.2327938  0.1059148  0.253844225  0.08108026   3.67 0    "
      ]
     },
     "metadata": {},
     "output_type": "display_data"
    }
   ],
   "source": [
    "data_all.raw = read.csv(\"Credit Card Transactions.csv\") # may take about 30 seconds\n",
    "dim(data_all.raw)\n",
    "head(data_all.raw)"
   ]
  },
  {
   "cell_type": "markdown",
   "metadata": {},
   "source": [
    "<br>\n",
    "\n",
    "#### Partition data, holdout 15%."
   ]
  },
  {
   "cell_type": "code",
   "execution_count": 3,
   "metadata": {},
   "outputs": [],
   "source": [
    "set.seed(12345)\n",
    "p = partition(data_all.raw$Class, 0.15)\n",
    "\n",
    "data.raw = data_all.raw[p==\"train\", ]\n",
    "data_holdout.raw = data_all.raw[p==\"holdout\", ]"
   ]
  },
  {
   "cell_type": "markdown",
   "metadata": {},
   "source": [
    "<br>\n",
    "\n",
    "#### Distribution of fraudulent and legitimate transactions."
   ]
  },
  {
   "cell_type": "code",
   "execution_count": 4,
   "metadata": {},
   "outputs": [
    {
     "data": {
      "text/plain": [
       "\n",
       "     0      1 \n",
       "241668    419 "
      ]
     },
     "metadata": {},
     "output_type": "display_data"
    },
    {
     "data": {
      "text/plain": [
       "\n",
       "          0           1 \n",
       "0.998269217 0.001730783 "
      ]
     },
     "metadata": {},
     "output_type": "display_data"
    }
   ],
   "source": [
    "table(data.raw$Class)\n",
    "table(data.raw$Class) / nrow(data.raw)"
   ]
  },
  {
   "cell_type": "markdown",
   "metadata": {},
   "source": [
    "<br>\n",
    "\n",
    "#### Get a balanced sample."
   ]
  },
  {
   "cell_type": "code",
   "execution_count": 5,
   "metadata": {
    "scrolled": true
   },
   "outputs": [
    {
     "data": {
      "text/plain": [
       "\n",
       "legit fraud \n",
       "  419   419 "
      ]
     },
     "metadata": {},
     "output_type": "display_data"
    },
    {
     "data": {
      "text/html": [
       "<table>\n",
       "<thead><tr><th></th><th scope=col>Time</th><th scope=col>V1</th><th scope=col>V2</th><th scope=col>V3</th><th scope=col>V4</th><th scope=col>V5</th><th scope=col>V6</th><th scope=col>V7</th><th scope=col>V8</th><th scope=col>V9</th><th scope=col>V10</th><th scope=col>V11</th><th scope=col>V12</th><th scope=col>V13</th><th scope=col>V14</th><th scope=col>V15</th><th scope=col>V16</th><th scope=col>V17</th><th scope=col>V18</th><th scope=col>V19</th><th scope=col>V20</th><th scope=col>V21</th><th scope=col>V22</th><th scope=col>V23</th><th scope=col>V24</th><th scope=col>V25</th><th scope=col>V26</th><th scope=col>V27</th><th scope=col>V28</th><th scope=col>Amount</th><th scope=col>Class</th></tr></thead>\n",
       "<tbody>\n",
       "\t<tr><th scope=row>327</th><td> 238         </td><td>-0.992403869 </td><td> 1.6265915   </td><td> 0.9602477   </td><td> 0.09199868  </td><td>-0.2379629   </td><td>-0.55079648  </td><td> 0.10864855  </td><td>-0.378489746 </td><td>-0.69448027  </td><td>-0.74546607  </td><td> 0.33933342  </td><td>  0.9374150  </td><td> 1.21478663  </td><td> -0.2650598  </td><td> 0.942094621 </td><td> 0.07185257  </td><td>  0.5716289  </td><td>-0.78108330  </td><td>-0.60078314  </td><td>-0.133863770 </td><td> 0.60208975  </td><td>-0.693278327 </td><td> 0.2097371816</td><td> 0.365067770 </td><td>-0.195155186 </td><td> 0.08651426  </td><td> 0.1836605331</td><td> 0.04336369  </td><td>  8.99       </td><td>legit        </td></tr>\n",
       "\t<tr><th scope=row>542</th><td> 406         </td><td>-2.312226542 </td><td> 1.9519920   </td><td>-1.6098507   </td><td> 3.99790559  </td><td>-0.5221879   </td><td>-1.42654532  </td><td>-2.53738731  </td><td> 1.391657248 </td><td>-2.77008928  </td><td>-2.77227214  </td><td> 3.20203321  </td><td> -2.8999074  </td><td>-0.59522188  </td><td> -4.2892538  </td><td> 0.389724120 </td><td>-1.14074718  </td><td> -2.8300557  </td><td>-0.01682247  </td><td> 0.41695571  </td><td> 0.126910559 </td><td> 0.51723237  </td><td>-0.035049369 </td><td>-0.4652110762</td><td> 0.320198199 </td><td> 0.044519167 </td><td> 0.17783980  </td><td> 0.2611450026</td><td>-0.14327587  </td><td>  0.00       </td><td>fraud        </td></tr>\n",
       "\t<tr><th scope=row>624</th><td> 472         </td><td>-3.043540624 </td><td>-3.1573071   </td><td> 1.0884628   </td><td> 2.28864362  </td><td> 1.3598051   </td><td>-1.06482252  </td><td> 0.32557427  </td><td>-0.067793653 </td><td>-0.27095284  </td><td>-0.83858656  </td><td>-0.41457545  </td><td> -0.5031409  </td><td> 0.67650154  </td><td> -1.6920289  </td><td> 2.000634839 </td><td> 0.66677970  </td><td>  0.5997174  </td><td> 1.72532101  </td><td> 0.28334483  </td><td> 2.102338793 </td><td> 0.66169592  </td><td> 0.435477209 </td><td> 1.3759657425</td><td>-0.293803153 </td><td> 0.279798032 </td><td>-0.14536171  </td><td>-0.2527731225</td><td> 0.03576423  </td><td>529.00       </td><td>fraud        </td></tr>\n",
       "\t<tr><th scope=row>1698</th><td>1313         </td><td>-1.360261926 </td><td> 1.5427349   </td><td> 1.6567811   </td><td> 0.96688852  </td><td>-0.5127825   </td><td>-0.32196413  </td><td> 0.17481755  </td><td> 0.401853553 </td><td>-0.13709747  </td><td>-0.23869110  </td><td>-0.94804693  </td><td>  0.1411226  </td><td>-0.29178128  </td><td>  0.1056810  </td><td> 0.091346904 </td><td>-0.56325652  </td><td>  0.3893697  </td><td>-0.24796649  </td><td> 0.92216054  </td><td>-0.012622021 </td><td>-0.17293858  </td><td>-0.512887867 </td><td>-0.1383640621</td><td> 0.362893102 </td><td> 0.372738824 </td><td>-0.42826536  </td><td>-0.1950585812</td><td> 0.08016729  </td><td>  0.99       </td><td>legit        </td></tr>\n",
       "\t<tr><th scope=row>1963</th><td>1509         </td><td>-0.275482986 </td><td> 0.9970975   </td><td> 1.3323666   </td><td>-0.16483284  </td><td> 0.4022644   </td><td>-0.41775933  </td><td> 0.84835043  </td><td>-0.144493821 </td><td>-0.53624634  </td><td>-0.14541212  </td><td> 1.33440218  </td><td>  0.5784039  </td><td> 0.38764361  </td><td> -0.5246409  </td><td> 0.213030236 </td><td> 0.57946612  </td><td> -0.4860028  </td><td> 0.40109708  </td><td> 0.32423536  </td><td> 0.241183176 </td><td>-0.27829646  </td><td>-0.585853557 </td><td>-0.0967211945</td><td>-0.045386613 </td><td>-0.159267631 </td><td> 0.04537785  </td><td> 0.0777727463</td><td>-0.13718593  </td><td>  9.99       </td><td>legit        </td></tr>\n",
       "\t<tr><th scope=row>2467</th><td>2031         </td><td>-0.847058312 </td><td> 0.5357343   </td><td> 1.7925023   </td><td> 0.95992026  </td><td> 0.4259530   </td><td>-0.71612366  </td><td> 0.06521242  </td><td>-0.061629079 </td><td>-0.60887228  </td><td> 0.04657145  </td><td>-0.63233083  </td><td> -0.5634133  </td><td>-0.32298061  </td><td>  0.3546393  </td><td> 1.980242429 </td><td>-0.31284387  </td><td>  0.1551057  </td><td> 0.02504818  </td><td> 1.90804119  </td><td> 0.073051076 </td><td>-0.23854879  </td><td>-0.702280488 </td><td>-0.2547508240</td><td> 0.034994134 </td><td>-0.094352330 </td><td> 0.39669798  </td><td> 0.0011148914</td><td> 0.04263305  </td><td>  1.79       </td><td>legit        </td></tr>\n",
       "\t<tr><th scope=row>2699</th><td>2240         </td><td>-0.236168470 </td><td> 0.9970533   </td><td> 1.8686053   </td><td> 0.75686799  </td><td> 0.1950688   </td><td>-0.43652956  </td><td> 0.83865526  </td><td>-0.235938891 </td><td>-0.84329862  </td><td> 0.09851203  </td><td> 1.58368099  </td><td>  0.8667863  </td><td> 0.49405767  </td><td>  0.1678092  </td><td> 0.390226829 </td><td>-0.17866575  </td><td> -0.5362717  </td><td> 0.42239704  </td><td> 0.66210964  </td><td> 0.113970078 </td><td> 0.07960133  </td><td> 0.429978817 </td><td>-0.1776377453</td><td> 0.539192438 </td><td>-0.309761393 </td><td>-0.47653747  </td><td>-0.0001854925</td><td>-0.07936631  </td><td>  2.25       </td><td>legit        </td></tr>\n",
       "\t<tr><th scope=row>4393</th><td>3766         </td><td> 0.784768916 </td><td>-0.2652584   </td><td>-0.4431177   </td><td>-1.37881724  </td><td> 1.3928057   </td><td> 3.65393671  </td><td>-1.39929674  </td><td>-0.049544998 </td><td> 0.08058954  </td><td> 0.35293856  </td><td> 1.08228843  </td><td> -3.2361907  </td><td> 1.88047028  </td><td>  1.5036887  </td><td> 0.711559770 </td><td> 1.22564602  </td><td>  0.8222501  </td><td>-0.74743587  </td><td> 1.55543692  </td><td> 0.199884848 </td><td> 0.46228831  </td><td>-1.206506180 </td><td> 0.0269988172</td><td> 0.919961026 </td><td> 0.758053263 </td><td>-0.30187906  </td><td> 0.0505383960</td><td> 0.08415453  </td><td> 35.07       </td><td>legit        </td></tr>\n",
       "\t<tr><th scope=row>4496</th><td>3794         </td><td> 0.863642742 </td><td>-0.9049920   </td><td> 1.0561223   </td><td> 0.61213971  </td><td>-1.4072868   </td><td>-0.30191394  </td><td>-0.58416557  </td><td>-0.006763672 </td><td> 2.64652945  </td><td>-0.87255633  </td><td>-0.04316079  </td><td> -2.5466159  </td><td> 0.47484107  </td><td>  1.1534184  </td><td>-0.888985576 </td><td>-0.07082375  </td><td>  0.9494910  </td><td>-0.18519491  </td><td> 0.21230878  </td><td> 0.172941842 </td><td>-0.28808058  </td><td>-0.790414459 </td><td>-0.0532765679</td><td> 0.388560436 </td><td> 0.007037981 </td><td> 0.88813033  </td><td>-0.1023499038</td><td> 0.03703729  </td><td>189.68       </td><td>legit        </td></tr>\n",
       "\t<tr><th scope=row>4775</th><td>4238         </td><td>-0.519699573 </td><td> 1.0878531   </td><td> 1.4758286   </td><td> 0.59554882  </td><td> 0.1351759   </td><td> 0.16146059  </td><td> 1.21521016  </td><td>-1.401913181 </td><td> 1.20320864  </td><td>-0.27865046  </td><td> 0.71626473  </td><td> -3.0118258  </td><td> 0.89049728  </td><td>  1.4180956  </td><td> 0.358032066 </td><td>-0.45834198  </td><td>  0.4637145  </td><td>-0.13423729  </td><td>-0.79930527  </td><td>-0.298941695 </td><td> 0.61629177  </td><td>-0.032994760 </td><td>-0.1458314753</td><td>-0.004458228 </td><td> 0.093368321 </td><td>-0.43527207  </td><td>-0.3301325927</td><td>-0.46339894  </td><td>110.00       </td><td>legit        </td></tr>\n",
       "\t<tr><th scope=row>4921</th><td>4462         </td><td>-2.303349568 </td><td> 1.7592475   </td><td>-0.3597447   </td><td> 2.33024305  </td><td>-0.8216283   </td><td>-0.07578757  </td><td> 0.56231978  </td><td>-0.399146578 </td><td>-0.23825337  </td><td>-1.52541163  </td><td> 2.03291216  </td><td> -6.5601243  </td><td> 0.02293732  </td><td> -1.4701015  </td><td>-0.698826069 </td><td>-2.28219383  </td><td> -4.7818309  </td><td>-2.61566494  </td><td>-1.33444107  </td><td>-0.430021867 </td><td>-0.29416632  </td><td>-0.932391057 </td><td> 0.1727262958</td><td>-0.087329538 </td><td>-0.156114265 </td><td>-0.54262789  </td><td> 0.0395659889</td><td>-0.15302880  </td><td>239.93       </td><td>fraud        </td></tr>\n",
       "\t<tr><th scope=row>5442</th><td>5440         </td><td> 0.594521754 </td><td>-1.0061527   </td><td> 1.8046188   </td><td> 2.49319013  </td><td>-1.2869650   </td><td> 1.53096073  </td><td>-1.08544061  </td><td> 0.518355092 </td><td> 2.16170699  </td><td>-0.21010610  </td><td> 1.27897097  </td><td> -1.4857672  </td><td> 0.94257864  </td><td>  0.6170307  </td><td>-3.090617616 </td><td>-0.05678471  </td><td>  1.0807166  </td><td>-0.18599078  </td><td>-0.42552734  </td><td> 0.213350114 </td><td>-0.08980746  </td><td>-0.093485632 </td><td>-0.1612245979</td><td> 0.039726895 </td><td> 0.018106689 </td><td> 0.99109358  </td><td>-0.0513990124</td><td> 0.03918626  </td><td>224.06       </td><td>legit        </td></tr>\n",
       "\t<tr><th scope=row>5461</th><td>5469         </td><td>-0.809930281 </td><td> 0.6238953   </td><td> 2.6412487   </td><td> 1.27218274  </td><td>-0.5058198   </td><td> 1.02281443  </td><td> 0.33940806  </td><td>-0.248389559 </td><td> 1.87824023  </td><td> 0.22839757  </td><td> 2.24789445  </td><td> -2.2103648  </td><td> 0.66517201  </td><td>  0.8809069  </td><td>-0.514389860 </td><td>-0.73010643  </td><td>  0.7477891  </td><td> 0.50805614  </td><td> 0.60030336  </td><td>-0.120012571 </td><td>-0.10043033  </td><td> 0.449591517 </td><td>-0.0438657623</td><td> 0.163675570 </td><td>-0.660020550 </td><td>-0.47561879  </td><td>-0.6199581085</td><td>-0.28493787  </td><td> 75.00       </td><td>legit        </td></tr>\n",
       "\t<tr><th scope=row>6109</th><td>6986         </td><td>-4.397974442 </td><td> 1.3583670   </td><td>-2.5928442   </td><td> 2.67978697  </td><td>-1.1281309   </td><td>-1.70653639  </td><td>-3.49619729  </td><td>-0.248777743 </td><td>-0.24776790  </td><td>-4.80163741  </td><td> 4.89584422  </td><td>-10.9128193  </td><td> 0.18437169  </td><td> -6.7710967  </td><td>-0.007326183 </td><td>-7.35808322  </td><td>-12.5984185  </td><td>-5.13154863  </td><td> 0.30833395  </td><td>-0.171607879 </td><td> 0.57357407  </td><td> 0.176967718 </td><td>-0.4362068836</td><td>-0.053501865 </td><td> 0.252405262 </td><td>-0.65748775  </td><td>-0.8271357146</td><td> 0.84957338  </td><td> 59.00       </td><td>fraud        </td></tr>\n",
       "\t<tr><th scope=row>6330</th><td>7519         </td><td> 1.234235046 </td><td> 3.0197404   </td><td>-4.3045969   </td><td> 4.73279513  </td><td> 3.6242008   </td><td>-1.35774566  </td><td> 1.71344499  </td><td>-0.496358487 </td><td>-1.28285782  </td><td>-2.44746926  </td><td> 2.10134387  </td><td> -4.6096284  </td><td> 1.46437762  </td><td> -6.0793372  </td><td>-0.339237373 </td><td> 2.58185095  </td><td>  6.7393844  </td><td> 3.04249318  </td><td>-2.72185312  </td><td> 0.009060836 </td><td>-0.37906831  </td><td>-0.704181032 </td><td>-0.6568047563</td><td>-1.632652957 </td><td> 1.488901448 </td><td> 0.56679727  </td><td>-0.0100162235</td><td> 0.14679273  </td><td>  1.00       </td><td>fraud        </td></tr>\n",
       "\t<tr><th scope=row>6332</th><td>7526         </td><td> 0.008430365 </td><td> 4.1378368   </td><td>-6.2406966   </td><td> 6.67573216  </td><td> 0.7683070   </td><td>-3.35305955  </td><td>-1.63173467  </td><td> 0.154612448 </td><td>-2.79589246  </td><td>-6.18789063  </td><td> 5.66439471  </td><td> -9.8544848  </td><td>-0.30616666  </td><td>-10.6911962  </td><td>-0.638498193 </td><td>-2.04197379  </td><td> -1.1290559  </td><td> 0.11645252  </td><td>-1.93466574  </td><td> 0.488378221 </td><td> 0.36451421  </td><td>-0.608057134 </td><td>-0.5395279418</td><td> 0.128939983 </td><td> 1.488481210 </td><td> 0.50796268  </td><td> 0.7358216361</td><td> 0.51357374  </td><td>  1.00       </td><td>fraud        </td></tr>\n",
       "\t<tr><th scope=row>6335</th><td>7535         </td><td> 0.026779226 </td><td> 4.1324639   </td><td>-6.5606000   </td><td> 6.34855667  </td><td> 1.3296657   </td><td>-2.51347885  </td><td>-1.68910220  </td><td> 0.303252801 </td><td>-3.13940906  </td><td>-6.04546780  </td><td> 6.75462545  </td><td> -8.9481786  </td><td> 0.70272500  </td><td>-10.7338541  </td><td>-1.379519857 </td><td>-1.63896011  </td><td> -1.7463501  </td><td> 0.77674410  </td><td>-1.32735664  </td><td> 0.587743219 </td><td> 0.37050865  </td><td>-0.576752473 </td><td>-0.6696053718</td><td>-0.759907530 </td><td> 1.605055550 </td><td> 0.54067540  </td><td> 0.7370403817</td><td> 0.49669911  </td><td>  1.00       </td><td>fraud        </td></tr>\n",
       "\t<tr><th scope=row>6339</th><td>7551         </td><td> 0.316459000 </td><td> 3.8090759   </td><td>-5.6151590   </td><td> 6.04744510  </td><td> 1.5540260   </td><td>-2.65135311  </td><td>-0.74657927  </td><td> 0.055586311 </td><td>-2.67867854  </td><td>-4.95949291  </td><td> 6.43905335  </td><td> -7.5201174  </td><td> 0.38635167  </td><td> -9.2523072  </td><td>-1.365188415 </td><td>-0.50236219  </td><td>  0.7844266  </td><td> 1.49430461  </td><td>-1.80801216  </td><td> 0.388307428 </td><td> 0.20882837  </td><td>-0.511746619 </td><td>-0.5838132208</td><td>-0.219845029 </td><td> 1.474752584 </td><td> 0.49119193  </td><td> 0.5188682846</td><td> 0.40252807  </td><td>  1.00       </td><td>fraud        </td></tr>\n",
       "\t<tr><th scope=row>6428</th><td>7610         </td><td> 0.725645740 </td><td> 2.3008944   </td><td>-5.3299762   </td><td> 4.00768280  </td><td>-1.7304106   </td><td>-1.73219257  </td><td>-3.96859262  </td><td> 1.063728153 </td><td>-0.48609655  </td><td>-4.62498495  </td><td> 5.58872391  </td><td> -7.1482426  </td><td> 1.68045074  </td><td> -6.2102577  </td><td> 0.495282118 </td><td>-3.59954021  </td><td> -4.8303242  </td><td>-0.64909012  </td><td> 2.25012325  </td><td> 0.504646226 </td><td> 0.58966913  </td><td> 0.109541319 </td><td> 0.6010452765</td><td>-0.364700278 </td><td>-1.843077692 </td><td> 0.35190930  </td><td> 0.5945499781</td><td> 0.09937224  </td><td>  1.00       </td><td>fraud        </td></tr>\n",
       "\t<tr><th scope=row>6447</th><td>7672         </td><td> 0.702709900 </td><td> 2.4264328   </td><td>-5.2345133   </td><td> 4.41666124  </td><td>-2.1708062   </td><td>-2.66755356  </td><td>-3.87808845  </td><td> 0.911337122 </td><td>-0.16619904  </td><td>-5.00924850  </td><td> 4.67572942  </td><td> -8.1671881  </td><td> 0.63855928  </td><td> -6.7633344  </td><td> 1.296860256 </td><td>-3.81175841  </td><td> -3.7541281  </td><td>-1.04917740  </td><td> 1.55419726  </td><td> 0.422743129 </td><td> 0.55117969  </td><td>-0.009802357 </td><td> 0.7216982301</td><td> 0.473245751 </td><td>-1.959303771 </td><td> 0.31947554  </td><td> 0.6004849165</td><td> 0.12930523  </td><td>  1.00       </td><td>fraud        </td></tr>\n",
       "\t<tr><th scope=row>6473</th><td>7740         </td><td> 1.023873869 </td><td> 2.0014853   </td><td>-4.7697518   </td><td> 3.81919459  </td><td>-1.2717542   </td><td>-1.73466243  </td><td>-3.05924503  </td><td> 0.889804792 </td><td> 0.41538211  </td><td>-3.95581234  </td><td> 3.57205482  </td><td> -7.1864516  </td><td> 0.14724234  </td><td> -5.2493045  </td><td> 1.678333674 </td><td>-2.64147311  </td><td> -1.3120586  </td><td>-0.39171605  </td><td> 1.11826355  </td><td> 0.204137684 </td><td> 0.34328265  </td><td>-0.054195664 </td><td> 0.7096539525</td><td>-0.372215867 </td><td>-2.032068366 </td><td> 0.36677760  </td><td> 0.3951706693</td><td> 0.02020554  </td><td>  1.00       </td><td>fraud        </td></tr>\n",
       "\t<tr><th scope=row>6530</th><td>7891         </td><td>-1.585505367 </td><td> 3.2615845   </td><td>-4.1374220   </td><td> 2.35709625  </td><td>-1.4050433   </td><td>-1.87943719  </td><td>-3.51368687  </td><td> 1.515606746 </td><td>-1.20716636  </td><td>-6.23456133  </td><td> 5.45074607  </td><td> -7.3337141  </td><td> 1.36119332  </td><td> -6.6080683  </td><td>-0.481069425 </td><td>-2.60247787  </td><td> -4.8351121  </td><td>-0.55302609  </td><td> 0.35194894  </td><td> 0.315957259 </td><td> 0.50154315  </td><td>-0.546868812 </td><td>-0.0765836359</td><td>-0.425550367 </td><td> 0.123644186 </td><td> 0.32198454  </td><td> 0.2640281605</td><td> 0.13281672  </td><td>  1.00       </td><td>fraud        </td></tr>\n",
       "\t<tr><th scope=row>6610</th><td>8090         </td><td>-1.783228837 </td><td> 3.4027937   </td><td>-3.8227423   </td><td> 2.62536815  </td><td>-1.9764154   </td><td>-2.73168901  </td><td>-3.43055915  </td><td> 1.413203514 </td><td>-0.77694149  </td><td>-6.19988176  </td><td> 4.36671349  </td><td> -8.2432624  </td><td> 0.34576117  </td><td> -6.5905503  </td><td> 0.265576096 </td><td>-3.02845239  </td><td> -4.2144863  </td><td>-1.21360785  </td><td>-0.26542160  </td><td> 0.364089115 </td><td> 0.45403193  </td><td>-0.577525824 </td><td> 0.0459665375</td><td> 0.461700018 </td><td> 0.044146161 </td><td> 0.30570443  </td><td> 0.5309809863</td><td> 0.24374560  </td><td>  1.00       </td><td>fraud        </td></tr>\n",
       "\t<tr><th scope=row>6642</th><td>8169         </td><td> 0.857321004 </td><td> 4.0939118   </td><td>-7.4238936   </td><td> 7.38024452  </td><td> 0.9733660   </td><td>-2.73076152  </td><td>-1.49649706  </td><td> 0.543015173 </td><td>-2.35119016  </td><td>-3.94423850  </td><td> 6.35507774  </td><td> -7.3097480  </td><td> 0.74845055  </td><td> -9.0579925  </td><td>-0.648944909 </td><td>-1.07311653  </td><td>  1.5245009  </td><td> 1.83136353  </td><td>-0.08972441  </td><td> 0.483302650 </td><td> 0.37502629  </td><td> 0.145399853 </td><td> 0.2406032650</td><td>-0.234649223 </td><td>-1.004880947 </td><td> 0.43583192  </td><td> 0.6183238052</td><td> 0.14846894  </td><td>  1.00       </td><td>fraud        </td></tr>\n",
       "\t<tr><th scope=row>6718</th><td>8408         </td><td>-1.813280485 </td><td> 4.9178507   </td><td>-5.9261297   </td><td> 5.70150043  </td><td> 1.2043926   </td><td>-3.03513755  </td><td>-1.71340206  </td><td> 0.561257391 </td><td>-3.79635425  </td><td>-7.45484065  </td><td> 7.38805512  </td><td>-10.4752287  </td><td>-0.37931453  </td><td>-11.7367291  </td><td>-2.086988952 </td><td>-2.44235398  </td><td> -3.5355235  </td><td> 0.13036031  </td><td>-2.07145049  </td><td> 0.576656033 </td><td> 0.61564184  </td><td>-0.406427275 </td><td>-0.7370180764</td><td>-0.279641772 </td><td> 1.106766374 </td><td> 0.32388548  </td><td> 0.8947666715</td><td> 0.56951860  </td><td>  1.00       </td><td>fraud        </td></tr>\n",
       "\t<tr><th scope=row>6720</th><td>8415         </td><td>-0.251470960 </td><td> 4.3135233   </td><td>-6.8914377   </td><td> 6.79679668  </td><td> 0.6162965   </td><td>-2.96632654  </td><td>-2.43665253  </td><td> 0.489327899 </td><td>-3.37163857  </td><td>-6.81081310  </td><td> 7.62008906  </td><td>-10.2852825  </td><td>-0.34244433  </td><td>-11.5434979  </td><td>-1.334987903 </td><td>-2.68928420  </td><td> -3.2043834  </td><td> 0.08652190  </td><td>-1.31449510  </td><td> 0.632709964 </td><td> 0.53689207  </td><td>-0.546126024 </td><td>-0.6052395476</td><td>-0.263743460 </td><td> 1.539915831 </td><td> 0.52357370  </td><td> 0.8910246884</td><td> 0.57274067  </td><td>  1.00       </td><td>fraud        </td></tr>\n",
       "\t<tr><th scope=row>6735</th><td>8451         </td><td> 0.314596590 </td><td> 2.6606703   </td><td>-5.9200374   </td><td> 4.52249961  </td><td>-2.3150273   </td><td>-2.27835165  </td><td>-4.68405394  </td><td> 1.202270265 </td><td>-0.69469551  </td><td>-5.52627806  </td><td> 6.66243683  </td><td> -8.5254649  </td><td> 0.74274545  </td><td> -7.6786680  </td><td> 0.593070459 </td><td>-4.47813660  </td><td> -5.8442665  </td><td>-1.10273079  </td><td> 2.17738569  </td><td> 0.562705643 </td><td> 0.74331402  </td><td> 0.064038356 </td><td> 0.6778416753</td><td> 0.083007823 </td><td>-1.911034464 </td><td> 0.32218840  </td><td> 0.6208665388</td><td> 0.18503035  </td><td>  1.00       </td><td>fraud        </td></tr>\n",
       "\t<tr><th scope=row>6775</th><td>8528         </td><td> 0.447395553 </td><td> 2.4819539   </td><td>-5.6608139   </td><td> 4.45592281  </td><td>-2.4437798   </td><td>-2.18504026  </td><td>-4.71614294  </td><td> 1.249803252 </td><td>-0.71832607  </td><td>-5.39033026  </td><td> 6.45418752  </td><td> -8.4853466  </td><td> 0.63528141  </td><td> -7.0199016  </td><td> 0.539814071 </td><td>-4.64986430  </td><td> -6.2883575  </td><td>-1.33931232  </td><td> 2.26298479  </td><td> 0.549612971 </td><td> 0.75605255  </td><td> 0.140167769 </td><td> 0.6654111007</td><td> 0.131463792 </td><td>-1.908217412 </td><td> 0.33480760  </td><td> 0.7485342848</td><td> 0.17541379  </td><td>  1.00       </td><td>fraud        </td></tr>\n",
       "\t<tr><th scope=row>6821</th><td>8614         </td><td>-2.169928976 </td><td> 3.6396540   </td><td>-4.5084978   </td><td> 2.73066815  </td><td>-2.1226929   </td><td>-2.34101683  </td><td>-4.23525308  </td><td> 1.703537658 </td><td>-1.30527913  </td><td>-6.71672002  </td><td> 6.35361232  </td><td> -8.6016483  </td><td> 0.44993004  </td><td> -7.5061694  </td><td>-0.438081782 </td><td>-3.69451600  </td><td> -6.3047534  </td><td>-1.26758713  </td><td> 0.35798703  </td><td> 0.500779054 </td><td> 0.64510328  </td><td>-0.503529449 </td><td>-0.0005228218</td><td> 0.071695779 </td><td> 0.092007433 </td><td> 0.30849793  </td><td> 0.5525909147</td><td> 0.29895448  </td><td>  1.00       </td><td>fraud        </td></tr>\n",
       "\t<tr><th scope=row>6871</th><td>8757         </td><td>-1.863755553 </td><td> 3.4426440   </td><td>-4.4682597   </td><td> 2.80533626  </td><td>-2.1184125   </td><td>-2.33228489  </td><td>-4.26123720  </td><td> 1.701681844 </td><td>-1.43939588  </td><td>-6.99990663  </td><td> 6.31620968  </td><td> -8.6708180  </td><td> 0.31602399  </td><td> -7.4177121  </td><td>-0.436537471 </td><td>-3.65280196  </td><td> -6.2931453  </td><td>-1.24324829  </td><td> 0.36481048  </td><td> 0.360924004 </td><td> 0.66792657  </td><td>-0.516242362 </td><td>-0.0122178117</td><td> 0.070613703 </td><td> 0.058504467 </td><td> 0.30488284  </td><td> 0.4180124672</td><td> 0.20885828  </td><td>  1.00       </td><td>fraud        </td></tr>\n",
       "\t<tr><th scope=row>...</th><td>...</td><td>...</td><td>...</td><td>...</td><td>...</td><td>...</td><td>...</td><td>...</td><td>...</td><td>...</td><td>...</td><td>...</td><td>...</td><td>...</td><td>...</td><td>...</td><td>...</td><td>...</td><td>...</td><td>...</td><td>...</td><td>...</td><td>...</td><td>...</td><td>...</td><td>...</td><td>...</td><td>...</td><td>...</td><td>...</td><td>...</td></tr>\n",
       "\t<tr><th scope=row>273073</th><td>165407       </td><td> 2.05514393  </td><td> 0.1127764   </td><td>-1.70456117  </td><td> 0.43500182  </td><td> 0.3686015   </td><td>-0.902506695 </td><td> 0.18152376  </td><td>-0.22702233  </td><td> 0.52798319  </td><td>-0.37518221  </td><td>-0.58053991  </td><td> 0.02680476  </td><td>-0.18598099  </td><td>-0.7914168   </td><td> 0.23097827  </td><td> 0.31965255  </td><td> 0.49966142  </td><td>-0.28626833  </td><td> 0.03939019  </td><td>-0.15444368  </td><td>-0.35985432  </td><td>-0.96357581  </td><td> 0.338848494 </td><td> 0.5618028175</td><td>-0.27409339  </td><td> 0.169499200 </td><td>-0.065965770 </td><td>-0.029081921 </td><td> 10.77       </td><td>legit        </td></tr>\n",
       "\t<tr><th scope=row>273448</th><td>165589       </td><td> 2.02781572  </td><td>-0.2933611   </td><td>-0.68081307  </td><td>-0.01715918  </td><td>-0.1188300   </td><td> 0.074518264 </td><td>-0.53668169  </td><td> 0.08159713  </td><td> 1.06799687  </td><td>-0.06788005  </td><td> 0.14251036  </td><td> 1.09259457  </td><td> 0.62432095  </td><td> 0.1204400   </td><td> 0.39003518  </td><td> 0.69381478  </td><td>-1.30340012  </td><td> 0.78479895  </td><td> 0.52390505  </td><td>-0.17423271  </td><td>-0.12888308  </td><td>-0.23925758  </td><td> 0.209975749 </td><td>-1.0841764102</td><td>-0.24616060  </td><td>-0.881836715 </td><td> 0.057184509 </td><td>-0.046478970 </td><td>  1.00       </td><td>legit        </td></tr>\n",
       "\t<tr><th scope=row>273785</th><td>165698       </td><td>-1.17133490  </td><td> 0.3620202   </td><td> 0.57900706  </td><td>-0.90089321  </td><td> 0.8860329   </td><td> 1.865060262 </td><td>-0.31916161  </td><td> 1.15033515  </td><td>-0.08893794  </td><td>-0.83638269  </td><td> 0.33254735  </td><td> 0.16010934  </td><td>-1.16951297  </td><td> 0.6391848   </td><td> 0.39550260  </td><td> 0.07071241  </td><td>-0.05407812  </td><td>-0.65964092  </td><td>-0.65060506  </td><td>-0.31149112  </td><td>-0.04312547  </td><td>-0.33882856  </td><td> 0.176390924 </td><td>-1.0044295788</td><td>-0.77628114  </td><td>-0.002681067 </td><td>-0.094885485 </td><td> 0.058017470 </td><td> 30.70       </td><td>legit        </td></tr>\n",
       "\t<tr><th scope=row>273811</th><td>165709       </td><td> 0.01127215  </td><td> 0.8689841   </td><td> 0.80896255  </td><td>-0.38596747  </td><td> 0.7096622   </td><td>-0.946431549 </td><td> 1.31574159  </td><td>-0.53230293  </td><td>-0.37461628  </td><td>-0.37444167  </td><td>-0.66490824  </td><td> 0.48311306  </td><td> 0.98501222  </td><td>-0.1800513   </td><td>-0.21653977  </td><td>-0.46662338  </td><td>-0.35697581  </td><td>-0.79734827  </td><td> 0.52235751  </td><td> 0.04655917  </td><td>-0.21726451  </td><td>-0.31841405  </td><td>-0.038008222 </td><td> 0.0826861623</td><td>-0.72681831  </td><td> 0.158415193 </td><td>-0.032146007 </td><td>-0.040370900 </td><td>  1.98       </td><td>legit        </td></tr>\n",
       "\t<tr><th scope=row>274383</th><td>165981       </td><td>-5.76687873  </td><td>-8.4021537   </td><td> 0.05654325  </td><td> 6.95098294  </td><td> 9.8805640   </td><td>-5.773191769 </td><td>-5.74887920  </td><td> 0.72174289  </td><td>-1.07627358  </td><td> 2.68866993  </td><td>-1.47514532  </td><td>-0.05046798  </td><td> 0.11350048  </td><td> 0.9843436   </td><td> 0.36396874  </td><td>-0.67435681  </td><td> 0.32746351  </td><td> 0.09146992  </td><td> 1.30794074  </td><td> 2.49322389  </td><td> 0.88039510  </td><td>-0.13043555  </td><td> 2.241471414 </td><td> 0.6653455365</td><td>-1.89004142  </td><td>-0.120802764 </td><td> 0.073268559 </td><td> 0.583799418 </td><td>  0.00       </td><td>fraud        </td></tr>\n",
       "\t<tr><th scope=row>274476</th><td>166028       </td><td>-0.95639035  </td><td> 2.3615936   </td><td>-3.17119461  </td><td> 1.97075878  </td><td> 0.4747614   </td><td>-1.902598204 </td><td>-0.05517781  </td><td> 0.27783123  </td><td>-1.74585417  </td><td>-2.51662800  </td><td> 0.87405163  </td><td>-2.51310433  </td><td> 0.02157508  </td><td>-3.5651188   </td><td> 0.46115343  </td><td>-2.01571275  </td><td>-1.73141319  </td><td>-0.46581473  </td><td> 0.52761976  </td><td> 0.19087690  </td><td> 0.47321109  </td><td> 0.71940030  </td><td> 0.122457848 </td><td>-0.2556498521</td><td>-0.61925930  </td><td>-0.484279995 </td><td> 0.683534593 </td><td> 0.443299499 </td><td> 39.90       </td><td>fraud        </td></tr>\n",
       "\t<tr><th scope=row>274715</th><td>166172       </td><td> 0.19193701  </td><td> 1.2071530   </td><td>-0.98769642  </td><td>-0.01289196  </td><td> 0.3368888   </td><td>-1.426588634 </td><td> 0.66487325  </td><td> 0.05041811  </td><td>-0.29758299  </td><td>-1.15326769  </td><td>-0.49346338  </td><td> 0.41329834  </td><td> 0.93089559  </td><td>-0.6997678   </td><td> 0.54735733  </td><td> 0.16293533  </td><td> 0.53939985  </td><td> 0.59994064  </td><td>-0.26213772  </td><td>-0.17527974  </td><td> 0.34182298  </td><td> 1.02274352  </td><td>-0.089309505 </td><td> 0.0008408763</td><td>-0.23786527  </td><td>-0.155682982 </td><td>-0.064397690 </td><td>-0.044304092 </td><td> 14.95       </td><td>legit        </td></tr>\n",
       "\t<tr><th scope=row>275002</th><td>166317       </td><td> 2.04423541  </td><td> 0.5621097   </td><td>-2.40533180  </td><td> 0.75679504  </td><td> 0.5732069   </td><td>-1.693054018 </td><td> 0.34462719  </td><td>-0.36818912  </td><td> 0.54632610  </td><td>-1.20082655  </td><td> 0.14494384  </td><td>-0.35689074  </td><td>-0.24332812  </td><td>-2.4869197   </td><td> 1.14810956  </td><td> 0.74396825  </td><td> 1.81369285  </td><td> 1.23269353  </td><td>-0.74218811  </td><td>-0.17259242  </td><td> 0.09606355  </td><td> 0.47690045  </td><td>-0.046761292 </td><td>-0.3045389584</td><td> 0.24453409  </td><td>-0.092365240 </td><td> 0.021695217 </td><td> 0.006073142 </td><td>  1.00       </td><td>legit        </td></tr>\n",
       "\t<tr><th scope=row>275891</th><td>166773       </td><td>-0.17008566  </td><td> 1.1947986   </td><td> 0.86212688  </td><td> 4.08744184  </td><td> 1.6554116   </td><td> 2.394823550 </td><td> 0.28958753  </td><td> 0.53371095  </td><td>-2.32654241  </td><td> 1.50679109  </td><td> 0.55599851  </td><td> 0.06881872  </td><td> 0.38798722  </td><td> 0.4650240   </td><td> 0.47017147  </td><td>-0.92562345  </td><td> 0.56878267  </td><td>-0.36706796  </td><td> 0.56278840  </td><td> 0.15560735  </td><td> 0.49592429  </td><td> 1.64518177  </td><td>-0.306859481 </td><td>-1.5736267537</td><td>-0.41071170  </td><td> 0.763228208 </td><td> 0.238600662 </td><td> 0.156761314 </td><td> 10.62       </td><td>legit        </td></tr>\n",
       "\t<tr><th scope=row>276072</th><td>166883       </td><td> 2.09190019  </td><td>-0.7574594   </td><td>-1.19225763  </td><td>-0.75545809  </td><td>-0.6203236   </td><td>-0.322077027 </td><td>-1.08251066  </td><td> 0.11719996  </td><td>-0.14092665  </td><td> 0.24931080  </td><td> 1.33831755  </td><td>-0.32975934  </td><td>-0.36359119  </td><td>-1.8248391   </td><td>-0.22967851  </td><td> 1.84234692  </td><td> 1.19421171  </td><td> 0.03746666  </td><td> 0.42309937  </td><td> 0.03743754  </td><td> 0.28825272  </td><td> 0.83193931  </td><td> 0.142006991 </td><td> 0.5926149743</td><td>-0.19614315  </td><td>-0.136676262 </td><td> 0.020182365 </td><td>-0.015469705 </td><td> 19.95       </td><td>fraud        </td></tr>\n",
       "\t<tr><th scope=row>276263</th><td>166989       </td><td>-2.95299449  </td><td>-1.8245155   </td><td> 0.35959708  </td><td>-0.76457103  </td><td> 2.7346549   </td><td> 3.952104990 </td><td>-1.62964009  </td><td> 1.61544578  </td><td> 1.39314882  </td><td>-1.05395911  </td><td>-0.42396877  </td><td> 0.06181628  </td><td>-0.13568033  </td><td>-2.1898919   </td><td>-0.07232201  </td><td> 0.67768226  </td><td> 0.56796240  </td><td> 0.62283289  </td><td>-0.25906313  </td><td>-0.55030735  </td><td>-0.25550090  </td><td> 0.41457463  </td><td> 0.867611312 </td><td> 0.6755065654</td><td> 0.87374846  </td><td> 0.779119402 </td><td> 0.091630733 </td><td>-0.482404692 </td><td> 23.41       </td><td>legit        </td></tr>\n",
       "\t<tr><th scope=row>276865</th><td>167338       </td><td>-1.37442439  </td><td> 2.7931846   </td><td>-4.34657206  </td><td> 2.40073142  </td><td>-1.6884327   </td><td> 0.111136093 </td><td>-0.92203762  </td><td>-2.14992998  </td><td>-2.02747376  </td><td>-4.39084192  </td><td> 1.24195818  </td><td>-3.91052150  </td><td>-1.22563630  </td><td>-4.6979969   </td><td> 0.67610830  </td><td>-2.07706554  </td><td>-2.68352090  </td><td>-0.52594933  </td><td> 0.42234244  </td><td> 0.65019586  </td><td>-0.87077852  </td><td> 0.50484916  </td><td> 0.137994269 </td><td> 0.3682745690</td><td> 0.10313665  </td><td>-0.414208828 </td><td> 0.454981585 </td><td> 0.096710964 </td><td>349.08       </td><td>fraud        </td></tr>\n",
       "\t<tr><th scope=row>277373</th><td>167615       </td><td>-3.31566845  </td><td> 3.6078742   </td><td>-3.14940093  </td><td>-0.14550317  </td><td>-1.6408422   </td><td>-1.776533893 </td><td>-1.49061434  </td><td> 2.61410851  </td><td>-0.58446486  </td><td>-1.33699715  </td><td>-1.57573022  </td><td> 0.61811368  </td><td>-0.03792321  </td><td> 1.2088225   </td><td> 0.50218239  </td><td> 0.74105679  </td><td> 1.62163179  </td><td> 0.96981822  </td><td>-0.20304302  </td><td>-0.53917854  </td><td> 0.59464204  </td><td> 0.93021395  </td><td> 0.167753555 </td><td>-0.0421904002</td><td>-0.21639387  </td><td>-0.171712767 </td><td>-0.747220497 </td><td>-0.018111411 </td><td>  1.22       </td><td>legit        </td></tr>\n",
       "\t<tr><th scope=row>277452</th><td>167657       </td><td> 2.19890235  </td><td>-1.4210805   </td><td>-1.95309404  </td><td>-2.09993636  </td><td> 0.1471948   </td><td> 1.048649111 </td><td>-0.98729037  </td><td> 0.28139068  </td><td>-1.81513920  </td><td> 1.72555312  </td><td> 0.76206447  </td><td>-0.75609459  </td><td>-0.66276717  </td><td> 0.4540481   </td><td> 0.36376071  </td><td>-1.04734143  </td><td> 0.82437755  </td><td>-0.88068079  </td><td>-0.59775517  </td><td>-0.51600807  </td><td>-0.23335565  </td><td>-0.30876201  </td><td> 0.318120058 </td><td>-1.0201761442</td><td>-0.35357589  </td><td>-0.229509615 </td><td> 0.007700714 </td><td>-0.077705291 </td><td> 30.00       </td><td>legit        </td></tr>\n",
       "\t<tr><th scope=row>279042</th><td>168606       </td><td>-3.19242339  </td><td> 3.1658325   </td><td>-3.24200520  </td><td>-0.72019325  </td><td>-0.6380375   </td><td> 0.285606018 </td><td>-1.48408691  </td><td> 2.97317299  </td><td>-0.05839611  </td><td>-0.77205141  </td><td>-0.82844500  </td><td> 0.97261757  </td><td>-0.03507261  </td><td> 0.6913324   </td><td> 0.46403896  </td><td> 0.04250785  </td><td> 2.24569566  </td><td>-1.47165280  </td><td>-1.56153514  </td><td>-0.11797628  </td><td>-0.15443651  </td><td>-0.68535082  </td><td> 0.532009707 </td><td>-0.4812941640</td><td>-0.27356533  </td><td> 0.246023950 </td><td> 0.051128277 </td><td>-0.012033331 </td><td>  8.94       </td><td>legit        </td></tr>\n",
       "\t<tr><th scope=row>279864</th><td>169142       </td><td>-1.92788332  </td><td> 1.1256527   </td><td>-4.51833064  </td><td> 1.74929253  </td><td>-1.5664873   </td><td>-2.010494231 </td><td>-0.88284983  </td><td> 0.69721111  </td><td>-2.06494529  </td><td>-5.58779378  </td><td> 2.11579518  </td><td>-5.41742408  </td><td>-1.23512263  </td><td>-6.6651769   </td><td> 0.40170069  </td><td>-2.89782512  </td><td>-4.57052943  </td><td>-1.31514721  </td><td> 0.39116704  </td><td> 1.25296673  </td><td> 0.77858398  </td><td>-0.31918882  </td><td> 0.639418961 </td><td>-0.2948850404</td><td> 0.53750254  </td><td> 0.788395057 </td><td> 0.292679966 </td><td> 0.147967929 </td><td>390.00       </td><td>fraud        </td></tr>\n",
       "\t<tr><th scope=row>280144</th><td>169347       </td><td> 1.37855900  </td><td> 1.2893809   </td><td>-5.00424678  </td><td> 1.41184984  </td><td> 0.4425806   </td><td>-1.326535934 </td><td>-1.41316996  </td><td> 0.24852547  </td><td>-1.12739593  </td><td>-3.23215318  </td><td> 2.85846582  </td><td>-3.09691490  </td><td>-0.79253244  </td><td>-5.2101408   </td><td>-0.61380326  </td><td>-2.15529689  </td><td>-3.26711568  </td><td>-0.68850546  </td><td> 0.73765722  </td><td> 0.22613795  </td><td> 0.37061186  </td><td> 0.02823445  </td><td>-0.145640429 </td><td>-0.0810494069</td><td> 0.52187450  </td><td> 0.739467256 </td><td> 0.389151844 </td><td> 0.186636548 </td><td>  0.76       </td><td>fraud        </td></tr>\n",
       "\t<tr><th scope=row>280150</th><td>169351       </td><td>-0.67614267  </td><td> 1.1263661   </td><td>-2.21369952  </td><td> 0.46830839  </td><td>-1.1205410   </td><td>-0.003346296 </td><td>-2.23473930  </td><td> 1.21015796  </td><td>-0.65224992  </td><td>-3.46389088  </td><td> 1.79496897  </td><td>-2.77502154  </td><td>-0.41895014  </td><td>-4.0571624   </td><td>-0.71261597  </td><td>-1.60301475  </td><td>-5.03532592  </td><td>-0.50699988  </td><td> 0.26627232  </td><td> 0.24796775  </td><td> 0.75182554  </td><td> 0.83410769  </td><td> 0.190943873 </td><td> 0.0320700856</td><td>-0.73969482  </td><td> 0.471110963 </td><td> 0.385107449 </td><td> 0.194361479 </td><td> 77.89       </td><td>fraud        </td></tr>\n",
       "\t<tr><th scope=row>280190</th><td>169375       </td><td>-2.26537483  </td><td> 0.5849578   </td><td>-0.91178173  </td><td>-0.41001337  </td><td> 0.3300233   </td><td>-1.314193216 </td><td> 0.42462562  </td><td> 0.31354096  </td><td> 1.10343418  </td><td>-0.53111329  </td><td>-0.60030900  </td><td>-0.56432517  </td><td>-1.62922057  </td><td>-1.3261049   </td><td>-0.20575658  </td><td> 0.11056185  </td><td> 1.24585098  </td><td> 0.17962618  </td><td>-0.24044597  </td><td>-0.15940899  </td><td>-0.42153877  </td><td>-0.64791487  </td><td>-0.083073679 </td><td> 1.0036750855</td><td> 0.27764772  </td><td>-0.181510486 </td><td>-0.340819535 </td><td>-0.314946007 </td><td> 37.73       </td><td>legit        </td></tr>\n",
       "\t<tr><th scope=row>280243</th><td>169408       </td><td> 0.08438949  </td><td> 1.1955851   </td><td> 0.14111057  </td><td> 0.67996444  </td><td> 1.3341151   </td><td> 0.581830356 </td><td> 0.86022324  </td><td>-0.24576377  </td><td>-0.93802930  </td><td> 0.02760133  </td><td> 0.82919866  </td><td> 0.44241264  </td><td> 1.14223744  </td><td>-1.0238646   </td><td> 0.77424426  </td><td>-0.54488430  </td><td> 0.80599870  </td><td> 0.77801218  </td><td> 3.39371770  </td><td> 0.46343729  </td><td>-0.30793292  </td><td>-0.60102075  </td><td>-0.232285936 </td><td>-0.1789228101</td><td>-0.41071990  </td><td> 0.612439808 </td><td>-0.166056276 </td><td>-0.069069165 </td><td>  1.29       </td><td>legit        </td></tr>\n",
       "\t<tr><th scope=row>280436</th><td>169525       </td><td> 2.04776296  </td><td>-0.1355265   </td><td>-1.03218102  </td><td> 0.28991990  </td><td>-0.1457033   </td><td>-1.016310711 </td><td> 0.13906041  </td><td>-0.39107334  </td><td> 0.88748884  </td><td>-0.24818789  </td><td>-0.75742748  </td><td> 1.45147271  </td><td> 1.59494692  </td><td>-0.2911887   </td><td>-0.62948102  </td><td>-0.73778555  </td><td>-0.13941573  </td><td>-0.65701121  </td><td> 0.25762955  </td><td>-0.13739059  </td><td> 0.10000267  </td><td> 0.70595457  </td><td> 0.015106860 </td><td> 0.1558711331</td><td> 0.25702450  </td><td> 0.186093413 </td><td>-0.014955945 </td><td>-0.058560593 </td><td>  5.00       </td><td>legit        </td></tr>\n",
       "\t<tr><th scope=row>280816</th><td>169770       </td><td>-0.43962778  </td><td> 0.5662581   </td><td>-0.39170225  </td><td> 0.43297141  </td><td> 1.7279303   </td><td> 0.014676998 </td><td> 1.46811257  </td><td>-0.12197917  </td><td>-1.06649078  </td><td>-0.26310417  </td><td> 0.24606904  </td><td> 0.90656875  </td><td> 0.62384743  </td><td> 0.4867270   </td><td>-1.41715316  </td><td>-0.64108461  </td><td>-0.54110005  </td><td> 0.18155004  </td><td> 0.59600801  </td><td> 0.21323978  </td><td> 0.27468989  </td><td> 0.70180100  </td><td>-0.058225291 </td><td> 0.2451565542</td><td> 0.04754101  </td><td>-0.543029846 </td><td> 0.149487974 </td><td> 0.197362621 </td><td> 93.31       </td><td>legit        </td></tr>\n",
       "\t<tr><th scope=row>281145</th><td>169966       </td><td>-3.11383161  </td><td> 0.5858642   </td><td>-5.39973021  </td><td> 1.81709247  </td><td>-0.8406185   </td><td>-2.943547791 </td><td>-2.20800192  </td><td> 1.05873268  </td><td>-1.63233335  </td><td>-5.24598384  </td><td> 1.93351954  </td><td>-5.03046480  </td><td>-1.12745458  </td><td>-6.4166280   </td><td> 0.14123723  </td><td>-2.54949824  </td><td>-4.61471707  </td><td>-1.47813794  </td><td>-0.03548037  </td><td> 0.30627074  </td><td> 0.58327600  </td><td>-0.26920864  </td><td>-0.456107773 </td><td>-0.1836591295</td><td>-0.32816776  </td><td> 0.606115810 </td><td> 0.884875540 </td><td>-0.253700319 </td><td>245.00       </td><td>fraud        </td></tr>\n",
       "\t<tr><th scope=row>281675</th><td>170348       </td><td> 1.99197610  </td><td> 0.1584759   </td><td>-2.58344065  </td><td> 0.40866999  </td><td> 1.1511471   </td><td>-0.096694744 </td><td> 0.22305027  </td><td>-0.06838388  </td><td> 0.57782938  </td><td>-0.88872168  </td><td> 0.49114024  </td><td> 0.72890332  </td><td> 0.38042805  </td><td>-1.9488833   </td><td>-0.83249814  </td><td> 0.51943555  </td><td> 0.90356238  </td><td> 1.19731472  </td><td> 0.59350885  </td><td>-0.01765226  </td><td>-0.16435033  </td><td>-0.29513517  </td><td>-0.072172531 </td><td>-0.4502613134</td><td> 0.31326661  </td><td>-0.289616586 </td><td> 0.002987582 </td><td>-0.015308813 </td><td> 42.53       </td><td>fraud        </td></tr>\n",
       "\t<tr><th scope=row>281857</th><td>170470       </td><td>-0.15745606  </td><td>-0.4436973   </td><td>-0.43486530  </td><td>-2.50204233  </td><td> 0.2943086   </td><td>-0.174187467 </td><td> 0.77664625  </td><td>-0.02803805  </td><td>-1.23563050  </td><td> 0.12161691  </td><td>-0.10361200  </td><td>-1.29102580  </td><td>-1.28391258  </td><td> 0.3339375   </td><td>-0.95569251  </td><td> 1.60283352  </td><td>-0.65056128  </td><td>-0.19080530  </td><td> 0.19148145  </td><td> 0.20153558  </td><td> 0.66065696  </td><td> 1.46933360  </td><td> 0.065719493 </td><td> 0.0898061076</td><td>-0.46140803  </td><td>-0.189580096 </td><td> 0.119730379 </td><td> 0.213984031 </td><td>139.00       </td><td>legit        </td></tr>\n",
       "\t<tr><th scope=row>281913</th><td>170526       </td><td>-2.61090780  </td><td> 2.7119244   </td><td>-1.90269080  </td><td>-0.28029739  </td><td> 2.5487251   </td><td> 5.107009767 </td><td>-1.92033319  </td><td>-5.29104409  </td><td>-1.30044807  </td><td>-0.77184363  </td><td>-0.57395122  </td><td> 0.46662719  </td><td>-0.76600571  </td><td> 1.5545531   </td><td> 0.05342750  </td><td>-0.89658679  </td><td> 0.77307729  </td><td>-0.24603565  </td><td> 0.62092062  </td><td>-0.27932614  </td><td> 2.63265421  </td><td>-0.74753896  </td><td> 0.212612139 </td><td> 0.6375228409</td><td> 1.20066440  </td><td>-0.148922445 </td><td> 0.118009724 </td><td> 0.021597992 </td><td> 33.55       </td><td>legit        </td></tr>\n",
       "\t<tr><th scope=row>282576</th><td>170997       </td><td> 2.22785343  </td><td>-0.7581549   </td><td>-1.33087663  </td><td>-0.85448622  </td><td>-0.7384490   </td><td>-1.477907893 </td><td>-0.38674002  </td><td>-0.36714371  </td><td>-0.34979833  </td><td> 0.91690626  </td><td>-0.82166593  </td><td>-1.25901431  </td><td>-1.00923601  </td><td> 0.2697055   </td><td> 0.45690813  </td><td> 0.93391173  </td><td> 0.22124851  </td><td>-1.15941962  </td><td> 0.42837252  </td><td>-0.11609721  </td><td> 0.41838384  </td><td> 1.17798567  </td><td> 0.004027455 </td><td> 0.0748078261</td><td> 0.16274215  </td><td> 0.070288750 </td><td>-0.046507919 </td><td>-0.068411540 </td><td> 12.00       </td><td>legit        </td></tr>\n",
       "\t<tr><th scope=row>282767</th><td>171132       </td><td> 1.78003806  </td><td>-0.3916751   </td><td>-1.64418144  </td><td> 0.46931823  </td><td>-0.1776593   </td><td>-0.958706267 </td><td> 0.03385465  </td><td>-0.06215609  </td><td> 0.97702561  </td><td>-0.67482782  </td><td> 1.08382220  </td><td> 0.25126992  </td><td>-1.73817976  </td><td>-0.9173288   </td><td>-0.61454442  </td><td> 0.17283952  </td><td> 1.00697718  </td><td> 0.59296786  </td><td> 0.28950075  </td><td>-0.08933039  </td><td>-0.14344312  </td><td>-0.46230868  </td><td> 0.126387489 </td><td>-0.1338296017</td><td>-0.20624744  </td><td>-0.113238035 </td><td>-0.034791350 </td><td>-0.017917668 </td><td>103.98       </td><td>legit        </td></tr>\n",
       "\t<tr><th scope=row>283162</th><td>171412       </td><td>-0.65790984  </td><td> 0.1460708   </td><td> 0.80488083  </td><td>-0.91723522  </td><td> 1.0270255   </td><td>-0.621729767 </td><td> 0.47213631  </td><td> 0.09842846  </td><td>-0.13996608  </td><td>-0.63502638  </td><td> 0.01790905  </td><td> 0.21019708  </td><td>-0.72090748  </td><td> 0.3163290   </td><td>-1.10859417  </td><td> 0.60941796  </td><td>-1.10198278  </td><td> 0.44392605  </td><td>-0.33159023  </td><td>-0.09441258  </td><td> 0.11887484  </td><td> 0.18405389  </td><td>-0.095594502 </td><td>-0.4968882710</td><td>-0.39177714  </td><td> 0.078867682 </td><td> 0.087216675 </td><td> 0.162327554 </td><td> 11.90       </td><td>legit        </td></tr>\n",
       "\t<tr><th scope=row>283393</th><td>171559       </td><td> 2.14324140  </td><td>-0.9359536   </td><td>-0.61190195  </td><td>-0.87924565  </td><td>-0.8611170   </td><td>-0.386023302 </td><td>-0.92939240  </td><td>-0.13847303  </td><td>-0.06516307  </td><td> 0.68985487  </td><td>-0.67249259  </td><td> 0.13200674  </td><td> 1.50269096  </td><td>-0.7498089   </td><td> 0.08265688  </td><td> 1.13287552  </td><td> 0.02367180  </td><td>-1.25196318  </td><td> 0.45925230  </td><td> 0.11546272  </td><td> 0.33899507  </td><td> 1.05201446  </td><td> 0.134982261 </td><td> 0.8051070950</td><td>-0.08891750  </td><td>-0.127099118 </td><td> 0.010406445 </td><td>-0.035501822 </td><td> 29.99       </td><td>legit        </td></tr>\n",
       "</tbody>\n",
       "</table>\n"
      ],
      "text/latex": [
       "\\begin{tabular}{r|lllllllllllllllllllllllllllllll}\n",
       "  & Time & V1 & V2 & V3 & V4 & V5 & V6 & V7 & V8 & V9 & V10 & V11 & V12 & V13 & V14 & V15 & V16 & V17 & V18 & V19 & V20 & V21 & V22 & V23 & V24 & V25 & V26 & V27 & V28 & Amount & Class\\\\\n",
       "\\hline\n",
       "\t327 &  238          & -0.992403869  &  1.6265915    &  0.9602477    &  0.09199868   & -0.2379629    & -0.55079648   &  0.10864855   & -0.378489746  & -0.69448027   & -0.74546607   &  0.33933342   &   0.9374150   &  1.21478663   &  -0.2650598   &  0.942094621  &  0.07185257   &   0.5716289   & -0.78108330   & -0.60078314   & -0.133863770  &  0.60208975   & -0.693278327  &  0.2097371816 &  0.365067770  & -0.195155186  &  0.08651426   &  0.1836605331 &  0.04336369   &   8.99        & legit        \\\\\n",
       "\t542 &  406          & -2.312226542  &  1.9519920    & -1.6098507    &  3.99790559   & -0.5221879    & -1.42654532   & -2.53738731   &  1.391657248  & -2.77008928   & -2.77227214   &  3.20203321   &  -2.8999074   & -0.59522188   &  -4.2892538   &  0.389724120  & -1.14074718   &  -2.8300557   & -0.01682247   &  0.41695571   &  0.126910559  &  0.51723237   & -0.035049369  & -0.4652110762 &  0.320198199  &  0.044519167  &  0.17783980   &  0.2611450026 & -0.14327587   &   0.00        & fraud        \\\\\n",
       "\t624 &  472          & -3.043540624  & -3.1573071    &  1.0884628    &  2.28864362   &  1.3598051    & -1.06482252   &  0.32557427   & -0.067793653  & -0.27095284   & -0.83858656   & -0.41457545   &  -0.5031409   &  0.67650154   &  -1.6920289   &  2.000634839  &  0.66677970   &   0.5997174   &  1.72532101   &  0.28334483   &  2.102338793  &  0.66169592   &  0.435477209  &  1.3759657425 & -0.293803153  &  0.279798032  & -0.14536171   & -0.2527731225 &  0.03576423   & 529.00        & fraud        \\\\\n",
       "\t1698 & 1313          & -1.360261926  &  1.5427349    &  1.6567811    &  0.96688852   & -0.5127825    & -0.32196413   &  0.17481755   &  0.401853553  & -0.13709747   & -0.23869110   & -0.94804693   &   0.1411226   & -0.29178128   &   0.1056810   &  0.091346904  & -0.56325652   &   0.3893697   & -0.24796649   &  0.92216054   & -0.012622021  & -0.17293858   & -0.512887867  & -0.1383640621 &  0.362893102  &  0.372738824  & -0.42826536   & -0.1950585812 &  0.08016729   &   0.99        & legit        \\\\\n",
       "\t1963 & 1509          & -0.275482986  &  0.9970975    &  1.3323666    & -0.16483284   &  0.4022644    & -0.41775933   &  0.84835043   & -0.144493821  & -0.53624634   & -0.14541212   &  1.33440218   &   0.5784039   &  0.38764361   &  -0.5246409   &  0.213030236  &  0.57946612   &  -0.4860028   &  0.40109708   &  0.32423536   &  0.241183176  & -0.27829646   & -0.585853557  & -0.0967211945 & -0.045386613  & -0.159267631  &  0.04537785   &  0.0777727463 & -0.13718593   &   9.99        & legit        \\\\\n",
       "\t2467 & 2031          & -0.847058312  &  0.5357343    &  1.7925023    &  0.95992026   &  0.4259530    & -0.71612366   &  0.06521242   & -0.061629079  & -0.60887228   &  0.04657145   & -0.63233083   &  -0.5634133   & -0.32298061   &   0.3546393   &  1.980242429  & -0.31284387   &   0.1551057   &  0.02504818   &  1.90804119   &  0.073051076  & -0.23854879   & -0.702280488  & -0.2547508240 &  0.034994134  & -0.094352330  &  0.39669798   &  0.0011148914 &  0.04263305   &   1.79        & legit        \\\\\n",
       "\t2699 & 2240          & -0.236168470  &  0.9970533    &  1.8686053    &  0.75686799   &  0.1950688    & -0.43652956   &  0.83865526   & -0.235938891  & -0.84329862   &  0.09851203   &  1.58368099   &   0.8667863   &  0.49405767   &   0.1678092   &  0.390226829  & -0.17866575   &  -0.5362717   &  0.42239704   &  0.66210964   &  0.113970078  &  0.07960133   &  0.429978817  & -0.1776377453 &  0.539192438  & -0.309761393  & -0.47653747   & -0.0001854925 & -0.07936631   &   2.25        & legit        \\\\\n",
       "\t4393 & 3766          &  0.784768916  & -0.2652584    & -0.4431177    & -1.37881724   &  1.3928057    &  3.65393671   & -1.39929674   & -0.049544998  &  0.08058954   &  0.35293856   &  1.08228843   &  -3.2361907   &  1.88047028   &   1.5036887   &  0.711559770  &  1.22564602   &   0.8222501   & -0.74743587   &  1.55543692   &  0.199884848  &  0.46228831   & -1.206506180  &  0.0269988172 &  0.919961026  &  0.758053263  & -0.30187906   &  0.0505383960 &  0.08415453   &  35.07        & legit        \\\\\n",
       "\t4496 & 3794          &  0.863642742  & -0.9049920    &  1.0561223    &  0.61213971   & -1.4072868    & -0.30191394   & -0.58416557   & -0.006763672  &  2.64652945   & -0.87255633   & -0.04316079   &  -2.5466159   &  0.47484107   &   1.1534184   & -0.888985576  & -0.07082375   &   0.9494910   & -0.18519491   &  0.21230878   &  0.172941842  & -0.28808058   & -0.790414459  & -0.0532765679 &  0.388560436  &  0.007037981  &  0.88813033   & -0.1023499038 &  0.03703729   & 189.68        & legit        \\\\\n",
       "\t4775 & 4238          & -0.519699573  &  1.0878531    &  1.4758286    &  0.59554882   &  0.1351759    &  0.16146059   &  1.21521016   & -1.401913181  &  1.20320864   & -0.27865046   &  0.71626473   &  -3.0118258   &  0.89049728   &   1.4180956   &  0.358032066  & -0.45834198   &   0.4637145   & -0.13423729   & -0.79930527   & -0.298941695  &  0.61629177   & -0.032994760  & -0.1458314753 & -0.004458228  &  0.093368321  & -0.43527207   & -0.3301325927 & -0.46339894   & 110.00        & legit        \\\\\n",
       "\t4921 & 4462          & -2.303349568  &  1.7592475    & -0.3597447    &  2.33024305   & -0.8216283    & -0.07578757   &  0.56231978   & -0.399146578  & -0.23825337   & -1.52541163   &  2.03291216   &  -6.5601243   &  0.02293732   &  -1.4701015   & -0.698826069  & -2.28219383   &  -4.7818309   & -2.61566494   & -1.33444107   & -0.430021867  & -0.29416632   & -0.932391057  &  0.1727262958 & -0.087329538  & -0.156114265  & -0.54262789   &  0.0395659889 & -0.15302880   & 239.93        & fraud        \\\\\n",
       "\t5442 & 5440          &  0.594521754  & -1.0061527    &  1.8046188    &  2.49319013   & -1.2869650    &  1.53096073   & -1.08544061   &  0.518355092  &  2.16170699   & -0.21010610   &  1.27897097   &  -1.4857672   &  0.94257864   &   0.6170307   & -3.090617616  & -0.05678471   &   1.0807166   & -0.18599078   & -0.42552734   &  0.213350114  & -0.08980746   & -0.093485632  & -0.1612245979 &  0.039726895  &  0.018106689  &  0.99109358   & -0.0513990124 &  0.03918626   & 224.06        & legit        \\\\\n",
       "\t5461 & 5469          & -0.809930281  &  0.6238953    &  2.6412487    &  1.27218274   & -0.5058198    &  1.02281443   &  0.33940806   & -0.248389559  &  1.87824023   &  0.22839757   &  2.24789445   &  -2.2103648   &  0.66517201   &   0.8809069   & -0.514389860  & -0.73010643   &   0.7477891   &  0.50805614   &  0.60030336   & -0.120012571  & -0.10043033   &  0.449591517  & -0.0438657623 &  0.163675570  & -0.660020550  & -0.47561879   & -0.6199581085 & -0.28493787   &  75.00        & legit        \\\\\n",
       "\t6109 & 6986          & -4.397974442  &  1.3583670    & -2.5928442    &  2.67978697   & -1.1281309    & -1.70653639   & -3.49619729   & -0.248777743  & -0.24776790   & -4.80163741   &  4.89584422   & -10.9128193   &  0.18437169   &  -6.7710967   & -0.007326183  & -7.35808322   & -12.5984185   & -5.13154863   &  0.30833395   & -0.171607879  &  0.57357407   &  0.176967718  & -0.4362068836 & -0.053501865  &  0.252405262  & -0.65748775   & -0.8271357146 &  0.84957338   &  59.00        & fraud        \\\\\n",
       "\t6330 & 7519          &  1.234235046  &  3.0197404    & -4.3045969    &  4.73279513   &  3.6242008    & -1.35774566   &  1.71344499   & -0.496358487  & -1.28285782   & -2.44746926   &  2.10134387   &  -4.6096284   &  1.46437762   &  -6.0793372   & -0.339237373  &  2.58185095   &   6.7393844   &  3.04249318   & -2.72185312   &  0.009060836  & -0.37906831   & -0.704181032  & -0.6568047563 & -1.632652957  &  1.488901448  &  0.56679727   & -0.0100162235 &  0.14679273   &   1.00        & fraud        \\\\\n",
       "\t6332 & 7526          &  0.008430365  &  4.1378368    & -6.2406966    &  6.67573216   &  0.7683070    & -3.35305955   & -1.63173467   &  0.154612448  & -2.79589246   & -6.18789063   &  5.66439471   &  -9.8544848   & -0.30616666   & -10.6911962   & -0.638498193  & -2.04197379   &  -1.1290559   &  0.11645252   & -1.93466574   &  0.488378221  &  0.36451421   & -0.608057134  & -0.5395279418 &  0.128939983  &  1.488481210  &  0.50796268   &  0.7358216361 &  0.51357374   &   1.00        & fraud        \\\\\n",
       "\t6335 & 7535          &  0.026779226  &  4.1324639    & -6.5606000    &  6.34855667   &  1.3296657    & -2.51347885   & -1.68910220   &  0.303252801  & -3.13940906   & -6.04546780   &  6.75462545   &  -8.9481786   &  0.70272500   & -10.7338541   & -1.379519857  & -1.63896011   &  -1.7463501   &  0.77674410   & -1.32735664   &  0.587743219  &  0.37050865   & -0.576752473  & -0.6696053718 & -0.759907530  &  1.605055550  &  0.54067540   &  0.7370403817 &  0.49669911   &   1.00        & fraud        \\\\\n",
       "\t6339 & 7551          &  0.316459000  &  3.8090759    & -5.6151590    &  6.04744510   &  1.5540260    & -2.65135311   & -0.74657927   &  0.055586311  & -2.67867854   & -4.95949291   &  6.43905335   &  -7.5201174   &  0.38635167   &  -9.2523072   & -1.365188415  & -0.50236219   &   0.7844266   &  1.49430461   & -1.80801216   &  0.388307428  &  0.20882837   & -0.511746619  & -0.5838132208 & -0.219845029  &  1.474752584  &  0.49119193   &  0.5188682846 &  0.40252807   &   1.00        & fraud        \\\\\n",
       "\t6428 & 7610          &  0.725645740  &  2.3008944    & -5.3299762    &  4.00768280   & -1.7304106    & -1.73219257   & -3.96859262   &  1.063728153  & -0.48609655   & -4.62498495   &  5.58872391   &  -7.1482426   &  1.68045074   &  -6.2102577   &  0.495282118  & -3.59954021   &  -4.8303242   & -0.64909012   &  2.25012325   &  0.504646226  &  0.58966913   &  0.109541319  &  0.6010452765 & -0.364700278  & -1.843077692  &  0.35190930   &  0.5945499781 &  0.09937224   &   1.00        & fraud        \\\\\n",
       "\t6447 & 7672          &  0.702709900  &  2.4264328    & -5.2345133    &  4.41666124   & -2.1708062    & -2.66755356   & -3.87808845   &  0.911337122  & -0.16619904   & -5.00924850   &  4.67572942   &  -8.1671881   &  0.63855928   &  -6.7633344   &  1.296860256  & -3.81175841   &  -3.7541281   & -1.04917740   &  1.55419726   &  0.422743129  &  0.55117969   & -0.009802357  &  0.7216982301 &  0.473245751  & -1.959303771  &  0.31947554   &  0.6004849165 &  0.12930523   &   1.00        & fraud        \\\\\n",
       "\t6473 & 7740          &  1.023873869  &  2.0014853    & -4.7697518    &  3.81919459   & -1.2717542    & -1.73466243   & -3.05924503   &  0.889804792  &  0.41538211   & -3.95581234   &  3.57205482   &  -7.1864516   &  0.14724234   &  -5.2493045   &  1.678333674  & -2.64147311   &  -1.3120586   & -0.39171605   &  1.11826355   &  0.204137684  &  0.34328265   & -0.054195664  &  0.7096539525 & -0.372215867  & -2.032068366  &  0.36677760   &  0.3951706693 &  0.02020554   &   1.00        & fraud        \\\\\n",
       "\t6530 & 7891          & -1.585505367  &  3.2615845    & -4.1374220    &  2.35709625   & -1.4050433    & -1.87943719   & -3.51368687   &  1.515606746  & -1.20716636   & -6.23456133   &  5.45074607   &  -7.3337141   &  1.36119332   &  -6.6080683   & -0.481069425  & -2.60247787   &  -4.8351121   & -0.55302609   &  0.35194894   &  0.315957259  &  0.50154315   & -0.546868812  & -0.0765836359 & -0.425550367  &  0.123644186  &  0.32198454   &  0.2640281605 &  0.13281672   &   1.00        & fraud        \\\\\n",
       "\t6610 & 8090          & -1.783228837  &  3.4027937    & -3.8227423    &  2.62536815   & -1.9764154    & -2.73168901   & -3.43055915   &  1.413203514  & -0.77694149   & -6.19988176   &  4.36671349   &  -8.2432624   &  0.34576117   &  -6.5905503   &  0.265576096  & -3.02845239   &  -4.2144863   & -1.21360785   & -0.26542160   &  0.364089115  &  0.45403193   & -0.577525824  &  0.0459665375 &  0.461700018  &  0.044146161  &  0.30570443   &  0.5309809863 &  0.24374560   &   1.00        & fraud        \\\\\n",
       "\t6642 & 8169          &  0.857321004  &  4.0939118    & -7.4238936    &  7.38024452   &  0.9733660    & -2.73076152   & -1.49649706   &  0.543015173  & -2.35119016   & -3.94423850   &  6.35507774   &  -7.3097480   &  0.74845055   &  -9.0579925   & -0.648944909  & -1.07311653   &   1.5245009   &  1.83136353   & -0.08972441   &  0.483302650  &  0.37502629   &  0.145399853  &  0.2406032650 & -0.234649223  & -1.004880947  &  0.43583192   &  0.6183238052 &  0.14846894   &   1.00        & fraud        \\\\\n",
       "\t6718 & 8408          & -1.813280485  &  4.9178507    & -5.9261297    &  5.70150043   &  1.2043926    & -3.03513755   & -1.71340206   &  0.561257391  & -3.79635425   & -7.45484065   &  7.38805512   & -10.4752287   & -0.37931453   & -11.7367291   & -2.086988952  & -2.44235398   &  -3.5355235   &  0.13036031   & -2.07145049   &  0.576656033  &  0.61564184   & -0.406427275  & -0.7370180764 & -0.279641772  &  1.106766374  &  0.32388548   &  0.8947666715 &  0.56951860   &   1.00        & fraud        \\\\\n",
       "\t6720 & 8415          & -0.251470960  &  4.3135233    & -6.8914377    &  6.79679668   &  0.6162965    & -2.96632654   & -2.43665253   &  0.489327899  & -3.37163857   & -6.81081310   &  7.62008906   & -10.2852825   & -0.34244433   & -11.5434979   & -1.334987903  & -2.68928420   &  -3.2043834   &  0.08652190   & -1.31449510   &  0.632709964  &  0.53689207   & -0.546126024  & -0.6052395476 & -0.263743460  &  1.539915831  &  0.52357370   &  0.8910246884 &  0.57274067   &   1.00        & fraud        \\\\\n",
       "\t6735 & 8451          &  0.314596590  &  2.6606703    & -5.9200374    &  4.52249961   & -2.3150273    & -2.27835165   & -4.68405394   &  1.202270265  & -0.69469551   & -5.52627806   &  6.66243683   &  -8.5254649   &  0.74274545   &  -7.6786680   &  0.593070459  & -4.47813660   &  -5.8442665   & -1.10273079   &  2.17738569   &  0.562705643  &  0.74331402   &  0.064038356  &  0.6778416753 &  0.083007823  & -1.911034464  &  0.32218840   &  0.6208665388 &  0.18503035   &   1.00        & fraud        \\\\\n",
       "\t6775 & 8528          &  0.447395553  &  2.4819539    & -5.6608139    &  4.45592281   & -2.4437798    & -2.18504026   & -4.71614294   &  1.249803252  & -0.71832607   & -5.39033026   &  6.45418752   &  -8.4853466   &  0.63528141   &  -7.0199016   &  0.539814071  & -4.64986430   &  -6.2883575   & -1.33931232   &  2.26298479   &  0.549612971  &  0.75605255   &  0.140167769  &  0.6654111007 &  0.131463792  & -1.908217412  &  0.33480760   &  0.7485342848 &  0.17541379   &   1.00        & fraud        \\\\\n",
       "\t6821 & 8614          & -2.169928976  &  3.6396540    & -4.5084978    &  2.73066815   & -2.1226929    & -2.34101683   & -4.23525308   &  1.703537658  & -1.30527913   & -6.71672002   &  6.35361232   &  -8.6016483   &  0.44993004   &  -7.5061694   & -0.438081782  & -3.69451600   &  -6.3047534   & -1.26758713   &  0.35798703   &  0.500779054  &  0.64510328   & -0.503529449  & -0.0005228218 &  0.071695779  &  0.092007433  &  0.30849793   &  0.5525909147 &  0.29895448   &   1.00        & fraud        \\\\\n",
       "\t6871 & 8757          & -1.863755553  &  3.4426440    & -4.4682597    &  2.80533626   & -2.1184125    & -2.33228489   & -4.26123720   &  1.701681844  & -1.43939588   & -6.99990663   &  6.31620968   &  -8.6708180   &  0.31602399   &  -7.4177121   & -0.436537471  & -3.65280196   &  -6.2931453   & -1.24324829   &  0.36481048   &  0.360924004  &  0.66792657   & -0.516242362  & -0.0122178117 &  0.070613703  &  0.058504467  &  0.30488284   &  0.4180124672 &  0.20885828   &   1.00        & fraud        \\\\\n",
       "\t... & ... & ... & ... & ... & ... & ... & ... & ... & ... & ... & ... & ... & ... & ... & ... & ... & ... & ... & ... & ... & ... & ... & ... & ... & ... & ... & ... & ... & ... & ... & ...\\\\\n",
       "\t273073 & 165407        &  2.05514393   &  0.1127764    & -1.70456117   &  0.43500182   &  0.3686015    & -0.902506695  &  0.18152376   & -0.22702233   &  0.52798319   & -0.37518221   & -0.58053991   &  0.02680476   & -0.18598099   & -0.7914168    &  0.23097827   &  0.31965255   &  0.49966142   & -0.28626833   &  0.03939019   & -0.15444368   & -0.35985432   & -0.96357581   &  0.338848494  &  0.5618028175 & -0.27409339   &  0.169499200  & -0.065965770  & -0.029081921  &  10.77        & legit        \\\\\n",
       "\t273448 & 165589        &  2.02781572   & -0.2933611    & -0.68081307   & -0.01715918   & -0.1188300    &  0.074518264  & -0.53668169   &  0.08159713   &  1.06799687   & -0.06788005   &  0.14251036   &  1.09259457   &  0.62432095   &  0.1204400    &  0.39003518   &  0.69381478   & -1.30340012   &  0.78479895   &  0.52390505   & -0.17423271   & -0.12888308   & -0.23925758   &  0.209975749  & -1.0841764102 & -0.24616060   & -0.881836715  &  0.057184509  & -0.046478970  &   1.00        & legit        \\\\\n",
       "\t273785 & 165698        & -1.17133490   &  0.3620202    &  0.57900706   & -0.90089321   &  0.8860329    &  1.865060262  & -0.31916161   &  1.15033515   & -0.08893794   & -0.83638269   &  0.33254735   &  0.16010934   & -1.16951297   &  0.6391848    &  0.39550260   &  0.07071241   & -0.05407812   & -0.65964092   & -0.65060506   & -0.31149112   & -0.04312547   & -0.33882856   &  0.176390924  & -1.0044295788 & -0.77628114   & -0.002681067  & -0.094885485  &  0.058017470  &  30.70        & legit        \\\\\n",
       "\t273811 & 165709        &  0.01127215   &  0.8689841    &  0.80896255   & -0.38596747   &  0.7096622    & -0.946431549  &  1.31574159   & -0.53230293   & -0.37461628   & -0.37444167   & -0.66490824   &  0.48311306   &  0.98501222   & -0.1800513    & -0.21653977   & -0.46662338   & -0.35697581   & -0.79734827   &  0.52235751   &  0.04655917   & -0.21726451   & -0.31841405   & -0.038008222  &  0.0826861623 & -0.72681831   &  0.158415193  & -0.032146007  & -0.040370900  &   1.98        & legit        \\\\\n",
       "\t274383 & 165981        & -5.76687873   & -8.4021537    &  0.05654325   &  6.95098294   &  9.8805640    & -5.773191769  & -5.74887920   &  0.72174289   & -1.07627358   &  2.68866993   & -1.47514532   & -0.05046798   &  0.11350048   &  0.9843436    &  0.36396874   & -0.67435681   &  0.32746351   &  0.09146992   &  1.30794074   &  2.49322389   &  0.88039510   & -0.13043555   &  2.241471414  &  0.6653455365 & -1.89004142   & -0.120802764  &  0.073268559  &  0.583799418  &   0.00        & fraud        \\\\\n",
       "\t274476 & 166028        & -0.95639035   &  2.3615936    & -3.17119461   &  1.97075878   &  0.4747614    & -1.902598204  & -0.05517781   &  0.27783123   & -1.74585417   & -2.51662800   &  0.87405163   & -2.51310433   &  0.02157508   & -3.5651188    &  0.46115343   & -2.01571275   & -1.73141319   & -0.46581473   &  0.52761976   &  0.19087690   &  0.47321109   &  0.71940030   &  0.122457848  & -0.2556498521 & -0.61925930   & -0.484279995  &  0.683534593  &  0.443299499  &  39.90        & fraud        \\\\\n",
       "\t274715 & 166172        &  0.19193701   &  1.2071530    & -0.98769642   & -0.01289196   &  0.3368888    & -1.426588634  &  0.66487325   &  0.05041811   & -0.29758299   & -1.15326769   & -0.49346338   &  0.41329834   &  0.93089559   & -0.6997678    &  0.54735733   &  0.16293533   &  0.53939985   &  0.59994064   & -0.26213772   & -0.17527974   &  0.34182298   &  1.02274352   & -0.089309505  &  0.0008408763 & -0.23786527   & -0.155682982  & -0.064397690  & -0.044304092  &  14.95        & legit        \\\\\n",
       "\t275002 & 166317        &  2.04423541   &  0.5621097    & -2.40533180   &  0.75679504   &  0.5732069    & -1.693054018  &  0.34462719   & -0.36818912   &  0.54632610   & -1.20082655   &  0.14494384   & -0.35689074   & -0.24332812   & -2.4869197    &  1.14810956   &  0.74396825   &  1.81369285   &  1.23269353   & -0.74218811   & -0.17259242   &  0.09606355   &  0.47690045   & -0.046761292  & -0.3045389584 &  0.24453409   & -0.092365240  &  0.021695217  &  0.006073142  &   1.00        & legit        \\\\\n",
       "\t275891 & 166773        & -0.17008566   &  1.1947986    &  0.86212688   &  4.08744184   &  1.6554116    &  2.394823550  &  0.28958753   &  0.53371095   & -2.32654241   &  1.50679109   &  0.55599851   &  0.06881872   &  0.38798722   &  0.4650240    &  0.47017147   & -0.92562345   &  0.56878267   & -0.36706796   &  0.56278840   &  0.15560735   &  0.49592429   &  1.64518177   & -0.306859481  & -1.5736267537 & -0.41071170   &  0.763228208  &  0.238600662  &  0.156761314  &  10.62        & legit        \\\\\n",
       "\t276072 & 166883        &  2.09190019   & -0.7574594    & -1.19225763   & -0.75545809   & -0.6203236    & -0.322077027  & -1.08251066   &  0.11719996   & -0.14092665   &  0.24931080   &  1.33831755   & -0.32975934   & -0.36359119   & -1.8248391    & -0.22967851   &  1.84234692   &  1.19421171   &  0.03746666   &  0.42309937   &  0.03743754   &  0.28825272   &  0.83193931   &  0.142006991  &  0.5926149743 & -0.19614315   & -0.136676262  &  0.020182365  & -0.015469705  &  19.95        & fraud        \\\\\n",
       "\t276263 & 166989        & -2.95299449   & -1.8245155    &  0.35959708   & -0.76457103   &  2.7346549    &  3.952104990  & -1.62964009   &  1.61544578   &  1.39314882   & -1.05395911   & -0.42396877   &  0.06181628   & -0.13568033   & -2.1898919    & -0.07232201   &  0.67768226   &  0.56796240   &  0.62283289   & -0.25906313   & -0.55030735   & -0.25550090   &  0.41457463   &  0.867611312  &  0.6755065654 &  0.87374846   &  0.779119402  &  0.091630733  & -0.482404692  &  23.41        & legit        \\\\\n",
       "\t276865 & 167338        & -1.37442439   &  2.7931846    & -4.34657206   &  2.40073142   & -1.6884327    &  0.111136093  & -0.92203762   & -2.14992998   & -2.02747376   & -4.39084192   &  1.24195818   & -3.91052150   & -1.22563630   & -4.6979969    &  0.67610830   & -2.07706554   & -2.68352090   & -0.52594933   &  0.42234244   &  0.65019586   & -0.87077852   &  0.50484916   &  0.137994269  &  0.3682745690 &  0.10313665   & -0.414208828  &  0.454981585  &  0.096710964  & 349.08        & fraud        \\\\\n",
       "\t277373 & 167615        & -3.31566845   &  3.6078742    & -3.14940093   & -0.14550317   & -1.6408422    & -1.776533893  & -1.49061434   &  2.61410851   & -0.58446486   & -1.33699715   & -1.57573022   &  0.61811368   & -0.03792321   &  1.2088225    &  0.50218239   &  0.74105679   &  1.62163179   &  0.96981822   & -0.20304302   & -0.53917854   &  0.59464204   &  0.93021395   &  0.167753555  & -0.0421904002 & -0.21639387   & -0.171712767  & -0.747220497  & -0.018111411  &   1.22        & legit        \\\\\n",
       "\t277452 & 167657        &  2.19890235   & -1.4210805    & -1.95309404   & -2.09993636   &  0.1471948    &  1.048649111  & -0.98729037   &  0.28139068   & -1.81513920   &  1.72555312   &  0.76206447   & -0.75609459   & -0.66276717   &  0.4540481    &  0.36376071   & -1.04734143   &  0.82437755   & -0.88068079   & -0.59775517   & -0.51600807   & -0.23335565   & -0.30876201   &  0.318120058  & -1.0201761442 & -0.35357589   & -0.229509615  &  0.007700714  & -0.077705291  &  30.00        & legit        \\\\\n",
       "\t279042 & 168606        & -3.19242339   &  3.1658325    & -3.24200520   & -0.72019325   & -0.6380375    &  0.285606018  & -1.48408691   &  2.97317299   & -0.05839611   & -0.77205141   & -0.82844500   &  0.97261757   & -0.03507261   &  0.6913324    &  0.46403896   &  0.04250785   &  2.24569566   & -1.47165280   & -1.56153514   & -0.11797628   & -0.15443651   & -0.68535082   &  0.532009707  & -0.4812941640 & -0.27356533   &  0.246023950  &  0.051128277  & -0.012033331  &   8.94        & legit        \\\\\n",
       "\t279864 & 169142        & -1.92788332   &  1.1256527    & -4.51833064   &  1.74929253   & -1.5664873    & -2.010494231  & -0.88284983   &  0.69721111   & -2.06494529   & -5.58779378   &  2.11579518   & -5.41742408   & -1.23512263   & -6.6651769    &  0.40170069   & -2.89782512   & -4.57052943   & -1.31514721   &  0.39116704   &  1.25296673   &  0.77858398   & -0.31918882   &  0.639418961  & -0.2948850404 &  0.53750254   &  0.788395057  &  0.292679966  &  0.147967929  & 390.00        & fraud        \\\\\n",
       "\t280144 & 169347        &  1.37855900   &  1.2893809    & -5.00424678   &  1.41184984   &  0.4425806    & -1.326535934  & -1.41316996   &  0.24852547   & -1.12739593   & -3.23215318   &  2.85846582   & -3.09691490   & -0.79253244   & -5.2101408    & -0.61380326   & -2.15529689   & -3.26711568   & -0.68850546   &  0.73765722   &  0.22613795   &  0.37061186   &  0.02823445   & -0.145640429  & -0.0810494069 &  0.52187450   &  0.739467256  &  0.389151844  &  0.186636548  &   0.76        & fraud        \\\\\n",
       "\t280150 & 169351        & -0.67614267   &  1.1263661    & -2.21369952   &  0.46830839   & -1.1205410    & -0.003346296  & -2.23473930   &  1.21015796   & -0.65224992   & -3.46389088   &  1.79496897   & -2.77502154   & -0.41895014   & -4.0571624    & -0.71261597   & -1.60301475   & -5.03532592   & -0.50699988   &  0.26627232   &  0.24796775   &  0.75182554   &  0.83410769   &  0.190943873  &  0.0320700856 & -0.73969482   &  0.471110963  &  0.385107449  &  0.194361479  &  77.89        & fraud        \\\\\n",
       "\t280190 & 169375        & -2.26537483   &  0.5849578    & -0.91178173   & -0.41001337   &  0.3300233    & -1.314193216  &  0.42462562   &  0.31354096   &  1.10343418   & -0.53111329   & -0.60030900   & -0.56432517   & -1.62922057   & -1.3261049    & -0.20575658   &  0.11056185   &  1.24585098   &  0.17962618   & -0.24044597   & -0.15940899   & -0.42153877   & -0.64791487   & -0.083073679  &  1.0036750855 &  0.27764772   & -0.181510486  & -0.340819535  & -0.314946007  &  37.73        & legit        \\\\\n",
       "\t280243 & 169408        &  0.08438949   &  1.1955851    &  0.14111057   &  0.67996444   &  1.3341151    &  0.581830356  &  0.86022324   & -0.24576377   & -0.93802930   &  0.02760133   &  0.82919866   &  0.44241264   &  1.14223744   & -1.0238646    &  0.77424426   & -0.54488430   &  0.80599870   &  0.77801218   &  3.39371770   &  0.46343729   & -0.30793292   & -0.60102075   & -0.232285936  & -0.1789228101 & -0.41071990   &  0.612439808  & -0.166056276  & -0.069069165  &   1.29        & legit        \\\\\n",
       "\t280436 & 169525        &  2.04776296   & -0.1355265    & -1.03218102   &  0.28991990   & -0.1457033    & -1.016310711  &  0.13906041   & -0.39107334   &  0.88748884   & -0.24818789   & -0.75742748   &  1.45147271   &  1.59494692   & -0.2911887    & -0.62948102   & -0.73778555   & -0.13941573   & -0.65701121   &  0.25762955   & -0.13739059   &  0.10000267   &  0.70595457   &  0.015106860  &  0.1558711331 &  0.25702450   &  0.186093413  & -0.014955945  & -0.058560593  &   5.00        & legit        \\\\\n",
       "\t280816 & 169770        & -0.43962778   &  0.5662581    & -0.39170225   &  0.43297141   &  1.7279303    &  0.014676998  &  1.46811257   & -0.12197917   & -1.06649078   & -0.26310417   &  0.24606904   &  0.90656875   &  0.62384743   &  0.4867270    & -1.41715316   & -0.64108461   & -0.54110005   &  0.18155004   &  0.59600801   &  0.21323978   &  0.27468989   &  0.70180100   & -0.058225291  &  0.2451565542 &  0.04754101   & -0.543029846  &  0.149487974  &  0.197362621  &  93.31        & legit        \\\\\n",
       "\t281145 & 169966        & -3.11383161   &  0.5858642    & -5.39973021   &  1.81709247   & -0.8406185    & -2.943547791  & -2.20800192   &  1.05873268   & -1.63233335   & -5.24598384   &  1.93351954   & -5.03046480   & -1.12745458   & -6.4166280    &  0.14123723   & -2.54949824   & -4.61471707   & -1.47813794   & -0.03548037   &  0.30627074   &  0.58327600   & -0.26920864   & -0.456107773  & -0.1836591295 & -0.32816776   &  0.606115810  &  0.884875540  & -0.253700319  & 245.00        & fraud        \\\\\n",
       "\t281675 & 170348        &  1.99197610   &  0.1584759    & -2.58344065   &  0.40866999   &  1.1511471    & -0.096694744  &  0.22305027   & -0.06838388   &  0.57782938   & -0.88872168   &  0.49114024   &  0.72890332   &  0.38042805   & -1.9488833    & -0.83249814   &  0.51943555   &  0.90356238   &  1.19731472   &  0.59350885   & -0.01765226   & -0.16435033   & -0.29513517   & -0.072172531  & -0.4502613134 &  0.31326661   & -0.289616586  &  0.002987582  & -0.015308813  &  42.53        & fraud        \\\\\n",
       "\t281857 & 170470        & -0.15745606   & -0.4436973    & -0.43486530   & -2.50204233   &  0.2943086    & -0.174187467  &  0.77664625   & -0.02803805   & -1.23563050   &  0.12161691   & -0.10361200   & -1.29102580   & -1.28391258   &  0.3339375    & -0.95569251   &  1.60283352   & -0.65056128   & -0.19080530   &  0.19148145   &  0.20153558   &  0.66065696   &  1.46933360   &  0.065719493  &  0.0898061076 & -0.46140803   & -0.189580096  &  0.119730379  &  0.213984031  & 139.00        & legit        \\\\\n",
       "\t281913 & 170526        & -2.61090780   &  2.7119244    & -1.90269080   & -0.28029739   &  2.5487251    &  5.107009767  & -1.92033319   & -5.29104409   & -1.30044807   & -0.77184363   & -0.57395122   &  0.46662719   & -0.76600571   &  1.5545531    &  0.05342750   & -0.89658679   &  0.77307729   & -0.24603565   &  0.62092062   & -0.27932614   &  2.63265421   & -0.74753896   &  0.212612139  &  0.6375228409 &  1.20066440   & -0.148922445  &  0.118009724  &  0.021597992  &  33.55        & legit        \\\\\n",
       "\t282576 & 170997        &  2.22785343   & -0.7581549    & -1.33087663   & -0.85448622   & -0.7384490    & -1.477907893  & -0.38674002   & -0.36714371   & -0.34979833   &  0.91690626   & -0.82166593   & -1.25901431   & -1.00923601   &  0.2697055    &  0.45690813   &  0.93391173   &  0.22124851   & -1.15941962   &  0.42837252   & -0.11609721   &  0.41838384   &  1.17798567   &  0.004027455  &  0.0748078261 &  0.16274215   &  0.070288750  & -0.046507919  & -0.068411540  &  12.00        & legit        \\\\\n",
       "\t282767 & 171132        &  1.78003806   & -0.3916751    & -1.64418144   &  0.46931823   & -0.1776593    & -0.958706267  &  0.03385465   & -0.06215609   &  0.97702561   & -0.67482782   &  1.08382220   &  0.25126992   & -1.73817976   & -0.9173288    & -0.61454442   &  0.17283952   &  1.00697718   &  0.59296786   &  0.28950075   & -0.08933039   & -0.14344312   & -0.46230868   &  0.126387489  & -0.1338296017 & -0.20624744   & -0.113238035  & -0.034791350  & -0.017917668  & 103.98        & legit        \\\\\n",
       "\t283162 & 171412        & -0.65790984   &  0.1460708    &  0.80488083   & -0.91723522   &  1.0270255    & -0.621729767  &  0.47213631   &  0.09842846   & -0.13996608   & -0.63502638   &  0.01790905   &  0.21019708   & -0.72090748   &  0.3163290    & -1.10859417   &  0.60941796   & -1.10198278   &  0.44392605   & -0.33159023   & -0.09441258   &  0.11887484   &  0.18405389   & -0.095594502  & -0.4968882710 & -0.39177714   &  0.078867682  &  0.087216675  &  0.162327554  &  11.90        & legit        \\\\\n",
       "\t283393 & 171559        &  2.14324140   & -0.9359536    & -0.61190195   & -0.87924565   & -0.8611170    & -0.386023302  & -0.92939240   & -0.13847303   & -0.06516307   &  0.68985487   & -0.67249259   &  0.13200674   &  1.50269096   & -0.7498089    &  0.08265688   &  1.13287552   &  0.02367180   & -1.25196318   &  0.45925230   &  0.11546272   &  0.33899507   &  1.05201446   &  0.134982261  &  0.8051070950 & -0.08891750   & -0.127099118  &  0.010406445  & -0.035501822  &  29.99        & legit        \\\\\n",
       "\\end{tabular}\n"
      ],
      "text/markdown": [
       "\n",
       "| <!--/--> | Time | V1 | V2 | V3 | V4 | V5 | V6 | V7 | V8 | V9 | V10 | V11 | V12 | V13 | V14 | V15 | V16 | V17 | V18 | V19 | V20 | V21 | V22 | V23 | V24 | V25 | V26 | V27 | V28 | Amount | Class |\n",
       "|---|---|---|---|---|---|---|---|---|---|---|---|---|---|---|---|---|---|---|---|---|---|---|---|---|---|---|---|---|---|---|---|\n",
       "| 327 |  238          | -0.992403869  |  1.6265915    |  0.9602477    |  0.09199868   | -0.2379629    | -0.55079648   |  0.10864855   | -0.378489746  | -0.69448027   | -0.74546607   |  0.33933342   |   0.9374150   |  1.21478663   |  -0.2650598   |  0.942094621  |  0.07185257   |   0.5716289   | -0.78108330   | -0.60078314   | -0.133863770  |  0.60208975   | -0.693278327  |  0.2097371816 |  0.365067770  | -0.195155186  |  0.08651426   |  0.1836605331 |  0.04336369   |   8.99        | legit         |\n",
       "| 542 |  406          | -2.312226542  |  1.9519920    | -1.6098507    |  3.99790559   | -0.5221879    | -1.42654532   | -2.53738731   |  1.391657248  | -2.77008928   | -2.77227214   |  3.20203321   |  -2.8999074   | -0.59522188   |  -4.2892538   |  0.389724120  | -1.14074718   |  -2.8300557   | -0.01682247   |  0.41695571   |  0.126910559  |  0.51723237   | -0.035049369  | -0.4652110762 |  0.320198199  |  0.044519167  |  0.17783980   |  0.2611450026 | -0.14327587   |   0.00        | fraud         |\n",
       "| 624 |  472          | -3.043540624  | -3.1573071    |  1.0884628    |  2.28864362   |  1.3598051    | -1.06482252   |  0.32557427   | -0.067793653  | -0.27095284   | -0.83858656   | -0.41457545   |  -0.5031409   |  0.67650154   |  -1.6920289   |  2.000634839  |  0.66677970   |   0.5997174   |  1.72532101   |  0.28334483   |  2.102338793  |  0.66169592   |  0.435477209  |  1.3759657425 | -0.293803153  |  0.279798032  | -0.14536171   | -0.2527731225 |  0.03576423   | 529.00        | fraud         |\n",
       "| 1698 | 1313          | -1.360261926  |  1.5427349    |  1.6567811    |  0.96688852   | -0.5127825    | -0.32196413   |  0.17481755   |  0.401853553  | -0.13709747   | -0.23869110   | -0.94804693   |   0.1411226   | -0.29178128   |   0.1056810   |  0.091346904  | -0.56325652   |   0.3893697   | -0.24796649   |  0.92216054   | -0.012622021  | -0.17293858   | -0.512887867  | -0.1383640621 |  0.362893102  |  0.372738824  | -0.42826536   | -0.1950585812 |  0.08016729   |   0.99        | legit         |\n",
       "| 1963 | 1509          | -0.275482986  |  0.9970975    |  1.3323666    | -0.16483284   |  0.4022644    | -0.41775933   |  0.84835043   | -0.144493821  | -0.53624634   | -0.14541212   |  1.33440218   |   0.5784039   |  0.38764361   |  -0.5246409   |  0.213030236  |  0.57946612   |  -0.4860028   |  0.40109708   |  0.32423536   |  0.241183176  | -0.27829646   | -0.585853557  | -0.0967211945 | -0.045386613  | -0.159267631  |  0.04537785   |  0.0777727463 | -0.13718593   |   9.99        | legit         |\n",
       "| 2467 | 2031          | -0.847058312  |  0.5357343    |  1.7925023    |  0.95992026   |  0.4259530    | -0.71612366   |  0.06521242   | -0.061629079  | -0.60887228   |  0.04657145   | -0.63233083   |  -0.5634133   | -0.32298061   |   0.3546393   |  1.980242429  | -0.31284387   |   0.1551057   |  0.02504818   |  1.90804119   |  0.073051076  | -0.23854879   | -0.702280488  | -0.2547508240 |  0.034994134  | -0.094352330  |  0.39669798   |  0.0011148914 |  0.04263305   |   1.79        | legit         |\n",
       "| 2699 | 2240          | -0.236168470  |  0.9970533    |  1.8686053    |  0.75686799   |  0.1950688    | -0.43652956   |  0.83865526   | -0.235938891  | -0.84329862   |  0.09851203   |  1.58368099   |   0.8667863   |  0.49405767   |   0.1678092   |  0.390226829  | -0.17866575   |  -0.5362717   |  0.42239704   |  0.66210964   |  0.113970078  |  0.07960133   |  0.429978817  | -0.1776377453 |  0.539192438  | -0.309761393  | -0.47653747   | -0.0001854925 | -0.07936631   |   2.25        | legit         |\n",
       "| 4393 | 3766          |  0.784768916  | -0.2652584    | -0.4431177    | -1.37881724   |  1.3928057    |  3.65393671   | -1.39929674   | -0.049544998  |  0.08058954   |  0.35293856   |  1.08228843   |  -3.2361907   |  1.88047028   |   1.5036887   |  0.711559770  |  1.22564602   |   0.8222501   | -0.74743587   |  1.55543692   |  0.199884848  |  0.46228831   | -1.206506180  |  0.0269988172 |  0.919961026  |  0.758053263  | -0.30187906   |  0.0505383960 |  0.08415453   |  35.07        | legit         |\n",
       "| 4496 | 3794          |  0.863642742  | -0.9049920    |  1.0561223    |  0.61213971   | -1.4072868    | -0.30191394   | -0.58416557   | -0.006763672  |  2.64652945   | -0.87255633   | -0.04316079   |  -2.5466159   |  0.47484107   |   1.1534184   | -0.888985576  | -0.07082375   |   0.9494910   | -0.18519491   |  0.21230878   |  0.172941842  | -0.28808058   | -0.790414459  | -0.0532765679 |  0.388560436  |  0.007037981  |  0.88813033   | -0.1023499038 |  0.03703729   | 189.68        | legit         |\n",
       "| 4775 | 4238          | -0.519699573  |  1.0878531    |  1.4758286    |  0.59554882   |  0.1351759    |  0.16146059   |  1.21521016   | -1.401913181  |  1.20320864   | -0.27865046   |  0.71626473   |  -3.0118258   |  0.89049728   |   1.4180956   |  0.358032066  | -0.45834198   |   0.4637145   | -0.13423729   | -0.79930527   | -0.298941695  |  0.61629177   | -0.032994760  | -0.1458314753 | -0.004458228  |  0.093368321  | -0.43527207   | -0.3301325927 | -0.46339894   | 110.00        | legit         |\n",
       "| 4921 | 4462          | -2.303349568  |  1.7592475    | -0.3597447    |  2.33024305   | -0.8216283    | -0.07578757   |  0.56231978   | -0.399146578  | -0.23825337   | -1.52541163   |  2.03291216   |  -6.5601243   |  0.02293732   |  -1.4701015   | -0.698826069  | -2.28219383   |  -4.7818309   | -2.61566494   | -1.33444107   | -0.430021867  | -0.29416632   | -0.932391057  |  0.1727262958 | -0.087329538  | -0.156114265  | -0.54262789   |  0.0395659889 | -0.15302880   | 239.93        | fraud         |\n",
       "| 5442 | 5440          |  0.594521754  | -1.0061527    |  1.8046188    |  2.49319013   | -1.2869650    |  1.53096073   | -1.08544061   |  0.518355092  |  2.16170699   | -0.21010610   |  1.27897097   |  -1.4857672   |  0.94257864   |   0.6170307   | -3.090617616  | -0.05678471   |   1.0807166   | -0.18599078   | -0.42552734   |  0.213350114  | -0.08980746   | -0.093485632  | -0.1612245979 |  0.039726895  |  0.018106689  |  0.99109358   | -0.0513990124 |  0.03918626   | 224.06        | legit         |\n",
       "| 5461 | 5469          | -0.809930281  |  0.6238953    |  2.6412487    |  1.27218274   | -0.5058198    |  1.02281443   |  0.33940806   | -0.248389559  |  1.87824023   |  0.22839757   |  2.24789445   |  -2.2103648   |  0.66517201   |   0.8809069   | -0.514389860  | -0.73010643   |   0.7477891   |  0.50805614   |  0.60030336   | -0.120012571  | -0.10043033   |  0.449591517  | -0.0438657623 |  0.163675570  | -0.660020550  | -0.47561879   | -0.6199581085 | -0.28493787   |  75.00        | legit         |\n",
       "| 6109 | 6986          | -4.397974442  |  1.3583670    | -2.5928442    |  2.67978697   | -1.1281309    | -1.70653639   | -3.49619729   | -0.248777743  | -0.24776790   | -4.80163741   |  4.89584422   | -10.9128193   |  0.18437169   |  -6.7710967   | -0.007326183  | -7.35808322   | -12.5984185   | -5.13154863   |  0.30833395   | -0.171607879  |  0.57357407   |  0.176967718  | -0.4362068836 | -0.053501865  |  0.252405262  | -0.65748775   | -0.8271357146 |  0.84957338   |  59.00        | fraud         |\n",
       "| 6330 | 7519          |  1.234235046  |  3.0197404    | -4.3045969    |  4.73279513   |  3.6242008    | -1.35774566   |  1.71344499   | -0.496358487  | -1.28285782   | -2.44746926   |  2.10134387   |  -4.6096284   |  1.46437762   |  -6.0793372   | -0.339237373  |  2.58185095   |   6.7393844   |  3.04249318   | -2.72185312   |  0.009060836  | -0.37906831   | -0.704181032  | -0.6568047563 | -1.632652957  |  1.488901448  |  0.56679727   | -0.0100162235 |  0.14679273   |   1.00        | fraud         |\n",
       "| 6332 | 7526          |  0.008430365  |  4.1378368    | -6.2406966    |  6.67573216   |  0.7683070    | -3.35305955   | -1.63173467   |  0.154612448  | -2.79589246   | -6.18789063   |  5.66439471   |  -9.8544848   | -0.30616666   | -10.6911962   | -0.638498193  | -2.04197379   |  -1.1290559   |  0.11645252   | -1.93466574   |  0.488378221  |  0.36451421   | -0.608057134  | -0.5395279418 |  0.128939983  |  1.488481210  |  0.50796268   |  0.7358216361 |  0.51357374   |   1.00        | fraud         |\n",
       "| 6335 | 7535          |  0.026779226  |  4.1324639    | -6.5606000    |  6.34855667   |  1.3296657    | -2.51347885   | -1.68910220   |  0.303252801  | -3.13940906   | -6.04546780   |  6.75462545   |  -8.9481786   |  0.70272500   | -10.7338541   | -1.379519857  | -1.63896011   |  -1.7463501   |  0.77674410   | -1.32735664   |  0.587743219  |  0.37050865   | -0.576752473  | -0.6696053718 | -0.759907530  |  1.605055550  |  0.54067540   |  0.7370403817 |  0.49669911   |   1.00        | fraud         |\n",
       "| 6339 | 7551          |  0.316459000  |  3.8090759    | -5.6151590    |  6.04744510   |  1.5540260    | -2.65135311   | -0.74657927   |  0.055586311  | -2.67867854   | -4.95949291   |  6.43905335   |  -7.5201174   |  0.38635167   |  -9.2523072   | -1.365188415  | -0.50236219   |   0.7844266   |  1.49430461   | -1.80801216   |  0.388307428  |  0.20882837   | -0.511746619  | -0.5838132208 | -0.219845029  |  1.474752584  |  0.49119193   |  0.5188682846 |  0.40252807   |   1.00        | fraud         |\n",
       "| 6428 | 7610          |  0.725645740  |  2.3008944    | -5.3299762    |  4.00768280   | -1.7304106    | -1.73219257   | -3.96859262   |  1.063728153  | -0.48609655   | -4.62498495   |  5.58872391   |  -7.1482426   |  1.68045074   |  -6.2102577   |  0.495282118  | -3.59954021   |  -4.8303242   | -0.64909012   |  2.25012325   |  0.504646226  |  0.58966913   |  0.109541319  |  0.6010452765 | -0.364700278  | -1.843077692  |  0.35190930   |  0.5945499781 |  0.09937224   |   1.00        | fraud         |\n",
       "| 6447 | 7672          |  0.702709900  |  2.4264328    | -5.2345133    |  4.41666124   | -2.1708062    | -2.66755356   | -3.87808845   |  0.911337122  | -0.16619904   | -5.00924850   |  4.67572942   |  -8.1671881   |  0.63855928   |  -6.7633344   |  1.296860256  | -3.81175841   |  -3.7541281   | -1.04917740   |  1.55419726   |  0.422743129  |  0.55117969   | -0.009802357  |  0.7216982301 |  0.473245751  | -1.959303771  |  0.31947554   |  0.6004849165 |  0.12930523   |   1.00        | fraud         |\n",
       "| 6473 | 7740          |  1.023873869  |  2.0014853    | -4.7697518    |  3.81919459   | -1.2717542    | -1.73466243   | -3.05924503   |  0.889804792  |  0.41538211   | -3.95581234   |  3.57205482   |  -7.1864516   |  0.14724234   |  -5.2493045   |  1.678333674  | -2.64147311   |  -1.3120586   | -0.39171605   |  1.11826355   |  0.204137684  |  0.34328265   | -0.054195664  |  0.7096539525 | -0.372215867  | -2.032068366  |  0.36677760   |  0.3951706693 |  0.02020554   |   1.00        | fraud         |\n",
       "| 6530 | 7891          | -1.585505367  |  3.2615845    | -4.1374220    |  2.35709625   | -1.4050433    | -1.87943719   | -3.51368687   |  1.515606746  | -1.20716636   | -6.23456133   |  5.45074607   |  -7.3337141   |  1.36119332   |  -6.6080683   | -0.481069425  | -2.60247787   |  -4.8351121   | -0.55302609   |  0.35194894   |  0.315957259  |  0.50154315   | -0.546868812  | -0.0765836359 | -0.425550367  |  0.123644186  |  0.32198454   |  0.2640281605 |  0.13281672   |   1.00        | fraud         |\n",
       "| 6610 | 8090          | -1.783228837  |  3.4027937    | -3.8227423    |  2.62536815   | -1.9764154    | -2.73168901   | -3.43055915   |  1.413203514  | -0.77694149   | -6.19988176   |  4.36671349   |  -8.2432624   |  0.34576117   |  -6.5905503   |  0.265576096  | -3.02845239   |  -4.2144863   | -1.21360785   | -0.26542160   |  0.364089115  |  0.45403193   | -0.577525824  |  0.0459665375 |  0.461700018  |  0.044146161  |  0.30570443   |  0.5309809863 |  0.24374560   |   1.00        | fraud         |\n",
       "| 6642 | 8169          |  0.857321004  |  4.0939118    | -7.4238936    |  7.38024452   |  0.9733660    | -2.73076152   | -1.49649706   |  0.543015173  | -2.35119016   | -3.94423850   |  6.35507774   |  -7.3097480   |  0.74845055   |  -9.0579925   | -0.648944909  | -1.07311653   |   1.5245009   |  1.83136353   | -0.08972441   |  0.483302650  |  0.37502629   |  0.145399853  |  0.2406032650 | -0.234649223  | -1.004880947  |  0.43583192   |  0.6183238052 |  0.14846894   |   1.00        | fraud         |\n",
       "| 6718 | 8408          | -1.813280485  |  4.9178507    | -5.9261297    |  5.70150043   |  1.2043926    | -3.03513755   | -1.71340206   |  0.561257391  | -3.79635425   | -7.45484065   |  7.38805512   | -10.4752287   | -0.37931453   | -11.7367291   | -2.086988952  | -2.44235398   |  -3.5355235   |  0.13036031   | -2.07145049   |  0.576656033  |  0.61564184   | -0.406427275  | -0.7370180764 | -0.279641772  |  1.106766374  |  0.32388548   |  0.8947666715 |  0.56951860   |   1.00        | fraud         |\n",
       "| 6720 | 8415          | -0.251470960  |  4.3135233    | -6.8914377    |  6.79679668   |  0.6162965    | -2.96632654   | -2.43665253   |  0.489327899  | -3.37163857   | -6.81081310   |  7.62008906   | -10.2852825   | -0.34244433   | -11.5434979   | -1.334987903  | -2.68928420   |  -3.2043834   |  0.08652190   | -1.31449510   |  0.632709964  |  0.53689207   | -0.546126024  | -0.6052395476 | -0.263743460  |  1.539915831  |  0.52357370   |  0.8910246884 |  0.57274067   |   1.00        | fraud         |\n",
       "| 6735 | 8451          |  0.314596590  |  2.6606703    | -5.9200374    |  4.52249961   | -2.3150273    | -2.27835165   | -4.68405394   |  1.202270265  | -0.69469551   | -5.52627806   |  6.66243683   |  -8.5254649   |  0.74274545   |  -7.6786680   |  0.593070459  | -4.47813660   |  -5.8442665   | -1.10273079   |  2.17738569   |  0.562705643  |  0.74331402   |  0.064038356  |  0.6778416753 |  0.083007823  | -1.911034464  |  0.32218840   |  0.6208665388 |  0.18503035   |   1.00        | fraud         |\n",
       "| 6775 | 8528          |  0.447395553  |  2.4819539    | -5.6608139    |  4.45592281   | -2.4437798    | -2.18504026   | -4.71614294   |  1.249803252  | -0.71832607   | -5.39033026   |  6.45418752   |  -8.4853466   |  0.63528141   |  -7.0199016   |  0.539814071  | -4.64986430   |  -6.2883575   | -1.33931232   |  2.26298479   |  0.549612971  |  0.75605255   |  0.140167769  |  0.6654111007 |  0.131463792  | -1.908217412  |  0.33480760   |  0.7485342848 |  0.17541379   |   1.00        | fraud         |\n",
       "| 6821 | 8614          | -2.169928976  |  3.6396540    | -4.5084978    |  2.73066815   | -2.1226929    | -2.34101683   | -4.23525308   |  1.703537658  | -1.30527913   | -6.71672002   |  6.35361232   |  -8.6016483   |  0.44993004   |  -7.5061694   | -0.438081782  | -3.69451600   |  -6.3047534   | -1.26758713   |  0.35798703   |  0.500779054  |  0.64510328   | -0.503529449  | -0.0005228218 |  0.071695779  |  0.092007433  |  0.30849793   |  0.5525909147 |  0.29895448   |   1.00        | fraud         |\n",
       "| 6871 | 8757          | -1.863755553  |  3.4426440    | -4.4682597    |  2.80533626   | -2.1184125    | -2.33228489   | -4.26123720   |  1.701681844  | -1.43939588   | -6.99990663   |  6.31620968   |  -8.6708180   |  0.31602399   |  -7.4177121   | -0.436537471  | -3.65280196   |  -6.2931453   | -1.24324829   |  0.36481048   |  0.360924004  |  0.66792657   | -0.516242362  | -0.0122178117 |  0.070613703  |  0.058504467  |  0.30488284   |  0.4180124672 |  0.20885828   |   1.00        | fraud         |\n",
       "| ... | ... | ... | ... | ... | ... | ... | ... | ... | ... | ... | ... | ... | ... | ... | ... | ... | ... | ... | ... | ... | ... | ... | ... | ... | ... | ... | ... | ... | ... | ... | ... |\n",
       "| 273073 | 165407        |  2.05514393   |  0.1127764    | -1.70456117   |  0.43500182   |  0.3686015    | -0.902506695  |  0.18152376   | -0.22702233   |  0.52798319   | -0.37518221   | -0.58053991   |  0.02680476   | -0.18598099   | -0.7914168    |  0.23097827   |  0.31965255   |  0.49966142   | -0.28626833   |  0.03939019   | -0.15444368   | -0.35985432   | -0.96357581   |  0.338848494  |  0.5618028175 | -0.27409339   |  0.169499200  | -0.065965770  | -0.029081921  |  10.77        | legit         |\n",
       "| 273448 | 165589        |  2.02781572   | -0.2933611    | -0.68081307   | -0.01715918   | -0.1188300    |  0.074518264  | -0.53668169   |  0.08159713   |  1.06799687   | -0.06788005   |  0.14251036   |  1.09259457   |  0.62432095   |  0.1204400    |  0.39003518   |  0.69381478   | -1.30340012   |  0.78479895   |  0.52390505   | -0.17423271   | -0.12888308   | -0.23925758   |  0.209975749  | -1.0841764102 | -0.24616060   | -0.881836715  |  0.057184509  | -0.046478970  |   1.00        | legit         |\n",
       "| 273785 | 165698        | -1.17133490   |  0.3620202    |  0.57900706   | -0.90089321   |  0.8860329    |  1.865060262  | -0.31916161   |  1.15033515   | -0.08893794   | -0.83638269   |  0.33254735   |  0.16010934   | -1.16951297   |  0.6391848    |  0.39550260   |  0.07071241   | -0.05407812   | -0.65964092   | -0.65060506   | -0.31149112   | -0.04312547   | -0.33882856   |  0.176390924  | -1.0044295788 | -0.77628114   | -0.002681067  | -0.094885485  |  0.058017470  |  30.70        | legit         |\n",
       "| 273811 | 165709        |  0.01127215   |  0.8689841    |  0.80896255   | -0.38596747   |  0.7096622    | -0.946431549  |  1.31574159   | -0.53230293   | -0.37461628   | -0.37444167   | -0.66490824   |  0.48311306   |  0.98501222   | -0.1800513    | -0.21653977   | -0.46662338   | -0.35697581   | -0.79734827   |  0.52235751   |  0.04655917   | -0.21726451   | -0.31841405   | -0.038008222  |  0.0826861623 | -0.72681831   |  0.158415193  | -0.032146007  | -0.040370900  |   1.98        | legit         |\n",
       "| 274383 | 165981        | -5.76687873   | -8.4021537    |  0.05654325   |  6.95098294   |  9.8805640    | -5.773191769  | -5.74887920   |  0.72174289   | -1.07627358   |  2.68866993   | -1.47514532   | -0.05046798   |  0.11350048   |  0.9843436    |  0.36396874   | -0.67435681   |  0.32746351   |  0.09146992   |  1.30794074   |  2.49322389   |  0.88039510   | -0.13043555   |  2.241471414  |  0.6653455365 | -1.89004142   | -0.120802764  |  0.073268559  |  0.583799418  |   0.00        | fraud         |\n",
       "| 274476 | 166028        | -0.95639035   |  2.3615936    | -3.17119461   |  1.97075878   |  0.4747614    | -1.902598204  | -0.05517781   |  0.27783123   | -1.74585417   | -2.51662800   |  0.87405163   | -2.51310433   |  0.02157508   | -3.5651188    |  0.46115343   | -2.01571275   | -1.73141319   | -0.46581473   |  0.52761976   |  0.19087690   |  0.47321109   |  0.71940030   |  0.122457848  | -0.2556498521 | -0.61925930   | -0.484279995  |  0.683534593  |  0.443299499  |  39.90        | fraud         |\n",
       "| 274715 | 166172        |  0.19193701   |  1.2071530    | -0.98769642   | -0.01289196   |  0.3368888    | -1.426588634  |  0.66487325   |  0.05041811   | -0.29758299   | -1.15326769   | -0.49346338   |  0.41329834   |  0.93089559   | -0.6997678    |  0.54735733   |  0.16293533   |  0.53939985   |  0.59994064   | -0.26213772   | -0.17527974   |  0.34182298   |  1.02274352   | -0.089309505  |  0.0008408763 | -0.23786527   | -0.155682982  | -0.064397690  | -0.044304092  |  14.95        | legit         |\n",
       "| 275002 | 166317        |  2.04423541   |  0.5621097    | -2.40533180   |  0.75679504   |  0.5732069    | -1.693054018  |  0.34462719   | -0.36818912   |  0.54632610   | -1.20082655   |  0.14494384   | -0.35689074   | -0.24332812   | -2.4869197    |  1.14810956   |  0.74396825   |  1.81369285   |  1.23269353   | -0.74218811   | -0.17259242   |  0.09606355   |  0.47690045   | -0.046761292  | -0.3045389584 |  0.24453409   | -0.092365240  |  0.021695217  |  0.006073142  |   1.00        | legit         |\n",
       "| 275891 | 166773        | -0.17008566   |  1.1947986    |  0.86212688   |  4.08744184   |  1.6554116    |  2.394823550  |  0.28958753   |  0.53371095   | -2.32654241   |  1.50679109   |  0.55599851   |  0.06881872   |  0.38798722   |  0.4650240    |  0.47017147   | -0.92562345   |  0.56878267   | -0.36706796   |  0.56278840   |  0.15560735   |  0.49592429   |  1.64518177   | -0.306859481  | -1.5736267537 | -0.41071170   |  0.763228208  |  0.238600662  |  0.156761314  |  10.62        | legit         |\n",
       "| 276072 | 166883        |  2.09190019   | -0.7574594    | -1.19225763   | -0.75545809   | -0.6203236    | -0.322077027  | -1.08251066   |  0.11719996   | -0.14092665   |  0.24931080   |  1.33831755   | -0.32975934   | -0.36359119   | -1.8248391    | -0.22967851   |  1.84234692   |  1.19421171   |  0.03746666   |  0.42309937   |  0.03743754   |  0.28825272   |  0.83193931   |  0.142006991  |  0.5926149743 | -0.19614315   | -0.136676262  |  0.020182365  | -0.015469705  |  19.95        | fraud         |\n",
       "| 276263 | 166989        | -2.95299449   | -1.8245155    |  0.35959708   | -0.76457103   |  2.7346549    |  3.952104990  | -1.62964009   |  1.61544578   |  1.39314882   | -1.05395911   | -0.42396877   |  0.06181628   | -0.13568033   | -2.1898919    | -0.07232201   |  0.67768226   |  0.56796240   |  0.62283289   | -0.25906313   | -0.55030735   | -0.25550090   |  0.41457463   |  0.867611312  |  0.6755065654 |  0.87374846   |  0.779119402  |  0.091630733  | -0.482404692  |  23.41        | legit         |\n",
       "| 276865 | 167338        | -1.37442439   |  2.7931846    | -4.34657206   |  2.40073142   | -1.6884327    |  0.111136093  | -0.92203762   | -2.14992998   | -2.02747376   | -4.39084192   |  1.24195818   | -3.91052150   | -1.22563630   | -4.6979969    |  0.67610830   | -2.07706554   | -2.68352090   | -0.52594933   |  0.42234244   |  0.65019586   | -0.87077852   |  0.50484916   |  0.137994269  |  0.3682745690 |  0.10313665   | -0.414208828  |  0.454981585  |  0.096710964  | 349.08        | fraud         |\n",
       "| 277373 | 167615        | -3.31566845   |  3.6078742    | -3.14940093   | -0.14550317   | -1.6408422    | -1.776533893  | -1.49061434   |  2.61410851   | -0.58446486   | -1.33699715   | -1.57573022   |  0.61811368   | -0.03792321   |  1.2088225    |  0.50218239   |  0.74105679   |  1.62163179   |  0.96981822   | -0.20304302   | -0.53917854   |  0.59464204   |  0.93021395   |  0.167753555  | -0.0421904002 | -0.21639387   | -0.171712767  | -0.747220497  | -0.018111411  |   1.22        | legit         |\n",
       "| 277452 | 167657        |  2.19890235   | -1.4210805    | -1.95309404   | -2.09993636   |  0.1471948    |  1.048649111  | -0.98729037   |  0.28139068   | -1.81513920   |  1.72555312   |  0.76206447   | -0.75609459   | -0.66276717   |  0.4540481    |  0.36376071   | -1.04734143   |  0.82437755   | -0.88068079   | -0.59775517   | -0.51600807   | -0.23335565   | -0.30876201   |  0.318120058  | -1.0201761442 | -0.35357589   | -0.229509615  |  0.007700714  | -0.077705291  |  30.00        | legit         |\n",
       "| 279042 | 168606        | -3.19242339   |  3.1658325    | -3.24200520   | -0.72019325   | -0.6380375    |  0.285606018  | -1.48408691   |  2.97317299   | -0.05839611   | -0.77205141   | -0.82844500   |  0.97261757   | -0.03507261   |  0.6913324    |  0.46403896   |  0.04250785   |  2.24569566   | -1.47165280   | -1.56153514   | -0.11797628   | -0.15443651   | -0.68535082   |  0.532009707  | -0.4812941640 | -0.27356533   |  0.246023950  |  0.051128277  | -0.012033331  |   8.94        | legit         |\n",
       "| 279864 | 169142        | -1.92788332   |  1.1256527    | -4.51833064   |  1.74929253   | -1.5664873    | -2.010494231  | -0.88284983   |  0.69721111   | -2.06494529   | -5.58779378   |  2.11579518   | -5.41742408   | -1.23512263   | -6.6651769    |  0.40170069   | -2.89782512   | -4.57052943   | -1.31514721   |  0.39116704   |  1.25296673   |  0.77858398   | -0.31918882   |  0.639418961  | -0.2948850404 |  0.53750254   |  0.788395057  |  0.292679966  |  0.147967929  | 390.00        | fraud         |\n",
       "| 280144 | 169347        |  1.37855900   |  1.2893809    | -5.00424678   |  1.41184984   |  0.4425806    | -1.326535934  | -1.41316996   |  0.24852547   | -1.12739593   | -3.23215318   |  2.85846582   | -3.09691490   | -0.79253244   | -5.2101408    | -0.61380326   | -2.15529689   | -3.26711568   | -0.68850546   |  0.73765722   |  0.22613795   |  0.37061186   |  0.02823445   | -0.145640429  | -0.0810494069 |  0.52187450   |  0.739467256  |  0.389151844  |  0.186636548  |   0.76        | fraud         |\n",
       "| 280150 | 169351        | -0.67614267   |  1.1263661    | -2.21369952   |  0.46830839   | -1.1205410    | -0.003346296  | -2.23473930   |  1.21015796   | -0.65224992   | -3.46389088   |  1.79496897   | -2.77502154   | -0.41895014   | -4.0571624    | -0.71261597   | -1.60301475   | -5.03532592   | -0.50699988   |  0.26627232   |  0.24796775   |  0.75182554   |  0.83410769   |  0.190943873  |  0.0320700856 | -0.73969482   |  0.471110963  |  0.385107449  |  0.194361479  |  77.89        | fraud         |\n",
       "| 280190 | 169375        | -2.26537483   |  0.5849578    | -0.91178173   | -0.41001337   |  0.3300233    | -1.314193216  |  0.42462562   |  0.31354096   |  1.10343418   | -0.53111329   | -0.60030900   | -0.56432517   | -1.62922057   | -1.3261049    | -0.20575658   |  0.11056185   |  1.24585098   |  0.17962618   | -0.24044597   | -0.15940899   | -0.42153877   | -0.64791487   | -0.083073679  |  1.0036750855 |  0.27764772   | -0.181510486  | -0.340819535  | -0.314946007  |  37.73        | legit         |\n",
       "| 280243 | 169408        |  0.08438949   |  1.1955851    |  0.14111057   |  0.67996444   |  1.3341151    |  0.581830356  |  0.86022324   | -0.24576377   | -0.93802930   |  0.02760133   |  0.82919866   |  0.44241264   |  1.14223744   | -1.0238646    |  0.77424426   | -0.54488430   |  0.80599870   |  0.77801218   |  3.39371770   |  0.46343729   | -0.30793292   | -0.60102075   | -0.232285936  | -0.1789228101 | -0.41071990   |  0.612439808  | -0.166056276  | -0.069069165  |   1.29        | legit         |\n",
       "| 280436 | 169525        |  2.04776296   | -0.1355265    | -1.03218102   |  0.28991990   | -0.1457033    | -1.016310711  |  0.13906041   | -0.39107334   |  0.88748884   | -0.24818789   | -0.75742748   |  1.45147271   |  1.59494692   | -0.2911887    | -0.62948102   | -0.73778555   | -0.13941573   | -0.65701121   |  0.25762955   | -0.13739059   |  0.10000267   |  0.70595457   |  0.015106860  |  0.1558711331 |  0.25702450   |  0.186093413  | -0.014955945  | -0.058560593  |   5.00        | legit         |\n",
       "| 280816 | 169770        | -0.43962778   |  0.5662581    | -0.39170225   |  0.43297141   |  1.7279303    |  0.014676998  |  1.46811257   | -0.12197917   | -1.06649078   | -0.26310417   |  0.24606904   |  0.90656875   |  0.62384743   |  0.4867270    | -1.41715316   | -0.64108461   | -0.54110005   |  0.18155004   |  0.59600801   |  0.21323978   |  0.27468989   |  0.70180100   | -0.058225291  |  0.2451565542 |  0.04754101   | -0.543029846  |  0.149487974  |  0.197362621  |  93.31        | legit         |\n",
       "| 281145 | 169966        | -3.11383161   |  0.5858642    | -5.39973021   |  1.81709247   | -0.8406185    | -2.943547791  | -2.20800192   |  1.05873268   | -1.63233335   | -5.24598384   |  1.93351954   | -5.03046480   | -1.12745458   | -6.4166280    |  0.14123723   | -2.54949824   | -4.61471707   | -1.47813794   | -0.03548037   |  0.30627074   |  0.58327600   | -0.26920864   | -0.456107773  | -0.1836591295 | -0.32816776   |  0.606115810  |  0.884875540  | -0.253700319  | 245.00        | fraud         |\n",
       "| 281675 | 170348        |  1.99197610   |  0.1584759    | -2.58344065   |  0.40866999   |  1.1511471    | -0.096694744  |  0.22305027   | -0.06838388   |  0.57782938   | -0.88872168   |  0.49114024   |  0.72890332   |  0.38042805   | -1.9488833    | -0.83249814   |  0.51943555   |  0.90356238   |  1.19731472   |  0.59350885   | -0.01765226   | -0.16435033   | -0.29513517   | -0.072172531  | -0.4502613134 |  0.31326661   | -0.289616586  |  0.002987582  | -0.015308813  |  42.53        | fraud         |\n",
       "| 281857 | 170470        | -0.15745606   | -0.4436973    | -0.43486530   | -2.50204233   |  0.2943086    | -0.174187467  |  0.77664625   | -0.02803805   | -1.23563050   |  0.12161691   | -0.10361200   | -1.29102580   | -1.28391258   |  0.3339375    | -0.95569251   |  1.60283352   | -0.65056128   | -0.19080530   |  0.19148145   |  0.20153558   |  0.66065696   |  1.46933360   |  0.065719493  |  0.0898061076 | -0.46140803   | -0.189580096  |  0.119730379  |  0.213984031  | 139.00        | legit         |\n",
       "| 281913 | 170526        | -2.61090780   |  2.7119244    | -1.90269080   | -0.28029739   |  2.5487251    |  5.107009767  | -1.92033319   | -5.29104409   | -1.30044807   | -0.77184363   | -0.57395122   |  0.46662719   | -0.76600571   |  1.5545531    |  0.05342750   | -0.89658679   |  0.77307729   | -0.24603565   |  0.62092062   | -0.27932614   |  2.63265421   | -0.74753896   |  0.212612139  |  0.6375228409 |  1.20066440   | -0.148922445  |  0.118009724  |  0.021597992  |  33.55        | legit         |\n",
       "| 282576 | 170997        |  2.22785343   | -0.7581549    | -1.33087663   | -0.85448622   | -0.7384490    | -1.477907893  | -0.38674002   | -0.36714371   | -0.34979833   |  0.91690626   | -0.82166593   | -1.25901431   | -1.00923601   |  0.2697055    |  0.45690813   |  0.93391173   |  0.22124851   | -1.15941962   |  0.42837252   | -0.11609721   |  0.41838384   |  1.17798567   |  0.004027455  |  0.0748078261 |  0.16274215   |  0.070288750  | -0.046507919  | -0.068411540  |  12.00        | legit         |\n",
       "| 282767 | 171132        |  1.78003806   | -0.3916751    | -1.64418144   |  0.46931823   | -0.1776593    | -0.958706267  |  0.03385465   | -0.06215609   |  0.97702561   | -0.67482782   |  1.08382220   |  0.25126992   | -1.73817976   | -0.9173288    | -0.61454442   |  0.17283952   |  1.00697718   |  0.59296786   |  0.28950075   | -0.08933039   | -0.14344312   | -0.46230868   |  0.126387489  | -0.1338296017 | -0.20624744   | -0.113238035  | -0.034791350  | -0.017917668  | 103.98        | legit         |\n",
       "| 283162 | 171412        | -0.65790984   |  0.1460708    |  0.80488083   | -0.91723522   |  1.0270255    | -0.621729767  |  0.47213631   |  0.09842846   | -0.13996608   | -0.63502638   |  0.01790905   |  0.21019708   | -0.72090748   |  0.3163290    | -1.10859417   |  0.60941796   | -1.10198278   |  0.44392605   | -0.33159023   | -0.09441258   |  0.11887484   |  0.18405389   | -0.095594502  | -0.4968882710 | -0.39177714   |  0.078867682  |  0.087216675  |  0.162327554  |  11.90        | legit         |\n",
       "| 283393 | 171559        |  2.14324140   | -0.9359536    | -0.61190195   | -0.87924565   | -0.8611170    | -0.386023302  | -0.92939240   | -0.13847303   | -0.06516307   |  0.68985487   | -0.67249259   |  0.13200674   |  1.50269096   | -0.7498089    |  0.08265688   |  1.13287552   |  0.02367180   | -1.25196318   |  0.45925230   |  0.11546272   |  0.33899507   |  1.05201446   |  0.134982261  |  0.8051070950 | -0.08891750   | -0.127099118  |  0.010406445  | -0.035501822  |  29.99        | legit         |\n",
       "\n"
      ],
      "text/plain": [
       "       Time   V1           V2         V3          V4          V5        \n",
       "327     238   -0.992403869  1.6265915  0.9602477   0.09199868 -0.2379629\n",
       "542     406   -2.312226542  1.9519920 -1.6098507   3.99790559 -0.5221879\n",
       "624     472   -3.043540624 -3.1573071  1.0884628   2.28864362  1.3598051\n",
       "1698   1313   -1.360261926  1.5427349  1.6567811   0.96688852 -0.5127825\n",
       "1963   1509   -0.275482986  0.9970975  1.3323666  -0.16483284  0.4022644\n",
       "2467   2031   -0.847058312  0.5357343  1.7925023   0.95992026  0.4259530\n",
       "2699   2240   -0.236168470  0.9970533  1.8686053   0.75686799  0.1950688\n",
       "4393   3766    0.784768916 -0.2652584 -0.4431177  -1.37881724  1.3928057\n",
       "4496   3794    0.863642742 -0.9049920  1.0561223   0.61213971 -1.4072868\n",
       "4775   4238   -0.519699573  1.0878531  1.4758286   0.59554882  0.1351759\n",
       "4921   4462   -2.303349568  1.7592475 -0.3597447   2.33024305 -0.8216283\n",
       "5442   5440    0.594521754 -1.0061527  1.8046188   2.49319013 -1.2869650\n",
       "5461   5469   -0.809930281  0.6238953  2.6412487   1.27218274 -0.5058198\n",
       "6109   6986   -4.397974442  1.3583670 -2.5928442   2.67978697 -1.1281309\n",
       "6330   7519    1.234235046  3.0197404 -4.3045969   4.73279513  3.6242008\n",
       "6332   7526    0.008430365  4.1378368 -6.2406966   6.67573216  0.7683070\n",
       "6335   7535    0.026779226  4.1324639 -6.5606000   6.34855667  1.3296657\n",
       "6339   7551    0.316459000  3.8090759 -5.6151590   6.04744510  1.5540260\n",
       "6428   7610    0.725645740  2.3008944 -5.3299762   4.00768280 -1.7304106\n",
       "6447   7672    0.702709900  2.4264328 -5.2345133   4.41666124 -2.1708062\n",
       "6473   7740    1.023873869  2.0014853 -4.7697518   3.81919459 -1.2717542\n",
       "6530   7891   -1.585505367  3.2615845 -4.1374220   2.35709625 -1.4050433\n",
       "6610   8090   -1.783228837  3.4027937 -3.8227423   2.62536815 -1.9764154\n",
       "6642   8169    0.857321004  4.0939118 -7.4238936   7.38024452  0.9733660\n",
       "6718   8408   -1.813280485  4.9178507 -5.9261297   5.70150043  1.2043926\n",
       "6720   8415   -0.251470960  4.3135233 -6.8914377   6.79679668  0.6162965\n",
       "6735   8451    0.314596590  2.6606703 -5.9200374   4.52249961 -2.3150273\n",
       "6775   8528    0.447395553  2.4819539 -5.6608139   4.45592281 -2.4437798\n",
       "6821   8614   -2.169928976  3.6396540 -4.5084978   2.73066815 -2.1226929\n",
       "6871   8757   -1.863755553  3.4426440 -4.4682597   2.80533626 -2.1184125\n",
       "...    ...    ...          ...        ...         ...         ...       \n",
       "273073 165407  2.05514393   0.1127764 -1.70456117  0.43500182  0.3686015\n",
       "273448 165589  2.02781572  -0.2933611 -0.68081307 -0.01715918 -0.1188300\n",
       "273785 165698 -1.17133490   0.3620202  0.57900706 -0.90089321  0.8860329\n",
       "273811 165709  0.01127215   0.8689841  0.80896255 -0.38596747  0.7096622\n",
       "274383 165981 -5.76687873  -8.4021537  0.05654325  6.95098294  9.8805640\n",
       "274476 166028 -0.95639035   2.3615936 -3.17119461  1.97075878  0.4747614\n",
       "274715 166172  0.19193701   1.2071530 -0.98769642 -0.01289196  0.3368888\n",
       "275002 166317  2.04423541   0.5621097 -2.40533180  0.75679504  0.5732069\n",
       "275891 166773 -0.17008566   1.1947986  0.86212688  4.08744184  1.6554116\n",
       "276072 166883  2.09190019  -0.7574594 -1.19225763 -0.75545809 -0.6203236\n",
       "276263 166989 -2.95299449  -1.8245155  0.35959708 -0.76457103  2.7346549\n",
       "276865 167338 -1.37442439   2.7931846 -4.34657206  2.40073142 -1.6884327\n",
       "277373 167615 -3.31566845   3.6078742 -3.14940093 -0.14550317 -1.6408422\n",
       "277452 167657  2.19890235  -1.4210805 -1.95309404 -2.09993636  0.1471948\n",
       "279042 168606 -3.19242339   3.1658325 -3.24200520 -0.72019325 -0.6380375\n",
       "279864 169142 -1.92788332   1.1256527 -4.51833064  1.74929253 -1.5664873\n",
       "280144 169347  1.37855900   1.2893809 -5.00424678  1.41184984  0.4425806\n",
       "280150 169351 -0.67614267   1.1263661 -2.21369952  0.46830839 -1.1205410\n",
       "280190 169375 -2.26537483   0.5849578 -0.91178173 -0.41001337  0.3300233\n",
       "280243 169408  0.08438949   1.1955851  0.14111057  0.67996444  1.3341151\n",
       "280436 169525  2.04776296  -0.1355265 -1.03218102  0.28991990 -0.1457033\n",
       "280816 169770 -0.43962778   0.5662581 -0.39170225  0.43297141  1.7279303\n",
       "281145 169966 -3.11383161   0.5858642 -5.39973021  1.81709247 -0.8406185\n",
       "281675 170348  1.99197610   0.1584759 -2.58344065  0.40866999  1.1511471\n",
       "281857 170470 -0.15745606  -0.4436973 -0.43486530 -2.50204233  0.2943086\n",
       "281913 170526 -2.61090780   2.7119244 -1.90269080 -0.28029739  2.5487251\n",
       "282576 170997  2.22785343  -0.7581549 -1.33087663 -0.85448622 -0.7384490\n",
       "282767 171132  1.78003806  -0.3916751 -1.64418144  0.46931823 -0.1776593\n",
       "283162 171412 -0.65790984   0.1460708  0.80488083 -0.91723522  1.0270255\n",
       "283393 171559  2.14324140  -0.9359536 -0.61190195 -0.87924565 -0.8611170\n",
       "       V6           V7          V8           V9          V10        \n",
       "327    -0.55079648   0.10864855 -0.378489746 -0.69448027 -0.74546607\n",
       "542    -1.42654532  -2.53738731  1.391657248 -2.77008928 -2.77227214\n",
       "624    -1.06482252   0.32557427 -0.067793653 -0.27095284 -0.83858656\n",
       "1698   -0.32196413   0.17481755  0.401853553 -0.13709747 -0.23869110\n",
       "1963   -0.41775933   0.84835043 -0.144493821 -0.53624634 -0.14541212\n",
       "2467   -0.71612366   0.06521242 -0.061629079 -0.60887228  0.04657145\n",
       "2699   -0.43652956   0.83865526 -0.235938891 -0.84329862  0.09851203\n",
       "4393    3.65393671  -1.39929674 -0.049544998  0.08058954  0.35293856\n",
       "4496   -0.30191394  -0.58416557 -0.006763672  2.64652945 -0.87255633\n",
       "4775    0.16146059   1.21521016 -1.401913181  1.20320864 -0.27865046\n",
       "4921   -0.07578757   0.56231978 -0.399146578 -0.23825337 -1.52541163\n",
       "5442    1.53096073  -1.08544061  0.518355092  2.16170699 -0.21010610\n",
       "5461    1.02281443   0.33940806 -0.248389559  1.87824023  0.22839757\n",
       "6109   -1.70653639  -3.49619729 -0.248777743 -0.24776790 -4.80163741\n",
       "6330   -1.35774566   1.71344499 -0.496358487 -1.28285782 -2.44746926\n",
       "6332   -3.35305955  -1.63173467  0.154612448 -2.79589246 -6.18789063\n",
       "6335   -2.51347885  -1.68910220  0.303252801 -3.13940906 -6.04546780\n",
       "6339   -2.65135311  -0.74657927  0.055586311 -2.67867854 -4.95949291\n",
       "6428   -1.73219257  -3.96859262  1.063728153 -0.48609655 -4.62498495\n",
       "6447   -2.66755356  -3.87808845  0.911337122 -0.16619904 -5.00924850\n",
       "6473   -1.73466243  -3.05924503  0.889804792  0.41538211 -3.95581234\n",
       "6530   -1.87943719  -3.51368687  1.515606746 -1.20716636 -6.23456133\n",
       "6610   -2.73168901  -3.43055915  1.413203514 -0.77694149 -6.19988176\n",
       "6642   -2.73076152  -1.49649706  0.543015173 -2.35119016 -3.94423850\n",
       "6718   -3.03513755  -1.71340206  0.561257391 -3.79635425 -7.45484065\n",
       "6720   -2.96632654  -2.43665253  0.489327899 -3.37163857 -6.81081310\n",
       "6735   -2.27835165  -4.68405394  1.202270265 -0.69469551 -5.52627806\n",
       "6775   -2.18504026  -4.71614294  1.249803252 -0.71832607 -5.39033026\n",
       "6821   -2.34101683  -4.23525308  1.703537658 -1.30527913 -6.71672002\n",
       "6871   -2.33228489  -4.26123720  1.701681844 -1.43939588 -6.99990663\n",
       "...    ...          ...         ...          ...         ...        \n",
       "273073 -0.902506695  0.18152376 -0.22702233   0.52798319 -0.37518221\n",
       "273448  0.074518264 -0.53668169  0.08159713   1.06799687 -0.06788005\n",
       "273785  1.865060262 -0.31916161  1.15033515  -0.08893794 -0.83638269\n",
       "273811 -0.946431549  1.31574159 -0.53230293  -0.37461628 -0.37444167\n",
       "274383 -5.773191769 -5.74887920  0.72174289  -1.07627358  2.68866993\n",
       "274476 -1.902598204 -0.05517781  0.27783123  -1.74585417 -2.51662800\n",
       "274715 -1.426588634  0.66487325  0.05041811  -0.29758299 -1.15326769\n",
       "275002 -1.693054018  0.34462719 -0.36818912   0.54632610 -1.20082655\n",
       "275891  2.394823550  0.28958753  0.53371095  -2.32654241  1.50679109\n",
       "276072 -0.322077027 -1.08251066  0.11719996  -0.14092665  0.24931080\n",
       "276263  3.952104990 -1.62964009  1.61544578   1.39314882 -1.05395911\n",
       "276865  0.111136093 -0.92203762 -2.14992998  -2.02747376 -4.39084192\n",
       "277373 -1.776533893 -1.49061434  2.61410851  -0.58446486 -1.33699715\n",
       "277452  1.048649111 -0.98729037  0.28139068  -1.81513920  1.72555312\n",
       "279042  0.285606018 -1.48408691  2.97317299  -0.05839611 -0.77205141\n",
       "279864 -2.010494231 -0.88284983  0.69721111  -2.06494529 -5.58779378\n",
       "280144 -1.326535934 -1.41316996  0.24852547  -1.12739593 -3.23215318\n",
       "280150 -0.003346296 -2.23473930  1.21015796  -0.65224992 -3.46389088\n",
       "280190 -1.314193216  0.42462562  0.31354096   1.10343418 -0.53111329\n",
       "280243  0.581830356  0.86022324 -0.24576377  -0.93802930  0.02760133\n",
       "280436 -1.016310711  0.13906041 -0.39107334   0.88748884 -0.24818789\n",
       "280816  0.014676998  1.46811257 -0.12197917  -1.06649078 -0.26310417\n",
       "281145 -2.943547791 -2.20800192  1.05873268  -1.63233335 -5.24598384\n",
       "281675 -0.096694744  0.22305027 -0.06838388   0.57782938 -0.88872168\n",
       "281857 -0.174187467  0.77664625 -0.02803805  -1.23563050  0.12161691\n",
       "281913  5.107009767 -1.92033319 -5.29104409  -1.30044807 -0.77184363\n",
       "282576 -1.477907893 -0.38674002 -0.36714371  -0.34979833  0.91690626\n",
       "282767 -0.958706267  0.03385465 -0.06215609   0.97702561 -0.67482782\n",
       "283162 -0.621729767  0.47213631  0.09842846  -0.13996608 -0.63502638\n",
       "283393 -0.386023302 -0.92939240 -0.13847303  -0.06516307  0.68985487\n",
       "       V11         V12         V13         V14         V15          V16        \n",
       "327     0.33933342   0.9374150  1.21478663  -0.2650598  0.942094621  0.07185257\n",
       "542     3.20203321  -2.8999074 -0.59522188  -4.2892538  0.389724120 -1.14074718\n",
       "624    -0.41457545  -0.5031409  0.67650154  -1.6920289  2.000634839  0.66677970\n",
       "1698   -0.94804693   0.1411226 -0.29178128   0.1056810  0.091346904 -0.56325652\n",
       "1963    1.33440218   0.5784039  0.38764361  -0.5246409  0.213030236  0.57946612\n",
       "2467   -0.63233083  -0.5634133 -0.32298061   0.3546393  1.980242429 -0.31284387\n",
       "2699    1.58368099   0.8667863  0.49405767   0.1678092  0.390226829 -0.17866575\n",
       "4393    1.08228843  -3.2361907  1.88047028   1.5036887  0.711559770  1.22564602\n",
       "4496   -0.04316079  -2.5466159  0.47484107   1.1534184 -0.888985576 -0.07082375\n",
       "4775    0.71626473  -3.0118258  0.89049728   1.4180956  0.358032066 -0.45834198\n",
       "4921    2.03291216  -6.5601243  0.02293732  -1.4701015 -0.698826069 -2.28219383\n",
       "5442    1.27897097  -1.4857672  0.94257864   0.6170307 -3.090617616 -0.05678471\n",
       "5461    2.24789445  -2.2103648  0.66517201   0.8809069 -0.514389860 -0.73010643\n",
       "6109    4.89584422 -10.9128193  0.18437169  -6.7710967 -0.007326183 -7.35808322\n",
       "6330    2.10134387  -4.6096284  1.46437762  -6.0793372 -0.339237373  2.58185095\n",
       "6332    5.66439471  -9.8544848 -0.30616666 -10.6911962 -0.638498193 -2.04197379\n",
       "6335    6.75462545  -8.9481786  0.70272500 -10.7338541 -1.379519857 -1.63896011\n",
       "6339    6.43905335  -7.5201174  0.38635167  -9.2523072 -1.365188415 -0.50236219\n",
       "6428    5.58872391  -7.1482426  1.68045074  -6.2102577  0.495282118 -3.59954021\n",
       "6447    4.67572942  -8.1671881  0.63855928  -6.7633344  1.296860256 -3.81175841\n",
       "6473    3.57205482  -7.1864516  0.14724234  -5.2493045  1.678333674 -2.64147311\n",
       "6530    5.45074607  -7.3337141  1.36119332  -6.6080683 -0.481069425 -2.60247787\n",
       "6610    4.36671349  -8.2432624  0.34576117  -6.5905503  0.265576096 -3.02845239\n",
       "6642    6.35507774  -7.3097480  0.74845055  -9.0579925 -0.648944909 -1.07311653\n",
       "6718    7.38805512 -10.4752287 -0.37931453 -11.7367291 -2.086988952 -2.44235398\n",
       "6720    7.62008906 -10.2852825 -0.34244433 -11.5434979 -1.334987903 -2.68928420\n",
       "6735    6.66243683  -8.5254649  0.74274545  -7.6786680  0.593070459 -4.47813660\n",
       "6775    6.45418752  -8.4853466  0.63528141  -7.0199016  0.539814071 -4.64986430\n",
       "6821    6.35361232  -8.6016483  0.44993004  -7.5061694 -0.438081782 -3.69451600\n",
       "6871    6.31620968  -8.6708180  0.31602399  -7.4177121 -0.436537471 -3.65280196\n",
       "...    ...         ...         ...         ...         ...          ...        \n",
       "273073 -0.58053991  0.02680476 -0.18598099 -0.7914168   0.23097827   0.31965255\n",
       "273448  0.14251036  1.09259457  0.62432095  0.1204400   0.39003518   0.69381478\n",
       "273785  0.33254735  0.16010934 -1.16951297  0.6391848   0.39550260   0.07071241\n",
       "273811 -0.66490824  0.48311306  0.98501222 -0.1800513  -0.21653977  -0.46662338\n",
       "274383 -1.47514532 -0.05046798  0.11350048  0.9843436   0.36396874  -0.67435681\n",
       "274476  0.87405163 -2.51310433  0.02157508 -3.5651188   0.46115343  -2.01571275\n",
       "274715 -0.49346338  0.41329834  0.93089559 -0.6997678   0.54735733   0.16293533\n",
       "275002  0.14494384 -0.35689074 -0.24332812 -2.4869197   1.14810956   0.74396825\n",
       "275891  0.55599851  0.06881872  0.38798722  0.4650240   0.47017147  -0.92562345\n",
       "276072  1.33831755 -0.32975934 -0.36359119 -1.8248391  -0.22967851   1.84234692\n",
       "276263 -0.42396877  0.06181628 -0.13568033 -2.1898919  -0.07232201   0.67768226\n",
       "276865  1.24195818 -3.91052150 -1.22563630 -4.6979969   0.67610830  -2.07706554\n",
       "277373 -1.57573022  0.61811368 -0.03792321  1.2088225   0.50218239   0.74105679\n",
       "277452  0.76206447 -0.75609459 -0.66276717  0.4540481   0.36376071  -1.04734143\n",
       "279042 -0.82844500  0.97261757 -0.03507261  0.6913324   0.46403896   0.04250785\n",
       "279864  2.11579518 -5.41742408 -1.23512263 -6.6651769   0.40170069  -2.89782512\n",
       "280144  2.85846582 -3.09691490 -0.79253244 -5.2101408  -0.61380326  -2.15529689\n",
       "280150  1.79496897 -2.77502154 -0.41895014 -4.0571624  -0.71261597  -1.60301475\n",
       "280190 -0.60030900 -0.56432517 -1.62922057 -1.3261049  -0.20575658   0.11056185\n",
       "280243  0.82919866  0.44241264  1.14223744 -1.0238646   0.77424426  -0.54488430\n",
       "280436 -0.75742748  1.45147271  1.59494692 -0.2911887  -0.62948102  -0.73778555\n",
       "280816  0.24606904  0.90656875  0.62384743  0.4867270  -1.41715316  -0.64108461\n",
       "281145  1.93351954 -5.03046480 -1.12745458 -6.4166280   0.14123723  -2.54949824\n",
       "281675  0.49114024  0.72890332  0.38042805 -1.9488833  -0.83249814   0.51943555\n",
       "281857 -0.10361200 -1.29102580 -1.28391258  0.3339375  -0.95569251   1.60283352\n",
       "281913 -0.57395122  0.46662719 -0.76600571  1.5545531   0.05342750  -0.89658679\n",
       "282576 -0.82166593 -1.25901431 -1.00923601  0.2697055   0.45690813   0.93391173\n",
       "282767  1.08382220  0.25126992 -1.73817976 -0.9173288  -0.61454442   0.17283952\n",
       "283162  0.01790905  0.21019708 -0.72090748  0.3163290  -1.10859417   0.60941796\n",
       "283393 -0.67249259  0.13200674  1.50269096 -0.7498089   0.08265688   1.13287552\n",
       "       V17         V18         V19         V20          V21        \n",
       "327      0.5716289 -0.78108330 -0.60078314 -0.133863770  0.60208975\n",
       "542     -2.8300557 -0.01682247  0.41695571  0.126910559  0.51723237\n",
       "624      0.5997174  1.72532101  0.28334483  2.102338793  0.66169592\n",
       "1698     0.3893697 -0.24796649  0.92216054 -0.012622021 -0.17293858\n",
       "1963    -0.4860028  0.40109708  0.32423536  0.241183176 -0.27829646\n",
       "2467     0.1551057  0.02504818  1.90804119  0.073051076 -0.23854879\n",
       "2699    -0.5362717  0.42239704  0.66210964  0.113970078  0.07960133\n",
       "4393     0.8222501 -0.74743587  1.55543692  0.199884848  0.46228831\n",
       "4496     0.9494910 -0.18519491  0.21230878  0.172941842 -0.28808058\n",
       "4775     0.4637145 -0.13423729 -0.79930527 -0.298941695  0.61629177\n",
       "4921    -4.7818309 -2.61566494 -1.33444107 -0.430021867 -0.29416632\n",
       "5442     1.0807166 -0.18599078 -0.42552734  0.213350114 -0.08980746\n",
       "5461     0.7477891  0.50805614  0.60030336 -0.120012571 -0.10043033\n",
       "6109   -12.5984185 -5.13154863  0.30833395 -0.171607879  0.57357407\n",
       "6330     6.7393844  3.04249318 -2.72185312  0.009060836 -0.37906831\n",
       "6332    -1.1290559  0.11645252 -1.93466574  0.488378221  0.36451421\n",
       "6335    -1.7463501  0.77674410 -1.32735664  0.587743219  0.37050865\n",
       "6339     0.7844266  1.49430461 -1.80801216  0.388307428  0.20882837\n",
       "6428    -4.8303242 -0.64909012  2.25012325  0.504646226  0.58966913\n",
       "6447    -3.7541281 -1.04917740  1.55419726  0.422743129  0.55117969\n",
       "6473    -1.3120586 -0.39171605  1.11826355  0.204137684  0.34328265\n",
       "6530    -4.8351121 -0.55302609  0.35194894  0.315957259  0.50154315\n",
       "6610    -4.2144863 -1.21360785 -0.26542160  0.364089115  0.45403193\n",
       "6642     1.5245009  1.83136353 -0.08972441  0.483302650  0.37502629\n",
       "6718    -3.5355235  0.13036031 -2.07145049  0.576656033  0.61564184\n",
       "6720    -3.2043834  0.08652190 -1.31449510  0.632709964  0.53689207\n",
       "6735    -5.8442665 -1.10273079  2.17738569  0.562705643  0.74331402\n",
       "6775    -6.2883575 -1.33931232  2.26298479  0.549612971  0.75605255\n",
       "6821    -6.3047534 -1.26758713  0.35798703  0.500779054  0.64510328\n",
       "6871    -6.2931453 -1.24324829  0.36481048  0.360924004  0.66792657\n",
       "...    ...         ...         ...         ...          ...        \n",
       "273073  0.49966142 -0.28626833  0.03939019 -0.15444368  -0.35985432\n",
       "273448 -1.30340012  0.78479895  0.52390505 -0.17423271  -0.12888308\n",
       "273785 -0.05407812 -0.65964092 -0.65060506 -0.31149112  -0.04312547\n",
       "273811 -0.35697581 -0.79734827  0.52235751  0.04655917  -0.21726451\n",
       "274383  0.32746351  0.09146992  1.30794074  2.49322389   0.88039510\n",
       "274476 -1.73141319 -0.46581473  0.52761976  0.19087690   0.47321109\n",
       "274715  0.53939985  0.59994064 -0.26213772 -0.17527974   0.34182298\n",
       "275002  1.81369285  1.23269353 -0.74218811 -0.17259242   0.09606355\n",
       "275891  0.56878267 -0.36706796  0.56278840  0.15560735   0.49592429\n",
       "276072  1.19421171  0.03746666  0.42309937  0.03743754   0.28825272\n",
       "276263  0.56796240  0.62283289 -0.25906313 -0.55030735  -0.25550090\n",
       "276865 -2.68352090 -0.52594933  0.42234244  0.65019586  -0.87077852\n",
       "277373  1.62163179  0.96981822 -0.20304302 -0.53917854   0.59464204\n",
       "277452  0.82437755 -0.88068079 -0.59775517 -0.51600807  -0.23335565\n",
       "279042  2.24569566 -1.47165280 -1.56153514 -0.11797628  -0.15443651\n",
       "279864 -4.57052943 -1.31514721  0.39116704  1.25296673   0.77858398\n",
       "280144 -3.26711568 -0.68850546  0.73765722  0.22613795   0.37061186\n",
       "280150 -5.03532592 -0.50699988  0.26627232  0.24796775   0.75182554\n",
       "280190  1.24585098  0.17962618 -0.24044597 -0.15940899  -0.42153877\n",
       "280243  0.80599870  0.77801218  3.39371770  0.46343729  -0.30793292\n",
       "280436 -0.13941573 -0.65701121  0.25762955 -0.13739059   0.10000267\n",
       "280816 -0.54110005  0.18155004  0.59600801  0.21323978   0.27468989\n",
       "281145 -4.61471707 -1.47813794 -0.03548037  0.30627074   0.58327600\n",
       "281675  0.90356238  1.19731472  0.59350885 -0.01765226  -0.16435033\n",
       "281857 -0.65056128 -0.19080530  0.19148145  0.20153558   0.66065696\n",
       "281913  0.77307729 -0.24603565  0.62092062 -0.27932614   2.63265421\n",
       "282576  0.22124851 -1.15941962  0.42837252 -0.11609721   0.41838384\n",
       "282767  1.00697718  0.59296786  0.28950075 -0.08933039  -0.14344312\n",
       "283162 -1.10198278  0.44392605 -0.33159023 -0.09441258   0.11887484\n",
       "283393  0.02367180 -1.25196318  0.45925230  0.11546272   0.33899507\n",
       "       V22          V23           V24           V25          V26         \n",
       "327    -0.693278327  0.2097371816  0.365067770  -0.195155186  0.08651426 \n",
       "542    -0.035049369 -0.4652110762  0.320198199   0.044519167  0.17783980 \n",
       "624     0.435477209  1.3759657425 -0.293803153   0.279798032 -0.14536171 \n",
       "1698   -0.512887867 -0.1383640621  0.362893102   0.372738824 -0.42826536 \n",
       "1963   -0.585853557 -0.0967211945 -0.045386613  -0.159267631  0.04537785 \n",
       "2467   -0.702280488 -0.2547508240  0.034994134  -0.094352330  0.39669798 \n",
       "2699    0.429978817 -0.1776377453  0.539192438  -0.309761393 -0.47653747 \n",
       "4393   -1.206506180  0.0269988172  0.919961026   0.758053263 -0.30187906 \n",
       "4496   -0.790414459 -0.0532765679  0.388560436   0.007037981  0.88813033 \n",
       "4775   -0.032994760 -0.1458314753 -0.004458228   0.093368321 -0.43527207 \n",
       "4921   -0.932391057  0.1727262958 -0.087329538  -0.156114265 -0.54262789 \n",
       "5442   -0.093485632 -0.1612245979  0.039726895   0.018106689  0.99109358 \n",
       "5461    0.449591517 -0.0438657623  0.163675570  -0.660020550 -0.47561879 \n",
       "6109    0.176967718 -0.4362068836 -0.053501865   0.252405262 -0.65748775 \n",
       "6330   -0.704181032 -0.6568047563 -1.632652957   1.488901448  0.56679727 \n",
       "6332   -0.608057134 -0.5395279418  0.128939983   1.488481210  0.50796268 \n",
       "6335   -0.576752473 -0.6696053718 -0.759907530   1.605055550  0.54067540 \n",
       "6339   -0.511746619 -0.5838132208 -0.219845029   1.474752584  0.49119193 \n",
       "6428    0.109541319  0.6010452765 -0.364700278  -1.843077692  0.35190930 \n",
       "6447   -0.009802357  0.7216982301  0.473245751  -1.959303771  0.31947554 \n",
       "6473   -0.054195664  0.7096539525 -0.372215867  -2.032068366  0.36677760 \n",
       "6530   -0.546868812 -0.0765836359 -0.425550367   0.123644186  0.32198454 \n",
       "6610   -0.577525824  0.0459665375  0.461700018   0.044146161  0.30570443 \n",
       "6642    0.145399853  0.2406032650 -0.234649223  -1.004880947  0.43583192 \n",
       "6718   -0.406427275 -0.7370180764 -0.279641772   1.106766374  0.32388548 \n",
       "6720   -0.546126024 -0.6052395476 -0.263743460   1.539915831  0.52357370 \n",
       "6735    0.064038356  0.6778416753  0.083007823  -1.911034464  0.32218840 \n",
       "6775    0.140167769  0.6654111007  0.131463792  -1.908217412  0.33480760 \n",
       "6821   -0.503529449 -0.0005228218  0.071695779   0.092007433  0.30849793 \n",
       "6871   -0.516242362 -0.0122178117  0.070613703   0.058504467  0.30488284 \n",
       "...    ...          ...           ...           ...          ...         \n",
       "273073 -0.96357581   0.338848494   0.5618028175 -0.27409339   0.169499200\n",
       "273448 -0.23925758   0.209975749  -1.0841764102 -0.24616060  -0.881836715\n",
       "273785 -0.33882856   0.176390924  -1.0044295788 -0.77628114  -0.002681067\n",
       "273811 -0.31841405  -0.038008222   0.0826861623 -0.72681831   0.158415193\n",
       "274383 -0.13043555   2.241471414   0.6653455365 -1.89004142  -0.120802764\n",
       "274476  0.71940030   0.122457848  -0.2556498521 -0.61925930  -0.484279995\n",
       "274715  1.02274352  -0.089309505   0.0008408763 -0.23786527  -0.155682982\n",
       "275002  0.47690045  -0.046761292  -0.3045389584  0.24453409  -0.092365240\n",
       "275891  1.64518177  -0.306859481  -1.5736267537 -0.41071170   0.763228208\n",
       "276072  0.83193931   0.142006991   0.5926149743 -0.19614315  -0.136676262\n",
       "276263  0.41457463   0.867611312   0.6755065654  0.87374846   0.779119402\n",
       "276865  0.50484916   0.137994269   0.3682745690  0.10313665  -0.414208828\n",
       "277373  0.93021395   0.167753555  -0.0421904002 -0.21639387  -0.171712767\n",
       "277452 -0.30876201   0.318120058  -1.0201761442 -0.35357589  -0.229509615\n",
       "279042 -0.68535082   0.532009707  -0.4812941640 -0.27356533   0.246023950\n",
       "279864 -0.31918882   0.639418961  -0.2948850404  0.53750254   0.788395057\n",
       "280144  0.02823445  -0.145640429  -0.0810494069  0.52187450   0.739467256\n",
       "280150  0.83410769   0.190943873   0.0320700856 -0.73969482   0.471110963\n",
       "280190 -0.64791487  -0.083073679   1.0036750855  0.27764772  -0.181510486\n",
       "280243 -0.60102075  -0.232285936  -0.1789228101 -0.41071990   0.612439808\n",
       "280436  0.70595457   0.015106860   0.1558711331  0.25702450   0.186093413\n",
       "280816  0.70180100  -0.058225291   0.2451565542  0.04754101  -0.543029846\n",
       "281145 -0.26920864  -0.456107773  -0.1836591295 -0.32816776   0.606115810\n",
       "281675 -0.29513517  -0.072172531  -0.4502613134  0.31326661  -0.289616586\n",
       "281857  1.46933360   0.065719493   0.0898061076 -0.46140803  -0.189580096\n",
       "281913 -0.74753896   0.212612139   0.6375228409  1.20066440  -0.148922445\n",
       "282576  1.17798567   0.004027455   0.0748078261  0.16274215   0.070288750\n",
       "282767 -0.46230868   0.126387489  -0.1338296017 -0.20624744  -0.113238035\n",
       "283162  0.18405389  -0.095594502  -0.4968882710 -0.39177714   0.078867682\n",
       "283393  1.05201446   0.134982261   0.8051070950 -0.08891750  -0.127099118\n",
       "       V27           V28          Amount Class\n",
       "327     0.1836605331  0.04336369    8.99 legit\n",
       "542     0.2611450026 -0.14327587    0.00 fraud\n",
       "624    -0.2527731225  0.03576423  529.00 fraud\n",
       "1698   -0.1950585812  0.08016729    0.99 legit\n",
       "1963    0.0777727463 -0.13718593    9.99 legit\n",
       "2467    0.0011148914  0.04263305    1.79 legit\n",
       "2699   -0.0001854925 -0.07936631    2.25 legit\n",
       "4393    0.0505383960  0.08415453   35.07 legit\n",
       "4496   -0.1023499038  0.03703729  189.68 legit\n",
       "4775   -0.3301325927 -0.46339894  110.00 legit\n",
       "4921    0.0395659889 -0.15302880  239.93 fraud\n",
       "5442   -0.0513990124  0.03918626  224.06 legit\n",
       "5461   -0.6199581085 -0.28493787   75.00 legit\n",
       "6109   -0.8271357146  0.84957338   59.00 fraud\n",
       "6330   -0.0100162235  0.14679273    1.00 fraud\n",
       "6332    0.7358216361  0.51357374    1.00 fraud\n",
       "6335    0.7370403817  0.49669911    1.00 fraud\n",
       "6339    0.5188682846  0.40252807    1.00 fraud\n",
       "6428    0.5945499781  0.09937224    1.00 fraud\n",
       "6447    0.6004849165  0.12930523    1.00 fraud\n",
       "6473    0.3951706693  0.02020554    1.00 fraud\n",
       "6530    0.2640281605  0.13281672    1.00 fraud\n",
       "6610    0.5309809863  0.24374560    1.00 fraud\n",
       "6642    0.6183238052  0.14846894    1.00 fraud\n",
       "6718    0.8947666715  0.56951860    1.00 fraud\n",
       "6720    0.8910246884  0.57274067    1.00 fraud\n",
       "6735    0.6208665388  0.18503035    1.00 fraud\n",
       "6775    0.7485342848  0.17541379    1.00 fraud\n",
       "6821    0.5525909147  0.29895448    1.00 fraud\n",
       "6871    0.4180124672  0.20885828    1.00 fraud\n",
       "...    ...           ...          ...    ...  \n",
       "273073 -0.065965770  -0.029081921  10.77 legit\n",
       "273448  0.057184509  -0.046478970   1.00 legit\n",
       "273785 -0.094885485   0.058017470  30.70 legit\n",
       "273811 -0.032146007  -0.040370900   1.98 legit\n",
       "274383  0.073268559   0.583799418   0.00 fraud\n",
       "274476  0.683534593   0.443299499  39.90 fraud\n",
       "274715 -0.064397690  -0.044304092  14.95 legit\n",
       "275002  0.021695217   0.006073142   1.00 legit\n",
       "275891  0.238600662   0.156761314  10.62 legit\n",
       "276072  0.020182365  -0.015469705  19.95 fraud\n",
       "276263  0.091630733  -0.482404692  23.41 legit\n",
       "276865  0.454981585   0.096710964 349.08 fraud\n",
       "277373 -0.747220497  -0.018111411   1.22 legit\n",
       "277452  0.007700714  -0.077705291  30.00 legit\n",
       "279042  0.051128277  -0.012033331   8.94 legit\n",
       "279864  0.292679966   0.147967929 390.00 fraud\n",
       "280144  0.389151844   0.186636548   0.76 fraud\n",
       "280150  0.385107449   0.194361479  77.89 fraud\n",
       "280190 -0.340819535  -0.314946007  37.73 legit\n",
       "280243 -0.166056276  -0.069069165   1.29 legit\n",
       "280436 -0.014955945  -0.058560593   5.00 legit\n",
       "280816  0.149487974   0.197362621  93.31 legit\n",
       "281145  0.884875540  -0.253700319 245.00 fraud\n",
       "281675  0.002987582  -0.015308813  42.53 fraud\n",
       "281857  0.119730379   0.213984031 139.00 legit\n",
       "281913  0.118009724   0.021597992  33.55 legit\n",
       "282576 -0.046507919  -0.068411540  12.00 legit\n",
       "282767 -0.034791350  -0.017917668 103.98 legit\n",
       "283162  0.087216675   0.162327554  11.90 legit\n",
       "283393  0.010406445  -0.035501822  29.99 legit"
      ]
     },
     "metadata": {},
     "output_type": "display_data"
    }
   ],
   "source": [
    "set.seed(12345)\n",
    "b = balance(data.raw$Class)\n",
    "data = data.raw[b, ]\n",
    "data$Class = factor(factor(data$Class), levels=c(0,1), labels=c(\"legit\",\"fraud\"))\n",
    "\n",
    "table(data$Class)\n",
    "data"
   ]
  },
  {
   "cell_type": "code",
   "execution_count": 6,
   "metadata": {
    "scrolled": false
   },
   "outputs": [
    {
     "data": {
      "image/png": "[encoded data removed]",
      "text/plain": [
       "plot without title"
      ]
     },
     "metadata": {},
     "output_type": "display_data"
    }
   ],
   "source": [
    "ggplot(data) + geom_point(aes(x=Time, y=Amount, color=factor(Class))) + scale_color_manual(values=PALETTE[1:2])"
   ]
  },
  {
   "cell_type": "code",
   "execution_count": 7,
   "metadata": {
    "scrolled": false
   },
   "outputs": [
    {
     "data": {
      "text/html": [
       "<table>\n",
       "<thead><tr><th scope=col>class</th><th scope=col>min_V1</th><th scope=col>max_V1</th><th scope=col>min_V2</th><th scope=col>max_V2</th></tr></thead>\n",
       "<tbody>\n",
       "\t<tr><td>legit     </td><td>-17.49863 </td><td>2.264115  </td><td>-13.929566</td><td> 8.762508 </td></tr>\n",
       "\t<tr><td>fraud     </td><td>-30.55238 </td><td>2.132386  </td><td> -8.402154</td><td>22.057729 </td></tr>\n",
       "</tbody>\n",
       "</table>\n"
      ],
      "text/latex": [
       "\\begin{tabular}{r|lllll}\n",
       " class & min\\_V1 & max\\_V1 & min\\_V2 & max\\_V2\\\\\n",
       "\\hline\n",
       "\t legit      & -17.49863  & 2.264115   & -13.929566 &  8.762508 \\\\\n",
       "\t fraud      & -30.55238  & 2.132386   &  -8.402154 & 22.057729 \\\\\n",
       "\\end{tabular}\n"
      ],
      "text/markdown": [
       "\n",
       "| class | min_V1 | max_V1 | min_V2 | max_V2 |\n",
       "|---|---|---|---|---|\n",
       "| legit      | -17.49863  | 2.264115   | -13.929566 |  8.762508  |\n",
       "| fraud      | -30.55238  | 2.132386   |  -8.402154 | 22.057729  |\n",
       "\n"
      ],
      "text/plain": [
       "  class min_V1    max_V1   min_V2     max_V2   \n",
       "1 legit -17.49863 2.264115 -13.929566  8.762508\n",
       "2 fraud -30.55238 2.132386  -8.402154 22.057729"
      ]
     },
     "metadata": {},
     "output_type": "display_data"
    },
    {
     "data": {
      "image/png": "[encoded data removed]",
      "text/plain": [
       "plot without title"
      ]
     },
     "metadata": {},
     "output_type": "display_data"
    }
   ],
   "source": [
    "data.frame(class=c(\"legit\",\"fraud\"),\n",
    "           min_V1=c(min(data[data$Class==\"legit\", \"V1\"]), min(data[data$Class==\"fraud\", \"V1\"])),\n",
    "           max_V1=c(max(data[data$Class==\"legit\", \"V1\"]), max(data[data$Class==\"fraud\", \"V1\"])),\n",
    "           min_V2=c(min(data[data$Class==\"legit\", \"V2\"]), min(data[data$Class==\"fraud\", \"V2\"])),\n",
    "           max_V2=c(max(data[data$Class==\"legit\", \"V2\"]), max(data[data$Class==\"fraud\", \"V2\"])))\n",
    "\n",
    "\n",
    "ggplot(data) + geom_point(aes(x=V1, y=V2, color=Class)) + scale_color_manual(values=PALETTE[1:2])"
   ]
  },
  {
   "cell_type": "markdown",
   "metadata": {},
   "source": [
    "<br>\n",
    "\n",
    "#### Distribution of fraudulent and legitimate transactions: holdout."
   ]
  },
  {
   "cell_type": "code",
   "execution_count": 8,
   "metadata": {},
   "outputs": [
    {
     "data": {
      "text/plain": [
       "\n",
       "    0     1 \n",
       "42647    73 "
      ]
     },
     "metadata": {},
     "output_type": "display_data"
    },
    {
     "data": {
      "text/plain": [
       "\n",
       "          0           1 \n",
       "0.998291199 0.001708801 "
      ]
     },
     "metadata": {},
     "output_type": "display_data"
    }
   ],
   "source": [
    "table(data_holdout.raw$Class)\n",
    "table(data_holdout.raw$Class) / nrow(data_holdout.raw)"
   ]
  },
  {
   "cell_type": "markdown",
   "metadata": {},
   "source": [
    "<br>\n",
    "\n",
    "#### Get a balanced sample: holdout."
   ]
  },
  {
   "cell_type": "code",
   "execution_count": 9,
   "metadata": {
    "scrolled": true
   },
   "outputs": [
    {
     "data": {
      "text/plain": [
       "\n",
       "legit fraud \n",
       "   73    73 "
      ]
     },
     "metadata": {},
     "output_type": "display_data"
    },
    {
     "data": {
      "text/html": [
       "<table>\n",
       "<thead><tr><th></th><th scope=col>Time</th><th scope=col>V1</th><th scope=col>V2</th><th scope=col>V3</th><th scope=col>V4</th><th scope=col>V5</th><th scope=col>V6</th><th scope=col>V7</th><th scope=col>V8</th><th scope=col>V9</th><th scope=col>V10</th><th scope=col>V11</th><th scope=col>V12</th><th scope=col>V13</th><th scope=col>V14</th><th scope=col>V15</th><th scope=col>V16</th><th scope=col>V17</th><th scope=col>V18</th><th scope=col>V19</th><th scope=col>V20</th><th scope=col>V21</th><th scope=col>V22</th><th scope=col>V23</th><th scope=col>V24</th><th scope=col>V25</th><th scope=col>V26</th><th scope=col>V27</th><th scope=col>V28</th><th scope=col>Amount</th><th scope=col>Class</th></tr></thead>\n",
       "<tbody>\n",
       "\t<tr><th scope=row>315</th><td>  227        </td><td> -1.4653810  </td><td> 1.382171684 </td><td>  1.0197899  </td><td> 0.25036712  </td><td>  1.01141447 </td><td>-1.28180719  </td><td>  1.18686606 </td><td>-0.31260810  </td><td>-0.70150296  </td><td> -1.06734128 </td><td> 0.20577322  </td><td>  0.31503832 </td><td> 1.29757895  </td><td> -1.951782420</td><td> 0.41060616  </td><td>  0.62267069 </td><td>  0.53444483 </td><td> 0.48583697  </td><td>-1.0963821   </td><td> 0.004783724 </td><td>-0.038147464 </td><td> 0.08348074  </td><td>-0.266017332 </td><td> 0.270832696 </td><td> 0.75435271  </td><td>-0.491529029 </td><td>-0.689818884 </td><td>-0.329373595 </td><td>  1.00       </td><td>legit        </td></tr>\n",
       "\t<tr><th scope=row>1717</th><td> 1328        </td><td>  0.9885531  </td><td>-0.774050282 </td><td> -0.6024881  </td><td>-1.51953128  </td><td> -0.35031340 </td><td>-0.69065418  </td><td>  0.23671533 </td><td>-0.09137949  </td><td> 0.90559574  </td><td> -0.92220018 </td><td> 1.39008790  </td><td>  0.76851686 </td><td>-1.00230074  </td><td>  0.920904721</td><td> 1.18134291  </td><td> -0.68339443 </td><td> -0.06381289 </td><td>-0.02372381  </td><td> 0.8345605   </td><td> 0.153649914 </td><td> 0.102347460 </td><td> 0.02636957  </td><td>-0.259711090 </td><td>-0.271584675 </td><td> 0.55347016  </td><td> 0.033557591 </td><td>-0.043756731 </td><td> 0.012866859 </td><td>160.00       </td><td>legit        </td></tr>\n",
       "\t<tr><th scope=row>6337</th><td> 7543        </td><td>  0.3295943  </td><td> 3.712889295 </td><td> -5.7759351  </td><td> 6.07826551  </td><td>  1.66735901 </td><td>-2.42016841  </td><td> -0.81289125 </td><td> 0.13308012  </td><td>-2.21431131  </td><td> -5.13445447 </td><td> 4.56072011  </td><td> -8.87374836 </td><td>-0.79748360  </td><td> -9.177166370</td><td>-0.25702478  </td><td> -0.87168849 </td><td>  1.31301363 </td><td> 0.77391387  </td><td>-2.3705995   </td><td> 0.269772776 </td><td> 0.156617169 </td><td>-0.65245044  </td><td>-0.551572219 </td><td>-0.716521635 </td><td> 1.41571662  </td><td> 0.555264740 </td><td> 0.530507389 </td><td> 0.404474055 </td><td>  1.00       </td><td>fraud        </td></tr>\n",
       "\t<tr><th scope=row>9860</th><td>14528        </td><td>  1.1623773  </td><td>-0.119161338 </td><td>  0.8568112  </td><td> 0.16112496  </td><td> -0.61334508 </td><td>-0.04525944  </td><td> -0.64174667 </td><td> 0.10315791  </td><td> 1.52422399  </td><td> -0.38510467 </td><td> 2.50168589  </td><td> -1.77313414 </td><td> 1.34999971  </td><td>  1.766331713</td><td> 0.16865853  </td><td>  0.40776746 </td><td>  0.33997209 </td><td> 0.24397168  </td><td>-0.4684681   </td><td>-0.124856277 </td><td> 0.008124261 </td><td> 0.26797347  </td><td> 0.006647708 </td><td> 0.038296252 </td><td> 0.09353337  </td><td> 1.044329013 </td><td>-0.078824294 </td><td>-0.008584845 </td><td> 14.95       </td><td>legit        </td></tr>\n",
       "\t<tr><th scope=row>10631</th><td>17838        </td><td> -5.1878781  </td><td> 6.967708664 </td><td>-13.5109311  </td><td> 8.61789514  </td><td>-11.21442239 </td><td> 0.67224784  </td><td> -9.46253281 </td><td> 5.32870421  </td><td>-4.89700553  </td><td>-11.78681166 </td><td> 9.36907906  </td><td>-15.09416315 </td><td> 1.25637701  </td><td>-11.852161304</td><td> 0.27442981  </td><td>-10.68824179 </td><td>-18.38881054 </td><td>-6.89884013  </td><td> 2.3828079   </td><td>-0.623737292 </td><td> 2.086083001 </td><td> 0.76019024  </td><td> 0.716805786 </td><td>-0.646743430 </td><td>-1.61704293  </td><td> 0.172346890 </td><td> 0.626646781 </td><td>-0.169726031 </td><td>766.36       </td><td>fraud        </td></tr>\n",
       "\t<tr><th scope=row>12071</th><td>20931        </td><td>-16.3679230  </td><td> 9.223691949 </td><td>-23.2706305  </td><td>11.84477659  </td><td> -9.46203715 </td><td>-2.45044437  </td><td>-16.92515204 </td><td> 1.38420848  </td><td>-6.28773595  </td><td>-13.00270930 </td><td> 9.69146098  </td><td>-13.88659516 </td><td> 0.83836138  </td><td>-13.517072408</td><td>-0.37791061  </td><td> -7.85568149 </td><td>-11.80381519 </td><td>-4.76102594  </td><td> 0.6186244   </td><td> 0.993584599 </td><td>-2.343673594 </td><td> 1.00460241  </td><td> 1.188212157 </td><td>-1.047183768 </td><td>-0.03557277  </td><td> 0.664899774 </td><td> 2.122795754 </td><td>-1.416740615 </td><td>  1.00       </td><td>fraud        </td></tr>\n",
       "\t<tr><th scope=row>12575</th><td>22026        </td><td>  1.0186450  </td><td>-0.663453500 </td><td>  0.6827086  </td><td> 0.09055358  </td><td> -0.37517265 </td><td> 1.16927059  </td><td> -0.79388005 </td><td> 0.28766739  </td><td> 2.24003626  </td><td> -0.75325717 </td><td> 1.09256064  </td><td> -1.34414363 </td><td> 2.09789291  </td><td>  0.983804161</td><td>-1.43100900  </td><td>  0.09106664 </td><td>  0.46201469 </td><td> 0.03717618  </td><td> 0.5995733   </td><td> 0.122461725 </td><td>-0.317354928 </td><td>-0.60977983  </td><td>-0.127186932 </td><td>-1.108340962 </td><td> 0.14203488  </td><td> 0.976383804 </td><td>-0.065747877 </td><td> 0.000691258 </td><td>108.08       </td><td>legit        </td></tr>\n",
       "\t<tr><th scope=row>15540</th><td>26931        </td><td>-22.5616993  </td><td>13.208904284 </td><td>-24.6438188  </td><td> 6.23253182  </td><td>-16.90561136 </td><td>-4.49743872  </td><td>-16.81018419 </td><td>14.95510677  </td><td>-3.87129682  </td><td> -8.58126552 </td><td> 5.25698761  </td><td> -7.39361499 </td><td> 0.53880083  </td><td> -7.577552018</td><td>-0.03072553  </td><td> -6.45478324 </td><td>-12.84565652 </td><td>-4.86591774  </td><td> 1.0624419   </td><td> 1.621444225 </td><td> 1.765986636 </td><td>-1.63551665  </td><td>-0.998316503 </td><td> 0.138972227 </td><td> 1.55935014  </td><td>-0.222124517 </td><td> 1.504424660 </td><td> 0.445919826 </td><td> 99.99       </td><td>fraud        </td></tr>\n",
       "\t<tr><th scope=row>15861</th><td>27305        </td><td>  1.2277634  </td><td>-0.268362391 </td><td>  0.3687089  </td><td>-0.66688615  </td><td> -0.82260592 </td><td>-1.04574289  </td><td> -0.06753734 </td><td>-0.18051943  </td><td> 1.57382841  </td><td> -1.12612983 </td><td>-0.48473711  </td><td>  0.91158487 </td><td>-0.11220667  </td><td>  0.007957293</td><td> 0.50865667  </td><td> -0.97953820 </td><td>  0.17339616 </td><td>-0.40002421  </td><td> 0.9536946   </td><td>-0.095041177 </td><td>-0.242381018 </td><td>-0.46762056  </td><td>-0.021543682 </td><td> 0.392087957 </td><td> 0.60924235  </td><td>-0.844187433 </td><td> 0.063717081 </td><td> 0.029479580 </td><td> 25.18       </td><td>legit        </td></tr>\n",
       "\t<tr><th scope=row>17283</th><td>28597        </td><td> -0.9211385  </td><td> 0.413912044 </td><td>  0.6611643  </td><td>-0.36772037  </td><td>  0.09053586 </td><td> 1.76321134  </td><td>  2.20141751 </td><td>-0.14411599  </td><td>-0.49589175  </td><td> -0.44179153 </td><td>-0.22894036  </td><td> -0.44641219 </td><td>-0.52785842  </td><td>  0.161862643</td><td> 0.19968063  </td><td>  0.87620824 </td><td> -1.47166526 </td><td> 0.61910966  </td><td>-0.4020125   </td><td>-0.059255181 </td><td>-0.090109049 </td><td>-0.15216227  </td><td>-0.204502188 </td><td>-1.754789726 </td><td> 0.24796809  </td><td>-0.514182498 </td><td>-0.054254771 </td><td>-0.233403395 </td><td>341.82       </td><td>legit        </td></tr>\n",
       "\t<tr><th scope=row>17454</th><td>28726        </td><td>-29.8763655  </td><td>16.434524551 </td><td>-30.5586968  </td><td> 6.50586179  </td><td>-21.66565430 </td><td>-4.94035633  </td><td>-20.08139107 </td><td>19.58777262  </td><td>-3.59149105  </td><td> -7.80059821 </td><td> 3.94783972  </td><td> -5.48791149 </td><td> 1.36994035  </td><td> -4.829552443</td><td>-0.13441210  </td><td> -5.12116240 </td><td>-11.11819045 </td><td>-4.65995587  </td><td> 0.6089301   </td><td> 1.724778838 </td><td> 1.812953975 </td><td>-2.23225159  </td><td>-1.412803443 </td><td> 0.178731070 </td><td> 2.15604186  </td><td>-0.209384624 </td><td> 1.255648901 </td><td> 0.364530453 </td><td> 99.99       </td><td>fraud        </td></tr>\n",
       "\t<tr><th scope=row>20199</th><td>30852        </td><td> -2.8309841  </td><td> 0.885657038 </td><td>  1.1999301  </td><td> 2.86129224  </td><td>  0.32166878 </td><td> 0.28996603  </td><td>  1.76776045 </td><td>-2.45104966  </td><td> 0.06973581  </td><td>  3.24508640 </td><td> 0.67528785  </td><td> -0.67709633 </td><td>-0.22274113  </td><td> -0.913786971</td><td> 1.60333192  </td><td> -1.02450209 </td><td>  0.02204521 </td><td>-0.94068467  </td><td> 0.4847589   </td><td>-1.016923144 </td><td> 0.546589340 </td><td> 0.33497074  </td><td> 0.172105676 </td><td> 0.623590288 </td><td>-0.52711432  </td><td>-0.079214654 </td><td>-2.532445298 </td><td> 0.311176715 </td><td>104.81       </td><td>fraud        </td></tr>\n",
       "\t<tr><th scope=row>22837</th><td>32454        </td><td> -1.4547897  </td><td> 1.991615929 </td><td> -1.9112037  </td><td> 1.04257070  </td><td>  1.09245467 </td><td>-1.45114514  </td><td>  2.60871392 </td><td>-1.71240223  </td><td> 2.55524074  </td><td>  3.58944888 </td><td> 3.34925748  </td><td> -1.08516574 </td><td>-1.53349070  </td><td> -5.399875912</td><td> 0.95682344  </td><td>  0.31114103 </td><td>  1.80275441 </td><td> 1.69655341  </td><td>-0.3739342   </td><td> 1.283314503 </td><td>-0.948698443 </td><td>-0.03743122  </td><td> 0.129593676 </td><td> 0.135783928 </td><td>-0.20565080  </td><td>-0.638982902 </td><td>-0.655919355 </td><td>-0.933288175 </td><td> 89.99       </td><td>legit        </td></tr>\n",
       "\t<tr><th scope=row>30443</th><td>35926        </td><td> -3.8965826  </td><td> 4.518354703 </td><td> -4.4540272  </td><td> 5.54745335  </td><td> -4.12145857 </td><td>-1.16340666  </td><td> -6.80505305 </td><td> 2.92835625  </td><td>-4.91712960  </td><td> -6.60046062 </td><td> 3.36784561  </td><td> -7.88897752 </td><td> 1.68260347  </td><td> -7.628651916</td><td> 0.77924600  </td><td> -7.53340433 </td><td>-14.06462394 </td><td>-4.96010863  </td><td> 2.5257849   </td><td> 0.757286727 </td><td> 1.691042030 </td><td> 0.92002058  </td><td>-0.151103893 </td><td> 0.011006878 </td><td> 0.08030327  </td><td> 0.412191351 </td><td> 0.635788871 </td><td> 0.501049550 </td><td>  4.56       </td><td>fraud        </td></tr>\n",
       "\t<tr><th scope=row>33277</th><td>37167        </td><td> -7.9238907  </td><td>-5.198360199 </td><td> -3.0000239  </td><td> 4.42066620  </td><td>  2.27219396 </td><td>-3.39448343  </td><td> -5.28343533 </td><td> 0.13161892  </td><td> 0.65817643  </td><td> -0.79499388 </td><td> 3.26606602  </td><td> -2.71918495 </td><td>-0.12410396  </td><td> -5.274865819</td><td> 0.63857500  </td><td> -2.99583038 </td><td> -4.69843345 </td><td>-1.71187122  </td><td> 3.0252610   </td><td>-2.169810892 </td><td>-0.734307917 </td><td>-0.59992626  </td><td>-4.908301176 </td><td> 0.410170235 </td><td>-1.16766025  </td><td> 0.520507647 </td><td> 1.937421403 </td><td>-1.552592839 </td><td> 12.31       </td><td>fraud        </td></tr>\n",
       "\t<tr><th scope=row>37921</th><td>39170        </td><td>  0.3636402  </td><td>-2.270005930 </td><td> -0.6372722  </td><td>-0.19946094  </td><td> -1.31415784 </td><td>-0.38911825  </td><td>  0.28674103 </td><td>-0.19673961  </td><td>-0.91636516  </td><td>  0.58174121 </td><td> 0.46909094  </td><td> -0.07005427 </td><td>-0.98177418  </td><td>  0.555295549</td><td>-0.52167351  </td><td> -1.37926483 </td><td>  0.02837728 </td><td> 1.45274232  </td><td>-0.2107835   </td><td> 0.521149366 </td><td>-0.112647575 </td><td>-1.01187794  </td><td>-0.509240547 </td><td> 0.057131741 </td><td> 0.21268525  </td><td> 1.042039560 </td><td>-0.180796500 </td><td> 0.074035571 </td><td>535.55       </td><td>legit        </td></tr>\n",
       "\t<tr><th scope=row>42010</th><td>40919        </td><td> -2.7404825  </td><td> 3.658094820 </td><td> -4.1106355  </td><td> 5.34024167  </td><td> -2.66677476 </td><td>-0.09278181  </td><td> -4.38869881 </td><td>-0.28013271  </td><td>-2.82189458  </td><td> -4.46628416 </td><td> 3.96979981  </td><td> -7.34671679 </td><td>-1.16331177  </td><td> -8.225568912</td><td> 0.82500183  </td><td> -6.77286703 </td><td> -8.81578543 </td><td>-4.56885928  </td><td> 1.1265987   </td><td> 0.185325270 </td><td> 2.417495412 </td><td>-0.09771195  </td><td> 0.382154507 </td><td>-0.154756520 </td><td>-0.40395593  </td><td> 0.277894930 </td><td> 0.830061639 </td><td> 0.218690442 </td><td>112.33       </td><td>fraud        </td></tr>\n",
       "\t<tr><th scope=row>42204</th><td>40993        </td><td>  0.1848935  </td><td> 0.685539251 </td><td> -0.1890893  </td><td> 0.29632521  </td><td>  2.68785692 </td><td> 3.59115829  </td><td>  0.31747548 </td><td> 0.62737967  </td><td>-0.77436995  </td><td>  0.32268226 </td><td> 0.04531094  </td><td> -0.27650209 </td><td> 0.01484597  </td><td>  0.393538352</td><td> 1.76088477  </td><td> -0.35095523 </td><td> -0.40651310 </td><td> 0.08511029  </td><td> 2.0017300   </td><td> 0.334150175 </td><td>-0.456246489 </td><td>-1.31916835  </td><td> 0.152678899 </td><td> 0.929696877 </td><td>-0.53437640  </td><td>-0.704226514 </td><td>-0.036177311 </td><td>-0.134901138 </td><td> 17.18       </td><td>legit        </td></tr>\n",
       "\t<tr><th scope=row>42550</th><td>41147        </td><td> -5.3141732  </td><td> 4.145943611 </td><td> -8.5325225  </td><td> 8.34439167  </td><td> -5.71800821 </td><td>-3.04353608  </td><td>-10.98918467 </td><td> 3.40412866  </td><td>-6.16723364  </td><td>-11.43562400 </td><td> 7.67453383  </td><td>-14.29609143 </td><td> 0.52693892  </td><td>-15.445025812</td><td> 0.99165120  </td><td>-12.39134600 </td><td>-22.54165173 </td><td>-7.98672065  </td><td> 2.9925545   </td><td> 1.150017319 </td><td> 2.331465808 </td><td> 0.86299631  </td><td>-0.614453238 </td><td> 0.523647877 </td><td>-0.71259327  </td><td> 0.324637965 </td><td> 2.245091466 </td><td> 0.497320849 </td><td> 88.23       </td><td>fraud        </td></tr>\n",
       "\t<tr><th scope=row>42610</th><td>41170        </td><td> -6.4980862  </td><td> 4.750514660 </td><td> -8.9665578  </td><td> 7.09885431  </td><td> -6.95837622 </td><td>-2.82212619  </td><td>-10.33340566 </td><td> 4.03190730  </td><td>-6.64877821  </td><td>-11.63441442 </td><td> 6.87757090  </td><td>-13.69768562 </td><td> 0.46304040  </td><td>-13.044182400</td><td>-0.30922927  </td><td>-12.31757972 </td><td>-24.01909855 </td><td>-9.33519308  </td><td> 1.9518905   </td><td> 0.568338011 </td><td> 2.158143084 </td><td> 0.11151036  </td><td> 0.216413836 </td><td> 0.584661255 </td><td> 0.76035951  </td><td> 0.081972343 </td><td> 1.415067511 </td><td> 0.035124145 </td><td> 83.38       </td><td>fraud        </td></tr>\n",
       "\t<tr><th scope=row>42785</th><td>41243        </td><td>-10.9407391  </td><td> 6.261585851 </td><td>-14.1823388  </td><td> 7.18360209  </td><td> -9.95136334 </td><td>-3.86082034  </td><td>-13.54730219 </td><td> 7.09647165  </td><td>-6.29402944  </td><td>-13.60814316 </td><td> 7.12716532  </td><td>-12.61100369 </td><td> 1.21455640  </td><td>-13.906296824</td><td> 1.51406991  </td><td>-11.12573906 </td><td>-19.71625731 </td><td>-7.55278909  </td><td> 3.6567871   </td><td>-0.088342082 </td><td> 2.267448261 </td><td>-0.49202917  </td><td>-0.239302866 </td><td> 0.454368210 </td><td>-0.10161106  </td><td> 0.446996733 </td><td> 0.062292647 </td><td>-0.439769900 </td><td> 45.49       </td><td>fraud        </td></tr>\n",
       "\t<tr><th scope=row>43080</th><td>41362        </td><td> -0.5184384  </td><td> 0.763880716 </td><td>  1.7069263  </td><td> 1.10322281  </td><td>  0.11441029 </td><td> 0.43875182  </td><td>  0.26755098 </td><td> 0.25249801  </td><td>-0.35489625  </td><td> -0.07962998 </td><td> 1.05816268  </td><td>  0.76530107 </td><td>-0.46814487  </td><td>  0.178903186</td><td>-0.28542480  </td><td> -0.87249042 </td><td>  0.33221006 </td><td>-0.16550739  </td><td> 1.1073099   </td><td>-0.036007268 </td><td>-0.043718590 </td><td> 0.01761756  </td><td> 0.002954644 </td><td>-0.002241227 </td><td>-0.47710550  </td><td>-0.464451042 </td><td> 0.069772039 </td><td> 0.155685072 </td><td>  7.84       </td><td>legit        </td></tr>\n",
       "\t<tr><th scope=row>47024</th><td>43042        </td><td> -0.8474250  </td><td> 0.548680082 </td><td>  2.6144622  </td><td> 1.29284830  </td><td> -0.46503944 </td><td> 0.82619948  </td><td> -0.36494514 </td><td>-0.39302501  </td><td> 0.34652657  </td><td> -0.45181836 </td><td>-1.03218167  </td><td>  0.96044096 </td><td> 0.37079832  </td><td> -1.250658784</td><td>-2.66971833  </td><td> -0.39688207 </td><td>  0.54498088 </td><td>-1.52623359  </td><td>-0.9504169   </td><td>-0.372598483 </td><td> 0.547418982 </td><td>-0.44952821  </td><td> 0.115867333 </td><td> 0.455806028 </td><td>-0.35894839  </td><td> 0.714345617 </td><td> 0.103305716 </td><td> 0.033279760 </td><td> 22.00       </td><td>legit        </td></tr>\n",
       "\t<tr><th scope=row>50820</th><td>44663        </td><td> -1.4223984  </td><td>-0.166827843 </td><td> -0.2254593  </td><td>-1.67639857  </td><td> -1.12955271 </td><td>-0.20469918  </td><td>  1.95892380 </td><td> 0.28118916  </td><td> 0.18580141  </td><td> -1.85334327 </td><td> 1.38764992  </td><td>  1.78643948 </td><td> 0.43232372  </td><td>  0.604388340</td><td>-0.65247944  </td><td> -0.94490360 </td><td>  0.02888513 </td><td>-0.11915441  </td><td>-0.1040951   </td><td> 0.711289109 </td><td> 0.462949721 </td><td> 0.86207455  </td><td> 0.824033050 </td><td> 0.217114835 </td><td> 0.01199123  </td><td>-0.832999717 </td><td> 0.194471969 </td><td> 0.198743560 </td><td>406.00       </td><td>legit        </td></tr>\n",
       "\t<tr><th scope=row>53282</th><td>45902        </td><td>  0.9849361  </td><td> 0.478444535 </td><td>  1.2732746  </td><td> 3.79607001  </td><td> -0.28052428 </td><td> 0.50543947  </td><td> -0.16535667 </td><td> 0.24188852  </td><td>-1.04383358  </td><td>  1.18314420 </td><td> 0.66743420  </td><td>  0.61604000 </td><td>-0.27529729  </td><td>  0.046952385</td><td>-1.60035332  </td><td>  0.95387164 </td><td> -0.67002831 </td><td>-0.21005516  </td><td>-0.8304400   </td><td>-0.110174941 </td><td>-0.291157701 </td><td>-0.92038215  </td><td> 0.127647593 </td><td> 0.259364186 </td><td> 0.17424820  </td><td>-0.301028062 </td><td> 0.002962317 </td><td> 0.030579843 </td><td> 42.12       </td><td>legit        </td></tr>\n",
       "\t<tr><th scope=row>57471</th><td>47923        </td><td>  0.3643770  </td><td> 1.443523465 </td><td> -2.2209074  </td><td> 2.03698509  </td><td> -1.23705503 </td><td>-1.72816101  </td><td> -2.05858236 </td><td> 0.35889508  </td><td>-1.39330571  </td><td> -3.50579033 </td><td> 2.81431415  </td><td> -3.34217600 </td><td>-0.15026937  </td><td> -4.820322244</td><td> 1.10260956  </td><td> -3.15703267 </td><td> -4.40585022 </td><td>-2.55882785  </td><td>-0.2088095   </td><td> 0.310979603 </td><td> 0.402729681 </td><td>-0.13212889  </td><td>-0.032977176 </td><td> 0.460860837 </td><td> 0.56040380  </td><td> 0.409366102 </td><td> 0.539668285 </td><td> 0.296918378 </td><td>  0.76       </td><td>fraud        </td></tr>\n",
       "\t<tr><th scope=row>60807</th><td>49514        </td><td>  1.2151259  </td><td> 0.003617073 </td><td> -0.3384596  </td><td> 0.67677243  </td><td>  0.39894247 </td><td> 0.54266768  </td><td> -0.12447435 </td><td> 0.26542738  </td><td> 0.16110469  </td><td>  0.20154268 </td><td>-0.06413205  </td><td> -0.71586714 </td><td>-2.19831496  </td><td>  1.001576489</td><td> 0.82643940  </td><td>  0.45373795 </td><td> -0.75007478 </td><td> 0.61954972  </td><td> 0.0733976   </td><td>-0.233206703 </td><td> 0.003392301 </td><td>-0.09264672  </td><td>-0.235133336 </td><td>-1.366952200 </td><td> 0.67732653  </td><td>-0.227534096 </td><td> 0.005968488 </td><td>-0.008569023 </td><td> 22.71       </td><td>legit        </td></tr>\n",
       "\t<tr><th scope=row>62503</th><td>50294        </td><td> -0.5603318  </td><td> 0.954909950 </td><td> -0.4684488  </td><td> 0.69464145  </td><td>  0.22784101 </td><td> 0.20825850  </td><td>  0.91792062 </td><td> 0.49066121  </td><td>-0.91762388  </td><td> -0.02936818 </td><td> 0.46416854  </td><td>  0.17356900 </td><td>-0.75220906  </td><td>  1.190645136</td><td> 0.32158110  </td><td> -0.29757999 </td><td> -0.15184136 </td><td> 0.35653561  </td><td> 0.5911682   </td><td> 0.183716647 </td><td> 0.292660036 </td><td> 0.66975019  </td><td> 0.283372737 </td><td>-0.687788818 </td><td>-0.73137164  </td><td>-0.362366671 </td><td> 0.329781138 </td><td> 0.226144263 </td><td>132.92       </td><td>legit        </td></tr>\n",
       "\t<tr><th scope=row>64330</th><td>51112        </td><td> -9.8487758  </td><td> 7.365546486 </td><td>-12.8985382  </td><td> 4.27332307  </td><td> -7.61199101 </td><td>-3.42704524  </td><td> -8.35080815 </td><td> 6.86360392  </td><td>-2.38756733  </td><td> -6.06578236 </td><td> 2.70785641  </td><td> -6.13603447 </td><td>-0.54597610  </td><td> -7.028980273</td><td> 0.91606857  </td><td> -4.09288449 </td><td> -7.01462171 </td><td>-2.53096726  </td><td> 0.5540275   </td><td> 0.832398066 </td><td> 0.931958309 </td><td>-0.87446736  </td><td>-0.192639469 </td><td>-0.035426027 </td><td> 0.53866505  </td><td>-0.263933517 </td><td> 1.134095094 </td><td> 0.225973164 </td><td> 99.99       </td><td>fraud        </td></tr>\n",
       "\t<tr><th scope=row>64735</th><td>51283        </td><td>  1.0508756  </td><td> 0.217431233 </td><td>  1.4411366  </td><td> 2.35972502  </td><td> -0.55837135 </td><td> 0.68327779  </td><td> -0.72079293 </td><td> 0.41101712  </td><td>-0.42978702  </td><td>  0.76989519 </td><td> 1.23649765  </td><td>  0.46780626 </td><td>-0.32286578  </td><td>  0.201268937</td><td> 0.51139565  </td><td>  1.08157304 </td><td> -0.79514909 </td><td> 0.28797761  </td><td>-1.3340772   </td><td>-0.177014943 </td><td> 0.157032697 </td><td> 0.41396177  </td><td> 0.054541689 </td><td>-0.011893095 </td><td> 0.11292857  </td><td> 0.003943672 </td><td> 0.043541449 </td><td> 0.024706725 </td><td>  4.95       </td><td>legit        </td></tr>\n",
       "\t<tr><th scope=row>...</th><td>...</td><td>...</td><td>...</td><td>...</td><td>...</td><td>...</td><td>...</td><td>...</td><td>...</td><td>...</td><td>...</td><td>...</td><td>...</td><td>...</td><td>...</td><td>...</td><td>...</td><td>...</td><td>...</td><td>...</td><td>...</td><td>...</td><td>...</td><td>...</td><td>...</td><td>...</td><td>...</td><td>...</td><td>...</td><td>...</td><td>...</td></tr>\n",
       "\t<tr><th scope=row>224753</th><td>143948       </td><td>-1.28053968  </td><td> 0.26597367  </td><td> 0.63593486  </td><td> 0.6001149   </td><td> 1.28275387  </td><td> 1.9286552   </td><td>-0.6765347   </td><td>  1.29259040 </td><td>-0.32429219  </td><td>-0.30338051  </td><td> 0.4176991   </td><td> 0.40613398  </td><td>-0.66614555  </td><td>  0.72091312 </td><td> 0.907796761 </td><td>-0.42530020  </td><td> 0.23121456  </td><td>-0.35529084  </td><td> 0.07761011  </td><td> 0.1426280839</td><td>-0.0002953565</td><td>-0.18652618  </td><td> 0.10026893  </td><td>-1.030534700 </td><td>-0.65202916  </td><td>-0.73133804  </td><td> 0.387883239 </td><td> 0.050308292 </td><td> 12.90       </td><td>legit        </td></tr>\n",
       "\t<tr><th scope=row>226878</th><td>144839       </td><td>-6.42330646  </td><td> 1.65851451  </td><td>-5.86643956  </td><td> 2.0520644   </td><td>-0.61581684  </td><td>-3.3722657   </td><td>-5.0365558   </td><td>  2.64310601 </td><td>-2.27463005  </td><td>-7.04922936  </td><td> 3.9168026   </td><td>-4.48127960  </td><td>-1.02747933  </td><td> -7.11387278 </td><td>-0.852775230 </td><td>-3.83955997  </td><td>-5.05600999  </td><td>-1.34449753  </td><td> 1.14847294  </td><td>-0.7135158108</td><td> 0.6412109159</td><td>-0.25667838  </td><td>-2.33723276  </td><td>-0.158277898 </td><td> 1.19879744  </td><td>-0.26125781  </td><td> 0.780125484 </td><td>-0.731800816 </td><td>  0.00       </td><td>fraud        </td></tr>\n",
       "\t<tr><th scope=row>230477</th><td>146344       </td><td>-0.09972390  </td><td> 2.79541433  </td><td>-6.42385558  </td><td> 3.2475130   </td><td>-1.63229027  </td><td>-2.7666649   </td><td>-2.3122229   </td><td>  0.96101412 </td><td>-1.89600096  </td><td>-4.91934830  </td><td> 3.0536544   </td><td>-5.29781140  </td><td>-1.46602973  </td><td> -7.03588005 </td><td> 1.997132372 </td><td>-3.83618853  </td><td>-2.51518280  </td><td>-0.86457871  </td><td> 2.32892697  </td><td> 0.3408983157</td><td> 0.6477143884</td><td> 0.12657586  </td><td> 0.20395348  </td><td> 0.008494998 </td><td>-0.17450115  </td><td> 0.57529480  </td><td> 0.152875891 </td><td>-0.098172810 </td><td> 94.82       </td><td>fraud        </td></tr>\n",
       "\t<tr><th scope=row>234323</th><td>147925       </td><td> 1.86829941  </td><td>-0.18319768  </td><td>-1.92874891  </td><td> 0.4190681   </td><td> 0.30516272  </td><td>-0.7316724   </td><td> 0.1720074   </td><td> -0.18374914 </td><td> 1.00438791  </td><td>-0.94965043  </td><td>-0.5214215   </td><td> 0.22932993  </td><td>-0.08785723  </td><td> -1.59121367 </td><td>-0.007122014 </td><td> 0.04023847  </td><td> 1.18083978  </td><td> 0.07867180  </td><td> 0.06373323  </td><td> 0.0175400637</td><td>-0.2117561146</td><td>-0.56279978  </td><td> 0.13697616  </td><td> 0.478427331 </td><td>-0.07363433  </td><td>-0.12067790  </td><td>-0.022612639 </td><td> 0.001784016 </td><td> 93.61       </td><td>legit        </td></tr>\n",
       "\t<tr><th scope=row>234634</th><td>148053       </td><td> 1.26132424  </td><td> 2.72680029  </td><td>-5.43501891  </td><td> 5.3427590   </td><td> 1.44704302  </td><td>-1.4425841   </td><td>-0.8987019   </td><td>  0.12306198 </td><td>-2.74849590  </td><td>-3.20243612  </td><td> 1.9913606   </td><td>-3.98641622  </td><td> 0.57720684  </td><td> -8.48579451 </td><td>-0.794782275 </td><td>-0.66613427  </td><td>-1.37262938  </td><td>-0.10431296  </td><td>-1.46691055  </td><td> 0.3133316345</td><td> 0.2090861361</td><td>-0.42593761  </td><td>-0.15443953  </td><td>-0.018819504 </td><td> 0.63223395  </td><td> 0.19292162  </td><td> 0.468180887 </td><td> 0.280486471 </td><td>  1.59       </td><td>fraud        </td></tr>\n",
       "\t<tr><th scope=row>235635</th><td>148476       </td><td>-1.12509161  </td><td> 3.68287614  </td><td>-6.55616795  </td><td> 4.0167310   </td><td>-0.42557058  </td><td>-2.0312099   </td><td>-2.6501372   </td><td>  1.13124935 </td><td>-2.94688954  </td><td>-4.81640080  </td><td> 2.1557961   </td><td>-6.28512495  </td><td>-1.12562539  </td><td> -6.80009809 </td><td> 0.924933779 </td><td>-5.23960439  </td><td>-5.01790787  </td><td>-1.34930886  </td><td> 2.86860289  </td><td> 0.4522413109</td><td> 1.1855797816</td><td> 1.34815613  </td><td>-0.05368557  </td><td> 0.284121985 </td><td>-1.17446918  </td><td>-0.08783221  </td><td> 0.718789578 </td><td> 0.676215949 </td><td>  0.76       </td><td>fraud        </td></tr>\n",
       "\t<tr><th scope=row>237427</th><td>149236       </td><td>-1.37097577  </td><td>-0.02546461  </td><td>-2.77490692  </td><td> 2.6505302   </td><td> 4.51130929  </td><td>-3.2893437   </td><td>-0.1188414   </td><td> -0.01427945 </td><td>-0.93277284  </td><td>-2.63744174  </td><td> 2.8587765   </td><td>-0.55317994  </td><td>-0.75849200  </td><td> -6.45502910 </td><td>-0.154020882 </td><td> 1.32383298  </td><td> 5.58020925  </td><td> 3.29368759  </td><td>-0.13769358  </td><td> 0.7012918266</td><td>-0.0480610881</td><td>-0.59935003  </td><td> 0.07219299  </td><td>-0.600351420 </td><td> 0.37133062  </td><td>-0.37095099  </td><td> 0.011970249 </td><td> 0.145895339 </td><td>  1.00       </td><td>fraud        </td></tr>\n",
       "\t<tr><th scope=row>238223</th><td>149582       </td><td>-4.28058383  </td><td> 1.42110001  </td><td>-3.90822884  </td><td> 2.9429461   </td><td>-0.07620534  </td><td>-2.0025260   </td><td>-2.8741547   </td><td> -0.85600544 </td><td> 0.96367423  </td><td>-3.23543896  </td><td> 3.3418019   </td><td>-7.56286043  </td><td>-1.84744343  </td><td>-11.57142343 </td><td>-1.481555842 </td><td>-6.18091870  </td><td>-9.28518598  </td><td>-3.92172214  </td><td> 0.68551086  </td><td>-0.1989627800</td><td>-0.1400619951</td><td>-0.90772022  </td><td>-0.68010795  </td><td>-0.349169893 </td><td> 0.05627589  </td><td>-1.14992267  </td><td>-1.809886120 </td><td> 0.723051433 </td><td>  1.10       </td><td>fraud        </td></tr>\n",
       "\t<tr><th scope=row>243750</th><td>152058       </td><td>-3.57636178  </td><td> 3.29943622  </td><td>-7.46043320  </td><td> 7.7836342   </td><td>-0.39854866  </td><td>-1.9684414   </td><td>-3.1104762   </td><td> -0.32840370 </td><td>-1.57436285  </td><td>-2.49756055  </td><td> 4.6041705   </td><td>-9.00191486  </td><td>-1.27632401  </td><td>-13.96947063 </td><td> 1.256945353 </td><td>-4.49162923  </td><td>-5.96998693  </td><td>-1.27466622  </td><td> 1.14778361  </td><td>-0.1814552012</td><td> 0.5407307523</td><td> 0.71952634  </td><td> 0.37924875  </td><td>-0.616961860 </td><td>-0.44281081  </td><td> 0.35984069  </td><td>-2.651824875 </td><td> 0.422184392 </td><td>  1.00       </td><td>fraud        </td></tr>\n",
       "\t<tr><th scope=row>243849</th><td>152098       </td><td>-4.12431625  </td><td> 3.74859690  </td><td>-7.92650661  </td><td> 7.7632418   </td><td>-0.76937458  </td><td>-2.0311709   </td><td>-3.4745495   </td><td>  0.10712141 </td><td>-1.55135159  </td><td>-2.41127201  </td><td> 4.4800353   </td><td>-8.83250973  </td><td>-1.21516414  </td><td>-13.72568461 </td><td> 1.232744415 </td><td>-4.38968768  </td><td>-5.81091982  </td><td>-1.25542240  </td><td> 1.11403305  </td><td>-0.1819785833</td><td> 0.5470968014</td><td> 0.68785388  </td><td> 0.42993870  </td><td>-0.620601279 </td><td>-0.36968829  </td><td> 0.36734875  </td><td>-2.664767095 </td><td> 0.417100622 </td><td>  1.00       </td><td>fraud        </td></tr>\n",
       "\t<tr><th scope=row>244334</th><td>152307       </td><td>-5.22296818  </td><td> 4.64182735  </td><td>-8.85820421  </td><td> 7.7235020   </td><td>-1.50703496  </td><td>-2.1594836   </td><td>-4.2051641   </td><td>  0.97933428 </td><td>-1.50563737  </td><td>-2.23906626  </td><td> 4.2313933   </td><td>-8.49348798  </td><td>-1.09281085  </td><td>-13.23755851 </td><td> 1.184086482 </td><td>-4.18641518  </td><td>-5.49253579  </td><td>-1.21610811  </td><td> 1.04610451  </td><td>-0.1766732481</td><td> 0.5618921740</td><td> 0.62420682  </td><td> 0.53642891  </td><td>-0.628333712 </td><td>-0.22265123  </td><td> 0.38220836  </td><td>-2.693035689 </td><td> 0.407935126 </td><td>  1.00       </td><td>fraud        </td></tr>\n",
       "\t<tr><th scope=row>246391</th><td>153155       </td><td>-1.72642585  </td><td> 0.36499918  </td><td> 2.60942954  </td><td> 1.9781075   </td><td> 0.20395871  </td><td> 3.2983198   </td><td>-0.4185111   </td><td>  0.12564105 </td><td> 1.63646075  </td><td> 0.93619198  </td><td>-0.7629392   </td><td> 0.37395325  </td><td> 0.18497841  </td><td> -1.75719276 </td><td> 0.619867782 </td><td>-2.65945794  </td><td> 1.64266281  </td><td>-1.23549472  </td><td> 1.86774593  </td><td>-0.1097228064</td><td>-0.0452656643</td><td> 0.76898051  </td><td>-0.15067658  </td><td>-0.297082342 </td><td>-0.02222508  </td><td>-0.16282765  </td><td>-1.289691779 </td><td>-0.113153083 </td><td> 27.90       </td><td>legit        </td></tr>\n",
       "\t<tr><th scope=row>248462</th><td>153951       </td><td> 0.06034298  </td><td> 1.26966217  </td><td>-0.36526512  </td><td> 0.7903099   </td><td> 1.07757853  </td><td> 0.3007149   </td><td> 0.6488872   </td><td> -0.12734217 </td><td>-0.46149696  </td><td>-0.14982182  </td><td>-1.4150336   </td><td>-0.96150454  </td><td>-0.11821458  </td><td> -0.77226857 </td><td> 1.573706352 </td><td>-0.53771176  </td><td> 1.13106136  </td><td> 0.55082881  </td><td> 3.16268338  </td><td> 0.2673265811</td><td>-0.2938233770</td><td>-0.80862262  </td><td>-0.10561124  </td><td>-0.388168791 </td><td>-0.66152634  </td><td> 0.61347390  </td><td>-0.110118767 </td><td> 0.187455778 </td><td>  1.29       </td><td>legit        </td></tr>\n",
       "\t<tr><th scope=row>248972</th><td>154181       </td><td>-0.54961544  </td><td> 2.21907469  </td><td>-3.52202432  </td><td> 0.2369952   </td><td> 1.08746886  </td><td>-1.2355301   </td><td>-0.2793126   </td><td>  0.51436071 </td><td>-1.84992742  </td><td>-3.44381902  </td><td> 2.2140003   </td><td>-1.68983551  </td><td> 0.49843768  </td><td> -4.39363360 </td><td>-1.270841395 </td><td>-1.17662872  </td><td>-1.85973897  </td><td>-0.04941859  </td><td> 0.38526261  </td><td> 0.1265179435</td><td> 0.3641302406</td><td> 0.21042809  </td><td>-0.36601866  </td><td> 0.015802567 </td><td> 0.34921154  </td><td> 0.64730228  </td><td> 0.171929195 </td><td> 0.117188228 </td><td>  0.76       </td><td>fraud        </td></tr>\n",
       "\t<tr><th scope=row>251355</th><td>155320       </td><td> 2.10094541  </td><td>-1.11355879  </td><td>-0.82867059  </td><td>-0.9922557   </td><td>-0.72489753  </td><td>-0.1706909   </td><td>-0.8711999   </td><td> -0.08928474 </td><td> 0.08408124  </td><td> 0.66350149  </td><td>-1.5281755   </td><td>-0.48002562  </td><td> 0.83272909  </td><td> -0.57315099 </td><td> 0.300057030 </td><td> 1.49051946  </td><td>-0.22229438  </td><td>-1.30451951  </td><td> 0.92000082  </td><td> 0.1476645186</td><td>-0.0638722146</td><td>-0.27522270  </td><td> 0.20378123  </td><td>-1.075842991 </td><td>-0.38291912  </td><td>-0.42509535  </td><td> 0.005355856 </td><td>-0.039251805 </td><td> 73.97       </td><td>legit        </td></tr>\n",
       "\t<tr><th scope=row>251882</th><td>155542       </td><td> 1.86822575  </td><td> 1.36307704  </td><td>-1.99493428  </td><td> 4.1735157   </td><td> 1.23975095  </td><td>-0.7461865   </td><td> 0.5727305   </td><td> -0.13123484 </td><td>-1.55183852  </td><td> 0.22884943  </td><td> 1.7018947   </td><td> 0.14462239  </td><td> 0.10408768  </td><td> -2.95416672 </td><td>-1.374121926 </td><td> 1.88941746  </td><td> 1.71451074  </td><td> 1.10465991  </td><td>-1.59744021  </td><td>-0.1722164975</td><td>-0.3010014814</td><td>-0.81897228  </td><td> 0.20681231  </td><td>-0.263683032 </td><td>-0.11495810  </td><td>-0.24067212  </td><td>-0.006629449 </td><td> 0.017257735 </td><td>  3.14       </td><td>fraud        </td></tr>\n",
       "\t<tr><th scope=row>254396</th><td>156710       </td><td> 0.20240231  </td><td> 1.17627022  </td><td> 0.34637912  </td><td> 2.8821378   </td><td> 1.40713333  </td><td>-0.5043546   </td><td> 1.4385375   </td><td> -0.39560348 </td><td>-1.55514162  </td><td> 1.08151399  </td><td>-1.5142047   </td><td>-0.97376404  </td><td>-0.70992848  </td><td>  0.14133168 </td><td>-1.470314152 </td><td> 0.41826835  </td><td>-0.82819250  </td><td>-0.30223942  </td><td>-1.76235002  </td><td>-0.2062387911</td><td> 0.2425604691</td><td> 0.84123012  </td><td>-0.37015660  </td><td>-0.026012380 </td><td> 0.49195423  </td><td> 0.23457626  </td><td>-0.279788418 </td><td>-0.331933388 </td><td>  7.59       </td><td>fraud        </td></tr>\n",
       "\t<tr><th scope=row>256653</th><td>157795       </td><td>-1.10001608  </td><td> 0.29121195  </td><td> 0.15720477  </td><td>-0.6308054   </td><td> 0.04534429  </td><td> 0.3707547   </td><td> 0.9883642   </td><td>  0.47696022 </td><td>-0.68899412  </td><td>-0.99670312  </td><td> 0.1752929   </td><td> 0.74269444  </td><td> 0.35405210  </td><td>  0.47469588 </td><td>-0.864716847 </td><td> 0.53458582  </td><td>-0.78082902  </td><td> 0.50235661  </td><td> 0.13114253  </td><td> 0.3202927511</td><td> 0.2472275147</td><td> 0.17954008  </td><td> 0.31990555  </td><td> 0.356791277 </td><td>-0.12610860  </td><td> 0.15186872  </td><td>-0.097839477 </td><td> 0.069008090 </td><td>209.85       </td><td>legit        </td></tr>\n",
       "\t<tr><th scope=row>261057</th><td>159844       </td><td>-0.40811082  </td><td> 3.13294450  </td><td>-3.09802976  </td><td> 5.8038926   </td><td> 0.89060892  </td><td>-0.5014743   </td><td>-0.4400543   </td><td>  0.59182827 </td><td>-3.26769326  </td><td>-2.22307033  </td><td> 0.7570632   </td><td>-3.50180378  </td><td> 0.24674222  </td><td> -6.06562188 </td><td> 0.339583134 </td><td>-1.00572315  </td><td> 0.33431562  </td><td> 0.42126136  </td><td> 1.24714263  </td><td> 0.4995679131</td><td> 0.0984823222</td><td>-0.53837471  </td><td>-0.21798899  </td><td>-1.042656617 </td><td> 0.31438882  </td><td> 0.54324358  </td><td> 0.233851015 </td><td> 0.119603461 </td><td> 45.51       </td><td>fraud        </td></tr>\n",
       "\t<tr><th scope=row>263294</th><td>160876       </td><td> 1.86118269  </td><td>-0.33634926  </td><td>-3.15966736  </td><td> 0.3210933   </td><td> 2.85467535  </td><td> 3.3311033   </td><td> 0.1173022   </td><td>  0.65140900 </td><td> 0.03521907  </td><td> 0.24292223  </td><td>-0.2536131   </td><td> 0.32926882  </td><td>-0.38927184  </td><td>  0.74145537 </td><td>-0.137116904 </td><td>-0.74215228  </td><td>-0.26817264  </td><td>-0.67724774  </td><td>-0.30317223  </td><td>-0.0438958686</td><td> 0.0931922784</td><td> 0.18066970  </td><td>-0.04382761  </td><td> 0.711710676 </td><td> 0.47982044  </td><td>-0.48080166  </td><td>-0.014494787 </td><td>-0.053322381 </td><td> 93.04       </td><td>legit        </td></tr>\n",
       "\t<tr><th scope=row>268616</th><td>163305       </td><td>-3.34583680  </td><td> 2.43328269  </td><td>-2.90299924  </td><td>-0.9792475   </td><td>-0.09699691  </td><td>-2.3079888   </td><td> 0.1619791   </td><td>  1.16219394 </td><td> 0.03176385  </td><td> 0.52160825  </td><td>-1.1796342   </td><td> 1.05629051  </td><td> 0.84812820  </td><td>  1.37809448 </td><td>-0.260102749 </td><td>-0.27815196  </td><td> 0.15490481  </td><td>-0.46190121  </td><td>-0.29266388  </td><td>-0.0139475667</td><td> 0.1223242640</td><td> 0.81171573  </td><td>-0.02058601  </td><td> 0.125128081 </td><td> 0.14381487  </td><td> 0.13120351  </td><td> 0.628157161 </td><td> 0.444077698 </td><td>  9.63       </td><td>legit        </td></tr>\n",
       "\t<tr><th scope=row>269238</th><td>163600       </td><td> 2.12702428  </td><td>-0.01353744  </td><td>-1.52258161  </td><td> 0.1184772   </td><td> 0.56229858  </td><td>-0.3433185   </td><td> 0.1703278   </td><td> -0.24068934 </td><td> 0.44678393  </td><td> 0.04121015  </td><td>-1.2788405   </td><td> 0.61827590  </td><td> 1.09797321  </td><td>  0.04003582 </td><td> 0.042374429 </td><td> 0.09956935  </td><td>-0.63530317  </td><td>-0.69710241  </td><td> 0.43477287  </td><td>-0.1139664276</td><td>-0.3345388583</td><td>-0.82164079  </td><td> 0.27329990  </td><td> 0.054768187 </td><td>-0.14951823  </td><td> 0.20529999  </td><td>-0.070839373 </td><td>-0.058685537 </td><td>  1.29       </td><td>legit        </td></tr>\n",
       "\t<tr><th scope=row>270425</th><td>164072       </td><td> 2.20218641  </td><td>-0.76209142  </td><td>-3.38143428  </td><td>-1.4854791   </td><td> 2.38311631  </td><td> 2.9635362   </td><td>-0.3540761   </td><td>  0.53949892 </td><td>-1.02071425  </td><td> 0.97857687  </td><td>-0.2953838   </td><td>-0.06236647  </td><td>-0.06320983  </td><td>  0.63806753 </td><td>-0.055959534 </td><td>-2.21844631  </td><td> 0.10097200  </td><td> 0.42304608  </td><td>-0.72657678  </td><td>-0.5506509609</td><td>-0.2643352753</td><td>-0.22606184  </td><td> 0.08773345  </td><td> 0.747855380 </td><td> 0.27379135  </td><td> 0.84907398  </td><td>-0.078839956 </td><td>-0.086947599 </td><td> 12.50       </td><td>legit        </td></tr>\n",
       "\t<tr><th scope=row>272522</th><td>165132       </td><td>-7.50392624  </td><td>-0.36062801  </td><td>-3.83095228  </td><td> 2.4861029   </td><td> 2.49736678  </td><td> 1.3324369   </td><td>-6.7839638   </td><td>-15.41538492 </td><td> 0.46551161  </td><td>-0.39438126  </td><td> 1.0541072   </td><td> 0.97405852  </td><td>-1.45366802  </td><td> -1.42561991 </td><td> 0.577661575 </td><td> 0.83680776  </td><td> 2.84494962  </td><td> 1.61350956  </td><td> 2.54831266  </td><td>-0.4751264428</td><td>-6.3891318655</td><td> 2.24996439  </td><td> 1.67050827  </td><td> 0.140450002 </td><td> 0.16214741  </td><td> 1.20773091  </td><td> 1.268958468 </td><td> 0.097538236 </td><td> 12.31       </td><td>fraud        </td></tr>\n",
       "\t<tr><th scope=row>274027</th><td>165820       </td><td>-0.32025333  </td><td> 0.80586140  </td><td> 0.03760834  </td><td>-1.0547521   </td><td> 1.48051046  </td><td>-0.6240729   </td><td> 1.1745796   </td><td> -0.27023565 </td><td>-0.29336227  </td><td>-0.75800272  </td><td> 1.1441234   </td><td> 0.60502000  </td><td>-0.03215782  </td><td> -1.02030629 </td><td>-1.282549806 </td><td> 0.48017565  </td><td>-0.11041345  </td><td> 0.08155936  </td><td>-0.49876174  </td><td>-0.1166948477</td><td>-0.1965905053</td><td>-0.45075337  </td><td> 0.04217254  </td><td> 0.612514874 </td><td>-0.95790244  </td><td>-0.11969122  </td><td>-0.151433951 </td><td> 0.011846760 </td><td>  1.79       </td><td>legit        </td></tr>\n",
       "\t<tr><th scope=row>274423</th><td>166001       </td><td> 1.90206595  </td><td>-0.18293396  </td><td>-0.41205853  </td><td> 1.3788477   </td><td>-0.12599070  </td><td> 0.2745853   </td><td>-0.3197065   </td><td>  0.13314559 </td><td> 0.87200490  </td><td> 0.13597723  </td><td> 0.1670564   </td><td> 1.56461365  </td><td> 0.24774165  </td><td> -0.18285564 </td><td>-1.892615558 </td><td>-0.19453866  </td><td>-0.41432712  </td><td>-0.40635113  </td><td> 0.57508915  </td><td>-0.2373531597</td><td>-0.4848486763</td><td>-1.10890032  </td><td> 0.37361899  </td><td>-0.537620908 </td><td>-0.29644876  </td><td>-1.09692550  </td><td> 0.055883552 </td><td>-0.043139307 </td><td> 12.19       </td><td>legit        </td></tr>\n",
       "\t<tr><th scope=row>275993</th><td>166831       </td><td>-2.02713542  </td><td>-1.13189036  </td><td>-1.13519425  </td><td> 1.0869626   </td><td>-0.01054735  </td><td> 0.4237967   </td><td> 3.7908802   </td><td> -1.15559510 </td><td>-0.06343357  </td><td> 1.33441406  </td><td> 1.0320156   </td><td>-0.72202308  </td><td>-1.53323965  </td><td>  0.33411945 </td><td> 0.297478860 </td><td>-0.42939190  </td><td>-0.82464421  </td><td> 0.48966780  </td><td> 0.87334427  </td><td> 0.0338040155</td><td>-0.3151045596</td><td> 0.57551970  </td><td> 0.49084201  </td><td> 0.756502366 </td><td>-0.14268536  </td><td>-0.60277661  </td><td> 0.508712459 </td><td>-0.091645526 </td><td>634.30       </td><td>fraud        </td></tr>\n",
       "\t<tr><th scope=row>278308</th><td>168151       </td><td>-0.60431727  </td><td> 0.90414191  </td><td> 0.85839467  </td><td> 0.9984912   </td><td>-0.26364290  </td><td> 1.1057953   </td><td> 0.8145456   </td><td>  0.35578018 </td><td>-0.16728904  </td><td>-0.33175878  </td><td> 0.3907333   </td><td> 1.32786608  </td><td> 0.38946086  </td><td> -0.14741865 </td><td>-1.685495933 </td><td>-0.68665756  </td><td> 0.06898748  </td><td>-0.20492068  </td><td> 1.42625955  </td><td>-0.0455498016</td><td>-0.3541466457</td><td>-0.74230139  </td><td> 0.28078118  </td><td> 0.652732281 </td><td>-0.81786522  </td><td>-1.09707520  </td><td>-0.104230972 </td><td>-0.109862610 </td><td>138.59       </td><td>legit        </td></tr>\n",
       "\t<tr><th scope=row>280068</th><td>169300       </td><td> 0.03587252  </td><td> 0.88783215  </td><td> 0.27007407  </td><td>-0.6125709   </td><td> 0.51393832  </td><td>-0.9830258   </td><td> 1.0434405   </td><td> -0.20956938 </td><td>-0.12603986  </td><td>-0.43805334  </td><td>-0.8447718   </td><td> 0.42827323  </td><td> 0.57313366  </td><td>  0.00379044 </td><td>-0.411354775 </td><td>-0.15668912  </td><td>-0.40970210  </td><td>-0.88122877  </td><td>-0.13368748  </td><td>-0.0009634178</td><td>-0.2512286330</td><td>-0.51555021  </td><td> 0.06773538  </td><td>-0.075867188 </td><td>-0.47500049  </td><td> 0.14583891  </td><td> 0.252884978 </td><td> 0.097543712 </td><td>  5.99       </td><td>legit        </td></tr>\n",
       "\t<tr><th scope=row>281661</th><td>170340       </td><td> 2.11041507  </td><td> 0.59658865  </td><td>-3.44860500  </td><td> 0.4595785   </td><td> 1.56388326  </td><td>-0.9804856   </td><td> 0.6746926   </td><td> -0.27001049 </td><td>-0.11426767  </td><td>-0.86101206  </td><td> 1.0861467   </td><td>-0.11469045  </td><td>-0.71271717  </td><td> -2.15761252 </td><td>-0.598013062 </td><td> 0.73198508  </td><td> 1.72726575  </td><td> 1.31395354  </td><td> 0.22772999  </td><td>-0.1282392333</td><td>-0.0655144357</td><td>-0.03978068  </td><td>-0.12660062  </td><td>-0.092709914 </td><td> 0.43809261  </td><td> 0.70217180  </td><td>-0.089606669 </td><td>-0.030493192 </td><td>  0.76       </td><td>legit        </td></tr>\n",
       "</tbody>\n",
       "</table>\n"
      ],
      "text/latex": [
       "\\begin{tabular}{r|lllllllllllllllllllllllllllllll}\n",
       "  & Time & V1 & V2 & V3 & V4 & V5 & V6 & V7 & V8 & V9 & V10 & V11 & V12 & V13 & V14 & V15 & V16 & V17 & V18 & V19 & V20 & V21 & V22 & V23 & V24 & V25 & V26 & V27 & V28 & Amount & Class\\\\\n",
       "\\hline\n",
       "\t315 &   227         &  -1.4653810   &  1.382171684  &   1.0197899   &  0.25036712   &   1.01141447  & -1.28180719   &   1.18686606  & -0.31260810   & -0.70150296   &  -1.06734128  &  0.20577322   &   0.31503832  &  1.29757895   &  -1.951782420 &  0.41060616   &   0.62267069  &   0.53444483  &  0.48583697   & -1.0963821    &  0.004783724  & -0.038147464  &  0.08348074   & -0.266017332  &  0.270832696  &  0.75435271   & -0.491529029  & -0.689818884  & -0.329373595  &   1.00        & legit        \\\\\n",
       "\t1717 &  1328         &   0.9885531   & -0.774050282  &  -0.6024881   & -1.51953128   &  -0.35031340  & -0.69065418   &   0.23671533  & -0.09137949   &  0.90559574   &  -0.92220018  &  1.39008790   &   0.76851686  & -1.00230074   &   0.920904721 &  1.18134291   &  -0.68339443  &  -0.06381289  & -0.02372381   &  0.8345605    &  0.153649914  &  0.102347460  &  0.02636957   & -0.259711090  & -0.271584675  &  0.55347016   &  0.033557591  & -0.043756731  &  0.012866859  & 160.00        & legit        \\\\\n",
       "\t6337 &  7543         &   0.3295943   &  3.712889295  &  -5.7759351   &  6.07826551   &   1.66735901  & -2.42016841   &  -0.81289125  &  0.13308012   & -2.21431131   &  -5.13445447  &  4.56072011   &  -8.87374836  & -0.79748360   &  -9.177166370 & -0.25702478   &  -0.87168849  &   1.31301363  &  0.77391387   & -2.3705995    &  0.269772776  &  0.156617169  & -0.65245044   & -0.551572219  & -0.716521635  &  1.41571662   &  0.555264740  &  0.530507389  &  0.404474055  &   1.00        & fraud        \\\\\n",
       "\t9860 & 14528         &   1.1623773   & -0.119161338  &   0.8568112   &  0.16112496   &  -0.61334508  & -0.04525944   &  -0.64174667  &  0.10315791   &  1.52422399   &  -0.38510467  &  2.50168589   &  -1.77313414  &  1.34999971   &   1.766331713 &  0.16865853   &   0.40776746  &   0.33997209  &  0.24397168   & -0.4684681    & -0.124856277  &  0.008124261  &  0.26797347   &  0.006647708  &  0.038296252  &  0.09353337   &  1.044329013  & -0.078824294  & -0.008584845  &  14.95        & legit        \\\\\n",
       "\t10631 & 17838         &  -5.1878781   &  6.967708664  & -13.5109311   &  8.61789514   & -11.21442239  &  0.67224784   &  -9.46253281  &  5.32870421   & -4.89700553   & -11.78681166  &  9.36907906   & -15.09416315  &  1.25637701   & -11.852161304 &  0.27442981   & -10.68824179  & -18.38881054  & -6.89884013   &  2.3828079    & -0.623737292  &  2.086083001  &  0.76019024   &  0.716805786  & -0.646743430  & -1.61704293   &  0.172346890  &  0.626646781  & -0.169726031  & 766.36        & fraud        \\\\\n",
       "\t12071 & 20931         & -16.3679230   &  9.223691949  & -23.2706305   & 11.84477659   &  -9.46203715  & -2.45044437   & -16.92515204  &  1.38420848   & -6.28773595   & -13.00270930  &  9.69146098   & -13.88659516  &  0.83836138   & -13.517072408 & -0.37791061   &  -7.85568149  & -11.80381519  & -4.76102594   &  0.6186244    &  0.993584599  & -2.343673594  &  1.00460241   &  1.188212157  & -1.047183768  & -0.03557277   &  0.664899774  &  2.122795754  & -1.416740615  &   1.00        & fraud        \\\\\n",
       "\t12575 & 22026         &   1.0186450   & -0.663453500  &   0.6827086   &  0.09055358   &  -0.37517265  &  1.16927059   &  -0.79388005  &  0.28766739   &  2.24003626   &  -0.75325717  &  1.09256064   &  -1.34414363  &  2.09789291   &   0.983804161 & -1.43100900   &   0.09106664  &   0.46201469  &  0.03717618   &  0.5995733    &  0.122461725  & -0.317354928  & -0.60977983   & -0.127186932  & -1.108340962  &  0.14203488   &  0.976383804  & -0.065747877  &  0.000691258  & 108.08        & legit        \\\\\n",
       "\t15540 & 26931         & -22.5616993   & 13.208904284  & -24.6438188   &  6.23253182   & -16.90561136  & -4.49743872   & -16.81018419  & 14.95510677   & -3.87129682   &  -8.58126552  &  5.25698761   &  -7.39361499  &  0.53880083   &  -7.577552018 & -0.03072553   &  -6.45478324  & -12.84565652  & -4.86591774   &  1.0624419    &  1.621444225  &  1.765986636  & -1.63551665   & -0.998316503  &  0.138972227  &  1.55935014   & -0.222124517  &  1.504424660  &  0.445919826  &  99.99        & fraud        \\\\\n",
       "\t15861 & 27305         &   1.2277634   & -0.268362391  &   0.3687089   & -0.66688615   &  -0.82260592  & -1.04574289   &  -0.06753734  & -0.18051943   &  1.57382841   &  -1.12612983  & -0.48473711   &   0.91158487  & -0.11220667   &   0.007957293 &  0.50865667   &  -0.97953820  &   0.17339616  & -0.40002421   &  0.9536946    & -0.095041177  & -0.242381018  & -0.46762056   & -0.021543682  &  0.392087957  &  0.60924235   & -0.844187433  &  0.063717081  &  0.029479580  &  25.18        & legit        \\\\\n",
       "\t17283 & 28597         &  -0.9211385   &  0.413912044  &   0.6611643   & -0.36772037   &   0.09053586  &  1.76321134   &   2.20141751  & -0.14411599   & -0.49589175   &  -0.44179153  & -0.22894036   &  -0.44641219  & -0.52785842   &   0.161862643 &  0.19968063   &   0.87620824  &  -1.47166526  &  0.61910966   & -0.4020125    & -0.059255181  & -0.090109049  & -0.15216227   & -0.204502188  & -1.754789726  &  0.24796809   & -0.514182498  & -0.054254771  & -0.233403395  & 341.82        & legit        \\\\\n",
       "\t17454 & 28726         & -29.8763655   & 16.434524551  & -30.5586968   &  6.50586179   & -21.66565430  & -4.94035633   & -20.08139107  & 19.58777262   & -3.59149105   &  -7.80059821  &  3.94783972   &  -5.48791149  &  1.36994035   &  -4.829552443 & -0.13441210   &  -5.12116240  & -11.11819045  & -4.65995587   &  0.6089301    &  1.724778838  &  1.812953975  & -2.23225159   & -1.412803443  &  0.178731070  &  2.15604186   & -0.209384624  &  1.255648901  &  0.364530453  &  99.99        & fraud        \\\\\n",
       "\t20199 & 30852         &  -2.8309841   &  0.885657038  &   1.1999301   &  2.86129224   &   0.32166878  &  0.28996603   &   1.76776045  & -2.45104966   &  0.06973581   &   3.24508640  &  0.67528785   &  -0.67709633  & -0.22274113   &  -0.913786971 &  1.60333192   &  -1.02450209  &   0.02204521  & -0.94068467   &  0.4847589    & -1.016923144  &  0.546589340  &  0.33497074   &  0.172105676  &  0.623590288  & -0.52711432   & -0.079214654  & -2.532445298  &  0.311176715  & 104.81        & fraud        \\\\\n",
       "\t22837 & 32454         &  -1.4547897   &  1.991615929  &  -1.9112037   &  1.04257070   &   1.09245467  & -1.45114514   &   2.60871392  & -1.71240223   &  2.55524074   &   3.58944888  &  3.34925748   &  -1.08516574  & -1.53349070   &  -5.399875912 &  0.95682344   &   0.31114103  &   1.80275441  &  1.69655341   & -0.3739342    &  1.283314503  & -0.948698443  & -0.03743122   &  0.129593676  &  0.135783928  & -0.20565080   & -0.638982902  & -0.655919355  & -0.933288175  &  89.99        & legit        \\\\\n",
       "\t30443 & 35926         &  -3.8965826   &  4.518354703  &  -4.4540272   &  5.54745335   &  -4.12145857  & -1.16340666   &  -6.80505305  &  2.92835625   & -4.91712960   &  -6.60046062  &  3.36784561   &  -7.88897752  &  1.68260347   &  -7.628651916 &  0.77924600   &  -7.53340433  & -14.06462394  & -4.96010863   &  2.5257849    &  0.757286727  &  1.691042030  &  0.92002058   & -0.151103893  &  0.011006878  &  0.08030327   &  0.412191351  &  0.635788871  &  0.501049550  &   4.56        & fraud        \\\\\n",
       "\t33277 & 37167         &  -7.9238907   & -5.198360199  &  -3.0000239   &  4.42066620   &   2.27219396  & -3.39448343   &  -5.28343533  &  0.13161892   &  0.65817643   &  -0.79499388  &  3.26606602   &  -2.71918495  & -0.12410396   &  -5.274865819 &  0.63857500   &  -2.99583038  &  -4.69843345  & -1.71187122   &  3.0252610    & -2.169810892  & -0.734307917  & -0.59992626   & -4.908301176  &  0.410170235  & -1.16766025   &  0.520507647  &  1.937421403  & -1.552592839  &  12.31        & fraud        \\\\\n",
       "\t37921 & 39170         &   0.3636402   & -2.270005930  &  -0.6372722   & -0.19946094   &  -1.31415784  & -0.38911825   &   0.28674103  & -0.19673961   & -0.91636516   &   0.58174121  &  0.46909094   &  -0.07005427  & -0.98177418   &   0.555295549 & -0.52167351   &  -1.37926483  &   0.02837728  &  1.45274232   & -0.2107835    &  0.521149366  & -0.112647575  & -1.01187794   & -0.509240547  &  0.057131741  &  0.21268525   &  1.042039560  & -0.180796500  &  0.074035571  & 535.55        & legit        \\\\\n",
       "\t42010 & 40919         &  -2.7404825   &  3.658094820  &  -4.1106355   &  5.34024167   &  -2.66677476  & -0.09278181   &  -4.38869881  & -0.28013271   & -2.82189458   &  -4.46628416  &  3.96979981   &  -7.34671679  & -1.16331177   &  -8.225568912 &  0.82500183   &  -6.77286703  &  -8.81578543  & -4.56885928   &  1.1265987    &  0.185325270  &  2.417495412  & -0.09771195   &  0.382154507  & -0.154756520  & -0.40395593   &  0.277894930  &  0.830061639  &  0.218690442  & 112.33        & fraud        \\\\\n",
       "\t42204 & 40993         &   0.1848935   &  0.685539251  &  -0.1890893   &  0.29632521   &   2.68785692  &  3.59115829   &   0.31747548  &  0.62737967   & -0.77436995   &   0.32268226  &  0.04531094   &  -0.27650209  &  0.01484597   &   0.393538352 &  1.76088477   &  -0.35095523  &  -0.40651310  &  0.08511029   &  2.0017300    &  0.334150175  & -0.456246489  & -1.31916835   &  0.152678899  &  0.929696877  & -0.53437640   & -0.704226514  & -0.036177311  & -0.134901138  &  17.18        & legit        \\\\\n",
       "\t42550 & 41147         &  -5.3141732   &  4.145943611  &  -8.5325225   &  8.34439167   &  -5.71800821  & -3.04353608   & -10.98918467  &  3.40412866   & -6.16723364   & -11.43562400  &  7.67453383   & -14.29609143  &  0.52693892   & -15.445025812 &  0.99165120   & -12.39134600  & -22.54165173  & -7.98672065   &  2.9925545    &  1.150017319  &  2.331465808  &  0.86299631   & -0.614453238  &  0.523647877  & -0.71259327   &  0.324637965  &  2.245091466  &  0.497320849  &  88.23        & fraud        \\\\\n",
       "\t42610 & 41170         &  -6.4980862   &  4.750514660  &  -8.9665578   &  7.09885431   &  -6.95837622  & -2.82212619   & -10.33340566  &  4.03190730   & -6.64877821   & -11.63441442  &  6.87757090   & -13.69768562  &  0.46304040   & -13.044182400 & -0.30922927   & -12.31757972  & -24.01909855  & -9.33519308   &  1.9518905    &  0.568338011  &  2.158143084  &  0.11151036   &  0.216413836  &  0.584661255  &  0.76035951   &  0.081972343  &  1.415067511  &  0.035124145  &  83.38        & fraud        \\\\\n",
       "\t42785 & 41243         & -10.9407391   &  6.261585851  & -14.1823388   &  7.18360209   &  -9.95136334  & -3.86082034   & -13.54730219  &  7.09647165   & -6.29402944   & -13.60814316  &  7.12716532   & -12.61100369  &  1.21455640   & -13.906296824 &  1.51406991   & -11.12573906  & -19.71625731  & -7.55278909   &  3.6567871    & -0.088342082  &  2.267448261  & -0.49202917   & -0.239302866  &  0.454368210  & -0.10161106   &  0.446996733  &  0.062292647  & -0.439769900  &  45.49        & fraud        \\\\\n",
       "\t43080 & 41362         &  -0.5184384   &  0.763880716  &   1.7069263   &  1.10322281   &   0.11441029  &  0.43875182   &   0.26755098  &  0.25249801   & -0.35489625   &  -0.07962998  &  1.05816268   &   0.76530107  & -0.46814487   &   0.178903186 & -0.28542480   &  -0.87249042  &   0.33221006  & -0.16550739   &  1.1073099    & -0.036007268  & -0.043718590  &  0.01761756   &  0.002954644  & -0.002241227  & -0.47710550   & -0.464451042  &  0.069772039  &  0.155685072  &   7.84        & legit        \\\\\n",
       "\t47024 & 43042         &  -0.8474250   &  0.548680082  &   2.6144622   &  1.29284830   &  -0.46503944  &  0.82619948   &  -0.36494514  & -0.39302501   &  0.34652657   &  -0.45181836  & -1.03218167   &   0.96044096  &  0.37079832   &  -1.250658784 & -2.66971833   &  -0.39688207  &   0.54498088  & -1.52623359   & -0.9504169    & -0.372598483  &  0.547418982  & -0.44952821   &  0.115867333  &  0.455806028  & -0.35894839   &  0.714345617  &  0.103305716  &  0.033279760  &  22.00        & legit        \\\\\n",
       "\t50820 & 44663         &  -1.4223984   & -0.166827843  &  -0.2254593   & -1.67639857   &  -1.12955271  & -0.20469918   &   1.95892380  &  0.28118916   &  0.18580141   &  -1.85334327  &  1.38764992   &   1.78643948  &  0.43232372   &   0.604388340 & -0.65247944   &  -0.94490360  &   0.02888513  & -0.11915441   & -0.1040951    &  0.711289109  &  0.462949721  &  0.86207455   &  0.824033050  &  0.217114835  &  0.01199123   & -0.832999717  &  0.194471969  &  0.198743560  & 406.00        & legit        \\\\\n",
       "\t53282 & 45902         &   0.9849361   &  0.478444535  &   1.2732746   &  3.79607001   &  -0.28052428  &  0.50543947   &  -0.16535667  &  0.24188852   & -1.04383358   &   1.18314420  &  0.66743420   &   0.61604000  & -0.27529729   &   0.046952385 & -1.60035332   &   0.95387164  &  -0.67002831  & -0.21005516   & -0.8304400    & -0.110174941  & -0.291157701  & -0.92038215   &  0.127647593  &  0.259364186  &  0.17424820   & -0.301028062  &  0.002962317  &  0.030579843  &  42.12        & legit        \\\\\n",
       "\t57471 & 47923         &   0.3643770   &  1.443523465  &  -2.2209074   &  2.03698509   &  -1.23705503  & -1.72816101   &  -2.05858236  &  0.35889508   & -1.39330571   &  -3.50579033  &  2.81431415   &  -3.34217600  & -0.15026937   &  -4.820322244 &  1.10260956   &  -3.15703267  &  -4.40585022  & -2.55882785   & -0.2088095    &  0.310979603  &  0.402729681  & -0.13212889   & -0.032977176  &  0.460860837  &  0.56040380   &  0.409366102  &  0.539668285  &  0.296918378  &   0.76        & fraud        \\\\\n",
       "\t60807 & 49514         &   1.2151259   &  0.003617073  &  -0.3384596   &  0.67677243   &   0.39894247  &  0.54266768   &  -0.12447435  &  0.26542738   &  0.16110469   &   0.20154268  & -0.06413205   &  -0.71586714  & -2.19831496   &   1.001576489 &  0.82643940   &   0.45373795  &  -0.75007478  &  0.61954972   &  0.0733976    & -0.233206703  &  0.003392301  & -0.09264672   & -0.235133336  & -1.366952200  &  0.67732653   & -0.227534096  &  0.005968488  & -0.008569023  &  22.71        & legit        \\\\\n",
       "\t62503 & 50294         &  -0.5603318   &  0.954909950  &  -0.4684488   &  0.69464145   &   0.22784101  &  0.20825850   &   0.91792062  &  0.49066121   & -0.91762388   &  -0.02936818  &  0.46416854   &   0.17356900  & -0.75220906   &   1.190645136 &  0.32158110   &  -0.29757999  &  -0.15184136  &  0.35653561   &  0.5911682    &  0.183716647  &  0.292660036  &  0.66975019   &  0.283372737  & -0.687788818  & -0.73137164   & -0.362366671  &  0.329781138  &  0.226144263  & 132.92        & legit        \\\\\n",
       "\t64330 & 51112         &  -9.8487758   &  7.365546486  & -12.8985382   &  4.27332307   &  -7.61199101  & -3.42704524   &  -8.35080815  &  6.86360392   & -2.38756733   &  -6.06578236  &  2.70785641   &  -6.13603447  & -0.54597610   &  -7.028980273 &  0.91606857   &  -4.09288449  &  -7.01462171  & -2.53096726   &  0.5540275    &  0.832398066  &  0.931958309  & -0.87446736   & -0.192639469  & -0.035426027  &  0.53866505   & -0.263933517  &  1.134095094  &  0.225973164  &  99.99        & fraud        \\\\\n",
       "\t64735 & 51283         &   1.0508756   &  0.217431233  &   1.4411366   &  2.35972502   &  -0.55837135  &  0.68327779   &  -0.72079293  &  0.41101712   & -0.42978702   &   0.76989519  &  1.23649765   &   0.46780626  & -0.32286578   &   0.201268937 &  0.51139565   &   1.08157304  &  -0.79514909  &  0.28797761   & -1.3340772    & -0.177014943  &  0.157032697  &  0.41396177   &  0.054541689  & -0.011893095  &  0.11292857   &  0.003943672  &  0.043541449  &  0.024706725  &   4.95        & legit        \\\\\n",
       "\t... & ... & ... & ... & ... & ... & ... & ... & ... & ... & ... & ... & ... & ... & ... & ... & ... & ... & ... & ... & ... & ... & ... & ... & ... & ... & ... & ... & ... & ... & ... & ...\\\\\n",
       "\t224753 & 143948        & -1.28053968   &  0.26597367   &  0.63593486   &  0.6001149    &  1.28275387   &  1.9286552    & -0.6765347    &   1.29259040  & -0.32429219   & -0.30338051   &  0.4176991    &  0.40613398   & -0.66614555   &   0.72091312  &  0.907796761  & -0.42530020   &  0.23121456   & -0.35529084   &  0.07761011   &  0.1426280839 & -0.0002953565 & -0.18652618   &  0.10026893   & -1.030534700  & -0.65202916   & -0.73133804   &  0.387883239  &  0.050308292  &  12.90        & legit        \\\\\n",
       "\t226878 & 144839        & -6.42330646   &  1.65851451   & -5.86643956   &  2.0520644    & -0.61581684   & -3.3722657    & -5.0365558    &   2.64310601  & -2.27463005   & -7.04922936   &  3.9168026    & -4.48127960   & -1.02747933   &  -7.11387278  & -0.852775230  & -3.83955997   & -5.05600999   & -1.34449753   &  1.14847294   & -0.7135158108 &  0.6412109159 & -0.25667838   & -2.33723276   & -0.158277898  &  1.19879744   & -0.26125781   &  0.780125484  & -0.731800816  &   0.00        & fraud        \\\\\n",
       "\t230477 & 146344        & -0.09972390   &  2.79541433   & -6.42385558   &  3.2475130    & -1.63229027   & -2.7666649    & -2.3122229    &   0.96101412  & -1.89600096   & -4.91934830   &  3.0536544    & -5.29781140   & -1.46602973   &  -7.03588005  &  1.997132372  & -3.83618853   & -2.51518280   & -0.86457871   &  2.32892697   &  0.3408983157 &  0.6477143884 &  0.12657586   &  0.20395348   &  0.008494998  & -0.17450115   &  0.57529480   &  0.152875891  & -0.098172810  &  94.82        & fraud        \\\\\n",
       "\t234323 & 147925        &  1.86829941   & -0.18319768   & -1.92874891   &  0.4190681    &  0.30516272   & -0.7316724    &  0.1720074    &  -0.18374914  &  1.00438791   & -0.94965043   & -0.5214215    &  0.22932993   & -0.08785723   &  -1.59121367  & -0.007122014  &  0.04023847   &  1.18083978   &  0.07867180   &  0.06373323   &  0.0175400637 & -0.2117561146 & -0.56279978   &  0.13697616   &  0.478427331  & -0.07363433   & -0.12067790   & -0.022612639  &  0.001784016  &  93.61        & legit        \\\\\n",
       "\t234634 & 148053        &  1.26132424   &  2.72680029   & -5.43501891   &  5.3427590    &  1.44704302   & -1.4425841    & -0.8987019    &   0.12306198  & -2.74849590   & -3.20243612   &  1.9913606    & -3.98641622   &  0.57720684   &  -8.48579451  & -0.794782275  & -0.66613427   & -1.37262938   & -0.10431296   & -1.46691055   &  0.3133316345 &  0.2090861361 & -0.42593761   & -0.15443953   & -0.018819504  &  0.63223395   &  0.19292162   &  0.468180887  &  0.280486471  &   1.59        & fraud        \\\\\n",
       "\t235635 & 148476        & -1.12509161   &  3.68287614   & -6.55616795   &  4.0167310    & -0.42557058   & -2.0312099    & -2.6501372    &   1.13124935  & -2.94688954   & -4.81640080   &  2.1557961    & -6.28512495   & -1.12562539   &  -6.80009809  &  0.924933779  & -5.23960439   & -5.01790787   & -1.34930886   &  2.86860289   &  0.4522413109 &  1.1855797816 &  1.34815613   & -0.05368557   &  0.284121985  & -1.17446918   & -0.08783221   &  0.718789578  &  0.676215949  &   0.76        & fraud        \\\\\n",
       "\t237427 & 149236        & -1.37097577   & -0.02546461   & -2.77490692   &  2.6505302    &  4.51130929   & -3.2893437    & -0.1188414    &  -0.01427945  & -0.93277284   & -2.63744174   &  2.8587765    & -0.55317994   & -0.75849200   &  -6.45502910  & -0.154020882  &  1.32383298   &  5.58020925   &  3.29368759   & -0.13769358   &  0.7012918266 & -0.0480610881 & -0.59935003   &  0.07219299   & -0.600351420  &  0.37133062   & -0.37095099   &  0.011970249  &  0.145895339  &   1.00        & fraud        \\\\\n",
       "\t238223 & 149582        & -4.28058383   &  1.42110001   & -3.90822884   &  2.9429461    & -0.07620534   & -2.0025260    & -2.8741547    &  -0.85600544  &  0.96367423   & -3.23543896   &  3.3418019    & -7.56286043   & -1.84744343   & -11.57142343  & -1.481555842  & -6.18091870   & -9.28518598   & -3.92172214   &  0.68551086   & -0.1989627800 & -0.1400619951 & -0.90772022   & -0.68010795   & -0.349169893  &  0.05627589   & -1.14992267   & -1.809886120  &  0.723051433  &   1.10        & fraud        \\\\\n",
       "\t243750 & 152058        & -3.57636178   &  3.29943622   & -7.46043320   &  7.7836342    & -0.39854866   & -1.9684414    & -3.1104762    &  -0.32840370  & -1.57436285   & -2.49756055   &  4.6041705    & -9.00191486   & -1.27632401   & -13.96947063  &  1.256945353  & -4.49162923   & -5.96998693   & -1.27466622   &  1.14778361   & -0.1814552012 &  0.5407307523 &  0.71952634   &  0.37924875   & -0.616961860  & -0.44281081   &  0.35984069   & -2.651824875  &  0.422184392  &   1.00        & fraud        \\\\\n",
       "\t243849 & 152098        & -4.12431625   &  3.74859690   & -7.92650661   &  7.7632418    & -0.76937458   & -2.0311709    & -3.4745495    &   0.10712141  & -1.55135159   & -2.41127201   &  4.4800353    & -8.83250973   & -1.21516414   & -13.72568461  &  1.232744415  & -4.38968768   & -5.81091982   & -1.25542240   &  1.11403305   & -0.1819785833 &  0.5470968014 &  0.68785388   &  0.42993870   & -0.620601279  & -0.36968829   &  0.36734875   & -2.664767095  &  0.417100622  &   1.00        & fraud        \\\\\n",
       "\t244334 & 152307        & -5.22296818   &  4.64182735   & -8.85820421   &  7.7235020    & -1.50703496   & -2.1594836    & -4.2051641    &   0.97933428  & -1.50563737   & -2.23906626   &  4.2313933    & -8.49348798   & -1.09281085   & -13.23755851  &  1.184086482  & -4.18641518   & -5.49253579   & -1.21610811   &  1.04610451   & -0.1766732481 &  0.5618921740 &  0.62420682   &  0.53642891   & -0.628333712  & -0.22265123   &  0.38220836   & -2.693035689  &  0.407935126  &   1.00        & fraud        \\\\\n",
       "\t246391 & 153155        & -1.72642585   &  0.36499918   &  2.60942954   &  1.9781075    &  0.20395871   &  3.2983198    & -0.4185111    &   0.12564105  &  1.63646075   &  0.93619198   & -0.7629392    &  0.37395325   &  0.18497841   &  -1.75719276  &  0.619867782  & -2.65945794   &  1.64266281   & -1.23549472   &  1.86774593   & -0.1097228064 & -0.0452656643 &  0.76898051   & -0.15067658   & -0.297082342  & -0.02222508   & -0.16282765   & -1.289691779  & -0.113153083  &  27.90        & legit        \\\\\n",
       "\t248462 & 153951        &  0.06034298   &  1.26966217   & -0.36526512   &  0.7903099    &  1.07757853   &  0.3007149    &  0.6488872    &  -0.12734217  & -0.46149696   & -0.14982182   & -1.4150336    & -0.96150454   & -0.11821458   &  -0.77226857  &  1.573706352  & -0.53771176   &  1.13106136   &  0.55082881   &  3.16268338   &  0.2673265811 & -0.2938233770 & -0.80862262   & -0.10561124   & -0.388168791  & -0.66152634   &  0.61347390   & -0.110118767  &  0.187455778  &   1.29        & legit        \\\\\n",
       "\t248972 & 154181        & -0.54961544   &  2.21907469   & -3.52202432   &  0.2369952    &  1.08746886   & -1.2355301    & -0.2793126    &   0.51436071  & -1.84992742   & -3.44381902   &  2.2140003    & -1.68983551   &  0.49843768   &  -4.39363360  & -1.270841395  & -1.17662872   & -1.85973897   & -0.04941859   &  0.38526261   &  0.1265179435 &  0.3641302406 &  0.21042809   & -0.36601866   &  0.015802567  &  0.34921154   &  0.64730228   &  0.171929195  &  0.117188228  &   0.76        & fraud        \\\\\n",
       "\t251355 & 155320        &  2.10094541   & -1.11355879   & -0.82867059   & -0.9922557    & -0.72489753   & -0.1706909    & -0.8711999    &  -0.08928474  &  0.08408124   &  0.66350149   & -1.5281755    & -0.48002562   &  0.83272909   &  -0.57315099  &  0.300057030  &  1.49051946   & -0.22229438   & -1.30451951   &  0.92000082   &  0.1476645186 & -0.0638722146 & -0.27522270   &  0.20378123   & -1.075842991  & -0.38291912   & -0.42509535   &  0.005355856  & -0.039251805  &  73.97        & legit        \\\\\n",
       "\t251882 & 155542        &  1.86822575   &  1.36307704   & -1.99493428   &  4.1735157    &  1.23975095   & -0.7461865    &  0.5727305    &  -0.13123484  & -1.55183852   &  0.22884943   &  1.7018947    &  0.14462239   &  0.10408768   &  -2.95416672  & -1.374121926  &  1.88941746   &  1.71451074   &  1.10465991   & -1.59744021   & -0.1722164975 & -0.3010014814 & -0.81897228   &  0.20681231   & -0.263683032  & -0.11495810   & -0.24067212   & -0.006629449  &  0.017257735  &   3.14        & fraud        \\\\\n",
       "\t254396 & 156710        &  0.20240231   &  1.17627022   &  0.34637912   &  2.8821378    &  1.40713333   & -0.5043546    &  1.4385375    &  -0.39560348  & -1.55514162   &  1.08151399   & -1.5142047    & -0.97376404   & -0.70992848   &   0.14133168  & -1.470314152  &  0.41826835   & -0.82819250   & -0.30223942   & -1.76235002   & -0.2062387911 &  0.2425604691 &  0.84123012   & -0.37015660   & -0.026012380  &  0.49195423   &  0.23457626   & -0.279788418  & -0.331933388  &   7.59        & fraud        \\\\\n",
       "\t256653 & 157795        & -1.10001608   &  0.29121195   &  0.15720477   & -0.6308054    &  0.04534429   &  0.3707547    &  0.9883642    &   0.47696022  & -0.68899412   & -0.99670312   &  0.1752929    &  0.74269444   &  0.35405210   &   0.47469588  & -0.864716847  &  0.53458582   & -0.78082902   &  0.50235661   &  0.13114253   &  0.3202927511 &  0.2472275147 &  0.17954008   &  0.31990555   &  0.356791277  & -0.12610860   &  0.15186872   & -0.097839477  &  0.069008090  & 209.85        & legit        \\\\\n",
       "\t261057 & 159844        & -0.40811082   &  3.13294450   & -3.09802976   &  5.8038926    &  0.89060892   & -0.5014743    & -0.4400543    &   0.59182827  & -3.26769326   & -2.22307033   &  0.7570632    & -3.50180378   &  0.24674222   &  -6.06562188  &  0.339583134  & -1.00572315   &  0.33431562   &  0.42126136   &  1.24714263   &  0.4995679131 &  0.0984823222 & -0.53837471   & -0.21798899   & -1.042656617  &  0.31438882   &  0.54324358   &  0.233851015  &  0.119603461  &  45.51        & fraud        \\\\\n",
       "\t263294 & 160876        &  1.86118269   & -0.33634926   & -3.15966736   &  0.3210933    &  2.85467535   &  3.3311033    &  0.1173022    &   0.65140900  &  0.03521907   &  0.24292223   & -0.2536131    &  0.32926882   & -0.38927184   &   0.74145537  & -0.137116904  & -0.74215228   & -0.26817264   & -0.67724774   & -0.30317223   & -0.0438958686 &  0.0931922784 &  0.18066970   & -0.04382761   &  0.711710676  &  0.47982044   & -0.48080166   & -0.014494787  & -0.053322381  &  93.04        & legit        \\\\\n",
       "\t268616 & 163305        & -3.34583680   &  2.43328269   & -2.90299924   & -0.9792475    & -0.09699691   & -2.3079888    &  0.1619791    &   1.16219394  &  0.03176385   &  0.52160825   & -1.1796342    &  1.05629051   &  0.84812820   &   1.37809448  & -0.260102749  & -0.27815196   &  0.15490481   & -0.46190121   & -0.29266388   & -0.0139475667 &  0.1223242640 &  0.81171573   & -0.02058601   &  0.125128081  &  0.14381487   &  0.13120351   &  0.628157161  &  0.444077698  &   9.63        & legit        \\\\\n",
       "\t269238 & 163600        &  2.12702428   & -0.01353744   & -1.52258161   &  0.1184772    &  0.56229858   & -0.3433185    &  0.1703278    &  -0.24068934  &  0.44678393   &  0.04121015   & -1.2788405    &  0.61827590   &  1.09797321   &   0.04003582  &  0.042374429  &  0.09956935   & -0.63530317   & -0.69710241   &  0.43477287   & -0.1139664276 & -0.3345388583 & -0.82164079   &  0.27329990   &  0.054768187  & -0.14951823   &  0.20529999   & -0.070839373  & -0.058685537  &   1.29        & legit        \\\\\n",
       "\t270425 & 164072        &  2.20218641   & -0.76209142   & -3.38143428   & -1.4854791    &  2.38311631   &  2.9635362    & -0.3540761    &   0.53949892  & -1.02071425   &  0.97857687   & -0.2953838    & -0.06236647   & -0.06320983   &   0.63806753  & -0.055959534  & -2.21844631   &  0.10097200   &  0.42304608   & -0.72657678   & -0.5506509609 & -0.2643352753 & -0.22606184   &  0.08773345   &  0.747855380  &  0.27379135   &  0.84907398   & -0.078839956  & -0.086947599  &  12.50        & legit        \\\\\n",
       "\t272522 & 165132        & -7.50392624   & -0.36062801   & -3.83095228   &  2.4861029    &  2.49736678   &  1.3324369    & -6.7839638    & -15.41538492  &  0.46551161   & -0.39438126   &  1.0541072    &  0.97405852   & -1.45366802   &  -1.42561991  &  0.577661575  &  0.83680776   &  2.84494962   &  1.61350956   &  2.54831266   & -0.4751264428 & -6.3891318655 &  2.24996439   &  1.67050827   &  0.140450002  &  0.16214741   &  1.20773091   &  1.268958468  &  0.097538236  &  12.31        & fraud        \\\\\n",
       "\t274027 & 165820        & -0.32025333   &  0.80586140   &  0.03760834   & -1.0547521    &  1.48051046   & -0.6240729    &  1.1745796    &  -0.27023565  & -0.29336227   & -0.75800272   &  1.1441234    &  0.60502000   & -0.03215782   &  -1.02030629  & -1.282549806  &  0.48017565   & -0.11041345   &  0.08155936   & -0.49876174   & -0.1166948477 & -0.1965905053 & -0.45075337   &  0.04217254   &  0.612514874  & -0.95790244   & -0.11969122   & -0.151433951  &  0.011846760  &   1.79        & legit        \\\\\n",
       "\t274423 & 166001        &  1.90206595   & -0.18293396   & -0.41205853   &  1.3788477    & -0.12599070   &  0.2745853    & -0.3197065    &   0.13314559  &  0.87200490   &  0.13597723   &  0.1670564    &  1.56461365   &  0.24774165   &  -0.18285564  & -1.892615558  & -0.19453866   & -0.41432712   & -0.40635113   &  0.57508915   & -0.2373531597 & -0.4848486763 & -1.10890032   &  0.37361899   & -0.537620908  & -0.29644876   & -1.09692550   &  0.055883552  & -0.043139307  &  12.19        & legit        \\\\\n",
       "\t275993 & 166831        & -2.02713542   & -1.13189036   & -1.13519425   &  1.0869626    & -0.01054735   &  0.4237967    &  3.7908802    &  -1.15559510  & -0.06343357   &  1.33441406   &  1.0320156    & -0.72202308   & -1.53323965   &   0.33411945  &  0.297478860  & -0.42939190   & -0.82464421   &  0.48966780   &  0.87334427   &  0.0338040155 & -0.3151045596 &  0.57551970   &  0.49084201   &  0.756502366  & -0.14268536   & -0.60277661   &  0.508712459  & -0.091645526  & 634.30        & fraud        \\\\\n",
       "\t278308 & 168151        & -0.60431727   &  0.90414191   &  0.85839467   &  0.9984912    & -0.26364290   &  1.1057953    &  0.8145456    &   0.35578018  & -0.16728904   & -0.33175878   &  0.3907333    &  1.32786608   &  0.38946086   &  -0.14741865  & -1.685495933  & -0.68665756   &  0.06898748   & -0.20492068   &  1.42625955   & -0.0455498016 & -0.3541466457 & -0.74230139   &  0.28078118   &  0.652732281  & -0.81786522   & -1.09707520   & -0.104230972  & -0.109862610  & 138.59        & legit        \\\\\n",
       "\t280068 & 169300        &  0.03587252   &  0.88783215   &  0.27007407   & -0.6125709    &  0.51393832   & -0.9830258    &  1.0434405    &  -0.20956938  & -0.12603986   & -0.43805334   & -0.8447718    &  0.42827323   &  0.57313366   &   0.00379044  & -0.411354775  & -0.15668912   & -0.40970210   & -0.88122877   & -0.13368748   & -0.0009634178 & -0.2512286330 & -0.51555021   &  0.06773538   & -0.075867188  & -0.47500049   &  0.14583891   &  0.252884978  &  0.097543712  &   5.99        & legit        \\\\\n",
       "\t281661 & 170340        &  2.11041507   &  0.59658865   & -3.44860500   &  0.4595785    &  1.56388326   & -0.9804856    &  0.6746926    &  -0.27001049  & -0.11426767   & -0.86101206   &  1.0861467    & -0.11469045   & -0.71271717   &  -2.15761252  & -0.598013062  &  0.73198508   &  1.72726575   &  1.31395354   &  0.22772999   & -0.1282392333 & -0.0655144357 & -0.03978068   & -0.12660062   & -0.092709914  &  0.43809261   &  0.70217180   & -0.089606669  & -0.030493192  &   0.76        & legit        \\\\\n",
       "\\end{tabular}\n"
      ],
      "text/markdown": [
       "\n",
       "| <!--/--> | Time | V1 | V2 | V3 | V4 | V5 | V6 | V7 | V8 | V9 | V10 | V11 | V12 | V13 | V14 | V15 | V16 | V17 | V18 | V19 | V20 | V21 | V22 | V23 | V24 | V25 | V26 | V27 | V28 | Amount | Class |\n",
       "|---|---|---|---|---|---|---|---|---|---|---|---|---|---|---|---|---|---|---|---|---|---|---|---|---|---|---|---|---|---|---|---|\n",
       "| 315 |   227         |  -1.4653810   |  1.382171684  |   1.0197899   |  0.25036712   |   1.01141447  | -1.28180719   |   1.18686606  | -0.31260810   | -0.70150296   |  -1.06734128  |  0.20577322   |   0.31503832  |  1.29757895   |  -1.951782420 |  0.41060616   |   0.62267069  |   0.53444483  |  0.48583697   | -1.0963821    |  0.004783724  | -0.038147464  |  0.08348074   | -0.266017332  |  0.270832696  |  0.75435271   | -0.491529029  | -0.689818884  | -0.329373595  |   1.00        | legit         |\n",
       "| 1717 |  1328         |   0.9885531   | -0.774050282  |  -0.6024881   | -1.51953128   |  -0.35031340  | -0.69065418   |   0.23671533  | -0.09137949   |  0.90559574   |  -0.92220018  |  1.39008790   |   0.76851686  | -1.00230074   |   0.920904721 |  1.18134291   |  -0.68339443  |  -0.06381289  | -0.02372381   |  0.8345605    |  0.153649914  |  0.102347460  |  0.02636957   | -0.259711090  | -0.271584675  |  0.55347016   |  0.033557591  | -0.043756731  |  0.012866859  | 160.00        | legit         |\n",
       "| 6337 |  7543         |   0.3295943   |  3.712889295  |  -5.7759351   |  6.07826551   |   1.66735901  | -2.42016841   |  -0.81289125  |  0.13308012   | -2.21431131   |  -5.13445447  |  4.56072011   |  -8.87374836  | -0.79748360   |  -9.177166370 | -0.25702478   |  -0.87168849  |   1.31301363  |  0.77391387   | -2.3705995    |  0.269772776  |  0.156617169  | -0.65245044   | -0.551572219  | -0.716521635  |  1.41571662   |  0.555264740  |  0.530507389  |  0.404474055  |   1.00        | fraud         |\n",
       "| 9860 | 14528         |   1.1623773   | -0.119161338  |   0.8568112   |  0.16112496   |  -0.61334508  | -0.04525944   |  -0.64174667  |  0.10315791   |  1.52422399   |  -0.38510467  |  2.50168589   |  -1.77313414  |  1.34999971   |   1.766331713 |  0.16865853   |   0.40776746  |   0.33997209  |  0.24397168   | -0.4684681    | -0.124856277  |  0.008124261  |  0.26797347   |  0.006647708  |  0.038296252  |  0.09353337   |  1.044329013  | -0.078824294  | -0.008584845  |  14.95        | legit         |\n",
       "| 10631 | 17838         |  -5.1878781   |  6.967708664  | -13.5109311   |  8.61789514   | -11.21442239  |  0.67224784   |  -9.46253281  |  5.32870421   | -4.89700553   | -11.78681166  |  9.36907906   | -15.09416315  |  1.25637701   | -11.852161304 |  0.27442981   | -10.68824179  | -18.38881054  | -6.89884013   |  2.3828079    | -0.623737292  |  2.086083001  |  0.76019024   |  0.716805786  | -0.646743430  | -1.61704293   |  0.172346890  |  0.626646781  | -0.169726031  | 766.36        | fraud         |\n",
       "| 12071 | 20931         | -16.3679230   |  9.223691949  | -23.2706305   | 11.84477659   |  -9.46203715  | -2.45044437   | -16.92515204  |  1.38420848   | -6.28773595   | -13.00270930  |  9.69146098   | -13.88659516  |  0.83836138   | -13.517072408 | -0.37791061   |  -7.85568149  | -11.80381519  | -4.76102594   |  0.6186244    |  0.993584599  | -2.343673594  |  1.00460241   |  1.188212157  | -1.047183768  | -0.03557277   |  0.664899774  |  2.122795754  | -1.416740615  |   1.00        | fraud         |\n",
       "| 12575 | 22026         |   1.0186450   | -0.663453500  |   0.6827086   |  0.09055358   |  -0.37517265  |  1.16927059   |  -0.79388005  |  0.28766739   |  2.24003626   |  -0.75325717  |  1.09256064   |  -1.34414363  |  2.09789291   |   0.983804161 | -1.43100900   |   0.09106664  |   0.46201469  |  0.03717618   |  0.5995733    |  0.122461725  | -0.317354928  | -0.60977983   | -0.127186932  | -1.108340962  |  0.14203488   |  0.976383804  | -0.065747877  |  0.000691258  | 108.08        | legit         |\n",
       "| 15540 | 26931         | -22.5616993   | 13.208904284  | -24.6438188   |  6.23253182   | -16.90561136  | -4.49743872   | -16.81018419  | 14.95510677   | -3.87129682   |  -8.58126552  |  5.25698761   |  -7.39361499  |  0.53880083   |  -7.577552018 | -0.03072553   |  -6.45478324  | -12.84565652  | -4.86591774   |  1.0624419    |  1.621444225  |  1.765986636  | -1.63551665   | -0.998316503  |  0.138972227  |  1.55935014   | -0.222124517  |  1.504424660  |  0.445919826  |  99.99        | fraud         |\n",
       "| 15861 | 27305         |   1.2277634   | -0.268362391  |   0.3687089   | -0.66688615   |  -0.82260592  | -1.04574289   |  -0.06753734  | -0.18051943   |  1.57382841   |  -1.12612983  | -0.48473711   |   0.91158487  | -0.11220667   |   0.007957293 |  0.50865667   |  -0.97953820  |   0.17339616  | -0.40002421   |  0.9536946    | -0.095041177  | -0.242381018  | -0.46762056   | -0.021543682  |  0.392087957  |  0.60924235   | -0.844187433  |  0.063717081  |  0.029479580  |  25.18        | legit         |\n",
       "| 17283 | 28597         |  -0.9211385   |  0.413912044  |   0.6611643   | -0.36772037   |   0.09053586  |  1.76321134   |   2.20141751  | -0.14411599   | -0.49589175   |  -0.44179153  | -0.22894036   |  -0.44641219  | -0.52785842   |   0.161862643 |  0.19968063   |   0.87620824  |  -1.47166526  |  0.61910966   | -0.4020125    | -0.059255181  | -0.090109049  | -0.15216227   | -0.204502188  | -1.754789726  |  0.24796809   | -0.514182498  | -0.054254771  | -0.233403395  | 341.82        | legit         |\n",
       "| 17454 | 28726         | -29.8763655   | 16.434524551  | -30.5586968   |  6.50586179   | -21.66565430  | -4.94035633   | -20.08139107  | 19.58777262   | -3.59149105   |  -7.80059821  |  3.94783972   |  -5.48791149  |  1.36994035   |  -4.829552443 | -0.13441210   |  -5.12116240  | -11.11819045  | -4.65995587   |  0.6089301    |  1.724778838  |  1.812953975  | -2.23225159   | -1.412803443  |  0.178731070  |  2.15604186   | -0.209384624  |  1.255648901  |  0.364530453  |  99.99        | fraud         |\n",
       "| 20199 | 30852         |  -2.8309841   |  0.885657038  |   1.1999301   |  2.86129224   |   0.32166878  |  0.28996603   |   1.76776045  | -2.45104966   |  0.06973581   |   3.24508640  |  0.67528785   |  -0.67709633  | -0.22274113   |  -0.913786971 |  1.60333192   |  -1.02450209  |   0.02204521  | -0.94068467   |  0.4847589    | -1.016923144  |  0.546589340  |  0.33497074   |  0.172105676  |  0.623590288  | -0.52711432   | -0.079214654  | -2.532445298  |  0.311176715  | 104.81        | fraud         |\n",
       "| 22837 | 32454         |  -1.4547897   |  1.991615929  |  -1.9112037   |  1.04257070   |   1.09245467  | -1.45114514   |   2.60871392  | -1.71240223   |  2.55524074   |   3.58944888  |  3.34925748   |  -1.08516574  | -1.53349070   |  -5.399875912 |  0.95682344   |   0.31114103  |   1.80275441  |  1.69655341   | -0.3739342    |  1.283314503  | -0.948698443  | -0.03743122   |  0.129593676  |  0.135783928  | -0.20565080   | -0.638982902  | -0.655919355  | -0.933288175  |  89.99        | legit         |\n",
       "| 30443 | 35926         |  -3.8965826   |  4.518354703  |  -4.4540272   |  5.54745335   |  -4.12145857  | -1.16340666   |  -6.80505305  |  2.92835625   | -4.91712960   |  -6.60046062  |  3.36784561   |  -7.88897752  |  1.68260347   |  -7.628651916 |  0.77924600   |  -7.53340433  | -14.06462394  | -4.96010863   |  2.5257849    |  0.757286727  |  1.691042030  |  0.92002058   | -0.151103893  |  0.011006878  |  0.08030327   |  0.412191351  |  0.635788871  |  0.501049550  |   4.56        | fraud         |\n",
       "| 33277 | 37167         |  -7.9238907   | -5.198360199  |  -3.0000239   |  4.42066620   |   2.27219396  | -3.39448343   |  -5.28343533  |  0.13161892   |  0.65817643   |  -0.79499388  |  3.26606602   |  -2.71918495  | -0.12410396   |  -5.274865819 |  0.63857500   |  -2.99583038  |  -4.69843345  | -1.71187122   |  3.0252610    | -2.169810892  | -0.734307917  | -0.59992626   | -4.908301176  |  0.410170235  | -1.16766025   |  0.520507647  |  1.937421403  | -1.552592839  |  12.31        | fraud         |\n",
       "| 37921 | 39170         |   0.3636402   | -2.270005930  |  -0.6372722   | -0.19946094   |  -1.31415784  | -0.38911825   |   0.28674103  | -0.19673961   | -0.91636516   |   0.58174121  |  0.46909094   |  -0.07005427  | -0.98177418   |   0.555295549 | -0.52167351   |  -1.37926483  |   0.02837728  |  1.45274232   | -0.2107835    |  0.521149366  | -0.112647575  | -1.01187794   | -0.509240547  |  0.057131741  |  0.21268525   |  1.042039560  | -0.180796500  |  0.074035571  | 535.55        | legit         |\n",
       "| 42010 | 40919         |  -2.7404825   |  3.658094820  |  -4.1106355   |  5.34024167   |  -2.66677476  | -0.09278181   |  -4.38869881  | -0.28013271   | -2.82189458   |  -4.46628416  |  3.96979981   |  -7.34671679  | -1.16331177   |  -8.225568912 |  0.82500183   |  -6.77286703  |  -8.81578543  | -4.56885928   |  1.1265987    |  0.185325270  |  2.417495412  | -0.09771195   |  0.382154507  | -0.154756520  | -0.40395593   |  0.277894930  |  0.830061639  |  0.218690442  | 112.33        | fraud         |\n",
       "| 42204 | 40993         |   0.1848935   |  0.685539251  |  -0.1890893   |  0.29632521   |   2.68785692  |  3.59115829   |   0.31747548  |  0.62737967   | -0.77436995   |   0.32268226  |  0.04531094   |  -0.27650209  |  0.01484597   |   0.393538352 |  1.76088477   |  -0.35095523  |  -0.40651310  |  0.08511029   |  2.0017300    |  0.334150175  | -0.456246489  | -1.31916835   |  0.152678899  |  0.929696877  | -0.53437640   | -0.704226514  | -0.036177311  | -0.134901138  |  17.18        | legit         |\n",
       "| 42550 | 41147         |  -5.3141732   |  4.145943611  |  -8.5325225   |  8.34439167   |  -5.71800821  | -3.04353608   | -10.98918467  |  3.40412866   | -6.16723364   | -11.43562400  |  7.67453383   | -14.29609143  |  0.52693892   | -15.445025812 |  0.99165120   | -12.39134600  | -22.54165173  | -7.98672065   |  2.9925545    |  1.150017319  |  2.331465808  |  0.86299631   | -0.614453238  |  0.523647877  | -0.71259327   |  0.324637965  |  2.245091466  |  0.497320849  |  88.23        | fraud         |\n",
       "| 42610 | 41170         |  -6.4980862   |  4.750514660  |  -8.9665578   |  7.09885431   |  -6.95837622  | -2.82212619   | -10.33340566  |  4.03190730   | -6.64877821   | -11.63441442  |  6.87757090   | -13.69768562  |  0.46304040   | -13.044182400 | -0.30922927   | -12.31757972  | -24.01909855  | -9.33519308   |  1.9518905    |  0.568338011  |  2.158143084  |  0.11151036   |  0.216413836  |  0.584661255  |  0.76035951   |  0.081972343  |  1.415067511  |  0.035124145  |  83.38        | fraud         |\n",
       "| 42785 | 41243         | -10.9407391   |  6.261585851  | -14.1823388   |  7.18360209   |  -9.95136334  | -3.86082034   | -13.54730219  |  7.09647165   | -6.29402944   | -13.60814316  |  7.12716532   | -12.61100369  |  1.21455640   | -13.906296824 |  1.51406991   | -11.12573906  | -19.71625731  | -7.55278909   |  3.6567871    | -0.088342082  |  2.267448261  | -0.49202917   | -0.239302866  |  0.454368210  | -0.10161106   |  0.446996733  |  0.062292647  | -0.439769900  |  45.49        | fraud         |\n",
       "| 43080 | 41362         |  -0.5184384   |  0.763880716  |   1.7069263   |  1.10322281   |   0.11441029  |  0.43875182   |   0.26755098  |  0.25249801   | -0.35489625   |  -0.07962998  |  1.05816268   |   0.76530107  | -0.46814487   |   0.178903186 | -0.28542480   |  -0.87249042  |   0.33221006  | -0.16550739   |  1.1073099    | -0.036007268  | -0.043718590  |  0.01761756   |  0.002954644  | -0.002241227  | -0.47710550   | -0.464451042  |  0.069772039  |  0.155685072  |   7.84        | legit         |\n",
       "| 47024 | 43042         |  -0.8474250   |  0.548680082  |   2.6144622   |  1.29284830   |  -0.46503944  |  0.82619948   |  -0.36494514  | -0.39302501   |  0.34652657   |  -0.45181836  | -1.03218167   |   0.96044096  |  0.37079832   |  -1.250658784 | -2.66971833   |  -0.39688207  |   0.54498088  | -1.52623359   | -0.9504169    | -0.372598483  |  0.547418982  | -0.44952821   |  0.115867333  |  0.455806028  | -0.35894839   |  0.714345617  |  0.103305716  |  0.033279760  |  22.00        | legit         |\n",
       "| 50820 | 44663         |  -1.4223984   | -0.166827843  |  -0.2254593   | -1.67639857   |  -1.12955271  | -0.20469918   |   1.95892380  |  0.28118916   |  0.18580141   |  -1.85334327  |  1.38764992   |   1.78643948  |  0.43232372   |   0.604388340 | -0.65247944   |  -0.94490360  |   0.02888513  | -0.11915441   | -0.1040951    |  0.711289109  |  0.462949721  |  0.86207455   |  0.824033050  |  0.217114835  |  0.01199123   | -0.832999717  |  0.194471969  |  0.198743560  | 406.00        | legit         |\n",
       "| 53282 | 45902         |   0.9849361   |  0.478444535  |   1.2732746   |  3.79607001   |  -0.28052428  |  0.50543947   |  -0.16535667  |  0.24188852   | -1.04383358   |   1.18314420  |  0.66743420   |   0.61604000  | -0.27529729   |   0.046952385 | -1.60035332   |   0.95387164  |  -0.67002831  | -0.21005516   | -0.8304400    | -0.110174941  | -0.291157701  | -0.92038215   |  0.127647593  |  0.259364186  |  0.17424820   | -0.301028062  |  0.002962317  |  0.030579843  |  42.12        | legit         |\n",
       "| 57471 | 47923         |   0.3643770   |  1.443523465  |  -2.2209074   |  2.03698509   |  -1.23705503  | -1.72816101   |  -2.05858236  |  0.35889508   | -1.39330571   |  -3.50579033  |  2.81431415   |  -3.34217600  | -0.15026937   |  -4.820322244 |  1.10260956   |  -3.15703267  |  -4.40585022  | -2.55882785   | -0.2088095    |  0.310979603  |  0.402729681  | -0.13212889   | -0.032977176  |  0.460860837  |  0.56040380   |  0.409366102  |  0.539668285  |  0.296918378  |   0.76        | fraud         |\n",
       "| 60807 | 49514         |   1.2151259   |  0.003617073  |  -0.3384596   |  0.67677243   |   0.39894247  |  0.54266768   |  -0.12447435  |  0.26542738   |  0.16110469   |   0.20154268  | -0.06413205   |  -0.71586714  | -2.19831496   |   1.001576489 |  0.82643940   |   0.45373795  |  -0.75007478  |  0.61954972   |  0.0733976    | -0.233206703  |  0.003392301  | -0.09264672   | -0.235133336  | -1.366952200  |  0.67732653   | -0.227534096  |  0.005968488  | -0.008569023  |  22.71        | legit         |\n",
       "| 62503 | 50294         |  -0.5603318   |  0.954909950  |  -0.4684488   |  0.69464145   |   0.22784101  |  0.20825850   |   0.91792062  |  0.49066121   | -0.91762388   |  -0.02936818  |  0.46416854   |   0.17356900  | -0.75220906   |   1.190645136 |  0.32158110   |  -0.29757999  |  -0.15184136  |  0.35653561   |  0.5911682    |  0.183716647  |  0.292660036  |  0.66975019   |  0.283372737  | -0.687788818  | -0.73137164   | -0.362366671  |  0.329781138  |  0.226144263  | 132.92        | legit         |\n",
       "| 64330 | 51112         |  -9.8487758   |  7.365546486  | -12.8985382   |  4.27332307   |  -7.61199101  | -3.42704524   |  -8.35080815  |  6.86360392   | -2.38756733   |  -6.06578236  |  2.70785641   |  -6.13603447  | -0.54597610   |  -7.028980273 |  0.91606857   |  -4.09288449  |  -7.01462171  | -2.53096726   |  0.5540275    |  0.832398066  |  0.931958309  | -0.87446736   | -0.192639469  | -0.035426027  |  0.53866505   | -0.263933517  |  1.134095094  |  0.225973164  |  99.99        | fraud         |\n",
       "| 64735 | 51283         |   1.0508756   |  0.217431233  |   1.4411366   |  2.35972502   |  -0.55837135  |  0.68327779   |  -0.72079293  |  0.41101712   | -0.42978702   |   0.76989519  |  1.23649765   |   0.46780626  | -0.32286578   |   0.201268937 |  0.51139565   |   1.08157304  |  -0.79514909  |  0.28797761   | -1.3340772    | -0.177014943  |  0.157032697  |  0.41396177   |  0.054541689  | -0.011893095  |  0.11292857   |  0.003943672  |  0.043541449  |  0.024706725  |   4.95        | legit         |\n",
       "| ... | ... | ... | ... | ... | ... | ... | ... | ... | ... | ... | ... | ... | ... | ... | ... | ... | ... | ... | ... | ... | ... | ... | ... | ... | ... | ... | ... | ... | ... | ... | ... |\n",
       "| 224753 | 143948        | -1.28053968   |  0.26597367   |  0.63593486   |  0.6001149    |  1.28275387   |  1.9286552    | -0.6765347    |   1.29259040  | -0.32429219   | -0.30338051   |  0.4176991    |  0.40613398   | -0.66614555   |   0.72091312  |  0.907796761  | -0.42530020   |  0.23121456   | -0.35529084   |  0.07761011   |  0.1426280839 | -0.0002953565 | -0.18652618   |  0.10026893   | -1.030534700  | -0.65202916   | -0.73133804   |  0.387883239  |  0.050308292  |  12.90        | legit         |\n",
       "| 226878 | 144839        | -6.42330646   |  1.65851451   | -5.86643956   |  2.0520644    | -0.61581684   | -3.3722657    | -5.0365558    |   2.64310601  | -2.27463005   | -7.04922936   |  3.9168026    | -4.48127960   | -1.02747933   |  -7.11387278  | -0.852775230  | -3.83955997   | -5.05600999   | -1.34449753   |  1.14847294   | -0.7135158108 |  0.6412109159 | -0.25667838   | -2.33723276   | -0.158277898  |  1.19879744   | -0.26125781   |  0.780125484  | -0.731800816  |   0.00        | fraud         |\n",
       "| 230477 | 146344        | -0.09972390   |  2.79541433   | -6.42385558   |  3.2475130    | -1.63229027   | -2.7666649    | -2.3122229    |   0.96101412  | -1.89600096   | -4.91934830   |  3.0536544    | -5.29781140   | -1.46602973   |  -7.03588005  |  1.997132372  | -3.83618853   | -2.51518280   | -0.86457871   |  2.32892697   |  0.3408983157 |  0.6477143884 |  0.12657586   |  0.20395348   |  0.008494998  | -0.17450115   |  0.57529480   |  0.152875891  | -0.098172810  |  94.82        | fraud         |\n",
       "| 234323 | 147925        |  1.86829941   | -0.18319768   | -1.92874891   |  0.4190681    |  0.30516272   | -0.7316724    |  0.1720074    |  -0.18374914  |  1.00438791   | -0.94965043   | -0.5214215    |  0.22932993   | -0.08785723   |  -1.59121367  | -0.007122014  |  0.04023847   |  1.18083978   |  0.07867180   |  0.06373323   |  0.0175400637 | -0.2117561146 | -0.56279978   |  0.13697616   |  0.478427331  | -0.07363433   | -0.12067790   | -0.022612639  |  0.001784016  |  93.61        | legit         |\n",
       "| 234634 | 148053        |  1.26132424   |  2.72680029   | -5.43501891   |  5.3427590    |  1.44704302   | -1.4425841    | -0.8987019    |   0.12306198  | -2.74849590   | -3.20243612   |  1.9913606    | -3.98641622   |  0.57720684   |  -8.48579451  | -0.794782275  | -0.66613427   | -1.37262938   | -0.10431296   | -1.46691055   |  0.3133316345 |  0.2090861361 | -0.42593761   | -0.15443953   | -0.018819504  |  0.63223395   |  0.19292162   |  0.468180887  |  0.280486471  |   1.59        | fraud         |\n",
       "| 235635 | 148476        | -1.12509161   |  3.68287614   | -6.55616795   |  4.0167310    | -0.42557058   | -2.0312099    | -2.6501372    |   1.13124935  | -2.94688954   | -4.81640080   |  2.1557961    | -6.28512495   | -1.12562539   |  -6.80009809  |  0.924933779  | -5.23960439   | -5.01790787   | -1.34930886   |  2.86860289   |  0.4522413109 |  1.1855797816 |  1.34815613   | -0.05368557   |  0.284121985  | -1.17446918   | -0.08783221   |  0.718789578  |  0.676215949  |   0.76        | fraud         |\n",
       "| 237427 | 149236        | -1.37097577   | -0.02546461   | -2.77490692   |  2.6505302    |  4.51130929   | -3.2893437    | -0.1188414    |  -0.01427945  | -0.93277284   | -2.63744174   |  2.8587765    | -0.55317994   | -0.75849200   |  -6.45502910  | -0.154020882  |  1.32383298   |  5.58020925   |  3.29368759   | -0.13769358   |  0.7012918266 | -0.0480610881 | -0.59935003   |  0.07219299   | -0.600351420  |  0.37133062   | -0.37095099   |  0.011970249  |  0.145895339  |   1.00        | fraud         |\n",
       "| 238223 | 149582        | -4.28058383   |  1.42110001   | -3.90822884   |  2.9429461    | -0.07620534   | -2.0025260    | -2.8741547    |  -0.85600544  |  0.96367423   | -3.23543896   |  3.3418019    | -7.56286043   | -1.84744343   | -11.57142343  | -1.481555842  | -6.18091870   | -9.28518598   | -3.92172214   |  0.68551086   | -0.1989627800 | -0.1400619951 | -0.90772022   | -0.68010795   | -0.349169893  |  0.05627589   | -1.14992267   | -1.809886120  |  0.723051433  |   1.10        | fraud         |\n",
       "| 243750 | 152058        | -3.57636178   |  3.29943622   | -7.46043320   |  7.7836342    | -0.39854866   | -1.9684414    | -3.1104762    |  -0.32840370  | -1.57436285   | -2.49756055   |  4.6041705    | -9.00191486   | -1.27632401   | -13.96947063  |  1.256945353  | -4.49162923   | -5.96998693   | -1.27466622   |  1.14778361   | -0.1814552012 |  0.5407307523 |  0.71952634   |  0.37924875   | -0.616961860  | -0.44281081   |  0.35984069   | -2.651824875  |  0.422184392  |   1.00        | fraud         |\n",
       "| 243849 | 152098        | -4.12431625   |  3.74859690   | -7.92650661   |  7.7632418    | -0.76937458   | -2.0311709    | -3.4745495    |   0.10712141  | -1.55135159   | -2.41127201   |  4.4800353    | -8.83250973   | -1.21516414   | -13.72568461  |  1.232744415  | -4.38968768   | -5.81091982   | -1.25542240   |  1.11403305   | -0.1819785833 |  0.5470968014 |  0.68785388   |  0.42993870   | -0.620601279  | -0.36968829   |  0.36734875   | -2.664767095  |  0.417100622  |   1.00        | fraud         |\n",
       "| 244334 | 152307        | -5.22296818   |  4.64182735   | -8.85820421   |  7.7235020    | -1.50703496   | -2.1594836    | -4.2051641    |   0.97933428  | -1.50563737   | -2.23906626   |  4.2313933    | -8.49348798   | -1.09281085   | -13.23755851  |  1.184086482  | -4.18641518   | -5.49253579   | -1.21610811   |  1.04610451   | -0.1766732481 |  0.5618921740 |  0.62420682   |  0.53642891   | -0.628333712  | -0.22265123   |  0.38220836   | -2.693035689  |  0.407935126  |   1.00        | fraud         |\n",
       "| 246391 | 153155        | -1.72642585   |  0.36499918   |  2.60942954   |  1.9781075    |  0.20395871   |  3.2983198    | -0.4185111    |   0.12564105  |  1.63646075   |  0.93619198   | -0.7629392    |  0.37395325   |  0.18497841   |  -1.75719276  |  0.619867782  | -2.65945794   |  1.64266281   | -1.23549472   |  1.86774593   | -0.1097228064 | -0.0452656643 |  0.76898051   | -0.15067658   | -0.297082342  | -0.02222508   | -0.16282765   | -1.289691779  | -0.113153083  |  27.90        | legit         |\n",
       "| 248462 | 153951        |  0.06034298   |  1.26966217   | -0.36526512   |  0.7903099    |  1.07757853   |  0.3007149    |  0.6488872    |  -0.12734217  | -0.46149696   | -0.14982182   | -1.4150336    | -0.96150454   | -0.11821458   |  -0.77226857  |  1.573706352  | -0.53771176   |  1.13106136   |  0.55082881   |  3.16268338   |  0.2673265811 | -0.2938233770 | -0.80862262   | -0.10561124   | -0.388168791  | -0.66152634   |  0.61347390   | -0.110118767  |  0.187455778  |   1.29        | legit         |\n",
       "| 248972 | 154181        | -0.54961544   |  2.21907469   | -3.52202432   |  0.2369952    |  1.08746886   | -1.2355301    | -0.2793126    |   0.51436071  | -1.84992742   | -3.44381902   |  2.2140003    | -1.68983551   |  0.49843768   |  -4.39363360  | -1.270841395  | -1.17662872   | -1.85973897   | -0.04941859   |  0.38526261   |  0.1265179435 |  0.3641302406 |  0.21042809   | -0.36601866   |  0.015802567  |  0.34921154   |  0.64730228   |  0.171929195  |  0.117188228  |   0.76        | fraud         |\n",
       "| 251355 | 155320        |  2.10094541   | -1.11355879   | -0.82867059   | -0.9922557    | -0.72489753   | -0.1706909    | -0.8711999    |  -0.08928474  |  0.08408124   |  0.66350149   | -1.5281755    | -0.48002562   |  0.83272909   |  -0.57315099  |  0.300057030  |  1.49051946   | -0.22229438   | -1.30451951   |  0.92000082   |  0.1476645186 | -0.0638722146 | -0.27522270   |  0.20378123   | -1.075842991  | -0.38291912   | -0.42509535   |  0.005355856  | -0.039251805  |  73.97        | legit         |\n",
       "| 251882 | 155542        |  1.86822575   |  1.36307704   | -1.99493428   |  4.1735157    |  1.23975095   | -0.7461865    |  0.5727305    |  -0.13123484  | -1.55183852   |  0.22884943   |  1.7018947    |  0.14462239   |  0.10408768   |  -2.95416672  | -1.374121926  |  1.88941746   |  1.71451074   |  1.10465991   | -1.59744021   | -0.1722164975 | -0.3010014814 | -0.81897228   |  0.20681231   | -0.263683032  | -0.11495810   | -0.24067212   | -0.006629449  |  0.017257735  |   3.14        | fraud         |\n",
       "| 254396 | 156710        |  0.20240231   |  1.17627022   |  0.34637912   |  2.8821378    |  1.40713333   | -0.5043546    |  1.4385375    |  -0.39560348  | -1.55514162   |  1.08151399   | -1.5142047    | -0.97376404   | -0.70992848   |   0.14133168  | -1.470314152  |  0.41826835   | -0.82819250   | -0.30223942   | -1.76235002   | -0.2062387911 |  0.2425604691 |  0.84123012   | -0.37015660   | -0.026012380  |  0.49195423   |  0.23457626   | -0.279788418  | -0.331933388  |   7.59        | fraud         |\n",
       "| 256653 | 157795        | -1.10001608   |  0.29121195   |  0.15720477   | -0.6308054    |  0.04534429   |  0.3707547    |  0.9883642    |   0.47696022  | -0.68899412   | -0.99670312   |  0.1752929    |  0.74269444   |  0.35405210   |   0.47469588  | -0.864716847  |  0.53458582   | -0.78082902   |  0.50235661   |  0.13114253   |  0.3202927511 |  0.2472275147 |  0.17954008   |  0.31990555   |  0.356791277  | -0.12610860   |  0.15186872   | -0.097839477  |  0.069008090  | 209.85        | legit         |\n",
       "| 261057 | 159844        | -0.40811082   |  3.13294450   | -3.09802976   |  5.8038926    |  0.89060892   | -0.5014743    | -0.4400543    |   0.59182827  | -3.26769326   | -2.22307033   |  0.7570632    | -3.50180378   |  0.24674222   |  -6.06562188  |  0.339583134  | -1.00572315   |  0.33431562   |  0.42126136   |  1.24714263   |  0.4995679131 |  0.0984823222 | -0.53837471   | -0.21798899   | -1.042656617  |  0.31438882   |  0.54324358   |  0.233851015  |  0.119603461  |  45.51        | fraud         |\n",
       "| 263294 | 160876        |  1.86118269   | -0.33634926   | -3.15966736   |  0.3210933    |  2.85467535   |  3.3311033    |  0.1173022    |   0.65140900  |  0.03521907   |  0.24292223   | -0.2536131    |  0.32926882   | -0.38927184   |   0.74145537  | -0.137116904  | -0.74215228   | -0.26817264   | -0.67724774   | -0.30317223   | -0.0438958686 |  0.0931922784 |  0.18066970   | -0.04382761   |  0.711710676  |  0.47982044   | -0.48080166   | -0.014494787  | -0.053322381  |  93.04        | legit         |\n",
       "| 268616 | 163305        | -3.34583680   |  2.43328269   | -2.90299924   | -0.9792475    | -0.09699691   | -2.3079888    |  0.1619791    |   1.16219394  |  0.03176385   |  0.52160825   | -1.1796342    |  1.05629051   |  0.84812820   |   1.37809448  | -0.260102749  | -0.27815196   |  0.15490481   | -0.46190121   | -0.29266388   | -0.0139475667 |  0.1223242640 |  0.81171573   | -0.02058601   |  0.125128081  |  0.14381487   |  0.13120351   |  0.628157161  |  0.444077698  |   9.63        | legit         |\n",
       "| 269238 | 163600        |  2.12702428   | -0.01353744   | -1.52258161   |  0.1184772    |  0.56229858   | -0.3433185    |  0.1703278    |  -0.24068934  |  0.44678393   |  0.04121015   | -1.2788405    |  0.61827590   |  1.09797321   |   0.04003582  |  0.042374429  |  0.09956935   | -0.63530317   | -0.69710241   |  0.43477287   | -0.1139664276 | -0.3345388583 | -0.82164079   |  0.27329990   |  0.054768187  | -0.14951823   |  0.20529999   | -0.070839373  | -0.058685537  |   1.29        | legit         |\n",
       "| 270425 | 164072        |  2.20218641   | -0.76209142   | -3.38143428   | -1.4854791    |  2.38311631   |  2.9635362    | -0.3540761    |   0.53949892  | -1.02071425   |  0.97857687   | -0.2953838    | -0.06236647   | -0.06320983   |   0.63806753  | -0.055959534  | -2.21844631   |  0.10097200   |  0.42304608   | -0.72657678   | -0.5506509609 | -0.2643352753 | -0.22606184   |  0.08773345   |  0.747855380  |  0.27379135   |  0.84907398   | -0.078839956  | -0.086947599  |  12.50        | legit         |\n",
       "| 272522 | 165132        | -7.50392624   | -0.36062801   | -3.83095228   |  2.4861029    |  2.49736678   |  1.3324369    | -6.7839638    | -15.41538492  |  0.46551161   | -0.39438126   |  1.0541072    |  0.97405852   | -1.45366802   |  -1.42561991  |  0.577661575  |  0.83680776   |  2.84494962   |  1.61350956   |  2.54831266   | -0.4751264428 | -6.3891318655 |  2.24996439   |  1.67050827   |  0.140450002  |  0.16214741   |  1.20773091   |  1.268958468  |  0.097538236  |  12.31        | fraud         |\n",
       "| 274027 | 165820        | -0.32025333   |  0.80586140   |  0.03760834   | -1.0547521    |  1.48051046   | -0.6240729    |  1.1745796    |  -0.27023565  | -0.29336227   | -0.75800272   |  1.1441234    |  0.60502000   | -0.03215782   |  -1.02030629  | -1.282549806  |  0.48017565   | -0.11041345   |  0.08155936   | -0.49876174   | -0.1166948477 | -0.1965905053 | -0.45075337   |  0.04217254   |  0.612514874  | -0.95790244   | -0.11969122   | -0.151433951  |  0.011846760  |   1.79        | legit         |\n",
       "| 274423 | 166001        |  1.90206595   | -0.18293396   | -0.41205853   |  1.3788477    | -0.12599070   |  0.2745853    | -0.3197065    |   0.13314559  |  0.87200490   |  0.13597723   |  0.1670564    |  1.56461365   |  0.24774165   |  -0.18285564  | -1.892615558  | -0.19453866   | -0.41432712   | -0.40635113   |  0.57508915   | -0.2373531597 | -0.4848486763 | -1.10890032   |  0.37361899   | -0.537620908  | -0.29644876   | -1.09692550   |  0.055883552  | -0.043139307  |  12.19        | legit         |\n",
       "| 275993 | 166831        | -2.02713542   | -1.13189036   | -1.13519425   |  1.0869626    | -0.01054735   |  0.4237967    |  3.7908802    |  -1.15559510  | -0.06343357   |  1.33441406   |  1.0320156    | -0.72202308   | -1.53323965   |   0.33411945  |  0.297478860  | -0.42939190   | -0.82464421   |  0.48966780   |  0.87334427   |  0.0338040155 | -0.3151045596 |  0.57551970   |  0.49084201   |  0.756502366  | -0.14268536   | -0.60277661   |  0.508712459  | -0.091645526  | 634.30        | fraud         |\n",
       "| 278308 | 168151        | -0.60431727   |  0.90414191   |  0.85839467   |  0.9984912    | -0.26364290   |  1.1057953    |  0.8145456    |   0.35578018  | -0.16728904   | -0.33175878   |  0.3907333    |  1.32786608   |  0.38946086   |  -0.14741865  | -1.685495933  | -0.68665756   |  0.06898748   | -0.20492068   |  1.42625955   | -0.0455498016 | -0.3541466457 | -0.74230139   |  0.28078118   |  0.652732281  | -0.81786522   | -1.09707520   | -0.104230972  | -0.109862610  | 138.59        | legit         |\n",
       "| 280068 | 169300        |  0.03587252   |  0.88783215   |  0.27007407   | -0.6125709    |  0.51393832   | -0.9830258    |  1.0434405    |  -0.20956938  | -0.12603986   | -0.43805334   | -0.8447718    |  0.42827323   |  0.57313366   |   0.00379044  | -0.411354775  | -0.15668912   | -0.40970210   | -0.88122877   | -0.13368748   | -0.0009634178 | -0.2512286330 | -0.51555021   |  0.06773538   | -0.075867188  | -0.47500049   |  0.14583891   |  0.252884978  |  0.097543712  |   5.99        | legit         |\n",
       "| 281661 | 170340        |  2.11041507   |  0.59658865   | -3.44860500   |  0.4595785    |  1.56388326   | -0.9804856    |  0.6746926    |  -0.27001049  | -0.11426767   | -0.86101206   |  1.0861467    | -0.11469045   | -0.71271717   |  -2.15761252  | -0.598013062  |  0.73198508   |  1.72726575   |  1.31395354   |  0.22772999   | -0.1282392333 | -0.0655144357 | -0.03978068   | -0.12660062   | -0.092709914  |  0.43809261   |  0.70217180   | -0.089606669  | -0.030493192  |   0.76        | legit         |\n",
       "\n"
      ],
      "text/plain": [
       "       Time   V1          V2           V3          V4          V5          \n",
       "315      227   -1.4653810  1.382171684   1.0197899  0.25036712   1.01141447\n",
       "1717    1328    0.9885531 -0.774050282  -0.6024881 -1.51953128  -0.35031340\n",
       "6337    7543    0.3295943  3.712889295  -5.7759351  6.07826551   1.66735901\n",
       "9860   14528    1.1623773 -0.119161338   0.8568112  0.16112496  -0.61334508\n",
       "10631  17838   -5.1878781  6.967708664 -13.5109311  8.61789514 -11.21442239\n",
       "12071  20931  -16.3679230  9.223691949 -23.2706305 11.84477659  -9.46203715\n",
       "12575  22026    1.0186450 -0.663453500   0.6827086  0.09055358  -0.37517265\n",
       "15540  26931  -22.5616993 13.208904284 -24.6438188  6.23253182 -16.90561136\n",
       "15861  27305    1.2277634 -0.268362391   0.3687089 -0.66688615  -0.82260592\n",
       "17283  28597   -0.9211385  0.413912044   0.6611643 -0.36772037   0.09053586\n",
       "17454  28726  -29.8763655 16.434524551 -30.5586968  6.50586179 -21.66565430\n",
       "20199  30852   -2.8309841  0.885657038   1.1999301  2.86129224   0.32166878\n",
       "22837  32454   -1.4547897  1.991615929  -1.9112037  1.04257070   1.09245467\n",
       "30443  35926   -3.8965826  4.518354703  -4.4540272  5.54745335  -4.12145857\n",
       "33277  37167   -7.9238907 -5.198360199  -3.0000239  4.42066620   2.27219396\n",
       "37921  39170    0.3636402 -2.270005930  -0.6372722 -0.19946094  -1.31415784\n",
       "42010  40919   -2.7404825  3.658094820  -4.1106355  5.34024167  -2.66677476\n",
       "42204  40993    0.1848935  0.685539251  -0.1890893  0.29632521   2.68785692\n",
       "42550  41147   -5.3141732  4.145943611  -8.5325225  8.34439167  -5.71800821\n",
       "42610  41170   -6.4980862  4.750514660  -8.9665578  7.09885431  -6.95837622\n",
       "42785  41243  -10.9407391  6.261585851 -14.1823388  7.18360209  -9.95136334\n",
       "43080  41362   -0.5184384  0.763880716   1.7069263  1.10322281   0.11441029\n",
       "47024  43042   -0.8474250  0.548680082   2.6144622  1.29284830  -0.46503944\n",
       "50820  44663   -1.4223984 -0.166827843  -0.2254593 -1.67639857  -1.12955271\n",
       "53282  45902    0.9849361  0.478444535   1.2732746  3.79607001  -0.28052428\n",
       "57471  47923    0.3643770  1.443523465  -2.2209074  2.03698509  -1.23705503\n",
       "60807  49514    1.2151259  0.003617073  -0.3384596  0.67677243   0.39894247\n",
       "62503  50294   -0.5603318  0.954909950  -0.4684488  0.69464145   0.22784101\n",
       "64330  51112   -9.8487758  7.365546486 -12.8985382  4.27332307  -7.61199101\n",
       "64735  51283    1.0508756  0.217431233   1.4411366  2.35972502  -0.55837135\n",
       "...    ...    ...         ...          ...         ...         ...         \n",
       "224753 143948 -1.28053968  0.26597367   0.63593486  0.6001149   1.28275387 \n",
       "226878 144839 -6.42330646  1.65851451  -5.86643956  2.0520644  -0.61581684 \n",
       "230477 146344 -0.09972390  2.79541433  -6.42385558  3.2475130  -1.63229027 \n",
       "234323 147925  1.86829941 -0.18319768  -1.92874891  0.4190681   0.30516272 \n",
       "234634 148053  1.26132424  2.72680029  -5.43501891  5.3427590   1.44704302 \n",
       "235635 148476 -1.12509161  3.68287614  -6.55616795  4.0167310  -0.42557058 \n",
       "237427 149236 -1.37097577 -0.02546461  -2.77490692  2.6505302   4.51130929 \n",
       "238223 149582 -4.28058383  1.42110001  -3.90822884  2.9429461  -0.07620534 \n",
       "243750 152058 -3.57636178  3.29943622  -7.46043320  7.7836342  -0.39854866 \n",
       "243849 152098 -4.12431625  3.74859690  -7.92650661  7.7632418  -0.76937458 \n",
       "244334 152307 -5.22296818  4.64182735  -8.85820421  7.7235020  -1.50703496 \n",
       "246391 153155 -1.72642585  0.36499918   2.60942954  1.9781075   0.20395871 \n",
       "248462 153951  0.06034298  1.26966217  -0.36526512  0.7903099   1.07757853 \n",
       "248972 154181 -0.54961544  2.21907469  -3.52202432  0.2369952   1.08746886 \n",
       "251355 155320  2.10094541 -1.11355879  -0.82867059 -0.9922557  -0.72489753 \n",
       "251882 155542  1.86822575  1.36307704  -1.99493428  4.1735157   1.23975095 \n",
       "254396 156710  0.20240231  1.17627022   0.34637912  2.8821378   1.40713333 \n",
       "256653 157795 -1.10001608  0.29121195   0.15720477 -0.6308054   0.04534429 \n",
       "261057 159844 -0.40811082  3.13294450  -3.09802976  5.8038926   0.89060892 \n",
       "263294 160876  1.86118269 -0.33634926  -3.15966736  0.3210933   2.85467535 \n",
       "268616 163305 -3.34583680  2.43328269  -2.90299924 -0.9792475  -0.09699691 \n",
       "269238 163600  2.12702428 -0.01353744  -1.52258161  0.1184772   0.56229858 \n",
       "270425 164072  2.20218641 -0.76209142  -3.38143428 -1.4854791   2.38311631 \n",
       "272522 165132 -7.50392624 -0.36062801  -3.83095228  2.4861029   2.49736678 \n",
       "274027 165820 -0.32025333  0.80586140   0.03760834 -1.0547521   1.48051046 \n",
       "274423 166001  1.90206595 -0.18293396  -0.41205853  1.3788477  -0.12599070 \n",
       "275993 166831 -2.02713542 -1.13189036  -1.13519425  1.0869626  -0.01054735 \n",
       "278308 168151 -0.60431727  0.90414191   0.85839467  0.9984912  -0.26364290 \n",
       "280068 169300  0.03587252  0.88783215   0.27007407 -0.6125709   0.51393832 \n",
       "281661 170340  2.11041507  0.59658865  -3.44860500  0.4595785   1.56388326 \n",
       "       V6          V7           V8           V9          V10         \n",
       "315    -1.28180719   1.18686606 -0.31260810  -0.70150296  -1.06734128\n",
       "1717   -0.69065418   0.23671533 -0.09137949   0.90559574  -0.92220018\n",
       "6337   -2.42016841  -0.81289125  0.13308012  -2.21431131  -5.13445447\n",
       "9860   -0.04525944  -0.64174667  0.10315791   1.52422399  -0.38510467\n",
       "10631   0.67224784  -9.46253281  5.32870421  -4.89700553 -11.78681166\n",
       "12071  -2.45044437 -16.92515204  1.38420848  -6.28773595 -13.00270930\n",
       "12575   1.16927059  -0.79388005  0.28766739   2.24003626  -0.75325717\n",
       "15540  -4.49743872 -16.81018419 14.95510677  -3.87129682  -8.58126552\n",
       "15861  -1.04574289  -0.06753734 -0.18051943   1.57382841  -1.12612983\n",
       "17283   1.76321134   2.20141751 -0.14411599  -0.49589175  -0.44179153\n",
       "17454  -4.94035633 -20.08139107 19.58777262  -3.59149105  -7.80059821\n",
       "20199   0.28996603   1.76776045 -2.45104966   0.06973581   3.24508640\n",
       "22837  -1.45114514   2.60871392 -1.71240223   2.55524074   3.58944888\n",
       "30443  -1.16340666  -6.80505305  2.92835625  -4.91712960  -6.60046062\n",
       "33277  -3.39448343  -5.28343533  0.13161892   0.65817643  -0.79499388\n",
       "37921  -0.38911825   0.28674103 -0.19673961  -0.91636516   0.58174121\n",
       "42010  -0.09278181  -4.38869881 -0.28013271  -2.82189458  -4.46628416\n",
       "42204   3.59115829   0.31747548  0.62737967  -0.77436995   0.32268226\n",
       "42550  -3.04353608 -10.98918467  3.40412866  -6.16723364 -11.43562400\n",
       "42610  -2.82212619 -10.33340566  4.03190730  -6.64877821 -11.63441442\n",
       "42785  -3.86082034 -13.54730219  7.09647165  -6.29402944 -13.60814316\n",
       "43080   0.43875182   0.26755098  0.25249801  -0.35489625  -0.07962998\n",
       "47024   0.82619948  -0.36494514 -0.39302501   0.34652657  -0.45181836\n",
       "50820  -0.20469918   1.95892380  0.28118916   0.18580141  -1.85334327\n",
       "53282   0.50543947  -0.16535667  0.24188852  -1.04383358   1.18314420\n",
       "57471  -1.72816101  -2.05858236  0.35889508  -1.39330571  -3.50579033\n",
       "60807   0.54266768  -0.12447435  0.26542738   0.16110469   0.20154268\n",
       "62503   0.20825850   0.91792062  0.49066121  -0.91762388  -0.02936818\n",
       "64330  -3.42704524  -8.35080815  6.86360392  -2.38756733  -6.06578236\n",
       "64735   0.68327779  -0.72079293  0.41101712  -0.42978702   0.76989519\n",
       "...    ...         ...          ...          ...         ...         \n",
       "224753  1.9286552  -0.6765347     1.29259040 -0.32429219 -0.30338051 \n",
       "226878 -3.3722657  -5.0365558     2.64310601 -2.27463005 -7.04922936 \n",
       "230477 -2.7666649  -2.3122229     0.96101412 -1.89600096 -4.91934830 \n",
       "234323 -0.7316724   0.1720074    -0.18374914  1.00438791 -0.94965043 \n",
       "234634 -1.4425841  -0.8987019     0.12306198 -2.74849590 -3.20243612 \n",
       "235635 -2.0312099  -2.6501372     1.13124935 -2.94688954 -4.81640080 \n",
       "237427 -3.2893437  -0.1188414    -0.01427945 -0.93277284 -2.63744174 \n",
       "238223 -2.0025260  -2.8741547    -0.85600544  0.96367423 -3.23543896 \n",
       "243750 -1.9684414  -3.1104762    -0.32840370 -1.57436285 -2.49756055 \n",
       "243849 -2.0311709  -3.4745495     0.10712141 -1.55135159 -2.41127201 \n",
       "244334 -2.1594836  -4.2051641     0.97933428 -1.50563737 -2.23906626 \n",
       "246391  3.2983198  -0.4185111     0.12564105  1.63646075  0.93619198 \n",
       "248462  0.3007149   0.6488872    -0.12734217 -0.46149696 -0.14982182 \n",
       "248972 -1.2355301  -0.2793126     0.51436071 -1.84992742 -3.44381902 \n",
       "251355 -0.1706909  -0.8711999    -0.08928474  0.08408124  0.66350149 \n",
       "251882 -0.7461865   0.5727305    -0.13123484 -1.55183852  0.22884943 \n",
       "254396 -0.5043546   1.4385375    -0.39560348 -1.55514162  1.08151399 \n",
       "256653  0.3707547   0.9883642     0.47696022 -0.68899412 -0.99670312 \n",
       "261057 -0.5014743  -0.4400543     0.59182827 -3.26769326 -2.22307033 \n",
       "263294  3.3311033   0.1173022     0.65140900  0.03521907  0.24292223 \n",
       "268616 -2.3079888   0.1619791     1.16219394  0.03176385  0.52160825 \n",
       "269238 -0.3433185   0.1703278    -0.24068934  0.44678393  0.04121015 \n",
       "270425  2.9635362  -0.3540761     0.53949892 -1.02071425  0.97857687 \n",
       "272522  1.3324369  -6.7839638   -15.41538492  0.46551161 -0.39438126 \n",
       "274027 -0.6240729   1.1745796    -0.27023565 -0.29336227 -0.75800272 \n",
       "274423  0.2745853  -0.3197065     0.13314559  0.87200490  0.13597723 \n",
       "275993  0.4237967   3.7908802    -1.15559510 -0.06343357  1.33441406 \n",
       "278308  1.1057953   0.8145456     0.35578018 -0.16728904 -0.33175878 \n",
       "280068 -0.9830258   1.0434405    -0.20956938 -0.12603986 -0.43805334 \n",
       "281661 -0.9804856   0.6746926    -0.27001049 -0.11426767 -0.86101206 \n",
       "       V11         V12          V13         V14           V15         \n",
       "315     0.20577322   0.31503832  1.29757895  -1.951782420  0.41060616 \n",
       "1717    1.39008790   0.76851686 -1.00230074   0.920904721  1.18134291 \n",
       "6337    4.56072011  -8.87374836 -0.79748360  -9.177166370 -0.25702478 \n",
       "9860    2.50168589  -1.77313414  1.34999971   1.766331713  0.16865853 \n",
       "10631   9.36907906 -15.09416315  1.25637701 -11.852161304  0.27442981 \n",
       "12071   9.69146098 -13.88659516  0.83836138 -13.517072408 -0.37791061 \n",
       "12575   1.09256064  -1.34414363  2.09789291   0.983804161 -1.43100900 \n",
       "15540   5.25698761  -7.39361499  0.53880083  -7.577552018 -0.03072553 \n",
       "15861  -0.48473711   0.91158487 -0.11220667   0.007957293  0.50865667 \n",
       "17283  -0.22894036  -0.44641219 -0.52785842   0.161862643  0.19968063 \n",
       "17454   3.94783972  -5.48791149  1.36994035  -4.829552443 -0.13441210 \n",
       "20199   0.67528785  -0.67709633 -0.22274113  -0.913786971  1.60333192 \n",
       "22837   3.34925748  -1.08516574 -1.53349070  -5.399875912  0.95682344 \n",
       "30443   3.36784561  -7.88897752  1.68260347  -7.628651916  0.77924600 \n",
       "33277   3.26606602  -2.71918495 -0.12410396  -5.274865819  0.63857500 \n",
       "37921   0.46909094  -0.07005427 -0.98177418   0.555295549 -0.52167351 \n",
       "42010   3.96979981  -7.34671679 -1.16331177  -8.225568912  0.82500183 \n",
       "42204   0.04531094  -0.27650209  0.01484597   0.393538352  1.76088477 \n",
       "42550   7.67453383 -14.29609143  0.52693892 -15.445025812  0.99165120 \n",
       "42610   6.87757090 -13.69768562  0.46304040 -13.044182400 -0.30922927 \n",
       "42785   7.12716532 -12.61100369  1.21455640 -13.906296824  1.51406991 \n",
       "43080   1.05816268   0.76530107 -0.46814487   0.178903186 -0.28542480 \n",
       "47024  -1.03218167   0.96044096  0.37079832  -1.250658784 -2.66971833 \n",
       "50820   1.38764992   1.78643948  0.43232372   0.604388340 -0.65247944 \n",
       "53282   0.66743420   0.61604000 -0.27529729   0.046952385 -1.60035332 \n",
       "57471   2.81431415  -3.34217600 -0.15026937  -4.820322244  1.10260956 \n",
       "60807  -0.06413205  -0.71586714 -2.19831496   1.001576489  0.82643940 \n",
       "62503   0.46416854   0.17356900 -0.75220906   1.190645136  0.32158110 \n",
       "64330   2.70785641  -6.13603447 -0.54597610  -7.028980273  0.91606857 \n",
       "64735   1.23649765   0.46780626 -0.32286578   0.201268937  0.51139565 \n",
       "...    ...         ...          ...         ...           ...         \n",
       "224753  0.4176991   0.40613398  -0.66614555   0.72091312   0.907796761\n",
       "226878  3.9168026  -4.48127960  -1.02747933  -7.11387278  -0.852775230\n",
       "230477  3.0536544  -5.29781140  -1.46602973  -7.03588005   1.997132372\n",
       "234323 -0.5214215   0.22932993  -0.08785723  -1.59121367  -0.007122014\n",
       "234634  1.9913606  -3.98641622   0.57720684  -8.48579451  -0.794782275\n",
       "235635  2.1557961  -6.28512495  -1.12562539  -6.80009809   0.924933779\n",
       "237427  2.8587765  -0.55317994  -0.75849200  -6.45502910  -0.154020882\n",
       "238223  3.3418019  -7.56286043  -1.84744343 -11.57142343  -1.481555842\n",
       "243750  4.6041705  -9.00191486  -1.27632401 -13.96947063   1.256945353\n",
       "243849  4.4800353  -8.83250973  -1.21516414 -13.72568461   1.232744415\n",
       "244334  4.2313933  -8.49348798  -1.09281085 -13.23755851   1.184086482\n",
       "246391 -0.7629392   0.37395325   0.18497841  -1.75719276   0.619867782\n",
       "248462 -1.4150336  -0.96150454  -0.11821458  -0.77226857   1.573706352\n",
       "248972  2.2140003  -1.68983551   0.49843768  -4.39363360  -1.270841395\n",
       "251355 -1.5281755  -0.48002562   0.83272909  -0.57315099   0.300057030\n",
       "251882  1.7018947   0.14462239   0.10408768  -2.95416672  -1.374121926\n",
       "254396 -1.5142047  -0.97376404  -0.70992848   0.14133168  -1.470314152\n",
       "256653  0.1752929   0.74269444   0.35405210   0.47469588  -0.864716847\n",
       "261057  0.7570632  -3.50180378   0.24674222  -6.06562188   0.339583134\n",
       "263294 -0.2536131   0.32926882  -0.38927184   0.74145537  -0.137116904\n",
       "268616 -1.1796342   1.05629051   0.84812820   1.37809448  -0.260102749\n",
       "269238 -1.2788405   0.61827590   1.09797321   0.04003582   0.042374429\n",
       "270425 -0.2953838  -0.06236647  -0.06320983   0.63806753  -0.055959534\n",
       "272522  1.0541072   0.97405852  -1.45366802  -1.42561991   0.577661575\n",
       "274027  1.1441234   0.60502000  -0.03215782  -1.02030629  -1.282549806\n",
       "274423  0.1670564   1.56461365   0.24774165  -0.18285564  -1.892615558\n",
       "275993  1.0320156  -0.72202308  -1.53323965   0.33411945   0.297478860\n",
       "278308  0.3907333   1.32786608   0.38946086  -0.14741865  -1.685495933\n",
       "280068 -0.8447718   0.42827323   0.57313366   0.00379044  -0.411354775\n",
       "281661  1.0861467  -0.11469045  -0.71271717  -2.15761252  -0.598013062\n",
       "       V16          V17          V18         V19         V20          \n",
       "315      0.62267069   0.53444483  0.48583697 -1.0963821   0.004783724 \n",
       "1717    -0.68339443  -0.06381289 -0.02372381  0.8345605   0.153649914 \n",
       "6337    -0.87168849   1.31301363  0.77391387 -2.3705995   0.269772776 \n",
       "9860     0.40776746   0.33997209  0.24397168 -0.4684681  -0.124856277 \n",
       "10631  -10.68824179 -18.38881054 -6.89884013  2.3828079  -0.623737292 \n",
       "12071   -7.85568149 -11.80381519 -4.76102594  0.6186244   0.993584599 \n",
       "12575    0.09106664   0.46201469  0.03717618  0.5995733   0.122461725 \n",
       "15540   -6.45478324 -12.84565652 -4.86591774  1.0624419   1.621444225 \n",
       "15861   -0.97953820   0.17339616 -0.40002421  0.9536946  -0.095041177 \n",
       "17283    0.87620824  -1.47166526  0.61910966 -0.4020125  -0.059255181 \n",
       "17454   -5.12116240 -11.11819045 -4.65995587  0.6089301   1.724778838 \n",
       "20199   -1.02450209   0.02204521 -0.94068467  0.4847589  -1.016923144 \n",
       "22837    0.31114103   1.80275441  1.69655341 -0.3739342   1.283314503 \n",
       "30443   -7.53340433 -14.06462394 -4.96010863  2.5257849   0.757286727 \n",
       "33277   -2.99583038  -4.69843345 -1.71187122  3.0252610  -2.169810892 \n",
       "37921   -1.37926483   0.02837728  1.45274232 -0.2107835   0.521149366 \n",
       "42010   -6.77286703  -8.81578543 -4.56885928  1.1265987   0.185325270 \n",
       "42204   -0.35095523  -0.40651310  0.08511029  2.0017300   0.334150175 \n",
       "42550  -12.39134600 -22.54165173 -7.98672065  2.9925545   1.150017319 \n",
       "42610  -12.31757972 -24.01909855 -9.33519308  1.9518905   0.568338011 \n",
       "42785  -11.12573906 -19.71625731 -7.55278909  3.6567871  -0.088342082 \n",
       "43080   -0.87249042   0.33221006 -0.16550739  1.1073099  -0.036007268 \n",
       "47024   -0.39688207   0.54498088 -1.52623359 -0.9504169  -0.372598483 \n",
       "50820   -0.94490360   0.02888513 -0.11915441 -0.1040951   0.711289109 \n",
       "53282    0.95387164  -0.67002831 -0.21005516 -0.8304400  -0.110174941 \n",
       "57471   -3.15703267  -4.40585022 -2.55882785 -0.2088095   0.310979603 \n",
       "60807    0.45373795  -0.75007478  0.61954972  0.0733976  -0.233206703 \n",
       "62503   -0.29757999  -0.15184136  0.35653561  0.5911682   0.183716647 \n",
       "64330   -4.09288449  -7.01462171 -2.53096726  0.5540275   0.832398066 \n",
       "64735    1.08157304  -0.79514909  0.28797761 -1.3340772  -0.177014943 \n",
       "...    ...          ...          ...         ...         ...          \n",
       "224753 -0.42530020   0.23121456  -0.35529084  0.07761011  0.1426280839\n",
       "226878 -3.83955997  -5.05600999  -1.34449753  1.14847294 -0.7135158108\n",
       "230477 -3.83618853  -2.51518280  -0.86457871  2.32892697  0.3408983157\n",
       "234323  0.04023847   1.18083978   0.07867180  0.06373323  0.0175400637\n",
       "234634 -0.66613427  -1.37262938  -0.10431296 -1.46691055  0.3133316345\n",
       "235635 -5.23960439  -5.01790787  -1.34930886  2.86860289  0.4522413109\n",
       "237427  1.32383298   5.58020925   3.29368759 -0.13769358  0.7012918266\n",
       "238223 -6.18091870  -9.28518598  -3.92172214  0.68551086 -0.1989627800\n",
       "243750 -4.49162923  -5.96998693  -1.27466622  1.14778361 -0.1814552012\n",
       "243849 -4.38968768  -5.81091982  -1.25542240  1.11403305 -0.1819785833\n",
       "244334 -4.18641518  -5.49253579  -1.21610811  1.04610451 -0.1766732481\n",
       "246391 -2.65945794   1.64266281  -1.23549472  1.86774593 -0.1097228064\n",
       "248462 -0.53771176   1.13106136   0.55082881  3.16268338  0.2673265811\n",
       "248972 -1.17662872  -1.85973897  -0.04941859  0.38526261  0.1265179435\n",
       "251355  1.49051946  -0.22229438  -1.30451951  0.92000082  0.1476645186\n",
       "251882  1.88941746   1.71451074   1.10465991 -1.59744021 -0.1722164975\n",
       "254396  0.41826835  -0.82819250  -0.30223942 -1.76235002 -0.2062387911\n",
       "256653  0.53458582  -0.78082902   0.50235661  0.13114253  0.3202927511\n",
       "261057 -1.00572315   0.33431562   0.42126136  1.24714263  0.4995679131\n",
       "263294 -0.74215228  -0.26817264  -0.67724774 -0.30317223 -0.0438958686\n",
       "268616 -0.27815196   0.15490481  -0.46190121 -0.29266388 -0.0139475667\n",
       "269238  0.09956935  -0.63530317  -0.69710241  0.43477287 -0.1139664276\n",
       "270425 -2.21844631   0.10097200   0.42304608 -0.72657678 -0.5506509609\n",
       "272522  0.83680776   2.84494962   1.61350956  2.54831266 -0.4751264428\n",
       "274027  0.48017565  -0.11041345   0.08155936 -0.49876174 -0.1166948477\n",
       "274423 -0.19453866  -0.41432712  -0.40635113  0.57508915 -0.2373531597\n",
       "275993 -0.42939190  -0.82464421   0.48966780  0.87334427  0.0338040155\n",
       "278308 -0.68665756   0.06898748  -0.20492068  1.42625955 -0.0455498016\n",
       "280068 -0.15668912  -0.40970210  -0.88122877 -0.13368748 -0.0009634178\n",
       "281661  0.73198508   1.72726575   1.31395354  0.22772999 -0.1282392333\n",
       "       V21           V22         V23          V24          V25        \n",
       "315    -0.038147464   0.08348074 -0.266017332  0.270832696  0.75435271\n",
       "1717    0.102347460   0.02636957 -0.259711090 -0.271584675  0.55347016\n",
       "6337    0.156617169  -0.65245044 -0.551572219 -0.716521635  1.41571662\n",
       "9860    0.008124261   0.26797347  0.006647708  0.038296252  0.09353337\n",
       "10631   2.086083001   0.76019024  0.716805786 -0.646743430 -1.61704293\n",
       "12071  -2.343673594   1.00460241  1.188212157 -1.047183768 -0.03557277\n",
       "12575  -0.317354928  -0.60977983 -0.127186932 -1.108340962  0.14203488\n",
       "15540   1.765986636  -1.63551665 -0.998316503  0.138972227  1.55935014\n",
       "15861  -0.242381018  -0.46762056 -0.021543682  0.392087957  0.60924235\n",
       "17283  -0.090109049  -0.15216227 -0.204502188 -1.754789726  0.24796809\n",
       "17454   1.812953975  -2.23225159 -1.412803443  0.178731070  2.15604186\n",
       "20199   0.546589340   0.33497074  0.172105676  0.623590288 -0.52711432\n",
       "22837  -0.948698443  -0.03743122  0.129593676  0.135783928 -0.20565080\n",
       "30443   1.691042030   0.92002058 -0.151103893  0.011006878  0.08030327\n",
       "33277  -0.734307917  -0.59992626 -4.908301176  0.410170235 -1.16766025\n",
       "37921  -0.112647575  -1.01187794 -0.509240547  0.057131741  0.21268525\n",
       "42010   2.417495412  -0.09771195  0.382154507 -0.154756520 -0.40395593\n",
       "42204  -0.456246489  -1.31916835  0.152678899  0.929696877 -0.53437640\n",
       "42550   2.331465808   0.86299631 -0.614453238  0.523647877 -0.71259327\n",
       "42610   2.158143084   0.11151036  0.216413836  0.584661255  0.76035951\n",
       "42785   2.267448261  -0.49202917 -0.239302866  0.454368210 -0.10161106\n",
       "43080  -0.043718590   0.01761756  0.002954644 -0.002241227 -0.47710550\n",
       "47024   0.547418982  -0.44952821  0.115867333  0.455806028 -0.35894839\n",
       "50820   0.462949721   0.86207455  0.824033050  0.217114835  0.01199123\n",
       "53282  -0.291157701  -0.92038215  0.127647593  0.259364186  0.17424820\n",
       "57471   0.402729681  -0.13212889 -0.032977176  0.460860837  0.56040380\n",
       "60807   0.003392301  -0.09264672 -0.235133336 -1.366952200  0.67732653\n",
       "62503   0.292660036   0.66975019  0.283372737 -0.687788818 -0.73137164\n",
       "64330   0.931958309  -0.87446736 -0.192639469 -0.035426027  0.53866505\n",
       "64735   0.157032697   0.41396177  0.054541689 -0.011893095  0.11292857\n",
       "...    ...           ...         ...          ...          ...        \n",
       "224753 -0.0002953565 -0.18652618  0.10026893  -1.030534700 -0.65202916\n",
       "226878  0.6412109159 -0.25667838 -2.33723276  -0.158277898  1.19879744\n",
       "230477  0.6477143884  0.12657586  0.20395348   0.008494998 -0.17450115\n",
       "234323 -0.2117561146 -0.56279978  0.13697616   0.478427331 -0.07363433\n",
       "234634  0.2090861361 -0.42593761 -0.15443953  -0.018819504  0.63223395\n",
       "235635  1.1855797816  1.34815613 -0.05368557   0.284121985 -1.17446918\n",
       "237427 -0.0480610881 -0.59935003  0.07219299  -0.600351420  0.37133062\n",
       "238223 -0.1400619951 -0.90772022 -0.68010795  -0.349169893  0.05627589\n",
       "243750  0.5407307523  0.71952634  0.37924875  -0.616961860 -0.44281081\n",
       "243849  0.5470968014  0.68785388  0.42993870  -0.620601279 -0.36968829\n",
       "244334  0.5618921740  0.62420682  0.53642891  -0.628333712 -0.22265123\n",
       "246391 -0.0452656643  0.76898051 -0.15067658  -0.297082342 -0.02222508\n",
       "248462 -0.2938233770 -0.80862262 -0.10561124  -0.388168791 -0.66152634\n",
       "248972  0.3641302406  0.21042809 -0.36601866   0.015802567  0.34921154\n",
       "251355 -0.0638722146 -0.27522270  0.20378123  -1.075842991 -0.38291912\n",
       "251882 -0.3010014814 -0.81897228  0.20681231  -0.263683032 -0.11495810\n",
       "254396  0.2425604691  0.84123012 -0.37015660  -0.026012380  0.49195423\n",
       "256653  0.2472275147  0.17954008  0.31990555   0.356791277 -0.12610860\n",
       "261057  0.0984823222 -0.53837471 -0.21798899  -1.042656617  0.31438882\n",
       "263294  0.0931922784  0.18066970 -0.04382761   0.711710676  0.47982044\n",
       "268616  0.1223242640  0.81171573 -0.02058601   0.125128081  0.14381487\n",
       "269238 -0.3345388583 -0.82164079  0.27329990   0.054768187 -0.14951823\n",
       "270425 -0.2643352753 -0.22606184  0.08773345   0.747855380  0.27379135\n",
       "272522 -6.3891318655  2.24996439  1.67050827   0.140450002  0.16214741\n",
       "274027 -0.1965905053 -0.45075337  0.04217254   0.612514874 -0.95790244\n",
       "274423 -0.4848486763 -1.10890032  0.37361899  -0.537620908 -0.29644876\n",
       "275993 -0.3151045596  0.57551970  0.49084201   0.756502366 -0.14268536\n",
       "278308 -0.3541466457 -0.74230139  0.28078118   0.652732281 -0.81786522\n",
       "280068 -0.2512286330 -0.51555021  0.06773538  -0.075867188 -0.47500049\n",
       "281661 -0.0655144357 -0.03978068 -0.12660062  -0.092709914  0.43809261\n",
       "       V26          V27          V28          Amount Class\n",
       "315    -0.491529029 -0.689818884 -0.329373595   1.00 legit\n",
       "1717    0.033557591 -0.043756731  0.012866859 160.00 legit\n",
       "6337    0.555264740  0.530507389  0.404474055   1.00 fraud\n",
       "9860    1.044329013 -0.078824294 -0.008584845  14.95 legit\n",
       "10631   0.172346890  0.626646781 -0.169726031 766.36 fraud\n",
       "12071   0.664899774  2.122795754 -1.416740615   1.00 fraud\n",
       "12575   0.976383804 -0.065747877  0.000691258 108.08 legit\n",
       "15540  -0.222124517  1.504424660  0.445919826  99.99 fraud\n",
       "15861  -0.844187433  0.063717081  0.029479580  25.18 legit\n",
       "17283  -0.514182498 -0.054254771 -0.233403395 341.82 legit\n",
       "17454  -0.209384624  1.255648901  0.364530453  99.99 fraud\n",
       "20199  -0.079214654 -2.532445298  0.311176715 104.81 fraud\n",
       "22837  -0.638982902 -0.655919355 -0.933288175  89.99 legit\n",
       "30443   0.412191351  0.635788871  0.501049550   4.56 fraud\n",
       "33277   0.520507647  1.937421403 -1.552592839  12.31 fraud\n",
       "37921   1.042039560 -0.180796500  0.074035571 535.55 legit\n",
       "42010   0.277894930  0.830061639  0.218690442 112.33 fraud\n",
       "42204  -0.704226514 -0.036177311 -0.134901138  17.18 legit\n",
       "42550   0.324637965  2.245091466  0.497320849  88.23 fraud\n",
       "42610   0.081972343  1.415067511  0.035124145  83.38 fraud\n",
       "42785   0.446996733  0.062292647 -0.439769900  45.49 fraud\n",
       "43080  -0.464451042  0.069772039  0.155685072   7.84 legit\n",
       "47024   0.714345617  0.103305716  0.033279760  22.00 legit\n",
       "50820  -0.832999717  0.194471969  0.198743560 406.00 legit\n",
       "53282  -0.301028062  0.002962317  0.030579843  42.12 legit\n",
       "57471   0.409366102  0.539668285  0.296918378   0.76 fraud\n",
       "60807  -0.227534096  0.005968488 -0.008569023  22.71 legit\n",
       "62503  -0.362366671  0.329781138  0.226144263 132.92 legit\n",
       "64330  -0.263933517  1.134095094  0.225973164  99.99 fraud\n",
       "64735   0.003943672  0.043541449  0.024706725   4.95 legit\n",
       "...    ...          ...          ...          ...    ...  \n",
       "224753 -0.73133804   0.387883239  0.050308292  12.90 legit\n",
       "226878 -0.26125781   0.780125484 -0.731800816   0.00 fraud\n",
       "230477  0.57529480   0.152875891 -0.098172810  94.82 fraud\n",
       "234323 -0.12067790  -0.022612639  0.001784016  93.61 legit\n",
       "234634  0.19292162   0.468180887  0.280486471   1.59 fraud\n",
       "235635 -0.08783221   0.718789578  0.676215949   0.76 fraud\n",
       "237427 -0.37095099   0.011970249  0.145895339   1.00 fraud\n",
       "238223 -1.14992267  -1.809886120  0.723051433   1.10 fraud\n",
       "243750  0.35984069  -2.651824875  0.422184392   1.00 fraud\n",
       "243849  0.36734875  -2.664767095  0.417100622   1.00 fraud\n",
       "244334  0.38220836  -2.693035689  0.407935126   1.00 fraud\n",
       "246391 -0.16282765  -1.289691779 -0.113153083  27.90 legit\n",
       "248462  0.61347390  -0.110118767  0.187455778   1.29 legit\n",
       "248972  0.64730228   0.171929195  0.117188228   0.76 fraud\n",
       "251355 -0.42509535   0.005355856 -0.039251805  73.97 legit\n",
       "251882 -0.24067212  -0.006629449  0.017257735   3.14 fraud\n",
       "254396  0.23457626  -0.279788418 -0.331933388   7.59 fraud\n",
       "256653  0.15186872  -0.097839477  0.069008090 209.85 legit\n",
       "261057  0.54324358   0.233851015  0.119603461  45.51 fraud\n",
       "263294 -0.48080166  -0.014494787 -0.053322381  93.04 legit\n",
       "268616  0.13120351   0.628157161  0.444077698   9.63 legit\n",
       "269238  0.20529999  -0.070839373 -0.058685537   1.29 legit\n",
       "270425  0.84907398  -0.078839956 -0.086947599  12.50 legit\n",
       "272522  1.20773091   1.268958468  0.097538236  12.31 fraud\n",
       "274027 -0.11969122  -0.151433951  0.011846760   1.79 legit\n",
       "274423 -1.09692550   0.055883552 -0.043139307  12.19 legit\n",
       "275993 -0.60277661   0.508712459 -0.091645526 634.30 fraud\n",
       "278308 -1.09707520  -0.104230972 -0.109862610 138.59 legit\n",
       "280068  0.14583891   0.252884978  0.097543712   5.99 legit\n",
       "281661  0.70217180  -0.089606669 -0.030493192   0.76 legit"
      ]
     },
     "metadata": {},
     "output_type": "display_data"
    }
   ],
   "source": [
    "set.seed(12345)\n",
    "b = balance(data_holdout.raw$Class)\n",
    "data_holdout = data_holdout.raw[b, ]\n",
    "data_holdout$Class = factor(factor(data_holdout$Class), levels=c(0,1), labels=c(\"legit\",\"fraud\"))\n",
    "\n",
    "table(data_holdout$Class)\n",
    "data_holdout"
   ]
  },
  {
   "cell_type": "code",
   "execution_count": 10,
   "metadata": {
    "scrolled": false
   },
   "outputs": [
    {
     "data": {
      "image/png": "[encoded data removed]",
      "text/plain": [
       "plot without title"
      ]
     },
     "metadata": {},
     "output_type": "display_data"
    }
   ],
   "source": [
    "ggplot(data_holdout) + geom_point(aes(x=Time, y=Amount, color=factor(Class))) + scale_color_manual(values=PALETTE[1:2])"
   ]
  },
  {
   "cell_type": "code",
   "execution_count": 11,
   "metadata": {
    "scrolled": false
   },
   "outputs": [
    {
     "data": {
      "text/html": [
       "<table>\n",
       "<thead><tr><th scope=col>class</th><th scope=col>min_V1</th><th scope=col>max_V1</th><th scope=col>min_V2</th><th scope=col>max_V2</th></tr></thead>\n",
       "<tbody>\n",
       "\t<tr><td>legit     </td><td> -5.933152</td><td>2.225099  </td><td>-4.065659 </td><td> 2.433283 </td></tr>\n",
       "\t<tr><td>fraud     </td><td>-29.876366</td><td>1.868226  </td><td>-7.159042 </td><td>16.434525 </td></tr>\n",
       "</tbody>\n",
       "</table>\n"
      ],
      "text/latex": [
       "\\begin{tabular}{r|lllll}\n",
       " class & min\\_V1 & max\\_V1 & min\\_V2 & max\\_V2\\\\\n",
       "\\hline\n",
       "\t legit      &  -5.933152 & 2.225099   & -4.065659  &  2.433283 \\\\\n",
       "\t fraud      & -29.876366 & 1.868226   & -7.159042  & 16.434525 \\\\\n",
       "\\end{tabular}\n"
      ],
      "text/markdown": [
       "\n",
       "| class | min_V1 | max_V1 | min_V2 | max_V2 |\n",
       "|---|---|---|---|---|\n",
       "| legit      |  -5.933152 | 2.225099   | -4.065659  |  2.433283  |\n",
       "| fraud      | -29.876366 | 1.868226   | -7.159042  | 16.434525  |\n",
       "\n"
      ],
      "text/plain": [
       "  class min_V1     max_V1   min_V2    max_V2   \n",
       "1 legit  -5.933152 2.225099 -4.065659  2.433283\n",
       "2 fraud -29.876366 1.868226 -7.159042 16.434525"
      ]
     },
     "metadata": {},
     "output_type": "display_data"
    },
    {
     "data": {
      "image/png": "[encoded data removed]",
      "text/plain": [
       "plot without title"
      ]
     },
     "metadata": {},
     "output_type": "display_data"
    }
   ],
   "source": [
    "data.frame(class=c(\"legit\",\"fraud\"),\n",
    "           min_V1=c(min(data_holdout[data_holdout$Class==\"legit\", \"V1\"]), min(data_holdout[data_holdout$Class==\"fraud\", \"V1\"])),\n",
    "           max_V1=c(max(data_holdout[data_holdout$Class==\"legit\", \"V1\"]), max(data_holdout[data_holdout$Class==\"fraud\", \"V1\"])),\n",
    "           min_V2=c(min(data_holdout[data_holdout$Class==\"legit\", \"V2\"]), min(data_holdout[data_holdout$Class==\"fraud\", \"V2\"])),\n",
    "           max_V2=c(max(data_holdout[data_holdout$Class==\"legit\", \"V2\"]), max(data_holdout[data_holdout$Class==\"fraud\", \"V2\"])))\n",
    "\n",
    "\n",
    "ggplot(data_holdout) + geom_point(aes(x=V1, y=V2, color=Class)) + scale_color_manual(values=PALETTE[1:2])"
   ]
  },
  {
   "cell_type": "markdown",
   "metadata": {},
   "source": [
    "<br>\n",
    "\n",
    "### Predict Fraud by Naive Bayes\n",
    "___"
   ]
  },
  {
   "cell_type": "code",
   "execution_count": 12,
   "metadata": {},
   "outputs": [
    {
     "data": {
      "text/plain": [
       "          Reference\n",
       "Prediction legit fraud\n",
       "     legit    71    11\n",
       "     fraud     2    62"
      ]
     },
     "metadata": {},
     "output_type": "display_data"
    }
   ],
   "source": [
    "cutoff = 0.5\n",
    "mymodel = naiveBayes(Class ~ ., data)\n",
    "postprob = predict(mymodel, data_holdout, type=\"raw\")\n",
    "prediction = as.class.cutoff(postprob, cutoff)\n",
    "prediction.nb = prediction\n",
    "\n",
    "confusionMatrix(prediction, data_holdout$Class)$table"
   ]
  },
  {
   "cell_type": "code",
   "execution_count": 13,
   "metadata": {
    "scrolled": true
   },
   "outputs": [
    {
     "data": {
      "image/png": "[encoded data removed]",
      "text/plain": [
       "plot without title"
      ]
     },
     "metadata": {},
     "output_type": "display_data"
    }
   ],
   "source": [
    "ggplot(data_holdout) +\n",
    "geom_point(aes(x=V1, y=V2, color=Class)) +\n",
    "geom_point(aes(x=V1, y=V2, shape=\"incorrect\"), data=data_holdout[data_holdout$Class!=prediction, ], size=3, color=\"black\") +\n",
    "scale_color_manual(values=PALETTE[1:2]) + scale_shape_manual(values=c(incorrect=1))"
   ]
  },
  {
   "cell_type": "code",
   "execution_count": 14,
   "metadata": {
    "scrolled": true
   },
   "outputs": [
    {
     "data": {
      "image/png": "[encoded data removed]",
      "text/plain": [
       "plot without title"
      ]
     },
     "metadata": {},
     "output_type": "display_data"
    }
   ],
   "source": [
    "p1 = ggplot(data_holdout[data_holdout$Class==prediction,]) + geom_point(aes(x=V1, y=V2, color=Class)) + scale_color_manual(values=PALETTE[1:2]) + xlim(min(data_holdout$V1),max(data_holdout$V1)) + ylim(min(data_holdout$V2),max(data_holdout$V2)) + ggtitle(\"Correct\\nPredictions\") + theme.no_legend\n",
    "p2 = ggplot(data_holdout[data_holdout$Class==\"legit\" & prediction==\"fraud\",]) + geom_point(aes(x=V1, y=V2, color=Class)) + scale_color_manual(values=PALETTE[1]) + xlim(min(data_holdout$V1),max(data_holdout$V1)) + ylim(min(data_holdout$V2),max(data_holdout$V2)) + ggtitle(\"Legitimate Transactions\\nPredicted as Fraudulent\") + theme.no_legend\n",
    "p3 = ggplot(data_holdout[data_holdout$Class==\"fraud\" & prediction==\"legit\",]) + geom_point(aes(x=V1, y=V2, color=Class)) + scale_color_manual(values=PALETTE[2]) + xlim(min(data_holdout$V1),max(data_holdout$V1)) + ylim(min(data_holdout$V2),max(data_holdout$V2)) + ggtitle(\"Fraudulent Transactions\\nPredicted as Legitimate\") + theme.no_legend\n",
    "grid.arrange(p1, p2, p3, nrow=1)"
   ]
  },
  {
   "cell_type": "markdown",
   "metadata": {},
   "source": [
    "<br>\n",
    "\n",
    "### Predict Fraud by Support Vector Machine\n",
    "___"
   ]
  },
  {
   "cell_type": "code",
   "execution_count": 15,
   "metadata": {},
   "outputs": [
    {
     "data": {
      "text/plain": [
       "          Reference\n",
       "Prediction legit fraud\n",
       "     legit    71     7\n",
       "     fraud     2    66"
      ]
     },
     "metadata": {},
     "output_type": "display_data"
    }
   ],
   "source": [
    "mymodel = svm(Class ~ ., data, scale=TRUE, type=\"C-classification\", kernel=\"polynomial\", degree=3, cost=10, probability=FALSE)\n",
    "\n",
    "prediction = predict(mymodel, data_holdout)\n",
    "prediction.svm = prediction\n",
    "\n",
    "confusionMatrix(prediction, data_holdout$Class)$table"
   ]
  },
  {
   "cell_type": "code",
   "execution_count": 16,
   "metadata": {
    "scrolled": true
   },
   "outputs": [
    {
     "data": {
      "image/png": "[encoded data removed]",
      "text/plain": [
       "plot without title"
      ]
     },
     "metadata": {},
     "output_type": "display_data"
    }
   ],
   "source": [
    "ggplot(data_holdout) +\n",
    "geom_point(aes(x=V1, y=V2, color=Class)) +\n",
    "geom_point(aes(x=V1, y=V2, shape=\"incorrect\"), data=data_holdout[data_holdout$Class!=prediction, ], size=3, color=\"black\") +\n",
    "scale_color_manual(values=PALETTE[1:2]) + scale_shape_manual(values=c(incorrect=1))"
   ]
  },
  {
   "cell_type": "code",
   "execution_count": 17,
   "metadata": {
    "scrolled": true
   },
   "outputs": [
    {
     "data": {
      "image/png": "[encoded data removed]",
      "text/plain": [
       "plot without title"
      ]
     },
     "metadata": {},
     "output_type": "display_data"
    }
   ],
   "source": [
    "p1 = ggplot(data_holdout[data_holdout$Class==prediction,]) + geom_point(aes(x=V1, y=V2, color=Class)) + scale_color_manual(values=PALETTE[1:2]) + xlim(min(data_holdout$V1),max(data_holdout$V1)) + ylim(min(data_holdout$V2),max(data_holdout$V2)) + ggtitle(\"Correct\\nPredictions\") + theme.no_legend\n",
    "p2 = ggplot(data_holdout[data_holdout$Class==\"legit\" & prediction==\"fraud\",]) + geom_point(aes(x=V1, y=V2, color=Class)) + scale_color_manual(values=PALETTE[1]) + xlim(min(data_holdout$V1),max(data_holdout$V1)) + ylim(min(data_holdout$V2),max(data_holdout$V2)) + ggtitle(\"Legitimate Transactions\\nPredicted as Fraudulent\") + theme.no_legend\n",
    "p3 = ggplot(data_holdout[data_holdout$Class==\"fraud\" & prediction==\"legit\",]) + geom_point(aes(x=V1, y=V2, color=Class)) + scale_color_manual(values=PALETTE[2]) + xlim(min(data_holdout$V1),max(data_holdout$V1)) + ylim(min(data_holdout$V2),max(data_holdout$V2)) + ggtitle(\"Fraudulent Transactions\\nPredicted as Legitimate\") + theme.no_legend\n",
    "grid.arrange(p1, p2, p3, nrow=1)"
   ]
  },
  {
   "cell_type": "markdown",
   "metadata": {},
   "source": [
    "<br>\n",
    "\n",
    "### Predict Fraud by Neural Network\n",
    "___"
   ]
  },
  {
   "cell_type": "code",
   "execution_count": 35,
   "metadata": {
    "scrolled": false
   },
   "outputs": [
    {
     "data": {
      "text/plain": [
       "          Reference\n",
       "Prediction legit fraud\n",
       "     legit    69     6\n",
       "     fraud     4    67"
      ]
     },
     "metadata": {},
     "output_type": "display_data"
    }
   ],
   "source": [
    "set.seed(12345)\n",
    "data.nn = cbind(data, as.binary(data$Class, \"fraud\")); names(data.nn)[ncol(data.nn)] = \"actual\"\n",
    "#mymodel = neuralnet(actual ~ Time+V1+V2+V3+V4+V5+V6+V7+V8+V9+V10+V11+V12+V13+V14+V15+V16+V17+V18+V19+V20+V21+V22+V23+V24+V25+V26+V27+V28+Amount,\n",
    "#                    data.nn, hidden=c(25, 2), act.fct=\"logistic\", algorithm=\"backprop\", threshold=0.02, learningrate=1, rep=1, linear.output=FALSE)\n",
    "\n",
    "mymodel = neuralnet(actual ~ V1+V2+V3+V4+Amount, data.nn, hidden=c(3), rep=1, linear.output=FALSE)\n",
    "\n",
    "data_holdout.nn = cbind(data_holdout, as.binary(data_holdout$Class, \"fraud\")); names(data_holdout.nn)[ncol(data_holdout.nn)] = \"actual\"\n",
    "result = compute(mymodel, data_holdout.nn[,1:(ncol(data_holdout.nn)-2)], rep=1)$net.result\n",
    "prob = data.frame(fraud=result, legit=1-result)\n",
    "cutoff = 0.5\n",
    "prediction = factor(as.class.cutoff(prob, cutoff), levels=c(\"legit\",\"fraud\"))\n",
    "prediction.nn = prediction\n",
    "\n",
    "confusionMatrix(prediction, data_holdout$Class)$table\n",
    "\n",
    "############## amount"
   ]
  },
  {
   "cell_type": "code",
   "execution_count": 19,
   "metadata": {
    "scrolled": true
   },
   "outputs": [
    {
     "data": {
      "image/png": "[encoded data removed]",
      "text/plain": [
       "plot without title"
      ]
     },
     "metadata": {},
     "output_type": "display_data"
    }
   ],
   "source": [
    "ggplot(data_holdout) +\n",
    "geom_point(aes(x=V1, y=V2, color=Class)) +\n",
    "geom_point(aes(x=V1, y=V2, shape=\"incorrect\"), data=data_holdout[data_holdout$Class!=prediction, ], size=3, color=\"black\") +\n",
    "scale_color_manual(values=PALETTE[1:2]) + scale_shape_manual(values=c(incorrect=1))"
   ]
  },
  {
   "cell_type": "code",
   "execution_count": 20,
   "metadata": {
    "scrolled": true
   },
   "outputs": [
    {
     "data": {
      "image/png": "[encoded data removed]",
      "text/plain": [
       "plot without title"
      ]
     },
     "metadata": {},
     "output_type": "display_data"
    }
   ],
   "source": [
    "p1 = ggplot(data_holdout[data_holdout$Class==prediction,]) + geom_point(aes(x=V1, y=V2, color=Class)) + scale_color_manual(values=PALETTE[1:2]) + xlim(min(data_holdout$V1),max(data_holdout$V1)) + ylim(min(data_holdout$V2),max(data_holdout$V2)) + ggtitle(\"Correct\\nPredictions\") + theme.no_legend\n",
    "p2 = ggplot(data_holdout[data_holdout$Class==\"legit\" & prediction==\"fraud\",]) + geom_point(aes(x=V1, y=V2, color=Class)) + scale_color_manual(values=PALETTE[1]) + xlim(min(data_holdout$V1),max(data_holdout$V1)) + ylim(min(data_holdout$V2),max(data_holdout$V2)) + ggtitle(\"Legitimate Transactions\\nPredicted as Fraudulent\") + theme.no_legend\n",
    "p3 = ggplot(data_holdout[data_holdout$Class==\"fraud\" & prediction==\"legit\",]) + geom_point(aes(x=V1, y=V2, color=Class)) + scale_color_manual(values=PALETTE[2]) + xlim(min(data_holdout$V1),max(data_holdout$V1)) + ylim(min(data_holdout$V2),max(data_holdout$V2)) + ggtitle(\"Fraudulent Transactions\\nPredicted as Legitimate\") + theme.no_legend\n",
    "grid.arrange(p1, p2, p3, nrow=1)"
   ]
  },
  {
   "cell_type": "markdown",
   "metadata": {},
   "source": [
    "<br>\n",
    "\n",
    "### Predict Fraud by Logistic Regression\n",
    "___"
   ]
  },
  {
   "cell_type": "code",
   "execution_count": 21,
   "metadata": {},
   "outputs": [
    {
     "data": {
      "text/plain": [
       "          Reference\n",
       "Prediction legit fraud\n",
       "     legit    71     7\n",
       "     fraud     2    66"
      ]
     },
     "metadata": {},
     "output_type": "display_data"
    }
   ],
   "source": [
    "mymodel = glm(Class ~ ., binomial(link=\"logit\"), data)\n",
    "\n",
    "prob.B = predict(mymodel, data_holdout, type=\"response\")\n",
    "prob = data.frame(legit=1-prob.B, fraud=prob.B)\n",
    "cutoff = 0.5\n",
    "prediction = as.class.cutoff(prob, cutoff)\n",
    "prediction.lr = prediction\n",
    "\n",
    "confusionMatrix(prediction, data_holdout$Class)$table"
   ]
  },
  {
   "cell_type": "code",
   "execution_count": 22,
   "metadata": {
    "scrolled": true
   },
   "outputs": [
    {
     "data": {
      "image/png": "[encoded data removed]",
      "text/plain": [
       "plot without title"
      ]
     },
     "metadata": {},
     "output_type": "display_data"
    }
   ],
   "source": [
    "ggplot(data_holdout) +\n",
    "geom_point(aes(x=V1, y=V2, color=Class)) +\n",
    "geom_point(aes(x=V1, y=V2, shape=\"incorrect\"), data=data_holdout[data_holdout$Class!=prediction, ], size=3, color=\"black\") +\n",
    "scale_color_manual(values=PALETTE[1:2]) + scale_shape_manual(values=c(incorrect=1))"
   ]
  },
  {
   "cell_type": "code",
   "execution_count": 23,
   "metadata": {
    "scrolled": true
   },
   "outputs": [
    {
     "data": {
      "image/png": "[encoded data removed]",
      "text/plain": [
       "plot without title"
      ]
     },
     "metadata": {},
     "output_type": "display_data"
    }
   ],
   "source": [
    "p1 = ggplot(data_holdout[data_holdout$Class==prediction,]) + geom_point(aes(x=V1, y=V2, color=Class)) + scale_color_manual(values=PALETTE[1:2]) + xlim(min(data_holdout$V1),max(data_holdout$V1)) + ylim(min(data_holdout$V2),max(data_holdout$V2)) + ggtitle(\"Correct\\nPredictions\") + theme.no_legend\n",
    "p2 = ggplot(data_holdout[data_holdout$Class==\"legit\" & prediction==\"fraud\",]) + geom_point(aes(x=V1, y=V2, color=Class)) + scale_color_manual(values=PALETTE[1]) + xlim(min(data_holdout$V1),max(data_holdout$V1)) + ylim(min(data_holdout$V2),max(data_holdout$V2)) + ggtitle(\"Legitimate Transactions\\nPredicted as Fraudulent\") + theme.no_legend\n",
    "p3 = ggplot(data_holdout[data_holdout$Class==\"fraud\" & prediction==\"legit\",]) + geom_point(aes(x=V1, y=V2, color=Class)) + scale_color_manual(values=PALETTE[2]) + xlim(min(data_holdout$V1),max(data_holdout$V1)) + ylim(min(data_holdout$V2),max(data_holdout$V2)) + ggtitle(\"Fraudulent Transactions\\nPredicted as Legitimate\") + theme.no_legend\n",
    "grid.arrange(p1, p2, p3, nrow=1)"
   ]
  },
  {
   "cell_type": "markdown",
   "metadata": {},
   "source": [
    "<br>\n",
    "\n",
    "### Predict Fraud by Decision Tree\n",
    "___"
   ]
  },
  {
   "cell_type": "code",
   "execution_count": 24,
   "metadata": {},
   "outputs": [
    {
     "data": {
      "text/plain": [
       "          Reference\n",
       "Prediction legit fraud\n",
       "     legit    70     6\n",
       "     fraud     3    67"
      ]
     },
     "metadata": {},
     "output_type": "display_data"
    }
   ],
   "source": [
    "mymodel = rpart(Class ~ ., data, method=\"class\", control=list(minsplit=1))\n",
    "prob = predict(mymodel, data_holdout, type=\"prob\")\n",
    "cutoff = 0.5\n",
    "prediction = as.class.cutoff(prob, cutoff)\n",
    "prediction.tree = prediction\n",
    "\n",
    "confusionMatrix(prediction, data_holdout$Class)$table"
   ]
  },
  {
   "cell_type": "code",
   "execution_count": 25,
   "metadata": {
    "scrolled": true
   },
   "outputs": [
    {
     "data": {
      "image/png": "[encoded data removed]",
      "text/plain": [
       "plot without title"
      ]
     },
     "metadata": {},
     "output_type": "display_data"
    }
   ],
   "source": [
    "ggplot(data_holdout) +\n",
    "geom_point(aes(x=V1, y=V2, color=Class)) +\n",
    "geom_point(aes(x=V1, y=V2, shape=\"incorrect\"), data=data_holdout[data_holdout$Class!=prediction, ], size=3, color=\"black\") +\n",
    "scale_color_manual(values=PALETTE[1:2]) + scale_shape_manual(values=c(incorrect=1))"
   ]
  },
  {
   "cell_type": "code",
   "execution_count": 26,
   "metadata": {
    "scrolled": true
   },
   "outputs": [
    {
     "data": {
      "image/png": "[encoded data removed]",
      "text/plain": [
       "plot without title"
      ]
     },
     "metadata": {},
     "output_type": "display_data"
    }
   ],
   "source": [
    "p1 = ggplot(data_holdout[data_holdout$Class==prediction,]) + geom_point(aes(x=V1, y=V2, color=Class)) + scale_color_manual(values=PALETTE[1:2]) + xlim(min(data_holdout$V1),max(data_holdout$V1)) + ylim(min(data_holdout$V2),max(data_holdout$V2)) + ggtitle(\"Correct\\nPredictions\") + theme.no_legend\n",
    "p2 = ggplot(data_holdout[data_holdout$Class==\"legit\" & prediction==\"fraud\",]) + geom_point(aes(x=V1, y=V2, color=Class)) + scale_color_manual(values=PALETTE[1]) + xlim(min(data_holdout$V1),max(data_holdout$V1)) + ylim(min(data_holdout$V2),max(data_holdout$V2)) + ggtitle(\"Legitimate Transactions\\nPredicted as Fraudulent\") + theme.no_legend\n",
    "p3 = ggplot(data_holdout[data_holdout$Class==\"fraud\" & prediction==\"legit\",]) + geom_point(aes(x=V1, y=V2, color=Class)) + scale_color_manual(values=PALETTE[2]) + xlim(min(data_holdout$V1),max(data_holdout$V1)) + ylim(min(data_holdout$V2),max(data_holdout$V2)) + ggtitle(\"Fraudulent Transactions\\nPredicted as Legitimate\") + theme.no_legend\n",
    "grid.arrange(p1, p2, p3, nrow=1)"
   ]
  },
  {
   "cell_type": "markdown",
   "metadata": {},
   "source": [
    "<br>\n",
    "\n",
    "### Predict Fraud by k Nearest Neighbor\n",
    "___"
   ]
  },
  {
   "cell_type": "code",
   "execution_count": 27,
   "metadata": {},
   "outputs": [
    {
     "data": {
      "text/plain": [
       "          Reference\n",
       "Prediction legit fraud\n",
       "     legit    70     7\n",
       "     fraud     3    66"
      ]
     },
     "metadata": {},
     "output_type": "display_data"
    }
   ],
   "source": [
    "prob = kknn(Class ~ ., data, data_holdout, k=10)$prob\n",
    "cutoff = 0.5\n",
    "prediction = as.class.cutoff(prob, cutoff)\n",
    "prediction.knn = prediction\n",
    "\n",
    "confusionMatrix(prediction, data_holdout$Class)$table"
   ]
  },
  {
   "cell_type": "code",
   "execution_count": 28,
   "metadata": {
    "scrolled": true
   },
   "outputs": [
    {
     "data": {
      "image/png": "[encoded data removed]",
      "text/plain": [
       "plot without title"
      ]
     },
     "metadata": {},
     "output_type": "display_data"
    }
   ],
   "source": [
    "ggplot(data_holdout) +\n",
    "geom_point(aes(x=V1, y=V2, color=Class)) +\n",
    "geom_point(aes(x=V1, y=V2, shape=\"incorrect\"), data=data_holdout[data_holdout$Class!=prediction, ], size=3, color=\"black\") +\n",
    "scale_color_manual(values=PALETTE[1:2]) + scale_shape_manual(values=c(incorrect=1))"
   ]
  },
  {
   "cell_type": "code",
   "execution_count": 29,
   "metadata": {
    "scrolled": true
   },
   "outputs": [
    {
     "data": {
      "image/png": "[encoded data removed]",
      "text/plain": [
       "plot without title"
      ]
     },
     "metadata": {},
     "output_type": "display_data"
    }
   ],
   "source": [
    "p1 = ggplot(data_holdout[data_holdout$Class==prediction,]) + geom_point(aes(x=V1, y=V2, color=Class)) + scale_color_manual(values=PALETTE[1:2]) + xlim(min(data_holdout$V1),max(data_holdout$V1)) + ylim(min(data_holdout$V2),max(data_holdout$V2)) + ggtitle(\"Correct\\nPredictions\") + theme.no_legend\n",
    "p2 = ggplot(data_holdout[data_holdout$Class==\"legit\" & prediction==\"fraud\",]) + geom_point(aes(x=V1, y=V2, color=Class)) + scale_color_manual(values=PALETTE[1]) + xlim(min(data_holdout$V1),max(data_holdout$V1)) + ylim(min(data_holdout$V2),max(data_holdout$V2)) + ggtitle(\"Legitimate Transactions\\nPredicted as Fraudulent\") + theme.no_legend\n",
    "p3 = ggplot(data_holdout[data_holdout$Class==\"fraud\" & prediction==\"legit\",]) + geom_point(aes(x=V1, y=V2, color=Class)) + scale_color_manual(values=PALETTE[2]) + xlim(min(data_holdout$V1),max(data_holdout$V1)) + ylim(min(data_holdout$V2),max(data_holdout$V2)) + ggtitle(\"Fraudulent Transactions\\nPredicted as Legitimate\") + theme.no_legend\n",
    "grid.arrange(p1, p2, p3, nrow=1)"
   ]
  },
  {
   "cell_type": "markdown",
   "metadata": {},
   "source": [
    "<br>\n",
    "\n",
    "### Comparison of Methods\n",
    "___\n",
    "\n",
    "Some metrics on which to base a comparison of methods:\n",
    "* accuracy: correct predictions / total\n",
    "* true positive rate (aka sensitivity): correct positive predictions / positive actuals\n",
    "* true negative rate (aka specificity): correct negative predictions / negative actuals\n",
    "* positive predictive value (aka precision): correct positive predictions / positive predictions\n",
    "* negative predictive value: correct negative predictions / negative predictions\n",
    "\n",
    "For our case, positive means fraudulent, negative means legitimate."
   ]
  },
  {
   "cell_type": "code",
   "execution_count": 30,
   "metadata": {},
   "outputs": [
    {
     "data": {
      "text/html": [
       "<table>\n",
       "<thead><tr><th scope=col>method</th><th scope=col>accuracy</th><th scope=col>true_pos_rate</th><th scope=col>true_neg_rate</th><th scope=col>pos_pred_value</th><th scope=col>neg_pred_value</th></tr></thead>\n",
       "<tbody>\n",
       "\t<tr><td>naive_bayes           </td><td>0.9109589             </td><td>0.9687500             </td><td>0.8658537             </td><td>0.8493151             </td><td>0.9726027             </td></tr>\n",
       "\t<tr><td>support vector machine</td><td>0.9383562             </td><td>0.9705882             </td><td>0.9705882             </td><td>0.9041096             </td><td>0.9041096             </td></tr>\n",
       "\t<tr><td>neural network        </td><td>0.5000000             </td><td>0.5000000             </td><td>0.5000000             </td><td>       NA             </td><td>       NA             </td></tr>\n",
       "\t<tr><td>logistic regression   </td><td>0.9383562             </td><td>0.9705882             </td><td>0.9102564             </td><td>0.9041096             </td><td>0.9726027             </td></tr>\n",
       "\t<tr><td>decision tree         </td><td>0.9383562             </td><td>0.9571429             </td><td>0.9210526             </td><td>0.9178082             </td><td>0.9589041             </td></tr>\n",
       "\t<tr><td>k nearest neighbor    </td><td>0.9315068             </td><td>0.9565217             </td><td>0.9090909             </td><td>0.9041096             </td><td>0.9589041             </td></tr>\n",
       "</tbody>\n",
       "</table>\n"
      ],
      "text/latex": [
       "\\begin{tabular}{r|llllll}\n",
       " method & accuracy & true\\_pos\\_rate & true\\_neg\\_rate & pos\\_pred\\_value & neg\\_pred\\_value\\\\\n",
       "\\hline\n",
       "\t naive\\_bayes            & 0.9109589                & 0.9687500                & 0.8658537                & 0.8493151                & 0.9726027               \\\\\n",
       "\t support vector machine & 0.9383562              & 0.9705882              & 0.9705882              & 0.9041096              & 0.9041096             \\\\\n",
       "\t neural network         & 0.5000000              & 0.5000000              & 0.5000000              &        NA              &        NA             \\\\\n",
       "\t logistic regression    & 0.9383562              & 0.9705882              & 0.9102564              & 0.9041096              & 0.9726027             \\\\\n",
       "\t decision tree          & 0.9383562              & 0.9571429              & 0.9210526              & 0.9178082              & 0.9589041             \\\\\n",
       "\t k nearest neighbor     & 0.9315068              & 0.9565217              & 0.9090909              & 0.9041096              & 0.9589041             \\\\\n",
       "\\end{tabular}\n"
      ],
      "text/markdown": [
       "\n",
       "| method | accuracy | true_pos_rate | true_neg_rate | pos_pred_value | neg_pred_value |\n",
       "|---|---|---|---|---|---|\n",
       "| naive_bayes            | 0.9109589              | 0.9687500              | 0.8658537              | 0.8493151              | 0.9726027              |\n",
       "| support vector machine | 0.9383562              | 0.9705882              | 0.9705882              | 0.9041096              | 0.9041096              |\n",
       "| neural network         | 0.5000000              | 0.5000000              | 0.5000000              |        NA              |        NA              |\n",
       "| logistic regression    | 0.9383562              | 0.9705882              | 0.9102564              | 0.9041096              | 0.9726027              |\n",
       "| decision tree          | 0.9383562              | 0.9571429              | 0.9210526              | 0.9178082              | 0.9589041              |\n",
       "| k nearest neighbor     | 0.9315068              | 0.9565217              | 0.9090909              | 0.9041096              | 0.9589041              |\n",
       "\n"
      ],
      "text/plain": [
       "  method                 accuracy  true_pos_rate true_neg_rate pos_pred_value\n",
       "1 naive_bayes            0.9109589 0.9687500     0.8658537     0.8493151     \n",
       "2 support vector machine 0.9383562 0.9705882     0.9705882     0.9041096     \n",
       "3 neural network         0.5000000 0.5000000     0.5000000            NA     \n",
       "4 logistic regression    0.9383562 0.9705882     0.9102564     0.9041096     \n",
       "5 decision tree          0.9383562 0.9571429     0.9210526     0.9178082     \n",
       "6 k nearest neighbor     0.9315068 0.9565217     0.9090909     0.9041096     \n",
       "  neg_pred_value\n",
       "1 0.9726027     \n",
       "2 0.9041096     \n",
       "3        NA     \n",
       "4 0.9726027     \n",
       "5 0.9589041     \n",
       "6 0.9589041     "
      ]
     },
     "metadata": {},
     "output_type": "display_data"
    },
    {
     "data": {
      "image/png": "[encoded data removed]",
      "text/plain": [
       "plot without title"
      ]
     },
     "metadata": {},
     "output_type": "display_data"
    }
   ],
   "source": [
    "metric = data.frame(method=c(\"naive_bayes\",\n",
    "                             \"support vector machine\",\n",
    "                             \"neural network\",\n",
    "                             \"logistic regression\",\n",
    "                             \"decision tree\",\n",
    "                             \"k nearest neighbor\"),\n",
    "                    accuracy=c(confusionMatrix(prediction.nb,   data_holdout$Class)$overall[\"Accuracy\"],\n",
    "                               confusionMatrix(prediction.svm,  data_holdout$Class)$overall[\"Accuracy\"],\n",
    "                               confusionMatrix(prediction.nn,   data_holdout$Class)$overall[\"Accuracy\"],\n",
    "                               confusionMatrix(prediction.lr,   data_holdout$Class)$overall[\"Accuracy\"],\n",
    "                               confusionMatrix(prediction.tree, data_holdout$Class)$overall[\"Accuracy\"],\n",
    "                               confusionMatrix(prediction.knn,  data_holdout$Class)$overall[\"Accuracy\"]),\n",
    "                    true_pos_rate=c(sensitivity(data_holdout$Class, prediction.nb,   positive=\"fraud\"),\n",
    "                                    sensitivity(data_holdout$Class, prediction.svm,  positive=\"fraud\"),\n",
    "                                    sensitivity(data_holdout$Class, prediction.nn,   positive=\"fraud\"),\n",
    "                                    sensitivity(data_holdout$Class, prediction.lr,   positive=\"fraud\"),\n",
    "                                    sensitivity(data_holdout$Class, prediction.tree, positive=\"fraud\"),\n",
    "                                    sensitivity(data_holdout$Class, prediction.knn,  positive=\"fraud\")),\n",
    "                    true_neg_rate=c(specificity(data_holdout$Class, prediction.nb,   positive=\"fraud\"),\n",
    "                                    specificity(data_holdout$Class, prediction.svm,  positive=\"fraud\"),\n",
    "                                    specificity(data_holdout$Class, prediction.nn,   positive=\"fraud\"),\n",
    "                                    specificity(data_holdout$Class, prediction.lr,   positive=\"fraud\"),\n",
    "                                    specificity(data_holdout$Class, prediction.tree, positive=\"fraud\"),\n",
    "                                    specificity(data_holdout$Class, prediction.knn,  positive=\"fraud\")),\n",
    "                    pos_pred_value=c(posPredValue(data_holdout$Class, prediction.nb,   positive=\"fraud\"),\n",
    "                                     posPredValue(data_holdout$Class, prediction.svm,  positive=\"fraud\"),\n",
    "                                     posPredValue(data_holdout$Class, prediction.nn,   positive=\"fraud\"),\n",
    "                                     posPredValue(data_holdout$Class, prediction.lr,   positive=\"fraud\"),\n",
    "                                     posPredValue(data_holdout$Class, prediction.tree, positive=\"fraud\"),\n",
    "                                     posPredValue(data_holdout$Class, prediction.knn,  positive=\"fraud\")),\n",
    "                    neg_pred_value=c(negPredValue(data_holdout$Class, prediction.nb,   positive=\"fraud\"),\n",
    "                                     negPredValue(data_holdout$Class, prediction.svm,  positive=\"fraud\"),\n",
    "                                     negPredValue(data_holdout$Class, prediction.nn,   positive=\"fraud\"),\n",
    "                                     negPredValue(data_holdout$Class, prediction.lr,   positive=\"fraud\"),\n",
    "                                     negPredValue(data_holdout$Class, prediction.tree, positive=\"fraud\"),\n",
    "                                     negPredValue(data_holdout$Class, prediction.knn,  positive=\"fraud\")))\n",
    "\n",
    "\n",
    "metric\n",
    "ggplot(melt(metric, id.vars=\"method\")) + geom_line(aes(x=variable, y=value, group=method, color=method)) + scale_color_manual(values=PALETTE, breaks=metric$method) + xlab(NULL) + ylab(NULL)"
   ]
  },
  {
   "cell_type": "markdown",
   "metadata": {},
   "source": [
    "<br>\n",
    "\n",
    "### Discussion\n",
    "___\n",
    "You should be able to demonstrate an understanding of ...\n",
    "* ... holdout method, conceptually.\n",
    "* ... different metrics to assess model performance, conceptually."
   ]
  },
  {
   "cell_type": "markdown",
   "metadata": {},
   "source": [
    "<br>\n",
    "\n",
    "### Further Reading\n",
    "___\n",
    "_Further reading coming soon ..._"
   ]
  },
  {
   "cell_type": "markdown",
   "metadata": {},
   "source": [
    "$\\tiny \\text{Copyright (c) Berkeley Data Analytics Group, LLC}$"
   ]
  }
 ],
 "metadata": {
  "hide_code_all_hidden": false,
  "hide_input": false,
  "kernelspec": {
   "display_name": "R",
   "language": "R",
   "name": "ir"
  },
  "language_info": {
   "codemirror_mode": "r",
   "file_extension": ".r",
   "mimetype": "text/x-r-source",
   "name": "R",
   "pygments_lexer": "r",
   "version": "3.5.3"
  }
 },
 "nbformat": 4,
 "nbformat_minor": 2
}
