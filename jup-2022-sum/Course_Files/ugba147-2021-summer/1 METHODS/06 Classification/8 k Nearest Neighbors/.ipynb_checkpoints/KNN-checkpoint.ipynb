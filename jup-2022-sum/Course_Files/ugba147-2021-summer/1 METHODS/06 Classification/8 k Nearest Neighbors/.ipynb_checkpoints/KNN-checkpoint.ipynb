{
 "cells": [
  {
   "cell_type": "markdown",
   "metadata": {},
   "source": [
    "This lecture is in progress ..."
   ]
  },
  {
   "cell_type": "markdown",
   "metadata": {
    "hideCode": false,
    "hidePrompt": false
   },
   "source": [
    "# Classification by k Nearest Neighbors\n",
    "![](banner_knn.jpg)"
   ]
  },
  {
   "cell_type": "code",
   "execution_count": 1,
   "metadata": {
    "hide_input": true
   },
   "outputs": [
    {
     "name": "stdout",
     "output_type": "stream",
     "text": [
      "Open code cell here for notebook apparatus."
     ]
    }
   ],
   "source": [
    "cat(\"Open code cell here for notebook apparatus.\")\n",
    "\n",
    "options(warn=-1)\n",
    "\n",
    "# Load some required functions\n",
    "library(ggplot2,  verbose=FALSE, warn.conflicts=FALSE, quietly=TRUE)\n",
    "library(kknn,     verbose=FALSE, warn.conflicts=FALSE, quietly=TRUE)\n",
    "\n",
    "# Define some useful functions\n",
    "as.class = function(prob, class, cutoff=NA) { f = factor(prob[,colnames(prob)==class]>=cutoff, levels=c(TRUE, FALSE), labels=c(class, setdiff(colnames(prob), class))); attr(f, \"names\") = NULL; f }\n",
    "\n",
    "# Define some visualization constants\n",
    "restore = list(repr.plot.width=8, repr.plot.height=3)\n",
    "PALETTE = c(\"#00A9FF\", \"#F8766D\", \"#7CAE00\", \"#C77CFF\", \"#CD9600\", \"#00BE67\", \"#FF61CC\", \"#00BFC4\")\n",
    "theme.x_axis_only = theme(axis.title.y=element_blank(), axis.text.y=element_blank(), axis.ticks.y=element_blank(), panel.grid.major.y=element_blank(), panel.grid.minor.y=element_blank())\n",
    "theme.y_axis_only = theme(axis.title.x=element_blank(), axis.text.x=element_blank(), axis.ticks.x=element_blank(), panel.grid.major.x=element_blank(), panel.grid.minor.x=element_blank())\n",
    "theme.no_axes = theme.x_axis_only + theme.y_axis_only\n",
    "theme.no_legend = theme(legend.position=\"none\")\n",
    "\n",
    "# Set some visualization formatting defaults\n",
    "options(restore)\n",
    "update_geom_defaults(\"point\", list(size=3, colour=PALETTE[3]))\n",
    "update_geom_defaults(\"label\", list(colour=\"black\"))\n",
    "theme_update(plot.title=element_text(size=10, hjust=0.5), plot.subtitle=element_text(size=8, face=\"italic\", hjust=0.5), axis.title=element_text(size=7), axis.text=element_text(size=7), strip.text=element_text(size=7), strip.text.y=element_text(angle=90), legend.title=element_blank(), legend.text=element_text(size=7))"
   ]
  },
  {
   "cell_type": "markdown",
   "metadata": {},
   "source": [
    "## Introduction\n",
    "\n",
    "Motivation, context, history, overview, related topics, terminology ..."
   ]
  },
  {
   "cell_type": "markdown",
   "metadata": {},
   "source": [
    "## Discourse"
   ]
  },
  {
   "cell_type": "markdown",
   "metadata": {},
   "source": [
    "Predict the class of a new observation based on how similar its variable values are to those of already classified observations.  Note, the data _is_ the model."
   ]
  },
  {
   "cell_type": "markdown",
   "metadata": {},
   "source": [
    "## Code"
   ]
  },
  {
   "cell_type": "markdown",
   "metadata": {},
   "source": [
    "### Useful Functions"
   ]
  },
  {
   "cell_type": "code",
   "execution_count": 2,
   "metadata": {},
   "outputs": [],
   "source": [
    "# help(kknn,package=\"kknn\")"
   ]
  },
  {
   "cell_type": "markdown",
   "metadata": {},
   "source": [
    "### Templates"
   ]
  },
  {
   "cell_type": "code",
   "execution_count": 3,
   "metadata": {
    "scrolled": false
   },
   "outputs": [
    {
     "data": {
      "text/html": [
       "<table>\n",
       "<thead><tr><th scope=col>A</th><th scope=col>B</th></tr></thead>\n",
       "<tbody>\n",
       "\t<tr><td>0.3105654 </td><td>0.68943457</td></tr>\n",
       "\t<tr><td>0.9035238 </td><td>0.09647616</td></tr>\n",
       "\t<tr><td>0.3105654 </td><td>0.68943457</td></tr>\n",
       "\t<tr><td>0.5929584 </td><td>0.40704160</td></tr>\n",
       "</tbody>\n",
       "</table>\n"
      ],
      "text/latex": [
       "\\begin{tabular}{ll}\n",
       " A & B\\\\\n",
       "\\hline\n",
       "\t 0.3105654  & 0.68943457\\\\\n",
       "\t 0.9035238  & 0.09647616\\\\\n",
       "\t 0.3105654  & 0.68943457\\\\\n",
       "\t 0.5929584  & 0.40704160\\\\\n",
       "\\end{tabular}\n"
      ],
      "text/markdown": [
       "\n",
       "| A | B |\n",
       "|---|---|\n",
       "| 0.3105654  | 0.68943457 |\n",
       "| 0.9035238  | 0.09647616 |\n",
       "| 0.3105654  | 0.68943457 |\n",
       "| 0.5929584  | 0.40704160 |\n",
       "\n"
      ],
      "text/plain": [
       "     A         B         \n",
       "[1,] 0.3105654 0.68943457\n",
       "[2,] 0.9035238 0.09647616\n",
       "[3,] 0.3105654 0.68943457\n",
       "[4,] 0.5929584 0.40704160"
      ]
     },
     "metadata": {},
     "output_type": "display_data"
    },
    {
     "data": {
      "text/html": [
       "<ol class=list-inline>\n",
       "\t<li>B</li>\n",
       "\t<li>A</li>\n",
       "\t<li>B</li>\n",
       "\t<li>B</li>\n",
       "</ol>\n",
       "\n",
       "<details>\n",
       "\t<summary style=display:list-item;cursor:pointer>\n",
       "\t\t<strong>Levels</strong>:\n",
       "\t</summary>\n",
       "\t<ol class=list-inline>\n",
       "\t\t<li>'A'</li>\n",
       "\t\t<li>'B'</li>\n",
       "\t</ol>\n",
       "</details>"
      ],
      "text/latex": [
       "\\begin{enumerate*}\n",
       "\\item B\n",
       "\\item A\n",
       "\\item B\n",
       "\\item B\n",
       "\\end{enumerate*}\n",
       "\n",
       "\\emph{Levels}: \\begin{enumerate*}\n",
       "\\item 'A'\n",
       "\\item 'B'\n",
       "\\end{enumerate*}\n"
      ],
      "text/markdown": [
       "1. B\n",
       "2. A\n",
       "3. B\n",
       "4. B\n",
       "\n",
       "\n",
       "\n",
       "**Levels**: 1. 'A'\n",
       "2. 'B'\n",
       "\n",
       "\n"
      ],
      "text/plain": [
       "[1] B A B B\n",
       "Levels: A B"
      ]
     },
     "metadata": {},
     "output_type": "display_data"
    },
    {
     "data": {
      "text/html": [
       "<table>\n",
       "<thead><tr><th scope=col>x1</th><th scope=col>x2</th><th scope=col>x3</th><th scope=col>prediction</th></tr></thead>\n",
       "<tbody>\n",
       "\t<tr><td>5</td><td>8</td><td>1</td><td>B</td></tr>\n",
       "\t<tr><td>6</td><td>7</td><td>5</td><td>A</td></tr>\n",
       "\t<tr><td>7</td><td>6</td><td>2</td><td>B</td></tr>\n",
       "\t<tr><td>8</td><td>5</td><td>6</td><td>B</td></tr>\n",
       "</tbody>\n",
       "</table>\n"
      ],
      "text/latex": [
       "\\begin{tabular}{r|llll}\n",
       " x1 & x2 & x3 & prediction\\\\\n",
       "\\hline\n",
       "\t 5 & 8 & 1 & B\\\\\n",
       "\t 6 & 7 & 5 & A\\\\\n",
       "\t 7 & 6 & 2 & B\\\\\n",
       "\t 8 & 5 & 6 & B\\\\\n",
       "\\end{tabular}\n"
      ],
      "text/markdown": [
       "\n",
       "| x1 | x2 | x3 | prediction |\n",
       "|---|---|---|---|\n",
       "| 5 | 8 | 1 | B |\n",
       "| 6 | 7 | 5 | A |\n",
       "| 7 | 6 | 2 | B |\n",
       "| 8 | 5 | 6 | B |\n",
       "\n"
      ],
      "text/plain": [
       "  x1 x2 x3 prediction\n",
       "1 5  8  1  B         \n",
       "2 6  7  5  A         \n",
       "3 7  6  2  B         \n",
       "4 8  5  6  B         "
      ]
     },
     "metadata": {},
     "output_type": "display_data"
    }
   ],
   "source": [
    "data.train = data.frame(x1=c(1,2,3,4,5,6,7,8), x2=c(9,7,6,5,4,3,2,1), x3=c(1,1,2,2,3,3,4,4), class=c(\"A\", \"B\", \"A\", \"B\", \"A\", \"B\", \"A\", \"B\"))\n",
    "data.new = data.frame(x1=c(5,6,7,8), x2=c(8,7,6,5), x3=c(1,5,2,6))\n",
    "cutoff = 0.6\n",
    "\n",
    "prob = kknn(class ~ x1+x2+x3, data.train, data.new, k=3)$prob\n",
    "prediction = as.class(prob, class=\"A\", cutoff) # based on probability that exceeds cutoff\n",
    "\n",
    "prob\n",
    "prediction\n",
    "cbind(data.new, prediction)"
   ]
  },
  {
   "cell_type": "markdown",
   "metadata": {},
   "source": [
    "## Expectations\n",
    "\n",
    "Know about this:\n",
    "* how to build a k nearest neighbor model based on classified data, and use it to predict the classes of new observations, using R's `kknn` function"
   ]
  },
  {
   "cell_type": "markdown",
   "metadata": {},
   "source": [
    "### Further Reading\n",
    "\n",
    "* https://www.rdocumentation.org/packages/rpart/versions/4.1-12/topics/rpart\n",
    "* https://cran.r-project.org/web/packages/ggdendro/vignettes/ggdendro.html\n",
    "* https://www.rdocumentation.org/packages/kknn/versions/1.3.1/topics/kknn\n",
    "* https://www.statmethods.net/advstats/cart.html\n",
    "* https://www.statmethods.net/advstats/glm.html"
   ]
  },
  {
   "cell_type": "markdown",
   "metadata": {},
   "source": [
    "<font size=1;>\n",
    "<p style=\"text-align: left;\">\n",
    "Copyright (c) Berkeley Data Analytics Group, LLC\n",
    "<span style=\"float: right;\">\n",
    "document revised June 24, 2019\n",
    "</span>\n",
    "</p>\n",
    "</font>"
   ]
  }
 ],
 "metadata": {
  "hide_code_all_hidden": false,
  "hide_input": false,
  "kernelspec": {
   "display_name": "R",
   "language": "R",
   "name": "ir"
  },
  "language_info": {
   "codemirror_mode": "r",
   "file_extension": ".r",
   "mimetype": "text/x-r-source",
   "name": "R",
   "pygments_lexer": "r",
   "version": "3.5.3"
  },
  "toc": {
   "base_numbering": 1,
   "nav_menu": {},
   "number_sections": true,
   "sideBar": true,
   "skip_h1_title": true,
   "title_cell": "Table of Contents",
   "title_sidebar": "Contents",
   "toc_cell": false,
   "toc_position": {
    "height": "calc(100% - 180px)",
    "left": "10px",
    "top": "150px",
    "width": "307.2px"
   },
   "toc_section_display": true,
   "toc_window_display": true
  }
 },
 "nbformat": 4,
 "nbformat_minor": 2
}
