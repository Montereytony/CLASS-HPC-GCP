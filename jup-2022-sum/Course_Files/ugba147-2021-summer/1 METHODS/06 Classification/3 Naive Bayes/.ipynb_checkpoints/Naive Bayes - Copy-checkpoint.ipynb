{
 "cells": [
  {
   "cell_type": "markdown",
   "metadata": {
    "hideCode": false,
    "hidePrompt": false
   },
   "source": [
    "# Classification by Naive Bayes\n",
    "\n",
    "![](banner_naive_bayes.jpg)"
   ]
  },
  {
   "cell_type": "code",
   "execution_count": 1,
   "metadata": {
    "hide_input": true,
    "scrolled": false
   },
   "outputs": [
    {
     "data": {
      "text/html": [
       "Notebook setup here ..."
      ]
     },
     "metadata": {},
     "output_type": "display_data"
    },
    {
     "data": {
      "text/html": [
       "More notebook setup here ..."
      ]
     },
     "metadata": {},
     "output_type": "display_data"
    }
   ],
   "source": [
    "f = \"setup.R\"; for (i in 1:10) { if (file.exists(f)) break else f = paste0(\"../\", f) }; source(f)\n",
    "\n",
    "update_geom_defaults(\"point\", list(size=3, colour=PALETTE[3]))\n",
    "display_html(\"More notebook setup here ...\")"
   ]
  },
  {
   "cell_type": "markdown",
   "metadata": {},
   "source": [
    "## Introduction\n",
    "\n",
    "Motivation, context, history, intuition, overview, related topics, terminology ..."
   ]
  },
  {
   "cell_type": "markdown",
   "metadata": {},
   "source": [
    "### Prosecutor's Fallacy\n",
    "\n",
    "Certain DNA evidence is found at a crime scene.  At trial, the prosecutor knows that the probability of finding this DNA evidence, assuming the defendant is innocent, is only one in a million.  She claims therefore that the probability of the defendant being innocent given this DNA evidence is also only one in a million, but this is incorrect.  One in a million means that for every million people, the DNA evidence implicates just one of them.  But there are 7 billion people in the world - that is 7,000 times one million.  So, the DNA evidence implicates 7,000 people and the probability of the defendant being guilty is actually only one in 7,000.\n",
    "\n",
    "This so called \"prosecutor's fallacy\" incorrectly treats the posterior conditional probability of A given B as equal to the conditional probability of B given A.  Really though, as described by Bayes Theorem, it depends on the prior unconditional probability of A and the prior unconditional probability of B, too.\n",
    "\n",
    "The naive Bayes method constructs a classification model taking into account both conditional probabilities and prior probabilities implied by training data."
   ]
  },
  {
   "cell_type": "markdown",
   "metadata": {},
   "source": [
    "### Terms\n",
    "\n",
    "* Prior\n",
    "* Likelihood\n",
    "  * Conditional probability (for categorical variables)\n",
    "  * Conditional probability adjusted by LaPlace smoothing (for categorical variables)\n",
    "  * Conditional probability density (for numeric variables)\n",
    "* Posterior\n",
    "  * Product of likelihoods and prior \n",
    "* Relative Posterior\n",
    "  * Proportion of posterior "
   ]
  },
  {
   "cell_type": "markdown",
   "metadata": {},
   "source": [
    "## Discourse"
   ]
  },
  {
   "cell_type": "markdown",
   "metadata": {},
   "source": [
    "### Naive Bayes & One Numeric Predictor Variable"
   ]
  },
  {
   "cell_type": "markdown",
   "metadata": {
    "hide_input": true
   },
   "source": [
    "#### Data\n",
    "\n",
    "Consider this classified data. Each observation is known to be in either class A or class B.  "
   ]
  },
  {
   "cell_type": "code",
   "execution_count": 2,
   "metadata": {
    "hideCode": false,
    "hidePrompt": false,
    "hide_input": true,
    "run_control": {
     "marked": false
    }
   },
   "outputs": [
    {
     "data": {
      "text/html": [
       "<table>\n",
       "<caption><center><font color=\"black\"><b>data</b></font></center></caption>\n",
       " <thead>\n",
       "  <tr>\n",
       "   <th style=\"text-align:right;\"> x1 </th>\n",
       "   <th style=\"text-align:right;\"> class </th>\n",
       "  </tr>\n",
       " </thead>\n",
       "<tbody>\n",
       "  <tr>\n",
       "   <td style=\"text-align:right;\"> 1.0 </td>\n",
       "   <td style=\"text-align:right;\"> A </td>\n",
       "  </tr>\n",
       "  <tr>\n",
       "   <td style=\"text-align:right;\"> 8.0 </td>\n",
       "   <td style=\"text-align:right;\"> A </td>\n",
       "  </tr>\n",
       "  <tr>\n",
       "   <td style=\"text-align:right;\"> 8.5 </td>\n",
       "   <td style=\"text-align:right;\"> A </td>\n",
       "  </tr>\n",
       "  <tr>\n",
       "   <td style=\"text-align:right;\"> 9.5 </td>\n",
       "   <td style=\"text-align:right;\"> A </td>\n",
       "  </tr>\n",
       "  <tr>\n",
       "   <td style=\"text-align:right;\"> 11.0 </td>\n",
       "   <td style=\"text-align:right;\"> A </td>\n",
       "  </tr>\n",
       "  <tr>\n",
       "   <td style=\"text-align:right;\"> 9.0 </td>\n",
       "   <td style=\"text-align:right;\"> B </td>\n",
       "  </tr>\n",
       "  <tr>\n",
       "   <td style=\"text-align:right;\"> 14.0 </td>\n",
       "   <td style=\"text-align:right;\"> B </td>\n",
       "  </tr>\n",
       "  <tr>\n",
       "   <td style=\"text-align:right;\"> 15.0 </td>\n",
       "   <td style=\"text-align:right;\"> B </td>\n",
       "  </tr>\n",
       "  <tr>\n",
       "   <td style=\"text-align:right;\"> 16.0 </td>\n",
       "   <td style=\"text-align:right;\"> B </td>\n",
       "  </tr>\n",
       "  <tr>\n",
       "   <td style=\"text-align:right;\"> 16.5 </td>\n",
       "   <td style=\"text-align:right;\"> B </td>\n",
       "  </tr>\n",
       "  <tr>\n",
       "   <td style=\"text-align:right;\"> 18.0 </td>\n",
       "   <td style=\"text-align:right;\"> B </td>\n",
       "  </tr>\n",
       "</tbody>\n",
       "</table>"
      ]
     },
     "metadata": {},
     "output_type": "display_data"
    },
    {
     "data": {
      "image/png": "[encoded data removed]",
      "text/plain": [
       "plot without title"
      ]
     },
     "metadata": {},
     "output_type": "display_data"
    }
   ],
   "source": [
    "data = data.frame(x1=c(1,8,8.5,9.5,11,9,14,15,16,16.5,18), class=c(\"A\", \"A\", \"A\", \"A\", \"A\", \"B\", \"B\", \"B\", \"B\", \"B\", \"B\"))\n",
    "data %>% caption\n",
    "\n",
    "output_size(8,1)\n",
    "ggplot(data) + xlim(0,20) + geom_point(aes(x=x1, y=0, color=class)) + theme.x_axis_only\n",
    "output_size(restore)"
   ]
  },
  {
   "cell_type": "markdown",
   "metadata": {},
   "source": [
    "#### New Observation\n",
    "\n",
    "Consider a new unclassified observation [ x1=10 ]."
   ]
  },
  {
   "cell_type": "code",
   "execution_count": 3,
   "metadata": {
    "hideCode": false,
    "hidePrompt": false,
    "hide_input": true,
    "run_control": {
     "marked": false
    },
    "scrolled": true
   },
   "outputs": [
    {
     "data": {
      "text/html": [
       "<table>\n",
       "<caption><center><font color=\"black\"><b>new</b></font></center></caption>\n",
       " <thead>\n",
       "  <tr>\n",
       "   <th style=\"text-align:right;\"> x1 </th>\n",
       "  </tr>\n",
       " </thead>\n",
       "<tbody>\n",
       "  <tr>\n",
       "   <td style=\"text-align:right;\"> 10 </td>\n",
       "  </tr>\n",
       "</tbody>\n",
       "</table>"
      ]
     },
     "metadata": {},
     "output_type": "display_data"
    },
    {
     "data": {
      "image/png": "[encoded data removed]",
      "text/plain": [
       "plot without title"
      ]
     },
     "metadata": {},
     "output_type": "display_data"
    }
   ],
   "source": [
    "new = data.frame(x1=10)\n",
    "new %>% caption\n",
    "\n",
    "output_size(8,1)\n",
    "ggplot(data) + xlim(0,20) +\n",
    "geom_point(aes(x=x1, y=0, color=class)) + geom_point(aes(x=x1, y=0), data=new, color=\"grey70\") +\n",
    "theme.x_axis_only\n",
    "output_size(restore)"
   ]
  },
  {
   "cell_type": "markdown",
   "metadata": {},
   "source": [
    "#### Prediction by Likelihood\n",
    "\n",
    "For any new unclassified observation, the probability density at that observation assuming it's of one class compared to the probability density at that observation assuming it's of another class is a reasonable basis for predicting the class of the new observation.  You can determine a probability density function for each class by kernel density estimation applied to the observations of that class.  In this context, we call the probability density the _likelihood_ that the observation is of a class.\n",
    "\n",
    "Here we find a probability density function for the observations of class A and find another one for the observations of class B, based on kernel density estimation with Gaussian kernel and bandwidth 0.7."
   ]
  },
  {
   "cell_type": "code",
   "execution_count": 4,
   "metadata": {
    "hide_input": true,
    "scrolled": false
   },
   "outputs": [
    {
     "data": {
      "text/html": [
       "<table><tr><td style=\"background-color:white; vertical-align:top; padding-right:40px;\"><table>\n",
       "<caption><center><font color=\"black\"><b>data.A</b></font></center></caption>\n",
       " <thead>\n",
       "  <tr>\n",
       "   <th style=\"text-align:right;\"> x1 </th>\n",
       "   <th style=\"text-align:right;\"> class </th>\n",
       "  </tr>\n",
       " </thead>\n",
       "<tbody>\n",
       "  <tr>\n",
       "   <td style=\"text-align:right;\"> 1.0 </td>\n",
       "   <td style=\"text-align:right;\"> A </td>\n",
       "  </tr>\n",
       "  <tr>\n",
       "   <td style=\"text-align:right;\"> 8.0 </td>\n",
       "   <td style=\"text-align:right;\"> A </td>\n",
       "  </tr>\n",
       "  <tr>\n",
       "   <td style=\"text-align:right;\"> 8.5 </td>\n",
       "   <td style=\"text-align:right;\"> A </td>\n",
       "  </tr>\n",
       "  <tr>\n",
       "   <td style=\"text-align:right;\"> 9.5 </td>\n",
       "   <td style=\"text-align:right;\"> A </td>\n",
       "  </tr>\n",
       "  <tr>\n",
       "   <td style=\"text-align:right;\"> 11.0 </td>\n",
       "   <td style=\"text-align:right;\"> A </td>\n",
       "  </tr>\n",
       "</tbody>\n",
       "</table></td><td style=\"background-color:white; vertical-align:top;\"><table>\n",
       "<caption><center><font color=\"black\"><b>data.B</b></font></center></caption>\n",
       " <thead>\n",
       "  <tr>\n",
       "   <th style=\"text-align:right;\"> x1 </th>\n",
       "   <th style=\"text-align:right;\"> class </th>\n",
       "  </tr>\n",
       " </thead>\n",
       "<tbody>\n",
       "  <tr>\n",
       "   <td style=\"text-align:right;\"> 9.0 </td>\n",
       "   <td style=\"text-align:right;\"> B </td>\n",
       "  </tr>\n",
       "  <tr>\n",
       "   <td style=\"text-align:right;\"> 14.0 </td>\n",
       "   <td style=\"text-align:right;\"> B </td>\n",
       "  </tr>\n",
       "  <tr>\n",
       "   <td style=\"text-align:right;\"> 15.0 </td>\n",
       "   <td style=\"text-align:right;\"> B </td>\n",
       "  </tr>\n",
       "  <tr>\n",
       "   <td style=\"text-align:right;\"> 16.0 </td>\n",
       "   <td style=\"text-align:right;\"> B </td>\n",
       "  </tr>\n",
       "  <tr>\n",
       "   <td style=\"text-align:right;\"> 16.5 </td>\n",
       "   <td style=\"text-align:right;\"> B </td>\n",
       "  </tr>\n",
       "  <tr>\n",
       "   <td style=\"text-align:right;\"> 18.0 </td>\n",
       "   <td style=\"text-align:right;\"> B </td>\n",
       "  </tr>\n",
       "</tbody>\n",
       "</table></td></tr></table>"
      ]
     },
     "metadata": {},
     "output_type": "display_data"
    }
   ],
   "source": [
    "data.A = data[data$class==\"A\",]\n",
    "data.B = data[data$class==\"B\",]\n",
    "\n",
    "row.arrange(data.A %>% captionx, data.B %>% captionx)"
   ]
  },
  {
   "cell_type": "code",
   "execution_count": 5,
   "metadata": {
    "hide_input": true,
    "scrolled": false
   },
   "outputs": [
    {
     "data": {
      "image/png": "[encoded data removed]",
      "text/plain": [
       "plot without title"
      ]
     },
     "metadata": {},
     "output_type": "display_data"
    }
   ],
   "source": [
    "d.A = density(data.A$x1, bw=0.7, from=0, to=20); pdf.A = approxfun(d.A)\n",
    "d.B = density(data.B$x1, bw=0.7, from=0, to=20); pdf.B = approxfun(d.B)\n",
    "\n",
    "ggplot(data) + xlim(0,20) + ylab(\"likelihood\") +\n",
    "stat_function(fun=pdf.A, geom=\"area\", fill=PALETTE[1], alpha=0.5) +\n",
    "stat_function(fun=pdf.B, geom=\"area\", fill=PALETTE[2], alpha=0.5) +\n",
    "geom_point(aes(x=x1, y=0, color=class))"
   ]
  },
  {
   "cell_type": "markdown",
   "metadata": {},
   "source": [
    "Then, the likelihood of the new observation [ x1=10 ] assuming that it's in class A is 0.14, and the likelihood of the new observation [ x1=10 ] assuming that it's in class B is 0.03."
   ]
  },
  {
   "cell_type": "code",
   "execution_count": 6,
   "metadata": {
    "hide_input": true,
    "scrolled": false
   },
   "outputs": [
    {
     "data": {
      "text/html": [
       "<table>\n",
       "<thead><tr><th scope=col>x1</th><th scope=col>class</th><th scope=col>likelihood</th></tr></thead>\n",
       "<tbody>\n",
       "\t<tr><td>10        </td><td>A         </td><td>0.14306430</td></tr>\n",
       "\t<tr><td>10        </td><td>B         </td><td>0.03435121</td></tr>\n",
       "</tbody>\n",
       "</table>\n"
      ],
      "text/latex": [
       "\\begin{tabular}{r|lll}\n",
       " x1 & class & likelihood\\\\\n",
       "\\hline\n",
       "\t 10         & A          & 0.14306430\\\\\n",
       "\t 10         & B          & 0.03435121\\\\\n",
       "\\end{tabular}\n"
      ],
      "text/markdown": [
       "\n",
       "| x1 | class | likelihood |\n",
       "|---|---|---|\n",
       "| 10         | A          | 0.14306430 |\n",
       "| 10         | B          | 0.03435121 |\n",
       "\n"
      ],
      "text/plain": [
       "  x1 class likelihood\n",
       "1 10 A     0.14306430\n",
       "2 10 B     0.03435121"
      ]
     },
     "metadata": {},
     "output_type": "display_data"
    },
    {
     "data": {
      "image/png": "[encoded data removed]",
      "text/plain": [
       "plot without title"
      ]
     },
     "metadata": {},
     "output_type": "display_data"
    }
   ],
   "source": [
    "model.10 = data.frame(x1=10, class=c(\"A\",\"B\"), likelihood=c(pdf.A(10), pdf.B(10)))\n",
    "model.10\n",
    "\n",
    "ggplot(data) + xlim(0,20) + xlab(\"x1\") + ylab(\"likelihood\") +\n",
    "stat_function(fun=pdf.A, geom=\"area\", fill=PALETTE[1], alpha=0.5) +\n",
    "stat_function(fun=pdf.B, geom=\"area\", fill=PALETTE[2], alpha=0.5) +\n",
    "geom_vline(aes(xintercept=10), lty=\"dotted\") +\n",
    "geom_point(aes(x=10, y=0), color=\"grey70\") +\n",
    "geom_text(aes(x=10, y=model.10[1,\"likelihood\"]), color=PALETTE[1], size=5, label=sprintf(\"%0.4f\",model.10[1,\"likelihood\"])) +\n",
    "geom_text(aes(x=10, y=model.10[2,\"likelihood\"]), color=PALETTE[2], size=5, label=sprintf(\"%0.4f\",model.10[2,\"likelihood\"]))"
   ]
  },
  {
   "cell_type": "markdown",
   "metadata": {},
   "source": [
    "Since 0.14 > 0.04, a reasonable prediction is that the new observation is in class A."
   ]
  },
  {
   "cell_type": "code",
   "execution_count": 7,
   "metadata": {
    "hide_input": true
   },
   "outputs": [
    {
     "data": {
      "text/html": [
       "<table>\n",
       "<thead><tr><th scope=col>x1</th><th scope=col>class.predicted</th></tr></thead>\n",
       "<tbody>\n",
       "\t<tr><td>10</td><td>A </td></tr>\n",
       "</tbody>\n",
       "</table>\n"
      ],
      "text/latex": [
       "\\begin{tabular}{r|ll}\n",
       " x1 & class.predicted\\\\\n",
       "\\hline\n",
       "\t 10 & A \\\\\n",
       "\\end{tabular}\n"
      ],
      "text/markdown": [
       "\n",
       "| x1 | class.predicted |\n",
       "|---|---|\n",
       "| 10 | A  |\n",
       "\n"
      ],
      "text/plain": [
       "  x1 class.predicted\n",
       "1 10 A              "
      ]
     },
     "metadata": {},
     "output_type": "display_data"
    }
   ],
   "source": [
    "prediction = model.10$class[which.max(model.10$likelihood)]\n",
    "data.frame(x1=10, class.predicted=prediction)"
   ]
  },
  {
   "cell_type": "markdown",
   "metadata": {},
   "source": [
    "#### Prediction by Prior\n",
    "\n",
    "The probability of seeing any observation from one class compared to the probability of seeing any observation from another class is also a reasonable basis for predicting the class of the new observation.  You can determine the probability for each class as the number of observations of that class divided by the total number of observations.  In this context, we call the probability the _prior_ of the class.\n",
    "\n",
    "Here the prior of class A is 0.45 and the prior of class B is 0.54."
   ]
  },
  {
   "cell_type": "code",
   "execution_count": 8,
   "metadata": {
    "hide_input": true
   },
   "outputs": [
    {
     "data": {
      "text/html": [
       "<table><tr><td style=\"background-color:white; vertical-align:top; padding-right:40px;\"><table>\n",
       "<caption><center><font color=\"black\"><b>data.A</b></font></center></caption>\n",
       " <thead>\n",
       "  <tr>\n",
       "   <th style=\"text-align:right;\"> x1 </th>\n",
       "   <th style=\"text-align:right;\"> class </th>\n",
       "  </tr>\n",
       " </thead>\n",
       "<tbody>\n",
       "  <tr>\n",
       "   <td style=\"text-align:right;\"> 1.0 </td>\n",
       "   <td style=\"text-align:right;\"> A </td>\n",
       "  </tr>\n",
       "  <tr>\n",
       "   <td style=\"text-align:right;\"> 8.0 </td>\n",
       "   <td style=\"text-align:right;\"> A </td>\n",
       "  </tr>\n",
       "  <tr>\n",
       "   <td style=\"text-align:right;\"> 8.5 </td>\n",
       "   <td style=\"text-align:right;\"> A </td>\n",
       "  </tr>\n",
       "  <tr>\n",
       "   <td style=\"text-align:right;\"> 9.5 </td>\n",
       "   <td style=\"text-align:right;\"> A </td>\n",
       "  </tr>\n",
       "  <tr>\n",
       "   <td style=\"text-align:right;\"> 11.0 </td>\n",
       "   <td style=\"text-align:right;\"> A </td>\n",
       "  </tr>\n",
       "</tbody>\n",
       "</table></td><td style=\"background-color:white; vertical-align:top;\"><table>\n",
       "<caption><center><font color=\"black\"><b>data.B</b></font></center></caption>\n",
       " <thead>\n",
       "  <tr>\n",
       "   <th style=\"text-align:right;\"> x1 </th>\n",
       "   <th style=\"text-align:right;\"> class </th>\n",
       "  </tr>\n",
       " </thead>\n",
       "<tbody>\n",
       "  <tr>\n",
       "   <td style=\"text-align:right;\"> 9.0 </td>\n",
       "   <td style=\"text-align:right;\"> B </td>\n",
       "  </tr>\n",
       "  <tr>\n",
       "   <td style=\"text-align:right;\"> 14.0 </td>\n",
       "   <td style=\"text-align:right;\"> B </td>\n",
       "  </tr>\n",
       "  <tr>\n",
       "   <td style=\"text-align:right;\"> 15.0 </td>\n",
       "   <td style=\"text-align:right;\"> B </td>\n",
       "  </tr>\n",
       "  <tr>\n",
       "   <td style=\"text-align:right;\"> 16.0 </td>\n",
       "   <td style=\"text-align:right;\"> B </td>\n",
       "  </tr>\n",
       "  <tr>\n",
       "   <td style=\"text-align:right;\"> 16.5 </td>\n",
       "   <td style=\"text-align:right;\"> B </td>\n",
       "  </tr>\n",
       "  <tr>\n",
       "   <td style=\"text-align:right;\"> 18.0 </td>\n",
       "   <td style=\"text-align:right;\"> B </td>\n",
       "  </tr>\n",
       "</tbody>\n",
       "</table></td></tr></table>"
      ]
     },
     "metadata": {},
     "output_type": "display_data"
    }
   ],
   "source": [
    "row.arrange(data.A %>% captionx, data.B %>% captionx)"
   ]
  },
  {
   "cell_type": "code",
   "execution_count": 9,
   "metadata": {
    "hide_input": true
   },
   "outputs": [
    {
     "data": {
      "text/html": [
       "<table>\n",
       "<thead><tr><th scope=col>class</th><th scope=col>prior</th></tr></thead>\n",
       "<tbody>\n",
       "\t<tr><td>A        </td><td>0.4545455</td></tr>\n",
       "\t<tr><td>B        </td><td>0.5454545</td></tr>\n",
       "</tbody>\n",
       "</table>\n"
      ],
      "text/latex": [
       "\\begin{tabular}{r|ll}\n",
       " class & prior\\\\\n",
       "\\hline\n",
       "\t A         & 0.4545455\\\\\n",
       "\t B         & 0.5454545\\\\\n",
       "\\end{tabular}\n"
      ],
      "text/markdown": [
       "\n",
       "| class | prior |\n",
       "|---|---|\n",
       "| A         | 0.4545455 |\n",
       "| B         | 0.5454545 |\n",
       "\n"
      ],
      "text/plain": [
       "  class prior    \n",
       "1 A     0.4545455\n",
       "2 B     0.5454545"
      ]
     },
     "metadata": {},
     "output_type": "display_data"
    },
    {
     "data": {
      "image/png": "[encoded data removed]",
      "text/plain": [
       "plot without title"
      ]
     },
     "metadata": {},
     "output_type": "display_data"
    }
   ],
   "source": [
    "prior.A = nrow(data.A) / nrow(data)\n",
    "prior.B = nrow(data.B) / nrow(data)\n",
    "\n",
    "prob = data.frame(class=c(\"A\",\"B\"), prior=c(prior.A, prior.B))\n",
    "prob\n",
    "\n",
    "ggplot(prob) + ylim(0,1) +\n",
    "geom_col(aes(x=class, y=prior, fill=class))"
   ]
  },
  {
   "cell_type": "markdown",
   "metadata": {},
   "source": [
    "Since 0.45 < 0.54, a reasonable prediction is that the new observation is of class B."
   ]
  },
  {
   "cell_type": "code",
   "execution_count": 10,
   "metadata": {
    "hide_input": true,
    "scrolled": true
   },
   "outputs": [
    {
     "data": {
      "text/html": [
       "<table>\n",
       "<thead><tr><th scope=col>x1</th><th scope=col>class.predicted</th></tr></thead>\n",
       "<tbody>\n",
       "\t<tr><td>10</td><td>B </td></tr>\n",
       "</tbody>\n",
       "</table>\n"
      ],
      "text/latex": [
       "\\begin{tabular}{r|ll}\n",
       " x1 & class.predicted\\\\\n",
       "\\hline\n",
       "\t 10 & B \\\\\n",
       "\\end{tabular}\n"
      ],
      "text/markdown": [
       "\n",
       "| x1 | class.predicted |\n",
       "|---|---|\n",
       "| 10 | B  |\n",
       "\n"
      ],
      "text/plain": [
       "  x1 class.predicted\n",
       "1 10 B              "
      ]
     },
     "metadata": {},
     "output_type": "display_data"
    }
   ],
   "source": [
    "prediction = prob$class[which.max(prob$prior)]\n",
    "data.frame(x1=10, class.predicted=prediction)"
   ]
  },
  {
   "cell_type": "markdown",
   "metadata": {},
   "source": [
    "#### Prediction by Relative Posterior\n",
    "\n",
    "For any new unclassified observation, a combination of its likehoods and priors is perhaps the best basis for predicting the class of the new observation.  In this context, we call the product of the likelihood and the prior the _posterior_ of the observation in a class.\n",
    "\n",
    "Here the likelihood of observation [ x1=10 ] assuming that it's from class A is 0.143, the prior of class A is 0.454, and so the posterior for observation [ x1=10 ] in class A is 0.143 x 0.454 = 0.065.  Similarly, the posterior for observation [ x1=10 ] in class B is 0.034 x 0.545 = 0.018."
   ]
  },
  {
   "cell_type": "code",
   "execution_count": 11,
   "metadata": {
    "hide_input": true
   },
   "outputs": [
    {
     "data": {
      "text/html": [
       "<table>\n",
       "<thead><tr><th scope=col>x1</th><th scope=col>class</th><th scope=col>likelihood</th><th scope=col>prior</th><th scope=col>posterior</th></tr></thead>\n",
       "<tbody>\n",
       "\t<tr><td>10        </td><td>A         </td><td>0.14306430</td><td>0.4545455 </td><td>0.06502923</td></tr>\n",
       "\t<tr><td>10        </td><td>B         </td><td>0.03435121</td><td>0.5454545 </td><td>0.01873702</td></tr>\n",
       "</tbody>\n",
       "</table>\n"
      ],
      "text/latex": [
       "\\begin{tabular}{r|lllll}\n",
       " x1 & class & likelihood & prior & posterior\\\\\n",
       "\\hline\n",
       "\t 10         & A          & 0.14306430 & 0.4545455  & 0.06502923\\\\\n",
       "\t 10         & B          & 0.03435121 & 0.5454545  & 0.01873702\\\\\n",
       "\\end{tabular}\n"
      ],
      "text/markdown": [
       "\n",
       "| x1 | class | likelihood | prior | posterior |\n",
       "|---|---|---|---|---|\n",
       "| 10         | A          | 0.14306430 | 0.4545455  | 0.06502923 |\n",
       "| 10         | B          | 0.03435121 | 0.5454545  | 0.01873702 |\n",
       "\n"
      ],
      "text/plain": [
       "  x1 class likelihood prior     posterior \n",
       "1 10 A     0.14306430 0.4545455 0.06502923\n",
       "2 10 B     0.03435121 0.5454545 0.01873702"
      ]
     },
     "metadata": {},
     "output_type": "display_data"
    },
    {
     "data": {
      "image/png": "[encoded data removed]",
      "text/plain": [
       "plot without title"
      ]
     },
     "metadata": {},
     "output_type": "display_data"
    }
   ],
   "source": [
    "posterior.A = pdf.A(10) * prior.A\n",
    "posterior.B = pdf.B(10) * prior.B\n",
    "\n",
    "model.10 = data.frame(x1=10,\n",
    "                      class=c(\"A\",\"B\"),\n",
    "                      likelihood=c(pdf.A(10), pdf.B(10)),\n",
    "                      prior=c(prior.A, prior.B),\n",
    "                      posterior=c(posterior.A, posterior.B))\n",
    "\n",
    "model.10\n",
    "ggplot(model.10) + geom_col(aes(x=class, y=posterior, fill=class))"
   ]
  },
  {
   "cell_type": "markdown",
   "metadata": {},
   "source": [
    "We call the ratio of one posterior to the sum of all posteriors the _relative posterior_.  We can treat a relative posterior as the probability that the new observation is of the corresponding class.\n",
    "\n",
    "Here the relative posterior for observation [ x1=10 ] in class A is 0.065 / (0.065+0.018) = 0.776, and the relative posterior for observation [ x1=10 ] in class B is 0.018 / (0.065+0.018) = 0.223."
   ]
  },
  {
   "cell_type": "code",
   "execution_count": 12,
   "metadata": {
    "hide_input": true
   },
   "outputs": [
    {
     "data": {
      "text/html": [
       "<table>\n",
       "<thead><tr><th scope=col>x1</th><th scope=col>class</th><th scope=col>likelihood</th><th scope=col>prior</th><th scope=col>posterior</th><th scope=col>relative_posterior</th><th scope=col>probability</th></tr></thead>\n",
       "<tbody>\n",
       "\t<tr><td>10        </td><td>A         </td><td>0.14306430</td><td>0.4545455 </td><td>0.06502923</td><td>0.7763177 </td><td>0.7763177 </td></tr>\n",
       "\t<tr><td>10        </td><td>B         </td><td>0.03435121</td><td>0.5454545 </td><td>0.01873702</td><td>0.2236823 </td><td>0.2236823 </td></tr>\n",
       "</tbody>\n",
       "</table>\n"
      ],
      "text/latex": [
       "\\begin{tabular}{r|lllllll}\n",
       " x1 & class & likelihood & prior & posterior & relative\\_posterior & probability\\\\\n",
       "\\hline\n",
       "\t 10         & A          & 0.14306430 & 0.4545455  & 0.06502923 & 0.7763177  & 0.7763177 \\\\\n",
       "\t 10         & B          & 0.03435121 & 0.5454545  & 0.01873702 & 0.2236823  & 0.2236823 \\\\\n",
       "\\end{tabular}\n"
      ],
      "text/markdown": [
       "\n",
       "| x1 | class | likelihood | prior | posterior | relative_posterior | probability |\n",
       "|---|---|---|---|---|---|---|\n",
       "| 10         | A          | 0.14306430 | 0.4545455  | 0.06502923 | 0.7763177  | 0.7763177  |\n",
       "| 10         | B          | 0.03435121 | 0.5454545  | 0.01873702 | 0.2236823  | 0.2236823  |\n",
       "\n"
      ],
      "text/plain": [
       "  x1 class likelihood prior     posterior  relative_posterior probability\n",
       "1 10 A     0.14306430 0.4545455 0.06502923 0.7763177          0.7763177  \n",
       "2 10 B     0.03435121 0.5454545 0.01873702 0.2236823          0.2236823  "
      ]
     },
     "metadata": {},
     "output_type": "display_data"
    },
    {
     "data": {
      "image/png": "[encoded data removed]",
      "text/plain": [
       "plot without title"
      ]
     },
     "metadata": {},
     "output_type": "display_data"
    }
   ],
   "source": [
    "model.10 = data.frame(x1=10,\n",
    "                      class=c(\"A\",\"B\"),\n",
    "                      likelihood=c(pdf.A(10), pdf.B(10)),\n",
    "                      prior=c(prior.A, prior.B),\n",
    "                      posterior=c(posterior.A, posterior.B),\n",
    "                      relative_posterior=c(posterior.A/(posterior.A+posterior.B), posterior.B/(posterior.A+posterior.B)),\n",
    "                      probability=c(posterior.A/(posterior.A+posterior.B), posterior.B/(posterior.A+posterior.B)))\n",
    "\n",
    "model.10\n",
    "ggplot(model.10) + ylim(0,1) + geom_col(aes(x=class, y=probability, fill=class))"
   ]
  },
  {
   "cell_type": "markdown",
   "metadata": {},
   "source": [
    "Assuming a cutoff of 0.5, since 0.776 > 0.5, we predict that the observation [ x1=10 ] is in class A."
   ]
  },
  {
   "cell_type": "code",
   "execution_count": 13,
   "metadata": {
    "hide_input": true
   },
   "outputs": [
    {
     "data": {
      "text/html": [
       "<table>\n",
       "<thead><tr><th scope=col>x1</th><th scope=col>cutoff</th><th scope=col>class.predicted</th></tr></thead>\n",
       "<tbody>\n",
       "\t<tr><td>10 </td><td>0.5</td><td>A  </td></tr>\n",
       "</tbody>\n",
       "</table>\n"
      ],
      "text/latex": [
       "\\begin{tabular}{r|lll}\n",
       " x1 & cutoff & class.predicted\\\\\n",
       "\\hline\n",
       "\t 10  & 0.5 & A  \\\\\n",
       "\\end{tabular}\n"
      ],
      "text/markdown": [
       "\n",
       "| x1 | cutoff | class.predicted |\n",
       "|---|---|---|\n",
       "| 10  | 0.5 | A   |\n",
       "\n"
      ],
      "text/plain": [
       "  x1 cutoff class.predicted\n",
       "1 10 0.5    A              "
      ]
     },
     "metadata": {},
     "output_type": "display_data"
    }
   ],
   "source": [
    "cutoff = 0.5\n",
    "prediction = model.10$class[model.10$probability >= cutoff]\n",
    "data.frame(x1=10, cutoff, class.predicted=prediction)"
   ]
  },
  {
   "cell_type": "markdown",
   "metadata": {},
   "source": [
    "### Naive Bayes & One Categorical Predictor Variable"
   ]
  },
  {
   "cell_type": "markdown",
   "metadata": {
    "hide_input": true
   },
   "source": [
    "#### Data\n",
    "\n",
    "Consider this classified data. Each observation is known to be in either class A or class B.  "
   ]
  },
  {
   "cell_type": "code",
   "execution_count": 14,
   "metadata": {
    "hideCode": false,
    "hidePrompt": false,
    "hide_input": true,
    "run_control": {
     "marked": false
    }
   },
   "outputs": [
    {
     "data": {
      "text/html": [
       "<table>\n",
       "<caption><center><font color=\"black\"><b>data</b></font></center></caption>\n",
       " <thead>\n",
       "  <tr>\n",
       "   <th style=\"text-align:right;\"> x1 </th>\n",
       "   <th style=\"text-align:right;\"> class </th>\n",
       "  </tr>\n",
       " </thead>\n",
       "<tbody>\n",
       "  <tr>\n",
       "   <td style=\"text-align:right;\"> q </td>\n",
       "   <td style=\"text-align:right;\"> A </td>\n",
       "  </tr>\n",
       "  <tr>\n",
       "   <td style=\"text-align:right;\"> r </td>\n",
       "   <td style=\"text-align:right;\"> B </td>\n",
       "  </tr>\n",
       "  <tr>\n",
       "   <td style=\"text-align:right;\"> r </td>\n",
       "   <td style=\"text-align:right;\"> A </td>\n",
       "  </tr>\n",
       "  <tr>\n",
       "   <td style=\"text-align:right;\"> r </td>\n",
       "   <td style=\"text-align:right;\"> A </td>\n",
       "  </tr>\n",
       "  <tr>\n",
       "   <td style=\"text-align:right;\"> s </td>\n",
       "   <td style=\"text-align:right;\"> A </td>\n",
       "  </tr>\n",
       "  <tr>\n",
       "   <td style=\"text-align:right;\"> s </td>\n",
       "   <td style=\"text-align:right;\"> A </td>\n",
       "  </tr>\n",
       "  <tr>\n",
       "   <td style=\"text-align:right;\"> s </td>\n",
       "   <td style=\"text-align:right;\"> A </td>\n",
       "  </tr>\n",
       "  <tr>\n",
       "   <td style=\"text-align:right;\"> r </td>\n",
       "   <td style=\"text-align:right;\"> A </td>\n",
       "  </tr>\n",
       "  <tr>\n",
       "   <td style=\"text-align:right;\"> q </td>\n",
       "   <td style=\"text-align:right;\"> B </td>\n",
       "  </tr>\n",
       "  <tr>\n",
       "   <td style=\"text-align:right;\"> q </td>\n",
       "   <td style=\"text-align:right;\"> B </td>\n",
       "  </tr>\n",
       "  <tr>\n",
       "   <td style=\"text-align:right;\"> s </td>\n",
       "   <td style=\"text-align:right;\"> B </td>\n",
       "  </tr>\n",
       "</tbody>\n",
       "</table>"
      ]
     },
     "metadata": {},
     "output_type": "display_data"
    },
    {
     "data": {
      "image/png": "[encoded data removed]",
      "text/plain": [
       "plot without title"
      ]
     },
     "metadata": {},
     "output_type": "display_data"
    }
   ],
   "source": [
    "data = data.frame(x1=c(\"q\",\"r\",\"r\",\"r\",\"s\",\"s\",\"s\",\"r\",\"q\",\"q\",\"s\"),\n",
    "                  class=c(\"A\", \"B\", \"A\", \"A\", \"A\", \"A\", \"A\", \"A\", \"B\", \"B\", \"B\"))\n",
    "data %>% caption\n",
    "\n",
    "ggplot(data) + geom_bar(aes(x=x1, fill=class), position=position_dodge())"
   ]
  },
  {
   "cell_type": "markdown",
   "metadata": {},
   "source": [
    "#### New Observation\n",
    "\n",
    "Consider a new unclassified observation [ x1=q ]."
   ]
  },
  {
   "cell_type": "code",
   "execution_count": 15,
   "metadata": {
    "hide_input": true
   },
   "outputs": [
    {
     "data": {
      "text/html": [
       "<table>\n",
       "<caption><center><font color=\"black\"><b>new</b></font></center></caption>\n",
       " <thead>\n",
       "  <tr>\n",
       "   <th style=\"text-align:right;\"> x1 </th>\n",
       "  </tr>\n",
       " </thead>\n",
       "<tbody>\n",
       "  <tr>\n",
       "   <td style=\"text-align:right;\"> q </td>\n",
       "  </tr>\n",
       "</tbody>\n",
       "</table>"
      ]
     },
     "metadata": {},
     "output_type": "display_data"
    }
   ],
   "source": [
    "new = data.frame(x1=\"q\")\n",
    "new %>% caption"
   ]
  },
  {
   "cell_type": "markdown",
   "metadata": {},
   "source": [
    "#### Calculate Likelihoods\n",
    "\n",
    "Here we find the likelihoods of the observations in class A, and the likelihoods of the observations in class B."
   ]
  },
  {
   "cell_type": "code",
   "execution_count": 16,
   "metadata": {
    "hide_input": true
   },
   "outputs": [
    {
     "data": {
      "text/html": [
       "<table><tr><td style=\"background-color:white; vertical-align:top; padding-right:40px;\"><table>\n",
       "<caption><center><font color=\"black\"><b>data.A</b></font></center></caption>\n",
       " <thead>\n",
       "  <tr>\n",
       "   <th style=\"text-align:right;\"> x1 </th>\n",
       "   <th style=\"text-align:right;\"> class </th>\n",
       "  </tr>\n",
       " </thead>\n",
       "<tbody>\n",
       "  <tr>\n",
       "   <td style=\"text-align:right;\"> q </td>\n",
       "   <td style=\"text-align:right;\"> A </td>\n",
       "  </tr>\n",
       "  <tr>\n",
       "   <td style=\"text-align:right;\"> r </td>\n",
       "   <td style=\"text-align:right;\"> A </td>\n",
       "  </tr>\n",
       "  <tr>\n",
       "   <td style=\"text-align:right;\"> r </td>\n",
       "   <td style=\"text-align:right;\"> A </td>\n",
       "  </tr>\n",
       "  <tr>\n",
       "   <td style=\"text-align:right;\"> s </td>\n",
       "   <td style=\"text-align:right;\"> A </td>\n",
       "  </tr>\n",
       "  <tr>\n",
       "   <td style=\"text-align:right;\"> s </td>\n",
       "   <td style=\"text-align:right;\"> A </td>\n",
       "  </tr>\n",
       "  <tr>\n",
       "   <td style=\"text-align:right;\"> s </td>\n",
       "   <td style=\"text-align:right;\"> A </td>\n",
       "  </tr>\n",
       "  <tr>\n",
       "   <td style=\"text-align:right;\"> r </td>\n",
       "   <td style=\"text-align:right;\"> A </td>\n",
       "  </tr>\n",
       "</tbody>\n",
       "</table></td><td style=\"background-color:white; vertical-align:top;\"><table>\n",
       "<caption><center><font color=\"black\"><b>data.B</b></font></center></caption>\n",
       " <thead>\n",
       "  <tr>\n",
       "   <th style=\"text-align:right;\"> x1 </th>\n",
       "   <th style=\"text-align:right;\"> class </th>\n",
       "  </tr>\n",
       " </thead>\n",
       "<tbody>\n",
       "  <tr>\n",
       "   <td style=\"text-align:right;\"> r </td>\n",
       "   <td style=\"text-align:right;\"> B </td>\n",
       "  </tr>\n",
       "  <tr>\n",
       "   <td style=\"text-align:right;\"> q </td>\n",
       "   <td style=\"text-align:right;\"> B </td>\n",
       "  </tr>\n",
       "  <tr>\n",
       "   <td style=\"text-align:right;\"> q </td>\n",
       "   <td style=\"text-align:right;\"> B </td>\n",
       "  </tr>\n",
       "  <tr>\n",
       "   <td style=\"text-align:right;\"> s </td>\n",
       "   <td style=\"text-align:right;\"> B </td>\n",
       "  </tr>\n",
       "</tbody>\n",
       "</table></td></tr></table>"
      ]
     },
     "metadata": {},
     "output_type": "display_data"
    }
   ],
   "source": [
    "data.A = data[data$class==\"A\",]\n",
    "data.B = data[data$class==\"B\",]\n",
    "\n",
    "row.arrange(data.A %>% captionx, data.B %>% captionx)"
   ]
  },
  {
   "cell_type": "markdown",
   "metadata": {},
   "source": [
    "Rather than a probability density function for numeric values, we use a relative frequency table for categorical values."
   ]
  },
  {
   "cell_type": "code",
   "execution_count": 17,
   "metadata": {
    "hide_input": true
   },
   "outputs": [
    {
     "data": {
      "text/html": [
       "<table><tr><td style=\"background-color:white; vertical-align:top; padding-right:40px;\"><table>\n",
       "<caption><center><font color=\"black\"><b>info.A</b></font></center></caption>\n",
       " <thead>\n",
       "  <tr>\n",
       "   <th style=\"text-align:right;\"> x1 </th>\n",
       "   <th style=\"text-align:right;\"> likelihood </th>\n",
       "   <th style=\"text-align:right;\"> class </th>\n",
       "  </tr>\n",
       " </thead>\n",
       "<tbody>\n",
       "  <tr>\n",
       "   <td style=\"text-align:right;\"> q </td>\n",
       "   <td style=\"text-align:right;\"> 0.1428571 </td>\n",
       "   <td style=\"text-align:right;\"> A </td>\n",
       "  </tr>\n",
       "  <tr>\n",
       "   <td style=\"text-align:right;\"> r </td>\n",
       "   <td style=\"text-align:right;\"> 0.4285714 </td>\n",
       "   <td style=\"text-align:right;\"> A </td>\n",
       "  </tr>\n",
       "  <tr>\n",
       "   <td style=\"text-align:right;\"> s </td>\n",
       "   <td style=\"text-align:right;\"> 0.4285714 </td>\n",
       "   <td style=\"text-align:right;\"> A </td>\n",
       "  </tr>\n",
       "</tbody>\n",
       "</table></td><td style=\"background-color:white; vertical-align:top;\"><table>\n",
       "<caption><center><font color=\"black\"><b>info.B</b></font></center></caption>\n",
       " <thead>\n",
       "  <tr>\n",
       "   <th style=\"text-align:right;\"> x1 </th>\n",
       "   <th style=\"text-align:right;\"> likelihood </th>\n",
       "   <th style=\"text-align:right;\"> class </th>\n",
       "  </tr>\n",
       " </thead>\n",
       "<tbody>\n",
       "  <tr>\n",
       "   <td style=\"text-align:right;\"> q </td>\n",
       "   <td style=\"text-align:right;\"> 0.50 </td>\n",
       "   <td style=\"text-align:right;\"> B </td>\n",
       "  </tr>\n",
       "  <tr>\n",
       "   <td style=\"text-align:right;\"> r </td>\n",
       "   <td style=\"text-align:right;\"> 0.25 </td>\n",
       "   <td style=\"text-align:right;\"> B </td>\n",
       "  </tr>\n",
       "  <tr>\n",
       "   <td style=\"text-align:right;\"> s </td>\n",
       "   <td style=\"text-align:right;\"> 0.25 </td>\n",
       "   <td style=\"text-align:right;\"> B </td>\n",
       "  </tr>\n",
       "</tbody>\n",
       "</table></td></tr></table>"
      ]
     },
     "metadata": {},
     "output_type": "display_data"
    }
   ],
   "source": [
    "info.A = data.frame(table(data.A$x1)/nrow(data.A), \"A\"); colnames(info.A) = c(\"x1\",\"likelihood\",\"class\")\n",
    "info.B = data.frame(table(data.B$x1)/nrow(data.B), \"B\"); colnames(info.B) = c(\"x1\",\"likelihood\",\"class\")\n",
    "\n",
    "row.arrange(info.A %>% captionx, info.B %>% captionx)"
   ]
  },
  {
   "cell_type": "code",
   "execution_count": 18,
   "metadata": {
    "hide_input": false,
    "scrolled": false
   },
   "outputs": [
    {
     "data": {
      "image/png": "[encoded data removed]",
      "text/plain": [
       "plot without title"
      ]
     },
     "metadata": {},
     "output_type": "display_data"
    }
   ],
   "source": [
    "ggplot(rbind(info.A, info.B)) + ylim(0,1) +\n",
    "geom_col(aes(x=x1, y=likelihood, fill=class), position=position_dodge()) +\n",
    "geom_text(aes(x=x1, y=likelihood, label=sprintf(\"%0.4f\", likelihood)), data=info.A, color=PALETTE[1], hjust=1.5, vjust=-0.5) +\n",
    "geom_text(aes(x=x1, y=likelihood, label=sprintf(\"%0.4f\", likelihood)), data=info.B, color=PALETTE[2], hjust=-0.5, vjust=-0.5)"
   ]
  },
  {
   "cell_type": "markdown",
   "metadata": {},
   "source": [
    "Then, the likelihood of the new observation [ x1=q ] assuming that it's in class A is 0.142, and the likelihood of the new observation [ x1=q ] assuming that it's in class B is 0.500."
   ]
  },
  {
   "cell_type": "code",
   "execution_count": 19,
   "metadata": {
    "hide_input": false,
    "scrolled": true
   },
   "outputs": [
    {
     "data": {
      "text/html": [
       "<table>\n",
       "<thead><tr><th scope=col>x1</th><th scope=col>likelihood</th><th scope=col>class</th></tr></thead>\n",
       "<tbody>\n",
       "\t<tr><td>q        </td><td>0.1428571</td><td>A        </td></tr>\n",
       "\t<tr><td>q        </td><td>0.5000000</td><td>B        </td></tr>\n",
       "</tbody>\n",
       "</table>\n"
      ],
      "text/latex": [
       "\\begin{tabular}{r|lll}\n",
       " x1 & likelihood & class\\\\\n",
       "\\hline\n",
       "\t q         & 0.1428571 & A        \\\\\n",
       "\t q         & 0.5000000 & B        \\\\\n",
       "\\end{tabular}\n"
      ],
      "text/markdown": [
       "\n",
       "| x1 | likelihood | class |\n",
       "|---|---|---|\n",
       "| q         | 0.1428571 | A         |\n",
       "| q         | 0.5000000 | B         |\n",
       "\n"
      ],
      "text/plain": [
       "  x1 likelihood class\n",
       "1 q  0.1428571  A    \n",
       "2 q  0.5000000  B    "
      ]
     },
     "metadata": {},
     "output_type": "display_data"
    }
   ],
   "source": [
    "rbind(info.A[1,], info.B[1,])"
   ]
  },
  {
   "cell_type": "markdown",
   "metadata": {},
   "source": [
    "#### Calculate Priors\n",
    "\n",
    "Here the prior of class A is 0.636 and the prior of class B is 0.363."
   ]
  },
  {
   "cell_type": "code",
   "execution_count": 20,
   "metadata": {
    "hide_input": true,
    "scrolled": false
   },
   "outputs": [
    {
     "data": {
      "text/html": [
       "<table><tr><td style=\"background-color:white; vertical-align:top; padding-right:40px;\"><table>\n",
       "<caption><center><font color=\"black\"><b>data.A</b></font></center></caption>\n",
       " <thead>\n",
       "  <tr>\n",
       "   <th style=\"text-align:right;\"> x1 </th>\n",
       "   <th style=\"text-align:right;\"> class </th>\n",
       "  </tr>\n",
       " </thead>\n",
       "<tbody>\n",
       "  <tr>\n",
       "   <td style=\"text-align:right;\"> q </td>\n",
       "   <td style=\"text-align:right;\"> A </td>\n",
       "  </tr>\n",
       "  <tr>\n",
       "   <td style=\"text-align:right;\"> r </td>\n",
       "   <td style=\"text-align:right;\"> A </td>\n",
       "  </tr>\n",
       "  <tr>\n",
       "   <td style=\"text-align:right;\"> r </td>\n",
       "   <td style=\"text-align:right;\"> A </td>\n",
       "  </tr>\n",
       "  <tr>\n",
       "   <td style=\"text-align:right;\"> s </td>\n",
       "   <td style=\"text-align:right;\"> A </td>\n",
       "  </tr>\n",
       "  <tr>\n",
       "   <td style=\"text-align:right;\"> s </td>\n",
       "   <td style=\"text-align:right;\"> A </td>\n",
       "  </tr>\n",
       "  <tr>\n",
       "   <td style=\"text-align:right;\"> s </td>\n",
       "   <td style=\"text-align:right;\"> A </td>\n",
       "  </tr>\n",
       "  <tr>\n",
       "   <td style=\"text-align:right;\"> r </td>\n",
       "   <td style=\"text-align:right;\"> A </td>\n",
       "  </tr>\n",
       "</tbody>\n",
       "</table></td><td style=\"background-color:white; vertical-align:top;\"><table>\n",
       "<caption><center><font color=\"black\"><b>data.B</b></font></center></caption>\n",
       " <thead>\n",
       "  <tr>\n",
       "   <th style=\"text-align:right;\"> x1 </th>\n",
       "   <th style=\"text-align:right;\"> class </th>\n",
       "  </tr>\n",
       " </thead>\n",
       "<tbody>\n",
       "  <tr>\n",
       "   <td style=\"text-align:right;\"> r </td>\n",
       "   <td style=\"text-align:right;\"> B </td>\n",
       "  </tr>\n",
       "  <tr>\n",
       "   <td style=\"text-align:right;\"> q </td>\n",
       "   <td style=\"text-align:right;\"> B </td>\n",
       "  </tr>\n",
       "  <tr>\n",
       "   <td style=\"text-align:right;\"> q </td>\n",
       "   <td style=\"text-align:right;\"> B </td>\n",
       "  </tr>\n",
       "  <tr>\n",
       "   <td style=\"text-align:right;\"> s </td>\n",
       "   <td style=\"text-align:right;\"> B </td>\n",
       "  </tr>\n",
       "</tbody>\n",
       "</table></td></tr></table>"
      ]
     },
     "metadata": {},
     "output_type": "display_data"
    }
   ],
   "source": [
    "row.arrange(data.A %>% captionx, data.B %>% captionx)"
   ]
  },
  {
   "cell_type": "code",
   "execution_count": 21,
   "metadata": {
    "hide_input": true
   },
   "outputs": [
    {
     "data": {
      "text/html": [
       "<table>\n",
       "<thead><tr><th scope=col>class</th><th scope=col>prior</th></tr></thead>\n",
       "<tbody>\n",
       "\t<tr><td>A        </td><td>0.6363636</td></tr>\n",
       "\t<tr><td>B        </td><td>0.3636364</td></tr>\n",
       "</tbody>\n",
       "</table>\n"
      ],
      "text/latex": [
       "\\begin{tabular}{r|ll}\n",
       " class & prior\\\\\n",
       "\\hline\n",
       "\t A         & 0.6363636\\\\\n",
       "\t B         & 0.3636364\\\\\n",
       "\\end{tabular}\n"
      ],
      "text/markdown": [
       "\n",
       "| class | prior |\n",
       "|---|---|\n",
       "| A         | 0.6363636 |\n",
       "| B         | 0.3636364 |\n",
       "\n"
      ],
      "text/plain": [
       "  class prior    \n",
       "1 A     0.6363636\n",
       "2 B     0.3636364"
      ]
     },
     "metadata": {},
     "output_type": "display_data"
    },
    {
     "data": {
      "image/png": "[encoded data removed]",
      "text/plain": [
       "plot without title"
      ]
     },
     "metadata": {},
     "output_type": "display_data"
    }
   ],
   "source": [
    "prior.A = nrow(data.A) / nrow(data)\n",
    "prior.B = nrow(data.B) / nrow(data)\n",
    "\n",
    "model = data.frame(class=c(\"A\",\"B\"), prior=c(prior.A, prior.B))\n",
    "model\n",
    "\n",
    "ggplot(model) + ylim(0,1) + geom_col(aes(x=class, y=prior, fill=class))"
   ]
  },
  {
   "cell_type": "markdown",
   "metadata": {},
   "source": [
    "#### Predict by Relative Posterior\n",
    "\n",
    "Here the likelihood of observation [ x1=q ] assuming that it's from class A is 0.143, the prior of class A is 0.636, and so the posterior for observation [ x1=10 ] in class A is 0.143 x 0.636 = 0.091.  Similarly, the posterior for observation [ x1=10 ] in class B is 0.500 x 0.363 = 0.182."
   ]
  },
  {
   "cell_type": "code",
   "execution_count": 22,
   "metadata": {
    "hide_input": false,
    "scrolled": false
   },
   "outputs": [
    {
     "data": {
      "text/html": [
       "<table>\n",
       "<thead><tr><th scope=col>x1</th><th scope=col>class</th><th scope=col>likelihood</th><th scope=col>prior</th><th scope=col>posterior</th></tr></thead>\n",
       "<tbody>\n",
       "\t<tr><td>q         </td><td>A         </td><td>0.1428571 </td><td>0.6363636 </td><td>0.09090909</td></tr>\n",
       "\t<tr><td>q         </td><td>B         </td><td>0.5000000 </td><td>0.3636364 </td><td>0.18181818</td></tr>\n",
       "</tbody>\n",
       "</table>\n"
      ],
      "text/latex": [
       "\\begin{tabular}{r|lllll}\n",
       " x1 & class & likelihood & prior & posterior\\\\\n",
       "\\hline\n",
       "\t q          & A          & 0.1428571  & 0.6363636  & 0.09090909\\\\\n",
       "\t q          & B          & 0.5000000  & 0.3636364  & 0.18181818\\\\\n",
       "\\end{tabular}\n"
      ],
      "text/markdown": [
       "\n",
       "| x1 | class | likelihood | prior | posterior |\n",
       "|---|---|---|---|---|\n",
       "| q          | A          | 0.1428571  | 0.6363636  | 0.09090909 |\n",
       "| q          | B          | 0.5000000  | 0.3636364  | 0.18181818 |\n",
       "\n"
      ],
      "text/plain": [
       "  x1 class likelihood prior     posterior \n",
       "1 q  A     0.1428571  0.6363636 0.09090909\n",
       "2 q  B     0.5000000  0.3636364 0.18181818"
      ]
     },
     "metadata": {},
     "output_type": "display_data"
    },
    {
     "data": {
      "image/png": "[encoded data removed]",
      "text/plain": [
       "plot without title"
      ]
     },
     "metadata": {},
     "output_type": "display_data"
    }
   ],
   "source": [
    "posterior.A = info.A$likelihood[1] * prior.A\n",
    "posterior.B = info.B$likelihood[1] * prior.B\n",
    "\n",
    "model.q = data.frame(x1=new$x1,\n",
    "                     class=c(\"A\",\"B\"),\n",
    "                     likelihood=c(info.A$likelihood[1], info.B$likelihood[1]),\n",
    "                     prior=c(prior.A, prior.B),\n",
    "                     posterior=c(posterior.A, posterior.B))\n",
    "\n",
    "model.q\n",
    "ggplot(model.q) + geom_col(aes(x=class, y=posterior, fill=class))"
   ]
  },
  {
   "cell_type": "markdown",
   "metadata": {},
   "source": [
    "The relative posterior for observation [ x1=10 ] in class A is 0.091 / (0.091+0.182) = 0.333, and the relative posterior for observation [ x1=10 ] in class B is 0.182 / (0.091+0.182) = 0.667.  We treat each relative posterior as the probability that the observation is in a class."
   ]
  },
  {
   "cell_type": "code",
   "execution_count": 23,
   "metadata": {
    "hide_input": false,
    "scrolled": false
   },
   "outputs": [
    {
     "data": {
      "text/html": [
       "<table>\n",
       "<thead><tr><th scope=col>x1</th><th scope=col>class</th><th scope=col>likelihood</th><th scope=col>prior</th><th scope=col>posterior</th><th scope=col>relative_posterior</th><th scope=col>probability</th></tr></thead>\n",
       "<tbody>\n",
       "\t<tr><td>q         </td><td>A         </td><td>0.1428571 </td><td>0.6363636 </td><td>0.09090909</td><td>0.3333333 </td><td>0.3333333 </td></tr>\n",
       "\t<tr><td>q         </td><td>B         </td><td>0.5000000 </td><td>0.3636364 </td><td>0.18181818</td><td>0.6666667 </td><td>0.6666667 </td></tr>\n",
       "</tbody>\n",
       "</table>\n"
      ],
      "text/latex": [
       "\\begin{tabular}{r|lllllll}\n",
       " x1 & class & likelihood & prior & posterior & relative\\_posterior & probability\\\\\n",
       "\\hline\n",
       "\t q          & A          & 0.1428571  & 0.6363636  & 0.09090909 & 0.3333333  & 0.3333333 \\\\\n",
       "\t q          & B          & 0.5000000  & 0.3636364  & 0.18181818 & 0.6666667  & 0.6666667 \\\\\n",
       "\\end{tabular}\n"
      ],
      "text/markdown": [
       "\n",
       "| x1 | class | likelihood | prior | posterior | relative_posterior | probability |\n",
       "|---|---|---|---|---|---|---|\n",
       "| q          | A          | 0.1428571  | 0.6363636  | 0.09090909 | 0.3333333  | 0.3333333  |\n",
       "| q          | B          | 0.5000000  | 0.3636364  | 0.18181818 | 0.6666667  | 0.6666667  |\n",
       "\n"
      ],
      "text/plain": [
       "  x1 class likelihood prior     posterior  relative_posterior probability\n",
       "1 q  A     0.1428571  0.6363636 0.09090909 0.3333333          0.3333333  \n",
       "2 q  B     0.5000000  0.3636364 0.18181818 0.6666667          0.6666667  "
      ]
     },
     "metadata": {},
     "output_type": "display_data"
    },
    {
     "data": {
      "image/png": "[encoded data removed]",
      "text/plain": [
       "plot without title"
      ]
     },
     "metadata": {},
     "output_type": "display_data"
    }
   ],
   "source": [
    "model.q = data.frame(x1=new$x1,\n",
    "                     class=c(\"A\",\"B\"),\n",
    "                     likelihood=c(info.A$likelihood[1], info.B$likelihood[1]),\n",
    "                     prior=c(prior.A, prior.B),\n",
    "                     posterior=c(posterior.A, posterior.B),\n",
    "                     relative_posterior=c(posterior.A/(posterior.A+posterior.B), posterior.B/(posterior.A+posterior.B)),\n",
    "                     probability=c(posterior.A/(posterior.A+posterior.B), posterior.B/(posterior.A+posterior.B)))\n",
    "\n",
    "model.q\n",
    "ggplot(model.q) + ylim(0,1) + geom_col(aes(x=class, y=probability, fill=class))"
   ]
  },
  {
   "cell_type": "markdown",
   "metadata": {},
   "source": [
    "Assuming a cutoff of 0.5, since 0.667 > 0.5, we predict that the observation [ x1=10 ] is of class B."
   ]
  },
  {
   "cell_type": "code",
   "execution_count": 24,
   "metadata": {
    "hide_input": true
   },
   "outputs": [
    {
     "data": {
      "text/html": [
       "<table>\n",
       "<thead><tr><th scope=col>x1</th><th scope=col>cutoff</th><th scope=col>class.predicted</th></tr></thead>\n",
       "<tbody>\n",
       "\t<tr><td>10 </td><td>0.5</td><td>B  </td></tr>\n",
       "</tbody>\n",
       "</table>\n"
      ],
      "text/latex": [
       "\\begin{tabular}{r|lll}\n",
       " x1 & cutoff & class.predicted\\\\\n",
       "\\hline\n",
       "\t 10  & 0.5 & B  \\\\\n",
       "\\end{tabular}\n"
      ],
      "text/markdown": [
       "\n",
       "| x1 | cutoff | class.predicted |\n",
       "|---|---|---|\n",
       "| 10  | 0.5 | B   |\n",
       "\n"
      ],
      "text/plain": [
       "  x1 cutoff class.predicted\n",
       "1 10 0.5    B              "
      ]
     },
     "metadata": {},
     "output_type": "display_data"
    }
   ],
   "source": [
    "cutoff = 0.5\n",
    "prediction = model.q$class[model.q$probability >= cutoff]\n",
    "data.frame(x1=10, cutoff, class.predicted=prediction)"
   ]
  },
  {
   "cell_type": "markdown",
   "metadata": {},
   "source": [
    "### Naive Bayes & Many Predictor Variables"
   ]
  },
  {
   "cell_type": "markdown",
   "metadata": {},
   "source": [
    "#### Data\n",
    "\n",
    "Consider this classified data. Each observation is known to be in either class A or class B. "
   ]
  },
  {
   "cell_type": "code",
   "execution_count": 25,
   "metadata": {
    "hideCode": false,
    "hidePrompt": false,
    "hide_input": true,
    "run_control": {
     "marked": false
    },
    "scrolled": false
   },
   "outputs": [
    {
     "data": {
      "text/html": [
       "<table>\n",
       "<caption><center><font color=\"black\"><b>data</b></font></center></caption>\n",
       " <thead>\n",
       "  <tr>\n",
       "   <th style=\"text-align:right;\"> x1 </th>\n",
       "   <th style=\"text-align:right;\"> x2 </th>\n",
       "   <th style=\"text-align:right;\"> class </th>\n",
       "  </tr>\n",
       " </thead>\n",
       "<tbody>\n",
       "  <tr>\n",
       "   <td style=\"text-align:right;\"> 1.0 </td>\n",
       "   <td style=\"text-align:right;\"> 1.0 </td>\n",
       "   <td style=\"text-align:right;\"> A </td>\n",
       "  </tr>\n",
       "  <tr>\n",
       "   <td style=\"text-align:right;\"> 8.0 </td>\n",
       "   <td style=\"text-align:right;\"> 2.0 </td>\n",
       "   <td style=\"text-align:right;\"> A </td>\n",
       "  </tr>\n",
       "  <tr>\n",
       "   <td style=\"text-align:right;\"> 8.5 </td>\n",
       "   <td style=\"text-align:right;\"> 3.5 </td>\n",
       "   <td style=\"text-align:right;\"> A </td>\n",
       "  </tr>\n",
       "  <tr>\n",
       "   <td style=\"text-align:right;\"> 9.5 </td>\n",
       "   <td style=\"text-align:right;\"> 3.0 </td>\n",
       "   <td style=\"text-align:right;\"> A </td>\n",
       "  </tr>\n",
       "  <tr>\n",
       "   <td style=\"text-align:right;\"> 11.0 </td>\n",
       "   <td style=\"text-align:right;\"> 5.5 </td>\n",
       "   <td style=\"text-align:right;\"> A </td>\n",
       "  </tr>\n",
       "  <tr>\n",
       "   <td style=\"text-align:right;\"> 9.0 </td>\n",
       "   <td style=\"text-align:right;\"> 5.0 </td>\n",
       "   <td style=\"text-align:right;\"> B </td>\n",
       "  </tr>\n",
       "  <tr>\n",
       "   <td style=\"text-align:right;\"> 14.0 </td>\n",
       "   <td style=\"text-align:right;\"> 6.5 </td>\n",
       "   <td style=\"text-align:right;\"> B </td>\n",
       "  </tr>\n",
       "  <tr>\n",
       "   <td style=\"text-align:right;\"> 15.0 </td>\n",
       "   <td style=\"text-align:right;\"> 7.0 </td>\n",
       "   <td style=\"text-align:right;\"> B </td>\n",
       "  </tr>\n",
       "  <tr>\n",
       "   <td style=\"text-align:right;\"> 16.0 </td>\n",
       "   <td style=\"text-align:right;\"> 6.2 </td>\n",
       "   <td style=\"text-align:right;\"> B </td>\n",
       "  </tr>\n",
       "  <tr>\n",
       "   <td style=\"text-align:right;\"> 16.5 </td>\n",
       "   <td style=\"text-align:right;\"> 5.7 </td>\n",
       "   <td style=\"text-align:right;\"> B </td>\n",
       "  </tr>\n",
       "  <tr>\n",
       "   <td style=\"text-align:right;\"> 18.0 </td>\n",
       "   <td style=\"text-align:right;\"> 7.5 </td>\n",
       "   <td style=\"text-align:right;\"> B </td>\n",
       "  </tr>\n",
       "</tbody>\n",
       "</table>"
      ]
     },
     "metadata": {},
     "output_type": "display_data"
    },
    {
     "data": {
      "image/png": "[encoded data removed]",
      "text/plain": [
       "plot without title"
      ]
     },
     "metadata": {},
     "output_type": "display_data"
    }
   ],
   "source": [
    "data = data.frame(x1=c(1,8,8.5,9.5,11,9,14,15,16,16.5,18),\n",
    "                  x2=c(1,2,3.5,3,5.5,5,6.5,7,6.2,5.7,7.5),\n",
    "                  class=c(\"A\", \"A\", \"A\", \"A\", \"A\", \"B\", \"B\", \"B\", \"B\", \"B\", \"B\"))\n",
    "\n",
    "data %>% caption\n",
    "\n",
    "ggplot(data) + xlim(0,20) + geom_point(aes(x=x1, y=x2, color=class))"
   ]
  },
  {
   "cell_type": "markdown",
   "metadata": {},
   "source": [
    "#### New Observation\n",
    "\n",
    "Consider a new unclassified observation [ x1=q ]."
   ]
  },
  {
   "cell_type": "code",
   "execution_count": 26,
   "metadata": {
    "hide_input": true
   },
   "outputs": [
    {
     "data": {
      "text/html": [
       "<table>\n",
       "<caption><center><font color=\"black\"><b>new</b></font></center></caption>\n",
       " <thead>\n",
       "  <tr>\n",
       "   <th style=\"text-align:right;\"> x1 </th>\n",
       "   <th style=\"text-align:right;\"> x2 </th>\n",
       "  </tr>\n",
       " </thead>\n",
       "<tbody>\n",
       "  <tr>\n",
       "   <td style=\"text-align:right;\"> 10 </td>\n",
       "   <td style=\"text-align:right;\"> 4 </td>\n",
       "  </tr>\n",
       "</tbody>\n",
       "</table>"
      ]
     },
     "metadata": {},
     "output_type": "display_data"
    },
    {
     "data": {
      "image/png": "[encoded data removed]",
      "text/plain": [
       "plot without title"
      ]
     },
     "metadata": {},
     "output_type": "display_data"
    }
   ],
   "source": [
    "new = data.frame(x1=10, x2=4)\n",
    "new %>% caption\n",
    "\n",
    "ggplot(data) + xlim(0,20) +\n",
    "geom_point(aes(x=x1, y=x2, color=class)) + geom_point(aes(x=10, y=4), color=\"grey70\")"
   ]
  },
  {
   "cell_type": "markdown",
   "metadata": {},
   "source": [
    "#### Calculate Likelihoods\n",
    "\n",
    "Here the likelihood of a new observation [x1=10, ... ] assuming that it's in class A is 0.143, and the likelihood of a new observation [ x1=10, ... ] assuming that it's in class B is 0.034.  The likelihood of a new observation [ ..., x2=4 ] assuming that it's in class A is 0.143, and the likelihood of a new observation [ ..., x2=4 ] assuming that it's in class B is 0.040.  Note that we find four probability density functions to find four likelihoods: one for [ x1=10, ... ] and class A, one for [ x1=10, ... ] and class B, one for [ ..., x2=4 ] and class A, and one for [ ..., x2=4 ] and class B."
   ]
  },
  {
   "cell_type": "code",
   "execution_count": 27,
   "metadata": {
    "hide_input": true,
    "scrolled": false
   },
   "outputs": [],
   "source": [
    "data.A = data[data$class==\"A\",]\n",
    "data.B = data[data$class==\"B\",]\n",
    "\n",
    "d.A.x1 = density(data.A[,\"x1\"], bw=0.7, from=0, to=20); pdf.A.x1 = approxfun(d.A.x1)\n",
    "d.B.x1 = density(data.B[,\"x1\"], bw=0.7, from=0, to=20); pdf.B.x1 = approxfun(d.B.x1)\n",
    "\n",
    "d.A.x2 = density(data.A[,\"x2\"], bw=0.7, from=0, to=20); pdf.A.x2 = approxfun(d.A.x2)\n",
    "d.B.x2 = density(data.B[,\"x2\"], bw=0.7, from=0, to=20); pdf.B.x2 = approxfun(d.B.x2)"
   ]
  },
  {
   "cell_type": "code",
   "execution_count": 28,
   "metadata": {
    "hide_input": true,
    "scrolled": false
   },
   "outputs": [
    {
     "data": {
      "text/html": [
       "<table>\n",
       "<thead><tr><th scope=col>x1</th><th scope=col>class</th><th scope=col>likelihood</th></tr></thead>\n",
       "<tbody>\n",
       "\t<tr><td>10        </td><td>A         </td><td>0.14306430</td></tr>\n",
       "\t<tr><td>10        </td><td>B         </td><td>0.03435121</td></tr>\n",
       "</tbody>\n",
       "</table>\n"
      ],
      "text/latex": [
       "\\begin{tabular}{r|lll}\n",
       " x1 & class & likelihood\\\\\n",
       "\\hline\n",
       "\t 10         & A          & 0.14306430\\\\\n",
       "\t 10         & B          & 0.03435121\\\\\n",
       "\\end{tabular}\n"
      ],
      "text/markdown": [
       "\n",
       "| x1 | class | likelihood |\n",
       "|---|---|---|\n",
       "| 10         | A          | 0.14306430 |\n",
       "| 10         | B          | 0.03435121 |\n",
       "\n"
      ],
      "text/plain": [
       "  x1 class likelihood\n",
       "1 10 A     0.14306430\n",
       "2 10 B     0.03435121"
      ]
     },
     "metadata": {},
     "output_type": "display_data"
    },
    {
     "data": {
      "image/png": "[encoded data removed]",
      "text/plain": [
       "plot without title"
      ]
     },
     "metadata": {},
     "output_type": "display_data"
    }
   ],
   "source": [
    "model.x1 = data.frame(x1=10, class=c(\"A\",\"B\"), likelihood=c(pdf.A.x1(10), pdf.B.x1(10)))\n",
    "model.x1\n",
    "\n",
    "ggplot(data) + xlim(0,20) + xlab(\"x1\") + ylab(\"likelihood\") +\n",
    "stat_function(fun=pdf.A.x1, geom=\"area\", fill=PALETTE[1], alpha=0.5) +\n",
    "stat_function(fun=pdf.B.x1, geom=\"area\", fill=PALETTE[2], alpha=0.5) +\n",
    "geom_vline(aes(xintercept=10), lty=\"dotted\") +\n",
    "geom_point(aes(x=10, y=0), color=\"grey70\") +\n",
    "geom_point(aes(x=x1, y=0, color=class))"
   ]
  },
  {
   "cell_type": "code",
   "execution_count": 29,
   "metadata": {
    "hide_input": true,
    "scrolled": false
   },
   "outputs": [
    {
     "data": {
      "text/html": [
       "<table>\n",
       "<thead><tr><th scope=col>x2</th><th scope=col>class</th><th scope=col>likelihood</th></tr></thead>\n",
       "<tbody>\n",
       "\t<tr><td>4         </td><td>A         </td><td>0.14308327</td></tr>\n",
       "\t<tr><td>4         </td><td>B         </td><td>0.04026897</td></tr>\n",
       "</tbody>\n",
       "</table>\n"
      ],
      "text/latex": [
       "\\begin{tabular}{r|lll}\n",
       " x2 & class & likelihood\\\\\n",
       "\\hline\n",
       "\t 4          & A          & 0.14308327\\\\\n",
       "\t 4          & B          & 0.04026897\\\\\n",
       "\\end{tabular}\n"
      ],
      "text/markdown": [
       "\n",
       "| x2 | class | likelihood |\n",
       "|---|---|---|\n",
       "| 4          | A          | 0.14308327 |\n",
       "| 4          | B          | 0.04026897 |\n",
       "\n"
      ],
      "text/plain": [
       "  x2 class likelihood\n",
       "1 4  A     0.14308327\n",
       "2 4  B     0.04026897"
      ]
     },
     "metadata": {},
     "output_type": "display_data"
    },
    {
     "data": {
      "image/png": "[encoded data removed]",
      "text/plain": [
       "plot without title"
      ]
     },
     "metadata": {},
     "output_type": "display_data"
    }
   ],
   "source": [
    "model.x2 = data.frame(x2=4, class=c(\"A\",\"B\"), likelihood=c(pdf.A.x2(4), pdf.B.x2(4)))\n",
    "model.x2\n",
    "\n",
    "ggplot(data) + xlim(0,20) + xlab(\"x2\") + ylab(\"likelihood\") +\n",
    "stat_function(fun=pdf.A.x2, geom=\"area\", fill=PALETTE[1], alpha=0.5) +\n",
    "stat_function(fun=pdf.B.x2, geom=\"area\", fill=PALETTE[2], alpha=0.5) +\n",
    "geom_vline(aes(xintercept=4), lty=\"dotted\") +\n",
    "geom_point(aes(x=4, y=0), color=\"grey70\") +\n",
    "geom_point(aes(x=x2, y=0, color=class))"
   ]
  },
  {
   "cell_type": "markdown",
   "metadata": {},
   "source": [
    "#### Calculate Priors\n",
    "\n",
    "Here the prior of class A is 0.454 and the prior of class B is 0.545."
   ]
  },
  {
   "cell_type": "code",
   "execution_count": 30,
   "metadata": {
    "hide_input": true
   },
   "outputs": [
    {
     "data": {
      "text/html": [
       "<table>\n",
       "<thead><tr><th scope=col>class</th><th scope=col>prior</th></tr></thead>\n",
       "<tbody>\n",
       "\t<tr><td>A        </td><td>0.4545455</td></tr>\n",
       "\t<tr><td>B        </td><td>0.5454545</td></tr>\n",
       "</tbody>\n",
       "</table>\n"
      ],
      "text/latex": [
       "\\begin{tabular}{r|ll}\n",
       " class & prior\\\\\n",
       "\\hline\n",
       "\t A         & 0.4545455\\\\\n",
       "\t B         & 0.5454545\\\\\n",
       "\\end{tabular}\n"
      ],
      "text/markdown": [
       "\n",
       "| class | prior |\n",
       "|---|---|\n",
       "| A         | 0.4545455 |\n",
       "| B         | 0.5454545 |\n",
       "\n"
      ],
      "text/plain": [
       "  class prior    \n",
       "1 A     0.4545455\n",
       "2 B     0.5454545"
      ]
     },
     "metadata": {},
     "output_type": "display_data"
    },
    {
     "data": {
      "image/png": "[encoded data removed]",
      "text/plain": [
       "plot without title"
      ]
     },
     "metadata": {},
     "output_type": "display_data"
    }
   ],
   "source": [
    "prior.A = nrow(data.A) / nrow(data)\n",
    "prior.B = nrow(data.B) / nrow(data)\n",
    "\n",
    "prob = data.frame(class=c(\"A\",\"B\"), prior=c(prior.A, prior.B))\n",
    "prob\n",
    "\n",
    "ggplot(prob) + ylim(0,1) + geom_col(aes(x=class, y=prior, fill=class))"
   ]
  },
  {
   "cell_type": "markdown",
   "metadata": {},
   "source": [
    "#### Predict by Relative Posterior\n",
    "\n",
    "For a new unclassified observation, the **product** of the likelihoods times the prior of a class is a reasonable basis for predicting the class of the new observation.\n",
    "\n",
    "Here the likelihood of observation [ x1=10, ... ] assuming that it's from class A is 0.143, the likelihood of observation [ ..., x2=4 ] assuming that it's from class A is 0.143, the prior of class A is 0.454, and so the overall posterior of observation [ x1=10, x2=4 ] in class A is 0.143 x 0.143 x 0.454 = 0.00930.  Similarly, the overall posterior of observation [ x1=10, x2=4 ] in class B is 0.034 x 0.040 x 0.545 = 0.00075."
   ]
  },
  {
   "cell_type": "code",
   "execution_count": 31,
   "metadata": {
    "hide_input": true
   },
   "outputs": [
    {
     "data": {
      "text/html": [
       "<table>\n",
       "<thead><tr><th scope=col>x1</th><th scope=col>x2</th><th scope=col>class</th><th scope=col>likelihood_x1</th><th scope=col>likelihood_x2</th><th scope=col>prior</th><th scope=col>posterior</th></tr></thead>\n",
       "<tbody>\n",
       "\t<tr><td>10          </td><td>4           </td><td>A           </td><td>0.14306430  </td><td>0.14308327  </td><td>0.4545455   </td><td>0.0093045944</td></tr>\n",
       "\t<tr><td>10          </td><td>4           </td><td>B           </td><td>0.03435121  </td><td>0.04026897  </td><td>0.5454545   </td><td>0.0007545206</td></tr>\n",
       "</tbody>\n",
       "</table>\n"
      ],
      "text/latex": [
       "\\begin{tabular}{r|lllllll}\n",
       " x1 & x2 & class & likelihood\\_x1 & likelihood\\_x2 & prior & posterior\\\\\n",
       "\\hline\n",
       "\t 10           & 4            & A            & 0.14306430   & 0.14308327   & 0.4545455    & 0.0093045944\\\\\n",
       "\t 10           & 4            & B            & 0.03435121   & 0.04026897   & 0.5454545    & 0.0007545206\\\\\n",
       "\\end{tabular}\n"
      ],
      "text/markdown": [
       "\n",
       "| x1 | x2 | class | likelihood_x1 | likelihood_x2 | prior | posterior |\n",
       "|---|---|---|---|---|---|---|\n",
       "| 10           | 4            | A            | 0.14306430   | 0.14308327   | 0.4545455    | 0.0093045944 |\n",
       "| 10           | 4            | B            | 0.03435121   | 0.04026897   | 0.5454545    | 0.0007545206 |\n",
       "\n"
      ],
      "text/plain": [
       "  x1 x2 class likelihood_x1 likelihood_x2 prior     posterior   \n",
       "1 10 4  A     0.14306430    0.14308327    0.4545455 0.0093045944\n",
       "2 10 4  B     0.03435121    0.04026897    0.5454545 0.0007545206"
      ]
     },
     "metadata": {},
     "output_type": "display_data"
    },
    {
     "data": {
      "image/png": "[encoded data removed]",
      "text/plain": [
       "plot without title"
      ]
     },
     "metadata": {},
     "output_type": "display_data"
    }
   ],
   "source": [
    "posterior.A = pdf.A.x1(10) * pdf.A.x2(4) * prior.A\n",
    "posterior.B = pdf.B.x1(10) * pdf.B.x2(4) * prior.B\n",
    "\n",
    "model.10.4 = data.frame(x1=10,\n",
    "                        x2=4,\n",
    "                        class=c(\"A\",\"B\"),\n",
    "                        likelihood_x1=c(pdf.A.x1(10), pdf.B.x1(10)),\n",
    "                        likelihood_x2=c(pdf.A.x2(4), pdf.B.x2(4)),\n",
    "                        prior=c(prior.A, prior.B),\n",
    "                        posterior=c(posterior.A, posterior.B))\n",
    "\n",
    "\n",
    "model.10.4\n",
    "ggplot(model.10.4) + geom_col(aes(x=class, y=posterior, fill=class))"
   ]
  },
  {
   "cell_type": "markdown",
   "metadata": {},
   "source": [
    "The relative posteriors are then 0.0093 / (0.00930+0.00075) = 0.924 for class A and 0.00075 / (0.00930+0.00075) = 0.075 for class B."
   ]
  },
  {
   "cell_type": "code",
   "execution_count": 32,
   "metadata": {
    "hide_input": true,
    "scrolled": false
   },
   "outputs": [
    {
     "data": {
      "text/html": [
       "<table>\n",
       "<thead><tr><th scope=col>class</th><th scope=col>likelihood_x1</th><th scope=col>likelihood_x2</th><th scope=col>prior</th><th scope=col>posterior</th><th scope=col>relative_posterior</th><th scope=col>probability</th></tr></thead>\n",
       "<tbody>\n",
       "\t<tr><td>A           </td><td>0.14306430  </td><td>0.14308327  </td><td>0.4545455   </td><td>0.0093045944</td><td>0.92499135  </td><td>0.92499135  </td></tr>\n",
       "\t<tr><td>B           </td><td>0.03435121  </td><td>0.04026897  </td><td>0.5454545   </td><td>0.0007545206</td><td>0.07500865  </td><td>0.07500865  </td></tr>\n",
       "</tbody>\n",
       "</table>\n"
      ],
      "text/latex": [
       "\\begin{tabular}{r|lllllll}\n",
       " class & likelihood\\_x1 & likelihood\\_x2 & prior & posterior & relative\\_posterior & probability\\\\\n",
       "\\hline\n",
       "\t A            & 0.14306430   & 0.14308327   & 0.4545455    & 0.0093045944 & 0.92499135   & 0.92499135  \\\\\n",
       "\t B            & 0.03435121   & 0.04026897   & 0.5454545    & 0.0007545206 & 0.07500865   & 0.07500865  \\\\\n",
       "\\end{tabular}\n"
      ],
      "text/markdown": [
       "\n",
       "| class | likelihood_x1 | likelihood_x2 | prior | posterior | relative_posterior | probability |\n",
       "|---|---|---|---|---|---|---|\n",
       "| A            | 0.14306430   | 0.14308327   | 0.4545455    | 0.0093045944 | 0.92499135   | 0.92499135   |\n",
       "| B            | 0.03435121   | 0.04026897   | 0.5454545    | 0.0007545206 | 0.07500865   | 0.07500865   |\n",
       "\n"
      ],
      "text/plain": [
       "  class likelihood_x1 likelihood_x2 prior     posterior    relative_posterior\n",
       "1 A     0.14306430    0.14308327    0.4545455 0.0093045944 0.92499135        \n",
       "2 B     0.03435121    0.04026897    0.5454545 0.0007545206 0.07500865        \n",
       "  probability\n",
       "1 0.92499135 \n",
       "2 0.07500865 "
      ]
     },
     "metadata": {},
     "output_type": "display_data"
    },
    {
     "data": {
      "image/png": "[encoded data removed]",
      "text/plain": [
       "plot without title"
      ]
     },
     "metadata": {},
     "output_type": "display_data"
    }
   ],
   "source": [
    "model.10.4 = data.frame(class=c(\"A\",\"B\"),\n",
    "                        likelihood_x1=c(pdf.A.x1(10), pdf.B.x1(10)),\n",
    "                        likelihood_x2=c(pdf.A.x2(4), pdf.B.x2(4)),\n",
    "                        prior=c(prior.A, prior.B),\n",
    "                        posterior=c(posterior.A, posterior.B),\n",
    "                        relative_posterior=c(posterior.A/(posterior.A+posterior.B), posterior.B/(posterior.A+posterior.B)),\n",
    "                        probability=c(posterior.A/(posterior.A+posterior.B), posterior.B/(posterior.A+posterior.B)))\n",
    "\n",
    "\n",
    "model.10.4\n",
    "ggplot(model.10.4) + ylim(0,1) + geom_col(aes(x=class, y=probability, fill=class))"
   ]
  },
  {
   "cell_type": "markdown",
   "metadata": {},
   "source": [
    "Assuming a cutoff of 0.5, since 0.924 > 0.5, we predict that the observation [ x1=10, x2=4 ] is of class A."
   ]
  },
  {
   "cell_type": "code",
   "execution_count": 33,
   "metadata": {
    "hide_input": true
   },
   "outputs": [
    {
     "data": {
      "text/html": [
       "<table>\n",
       "<thead><tr><th scope=col>x1</th><th scope=col>x2</th><th scope=col>cutoff</th><th scope=col>class.predicted</th></tr></thead>\n",
       "<tbody>\n",
       "\t<tr><td>10 </td><td>4  </td><td>0.5</td><td>A  </td></tr>\n",
       "</tbody>\n",
       "</table>\n"
      ],
      "text/latex": [
       "\\begin{tabular}{r|llll}\n",
       " x1 & x2 & cutoff & class.predicted\\\\\n",
       "\\hline\n",
       "\t 10  & 4   & 0.5 & A  \\\\\n",
       "\\end{tabular}\n"
      ],
      "text/markdown": [
       "\n",
       "| x1 | x2 | cutoff | class.predicted |\n",
       "|---|---|---|---|\n",
       "| 10  | 4   | 0.5 | A   |\n",
       "\n"
      ],
      "text/plain": [
       "  x1 x2 cutoff class.predicted\n",
       "1 10 4  0.5    A              "
      ]
     },
     "metadata": {},
     "output_type": "display_data"
    }
   ],
   "source": [
    "cutoff = 0.5\n",
    "prediction = model.10.4$class[model.10.4$probability >= cutoff]\n",
    "data.frame(x1=10, x2=4, cutoff, class.predicted=prediction)"
   ]
  },
  {
   "cell_type": "markdown",
   "metadata": {},
   "source": [
    "### Naive Bayes with Gaussian Estimation"
   ]
  },
  {
   "cell_type": "markdown",
   "metadata": {},
   "source": [
    "#### Data\n",
    "\n",
    "Consider this classified data. Each observation is known to be in either class A or class B. "
   ]
  },
  {
   "cell_type": "code",
   "execution_count": 34,
   "metadata": {
    "hide_input": true
   },
   "outputs": [
    {
     "data": {
      "text/html": [
       "<table>\n",
       "<caption><center><font color=\"black\"><b>data</b></font></center></caption>\n",
       " <thead>\n",
       "  <tr>\n",
       "   <th style=\"text-align:right;\"> x1 </th>\n",
       "   <th style=\"text-align:right;\"> class </th>\n",
       "  </tr>\n",
       " </thead>\n",
       "<tbody>\n",
       "  <tr>\n",
       "   <td style=\"text-align:right;\"> 1.0 </td>\n",
       "   <td style=\"text-align:right;\"> A </td>\n",
       "  </tr>\n",
       "  <tr>\n",
       "   <td style=\"text-align:right;\"> 8.0 </td>\n",
       "   <td style=\"text-align:right;\"> A </td>\n",
       "  </tr>\n",
       "  <tr>\n",
       "   <td style=\"text-align:right;\"> 8.5 </td>\n",
       "   <td style=\"text-align:right;\"> A </td>\n",
       "  </tr>\n",
       "  <tr>\n",
       "   <td style=\"text-align:right;\"> 9.5 </td>\n",
       "   <td style=\"text-align:right;\"> A </td>\n",
       "  </tr>\n",
       "  <tr>\n",
       "   <td style=\"text-align:right;\"> 11.0 </td>\n",
       "   <td style=\"text-align:right;\"> A </td>\n",
       "  </tr>\n",
       "  <tr>\n",
       "   <td style=\"text-align:right;\"> 9.0 </td>\n",
       "   <td style=\"text-align:right;\"> B </td>\n",
       "  </tr>\n",
       "  <tr>\n",
       "   <td style=\"text-align:right;\"> 14.0 </td>\n",
       "   <td style=\"text-align:right;\"> B </td>\n",
       "  </tr>\n",
       "  <tr>\n",
       "   <td style=\"text-align:right;\"> 15.0 </td>\n",
       "   <td style=\"text-align:right;\"> B </td>\n",
       "  </tr>\n",
       "  <tr>\n",
       "   <td style=\"text-align:right;\"> 16.0 </td>\n",
       "   <td style=\"text-align:right;\"> B </td>\n",
       "  </tr>\n",
       "  <tr>\n",
       "   <td style=\"text-align:right;\"> 16.5 </td>\n",
       "   <td style=\"text-align:right;\"> B </td>\n",
       "  </tr>\n",
       "  <tr>\n",
       "   <td style=\"text-align:right;\"> 18.0 </td>\n",
       "   <td style=\"text-align:right;\"> B </td>\n",
       "  </tr>\n",
       "</tbody>\n",
       "</table>"
      ]
     },
     "metadata": {},
     "output_type": "display_data"
    },
    {
     "data": {
      "image/png": "[encoded data removed]",
      "text/plain": [
       "plot without title"
      ]
     },
     "metadata": {},
     "output_type": "display_data"
    }
   ],
   "source": [
    "data = data.frame(x1=c(1,8,8.5,9.5,11,9,14,15,16,16.5,18),\n",
    "                  class=c(\"A\", \"A\", \"A\", \"A\", \"A\", \"B\", \"B\", \"B\", \"B\", \"B\", \"B\"))\n",
    "data %>% caption \n",
    "\n",
    "output_size(8,1)\n",
    "ggplot(data) + xlim(0,20) + geom_point(aes(x=x1, y=0, color=class)) + theme.x_axis_only\n",
    "output_size(restore)"
   ]
  },
  {
   "cell_type": "markdown",
   "metadata": {},
   "source": [
    "#### New Observation\n",
    "\n",
    "Consider a new unclassified observation [ x1=q ]."
   ]
  },
  {
   "cell_type": "code",
   "execution_count": 35,
   "metadata": {
    "hide_input": true
   },
   "outputs": [
    {
     "data": {
      "text/html": [
       "<table>\n",
       "<caption><center><font color=\"black\"><b>new</b></font></center></caption>\n",
       " <thead>\n",
       "  <tr>\n",
       "   <th style=\"text-align:right;\"> x1 </th>\n",
       "  </tr>\n",
       " </thead>\n",
       "<tbody>\n",
       "  <tr>\n",
       "   <td style=\"text-align:right;\"> 10 </td>\n",
       "  </tr>\n",
       "</tbody>\n",
       "</table>"
      ]
     },
     "metadata": {},
     "output_type": "display_data"
    },
    {
     "data": {
      "image/png": "[encoded data removed]",
      "text/plain": [
       "plot without title"
      ]
     },
     "metadata": {},
     "output_type": "display_data"
    }
   ],
   "source": [
    "new = data.frame(x1=10)\n",
    "new %>% caption\n",
    "\n",
    "output_size(8,1)\n",
    "ggplot(data) + xlim(0,20) + geom_point(aes(x=x1, y=0, color=class)) +\n",
    "geom_point(aes(x=new$x1, y=0), color=\"grey70\") + theme.x_axis_only\n",
    "output_size(restore)"
   ]
  },
  {
   "cell_type": "markdown",
   "metadata": {},
   "source": [
    "#### Calculate Likelihoods\n",
    "\n",
    "Use Gaussian estimation, rather than kernel density estimation, to find probability density functions.  Gaussian estimation takes the mean and standard deviation of the observations as its parameters."
   ]
  },
  {
   "cell_type": "code",
   "execution_count": 36,
   "metadata": {
    "hide_input": true
   },
   "outputs": [
    {
     "data": {
      "text/html": [
       "<table>\n",
       "<thead><tr><th scope=col>class</th><th scope=col>mean</th><th scope=col>sd</th></tr></thead>\n",
       "<tbody>\n",
       "\t<tr><td>A       </td><td> 7.60   </td><td>3.863289</td></tr>\n",
       "\t<tr><td>B       </td><td>14.75   </td><td>3.126500</td></tr>\n",
       "</tbody>\n",
       "</table>\n"
      ],
      "text/latex": [
       "\\begin{tabular}{r|lll}\n",
       " class & mean & sd\\\\\n",
       "\\hline\n",
       "\t A        &  7.60    & 3.863289\\\\\n",
       "\t B        & 14.75    & 3.126500\\\\\n",
       "\\end{tabular}\n"
      ],
      "text/markdown": [
       "\n",
       "| class | mean | sd |\n",
       "|---|---|---|\n",
       "| A        |  7.60    | 3.863289 |\n",
       "| B        | 14.75    | 3.126500 |\n",
       "\n"
      ],
      "text/plain": [
       "  class mean  sd      \n",
       "1 A      7.60 3.863289\n",
       "2 B     14.75 3.126500"
      ]
     },
     "metadata": {},
     "output_type": "display_data"
    },
    {
     "data": {
      "image/png": "[encoded data removed]",
      "text/plain": [
       "plot without title"
      ]
     },
     "metadata": {},
     "output_type": "display_data"
    }
   ],
   "source": [
    "data.A = data[data$class==\"A\",]\n",
    "data.B = data[data$class==\"B\",]\n",
    "\n",
    "mean.A = mean(data.A$x1); sd.A = sd(data.A$x1)\n",
    "mean.B = mean(data.B$x1); sd.B = sd(data.B$x1)\n",
    "\n",
    "parms = data.frame(class=c(\"A\",\"B\"), mean=c(mean.A, mean.B), sd=c(sd.A,sd.B))\n",
    "parms\n",
    "\n",
    "ggplot(data) + xlim(0,20) + ylab(\"likelihood\") +\n",
    "stat_function(fun=gaussian, args=c(mean=mean.A, sd=sd.A), n=500, geom=\"area\", fill=PALETTE[1], alpha=0.5) +\n",
    "stat_function(fun=gaussian, args=c(mean=mean.B, sd=sd.B), n=500, geom=\"area\", fill=PALETTE[2], alpha=0.5) +\n",
    "geom_point(aes(x=x1, y=0, color=class))"
   ]
  },
  {
   "cell_type": "markdown",
   "metadata": {},
   "source": [
    "Here the likelihood of observation [ x1=10 ] in class A is 0.085, and the likelihood of observation [ x1=10 ] in class B is 0.040."
   ]
  },
  {
   "cell_type": "code",
   "execution_count": 37,
   "metadata": {
    "hide_input": true,
    "scrolled": false
   },
   "outputs": [
    {
     "data": {
      "text/html": [
       "<table>\n",
       "<thead><tr><th scope=col>x1</th><th scope=col>class</th><th scope=col>likelihood</th></tr></thead>\n",
       "<tbody>\n",
       "\t<tr><td>10        </td><td>A         </td><td>0.08514308</td></tr>\n",
       "\t<tr><td>10        </td><td>B         </td><td>0.04023795</td></tr>\n",
       "</tbody>\n",
       "</table>\n"
      ],
      "text/latex": [
       "\\begin{tabular}{r|lll}\n",
       " x1 & class & likelihood\\\\\n",
       "\\hline\n",
       "\t 10         & A          & 0.08514308\\\\\n",
       "\t 10         & B          & 0.04023795\\\\\n",
       "\\end{tabular}\n"
      ],
      "text/markdown": [
       "\n",
       "| x1 | class | likelihood |\n",
       "|---|---|---|\n",
       "| 10         | A          | 0.08514308 |\n",
       "| 10         | B          | 0.04023795 |\n",
       "\n"
      ],
      "text/plain": [
       "  x1 class likelihood\n",
       "1 10 A     0.08514308\n",
       "2 10 B     0.04023795"
      ]
     },
     "metadata": {},
     "output_type": "display_data"
    },
    {
     "data": {
      "image/png": "[encoded data removed]",
      "text/plain": [
       "plot without title"
      ]
     },
     "metadata": {},
     "output_type": "display_data"
    }
   ],
   "source": [
    "model = data.frame(x1=10, class=c(\"A\",\"B\"), likelihood=c(gaussian(10, mean.A, sd.A), gaussian(10, mean.B, sd.B)))\n",
    "model\n",
    "\n",
    "ggplot(data) + xlim(0,20) + ylab(\"likelihood\") +\n",
    "stat_function(fun=gaussian, args=c(mean=mean.A, sd=sd.A), n=500, geom=\"area\", fill=PALETTE[1], alpha=0.5) +\n",
    "stat_function(fun=gaussian, args=c(mean=mean.B, sd=sd.B), n=500, geom=\"area\", fill=PALETTE[2], alpha=0.5) +\n",
    "geom_text(aes(x=10, y=model[1,\"likelihood\"]), color=PALETTE[1], size=5, label=sprintf(\"%0.4f\",model[1,\"likelihood\"])) +\n",
    "geom_text(aes(x=10, y=model[2,\"likelihood\"]), color=PALETTE[2], size=5, label=sprintf(\"%0.4f\",model[2,\"likelihood\"])) +\n",
    "geom_vline(aes(xintercept=new$x1), lty=\"dotted\") +\n",
    "geom_point(aes(x=new$x1, y=0), color=\"grey70\")"
   ]
  },
  {
   "cell_type": "markdown",
   "metadata": {},
   "source": [
    "### Naive Bayes with Laplace Smoothing"
   ]
  },
  {
   "cell_type": "markdown",
   "metadata": {},
   "source": [
    "#### Data\n",
    "\n",
    "Consider this classified data. Each observation is known to be in either class A or class B. "
   ]
  },
  {
   "cell_type": "code",
   "execution_count": 38,
   "metadata": {
    "hide_input": true,
    "scrolled": false
   },
   "outputs": [
    {
     "data": {
      "text/html": [
       "<table>\n",
       "<caption><center><font color=\"black\"><b>data</b></font></center></caption>\n",
       " <thead>\n",
       "  <tr>\n",
       "   <th style=\"text-align:right;\"> x1 </th>\n",
       "   <th style=\"text-align:right;\"> x2 </th>\n",
       "   <th style=\"text-align:right;\"> class </th>\n",
       "  </tr>\n",
       " </thead>\n",
       "<tbody>\n",
       "  <tr>\n",
       "   <td style=\"text-align:right;\"> q </td>\n",
       "   <td style=\"text-align:right;\"> w </td>\n",
       "   <td style=\"text-align:right;\"> A </td>\n",
       "  </tr>\n",
       "  <tr>\n",
       "   <td style=\"text-align:right;\"> r </td>\n",
       "   <td style=\"text-align:right;\"> u </td>\n",
       "   <td style=\"text-align:right;\"> B </td>\n",
       "  </tr>\n",
       "  <tr>\n",
       "   <td style=\"text-align:right;\"> r </td>\n",
       "   <td style=\"text-align:right;\"> v </td>\n",
       "   <td style=\"text-align:right;\"> A </td>\n",
       "  </tr>\n",
       "  <tr>\n",
       "   <td style=\"text-align:right;\"> r </td>\n",
       "   <td style=\"text-align:right;\"> v </td>\n",
       "   <td style=\"text-align:right;\"> A </td>\n",
       "  </tr>\n",
       "  <tr>\n",
       "   <td style=\"text-align:right;\"> s </td>\n",
       "   <td style=\"text-align:right;\"> v </td>\n",
       "   <td style=\"text-align:right;\"> A </td>\n",
       "  </tr>\n",
       "  <tr>\n",
       "   <td style=\"text-align:right;\"> s </td>\n",
       "   <td style=\"text-align:right;\"> v </td>\n",
       "   <td style=\"text-align:right;\"> A </td>\n",
       "  </tr>\n",
       "  <tr>\n",
       "   <td style=\"text-align:right;\"> s </td>\n",
       "   <td style=\"text-align:right;\"> u </td>\n",
       "   <td style=\"text-align:right;\"> A </td>\n",
       "  </tr>\n",
       "  <tr>\n",
       "   <td style=\"text-align:right;\"> r </td>\n",
       "   <td style=\"text-align:right;\"> u </td>\n",
       "   <td style=\"text-align:right;\"> A </td>\n",
       "  </tr>\n",
       "  <tr>\n",
       "   <td style=\"text-align:right;\"> q </td>\n",
       "   <td style=\"text-align:right;\"> u </td>\n",
       "   <td style=\"text-align:right;\"> B </td>\n",
       "  </tr>\n",
       "  <tr>\n",
       "   <td style=\"text-align:right;\"> q </td>\n",
       "   <td style=\"text-align:right;\"> v </td>\n",
       "   <td style=\"text-align:right;\"> B </td>\n",
       "  </tr>\n",
       "  <tr>\n",
       "   <td style=\"text-align:right;\"> s </td>\n",
       "   <td style=\"text-align:right;\"> u </td>\n",
       "   <td style=\"text-align:right;\"> B </td>\n",
       "  </tr>\n",
       "</tbody>\n",
       "</table>"
      ]
     },
     "metadata": {},
     "output_type": "display_data"
    },
    {
     "data": {
      "image/png": "[encoded data removed]",
      "text/plain": [
       "plot without title"
      ]
     },
     "metadata": {},
     "output_type": "display_data"
    },
    {
     "data": {
      "image/png": "[encoded data removed]",
      "text/plain": [
       "plot without title"
      ]
     },
     "metadata": {},
     "output_type": "display_data"
    }
   ],
   "source": [
    "data = data.frame(x1=c(\"q\",\"r\",\"r\",\"r\",\"s\",\"s\",\"s\",\"r\",\"q\",\"q\",\"s\"), \n",
    "                  x2=c(\"w\",\"u\",\"v\",\"v\",\"v\",\"v\",\"u\",\"u\",\"u\",\"v\",\"u\"),\n",
    "                  class=c(\"A\", \"B\", \"A\", \"A\", \"A\", \"A\", \"A\", \"A\", \"B\", \"B\", \"B\"))\n",
    "data %>% caption\n",
    "\n",
    "ggplot(data) + geom_bar(aes(x=x1, fill=class), position=position_dodge())\n",
    "ggplot(data) + geom_bar(aes(x=x2, fill=class), position=position_dodge())"
   ]
  },
  {
   "cell_type": "markdown",
   "metadata": {},
   "source": [
    "#### New Observation\n",
    "\n",
    "Consider a new unclassified observation [ x1=q, x2=w ]."
   ]
  },
  {
   "cell_type": "code",
   "execution_count": 39,
   "metadata": {
    "hide_input": true,
    "scrolled": true
   },
   "outputs": [
    {
     "data": {
      "text/html": [
       "<table>\n",
       "<caption><center><font color=\"black\"><b>new</b></font></center></caption>\n",
       " <thead>\n",
       "  <tr>\n",
       "   <th style=\"text-align:right;\"> x1 </th>\n",
       "   <th style=\"text-align:right;\"> x2 </th>\n",
       "  </tr>\n",
       " </thead>\n",
       "<tbody>\n",
       "  <tr>\n",
       "   <td style=\"text-align:right;\"> q </td>\n",
       "   <td style=\"text-align:right;\"> w </td>\n",
       "  </tr>\n",
       "</tbody>\n",
       "</table>"
      ]
     },
     "metadata": {},
     "output_type": "display_data"
    }
   ],
   "source": [
    "new = data.frame(x1=\"q\", x2=\"w\")\n",
    "new %>% caption"
   ]
  },
  {
   "cell_type": "markdown",
   "metadata": {},
   "source": [
    "#### Calculate LIkelihoods"
   ]
  },
  {
   "cell_type": "markdown",
   "metadata": {},
   "source": [
    "Examine each class separately ..."
   ]
  },
  {
   "cell_type": "code",
   "execution_count": 40,
   "metadata": {
    "hide_input": true,
    "scrolled": true
   },
   "outputs": [
    {
     "data": {
      "text/html": [
       "<table><tr><td style=\"background-color:white; vertical-align:top; padding-right:40px;\"><table>\n",
       "<caption><center><font color=\"black\"><b>data.A</b></font></center></caption>\n",
       " <thead>\n",
       "  <tr>\n",
       "   <th style=\"text-align:right;\"> x1 </th>\n",
       "   <th style=\"text-align:right;\"> x2 </th>\n",
       "   <th style=\"text-align:right;\"> class </th>\n",
       "  </tr>\n",
       " </thead>\n",
       "<tbody>\n",
       "  <tr>\n",
       "   <td style=\"text-align:right;\"> q </td>\n",
       "   <td style=\"text-align:right;\"> w </td>\n",
       "   <td style=\"text-align:right;\"> A </td>\n",
       "  </tr>\n",
       "  <tr>\n",
       "   <td style=\"text-align:right;\"> r </td>\n",
       "   <td style=\"text-align:right;\"> v </td>\n",
       "   <td style=\"text-align:right;\"> A </td>\n",
       "  </tr>\n",
       "  <tr>\n",
       "   <td style=\"text-align:right;\"> r </td>\n",
       "   <td style=\"text-align:right;\"> v </td>\n",
       "   <td style=\"text-align:right;\"> A </td>\n",
       "  </tr>\n",
       "  <tr>\n",
       "   <td style=\"text-align:right;\"> s </td>\n",
       "   <td style=\"text-align:right;\"> v </td>\n",
       "   <td style=\"text-align:right;\"> A </td>\n",
       "  </tr>\n",
       "  <tr>\n",
       "   <td style=\"text-align:right;\"> s </td>\n",
       "   <td style=\"text-align:right;\"> v </td>\n",
       "   <td style=\"text-align:right;\"> A </td>\n",
       "  </tr>\n",
       "  <tr>\n",
       "   <td style=\"text-align:right;\"> s </td>\n",
       "   <td style=\"text-align:right;\"> u </td>\n",
       "   <td style=\"text-align:right;\"> A </td>\n",
       "  </tr>\n",
       "  <tr>\n",
       "   <td style=\"text-align:right;\"> r </td>\n",
       "   <td style=\"text-align:right;\"> u </td>\n",
       "   <td style=\"text-align:right;\"> A </td>\n",
       "  </tr>\n",
       "</tbody>\n",
       "</table></td><td style=\"background-color:white; vertical-align:top;\"><table>\n",
       "<caption><center><font color=\"black\"><b>data.B</b></font></center></caption>\n",
       " <thead>\n",
       "  <tr>\n",
       "   <th style=\"text-align:right;\"> x1 </th>\n",
       "   <th style=\"text-align:right;\"> x2 </th>\n",
       "   <th style=\"text-align:right;\"> class </th>\n",
       "  </tr>\n",
       " </thead>\n",
       "<tbody>\n",
       "  <tr>\n",
       "   <td style=\"text-align:right;\"> r </td>\n",
       "   <td style=\"text-align:right;\"> u </td>\n",
       "   <td style=\"text-align:right;\"> B </td>\n",
       "  </tr>\n",
       "  <tr>\n",
       "   <td style=\"text-align:right;\"> q </td>\n",
       "   <td style=\"text-align:right;\"> u </td>\n",
       "   <td style=\"text-align:right;\"> B </td>\n",
       "  </tr>\n",
       "  <tr>\n",
       "   <td style=\"text-align:right;\"> q </td>\n",
       "   <td style=\"text-align:right;\"> v </td>\n",
       "   <td style=\"text-align:right;\"> B </td>\n",
       "  </tr>\n",
       "  <tr>\n",
       "   <td style=\"text-align:right;\"> s </td>\n",
       "   <td style=\"text-align:right;\"> u </td>\n",
       "   <td style=\"text-align:right;\"> B </td>\n",
       "  </tr>\n",
       "</tbody>\n",
       "</table></td></tr></table>"
      ]
     },
     "metadata": {},
     "output_type": "display_data"
    }
   ],
   "source": [
    "data.A = data[data$class==\"A\",]\n",
    "data.B = data[data$class==\"B\",]\n",
    "\n",
    "row.arrange(data.A %>% captionx, data.B %>% captionx)"
   ]
  },
  {
   "cell_type": "markdown",
   "metadata": {},
   "source": [
    "Likelihoods derived from relative frequency tables ..."
   ]
  },
  {
   "cell_type": "code",
   "execution_count": 41,
   "metadata": {
    "hide_input": true,
    "scrolled": false
   },
   "outputs": [
    {
     "data": {
      "text/html": [
       "<table><tr><td style=\"background-color:white; vertical-align:top; padding-right:40px;\"><table>\n",
       "<caption><center><font color=\"black\"><b>info.A.x1</b></font></center></caption>\n",
       " <thead>\n",
       "  <tr>\n",
       "   <th style=\"text-align:right;\"> x1 </th>\n",
       "   <th style=\"text-align:right;\"> count </th>\n",
       "   <th style=\"text-align:right;\"> likelihood </th>\n",
       "   <th style=\"text-align:right;\"> class </th>\n",
       "  </tr>\n",
       " </thead>\n",
       "<tbody>\n",
       "  <tr>\n",
       "   <td style=\"text-align:right;\"> q </td>\n",
       "   <td style=\"text-align:right;\"> 1 </td>\n",
       "   <td style=\"text-align:right;\"> 0.1428571 </td>\n",
       "   <td style=\"text-align:right;\"> A </td>\n",
       "  </tr>\n",
       "  <tr>\n",
       "   <td style=\"text-align:right;\"> r </td>\n",
       "   <td style=\"text-align:right;\"> 3 </td>\n",
       "   <td style=\"text-align:right;\"> 0.4285714 </td>\n",
       "   <td style=\"text-align:right;\"> A </td>\n",
       "  </tr>\n",
       "  <tr>\n",
       "   <td style=\"text-align:right;\"> s </td>\n",
       "   <td style=\"text-align:right;\"> 3 </td>\n",
       "   <td style=\"text-align:right;\"> 0.4285714 </td>\n",
       "   <td style=\"text-align:right;\"> A </td>\n",
       "  </tr>\n",
       "</tbody>\n",
       "</table></td><td style=\"background-color:white; vertical-align:top;\"><table>\n",
       "<caption><center><font color=\"black\"><b>info.B.x1</b></font></center></caption>\n",
       " <thead>\n",
       "  <tr>\n",
       "   <th style=\"text-align:right;\"> x1 </th>\n",
       "   <th style=\"text-align:right;\"> count </th>\n",
       "   <th style=\"text-align:right;\"> likelihood </th>\n",
       "   <th style=\"text-align:right;\"> class </th>\n",
       "  </tr>\n",
       " </thead>\n",
       "<tbody>\n",
       "  <tr>\n",
       "   <td style=\"text-align:right;\"> q </td>\n",
       "   <td style=\"text-align:right;\"> 2 </td>\n",
       "   <td style=\"text-align:right;\"> 0.50 </td>\n",
       "   <td style=\"text-align:right;\"> B </td>\n",
       "  </tr>\n",
       "  <tr>\n",
       "   <td style=\"text-align:right;\"> r </td>\n",
       "   <td style=\"text-align:right;\"> 1 </td>\n",
       "   <td style=\"text-align:right;\"> 0.25 </td>\n",
       "   <td style=\"text-align:right;\"> B </td>\n",
       "  </tr>\n",
       "  <tr>\n",
       "   <td style=\"text-align:right;\"> s </td>\n",
       "   <td style=\"text-align:right;\"> 1 </td>\n",
       "   <td style=\"text-align:right;\"> 0.25 </td>\n",
       "   <td style=\"text-align:right;\"> B </td>\n",
       "  </tr>\n",
       "</tbody>\n",
       "</table></td></tr></table>"
      ]
     },
     "metadata": {},
     "output_type": "display_data"
    },
    {
     "data": {
      "text/html": [
       "<table><tr><td style=\"background-color:white; vertical-align:top; padding-right:40px;\"><table>\n",
       "<caption><center><font color=\"black\"><b>info.A.x2</b></font></center></caption>\n",
       " <thead>\n",
       "  <tr>\n",
       "   <th style=\"text-align:right;\"> x2 </th>\n",
       "   <th style=\"text-align:right;\"> count </th>\n",
       "   <th style=\"text-align:right;\"> likelihood </th>\n",
       "   <th style=\"text-align:right;\"> class </th>\n",
       "  </tr>\n",
       " </thead>\n",
       "<tbody>\n",
       "  <tr>\n",
       "   <td style=\"text-align:right;\"> u </td>\n",
       "   <td style=\"text-align:right;\"> 2 </td>\n",
       "   <td style=\"text-align:right;\"> 0.2857143 </td>\n",
       "   <td style=\"text-align:right;\"> A </td>\n",
       "  </tr>\n",
       "  <tr>\n",
       "   <td style=\"text-align:right;\"> v </td>\n",
       "   <td style=\"text-align:right;\"> 4 </td>\n",
       "   <td style=\"text-align:right;\"> 0.5714286 </td>\n",
       "   <td style=\"text-align:right;\"> A </td>\n",
       "  </tr>\n",
       "  <tr>\n",
       "   <td style=\"text-align:right;\"> w </td>\n",
       "   <td style=\"text-align:right;\"> 1 </td>\n",
       "   <td style=\"text-align:right;\"> 0.1428571 </td>\n",
       "   <td style=\"text-align:right;\"> A </td>\n",
       "  </tr>\n",
       "</tbody>\n",
       "</table></td><td style=\"background-color:white; vertical-align:top;\"><table>\n",
       "<caption><center><font color=\"black\"><b>info.B.x2</b></font></center></caption>\n",
       " <thead>\n",
       "  <tr>\n",
       "   <th style=\"text-align:right;\"> x2 </th>\n",
       "   <th style=\"text-align:right;\"> count </th>\n",
       "   <th style=\"text-align:right;\"> likelihood </th>\n",
       "   <th style=\"text-align:right;\"> class </th>\n",
       "  </tr>\n",
       " </thead>\n",
       "<tbody>\n",
       "  <tr>\n",
       "   <td style=\"text-align:right;\"> u </td>\n",
       "   <td style=\"text-align:right;\"> 3 </td>\n",
       "   <td style=\"text-align:right;\"> 0.75 </td>\n",
       "   <td style=\"text-align:right;\"> B </td>\n",
       "  </tr>\n",
       "  <tr>\n",
       "   <td style=\"text-align:right;\"> v </td>\n",
       "   <td style=\"text-align:right;\"> 1 </td>\n",
       "   <td style=\"text-align:right;\"> 0.25 </td>\n",
       "   <td style=\"text-align:right;\"> B </td>\n",
       "  </tr>\n",
       "  <tr>\n",
       "   <td style=\"text-align:right;\"> w </td>\n",
       "   <td style=\"text-align:right;\"> 0 </td>\n",
       "   <td style=\"text-align:right;\"> 0.00 </td>\n",
       "   <td style=\"text-align:right;\"> B </td>\n",
       "  </tr>\n",
       "</tbody>\n",
       "</table></td></tr></table>"
      ]
     },
     "metadata": {},
     "output_type": "display_data"
    }
   ],
   "source": [
    "info.A.x1 = data.frame(table(data.A$x1)); colnames(info.A.x1)=c(\"x1\",\"count\"); info.A.x1$likelihood = info.A.x1$count/nrow(data.A); info.A.x1$class=\"A\" \n",
    "info.B.x1 = data.frame(table(data.B$x1)); colnames(info.B.x1)=c(\"x1\",\"count\"); info.B.x1$likelihood = info.B.x1$count/nrow(data.B); info.B.x1$class=\"B\" \n",
    "\n",
    "info.A.x2 = data.frame(table(data.A$x2)); colnames(info.A.x2)=c(\"x2\",\"count\"); info.A.x2$likelihood = info.A.x2$count/nrow(data.A); info.A.x2$class=\"A\" \n",
    "info.B.x2 = data.frame(table(data.B$x2)); colnames(info.B.x2)=c(\"x2\",\"count\"); info.B.x2$likelihood = info.B.x2$count/nrow(data.B); info.B.x2$class=\"B\" \n",
    "\n",
    "row.arrange(info.A.x1 %>% captionx, info.B.x1 %>% captionx)\n",
    "row.arrange(info.A.x2 %>% captionx, info.B.x2 %>% captionx)"
   ]
  },
  {
   "cell_type": "markdown",
   "metadata": {},
   "source": [
    "Here are the likelihoods for the new observation [ x1=q, x2=w ]."
   ]
  },
  {
   "cell_type": "code",
   "execution_count": 42,
   "metadata": {
    "hide_input": true,
    "scrolled": true
   },
   "outputs": [
    {
     "data": {
      "text/html": [
       "<table><tr><td style=\"background-color:white; vertical-align:top; padding-right:40px;\"><table>\n",
       "<caption><center><font color=\"black\"><b>info.x1</b></font></center></caption>\n",
       " <thead>\n",
       "  <tr>\n",
       "   <th style=\"text-align:right;\"> x1 </th>\n",
       "   <th style=\"text-align:right;\"> likelihood </th>\n",
       "   <th style=\"text-align:right;\"> class </th>\n",
       "  </tr>\n",
       " </thead>\n",
       "<tbody>\n",
       "  <tr>\n",
       "   <td style=\"text-align:right;\"> q </td>\n",
       "   <td style=\"text-align:right;\"> 0.1428571 </td>\n",
       "   <td style=\"text-align:right;\"> A </td>\n",
       "  </tr>\n",
       "  <tr>\n",
       "   <td style=\"text-align:right;\"> q </td>\n",
       "   <td style=\"text-align:right;\"> 0.5000000 </td>\n",
       "   <td style=\"text-align:right;\"> B </td>\n",
       "  </tr>\n",
       "</tbody>\n",
       "</table></td><td style=\"background-color:white; vertical-align:top;\"><table>\n",
       "<caption><center><font color=\"black\"><b>info.x2</b></font></center></caption>\n",
       " <thead>\n",
       "  <tr>\n",
       "   <th style=\"text-align:right;\"> x2 </th>\n",
       "   <th style=\"text-align:right;\"> likelihood </th>\n",
       "   <th style=\"text-align:right;\"> class </th>\n",
       "  </tr>\n",
       " </thead>\n",
       "<tbody>\n",
       "  <tr>\n",
       "   <td style=\"text-align:right;\"> w </td>\n",
       "   <td style=\"text-align:right;\"> 0.1428571 </td>\n",
       "   <td style=\"text-align:right;\"> A </td>\n",
       "  </tr>\n",
       "  <tr>\n",
       "   <td style=\"text-align:right;\"> w </td>\n",
       "   <td style=\"text-align:right;\"> 0.0000000 </td>\n",
       "   <td style=\"text-align:right;\"> B </td>\n",
       "  </tr>\n",
       "</tbody>\n",
       "</table></td></tr></table>"
      ]
     },
     "metadata": {},
     "output_type": "display_data"
    }
   ],
   "source": [
    "row.arrange(rbind(info.A.x1[1,-2], info.B.x1[1,-2]) %>% captionx(\"info.x1\"),\n",
    "            rbind(info.A.x2[3,-2], info.B.x2[3,-2]) %>% captionx(\"info.x2\"))"
   ]
  },
  {
   "cell_type": "markdown",
   "metadata": {},
   "source": [
    "#### Calculate LIkelihoods adjusted by Laplace Smoothing\n",
    "\n",
    "Note that the likelihood of an observation [ ..., x2=w ] is zero, and so the relative posterior of any observation that includes x2=w will be zero.  This may not be desirable, since it causes the prediction for that observation to ignore the influence of any other variables.\n",
    "\n",
    "To adjust for this, calculate the likelihood for each variable value as though there were one extra occurrence of that value."
   ]
  },
  {
   "cell_type": "markdown",
   "metadata": {},
   "source": [
    "Here a frequency table of x1 values among observations in class A shows that there is 1 occcurrence of q, 3 occurrences of r, and 3 occurrences of s.  For calculation purposes, we add one to each to get 2 occurrences of q, 4 occurrences of r, and 4 occurrences of s.  Similarly for the other frequency tables."
   ]
  },
  {
   "cell_type": "code",
   "execution_count": 43,
   "metadata": {
    "hide_input": true,
    "scrolled": true
   },
   "outputs": [
    {
     "data": {
      "text/html": [
       "<table><tr><td style=\"background-color:white; vertical-align:top; padding-right:40px;\"><table>\n",
       "<caption><center><font color=\"black\"><b>info.A.x1</b></font></center></caption>\n",
       " <thead>\n",
       "  <tr>\n",
       "   <th style=\"text-align:right;\"> x1 </th>\n",
       "   <th style=\"text-align:right;\"> count </th>\n",
       "   <th style=\"text-align:right;\"> class </th>\n",
       "  </tr>\n",
       " </thead>\n",
       "<tbody>\n",
       "  <tr>\n",
       "   <td style=\"text-align:right;\"> q </td>\n",
       "   <td style=\"text-align:right;\"> 1 </td>\n",
       "   <td style=\"text-align:right;\"> A </td>\n",
       "  </tr>\n",
       "  <tr>\n",
       "   <td style=\"text-align:right;\"> r </td>\n",
       "   <td style=\"text-align:right;\"> 3 </td>\n",
       "   <td style=\"text-align:right;\"> A </td>\n",
       "  </tr>\n",
       "  <tr>\n",
       "   <td style=\"text-align:right;\"> s </td>\n",
       "   <td style=\"text-align:right;\"> 3 </td>\n",
       "   <td style=\"text-align:right;\"> A </td>\n",
       "  </tr>\n",
       "</tbody>\n",
       "</table></td><td style=\"background-color:white; vertical-align:top; padding-right:40px;\"><table>\n",
       "<caption><center><font color=\"black\"><b>info.B.x1</b></font></center></caption>\n",
       " <thead>\n",
       "  <tr>\n",
       "   <th style=\"text-align:right;\"> x1 </th>\n",
       "   <th style=\"text-align:right;\"> count </th>\n",
       "   <th style=\"text-align:right;\"> class </th>\n",
       "  </tr>\n",
       " </thead>\n",
       "<tbody>\n",
       "  <tr>\n",
       "   <td style=\"text-align:right;\"> q </td>\n",
       "   <td style=\"text-align:right;\"> 2 </td>\n",
       "   <td style=\"text-align:right;\"> B </td>\n",
       "  </tr>\n",
       "  <tr>\n",
       "   <td style=\"text-align:right;\"> r </td>\n",
       "   <td style=\"text-align:right;\"> 1 </td>\n",
       "   <td style=\"text-align:right;\"> B </td>\n",
       "  </tr>\n",
       "  <tr>\n",
       "   <td style=\"text-align:right;\"> s </td>\n",
       "   <td style=\"text-align:right;\"> 1 </td>\n",
       "   <td style=\"text-align:right;\"> B </td>\n",
       "  </tr>\n",
       "</tbody>\n",
       "</table></td><td style=\"background-color:white; vertical-align:top; padding-right:40px;\"><table>\n",
       "<caption><center><font color=\"black\"><b>info.A.x2</b></font></center></caption>\n",
       " <thead>\n",
       "  <tr>\n",
       "   <th style=\"text-align:right;\"> x2 </th>\n",
       "   <th style=\"text-align:right;\"> count </th>\n",
       "   <th style=\"text-align:right;\"> class </th>\n",
       "  </tr>\n",
       " </thead>\n",
       "<tbody>\n",
       "  <tr>\n",
       "   <td style=\"text-align:right;\"> u </td>\n",
       "   <td style=\"text-align:right;\"> 2 </td>\n",
       "   <td style=\"text-align:right;\"> A </td>\n",
       "  </tr>\n",
       "  <tr>\n",
       "   <td style=\"text-align:right;\"> v </td>\n",
       "   <td style=\"text-align:right;\"> 4 </td>\n",
       "   <td style=\"text-align:right;\"> A </td>\n",
       "  </tr>\n",
       "  <tr>\n",
       "   <td style=\"text-align:right;\"> w </td>\n",
       "   <td style=\"text-align:right;\"> 1 </td>\n",
       "   <td style=\"text-align:right;\"> A </td>\n",
       "  </tr>\n",
       "</tbody>\n",
       "</table></td><td style=\"background-color:white; vertical-align:top;\"><table>\n",
       "<caption><center><font color=\"black\"><b>info.B.x2</b></font></center></caption>\n",
       " <thead>\n",
       "  <tr>\n",
       "   <th style=\"text-align:right;\"> x2 </th>\n",
       "   <th style=\"text-align:right;\"> count </th>\n",
       "   <th style=\"text-align:right;\"> class </th>\n",
       "  </tr>\n",
       " </thead>\n",
       "<tbody>\n",
       "  <tr>\n",
       "   <td style=\"text-align:right;\"> u </td>\n",
       "   <td style=\"text-align:right;\"> 3 </td>\n",
       "   <td style=\"text-align:right;\"> B </td>\n",
       "  </tr>\n",
       "  <tr>\n",
       "   <td style=\"text-align:right;\"> v </td>\n",
       "   <td style=\"text-align:right;\"> 1 </td>\n",
       "   <td style=\"text-align:right;\"> B </td>\n",
       "  </tr>\n",
       "  <tr>\n",
       "   <td style=\"text-align:right;\"> w </td>\n",
       "   <td style=\"text-align:right;\"> 0 </td>\n",
       "   <td style=\"text-align:right;\"> B </td>\n",
       "  </tr>\n",
       "</tbody>\n",
       "</table></td></tr></table>"
      ]
     },
     "metadata": {},
     "output_type": "display_data"
    }
   ],
   "source": [
    "row.arrange(info.A.x1[,-3] %>% fmt %>% captionx(\"info.A.x1\"),\n",
    "            info.B.x1[,-3] %>% fmt %>% captionx(\"info.B.x1\"),\n",
    "            info.A.x2[,-3] %>% fmt %>% captionx(\"info.A.x2\"),\n",
    "            info.B.x2[,-3] %>% fmt %>% captionx(\"info.B.x2\"))"
   ]
  },
  {
   "cell_type": "code",
   "execution_count": 44,
   "metadata": {
    "hide_input": true
   },
   "outputs": [
    {
     "data": {
      "text/html": [
       "<table><tr><td style=\"background-color:white; vertical-align:top; padding-right:40px;\"><table>\n",
       "<caption><center><font color=\"black\"><b>info.A.x1 smoothed</b></font></center></caption>\n",
       " <thead>\n",
       "  <tr>\n",
       "   <th style=\"text-align:right;\"> x1 </th>\n",
       "   <th style=\"text-align:right;\"> count.s </th>\n",
       "   <th style=\"text-align:right;\"> class </th>\n",
       "  </tr>\n",
       " </thead>\n",
       "<tbody>\n",
       "  <tr>\n",
       "   <td style=\"text-align:right;\"> q </td>\n",
       "   <td style=\"text-align:right;\"> 2 </td>\n",
       "   <td style=\"text-align:right;\"> A </td>\n",
       "  </tr>\n",
       "  <tr>\n",
       "   <td style=\"text-align:right;\"> r </td>\n",
       "   <td style=\"text-align:right;\"> 4 </td>\n",
       "   <td style=\"text-align:right;\"> A </td>\n",
       "  </tr>\n",
       "  <tr>\n",
       "   <td style=\"text-align:right;\"> s </td>\n",
       "   <td style=\"text-align:right;\"> 4 </td>\n",
       "   <td style=\"text-align:right;\"> A </td>\n",
       "  </tr>\n",
       "</tbody>\n",
       "</table></td><td style=\"background-color:white; vertical-align:top; padding-right:40px;\"><table>\n",
       "<caption><center><font color=\"black\"><b>info.B.x1 smoothed</b></font></center></caption>\n",
       " <thead>\n",
       "  <tr>\n",
       "   <th style=\"text-align:right;\"> x1 </th>\n",
       "   <th style=\"text-align:right;\"> count.s </th>\n",
       "   <th style=\"text-align:right;\"> class </th>\n",
       "  </tr>\n",
       " </thead>\n",
       "<tbody>\n",
       "  <tr>\n",
       "   <td style=\"text-align:right;\"> q </td>\n",
       "   <td style=\"text-align:right;\"> 3 </td>\n",
       "   <td style=\"text-align:right;\"> B </td>\n",
       "  </tr>\n",
       "  <tr>\n",
       "   <td style=\"text-align:right;\"> r </td>\n",
       "   <td style=\"text-align:right;\"> 2 </td>\n",
       "   <td style=\"text-align:right;\"> B </td>\n",
       "  </tr>\n",
       "  <tr>\n",
       "   <td style=\"text-align:right;\"> s </td>\n",
       "   <td style=\"text-align:right;\"> 2 </td>\n",
       "   <td style=\"text-align:right;\"> B </td>\n",
       "  </tr>\n",
       "</tbody>\n",
       "</table></td><td style=\"background-color:white; vertical-align:top; padding-right:40px;\"><table>\n",
       "<caption><center><font color=\"black\"><b>info.A.x2 smoothed</b></font></center></caption>\n",
       " <thead>\n",
       "  <tr>\n",
       "   <th style=\"text-align:right;\"> x2 </th>\n",
       "   <th style=\"text-align:right;\"> count.s </th>\n",
       "   <th style=\"text-align:right;\"> class </th>\n",
       "  </tr>\n",
       " </thead>\n",
       "<tbody>\n",
       "  <tr>\n",
       "   <td style=\"text-align:right;\"> u </td>\n",
       "   <td style=\"text-align:right;\"> 3 </td>\n",
       "   <td style=\"text-align:right;\"> A </td>\n",
       "  </tr>\n",
       "  <tr>\n",
       "   <td style=\"text-align:right;\"> v </td>\n",
       "   <td style=\"text-align:right;\"> 5 </td>\n",
       "   <td style=\"text-align:right;\"> A </td>\n",
       "  </tr>\n",
       "  <tr>\n",
       "   <td style=\"text-align:right;\"> w </td>\n",
       "   <td style=\"text-align:right;\"> 2 </td>\n",
       "   <td style=\"text-align:right;\"> A </td>\n",
       "  </tr>\n",
       "</tbody>\n",
       "</table></td><td style=\"background-color:white; vertical-align:top;\"><table>\n",
       "<caption><center><font color=\"black\"><b>info.B.x2 smoothed</b></font></center></caption>\n",
       " <thead>\n",
       "  <tr>\n",
       "   <th style=\"text-align:right;\"> x2 </th>\n",
       "   <th style=\"text-align:right;\"> count.s </th>\n",
       "   <th style=\"text-align:right;\"> class </th>\n",
       "  </tr>\n",
       " </thead>\n",
       "<tbody>\n",
       "  <tr>\n",
       "   <td style=\"text-align:right;\"> u </td>\n",
       "   <td style=\"text-align:right;\"> 4 </td>\n",
       "   <td style=\"text-align:right;\"> B </td>\n",
       "  </tr>\n",
       "  <tr>\n",
       "   <td style=\"text-align:right;\"> v </td>\n",
       "   <td style=\"text-align:right;\"> 2 </td>\n",
       "   <td style=\"text-align:right;\"> B </td>\n",
       "  </tr>\n",
       "  <tr>\n",
       "   <td style=\"text-align:right;\"> w </td>\n",
       "   <td style=\"text-align:right;\"> 1 </td>\n",
       "   <td style=\"text-align:right;\"> B </td>\n",
       "  </tr>\n",
       "</tbody>\n",
       "</table></td></tr></table>"
      ]
     },
     "metadata": {},
     "output_type": "display_data"
    }
   ],
   "source": [
    "info.A.x1$count.s = info.A.x1$count+1\n",
    "info.B.x1$count.s = info.B.x1$count+1\n",
    "info.A.x2$count.s = info.A.x2$count+1\n",
    "info.B.x2$count.s = info.B.x2$count+1\n",
    "\n",
    "row.arrange(info.A.x1[,c(1,5,4)] %>% captionx(\"info.A.x1 smoothed\"),\n",
    "            info.B.x1[,c(1,5,4)] %>% captionx(\"info.B.x1 smoothed\"),\n",
    "            info.A.x2[,c(1,5,4)] %>% captionx(\"info.A.x2 smoothed\"),\n",
    "            info.B.x2[,c(1,5,4)] %>% captionx(\"info.B.x2 smoothed\"))"
   ]
  },
  {
   "cell_type": "markdown",
   "metadata": {},
   "source": [
    "From the adjusted frequency tables, calculate laplace-adjusted likelihoods.  Note that all laplace-adjusted likelihoods are non-zero, so subsequent relative posteriors can never fully ignore the influence of all variables."
   ]
  },
  {
   "cell_type": "code",
   "execution_count": 45,
   "metadata": {
    "hide_input": true,
    "scrolled": true
   },
   "outputs": [
    {
     "data": {
      "text/html": [
       "<table><tr><td style=\"background-color:white; vertical-align:top; padding-right:40px;\"><table>\n",
       "<caption><center><font color=\"black\"><b>info.A.x1 smoothed</b></font></center></caption>\n",
       " <thead>\n",
       "  <tr>\n",
       "   <th style=\"text-align:right;\"> x1 </th>\n",
       "   <th style=\"text-align:right;\"> count.s </th>\n",
       "   <th style=\"text-align:right;\"> likelihood.s </th>\n",
       "   <th style=\"text-align:right;\"> class </th>\n",
       "  </tr>\n",
       " </thead>\n",
       "<tbody>\n",
       "  <tr>\n",
       "   <td style=\"text-align:right;\"> q </td>\n",
       "   <td style=\"text-align:right;\"> 2 </td>\n",
       "   <td style=\"text-align:right;\"> 0.2 </td>\n",
       "   <td style=\"text-align:right;\"> A </td>\n",
       "  </tr>\n",
       "  <tr>\n",
       "   <td style=\"text-align:right;\"> r </td>\n",
       "   <td style=\"text-align:right;\"> 4 </td>\n",
       "   <td style=\"text-align:right;\"> 0.4 </td>\n",
       "   <td style=\"text-align:right;\"> A </td>\n",
       "  </tr>\n",
       "  <tr>\n",
       "   <td style=\"text-align:right;\"> s </td>\n",
       "   <td style=\"text-align:right;\"> 4 </td>\n",
       "   <td style=\"text-align:right;\"> 0.4 </td>\n",
       "   <td style=\"text-align:right;\"> A </td>\n",
       "  </tr>\n",
       "</tbody>\n",
       "</table></td><td style=\"background-color:white; vertical-align:top;\"><table>\n",
       "<caption><center><font color=\"black\"><b>info.B.x1 smoothed</b></font></center></caption>\n",
       " <thead>\n",
       "  <tr>\n",
       "   <th style=\"text-align:right;\"> x1 </th>\n",
       "   <th style=\"text-align:right;\"> count.s </th>\n",
       "   <th style=\"text-align:right;\"> likelihood.s </th>\n",
       "   <th style=\"text-align:right;\"> class </th>\n",
       "  </tr>\n",
       " </thead>\n",
       "<tbody>\n",
       "  <tr>\n",
       "   <td style=\"text-align:right;\"> q </td>\n",
       "   <td style=\"text-align:right;\"> 3 </td>\n",
       "   <td style=\"text-align:right;\"> 0.4285714 </td>\n",
       "   <td style=\"text-align:right;\"> B </td>\n",
       "  </tr>\n",
       "  <tr>\n",
       "   <td style=\"text-align:right;\"> r </td>\n",
       "   <td style=\"text-align:right;\"> 2 </td>\n",
       "   <td style=\"text-align:right;\"> 0.2857143 </td>\n",
       "   <td style=\"text-align:right;\"> B </td>\n",
       "  </tr>\n",
       "  <tr>\n",
       "   <td style=\"text-align:right;\"> s </td>\n",
       "   <td style=\"text-align:right;\"> 2 </td>\n",
       "   <td style=\"text-align:right;\"> 0.2857143 </td>\n",
       "   <td style=\"text-align:right;\"> B </td>\n",
       "  </tr>\n",
       "</tbody>\n",
       "</table></td></tr></table>"
      ]
     },
     "metadata": {},
     "output_type": "display_data"
    },
    {
     "data": {
      "text/html": [
       "<table><tr><td style=\"background-color:white; vertical-align:top; padding-right:40px;\"><table>\n",
       "<caption><center><font color=\"black\"><b>info.A.x2 smoothed</b></font></center></caption>\n",
       " <thead>\n",
       "  <tr>\n",
       "   <th style=\"text-align:right;\"> x2 </th>\n",
       "   <th style=\"text-align:right;\"> count.s </th>\n",
       "   <th style=\"text-align:right;\"> likelihood.s </th>\n",
       "   <th style=\"text-align:right;\"> class </th>\n",
       "  </tr>\n",
       " </thead>\n",
       "<tbody>\n",
       "  <tr>\n",
       "   <td style=\"text-align:right;\"> u </td>\n",
       "   <td style=\"text-align:right;\"> 3 </td>\n",
       "   <td style=\"text-align:right;\"> 0.3 </td>\n",
       "   <td style=\"text-align:right;\"> A </td>\n",
       "  </tr>\n",
       "  <tr>\n",
       "   <td style=\"text-align:right;\"> v </td>\n",
       "   <td style=\"text-align:right;\"> 5 </td>\n",
       "   <td style=\"text-align:right;\"> 0.5 </td>\n",
       "   <td style=\"text-align:right;\"> A </td>\n",
       "  </tr>\n",
       "  <tr>\n",
       "   <td style=\"text-align:right;\"> w </td>\n",
       "   <td style=\"text-align:right;\"> 2 </td>\n",
       "   <td style=\"text-align:right;\"> 0.2 </td>\n",
       "   <td style=\"text-align:right;\"> A </td>\n",
       "  </tr>\n",
       "</tbody>\n",
       "</table></td><td style=\"background-color:white; vertical-align:top;\"><table>\n",
       "<caption><center><font color=\"black\"><b>info.B.x2 smoothed</b></font></center></caption>\n",
       " <thead>\n",
       "  <tr>\n",
       "   <th style=\"text-align:right;\"> x2 </th>\n",
       "   <th style=\"text-align:right;\"> count.s </th>\n",
       "   <th style=\"text-align:right;\"> likelihood.s </th>\n",
       "   <th style=\"text-align:right;\"> class </th>\n",
       "  </tr>\n",
       " </thead>\n",
       "<tbody>\n",
       "  <tr>\n",
       "   <td style=\"text-align:right;\"> u </td>\n",
       "   <td style=\"text-align:right;\"> 4 </td>\n",
       "   <td style=\"text-align:right;\"> 0.5714286 </td>\n",
       "   <td style=\"text-align:right;\"> B </td>\n",
       "  </tr>\n",
       "  <tr>\n",
       "   <td style=\"text-align:right;\"> v </td>\n",
       "   <td style=\"text-align:right;\"> 2 </td>\n",
       "   <td style=\"text-align:right;\"> 0.2857143 </td>\n",
       "   <td style=\"text-align:right;\"> B </td>\n",
       "  </tr>\n",
       "  <tr>\n",
       "   <td style=\"text-align:right;\"> w </td>\n",
       "   <td style=\"text-align:right;\"> 1 </td>\n",
       "   <td style=\"text-align:right;\"> 0.1428571 </td>\n",
       "   <td style=\"text-align:right;\"> B </td>\n",
       "  </tr>\n",
       "</tbody>\n",
       "</table></td></tr></table>"
      ]
     },
     "metadata": {},
     "output_type": "display_data"
    }
   ],
   "source": [
    "info.A.x1$likelihood.s = info.A.x1$count.s/sum(info.A.x1$count.s)\n",
    "info.B.x1$likelihood.s = info.B.x1$count.s/sum(info.B.x1$count.s)\n",
    "info.A.x2$likelihood.s = info.A.x2$count.s/sum(info.A.x2$count.s)\n",
    "info.B.x2$likelihood.s = info.B.x2$count.s/sum(info.B.x2$count.s)\n",
    "\n",
    "row.arrange(info.A.x1[,c(1,5,6,4)] %>% captionx(\"info.A.x1 smoothed\"),\n",
    "            info.B.x1[,c(1,5,6,4)] %>% captionx(\"info.B.x1 smoothed\"))\n",
    "row.arrange(info.A.x2[,c(1,5,6,4)] %>% captionx(\"info.A.x2 smoothed\"),\n",
    "            info.B.x2[,c(1,5,6,4)] %>% captionx(\"info.B.x2 smoothed\"))"
   ]
  },
  {
   "cell_type": "markdown",
   "metadata": {},
   "source": [
    "Here are the laplace-adjusted likelihoods for the new observation [ x1=q, x2=w ]."
   ]
  },
  {
   "cell_type": "code",
   "execution_count": 46,
   "metadata": {
    "hide_input": true
   },
   "outputs": [
    {
     "data": {
      "text/html": [
       "<table><tr><td style=\"background-color:white; vertical-align:top; padding-right:40px;\"><table>\n",
       "<caption><center><font color=\"black\"><b>info.x1</b></font></center></caption>\n",
       " <thead>\n",
       "  <tr>\n",
       "   <th style=\"text-align:right;\"> x1 </th>\n",
       "   <th style=\"text-align:right;\"> likelihood.s </th>\n",
       "   <th style=\"text-align:right;\"> class </th>\n",
       "  </tr>\n",
       " </thead>\n",
       "<tbody>\n",
       "  <tr>\n",
       "   <td style=\"text-align:right;\"> q </td>\n",
       "   <td style=\"text-align:right;\"> 0.2000000 </td>\n",
       "   <td style=\"text-align:right;\"> A </td>\n",
       "  </tr>\n",
       "  <tr>\n",
       "   <td style=\"text-align:right;\"> q </td>\n",
       "   <td style=\"text-align:right;\"> 0.4285714 </td>\n",
       "   <td style=\"text-align:right;\"> B </td>\n",
       "  </tr>\n",
       "</tbody>\n",
       "</table></td><td style=\"background-color:white; vertical-align:top;\"><table>\n",
       "<caption><center><font color=\"black\"><b>info.x2</b></font></center></caption>\n",
       " <thead>\n",
       "  <tr>\n",
       "   <th style=\"text-align:right;\"> x2 </th>\n",
       "   <th style=\"text-align:right;\"> likelihood.s </th>\n",
       "   <th style=\"text-align:right;\"> class </th>\n",
       "  </tr>\n",
       " </thead>\n",
       "<tbody>\n",
       "  <tr>\n",
       "   <td style=\"text-align:right;\"> w </td>\n",
       "   <td style=\"text-align:right;\"> 0.2000000 </td>\n",
       "   <td style=\"text-align:right;\"> A </td>\n",
       "  </tr>\n",
       "  <tr>\n",
       "   <td style=\"text-align:right;\"> w </td>\n",
       "   <td style=\"text-align:right;\"> 0.1428571 </td>\n",
       "   <td style=\"text-align:right;\"> B </td>\n",
       "  </tr>\n",
       "</tbody>\n",
       "</table></td></tr></table>"
      ]
     },
     "metadata": {},
     "output_type": "display_data"
    }
   ],
   "source": [
    "row.arrange(rbind(info.A.x1[1,c(1,6,4)], info.B.x1[1,c(1,6,4)]) %>% captionx(\"info.x1\"),\n",
    "            rbind(info.A.x2[3,c(1,6,4)], info.B.x2[3,c(1,6,4)]) %>% captionx(\"info.x2\"))"
   ]
  },
  {
   "cell_type": "markdown",
   "metadata": {},
   "source": [
    "### Statistical Basis for Naive Bayes Method\n",
    "\n",
    "<br/>\n",
    "Bayes Rule:\n",
    "$$\n",
    "P(class=A\\,|\\,x1=u,\\,x2=v,...) = \\frac{ P(x1=u,\\,x2=v, ...|\\,class=A) \\,\\times\\, P(class=A) }{ P(x1=u,\\,x2=v,...) }\n",
    "$$\n",
    "\n",
    "$$\n",
    "P(class=B\\,|\\,x1=u,\\,x2=v,...) = \\frac{ P(x1=u,\\,x2=v,...|\\,class=B) \\,\\times\\, P(class=B) }{ P(x1=u,\\,x2=v,...) }\n",
    "$$\n",
    "\n",
    "\n",
    "<br/><br/>\n",
    "Treat x1, x2, ... as mutually independent - this is the \"naive\" assumption.\n",
    "\n",
    "$$\n",
    "P(class=A\\,|\\,x1=u,\\,x2=v,...) = \\frac{ P(x1=u\\,|\\,class=A) \\,\\times\\, P(x2=v\\,|\\,class=A) \\,\\times\\, ... \\,\\times\\, P(class=A) }{ P(x1=u,\\,x2=v,...) }\n",
    "$$\n",
    "\n",
    "$$\n",
    "P(class=B\\,|\\,x1=u,\\,x2=v,...) = \\frac{ P(x1=u\\,|\\,class=B) \\,\\times\\, P(x2=v\\,|\\,class=B) \\,\\times\\, ... \\,\\times\\, P(class=B) }{ P(x1=u,\\,x2=v,...) }\n",
    "$$\n",
    "\n",
    "<br/><br/>\n",
    "Ignore the denominators because they are equivalent and do not affect which posterior is larger.\n",
    "\n",
    "$$\n",
    "posterior_A = P(x1=u\\,|\\,class=A) \\,\\times\\, P(x2=v\\,|\\,class=A) \\,\\times\\, ... \\,\\times\\, P(class=A)\n",
    "$$\n",
    "\n",
    "$$\n",
    "posterior_B = P(x1=u\\,|\\,class=B) \\,\\times\\, P(x2=v\\,|\\,class=B) \\,\\times\\, ... \\,\\times\\, P(class=B)\n",
    "$$\n",
    "\n",
    "<br/><br/>\n",
    "Note the relative sizes of the posteriors.\n",
    "\n",
    "\n",
    "$$\n",
    "relative\\,posterior_A = \\frac{P(x1=u\\,|\\,class=A) \\,\\times\\, P(x2=v\\,|\\,class=A) \\,\\times\\, ... \\,\\times\\, P(class=A)}{S}\n",
    "$$\n",
    "\n",
    "$$\n",
    "relative\\,posterior_B = \\frac{P(x1=u\\,|\\,class=B) \\,\\times\\, P(x2=v\\,|\\,class=B) \\,\\times\\, ... \\,\\times\\, P(class=B)}{S}\n",
    "$$\n",
    "\n",
    "$$\n",
    "\\begin{align}\n",
    "S = & \\big[ P(x1=u\\,|\\,class=A) \\,\\times\\, P(x2=v\\,|\\,class=A) \\,\\times\\, ... \\,\\times\\, P(class=A) \\big] + \\\\\n",
    "    & \\big[ P(x1=u\\,|\\,class=B) \\,\\times\\, P(x2=v\\,|\\,class=B) \\,\\times\\, ... \\,\\times\\, P(class=B) \\big]\n",
    "\\end{align}\n",
    "$$\n",
    "\n",
    "\n",
    "<br/><br/>\n",
    "Predict the class that corresponds to the relative posterior that exceeds some cutoff."
   ]
  },
  {
   "cell_type": "markdown",
   "metadata": {},
   "source": [
    "## Further Reading\n",
    "\n",
    "* http://ciml.info/dl/v0_99/ciml-v0_99-ch09.pdf\n",
    "* https://en.wikipedia.org/wiki/Naive_Bayes_classifier\n",
    "* https://en.wikipedia.org/wiki/Bayes%27_theorem\n",
    "* https://www.quora.com/How-does-Laplacian-add-1-smoothing-work-for-a-Naive-Bayes-classfier-algorithm"
   ]
  },
  {
   "cell_type": "markdown",
   "metadata": {},
   "source": [
    "<p style=\"text-align:left; font-size:10px;\">\n",
    "Copyright (c) Berkeley Data Analytics Group, LLC\n",
    "<span style=\"float:right;\">\n",
    "Document revised Sep 10, 2019\n",
    "</span>\n",
    "</p>"
   ]
  }
 ],
 "metadata": {
  "hide_code_all_hidden": false,
  "hide_input": false,
  "kernelspec": {
   "display_name": "R",
   "language": "R",
   "name": "ir"
  },
  "language_info": {
   "codemirror_mode": "r",
   "file_extension": ".r",
   "mimetype": "text/x-r-source",
   "name": "R",
   "pygments_lexer": "r",
   "version": "3.6.1"
  },
  "latex_envs": {
   "LaTeX_envs_menu_present": false,
   "autocomplete": true,
   "bibliofile": "biblio.bib",
   "cite_by": "apalike",
   "current_citInitial": 1,
   "eqLabelWithNumbers": false,
   "eqNumInitial": 1,
   "hotkeys": {
    "equation": "Ctrl-E",
    "itemize": "Ctrl-I"
   },
   "labels_anchors": false,
   "latex_user_defs": false,
   "report_style_numbering": false,
   "user_envs_cfg": true
  },
  "toc": {
   "base_numbering": 1,
   "nav_menu": {},
   "number_sections": true,
   "sideBar": true,
   "skip_h1_title": true,
   "title_cell": "Table of Contents",
   "title_sidebar": "Contents",
   "toc_cell": false,
   "toc_position": {
    "height": "calc(100% - 180px)",
    "left": "10px",
    "top": "150px",
    "width": "327px"
   },
   "toc_section_display": true,
   "toc_window_display": true
  }
 },
 "nbformat": 4,
 "nbformat_minor": 2
}
