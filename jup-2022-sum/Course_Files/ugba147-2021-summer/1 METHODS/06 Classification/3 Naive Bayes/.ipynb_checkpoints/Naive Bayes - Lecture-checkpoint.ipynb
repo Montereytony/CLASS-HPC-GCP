{
 "cells": [
  {
   "cell_type": "markdown",
   "metadata": {
    "hideCode": false,
    "hidePrompt": false
   },
   "source": [
    "# Classification by Naive Bayes $\\,\\, \\tiny\\text{Lecture}$\n",
    "<img src=\"banner lecture.jpg\" align=left />"
   ]
  },
  {
   "cell_type": "markdown",
   "metadata": {
    "hide_input": true
   },
   "source": [
    "<br>\n",
    "### Apparatus\n",
    "Load function libraries, define additional useful functions, and set defaults here."
   ]
  },
  {
   "cell_type": "code",
   "execution_count": 7,
   "metadata": {
    "hide_input": false
   },
   "outputs": [],
   "source": [
    "options(warn=-1)\n",
    "\n",
    "# Load some required functions\n",
    "library(e1071,     verbose=FALSE, warn.conflicts=FALSE, quietly=TRUE)\n",
    "library(ggplot2,   verbose=FALSE, warn.conflicts=FALSE, quietly=TRUE)\n",
    "library(plyr)\n",
    "\n",
    "# Define some useful functions\n",
    "as.class.cutoff = function(postprob, cutoff=0.5) { factor(colnames(postprob)[2-as.numeric(postprob[,1]>=cutoff)]) }\n",
    "as.class.best = function(postprob) { factor(as.character(aaply(1:nrow(postprob), 1, function(i) { colnames(postprob)[as.numeric(postprob[i,]) == max(as.numeric(postprob[i,]))] } ))) }\n",
    "\n",
    "# Define some visualization constants\n",
    "restore = list(repr.plot.width=8, repr.plot.height=3)\n",
    "PALETTE = c(\"#00A9FF\", \"#F8766D\", \"#7CAE00\", \"#C77CFF\", \"#CD9600\", \"#00BE67\", \"#FF61CC\", \"#00BFC4\")\n",
    "theme.x_axis_only = theme(axis.title.y=element_blank(), axis.text.y=element_blank(), axis.ticks.y=element_blank(), panel.grid.major.y=element_blank(), panel.grid.minor.y=element_blank())\n",
    "\n",
    "# Set some visualization formatting defaults\n",
    "options(restore)\n",
    "update_geom_defaults(\"point\", list(size=3, colour=PALETTE[3]))\n",
    "theme_update(plot.title=element_text(size=10, hjust=0.5), plot.subtitle=element_text(size=8, face=\"italic\", hjust=0.5), axis.title=element_text(size=7), axis.text=element_text(size=7), strip.text=element_text(size=7), strip.text.y=element_text(angle=90), legend.title=element_blank(), legend.text=element_text(size=7))"
   ]
  },
  {
   "cell_type": "markdown",
   "metadata": {},
   "source": [
    "___\n",
    "### Naive Bayes in One Dimension"
   ]
  },
  {
   "cell_type": "markdown",
   "metadata": {
    "hide_input": true
   },
   "source": [
    "#### Retrieve data\n",
    "\n",
    "Data is already classified, i.e., observations are organized into clusters A or B.  "
   ]
  },
  {
   "cell_type": "code",
   "execution_count": 8,
   "metadata": {
    "hideCode": false,
    "hidePrompt": false,
    "hide_input": true,
    "run_control": {
     "marked": false
    }
   },
   "outputs": [
    {
     "data": {},
     "metadata": {},
     "output_type": "display_data"
    },
    {
     "data": {
      "image/png": "[encoded data removed]",
      "text/plain": [
       "plot without title"
      ]
     },
     "metadata": {},
     "output_type": "display_data"
    }
   ],
   "source": [
    "data = data.frame(x1=c(1,8,8.5,9.5,11,9,14,15,16,16.5,18), class=c(\"A\", \"A\", \"A\", \"A\", \"A\", \"B\", \"B\", \"B\", \"B\", \"B\", \"B\"))\n",
    "\n",
    "options(repr.plot.width=8, repr.plot.height=1)\n",
    "ggplot(data) + geom_point(aes(x=x1, y=0, color=class)) + scale_color_manual(values=PALETTE) + xlim(0,20) + theme.x_axis_only\n",
    "options(restore)"
   ]
  },
  {
   "cell_type": "markdown",
   "metadata": {},
   "source": [
    "#### Objective\n",
    "\n",
    "Use the already classified data to inform how to classify a new unclassified observation.  In other words, given a new unclassified observation, **predict** its class based on an analysis of other already classified observations.  "
   ]
  },
  {
   "cell_type": "code",
   "execution_count": 9,
   "metadata": {
    "hideCode": false,
    "hidePrompt": false,
    "hide_input": false,
    "run_control": {
     "marked": false
    },
    "scrolled": true
   },
   "outputs": [
    {
     "data": {},
     "metadata": {},
     "output_type": "display_data"
    },
    {
     "data": {
      "image/png": "[encoded data removed]",
      "text/plain": [
       "plot without title"
      ]
     },
     "metadata": {},
     "output_type": "display_data"
    }
   ],
   "source": [
    "data = data.frame(x1=c(1,8,8.5,9.5,11,9,14,15,16,16.5,18), class=c(\"A\", \"A\", \"A\", \"A\", \"A\", \"B\", \"B\", \"B\", \"B\", \"B\", \"B\"))\n",
    "\n",
    "options(repr.plot.width=8, repr.plot.height=1)\n",
    "ggplot(data) + geom_point(aes(x=x1, y=0, color=class)) + geom_point(aes(x=10, y=0), color=\"grey50\") + scale_color_manual(values=PALETTE) + xlim(0,20) + theme.x_axis_only\n",
    "options(restore)"
   ]
  },
  {
   "cell_type": "markdown",
   "metadata": {},
   "source": [
    "#### Probability of observation given class\n",
    "\n",
    "For a new unclassified observation, the probability of seeing that new observation given a class compared to the probability of seeing that new observation given another class is a reasonable basis for predicting the class of the new observation.\n",
    "\n",
    "Similarly, for probability density rather than probability when observation variable is continuous rather than categorical.\n",
    "\n",
    "For example, based on a kernel density estimate, the probability density at observation x1=10 assuming that it's from class A is 0.14 and the probability density at observation x1=10 assuming that it's from class B is 0.04.  Since 0.14 > 0.04, a reasonable prediction is that the new observation is from class A."
   ]
  },
  {
   "cell_type": "code",
   "execution_count": 10,
   "metadata": {
    "hide_input": true,
    "scrolled": false
   },
   "outputs": [
    {
     "data": {
      "text/html": [
       "<table>\n",
       "<thead><tr><th scope=col>class</th><th scope=col>conditional</th></tr></thead>\n",
       "<tbody>\n",
       "\t<tr><td>A         </td><td>0.14525847</td></tr>\n",
       "\t<tr><td>B         </td><td>0.04038994</td></tr>\n",
       "</tbody>\n",
       "</table>\n"
      ],
      "text/latex": [
       "\\begin{tabular}{r|ll}\n",
       " class & conditional\\\\\n",
       "\\hline\n",
       "\t A          & 0.14525847\\\\\n",
       "\t B          & 0.04038994\\\\\n",
       "\\end{tabular}\n"
      ],
      "text/markdown": [
       "\n",
       "class | conditional | \n",
       "|---|---|\n",
       "| A          | 0.14525847 | \n",
       "| B          | 0.04038994 | \n",
       "\n",
       "\n"
      ],
      "text/plain": [
       "  class conditional\n",
       "1 A     0.14525847 \n",
       "2 B     0.04038994 "
      ]
     },
     "metadata": {},
     "output_type": "display_data"
    },
    {
     "data": {
      "text/html": [
       "<table>\n",
       "<thead><tr><th scope=col>best_guess</th></tr></thead>\n",
       "<tbody>\n",
       "\t<tr><td>A</td></tr>\n",
       "</tbody>\n",
       "</table>\n"
      ],
      "text/latex": [
       "\\begin{tabular}{r|l}\n",
       " best\\_guess\\\\\n",
       "\\hline\n",
       "\t A\\\\\n",
       "\\end{tabular}\n"
      ],
      "text/markdown": [
       "\n",
       "best_guess | \n",
       "|---|\n",
       "| A | \n",
       "\n",
       "\n"
      ],
      "text/plain": [
       "  best_guess\n",
       "1 A         "
      ]
     },
     "metadata": {},
     "output_type": "display_data"
    },
    {
     "data": {},
     "metadata": {},
     "output_type": "display_data"
    },
    {
     "data": {
      "image/png": "[encoded data removed]",
      "text/plain": [
       "plot without title"
      ]
     },
     "metadata": {},
     "output_type": "display_data"
    }
   ],
   "source": [
    "kde.A = density(data[data$class==\"A\",\"x1\"], from=0, to=20); f.A = approxfun(kde.A$x, kde.A$y, yleft=0, yright=0)\n",
    "kde.B = density(data[data$class==\"B\",\"x1\"], from=0, to=20); f.B = approxfun(kde.B$x, kde.B$y, yleft=0, yright=0)\n",
    "\n",
    "prob = data.frame(class=c(\"A\",\"B\"), conditional=c(f.A(10), f.B(10)))\n",
    "prob\n",
    "\n",
    "best_guess = prob[prob$conditional == max(prob$conditional), \"class\"]\n",
    "data.frame(best_guess)\n",
    "\n",
    "ggplot() +\n",
    "geom_density(aes(x1, fill=class), data=data[data$class==\"A\",], color=NA, alpha=0.5) +\n",
    "geom_density(aes(x1, fill=class), data=data[data$class==\"B\",], color=NA, alpha=0.5) +\n",
    "geom_vline(aes(xintercept=10), lty=\"dotted\") +\n",
    "geom_point(aes(x=10, y=0), color=\"grey50\") +\n",
    "geom_text(aes(x=10, y=prob[1,2]), color=PALETTE[1], size=5, label=sprintf(\"%0.4f\",prob[1,2])) +\n",
    "geom_text(aes(x=10, y=prob[2,2]), color=PALETTE[2], size=5, label=sprintf(\"%0.4f\",prob[2,2])) +\n",
    "scale_fill_manual(values=PALETTE[1:2]) + xlim(0,20)"
   ]
  },
  {
   "cell_type": "markdown",
   "metadata": {},
   "source": [
    "#### Prior probability of observation\n",
    "\n",
    "For a new unclassified observation, the prior probability of seeing any observation from a specific class compared to the prior probability of seeing any observation from another class is also a reasonable basis for predicting the class of the new observation.  \n",
    "\n",
    "For example, the prioir probability of seeing any observation from class A is 0.45 and the prior probability of seeing any observation from class B is 0.54.  Since 0.45 < 0.54, a reasonable prediction is that the new observation is from class B."
   ]
  },
  {
   "cell_type": "code",
   "execution_count": 11,
   "metadata": {
    "hide_input": false
   },
   "outputs": [
    {
     "data": {
      "text/html": [
       "<table>\n",
       "<thead><tr><th scope=col>class</th><th scope=col>prior</th></tr></thead>\n",
       "<tbody>\n",
       "\t<tr><td>A        </td><td>0.4545455</td></tr>\n",
       "\t<tr><td>B        </td><td>0.5454545</td></tr>\n",
       "</tbody>\n",
       "</table>\n"
      ],
      "text/latex": [
       "\\begin{tabular}{r|ll}\n",
       " class & prior\\\\\n",
       "\\hline\n",
       "\t A         & 0.4545455\\\\\n",
       "\t B         & 0.5454545\\\\\n",
       "\\end{tabular}\n"
      ],
      "text/markdown": [
       "\n",
       "class | prior | \n",
       "|---|---|\n",
       "| A         | 0.4545455 | \n",
       "| B         | 0.5454545 | \n",
       "\n",
       "\n"
      ],
      "text/plain": [
       "  class prior    \n",
       "1 A     0.4545455\n",
       "2 B     0.5454545"
      ]
     },
     "metadata": {},
     "output_type": "display_data"
    },
    {
     "data": {
      "text/html": [
       "<table>\n",
       "<thead><tr><th scope=col>best_guess</th></tr></thead>\n",
       "<tbody>\n",
       "\t<tr><td>B</td></tr>\n",
       "</tbody>\n",
       "</table>\n"
      ],
      "text/latex": [
       "\\begin{tabular}{r|l}\n",
       " best\\_guess\\\\\n",
       "\\hline\n",
       "\t B\\\\\n",
       "\\end{tabular}\n"
      ],
      "text/markdown": [
       "\n",
       "best_guess | \n",
       "|---|\n",
       "| B | \n",
       "\n",
       "\n"
      ],
      "text/plain": [
       "  best_guess\n",
       "1 B         "
      ]
     },
     "metadata": {},
     "output_type": "display_data"
    },
    {
     "data": {},
     "metadata": {},
     "output_type": "display_data"
    },
    {
     "data": {
      "image/png": "[encoded data removed]",
      "text/plain": [
       "plot without title"
      ]
     },
     "metadata": {},
     "output_type": "display_data"
    }
   ],
   "source": [
    "prior.A = length(which(data$class==\"A\")) / nrow(data)\n",
    "prior.B = length(which(data$class==\"B\")) / nrow(data)\n",
    "\n",
    "prob = data.frame(class=c(\"A\",\"B\"), prior=c(prior.A, prior.B))\n",
    "prob\n",
    "\n",
    "best_guess = prob[prob$prior == max(prob$prior), \"class\"]\n",
    "data.frame(best_guess)\n",
    "\n",
    "ggplot(prob) + geom_col(aes(x=class, y=prior, fill=class), color=NA) + scale_fill_manual(values=PALETTE) + ylim(0,1)"
   ]
  },
  {
   "cell_type": "markdown",
   "metadata": {},
   "source": [
    "#### Posterior probability of observation given class and prior probability\n",
    "\n",
    "For a new unclassified observation, the probability of that observation given it's from a class times the prior probability of seeing any observation from that class is a basis for predicting the class of the new observation that combines both influences.\n",
    "\n",
    "Similarly, for probability density rather than probability when observation variable is continuous rather than categorical.\n",
    "\n",
    "For example, the probability density at observation x1=10 assuming that it's from class A is 0.14, the prior probability of any observation coming from class A is 0.45, and so the overall posterior probability that the observation x1=10 is from class A is proportional to 0.14 x 0.45 = 0.07.  Similarly, the overall posterior probability that the observation x1=10 is from class B is proportional to 0.04 x 0.54 = 0.02.  The relative expectation for class A is 0.07 / (0.07+0.02) = 0.75.  The relative expectation for class B is 0.02 / (0.07+0.02) = 0.25.  Assuming a cutoff of 0.5, since 0.75 > 0.5, the prediction is that the observation x1=10 comes from class A."
   ]
  },
  {
   "cell_type": "code",
   "execution_count": 12,
   "metadata": {
    "hide_input": true
   },
   "outputs": [
    {
     "data": {
      "text/html": [
       "<table>\n",
       "<thead><tr><th scope=col>class</th><th scope=col>conditional</th><th scope=col>prior</th><th scope=col>post</th><th scope=col>relative_post</th></tr></thead>\n",
       "<tbody>\n",
       "\t<tr><td>A         </td><td>0.14525847</td><td>0.4545455 </td><td>0.06602658</td><td>0.7498125 </td></tr>\n",
       "\t<tr><td>B         </td><td>0.04038994</td><td>0.5454545 </td><td>0.02203088</td><td>0.2501875 </td></tr>\n",
       "</tbody>\n",
       "</table>\n"
      ],
      "text/latex": [
       "\\begin{tabular}{r|lllll}\n",
       " class & conditional & prior & post & relative\\_post\\\\\n",
       "\\hline\n",
       "\t A          & 0.14525847 & 0.4545455  & 0.06602658 & 0.7498125 \\\\\n",
       "\t B          & 0.04038994 & 0.5454545  & 0.02203088 & 0.2501875 \\\\\n",
       "\\end{tabular}\n"
      ],
      "text/markdown": [
       "\n",
       "class | conditional | prior | post | relative_post | \n",
       "|---|---|\n",
       "| A          | 0.14525847 | 0.4545455  | 0.06602658 | 0.7498125  | \n",
       "| B          | 0.04038994 | 0.5454545  | 0.02203088 | 0.2501875  | \n",
       "\n",
       "\n"
      ],
      "text/plain": [
       "  class conditional prior     post       relative_post\n",
       "1 A     0.14525847  0.4545455 0.06602658 0.7498125    \n",
       "2 B     0.04038994  0.5454545 0.02203088 0.2501875    "
      ]
     },
     "metadata": {},
     "output_type": "display_data"
    },
    {
     "data": {
      "text/html": [
       "<strong>best_guess:</strong> A"
      ],
      "text/latex": [
       "\\textbf{best\\textbackslash{}\\_guess:} A"
      ],
      "text/markdown": [
       "**best_guess:** A"
      ],
      "text/plain": [
       "best_guess \n",
       "         A \n",
       "Levels: A"
      ]
     },
     "metadata": {},
     "output_type": "display_data"
    },
    {
     "data": {},
     "metadata": {},
     "output_type": "display_data"
    },
    {
     "data": {
      "image/png": "[encoded data removed]",
      "text/plain": [
       "plot without title"
      ]
     },
     "metadata": {},
     "output_type": "display_data"
    }
   ],
   "source": [
    "post.A = f.A(10) * prior.A\n",
    "post.B = f.B(10) * prior.B\n",
    "\n",
    "nb = data.frame(class=c(\"A\",\"B\"),\n",
    "                conditional=c(f.A(10), f.B(10)),\n",
    "                prior=c(prior.A, prior.B),\n",
    "                post=c(post.A, post.B),\n",
    "                relative_post=c(post.A/(post.A+post.B), post.B/(post.A+post.B)))\n",
    "\n",
    "cutoff = 0.5\n",
    "best_guess = factor(c(best_guess=if (nb$relative_post >= cutoff) \"A\" else \"B\"))\n",
    "\n",
    "nb\n",
    "best_guess\n",
    "ggplot(nb) + geom_col(aes(x=class, y=relative_post, fill=class), color=NA) + scale_fill_manual(values=PALETTE) + ylim(0,1)"
   ]
  },
  {
   "cell_type": "markdown",
   "metadata": {},
   "source": [
    "<br>\n",
    "___\n",
    "### Naive Bayes in Many Dimensions"
   ]
  },
  {
   "cell_type": "markdown",
   "metadata": {},
   "source": [
    "#### Retrieve classified data and get new unclassified observation"
   ]
  },
  {
   "cell_type": "code",
   "execution_count": 13,
   "metadata": {
    "hideCode": false,
    "hidePrompt": false,
    "hide_input": false,
    "run_control": {
     "marked": false
    }
   },
   "outputs": [
    {
     "data": {},
     "metadata": {},
     "output_type": "display_data"
    },
    {
     "data": {
      "image/png": "[encoded data removed]",
      "text/plain": [
       "plot without title"
      ]
     },
     "metadata": {},
     "output_type": "display_data"
    }
   ],
   "source": [
    "data = data.frame(x1=c(1,8,8.5,9.5,11,9,14,15,16,16.5,18), x2=c(1,2,3,3,5,5,6,7,6,5,7), class=c(\"A\", \"A\", \"A\", \"A\", \"A\", \"B\", \"B\", \"B\", \"B\", \"B\", \"B\"))\n",
    "ggplot(data) + geom_point(aes(x=x1, y=x2, color=class)) + geom_point(aes(x=10, y=4), color=\"grey50\") + scale_color_manual(values=PALETTE) + xlim(0,20)"
   ]
  },
  {
   "cell_type": "markdown",
   "metadata": {},
   "source": [
    "#### Probabilities of observation given class, in each dimension\n",
    "\n",
    "For example, the probability density at observation x1=10 assuming that it's from class A is 0.14 and the probability density at observation x1=10 assuming that it's from class B is 0.04.  The probability density at observation x2=4 assuming that it's from class A is 0.06 and the probability density at observation x2=4 assuming that it's from class B is 0.05."
   ]
  },
  {
   "cell_type": "code",
   "execution_count": 14,
   "metadata": {
    "hide_input": false,
    "scrolled": false
   },
   "outputs": [
    {
     "data": {
      "text/html": [
       "<table>\n",
       "<thead><tr><th scope=col>class</th><th scope=col>conditional</th></tr></thead>\n",
       "<tbody>\n",
       "\t<tr><td>A         </td><td>0.14525847</td></tr>\n",
       "\t<tr><td>B         </td><td>0.04038994</td></tr>\n",
       "</tbody>\n",
       "</table>\n"
      ],
      "text/latex": [
       "\\begin{tabular}{r|ll}\n",
       " class & conditional\\\\\n",
       "\\hline\n",
       "\t A          & 0.14525847\\\\\n",
       "\t B          & 0.04038994\\\\\n",
       "\\end{tabular}\n"
      ],
      "text/markdown": [
       "\n",
       "class | conditional | \n",
       "|---|---|\n",
       "| A          | 0.14525847 | \n",
       "| B          | 0.04038994 | \n",
       "\n",
       "\n"
      ],
      "text/plain": [
       "  class conditional\n",
       "1 A     0.14525847 \n",
       "2 B     0.04038994 "
      ]
     },
     "metadata": {},
     "output_type": "display_data"
    },
    {
     "data": {
      "text/html": [
       "<table>\n",
       "<thead><tr><th scope=col>class</th><th scope=col>conditional</th></tr></thead>\n",
       "<tbody>\n",
       "\t<tr><td>A         </td><td>0.06019674</td></tr>\n",
       "\t<tr><td>B         </td><td>0.04943189</td></tr>\n",
       "</tbody>\n",
       "</table>\n"
      ],
      "text/latex": [
       "\\begin{tabular}{r|ll}\n",
       " class & conditional\\\\\n",
       "\\hline\n",
       "\t A          & 0.06019674\\\\\n",
       "\t B          & 0.04943189\\\\\n",
       "\\end{tabular}\n"
      ],
      "text/markdown": [
       "\n",
       "class | conditional | \n",
       "|---|---|\n",
       "| A          | 0.06019674 | \n",
       "| B          | 0.04943189 | \n",
       "\n",
       "\n"
      ],
      "text/plain": [
       "  class conditional\n",
       "1 A     0.06019674 \n",
       "2 B     0.04943189 "
      ]
     },
     "metadata": {},
     "output_type": "display_data"
    },
    {
     "data": {},
     "metadata": {},
     "output_type": "display_data"
    },
    {
     "data": {},
     "metadata": {},
     "output_type": "display_data"
    },
    {
     "data": {
      "image/png": "[encoded data removed]",
      "text/plain": [
       "plot without title"
      ]
     },
     "metadata": {},
     "output_type": "display_data"
    },
    {
     "data": {
      "image/png": "[encoded data removed]",
      "text/plain": [
       "plot without title"
      ]
     },
     "metadata": {},
     "output_type": "display_data"
    }
   ],
   "source": [
    "kde.A.x1 = density(data[data$class==\"A\",\"x1\"], from=0, to=20); f.A.x1 = approxfun(kde.A.x1$x, kde.A.x1$y, yleft=0, yright=0)\n",
    "kde.B.x1 = density(data[data$class==\"B\",\"x1\"], from=0, to=20); f.B.x1 = approxfun(kde.B.x1$x, kde.B.x1$y, yleft=0, yright=0)\n",
    "\n",
    "prob.x1 = data.frame(class=c(\"A\",\"B\"), conditional=c(f.A.x1(10), f.B.x1(10)))\n",
    "prob.x1\n",
    "\n",
    "kde.A.x2 = density(data[data$class==\"A\",\"x2\"], from=0, to=20); f.A.x2 = approxfun(kde.A.x2$x, kde.A.x2$y, yleft=0, yright=0)\n",
    "kde.B.x2 = density(data[data$class==\"B\",\"x2\"], from=0, to=20); f.B.x2 = approxfun(kde.B.x2$x, kde.B.x2$y, yleft=0, yright=0)\n",
    "\n",
    "prob.x2 = data.frame(class=c(\"A\",\"B\"), conditional=c(f.A.x2(4), f.B.x2(4)))\n",
    "prob.x2\n",
    "\n",
    "\n",
    "ggplot() +\n",
    "geom_density(aes(x1, fill=class), data=data[data$class==\"A\",], color=NA, alpha=0.5) +\n",
    "geom_density(aes(x1, fill=class), data=data[data$class==\"B\",], color=NA, alpha=0.5) +\n",
    "geom_vline(aes(xintercept=10), lty=\"dotted\") +\n",
    "geom_point(aes(x=10, y=0), color=\"grey50\") +\n",
    "scale_fill_manual(values=PALETTE[1:2]) + xlim(0,20)\n",
    "\n",
    "ggplot() +\n",
    "geom_density(aes(x2, fill=class), data=data[data$class==\"A\",], color=NA, alpha=0.5) +\n",
    "geom_density(aes(x2, fill=class), data=data[data$class==\"B\",], color=NA, alpha=0.5) +\n",
    "geom_vline(aes(xintercept=4), lty=\"dotted\") +\n",
    "geom_point(aes(x=4, y=0), color=\"grey50\") +\n",
    "scale_fill_manual(values=PALETTE[1:2]) + xlim(0,20)"
   ]
  },
  {
   "cell_type": "markdown",
   "metadata": {},
   "source": [
    "#### Prior probability of observation"
   ]
  },
  {
   "cell_type": "code",
   "execution_count": 15,
   "metadata": {
    "hide_input": false
   },
   "outputs": [
    {
     "data": {
      "text/html": [
       "<table>\n",
       "<thead><tr><th scope=col>class</th><th scope=col>prior</th></tr></thead>\n",
       "<tbody>\n",
       "\t<tr><td>A        </td><td>0.4545455</td></tr>\n",
       "\t<tr><td>B        </td><td>0.5454545</td></tr>\n",
       "</tbody>\n",
       "</table>\n"
      ],
      "text/latex": [
       "\\begin{tabular}{r|ll}\n",
       " class & prior\\\\\n",
       "\\hline\n",
       "\t A         & 0.4545455\\\\\n",
       "\t B         & 0.5454545\\\\\n",
       "\\end{tabular}\n"
      ],
      "text/markdown": [
       "\n",
       "class | prior | \n",
       "|---|---|\n",
       "| A         | 0.4545455 | \n",
       "| B         | 0.5454545 | \n",
       "\n",
       "\n"
      ],
      "text/plain": [
       "  class prior    \n",
       "1 A     0.4545455\n",
       "2 B     0.5454545"
      ]
     },
     "metadata": {},
     "output_type": "display_data"
    },
    {
     "data": {},
     "metadata": {},
     "output_type": "display_data"
    },
    {
     "data": {
      "image/png": "[encoded data removed]",
      "text/plain": [
       "plot without title"
      ]
     },
     "metadata": {},
     "output_type": "display_data"
    }
   ],
   "source": [
    "prior.A = length(which(data$class==\"A\")) / nrow(data)\n",
    "prior.B = length(which(data$class==\"B\")) / nrow(data)\n",
    "\n",
    "prob = data.frame(class=c(\"A\",\"B\"), prior = c(prior.A, prior.B))\n",
    "prob\n",
    "\n",
    "ggplot(prob) + geom_col(aes(x=class, y=prior, fill=class), color=NA) + scale_fill_manual(values=PALETTE) + ylim(0,1)"
   ]
  },
  {
   "cell_type": "markdown",
   "metadata": {},
   "source": [
    "#### Posterior probability of observation given class, in each dimension, and prior probability\n",
    "\n",
    "For a new unclassified observation, the product of the probabilities of that observation given it's from a class, in each dimension, times the prior probability of seeing any observation from that class is a basis for predicting the class of the new observation that combines both influences.\n",
    "\n",
    "Similarly for probability density rather than probability when observation variable is continuous rather than categorical.\n",
    "\n",
    "For example, the probability density at observation x1=10 assuming that it's from class A is 0.14, the probability density at observation x2=4 assuming that it's from class A is 0.06, the prior probability of any observation coming from class A is 0.45, and so the overall posterior probability that the observation x1=10,x2=4 is from class A is proportional to 0.14 x 0.06 x 0.45 = 0.004.  Similarly, the overall posterior probability that the observation x1=10,x2=4 is from class B is proportional to 0.04 x 0.05 x 0.54 = 0.001.  The relative expectations are then 0.78 for class A and 0.21 for class B.  Assuming a cutoff of 0.5, since 0.78 > 0.5, the prediction is that the observation x1=10,x2=4 comes from class A."
   ]
  },
  {
   "cell_type": "code",
   "execution_count": 16,
   "metadata": {
    "hide_input": false
   },
   "outputs": [
    {
     "data": {
      "text/html": [
       "<table>\n",
       "<thead><tr><th scope=col>class</th><th scope=col>conditional_x1</th><th scope=col>conditional_x2</th><th scope=col>prior</th><th scope=col>post</th><th scope=col>relative_post</th></tr></thead>\n",
       "<tbody>\n",
       "\t<tr><td>A          </td><td>0.14525847 </td><td>0.06019674 </td><td>0.4545455  </td><td>0.003974585</td><td>0.7849306  </td></tr>\n",
       "\t<tr><td>B          </td><td>0.04038994 </td><td>0.04943189 </td><td>0.5454545  </td><td>0.001089028</td><td>0.2150694  </td></tr>\n",
       "</tbody>\n",
       "</table>\n"
      ],
      "text/latex": [
       "\\begin{tabular}{r|llllll}\n",
       " class & conditional\\_x1 & conditional\\_x2 & prior & post & relative\\_post\\\\\n",
       "\\hline\n",
       "\t A           & 0.14525847  & 0.06019674  & 0.4545455   & 0.003974585 & 0.7849306  \\\\\n",
       "\t B           & 0.04038994  & 0.04943189  & 0.5454545   & 0.001089028 & 0.2150694  \\\\\n",
       "\\end{tabular}\n"
      ],
      "text/markdown": [
       "\n",
       "class | conditional_x1 | conditional_x2 | prior | post | relative_post | \n",
       "|---|---|\n",
       "| A           | 0.14525847  | 0.06019674  | 0.4545455   | 0.003974585 | 0.7849306   | \n",
       "| B           | 0.04038994  | 0.04943189  | 0.5454545   | 0.001089028 | 0.2150694   | \n",
       "\n",
       "\n"
      ],
      "text/plain": [
       "  class conditional_x1 conditional_x2 prior     post        relative_post\n",
       "1 A     0.14525847     0.06019674     0.4545455 0.003974585 0.7849306    \n",
       "2 B     0.04038994     0.04943189     0.5454545 0.001089028 0.2150694    "
      ]
     },
     "metadata": {},
     "output_type": "display_data"
    },
    {
     "data": {
      "text/html": [
       "<strong>best_guess:</strong> A"
      ],
      "text/latex": [
       "\\textbf{best\\textbackslash{}\\_guess:} A"
      ],
      "text/markdown": [
       "**best_guess:** A"
      ],
      "text/plain": [
       "best_guess \n",
       "         A \n",
       "Levels: A"
      ]
     },
     "metadata": {},
     "output_type": "display_data"
    },
    {
     "data": {},
     "metadata": {},
     "output_type": "display_data"
    },
    {
     "data": {
      "image/png": "[encoded data removed]",
      "text/plain": [
       "plot without title"
      ]
     },
     "metadata": {},
     "output_type": "display_data"
    }
   ],
   "source": [
    "post.A = f.A.x1(10) * f.A.x2(4) * prior.A\n",
    "post.B = f.B.x1(10) * f.B.x2(4) * prior.B\n",
    "\n",
    "nb = data.frame(class=c(\"A\",\"B\"),\n",
    "                conditional_x1=c(f.A.x1(10), f.B.x1(10)),\n",
    "                conditional_x2=c(f.A.x2(4), f.B.x2(4)),\n",
    "                prior=c(prior.A, prior.B),\n",
    "                post=c(post.A, post.B),\n",
    "                relative_post=c(post.A/(post.A+post.B), post.B/(post.A+post.B)))\n",
    "\n",
    "cutoff = 0.5\n",
    "best_guess = factor(c(best_guess=if (nb$relative_post >= cutoff) \"A\" else \"B\"))\n",
    "\n",
    "nb\n",
    "best_guess\n",
    "ggplot(nb) + geom_col(aes(x=class, y=relative_post, fill=class), color=NA) + scale_fill_manual(values=PALETTE) + ylim(0,1)"
   ]
  },
  {
   "cell_type": "markdown",
   "metadata": {},
   "source": [
    "<br>\n",
    "___\n",
    "### Statistical Basis for Naive Bayes Method\n",
    "\n",
    "Bayes Rule:\n",
    "$$\n",
    "P(class=A\\,|\\,x1=u,\\,x2=v,...) = \\frac{ P(x1=u,\\,x2=v\\,|\\,class=A) \\,\\times\\, P(class=A) }{ P(x1=u,\\,x2=v,...) }\n",
    "$$\n",
    "\n",
    "$$\n",
    "P(class=B\\,|\\,x1=u,\\,x2=v,...) = \\frac{ P(x1=u,\\,x2=v\\,|\\,class=B) \\,\\times\\, P(class=B) }{ P(x1=u,\\,x2=v,...) }\n",
    "$$\n",
    "\n",
    "\n",
    "<br>\n",
    "Treat x1, x2, ... as mutually independent - this is the \"naive\" assumption.\n",
    "\n",
    "$$\n",
    "P(class=A\\,|\\,x1=u,\\,x2=v,...) = \\frac{ P(x1=u\\,|\\,class=A) \\,\\times\\, P(x2=v\\,|\\,class=A) \\,\\times\\, ... \\,\\times\\, P(class=A) }{ P(x1=u,\\,x2=v,...) }\n",
    "$$\n",
    "\n",
    "$$\n",
    "P(class=B\\,|\\,x1=u,\\,x2=v,...) = \\frac{ P(x1=u\\,|\\,class=B) \\,\\times\\, P(x2=v\\,|\\,class=B) \\,\\times\\, ... \\,\\times\\, P(class=B) }{ P(x1=u,\\,x2=v,...) }\n",
    "$$\n",
    "\n",
    "<br>\n",
    "Ignore the denominators because they are equivalent and do not affect which posterior probability is greater.\n",
    "\n",
    "$$\n",
    "P(x1=u\\,|\\,class=A) \\,\\times\\, P(x2=v\\,|\\,class=A) \\,\\times\\, ... \\,\\times\\, P(class=A)\n",
    "$$\n",
    "\n",
    "$$\n",
    "P(x1=u\\,|\\,class=B) \\,\\times\\, P(x2=v\\,|\\,class=B) \\,\\times\\, ... \\,\\times\\, P(class=B)\n",
    "$$\n",
    "\n",
    "<br>\n",
    "Note the relative sizes of the posterior probabilities.\n",
    "\n",
    "$$\n",
    "\\frac{P(x1=u\\,|\\,class=A) \\,\\times\\, P(x2=v\\,|\\,class=A) \\,\\times\\, ... \\,\\times\\, P(class=A)}{P(x1=u\\,|\\,class=A) \\,\\times\\, P(x2=v\\,|\\,class=A) \\,\\times\\, ... \\,\\times\\, P(class=A) + P(x1=u\\,|\\,class=B) \\,\\times\\, P(x2=v\\,|\\,class=B) \\,\\times\\, ... \\,\\times\\, P(class=B)}\n",
    "$$\n",
    "\n",
    "$$\n",
    "\\frac{P(x1=u\\,|\\,class=B) \\,\\times\\, P(x2=v\\,|\\,class=B) \\,\\times\\, ... \\,\\times\\, P(class=B)}{P(x1=u\\,|\\,class=A) \\,\\times\\, P(x2=v\\,|\\,class=A) \\,\\times\\, ... \\,\\times\\, P(class=A) + P(x1=u\\,|\\,class=B) \\,\\times\\, P(x2=v\\,|\\,class=B) \\,\\times\\, ... \\,\\times\\, P(class=B)}\n",
    "$$\n",
    "\n",
    "\n",
    "<br>\n",
    "Predict the class that corresponds to the maximum relative size or to the relative size that exceeds some cutoff."
   ]
  },
  {
   "cell_type": "markdown",
   "metadata": {},
   "source": [
    "<br>\n",
    "___\n",
    "### R Templates"
   ]
  },
  {
   "cell_type": "code",
   "execution_count": 17,
   "metadata": {},
   "outputs": [
    {
     "data": {
      "text/html": [
       "<ol class=list-inline>\n",
       "\t<li>A</li>\n",
       "\t<li>A</li>\n",
       "\t<li>B</li>\n",
       "\t<li>B</li>\n",
       "</ol>\n"
      ],
      "text/latex": [
       "\\begin{enumerate*}\n",
       "\\item A\n",
       "\\item A\n",
       "\\item B\n",
       "\\item B\n",
       "\\end{enumerate*}\n"
      ],
      "text/markdown": [
       "1. A\n",
       "2. A\n",
       "3. B\n",
       "4. B\n",
       "\n",
       "\n"
      ],
      "text/plain": [
       "[1] A A B B\n",
       "Levels: A B"
      ]
     },
     "metadata": {},
     "output_type": "display_data"
    },
    {
     "data": {
      "text/html": [
       "<table>\n",
       "<thead><tr><th scope=col>x1</th><th scope=col>x2</th><th scope=col>x3</th><th scope=col>prediction</th></tr></thead>\n",
       "<tbody>\n",
       "\t<tr><td>5</td><td>8</td><td>1</td><td>A</td></tr>\n",
       "\t<tr><td>6</td><td>7</td><td>5</td><td>A</td></tr>\n",
       "\t<tr><td>7</td><td>6</td><td>2</td><td>B</td></tr>\n",
       "\t<tr><td>8</td><td>5</td><td>6</td><td>B</td></tr>\n",
       "</tbody>\n",
       "</table>\n"
      ],
      "text/latex": [
       "\\begin{tabular}{r|llll}\n",
       " x1 & x2 & x3 & prediction\\\\\n",
       "\\hline\n",
       "\t 5 & 8 & 1 & A\\\\\n",
       "\t 6 & 7 & 5 & A\\\\\n",
       "\t 7 & 6 & 2 & B\\\\\n",
       "\t 8 & 5 & 6 & B\\\\\n",
       "\\end{tabular}\n"
      ],
      "text/markdown": [
       "\n",
       "x1 | x2 | x3 | prediction | \n",
       "|---|---|---|---|\n",
       "| 5 | 8 | 1 | A | \n",
       "| 6 | 7 | 5 | A | \n",
       "| 7 | 6 | 2 | B | \n",
       "| 8 | 5 | 6 | B | \n",
       "\n",
       "\n"
      ],
      "text/plain": [
       "  x1 x2 x3 prediction\n",
       "1 5  8  1  A         \n",
       "2 6  7  5  A         \n",
       "3 7  6  2  B         \n",
       "4 8  5  6  B         "
      ]
     },
     "metadata": {},
     "output_type": "display_data"
    }
   ],
   "source": [
    "data.train = data.frame(x1=c(1,2,3,4,5,6,7,8), x2=c(8,7,6,5,4,3,2,1), x3=c(1,1,2,2,3,3,4,4), class=c(\"A\", \"B\", \"A\", \"B\", \"A\", \"B\", \"A\", \"B\"))\n",
    "data.new = data.frame(x1=c(5,6,7,8), x2=c(8,7,6,5), x3=c(1,5,2,6))\n",
    "\n",
    "mymodel = naiveBayes(class ~ x1+x2+x3, data.train)\n",
    "prediction = predict(mymodel, data.new) # based on maximum posterior probability\n",
    "\n",
    "prediction\n",
    "cbind(data.new, prediction)"
   ]
  },
  {
   "cell_type": "code",
   "execution_count": 18,
   "metadata": {},
   "outputs": [
    {
     "data": {
      "text/html": [
       "<table>\n",
       "<thead><tr><th scope=col>A</th><th scope=col>B</th></tr></thead>\n",
       "<tbody>\n",
       "\t<tr><td>0.6354184</td><td>0.3645816</td></tr>\n",
       "\t<tr><td>0.5331687</td><td>0.4668313</td></tr>\n",
       "\t<tr><td>0.4373453</td><td>0.5626547</td></tr>\n",
       "\t<tr><td>0.3545941</td><td>0.6454059</td></tr>\n",
       "</tbody>\n",
       "</table>\n"
      ],
      "text/latex": [
       "\\begin{tabular}{ll}\n",
       " A & B\\\\\n",
       "\\hline\n",
       "\t 0.6354184 & 0.3645816\\\\\n",
       "\t 0.5331687 & 0.4668313\\\\\n",
       "\t 0.4373453 & 0.5626547\\\\\n",
       "\t 0.3545941 & 0.6454059\\\\\n",
       "\\end{tabular}\n"
      ],
      "text/markdown": [
       "\n",
       "A | B | \n",
       "|---|---|---|---|\n",
       "| 0.6354184 | 0.3645816 | \n",
       "| 0.5331687 | 0.4668313 | \n",
       "| 0.4373453 | 0.5626547 | \n",
       "| 0.3545941 | 0.6454059 | \n",
       "\n",
       "\n"
      ],
      "text/plain": [
       "     A         B        \n",
       "[1,] 0.6354184 0.3645816\n",
       "[2,] 0.5331687 0.4668313\n",
       "[3,] 0.4373453 0.5626547\n",
       "[4,] 0.3545941 0.6454059"
      ]
     },
     "metadata": {},
     "output_type": "display_data"
    },
    {
     "data": {
      "text/html": [
       "<ol class=list-inline>\n",
       "\t<li>A</li>\n",
       "\t<li>B</li>\n",
       "\t<li>B</li>\n",
       "\t<li>B</li>\n",
       "</ol>\n"
      ],
      "text/latex": [
       "\\begin{enumerate*}\n",
       "\\item A\n",
       "\\item B\n",
       "\\item B\n",
       "\\item B\n",
       "\\end{enumerate*}\n"
      ],
      "text/markdown": [
       "1. A\n",
       "2. B\n",
       "3. B\n",
       "4. B\n",
       "\n",
       "\n"
      ],
      "text/plain": [
       "[1] A B B B\n",
       "Levels: A B"
      ]
     },
     "metadata": {},
     "output_type": "display_data"
    },
    {
     "data": {
      "text/html": [
       "<table>\n",
       "<thead><tr><th scope=col>x1</th><th scope=col>x2</th><th scope=col>x3</th><th scope=col>prediction</th></tr></thead>\n",
       "<tbody>\n",
       "\t<tr><td>5</td><td>8</td><td>1</td><td>A</td></tr>\n",
       "\t<tr><td>6</td><td>7</td><td>5</td><td>B</td></tr>\n",
       "\t<tr><td>7</td><td>6</td><td>2</td><td>B</td></tr>\n",
       "\t<tr><td>8</td><td>5</td><td>6</td><td>B</td></tr>\n",
       "</tbody>\n",
       "</table>\n"
      ],
      "text/latex": [
       "\\begin{tabular}{r|llll}\n",
       " x1 & x2 & x3 & prediction\\\\\n",
       "\\hline\n",
       "\t 5 & 8 & 1 & A\\\\\n",
       "\t 6 & 7 & 5 & B\\\\\n",
       "\t 7 & 6 & 2 & B\\\\\n",
       "\t 8 & 5 & 6 & B\\\\\n",
       "\\end{tabular}\n"
      ],
      "text/markdown": [
       "\n",
       "x1 | x2 | x3 | prediction | \n",
       "|---|---|---|---|\n",
       "| 5 | 8 | 1 | A | \n",
       "| 6 | 7 | 5 | B | \n",
       "| 7 | 6 | 2 | B | \n",
       "| 8 | 5 | 6 | B | \n",
       "\n",
       "\n"
      ],
      "text/plain": [
       "  x1 x2 x3 prediction\n",
       "1 5  8  1  A         \n",
       "2 6  7  5  B         \n",
       "3 7  6  2  B         \n",
       "4 8  5  6  B         "
      ]
     },
     "metadata": {},
     "output_type": "display_data"
    }
   ],
   "source": [
    "data.train = data.frame(x1=c(1,2,3,4,5,6,7,8), x2=c(9,7,6,5,4,3,2,1), x3=c(1,1,2,2,3,3,4,4), class=c(\"A\", \"B\", \"A\", \"B\", \"A\", \"B\", \"A\", \"B\"))\n",
    "data.new = data.frame(x1=c(5,6,7,8), x2=c(8,7,6,5), x3=c(1,5,2,6))\n",
    "cutoff = 0.6\n",
    "\n",
    "mymodel = naiveBayes(class ~ x1+x2+x3, data.train)\n",
    "postprob = predict(mymodel, data.new, type=\"raw\")\n",
    "prediction = as.class.cutoff(postprob, cutoff) # based on relative size of posterior probability that exceeds cutoff\n",
    "\n",
    "postprob\n",
    "prediction\n",
    "cbind(data.new, prediction)"
   ]
  },
  {
   "cell_type": "markdown",
   "metadata": {},
   "source": [
    "<br>\n",
    "___\n",
    "### Expectations\n",
    "\n",
    "You should be able to demonstrate on understanding of ...\n",
    "* how to build a naive bayes model based on classified data, and use it to predict the classes of new observations, conceptually and using R's `naiveBayes` and `predict` functions."
   ]
  },
  {
   "cell_type": "markdown",
   "metadata": {},
   "source": [
    "<br>\n",
    "___\n",
    "### Further Reading\n",
    "\n",
    "* http://ciml.info/dl/v0_99/ciml-v0_99-ch09.pdf\n",
    "* https://en.wikipedia.org/wiki/Naive_Bayes_classifier\n",
    "* https://web.as.uky.edu/statistics/users/pbreheny/764-F11/notes/11-1.pdf\n",
    "* https://web.as.uky.edu/statistics/users/pbreheny/621/F12/notes/10-25.pdf"
   ]
  },
  {
   "cell_type": "markdown",
   "metadata": {},
   "source": [
    "$\\tiny \\text{Copyright (c) Berkeley Data Analytics Group, LLC}$"
   ]
  }
 ],
 "metadata": {
  "hide_code_all_hidden": false,
  "hide_input": false,
  "kernelspec": {
   "display_name": "R",
   "language": "R",
   "name": "ir"
  },
  "language_info": {
   "codemirror_mode": "r",
   "file_extension": ".r",
   "mimetype": "text/x-r-source",
   "name": "R",
   "pygments_lexer": "r",
   "version": "3.4.2"
  },
  "latex_envs": {
   "LaTeX_envs_menu_present": false,
   "autocomplete": true,
   "bibliofile": "biblio.bib",
   "cite_by": "apalike",
   "current_citInitial": 1,
   "eqLabelWithNumbers": false,
   "eqNumInitial": 1,
   "hotkeys": {
    "equation": "Ctrl-E",
    "itemize": "Ctrl-I"
   },
   "labels_anchors": false,
   "latex_user_defs": false,
   "report_style_numbering": false,
   "user_envs_cfg": true
  }
 },
 "nbformat": 4,
 "nbformat_minor": 2
}
