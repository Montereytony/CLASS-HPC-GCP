{
 "cells": [
  {
   "cell_type": "markdown",
   "metadata": {
    "hideCode": false,
    "hidePrompt": false
   },
   "source": [
    "# Classification by Naive Bayes $\\,\\, \\tiny\\text{Lecture}$\n",
    "<img src=\"banner lecture.jpg\" align=left />"
   ]
  },
  {
   "cell_type": "markdown",
   "metadata": {},
   "source": [
    "<br>\n",
    "### Apparatus\n",
    "___\n",
    "Load function libraries, define additional useful functions, and set defaults here."
   ]
  },
  {
   "cell_type": "code",
   "execution_count": 116,
   "metadata": {},
   "outputs": [],
   "source": [
    "options(warn=-1)\n",
    "\n",
    "# Load some required functions\n",
    "library(e1071,     verbose=FALSE, warn.conflicts=FALSE, quietly=TRUE)\n",
    "library(caret,     verbose=FALSE, warn.conflicts=FALSE, quietly=TRUE)\n",
    "library(ggplot2,   verbose=FALSE, warn.conflicts=FALSE, quietly=TRUE)\n",
    "library(gridExtra, verbose=FALSE, warn.conflicts=FALSE, quietly=TRUE)\n",
    "library(rgl,       verbose=FALSE, warn.conflicts=FALSE, quietly=TRUE) # All rglwidget() calls must use elementID=\"myplot\"\n",
    "library(htmltools, verbose=FALSE, warn.conflicts=FALSE, quietly=TRUE)\n",
    "library(pracma,    verbose=FALSE, warn.conflicts=FALSE, quietly=TRUE)\n",
    "library(reshape2,  verbose=FALSE, warn.conflicts=FALSE, quietly=TRUE)\n",
    "\n",
    "library(plyr)\n",
    "\n",
    "as.class.cutoff = function(postprob, cutoff=0.5) { factor(colnames(postprob)[2-as.numeric(postprob[,1]>=cutoff)]) }\n",
    "as.class.best = function(postprob) { factor(as.character(aaply(1:nrow(postprob), 1, function(i) { colnames(postprob)[as.numeric(postprob[i,]) == max(as.numeric(postprob[i,]))] } ))) }\n",
    "\n",
    "\n",
    "theme.x_axis_only = theme(axis.title.y=element_blank(), axis.text.y=element_blank(), axis.ticks.y=element_blank(), panel.grid.major.y=element_blank(), panel.grid.minor.y=element_blank())\n",
    "\n",
    "restore = list(repr.plot.width=8, repr.plot.height=3)\n",
    "\n",
    "\n",
    "set.seed(12345)\n",
    "\n",
    "PALETTE = c(\"#00A9FF\", \"#F8766D\", \"#7CAE00\", \"#C77CFF\", \"#CD9600\", \"#00BE67\", \"#FF61CC\", \"#00BFC4\")\n",
    "\n",
    "# Set some visualization formatting defaults\n",
    "options(rgl.useNULL=TRUE)\n",
    "options(repr.matrix.max.cols=100)\n",
    "options(restore)\n",
    "theme_set(theme_grey())\n",
    "update_geom_defaults(\"point\", list(size=3, colour=PALETTE[3]))\n",
    "update_geom_defaults(\"line\", list(size=0.15))\n",
    "update_geom_defaults(\"bar\", list(colour=PALETTE[3], fill=PALETTE[3]))\n",
    "update_geom_defaults(\"col\", list(colour=PALETTE[3], fill=PALETTE[3]))\n",
    "update_geom_defaults(\"density\", list(colour=PALETTE[1], fill=PALETTE[1]))\n",
    "update_geom_defaults(\"text\", list(size=2.5))\n",
    "update_geom_defaults(\"abline\", list(color=\"black\", size=0.15))\n",
    "update_geom_defaults(\"smooth\", list(color=\"black\", size=0.15))\n",
    "theme_update(plot.title=element_text(size=10, hjust=0.5), plot.subtitle=element_text(size=8, face=\"italic\", hjust=0.5), axis.title=element_text(size=7), axis.text=element_text(size=7), strip.text=element_text(size=7), strip.text.y=element_text(angle=90), legend.title=element_blank(), legend.text=element_text(size=7))"
   ]
  },
  {
   "cell_type": "markdown",
   "metadata": {},
   "source": [
    "<br>\n",
    "### Naive Bayes in One Dimension\n",
    "___"
   ]
  },
  {
   "cell_type": "markdown",
   "metadata": {},
   "source": [
    "#### Retrieve data"
   ]
  },
  {
   "cell_type": "code",
   "execution_count": 117,
   "metadata": {
    "hideCode": false,
    "hidePrompt": false,
    "run_control": {
     "marked": false
    }
   },
   "outputs": [
    {
     "data": {},
     "metadata": {},
     "output_type": "display_data"
    },
    {
     "data": {
      "image/png": "[encoded data removed]",
      "text/plain": [
       "plot without title"
      ]
     },
     "metadata": {},
     "output_type": "display_data"
    }
   ],
   "source": [
    "data = data.frame(x1=c(1,8,8.5,10,11,9,14,15,16,16.5,18), class=c(\"A\", \"A\", \"A\", \"A\", \"A\", \"B\", \"B\", \"B\", \"B\", \"B\", \"B\"))\n",
    "\n",
    "options(repr.plot.width=8, repr.plot.height=1)\n",
    "ggplot(data) + geom_point(aes(x=x1, y=0, color=class)) + geom_point(aes(x=10, y=0)) + scale_color_manual(values=PALETTE) + xlim(0,20) + theme.x_axis_only\n",
    "options(restore)"
   ]
  },
  {
   "cell_type": "markdown",
   "metadata": {},
   "source": [
    "#### Probability of observation given class\n",
    "\n",
    "For a new unclassified observation, the probability of seeing that new observation given a class compared to the probability of seeing that new observation given another class is a reasonable basis for predicting the class of the new observation.  \n",
    "\n",
    "For example, the probability of seeing the observation x1=10 assuming that it's from class A is 0.16 and the probability of seeing the observation x1=10 assuming that it's from class B is 0.04.  Since 0.16 > 0.04, a reasonable prediction is that the new observation is from class A."
   ]
  },
  {
   "cell_type": "code",
   "execution_count": 118,
   "metadata": {
    "scrolled": false
   },
   "outputs": [
    {
     "data": {
      "text/html": [
       "<table>\n",
       "<thead><tr><th scope=col>class</th><th scope=col>probability_given</th></tr></thead>\n",
       "<tbody>\n",
       "\t<tr><td>A         </td><td>0.16538421</td></tr>\n",
       "\t<tr><td>B         </td><td>0.04038994</td></tr>\n",
       "</tbody>\n",
       "</table>\n"
      ],
      "text/latex": [
       "\\begin{tabular}{r|ll}\n",
       " class & probability\\_given\\\\\n",
       "\\hline\n",
       "\t A          & 0.16538421\\\\\n",
       "\t B          & 0.04038994\\\\\n",
       "\\end{tabular}\n"
      ],
      "text/markdown": [
       "\n",
       "class | probability_given | \n",
       "|---|---|\n",
       "| A          | 0.16538421 | \n",
       "| B          | 0.04038994 | \n",
       "\n",
       "\n"
      ],
      "text/plain": [
       "  class probability_given\n",
       "1 A     0.16538421       \n",
       "2 B     0.04038994       "
      ]
     },
     "metadata": {},
     "output_type": "display_data"
    },
    {
     "data": {},
     "metadata": {},
     "output_type": "display_data"
    },
    {
     "data": {
      "image/png": "[encoded data removed]",
      "text/plain": [
       "plot without title"
      ]
     },
     "metadata": {},
     "output_type": "display_data"
    }
   ],
   "source": [
    "kde.A = density(data[data$class==\"A\",\"x1\"], from=0, to=20)\n",
    "f.A = approxfun(kde.A$x, kde.A$y, yleft=0, yright=0)\n",
    "kde.B = density(data[data$class==\"B\",\"x1\"], from=0, to=20)\n",
    "f.B = approxfun(kde.B$x, kde.B$y, yleft=0, yright=0)\n",
    "\n",
    "prob = data.frame(class=c(\"A\",\"B\"), probability_given=c(f.A(10), f.B(10)))\n",
    "prob\n",
    "\n",
    "ggplot() +\n",
    "geom_density(aes(x1, fill=class), data=data[data$class==\"A\",], color=NA, alpha=0.5) +\n",
    "geom_density(aes(x1, fill=class), data=data[data$class==\"B\",], color=NA, alpha=0.5) +\n",
    "geom_vline(aes(xintercept=10), lty=\"dotted\") +\n",
    "geom_point(aes(x=10, y=0)) +\n",
    "scale_fill_manual(values=PALETTE[1:2]) + xlim(0,20)"
   ]
  },
  {
   "cell_type": "markdown",
   "metadata": {},
   "source": [
    "<br>\n",
    "#### Prior probability of observation from class\n",
    "\n",
    "For a new unclassified observation, the prior probability of seeing any observation from a class compared to the prior probability of seeing any observation from another class is also a reasonable basis for predicting the class of the new observation.  \n",
    "\n",
    "For example, the prioir probability of seeing any observation from class A is 0.45 and the prior probability of seeing any observation from class B is 0.54.  Since 0.45 < 0.54, a reasonable prediction is that the new observation is from class B."
   ]
  },
  {
   "cell_type": "code",
   "execution_count": 119,
   "metadata": {},
   "outputs": [
    {
     "data": {
      "text/html": [
       "<table>\n",
       "<thead><tr><th scope=col>class</th><th scope=col>prior_probability</th></tr></thead>\n",
       "<tbody>\n",
       "\t<tr><td>A        </td><td>0.4545455</td></tr>\n",
       "\t<tr><td>B        </td><td>0.5454545</td></tr>\n",
       "</tbody>\n",
       "</table>\n"
      ],
      "text/latex": [
       "\\begin{tabular}{r|ll}\n",
       " class & prior\\_probability\\\\\n",
       "\\hline\n",
       "\t A         & 0.4545455\\\\\n",
       "\t B         & 0.5454545\\\\\n",
       "\\end{tabular}\n"
      ],
      "text/markdown": [
       "\n",
       "class | prior_probability | \n",
       "|---|---|\n",
       "| A         | 0.4545455 | \n",
       "| B         | 0.5454545 | \n",
       "\n",
       "\n"
      ],
      "text/plain": [
       "  class prior_probability\n",
       "1 A     0.4545455        \n",
       "2 B     0.5454545        "
      ]
     },
     "metadata": {},
     "output_type": "display_data"
    },
    {
     "data": {
      "text/html": [
       "B"
      ],
      "text/latex": [
       "B"
      ],
      "text/markdown": [
       "B"
      ],
      "text/plain": [
       "[1] B\n",
       "Levels: A B"
      ]
     },
     "metadata": {},
     "output_type": "display_data"
    },
    {
     "data": {},
     "metadata": {},
     "output_type": "display_data"
    },
    {
     "data": {
      "image/png": "[encoded data removed]",
      "text/plain": [
       "plot without title"
      ]
     },
     "metadata": {},
     "output_type": "display_data"
    }
   ],
   "source": [
    "prior.A = length(which(data$class==\"A\")) / nrow(data)\n",
    "prior.B = length(which(data$class==\"B\")) / nrow(data)\n",
    "\n",
    "prob = data.frame(class=c(\"A\",\"B\"), prior_probability = c(prior.A, prior.B))\n",
    "prob\n",
    "\n",
    "best_guess = prob[prob$prior == max(prob$prior_probability), \"class\"]\n",
    "best_guess\n",
    "\n",
    "ggplot(prob) + geom_col(aes(x=class, y=prior_probability, fill=class), color=NA) + scale_fill_manual(values=PALETTE) + ylim(0,1)"
   ]
  },
  {
   "cell_type": "markdown",
   "metadata": {},
   "source": [
    "<br>\n",
    "#### Expectation of observation given class and prior probability\n",
    "\n",
    "For a new unclassified observation, the probability of that observation given it's from a class times the prior probability of seeing any observation from that class is a basis for predicting the class of the new observation that combines both influences.   \n",
    "\n",
    "For example, the probability of seeing the observation x1=10 assuming that it's from class A is 0.16, the prior probability of any observation coming from class A is 0.45, and so the overall expectation that the observation x1=10 is from class A is 0.16 x 0.45 = 0.07.  Similarly, the overall expectation that the observation x1=10 is from class B is 0.04 x 0.54 = 0.02.  Since 0.07 > 0.02, the prediction is that the observation x1=10 comes from class A."
   ]
  },
  {
   "cell_type": "code",
   "execution_count": 120,
   "metadata": {},
   "outputs": [
    {
     "data": {
      "text/html": [
       "<table>\n",
       "<thead><tr><th scope=col>class</th><th scope=col>post</th></tr></thead>\n",
       "<tbody>\n",
       "\t<tr><td>A         </td><td>0.07517464</td></tr>\n",
       "\t<tr><td>B         </td><td>0.02203088</td></tr>\n",
       "</tbody>\n",
       "</table>\n"
      ],
      "text/latex": [
       "\\begin{tabular}{r|ll}\n",
       " class & post\\\\\n",
       "\\hline\n",
       "\t A          & 0.07517464\\\\\n",
       "\t B          & 0.02203088\\\\\n",
       "\\end{tabular}\n"
      ],
      "text/markdown": [
       "\n",
       "class | post | \n",
       "|---|---|\n",
       "| A          | 0.07517464 | \n",
       "| B          | 0.02203088 | \n",
       "\n",
       "\n"
      ],
      "text/plain": [
       "  class post      \n",
       "1 A     0.07517464\n",
       "2 B     0.02203088"
      ]
     },
     "metadata": {},
     "output_type": "display_data"
    },
    {
     "data": {
      "text/html": [
       "<table>\n",
       "<thead><tr><th scope=col>class</th><th scope=col>relative_post</th></tr></thead>\n",
       "<tbody>\n",
       "\t<tr><td>A        </td><td>0.7733577</td></tr>\n",
       "\t<tr><td>B        </td><td>0.2266423</td></tr>\n",
       "</tbody>\n",
       "</table>\n"
      ],
      "text/latex": [
       "\\begin{tabular}{r|ll}\n",
       " class & relative\\_post\\\\\n",
       "\\hline\n",
       "\t A         & 0.7733577\\\\\n",
       "\t B         & 0.2266423\\\\\n",
       "\\end{tabular}\n"
      ],
      "text/markdown": [
       "\n",
       "class | relative_post | \n",
       "|---|---|\n",
       "| A         | 0.7733577 | \n",
       "| B         | 0.2266423 | \n",
       "\n",
       "\n"
      ],
      "text/plain": [
       "  class relative_post\n",
       "1 A     0.7733577    \n",
       "2 B     0.2266423    "
      ]
     },
     "metadata": {},
     "output_type": "display_data"
    },
    {
     "data": {
      "text/html": [
       "A"
      ],
      "text/latex": [
       "A"
      ],
      "text/markdown": [
       "A"
      ],
      "text/plain": [
       "[1] A\n",
       "Levels: A"
      ]
     },
     "metadata": {},
     "output_type": "display_data"
    },
    {
     "data": {},
     "metadata": {},
     "output_type": "display_data"
    },
    {
     "data": {
      "image/png": "[encoded data removed]",
      "text/plain": [
       "plot without title"
      ]
     },
     "metadata": {},
     "output_type": "display_data"
    }
   ],
   "source": [
    "post.A = f.A(10) * prior.A\n",
    "post.B = f.B(10) * prior.B\n",
    "\n",
    "prob = data.frame(class=c(\"A\",\"B\"), post=c(post.A, post.B))\n",
    "prob\n",
    "\n",
    "relative = data.frame(class=c(\"A\",\"B\"), relative_post=c(post.A/(post.A+post.B), post.B/(post.A+post.B)))\n",
    "relative\n",
    "\n",
    "cutoff = 0.5\n",
    "best_guess = if (relative$relative_post >= cutoff) factor(\"A\") else factor(\"B\")\n",
    "best_guess\n",
    "\n",
    "ggplot(prob) +\n",
    "geom_col(aes(x=class, y=post, fill=class), color=NA) +\n",
    "scale_fill_manual(values=PALETTE)"
   ]
  },
  {
   "cell_type": "markdown",
   "metadata": {},
   "source": [
    "<br>\n",
    "### Naive Bayes in Many Dimensions\n",
    "___"
   ]
  },
  {
   "cell_type": "markdown",
   "metadata": {},
   "source": [
    "#### Retrieve data"
   ]
  },
  {
   "cell_type": "code",
   "execution_count": 121,
   "metadata": {
    "hideCode": false,
    "hidePrompt": false,
    "run_control": {
     "marked": false
    }
   },
   "outputs": [
    {
     "data": {},
     "metadata": {},
     "output_type": "display_data"
    },
    {
     "data": {
      "image/png": "[encoded data removed]",
      "text/plain": [
       "plot without title"
      ]
     },
     "metadata": {},
     "output_type": "display_data"
    }
   ],
   "source": [
    "data = data.frame(x1=c(1,8,8.5,10,11,9,14,15,16,16,18), x2=c(1,2,3,3,5,5,6,7,6,5,7), class=c(\"A\", \"A\", \"A\", \"A\", \"A\", \"B\", \"B\", \"B\", \"B\", \"B\", \"B\"))\n",
    "\n",
    "ggplot(data) +\n",
    "geom_point(aes(x=x1, y=x2, color=class)) +\n",
    "geom_point(aes(x=10, y=4)) +\n",
    "scale_color_manual(values=PALETTE) +\n",
    "xlim(0,20)"
   ]
  },
  {
   "cell_type": "markdown",
   "metadata": {},
   "source": [
    "#### Probabilities of observation given class, in each dimension\n",
    "\n",
    "For example, the probability of seeing the observation x1=10 assuming that it's from class A is 0.16 and the probability of seeing the observation x1=10 assuming that it's from class B is 0.04.  The probability of seeing the observation x2=4 assuming that it's from class A is 0.06 and the probability of seeing the observation x2=4 assuming that it's from class B is 0.05."
   ]
  },
  {
   "cell_type": "code",
   "execution_count": 122,
   "metadata": {
    "scrolled": false
   },
   "outputs": [
    {
     "data": {
      "text/html": [
       "<table>\n",
       "<thead><tr><th scope=col>class</th><th scope=col>probability_given</th></tr></thead>\n",
       "<tbody>\n",
       "\t<tr><td>A         </td><td>0.16538421</td></tr>\n",
       "\t<tr><td>B         </td><td>0.03865218</td></tr>\n",
       "</tbody>\n",
       "</table>\n"
      ],
      "text/latex": [
       "\\begin{tabular}{r|ll}\n",
       " class & probability\\_given\\\\\n",
       "\\hline\n",
       "\t A          & 0.16538421\\\\\n",
       "\t B          & 0.03865218\\\\\n",
       "\\end{tabular}\n"
      ],
      "text/markdown": [
       "\n",
       "class | probability_given | \n",
       "|---|---|\n",
       "| A          | 0.16538421 | \n",
       "| B          | 0.03865218 | \n",
       "\n",
       "\n"
      ],
      "text/plain": [
       "  class probability_given\n",
       "1 A     0.16538421       \n",
       "2 B     0.03865218       "
      ]
     },
     "metadata": {},
     "output_type": "display_data"
    },
    {
     "data": {
      "text/html": [
       "<table>\n",
       "<thead><tr><th scope=col>class</th><th scope=col>probability_given</th></tr></thead>\n",
       "<tbody>\n",
       "\t<tr><td>A         </td><td>0.06019674</td></tr>\n",
       "\t<tr><td>B         </td><td>0.04943189</td></tr>\n",
       "</tbody>\n",
       "</table>\n"
      ],
      "text/latex": [
       "\\begin{tabular}{r|ll}\n",
       " class & probability\\_given\\\\\n",
       "\\hline\n",
       "\t A          & 0.06019674\\\\\n",
       "\t B          & 0.04943189\\\\\n",
       "\\end{tabular}\n"
      ],
      "text/markdown": [
       "\n",
       "class | probability_given | \n",
       "|---|---|\n",
       "| A          | 0.06019674 | \n",
       "| B          | 0.04943189 | \n",
       "\n",
       "\n"
      ],
      "text/plain": [
       "  class probability_given\n",
       "1 A     0.06019674       \n",
       "2 B     0.04943189       "
      ]
     },
     "metadata": {},
     "output_type": "display_data"
    },
    {
     "data": {},
     "metadata": {},
     "output_type": "display_data"
    },
    {
     "data": {},
     "metadata": {},
     "output_type": "display_data"
    },
    {
     "data": {
      "image/png": "[encoded data removed]",
      "text/plain": [
       "plot without title"
      ]
     },
     "metadata": {},
     "output_type": "display_data"
    },
    {
     "data": {
      "image/png": "[encoded data removed]",
      "text/plain": [
       "plot without title"
      ]
     },
     "metadata": {},
     "output_type": "display_data"
    }
   ],
   "source": [
    "kde.A.x1 = density(data[data$class==\"A\",\"x1\"], from=0, to=20)\n",
    "f.A.x1 = approxfun(kde.A.x1$x, kde.A.x1$y, yleft=0, yright=0)\n",
    "kde.B.x1 = density(data[data$class==\"B\",\"x1\"], from=0, to=20)\n",
    "f.B.x1 = approxfun(kde.B.x1$x, kde.B.x1$y, yleft=0, yright=0)\n",
    "\n",
    "prob.x1 = data.frame(class=c(\"A\",\"B\"), probability_given=c(f.A.x1(10), f.B.x1(10)))\n",
    "prob.x1\n",
    "\n",
    "kde.A.x2 = density(data[data$class==\"A\",\"x2\"], from=0, to=20)\n",
    "f.A.x2 = approxfun(kde.A.x2$x, kde.A.x2$y, yleft=0, yright=0)\n",
    "kde.B.x2 = density(data[data$class==\"B\",\"x2\"], from=0, to=20)\n",
    "f.B.x2 = approxfun(kde.B.x2$x, kde.B.x2$y, yleft=0, yright=0)\n",
    "\n",
    "prob.x2 = data.frame(class=c(\"A\",\"B\"), probability_given=c(f.A.x2(4), f.B.x2(4)))\n",
    "prob.x2\n",
    "\n",
    "\n",
    "ggplot() +\n",
    "geom_density(aes(x1, fill=class), data=data[data$class==\"A\",], color=NA, alpha=0.5) +\n",
    "geom_density(aes(x1, fill=class), data=data[data$class==\"B\",], color=NA, alpha=0.5) +\n",
    "geom_vline(aes(xintercept=10), lty=\"dotted\") +\n",
    "geom_point(aes(x=10, y=0)) +\n",
    "scale_fill_manual(values=PALETTE[1:2]) + xlim(0,20)\n",
    "\n",
    "ggplot() +\n",
    "geom_density(aes(x2, fill=class), data=data[data$class==\"A\",], color=NA, alpha=0.5) +\n",
    "geom_density(aes(x2, fill=class), data=data[data$class==\"B\",], color=NA, alpha=0.5) +\n",
    "geom_vline(aes(xintercept=4), lty=\"dotted\") +\n",
    "geom_point(aes(x=4, y=0)) +\n",
    "scale_fill_manual(values=PALETTE[1:2]) + xlim(0,20)\n",
    "\n"
   ]
  },
  {
   "cell_type": "markdown",
   "metadata": {},
   "source": [
    "<br>\n",
    "#### Prior probability of observation from class"
   ]
  },
  {
   "cell_type": "code",
   "execution_count": 123,
   "metadata": {},
   "outputs": [
    {
     "data": {
      "text/html": [
       "<table>\n",
       "<thead><tr><th scope=col>class</th><th scope=col>prior_probability</th></tr></thead>\n",
       "<tbody>\n",
       "\t<tr><td>A        </td><td>0.4545455</td></tr>\n",
       "\t<tr><td>B        </td><td>0.5454545</td></tr>\n",
       "</tbody>\n",
       "</table>\n"
      ],
      "text/latex": [
       "\\begin{tabular}{r|ll}\n",
       " class & prior\\_probability\\\\\n",
       "\\hline\n",
       "\t A         & 0.4545455\\\\\n",
       "\t B         & 0.5454545\\\\\n",
       "\\end{tabular}\n"
      ],
      "text/markdown": [
       "\n",
       "class | prior_probability | \n",
       "|---|---|\n",
       "| A         | 0.4545455 | \n",
       "| B         | 0.5454545 | \n",
       "\n",
       "\n"
      ],
      "text/plain": [
       "  class prior_probability\n",
       "1 A     0.4545455        \n",
       "2 B     0.5454545        "
      ]
     },
     "metadata": {},
     "output_type": "display_data"
    },
    {
     "data": {
      "text/html": [
       "B"
      ],
      "text/latex": [
       "B"
      ],
      "text/markdown": [
       "B"
      ],
      "text/plain": [
       "[1] B\n",
       "Levels: A B"
      ]
     },
     "metadata": {},
     "output_type": "display_data"
    },
    {
     "data": {},
     "metadata": {},
     "output_type": "display_data"
    },
    {
     "data": {
      "image/png": "[encoded data removed]",
      "text/plain": [
       "plot without title"
      ]
     },
     "metadata": {},
     "output_type": "display_data"
    }
   ],
   "source": [
    "prior.A = length(which(data$class==\"A\")) / nrow(data)\n",
    "prior.B = length(which(data$class==\"B\")) / nrow(data)\n",
    "\n",
    "prob = data.frame(class=c(\"A\",\"B\"), prior_probability = c(prior.A, prior.B))\n",
    "prob\n",
    "\n",
    "best_guess = prob[prob$prior == max(prob$prior_probability), \"class\"]\n",
    "best_guess\n",
    "\n",
    "ggplot(prob) + geom_col(aes(x=class, y=prior_probability, fill=class), color=NA) + scale_fill_manual(values=PALETTE) + ylim(0,1)"
   ]
  },
  {
   "cell_type": "markdown",
   "metadata": {},
   "source": [
    "<br>\n",
    "#### Expectation of observation given class, in each dimension, and prior probability\n",
    "\n",
    "For a new unclassified observation, the product of the probabilities of that observation given it's from a class, in each dimension, times the prior probability of seeing any observation from that class is a basis for predicting the class of the new observation that combines both influences.   \n",
    "\n",
    "For example, the probability of seeing the observation x1=10 assuming that it's from class A is 0.16, the probability of seeing the observation x2=4 assuming that it's from class A is 0.06, the prior probability of any observation coming from class A is 0.45, and so the overall expectation that the observation x1=10,x2=4 is from class A is 0.16 x 0.06 x 0.45 = 0.004.  Similarly, the overall expectation that the observation x1=10,x2=4 is from class B is 0.04 x 0.05 x 0.54 = 0.001  Since 0.004 > 0.001, the prediction is that the observation x1=10,x2=4 comes from class A."
   ]
  },
  {
   "cell_type": "code",
   "execution_count": 124,
   "metadata": {},
   "outputs": [
    {
     "data": {
      "text/html": [
       "<table>\n",
       "<thead><tr><th scope=col>class</th><th scope=col>post</th></tr></thead>\n",
       "<tbody>\n",
       "\t<tr><td>A          </td><td>0.004525269</td></tr>\n",
       "\t<tr><td>B          </td><td>0.001042173</td></tr>\n",
       "</tbody>\n",
       "</table>\n"
      ],
      "text/latex": [
       "\\begin{tabular}{r|ll}\n",
       " class & post\\\\\n",
       "\\hline\n",
       "\t A           & 0.004525269\\\\\n",
       "\t B           & 0.001042173\\\\\n",
       "\\end{tabular}\n"
      ],
      "text/markdown": [
       "\n",
       "class | post | \n",
       "|---|---|\n",
       "| A           | 0.004525269 | \n",
       "| B           | 0.001042173 | \n",
       "\n",
       "\n"
      ],
      "text/plain": [
       "  class post       \n",
       "1 A     0.004525269\n",
       "2 B     0.001042173"
      ]
     },
     "metadata": {},
     "output_type": "display_data"
    },
    {
     "data": {
      "text/html": [
       "<table>\n",
       "<thead><tr><th scope=col>class</th><th scope=col>relative_post</th></tr></thead>\n",
       "<tbody>\n",
       "\t<tr><td>A        </td><td>0.8128094</td></tr>\n",
       "\t<tr><td>B        </td><td>0.1871906</td></tr>\n",
       "</tbody>\n",
       "</table>\n"
      ],
      "text/latex": [
       "\\begin{tabular}{r|ll}\n",
       " class & relative\\_post\\\\\n",
       "\\hline\n",
       "\t A         & 0.8128094\\\\\n",
       "\t B         & 0.1871906\\\\\n",
       "\\end{tabular}\n"
      ],
      "text/markdown": [
       "\n",
       "class | relative_post | \n",
       "|---|---|\n",
       "| A         | 0.8128094 | \n",
       "| B         | 0.1871906 | \n",
       "\n",
       "\n"
      ],
      "text/plain": [
       "  class relative_post\n",
       "1 A     0.8128094    \n",
       "2 B     0.1871906    "
      ]
     },
     "metadata": {},
     "output_type": "display_data"
    },
    {
     "data": {
      "text/html": [
       "A"
      ],
      "text/latex": [
       "A"
      ],
      "text/markdown": [
       "A"
      ],
      "text/plain": [
       "[1] A\n",
       "Levels: A"
      ]
     },
     "metadata": {},
     "output_type": "display_data"
    },
    {
     "data": {},
     "metadata": {},
     "output_type": "display_data"
    },
    {
     "data": {
      "image/png": "[encoded data removed]",
      "text/plain": [
       "plot without title"
      ]
     },
     "metadata": {},
     "output_type": "display_data"
    }
   ],
   "source": [
    "post.A = f.A.x1(10) * f.A.x2(4) * prior.A\n",
    "post.B = f.B.x1(10) * f.B.x2(4) * prior.B\n",
    "\n",
    "prob = data.frame(class=c(\"A\",\"B\"), post=c(post.A, post.B))\n",
    "prob\n",
    "\n",
    "relative = data.frame(class=c(\"A\",\"B\"), relative_post=c(post.A/(post.A+post.B), post.B/(post.A+post.B)))\n",
    "relative\n",
    "\n",
    "cutoff = 0.5\n",
    "best_guess = if (relative$relative_post >= cutoff) factor(\"A\") else factor(\"B\")\n",
    "best_guess\n",
    "\n",
    "ggplot(prob) +\n",
    "geom_col(aes(x=class, y=post, fill=class), color=NA) +\n",
    "scale_fill_manual(values=PALETTE)"
   ]
  },
  {
   "cell_type": "markdown",
   "metadata": {},
   "source": [
    "<br>\n",
    "### Statistical Basis for Naive Bayes Method\n",
    "___\n",
    "Bayes Rule:\n",
    "$$\n",
    "P(class=A\\,|\\,x1=u,\\,x2=v,...) = \\frac{ P(x1=u,\\,x2=v\\,|\\,class=A) \\,\\times\\, P(class=A) }{ P(x1=u,\\,x2=v,...) }\n",
    "$$\n",
    "\n",
    "$$\n",
    "P(class=B\\,|\\,x1=u,\\,x2=v,...) = \\frac{ P(x1=u,\\,x2=v\\,|\\,class=B) \\,\\times\\, P(class=B) }{ P(x1=u,\\,x2=v,...) }\n",
    "$$\n",
    "\n",
    "\n",
    "<br>\n",
    "Treat x1, x2, ... as mutually independent - this is the \"naive\" assumption.\n",
    "\n",
    "$$\n",
    "P(class=A\\,|\\,x1=u,\\,x2=v,...) = \\frac{ P(x1=u\\,|\\,class=A) \\,\\times\\, P(x2=v\\,|\\,class=A) \\,\\times\\, ... \\,\\times\\, P(class=A) }{ P(x1=u,\\,x2=v,...) }\n",
    "$$\n",
    "\n",
    "$$\n",
    "P(class=B\\,|\\,x1=u,\\,x2=v,...) = \\frac{ P(x1=u\\,|\\,class=B) \\,\\times\\, P(x2=v\\,|\\,class=B) \\,\\times\\, ... \\,\\times\\, P(class=B) }{ P(x1=u,\\,x2=v,...) }\n",
    "$$\n",
    "\n",
    "<br>\n",
    "Ignore the denominators because they are equivalent and do not affect which posterior probability is greater.\n",
    "\n",
    "$$\n",
    "P(x1=u\\,|\\,class=A) \\,\\times\\, P(x2=v\\,|\\,class=A) \\,\\times\\, ... \\,\\times\\, P(class=A)\n",
    "$$\n",
    "\n",
    "$$\n",
    "P(x1=u\\,|\\,class=B) \\,\\times\\, P(x2=v\\,|\\,class=B) \\,\\times\\, ... \\,\\times\\, P(class=B)\n",
    "$$\n",
    "\n",
    "<br>\n",
    "Note the relative size of the posterior probabilities.\n",
    "\n",
    "$$\n",
    "\\frac{P(x1=u\\,|\\,class=A) \\,\\times\\, P(x2=v\\,|\\,class=A) \\,\\times\\, ... \\,\\times\\, P(class=A)}{P(x1=u\\,|\\,class=A) \\,\\times\\, P(x2=v\\,|\\,class=A) \\,\\times\\, ... \\,\\times\\, P(class=A) + P(x1=u\\,|\\,class=B) \\,\\times\\, P(x2=v\\,|\\,class=B) \\,\\times\\, ... \\,\\times\\, P(class=B)}\n",
    "$$\n",
    "\n",
    "$$\n",
    "\\frac{P(x1=u\\,|\\,class=B) \\,\\times\\, P(x2=v\\,|\\,class=B) \\,\\times\\, ... \\,\\times\\, P(class=B)}{P(x1=u\\,|\\,class=A) \\,\\times\\, P(x2=v\\,|\\,class=A) \\,\\times\\, ... \\,\\times\\, P(class=A) + P(x1=u\\,|\\,class=B) \\,\\times\\, P(x2=v\\,|\\,class=B) \\,\\times\\, ... \\,\\times\\, P(class=B)}\n",
    "$$\n",
    "\n",
    "\n",
    "<br>\n",
    "Predict the class that corresponds to the maximum relative size or to the relative size that exceeds some cutoff."
   ]
  },
  {
   "cell_type": "markdown",
   "metadata": {},
   "source": [
    "<br>\n",
    "### R Toolkit\n",
    "___"
   ]
  },
  {
   "cell_type": "code",
   "execution_count": 125,
   "metadata": {},
   "outputs": [
    {
     "data": {
      "text/html": [
       "<ol class=list-inline>\n",
       "\t<li>A</li>\n",
       "\t<li>A</li>\n",
       "\t<li>B</li>\n",
       "\t<li>B</li>\n",
       "</ol>\n"
      ],
      "text/latex": [
       "\\begin{enumerate*}\n",
       "\\item A\n",
       "\\item A\n",
       "\\item B\n",
       "\\item B\n",
       "\\end{enumerate*}\n"
      ],
      "text/markdown": [
       "1. A\n",
       "2. A\n",
       "3. B\n",
       "4. B\n",
       "\n",
       "\n"
      ],
      "text/plain": [
       "[1] A A B B\n",
       "Levels: A B"
      ]
     },
     "metadata": {},
     "output_type": "display_data"
    },
    {
     "data": {
      "text/html": [
       "<table>\n",
       "<thead><tr><th scope=col>x1</th><th scope=col>x2</th><th scope=col>x3</th><th scope=col>out</th><th scope=col>prediction</th></tr></thead>\n",
       "<tbody>\n",
       "\t<tr><td>5</td><td>8</td><td>1</td><td>A</td><td>A</td></tr>\n",
       "\t<tr><td>6</td><td>7</td><td>5</td><td>A</td><td>A</td></tr>\n",
       "\t<tr><td>7</td><td>6</td><td>2</td><td>B</td><td>B</td></tr>\n",
       "\t<tr><td>8</td><td>5</td><td>6</td><td>B</td><td>B</td></tr>\n",
       "</tbody>\n",
       "</table>\n"
      ],
      "text/latex": [
       "\\begin{tabular}{r|lllll}\n",
       " x1 & x2 & x3 & out & prediction\\\\\n",
       "\\hline\n",
       "\t 5 & 8 & 1 & A & A\\\\\n",
       "\t 6 & 7 & 5 & A & A\\\\\n",
       "\t 7 & 6 & 2 & B & B\\\\\n",
       "\t 8 & 5 & 6 & B & B\\\\\n",
       "\\end{tabular}\n"
      ],
      "text/markdown": [
       "\n",
       "x1 | x2 | x3 | out | prediction | \n",
       "|---|---|---|---|\n",
       "| 5 | 8 | 1 | A | A | \n",
       "| 6 | 7 | 5 | A | A | \n",
       "| 7 | 6 | 2 | B | B | \n",
       "| 8 | 5 | 6 | B | B | \n",
       "\n",
       "\n"
      ],
      "text/plain": [
       "  x1 x2 x3 out prediction\n",
       "1 5  8  1  A   A         \n",
       "2 6  7  5  A   A         \n",
       "3 7  6  2  B   B         \n",
       "4 8  5  6  B   B         "
      ]
     },
     "metadata": {},
     "output_type": "display_data"
    }
   ],
   "source": [
    "data.train = data.frame(x1=c(1,2,3,4,5,6,7,8), x2=c(8,7,6,5,4,3,2,1), x3=c(1,1,2,2,3,3,4,4), out=c(\"A\", \"B\", \"A\", \"B\", \"A\", \"B\", \"A\", \"B\"))\n",
    "data.new = data.frame(x1=c(5,6,7,8), x2=c(8,7,6,5), x3=c(1,5,2,6), out=c(\"A\", \"A\", \"B\", \"B\"))\n",
    "\n",
    "mymodel = naiveBayes(out ~ x1+x2+x3, data.train)\n",
    "prediction = predict(mymodel, data.new[,1:3]) # based on maximum posterior probability\n",
    "\n",
    "prediction\n",
    "cbind(data.new, prediction)"
   ]
  },
  {
   "cell_type": "code",
   "execution_count": 126,
   "metadata": {},
   "outputs": [
    {
     "data": {
      "text/html": [
       "<table>\n",
       "<thead><tr><th scope=col>A</th><th scope=col>B</th></tr></thead>\n",
       "<tbody>\n",
       "\t<tr><td>0.6106392</td><td>0.3893608</td></tr>\n",
       "\t<tr><td>0.5374298</td><td>0.4625702</td></tr>\n",
       "\t<tr><td>0.4625702</td><td>0.5374298</td></tr>\n",
       "\t<tr><td>0.3893608</td><td>0.6106392</td></tr>\n",
       "</tbody>\n",
       "</table>\n"
      ],
      "text/latex": [
       "\\begin{tabular}{ll}\n",
       " A & B\\\\\n",
       "\\hline\n",
       "\t 0.6106392 & 0.3893608\\\\\n",
       "\t 0.5374298 & 0.4625702\\\\\n",
       "\t 0.4625702 & 0.5374298\\\\\n",
       "\t 0.3893608 & 0.6106392\\\\\n",
       "\\end{tabular}\n"
      ],
      "text/markdown": [
       "\n",
       "A | B | \n",
       "|---|---|---|---|\n",
       "| 0.6106392 | 0.3893608 | \n",
       "| 0.5374298 | 0.4625702 | \n",
       "| 0.4625702 | 0.5374298 | \n",
       "| 0.3893608 | 0.6106392 | \n",
       "\n",
       "\n"
      ],
      "text/plain": [
       "     A         B        \n",
       "[1,] 0.6106392 0.3893608\n",
       "[2,] 0.5374298 0.4625702\n",
       "[3,] 0.4625702 0.5374298\n",
       "[4,] 0.3893608 0.6106392"
      ]
     },
     "metadata": {},
     "output_type": "display_data"
    },
    {
     "data": {
      "text/html": [
       "<ol class=list-inline>\n",
       "\t<li>A</li>\n",
       "\t<li>B</li>\n",
       "\t<li>B</li>\n",
       "\t<li>B</li>\n",
       "</ol>\n"
      ],
      "text/latex": [
       "\\begin{enumerate*}\n",
       "\\item A\n",
       "\\item B\n",
       "\\item B\n",
       "\\item B\n",
       "\\end{enumerate*}\n"
      ],
      "text/markdown": [
       "1. A\n",
       "2. B\n",
       "3. B\n",
       "4. B\n",
       "\n",
       "\n"
      ],
      "text/plain": [
       "[1] A B B B\n",
       "Levels: A B"
      ]
     },
     "metadata": {},
     "output_type": "display_data"
    },
    {
     "data": {
      "text/html": [
       "<table>\n",
       "<thead><tr><th scope=col>x1</th><th scope=col>x2</th><th scope=col>x3</th><th scope=col>out</th><th scope=col>prediction</th></tr></thead>\n",
       "<tbody>\n",
       "\t<tr><td>5</td><td>8</td><td>1</td><td>A</td><td>A</td></tr>\n",
       "\t<tr><td>6</td><td>7</td><td>5</td><td>A</td><td>B</td></tr>\n",
       "\t<tr><td>7</td><td>6</td><td>2</td><td>B</td><td>B</td></tr>\n",
       "\t<tr><td>8</td><td>5</td><td>6</td><td>B</td><td>B</td></tr>\n",
       "</tbody>\n",
       "</table>\n"
      ],
      "text/latex": [
       "\\begin{tabular}{r|lllll}\n",
       " x1 & x2 & x3 & out & prediction\\\\\n",
       "\\hline\n",
       "\t 5 & 8 & 1 & A & A\\\\\n",
       "\t 6 & 7 & 5 & A & B\\\\\n",
       "\t 7 & 6 & 2 & B & B\\\\\n",
       "\t 8 & 5 & 6 & B & B\\\\\n",
       "\\end{tabular}\n"
      ],
      "text/markdown": [
       "\n",
       "x1 | x2 | x3 | out | prediction | \n",
       "|---|---|---|---|\n",
       "| 5 | 8 | 1 | A | A | \n",
       "| 6 | 7 | 5 | A | B | \n",
       "| 7 | 6 | 2 | B | B | \n",
       "| 8 | 5 | 6 | B | B | \n",
       "\n",
       "\n"
      ],
      "text/plain": [
       "  x1 x2 x3 out prediction\n",
       "1 5  8  1  A   A         \n",
       "2 6  7  5  A   B         \n",
       "3 7  6  2  B   B         \n",
       "4 8  5  6  B   B         "
      ]
     },
     "metadata": {},
     "output_type": "display_data"
    }
   ],
   "source": [
    "data.train = data.frame(x1=c(1,2,3,4,5,6,7,8), x2=c(8,7,6,5,4,3,2,1), x3=c(1,1,2,2,3,3,4,4), out=c(\"A\", \"B\", \"A\", \"B\", \"A\", \"B\", \"A\", \"B\"))\n",
    "data.new = data.frame(x1=c(5,6,7,8), x2=c(8,7,6,5), x3=c(1,5,2,6), out=c(\"A\", \"A\", \"B\", \"B\"))\n",
    "cutoff = 0.6\n",
    "\n",
    "mymodel = naiveBayes(out ~ x1+x2+x3, data.train)\n",
    "postprob = predict(mymodel, data.new[,1:3], type=\"raw\")\n",
    "prediction = as.class.cutoff(postprob, cutoff) # based on relative size of posterior probability that exceeds cutoff\n",
    "\n",
    "postprob\n",
    "prediction\n",
    "cbind(data.new, prediction)"
   ]
  },
  {
   "cell_type": "markdown",
   "metadata": {},
   "source": [
    "<br>\n",
    "### Expectations\n",
    "___\n",
    "You should be able to demonstrate on understanding of ...\n",
    "* how to build a naive bayes model and predict class of new observations, conceptually and using R's `naiveBayes` and `predict` functions"
   ]
  },
  {
   "cell_type": "markdown",
   "metadata": {},
   "source": [
    "<br>\n",
    "### Further Reading\n",
    "___\n",
    "* http://ciml.info/dl/v0_99/ciml-v0_99-ch09.pdf\n",
    "* https://en.wikipedia.org/wiki/Naive_Bayes_classifier\n",
    "* https://web.as.uky.edu/statistics/users/pbreheny/764-F11/notes/11-1.pdf"
   ]
  },
  {
   "cell_type": "markdown",
   "metadata": {},
   "source": [
    "$\\tiny \\text{Copyright (c) Berkeley Data Analytics Group, LLC}$"
   ]
  }
 ],
 "metadata": {
  "hide_code_all_hidden": false,
  "hide_input": false,
  "kernelspec": {
   "display_name": "R",
   "language": "R",
   "name": "ir"
  },
  "language_info": {
   "codemirror_mode": "r",
   "file_extension": ".r",
   "mimetype": "text/x-r-source",
   "name": "R",
   "pygments_lexer": "r",
   "version": "3.4.2"
  }
 },
 "nbformat": 4,
 "nbformat_minor": 2
}
