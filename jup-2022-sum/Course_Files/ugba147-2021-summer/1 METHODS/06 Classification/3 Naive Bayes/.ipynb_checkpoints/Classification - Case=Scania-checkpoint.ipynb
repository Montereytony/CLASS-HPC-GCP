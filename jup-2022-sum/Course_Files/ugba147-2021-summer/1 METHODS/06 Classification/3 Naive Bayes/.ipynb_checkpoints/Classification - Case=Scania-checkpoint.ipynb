{
 "cells": [
  {
   "cell_type": "markdown",
   "metadata": {
    "hideCode": false,
    "hidePrompt": false
   },
   "source": [
    "#  Classification by Naive Bayes $\\,\\, \\tiny\\text{Analysis | Scania Trucks}$\n",
    "<img src=\"banner scania.jpg\" align=left />"
   ]
  },
  {
   "cell_type": "markdown",
   "metadata": {},
   "source": [
    "<br>\n",
    "### About the Business Situation & Data\n",
    "\n",
    "The datasets comprise maintenance records and measurements collected from sensors on heavy Scania trucks in everyday usage.  Specifically, the maintenance records address failures in the trucks' Air Pressure System (APS), which generates pressurized air utilized in various functions, such as braking and gear changes. The datasets' positive class indicates trucks with failures for a specific component of the APS system. The negative class indicates trucks with failures for components not related to the APS.  The larger dataset contains 60000 observations in which 59000 belong to the negative class and 1000 to the positive class. The smaller dataset contains new 16000 observations. There are 170 measurements per observation.  Missing values are denoted by \"na\".\n",
    "\n",
    "Acknowledgement: This dataset is part of the APS Failure and Operational Data for Scania Trucks, provided by UCI ML Repository.\n",
    "\n",
    "#### Objective\n",
    "Build various models to predict imminent APS failures, using one precictive analytic method (naive bayes) and various data preparations/representations.  Then use the models and various cutoffs to plan APS maintenance given new measurements.  For each model and cutoff, calculate and compare the costs of unnecssary maintenance and neglected maintenance."
   ]
  },
  {
   "cell_type": "markdown",
   "metadata": {},
   "source": [
    "<br>\n",
    "___\n",
    "### Apparatus"
   ]
  },
  {
   "cell_type": "code",
   "execution_count": 1,
   "metadata": {},
   "outputs": [],
   "source": [
    "options(warn=-1)\n",
    "\n",
    "# Load some required functions\n",
    "library(plyr,      verbose=FALSE, warn.conflicts=FALSE, quietly=TRUE)\n",
    "library(dplyr,     verbose=FALSE, warn.conflicts=FALSE, quietly=TRUE)\n",
    "library(e1071,     verbose=FALSE, warn.conflicts=FALSE, quietly=TRUE)\n",
    "library(caret,     verbose=FALSE, warn.conflicts=FALSE, quietly=TRUE)\n",
    "library(ggplot2,   verbose=FALSE, warn.conflicts=FALSE, quietly=TRUE)\n",
    "\n",
    "# Define some useful functions\n",
    "apply_each = function(d, f, ...) { aaply(1:ncol(d), 1 , function(j) f(d[,j], ...)) }\n",
    "impute.apply_each = function(d, f, ...) { a = apply_each(d, f, ...); for (j in 1:ncol(d)) d[is.na(d[,j]),j] = a[j]; d }\n",
    "impute.assign_each = function(d,a) { for (j in 1:ncol(d)) d[is.na(d[,j]),j] = a[j]; d }\n",
    "as.class.cutoff = function(postprob, cutoff=0.5) { factor(colnames(postprob)[2-as.numeric(postprob[,1]>=cutoff)]) }\n",
    "\n",
    "# Set some visualization constants\n",
    "restore = list(repr.plot.width=8, repr.plot.height=3)\n",
    "PALETTE = c(\"#00A9FF\", \"#F8766D\", \"#7CAE00\", \"#C77CFF\", \"#CD9600\", \"#00BE67\", \"#FF61CC\", \"#00BFC4\")\n",
    "theme.no_legend = theme(legend.position=\"none\")\n",
    "\n",
    "# Set some visualization formatting defaults\n",
    "options(restore)\n",
    "options(repr.matrix.max.cols=16)\n",
    "options(repr.matrix.max.rows=8)\n",
    "update_geom_defaults(\"col\", list(fill=PALETTE[3], colour=NA))                                  \n",
    "theme_update(plot.title=element_text(size=10, hjust=0.5), plot.subtitle=element_text(size=8, face=\"italic\", hjust=0.5), axis.title=element_text(size=7), axis.text=element_text(size=7), strip.text=element_text(size=7), strip.text.y=element_text(angle=90), legend.title=element_blank(), legend.text=element_text(size=7))"
   ]
  },
  {
   "cell_type": "markdown",
   "metadata": {},
   "source": [
    "<br>\n",
    "___\n",
    "### Cost Rates"
   ]
  },
  {
   "cell_type": "code",
   "execution_count": 2,
   "metadata": {},
   "outputs": [
    {
     "data": {
      "text/html": [
       "<table>\n",
       "<thead><tr><th scope=col>cost.unnecessary_check</th><th scope=col>cost.missed_failure</th></tr></thead>\n",
       "<tbody>\n",
       "\t<tr><td>10 </td><td>500</td></tr>\n",
       "</tbody>\n",
       "</table>\n"
      ],
      "text/latex": [
       "\\begin{tabular}{r|ll}\n",
       " cost.unnecessary\\_check & cost.missed\\_failure\\\\\n",
       "\\hline\n",
       "\t 10  & 500\\\\\n",
       "\\end{tabular}\n"
      ],
      "text/markdown": [
       "\n",
       "cost.unnecessary_check | cost.missed_failure | \n",
       "|---|\n",
       "| 10  | 500 | \n",
       "\n",
       "\n"
      ],
      "text/plain": [
       "  cost.unnecessary_check cost.missed_failure\n",
       "1 10                     500                "
      ]
     },
     "metadata": {},
     "output_type": "display_data"
    }
   ],
   "source": [
    "cost.unnecessary_check = 10\n",
    "cost.missed_failure = 500\n",
    "\n",
    "data.frame(cost.unnecessary_check, cost.missed_failure)"
   ]
  },
  {
   "cell_type": "markdown",
   "metadata": {},
   "source": [
    "<br>\n",
    "___\n",
    "### Data Retrieval\n",
    "\n",
    "#### Retrieve the raw data.  This is `data.raw`."
   ]
  },
  {
   "cell_type": "code",
   "execution_count": 3,
   "metadata": {
    "hideCode": false,
    "hidePrompt": false,
    "run_control": {
     "marked": false
    },
    "scrolled": true
   },
   "outputs": [
    {
     "data": {
      "text/html": [
       "<ol class=list-inline>\n",
       "\t<li>60000</li>\n",
       "\t<li>171</li>\n",
       "</ol>\n"
      ],
      "text/latex": [
       "\\begin{enumerate*}\n",
       "\\item 60000\n",
       "\\item 171\n",
       "\\end{enumerate*}\n"
      ],
      "text/markdown": [
       "1. 60000\n",
       "2. 171\n",
       "\n",
       "\n"
      ],
      "text/plain": [
       "[1] 60000   171"
      ]
     },
     "metadata": {},
     "output_type": "display_data"
    },
    {
     "data": {
      "text/html": [
       "<table>\n",
       "<thead><tr><th scope=col>class</th><th scope=col>aa_000</th><th scope=col>ab_000</th><th scope=col>ac_000</th><th scope=col>ad_000</th><th scope=col>ae_000</th><th scope=col>af_000</th><th scope=col>ag_000</th><th scope=col>...</th><th scope=col>ee_004</th><th scope=col>ee_005</th><th scope=col>ee_006</th><th scope=col>ee_007</th><th scope=col>ee_008</th><th scope=col>ee_009</th><th scope=col>ef_000</th><th scope=col>eg_000</th></tr></thead>\n",
       "<tbody>\n",
       "\t<tr><td>neg       </td><td>76698     </td><td>NA        </td><td>2130706438</td><td>280       </td><td>0         </td><td> 0        </td><td>0         </td><td>...       </td><td>721044    </td><td>469792    </td><td>339156    </td><td>157956    </td><td>73224     </td><td>   0      </td><td>0         </td><td> 0        </td></tr>\n",
       "\t<tr><td>neg       </td><td>33058     </td><td>NA        </td><td>         0</td><td> NA       </td><td>0         </td><td> 0        </td><td>0         </td><td>...       </td><td>293306    </td><td>245416    </td><td>133654    </td><td> 81140    </td><td>97576     </td><td>1500      </td><td>0         </td><td> 0        </td></tr>\n",
       "\t<tr><td>neg       </td><td>41040     </td><td>NA        </td><td>       228</td><td>100       </td><td>0         </td><td> 0        </td><td>0         </td><td>...       </td><td>423992    </td><td>409564    </td><td>320746    </td><td>158022    </td><td>95128     </td><td> 514      </td><td>0         </td><td> 0        </td></tr>\n",
       "\t<tr><td>neg       </td><td>   12     </td><td> 0        </td><td>        70</td><td> 66       </td><td>0         </td><td>10        </td><td>0         </td><td>...       </td><td>    58    </td><td>    44    </td><td>    10    </td><td>     0    </td><td>    0     </td><td>   0      </td><td>4         </td><td>32        </td></tr>\n",
       "\t<tr><td>...</td><td>...</td><td>...</td><td>...</td><td>...</td><td>...</td><td>...</td><td>...</td><td>   </td><td>...</td><td>...</td><td>...</td><td>...</td><td>...</td><td>...</td><td>...</td><td>...</td></tr>\n",
       "\t<tr><td>neg       </td><td> 2286     </td><td>NA        </td><td>2130706538</td><td>224       </td><td>0         </td><td>0         </td><td>0         </td><td>...       </td><td> 21126    </td><td> 68424    </td><td>   136    </td><td>     0    </td><td>     0    </td><td>     0    </td><td>0         </td><td>0         </td></tr>\n",
       "\t<tr><td>neg       </td><td>  112     </td><td> 0        </td><td>2130706432</td><td> 18       </td><td>0         </td><td>0         </td><td>0         </td><td>...       </td><td>   452    </td><td>   144    </td><td>   146    </td><td>  2622    </td><td>     0    </td><td>     0    </td><td>0         </td><td>0         </td></tr>\n",
       "\t<tr><td>neg       </td><td>80292     </td><td>NA        </td><td>2130706432</td><td>494       </td><td>0         </td><td>0         </td><td>0         </td><td>...       </td><td>347378    </td><td>225724    </td><td>194440    </td><td>165070    </td><td>802280    </td><td>388422    </td><td>0         </td><td>0         </td></tr>\n",
       "\t<tr><td>neg       </td><td>40222     </td><td>NA        </td><td>       698</td><td>628       </td><td>0         </td><td>0         </td><td>0         </td><td>...       </td><td>344546    </td><td>254068    </td><td>225148    </td><td>158304    </td><td>170384    </td><td>   158    </td><td>0         </td><td>0         </td></tr>\n",
       "</tbody>\n",
       "</table>\n"
      ],
      "text/latex": [
       "\\begin{tabular}{r|lllllllllllllllllllllllllllllllllllllllllllllllllllllllllllllllllllllllllllllllllllllllllllllllllllllllllllllllllllllllllllllllllllllllllllllllllllllllllllllllllllllllllll}\n",
       " class & aa\\_000 & ab\\_000 & ac\\_000 & ad\\_000 & ae\\_000 & af\\_000 & ag\\_000 & ... & ee\\_004 & ee\\_005 & ee\\_006 & ee\\_007 & ee\\_008 & ee\\_009 & ef\\_000 & eg\\_000\\\\\n",
       "\\hline\n",
       "\t neg        & 76698      & NA         & 2130706438 & 280        & 0          &  0         & 0          & ...        & 721044     & 469792     & 339156     & 157956     & 73224      &    0       & 0          &  0        \\\\\n",
       "\t neg        & 33058      & NA         &          0 &  NA        & 0          &  0         & 0          & ...        & 293306     & 245416     & 133654     &  81140     & 97576      & 1500       & 0          &  0        \\\\\n",
       "\t neg        & 41040      & NA         &        228 & 100        & 0          &  0         & 0          & ...        & 423992     & 409564     & 320746     & 158022     & 95128      &  514       & 0          &  0        \\\\\n",
       "\t neg        &    12      &  0         &         70 &  66        & 0          & 10         & 0          & ...        &     58     &     44     &     10     &      0     &     0      &    0       & 4          & 32        \\\\\n",
       "\t ... & ... & ... & ... & ... & ... & ... & ... &     & ... & ... & ... & ... & ... & ... & ... & ...\\\\\n",
       "\t neg        &  2286      & NA         & 2130706538 & 224        & 0          & 0          & 0          & ...        &  21126     &  68424     &    136     &      0     &      0     &      0     & 0          & 0         \\\\\n",
       "\t neg        &   112      &  0         & 2130706432 &  18        & 0          & 0          & 0          & ...        &    452     &    144     &    146     &   2622     &      0     &      0     & 0          & 0         \\\\\n",
       "\t neg        & 80292      & NA         & 2130706432 & 494        & 0          & 0          & 0          & ...        & 347378     & 225724     & 194440     & 165070     & 802280     & 388422     & 0          & 0         \\\\\n",
       "\t neg        & 40222      & NA         &        698 & 628        & 0          & 0          & 0          & ...        & 344546     & 254068     & 225148     & 158304     & 170384     &    158     & 0          & 0         \\\\\n",
       "\\end{tabular}\n"
      ],
      "text/markdown": [
       "\n",
       "class | aa_000 | ab_000 | ac_000 | ad_000 | ae_000 | af_000 | ag_000 | ... | ee_004 | ee_005 | ee_006 | ee_007 | ee_008 | ee_009 | ef_000 | eg_000 | \n",
       "|---|---|---|---|---|---|---|---|---|\n",
       "| neg        | 76698      | NA         | 2130706438 | 280        | 0          |  0         | 0          | ...        | 721044     | 469792     | 339156     | 157956     | 73224      |    0       | 0          |  0         | \n",
       "| neg        | 33058      | NA         |          0 |  NA        | 0          |  0         | 0          | ...        | 293306     | 245416     | 133654     |  81140     | 97576      | 1500       | 0          |  0         | \n",
       "| neg        | 41040      | NA         |        228 | 100        | 0          |  0         | 0          | ...        | 423992     | 409564     | 320746     | 158022     | 95128      |  514       | 0          |  0         | \n",
       "| neg        |    12      |  0         |         70 |  66        | 0          | 10         | 0          | ...        |     58     |     44     |     10     |      0     |     0      |    0       | 4          | 32         | \n",
       "| ... | ... | ... | ... | ... | ... | ... | ... |     | ... | ... | ... | ... | ... | ... | ... | ... | \n",
       "| neg        |  2286      | NA         | 2130706538 | 224        | 0          | 0          | 0          | ...        |  21126     |  68424     |    136     |      0     |      0     |      0     | 0          | 0          | \n",
       "| neg        |   112      |  0         | 2130706432 |  18        | 0          | 0          | 0          | ...        |    452     |    144     |    146     |   2622     |      0     |      0     | 0          | 0          | \n",
       "| neg        | 80292      | NA         | 2130706432 | 494        | 0          | 0          | 0          | ...        | 347378     | 225724     | 194440     | 165070     | 802280     | 388422     | 0          | 0          | \n",
       "| neg        | 40222      | NA         |        698 | 628        | 0          | 0          | 0          | ...        | 344546     | 254068     | 225148     | 158304     | 170384     |    158     | 0          | 0          | \n",
       "\n",
       "\n"
      ],
      "text/plain": [
       "      class aa_000 ab_000 ac_000     ad_000 ae_000 af_000 ag_000 ... ee_004\n",
       "1     neg   76698  NA     2130706438 280    0       0     0      ... 721044\n",
       "2     neg   33058  NA              0  NA    0       0     0      ... 293306\n",
       "3     neg   41040  NA            228 100    0       0     0      ... 423992\n",
       "4     neg      12   0             70  66    0      10     0      ...     58\n",
       "...   ...   ...    ...    ...        ...    ...    ...    ...        ...   \n",
       "59997 neg    2286  NA     2130706538 224    0      0      0      ...  21126\n",
       "59998 neg     112   0     2130706432  18    0      0      0      ...    452\n",
       "59999 neg   80292  NA     2130706432 494    0      0      0      ... 347378\n",
       "60000 neg   40222  NA            698 628    0      0      0      ... 344546\n",
       "      ee_005 ee_006 ee_007 ee_008 ee_009 ef_000 eg_000\n",
       "1     469792 339156 157956 73224     0   0       0    \n",
       "2     245416 133654  81140 97576  1500   0       0    \n",
       "3     409564 320746 158022 95128   514   0       0    \n",
       "4         44     10      0     0     0   4      32    \n",
       "...   ...    ...    ...    ...    ...    ...    ...   \n",
       "59997  68424    136      0      0      0 0      0     \n",
       "59998    144    146   2622      0      0 0      0     \n",
       "59999 225724 194440 165070 802280 388422 0      0     \n",
       "60000 254068 225148 158304 170384    158 0      0     "
      ]
     },
     "metadata": {},
     "output_type": "display_data"
    }
   ],
   "source": [
    "data = read.csv(\"../DATASETS/DATASET Scania.csv\", na.strings=\"na\") # make take about 30 seconds\n",
    "dim(data)\n",
    "data"
   ]
  },
  {
   "cell_type": "markdown",
   "metadata": {},
   "source": [
    "<br>\n",
    "___\n",
    "### Model 1: Based on Data  \n",
    "\n",
    "Rename classes, for convenience.  This is `data.1`."
   ]
  },
  {
   "cell_type": "code",
   "execution_count": 4,
   "metadata": {
    "scrolled": true
   },
   "outputs": [
    {
     "data": {
      "text/html": [
       "<ol class=list-inline>\n",
       "\t<li>60000</li>\n",
       "\t<li>171</li>\n",
       "</ol>\n"
      ],
      "text/latex": [
       "\\begin{enumerate*}\n",
       "\\item 60000\n",
       "\\item 171\n",
       "\\end{enumerate*}\n"
      ],
      "text/markdown": [
       "1. 60000\n",
       "2. 171\n",
       "\n",
       "\n"
      ],
      "text/plain": [
       "[1] 60000   171"
      ]
     },
     "metadata": {},
     "output_type": "display_data"
    },
    {
     "data": {
      "text/html": [
       "<table>\n",
       "<thead><tr><th scope=col>class</th><th scope=col>aa_000</th><th scope=col>ab_000</th><th scope=col>ac_000</th><th scope=col>ad_000</th><th scope=col>ae_000</th><th scope=col>af_000</th><th scope=col>ag_000</th><th scope=col>...</th><th scope=col>ee_004</th><th scope=col>ee_005</th><th scope=col>ee_006</th><th scope=col>ee_007</th><th scope=col>ee_008</th><th scope=col>ee_009</th><th scope=col>ef_000</th><th scope=col>eg_000</th></tr></thead>\n",
       "<tbody>\n",
       "\t<tr><td>ok        </td><td>76698     </td><td>NA        </td><td>2130706438</td><td>280       </td><td>0         </td><td> 0        </td><td>0         </td><td>...       </td><td>721044    </td><td>469792    </td><td>339156    </td><td>157956    </td><td>73224     </td><td>   0      </td><td>0         </td><td> 0        </td></tr>\n",
       "\t<tr><td>ok        </td><td>33058     </td><td>NA        </td><td>         0</td><td> NA       </td><td>0         </td><td> 0        </td><td>0         </td><td>...       </td><td>293306    </td><td>245416    </td><td>133654    </td><td> 81140    </td><td>97576     </td><td>1500      </td><td>0         </td><td> 0        </td></tr>\n",
       "\t<tr><td>ok        </td><td>41040     </td><td>NA        </td><td>       228</td><td>100       </td><td>0         </td><td> 0        </td><td>0         </td><td>...       </td><td>423992    </td><td>409564    </td><td>320746    </td><td>158022    </td><td>95128     </td><td> 514      </td><td>0         </td><td> 0        </td></tr>\n",
       "\t<tr><td>ok        </td><td>   12     </td><td> 0        </td><td>        70</td><td> 66       </td><td>0         </td><td>10        </td><td>0         </td><td>...       </td><td>    58    </td><td>    44    </td><td>    10    </td><td>     0    </td><td>    0     </td><td>   0      </td><td>4         </td><td>32        </td></tr>\n",
       "\t<tr><td>...</td><td>...</td><td>...</td><td>...</td><td>...</td><td>...</td><td>...</td><td>...</td><td>   </td><td>...</td><td>...</td><td>...</td><td>...</td><td>...</td><td>...</td><td>...</td><td>...</td></tr>\n",
       "\t<tr><td>ok        </td><td> 2286     </td><td>NA        </td><td>2130706538</td><td>224       </td><td>0         </td><td>0         </td><td>0         </td><td>...       </td><td> 21126    </td><td> 68424    </td><td>   136    </td><td>     0    </td><td>     0    </td><td>     0    </td><td>0         </td><td>0         </td></tr>\n",
       "\t<tr><td>ok        </td><td>  112     </td><td> 0        </td><td>2130706432</td><td> 18       </td><td>0         </td><td>0         </td><td>0         </td><td>...       </td><td>   452    </td><td>   144    </td><td>   146    </td><td>  2622    </td><td>     0    </td><td>     0    </td><td>0         </td><td>0         </td></tr>\n",
       "\t<tr><td>ok        </td><td>80292     </td><td>NA        </td><td>2130706432</td><td>494       </td><td>0         </td><td>0         </td><td>0         </td><td>...       </td><td>347378    </td><td>225724    </td><td>194440    </td><td>165070    </td><td>802280    </td><td>388422    </td><td>0         </td><td>0         </td></tr>\n",
       "\t<tr><td>ok        </td><td>40222     </td><td>NA        </td><td>       698</td><td>628       </td><td>0         </td><td>0         </td><td>0         </td><td>...       </td><td>344546    </td><td>254068    </td><td>225148    </td><td>158304    </td><td>170384    </td><td>   158    </td><td>0         </td><td>0         </td></tr>\n",
       "</tbody>\n",
       "</table>\n"
      ],
      "text/latex": [
       "\\begin{tabular}{r|lllllllllllllllllllllllllllllllllllllllllllllllllllllllllllllllllllllllllllllllllllllllllllllllllllllllllllllllllllllllllllllllllllllllllllllllllllllllllllllllllllllllllll}\n",
       " class & aa\\_000 & ab\\_000 & ac\\_000 & ad\\_000 & ae\\_000 & af\\_000 & ag\\_000 & ... & ee\\_004 & ee\\_005 & ee\\_006 & ee\\_007 & ee\\_008 & ee\\_009 & ef\\_000 & eg\\_000\\\\\n",
       "\\hline\n",
       "\t ok         & 76698      & NA         & 2130706438 & 280        & 0          &  0         & 0          & ...        & 721044     & 469792     & 339156     & 157956     & 73224      &    0       & 0          &  0        \\\\\n",
       "\t ok         & 33058      & NA         &          0 &  NA        & 0          &  0         & 0          & ...        & 293306     & 245416     & 133654     &  81140     & 97576      & 1500       & 0          &  0        \\\\\n",
       "\t ok         & 41040      & NA         &        228 & 100        & 0          &  0         & 0          & ...        & 423992     & 409564     & 320746     & 158022     & 95128      &  514       & 0          &  0        \\\\\n",
       "\t ok         &    12      &  0         &         70 &  66        & 0          & 10         & 0          & ...        &     58     &     44     &     10     &      0     &     0      &    0       & 4          & 32        \\\\\n",
       "\t ... & ... & ... & ... & ... & ... & ... & ... &     & ... & ... & ... & ... & ... & ... & ... & ...\\\\\n",
       "\t ok         &  2286      & NA         & 2130706538 & 224        & 0          & 0          & 0          & ...        &  21126     &  68424     &    136     &      0     &      0     &      0     & 0          & 0         \\\\\n",
       "\t ok         &   112      &  0         & 2130706432 &  18        & 0          & 0          & 0          & ...        &    452     &    144     &    146     &   2622     &      0     &      0     & 0          & 0         \\\\\n",
       "\t ok         & 80292      & NA         & 2130706432 & 494        & 0          & 0          & 0          & ...        & 347378     & 225724     & 194440     & 165070     & 802280     & 388422     & 0          & 0         \\\\\n",
       "\t ok         & 40222      & NA         &        698 & 628        & 0          & 0          & 0          & ...        & 344546     & 254068     & 225148     & 158304     & 170384     &    158     & 0          & 0         \\\\\n",
       "\\end{tabular}\n"
      ],
      "text/markdown": [
       "\n",
       "class | aa_000 | ab_000 | ac_000 | ad_000 | ae_000 | af_000 | ag_000 | ... | ee_004 | ee_005 | ee_006 | ee_007 | ee_008 | ee_009 | ef_000 | eg_000 | \n",
       "|---|---|---|---|---|---|---|---|---|\n",
       "| ok         | 76698      | NA         | 2130706438 | 280        | 0          |  0         | 0          | ...        | 721044     | 469792     | 339156     | 157956     | 73224      |    0       | 0          |  0         | \n",
       "| ok         | 33058      | NA         |          0 |  NA        | 0          |  0         | 0          | ...        | 293306     | 245416     | 133654     |  81140     | 97576      | 1500       | 0          |  0         | \n",
       "| ok         | 41040      | NA         |        228 | 100        | 0          |  0         | 0          | ...        | 423992     | 409564     | 320746     | 158022     | 95128      |  514       | 0          |  0         | \n",
       "| ok         |    12      |  0         |         70 |  66        | 0          | 10         | 0          | ...        |     58     |     44     |     10     |      0     |     0      |    0       | 4          | 32         | \n",
       "| ... | ... | ... | ... | ... | ... | ... | ... |     | ... | ... | ... | ... | ... | ... | ... | ... | \n",
       "| ok         |  2286      | NA         | 2130706538 | 224        | 0          | 0          | 0          | ...        |  21126     |  68424     |    136     |      0     |      0     |      0     | 0          | 0          | \n",
       "| ok         |   112      |  0         | 2130706432 |  18        | 0          | 0          | 0          | ...        |    452     |    144     |    146     |   2622     |      0     |      0     | 0          | 0          | \n",
       "| ok         | 80292      | NA         | 2130706432 | 494        | 0          | 0          | 0          | ...        | 347378     | 225724     | 194440     | 165070     | 802280     | 388422     | 0          | 0          | \n",
       "| ok         | 40222      | NA         |        698 | 628        | 0          | 0          | 0          | ...        | 344546     | 254068     | 225148     | 158304     | 170384     |    158     | 0          | 0          | \n",
       "\n",
       "\n"
      ],
      "text/plain": [
       "      class aa_000 ab_000 ac_000     ad_000 ae_000 af_000 ag_000 ... ee_004\n",
       "1     ok    76698  NA     2130706438 280    0       0     0      ... 721044\n",
       "2     ok    33058  NA              0  NA    0       0     0      ... 293306\n",
       "3     ok    41040  NA            228 100    0       0     0      ... 423992\n",
       "4     ok       12   0             70  66    0      10     0      ...     58\n",
       "...   ...   ...    ...    ...        ...    ...    ...    ...        ...   \n",
       "59997 ok     2286  NA     2130706538 224    0      0      0      ...  21126\n",
       "59998 ok      112   0     2130706432  18    0      0      0      ...    452\n",
       "59999 ok    80292  NA     2130706432 494    0      0      0      ... 347378\n",
       "60000 ok    40222  NA            698 628    0      0      0      ... 344546\n",
       "      ee_005 ee_006 ee_007 ee_008 ee_009 ef_000 eg_000\n",
       "1     469792 339156 157956 73224     0   0       0    \n",
       "2     245416 133654  81140 97576  1500   0       0    \n",
       "3     409564 320746 158022 95128   514   0       0    \n",
       "4         44     10      0     0     0   4      32    \n",
       "...   ...    ...    ...    ...    ...    ...    ...   \n",
       "59997  68424    136      0      0      0 0      0     \n",
       "59998    144    146   2622      0      0 0      0     \n",
       "59999 225724 194440 165070 802280 388422 0      0     \n",
       "60000 254068 225148 158304 170384    158 0      0     "
      ]
     },
     "metadata": {},
     "output_type": "display_data"
    }
   ],
   "source": [
    "data.1 = data\n",
    "data.1$class = factor(data$class, levels=c(\"pos\",\"neg\"), labels=c(\"failure\",\"ok\"))\n",
    "dim(data.1)\n",
    "data.1"
   ]
  },
  {
   "cell_type": "markdown",
   "metadata": {},
   "source": [
    "<br>\n",
    "#### Build models & check in-sample performance."
   ]
  },
  {
   "cell_type": "code",
   "execution_count": 5,
   "metadata": {},
   "outputs": [],
   "source": [
    "mymodel.1 = naiveBayes(class ~ ., data.1)"
   ]
  },
  {
   "cell_type": "code",
   "execution_count": 6,
   "metadata": {
    "scrolled": true
   },
   "outputs": [
    {
     "data": {
      "text/plain": [
       "          Reference\n",
       "Prediction failure    ok\n",
       "   failure     877  2002\n",
       "   ok          123 56998"
      ]
     },
     "metadata": {},
     "output_type": "display_data"
    },
    {
     "data": {
      "text/plain": [
       "          Reference\n",
       "Prediction    failure         ok\n",
       "   failure 0.01461667 0.03336667\n",
       "   ok      0.00205000 0.94996667"
      ]
     },
     "metadata": {},
     "output_type": "display_data"
    }
   ],
   "source": [
    "cutoff = 0.5\n",
    "prob = predict(mymodel.1, data.1, type=\"raw\") # make take about 5 minutes\n",
    "prediction = as.class.cutoff(prob, cutoff)\n",
    "cm = confusionMatrix(prediction, data.1$class)$table\n",
    "\n",
    "cm\n",
    "cm / nrow(data.1)"
   ]
  },
  {
   "cell_type": "code",
   "execution_count": 7,
   "metadata": {
    "scrolled": true
   },
   "outputs": [
    {
     "data": {
      "text/plain": [
       "          Reference\n",
       "Prediction failure    ok\n",
       "   failure     879  2011\n",
       "   ok          121 56989"
      ]
     },
     "metadata": {},
     "output_type": "display_data"
    },
    {
     "data": {
      "text/plain": [
       "          Reference\n",
       "Prediction     failure          ok\n",
       "   failure 0.014650000 0.033516667\n",
       "   ok      0.002016667 0.949816667"
      ]
     },
     "metadata": {},
     "output_type": "display_data"
    }
   ],
   "source": [
    "cutoff = 0.25\n",
    "prob = predict(mymodel.1, data.1, type=\"raw\") # make take about 5 minutes\n",
    "prediction = as.class.cutoff(prob, cutoff)\n",
    "cm = confusionMatrix(prediction, data.1$class)$table\n",
    "\n",
    "cm\n",
    "cm / nrow(data.1)"
   ]
  },
  {
   "cell_type": "markdown",
   "metadata": {},
   "source": [
    "<br>\n",
    "___\n",
    "### Model 2: Based on Imputed Data  \n",
    "\n",
    "Impute missing data based on mean per column.  This is `data.2`."
   ]
  },
  {
   "cell_type": "code",
   "execution_count": 8,
   "metadata": {
    "scrolled": true
   },
   "outputs": [
    {
     "data": {
      "text/html": [
       "<ol class=list-inline>\n",
       "\t<li>60000</li>\n",
       "\t<li>171</li>\n",
       "</ol>\n"
      ],
      "text/latex": [
       "\\begin{enumerate*}\n",
       "\\item 60000\n",
       "\\item 171\n",
       "\\end{enumerate*}\n"
      ],
      "text/markdown": [
       "1. 60000\n",
       "2. 171\n",
       "\n",
       "\n"
      ],
      "text/plain": [
       "[1] 60000   171"
      ]
     },
     "metadata": {},
     "output_type": "display_data"
    },
    {
     "data": {
      "text/html": [
       "<table>\n",
       "<thead><tr><th scope=col>class</th><th scope=col>aa_000</th><th scope=col>ab_000</th><th scope=col>ac_000</th><th scope=col>ad_000</th><th scope=col>ae_000</th><th scope=col>af_000</th><th scope=col>ag_000</th><th scope=col>...</th><th scope=col>ee_004</th><th scope=col>ee_005</th><th scope=col>ee_006</th><th scope=col>ee_007</th><th scope=col>ee_008</th><th scope=col>ee_009</th><th scope=col>ef_000</th><th scope=col>eg_000</th></tr></thead>\n",
       "<tbody>\n",
       "\t<tr><td>ok        </td><td>76698     </td><td>0.7131885 </td><td>2130706438</td><td>   280.0  </td><td>0         </td><td> 0        </td><td>0         </td><td>...       </td><td>721044    </td><td>469792    </td><td>339156    </td><td>157956    </td><td>73224     </td><td>   0      </td><td>0         </td><td> 0        </td></tr>\n",
       "\t<tr><td>ok        </td><td>33058     </td><td>0.7131885 </td><td>         0</td><td>190620.6  </td><td>0         </td><td> 0        </td><td>0         </td><td>...       </td><td>293306    </td><td>245416    </td><td>133654    </td><td> 81140    </td><td>97576     </td><td>1500      </td><td>0         </td><td> 0        </td></tr>\n",
       "\t<tr><td>ok        </td><td>41040     </td><td>0.7131885 </td><td>       228</td><td>   100.0  </td><td>0         </td><td> 0        </td><td>0         </td><td>...       </td><td>423992    </td><td>409564    </td><td>320746    </td><td>158022    </td><td>95128     </td><td> 514      </td><td>0         </td><td> 0        </td></tr>\n",
       "\t<tr><td>ok        </td><td>   12     </td><td>0.0000000 </td><td>        70</td><td>    66.0  </td><td>0         </td><td>10        </td><td>0         </td><td>...       </td><td>    58    </td><td>    44    </td><td>    10    </td><td>     0    </td><td>    0     </td><td>   0      </td><td>4         </td><td>32        </td></tr>\n",
       "\t<tr><td>...</td><td>...</td><td>...</td><td>...</td><td>...</td><td>...</td><td>...</td><td>...</td><td>   </td><td>...</td><td>...</td><td>...</td><td>...</td><td>...</td><td>...</td><td>...</td><td>...</td></tr>\n",
       "\t<tr><td>ok        </td><td> 2286     </td><td>0.7131885 </td><td>2130706538</td><td>224       </td><td>0         </td><td>0         </td><td>0         </td><td>...       </td><td> 21126    </td><td> 68424    </td><td>   136    </td><td>     0    </td><td>     0    </td><td>     0    </td><td>0         </td><td>0         </td></tr>\n",
       "\t<tr><td>ok        </td><td>  112     </td><td>0.0000000 </td><td>2130706432</td><td> 18       </td><td>0         </td><td>0         </td><td>0         </td><td>...       </td><td>   452    </td><td>   144    </td><td>   146    </td><td>  2622    </td><td>     0    </td><td>     0    </td><td>0         </td><td>0         </td></tr>\n",
       "\t<tr><td>ok        </td><td>80292     </td><td>0.7131885 </td><td>2130706432</td><td>494       </td><td>0         </td><td>0         </td><td>0         </td><td>...       </td><td>347378    </td><td>225724    </td><td>194440    </td><td>165070    </td><td>802280    </td><td>388422    </td><td>0         </td><td>0         </td></tr>\n",
       "\t<tr><td>ok        </td><td>40222     </td><td>0.7131885 </td><td>       698</td><td>628       </td><td>0         </td><td>0         </td><td>0         </td><td>...       </td><td>344546    </td><td>254068    </td><td>225148    </td><td>158304    </td><td>170384    </td><td>   158    </td><td>0         </td><td>0         </td></tr>\n",
       "</tbody>\n",
       "</table>\n"
      ],
      "text/latex": [
       "\\begin{tabular}{r|lllllllllllllllllllllllllllllllllllllllllllllllllllllllllllllllllllllllllllllllllllllllllllllllllllllllllllllllllllllllllllllllllllllllllllllllllllllllllllllllllllllllllll}\n",
       " class & aa\\_000 & ab\\_000 & ac\\_000 & ad\\_000 & ae\\_000 & af\\_000 & ag\\_000 & ... & ee\\_004 & ee\\_005 & ee\\_006 & ee\\_007 & ee\\_008 & ee\\_009 & ef\\_000 & eg\\_000\\\\\n",
       "\\hline\n",
       "\t ok         & 76698      & 0.7131885  & 2130706438 &    280.0   & 0          &  0         & 0          & ...        & 721044     & 469792     & 339156     & 157956     & 73224      &    0       & 0          &  0        \\\\\n",
       "\t ok         & 33058      & 0.7131885  &          0 & 190620.6   & 0          &  0         & 0          & ...        & 293306     & 245416     & 133654     &  81140     & 97576      & 1500       & 0          &  0        \\\\\n",
       "\t ok         & 41040      & 0.7131885  &        228 &    100.0   & 0          &  0         & 0          & ...        & 423992     & 409564     & 320746     & 158022     & 95128      &  514       & 0          &  0        \\\\\n",
       "\t ok         &    12      & 0.0000000  &         70 &     66.0   & 0          & 10         & 0          & ...        &     58     &     44     &     10     &      0     &     0      &    0       & 4          & 32        \\\\\n",
       "\t ... & ... & ... & ... & ... & ... & ... & ... &     & ... & ... & ... & ... & ... & ... & ... & ...\\\\\n",
       "\t ok         &  2286      & 0.7131885  & 2130706538 & 224        & 0          & 0          & 0          & ...        &  21126     &  68424     &    136     &      0     &      0     &      0     & 0          & 0         \\\\\n",
       "\t ok         &   112      & 0.0000000  & 2130706432 &  18        & 0          & 0          & 0          & ...        &    452     &    144     &    146     &   2622     &      0     &      0     & 0          & 0         \\\\\n",
       "\t ok         & 80292      & 0.7131885  & 2130706432 & 494        & 0          & 0          & 0          & ...        & 347378     & 225724     & 194440     & 165070     & 802280     & 388422     & 0          & 0         \\\\\n",
       "\t ok         & 40222      & 0.7131885  &        698 & 628        & 0          & 0          & 0          & ...        & 344546     & 254068     & 225148     & 158304     & 170384     &    158     & 0          & 0         \\\\\n",
       "\\end{tabular}\n"
      ],
      "text/markdown": [
       "\n",
       "class | aa_000 | ab_000 | ac_000 | ad_000 | ae_000 | af_000 | ag_000 | ... | ee_004 | ee_005 | ee_006 | ee_007 | ee_008 | ee_009 | ef_000 | eg_000 | \n",
       "|---|---|---|---|---|---|---|---|---|\n",
       "| ok         | 76698      | 0.7131885  | 2130706438 |    280.0   | 0          |  0         | 0          | ...        | 721044     | 469792     | 339156     | 157956     | 73224      |    0       | 0          |  0         | \n",
       "| ok         | 33058      | 0.7131885  |          0 | 190620.6   | 0          |  0         | 0          | ...        | 293306     | 245416     | 133654     |  81140     | 97576      | 1500       | 0          |  0         | \n",
       "| ok         | 41040      | 0.7131885  |        228 |    100.0   | 0          |  0         | 0          | ...        | 423992     | 409564     | 320746     | 158022     | 95128      |  514       | 0          |  0         | \n",
       "| ok         |    12      | 0.0000000  |         70 |     66.0   | 0          | 10         | 0          | ...        |     58     |     44     |     10     |      0     |     0      |    0       | 4          | 32         | \n",
       "| ... | ... | ... | ... | ... | ... | ... | ... |     | ... | ... | ... | ... | ... | ... | ... | ... | \n",
       "| ok         |  2286      | 0.7131885  | 2130706538 | 224        | 0          | 0          | 0          | ...        |  21126     |  68424     |    136     |      0     |      0     |      0     | 0          | 0          | \n",
       "| ok         |   112      | 0.0000000  | 2130706432 |  18        | 0          | 0          | 0          | ...        |    452     |    144     |    146     |   2622     |      0     |      0     | 0          | 0          | \n",
       "| ok         | 80292      | 0.7131885  | 2130706432 | 494        | 0          | 0          | 0          | ...        | 347378     | 225724     | 194440     | 165070     | 802280     | 388422     | 0          | 0          | \n",
       "| ok         | 40222      | 0.7131885  |        698 | 628        | 0          | 0          | 0          | ...        | 344546     | 254068     | 225148     | 158304     | 170384     |    158     | 0          | 0          | \n",
       "\n",
       "\n"
      ],
      "text/plain": [
       "      class aa_000 ab_000    ac_000     ad_000   ae_000 af_000 ag_000 ...\n",
       "1     ok    76698  0.7131885 2130706438    280.0 0       0     0      ...\n",
       "2     ok    33058  0.7131885          0 190620.6 0       0     0      ...\n",
       "3     ok    41040  0.7131885        228    100.0 0       0     0      ...\n",
       "4     ok       12  0.0000000         70     66.0 0      10     0      ...\n",
       "...   ...   ...    ...       ...        ...      ...    ...    ...       \n",
       "59997 ok     2286  0.7131885 2130706538 224      0      0      0      ...\n",
       "59998 ok      112  0.0000000 2130706432  18      0      0      0      ...\n",
       "59999 ok    80292  0.7131885 2130706432 494      0      0      0      ...\n",
       "60000 ok    40222  0.7131885        698 628      0      0      0      ...\n",
       "      ee_004 ee_005 ee_006 ee_007 ee_008 ee_009 ef_000 eg_000\n",
       "1     721044 469792 339156 157956 73224     0   0       0    \n",
       "2     293306 245416 133654  81140 97576  1500   0       0    \n",
       "3     423992 409564 320746 158022 95128   514   0       0    \n",
       "4         58     44     10      0     0     0   4      32    \n",
       "...   ...    ...    ...    ...    ...    ...    ...    ...   \n",
       "59997  21126  68424    136      0      0      0 0      0     \n",
       "59998    452    144    146   2622      0      0 0      0     \n",
       "59999 347378 225724 194440 165070 802280 388422 0      0     \n",
       "60000 344546 254068 225148 158304 170384    158 0      0     "
      ]
     },
     "metadata": {},
     "output_type": "display_data"
    }
   ],
   "source": [
    "data.2 = impute.apply_each(data.1, mean, na.rm=TRUE)\n",
    "dim(data.2)\n",
    "data.2"
   ]
  },
  {
   "cell_type": "markdown",
   "metadata": {},
   "source": [
    "<br>\n",
    "#### Build models & check in-sample performance."
   ]
  },
  {
   "cell_type": "code",
   "execution_count": 9,
   "metadata": {},
   "outputs": [],
   "source": [
    "mymodel.2 = naiveBayes(class ~ ., data.2)"
   ]
  },
  {
   "cell_type": "code",
   "execution_count": 10,
   "metadata": {},
   "outputs": [
    {
     "data": {
      "text/plain": [
       "          Reference\n",
       "Prediction failure    ok\n",
       "   failure     878  1981\n",
       "   ok          122 57019"
      ]
     },
     "metadata": {},
     "output_type": "display_data"
    },
    {
     "data": {
      "text/plain": [
       "          Reference\n",
       "Prediction     failure          ok\n",
       "   failure 0.014633333 0.033016667\n",
       "   ok      0.002033333 0.950316667"
      ]
     },
     "metadata": {},
     "output_type": "display_data"
    }
   ],
   "source": [
    "cutoff = 0.5\n",
    "prob = predict(mymodel.2, data.2, type=\"raw\") # make take about 5 minutes\n",
    "prediction = as.class.cutoff(prob, cutoff)\n",
    "cm = confusionMatrix(prediction, data.2$class)$table\n",
    "\n",
    "cm\n",
    "cm / nrow(data.2)"
   ]
  },
  {
   "cell_type": "code",
   "execution_count": 11,
   "metadata": {},
   "outputs": [
    {
     "data": {
      "text/plain": [
       "          Reference\n",
       "Prediction failure    ok\n",
       "   failure     878  1986\n",
       "   ok          122 57014"
      ]
     },
     "metadata": {},
     "output_type": "display_data"
    },
    {
     "data": {
      "text/plain": [
       "          Reference\n",
       "Prediction     failure          ok\n",
       "   failure 0.014633333 0.033100000\n",
       "   ok      0.002033333 0.950233333"
      ]
     },
     "metadata": {},
     "output_type": "display_data"
    }
   ],
   "source": [
    "cutoff = 0.25\n",
    "prob = predict(mymodel.2, data.2, type=\"raw\") # make take about 5 minutes\n",
    "prediction = as.class.cutoff(prob, cutoff)\n",
    "cm = confusionMatrix(prediction, data.2$class)$table\n",
    "\n",
    "cm\n",
    "cm / nrow(data.2)"
   ]
  },
  {
   "cell_type": "markdown",
   "metadata": {},
   "source": [
    "<br>\n",
    "___\n",
    "### Models 3 & 4: Based on Principal Components of Imputed Data  \n",
    "\n",
    "Represent imputed data in terms of principal components that comprise the majority (75%+) of variance.  This is `data.3`.\n",
    "\n",
    "Then select just the first principal component.  This is `data.4`."
   ]
  },
  {
   "cell_type": "code",
   "execution_count": 12,
   "metadata": {},
   "outputs": [
    {
     "data": {
      "text/html": [
       "<strong>91:</strong> 91"
      ],
      "text/latex": [
       "\\textbf{91:} 91"
      ],
      "text/markdown": [
       "**91:** 91"
      ],
      "text/plain": [
       "91 \n",
       "91 "
      ]
     },
     "metadata": {},
     "output_type": "display_data"
    },
    {
     "data": {
      "text/html": [
       "<dl class=dl-horizontal>\n",
       "\t<dt>1</dt>\n",
       "\t\t<dd>0.0163891620415896</dd>\n",
       "\t<dt>2</dt>\n",
       "\t\t<dd>21149901342.7842</dd>\n",
       "\t<dt>3</dt>\n",
       "\t\t<dd>2.75755282776767</dd>\n",
       "\t<dt>4</dt>\n",
       "\t\t<dd>596706547974980864</dd>\n",
       "\t<dt>5</dt>\n",
       "\t\t<dd>1228162603785342</dd>\n",
       "\t<dt>6</dt>\n",
       "\t\t<dd>25008.8991309275</dd>\n",
       "\t<dt>7</dt>\n",
       "\t\t<dd>42179.0291392787</dd>\n",
       "\t<dt>8</dt>\n",
       "\t\t<dd>414677477.365673</dd>\n",
       "\t<dt>9</dt>\n",
       "\t\t<dd>1156595123.04864</dd>\n",
       "\t<dt>10</dt>\n",
       "\t\t<dd>22344001486.7074</dd>\n",
       "\t<dt>11</dt>\n",
       "\t\t<dd>573745343600.187</dd>\n",
       "\t<dt>12</dt>\n",
       "\t\t<dd>5574170593973.18</dd>\n",
       "\t<dt>13</dt>\n",
       "\t\t<dd>10525562059507.4</dd>\n",
       "\t<dt>14</dt>\n",
       "\t\t<dd>15112361105483.4</dd>\n",
       "\t<dt>15</dt>\n",
       "\t\t<dd>2001620519661.05</dd>\n",
       "\t<dt>16</dt>\n",
       "\t\t<dd>47925024943.0307</dd>\n",
       "\t<dt>17</dt>\n",
       "\t\t<dd>28461988952.265</dd>\n",
       "\t<dt>18</dt>\n",
       "\t\t<dd>17332072809443.8</dd>\n",
       "\t<dt>19</dt>\n",
       "\t\t<dd>26380168182.023</dd>\n",
       "\t<dt>20</dt>\n",
       "\t\t<dd>2509513037.29263</dd>\n",
       "\t<dt>21</dt>\n",
       "\t\t<dd>5328728867.99187</dd>\n",
       "\t<dt>22</dt>\n",
       "\t\t<dd>287909363533.066</dd>\n",
       "\t<dt>23</dt>\n",
       "\t\t<dd>714033368933.232</dd>\n",
       "\t<dt>24</dt>\n",
       "\t\t<dd>60040159897156.9</dd>\n",
       "\t<dt>25</dt>\n",
       "\t\t<dd>46049291231938.8</dd>\n",
       "\t<dt>26</dt>\n",
       "\t\t<dd>9436502488002.83</dd>\n",
       "\t<dt>27</dt>\n",
       "\t\t<dd>1578181373908.04</dd>\n",
       "\t<dt>28</dt>\n",
       "\t\t<dd>28.9996284290138</dd>\n",
       "\t<dt>29</dt>\n",
       "\t\t<dd>119950197.804387</dd>\n",
       "\t<dt>30</dt>\n",
       "\t\t<dd>14157974792.1646</dd>\n",
       "\t<dt>31</dt>\n",
       "\t\t<dd>247007955.531077</dd>\n",
       "\t<dt>32</dt>\n",
       "\t\t<dd>41727407.8030199</dd>\n",
       "\t<dt>33</dt>\n",
       "\t\t<dd>2106794.17719306</dd>\n",
       "\t<dt>34</dt>\n",
       "\t\t<dd>204256766608.13</dd>\n",
       "\t<dt>35</dt>\n",
       "\t\t<dd>283310452939.717</dd>\n",
       "\t<dt>36</dt>\n",
       "\t\t<dd>181420681358.441</dd>\n",
       "\t<dt>37</dt>\n",
       "\t\t<dd>42152241463.5822</dd>\n",
       "\t<dt>38</dt>\n",
       "\t\t<dd>124353039119.487</dd>\n",
       "\t<dt>39</dt>\n",
       "\t\t<dd>1923117467474.78</dd>\n",
       "\t<dt>40</dt>\n",
       "\t\t<dd>10631217605559.5</dd>\n",
       "\t<dt>41</dt>\n",
       "\t\t<dd>25781458184157.7</dd>\n",
       "\t<dt>42</dt>\n",
       "\t\t<dd>15750339924567.3</dd>\n",
       "\t<dt>43</dt>\n",
       "\t\t<dd>9488998028.88733</dd>\n",
       "\t<dt>44</dt>\n",
       "\t\t<dd>5361731405.27749</dd>\n",
       "\t<dt>45</dt>\n",
       "\t\t<dd>1142761955.67402</dd>\n",
       "\t<dt>46</dt>\n",
       "\t\t<dd>11236416882.3316</dd>\n",
       "\t<dt>47</dt>\n",
       "\t\t<dd>421971102949.485</dd>\n",
       "\t<dt>48</dt>\n",
       "\t\t<dd>17310799224618.2</dd>\n",
       "\t<dt>49</dt>\n",
       "\t\t<dd>41267716114674.6</dd>\n",
       "\t<dt>50</dt>\n",
       "\t\t<dd>800531925717.858</dd>\n",
       "\t<dt>51</dt>\n",
       "\t\t<dd>77769573170.6029</dd>\n",
       "\t<dt>52</dt>\n",
       "\t\t<dd>220257166.810089</dd>\n",
       "\t<dt>53</dt>\n",
       "\t\t<dd>10486643.5365237</dd>\n",
       "\t<dt>54</dt>\n",
       "\t\t<dd>14102828241460.5</dd>\n",
       "\t<dt>55</dt>\n",
       "\t\t<dd>5440614970996.91</dd>\n",
       "\t<dt>56</dt>\n",
       "\t\t<dd>1414208886627.71</dd>\n",
       "\t<dt>57</dt>\n",
       "\t\t<dd>553885278395.013</dd>\n",
       "\t<dt>58</dt>\n",
       "\t\t<dd>287251878762.373</dd>\n",
       "\t<dt>59</dt>\n",
       "\t\t<dd>256379095443.751</dd>\n",
       "\t<dt>60</dt>\n",
       "\t\t<dd>401218754334.707</dd>\n",
       "\t<dt>61</dt>\n",
       "\t\t<dd>272620817888.887</dd>\n",
       "\t<dt>62</dt>\n",
       "\t\t<dd>58692143273.5436</dd>\n",
       "\t<dt>63</dt>\n",
       "\t\t<dd>111155219278.887</dd>\n",
       "\t<dt>64</dt>\n",
       "\t\t<dd>117246912117094</dd>\n",
       "\t<dt>65</dt>\n",
       "\t\t<dd>15626141.1151908</dd>\n",
       "\t<dt>66</dt>\n",
       "\t\t<dd>22296858.9635233</dd>\n",
       "\t<dt>67</dt>\n",
       "\t\t<dd>81991932.7464658</dd>\n",
       "\t<dt>68</dt>\n",
       "\t\t<dd>286521.217884066</dd>\n",
       "\t<dt>69</dt>\n",
       "\t\t<dd>17287094508125.9</dd>\n",
       "\t<dt>70</dt>\n",
       "\t\t<dd>22919779148.4411</dd>\n",
       "\t<dt>71</dt>\n",
       "\t\t<dd>2184119319003.98</dd>\n",
       "\t<dt>72</dt>\n",
       "\t\t<dd>3280260872743.89</dd>\n",
       "\t<dt>73</dt>\n",
       "\t\t<dd>42065923930.8989</dd>\n",
       "\t<dt>74</dt>\n",
       "\t\t<dd>55571417742.6868</dd>\n",
       "\t<dt>75</dt>\n",
       "\t\t<dd>56479576928.7889</dd>\n",
       "\t<dt>76</dt>\n",
       "\t\t<dd>57488028444.9539</dd>\n",
       "\t<dt>77</dt>\n",
       "\t\t<dd>56341455302.9245</dd>\n",
       "\t<dt>78</dt>\n",
       "\t\t<dd>55165613615.012</dd>\n",
       "\t<dt>79</dt>\n",
       "\t\t<dd>54138715852.7052</dd>\n",
       "\t<dt>80</dt>\n",
       "\t\t<dd>53578981742.91</dd>\n",
       "\t<dt>81</dt>\n",
       "\t\t<dd>7055981354.44448</dd>\n",
       "\t<dt>82</dt>\n",
       "\t\t<dd>21095784672.6995</dd>\n",
       "\t<dt>83</dt>\n",
       "\t\t<dd>116579241780546</dd>\n",
       "\t<dt>84</dt>\n",
       "\t\t<dd>116579255991656</dd>\n",
       "\t<dt>85</dt>\n",
       "\t\t<dd>101337557027989</dd>\n",
       "\t<dt>86</dt>\n",
       "\t\t<dd>2892243048.76286</dd>\n",
       "\t<dt>87</dt>\n",
       "\t\t<dd>377580595748.43</dd>\n",
       "\t<dt>88</dt>\n",
       "\t\t<dd>1252394298.41082</dd>\n",
       "\t<dt>89</dt>\n",
       "\t\t<dd>134795577688.846</dd>\n",
       "\t<dt>90</dt>\n",
       "\t\t<dd>87627026430094.5</dd>\n",
       "\t<dt>91</dt>\n",
       "\t\t<dd>0</dd>\n",
       "\t<dt>92</dt>\n",
       "\t\t<dd>19554336235.0595</dd>\n",
       "\t<dt>93</dt>\n",
       "\t\t<dd>1228162709526450</dd>\n",
       "\t<dt>94</dt>\n",
       "\t\t<dd>103940.552374837</dd>\n",
       "\t<dt>95</dt>\n",
       "\t\t<dd>0.000666530083557249</dd>\n",
       "\t<dt>96</dt>\n",
       "\t\t<dd>69429344182051.2</dd>\n",
       "\t<dt>97</dt>\n",
       "\t\t<dd>1281360373639.99</dd>\n",
       "\t<dt>98</dt>\n",
       "\t\t<dd>4728725004382.44</dd>\n",
       "\t<dt>99</dt>\n",
       "\t\t<dd>18626141.3480416</dd>\n",
       "\t<dt>100</dt>\n",
       "\t\t<dd>2395437.17703335</dd>\n",
       "\t<dt>101</dt>\n",
       "\t\t<dd>3700598240.11454</dd>\n",
       "\t<dt>102</dt>\n",
       "\t\t<dd>59725540048.4942</dd>\n",
       "\t<dt>103</dt>\n",
       "\t\t<dd>1140040875781.99</dd>\n",
       "\t<dt>104</dt>\n",
       "\t\t<dd>4855747064108.49</dd>\n",
       "\t<dt>105</dt>\n",
       "\t\t<dd>11142099789743.4</dd>\n",
       "\t<dt>106</dt>\n",
       "\t\t<dd>9775651744392.19</dd>\n",
       "\t<dt>107</dt>\n",
       "\t\t<dd>1655795725239.58</dd>\n",
       "\t<dt>108</dt>\n",
       "\t\t<dd>163313271252.02</dd>\n",
       "\t<dt>109</dt>\n",
       "\t\t<dd>34299130340.9411</dd>\n",
       "\t<dt>110</dt>\n",
       "\t\t<dd>70205224940.9388</dd>\n",
       "\t<dt>111</dt>\n",
       "\t\t<dd>1228162633022572</dd>\n",
       "\t<dt>112</dt>\n",
       "\t\t<dd>57680361.6573327</dd>\n",
       "\t<dt>113</dt>\n",
       "\t\t<dd>116579247151588</dd>\n",
       "\t<dt>114</dt>\n",
       "\t\t<dd>240307.075130822</dd>\n",
       "\t<dt>115</dt>\n",
       "\t\t<dd>105192000.460741</dd>\n",
       "\t<dt>116</dt>\n",
       "\t\t<dd>8238017.40308746</dd>\n",
       "\t<dt>117</dt>\n",
       "\t\t<dd>1461058093456.06</dd>\n",
       "\t<dt>118</dt>\n",
       "\t\t<dd>1220478364143.67</dd>\n",
       "\t<dt>119</dt>\n",
       "\t\t<dd>4253253500130.85</dd>\n",
       "\t<dt>120</dt>\n",
       "\t\t<dd>31160519645141.9</dd>\n",
       "\t<dt>121</dt>\n",
       "\t\t<dd>1349472734798.59</dd>\n",
       "\t<dt>122</dt>\n",
       "\t\t<dd>6336745199.89331</dd>\n",
       "\t<dt>123</dt>\n",
       "\t\t<dd>101941385.735775</dd>\n",
       "\t<dt>124</dt>\n",
       "\t\t<dd>33609075398.696</dd>\n",
       "\t<dt>125</dt>\n",
       "\t\t<dd>24021932.1447224</dd>\n",
       "\t<dt>126</dt>\n",
       "\t\t<dd>44859460.2136986</dd>\n",
       "\t<dt>127</dt>\n",
       "\t\t<dd>10317850838276.4</dd>\n",
       "\t<dt>128</dt>\n",
       "\t\t<dd>1761824131651.03</dd>\n",
       "\t<dt>129</dt>\n",
       "\t\t<dd>59674292.8642538</dd>\n",
       "\t<dt>130</dt>\n",
       "\t\t<dd>47038684004.1786</dd>\n",
       "\t<dt>131</dt>\n",
       "\t\t<dd>27935.057666616</dd>\n",
       "\t<dt>132</dt>\n",
       "\t\t<dd>4148.31629045653</dd>\n",
       "\t<dt>133</dt>\n",
       "\t\t<dd>13005548469816.2</dd>\n",
       "\t<dt>134</dt>\n",
       "\t\t<dd>86788884.293948</dd>\n",
       "\t<dt>135</dt>\n",
       "\t\t<dd>2723405.43096439</dd>\n",
       "\t<dt>136</dt>\n",
       "\t\t<dd>17600492705.7652</dd>\n",
       "\t<dt>137</dt>\n",
       "\t\t<dd>40593523146.9772</dd>\n",
       "\t<dt>138</dt>\n",
       "\t\t<dd>292943751231.672</dd>\n",
       "\t<dt>139</dt>\n",
       "\t\t<dd>168912822266.232</dd>\n",
       "\t<dt>140</dt>\n",
       "\t\t<dd>19176999.2097978</dd>\n",
       "\t<dt>141</dt>\n",
       "\t\t<dd>4139067643.13478</dd>\n",
       "\t<dt>142</dt>\n",
       "\t\t<dd>1120282405009.59</dd>\n",
       "\t<dt>143</dt>\n",
       "\t\t<dd>71879288352.7068</dd>\n",
       "\t<dt>144</dt>\n",
       "\t\t<dd>9365411503.05763</dd>\n",
       "\t<dt>145</dt>\n",
       "\t\t<dd>3581795488.38277</dd>\n",
       "\t<dt>146</dt>\n",
       "\t\t<dd>185906134.703822</dd>\n",
       "\t<dt>147</dt>\n",
       "\t\t<dd>9071509255023566</dd>\n",
       "\t<dt>148</dt>\n",
       "\t\t<dd>1781346713385.65</dd>\n",
       "\t<dt>149</dt>\n",
       "\t\t<dd>41377722989.5369</dd>\n",
       "\t<dt>150</dt>\n",
       "\t\t<dd>1090581247.64154</dd>\n",
       "\t<dt>151</dt>\n",
       "\t\t<dd>127733649823898</dd>\n",
       "\t<dt>152</dt>\n",
       "\t\t<dd>4141746177129.2</dd>\n",
       "\t<dt>153</dt>\n",
       "\t\t<dd>16449061671104.7</dd>\n",
       "\t<dt>154</dt>\n",
       "\t\t<dd>3350557391.31749</dd>\n",
       "\t<dt>155</dt>\n",
       "\t\t<dd>111.780557282149</dd>\n",
       "\t<dt>156</dt>\n",
       "\t\t<dd>2735.28396052034</dd>\n",
       "\t<dt>157</dt>\n",
       "\t\t<dd>1705250155631880</dd>\n",
       "\t<dt>158</dt>\n",
       "\t\t<dd>10373311.0803356</dd>\n",
       "\t<dt>159</dt>\n",
       "\t\t<dd>10447395.2677326</dd>\n",
       "\t<dt>160</dt>\n",
       "\t\t<dd>5772568692112.31</dd>\n",
       "\t<dt>161</dt>\n",
       "\t\t<dd>6531597511978.58</dd>\n",
       "\t<dt>162</dt>\n",
       "\t\t<dd>1320339235013.44</dd>\n",
       "\t<dt>163</dt>\n",
       "\t\t<dd>291894013720.052</dd>\n",
       "\t<dt>164</dt>\n",
       "\t\t<dd>1349692412604.72</dd>\n",
       "\t<dt>165</dt>\n",
       "\t\t<dd>1242685778902.21</dd>\n",
       "\t<dt>166</dt>\n",
       "\t\t<dd>1130318548410.99</dd>\n",
       "\t<dt>167</dt>\n",
       "\t\t<dd>2952781587362.74</dd>\n",
       "\t<dt>168</dt>\n",
       "\t\t<dd>199799546891.869</dd>\n",
       "\t<dt>169</dt>\n",
       "\t\t<dd>2228240544.84482</dd>\n",
       "\t<dt>170</dt>\n",
       "\t\t<dd>18.2203382790044</dd>\n",
       "\t<dt>171</dt>\n",
       "\t\t<dd>74.4411633658985</dd>\n",
       "</dl>\n"
      ],
      "text/latex": [
       "\\begin{description*}\n",
       "\\item[1] 0.0163891620415896\n",
       "\\item[2] 21149901342.7842\n",
       "\\item[3] 2.75755282776767\n",
       "\\item[4] 596706547974980864\n",
       "\\item[5] 1228162603785342\n",
       "\\item[6] 25008.8991309275\n",
       "\\item[7] 42179.0291392787\n",
       "\\item[8] 414677477.365673\n",
       "\\item[9] 1156595123.04864\n",
       "\\item[10] 22344001486.7074\n",
       "\\item[11] 573745343600.187\n",
       "\\item[12] 5574170593973.18\n",
       "\\item[13] 10525562059507.4\n",
       "\\item[14] 15112361105483.4\n",
       "\\item[15] 2001620519661.05\n",
       "\\item[16] 47925024943.0307\n",
       "\\item[17] 28461988952.265\n",
       "\\item[18] 17332072809443.8\n",
       "\\item[19] 26380168182.023\n",
       "\\item[20] 2509513037.29263\n",
       "\\item[21] 5328728867.99187\n",
       "\\item[22] 287909363533.066\n",
       "\\item[23] 714033368933.232\n",
       "\\item[24] 60040159897156.9\n",
       "\\item[25] 46049291231938.8\n",
       "\\item[26] 9436502488002.83\n",
       "\\item[27] 1578181373908.04\n",
       "\\item[28] 28.9996284290138\n",
       "\\item[29] 119950197.804387\n",
       "\\item[30] 14157974792.1646\n",
       "\\item[31] 247007955.531077\n",
       "\\item[32] 41727407.8030199\n",
       "\\item[33] 2106794.17719306\n",
       "\\item[34] 204256766608.13\n",
       "\\item[35] 283310452939.717\n",
       "\\item[36] 181420681358.441\n",
       "\\item[37] 42152241463.5822\n",
       "\\item[38] 124353039119.487\n",
       "\\item[39] 1923117467474.78\n",
       "\\item[40] 10631217605559.5\n",
       "\\item[41] 25781458184157.7\n",
       "\\item[42] 15750339924567.3\n",
       "\\item[43] 9488998028.88733\n",
       "\\item[44] 5361731405.27749\n",
       "\\item[45] 1142761955.67402\n",
       "\\item[46] 11236416882.3316\n",
       "\\item[47] 421971102949.485\n",
       "\\item[48] 17310799224618.2\n",
       "\\item[49] 41267716114674.6\n",
       "\\item[50] 800531925717.858\n",
       "\\item[51] 77769573170.6029\n",
       "\\item[52] 220257166.810089\n",
       "\\item[53] 10486643.5365237\n",
       "\\item[54] 14102828241460.5\n",
       "\\item[55] 5440614970996.91\n",
       "\\item[56] 1414208886627.71\n",
       "\\item[57] 553885278395.013\n",
       "\\item[58] 287251878762.373\n",
       "\\item[59] 256379095443.751\n",
       "\\item[60] 401218754334.707\n",
       "\\item[61] 272620817888.887\n",
       "\\item[62] 58692143273.5436\n",
       "\\item[63] 111155219278.887\n",
       "\\item[64] 117246912117094\n",
       "\\item[65] 15626141.1151908\n",
       "\\item[66] 22296858.9635233\n",
       "\\item[67] 81991932.7464658\n",
       "\\item[68] 286521.217884066\n",
       "\\item[69] 17287094508125.9\n",
       "\\item[70] 22919779148.4411\n",
       "\\item[71] 2184119319003.98\n",
       "\\item[72] 3280260872743.89\n",
       "\\item[73] 42065923930.8989\n",
       "\\item[74] 55571417742.6868\n",
       "\\item[75] 56479576928.7889\n",
       "\\item[76] 57488028444.9539\n",
       "\\item[77] 56341455302.9245\n",
       "\\item[78] 55165613615.012\n",
       "\\item[79] 54138715852.7052\n",
       "\\item[80] 53578981742.91\n",
       "\\item[81] 7055981354.44448\n",
       "\\item[82] 21095784672.6995\n",
       "\\item[83] 116579241780546\n",
       "\\item[84] 116579255991656\n",
       "\\item[85] 101337557027989\n",
       "\\item[86] 2892243048.76286\n",
       "\\item[87] 377580595748.43\n",
       "\\item[88] 1252394298.41082\n",
       "\\item[89] 134795577688.846\n",
       "\\item[90] 87627026430094.5\n",
       "\\item[91] 0\n",
       "\\item[92] 19554336235.0595\n",
       "\\item[93] 1228162709526450\n",
       "\\item[94] 103940.552374837\n",
       "\\item[95] 0.000666530083557249\n",
       "\\item[96] 69429344182051.2\n",
       "\\item[97] 1281360373639.99\n",
       "\\item[98] 4728725004382.44\n",
       "\\item[99] 18626141.3480416\n",
       "\\item[100] 2395437.17703335\n",
       "\\item[101] 3700598240.11454\n",
       "\\item[102] 59725540048.4942\n",
       "\\item[103] 1140040875781.99\n",
       "\\item[104] 4855747064108.49\n",
       "\\item[105] 11142099789743.4\n",
       "\\item[106] 9775651744392.19\n",
       "\\item[107] 1655795725239.58\n",
       "\\item[108] 163313271252.02\n",
       "\\item[109] 34299130340.9411\n",
       "\\item[110] 70205224940.9388\n",
       "\\item[111] 1228162633022572\n",
       "\\item[112] 57680361.6573327\n",
       "\\item[113] 116579247151588\n",
       "\\item[114] 240307.075130822\n",
       "\\item[115] 105192000.460741\n",
       "\\item[116] 8238017.40308746\n",
       "\\item[117] 1461058093456.06\n",
       "\\item[118] 1220478364143.67\n",
       "\\item[119] 4253253500130.85\n",
       "\\item[120] 31160519645141.9\n",
       "\\item[121] 1349472734798.59\n",
       "\\item[122] 6336745199.89331\n",
       "\\item[123] 101941385.735775\n",
       "\\item[124] 33609075398.696\n",
       "\\item[125] 24021932.1447224\n",
       "\\item[126] 44859460.2136986\n",
       "\\item[127] 10317850838276.4\n",
       "\\item[128] 1761824131651.03\n",
       "\\item[129] 59674292.8642538\n",
       "\\item[130] 47038684004.1786\n",
       "\\item[131] 27935.057666616\n",
       "\\item[132] 4148.31629045653\n",
       "\\item[133] 13005548469816.2\n",
       "\\item[134] 86788884.293948\n",
       "\\item[135] 2723405.43096439\n",
       "\\item[136] 17600492705.7652\n",
       "\\item[137] 40593523146.9772\n",
       "\\item[138] 292943751231.672\n",
       "\\item[139] 168912822266.232\n",
       "\\item[140] 19176999.2097978\n",
       "\\item[141] 4139067643.13478\n",
       "\\item[142] 1120282405009.59\n",
       "\\item[143] 71879288352.7068\n",
       "\\item[144] 9365411503.05763\n",
       "\\item[145] 3581795488.38277\n",
       "\\item[146] 185906134.703822\n",
       "\\item[147] 9071509255023566\n",
       "\\item[148] 1781346713385.65\n",
       "\\item[149] 41377722989.5369\n",
       "\\item[150] 1090581247.64154\n",
       "\\item[151] 127733649823898\n",
       "\\item[152] 4141746177129.2\n",
       "\\item[153] 16449061671104.7\n",
       "\\item[154] 3350557391.31749\n",
       "\\item[155] 111.780557282149\n",
       "\\item[156] 2735.28396052034\n",
       "\\item[157] 1705250155631880\n",
       "\\item[158] 10373311.0803356\n",
       "\\item[159] 10447395.2677326\n",
       "\\item[160] 5772568692112.31\n",
       "\\item[161] 6531597511978.58\n",
       "\\item[162] 1320339235013.44\n",
       "\\item[163] 291894013720.052\n",
       "\\item[164] 1349692412604.72\n",
       "\\item[165] 1242685778902.21\n",
       "\\item[166] 1130318548410.99\n",
       "\\item[167] 2952781587362.74\n",
       "\\item[168] 199799546891.869\n",
       "\\item[169] 2228240544.84482\n",
       "\\item[170] 18.2203382790044\n",
       "\\item[171] 74.4411633658985\n",
       "\\end{description*}\n"
      ],
      "text/markdown": [
       "1\n",
       ":   0.01638916204158962\n",
       ":   21149901342.78423\n",
       ":   2.757552827767674\n",
       ":   5967065479749808645\n",
       ":   12281626037853426\n",
       ":   25008.89913092757\n",
       ":   42179.02913927878\n",
       ":   414677477.3656739\n",
       ":   1156595123.0486410\n",
       ":   22344001486.707411\n",
       ":   573745343600.18712\n",
       ":   5574170593973.1813\n",
       ":   10525562059507.414\n",
       ":   15112361105483.415\n",
       ":   2001620519661.0516\n",
       ":   47925024943.030717\n",
       ":   28461988952.26518\n",
       ":   17332072809443.819\n",
       ":   26380168182.02320\n",
       ":   2509513037.2926321\n",
       ":   5328728867.9918722\n",
       ":   287909363533.06623\n",
       ":   714033368933.23224\n",
       ":   60040159897156.925\n",
       ":   46049291231938.826\n",
       ":   9436502488002.8327\n",
       ":   1578181373908.0428\n",
       ":   28.999628429013829\n",
       ":   119950197.80438730\n",
       ":   14157974792.164631\n",
       ":   247007955.53107732\n",
       ":   41727407.803019933\n",
       ":   2106794.1771930634\n",
       ":   204256766608.1335\n",
       ":   283310452939.71736\n",
       ":   181420681358.44137\n",
       ":   42152241463.582238\n",
       ":   124353039119.48739\n",
       ":   1923117467474.7840\n",
       ":   10631217605559.541\n",
       ":   25781458184157.742\n",
       ":   15750339924567.343\n",
       ":   9488998028.8873344\n",
       ":   5361731405.2774945\n",
       ":   1142761955.6740246\n",
       ":   11236416882.331647\n",
       ":   421971102949.48548\n",
       ":   17310799224618.249\n",
       ":   41267716114674.650\n",
       ":   800531925717.85851\n",
       ":   77769573170.602952\n",
       ":   220257166.81008953\n",
       ":   10486643.536523754\n",
       ":   14102828241460.555\n",
       ":   5440614970996.9156\n",
       ":   1414208886627.7157\n",
       ":   553885278395.01358\n",
       ":   287251878762.37359\n",
       ":   256379095443.75160\n",
       ":   401218754334.70761\n",
       ":   272620817888.88762\n",
       ":   58692143273.543663\n",
       ":   111155219278.88764\n",
       ":   11724691211709465\n",
       ":   15626141.115190866\n",
       ":   22296858.963523367\n",
       ":   81991932.746465868\n",
       ":   286521.21788406669\n",
       ":   17287094508125.970\n",
       ":   22919779148.441171\n",
       ":   2184119319003.9872\n",
       ":   3280260872743.8973\n",
       ":   42065923930.898974\n",
       ":   55571417742.686875\n",
       ":   56479576928.788976\n",
       ":   57488028444.953977\n",
       ":   56341455302.924578\n",
       ":   55165613615.01279\n",
       ":   54138715852.705280\n",
       ":   53578981742.9181\n",
       ":   7055981354.4444882\n",
       ":   21095784672.699583\n",
       ":   11657924178054684\n",
       ":   11657925599165685\n",
       ":   10133755702798986\n",
       ":   2892243048.7628687\n",
       ":   377580595748.4388\n",
       ":   1252394298.4108289\n",
       ":   134795577688.84690\n",
       ":   87627026430094.591\n",
       ":   092\n",
       ":   19554336235.059593\n",
       ":   122816270952645094\n",
       ":   103940.55237483795\n",
       ":   0.00066653008355724996\n",
       ":   69429344182051.297\n",
       ":   1281360373639.9998\n",
       ":   4728725004382.4499\n",
       ":   18626141.3480416100\n",
       ":   2395437.17703335101\n",
       ":   3700598240.11454102\n",
       ":   59725540048.4942103\n",
       ":   1140040875781.99104\n",
       ":   4855747064108.49105\n",
       ":   11142099789743.4106\n",
       ":   9775651744392.19107\n",
       ":   1655795725239.58108\n",
       ":   163313271252.02109\n",
       ":   34299130340.9411110\n",
       ":   70205224940.9388111\n",
       ":   1228162633022572112\n",
       ":   57680361.6573327113\n",
       ":   116579247151588114\n",
       ":   240307.075130822115\n",
       ":   105192000.460741116\n",
       ":   8238017.40308746117\n",
       ":   1461058093456.06118\n",
       ":   1220478364143.67119\n",
       ":   4253253500130.85120\n",
       ":   31160519645141.9121\n",
       ":   1349472734798.59122\n",
       ":   6336745199.89331123\n",
       ":   101941385.735775124\n",
       ":   33609075398.696125\n",
       ":   24021932.1447224126\n",
       ":   44859460.2136986127\n",
       ":   10317850838276.4128\n",
       ":   1761824131651.03129\n",
       ":   59674292.8642538130\n",
       ":   47038684004.1786131\n",
       ":   27935.057666616132\n",
       ":   4148.31629045653133\n",
       ":   13005548469816.2134\n",
       ":   86788884.293948135\n",
       ":   2723405.43096439136\n",
       ":   17600492705.7652137\n",
       ":   40593523146.9772138\n",
       ":   292943751231.672139\n",
       ":   168912822266.232140\n",
       ":   19176999.2097978141\n",
       ":   4139067643.13478142\n",
       ":   1120282405009.59143\n",
       ":   71879288352.7068144\n",
       ":   9365411503.05763145\n",
       ":   3581795488.38277146\n",
       ":   185906134.703822147\n",
       ":   9071509255023566148\n",
       ":   1781346713385.65149\n",
       ":   41377722989.5369150\n",
       ":   1090581247.64154151\n",
       ":   127733649823898152\n",
       ":   4141746177129.2153\n",
       ":   16449061671104.7154\n",
       ":   3350557391.31749155\n",
       ":   111.780557282149156\n",
       ":   2735.28396052034157\n",
       ":   1705250155631880158\n",
       ":   10373311.0803356159\n",
       ":   10447395.2677326160\n",
       ":   5772568692112.31161\n",
       ":   6531597511978.58162\n",
       ":   1320339235013.44163\n",
       ":   291894013720.052164\n",
       ":   1349692412604.72165\n",
       ":   1242685778902.21166\n",
       ":   1130318548410.99167\n",
       ":   2952781587362.74168\n",
       ":   199799546891.869169\n",
       ":   2228240544.84482170\n",
       ":   18.2203382790044171\n",
       ":   74.4411633658985\n",
       "\n"
      ],
      "text/plain": [
       "           1            2            3            4            5            6 \n",
       "1.638916e-02 2.114990e+10 2.757553e+00 5.967065e+17 1.228163e+15 2.500890e+04 \n",
       "           7            8            9           10           11           12 \n",
       "4.217903e+04 4.146775e+08 1.156595e+09 2.234400e+10 5.737453e+11 5.574171e+12 \n",
       "          13           14           15           16           17           18 \n",
       "1.052556e+13 1.511236e+13 2.001621e+12 4.792502e+10 2.846199e+10 1.733207e+13 \n",
       "          19           20           21           22           23           24 \n",
       "2.638017e+10 2.509513e+09 5.328729e+09 2.879094e+11 7.140334e+11 6.004016e+13 \n",
       "          25           26           27           28           29           30 \n",
       "4.604929e+13 9.436502e+12 1.578181e+12 2.899963e+01 1.199502e+08 1.415797e+10 \n",
       "          31           32           33           34           35           36 \n",
       "2.470080e+08 4.172741e+07 2.106794e+06 2.042568e+11 2.833105e+11 1.814207e+11 \n",
       "          37           38           39           40           41           42 \n",
       "4.215224e+10 1.243530e+11 1.923117e+12 1.063122e+13 2.578146e+13 1.575034e+13 \n",
       "          43           44           45           46           47           48 \n",
       "9.488998e+09 5.361731e+09 1.142762e+09 1.123642e+10 4.219711e+11 1.731080e+13 \n",
       "          49           50           51           52           53           54 \n",
       "4.126772e+13 8.005319e+11 7.776957e+10 2.202572e+08 1.048664e+07 1.410283e+13 \n",
       "          55           56           57           58           59           60 \n",
       "5.440615e+12 1.414209e+12 5.538853e+11 2.872519e+11 2.563791e+11 4.012188e+11 \n",
       "          61           62           63           64           65           66 \n",
       "2.726208e+11 5.869214e+10 1.111552e+11 1.172469e+14 1.562614e+07 2.229686e+07 \n",
       "          67           68           69           70           71           72 \n",
       "8.199193e+07 2.865212e+05 1.728709e+13 2.291978e+10 2.184119e+12 3.280261e+12 \n",
       "          73           74           75           76           77           78 \n",
       "4.206592e+10 5.557142e+10 5.647958e+10 5.748803e+10 5.634146e+10 5.516561e+10 \n",
       "          79           80           81           82           83           84 \n",
       "5.413872e+10 5.357898e+10 7.055981e+09 2.109578e+10 1.165792e+14 1.165793e+14 \n",
       "          85           86           87           88           89           90 \n",
       "1.013376e+14 2.892243e+09 3.775806e+11 1.252394e+09 1.347956e+11 8.762703e+13 \n",
       "          91           92           93           94           95           96 \n",
       "0.000000e+00 1.955434e+10 1.228163e+15 1.039406e+05 6.665301e-04 6.942934e+13 \n",
       "          97           98           99          100          101          102 \n",
       "1.281360e+12 4.728725e+12 1.862614e+07 2.395437e+06 3.700598e+09 5.972554e+10 \n",
       "         103          104          105          106          107          108 \n",
       "1.140041e+12 4.855747e+12 1.114210e+13 9.775652e+12 1.655796e+12 1.633133e+11 \n",
       "         109          110          111          112          113          114 \n",
       "3.429913e+10 7.020522e+10 1.228163e+15 5.768036e+07 1.165792e+14 2.403071e+05 \n",
       "         115          116          117          118          119          120 \n",
       "1.051920e+08 8.238017e+06 1.461058e+12 1.220478e+12 4.253254e+12 3.116052e+13 \n",
       "         121          122          123          124          125          126 \n",
       "1.349473e+12 6.336745e+09 1.019414e+08 3.360908e+10 2.402193e+07 4.485946e+07 \n",
       "         127          128          129          130          131          132 \n",
       "1.031785e+13 1.761824e+12 5.967429e+07 4.703868e+10 2.793506e+04 4.148316e+03 \n",
       "         133          134          135          136          137          138 \n",
       "1.300555e+13 8.678888e+07 2.723405e+06 1.760049e+10 4.059352e+10 2.929438e+11 \n",
       "         139          140          141          142          143          144 \n",
       "1.689128e+11 1.917700e+07 4.139068e+09 1.120282e+12 7.187929e+10 9.365412e+09 \n",
       "         145          146          147          148          149          150 \n",
       "3.581795e+09 1.859061e+08 9.071509e+15 1.781347e+12 4.137772e+10 1.090581e+09 \n",
       "         151          152          153          154          155          156 \n",
       "1.277336e+14 4.141746e+12 1.644906e+13 3.350557e+09 1.117806e+02 2.735284e+03 \n",
       "         157          158          159          160          161          162 \n",
       "1.705250e+15 1.037331e+07 1.044740e+07 5.772569e+12 6.531598e+12 1.320339e+12 \n",
       "         163          164          165          166          167          168 \n",
       "2.918940e+11 1.349692e+12 1.242686e+12 1.130319e+12 2.952782e+12 1.997995e+11 \n",
       "         169          170          171 \n",
       "2.228241e+09 1.822034e+01 7.444116e+01 "
      ]
     },
     "metadata": {},
     "output_type": "display_data"
    }
   ],
   "source": [
    "v = apply_each(data.2, var)\n",
    "zero_var = which(v==0)\n",
    "zero_var\n",
    "v"
   ]
  },
  {
   "cell_type": "code",
   "execution_count": 13,
   "metadata": {},
   "outputs": [
    {
     "data": {
      "text/html": [
       "<table>\n",
       "<thead><tr><th scope=col>class</th><th scope=col>PC1</th><th scope=col>PC2</th><th scope=col>PC3</th><th scope=col>PC4</th><th scope=col>PC5</th><th scope=col>PC6</th><th scope=col>PC7</th><th scope=col>...</th><th scope=col>PC162</th><th scope=col>PC163</th><th scope=col>PC164</th><th scope=col>PC165</th><th scope=col>PC166</th><th scope=col>PC167</th><th scope=col>PC168</th><th scope=col>PC169</th></tr></thead>\n",
       "<tbody>\n",
       "\t<tr><td>ok           </td><td>-2.4075127   </td><td> 1.2751767   </td><td> 1.550138983 </td><td> 0.9804104   </td><td> 0.08301728  </td><td> 0.7549007   </td><td> 0.47111175  </td><td>...          </td><td>7.069132e-06 </td><td>1.343734e-06 </td><td> 1.301418e-06</td><td> 2.075792e-05</td><td>-2.923084e-05</td><td>-5.097065e-07</td><td> 2.164521e-07</td><td> 2.589323e-07</td></tr>\n",
       "\t<tr><td>ok           </td><td> 0.6103833   </td><td> 0.4814090   </td><td>-0.008950297 </td><td> 0.1219451   </td><td> 0.12317674  </td><td> 0.1027243   </td><td> 0.18451136  </td><td>...          </td><td>2.338171e-04 </td><td>3.708371e-05 </td><td> 3.410086e-05</td><td>-5.621202e-06</td><td> 1.255696e-06</td><td>-1.056259e-07</td><td> 2.672928e-07</td><td>-1.305243e-08</td></tr>\n",
       "\t<tr><td>ok           </td><td> 1.2523364   </td><td> 0.1277102   </td><td> 0.355502868 </td><td>-0.5854936   </td><td>-0.14865317  </td><td> 0.1116622   </td><td>-0.09179015  </td><td>...          </td><td>1.054102e-05 </td><td>1.658314e-06 </td><td>-5.465744e-07</td><td> 5.638370e-06</td><td>-1.270087e-06</td><td>-1.270081e-07</td><td>-4.850343e-08</td><td>-4.259254e-08</td></tr>\n",
       "\t<tr><td>ok           </td><td> 3.2552315   </td><td>-0.2288814   </td><td>-0.348419773 </td><td>-0.5829716   </td><td>-0.38747739  </td><td>-0.2802617   </td><td>-0.29933962  </td><td>...          </td><td>7.411936e-06 </td><td>1.948774e-07 </td><td> 3.329543e-07</td><td>-1.755975e-06</td><td> 1.100394e-06</td><td> 6.751165e-08</td><td> 1.677625e-07</td><td>-5.021383e-09</td></tr>\n",
       "\t<tr><td>...</td><td>...</td><td>...</td><td>...</td><td>...</td><td>...</td><td>...</td><td>...</td><td>   </td><td>...</td><td>...</td><td>...</td><td>...</td><td>...</td><td>...</td><td>...</td><td>...</td></tr>\n",
       "\t<tr><td>ok           </td><td> 3.126282    </td><td>-0.1362689   </td><td>-0.1783377   </td><td>-0.6133246   </td><td>-0.4372574   </td><td>-0.20600016  </td><td>-0.1986409   </td><td>...          </td><td>2.053730e-05 </td><td>-1.098023e-07</td><td> 2.673164e-06</td><td>1.253596e-06 </td><td>-3.006207e-07</td><td>-1.048244e-07</td><td>-5.535158e-08</td><td> 6.725619e-09</td></tr>\n",
       "\t<tr><td>ok           </td><td> 3.250704    </td><td>-0.1289573   </td><td>-0.2569114   </td><td>-0.6935438   </td><td>-0.4859656   </td><td>-0.25847875  </td><td>-0.2450655   </td><td>...          </td><td>1.903363e-05 </td><td>-6.785794e-07</td><td> 3.153119e-06</td><td>1.330568e-06 </td><td> 4.602546e-07</td><td>-6.413174e-08</td><td> 7.524155e-08</td><td>-1.628333e-09</td></tr>\n",
       "\t<tr><td>ok           </td><td>-2.403214    </td><td> 2.6732456   </td><td> 1.7367785   </td><td> 1.0067654   </td><td> 0.1202448   </td><td> 1.24776887  </td><td> 1.6505132   </td><td>...          </td><td>7.489319e-07 </td><td> 7.882732e-06</td><td> 8.260948e-06</td><td>1.694544e-05 </td><td> 1.508774e-05</td><td> 1.322164e-06</td><td>-4.995597e-07</td><td> 1.694026e-07</td></tr>\n",
       "\t<tr><td>ok           </td><td> 0.774811    </td><td> 0.4725138   </td><td> 0.3465301   </td><td> 0.1107992   </td><td>-0.2171770   </td><td> 0.02709153  </td><td> 0.2161844   </td><td>...          </td><td>1.339771e-05 </td><td> 5.825868e-06</td><td>-1.688554e-06</td><td>8.114754e-06 </td><td>-2.235778e-06</td><td> 1.622871e-07</td><td>-5.596551e-08</td><td> 2.299942e-08</td></tr>\n",
       "</tbody>\n",
       "</table>\n"
      ],
      "text/latex": [
       "\\begin{tabular}{r|llllllllllllllllllllllllllllllllllllllllllllllllllllllllllllllllllllllllllllllllllllllllllllllllllllllllllllllllllllllllllllllllllllllllllllllllllllllllllllllllllllllllll}\n",
       " class & PC1 & PC2 & PC3 & PC4 & PC5 & PC6 & PC7 & ... & PC162 & PC163 & PC164 & PC165 & PC166 & PC167 & PC168 & PC169\\\\\n",
       "\\hline\n",
       "\t ok            & -2.4075127    &  1.2751767    &  1.550138983  &  0.9804104    &  0.08301728   &  0.7549007    &  0.47111175   & ...           & 7.069132e-06  & 1.343734e-06  &  1.301418e-06 &  2.075792e-05 & -2.923084e-05 & -5.097065e-07 &  2.164521e-07 &  2.589323e-07\\\\\n",
       "\t ok            &  0.6103833    &  0.4814090    & -0.008950297  &  0.1219451    &  0.12317674   &  0.1027243    &  0.18451136   & ...           & 2.338171e-04  & 3.708371e-05  &  3.410086e-05 & -5.621202e-06 &  1.255696e-06 & -1.056259e-07 &  2.672928e-07 & -1.305243e-08\\\\\n",
       "\t ok            &  1.2523364    &  0.1277102    &  0.355502868  & -0.5854936    & -0.14865317   &  0.1116622    & -0.09179015   & ...           & 1.054102e-05  & 1.658314e-06  & -5.465744e-07 &  5.638370e-06 & -1.270087e-06 & -1.270081e-07 & -4.850343e-08 & -4.259254e-08\\\\\n",
       "\t ok            &  3.2552315    & -0.2288814    & -0.348419773  & -0.5829716    & -0.38747739   & -0.2802617    & -0.29933962   & ...           & 7.411936e-06  & 1.948774e-07  &  3.329543e-07 & -1.755975e-06 &  1.100394e-06 &  6.751165e-08 &  1.677625e-07 & -5.021383e-09\\\\\n",
       "\t ... & ... & ... & ... & ... & ... & ... & ... &     & ... & ... & ... & ... & ... & ... & ... & ...\\\\\n",
       "\t ok            &  3.126282     & -0.1362689    & -0.1783377    & -0.6133246    & -0.4372574    & -0.20600016   & -0.1986409    & ...           & 2.053730e-05  & -1.098023e-07 &  2.673164e-06 & 1.253596e-06  & -3.006207e-07 & -1.048244e-07 & -5.535158e-08 &  6.725619e-09\\\\\n",
       "\t ok            &  3.250704     & -0.1289573    & -0.2569114    & -0.6935438    & -0.4859656    & -0.25847875   & -0.2450655    & ...           & 1.903363e-05  & -6.785794e-07 &  3.153119e-06 & 1.330568e-06  &  4.602546e-07 & -6.413174e-08 &  7.524155e-08 & -1.628333e-09\\\\\n",
       "\t ok            & -2.403214     &  2.6732456    &  1.7367785    &  1.0067654    &  0.1202448    &  1.24776887   &  1.6505132    & ...           & 7.489319e-07  &  7.882732e-06 &  8.260948e-06 & 1.694544e-05  &  1.508774e-05 &  1.322164e-06 & -4.995597e-07 &  1.694026e-07\\\\\n",
       "\t ok            &  0.774811     &  0.4725138    &  0.3465301    &  0.1107992    & -0.2171770    &  0.02709153   &  0.2161844    & ...           & 1.339771e-05  &  5.825868e-06 & -1.688554e-06 & 8.114754e-06  & -2.235778e-06 &  1.622871e-07 & -5.596551e-08 &  2.299942e-08\\\\\n",
       "\\end{tabular}\n"
      ],
      "text/markdown": [
       "\n",
       "class | PC1 | PC2 | PC3 | PC4 | PC5 | PC6 | PC7 | ... | PC162 | PC163 | PC164 | PC165 | PC166 | PC167 | PC168 | PC169 | \n",
       "|---|---|---|---|---|---|---|---|---|\n",
       "| ok            | -2.4075127    |  1.2751767    |  1.550138983  |  0.9804104    |  0.08301728   |  0.7549007    |  0.47111175   | ...           | 7.069132e-06  | 1.343734e-06  |  1.301418e-06 |  2.075792e-05 | -2.923084e-05 | -5.097065e-07 |  2.164521e-07 |  2.589323e-07 | \n",
       "| ok            |  0.6103833    |  0.4814090    | -0.008950297  |  0.1219451    |  0.12317674   |  0.1027243    |  0.18451136   | ...           | 2.338171e-04  | 3.708371e-05  |  3.410086e-05 | -5.621202e-06 |  1.255696e-06 | -1.056259e-07 |  2.672928e-07 | -1.305243e-08 | \n",
       "| ok            |  1.2523364    |  0.1277102    |  0.355502868  | -0.5854936    | -0.14865317   |  0.1116622    | -0.09179015   | ...           | 1.054102e-05  | 1.658314e-06  | -5.465744e-07 |  5.638370e-06 | -1.270087e-06 | -1.270081e-07 | -4.850343e-08 | -4.259254e-08 | \n",
       "| ok            |  3.2552315    | -0.2288814    | -0.348419773  | -0.5829716    | -0.38747739   | -0.2802617    | -0.29933962   | ...           | 7.411936e-06  | 1.948774e-07  |  3.329543e-07 | -1.755975e-06 |  1.100394e-06 |  6.751165e-08 |  1.677625e-07 | -5.021383e-09 | \n",
       "| ... | ... | ... | ... | ... | ... | ... | ... |     | ... | ... | ... | ... | ... | ... | ... | ... | \n",
       "| ok            |  3.126282     | -0.1362689    | -0.1783377    | -0.6133246    | -0.4372574    | -0.20600016   | -0.1986409    | ...           | 2.053730e-05  | -1.098023e-07 |  2.673164e-06 | 1.253596e-06  | -3.006207e-07 | -1.048244e-07 | -5.535158e-08 |  6.725619e-09 | \n",
       "| ok            |  3.250704     | -0.1289573    | -0.2569114    | -0.6935438    | -0.4859656    | -0.25847875   | -0.2450655    | ...           | 1.903363e-05  | -6.785794e-07 |  3.153119e-06 | 1.330568e-06  |  4.602546e-07 | -6.413174e-08 |  7.524155e-08 | -1.628333e-09 | \n",
       "| ok            | -2.403214     |  2.6732456    |  1.7367785    |  1.0067654    |  0.1202448    |  1.24776887   |  1.6505132    | ...           | 7.489319e-07  |  7.882732e-06 |  8.260948e-06 | 1.694544e-05  |  1.508774e-05 |  1.322164e-06 | -4.995597e-07 |  1.694026e-07 | \n",
       "| ok            |  0.774811     |  0.4725138    |  0.3465301    |  0.1107992    | -0.2171770    |  0.02709153   |  0.2161844    | ...           | 1.339771e-05  |  5.825868e-06 | -1.688554e-06 | 8.114754e-06  | -2.235778e-06 |  1.622871e-07 | -5.596551e-08 |  2.299942e-08 | \n",
       "\n",
       "\n"
      ],
      "text/plain": [
       "      class PC1        PC2        PC3          PC4        PC5        \n",
       "1     ok    -2.4075127  1.2751767  1.550138983  0.9804104  0.08301728\n",
       "2     ok     0.6103833  0.4814090 -0.008950297  0.1219451  0.12317674\n",
       "3     ok     1.2523364  0.1277102  0.355502868 -0.5854936 -0.14865317\n",
       "4     ok     3.2552315 -0.2288814 -0.348419773 -0.5829716 -0.38747739\n",
       "...   ...   ...        ...        ...          ...        ...        \n",
       "59997 ok     3.126282  -0.1362689 -0.1783377   -0.6133246 -0.4372574 \n",
       "59998 ok     3.250704  -0.1289573 -0.2569114   -0.6935438 -0.4859656 \n",
       "59999 ok    -2.403214   2.6732456  1.7367785    1.0067654  0.1202448 \n",
       "60000 ok     0.774811   0.4725138  0.3465301    0.1107992 -0.2171770 \n",
       "      PC6         PC7         ... PC162        PC163         PC164        \n",
       "1      0.7549007   0.47111175 ... 7.069132e-06 1.343734e-06   1.301418e-06\n",
       "2      0.1027243   0.18451136 ... 2.338171e-04 3.708371e-05   3.410086e-05\n",
       "3      0.1116622  -0.09179015 ... 1.054102e-05 1.658314e-06  -5.465744e-07\n",
       "4     -0.2802617  -0.29933962 ... 7.411936e-06 1.948774e-07   3.329543e-07\n",
       "...   ...         ...             ...          ...           ...          \n",
       "59997 -0.20600016 -0.1986409  ... 2.053730e-05 -1.098023e-07  2.673164e-06\n",
       "59998 -0.25847875 -0.2450655  ... 1.903363e-05 -6.785794e-07  3.153119e-06\n",
       "59999  1.24776887  1.6505132  ... 7.489319e-07  7.882732e-06  8.260948e-06\n",
       "60000  0.02709153  0.2161844  ... 1.339771e-05  5.825868e-06 -1.688554e-06\n",
       "      PC165         PC166         PC167         PC168         PC169        \n",
       "1      2.075792e-05 -2.923084e-05 -5.097065e-07  2.164521e-07  2.589323e-07\n",
       "2     -5.621202e-06  1.255696e-06 -1.056259e-07  2.672928e-07 -1.305243e-08\n",
       "3      5.638370e-06 -1.270087e-06 -1.270081e-07 -4.850343e-08 -4.259254e-08\n",
       "4     -1.755975e-06  1.100394e-06  6.751165e-08  1.677625e-07 -5.021383e-09\n",
       "...   ...           ...           ...           ...           ...          \n",
       "59997 1.253596e-06  -3.006207e-07 -1.048244e-07 -5.535158e-08  6.725619e-09\n",
       "59998 1.330568e-06   4.602546e-07 -6.413174e-08  7.524155e-08 -1.628333e-09\n",
       "59999 1.694544e-05   1.508774e-05  1.322164e-06 -4.995597e-07  1.694026e-07\n",
       "60000 8.114754e-06  -2.235778e-06  1.622871e-07 -5.596551e-08  2.299942e-08"
      ]
     },
     "metadata": {},
     "output_type": "display_data"
    }
   ],
   "source": [
    "data.2.stripped = data.2[,-zero_var]\n",
    "pc.3 = prcomp(data.2.stripped[,-1], scale=TRUE, retx=TRUE)\n",
    "data.3.all = as.data.frame(pc.3$x)\n",
    "data.3.all = cbind(data.2[,\"class\",drop=FALSE], data.3.all)\n",
    "data.3.all"
   ]
  },
  {
   "cell_type": "code",
   "execution_count": 14,
   "metadata": {},
   "outputs": [],
   "source": [
    "axis = names(data.3.all[,-1])\n",
    "standard_deviation = apply_each(data.3.all[,-1], sd)\n",
    "variance = standard_deviation^2\n",
    "cum_variance = cumsum(variance)\n",
    "proportion = variance / sum(variance)\n",
    "cum_proportion = cumsum(proportion)\n",
    "\n",
    "scree.all = data.frame(axis, standard_deviation, variance, cum_variance, proportion, cum_proportion)"
   ]
  },
  {
   "cell_type": "code",
   "execution_count": 15,
   "metadata": {},
   "outputs": [
    {
     "data": {},
     "metadata": {},
     "output_type": "display_data"
    },
    {
     "data": {
      "image/png": "[encoded data removed]",
      "text/plain": [
       "plot without title"
      ]
     },
     "metadata": {},
     "output_type": "display_data"
    }
   ],
   "source": [
    "ggplot(scree.all) + geom_col(aes(x=factor(axis, levels=axis), y=proportion)) + ylim(0,1) +\n",
    "theme(axis.text.x=element_text(size=4, hjust=1, angle=90))"
   ]
  },
  {
   "cell_type": "code",
   "execution_count": 16,
   "metadata": {
    "scrolled": true
   },
   "outputs": [
    {
     "data": {
      "text/html": [
       "<table>\n",
       "<thead><tr><th scope=col>axis</th><th scope=col>standard_deviation</th><th scope=col>variance</th><th scope=col>cum_variance</th><th scope=col>proportion</th><th scope=col>cum_proportion</th></tr></thead>\n",
       "<tbody>\n",
       "\t<tr><td>PC1       </td><td>7.024202  </td><td>49.339407 </td><td>49.33941  </td><td>0.29194915</td><td>0.2919492 </td></tr>\n",
       "\t<tr><td>PC2       </td><td>2.817958  </td><td> 7.940885 </td><td>57.28029  </td><td>0.04698749</td><td>0.3389366 </td></tr>\n",
       "\t<tr><td>PC3       </td><td>2.642118  </td><td> 6.980788 </td><td>64.26108  </td><td>0.04130644</td><td>0.3802431 </td></tr>\n",
       "\t<tr><td>PC4       </td><td>2.356553  </td><td> 5.553342 </td><td>69.81442  </td><td>0.03286001</td><td>0.4131031 </td></tr>\n",
       "\t<tr><td>...</td><td>...</td><td>...</td><td>...</td><td>...</td><td>...</td></tr>\n",
       "\t<tr><td>PC166       </td><td>2.031222e-05</td><td>4.125864e-10</td><td>169         </td><td>2.441340e-12</td><td>1           </td></tr>\n",
       "\t<tr><td>PC167       </td><td>5.714039e-06</td><td>3.265024e-11</td><td>169         </td><td>1.931967e-13</td><td>1           </td></tr>\n",
       "\t<tr><td>PC168       </td><td>3.499579e-06</td><td>1.224705e-11</td><td>169         </td><td>7.246778e-14</td><td>1           </td></tr>\n",
       "\t<tr><td>PC169       </td><td>9.643877e-07</td><td>9.300436e-13</td><td>169         </td><td>5.503217e-15</td><td>1           </td></tr>\n",
       "</tbody>\n",
       "</table>\n"
      ],
      "text/latex": [
       "\\begin{tabular}{r|llllll}\n",
       " axis & standard\\_deviation & variance & cum\\_variance & proportion & cum\\_proportion\\\\\n",
       "\\hline\n",
       "\t PC1        & 7.024202   & 49.339407  & 49.33941   & 0.29194915 & 0.2919492 \\\\\n",
       "\t PC2        & 2.817958   &  7.940885  & 57.28029   & 0.04698749 & 0.3389366 \\\\\n",
       "\t PC3        & 2.642118   &  6.980788  & 64.26108   & 0.04130644 & 0.3802431 \\\\\n",
       "\t PC4        & 2.356553   &  5.553342  & 69.81442   & 0.03286001 & 0.4131031 \\\\\n",
       "\t ... & ... & ... & ... & ... & ...\\\\\n",
       "\t PC166        & 2.031222e-05 & 4.125864e-10 & 169          & 2.441340e-12 & 1           \\\\\n",
       "\t PC167        & 5.714039e-06 & 3.265024e-11 & 169          & 1.931967e-13 & 1           \\\\\n",
       "\t PC168        & 3.499579e-06 & 1.224705e-11 & 169          & 7.246778e-14 & 1           \\\\\n",
       "\t PC169        & 9.643877e-07 & 9.300436e-13 & 169          & 5.503217e-15 & 1           \\\\\n",
       "\\end{tabular}\n"
      ],
      "text/markdown": [
       "\n",
       "axis | standard_deviation | variance | cum_variance | proportion | cum_proportion | \n",
       "|---|---|---|---|---|---|---|---|---|\n",
       "| PC1        | 7.024202   | 49.339407  | 49.33941   | 0.29194915 | 0.2919492  | \n",
       "| PC2        | 2.817958   |  7.940885  | 57.28029   | 0.04698749 | 0.3389366  | \n",
       "| PC3        | 2.642118   |  6.980788  | 64.26108   | 0.04130644 | 0.3802431  | \n",
       "| PC4        | 2.356553   |  5.553342  | 69.81442   | 0.03286001 | 0.4131031  | \n",
       "| ... | ... | ... | ... | ... | ... | \n",
       "| PC166        | 2.031222e-05 | 4.125864e-10 | 169          | 2.441340e-12 | 1            | \n",
       "| PC167        | 5.714039e-06 | 3.265024e-11 | 169          | 1.931967e-13 | 1            | \n",
       "| PC168        | 3.499579e-06 | 1.224705e-11 | 169          | 7.246778e-14 | 1            | \n",
       "| PC169        | 9.643877e-07 | 9.300436e-13 | 169          | 5.503217e-15 | 1            | \n",
       "\n",
       "\n"
      ],
      "text/plain": [
       "    axis  standard_deviation variance     cum_variance proportion  \n",
       "1   PC1   7.024202           49.339407    49.33941     0.29194915  \n",
       "2   PC2   2.817958            7.940885    57.28029     0.04698749  \n",
       "3   PC3   2.642118            6.980788    64.26108     0.04130644  \n",
       "4   PC4   2.356553            5.553342    69.81442     0.03286001  \n",
       "... ...   ...                ...          ...          ...         \n",
       "166 PC166 2.031222e-05       4.125864e-10 169          2.441340e-12\n",
       "167 PC167 5.714039e-06       3.265024e-11 169          1.931967e-13\n",
       "168 PC168 3.499579e-06       1.224705e-11 169          7.246778e-14\n",
       "169 PC169 9.643877e-07       9.300436e-13 169          5.503217e-15\n",
       "    cum_proportion\n",
       "1   0.2919492     \n",
       "2   0.3389366     \n",
       "3   0.3802431     \n",
       "4   0.4131031     \n",
       "... ...           \n",
       "166 1             \n",
       "167 1             \n",
       "168 1             \n",
       "169 1             "
      ]
     },
     "metadata": {},
     "output_type": "display_data"
    }
   ],
   "source": [
    "scree.all"
   ]
  },
  {
   "cell_type": "code",
   "execution_count": 17,
   "metadata": {
    "scrolled": true
   },
   "outputs": [],
   "source": [
    "scree = scree.all[c(which(scree.all$cum_proportion <= 0.75), (which(scree.all$cum_proportion > 0.75))[1]), ]"
   ]
  },
  {
   "cell_type": "code",
   "execution_count": 18,
   "metadata": {},
   "outputs": [
    {
     "data": {},
     "metadata": {},
     "output_type": "display_data"
    },
    {
     "data": {
      "image/png": "[encoded data removed]",
      "text/plain": [
       "plot without title"
      ]
     },
     "metadata": {},
     "output_type": "display_data"
    }
   ],
   "source": [
    "ggplot(scree) + geom_col(aes(x=factor(axis, levels=axis), y=proportion)) + ylim(0,1) +\n",
    "theme(axis.text.x=element_text(hjust=1, vjust=0.5, angle=90))"
   ]
  },
  {
   "cell_type": "code",
   "execution_count": 19,
   "metadata": {
    "scrolled": true
   },
   "outputs": [
    {
     "data": {
      "text/html": [
       "<table>\n",
       "<thead><tr><th scope=col>axis</th><th scope=col>standard_deviation</th><th scope=col>variance</th><th scope=col>cum_variance</th><th scope=col>proportion</th><th scope=col>cum_proportion</th></tr></thead>\n",
       "<tbody>\n",
       "\t<tr><td>PC1       </td><td>7.024202  </td><td>49.339407 </td><td>49.33941  </td><td>0.29194915</td><td>0.2919492 </td></tr>\n",
       "\t<tr><td>PC2       </td><td>2.817958  </td><td> 7.940885 </td><td>57.28029  </td><td>0.04698749</td><td>0.3389366 </td></tr>\n",
       "\t<tr><td>PC3       </td><td>2.642118  </td><td> 6.980788 </td><td>64.26108  </td><td>0.04130644</td><td>0.3802431 </td></tr>\n",
       "\t<tr><td>PC4       </td><td>2.356553  </td><td> 5.553342 </td><td>69.81442  </td><td>0.03286001</td><td>0.4131031 </td></tr>\n",
       "\t<tr><td>...</td><td>...</td><td>...</td><td>...</td><td>...</td><td>...</td></tr>\n",
       "\t<tr><td>PC31       </td><td>1.082391   </td><td>1.171571   </td><td>124.4232   </td><td>0.006932370</td><td>0.7362320  </td></tr>\n",
       "\t<tr><td>PC32       </td><td>1.072142   </td><td>1.149488   </td><td>125.5727   </td><td>0.006801707</td><td>0.7430337  </td></tr>\n",
       "\t<tr><td>PC33       </td><td>1.063388   </td><td>1.130794   </td><td>126.7035   </td><td>0.006691086</td><td>0.7497248  </td></tr>\n",
       "\t<tr><td>PC34       </td><td>1.053463   </td><td>1.109785   </td><td>127.8133   </td><td>0.006566775</td><td>0.7562915  </td></tr>\n",
       "</tbody>\n",
       "</table>\n"
      ],
      "text/latex": [
       "\\begin{tabular}{r|llllll}\n",
       " axis & standard\\_deviation & variance & cum\\_variance & proportion & cum\\_proportion\\\\\n",
       "\\hline\n",
       "\t PC1        & 7.024202   & 49.339407  & 49.33941   & 0.29194915 & 0.2919492 \\\\\n",
       "\t PC2        & 2.817958   &  7.940885  & 57.28029   & 0.04698749 & 0.3389366 \\\\\n",
       "\t PC3        & 2.642118   &  6.980788  & 64.26108   & 0.04130644 & 0.3802431 \\\\\n",
       "\t PC4        & 2.356553   &  5.553342  & 69.81442   & 0.03286001 & 0.4131031 \\\\\n",
       "\t ... & ... & ... & ... & ... & ...\\\\\n",
       "\t PC31        & 1.082391    & 1.171571    & 124.4232    & 0.006932370 & 0.7362320  \\\\\n",
       "\t PC32        & 1.072142    & 1.149488    & 125.5727    & 0.006801707 & 0.7430337  \\\\\n",
       "\t PC33        & 1.063388    & 1.130794    & 126.7035    & 0.006691086 & 0.7497248  \\\\\n",
       "\t PC34        & 1.053463    & 1.109785    & 127.8133    & 0.006566775 & 0.7562915  \\\\\n",
       "\\end{tabular}\n"
      ],
      "text/markdown": [
       "\n",
       "axis | standard_deviation | variance | cum_variance | proportion | cum_proportion | \n",
       "|---|---|---|---|---|---|---|---|---|\n",
       "| PC1        | 7.024202   | 49.339407  | 49.33941   | 0.29194915 | 0.2919492  | \n",
       "| PC2        | 2.817958   |  7.940885  | 57.28029   | 0.04698749 | 0.3389366  | \n",
       "| PC3        | 2.642118   |  6.980788  | 64.26108   | 0.04130644 | 0.3802431  | \n",
       "| PC4        | 2.356553   |  5.553342  | 69.81442   | 0.03286001 | 0.4131031  | \n",
       "| ... | ... | ... | ... | ... | ... | \n",
       "| PC31        | 1.082391    | 1.171571    | 124.4232    | 0.006932370 | 0.7362320   | \n",
       "| PC32        | 1.072142    | 1.149488    | 125.5727    | 0.006801707 | 0.7430337   | \n",
       "| PC33        | 1.063388    | 1.130794    | 126.7035    | 0.006691086 | 0.7497248   | \n",
       "| PC34        | 1.053463    | 1.109785    | 127.8133    | 0.006566775 | 0.7562915   | \n",
       "\n",
       "\n"
      ],
      "text/plain": [
       "    axis standard_deviation variance  cum_variance proportion  cum_proportion\n",
       "1   PC1  7.024202           49.339407 49.33941     0.29194915  0.2919492     \n",
       "2   PC2  2.817958            7.940885 57.28029     0.04698749  0.3389366     \n",
       "3   PC3  2.642118            6.980788 64.26108     0.04130644  0.3802431     \n",
       "4   PC4  2.356553            5.553342 69.81442     0.03286001  0.4131031     \n",
       "... ...  ...                ...       ...          ...         ...           \n",
       "31  PC31 1.082391           1.171571  124.4232     0.006932370 0.7362320     \n",
       "32  PC32 1.072142           1.149488  125.5727     0.006801707 0.7430337     \n",
       "33  PC33 1.063388           1.130794  126.7035     0.006691086 0.7497248     \n",
       "34  PC34 1.053463           1.109785  127.8133     0.006566775 0.7562915     "
      ]
     },
     "metadata": {},
     "output_type": "display_data"
    }
   ],
   "source": [
    "scree"
   ]
  },
  {
   "cell_type": "code",
   "execution_count": 20,
   "metadata": {
    "scrolled": true
   },
   "outputs": [
    {
     "data": {
      "text/html": [
       "<ol class=list-inline>\n",
       "\t<li>60000</li>\n",
       "\t<li>35</li>\n",
       "</ol>\n"
      ],
      "text/latex": [
       "\\begin{enumerate*}\n",
       "\\item 60000\n",
       "\\item 35\n",
       "\\end{enumerate*}\n"
      ],
      "text/markdown": [
       "1. 60000\n",
       "2. 35\n",
       "\n",
       "\n"
      ],
      "text/plain": [
       "[1] 60000    35"
      ]
     },
     "metadata": {},
     "output_type": "display_data"
    },
    {
     "data": {
      "text/html": [
       "<table>\n",
       "<thead><tr><th scope=col>class</th><th scope=col>PC1</th><th scope=col>PC2</th><th scope=col>PC3</th><th scope=col>PC4</th><th scope=col>PC5</th><th scope=col>PC6</th><th scope=col>PC7</th><th scope=col>...</th><th scope=col>PC27</th><th scope=col>PC28</th><th scope=col>PC29</th><th scope=col>PC30</th><th scope=col>PC31</th><th scope=col>PC32</th><th scope=col>PC33</th><th scope=col>PC34</th></tr></thead>\n",
       "<tbody>\n",
       "\t<tr><td>ok          </td><td>-2.4075127  </td><td> 1.2751767  </td><td> 1.550138983</td><td> 0.9804104  </td><td> 0.08301728 </td><td> 0.7549007  </td><td> 0.47111175 </td><td>...         </td><td>-0.34330672 </td><td>-0.18664475 </td><td> 0.37078708 </td><td> 0.51592835 </td><td> 0.4527289  </td><td> 0.97235515 </td><td> 0.8889873  </td><td> 0.46746869 </td></tr>\n",
       "\t<tr><td>ok          </td><td> 0.6103833  </td><td> 0.4814090  </td><td>-0.008950297</td><td> 0.1219451  </td><td> 0.12317674 </td><td> 0.1027243  </td><td> 0.18451136 </td><td>...         </td><td>-0.05441872 </td><td> 0.07653484 </td><td> 0.03678815 </td><td> 0.09182802 </td><td>-0.1384395  </td><td>-0.28192298 </td><td>-0.3859934  </td><td>-0.38027431 </td></tr>\n",
       "\t<tr><td>ok          </td><td> 1.2523364  </td><td> 0.1277102  </td><td> 0.355502868</td><td>-0.5854936  </td><td>-0.14865317 </td><td> 0.1116622  </td><td>-0.09179015 </td><td>...         </td><td> 0.03069368 </td><td> 0.04214910 </td><td> 0.12525128 </td><td> 0.02675326 </td><td>-0.3009079  </td><td>-0.08041654 </td><td>-0.3636040  </td><td> 0.06716915 </td></tr>\n",
       "\t<tr><td>ok          </td><td> 3.2552315  </td><td>-0.2288814  </td><td>-0.348419773</td><td>-0.5829716  </td><td>-0.38747739 </td><td>-0.2802617  </td><td>-0.29933962 </td><td>...         </td><td> 0.13537159 </td><td>-0.19744619 </td><td>-0.75889314 </td><td>-0.58853491 </td><td>-0.2746257  </td><td> 1.46806509 </td><td>-1.2064397  </td><td>-0.52816473 </td></tr>\n",
       "\t<tr><td>...</td><td>...</td><td>...</td><td>...</td><td>...</td><td>...</td><td>...</td><td>...</td><td>   </td><td>...</td><td>...</td><td>...</td><td>...</td><td>...</td><td>...</td><td>...</td><td>...</td></tr>\n",
       "\t<tr><td>ok          </td><td> 3.126282   </td><td>-0.1362689  </td><td>-0.1783377  </td><td>-0.6133246  </td><td>-0.4372574  </td><td>-0.20600016 </td><td>-0.1986409  </td><td>...         </td><td>-0.13504796 </td><td>-0.23817319 </td><td> 0.072490416</td><td> 0.20370255 </td><td> 0.5618946  </td><td> 0.7778890  </td><td> 1.1158436  </td><td> 0.4601366  </td></tr>\n",
       "\t<tr><td>ok          </td><td> 3.250704   </td><td>-0.1289573  </td><td>-0.2569114  </td><td>-0.6935438  </td><td>-0.4859656  </td><td>-0.25847875 </td><td>-0.2450655  </td><td>...         </td><td>-0.16439172 </td><td>-0.25065943 </td><td> 0.151075117</td><td> 0.25581754 </td><td> 0.4539065  </td><td> 0.7150723  </td><td> 1.2089993  </td><td> 0.5402322  </td></tr>\n",
       "\t<tr><td>ok          </td><td>-2.403214   </td><td> 2.6732456  </td><td> 1.7367785  </td><td> 1.0067654  </td><td> 0.1202448  </td><td> 1.24776887 </td><td> 1.6505132  </td><td>...         </td><td> 1.05799382 </td><td>-0.66691766 </td><td>-0.617386626</td><td> 0.06455276 </td><td> 0.2288381  </td><td> 1.7927019  </td><td> 1.7826721  </td><td> 2.2548000  </td></tr>\n",
       "\t<tr><td>ok          </td><td> 0.774811   </td><td> 0.4725138  </td><td> 0.3465301  </td><td> 0.1107992  </td><td>-0.2171770  </td><td> 0.02709153 </td><td> 0.2161844  </td><td>...         </td><td>-0.02827813 </td><td> 0.09575574 </td><td>-0.008439196</td><td>-0.12955141 </td><td>-0.3846022  </td><td>-0.3639691  </td><td>-0.3722297  </td><td>-0.1816611  </td></tr>\n",
       "</tbody>\n",
       "</table>\n"
      ],
      "text/latex": [
       "\\begin{tabular}{r|lllllllllllllllllllllllllllllllllll}\n",
       " class & PC1 & PC2 & PC3 & PC4 & PC5 & PC6 & PC7 & ... & PC27 & PC28 & PC29 & PC30 & PC31 & PC32 & PC33 & PC34\\\\\n",
       "\\hline\n",
       "\t ok           & -2.4075127   &  1.2751767   &  1.550138983 &  0.9804104   &  0.08301728  &  0.7549007   &  0.47111175  & ...          & -0.34330672  & -0.18664475  &  0.37078708  &  0.51592835  &  0.4527289   &  0.97235515  &  0.8889873   &  0.46746869 \\\\\n",
       "\t ok           &  0.6103833   &  0.4814090   & -0.008950297 &  0.1219451   &  0.12317674  &  0.1027243   &  0.18451136  & ...          & -0.05441872  &  0.07653484  &  0.03678815  &  0.09182802  & -0.1384395   & -0.28192298  & -0.3859934   & -0.38027431 \\\\\n",
       "\t ok           &  1.2523364   &  0.1277102   &  0.355502868 & -0.5854936   & -0.14865317  &  0.1116622   & -0.09179015  & ...          &  0.03069368  &  0.04214910  &  0.12525128  &  0.02675326  & -0.3009079   & -0.08041654  & -0.3636040   &  0.06716915 \\\\\n",
       "\t ok           &  3.2552315   & -0.2288814   & -0.348419773 & -0.5829716   & -0.38747739  & -0.2802617   & -0.29933962  & ...          &  0.13537159  & -0.19744619  & -0.75889314  & -0.58853491  & -0.2746257   &  1.46806509  & -1.2064397   & -0.52816473 \\\\\n",
       "\t ... & ... & ... & ... & ... & ... & ... & ... &     & ... & ... & ... & ... & ... & ... & ... & ...\\\\\n",
       "\t ok           &  3.126282    & -0.1362689   & -0.1783377   & -0.6133246   & -0.4372574   & -0.20600016  & -0.1986409   & ...          & -0.13504796  & -0.23817319  &  0.072490416 &  0.20370255  &  0.5618946   &  0.7778890   &  1.1158436   &  0.4601366  \\\\\n",
       "\t ok           &  3.250704    & -0.1289573   & -0.2569114   & -0.6935438   & -0.4859656   & -0.25847875  & -0.2450655   & ...          & -0.16439172  & -0.25065943  &  0.151075117 &  0.25581754  &  0.4539065   &  0.7150723   &  1.2089993   &  0.5402322  \\\\\n",
       "\t ok           & -2.403214    &  2.6732456   &  1.7367785   &  1.0067654   &  0.1202448   &  1.24776887  &  1.6505132   & ...          &  1.05799382  & -0.66691766  & -0.617386626 &  0.06455276  &  0.2288381   &  1.7927019   &  1.7826721   &  2.2548000  \\\\\n",
       "\t ok           &  0.774811    &  0.4725138   &  0.3465301   &  0.1107992   & -0.2171770   &  0.02709153  &  0.2161844   & ...          & -0.02827813  &  0.09575574  & -0.008439196 & -0.12955141  & -0.3846022   & -0.3639691   & -0.3722297   & -0.1816611  \\\\\n",
       "\\end{tabular}\n"
      ],
      "text/markdown": [
       "\n",
       "class | PC1 | PC2 | PC3 | PC4 | PC5 | PC6 | PC7 | ... | PC27 | PC28 | PC29 | PC30 | PC31 | PC32 | PC33 | PC34 | \n",
       "|---|---|---|---|---|---|---|---|---|\n",
       "| ok           | -2.4075127   |  1.2751767   |  1.550138983 |  0.9804104   |  0.08301728  |  0.7549007   |  0.47111175  | ...          | -0.34330672  | -0.18664475  |  0.37078708  |  0.51592835  |  0.4527289   |  0.97235515  |  0.8889873   |  0.46746869  | \n",
       "| ok           |  0.6103833   |  0.4814090   | -0.008950297 |  0.1219451   |  0.12317674  |  0.1027243   |  0.18451136  | ...          | -0.05441872  |  0.07653484  |  0.03678815  |  0.09182802  | -0.1384395   | -0.28192298  | -0.3859934   | -0.38027431  | \n",
       "| ok           |  1.2523364   |  0.1277102   |  0.355502868 | -0.5854936   | -0.14865317  |  0.1116622   | -0.09179015  | ...          |  0.03069368  |  0.04214910  |  0.12525128  |  0.02675326  | -0.3009079   | -0.08041654  | -0.3636040   |  0.06716915  | \n",
       "| ok           |  3.2552315   | -0.2288814   | -0.348419773 | -0.5829716   | -0.38747739  | -0.2802617   | -0.29933962  | ...          |  0.13537159  | -0.19744619  | -0.75889314  | -0.58853491  | -0.2746257   |  1.46806509  | -1.2064397   | -0.52816473  | \n",
       "| ... | ... | ... | ... | ... | ... | ... | ... |     | ... | ... | ... | ... | ... | ... | ... | ... | \n",
       "| ok           |  3.126282    | -0.1362689   | -0.1783377   | -0.6133246   | -0.4372574   | -0.20600016  | -0.1986409   | ...          | -0.13504796  | -0.23817319  |  0.072490416 |  0.20370255  |  0.5618946   |  0.7778890   |  1.1158436   |  0.4601366   | \n",
       "| ok           |  3.250704    | -0.1289573   | -0.2569114   | -0.6935438   | -0.4859656   | -0.25847875  | -0.2450655   | ...          | -0.16439172  | -0.25065943  |  0.151075117 |  0.25581754  |  0.4539065   |  0.7150723   |  1.2089993   |  0.5402322   | \n",
       "| ok           | -2.403214    |  2.6732456   |  1.7367785   |  1.0067654   |  0.1202448   |  1.24776887  |  1.6505132   | ...          |  1.05799382  | -0.66691766  | -0.617386626 |  0.06455276  |  0.2288381   |  1.7927019   |  1.7826721   |  2.2548000   | \n",
       "| ok           |  0.774811    |  0.4725138   |  0.3465301   |  0.1107992   | -0.2171770   |  0.02709153  |  0.2161844   | ...          | -0.02827813  |  0.09575574  | -0.008439196 | -0.12955141  | -0.3846022   | -0.3639691   | -0.3722297   | -0.1816611   | \n",
       "\n",
       "\n"
      ],
      "text/plain": [
       "      class PC1        PC2        PC3          PC4        PC5        \n",
       "1     ok    -2.4075127  1.2751767  1.550138983  0.9804104  0.08301728\n",
       "2     ok     0.6103833  0.4814090 -0.008950297  0.1219451  0.12317674\n",
       "3     ok     1.2523364  0.1277102  0.355502868 -0.5854936 -0.14865317\n",
       "4     ok     3.2552315 -0.2288814 -0.348419773 -0.5829716 -0.38747739\n",
       "...   ...   ...        ...        ...          ...        ...        \n",
       "59997 ok     3.126282  -0.1362689 -0.1783377   -0.6133246 -0.4372574 \n",
       "59998 ok     3.250704  -0.1289573 -0.2569114   -0.6935438 -0.4859656 \n",
       "59999 ok    -2.403214   2.6732456  1.7367785    1.0067654  0.1202448 \n",
       "60000 ok     0.774811   0.4725138  0.3465301    0.1107992 -0.2171770 \n",
       "      PC6         PC7         ... PC27        PC28        PC29        \n",
       "1      0.7549007   0.47111175 ... -0.34330672 -0.18664475  0.37078708 \n",
       "2      0.1027243   0.18451136 ... -0.05441872  0.07653484  0.03678815 \n",
       "3      0.1116622  -0.09179015 ...  0.03069368  0.04214910  0.12525128 \n",
       "4     -0.2802617  -0.29933962 ...  0.13537159 -0.19744619 -0.75889314 \n",
       "...   ...         ...             ...         ...         ...         \n",
       "59997 -0.20600016 -0.1986409  ... -0.13504796 -0.23817319  0.072490416\n",
       "59998 -0.25847875 -0.2450655  ... -0.16439172 -0.25065943  0.151075117\n",
       "59999  1.24776887  1.6505132  ...  1.05799382 -0.66691766 -0.617386626\n",
       "60000  0.02709153  0.2161844  ... -0.02827813  0.09575574 -0.008439196\n",
       "      PC30        PC31       PC32        PC33       PC34       \n",
       "1      0.51592835  0.4527289  0.97235515  0.8889873  0.46746869\n",
       "2      0.09182802 -0.1384395 -0.28192298 -0.3859934 -0.38027431\n",
       "3      0.02675326 -0.3009079 -0.08041654 -0.3636040  0.06716915\n",
       "4     -0.58853491 -0.2746257  1.46806509 -1.2064397 -0.52816473\n",
       "...   ...         ...        ...         ...        ...        \n",
       "59997  0.20370255  0.5618946  0.7778890   1.1158436  0.4601366 \n",
       "59998  0.25581754  0.4539065  0.7150723   1.2089993  0.5402322 \n",
       "59999  0.06455276  0.2288381  1.7927019   1.7826721  2.2548000 \n",
       "60000 -0.12955141 -0.3846022 -0.3639691  -0.3722297 -0.1816611 "
      ]
     },
     "metadata": {},
     "output_type": "display_data"
    }
   ],
   "source": [
    "data.3 = data.3.all[, 1:(nrow(scree)+1)]\n",
    "dim(data.3)\n",
    "data.3"
   ]
  },
  {
   "cell_type": "markdown",
   "metadata": {},
   "source": [
    "<br>\n",
    "#### Build models & check in-sample performance."
   ]
  },
  {
   "cell_type": "code",
   "execution_count": 21,
   "metadata": {},
   "outputs": [],
   "source": [
    "mymodel.3 = naiveBayes(class ~ ., data.3)"
   ]
  },
  {
   "cell_type": "code",
   "execution_count": 22,
   "metadata": {},
   "outputs": [
    {
     "data": {
      "text/plain": [
       "          Reference\n",
       "Prediction failure    ok\n",
       "   failure     801  1535\n",
       "   ok          199 57465"
      ]
     },
     "metadata": {},
     "output_type": "display_data"
    },
    {
     "data": {
      "text/plain": [
       "          Reference\n",
       "Prediction     failure          ok\n",
       "   failure 0.013350000 0.025583333\n",
       "   ok      0.003316667 0.957750000"
      ]
     },
     "metadata": {},
     "output_type": "display_data"
    }
   ],
   "source": [
    "cutoff = 0.5\n",
    "prob = predict(mymodel.3, data.3, type=\"raw\") # may take about 30 seconds\n",
    "prediction = as.class.cutoff(prob, cutoff)\n",
    "cm = confusionMatrix(prediction, data.3$class)$table\n",
    "\n",
    "cm\n",
    "cm / nrow(data.3)"
   ]
  },
  {
   "cell_type": "code",
   "execution_count": 23,
   "metadata": {},
   "outputs": [
    {
     "data": {
      "text/plain": [
       "          Reference\n",
       "Prediction failure    ok\n",
       "   failure     805  1553\n",
       "   ok          195 57447"
      ]
     },
     "metadata": {},
     "output_type": "display_data"
    },
    {
     "data": {
      "text/plain": [
       "          Reference\n",
       "Prediction    failure         ok\n",
       "   failure 0.01341667 0.02588333\n",
       "   ok      0.00325000 0.95745000"
      ]
     },
     "metadata": {},
     "output_type": "display_data"
    }
   ],
   "source": [
    "cutoff = 0.25\n",
    "prob = predict(mymodel.3, data.3, type=\"raw\") # may take about 30 seconds\n",
    "prediction = as.class.cutoff(prob, cutoff)\n",
    "cm = confusionMatrix(prediction, data.3$class)$table\n",
    "\n",
    "cm\n",
    "cm / nrow(data.3)"
   ]
  },
  {
   "cell_type": "code",
   "execution_count": 24,
   "metadata": {},
   "outputs": [],
   "source": [
    "mymodel.4 = naiveBayes(class ~ PC1, data.3)"
   ]
  },
  {
   "cell_type": "code",
   "execution_count": 25,
   "metadata": {},
   "outputs": [
    {
     "data": {
      "text/plain": [
       "          Reference\n",
       "Prediction failure    ok\n",
       "   failure     649   979\n",
       "   ok          351 58021"
      ]
     },
     "metadata": {},
     "output_type": "display_data"
    },
    {
     "data": {
      "text/plain": [
       "          Reference\n",
       "Prediction    failure         ok\n",
       "   failure 0.01081667 0.01631667\n",
       "   ok      0.00585000 0.96701667"
      ]
     },
     "metadata": {},
     "output_type": "display_data"
    }
   ],
   "source": [
    "cutoff = 0.5\n",
    "prob = predict(mymodel.4, data.3, type=\"raw\") # may take about 15 seconds\n",
    "prediction = as.class.cutoff(prob, cutoff)\n",
    "cm = confusionMatrix(prediction, data.3$class)$table\n",
    "\n",
    "cm\n",
    "cm / nrow(data.3)"
   ]
  },
  {
   "cell_type": "code",
   "execution_count": 26,
   "metadata": {},
   "outputs": [
    {
     "data": {
      "text/plain": [
       "          Reference\n",
       "Prediction failure    ok\n",
       "   failure     708  1102\n",
       "   ok          292 57898"
      ]
     },
     "metadata": {},
     "output_type": "display_data"
    },
    {
     "data": {
      "text/plain": [
       "          Reference\n",
       "Prediction     failure          ok\n",
       "   failure 0.011800000 0.018366667\n",
       "   ok      0.004866667 0.964966667"
      ]
     },
     "metadata": {},
     "output_type": "display_data"
    }
   ],
   "source": [
    "cutoff = 0.25\n",
    "prob = predict(mymodel.4, data.3, type=\"raw\") # may take about 15 seconds\n",
    "prediction = as.class.cutoff(prob, cutoff)\n",
    "cm = confusionMatrix(prediction, data.3$class)$table\n",
    "\n",
    "cm\n",
    "cm / nrow(data.3)"
   ]
  },
  {
   "cell_type": "markdown",
   "metadata": {},
   "source": [
    "<br>\n",
    "___\n",
    "### Model 5: Based on Balanced Sample of Data\n",
    "\n",
    "Select a balanced sample of data.  This is `data.5`."
   ]
  },
  {
   "cell_type": "code",
   "execution_count": 27,
   "metadata": {},
   "outputs": [
    {
     "data": {
      "text/html": [
       "<table>\n",
       "<thead><tr><th scope=col>Var1</th><th scope=col>Freq</th></tr></thead>\n",
       "<tbody>\n",
       "\t<tr><td>failure</td><td> 1000  </td></tr>\n",
       "\t<tr><td>ok     </td><td>59000  </td></tr>\n",
       "</tbody>\n",
       "</table>\n"
      ],
      "text/latex": [
       "\\begin{tabular}{r|ll}\n",
       " Var1 & Freq\\\\\n",
       "\\hline\n",
       "\t failure &  1000  \\\\\n",
       "\t ok      & 59000  \\\\\n",
       "\\end{tabular}\n"
      ],
      "text/markdown": [
       "\n",
       "Var1 | Freq | \n",
       "|---|---|\n",
       "| failure |  1000   | \n",
       "| ok      | 59000   | \n",
       "\n",
       "\n"
      ],
      "text/plain": [
       "  Var1    Freq \n",
       "1 failure  1000\n",
       "2 ok      59000"
      ]
     },
     "metadata": {},
     "output_type": "display_data"
    },
    {
     "data": {},
     "metadata": {},
     "output_type": "display_data"
    },
    {
     "data": {
      "image/png": "[encoded data removed]",
      "text/plain": [
       "plot without title"
      ]
     },
     "metadata": {},
     "output_type": "display_data"
    }
   ],
   "source": [
    "frequency = as.data.frame(table(data.1$class))\n",
    "frequency\n",
    "\n",
    "ggplot(frequency) +\n",
    "geom_col(aes(x=Var1, y=Freq, fill=Var1)) + scale_fill_manual(values=PALETTE[1:2])"
   ]
  },
  {
   "cell_type": "code",
   "execution_count": 28,
   "metadata": {
    "scrolled": true
   },
   "outputs": [
    {
     "data": {
      "text/html": [
       "<ol class=list-inline>\n",
       "\t<li>1000</li>\n",
       "\t<li>171</li>\n",
       "</ol>\n"
      ],
      "text/latex": [
       "\\begin{enumerate*}\n",
       "\\item 1000\n",
       "\\item 171\n",
       "\\end{enumerate*}\n"
      ],
      "text/markdown": [
       "1. 1000\n",
       "2. 171\n",
       "\n",
       "\n"
      ],
      "text/plain": [
       "[1] 1000  171"
      ]
     },
     "metadata": {},
     "output_type": "display_data"
    },
    {
     "data": {
      "text/html": [
       "<table>\n",
       "<thead><tr><th></th><th scope=col>class</th><th scope=col>aa_000</th><th scope=col>ab_000</th><th scope=col>ac_000</th><th scope=col>ad_000</th><th scope=col>ae_000</th><th scope=col>af_000</th><th scope=col>ag_000</th><th scope=col>...</th><th scope=col>ee_004</th><th scope=col>ee_005</th><th scope=col>ee_006</th><th scope=col>ee_007</th><th scope=col>ee_008</th><th scope=col>ee_009</th><th scope=col>ef_000</th><th scope=col>eg_000</th></tr></thead>\n",
       "<tbody>\n",
       "\t<tr><th scope=row>43283</th><td>ok     </td><td> 60378 </td><td>NA     </td><td>  0    </td><td> NA    </td><td>0      </td><td>0      </td><td>0      </td><td>...    </td><td>1053738</td><td> 883584</td><td>  58926</td><td>  1998 </td><td>    538</td><td>     0 </td><td>0      </td><td>0      </td></tr>\n",
       "\t<tr><th scope=row>52561</th><td>ok     </td><td> 78474 </td><td>NA     </td><td>852    </td><td>800    </td><td>0      </td><td>0      </td><td>0      </td><td>...    </td><td> 765186</td><td> 573078</td><td> 438470</td><td>262770 </td><td> 253630</td><td>  4824 </td><td>0      </td><td>0      </td></tr>\n",
       "\t<tr><th scope=row>45683</th><td>ok     </td><td>279282 </td><td>NA     </td><td>  0    </td><td> NA    </td><td>0      </td><td>0      </td><td>0      </td><td>...    </td><td>2215270</td><td>1954530</td><td>1459878</td><td>997870 </td><td>1828382</td><td>223820 </td><td>0      </td><td>0      </td></tr>\n",
       "\t<tr><th scope=row>53185</th><td>ok     </td><td>  2186 </td><td>NA     </td><td> 68    </td><td> 62    </td><td>0      </td><td>0      </td><td>0      </td><td>...    </td><td>  20388</td><td>  33326</td><td>  18028</td><td> 13810 </td><td>    304</td><td>     0 </td><td>0      </td><td>0      </td></tr>\n",
       "\t<tr><th scope=row>...</th><td>...</td><td>...</td><td>...</td><td>...</td><td>...</td><td>...</td><td>...</td><td>...</td><td>   </td><td>...</td><td>...</td><td>...</td><td>...</td><td>...</td><td>...</td><td>...</td><td>...</td></tr>\n",
       "\t<tr><th scope=row>26922</th><td>ok    </td><td> 1016 </td><td>NA    </td><td>22    </td><td>NA    </td><td>0     </td><td>0     </td><td>NA    </td><td>...   </td><td>    NA</td><td>    NA</td><td>    NA</td><td>    NA</td><td>    NA</td><td>  NA  </td><td>0     </td><td>0     </td></tr>\n",
       "\t<tr><th scope=row>13249</th><td>ok    </td><td>49480 </td><td>NA    </td><td> 0    </td><td>NA    </td><td>0     </td><td>0     </td><td> 0    </td><td>...   </td><td>691896</td><td>473504</td><td>168438</td><td> 29198</td><td>  5620</td><td>   2  </td><td>0     </td><td>0     </td></tr>\n",
       "\t<tr><th scope=row>22314</th><td>ok    </td><td>   22 </td><td>NA    </td><td>24    </td><td>16    </td><td>0     </td><td>0     </td><td> 0    </td><td>...   </td><td>    60</td><td>    44</td><td>    54</td><td>   122</td><td>     0</td><td>   0  </td><td>0     </td><td>0     </td></tr>\n",
       "\t<tr><th scope=row>7913</th><td>ok    </td><td>29546 </td><td>NA    </td><td> 0    </td><td>NA    </td><td>0     </td><td>0     </td><td> 0    </td><td>...   </td><td>200492</td><td>223662</td><td>189532</td><td>143300</td><td>215084</td><td>3056  </td><td>0     </td><td>0     </td></tr>\n",
       "</tbody>\n",
       "</table>\n"
      ],
      "text/latex": [
       "\\begin{tabular}{r|lllllllllllllllllllllllllllllllllllllllllllllllllllllllllllllllllllllllllllllllllllllllllllllllllllllllllllllllllllllllllllllllllllllllllllllllllllllllllllllllllllllllllll}\n",
       "  & class & aa\\_000 & ab\\_000 & ac\\_000 & ad\\_000 & ae\\_000 & af\\_000 & ag\\_000 & ... & ee\\_004 & ee\\_005 & ee\\_006 & ee\\_007 & ee\\_008 & ee\\_009 & ef\\_000 & eg\\_000\\\\\n",
       "\\hline\n",
       "\t43283 & ok      &  60378  & NA      &   0     &  NA     & 0       & 0       & 0       & ...     & 1053738 &  883584 &   58926 &   1998  &     538 &      0  & 0       & 0      \\\\\n",
       "\t52561 & ok      &  78474  & NA      & 852     & 800     & 0       & 0       & 0       & ...     &  765186 &  573078 &  438470 & 262770  &  253630 &   4824  & 0       & 0      \\\\\n",
       "\t45683 & ok      & 279282  & NA      &   0     &  NA     & 0       & 0       & 0       & ...     & 2215270 & 1954530 & 1459878 & 997870  & 1828382 & 223820  & 0       & 0      \\\\\n",
       "\t53185 & ok      &   2186  & NA      &  68     &  62     & 0       & 0       & 0       & ...     &   20388 &   33326 &   18028 &  13810  &     304 &      0  & 0       & 0      \\\\\n",
       "\t... & ... & ... & ... & ... & ... & ... & ... & ... &     & ... & ... & ... & ... & ... & ... & ... & ...\\\\\n",
       "\t26922 & ok     &  1016  & NA     & 22     & NA     & 0      & 0      & NA     & ...    &     NA &     NA &     NA &     NA &     NA &   NA   & 0      & 0     \\\\\n",
       "\t13249 & ok     & 49480  & NA     &  0     & NA     & 0      & 0      &  0     & ...    & 691896 & 473504 & 168438 &  29198 &   5620 &    2   & 0      & 0     \\\\\n",
       "\t22314 & ok     &    22  & NA     & 24     & 16     & 0      & 0      &  0     & ...    &     60 &     44 &     54 &    122 &      0 &    0   & 0      & 0     \\\\\n",
       "\t7913 & ok     & 29546  & NA     &  0     & NA     & 0      & 0      &  0     & ...    & 200492 & 223662 & 189532 & 143300 & 215084 & 3056   & 0      & 0     \\\\\n",
       "\\end{tabular}\n"
      ],
      "text/markdown": [
       "\n",
       "| <!--/--> | class | aa_000 | ab_000 | ac_000 | ad_000 | ae_000 | af_000 | ag_000 | ... | ee_004 | ee_005 | ee_006 | ee_007 | ee_008 | ee_009 | ef_000 | eg_000 | \n",
       "|---|---|---|---|---|---|---|---|---|\n",
       "| 43283 | ok      |  60378  | NA      |   0     |  NA     | 0       | 0       | 0       | ...     | 1053738 |  883584 |   58926 |   1998  |     538 |      0  | 0       | 0       | \n",
       "| 52561 | ok      |  78474  | NA      | 852     | 800     | 0       | 0       | 0       | ...     |  765186 |  573078 |  438470 | 262770  |  253630 |   4824  | 0       | 0       | \n",
       "| 45683 | ok      | 279282  | NA      |   0     |  NA     | 0       | 0       | 0       | ...     | 2215270 | 1954530 | 1459878 | 997870  | 1828382 | 223820  | 0       | 0       | \n",
       "| 53185 | ok      |   2186  | NA      |  68     |  62     | 0       | 0       | 0       | ...     |   20388 |   33326 |   18028 |  13810  |     304 |      0  | 0       | 0       | \n",
       "| ... | ... | ... | ... | ... | ... | ... | ... | ... |     | ... | ... | ... | ... | ... | ... | ... | ... | \n",
       "| 26922 | ok     |  1016  | NA     | 22     | NA     | 0      | 0      | NA     | ...    |     NA |     NA |     NA |     NA |     NA |   NA   | 0      | 0      | \n",
       "| 13249 | ok     | 49480  | NA     |  0     | NA     | 0      | 0      |  0     | ...    | 691896 | 473504 | 168438 |  29198 |   5620 |    2   | 0      | 0      | \n",
       "| 22314 | ok     |    22  | NA     | 24     | 16     | 0      | 0      |  0     | ...    |     60 |     44 |     54 |    122 |      0 |    0   | 0      | 0      | \n",
       "| 7913 | ok     | 29546  | NA     |  0     | NA     | 0      | 0      |  0     | ...    | 200492 | 223662 | 189532 | 143300 | 215084 | 3056   | 0      | 0      | \n",
       "\n",
       "\n"
      ],
      "text/plain": [
       "      class aa_000 ab_000 ac_000 ad_000 ae_000 af_000 ag_000 ... ee_004 \n",
       "43283 ok     60378 NA       0     NA    0      0      0      ... 1053738\n",
       "52561 ok     78474 NA     852    800    0      0      0      ...  765186\n",
       "45683 ok    279282 NA       0     NA    0      0      0      ... 2215270\n",
       "53185 ok      2186 NA      68     62    0      0      0      ...   20388\n",
       "...   ...   ...    ...    ...    ...    ...    ...    ...        ...    \n",
       "26922 ok     1016  NA     22     NA     0      0      NA     ...     NA \n",
       "13249 ok    49480  NA      0     NA     0      0       0     ... 691896 \n",
       "22314 ok       22  NA     24     16     0      0       0     ...     60 \n",
       "7913  ok    29546  NA      0     NA     0      0       0     ... 200492 \n",
       "      ee_005  ee_006  ee_007 ee_008  ee_009 ef_000 eg_000\n",
       "43283  883584   58926   1998     538      0 0      0     \n",
       "52561  573078  438470 262770  253630   4824 0      0     \n",
       "45683 1954530 1459878 997870 1828382 223820 0      0     \n",
       "53185   33326   18028  13810     304      0 0      0     \n",
       "...   ...     ...     ...    ...     ...    ...    ...   \n",
       "26922     NA      NA      NA     NA    NA   0      0     \n",
       "13249 473504  168438   29198   5620     2   0      0     \n",
       "22314     44      54     122      0     0   0      0     \n",
       "7913  223662  189532  143300 215084  3056   0      0     "
      ]
     },
     "metadata": {},
     "output_type": "display_data"
    }
   ],
   "source": [
    "set.seed(12345)\n",
    "data.ok = data.1[data.1$class == \"ok\", ]\n",
    "data.ok.subset = sample_n(data.ok, frequency[frequency$Var1==\"failure\",\"Freq\"])\n",
    "dim(data.ok.subset)\n",
    "data.ok.subset"
   ]
  },
  {
   "cell_type": "code",
   "execution_count": 29,
   "metadata": {
    "scrolled": true
   },
   "outputs": [
    {
     "data": {
      "text/html": [
       "<ol class=list-inline>\n",
       "\t<li>1000</li>\n",
       "\t<li>171</li>\n",
       "</ol>\n"
      ],
      "text/latex": [
       "\\begin{enumerate*}\n",
       "\\item 1000\n",
       "\\item 171\n",
       "\\end{enumerate*}\n"
      ],
      "text/markdown": [
       "1. 1000\n",
       "2. 171\n",
       "\n",
       "\n"
      ],
      "text/plain": [
       "[1] 1000  171"
      ]
     },
     "metadata": {},
     "output_type": "display_data"
    },
    {
     "data": {
      "text/html": [
       "<table>\n",
       "<thead><tr><th></th><th scope=col>class</th><th scope=col>aa_000</th><th scope=col>ab_000</th><th scope=col>ac_000</th><th scope=col>ad_000</th><th scope=col>ae_000</th><th scope=col>af_000</th><th scope=col>ag_000</th><th scope=col>...</th><th scope=col>ee_004</th><th scope=col>ee_005</th><th scope=col>ee_006</th><th scope=col>ee_007</th><th scope=col>ee_008</th><th scope=col>ee_009</th><th scope=col>ef_000</th><th scope=col>eg_000</th></tr></thead>\n",
       "<tbody>\n",
       "\t<tr><th scope=row>10</th><td>failure</td><td>153204 </td><td> 0     </td><td> 182   </td><td>  NA   </td><td> 0     </td><td> 0     </td><td>  0    </td><td>...    </td><td>  34044</td><td>  22472</td><td>  34362</td><td>     0 </td><td>     0 </td><td>   0   </td><td> 0     </td><td> 0     </td></tr>\n",
       "\t<tr><th scope=row>24</th><td>failure</td><td>453236 </td><td>NA     </td><td>2926   </td><td>  NA   </td><td> 0     </td><td> 0     </td><td>  0    </td><td>...    </td><td>5025350</td><td>2025766</td><td>1160638</td><td>533834 </td><td>493800 </td><td>6914   </td><td> 0     </td><td> 0     </td></tr>\n",
       "\t<tr><th scope=row>61</th><td>failure</td><td> 72504 </td><td>NA     </td><td>1594   </td><td>1052   </td><td> 0     </td><td> 0     </td><td>  0    </td><td>...    </td><td> 527514</td><td> 358274</td><td> 332818</td><td>284178 </td><td>  3742 </td><td>   0   </td><td> 0     </td><td> 0     </td></tr>\n",
       "\t<tr><th scope=row>116</th><td>failure</td><td>762958 </td><td>NA     </td><td>  NA   </td><td>  NA   </td><td>NA     </td><td>NA     </td><td>776    </td><td>...    </td><td>     NA</td><td>     NA</td><td>     NA</td><td>    NA </td><td>    NA </td><td>  NA   </td><td>NA     </td><td>NA     </td></tr>\n",
       "\t<tr><th scope=row>...</th><td>...</td><td>...</td><td>...</td><td>...</td><td>...</td><td>...</td><td>...</td><td>...</td><td>   </td><td>...</td><td>...</td><td>...</td><td>...</td><td>...</td><td>...</td><td>...</td><td>...</td></tr>\n",
       "\t<tr><th scope=row>59602</th><td>failure </td><td>862134  </td><td>NA      </td><td>  NA    </td><td>  NA    </td><td>NA      </td><td>NA      </td><td>0       </td><td>...     </td><td>4159190 </td><td>5847384 </td><td>8364506 </td><td>12875424</td><td>661442  </td><td>2458    </td><td>NA      </td><td>NA      </td></tr>\n",
       "\t<tr><th scope=row>59693</th><td>failure </td><td>186856  </td><td>NA      </td><td>  NA    </td><td>  NA    </td><td> 0      </td><td> 0      </td><td>0       </td><td>...     </td><td> 322322 </td><td>  71638 </td><td>  34662 </td><td>    7304</td><td>  2538  </td><td>   0    </td><td> 0      </td><td> 0      </td></tr>\n",
       "\t<tr><th scope=row>59743</th><td>failure </td><td>605092  </td><td>NA      </td><td>  NA    </td><td>  NA    </td><td>NA      </td><td>NA      </td><td>0       </td><td>...     </td><td>3698692 </td><td>3271958 </td><td>9831898 </td><td> 3755392</td><td> 65610  </td><td>   0    </td><td>NA      </td><td>NA      </td></tr>\n",
       "\t<tr><th scope=row>59770</th><td>failure </td><td>331704  </td><td>NA      </td><td>1484    </td><td>1142    </td><td> 0      </td><td> 0      </td><td>0       </td><td>...     </td><td>3381954 </td><td>4346910 </td><td>2166330 </td><td>  296580</td><td> 15434  </td><td>   0    </td><td> 0      </td><td> 0      </td></tr>\n",
       "</tbody>\n",
       "</table>\n"
      ],
      "text/latex": [
       "\\begin{tabular}{r|lllllllllllllllllllllllllllllllllllllllllllllllllllllllllllllllllllllllllllllllllllllllllllllllllllllllllllllllllllllllllllllllllllllllllllllllllllllllllllllllllllllllllll}\n",
       "  & class & aa\\_000 & ab\\_000 & ac\\_000 & ad\\_000 & ae\\_000 & af\\_000 & ag\\_000 & ... & ee\\_004 & ee\\_005 & ee\\_006 & ee\\_007 & ee\\_008 & ee\\_009 & ef\\_000 & eg\\_000\\\\\n",
       "\\hline\n",
       "\t10 & failure & 153204  &  0      &  182    &   NA    &  0      &  0      &   0     & ...     &   34044 &   22472 &   34362 &      0  &      0  &    0    &  0      &  0     \\\\\n",
       "\t24 & failure & 453236  & NA      & 2926    &   NA    &  0      &  0      &   0     & ...     & 5025350 & 2025766 & 1160638 & 533834  & 493800  & 6914    &  0      &  0     \\\\\n",
       "\t61 & failure &  72504  & NA      & 1594    & 1052    &  0      &  0      &   0     & ...     &  527514 &  358274 &  332818 & 284178  &   3742  &    0    &  0      &  0     \\\\\n",
       "\t116 & failure & 762958  & NA      &   NA    &   NA    & NA      & NA      & 776     & ...     &      NA &      NA &      NA &     NA  &     NA  &   NA    & NA      & NA     \\\\\n",
       "\t... & ... & ... & ... & ... & ... & ... & ... & ... &     & ... & ... & ... & ... & ... & ... & ... & ...\\\\\n",
       "\t59602 & failure  & 862134   & NA       &   NA     &   NA     & NA       & NA       & 0        & ...      & 4159190  & 5847384  & 8364506  & 12875424 & 661442   & 2458     & NA       & NA      \\\\\n",
       "\t59693 & failure  & 186856   & NA       &   NA     &   NA     &  0       &  0       & 0        & ...      &  322322  &   71638  &   34662  &     7304 &   2538   &    0     &  0       &  0      \\\\\n",
       "\t59743 & failure  & 605092   & NA       &   NA     &   NA     & NA       & NA       & 0        & ...      & 3698692  & 3271958  & 9831898  &  3755392 &  65610   &    0     & NA       & NA      \\\\\n",
       "\t59770 & failure  & 331704   & NA       & 1484     & 1142     &  0       &  0       & 0        & ...      & 3381954  & 4346910  & 2166330  &   296580 &  15434   &    0     &  0       &  0      \\\\\n",
       "\\end{tabular}\n"
      ],
      "text/markdown": [
       "\n",
       "| <!--/--> | class | aa_000 | ab_000 | ac_000 | ad_000 | ae_000 | af_000 | ag_000 | ... | ee_004 | ee_005 | ee_006 | ee_007 | ee_008 | ee_009 | ef_000 | eg_000 | \n",
       "|---|---|---|---|---|---|---|---|---|\n",
       "| 10 | failure | 153204  |  0      |  182    |   NA    |  0      |  0      |   0     | ...     |   34044 |   22472 |   34362 |      0  |      0  |    0    |  0      |  0      | \n",
       "| 24 | failure | 453236  | NA      | 2926    |   NA    |  0      |  0      |   0     | ...     | 5025350 | 2025766 | 1160638 | 533834  | 493800  | 6914    |  0      |  0      | \n",
       "| 61 | failure |  72504  | NA      | 1594    | 1052    |  0      |  0      |   0     | ...     |  527514 |  358274 |  332818 | 284178  |   3742  |    0    |  0      |  0      | \n",
       "| 116 | failure | 762958  | NA      |   NA    |   NA    | NA      | NA      | 776     | ...     |      NA |      NA |      NA |     NA  |     NA  |   NA    | NA      | NA      | \n",
       "| ... | ... | ... | ... | ... | ... | ... | ... | ... |     | ... | ... | ... | ... | ... | ... | ... | ... | \n",
       "| 59602 | failure  | 862134   | NA       |   NA     |   NA     | NA       | NA       | 0        | ...      | 4159190  | 5847384  | 8364506  | 12875424 | 661442   | 2458     | NA       | NA       | \n",
       "| 59693 | failure  | 186856   | NA       |   NA     |   NA     |  0       |  0       | 0        | ...      |  322322  |   71638  |   34662  |     7304 |   2538   |    0     |  0       |  0       | \n",
       "| 59743 | failure  | 605092   | NA       |   NA     |   NA     | NA       | NA       | 0        | ...      | 3698692  | 3271958  | 9831898  |  3755392 |  65610   |    0     | NA       | NA       | \n",
       "| 59770 | failure  | 331704   | NA       | 1484     | 1142     |  0       |  0       | 0        | ...      | 3381954  | 4346910  | 2166330  |   296580 |  15434   |    0     |  0       |  0       | \n",
       "\n",
       "\n"
      ],
      "text/plain": [
       "      class   aa_000 ab_000 ac_000 ad_000 ae_000 af_000 ag_000 ... ee_004 \n",
       "10    failure 153204  0      182     NA    0      0       0    ...   34044\n",
       "24    failure 453236 NA     2926     NA    0      0       0    ... 5025350\n",
       "61    failure  72504 NA     1594   1052    0      0       0    ...  527514\n",
       "116   failure 762958 NA       NA     NA   NA     NA     776    ...      NA\n",
       "...   ...     ...    ...    ...    ...    ...    ...    ...        ...    \n",
       "59602 failure 862134 NA       NA     NA   NA     NA     0      ... 4159190\n",
       "59693 failure 186856 NA       NA     NA    0      0     0      ...  322322\n",
       "59743 failure 605092 NA       NA     NA   NA     NA     0      ... 3698692\n",
       "59770 failure 331704 NA     1484   1142    0      0     0      ... 3381954\n",
       "      ee_005  ee_006  ee_007   ee_008 ee_009 ef_000 eg_000\n",
       "10      22472   34362      0        0    0    0      0    \n",
       "24    2025766 1160638 533834   493800 6914    0      0    \n",
       "61     358274  332818 284178     3742    0    0      0    \n",
       "116        NA      NA     NA       NA   NA   NA     NA    \n",
       "...   ...     ...     ...      ...    ...    ...    ...   \n",
       "59602 5847384 8364506 12875424 661442 2458   NA     NA    \n",
       "59693   71638   34662     7304   2538    0    0      0    \n",
       "59743 3271958 9831898  3755392  65610    0   NA     NA    \n",
       "59770 4346910 2166330   296580  15434    0    0      0    "
      ]
     },
     "metadata": {},
     "output_type": "display_data"
    }
   ],
   "source": [
    "data.failure = data.1[data.1$class == \"failure\", ]\n",
    "dim(data.failure)\n",
    "data.failure"
   ]
  },
  {
   "cell_type": "code",
   "execution_count": 30,
   "metadata": {
    "scrolled": true
   },
   "outputs": [
    {
     "data": {
      "text/html": [
       "<ol class=list-inline>\n",
       "\t<li>2000</li>\n",
       "\t<li>171</li>\n",
       "</ol>\n"
      ],
      "text/latex": [
       "\\begin{enumerate*}\n",
       "\\item 2000\n",
       "\\item 171\n",
       "\\end{enumerate*}\n"
      ],
      "text/markdown": [
       "1. 2000\n",
       "2. 171\n",
       "\n",
       "\n"
      ],
      "text/plain": [
       "[1] 2000  171"
      ]
     },
     "metadata": {},
     "output_type": "display_data"
    },
    {
     "data": {
      "text/html": [
       "<table>\n",
       "<thead><tr><th></th><th scope=col>class</th><th scope=col>aa_000</th><th scope=col>ab_000</th><th scope=col>ac_000</th><th scope=col>ad_000</th><th scope=col>ae_000</th><th scope=col>af_000</th><th scope=col>ag_000</th><th scope=col>...</th><th scope=col>ee_004</th><th scope=col>ee_005</th><th scope=col>ee_006</th><th scope=col>ee_007</th><th scope=col>ee_008</th><th scope=col>ee_009</th><th scope=col>ef_000</th><th scope=col>eg_000</th></tr></thead>\n",
       "<tbody>\n",
       "\t<tr><th scope=row>43283</th><td>ok     </td><td> 60378 </td><td>NA     </td><td>  0    </td><td> NA    </td><td>0      </td><td>0      </td><td>0      </td><td>...    </td><td>1053738</td><td> 883584</td><td>  58926</td><td>  1998 </td><td>    538</td><td>     0 </td><td>0      </td><td>0      </td></tr>\n",
       "\t<tr><th scope=row>52561</th><td>ok     </td><td> 78474 </td><td>NA     </td><td>852    </td><td>800    </td><td>0      </td><td>0      </td><td>0      </td><td>...    </td><td> 765186</td><td> 573078</td><td> 438470</td><td>262770 </td><td> 253630</td><td>  4824 </td><td>0      </td><td>0      </td></tr>\n",
       "\t<tr><th scope=row>45683</th><td>ok     </td><td>279282 </td><td>NA     </td><td>  0    </td><td> NA    </td><td>0      </td><td>0      </td><td>0      </td><td>...    </td><td>2215270</td><td>1954530</td><td>1459878</td><td>997870 </td><td>1828382</td><td>223820 </td><td>0      </td><td>0      </td></tr>\n",
       "\t<tr><th scope=row>53185</th><td>ok     </td><td>  2186 </td><td>NA     </td><td> 68    </td><td> 62    </td><td>0      </td><td>0      </td><td>0      </td><td>...    </td><td>  20388</td><td>  33326</td><td>  18028</td><td> 13810 </td><td>    304</td><td>     0 </td><td>0      </td><td>0      </td></tr>\n",
       "\t<tr><th scope=row>...</th><td>...</td><td>...</td><td>...</td><td>...</td><td>...</td><td>...</td><td>...</td><td>...</td><td>   </td><td>...</td><td>...</td><td>...</td><td>...</td><td>...</td><td>...</td><td>...</td><td>...</td></tr>\n",
       "\t<tr><th scope=row>59602</th><td>failure </td><td>862134  </td><td>NA      </td><td>  NA    </td><td>  NA    </td><td>NA      </td><td>NA      </td><td>0       </td><td>...     </td><td>4159190 </td><td>5847384 </td><td>8364506 </td><td>12875424</td><td>661442  </td><td>2458    </td><td>NA      </td><td>NA      </td></tr>\n",
       "\t<tr><th scope=row>59693</th><td>failure </td><td>186856  </td><td>NA      </td><td>  NA    </td><td>  NA    </td><td> 0      </td><td> 0      </td><td>0       </td><td>...     </td><td> 322322 </td><td>  71638 </td><td>  34662 </td><td>    7304</td><td>  2538  </td><td>   0    </td><td> 0      </td><td> 0      </td></tr>\n",
       "\t<tr><th scope=row>59743</th><td>failure </td><td>605092  </td><td>NA      </td><td>  NA    </td><td>  NA    </td><td>NA      </td><td>NA      </td><td>0       </td><td>...     </td><td>3698692 </td><td>3271958 </td><td>9831898 </td><td> 3755392</td><td> 65610  </td><td>   0    </td><td>NA      </td><td>NA      </td></tr>\n",
       "\t<tr><th scope=row>59770</th><td>failure </td><td>331704  </td><td>NA      </td><td>1484    </td><td>1142    </td><td> 0      </td><td> 0      </td><td>0       </td><td>...     </td><td>3381954 </td><td>4346910 </td><td>2166330 </td><td>  296580</td><td> 15434  </td><td>   0    </td><td> 0      </td><td> 0      </td></tr>\n",
       "</tbody>\n",
       "</table>\n"
      ],
      "text/latex": [
       "\\begin{tabular}{r|lllllllllllllllllllllllllllllllllllllllllllllllllllllllllllllllllllllllllllllllllllllllllllllllllllllllllllllllllllllllllllllllllllllllllllllllllllllllllllllllllllllllllll}\n",
       "  & class & aa\\_000 & ab\\_000 & ac\\_000 & ad\\_000 & ae\\_000 & af\\_000 & ag\\_000 & ... & ee\\_004 & ee\\_005 & ee\\_006 & ee\\_007 & ee\\_008 & ee\\_009 & ef\\_000 & eg\\_000\\\\\n",
       "\\hline\n",
       "\t43283 & ok      &  60378  & NA      &   0     &  NA     & 0       & 0       & 0       & ...     & 1053738 &  883584 &   58926 &   1998  &     538 &      0  & 0       & 0      \\\\\n",
       "\t52561 & ok      &  78474  & NA      & 852     & 800     & 0       & 0       & 0       & ...     &  765186 &  573078 &  438470 & 262770  &  253630 &   4824  & 0       & 0      \\\\\n",
       "\t45683 & ok      & 279282  & NA      &   0     &  NA     & 0       & 0       & 0       & ...     & 2215270 & 1954530 & 1459878 & 997870  & 1828382 & 223820  & 0       & 0      \\\\\n",
       "\t53185 & ok      &   2186  & NA      &  68     &  62     & 0       & 0       & 0       & ...     &   20388 &   33326 &   18028 &  13810  &     304 &      0  & 0       & 0      \\\\\n",
       "\t... & ... & ... & ... & ... & ... & ... & ... & ... &     & ... & ... & ... & ... & ... & ... & ... & ...\\\\\n",
       "\t59602 & failure  & 862134   & NA       &   NA     &   NA     & NA       & NA       & 0        & ...      & 4159190  & 5847384  & 8364506  & 12875424 & 661442   & 2458     & NA       & NA      \\\\\n",
       "\t59693 & failure  & 186856   & NA       &   NA     &   NA     &  0       &  0       & 0        & ...      &  322322  &   71638  &   34662  &     7304 &   2538   &    0     &  0       &  0      \\\\\n",
       "\t59743 & failure  & 605092   & NA       &   NA     &   NA     & NA       & NA       & 0        & ...      & 3698692  & 3271958  & 9831898  &  3755392 &  65610   &    0     & NA       & NA      \\\\\n",
       "\t59770 & failure  & 331704   & NA       & 1484     & 1142     &  0       &  0       & 0        & ...      & 3381954  & 4346910  & 2166330  &   296580 &  15434   &    0     &  0       &  0      \\\\\n",
       "\\end{tabular}\n"
      ],
      "text/markdown": [
       "\n",
       "| <!--/--> | class | aa_000 | ab_000 | ac_000 | ad_000 | ae_000 | af_000 | ag_000 | ... | ee_004 | ee_005 | ee_006 | ee_007 | ee_008 | ee_009 | ef_000 | eg_000 | \n",
       "|---|---|---|---|---|---|---|---|---|\n",
       "| 43283 | ok      |  60378  | NA      |   0     |  NA     | 0       | 0       | 0       | ...     | 1053738 |  883584 |   58926 |   1998  |     538 |      0  | 0       | 0       | \n",
       "| 52561 | ok      |  78474  | NA      | 852     | 800     | 0       | 0       | 0       | ...     |  765186 |  573078 |  438470 | 262770  |  253630 |   4824  | 0       | 0       | \n",
       "| 45683 | ok      | 279282  | NA      |   0     |  NA     | 0       | 0       | 0       | ...     | 2215270 | 1954530 | 1459878 | 997870  | 1828382 | 223820  | 0       | 0       | \n",
       "| 53185 | ok      |   2186  | NA      |  68     |  62     | 0       | 0       | 0       | ...     |   20388 |   33326 |   18028 |  13810  |     304 |      0  | 0       | 0       | \n",
       "| ... | ... | ... | ... | ... | ... | ... | ... | ... |     | ... | ... | ... | ... | ... | ... | ... | ... | \n",
       "| 59602 | failure  | 862134   | NA       |   NA     |   NA     | NA       | NA       | 0        | ...      | 4159190  | 5847384  | 8364506  | 12875424 | 661442   | 2458     | NA       | NA       | \n",
       "| 59693 | failure  | 186856   | NA       |   NA     |   NA     |  0       |  0       | 0        | ...      |  322322  |   71638  |   34662  |     7304 |   2538   |    0     |  0       |  0       | \n",
       "| 59743 | failure  | 605092   | NA       |   NA     |   NA     | NA       | NA       | 0        | ...      | 3698692  | 3271958  | 9831898  |  3755392 |  65610   |    0     | NA       | NA       | \n",
       "| 59770 | failure  | 331704   | NA       | 1484     | 1142     |  0       |  0       | 0        | ...      | 3381954  | 4346910  | 2166330  |   296580 |  15434   |    0     |  0       |  0       | \n",
       "\n",
       "\n"
      ],
      "text/plain": [
       "      class   aa_000 ab_000 ac_000 ad_000 ae_000 af_000 ag_000 ... ee_004 \n",
       "43283 ok       60378 NA       0     NA    0      0      0      ... 1053738\n",
       "52561 ok       78474 NA     852    800    0      0      0      ...  765186\n",
       "45683 ok      279282 NA       0     NA    0      0      0      ... 2215270\n",
       "53185 ok        2186 NA      68     62    0      0      0      ...   20388\n",
       "...   ...     ...    ...    ...    ...    ...    ...    ...        ...    \n",
       "59602 failure 862134 NA       NA     NA   NA     NA     0      ... 4159190\n",
       "59693 failure 186856 NA       NA     NA    0      0     0      ...  322322\n",
       "59743 failure 605092 NA       NA     NA   NA     NA     0      ... 3698692\n",
       "59770 failure 331704 NA     1484   1142    0      0     0      ... 3381954\n",
       "      ee_005  ee_006  ee_007   ee_008  ee_009 ef_000 eg_000\n",
       "43283  883584   58926   1998       538      0 0      0     \n",
       "52561  573078  438470 262770    253630   4824 0      0     \n",
       "45683 1954530 1459878 997870   1828382 223820 0      0     \n",
       "53185   33326   18028  13810       304      0 0      0     \n",
       "...   ...     ...     ...      ...     ...    ...    ...   \n",
       "59602 5847384 8364506 12875424 661442  2458   NA     NA    \n",
       "59693   71638   34662     7304   2538     0    0      0    \n",
       "59743 3271958 9831898  3755392  65610     0   NA     NA    \n",
       "59770 4346910 2166330   296580  15434     0    0      0    "
      ]
     },
     "metadata": {},
     "output_type": "display_data"
    }
   ],
   "source": [
    "data.5 = rbind(data.ok.subset, data.failure)\n",
    "dim(data.5)\n",
    "data.5"
   ]
  },
  {
   "cell_type": "markdown",
   "metadata": {},
   "source": [
    "<br>\n",
    "#### Build models & check in-sample performance."
   ]
  },
  {
   "cell_type": "code",
   "execution_count": 31,
   "metadata": {},
   "outputs": [],
   "source": [
    "mymodel.5 = naiveBayes(class ~ ., data.5)"
   ]
  },
  {
   "cell_type": "code",
   "execution_count": 32,
   "metadata": {
    "scrolled": true
   },
   "outputs": [
    {
     "data": {
      "text/plain": [
       "          Reference\n",
       "Prediction failure  ok\n",
       "   failure     918  32\n",
       "   ok           82 968"
      ]
     },
     "metadata": {},
     "output_type": "display_data"
    },
    {
     "data": {
      "text/plain": [
       "          Reference\n",
       "Prediction failure    ok\n",
       "   failure   0.459 0.016\n",
       "   ok        0.041 0.484"
      ]
     },
     "metadata": {},
     "output_type": "display_data"
    }
   ],
   "source": [
    "cutoff = 0.50\n",
    "prob = predict(mymodel.5, data.5, type=\"raw\")\n",
    "prediction = as.class.cutoff(prob, cutoff)\n",
    "cm = confusionMatrix(prediction, data.5$class)$table\n",
    "\n",
    "cm\n",
    "cm / nrow(data.5)"
   ]
  },
  {
   "cell_type": "code",
   "execution_count": 33,
   "metadata": {
    "scrolled": true
   },
   "outputs": [
    {
     "data": {
      "text/plain": [
       "          Reference\n",
       "Prediction failure  ok\n",
       "   failure     918  32\n",
       "   ok           82 968"
      ]
     },
     "metadata": {},
     "output_type": "display_data"
    },
    {
     "data": {
      "text/plain": [
       "          Reference\n",
       "Prediction failure    ok\n",
       "   failure   0.459 0.016\n",
       "   ok        0.041 0.484"
      ]
     },
     "metadata": {},
     "output_type": "display_data"
    }
   ],
   "source": [
    "cutoff = 0.25\n",
    "prob = predict(mymodel.5, data.5, type=\"raw\")\n",
    "prediction = as.class.cutoff(prob, cutoff)\n",
    "cm = confusionMatrix(prediction, data.5$class)$table\n",
    "\n",
    "cm\n",
    "cm / nrow(data.5)"
   ]
  },
  {
   "cell_type": "markdown",
   "metadata": {},
   "source": [
    "<br>\n",
    "___\n",
    "### Model 6: Based on Balanced Sample of Imputed Data  \n",
    "\n",
    "Select a balanced sample of imputed data.  This is `data.6`."
   ]
  },
  {
   "cell_type": "code",
   "execution_count": 34,
   "metadata": {
    "scrolled": true
   },
   "outputs": [
    {
     "data": {
      "text/html": [
       "<ol class=list-inline>\n",
       "\t<li>2000</li>\n",
       "\t<li>171</li>\n",
       "</ol>\n"
      ],
      "text/latex": [
       "\\begin{enumerate*}\n",
       "\\item 2000\n",
       "\\item 171\n",
       "\\end{enumerate*}\n"
      ],
      "text/markdown": [
       "1. 2000\n",
       "2. 171\n",
       "\n",
       "\n"
      ],
      "text/plain": [
       "[1] 2000  171"
      ]
     },
     "metadata": {},
     "output_type": "display_data"
    },
    {
     "data": {
      "text/html": [
       "<table>\n",
       "<thead><tr><th></th><th scope=col>class</th><th scope=col>aa_000</th><th scope=col>ab_000</th><th scope=col>ac_000</th><th scope=col>ad_000</th><th scope=col>ae_000</th><th scope=col>af_000</th><th scope=col>ag_000</th><th scope=col>...</th><th scope=col>ee_004</th><th scope=col>ee_005</th><th scope=col>ee_006</th><th scope=col>ee_007</th><th scope=col>ee_008</th><th scope=col>ee_009</th><th scope=col>ef_000</th><th scope=col>eg_000</th></tr></thead>\n",
       "<tbody>\n",
       "\t<tr><th scope=row>43283</th><td>ok      </td><td> 60378  </td><td>1.051948</td><td>  0     </td><td>980.709 </td><td>0       </td><td>0       </td><td>0       </td><td>...     </td><td>1053738 </td><td> 883584 </td><td>  58926 </td><td>  1998  </td><td>    538 </td><td>     0  </td><td>0       </td><td>0       </td></tr>\n",
       "\t<tr><th scope=row>52561</th><td>ok      </td><td> 78474  </td><td>1.051948</td><td>852     </td><td>800.000 </td><td>0       </td><td>0       </td><td>0       </td><td>...     </td><td> 765186 </td><td> 573078 </td><td> 438470 </td><td>262770  </td><td> 253630 </td><td>  4824  </td><td>0       </td><td>0       </td></tr>\n",
       "\t<tr><th scope=row>45683</th><td>ok      </td><td>279282  </td><td>1.051948</td><td>  0     </td><td>980.709 </td><td>0       </td><td>0       </td><td>0       </td><td>...     </td><td>2215270 </td><td>1954530 </td><td>1459878 </td><td>997870  </td><td>1828382 </td><td>223820  </td><td>0       </td><td>0       </td></tr>\n",
       "\t<tr><th scope=row>53185</th><td>ok      </td><td>  2186  </td><td>1.051948</td><td> 68     </td><td> 62.000 </td><td>0       </td><td>0       </td><td>0       </td><td>...     </td><td>  20388 </td><td>  33326 </td><td>  18028 </td><td> 13810  </td><td>    304 </td><td>     0  </td><td>0       </td><td>0       </td></tr>\n",
       "\t<tr><th scope=row>...</th><td>...</td><td>...</td><td>...</td><td>...</td><td>...</td><td>...</td><td>...</td><td>...</td><td>   </td><td>...</td><td>...</td><td>...</td><td>...</td><td>...</td><td>...</td><td>...</td><td>...</td></tr>\n",
       "\t<tr><th scope=row>59602</th><td>failure  </td><td>862134   </td><td>1.051948 </td><td>253013919</td><td> 980.709 </td><td>9.550369 </td><td>25.88329 </td><td>0        </td><td>...      </td><td>4159190  </td><td>5847384  </td><td>8364506  </td><td>12875424 </td><td>661442   </td><td>2458     </td><td>0.3371069</td><td>0.6767296</td></tr>\n",
       "\t<tr><th scope=row>59693</th><td>failure  </td><td>186856   </td><td>1.051948 </td><td>253013919</td><td> 980.709 </td><td>0.000000 </td><td> 0.00000 </td><td>0        </td><td>...      </td><td> 322322  </td><td>  71638  </td><td>  34662  </td><td>    7304 </td><td>  2538   </td><td>   0     </td><td>0.0000000</td><td>0.0000000</td></tr>\n",
       "\t<tr><th scope=row>59743</th><td>failure  </td><td>605092   </td><td>1.051948 </td><td>253013919</td><td> 980.709 </td><td>9.550369 </td><td>25.88329 </td><td>0        </td><td>...      </td><td>3698692  </td><td>3271958  </td><td>9831898  </td><td> 3755392 </td><td> 65610   </td><td>   0     </td><td>0.3371069</td><td>0.6767296</td></tr>\n",
       "\t<tr><th scope=row>59770</th><td>failure  </td><td>331704   </td><td>1.051948 </td><td>     1484</td><td>1142.000 </td><td>0.000000 </td><td> 0.00000 </td><td>0        </td><td>...      </td><td>3381954  </td><td>4346910  </td><td>2166330  </td><td>  296580 </td><td> 15434   </td><td>   0     </td><td>0.0000000</td><td>0.0000000</td></tr>\n",
       "</tbody>\n",
       "</table>\n"
      ],
      "text/latex": [
       "\\begin{tabular}{r|lllllllllllllllllllllllllllllllllllllllllllllllllllllllllllllllllllllllllllllllllllllllllllllllllllllllllllllllllllllllllllllllllllllllllllllllllllllllllllllllllllllllllll}\n",
       "  & class & aa\\_000 & ab\\_000 & ac\\_000 & ad\\_000 & ae\\_000 & af\\_000 & ag\\_000 & ... & ee\\_004 & ee\\_005 & ee\\_006 & ee\\_007 & ee\\_008 & ee\\_009 & ef\\_000 & eg\\_000\\\\\n",
       "\\hline\n",
       "\t43283 & ok       &  60378   & 1.051948 &   0      & 980.709  & 0        & 0        & 0        & ...      & 1053738  &  883584  &   58926  &   1998   &     538  &      0   & 0        & 0       \\\\\n",
       "\t52561 & ok       &  78474   & 1.051948 & 852      & 800.000  & 0        & 0        & 0        & ...      &  765186  &  573078  &  438470  & 262770   &  253630  &   4824   & 0        & 0       \\\\\n",
       "\t45683 & ok       & 279282   & 1.051948 &   0      & 980.709  & 0        & 0        & 0        & ...      & 2215270  & 1954530  & 1459878  & 997870   & 1828382  & 223820   & 0        & 0       \\\\\n",
       "\t53185 & ok       &   2186   & 1.051948 &  68      &  62.000  & 0        & 0        & 0        & ...      &   20388  &   33326  &   18028  &  13810   &     304  &      0   & 0        & 0       \\\\\n",
       "\t... & ... & ... & ... & ... & ... & ... & ... & ... &     & ... & ... & ... & ... & ... & ... & ... & ...\\\\\n",
       "\t59602 & failure   & 862134    & 1.051948  & 253013919 &  980.709  & 9.550369  & 25.88329  & 0         & ...       & 4159190   & 5847384   & 8364506   & 12875424  & 661442    & 2458      & 0.3371069 & 0.6767296\\\\\n",
       "\t59693 & failure   & 186856    & 1.051948  & 253013919 &  980.709  & 0.000000  &  0.00000  & 0         & ...       &  322322   &   71638   &   34662   &     7304  &   2538    &    0      & 0.0000000 & 0.0000000\\\\\n",
       "\t59743 & failure   & 605092    & 1.051948  & 253013919 &  980.709  & 9.550369  & 25.88329  & 0         & ...       & 3698692   & 3271958   & 9831898   &  3755392  &  65610    &    0      & 0.3371069 & 0.6767296\\\\\n",
       "\t59770 & failure   & 331704    & 1.051948  &      1484 & 1142.000  & 0.000000  &  0.00000  & 0         & ...       & 3381954   & 4346910   & 2166330   &   296580  &  15434    &    0      & 0.0000000 & 0.0000000\\\\\n",
       "\\end{tabular}\n"
      ],
      "text/markdown": [
       "\n",
       "| <!--/--> | class | aa_000 | ab_000 | ac_000 | ad_000 | ae_000 | af_000 | ag_000 | ... | ee_004 | ee_005 | ee_006 | ee_007 | ee_008 | ee_009 | ef_000 | eg_000 | \n",
       "|---|---|---|---|---|---|---|---|---|\n",
       "| 43283 | ok       |  60378   | 1.051948 |   0      | 980.709  | 0        | 0        | 0        | ...      | 1053738  |  883584  |   58926  |   1998   |     538  |      0   | 0        | 0        | \n",
       "| 52561 | ok       |  78474   | 1.051948 | 852      | 800.000  | 0        | 0        | 0        | ...      |  765186  |  573078  |  438470  | 262770   |  253630  |   4824   | 0        | 0        | \n",
       "| 45683 | ok       | 279282   | 1.051948 |   0      | 980.709  | 0        | 0        | 0        | ...      | 2215270  | 1954530  | 1459878  | 997870   | 1828382  | 223820   | 0        | 0        | \n",
       "| 53185 | ok       |   2186   | 1.051948 |  68      |  62.000  | 0        | 0        | 0        | ...      |   20388  |   33326  |   18028  |  13810   |     304  |      0   | 0        | 0        | \n",
       "| ... | ... | ... | ... | ... | ... | ... | ... | ... |     | ... | ... | ... | ... | ... | ... | ... | ... | \n",
       "| 59602 | failure   | 862134    | 1.051948  | 253013919 |  980.709  | 9.550369  | 25.88329  | 0         | ...       | 4159190   | 5847384   | 8364506   | 12875424  | 661442    | 2458      | 0.3371069 | 0.6767296 | \n",
       "| 59693 | failure   | 186856    | 1.051948  | 253013919 |  980.709  | 0.000000  |  0.00000  | 0         | ...       |  322322   |   71638   |   34662   |     7304  |   2538    |    0      | 0.0000000 | 0.0000000 | \n",
       "| 59743 | failure   | 605092    | 1.051948  | 253013919 |  980.709  | 9.550369  | 25.88329  | 0         | ...       | 3698692   | 3271958   | 9831898   |  3755392  |  65610    |    0      | 0.3371069 | 0.6767296 | \n",
       "| 59770 | failure   | 331704    | 1.051948  |      1484 | 1142.000  | 0.000000  |  0.00000  | 0         | ...       | 3381954   | 4346910   | 2166330   |   296580  |  15434    |    0      | 0.0000000 | 0.0000000 | \n",
       "\n",
       "\n"
      ],
      "text/plain": [
       "      class   aa_000 ab_000   ac_000    ad_000   ae_000   af_000   ag_000 ...\n",
       "43283 ok       60378 1.051948   0       980.709  0        0        0      ...\n",
       "52561 ok       78474 1.051948 852       800.000  0        0        0      ...\n",
       "45683 ok      279282 1.051948   0       980.709  0        0        0      ...\n",
       "53185 ok        2186 1.051948  68        62.000  0        0        0      ...\n",
       "...   ...     ...    ...      ...       ...      ...      ...      ...       \n",
       "59602 failure 862134 1.051948 253013919  980.709 9.550369 25.88329 0      ...\n",
       "59693 failure 186856 1.051948 253013919  980.709 0.000000  0.00000 0      ...\n",
       "59743 failure 605092 1.051948 253013919  980.709 9.550369 25.88329 0      ...\n",
       "59770 failure 331704 1.051948      1484 1142.000 0.000000  0.00000 0      ...\n",
       "      ee_004  ee_005  ee_006  ee_007   ee_008  ee_009 ef_000    eg_000   \n",
       "43283 1053738  883584   58926   1998       538      0 0         0        \n",
       "52561  765186  573078  438470 262770    253630   4824 0         0        \n",
       "45683 2215270 1954530 1459878 997870   1828382 223820 0         0        \n",
       "53185   20388   33326   18028  13810       304      0 0         0        \n",
       "...   ...     ...     ...     ...      ...     ...    ...       ...      \n",
       "59602 4159190 5847384 8364506 12875424 661442  2458   0.3371069 0.6767296\n",
       "59693  322322   71638   34662     7304   2538     0   0.0000000 0.0000000\n",
       "59743 3698692 3271958 9831898  3755392  65610     0   0.3371069 0.6767296\n",
       "59770 3381954 4346910 2166330   296580  15434     0   0.0000000 0.0000000"
      ]
     },
     "metadata": {},
     "output_type": "display_data"
    }
   ],
   "source": [
    "data.6 = impute.apply_each(data.5, mean, na.rm=TRUE)\n",
    "dim(data.6)\n",
    "data.6"
   ]
  },
  {
   "cell_type": "markdown",
   "metadata": {},
   "source": [
    "<br>\n",
    "#### Build models & check in-sample performance."
   ]
  },
  {
   "cell_type": "code",
   "execution_count": 35,
   "metadata": {},
   "outputs": [],
   "source": [
    "mymodel.6 = naiveBayes(class ~ ., data.6)"
   ]
  },
  {
   "cell_type": "code",
   "execution_count": 36,
   "metadata": {
    "scrolled": true
   },
   "outputs": [
    {
     "data": {
      "text/plain": [
       "          Reference\n",
       "Prediction failure  ok\n",
       "   failure     918  44\n",
       "   ok           82 956"
      ]
     },
     "metadata": {},
     "output_type": "display_data"
    },
    {
     "data": {
      "text/plain": [
       "          Reference\n",
       "Prediction failure    ok\n",
       "   failure   0.459 0.022\n",
       "   ok        0.041 0.478"
      ]
     },
     "metadata": {},
     "output_type": "display_data"
    }
   ],
   "source": [
    "cutoff = 0.50\n",
    "prob = predict(mymodel.6, data.6, type=\"raw\")\n",
    "prediction = as.class.cutoff(prob, cutoff)\n",
    "cm = confusionMatrix(prediction, data.6$class)$table\n",
    "\n",
    "cm\n",
    "cm / nrow(data.6)"
   ]
  },
  {
   "cell_type": "code",
   "execution_count": 37,
   "metadata": {
    "scrolled": true
   },
   "outputs": [
    {
     "data": {
      "text/plain": [
       "          Reference\n",
       "Prediction failure  ok\n",
       "   failure     918  44\n",
       "   ok           82 956"
      ]
     },
     "metadata": {},
     "output_type": "display_data"
    },
    {
     "data": {
      "text/plain": [
       "          Reference\n",
       "Prediction failure    ok\n",
       "   failure   0.459 0.022\n",
       "   ok        0.041 0.478"
      ]
     },
     "metadata": {},
     "output_type": "display_data"
    }
   ],
   "source": [
    "cutoff = 0.25\n",
    "prob = predict(mymodel.6, data.6, type=\"raw\")\n",
    "prediction = as.class.cutoff(prob, cutoff)\n",
    "cm = confusionMatrix(prediction, data.6$class)$table\n",
    "\n",
    "cm\n",
    "cm / nrow(data.6)"
   ]
  },
  {
   "cell_type": "markdown",
   "metadata": {},
   "source": [
    "<br>\n",
    "___\n",
    "### Models 7 & 8: Based on Balanced Sample of Principal Components of Imputed Data  \n",
    "\n",
    "Select a balanced sample of data represented as principal components that comprise the majority (75%+) of variance.  This is `data.7`.\n",
    "\n",
    "Then select just the first principal component.  This is `data.8`."
   ]
  },
  {
   "cell_type": "code",
   "execution_count": 38,
   "metadata": {},
   "outputs": [
    {
     "data": {
      "text/html": [
       "<strong>91:</strong> 91"
      ],
      "text/latex": [
       "\\textbf{91:} 91"
      ],
      "text/markdown": [
       "**91:** 91"
      ],
      "text/plain": [
       "91 \n",
       "91 "
      ]
     },
     "metadata": {},
     "output_type": "display_data"
    },
    {
     "data": {
      "text/html": [
       "<dl class=dl-horizontal>\n",
       "\t<dt>1</dt>\n",
       "\t\t<dd>0.250125062531266</dd>\n",
       "\t<dt>2</dt>\n",
       "\t\t<dd>193563492552.107</dd>\n",
       "\t<dt>3</dt>\n",
       "\t\t<dd>2.55565445060192</dd>\n",
       "\t<dt>4</dt>\n",
       "\t\t<dd>356250083036464128</dd>\n",
       "\t<dt>5</dt>\n",
       "\t\t<dd>6207220.29713269</dd>\n",
       "\t<dt>6</dt>\n",
       "\t\t<dd>18653.2820759274</dd>\n",
       "\t<dt>7</dt>\n",
       "\t\t<dd>135279.442634093</dd>\n",
       "\t<dt>8</dt>\n",
       "\t\t<dd>249435780.968039</dd>\n",
       "\t<dt>9</dt>\n",
       "\t\t<dd>33290198251.6678</dd>\n",
       "\t<dt>10</dt>\n",
       "\t\t<dd>537263628657.728</dd>\n",
       "\t<dt>11</dt>\n",
       "\t\t<dd>10659551240965.9</dd>\n",
       "\t<dt>12</dt>\n",
       "\t\t<dd>54221030748766.8</dd>\n",
       "\t<dt>13</dt>\n",
       "\t\t<dd>93334699913285.5</dd>\n",
       "\t<dt>14</dt>\n",
       "\t\t<dd>156742985165270</dd>\n",
       "\t<dt>15</dt>\n",
       "\t\t<dd>14321667669077.1</dd>\n",
       "\t<dt>16</dt>\n",
       "\t\t<dd>222231783799.805</dd>\n",
       "\t<dt>17</dt>\n",
       "\t\t<dd>407548057882.815</dd>\n",
       "\t<dt>18</dt>\n",
       "\t\t<dd>141932121736179</dd>\n",
       "\t<dt>19</dt>\n",
       "\t\t<dd>305488495860.572</dd>\n",
       "\t<dt>20</dt>\n",
       "\t\t<dd>4117336052.30316</dd>\n",
       "\t<dt>21</dt>\n",
       "\t\t<dd>6947700831.04562</dd>\n",
       "\t<dt>22</dt>\n",
       "\t\t<dd>4394524363007.75</dd>\n",
       "\t<dt>23</dt>\n",
       "\t\t<dd>10674003393005.7</dd>\n",
       "\t<dt>24</dt>\n",
       "\t\t<dd>505619721797125</dd>\n",
       "\t<dt>25</dt>\n",
       "\t\t<dd>391182881122135</dd>\n",
       "\t<dt>26</dt>\n",
       "\t\t<dd>92730166433696</dd>\n",
       "\t<dt>27</dt>\n",
       "\t\t<dd>16293181169080.7</dd>\n",
       "\t<dt>28</dt>\n",
       "\t\t<dd>284.676034872782</dd>\n",
       "\t<dt>29</dt>\n",
       "\t\t<dd>1458505860.54666</dd>\n",
       "\t<dt>30</dt>\n",
       "\t\t<dd>364407788215.626</dd>\n",
       "\t<dt>31</dt>\n",
       "\t\t<dd>6891587259.84712</dd>\n",
       "\t<dt>32</dt>\n",
       "\t\t<dd>224700041.697875</dd>\n",
       "\t<dt>33</dt>\n",
       "\t\t<dd>9544805.83288573</dd>\n",
       "\t<dt>34</dt>\n",
       "\t\t<dd>5369099232925.78</dd>\n",
       "\t<dt>35</dt>\n",
       "\t\t<dd>7981018716098.54</dd>\n",
       "\t<dt>36</dt>\n",
       "\t\t<dd>5190124810694.76</dd>\n",
       "\t<dt>37</dt>\n",
       "\t\t<dd>1053201494914.26</dd>\n",
       "\t<dt>38</dt>\n",
       "\t\t<dd>3499243985012.43</dd>\n",
       "\t<dt>39</dt>\n",
       "\t\t<dd>31776311699006.8</dd>\n",
       "\t<dt>40</dt>\n",
       "\t\t<dd>99885854235281.7</dd>\n",
       "\t<dt>41</dt>\n",
       "\t\t<dd>161382548144908</dd>\n",
       "\t<dt>42</dt>\n",
       "\t\t<dd>187622575519121</dd>\n",
       "\t<dt>43</dt>\n",
       "\t\t<dd>80962643945.1901</dd>\n",
       "\t<dt>44</dt>\n",
       "\t\t<dd>88900634829.1026</dd>\n",
       "\t<dt>45</dt>\n",
       "\t\t<dd>10494459663.526</dd>\n",
       "\t<dt>46</dt>\n",
       "\t\t<dd>54598951260.2428</dd>\n",
       "\t<dt>47</dt>\n",
       "\t\t<dd>3758005334751.78</dd>\n",
       "\t<dt>48</dt>\n",
       "\t\t<dd>173436218070728</dd>\n",
       "\t<dt>49</dt>\n",
       "\t\t<dd>381395999642027</dd>\n",
       "\t<dt>50</dt>\n",
       "\t\t<dd>3958483656560.01</dd>\n",
       "\t<dt>51</dt>\n",
       "\t\t<dd>1155470038040.72</dd>\n",
       "\t<dt>52</dt>\n",
       "\t\t<dd>2781225398.61463</dd>\n",
       "\t<dt>53</dt>\n",
       "\t\t<dd>1842820.61940116</dd>\n",
       "\t<dt>54</dt>\n",
       "\t\t<dd>119066100979964</dd>\n",
       "\t<dt>55</dt>\n",
       "\t\t<dd>50683856733283.5</dd>\n",
       "\t<dt>56</dt>\n",
       "\t\t<dd>11973857180524.3</dd>\n",
       "\t<dt>57</dt>\n",
       "\t\t<dd>5488564530362.68</dd>\n",
       "\t<dt>58</dt>\n",
       "\t\t<dd>3206656538490.49</dd>\n",
       "\t<dt>59</dt>\n",
       "\t\t<dd>3052803717968.59</dd>\n",
       "\t<dt>60</dt>\n",
       "\t\t<dd>4847936143784.81</dd>\n",
       "\t<dt>61</dt>\n",
       "\t\t<dd>2395129626908.51</dd>\n",
       "\t<dt>62</dt>\n",
       "\t\t<dd>368037591216.67</dd>\n",
       "\t<dt>63</dt>\n",
       "\t\t<dd>1102656907643.91</dd>\n",
       "\t<dt>64</dt>\n",
       "\t\t<dd>1039854577619421</dd>\n",
       "\t<dt>65</dt>\n",
       "\t\t<dd>243484784.873774</dd>\n",
       "\t<dt>66</dt>\n",
       "\t\t<dd>206797749.107037</dd>\n",
       "\t<dt>67</dt>\n",
       "\t\t<dd>886914337.283929</dd>\n",
       "\t<dt>68</dt>\n",
       "\t\t<dd>4857402.23352462</dd>\n",
       "\t<dt>69</dt>\n",
       "\t\t<dd>141098835516876</dd>\n",
       "\t<dt>70</dt>\n",
       "\t\t<dd>188243758871.135</dd>\n",
       "\t<dt>71</dt>\n",
       "\t\t<dd>18333295894214.6</dd>\n",
       "\t<dt>72</dt>\n",
       "\t\t<dd>38060471553519.3</dd>\n",
       "\t<dt>73</dt>\n",
       "\t\t<dd>35778229261.0347</dd>\n",
       "\t<dt>74</dt>\n",
       "\t\t<dd>40694787851.8775</dd>\n",
       "\t<dt>75</dt>\n",
       "\t\t<dd>40929283253.4999</dd>\n",
       "\t<dt>76</dt>\n",
       "\t\t<dd>41780347851.0319</dd>\n",
       "\t<dt>77</dt>\n",
       "\t\t<dd>42435228565.3168</dd>\n",
       "\t<dt>78</dt>\n",
       "\t\t<dd>44563900627.4307</dd>\n",
       "\t<dt>79</dt>\n",
       "\t\t<dd>44695984463.31</dd>\n",
       "\t<dt>80</dt>\n",
       "\t\t<dd>45558409215.2066</dd>\n",
       "\t<dt>81</dt>\n",
       "\t\t<dd>18588371509.3926</dd>\n",
       "\t<dt>82</dt>\n",
       "\t\t<dd>192816500237.014</dd>\n",
       "\t<dt>83</dt>\n",
       "\t\t<dd>1031945296650403</dd>\n",
       "\t<dt>84</dt>\n",
       "\t\t<dd>1031945449914476</dd>\n",
       "\t<dt>85</dt>\n",
       "\t\t<dd>938096558626458</dd>\n",
       "\t<dt>86</dt>\n",
       "\t\t<dd>30929155394.138</dd>\n",
       "\t<dt>87</dt>\n",
       "\t\t<dd>3469842936916.78</dd>\n",
       "\t<dt>88</dt>\n",
       "\t\t<dd>999106794.31234</dd>\n",
       "\t<dt>89</dt>\n",
       "\t\t<dd>136737878979.322</dd>\n",
       "\t<dt>90</dt>\n",
       "\t\t<dd>834155724358264</dd>\n",
       "\t<dt>91</dt>\n",
       "\t\t<dd>0</dd>\n",
       "\t<dt>92</dt>\n",
       "\t\t<dd>139247385802.028</dd>\n",
       "\t<dt>93</dt>\n",
       "\t\t<dd>7303638.52497677</dd>\n",
       "\t<dt>94</dt>\n",
       "\t\t<dd>371146.707210748</dd>\n",
       "\t<dt>95</dt>\n",
       "\t\t<dd>0.00199923594954444</dd>\n",
       "\t<dt>96</dt>\n",
       "\t\t<dd>620075258261257</dd>\n",
       "\t<dt>97</dt>\n",
       "\t\t<dd>23152388055212.3</dd>\n",
       "\t<dt>98</dt>\n",
       "\t\t<dd>38793521938960.1</dd>\n",
       "\t<dt>99</dt>\n",
       "\t\t<dd>209920055.864333</dd>\n",
       "\t<dt>100</dt>\n",
       "\t\t<dd>35829249.5150286</dd>\n",
       "\t<dt>101</dt>\n",
       "\t\t<dd>98217226665.1829</dd>\n",
       "\t<dt>102</dt>\n",
       "\t\t<dd>1349239810863.27</dd>\n",
       "\t<dt>103</dt>\n",
       "\t\t<dd>16403140012860.9</dd>\n",
       "\t<dt>104</dt>\n",
       "\t\t<dd>50945545287266</dd>\n",
       "\t<dt>105</dt>\n",
       "\t\t<dd>119685751713167</dd>\n",
       "\t<dt>106</dt>\n",
       "\t\t<dd>85924915944975.8</dd>\n",
       "\t<dt>107</dt>\n",
       "\t\t<dd>6710708884629.7</dd>\n",
       "\t<dt>108</dt>\n",
       "\t\t<dd>952983954913.741</dd>\n",
       "\t<dt>109</dt>\n",
       "\t\t<dd>327903614249.162</dd>\n",
       "\t<dt>110</dt>\n",
       "\t\t<dd>1876022314778.52</dd>\n",
       "\t<dt>111</dt>\n",
       "\t\t<dd>115652017.25912</dd>\n",
       "\t<dt>112</dt>\n",
       "\t\t<dd>312474030.642246</dd>\n",
       "\t<dt>113</dt>\n",
       "\t\t<dd>1031945299574172</dd>\n",
       "\t<dt>114</dt>\n",
       "\t\t<dd>2037516.2752112</dd>\n",
       "\t<dt>115</dt>\n",
       "\t\t<dd>654759858.454135</dd>\n",
       "\t<dt>116</dt>\n",
       "\t\t<dd>148506929.397162</dd>\n",
       "\t<dt>117</dt>\n",
       "\t\t<dd>13107313343329.9</dd>\n",
       "\t<dt>118</dt>\n",
       "\t\t<dd>11552920750183.3</dd>\n",
       "\t<dt>119</dt>\n",
       "\t\t<dd>58410943401221.5</dd>\n",
       "\t<dt>120</dt>\n",
       "\t\t<dd>273317725095493</dd>\n",
       "\t<dt>121</dt>\n",
       "\t\t<dd>7634849323416.23</dd>\n",
       "\t<dt>122</dt>\n",
       "\t\t<dd>3740613229.12831</dd>\n",
       "\t<dt>123</dt>\n",
       "\t\t<dd>1372540.65719223</dd>\n",
       "\t<dt>124</dt>\n",
       "\t\t<dd>17931.9756959288</dd>\n",
       "\t<dt>125</dt>\n",
       "\t\t<dd>28668372.274568</dd>\n",
       "\t<dt>126</dt>\n",
       "\t\t<dd>85327110.1815643</dd>\n",
       "\t<dt>127</dt>\n",
       "\t\t<dd>71695011818427.8</dd>\n",
       "\t<dt>128</dt>\n",
       "\t\t<dd>13711626685259.5</dd>\n",
       "\t<dt>129</dt>\n",
       "\t\t<dd>368076367.253578</dd>\n",
       "\t<dt>130</dt>\n",
       "\t\t<dd>49435284392.2667</dd>\n",
       "\t<dt>131</dt>\n",
       "\t\t<dd>361.450742790239</dd>\n",
       "\t<dt>132</dt>\n",
       "\t\t<dd>857.310045363141</dd>\n",
       "\t<dt>133</dt>\n",
       "\t\t<dd>87980040530249.6</dd>\n",
       "\t<dt>134</dt>\n",
       "\t\t<dd>669932017.179868</dd>\n",
       "\t<dt>135</dt>\n",
       "\t\t<dd>30496529.439599</dd>\n",
       "\t<dt>136</dt>\n",
       "\t\t<dd>251888787219.383</dd>\n",
       "\t<dt>137</dt>\n",
       "\t\t<dd>974152134196.819</dd>\n",
       "\t<dt>138</dt>\n",
       "\t\t<dd>7773989307098.6</dd>\n",
       "\t<dt>139</dt>\n",
       "\t\t<dd>2542955683064.62</dd>\n",
       "\t<dt>140</dt>\n",
       "\t\t<dd>44.5948430035495</dd>\n",
       "\t<dt>141</dt>\n",
       "\t\t<dd>14577500801.0305</dd>\n",
       "\t<dt>142</dt>\n",
       "\t\t<dd>215067694927.619</dd>\n",
       "\t<dt>143</dt>\n",
       "\t\t<dd>105080140982.831</dd>\n",
       "\t<dt>144</dt>\n",
       "\t\t<dd>78995454316.5655</dd>\n",
       "\t<dt>145</dt>\n",
       "\t\t<dd>39038981212.0192</dd>\n",
       "\t<dt>146</dt>\n",
       "\t\t<dd>1721331928.70242</dd>\n",
       "\t<dt>147</dt>\n",
       "\t\t<dd>75203640140607920</dd>\n",
       "\t<dt>148</dt>\n",
       "\t\t<dd>12679665116688.1</dd>\n",
       "\t<dt>149</dt>\n",
       "\t\t<dd>339416511179.798</dd>\n",
       "\t<dt>150</dt>\n",
       "\t\t<dd>9063163656.4869</dd>\n",
       "\t<dt>151</dt>\n",
       "\t\t<dd>827941767767218</dd>\n",
       "\t<dt>152</dt>\n",
       "\t\t<dd>39698001728892.8</dd>\n",
       "\t<dt>153</dt>\n",
       "\t\t<dd>96379675261135.4</dd>\n",
       "\t<dt>154</dt>\n",
       "\t\t<dd>17331378438.0756</dd>\n",
       "\t<dt>155</dt>\n",
       "\t\t<dd>1465.24629484554</dd>\n",
       "\t<dt>156</dt>\n",
       "\t\t<dd>1675.21167376141</dd>\n",
       "\t<dt>157</dt>\n",
       "\t\t<dd>11624738940386026</dd>\n",
       "\t<dt>158</dt>\n",
       "\t\t<dd>92922095.2578063</dd>\n",
       "\t<dt>159</dt>\n",
       "\t\t<dd>103992311.753375</dd>\n",
       "\t<dt>160</dt>\n",
       "\t\t<dd>55487947560372.9</dd>\n",
       "\t<dt>161</dt>\n",
       "\t\t<dd>56781136559267.6</dd>\n",
       "\t<dt>162</dt>\n",
       "\t\t<dd>13334971756196.2</dd>\n",
       "\t<dt>163</dt>\n",
       "\t\t<dd>3150322394051.07</dd>\n",
       "\t<dt>164</dt>\n",
       "\t\t<dd>14000960371250.6</dd>\n",
       "\t<dt>165</dt>\n",
       "\t\t<dd>20111233538524.5</dd>\n",
       "\t<dt>166</dt>\n",
       "\t\t<dd>13726350877551.5</dd>\n",
       "\t<dt>167</dt>\n",
       "\t\t<dd>9631361203364.21</dd>\n",
       "\t<dt>168</dt>\n",
       "\t\t<dd>2600117868683.69</dd>\n",
       "\t<dt>169</dt>\n",
       "\t\t<dd>25062218703.5717</dd>\n",
       "\t<dt>170</dt>\n",
       "\t\t<dd>69.9886496707473</dd>\n",
       "\t<dt>171</dt>\n",
       "\t\t<dd>207.299569281496</dd>\n",
       "</dl>\n"
      ],
      "text/latex": [
       "\\begin{description*}\n",
       "\\item[1] 0.250125062531266\n",
       "\\item[2] 193563492552.107\n",
       "\\item[3] 2.55565445060192\n",
       "\\item[4] 356250083036464128\n",
       "\\item[5] 6207220.29713269\n",
       "\\item[6] 18653.2820759274\n",
       "\\item[7] 135279.442634093\n",
       "\\item[8] 249435780.968039\n",
       "\\item[9] 33290198251.6678\n",
       "\\item[10] 537263628657.728\n",
       "\\item[11] 10659551240965.9\n",
       "\\item[12] 54221030748766.8\n",
       "\\item[13] 93334699913285.5\n",
       "\\item[14] 156742985165270\n",
       "\\item[15] 14321667669077.1\n",
       "\\item[16] 222231783799.805\n",
       "\\item[17] 407548057882.815\n",
       "\\item[18] 141932121736179\n",
       "\\item[19] 305488495860.572\n",
       "\\item[20] 4117336052.30316\n",
       "\\item[21] 6947700831.04562\n",
       "\\item[22] 4394524363007.75\n",
       "\\item[23] 10674003393005.7\n",
       "\\item[24] 505619721797125\n",
       "\\item[25] 391182881122135\n",
       "\\item[26] 92730166433696\n",
       "\\item[27] 16293181169080.7\n",
       "\\item[28] 284.676034872782\n",
       "\\item[29] 1458505860.54666\n",
       "\\item[30] 364407788215.626\n",
       "\\item[31] 6891587259.84712\n",
       "\\item[32] 224700041.697875\n",
       "\\item[33] 9544805.83288573\n",
       "\\item[34] 5369099232925.78\n",
       "\\item[35] 7981018716098.54\n",
       "\\item[36] 5190124810694.76\n",
       "\\item[37] 1053201494914.26\n",
       "\\item[38] 3499243985012.43\n",
       "\\item[39] 31776311699006.8\n",
       "\\item[40] 99885854235281.7\n",
       "\\item[41] 161382548144908\n",
       "\\item[42] 187622575519121\n",
       "\\item[43] 80962643945.1901\n",
       "\\item[44] 88900634829.1026\n",
       "\\item[45] 10494459663.526\n",
       "\\item[46] 54598951260.2428\n",
       "\\item[47] 3758005334751.78\n",
       "\\item[48] 173436218070728\n",
       "\\item[49] 381395999642027\n",
       "\\item[50] 3958483656560.01\n",
       "\\item[51] 1155470038040.72\n",
       "\\item[52] 2781225398.61463\n",
       "\\item[53] 1842820.61940116\n",
       "\\item[54] 119066100979964\n",
       "\\item[55] 50683856733283.5\n",
       "\\item[56] 11973857180524.3\n",
       "\\item[57] 5488564530362.68\n",
       "\\item[58] 3206656538490.49\n",
       "\\item[59] 3052803717968.59\n",
       "\\item[60] 4847936143784.81\n",
       "\\item[61] 2395129626908.51\n",
       "\\item[62] 368037591216.67\n",
       "\\item[63] 1102656907643.91\n",
       "\\item[64] 1039854577619421\n",
       "\\item[65] 243484784.873774\n",
       "\\item[66] 206797749.107037\n",
       "\\item[67] 886914337.283929\n",
       "\\item[68] 4857402.23352462\n",
       "\\item[69] 141098835516876\n",
       "\\item[70] 188243758871.135\n",
       "\\item[71] 18333295894214.6\n",
       "\\item[72] 38060471553519.3\n",
       "\\item[73] 35778229261.0347\n",
       "\\item[74] 40694787851.8775\n",
       "\\item[75] 40929283253.4999\n",
       "\\item[76] 41780347851.0319\n",
       "\\item[77] 42435228565.3168\n",
       "\\item[78] 44563900627.4307\n",
       "\\item[79] 44695984463.31\n",
       "\\item[80] 45558409215.2066\n",
       "\\item[81] 18588371509.3926\n",
       "\\item[82] 192816500237.014\n",
       "\\item[83] 1031945296650403\n",
       "\\item[84] 1031945449914476\n",
       "\\item[85] 938096558626458\n",
       "\\item[86] 30929155394.138\n",
       "\\item[87] 3469842936916.78\n",
       "\\item[88] 999106794.31234\n",
       "\\item[89] 136737878979.322\n",
       "\\item[90] 834155724358264\n",
       "\\item[91] 0\n",
       "\\item[92] 139247385802.028\n",
       "\\item[93] 7303638.52497677\n",
       "\\item[94] 371146.707210748\n",
       "\\item[95] 0.00199923594954444\n",
       "\\item[96] 620075258261257\n",
       "\\item[97] 23152388055212.3\n",
       "\\item[98] 38793521938960.1\n",
       "\\item[99] 209920055.864333\n",
       "\\item[100] 35829249.5150286\n",
       "\\item[101] 98217226665.1829\n",
       "\\item[102] 1349239810863.27\n",
       "\\item[103] 16403140012860.9\n",
       "\\item[104] 50945545287266\n",
       "\\item[105] 119685751713167\n",
       "\\item[106] 85924915944975.8\n",
       "\\item[107] 6710708884629.7\n",
       "\\item[108] 952983954913.741\n",
       "\\item[109] 327903614249.162\n",
       "\\item[110] 1876022314778.52\n",
       "\\item[111] 115652017.25912\n",
       "\\item[112] 312474030.642246\n",
       "\\item[113] 1031945299574172\n",
       "\\item[114] 2037516.2752112\n",
       "\\item[115] 654759858.454135\n",
       "\\item[116] 148506929.397162\n",
       "\\item[117] 13107313343329.9\n",
       "\\item[118] 11552920750183.3\n",
       "\\item[119] 58410943401221.5\n",
       "\\item[120] 273317725095493\n",
       "\\item[121] 7634849323416.23\n",
       "\\item[122] 3740613229.12831\n",
       "\\item[123] 1372540.65719223\n",
       "\\item[124] 17931.9756959288\n",
       "\\item[125] 28668372.274568\n",
       "\\item[126] 85327110.1815643\n",
       "\\item[127] 71695011818427.8\n",
       "\\item[128] 13711626685259.5\n",
       "\\item[129] 368076367.253578\n",
       "\\item[130] 49435284392.2667\n",
       "\\item[131] 361.450742790239\n",
       "\\item[132] 857.310045363141\n",
       "\\item[133] 87980040530249.6\n",
       "\\item[134] 669932017.179868\n",
       "\\item[135] 30496529.439599\n",
       "\\item[136] 251888787219.383\n",
       "\\item[137] 974152134196.819\n",
       "\\item[138] 7773989307098.6\n",
       "\\item[139] 2542955683064.62\n",
       "\\item[140] 44.5948430035495\n",
       "\\item[141] 14577500801.0305\n",
       "\\item[142] 215067694927.619\n",
       "\\item[143] 105080140982.831\n",
       "\\item[144] 78995454316.5655\n",
       "\\item[145] 39038981212.0192\n",
       "\\item[146] 1721331928.70242\n",
       "\\item[147] 75203640140607920\n",
       "\\item[148] 12679665116688.1\n",
       "\\item[149] 339416511179.798\n",
       "\\item[150] 9063163656.4869\n",
       "\\item[151] 827941767767218\n",
       "\\item[152] 39698001728892.8\n",
       "\\item[153] 96379675261135.4\n",
       "\\item[154] 17331378438.0756\n",
       "\\item[155] 1465.24629484554\n",
       "\\item[156] 1675.21167376141\n",
       "\\item[157] 11624738940386026\n",
       "\\item[158] 92922095.2578063\n",
       "\\item[159] 103992311.753375\n",
       "\\item[160] 55487947560372.9\n",
       "\\item[161] 56781136559267.6\n",
       "\\item[162] 13334971756196.2\n",
       "\\item[163] 3150322394051.07\n",
       "\\item[164] 14000960371250.6\n",
       "\\item[165] 20111233538524.5\n",
       "\\item[166] 13726350877551.5\n",
       "\\item[167] 9631361203364.21\n",
       "\\item[168] 2600117868683.69\n",
       "\\item[169] 25062218703.5717\n",
       "\\item[170] 69.9886496707473\n",
       "\\item[171] 207.299569281496\n",
       "\\end{description*}\n"
      ],
      "text/markdown": [
       "1\n",
       ":   0.2501250625312662\n",
       ":   193563492552.1073\n",
       ":   2.555654450601924\n",
       ":   3562500830364641285\n",
       ":   6207220.297132696\n",
       ":   18653.28207592747\n",
       ":   135279.4426340938\n",
       ":   249435780.9680399\n",
       ":   33290198251.667810\n",
       ":   537263628657.72811\n",
       ":   10659551240965.912\n",
       ":   54221030748766.813\n",
       ":   93334699913285.514\n",
       ":   15674298516527015\n",
       ":   14321667669077.116\n",
       ":   222231783799.80517\n",
       ":   407548057882.81518\n",
       ":   14193212173617919\n",
       ":   305488495860.57220\n",
       ":   4117336052.3031621\n",
       ":   6947700831.0456222\n",
       ":   4394524363007.7523\n",
       ":   10674003393005.724\n",
       ":   50561972179712525\n",
       ":   39118288112213526\n",
       ":   9273016643369627\n",
       ":   16293181169080.728\n",
       ":   284.67603487278229\n",
       ":   1458505860.5466630\n",
       ":   364407788215.62631\n",
       ":   6891587259.8471232\n",
       ":   224700041.69787533\n",
       ":   9544805.8328857334\n",
       ":   5369099232925.7835\n",
       ":   7981018716098.5436\n",
       ":   5190124810694.7637\n",
       ":   1053201494914.2638\n",
       ":   3499243985012.4339\n",
       ":   31776311699006.840\n",
       ":   99885854235281.741\n",
       ":   16138254814490842\n",
       ":   18762257551912143\n",
       ":   80962643945.190144\n",
       ":   88900634829.102645\n",
       ":   10494459663.52646\n",
       ":   54598951260.242847\n",
       ":   3758005334751.7848\n",
       ":   17343621807072849\n",
       ":   38139599964202750\n",
       ":   3958483656560.0151\n",
       ":   1155470038040.7252\n",
       ":   2781225398.6146353\n",
       ":   1842820.6194011654\n",
       ":   11906610097996455\n",
       ":   50683856733283.556\n",
       ":   11973857180524.357\n",
       ":   5488564530362.6858\n",
       ":   3206656538490.4959\n",
       ":   3052803717968.5960\n",
       ":   4847936143784.8161\n",
       ":   2395129626908.5162\n",
       ":   368037591216.6763\n",
       ":   1102656907643.9164\n",
       ":   103985457761942165\n",
       ":   243484784.87377466\n",
       ":   206797749.10703767\n",
       ":   886914337.28392968\n",
       ":   4857402.2335246269\n",
       ":   14109883551687670\n",
       ":   188243758871.13571\n",
       ":   18333295894214.672\n",
       ":   38060471553519.373\n",
       ":   35778229261.034774\n",
       ":   40694787851.877575\n",
       ":   40929283253.499976\n",
       ":   41780347851.031977\n",
       ":   42435228565.316878\n",
       ":   44563900627.430779\n",
       ":   44695984463.3180\n",
       ":   45558409215.206681\n",
       ":   18588371509.392682\n",
       ":   192816500237.01483\n",
       ":   103194529665040384\n",
       ":   103194544991447685\n",
       ":   93809655862645886\n",
       ":   30929155394.13887\n",
       ":   3469842936916.7888\n",
       ":   999106794.3123489\n",
       ":   136737878979.32290\n",
       ":   83415572435826491\n",
       ":   092\n",
       ":   139247385802.02893\n",
       ":   7303638.5249767794\n",
       ":   371146.70721074895\n",
       ":   0.0019992359495444496\n",
       ":   62007525826125797\n",
       ":   23152388055212.398\n",
       ":   38793521938960.199\n",
       ":   209920055.864333100\n",
       ":   35829249.5150286101\n",
       ":   98217226665.1829102\n",
       ":   1349239810863.27103\n",
       ":   16403140012860.9104\n",
       ":   50945545287266105\n",
       ":   119685751713167106\n",
       ":   85924915944975.8107\n",
       ":   6710708884629.7108\n",
       ":   952983954913.741109\n",
       ":   327903614249.162110\n",
       ":   1876022314778.52111\n",
       ":   115652017.25912112\n",
       ":   312474030.642246113\n",
       ":   1031945299574172114\n",
       ":   2037516.2752112115\n",
       ":   654759858.454135116\n",
       ":   148506929.397162117\n",
       ":   13107313343329.9118\n",
       ":   11552920750183.3119\n",
       ":   58410943401221.5120\n",
       ":   273317725095493121\n",
       ":   7634849323416.23122\n",
       ":   3740613229.12831123\n",
       ":   1372540.65719223124\n",
       ":   17931.9756959288125\n",
       ":   28668372.274568126\n",
       ":   85327110.1815643127\n",
       ":   71695011818427.8128\n",
       ":   13711626685259.5129\n",
       ":   368076367.253578130\n",
       ":   49435284392.2667131\n",
       ":   361.450742790239132\n",
       ":   857.310045363141133\n",
       ":   87980040530249.6134\n",
       ":   669932017.179868135\n",
       ":   30496529.439599136\n",
       ":   251888787219.383137\n",
       ":   974152134196.819138\n",
       ":   7773989307098.6139\n",
       ":   2542955683064.62140\n",
       ":   44.5948430035495141\n",
       ":   14577500801.0305142\n",
       ":   215067694927.619143\n",
       ":   105080140982.831144\n",
       ":   78995454316.5655145\n",
       ":   39038981212.0192146\n",
       ":   1721331928.70242147\n",
       ":   75203640140607920148\n",
       ":   12679665116688.1149\n",
       ":   339416511179.798150\n",
       ":   9063163656.4869151\n",
       ":   827941767767218152\n",
       ":   39698001728892.8153\n",
       ":   96379675261135.4154\n",
       ":   17331378438.0756155\n",
       ":   1465.24629484554156\n",
       ":   1675.21167376141157\n",
       ":   11624738940386026158\n",
       ":   92922095.2578063159\n",
       ":   103992311.753375160\n",
       ":   55487947560372.9161\n",
       ":   56781136559267.6162\n",
       ":   13334971756196.2163\n",
       ":   3150322394051.07164\n",
       ":   14000960371250.6165\n",
       ":   20111233538524.5166\n",
       ":   13726350877551.5167\n",
       ":   9631361203364.21168\n",
       ":   2600117868683.69169\n",
       ":   25062218703.5717170\n",
       ":   69.9886496707473171\n",
       ":   207.299569281496\n",
       "\n"
      ],
      "text/plain": [
       "           1            2            3            4            5            6 \n",
       "2.501251e-01 1.935635e+11 2.555654e+00 3.562501e+17 6.207220e+06 1.865328e+04 \n",
       "           7            8            9           10           11           12 \n",
       "1.352794e+05 2.494358e+08 3.329020e+10 5.372636e+11 1.065955e+13 5.422103e+13 \n",
       "          13           14           15           16           17           18 \n",
       "9.333470e+13 1.567430e+14 1.432167e+13 2.222318e+11 4.075481e+11 1.419321e+14 \n",
       "          19           20           21           22           23           24 \n",
       "3.054885e+11 4.117336e+09 6.947701e+09 4.394524e+12 1.067400e+13 5.056197e+14 \n",
       "          25           26           27           28           29           30 \n",
       "3.911829e+14 9.273017e+13 1.629318e+13 2.846760e+02 1.458506e+09 3.644078e+11 \n",
       "          31           32           33           34           35           36 \n",
       "6.891587e+09 2.247000e+08 9.544806e+06 5.369099e+12 7.981019e+12 5.190125e+12 \n",
       "          37           38           39           40           41           42 \n",
       "1.053201e+12 3.499244e+12 3.177631e+13 9.988585e+13 1.613825e+14 1.876226e+14 \n",
       "          43           44           45           46           47           48 \n",
       "8.096264e+10 8.890063e+10 1.049446e+10 5.459895e+10 3.758005e+12 1.734362e+14 \n",
       "          49           50           51           52           53           54 \n",
       "3.813960e+14 3.958484e+12 1.155470e+12 2.781225e+09 1.842821e+06 1.190661e+14 \n",
       "          55           56           57           58           59           60 \n",
       "5.068386e+13 1.197386e+13 5.488565e+12 3.206657e+12 3.052804e+12 4.847936e+12 \n",
       "          61           62           63           64           65           66 \n",
       "2.395130e+12 3.680376e+11 1.102657e+12 1.039855e+15 2.434848e+08 2.067977e+08 \n",
       "          67           68           69           70           71           72 \n",
       "8.869143e+08 4.857402e+06 1.410988e+14 1.882438e+11 1.833330e+13 3.806047e+13 \n",
       "          73           74           75           76           77           78 \n",
       "3.577823e+10 4.069479e+10 4.092928e+10 4.178035e+10 4.243523e+10 4.456390e+10 \n",
       "          79           80           81           82           83           84 \n",
       "4.469598e+10 4.555841e+10 1.858837e+10 1.928165e+11 1.031945e+15 1.031945e+15 \n",
       "          85           86           87           88           89           90 \n",
       "9.380966e+14 3.092916e+10 3.469843e+12 9.991068e+08 1.367379e+11 8.341557e+14 \n",
       "          91           92           93           94           95           96 \n",
       "0.000000e+00 1.392474e+11 7.303639e+06 3.711467e+05 1.999236e-03 6.200753e+14 \n",
       "          97           98           99          100          101          102 \n",
       "2.315239e+13 3.879352e+13 2.099201e+08 3.582925e+07 9.821723e+10 1.349240e+12 \n",
       "         103          104          105          106          107          108 \n",
       "1.640314e+13 5.094555e+13 1.196858e+14 8.592492e+13 6.710709e+12 9.529840e+11 \n",
       "         109          110          111          112          113          114 \n",
       "3.279036e+11 1.876022e+12 1.156520e+08 3.124740e+08 1.031945e+15 2.037516e+06 \n",
       "         115          116          117          118          119          120 \n",
       "6.547599e+08 1.485069e+08 1.310731e+13 1.155292e+13 5.841094e+13 2.733177e+14 \n",
       "         121          122          123          124          125          126 \n",
       "7.634849e+12 3.740613e+09 1.372541e+06 1.793198e+04 2.866837e+07 8.532711e+07 \n",
       "         127          128          129          130          131          132 \n",
       "7.169501e+13 1.371163e+13 3.680764e+08 4.943528e+10 3.614507e+02 8.573100e+02 \n",
       "         133          134          135          136          137          138 \n",
       "8.798004e+13 6.699320e+08 3.049653e+07 2.518888e+11 9.741521e+11 7.773989e+12 \n",
       "         139          140          141          142          143          144 \n",
       "2.542956e+12 4.459484e+01 1.457750e+10 2.150677e+11 1.050801e+11 7.899545e+10 \n",
       "         145          146          147          148          149          150 \n",
       "3.903898e+10 1.721332e+09 7.520364e+16 1.267967e+13 3.394165e+11 9.063164e+09 \n",
       "         151          152          153          154          155          156 \n",
       "8.279418e+14 3.969800e+13 9.637968e+13 1.733138e+10 1.465246e+03 1.675212e+03 \n",
       "         157          158          159          160          161          162 \n",
       "1.162474e+16 9.292210e+07 1.039923e+08 5.548795e+13 5.678114e+13 1.333497e+13 \n",
       "         163          164          165          166          167          168 \n",
       "3.150322e+12 1.400096e+13 2.011123e+13 1.372635e+13 9.631361e+12 2.600118e+12 \n",
       "         169          170          171 \n",
       "2.506222e+10 6.998865e+01 2.072996e+02 "
      ]
     },
     "metadata": {},
     "output_type": "display_data"
    }
   ],
   "source": [
    "v = apply_each(data.6, var)\n",
    "zero_var = which(v==0)\n",
    "zero_var\n",
    "v"
   ]
  },
  {
   "cell_type": "code",
   "execution_count": 39,
   "metadata": {},
   "outputs": [
    {
     "data": {
      "text/html": [
       "<table>\n",
       "<thead><tr><th></th><th scope=col>class</th><th scope=col>PC1</th><th scope=col>PC2</th><th scope=col>PC3</th><th scope=col>PC4</th><th scope=col>PC5</th><th scope=col>PC6</th><th scope=col>PC7</th><th scope=col>...</th><th scope=col>PC162</th><th scope=col>PC163</th><th scope=col>PC164</th><th scope=col>PC165</th><th scope=col>PC166</th><th scope=col>PC167</th><th scope=col>PC168</th><th scope=col>PC169</th></tr></thead>\n",
       "<tbody>\n",
       "\t<tr><th scope=row>43283</th><td>ok           </td><td>-4.2713312   </td><td>0.1927060    </td><td>-0.9368520   </td><td>-0.3312515   </td><td> 0.2426246   </td><td>-0.03882044  </td><td>-0.5220403   </td><td>...          </td><td> 0.0015854707</td><td> 1.121129e-06</td><td> 1.225545e-07</td><td> 1.322408e-07</td><td> 1.196814e-08</td><td>-1.628275e-08</td><td> 1.077542e-09</td><td> 3.358428e-09</td></tr>\n",
       "\t<tr><th scope=row>52561</th><td>ok           </td><td>-4.3992736   </td><td>0.4552475    </td><td>-1.2503658   </td><td>-0.8396990   </td><td> 0.1354893   </td><td>-0.42753738  </td><td>-0.4626761   </td><td>...          </td><td> 0.0003553526</td><td> 2.706967e-05</td><td> 2.968007e-07</td><td>-6.474950e-09</td><td> 1.295402e-07</td><td> 1.220397e-07</td><td>-2.522005e-09</td><td> 8.542039e-10</td></tr>\n",
       "\t<tr><th scope=row>45683</th><td>ok           </td><td>-0.8199157   </td><td>2.0220111    </td><td>-2.9343122   </td><td>-1.0216595   </td><td> 0.0346656   </td><td> 0.67993314  </td><td>-0.9792355   </td><td>...          </td><td> 0.0024620837</td><td> 1.290781e-05</td><td> 1.071512e-06</td><td>-2.600180e-07</td><td>-1.226233e-07</td><td>-2.546578e-08</td><td> 3.650211e-09</td><td> 5.357482e-09</td></tr>\n",
       "\t<tr><th scope=row>53185</th><td>ok           </td><td>-5.6765364   </td><td>0.1873291    </td><td> 0.2582882   </td><td>-0.6236337   </td><td>-0.1730093   </td><td>-0.03106843  </td><td> 0.1981518   </td><td>...          </td><td>-0.0007610401</td><td>-8.239633e-06</td><td>-1.502776e-07</td><td>-1.231997e-07</td><td> 2.330888e-08</td><td> 5.304273e-08</td><td>-6.657519e-10</td><td>-1.627153e-09</td></tr>\n",
       "\t<tr><th scope=row>...</th><td>...</td><td>...</td><td>...</td><td>...</td><td>...</td><td>...</td><td>...</td><td>...</td><td>   </td><td>...</td><td>...</td><td>...</td><td>...</td><td>...</td><td>...</td><td>...</td><td>...</td></tr>\n",
       "\t<tr><th scope=row>59602</th><td>failure      </td><td>7.556090     </td><td>-3.391637    </td><td> 1.1837820   </td><td>-3.414261    </td><td>-1.3528504   </td><td> 1.0563952   </td><td>-0.43624443  </td><td>...          </td><td>-0.0003824770</td><td> 1.430648e-05</td><td>-1.666503e-07</td><td>-1.698465e-06</td><td>-7.783799e-09</td><td> 4.724237e-07</td><td> 1.817155e-10</td><td> 1.093152e-08</td></tr>\n",
       "\t<tr><th scope=row>59693</th><td>failure      </td><td>7.724406     </td><td> 1.547565    </td><td> 4.3021712   </td><td> 7.098714    </td><td> 0.3561384   </td><td>-1.9257058   </td><td> 5.72736877  </td><td>...          </td><td> 0.0036401444</td><td>-5.132552e-05</td><td> 4.923519e-06</td><td> 2.278503e-06</td><td> 2.036932e-06</td><td> 2.857412e-06</td><td>-4.019582e-09</td><td> 3.559793e-08</td></tr>\n",
       "\t<tr><th scope=row>59743</th><td>failure      </td><td>5.868635     </td><td>-2.382574    </td><td> 0.5856432   </td><td>-2.432739    </td><td>-1.8833889   </td><td>-0.6929757   </td><td> 0.34336169  </td><td>...          </td><td>-0.0109510305</td><td>-5.498302e-05</td><td> 4.878992e-07</td><td>-1.526994e-06</td><td>-3.578180e-07</td><td>-1.781553e-07</td><td> 9.349553e-09</td><td>-6.116264e-09</td></tr>\n",
       "\t<tr><th scope=row>59770</th><td>failure      </td><td>2.940370     </td><td>-4.073613    </td><td>-0.9754124   </td><td>-1.438759    </td><td>-0.7177986   </td><td> 0.6010108   </td><td> 0.01021435  </td><td>...          </td><td> 0.0007130294</td><td>-1.403879e-05</td><td>-8.133285e-07</td><td>-5.853504e-07</td><td> 6.425296e-08</td><td> 1.691860e-07</td><td> 6.051789e-09</td><td> 1.033248e-08</td></tr>\n",
       "</tbody>\n",
       "</table>\n"
      ],
      "text/latex": [
       "\\begin{tabular}{r|llllllllllllllllllllllllllllllllllllllllllllllllllllllllllllllllllllllllllllllllllllllllllllllllllllllllllllllllllllllllllllllllllllllllllllllllllllllllllllllllllllllllll}\n",
       "  & class & PC1 & PC2 & PC3 & PC4 & PC5 & PC6 & PC7 & ... & PC162 & PC163 & PC164 & PC165 & PC166 & PC167 & PC168 & PC169\\\\\n",
       "\\hline\n",
       "\t43283 & ok            & -4.2713312    & 0.1927060     & -0.9368520    & -0.3312515    &  0.2426246    & -0.03882044   & -0.5220403    & ...           &  0.0015854707 &  1.121129e-06 &  1.225545e-07 &  1.322408e-07 &  1.196814e-08 & -1.628275e-08 &  1.077542e-09 &  3.358428e-09\\\\\n",
       "\t52561 & ok            & -4.3992736    & 0.4552475     & -1.2503658    & -0.8396990    &  0.1354893    & -0.42753738   & -0.4626761    & ...           &  0.0003553526 &  2.706967e-05 &  2.968007e-07 & -6.474950e-09 &  1.295402e-07 &  1.220397e-07 & -2.522005e-09 &  8.542039e-10\\\\\n",
       "\t45683 & ok            & -0.8199157    & 2.0220111     & -2.9343122    & -1.0216595    &  0.0346656    &  0.67993314   & -0.9792355    & ...           &  0.0024620837 &  1.290781e-05 &  1.071512e-06 & -2.600180e-07 & -1.226233e-07 & -2.546578e-08 &  3.650211e-09 &  5.357482e-09\\\\\n",
       "\t53185 & ok            & -5.6765364    & 0.1873291     &  0.2582882    & -0.6236337    & -0.1730093    & -0.03106843   &  0.1981518    & ...           & -0.0007610401 & -8.239633e-06 & -1.502776e-07 & -1.231997e-07 &  2.330888e-08 &  5.304273e-08 & -6.657519e-10 & -1.627153e-09\\\\\n",
       "\t... & ... & ... & ... & ... & ... & ... & ... & ... &     & ... & ... & ... & ... & ... & ... & ... & ...\\\\\n",
       "\t59602 & failure       & 7.556090      & -3.391637     &  1.1837820    & -3.414261     & -1.3528504    &  1.0563952    & -0.43624443   & ...           & -0.0003824770 &  1.430648e-05 & -1.666503e-07 & -1.698465e-06 & -7.783799e-09 &  4.724237e-07 &  1.817155e-10 &  1.093152e-08\\\\\n",
       "\t59693 & failure       & 7.724406      &  1.547565     &  4.3021712    &  7.098714     &  0.3561384    & -1.9257058    &  5.72736877   & ...           &  0.0036401444 & -5.132552e-05 &  4.923519e-06 &  2.278503e-06 &  2.036932e-06 &  2.857412e-06 & -4.019582e-09 &  3.559793e-08\\\\\n",
       "\t59743 & failure       & 5.868635      & -2.382574     &  0.5856432    & -2.432739     & -1.8833889    & -0.6929757    &  0.34336169   & ...           & -0.0109510305 & -5.498302e-05 &  4.878992e-07 & -1.526994e-06 & -3.578180e-07 & -1.781553e-07 &  9.349553e-09 & -6.116264e-09\\\\\n",
       "\t59770 & failure       & 2.940370      & -4.073613     & -0.9754124    & -1.438759     & -0.7177986    &  0.6010108    &  0.01021435   & ...           &  0.0007130294 & -1.403879e-05 & -8.133285e-07 & -5.853504e-07 &  6.425296e-08 &  1.691860e-07 &  6.051789e-09 &  1.033248e-08\\\\\n",
       "\\end{tabular}\n"
      ],
      "text/markdown": [
       "\n",
       "| <!--/--> | class | PC1 | PC2 | PC3 | PC4 | PC5 | PC6 | PC7 | ... | PC162 | PC163 | PC164 | PC165 | PC166 | PC167 | PC168 | PC169 | \n",
       "|---|---|---|---|---|---|---|---|---|\n",
       "| 43283 | ok            | -4.2713312    | 0.1927060     | -0.9368520    | -0.3312515    |  0.2426246    | -0.03882044   | -0.5220403    | ...           |  0.0015854707 |  1.121129e-06 |  1.225545e-07 |  1.322408e-07 |  1.196814e-08 | -1.628275e-08 |  1.077542e-09 |  3.358428e-09 | \n",
       "| 52561 | ok            | -4.3992736    | 0.4552475     | -1.2503658    | -0.8396990    |  0.1354893    | -0.42753738   | -0.4626761    | ...           |  0.0003553526 |  2.706967e-05 |  2.968007e-07 | -6.474950e-09 |  1.295402e-07 |  1.220397e-07 | -2.522005e-09 |  8.542039e-10 | \n",
       "| 45683 | ok            | -0.8199157    | 2.0220111     | -2.9343122    | -1.0216595    |  0.0346656    |  0.67993314   | -0.9792355    | ...           |  0.0024620837 |  1.290781e-05 |  1.071512e-06 | -2.600180e-07 | -1.226233e-07 | -2.546578e-08 |  3.650211e-09 |  5.357482e-09 | \n",
       "| 53185 | ok            | -5.6765364    | 0.1873291     |  0.2582882    | -0.6236337    | -0.1730093    | -0.03106843   |  0.1981518    | ...           | -0.0007610401 | -8.239633e-06 | -1.502776e-07 | -1.231997e-07 |  2.330888e-08 |  5.304273e-08 | -6.657519e-10 | -1.627153e-09 | \n",
       "| ... | ... | ... | ... | ... | ... | ... | ... | ... |     | ... | ... | ... | ... | ... | ... | ... | ... | \n",
       "| 59602 | failure       | 7.556090      | -3.391637     |  1.1837820    | -3.414261     | -1.3528504    |  1.0563952    | -0.43624443   | ...           | -0.0003824770 |  1.430648e-05 | -1.666503e-07 | -1.698465e-06 | -7.783799e-09 |  4.724237e-07 |  1.817155e-10 |  1.093152e-08 | \n",
       "| 59693 | failure       | 7.724406      |  1.547565     |  4.3021712    |  7.098714     |  0.3561384    | -1.9257058    |  5.72736877   | ...           |  0.0036401444 | -5.132552e-05 |  4.923519e-06 |  2.278503e-06 |  2.036932e-06 |  2.857412e-06 | -4.019582e-09 |  3.559793e-08 | \n",
       "| 59743 | failure       | 5.868635      | -2.382574     |  0.5856432    | -2.432739     | -1.8833889    | -0.6929757    |  0.34336169   | ...           | -0.0109510305 | -5.498302e-05 |  4.878992e-07 | -1.526994e-06 | -3.578180e-07 | -1.781553e-07 |  9.349553e-09 | -6.116264e-09 | \n",
       "| 59770 | failure       | 2.940370      | -4.073613     | -0.9754124    | -1.438759     | -0.7177986    |  0.6010108    |  0.01021435   | ...           |  0.0007130294 | -1.403879e-05 | -8.133285e-07 | -5.853504e-07 |  6.425296e-08 |  1.691860e-07 |  6.051789e-09 |  1.033248e-08 | \n",
       "\n",
       "\n"
      ],
      "text/plain": [
       "      class   PC1        PC2       PC3        PC4        PC5        PC6        \n",
       "43283 ok      -4.2713312 0.1927060 -0.9368520 -0.3312515  0.2426246 -0.03882044\n",
       "52561 ok      -4.3992736 0.4552475 -1.2503658 -0.8396990  0.1354893 -0.42753738\n",
       "45683 ok      -0.8199157 2.0220111 -2.9343122 -1.0216595  0.0346656  0.67993314\n",
       "53185 ok      -5.6765364 0.1873291  0.2582882 -0.6236337 -0.1730093 -0.03106843\n",
       "...   ...     ...        ...       ...        ...        ...        ...        \n",
       "59602 failure 7.556090   -3.391637  1.1837820 -3.414261  -1.3528504  1.0563952 \n",
       "59693 failure 7.724406    1.547565  4.3021712  7.098714   0.3561384 -1.9257058 \n",
       "59743 failure 5.868635   -2.382574  0.5856432 -2.432739  -1.8833889 -0.6929757 \n",
       "59770 failure 2.940370   -4.073613 -0.9754124 -1.438759  -0.7177986  0.6010108 \n",
       "      PC7         ... PC162         PC163         PC164         PC165        \n",
       "43283 -0.5220403  ...  0.0015854707  1.121129e-06  1.225545e-07  1.322408e-07\n",
       "52561 -0.4626761  ...  0.0003553526  2.706967e-05  2.968007e-07 -6.474950e-09\n",
       "45683 -0.9792355  ...  0.0024620837  1.290781e-05  1.071512e-06 -2.600180e-07\n",
       "53185  0.1981518  ... -0.0007610401 -8.239633e-06 -1.502776e-07 -1.231997e-07\n",
       "...   ...             ...           ...           ...           ...          \n",
       "59602 -0.43624443 ... -0.0003824770  1.430648e-05 -1.666503e-07 -1.698465e-06\n",
       "59693  5.72736877 ...  0.0036401444 -5.132552e-05  4.923519e-06  2.278503e-06\n",
       "59743  0.34336169 ... -0.0109510305 -5.498302e-05  4.878992e-07 -1.526994e-06\n",
       "59770  0.01021435 ...  0.0007130294 -1.403879e-05 -8.133285e-07 -5.853504e-07\n",
       "      PC166         PC167         PC168         PC169        \n",
       "43283  1.196814e-08 -1.628275e-08  1.077542e-09  3.358428e-09\n",
       "52561  1.295402e-07  1.220397e-07 -2.522005e-09  8.542039e-10\n",
       "45683 -1.226233e-07 -2.546578e-08  3.650211e-09  5.357482e-09\n",
       "53185  2.330888e-08  5.304273e-08 -6.657519e-10 -1.627153e-09\n",
       "...   ...           ...           ...           ...          \n",
       "59602 -7.783799e-09  4.724237e-07  1.817155e-10  1.093152e-08\n",
       "59693  2.036932e-06  2.857412e-06 -4.019582e-09  3.559793e-08\n",
       "59743 -3.578180e-07 -1.781553e-07  9.349553e-09 -6.116264e-09\n",
       "59770  6.425296e-08  1.691860e-07  6.051789e-09  1.033248e-08"
      ]
     },
     "metadata": {},
     "output_type": "display_data"
    }
   ],
   "source": [
    "data.6.stripped = data.6[,-zero_var]\n",
    "pc.7 = prcomp(data.6.stripped[,-1], scale=TRUE, retx=TRUE)\n",
    "data.7.all = as.data.frame(pc.7$x)\n",
    "data.7.all = cbind(data.6[,\"class\",drop=FALSE], data.7.all)\n",
    "data.7.all"
   ]
  },
  {
   "cell_type": "code",
   "execution_count": 40,
   "metadata": {},
   "outputs": [],
   "source": [
    "axis = names(data.7.all[,-1])\n",
    "standard_deviation = apply_each(data.7.all[,-1], sd)\n",
    "variance = standard_deviation^2\n",
    "cum_variance = cumsum(variance)\n",
    "proportion = variance / sum(variance)\n",
    "cum_proportion = cumsum(proportion)\n",
    "\n",
    "scree.7.all = data.frame(axis, standard_deviation, variance, cum_variance, proportion, cum_proportion)"
   ]
  },
  {
   "cell_type": "code",
   "execution_count": 41,
   "metadata": {},
   "outputs": [
    {
     "data": {},
     "metadata": {},
     "output_type": "display_data"
    },
    {
     "data": {
      "image/png": "[encoded data removed]",
      "text/plain": [
       "plot without title"
      ]
     },
     "metadata": {},
     "output_type": "display_data"
    }
   ],
   "source": [
    "ggplot(scree.7.all) + geom_col(aes(x=factor(axis, levels=axis), y=proportion)) + ylim(0,1) +\n",
    "theme(axis.text.x=element_text(size=4, hjust=1, angle=90))"
   ]
  },
  {
   "cell_type": "code",
   "execution_count": 42,
   "metadata": {
    "scrolled": true
   },
   "outputs": [
    {
     "data": {
      "text/html": [
       "<table>\n",
       "<thead><tr><th scope=col>axis</th><th scope=col>standard_deviation</th><th scope=col>variance</th><th scope=col>cum_variance</th><th scope=col>proportion</th><th scope=col>cum_proportion</th></tr></thead>\n",
       "<tbody>\n",
       "\t<tr><td>PC1       </td><td>6.732882  </td><td>45.331694 </td><td>45.33169  </td><td>0.26823487</td><td>0.2682349 </td></tr>\n",
       "\t<tr><td>PC2       </td><td>3.164547  </td><td>10.014356 </td><td>55.34605  </td><td>0.05925654</td><td>0.3274914 </td></tr>\n",
       "\t<tr><td>PC3       </td><td>2.706223  </td><td> 7.323645 </td><td>62.66970  </td><td>0.04333518</td><td>0.3708266 </td></tr>\n",
       "\t<tr><td>PC4       </td><td>2.457026  </td><td> 6.036976 </td><td>68.70667  </td><td>0.03572175</td><td>0.4065483 </td></tr>\n",
       "\t<tr><td>...</td><td>...</td><td>...</td><td>...</td><td>...</td><td>...</td></tr>\n",
       "\t<tr><td>PC166       </td><td>1.341634e-06</td><td>1.799982e-12</td><td>169         </td><td>1.065078e-14</td><td>1           </td></tr>\n",
       "\t<tr><td>PC167       </td><td>5.999616e-07</td><td>3.599540e-13</td><td>169         </td><td>2.129905e-15</td><td>1           </td></tr>\n",
       "\t<tr><td>PC168       </td><td>2.056991e-08</td><td>4.231213e-16</td><td>169         </td><td>2.503676e-18</td><td>1           </td></tr>\n",
       "\t<tr><td>PC169       </td><td>1.664170e-08</td><td>2.769461e-16</td><td>169         </td><td>1.638735e-18</td><td>1           </td></tr>\n",
       "</tbody>\n",
       "</table>\n"
      ],
      "text/latex": [
       "\\begin{tabular}{r|llllll}\n",
       " axis & standard\\_deviation & variance & cum\\_variance & proportion & cum\\_proportion\\\\\n",
       "\\hline\n",
       "\t PC1        & 6.732882   & 45.331694  & 45.33169   & 0.26823487 & 0.2682349 \\\\\n",
       "\t PC2        & 3.164547   & 10.014356  & 55.34605   & 0.05925654 & 0.3274914 \\\\\n",
       "\t PC3        & 2.706223   &  7.323645  & 62.66970   & 0.04333518 & 0.3708266 \\\\\n",
       "\t PC4        & 2.457026   &  6.036976  & 68.70667   & 0.03572175 & 0.4065483 \\\\\n",
       "\t ... & ... & ... & ... & ... & ...\\\\\n",
       "\t PC166        & 1.341634e-06 & 1.799982e-12 & 169          & 1.065078e-14 & 1           \\\\\n",
       "\t PC167        & 5.999616e-07 & 3.599540e-13 & 169          & 2.129905e-15 & 1           \\\\\n",
       "\t PC168        & 2.056991e-08 & 4.231213e-16 & 169          & 2.503676e-18 & 1           \\\\\n",
       "\t PC169        & 1.664170e-08 & 2.769461e-16 & 169          & 1.638735e-18 & 1           \\\\\n",
       "\\end{tabular}\n"
      ],
      "text/markdown": [
       "\n",
       "axis | standard_deviation | variance | cum_variance | proportion | cum_proportion | \n",
       "|---|---|---|---|---|---|---|---|---|\n",
       "| PC1        | 6.732882   | 45.331694  | 45.33169   | 0.26823487 | 0.2682349  | \n",
       "| PC2        | 3.164547   | 10.014356  | 55.34605   | 0.05925654 | 0.3274914  | \n",
       "| PC3        | 2.706223   |  7.323645  | 62.66970   | 0.04333518 | 0.3708266  | \n",
       "| PC4        | 2.457026   |  6.036976  | 68.70667   | 0.03572175 | 0.4065483  | \n",
       "| ... | ... | ... | ... | ... | ... | \n",
       "| PC166        | 1.341634e-06 | 1.799982e-12 | 169          | 1.065078e-14 | 1            | \n",
       "| PC167        | 5.999616e-07 | 3.599540e-13 | 169          | 2.129905e-15 | 1            | \n",
       "| PC168        | 2.056991e-08 | 4.231213e-16 | 169          | 2.503676e-18 | 1            | \n",
       "| PC169        | 1.664170e-08 | 2.769461e-16 | 169          | 1.638735e-18 | 1            | \n",
       "\n",
       "\n"
      ],
      "text/plain": [
       "    axis  standard_deviation variance     cum_variance proportion  \n",
       "1   PC1   6.732882           45.331694    45.33169     0.26823487  \n",
       "2   PC2   3.164547           10.014356    55.34605     0.05925654  \n",
       "3   PC3   2.706223            7.323645    62.66970     0.04333518  \n",
       "4   PC4   2.457026            6.036976    68.70667     0.03572175  \n",
       "... ...   ...                ...          ...          ...         \n",
       "166 PC166 1.341634e-06       1.799982e-12 169          1.065078e-14\n",
       "167 PC167 5.999616e-07       3.599540e-13 169          2.129905e-15\n",
       "168 PC168 2.056991e-08       4.231213e-16 169          2.503676e-18\n",
       "169 PC169 1.664170e-08       2.769461e-16 169          1.638735e-18\n",
       "    cum_proportion\n",
       "1   0.2682349     \n",
       "2   0.3274914     \n",
       "3   0.3708266     \n",
       "4   0.4065483     \n",
       "... ...           \n",
       "166 1             \n",
       "167 1             \n",
       "168 1             \n",
       "169 1             "
      ]
     },
     "metadata": {},
     "output_type": "display_data"
    }
   ],
   "source": [
    "scree.7.all"
   ]
  },
  {
   "cell_type": "code",
   "execution_count": 43,
   "metadata": {
    "scrolled": true
   },
   "outputs": [],
   "source": [
    "scree.7 = scree.7.all[c(which(scree.7.all$cum_proportion <= 0.75), (which(scree.7.all$cum_proportion > 0.75))[1]), ]"
   ]
  },
  {
   "cell_type": "code",
   "execution_count": 44,
   "metadata": {},
   "outputs": [
    {
     "data": {},
     "metadata": {},
     "output_type": "display_data"
    },
    {
     "data": {
      "image/png": "[encoded data removed]",
      "text/plain": [
       "plot without title"
      ]
     },
     "metadata": {},
     "output_type": "display_data"
    }
   ],
   "source": [
    "ggplot(scree.7) + geom_col(aes(x=factor(axis, levels=axis), y=proportion)) + ylim(0,1) +\n",
    "theme(axis.text.x=element_text(hjust=1, vjust=0.5, angle=90))"
   ]
  },
  {
   "cell_type": "code",
   "execution_count": 45,
   "metadata": {
    "scrolled": true
   },
   "outputs": [
    {
     "data": {
      "text/html": [
       "<table>\n",
       "<thead><tr><th scope=col>axis</th><th scope=col>standard_deviation</th><th scope=col>variance</th><th scope=col>cum_variance</th><th scope=col>proportion</th><th scope=col>cum_proportion</th></tr></thead>\n",
       "<tbody>\n",
       "\t<tr><td>PC1       </td><td>6.732882  </td><td>45.331694 </td><td>45.33169  </td><td>0.26823487</td><td>0.2682349 </td></tr>\n",
       "\t<tr><td>PC2       </td><td>3.164547  </td><td>10.014356 </td><td>55.34605  </td><td>0.05925654</td><td>0.3274914 </td></tr>\n",
       "\t<tr><td>PC3       </td><td>2.706223  </td><td> 7.323645 </td><td>62.66970  </td><td>0.04333518</td><td>0.3708266 </td></tr>\n",
       "\t<tr><td>PC4       </td><td>2.457026  </td><td> 6.036976 </td><td>68.70667  </td><td>0.03572175</td><td>0.4065483 </td></tr>\n",
       "\t<tr><td>...</td><td>...</td><td>...</td><td>...</td><td>...</td><td>...</td></tr>\n",
       "\t<tr><td>PC25       </td><td>1.188923   </td><td>1.413539   </td><td>122.9027   </td><td>0.008364137</td><td>0.7272346  </td></tr>\n",
       "\t<tr><td>PC26       </td><td>1.176650   </td><td>1.384504   </td><td>124.2872   </td><td>0.008192333</td><td>0.7354270  </td></tr>\n",
       "\t<tr><td>PC27       </td><td>1.149158   </td><td>1.320565   </td><td>125.6077   </td><td>0.007813992</td><td>0.7432410  </td></tr>\n",
       "\t<tr><td>PC28       </td><td>1.144450   </td><td>1.309767   </td><td>126.9175   </td><td>0.007750098</td><td>0.7509911  </td></tr>\n",
       "</tbody>\n",
       "</table>\n"
      ],
      "text/latex": [
       "\\begin{tabular}{r|llllll}\n",
       " axis & standard\\_deviation & variance & cum\\_variance & proportion & cum\\_proportion\\\\\n",
       "\\hline\n",
       "\t PC1        & 6.732882   & 45.331694  & 45.33169   & 0.26823487 & 0.2682349 \\\\\n",
       "\t PC2        & 3.164547   & 10.014356  & 55.34605   & 0.05925654 & 0.3274914 \\\\\n",
       "\t PC3        & 2.706223   &  7.323645  & 62.66970   & 0.04333518 & 0.3708266 \\\\\n",
       "\t PC4        & 2.457026   &  6.036976  & 68.70667   & 0.03572175 & 0.4065483 \\\\\n",
       "\t ... & ... & ... & ... & ... & ...\\\\\n",
       "\t PC25        & 1.188923    & 1.413539    & 122.9027    & 0.008364137 & 0.7272346  \\\\\n",
       "\t PC26        & 1.176650    & 1.384504    & 124.2872    & 0.008192333 & 0.7354270  \\\\\n",
       "\t PC27        & 1.149158    & 1.320565    & 125.6077    & 0.007813992 & 0.7432410  \\\\\n",
       "\t PC28        & 1.144450    & 1.309767    & 126.9175    & 0.007750098 & 0.7509911  \\\\\n",
       "\\end{tabular}\n"
      ],
      "text/markdown": [
       "\n",
       "axis | standard_deviation | variance | cum_variance | proportion | cum_proportion | \n",
       "|---|---|---|---|---|---|---|---|---|\n",
       "| PC1        | 6.732882   | 45.331694  | 45.33169   | 0.26823487 | 0.2682349  | \n",
       "| PC2        | 3.164547   | 10.014356  | 55.34605   | 0.05925654 | 0.3274914  | \n",
       "| PC3        | 2.706223   |  7.323645  | 62.66970   | 0.04333518 | 0.3708266  | \n",
       "| PC4        | 2.457026   |  6.036976  | 68.70667   | 0.03572175 | 0.4065483  | \n",
       "| ... | ... | ... | ... | ... | ... | \n",
       "| PC25        | 1.188923    | 1.413539    | 122.9027    | 0.008364137 | 0.7272346   | \n",
       "| PC26        | 1.176650    | 1.384504    | 124.2872    | 0.008192333 | 0.7354270   | \n",
       "| PC27        | 1.149158    | 1.320565    | 125.6077    | 0.007813992 | 0.7432410   | \n",
       "| PC28        | 1.144450    | 1.309767    | 126.9175    | 0.007750098 | 0.7509911   | \n",
       "\n",
       "\n"
      ],
      "text/plain": [
       "    axis standard_deviation variance  cum_variance proportion  cum_proportion\n",
       "1   PC1  6.732882           45.331694 45.33169     0.26823487  0.2682349     \n",
       "2   PC2  3.164547           10.014356 55.34605     0.05925654  0.3274914     \n",
       "3   PC3  2.706223            7.323645 62.66970     0.04333518  0.3708266     \n",
       "4   PC4  2.457026            6.036976 68.70667     0.03572175  0.4065483     \n",
       "... ...  ...                ...       ...          ...         ...           \n",
       "25  PC25 1.188923           1.413539  122.9027     0.008364137 0.7272346     \n",
       "26  PC26 1.176650           1.384504  124.2872     0.008192333 0.7354270     \n",
       "27  PC27 1.149158           1.320565  125.6077     0.007813992 0.7432410     \n",
       "28  PC28 1.144450           1.309767  126.9175     0.007750098 0.7509911     "
      ]
     },
     "metadata": {},
     "output_type": "display_data"
    }
   ],
   "source": [
    "scree.7"
   ]
  },
  {
   "cell_type": "code",
   "execution_count": 46,
   "metadata": {
    "scrolled": true
   },
   "outputs": [
    {
     "data": {
      "text/html": [
       "<ol class=list-inline>\n",
       "\t<li>2000</li>\n",
       "\t<li>29</li>\n",
       "</ol>\n"
      ],
      "text/latex": [
       "\\begin{enumerate*}\n",
       "\\item 2000\n",
       "\\item 29\n",
       "\\end{enumerate*}\n"
      ],
      "text/markdown": [
       "1. 2000\n",
       "2. 29\n",
       "\n",
       "\n"
      ],
      "text/plain": [
       "[1] 2000   29"
      ]
     },
     "metadata": {},
     "output_type": "display_data"
    },
    {
     "data": {
      "text/html": [
       "<table>\n",
       "<thead><tr><th></th><th scope=col>class</th><th scope=col>PC1</th><th scope=col>PC2</th><th scope=col>PC3</th><th scope=col>PC4</th><th scope=col>PC5</th><th scope=col>PC6</th><th scope=col>PC7</th><th scope=col>...</th><th scope=col>PC21</th><th scope=col>PC22</th><th scope=col>PC23</th><th scope=col>PC24</th><th scope=col>PC25</th><th scope=col>PC26</th><th scope=col>PC27</th><th scope=col>PC28</th></tr></thead>\n",
       "<tbody>\n",
       "\t<tr><th scope=row>43283</th><td>ok          </td><td>-4.2713312  </td><td>0.1927060   </td><td>-0.9368520  </td><td>-0.3312515  </td><td> 0.2426246  </td><td>-0.03882044 </td><td>-0.5220403  </td><td>...         </td><td>-0.48474740 </td><td>-0.5906917  </td><td>-0.73548893 </td><td>-0.15141653 </td><td>-0.05406856 </td><td> 0.19041696 </td><td> 0.21351282 </td><td>-0.308305771</td></tr>\n",
       "\t<tr><th scope=row>52561</th><td>ok          </td><td>-4.3992736  </td><td>0.4552475   </td><td>-1.2503658  </td><td>-0.8396990  </td><td> 0.1354893  </td><td>-0.42753738 </td><td>-0.4626761  </td><td>...         </td><td>-0.19614008 </td><td>-0.1910693  </td><td>-0.36592758 </td><td>-0.26250733 </td><td> 0.03939997 </td><td> 0.09238539 </td><td> 0.03843481 </td><td>-0.002477955</td></tr>\n",
       "\t<tr><th scope=row>45683</th><td>ok          </td><td>-0.8199157  </td><td>2.0220111   </td><td>-2.9343122  </td><td>-1.0216595  </td><td> 0.0346656  </td><td> 0.67993314 </td><td>-0.9792355  </td><td>...         </td><td>-0.01428728 </td><td> 0.2973248  </td><td> 0.30877071 </td><td>-0.12185510 </td><td>-0.24578138 </td><td>-0.49262842 </td><td>-0.24953334 </td><td>-0.221980598</td></tr>\n",
       "\t<tr><th scope=row>53185</th><td>ok          </td><td>-5.6765364  </td><td>0.1873291   </td><td> 0.2582882  </td><td>-0.6236337  </td><td>-0.1730093  </td><td>-0.03106843 </td><td> 0.1981518  </td><td>...         </td><td>-0.07692993 </td><td> 0.1781926  </td><td> 0.02721407 </td><td> 0.02600434 </td><td> 0.18905588 </td><td>-0.04839540 </td><td> 0.12177732 </td><td>-0.016889685</td></tr>\n",
       "\t<tr><th scope=row>...</th><td>...</td><td>...</td><td>...</td><td>...</td><td>...</td><td>...</td><td>...</td><td>...</td><td>   </td><td>...</td><td>...</td><td>...</td><td>...</td><td>...</td><td>...</td><td>...</td><td>...</td></tr>\n",
       "\t<tr><th scope=row>59602</th><td>failure    </td><td>7.556090   </td><td>-3.391637  </td><td> 1.1837820 </td><td>-3.414261  </td><td>-1.3528504 </td><td> 1.0563952 </td><td>-0.43624443</td><td>...        </td><td>-0.2776733 </td><td> 1.6526195 </td><td>-1.062905  </td><td> 0.8551195 </td><td> 2.6316591 </td><td> 0.6250211 </td><td> 2.5617418 </td><td> 0.1646840 </td></tr>\n",
       "\t<tr><th scope=row>59693</th><td>failure    </td><td>7.724406   </td><td> 1.547565  </td><td> 4.3021712 </td><td> 7.098714  </td><td> 0.3561384 </td><td>-1.9257058 </td><td> 5.72736877</td><td>...        </td><td>-1.0106783 </td><td> 0.7616503 </td><td> 2.302046  </td><td> 4.2458877 </td><td>-0.3246538 </td><td>-2.2849305 </td><td> 1.9090241 </td><td>-3.1257640 </td></tr>\n",
       "\t<tr><th scope=row>59743</th><td>failure    </td><td>5.868635   </td><td>-2.382574  </td><td> 0.5856432 </td><td>-2.432739  </td><td>-1.8833889 </td><td>-0.6929757 </td><td> 0.34336169</td><td>...        </td><td>-2.6007592 </td><td> 1.0047076 </td><td> 4.977820  </td><td>-0.4089564 </td><td> 5.7804385 </td><td>-2.0931125 </td><td>-5.3151001 </td><td> 4.1279212 </td></tr>\n",
       "\t<tr><th scope=row>59770</th><td>failure    </td><td>2.940370   </td><td>-4.073613  </td><td>-0.9754124 </td><td>-1.438759  </td><td>-0.7177986 </td><td> 0.6010108 </td><td> 0.01021435</td><td>...        </td><td>-0.7713940 </td><td>-0.5008563 </td><td>-1.032219  </td><td> 0.5988898 </td><td>-0.9572108 </td><td>-0.7630023 </td><td> 0.0959484 </td><td> 0.6461121 </td></tr>\n",
       "</tbody>\n",
       "</table>\n"
      ],
      "text/latex": [
       "\\begin{tabular}{r|lllllllllllllllllllllllllllll}\n",
       "  & class & PC1 & PC2 & PC3 & PC4 & PC5 & PC6 & PC7 & ... & PC21 & PC22 & PC23 & PC24 & PC25 & PC26 & PC27 & PC28\\\\\n",
       "\\hline\n",
       "\t43283 & ok           & -4.2713312   & 0.1927060    & -0.9368520   & -0.3312515   &  0.2426246   & -0.03882044  & -0.5220403   & ...          & -0.48474740  & -0.5906917   & -0.73548893  & -0.15141653  & -0.05406856  &  0.19041696  &  0.21351282  & -0.308305771\\\\\n",
       "\t52561 & ok           & -4.3992736   & 0.4552475    & -1.2503658   & -0.8396990   &  0.1354893   & -0.42753738  & -0.4626761   & ...          & -0.19614008  & -0.1910693   & -0.36592758  & -0.26250733  &  0.03939997  &  0.09238539  &  0.03843481  & -0.002477955\\\\\n",
       "\t45683 & ok           & -0.8199157   & 2.0220111    & -2.9343122   & -1.0216595   &  0.0346656   &  0.67993314  & -0.9792355   & ...          & -0.01428728  &  0.2973248   &  0.30877071  & -0.12185510  & -0.24578138  & -0.49262842  & -0.24953334  & -0.221980598\\\\\n",
       "\t53185 & ok           & -5.6765364   & 0.1873291    &  0.2582882   & -0.6236337   & -0.1730093   & -0.03106843  &  0.1981518   & ...          & -0.07692993  &  0.1781926   &  0.02721407  &  0.02600434  &  0.18905588  & -0.04839540  &  0.12177732  & -0.016889685\\\\\n",
       "\t... & ... & ... & ... & ... & ... & ... & ... & ... &     & ... & ... & ... & ... & ... & ... & ... & ...\\\\\n",
       "\t59602 & failure     & 7.556090    & -3.391637   &  1.1837820  & -3.414261   & -1.3528504  &  1.0563952  & -0.43624443 & ...         & -0.2776733  &  1.6526195  & -1.062905   &  0.8551195  &  2.6316591  &  0.6250211  &  2.5617418  &  0.1646840 \\\\\n",
       "\t59693 & failure     & 7.724406    &  1.547565   &  4.3021712  &  7.098714   &  0.3561384  & -1.9257058  &  5.72736877 & ...         & -1.0106783  &  0.7616503  &  2.302046   &  4.2458877  & -0.3246538  & -2.2849305  &  1.9090241  & -3.1257640 \\\\\n",
       "\t59743 & failure     & 5.868635    & -2.382574   &  0.5856432  & -2.432739   & -1.8833889  & -0.6929757  &  0.34336169 & ...         & -2.6007592  &  1.0047076  &  4.977820   & -0.4089564  &  5.7804385  & -2.0931125  & -5.3151001  &  4.1279212 \\\\\n",
       "\t59770 & failure     & 2.940370    & -4.073613   & -0.9754124  & -1.438759   & -0.7177986  &  0.6010108  &  0.01021435 & ...         & -0.7713940  & -0.5008563  & -1.032219   &  0.5988898  & -0.9572108  & -0.7630023  &  0.0959484  &  0.6461121 \\\\\n",
       "\\end{tabular}\n"
      ],
      "text/markdown": [
       "\n",
       "| <!--/--> | class | PC1 | PC2 | PC3 | PC4 | PC5 | PC6 | PC7 | ... | PC21 | PC22 | PC23 | PC24 | PC25 | PC26 | PC27 | PC28 | \n",
       "|---|---|---|---|---|---|---|---|---|\n",
       "| 43283 | ok           | -4.2713312   | 0.1927060    | -0.9368520   | -0.3312515   |  0.2426246   | -0.03882044  | -0.5220403   | ...          | -0.48474740  | -0.5906917   | -0.73548893  | -0.15141653  | -0.05406856  |  0.19041696  |  0.21351282  | -0.308305771 | \n",
       "| 52561 | ok           | -4.3992736   | 0.4552475    | -1.2503658   | -0.8396990   |  0.1354893   | -0.42753738  | -0.4626761   | ...          | -0.19614008  | -0.1910693   | -0.36592758  | -0.26250733  |  0.03939997  |  0.09238539  |  0.03843481  | -0.002477955 | \n",
       "| 45683 | ok           | -0.8199157   | 2.0220111    | -2.9343122   | -1.0216595   |  0.0346656   |  0.67993314  | -0.9792355   | ...          | -0.01428728  |  0.2973248   |  0.30877071  | -0.12185510  | -0.24578138  | -0.49262842  | -0.24953334  | -0.221980598 | \n",
       "| 53185 | ok           | -5.6765364   | 0.1873291    |  0.2582882   | -0.6236337   | -0.1730093   | -0.03106843  |  0.1981518   | ...          | -0.07692993  |  0.1781926   |  0.02721407  |  0.02600434  |  0.18905588  | -0.04839540  |  0.12177732  | -0.016889685 | \n",
       "| ... | ... | ... | ... | ... | ... | ... | ... | ... |     | ... | ... | ... | ... | ... | ... | ... | ... | \n",
       "| 59602 | failure     | 7.556090    | -3.391637   |  1.1837820  | -3.414261   | -1.3528504  |  1.0563952  | -0.43624443 | ...         | -0.2776733  |  1.6526195  | -1.062905   |  0.8551195  |  2.6316591  |  0.6250211  |  2.5617418  |  0.1646840  | \n",
       "| 59693 | failure     | 7.724406    |  1.547565   |  4.3021712  |  7.098714   |  0.3561384  | -1.9257058  |  5.72736877 | ...         | -1.0106783  |  0.7616503  |  2.302046   |  4.2458877  | -0.3246538  | -2.2849305  |  1.9090241  | -3.1257640  | \n",
       "| 59743 | failure     | 5.868635    | -2.382574   |  0.5856432  | -2.432739   | -1.8833889  | -0.6929757  |  0.34336169 | ...         | -2.6007592  |  1.0047076  |  4.977820   | -0.4089564  |  5.7804385  | -2.0931125  | -5.3151001  |  4.1279212  | \n",
       "| 59770 | failure     | 2.940370    | -4.073613   | -0.9754124  | -1.438759   | -0.7177986  |  0.6010108  |  0.01021435 | ...         | -0.7713940  | -0.5008563  | -1.032219   |  0.5988898  | -0.9572108  | -0.7630023  |  0.0959484  |  0.6461121  | \n",
       "\n",
       "\n"
      ],
      "text/plain": [
       "      class   PC1        PC2       PC3        PC4        PC5        PC6        \n",
       "43283 ok      -4.2713312 0.1927060 -0.9368520 -0.3312515  0.2426246 -0.03882044\n",
       "52561 ok      -4.3992736 0.4552475 -1.2503658 -0.8396990  0.1354893 -0.42753738\n",
       "45683 ok      -0.8199157 2.0220111 -2.9343122 -1.0216595  0.0346656  0.67993314\n",
       "53185 ok      -5.6765364 0.1873291  0.2582882 -0.6236337 -0.1730093 -0.03106843\n",
       "...   ...     ...        ...       ...        ...        ...        ...        \n",
       "59602 failure 7.556090   -3.391637  1.1837820 -3.414261  -1.3528504  1.0563952 \n",
       "59693 failure 7.724406    1.547565  4.3021712  7.098714   0.3561384 -1.9257058 \n",
       "59743 failure 5.868635   -2.382574  0.5856432 -2.432739  -1.8833889 -0.6929757 \n",
       "59770 failure 2.940370   -4.073613 -0.9754124 -1.438759  -0.7177986  0.6010108 \n",
       "      PC7         ... PC21        PC22       PC23        PC24       \n",
       "43283 -0.5220403  ... -0.48474740 -0.5906917 -0.73548893 -0.15141653\n",
       "52561 -0.4626761  ... -0.19614008 -0.1910693 -0.36592758 -0.26250733\n",
       "45683 -0.9792355  ... -0.01428728  0.2973248  0.30877071 -0.12185510\n",
       "53185  0.1981518  ... -0.07692993  0.1781926  0.02721407  0.02600434\n",
       "...   ...             ...         ...        ...         ...        \n",
       "59602 -0.43624443 ... -0.2776733   1.6526195 -1.062905    0.8551195 \n",
       "59693  5.72736877 ... -1.0106783   0.7616503  2.302046    4.2458877 \n",
       "59743  0.34336169 ... -2.6007592   1.0047076  4.977820   -0.4089564 \n",
       "59770  0.01021435 ... -0.7713940  -0.5008563 -1.032219    0.5988898 \n",
       "      PC25        PC26        PC27        PC28        \n",
       "43283 -0.05406856  0.19041696  0.21351282 -0.308305771\n",
       "52561  0.03939997  0.09238539  0.03843481 -0.002477955\n",
       "45683 -0.24578138 -0.49262842 -0.24953334 -0.221980598\n",
       "53185  0.18905588 -0.04839540  0.12177732 -0.016889685\n",
       "...   ...         ...         ...         ...         \n",
       "59602  2.6316591   0.6250211   2.5617418   0.1646840  \n",
       "59693 -0.3246538  -2.2849305   1.9090241  -3.1257640  \n",
       "59743  5.7804385  -2.0931125  -5.3151001   4.1279212  \n",
       "59770 -0.9572108  -0.7630023   0.0959484   0.6461121  "
      ]
     },
     "metadata": {},
     "output_type": "display_data"
    }
   ],
   "source": [
    "data.7 = data.7.all[, 1:(nrow(scree.7)+1)]\n",
    "dim(data.7)\n",
    "data.7"
   ]
  },
  {
   "cell_type": "markdown",
   "metadata": {},
   "source": [
    "<br>\n",
    "#### Build models & check in-sample performance."
   ]
  },
  {
   "cell_type": "code",
   "execution_count": 47,
   "metadata": {},
   "outputs": [],
   "source": [
    "mymodel.7 = naiveBayes(class ~ ., data.7)"
   ]
  },
  {
   "cell_type": "code",
   "execution_count": 48,
   "metadata": {},
   "outputs": [
    {
     "data": {
      "text/plain": [
       "          Reference\n",
       "Prediction failure  ok\n",
       "   failure     826  29\n",
       "   ok          174 971"
      ]
     },
     "metadata": {},
     "output_type": "display_data"
    },
    {
     "data": {
      "text/plain": [
       "          Reference\n",
       "Prediction failure     ok\n",
       "   failure  0.4130 0.0145\n",
       "   ok       0.0870 0.4855"
      ]
     },
     "metadata": {},
     "output_type": "display_data"
    }
   ],
   "source": [
    "cutoff = 0.50\n",
    "prob = predict(mymodel.7, data.7, type=\"raw\")\n",
    "prediction = as.class.cutoff(prob, cutoff)\n",
    "cm = confusionMatrix(prediction, data.6$class)$table\n",
    "\n",
    "cm\n",
    "cm / nrow(data.7)"
   ]
  },
  {
   "cell_type": "code",
   "execution_count": 49,
   "metadata": {
    "scrolled": true
   },
   "outputs": [
    {
     "data": {
      "text/plain": [
       "          Reference\n",
       "Prediction failure  ok\n",
       "   failure     830  32\n",
       "   ok          170 968"
      ]
     },
     "metadata": {},
     "output_type": "display_data"
    },
    {
     "data": {
      "text/plain": [
       "          Reference\n",
       "Prediction failure    ok\n",
       "   failure   0.415 0.016\n",
       "   ok        0.085 0.484"
      ]
     },
     "metadata": {},
     "output_type": "display_data"
    }
   ],
   "source": [
    "cutoff = 0.25\n",
    "prob = predict(mymodel.7, data.7, type=\"raw\")\n",
    "prediction = as.class.cutoff(prob, cutoff)\n",
    "cm = confusionMatrix(prediction, data.7$class)$table\n",
    "\n",
    "cm\n",
    "cm / nrow(data.7)"
   ]
  },
  {
   "cell_type": "code",
   "execution_count": 50,
   "metadata": {},
   "outputs": [],
   "source": [
    "mymodel.8 = naiveBayes(class ~ PC1, data.7)"
   ]
  },
  {
   "cell_type": "code",
   "execution_count": 51,
   "metadata": {},
   "outputs": [
    {
     "data": {
      "text/plain": [
       "          Reference\n",
       "Prediction failure  ok\n",
       "   failure     881  30\n",
       "   ok          119 970"
      ]
     },
     "metadata": {},
     "output_type": "display_data"
    },
    {
     "data": {
      "text/plain": [
       "          Reference\n",
       "Prediction failure     ok\n",
       "   failure  0.4405 0.0150\n",
       "   ok       0.0595 0.4850"
      ]
     },
     "metadata": {},
     "output_type": "display_data"
    }
   ],
   "source": [
    "cutoff = 0.50\n",
    "prob = predict(mymodel.8, data.7, type=\"raw\")\n",
    "prediction = as.class.cutoff(prob, cutoff)\n",
    "cm = confusionMatrix(prediction, data.7$class)$table\n",
    "\n",
    "cm\n",
    "cm / nrow(data.7)"
   ]
  },
  {
   "cell_type": "code",
   "execution_count": 52,
   "metadata": {},
   "outputs": [
    {
     "data": {
      "text/plain": [
       "          Reference\n",
       "Prediction failure  ok\n",
       "   failure     925  49\n",
       "   ok           75 951"
      ]
     },
     "metadata": {},
     "output_type": "display_data"
    },
    {
     "data": {
      "text/plain": [
       "          Reference\n",
       "Prediction failure     ok\n",
       "   failure  0.4625 0.0245\n",
       "   ok       0.0375 0.4755"
      ]
     },
     "metadata": {},
     "output_type": "display_data"
    }
   ],
   "source": [
    "cutoff = 0.25\n",
    "prob = predict(mymodel.8, data.7, type=\"raw\")\n",
    "prediction = as.class.cutoff(prob, cutoff)\n",
    "cm = confusionMatrix(prediction, data.7$class)$table\n",
    "\n",
    "cm\n",
    "cm / nrow(data.7)"
   ]
  },
  {
   "cell_type": "markdown",
   "metadata": {},
   "source": [
    "<br>\n",
    "___\n",
    "### Make a Business Decision\n",
    "\n",
    "#### When to call in trucks for APS maintenance?\n",
    "\n",
    "Decision will be based on trucks' sensor measurements, a model, and a cutoff."
   ]
  },
  {
   "cell_type": "markdown",
   "metadata": {},
   "source": [
    "<br>\n",
    "___\n",
    "### Retrieve & Prepare New Data\n"
   ]
  },
  {
   "cell_type": "markdown",
   "metadata": {},
   "source": [
    "#### Retrieve the raw new data.\n",
    "\n",
    "This is `data.new`."
   ]
  },
  {
   "cell_type": "code",
   "execution_count": 53,
   "metadata": {
    "scrolled": true
   },
   "outputs": [
    {
     "data": {
      "text/html": [
       "<ol class=list-inline>\n",
       "\t<li>16000</li>\n",
       "\t<li>171</li>\n",
       "</ol>\n"
      ],
      "text/latex": [
       "\\begin{enumerate*}\n",
       "\\item 16000\n",
       "\\item 171\n",
       "\\end{enumerate*}\n"
      ],
      "text/markdown": [
       "1. 16000\n",
       "2. 171\n",
       "\n",
       "\n"
      ],
      "text/plain": [
       "[1] 16000   171"
      ]
     },
     "metadata": {},
     "output_type": "display_data"
    },
    {
     "data": {
      "text/html": [
       "<table>\n",
       "<thead><tr><th scope=col>class</th><th scope=col>aa_000</th><th scope=col>ab_000</th><th scope=col>ac_000</th><th scope=col>ad_000</th><th scope=col>ae_000</th><th scope=col>af_000</th><th scope=col>ag_000</th><th scope=col>...</th><th scope=col>ee_004</th><th scope=col>ee_005</th><th scope=col>ee_006</th><th scope=col>ee_007</th><th scope=col>ee_008</th><th scope=col>ee_009</th><th scope=col>ef_000</th><th scope=col>eg_000</th></tr></thead>\n",
       "<tbody>\n",
       "\t<tr><td>neg    </td><td>   60  </td><td> 0     </td><td>  20   </td><td> 12    </td><td>0      </td><td>0      </td><td>0      </td><td>...    </td><td>   412 </td><td>   654 </td><td>     78</td><td>    88 </td><td>     0 </td><td>   0   </td><td>0      </td><td>0      </td></tr>\n",
       "\t<tr><td>neg    </td><td>   82  </td><td> 0     </td><td>  68   </td><td> 40    </td><td>0      </td><td>0      </td><td>0      </td><td>...    </td><td>  1620 </td><td>   116 </td><td>     86</td><td>   462 </td><td>     0 </td><td>   0   </td><td>0      </td><td>0      </td></tr>\n",
       "\t<tr><td>neg    </td><td>66002  </td><td> 2     </td><td> 212   </td><td>112    </td><td>0      </td><td>0      </td><td>0      </td><td>...    </td><td>440134 </td><td>269556 </td><td>1315022</td><td>153680 </td><td>   516 </td><td>   0   </td><td>0      </td><td>0      </td></tr>\n",
       "\t<tr><td>neg    </td><td>59816  </td><td>NA     </td><td>1010   </td><td>936    </td><td>0      </td><td>0      </td><td>0      </td><td>...    </td><td>483302 </td><td>485332 </td><td> 431376</td><td>210074 </td><td>281662 </td><td>3232   </td><td>0      </td><td>0      </td></tr>\n",
       "\t<tr><td>...</td><td>...</td><td>...</td><td>...</td><td>...</td><td>...</td><td>...</td><td>...</td><td>   </td><td>...</td><td>...</td><td>...</td><td>...</td><td>...</td><td>...</td><td>...</td><td>...</td></tr>\n",
       "\t<tr><td>neg   </td><td>   18 </td><td> 0    </td><td>  52  </td><td>  46  </td><td>8     </td><td>26    </td><td>0     </td><td>...   </td><td>    46</td><td>    14</td><td>     2</td><td>     0</td><td>     0</td><td>    0 </td><td>0     </td><td>0     </td></tr>\n",
       "\t<tr><td>neg   </td><td>79636 </td><td>NA    </td><td>1670  </td><td>1518  </td><td>0     </td><td> 0    </td><td>0     </td><td>...   </td><td>778826</td><td>581558</td><td>375498</td><td>222866</td><td>358934</td><td>19548 </td><td>0     </td><td>0     </td></tr>\n",
       "\t<tr><td>neg   </td><td>  110 </td><td>NA    </td><td>  36  </td><td>  32  </td><td>0     </td><td> 0    </td><td>0     </td><td>...   </td><td>   180</td><td>   544</td><td>  1004</td><td>  1338</td><td>    74</td><td>    0 </td><td>0     </td><td>0     </td></tr>\n",
       "\t<tr><td>neg   </td><td>    8 </td><td> 0    </td><td>   6  </td><td>   4  </td><td>2     </td><td> 2    </td><td>0     </td><td>...   </td><td>    48</td><td>    14</td><td>    42</td><td>    46</td><td>     0</td><td>    0 </td><td>0     </td><td>0     </td></tr>\n",
       "</tbody>\n",
       "</table>\n"
      ],
      "text/latex": [
       "\\begin{tabular}{r|lllllllllllllllllllllllllllllllllllllllllllllllllllllllllllllllllllllllllllllllllllllllllllllllllllllllllllllllllllllllllllllllllllllllllllllllllllllllllllllllllllllllllll}\n",
       " class & aa\\_000 & ab\\_000 & ac\\_000 & ad\\_000 & ae\\_000 & af\\_000 & ag\\_000 & ... & ee\\_004 & ee\\_005 & ee\\_006 & ee\\_007 & ee\\_008 & ee\\_009 & ef\\_000 & eg\\_000\\\\\n",
       "\\hline\n",
       "\t neg     &    60   &  0      &   20    &  12     & 0       & 0       & 0       & ...     &    412  &    654  &      78 &     88  &      0  &    0    & 0       & 0      \\\\\n",
       "\t neg     &    82   &  0      &   68    &  40     & 0       & 0       & 0       & ...     &   1620  &    116  &      86 &    462  &      0  &    0    & 0       & 0      \\\\\n",
       "\t neg     & 66002   &  2      &  212    & 112     & 0       & 0       & 0       & ...     & 440134  & 269556  & 1315022 & 153680  &    516  &    0    & 0       & 0      \\\\\n",
       "\t neg     & 59816   & NA      & 1010    & 936     & 0       & 0       & 0       & ...     & 483302  & 485332  &  431376 & 210074  & 281662  & 3232    & 0       & 0      \\\\\n",
       "\t ... & ... & ... & ... & ... & ... & ... & ... &     & ... & ... & ... & ... & ... & ... & ... & ...\\\\\n",
       "\t neg    &    18  &  0     &   52   &   46   & 8      & 26     & 0      & ...    &     46 &     14 &      2 &      0 &      0 &     0  & 0      & 0     \\\\\n",
       "\t neg    & 79636  & NA     & 1670   & 1518   & 0      &  0     & 0      & ...    & 778826 & 581558 & 375498 & 222866 & 358934 & 19548  & 0      & 0     \\\\\n",
       "\t neg    &   110  & NA     &   36   &   32   & 0      &  0     & 0      & ...    &    180 &    544 &   1004 &   1338 &     74 &     0  & 0      & 0     \\\\\n",
       "\t neg    &     8  &  0     &    6   &    4   & 2      &  2     & 0      & ...    &     48 &     14 &     42 &     46 &      0 &     0  & 0      & 0     \\\\\n",
       "\\end{tabular}\n"
      ],
      "text/markdown": [
       "\n",
       "class | aa_000 | ab_000 | ac_000 | ad_000 | ae_000 | af_000 | ag_000 | ... | ee_004 | ee_005 | ee_006 | ee_007 | ee_008 | ee_009 | ef_000 | eg_000 | \n",
       "|---|---|---|---|---|---|---|---|---|\n",
       "| neg     |    60   |  0      |   20    |  12     | 0       | 0       | 0       | ...     |    412  |    654  |      78 |     88  |      0  |    0    | 0       | 0       | \n",
       "| neg     |    82   |  0      |   68    |  40     | 0       | 0       | 0       | ...     |   1620  |    116  |      86 |    462  |      0  |    0    | 0       | 0       | \n",
       "| neg     | 66002   |  2      |  212    | 112     | 0       | 0       | 0       | ...     | 440134  | 269556  | 1315022 | 153680  |    516  |    0    | 0       | 0       | \n",
       "| neg     | 59816   | NA      | 1010    | 936     | 0       | 0       | 0       | ...     | 483302  | 485332  |  431376 | 210074  | 281662  | 3232    | 0       | 0       | \n",
       "| ... | ... | ... | ... | ... | ... | ... | ... |     | ... | ... | ... | ... | ... | ... | ... | ... | \n",
       "| neg    |    18  |  0     |   52   |   46   | 8      | 26     | 0      | ...    |     46 |     14 |      2 |      0 |      0 |     0  | 0      | 0      | \n",
       "| neg    | 79636  | NA     | 1670   | 1518   | 0      |  0     | 0      | ...    | 778826 | 581558 | 375498 | 222866 | 358934 | 19548  | 0      | 0      | \n",
       "| neg    |   110  | NA     |   36   |   32   | 0      |  0     | 0      | ...    |    180 |    544 |   1004 |   1338 |     74 |     0  | 0      | 0      | \n",
       "| neg    |     8  |  0     |    6   |    4   | 2      |  2     | 0      | ...    |     48 |     14 |     42 |     46 |      0 |     0  | 0      | 0      | \n",
       "\n",
       "\n"
      ],
      "text/plain": [
       "      class aa_000 ab_000 ac_000 ad_000 ae_000 af_000 ag_000 ... ee_004 ee_005\n",
       "1     neg      60   0       20    12    0      0      0      ...    412    654\n",
       "2     neg      82   0       68    40    0      0      0      ...   1620    116\n",
       "3     neg   66002   2      212   112    0      0      0      ... 440134 269556\n",
       "4     neg   59816  NA     1010   936    0      0      0      ... 483302 485332\n",
       "...   ...   ...    ...    ...    ...    ...    ...    ...        ...    ...   \n",
       "15997 neg      18   0       52     46   8      26     0      ...     46     14\n",
       "15998 neg   79636  NA     1670   1518   0       0     0      ... 778826 581558\n",
       "15999 neg     110  NA       36     32   0       0     0      ...    180    544\n",
       "16000 neg       8   0        6      4   2       2     0      ...     48     14\n",
       "      ee_006  ee_007 ee_008 ee_009 ef_000 eg_000\n",
       "1          78     88      0    0   0      0     \n",
       "2          86    462      0    0   0      0     \n",
       "3     1315022 153680    516    0   0      0     \n",
       "4      431376 210074 281662 3232   0      0     \n",
       "...   ...     ...    ...    ...    ...    ...   \n",
       "15997      2       0      0     0  0      0     \n",
       "15998 375498  222866 358934 19548  0      0     \n",
       "15999   1004    1338     74     0  0      0     \n",
       "16000     42      46      0     0  0      0     "
      ]
     },
     "metadata": {},
     "output_type": "display_data"
    }
   ],
   "source": [
    "data.new = read.csv(\"../DATASETS/DATASET Scania new.csv\", na.strings=\"na\")\n",
    "dim(data.new)\n",
    "data.new"
   ]
  },
  {
   "cell_type": "markdown",
   "metadata": {},
   "source": [
    "<br>\n",
    "#### Prepare the new data for models 1 and 5.\n",
    "\n",
    "Rename classes, for convenience.  This is `data.new.1`.\n",
    "\n",
    "Note, both models 1 and 5 accept the same data representation."
   ]
  },
  {
   "cell_type": "code",
   "execution_count": 54,
   "metadata": {
    "scrolled": true
   },
   "outputs": [
    {
     "data": {
      "text/html": [
       "<ol class=list-inline>\n",
       "\t<li>16000</li>\n",
       "\t<li>171</li>\n",
       "</ol>\n"
      ],
      "text/latex": [
       "\\begin{enumerate*}\n",
       "\\item 16000\n",
       "\\item 171\n",
       "\\end{enumerate*}\n"
      ],
      "text/markdown": [
       "1. 16000\n",
       "2. 171\n",
       "\n",
       "\n"
      ],
      "text/plain": [
       "[1] 16000   171"
      ]
     },
     "metadata": {},
     "output_type": "display_data"
    },
    {
     "data": {
      "text/html": [
       "<table>\n",
       "<thead><tr><th scope=col>class</th><th scope=col>aa_000</th><th scope=col>ab_000</th><th scope=col>ac_000</th><th scope=col>ad_000</th><th scope=col>ae_000</th><th scope=col>af_000</th><th scope=col>ag_000</th><th scope=col>...</th><th scope=col>ee_004</th><th scope=col>ee_005</th><th scope=col>ee_006</th><th scope=col>ee_007</th><th scope=col>ee_008</th><th scope=col>ee_009</th><th scope=col>ef_000</th><th scope=col>eg_000</th></tr></thead>\n",
       "<tbody>\n",
       "\t<tr><td>ok     </td><td>   60  </td><td> 0     </td><td>  20   </td><td> 12    </td><td>0      </td><td>0      </td><td>0      </td><td>...    </td><td>   412 </td><td>   654 </td><td>     78</td><td>    88 </td><td>     0 </td><td>   0   </td><td>0      </td><td>0      </td></tr>\n",
       "\t<tr><td>ok     </td><td>   82  </td><td> 0     </td><td>  68   </td><td> 40    </td><td>0      </td><td>0      </td><td>0      </td><td>...    </td><td>  1620 </td><td>   116 </td><td>     86</td><td>   462 </td><td>     0 </td><td>   0   </td><td>0      </td><td>0      </td></tr>\n",
       "\t<tr><td>ok     </td><td>66002  </td><td> 2     </td><td> 212   </td><td>112    </td><td>0      </td><td>0      </td><td>0      </td><td>...    </td><td>440134 </td><td>269556 </td><td>1315022</td><td>153680 </td><td>   516 </td><td>   0   </td><td>0      </td><td>0      </td></tr>\n",
       "\t<tr><td>ok     </td><td>59816  </td><td>NA     </td><td>1010   </td><td>936    </td><td>0      </td><td>0      </td><td>0      </td><td>...    </td><td>483302 </td><td>485332 </td><td> 431376</td><td>210074 </td><td>281662 </td><td>3232   </td><td>0      </td><td>0      </td></tr>\n",
       "\t<tr><td>...</td><td>...</td><td>...</td><td>...</td><td>...</td><td>...</td><td>...</td><td>...</td><td>   </td><td>...</td><td>...</td><td>...</td><td>...</td><td>...</td><td>...</td><td>...</td><td>...</td></tr>\n",
       "\t<tr><td>ok    </td><td>   18 </td><td> 0    </td><td>  52  </td><td>  46  </td><td>8     </td><td>26    </td><td>0     </td><td>...   </td><td>    46</td><td>    14</td><td>     2</td><td>     0</td><td>     0</td><td>    0 </td><td>0     </td><td>0     </td></tr>\n",
       "\t<tr><td>ok    </td><td>79636 </td><td>NA    </td><td>1670  </td><td>1518  </td><td>0     </td><td> 0    </td><td>0     </td><td>...   </td><td>778826</td><td>581558</td><td>375498</td><td>222866</td><td>358934</td><td>19548 </td><td>0     </td><td>0     </td></tr>\n",
       "\t<tr><td>ok    </td><td>  110 </td><td>NA    </td><td>  36  </td><td>  32  </td><td>0     </td><td> 0    </td><td>0     </td><td>...   </td><td>   180</td><td>   544</td><td>  1004</td><td>  1338</td><td>    74</td><td>    0 </td><td>0     </td><td>0     </td></tr>\n",
       "\t<tr><td>ok    </td><td>    8 </td><td> 0    </td><td>   6  </td><td>   4  </td><td>2     </td><td> 2    </td><td>0     </td><td>...   </td><td>    48</td><td>    14</td><td>    42</td><td>    46</td><td>     0</td><td>    0 </td><td>0     </td><td>0     </td></tr>\n",
       "</tbody>\n",
       "</table>\n"
      ],
      "text/latex": [
       "\\begin{tabular}{r|lllllllllllllllllllllllllllllllllllllllllllllllllllllllllllllllllllllllllllllllllllllllllllllllllllllllllllllllllllllllllllllllllllllllllllllllllllllllllllllllllllllllllll}\n",
       " class & aa\\_000 & ab\\_000 & ac\\_000 & ad\\_000 & ae\\_000 & af\\_000 & ag\\_000 & ... & ee\\_004 & ee\\_005 & ee\\_006 & ee\\_007 & ee\\_008 & ee\\_009 & ef\\_000 & eg\\_000\\\\\n",
       "\\hline\n",
       "\t ok      &    60   &  0      &   20    &  12     & 0       & 0       & 0       & ...     &    412  &    654  &      78 &     88  &      0  &    0    & 0       & 0      \\\\\n",
       "\t ok      &    82   &  0      &   68    &  40     & 0       & 0       & 0       & ...     &   1620  &    116  &      86 &    462  &      0  &    0    & 0       & 0      \\\\\n",
       "\t ok      & 66002   &  2      &  212    & 112     & 0       & 0       & 0       & ...     & 440134  & 269556  & 1315022 & 153680  &    516  &    0    & 0       & 0      \\\\\n",
       "\t ok      & 59816   & NA      & 1010    & 936     & 0       & 0       & 0       & ...     & 483302  & 485332  &  431376 & 210074  & 281662  & 3232    & 0       & 0      \\\\\n",
       "\t ... & ... & ... & ... & ... & ... & ... & ... &     & ... & ... & ... & ... & ... & ... & ... & ...\\\\\n",
       "\t ok     &    18  &  0     &   52   &   46   & 8      & 26     & 0      & ...    &     46 &     14 &      2 &      0 &      0 &     0  & 0      & 0     \\\\\n",
       "\t ok     & 79636  & NA     & 1670   & 1518   & 0      &  0     & 0      & ...    & 778826 & 581558 & 375498 & 222866 & 358934 & 19548  & 0      & 0     \\\\\n",
       "\t ok     &   110  & NA     &   36   &   32   & 0      &  0     & 0      & ...    &    180 &    544 &   1004 &   1338 &     74 &     0  & 0      & 0     \\\\\n",
       "\t ok     &     8  &  0     &    6   &    4   & 2      &  2     & 0      & ...    &     48 &     14 &     42 &     46 &      0 &     0  & 0      & 0     \\\\\n",
       "\\end{tabular}\n"
      ],
      "text/markdown": [
       "\n",
       "class | aa_000 | ab_000 | ac_000 | ad_000 | ae_000 | af_000 | ag_000 | ... | ee_004 | ee_005 | ee_006 | ee_007 | ee_008 | ee_009 | ef_000 | eg_000 | \n",
       "|---|---|---|---|---|---|---|---|---|\n",
       "| ok      |    60   |  0      |   20    |  12     | 0       | 0       | 0       | ...     |    412  |    654  |      78 |     88  |      0  |    0    | 0       | 0       | \n",
       "| ok      |    82   |  0      |   68    |  40     | 0       | 0       | 0       | ...     |   1620  |    116  |      86 |    462  |      0  |    0    | 0       | 0       | \n",
       "| ok      | 66002   |  2      |  212    | 112     | 0       | 0       | 0       | ...     | 440134  | 269556  | 1315022 | 153680  |    516  |    0    | 0       | 0       | \n",
       "| ok      | 59816   | NA      | 1010    | 936     | 0       | 0       | 0       | ...     | 483302  | 485332  |  431376 | 210074  | 281662  | 3232    | 0       | 0       | \n",
       "| ... | ... | ... | ... | ... | ... | ... | ... |     | ... | ... | ... | ... | ... | ... | ... | ... | \n",
       "| ok     |    18  |  0     |   52   |   46   | 8      | 26     | 0      | ...    |     46 |     14 |      2 |      0 |      0 |     0  | 0      | 0      | \n",
       "| ok     | 79636  | NA     | 1670   | 1518   | 0      |  0     | 0      | ...    | 778826 | 581558 | 375498 | 222866 | 358934 | 19548  | 0      | 0      | \n",
       "| ok     |   110  | NA     |   36   |   32   | 0      |  0     | 0      | ...    |    180 |    544 |   1004 |   1338 |     74 |     0  | 0      | 0      | \n",
       "| ok     |     8  |  0     |    6   |    4   | 2      |  2     | 0      | ...    |     48 |     14 |     42 |     46 |      0 |     0  | 0      | 0      | \n",
       "\n",
       "\n"
      ],
      "text/plain": [
       "      class aa_000 ab_000 ac_000 ad_000 ae_000 af_000 ag_000 ... ee_004 ee_005\n",
       "1     ok       60   0       20    12    0      0      0      ...    412    654\n",
       "2     ok       82   0       68    40    0      0      0      ...   1620    116\n",
       "3     ok    66002   2      212   112    0      0      0      ... 440134 269556\n",
       "4     ok    59816  NA     1010   936    0      0      0      ... 483302 485332\n",
       "...   ...   ...    ...    ...    ...    ...    ...    ...        ...    ...   \n",
       "15997 ok       18   0       52     46   8      26     0      ...     46     14\n",
       "15998 ok    79636  NA     1670   1518   0       0     0      ... 778826 581558\n",
       "15999 ok      110  NA       36     32   0       0     0      ...    180    544\n",
       "16000 ok        8   0        6      4   2       2     0      ...     48     14\n",
       "      ee_006  ee_007 ee_008 ee_009 ef_000 eg_000\n",
       "1          78     88      0    0   0      0     \n",
       "2          86    462      0    0   0      0     \n",
       "3     1315022 153680    516    0   0      0     \n",
       "4      431376 210074 281662 3232   0      0     \n",
       "...   ...     ...    ...    ...    ...    ...   \n",
       "15997      2       0      0     0  0      0     \n",
       "15998 375498  222866 358934 19548  0      0     \n",
       "15999   1004    1338     74     0  0      0     \n",
       "16000     42      46      0     0  0      0     "
      ]
     },
     "metadata": {},
     "output_type": "display_data"
    }
   ],
   "source": [
    "data.new.1 = data.new\n",
    "data.new.1$class = factor(data.new$class, levels=c(\"pos\",\"neg\"), labels=c(\"failure\",\"ok\"))\n",
    "dim(data.new.1)\n",
    "data.new.1"
   ]
  },
  {
   "cell_type": "markdown",
   "metadata": {},
   "source": [
    "<br>\n",
    "#### Prepare the new data for model 2.\n",
    "\n",
    "Impute missing new data based on mean per column of the _original_ data.  This is `data.new.2`."
   ]
  },
  {
   "cell_type": "code",
   "execution_count": 55,
   "metadata": {
    "scrolled": true
   },
   "outputs": [
    {
     "data": {
      "text/html": [
       "<ol class=list-inline>\n",
       "\t<li>16000</li>\n",
       "\t<li>171</li>\n",
       "</ol>\n"
      ],
      "text/latex": [
       "\\begin{enumerate*}\n",
       "\\item 16000\n",
       "\\item 171\n",
       "\\end{enumerate*}\n"
      ],
      "text/markdown": [
       "1. 16000\n",
       "2. 171\n",
       "\n",
       "\n"
      ],
      "text/plain": [
       "[1] 16000   171"
      ]
     },
     "metadata": {},
     "output_type": "display_data"
    },
    {
     "data": {
      "text/html": [
       "<table>\n",
       "<thead><tr><th scope=col>class</th><th scope=col>aa_000</th><th scope=col>ab_000</th><th scope=col>ac_000</th><th scope=col>ad_000</th><th scope=col>ae_000</th><th scope=col>af_000</th><th scope=col>ag_000</th><th scope=col>...</th><th scope=col>ee_004</th><th scope=col>ee_005</th><th scope=col>ee_006</th><th scope=col>ee_007</th><th scope=col>ee_008</th><th scope=col>ee_009</th><th scope=col>ef_000</th><th scope=col>eg_000</th></tr></thead>\n",
       "<tbody>\n",
       "\t<tr><td>ok       </td><td>   60    </td><td>0.0000000</td><td>  20     </td><td> 12      </td><td>0        </td><td>0        </td><td>0        </td><td>...      </td><td>   412   </td><td>   654   </td><td>     78  </td><td>    88   </td><td>     0   </td><td>   0     </td><td>0        </td><td>0        </td></tr>\n",
       "\t<tr><td>ok       </td><td>   82    </td><td>0.0000000</td><td>  68     </td><td> 40      </td><td>0        </td><td>0        </td><td>0        </td><td>...      </td><td>  1620   </td><td>   116   </td><td>     86  </td><td>   462   </td><td>     0   </td><td>   0     </td><td>0        </td><td>0        </td></tr>\n",
       "\t<tr><td>ok       </td><td>66002    </td><td>2.0000000</td><td> 212     </td><td>112      </td><td>0        </td><td>0        </td><td>0        </td><td>...      </td><td>440134   </td><td>269556   </td><td>1315022  </td><td>153680   </td><td>   516   </td><td>   0     </td><td>0        </td><td>0        </td></tr>\n",
       "\t<tr><td>ok       </td><td>59816    </td><td>0.7131885</td><td>1010     </td><td>936      </td><td>0        </td><td>0        </td><td>0        </td><td>...      </td><td>483302   </td><td>485332   </td><td> 431376  </td><td>210074   </td><td>281662   </td><td>3232     </td><td>0        </td><td>0        </td></tr>\n",
       "\t<tr><td>...</td><td>...</td><td>...</td><td>...</td><td>...</td><td>...</td><td>...</td><td>...</td><td>   </td><td>...</td><td>...</td><td>...</td><td>...</td><td>...</td><td>...</td><td>...</td><td>...</td></tr>\n",
       "\t<tr><td>ok       </td><td>   18    </td><td>0.0000000</td><td>  52     </td><td>  46     </td><td>8        </td><td>26       </td><td>0        </td><td>...      </td><td>    46   </td><td>    14   </td><td>     2   </td><td>     0   </td><td>     0   </td><td>    0    </td><td>0        </td><td>0        </td></tr>\n",
       "\t<tr><td>ok       </td><td>79636    </td><td>0.7131885</td><td>1670     </td><td>1518     </td><td>0        </td><td> 0       </td><td>0        </td><td>...      </td><td>778826   </td><td>581558   </td><td>375498   </td><td>222866   </td><td>358934   </td><td>19548    </td><td>0        </td><td>0        </td></tr>\n",
       "\t<tr><td>ok       </td><td>  110    </td><td>0.7131885</td><td>  36     </td><td>  32     </td><td>0        </td><td> 0       </td><td>0        </td><td>...      </td><td>   180   </td><td>   544   </td><td>  1004   </td><td>  1338   </td><td>    74   </td><td>    0    </td><td>0        </td><td>0        </td></tr>\n",
       "\t<tr><td>ok       </td><td>    8    </td><td>0.0000000</td><td>   6     </td><td>   4     </td><td>2        </td><td> 2       </td><td>0        </td><td>...      </td><td>    48   </td><td>    14   </td><td>    42   </td><td>    46   </td><td>     0   </td><td>    0    </td><td>0        </td><td>0        </td></tr>\n",
       "</tbody>\n",
       "</table>\n"
      ],
      "text/latex": [
       "\\begin{tabular}{r|lllllllllllllllllllllllllllllllllllllllllllllllllllllllllllllllllllllllllllllllllllllllllllllllllllllllllllllllllllllllllllllllllllllllllllllllllllllllllllllllllllllllllll}\n",
       " class & aa\\_000 & ab\\_000 & ac\\_000 & ad\\_000 & ae\\_000 & af\\_000 & ag\\_000 & ... & ee\\_004 & ee\\_005 & ee\\_006 & ee\\_007 & ee\\_008 & ee\\_009 & ef\\_000 & eg\\_000\\\\\n",
       "\\hline\n",
       "\t ok        &    60     & 0.0000000 &   20      &  12       & 0         & 0         & 0         & ...       &    412    &    654    &      78   &     88    &      0    &    0      & 0         & 0        \\\\\n",
       "\t ok        &    82     & 0.0000000 &   68      &  40       & 0         & 0         & 0         & ...       &   1620    &    116    &      86   &    462    &      0    &    0      & 0         & 0        \\\\\n",
       "\t ok        & 66002     & 2.0000000 &  212      & 112       & 0         & 0         & 0         & ...       & 440134    & 269556    & 1315022   & 153680    &    516    &    0      & 0         & 0        \\\\\n",
       "\t ok        & 59816     & 0.7131885 & 1010      & 936       & 0         & 0         & 0         & ...       & 483302    & 485332    &  431376   & 210074    & 281662    & 3232      & 0         & 0        \\\\\n",
       "\t ... & ... & ... & ... & ... & ... & ... & ... &     & ... & ... & ... & ... & ... & ... & ... & ...\\\\\n",
       "\t ok        &    18     & 0.0000000 &   52      &   46      & 8         & 26        & 0         & ...       &     46    &     14    &      2    &      0    &      0    &     0     & 0         & 0        \\\\\n",
       "\t ok        & 79636     & 0.7131885 & 1670      & 1518      & 0         &  0        & 0         & ...       & 778826    & 581558    & 375498    & 222866    & 358934    & 19548     & 0         & 0        \\\\\n",
       "\t ok        &   110     & 0.7131885 &   36      &   32      & 0         &  0        & 0         & ...       &    180    &    544    &   1004    &   1338    &     74    &     0     & 0         & 0        \\\\\n",
       "\t ok        &     8     & 0.0000000 &    6      &    4      & 2         &  2        & 0         & ...       &     48    &     14    &     42    &     46    &      0    &     0     & 0         & 0        \\\\\n",
       "\\end{tabular}\n"
      ],
      "text/markdown": [
       "\n",
       "class | aa_000 | ab_000 | ac_000 | ad_000 | ae_000 | af_000 | ag_000 | ... | ee_004 | ee_005 | ee_006 | ee_007 | ee_008 | ee_009 | ef_000 | eg_000 | \n",
       "|---|---|---|---|---|---|---|---|---|\n",
       "| ok        |    60     | 0.0000000 |   20      |  12       | 0         | 0         | 0         | ...       |    412    |    654    |      78   |     88    |      0    |    0      | 0         | 0         | \n",
       "| ok        |    82     | 0.0000000 |   68      |  40       | 0         | 0         | 0         | ...       |   1620    |    116    |      86   |    462    |      0    |    0      | 0         | 0         | \n",
       "| ok        | 66002     | 2.0000000 |  212      | 112       | 0         | 0         | 0         | ...       | 440134    | 269556    | 1315022   | 153680    |    516    |    0      | 0         | 0         | \n",
       "| ok        | 59816     | 0.7131885 | 1010      | 936       | 0         | 0         | 0         | ...       | 483302    | 485332    |  431376   | 210074    | 281662    | 3232      | 0         | 0         | \n",
       "| ... | ... | ... | ... | ... | ... | ... | ... |     | ... | ... | ... | ... | ... | ... | ... | ... | \n",
       "| ok        |    18     | 0.0000000 |   52      |   46      | 8         | 26        | 0         | ...       |     46    |     14    |      2    |      0    |      0    |     0     | 0         | 0         | \n",
       "| ok        | 79636     | 0.7131885 | 1670      | 1518      | 0         |  0        | 0         | ...       | 778826    | 581558    | 375498    | 222866    | 358934    | 19548     | 0         | 0         | \n",
       "| ok        |   110     | 0.7131885 |   36      |   32      | 0         |  0        | 0         | ...       |    180    |    544    |   1004    |   1338    |     74    |     0     | 0         | 0         | \n",
       "| ok        |     8     | 0.0000000 |    6      |    4      | 2         |  2        | 0         | ...       |     48    |     14    |     42    |     46    |      0    |     0     | 0         | 0         | \n",
       "\n",
       "\n"
      ],
      "text/plain": [
       "      class aa_000 ab_000    ac_000 ad_000 ae_000 af_000 ag_000 ... ee_004\n",
       "1     ok       60  0.0000000   20    12    0      0      0      ...    412\n",
       "2     ok       82  0.0000000   68    40    0      0      0      ...   1620\n",
       "3     ok    66002  2.0000000  212   112    0      0      0      ... 440134\n",
       "4     ok    59816  0.7131885 1010   936    0      0      0      ... 483302\n",
       "...   ...   ...    ...       ...    ...    ...    ...    ...        ...   \n",
       "15997 ok       18  0.0000000   52     46   8      26     0      ...     46\n",
       "15998 ok    79636  0.7131885 1670   1518   0       0     0      ... 778826\n",
       "15999 ok      110  0.7131885   36     32   0       0     0      ...    180\n",
       "16000 ok        8  0.0000000    6      4   2       2     0      ...     48\n",
       "      ee_005 ee_006  ee_007 ee_008 ee_009 ef_000 eg_000\n",
       "1        654      78     88      0    0   0      0     \n",
       "2        116      86    462      0    0   0      0     \n",
       "3     269556 1315022 153680    516    0   0      0     \n",
       "4     485332  431376 210074 281662 3232   0      0     \n",
       "...   ...    ...     ...    ...    ...    ...    ...   \n",
       "15997     14      2       0      0     0  0      0     \n",
       "15998 581558 375498  222866 358934 19548  0      0     \n",
       "15999    544   1004    1338     74     0  0      0     \n",
       "16000     14     42      46      0     0  0      0     "
      ]
     },
     "metadata": {},
     "output_type": "display_data"
    }
   ],
   "source": [
    "a = apply_each(data.1, mean, na.rm=TRUE)                               \n",
    "data.new.2 = impute.assign_each(data.new.1, a)\n",
    "dim(data.new.2)\n",
    "data.new.2"
   ]
  },
  {
   "cell_type": "markdown",
   "metadata": {},
   "source": [
    "<br>\n",
    "#### Prepare the new data for models 3 and 4.\n",
    "\n",
    "Represent the new data in terms of principal components based on the centroid and weights for the _original_ data.  This is `data.new.3`.\n",
    "\n",
    "Note, both models 3 and 4 accept the same data representation."
   ]
  },
  {
   "cell_type": "code",
   "execution_count": 56,
   "metadata": {
    "scrolled": true
   },
   "outputs": [
    {
     "data": {
      "text/html": [
       "<ol class=list-inline>\n",
       "\t<li>16000</li>\n",
       "\t<li>35</li>\n",
       "</ol>\n"
      ],
      "text/latex": [
       "\\begin{enumerate*}\n",
       "\\item 16000\n",
       "\\item 35\n",
       "\\end{enumerate*}\n"
      ],
      "text/markdown": [
       "1. 16000\n",
       "2. 35\n",
       "\n",
       "\n"
      ],
      "text/plain": [
       "[1] 16000    35"
      ]
     },
     "metadata": {},
     "output_type": "display_data"
    },
    {
     "data": {
      "text/html": [
       "<table>\n",
       "<thead><tr><th scope=col>class</th><th scope=col>PC1</th><th scope=col>PC2</th><th scope=col>PC3</th><th scope=col>PC4</th><th scope=col>PC5</th><th scope=col>PC6</th><th scope=col>PC7</th><th scope=col>...</th><th scope=col>PC27</th><th scope=col>PC28</th><th scope=col>PC29</th><th scope=col>PC30</th><th scope=col>PC31</th><th scope=col>PC32</th><th scope=col>PC33</th><th scope=col>PC34</th></tr></thead>\n",
       "<tbody>\n",
       "\t<tr><td>ok          </td><td> 3.1470624  </td><td>-0.1443561  </td><td>-0.3180588  </td><td>-0.54499673 </td><td>-0.3723321  </td><td>-0.3349455  </td><td>-0.2037493  </td><td>...         </td><td>-0.009490767</td><td> 0.15970432 </td><td> 0.02673352 </td><td>-0.05922031 </td><td>-0.10288558 </td><td>-0.2849786  </td><td>-0.05261266 </td><td>-0.19026469 </td></tr>\n",
       "\t<tr><td>ok          </td><td> 3.2295875  </td><td>-0.1525937  </td><td>-0.3679836  </td><td>-0.61560542 </td><td>-0.4412522  </td><td>-0.2840058  </td><td>-0.2865485  </td><td>...         </td><td>-0.026108468</td><td> 0.05672502 </td><td> 0.03713875 </td><td>-0.06707518 </td><td>-0.12521306 </td><td>-0.2312446  </td><td>-0.04907114 </td><td>-0.08462381 </td></tr>\n",
       "\t<tr><td>ok          </td><td>-1.0789892  </td><td>-2.2905332  </td><td> 0.8739015  </td><td> 1.13621304 </td><td>-0.2323888  </td><td> 1.3876284  </td><td>-1.3232019  </td><td>...         </td><td>-0.792984599</td><td> 0.69127515 </td><td> 0.09804168 </td><td>-0.01650588 </td><td>-0.01763992 </td><td>-0.3684192  </td><td> 0.17700180 </td><td>-1.25980866 </td></tr>\n",
       "\t<tr><td>ok          </td><td>-0.1541181  </td><td> 0.5760290  </td><td> 0.7619907  </td><td>-0.07123558 </td><td>-0.3854921  </td><td> 0.1952526  </td><td> 0.2430215  </td><td>...         </td><td> 0.052436469</td><td>-0.23922205 </td><td>-0.21319918 </td><td> 0.15782176 </td><td>-0.04188000 </td><td>-0.1778091  </td><td>-0.33492854 </td><td> 0.01563955 </td></tr>\n",
       "\t<tr><td>...</td><td>...</td><td>...</td><td>...</td><td>...</td><td>...</td><td>...</td><td>...</td><td>   </td><td>...</td><td>...</td><td>...</td><td>...</td><td>...</td><td>...</td><td>...</td><td>...</td></tr>\n",
       "\t<tr><td>ok          </td><td> 3.261692   </td><td>-0.1722071  </td><td>-0.3731378  </td><td>-0.6198695  </td><td>-0.4502059  </td><td>-0.2887305  </td><td>-0.2960472  </td><td>...         </td><td>-0.014962595</td><td>0.04444660  </td><td> 0.03460183 </td><td>-0.06648913 </td><td>-0.1285054  </td><td>-0.2316451  </td><td>-0.05904140 </td><td>-0.04890399 </td></tr>\n",
       "\t<tr><td>ok          </td><td>-1.597109   </td><td> 0.8320706  </td><td> 1.3545940  </td><td> 0.6042187  </td><td> 0.4977954  </td><td> 0.8412527  </td><td> 0.1672076  </td><td>...         </td><td> 0.017909818</td><td>0.14022341  </td><td>-0.58148135 </td><td> 0.16854691 </td><td>-0.3856876  </td><td>-0.0898156  </td><td>-0.14848937 </td><td> 0.28512007 </td></tr>\n",
       "\t<tr><td>ok          </td><td> 3.190453   </td><td>-0.1603428  </td><td>-0.3388804  </td><td>-0.5678722  </td><td>-0.4067634  </td><td>-0.3125643  </td><td>-0.2485347  </td><td>...         </td><td> 0.001021269</td><td>0.12336743  </td><td>-0.03151431 </td><td>-0.11353687 </td><td>-0.1124739  </td><td>-0.1780626  </td><td>-0.15201893 </td><td>-0.15629871 </td></tr>\n",
       "\t<tr><td>ok          </td><td> 3.273702   </td><td>-0.1530097  </td><td>-0.3889152  </td><td>-0.6555896  </td><td>-0.4364122  </td><td>-0.2873342  </td><td>-0.2929545  </td><td>...         </td><td>-0.017117308</td><td>0.03721357  </td><td> 0.04656041 </td><td>-0.07223902 </td><td>-0.1258107  </td><td>-0.2276936  </td><td>-0.05731508 </td><td>-0.06598944 </td></tr>\n",
       "</tbody>\n",
       "</table>\n"
      ],
      "text/latex": [
       "\\begin{tabular}{r|lllllllllllllllllllllllllllllllllll}\n",
       " class & PC1 & PC2 & PC3 & PC4 & PC5 & PC6 & PC7 & ... & PC27 & PC28 & PC29 & PC30 & PC31 & PC32 & PC33 & PC34\\\\\n",
       "\\hline\n",
       "\t ok           &  3.1470624   & -0.1443561   & -0.3180588   & -0.54499673  & -0.3723321   & -0.3349455   & -0.2037493   & ...          & -0.009490767 &  0.15970432  &  0.02673352  & -0.05922031  & -0.10288558  & -0.2849786   & -0.05261266  & -0.19026469 \\\\\n",
       "\t ok           &  3.2295875   & -0.1525937   & -0.3679836   & -0.61560542  & -0.4412522   & -0.2840058   & -0.2865485   & ...          & -0.026108468 &  0.05672502  &  0.03713875  & -0.06707518  & -0.12521306  & -0.2312446   & -0.04907114  & -0.08462381 \\\\\n",
       "\t ok           & -1.0789892   & -2.2905332   &  0.8739015   &  1.13621304  & -0.2323888   &  1.3876284   & -1.3232019   & ...          & -0.792984599 &  0.69127515  &  0.09804168  & -0.01650588  & -0.01763992  & -0.3684192   &  0.17700180  & -1.25980866 \\\\\n",
       "\t ok           & -0.1541181   &  0.5760290   &  0.7619907   & -0.07123558  & -0.3854921   &  0.1952526   &  0.2430215   & ...          &  0.052436469 & -0.23922205  & -0.21319918  &  0.15782176  & -0.04188000  & -0.1778091   & -0.33492854  &  0.01563955 \\\\\n",
       "\t ... & ... & ... & ... & ... & ... & ... & ... &     & ... & ... & ... & ... & ... & ... & ... & ...\\\\\n",
       "\t ok           &  3.261692    & -0.1722071   & -0.3731378   & -0.6198695   & -0.4502059   & -0.2887305   & -0.2960472   & ...          & -0.014962595 & 0.04444660   &  0.03460183  & -0.06648913  & -0.1285054   & -0.2316451   & -0.05904140  & -0.04890399 \\\\\n",
       "\t ok           & -1.597109    &  0.8320706   &  1.3545940   &  0.6042187   &  0.4977954   &  0.8412527   &  0.1672076   & ...          &  0.017909818 & 0.14022341   & -0.58148135  &  0.16854691  & -0.3856876   & -0.0898156   & -0.14848937  &  0.28512007 \\\\\n",
       "\t ok           &  3.190453    & -0.1603428   & -0.3388804   & -0.5678722   & -0.4067634   & -0.3125643   & -0.2485347   & ...          &  0.001021269 & 0.12336743   & -0.03151431  & -0.11353687  & -0.1124739   & -0.1780626   & -0.15201893  & -0.15629871 \\\\\n",
       "\t ok           &  3.273702    & -0.1530097   & -0.3889152   & -0.6555896   & -0.4364122   & -0.2873342   & -0.2929545   & ...          & -0.017117308 & 0.03721357   &  0.04656041  & -0.07223902  & -0.1258107   & -0.2276936   & -0.05731508  & -0.06598944 \\\\\n",
       "\\end{tabular}\n"
      ],
      "text/markdown": [
       "\n",
       "class | PC1 | PC2 | PC3 | PC4 | PC5 | PC6 | PC7 | ... | PC27 | PC28 | PC29 | PC30 | PC31 | PC32 | PC33 | PC34 | \n",
       "|---|---|---|---|---|---|---|---|---|\n",
       "| ok           |  3.1470624   | -0.1443561   | -0.3180588   | -0.54499673  | -0.3723321   | -0.3349455   | -0.2037493   | ...          | -0.009490767 |  0.15970432  |  0.02673352  | -0.05922031  | -0.10288558  | -0.2849786   | -0.05261266  | -0.19026469  | \n",
       "| ok           |  3.2295875   | -0.1525937   | -0.3679836   | -0.61560542  | -0.4412522   | -0.2840058   | -0.2865485   | ...          | -0.026108468 |  0.05672502  |  0.03713875  | -0.06707518  | -0.12521306  | -0.2312446   | -0.04907114  | -0.08462381  | \n",
       "| ok           | -1.0789892   | -2.2905332   |  0.8739015   |  1.13621304  | -0.2323888   |  1.3876284   | -1.3232019   | ...          | -0.792984599 |  0.69127515  |  0.09804168  | -0.01650588  | -0.01763992  | -0.3684192   |  0.17700180  | -1.25980866  | \n",
       "| ok           | -0.1541181   |  0.5760290   |  0.7619907   | -0.07123558  | -0.3854921   |  0.1952526   |  0.2430215   | ...          |  0.052436469 | -0.23922205  | -0.21319918  |  0.15782176  | -0.04188000  | -0.1778091   | -0.33492854  |  0.01563955  | \n",
       "| ... | ... | ... | ... | ... | ... | ... | ... |     | ... | ... | ... | ... | ... | ... | ... | ... | \n",
       "| ok           |  3.261692    | -0.1722071   | -0.3731378   | -0.6198695   | -0.4502059   | -0.2887305   | -0.2960472   | ...          | -0.014962595 | 0.04444660   |  0.03460183  | -0.06648913  | -0.1285054   | -0.2316451   | -0.05904140  | -0.04890399  | \n",
       "| ok           | -1.597109    |  0.8320706   |  1.3545940   |  0.6042187   |  0.4977954   |  0.8412527   |  0.1672076   | ...          |  0.017909818 | 0.14022341   | -0.58148135  |  0.16854691  | -0.3856876   | -0.0898156   | -0.14848937  |  0.28512007  | \n",
       "| ok           |  3.190453    | -0.1603428   | -0.3388804   | -0.5678722   | -0.4067634   | -0.3125643   | -0.2485347   | ...          |  0.001021269 | 0.12336743   | -0.03151431  | -0.11353687  | -0.1124739   | -0.1780626   | -0.15201893  | -0.15629871  | \n",
       "| ok           |  3.273702    | -0.1530097   | -0.3889152   | -0.6555896   | -0.4364122   | -0.2873342   | -0.2929545   | ...          | -0.017117308 | 0.03721357   |  0.04656041  | -0.07223902  | -0.1258107   | -0.2276936   | -0.05731508  | -0.06598944  | \n",
       "\n",
       "\n"
      ],
      "text/plain": [
       "      class PC1        PC2        PC3        PC4         PC5        PC6       \n",
       "1     ok     3.1470624 -0.1443561 -0.3180588 -0.54499673 -0.3723321 -0.3349455\n",
       "2     ok     3.2295875 -0.1525937 -0.3679836 -0.61560542 -0.4412522 -0.2840058\n",
       "3     ok    -1.0789892 -2.2905332  0.8739015  1.13621304 -0.2323888  1.3876284\n",
       "4     ok    -0.1541181  0.5760290  0.7619907 -0.07123558 -0.3854921  0.1952526\n",
       "...   ...   ...        ...        ...        ...         ...        ...       \n",
       "15997 ok     3.261692  -0.1722071 -0.3731378 -0.6198695  -0.4502059 -0.2887305\n",
       "15998 ok    -1.597109   0.8320706  1.3545940  0.6042187   0.4977954  0.8412527\n",
       "15999 ok     3.190453  -0.1603428 -0.3388804 -0.5678722  -0.4067634 -0.3125643\n",
       "16000 ok     3.273702  -0.1530097 -0.3889152 -0.6555896  -0.4364122 -0.2873342\n",
       "      PC7        ... PC27         PC28        PC29        PC30       \n",
       "1     -0.2037493 ... -0.009490767  0.15970432  0.02673352 -0.05922031\n",
       "2     -0.2865485 ... -0.026108468  0.05672502  0.03713875 -0.06707518\n",
       "3     -1.3232019 ... -0.792984599  0.69127515  0.09804168 -0.01650588\n",
       "4      0.2430215 ...  0.052436469 -0.23922205 -0.21319918  0.15782176\n",
       "...   ...            ...          ...         ...         ...        \n",
       "15997 -0.2960472 ... -0.014962595 0.04444660   0.03460183 -0.06648913\n",
       "15998  0.1672076 ...  0.017909818 0.14022341  -0.58148135  0.16854691\n",
       "15999 -0.2485347 ...  0.001021269 0.12336743  -0.03151431 -0.11353687\n",
       "16000 -0.2929545 ... -0.017117308 0.03721357   0.04656041 -0.07223902\n",
       "      PC31        PC32       PC33        PC34       \n",
       "1     -0.10288558 -0.2849786 -0.05261266 -0.19026469\n",
       "2     -0.12521306 -0.2312446 -0.04907114 -0.08462381\n",
       "3     -0.01763992 -0.3684192  0.17700180 -1.25980866\n",
       "4     -0.04188000 -0.1778091 -0.33492854  0.01563955\n",
       "...   ...         ...        ...         ...        \n",
       "15997 -0.1285054  -0.2316451 -0.05904140 -0.04890399\n",
       "15998 -0.3856876  -0.0898156 -0.14848937  0.28512007\n",
       "15999 -0.1124739  -0.1780626 -0.15201893 -0.15629871\n",
       "16000 -0.1258107  -0.2276936 -0.05731508 -0.06598944"
      ]
     },
     "metadata": {},
     "output_type": "display_data"
    }
   ],
   "source": [
    "data.new.3 = cbind(data.new.2[,\"class\",drop=FALSE], predict(pc.3, data.new.2))[,1:ncol(data.3)]\n",
    "dim(data.new.3)\n",
    "data.new.3"
   ]
  },
  {
   "cell_type": "markdown",
   "metadata": {},
   "source": [
    "<br>\n",
    "#### Prepare new data for model 6.\n",
    "\n",
    "Impute missing new data based on mean per column of _original_ data.  This is `data.new.6`."
   ]
  },
  {
   "cell_type": "code",
   "execution_count": 57,
   "metadata": {
    "scrolled": true
   },
   "outputs": [
    {
     "data": {
      "text/html": [
       "<ol class=list-inline>\n",
       "\t<li>16000</li>\n",
       "\t<li>171</li>\n",
       "</ol>\n"
      ],
      "text/latex": [
       "\\begin{enumerate*}\n",
       "\\item 16000\n",
       "\\item 171\n",
       "\\end{enumerate*}\n"
      ],
      "text/markdown": [
       "1. 16000\n",
       "2. 171\n",
       "\n",
       "\n"
      ],
      "text/plain": [
       "[1] 16000   171"
      ]
     },
     "metadata": {},
     "output_type": "display_data"
    },
    {
     "data": {
      "text/html": [
       "<table>\n",
       "<thead><tr><th scope=col>class</th><th scope=col>aa_000</th><th scope=col>ab_000</th><th scope=col>ac_000</th><th scope=col>ad_000</th><th scope=col>ae_000</th><th scope=col>af_000</th><th scope=col>ag_000</th><th scope=col>...</th><th scope=col>ee_004</th><th scope=col>ee_005</th><th scope=col>ee_006</th><th scope=col>ee_007</th><th scope=col>ee_008</th><th scope=col>ee_009</th><th scope=col>ef_000</th><th scope=col>eg_000</th></tr></thead>\n",
       "<tbody>\n",
       "\t<tr><td>ok      </td><td>   60   </td><td>0.000000</td><td>  20    </td><td> 12     </td><td>0       </td><td>0       </td><td>0       </td><td>...     </td><td>   412  </td><td>   654  </td><td>     78 </td><td>    88  </td><td>     0  </td><td>   0    </td><td>0       </td><td>0       </td></tr>\n",
       "\t<tr><td>ok      </td><td>   82   </td><td>0.000000</td><td>  68    </td><td> 40     </td><td>0       </td><td>0       </td><td>0       </td><td>...     </td><td>  1620  </td><td>   116  </td><td>     86 </td><td>   462  </td><td>     0  </td><td>   0    </td><td>0       </td><td>0       </td></tr>\n",
       "\t<tr><td>ok      </td><td>66002   </td><td>2.000000</td><td> 212    </td><td>112     </td><td>0       </td><td>0       </td><td>0       </td><td>...     </td><td>440134  </td><td>269556  </td><td>1315022 </td><td>153680  </td><td>   516  </td><td>   0    </td><td>0       </td><td>0       </td></tr>\n",
       "\t<tr><td>ok      </td><td>59816   </td><td>1.051948</td><td>1010    </td><td>936     </td><td>0       </td><td>0       </td><td>0       </td><td>...     </td><td>483302  </td><td>485332  </td><td> 431376 </td><td>210074  </td><td>281662  </td><td>3232    </td><td>0       </td><td>0       </td></tr>\n",
       "\t<tr><td>...</td><td>...</td><td>...</td><td>...</td><td>...</td><td>...</td><td>...</td><td>...</td><td>   </td><td>...</td><td>...</td><td>...</td><td>...</td><td>...</td><td>...</td><td>...</td><td>...</td></tr>\n",
       "\t<tr><td>ok      </td><td>   18   </td><td>0.000000</td><td>  52    </td><td>  46    </td><td>8       </td><td>26      </td><td>0       </td><td>...     </td><td>    46  </td><td>    14  </td><td>     2  </td><td>     0  </td><td>     0  </td><td>    0   </td><td>0       </td><td>0       </td></tr>\n",
       "\t<tr><td>ok      </td><td>79636   </td><td>1.051948</td><td>1670    </td><td>1518    </td><td>0       </td><td> 0      </td><td>0       </td><td>...     </td><td>778826  </td><td>581558  </td><td>375498  </td><td>222866  </td><td>358934  </td><td>19548   </td><td>0       </td><td>0       </td></tr>\n",
       "\t<tr><td>ok      </td><td>  110   </td><td>1.051948</td><td>  36    </td><td>  32    </td><td>0       </td><td> 0      </td><td>0       </td><td>...     </td><td>   180  </td><td>   544  </td><td>  1004  </td><td>  1338  </td><td>    74  </td><td>    0   </td><td>0       </td><td>0       </td></tr>\n",
       "\t<tr><td>ok      </td><td>    8   </td><td>0.000000</td><td>   6    </td><td>   4    </td><td>2       </td><td> 2      </td><td>0       </td><td>...     </td><td>    48  </td><td>    14  </td><td>    42  </td><td>    46  </td><td>     0  </td><td>    0   </td><td>0       </td><td>0       </td></tr>\n",
       "</tbody>\n",
       "</table>\n"
      ],
      "text/latex": [
       "\\begin{tabular}{r|lllllllllllllllllllllllllllllllllllllllllllllllllllllllllllllllllllllllllllllllllllllllllllllllllllllllllllllllllllllllllllllllllllllllllllllllllllllllllllllllllllllllllll}\n",
       " class & aa\\_000 & ab\\_000 & ac\\_000 & ad\\_000 & ae\\_000 & af\\_000 & ag\\_000 & ... & ee\\_004 & ee\\_005 & ee\\_006 & ee\\_007 & ee\\_008 & ee\\_009 & ef\\_000 & eg\\_000\\\\\n",
       "\\hline\n",
       "\t ok       &    60    & 0.000000 &   20     &  12      & 0        & 0        & 0        & ...      &    412   &    654   &      78  &     88   &      0   &    0     & 0        & 0       \\\\\n",
       "\t ok       &    82    & 0.000000 &   68     &  40      & 0        & 0        & 0        & ...      &   1620   &    116   &      86  &    462   &      0   &    0     & 0        & 0       \\\\\n",
       "\t ok       & 66002    & 2.000000 &  212     & 112      & 0        & 0        & 0        & ...      & 440134   & 269556   & 1315022  & 153680   &    516   &    0     & 0        & 0       \\\\\n",
       "\t ok       & 59816    & 1.051948 & 1010     & 936      & 0        & 0        & 0        & ...      & 483302   & 485332   &  431376  & 210074   & 281662   & 3232     & 0        & 0       \\\\\n",
       "\t ... & ... & ... & ... & ... & ... & ... & ... &     & ... & ... & ... & ... & ... & ... & ... & ...\\\\\n",
       "\t ok       &    18    & 0.000000 &   52     &   46     & 8        & 26       & 0        & ...      &     46   &     14   &      2   &      0   &      0   &     0    & 0        & 0       \\\\\n",
       "\t ok       & 79636    & 1.051948 & 1670     & 1518     & 0        &  0       & 0        & ...      & 778826   & 581558   & 375498   & 222866   & 358934   & 19548    & 0        & 0       \\\\\n",
       "\t ok       &   110    & 1.051948 &   36     &   32     & 0        &  0       & 0        & ...      &    180   &    544   &   1004   &   1338   &     74   &     0    & 0        & 0       \\\\\n",
       "\t ok       &     8    & 0.000000 &    6     &    4     & 2        &  2       & 0        & ...      &     48   &     14   &     42   &     46   &      0   &     0    & 0        & 0       \\\\\n",
       "\\end{tabular}\n"
      ],
      "text/markdown": [
       "\n",
       "class | aa_000 | ab_000 | ac_000 | ad_000 | ae_000 | af_000 | ag_000 | ... | ee_004 | ee_005 | ee_006 | ee_007 | ee_008 | ee_009 | ef_000 | eg_000 | \n",
       "|---|---|---|---|---|---|---|---|---|\n",
       "| ok       |    60    | 0.000000 |   20     |  12      | 0        | 0        | 0        | ...      |    412   |    654   |      78  |     88   |      0   |    0     | 0        | 0        | \n",
       "| ok       |    82    | 0.000000 |   68     |  40      | 0        | 0        | 0        | ...      |   1620   |    116   |      86  |    462   |      0   |    0     | 0        | 0        | \n",
       "| ok       | 66002    | 2.000000 |  212     | 112      | 0        | 0        | 0        | ...      | 440134   | 269556   | 1315022  | 153680   |    516   |    0     | 0        | 0        | \n",
       "| ok       | 59816    | 1.051948 | 1010     | 936      | 0        | 0        | 0        | ...      | 483302   | 485332   |  431376  | 210074   | 281662   | 3232     | 0        | 0        | \n",
       "| ... | ... | ... | ... | ... | ... | ... | ... |     | ... | ... | ... | ... | ... | ... | ... | ... | \n",
       "| ok       |    18    | 0.000000 |   52     |   46     | 8        | 26       | 0        | ...      |     46   |     14   |      2   |      0   |      0   |     0    | 0        | 0        | \n",
       "| ok       | 79636    | 1.051948 | 1670     | 1518     | 0        |  0       | 0        | ...      | 778826   | 581558   | 375498   | 222866   | 358934   | 19548    | 0        | 0        | \n",
       "| ok       |   110    | 1.051948 |   36     |   32     | 0        |  0       | 0        | ...      |    180   |    544   |   1004   |   1338   |     74   |     0    | 0        | 0        | \n",
       "| ok       |     8    | 0.000000 |    6     |    4     | 2        |  2       | 0        | ...      |     48   |     14   |     42   |     46   |      0   |     0    | 0        | 0        | \n",
       "\n",
       "\n"
      ],
      "text/plain": [
       "      class aa_000 ab_000   ac_000 ad_000 ae_000 af_000 ag_000 ... ee_004\n",
       "1     ok       60  0.000000   20    12    0      0      0      ...    412\n",
       "2     ok       82  0.000000   68    40    0      0      0      ...   1620\n",
       "3     ok    66002  2.000000  212   112    0      0      0      ... 440134\n",
       "4     ok    59816  1.051948 1010   936    0      0      0      ... 483302\n",
       "...   ...   ...    ...      ...    ...    ...    ...    ...        ...   \n",
       "15997 ok       18  0.000000   52     46   8      26     0      ...     46\n",
       "15998 ok    79636  1.051948 1670   1518   0       0     0      ... 778826\n",
       "15999 ok      110  1.051948   36     32   0       0     0      ...    180\n",
       "16000 ok        8  0.000000    6      4   2       2     0      ...     48\n",
       "      ee_005 ee_006  ee_007 ee_008 ee_009 ef_000 eg_000\n",
       "1        654      78     88      0    0   0      0     \n",
       "2        116      86    462      0    0   0      0     \n",
       "3     269556 1315022 153680    516    0   0      0     \n",
       "4     485332  431376 210074 281662 3232   0      0     \n",
       "...   ...    ...     ...    ...    ...    ...    ...   \n",
       "15997     14      2       0      0     0  0      0     \n",
       "15998 581558 375498  222866 358934 19548  0      0     \n",
       "15999    544   1004    1338     74     0  0      0     \n",
       "16000     14     42      46      0     0  0      0     "
      ]
     },
     "metadata": {},
     "output_type": "display_data"
    }
   ],
   "source": [
    "a = apply_each(data.5, mean, na.rm=TRUE)                               \n",
    "data.new.6 = impute.assign_each(data.new.1, a)\n",
    "dim(data.new.6)\n",
    "data.new.6"
   ]
  },
  {
   "cell_type": "markdown",
   "metadata": {},
   "source": [
    "<br>\n",
    "#### Prepare new data for models 7 and 8.\n",
    "\n",
    "Represent the new data in terms of principal components based on the centroid and weights for the _original_ balanced data.  This is `data.new.7`.\n",
    "\n",
    "Note, both models 7 and 8 accept the same data representation."
   ]
  },
  {
   "cell_type": "code",
   "execution_count": 58,
   "metadata": {
    "scrolled": true
   },
   "outputs": [
    {
     "data": {
      "text/html": [
       "<ol class=list-inline>\n",
       "\t<li>16000</li>\n",
       "\t<li>29</li>\n",
       "</ol>\n"
      ],
      "text/latex": [
       "\\begin{enumerate*}\n",
       "\\item 16000\n",
       "\\item 29\n",
       "\\end{enumerate*}\n"
      ],
      "text/markdown": [
       "1. 16000\n",
       "2. 29\n",
       "\n",
       "\n"
      ],
      "text/plain": [
       "[1] 16000    29"
      ]
     },
     "metadata": {},
     "output_type": "display_data"
    },
    {
     "data": {
      "text/html": [
       "<table>\n",
       "<thead><tr><th scope=col>class</th><th scope=col>PC1</th><th scope=col>PC2</th><th scope=col>PC3</th><th scope=col>PC4</th><th scope=col>PC5</th><th scope=col>PC6</th><th scope=col>PC7</th><th scope=col>...</th><th scope=col>PC21</th><th scope=col>PC22</th><th scope=col>PC23</th><th scope=col>PC24</th><th scope=col>PC25</th><th scope=col>PC26</th><th scope=col>PC27</th><th scope=col>PC28</th></tr></thead>\n",
       "<tbody>\n",
       "\t<tr><td>ok         </td><td>-5.830380  </td><td> 0.3325983 </td><td> 0.3191010 </td><td>-0.80949427</td><td>-0.1884503 </td><td>-0.04791406</td><td> 0.23967025</td><td>...        </td><td> 0.18094266</td><td> 0.2971264 </td><td> 0.2134946 </td><td> 0.08225675</td><td>0.2004122  </td><td>-0.1271957 </td><td> 0.02453845</td><td> 0.02482875</td></tr>\n",
       "\t<tr><td>ok         </td><td>-5.886582  </td><td> 0.3591402 </td><td> 0.3258185 </td><td>-0.90081857</td><td>-0.1565918 </td><td>-0.02846945</td><td> 0.29057038</td><td>...        </td><td> 0.21040882</td><td> 0.4561348 </td><td> 0.3070061 </td><td> 0.11475712</td><td>0.2057129  </td><td>-0.1912528 </td><td>-0.05082809</td><td> 0.00194574</td></tr>\n",
       "\t<tr><td>ok         </td><td>-4.324383  </td><td>-0.3926258 </td><td>-0.7090256 </td><td>-0.02955335</td><td> 0.4591573 </td><td>-0.01552219</td><td> 0.05430295</td><td>...        </td><td>-0.77954835</td><td>-0.3117283 </td><td>-0.6037102 </td><td> 0.17794610</td><td>0.2259417  </td><td> 0.2315230 </td><td>-0.02732096</td><td>-0.20225956</td></tr>\n",
       "\t<tr><td>ok         </td><td>-4.675512  </td><td> 0.4571313 </td><td>-0.6945277 </td><td>-0.68022199</td><td> 0.3610076 </td><td>-0.37244572</td><td>-0.49656775</td><td>...        </td><td>-0.04084869</td><td>-0.2603366 </td><td>-0.2086757 </td><td>-0.27770948</td><td>0.1811704  </td><td> 0.1139639 </td><td> 0.09844557</td><td> 0.09508852</td></tr>\n",
       "\t<tr><td>...</td><td>...</td><td>...</td><td>...</td><td>...</td><td>...</td><td>...</td><td>...</td><td>   </td><td>...</td><td>...</td><td>...</td><td>...</td><td>...</td><td>...</td><td>...</td><td>...</td></tr>\n",
       "\t<tr><td>ok          </td><td>-5.905596   </td><td>0.3572689   </td><td> 0.3280567  </td><td>-0.91658261 </td><td>-0.1604185  </td><td>-0.01295213 </td><td> 0.3127036  </td><td>...         </td><td> 0.2058927  </td><td> 0.5161224  </td><td> 0.3400021  </td><td> 0.1190504  </td><td> 0.2072489  </td><td>-0.2055985  </td><td>-0.06279617 </td><td>-0.024097762</td></tr>\n",
       "\t<tr><td>ok          </td><td>-3.983281   </td><td>0.4832146   </td><td>-0.7053557  </td><td>-0.01460177 </td><td> 0.8996064  </td><td>-0.32030111 </td><td>-0.6916706  </td><td>...         </td><td>-0.6718677  </td><td>-1.3162935  </td><td>-0.7771652  </td><td>-0.2230419  </td><td>-1.3886140  </td><td>-0.6667260  </td><td>-1.01897238 </td><td>-0.541700229</td></tr>\n",
       "\t<tr><td>ok          </td><td>-5.854264   </td><td>0.3250565   </td><td> 0.3171148  </td><td>-0.84066539 </td><td>-0.1443804  </td><td>-0.02197647 </td><td> 0.2607980  </td><td>...         </td><td> 0.1300974  </td><td> 0.3956229  </td><td> 0.2898446  </td><td> 0.1494092  </td><td> 0.1825494  </td><td>-0.2121579  </td><td>-0.04439329 </td><td> 0.057736321</td></tr>\n",
       "\t<tr><td>ok          </td><td>-5.913317   </td><td>0.3708473   </td><td> 0.3340481  </td><td>-0.93211732 </td><td>-0.1711238  </td><td>-0.01092358 </td><td> 0.3006504  </td><td>...         </td><td> 0.2216386  </td><td> 0.5030755  </td><td> 0.3349589  </td><td> 0.1318163  </td><td> 0.2107652  </td><td>-0.2092086  </td><td>-0.06696616 </td><td>-0.007511138</td></tr>\n",
       "</tbody>\n",
       "</table>\n"
      ],
      "text/latex": [
       "\\begin{tabular}{r|lllllllllllllllllllllllllllll}\n",
       " class & PC1 & PC2 & PC3 & PC4 & PC5 & PC6 & PC7 & ... & PC21 & PC22 & PC23 & PC24 & PC25 & PC26 & PC27 & PC28\\\\\n",
       "\\hline\n",
       "\t ok          & -5.830380   &  0.3325983  &  0.3191010  & -0.80949427 & -0.1884503  & -0.04791406 &  0.23967025 & ...         &  0.18094266 &  0.2971264  &  0.2134946  &  0.08225675 & 0.2004122   & -0.1271957  &  0.02453845 &  0.02482875\\\\\n",
       "\t ok          & -5.886582   &  0.3591402  &  0.3258185  & -0.90081857 & -0.1565918  & -0.02846945 &  0.29057038 & ...         &  0.21040882 &  0.4561348  &  0.3070061  &  0.11475712 & 0.2057129   & -0.1912528  & -0.05082809 &  0.00194574\\\\\n",
       "\t ok          & -4.324383   & -0.3926258  & -0.7090256  & -0.02955335 &  0.4591573  & -0.01552219 &  0.05430295 & ...         & -0.77954835 & -0.3117283  & -0.6037102  &  0.17794610 & 0.2259417   &  0.2315230  & -0.02732096 & -0.20225956\\\\\n",
       "\t ok          & -4.675512   &  0.4571313  & -0.6945277  & -0.68022199 &  0.3610076  & -0.37244572 & -0.49656775 & ...         & -0.04084869 & -0.2603366  & -0.2086757  & -0.27770948 & 0.1811704   &  0.1139639  &  0.09844557 &  0.09508852\\\\\n",
       "\t ... & ... & ... & ... & ... & ... & ... & ... &     & ... & ... & ... & ... & ... & ... & ... & ...\\\\\n",
       "\t ok           & -5.905596    & 0.3572689    &  0.3280567   & -0.91658261  & -0.1604185   & -0.01295213  &  0.3127036   & ...          &  0.2058927   &  0.5161224   &  0.3400021   &  0.1190504   &  0.2072489   & -0.2055985   & -0.06279617  & -0.024097762\\\\\n",
       "\t ok           & -3.983281    & 0.4832146    & -0.7053557   & -0.01460177  &  0.8996064   & -0.32030111  & -0.6916706   & ...          & -0.6718677   & -1.3162935   & -0.7771652   & -0.2230419   & -1.3886140   & -0.6667260   & -1.01897238  & -0.541700229\\\\\n",
       "\t ok           & -5.854264    & 0.3250565    &  0.3171148   & -0.84066539  & -0.1443804   & -0.02197647  &  0.2607980   & ...          &  0.1300974   &  0.3956229   &  0.2898446   &  0.1494092   &  0.1825494   & -0.2121579   & -0.04439329  &  0.057736321\\\\\n",
       "\t ok           & -5.913317    & 0.3708473    &  0.3340481   & -0.93211732  & -0.1711238   & -0.01092358  &  0.3006504   & ...          &  0.2216386   &  0.5030755   &  0.3349589   &  0.1318163   &  0.2107652   & -0.2092086   & -0.06696616  & -0.007511138\\\\\n",
       "\\end{tabular}\n"
      ],
      "text/markdown": [
       "\n",
       "class | PC1 | PC2 | PC3 | PC4 | PC5 | PC6 | PC7 | ... | PC21 | PC22 | PC23 | PC24 | PC25 | PC26 | PC27 | PC28 | \n",
       "|---|---|---|---|---|---|---|---|---|\n",
       "| ok          | -5.830380   |  0.3325983  |  0.3191010  | -0.80949427 | -0.1884503  | -0.04791406 |  0.23967025 | ...         |  0.18094266 |  0.2971264  |  0.2134946  |  0.08225675 | 0.2004122   | -0.1271957  |  0.02453845 |  0.02482875 | \n",
       "| ok          | -5.886582   |  0.3591402  |  0.3258185  | -0.90081857 | -0.1565918  | -0.02846945 |  0.29057038 | ...         |  0.21040882 |  0.4561348  |  0.3070061  |  0.11475712 | 0.2057129   | -0.1912528  | -0.05082809 |  0.00194574 | \n",
       "| ok          | -4.324383   | -0.3926258  | -0.7090256  | -0.02955335 |  0.4591573  | -0.01552219 |  0.05430295 | ...         | -0.77954835 | -0.3117283  | -0.6037102  |  0.17794610 | 0.2259417   |  0.2315230  | -0.02732096 | -0.20225956 | \n",
       "| ok          | -4.675512   |  0.4571313  | -0.6945277  | -0.68022199 |  0.3610076  | -0.37244572 | -0.49656775 | ...         | -0.04084869 | -0.2603366  | -0.2086757  | -0.27770948 | 0.1811704   |  0.1139639  |  0.09844557 |  0.09508852 | \n",
       "| ... | ... | ... | ... | ... | ... | ... | ... |     | ... | ... | ... | ... | ... | ... | ... | ... | \n",
       "| ok           | -5.905596    | 0.3572689    |  0.3280567   | -0.91658261  | -0.1604185   | -0.01295213  |  0.3127036   | ...          |  0.2058927   |  0.5161224   |  0.3400021   |  0.1190504   |  0.2072489   | -0.2055985   | -0.06279617  | -0.024097762 | \n",
       "| ok           | -3.983281    | 0.4832146    | -0.7053557   | -0.01460177  |  0.8996064   | -0.32030111  | -0.6916706   | ...          | -0.6718677   | -1.3162935   | -0.7771652   | -0.2230419   | -1.3886140   | -0.6667260   | -1.01897238  | -0.541700229 | \n",
       "| ok           | -5.854264    | 0.3250565    |  0.3171148   | -0.84066539  | -0.1443804   | -0.02197647  |  0.2607980   | ...          |  0.1300974   |  0.3956229   |  0.2898446   |  0.1494092   |  0.1825494   | -0.2121579   | -0.04439329  |  0.057736321 | \n",
       "| ok           | -5.913317    | 0.3708473    |  0.3340481   | -0.93211732  | -0.1711238   | -0.01092358  |  0.3006504   | ...          |  0.2216386   |  0.5030755   |  0.3349589   |  0.1318163   |  0.2107652   | -0.2092086   | -0.06696616  | -0.007511138 | \n",
       "\n",
       "\n"
      ],
      "text/plain": [
       "      class PC1       PC2        PC3        PC4         PC5        PC6        \n",
       "1     ok    -5.830380  0.3325983  0.3191010 -0.80949427 -0.1884503 -0.04791406\n",
       "2     ok    -5.886582  0.3591402  0.3258185 -0.90081857 -0.1565918 -0.02846945\n",
       "3     ok    -4.324383 -0.3926258 -0.7090256 -0.02955335  0.4591573 -0.01552219\n",
       "4     ok    -4.675512  0.4571313 -0.6945277 -0.68022199  0.3610076 -0.37244572\n",
       "...   ...   ...       ...        ...        ...         ...        ...        \n",
       "15997 ok    -5.905596 0.3572689   0.3280567 -0.91658261 -0.1604185 -0.01295213\n",
       "15998 ok    -3.983281 0.4832146  -0.7053557 -0.01460177  0.8996064 -0.32030111\n",
       "15999 ok    -5.854264 0.3250565   0.3171148 -0.84066539 -0.1443804 -0.02197647\n",
       "16000 ok    -5.913317 0.3708473   0.3340481 -0.93211732 -0.1711238 -0.01092358\n",
       "      PC7         ... PC21        PC22       PC23       PC24        PC25      \n",
       "1      0.23967025 ...  0.18094266  0.2971264  0.2134946  0.08225675 0.2004122 \n",
       "2      0.29057038 ...  0.21040882  0.4561348  0.3070061  0.11475712 0.2057129 \n",
       "3      0.05430295 ... -0.77954835 -0.3117283 -0.6037102  0.17794610 0.2259417 \n",
       "4     -0.49656775 ... -0.04084869 -0.2603366 -0.2086757 -0.27770948 0.1811704 \n",
       "...   ...             ...         ...        ...        ...         ...       \n",
       "15997  0.3127036  ...  0.2058927   0.5161224  0.3400021  0.1190504   0.2072489\n",
       "15998 -0.6916706  ... -0.6718677  -1.3162935 -0.7771652 -0.2230419  -1.3886140\n",
       "15999  0.2607980  ...  0.1300974   0.3956229  0.2898446  0.1494092   0.1825494\n",
       "16000  0.3006504  ...  0.2216386   0.5030755  0.3349589  0.1318163   0.2107652\n",
       "      PC26       PC27        PC28        \n",
       "1     -0.1271957  0.02453845  0.02482875 \n",
       "2     -0.1912528 -0.05082809  0.00194574 \n",
       "3      0.2315230 -0.02732096 -0.20225956 \n",
       "4      0.1139639  0.09844557  0.09508852 \n",
       "...   ...        ...         ...         \n",
       "15997 -0.2055985 -0.06279617 -0.024097762\n",
       "15998 -0.6667260 -1.01897238 -0.541700229\n",
       "15999 -0.2121579 -0.04439329  0.057736321\n",
       "16000 -0.2092086 -0.06696616 -0.007511138"
      ]
     },
     "metadata": {},
     "output_type": "display_data"
    }
   ],
   "source": [
    "data.new.7 = cbind(data.new.6[,\"class\",drop=FALSE], predict(pc.7, data.new.6))[,1:ncol(data.7)]\n",
    "dim(data.new.7)\n",
    "data.new.7"
   ]
  },
  {
   "cell_type": "markdown",
   "metadata": {},
   "source": [
    "<br>\n",
    "___\n",
    "### Predict New APS Failures\n"
   ]
  },
  {
   "cell_type": "markdown",
   "metadata": {},
   "source": [
    "#### Predict new APS failures using model 1. "
   ]
  },
  {
   "cell_type": "code",
   "execution_count": 59,
   "metadata": {},
   "outputs": [],
   "source": [
    "prob.1 = predict(mymodel.1, data.new.1, type=\"raw\") # make take about 4 minutes"
   ]
  },
  {
   "cell_type": "code",
   "execution_count": 60,
   "metadata": {},
   "outputs": [
    {
     "data": {
      "text/plain": [
       "          Reference\n",
       "Prediction failure    ok\n",
       "   failure     338   527\n",
       "   ok           37 15098"
      ]
     },
     "metadata": {},
     "output_type": "display_data"
    },
    {
     "data": {
      "text/plain": [
       "          Reference\n",
       "Prediction   failure        ok\n",
       "   failure 0.0211250 0.0329375\n",
       "   ok      0.0023125 0.9436250"
      ]
     },
     "metadata": {},
     "output_type": "display_data"
    },
    {
     "data": {
      "text/html": [
       "<table>\n",
       "<thead><tr><th scope=col>model</th><th scope=col>cutoff</th><th scope=col>cost.unnecessary_check</th><th scope=col>count.unnecessary_check</th><th scope=col>cost.missed_failure</th><th scope=col>count.missed_failure</th><th scope=col>accuracy</th><th scope=col>cost</th></tr></thead>\n",
       "<tbody>\n",
       "\t<tr><td>1      </td><td>0.5    </td><td>10     </td><td>527    </td><td>500    </td><td>37     </td><td>0.96475</td><td>23770  </td></tr>\n",
       "</tbody>\n",
       "</table>\n"
      ],
      "text/latex": [
       "\\begin{tabular}{r|llllllll}\n",
       " model & cutoff & cost.unnecessary\\_check & count.unnecessary\\_check & cost.missed\\_failure & count.missed\\_failure & accuracy & cost\\\\\n",
       "\\hline\n",
       "\t 1       & 0.5     & 10      & 527     & 500     & 37      & 0.96475 & 23770  \\\\\n",
       "\\end{tabular}\n"
      ],
      "text/markdown": [
       "\n",
       "model | cutoff | cost.unnecessary_check | count.unnecessary_check | cost.missed_failure | count.missed_failure | accuracy | cost | \n",
       "|---|\n",
       "| 1       | 0.5     | 10      | 527     | 500     | 37      | 0.96475 | 23770   | \n",
       "\n",
       "\n"
      ],
      "text/plain": [
       "  model cutoff cost.unnecessary_check count.unnecessary_check\n",
       "1 1     0.5    10                     527                    \n",
       "  cost.missed_failure count.missed_failure accuracy cost \n",
       "1 500                 37                   0.96475  23770"
      ]
     },
     "metadata": {},
     "output_type": "display_data"
    }
   ],
   "source": [
    "cutoff = 0.5\n",
    "prediction = as.class.cutoff(prob.1, cutoff)\n",
    "cm = confusionMatrix(prediction, data.new.1$class)$table\n",
    "count.unnecessary_check =  cm[\"failure\",\"ok\"]\n",
    "count.missed_failure = cm[\"ok\",\"failure\"]\n",
    "accuracy = (sum(cm)-(count.unnecessary_check + count.missed_failure))/sum(cm)\n",
    "cost = cost.unnecessary_check*count.unnecessary_check + cost.missed_failure*count.missed_failure\n",
    "\n",
    "cm\n",
    "cm / nrow(data.new.1)\n",
    "result.1a = data.frame(model=1, cutoff, cost.unnecessary_check, count.unnecessary_check, cost.missed_failure, count.missed_failure, accuracy, cost)\n",
    "result.1a"
   ]
  },
  {
   "cell_type": "code",
   "execution_count": 61,
   "metadata": {},
   "outputs": [
    {
     "data": {
      "text/plain": [
       "          Reference\n",
       "Prediction failure    ok\n",
       "   failure     338   528\n",
       "   ok           37 15097"
      ]
     },
     "metadata": {},
     "output_type": "display_data"
    },
    {
     "data": {
      "text/plain": [
       "          Reference\n",
       "Prediction   failure        ok\n",
       "   failure 0.0211250 0.0330000\n",
       "   ok      0.0023125 0.9435625"
      ]
     },
     "metadata": {},
     "output_type": "display_data"
    },
    {
     "data": {
      "text/html": [
       "<table>\n",
       "<thead><tr><th scope=col>model</th><th scope=col>cutoff</th><th scope=col>cost.unnecessary_check</th><th scope=col>count.unnecessary_check</th><th scope=col>cost.missed_failure</th><th scope=col>count.missed_failure</th><th scope=col>accuracy</th><th scope=col>cost</th></tr></thead>\n",
       "<tbody>\n",
       "\t<tr><td>1        </td><td>0.25     </td><td>10       </td><td>528      </td><td>500      </td><td>37       </td><td>0.9646875</td><td>23780    </td></tr>\n",
       "</tbody>\n",
       "</table>\n"
      ],
      "text/latex": [
       "\\begin{tabular}{r|llllllll}\n",
       " model & cutoff & cost.unnecessary\\_check & count.unnecessary\\_check & cost.missed\\_failure & count.missed\\_failure & accuracy & cost\\\\\n",
       "\\hline\n",
       "\t 1         & 0.25      & 10        & 528       & 500       & 37        & 0.9646875 & 23780    \\\\\n",
       "\\end{tabular}\n"
      ],
      "text/markdown": [
       "\n",
       "model | cutoff | cost.unnecessary_check | count.unnecessary_check | cost.missed_failure | count.missed_failure | accuracy | cost | \n",
       "|---|\n",
       "| 1         | 0.25      | 10        | 528       | 500       | 37        | 0.9646875 | 23780     | \n",
       "\n",
       "\n"
      ],
      "text/plain": [
       "  model cutoff cost.unnecessary_check count.unnecessary_check\n",
       "1 1     0.25   10                     528                    \n",
       "  cost.missed_failure count.missed_failure accuracy  cost \n",
       "1 500                 37                   0.9646875 23780"
      ]
     },
     "metadata": {},
     "output_type": "display_data"
    }
   ],
   "source": [
    "cutoff = 0.25\n",
    "prediction = as.class.cutoff(prob.1, cutoff)\n",
    "cm = confusionMatrix(prediction, data.new.1$class)$table\n",
    "count.unnecessary_check =  cm[\"failure\",\"ok\"]\n",
    "count.missed_failure = cm[\"ok\",\"failure\"]\n",
    "accuracy = (sum(cm)-(count.unnecessary_check + count.missed_failure))/sum(cm)\n",
    "cost = cost.unnecessary_check*count.unnecessary_check + cost.missed_failure*count.missed_failure\n",
    "\n",
    "cm\n",
    "cm / nrow(data.new.1)\n",
    "result.1b = data.frame(model=1, cutoff, cost.unnecessary_check, count.unnecessary_check, cost.missed_failure, count.missed_failure, accuracy, cost)\n",
    "result.1b"
   ]
  },
  {
   "cell_type": "markdown",
   "metadata": {},
   "source": [
    "<br>\n",
    "#### Predict new APS failures using model 2. "
   ]
  },
  {
   "cell_type": "code",
   "execution_count": 62,
   "metadata": {},
   "outputs": [],
   "source": [
    "prob.2 = predict(mymodel.2, data.new.2, type=\"raw\") # make take about 4 minutes"
   ]
  },
  {
   "cell_type": "code",
   "execution_count": 63,
   "metadata": {},
   "outputs": [
    {
     "data": {
      "text/plain": [
       "          Reference\n",
       "Prediction failure    ok\n",
       "   failure     337   513\n",
       "   ok           38 15112"
      ]
     },
     "metadata": {},
     "output_type": "display_data"
    },
    {
     "data": {
      "text/plain": [
       "          Reference\n",
       "Prediction   failure        ok\n",
       "   failure 0.0210625 0.0320625\n",
       "   ok      0.0023750 0.9445000"
      ]
     },
     "metadata": {},
     "output_type": "display_data"
    },
    {
     "data": {
      "text/html": [
       "<table>\n",
       "<thead><tr><th scope=col>model</th><th scope=col>cutoff</th><th scope=col>cost.unnecessary_check</th><th scope=col>count.unnecessary_check</th><th scope=col>cost.missed_failure</th><th scope=col>count.missed_failure</th><th scope=col>accuracy</th><th scope=col>cost</th></tr></thead>\n",
       "<tbody>\n",
       "\t<tr><td>2        </td><td>0.5      </td><td>10       </td><td>513      </td><td>500      </td><td>38       </td><td>0.9655625</td><td>24130    </td></tr>\n",
       "</tbody>\n",
       "</table>\n"
      ],
      "text/latex": [
       "\\begin{tabular}{r|llllllll}\n",
       " model & cutoff & cost.unnecessary\\_check & count.unnecessary\\_check & cost.missed\\_failure & count.missed\\_failure & accuracy & cost\\\\\n",
       "\\hline\n",
       "\t 2         & 0.5       & 10        & 513       & 500       & 38        & 0.9655625 & 24130    \\\\\n",
       "\\end{tabular}\n"
      ],
      "text/markdown": [
       "\n",
       "model | cutoff | cost.unnecessary_check | count.unnecessary_check | cost.missed_failure | count.missed_failure | accuracy | cost | \n",
       "|---|\n",
       "| 2         | 0.5       | 10        | 513       | 500       | 38        | 0.9655625 | 24130     | \n",
       "\n",
       "\n"
      ],
      "text/plain": [
       "  model cutoff cost.unnecessary_check count.unnecessary_check\n",
       "1 2     0.5    10                     513                    \n",
       "  cost.missed_failure count.missed_failure accuracy  cost \n",
       "1 500                 38                   0.9655625 24130"
      ]
     },
     "metadata": {},
     "output_type": "display_data"
    }
   ],
   "source": [
    "cutoff = 0.5\n",
    "prediction = as.class.cutoff(prob.2, cutoff)\n",
    "cm = confusionMatrix(prediction, data.new.2$class)$table\n",
    "count.unnecessary_check =  cm[\"failure\",\"ok\"]\n",
    "count.missed_failure = cm[\"ok\",\"failure\"]\n",
    "accuracy = (sum(cm)-(count.unnecessary_check + count.missed_failure))/sum(cm)\n",
    "cost = cost.unnecessary_check*count.unnecessary_check + cost.missed_failure*count.missed_failure\n",
    "\n",
    "cm\n",
    "cm / nrow(data.new.2)\n",
    "result.2a = data.frame(model=2, cutoff, cost.unnecessary_check, count.unnecessary_check, cost.missed_failure, count.missed_failure, accuracy, cost)\n",
    "result.2a"
   ]
  },
  {
   "cell_type": "code",
   "execution_count": 64,
   "metadata": {},
   "outputs": [
    {
     "data": {
      "text/plain": [
       "          Reference\n",
       "Prediction failure    ok\n",
       "   failure     337   516\n",
       "   ok           38 15109"
      ]
     },
     "metadata": {},
     "output_type": "display_data"
    },
    {
     "data": {
      "text/plain": [
       "          Reference\n",
       "Prediction   failure        ok\n",
       "   failure 0.0210625 0.0322500\n",
       "   ok      0.0023750 0.9443125"
      ]
     },
     "metadata": {},
     "output_type": "display_data"
    },
    {
     "data": {
      "text/html": [
       "<table>\n",
       "<thead><tr><th scope=col>model</th><th scope=col>cutoff</th><th scope=col>cost.unnecessary_check</th><th scope=col>count.unnecessary_check</th><th scope=col>cost.missed_failure</th><th scope=col>count.missed_failure</th><th scope=col>accuracy</th><th scope=col>cost</th></tr></thead>\n",
       "<tbody>\n",
       "\t<tr><td>2       </td><td>0.25    </td><td>10      </td><td>516     </td><td>500     </td><td>38      </td><td>0.965375</td><td>24160   </td></tr>\n",
       "</tbody>\n",
       "</table>\n"
      ],
      "text/latex": [
       "\\begin{tabular}{r|llllllll}\n",
       " model & cutoff & cost.unnecessary\\_check & count.unnecessary\\_check & cost.missed\\_failure & count.missed\\_failure & accuracy & cost\\\\\n",
       "\\hline\n",
       "\t 2        & 0.25     & 10       & 516      & 500      & 38       & 0.965375 & 24160   \\\\\n",
       "\\end{tabular}\n"
      ],
      "text/markdown": [
       "\n",
       "model | cutoff | cost.unnecessary_check | count.unnecessary_check | cost.missed_failure | count.missed_failure | accuracy | cost | \n",
       "|---|\n",
       "| 2        | 0.25     | 10       | 516      | 500      | 38       | 0.965375 | 24160    | \n",
       "\n",
       "\n"
      ],
      "text/plain": [
       "  model cutoff cost.unnecessary_check count.unnecessary_check\n",
       "1 2     0.25   10                     516                    \n",
       "  cost.missed_failure count.missed_failure accuracy cost \n",
       "1 500                 38                   0.965375 24160"
      ]
     },
     "metadata": {},
     "output_type": "display_data"
    }
   ],
   "source": [
    "cutoff = 0.25\n",
    "prediction = as.class.cutoff(prob.2, cutoff)\n",
    "cm = confusionMatrix(prediction, data.new.2$class)$table\n",
    "count.unnecessary_check =  cm[\"failure\",\"ok\"]\n",
    "count.missed_failure = cm[\"ok\",\"failure\"]\n",
    "accuracy = (sum(cm)-(count.unnecessary_check + count.missed_failure))/sum(cm)\n",
    "cost = cost.unnecessary_check*count.unnecessary_check + cost.missed_failure*count.missed_failure\n",
    "\n",
    "cm\n",
    "cm / nrow(data.new.2)\n",
    "result.2b = data.frame(model=2, cutoff, cost.unnecessary_check, count.unnecessary_check, cost.missed_failure, count.missed_failure, accuracy, cost)\n",
    "result.2b"
   ]
  },
  {
   "cell_type": "markdown",
   "metadata": {},
   "source": [
    "<br>\n",
    "#### Predict new APS failures using model 3.  "
   ]
  },
  {
   "cell_type": "code",
   "execution_count": 65,
   "metadata": {},
   "outputs": [],
   "source": [
    "prob.3 = predict(mymodel.3, data.new.3, type=\"raw\") # may take about 30 seconds"
   ]
  },
  {
   "cell_type": "code",
   "execution_count": 66,
   "metadata": {},
   "outputs": [
    {
     "data": {
      "text/plain": [
       "          Reference\n",
       "Prediction failure    ok\n",
       "   failure     295   386\n",
       "   ok           80 15239"
      ]
     },
     "metadata": {},
     "output_type": "display_data"
    },
    {
     "data": {
      "text/plain": [
       "          Reference\n",
       "Prediction   failure        ok\n",
       "   failure 0.0184375 0.0241250\n",
       "   ok      0.0050000 0.9524375"
      ]
     },
     "metadata": {},
     "output_type": "display_data"
    },
    {
     "data": {
      "text/html": [
       "<table>\n",
       "<thead><tr><th scope=col>model</th><th scope=col>cutoff</th><th scope=col>cost.unnecessary_check</th><th scope=col>count.unnecessary_check</th><th scope=col>cost.missed_failure</th><th scope=col>count.missed_failure</th><th scope=col>accuracy</th><th scope=col>cost</th></tr></thead>\n",
       "<tbody>\n",
       "\t<tr><td>3       </td><td>0.5     </td><td>10      </td><td>386     </td><td>500     </td><td>80      </td><td>0.970875</td><td>43860   </td></tr>\n",
       "</tbody>\n",
       "</table>\n"
      ],
      "text/latex": [
       "\\begin{tabular}{r|llllllll}\n",
       " model & cutoff & cost.unnecessary\\_check & count.unnecessary\\_check & cost.missed\\_failure & count.missed\\_failure & accuracy & cost\\\\\n",
       "\\hline\n",
       "\t 3        & 0.5      & 10       & 386      & 500      & 80       & 0.970875 & 43860   \\\\\n",
       "\\end{tabular}\n"
      ],
      "text/markdown": [
       "\n",
       "model | cutoff | cost.unnecessary_check | count.unnecessary_check | cost.missed_failure | count.missed_failure | accuracy | cost | \n",
       "|---|\n",
       "| 3        | 0.5      | 10       | 386      | 500      | 80       | 0.970875 | 43860    | \n",
       "\n",
       "\n"
      ],
      "text/plain": [
       "  model cutoff cost.unnecessary_check count.unnecessary_check\n",
       "1 3     0.5    10                     386                    \n",
       "  cost.missed_failure count.missed_failure accuracy cost \n",
       "1 500                 80                   0.970875 43860"
      ]
     },
     "metadata": {},
     "output_type": "display_data"
    }
   ],
   "source": [
    "cutoff = 0.5\n",
    "prediction = as.class.cutoff(prob.3, cutoff)\n",
    "cm = confusionMatrix(prediction, data.new.3$class)$table\n",
    "count.unnecessary_check =  cm[\"failure\",\"ok\"]\n",
    "count.missed_failure = cm[\"ok\",\"failure\"]\n",
    "accuracy = (sum(cm)-(count.unnecessary_check + count.missed_failure))/sum(cm)\n",
    "cost = cost.unnecessary_check*count.unnecessary_check + cost.missed_failure*count.missed_failure\n",
    "\n",
    "cm\n",
    "cm / nrow(data.new.3)\n",
    "result.3a = data.frame(model=3, cutoff, cost.unnecessary_check, count.unnecessary_check, cost.missed_failure, count.missed_failure, accuracy, cost)\n",
    "result.3a"
   ]
  },
  {
   "cell_type": "code",
   "execution_count": 67,
   "metadata": {},
   "outputs": [
    {
     "data": {
      "text/plain": [
       "          Reference\n",
       "Prediction failure    ok\n",
       "   failure     296   392\n",
       "   ok           79 15233"
      ]
     },
     "metadata": {},
     "output_type": "display_data"
    },
    {
     "data": {
      "text/plain": [
       "          Reference\n",
       "Prediction   failure        ok\n",
       "   failure 0.0185000 0.0245000\n",
       "   ok      0.0049375 0.9520625"
      ]
     },
     "metadata": {},
     "output_type": "display_data"
    },
    {
     "data": {
      "text/html": [
       "<table>\n",
       "<thead><tr><th scope=col>model</th><th scope=col>cutoff</th><th scope=col>cost.unnecessary_check</th><th scope=col>count.unnecessary_check</th><th scope=col>cost.missed_failure</th><th scope=col>count.missed_failure</th><th scope=col>accuracy</th><th scope=col>cost</th></tr></thead>\n",
       "<tbody>\n",
       "\t<tr><td>3        </td><td>0.25     </td><td>10       </td><td>392      </td><td>500      </td><td>79       </td><td>0.9705625</td><td>43420    </td></tr>\n",
       "</tbody>\n",
       "</table>\n"
      ],
      "text/latex": [
       "\\begin{tabular}{r|llllllll}\n",
       " model & cutoff & cost.unnecessary\\_check & count.unnecessary\\_check & cost.missed\\_failure & count.missed\\_failure & accuracy & cost\\\\\n",
       "\\hline\n",
       "\t 3         & 0.25      & 10        & 392       & 500       & 79        & 0.9705625 & 43420    \\\\\n",
       "\\end{tabular}\n"
      ],
      "text/markdown": [
       "\n",
       "model | cutoff | cost.unnecessary_check | count.unnecessary_check | cost.missed_failure | count.missed_failure | accuracy | cost | \n",
       "|---|\n",
       "| 3         | 0.25      | 10        | 392       | 500       | 79        | 0.9705625 | 43420     | \n",
       "\n",
       "\n"
      ],
      "text/plain": [
       "  model cutoff cost.unnecessary_check count.unnecessary_check\n",
       "1 3     0.25   10                     392                    \n",
       "  cost.missed_failure count.missed_failure accuracy  cost \n",
       "1 500                 79                   0.9705625 43420"
      ]
     },
     "metadata": {},
     "output_type": "display_data"
    }
   ],
   "source": [
    "cutoff = 0.25\n",
    "prediction = as.class.cutoff(prob.3, cutoff)\n",
    "cm = confusionMatrix(prediction, data.new.3$class)$table\n",
    "count.unnecessary_check =  cm[\"failure\",\"ok\"]\n",
    "count.missed_failure = cm[\"ok\",\"failure\"]\n",
    "accuracy = (sum(cm)-(count.unnecessary_check + count.missed_failure))/sum(cm)\n",
    "cost = cost.unnecessary_check*count.unnecessary_check + cost.missed_failure*count.missed_failure\n",
    "\n",
    "cm\n",
    "cm / nrow(data.new.3)\n",
    "result.3b = data.frame(model=3, cutoff, cost.unnecessary_check, count.unnecessary_check, cost.missed_failure, count.missed_failure, accuracy, cost)\n",
    "result.3b"
   ]
  },
  {
   "cell_type": "markdown",
   "metadata": {},
   "source": [
    "<br>\n",
    "#### Predict new APS failures using model 4. "
   ]
  },
  {
   "cell_type": "code",
   "execution_count": 68,
   "metadata": {},
   "outputs": [],
   "source": [
    "prob.4 = predict(mymodel.4, data.new.3, type=\"raw\")"
   ]
  },
  {
   "cell_type": "code",
   "execution_count": 69,
   "metadata": {},
   "outputs": [
    {
     "data": {
      "text/plain": [
       "          Reference\n",
       "Prediction failure    ok\n",
       "   failure     255   237\n",
       "   ok          120 15388"
      ]
     },
     "metadata": {},
     "output_type": "display_data"
    },
    {
     "data": {
      "text/plain": [
       "          Reference\n",
       "Prediction   failure        ok\n",
       "   failure 0.0159375 0.0148125\n",
       "   ok      0.0075000 0.9617500"
      ]
     },
     "metadata": {},
     "output_type": "display_data"
    },
    {
     "data": {
      "text/html": [
       "<table>\n",
       "<thead><tr><th scope=col>model</th><th scope=col>cutoff</th><th scope=col>cost.unnecessary_check</th><th scope=col>count.unnecessary_check</th><th scope=col>cost.missed_failure</th><th scope=col>count.missed_failure</th><th scope=col>accuracy</th><th scope=col>cost</th></tr></thead>\n",
       "<tbody>\n",
       "\t<tr><td>4        </td><td>0.5      </td><td>10       </td><td>237      </td><td>500      </td><td>120      </td><td>0.9776875</td><td>62370    </td></tr>\n",
       "</tbody>\n",
       "</table>\n"
      ],
      "text/latex": [
       "\\begin{tabular}{r|llllllll}\n",
       " model & cutoff & cost.unnecessary\\_check & count.unnecessary\\_check & cost.missed\\_failure & count.missed\\_failure & accuracy & cost\\\\\n",
       "\\hline\n",
       "\t 4         & 0.5       & 10        & 237       & 500       & 120       & 0.9776875 & 62370    \\\\\n",
       "\\end{tabular}\n"
      ],
      "text/markdown": [
       "\n",
       "model | cutoff | cost.unnecessary_check | count.unnecessary_check | cost.missed_failure | count.missed_failure | accuracy | cost | \n",
       "|---|\n",
       "| 4         | 0.5       | 10        | 237       | 500       | 120       | 0.9776875 | 62370     | \n",
       "\n",
       "\n"
      ],
      "text/plain": [
       "  model cutoff cost.unnecessary_check count.unnecessary_check\n",
       "1 4     0.5    10                     237                    \n",
       "  cost.missed_failure count.missed_failure accuracy  cost \n",
       "1 500                 120                  0.9776875 62370"
      ]
     },
     "metadata": {},
     "output_type": "display_data"
    }
   ],
   "source": [
    "cutoff = 0.5\n",
    "prediction = as.class.cutoff(prob.4, cutoff)\n",
    "cm = confusionMatrix(prediction, data.new.3$class)$table\n",
    "count.unnecessary_check =  cm[\"failure\",\"ok\"]\n",
    "count.missed_failure = cm[\"ok\",\"failure\"]\n",
    "accuracy = (sum(cm)-(count.unnecessary_check + count.missed_failure))/sum(cm)\n",
    "cost = cost.unnecessary_check*count.unnecessary_check + cost.missed_failure*count.missed_failure\n",
    "\n",
    "cm\n",
    "cm / nrow(data.new.3)\n",
    "result.4a = data.frame(model=4, cutoff, cost.unnecessary_check, count.unnecessary_check, cost.missed_failure, count.missed_failure, accuracy, cost)\n",
    "result.4a"
   ]
  },
  {
   "cell_type": "code",
   "execution_count": 70,
   "metadata": {},
   "outputs": [
    {
     "data": {
      "text/plain": [
       "          Reference\n",
       "Prediction failure    ok\n",
       "   failure     267   269\n",
       "   ok          108 15356"
      ]
     },
     "metadata": {},
     "output_type": "display_data"
    },
    {
     "data": {
      "text/plain": [
       "          Reference\n",
       "Prediction   failure        ok\n",
       "   failure 0.0166875 0.0168125\n",
       "   ok      0.0067500 0.9597500"
      ]
     },
     "metadata": {},
     "output_type": "display_data"
    },
    {
     "data": {
      "text/html": [
       "<table>\n",
       "<thead><tr><th scope=col>model</th><th scope=col>cutoff</th><th scope=col>cost.unnecessary_check</th><th scope=col>count.unnecessary_check</th><th scope=col>cost.missed_failure</th><th scope=col>count.missed_failure</th><th scope=col>accuracy</th><th scope=col>cost</th></tr></thead>\n",
       "<tbody>\n",
       "\t<tr><td>4        </td><td>0.25     </td><td>10       </td><td>269      </td><td>500      </td><td>108      </td><td>0.9764375</td><td>56690    </td></tr>\n",
       "</tbody>\n",
       "</table>\n"
      ],
      "text/latex": [
       "\\begin{tabular}{r|llllllll}\n",
       " model & cutoff & cost.unnecessary\\_check & count.unnecessary\\_check & cost.missed\\_failure & count.missed\\_failure & accuracy & cost\\\\\n",
       "\\hline\n",
       "\t 4         & 0.25      & 10        & 269       & 500       & 108       & 0.9764375 & 56690    \\\\\n",
       "\\end{tabular}\n"
      ],
      "text/markdown": [
       "\n",
       "model | cutoff | cost.unnecessary_check | count.unnecessary_check | cost.missed_failure | count.missed_failure | accuracy | cost | \n",
       "|---|\n",
       "| 4         | 0.25      | 10        | 269       | 500       | 108       | 0.9764375 | 56690     | \n",
       "\n",
       "\n"
      ],
      "text/plain": [
       "  model cutoff cost.unnecessary_check count.unnecessary_check\n",
       "1 4     0.25   10                     269                    \n",
       "  cost.missed_failure count.missed_failure accuracy  cost \n",
       "1 500                 108                  0.9764375 56690"
      ]
     },
     "metadata": {},
     "output_type": "display_data"
    }
   ],
   "source": [
    "cutoff = 0.25\n",
    "prediction = as.class.cutoff(prob.4, cutoff)\n",
    "cm = confusionMatrix(prediction, data.new.3$class)$table\n",
    "count.unnecessary_check =  cm[\"failure\",\"ok\"]\n",
    "count.missed_failure = cm[\"ok\",\"failure\"]\n",
    "accuracy = (sum(cm)-(count.unnecessary_check + count.missed_failure))/sum(cm)\n",
    "cost = cost.unnecessary_check*count.unnecessary_check + cost.missed_failure*count.missed_failure\n",
    "\n",
    "cm\n",
    "cm / nrow(data.new.3)\n",
    "result.4b = data.frame(model=4, cutoff, cost.unnecessary_check, count.unnecessary_check, cost.missed_failure, count.missed_failure, accuracy, cost)\n",
    "result.4b"
   ]
  },
  {
   "cell_type": "markdown",
   "metadata": {},
   "source": [
    "<br>\n",
    "#### Predict new APS failures using model 5. "
   ]
  },
  {
   "cell_type": "code",
   "execution_count": 71,
   "metadata": {},
   "outputs": [],
   "source": [
    "prob.5 = predict(mymodel.5, data.new.1, type=\"raw\") # make take about 45 seconds"
   ]
  },
  {
   "cell_type": "code",
   "execution_count": 72,
   "metadata": {},
   "outputs": [
    {
     "data": {
      "text/plain": [
       "          Reference\n",
       "Prediction failure    ok\n",
       "   failure     353   708\n",
       "   ok           22 14917"
      ]
     },
     "metadata": {},
     "output_type": "display_data"
    },
    {
     "data": {
      "text/plain": [
       "          Reference\n",
       "Prediction   failure        ok\n",
       "   failure 0.0220625 0.0442500\n",
       "   ok      0.0013750 0.9323125"
      ]
     },
     "metadata": {},
     "output_type": "display_data"
    },
    {
     "data": {
      "text/html": [
       "<table>\n",
       "<thead><tr><th scope=col>model</th><th scope=col>cutoff</th><th scope=col>cost.unnecessary_check</th><th scope=col>count.unnecessary_check</th><th scope=col>cost.missed_failure</th><th scope=col>count.missed_failure</th><th scope=col>accuracy</th><th scope=col>cost</th></tr></thead>\n",
       "<tbody>\n",
       "\t<tr><td>5       </td><td>0.5     </td><td>10      </td><td>708     </td><td>500     </td><td>22      </td><td>0.954375</td><td>18080   </td></tr>\n",
       "</tbody>\n",
       "</table>\n"
      ],
      "text/latex": [
       "\\begin{tabular}{r|llllllll}\n",
       " model & cutoff & cost.unnecessary\\_check & count.unnecessary\\_check & cost.missed\\_failure & count.missed\\_failure & accuracy & cost\\\\\n",
       "\\hline\n",
       "\t 5        & 0.5      & 10       & 708      & 500      & 22       & 0.954375 & 18080   \\\\\n",
       "\\end{tabular}\n"
      ],
      "text/markdown": [
       "\n",
       "model | cutoff | cost.unnecessary_check | count.unnecessary_check | cost.missed_failure | count.missed_failure | accuracy | cost | \n",
       "|---|\n",
       "| 5        | 0.5      | 10       | 708      | 500      | 22       | 0.954375 | 18080    | \n",
       "\n",
       "\n"
      ],
      "text/plain": [
       "  model cutoff cost.unnecessary_check count.unnecessary_check\n",
       "1 5     0.5    10                     708                    \n",
       "  cost.missed_failure count.missed_failure accuracy cost \n",
       "1 500                 22                   0.954375 18080"
      ]
     },
     "metadata": {},
     "output_type": "display_data"
    }
   ],
   "source": [
    "cutoff = 0.5\n",
    "prediction = as.class.cutoff(prob.5, cutoff)\n",
    "cm = confusionMatrix(prediction, data.new.1$class)$table\n",
    "count.unnecessary_check =  cm[\"failure\",\"ok\"]\n",
    "count.missed_failure = cm[\"ok\",\"failure\"]\n",
    "accuracy = (sum(cm)-(count.unnecessary_check + count.missed_failure))/sum(cm)\n",
    "cost = cost.unnecessary_check*count.unnecessary_check + cost.missed_failure*count.missed_failure\n",
    "\n",
    "cm\n",
    "cm / nrow(data.new.1)\n",
    "result.5a = data.frame(model=5, cutoff, cost.unnecessary_check, count.unnecessary_check, cost.missed_failure, count.missed_failure, accuracy, cost)\n",
    "result.5a"
   ]
  },
  {
   "cell_type": "code",
   "execution_count": 73,
   "metadata": {},
   "outputs": [
    {
     "data": {
      "text/plain": [
       "          Reference\n",
       "Prediction failure    ok\n",
       "   failure     353   709\n",
       "   ok           22 14916"
      ]
     },
     "metadata": {},
     "output_type": "display_data"
    },
    {
     "data": {
      "text/plain": [
       "          Reference\n",
       "Prediction   failure        ok\n",
       "   failure 0.0220625 0.0443125\n",
       "   ok      0.0013750 0.9322500"
      ]
     },
     "metadata": {},
     "output_type": "display_data"
    },
    {
     "data": {
      "text/html": [
       "<table>\n",
       "<thead><tr><th scope=col>model</th><th scope=col>cutoff</th><th scope=col>cost.unnecessary_check</th><th scope=col>count.unnecessary_check</th><th scope=col>cost.missed_failure</th><th scope=col>count.missed_failure</th><th scope=col>accuracy</th><th scope=col>cost</th></tr></thead>\n",
       "<tbody>\n",
       "\t<tr><td>5        </td><td>0.25     </td><td>10       </td><td>709      </td><td>500      </td><td>22       </td><td>0.9543125</td><td>18090    </td></tr>\n",
       "</tbody>\n",
       "</table>\n"
      ],
      "text/latex": [
       "\\begin{tabular}{r|llllllll}\n",
       " model & cutoff & cost.unnecessary\\_check & count.unnecessary\\_check & cost.missed\\_failure & count.missed\\_failure & accuracy & cost\\\\\n",
       "\\hline\n",
       "\t 5         & 0.25      & 10        & 709       & 500       & 22        & 0.9543125 & 18090    \\\\\n",
       "\\end{tabular}\n"
      ],
      "text/markdown": [
       "\n",
       "model | cutoff | cost.unnecessary_check | count.unnecessary_check | cost.missed_failure | count.missed_failure | accuracy | cost | \n",
       "|---|\n",
       "| 5         | 0.25      | 10        | 709       | 500       | 22        | 0.9543125 | 18090     | \n",
       "\n",
       "\n"
      ],
      "text/plain": [
       "  model cutoff cost.unnecessary_check count.unnecessary_check\n",
       "1 5     0.25   10                     709                    \n",
       "  cost.missed_failure count.missed_failure accuracy  cost \n",
       "1 500                 22                   0.9543125 18090"
      ]
     },
     "metadata": {},
     "output_type": "display_data"
    }
   ],
   "source": [
    "cutoff = 0.25\n",
    "prediction = as.class.cutoff(prob.5, cutoff)\n",
    "cm = confusionMatrix(prediction, data.new.1$class)$table\n",
    "count.unnecessary_check =  cm[\"failure\",\"ok\"]\n",
    "count.missed_failure = cm[\"ok\",\"failure\"]\n",
    "accuracy = (sum(cm)-(count.unnecessary_check + count.missed_failure))/sum(cm)\n",
    "cost = cost.unnecessary_check*count.unnecessary_check + cost.missed_failure*count.missed_failure\n",
    "\n",
    "cm\n",
    "cm / nrow(data.new.1)\n",
    "result.5b = data.frame(model=5, cutoff, cost.unnecessary_check, count.unnecessary_check, cost.missed_failure, count.missed_failure, accuracy, cost)\n",
    "result.5b"
   ]
  },
  {
   "cell_type": "markdown",
   "metadata": {},
   "source": [
    "<br>\n",
    "#### Predict new APS failures using model 6. "
   ]
  },
  {
   "cell_type": "code",
   "execution_count": 74,
   "metadata": {},
   "outputs": [],
   "source": [
    "prob.6 = predict(mymodel.6, data.new.6, type=\"raw\") # make take about 45 seconds"
   ]
  },
  {
   "cell_type": "code",
   "execution_count": 75,
   "metadata": {},
   "outputs": [
    {
     "data": {
      "text/plain": [
       "          Reference\n",
       "Prediction failure    ok\n",
       "   failure     350   829\n",
       "   ok           25 14796"
      ]
     },
     "metadata": {},
     "output_type": "display_data"
    },
    {
     "data": {
      "text/plain": [
       "          Reference\n",
       "Prediction   failure        ok\n",
       "   failure 0.0218750 0.0518125\n",
       "   ok      0.0015625 0.9247500"
      ]
     },
     "metadata": {},
     "output_type": "display_data"
    },
    {
     "data": {
      "text/html": [
       "<table>\n",
       "<thead><tr><th scope=col>model</th><th scope=col>cutoff</th><th scope=col>cost.unnecessary_check</th><th scope=col>count.unnecessary_check</th><th scope=col>cost.missed_failure</th><th scope=col>count.missed_failure</th><th scope=col>accuracy</th><th scope=col>cost</th></tr></thead>\n",
       "<tbody>\n",
       "\t<tr><td>6       </td><td>0.5     </td><td>10      </td><td>829     </td><td>500     </td><td>25      </td><td>0.946625</td><td>20790   </td></tr>\n",
       "</tbody>\n",
       "</table>\n"
      ],
      "text/latex": [
       "\\begin{tabular}{r|llllllll}\n",
       " model & cutoff & cost.unnecessary\\_check & count.unnecessary\\_check & cost.missed\\_failure & count.missed\\_failure & accuracy & cost\\\\\n",
       "\\hline\n",
       "\t 6        & 0.5      & 10       & 829      & 500      & 25       & 0.946625 & 20790   \\\\\n",
       "\\end{tabular}\n"
      ],
      "text/markdown": [
       "\n",
       "model | cutoff | cost.unnecessary_check | count.unnecessary_check | cost.missed_failure | count.missed_failure | accuracy | cost | \n",
       "|---|\n",
       "| 6        | 0.5      | 10       | 829      | 500      | 25       | 0.946625 | 20790    | \n",
       "\n",
       "\n"
      ],
      "text/plain": [
       "  model cutoff cost.unnecessary_check count.unnecessary_check\n",
       "1 6     0.5    10                     829                    \n",
       "  cost.missed_failure count.missed_failure accuracy cost \n",
       "1 500                 25                   0.946625 20790"
      ]
     },
     "metadata": {},
     "output_type": "display_data"
    }
   ],
   "source": [
    "cutoff = 0.5\n",
    "prediction = as.class.cutoff(prob.6, cutoff)\n",
    "cm = confusionMatrix(prediction, data.new.6$class)$table\n",
    "count.unnecessary_check =  cm[\"failure\",\"ok\"]\n",
    "count.missed_failure = cm[\"ok\",\"failure\"]\n",
    "accuracy = (sum(cm)-(count.unnecessary_check + count.missed_failure))/sum(cm)\n",
    "cost = cost.unnecessary_check*count.unnecessary_check + cost.missed_failure*count.missed_failure\n",
    "\n",
    "cm\n",
    "cm / nrow(data.new.6)\n",
    "result.6a = data.frame(model=6, cutoff, cost.unnecessary_check, count.unnecessary_check, cost.missed_failure, count.missed_failure, accuracy, cost)\n",
    "result.6a"
   ]
  },
  {
   "cell_type": "code",
   "execution_count": 76,
   "metadata": {},
   "outputs": [
    {
     "data": {
      "text/plain": [
       "          Reference\n",
       "Prediction failure    ok\n",
       "   failure     350   830\n",
       "   ok           25 14795"
      ]
     },
     "metadata": {},
     "output_type": "display_data"
    },
    {
     "data": {
      "text/plain": [
       "          Reference\n",
       "Prediction   failure        ok\n",
       "   failure 0.0218750 0.0518750\n",
       "   ok      0.0015625 0.9246875"
      ]
     },
     "metadata": {},
     "output_type": "display_data"
    },
    {
     "data": {
      "text/html": [
       "<table>\n",
       "<thead><tr><th scope=col>model</th><th scope=col>cutoff</th><th scope=col>cost.unnecessary_check</th><th scope=col>count.unnecessary_check</th><th scope=col>cost.missed_failure</th><th scope=col>count.missed_failure</th><th scope=col>accuracy</th><th scope=col>cost</th></tr></thead>\n",
       "<tbody>\n",
       "\t<tr><td>6        </td><td>0.25     </td><td>10       </td><td>830      </td><td>500      </td><td>25       </td><td>0.9465625</td><td>20800    </td></tr>\n",
       "</tbody>\n",
       "</table>\n"
      ],
      "text/latex": [
       "\\begin{tabular}{r|llllllll}\n",
       " model & cutoff & cost.unnecessary\\_check & count.unnecessary\\_check & cost.missed\\_failure & count.missed\\_failure & accuracy & cost\\\\\n",
       "\\hline\n",
       "\t 6         & 0.25      & 10        & 830       & 500       & 25        & 0.9465625 & 20800    \\\\\n",
       "\\end{tabular}\n"
      ],
      "text/markdown": [
       "\n",
       "model | cutoff | cost.unnecessary_check | count.unnecessary_check | cost.missed_failure | count.missed_failure | accuracy | cost | \n",
       "|---|\n",
       "| 6         | 0.25      | 10        | 830       | 500       | 25        | 0.9465625 | 20800     | \n",
       "\n",
       "\n"
      ],
      "text/plain": [
       "  model cutoff cost.unnecessary_check count.unnecessary_check\n",
       "1 6     0.25   10                     830                    \n",
       "  cost.missed_failure count.missed_failure accuracy  cost \n",
       "1 500                 25                   0.9465625 20800"
      ]
     },
     "metadata": {},
     "output_type": "display_data"
    }
   ],
   "source": [
    "cutoff = 0.25\n",
    "prediction = as.class.cutoff(prob.6, cutoff)\n",
    "cm = confusionMatrix(prediction, data.new.6$class)$table\n",
    "count.unnecessary_check =  cm[\"failure\",\"ok\"]\n",
    "count.missed_failure = cm[\"ok\",\"failure\"]\n",
    "accuracy = (sum(cm)-(count.unnecessary_check + count.missed_failure))/sum(cm)\n",
    "cost = cost.unnecessary_check*count.unnecessary_check + cost.missed_failure*count.missed_failure\n",
    "\n",
    "cm\n",
    "cm / nrow(data.new.6)\n",
    "result.6b = data.frame(model=6, cutoff, cost.unnecessary_check, count.unnecessary_check, cost.missed_failure, count.missed_failure, accuracy, cost)\n",
    "result.6b"
   ]
  },
  {
   "cell_type": "markdown",
   "metadata": {},
   "source": [
    "<br>\n",
    "#### Predict new APS failures using model 7. "
   ]
  },
  {
   "cell_type": "code",
   "execution_count": 77,
   "metadata": {},
   "outputs": [],
   "source": [
    "prob.7 = predict(mymodel.7, data.new.7, type=\"raw\") # may take about 15 seconds"
   ]
  },
  {
   "cell_type": "code",
   "execution_count": 78,
   "metadata": {},
   "outputs": [
    {
     "data": {
      "text/plain": [
       "          Reference\n",
       "Prediction failure    ok\n",
       "   failure     303   752\n",
       "   ok           72 14873"
      ]
     },
     "metadata": {},
     "output_type": "display_data"
    },
    {
     "data": {
      "text/plain": [
       "          Reference\n",
       "Prediction   failure        ok\n",
       "   failure 0.0189375 0.0470000\n",
       "   ok      0.0045000 0.9295625"
      ]
     },
     "metadata": {},
     "output_type": "display_data"
    },
    {
     "data": {
      "text/html": [
       "<table>\n",
       "<thead><tr><th scope=col>model</th><th scope=col>cutoff</th><th scope=col>cost.unnecessary_check</th><th scope=col>count.unnecessary_check</th><th scope=col>cost.missed_failure</th><th scope=col>count.missed_failure</th><th scope=col>accuracy</th><th scope=col>cost</th></tr></thead>\n",
       "<tbody>\n",
       "\t<tr><td>7     </td><td>0.5   </td><td>10    </td><td>752   </td><td>500   </td><td>72    </td><td>0.9485</td><td>43520 </td></tr>\n",
       "</tbody>\n",
       "</table>\n"
      ],
      "text/latex": [
       "\\begin{tabular}{r|llllllll}\n",
       " model & cutoff & cost.unnecessary\\_check & count.unnecessary\\_check & cost.missed\\_failure & count.missed\\_failure & accuracy & cost\\\\\n",
       "\\hline\n",
       "\t 7      & 0.5    & 10     & 752    & 500    & 72     & 0.9485 & 43520 \\\\\n",
       "\\end{tabular}\n"
      ],
      "text/markdown": [
       "\n",
       "model | cutoff | cost.unnecessary_check | count.unnecessary_check | cost.missed_failure | count.missed_failure | accuracy | cost | \n",
       "|---|\n",
       "| 7      | 0.5    | 10     | 752    | 500    | 72     | 0.9485 | 43520  | \n",
       "\n",
       "\n"
      ],
      "text/plain": [
       "  model cutoff cost.unnecessary_check count.unnecessary_check\n",
       "1 7     0.5    10                     752                    \n",
       "  cost.missed_failure count.missed_failure accuracy cost \n",
       "1 500                 72                   0.9485   43520"
      ]
     },
     "metadata": {},
     "output_type": "display_data"
    }
   ],
   "source": [
    "cutoff = 0.5\n",
    "prediction = as.class.cutoff(prob.7, cutoff)\n",
    "cm = confusionMatrix(prediction, data.new.7$class)$table\n",
    "count.unnecessary_check =  cm[\"failure\",\"ok\"]\n",
    "count.missed_failure = cm[\"ok\",\"failure\"]\n",
    "accuracy = (sum(cm)-(count.unnecessary_check + count.missed_failure))/sum(cm)\n",
    "cost = cost.unnecessary_check*count.unnecessary_check + cost.missed_failure*count.missed_failure\n",
    "\n",
    "cm\n",
    "cm / nrow(data.new.6)\n",
    "result.7a = data.frame(model=7, cutoff, cost.unnecessary_check, count.unnecessary_check, cost.missed_failure, count.missed_failure, accuracy, cost)\n",
    "result.7a"
   ]
  },
  {
   "cell_type": "code",
   "execution_count": 79,
   "metadata": {},
   "outputs": [
    {
     "data": {
      "text/plain": [
       "          Reference\n",
       "Prediction failure    ok\n",
       "   failure     305   799\n",
       "   ok           70 14826"
      ]
     },
     "metadata": {},
     "output_type": "display_data"
    },
    {
     "data": {
      "text/plain": [
       "          Reference\n",
       "Prediction   failure        ok\n",
       "   failure 0.0190625 0.0499375\n",
       "   ok      0.0043750 0.9266250"
      ]
     },
     "metadata": {},
     "output_type": "display_data"
    },
    {
     "data": {
      "text/html": [
       "<table>\n",
       "<thead><tr><th scope=col>model</th><th scope=col>cutoff</th><th scope=col>cost.unnecessary_check</th><th scope=col>count.unnecessary_check</th><th scope=col>cost.missed_failure</th><th scope=col>count.missed_failure</th><th scope=col>accuracy</th><th scope=col>cost</th></tr></thead>\n",
       "<tbody>\n",
       "\t<tr><td>7        </td><td>0.25     </td><td>10       </td><td>799      </td><td>500      </td><td>70       </td><td>0.9456875</td><td>42990    </td></tr>\n",
       "</tbody>\n",
       "</table>\n"
      ],
      "text/latex": [
       "\\begin{tabular}{r|llllllll}\n",
       " model & cutoff & cost.unnecessary\\_check & count.unnecessary\\_check & cost.missed\\_failure & count.missed\\_failure & accuracy & cost\\\\\n",
       "\\hline\n",
       "\t 7         & 0.25      & 10        & 799       & 500       & 70        & 0.9456875 & 42990    \\\\\n",
       "\\end{tabular}\n"
      ],
      "text/markdown": [
       "\n",
       "model | cutoff | cost.unnecessary_check | count.unnecessary_check | cost.missed_failure | count.missed_failure | accuracy | cost | \n",
       "|---|\n",
       "| 7         | 0.25      | 10        | 799       | 500       | 70        | 0.9456875 | 42990     | \n",
       "\n",
       "\n"
      ],
      "text/plain": [
       "  model cutoff cost.unnecessary_check count.unnecessary_check\n",
       "1 7     0.25   10                     799                    \n",
       "  cost.missed_failure count.missed_failure accuracy  cost \n",
       "1 500                 70                   0.9456875 42990"
      ]
     },
     "metadata": {},
     "output_type": "display_data"
    }
   ],
   "source": [
    "cutoff = 0.25\n",
    "prediction = as.class.cutoff(prob.7, cutoff)\n",
    "cm = confusionMatrix(prediction, data.new.7$class)$table\n",
    "count.unnecessary_check =  cm[\"failure\",\"ok\"]\n",
    "count.missed_failure = cm[\"ok\",\"failure\"]\n",
    "accuracy = (sum(cm)-(count.unnecessary_check + count.missed_failure))/sum(cm)\n",
    "cost = cost.unnecessary_check*count.unnecessary_check + cost.missed_failure*count.missed_failure\n",
    "\n",
    "cm\n",
    "cm / nrow(data.new.7)\n",
    "result.7b = data.frame(model=7, cutoff, cost.unnecessary_check, count.unnecessary_check, cost.missed_failure, count.missed_failure, accuracy, cost)\n",
    "result.7b"
   ]
  },
  {
   "cell_type": "markdown",
   "metadata": {},
   "source": [
    "<br>\n",
    "#### Predict new APS failures using model 8. "
   ]
  },
  {
   "cell_type": "code",
   "execution_count": 80,
   "metadata": {},
   "outputs": [],
   "source": [
    "prob.8 = predict(mymodel.8, data.new.7, type=\"raw\")"
   ]
  },
  {
   "cell_type": "code",
   "execution_count": 81,
   "metadata": {},
   "outputs": [
    {
     "data": {
      "text/plain": [
       "          Reference\n",
       "Prediction failure    ok\n",
       "   failure     335   643\n",
       "   ok           40 14982"
      ]
     },
     "metadata": {},
     "output_type": "display_data"
    },
    {
     "data": {
      "text/plain": [
       "          Reference\n",
       "Prediction   failure        ok\n",
       "   failure 0.0209375 0.0401875\n",
       "   ok      0.0025000 0.9363750"
      ]
     },
     "metadata": {},
     "output_type": "display_data"
    },
    {
     "data": {
      "text/html": [
       "<table>\n",
       "<thead><tr><th scope=col>model</th><th scope=col>cutoff</th><th scope=col>cost.unnecessary_check</th><th scope=col>count.unnecessary_check</th><th scope=col>cost.missed_failure</th><th scope=col>count.missed_failure</th><th scope=col>accuracy</th><th scope=col>cost</th></tr></thead>\n",
       "<tbody>\n",
       "\t<tr><td>8        </td><td>0.5      </td><td>10       </td><td>643      </td><td>500      </td><td>40       </td><td>0.9573125</td><td>26430    </td></tr>\n",
       "</tbody>\n",
       "</table>\n"
      ],
      "text/latex": [
       "\\begin{tabular}{r|llllllll}\n",
       " model & cutoff & cost.unnecessary\\_check & count.unnecessary\\_check & cost.missed\\_failure & count.missed\\_failure & accuracy & cost\\\\\n",
       "\\hline\n",
       "\t 8         & 0.5       & 10        & 643       & 500       & 40        & 0.9573125 & 26430    \\\\\n",
       "\\end{tabular}\n"
      ],
      "text/markdown": [
       "\n",
       "model | cutoff | cost.unnecessary_check | count.unnecessary_check | cost.missed_failure | count.missed_failure | accuracy | cost | \n",
       "|---|\n",
       "| 8         | 0.5       | 10        | 643       | 500       | 40        | 0.9573125 | 26430     | \n",
       "\n",
       "\n"
      ],
      "text/plain": [
       "  model cutoff cost.unnecessary_check count.unnecessary_check\n",
       "1 8     0.5    10                     643                    \n",
       "  cost.missed_failure count.missed_failure accuracy  cost \n",
       "1 500                 40                   0.9573125 26430"
      ]
     },
     "metadata": {},
     "output_type": "display_data"
    }
   ],
   "source": [
    "cutoff = 0.5\n",
    "prediction = as.class.cutoff(prob.8, cutoff)\n",
    "cm = confusionMatrix(prediction, data.new.7$class)$table\n",
    "count.unnecessary_check =  cm[\"failure\",\"ok\"]\n",
    "count.missed_failure = cm[\"ok\",\"failure\"]\n",
    "accuracy = (sum(cm)-(count.unnecessary_check + count.missed_failure))/sum(cm)\n",
    "cost = cost.unnecessary_check*count.unnecessary_check + cost.missed_failure*count.missed_failure\n",
    "\n",
    "cm\n",
    "cm / nrow(data.new.7)\n",
    "result.8a = data.frame(model=8, cutoff, cost.unnecessary_check, count.unnecessary_check, cost.missed_failure, count.missed_failure, accuracy, cost)\n",
    "result.8a"
   ]
  },
  {
   "cell_type": "code",
   "execution_count": 82,
   "metadata": {},
   "outputs": [
    {
     "data": {
      "text/plain": [
       "          Reference\n",
       "Prediction failure    ok\n",
       "   failure     354   952\n",
       "   ok           21 14673"
      ]
     },
     "metadata": {},
     "output_type": "display_data"
    },
    {
     "data": {
      "text/plain": [
       "          Reference\n",
       "Prediction   failure        ok\n",
       "   failure 0.0221250 0.0595000\n",
       "   ok      0.0013125 0.9170625"
      ]
     },
     "metadata": {},
     "output_type": "display_data"
    },
    {
     "data": {
      "text/html": [
       "<table>\n",
       "<thead><tr><th scope=col>model</th><th scope=col>cutoff</th><th scope=col>cost.unnecessary_check</th><th scope=col>count.unnecessary_check</th><th scope=col>cost.missed_failure</th><th scope=col>count.missed_failure</th><th scope=col>accuracy</th><th scope=col>cost</th></tr></thead>\n",
       "<tbody>\n",
       "\t<tr><td>8        </td><td>0.25     </td><td>10       </td><td>952      </td><td>500      </td><td>21       </td><td>0.9391875</td><td>20020    </td></tr>\n",
       "</tbody>\n",
       "</table>\n"
      ],
      "text/latex": [
       "\\begin{tabular}{r|llllllll}\n",
       " model & cutoff & cost.unnecessary\\_check & count.unnecessary\\_check & cost.missed\\_failure & count.missed\\_failure & accuracy & cost\\\\\n",
       "\\hline\n",
       "\t 8         & 0.25      & 10        & 952       & 500       & 21        & 0.9391875 & 20020    \\\\\n",
       "\\end{tabular}\n"
      ],
      "text/markdown": [
       "\n",
       "model | cutoff | cost.unnecessary_check | count.unnecessary_check | cost.missed_failure | count.missed_failure | accuracy | cost | \n",
       "|---|\n",
       "| 8         | 0.25      | 10        | 952       | 500       | 21        | 0.9391875 | 20020     | \n",
       "\n",
       "\n"
      ],
      "text/plain": [
       "  model cutoff cost.unnecessary_check count.unnecessary_check\n",
       "1 8     0.25   10                     952                    \n",
       "  cost.missed_failure count.missed_failure accuracy  cost \n",
       "1 500                 21                   0.9391875 20020"
      ]
     },
     "metadata": {},
     "output_type": "display_data"
    }
   ],
   "source": [
    "cutoff = 0.25\n",
    "prediction = as.class.cutoff(prob.8, cutoff)\n",
    "cm = confusionMatrix(prediction, data.new.7$class)$table\n",
    "count.unnecessary_check =  cm[\"failure\",\"ok\"]\n",
    "count.missed_failure = cm[\"ok\",\"failure\"]\n",
    "accuracy = (sum(cm)-(count.unnecessary_check + count.missed_failure))/sum(cm)\n",
    "cost = cost.unnecessary_check*count.unnecessary_check + cost.missed_failure*count.missed_failure\n",
    "\n",
    "cm\n",
    "cm / nrow(data.new.7)\n",
    "result.8b = data.frame(model=8, cutoff, cost.unnecessary_check, count.unnecessary_check, cost.missed_failure, count.missed_failure, accuracy, cost)\n",
    "result.8b"
   ]
  },
  {
   "cell_type": "markdown",
   "metadata": {},
   "source": [
    "<br>\n",
    "___\n",
    "### Compare Accuracies & Costs\n"
   ]
  },
  {
   "cell_type": "code",
   "execution_count": 83,
   "metadata": {},
   "outputs": [
    {
     "data": {
      "text/html": [
       "<table>\n",
       "<thead><tr><th scope=col>model</th><th scope=col>cutoff</th><th scope=col>cost.unnecessary_check</th><th scope=col>count.unnecessary_check</th><th scope=col>cost.missed_failure</th><th scope=col>count.missed_failure</th><th scope=col>accuracy</th><th scope=col>cost</th></tr></thead>\n",
       "<tbody>\n",
       "\t<tr><td>1        </td><td>0.50     </td><td>10       </td><td>527      </td><td>500      </td><td>37       </td><td>0.9647500</td><td>23770    </td></tr>\n",
       "\t<tr><td>1        </td><td>0.25     </td><td>10       </td><td>528      </td><td>500      </td><td>37       </td><td>0.9646875</td><td>23780    </td></tr>\n",
       "\t<tr><td>2        </td><td>0.50     </td><td>10       </td><td>513      </td><td>500      </td><td>38       </td><td>0.9655625</td><td>24130    </td></tr>\n",
       "\t<tr><td>2        </td><td>0.25     </td><td>10       </td><td>516      </td><td>500      </td><td>38       </td><td>0.9653750</td><td>24160    </td></tr>\n",
       "\t<tr><td>...</td><td>...</td><td>...</td><td>...</td><td>...</td><td>...</td><td>...</td><td>...</td></tr>\n",
       "\t<tr><td>7        </td><td>0.50     </td><td>10       </td><td>752      </td><td>500      </td><td>72       </td><td>0.9485000</td><td>43520    </td></tr>\n",
       "\t<tr><td>7        </td><td>0.25     </td><td>10       </td><td>799      </td><td>500      </td><td>70       </td><td>0.9456875</td><td>42990    </td></tr>\n",
       "\t<tr><td>8        </td><td>0.50     </td><td>10       </td><td>643      </td><td>500      </td><td>40       </td><td>0.9573125</td><td>26430    </td></tr>\n",
       "\t<tr><td>8        </td><td>0.25     </td><td>10       </td><td>952      </td><td>500      </td><td>21       </td><td>0.9391875</td><td>20020    </td></tr>\n",
       "</tbody>\n",
       "</table>\n"
      ],
      "text/latex": [
       "\\begin{tabular}{r|llllllll}\n",
       " model & cutoff & cost.unnecessary\\_check & count.unnecessary\\_check & cost.missed\\_failure & count.missed\\_failure & accuracy & cost\\\\\n",
       "\\hline\n",
       "\t 1         & 0.50      & 10        & 527       & 500       & 37        & 0.9647500 & 23770    \\\\\n",
       "\t 1         & 0.25      & 10        & 528       & 500       & 37        & 0.9646875 & 23780    \\\\\n",
       "\t 2         & 0.50      & 10        & 513       & 500       & 38        & 0.9655625 & 24130    \\\\\n",
       "\t 2         & 0.25      & 10        & 516       & 500       & 38        & 0.9653750 & 24160    \\\\\n",
       "\t ... & ... & ... & ... & ... & ... & ... & ...\\\\\n",
       "\t 7         & 0.50      & 10        & 752       & 500       & 72        & 0.9485000 & 43520    \\\\\n",
       "\t 7         & 0.25      & 10        & 799       & 500       & 70        & 0.9456875 & 42990    \\\\\n",
       "\t 8         & 0.50      & 10        & 643       & 500       & 40        & 0.9573125 & 26430    \\\\\n",
       "\t 8         & 0.25      & 10        & 952       & 500       & 21        & 0.9391875 & 20020    \\\\\n",
       "\\end{tabular}\n"
      ],
      "text/markdown": [
       "\n",
       "model | cutoff | cost.unnecessary_check | count.unnecessary_check | cost.missed_failure | count.missed_failure | accuracy | cost | \n",
       "|---|---|---|---|---|---|---|---|---|\n",
       "| 1         | 0.50      | 10        | 527       | 500       | 37        | 0.9647500 | 23770     | \n",
       "| 1         | 0.25      | 10        | 528       | 500       | 37        | 0.9646875 | 23780     | \n",
       "| 2         | 0.50      | 10        | 513       | 500       | 38        | 0.9655625 | 24130     | \n",
       "| 2         | 0.25      | 10        | 516       | 500       | 38        | 0.9653750 | 24160     | \n",
       "| ... | ... | ... | ... | ... | ... | ... | ... | \n",
       "| 7         | 0.50      | 10        | 752       | 500       | 72        | 0.9485000 | 43520     | \n",
       "| 7         | 0.25      | 10        | 799       | 500       | 70        | 0.9456875 | 42990     | \n",
       "| 8         | 0.50      | 10        | 643       | 500       | 40        | 0.9573125 | 26430     | \n",
       "| 8         | 0.25      | 10        | 952       | 500       | 21        | 0.9391875 | 20020     | \n",
       "\n",
       "\n"
      ],
      "text/plain": [
       "    model cutoff cost.unnecessary_check count.unnecessary_check\n",
       "1   1     0.50   10                     527                    \n",
       "2   1     0.25   10                     528                    \n",
       "3   2     0.50   10                     513                    \n",
       "4   2     0.25   10                     516                    \n",
       "... ...   ...    ...                    ...                    \n",
       "13  7     0.50   10                     752                    \n",
       "14  7     0.25   10                     799                    \n",
       "15  8     0.50   10                     643                    \n",
       "16  8     0.25   10                     952                    \n",
       "    cost.missed_failure count.missed_failure accuracy  cost \n",
       "1   500                 37                   0.9647500 23770\n",
       "2   500                 37                   0.9646875 23780\n",
       "3   500                 38                   0.9655625 24130\n",
       "4   500                 38                   0.9653750 24160\n",
       "... ...                 ...                  ...       ...  \n",
       "13  500                 72                   0.9485000 43520\n",
       "14  500                 70                   0.9456875 42990\n",
       "15  500                 40                   0.9573125 26430\n",
       "16  500                 21                   0.9391875 20020"
      ]
     },
     "metadata": {},
     "output_type": "display_data"
    }
   ],
   "source": [
    "result = rbind(result.1a, result.1b, result.2a, result.2b, result.3a, result.3b, result.4a, result.4b,\n",
    "               result.5a, result.5b, result.6a, result.6b, result.7a, result.7b, result.8a, result.8b)\n",
    "result"
   ]
  },
  {
   "cell_type": "code",
   "execution_count": 84,
   "metadata": {},
   "outputs": [
    {
     "data": {},
     "metadata": {},
     "output_type": "display_data"
    },
    {
     "data": {
      "image/png": "[encoded data removed]",
      "text/plain": [
       "plot without title"
      ]
     },
     "metadata": {},
     "output_type": "display_data"
    }
   ],
   "source": [
    "options(repr.plot.width=8, repr.plot.height=4)\n",
    "ggplot(result) +\n",
    "geom_col(aes(x=factor(model, labels=c(\"1 Plain\",\"2 Imputed\",\"3 Imputed/PCA 75% var\",\"4 Imputed/PCA PC1\",\"5 Balanced\",\"6 Balanced Imputed\",\"7 Balanced Imputed/PCA 75% var\",\"8 Balanced Imputed/PCA PC1\")), y=accuracy, fill=factor(cutoff)), position=\"dodge\") +\n",
    "scale_fill_manual(values=PALETTE[c(5,8)]) + xlab(\"model\") +\n",
    "theme(axis.text.x=element_text(hjust=1, vjust=0.5, angle=90))\n",
    "options(restore)"
   ]
  },
  {
   "cell_type": "code",
   "execution_count": 85,
   "metadata": {},
   "outputs": [
    {
     "data": {},
     "metadata": {},
     "output_type": "display_data"
    },
    {
     "data": {
      "image/png": "[encoded data removed]",
      "text/plain": [
       "plot without title"
      ]
     },
     "metadata": {},
     "output_type": "display_data"
    }
   ],
   "source": [
    "options(repr.plot.width=8, repr.plot.height=4)\n",
    "ggplot(result) +\n",
    "geom_col(aes(x=factor(model, labels=c(\"1 Plain\",\"2 Imputed\",\"3 Imputed/PCA 75% var\",\"4 Imputed/PCA PC1\",\"5 Balanced\",\"6 Balanced Imputed\",\"7 Balanced Imputed/PCA 75% var\",\"8 Balanced Imputed/PCA PC1\")), y=1-accuracy, fill=factor(cutoff)), position=\"dodge\") +\n",
    "scale_fill_manual(values=PALETTE[c(5,8)]) + xlab(\"model\") +\n",
    "theme(axis.text.x=element_text(hjust=1, vjust=0.5, angle=90))\n",
    "options(restore)"
   ]
  },
  {
   "cell_type": "code",
   "execution_count": 86,
   "metadata": {},
   "outputs": [
    {
     "data": {},
     "metadata": {},
     "output_type": "display_data"
    },
    {
     "data": {
      "image/png": "[encoded data removed]",
      "text/plain": [
       "plot without title"
      ]
     },
     "metadata": {},
     "output_type": "display_data"
    }
   ],
   "source": [
    "options(repr.plot.width=8, repr.plot.height=4)\n",
    "ggplot(result) +\n",
    "geom_col(aes(x=factor(model, labels=c(\"1 Plain\",\"2 Imputed\",\"3 Imputed/PCA 75% var\",\"4 Imputed/PCA PC1\",\"5 Balanced\",\"6 Balanced Imputed\",\"7 Balanced Imputed/PCA 75% var\",\"8 Balanced Imputed/PCA PC1\")), y=cost, fill=factor(cutoff)), position=\"dodge\") +\n",
    "scale_fill_manual(values=PALETTE[c(5,8)]) + xlab(\"model\") +\n",
    "theme(axis.text.x=element_text(hjust=1, vjust=0.5, angle=90))\n",
    "options(restore)"
   ]
  },
  {
   "cell_type": "markdown",
   "metadata": {},
   "source": [
    "<br>\n",
    "___\n",
    "### Expectations\n",
    "\n",
    "You should be able to demonstrate an understanding of ...\n",
    "* how to prepare data in various ways, including imputation, representation in terms of principal components, and balancing, conceptually and using R\n",
    "* how to build a model based on data prepared in various ways, using R\n",
    "* how to prepare new data for a model, conceptually and using R\n",
    "* how to predict classes of new data, using R\n",
    "* how to interpret a confusion matrix, conceptually\n",
    "* difference between accuracy and cost, conceptually"
   ]
  },
  {
   "cell_type": "markdown",
   "metadata": {},
   "source": [
    "<br>\n",
    "___\n",
    "### Further Reading\n",
    "\n",
    "* https://www.kaggle.com/uciml/aps-failure-at-scania-trucks-data-set\n",
    "* https://www.r-project.org/conferences/useR-2013/Tutorials/kuhn/user_caret_2up.pdf"
   ]
  },
  {
   "cell_type": "markdown",
   "metadata": {},
   "source": [
    "$\\tiny \\text{Copyright (c) Berkeley Data Analytics Group, LLC}$"
   ]
  }
 ],
 "metadata": {
  "hide_code_all_hidden": false,
  "hide_input": false,
  "kernelspec": {
   "display_name": "R",
   "language": "R",
   "name": "ir"
  },
  "language_info": {
   "codemirror_mode": "r",
   "file_extension": ".r",
   "mimetype": "text/x-r-source",
   "name": "R",
   "pygments_lexer": "r",
   "version": "3.4.2"
  },
  "latex_envs": {
   "LaTeX_envs_menu_present": false,
   "autocomplete": true,
   "bibliofile": "biblio.bib",
   "cite_by": "apalike",
   "current_citInitial": 1,
   "eqLabelWithNumbers": false,
   "eqNumInitial": 1,
   "hotkeys": {
    "equation": "Ctrl-E",
    "itemize": "Ctrl-I"
   },
   "labels_anchors": false,
   "latex_user_defs": false,
   "report_style_numbering": false,
   "user_envs_cfg": true
  }
 },
 "nbformat": 4,
 "nbformat_minor": 2
}
