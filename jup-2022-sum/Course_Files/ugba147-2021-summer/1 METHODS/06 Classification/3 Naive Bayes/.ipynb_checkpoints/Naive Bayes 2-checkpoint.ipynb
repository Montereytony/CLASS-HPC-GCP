{
 "cells": [
  {
   "cell_type": "markdown",
   "metadata": {
    "hideCode": false,
    "hidePrompt": false
   },
   "source": [
    "# Classification by Naive Bayes\n",
    "\n",
    "![](banner_nb.jpg)"
   ]
  },
  {
   "cell_type": "code",
   "execution_count": 1,
   "metadata": {
    "hide_input": true,
    "scrolled": false
   },
   "outputs": [
    {
     "data": {
      "text/html": [
       "<p style=\"text-align:center; font-size:10px;\">\n",
       ".................................................... start of document ....................................................\n",
       "</p>"
      ]
     },
     "metadata": {},
     "output_type": "display_data"
    }
   ],
   "source": [
    "f = \"setup.R\"; for (i in 1:10) { if (file.exists(f)) break else f = paste0(\"../\", f) }; source(f)\n",
    "update_geom_defaults(\"point\", list(size=3, colour=PALETTE[3]))"
   ]
  },
  {
   "cell_type": "markdown",
   "metadata": {},
   "source": [
    "The naive Bayes method constructs classifiers to make predictions based on both unconditional probabilities and conditional probabilities inferred from some reference classified data."
   ]
  },
  {
   "cell_type": "markdown",
   "metadata": {},
   "source": [
    "## Introduction\n",
    "\n",
    "Consider the prosecutor\\'s fallacy.  There is a criminal trial in progress, and the prosecutor tells the jury that the defendant\\'s DNA was found at the crime scene, proving he was there.  This along with some other evidence, says the prosecutor, is enough to prove that the defendant did commit the crime.  In fact, someone\\'s DNA was found at the crime, and it could be the defendant\\'s according to a DNA expert who testifies that there is only a one in a million chance that the DNA could be from someone else.  Even so, the prosecutor insists, that means there is a 99.99999% chance that the DNA is from the defendant, which is so overwhelmingly conclusive that any reasonable person would agree the DNA must be from the defendant.  The prosecutor presses the jury for a conviction.\n",
    "\n",
    "Is the DNA really from the defendant?  We have already established that there is a one in a million chance that it is from someone else.  Is that a lot?  How many other people could the DNA be from?  There are more than seven billion people in the world.  So, notwithstanding other information to the contrary, the DNA could be from any of 7,000 people.  That means that the probability that the DNA is from the defendant is really 1 $\\div$ 7000 = 0.014%, which is almost negligible.  The DNA evidence by itself indicates that the defendant is extremely unlikely to be the culprit.\n",
    "\n",
    "The problem with prosecutor\\'s reasoning is that it did not take into account what we call the prior probability; that is, the probability of something happening considered before we look at the conditional probability of that something happening in a specific case.  (The prosecutor\\'s fallacy has shown up in several famous real criminal trials, resulting in unfortunate incorrect convictions.)\n",
    "\n",
    "The naive Bayes method makes explicit use of conditional probabilities that something could happen and the prior probability that that something could happen.  It constructs models that make predictions taking both into account."
   ]
  },
  {
   "cell_type": "markdown",
   "metadata": {},
   "source": [
    "## Lesson Plan\n",
    "\n",
    "We will first see how naive Bayes works using data with one numeric predictor variable and a class variable.  Then with one categoric predictor variable and a class variable.  Then with multiple predictor variables.  After that, we\\'ll look at a simplified version of naive Bayes (Gaussian probability density estimate) and an enhanced version of naive Bayes (LaPlace smoothing)."
   ]
  },
  {
   "cell_type": "markdown",
   "metadata": {},
   "source": [
    "## Terminology\n",
    "\n",
    "Here are some new terms we will use in our discourse.\n",
    "\n",
    "The **likelihood** is a score that measures how conditionally likely something is to happen.  One way to measure this is by the conditional probability that that something is to happen.  This way is appropriate if the something that is to happen can be described with a categoric variable.  Another way to measure likelihood is by the conditional probability density that that something is to happen.  This way is appropriate if the something that is to happen can be described with a numeric variable. So, a particular likelihood must be either a conditional probability or a conditional probability density. \n",
    "\n",
    "The **prior probability** is what happened before considering a condition.  You can think of it as a sort of background setting.  \n",
    "\n",
    "The **posterior score** is the product of some likelihoods and a prior probability.  Note that a posterior score potentially folds probabilities and probability densities into a single number.  That is okay.  We are not interested in reconciling units or in dissecting which part of the single number comes from probabilities vs. probability densities.\n",
    "\n",
    "The **relative posterior score** is posterior score scaled so that all posterior scores sum to one."
   ]
  },
  {
   "cell_type": "markdown",
   "metadata": {},
   "source": [
    "## Naive Bayes and One Numeric Predictor Variable\n",
    "\n",
    "Here is how naive Bayes works using data with one numeric predictor variable and a class variable."
   ]
  },
  {
   "cell_type": "markdown",
   "metadata": {
    "hide_input": true
   },
   "source": [
    "### Data\n",
    "\n",
    "Consider the pedagogical dataset comprising 11 observations.  Each observation is classified as either A or B.  Consider also a new unclassified observation at x1=10.  A one-dimensional scatterplot of x1 values color-coded by class exposes some patterns.  All the observations classified as A are at x1 less than or equal to 11.  Most of the observations classified as B are at x1 greater or equal to 14.    Also, there are five observations classified as A and six observations classified as B.  The new observation at x1=10 is shown in gray to emphasize that we do not know its class. Should the new observation be classified as A or B?"
   ]
  },
  {
   "cell_type": "code",
   "execution_count": 2,
   "metadata": {
    "hideCode": false,
    "hidePrompt": false,
    "hide_input": true,
    "run_control": {
     "marked": false
    }
   },
   "outputs": [
    {
     "data": {
      "text/html": [
       "<table><tr><td style=\"background-color:white; vertical-align:top; padding-right:40px;\"><table>\n",
       "<caption><center><font color=\"black\"><b>data</b></font></center></caption>\n",
       " <thead>\n",
       "  <tr>\n",
       "   <th style=\"text-align:right;background-color: #FFFFFF !important;\"> x1 </th>\n",
       "   <th style=\"text-align:right;background-color: #FFFFFF !important;\"> class </th>\n",
       "  </tr>\n",
       " </thead>\n",
       "<tbody>\n",
       "  <tr>\n",
       "   <td style=\"text-align:right;\"> 1.0 </td>\n",
       "   <td style=\"text-align:right;\"> A </td>\n",
       "  </tr>\n",
       "  <tr>\n",
       "   <td style=\"text-align:right;\"> 8.0 </td>\n",
       "   <td style=\"text-align:right;\"> A </td>\n",
       "  </tr>\n",
       "  <tr>\n",
       "   <td style=\"text-align:right;\"> 8.5 </td>\n",
       "   <td style=\"text-align:right;\"> A </td>\n",
       "  </tr>\n",
       "  <tr>\n",
       "   <td style=\"text-align:right;\"> 9.5 </td>\n",
       "   <td style=\"text-align:right;\"> A </td>\n",
       "  </tr>\n",
       "  <tr>\n",
       "   <td style=\"text-align:right;\"> 11.0 </td>\n",
       "   <td style=\"text-align:right;\"> A </td>\n",
       "  </tr>\n",
       "  <tr>\n",
       "   <td style=\"text-align:right;\"> 9.0 </td>\n",
       "   <td style=\"text-align:right;\"> B </td>\n",
       "  </tr>\n",
       "  <tr>\n",
       "   <td style=\"text-align:right;\"> 14.0 </td>\n",
       "   <td style=\"text-align:right;\"> B </td>\n",
       "  </tr>\n",
       "  <tr>\n",
       "   <td style=\"text-align:right;\"> 15.0 </td>\n",
       "   <td style=\"text-align:right;\"> B </td>\n",
       "  </tr>\n",
       "  <tr>\n",
       "   <td style=\"text-align:right;\"> 16.0 </td>\n",
       "   <td style=\"text-align:right;\"> B </td>\n",
       "  </tr>\n",
       "  <tr>\n",
       "   <td style=\"text-align:right;\"> 16.5 </td>\n",
       "   <td style=\"text-align:right;\"> B </td>\n",
       "  </tr>\n",
       "  <tr>\n",
       "   <td style=\"text-align:right;\"> 18.0 </td>\n",
       "   <td style=\"text-align:right;\"> B </td>\n",
       "  </tr>\n",
       "</tbody>\n",
       "</table></td><td style=\"background-color:white; vertical-align:top;\"><table>\n",
       "<caption><center><font color=\"black\"><b>new</b></font></center></caption>\n",
       " <thead>\n",
       "  <tr>\n",
       "   <th style=\"text-align:right;background-color: #FFFFFF !important;\"> x1 </th>\n",
       "  </tr>\n",
       " </thead>\n",
       "<tbody>\n",
       "  <tr>\n",
       "   <td style=\"text-align:right;\"> 10 </td>\n",
       "  </tr>\n",
       "</tbody>\n",
       "</table></td></tr></table>"
      ]
     },
     "metadata": {},
     "output_type": "display_data"
    },
    {
     "data": {
      "image/png": "[encoded data removed]",
      "text/plain": [
       "plot without title"
      ]
     },
     "metadata": {
      "image/png": {
       "height": 120,
       "width": 960
      },
      "text/plain": {
       "height": 120,
       "width": 960
      }
     },
     "output_type": "display_data"
    }
   ],
   "source": [
    "data = data.frame(x1=c(1,8,8.5,9.5,11,9,14,15,16,16.5,18), class=c(\"A\", \"A\", \"A\", \"A\", \"A\", \"B\", \"B\", \"B\", \"B\", \"B\", \"B\"))\n",
    "new = data.frame(x1=10)\n",
    "layout(fmt(data), fmt(new))\n",
    "\n",
    "output_size(8,1)\n",
    "ggplot(data) + xlim(0,20) +\n",
    "geom_point(aes(x=x1, y=0, color=class)) + geom_point(aes(x=x1, y=0), data=new, color=\"grey70\") +\n",
    "theme.x_axis_only\n",
    "output_size(restore)"
   ]
  },
  {
   "cell_type": "markdown",
   "metadata": {},
   "source": [
    "### Prediction by Likelihood\n",
    "\n",
    "The new observation is surrounded by observations classified as A. There is also one observation classified as B in the vicinity, but perhaps because there is only one, we can overlook it.  Accordingly, we may want to classify the new observation as A.  This seems like a reasonable option.  It incorporates the notion of likelihood. Indeed, many (or most) people use this approach often when making their own predictions.\n",
    "\n",
    "Let\\'s see how taking likelihood into account would play out.  Partition the data by class, which effectively conditions our next steps on class.  Build two probability density functions, one for each partition.  Recall that you can use the kernel density estimation method to build probability density functions.  The probability densities can range from zero to approaching infinity.  A one-dimensional scatterplot of x1 values color-coded by class overlaid onto plots of the two probability density functions exposes some patterns."
   ]
  },
  {
   "cell_type": "code",
   "execution_count": 3,
   "metadata": {
    "hide_input": true,
    "scrolled": false
   },
   "outputs": [
    {
     "data": {
      "text/html": [
       "<table><tr><td style=\"background-color:white; vertical-align:top; padding-right:40px;\"><table>\n",
       "<caption><center><font color=\"black\"><b>data.A</b></font></center></caption>\n",
       " <thead>\n",
       "  <tr>\n",
       "   <th style=\"text-align:right;background-color: #FFFFFF !important;\"> x1 </th>\n",
       "   <th style=\"text-align:right;background-color: #FFFFFF !important;\"> class </th>\n",
       "  </tr>\n",
       " </thead>\n",
       "<tbody>\n",
       "  <tr>\n",
       "   <td style=\"text-align:right;\"> 1.0 </td>\n",
       "   <td style=\"text-align:right;\"> A </td>\n",
       "  </tr>\n",
       "  <tr>\n",
       "   <td style=\"text-align:right;\"> 8.0 </td>\n",
       "   <td style=\"text-align:right;\"> A </td>\n",
       "  </tr>\n",
       "  <tr>\n",
       "   <td style=\"text-align:right;\"> 8.5 </td>\n",
       "   <td style=\"text-align:right;\"> A </td>\n",
       "  </tr>\n",
       "  <tr>\n",
       "   <td style=\"text-align:right;\"> 9.5 </td>\n",
       "   <td style=\"text-align:right;\"> A </td>\n",
       "  </tr>\n",
       "  <tr>\n",
       "   <td style=\"text-align:right;\"> 11.0 </td>\n",
       "   <td style=\"text-align:right;\"> A </td>\n",
       "  </tr>\n",
       "</tbody>\n",
       "</table></td><td style=\"background-color:white; vertical-align:top;\"><table>\n",
       "<caption><center><font color=\"black\"><b>data.B</b></font></center></caption>\n",
       " <thead>\n",
       "  <tr>\n",
       "   <th style=\"text-align:right;background-color: #FFFFFF !important;\"> x1 </th>\n",
       "   <th style=\"text-align:right;background-color: #FFFFFF !important;\"> class </th>\n",
       "  </tr>\n",
       " </thead>\n",
       "<tbody>\n",
       "  <tr>\n",
       "   <td style=\"text-align:right;\"> 9.0 </td>\n",
       "   <td style=\"text-align:right;\"> B </td>\n",
       "  </tr>\n",
       "  <tr>\n",
       "   <td style=\"text-align:right;\"> 14.0 </td>\n",
       "   <td style=\"text-align:right;\"> B </td>\n",
       "  </tr>\n",
       "  <tr>\n",
       "   <td style=\"text-align:right;\"> 15.0 </td>\n",
       "   <td style=\"text-align:right;\"> B </td>\n",
       "  </tr>\n",
       "  <tr>\n",
       "   <td style=\"text-align:right;\"> 16.0 </td>\n",
       "   <td style=\"text-align:right;\"> B </td>\n",
       "  </tr>\n",
       "  <tr>\n",
       "   <td style=\"text-align:right;\"> 16.5 </td>\n",
       "   <td style=\"text-align:right;\"> B </td>\n",
       "  </tr>\n",
       "  <tr>\n",
       "   <td style=\"text-align:right;\"> 18.0 </td>\n",
       "   <td style=\"text-align:right;\"> B </td>\n",
       "  </tr>\n",
       "</tbody>\n",
       "</table></td></tr></table>"
      ]
     },
     "metadata": {},
     "output_type": "display_data"
    }
   ],
   "source": [
    "data.A = data[data$class==\"A\",]\n",
    "data.B = data[data$class==\"B\",]\n",
    "\n",
    "layout(fmt(data.A), fmt(data.B))"
   ]
  },
  {
   "cell_type": "code",
   "execution_count": 4,
   "metadata": {
    "hide_input": true,
    "scrolled": false
   },
   "outputs": [
    {
     "data": {
      "image/png": "[encoded data removed]",
      "text/plain": [
       "plot without title"
      ]
     },
     "metadata": {
      "image/png": {
       "height": 360,
       "width": 840
      },
      "text/plain": {
       "height": 360,
       "width": 840
      }
     },
     "output_type": "display_data"
    }
   ],
   "source": [
    "d.A = density(data.A$x1, bw=0.7, from=0, to=20); pdf.A = approxfun(d.A)\n",
    "d.B = density(data.B$x1, bw=0.7, from=0, to=20); pdf.B = approxfun(d.B)\n",
    "\n",
    "ggplot(data) + xlim(0,20) + ylab(\"likelihood\") +\n",
    "stat_function(fun=pdf.A, geom=\"area\", fill=PALETTE[1], alpha=0.5) +\n",
    "stat_function(fun=pdf.B, geom=\"area\", fill=PALETTE[2], alpha=0.5) +\n",
    "geom_point(aes(x=x1, y=0, color=class))"
   ]
  },
  {
   "cell_type": "markdown",
   "metadata": {},
   "source": [
    "For observations classified as A, the high probability density around x1=10 (0.1431) quantifies the assertion that finding a new observation classified as A in this vicinity is likely.  For observations classified as B, the probability density around x1=10 (0.0344) is not so high as for those classified as A, so this quantifies the assertion that finding a new observation classified as B in this vicinity is less likely.  Chances are that a new observation in this vicinity should be classified as A rather than B.  Note that to reach this conclusion, we needed two likelihoods, one for each class."
   ]
  },
  {
   "cell_type": "code",
   "execution_count": 5,
   "metadata": {
    "hide_input": true,
    "scrolled": false
   },
   "outputs": [
    {
     "data": {
      "text/html": [
       "<table>\n",
       "<thead><tr><th scope=col>x1</th><th scope=col>class</th><th scope=col>likelihood</th></tr></thead>\n",
       "<tbody>\n",
       "\t<tr><td>10        </td><td>A         </td><td>0.14306430</td></tr>\n",
       "\t<tr><td>10        </td><td>B         </td><td>0.03435121</td></tr>\n",
       "</tbody>\n",
       "</table>\n"
      ],
      "text/latex": [
       "\\begin{tabular}{r|lll}\n",
       " x1 & class & likelihood\\\\\n",
       "\\hline\n",
       "\t 10         & A          & 0.14306430\\\\\n",
       "\t 10         & B          & 0.03435121\\\\\n",
       "\\end{tabular}\n"
      ],
      "text/markdown": [
       "\n",
       "| x1 | class | likelihood |\n",
       "|---|---|---|\n",
       "| 10         | A          | 0.14306430 |\n",
       "| 10         | B          | 0.03435121 |\n",
       "\n"
      ],
      "text/plain": [
       "  x1 class likelihood\n",
       "1 10 A     0.14306430\n",
       "2 10 B     0.03435121"
      ]
     },
     "metadata": {},
     "output_type": "display_data"
    },
    {
     "data": {
      "image/png": "[encoded data removed]",
      "text/plain": [
       "plot without title"
      ]
     },
     "metadata": {
      "image/png": {
       "height": 360,
       "width": 840
      },
      "text/plain": {
       "height": 360,
       "width": 840
      }
     },
     "output_type": "display_data"
    }
   ],
   "source": [
    "model.10 = data.frame(x1=10, class=c(\"A\",\"B\"), likelihood=c(pdf.A(10), pdf.B(10)))\n",
    "model.10\n",
    "\n",
    "ggplot(data) + xlim(0,20) + xlab(\"x1\") + ylab(\"likelihood\") +\n",
    "stat_function(fun=pdf.A, geom=\"area\", fill=PALETTE[1], alpha=0.5) +\n",
    "stat_function(fun=pdf.B, geom=\"area\", fill=PALETTE[2], alpha=0.5) +\n",
    "geom_vline(aes(xintercept=10), lty=\"dotted\") +\n",
    "geom_point(aes(x=10, y=0), color=\"grey70\") +\n",
    "geom_text(aes(x=10, y=model.10[1,\"likelihood\"]), vjust=0, color=PALETTE[1], size=5, label=sprintf(\"%0.4f\",model.10[1,\"likelihood\"])) +\n",
    "geom_text(aes(x=10, y=model.10[2,\"likelihood\"]), vjust=0, color=PALETTE[2], size=5, label=sprintf(\"%0.4f\",model.10[2,\"likelihood\"]))"
   ]
  },
  {
   "cell_type": "markdown",
   "metadata": {},
   "source": [
    "Chances are that a new observation in this vicinity should be classified as A rather than B.  Note that to reach this conclusion, we needed two likelihoods, one for each class."
   ]
  },
  {
   "cell_type": "code",
   "execution_count": 6,
   "metadata": {
    "hide_input": true
   },
   "outputs": [
    {
     "data": {
      "text/html": [
       "<table>\n",
       "<thead><tr><th scope=col>x1</th><th scope=col>class.predicted</th></tr></thead>\n",
       "<tbody>\n",
       "\t<tr><td>10</td><td>A </td></tr>\n",
       "</tbody>\n",
       "</table>\n"
      ],
      "text/latex": [
       "\\begin{tabular}{r|ll}\n",
       " x1 & class.predicted\\\\\n",
       "\\hline\n",
       "\t 10 & A \\\\\n",
       "\\end{tabular}\n"
      ],
      "text/markdown": [
       "\n",
       "| x1 | class.predicted |\n",
       "|---|---|\n",
       "| 10 | A  |\n",
       "\n"
      ],
      "text/plain": [
       "  x1 class.predicted\n",
       "1 10 A              "
      ]
     },
     "metadata": {},
     "output_type": "display_data"
    }
   ],
   "source": [
    "prediction = model.10$class[which.max(model.10$likelihood)]\n",
    "data.frame(x1=10, class.predicted=prediction)"
   ]
  },
  {
   "cell_type": "markdown",
   "metadata": {},
   "source": [
    "### Prediction by Prior Probability\n",
    "\n",
    "An alternative to taking likelihood into account is to notice that observations are more often than not classified as B.   Recall that there are five observations classified as A and six observations classified as B.  Accordingly, we may want to classify the new observation as B to match what we see in the background, regardless of its x1 value.  This also seems like a reasonable option, though many (or most) people use this approach seldomly when making their own decisions.  It incorporates the notion of prior probability."
   ]
  },
  {
   "cell_type": "code",
   "execution_count": 7,
   "metadata": {
    "hide_input": true
   },
   "outputs": [
    {
     "data": {
      "text/html": [
       "<table><tr><td style=\"background-color:white; vertical-align:top; padding-right:40px;\"><table>\n",
       "<caption><center><font color=\"black\"><b>data.A</b></font></center></caption>\n",
       " <thead>\n",
       "  <tr>\n",
       "   <th style=\"text-align:right;background-color: #FFFFFF !important;\"> x1 </th>\n",
       "   <th style=\"text-align:right;background-color: #FFFFFF !important;\"> class </th>\n",
       "  </tr>\n",
       " </thead>\n",
       "<tbody>\n",
       "  <tr>\n",
       "   <td style=\"text-align:right;\"> 1.0 </td>\n",
       "   <td style=\"text-align:right;\"> A </td>\n",
       "  </tr>\n",
       "  <tr>\n",
       "   <td style=\"text-align:right;\"> 8.0 </td>\n",
       "   <td style=\"text-align:right;\"> A </td>\n",
       "  </tr>\n",
       "  <tr>\n",
       "   <td style=\"text-align:right;\"> 8.5 </td>\n",
       "   <td style=\"text-align:right;\"> A </td>\n",
       "  </tr>\n",
       "  <tr>\n",
       "   <td style=\"text-align:right;\"> 9.5 </td>\n",
       "   <td style=\"text-align:right;\"> A </td>\n",
       "  </tr>\n",
       "  <tr>\n",
       "   <td style=\"text-align:right;\"> 11.0 </td>\n",
       "   <td style=\"text-align:right;\"> A </td>\n",
       "  </tr>\n",
       "</tbody>\n",
       "</table></td><td style=\"background-color:white; vertical-align:top;\"><table>\n",
       "<caption><center><font color=\"black\"><b>data.B</b></font></center></caption>\n",
       " <thead>\n",
       "  <tr>\n",
       "   <th style=\"text-align:right;background-color: #FFFFFF !important;\"> x1 </th>\n",
       "   <th style=\"text-align:right;background-color: #FFFFFF !important;\"> class </th>\n",
       "  </tr>\n",
       " </thead>\n",
       "<tbody>\n",
       "  <tr>\n",
       "   <td style=\"text-align:right;\"> 9.0 </td>\n",
       "   <td style=\"text-align:right;\"> B </td>\n",
       "  </tr>\n",
       "  <tr>\n",
       "   <td style=\"text-align:right;\"> 14.0 </td>\n",
       "   <td style=\"text-align:right;\"> B </td>\n",
       "  </tr>\n",
       "  <tr>\n",
       "   <td style=\"text-align:right;\"> 15.0 </td>\n",
       "   <td style=\"text-align:right;\"> B </td>\n",
       "  </tr>\n",
       "  <tr>\n",
       "   <td style=\"text-align:right;\"> 16.0 </td>\n",
       "   <td style=\"text-align:right;\"> B </td>\n",
       "  </tr>\n",
       "  <tr>\n",
       "   <td style=\"text-align:right;\"> 16.5 </td>\n",
       "   <td style=\"text-align:right;\"> B </td>\n",
       "  </tr>\n",
       "  <tr>\n",
       "   <td style=\"text-align:right;\"> 18.0 </td>\n",
       "   <td style=\"text-align:right;\"> B </td>\n",
       "  </tr>\n",
       "</tbody>\n",
       "</table></td></tr></table>"
      ]
     },
     "metadata": {},
     "output_type": "display_data"
    }
   ],
   "source": [
    "layout(fmt(data.A), fmt(data.B))"
   ]
  },
  {
   "cell_type": "markdown",
   "metadata": {},
   "source": [
    "Let\\'s see how taking prior probability into account would play out.  There are no probability density functions involved here.  We only have to consider the class variable.  Build a relative frequency table to calculate class value proportions.  The proportions can range from zero to one.  A bar chart exposes that observations classified as A comprise 45% of the data and observations classified as B comprise 55% of the data."
   ]
  },
  {
   "cell_type": "code",
   "execution_count": 8,
   "metadata": {
    "hide_input": true,
    "scrolled": false
   },
   "outputs": [
    {
     "data": {
      "text/html": [
       "<table>\n",
       "<thead><tr><th scope=col>class</th><th scope=col>prior</th></tr></thead>\n",
       "<tbody>\n",
       "\t<tr><td>A        </td><td>0.4545455</td></tr>\n",
       "\t<tr><td>B        </td><td>0.5454545</td></tr>\n",
       "</tbody>\n",
       "</table>\n"
      ],
      "text/latex": [
       "\\begin{tabular}{r|ll}\n",
       " class & prior\\\\\n",
       "\\hline\n",
       "\t A         & 0.4545455\\\\\n",
       "\t B         & 0.5454545\\\\\n",
       "\\end{tabular}\n"
      ],
      "text/markdown": [
       "\n",
       "| class | prior |\n",
       "|---|---|\n",
       "| A         | 0.4545455 |\n",
       "| B         | 0.5454545 |\n",
       "\n"
      ],
      "text/plain": [
       "  class prior    \n",
       "1 A     0.4545455\n",
       "2 B     0.5454545"
      ]
     },
     "metadata": {},
     "output_type": "display_data"
    },
    {
     "data": {
      "image/png": "[encoded data removed]",
      "text/plain": [
       "plot without title"
      ]
     },
     "metadata": {
      "image/png": {
       "height": 360,
       "width": 840
      },
      "text/plain": {
       "height": 360,
       "width": 840
      }
     },
     "output_type": "display_data"
    }
   ],
   "source": [
    "prior.A = nrow(data.A) / nrow(data)\n",
    "prior.B = nrow(data.B) / nrow(data)\n",
    "\n",
    "prob = data.frame(class=c(\"A\",\"B\"), prior=c(prior.A, prior.B))\n",
    "prob\n",
    "\n",
    "ggplot(prob) + ylim(0,1) +\n",
    "geom_col(aes(x=class, y=prior, fill=class))"
   ]
  },
  {
   "cell_type": "markdown",
   "metadata": {},
   "source": [
    "Chances are that a new observation, regardless of vicinity, should be classified as B rather than A.  Note that to reach this conclusion, we needed two prior probabilities, one for each class."
   ]
  },
  {
   "cell_type": "code",
   "execution_count": 9,
   "metadata": {
    "hide_input": true,
    "scrolled": true
   },
   "outputs": [
    {
     "data": {
      "text/html": [
       "<table>\n",
       "<thead><tr><th scope=col>x1</th><th scope=col>class.predicted</th></tr></thead>\n",
       "<tbody>\n",
       "\t<tr><td>10</td><td>B </td></tr>\n",
       "</tbody>\n",
       "</table>\n"
      ],
      "text/latex": [
       "\\begin{tabular}{r|ll}\n",
       " x1 & class.predicted\\\\\n",
       "\\hline\n",
       "\t 10 & B \\\\\n",
       "\\end{tabular}\n"
      ],
      "text/markdown": [
       "\n",
       "| x1 | class.predicted |\n",
       "|---|---|\n",
       "| 10 | B  |\n",
       "\n"
      ],
      "text/plain": [
       "  x1 class.predicted\n",
       "1 10 B              "
      ]
     },
     "metadata": {},
     "output_type": "display_data"
    }
   ],
   "source": [
    "prediction = prob$class[which.max(prob$prior)]\n",
    "data.frame(x1=10, class.predicted=prediction)"
   ]
  },
  {
   "cell_type": "markdown",
   "metadata": {},
   "source": [
    "### Prediction by Relative Posterior Score\n",
    "\n",
    "Those are the two options.  Each has its merits.  But rather than debate which option is better, we can instead take both likelihood and prior probability into account when classifying a new observation.  To do that, we still need to classify based on single metrics for each class, but those metrics must incorporate information about the likelihoods and prior probabilities.  You may be able to think of several different ways to combine likelihoods and prior probabilities.  One way is to simply multiply them together to get what we call the posterior score, which aligns with our intuition about how such a metric should behave.  If the likelihood is a large number, that will drive the posterior score to be large, which is what we want.  If the prior probability is a large number, that will drive the posterior score to be large, which is what we want.  The posterior score is easy to calculate and compared to other approaches simplifies some upcoming math.  The relative posterior score is the posterior score scaled so that all posterior scores sum to one.\n",
    "\n",
    "Let\\'s see how taking the relative posterior score into account would play out.  We already have two likelihoods, one for each class.  And we already have two prior probabilities, one for each class.  Multiply the likelihood and prior probability for class A together.  Multiply the likelihood and prior probability for class B together.  That produces two posterior scores.  Each could potentially range from zero to approaching infinity.  The posterior score for our new observation classified as A is 0.0650.  The posterior score for our new observation classified as B is 0.01873.  "
   ]
  },
  {
   "cell_type": "code",
   "execution_count": 10,
   "metadata": {
    "hide_input": true
   },
   "outputs": [
    {
     "data": {
      "text/html": [
       "<table>\n",
       "<thead><tr><th scope=col>x1</th><th scope=col>class</th><th scope=col>likelihood</th><th scope=col>prior</th><th scope=col>posterior</th></tr></thead>\n",
       "<tbody>\n",
       "\t<tr><td>10        </td><td>A         </td><td>0.14306430</td><td>0.4545455 </td><td>0.06502923</td></tr>\n",
       "\t<tr><td>10        </td><td>B         </td><td>0.03435121</td><td>0.5454545 </td><td>0.01873702</td></tr>\n",
       "</tbody>\n",
       "</table>\n"
      ],
      "text/latex": [
       "\\begin{tabular}{r|lllll}\n",
       " x1 & class & likelihood & prior & posterior\\\\\n",
       "\\hline\n",
       "\t 10         & A          & 0.14306430 & 0.4545455  & 0.06502923\\\\\n",
       "\t 10         & B          & 0.03435121 & 0.5454545  & 0.01873702\\\\\n",
       "\\end{tabular}\n"
      ],
      "text/markdown": [
       "\n",
       "| x1 | class | likelihood | prior | posterior |\n",
       "|---|---|---|---|---|\n",
       "| 10         | A          | 0.14306430 | 0.4545455  | 0.06502923 |\n",
       "| 10         | B          | 0.03435121 | 0.5454545  | 0.01873702 |\n",
       "\n"
      ],
      "text/plain": [
       "  x1 class likelihood prior     posterior \n",
       "1 10 A     0.14306430 0.4545455 0.06502923\n",
       "2 10 B     0.03435121 0.5454545 0.01873702"
      ]
     },
     "metadata": {},
     "output_type": "display_data"
    },
    {
     "data": {
      "image/png": "[encoded data removed]",
      "text/plain": [
       "plot without title"
      ]
     },
     "metadata": {
      "image/png": {
       "height": 360,
       "width": 840
      },
      "text/plain": {
       "height": 360,
       "width": 840
      }
     },
     "output_type": "display_data"
    }
   ],
   "source": [
    "posterior.A = pdf.A(10) * prior.A\n",
    "posterior.B = pdf.B(10) * prior.B\n",
    "\n",
    "model.10 = data.frame(x1=10,\n",
    "                      class=c(\"A\",\"B\"),\n",
    "                      likelihood=c(pdf.A(10), pdf.B(10)),\n",
    "                      prior=c(prior.A, prior.B),\n",
    "                      posterior=c(posterior.A, posterior.B))\n",
    "\n",
    "model.10\n",
    "ggplot(model.10) + geom_col(aes(x=class, y=posterior, fill=class))"
   ]
  },
  {
   "cell_type": "markdown",
   "metadata": {},
   "source": [
    "The relative posterior score for our new observation classified as A is 0.7763, because the posterior score for class A is 77.63% of the sum of both posterior scores.  Now re-scale these scores.  The relative posterior score for our new observation classified as B is 0.2236, because the posterior score for class B is 22.36% of the sum of both posterior scores.  The relative posterior scores range from zero to one."
   ]
  },
  {
   "cell_type": "code",
   "execution_count": 11,
   "metadata": {
    "hide_input": true
   },
   "outputs": [
    {
     "data": {
      "text/html": [
       "<table>\n",
       "<thead><tr><th scope=col>x1</th><th scope=col>class</th><th scope=col>likelihood</th><th scope=col>prior</th><th scope=col>posterior</th><th scope=col>relative_posterior</th><th scope=col>probability</th></tr></thead>\n",
       "<tbody>\n",
       "\t<tr><td>10        </td><td>A         </td><td>0.14306430</td><td>0.4545455 </td><td>0.06502923</td><td>0.7763177 </td><td>0.7763177 </td></tr>\n",
       "\t<tr><td>10        </td><td>B         </td><td>0.03435121</td><td>0.5454545 </td><td>0.01873702</td><td>0.2236823 </td><td>0.2236823 </td></tr>\n",
       "</tbody>\n",
       "</table>\n"
      ],
      "text/latex": [
       "\\begin{tabular}{r|lllllll}\n",
       " x1 & class & likelihood & prior & posterior & relative\\_posterior & probability\\\\\n",
       "\\hline\n",
       "\t 10         & A          & 0.14306430 & 0.4545455  & 0.06502923 & 0.7763177  & 0.7763177 \\\\\n",
       "\t 10         & B          & 0.03435121 & 0.5454545  & 0.01873702 & 0.2236823  & 0.2236823 \\\\\n",
       "\\end{tabular}\n"
      ],
      "text/markdown": [
       "\n",
       "| x1 | class | likelihood | prior | posterior | relative_posterior | probability |\n",
       "|---|---|---|---|---|---|---|\n",
       "| 10         | A          | 0.14306430 | 0.4545455  | 0.06502923 | 0.7763177  | 0.7763177  |\n",
       "| 10         | B          | 0.03435121 | 0.5454545  | 0.01873702 | 0.2236823  | 0.2236823  |\n",
       "\n"
      ],
      "text/plain": [
       "  x1 class likelihood prior     posterior  relative_posterior probability\n",
       "1 10 A     0.14306430 0.4545455 0.06502923 0.7763177          0.7763177  \n",
       "2 10 B     0.03435121 0.5454545 0.01873702 0.2236823          0.2236823  "
      ]
     },
     "metadata": {},
     "output_type": "display_data"
    },
    {
     "data": {
      "image/png": "[encoded data removed]",
      "text/plain": [
       "plot without title"
      ]
     },
     "metadata": {
      "image/png": {
       "height": 360,
       "width": 840
      },
      "text/plain": {
       "height": 360,
       "width": 840
      }
     },
     "output_type": "display_data"
    }
   ],
   "source": [
    "model.10 = data.frame(x1=10,\n",
    "                      class=c(\"A\",\"B\"),\n",
    "                      likelihood=c(pdf.A(10), pdf.B(10)),\n",
    "                      prior=c(prior.A, prior.B),\n",
    "                      posterior=c(posterior.A, posterior.B),\n",
    "                      relative_posterior=c(posterior.A/(posterior.A+posterior.B), posterior.B/(posterior.A+posterior.B)),\n",
    "                      probability=c(posterior.A/(posterior.A+posterior.B), posterior.B/(posterior.A+posterior.B)))\n",
    "\n",
    "model.10\n",
    "ggplot(model.10) + ylim(0,1) + geom_col(aes(x=class, y=probability, fill=class))"
   ]
  },
  {
   "cell_type": "markdown",
   "metadata": {},
   "source": [
    "Chances are that a new observation in this vicinity should be classified as A rather than B.  Note that to reach this conclusion, we needed two relative posterior scores, one for each class.\n",
    "\n",
    "It is not far from this point to being able to classify based on model-generated probabilities and a cutoff, as described by the general classification methodology.  Treat the relative posterior score for a class as the probability that a new observation should be classified as that class.  Then compare the probability to the cutoff.  If it exceeds that threshold, classify the new observation as the appropriate class accordingly.  The relative posterior score for our new observation classified as A is 77.63%.  So, according to the model generated by the naive Bayes method, the probability that the new observation is classified as A is 77.63%.  That is larger than a cutoff of, say, 50%, so the new observation should be classified as A.  "
   ]
  },
  {
   "cell_type": "code",
   "execution_count": 12,
   "metadata": {
    "hide_input": true
   },
   "outputs": [
    {
     "data": {
      "text/html": [
       "<table>\n",
       "<thead><tr><th scope=col>x1</th><th scope=col>cutoff</th><th scope=col>class.predicted</th></tr></thead>\n",
       "<tbody>\n",
       "\t<tr><td>10 </td><td>0.5</td><td>A  </td></tr>\n",
       "</tbody>\n",
       "</table>\n"
      ],
      "text/latex": [
       "\\begin{tabular}{r|lll}\n",
       " x1 & cutoff & class.predicted\\\\\n",
       "\\hline\n",
       "\t 10  & 0.5 & A  \\\\\n",
       "\\end{tabular}\n"
      ],
      "text/markdown": [
       "\n",
       "| x1 | cutoff | class.predicted |\n",
       "|---|---|---|\n",
       "| 10  | 0.5 | A   |\n",
       "\n"
      ],
      "text/plain": [
       "  x1 cutoff class.predicted\n",
       "1 10 0.5    A              "
      ]
     },
     "metadata": {},
     "output_type": "display_data"
    }
   ],
   "source": [
    "cutoff = 0.5\n",
    "prediction = model.10$class[model.10$probability >= cutoff]\n",
    "data.frame(x1=10, cutoff, class.predicted=prediction)"
   ]
  },
  {
   "cell_type": "markdown",
   "metadata": {},
   "source": [
    "## Naive Bayes and One Categorical Predictor Variable\n",
    "\n",
    "Here is how naive Bayes works using data with one categoric predictor variable and a class variable.  It is like what we just did with a numeric predictor variable, except that we will use relative frequency tables rather than probability density functions to find likelihoods."
   ]
  },
  {
   "cell_type": "markdown",
   "metadata": {
    "hide_input": true
   },
   "source": [
    "### Data\n",
    "\n",
    "Consider the pedagogical dataset comprising 11 observations.  Each observation has an x1 value of q, r, or s and is classified as either A or B.  Consider also a new unclassified observation at x1=q.  A bar chart of x1 value counts color-coded by class exposes some patterns.  Most of the observations classified as A are at x1 equal to r or s.  The observations classified as B are more evenly spread out across x1 equal to q, r, and s.  Also, there are 7 observations classified as A and 4 observations classified as B.  Should the new observation be classified as A or B?"
   ]
  },
  {
   "cell_type": "code",
   "execution_count": 13,
   "metadata": {
    "hideCode": false,
    "hidePrompt": false,
    "hide_input": true,
    "run_control": {
     "marked": false
    }
   },
   "outputs": [
    {
     "data": {
      "text/html": [
       "<table><tr><td style=\"background-color:white; vertical-align:top; padding-right:40px;\"><table>\n",
       "<caption><center><font color=\"black\"><b>data</b></font></center></caption>\n",
       " <thead>\n",
       "  <tr>\n",
       "   <th style=\"text-align:right;background-color: #FFFFFF !important;\"> x1 </th>\n",
       "   <th style=\"text-align:right;background-color: #FFFFFF !important;\"> class </th>\n",
       "  </tr>\n",
       " </thead>\n",
       "<tbody>\n",
       "  <tr>\n",
       "   <td style=\"text-align:right;\"> q </td>\n",
       "   <td style=\"text-align:right;\"> A </td>\n",
       "  </tr>\n",
       "  <tr>\n",
       "   <td style=\"text-align:right;\"> r </td>\n",
       "   <td style=\"text-align:right;\"> B </td>\n",
       "  </tr>\n",
       "  <tr>\n",
       "   <td style=\"text-align:right;\"> r </td>\n",
       "   <td style=\"text-align:right;\"> A </td>\n",
       "  </tr>\n",
       "  <tr>\n",
       "   <td style=\"text-align:right;\"> r </td>\n",
       "   <td style=\"text-align:right;\"> A </td>\n",
       "  </tr>\n",
       "  <tr>\n",
       "   <td style=\"text-align:right;\"> s </td>\n",
       "   <td style=\"text-align:right;\"> A </td>\n",
       "  </tr>\n",
       "  <tr>\n",
       "   <td style=\"text-align:right;\"> s </td>\n",
       "   <td style=\"text-align:right;\"> A </td>\n",
       "  </tr>\n",
       "  <tr>\n",
       "   <td style=\"text-align:right;\"> s </td>\n",
       "   <td style=\"text-align:right;\"> A </td>\n",
       "  </tr>\n",
       "  <tr>\n",
       "   <td style=\"text-align:right;\"> r </td>\n",
       "   <td style=\"text-align:right;\"> A </td>\n",
       "  </tr>\n",
       "  <tr>\n",
       "   <td style=\"text-align:right;\"> q </td>\n",
       "   <td style=\"text-align:right;\"> B </td>\n",
       "  </tr>\n",
       "  <tr>\n",
       "   <td style=\"text-align:right;\"> q </td>\n",
       "   <td style=\"text-align:right;\"> B </td>\n",
       "  </tr>\n",
       "  <tr>\n",
       "   <td style=\"text-align:right;\"> s </td>\n",
       "   <td style=\"text-align:right;\"> B </td>\n",
       "  </tr>\n",
       "</tbody>\n",
       "</table></td><td style=\"background-color:white; vertical-align:top;\"><table>\n",
       "<caption><center><font color=\"black\"><b>new</b></font></center></caption>\n",
       " <thead>\n",
       "  <tr>\n",
       "   <th style=\"text-align:right;background-color: #FFFFFF !important;\"> x1 </th>\n",
       "  </tr>\n",
       " </thead>\n",
       "<tbody>\n",
       "  <tr>\n",
       "   <td style=\"text-align:right;\"> q </td>\n",
       "  </tr>\n",
       "</tbody>\n",
       "</table></td></tr></table>"
      ]
     },
     "metadata": {},
     "output_type": "display_data"
    },
    {
     "data": {
      "image/png": "[encoded data removed]",
      "text/plain": [
       "plot without title"
      ]
     },
     "metadata": {
      "image/png": {
       "height": 360,
       "width": 840
      },
      "text/plain": {
       "height": 360,
       "width": 840
      }
     },
     "output_type": "display_data"
    }
   ],
   "source": [
    "data = data.frame(x1=c(\"q\",\"r\",\"r\",\"r\",\"s\",\"s\",\"s\",\"r\",\"q\",\"q\",\"s\"),\n",
    "                  class=c(\"A\", \"B\", \"A\", \"A\", \"A\", \"A\", \"A\", \"A\", \"B\", \"B\", \"B\"))\n",
    "new = data.frame(x1=\"q\")\n",
    "layout(fmt(data), fmt(new))\n",
    "\n",
    "ggplot(data) + geom_bar(aes(x=x1, fill=class), position=position_dodge())"
   ]
  },
  {
   "cell_type": "markdown",
   "metadata": {},
   "source": [
    "### Calculate Likelihoods\n",
    "\n",
    "Following the reasoning that we already went through, you can base your classification on both likelihoods and prior probabilities.  But because the predictor variable is categoric, we use relative frequency tables to find the likelihoods of a new observation.  Partition the data by class, when effectively conditions our next steps on class.  Build two relative frequency tables, one for each partition.  The relative frequency for each x1 value within each table can range from zero to one.  A bar chart of x1 value relative frequencies color-coded by class exposes some patterns.  Now, treat the relative frequencies as the being the likelihoods."
   ]
  },
  {
   "cell_type": "code",
   "execution_count": 14,
   "metadata": {
    "hide_input": true,
    "scrolled": false
   },
   "outputs": [
    {
     "data": {
      "text/html": [
       "<table><tr><td style=\"background-color:white; vertical-align:top; padding-right:40px;\"><table>\n",
       "<caption><center><font color=\"black\"><b>data.A</b></font></center></caption>\n",
       " <thead>\n",
       "  <tr>\n",
       "   <th style=\"text-align:right;background-color: #FFFFFF !important;\"> x1 </th>\n",
       "   <th style=\"text-align:right;background-color: #FFFFFF !important;\"> class </th>\n",
       "  </tr>\n",
       " </thead>\n",
       "<tbody>\n",
       "  <tr>\n",
       "   <td style=\"text-align:right;\"> q </td>\n",
       "   <td style=\"text-align:right;\"> A </td>\n",
       "  </tr>\n",
       "  <tr>\n",
       "   <td style=\"text-align:right;\"> r </td>\n",
       "   <td style=\"text-align:right;\"> A </td>\n",
       "  </tr>\n",
       "  <tr>\n",
       "   <td style=\"text-align:right;\"> r </td>\n",
       "   <td style=\"text-align:right;\"> A </td>\n",
       "  </tr>\n",
       "  <tr>\n",
       "   <td style=\"text-align:right;\"> s </td>\n",
       "   <td style=\"text-align:right;\"> A </td>\n",
       "  </tr>\n",
       "  <tr>\n",
       "   <td style=\"text-align:right;\"> s </td>\n",
       "   <td style=\"text-align:right;\"> A </td>\n",
       "  </tr>\n",
       "  <tr>\n",
       "   <td style=\"text-align:right;\"> s </td>\n",
       "   <td style=\"text-align:right;\"> A </td>\n",
       "  </tr>\n",
       "  <tr>\n",
       "   <td style=\"text-align:right;\"> r </td>\n",
       "   <td style=\"text-align:right;\"> A </td>\n",
       "  </tr>\n",
       "</tbody>\n",
       "</table></td><td style=\"background-color:white; vertical-align:top;\"><table>\n",
       "<caption><center><font color=\"black\"><b>data.B</b></font></center></caption>\n",
       " <thead>\n",
       "  <tr>\n",
       "   <th style=\"text-align:right;background-color: #FFFFFF !important;\"> x1 </th>\n",
       "   <th style=\"text-align:right;background-color: #FFFFFF !important;\"> class </th>\n",
       "  </tr>\n",
       " </thead>\n",
       "<tbody>\n",
       "  <tr>\n",
       "   <td style=\"text-align:right;\"> r </td>\n",
       "   <td style=\"text-align:right;\"> B </td>\n",
       "  </tr>\n",
       "  <tr>\n",
       "   <td style=\"text-align:right;\"> q </td>\n",
       "   <td style=\"text-align:right;\"> B </td>\n",
       "  </tr>\n",
       "  <tr>\n",
       "   <td style=\"text-align:right;\"> q </td>\n",
       "   <td style=\"text-align:right;\"> B </td>\n",
       "  </tr>\n",
       "  <tr>\n",
       "   <td style=\"text-align:right;\"> s </td>\n",
       "   <td style=\"text-align:right;\"> B </td>\n",
       "  </tr>\n",
       "</tbody>\n",
       "</table></td></tr></table>"
      ]
     },
     "metadata": {},
     "output_type": "display_data"
    }
   ],
   "source": [
    "data.A = data[data$class==\"A\",]\n",
    "data.B = data[data$class==\"B\",]\n",
    "\n",
    "layout(fmt(data.A), fmt(data.B))"
   ]
  },
  {
   "cell_type": "code",
   "execution_count": 15,
   "metadata": {
    "hide_input": true
   },
   "outputs": [
    {
     "data": {
      "text/html": [
       "<table><tr><td style=\"background-color:white; vertical-align:top; padding-right:40px;\"><table>\n",
       "<caption><center><font color=\"black\"><b>info.A</b></font></center></caption>\n",
       " <thead>\n",
       "  <tr>\n",
       "   <th style=\"text-align:right;background-color: #FFFFFF !important;\"> x1 </th>\n",
       "   <th style=\"text-align:right;background-color: #FFFFFF !important;\"> likelihood </th>\n",
       "   <th style=\"text-align:right;background-color: #FFFFFF !important;\"> class </th>\n",
       "  </tr>\n",
       " </thead>\n",
       "<tbody>\n",
       "  <tr>\n",
       "   <td style=\"text-align:right;\"> q </td>\n",
       "   <td style=\"text-align:right;\"> 0.1428571 </td>\n",
       "   <td style=\"text-align:right;\"> A </td>\n",
       "  </tr>\n",
       "  <tr>\n",
       "   <td style=\"text-align:right;\"> r </td>\n",
       "   <td style=\"text-align:right;\"> 0.4285714 </td>\n",
       "   <td style=\"text-align:right;\"> A </td>\n",
       "  </tr>\n",
       "  <tr>\n",
       "   <td style=\"text-align:right;\"> s </td>\n",
       "   <td style=\"text-align:right;\"> 0.4285714 </td>\n",
       "   <td style=\"text-align:right;\"> A </td>\n",
       "  </tr>\n",
       "</tbody>\n",
       "</table></td><td style=\"background-color:white; vertical-align:top;\"><table>\n",
       "<caption><center><font color=\"black\"><b>info.B</b></font></center></caption>\n",
       " <thead>\n",
       "  <tr>\n",
       "   <th style=\"text-align:right;background-color: #FFFFFF !important;\"> x1 </th>\n",
       "   <th style=\"text-align:right;background-color: #FFFFFF !important;\"> likelihood </th>\n",
       "   <th style=\"text-align:right;background-color: #FFFFFF !important;\"> class </th>\n",
       "  </tr>\n",
       " </thead>\n",
       "<tbody>\n",
       "  <tr>\n",
       "   <td style=\"text-align:right;\"> q </td>\n",
       "   <td style=\"text-align:right;\"> 0.50 </td>\n",
       "   <td style=\"text-align:right;\"> B </td>\n",
       "  </tr>\n",
       "  <tr>\n",
       "   <td style=\"text-align:right;\"> r </td>\n",
       "   <td style=\"text-align:right;\"> 0.25 </td>\n",
       "   <td style=\"text-align:right;\"> B </td>\n",
       "  </tr>\n",
       "  <tr>\n",
       "   <td style=\"text-align:right;\"> s </td>\n",
       "   <td style=\"text-align:right;\"> 0.25 </td>\n",
       "   <td style=\"text-align:right;\"> B </td>\n",
       "  </tr>\n",
       "</tbody>\n",
       "</table></td></tr></table>"
      ]
     },
     "metadata": {},
     "output_type": "display_data"
    }
   ],
   "source": [
    "info.A = data.frame(table(data.A$x1)/nrow(data.A), \"A\"); colnames(info.A) = c(\"x1\",\"likelihood\",\"class\")\n",
    "info.B = data.frame(table(data.B$x1)/nrow(data.B), \"B\"); colnames(info.B) = c(\"x1\",\"likelihood\",\"class\")\n",
    "\n",
    "layout(fmt(info.A), fmt(info.B))"
   ]
  },
  {
   "cell_type": "code",
   "execution_count": 16,
   "metadata": {
    "hide_input": true,
    "scrolled": false
   },
   "outputs": [
    {
     "data": {
      "image/png": "[encoded data removed]",
      "text/plain": [
       "plot without title"
      ]
     },
     "metadata": {
      "image/png": {
       "height": 360,
       "width": 840
      },
      "text/plain": {
       "height": 360,
       "width": 840
      }
     },
     "output_type": "display_data"
    }
   ],
   "source": [
    "ggplot(rbind(info.A, info.B)) + ylim(0,1) +\n",
    "geom_col(aes(x=x1, y=likelihood, fill=class), position=position_dodge()) +\n",
    "geom_text(aes(x=x1, y=likelihood, label=sprintf(\"%0.4f\", likelihood)), data=info.A, color=PALETTE[1], hjust=1.5, vjust=-0.5) +\n",
    "geom_text(aes(x=x1, y=likelihood, label=sprintf(\"%0.4f\", likelihood)), data=info.B, color=PALETTE[2], hjust=-0.5, vjust=-0.5)"
   ]
  },
  {
   "cell_type": "markdown",
   "metadata": {},
   "source": [
    "For an observation classified as A, the low relative frequency at x1=q (0.1429) quantifies the assertion that finding a new observation classified as A at x1=q is only somewhat likely.  For an observation classified as B, the relative frequency at x1=q (0.5000) is almost five times higher than for an observation classified as A, so this quantifies the assertion that finding a new observation classified as B at x1=q is more likely.  Note that to reach this conclusion, we needed two likelihoods, one for each class."
   ]
  },
  {
   "cell_type": "code",
   "execution_count": 17,
   "metadata": {
    "hide_input": true,
    "scrolled": false
   },
   "outputs": [
    {
     "data": {
      "text/html": [
       "<table>\n",
       "<thead><tr><th scope=col>x1</th><th scope=col>likelihood</th><th scope=col>class</th></tr></thead>\n",
       "<tbody>\n",
       "\t<tr><td>q        </td><td>0.1428571</td><td>A        </td></tr>\n",
       "\t<tr><td>q        </td><td>0.5000000</td><td>B        </td></tr>\n",
       "</tbody>\n",
       "</table>\n"
      ],
      "text/latex": [
       "\\begin{tabular}{r|lll}\n",
       " x1 & likelihood & class\\\\\n",
       "\\hline\n",
       "\t q         & 0.1428571 & A        \\\\\n",
       "\t q         & 0.5000000 & B        \\\\\n",
       "\\end{tabular}\n"
      ],
      "text/markdown": [
       "\n",
       "| x1 | likelihood | class |\n",
       "|---|---|---|\n",
       "| q         | 0.1428571 | A         |\n",
       "| q         | 0.5000000 | B         |\n",
       "\n"
      ],
      "text/plain": [
       "  x1 likelihood class\n",
       "1 q  0.1428571  A    \n",
       "2 q  0.5000000  B    "
      ]
     },
     "metadata": {},
     "output_type": "display_data"
    }
   ],
   "source": [
    "rbind(info.A[1,], info.B[1,])"
   ]
  },
  {
   "cell_type": "markdown",
   "metadata": {},
   "source": [
    "To recap: When the predictor variable is numeric, then the likelihoods are probability densities.  When the predictor variable is categoric, then the likelihoods are relative frequencies. "
   ]
  },
  {
   "cell_type": "markdown",
   "metadata": {},
   "source": [
    "### Calculate Prior Probabilities\n",
    "\n",
    "Prior probabilities can be calculated as we did before because they do not involve the predictor variable.  Our data comprises seven observations classified as A and four observations classified as B, 11 observations in total.  The prior probability of an observation classified as A is 63.63% (7 $\\div$ 11).  The prior probability of an observation classified as B is 36.36% (4 $\\div$ 11)."
   ]
  },
  {
   "cell_type": "code",
   "execution_count": 18,
   "metadata": {
    "hide_input": true,
    "scrolled": true
   },
   "outputs": [
    {
     "data": {
      "text/html": [
       "<table><tr><td style=\"background-color:white; vertical-align:top; padding-right:40px;\"><table>\n",
       "<caption><center><font color=\"black\"><b>data.A</b></font></center></caption>\n",
       " <thead>\n",
       "  <tr>\n",
       "   <th style=\"text-align:right;background-color: #FFFFFF !important;\"> x1 </th>\n",
       "   <th style=\"text-align:right;background-color: #FFFFFF !important;\"> class </th>\n",
       "  </tr>\n",
       " </thead>\n",
       "<tbody>\n",
       "  <tr>\n",
       "   <td style=\"text-align:right;\"> q </td>\n",
       "   <td style=\"text-align:right;\"> A </td>\n",
       "  </tr>\n",
       "  <tr>\n",
       "   <td style=\"text-align:right;\"> r </td>\n",
       "   <td style=\"text-align:right;\"> A </td>\n",
       "  </tr>\n",
       "  <tr>\n",
       "   <td style=\"text-align:right;\"> r </td>\n",
       "   <td style=\"text-align:right;\"> A </td>\n",
       "  </tr>\n",
       "  <tr>\n",
       "   <td style=\"text-align:right;\"> s </td>\n",
       "   <td style=\"text-align:right;\"> A </td>\n",
       "  </tr>\n",
       "  <tr>\n",
       "   <td style=\"text-align:right;\"> s </td>\n",
       "   <td style=\"text-align:right;\"> A </td>\n",
       "  </tr>\n",
       "  <tr>\n",
       "   <td style=\"text-align:right;\"> s </td>\n",
       "   <td style=\"text-align:right;\"> A </td>\n",
       "  </tr>\n",
       "  <tr>\n",
       "   <td style=\"text-align:right;\"> r </td>\n",
       "   <td style=\"text-align:right;\"> A </td>\n",
       "  </tr>\n",
       "</tbody>\n",
       "</table></td><td style=\"background-color:white; vertical-align:top;\"><table>\n",
       "<caption><center><font color=\"black\"><b>data.B</b></font></center></caption>\n",
       " <thead>\n",
       "  <tr>\n",
       "   <th style=\"text-align:right;background-color: #FFFFFF !important;\"> x1 </th>\n",
       "   <th style=\"text-align:right;background-color: #FFFFFF !important;\"> class </th>\n",
       "  </tr>\n",
       " </thead>\n",
       "<tbody>\n",
       "  <tr>\n",
       "   <td style=\"text-align:right;\"> r </td>\n",
       "   <td style=\"text-align:right;\"> B </td>\n",
       "  </tr>\n",
       "  <tr>\n",
       "   <td style=\"text-align:right;\"> q </td>\n",
       "   <td style=\"text-align:right;\"> B </td>\n",
       "  </tr>\n",
       "  <tr>\n",
       "   <td style=\"text-align:right;\"> q </td>\n",
       "   <td style=\"text-align:right;\"> B </td>\n",
       "  </tr>\n",
       "  <tr>\n",
       "   <td style=\"text-align:right;\"> s </td>\n",
       "   <td style=\"text-align:right;\"> B </td>\n",
       "  </tr>\n",
       "</tbody>\n",
       "</table></td></tr></table>"
      ]
     },
     "metadata": {},
     "output_type": "display_data"
    }
   ],
   "source": [
    "layout(fmt(data.A), fmt(data.B))"
   ]
  },
  {
   "cell_type": "code",
   "execution_count": 19,
   "metadata": {
    "hide_input": true
   },
   "outputs": [
    {
     "data": {
      "text/html": [
       "<table>\n",
       "<thead><tr><th scope=col>class</th><th scope=col>prior</th></tr></thead>\n",
       "<tbody>\n",
       "\t<tr><td>A        </td><td>0.6363636</td></tr>\n",
       "\t<tr><td>B        </td><td>0.3636364</td></tr>\n",
       "</tbody>\n",
       "</table>\n"
      ],
      "text/latex": [
       "\\begin{tabular}{r|ll}\n",
       " class & prior\\\\\n",
       "\\hline\n",
       "\t A         & 0.6363636\\\\\n",
       "\t B         & 0.3636364\\\\\n",
       "\\end{tabular}\n"
      ],
      "text/markdown": [
       "\n",
       "| class | prior |\n",
       "|---|---|\n",
       "| A         | 0.6363636 |\n",
       "| B         | 0.3636364 |\n",
       "\n"
      ],
      "text/plain": [
       "  class prior    \n",
       "1 A     0.6363636\n",
       "2 B     0.3636364"
      ]
     },
     "metadata": {},
     "output_type": "display_data"
    },
    {
     "data": {
      "image/png": "[encoded data removed]",
      "text/plain": [
       "plot without title"
      ]
     },
     "metadata": {
      "image/png": {
       "height": 360,
       "width": 840
      },
      "text/plain": {
       "height": 360,
       "width": 840
      }
     },
     "output_type": "display_data"
    }
   ],
   "source": [
    "prior.A = nrow(data.A) / nrow(data)\n",
    "prior.B = nrow(data.B) / nrow(data)\n",
    "\n",
    "model = data.frame(class=c(\"A\",\"B\"), prior=c(prior.A, prior.B))\n",
    "model\n",
    "\n",
    "ggplot(model) + ylim(0,1) + geom_col(aes(x=class, y=prior, fill=class))"
   ]
  },
  {
   "cell_type": "markdown",
   "metadata": {},
   "source": [
    "### Predict by Relative Posterior Score\n",
    "\n",
    "Now take into account both likelihoods and prior probabilities by multiplying them together to get the posterior scores.  The posterior score for an observation at x1=q classified as A is 0.0909 (0.1429 $\\times$ 0.6363).  The posterior score for an observation at x1=q classified as B is 0.1818 (0.5000 $\\times$ 0.3636)."
   ]
  },
  {
   "cell_type": "code",
   "execution_count": 20,
   "metadata": {
    "hide_input": true,
    "scrolled": false
   },
   "outputs": [
    {
     "data": {
      "text/html": [
       "<table>\n",
       "<thead><tr><th scope=col>x1</th><th scope=col>class</th><th scope=col>likelihood</th><th scope=col>prior</th><th scope=col>posterior</th></tr></thead>\n",
       "<tbody>\n",
       "\t<tr><td>q         </td><td>A         </td><td>0.1428571 </td><td>0.6363636 </td><td>0.09090909</td></tr>\n",
       "\t<tr><td>q         </td><td>B         </td><td>0.5000000 </td><td>0.3636364 </td><td>0.18181818</td></tr>\n",
       "</tbody>\n",
       "</table>\n"
      ],
      "text/latex": [
       "\\begin{tabular}{r|lllll}\n",
       " x1 & class & likelihood & prior & posterior\\\\\n",
       "\\hline\n",
       "\t q          & A          & 0.1428571  & 0.6363636  & 0.09090909\\\\\n",
       "\t q          & B          & 0.5000000  & 0.3636364  & 0.18181818\\\\\n",
       "\\end{tabular}\n"
      ],
      "text/markdown": [
       "\n",
       "| x1 | class | likelihood | prior | posterior |\n",
       "|---|---|---|---|---|\n",
       "| q          | A          | 0.1428571  | 0.6363636  | 0.09090909 |\n",
       "| q          | B          | 0.5000000  | 0.3636364  | 0.18181818 |\n",
       "\n"
      ],
      "text/plain": [
       "  x1 class likelihood prior     posterior \n",
       "1 q  A     0.1428571  0.6363636 0.09090909\n",
       "2 q  B     0.5000000  0.3636364 0.18181818"
      ]
     },
     "metadata": {},
     "output_type": "display_data"
    },
    {
     "data": {
      "image/png": "[encoded data removed]",
      "text/plain": [
       "plot without title"
      ]
     },
     "metadata": {
      "image/png": {
       "height": 360,
       "width": 840
      },
      "text/plain": {
       "height": 360,
       "width": 840
      }
     },
     "output_type": "display_data"
    }
   ],
   "source": [
    "posterior.A = info.A$likelihood[1] * prior.A\n",
    "posterior.B = info.B$likelihood[1] * prior.B\n",
    "\n",
    "model.q = data.frame(x1=new$x1,\n",
    "                     class=c(\"A\",\"B\"),\n",
    "                     likelihood=c(info.A$likelihood[1], info.B$likelihood[1]),\n",
    "                     prior=c(prior.A, prior.B),\n",
    "                     posterior=c(posterior.A, posterior.B))\n",
    "\n",
    "model.q\n",
    "ggplot(model.q) + geom_col(aes(x=class, y=posterior, fill=class))"
   ]
  },
  {
   "cell_type": "markdown",
   "metadata": {},
   "source": [
    "Each of the posterior scores are in the range zero to one, but they do not sum to one.  Scale them so that they do.  The posterior scores sum to 0.2727.  That makes the relative posterior score for an observation at x1=q classified as A be 33.33% (0.0909 $\\div$ 0.2727).  The relative posterior score for an observation at x1=q classified as B is 66.66% (0.1818 $\\div$ 0.2727)."
   ]
  },
  {
   "cell_type": "code",
   "execution_count": 21,
   "metadata": {
    "hide_input": true,
    "scrolled": false
   },
   "outputs": [
    {
     "data": {
      "text/html": [
       "<table>\n",
       "<thead><tr><th scope=col>x1</th><th scope=col>class</th><th scope=col>likelihood</th><th scope=col>prior</th><th scope=col>posterior</th><th scope=col>relative_posterior</th><th scope=col>probability</th></tr></thead>\n",
       "<tbody>\n",
       "\t<tr><td>q         </td><td>A         </td><td>0.1428571 </td><td>0.6363636 </td><td>0.09090909</td><td>0.3333333 </td><td>0.3333333 </td></tr>\n",
       "\t<tr><td>q         </td><td>B         </td><td>0.5000000 </td><td>0.3636364 </td><td>0.18181818</td><td>0.6666667 </td><td>0.6666667 </td></tr>\n",
       "</tbody>\n",
       "</table>\n"
      ],
      "text/latex": [
       "\\begin{tabular}{r|lllllll}\n",
       " x1 & class & likelihood & prior & posterior & relative\\_posterior & probability\\\\\n",
       "\\hline\n",
       "\t q          & A          & 0.1428571  & 0.6363636  & 0.09090909 & 0.3333333  & 0.3333333 \\\\\n",
       "\t q          & B          & 0.5000000  & 0.3636364  & 0.18181818 & 0.6666667  & 0.6666667 \\\\\n",
       "\\end{tabular}\n"
      ],
      "text/markdown": [
       "\n",
       "| x1 | class | likelihood | prior | posterior | relative_posterior | probability |\n",
       "|---|---|---|---|---|---|---|\n",
       "| q          | A          | 0.1428571  | 0.6363636  | 0.09090909 | 0.3333333  | 0.3333333  |\n",
       "| q          | B          | 0.5000000  | 0.3636364  | 0.18181818 | 0.6666667  | 0.6666667  |\n",
       "\n"
      ],
      "text/plain": [
       "  x1 class likelihood prior     posterior  relative_posterior probability\n",
       "1 q  A     0.1428571  0.6363636 0.09090909 0.3333333          0.3333333  \n",
       "2 q  B     0.5000000  0.3636364 0.18181818 0.6666667          0.6666667  "
      ]
     },
     "metadata": {},
     "output_type": "display_data"
    },
    {
     "data": {
      "image/png": "[encoded data removed]",
      "text/plain": [
       "plot without title"
      ]
     },
     "metadata": {
      "image/png": {
       "height": 360,
       "width": 840
      },
      "text/plain": {
       "height": 360,
       "width": 840
      }
     },
     "output_type": "display_data"
    }
   ],
   "source": [
    "model.q = data.frame(x1=new$x1,\n",
    "                     class=c(\"A\",\"B\"),\n",
    "                     likelihood=c(info.A$likelihood[1], info.B$likelihood[1]),\n",
    "                     prior=c(prior.A, prior.B),\n",
    "                     posterior=c(posterior.A, posterior.B),\n",
    "                     relative_posterior=c(posterior.A/(posterior.A+posterior.B), posterior.B/(posterior.A+posterior.B)),\n",
    "                     probability=c(posterior.A/(posterior.A+posterior.B), posterior.B/(posterior.A+posterior.B)))\n",
    "\n",
    "model.q\n",
    "ggplot(model.q) + ylim(0,1) + geom_col(aes(x=class, y=probability, fill=class))"
   ]
  },
  {
   "cell_type": "markdown",
   "metadata": {},
   "source": [
    "Treat the relative posterior scores as the probabilities that the new observation should be classified as A of B.  According to the model generated by the naive Bayes method, the probability that the new observation is classified as A is 33.33%.  That is smaller than a cutoff of, say, 50%, so the new observation should be classified as B."
   ]
  },
  {
   "cell_type": "code",
   "execution_count": 22,
   "metadata": {
    "hide_input": true
   },
   "outputs": [
    {
     "data": {
      "text/html": [
       "<table>\n",
       "<thead><tr><th scope=col>x1</th><th scope=col>cutoff</th><th scope=col>class.predicted</th></tr></thead>\n",
       "<tbody>\n",
       "\t<tr><td>10 </td><td>0.5</td><td>B  </td></tr>\n",
       "</tbody>\n",
       "</table>\n"
      ],
      "text/latex": [
       "\\begin{tabular}{r|lll}\n",
       " x1 & cutoff & class.predicted\\\\\n",
       "\\hline\n",
       "\t 10  & 0.5 & B  \\\\\n",
       "\\end{tabular}\n"
      ],
      "text/markdown": [
       "\n",
       "| x1 | cutoff | class.predicted |\n",
       "|---|---|---|\n",
       "| 10  | 0.5 | B   |\n",
       "\n"
      ],
      "text/plain": [
       "  x1 cutoff class.predicted\n",
       "1 10 0.5    B              "
      ]
     },
     "metadata": {},
     "output_type": "display_data"
    }
   ],
   "source": [
    "cutoff = 0.5\n",
    "prediction = model.q$class[model.q$probability >= cutoff]\n",
    "data.frame(x1=10, cutoff, class.predicted=prediction)"
   ]
  },
  {
   "cell_type": "markdown",
   "metadata": {},
   "source": [
    "To recap:  The naive Bayes method builds a model specified by the way likelihoods are to be calculated and some prior probabilities, all inferred from some reference classified data.  Likelihoods are calculated from a set of specific probability density functions if the predictor variable is numeric, or from a specific relative frequency table if the predictor variable is categoric.  There are separate likelihood calculators for each class.  There are separate prior probabilities for each class.  Given such a model, you can classify a new observation by calculating the probability of it being classified one way or the other, and comparing that probability to a cutoff that you set ahead of time.  The formula for the probability of a new observation being classified as A is this: multiply the likelihood of the new observation being classified as A by the prior probability of it being classified as A, scale this number to get the relative posterior score, and treat the relative posterior score as the probability."
   ]
  },
  {
   "cell_type": "markdown",
   "metadata": {},
   "source": [
    "## Naive Bayes and Many Predictor Variables\n",
    "\n",
    "Here is how naïve Bayes works using data with many predictor variables and a class variable.  "
   ]
  },
  {
   "cell_type": "markdown",
   "metadata": {},
   "source": [
    "### Data\n",
    "\n",
    "Consider the pedagogical dataset comprising 11 observations.  Each observation has an x1 value, an x2 value, and is classified as either A or B.  In this data, both x1 and x2 happen to be numeric.  Consider also a new unclassified observation at x1=10 and x2=4.  A two-dimensional scatterplot of x2 values versus x1 values color-coded by class exposes some patterns.  The observations classified as A have relatively low x1 and x2 values, so they appear in the lower left part of the plot.  The observations classified as B have relatively high x1 and x2 values, so they appear in the upper right part of the plot.  Observations classified as A and observations classified as B both appear in the middle of the plot.  Also, there are five observations classified as A and six observations classified as B.  The new observation at x1=10 and x2=4 is shown in gray to emphasize that we do not know its class. Should the new observation be classified as A or B?"
   ]
  },
  {
   "cell_type": "code",
   "execution_count": 23,
   "metadata": {
    "hideCode": false,
    "hidePrompt": false,
    "hide_input": true,
    "run_control": {
     "marked": false
    },
    "scrolled": false
   },
   "outputs": [
    {
     "data": {
      "text/html": [
       "<table><tr><td style=\"background-color:white; vertical-align:top; padding-right:40px;\"><table>\n",
       "<caption><center><font color=\"black\"><b>data</b></font></center></caption>\n",
       " <thead>\n",
       "  <tr>\n",
       "   <th style=\"text-align:right;background-color: #FFFFFF !important;\"> x1 </th>\n",
       "   <th style=\"text-align:right;background-color: #FFFFFF !important;\"> x2 </th>\n",
       "   <th style=\"text-align:right;background-color: #FFFFFF !important;\"> class </th>\n",
       "  </tr>\n",
       " </thead>\n",
       "<tbody>\n",
       "  <tr>\n",
       "   <td style=\"text-align:right;\"> 1.0 </td>\n",
       "   <td style=\"text-align:right;\"> 1.0 </td>\n",
       "   <td style=\"text-align:right;\"> A </td>\n",
       "  </tr>\n",
       "  <tr>\n",
       "   <td style=\"text-align:right;\"> 8.0 </td>\n",
       "   <td style=\"text-align:right;\"> 2.0 </td>\n",
       "   <td style=\"text-align:right;\"> A </td>\n",
       "  </tr>\n",
       "  <tr>\n",
       "   <td style=\"text-align:right;\"> 8.5 </td>\n",
       "   <td style=\"text-align:right;\"> 3.5 </td>\n",
       "   <td style=\"text-align:right;\"> A </td>\n",
       "  </tr>\n",
       "  <tr>\n",
       "   <td style=\"text-align:right;\"> 9.5 </td>\n",
       "   <td style=\"text-align:right;\"> 3.0 </td>\n",
       "   <td style=\"text-align:right;\"> A </td>\n",
       "  </tr>\n",
       "  <tr>\n",
       "   <td style=\"text-align:right;\"> 11.0 </td>\n",
       "   <td style=\"text-align:right;\"> 5.5 </td>\n",
       "   <td style=\"text-align:right;\"> A </td>\n",
       "  </tr>\n",
       "  <tr>\n",
       "   <td style=\"text-align:right;\"> 9.0 </td>\n",
       "   <td style=\"text-align:right;\"> 5.0 </td>\n",
       "   <td style=\"text-align:right;\"> B </td>\n",
       "  </tr>\n",
       "  <tr>\n",
       "   <td style=\"text-align:right;\"> 14.0 </td>\n",
       "   <td style=\"text-align:right;\"> 6.5 </td>\n",
       "   <td style=\"text-align:right;\"> B </td>\n",
       "  </tr>\n",
       "  <tr>\n",
       "   <td style=\"text-align:right;\"> 15.0 </td>\n",
       "   <td style=\"text-align:right;\"> 7.0 </td>\n",
       "   <td style=\"text-align:right;\"> B </td>\n",
       "  </tr>\n",
       "  <tr>\n",
       "   <td style=\"text-align:right;\"> 16.0 </td>\n",
       "   <td style=\"text-align:right;\"> 6.2 </td>\n",
       "   <td style=\"text-align:right;\"> B </td>\n",
       "  </tr>\n",
       "  <tr>\n",
       "   <td style=\"text-align:right;\"> 16.5 </td>\n",
       "   <td style=\"text-align:right;\"> 5.7 </td>\n",
       "   <td style=\"text-align:right;\"> B </td>\n",
       "  </tr>\n",
       "  <tr>\n",
       "   <td style=\"text-align:right;\"> 18.0 </td>\n",
       "   <td style=\"text-align:right;\"> 7.5 </td>\n",
       "   <td style=\"text-align:right;\"> B </td>\n",
       "  </tr>\n",
       "</tbody>\n",
       "</table></td><td style=\"background-color:white; vertical-align:top;\"><table>\n",
       "<caption><center><font color=\"black\"><b>new</b></font></center></caption>\n",
       " <thead>\n",
       "  <tr>\n",
       "   <th style=\"text-align:right;background-color: #FFFFFF !important;\"> x1 </th>\n",
       "   <th style=\"text-align:right;background-color: #FFFFFF !important;\"> x2 </th>\n",
       "  </tr>\n",
       " </thead>\n",
       "<tbody>\n",
       "  <tr>\n",
       "   <td style=\"text-align:right;\"> 10 </td>\n",
       "   <td style=\"text-align:right;\"> 4 </td>\n",
       "  </tr>\n",
       "</tbody>\n",
       "</table></td></tr></table>"
      ]
     },
     "metadata": {},
     "output_type": "display_data"
    },
    {
     "data": {
      "image/png": "[encoded data removed]",
      "text/plain": [
       "plot without title"
      ]
     },
     "metadata": {
      "image/png": {
       "height": 360,
       "width": 840
      },
      "text/plain": {
       "height": 360,
       "width": 840
      }
     },
     "output_type": "display_data"
    }
   ],
   "source": [
    "data = data.frame(x1=c(1,8,8.5,9.5,11,9,14,15,16,16.5,18),\n",
    "                  x2=c(1,2,3.5,3,5.5,5,6.5,7,6.2,5.7,7.5),\n",
    "                  class=c(\"A\", \"A\", \"A\", \"A\", \"A\", \"B\", \"B\", \"B\", \"B\", \"B\", \"B\"))\n",
    "new = data.frame(x1=10, x2=4)\n",
    "layout(fmt(data), fmt(new))\n",
    "\n",
    "ggplot(data) + xlim(0,20) +\n",
    "geom_point(aes(x=x1, y=x2, color=class)) + geom_point(aes(x=10, y=4), color=\"grey70\")"
   ]
  },
  {
   "cell_type": "markdown",
   "metadata": {},
   "source": [
    "Taking into account likelihoods only, perhaps you would reason that the new observation should be classified as A because it appears within a concentration of other observations classified as A, arranged along a diagonal.  In contrast, the new observation is just outside the concentration of other observations classified as B, arranged along a diagonal.  Taking into account prior probabilities only, perhaps you would reason that the new observation should be classified as B because there are more observations classified as B than there are observations classified as A.  Taking into account both likelihood and prior probabilities, you could combine their magnitudes somehow.  To do this when there is more than one predictor variable, we need to adjust how we calculate likelihoods and adjust how we combine likelihood and prior probability."
   ]
  },
  {
   "cell_type": "markdown",
   "metadata": {},
   "source": [
    "### Calculate Likelihoods\n",
    "\n",
    "One way to adjust the likelihood calculation, which is not what the naive Bayes method does, would be to find multi-variate probability density functions and use those as measures of likelihood.  Those would effectively be probability density contours or hyper-contours that account for many variables.  Recall that there are versions of the kernel density estimation method that do account for many variables.  This approach would be computationally intensive and mathematically complex.\n",
    "\n",
    "A simpler way to adjust the likelihood calculation, which is what the naive Bayes method does, is to find separate probability density functions for each variable.  That is a one-variable probability density function for each class for each variable.  This approach does not account for any interaction there might be between variables, which we will just accept as not necessary to capture.\n",
    "\n",
    "Let\\'s see how finding separate probability functions for each predictor variable would play out.  Partition the data by class, which effectively conditions our next steps on class.  For each variable, x1 and x2, build two probability density functions, one for each partition.  Recall that you can use the kernel density estimation method to build probability density functions.  The probability densities can range from zero to approaching infinity.\n",
    "\n",
    "A one-dimensional scatterplot of x1 values color-coded by class overlaid onto plots of the two probability density functions exposes some patterns.  For observations classified as A, the high probability density around x1=10 (0.1431) quantifies the assertion that finding a new observation classified as A in this vicinity is likely.  For observations classified as B, the probability density around x1=10 (0.0344) is not so high as for those classified as A, so this quantifies the assertion that finding a new observation classified as B in this vicinity is less likely."
   ]
  },
  {
   "cell_type": "code",
   "execution_count": 24,
   "metadata": {
    "hide_input": true,
    "scrolled": false
   },
   "outputs": [],
   "source": [
    "data.A = data[data$class==\"A\",]\n",
    "data.B = data[data$class==\"B\",]\n",
    "\n",
    "d.A.x1 = density(data.A[,\"x1\"], bw=0.7, from=0, to=20); pdf.A.x1 = approxfun(d.A.x1)\n",
    "d.B.x1 = density(data.B[,\"x1\"], bw=0.7, from=0, to=20); pdf.B.x1 = approxfun(d.B.x1)\n",
    "\n",
    "d.A.x2 = density(data.A[,\"x2\"], bw=0.7, from=0, to=20); pdf.A.x2 = approxfun(d.A.x2)\n",
    "d.B.x2 = density(data.B[,\"x2\"], bw=0.7, from=0, to=20); pdf.B.x2 = approxfun(d.B.x2)"
   ]
  },
  {
   "cell_type": "code",
   "execution_count": 25,
   "metadata": {
    "hide_input": true,
    "scrolled": false
   },
   "outputs": [
    {
     "data": {
      "text/html": [
       "<table>\n",
       "<thead><tr><th scope=col>x1</th><th scope=col>class</th><th scope=col>likelihood</th></tr></thead>\n",
       "<tbody>\n",
       "\t<tr><td>10        </td><td>A         </td><td>0.14306430</td></tr>\n",
       "\t<tr><td>10        </td><td>B         </td><td>0.03435121</td></tr>\n",
       "</tbody>\n",
       "</table>\n"
      ],
      "text/latex": [
       "\\begin{tabular}{r|lll}\n",
       " x1 & class & likelihood\\\\\n",
       "\\hline\n",
       "\t 10         & A          & 0.14306430\\\\\n",
       "\t 10         & B          & 0.03435121\\\\\n",
       "\\end{tabular}\n"
      ],
      "text/markdown": [
       "\n",
       "| x1 | class | likelihood |\n",
       "|---|---|---|\n",
       "| 10         | A          | 0.14306430 |\n",
       "| 10         | B          | 0.03435121 |\n",
       "\n"
      ],
      "text/plain": [
       "  x1 class likelihood\n",
       "1 10 A     0.14306430\n",
       "2 10 B     0.03435121"
      ]
     },
     "metadata": {},
     "output_type": "display_data"
    },
    {
     "data": {
      "image/png": "[encoded data removed]",
      "text/plain": [
       "plot without title"
      ]
     },
     "metadata": {
      "image/png": {
       "height": 360,
       "width": 840
      },
      "text/plain": {
       "height": 360,
       "width": 840
      }
     },
     "output_type": "display_data"
    }
   ],
   "source": [
    "model.x1 = data.frame(x1=10, class=c(\"A\",\"B\"), likelihood=c(pdf.A.x1(10), pdf.B.x1(10)))\n",
    "model.x1\n",
    "\n",
    "ggplot(data) + xlim(0,20) + xlab(\"x1\") + ylab(\"likelihood\") +\n",
    "stat_function(fun=pdf.A.x1, geom=\"area\", fill=PALETTE[1], alpha=0.5) +\n",
    "stat_function(fun=pdf.B.x1, geom=\"area\", fill=PALETTE[2], alpha=0.5) +\n",
    "geom_vline(aes(xintercept=10), lty=\"dotted\") +\n",
    "geom_point(aes(x=10, y=0), color=\"grey70\") +\n",
    "geom_point(aes(x=x1, y=0, color=class))"
   ]
  },
  {
   "cell_type": "markdown",
   "metadata": {},
   "source": [
    "Similarly, a one-dimensional scatterplot of x2 values color-coded by class overlaid onto plots of the two probability density functions exposes some other patterns.  For observations classified as A, the probability density around x2=4 (0.1431) quantifies the assertion that finding a new observation classified as A in this vicinity is somewhat likely.  For observations classified as B, the probability density around x2=4 (0.0403) is much lower, so this quantifies the assertion that finding a new observation classified as B in this vicinity is less likely."
   ]
  },
  {
   "cell_type": "code",
   "execution_count": 26,
   "metadata": {
    "hide_input": true,
    "scrolled": false
   },
   "outputs": [
    {
     "data": {
      "text/html": [
       "<table>\n",
       "<thead><tr><th scope=col>x2</th><th scope=col>class</th><th scope=col>likelihood</th></tr></thead>\n",
       "<tbody>\n",
       "\t<tr><td>4         </td><td>A         </td><td>0.14308327</td></tr>\n",
       "\t<tr><td>4         </td><td>B         </td><td>0.04026897</td></tr>\n",
       "</tbody>\n",
       "</table>\n"
      ],
      "text/latex": [
       "\\begin{tabular}{r|lll}\n",
       " x2 & class & likelihood\\\\\n",
       "\\hline\n",
       "\t 4          & A          & 0.14308327\\\\\n",
       "\t 4          & B          & 0.04026897\\\\\n",
       "\\end{tabular}\n"
      ],
      "text/markdown": [
       "\n",
       "| x2 | class | likelihood |\n",
       "|---|---|---|\n",
       "| 4          | A          | 0.14308327 |\n",
       "| 4          | B          | 0.04026897 |\n",
       "\n"
      ],
      "text/plain": [
       "  x2 class likelihood\n",
       "1 4  A     0.14308327\n",
       "2 4  B     0.04026897"
      ]
     },
     "metadata": {},
     "output_type": "display_data"
    },
    {
     "data": {
      "image/png": "[encoded data removed]",
      "text/plain": [
       "plot without title"
      ]
     },
     "metadata": {
      "image/png": {
       "height": 360,
       "width": 840
      },
      "text/plain": {
       "height": 360,
       "width": 840
      }
     },
     "output_type": "display_data"
    }
   ],
   "source": [
    "model.x2 = data.frame(x2=4, class=c(\"A\",\"B\"), likelihood=c(pdf.A.x2(4), pdf.B.x2(4)))\n",
    "model.x2\n",
    "\n",
    "ggplot(data) + xlim(0,20) + xlab(\"x2\") + ylab(\"likelihood\") +\n",
    "stat_function(fun=pdf.A.x2, geom=\"area\", fill=PALETTE[1], alpha=0.5) +\n",
    "stat_function(fun=pdf.B.x2, geom=\"area\", fill=PALETTE[2], alpha=0.5) +\n",
    "geom_vline(aes(xintercept=4), lty=\"dotted\") +\n",
    "geom_point(aes(x=4, y=0), color=\"grey70\") +\n",
    "geom_point(aes(x=x2, y=0, color=class))"
   ]
  },
  {
   "cell_type": "markdown",
   "metadata": {},
   "source": [
    "From the perspective of x1 and the perspective of x2, chances are that a new observation in this vicinity should be classified as A rather than B.  Note that to reach this conclusion, we needed four likelihoods, one for each class for each variable."
   ]
  },
  {
   "cell_type": "markdown",
   "metadata": {},
   "source": [
    "### Calculate Prior Probabilities\n",
    "\n",
    "Prior probabilities are calculated as before because they do not depend on predictor variables.  The prior probability of an observation classified as A is 45% (5 $\\div$ 11).  The prior probability of an observation classified as B is 55% (6 $\\div$ 11)."
   ]
  },
  {
   "cell_type": "code",
   "execution_count": 27,
   "metadata": {
    "hide_input": true
   },
   "outputs": [
    {
     "data": {
      "text/html": [
       "<table>\n",
       "<thead><tr><th scope=col>class</th><th scope=col>prior</th></tr></thead>\n",
       "<tbody>\n",
       "\t<tr><td>A        </td><td>0.4545455</td></tr>\n",
       "\t<tr><td>B        </td><td>0.5454545</td></tr>\n",
       "</tbody>\n",
       "</table>\n"
      ],
      "text/latex": [
       "\\begin{tabular}{r|ll}\n",
       " class & prior\\\\\n",
       "\\hline\n",
       "\t A         & 0.4545455\\\\\n",
       "\t B         & 0.5454545\\\\\n",
       "\\end{tabular}\n"
      ],
      "text/markdown": [
       "\n",
       "| class | prior |\n",
       "|---|---|\n",
       "| A         | 0.4545455 |\n",
       "| B         | 0.5454545 |\n",
       "\n"
      ],
      "text/plain": [
       "  class prior    \n",
       "1 A     0.4545455\n",
       "2 B     0.5454545"
      ]
     },
     "metadata": {},
     "output_type": "display_data"
    },
    {
     "data": {
      "image/png": "[encoded data removed]",
      "text/plain": [
       "plot without title"
      ]
     },
     "metadata": {
      "image/png": {
       "height": 360,
       "width": 840
      },
      "text/plain": {
       "height": 360,
       "width": 840
      }
     },
     "output_type": "display_data"
    }
   ],
   "source": [
    "prior.A = nrow(data.A) / nrow(data)\n",
    "prior.B = nrow(data.B) / nrow(data)\n",
    "\n",
    "prob = data.frame(class=c(\"A\",\"B\"), prior=c(prior.A, prior.B))\n",
    "prob\n",
    "\n",
    "ggplot(prob) + ylim(0,1) + geom_col(aes(x=class, y=prior, fill=class))"
   ]
  },
  {
   "cell_type": "markdown",
   "metadata": {},
   "source": [
    "### Predict by Relative Posterior Score\n",
    "\n",
    "Now, we want the posterior scores to account for all the likelihoods and the prior probabilities.  Each class is associated with not one but two likelihoods, one for x1 and one for x2.  When we worked with one predictor variable, we calculated the posterior score for each class as the product of the likelihood and the prior probability.  With more than one predictor variable, we can calculate the posterior score as the product of all the likelihoods and the prior probability.  The posterior score for an observation classified as A at x1=10 and x2=4 is 0.009304 (0.1431 $\\times$ 0.1431 $\\times$ 0.4545).  The posterior score for an observation classified as B at x1=10 and x2=4 is 0.000754 (0.0344 $\\times$ 0.0403 $\\times$ 0.5454).  The posterior scores sum to 0.0100 (0.009304 + 0.000754)."
   ]
  },
  {
   "cell_type": "code",
   "execution_count": 28,
   "metadata": {
    "hide_input": true
   },
   "outputs": [
    {
     "data": {
      "text/html": [
       "<table>\n",
       "<thead><tr><th scope=col>x1</th><th scope=col>x2</th><th scope=col>class</th><th scope=col>likelihood_x1</th><th scope=col>likelihood_x2</th><th scope=col>prior</th><th scope=col>posterior</th></tr></thead>\n",
       "<tbody>\n",
       "\t<tr><td>10          </td><td>4           </td><td>A           </td><td>0.14306430  </td><td>0.14308327  </td><td>0.4545455   </td><td>0.0093045944</td></tr>\n",
       "\t<tr><td>10          </td><td>4           </td><td>B           </td><td>0.03435121  </td><td>0.04026897  </td><td>0.5454545   </td><td>0.0007545206</td></tr>\n",
       "</tbody>\n",
       "</table>\n"
      ],
      "text/latex": [
       "\\begin{tabular}{r|lllllll}\n",
       " x1 & x2 & class & likelihood\\_x1 & likelihood\\_x2 & prior & posterior\\\\\n",
       "\\hline\n",
       "\t 10           & 4            & A            & 0.14306430   & 0.14308327   & 0.4545455    & 0.0093045944\\\\\n",
       "\t 10           & 4            & B            & 0.03435121   & 0.04026897   & 0.5454545    & 0.0007545206\\\\\n",
       "\\end{tabular}\n"
      ],
      "text/markdown": [
       "\n",
       "| x1 | x2 | class | likelihood_x1 | likelihood_x2 | prior | posterior |\n",
       "|---|---|---|---|---|---|---|\n",
       "| 10           | 4            | A            | 0.14306430   | 0.14308327   | 0.4545455    | 0.0093045944 |\n",
       "| 10           | 4            | B            | 0.03435121   | 0.04026897   | 0.5454545    | 0.0007545206 |\n",
       "\n"
      ],
      "text/plain": [
       "  x1 x2 class likelihood_x1 likelihood_x2 prior     posterior   \n",
       "1 10 4  A     0.14306430    0.14308327    0.4545455 0.0093045944\n",
       "2 10 4  B     0.03435121    0.04026897    0.5454545 0.0007545206"
      ]
     },
     "metadata": {},
     "output_type": "display_data"
    },
    {
     "data": {
      "image/png": "[encoded data removed]",
      "text/plain": [
       "plot without title"
      ]
     },
     "metadata": {
      "image/png": {
       "height": 360,
       "width": 840
      },
      "text/plain": {
       "height": 360,
       "width": 840
      }
     },
     "output_type": "display_data"
    }
   ],
   "source": [
    "posterior.A = pdf.A.x1(10) * pdf.A.x2(4) * prior.A\n",
    "posterior.B = pdf.B.x1(10) * pdf.B.x2(4) * prior.B\n",
    "\n",
    "model.10.4 = data.frame(x1=10,\n",
    "                        x2=4,\n",
    "                        class=c(\"A\",\"B\"),\n",
    "                        likelihood_x1=c(pdf.A.x1(10), pdf.B.x1(10)),\n",
    "                        likelihood_x2=c(pdf.A.x2(4), pdf.B.x2(4)),\n",
    "                        prior=c(prior.A, prior.B),\n",
    "                        posterior=c(posterior.A, posterior.B))\n",
    "\n",
    "\n",
    "model.10.4\n",
    "ggplot(model.10.4) + geom_col(aes(x=class, y=posterior, fill=class))"
   ]
  },
  {
   "cell_type": "markdown",
   "metadata": {},
   "source": [
    "The relative posterior score for an observation classified as A at x1=10 and x2=4 is 0.9249 (0.009304 $\\div$ 0.0100).  The relative posterior score for an observation classified as B at x1=10 and x2=4 is 0.0750 (0.000754 $\\div$ 0.0100)."
   ]
  },
  {
   "cell_type": "code",
   "execution_count": 29,
   "metadata": {
    "hide_input": true,
    "scrolled": false
   },
   "outputs": [
    {
     "data": {
      "text/html": [
       "<table>\n",
       "<thead><tr><th scope=col>class</th><th scope=col>likelihood_x1</th><th scope=col>likelihood_x2</th><th scope=col>prior</th><th scope=col>posterior</th><th scope=col>relative_posterior</th><th scope=col>probability</th></tr></thead>\n",
       "<tbody>\n",
       "\t<tr><td>A           </td><td>0.14306430  </td><td>0.14308327  </td><td>0.4545455   </td><td>0.0093045944</td><td>0.92499135  </td><td>0.92499135  </td></tr>\n",
       "\t<tr><td>B           </td><td>0.03435121  </td><td>0.04026897  </td><td>0.5454545   </td><td>0.0007545206</td><td>0.07500865  </td><td>0.07500865  </td></tr>\n",
       "</tbody>\n",
       "</table>\n"
      ],
      "text/latex": [
       "\\begin{tabular}{r|lllllll}\n",
       " class & likelihood\\_x1 & likelihood\\_x2 & prior & posterior & relative\\_posterior & probability\\\\\n",
       "\\hline\n",
       "\t A            & 0.14306430   & 0.14308327   & 0.4545455    & 0.0093045944 & 0.92499135   & 0.92499135  \\\\\n",
       "\t B            & 0.03435121   & 0.04026897   & 0.5454545    & 0.0007545206 & 0.07500865   & 0.07500865  \\\\\n",
       "\\end{tabular}\n"
      ],
      "text/markdown": [
       "\n",
       "| class | likelihood_x1 | likelihood_x2 | prior | posterior | relative_posterior | probability |\n",
       "|---|---|---|---|---|---|---|\n",
       "| A            | 0.14306430   | 0.14308327   | 0.4545455    | 0.0093045944 | 0.92499135   | 0.92499135   |\n",
       "| B            | 0.03435121   | 0.04026897   | 0.5454545    | 0.0007545206 | 0.07500865   | 0.07500865   |\n",
       "\n"
      ],
      "text/plain": [
       "  class likelihood_x1 likelihood_x2 prior     posterior    relative_posterior\n",
       "1 A     0.14306430    0.14308327    0.4545455 0.0093045944 0.92499135        \n",
       "2 B     0.03435121    0.04026897    0.5454545 0.0007545206 0.07500865        \n",
       "  probability\n",
       "1 0.92499135 \n",
       "2 0.07500865 "
      ]
     },
     "metadata": {},
     "output_type": "display_data"
    },
    {
     "data": {
      "image/png": "[encoded data removed]",
      "text/plain": [
       "plot without title"
      ]
     },
     "metadata": {
      "image/png": {
       "height": 360,
       "width": 840
      },
      "text/plain": {
       "height": 360,
       "width": 840
      }
     },
     "output_type": "display_data"
    }
   ],
   "source": [
    "model.10.4 = data.frame(class=c(\"A\",\"B\"),\n",
    "                        likelihood_x1=c(pdf.A.x1(10), pdf.B.x1(10)),\n",
    "                        likelihood_x2=c(pdf.A.x2(4), pdf.B.x2(4)),\n",
    "                        prior=c(prior.A, prior.B),\n",
    "                        posterior=c(posterior.A, posterior.B),\n",
    "                        relative_posterior=c(posterior.A/(posterior.A+posterior.B), posterior.B/(posterior.A+posterior.B)),\n",
    "                        probability=c(posterior.A/(posterior.A+posterior.B), posterior.B/(posterior.A+posterior.B)))\n",
    "\n",
    "\n",
    "model.10.4\n",
    "ggplot(model.10.4) + ylim(0,1) + geom_col(aes(x=class, y=probability, fill=class))"
   ]
  },
  {
   "cell_type": "markdown",
   "metadata": {},
   "source": [
    "Treat the relative posterior scores as the probabilities that the new observation should be classified as A of B.  According to the model generated by the naive Bayes method, the probability that the new observation is classified as A is 92.49%.  That is larger than a cutoff of, say, 50%, so the new observation should be classified as A."
   ]
  },
  {
   "cell_type": "code",
   "execution_count": 30,
   "metadata": {
    "hide_input": true
   },
   "outputs": [
    {
     "data": {
      "text/html": [
       "<table>\n",
       "<thead><tr><th scope=col>x1</th><th scope=col>x2</th><th scope=col>cutoff</th><th scope=col>class.predicted</th></tr></thead>\n",
       "<tbody>\n",
       "\t<tr><td>10 </td><td>4  </td><td>0.5</td><td>A  </td></tr>\n",
       "</tbody>\n",
       "</table>\n"
      ],
      "text/latex": [
       "\\begin{tabular}{r|llll}\n",
       " x1 & x2 & cutoff & class.predicted\\\\\n",
       "\\hline\n",
       "\t 10  & 4   & 0.5 & A  \\\\\n",
       "\\end{tabular}\n"
      ],
      "text/markdown": [
       "\n",
       "| x1 | x2 | cutoff | class.predicted |\n",
       "|---|---|---|---|\n",
       "| 10  | 4   | 0.5 | A   |\n",
       "\n"
      ],
      "text/plain": [
       "  x1 x2 cutoff class.predicted\n",
       "1 10 4  0.5    A              "
      ]
     },
     "metadata": {},
     "output_type": "display_data"
    }
   ],
   "source": [
    "cutoff = 0.5\n",
    "prediction = model.10.4$class[model.10.4$probability >= cutoff]\n",
    "data.frame(x1=10, x2=4, cutoff, class.predicted=prediction)"
   ]
  },
  {
   "cell_type": "markdown",
   "metadata": {},
   "source": [
    "See that the posterior score calculated as the product of more than one likelihood and a prior probability aligns with our intuition about how such a metric should behave.  If any of the likelihoods is a large number, that will drive the posterior score to be large, which is what we want.  If the prior probability is a large number, that will drive the posterior score to be large, which is what we want.  If some of the factors are large and some are small, then there is a competition for which factors overwhelm the others, which is what we want.  You may still be concerned that the likelihoods could be extremely large while the prior probabilities will always be less than one, so that the prior probability\\'s contribution to the posterior scores will too often get overwhelmed.  But this will not be a problem for us because ultimately we are concerned only with the relative magnitudes of the posterior scores.  Whatever contribution the prior probabilities make to the relative posterior scores will be on the same order of magnitude for both classes.\n",
    "\n",
    "You can generalize this approach to handle more than two predictor variables and handle any combination of numeric and categoric predictor variables.  Calculate as many sets of likelihoods as there are predictor variables, using probability density functions for numeric variables and relative frequency tables for categoric variables.  Calculate posterior scores for each class as the products of all likelihoods and prior probabilities for that class.  Scale the posterior scores to relative posterior scores and treat those as the probabilities that a new observation should be classified as A or B."
   ]
  },
  {
   "cell_type": "markdown",
   "metadata": {},
   "source": [
    "## Naive Bayes with Gaussian Estimation\n",
    "\n",
    "Here is a popular simplified version of naive Bayes that uses Gaussian functions rather than kernel density estimation to find likelihoods for numeric variables.  Recall that a Gaussian function generates a bell-shaped curve corresponding to the probability density of a normal distribution of values adjusted for mean and standard deviation."
   ]
  },
  {
   "cell_type": "markdown",
   "metadata": {},
   "source": [
    "### Data\n",
    "\n",
    "Consider the pedagogical dataset comprising 11 observations.  Each observation has an x1 value, which is numeric, and is classified as either A or B.  Consider also a new unclassified observation at x1=10.  Should the new observation be classified as A or B?"
   ]
  },
  {
   "cell_type": "code",
   "execution_count": 31,
   "metadata": {
    "hide_input": true
   },
   "outputs": [
    {
     "data": {
      "text/html": [
       "<table><tr><td style=\"background-color:white; vertical-align:top; padding-right:40px;\"><table>\n",
       "<caption><center><font color=\"black\"><b>data</b></font></center></caption>\n",
       " <thead>\n",
       "  <tr>\n",
       "   <th style=\"text-align:right;background-color: #FFFFFF !important;\"> x1 </th>\n",
       "   <th style=\"text-align:right;background-color: #FFFFFF !important;\"> class </th>\n",
       "  </tr>\n",
       " </thead>\n",
       "<tbody>\n",
       "  <tr>\n",
       "   <td style=\"text-align:right;\"> 1.0 </td>\n",
       "   <td style=\"text-align:right;\"> A </td>\n",
       "  </tr>\n",
       "  <tr>\n",
       "   <td style=\"text-align:right;\"> 8.0 </td>\n",
       "   <td style=\"text-align:right;\"> A </td>\n",
       "  </tr>\n",
       "  <tr>\n",
       "   <td style=\"text-align:right;\"> 8.5 </td>\n",
       "   <td style=\"text-align:right;\"> A </td>\n",
       "  </tr>\n",
       "  <tr>\n",
       "   <td style=\"text-align:right;\"> 9.5 </td>\n",
       "   <td style=\"text-align:right;\"> A </td>\n",
       "  </tr>\n",
       "  <tr>\n",
       "   <td style=\"text-align:right;\"> 11.0 </td>\n",
       "   <td style=\"text-align:right;\"> A </td>\n",
       "  </tr>\n",
       "  <tr>\n",
       "   <td style=\"text-align:right;\"> 9.0 </td>\n",
       "   <td style=\"text-align:right;\"> B </td>\n",
       "  </tr>\n",
       "  <tr>\n",
       "   <td style=\"text-align:right;\"> 14.0 </td>\n",
       "   <td style=\"text-align:right;\"> B </td>\n",
       "  </tr>\n",
       "  <tr>\n",
       "   <td style=\"text-align:right;\"> 15.0 </td>\n",
       "   <td style=\"text-align:right;\"> B </td>\n",
       "  </tr>\n",
       "  <tr>\n",
       "   <td style=\"text-align:right;\"> 16.0 </td>\n",
       "   <td style=\"text-align:right;\"> B </td>\n",
       "  </tr>\n",
       "  <tr>\n",
       "   <td style=\"text-align:right;\"> 16.5 </td>\n",
       "   <td style=\"text-align:right;\"> B </td>\n",
       "  </tr>\n",
       "  <tr>\n",
       "   <td style=\"text-align:right;\"> 18.0 </td>\n",
       "   <td style=\"text-align:right;\"> B </td>\n",
       "  </tr>\n",
       "</tbody>\n",
       "</table></td><td style=\"background-color:white; vertical-align:top;\"><table>\n",
       "<caption><center><font color=\"black\"><b>new</b></font></center></caption>\n",
       " <thead>\n",
       "  <tr>\n",
       "   <th style=\"text-align:right;background-color: #FFFFFF !important;\"> x1 </th>\n",
       "  </tr>\n",
       " </thead>\n",
       "<tbody>\n",
       "  <tr>\n",
       "   <td style=\"text-align:right;\"> 10 </td>\n",
       "  </tr>\n",
       "</tbody>\n",
       "</table></td></tr></table>"
      ]
     },
     "metadata": {},
     "output_type": "display_data"
    },
    {
     "data": {
      "image/png": "[encoded data removed]",
      "text/plain": [
       "plot without title"
      ]
     },
     "metadata": {
      "image/png": {
       "height": 120,
       "width": 960
      },
      "text/plain": {
       "height": 120,
       "width": 960
      }
     },
     "output_type": "display_data"
    }
   ],
   "source": [
    "data = data.frame(x1=c(1,8,8.5,9.5,11,9,14,15,16,16.5,18),\n",
    "                  class=c(\"A\", \"A\", \"A\", \"A\", \"A\", \"B\", \"B\", \"B\", \"B\", \"B\", \"B\"))\n",
    "new = data.frame(x1=10)\n",
    "layout(fmt(data), fmt(new)) \n",
    "\n",
    "output_size(8,1)\n",
    "ggplot(data) + xlim(0,20) + geom_point(aes(x=x1, y=0, color=class)) +\n",
    "geom_point(aes(x=new$x1, y=0), color=\"grey70\") + theme.x_axis_only\n",
    "output_size(restore)"
   ]
  },
  {
   "cell_type": "markdown",
   "metadata": {},
   "source": [
    "### Calculate Likelihoods\n",
    "\n",
    "Let\\'s see how using Gaussian functions to find likelihoods would play out.  Partition the data by class, which effectively conditions our next steps on class.  Build two Gaussian functions, one for each partition.  Recall that a Gaussian function is defined by a mean and a standard deviation.  So, to build the Gaussian function for class A, find the mean and stand deviation of x1 values for observations classified as A.  The mean is 7.60 and the standard deviation is 3.86.  Similarly, to build the Gaussian function for class B, find the mean and standard deviation of x1 values for observations classified as B.  The mean is 14.74 and the standard deviation is 3.12.  A one-dimensional scatterplot of x1 values color-coded by class overlaid onto plots of the two Gaussian functions exposes some patterns."
   ]
  },
  {
   "cell_type": "code",
   "execution_count": 32,
   "metadata": {
    "hide_input": true,
    "scrolled": false
   },
   "outputs": [
    {
     "data": {
      "text/html": [
       "<table>\n",
       "<thead><tr><th scope=col>class</th><th scope=col>mean</th><th scope=col>sd</th></tr></thead>\n",
       "<tbody>\n",
       "\t<tr><td>A       </td><td> 7.60   </td><td>3.863289</td></tr>\n",
       "\t<tr><td>B       </td><td>14.75   </td><td>3.126500</td></tr>\n",
       "</tbody>\n",
       "</table>\n"
      ],
      "text/latex": [
       "\\begin{tabular}{r|lll}\n",
       " class & mean & sd\\\\\n",
       "\\hline\n",
       "\t A        &  7.60    & 3.863289\\\\\n",
       "\t B        & 14.75    & 3.126500\\\\\n",
       "\\end{tabular}\n"
      ],
      "text/markdown": [
       "\n",
       "| class | mean | sd |\n",
       "|---|---|---|\n",
       "| A        |  7.60    | 3.863289 |\n",
       "| B        | 14.75    | 3.126500 |\n",
       "\n"
      ],
      "text/plain": [
       "  class mean  sd      \n",
       "1 A      7.60 3.863289\n",
       "2 B     14.75 3.126500"
      ]
     },
     "metadata": {},
     "output_type": "display_data"
    },
    {
     "data": {
      "image/png": "[encoded data removed]",
      "text/plain": [
       "plot without title"
      ]
     },
     "metadata": {
      "image/png": {
       "height": 360,
       "width": 840
      },
      "text/plain": {
       "height": 360,
       "width": 840
      }
     },
     "output_type": "display_data"
    }
   ],
   "source": [
    "data.A = data[data$class==\"A\",]\n",
    "data.B = data[data$class==\"B\",]\n",
    "\n",
    "mean.A = mean(data.A$x1); sd.A = sd(data.A$x1)\n",
    "mean.B = mean(data.B$x1); sd.B = sd(data.B$x1)\n",
    "\n",
    "parms = data.frame(class=c(\"A\",\"B\"), mean=c(mean.A, mean.B), sd=c(sd.A,sd.B))\n",
    "parms\n",
    "\n",
    "ggplot(data) + xlim(0,20) + ylab(\"likelihood\") +\n",
    "stat_function(fun=gaussian, args=c(mean=mean.A, sd=sd.A), n=500, geom=\"area\", fill=PALETTE[1], alpha=0.5) +\n",
    "stat_function(fun=gaussian, args=c(mean=mean.B, sd=sd.B), n=500, geom=\"area\", fill=PALETTE[2], alpha=0.5) +\n",
    "geom_point(aes(x=x1, y=0, color=class))"
   ]
  },
  {
   "cell_type": "markdown",
   "metadata": {},
   "source": [
    "For observations classified as A, the Gaussian function high mark is at x1=7.60 near the largest concentration of observations classified as A.  The Gaussian at x1=10 (0.0851) quantifies the assertion that finding a new observation classified as A in this vicinity is likely.  For observations classified as B, the Gaussian function high mark is at x1=14.75 near the largest concentration of observations classified as B.  The Gaussian at x1=10 (0.0402) is not so high as for those classified as A, so this quantifies the assertion that finding a new observation classified as B in this vicinity is less likely."
   ]
  },
  {
   "cell_type": "code",
   "execution_count": 33,
   "metadata": {
    "hide_input": true,
    "scrolled": false
   },
   "outputs": [
    {
     "data": {
      "text/html": [
       "<table>\n",
       "<thead><tr><th scope=col>x1</th><th scope=col>class</th><th scope=col>likelihood</th></tr></thead>\n",
       "<tbody>\n",
       "\t<tr><td>10        </td><td>A         </td><td>0.08514308</td></tr>\n",
       "\t<tr><td>10        </td><td>B         </td><td>0.04023795</td></tr>\n",
       "</tbody>\n",
       "</table>\n"
      ],
      "text/latex": [
       "\\begin{tabular}{r|lll}\n",
       " x1 & class & likelihood\\\\\n",
       "\\hline\n",
       "\t 10         & A          & 0.08514308\\\\\n",
       "\t 10         & B          & 0.04023795\\\\\n",
       "\\end{tabular}\n"
      ],
      "text/markdown": [
       "\n",
       "| x1 | class | likelihood |\n",
       "|---|---|---|\n",
       "| 10         | A          | 0.08514308 |\n",
       "| 10         | B          | 0.04023795 |\n",
       "\n"
      ],
      "text/plain": [
       "  x1 class likelihood\n",
       "1 10 A     0.08514308\n",
       "2 10 B     0.04023795"
      ]
     },
     "metadata": {},
     "output_type": "display_data"
    },
    {
     "data": {
      "image/png": "[encoded data removed]",
      "text/plain": [
       "plot without title"
      ]
     },
     "metadata": {
      "image/png": {
       "height": 360,
       "width": 840
      },
      "text/plain": {
       "height": 360,
       "width": 840
      }
     },
     "output_type": "display_data"
    }
   ],
   "source": [
    "model = data.frame(x1=10, class=c(\"A\",\"B\"), likelihood=c(gaussian(10, mean.A, sd.A), gaussian(10, mean.B, sd.B)))\n",
    "model\n",
    "\n",
    "ggplot(data) + xlim(0,20) + ylab(\"likelihood\") +\n",
    "stat_function(fun=gaussian, args=c(mean=mean.A, sd=sd.A), n=500, geom=\"area\", fill=PALETTE[1], alpha=0.5) +\n",
    "stat_function(fun=gaussian, args=c(mean=mean.B, sd=sd.B), n=500, geom=\"area\", fill=PALETTE[2], alpha=0.5) +\n",
    "geom_text(aes(x=10, y=model[1,\"likelihood\"]), color=PALETTE[1], size=5, label=sprintf(\"%0.4f\",model[1,\"likelihood\"])) +\n",
    "geom_text(aes(x=10, y=model[2,\"likelihood\"]), color=PALETTE[2], size=5, label=sprintf(\"%0.4f\",model[2,\"likelihood\"])) +\n",
    "geom_vline(aes(xintercept=new$x1), lty=\"dotted\") +\n",
    "geom_point(aes(x=new$x1, y=0), color=\"grey70\")"
   ]
  },
  {
   "cell_type": "markdown",
   "metadata": {},
   "source": [
    "Note that to specify a model that uses Gaussians to calculate likelihoods, you need only the mean and standard deviation for each class for each variable, along with the prior probability for each class.\n",
    "\n",
    "This version of the naive Bayes method is popular because in practice it generates models that perform well at classifying new observations.  Perhaps surprisingly, this even though representing likelihood by a Gaussian rather than a kernel density estimation-generated probability density function ignores much information about how observations are distributed."
   ]
  },
  {
   "cell_type": "markdown",
   "metadata": {},
   "source": [
    "## Naive Bayes with Laplace Smoothing\n",
    "\n",
    "Here is a popular enhanced version of naive Bayes that adjusts the relative frequency tables to address a problem that can come up when new observations have variable values not present in certain partitions of the reference data.  This enhancement is called LaPlace smoothing.  Depending on your perspective, you can think of it as a sophisticated improvement to the method or as a hack of last resort to keep the method from breaking.  Either way, LaPlace smoothing is quite useful."
   ]
  },
  {
   "cell_type": "markdown",
   "metadata": {
    "hide_input": false
   },
   "source": [
    "### Data\n",
    "\n",
    "Consider the pedagogical dataset comprising 11 observations.  Each observation has x1 and x2 values, both categoric, and is classified as either A or B.  x1 can take on values of q, r, or s.  x2 can take on values of u, v, or w.  There are seven observations classified as A and four observations classified as B.  Consider also a new unclassified observation at x1=q and x2=w.  Should the new observation be classified as A or B?"
   ]
  },
  {
   "cell_type": "code",
   "execution_count": 34,
   "metadata": {
    "hide_input": true,
    "scrolled": false
   },
   "outputs": [
    {
     "data": {
      "text/html": [
       "<table><tr><td style=\"background-color:white; vertical-align:top; padding-right:40px;\"><table>\n",
       "<caption><center><font color=\"black\"><b>data</b></font></center></caption>\n",
       " <thead>\n",
       "  <tr>\n",
       "   <th style=\"text-align:right;background-color: #FFFFFF !important;\"> x1 </th>\n",
       "   <th style=\"text-align:right;background-color: #FFFFFF !important;\"> x2 </th>\n",
       "   <th style=\"text-align:right;background-color: #FFFFFF !important;\"> class </th>\n",
       "  </tr>\n",
       " </thead>\n",
       "<tbody>\n",
       "  <tr>\n",
       "   <td style=\"text-align:right;\"> q </td>\n",
       "   <td style=\"text-align:right;\"> w </td>\n",
       "   <td style=\"text-align:right;\"> A </td>\n",
       "  </tr>\n",
       "  <tr>\n",
       "   <td style=\"text-align:right;\"> r </td>\n",
       "   <td style=\"text-align:right;\"> u </td>\n",
       "   <td style=\"text-align:right;\"> B </td>\n",
       "  </tr>\n",
       "  <tr>\n",
       "   <td style=\"text-align:right;\"> r </td>\n",
       "   <td style=\"text-align:right;\"> v </td>\n",
       "   <td style=\"text-align:right;\"> A </td>\n",
       "  </tr>\n",
       "  <tr>\n",
       "   <td style=\"text-align:right;\"> r </td>\n",
       "   <td style=\"text-align:right;\"> v </td>\n",
       "   <td style=\"text-align:right;\"> A </td>\n",
       "  </tr>\n",
       "  <tr>\n",
       "   <td style=\"text-align:right;\"> s </td>\n",
       "   <td style=\"text-align:right;\"> v </td>\n",
       "   <td style=\"text-align:right;\"> A </td>\n",
       "  </tr>\n",
       "  <tr>\n",
       "   <td style=\"text-align:right;\"> s </td>\n",
       "   <td style=\"text-align:right;\"> v </td>\n",
       "   <td style=\"text-align:right;\"> A </td>\n",
       "  </tr>\n",
       "  <tr>\n",
       "   <td style=\"text-align:right;\"> s </td>\n",
       "   <td style=\"text-align:right;\"> u </td>\n",
       "   <td style=\"text-align:right;\"> A </td>\n",
       "  </tr>\n",
       "  <tr>\n",
       "   <td style=\"text-align:right;\"> r </td>\n",
       "   <td style=\"text-align:right;\"> u </td>\n",
       "   <td style=\"text-align:right;\"> A </td>\n",
       "  </tr>\n",
       "  <tr>\n",
       "   <td style=\"text-align:right;\"> q </td>\n",
       "   <td style=\"text-align:right;\"> u </td>\n",
       "   <td style=\"text-align:right;\"> B </td>\n",
       "  </tr>\n",
       "  <tr>\n",
       "   <td style=\"text-align:right;\"> q </td>\n",
       "   <td style=\"text-align:right;\"> v </td>\n",
       "   <td style=\"text-align:right;\"> B </td>\n",
       "  </tr>\n",
       "  <tr>\n",
       "   <td style=\"text-align:right;\"> s </td>\n",
       "   <td style=\"text-align:right;\"> u </td>\n",
       "   <td style=\"text-align:right;\"> B </td>\n",
       "  </tr>\n",
       "</tbody>\n",
       "</table></td><td style=\"background-color:white; vertical-align:top;\"><table>\n",
       "<caption><center><font color=\"black\"><b>new</b></font></center></caption>\n",
       " <thead>\n",
       "  <tr>\n",
       "   <th style=\"text-align:right;background-color: #FFFFFF !important;\"> x1 </th>\n",
       "   <th style=\"text-align:right;background-color: #FFFFFF !important;\"> x2 </th>\n",
       "  </tr>\n",
       " </thead>\n",
       "<tbody>\n",
       "  <tr>\n",
       "   <td style=\"text-align:right;\"> q </td>\n",
       "   <td style=\"text-align:right;\"> w </td>\n",
       "  </tr>\n",
       "</tbody>\n",
       "</table></td></tr></table>"
      ]
     },
     "metadata": {},
     "output_type": "display_data"
    },
    {
     "data": {
      "image/png": "[encoded data removed]",
      "text/plain": [
       "plot without title"
      ]
     },
     "metadata": {
      "image/png": {
       "height": 360,
       "width": 840
      },
      "text/plain": {
       "height": 360,
       "width": 840
      }
     },
     "output_type": "display_data"
    },
    {
     "data": {
      "image/png": "[encoded data removed]",
      "text/plain": [
       "plot without title"
      ]
     },
     "metadata": {
      "image/png": {
       "height": 360,
       "width": 840
      },
      "text/plain": {
       "height": 360,
       "width": 840
      }
     },
     "output_type": "display_data"
    }
   ],
   "source": [
    "data = data.frame(x1=c(\"q\",\"r\",\"r\",\"r\",\"s\",\"s\",\"s\",\"r\",\"q\",\"q\",\"s\"), \n",
    "                  x2=c(\"w\",\"u\",\"v\",\"v\",\"v\",\"v\",\"u\",\"u\",\"u\",\"v\",\"u\"),\n",
    "                  class=c(\"A\", \"B\", \"A\", \"A\", \"A\", \"A\", \"A\", \"A\", \"B\", \"B\", \"B\"))\n",
    "new = data.frame(x1=\"q\", x2=\"w\")\n",
    "layout(fmt(data), fmt(new))\n",
    "\n",
    "ggplot(data) + geom_bar(aes(x=x1, fill=class), position=position_dodge())\n",
    "ggplot(data) + geom_bar(aes(x=x2, fill=class), position=position_dodge())"
   ]
  },
  {
   "cell_type": "markdown",
   "metadata": {},
   "source": [
    "### An Undesirable Situation\n",
    "\n",
    "Let\\'s see how classifying the new observation without using LaPlace smoothing would play out.  This will expose the problem that LaPlace smoothing addresses.  Compare a bar chart of x1 value counts color-coded by class to a bar chart of x2 value counts color-coded by class.  See that all possible x1 values are represented by both observations classified as A and observations classified as B.  But only two of the three possible x2 values are represented across both classes.  There are no examples in the reference data of observations with x2=w classified as B.\n",
    "\n",
    "This situation has undesirable consequences.  See what happens in this situation when you calculate likelihoods and posterior scores."
   ]
  },
  {
   "cell_type": "markdown",
   "metadata": {},
   "source": [
    "### Calculate LIkelihoods"
   ]
  },
  {
   "cell_type": "markdown",
   "metadata": {},
   "source": [
    "Partition the data by class, which effectively conditions our next steps on class."
   ]
  },
  {
   "cell_type": "code",
   "execution_count": 35,
   "metadata": {
    "hide_input": true,
    "scrolled": true
   },
   "outputs": [
    {
     "data": {
      "text/html": [
       "<table><tr><td style=\"background-color:white; vertical-align:top; padding-right:40px;\"><table>\n",
       "<caption><center><font color=\"black\"><b>data.A</b></font></center></caption>\n",
       " <thead>\n",
       "  <tr>\n",
       "   <th style=\"text-align:right;background-color: #FFFFFF !important;\"> x1 </th>\n",
       "   <th style=\"text-align:right;background-color: #FFFFFF !important;\"> x2 </th>\n",
       "   <th style=\"text-align:right;background-color: #FFFFFF !important;\"> class </th>\n",
       "  </tr>\n",
       " </thead>\n",
       "<tbody>\n",
       "  <tr>\n",
       "   <td style=\"text-align:right;\"> q </td>\n",
       "   <td style=\"text-align:right;\"> w </td>\n",
       "   <td style=\"text-align:right;\"> A </td>\n",
       "  </tr>\n",
       "  <tr>\n",
       "   <td style=\"text-align:right;\"> r </td>\n",
       "   <td style=\"text-align:right;\"> v </td>\n",
       "   <td style=\"text-align:right;\"> A </td>\n",
       "  </tr>\n",
       "  <tr>\n",
       "   <td style=\"text-align:right;\"> r </td>\n",
       "   <td style=\"text-align:right;\"> v </td>\n",
       "   <td style=\"text-align:right;\"> A </td>\n",
       "  </tr>\n",
       "  <tr>\n",
       "   <td style=\"text-align:right;\"> s </td>\n",
       "   <td style=\"text-align:right;\"> v </td>\n",
       "   <td style=\"text-align:right;\"> A </td>\n",
       "  </tr>\n",
       "  <tr>\n",
       "   <td style=\"text-align:right;\"> s </td>\n",
       "   <td style=\"text-align:right;\"> v </td>\n",
       "   <td style=\"text-align:right;\"> A </td>\n",
       "  </tr>\n",
       "  <tr>\n",
       "   <td style=\"text-align:right;\"> s </td>\n",
       "   <td style=\"text-align:right;\"> u </td>\n",
       "   <td style=\"text-align:right;\"> A </td>\n",
       "  </tr>\n",
       "  <tr>\n",
       "   <td style=\"text-align:right;\"> r </td>\n",
       "   <td style=\"text-align:right;\"> u </td>\n",
       "   <td style=\"text-align:right;\"> A </td>\n",
       "  </tr>\n",
       "</tbody>\n",
       "</table></td><td style=\"background-color:white; vertical-align:top;\"><table>\n",
       "<caption><center><font color=\"black\"><b>data.B</b></font></center></caption>\n",
       " <thead>\n",
       "  <tr>\n",
       "   <th style=\"text-align:right;background-color: #FFFFFF !important;\"> x1 </th>\n",
       "   <th style=\"text-align:right;background-color: #FFFFFF !important;\"> x2 </th>\n",
       "   <th style=\"text-align:right;background-color: #FFFFFF !important;\"> class </th>\n",
       "  </tr>\n",
       " </thead>\n",
       "<tbody>\n",
       "  <tr>\n",
       "   <td style=\"text-align:right;\"> r </td>\n",
       "   <td style=\"text-align:right;\"> u </td>\n",
       "   <td style=\"text-align:right;\"> B </td>\n",
       "  </tr>\n",
       "  <tr>\n",
       "   <td style=\"text-align:right;\"> q </td>\n",
       "   <td style=\"text-align:right;\"> u </td>\n",
       "   <td style=\"text-align:right;\"> B </td>\n",
       "  </tr>\n",
       "  <tr>\n",
       "   <td style=\"text-align:right;\"> q </td>\n",
       "   <td style=\"text-align:right;\"> v </td>\n",
       "   <td style=\"text-align:right;\"> B </td>\n",
       "  </tr>\n",
       "  <tr>\n",
       "   <td style=\"text-align:right;\"> s </td>\n",
       "   <td style=\"text-align:right;\"> u </td>\n",
       "   <td style=\"text-align:right;\"> B </td>\n",
       "  </tr>\n",
       "</tbody>\n",
       "</table></td></tr></table>"
      ]
     },
     "metadata": {},
     "output_type": "display_data"
    }
   ],
   "source": [
    "data.A = data[data$class==\"A\",]\n",
    "data.B = data[data$class==\"B\",]\n",
    "\n",
    "layout(fmt(data.A), fmt(data.B))"
   ]
  },
  {
   "cell_type": "markdown",
   "metadata": {},
   "source": [
    "Build a relative frequency table for each class for each variable.  There will be four: x1 class A, x1 class B, x2 class A, and x2 class B.  Pay particular attention to the relative frequency table for x2 class B.  There are three out of four observations classified as B at x2=u, one out of four at x2=v, and none at x2=w.  The corresponding likelihoods are 0.75 for observations classified as B at x2=u, 0.25 at x2=v, and 0 at x2=w."
   ]
  },
  {
   "cell_type": "code",
   "execution_count": 36,
   "metadata": {
    "hide_input": true
   },
   "outputs": [
    {
     "data": {
      "text/html": [
       "<table><tr><td style=\"background-color:white; vertical-align:top; padding-right:40px;\"><table>\n",
       "<caption><center><font color=\"black\"><b>info.A.x1</b></font></center></caption>\n",
       " <thead>\n",
       "  <tr>\n",
       "   <th style=\"text-align:right;background-color: #FFFFFF !important;\"> x1 </th>\n",
       "   <th style=\"text-align:right;background-color: #FFFFFF !important;\"> count </th>\n",
       "   <th style=\"text-align:right;background-color: #FFFFFF !important;\"> likelihood </th>\n",
       "   <th style=\"text-align:right;background-color: #FFFFFF !important;\"> class </th>\n",
       "  </tr>\n",
       " </thead>\n",
       "<tbody>\n",
       "  <tr>\n",
       "   <td style=\"text-align:right;\"> q </td>\n",
       "   <td style=\"text-align:right;\"> 1 </td>\n",
       "   <td style=\"text-align:right;\"> 0.1428571 </td>\n",
       "   <td style=\"text-align:right;\"> A </td>\n",
       "  </tr>\n",
       "  <tr>\n",
       "   <td style=\"text-align:right;\"> r </td>\n",
       "   <td style=\"text-align:right;\"> 3 </td>\n",
       "   <td style=\"text-align:right;\"> 0.4285714 </td>\n",
       "   <td style=\"text-align:right;\"> A </td>\n",
       "  </tr>\n",
       "  <tr>\n",
       "   <td style=\"text-align:right;\"> s </td>\n",
       "   <td style=\"text-align:right;\"> 3 </td>\n",
       "   <td style=\"text-align:right;\"> 0.4285714 </td>\n",
       "   <td style=\"text-align:right;\"> A </td>\n",
       "  </tr>\n",
       "</tbody>\n",
       "</table></td><td style=\"background-color:white; vertical-align:top;\"><table>\n",
       "<caption><center><font color=\"black\"><b>info.B.x1</b></font></center></caption>\n",
       " <thead>\n",
       "  <tr>\n",
       "   <th style=\"text-align:right;background-color: #FFFFFF !important;\"> x1 </th>\n",
       "   <th style=\"text-align:right;background-color: #FFFFFF !important;\"> count </th>\n",
       "   <th style=\"text-align:right;background-color: #FFFFFF !important;\"> likelihood </th>\n",
       "   <th style=\"text-align:right;background-color: #FFFFFF !important;\"> class </th>\n",
       "  </tr>\n",
       " </thead>\n",
       "<tbody>\n",
       "  <tr>\n",
       "   <td style=\"text-align:right;\"> q </td>\n",
       "   <td style=\"text-align:right;\"> 2 </td>\n",
       "   <td style=\"text-align:right;\"> 0.50 </td>\n",
       "   <td style=\"text-align:right;\"> B </td>\n",
       "  </tr>\n",
       "  <tr>\n",
       "   <td style=\"text-align:right;\"> r </td>\n",
       "   <td style=\"text-align:right;\"> 1 </td>\n",
       "   <td style=\"text-align:right;\"> 0.25 </td>\n",
       "   <td style=\"text-align:right;\"> B </td>\n",
       "  </tr>\n",
       "  <tr>\n",
       "   <td style=\"text-align:right;\"> s </td>\n",
       "   <td style=\"text-align:right;\"> 1 </td>\n",
       "   <td style=\"text-align:right;\"> 0.25 </td>\n",
       "   <td style=\"text-align:right;\"> B </td>\n",
       "  </tr>\n",
       "</tbody>\n",
       "</table></td></tr><tr><td style=\"background-color:white; vertical-align:top; padding-right:40px;\"><table>\n",
       "<caption><center><font color=\"black\"><b>info.A.x2</b></font></center></caption>\n",
       " <thead>\n",
       "  <tr>\n",
       "   <th style=\"text-align:right;background-color: #FFFFFF !important;\"> x2 </th>\n",
       "   <th style=\"text-align:right;background-color: #FFFFFF !important;\"> count </th>\n",
       "   <th style=\"text-align:right;background-color: #FFFFFF !important;\"> likelihood </th>\n",
       "   <th style=\"text-align:right;background-color: #FFFFFF !important;\"> class </th>\n",
       "  </tr>\n",
       " </thead>\n",
       "<tbody>\n",
       "  <tr>\n",
       "   <td style=\"text-align:right;\"> u </td>\n",
       "   <td style=\"text-align:right;\"> 2 </td>\n",
       "   <td style=\"text-align:right;\"> 0.2857143 </td>\n",
       "   <td style=\"text-align:right;\"> A </td>\n",
       "  </tr>\n",
       "  <tr>\n",
       "   <td style=\"text-align:right;\"> v </td>\n",
       "   <td style=\"text-align:right;\"> 4 </td>\n",
       "   <td style=\"text-align:right;\"> 0.5714286 </td>\n",
       "   <td style=\"text-align:right;\"> A </td>\n",
       "  </tr>\n",
       "  <tr>\n",
       "   <td style=\"text-align:right;\"> w </td>\n",
       "   <td style=\"text-align:right;\"> 1 </td>\n",
       "   <td style=\"text-align:right;\"> 0.1428571 </td>\n",
       "   <td style=\"text-align:right;\"> A </td>\n",
       "  </tr>\n",
       "</tbody>\n",
       "</table></td><td style=\"background-color:white; vertical-align:top;\"><table>\n",
       "<caption><center><font color=\"black\"><b>info.B.x2</b></font></center></caption>\n",
       " <thead>\n",
       "  <tr>\n",
       "   <th style=\"text-align:right;background-color: #FFFFFF !important;\"> x2 </th>\n",
       "   <th style=\"text-align:right;background-color: #FFFFFF !important;\"> count </th>\n",
       "   <th style=\"text-align:right;background-color: #FFFFFF !important;\"> likelihood </th>\n",
       "   <th style=\"text-align:right;background-color: #FFFFFF !important;\"> class </th>\n",
       "  </tr>\n",
       " </thead>\n",
       "<tbody>\n",
       "  <tr>\n",
       "   <td style=\"text-align:right;\"> u </td>\n",
       "   <td style=\"text-align:right;\"> 3 </td>\n",
       "   <td style=\"text-align:right;\"> 0.75 </td>\n",
       "   <td style=\"text-align:right;\"> B </td>\n",
       "  </tr>\n",
       "  <tr>\n",
       "   <td style=\"text-align:right;\"> v </td>\n",
       "   <td style=\"text-align:right;\"> 1 </td>\n",
       "   <td style=\"text-align:right;\"> 0.25 </td>\n",
       "   <td style=\"text-align:right;\"> B </td>\n",
       "  </tr>\n",
       "  <tr>\n",
       "   <td style=\"text-align:right;\"> w </td>\n",
       "   <td style=\"text-align:right;\"> 0 </td>\n",
       "   <td style=\"text-align:right;\"> 0.00 </td>\n",
       "   <td style=\"text-align:right;\"> B </td>\n",
       "  </tr>\n",
       "</tbody>\n",
       "</table></td></tr></table>"
      ]
     },
     "metadata": {},
     "output_type": "display_data"
    }
   ],
   "source": [
    "info.A.x1 = data.frame(table(data.A$x1)); colnames(info.A.x1)=c(\"x1\",\"count\"); info.A.x1$likelihood = info.A.x1$count/nrow(data.A); info.A.x1$class=\"A\" \n",
    "info.B.x1 = data.frame(table(data.B$x1)); colnames(info.B.x1)=c(\"x1\",\"count\"); info.B.x1$likelihood = info.B.x1$count/nrow(data.B); info.B.x1$class=\"B\" \n",
    "\n",
    "info.A.x2 = data.frame(table(data.A$x2)); colnames(info.A.x2)=c(\"x2\",\"count\"); info.A.x2$likelihood = info.A.x2$count/nrow(data.A); info.A.x2$class=\"A\" \n",
    "info.B.x2 = data.frame(table(data.B$x2)); colnames(info.B.x2)=c(\"x2\",\"count\"); info.B.x2$likelihood = info.B.x2$count/nrow(data.B); info.B.x2$class=\"B\" \n",
    "\n",
    "layout(fmt(info.A.x1), fmt(info.B.x1), fmt(info.A.x2), fmt(info.B.x2), nrow=2)"
   ]
  },
  {
   "cell_type": "markdown",
   "metadata": {},
   "source": [
    "From the relative frequency tables, you can then find the four likelihoods of the new observation at x1=q and x2=w.  Pay particular attention to the likelihood of a new observation classified as B at x2=w.  It is zero."
   ]
  },
  {
   "cell_type": "code",
   "execution_count": 37,
   "metadata": {
    "hide_input": true,
    "scrolled": false
   },
   "outputs": [
    {
     "data": {
      "text/html": [
       "<table><tr><td style=\"background-color:white; vertical-align:top; padding-right:40px;\"><table>\n",
       "<caption><center><font color=\"black\"><b>info.x1</b></font></center></caption>\n",
       " <thead>\n",
       "  <tr>\n",
       "   <th style=\"text-align:right;background-color: #FFFFFF !important;\"> x1 </th>\n",
       "   <th style=\"text-align:right;background-color: #FFFFFF !important;\"> likelihood </th>\n",
       "   <th style=\"text-align:right;background-color: #FFFFFF !important;\"> class </th>\n",
       "  </tr>\n",
       " </thead>\n",
       "<tbody>\n",
       "  <tr>\n",
       "   <td style=\"text-align:right;\"> q </td>\n",
       "   <td style=\"text-align:right;\"> 0.1428571 </td>\n",
       "   <td style=\"text-align:right;\"> A </td>\n",
       "  </tr>\n",
       "  <tr>\n",
       "   <td style=\"text-align:right;\"> q </td>\n",
       "   <td style=\"text-align:right;\"> 0.5000000 </td>\n",
       "   <td style=\"text-align:right;\"> B </td>\n",
       "  </tr>\n",
       "</tbody>\n",
       "</table></td><td style=\"background-color:white; vertical-align:top;\"><table>\n",
       "<caption><center><font color=\"black\"><b>info.x2</b></font></center></caption>\n",
       " <thead>\n",
       "  <tr>\n",
       "   <th style=\"text-align:right;background-color: #FFFFFF !important;\"> x2 </th>\n",
       "   <th style=\"text-align:right;background-color: #FFFFFF !important;\"> likelihood </th>\n",
       "   <th style=\"text-align:right;background-color: #FFFFFF !important;\"> class </th>\n",
       "  </tr>\n",
       " </thead>\n",
       "<tbody>\n",
       "  <tr>\n",
       "   <td style=\"text-align:right;\"> w </td>\n",
       "   <td style=\"text-align:right;\"> 0.1428571 </td>\n",
       "   <td style=\"text-align:right;\"> A </td>\n",
       "  </tr>\n",
       "  <tr>\n",
       "   <td style=\"text-align:right;\"> w </td>\n",
       "   <td style=\"text-align:right;\"> 0.0000000 </td>\n",
       "   <td style=\"text-align:right;\"> B </td>\n",
       "  </tr>\n",
       "</tbody>\n",
       "</table></td></tr></table>"
      ]
     },
     "metadata": {},
     "output_type": "display_data"
    }
   ],
   "source": [
    "layout(fmt(rbind(info.A.x1[1,-2], info.B.x1[1,-2]), \"info.x1\"),\n",
    "       fmt(rbind(info.A.x2[3,-2], info.B.x2[3,-2]), \"info.x2\"))"
   ]
  },
  {
   "cell_type": "markdown",
   "metadata": {},
   "source": [
    "The posterior score for the new observation classified as B, which is the product of all likelihoods and the prior probability, is then certain to be zero regardless of any other variable values and prior probability.  What is undesirable is that the likelihood for just one class for one variable cancels out all other potentially useful information about the class.  A model generated by this method will always classify any new observation with x2=w as A, without considering anything about x1 or the prior probability, which is not what we want."
   ]
  },
  {
   "cell_type": "markdown",
   "metadata": {},
   "source": [
    "### Calculate Likelihoods adjusted by Laplace Smoothing\n",
    "\n",
    "A popular way to address this problem is by inserting LaPlace smoothing into the calculation of likelihoods for categoric predictor variables."
   ]
  },
  {
   "cell_type": "markdown",
   "metadata": {},
   "source": [
    "Partition the data by class and build frequency tables (from which to derive relative frequency tables) as before.  But adjust the frequency tables by adding one to each variable value count.   The frequency table for x2 class B goes from 3 counts of u, 1 count of v, 0 counts of w to 4 counts of u, 2 counts of v, and 1 count of w."
   ]
  },
  {
   "cell_type": "code",
   "execution_count": 38,
   "metadata": {
    "hide_input": true,
    "scrolled": true
   },
   "outputs": [
    {
     "data": {
      "text/html": [
       "<table><tr><td style=\"background-color:white; vertical-align:top; padding-right:40px;\"><table>\n",
       "<caption><center><font color=\"black\"><b>info.A.x1</b></font></center></caption>\n",
       " <thead>\n",
       "  <tr>\n",
       "   <th style=\"text-align:right;background-color: #FFFFFF !important;\"> x1 </th>\n",
       "   <th style=\"text-align:right;background-color: #FFFFFF !important;\"> count </th>\n",
       "   <th style=\"text-align:right;background-color: #FFFFFF !important;\"> class </th>\n",
       "  </tr>\n",
       " </thead>\n",
       "<tbody>\n",
       "  <tr>\n",
       "   <td style=\"text-align:right;\"> q </td>\n",
       "   <td style=\"text-align:right;\"> 1 </td>\n",
       "   <td style=\"text-align:right;\"> A </td>\n",
       "  </tr>\n",
       "  <tr>\n",
       "   <td style=\"text-align:right;\"> r </td>\n",
       "   <td style=\"text-align:right;\"> 3 </td>\n",
       "   <td style=\"text-align:right;\"> A </td>\n",
       "  </tr>\n",
       "  <tr>\n",
       "   <td style=\"text-align:right;\"> s </td>\n",
       "   <td style=\"text-align:right;\"> 3 </td>\n",
       "   <td style=\"text-align:right;\"> A </td>\n",
       "  </tr>\n",
       "</tbody>\n",
       "</table></td><td style=\"background-color:white; vertical-align:top; padding-right:40px;\"><table>\n",
       "<caption><center><font color=\"black\"><b>info.B.x1</b></font></center></caption>\n",
       " <thead>\n",
       "  <tr>\n",
       "   <th style=\"text-align:right;background-color: #FFFFFF !important;\"> x1 </th>\n",
       "   <th style=\"text-align:right;background-color: #FFFFFF !important;\"> count </th>\n",
       "   <th style=\"text-align:right;background-color: #FFFFFF !important;\"> class </th>\n",
       "  </tr>\n",
       " </thead>\n",
       "<tbody>\n",
       "  <tr>\n",
       "   <td style=\"text-align:right;\"> q </td>\n",
       "   <td style=\"text-align:right;\"> 2 </td>\n",
       "   <td style=\"text-align:right;\"> B </td>\n",
       "  </tr>\n",
       "  <tr>\n",
       "   <td style=\"text-align:right;\"> r </td>\n",
       "   <td style=\"text-align:right;\"> 1 </td>\n",
       "   <td style=\"text-align:right;\"> B </td>\n",
       "  </tr>\n",
       "  <tr>\n",
       "   <td style=\"text-align:right;\"> s </td>\n",
       "   <td style=\"text-align:right;\"> 1 </td>\n",
       "   <td style=\"text-align:right;\"> B </td>\n",
       "  </tr>\n",
       "</tbody>\n",
       "</table></td><td style=\"background-color:white; vertical-align:top; padding-right:40px;\"><table>\n",
       "<caption><center><font color=\"black\"><b>info.A.x2</b></font></center></caption>\n",
       " <thead>\n",
       "  <tr>\n",
       "   <th style=\"text-align:right;background-color: #FFFFFF !important;\"> x2 </th>\n",
       "   <th style=\"text-align:right;background-color: #FFFFFF !important;\"> count </th>\n",
       "   <th style=\"text-align:right;background-color: #FFFFFF !important;\"> class </th>\n",
       "  </tr>\n",
       " </thead>\n",
       "<tbody>\n",
       "  <tr>\n",
       "   <td style=\"text-align:right;\"> u </td>\n",
       "   <td style=\"text-align:right;\"> 2 </td>\n",
       "   <td style=\"text-align:right;\"> A </td>\n",
       "  </tr>\n",
       "  <tr>\n",
       "   <td style=\"text-align:right;\"> v </td>\n",
       "   <td style=\"text-align:right;\"> 4 </td>\n",
       "   <td style=\"text-align:right;\"> A </td>\n",
       "  </tr>\n",
       "  <tr>\n",
       "   <td style=\"text-align:right;\"> w </td>\n",
       "   <td style=\"text-align:right;\"> 1 </td>\n",
       "   <td style=\"text-align:right;\"> A </td>\n",
       "  </tr>\n",
       "</tbody>\n",
       "</table></td><td style=\"background-color:white; vertical-align:top;\"><table>\n",
       "<caption><center><font color=\"black\"><b>info.B.x2</b></font></center></caption>\n",
       " <thead>\n",
       "  <tr>\n",
       "   <th style=\"text-align:right;background-color: #FFFFFF !important;\"> x2 </th>\n",
       "   <th style=\"text-align:right;background-color: #FFFFFF !important;\"> count </th>\n",
       "   <th style=\"text-align:right;background-color: #FFFFFF !important;\"> class </th>\n",
       "  </tr>\n",
       " </thead>\n",
       "<tbody>\n",
       "  <tr>\n",
       "   <td style=\"text-align:right;\"> u </td>\n",
       "   <td style=\"text-align:right;\"> 3 </td>\n",
       "   <td style=\"text-align:right;\"> B </td>\n",
       "  </tr>\n",
       "  <tr>\n",
       "   <td style=\"text-align:right;\"> v </td>\n",
       "   <td style=\"text-align:right;\"> 1 </td>\n",
       "   <td style=\"text-align:right;\"> B </td>\n",
       "  </tr>\n",
       "  <tr>\n",
       "   <td style=\"text-align:right;\"> w </td>\n",
       "   <td style=\"text-align:right;\"> 0 </td>\n",
       "   <td style=\"text-align:right;\"> B </td>\n",
       "  </tr>\n",
       "</tbody>\n",
       "</table></td></tr></table>"
      ]
     },
     "metadata": {},
     "output_type": "display_data"
    }
   ],
   "source": [
    "layout(fmt(info.A.x1[,-3], \"info.A.x1\"),\n",
    "       fmt(info.B.x1[,-3], \"info.B.x1\"),\n",
    "       fmt(info.A.x2[,-3], \"info.A.x2\"),\n",
    "       fmt(info.B.x2[,-3], \"info.B.x2\"))"
   ]
  },
  {
   "cell_type": "code",
   "execution_count": 39,
   "metadata": {
    "hide_input": true
   },
   "outputs": [
    {
     "data": {
      "text/html": [
       "<table><tr><td style=\"background-color:white; vertical-align:top; padding-right:40px;\"><table>\n",
       "<caption><center><font color=\"black\"><b>info.A.x1 smoothed</b></font></center></caption>\n",
       " <thead>\n",
       "  <tr>\n",
       "   <th style=\"text-align:right;background-color: #FFFFFF !important;\"> x1 </th>\n",
       "   <th style=\"text-align:right;background-color: #FFFFFF !important;\"> count.s </th>\n",
       "   <th style=\"text-align:right;background-color: #FFFFFF !important;\"> class </th>\n",
       "  </tr>\n",
       " </thead>\n",
       "<tbody>\n",
       "  <tr>\n",
       "   <td style=\"text-align:right;\"> q </td>\n",
       "   <td style=\"text-align:right;\"> 2 </td>\n",
       "   <td style=\"text-align:right;\"> A </td>\n",
       "  </tr>\n",
       "  <tr>\n",
       "   <td style=\"text-align:right;\"> r </td>\n",
       "   <td style=\"text-align:right;\"> 4 </td>\n",
       "   <td style=\"text-align:right;\"> A </td>\n",
       "  </tr>\n",
       "  <tr>\n",
       "   <td style=\"text-align:right;\"> s </td>\n",
       "   <td style=\"text-align:right;\"> 4 </td>\n",
       "   <td style=\"text-align:right;\"> A </td>\n",
       "  </tr>\n",
       "</tbody>\n",
       "</table></td><td style=\"background-color:white; vertical-align:top; padding-right:40px;\"><table>\n",
       "<caption><center><font color=\"black\"><b>info.B.x1 smoothed</b></font></center></caption>\n",
       " <thead>\n",
       "  <tr>\n",
       "   <th style=\"text-align:right;background-color: #FFFFFF !important;\"> x1 </th>\n",
       "   <th style=\"text-align:right;background-color: #FFFFFF !important;\"> count.s </th>\n",
       "   <th style=\"text-align:right;background-color: #FFFFFF !important;\"> class </th>\n",
       "  </tr>\n",
       " </thead>\n",
       "<tbody>\n",
       "  <tr>\n",
       "   <td style=\"text-align:right;\"> q </td>\n",
       "   <td style=\"text-align:right;\"> 3 </td>\n",
       "   <td style=\"text-align:right;\"> B </td>\n",
       "  </tr>\n",
       "  <tr>\n",
       "   <td style=\"text-align:right;\"> r </td>\n",
       "   <td style=\"text-align:right;\"> 2 </td>\n",
       "   <td style=\"text-align:right;\"> B </td>\n",
       "  </tr>\n",
       "  <tr>\n",
       "   <td style=\"text-align:right;\"> s </td>\n",
       "   <td style=\"text-align:right;\"> 2 </td>\n",
       "   <td style=\"text-align:right;\"> B </td>\n",
       "  </tr>\n",
       "</tbody>\n",
       "</table></td><td style=\"background-color:white; vertical-align:top; padding-right:40px;\"><table>\n",
       "<caption><center><font color=\"black\"><b>info.A.x2 smoothed</b></font></center></caption>\n",
       " <thead>\n",
       "  <tr>\n",
       "   <th style=\"text-align:right;background-color: #FFFFFF !important;\"> x2 </th>\n",
       "   <th style=\"text-align:right;background-color: #FFFFFF !important;\"> count.s </th>\n",
       "   <th style=\"text-align:right;background-color: #FFFFFF !important;\"> class </th>\n",
       "  </tr>\n",
       " </thead>\n",
       "<tbody>\n",
       "  <tr>\n",
       "   <td style=\"text-align:right;\"> u </td>\n",
       "   <td style=\"text-align:right;\"> 3 </td>\n",
       "   <td style=\"text-align:right;\"> A </td>\n",
       "  </tr>\n",
       "  <tr>\n",
       "   <td style=\"text-align:right;\"> v </td>\n",
       "   <td style=\"text-align:right;\"> 5 </td>\n",
       "   <td style=\"text-align:right;\"> A </td>\n",
       "  </tr>\n",
       "  <tr>\n",
       "   <td style=\"text-align:right;\"> w </td>\n",
       "   <td style=\"text-align:right;\"> 2 </td>\n",
       "   <td style=\"text-align:right;\"> A </td>\n",
       "  </tr>\n",
       "</tbody>\n",
       "</table></td><td style=\"background-color:white; vertical-align:top;\"><table>\n",
       "<caption><center><font color=\"black\"><b>info.B.x2 smoothed</b></font></center></caption>\n",
       " <thead>\n",
       "  <tr>\n",
       "   <th style=\"text-align:right;background-color: #FFFFFF !important;\"> x2 </th>\n",
       "   <th style=\"text-align:right;background-color: #FFFFFF !important;\"> count.s </th>\n",
       "   <th style=\"text-align:right;background-color: #FFFFFF !important;\"> class </th>\n",
       "  </tr>\n",
       " </thead>\n",
       "<tbody>\n",
       "  <tr>\n",
       "   <td style=\"text-align:right;\"> u </td>\n",
       "   <td style=\"text-align:right;\"> 4 </td>\n",
       "   <td style=\"text-align:right;\"> B </td>\n",
       "  </tr>\n",
       "  <tr>\n",
       "   <td style=\"text-align:right;\"> v </td>\n",
       "   <td style=\"text-align:right;\"> 2 </td>\n",
       "   <td style=\"text-align:right;\"> B </td>\n",
       "  </tr>\n",
       "  <tr>\n",
       "   <td style=\"text-align:right;\"> w </td>\n",
       "   <td style=\"text-align:right;\"> 1 </td>\n",
       "   <td style=\"text-align:right;\"> B </td>\n",
       "  </tr>\n",
       "</tbody>\n",
       "</table></td></tr></table>"
      ]
     },
     "metadata": {},
     "output_type": "display_data"
    }
   ],
   "source": [
    "info.A.x1$count.s = info.A.x1$count+1\n",
    "info.B.x1$count.s = info.B.x1$count+1\n",
    "info.A.x2$count.s = info.A.x2$count+1\n",
    "info.B.x2$count.s = info.B.x2$count+1\n",
    "\n",
    "layout(fmt(info.A.x1[,c(1,5,4)], \"info.A.x1 smoothed\"),\n",
    "       fmt(info.B.x1[,c(1,5,4)], \"info.B.x1 smoothed\"),\n",
    "       fmt(info.A.x2[,c(1,5,4)], \"info.A.x2 smoothed\"),\n",
    "       fmt(info.B.x2[,c(1,5,4)], \"info.B.x2 smoothed\"))"
   ]
  },
  {
   "cell_type": "markdown",
   "metadata": {},
   "source": [
    "That makes the relative frequency for an observation classified as B at x2=w now 0.1428 (1 $\\div$ (4 + 2 + 1)) rather than 0 (0 $\\div$ (3 + 1 + 0)).  The three other relative frequency tables and likelihood calculations are adjusted similarly.  From there on, the method proceeds as before."
   ]
  },
  {
   "cell_type": "code",
   "execution_count": 40,
   "metadata": {
    "hide_input": true,
    "scrolled": true
   },
   "outputs": [
    {
     "data": {
      "text/html": [
       "<table><tr><td style=\"background-color:white; vertical-align:top; padding-right:40px;\"><table>\n",
       "<caption><center><font color=\"black\"><b>info.A.x1 smoothed</b></font></center></caption>\n",
       " <thead>\n",
       "  <tr>\n",
       "   <th style=\"text-align:right;background-color: #FFFFFF !important;\"> x1 </th>\n",
       "   <th style=\"text-align:right;background-color: #FFFFFF !important;\"> count.s </th>\n",
       "   <th style=\"text-align:right;background-color: #FFFFFF !important;\"> likelihood.s </th>\n",
       "   <th style=\"text-align:right;background-color: #FFFFFF !important;\"> class </th>\n",
       "  </tr>\n",
       " </thead>\n",
       "<tbody>\n",
       "  <tr>\n",
       "   <td style=\"text-align:right;\"> q </td>\n",
       "   <td style=\"text-align:right;\"> 2 </td>\n",
       "   <td style=\"text-align:right;\"> 0.2 </td>\n",
       "   <td style=\"text-align:right;\"> A </td>\n",
       "  </tr>\n",
       "  <tr>\n",
       "   <td style=\"text-align:right;\"> r </td>\n",
       "   <td style=\"text-align:right;\"> 4 </td>\n",
       "   <td style=\"text-align:right;\"> 0.4 </td>\n",
       "   <td style=\"text-align:right;\"> A </td>\n",
       "  </tr>\n",
       "  <tr>\n",
       "   <td style=\"text-align:right;\"> s </td>\n",
       "   <td style=\"text-align:right;\"> 4 </td>\n",
       "   <td style=\"text-align:right;\"> 0.4 </td>\n",
       "   <td style=\"text-align:right;\"> A </td>\n",
       "  </tr>\n",
       "</tbody>\n",
       "</table></td><td style=\"background-color:white; vertical-align:top;\"><table>\n",
       "<caption><center><font color=\"black\"><b>info.B.x1 smoothed</b></font></center></caption>\n",
       " <thead>\n",
       "  <tr>\n",
       "   <th style=\"text-align:right;background-color: #FFFFFF !important;\"> x1 </th>\n",
       "   <th style=\"text-align:right;background-color: #FFFFFF !important;\"> count.s </th>\n",
       "   <th style=\"text-align:right;background-color: #FFFFFF !important;\"> likelihood.s </th>\n",
       "   <th style=\"text-align:right;background-color: #FFFFFF !important;\"> class </th>\n",
       "  </tr>\n",
       " </thead>\n",
       "<tbody>\n",
       "  <tr>\n",
       "   <td style=\"text-align:right;\"> q </td>\n",
       "   <td style=\"text-align:right;\"> 3 </td>\n",
       "   <td style=\"text-align:right;\"> 0.4285714 </td>\n",
       "   <td style=\"text-align:right;\"> B </td>\n",
       "  </tr>\n",
       "  <tr>\n",
       "   <td style=\"text-align:right;\"> r </td>\n",
       "   <td style=\"text-align:right;\"> 2 </td>\n",
       "   <td style=\"text-align:right;\"> 0.2857143 </td>\n",
       "   <td style=\"text-align:right;\"> B </td>\n",
       "  </tr>\n",
       "  <tr>\n",
       "   <td style=\"text-align:right;\"> s </td>\n",
       "   <td style=\"text-align:right;\"> 2 </td>\n",
       "   <td style=\"text-align:right;\"> 0.2857143 </td>\n",
       "   <td style=\"text-align:right;\"> B </td>\n",
       "  </tr>\n",
       "</tbody>\n",
       "</table></td></tr><tr><td style=\"background-color:white; vertical-align:top; padding-right:40px;\"><table>\n",
       "<caption><center><font color=\"black\"><b>info.A.x2 smoothed</b></font></center></caption>\n",
       " <thead>\n",
       "  <tr>\n",
       "   <th style=\"text-align:right;background-color: #FFFFFF !important;\"> x2 </th>\n",
       "   <th style=\"text-align:right;background-color: #FFFFFF !important;\"> count.s </th>\n",
       "   <th style=\"text-align:right;background-color: #FFFFFF !important;\"> likelihood.s </th>\n",
       "   <th style=\"text-align:right;background-color: #FFFFFF !important;\"> class </th>\n",
       "  </tr>\n",
       " </thead>\n",
       "<tbody>\n",
       "  <tr>\n",
       "   <td style=\"text-align:right;\"> u </td>\n",
       "   <td style=\"text-align:right;\"> 3 </td>\n",
       "   <td style=\"text-align:right;\"> 0.3 </td>\n",
       "   <td style=\"text-align:right;\"> A </td>\n",
       "  </tr>\n",
       "  <tr>\n",
       "   <td style=\"text-align:right;\"> v </td>\n",
       "   <td style=\"text-align:right;\"> 5 </td>\n",
       "   <td style=\"text-align:right;\"> 0.5 </td>\n",
       "   <td style=\"text-align:right;\"> A </td>\n",
       "  </tr>\n",
       "  <tr>\n",
       "   <td style=\"text-align:right;\"> w </td>\n",
       "   <td style=\"text-align:right;\"> 2 </td>\n",
       "   <td style=\"text-align:right;\"> 0.2 </td>\n",
       "   <td style=\"text-align:right;\"> A </td>\n",
       "  </tr>\n",
       "</tbody>\n",
       "</table></td><td style=\"background-color:white; vertical-align:top;\"><table>\n",
       "<caption><center><font color=\"black\"><b>info.B.x2 smoothed</b></font></center></caption>\n",
       " <thead>\n",
       "  <tr>\n",
       "   <th style=\"text-align:right;background-color: #FFFFFF !important;\"> x2 </th>\n",
       "   <th style=\"text-align:right;background-color: #FFFFFF !important;\"> count.s </th>\n",
       "   <th style=\"text-align:right;background-color: #FFFFFF !important;\"> likelihood.s </th>\n",
       "   <th style=\"text-align:right;background-color: #FFFFFF !important;\"> class </th>\n",
       "  </tr>\n",
       " </thead>\n",
       "<tbody>\n",
       "  <tr>\n",
       "   <td style=\"text-align:right;\"> u </td>\n",
       "   <td style=\"text-align:right;\"> 4 </td>\n",
       "   <td style=\"text-align:right;\"> 0.5714286 </td>\n",
       "   <td style=\"text-align:right;\"> B </td>\n",
       "  </tr>\n",
       "  <tr>\n",
       "   <td style=\"text-align:right;\"> v </td>\n",
       "   <td style=\"text-align:right;\"> 2 </td>\n",
       "   <td style=\"text-align:right;\"> 0.2857143 </td>\n",
       "   <td style=\"text-align:right;\"> B </td>\n",
       "  </tr>\n",
       "  <tr>\n",
       "   <td style=\"text-align:right;\"> w </td>\n",
       "   <td style=\"text-align:right;\"> 1 </td>\n",
       "   <td style=\"text-align:right;\"> 0.1428571 </td>\n",
       "   <td style=\"text-align:right;\"> B </td>\n",
       "  </tr>\n",
       "</tbody>\n",
       "</table></td></tr></table>"
      ]
     },
     "metadata": {},
     "output_type": "display_data"
    }
   ],
   "source": [
    "info.A.x1$likelihood.s = info.A.x1$count.s/sum(info.A.x1$count.s)\n",
    "info.B.x1$likelihood.s = info.B.x1$count.s/sum(info.B.x1$count.s)\n",
    "info.A.x2$likelihood.s = info.A.x2$count.s/sum(info.A.x2$count.s)\n",
    "info.B.x2$likelihood.s = info.B.x2$count.s/sum(info.B.x2$count.s)\n",
    "\n",
    "layout(fmt(info.A.x1[,c(1,5,6,4)], \"info.A.x1 smoothed\"),\n",
    "       fmt(info.B.x1[,c(1,5,6,4)], \"info.B.x1 smoothed\"),\n",
    "       fmt(info.A.x2[,c(1,5,6,4)], \"info.A.x2 smoothed\"),\n",
    "       fmt(info.B.x2[,c(1,5,6,4)], \"info.B.x2 smoothed\"),\n",
    "       nrow=2)"
   ]
  },
  {
   "cell_type": "markdown",
   "metadata": {},
   "source": [
    "The posterior score of a new observation classified as B at x1=q and x2=w is calculated as the product of the likelihood of an observation classified as B at x1=q (0.4285), the likelihood of an observation classified as B at x2=w (0.1428), and the prior probability of an observation classified as B (0.3636).  The other figures needed are calculated similarly."
   ]
  },
  {
   "cell_type": "code",
   "execution_count": 41,
   "metadata": {
    "hide_input": true
   },
   "outputs": [
    {
     "data": {
      "text/html": [
       "<table><tr><td style=\"background-color:white; vertical-align:top; padding-right:40px;\"><table>\n",
       "<caption><center><font color=\"black\"><b>info.x1</b></font></center></caption>\n",
       " <thead>\n",
       "  <tr>\n",
       "   <th style=\"text-align:right;background-color: #FFFFFF !important;\"> x1 </th>\n",
       "   <th style=\"text-align:right;background-color: #FFFFFF !important;\"> likelihood.s </th>\n",
       "   <th style=\"text-align:right;background-color: #FFFFFF !important;\"> class </th>\n",
       "  </tr>\n",
       " </thead>\n",
       "<tbody>\n",
       "  <tr>\n",
       "   <td style=\"text-align:right;\"> q </td>\n",
       "   <td style=\"text-align:right;\"> 0.2000000 </td>\n",
       "   <td style=\"text-align:right;\"> A </td>\n",
       "  </tr>\n",
       "  <tr>\n",
       "   <td style=\"text-align:right;\"> q </td>\n",
       "   <td style=\"text-align:right;\"> 0.4285714 </td>\n",
       "   <td style=\"text-align:right;\"> B </td>\n",
       "  </tr>\n",
       "</tbody>\n",
       "</table></td><td style=\"background-color:white; vertical-align:top;\"><table>\n",
       "<caption><center><font color=\"black\"><b>info.x2</b></font></center></caption>\n",
       " <thead>\n",
       "  <tr>\n",
       "   <th style=\"text-align:right;background-color: #FFFFFF !important;\"> x2 </th>\n",
       "   <th style=\"text-align:right;background-color: #FFFFFF !important;\"> likelihood.s </th>\n",
       "   <th style=\"text-align:right;background-color: #FFFFFF !important;\"> class </th>\n",
       "  </tr>\n",
       " </thead>\n",
       "<tbody>\n",
       "  <tr>\n",
       "   <td style=\"text-align:right;\"> w </td>\n",
       "   <td style=\"text-align:right;\"> 0.2000000 </td>\n",
       "   <td style=\"text-align:right;\"> A </td>\n",
       "  </tr>\n",
       "  <tr>\n",
       "   <td style=\"text-align:right;\"> w </td>\n",
       "   <td style=\"text-align:right;\"> 0.1428571 </td>\n",
       "   <td style=\"text-align:right;\"> B </td>\n",
       "  </tr>\n",
       "</tbody>\n",
       "</table></td></tr></table>"
      ]
     },
     "metadata": {},
     "output_type": "display_data"
    }
   ],
   "source": [
    "layout(fmt(rbind(info.A.x1[1,c(1,6,4)], info.B.x1[1,c(1,6,4)]), \"info.x1\"),\n",
    "       fmt(rbind(info.A.x2[3,c(1,6,4)], info.B.x2[3,c(1,6,4)]), \"info.x2\"))"
   ]
  },
  {
   "cell_type": "markdown",
   "metadata": {},
   "source": [
    "See that the likelihood calculated from adjusted frequency tables aligns with our intuition about how such a metric should behave.  If the reference data comprises many observations, then adding one to each count will not much affect the relative frequency of any particular variable value, but it will prevent any relative frequency from being exactly zero.  That way posterior scores always account for at least some information from all variables and prior probabilities.\n",
    "\n",
    "You can generalize LaPlace smoothing by adding numbers other than one to relative frequency tables.  Indeed, some LaPlace smoothing addends result in better performing models than others do."
   ]
  },
  {
   "cell_type": "markdown",
   "metadata": {},
   "source": [
    "### Why It\\'s Called LaPlace Smoothing\n",
    "\n",
    "A brief digression here on why we name this enhancement after LaPlace, an eighteenth-century polymath.  LaPlace preceded data science and the naive Bayes method, but he introduced us to the Sunrise Problem.  What is the probability that the sun will not rise tomorrow?  Based on historical observations about which days the sun did or did not rise, the probability that the sun will not rise tomorrow could be calculated to be 0%.  This because every historical observation shows the sun rising on some day, and no observation shows the sun not rising on some day.  But it just did not feel right that the probability is really zero merely because we have never seen anything to the contrary.  LaPlace proposed instead to imagine that you have one (or a few) extra observation that shows the sun not rising on some day.  With one real observation and the imagined extra observation, the probability is 50% that the sun will not rise (1 day when the sun did not rise $\\div$ 2 days total).  With two real observations the probability is 33%.  With three real observations the probability is 25%.  With many real observations the probability is very small, but never exactly zero.  There is always at least a little room left for the possibility that sun will not rise tomorrow.  The naive Bayes method enhanced by LaPlace smoothing harkens back to the Sunrise Problem. "
   ]
  },
  {
   "cell_type": "markdown",
   "metadata": {},
   "source": [
    "## Statistical Basis for Naive Bayes Method\n",
    "\n",
    "We have developed the naive Bayes method largely based on intuition and practicality.  You should be aware that there is a widely embraced more theoretical development based on statistics, too."
   ]
  },
  {
   "cell_type": "markdown",
   "metadata": {},
   "source": [
    "Start with Bayes rule, discovered or invented by Thomas Bayes in the eighteenth century.  It states the relationship between the conditional probability of a class given variable values and the conditional probability of variable values given a class.  This is what we are interested in when we classify a new observation.  We start knowing a new observation\\'s variable values, but we do not know how it is classified.  We want to know what the probabilities are of an observation described by certain variable values being classified as A or B.  Note that the relationship also involves the prior probabilities of observations classified as A or B, and the probabilities of observations with certain variable values (regardless of how the observations are classified). \n",
    "\n",
    "<br/>\n",
    "Bayes Rule:\n",
    "\n",
    "$\n",
    "\\begin{aligned}\n",
    "P(class=A\\,|\\,x1=u,\\,x2=v,...) = \\frac{ P(x1=u,\\,x2=v, ...|\\,class=A) \\,\\times\\, P(class=A) }{ P(x1=u,\\,x2=v,...) }\n",
    "\\end{aligned}\n",
    "$\n",
    "\n",
    "$\n",
    "\\begin{aligned}\n",
    "P(class=B\\,|\\,x1=u,\\,x2=v,...) = \\frac{ P(x1=u,\\,x2=v,...|\\,class=B) \\,\\times\\, P(class=B) }{ P(x1=u,\\,x2=v,...) }\n",
    "\\end{aligned}\n",
    "$"
   ]
  },
  {
   "cell_type": "markdown",
   "metadata": {},
   "source": [
    "Calculating the prior probabilities is straight-forward.  We have seen how this is done several times already.  Calculating the conditional probabilities of variable values given a class is trickier.  We will deal with this by making an assumption that simplifies things.  Calculating the probabilities of certain variable values is pretty much impossible.  It turns out that we will not have to explicitly calculate these.\n",
    "\n",
    "The simplifying assumption we make is that all variables are independent of each other.  Under that assumption, the conditional probability of variable values given a class reduces to the product of the conditional probabilities of one variable value at a time given a class.  Those we know how to calculate.  They are the likelihoods.  So, we have dealt with how to do that calculation.  But pause: you may initially be uncomfortable with the assumption about variable independence.  After all, how often do you get data in the real world where the variables are all independent of each other?  Almost never.  Or perhaps never ever.  But this is still acceptable because it is not our goal to faithfully represent the reference data in a Bayes rule-compliant statistical model.  Rather our goal is to generate a model that performs well at classifying new observations.  It turns out that in practice models built on the assumption of variable independence do often perform well at classifying new observations.  The assumption of variable independence is why the method is not called the Bayes method, but rather is called the naive Bayes method.  We naively assume variable independence.\n",
    "\n",
    "\n",
    "$\n",
    "\\begin{aligned}\n",
    "P(class=A\\,|\\,x1=u,\\,x2=v,...) = \\frac{ P(x1=u\\,|\\,class=A) \\,\\times\\, P(x2=v\\,|\\,class=A) \\,\\times\\, ... \\,\\times\\, P(class=A) }{ P(x1=u,\\,x2=v,...) }\n",
    "\\end{aligned}\n",
    "$\n",
    "\n",
    "$\n",
    "\\begin{aligned}\n",
    "P(class=B\\,|\\,x1=u,\\,x2=v,...) = \\frac{ P(x1=u\\,|\\,class=B) \\,\\times\\, P(x2=v\\,|\\,class=B) \\,\\times\\, ... \\,\\times\\, P(class=B) }{ P(x1=u,\\,x2=v,...) }\n",
    "\\end{aligned}\n",
    "$"
   ]
  },
  {
   "cell_type": "markdown",
   "metadata": {},
   "source": [
    "Regarding the probabilities of certain variable values, as far as we know they could be anything.  But whatever they are, they are the same for observations classified as A as for observations classified as B.  This because the class is not involved at all in the calculation of these probabilities.  Ultimately, we are interested in the relative magnitudes of the conditional probabilities of class given variable values, not the absolute magnitudes.  So, we can ignore (or treat as cancelled out) the probabilities of certain variable values in the calculation of the relative magnitude of one conditional probability with respect to the other.  \n",
    "\n",
    "$\n",
    "\\begin{aligned}\n",
    "P(class=A\\,|\\,x1=u,\\,x2=v,...) \\approx P(x1=u\\,|\\,class=A) \\,\\times\\, P(x2=v\\,|\\,class=A) \\,\\times\\, ... \\,\\times\\, P(class=A)\n",
    "\\end{aligned}\n",
    "$\n",
    "\n",
    "$\n",
    "\\begin{aligned}\n",
    "P(class=B\\,|\\,x1=u,\\,x2=v,...) \\approx P(x1=u\\,|\\,class=B) \\,\\times\\, P(x2=v\\,|\\,class=B) \\,\\times\\, ... \\,\\times\\, P(class=B)\n",
    "\\end{aligned}\n",
    "$"
   ]
  },
  {
   "cell_type": "markdown",
   "metadata": {},
   "source": [
    "From there, the math quickly converges to a form that exactly matches our earlier development.\n",
    "\n",
    "$\n",
    "\\begin{aligned}\n",
    "relative\\,posterior_A = \\frac{P(x1=u\\,|\\,class=A) \\,\\times\\, P(x2=v\\,|\\,class=A) \\,\\times\\, ... \\,\\times\\, P(class=A)}\n",
    "{\\begin{align}\n",
    "& \\big[ P(x1=u\\,|\\,class=A) \\,\\times\\, P(x2=v\\,|\\,class=A) \\,\\times\\, ... \\,\\times\\, P(class=A) \\big] + \\\\\n",
    "    & \\big[ P(x1=u\\,|\\,class=B) \\,\\times\\, P(x2=v\\,|\\,class=B) \\,\\times\\, ... \\,\\times\\, P(class=B) \\big]\n",
    "\\end{align}}\n",
    "\\end{aligned}\n",
    "$\n",
    "\n",
    "<br/>\n",
    "\n",
    "$\n",
    "\\begin{aligned}\n",
    "relative\\,posterior_B = \\frac{P(x1=u\\,|\\,class=B) \\,\\times\\, P(x2=v\\,|\\,class=B) \\,\\times\\, ... \\,\\times\\, P(class=B)}\n",
    "{\\begin{align}\n",
    "& \\big[ P(x1=u\\,|\\,class=A) \\,\\times\\, P(x2=v\\,|\\,class=A) \\,\\times\\, ... \\,\\times\\, P(class=A) \\big] + \\\\\n",
    "    & \\big[ P(x1=u\\,|\\,class=B) \\,\\times\\, P(x2=v\\,|\\,class=B) \\,\\times\\, ... \\,\\times\\, P(class=B) \\big]\n",
    "\\end{align}}\n",
    "\\end{aligned}\n",
    "$\n",
    "\n",
    "\n",
    "<br/><br/>\n",
    "\n",
    "\n",
    "$\n",
    "\\begin{aligned}\n",
    "P(c|X) \\approx \\frac{\\big( \\prod_{x \\in X} P(x|c) \\big) P(c)}{\\sum_{c \\in C} \\big( \\big( \\prod_{x \\in X} P(x|c) \\big) P(c) \\big)}\n",
    "\\end{aligned}\n",
    "$"
   ]
  },
  {
   "cell_type": "markdown",
   "metadata": {},
   "source": [
    "## Code\n",
    "\n",
    "Here are some R functions used in our discourse and some R code templates that you can modify and use in your own analyses. "
   ]
  },
  {
   "cell_type": "markdown",
   "metadata": {},
   "source": [
    "### Useful Functions"
   ]
  },
  {
   "cell_type": "code",
   "execution_count": 42,
   "metadata": {},
   "outputs": [],
   "source": [
    "# as.class # from appartus code cell above\n",
    "\n",
    "# help(naiveBayes)         # from e1071 library\n",
    "# help(predict)            # from stats library\n",
    "# help(predict.naiveBayes) # from e1071 library, use predict to call this function  "
   ]
  },
  {
   "cell_type": "markdown",
   "metadata": {},
   "source": [
    "### Templates"
   ]
  },
  {
   "cell_type": "code",
   "execution_count": 43,
   "metadata": {},
   "outputs": [
    {
     "data": {
      "text/plain": [
       "\n",
       "Naive Bayes Classifier for Discrete Predictors\n",
       "\n",
       "Call:\n",
       "naiveBayes.default(x = X, y = Y, laplace = laplace)\n",
       "\n",
       "A-priori probabilities:\n",
       "Y\n",
       "   A    B \n",
       "0.25 0.75 \n",
       "\n",
       "Conditional probabilities:\n",
       "   x1\n",
       "Y   [,1]     [,2]\n",
       "  A    6 1.414214\n",
       "  B    4 2.607681\n",
       "\n",
       "   x2\n",
       "Y       [,1]     [,2]\n",
       "  A 3.000000 1.414214\n",
       "  B 5.166667 2.857738\n",
       "\n",
       "   x3\n",
       "Y           C         D         E\n",
       "  A 0.5000000 0.0000000 0.5000000\n",
       "  B 0.1666667 0.3333333 0.5000000\n"
      ]
     },
     "metadata": {},
     "output_type": "display_data"
    }
   ],
   "source": [
    "# Construct a naive Bayes model \n",
    "\n",
    "data.train = data.frame(x1=c(1,2,3,4,5,6,7,8), x2=c(9,7,6,5,4,3,2,1), x3=c(\"E\",\"C\",\"D\",\"E\",\"C\",\"D\",\"E\",\"E\"),\n",
    "                        class=c(\"B\", \"B\", \"B\", \"B\", \"A\", \"B\", \"A\", \"B\"))\n",
    "\n",
    "model = naiveBayes(class ~ x1+x2+x3, data.train)\n",
    "model"
   ]
  },
  {
   "cell_type": "code",
   "execution_count": 44,
   "metadata": {},
   "outputs": [
    {
     "data": {
      "text/plain": [
       "\n",
       "Naive Bayes Classifier for Discrete Predictors\n",
       "\n",
       "Call:\n",
       "naiveBayes.default(x = X, y = Y, laplace = laplace)\n",
       "\n",
       "A-priori probabilities:\n",
       "Y\n",
       "    A     B \n",
       "0.375 0.625 \n",
       "\n",
       "Conditional probabilities:\n",
       "   x1\n",
       "Y   [,1]     [,2]\n",
       "  A  3.0 2.000000\n",
       "  B  5.4 2.408319\n",
       "\n",
       "   x2\n",
       "Y       [,1]     [,2]\n",
       "  A 6.333333 2.516611\n",
       "  B 3.600000 2.408319\n",
       "\n",
       "   x3\n",
       "Y           C         D         E         F\n",
       "  A 0.1428571 0.2857143 0.2857143 0.2857143\n",
       "  B 0.3333333 0.2222222 0.2222222 0.2222222\n"
      ]
     },
     "metadata": {},
     "output_type": "display_data"
    }
   ],
   "source": [
    "# Construct a naive Bayes model with LaPlace smoothing\n",
    "\n",
    "data.train = data.frame(x1=c(1,2,3,4,5,6,7,8), x2=c(9,7,6,5,4,3,2,1), x3=c(\"E\",\"C\",\"F\",\"C\",\"D\",\"D\",\"E\",\"F\"),\n",
    "                        class=c(\"A\", \"B\", \"A\", \"B\", \"A\", \"B\", \"B\", \"B\"))\n",
    "\n",
    "model = naiveBayes(class ~ x1+x2+x3, data.train, laplace=TRUE)\n",
    "model"
   ]
  },
  {
   "cell_type": "code",
   "execution_count": 45,
   "metadata": {
    "hide_input": false
   },
   "outputs": [
    {
     "data": {
      "text/html": [
       "<table>\n",
       "<caption><center><font color=\"black\"><b>prob</b></font></center></caption>\n",
       " <thead>\n",
       "  <tr>\n",
       "   <th style=\"text-align:right;background-color: #FFFFFF !important;\"> A </th>\n",
       "   <th style=\"text-align:right;background-color: #FFFFFF !important;\"> B </th>\n",
       "  </tr>\n",
       " </thead>\n",
       "<tbody>\n",
       "  <tr>\n",
       "   <td style=\"text-align:right;\"> 0.6996741 </td>\n",
       "   <td style=\"text-align:right;\"> 0.3003259 </td>\n",
       "  </tr>\n",
       "  <tr>\n",
       "   <td style=\"text-align:right;\"> 0.4377705 </td>\n",
       "   <td style=\"text-align:right;\"> 0.5622295 </td>\n",
       "  </tr>\n",
       "  <tr>\n",
       "   <td style=\"text-align:right;\"> 0.1963533 </td>\n",
       "   <td style=\"text-align:right;\"> 0.8036467 </td>\n",
       "  </tr>\n",
       "  <tr>\n",
       "   <td style=\"text-align:right;\"> 0.0234317 </td>\n",
       "   <td style=\"text-align:right;\"> 0.9765683 </td>\n",
       "  </tr>\n",
       "</tbody>\n",
       "</table>"
      ]
     },
     "metadata": {},
     "output_type": "display_data"
    },
    {
     "data": {
      "text/html": [
       "<table>\n",
       " <thead>\n",
       "  <tr>\n",
       "   <th style=\"text-align:right;background-color: #FFFFFF !important;\"> class.predicted </th>\n",
       "  </tr>\n",
       " </thead>\n",
       "<tbody>\n",
       "  <tr>\n",
       "   <td style=\"text-align:right;\"> A </td>\n",
       "  </tr>\n",
       "  <tr>\n",
       "   <td style=\"text-align:right;\"> B </td>\n",
       "  </tr>\n",
       "  <tr>\n",
       "   <td style=\"text-align:right;\"> B </td>\n",
       "  </tr>\n",
       "  <tr>\n",
       "   <td style=\"text-align:right;\"> B </td>\n",
       "  </tr>\n",
       "</tbody>\n",
       "</table>"
      ]
     },
     "metadata": {},
     "output_type": "display_data"
    },
    {
     "data": {
      "text/html": [
       "<table>\n",
       "<thead><tr><th scope=col>x1</th><th scope=col>x2</th><th scope=col>x3</th><th scope=col>class.predicted</th></tr></thead>\n",
       "<tbody>\n",
       "\t<tr><td>5</td><td>8</td><td>D</td><td>A</td></tr>\n",
       "\t<tr><td>6</td><td>7</td><td>D</td><td>B</td></tr>\n",
       "\t<tr><td>7</td><td>6</td><td>F</td><td>B</td></tr>\n",
       "\t<tr><td>8</td><td>5</td><td>C</td><td>B</td></tr>\n",
       "</tbody>\n",
       "</table>\n"
      ],
      "text/latex": [
       "\\begin{tabular}{r|llll}\n",
       " x1 & x2 & x3 & class.predicted\\\\\n",
       "\\hline\n",
       "\t 5 & 8 & D & A\\\\\n",
       "\t 6 & 7 & D & B\\\\\n",
       "\t 7 & 6 & F & B\\\\\n",
       "\t 8 & 5 & C & B\\\\\n",
       "\\end{tabular}\n"
      ],
      "text/markdown": [
       "\n",
       "| x1 | x2 | x3 | class.predicted |\n",
       "|---|---|---|---|\n",
       "| 5 | 8 | D | A |\n",
       "| 6 | 7 | D | B |\n",
       "| 7 | 6 | F | B |\n",
       "| 8 | 5 | C | B |\n",
       "\n"
      ],
      "text/plain": [
       "  x1 x2 x3 class.predicted\n",
       "1 5  8  D  A              \n",
       "2 6  7  D  B              \n",
       "3 7  6  F  B              \n",
       "4 8  5  C  B              "
      ]
     },
     "metadata": {},
     "output_type": "display_data"
    }
   ],
   "source": [
    "# Use a naive Bayes model to make predictions\n",
    "\n",
    "new = data.frame(x1=c(5,6,7,8), x2=c(8,7,6,5), x3=c(\"D\",\"D\",\"F\",\"C\"))\n",
    "cutoff = 0.6\n",
    "\n",
    "prob = predict(model, new, type=\"raw\")\n",
    "class.predicted = as.class(prob, \"A\", cutoff)\n",
    "\n",
    "fmt(prob)\n",
    "fmt(class.predicted)\n",
    "cbind(new, class.predicted)"
   ]
  },
  {
   "cell_type": "markdown",
   "metadata": {},
   "source": [
    "## What You Should Now Know\n",
    "\n",
    "How to build a naive Bayes model based on reference classified data and use it to predict the classes of new observations."
   ]
  },
  {
   "cell_type": "markdown",
   "metadata": {},
   "source": [
    "## Further Reading\n",
    "\n",
    "* http://www.cs.columbia.edu/~mcollins/em.pdf\n",
    "* http://ciml.info/dl/v0_99/ciml-v0_99-ch09.pdf\n",
    "* https://en.wikipedia.org/wiki/Naive_Bayes_classifier\n",
    "* https://en.wikipedia.org/wiki/Bayes%27_theorem\n",
    "* https://www.quora.com/How-does-Laplacian-add-1-smoothing-work-for-a-Naive-Bayes-classfier-algorithm\n",
    "* https://norvig.com/spell-correct.html"
   ]
  },
  {
   "cell_type": "markdown",
   "metadata": {},
   "source": [
    "<p style=\"text-align:left; font-size:10px;\">\n",
    "Copyright (c) Berkeley Data Analytics Group, LLC\n",
    "<span style=\"float:right;\">\n",
    "Document revised March 23, 2021\n",
    "</span>\n",
    "</p>"
   ]
  }
 ],
 "metadata": {
  "hide_code_all_hidden": false,
  "hide_input": false,
  "kernelspec": {
   "display_name": "R",
   "language": "R",
   "name": "ir"
  },
  "language_info": {
   "codemirror_mode": "r",
   "file_extension": ".r",
   "mimetype": "text/x-r-source",
   "name": "R",
   "pygments_lexer": "r",
   "version": "3.6.1"
  },
  "latex_envs": {
   "LaTeX_envs_menu_present": false,
   "autocomplete": true,
   "bibliofile": "biblio.bib",
   "cite_by": "apalike",
   "current_citInitial": 1,
   "eqLabelWithNumbers": false,
   "eqNumInitial": 1,
   "hotkeys": {
    "equation": "Ctrl-E",
    "itemize": "Ctrl-I"
   },
   "labels_anchors": false,
   "latex_user_defs": false,
   "report_style_numbering": false,
   "user_envs_cfg": true
  },
  "toc": {
   "base_numbering": 1,
   "nav_menu": {},
   "number_sections": true,
   "sideBar": true,
   "skip_h1_title": true,
   "title_cell": "Table of Contents",
   "title_sidebar": "Contents",
   "toc_cell": false,
   "toc_position": {
    "height": "calc(100% - 180px)",
    "left": "10px",
    "top": "150px",
    "width": "327px"
   },
   "toc_section_display": true,
   "toc_window_display": false
  }
 },
 "nbformat": 4,
 "nbformat_minor": 2
}
