{
 "cells": [
  {
   "cell_type": "markdown",
   "metadata": {
    "hideCode": false,
    "hidePrompt": false
   },
   "source": [
    "# Classification by Decision Tree\n",
    "\n",
    "![](banner_decision_tree.jpg)"
   ]
  },
  {
   "cell_type": "code",
   "execution_count": 1,
   "metadata": {
    "hide_input": true
   },
   "outputs": [
    {
     "data": {
      "text/html": [
       "== document setup =="
      ]
     },
     "metadata": {},
     "output_type": "display_data"
    }
   ],
   "source": [
    "f = \"setup.R\"; for (i in 1:10) { if (file.exists(f)) break else f = paste0(\"../\", f) }; source(f)\n",
    "                     \n",
    "update_geom_defaults(\"point\", list(size=3, colour=PALETTE[3]))\n",
    "update_geom_defaults(\"segment\",    list(size=0.5, colour=\"black\"))"
   ]
  },
  {
   "cell_type": "markdown",
   "metadata": {},
   "source": [
    "## Introduction\n",
    "\n",
    "Motivation, context, history, related topics ..."
   ]
  },
  {
   "cell_type": "markdown",
   "metadata": {},
   "source": [
    "## Overview\n",
    "\n",
    "### Terms\n",
    "\n",
    "* Prior probability\n",
    "* Decision tree\n",
    "* Node\n",
    "* Root node\n",
    "* Leaf node or terminal node\n",
    "\n",
    "### Synopsis\n"
   ]
  },
  {
   "cell_type": "markdown",
   "metadata": {},
   "source": [
    "Construct a tree, such that each non-terminal node of the tree represents a decision based on variable values to go left or right to the node at the next level, and each terminal node indicates a probability of being in a certain class."
   ]
  },
  {
   "cell_type": "markdown",
   "metadata": {},
   "source": [
    "## Exposition"
   ]
  },
  {
   "cell_type": "markdown",
   "metadata": {},
   "source": [
    "### Data\n",
    "\n",
    "Consider this dataset and new observation."
   ]
  },
  {
   "cell_type": "code",
   "execution_count": 2,
   "metadata": {
    "hide_input": true
   },
   "outputs": [
    {
     "data": {
      "text/html": [
       "<table><tr><td style=\"background-color:white; vertical-align:top; padding-right:40px;\"><table>\n",
       "<caption><center><font color=\"black\"><b>data</b></font></center></caption>\n",
       " <thead>\n",
       "  <tr>\n",
       "   <th style=\"text-align:right;\"> x1 </th>\n",
       "   <th style=\"text-align:right;\"> x2 </th>\n",
       "   <th style=\"text-align:right;\"> class </th>\n",
       "  </tr>\n",
       " </thead>\n",
       "<tbody>\n",
       "  <tr>\n",
       "   <td style=\"text-align:right;\"> 2 </td>\n",
       "   <td style=\"text-align:right;\"> 5 </td>\n",
       "   <td style=\"text-align:right;\"> B </td>\n",
       "  </tr>\n",
       "  <tr>\n",
       "   <td style=\"text-align:right;\"> 1 </td>\n",
       "   <td style=\"text-align:right;\"> 2 </td>\n",
       "   <td style=\"text-align:right;\"> A </td>\n",
       "  </tr>\n",
       "  <tr>\n",
       "   <td style=\"text-align:right;\"> 6 </td>\n",
       "   <td style=\"text-align:right;\"> 4 </td>\n",
       "   <td style=\"text-align:right;\"> A </td>\n",
       "  </tr>\n",
       "  <tr>\n",
       "   <td style=\"text-align:right;\"> 7 </td>\n",
       "   <td style=\"text-align:right;\"> 5 </td>\n",
       "   <td style=\"text-align:right;\"> A </td>\n",
       "  </tr>\n",
       "  <tr>\n",
       "   <td style=\"text-align:right;\"> 8 </td>\n",
       "   <td style=\"text-align:right;\"> 1 </td>\n",
       "   <td style=\"text-align:right;\"> A </td>\n",
       "  </tr>\n",
       "  <tr>\n",
       "   <td style=\"text-align:right;\"> 11 </td>\n",
       "   <td style=\"text-align:right;\"> 2 </td>\n",
       "   <td style=\"text-align:right;\"> B </td>\n",
       "  </tr>\n",
       "  <tr>\n",
       "   <td style=\"text-align:right;\"> 12 </td>\n",
       "   <td style=\"text-align:right;\"> 5 </td>\n",
       "   <td style=\"text-align:right;\"> A </td>\n",
       "  </tr>\n",
       "  <tr>\n",
       "   <td style=\"text-align:right;\"> 14 </td>\n",
       "   <td style=\"text-align:right;\"> 2 </td>\n",
       "   <td style=\"text-align:right;\"> A </td>\n",
       "  </tr>\n",
       "  <tr>\n",
       "   <td style=\"text-align:right;\"> 15 </td>\n",
       "   <td style=\"text-align:right;\"> 1 </td>\n",
       "   <td style=\"text-align:right;\"> B </td>\n",
       "  </tr>\n",
       "  <tr>\n",
       "   <td style=\"text-align:right;\"> 13 </td>\n",
       "   <td style=\"text-align:right;\"> 1 </td>\n",
       "   <td style=\"text-align:right;\"> B </td>\n",
       "  </tr>\n",
       "</tbody>\n",
       "</table></td><td style=\"background-color:white; vertical-align:top;\"><table>\n",
       "<caption><center><font color=\"black\"><b>new</b></font></center></caption>\n",
       " <thead>\n",
       "  <tr>\n",
       "   <th style=\"text-align:right;\"> x1 </th>\n",
       "   <th style=\"text-align:right;\"> x2 </th>\n",
       "  </tr>\n",
       " </thead>\n",
       "<tbody>\n",
       "  <tr>\n",
       "   <td style=\"text-align:right;\"> 8 </td>\n",
       "   <td style=\"text-align:right;\"> 3 </td>\n",
       "  </tr>\n",
       "</tbody>\n",
       "</table></td></tr></table>"
      ]
     },
     "metadata": {},
     "output_type": "display_data"
    },
    {
     "data": {
      "image/png": "[encoded data removed]",
      "text/plain": [
       "plot without title"
      ]
     },
     "metadata": {},
     "output_type": "display_data"
    }
   ],
   "source": [
    "data = data.frame(x1=c(2,1,6,7,8,11,12,14,15,13), x2=c(5,2,4,5,1,2,5,2,1,1),\n",
    "                  class=c(\"B\",\"A\",\"A\",\"A\",\"A\",\"B\",\"A\",\"A\",\"B\",\"B\"))\n",
    "new = data.frame(x1=8, x2=3)\n",
    "row.arrange(data %>% captionx, new %>% captionx)\n",
    "\n",
    "ggplot(data) +\n",
    "geom_point(aes(x=x1, y=x2, color=class)) +\n",
    "geom_point(aes(x=x1, y=x2), color=NEW_COLOR, data=new)"
   ]
  },
  {
   "cell_type": "markdown",
   "metadata": {},
   "source": [
    "### Prediction Based on Prior Probabilities of Dataset\n",
    "\n",
    "You can predict the new observation's class based on prior probabilities.  Doing so, you would predict the class that appears in the dataset with probability that exceeds some cutoff, regardless of the new observation.\n",
    "\n",
    "In this example, class A appears with probability 0.60 and class B appears with probability 0.40.  Assuming a cutoff 0.50, we predict the new observation is in class A because 0.60 ≥ 0.50. "
   ]
  },
  {
   "cell_type": "code",
   "execution_count": 3,
   "metadata": {
    "hide_input": true
   },
   "outputs": [
    {
     "data": {
      "text/html": [
       "<table><tr><td style=\"background-color:white; vertical-align:top; padding-right:40px;\"><table>\n",
       "<caption><center><font color=\"black\"><b>prob_info</b></font></center></caption>\n",
       " <thead>\n",
       "  <tr>\n",
       "   <th style=\"text-align:right;\"> class </th>\n",
       "   <th style=\"text-align:right;\"> prob </th>\n",
       "  </tr>\n",
       " </thead>\n",
       "<tbody>\n",
       "  <tr>\n",
       "   <td style=\"text-align:right;\"> A </td>\n",
       "   <td style=\"text-align:right;\"> 0.6 </td>\n",
       "  </tr>\n",
       "  <tr>\n",
       "   <td style=\"text-align:right;\"> B </td>\n",
       "   <td style=\"text-align:right;\"> 0.4 </td>\n",
       "  </tr>\n",
       "</tbody>\n",
       "</table></td><td style=\"background-color:white; vertical-align:top;\"><table>\n",
       "<caption><center><font color=\"black\"><b>new</b></font></center></caption>\n",
       " <thead>\n",
       "  <tr>\n",
       "   <th style=\"text-align:right;\"> x1 </th>\n",
       "   <th style=\"text-align:right;\"> x2 </th>\n",
       "   <th style=\"text-align:right;\"> class.predicted </th>\n",
       "  </tr>\n",
       " </thead>\n",
       "<tbody>\n",
       "  <tr>\n",
       "   <td style=\"text-align:right;\"> 8 </td>\n",
       "   <td style=\"text-align:right;\"> 3 </td>\n",
       "   <td style=\"text-align:right;\"> A </td>\n",
       "  </tr>\n",
       "</tbody>\n",
       "</table></td></tr></table>"
      ]
     },
     "metadata": {},
     "output_type": "display_data"
    }
   ],
   "source": [
    "prob_info  = data.frame(table(data$class));  names(prob_info)  = c(\"class\", \"prob\"); prob_info$prob  = prob_info$prob/sum(prob_info$prob)\n",
    "\n",
    "row.arrange(prob_info %>% captionx, cbind(new, class.predicted=\"A\") %>% captionx(\"new\"))"
   ]
  },
  {
   "cell_type": "markdown",
   "metadata": {},
   "source": [
    "### Prediction Based on Prior Probabilities of Split Dataset\n",
    "\n",
    "You can instead first split the dataset into two subsets - call them the left split and the right split - and then predict the new observation's class based on the prior probabilities of just one of the splits.  To split the dataset, pick a variable/value pair to serve as the split criterion for which of its observations go in the left split and which go in the right split.  To predict, apply the split criterion to the new observation and choose the left or right split accordingly. "
   ]
  },
  {
   "cell_type": "markdown",
   "metadata": {},
   "source": [
    "In this example, we pick x1=9.5 as our split criterion.  The dataset's 5 observations with x1 < 9.5 go in the left split, and the other 5 observations go in the right split.  For the left split, class A appears with probability 0.8 and class B appears with probability 0.2.  For the right split, class A appears with probability 0.4 and class B appers with probability 0.6.   "
   ]
  },
  {
   "cell_type": "code",
   "execution_count": 4,
   "metadata": {
    "hide_input": true,
    "scrolled": false
   },
   "outputs": [
    {
     "data": {
      "text/html": [
       "<table>\n",
       "<thead><tr><th scope=col>split_variable</th><th scope=col>split_value</th></tr></thead>\n",
       "<tbody>\n",
       "\t<tr><td>x1 </td><td>9.5</td></tr>\n",
       "</tbody>\n",
       "</table>\n"
      ],
      "text/latex": [
       "\\begin{tabular}{r|ll}\n",
       " split\\_variable & split\\_value\\\\\n",
       "\\hline\n",
       "\t x1  & 9.5\\\\\n",
       "\\end{tabular}\n"
      ],
      "text/markdown": [
       "\n",
       "| split_variable | split_value |\n",
       "|---|---|\n",
       "| x1  | 9.5 |\n",
       "\n"
      ],
      "text/plain": [
       "  split_variable split_value\n",
       "1 x1             9.5        "
      ]
     },
     "metadata": {},
     "output_type": "display_data"
    },
    {
     "data": {
      "text/html": [
       "<table><tr><td style=\"background-color:white; vertical-align:top; padding-right:40px;\"><table>\n",
       "<caption><center><font color=\"black\"><b>data.left</b></font></center></caption>\n",
       " <thead>\n",
       "  <tr>\n",
       "   <th style=\"text-align:right;\"> x1 </th>\n",
       "   <th style=\"text-align:right;\"> x2 </th>\n",
       "   <th style=\"text-align:right;\"> class </th>\n",
       "  </tr>\n",
       " </thead>\n",
       "<tbody>\n",
       "  <tr>\n",
       "   <td style=\"text-align:right;\"> 2 </td>\n",
       "   <td style=\"text-align:right;\"> 5 </td>\n",
       "   <td style=\"text-align:right;\"> B </td>\n",
       "  </tr>\n",
       "  <tr>\n",
       "   <td style=\"text-align:right;\"> 1 </td>\n",
       "   <td style=\"text-align:right;\"> 2 </td>\n",
       "   <td style=\"text-align:right;\"> A </td>\n",
       "  </tr>\n",
       "  <tr>\n",
       "   <td style=\"text-align:right;\"> 6 </td>\n",
       "   <td style=\"text-align:right;\"> 4 </td>\n",
       "   <td style=\"text-align:right;\"> A </td>\n",
       "  </tr>\n",
       "  <tr>\n",
       "   <td style=\"text-align:right;\"> 7 </td>\n",
       "   <td style=\"text-align:right;\"> 5 </td>\n",
       "   <td style=\"text-align:right;\"> A </td>\n",
       "  </tr>\n",
       "  <tr>\n",
       "   <td style=\"text-align:right;\"> 8 </td>\n",
       "   <td style=\"text-align:right;\"> 1 </td>\n",
       "   <td style=\"text-align:right;\"> A </td>\n",
       "  </tr>\n",
       "</tbody>\n",
       "</table></td><td style=\"background-color:white; vertical-align:top;\"><table>\n",
       "<caption><center><font color=\"black\"><b>prob_info.left</b></font></center></caption>\n",
       " <thead>\n",
       "  <tr>\n",
       "   <th style=\"text-align:right;\"> class </th>\n",
       "   <th style=\"text-align:right;\"> prob </th>\n",
       "  </tr>\n",
       " </thead>\n",
       "<tbody>\n",
       "  <tr>\n",
       "   <td style=\"text-align:right;\"> A </td>\n",
       "   <td style=\"text-align:right;\"> 0.8 </td>\n",
       "  </tr>\n",
       "  <tr>\n",
       "   <td style=\"text-align:right;\"> B </td>\n",
       "   <td style=\"text-align:right;\"> 0.2 </td>\n",
       "  </tr>\n",
       "</tbody>\n",
       "</table></td></tr></table>"
      ]
     },
     "metadata": {},
     "output_type": "display_data"
    },
    {
     "data": {
      "text/html": [
       "<table><tr><td style=\"background-color:white; vertical-align:top; padding-right:40px;\"><table>\n",
       "<caption><center><font color=\"black\"><b>data.right</b></font></center></caption>\n",
       " <thead>\n",
       "  <tr>\n",
       "   <th style=\"text-align:right;\"> x1 </th>\n",
       "   <th style=\"text-align:right;\"> x2 </th>\n",
       "   <th style=\"text-align:right;\"> class </th>\n",
       "  </tr>\n",
       " </thead>\n",
       "<tbody>\n",
       "  <tr>\n",
       "   <td style=\"text-align:right;\"> 11 </td>\n",
       "   <td style=\"text-align:right;\"> 2 </td>\n",
       "   <td style=\"text-align:right;\"> B </td>\n",
       "  </tr>\n",
       "  <tr>\n",
       "   <td style=\"text-align:right;\"> 12 </td>\n",
       "   <td style=\"text-align:right;\"> 5 </td>\n",
       "   <td style=\"text-align:right;\"> A </td>\n",
       "  </tr>\n",
       "  <tr>\n",
       "   <td style=\"text-align:right;\"> 14 </td>\n",
       "   <td style=\"text-align:right;\"> 2 </td>\n",
       "   <td style=\"text-align:right;\"> A </td>\n",
       "  </tr>\n",
       "  <tr>\n",
       "   <td style=\"text-align:right;\"> 15 </td>\n",
       "   <td style=\"text-align:right;\"> 1 </td>\n",
       "   <td style=\"text-align:right;\"> B </td>\n",
       "  </tr>\n",
       "  <tr>\n",
       "   <td style=\"text-align:right;\"> 13 </td>\n",
       "   <td style=\"text-align:right;\"> 1 </td>\n",
       "   <td style=\"text-align:right;\"> B </td>\n",
       "  </tr>\n",
       "</tbody>\n",
       "</table></td><td style=\"background-color:white; vertical-align:top;\"><table>\n",
       "<caption><center><font color=\"black\"><b>prob_info.right</b></font></center></caption>\n",
       " <thead>\n",
       "  <tr>\n",
       "   <th style=\"text-align:right;\"> class </th>\n",
       "   <th style=\"text-align:right;\"> prob </th>\n",
       "  </tr>\n",
       " </thead>\n",
       "<tbody>\n",
       "  <tr>\n",
       "   <td style=\"text-align:right;\"> A </td>\n",
       "   <td style=\"text-align:right;\"> 0.4 </td>\n",
       "  </tr>\n",
       "  <tr>\n",
       "   <td style=\"text-align:right;\"> B </td>\n",
       "   <td style=\"text-align:right;\"> 0.6 </td>\n",
       "  </tr>\n",
       "</tbody>\n",
       "</table></td></tr></table>"
      ]
     },
     "metadata": {},
     "output_type": "display_data"
    }
   ],
   "source": [
    "split_variable = \"x1\"\n",
    "split_value = 9.5\n",
    "\n",
    "data.left  = data[data[, split_variable] <   split_value,]\n",
    "data.right = data[data[, split_variable] >=  split_value,]\n",
    "\n",
    "prob_info.left  = data.frame(table(data.left$class));  names(prob_info.left)  = c(\"class\", \"prob\"); prob_info.left$prob  = prob_info.left$prob/sum(prob_info.left$prob)\n",
    "prob_info.right = data.frame(table(data.right$class)); names(prob_info.right) = c(\"class\", \"prob\"); prob_info.right$prob = prob_info.right$prob/sum(prob_info.right$prob)\n",
    "\n",
    "data.frame(split_variable, split_value)\n",
    "row.arrange(data.left  %>% captionx, prob_info.left %>% captionx)\n",
    "row.arrange(data.right %>% captionx, prob_info.right %>% captionx)"
   ]
  },
  {
   "cell_type": "markdown",
   "metadata": {},
   "source": [
    "We can visualize this arrangement of the dataset as a tree diagram.  The tree's root node shows the split criterion.  The left branch represents the left split and its leaf node shows its majority class.  Similarly, the right branch represents the right split and its leaf node shows its majority class. "
   ]
  },
  {
   "cell_type": "code",
   "execution_count": 5,
   "metadata": {
    "hide_input": true
   },
   "outputs": [
    {
     "data": {
      "text/plain": [
       "n= 10 \n",
       "\n",
       "node), split, n, loss, yval, (yprob)\n",
       "      * denotes terminal node\n",
       "\n",
       "1) root 10 4 A (0.6000000 0.4000000)  \n",
       "  2) x1< 9.5 5 1 A (0.8000000 0.2000000) *\n",
       "  3) x1>=9.5 5 2 B (0.4000000 0.6000000) *"
      ]
     },
     "metadata": {},
     "output_type": "display_data"
    },
    {
     "data": {
      "image/png": "[encoded data removed]",
      "text/plain": [
       "plot without title"
      ]
     },
     "metadata": {},
     "output_type": "display_data"
    }
   ],
   "source": [
    "model.depth1 = rpart(class ~ x1+x2, data, method=\"class\", minsplit=2, cp=0, maxdepth=1)\n",
    "\n",
    "model.depth1\n",
    "ggtree(model.depth1)"
   ]
  },
  {
   "cell_type": "markdown",
   "metadata": {},
   "source": [
    "Applying the split criterion x1 < 9.5 to the new observation [ x1=8, x2=3 ], we see that 8 < 9.5 so we choose the left split.  Class A appears in the left split with probability 0.80 and class B appears with probability 0.20.  Assuming a 0.50 cutoff, we predict that the new observation is in class A because 0.80 ≥ 0.50.  (Note that we predict with 80% certainty rather than with 60% certainty as before, at least according to this particular method.)"
   ]
  },
  {
   "cell_type": "code",
   "execution_count": 6,
   "metadata": {
    "hide_input": false
   },
   "outputs": [
    {
     "data": {
      "text/html": [
       "<table><tr><td style=\"background-color:white; vertical-align:top; padding-right:40px;\"><table>\n",
       "<caption><center><font color=\"black\"><b>prob_info</b></font></center></caption>\n",
       " <thead>\n",
       "  <tr>\n",
       "   <th style=\"text-align:right;\"> class </th>\n",
       "   <th style=\"text-align:right;\"> prob </th>\n",
       "  </tr>\n",
       " </thead>\n",
       "<tbody>\n",
       "  <tr>\n",
       "   <td style=\"text-align:right;\"> A </td>\n",
       "   <td style=\"text-align:right;\"> 0.8 </td>\n",
       "  </tr>\n",
       "  <tr>\n",
       "   <td style=\"text-align:right;\"> B </td>\n",
       "   <td style=\"text-align:right;\"> 0.2 </td>\n",
       "  </tr>\n",
       "</tbody>\n",
       "</table></td><td style=\"background-color:white; vertical-align:top;\"><table>\n",
       "<caption><center><font color=\"black\"><b>new</b></font></center></caption>\n",
       " <thead>\n",
       "  <tr>\n",
       "   <th style=\"text-align:right;\"> x1 </th>\n",
       "   <th style=\"text-align:right;\"> x2 </th>\n",
       "   <th style=\"text-align:right;\"> class.predicted </th>\n",
       "  </tr>\n",
       " </thead>\n",
       "<tbody>\n",
       "  <tr>\n",
       "   <td style=\"text-align:right;\"> 8 </td>\n",
       "   <td style=\"text-align:right;\"> 3 </td>\n",
       "   <td style=\"text-align:right;\"> A </td>\n",
       "  </tr>\n",
       "</tbody>\n",
       "</table></td></tr></table>"
      ]
     },
     "metadata": {},
     "output_type": "display_data"
    }
   ],
   "source": [
    "prob_info  = data.frame(table(data.left$class));  names(prob_info)  = c(\"class\", \"prob\"); prob_info$prob  = prob_info$prob/sum(prob_info$prob)\n",
    "\n",
    "row.arrange(prob_info %>% captionx, cbind(new, class.predicted=\"A\") %>% captionx(\"new\"))"
   ]
  },
  {
   "cell_type": "markdown",
   "metadata": {},
   "source": [
    "### Prediction Based on Prior Probabilities of Recursively Split Dataset\n",
    "\n",
    "You can extend the notion of splitting the dataset to also split the splits, and split those resulting splits, and keep splitting recursively to the point where each terminal split comprises observations of a single class.\n",
    "\n",
    "This arrangement is called a decision tree model.  The dataset and its split criterion is called the root node of the tree.  Splits and their split criteria are called nodes.  Terminal splits are called leaf nodes or terminal nodes."
   ]
  },
  {
   "cell_type": "markdown",
   "metadata": {},
   "source": [
    "In this example, we pick x1 < 9.5 as our first split criterion.  For the left split, we pick x1 ≥ 4 as our split criterion.  For the right split, we pick x2 ≥ 1.5 as our split criterion.  We then further split the left and right splits, picking split criteria along the way, resulting in these 6 terminal splits:\n",
    "\n",
    "* 3 observations in class A with (x1 < 9.5) & (x1 ≥ 4)\n",
    "* 1 observation in class A with (x1 < 9.5) & (x1 < 4) & (x1 < 1.5), i.e., (x1 < 1.5)\n",
    "* 1 observation in class B with (x1 < 9.5) & (x1 < 4) & (x1 ≥ 1.5), i.e., (x1 < 4) & (x1 ≥ 1.5)\n",
    "* 2 observations in class A with (x1 ≥ 9.5) & (x2 ≥ 1.5) & (x1 ≥ 11.5), i.e., (x1 ≥ 11.5) & (x2 ≥ 1.5)\n",
    "* 1 observation in class B with (x1 ≥ 9.5) & (x2 ≥ 1.5) & (x1 < 11.5)\n",
    "* 2 observations in class B with (x1 ≥ 9.5) & (x2 < 1.5)\n",
    "\n",
    "Here is the decision tree model visualized as a tree diagram."
   ]
  },
  {
   "cell_type": "code",
   "execution_count": 7,
   "metadata": {
    "hide_input": true
   },
   "outputs": [
    {
     "data": {
      "text/plain": [
       "n= 10 \n",
       "\n",
       "node), split, n, loss, yval, (yprob)\n",
       "      * denotes terminal node\n",
       "\n",
       " 1) root 10 4 A (0.6000000 0.4000000)  \n",
       "   2) x1< 9.5 5 1 A (0.8000000 0.2000000)  \n",
       "     4) x1>=4 3 0 A (1.0000000 0.0000000) *\n",
       "     5) x1< 4 2 1 A (0.5000000 0.5000000)  \n",
       "      10) x1< 1.5 1 0 A (1.0000000 0.0000000) *\n",
       "      11) x1>=1.5 1 0 B (0.0000000 1.0000000) *\n",
       "   3) x1>=9.5 5 2 B (0.4000000 0.6000000)  \n",
       "     6) x2>=1.5 3 1 A (0.6666667 0.3333333)  \n",
       "      12) x1>=11.5 2 0 A (1.0000000 0.0000000) *\n",
       "      13) x1< 11.5 1 0 B (0.0000000 1.0000000) *\n",
       "     7) x2< 1.5 2 0 B (0.0000000 1.0000000) *"
      ]
     },
     "metadata": {},
     "output_type": "display_data"
    },
    {
     "data": {
      "image/png": "[encoded data removed]",
      "text/plain": [
       "plot without title"
      ]
     },
     "metadata": {},
     "output_type": "display_data"
    }
   ],
   "source": [
    "model = rpart(class ~ x1+x2, data, method=\"class\", minsplit=2, cp=0, maxdepth=30)\n",
    "\n",
    "model\n",
    "ggtree(model)"
   ]
  },
  {
   "cell_type": "markdown",
   "metadata": {},
   "source": [
    "Applying the split criteria to the new observation [ x1=8, x2=3 ], we see that (8 < 9.5) & (8 ≥ 4) so we choose the first terminal split and predict that the new observation is in class A.  (Note that we predict with 100% certainty, at least according to this particular method.)"
   ]
  },
  {
   "cell_type": "code",
   "execution_count": 8,
   "metadata": {
    "hide_input": true
   },
   "outputs": [
    {
     "data": {
      "text/html": [
       "<table>\n",
       "<caption><center><font color=\"black\"><b>new</b></font></center></caption>\n",
       " <thead>\n",
       "  <tr>\n",
       "   <th style=\"text-align:right;\"> x1 </th>\n",
       "   <th style=\"text-align:right;\"> x2 </th>\n",
       "   <th style=\"text-align:right;\"> class.predicted </th>\n",
       "  </tr>\n",
       " </thead>\n",
       "<tbody>\n",
       "  <tr>\n",
       "   <td style=\"text-align:right;\"> 8 </td>\n",
       "   <td style=\"text-align:right;\"> 3 </td>\n",
       "   <td style=\"text-align:right;\"> A </td>\n",
       "  </tr>\n",
       "</tbody>\n",
       "</table>"
      ]
     },
     "metadata": {},
     "output_type": "display_data"
    }
   ],
   "source": [
    "cbind(new, class.predicted=\"A\") %>% caption(\"new\")"
   ]
  },
  {
   "cell_type": "markdown",
   "metadata": {},
   "source": [
    "### Find Best Splits\n",
    "\n",
    "Now we look more closely at how to pick the split criteria."
   ]
  },
  {
   "cell_type": "markdown",
   "metadata": {},
   "source": [
    "#### Entropy\n",
    "\n",
    "Entropy is a measure of uncertainty in a distribution.\n",
    "\n",
    "Here is the definition of the entropy function H for a distribution of class labels A, B, ... :\n",
    "\n",
    "$$\n",
    "H = - \\big[ P(A) \\, log_2(P(A)) + P(B) \\, log_2(P(B)) \\, + \\, ... \\big]\n",
    "$$"
   ]
  },
  {
   "cell_type": "markdown",
   "metadata": {},
   "source": [
    "The entropy function for a distribution of 2 class labels A and B looks like this.  Note that maximum entropy corresponds to maximum uncertainty in the distribution, i.e., there is a 50% probability that a value in the distribution is A.  Minimum entropy corresponds to minimum uncertainty, i.e., there is either a 0% or 100% probability that a value in the distribution is A. "
   ]
  },
  {
   "cell_type": "code",
   "execution_count": 9,
   "metadata": {
    "hide_input": true
   },
   "outputs": [
    {
     "data": {
      "image/png": "[encoded data removed]",
      "text/plain": [
       "plot without title"
      ]
     },
     "metadata": {},
     "output_type": "display_data"
    }
   ],
   "source": [
    "x = seq(0,1,0.01)\n",
    "y = aaply(x, 1, function(i) -i*log2(i) + -(1-i)*log2(1-i) )\n",
    "          \n",
    "ggplot() + xlab(\"probability of class A\") + ylab(\"entropy\") + geom_line(aes(x=x, y=y), color=\"black\", na.rm=TRUE)"
   ]
  },
  {
   "cell_type": "markdown",
   "metadata": {},
   "source": [
    "#### Method to Pick a Split Criterion\n",
    "\n",
    "How to pick a dataset's (or split's) split criterion:\n",
    "\n",
    "1. Calculate the entropy of the dataset's class distribution.\n",
    "1. For each candidate split criterion ...\n",
    "  * Determine the two splits.\n",
    "  * Calculate the entropy of each split's class distribution.\n",
    "  * Calculate the weighted average of split entropies.\n",
    "  * Calculate the information gain associated with the candidate split criterion, where the information gain is the difference between the dataset's entropy and the weighted average of split entropies.\n",
    "1. Pick the split criterion associated with the largest information gain.\n",
    "\n",
    "The list of candidate split criteria should include all (non-class) variables and values that split the individual variable distributions every possible way."
   ]
  },
  {
   "cell_type": "markdown",
   "metadata": {},
   "source": [
    "#### Dataset & Associated Entropy\n",
    "\n",
    "In this example, the entropy of the dataset's class distribution is 0.97. "
   ]
  },
  {
   "cell_type": "code",
   "execution_count": 10,
   "metadata": {
    "hide_input": true
   },
   "outputs": [
    {
     "data": {
      "text/html": [
       "<table><tr><td style=\"background-color:white; vertical-align:top; padding-right:40px;\"><table>\n",
       "<caption><center><font color=\"black\"><b>data</b></font></center></caption>\n",
       " <thead>\n",
       "  <tr>\n",
       "   <th style=\"text-align:right;\"> x1 </th>\n",
       "   <th style=\"text-align:right;\"> x2 </th>\n",
       "   <th style=\"text-align:right;\"> class </th>\n",
       "  </tr>\n",
       " </thead>\n",
       "<tbody>\n",
       "  <tr>\n",
       "   <td style=\"text-align:right;\"> 2 </td>\n",
       "   <td style=\"text-align:right;\"> 5 </td>\n",
       "   <td style=\"text-align:right;\"> B </td>\n",
       "  </tr>\n",
       "  <tr>\n",
       "   <td style=\"text-align:right;\"> 1 </td>\n",
       "   <td style=\"text-align:right;\"> 2 </td>\n",
       "   <td style=\"text-align:right;\"> A </td>\n",
       "  </tr>\n",
       "  <tr>\n",
       "   <td style=\"text-align:right;\"> 6 </td>\n",
       "   <td style=\"text-align:right;\"> 4 </td>\n",
       "   <td style=\"text-align:right;\"> A </td>\n",
       "  </tr>\n",
       "  <tr>\n",
       "   <td style=\"text-align:right;\"> 7 </td>\n",
       "   <td style=\"text-align:right;\"> 5 </td>\n",
       "   <td style=\"text-align:right;\"> A </td>\n",
       "  </tr>\n",
       "  <tr>\n",
       "   <td style=\"text-align:right;\"> 8 </td>\n",
       "   <td style=\"text-align:right;\"> 1 </td>\n",
       "   <td style=\"text-align:right;\"> A </td>\n",
       "  </tr>\n",
       "  <tr>\n",
       "   <td style=\"text-align:right;\"> 11 </td>\n",
       "   <td style=\"text-align:right;\"> 2 </td>\n",
       "   <td style=\"text-align:right;\"> B </td>\n",
       "  </tr>\n",
       "  <tr>\n",
       "   <td style=\"text-align:right;\"> 12 </td>\n",
       "   <td style=\"text-align:right;\"> 5 </td>\n",
       "   <td style=\"text-align:right;\"> A </td>\n",
       "  </tr>\n",
       "  <tr>\n",
       "   <td style=\"text-align:right;\"> 14 </td>\n",
       "   <td style=\"text-align:right;\"> 2 </td>\n",
       "   <td style=\"text-align:right;\"> A </td>\n",
       "  </tr>\n",
       "  <tr>\n",
       "   <td style=\"text-align:right;\"> 15 </td>\n",
       "   <td style=\"text-align:right;\"> 1 </td>\n",
       "   <td style=\"text-align:right;\"> B </td>\n",
       "  </tr>\n",
       "  <tr>\n",
       "   <td style=\"text-align:right;\"> 13 </td>\n",
       "   <td style=\"text-align:right;\"> 1 </td>\n",
       "   <td style=\"text-align:right;\"> B </td>\n",
       "  </tr>\n",
       "</tbody>\n",
       "</table></td><td style=\"background-color:white; vertical-align:top;\"><table>\n",
       "<caption><center><font color=\"black\"><b>entropy_info.root</b></font></center></caption>\n",
       " <thead>\n",
       "  <tr>\n",
       "   <th style=\"text-align:right;\"> entropy </th>\n",
       "  </tr>\n",
       " </thead>\n",
       "<tbody>\n",
       "  <tr>\n",
       "   <td style=\"text-align:right;\"> 0.9709506 </td>\n",
       "  </tr>\n",
       "</tbody>\n",
       "</table></td></tr></table>"
      ]
     },
     "metadata": {},
     "output_type": "display_data"
    }
   ],
   "source": [
    "entropy.root = entropy(table(data$class), unit=\"log2\")\n",
    "\n",
    "row.arrange(data %>% captionx,\n",
    "            entropy.root %>% fmt(\"entropy\") %>% captionx(\"entropy_info.root\"))"
   ]
  },
  {
   "cell_type": "markdown",
   "metadata": {},
   "source": [
    "#### Candidate Split Criteria & Associated Entropies\n",
    "\n",
    "Here are a few candidate split criteria."
   ]
  },
  {
   "cell_type": "markdown",
   "metadata": {},
   "source": [
    "A split at x1=9.5 would result in weighted average entropy 0.84 and information gain 0.12."
   ]
  },
  {
   "cell_type": "code",
   "execution_count": 11,
   "metadata": {
    "hide_input": true
   },
   "outputs": [
    {
     "data": {
      "text/html": [
       "<table>\n",
       "<thead><tr><th scope=col>split_variable</th><th scope=col>split_value</th><th scope=col>entropy.root</th><th scope=col>entropy.children</th><th scope=col>info_gain</th></tr></thead>\n",
       "<tbody>\n",
       "\t<tr><td>x1       </td><td>9.5      </td><td>0.9709506</td><td>0.8464393</td><td>0.1245112</td></tr>\n",
       "</tbody>\n",
       "</table>\n"
      ],
      "text/latex": [
       "\\begin{tabular}{r|lllll}\n",
       " split\\_variable & split\\_value & entropy.root & entropy.children & info\\_gain\\\\\n",
       "\\hline\n",
       "\t x1        & 9.5       & 0.9709506 & 0.8464393 & 0.1245112\\\\\n",
       "\\end{tabular}\n"
      ],
      "text/markdown": [
       "\n",
       "| split_variable | split_value | entropy.root | entropy.children | info_gain |\n",
       "|---|---|---|---|---|\n",
       "| x1        | 9.5       | 0.9709506 | 0.8464393 | 0.1245112 |\n",
       "\n"
      ],
      "text/plain": [
       "  split_variable split_value entropy.root entropy.children info_gain\n",
       "1 x1             9.5         0.9709506    0.8464393        0.1245112"
      ]
     },
     "metadata": {},
     "output_type": "display_data"
    },
    {
     "data": {
      "text/html": [
       "<table><tr><td style=\"background-color:white; vertical-align:top; padding-right:40px;\"><table>\n",
       "<caption><center><font color=\"black\"><b>data.left</b></font></center></caption>\n",
       " <thead>\n",
       "  <tr>\n",
       "   <th style=\"text-align:right;\"> x1 </th>\n",
       "   <th style=\"text-align:right;\"> x2 </th>\n",
       "   <th style=\"text-align:right;\"> class </th>\n",
       "  </tr>\n",
       " </thead>\n",
       "<tbody>\n",
       "  <tr>\n",
       "   <td style=\"text-align:right;\"> 2 </td>\n",
       "   <td style=\"text-align:right;\"> 5 </td>\n",
       "   <td style=\"text-align:right;\"> B </td>\n",
       "  </tr>\n",
       "  <tr>\n",
       "   <td style=\"text-align:right;\"> 1 </td>\n",
       "   <td style=\"text-align:right;\"> 2 </td>\n",
       "   <td style=\"text-align:right;\"> A </td>\n",
       "  </tr>\n",
       "  <tr>\n",
       "   <td style=\"text-align:right;\"> 6 </td>\n",
       "   <td style=\"text-align:right;\"> 4 </td>\n",
       "   <td style=\"text-align:right;\"> A </td>\n",
       "  </tr>\n",
       "  <tr>\n",
       "   <td style=\"text-align:right;\"> 7 </td>\n",
       "   <td style=\"text-align:right;\"> 5 </td>\n",
       "   <td style=\"text-align:right;\"> A </td>\n",
       "  </tr>\n",
       "  <tr>\n",
       "   <td style=\"text-align:right;\"> 8 </td>\n",
       "   <td style=\"text-align:right;\"> 1 </td>\n",
       "   <td style=\"text-align:right;\"> A </td>\n",
       "  </tr>\n",
       "</tbody>\n",
       "</table></td><td style=\"background-color:white; vertical-align:top; padding-right:40px;\"><table>\n",
       "<caption><center><font color=\"black\"><b>prob_info.left</b></font></center></caption>\n",
       " <thead>\n",
       "  <tr>\n",
       "   <th style=\"text-align:right;\"> class </th>\n",
       "   <th style=\"text-align:right;\"> prob </th>\n",
       "  </tr>\n",
       " </thead>\n",
       "<tbody>\n",
       "  <tr>\n",
       "   <td style=\"text-align:right;\"> A </td>\n",
       "   <td style=\"text-align:right;\"> 0.8 </td>\n",
       "  </tr>\n",
       "  <tr>\n",
       "   <td style=\"text-align:right;\"> B </td>\n",
       "   <td style=\"text-align:right;\"> 0.2 </td>\n",
       "  </tr>\n",
       "</tbody>\n",
       "</table></td><td style=\"background-color:white; vertical-align:top;\"><table>\n",
       "<caption><center><font color=\"black\"><b>entropy_info.left</b></font></center></caption>\n",
       " <thead>\n",
       "  <tr>\n",
       "   <th style=\"text-align:right;\"> entropy </th>\n",
       "   <th style=\"text-align:right;\"> weight </th>\n",
       "  </tr>\n",
       " </thead>\n",
       "<tbody>\n",
       "  <tr>\n",
       "   <td style=\"text-align:right;\"> 0.7219281 </td>\n",
       "   <td style=\"text-align:right;\"> 0.5 </td>\n",
       "  </tr>\n",
       "</tbody>\n",
       "</table></td></tr></table>"
      ]
     },
     "metadata": {},
     "output_type": "display_data"
    },
    {
     "data": {
      "text/html": [
       "<table><tr><td style=\"background-color:white; vertical-align:top; padding-right:40px;\"><table>\n",
       "<caption><center><font color=\"black\"><b>data.right</b></font></center></caption>\n",
       " <thead>\n",
       "  <tr>\n",
       "   <th style=\"text-align:right;\"> x1 </th>\n",
       "   <th style=\"text-align:right;\"> x2 </th>\n",
       "   <th style=\"text-align:right;\"> class </th>\n",
       "  </tr>\n",
       " </thead>\n",
       "<tbody>\n",
       "  <tr>\n",
       "   <td style=\"text-align:right;\"> 11 </td>\n",
       "   <td style=\"text-align:right;\"> 2 </td>\n",
       "   <td style=\"text-align:right;\"> B </td>\n",
       "  </tr>\n",
       "  <tr>\n",
       "   <td style=\"text-align:right;\"> 12 </td>\n",
       "   <td style=\"text-align:right;\"> 5 </td>\n",
       "   <td style=\"text-align:right;\"> A </td>\n",
       "  </tr>\n",
       "  <tr>\n",
       "   <td style=\"text-align:right;\"> 14 </td>\n",
       "   <td style=\"text-align:right;\"> 2 </td>\n",
       "   <td style=\"text-align:right;\"> A </td>\n",
       "  </tr>\n",
       "  <tr>\n",
       "   <td style=\"text-align:right;\"> 15 </td>\n",
       "   <td style=\"text-align:right;\"> 1 </td>\n",
       "   <td style=\"text-align:right;\"> B </td>\n",
       "  </tr>\n",
       "  <tr>\n",
       "   <td style=\"text-align:right;\"> 13 </td>\n",
       "   <td style=\"text-align:right;\"> 1 </td>\n",
       "   <td style=\"text-align:right;\"> B </td>\n",
       "  </tr>\n",
       "</tbody>\n",
       "</table></td><td style=\"background-color:white; vertical-align:top; padding-right:40px;\"><table>\n",
       "<caption><center><font color=\"black\"><b>prob_info.right</b></font></center></caption>\n",
       " <thead>\n",
       "  <tr>\n",
       "   <th style=\"text-align:right;\"> class </th>\n",
       "   <th style=\"text-align:right;\"> prob </th>\n",
       "  </tr>\n",
       " </thead>\n",
       "<tbody>\n",
       "  <tr>\n",
       "   <td style=\"text-align:right;\"> A </td>\n",
       "   <td style=\"text-align:right;\"> 0.4 </td>\n",
       "  </tr>\n",
       "  <tr>\n",
       "   <td style=\"text-align:right;\"> B </td>\n",
       "   <td style=\"text-align:right;\"> 0.6 </td>\n",
       "  </tr>\n",
       "</tbody>\n",
       "</table></td><td style=\"background-color:white; vertical-align:top;\"><table>\n",
       "<caption><center><font color=\"black\"><b>entropy_info.right</b></font></center></caption>\n",
       " <thead>\n",
       "  <tr>\n",
       "   <th style=\"text-align:right;\"> entropy </th>\n",
       "   <th style=\"text-align:right;\"> weight </th>\n",
       "  </tr>\n",
       " </thead>\n",
       "<tbody>\n",
       "  <tr>\n",
       "   <td style=\"text-align:right;\"> 0.9709506 </td>\n",
       "   <td style=\"text-align:right;\"> 0.5 </td>\n",
       "  </tr>\n",
       "</tbody>\n",
       "</table></td></tr></table>"
      ]
     },
     "metadata": {},
     "output_type": "display_data"
    }
   ],
   "source": [
    "split_variable = \"x1\"\n",
    "split_value = 9.5\n",
    "\n",
    "data.left  = data[data[, split_variable] <   split_value,]\n",
    "data.right = data[data[, split_variable] >=  split_value,]\n",
    "\n",
    "prob_info.left  = data.frame(table(data.left$class));  names(prob_info.left)  = c(\"class\", \"prob\"); prob_info.left$prob  = prob_info.left$prob/sum(prob_info.left$prob)\n",
    "prob_info.right = data.frame(table(data.right$class)); names(prob_info.right) = c(\"class\", \"prob\"); prob_info.right$prob = prob_info.right$prob/sum(prob_info.right$prob)\n",
    "\n",
    "entropy.left  = entropy(table(data.left$class),  unit=\"log2\")\n",
    "entropy.right = entropy(table(data.right$class), unit=\"log2\")\n",
    "weight.left = nrow(data.left) / (nrow(data.left) + nrow(data.right))\n",
    "weight.right = nrow(data.right) / (nrow(data.left) + nrow(data.right))\n",
    "\n",
    "entropy_info.left  = data.frame(entropy=entropy.left,  weight=weight.left)\n",
    "entropy_info.right = data.frame(entropy=entropy.right, weight=weight.right)\n",
    "\n",
    "entropy.children = weight.left*entropy.left + weight.right*entropy.right\n",
    "\n",
    "info_gain_x1_9.5 = entropy.root - entropy.children\n",
    "\n",
    "data.frame(split_variable, split_value, entropy.root, entropy.children, info_gain=info_gain_x1_9.5)\n",
    "row.arrange(data.left  %>% captionx, prob_info.left %>% captionx, entropy_info.left %>% fmt %>% captionx(\"entropy_info.left\"))\n",
    "row.arrange(data.right %>% captionx, prob_info.right %>% captionx, entropy_info.right %>% fmt %>% captionx(\"entropy_info.right\"))"
   ]
  },
  {
   "cell_type": "markdown",
   "metadata": {},
   "source": [
    "A split at x1=7.5 would result in weighted average entropy 0.92 and information gain 0.046."
   ]
  },
  {
   "cell_type": "code",
   "execution_count": 12,
   "metadata": {
    "hide_input": true
   },
   "outputs": [
    {
     "data": {
      "text/html": [
       "<table>\n",
       "<thead><tr><th scope=col>split_variable</th><th scope=col>split_value</th><th scope=col>entropy.root</th><th scope=col>entropy.children</th><th scope=col>info_gain</th></tr></thead>\n",
       "<tbody>\n",
       "\t<tr><td>x1        </td><td>7.5       </td><td>0.9709506 </td><td>0.9245112 </td><td>0.04643934</td></tr>\n",
       "</tbody>\n",
       "</table>\n"
      ],
      "text/latex": [
       "\\begin{tabular}{r|lllll}\n",
       " split\\_variable & split\\_value & entropy.root & entropy.children & info\\_gain\\\\\n",
       "\\hline\n",
       "\t x1         & 7.5        & 0.9709506  & 0.9245112  & 0.04643934\\\\\n",
       "\\end{tabular}\n"
      ],
      "text/markdown": [
       "\n",
       "| split_variable | split_value | entropy.root | entropy.children | info_gain |\n",
       "|---|---|---|---|---|\n",
       "| x1         | 7.5        | 0.9709506  | 0.9245112  | 0.04643934 |\n",
       "\n"
      ],
      "text/plain": [
       "  split_variable split_value entropy.root entropy.children info_gain \n",
       "1 x1             7.5         0.9709506    0.9245112        0.04643934"
      ]
     },
     "metadata": {},
     "output_type": "display_data"
    },
    {
     "data": {
      "text/html": [
       "<table><tr><td style=\"background-color:white; vertical-align:top; padding-right:40px;\"><table>\n",
       "<caption><center><font color=\"black\"><b>data.left</b></font></center></caption>\n",
       " <thead>\n",
       "  <tr>\n",
       "   <th style=\"text-align:right;\"> x1 </th>\n",
       "   <th style=\"text-align:right;\"> x2 </th>\n",
       "   <th style=\"text-align:right;\"> class </th>\n",
       "  </tr>\n",
       " </thead>\n",
       "<tbody>\n",
       "  <tr>\n",
       "   <td style=\"text-align:right;\"> 2 </td>\n",
       "   <td style=\"text-align:right;\"> 5 </td>\n",
       "   <td style=\"text-align:right;\"> B </td>\n",
       "  </tr>\n",
       "  <tr>\n",
       "   <td style=\"text-align:right;\"> 1 </td>\n",
       "   <td style=\"text-align:right;\"> 2 </td>\n",
       "   <td style=\"text-align:right;\"> A </td>\n",
       "  </tr>\n",
       "  <tr>\n",
       "   <td style=\"text-align:right;\"> 6 </td>\n",
       "   <td style=\"text-align:right;\"> 4 </td>\n",
       "   <td style=\"text-align:right;\"> A </td>\n",
       "  </tr>\n",
       "  <tr>\n",
       "   <td style=\"text-align:right;\"> 7 </td>\n",
       "   <td style=\"text-align:right;\"> 5 </td>\n",
       "   <td style=\"text-align:right;\"> A </td>\n",
       "  </tr>\n",
       "</tbody>\n",
       "</table></td><td style=\"background-color:white; vertical-align:top; padding-right:40px;\"><table>\n",
       "<caption><center><font color=\"black\"><b>prob_info.left</b></font></center></caption>\n",
       " <thead>\n",
       "  <tr>\n",
       "   <th style=\"text-align:right;\"> class </th>\n",
       "   <th style=\"text-align:right;\"> prob </th>\n",
       "  </tr>\n",
       " </thead>\n",
       "<tbody>\n",
       "  <tr>\n",
       "   <td style=\"text-align:right;\"> A </td>\n",
       "   <td style=\"text-align:right;\"> 0.75 </td>\n",
       "  </tr>\n",
       "  <tr>\n",
       "   <td style=\"text-align:right;\"> B </td>\n",
       "   <td style=\"text-align:right;\"> 0.25 </td>\n",
       "  </tr>\n",
       "</tbody>\n",
       "</table></td><td style=\"background-color:white; vertical-align:top;\"><table>\n",
       "<caption><center><font color=\"black\"><b>entropy_info.left</b></font></center></caption>\n",
       " <thead>\n",
       "  <tr>\n",
       "   <th style=\"text-align:right;\"> entropy </th>\n",
       "   <th style=\"text-align:right;\"> weight </th>\n",
       "  </tr>\n",
       " </thead>\n",
       "<tbody>\n",
       "  <tr>\n",
       "   <td style=\"text-align:right;\"> 0.8112781 </td>\n",
       "   <td style=\"text-align:right;\"> 0.4 </td>\n",
       "  </tr>\n",
       "</tbody>\n",
       "</table></td></tr></table>"
      ]
     },
     "metadata": {},
     "output_type": "display_data"
    },
    {
     "data": {
      "text/html": [
       "<table><tr><td style=\"background-color:white; vertical-align:top; padding-right:40px;\"><table>\n",
       "<caption><center><font color=\"black\"><b>data.right</b></font></center></caption>\n",
       " <thead>\n",
       "  <tr>\n",
       "   <th style=\"text-align:right;\"> x1 </th>\n",
       "   <th style=\"text-align:right;\"> x2 </th>\n",
       "   <th style=\"text-align:right;\"> class </th>\n",
       "  </tr>\n",
       " </thead>\n",
       "<tbody>\n",
       "  <tr>\n",
       "   <td style=\"text-align:right;\"> 8 </td>\n",
       "   <td style=\"text-align:right;\"> 1 </td>\n",
       "   <td style=\"text-align:right;\"> A </td>\n",
       "  </tr>\n",
       "  <tr>\n",
       "   <td style=\"text-align:right;\"> 11 </td>\n",
       "   <td style=\"text-align:right;\"> 2 </td>\n",
       "   <td style=\"text-align:right;\"> B </td>\n",
       "  </tr>\n",
       "  <tr>\n",
       "   <td style=\"text-align:right;\"> 12 </td>\n",
       "   <td style=\"text-align:right;\"> 5 </td>\n",
       "   <td style=\"text-align:right;\"> A </td>\n",
       "  </tr>\n",
       "  <tr>\n",
       "   <td style=\"text-align:right;\"> 14 </td>\n",
       "   <td style=\"text-align:right;\"> 2 </td>\n",
       "   <td style=\"text-align:right;\"> A </td>\n",
       "  </tr>\n",
       "  <tr>\n",
       "   <td style=\"text-align:right;\"> 15 </td>\n",
       "   <td style=\"text-align:right;\"> 1 </td>\n",
       "   <td style=\"text-align:right;\"> B </td>\n",
       "  </tr>\n",
       "  <tr>\n",
       "   <td style=\"text-align:right;\"> 13 </td>\n",
       "   <td style=\"text-align:right;\"> 1 </td>\n",
       "   <td style=\"text-align:right;\"> B </td>\n",
       "  </tr>\n",
       "</tbody>\n",
       "</table></td><td style=\"background-color:white; vertical-align:top; padding-right:40px;\"><table>\n",
       "<caption><center><font color=\"black\"><b>prob_info.right</b></font></center></caption>\n",
       " <thead>\n",
       "  <tr>\n",
       "   <th style=\"text-align:right;\"> class </th>\n",
       "   <th style=\"text-align:right;\"> prob </th>\n",
       "  </tr>\n",
       " </thead>\n",
       "<tbody>\n",
       "  <tr>\n",
       "   <td style=\"text-align:right;\"> A </td>\n",
       "   <td style=\"text-align:right;\"> 0.5 </td>\n",
       "  </tr>\n",
       "  <tr>\n",
       "   <td style=\"text-align:right;\"> B </td>\n",
       "   <td style=\"text-align:right;\"> 0.5 </td>\n",
       "  </tr>\n",
       "</tbody>\n",
       "</table></td><td style=\"background-color:white; vertical-align:top;\"><table>\n",
       "<caption><center><font color=\"black\"><b>entropy_info.right</b></font></center></caption>\n",
       " <thead>\n",
       "  <tr>\n",
       "   <th style=\"text-align:right;\"> entropy </th>\n",
       "   <th style=\"text-align:right;\"> weight </th>\n",
       "  </tr>\n",
       " </thead>\n",
       "<tbody>\n",
       "  <tr>\n",
       "   <td style=\"text-align:right;\"> 1 </td>\n",
       "   <td style=\"text-align:right;\"> 0.6 </td>\n",
       "  </tr>\n",
       "</tbody>\n",
       "</table></td></tr></table>"
      ]
     },
     "metadata": {},
     "output_type": "display_data"
    }
   ],
   "source": [
    "split_variable = \"x1\"\n",
    "split_value = 7.5\n",
    "\n",
    "data.left  = data[data[, split_variable] <   split_value,]\n",
    "data.right = data[data[, split_variable] >=  split_value,]\n",
    "\n",
    "prob_info.left  = data.frame(table(data.left$class));  names(prob_info.left)  = c(\"class\", \"prob\"); prob_info.left$prob  = prob_info.left$prob/sum(prob_info.left$prob)\n",
    "prob_info.right = data.frame(table(data.right$class)); names(prob_info.right) = c(\"class\", \"prob\"); prob_info.right$prob = prob_info.right$prob/sum(prob_info.right$prob)\n",
    "\n",
    "entropy.left  = entropy(table(data.left$class),  unit=\"log2\")\n",
    "entropy.right = entropy(table(data.right$class), unit=\"log2\")\n",
    "weight.left = nrow(data.left) / (nrow(data.left) + nrow(data.right))\n",
    "weight.right = nrow(data.right) / (nrow(data.left) + nrow(data.right))\n",
    "\n",
    "entropy_info.left  = data.frame(entropy=entropy.left,  weight=weight.left)\n",
    "entropy_info.right = data.frame(entropy=entropy.right, weight=weight.right)\n",
    "\n",
    "entropy.children = weight.left*entropy.left + weight.right*entropy.right\n",
    "\n",
    "info_gain_x1_7.5 = entropy.root - entropy.children\n",
    "\n",
    "data.frame(split_variable, split_value, entropy.root, entropy.children, info_gain=info_gain_x1_7.5)\n",
    "row.arrange(data.left  %>% captionx, prob_info.left %>% captionx, entropy_info.left %>% fmt %>% captionx(\"entropy_info.left\"))\n",
    "row.arrange(data.right %>% captionx, prob_info.right %>% captionx, entropy_info.right %>% fmt %>% captionx(\"entropy_info.right\"))"
   ]
  },
  {
   "cell_type": "markdown",
   "metadata": {},
   "source": [
    "A split at x2=4.5 would result in weighted average entropy 0.97 and information gain 0.0058."
   ]
  },
  {
   "cell_type": "code",
   "execution_count": 13,
   "metadata": {
    "hide_input": true
   },
   "outputs": [
    {
     "data": {
      "text/html": [
       "<table>\n",
       "<thead><tr><th scope=col>split_variable</th><th scope=col>split_value</th><th scope=col>entropy.root</th><th scope=col>entropy.children</th><th scope=col>info_gain</th></tr></thead>\n",
       "<tbody>\n",
       "\t<tr><td>x2         </td><td>4.5        </td><td>0.9709506  </td><td>0.9651484  </td><td>0.005802149</td></tr>\n",
       "</tbody>\n",
       "</table>\n"
      ],
      "text/latex": [
       "\\begin{tabular}{r|lllll}\n",
       " split\\_variable & split\\_value & entropy.root & entropy.children & info\\_gain\\\\\n",
       "\\hline\n",
       "\t x2          & 4.5         & 0.9709506   & 0.9651484   & 0.005802149\\\\\n",
       "\\end{tabular}\n"
      ],
      "text/markdown": [
       "\n",
       "| split_variable | split_value | entropy.root | entropy.children | info_gain |\n",
       "|---|---|---|---|---|\n",
       "| x2          | 4.5         | 0.9709506   | 0.9651484   | 0.005802149 |\n",
       "\n"
      ],
      "text/plain": [
       "  split_variable split_value entropy.root entropy.children info_gain  \n",
       "1 x2             4.5         0.9709506    0.9651484        0.005802149"
      ]
     },
     "metadata": {},
     "output_type": "display_data"
    },
    {
     "data": {
      "text/html": [
       "<table><tr><td style=\"background-color:white; vertical-align:top; padding-right:40px;\"><table>\n",
       "<caption><center><font color=\"black\"><b>data.left</b></font></center></caption>\n",
       " <thead>\n",
       "  <tr>\n",
       "   <th style=\"text-align:right;\"> x1 </th>\n",
       "   <th style=\"text-align:right;\"> x2 </th>\n",
       "   <th style=\"text-align:right;\"> class </th>\n",
       "  </tr>\n",
       " </thead>\n",
       "<tbody>\n",
       "  <tr>\n",
       "   <td style=\"text-align:right;\"> 1 </td>\n",
       "   <td style=\"text-align:right;\"> 2 </td>\n",
       "   <td style=\"text-align:right;\"> A </td>\n",
       "  </tr>\n",
       "  <tr>\n",
       "   <td style=\"text-align:right;\"> 6 </td>\n",
       "   <td style=\"text-align:right;\"> 4 </td>\n",
       "   <td style=\"text-align:right;\"> A </td>\n",
       "  </tr>\n",
       "  <tr>\n",
       "   <td style=\"text-align:right;\"> 8 </td>\n",
       "   <td style=\"text-align:right;\"> 1 </td>\n",
       "   <td style=\"text-align:right;\"> A </td>\n",
       "  </tr>\n",
       "  <tr>\n",
       "   <td style=\"text-align:right;\"> 11 </td>\n",
       "   <td style=\"text-align:right;\"> 2 </td>\n",
       "   <td style=\"text-align:right;\"> B </td>\n",
       "  </tr>\n",
       "  <tr>\n",
       "   <td style=\"text-align:right;\"> 14 </td>\n",
       "   <td style=\"text-align:right;\"> 2 </td>\n",
       "   <td style=\"text-align:right;\"> A </td>\n",
       "  </tr>\n",
       "  <tr>\n",
       "   <td style=\"text-align:right;\"> 15 </td>\n",
       "   <td style=\"text-align:right;\"> 1 </td>\n",
       "   <td style=\"text-align:right;\"> B </td>\n",
       "  </tr>\n",
       "  <tr>\n",
       "   <td style=\"text-align:right;\"> 13 </td>\n",
       "   <td style=\"text-align:right;\"> 1 </td>\n",
       "   <td style=\"text-align:right;\"> B </td>\n",
       "  </tr>\n",
       "</tbody>\n",
       "</table></td><td style=\"background-color:white; vertical-align:top; padding-right:40px;\"><table>\n",
       "<caption><center><font color=\"black\"><b>prob_info.left</b></font></center></caption>\n",
       " <thead>\n",
       "  <tr>\n",
       "   <th style=\"text-align:right;\"> class </th>\n",
       "   <th style=\"text-align:right;\"> prob </th>\n",
       "  </tr>\n",
       " </thead>\n",
       "<tbody>\n",
       "  <tr>\n",
       "   <td style=\"text-align:right;\"> A </td>\n",
       "   <td style=\"text-align:right;\"> 0.5714286 </td>\n",
       "  </tr>\n",
       "  <tr>\n",
       "   <td style=\"text-align:right;\"> B </td>\n",
       "   <td style=\"text-align:right;\"> 0.4285714 </td>\n",
       "  </tr>\n",
       "</tbody>\n",
       "</table></td><td style=\"background-color:white; vertical-align:top;\"><table>\n",
       "<caption><center><font color=\"black\"><b>entropy_info.left</b></font></center></caption>\n",
       " <thead>\n",
       "  <tr>\n",
       "   <th style=\"text-align:right;\"> entropy </th>\n",
       "   <th style=\"text-align:right;\"> weight </th>\n",
       "  </tr>\n",
       " </thead>\n",
       "<tbody>\n",
       "  <tr>\n",
       "   <td style=\"text-align:right;\"> 0.9852281 </td>\n",
       "   <td style=\"text-align:right;\"> 0.7 </td>\n",
       "  </tr>\n",
       "</tbody>\n",
       "</table></td></tr></table>"
      ]
     },
     "metadata": {},
     "output_type": "display_data"
    },
    {
     "data": {
      "text/html": [
       "<table><tr><td style=\"background-color:white; vertical-align:top; padding-right:40px;\"><table>\n",
       "<caption><center><font color=\"black\"><b>data.right</b></font></center></caption>\n",
       " <thead>\n",
       "  <tr>\n",
       "   <th style=\"text-align:right;\"> x1 </th>\n",
       "   <th style=\"text-align:right;\"> x2 </th>\n",
       "   <th style=\"text-align:right;\"> class </th>\n",
       "  </tr>\n",
       " </thead>\n",
       "<tbody>\n",
       "  <tr>\n",
       "   <td style=\"text-align:right;\"> 2 </td>\n",
       "   <td style=\"text-align:right;\"> 5 </td>\n",
       "   <td style=\"text-align:right;\"> B </td>\n",
       "  </tr>\n",
       "  <tr>\n",
       "   <td style=\"text-align:right;\"> 7 </td>\n",
       "   <td style=\"text-align:right;\"> 5 </td>\n",
       "   <td style=\"text-align:right;\"> A </td>\n",
       "  </tr>\n",
       "  <tr>\n",
       "   <td style=\"text-align:right;\"> 12 </td>\n",
       "   <td style=\"text-align:right;\"> 5 </td>\n",
       "   <td style=\"text-align:right;\"> A </td>\n",
       "  </tr>\n",
       "</tbody>\n",
       "</table></td><td style=\"background-color:white; vertical-align:top; padding-right:40px;\"><table>\n",
       "<caption><center><font color=\"black\"><b>prob_info.right</b></font></center></caption>\n",
       " <thead>\n",
       "  <tr>\n",
       "   <th style=\"text-align:right;\"> class </th>\n",
       "   <th style=\"text-align:right;\"> prob </th>\n",
       "  </tr>\n",
       " </thead>\n",
       "<tbody>\n",
       "  <tr>\n",
       "   <td style=\"text-align:right;\"> A </td>\n",
       "   <td style=\"text-align:right;\"> 0.6666667 </td>\n",
       "  </tr>\n",
       "  <tr>\n",
       "   <td style=\"text-align:right;\"> B </td>\n",
       "   <td style=\"text-align:right;\"> 0.3333333 </td>\n",
       "  </tr>\n",
       "</tbody>\n",
       "</table></td><td style=\"background-color:white; vertical-align:top;\"><table>\n",
       "<caption><center><font color=\"black\"><b>entropy_info.right</b></font></center></caption>\n",
       " <thead>\n",
       "  <tr>\n",
       "   <th style=\"text-align:right;\"> entropy </th>\n",
       "   <th style=\"text-align:right;\"> weight </th>\n",
       "  </tr>\n",
       " </thead>\n",
       "<tbody>\n",
       "  <tr>\n",
       "   <td style=\"text-align:right;\"> 0.9182958 </td>\n",
       "   <td style=\"text-align:right;\"> 0.3 </td>\n",
       "  </tr>\n",
       "</tbody>\n",
       "</table></td></tr></table>"
      ]
     },
     "metadata": {},
     "output_type": "display_data"
    }
   ],
   "source": [
    "split_variable = \"x2\"\n",
    "split_value = 4.5\n",
    "\n",
    "data.left  = data[data[, split_variable] <   split_value,]\n",
    "data.right = data[data[, split_variable] >=  split_value,]\n",
    "\n",
    "prob_info.left  = data.frame(table(data.left$class));  names(prob_info.left)  = c(\"class\", \"prob\"); prob_info.left$prob  = prob_info.left$prob/sum(prob_info.left$prob)\n",
    "prob_info.right = data.frame(table(data.right$class)); names(prob_info.right) = c(\"class\", \"prob\"); prob_info.right$prob = prob_info.right$prob/sum(prob_info.right$prob)\n",
    "\n",
    "entropy.left  = entropy(table(data.left$class),  unit=\"log2\")\n",
    "entropy.right = entropy(table(data.right$class), unit=\"log2\")\n",
    "weight.left = nrow(data.left) / (nrow(data.left) + nrow(data.right))\n",
    "weight.right = nrow(data.right) / (nrow(data.left) + nrow(data.right))\n",
    "\n",
    "entropy_info.left  = data.frame(entropy=entropy.left,  weight=weight.left)\n",
    "entropy_info.right = data.frame(entropy=entropy.right, weight=weight.right)\n",
    "\n",
    "entropy.children = weight.left*entropy.left + weight.right*entropy.right\n",
    "\n",
    "info_gain_x2_4.5 = entropy.root - entropy.children\n",
    "\n",
    "data.frame(split_variable, split_value, entropy.root, entropy.children, info_gain=info_gain_x2_4.5)\n",
    "row.arrange(data.left  %>% captionx, prob_info.left %>% captionx, entropy_info.left %>% fmt %>% captionx(\"entropy_info.left\"))\n",
    "row.arrange(data.right %>% captionx, prob_info.right %>% captionx, entropy_info.right %>% fmt %>% captionx(\"entropy_info.right\"))"
   ]
  },
  {
   "cell_type": "markdown",
   "metadata": {},
   "source": [
    "The best split criterion among these 3 candidates and all other candidates is x1 < 9.5 because its associated information gain 0.12 is largest."
   ]
  },
  {
   "cell_type": "code",
   "execution_count": 14,
   "metadata": {},
   "outputs": [
    {
     "data": {
      "text/html": [
       "<table>\n",
       "<caption><center><font color=\"black\"><b>information gain</b></font></center></caption>\n",
       " <thead>\n",
       "  <tr>\n",
       "   <th style=\"text-align:right;\"> x1_9.5 </th>\n",
       "   <th style=\"text-align:right;\"> x1_7.5 </th>\n",
       "   <th style=\"text-align:right;\"> x2_4.5 </th>\n",
       "   <th style=\"text-align:right;\"> others </th>\n",
       "  </tr>\n",
       " </thead>\n",
       "<tbody>\n",
       "  <tr>\n",
       "   <td style=\"text-align:right;\"> 0.1245112 </td>\n",
       "   <td style=\"text-align:right;\"> 0.0464393 </td>\n",
       "   <td style=\"text-align:right;\"> 0.0058021 </td>\n",
       "   <td style=\"text-align:right;\"> some values </td>\n",
       "  </tr>\n",
       "</tbody>\n",
       "</table>"
      ]
     },
     "metadata": {},
     "output_type": "display_data"
    }
   ],
   "source": [
    "data.frame(x1_9.5=info_gain_x1_9.5, x1_7.5=info_gain_x1_7.5, x2_4.5=info_gain_x2_4.5, others=\"some values\") %>% caption(\"information gain\")"
   ]
  },
  {
   "cell_type": "markdown",
   "metadata": {},
   "source": [
    "We pick split criteria for the subsequent splits similarly."
   ]
  },
  {
   "cell_type": "markdown",
   "metadata": {},
   "source": [
    "### Pruning"
   ]
  },
  {
   "cell_type": "markdown",
   "metadata": {},
   "source": [
    "A decision tree model constructed by fully recursively splitting as much as possible tends to overfit.  To address this problem, you can restrict splitting - effectively pruning some branches off the tree - leaving terminal splits that comprise not single classes, but rather multiple classes. There are many popular pruning methods."
   ]
  },
  {
   "cell_type": "markdown",
   "metadata": {},
   "source": [
    "#### Prune by Maximum Depth\n",
    "\n",
    "In this example, we split only as far as a specified maximum depth 2."
   ]
  },
  {
   "cell_type": "code",
   "execution_count": 15,
   "metadata": {},
   "outputs": [
    {
     "data": {
      "text/plain": [
       "n= 10 \n",
       "\n",
       "node), split, n, loss, yval, (yprob)\n",
       "      * denotes terminal node\n",
       "\n",
       "1) root 10 4 A (0.6000000 0.4000000)  \n",
       "  2) x1< 9.5 5 1 A (0.8000000 0.2000000) *\n",
       "  3) x1>=9.5 5 2 B (0.4000000 0.6000000)  \n",
       "    6) x2>=1.5 3 1 A (0.6666667 0.3333333) *\n",
       "    7) x2< 1.5 2 0 B (0.0000000 1.0000000) *"
      ]
     },
     "metadata": {},
     "output_type": "display_data"
    },
    {
     "data": {
      "image/png": "[encoded data removed]",
      "text/plain": [
       "plot without title"
      ]
     },
     "metadata": {},
     "output_type": "display_data"
    }
   ],
   "source": [
    "model = rpart(class ~ x1+x2, data, method=\"class\", minsplit=2, cp=0, maxdepth=2)\n",
    "\n",
    "model\n",
    "ggtree(model)"
   ]
  },
  {
   "cell_type": "markdown",
   "metadata": {},
   "source": [
    "#### Prune by Maximum Complexity\n",
    "\n",
    "In this example, we split only if the resultant model with splits improves performance by more than 20%. "
   ]
  },
  {
   "cell_type": "code",
   "execution_count": 16,
   "metadata": {
    "scrolled": false
   },
   "outputs": [
    {
     "data": {
      "text/plain": [
       "n= 10 \n",
       "\n",
       "node), split, n, loss, yval, (yprob)\n",
       "      * denotes terminal node\n",
       "\n",
       " 1) root 10 4 A (0.6000000 0.4000000)  \n",
       "   2) x1< 9.5 5 1 A (0.8000000 0.2000000) *\n",
       "   3) x1>=9.5 5 2 B (0.4000000 0.6000000)  \n",
       "     6) x2>=1.5 3 1 A (0.6666667 0.3333333)  \n",
       "      12) x1>=11.5 2 0 A (1.0000000 0.0000000) *\n",
       "      13) x1< 11.5 1 0 B (0.0000000 1.0000000) *\n",
       "     7) x2< 1.5 2 0 B (0.0000000 1.0000000) *"
      ]
     },
     "metadata": {},
     "output_type": "display_data"
    },
    {
     "data": {
      "image/png": "[encoded data removed]",
      "text/plain": [
       "plot without title"
      ]
     },
     "metadata": {},
     "output_type": "display_data"
    }
   ],
   "source": [
    "model = rpart(class ~ x1+x2, data, method=\"class\", minsplit=2, cp=0.2, maxdepth=30)\n",
    "\n",
    "model\n",
    "ggtree(model)"
   ]
  },
  {
   "cell_type": "markdown",
   "metadata": {},
   "source": [
    "#### Prune by Minimum Split Size\n",
    "\n",
    "In this example, we split only if the dataset (or split) comprises at least 4 observations."
   ]
  },
  {
   "cell_type": "code",
   "execution_count": 17,
   "metadata": {},
   "outputs": [
    {
     "data": {
      "text/plain": [
       "n= 10 \n",
       "\n",
       "node), split, n, loss, yval, (yprob)\n",
       "      * denotes terminal node\n",
       "\n",
       "1) root 10 4 A (0.6000000 0.4000000)  \n",
       "  2) x1< 9.5 5 1 A (0.8000000 0.2000000) *\n",
       "  3) x1>=9.5 5 2 B (0.4000000 0.6000000)  \n",
       "    6) x2>=1.5 3 1 A (0.6666667 0.3333333) *\n",
       "    7) x2< 1.5 2 0 B (0.0000000 1.0000000) *"
      ]
     },
     "metadata": {},
     "output_type": "display_data"
    },
    {
     "data": {
      "image/png": "[encoded data removed]",
      "text/plain": [
       "plot without title"
      ]
     },
     "metadata": {},
     "output_type": "display_data"
    }
   ],
   "source": [
    "model = rpart(class ~ x1+x2, data, method=\"class\", minsplit=4, cp=0, maxdepth=30)\n",
    "\n",
    "model\n",
    "ggtree(model)"
   ]
  },
  {
   "cell_type": "markdown",
   "metadata": {},
   "source": [
    "#### Prune by Minimum Number of Observations per Leaf Node\n",
    "\n",
    "In this observation, we split only if it does not result in a leaf node comprising fewer than 3 observations."
   ]
  },
  {
   "cell_type": "code",
   "execution_count": 18,
   "metadata": {
    "hide_input": true
   },
   "outputs": [
    {
     "data": {
      "text/plain": [
       "n= 10 \n",
       "\n",
       "node), split, n, loss, yval, (yprob)\n",
       "      * denotes terminal node\n",
       "\n",
       "1) root 10 4 A (0.6000000 0.4000000)  \n",
       "  2) x1< 9.5 5 1 A (0.8000000 0.2000000) *\n",
       "  3) x1>=9.5 5 2 B (0.4000000 0.6000000) *"
      ]
     },
     "metadata": {},
     "output_type": "display_data"
    },
    {
     "data": {
      "image/png": "[encoded data removed]",
      "text/plain": [
       "plot without title"
      ]
     },
     "metadata": {},
     "output_type": "display_data"
    }
   ],
   "source": [
    "model = rpart(class ~ x1+x2, data, method=\"class\", minsplit=2, cp=0, maxdepth=30, minbucket=3)\n",
    "\n",
    "model\n",
    "ggtree(model)"
   ]
  },
  {
   "cell_type": "markdown",
   "metadata": {},
   "source": [
    "#### Prune by Minimum Information Gain"
   ]
  },
  {
   "cell_type": "markdown",
   "metadata": {},
   "source": [
    "Another pruning method is to split only if information gain exceeds a specified threshold."
   ]
  },
  {
   "cell_type": "markdown",
   "metadata": {},
   "source": [
    "<p style=\"text-align:left; font-size:10px;\">\n",
    "Copyright (c) Berkeley Data Analytics Group, LLC\n",
    "<span style=\"float:right;\">\n",
    "Document revised September 17, 2019\n",
    "</span>\n",
    "</p>"
   ]
  }
 ],
 "metadata": {
  "hide_code_all_hidden": false,
  "hide_input": false,
  "kernelspec": {
   "display_name": "R",
   "language": "R",
   "name": "ir"
  },
  "language_info": {
   "codemirror_mode": "r",
   "file_extension": ".r",
   "mimetype": "text/x-r-source",
   "name": "R",
   "pygments_lexer": "r",
   "version": "3.6.1"
  },
  "toc": {
   "base_numbering": 1,
   "nav_menu": {},
   "number_sections": true,
   "sideBar": true,
   "skip_h1_title": true,
   "title_cell": "Table of Contents",
   "title_sidebar": "Contents",
   "toc_cell": false,
   "toc_position": {},
   "toc_section_display": true,
   "toc_window_display": true
  }
 },
 "nbformat": 4,
 "nbformat_minor": 2
}
