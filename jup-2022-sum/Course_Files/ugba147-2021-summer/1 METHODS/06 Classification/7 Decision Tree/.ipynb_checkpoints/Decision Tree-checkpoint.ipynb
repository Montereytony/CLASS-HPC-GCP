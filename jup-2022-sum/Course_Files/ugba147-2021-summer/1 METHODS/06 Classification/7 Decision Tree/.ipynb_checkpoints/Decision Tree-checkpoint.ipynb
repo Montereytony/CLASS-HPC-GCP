{
 "cells": [
  {
   "cell_type": "markdown",
   "metadata": {
    "hideCode": false,
    "hidePrompt": false
   },
   "source": [
    "# Classification by Decision Tree\n",
    "\n",
    "![](banner_dt.jpg)"
   ]
  },
  {
   "cell_type": "code",
   "execution_count": 1,
   "metadata": {
    "hide_input": true
   },
   "outputs": [
    {
     "data": {
      "text/html": [
       "<p style=\"text-align:center; font-size:10px;\">\n",
       ".................................................... start of document ....................................................\n",
       "</p>"
      ]
     },
     "metadata": {},
     "output_type": "display_data"
    }
   ],
   "source": [
    "f = \"setup.R\"; for (i in 1:10) { if (file.exists(f)) break else f = paste0(\"../\", f) }; source(f)\n",
    "                     \n",
    "update_geom_defaults(\"point\", list(size=3, colour=PALETTE[3]))\n",
    "update_geom_defaults(\"segment\",    list(size=0.5, colour=\"black\"))"
   ]
  },
  {
   "cell_type": "markdown",
   "metadata": {},
   "source": [
    "## Introduction\n",
    "\n",
    "Motivation, context, history, related topics ...\n",
    "\n",
    "\n",
    "The decision tree method is used to build a classification model.  The form of the model is a decision tree, where each non-terminal node of the tree represents a decision based on variable values to go left or right to the node at the next level down, and each terminal node indicates the probability of an observation being in a certain class.\n",
    "\n",
    "There is also a version of the decision tree method to build a regression model."
   ]
  },
  {
   "cell_type": "markdown",
   "metadata": {},
   "source": [
    "## Terms"
   ]
  },
  {
   "cell_type": "markdown",
   "metadata": {},
   "source": [
    "* Prior probability\n",
    "* Decision tree\n",
    "* Node\n",
    "* Root node\n",
    "* Leaf node or terminal node"
   ]
  },
  {
   "cell_type": "markdown",
   "metadata": {},
   "source": [
    "## Classification by Decision Tree"
   ]
  },
  {
   "cell_type": "markdown",
   "metadata": {},
   "source": [
    "### Data\n",
    "\n",
    "Consider this dataset and new observation."
   ]
  },
  {
   "cell_type": "code",
   "execution_count": 2,
   "metadata": {
    "hide_input": true
   },
   "outputs": [
    {
     "data": {
      "text/html": [
       "<table><tr><td style=\"background-color:white; vertical-align:top; padding-right:40px;\"><table>\n",
       "<caption><center><font color=\"black\"><b>data</b></font></center></caption>\n",
       " <thead>\n",
       "  <tr>\n",
       "   <th style=\"text-align:right;background-color: #FFFFFF !important;\"> x1 </th>\n",
       "   <th style=\"text-align:right;background-color: #FFFFFF !important;\"> x2 </th>\n",
       "   <th style=\"text-align:right;background-color: #FFFFFF !important;\"> class </th>\n",
       "  </tr>\n",
       " </thead>\n",
       "<tbody>\n",
       "  <tr>\n",
       "   <td style=\"text-align:right;\"> 2 </td>\n",
       "   <td style=\"text-align:right;\"> 5 </td>\n",
       "   <td style=\"text-align:right;\"> B </td>\n",
       "  </tr>\n",
       "  <tr>\n",
       "   <td style=\"text-align:right;\"> 1 </td>\n",
       "   <td style=\"text-align:right;\"> 2 </td>\n",
       "   <td style=\"text-align:right;\"> A </td>\n",
       "  </tr>\n",
       "  <tr>\n",
       "   <td style=\"text-align:right;\"> 6 </td>\n",
       "   <td style=\"text-align:right;\"> 4 </td>\n",
       "   <td style=\"text-align:right;\"> A </td>\n",
       "  </tr>\n",
       "  <tr>\n",
       "   <td style=\"text-align:right;\"> 7 </td>\n",
       "   <td style=\"text-align:right;\"> 5 </td>\n",
       "   <td style=\"text-align:right;\"> A </td>\n",
       "  </tr>\n",
       "  <tr>\n",
       "   <td style=\"text-align:right;\"> 8 </td>\n",
       "   <td style=\"text-align:right;\"> 1 </td>\n",
       "   <td style=\"text-align:right;\"> A </td>\n",
       "  </tr>\n",
       "  <tr>\n",
       "   <td style=\"text-align:right;\"> 11 </td>\n",
       "   <td style=\"text-align:right;\"> 2 </td>\n",
       "   <td style=\"text-align:right;\"> B </td>\n",
       "  </tr>\n",
       "  <tr>\n",
       "   <td style=\"text-align:right;\"> 12 </td>\n",
       "   <td style=\"text-align:right;\"> 5 </td>\n",
       "   <td style=\"text-align:right;\"> A </td>\n",
       "  </tr>\n",
       "  <tr>\n",
       "   <td style=\"text-align:right;\"> 14 </td>\n",
       "   <td style=\"text-align:right;\"> 2 </td>\n",
       "   <td style=\"text-align:right;\"> A </td>\n",
       "  </tr>\n",
       "  <tr>\n",
       "   <td style=\"text-align:right;\"> 15 </td>\n",
       "   <td style=\"text-align:right;\"> 1 </td>\n",
       "   <td style=\"text-align:right;\"> B </td>\n",
       "  </tr>\n",
       "  <tr>\n",
       "   <td style=\"text-align:right;\"> 13 </td>\n",
       "   <td style=\"text-align:right;\"> 1 </td>\n",
       "   <td style=\"text-align:right;\"> B </td>\n",
       "  </tr>\n",
       "</tbody>\n",
       "</table></td><td style=\"background-color:white; vertical-align:top;\"><table>\n",
       "<caption><center><font color=\"black\"><b>new</b></font></center></caption>\n",
       " <thead>\n",
       "  <tr>\n",
       "   <th style=\"text-align:right;background-color: #FFFFFF !important;\"> x1 </th>\n",
       "   <th style=\"text-align:right;background-color: #FFFFFF !important;\"> x2 </th>\n",
       "  </tr>\n",
       " </thead>\n",
       "<tbody>\n",
       "  <tr>\n",
       "   <td style=\"text-align:right;\"> 8 </td>\n",
       "   <td style=\"text-align:right;\"> 3 </td>\n",
       "  </tr>\n",
       "</tbody>\n",
       "</table></td></tr></table>"
      ]
     },
     "metadata": {},
     "output_type": "display_data"
    },
    {
     "data": {
      "image/png": "[encoded data removed]",
      "text/plain": [
       "plot without title"
      ]
     },
     "metadata": {},
     "output_type": "display_data"
    }
   ],
   "source": [
    "data = data.frame(x1=c(2,1,6,7,8,11,12,14,15,13), x2=c(5,2,4,5,1,2,5,2,1,1),\n",
    "                  class=c(\"B\",\"A\",\"A\",\"A\",\"A\",\"B\",\"A\",\"A\",\"B\",\"B\"))\n",
    "new = data.frame(x1=8, x2=3)\n",
    "layout(fmt(data), fmt(new))\n",
    "\n",
    "ggplot(data) +\n",
    "geom_point(aes(x=x1, y=x2, color=class)) +\n",
    "geom_point(aes(x=x1, y=x2), color=NEW_COLOR, data=new)"
   ]
  },
  {
   "cell_type": "markdown",
   "metadata": {},
   "source": [
    "### Prediction Based on Prior Probabilities of Dataset\n",
    "\n",
    "You can predict the new observation's class based on prior probabilities.  Doing so, you would predict the class that appears in the dataset with probability that exceeds some cutoff, regardless of the new observation.\n",
    "\n",
    "In this example, class A appears with probability 0.60 and class B appears with probability 0.40.  Assuming a cutoff 0.50, we predict the new observation is in class A because 0.60 ≥ 0.50. "
   ]
  },
  {
   "cell_type": "code",
   "execution_count": 3,
   "metadata": {
    "hide_input": true
   },
   "outputs": [
    {
     "data": {
      "text/html": [
       "<table><tr><td style=\"background-color:white; vertical-align:top; padding-right:40px;\"><table>\n",
       "<caption><center><font color=\"black\"><b>prob_info</b></font></center></caption>\n",
       " <thead>\n",
       "  <tr>\n",
       "   <th style=\"text-align:right;background-color: #FFFFFF !important;\"> class </th>\n",
       "   <th style=\"text-align:right;background-color: #FFFFFF !important;\"> prob </th>\n",
       "  </tr>\n",
       " </thead>\n",
       "<tbody>\n",
       "  <tr>\n",
       "   <td style=\"text-align:right;\"> A </td>\n",
       "   <td style=\"text-align:right;\"> 0.6 </td>\n",
       "  </tr>\n",
       "  <tr>\n",
       "   <td style=\"text-align:right;\"> B </td>\n",
       "   <td style=\"text-align:right;\"> 0.4 </td>\n",
       "  </tr>\n",
       "</tbody>\n",
       "</table></td><td style=\"background-color:white; vertical-align:top;\"><table>\n",
       "<caption><center><font color=\"black\"><b>new</b></font></center></caption>\n",
       " <thead>\n",
       "  <tr>\n",
       "   <th style=\"text-align:right;background-color: #FFFFFF !important;\"> x1 </th>\n",
       "   <th style=\"text-align:right;background-color: #FFFFFF !important;\"> x2 </th>\n",
       "   <th style=\"text-align:right;background-color: #FFFFFF !important;\"> class.predicted </th>\n",
       "  </tr>\n",
       " </thead>\n",
       "<tbody>\n",
       "  <tr>\n",
       "   <td style=\"text-align:right;\"> 8 </td>\n",
       "   <td style=\"text-align:right;\"> 3 </td>\n",
       "   <td style=\"text-align:right;\"> A </td>\n",
       "  </tr>\n",
       "</tbody>\n",
       "</table></td></tr></table>"
      ]
     },
     "metadata": {},
     "output_type": "display_data"
    }
   ],
   "source": [
    "prob_info  = data.frame(table(data$class));  names(prob_info)  = c(\"class\", \"prob\"); prob_info$prob  = prob_info$prob/sum(prob_info$prob)\n",
    "\n",
    "layout(fmt(prob_info), fmt(cbind(new, class.predicted=\"A\"), \"new\"))"
   ]
  },
  {
   "cell_type": "markdown",
   "metadata": {},
   "source": [
    "### Prediction Based on Prior Probabilities of Split Dataset\n",
    "\n",
    "You can instead first split the dataset into two subsets - call them the left split and the right split - and then predict the new observation's class based on the prior probabilities of just one of the splits.  To split the dataset, pick a variable/value pair to serve as the split criterion for which of its observations go in the left split and which go in the right split.  To predict, apply the split criterion to the new observation and choose the left or right split accordingly. "
   ]
  },
  {
   "cell_type": "markdown",
   "metadata": {},
   "source": [
    "In this example, we pick x1=9.5 as our split criterion.  The dataset's 5 observations with x1 < 9.5 go in the left split, and the other 5 observations go in the right split.  For the left split, class A appears with probability 0.8 and class B appears with probability 0.2.  For the right split, class A appears with probability 0.4 and class B appers with probability 0.6.   "
   ]
  },
  {
   "cell_type": "code",
   "execution_count": 4,
   "metadata": {
    "hide_input": true,
    "scrolled": false
   },
   "outputs": [
    {
     "data": {
      "text/html": [
       "<table>\n",
       "<thead><tr><th scope=col>split_variable</th><th scope=col>split_value</th></tr></thead>\n",
       "<tbody>\n",
       "\t<tr><td>x1 </td><td>9.5</td></tr>\n",
       "</tbody>\n",
       "</table>\n"
      ],
      "text/latex": [
       "\\begin{tabular}{r|ll}\n",
       " split\\_variable & split\\_value\\\\\n",
       "\\hline\n",
       "\t x1  & 9.5\\\\\n",
       "\\end{tabular}\n"
      ],
      "text/markdown": [
       "\n",
       "| split_variable | split_value |\n",
       "|---|---|\n",
       "| x1  | 9.5 |\n",
       "\n"
      ],
      "text/plain": [
       "  split_variable split_value\n",
       "1 x1             9.5        "
      ]
     },
     "metadata": {},
     "output_type": "display_data"
    },
    {
     "data": {
      "text/html": [
       "<table><tr><td style=\"background-color:white; vertical-align:top; padding-right:40px;\"><table>\n",
       "<caption><center><font color=\"black\"><b>data.left</b></font></center></caption>\n",
       " <thead>\n",
       "  <tr>\n",
       "   <th style=\"text-align:right;background-color: #FFFFFF !important;\"> x1 </th>\n",
       "   <th style=\"text-align:right;background-color: #FFFFFF !important;\"> x2 </th>\n",
       "   <th style=\"text-align:right;background-color: #FFFFFF !important;\"> class </th>\n",
       "  </tr>\n",
       " </thead>\n",
       "<tbody>\n",
       "  <tr>\n",
       "   <td style=\"text-align:right;\"> 2 </td>\n",
       "   <td style=\"text-align:right;\"> 5 </td>\n",
       "   <td style=\"text-align:right;\"> B </td>\n",
       "  </tr>\n",
       "  <tr>\n",
       "   <td style=\"text-align:right;\"> 1 </td>\n",
       "   <td style=\"text-align:right;\"> 2 </td>\n",
       "   <td style=\"text-align:right;\"> A </td>\n",
       "  </tr>\n",
       "  <tr>\n",
       "   <td style=\"text-align:right;\"> 6 </td>\n",
       "   <td style=\"text-align:right;\"> 4 </td>\n",
       "   <td style=\"text-align:right;\"> A </td>\n",
       "  </tr>\n",
       "  <tr>\n",
       "   <td style=\"text-align:right;\"> 7 </td>\n",
       "   <td style=\"text-align:right;\"> 5 </td>\n",
       "   <td style=\"text-align:right;\"> A </td>\n",
       "  </tr>\n",
       "  <tr>\n",
       "   <td style=\"text-align:right;\"> 8 </td>\n",
       "   <td style=\"text-align:right;\"> 1 </td>\n",
       "   <td style=\"text-align:right;\"> A </td>\n",
       "  </tr>\n",
       "</tbody>\n",
       "</table></td><td style=\"background-color:white; vertical-align:top;\"><table>\n",
       "<caption><center><font color=\"black\"><b>prob_info.left</b></font></center></caption>\n",
       " <thead>\n",
       "  <tr>\n",
       "   <th style=\"text-align:right;background-color: #FFFFFF !important;\"> class </th>\n",
       "   <th style=\"text-align:right;background-color: #FFFFFF !important;\"> prob </th>\n",
       "  </tr>\n",
       " </thead>\n",
       "<tbody>\n",
       "  <tr>\n",
       "   <td style=\"text-align:right;\"> A </td>\n",
       "   <td style=\"text-align:right;\"> 0.8 </td>\n",
       "  </tr>\n",
       "  <tr>\n",
       "   <td style=\"text-align:right;\"> B </td>\n",
       "   <td style=\"text-align:right;\"> 0.2 </td>\n",
       "  </tr>\n",
       "</tbody>\n",
       "</table></td></tr><tr><td style=\"background-color:white; vertical-align:top; padding-right:40px;\"><table>\n",
       "<caption><center><font color=\"black\"><b>data.right</b></font></center></caption>\n",
       " <thead>\n",
       "  <tr>\n",
       "   <th style=\"text-align:right;background-color: #FFFFFF !important;\"> x1 </th>\n",
       "   <th style=\"text-align:right;background-color: #FFFFFF !important;\"> x2 </th>\n",
       "   <th style=\"text-align:right;background-color: #FFFFFF !important;\"> class </th>\n",
       "  </tr>\n",
       " </thead>\n",
       "<tbody>\n",
       "  <tr>\n",
       "   <td style=\"text-align:right;\"> 11 </td>\n",
       "   <td style=\"text-align:right;\"> 2 </td>\n",
       "   <td style=\"text-align:right;\"> B </td>\n",
       "  </tr>\n",
       "  <tr>\n",
       "   <td style=\"text-align:right;\"> 12 </td>\n",
       "   <td style=\"text-align:right;\"> 5 </td>\n",
       "   <td style=\"text-align:right;\"> A </td>\n",
       "  </tr>\n",
       "  <tr>\n",
       "   <td style=\"text-align:right;\"> 14 </td>\n",
       "   <td style=\"text-align:right;\"> 2 </td>\n",
       "   <td style=\"text-align:right;\"> A </td>\n",
       "  </tr>\n",
       "  <tr>\n",
       "   <td style=\"text-align:right;\"> 15 </td>\n",
       "   <td style=\"text-align:right;\"> 1 </td>\n",
       "   <td style=\"text-align:right;\"> B </td>\n",
       "  </tr>\n",
       "  <tr>\n",
       "   <td style=\"text-align:right;\"> 13 </td>\n",
       "   <td style=\"text-align:right;\"> 1 </td>\n",
       "   <td style=\"text-align:right;\"> B </td>\n",
       "  </tr>\n",
       "</tbody>\n",
       "</table></td><td style=\"background-color:white; vertical-align:top;\"><table>\n",
       "<caption><center><font color=\"black\"><b>prob_info.right</b></font></center></caption>\n",
       " <thead>\n",
       "  <tr>\n",
       "   <th style=\"text-align:right;background-color: #FFFFFF !important;\"> class </th>\n",
       "   <th style=\"text-align:right;background-color: #FFFFFF !important;\"> prob </th>\n",
       "  </tr>\n",
       " </thead>\n",
       "<tbody>\n",
       "  <tr>\n",
       "   <td style=\"text-align:right;\"> A </td>\n",
       "   <td style=\"text-align:right;\"> 0.4 </td>\n",
       "  </tr>\n",
       "  <tr>\n",
       "   <td style=\"text-align:right;\"> B </td>\n",
       "   <td style=\"text-align:right;\"> 0.6 </td>\n",
       "  </tr>\n",
       "</tbody>\n",
       "</table></td></tr></table>"
      ]
     },
     "metadata": {},
     "output_type": "display_data"
    }
   ],
   "source": [
    "split_variable = \"x1\"\n",
    "split_value = 9.5\n",
    "\n",
    "data.left  = data[data[, split_variable] <   split_value,]\n",
    "data.right = data[data[, split_variable] >=  split_value,]\n",
    "\n",
    "prob_info.left  = data.frame(table(data.left$class));  names(prob_info.left)  = c(\"class\", \"prob\"); prob_info.left$prob  = prob_info.left$prob/sum(prob_info.left$prob)\n",
    "prob_info.right = data.frame(table(data.right$class)); names(prob_info.right) = c(\"class\", \"prob\"); prob_info.right$prob = prob_info.right$prob/sum(prob_info.right$prob)\n",
    "\n",
    "data.frame(split_variable, split_value)\n",
    "layout(fmt(data.left), fmt(prob_info.left), fmt(data.right), fmt(prob_info.right), nrow=2)"
   ]
  },
  {
   "cell_type": "markdown",
   "metadata": {},
   "source": [
    "We can visualize this arrangement of the dataset as a tree diagram.  The tree's root node shows the split criterion.  The left branch represents the left split and its leaf node shows its majority class.  Similarly, the right branch represents the right split and its leaf node shows its majority class. "
   ]
  },
  {
   "cell_type": "code",
   "execution_count": 5,
   "metadata": {
    "hide_input": true
   },
   "outputs": [
    {
     "data": {
      "text/plain": [
       "n= 10 \n",
       "\n",
       "node), split, n, loss, yval, (yprob)\n",
       "      * denotes terminal node\n",
       "\n",
       "1) root 10 4 A (0.6000000 0.4000000)  \n",
       "  2) x1< 9.5 5 1 A (0.8000000 0.2000000) *\n",
       "  3) x1>=9.5 5 2 B (0.4000000 0.6000000) *"
      ]
     },
     "metadata": {},
     "output_type": "display_data"
    },
    {
     "data": {
      "image/png": "[encoded data removed]",
      "text/plain": [
       "plot without title"
      ]
     },
     "metadata": {},
     "output_type": "display_data"
    }
   ],
   "source": [
    "model.depth1 = rpart(class ~ x1+x2, data, method=\"class\", minsplit=2, cp=0, maxdepth=1)\n",
    "\n",
    "model.depth1\n",
    "ggtree(model.depth1)"
   ]
  },
  {
   "cell_type": "markdown",
   "metadata": {},
   "source": [
    "Applying the split criterion x1 < 9.5 to the new observation [ x1=8, x2=3 ], we see that 8 < 9.5 so we choose the left split.  Class A appears in the left split with probability 0.80 and class B appears with probability 0.20.  Assuming a 0.50 cutoff, we predict that the new observation is in class A because 0.80 ≥ 0.50.  (Note that we predict with 80% certainty rather than with 60% certainty as before, at least according to this particular method.)"
   ]
  },
  {
   "cell_type": "code",
   "execution_count": 6,
   "metadata": {
    "hide_input": true
   },
   "outputs": [
    {
     "data": {
      "text/html": [
       "<table><tr><td style=\"background-color:white; vertical-align:top; padding-right:40px;\"><table>\n",
       "<caption><center><font color=\"black\"><b>prob_info</b></font></center></caption>\n",
       " <thead>\n",
       "  <tr>\n",
       "   <th style=\"text-align:right;background-color: #FFFFFF !important;\"> class </th>\n",
       "   <th style=\"text-align:right;background-color: #FFFFFF !important;\"> prob </th>\n",
       "  </tr>\n",
       " </thead>\n",
       "<tbody>\n",
       "  <tr>\n",
       "   <td style=\"text-align:right;\"> A </td>\n",
       "   <td style=\"text-align:right;\"> 0.8 </td>\n",
       "  </tr>\n",
       "  <tr>\n",
       "   <td style=\"text-align:right;\"> B </td>\n",
       "   <td style=\"text-align:right;\"> 0.2 </td>\n",
       "  </tr>\n",
       "</tbody>\n",
       "</table></td><td style=\"background-color:white; vertical-align:top;\"><table>\n",
       "<caption><center><font color=\"black\"><b>new</b></font></center></caption>\n",
       " <thead>\n",
       "  <tr>\n",
       "   <th style=\"text-align:right;background-color: #FFFFFF !important;\"> x1 </th>\n",
       "   <th style=\"text-align:right;background-color: #FFFFFF !important;\"> x2 </th>\n",
       "   <th style=\"text-align:right;background-color: #FFFFFF !important;\"> class.predicted </th>\n",
       "  </tr>\n",
       " </thead>\n",
       "<tbody>\n",
       "  <tr>\n",
       "   <td style=\"text-align:right;\"> 8 </td>\n",
       "   <td style=\"text-align:right;\"> 3 </td>\n",
       "   <td style=\"text-align:right;\"> A </td>\n",
       "  </tr>\n",
       "</tbody>\n",
       "</table></td></tr></table>"
      ]
     },
     "metadata": {},
     "output_type": "display_data"
    }
   ],
   "source": [
    "prob_info  = data.frame(table(data.left$class));  names(prob_info)  = c(\"class\", \"prob\"); prob_info$prob  = prob_info$prob/sum(prob_info$prob)\n",
    "\n",
    "layout(fmt(prob_info), fmt(cbind(new, class.predicted=\"A\"), \"new\"))"
   ]
  },
  {
   "cell_type": "markdown",
   "metadata": {},
   "source": [
    "### Prediction Based on Prior Probabilities of Recursively Split Dataset\n",
    "\n",
    "You can extend the notion of splitting the dataset to also split the splits, and split those resulting splits, and keep splitting recursively to the point where each terminal split comprises observations of a single class.\n",
    "\n",
    "This arrangement is called a decision tree model.  The dataset and its split criterion is called the root node of the tree.  Splits and their split criteria are called nodes.  Terminal splits are called leaf nodes or terminal nodes."
   ]
  },
  {
   "cell_type": "markdown",
   "metadata": {},
   "source": [
    "In this example, we pick x1 < 9.5 as our first split criterion.  For the left split, we pick x1 ≥ 4 as our split criterion.  For the right split, we pick x2 ≥ 1.5 as our split criterion.  We then further split the left and right splits, picking split criteria along the way, resulting in these 6 terminal splits:\n",
    "\n",
    "* 3 observations in class A with (x1 < 9.5) & (x1 ≥ 4)\n",
    "* 1 observation in class A with (x1 < 9.5) & (x1 < 4) & (x1 < 1.5), i.e., (x1 < 1.5)\n",
    "* 1 observation in class B with (x1 < 9.5) & (x1 < 4) & (x1 ≥ 1.5), i.e., (x1 < 4) & (x1 ≥ 1.5)\n",
    "* 2 observations in class A with (x1 ≥ 9.5) & (x2 ≥ 1.5) & (x1 ≥ 11.5), i.e., (x1 ≥ 11.5) & (x2 ≥ 1.5)\n",
    "* 1 observation in class B with (x1 ≥ 9.5) & (x2 ≥ 1.5) & (x1 < 11.5)\n",
    "* 2 observations in class B with (x1 ≥ 9.5) & (x2 < 1.5)\n",
    "\n",
    "Here is the decision tree model visualized as a tree diagram."
   ]
  },
  {
   "cell_type": "code",
   "execution_count": 7,
   "metadata": {
    "hide_input": true
   },
   "outputs": [
    {
     "data": {
      "text/plain": [
       "n= 10 \n",
       "\n",
       "node), split, n, loss, yval, (yprob)\n",
       "      * denotes terminal node\n",
       "\n",
       " 1) root 10 4 A (0.6000000 0.4000000)  \n",
       "   2) x1< 9.5 5 1 A (0.8000000 0.2000000)  \n",
       "     4) x1>=4 3 0 A (1.0000000 0.0000000) *\n",
       "     5) x1< 4 2 1 A (0.5000000 0.5000000)  \n",
       "      10) x1< 1.5 1 0 A (1.0000000 0.0000000) *\n",
       "      11) x1>=1.5 1 0 B (0.0000000 1.0000000) *\n",
       "   3) x1>=9.5 5 2 B (0.4000000 0.6000000)  \n",
       "     6) x2>=1.5 3 1 A (0.6666667 0.3333333)  \n",
       "      12) x1>=11.5 2 0 A (1.0000000 0.0000000) *\n",
       "      13) x1< 11.5 1 0 B (0.0000000 1.0000000) *\n",
       "     7) x2< 1.5 2 0 B (0.0000000 1.0000000) *"
      ]
     },
     "metadata": {},
     "output_type": "display_data"
    },
    {
     "data": {
      "image/png": "[encoded data removed]",
      "text/plain": [
       "plot without title"
      ]
     },
     "metadata": {},
     "output_type": "display_data"
    }
   ],
   "source": [
    "model = rpart(class ~ x1+x2, data, method=\"class\", minsplit=2, cp=0, maxdepth=30)\n",
    "\n",
    "model\n",
    "ggtree(model)"
   ]
  },
  {
   "cell_type": "markdown",
   "metadata": {},
   "source": [
    "Applying the split criteria to the new observation [ x1=8, x2=3 ], we see that (8 < 9.5) & (8 ≥ 4) so we choose the first terminal split and predict that the new observation is in class A.  (Note that we predict with 100% certainty, at least according to this particular method.)"
   ]
  },
  {
   "cell_type": "code",
   "execution_count": 8,
   "metadata": {
    "hide_input": false
   },
   "outputs": [
    {
     "data": {
      "text/html": [
       "<table>\n",
       "<caption><center><font color=\"black\"><b>new</b></font></center></caption>\n",
       " <thead>\n",
       "  <tr>\n",
       "   <th style=\"text-align:right;background-color: #FFFFFF !important;\"> x1 </th>\n",
       "   <th style=\"text-align:right;background-color: #FFFFFF !important;\"> x2 </th>\n",
       "   <th style=\"text-align:right;background-color: #FFFFFF !important;\"> class.predicted </th>\n",
       "  </tr>\n",
       " </thead>\n",
       "<tbody>\n",
       "  <tr>\n",
       "   <td style=\"text-align:right;\"> 8 </td>\n",
       "   <td style=\"text-align:right;\"> 3 </td>\n",
       "   <td style=\"text-align:right;\"> A </td>\n",
       "  </tr>\n",
       "</tbody>\n",
       "</table>"
      ]
     },
     "metadata": {},
     "output_type": "display_data"
    }
   ],
   "source": [
    "fmt(cbind(new, class.predicted=\"A\"), \"new\")"
   ]
  },
  {
   "cell_type": "markdown",
   "metadata": {},
   "source": [
    "## About Finding Best Splits\n",
    "\n",
    "Now we look more closely at how to pick the split criteria."
   ]
  },
  {
   "cell_type": "markdown",
   "metadata": {},
   "source": [
    "### Entropy\n",
    "\n",
    "Entropy is a measure of uncertainty in a distribution.\n",
    "\n",
    "Here is the definition of the entropy function H for a distribution of class labels A, B, ... :\n",
    "\n",
    "$$\n",
    "H = - \\big[ P(A) \\, log_2(P(A)) + P(B) \\, log_2(P(B)) \\, + \\, ... \\big]\n",
    "$$"
   ]
  },
  {
   "cell_type": "markdown",
   "metadata": {},
   "source": [
    "The entropy function for a distribution of 2 class labels A and B looks like this.  Note that maximum entropy corresponds to maximum uncertainty in the distribution, i.e., there is a 50% probability that a value in the distribution is A.  Minimum entropy corresponds to minimum uncertainty, i.e., there is either a 0% or 100% probability that a value in the distribution is A. "
   ]
  },
  {
   "cell_type": "code",
   "execution_count": 9,
   "metadata": {
    "hide_input": true
   },
   "outputs": [
    {
     "data": {
      "image/png": "[encoded data removed]",
      "text/plain": [
       "plot without title"
      ]
     },
     "metadata": {},
     "output_type": "display_data"
    }
   ],
   "source": [
    "x = seq(0,1,0.01)\n",
    "y = aaply(x, 1, function(i) -i*log2(i) + -(1-i)*log2(1-i) )\n",
    "          \n",
    "ggplot() + xlab(\"probability of class A\") + ylab(\"entropy\") + geom_line(aes(x=x, y=y), color=\"black\", na.rm=TRUE)"
   ]
  },
  {
   "cell_type": "markdown",
   "metadata": {},
   "source": [
    "### Method to Pick a Split Criterion\n",
    "\n",
    "How to pick a dataset's (or split's) split criterion:\n",
    "\n",
    "1. Calculate the entropy of the dataset's class distribution.\n",
    "1. For each candidate split criterion ...\n",
    "  * Determine the two splits.\n",
    "  * Calculate the entropy of each split's class distribution.\n",
    "  * Calculate the weighted average of split entropies.\n",
    "  * Calculate the information gain associated with the candidate split criterion, where the information gain is the difference between the dataset's entropy and the weighted average of split entropies.\n",
    "1. Pick the split criterion associated with the largest information gain.\n",
    "\n",
    "The list of candidate split criteria should include all (non-class) variables and values that split the individual variable distributions every possible way."
   ]
  },
  {
   "cell_type": "markdown",
   "metadata": {},
   "source": [
    "## Finding Best Splits"
   ]
  },
  {
   "cell_type": "markdown",
   "metadata": {},
   "source": [
    "### Dataset & Associated Entropy\n",
    "\n",
    "In this example, the entropy of the dataset's class distribution is 0.97. "
   ]
  },
  {
   "cell_type": "code",
   "execution_count": 10,
   "metadata": {
    "hide_input": true
   },
   "outputs": [
    {
     "data": {
      "text/html": [
       "<table><tr><td style=\"background-color:white; vertical-align:top; padding-right:40px;\"><table>\n",
       "<caption><center><font color=\"black\"><b>data</b></font></center></caption>\n",
       " <thead>\n",
       "  <tr>\n",
       "   <th style=\"text-align:right;background-color: #FFFFFF !important;\"> x1 </th>\n",
       "   <th style=\"text-align:right;background-color: #FFFFFF !important;\"> x2 </th>\n",
       "   <th style=\"text-align:right;background-color: #FFFFFF !important;\"> class </th>\n",
       "  </tr>\n",
       " </thead>\n",
       "<tbody>\n",
       "  <tr>\n",
       "   <td style=\"text-align:right;\"> 2 </td>\n",
       "   <td style=\"text-align:right;\"> 5 </td>\n",
       "   <td style=\"text-align:right;\"> B </td>\n",
       "  </tr>\n",
       "  <tr>\n",
       "   <td style=\"text-align:right;\"> 1 </td>\n",
       "   <td style=\"text-align:right;\"> 2 </td>\n",
       "   <td style=\"text-align:right;\"> A </td>\n",
       "  </tr>\n",
       "  <tr>\n",
       "   <td style=\"text-align:right;\"> 6 </td>\n",
       "   <td style=\"text-align:right;\"> 4 </td>\n",
       "   <td style=\"text-align:right;\"> A </td>\n",
       "  </tr>\n",
       "  <tr>\n",
       "   <td style=\"text-align:right;\"> 7 </td>\n",
       "   <td style=\"text-align:right;\"> 5 </td>\n",
       "   <td style=\"text-align:right;\"> A </td>\n",
       "  </tr>\n",
       "  <tr>\n",
       "   <td style=\"text-align:right;\"> 8 </td>\n",
       "   <td style=\"text-align:right;\"> 1 </td>\n",
       "   <td style=\"text-align:right;\"> A </td>\n",
       "  </tr>\n",
       "  <tr>\n",
       "   <td style=\"text-align:right;\"> 11 </td>\n",
       "   <td style=\"text-align:right;\"> 2 </td>\n",
       "   <td style=\"text-align:right;\"> B </td>\n",
       "  </tr>\n",
       "  <tr>\n",
       "   <td style=\"text-align:right;\"> 12 </td>\n",
       "   <td style=\"text-align:right;\"> 5 </td>\n",
       "   <td style=\"text-align:right;\"> A </td>\n",
       "  </tr>\n",
       "  <tr>\n",
       "   <td style=\"text-align:right;\"> 14 </td>\n",
       "   <td style=\"text-align:right;\"> 2 </td>\n",
       "   <td style=\"text-align:right;\"> A </td>\n",
       "  </tr>\n",
       "  <tr>\n",
       "   <td style=\"text-align:right;\"> 15 </td>\n",
       "   <td style=\"text-align:right;\"> 1 </td>\n",
       "   <td style=\"text-align:right;\"> B </td>\n",
       "  </tr>\n",
       "  <tr>\n",
       "   <td style=\"text-align:right;\"> 13 </td>\n",
       "   <td style=\"text-align:right;\"> 1 </td>\n",
       "   <td style=\"text-align:right;\"> B </td>\n",
       "  </tr>\n",
       "</tbody>\n",
       "</table></td><td style=\"background-color:white; vertical-align:top;\"><table>\n",
       "<caption><center><font color=\"black\"><b> </b></font></center></caption>\n",
       " <thead>\n",
       "  <tr>\n",
       "   <th style=\"text-align:right;background-color: #FFFFFF !important;\"> entropy.root </th>\n",
       "  </tr>\n",
       " </thead>\n",
       "<tbody>\n",
       "  <tr>\n",
       "   <td style=\"text-align:right;\"> 0.9709506 </td>\n",
       "  </tr>\n",
       "</tbody>\n",
       "</table></td></tr></table>"
      ]
     },
     "metadata": {},
     "output_type": "display_data"
    }
   ],
   "source": [
    "entropy.root = entropy(table(data$class), unit=\"log2\")\n",
    "\n",
    "layout(fmt(data), fmt(entropy.root, force=TRUE))"
   ]
  },
  {
   "cell_type": "markdown",
   "metadata": {},
   "source": [
    "### Candidate Split Criteria & Associated Entropies\n",
    "\n",
    "Here are a few candidate split criteria."
   ]
  },
  {
   "cell_type": "markdown",
   "metadata": {},
   "source": [
    "A split at x1=9.5 would result in weighted average entropy 0.84 and information gain 0.12."
   ]
  },
  {
   "cell_type": "code",
   "execution_count": 11,
   "metadata": {
    "hide_input": true
   },
   "outputs": [
    {
     "data": {
      "text/html": [
       "<table>\n",
       "<thead><tr><th scope=col>split_variable</th><th scope=col>split_value</th><th scope=col>entropy.root</th><th scope=col>entropy.children</th><th scope=col>info_gain</th></tr></thead>\n",
       "<tbody>\n",
       "\t<tr><td>x1       </td><td>9.5      </td><td>0.9709506</td><td>0.8464393</td><td>0.1245112</td></tr>\n",
       "</tbody>\n",
       "</table>\n"
      ],
      "text/latex": [
       "\\begin{tabular}{r|lllll}\n",
       " split\\_variable & split\\_value & entropy.root & entropy.children & info\\_gain\\\\\n",
       "\\hline\n",
       "\t x1        & 9.5       & 0.9709506 & 0.8464393 & 0.1245112\\\\\n",
       "\\end{tabular}\n"
      ],
      "text/markdown": [
       "\n",
       "| split_variable | split_value | entropy.root | entropy.children | info_gain |\n",
       "|---|---|---|---|---|\n",
       "| x1        | 9.5       | 0.9709506 | 0.8464393 | 0.1245112 |\n",
       "\n"
      ],
      "text/plain": [
       "  split_variable split_value entropy.root entropy.children info_gain\n",
       "1 x1             9.5         0.9709506    0.8464393        0.1245112"
      ]
     },
     "metadata": {},
     "output_type": "display_data"
    },
    {
     "data": {
      "text/html": [
       "<table><tr><td style=\"background-color:white; vertical-align:top; padding-right:40px;\"><table>\n",
       "<caption><center><font color=\"black\"><b>data.left</b></font></center></caption>\n",
       " <thead>\n",
       "  <tr>\n",
       "   <th style=\"text-align:right;background-color: #FFFFFF !important;\"> x1 </th>\n",
       "   <th style=\"text-align:right;background-color: #FFFFFF !important;\"> x2 </th>\n",
       "   <th style=\"text-align:right;background-color: #FFFFFF !important;\"> class </th>\n",
       "  </tr>\n",
       " </thead>\n",
       "<tbody>\n",
       "  <tr>\n",
       "   <td style=\"text-align:right;\"> 2 </td>\n",
       "   <td style=\"text-align:right;\"> 5 </td>\n",
       "   <td style=\"text-align:right;\"> B </td>\n",
       "  </tr>\n",
       "  <tr>\n",
       "   <td style=\"text-align:right;\"> 1 </td>\n",
       "   <td style=\"text-align:right;\"> 2 </td>\n",
       "   <td style=\"text-align:right;\"> A </td>\n",
       "  </tr>\n",
       "  <tr>\n",
       "   <td style=\"text-align:right;\"> 6 </td>\n",
       "   <td style=\"text-align:right;\"> 4 </td>\n",
       "   <td style=\"text-align:right;\"> A </td>\n",
       "  </tr>\n",
       "  <tr>\n",
       "   <td style=\"text-align:right;\"> 7 </td>\n",
       "   <td style=\"text-align:right;\"> 5 </td>\n",
       "   <td style=\"text-align:right;\"> A </td>\n",
       "  </tr>\n",
       "  <tr>\n",
       "   <td style=\"text-align:right;\"> 8 </td>\n",
       "   <td style=\"text-align:right;\"> 1 </td>\n",
       "   <td style=\"text-align:right;\"> A </td>\n",
       "  </tr>\n",
       "</tbody>\n",
       "</table></td><td style=\"background-color:white; vertical-align:top; padding-right:40px;\"><table>\n",
       "<caption><center><font color=\"black\"><b>prob_info.left</b></font></center></caption>\n",
       " <thead>\n",
       "  <tr>\n",
       "   <th style=\"text-align:right;background-color: #FFFFFF !important;\"> class </th>\n",
       "   <th style=\"text-align:right;background-color: #FFFFFF !important;\"> prob </th>\n",
       "  </tr>\n",
       " </thead>\n",
       "<tbody>\n",
       "  <tr>\n",
       "   <td style=\"text-align:right;\"> A </td>\n",
       "   <td style=\"text-align:right;\"> 0.8 </td>\n",
       "  </tr>\n",
       "  <tr>\n",
       "   <td style=\"text-align:right;\"> B </td>\n",
       "   <td style=\"text-align:right;\"> 0.2 </td>\n",
       "  </tr>\n",
       "</tbody>\n",
       "</table></td><td style=\"background-color:white; vertical-align:top;\"><table>\n",
       "<caption><center><font color=\"black\"><b>entropy_info.left</b></font></center></caption>\n",
       " <thead>\n",
       "  <tr>\n",
       "   <th style=\"text-align:right;background-color: #FFFFFF !important;\"> entropy </th>\n",
       "   <th style=\"text-align:right;background-color: #FFFFFF !important;\"> weight </th>\n",
       "  </tr>\n",
       " </thead>\n",
       "<tbody>\n",
       "  <tr>\n",
       "   <td style=\"text-align:right;\"> 0.7219281 </td>\n",
       "   <td style=\"text-align:right;\"> 0.5 </td>\n",
       "  </tr>\n",
       "</tbody>\n",
       "</table></td></tr><tr><td style=\"background-color:white; vertical-align:top; padding-right:40px;\"><table>\n",
       "<caption><center><font color=\"black\"><b>data.right</b></font></center></caption>\n",
       " <thead>\n",
       "  <tr>\n",
       "   <th style=\"text-align:right;background-color: #FFFFFF !important;\"> x1 </th>\n",
       "   <th style=\"text-align:right;background-color: #FFFFFF !important;\"> x2 </th>\n",
       "   <th style=\"text-align:right;background-color: #FFFFFF !important;\"> class </th>\n",
       "  </tr>\n",
       " </thead>\n",
       "<tbody>\n",
       "  <tr>\n",
       "   <td style=\"text-align:right;\"> 11 </td>\n",
       "   <td style=\"text-align:right;\"> 2 </td>\n",
       "   <td style=\"text-align:right;\"> B </td>\n",
       "  </tr>\n",
       "  <tr>\n",
       "   <td style=\"text-align:right;\"> 12 </td>\n",
       "   <td style=\"text-align:right;\"> 5 </td>\n",
       "   <td style=\"text-align:right;\"> A </td>\n",
       "  </tr>\n",
       "  <tr>\n",
       "   <td style=\"text-align:right;\"> 14 </td>\n",
       "   <td style=\"text-align:right;\"> 2 </td>\n",
       "   <td style=\"text-align:right;\"> A </td>\n",
       "  </tr>\n",
       "  <tr>\n",
       "   <td style=\"text-align:right;\"> 15 </td>\n",
       "   <td style=\"text-align:right;\"> 1 </td>\n",
       "   <td style=\"text-align:right;\"> B </td>\n",
       "  </tr>\n",
       "  <tr>\n",
       "   <td style=\"text-align:right;\"> 13 </td>\n",
       "   <td style=\"text-align:right;\"> 1 </td>\n",
       "   <td style=\"text-align:right;\"> B </td>\n",
       "  </tr>\n",
       "</tbody>\n",
       "</table></td><td style=\"background-color:white; vertical-align:top; padding-right:40px;\"><table>\n",
       "<caption><center><font color=\"black\"><b>prob_info.right</b></font></center></caption>\n",
       " <thead>\n",
       "  <tr>\n",
       "   <th style=\"text-align:right;background-color: #FFFFFF !important;\"> class </th>\n",
       "   <th style=\"text-align:right;background-color: #FFFFFF !important;\"> prob </th>\n",
       "  </tr>\n",
       " </thead>\n",
       "<tbody>\n",
       "  <tr>\n",
       "   <td style=\"text-align:right;\"> A </td>\n",
       "   <td style=\"text-align:right;\"> 0.4 </td>\n",
       "  </tr>\n",
       "  <tr>\n",
       "   <td style=\"text-align:right;\"> B </td>\n",
       "   <td style=\"text-align:right;\"> 0.6 </td>\n",
       "  </tr>\n",
       "</tbody>\n",
       "</table></td><td style=\"background-color:white; vertical-align:top;\"><table>\n",
       "<caption><center><font color=\"black\"><b>entropy_info.right</b></font></center></caption>\n",
       " <thead>\n",
       "  <tr>\n",
       "   <th style=\"text-align:right;background-color: #FFFFFF !important;\"> entropy </th>\n",
       "   <th style=\"text-align:right;background-color: #FFFFFF !important;\"> weight </th>\n",
       "  </tr>\n",
       " </thead>\n",
       "<tbody>\n",
       "  <tr>\n",
       "   <td style=\"text-align:right;\"> 0.9709506 </td>\n",
       "   <td style=\"text-align:right;\"> 0.5 </td>\n",
       "  </tr>\n",
       "</tbody>\n",
       "</table></td></tr></table>"
      ]
     },
     "metadata": {},
     "output_type": "display_data"
    }
   ],
   "source": [
    "split_variable = \"x1\"\n",
    "split_value = 9.5\n",
    "\n",
    "data.left  = data[data[, split_variable] <   split_value,]\n",
    "data.right = data[data[, split_variable] >=  split_value,]\n",
    "\n",
    "prob_info.left  = data.frame(table(data.left$class));  names(prob_info.left)  = c(\"class\", \"prob\"); prob_info.left$prob  = prob_info.left$prob/sum(prob_info.left$prob)\n",
    "prob_info.right = data.frame(table(data.right$class)); names(prob_info.right) = c(\"class\", \"prob\"); prob_info.right$prob = prob_info.right$prob/sum(prob_info.right$prob)\n",
    "\n",
    "entropy.left  = entropy(table(data.left$class),  unit=\"log2\")\n",
    "entropy.right = entropy(table(data.right$class), unit=\"log2\")\n",
    "weight.left = nrow(data.left) / (nrow(data.left) + nrow(data.right))\n",
    "weight.right = nrow(data.right) / (nrow(data.left) + nrow(data.right))\n",
    "\n",
    "entropy_info.left  = data.frame(entropy=entropy.left,  weight=weight.left)\n",
    "entropy_info.right = data.frame(entropy=entropy.right, weight=weight.right)\n",
    "\n",
    "entropy.children = weight.left*entropy.left + weight.right*entropy.right\n",
    "\n",
    "info_gain_x1_9.5 = entropy.root - entropy.children\n",
    "\n",
    "data.frame(split_variable, split_value, entropy.root, entropy.children, info_gain=info_gain_x1_9.5)\n",
    "layout(fmt(data.left), fmt(prob_info.left), fmt(entropy_info.left),\n",
    "       fmt(data.right), fmt(prob_info.right), fmt(entropy_info.right),\n",
    "       nrow=2)"
   ]
  },
  {
   "cell_type": "markdown",
   "metadata": {},
   "source": [
    "A split at x1=7.5 would result in weighted average entropy 0.92 and information gain 0.046."
   ]
  },
  {
   "cell_type": "code",
   "execution_count": 12,
   "metadata": {
    "hide_input": true
   },
   "outputs": [
    {
     "data": {
      "text/html": [
       "<table>\n",
       "<thead><tr><th scope=col>split_variable</th><th scope=col>split_value</th><th scope=col>entropy.root</th><th scope=col>entropy.children</th><th scope=col>info_gain</th></tr></thead>\n",
       "<tbody>\n",
       "\t<tr><td>x1        </td><td>7.5       </td><td>0.9709506 </td><td>0.9245112 </td><td>0.04643934</td></tr>\n",
       "</tbody>\n",
       "</table>\n"
      ],
      "text/latex": [
       "\\begin{tabular}{r|lllll}\n",
       " split\\_variable & split\\_value & entropy.root & entropy.children & info\\_gain\\\\\n",
       "\\hline\n",
       "\t x1         & 7.5        & 0.9709506  & 0.9245112  & 0.04643934\\\\\n",
       "\\end{tabular}\n"
      ],
      "text/markdown": [
       "\n",
       "| split_variable | split_value | entropy.root | entropy.children | info_gain |\n",
       "|---|---|---|---|---|\n",
       "| x1         | 7.5        | 0.9709506  | 0.9245112  | 0.04643934 |\n",
       "\n"
      ],
      "text/plain": [
       "  split_variable split_value entropy.root entropy.children info_gain \n",
       "1 x1             7.5         0.9709506    0.9245112        0.04643934"
      ]
     },
     "metadata": {},
     "output_type": "display_data"
    },
    {
     "data": {
      "text/html": [
       "<table><tr><td style=\"background-color:white; vertical-align:top; padding-right:40px;\"><table>\n",
       "<caption><center><font color=\"black\"><b>data.left</b></font></center></caption>\n",
       " <thead>\n",
       "  <tr>\n",
       "   <th style=\"text-align:right;background-color: #FFFFFF !important;\"> x1 </th>\n",
       "   <th style=\"text-align:right;background-color: #FFFFFF !important;\"> x2 </th>\n",
       "   <th style=\"text-align:right;background-color: #FFFFFF !important;\"> class </th>\n",
       "  </tr>\n",
       " </thead>\n",
       "<tbody>\n",
       "  <tr>\n",
       "   <td style=\"text-align:right;\"> 2 </td>\n",
       "   <td style=\"text-align:right;\"> 5 </td>\n",
       "   <td style=\"text-align:right;\"> B </td>\n",
       "  </tr>\n",
       "  <tr>\n",
       "   <td style=\"text-align:right;\"> 1 </td>\n",
       "   <td style=\"text-align:right;\"> 2 </td>\n",
       "   <td style=\"text-align:right;\"> A </td>\n",
       "  </tr>\n",
       "  <tr>\n",
       "   <td style=\"text-align:right;\"> 6 </td>\n",
       "   <td style=\"text-align:right;\"> 4 </td>\n",
       "   <td style=\"text-align:right;\"> A </td>\n",
       "  </tr>\n",
       "  <tr>\n",
       "   <td style=\"text-align:right;\"> 7 </td>\n",
       "   <td style=\"text-align:right;\"> 5 </td>\n",
       "   <td style=\"text-align:right;\"> A </td>\n",
       "  </tr>\n",
       "</tbody>\n",
       "</table></td><td style=\"background-color:white; vertical-align:top; padding-right:40px;\"><table>\n",
       "<caption><center><font color=\"black\"><b>prob_info.left</b></font></center></caption>\n",
       " <thead>\n",
       "  <tr>\n",
       "   <th style=\"text-align:right;background-color: #FFFFFF !important;\"> class </th>\n",
       "   <th style=\"text-align:right;background-color: #FFFFFF !important;\"> prob </th>\n",
       "  </tr>\n",
       " </thead>\n",
       "<tbody>\n",
       "  <tr>\n",
       "   <td style=\"text-align:right;\"> A </td>\n",
       "   <td style=\"text-align:right;\"> 0.75 </td>\n",
       "  </tr>\n",
       "  <tr>\n",
       "   <td style=\"text-align:right;\"> B </td>\n",
       "   <td style=\"text-align:right;\"> 0.25 </td>\n",
       "  </tr>\n",
       "</tbody>\n",
       "</table></td><td style=\"background-color:white; vertical-align:top;\"><table>\n",
       "<caption><center><font color=\"black\"><b>entropy_info.left</b></font></center></caption>\n",
       " <thead>\n",
       "  <tr>\n",
       "   <th style=\"text-align:right;background-color: #FFFFFF !important;\"> entropy </th>\n",
       "   <th style=\"text-align:right;background-color: #FFFFFF !important;\"> weight </th>\n",
       "  </tr>\n",
       " </thead>\n",
       "<tbody>\n",
       "  <tr>\n",
       "   <td style=\"text-align:right;\"> 0.8112781 </td>\n",
       "   <td style=\"text-align:right;\"> 0.4 </td>\n",
       "  </tr>\n",
       "</tbody>\n",
       "</table></td></tr><tr><td style=\"background-color:white; vertical-align:top; padding-right:40px;\"><table>\n",
       "<caption><center><font color=\"black\"><b>data.right</b></font></center></caption>\n",
       " <thead>\n",
       "  <tr>\n",
       "   <th style=\"text-align:right;background-color: #FFFFFF !important;\"> x1 </th>\n",
       "   <th style=\"text-align:right;background-color: #FFFFFF !important;\"> x2 </th>\n",
       "   <th style=\"text-align:right;background-color: #FFFFFF !important;\"> class </th>\n",
       "  </tr>\n",
       " </thead>\n",
       "<tbody>\n",
       "  <tr>\n",
       "   <td style=\"text-align:right;\"> 8 </td>\n",
       "   <td style=\"text-align:right;\"> 1 </td>\n",
       "   <td style=\"text-align:right;\"> A </td>\n",
       "  </tr>\n",
       "  <tr>\n",
       "   <td style=\"text-align:right;\"> 11 </td>\n",
       "   <td style=\"text-align:right;\"> 2 </td>\n",
       "   <td style=\"text-align:right;\"> B </td>\n",
       "  </tr>\n",
       "  <tr>\n",
       "   <td style=\"text-align:right;\"> 12 </td>\n",
       "   <td style=\"text-align:right;\"> 5 </td>\n",
       "   <td style=\"text-align:right;\"> A </td>\n",
       "  </tr>\n",
       "  <tr>\n",
       "   <td style=\"text-align:right;\"> 14 </td>\n",
       "   <td style=\"text-align:right;\"> 2 </td>\n",
       "   <td style=\"text-align:right;\"> A </td>\n",
       "  </tr>\n",
       "  <tr>\n",
       "   <td style=\"text-align:right;\"> 15 </td>\n",
       "   <td style=\"text-align:right;\"> 1 </td>\n",
       "   <td style=\"text-align:right;\"> B </td>\n",
       "  </tr>\n",
       "  <tr>\n",
       "   <td style=\"text-align:right;\"> 13 </td>\n",
       "   <td style=\"text-align:right;\"> 1 </td>\n",
       "   <td style=\"text-align:right;\"> B </td>\n",
       "  </tr>\n",
       "</tbody>\n",
       "</table></td><td style=\"background-color:white; vertical-align:top; padding-right:40px;\"><table>\n",
       "<caption><center><font color=\"black\"><b>prob_info.right</b></font></center></caption>\n",
       " <thead>\n",
       "  <tr>\n",
       "   <th style=\"text-align:right;background-color: #FFFFFF !important;\"> class </th>\n",
       "   <th style=\"text-align:right;background-color: #FFFFFF !important;\"> prob </th>\n",
       "  </tr>\n",
       " </thead>\n",
       "<tbody>\n",
       "  <tr>\n",
       "   <td style=\"text-align:right;\"> A </td>\n",
       "   <td style=\"text-align:right;\"> 0.5 </td>\n",
       "  </tr>\n",
       "  <tr>\n",
       "   <td style=\"text-align:right;\"> B </td>\n",
       "   <td style=\"text-align:right;\"> 0.5 </td>\n",
       "  </tr>\n",
       "</tbody>\n",
       "</table></td><td style=\"background-color:white; vertical-align:top;\"><table>\n",
       "<caption><center><font color=\"black\"><b>entropy_info.right</b></font></center></caption>\n",
       " <thead>\n",
       "  <tr>\n",
       "   <th style=\"text-align:right;background-color: #FFFFFF !important;\"> entropy </th>\n",
       "   <th style=\"text-align:right;background-color: #FFFFFF !important;\"> weight </th>\n",
       "  </tr>\n",
       " </thead>\n",
       "<tbody>\n",
       "  <tr>\n",
       "   <td style=\"text-align:right;\"> 1 </td>\n",
       "   <td style=\"text-align:right;\"> 0.6 </td>\n",
       "  </tr>\n",
       "</tbody>\n",
       "</table></td></tr></table>"
      ]
     },
     "metadata": {},
     "output_type": "display_data"
    }
   ],
   "source": [
    "split_variable = \"x1\"\n",
    "split_value = 7.5\n",
    "\n",
    "data.left  = data[data[, split_variable] <   split_value,]\n",
    "data.right = data[data[, split_variable] >=  split_value,]\n",
    "\n",
    "prob_info.left  = data.frame(table(data.left$class));  names(prob_info.left)  = c(\"class\", \"prob\"); prob_info.left$prob  = prob_info.left$prob/sum(prob_info.left$prob)\n",
    "prob_info.right = data.frame(table(data.right$class)); names(prob_info.right) = c(\"class\", \"prob\"); prob_info.right$prob = prob_info.right$prob/sum(prob_info.right$prob)\n",
    "\n",
    "entropy.left  = entropy(table(data.left$class),  unit=\"log2\")\n",
    "entropy.right = entropy(table(data.right$class), unit=\"log2\")\n",
    "weight.left = nrow(data.left) / (nrow(data.left) + nrow(data.right))\n",
    "weight.right = nrow(data.right) / (nrow(data.left) + nrow(data.right))\n",
    "\n",
    "entropy_info.left  = data.frame(entropy=entropy.left,  weight=weight.left)\n",
    "entropy_info.right = data.frame(entropy=entropy.right, weight=weight.right)\n",
    "\n",
    "entropy.children = weight.left*entropy.left + weight.right*entropy.right\n",
    "\n",
    "info_gain_x1_7.5 = entropy.root - entropy.children\n",
    "\n",
    "data.frame(split_variable, split_value, entropy.root, entropy.children, info_gain=info_gain_x1_7.5)\n",
    "layout(fmt(data.left), fmt(prob_info.left), fmt(entropy_info.left),\n",
    "       fmt(data.right), fmt(prob_info.right), fmt(entropy_info.right),\n",
    "       nrow=2)"
   ]
  },
  {
   "cell_type": "markdown",
   "metadata": {},
   "source": [
    "A split at x2=4.5 would result in weighted average entropy 0.97 and information gain 0.0058."
   ]
  },
  {
   "cell_type": "code",
   "execution_count": 13,
   "metadata": {
    "hide_input": true
   },
   "outputs": [
    {
     "data": {
      "text/html": [
       "<table>\n",
       "<thead><tr><th scope=col>split_variable</th><th scope=col>split_value</th><th scope=col>entropy.root</th><th scope=col>entropy.children</th><th scope=col>info_gain</th></tr></thead>\n",
       "<tbody>\n",
       "\t<tr><td>x2         </td><td>4.5        </td><td>0.9709506  </td><td>0.9651484  </td><td>0.005802149</td></tr>\n",
       "</tbody>\n",
       "</table>\n"
      ],
      "text/latex": [
       "\\begin{tabular}{r|lllll}\n",
       " split\\_variable & split\\_value & entropy.root & entropy.children & info\\_gain\\\\\n",
       "\\hline\n",
       "\t x2          & 4.5         & 0.9709506   & 0.9651484   & 0.005802149\\\\\n",
       "\\end{tabular}\n"
      ],
      "text/markdown": [
       "\n",
       "| split_variable | split_value | entropy.root | entropy.children | info_gain |\n",
       "|---|---|---|---|---|\n",
       "| x2          | 4.5         | 0.9709506   | 0.9651484   | 0.005802149 |\n",
       "\n"
      ],
      "text/plain": [
       "  split_variable split_value entropy.root entropy.children info_gain  \n",
       "1 x2             4.5         0.9709506    0.9651484        0.005802149"
      ]
     },
     "metadata": {},
     "output_type": "display_data"
    },
    {
     "data": {
      "text/html": [
       "<table><tr><td style=\"background-color:white; vertical-align:top; padding-right:40px;\"><table>\n",
       "<caption><center><font color=\"black\"><b>data.left</b></font></center></caption>\n",
       " <thead>\n",
       "  <tr>\n",
       "   <th style=\"text-align:right;background-color: #FFFFFF !important;\"> x1 </th>\n",
       "   <th style=\"text-align:right;background-color: #FFFFFF !important;\"> x2 </th>\n",
       "   <th style=\"text-align:right;background-color: #FFFFFF !important;\"> class </th>\n",
       "  </tr>\n",
       " </thead>\n",
       "<tbody>\n",
       "  <tr>\n",
       "   <td style=\"text-align:right;\"> 1 </td>\n",
       "   <td style=\"text-align:right;\"> 2 </td>\n",
       "   <td style=\"text-align:right;\"> A </td>\n",
       "  </tr>\n",
       "  <tr>\n",
       "   <td style=\"text-align:right;\"> 6 </td>\n",
       "   <td style=\"text-align:right;\"> 4 </td>\n",
       "   <td style=\"text-align:right;\"> A </td>\n",
       "  </tr>\n",
       "  <tr>\n",
       "   <td style=\"text-align:right;\"> 8 </td>\n",
       "   <td style=\"text-align:right;\"> 1 </td>\n",
       "   <td style=\"text-align:right;\"> A </td>\n",
       "  </tr>\n",
       "  <tr>\n",
       "   <td style=\"text-align:right;\"> 11 </td>\n",
       "   <td style=\"text-align:right;\"> 2 </td>\n",
       "   <td style=\"text-align:right;\"> B </td>\n",
       "  </tr>\n",
       "  <tr>\n",
       "   <td style=\"text-align:right;\"> 14 </td>\n",
       "   <td style=\"text-align:right;\"> 2 </td>\n",
       "   <td style=\"text-align:right;\"> A </td>\n",
       "  </tr>\n",
       "  <tr>\n",
       "   <td style=\"text-align:right;\"> 15 </td>\n",
       "   <td style=\"text-align:right;\"> 1 </td>\n",
       "   <td style=\"text-align:right;\"> B </td>\n",
       "  </tr>\n",
       "  <tr>\n",
       "   <td style=\"text-align:right;\"> 13 </td>\n",
       "   <td style=\"text-align:right;\"> 1 </td>\n",
       "   <td style=\"text-align:right;\"> B </td>\n",
       "  </tr>\n",
       "</tbody>\n",
       "</table></td><td style=\"background-color:white; vertical-align:top; padding-right:40px;\"><table>\n",
       "<caption><center><font color=\"black\"><b>prob_info.left</b></font></center></caption>\n",
       " <thead>\n",
       "  <tr>\n",
       "   <th style=\"text-align:right;background-color: #FFFFFF !important;\"> class </th>\n",
       "   <th style=\"text-align:right;background-color: #FFFFFF !important;\"> prob </th>\n",
       "  </tr>\n",
       " </thead>\n",
       "<tbody>\n",
       "  <tr>\n",
       "   <td style=\"text-align:right;\"> A </td>\n",
       "   <td style=\"text-align:right;\"> 0.5714286 </td>\n",
       "  </tr>\n",
       "  <tr>\n",
       "   <td style=\"text-align:right;\"> B </td>\n",
       "   <td style=\"text-align:right;\"> 0.4285714 </td>\n",
       "  </tr>\n",
       "</tbody>\n",
       "</table></td><td style=\"background-color:white; vertical-align:top;\"><table>\n",
       "<caption><center><font color=\"black\"><b>entropy_info.left</b></font></center></caption>\n",
       " <thead>\n",
       "  <tr>\n",
       "   <th style=\"text-align:right;background-color: #FFFFFF !important;\"> entropy </th>\n",
       "   <th style=\"text-align:right;background-color: #FFFFFF !important;\"> weight </th>\n",
       "  </tr>\n",
       " </thead>\n",
       "<tbody>\n",
       "  <tr>\n",
       "   <td style=\"text-align:right;\"> 0.9852281 </td>\n",
       "   <td style=\"text-align:right;\"> 0.7 </td>\n",
       "  </tr>\n",
       "</tbody>\n",
       "</table></td></tr><tr><td style=\"background-color:white; vertical-align:top; padding-right:40px;\"><table>\n",
       "<caption><center><font color=\"black\"><b>data.right</b></font></center></caption>\n",
       " <thead>\n",
       "  <tr>\n",
       "   <th style=\"text-align:right;background-color: #FFFFFF !important;\"> x1 </th>\n",
       "   <th style=\"text-align:right;background-color: #FFFFFF !important;\"> x2 </th>\n",
       "   <th style=\"text-align:right;background-color: #FFFFFF !important;\"> class </th>\n",
       "  </tr>\n",
       " </thead>\n",
       "<tbody>\n",
       "  <tr>\n",
       "   <td style=\"text-align:right;\"> 2 </td>\n",
       "   <td style=\"text-align:right;\"> 5 </td>\n",
       "   <td style=\"text-align:right;\"> B </td>\n",
       "  </tr>\n",
       "  <tr>\n",
       "   <td style=\"text-align:right;\"> 7 </td>\n",
       "   <td style=\"text-align:right;\"> 5 </td>\n",
       "   <td style=\"text-align:right;\"> A </td>\n",
       "  </tr>\n",
       "  <tr>\n",
       "   <td style=\"text-align:right;\"> 12 </td>\n",
       "   <td style=\"text-align:right;\"> 5 </td>\n",
       "   <td style=\"text-align:right;\"> A </td>\n",
       "  </tr>\n",
       "</tbody>\n",
       "</table></td><td style=\"background-color:white; vertical-align:top; padding-right:40px;\"><table>\n",
       "<caption><center><font color=\"black\"><b>prob_info.right</b></font></center></caption>\n",
       " <thead>\n",
       "  <tr>\n",
       "   <th style=\"text-align:right;background-color: #FFFFFF !important;\"> class </th>\n",
       "   <th style=\"text-align:right;background-color: #FFFFFF !important;\"> prob </th>\n",
       "  </tr>\n",
       " </thead>\n",
       "<tbody>\n",
       "  <tr>\n",
       "   <td style=\"text-align:right;\"> A </td>\n",
       "   <td style=\"text-align:right;\"> 0.6666667 </td>\n",
       "  </tr>\n",
       "  <tr>\n",
       "   <td style=\"text-align:right;\"> B </td>\n",
       "   <td style=\"text-align:right;\"> 0.3333333 </td>\n",
       "  </tr>\n",
       "</tbody>\n",
       "</table></td><td style=\"background-color:white; vertical-align:top;\"><table>\n",
       "<caption><center><font color=\"black\"><b>entropy_info.right</b></font></center></caption>\n",
       " <thead>\n",
       "  <tr>\n",
       "   <th style=\"text-align:right;background-color: #FFFFFF !important;\"> entropy </th>\n",
       "   <th style=\"text-align:right;background-color: #FFFFFF !important;\"> weight </th>\n",
       "  </tr>\n",
       " </thead>\n",
       "<tbody>\n",
       "  <tr>\n",
       "   <td style=\"text-align:right;\"> 0.9182958 </td>\n",
       "   <td style=\"text-align:right;\"> 0.3 </td>\n",
       "  </tr>\n",
       "</tbody>\n",
       "</table></td></tr></table>"
      ]
     },
     "metadata": {},
     "output_type": "display_data"
    }
   ],
   "source": [
    "split_variable = \"x2\"\n",
    "split_value = 4.5\n",
    "\n",
    "data.left  = data[data[, split_variable] <   split_value,]\n",
    "data.right = data[data[, split_variable] >=  split_value,]\n",
    "\n",
    "prob_info.left  = data.frame(table(data.left$class));  names(prob_info.left)  = c(\"class\", \"prob\"); prob_info.left$prob  = prob_info.left$prob/sum(prob_info.left$prob)\n",
    "prob_info.right = data.frame(table(data.right$class)); names(prob_info.right) = c(\"class\", \"prob\"); prob_info.right$prob = prob_info.right$prob/sum(prob_info.right$prob)\n",
    "\n",
    "entropy.left  = entropy(table(data.left$class),  unit=\"log2\")\n",
    "entropy.right = entropy(table(data.right$class), unit=\"log2\")\n",
    "weight.left = nrow(data.left) / (nrow(data.left) + nrow(data.right))\n",
    "weight.right = nrow(data.right) / (nrow(data.left) + nrow(data.right))\n",
    "\n",
    "entropy_info.left  = data.frame(entropy=entropy.left,  weight=weight.left)\n",
    "entropy_info.right = data.frame(entropy=entropy.right, weight=weight.right)\n",
    "\n",
    "entropy.children = weight.left*entropy.left + weight.right*entropy.right\n",
    "\n",
    "info_gain_x2_4.5 = entropy.root - entropy.children\n",
    "\n",
    "data.frame(split_variable, split_value, entropy.root, entropy.children, info_gain=info_gain_x2_4.5)\n",
    "layout(fmt(data.left), fmt(prob_info.left), fmt(entropy_info.left),\n",
    "       fmt(data.right), fmt(prob_info.right), fmt(entropy_info.right),\n",
    "       nrow=2)"
   ]
  },
  {
   "cell_type": "markdown",
   "metadata": {},
   "source": [
    "The best split criterion among these 3 candidates and all other candidates is x1 < 9.5 because its associated information gain 0.12 is largest."
   ]
  },
  {
   "cell_type": "code",
   "execution_count": 14,
   "metadata": {
    "hide_input": true
   },
   "outputs": [
    {
     "data": {
      "text/html": [
       "<table>\n",
       "<caption><center><font color=\"black\"><b>information gain</b></font></center></caption>\n",
       " <thead>\n",
       "  <tr>\n",
       "   <th style=\"text-align:right;background-color: #FFFFFF !important;\"> x1_9.5 </th>\n",
       "   <th style=\"text-align:right;background-color: #FFFFFF !important;\"> x1_7.5 </th>\n",
       "   <th style=\"text-align:right;background-color: #FFFFFF !important;\"> x2_4.5 </th>\n",
       "   <th style=\"text-align:right;background-color: #FFFFFF !important;\"> others </th>\n",
       "  </tr>\n",
       " </thead>\n",
       "<tbody>\n",
       "  <tr>\n",
       "   <td style=\"text-align:right;\"> 0.1245112 </td>\n",
       "   <td style=\"text-align:right;\"> 0.0464393 </td>\n",
       "   <td style=\"text-align:right;\"> 0.0058021 </td>\n",
       "   <td style=\"text-align:right;\"> some values </td>\n",
       "  </tr>\n",
       "</tbody>\n",
       "</table>"
      ]
     },
     "metadata": {},
     "output_type": "display_data"
    }
   ],
   "source": [
    "fmt(data.frame(x1_9.5=info_gain_x1_9.5, x1_7.5=info_gain_x1_7.5, x2_4.5=info_gain_x2_4.5, others=\"some values\"), \"information gain\")"
   ]
  },
  {
   "cell_type": "markdown",
   "metadata": {},
   "source": [
    "We pick split criteria for the subsequent splits similarly."
   ]
  },
  {
   "cell_type": "markdown",
   "metadata": {},
   "source": [
    "## Pruning"
   ]
  },
  {
   "cell_type": "markdown",
   "metadata": {},
   "source": [
    "A decision tree model constructed by fully recursively splitting as much as possible tends to overfit.  To address this problem, you can restrict splitting - effectively pruning some branches off the tree - leaving terminal splits that comprise not single classes, but rather multiple classes. There are many popular pruning methods."
   ]
  },
  {
   "cell_type": "markdown",
   "metadata": {},
   "source": [
    "### Pruning by Maximum Depth\n",
    "\n",
    "In this example, we split only as far as a specified maximum depth 2."
   ]
  },
  {
   "cell_type": "code",
   "execution_count": 15,
   "metadata": {
    "hide_input": true
   },
   "outputs": [
    {
     "data": {
      "text/plain": [
       "n= 10 \n",
       "\n",
       "node), split, n, loss, yval, (yprob)\n",
       "      * denotes terminal node\n",
       "\n",
       "1) root 10 4 A (0.6000000 0.4000000)  \n",
       "  2) x1< 9.5 5 1 A (0.8000000 0.2000000) *\n",
       "  3) x1>=9.5 5 2 B (0.4000000 0.6000000)  \n",
       "    6) x2>=1.5 3 1 A (0.6666667 0.3333333) *\n",
       "    7) x2< 1.5 2 0 B (0.0000000 1.0000000) *"
      ]
     },
     "metadata": {},
     "output_type": "display_data"
    },
    {
     "data": {
      "image/png": "[encoded data removed]",
      "text/plain": [
       "plot without title"
      ]
     },
     "metadata": {},
     "output_type": "display_data"
    }
   ],
   "source": [
    "model = rpart(class ~ x1+x2, data, method=\"class\", minsplit=2, cp=0, maxdepth=2)\n",
    "\n",
    "model\n",
    "ggtree(model)"
   ]
  },
  {
   "cell_type": "markdown",
   "metadata": {},
   "source": [
    "### Pruning by Maximum Complexity\n",
    "\n",
    "In this example, we split only if the resultant model with splits improves performance by more than 20%. "
   ]
  },
  {
   "cell_type": "code",
   "execution_count": 16,
   "metadata": {
    "hide_input": true,
    "scrolled": false
   },
   "outputs": [
    {
     "data": {
      "text/plain": [
       "n= 10 \n",
       "\n",
       "node), split, n, loss, yval, (yprob)\n",
       "      * denotes terminal node\n",
       "\n",
       " 1) root 10 4 A (0.6000000 0.4000000)  \n",
       "   2) x1< 9.5 5 1 A (0.8000000 0.2000000) *\n",
       "   3) x1>=9.5 5 2 B (0.4000000 0.6000000)  \n",
       "     6) x2>=1.5 3 1 A (0.6666667 0.3333333)  \n",
       "      12) x1>=11.5 2 0 A (1.0000000 0.0000000) *\n",
       "      13) x1< 11.5 1 0 B (0.0000000 1.0000000) *\n",
       "     7) x2< 1.5 2 0 B (0.0000000 1.0000000) *"
      ]
     },
     "metadata": {},
     "output_type": "display_data"
    },
    {
     "data": {
      "image/png": "[encoded data removed]",
      "text/plain": [
       "plot without title"
      ]
     },
     "metadata": {},
     "output_type": "display_data"
    }
   ],
   "source": [
    "model = rpart(class ~ x1+x2, data, method=\"class\", minsplit=2, cp=0.2, maxdepth=30)\n",
    "\n",
    "model\n",
    "ggtree(model)"
   ]
  },
  {
   "cell_type": "markdown",
   "metadata": {},
   "source": [
    "### Pruning by Minimum Split Size\n",
    "\n",
    "In this example, we split only if the dataset (or split) comprises at least 4 observations."
   ]
  },
  {
   "cell_type": "code",
   "execution_count": 17,
   "metadata": {
    "hide_input": true
   },
   "outputs": [
    {
     "data": {
      "text/plain": [
       "n= 10 \n",
       "\n",
       "node), split, n, loss, yval, (yprob)\n",
       "      * denotes terminal node\n",
       "\n",
       "1) root 10 4 A (0.6000000 0.4000000)  \n",
       "  2) x1< 9.5 5 1 A (0.8000000 0.2000000) *\n",
       "  3) x1>=9.5 5 2 B (0.4000000 0.6000000)  \n",
       "    6) x2>=1.5 3 1 A (0.6666667 0.3333333) *\n",
       "    7) x2< 1.5 2 0 B (0.0000000 1.0000000) *"
      ]
     },
     "metadata": {},
     "output_type": "display_data"
    },
    {
     "data": {
      "image/png": "[encoded data removed]",
      "text/plain": [
       "plot without title"
      ]
     },
     "metadata": {},
     "output_type": "display_data"
    }
   ],
   "source": [
    "model = rpart(class ~ x1+x2, data, method=\"class\", minsplit=4, cp=0, maxdepth=30)\n",
    "\n",
    "model\n",
    "ggtree(model)"
   ]
  },
  {
   "cell_type": "markdown",
   "metadata": {},
   "source": [
    "### Pruning by Minimum Number of Observations per Leaf Node\n",
    "\n",
    "In this observation, we split only if it does not result in a leaf node comprising fewer than 3 observations."
   ]
  },
  {
   "cell_type": "code",
   "execution_count": 18,
   "metadata": {
    "hide_input": true
   },
   "outputs": [
    {
     "data": {
      "text/plain": [
       "n= 10 \n",
       "\n",
       "node), split, n, loss, yval, (yprob)\n",
       "      * denotes terminal node\n",
       "\n",
       "1) root 10 4 A (0.6000000 0.4000000)  \n",
       "  2) x1< 9.5 5 1 A (0.8000000 0.2000000) *\n",
       "  3) x1>=9.5 5 2 B (0.4000000 0.6000000) *"
      ]
     },
     "metadata": {},
     "output_type": "display_data"
    },
    {
     "data": {
      "image/png": "[encoded data removed]",
      "text/plain": [
       "plot without title"
      ]
     },
     "metadata": {},
     "output_type": "display_data"
    }
   ],
   "source": [
    "model = rpart(class ~ x1+x2, data, method=\"class\", minsplit=2, cp=0, maxdepth=30, minbucket=3)\n",
    "\n",
    "model\n",
    "ggtree(model)"
   ]
  },
  {
   "cell_type": "markdown",
   "metadata": {},
   "source": [
    "### Pruning by Minimum Information Gain"
   ]
  },
  {
   "cell_type": "markdown",
   "metadata": {},
   "source": [
    "You can split only if information gain exceeds a specified threshold."
   ]
  },
  {
   "cell_type": "markdown",
   "metadata": {},
   "source": [
    "## Code"
   ]
  },
  {
   "cell_type": "markdown",
   "metadata": {},
   "source": [
    "### Useful Functions"
   ]
  },
  {
   "cell_type": "code",
   "execution_count": 19,
   "metadata": {},
   "outputs": [],
   "source": [
    "# help(dendro_data, package=\"ggdendro\")\n",
    "# help(rpart, package=\"rpart\")\n",
    "# help(predict.rpart, package=rpart) # use predict to call this function "
   ]
  },
  {
   "cell_type": "markdown",
   "metadata": {},
   "source": [
    "### Templates"
   ]
  },
  {
   "cell_type": "code",
   "execution_count": 20,
   "metadata": {
    "scrolled": false
   },
   "outputs": [
    {
     "data": {
      "text/plain": [
       "n= 24 \n",
       "\n",
       "node), split, n, loss, yval, (yprob)\n",
       "      * denotes terminal node\n",
       "\n",
       " 1) root 24 9 B (0.3750000 0.6250000)  \n",
       "   2) x2< 7.5 15 6 A (0.6000000 0.4000000)  \n",
       "     4) x1>=2.5 13 4 A (0.6923077 0.3076923)  \n",
       "       8) x1< 5.5 6 0 A (1.0000000 0.0000000) *\n",
       "       9) x1>=5.5 7 3 B (0.4285714 0.5714286)  \n",
       "        18) x2>=6.5 2 0 A (1.0000000 0.0000000) *\n",
       "        19) x2< 6.5 5 1 B (0.2000000 0.8000000)  \n",
       "          38) x1>=29 1 0 A (1.0000000 0.0000000) *\n",
       "          39) x1< 29 4 0 B (0.0000000 1.0000000) *\n",
       "     5) x1< 2.5 2 0 B (0.0000000 1.0000000) *\n",
       "   3) x2>=7.5 9 0 B (0.0000000 1.0000000) *"
      ]
     },
     "metadata": {},
     "output_type": "display_data"
    },
    {
     "data": {
      "image/png": "[encoded data removed]",
      "text/plain": [
       "plot without title"
      ]
     },
     "metadata": {},
     "output_type": "display_data"
    }
   ],
   "source": [
    "data.train = data.frame(x1=c(10,2,31,4,10,6,7,8,10,2,3,4,5,6,7,8,10,2,3,42,5,16,7,8), x2=c(10,21,31,4,5,6,7,8,9,7,6,5,4,13,2,10,10,2,3,4,5,6,7,81), x3=c(5,4,13,2,10,10,2,3,5,4,13,2,1,1,2,3,1,1,2,20,3,3,4,4), class=c(\"B\", \"B\", \"B\", \"A\", \"B\", \"B\", \"A\", \"B\", \"B\", \"B\", \"A\", \"A\", \"A\", \"B\", \"B\", \"B\", \"B\", \"B\", \"A\", \"A\", \"A\", \"B\", \"A\", \"B\"))\n",
    "\n",
    "mymodel = rpart(class ~ x1+x2+x3, data.train, method=\"class\", minsplit=2, cp=0, maxdepth=30)\n",
    "\n",
    "mymodel\n",
    "ggtree(mymodel)"
   ]
  },
  {
   "cell_type": "code",
   "execution_count": 21,
   "metadata": {
    "scrolled": false
   },
   "outputs": [
    {
     "data": {
      "text/html": [
       "<table>\n",
       "<caption><center><font color=\"black\"><b>prob</b></font></center></caption>\n",
       " <thead>\n",
       "  <tr>\n",
       "   <th style=\"text-align:right;background-color: #FFFFFF !important;\"> A </th>\n",
       "   <th style=\"text-align:right;background-color: #FFFFFF !important;\"> B </th>\n",
       "  </tr>\n",
       " </thead>\n",
       "<tbody>\n",
       "  <tr>\n",
       "   <td style=\"text-align:right;\"> 0 </td>\n",
       "   <td style=\"text-align:right;\"> 1 </td>\n",
       "  </tr>\n",
       "  <tr>\n",
       "   <td style=\"text-align:right;\"> 1 </td>\n",
       "   <td style=\"text-align:right;\"> 0 </td>\n",
       "  </tr>\n",
       "  <tr>\n",
       "   <td style=\"text-align:right;\"> 0 </td>\n",
       "   <td style=\"text-align:right;\"> 1 </td>\n",
       "  </tr>\n",
       "  <tr>\n",
       "   <td style=\"text-align:right;\"> 0 </td>\n",
       "   <td style=\"text-align:right;\"> 1 </td>\n",
       "  </tr>\n",
       "</tbody>\n",
       "</table>"
      ]
     },
     "metadata": {},
     "output_type": "display_data"
    },
    {
     "data": {
      "text/html": [
       "<table>\n",
       " <thead>\n",
       "  <tr>\n",
       "   <th style=\"text-align:right;background-color: #FFFFFF !important;\"> prediction </th>\n",
       "  </tr>\n",
       " </thead>\n",
       "<tbody>\n",
       "  <tr>\n",
       "   <td style=\"text-align:right;\"> B </td>\n",
       "  </tr>\n",
       "  <tr>\n",
       "   <td style=\"text-align:right;\"> A </td>\n",
       "  </tr>\n",
       "  <tr>\n",
       "   <td style=\"text-align:right;\"> B </td>\n",
       "  </tr>\n",
       "  <tr>\n",
       "   <td style=\"text-align:right;\"> B </td>\n",
       "  </tr>\n",
       "</tbody>\n",
       "</table>"
      ]
     },
     "metadata": {},
     "output_type": "display_data"
    },
    {
     "data": {
      "text/html": [
       "<table>\n",
       "<thead><tr><th scope=col>x1</th><th scope=col>x2</th><th scope=col>x3</th><th scope=col>prediction</th></tr></thead>\n",
       "<tbody>\n",
       "\t<tr><td>5</td><td>8</td><td>1</td><td>B</td></tr>\n",
       "\t<tr><td>3</td><td>7</td><td>5</td><td>A</td></tr>\n",
       "\t<tr><td>7</td><td>4</td><td>2</td><td>B</td></tr>\n",
       "\t<tr><td>8</td><td>4</td><td>6</td><td>B</td></tr>\n",
       "</tbody>\n",
       "</table>\n"
      ],
      "text/latex": [
       "\\begin{tabular}{r|llll}\n",
       " x1 & x2 & x3 & prediction\\\\\n",
       "\\hline\n",
       "\t 5 & 8 & 1 & B\\\\\n",
       "\t 3 & 7 & 5 & A\\\\\n",
       "\t 7 & 4 & 2 & B\\\\\n",
       "\t 8 & 4 & 6 & B\\\\\n",
       "\\end{tabular}\n"
      ],
      "text/markdown": [
       "\n",
       "| x1 | x2 | x3 | prediction |\n",
       "|---|---|---|---|\n",
       "| 5 | 8 | 1 | B |\n",
       "| 3 | 7 | 5 | A |\n",
       "| 7 | 4 | 2 | B |\n",
       "| 8 | 4 | 6 | B |\n",
       "\n"
      ],
      "text/plain": [
       "  x1 x2 x3 prediction\n",
       "1 5  8  1  B         \n",
       "2 3  7  5  A         \n",
       "3 7  4  2  B         \n",
       "4 8  4  6  B         "
      ]
     },
     "metadata": {},
     "output_type": "display_data"
    }
   ],
   "source": [
    "data.train = data.frame(x1=c(10,2,31,4,10,6,7,8,10,2,3,4,5,6,7,8,10,2,3,42,5,16,7,8), x2=c(10,21,31,4,5,6,7,8,9,7,6,5,4,13,2,10,10,2,3,4,5,6,7,81), x3=c(5,4,13,2,10,10,2,3,5,4,13,2,1,1,2,3,1,1,2,20,3,3,4,4), class=c(\"B\", \"B\", \"B\", \"A\", \"B\", \"B\", \"A\", \"B\", \"B\", \"B\", \"A\", \"A\", \"A\", \"B\", \"B\", \"B\", \"B\", \"B\", \"A\", \"A\", \"A\", \"B\", \"A\", \"B\"))\n",
    "data.new = data.frame(x1=c(5,3,7,8), x2=c(8,7,4,4), x3=c(1,5,2,6))\n",
    "cutoff = 0.6\n",
    "\n",
    "mymodel = rpart(class ~ x1+x2+x3, data.train, method=\"class\", minsplit=2, cp=0, maxdepth=30)\n",
    "\n",
    "prob = predict(mymodel, data.new, type=\"prob\")\n",
    "prediction = as.class(prob, class=\"A\", cutoff) # based on probability that exceeds cutoff\n",
    "\n",
    "fmt(prob)\n",
    "fmt(prediction)\n",
    "cbind(data.new, prediction)"
   ]
  },
  {
   "cell_type": "markdown",
   "metadata": {},
   "source": [
    "### Expectations\n",
    "\n",
    "Know about this:\n",
    "* how to build a decision tree model based on classified data, and use it to predict the classes of new observations, using R's `rpart` and `predict` functions"
   ]
  },
  {
   "cell_type": "markdown",
   "metadata": {},
   "source": [
    "\n",
    "### Further Reading\n",
    "\n",
    "* https://www.rdocumentation.org/packages/rpart/versions/4.1-12/topics/rpart\n",
    "* https://cran.r-project.org/web/packages/ggdendro/vignettes/ggdendro.html\n",
    "* https://www.rdocumentation.org/packages/kknn/versions/1.3.1/topics/kknn\n",
    "* https://www.statmethods.net/advstats/cart.html\n",
    "* https://www.statmethods.net/advstats/glm.html"
   ]
  },
  {
   "cell_type": "markdown",
   "metadata": {},
   "source": [
    "<p style=\"text-align:left; font-size:10px;\">\n",
    "Copyright (c) Berkeley Data Analytics Group, LLC\n",
    "<span style=\"float:right;\">\n",
    "Document revised July 17, 2020\n",
    "</span>\n",
    "</p>"
   ]
  }
 ],
 "metadata": {
  "hide_code_all_hidden": false,
  "hide_input": false,
  "kernelspec": {
   "display_name": "R",
   "language": "R",
   "name": "ir"
  },
  "language_info": {
   "codemirror_mode": "r",
   "file_extension": ".r",
   "mimetype": "text/x-r-source",
   "name": "R",
   "pygments_lexer": "r",
   "version": "3.6.1"
  },
  "toc": {
   "base_numbering": 1,
   "nav_menu": {},
   "number_sections": true,
   "sideBar": true,
   "skip_h1_title": true,
   "title_cell": "Table of Contents",
   "title_sidebar": "Contents",
   "toc_cell": false,
   "toc_position": {},
   "toc_section_display": true,
   "toc_window_display": false
  }
 },
 "nbformat": 4,
 "nbformat_minor": 2
}
