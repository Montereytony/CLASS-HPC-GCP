{
 "cells": [
  {
   "cell_type": "markdown",
   "metadata": {
    "hideCode": false,
    "hidePrompt": false
   },
   "source": [
    "# Classification by Perceptron\n",
    "\n",
    "![](banner_perceptron.jpg)"
   ]
  },
  {
   "cell_type": "code",
   "execution_count": 1,
   "metadata": {
    "hide_input": true
   },
   "outputs": [
    {
     "data": {
      "text/html": [
       "== document setup =="
      ]
     },
     "metadata": {},
     "output_type": "display_data"
    }
   ],
   "source": [
    "f = \"setup.R\"; for (i in 1:10) { if (file.exists(f)) break else f = paste0(\"../\", f) }; source(f)\n",
    "\n",
    "options(digits=10, scipen=100) # expose many digits, use scientific notation sparingly\n",
    "update_geom_defaults(\"point\", list(size=3, colour=\"grey50\"))\n",
    "update_geom_defaults(\"path\", list(color=\"black\"))"
   ]
  },
  {
   "cell_type": "markdown",
   "metadata": {},
   "source": [
    "## Introduction"
   ]
  },
  {
   "cell_type": "markdown",
   "metadata": {},
   "source": [
    "## Synopsis"
   ]
  },
  {
   "cell_type": "markdown",
   "metadata": {},
   "source": [
    "**Terms**\n",
    "\n",
    "* **Perceptron or Perceptron Model:** a 1-layer neural network\n",
    "* **Perceptron Method:** a specific method to find weights for a perceptron model"
   ]
  },
  {
   "cell_type": "markdown",
   "metadata": {},
   "source": [
    "## Exposition"
   ]
  },
  {
   "cell_type": "markdown",
   "metadata": {},
   "source": [
    "### Perceptron Model"
   ]
  },
  {
   "cell_type": "markdown",
   "metadata": {},
   "source": [
    "#### Form\n",
    "\n",
    "A perceptron is a special type of model inspired by biological neural networks.  It comprises ...\n",
    "* Input nodes\n",
    "* Output node\n",
    "* Connections (between input and output nodes)\n",
    "* Weights (one weight on each connection)\n",
    "* Activation function (on output nodes, to rescale values to make them interpretable as probabilities)"
   ]
  },
  {
   "cell_type": "code",
   "execution_count": 2,
   "metadata": {
    "hide_input": true,
    "scrolled": false
   },
   "outputs": [
    {
     "data": {
      "text/html": [
       "<table>\n",
       "<caption><center><font color=\"black\"><b>weights</b></font></center></caption>\n",
       " <thead>\n",
       "  <tr>\n",
       "   <th style=\"text-align:left;\">   </th>\n",
       "   <th style=\"text-align:right;\"> to_output </th>\n",
       "  </tr>\n",
       " </thead>\n",
       "<tbody>\n",
       "  <tr>\n",
       "   <td style=\"text-align:left;\">  </td>\n",
       "   <td style=\"text-align:right;\"> 0.5205288178 </td>\n",
       "  </tr>\n",
       "  <tr>\n",
       "   <td style=\"text-align:left;\"> from_input_x1 </td>\n",
       "   <td style=\"text-align:right;\"> 0.6444660175 </td>\n",
       "  </tr>\n",
       "  <tr>\n",
       "   <td style=\"text-align:left;\"> from_input_x2 </td>\n",
       "   <td style=\"text-align:right;\"> -0.1743033147 </td>\n",
       "  </tr>\n",
       "</tbody>\n",
       "</table>"
      ]
     },
     "metadata": {},
     "output_type": "display_data"
    },
    {
     "data": {
      "image/png": "[encoded data removed]",
      "text/plain": [
       "plot without title"
      ]
     },
     "metadata": {},
     "output_type": "display_data"
    }
   ],
   "source": [
    "set.seed(12345)\n",
    "\n",
    "ann = data.frame(input_x1=1, input_x2=1, output=1)\n",
    "model = neuralnet(output ~ input_x1+input_x2, ann, hidden=0)\n",
    "\n",
    "d = as.data.frame(model$weights[[1]][[1]]); names(d) = \"to_output\"; rownames(d) = c(\"\",\"from_input_x1\", \"from_input_x2\")\n",
    "d %>% caption(\"weights\", row.names=TRUE)\n",
    "\n",
    "output_size(4,4)\n",
    "plot(model, rep=1, fill=\"gray\", show.weights=TRUE, information=FALSE, arrow.length=0.3, cex=0.7, lwd=0.5)\n",
    "output_size(restore)"
   ]
  },
  {
   "cell_type": "markdown",
   "metadata": {},
   "source": [
    "#### Choice of Activation Function"
   ]
  },
  {
   "cell_type": "markdown",
   "metadata": {},
   "source": [
    "Popular choices of activation function include ... \n",
    "* sigmoid function\n",
    "* hyperbolic tangent function"
   ]
  },
  {
   "cell_type": "markdown",
   "metadata": {},
   "source": [
    "**Sigmoid Function**\n",
    "\n",
    "A sigmoid activation function rescales any incoming value into range 0 to 1.  The sigmoid function is also known as the logistic function.\n",
    "\n",
    "sigmoid:  $\\large \\frac{1}{1+{e}^{−x}}$\n",
    "\n",
    "sigmoid range: $0 < sigmoid(x) < 1$, for any $x$"
   ]
  },
  {
   "cell_type": "code",
   "execution_count": 3,
   "metadata": {
    "hide_input": true
   },
   "outputs": [
    {
     "data": {
      "image/png": "[encoded data removed]",
      "text/plain": [
       "plot without title"
      ]
     },
     "metadata": {},
     "output_type": "display_data"
    }
   ],
   "source": [
    "output_size(4,2)\n",
    "ggplot(data.frame(0)) + ggtitle(\"sigmoid function\") + xlab(\"x\") + ylab(\"sigmoid(x)\") + xlim(-10,10) +\n",
    "stat_function(fun=sigmoid)  \n",
    "output_size(restore)"
   ]
  },
  {
   "cell_type": "markdown",
   "metadata": {},
   "source": [
    "**Hyperbolic Tangent Function**\n",
    "\n",
    "A hyperbolic tangent activation function rescales any incoming value into range -1 to 1.\n",
    "\n",
    "tanh:  $\\large \\frac{e^{2x}-1}{e^{2x}+1}$\n",
    "\n",
    "tanh range: $-1 < tanh(x) < 1$, for any $x$"
   ]
  },
  {
   "cell_type": "code",
   "execution_count": 4,
   "metadata": {
    "hide_input": true
   },
   "outputs": [
    {
     "data": {
      "image/png": "[encoded data removed]",
      "text/plain": [
       "plot without title"
      ]
     },
     "metadata": {},
     "output_type": "display_data"
    }
   ],
   "source": [
    "output_size(4,2)\n",
    "ggplot(data.frame(0)) + ggtitle(\"hyperbolic tangent function\") + xlab(\"x\") + ylab(\"tanh(x)\") + xlim(-10,10) +\n",
    "stat_function(fun=tanh)  \n",
    "output_size(restore)"
   ]
  },
  {
   "cell_type": "markdown",
   "metadata": {},
   "source": [
    "#### Computing Weights\n",
    "\n",
    "To compute weights for a perceptron model, apply the perceptron method ...\n",
    "\n",
    "* Perceptron method"
   ]
  },
  {
   "cell_type": "markdown",
   "metadata": {},
   "source": [
    "#### Computing Ouput\n",
    "\n",
    "Compute output as the activation function applied to the weighted sum of inputs.\n",
    "\n",
    "$r = f(w_0 + \\sum{{w_j}{x_j}})$\n",
    "\n",
    "where ...\n",
    "* $r$ is the output of the output\n",
    "* $f$ is the activation function\n",
    "* $w_0$ is an offset value for the output node\n",
    "* $w_j$ is the $j^{th}$ weight for the output node\n",
    "* $x_j$ is the $j^{th}$ input to the output node"
   ]
  },
  {
   "cell_type": "markdown",
   "metadata": {},
   "source": [
    "#### Predicting \n",
    "\n",
    "To classify a new observation ...\n",
    "* Use the new observation as input to the perceptron model\n",
    "* Compute the output\n",
    "* Interpret the output as a probability and combine with a cutoff to predict the new observation's class  "
   ]
  },
  {
   "cell_type": "markdown",
   "metadata": {},
   "source": [
    "### Perceptron Method"
   ]
  },
  {
   "cell_type": "markdown",
   "metadata": {},
   "source": [
    "The preceptron method calculates weights for a perceptron model."
   ]
  },
  {
   "cell_type": "markdown",
   "metadata": {},
   "source": [
    "#### Details of Perceptron Method\n",
    "\n",
    "_**Configure:**_\n",
    "* Choose the activation function to be the sigmoid function.\n",
    "* Choose a cutoff value (in range 0 to 1).\n",
    "\n",
    "_**Initialize:**_\n",
    "* Convert class values to binary (0 or 1).\n",
    "* Assign random weights to connections.\n",
    "\n",
    "_**Iterate:**_ \n",
    "* Do the following many times ...\n",
    "  * Randomly reorder the training data observations.\n",
    "  * For each observation ...\n",
    "    * Compute the output.\n",
    "    * Convert the output to a predicted class (binary) based on the cutoff value.\n",
    "    * Compare the output to the observation's actual class (binary). The difference is the error.\n",
    "    * If the observation's predicted and actual classes do not match, then compute new weights based on the current weights, the error, and the observation.  These new weights become the current weights for computing the next observation's output.\n",
    "\n",
    "_**Result:**_\n",
    "* Set the model weights to be the weights calculated based on the last observation of teh last iteration."
   ]
  },
  {
   "cell_type": "markdown",
   "metadata": {},
   "source": [
    "#### Example Application of Perceptron Method on Linearly Separable Data"
   ]
  },
  {
   "cell_type": "markdown",
   "metadata": {},
   "source": [
    "##### Data\n",
    "\n",
    "Training data are already classified.  New observation is not yet classified.  Note, these data are linearly separable, i.e., you can use a straight line to separate observations by class. "
   ]
  },
  {
   "cell_type": "code",
   "execution_count": 5,
   "metadata": {
    "hideCode": false,
    "hidePrompt": false,
    "hide_input": true,
    "run_control": {
     "marked": false
    }
   },
   "outputs": [
    {
     "data": {
      "image/png": "[encoded data removed]",
      "text/plain": [
       "plot without title"
      ]
     },
     "metadata": {},
     "output_type": "display_data"
    }
   ],
   "source": [
    "data.simple = data.frame(x1=c(3,6,14,15), x2=c(1,2,6,5), class=c(\"A\", \"A\", \"B\", \"B\"))\n",
    "new = data.frame(x1=10, x2=4)\n",
    "\n",
    "ggplot(data.simple) + xlim(0,20) +\n",
    "geom_point(aes(x=x1, y=x2, color=class)) + geom_point(aes(x=x1, y=x2), data=new)"
   ]
  },
  {
   "cell_type": "markdown",
   "metadata": {},
   "source": [
    "##### Configure\n",
    "\n",
    "Here, we choose the configuration to be ...\n",
    "\n",
    "* Activation function: sigmoid\n",
    "* Cutoff for A: 0.5"
   ]
  },
  {
   "cell_type": "markdown",
   "metadata": {},
   "source": [
    "##### Initialize\n",
    "\n",
    "Here, we randomly assign weights like this."
   ]
  },
  {
   "cell_type": "code",
   "execution_count": 6,
   "metadata": {
    "hide_input": true,
    "scrolled": true
   },
   "outputs": [
    {
     "data": {
      "text/html": [
       "<table>\n",
       "<caption><left><font color=\"black\"><b>Initial weights:</b></font></left></caption>\n",
       " <thead>\n",
       "  <tr>\n",
       "   <th style=\"text-align:right;\"> w0.current </th>\n",
       "   <th style=\"text-align:right;\"> w1.current </th>\n",
       "   <th style=\"text-align:right;\"> w2.current </th>\n",
       "  </tr>\n",
       " </thead>\n",
       "<tbody>\n",
       "  <tr>\n",
       "   <td style=\"text-align:right;\"> 0.7209038963 </td>\n",
       "   <td style=\"text-align:right;\"> 0.8757731931 </td>\n",
       "   <td style=\"text-align:right;\"> 0.7609823283 </td>\n",
       "  </tr>\n",
       "</tbody>\n",
       "</table>"
      ]
     },
     "metadata": {},
     "output_type": "display_data"
    },
    {
     "data": {
      "text/html": [
       "<table>\n",
       "<caption><left><font color=\"black\"><b>Status at iteration 0:</b></font></left></caption>\n",
       " <thead>\n",
       "  <tr>\n",
       "   <th style=\"text-align:right;\"> x1 </th>\n",
       "   <th style=\"text-align:right;\"> x2 </th>\n",
       "   <th style=\"text-align:right;\"> class </th>\n",
       "   <th style=\"text-align:right;\"> class.bin </th>\n",
       "   <th style=\"text-align:right;\"> w0 </th>\n",
       "   <th style=\"text-align:right;\"> w1 </th>\n",
       "   <th style=\"text-align:right;\"> w2 </th>\n",
       "   <th style=\"text-align:right;\"> out </th>\n",
       "   <th style=\"text-align:right;\"> error </th>\n",
       "   <th style=\"text-align:right;\"> cutoff.A </th>\n",
       "   <th style=\"text-align:right;\"> class.bin.predicted </th>\n",
       "  </tr>\n",
       " </thead>\n",
       "<tbody>\n",
       "  <tr>\n",
       "   <td style=\"text-align:right;\"> 3 </td>\n",
       "   <td style=\"text-align:right;\"> 1 </td>\n",
       "   <td style=\"text-align:right;\"> A </td>\n",
       "   <td style=\"text-align:right;\"> 1 </td>\n",
       "   <td style=\"text-align:right;\"> NA </td>\n",
       "   <td style=\"text-align:right;\"> NA </td>\n",
       "   <td style=\"text-align:right;\"> NA </td>\n",
       "   <td style=\"text-align:right;\"> NA </td>\n",
       "   <td style=\"text-align:right;\"> NA </td>\n",
       "   <td style=\"text-align:right;\"> 0.5 </td>\n",
       "   <td style=\"text-align:right;\"> NA </td>\n",
       "  </tr>\n",
       "  <tr>\n",
       "   <td style=\"text-align:right;\"> 6 </td>\n",
       "   <td style=\"text-align:right;\"> 2 </td>\n",
       "   <td style=\"text-align:right;\"> A </td>\n",
       "   <td style=\"text-align:right;\"> 1 </td>\n",
       "   <td style=\"text-align:right;\"> NA </td>\n",
       "   <td style=\"text-align:right;\"> NA </td>\n",
       "   <td style=\"text-align:right;\"> NA </td>\n",
       "   <td style=\"text-align:right;\"> NA </td>\n",
       "   <td style=\"text-align:right;\"> NA </td>\n",
       "   <td style=\"text-align:right;\"> 0.5 </td>\n",
       "   <td style=\"text-align:right;\"> NA </td>\n",
       "  </tr>\n",
       "  <tr>\n",
       "   <td style=\"text-align:right;\"> 14 </td>\n",
       "   <td style=\"text-align:right;\"> 6 </td>\n",
       "   <td style=\"text-align:right;\"> B </td>\n",
       "   <td style=\"text-align:right;\"> 0 </td>\n",
       "   <td style=\"text-align:right;\"> NA </td>\n",
       "   <td style=\"text-align:right;\"> NA </td>\n",
       "   <td style=\"text-align:right;\"> NA </td>\n",
       "   <td style=\"text-align:right;\"> NA </td>\n",
       "   <td style=\"text-align:right;\"> NA </td>\n",
       "   <td style=\"text-align:right;\"> 0.5 </td>\n",
       "   <td style=\"text-align:right;\"> NA </td>\n",
       "  </tr>\n",
       "  <tr>\n",
       "   <td style=\"text-align:right;\"> 15 </td>\n",
       "   <td style=\"text-align:right;\"> 5 </td>\n",
       "   <td style=\"text-align:right;\"> B </td>\n",
       "   <td style=\"text-align:right;\"> 0 </td>\n",
       "   <td style=\"text-align:right;\"> NA </td>\n",
       "   <td style=\"text-align:right;\"> NA </td>\n",
       "   <td style=\"text-align:right;\"> NA </td>\n",
       "   <td style=\"text-align:right;\"> NA </td>\n",
       "   <td style=\"text-align:right;\"> NA </td>\n",
       "   <td style=\"text-align:right;\"> 0.5 </td>\n",
       "   <td style=\"text-align:right;\"> NA </td>\n",
       "  </tr>\n",
       "</tbody>\n",
       "</table>"
      ]
     },
     "metadata": {},
     "output_type": "display_data"
    }
   ],
   "source": [
    "# Configure & initialize perceptron method\n",
    "\n",
    "set.seed(12345)\n",
    "\n",
    "cutoff.A = 0.5\n",
    "iteration = 0\n",
    "status = data.frame(x1=data.simple$x1, x2=data.simple$x2, class=data.simple$class, class.bin=as.binary(data.simple$class, \"A\"), w0=NA, w1=NA, w2=NA, out=NA, error=NA, cutoff.A, class.bin.predicted=NA)\n",
    "w0.current = runif(1); w1.current = runif(1); w2.current = runif(1)\n",
    "\n",
    "data.frame(w0.current, w1.current, w2.current) %>% caption(\"Initial weights:\", position=\"left\")\n",
    "status %>% caption(\"Status at iteration 0:\", position=\"left\")"
   ]
  },
  {
   "cell_type": "markdown",
   "metadata": {},
   "source": [
    "##### Iterate\n",
    "\n",
    "_**Itertion 1**_\n",
    "\n",
    "Observations are randomly reordered like this:\n",
    "* 1st observation --> 3rd position\n",
    "* 2nd observation --> 2nd position\n",
    "* 3rd observation --> 4th position\n",
    "* 4th observation --> 1st position\n",
    "\n",
    "The 1st observation (formerly the 4th observation) is x1=15, x2=5.  Input this observation into the neural network model, assuming the current weights.  The output is computed as $sigmoid(0.72 + 0.87 \\times 15 + 0.76 \\times 5) = 0.99$.  Assuming $cutoff=0.5$, the predicted class (binary) is $1$ because $0.99 > 0.5$.  This is a misclassification because $1 \\ne 0$, with the error $0 - 0.99 = -0.99$, causing new weights to be computed.\n",
    "\n",
    "The new weights are ...\n",
    "  * $w0_{new} = 0.72 + -0.99 = -0.28$\n",
    "  * $w1_{new} = 0.87 + (15 \\times -0.99) = -14.12$\n",
    "  * $w2_{new} = 0.76 + (5 \\times -0.99) = -4.24$\n",
    "  \n",
    "The 2nd observation (formerly the 2nd observation) is x1=6, x2=2.  Input this observation into the neural network model, assuming the (recalculated) current weights.  The output is $sigmoid(-0.28 + -14.12 \\times 6 + -4.24 \\times 2) = 0.00$.  Assuming $cutoff=0.5$, the predicted class (binary) is $0$ because $0.00 < 0.5$.  This is a misclassification because $0 \\ne 1$, with the error $1 - 0.00 = 1.00$, causing new weights to be computed.\n",
    "\n",
    "The new weights are ...\n",
    "  * $w0_{new} = -0.28 + 1.00 = 0.72$\n",
    "  * $w1_{new} = -14.12 + (6 \\times 1.00) = -8.12$\n",
    "  * $w2_{new} = -4.24 + (2 \\times 1.00) = -2.24$\n",
    "  \n",
    "The 3rd observation (formerly the 1st observation) is x1=3, x2=1.  Input this observation into the neural network model, assuming the (recalculated) current weights.  The output is $sigmoid(0.72 + -8.12 \\times 3 + -2.24 \\times 1) = 0.00$.  Assuming $cutoff=0.5$, the predicted class (binary) is $0$ because $0.00 < 0.5$.  This is a misclassification because $0 \\ne 1$, with the error $1 - 0.00 = 1.00$, causing new weights to be computed.\n",
    "\n",
    "The new weights are ...\n",
    "  * $w0_{new} = 0.72 + 1.00 = 1.72$\n",
    "  * $w1_{new} = -8.12 + (3 \\times 1.00) = -5.12$\n",
    "  * $w2_{new} = -2.24 + (1 \\times 1.00) = -1.24$\n",
    "  \n",
    "The 4th observation (formerly the 3rd observation) is x1=14, x2=6.  Input this observation into the neural network model, assuming the (recalculated) current weights.  The output is $sigmoid(1.72 + -5.12 \\times 14 + -1.24 \\times 6) = 0.00$.  Assuming $cutoff=0.5$, the predicted class (binary) is $0$ because $0.00 < 0.5$.  This is a correct classification, so no new weights are computed.\n",
    "\n",
    "_**Subsequent Iterations**_\n",
    "\n",
    "Note that the weights stablize by iteration 8."
   ]
  },
  {
   "cell_type": "code",
   "execution_count": 7,
   "metadata": {
    "hide_input": true,
    "scrolled": false
   },
   "outputs": [
    {
     "data": {
      "text/html": [
       "<table>\n",
       "<caption><left><font color=\"black\"><b>Status at iteration 1:</b></font></left></caption>\n",
       " <thead>\n",
       "  <tr>\n",
       "   <th style=\"text-align:right;\"> x1 </th>\n",
       "   <th style=\"text-align:right;\"> x2 </th>\n",
       "   <th style=\"text-align:right;\"> class </th>\n",
       "   <th style=\"text-align:right;\"> class.bin </th>\n",
       "   <th style=\"text-align:right;\"> w0 </th>\n",
       "   <th style=\"text-align:right;\"> w1 </th>\n",
       "   <th style=\"text-align:right;\"> w2 </th>\n",
       "   <th style=\"text-align:right;\"> out </th>\n",
       "   <th style=\"text-align:right;\"> error </th>\n",
       "   <th style=\"text-align:right;\"> cutoff.A </th>\n",
       "   <th style=\"text-align:right;\"> class.bin.predicted </th>\n",
       "  </tr>\n",
       " </thead>\n",
       "<tbody>\n",
       "  <tr>\n",
       "   <td style=\"text-align:right;\"> 15 </td>\n",
       "   <td style=\"text-align:right;\"> 5 </td>\n",
       "   <td style=\"text-align:right;\"> B </td>\n",
       "   <td style=\"text-align:right;\"> 0 </td>\n",
       "   <td style=\"text-align:right;\"> 0.7209038963 </td>\n",
       "   <td style=\"text-align:right;\"> 0.8757731931 </td>\n",
       "   <td style=\"text-align:right;\"> 0.7609823283 </td>\n",
       "   <td style=\"text-align:right;\"> 0.9999999787 </td>\n",
       "   <td style=\"text-align:right;\"> -0.9999999787 </td>\n",
       "   <td style=\"text-align:right;\"> 0.5 </td>\n",
       "   <td style=\"text-align:right;\"> 1 </td>\n",
       "  </tr>\n",
       "  <tr>\n",
       "   <td style=\"text-align:right;\"> 6 </td>\n",
       "   <td style=\"text-align:right;\"> 2 </td>\n",
       "   <td style=\"text-align:right;\"> A </td>\n",
       "   <td style=\"text-align:right;\"> 1 </td>\n",
       "   <td style=\"text-align:right;\"> -0.2790960824 </td>\n",
       "   <td style=\"text-align:right;\"> -14.1242264867 </td>\n",
       "   <td style=\"text-align:right;\"> -4.2390175649 </td>\n",
       "   <td style=\"text-align:right;\"> 0.0000000000 </td>\n",
       "   <td style=\"text-align:right;\"> 1.0000000000 </td>\n",
       "   <td style=\"text-align:right;\"> 0.5 </td>\n",
       "   <td style=\"text-align:right;\"> 0 </td>\n",
       "  </tr>\n",
       "  <tr>\n",
       "   <td style=\"text-align:right;\"> 3 </td>\n",
       "   <td style=\"text-align:right;\"> 1 </td>\n",
       "   <td style=\"text-align:right;\"> A </td>\n",
       "   <td style=\"text-align:right;\"> 1 </td>\n",
       "   <td style=\"text-align:right;\"> 0.7209039176 </td>\n",
       "   <td style=\"text-align:right;\"> -8.1242264867 </td>\n",
       "   <td style=\"text-align:right;\"> -2.2390175649 </td>\n",
       "   <td style=\"text-align:right;\"> 0.0000000000 </td>\n",
       "   <td style=\"text-align:right;\"> 1.0000000000 </td>\n",
       "   <td style=\"text-align:right;\"> 0.5 </td>\n",
       "   <td style=\"text-align:right;\"> 0 </td>\n",
       "  </tr>\n",
       "  <tr>\n",
       "   <td style=\"text-align:right;\"> 14 </td>\n",
       "   <td style=\"text-align:right;\"> 6 </td>\n",
       "   <td style=\"text-align:right;\"> B </td>\n",
       "   <td style=\"text-align:right;\"> 0 </td>\n",
       "   <td style=\"text-align:right;\"> 1.7209039176 </td>\n",
       "   <td style=\"text-align:right;\"> -5.1242264867 </td>\n",
       "   <td style=\"text-align:right;\"> -1.2390175649 </td>\n",
       "   <td style=\"text-align:right;\"> 0.0000000000 </td>\n",
       "   <td style=\"text-align:right;\"> 0.0000000000 </td>\n",
       "   <td style=\"text-align:right;\"> 0.5 </td>\n",
       "   <td style=\"text-align:right;\"> 0 </td>\n",
       "  </tr>\n",
       "</tbody>\n",
       "</table>"
      ]
     },
     "metadata": {},
     "output_type": "display_data"
    },
    {
     "data": {
      "text/html": [
       "<table>\n",
       "<caption><left><font color=\"black\"><b>Status at iteration 2:</b></font></left></caption>\n",
       " <thead>\n",
       "  <tr>\n",
       "   <th style=\"text-align:right;\"> x1 </th>\n",
       "   <th style=\"text-align:right;\"> x2 </th>\n",
       "   <th style=\"text-align:right;\"> class </th>\n",
       "   <th style=\"text-align:right;\"> class.bin </th>\n",
       "   <th style=\"text-align:right;\"> w0 </th>\n",
       "   <th style=\"text-align:right;\"> w1 </th>\n",
       "   <th style=\"text-align:right;\"> w2 </th>\n",
       "   <th style=\"text-align:right;\"> out </th>\n",
       "   <th style=\"text-align:right;\"> error </th>\n",
       "   <th style=\"text-align:right;\"> cutoff.A </th>\n",
       "   <th style=\"text-align:right;\"> class.bin.predicted </th>\n",
       "  </tr>\n",
       " </thead>\n",
       "<tbody>\n",
       "  <tr>\n",
       "   <td style=\"text-align:right;\"> 6 </td>\n",
       "   <td style=\"text-align:right;\"> 2 </td>\n",
       "   <td style=\"text-align:right;\"> A </td>\n",
       "   <td style=\"text-align:right;\"> 1 </td>\n",
       "   <td style=\"text-align:right;\"> 1.720903918 </td>\n",
       "   <td style=\"text-align:right;\"> -5.1242264867 </td>\n",
       "   <td style=\"text-align:right;\"> -1.2390175649 </td>\n",
       "   <td style=\"text-align:right;\"> 0.0000000000 </td>\n",
       "   <td style=\"text-align:right;\"> 1.0000000000 </td>\n",
       "   <td style=\"text-align:right;\"> 0.5 </td>\n",
       "   <td style=\"text-align:right;\"> 0 </td>\n",
       "  </tr>\n",
       "  <tr>\n",
       "   <td style=\"text-align:right;\"> 14 </td>\n",
       "   <td style=\"text-align:right;\"> 6 </td>\n",
       "   <td style=\"text-align:right;\"> B </td>\n",
       "   <td style=\"text-align:right;\"> 0 </td>\n",
       "   <td style=\"text-align:right;\"> 2.720903918 </td>\n",
       "   <td style=\"text-align:right;\"> 0.8757735133 </td>\n",
       "   <td style=\"text-align:right;\"> 0.7609824351 </td>\n",
       "   <td style=\"text-align:right;\"> 0.9999999968 </td>\n",
       "   <td style=\"text-align:right;\"> -0.9999999968 </td>\n",
       "   <td style=\"text-align:right;\"> 0.5 </td>\n",
       "   <td style=\"text-align:right;\"> 1 </td>\n",
       "  </tr>\n",
       "  <tr>\n",
       "   <td style=\"text-align:right;\"> 15 </td>\n",
       "   <td style=\"text-align:right;\"> 5 </td>\n",
       "   <td style=\"text-align:right;\"> B </td>\n",
       "   <td style=\"text-align:right;\"> 0 </td>\n",
       "   <td style=\"text-align:right;\"> 1.720903921 </td>\n",
       "   <td style=\"text-align:right;\"> -13.1242264414 </td>\n",
       "   <td style=\"text-align:right;\"> -5.2390175455 </td>\n",
       "   <td style=\"text-align:right;\"> 0.0000000000 </td>\n",
       "   <td style=\"text-align:right;\"> 0.0000000000 </td>\n",
       "   <td style=\"text-align:right;\"> 0.5 </td>\n",
       "   <td style=\"text-align:right;\"> 0 </td>\n",
       "  </tr>\n",
       "  <tr>\n",
       "   <td style=\"text-align:right;\"> 3 </td>\n",
       "   <td style=\"text-align:right;\"> 1 </td>\n",
       "   <td style=\"text-align:right;\"> A </td>\n",
       "   <td style=\"text-align:right;\"> 1 </td>\n",
       "   <td style=\"text-align:right;\"> 1.720903921 </td>\n",
       "   <td style=\"text-align:right;\"> -13.1242264414 </td>\n",
       "   <td style=\"text-align:right;\"> -5.2390175455 </td>\n",
       "   <td style=\"text-align:right;\"> 0.0000000000 </td>\n",
       "   <td style=\"text-align:right;\"> 1.0000000000 </td>\n",
       "   <td style=\"text-align:right;\"> 0.5 </td>\n",
       "   <td style=\"text-align:right;\"> 0 </td>\n",
       "  </tr>\n",
       "</tbody>\n",
       "</table>"
      ]
     },
     "metadata": {},
     "output_type": "display_data"
    },
    {
     "data": {
      "text/html": [
       "<table>\n",
       "<caption><left><font color=\"black\"><b>Status at iteration 8:</b></font></left></caption>\n",
       " <thead>\n",
       "  <tr>\n",
       "   <th style=\"text-align:right;\"> x1 </th>\n",
       "   <th style=\"text-align:right;\"> x2 </th>\n",
       "   <th style=\"text-align:right;\"> class </th>\n",
       "   <th style=\"text-align:right;\"> class.bin </th>\n",
       "   <th style=\"text-align:right;\"> w0 </th>\n",
       "   <th style=\"text-align:right;\"> w1 </th>\n",
       "   <th style=\"text-align:right;\"> w2 </th>\n",
       "   <th style=\"text-align:right;\"> out </th>\n",
       "   <th style=\"text-align:right;\"> error </th>\n",
       "   <th style=\"text-align:right;\"> cutoff.A </th>\n",
       "   <th style=\"text-align:right;\"> class.bin.predicted </th>\n",
       "  </tr>\n",
       " </thead>\n",
       "<tbody>\n",
       "  <tr>\n",
       "   <td style=\"text-align:right;\"> 15 </td>\n",
       "   <td style=\"text-align:right;\"> 5 </td>\n",
       "   <td style=\"text-align:right;\"> B </td>\n",
       "   <td style=\"text-align:right;\"> 0 </td>\n",
       "   <td style=\"text-align:right;\"> 6.709136655 </td>\n",
       "   <td style=\"text-align:right;\"> -0.1924080013 </td>\n",
       "   <td style=\"text-align:right;\"> -2.261744732 </td>\n",
       "   <td style=\"text-align:right;\"> 0.0005607318 </td>\n",
       "   <td style=\"text-align:right;\"> -0.0005607318 </td>\n",
       "   <td style=\"text-align:right;\"> 0.5 </td>\n",
       "   <td style=\"text-align:right;\"> 0 </td>\n",
       "  </tr>\n",
       "  <tr>\n",
       "   <td style=\"text-align:right;\"> 6 </td>\n",
       "   <td style=\"text-align:right;\"> 2 </td>\n",
       "   <td style=\"text-align:right;\"> A </td>\n",
       "   <td style=\"text-align:right;\"> 1 </td>\n",
       "   <td style=\"text-align:right;\"> 6.709136655 </td>\n",
       "   <td style=\"text-align:right;\"> -0.1924080013 </td>\n",
       "   <td style=\"text-align:right;\"> -2.261744732 </td>\n",
       "   <td style=\"text-align:right;\"> 0.7371483164 </td>\n",
       "   <td style=\"text-align:right;\"> 0.2628516836 </td>\n",
       "   <td style=\"text-align:right;\"> 0.5 </td>\n",
       "   <td style=\"text-align:right;\"> 1 </td>\n",
       "  </tr>\n",
       "  <tr>\n",
       "   <td style=\"text-align:right;\"> 14 </td>\n",
       "   <td style=\"text-align:right;\"> 6 </td>\n",
       "   <td style=\"text-align:right;\"> B </td>\n",
       "   <td style=\"text-align:right;\"> 0 </td>\n",
       "   <td style=\"text-align:right;\"> 6.709136655 </td>\n",
       "   <td style=\"text-align:right;\"> -0.1924080013 </td>\n",
       "   <td style=\"text-align:right;\"> -2.261744732 </td>\n",
       "   <td style=\"text-align:right;\"> 0.0000708380 </td>\n",
       "   <td style=\"text-align:right;\"> -0.0000708380 </td>\n",
       "   <td style=\"text-align:right;\"> 0.5 </td>\n",
       "   <td style=\"text-align:right;\"> 0 </td>\n",
       "  </tr>\n",
       "  <tr>\n",
       "   <td style=\"text-align:right;\"> 3 </td>\n",
       "   <td style=\"text-align:right;\"> 1 </td>\n",
       "   <td style=\"text-align:right;\"> A </td>\n",
       "   <td style=\"text-align:right;\"> 1 </td>\n",
       "   <td style=\"text-align:right;\"> 6.709136655 </td>\n",
       "   <td style=\"text-align:right;\"> -0.1924080013 </td>\n",
       "   <td style=\"text-align:right;\"> -2.261744732 </td>\n",
       "   <td style=\"text-align:right;\"> 0.9795711733 </td>\n",
       "   <td style=\"text-align:right;\"> 0.0204288267 </td>\n",
       "   <td style=\"text-align:right;\"> 0.5 </td>\n",
       "   <td style=\"text-align:right;\"> 1 </td>\n",
       "  </tr>\n",
       "</tbody>\n",
       "</table>"
      ]
     },
     "metadata": {},
     "output_type": "display_data"
    }
   ],
   "source": [
    "# Configure & initialize perceptron method\n",
    "\n",
    "set.seed(12345)\n",
    "\n",
    "cutoff.A = 0.5\n",
    "iteration = 0\n",
    "status = data.frame(x1=data.simple$x1, x2=data.simple$x2, class=data.simple$class, class.bin=as.binary(data.simple$class, \"A\"), w0=NA, w1=NA, w2=NA, out=NA, error=NA, cutoff.A, class.bin.predicted=NA)\n",
    "w0.current = runif(1); w1.current = runif(1); w2.current = runif(1)\n",
    "\n",
    "\n",
    "# Iterate perceptron method\n",
    "\n",
    "for (iteration in 1:8)\n",
    "\n",
    "  { if (iteration==1) status = status[c(4,2,1,3),]\n",
    "    else              status = status[sample(nrow(status)),]\n",
    "\n",
    "    for (obs in 1:4)\n",
    "      { status$w0[obs] = w0.current; status$w1[obs] = w1.current; status$w2[obs] = w2.current\n",
    "        status$out[obs] = sigmoid(status$w0[obs] + status$w1[obs]*status$x1[obs] + status$w2[obs]*status$x2[obs])    \n",
    "        status$error[obs] = status$class.bin[obs] - status$out[obs]\n",
    "        status$class.bin.predicted[obs] = as.numeric(status$out[obs] >= cutoff.A)\n",
    "        if (status$class.bin.predicted[obs] != status$class.bin[obs])\n",
    "          { w0.current = status$w0[obs] + status$error[obs]\n",
    "            w1.current = status$w1[obs] + status$error[obs]*status$x1[obs]\n",
    "            w2.current = status$w2[obs] + status$error[obs]*status$x2[obs] } }\n",
    "   \n",
    "   if (iteration %in% list(1,2,8)) \n",
    "     status %>% caption(sprintf(\"Status at iteration %d:\", iteration), \"left\") }"
   ]
  },
  {
   "cell_type": "markdown",
   "metadata": {},
   "source": [
    "##### Results\n",
    "\n",
    "The model weights are then set to be the weights calculated based on the last observation of the last iteration."
   ]
  },
  {
   "cell_type": "code",
   "execution_count": 8,
   "metadata": {
    "hide_input": true
   },
   "outputs": [
    {
     "data": {
      "text/html": [
       "<table>\n",
       "<caption><left><font color=\"black\"><b>Final weigts:</b></font></left></caption>\n",
       " <thead>\n",
       "  <tr>\n",
       "   <th style=\"text-align:right;\"> w0 </th>\n",
       "   <th style=\"text-align:right;\"> w1 </th>\n",
       "   <th style=\"text-align:right;\"> w2 </th>\n",
       "  </tr>\n",
       " </thead>\n",
       "<tbody>\n",
       "  <tr>\n",
       "   <td style=\"text-align:right;\"> 6.709136655 </td>\n",
       "   <td style=\"text-align:right;\"> -0.1924080013 </td>\n",
       "   <td style=\"text-align:right;\"> -2.261744732 </td>\n",
       "  </tr>\n",
       "</tbody>\n",
       "</table>"
      ]
     },
     "metadata": {},
     "output_type": "display_data"
    }
   ],
   "source": [
    "w0=status$w0[4]\n",
    "w1=status$w1[4]\n",
    "w2=status$w2[4]\n",
    "\n",
    "data.frame(w0, w1, w2) %>% caption(\"Final weigts:\", position=\"left\")"
   ]
  },
  {
   "cell_type": "code",
   "execution_count": 9,
   "metadata": {
    "hide_input": true
   },
   "outputs": [
    {
     "data": {
      "text/html": [
       "<table>\n",
       "<caption><center><font color=\"black\"><b>weights</b></font></center></caption>\n",
       " <thead>\n",
       "  <tr>\n",
       "   <th style=\"text-align:left;\">   </th>\n",
       "   <th style=\"text-align:right;\"> to_output </th>\n",
       "  </tr>\n",
       " </thead>\n",
       "<tbody>\n",
       "  <tr>\n",
       "   <td style=\"text-align:left;\">  </td>\n",
       "   <td style=\"text-align:right;\"> 6.7091366548 </td>\n",
       "  </tr>\n",
       "  <tr>\n",
       "   <td style=\"text-align:left;\"> from_input_x1 </td>\n",
       "   <td style=\"text-align:right;\"> -0.1924080013 </td>\n",
       "  </tr>\n",
       "  <tr>\n",
       "   <td style=\"text-align:left;\"> from_input_x2 </td>\n",
       "   <td style=\"text-align:right;\"> -2.2617447321 </td>\n",
       "  </tr>\n",
       "</tbody>\n",
       "</table>"
      ]
     },
     "metadata": {},
     "output_type": "display_data"
    },
    {
     "data": {
      "image/png": "[encoded data removed]",
      "text/plain": [
       "plot without title"
      ]
     },
     "metadata": {},
     "output_type": "display_data"
    }
   ],
   "source": [
    "ann = data.frame(input_x1=1, input_x2=1, output=1)\n",
    "model = neuralnet(output ~ input_x1+input_x2, ann, hidden=0)\n",
    "model$weights[[1]][[1]][,1]= c(w0, w1, w2)\n",
    "\n",
    "d = as.data.frame(model$weights[[1]][[1]]); names(d) = \"to_output\"; rownames(d) = c(\"\",\"from_input_x1\", \"from_input_x2\")\n",
    "d %>% caption(\"weights\", row.names=TRUE)\n",
    "\n",
    "output_size(4,4)\n",
    "plot(model, rep=1, fill=\"gray\", show.weights=TRUE, information=FALSE, cex=0.7, lwd=0.5)\n",
    "output_size(restore)"
   ]
  },
  {
   "cell_type": "markdown",
   "metadata": {},
   "source": [
    "##### Prediction\n",
    "\n",
    "Use the model to predict the new observation's class."
   ]
  },
  {
   "cell_type": "code",
   "execution_count": 10,
   "metadata": {
    "hide_input": true
   },
   "outputs": [
    {
     "data": {
      "text/html": [
       "<table>\n",
       "<thead><tr><th scope=col>x1</th><th scope=col>x2</th><th scope=col>output</th><th scope=col>cutoff.A</th><th scope=col>class.predicted</th></tr></thead>\n",
       "<tbody>\n",
       "\t<tr><td>10           </td><td>4            </td><td>0.01389926866</td><td>0.5          </td><td>B            </td></tr>\n",
       "</tbody>\n",
       "</table>\n"
      ],
      "text/latex": [
       "\\begin{tabular}{r|lllll}\n",
       " x1 & x2 & output & cutoff.A & class.predicted\\\\\n",
       "\\hline\n",
       "\t 10            & 4             & 0.01389926866 & 0.5           & B            \\\\\n",
       "\\end{tabular}\n"
      ],
      "text/markdown": [
       "\n",
       "| x1 | x2 | output | cutoff.A | class.predicted |\n",
       "|---|---|---|---|---|\n",
       "| 10            | 4             | 0.01389926866 | 0.5           | B             |\n",
       "\n"
      ],
      "text/plain": [
       "  x1 x2 output        cutoff.A class.predicted\n",
       "1 10 4  0.01389926866 0.5      B              "
      ]
     },
     "metadata": {},
     "output_type": "display_data"
    }
   ],
   "source": [
    "output = sigmoid(w0 + w1*new$x1 + w2*new$x2)\n",
    "class.predicted = as.class(data.frame(\"A\"=output, \"B\"=1-output), \"A\", cutoff.A)\n",
    "                           \n",
    "data.frame(x1=new$x1, x2=new$x2, output, cutoff.A, class.predicted)"
   ]
  },
  {
   "cell_type": "markdown",
   "metadata": {},
   "source": [
    "#### Example Application of Perceptron Method on Not Linearly Separable Data"
   ]
  },
  {
   "cell_type": "markdown",
   "metadata": {},
   "source": [
    "##### Data\n",
    "\n",
    "Note, these data are not linearly separable, i.e., you cannot separate the clusters by a straight line."
   ]
  },
  {
   "cell_type": "code",
   "execution_count": 11,
   "metadata": {
    "hideCode": false,
    "hidePrompt": false,
    "hide_input": true,
    "run_control": {
     "marked": false
    }
   },
   "outputs": [
    {
     "data": {
      "image/png": "[encoded data removed]",
      "text/plain": [
       "plot without title"
      ]
     },
     "metadata": {},
     "output_type": "display_data"
    }
   ],
   "source": [
    "data = data.frame(x1=c(6,8,14,12), x2=c(2,3,6,5), class=c(\"B\", \"A\", \"A\", \"B\"))\n",
    "new = data.frame(x1=10, x2=4)\n",
    "\n",
    "ggplot(data) + xlim(0,20) +\n",
    "geom_point(aes(x=x1, y=x2, color=class)) + geom_point(aes(x=x1, y=x2), data=new) "
   ]
  },
  {
   "cell_type": "markdown",
   "metadata": {},
   "source": [
    "##### Configure, Initialize, and iterate.\n",
    "\n",
    "Note that weights not do stablize.  (Weights align at iterations 63, 67, and 88, but subsequently diverge.)"
   ]
  },
  {
   "cell_type": "code",
   "execution_count": 12,
   "metadata": {
    "hide_input": true
   },
   "outputs": [
    {
     "data": {
      "text/html": [
       "<table>\n",
       "<thead><tr><th scope=col>w0.current</th><th scope=col>w1.current</th><th scope=col>w2.current</th></tr></thead>\n",
       "<tbody>\n",
       "\t<tr><td>0.7209038963</td><td>0.8757731931</td><td>0.7609823283</td></tr>\n",
       "</tbody>\n",
       "</table>\n"
      ],
      "text/latex": [
       "\\begin{tabular}{r|lll}\n",
       " w0.current & w1.current & w2.current\\\\\n",
       "\\hline\n",
       "\t 0.7209038963 & 0.8757731931 & 0.7609823283\\\\\n",
       "\\end{tabular}\n"
      ],
      "text/markdown": [
       "\n",
       "| w0.current | w1.current | w2.current |\n",
       "|---|---|---|\n",
       "| 0.7209038963 | 0.8757731931 | 0.7609823283 |\n",
       "\n"
      ],
      "text/plain": [
       "  w0.current   w1.current   w2.current  \n",
       "1 0.7209038963 0.8757731931 0.7609823283"
      ]
     },
     "metadata": {},
     "output_type": "display_data"
    },
    {
     "data": {
      "text/html": [
       "<table>\n",
       "<thead><tr><th scope=col>x1</th><th scope=col>x2</th><th scope=col>class</th><th scope=col>class.bin</th><th scope=col>w0</th><th scope=col>w1</th><th scope=col>w2</th><th scope=col>out</th><th scope=col>error</th><th scope=col>cutoff.A</th><th scope=col>class.bin.predicted</th></tr></thead>\n",
       "<tbody>\n",
       "\t<tr><td> 6 </td><td>2  </td><td>B  </td><td>0  </td><td>NA </td><td>NA </td><td>NA </td><td>NA </td><td>NA </td><td>0.5</td><td>NA </td></tr>\n",
       "\t<tr><td> 8 </td><td>3  </td><td>A  </td><td>1  </td><td>NA </td><td>NA </td><td>NA </td><td>NA </td><td>NA </td><td>0.5</td><td>NA </td></tr>\n",
       "\t<tr><td>14 </td><td>6  </td><td>A  </td><td>1  </td><td>NA </td><td>NA </td><td>NA </td><td>NA </td><td>NA </td><td>0.5</td><td>NA </td></tr>\n",
       "\t<tr><td>12 </td><td>5  </td><td>B  </td><td>0  </td><td>NA </td><td>NA </td><td>NA </td><td>NA </td><td>NA </td><td>0.5</td><td>NA </td></tr>\n",
       "</tbody>\n",
       "</table>\n"
      ],
      "text/latex": [
       "\\begin{tabular}{r|lllllllllll}\n",
       " x1 & x2 & class & class.bin & w0 & w1 & w2 & out & error & cutoff.A & class.bin.predicted\\\\\n",
       "\\hline\n",
       "\t  6  & 2   & B   & 0   & NA  & NA  & NA  & NA  & NA  & 0.5 & NA \\\\\n",
       "\t  8  & 3   & A   & 1   & NA  & NA  & NA  & NA  & NA  & 0.5 & NA \\\\\n",
       "\t 14  & 6   & A   & 1   & NA  & NA  & NA  & NA  & NA  & 0.5 & NA \\\\\n",
       "\t 12  & 5   & B   & 0   & NA  & NA  & NA  & NA  & NA  & 0.5 & NA \\\\\n",
       "\\end{tabular}\n"
      ],
      "text/markdown": [
       "\n",
       "| x1 | x2 | class | class.bin | w0 | w1 | w2 | out | error | cutoff.A | class.bin.predicted |\n",
       "|---|---|---|---|---|---|---|---|---|---|---|\n",
       "|  6  | 2   | B   | 0   | NA  | NA  | NA  | NA  | NA  | 0.5 | NA  |\n",
       "|  8  | 3   | A   | 1   | NA  | NA  | NA  | NA  | NA  | 0.5 | NA  |\n",
       "| 14  | 6   | A   | 1   | NA  | NA  | NA  | NA  | NA  | 0.5 | NA  |\n",
       "| 12  | 5   | B   | 0   | NA  | NA  | NA  | NA  | NA  | 0.5 | NA  |\n",
       "\n"
      ],
      "text/plain": [
       "  x1 x2 class class.bin w0 w1 w2 out error cutoff.A class.bin.predicted\n",
       "1  6 2  B     0         NA NA NA NA  NA    0.5      NA                 \n",
       "2  8 3  A     1         NA NA NA NA  NA    0.5      NA                 \n",
       "3 14 6  A     1         NA NA NA NA  NA    0.5      NA                 \n",
       "4 12 5  B     0         NA NA NA NA  NA    0.5      NA                 "
      ]
     },
     "metadata": {},
     "output_type": "display_data"
    }
   ],
   "source": [
    "# Configure & initialize perceptron method\n",
    "\n",
    "set.seed(12345)\n",
    "\n",
    "cutoff.A = 0.5\n",
    "iteration = 0\n",
    "status = data.frame(x1=data$x1, x2=data$x2, class=data$class, class.bin=as.binary(data$class, \"A\"), w0=NA, w1=NA, w2=NA, out=NA, error=NA, cutoff.A, class.bin.predicted=NA)\n",
    "w0.current = runif(1); w1.current = runif(1); w2.current = runif(1)\n",
    "\n",
    "data.frame(w0.current, w1.current, w2.current)\n",
    "status"
   ]
  },
  {
   "cell_type": "code",
   "execution_count": 13,
   "metadata": {
    "hide_input": true
   },
   "outputs": [
    {
     "data": {
      "text/html": [
       "<table>\n",
       "<caption><left><font color=\"black\"><b>Status at iteration 1000:</b></font></left></caption>\n",
       " <thead>\n",
       "  <tr>\n",
       "   <th style=\"text-align:right;\"> x1 </th>\n",
       "   <th style=\"text-align:right;\"> x2 </th>\n",
       "   <th style=\"text-align:right;\"> class </th>\n",
       "   <th style=\"text-align:right;\"> class.bin </th>\n",
       "   <th style=\"text-align:right;\"> w0 </th>\n",
       "   <th style=\"text-align:right;\"> w1 </th>\n",
       "   <th style=\"text-align:right;\"> w2 </th>\n",
       "   <th style=\"text-align:right;\"> out </th>\n",
       "   <th style=\"text-align:right;\"> error </th>\n",
       "   <th style=\"text-align:right;\"> cutoff.A </th>\n",
       "   <th style=\"text-align:right;\"> class.bin.predicted </th>\n",
       "  </tr>\n",
       " </thead>\n",
       "<tbody>\n",
       "  <tr>\n",
       "   <td style=\"text-align:right;\"> 8 </td>\n",
       "   <td style=\"text-align:right;\"> 3 </td>\n",
       "   <td style=\"text-align:right;\"> A </td>\n",
       "   <td style=\"text-align:right;\"> 1 </td>\n",
       "   <td style=\"text-align:right;\"> -47.29087264 </td>\n",
       "   <td style=\"text-align:right;\"> -10.671048565 </td>\n",
       "   <td style=\"text-align:right;\"> 42.99934799 </td>\n",
       "   <td style=\"text-align:right;\"> 0.0250572096 </td>\n",
       "   <td style=\"text-align:right;\"> 0.9749427904 </td>\n",
       "   <td style=\"text-align:right;\"> 0.5 </td>\n",
       "   <td style=\"text-align:right;\"> 0 </td>\n",
       "  </tr>\n",
       "  <tr>\n",
       "   <td style=\"text-align:right;\"> 14 </td>\n",
       "   <td style=\"text-align:right;\"> 6 </td>\n",
       "   <td style=\"text-align:right;\"> A </td>\n",
       "   <td style=\"text-align:right;\"> 1 </td>\n",
       "   <td style=\"text-align:right;\"> -46.31592985 </td>\n",
       "   <td style=\"text-align:right;\"> -2.871506241 </td>\n",
       "   <td style=\"text-align:right;\"> 45.92417636 </td>\n",
       "   <td style=\"text-align:right;\"> 1.0000000000 </td>\n",
       "   <td style=\"text-align:right;\"> 0.0000000000 </td>\n",
       "   <td style=\"text-align:right;\"> 0.5 </td>\n",
       "   <td style=\"text-align:right;\"> 1 </td>\n",
       "  </tr>\n",
       "  <tr>\n",
       "   <td style=\"text-align:right;\"> 6 </td>\n",
       "   <td style=\"text-align:right;\"> 2 </td>\n",
       "   <td style=\"text-align:right;\"> B </td>\n",
       "   <td style=\"text-align:right;\"> 0 </td>\n",
       "   <td style=\"text-align:right;\"> -46.31592985 </td>\n",
       "   <td style=\"text-align:right;\"> -2.871506241 </td>\n",
       "   <td style=\"text-align:right;\"> 45.92417636 </td>\n",
       "   <td style=\"text-align:right;\"> 1.0000000000 </td>\n",
       "   <td style=\"text-align:right;\"> -1.0000000000 </td>\n",
       "   <td style=\"text-align:right;\"> 0.5 </td>\n",
       "   <td style=\"text-align:right;\"> 1 </td>\n",
       "  </tr>\n",
       "  <tr>\n",
       "   <td style=\"text-align:right;\"> 12 </td>\n",
       "   <td style=\"text-align:right;\"> 5 </td>\n",
       "   <td style=\"text-align:right;\"> B </td>\n",
       "   <td style=\"text-align:right;\"> 0 </td>\n",
       "   <td style=\"text-align:right;\"> -47.31592985 </td>\n",
       "   <td style=\"text-align:right;\"> -8.871506241 </td>\n",
       "   <td style=\"text-align:right;\"> 43.92417636 </td>\n",
       "   <td style=\"text-align:right;\"> 1.0000000000 </td>\n",
       "   <td style=\"text-align:right;\"> -1.0000000000 </td>\n",
       "   <td style=\"text-align:right;\"> 0.5 </td>\n",
       "   <td style=\"text-align:right;\"> 1 </td>\n",
       "  </tr>\n",
       "</tbody>\n",
       "</table>"
      ]
     },
     "metadata": {},
     "output_type": "display_data"
    }
   ],
   "source": [
    "# Configure & initialize perceptron method\n",
    "\n",
    "set.seed(12345)\n",
    "\n",
    "cutoff.A = 0.5\n",
    "iteration = 0\n",
    "status = data.frame(x1=data$x1, x2=data$x2, class=data$class, class.bin=as.binary(data$class, \"A\"), w0=NA, w1=NA, w2=NA, out=NA, error=NA, cutoff.A, class.bin.predicted=NA)\n",
    "w0.current = runif(1); w1.current = runif(1); w2.current = runif(1)\n",
    "\n",
    "\n",
    "# Iterate perceptron method\n",
    "\n",
    "for (iteration in 1:1000)\n",
    "\n",
    "  { status = status[sample(nrow(status)),]\n",
    "\n",
    "    for (obs in 1:4)\n",
    "      { status$w0[obs] = w0.current; status$w1[obs] = w1.current; status$w2[obs] = w2.current\n",
    "        status$out[obs] = sigmoid(status$w0[obs] + status$w1[obs]*status$x1[obs] + status$w2[obs]*status$x2[obs])    \n",
    "        status$error[obs] = status$class.bin[obs] - status$out[obs]\n",
    "        status$class.bin.predicted[obs] = as.numeric(status$out[obs] >= cutoff.A)\n",
    "        if (status$class.bin.predicted[obs] != status$class.bin[obs])\n",
    "          { w0.current = status$w0[obs] + status$error[obs]\n",
    "            w1.current = status$w1[obs] + status$error[obs]*status$x1[obs]\n",
    "            w2.current = status$w2[obs] + status$error[obs]*status$x2[obs] } } }\n",
    "\n",
    " status %>% caption(sprintf(\"Status at iteration %d:\", iteration), \"left\")"
   ]
  },
  {
   "cell_type": "markdown",
   "metadata": {},
   "source": [
    "### About the Perceptron Method\n",
    "\n",
    "* The perceptron method will converge if the data are linearly separable, given enough iterations.  Though it will converge, it may not converge to the optimal solution.\n",
    "* The perceptron method will not converge if the data are not linearly separable.\n",
    "* The perceptron method's performance and results are affected by the order of observations."
   ]
  },
  {
   "cell_type": "markdown",
   "metadata": {},
   "source": [
    "## Further Reading\n",
    "\n",
    "* https://www.youtube.com/watch?v=pgDE2DOICuc\n",
    "* http://ciml.info/dl/v0_99/ciml-v0_99-ch04.pdf\n",
    "* http://ciml.info/dl/v0_99/ciml-v0_99-ch10.pdf\n",
    "* http://blog.refu.co/?p=935\n",
    "* http://blog.refu.co/?p=931\n",
    "* https://en.wikipedia.org/wiki/Perceptron\n",
    "* https://en.wikipedia.org/wiki/Multilayer_perceptron\n",
    "* https://www.r-bloggers.com/using-neural-networks-for-credit-scoring-a-simple-example/\n",
    "* https://datascienceplus.com/fitting-neural-network-in-r/\n",
    "* http://www.learnbymarketing.com/tutorials/neural-networks-in-r-tutorial/\n",
    "* https://cran.r-project.org/web/packages/neuralnet/neuralnet.pdf\n",
    "* http://www-stat.wharton.upenn.edu/~stine/mich/DM_06.pdf\n",
    "* https://www.r-bloggers.com/multilabel-classification-with-neuralnet-package/\n",
    "* https://www.digitaljunky.io/playing-around-with-neural-networks-and-r/\n",
    "* https://stackoverflow.com/questions/26047901/r-error-in-nroww-ncolw-non-numeric-argument-to-binary-operator-while-u"
   ]
  },
  {
   "cell_type": "markdown",
   "metadata": {},
   "source": [
    "<p style=\"text-align:left; font-size:10px;\">\n",
    "Copyright (c) Berkeley Data Analytics Group, LLC\n",
    "<span style=\"float:right;\">\n",
    "Document revised October 11, 2019\n",
    "</span>\n",
    "</p>"
   ]
  }
 ],
 "metadata": {
  "hide_code_all_hidden": false,
  "hide_input": false,
  "kernelspec": {
   "display_name": "R",
   "language": "R",
   "name": "ir"
  },
  "language_info": {
   "codemirror_mode": "r",
   "file_extension": ".r",
   "mimetype": "text/x-r-source",
   "name": "R",
   "pygments_lexer": "r",
   "version": "3.6.1"
  },
  "toc": {
   "base_numbering": 1,
   "nav_menu": {},
   "number_sections": true,
   "sideBar": true,
   "skip_h1_title": true,
   "title_cell": "Table of Contents",
   "title_sidebar": "Contents",
   "toc_cell": false,
   "toc_position": {
    "height": "calc(100% - 180px)",
    "left": "10px",
    "top": "150px",
    "width": "335.2px"
   },
   "toc_section_display": true,
   "toc_window_display": true
  }
 },
 "nbformat": 4,
 "nbformat_minor": 2
}
